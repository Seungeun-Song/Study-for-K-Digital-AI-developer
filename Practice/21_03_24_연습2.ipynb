{
  "nbformat": 4,
  "nbformat_minor": 0,
  "metadata": {
    "colab": {
      "name": "018_CNN_Dogs_and_Cats_VGG16_Feature_Extraction_GPU.ipynb",
      "provenance": []
    },
    "kernelspec": {
      "name": "python3",
      "display_name": "Python 3"
    },
    "language_info": {
      "name": "python"
    },
    "accelerator": "GPU"
  },
  "cells": [
    {
      "cell_type": "code",
      "metadata": {
        "colab": {
          "base_uri": "https://localhost:8080/",
          "height": 35
        },
        "id": "PIlZV1THi_pn",
        "outputId": "27474bd0-3856-41b7-c00d-59551422d185"
      },
      "source": [
        "import keras \n",
        "keras.__version__"
      ],
      "execution_count": 21,
      "outputs": [
        {
          "output_type": "execute_result",
          "data": {
            "application/vnd.google.colaboratory.intrinsic+json": {
              "type": "string"
            },
            "text/plain": [
              "'2.4.3'"
            ]
          },
          "metadata": {
            "tags": []
          },
          "execution_count": 21
        }
      ]
    },
    {
      "cell_type": "code",
      "metadata": {
        "colab": {
          "base_uri": "https://localhost:8080/"
        },
        "id": "ceKwRtuSlEkj",
        "outputId": "42ff1ab7-88c7-4731-be96-2b8b7e02af62"
      },
      "source": [
        "from google.colab import drive\n",
        "drive.mount('/content/drive')"
      ],
      "execution_count": 22,
      "outputs": [
        {
          "output_type": "stream",
          "text": [
            "Drive already mounted at /content/drive; to attempt to forcibly remount, call drive.mount(\"/content/drive\", force_remount=True).\n"
          ],
          "name": "stdout"
        }
      ]
    },
    {
      "cell_type": "code",
      "metadata": {
        "colab": {
          "base_uri": "https://localhost:8080/"
        },
        "id": "plt8hAMClLZa",
        "outputId": "c62b6902-5056-4773-9345-6f0181f14618"
      },
      "source": [
        "!ls -l '/content/drive/My Drive/Colab Notebooks/datasets/dogs_and_cats_small.zip'"
      ],
      "execution_count": 23,
      "outputs": [
        {
          "output_type": "stream",
          "text": [
            "-rw------- 1 root root 90618980 Mar 24 04:25 '/content/drive/My Drive/Colab Notebooks/datasets/dogs_and_cats_small.zip'\n"
          ],
          "name": "stdout"
        }
      ]
    },
    {
      "cell_type": "code",
      "metadata": {
        "colab": {
          "base_uri": "https://localhost:8080/"
        },
        "id": "pYb4wOGelXyi",
        "outputId": "b043c122-5832-481e-9fee-9649055914f9"
      },
      "source": [
        "!unzip /content/drive/My\\ Drive/Colab\\ Notebooks/datasets/dogs_and_cats_small.zip"
      ],
      "execution_count": 24,
      "outputs": [
        {
          "output_type": "stream",
          "text": [
            "Archive:  /content/drive/My Drive/Colab Notebooks/datasets/dogs_and_cats_small.zip\n",
            "replace test/cats/cat.1501.jpg? [y]es, [n]o, [A]ll, [N]one, [r]ename: n\n",
            "replace test/cats/cat.1502.jpg? [y]es, [n]o, [A]ll, [N]one, [r]ename: "
          ],
          "name": "stdout"
        }
      ]
    },
    {
      "cell_type": "code",
      "metadata": {
        "colab": {
          "base_uri": "https://localhost:8080/"
        },
        "id": "l9wnAgLzlczC",
        "outputId": "03004b68-be4d-414c-85c9-8255c694f3c9"
      },
      "source": [
        "!ls -l"
      ],
      "execution_count": 25,
      "outputs": [
        {
          "output_type": "stream",
          "text": [
            "total 20\n",
            "drwx------ 5 root root 4096 Mar 24 04:53 drive\n",
            "drwxr-xr-x 1 root root 4096 Mar 18 13:36 sample_data\n",
            "drwxr-xr-x 4 root root 4096 Mar 24 04:54 test\n",
            "drwxr-xr-x 4 root root 4096 Mar 24 04:54 train\n",
            "drwxr-xr-x 4 root root 4096 Mar 24 04:54 validation\n"
          ],
          "name": "stdout"
        }
      ]
    },
    {
      "cell_type": "code",
      "metadata": {
        "id": "UC2m26YslfL5"
      },
      "source": [
        "train_dir = 'train'\n",
        "valid_dir = 'validation'\n",
        "test_dir = 'test'"
      ],
      "execution_count": 26,
      "outputs": []
    },
    {
      "cell_type": "code",
      "metadata": {
        "id": "hAV539gFlkSh"
      },
      "source": [
        "from keras.applications import VGG16\n",
        "\n",
        "conv_base = VGG16(weights= 'imagenet', include_top = False, # DNN부분은 가져오지 않겠다는(FALSE). CNN부분만 발췌\n",
        "                  input_shape = (150, 150, 3))"
      ],
      "execution_count": 27,
      "outputs": []
    },
    {
      "cell_type": "code",
      "metadata": {
        "colab": {
          "base_uri": "https://localhost:8080/"
        },
        "id": "_CdtIQ_el52B",
        "outputId": "813776a3-f3ae-43ab-dd6b-d14388bae247"
      },
      "source": [
        "conv_base.summary()"
      ],
      "execution_count": 28,
      "outputs": [
        {
          "output_type": "stream",
          "text": [
            "Model: \"vgg16\"\n",
            "_________________________________________________________________\n",
            "Layer (type)                 Output Shape              Param #   \n",
            "=================================================================\n",
            "input_3 (InputLayer)         [(None, 150, 150, 3)]     0         \n",
            "_________________________________________________________________\n",
            "block1_conv1 (Conv2D)        (None, 150, 150, 64)      1792      \n",
            "_________________________________________________________________\n",
            "block1_conv2 (Conv2D)        (None, 150, 150, 64)      36928     \n",
            "_________________________________________________________________\n",
            "block1_pool (MaxPooling2D)   (None, 75, 75, 64)        0         \n",
            "_________________________________________________________________\n",
            "block2_conv1 (Conv2D)        (None, 75, 75, 128)       73856     \n",
            "_________________________________________________________________\n",
            "block2_conv2 (Conv2D)        (None, 75, 75, 128)       147584    \n",
            "_________________________________________________________________\n",
            "block2_pool (MaxPooling2D)   (None, 37, 37, 128)       0         \n",
            "_________________________________________________________________\n",
            "block3_conv1 (Conv2D)        (None, 37, 37, 256)       295168    \n",
            "_________________________________________________________________\n",
            "block3_conv2 (Conv2D)        (None, 37, 37, 256)       590080    \n",
            "_________________________________________________________________\n",
            "block3_conv3 (Conv2D)        (None, 37, 37, 256)       590080    \n",
            "_________________________________________________________________\n",
            "block3_pool (MaxPooling2D)   (None, 18, 18, 256)       0         \n",
            "_________________________________________________________________\n",
            "block4_conv1 (Conv2D)        (None, 18, 18, 512)       1180160   \n",
            "_________________________________________________________________\n",
            "block4_conv2 (Conv2D)        (None, 18, 18, 512)       2359808   \n",
            "_________________________________________________________________\n",
            "block4_conv3 (Conv2D)        (None, 18, 18, 512)       2359808   \n",
            "_________________________________________________________________\n",
            "block4_pool (MaxPooling2D)   (None, 9, 9, 512)         0         \n",
            "_________________________________________________________________\n",
            "block5_conv1 (Conv2D)        (None, 9, 9, 512)         2359808   \n",
            "_________________________________________________________________\n",
            "block5_conv2 (Conv2D)        (None, 9, 9, 512)         2359808   \n",
            "_________________________________________________________________\n",
            "block5_conv3 (Conv2D)        (None, 9, 9, 512)         2359808   \n",
            "_________________________________________________________________\n",
            "block5_pool (MaxPooling2D)   (None, 4, 4, 512)         0         \n",
            "=================================================================\n",
            "Total params: 14,714,688\n",
            "Trainable params: 14,714,688\n",
            "Non-trainable params: 0\n",
            "_________________________________________________________________\n"
          ],
          "name": "stdout"
        }
      ]
    },
    {
      "cell_type": "code",
      "metadata": {
        "id": "CgFz3ij-mKo5"
      },
      "source": [
        "from keras.preprocessing.image import ImageDataGenerator\n",
        "import numpy as np\n",
        "\n",
        "datagen = ImageDataGenerator(rescale= 1./255)\n",
        "batch_size=20\n",
        "\n",
        "def extract_features(directory, sample_count):\n",
        "  features = np.zeros(shape = (sample_count, 4, 4, 512))\n",
        "  labels = np.zeros(shape = (sample_count))\n",
        "\n",
        "  generator = datagen.flow_from_directory(directory, target_size=(150,150), batch_size=batch_size, class_mode='binary')\n",
        "\n",
        "  i = 0\n",
        "  for inputs_batch, labels_batch in generator:\n",
        "    features_batch = conv_base.predict(inputs_batch)\n",
        "    features[i * batch_size : (i + 1) * batch_size] = features_batch\n",
        "    labels[i * batch_size : ( i + 1) * batch_size] = labels_batch\n",
        "    i += 1\n",
        "    if i * batch_size >= sample_count:\n",
        "      break\n",
        "  return features, labels"
      ],
      "execution_count": 29,
      "outputs": []
    },
    {
      "cell_type": "code",
      "metadata": {
        "colab": {
          "base_uri": "https://localhost:8080/"
        },
        "id": "XnVLGrwpoCBa",
        "outputId": "ea6abb3a-1dea-4289-cc96-9c4fe3805a26"
      },
      "source": [
        "%%time\n",
        "\n",
        "train_features, train_labels = extract_features(train_dir, 2000)\n",
        "valid_features, valid_labels = extract_features(valid_dir, 1000)\n",
        "test_features, test_labels = extract_features(test_dir, 1000)"
      ],
      "execution_count": 30,
      "outputs": [
        {
          "output_type": "stream",
          "text": [
            "Found 2000 images belonging to 2 classes.\n",
            "Found 1000 images belonging to 2 classes.\n",
            "Found 1000 images belonging to 2 classes.\n",
            "CPU times: user 21.6 s, sys: 4.55 s, total: 26.1 s\n",
            "Wall time: 25.9 s\n"
          ],
          "name": "stdout"
        }
      ]
    },
    {
      "cell_type": "code",
      "metadata": {
        "colab": {
          "base_uri": "https://localhost:8080/"
        },
        "id": "G6ESD7XfoUZX",
        "outputId": "49458492-711e-407b-d501-1b72163c3691"
      },
      "source": [
        "train_features.shape, valid_features.shape, test_features.shape"
      ],
      "execution_count": 31,
      "outputs": [
        {
          "output_type": "execute_result",
          "data": {
            "text/plain": [
              "((2000, 4, 4, 512), (1000, 4, 4, 512), (1000, 4, 4, 512))"
            ]
          },
          "metadata": {
            "tags": []
          },
          "execution_count": 31
        }
      ]
    },
    {
      "cell_type": "code",
      "metadata": {
        "id": "AJye5rruoojX",
        "colab": {
          "base_uri": "https://localhost:8080/"
        },
        "outputId": "801522ea-bafe-4072-f1ad-bc0849dd5c91"
      },
      "source": [
        "train_features = np.reshape(train_features, (2000, 4*4*512))\n",
        "valid_features = np.reshape(valid_features, (1000, 4*4*512))\n",
        "test_features = np.reshape(test_features, (1000, 4*4*512))\n",
        "\n",
        "train_features.shape, valid_features.shape, test_features.shape"
      ],
      "execution_count": 33,
      "outputs": [
        {
          "output_type": "execute_result",
          "data": {
            "text/plain": [
              "((2000, 8192), (1000, 8192), (1000, 8192))"
            ]
          },
          "metadata": {
            "tags": []
          },
          "execution_count": 33
        }
      ]
    },
    {
      "cell_type": "code",
      "metadata": {
        "colab": {
          "base_uri": "https://localhost:8080/"
        },
        "id": "8ZK9iXOlpi13",
        "outputId": "f497c3d2-0a32-4698-85de-1f867efcfc17"
      },
      "source": [
        "from keras import models, layers\n",
        "\n",
        "model = models.Sequential()\n",
        "model.add(layers.Dense(256, activation = 'relu', input_shape = (4*4*512,))) # input_dim=4*4*512\n",
        "model.add(layers.Dropout(0.5))\n",
        "model.add(layers.Dense(1, activation='sigmoid'))\n",
        "\n",
        "model.summary()"
      ],
      "execution_count": 36,
      "outputs": [
        {
          "output_type": "stream",
          "text": [
            "Model: \"sequential_1\"\n",
            "_________________________________________________________________\n",
            "Layer (type)                 Output Shape              Param #   \n",
            "=================================================================\n",
            "dense_1 (Dense)              (None, 256)               2097408   \n",
            "_________________________________________________________________\n",
            "dropout (Dropout)            (None, 256)               0         \n",
            "_________________________________________________________________\n",
            "dense_2 (Dense)              (None, 1)                 257       \n",
            "=================================================================\n",
            "Total params: 2,097,665\n",
            "Trainable params: 2,097,665\n",
            "Non-trainable params: 0\n",
            "_________________________________________________________________\n"
          ],
          "name": "stdout"
        }
      ]
    },
    {
      "cell_type": "code",
      "metadata": {
        "id": "VsMfD2-Wp7aG"
      },
      "source": [
        "model.compile(loss='binary_crossentropy', optimizer='adam', metrics=['accuracy'])"
      ],
      "execution_count": 37,
      "outputs": []
    },
    {
      "cell_type": "code",
      "metadata": {
        "colab": {
          "base_uri": "https://localhost:8080/"
        },
        "id": "rTDz88nRqPcv",
        "outputId": "785a7dcd-7d85-4104-9b31-8ec98e9cd63f"
      },
      "source": [
        "%%time\n",
        "\n",
        "Hist_dandc = model.fit(train_features, train_labels, epochs=100, batch_size=20, validation_data=(valid_features, valid_labels))"
      ],
      "execution_count": 38,
      "outputs": [
        {
          "output_type": "stream",
          "text": [
            "Epoch 1/100\n",
            "100/100 [==============================] - 1s 6ms/step - loss: 0.6415 - accuracy: 0.7464 - val_loss: 0.2714 - val_accuracy: 0.8850\n",
            "Epoch 2/100\n",
            "100/100 [==============================] - 0s 4ms/step - loss: 0.2722 - accuracy: 0.8939 - val_loss: 0.3776 - val_accuracy: 0.8440\n",
            "Epoch 3/100\n",
            "100/100 [==============================] - 0s 4ms/step - loss: 0.2440 - accuracy: 0.8920 - val_loss: 0.3136 - val_accuracy: 0.8730\n",
            "Epoch 4/100\n",
            "100/100 [==============================] - 0s 4ms/step - loss: 0.1579 - accuracy: 0.9306 - val_loss: 0.2478 - val_accuracy: 0.8950\n",
            "Epoch 5/100\n",
            "100/100 [==============================] - 0s 4ms/step - loss: 0.1305 - accuracy: 0.9537 - val_loss: 0.4205 - val_accuracy: 0.8460\n",
            "Epoch 6/100\n",
            "100/100 [==============================] - 0s 4ms/step - loss: 0.1269 - accuracy: 0.9548 - val_loss: 0.3042 - val_accuracy: 0.8850\n",
            "Epoch 7/100\n",
            "100/100 [==============================] - 0s 4ms/step - loss: 0.0836 - accuracy: 0.9686 - val_loss: 0.2594 - val_accuracy: 0.9050\n",
            "Epoch 8/100\n",
            "100/100 [==============================] - 0s 4ms/step - loss: 0.0909 - accuracy: 0.9648 - val_loss: 0.3736 - val_accuracy: 0.8750\n",
            "Epoch 9/100\n",
            "100/100 [==============================] - 0s 4ms/step - loss: 0.1033 - accuracy: 0.9497 - val_loss: 0.3071 - val_accuracy: 0.8990\n",
            "Epoch 10/100\n",
            "100/100 [==============================] - 0s 4ms/step - loss: 0.0678 - accuracy: 0.9783 - val_loss: 0.2817 - val_accuracy: 0.9060\n",
            "Epoch 11/100\n",
            "100/100 [==============================] - 0s 4ms/step - loss: 0.0521 - accuracy: 0.9799 - val_loss: 0.3239 - val_accuracy: 0.9030\n",
            "Epoch 12/100\n",
            "100/100 [==============================] - 0s 4ms/step - loss: 0.0328 - accuracy: 0.9886 - val_loss: 0.3660 - val_accuracy: 0.8910\n",
            "Epoch 13/100\n",
            "100/100 [==============================] - 0s 4ms/step - loss: 0.0490 - accuracy: 0.9817 - val_loss: 0.3799 - val_accuracy: 0.8930\n",
            "Epoch 14/100\n",
            "100/100 [==============================] - 0s 4ms/step - loss: 0.0290 - accuracy: 0.9879 - val_loss: 0.3325 - val_accuracy: 0.8990\n",
            "Epoch 15/100\n",
            "100/100 [==============================] - 0s 4ms/step - loss: 0.0309 - accuracy: 0.9909 - val_loss: 0.3861 - val_accuracy: 0.8960\n",
            "Epoch 16/100\n",
            "100/100 [==============================] - 0s 4ms/step - loss: 0.0535 - accuracy: 0.9808 - val_loss: 0.3492 - val_accuracy: 0.8950\n",
            "Epoch 17/100\n",
            "100/100 [==============================] - 0s 4ms/step - loss: 0.0276 - accuracy: 0.9936 - val_loss: 0.4523 - val_accuracy: 0.8850\n",
            "Epoch 18/100\n",
            "100/100 [==============================] - 0s 4ms/step - loss: 0.0201 - accuracy: 0.9952 - val_loss: 0.4284 - val_accuracy: 0.8860\n",
            "Epoch 19/100\n",
            "100/100 [==============================] - 0s 4ms/step - loss: 0.0232 - accuracy: 0.9930 - val_loss: 0.4106 - val_accuracy: 0.9030\n",
            "Epoch 20/100\n",
            "100/100 [==============================] - 0s 4ms/step - loss: 0.0123 - accuracy: 0.9979 - val_loss: 0.4756 - val_accuracy: 0.8910\n",
            "Epoch 21/100\n",
            "100/100 [==============================] - 0s 4ms/step - loss: 0.0167 - accuracy: 0.9948 - val_loss: 0.3998 - val_accuracy: 0.8880\n",
            "Epoch 22/100\n",
            "100/100 [==============================] - 0s 4ms/step - loss: 0.0226 - accuracy: 0.9944 - val_loss: 0.4370 - val_accuracy: 0.9010\n",
            "Epoch 23/100\n",
            "100/100 [==============================] - 0s 4ms/step - loss: 0.0301 - accuracy: 0.9890 - val_loss: 0.4432 - val_accuracy: 0.8870\n",
            "Epoch 24/100\n",
            "100/100 [==============================] - 0s 4ms/step - loss: 0.0186 - accuracy: 0.9957 - val_loss: 0.4794 - val_accuracy: 0.8950\n",
            "Epoch 25/100\n",
            "100/100 [==============================] - 0s 4ms/step - loss: 0.0250 - accuracy: 0.9919 - val_loss: 0.4782 - val_accuracy: 0.8920\n",
            "Epoch 26/100\n",
            "100/100 [==============================] - 0s 4ms/step - loss: 0.0192 - accuracy: 0.9922 - val_loss: 0.4544 - val_accuracy: 0.8930\n",
            "Epoch 27/100\n",
            "100/100 [==============================] - 0s 4ms/step - loss: 0.0160 - accuracy: 0.9946 - val_loss: 0.5852 - val_accuracy: 0.8740\n",
            "Epoch 28/100\n",
            "100/100 [==============================] - 0s 4ms/step - loss: 0.0190 - accuracy: 0.9950 - val_loss: 0.5067 - val_accuracy: 0.9060\n",
            "Epoch 29/100\n",
            "100/100 [==============================] - 0s 4ms/step - loss: 0.0078 - accuracy: 0.9986 - val_loss: 0.5230 - val_accuracy: 0.8840\n",
            "Epoch 30/100\n",
            "100/100 [==============================] - 0s 4ms/step - loss: 0.0291 - accuracy: 0.9898 - val_loss: 0.4863 - val_accuracy: 0.8790\n",
            "Epoch 31/100\n",
            "100/100 [==============================] - 0s 4ms/step - loss: 0.0418 - accuracy: 0.9844 - val_loss: 0.4449 - val_accuracy: 0.8940\n",
            "Epoch 32/100\n",
            "100/100 [==============================] - 0s 4ms/step - loss: 0.0209 - accuracy: 0.9941 - val_loss: 0.4682 - val_accuracy: 0.9020\n",
            "Epoch 33/100\n",
            "100/100 [==============================] - 0s 4ms/step - loss: 0.0248 - accuracy: 0.9918 - val_loss: 0.4290 - val_accuracy: 0.8990\n",
            "Epoch 34/100\n",
            "100/100 [==============================] - 0s 4ms/step - loss: 0.0284 - accuracy: 0.9918 - val_loss: 0.4513 - val_accuracy: 0.8900\n",
            "Epoch 35/100\n",
            "100/100 [==============================] - 0s 4ms/step - loss: 0.0153 - accuracy: 0.9925 - val_loss: 0.4722 - val_accuracy: 0.8970\n",
            "Epoch 36/100\n",
            "100/100 [==============================] - 0s 4ms/step - loss: 0.0151 - accuracy: 0.9962 - val_loss: 0.4171 - val_accuracy: 0.8950\n",
            "Epoch 37/100\n",
            "100/100 [==============================] - 0s 4ms/step - loss: 0.0229 - accuracy: 0.9878 - val_loss: 0.4321 - val_accuracy: 0.8930\n",
            "Epoch 38/100\n",
            "100/100 [==============================] - 0s 4ms/step - loss: 0.0196 - accuracy: 0.9953 - val_loss: 0.4447 - val_accuracy: 0.8980\n",
            "Epoch 39/100\n",
            "100/100 [==============================] - 0s 4ms/step - loss: 0.0165 - accuracy: 0.9938 - val_loss: 0.4300 - val_accuracy: 0.9000\n",
            "Epoch 40/100\n",
            "100/100 [==============================] - 0s 4ms/step - loss: 0.0239 - accuracy: 0.9913 - val_loss: 0.5513 - val_accuracy: 0.8940\n",
            "Epoch 41/100\n",
            "100/100 [==============================] - 0s 4ms/step - loss: 0.0251 - accuracy: 0.9916 - val_loss: 0.6609 - val_accuracy: 0.8900\n",
            "Epoch 42/100\n",
            "100/100 [==============================] - 0s 4ms/step - loss: 0.0246 - accuracy: 0.9916 - val_loss: 0.5494 - val_accuracy: 0.8970\n",
            "Epoch 43/100\n",
            "100/100 [==============================] - 0s 4ms/step - loss: 0.0395 - accuracy: 0.9822 - val_loss: 0.5404 - val_accuracy: 0.9000\n",
            "Epoch 44/100\n",
            "100/100 [==============================] - 0s 4ms/step - loss: 0.0269 - accuracy: 0.9898 - val_loss: 0.5772 - val_accuracy: 0.8930\n",
            "Epoch 45/100\n",
            "100/100 [==============================] - 0s 4ms/step - loss: 0.0131 - accuracy: 0.9962 - val_loss: 0.4836 - val_accuracy: 0.8990\n",
            "Epoch 46/100\n",
            "100/100 [==============================] - 0s 4ms/step - loss: 0.0204 - accuracy: 0.9910 - val_loss: 0.6376 - val_accuracy: 0.8880\n",
            "Epoch 47/100\n",
            "100/100 [==============================] - 0s 4ms/step - loss: 0.0100 - accuracy: 0.9960 - val_loss: 0.5826 - val_accuracy: 0.9040\n",
            "Epoch 48/100\n",
            "100/100 [==============================] - 0s 4ms/step - loss: 0.0155 - accuracy: 0.9959 - val_loss: 0.5559 - val_accuracy: 0.8980\n",
            "Epoch 49/100\n",
            "100/100 [==============================] - 0s 4ms/step - loss: 0.0219 - accuracy: 0.9921 - val_loss: 0.5685 - val_accuracy: 0.8880\n",
            "Epoch 50/100\n",
            "100/100 [==============================] - 0s 4ms/step - loss: 0.0207 - accuracy: 0.9913 - val_loss: 0.6663 - val_accuracy: 0.8960\n",
            "Epoch 51/100\n",
            "100/100 [==============================] - 0s 4ms/step - loss: 0.0139 - accuracy: 0.9953 - val_loss: 0.5628 - val_accuracy: 0.9000\n",
            "Epoch 52/100\n",
            "100/100 [==============================] - 0s 4ms/step - loss: 0.0080 - accuracy: 0.9973 - val_loss: 0.7130 - val_accuracy: 0.8930\n",
            "Epoch 53/100\n",
            "100/100 [==============================] - 0s 4ms/step - loss: 0.0160 - accuracy: 0.9928 - val_loss: 0.5324 - val_accuracy: 0.9000\n",
            "Epoch 54/100\n",
            "100/100 [==============================] - 0s 4ms/step - loss: 0.0139 - accuracy: 0.9950 - val_loss: 0.5775 - val_accuracy: 0.8950\n",
            "Epoch 55/100\n",
            "100/100 [==============================] - 0s 4ms/step - loss: 0.0077 - accuracy: 0.9961 - val_loss: 0.5891 - val_accuracy: 0.8900\n",
            "Epoch 56/100\n",
            "100/100 [==============================] - 0s 4ms/step - loss: 0.0097 - accuracy: 0.9967 - val_loss: 0.6452 - val_accuracy: 0.8860\n",
            "Epoch 57/100\n",
            "100/100 [==============================] - 0s 4ms/step - loss: 0.0243 - accuracy: 0.9902 - val_loss: 0.4976 - val_accuracy: 0.8970\n",
            "Epoch 58/100\n",
            "100/100 [==============================] - 0s 4ms/step - loss: 0.0383 - accuracy: 0.9879 - val_loss: 0.6614 - val_accuracy: 0.8850\n",
            "Epoch 59/100\n",
            "100/100 [==============================] - 0s 4ms/step - loss: 0.0094 - accuracy: 0.9965 - val_loss: 0.7507 - val_accuracy: 0.8930\n",
            "Epoch 60/100\n",
            "100/100 [==============================] - 0s 4ms/step - loss: 0.0105 - accuracy: 0.9951 - val_loss: 0.7054 - val_accuracy: 0.8900\n",
            "Epoch 61/100\n",
            "100/100 [==============================] - 0s 4ms/step - loss: 0.0121 - accuracy: 0.9946 - val_loss: 0.6346 - val_accuracy: 0.8960\n",
            "Epoch 62/100\n",
            "100/100 [==============================] - 0s 4ms/step - loss: 0.0049 - accuracy: 0.9980 - val_loss: 0.6892 - val_accuracy: 0.8990\n",
            "Epoch 63/100\n",
            "100/100 [==============================] - 0s 4ms/step - loss: 0.0331 - accuracy: 0.9895 - val_loss: 0.6262 - val_accuracy: 0.8900\n",
            "Epoch 64/100\n",
            "100/100 [==============================] - 0s 4ms/step - loss: 0.0363 - accuracy: 0.9882 - val_loss: 0.5520 - val_accuracy: 0.8990\n",
            "Epoch 65/100\n",
            "100/100 [==============================] - 0s 4ms/step - loss: 0.0256 - accuracy: 0.9914 - val_loss: 0.5678 - val_accuracy: 0.8960\n",
            "Epoch 66/100\n",
            "100/100 [==============================] - 0s 4ms/step - loss: 0.0070 - accuracy: 0.9978 - val_loss: 0.6156 - val_accuracy: 0.9020\n",
            "Epoch 67/100\n",
            "100/100 [==============================] - 0s 4ms/step - loss: 0.0078 - accuracy: 0.9978 - val_loss: 0.5756 - val_accuracy: 0.8960\n",
            "Epoch 68/100\n",
            "100/100 [==============================] - 0s 4ms/step - loss: 0.0092 - accuracy: 0.9976 - val_loss: 0.6343 - val_accuracy: 0.8960\n",
            "Epoch 69/100\n",
            "100/100 [==============================] - 0s 4ms/step - loss: 0.0097 - accuracy: 0.9981 - val_loss: 0.6345 - val_accuracy: 0.8950\n",
            "Epoch 70/100\n",
            "100/100 [==============================] - 0s 4ms/step - loss: 0.0333 - accuracy: 0.9953 - val_loss: 0.7338 - val_accuracy: 0.8950\n",
            "Epoch 71/100\n",
            "100/100 [==============================] - 0s 4ms/step - loss: 0.0043 - accuracy: 0.9982 - val_loss: 0.6841 - val_accuracy: 0.9030\n",
            "Epoch 72/100\n",
            "100/100 [==============================] - 0s 4ms/step - loss: 0.0056 - accuracy: 0.9983 - val_loss: 0.6636 - val_accuracy: 0.9080\n",
            "Epoch 73/100\n",
            "100/100 [==============================] - 0s 4ms/step - loss: 0.0132 - accuracy: 0.9942 - val_loss: 0.5848 - val_accuracy: 0.9010\n",
            "Epoch 74/100\n",
            "100/100 [==============================] - 0s 4ms/step - loss: 0.0212 - accuracy: 0.9948 - val_loss: 0.5559 - val_accuracy: 0.9090\n",
            "Epoch 75/100\n",
            "100/100 [==============================] - 0s 4ms/step - loss: 0.0116 - accuracy: 0.9971 - val_loss: 0.6915 - val_accuracy: 0.8980\n",
            "Epoch 76/100\n",
            "100/100 [==============================] - 0s 4ms/step - loss: 0.0041 - accuracy: 0.9992 - val_loss: 0.6583 - val_accuracy: 0.8970\n",
            "Epoch 77/100\n",
            "100/100 [==============================] - 0s 4ms/step - loss: 0.0122 - accuracy: 0.9931 - val_loss: 0.6589 - val_accuracy: 0.8910\n",
            "Epoch 78/100\n",
            "100/100 [==============================] - 0s 4ms/step - loss: 0.0094 - accuracy: 0.9972 - val_loss: 0.7229 - val_accuracy: 0.9040\n",
            "Epoch 79/100\n",
            "100/100 [==============================] - 0s 4ms/step - loss: 0.0039 - accuracy: 0.9988 - val_loss: 0.7601 - val_accuracy: 0.9000\n",
            "Epoch 80/100\n",
            "100/100 [==============================] - 0s 4ms/step - loss: 0.0161 - accuracy: 0.9927 - val_loss: 0.5923 - val_accuracy: 0.9010\n",
            "Epoch 81/100\n",
            "100/100 [==============================] - 0s 4ms/step - loss: 0.0114 - accuracy: 0.9954 - val_loss: 0.5808 - val_accuracy: 0.8980\n",
            "Epoch 82/100\n",
            "100/100 [==============================] - 0s 4ms/step - loss: 0.0101 - accuracy: 0.9954 - val_loss: 0.6607 - val_accuracy: 0.9050\n",
            "Epoch 83/100\n",
            "100/100 [==============================] - 0s 4ms/step - loss: 0.0063 - accuracy: 0.9972 - val_loss: 0.7098 - val_accuracy: 0.9030\n",
            "Epoch 84/100\n",
            "100/100 [==============================] - 0s 4ms/step - loss: 0.0047 - accuracy: 0.9982 - val_loss: 0.8813 - val_accuracy: 0.8890\n",
            "Epoch 85/100\n",
            "100/100 [==============================] - 0s 4ms/step - loss: 0.0240 - accuracy: 0.9926 - val_loss: 0.6745 - val_accuracy: 0.8990\n",
            "Epoch 86/100\n",
            "100/100 [==============================] - 0s 4ms/step - loss: 0.0108 - accuracy: 0.9958 - val_loss: 0.7747 - val_accuracy: 0.8970\n",
            "Epoch 87/100\n",
            "100/100 [==============================] - 0s 4ms/step - loss: 0.0313 - accuracy: 0.9874 - val_loss: 0.7745 - val_accuracy: 0.8990\n",
            "Epoch 88/100\n",
            "100/100 [==============================] - 0s 4ms/step - loss: 0.0304 - accuracy: 0.9907 - val_loss: 0.6833 - val_accuracy: 0.8920\n",
            "Epoch 89/100\n",
            "100/100 [==============================] - 0s 4ms/step - loss: 0.0189 - accuracy: 0.9915 - val_loss: 0.6667 - val_accuracy: 0.8940\n",
            "Epoch 90/100\n",
            "100/100 [==============================] - 0s 4ms/step - loss: 0.0071 - accuracy: 0.9983 - val_loss: 0.7216 - val_accuracy: 0.9010\n",
            "Epoch 91/100\n",
            "100/100 [==============================] - 0s 4ms/step - loss: 0.0134 - accuracy: 0.9950 - val_loss: 0.7743 - val_accuracy: 0.9010\n",
            "Epoch 92/100\n",
            "100/100 [==============================] - 0s 4ms/step - loss: 0.0144 - accuracy: 0.9954 - val_loss: 0.7395 - val_accuracy: 0.9060\n",
            "Epoch 93/100\n",
            "100/100 [==============================] - 0s 4ms/step - loss: 0.0099 - accuracy: 0.9953 - val_loss: 0.6824 - val_accuracy: 0.9030\n",
            "Epoch 94/100\n",
            "100/100 [==============================] - 0s 4ms/step - loss: 0.0057 - accuracy: 0.9985 - val_loss: 0.6676 - val_accuracy: 0.9080\n",
            "Epoch 95/100\n",
            "100/100 [==============================] - 0s 4ms/step - loss: 0.0080 - accuracy: 0.9964 - val_loss: 0.7658 - val_accuracy: 0.9030\n",
            "Epoch 96/100\n",
            "100/100 [==============================] - 0s 4ms/step - loss: 0.0118 - accuracy: 0.9932 - val_loss: 0.6678 - val_accuracy: 0.9020\n",
            "Epoch 97/100\n",
            "100/100 [==============================] - 0s 4ms/step - loss: 0.0055 - accuracy: 0.9975 - val_loss: 0.9310 - val_accuracy: 0.8890\n",
            "Epoch 98/100\n",
            "100/100 [==============================] - 0s 4ms/step - loss: 0.0072 - accuracy: 0.9977 - val_loss: 0.6418 - val_accuracy: 0.8980\n",
            "Epoch 99/100\n",
            "100/100 [==============================] - 0s 4ms/step - loss: 0.0039 - accuracy: 0.9992 - val_loss: 0.9016 - val_accuracy: 0.8850\n",
            "Epoch 100/100\n",
            "100/100 [==============================] - 0s 4ms/step - loss: 0.0129 - accuracy: 0.9940 - val_loss: 0.8884 - val_accuracy: 0.8990\n",
            "CPU times: user 42.9 s, sys: 4.82 s, total: 47.7 s\n",
            "Wall time: 38.7 s\n"
          ],
          "name": "stdout"
        }
      ]
    },
    {
      "cell_type": "code",
      "metadata": {
        "colab": {
          "base_uri": "https://localhost:8080/",
          "height": 513
        },
        "id": "eXdBzvd4qca3",
        "outputId": "a4476515-66cd-4e13-f521-65a081abe006"
      },
      "source": [
        "import matplotlib.pyplot as plt\n",
        "\n",
        "epochs = range(1, len(Hist_dandc.history['loss'])+1)\n",
        "\n",
        "\n",
        "plt.plot(epochs, Hist_dandc.history['loss'])\n",
        "plt.plot(epochs, Hist_dandc.history['val_loss'])\n",
        "plt.legend(['Training Loss','Test Loss'])\n",
        "plt.grid()\n",
        "plt.show()\n",
        "\n",
        "\n",
        "\n",
        "plt.plot(epochs, Hist_dandc.history['accuracy'])\n",
        "plt.plot(epochs, Hist_dandc.history['val_accuracy'])\n",
        "plt.legend(['Training accuracy','Test accuracy'])\n",
        "plt.grid()\n",
        "plt.show()"
      ],
      "execution_count": 39,
      "outputs": [
        {
          "output_type": "display_data",
          "data": {
            "image/png": "[encoded data removed]",
            "text/plain": [
              "<Figure size 432x288 with 1 Axes>"
            ]
          },
          "metadata": {
            "tags": [],
            "needs_background": "light"
          }
        },
        {
          "output_type": "display_data",
          "data": {
            "image/png": "[encoded data removed]",
            "text/plain": [
              "<Figure size 432x288 with 1 Axes>"
            ]
          },
          "metadata": {
            "tags": [],
            "needs_background": "light"
          }
        }
      ]
    },
    {
      "cell_type": "code",
      "metadata": {
        "colab": {
          "base_uri": "https://localhost:8080/"
        },
        "id": "EFVkTda4q1IQ",
        "outputId": "37b210bf-ab0b-4897-d73a-198e96ef7d62"
      },
      "source": [
        "loss, accuracy = model.evaluate(test_features, test_labels)\n",
        "loss, accuracy"
      ],
      "execution_count": 40,
      "outputs": [
        {
          "output_type": "stream",
          "text": [
            "32/32 [==============================] - 0s 3ms/step - loss: 0.9542 - accuracy: 0.8750\n"
          ],
          "name": "stdout"
        },
        {
          "output_type": "execute_result",
          "data": {
            "text/plain": [
              "(0.9541575312614441, 0.875)"
            ]
          },
          "metadata": {
            "tags": []
          },
          "execution_count": 40
        }
      ]
    },
    {
      "cell_type": "code",
      "metadata": {
        "colab": {
          "base_uri": "https://localhost:8080/"
        },
        "id": "4j7oq6piq7TX",
        "outputId": "b44eaf6e-1555-4832-a472-82e34e78e124"
      },
      "source": [
        "from google.colab import drive\n",
        "\n",
        "drive.mount('/content/drive')"
      ],
      "execution_count": 41,
      "outputs": [
        {
          "output_type": "stream",
          "text": [
            "Drive already mounted at /content/drive; to attempt to forcibly remount, call drive.mount(\"/content/drive\", force_remount=True).\n"
          ],
          "name": "stdout"
        }
      ]
    },
    {
      "cell_type": "code",
      "metadata": {
        "id": "epxcxOv-rEK-"
      },
      "source": [
        "model.save('/content/drive/My Drive/Colab Notebooks/models/004_dogs_and_cats_features_extraction.h5')"
      ],
      "execution_count": 42,
      "outputs": []
    },
    {
      "cell_type": "code",
      "metadata": {
        "colab": {
          "base_uri": "https://localhost:8080/"
        },
        "id": "YwfCTGPfrQgH",
        "outputId": "3317102a-1dd9-4e69-a0a1-a43dcde15a57"
      },
      "source": [
        "!ls -l /content/drive/My\\ Drive/Colab\\ Notebooks/models"
      ],
      "execution_count": 43,
      "outputs": [
        {
          "output_type": "stream",
          "text": [
            "total 45456\n",
            "-rw------- 1 root root 21346912 Mar 24 04:32 003_dogs_cats_augmentation.h5\n",
            "-rw------- 1 root root 25199032 Mar 24 05:20 004_dogs_and_cats_features_extraction.h5\n"
          ],
          "name": "stdout"
        }
      ]
    },
    {
      "cell_type": "code",
      "metadata": {
        "colab": {
          "base_uri": "https://localhost:8080/"
        },
        "id": "2FUrOf2ErXRm",
        "outputId": "787b523f-e3fd-4930-9015-ea81ff7f8531"
      },
      "source": [
        "from keras.models import load_model\n",
        "model_google = load_model('/content/drive/My Drive/Colab Notebooks/models/004_dogs_and_cats_features_extraction.h5')\n",
        "\n",
        "loss, accuracy = model_google.evaluate(test_features, test_labels)\n",
        "loss, accuracy"
      ],
      "execution_count": 44,
      "outputs": [
        {
          "output_type": "stream",
          "text": [
            "32/32 [==============================] - 0s 2ms/step - loss: 0.9542 - accuracy: 0.8750\n"
          ],
          "name": "stdout"
        },
        {
          "output_type": "execute_result",
          "data": {
            "text/plain": [
              "(0.9541575312614441, 0.875)"
            ]
          },
          "metadata": {
            "tags": []
          },
          "execution_count": 44
        }
      ]
    },
    {
      "cell_type": "code",
      "metadata": {
        "id": "vEHD1rH2roDO"
      },
      "source": [
        ""
      ],
      "execution_count": null,
      "outputs": []
    }
  ]
}