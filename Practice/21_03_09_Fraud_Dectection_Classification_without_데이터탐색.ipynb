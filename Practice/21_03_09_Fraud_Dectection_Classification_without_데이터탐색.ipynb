{
  "nbformat": 4,
  "nbformat_minor": 0,
  "metadata": {
    "colab": {
      "name": "Fraud_Dectection_Classification_without_데이터탐색",
      "provenance": []
    },
    "kernelspec": {
      "name": "python3",
      "display_name": "Python 3"
    }
  },
  "cells": [
    {
      "cell_type": "code",
      "metadata": {
        "colab": {
          "base_uri": "https://localhost:8080/"
        },
        "id": "Qz3jpUHZJ5-l",
        "outputId": "a44155d2-362e-495e-d797-f62a7519c365"
      },
      "source": [
        "from google.colab import drive\r\n",
        "drive.mount('/content/drive')"
      ],
      "execution_count": null,
      "outputs": [
        {
          "output_type": "stream",
          "text": [
            "Mounted at /content/drive\n"
          ],
          "name": "stdout"
        }
      ]
    },
    {
      "cell_type": "code",
      "metadata": {
        "colab": {
          "base_uri": "https://localhost:8080/"
        },
        "id": "olWFOqwmKEoT",
        "outputId": "603f13e0-f974-4d55-a043-56e3c7d8e917"
      },
      "source": [
        "# /content/drive/My Drive/ = 구글 드라이브(내 드라이브) 경로\r\n",
        "\r\n",
        "!ls -l '/content/drive/My Drive/Colab Notebooks/datasets/creditCardFraud.zip'"
      ],
      "execution_count": null,
      "outputs": [
        {
          "output_type": "stream",
          "text": [
            "-rw------- 1 root root 69155672 Mar  9 02:39 '/content/drive/My Drive/Colab Notebooks/datasets/creditCardFraud.zip'\n"
          ],
          "name": "stdout"
        }
      ]
    },
    {
      "cell_type": "code",
      "metadata": {
        "colab": {
          "base_uri": "https://localhost:8080/"
        },
        "id": "l7tC8DTwKRpS",
        "outputId": "97adcad4-7a21-4c33-f128-a843514de705"
      },
      "source": [
        "!unzip /content/drive/My\\ Drive/Colab\\ Notebooks/datasets/creditCardFraud.zip"
      ],
      "execution_count": null,
      "outputs": [
        {
          "output_type": "stream",
          "text": [
            "Archive:  /content/drive/My Drive/Colab Notebooks/datasets/creditCardFraud.zip\n",
            "  inflating: creditcard.csv          \n"
          ],
          "name": "stdout"
        }
      ]
    },
    {
      "cell_type": "code",
      "metadata": {
        "colab": {
          "base_uri": "https://localhost:8080/"
        },
        "id": "F9F2pKcKKbRq",
        "outputId": "39aeff1a-099f-424b-ff62-3949df782ed9"
      },
      "source": [
        "!ls -l"
      ],
      "execution_count": null,
      "outputs": [
        {
          "output_type": "stream",
          "text": [
            "total 147304\n",
            "-rw-r--r-- 1 root root 150828752 Sep 20  2019 creditcard.csv\n",
            "drwx------ 5 root root      4096 Mar  9 08:42 drive\n",
            "drwxr-xr-x 1 root root      4096 Mar  5 14:37 sample_data\n"
          ],
          "name": "stdout"
        }
      ]
    },
    {
      "cell_type": "markdown",
      "metadata": {
        "id": "mS2GS4r2lG82"
      },
      "source": [
        "# 1, Data Preprocessing"
      ]
    },
    {
      "cell_type": "code",
      "metadata": {
        "id": "N1fl9cxujqxD"
      },
      "source": [
        "import numpy as np\r\n",
        "from sklearn.ensemble import RandomForestClassifier\r\n",
        "from sklearn.metrics import accuracy_score, recall_score, precision_score\r\n",
        "from lightgbm import LGBMClassifier\r\n",
        "import seaborn as sns\r\n",
        "import matplotlib.pyplot as plt\r\n",
        "from sklearn.model_selection import train_test_split\r\n",
        "from imblearn.over_sampling import SMOTE\r\n",
        "from sklearn.linear_model import LogisticRegression\r\n",
        "from sklearn.tree import DecisionTreeClassifier"
      ],
      "execution_count": 68,
      "outputs": []
    },
    {
      "cell_type": "code",
      "metadata": {
        "colab": {
          "base_uri": "https://localhost:8080/"
        },
        "id": "jnRczId5Khsw",
        "outputId": "e513938d-3897-438e-c6fa-041645fa6a28"
      },
      "source": [
        "%%time\r\n",
        "import pandas as pd\r\n",
        "\r\n",
        "DF = pd.read_csv('creditcard.csv')\r\n",
        "DF.info()"
      ],
      "execution_count": null,
      "outputs": [
        {
          "output_type": "stream",
          "text": [
            "<class 'pandas.core.frame.DataFrame'>\n",
            "RangeIndex: 284807 entries, 0 to 284806\n",
            "Data columns (total 31 columns):\n",
            " #   Column  Non-Null Count   Dtype  \n",
            "---  ------  --------------   -----  \n",
            " 0   Time    284807 non-null  float64\n",
            " 1   V1      284807 non-null  float64\n",
            " 2   V2      284807 non-null  float64\n",
            " 3   V3      284807 non-null  float64\n",
            " 4   V4      284807 non-null  float64\n",
            " 5   V5      284807 non-null  float64\n",
            " 6   V6      284807 non-null  float64\n",
            " 7   V7      284807 non-null  float64\n",
            " 8   V8      284807 non-null  float64\n",
            " 9   V9      284807 non-null  float64\n",
            " 10  V10     284807 non-null  float64\n",
            " 11  V11     284807 non-null  float64\n",
            " 12  V12     284807 non-null  float64\n",
            " 13  V13     284807 non-null  float64\n",
            " 14  V14     284807 non-null  float64\n",
            " 15  V15     284807 non-null  float64\n",
            " 16  V16     284807 non-null  float64\n",
            " 17  V17     284807 non-null  float64\n",
            " 18  V18     284807 non-null  float64\n",
            " 19  V19     284807 non-null  float64\n",
            " 20  V20     284807 non-null  float64\n",
            " 21  V21     284807 non-null  float64\n",
            " 22  V22     284807 non-null  float64\n",
            " 23  V23     284807 non-null  float64\n",
            " 24  V24     284807 non-null  float64\n",
            " 25  V25     284807 non-null  float64\n",
            " 26  V26     284807 non-null  float64\n",
            " 27  V27     284807 non-null  float64\n",
            " 28  V28     284807 non-null  float64\n",
            " 29  Amount  284807 non-null  float64\n",
            " 30  Class   284807 non-null  int64  \n",
            "dtypes: float64(30), int64(1)\n",
            "memory usage: 67.4 MB\n",
            "CPU times: user 2.19 s, sys: 50.7 ms, total: 2.24 s\n",
            "Wall time: 2.24 s\n"
          ],
          "name": "stdout"
        }
      ]
    },
    {
      "cell_type": "code",
      "metadata": {
        "colab": {
          "base_uri": "https://localhost:8080/",
          "height": 218
        },
        "id": "o9AYyjHRSJp8",
        "outputId": "f4075a8c-cfdd-43ac-e245-a387a216c69f"
      },
      "source": [
        "DF.drop('Time', axis=1, inplace=True)\r\n",
        "DF.head()"
      ],
      "execution_count": null,
      "outputs": [
        {
          "output_type": "execute_result",
          "data": {
            "text/html": [
              "<div>\n",
              "<style scoped>\n",
              "    .dataframe tbody tr th:only-of-type {\n",
              "        vertical-align: middle;\n",
              "    }\n",
              "\n",
              "    .dataframe tbody tr th {\n",
              "        vertical-align: top;\n",
              "    }\n",
              "\n",
              "    .dataframe thead th {\n",
              "        text-align: right;\n",
              "    }\n",
              "</style>\n",
              "<table border=\"1\" class=\"dataframe\">\n",
              "  <thead>\n",
              "    <tr style=\"text-align: right;\">\n",
              "      <th></th>\n",
              "      <th>V1</th>\n",
              "      <th>V2</th>\n",
              "      <th>V3</th>\n",
              "      <th>V4</th>\n",
              "      <th>V5</th>\n",
              "      <th>V6</th>\n",
              "      <th>V7</th>\n",
              "      <th>V8</th>\n",
              "      <th>V9</th>\n",
              "      <th>V10</th>\n",
              "      <th>V11</th>\n",
              "      <th>V12</th>\n",
              "      <th>V13</th>\n",
              "      <th>V14</th>\n",
              "      <th>V15</th>\n",
              "      <th>V16</th>\n",
              "      <th>V17</th>\n",
              "      <th>V18</th>\n",
              "      <th>V19</th>\n",
              "      <th>V20</th>\n",
              "      <th>V21</th>\n",
              "      <th>V22</th>\n",
              "      <th>V23</th>\n",
              "      <th>V24</th>\n",
              "      <th>V25</th>\n",
              "      <th>V26</th>\n",
              "      <th>V27</th>\n",
              "      <th>V28</th>\n",
              "      <th>Amount</th>\n",
              "      <th>Class</th>\n",
              "    </tr>\n",
              "  </thead>\n",
              "  <tbody>\n",
              "    <tr>\n",
              "      <th>0</th>\n",
              "      <td>-1.359807</td>\n",
              "      <td>-0.072781</td>\n",
              "      <td>2.536347</td>\n",
              "      <td>1.378155</td>\n",
              "      <td>-0.338321</td>\n",
              "      <td>0.462388</td>\n",
              "      <td>0.239599</td>\n",
              "      <td>0.098698</td>\n",
              "      <td>0.363787</td>\n",
              "      <td>0.090794</td>\n",
              "      <td>-0.551600</td>\n",
              "      <td>-0.617801</td>\n",
              "      <td>-0.991390</td>\n",
              "      <td>-0.311169</td>\n",
              "      <td>1.468177</td>\n",
              "      <td>-0.470401</td>\n",
              "      <td>0.207971</td>\n",
              "      <td>0.025791</td>\n",
              "      <td>0.403993</td>\n",
              "      <td>0.251412</td>\n",
              "      <td>-0.018307</td>\n",
              "      <td>0.277838</td>\n",
              "      <td>-0.110474</td>\n",
              "      <td>0.066928</td>\n",
              "      <td>0.128539</td>\n",
              "      <td>-0.189115</td>\n",
              "      <td>0.133558</td>\n",
              "      <td>-0.021053</td>\n",
              "      <td>149.62</td>\n",
              "      <td>0</td>\n",
              "    </tr>\n",
              "    <tr>\n",
              "      <th>1</th>\n",
              "      <td>1.191857</td>\n",
              "      <td>0.266151</td>\n",
              "      <td>0.166480</td>\n",
              "      <td>0.448154</td>\n",
              "      <td>0.060018</td>\n",
              "      <td>-0.082361</td>\n",
              "      <td>-0.078803</td>\n",
              "      <td>0.085102</td>\n",
              "      <td>-0.255425</td>\n",
              "      <td>-0.166974</td>\n",
              "      <td>1.612727</td>\n",
              "      <td>1.065235</td>\n",
              "      <td>0.489095</td>\n",
              "      <td>-0.143772</td>\n",
              "      <td>0.635558</td>\n",
              "      <td>0.463917</td>\n",
              "      <td>-0.114805</td>\n",
              "      <td>-0.183361</td>\n",
              "      <td>-0.145783</td>\n",
              "      <td>-0.069083</td>\n",
              "      <td>-0.225775</td>\n",
              "      <td>-0.638672</td>\n",
              "      <td>0.101288</td>\n",
              "      <td>-0.339846</td>\n",
              "      <td>0.167170</td>\n",
              "      <td>0.125895</td>\n",
              "      <td>-0.008983</td>\n",
              "      <td>0.014724</td>\n",
              "      <td>2.69</td>\n",
              "      <td>0</td>\n",
              "    </tr>\n",
              "    <tr>\n",
              "      <th>2</th>\n",
              "      <td>-1.358354</td>\n",
              "      <td>-1.340163</td>\n",
              "      <td>1.773209</td>\n",
              "      <td>0.379780</td>\n",
              "      <td>-0.503198</td>\n",
              "      <td>1.800499</td>\n",
              "      <td>0.791461</td>\n",
              "      <td>0.247676</td>\n",
              "      <td>-1.514654</td>\n",
              "      <td>0.207643</td>\n",
              "      <td>0.624501</td>\n",
              "      <td>0.066084</td>\n",
              "      <td>0.717293</td>\n",
              "      <td>-0.165946</td>\n",
              "      <td>2.345865</td>\n",
              "      <td>-2.890083</td>\n",
              "      <td>1.109969</td>\n",
              "      <td>-0.121359</td>\n",
              "      <td>-2.261857</td>\n",
              "      <td>0.524980</td>\n",
              "      <td>0.247998</td>\n",
              "      <td>0.771679</td>\n",
              "      <td>0.909412</td>\n",
              "      <td>-0.689281</td>\n",
              "      <td>-0.327642</td>\n",
              "      <td>-0.139097</td>\n",
              "      <td>-0.055353</td>\n",
              "      <td>-0.059752</td>\n",
              "      <td>378.66</td>\n",
              "      <td>0</td>\n",
              "    </tr>\n",
              "    <tr>\n",
              "      <th>3</th>\n",
              "      <td>-0.966272</td>\n",
              "      <td>-0.185226</td>\n",
              "      <td>1.792993</td>\n",
              "      <td>-0.863291</td>\n",
              "      <td>-0.010309</td>\n",
              "      <td>1.247203</td>\n",
              "      <td>0.237609</td>\n",
              "      <td>0.377436</td>\n",
              "      <td>-1.387024</td>\n",
              "      <td>-0.054952</td>\n",
              "      <td>-0.226487</td>\n",
              "      <td>0.178228</td>\n",
              "      <td>0.507757</td>\n",
              "      <td>-0.287924</td>\n",
              "      <td>-0.631418</td>\n",
              "      <td>-1.059647</td>\n",
              "      <td>-0.684093</td>\n",
              "      <td>1.965775</td>\n",
              "      <td>-1.232622</td>\n",
              "      <td>-0.208038</td>\n",
              "      <td>-0.108300</td>\n",
              "      <td>0.005274</td>\n",
              "      <td>-0.190321</td>\n",
              "      <td>-1.175575</td>\n",
              "      <td>0.647376</td>\n",
              "      <td>-0.221929</td>\n",
              "      <td>0.062723</td>\n",
              "      <td>0.061458</td>\n",
              "      <td>123.50</td>\n",
              "      <td>0</td>\n",
              "    </tr>\n",
              "    <tr>\n",
              "      <th>4</th>\n",
              "      <td>-1.158233</td>\n",
              "      <td>0.877737</td>\n",
              "      <td>1.548718</td>\n",
              "      <td>0.403034</td>\n",
              "      <td>-0.407193</td>\n",
              "      <td>0.095921</td>\n",
              "      <td>0.592941</td>\n",
              "      <td>-0.270533</td>\n",
              "      <td>0.817739</td>\n",
              "      <td>0.753074</td>\n",
              "      <td>-0.822843</td>\n",
              "      <td>0.538196</td>\n",
              "      <td>1.345852</td>\n",
              "      <td>-1.119670</td>\n",
              "      <td>0.175121</td>\n",
              "      <td>-0.451449</td>\n",
              "      <td>-0.237033</td>\n",
              "      <td>-0.038195</td>\n",
              "      <td>0.803487</td>\n",
              "      <td>0.408542</td>\n",
              "      <td>-0.009431</td>\n",
              "      <td>0.798278</td>\n",
              "      <td>-0.137458</td>\n",
              "      <td>0.141267</td>\n",
              "      <td>-0.206010</td>\n",
              "      <td>0.502292</td>\n",
              "      <td>0.219422</td>\n",
              "      <td>0.215153</td>\n",
              "      <td>69.99</td>\n",
              "      <td>0</td>\n",
              "    </tr>\n",
              "  </tbody>\n",
              "</table>\n",
              "</div>"
            ],
            "text/plain": [
              "         V1        V2        V3        V4  ...       V27       V28  Amount  Class\n",
              "0 -1.359807 -0.072781  2.536347  1.378155  ...  0.133558 -0.021053  149.62      0\n",
              "1  1.191857  0.266151  0.166480  0.448154  ... -0.008983  0.014724    2.69      0\n",
              "2 -1.358354 -1.340163  1.773209  0.379780  ... -0.055353 -0.059752  378.66      0\n",
              "3 -0.966272 -0.185226  1.792993 -0.863291  ...  0.062723  0.061458  123.50      0\n",
              "4 -1.158233  0.877737  1.548718  0.403034  ...  0.219422  0.215153   69.99      0\n",
              "\n",
              "[5 rows x 30 columns]"
            ]
          },
          "metadata": {
            "tags": []
          },
          "execution_count": 13
        }
      ]
    },
    {
      "cell_type": "markdown",
      "metadata": {
        "id": "Xal511o8MKyH"
      },
      "source": [
        "* 암호화된 데이터는 이해도가 떨어질 수 밖에 없다.\r\n",
        "* 따라서 어느정도 상관관계가 있는지 알 수 없으며, 비즈니스 입장에서 무엇을 고려해야할 지도 알 수 없다.\r\n",
        "* 어느정도 오차를 감안해야할 지도 알 수 없다\r\n",
        "* 따라서 **오차율을 낮추는 방식**으로 접근할 수 밖에."
      ]
    },
    {
      "cell_type": "code",
      "metadata": {
        "id": "JdII8Enro0s6"
      },
      "source": [
        "X = DF.iloc[:,:-1]\r\n",
        "y = DF['Class']"
      ],
      "execution_count": 47,
      "outputs": []
    },
    {
      "cell_type": "code",
      "metadata": {
        "colab": {
          "base_uri": "https://localhost:8080/"
        },
        "id": "NZTWONUVqBmC",
        "outputId": "510875b7-6400-4ce7-c9f9-0c78f8972663"
      },
      "source": [
        "from sklearn.model_selection import train_test_split\r\n",
        "\r\n",
        "X_train, X_test, y_train, y_test = train_test_split(X, y, test_size = 0.3, \r\n",
        "                                                    stratify = y, \r\n",
        "                                                    random_state = 2045)\r\n",
        "\r\n",
        "print('Train Data : ', X_train.shape, y_train.shape)\r\n",
        "print('Test Data : ', X_test.shape, y_test.shape)"
      ],
      "execution_count": 48,
      "outputs": [
        {
          "output_type": "stream",
          "text": [
            "Train Data :  (199364, 29) (199364,)\n",
            "Test Data :  (85443, 29) (85443,)\n"
          ],
          "name": "stdout"
        }
      ]
    },
    {
      "cell_type": "code",
      "metadata": {
        "id": "z8vuJMd31CyN"
      },
      "source": [
        "# accuracy_score/ precision_score/ recall_score\r\n",
        "Model_Result = []"
      ],
      "execution_count": null,
      "outputs": []
    },
    {
      "cell_type": "markdown",
      "metadata": {
        "id": "vlhZMjbsnI8a"
      },
      "source": [
        "# 2, Logistic Regression"
      ]
    },
    {
      "cell_type": "markdown",
      "metadata": {
        "id": "fnmb7N6Gnxix"
      },
      "source": [
        "## 1) 모델 생성"
      ]
    },
    {
      "cell_type": "code",
      "metadata": {
        "colab": {
          "base_uri": "https://localhost:8080/",
          "height": 455
        },
        "id": "ToXfCbUwpzKZ",
        "outputId": "e75749c0-f1bf-44e9-cf6c-e9ead8d04743"
      },
      "source": [
        "from sklearn.metrics import accuracy_score, recall_score, precision_score\r\n",
        "%%time\r\n",
        "LR_result = []\r\n",
        "count = 1\r\n",
        "a = [0.1, 0.3, 0.5, 0.7]\r\n",
        "\r\n",
        "for n in a:\r\n",
        "  LR = LogisticRegression(C = n, penalty='l2', multi_class='multinomial', n_jobs=-1)\r\n",
        "  LR.fit(X_train, y_train)\r\n",
        "\r\n",
        "  accuracy_score= accuracy_score(y_test,LR.predict(X_test))\r\n",
        "  precision_score = precision_score(y_test,LR.predict(X_test))\r\n",
        "  recall_score = recall_score(y_test,LR.predict(X_test))\r\n",
        "\r\n",
        "  LR_result.append([accuracy_score,precision_score, recall_score])\r\n",
        "  print(f'num : {count}, accuracy_score : {accuracy_score}, precision_score : {precision_score}, recall_score : {recall_score}'\r\n",
        "  count += 1"
      ],
      "execution_count": 65,
      "outputs": [
        {
          "output_type": "error",
          "ename": "TypeError",
          "evalue": "ignored",
          "traceback": [
            "\u001b[0;31m---------------------------------------------------------------------------\u001b[0m",
            "\u001b[0;31mTypeError\u001b[0m                                 Traceback (most recent call last)",
            "\u001b[0;32m<ipython-input-65-bf01931fda0a>\u001b[0m in \u001b[0;36m<module>\u001b[0;34m()\u001b[0m\n\u001b[0;32m----> 1\u001b[0;31m \u001b[0mget_ipython\u001b[0m\u001b[0;34m(\u001b[0m\u001b[0;34m)\u001b[0m\u001b[0;34m.\u001b[0m\u001b[0mrun_cell_magic\u001b[0m\u001b[0;34m(\u001b[0m\u001b[0;34m'time'\u001b[0m\u001b[0;34m,\u001b[0m \u001b[0;34m''\u001b[0m\u001b[0;34m,\u001b[0m \u001b[0;34m\"LR_result = []\\ncount = 1\\na = [0.1, 0.3, 0.5, 0.7]\\n\\nfor n in range(len(a)):\\n  C = a[n]\\n  LR = LogisticRegression(C = C, penalty='l2', multi_class='multinomial', n_jobs=-1)\\n  LR.fit(X_train, y_train)\\n\\n  accuracy_score= accuracy_score(y_test,LR.predict(X_test))\\n  precision_score = precision_score(y_test,LR.predict(X_test))\\n  recall_score = recall_score(y_test,LR.predict(X_test))\\n\\n  LR_result = LR_result.append([accuracy_score,precision_score, recall_score])\\n  print('num : {}, accuracy_score : {}, precision_score : {}, recall_score : {}'.format(count,accuracy_score,precision_score, recall_score))\\n  count += 1\"\u001b[0m\u001b[0;34m)\u001b[0m\u001b[0;34m\u001b[0m\u001b[0;34m\u001b[0m\u001b[0m\n\u001b[0m",
            "\u001b[0;32m/usr/local/lib/python3.7/dist-packages/IPython/core/interactiveshell.py\u001b[0m in \u001b[0;36mrun_cell_magic\u001b[0;34m(self, magic_name, line, cell)\u001b[0m\n\u001b[1;32m   2115\u001b[0m             \u001b[0mmagic_arg_s\u001b[0m \u001b[0;34m=\u001b[0m \u001b[0mself\u001b[0m\u001b[0;34m.\u001b[0m\u001b[0mvar_expand\u001b[0m\u001b[0;34m(\u001b[0m\u001b[0mline\u001b[0m\u001b[0;34m,\u001b[0m \u001b[0mstack_depth\u001b[0m\u001b[0;34m)\u001b[0m\u001b[0;34m\u001b[0m\u001b[0;34m\u001b[0m\u001b[0m\n\u001b[1;32m   2116\u001b[0m             \u001b[0;32mwith\u001b[0m \u001b[0mself\u001b[0m\u001b[0;34m.\u001b[0m\u001b[0mbuiltin_trap\u001b[0m\u001b[0;34m:\u001b[0m\u001b[0;34m\u001b[0m\u001b[0;34m\u001b[0m\u001b[0m\n\u001b[0;32m-> 2117\u001b[0;31m                 \u001b[0mresult\u001b[0m \u001b[0;34m=\u001b[0m \u001b[0mfn\u001b[0m\u001b[0;34m(\u001b[0m\u001b[0mmagic_arg_s\u001b[0m\u001b[0;34m,\u001b[0m \u001b[0mcell\u001b[0m\u001b[0;34m)\u001b[0m\u001b[0;34m\u001b[0m\u001b[0;34m\u001b[0m\u001b[0m\n\u001b[0m\u001b[1;32m   2118\u001b[0m             \u001b[0;32mreturn\u001b[0m \u001b[0mresult\u001b[0m\u001b[0;34m\u001b[0m\u001b[0;34m\u001b[0m\u001b[0m\n\u001b[1;32m   2119\u001b[0m \u001b[0;34m\u001b[0m\u001b[0m\n",
            "\u001b[0;32m<decorator-gen-53>\u001b[0m in \u001b[0;36mtime\u001b[0;34m(self, line, cell, local_ns)\u001b[0m\n",
            "\u001b[0;32m/usr/local/lib/python3.7/dist-packages/IPython/core/magic.py\u001b[0m in \u001b[0;36m<lambda>\u001b[0;34m(f, *a, **k)\u001b[0m\n\u001b[1;32m    186\u001b[0m     \u001b[0;31m# but it's overkill for just that one bit of state.\u001b[0m\u001b[0;34m\u001b[0m\u001b[0;34m\u001b[0m\u001b[0;34m\u001b[0m\u001b[0m\n\u001b[1;32m    187\u001b[0m     \u001b[0;32mdef\u001b[0m \u001b[0mmagic_deco\u001b[0m\u001b[0;34m(\u001b[0m\u001b[0marg\u001b[0m\u001b[0;34m)\u001b[0m\u001b[0;34m:\u001b[0m\u001b[0;34m\u001b[0m\u001b[0;34m\u001b[0m\u001b[0m\n\u001b[0;32m--> 188\u001b[0;31m         \u001b[0mcall\u001b[0m \u001b[0;34m=\u001b[0m \u001b[0;32mlambda\u001b[0m \u001b[0mf\u001b[0m\u001b[0;34m,\u001b[0m \u001b[0;34m*\u001b[0m\u001b[0ma\u001b[0m\u001b[0;34m,\u001b[0m \u001b[0;34m**\u001b[0m\u001b[0mk\u001b[0m\u001b[0;34m:\u001b[0m \u001b[0mf\u001b[0m\u001b[0;34m(\u001b[0m\u001b[0;34m*\u001b[0m\u001b[0ma\u001b[0m\u001b[0;34m,\u001b[0m \u001b[0;34m**\u001b[0m\u001b[0mk\u001b[0m\u001b[0;34m)\u001b[0m\u001b[0;34m\u001b[0m\u001b[0;34m\u001b[0m\u001b[0m\n\u001b[0m\u001b[1;32m    189\u001b[0m \u001b[0;34m\u001b[0m\u001b[0m\n\u001b[1;32m    190\u001b[0m         \u001b[0;32mif\u001b[0m \u001b[0mcallable\u001b[0m\u001b[0;34m(\u001b[0m\u001b[0marg\u001b[0m\u001b[0;34m)\u001b[0m\u001b[0;34m:\u001b[0m\u001b[0;34m\u001b[0m\u001b[0;34m\u001b[0m\u001b[0m\n",
            "\u001b[0;32m/usr/local/lib/python3.7/dist-packages/IPython/core/magics/execution.py\u001b[0m in \u001b[0;36mtime\u001b[0;34m(self, line, cell, local_ns)\u001b[0m\n\u001b[1;32m   1191\u001b[0m         \u001b[0;32melse\u001b[0m\u001b[0;34m:\u001b[0m\u001b[0;34m\u001b[0m\u001b[0;34m\u001b[0m\u001b[0m\n\u001b[1;32m   1192\u001b[0m             \u001b[0mst\u001b[0m \u001b[0;34m=\u001b[0m \u001b[0mclock2\u001b[0m\u001b[0;34m(\u001b[0m\u001b[0;34m)\u001b[0m\u001b[0;34m\u001b[0m\u001b[0;34m\u001b[0m\u001b[0m\n\u001b[0;32m-> 1193\u001b[0;31m             \u001b[0mexec\u001b[0m\u001b[0;34m(\u001b[0m\u001b[0mcode\u001b[0m\u001b[0;34m,\u001b[0m \u001b[0mglob\u001b[0m\u001b[0;34m,\u001b[0m \u001b[0mlocal_ns\u001b[0m\u001b[0;34m)\u001b[0m\u001b[0;34m\u001b[0m\u001b[0;34m\u001b[0m\u001b[0m\n\u001b[0m\u001b[1;32m   1194\u001b[0m             \u001b[0mend\u001b[0m \u001b[0;34m=\u001b[0m \u001b[0mclock2\u001b[0m\u001b[0;34m(\u001b[0m\u001b[0;34m)\u001b[0m\u001b[0;34m\u001b[0m\u001b[0;34m\u001b[0m\u001b[0m\n\u001b[1;32m   1195\u001b[0m             \u001b[0mout\u001b[0m \u001b[0;34m=\u001b[0m \u001b[0;32mNone\u001b[0m\u001b[0;34m\u001b[0m\u001b[0;34m\u001b[0m\u001b[0m\n",
            "\u001b[0;32m<timed exec>\u001b[0m in \u001b[0;36m<module>\u001b[0;34m()\u001b[0m\n",
            "\u001b[0;31mTypeError\u001b[0m: 'numpy.float64' object is not callable"
          ]
        }
      ]
    },
    {
      "cell_type": "code",
      "metadata": {
        "id": "gy10b-Ms22Qa"
      },
      "source": [
        "LR_result"
      ],
      "execution_count": null,
      "outputs": []
    },
    {
      "cell_type": "markdown",
      "metadata": {
        "id": "DXZZ__m0nLya"
      },
      "source": [
        "# 3, Decision Tree Classification"
      ]
    },
    {
      "cell_type": "code",
      "metadata": {
        "colab": {
          "base_uri": "https://localhost:8080/"
        },
        "id": "OfonNoLE8ryx",
        "outputId": "234fc721-3097-4647-e3fb-08a09c10fbb1"
      },
      "source": [
        "%%time\r\n",
        "from sklearn.metrics import accuracy_score, recall_score, precision_score\r\n",
        "param_max_features = [2,3,5,7]\r\n",
        "param_max_depth = [2,5,7,9]\r\n",
        "DT_result = pd.DataFrame(data=None, columns=('Num','max_features','max_depth','accuracy_score','precision_score','recall_score'))\r\n",
        "Num = 1\r\n",
        "\r\n",
        "\r\n",
        "for mf in param_max_features:\r\n",
        "  for md in param_max_depth:\r\n",
        "\r\n",
        "    # 모델 학습/예측\r\n",
        "    DT = DecisionTreeClassifier(max_features = mf, max_depth = md , criterion = 'entropy' , random_state = 2045)\r\n",
        "    DT.fit(X_train  , y_train)\r\n",
        "\r\n",
        "    y_hat = DT.predict(X_test)\r\n",
        "    ac= accuracy_score(y_test,y_hat)\r\n",
        "    pr = precision_score(y_test,y_hat)\r\n",
        "    re = recall_score(y_test,y_hat)\r\n",
        "\r\n",
        "    res =  {'Num':Num, 'max_features':mf, 'max_depth':md, 'accuracy_score':ac, 'precision_score':pr, 'recall_score':re}\r\n",
        "    DT_result.append(res, ignore_index=True)\r\n",
        "    #print(f\" Num : {Num} , max_features : {mf}  , max_depth : {md}, accuracy_score : {ac},precision_score : {pr},recall_score : {re}\")\r\n",
        "    print(res)\r\n",
        "    Num+=1\r\n",
        "  "
      ],
      "execution_count": 82,
      "outputs": [
        {
          "output_type": "stream",
          "text": [
            " Num : 1 , max_features : 2  , max_depth : 2, accuracy_score : 0.9991807403766253,precision_score : 0.8362068965517241,recall_score : 0.6554054054054054\n",
            " Num : 2 , max_features : 2  , max_depth : 5, accuracy_score : 0.9993328885923949,precision_score : 0.8760330578512396,recall_score : 0.7162162162162162\n",
            " Num : 3 , max_features : 2  , max_depth : 7, accuracy_score : 0.9993562960102056,precision_score : 0.8345323741007195,recall_score : 0.7837837837837838\n",
            " Num : 4 , max_features : 2  , max_depth : 9, accuracy_score : 0.9990754069964772,precision_score : 0.7804878048780488,recall_score : 0.6486486486486487\n",
            " Num : 5 , max_features : 3  , max_depth : 2, accuracy_score : 0.9991807403766253,precision_score : 0.8421052631578947,recall_score : 0.6486486486486487\n",
            " Num : 6 , max_features : 3  , max_depth : 5, accuracy_score : 0.9992509626300574,precision_score : 0.868421052631579,recall_score : 0.668918918918919\n",
            " Num : 7 , max_features : 3  , max_depth : 7, accuracy_score : 0.9994382219725431,precision_score : 0.8968253968253969,recall_score : 0.7635135135135135\n",
            " Num : 8 , max_features : 3  , max_depth : 9, accuracy_score : 0.9994148145547324,precision_score : 0.8769230769230769,recall_score : 0.7702702702702703\n",
            " Num : 9 , max_features : 5  , max_depth : 2, accuracy_score : 0.9991573329588147,precision_score : 0.7753623188405797,recall_score : 0.722972972972973\n",
            " Num : 10 , max_features : 5  , max_depth : 5, accuracy_score : 0.9993445923013002,precision_score : 0.8538461538461538,recall_score : 0.75\n",
            " Num : 11 , max_features : 5  , max_depth : 7, accuracy_score : 0.9994616293903538,precision_score : 0.8805970149253731,recall_score : 0.7972972972972973\n",
            " Num : 12 , max_features : 5  , max_depth : 9, accuracy_score : 0.9994148145547324,precision_score : 0.8828125,recall_score : 0.7635135135135135\n",
            " Num : 13 , max_features : 7  , max_depth : 2, accuracy_score : 0.999133925541004,precision_score : 0.7681159420289855,recall_score : 0.7162162162162162\n",
            " Num : 14 , max_features : 7  , max_depth : 5, accuracy_score : 0.9992626663389628,precision_score : 0.8695652173913043,recall_score : 0.6756756756756757\n",
            " Num : 15 , max_features : 7  , max_depth : 7, accuracy_score : 0.9994382219725431,precision_score : 0.8623188405797102,recall_score : 0.8040540540540541\n",
            " Num : 16 , max_features : 7  , max_depth : 9, accuracy_score : 0.9994148145547324,precision_score : 0.8450704225352113,recall_score : 0.8108108108108109\n"
          ],
          "name": "stdout"
        }
      ]
    },
    {
      "cell_type": "code",
      "metadata": {
        "colab": {
          "base_uri": "https://localhost:8080/",
          "height": 48
        },
        "id": "TH2TSc_0AFT2",
        "outputId": "3a92825f-a090-4471-cda1-91f500a25f36"
      },
      "source": [
        "DT_result#.sort_values(by='recall_score', ascending = False)"
      ],
      "execution_count": 84,
      "outputs": [
        {
          "output_type": "execute_result",
          "data": {
            "text/html": [
              "<div>\n",
              "<style scoped>\n",
              "    .dataframe tbody tr th:only-of-type {\n",
              "        vertical-align: middle;\n",
              "    }\n",
              "\n",
              "    .dataframe tbody tr th {\n",
              "        vertical-align: top;\n",
              "    }\n",
              "\n",
              "    .dataframe thead th {\n",
              "        text-align: right;\n",
              "    }\n",
              "</style>\n",
              "<table border=\"1\" class=\"dataframe\">\n",
              "  <thead>\n",
              "    <tr style=\"text-align: right;\">\n",
              "      <th></th>\n",
              "      <th>Num</th>\n",
              "      <th>max_features</th>\n",
              "      <th>max_depth</th>\n",
              "      <th>accuracy_score</th>\n",
              "      <th>precision_score</th>\n",
              "      <th>recall_score</th>\n",
              "    </tr>\n",
              "  </thead>\n",
              "  <tbody>\n",
              "  </tbody>\n",
              "</table>\n",
              "</div>"
            ],
            "text/plain": [
              "Empty DataFrame\n",
              "Columns: [Num, max_features, max_depth, accuracy_score, precision_score, recall_score]\n",
              "Index: []"
            ]
          },
          "metadata": {
            "tags": []
          },
          "execution_count": 84
        }
      ]
    },
    {
      "cell_type": "code",
      "metadata": {
        "colab": {
          "base_uri": "https://localhost:8080/",
          "height": 133
        },
        "id": "4QT_JrVcCr4_",
        "outputId": "fde3b8ef-36bd-468c-9bc7-582c0bde99dd"
      },
      "source": [
        ""
      ],
      "execution_count": 88,
      "outputs": [
        {
          "output_type": "error",
          "ename": "SyntaxError",
          "evalue": "ignored",
          "traceback": [
            "\u001b[0;36m  File \u001b[0;32m\"<ipython-input-88-63365892380a>\"\u001b[0;36m, line \u001b[0;32m1\u001b[0m\n\u001b[0;31m    DT_result.drop(DT_result.Num=range(1,17), inplace=True)\u001b[0m\n\u001b[0m                  ^\u001b[0m\n\u001b[0;31mSyntaxError\u001b[0m\u001b[0;31m:\u001b[0m keyword can't be an expression\n"
          ]
        }
      ]
    },
    {
      "cell_type": "markdown",
      "metadata": {
        "id": "ljCrZ6lsnRyz"
      },
      "source": [
        "# 4, Random Forest Classification"
      ]
    },
    {
      "cell_type": "markdown",
      "metadata": {
        "id": "hRB8Q0vonPRw"
      },
      "source": [
        "# 5, Gradient Boosting Machine(GBM) Classification"
      ]
    },
    {
      "cell_type": "markdown",
      "metadata": {
        "id": "dT5jn_evnayR"
      },
      "source": [
        "# 6, Adaptive Boosting Classifier"
      ]
    },
    {
      "cell_type": "markdown",
      "metadata": {
        "id": "-owpNaCyng2C"
      },
      "source": [
        "# 7, eXtra Cradient Boost(XGBoost) Classification"
      ]
    },
    {
      "cell_type": "markdown",
      "metadata": {
        "id": "6k23-n4nnmt6"
      },
      "source": [
        "# 8, LightGBM Classification"
      ]
    },
    {
      "cell_type": "markdown",
      "metadata": {
        "id": "_itEVRPdnq1J"
      },
      "source": [
        "# 9, K-Nearest Neighbors Classification"
      ]
    },
    {
      "cell_type": "code",
      "metadata": {
        "id": "owTWas18ngHd"
      },
      "source": [
        ""
      ],
      "execution_count": null,
      "outputs": []
    },
    {
      "cell_type": "code",
      "metadata": {
        "id": "KvwaxJZETKX4"
      },
      "source": [
        "def lightGBM(model_name, X, y, n_est, md=None, lr=0.5,  visualFeature = False):\r\n",
        "  # split  \r\n",
        "  X_train, X_test, y_train, y_test = train_test_split(X, y, test_size = 0.3, random_state=2045, stratify = y)\r\n",
        "\r\n",
        "  # SMOTE\r\n",
        "  os = SMOTE(random_state = 2045)\r\n",
        "  X_train_os, y_train_os = os.fit_sample(X_train, y_train)\r\n",
        "\r\n",
        "  # model\r\n",
        "  model_lgbm = LGBMClassifier(n_estimators = n_est, max_depth =md, learning_rate = lr, reg_lambda= 0.2, n_jobs= -1, random_state=2045)\r\n",
        "  model_lgbm.fit(X_train_os, y_train_os)\r\n",
        "\r\n",
        "  # evaluate\r\n",
        "  score_ac = accuracy_score(y_test, model_lgbm.predict(X_test))\r\n",
        "  score_rc = recall_score(y_test, model_lgbm.predict(X_test), pos_label =1 )\r\n",
        "  score_pr = precision_score(y_test, model_rf.predict(X_test), pos_label =1 )\r\n",
        "\r\n",
        "  if visualFeature:\r\n",
        "    plt.figure(figsize = (9, 6))\r\n",
        "    sns.barplot(model_lgbm.feature_importances_, X.columns)\r\n",
        "    plt.title('Feature Importance')\r\n",
        "    plt.show()\r\n",
        "\r\n",
        "  return {'model_id':model_name, 'n_estimators':n_est, 'max_depth':md, 'learning_rage':lr, 'Accuracy_score':score_ac, 'precision_score':score_pr,'Recall_score':score_rc}"
      ],
      "execution_count": null,
      "outputs": []
    },
    {
      "cell_type": "code",
      "metadata": {
        "id": "5bMOWRVzJ_wR"
      },
      "source": [
        "X = DF[['V10','V14','V17']]\r\n",
        "y = DF['Class']\r\n",
        "DF_lgbm_smote = pd.DataFrame(data=None, columns = ['model_id','n_estimators','max_features','max_depth','Accuracy_score','precision_score', 'Recall_score'])"
      ],
      "execution_count": null,
      "outputs": []
    },
    {
      "cell_type": "code",
      "metadata": {
        "colab": {
          "base_uri": "https://localhost:8080/",
          "height": 169
        },
        "id": "JXux369RK93H",
        "outputId": "0169f623-cf6b-49b3-9c24-c47118a6e163"
      },
      "source": [
        "X_train_os.shape, y_train_os.shape"
      ],
      "execution_count": null,
      "outputs": [
        {
          "output_type": "error",
          "ename": "NameError",
          "evalue": "ignored",
          "traceback": [
            "\u001b[0;31m---------------------------------------------------------------------------\u001b[0m",
            "\u001b[0;31mNameError\u001b[0m                                 Traceback (most recent call last)",
            "\u001b[0;32m<ipython-input-24-3e34cc132421>\u001b[0m in \u001b[0;36m<module>\u001b[0;34m()\u001b[0m\n\u001b[0;32m----> 1\u001b[0;31m \u001b[0mX_train_os\u001b[0m\u001b[0;34m.\u001b[0m\u001b[0mshape\u001b[0m\u001b[0;34m,\u001b[0m \u001b[0my_train_os\u001b[0m\u001b[0;34m.\u001b[0m\u001b[0mshape\u001b[0m\u001b[0;34m\u001b[0m\u001b[0;34m\u001b[0m\u001b[0m\n\u001b[0m",
            "\u001b[0;31mNameError\u001b[0m: name 'X_train_os' is not defined"
          ]
        }
      ]
    },
    {
      "cell_type": "code",
      "metadata": {
        "colab": {
          "base_uri": "https://localhost:8080/"
        },
        "id": "Pv3ghtaULRdY",
        "outputId": "53782b9c-be83-4116-b114-b76e0730651a"
      },
      "source": [
        "%%time\r\n",
        "a = [50, 100, 300]\r\n",
        "index = 1\r\n",
        "for n in a:\r\n",
        "  model_name = 'RF_3-'+str(index)\r\n",
        "  index += 1\r\n",
        "  res = randomForest(model_name, X, y, n_est=n)\r\n",
        "  print(res)\r\n",
        "  DF_lgbm_smote = DF_lgbm_smote.append(res, ignore_index=True)\r\n",
        "  DF_lgbm_smote"
      ],
      "execution_count": null,
      "outputs": [
        {
          "output_type": "stream",
          "text": [
            "{'model_id': 'RF_3-1', 'n_estimators': 50, 'max_features': 'auto', 'max_depth': None, 'Accuracy_score': 0.9995903701883126, 'Recall_score': 0.8445945945945946}\n",
            "{'model_id': 'RF_3-2', 'n_estimators': 100, 'max_features': 'auto', 'max_depth': None, 'Accuracy_score': 0.9995318516437859, 'Recall_score': 0.8445945945945946}\n",
            "{'model_id': 'RF_3-3', 'n_estimators': 300, 'max_features': 'auto', 'max_depth': None, 'Accuracy_score': 0.9995318516437859, 'Recall_score': 0.8445945945945946}\n",
            "CPU times: user 5min 10s, sys: 651 ms, total: 5min 10s\n",
            "Wall time: 2min 38s\n"
          ],
          "name": "stdout"
        }
      ]
    },
    {
      "cell_type": "code",
      "metadata": {
        "colab": {
          "base_uri": "https://localhost:8080/"
        },
        "id": "L6tGDaA_Mi8w",
        "outputId": "31e52576-ce2f-43f6-8c72-a90a60896d41"
      },
      "source": [
        "%%time\r\n",
        "a = [2,3,5,9]\r\n",
        "index += 1\r\n",
        "for n in a:\r\n",
        "  model_name = 'RF_3-'+str(index)\r\n",
        "  index += 1\r\n",
        "  res = randomForest(model_name, X, y, n_est=50 , md=n)\r\n",
        "  print(res)\r\n",
        "  DF_lgbm_smote = DF_lgbm_smote.append(res, ignore_index=True)"
      ],
      "execution_count": null,
      "outputs": [
        {
          "output_type": "stream",
          "text": [
            "{'model_id': 'RF_3-5', 'n_estimators': 50, 'max_features': 'auto', 'max_depth': 2, 'Accuracy_score': 0.9992158515033414, 'Recall_score': 0.668918918918919}\n",
            "{'model_id': 'RF_3-6', 'n_estimators': 50, 'max_features': 'auto', 'max_depth': 3, 'Accuracy_score': 0.9993679997191109, 'Recall_score': 0.7567567567567568}\n",
            "{'model_id': 'RF_3-7', 'n_estimators': 50, 'max_features': 'auto', 'max_depth': 5, 'Accuracy_score': 0.9994382219725431, 'Recall_score': 0.8243243243243243}\n",
            "{'model_id': 'RF_3-8', 'n_estimators': 50, 'max_features': 'auto', 'max_depth': 9, 'Accuracy_score': 0.9995552590615966, 'Recall_score': 0.8445945945945946}\n",
            "CPU times: user 1min 7s, sys: 294 ms, total: 1min 7s\n",
            "Wall time: 35.7 s\n"
          ],
          "name": "stdout"
        }
      ]
    },
    {
      "cell_type": "code",
      "metadata": {
        "colab": {
          "base_uri": "https://localhost:8080/"
        },
        "id": "AIFF_GP6M0A_",
        "outputId": "f8bfb567-40ee-46f5-f153-dac5c25e9f9e"
      },
      "source": [
        "%%time\r\n",
        "a = [1,2,3]\r\n",
        "for n in a:\r\n",
        "  model_name = 'RF_3-'+str(index)\r\n",
        "  index += 1\r\n",
        "  res = randomForest(model_name, X, y, n_est=50, md=9 , mf=n)\r\n",
        "  print(res)\r\n",
        "  DF_lgbm_smote = DF_lgbm_smote.append(res, ignore_index=True)"
      ],
      "execution_count": null,
      "outputs": [
        {
          "output_type": "stream",
          "text": [
            "{'model_id': 'RF_3-9', 'n_estimators': 50, 'max_features': 1, 'max_depth': 9, 'Accuracy_score': 0.9995552590615966, 'Recall_score': 0.8445945945945946}\n",
            "{'model_id': 'RF_3-10', 'n_estimators': 50, 'max_features': 2, 'max_depth': 9, 'Accuracy_score': 0.9995318516437859, 'Recall_score': 0.831081081081081}\n",
            "{'model_id': 'RF_3-11', 'n_estimators': 50, 'max_features': 3, 'max_depth': 9, 'Accuracy_score': 0.9994967405170698, 'Recall_score': 0.8175675675675675}\n",
            "CPU times: user 2min 28s, sys: 295 ms, total: 2min 28s\n",
            "Wall time: 1min 16s\n"
          ],
          "name": "stdout"
        }
      ]
    },
    {
      "cell_type": "code",
      "metadata": {
        "colab": {
          "base_uri": "https://localhost:8080/",
          "height": 348
        },
        "id": "8STrBjGbZKL4",
        "outputId": "fee72f9a-b07e-4f5e-fb34-7e8c50ba04e9"
      },
      "source": [
        "DF_lgbm_smote.sort_values(by='Recall_score', ascending=False)"
      ],
      "execution_count": null,
      "outputs": [
        {
          "output_type": "execute_result",
          "data": {
            "text/html": [
              "<div>\n",
              "<style scoped>\n",
              "    .dataframe tbody tr th:only-of-type {\n",
              "        vertical-align: middle;\n",
              "    }\n",
              "\n",
              "    .dataframe tbody tr th {\n",
              "        vertical-align: top;\n",
              "    }\n",
              "\n",
              "    .dataframe thead th {\n",
              "        text-align: right;\n",
              "    }\n",
              "</style>\n",
              "<table border=\"1\" class=\"dataframe\">\n",
              "  <thead>\n",
              "    <tr style=\"text-align: right;\">\n",
              "      <th></th>\n",
              "      <th>model_id</th>\n",
              "      <th>n_estimators</th>\n",
              "      <th>max_features</th>\n",
              "      <th>max_depth</th>\n",
              "      <th>Accuracy_score</th>\n",
              "      <th>precision_score</th>\n",
              "      <th>Recall_score</th>\n",
              "    </tr>\n",
              "  </thead>\n",
              "  <tbody>\n",
              "    <tr>\n",
              "      <th>0</th>\n",
              "      <td>RF_3-1</td>\n",
              "      <td>50</td>\n",
              "      <td>auto</td>\n",
              "      <td>None</td>\n",
              "      <td>0.999590</td>\n",
              "      <td>NaN</td>\n",
              "      <td>0.844595</td>\n",
              "    </tr>\n",
              "    <tr>\n",
              "      <th>1</th>\n",
              "      <td>RF_3-2</td>\n",
              "      <td>100</td>\n",
              "      <td>auto</td>\n",
              "      <td>None</td>\n",
              "      <td>0.999532</td>\n",
              "      <td>NaN</td>\n",
              "      <td>0.844595</td>\n",
              "    </tr>\n",
              "    <tr>\n",
              "      <th>2</th>\n",
              "      <td>RF_3-3</td>\n",
              "      <td>300</td>\n",
              "      <td>auto</td>\n",
              "      <td>None</td>\n",
              "      <td>0.999532</td>\n",
              "      <td>NaN</td>\n",
              "      <td>0.844595</td>\n",
              "    </tr>\n",
              "    <tr>\n",
              "      <th>6</th>\n",
              "      <td>RF_3-8</td>\n",
              "      <td>50</td>\n",
              "      <td>auto</td>\n",
              "      <td>9</td>\n",
              "      <td>0.999555</td>\n",
              "      <td>NaN</td>\n",
              "      <td>0.844595</td>\n",
              "    </tr>\n",
              "    <tr>\n",
              "      <th>7</th>\n",
              "      <td>RF_3-9</td>\n",
              "      <td>50</td>\n",
              "      <td>1</td>\n",
              "      <td>9</td>\n",
              "      <td>0.999555</td>\n",
              "      <td>NaN</td>\n",
              "      <td>0.844595</td>\n",
              "    </tr>\n",
              "    <tr>\n",
              "      <th>8</th>\n",
              "      <td>RF_3-10</td>\n",
              "      <td>50</td>\n",
              "      <td>2</td>\n",
              "      <td>9</td>\n",
              "      <td>0.999532</td>\n",
              "      <td>NaN</td>\n",
              "      <td>0.831081</td>\n",
              "    </tr>\n",
              "    <tr>\n",
              "      <th>5</th>\n",
              "      <td>RF_3-7</td>\n",
              "      <td>50</td>\n",
              "      <td>auto</td>\n",
              "      <td>5</td>\n",
              "      <td>0.999438</td>\n",
              "      <td>NaN</td>\n",
              "      <td>0.824324</td>\n",
              "    </tr>\n",
              "    <tr>\n",
              "      <th>9</th>\n",
              "      <td>RF_3-11</td>\n",
              "      <td>50</td>\n",
              "      <td>3</td>\n",
              "      <td>9</td>\n",
              "      <td>0.999497</td>\n",
              "      <td>NaN</td>\n",
              "      <td>0.817568</td>\n",
              "    </tr>\n",
              "    <tr>\n",
              "      <th>4</th>\n",
              "      <td>RF_3-6</td>\n",
              "      <td>50</td>\n",
              "      <td>auto</td>\n",
              "      <td>3</td>\n",
              "      <td>0.999368</td>\n",
              "      <td>NaN</td>\n",
              "      <td>0.756757</td>\n",
              "    </tr>\n",
              "    <tr>\n",
              "      <th>3</th>\n",
              "      <td>RF_3-5</td>\n",
              "      <td>50</td>\n",
              "      <td>auto</td>\n",
              "      <td>2</td>\n",
              "      <td>0.999216</td>\n",
              "      <td>NaN</td>\n",
              "      <td>0.668919</td>\n",
              "    </tr>\n",
              "  </tbody>\n",
              "</table>\n",
              "</div>"
            ],
            "text/plain": [
              "  model_id n_estimators  ... precision_score Recall_score\n",
              "0   RF_3-1           50  ...             NaN     0.844595\n",
              "1   RF_3-2          100  ...             NaN     0.844595\n",
              "2   RF_3-3          300  ...             NaN     0.844595\n",
              "6   RF_3-8           50  ...             NaN     0.844595\n",
              "7   RF_3-9           50  ...             NaN     0.844595\n",
              "8  RF_3-10           50  ...             NaN     0.831081\n",
              "5   RF_3-7           50  ...             NaN     0.824324\n",
              "9  RF_3-11           50  ...             NaN     0.817568\n",
              "4   RF_3-6           50  ...             NaN     0.756757\n",
              "3   RF_3-5           50  ...             NaN     0.668919\n",
              "\n",
              "[10 rows x 7 columns]"
            ]
          },
          "metadata": {
            "tags": []
          },
          "execution_count": 45
        }
      ]
    }
  ]
}