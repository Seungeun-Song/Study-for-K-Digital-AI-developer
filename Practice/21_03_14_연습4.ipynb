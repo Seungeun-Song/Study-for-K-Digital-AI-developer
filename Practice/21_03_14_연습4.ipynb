{
  "nbformat": 4,
  "nbformat_minor": 0,
  "metadata": {
    "colab": {
      "name": "Untitled1.ipynb",
      "provenance": [],
      "toc_visible": true
    },
    "kernelspec": {
      "name": "python3",
      "display_name": "Python 3"
    }
  },
  "cells": [
    {
      "cell_type": "markdown",
      "metadata": {
        "id": "vw9lnnYNoO6d"
      },
      "source": [
        "# Bike_sharing"
      ]
    },
    {
      "cell_type": "markdown",
      "metadata": {
        "id": "MpesjMAllnBl"
      },
      "source": [
        "# Encoding"
      ]
    },
    {
      "cell_type": "code",
      "metadata": {
        "id": "KEne_0FJlqT7"
      },
      "source": [
        "from sklearn.preprocessing import LabelEncoder\r\n",
        "\r\n",
        "encoder = LabelEncoder()\r\n",
        "Y = encoder.fit_transform(y)\r\n",
        "Y[:5]"
      ],
      "execution_count": null,
      "outputs": []
    },
    {
      "cell_type": "markdown",
      "metadata": {
        "id": "IJ7bdq3IhhHG"
      },
      "source": [
        "# 2, Regression- np.sqrt(mse)\r\n"
      ]
    },
    {
      "cell_type": "code",
      "metadata": {
        "colab": {
          "base_uri": "https://localhost:8080/"
        },
        "id": "XQYArZlyhH1U",
        "outputId": "a555989f-29e2-444b-eb17-ab9170a6261a"
      },
      "source": [
        "import pandas as pd\r\n",
        "DF = pd.read_csv('https://raw.githubusercontent.com/rusita-ai/pyData/master/Bike_Sharing_Demand.csv')\r\n",
        "DF.info()"
      ],
      "execution_count": 1,
      "outputs": [
        {
          "output_type": "stream",
          "text": [
            "<class 'pandas.core.frame.DataFrame'>\n",
            "RangeIndex: 10886 entries, 0 to 10885\n",
            "Data columns (total 12 columns):\n",
            " #   Column      Non-Null Count  Dtype  \n",
            "---  ------      --------------  -----  \n",
            " 0   datetime    10886 non-null  object \n",
            " 1   season      10886 non-null  int64  \n",
            " 2   holiday     10886 non-null  int64  \n",
            " 3   workingday  10886 non-null  int64  \n",
            " 4   weather     10886 non-null  int64  \n",
            " 5   temp        10886 non-null  float64\n",
            " 6   atemp       10886 non-null  float64\n",
            " 7   humidity    10886 non-null  int64  \n",
            " 8   windspeed   10886 non-null  float64\n",
            " 9   casual      10886 non-null  int64  \n",
            " 10  registered  10886 non-null  int64  \n",
            " 11  count       10886 non-null  int64  \n",
            "dtypes: float64(3), int64(8), object(1)\n",
            "memory usage: 1020.7+ KB\n"
          ],
          "name": "stdout"
        }
      ]
    },
    {
      "cell_type": "code",
      "metadata": {
        "colab": {
          "base_uri": "https://localhost:8080/",
          "height": 198
        },
        "id": "z_AZn4teoYwG",
        "outputId": "84fcff6d-9c4c-41d3-ab11-35b5a5599adc"
      },
      "source": [
        "DF.head()"
      ],
      "execution_count": 2,
      "outputs": [
        {
          "output_type": "execute_result",
          "data": {
            "text/html": [
              "<div>\n",
              "<style scoped>\n",
              "    .dataframe tbody tr th:only-of-type {\n",
              "        vertical-align: middle;\n",
              "    }\n",
              "\n",
              "    .dataframe tbody tr th {\n",
              "        vertical-align: top;\n",
              "    }\n",
              "\n",
              "    .dataframe thead th {\n",
              "        text-align: right;\n",
              "    }\n",
              "</style>\n",
              "<table border=\"1\" class=\"dataframe\">\n",
              "  <thead>\n",
              "    <tr style=\"text-align: right;\">\n",
              "      <th></th>\n",
              "      <th>datetime</th>\n",
              "      <th>season</th>\n",
              "      <th>holiday</th>\n",
              "      <th>workingday</th>\n",
              "      <th>weather</th>\n",
              "      <th>temp</th>\n",
              "      <th>atemp</th>\n",
              "      <th>humidity</th>\n",
              "      <th>windspeed</th>\n",
              "      <th>casual</th>\n",
              "      <th>registered</th>\n",
              "      <th>count</th>\n",
              "    </tr>\n",
              "  </thead>\n",
              "  <tbody>\n",
              "    <tr>\n",
              "      <th>0</th>\n",
              "      <td>2011-01-01 00:00:00</td>\n",
              "      <td>1</td>\n",
              "      <td>0</td>\n",
              "      <td>0</td>\n",
              "      <td>1</td>\n",
              "      <td>9.84</td>\n",
              "      <td>14.395</td>\n",
              "      <td>81</td>\n",
              "      <td>0.0</td>\n",
              "      <td>3</td>\n",
              "      <td>13</td>\n",
              "      <td>16</td>\n",
              "    </tr>\n",
              "    <tr>\n",
              "      <th>1</th>\n",
              "      <td>2011-01-01 01:00:00</td>\n",
              "      <td>1</td>\n",
              "      <td>0</td>\n",
              "      <td>0</td>\n",
              "      <td>1</td>\n",
              "      <td>9.02</td>\n",
              "      <td>13.635</td>\n",
              "      <td>80</td>\n",
              "      <td>0.0</td>\n",
              "      <td>8</td>\n",
              "      <td>32</td>\n",
              "      <td>40</td>\n",
              "    </tr>\n",
              "    <tr>\n",
              "      <th>2</th>\n",
              "      <td>2011-01-01 02:00:00</td>\n",
              "      <td>1</td>\n",
              "      <td>0</td>\n",
              "      <td>0</td>\n",
              "      <td>1</td>\n",
              "      <td>9.02</td>\n",
              "      <td>13.635</td>\n",
              "      <td>80</td>\n",
              "      <td>0.0</td>\n",
              "      <td>5</td>\n",
              "      <td>27</td>\n",
              "      <td>32</td>\n",
              "    </tr>\n",
              "    <tr>\n",
              "      <th>3</th>\n",
              "      <td>2011-01-01 03:00:00</td>\n",
              "      <td>1</td>\n",
              "      <td>0</td>\n",
              "      <td>0</td>\n",
              "      <td>1</td>\n",
              "      <td>9.84</td>\n",
              "      <td>14.395</td>\n",
              "      <td>75</td>\n",
              "      <td>0.0</td>\n",
              "      <td>3</td>\n",
              "      <td>10</td>\n",
              "      <td>13</td>\n",
              "    </tr>\n",
              "    <tr>\n",
              "      <th>4</th>\n",
              "      <td>2011-01-01 04:00:00</td>\n",
              "      <td>1</td>\n",
              "      <td>0</td>\n",
              "      <td>0</td>\n",
              "      <td>1</td>\n",
              "      <td>9.84</td>\n",
              "      <td>14.395</td>\n",
              "      <td>75</td>\n",
              "      <td>0.0</td>\n",
              "      <td>0</td>\n",
              "      <td>1</td>\n",
              "      <td>1</td>\n",
              "    </tr>\n",
              "  </tbody>\n",
              "</table>\n",
              "</div>"
            ],
            "text/plain": [
              "              datetime  season  holiday  ...  casual  registered  count\n",
              "0  2011-01-01 00:00:00       1        0  ...       3          13     16\n",
              "1  2011-01-01 01:00:00       1        0  ...       8          32     40\n",
              "2  2011-01-01 02:00:00       1        0  ...       5          27     32\n",
              "3  2011-01-01 03:00:00       1        0  ...       3          10     13\n",
              "4  2011-01-01 04:00:00       1        0  ...       0           1      1\n",
              "\n",
              "[5 rows x 12 columns]"
            ]
          },
          "metadata": {
            "tags": []
          },
          "execution_count": 2
        }
      ]
    },
    {
      "cell_type": "code",
      "metadata": {
        "id": "a_RB2WVDhX6X"
      },
      "source": [
        "X = DF[['season','holiday','workingday','weather','temp','humidity','windspeed']]\r\n",
        "y = DF['count']"
      ],
      "execution_count": 3,
      "outputs": []
    },
    {
      "cell_type": "markdown",
      "metadata": {
        "id": "2SKteoohyrYN"
      },
      "source": [
        "# scaling"
      ]
    },
    {
      "cell_type": "code",
      "metadata": {
        "id": "Je8I8TInytNV"
      },
      "source": [
        "from sklearn.preprocessing import MinMaxScaler\r\n",
        "\r\n",
        "scaler = MinMaxScaler()\r\n",
        "DF[['season','holiday','workingday','weather','temp','humidity','windspeed']] = scaler.fit_transform(X)"
      ],
      "execution_count": 5,
      "outputs": []
    },
    {
      "cell_type": "markdown",
      "metadata": {
        "id": "8n-PBTOUhjMl"
      },
      "source": [
        "## 1, Multivariate Regression"
      ]
    },
    {
      "cell_type": "markdown",
      "metadata": {
        "id": "fIPtPwY8kV-1"
      },
      "source": [
        "### 모델링"
      ]
    },
    {
      "cell_type": "code",
      "metadata": {
        "id": "7gs4aR6iwymv"
      },
      "source": [
        "from sklearn.linear_model import LinearRegression\r\n",
        "from sklearn.model_selection import train_test_split\r\n",
        "from sklearn.metrics import mean_squared_error\r\n",
        "from sklearn.preprocessing import PolynomialFeatures\r\n",
        "import numpy as np"
      ],
      "execution_count": 6,
      "outputs": []
    },
    {
      "cell_type": "code",
      "metadata": {
        "id": "_rIR9c4qhfn3"
      },
      "source": [
        "def multiReg(model, X, y, dg):\r\n",
        "  # split\r\n",
        "  X_train, X_test, y_train, y_test = train_test_split(X,y, stratify =y,test_size= 0.3, random_state=2045)\r\n",
        "\r\n",
        "  # poly\r\n",
        "  poly = PolynomialFeatures(degree=dg, include_bias=False)\r\n",
        "  PX_tr = poly.fit_transform(X_train)\r\n",
        "  PX_te = poly.fit_transform(X_test)\r\n",
        "\r\n",
        "  # modeling\r\n",
        "  MR = LinearRegression(normalize=True, n_jobs=-1)\r\n",
        "  MR.fit(PX_tr, y_train)\r\n",
        "\r\n",
        "  # evaluate\r\n",
        "  MR_mse = np.sqrt(mean_squared_error(y_test, MR.predict(PX_te)))\r\n",
        "\r\n",
        "  return {'model':model, 'degree':dg, 'mse':MR_mse}"
      ],
      "execution_count": 7,
      "outputs": []
    },
    {
      "cell_type": "markdown",
      "metadata": {
        "id": "jf8EB91LkYP1"
      },
      "source": [
        "### Hyperparameter(degree)"
      ]
    },
    {
      "cell_type": "code",
      "metadata": {
        "id": "IkORbAHkaJ07"
      },
      "source": [
        "DF_res = pd.DataFrame(columns=['model', 'alpha','degree',  'n_estimators', 'learning_rate', 'max_features', 'max_depth', 'mse'])"
      ],
      "execution_count": null,
      "outputs": []
    },
    {
      "cell_type": "code",
      "metadata": {
        "colab": {
          "base_uri": "https://localhost:8080/"
        },
        "id": "T1_hXgm7kUkY",
        "outputId": "3b43ec59-b601-4282-d385-d1ec1e5ca879"
      },
      "source": [
        "%%time\r\n",
        "MR_mse = pd.DataFrame(columns=['model','degree','mse'])\r\n",
        "a =[1,2,5,7]\r\n",
        "index= 1\r\n",
        "\r\n",
        "for i in a:\r\n",
        "  model = 'MR-'+str(index)\r\n",
        "  index += 1\r\n",
        "  res = multiReg(model, X, y, dg=i)\r\n",
        "  print(res)\r\n",
        "  MR_mse = MR_mse.append(res, ignore_index=True)\r\n",
        "  DF_res = DF_res.append(res, ignore_index=True)"
      ],
      "execution_count": 94,
      "outputs": [
        {
          "output_type": "stream",
          "text": [
            "{'model': 'MR-1', 'degree': 1, 'mse': 156.03395296591316}\n",
            "{'model': 'MR-2', 'degree': 2, 'mse': 151.93139856165664}\n",
            "{'model': 'MR-3', 'degree': 5, 'mse': 1295827594544.5159}\n",
            "{'model': 'MR-4', 'degree': 7, 'mse': 363427590107.84955}\n",
            "CPU times: user 52.6 s, sys: 2.53 s, total: 55.1 s\n",
            "Wall time: 28.6 s\n"
          ],
          "name": "stdout"
        }
      ]
    },
    {
      "cell_type": "markdown",
      "metadata": {
        "id": "aVwhTBkZmPuR"
      },
      "source": [
        "## 2, Ridge Regression"
      ]
    },
    {
      "cell_type": "markdown",
      "metadata": {
        "id": "xmM_qYUrmVf_"
      },
      "source": [
        "### 모델링"
      ]
    },
    {
      "cell_type": "code",
      "metadata": {
        "id": "CBtRxb_pk-MH"
      },
      "source": [
        "from sklearn.linear_model import Ridge\r\n",
        "\r\n",
        "def ridge(model, X, y, dg, ap=0.3):\r\n",
        "  # split\r\n",
        "  X_train, X_test, y_train, y_test = train_test_split(X, y, stratify =y,test_size=0.3, random_state=2045)\r\n",
        "\r\n",
        "  # poly\r\n",
        "  poly = PolynomialFeatures(degree=dg, include_bias=False)\r\n",
        "  PX_tr = poly.fit_transform(X_train)\r\n",
        "  PX_te = poly.fit_transform(X_test)\r\n",
        "\r\n",
        "  # modeling\r\n",
        "  RG = Ridge(normalize=True, alpha=ap, solver='cholesky')\r\n",
        "  RG.fit(PX_tr, y_train)\r\n",
        "\r\n",
        "  RG_mse = np.sqrt(mean_squared_error(y_test, RG.predict(PX_te)))\r\n",
        "\r\n",
        "  return {'model':model, 'degree':dg, 'alpha':ap, 'mse':RG_mse}"
      ],
      "execution_count": 12,
      "outputs": []
    },
    {
      "cell_type": "markdown",
      "metadata": {
        "id": "JGqqStkQ2PlU"
      },
      "source": [
        "### Hyperparameter(degree)"
      ]
    },
    {
      "cell_type": "code",
      "metadata": {
        "colab": {
          "base_uri": "https://localhost:8080/"
        },
        "id": "TMhybIqY1N-m",
        "outputId": "f859dedf-6d5c-4837-cc66-ebdb9d7f2712"
      },
      "source": [
        "%%time\r\n",
        "RG_mse = pd.DataFrame(columns=['model','degree','alpha','mse'])\r\n",
        "a = [1,2,3,4]\r\n",
        "index = 1\r\n",
        "\r\n",
        "for i in a:\r\n",
        "  model = 'RG-'+str(index)\r\n",
        "  index += 1\r\n",
        "  res = ridge(model, X, y, dg=i)\r\n",
        "  print(res)\r\n",
        "  RG_mse = RG_mse.append(res, ignore_index=True)\r\n",
        "  DF_res = DF_res.append(res, ignore_index=True)"
      ],
      "execution_count": 13,
      "outputs": [
        {
          "output_type": "stream",
          "text": [
            "{'model': 'RG-1', 'degree': 1, 'alpha': 0.3, 'mse': 157.08589772713447}\n",
            "{'model': 'RG-2', 'degree': 2, 'alpha': 0.3, 'mse': 155.31154849885817}\n",
            "{'model': 'RG-3', 'degree': 3, 'alpha': 0.3, 'mse': 154.28456797646976}\n",
            "{'model': 'RG-4', 'degree': 4, 'alpha': 0.3, 'mse': 153.33822329027635}\n"
          ],
          "name": "stdout"
        }
      ]
    },
    {
      "cell_type": "code",
      "metadata": {
        "colab": {
          "base_uri": "https://localhost:8080/"
        },
        "id": "ZuSLE5Eo18zd",
        "outputId": "53fd3a2f-4064-4d5d-b63a-6a2201b267e7"
      },
      "source": [
        "%%time\r\n",
        "for i in [5,6,7]:\r\n",
        "  model = 'RG-'+str(index)\r\n",
        "  index += 1\r\n",
        "  res = ridge(model, X, y, dg=i)\r\n",
        "  print(res)\r\n",
        "  RG_mse = RG_mse.append(res, ignore_index=True)\r\n",
        "  DF_res = DF_res.append(res, ignore_index=True)"
      ],
      "execution_count": 14,
      "outputs": [
        {
          "output_type": "stream",
          "text": [
            "{'model': 'RG-5', 'degree': 5, 'alpha': 0.3, 'mse': 152.42341799563565}\n",
            "{'model': 'RG-6', 'degree': 6, 'alpha': 0.3, 'mse': 151.68938013839383}\n",
            "{'model': 'RG-7', 'degree': 7, 'alpha': 0.3, 'mse': 151.1928425035353}\n"
          ],
          "name": "stdout"
        }
      ]
    },
    {
      "cell_type": "code",
      "metadata": {
        "colab": {
          "base_uri": "https://localhost:8080/"
        },
        "id": "k5tBzxAg2JIU",
        "outputId": "930cddd9-1ce2-45ca-9c73-17f467a37b2b"
      },
      "source": [
        "%%time\r\n",
        "for i in [8,9,10]:\r\n",
        "  model = 'RG-'+str(index)\r\n",
        "  index += 1\r\n",
        "  res = ridge(model, X, y, dg=i)\r\n",
        "  print(res)\r\n",
        "  RG_mse = RG_mse.append(res, ignore_index=True)\r\n",
        "  DF_res = DF_res.append(res, ignore_index=True)"
      ],
      "execution_count": 15,
      "outputs": [
        {
          "output_type": "stream",
          "text": [
            "{'model': 'RG-8', 'degree': 8, 'alpha': 0.3, 'mse': 150.91523216210038}\n",
            "{'model': 'RG-9', 'degree': 9, 'alpha': 0.3, 'mse': 150.85883200355232}\n",
            "{'model': 'RG-10', 'degree': 10, 'alpha': 0.3, 'mse': 151.7777399153868}\n"
          ],
          "name": "stdout"
        }
      ]
    },
    {
      "cell_type": "code",
      "metadata": {
        "colab": {
          "base_uri": "https://localhost:8080/",
          "height": 348
        },
        "id": "ZJZQaCA42qs5",
        "outputId": "d8dcbb85-b233-48b6-b7b4-e0da2dd4d0fd"
      },
      "source": [
        "RG_mse.sort_values(by='mse')"
      ],
      "execution_count": 17,
      "outputs": [
        {
          "output_type": "execute_result",
          "data": {
            "text/html": [
              "<div>\n",
              "<style scoped>\n",
              "    .dataframe tbody tr th:only-of-type {\n",
              "        vertical-align: middle;\n",
              "    }\n",
              "\n",
              "    .dataframe tbody tr th {\n",
              "        vertical-align: top;\n",
              "    }\n",
              "\n",
              "    .dataframe thead th {\n",
              "        text-align: right;\n",
              "    }\n",
              "</style>\n",
              "<table border=\"1\" class=\"dataframe\">\n",
              "  <thead>\n",
              "    <tr style=\"text-align: right;\">\n",
              "      <th></th>\n",
              "      <th>model</th>\n",
              "      <th>degree</th>\n",
              "      <th>alpha</th>\n",
              "      <th>mse</th>\n",
              "    </tr>\n",
              "  </thead>\n",
              "  <tbody>\n",
              "    <tr>\n",
              "      <th>8</th>\n",
              "      <td>RG-9</td>\n",
              "      <td>9</td>\n",
              "      <td>0.3</td>\n",
              "      <td>150.858832</td>\n",
              "    </tr>\n",
              "    <tr>\n",
              "      <th>7</th>\n",
              "      <td>RG-8</td>\n",
              "      <td>8</td>\n",
              "      <td>0.3</td>\n",
              "      <td>150.915232</td>\n",
              "    </tr>\n",
              "    <tr>\n",
              "      <th>6</th>\n",
              "      <td>RG-7</td>\n",
              "      <td>7</td>\n",
              "      <td>0.3</td>\n",
              "      <td>151.192843</td>\n",
              "    </tr>\n",
              "    <tr>\n",
              "      <th>5</th>\n",
              "      <td>RG-6</td>\n",
              "      <td>6</td>\n",
              "      <td>0.3</td>\n",
              "      <td>151.689380</td>\n",
              "    </tr>\n",
              "    <tr>\n",
              "      <th>9</th>\n",
              "      <td>RG-10</td>\n",
              "      <td>10</td>\n",
              "      <td>0.3</td>\n",
              "      <td>151.777740</td>\n",
              "    </tr>\n",
              "    <tr>\n",
              "      <th>4</th>\n",
              "      <td>RG-5</td>\n",
              "      <td>5</td>\n",
              "      <td>0.3</td>\n",
              "      <td>152.423418</td>\n",
              "    </tr>\n",
              "    <tr>\n",
              "      <th>3</th>\n",
              "      <td>RG-4</td>\n",
              "      <td>4</td>\n",
              "      <td>0.3</td>\n",
              "      <td>153.338223</td>\n",
              "    </tr>\n",
              "    <tr>\n",
              "      <th>2</th>\n",
              "      <td>RG-3</td>\n",
              "      <td>3</td>\n",
              "      <td>0.3</td>\n",
              "      <td>154.284568</td>\n",
              "    </tr>\n",
              "    <tr>\n",
              "      <th>1</th>\n",
              "      <td>RG-2</td>\n",
              "      <td>2</td>\n",
              "      <td>0.3</td>\n",
              "      <td>155.311548</td>\n",
              "    </tr>\n",
              "    <tr>\n",
              "      <th>0</th>\n",
              "      <td>RG-1</td>\n",
              "      <td>1</td>\n",
              "      <td>0.3</td>\n",
              "      <td>157.085898</td>\n",
              "    </tr>\n",
              "  </tbody>\n",
              "</table>\n",
              "</div>"
            ],
            "text/plain": [
              "   model degree  alpha         mse\n",
              "8   RG-9      9    0.3  150.858832\n",
              "7   RG-8      8    0.3  150.915232\n",
              "6   RG-7      7    0.3  151.192843\n",
              "5   RG-6      6    0.3  151.689380\n",
              "9  RG-10     10    0.3  151.777740\n",
              "4   RG-5      5    0.3  152.423418\n",
              "3   RG-4      4    0.3  153.338223\n",
              "2   RG-3      3    0.3  154.284568\n",
              "1   RG-2      2    0.3  155.311548\n",
              "0   RG-1      1    0.3  157.085898"
            ]
          },
          "metadata": {
            "tags": []
          },
          "execution_count": 17
        }
      ]
    },
    {
      "cell_type": "markdown",
      "metadata": {
        "id": "kP4442-V2WGj"
      },
      "source": [
        "### Hyperparameter(alpha)"
      ]
    },
    {
      "cell_type": "code",
      "metadata": {
        "colab": {
          "base_uri": "https://localhost:8080/"
        },
        "id": "2mQlgCzt2Nk7",
        "outputId": "6fcecefd-7866-4c3a-c9e3-04ccb58bc3b0"
      },
      "source": [
        "%%time\r\n",
        "a = [0.01, 0.05, 0.1, 0.3, 0.5, 0.7, 0.9]\r\n",
        "\r\n",
        "for i in a :\r\n",
        "  model = 'RG-'+str(index)\r\n",
        "  index += 1\r\n",
        "  res = ridge(model, X, y, dg=9 , ap=i)\r\n",
        "  print(res)\r\n",
        "  RG_mse = RG_mse.append(res, ignore_index=True)\r\n",
        "  DF_res = DF_res.append(res, ignore_index=True)"
      ],
      "execution_count": 18,
      "outputs": [
        {
          "output_type": "stream",
          "text": [
            "{'model': 'RG-11', 'degree': 9, 'alpha': 0.01, 'mse': 179.7782994897138}\n",
            "{'model': 'RG-12', 'degree': 9, 'alpha': 0.05, 'mse': 154.93449616144116}\n",
            "{'model': 'RG-13', 'degree': 9, 'alpha': 0.1, 'mse': 151.53889800742218}\n",
            "{'model': 'RG-14', 'degree': 9, 'alpha': 0.3, 'mse': 150.85883200355232}\n",
            "{'model': 'RG-15', 'degree': 9, 'alpha': 0.5, 'mse': 151.29084786348537}\n",
            "{'model': 'RG-16', 'degree': 9, 'alpha': 0.7, 'mse': 151.70487589594217}\n",
            "{'model': 'RG-17', 'degree': 9, 'alpha': 0.9, 'mse': 152.07164146811968}\n"
          ],
          "name": "stdout"
        }
      ]
    },
    {
      "cell_type": "code",
      "metadata": {
        "colab": {
          "base_uri": "https://localhost:8080/",
          "height": 138
        },
        "id": "SAol0W-J3_GD",
        "outputId": "01f8d89b-82c9-4ef7-ea95-bc1b6548897f"
      },
      "source": [
        "RG_mse.sort_values(by='mse').head(3)"
      ],
      "execution_count": 22,
      "outputs": [
        {
          "output_type": "execute_result",
          "data": {
            "text/html": [
              "<div>\n",
              "<style scoped>\n",
              "    .dataframe tbody tr th:only-of-type {\n",
              "        vertical-align: middle;\n",
              "    }\n",
              "\n",
              "    .dataframe tbody tr th {\n",
              "        vertical-align: top;\n",
              "    }\n",
              "\n",
              "    .dataframe thead th {\n",
              "        text-align: right;\n",
              "    }\n",
              "</style>\n",
              "<table border=\"1\" class=\"dataframe\">\n",
              "  <thead>\n",
              "    <tr style=\"text-align: right;\">\n",
              "      <th></th>\n",
              "      <th>model</th>\n",
              "      <th>degree</th>\n",
              "      <th>alpha</th>\n",
              "      <th>mse</th>\n",
              "    </tr>\n",
              "  </thead>\n",
              "  <tbody>\n",
              "    <tr>\n",
              "      <th>8</th>\n",
              "      <td>RG-9</td>\n",
              "      <td>9</td>\n",
              "      <td>0.3</td>\n",
              "      <td>150.858832</td>\n",
              "    </tr>\n",
              "    <tr>\n",
              "      <th>13</th>\n",
              "      <td>RG-14</td>\n",
              "      <td>9</td>\n",
              "      <td>0.3</td>\n",
              "      <td>150.858832</td>\n",
              "    </tr>\n",
              "    <tr>\n",
              "      <th>7</th>\n",
              "      <td>RG-8</td>\n",
              "      <td>8</td>\n",
              "      <td>0.3</td>\n",
              "      <td>150.915232</td>\n",
              "    </tr>\n",
              "  </tbody>\n",
              "</table>\n",
              "</div>"
            ],
            "text/plain": [
              "    model degree  alpha         mse\n",
              "8    RG-9      9    0.3  150.858832\n",
              "13  RG-14      9    0.3  150.858832\n",
              "7    RG-8      8    0.3  150.915232"
            ]
          },
          "metadata": {
            "tags": []
          },
          "execution_count": 22
        }
      ]
    },
    {
      "cell_type": "markdown",
      "metadata": {
        "id": "7H7OaW9G263o"
      },
      "source": [
        "## 3, Lasso"
      ]
    },
    {
      "cell_type": "markdown",
      "metadata": {
        "id": "Dh9zN20l2-3j"
      },
      "source": [
        "### 모델링"
      ]
    },
    {
      "cell_type": "code",
      "metadata": {
        "id": "NWj7OFBe25ub"
      },
      "source": [
        "from sklearn.linear_model import Lasso\r\n",
        "\r\n",
        "def lasso(model, X, y, dg, ap=0.3):\r\n",
        "  # spint\r\n",
        "  X_train, X_test, y_train ,y_test = train_test_split(X, y, stratify =y,test_size=0.3, random_state=2045)\r\n",
        "\r\n",
        "  # poly\r\n",
        "  poly = PolynomialFeatures(degree=dg, include_bias=False)\r\n",
        "  PX_tr = poly.fit_transform(X_train)\r\n",
        "  PX_te = poly.fit_transform(X_test)\r\n",
        "\r\n",
        "  # modeling\r\n",
        "  LS = Lasso(normalize=True, alpha=ap)\r\n",
        "  LS.fit(PX_tr, y_train)\r\n",
        "\r\n",
        "  # mse\r\n",
        "  LS_mse = np.sqrt(mean_squared_error(y_test, LS.predict(PX_te)))  \r\n",
        "\r\n",
        "  return {'model':model, 'degree':dg, 'alpha':ap, 'mse':LS_mse}"
      ],
      "execution_count": 23,
      "outputs": []
    },
    {
      "cell_type": "markdown",
      "metadata": {
        "id": "fYbQjaWD4m2j"
      },
      "source": [
        "### Hyperparameter(degree)"
      ]
    },
    {
      "cell_type": "code",
      "metadata": {
        "colab": {
          "base_uri": "https://localhost:8080/"
        },
        "id": "10DznLs14fHC",
        "outputId": "40956781-7833-4b39-96c3-250ad86da794"
      },
      "source": [
        "%%time\r\n",
        "LS_mse = pd.DataFrame(columns=['model','degree','alpha','mse'])\r\n",
        "a = [1,2,3,4,5,6,7,8,9,10]\r\n",
        "b = [0.01, 0.1, 0.3, 0.5, 0.7, 0.9]\r\n",
        "index = 1\r\n",
        "\r\n",
        "for i in a :\r\n",
        "  for j in b:\r\n",
        "    model = 'LS-'+str(index)\r\n",
        "    index += 1\r\n",
        "    res = lasso(model, X, y, dg=i, ap=j)\r\n",
        "    print(res)\r\n",
        "    LS_mse = LS_mse.append(res, ignore_index=True)\r\n",
        "    DF_res = DF_res.append(res, ignore_index=True)"
      ],
      "execution_count": 26,
      "outputs": [
        {
          "output_type": "stream",
          "text": [
            "{'model': 'LS-1', 'degree': 1, 'alpha': 0.01, 'mse': 156.03483114148662}\n",
            "{'model': 'LS-2', 'degree': 1, 'alpha': 0.1, 'mse': 156.67968077801606}\n",
            "{'model': 'LS-3', 'degree': 1, 'alpha': 0.3, 'mse': 161.47174247042977}\n",
            "{'model': 'LS-4', 'degree': 1, 'alpha': 0.5, 'mse': 168.03552338148305}\n",
            "{'model': 'LS-5', 'degree': 1, 'alpha': 0.7, 'mse': 176.51473428440806}\n",
            "{'model': 'LS-6', 'degree': 1, 'alpha': 0.9, 'mse': 180.42555843739754}\n",
            "{'model': 'LS-7', 'degree': 2, 'alpha': 0.01, 'mse': 152.7828900990057}\n",
            "{'model': 'LS-8', 'degree': 2, 'alpha': 0.1, 'mse': 156.21371823141956}\n",
            "{'model': 'LS-9', 'degree': 2, 'alpha': 0.3, 'mse': 160.77439051265412}\n",
            "{'model': 'LS-10', 'degree': 2, 'alpha': 0.5, 'mse': 167.8895773520336}\n",
            "{'model': 'LS-11', 'degree': 2, 'alpha': 0.7, 'mse': 176.51473428440806}\n",
            "{'model': 'LS-12', 'degree': 2, 'alpha': 0.9, 'mse': 180.42555843739754}\n",
            "{'model': 'LS-13', 'degree': 3, 'alpha': 0.01, 'mse': 151.8050696992396}\n",
            "{'model': 'LS-14', 'degree': 3, 'alpha': 0.1, 'mse': 155.665994860942}\n",
            "{'model': 'LS-15', 'degree': 3, 'alpha': 0.3, 'mse': 160.60903759889624}\n",
            "{'model': 'LS-16', 'degree': 3, 'alpha': 0.5, 'mse': 167.87829113911027}\n",
            "{'model': 'LS-17', 'degree': 3, 'alpha': 0.7, 'mse': 176.51473428440806}\n",
            "{'model': 'LS-18', 'degree': 3, 'alpha': 0.9, 'mse': 180.42555843739754}\n",
            "{'model': 'LS-19', 'degree': 4, 'alpha': 0.01, 'mse': 151.43127085727937}\n",
            "{'model': 'LS-20', 'degree': 4, 'alpha': 0.1, 'mse': 155.19250380858193}\n",
            "{'model': 'LS-21', 'degree': 4, 'alpha': 0.3, 'mse': 160.64199870421058}\n",
            "{'model': 'LS-22', 'degree': 4, 'alpha': 0.5, 'mse': 167.85306675897215}\n",
            "{'model': 'LS-23', 'degree': 4, 'alpha': 0.7, 'mse': 176.51473428440806}\n",
            "{'model': 'LS-24', 'degree': 4, 'alpha': 0.9, 'mse': 180.42555843739754}\n"
          ],
          "name": "stdout"
        },
        {
          "output_type": "stream",
          "text": [
            "/usr/local/lib/python3.7/dist-packages/sklearn/linear_model/_coordinate_descent.py:476: ConvergenceWarning: Objective did not converge. You might want to increase the number of iterations. Duality gap: 55053.87012270093, tolerance: 25086.59172675853\n",
            "  positive)\n"
          ],
          "name": "stderr"
        },
        {
          "output_type": "stream",
          "text": [
            "{'model': 'LS-25', 'degree': 5, 'alpha': 0.01, 'mse': 151.02530671713856}\n",
            "{'model': 'LS-26', 'degree': 5, 'alpha': 0.1, 'mse': 155.07752679080843}\n",
            "{'model': 'LS-27', 'degree': 5, 'alpha': 0.3, 'mse': 160.64199870421058}\n",
            "{'model': 'LS-28', 'degree': 5, 'alpha': 0.5, 'mse': 167.85306675897215}\n",
            "{'model': 'LS-29', 'degree': 5, 'alpha': 0.7, 'mse': 176.51473428440806}\n",
            "{'model': 'LS-30', 'degree': 5, 'alpha': 0.9, 'mse': 180.42555843739754}\n",
            "{'model': 'LS-31', 'degree': 6, 'alpha': 0.01, 'mse': 150.73470858590477}\n",
            "{'model': 'LS-32', 'degree': 6, 'alpha': 0.1, 'mse': 154.75922772931125}\n",
            "{'model': 'LS-33', 'degree': 6, 'alpha': 0.3, 'mse': 160.64199870421058}\n",
            "{'model': 'LS-34', 'degree': 6, 'alpha': 0.5, 'mse': 167.85306675897215}\n",
            "{'model': 'LS-35', 'degree': 6, 'alpha': 0.7, 'mse': 176.51473428440806}\n",
            "{'model': 'LS-36', 'degree': 6, 'alpha': 0.9, 'mse': 180.42555843739754}\n",
            "{'model': 'LS-37', 'degree': 7, 'alpha': 0.01, 'mse': 150.50192402700253}\n",
            "{'model': 'LS-38', 'degree': 7, 'alpha': 0.1, 'mse': 154.53311884473595}\n",
            "{'model': 'LS-39', 'degree': 7, 'alpha': 0.3, 'mse': 160.64199870421058}\n",
            "{'model': 'LS-40', 'degree': 7, 'alpha': 0.5, 'mse': 167.85306675897215}\n",
            "{'model': 'LS-41', 'degree': 7, 'alpha': 0.7, 'mse': 176.51473428440806}\n",
            "{'model': 'LS-42', 'degree': 7, 'alpha': 0.9, 'mse': 180.42555843739754}\n",
            "{'model': 'LS-43', 'degree': 8, 'alpha': 0.01, 'mse': 150.44103699267762}\n",
            "{'model': 'LS-44', 'degree': 8, 'alpha': 0.1, 'mse': 154.48732815346708}\n",
            "{'model': 'LS-45', 'degree': 8, 'alpha': 0.3, 'mse': 160.64199870421058}\n",
            "{'model': 'LS-46', 'degree': 8, 'alpha': 0.5, 'mse': 167.85306675897215}\n",
            "{'model': 'LS-47', 'degree': 8, 'alpha': 0.7, 'mse': 176.51473428440806}\n",
            "{'model': 'LS-48', 'degree': 8, 'alpha': 0.9, 'mse': 180.42555843739754}\n",
            "{'model': 'LS-49', 'degree': 9, 'alpha': 0.01, 'mse': 150.56703224808015}\n",
            "{'model': 'LS-50', 'degree': 9, 'alpha': 0.1, 'mse': 154.4218283393119}\n",
            "{'model': 'LS-51', 'degree': 9, 'alpha': 0.3, 'mse': 160.64199870421058}\n",
            "{'model': 'LS-52', 'degree': 9, 'alpha': 0.5, 'mse': 167.85306675897215}\n",
            "{'model': 'LS-53', 'degree': 9, 'alpha': 0.7, 'mse': 176.51473428440806}\n",
            "{'model': 'LS-54', 'degree': 9, 'alpha': 0.9, 'mse': 180.42555843739754}\n"
          ],
          "name": "stdout"
        },
        {
          "output_type": "stream",
          "text": [
            "/usr/local/lib/python3.7/dist-packages/sklearn/linear_model/_coordinate_descent.py:476: ConvergenceWarning: Objective did not converge. You might want to increase the number of iterations. Duality gap: 102433.59030893445, tolerance: 25086.59172675853\n",
            "  positive)\n"
          ],
          "name": "stderr"
        },
        {
          "output_type": "stream",
          "text": [
            "{'model': 'LS-55', 'degree': 10, 'alpha': 0.01, 'mse': 150.72288527814004}\n",
            "{'model': 'LS-56', 'degree': 10, 'alpha': 0.1, 'mse': 154.38258928925845}\n",
            "{'model': 'LS-57', 'degree': 10, 'alpha': 0.3, 'mse': 160.64199870421058}\n",
            "{'model': 'LS-58', 'degree': 10, 'alpha': 0.5, 'mse': 167.85306675897215}\n",
            "{'model': 'LS-59', 'degree': 10, 'alpha': 0.7, 'mse': 176.51473428440806}\n",
            "{'model': 'LS-60', 'degree': 10, 'alpha': 0.9, 'mse': 180.42555843739754}\n"
          ],
          "name": "stdout"
        }
      ]
    },
    {
      "cell_type": "code",
      "metadata": {
        "colab": {
          "base_uri": "https://localhost:8080/",
          "height": 138
        },
        "id": "H9SBI6UP5WL8",
        "outputId": "4005bbc0-122b-47e7-a769-38c654e3ba6c"
      },
      "source": [
        "LS_mse.sort_values(by='mse').head(3)"
      ],
      "execution_count": 34,
      "outputs": [
        {
          "output_type": "execute_result",
          "data": {
            "text/html": [
              "<div>\n",
              "<style scoped>\n",
              "    .dataframe tbody tr th:only-of-type {\n",
              "        vertical-align: middle;\n",
              "    }\n",
              "\n",
              "    .dataframe tbody tr th {\n",
              "        vertical-align: top;\n",
              "    }\n",
              "\n",
              "    .dataframe thead th {\n",
              "        text-align: right;\n",
              "    }\n",
              "</style>\n",
              "<table border=\"1\" class=\"dataframe\">\n",
              "  <thead>\n",
              "    <tr style=\"text-align: right;\">\n",
              "      <th></th>\n",
              "      <th>model</th>\n",
              "      <th>degree</th>\n",
              "      <th>alpha</th>\n",
              "      <th>mse</th>\n",
              "    </tr>\n",
              "  </thead>\n",
              "  <tbody>\n",
              "    <tr>\n",
              "      <th>42</th>\n",
              "      <td>LS-43</td>\n",
              "      <td>8</td>\n",
              "      <td>0.01</td>\n",
              "      <td>150.441037</td>\n",
              "    </tr>\n",
              "    <tr>\n",
              "      <th>36</th>\n",
              "      <td>LS-37</td>\n",
              "      <td>7</td>\n",
              "      <td>0.01</td>\n",
              "      <td>150.501924</td>\n",
              "    </tr>\n",
              "    <tr>\n",
              "      <th>48</th>\n",
              "      <td>LS-49</td>\n",
              "      <td>9</td>\n",
              "      <td>0.01</td>\n",
              "      <td>150.567032</td>\n",
              "    </tr>\n",
              "  </tbody>\n",
              "</table>\n",
              "</div>"
            ],
            "text/plain": [
              "    model degree  alpha         mse\n",
              "42  LS-43      8   0.01  150.441037\n",
              "36  LS-37      7   0.01  150.501924\n",
              "48  LS-49      9   0.01  150.567032"
            ]
          },
          "metadata": {
            "tags": []
          },
          "execution_count": 34
        }
      ]
    },
    {
      "cell_type": "markdown",
      "metadata": {
        "id": "spLfpIIi5h-L"
      },
      "source": [
        "## 4, Decision Tree"
      ]
    },
    {
      "cell_type": "markdown",
      "metadata": {
        "id": "ei-s6Qbk5lc7"
      },
      "source": [
        "### 모델링"
      ]
    },
    {
      "cell_type": "code",
      "metadata": {
        "id": "twEsB8tG5nEM"
      },
      "source": [
        "from sklearn.tree import DecisionTreeRegressor\r\n",
        "\r\n",
        "def decisionTree(model, X, y, md):\r\n",
        "  # split\r\n",
        "  X_train, X_test, y_train, y_test = train_test_split(X, y, stratify =y,test_size=0.3, random_state=2045)\r\n",
        "\r\n",
        "  # modeling\r\n",
        "  DT = DecisionTreeRegressor(max_depth=md, criterion='mse')\r\n",
        "  DT.fit(X_train, y_train)\r\n",
        "\r\n",
        "  DT_mse = np.sqrt(mean_squared_error(y_test, DT.predict(X_test)))\r\n",
        "\r\n",
        "  return {'model':model, 'max_depth':md, 'mse':DT_mse}"
      ],
      "execution_count": 32,
      "outputs": []
    },
    {
      "cell_type": "markdown",
      "metadata": {
        "id": "CSYcb1DW6r2J"
      },
      "source": [
        "### Hyperparameter(max_depth)"
      ]
    },
    {
      "cell_type": "code",
      "metadata": {
        "colab": {
          "base_uri": "https://localhost:8080/"
        },
        "id": "AogfaXcU6qnw",
        "outputId": "7243b6f4-849c-4658-ccf8-6ed20981b728"
      },
      "source": [
        "DT_mse = pd.DataFrame(columns=['model','max_depth','mse'])\r\n",
        "a = [2,3,5,7,9]\r\n",
        "index = 1\r\n",
        "\r\n",
        "for i in a:\r\n",
        "  model = 'DT-'+str(index)\r\n",
        "  index += 1\r\n",
        "  res = decisionTree(model, X, y, md=i)\r\n",
        "  print(res)\r\n",
        "  DT_mse = DT_mse.append(res, ignore_index=True)\r\n",
        "  DF_res = DF_res.append(res, ignore_index=True)"
      ],
      "execution_count": 33,
      "outputs": [
        {
          "output_type": "stream",
          "text": [
            "{'model': 'DT-1', 'max_depth': 2, 'mse': 160.74168249273998}\n",
            "{'model': 'DT-2', 'max_depth': 3, 'mse': 156.0859197046373}\n",
            "{'model': 'DT-3', 'max_depth': 5, 'mse': 151.6448906761661}\n",
            "{'model': 'DT-4', 'max_depth': 7, 'mse': 149.83337137828704}\n",
            "{'model': 'DT-5', 'max_depth': 9, 'mse': 154.74630523430213}\n"
          ],
          "name": "stdout"
        }
      ]
    },
    {
      "cell_type": "code",
      "metadata": {
        "colab": {
          "base_uri": "https://localhost:8080/"
        },
        "id": "po7RPez7EM-G",
        "outputId": "aebddc36-d967-4332-e671-61b864e1a3ec"
      },
      "source": [
        "a = [11,13,15]\r\n",
        "\r\n",
        "for i in a:\r\n",
        "  model = 'DT-'+str(index)\r\n",
        "  index += 1\r\n",
        "  res = decisionTree(model, X, y, md=i)\r\n",
        "  print(res)\r\n",
        "  DT_mse = DT_mse.append(res, ignore_index=True)\r\n",
        "  DF_res = DF_res.append(res, ignore_index=True)"
      ],
      "execution_count": 60,
      "outputs": [
        {
          "output_type": "stream",
          "text": [
            "{'model': 'DT-6', 'max_depth': 11, 'mse': 163.44963903391937}\n",
            "{'model': 'DT-7', 'max_depth': 13, 'mse': 177.58821525817675}\n",
            "{'model': 'DT-8', 'max_depth': 15, 'mse': 188.6741866702988}\n"
          ],
          "name": "stdout"
        }
      ]
    },
    {
      "cell_type": "markdown",
      "metadata": {
        "id": "HG4kTRpj8o-I"
      },
      "source": [
        "## 5, Random Forest"
      ]
    },
    {
      "cell_type": "markdown",
      "metadata": {
        "id": "-vGQMdXb7Gtj"
      },
      "source": [
        "### 모델링"
      ]
    },
    {
      "cell_type": "code",
      "metadata": {
        "id": "o28vGHVL7slK"
      },
      "source": [
        "from sklearn.ensemble import RandomForestRegressor\r\n",
        "\r\n",
        "def randomForest(model, X, y, n_est, md=None, mf='auto', visualFeatures=False):\r\n",
        "  # split\r\n",
        "  X_train, X_test, y_train, y_test = train_test_split(X, y, stratify =y,test_size=0.3, random_state=2045)\r\n",
        "  \r\n",
        "  # modeling\r\n",
        "  RF = RandomForestRegressor(n_estimators=n_est, max_depth=md, max_features=mf, criterion='mse', n_jobs=-1, random_state=2045)\r\n",
        "  RF.fit(X_train, y_train)\r\n",
        "\r\n",
        "  # mse\r\n",
        "  RF_mse = np.sqrt(mean_squared_error(y_test, RF.predict(X_test)))\r\n",
        "\r\n",
        "  if visualFeatures:\r\n",
        "    sns.barplot(RF.feature_importances_, X.columns)\r\n",
        "    plt.title('random forest feature importances')\r\n",
        "    plt.show()\r\n",
        "\r\n",
        "  return {'model':model, 'n_estimators':n_est, 'max_depth':md, 'max_features':mf, 'mse':RF_mse}"
      ],
      "execution_count": 58,
      "outputs": []
    },
    {
      "cell_type": "markdown",
      "metadata": {
        "id": "PGsq5JYQC9il"
      },
      "source": [
        "### Hyperparameter(n_est)"
      ]
    },
    {
      "cell_type": "code",
      "metadata": {
        "colab": {
          "base_uri": "https://localhost:8080/"
        },
        "id": "k4w70z5u9-_Z",
        "outputId": "77366a8f-f1f7-4f47-c804-6bc4c9b944c9"
      },
      "source": [
        "%%time\r\n",
        "RF_mse = pd.DataFrame(columns=['model','n_estimators','max_depth','max_features','mse'])\r\n",
        "a = [50, 100, 200, 300, 500]\r\n",
        "index = 1\r\n",
        "\r\n",
        "for i in a:\r\n",
        "  model = 'RF-'+str(index)\r\n",
        "  index += 1\r\n",
        "  res = randomForest(model, X, y, n_est=i)\r\n",
        "  print(res)\r\n",
        "  RF_mse = RF_mse.append(res, ignore_index=True)\r\n",
        "  DF_res = DF_res.append(res, ignore_index=True)"
      ],
      "execution_count": 59,
      "outputs": [
        {
          "output_type": "stream",
          "text": [
            "{'model': 'RF-1', 'n_estimators': 50, 'max_depth': None, 'max_features': 'auto', 'mse': 154.64987069836573}\n",
            "{'model': 'RF-2', 'n_estimators': 100, 'max_depth': None, 'max_features': 'auto', 'mse': 154.02957040508295}\n",
            "{'model': 'RF-3', 'n_estimators': 200, 'max_depth': None, 'max_features': 'auto', 'mse': 154.05750149449668}\n",
            "{'model': 'RF-4', 'n_estimators': 300, 'max_depth': None, 'max_features': 'auto', 'mse': 154.07444152465322}\n",
            "{'model': 'RF-5', 'n_estimators': 500, 'max_depth': None, 'max_features': 'auto', 'mse': 154.0279566544933}\n",
            "CPU times: user 27.7 s, sys: 530 ms, total: 28.2 s\n",
            "Wall time: 15.4 s\n"
          ],
          "name": "stdout"
        }
      ]
    },
    {
      "cell_type": "code",
      "metadata": {
        "colab": {
          "base_uri": "https://localhost:8080/"
        },
        "id": "YjgnpZc0Cmom",
        "outputId": "48950a32-4000-4bbe-d4d3-b2b62c6dc49e"
      },
      "source": [
        "%%time\r\n",
        "a = [700, 1000]\r\n",
        "\r\n",
        "for i in a:\r\n",
        "  model = 'RF-'+str(index)\r\n",
        "  index += 1\r\n",
        "  res = randomForest(model, X, y, n_est=i)\r\n",
        "  print(res)\r\n",
        "  RF_mse = RF_mse.append(res, ignore_index=True)\r\n",
        "  DF_res = DF_res.append(res, ignore_index=True)"
      ],
      "execution_count": 61,
      "outputs": [
        {
          "output_type": "stream",
          "text": [
            "{'model': 'RF-9', 'n_estimators': 700, 'max_depth': None, 'max_features': 'auto', 'mse': 153.975507376043}\n",
            "{'model': 'RF-10', 'n_estimators': 1000, 'max_depth': None, 'max_features': 'auto', 'mse': 153.94370952615776}\n",
            "CPU times: user 40.7 s, sys: 1.22 s, total: 41.9 s\n",
            "Wall time: 22.4 s\n"
          ],
          "name": "stdout"
        }
      ]
    },
    {
      "cell_type": "code",
      "metadata": {
        "colab": {
          "base_uri": "https://localhost:8080/",
          "height": 258
        },
        "id": "b1CHykGFE5LE",
        "outputId": "d3ab1d5e-7469-4cbf-e779-2a4d61b98402"
      },
      "source": [
        "RF_mse.sort_values(by='mse')"
      ],
      "execution_count": 62,
      "outputs": [
        {
          "output_type": "execute_result",
          "data": {
            "text/html": [
              "<div>\n",
              "<style scoped>\n",
              "    .dataframe tbody tr th:only-of-type {\n",
              "        vertical-align: middle;\n",
              "    }\n",
              "\n",
              "    .dataframe tbody tr th {\n",
              "        vertical-align: top;\n",
              "    }\n",
              "\n",
              "    .dataframe thead th {\n",
              "        text-align: right;\n",
              "    }\n",
              "</style>\n",
              "<table border=\"1\" class=\"dataframe\">\n",
              "  <thead>\n",
              "    <tr style=\"text-align: right;\">\n",
              "      <th></th>\n",
              "      <th>model</th>\n",
              "      <th>n_estimators</th>\n",
              "      <th>max_depth</th>\n",
              "      <th>max_features</th>\n",
              "      <th>mse</th>\n",
              "    </tr>\n",
              "  </thead>\n",
              "  <tbody>\n",
              "    <tr>\n",
              "      <th>6</th>\n",
              "      <td>RF-10</td>\n",
              "      <td>1000</td>\n",
              "      <td>None</td>\n",
              "      <td>auto</td>\n",
              "      <td>153.943710</td>\n",
              "    </tr>\n",
              "    <tr>\n",
              "      <th>5</th>\n",
              "      <td>RF-9</td>\n",
              "      <td>700</td>\n",
              "      <td>None</td>\n",
              "      <td>auto</td>\n",
              "      <td>153.975507</td>\n",
              "    </tr>\n",
              "    <tr>\n",
              "      <th>4</th>\n",
              "      <td>RF-5</td>\n",
              "      <td>500</td>\n",
              "      <td>None</td>\n",
              "      <td>auto</td>\n",
              "      <td>154.027957</td>\n",
              "    </tr>\n",
              "    <tr>\n",
              "      <th>1</th>\n",
              "      <td>RF-2</td>\n",
              "      <td>100</td>\n",
              "      <td>None</td>\n",
              "      <td>auto</td>\n",
              "      <td>154.029570</td>\n",
              "    </tr>\n",
              "    <tr>\n",
              "      <th>2</th>\n",
              "      <td>RF-3</td>\n",
              "      <td>200</td>\n",
              "      <td>None</td>\n",
              "      <td>auto</td>\n",
              "      <td>154.057501</td>\n",
              "    </tr>\n",
              "    <tr>\n",
              "      <th>3</th>\n",
              "      <td>RF-4</td>\n",
              "      <td>300</td>\n",
              "      <td>None</td>\n",
              "      <td>auto</td>\n",
              "      <td>154.074442</td>\n",
              "    </tr>\n",
              "    <tr>\n",
              "      <th>0</th>\n",
              "      <td>RF-1</td>\n",
              "      <td>50</td>\n",
              "      <td>None</td>\n",
              "      <td>auto</td>\n",
              "      <td>154.649871</td>\n",
              "    </tr>\n",
              "  </tbody>\n",
              "</table>\n",
              "</div>"
            ],
            "text/plain": [
              "   model n_estimators max_depth max_features         mse\n",
              "6  RF-10         1000      None         auto  153.943710\n",
              "5   RF-9          700      None         auto  153.975507\n",
              "4   RF-5          500      None         auto  154.027957\n",
              "1   RF-2          100      None         auto  154.029570\n",
              "2   RF-3          200      None         auto  154.057501\n",
              "3   RF-4          300      None         auto  154.074442\n",
              "0   RF-1           50      None         auto  154.649871"
            ]
          },
          "metadata": {
            "tags": []
          },
          "execution_count": 62
        }
      ]
    },
    {
      "cell_type": "markdown",
      "metadata": {
        "id": "1VwJQI9PEaVR"
      },
      "source": [
        "### Hyperparameter(max_depth)"
      ]
    },
    {
      "cell_type": "code",
      "metadata": {
        "colab": {
          "base_uri": "https://localhost:8080/"
        },
        "id": "FLOZeKL-EZFq",
        "outputId": "48d5ad25-93d3-4f69-bf9f-dd57f8709fb3"
      },
      "source": [
        "a = [2,3,5,7,9,11,13]\r\n",
        "\r\n",
        "for i in a:\r\n",
        "  model = 'RF-'+str(index)\r\n",
        "  index += 1\r\n",
        "  res = randomForest(model, X, y, n_est=1000, md=i)\r\n",
        "  print(res)\r\n",
        "  RF_mse = RF_mse.append(res, ignore_index=True)\r\n",
        "  DF_res = DF_res.append(res, ignore_index=True)"
      ],
      "execution_count": 63,
      "outputs": [
        {
          "output_type": "stream",
          "text": [
            "{'model': 'RF-11', 'n_estimators': 1000, 'max_depth': 2, 'max_features': 'auto', 'mse': 158.86813260977598}\n",
            "{'model': 'RF-12', 'n_estimators': 1000, 'max_depth': 3, 'max_features': 'auto', 'mse': 154.4301321404243}\n",
            "{'model': 'RF-13', 'n_estimators': 1000, 'max_depth': 5, 'max_features': 'auto', 'mse': 149.01586994237647}\n",
            "{'model': 'RF-14', 'n_estimators': 1000, 'max_depth': 7, 'max_features': 'auto', 'mse': 146.14761010242879}\n",
            "{'model': 'RF-15', 'n_estimators': 1000, 'max_depth': 9, 'max_features': 'auto', 'mse': 144.75054862079725}\n",
            "{'model': 'RF-16', 'n_estimators': 1000, 'max_depth': 11, 'max_features': 'auto', 'mse': 145.27384066188765}\n",
            "{'model': 'RF-17', 'n_estimators': 1000, 'max_depth': 13, 'max_features': 'auto', 'mse': 147.73353575828824}\n"
          ],
          "name": "stdout"
        }
      ]
    },
    {
      "cell_type": "markdown",
      "metadata": {
        "id": "r8YpqT3qFOes"
      },
      "source": [
        "### Hyperparameter(max_features)"
      ]
    },
    {
      "cell_type": "code",
      "metadata": {
        "colab": {
          "base_uri": "https://localhost:8080/"
        },
        "id": "eDtsDCrTFN1t",
        "outputId": "ffeb1625-1732-45a3-c8a9-962a16d4a84e"
      },
      "source": [
        "a = [1,2,3,5,7]\r\n",
        "\r\n",
        "for i in a :\r\n",
        "  model = 'RF-'+str(index)\r\n",
        "  index += 1\r\n",
        "  res = randomForest(model, X, y, n_est=1000, md=9, mf=i)\r\n",
        "  print(res)\r\n",
        "  RF_mse = RF_mse.append(res, ignore_index=True)\r\n",
        "  DF_res = DF_res.append(res, ignore_index=True)"
      ],
      "execution_count": 65,
      "outputs": [
        {
          "output_type": "stream",
          "text": [
            "{'model': 'RF-19', 'n_estimators': 1000, 'max_depth': 9, 'max_features': 1, 'mse': 147.5767423467687}\n",
            "{'model': 'RF-20', 'n_estimators': 1000, 'max_depth': 9, 'max_features': 2, 'mse': 145.99074787354164}\n",
            "{'model': 'RF-21', 'n_estimators': 1000, 'max_depth': 9, 'max_features': 3, 'mse': 145.10943573016505}\n",
            "{'model': 'RF-22', 'n_estimators': 1000, 'max_depth': 9, 'max_features': 5, 'mse': 144.5981891250126}\n",
            "{'model': 'RF-23', 'n_estimators': 1000, 'max_depth': 9, 'max_features': 7, 'mse': 144.75054862079725}\n"
          ],
          "name": "stdout"
        }
      ]
    },
    {
      "cell_type": "code",
      "metadata": {
        "colab": {
          "base_uri": "https://localhost:8080/",
          "height": 619
        },
        "id": "kE2KfY2iF6W8",
        "outputId": "f4190b47-601a-451f-b75f-64a8b5c6b7de"
      },
      "source": [
        "RF_mse.sort_values(by='mse')"
      ],
      "execution_count": 66,
      "outputs": [
        {
          "output_type": "execute_result",
          "data": {
            "text/html": [
              "<div>\n",
              "<style scoped>\n",
              "    .dataframe tbody tr th:only-of-type {\n",
              "        vertical-align: middle;\n",
              "    }\n",
              "\n",
              "    .dataframe tbody tr th {\n",
              "        vertical-align: top;\n",
              "    }\n",
              "\n",
              "    .dataframe thead th {\n",
              "        text-align: right;\n",
              "    }\n",
              "</style>\n",
              "<table border=\"1\" class=\"dataframe\">\n",
              "  <thead>\n",
              "    <tr style=\"text-align: right;\">\n",
              "      <th></th>\n",
              "      <th>model</th>\n",
              "      <th>n_estimators</th>\n",
              "      <th>max_depth</th>\n",
              "      <th>max_features</th>\n",
              "      <th>mse</th>\n",
              "    </tr>\n",
              "  </thead>\n",
              "  <tbody>\n",
              "    <tr>\n",
              "      <th>17</th>\n",
              "      <td>RF-22</td>\n",
              "      <td>1000</td>\n",
              "      <td>9</td>\n",
              "      <td>5</td>\n",
              "      <td>144.598189</td>\n",
              "    </tr>\n",
              "    <tr>\n",
              "      <th>18</th>\n",
              "      <td>RF-23</td>\n",
              "      <td>1000</td>\n",
              "      <td>9</td>\n",
              "      <td>7</td>\n",
              "      <td>144.750549</td>\n",
              "    </tr>\n",
              "    <tr>\n",
              "      <th>11</th>\n",
              "      <td>RF-15</td>\n",
              "      <td>1000</td>\n",
              "      <td>9</td>\n",
              "      <td>auto</td>\n",
              "      <td>144.750549</td>\n",
              "    </tr>\n",
              "    <tr>\n",
              "      <th>16</th>\n",
              "      <td>RF-21</td>\n",
              "      <td>1000</td>\n",
              "      <td>9</td>\n",
              "      <td>3</td>\n",
              "      <td>145.109436</td>\n",
              "    </tr>\n",
              "    <tr>\n",
              "      <th>12</th>\n",
              "      <td>RF-16</td>\n",
              "      <td>1000</td>\n",
              "      <td>11</td>\n",
              "      <td>auto</td>\n",
              "      <td>145.273841</td>\n",
              "    </tr>\n",
              "    <tr>\n",
              "      <th>15</th>\n",
              "      <td>RF-20</td>\n",
              "      <td>1000</td>\n",
              "      <td>9</td>\n",
              "      <td>2</td>\n",
              "      <td>145.990748</td>\n",
              "    </tr>\n",
              "    <tr>\n",
              "      <th>10</th>\n",
              "      <td>RF-14</td>\n",
              "      <td>1000</td>\n",
              "      <td>7</td>\n",
              "      <td>auto</td>\n",
              "      <td>146.147610</td>\n",
              "    </tr>\n",
              "    <tr>\n",
              "      <th>14</th>\n",
              "      <td>RF-19</td>\n",
              "      <td>1000</td>\n",
              "      <td>9</td>\n",
              "      <td>1</td>\n",
              "      <td>147.576742</td>\n",
              "    </tr>\n",
              "    <tr>\n",
              "      <th>13</th>\n",
              "      <td>RF-17</td>\n",
              "      <td>1000</td>\n",
              "      <td>13</td>\n",
              "      <td>auto</td>\n",
              "      <td>147.733536</td>\n",
              "    </tr>\n",
              "    <tr>\n",
              "      <th>9</th>\n",
              "      <td>RF-13</td>\n",
              "      <td>1000</td>\n",
              "      <td>5</td>\n",
              "      <td>auto</td>\n",
              "      <td>149.015870</td>\n",
              "    </tr>\n",
              "    <tr>\n",
              "      <th>6</th>\n",
              "      <td>RF-10</td>\n",
              "      <td>1000</td>\n",
              "      <td>None</td>\n",
              "      <td>auto</td>\n",
              "      <td>153.943710</td>\n",
              "    </tr>\n",
              "    <tr>\n",
              "      <th>5</th>\n",
              "      <td>RF-9</td>\n",
              "      <td>700</td>\n",
              "      <td>None</td>\n",
              "      <td>auto</td>\n",
              "      <td>153.975507</td>\n",
              "    </tr>\n",
              "    <tr>\n",
              "      <th>4</th>\n",
              "      <td>RF-5</td>\n",
              "      <td>500</td>\n",
              "      <td>None</td>\n",
              "      <td>auto</td>\n",
              "      <td>154.027957</td>\n",
              "    </tr>\n",
              "    <tr>\n",
              "      <th>1</th>\n",
              "      <td>RF-2</td>\n",
              "      <td>100</td>\n",
              "      <td>None</td>\n",
              "      <td>auto</td>\n",
              "      <td>154.029570</td>\n",
              "    </tr>\n",
              "    <tr>\n",
              "      <th>2</th>\n",
              "      <td>RF-3</td>\n",
              "      <td>200</td>\n",
              "      <td>None</td>\n",
              "      <td>auto</td>\n",
              "      <td>154.057501</td>\n",
              "    </tr>\n",
              "    <tr>\n",
              "      <th>3</th>\n",
              "      <td>RF-4</td>\n",
              "      <td>300</td>\n",
              "      <td>None</td>\n",
              "      <td>auto</td>\n",
              "      <td>154.074442</td>\n",
              "    </tr>\n",
              "    <tr>\n",
              "      <th>8</th>\n",
              "      <td>RF-12</td>\n",
              "      <td>1000</td>\n",
              "      <td>3</td>\n",
              "      <td>auto</td>\n",
              "      <td>154.430132</td>\n",
              "    </tr>\n",
              "    <tr>\n",
              "      <th>0</th>\n",
              "      <td>RF-1</td>\n",
              "      <td>50</td>\n",
              "      <td>None</td>\n",
              "      <td>auto</td>\n",
              "      <td>154.649871</td>\n",
              "    </tr>\n",
              "    <tr>\n",
              "      <th>7</th>\n",
              "      <td>RF-11</td>\n",
              "      <td>1000</td>\n",
              "      <td>2</td>\n",
              "      <td>auto</td>\n",
              "      <td>158.868133</td>\n",
              "    </tr>\n",
              "  </tbody>\n",
              "</table>\n",
              "</div>"
            ],
            "text/plain": [
              "    model n_estimators max_depth max_features         mse\n",
              "17  RF-22         1000         9            5  144.598189\n",
              "18  RF-23         1000         9            7  144.750549\n",
              "11  RF-15         1000         9         auto  144.750549\n",
              "16  RF-21         1000         9            3  145.109436\n",
              "12  RF-16         1000        11         auto  145.273841\n",
              "15  RF-20         1000         9            2  145.990748\n",
              "10  RF-14         1000         7         auto  146.147610\n",
              "14  RF-19         1000         9            1  147.576742\n",
              "13  RF-17         1000        13         auto  147.733536\n",
              "9   RF-13         1000         5         auto  149.015870\n",
              "6   RF-10         1000      None         auto  153.943710\n",
              "5    RF-9          700      None         auto  153.975507\n",
              "4    RF-5          500      None         auto  154.027957\n",
              "1    RF-2          100      None         auto  154.029570\n",
              "2    RF-3          200      None         auto  154.057501\n",
              "3    RF-4          300      None         auto  154.074442\n",
              "8   RF-12         1000         3         auto  154.430132\n",
              "0    RF-1           50      None         auto  154.649871\n",
              "7   RF-11         1000         2         auto  158.868133"
            ]
          },
          "metadata": {
            "tags": []
          },
          "execution_count": 66
        }
      ]
    },
    {
      "cell_type": "markdown",
      "metadata": {
        "id": "mqa4ls-0FxO8"
      },
      "source": [
        "## 6, Gradient Boosting"
      ]
    },
    {
      "cell_type": "markdown",
      "metadata": {
        "id": "AwjtCjxPF3gb"
      },
      "source": [
        "### 모델링"
      ]
    },
    {
      "cell_type": "code",
      "metadata": {
        "id": "xs_GvxvOF5IB"
      },
      "source": [
        "from sklearn.ensemble import GradientBoostingRegressor\r\n",
        "\r\n",
        "def gradient(model,X,y, n_est, lr=0.0001, mf='auto', md=None, visualFeatures=False):\r\n",
        "  # split\r\n",
        "  X_train, X_test, y_train, y_test = train_test_split(X, y, stratify =y,test_size=0.3, random_state=2045)\r\n",
        "\r\n",
        "  # modeling\r\n",
        "  GB = GradientBoostingRegressor(loss='ls', n_estimators=n_est, max_features=mf, max_depth=md, learning_rate=lr, criterion='mse')\r\n",
        "  GB.fit(X_train, y_train)\r\n",
        "\r\n",
        "  # mse\r\n",
        "  GB_mse = np.sqrt(mean_squared_error(y_test, GB.predict(X_test)))\r\n",
        "\r\n",
        "  if visualFeatures:\r\n",
        "    sns.barplot(GB.feature_importances_, X.columns)\r\n",
        "    plt.show()\r\n",
        "\r\n",
        "  return {'model':model, 'n_estimators':n_est, 'max_depth':md, 'max_features':mf, 'learning_rate':lr, 'mse':GB_mse}"
      ],
      "execution_count": 73,
      "outputs": []
    },
    {
      "cell_type": "markdown",
      "metadata": {
        "id": "uQQcr5ZiJsWr"
      },
      "source": [
        "  ### Hyperparameter(n_estimators)"
      ]
    },
    {
      "cell_type": "code",
      "metadata": {
        "colab": {
          "base_uri": "https://localhost:8080/"
        },
        "id": "iimZHpryHTVh",
        "outputId": "e9eacd3c-26f5-477d-9a79-f9047e1f78ec"
      },
      "source": [
        "GB_mse = pd.DataFrame(columns=['model','n_estimators','max_depth','max_features','learning_rate','mse'])\r\n",
        "a = [50, 100, 200, 300, 500, 700, 1000]\r\n",
        "index = 1\r\n",
        "\r\n",
        "for i in a:\r\n",
        "  model = 'GB-'+str(index)\r\n",
        "  index += 1\r\n",
        "  res = gradient(model, X, y, n_est=i )\r\n",
        "  print(res)\r\n",
        "  GB_mse = GB_mse.append(res, ignore_index=True)\r\n",
        "  DF_res = DF_res.append(res, ignore_index=True)"
      ],
      "execution_count": 74,
      "outputs": [
        {
          "output_type": "stream",
          "text": [
            "{'model': 'GB-1', 'n_estimators': 50, 'max_depth': None, 'max_features': 'auto', 'learning_rate': 0.0001, 'mse': 180.0549896959866}\n",
            "{'model': 'GB-2', 'n_estimators': 100, 'max_depth': None, 'max_features': 'auto', 'learning_rate': 0.0001, 'mse': 179.68942560458913}\n",
            "{'model': 'GB-3', 'n_estimators': 200, 'max_depth': None, 'max_features': 'auto', 'learning_rate': 0.0001, 'mse': 178.97572096387782}\n",
            "{'model': 'GB-4', 'n_estimators': 300, 'max_depth': None, 'max_features': 'auto', 'learning_rate': 0.0001, 'mse': 178.28520390832037}\n",
            "{'model': 'GB-5', 'n_estimators': 500, 'max_depth': None, 'max_features': 'auto', 'learning_rate': 0.0001, 'mse': 176.9682758308195}\n",
            "{'model': 'GB-6', 'n_estimators': 700, 'max_depth': None, 'max_features': 'auto', 'learning_rate': 0.0001, 'mse': 175.72948764154816}\n",
            "{'model': 'GB-7', 'n_estimators': 1000, 'max_depth': None, 'max_features': 'auto', 'learning_rate': 0.0001, 'mse': 174.02009482796694}\n"
          ],
          "name": "stdout"
        }
      ]
    },
    {
      "cell_type": "markdown",
      "metadata": {
        "id": "yquJkp4uHPos"
      },
      "source": [
        "  ### Hyperparameter(max_features)"
      ]
    },
    {
      "cell_type": "code",
      "metadata": {
        "colab": {
          "base_uri": "https://localhost:8080/"
        },
        "id": "HgYR423GH1B7",
        "outputId": "669f1d41-d973-4fff-e723-721c9f933f50"
      },
      "source": [
        "a = [1,2,4,5,7]\r\n",
        "\r\n",
        "for i in a :\r\n",
        "  model = 'GB-'+str(index)\r\n",
        "  index += 1\r\n",
        "  res = gradient(model, X, y, n_est=1000 , mf=i)\r\n",
        "  print(res)\r\n",
        "  GB_mse = GB_mse.append(res, ignore_index=True)\r\n",
        "  DF_res = DF_res.append(res, ignore_index=True)"
      ],
      "execution_count": 76,
      "outputs": [
        {
          "output_type": "stream",
          "text": [
            "{'model': 'GB-8', 'n_estimators': 1000, 'max_depth': None, 'max_features': 1, 'learning_rate': 0.0001, 'mse': 173.77593237384363}\n",
            "{'model': 'GB-9', 'n_estimators': 1000, 'max_depth': None, 'max_features': 2, 'learning_rate': 0.0001, 'mse': 173.69957108792434}\n",
            "{'model': 'GB-10', 'n_estimators': 1000, 'max_depth': None, 'max_features': 4, 'learning_rate': 0.0001, 'mse': 173.62201384667526}\n",
            "{'model': 'GB-11', 'n_estimators': 1000, 'max_depth': None, 'max_features': 5, 'learning_rate': 0.0001, 'mse': 173.6241299168518}\n",
            "{'model': 'GB-12', 'n_estimators': 1000, 'max_depth': None, 'max_features': 7, 'learning_rate': 0.0001, 'mse': 174.02372140344548}\n"
          ],
          "name": "stdout"
        }
      ]
    },
    {
      "cell_type": "markdown",
      "metadata": {
        "id": "g3gt2eHEIXn8"
      },
      "source": [
        "  ### Hyperparameter(max_depth)"
      ]
    },
    {
      "cell_type": "code",
      "metadata": {
        "colab": {
          "base_uri": "https://localhost:8080/"
        },
        "id": "5kdfEMSUIZeD",
        "outputId": "08626a43-827f-46ec-c212-6b26b1faa496"
      },
      "source": [
        "a = [3,5,7,10,13,15]\r\n",
        "\r\n",
        "for i in a:\r\n",
        "  model = 'GB-'+str(index)\r\n",
        "  index += 1\r\n",
        "  res = gradient(model, X, y, n_est= 1000, mf=4 , md=i)\r\n",
        "  print(res)\r\n",
        "  GB_mse = GB_mse.append(res, ignore_index=True)\r\n",
        "  DF_res = DF_res.append(res, ignore_index=True)"
      ],
      "execution_count": 78,
      "outputs": [
        {
          "output_type": "stream",
          "text": [
            "{'model': 'GB-13', 'n_estimators': 1000, 'max_depth': 3, 'max_features': 4, 'learning_rate': 0.0001, 'mse': 176.73787898719416}\n",
            "{'model': 'GB-14', 'n_estimators': 1000, 'max_depth': 5, 'max_features': 4, 'learning_rate': 0.0001, 'mse': 175.78821026518668}\n",
            "{'model': 'GB-15', 'n_estimators': 1000, 'max_depth': 7, 'max_features': 4, 'learning_rate': 0.0001, 'mse': 175.15586316666608}\n",
            "{'model': 'GB-16', 'n_estimators': 1000, 'max_depth': 10, 'max_features': 4, 'learning_rate': 0.0001, 'mse': 174.4196933945583}\n",
            "{'model': 'GB-17', 'n_estimators': 1000, 'max_depth': 13, 'max_features': 4, 'learning_rate': 0.0001, 'mse': 173.9164992607649}\n",
            "{'model': 'GB-18', 'n_estimators': 1000, 'max_depth': 15, 'max_features': 4, 'learning_rate': 0.0001, 'mse': 173.76307271300666}\n"
          ],
          "name": "stdout"
        }
      ]
    },
    {
      "cell_type": "markdown",
      "metadata": {
        "id": "08dGiHQEIhxz"
      },
      "source": [
        "  ### Hyperparameter(learning_rate)"
      ]
    },
    {
      "cell_type": "code",
      "metadata": {
        "colab": {
          "base_uri": "https://localhost:8080/"
        },
        "id": "a2Wju4oDIkNb",
        "outputId": "f490c504-1d67-425b-cb31-1a59fd047dc6"
      },
      "source": [
        "a = [0.0001, 0.001, 0.01, 0.1]\r\n",
        "\r\n",
        "for i in a:\r\n",
        "  model = 'GB-'+str(index)\r\n",
        "  index += 1\r\n",
        "  res = gradient(model, X, y, n_est=1000 , mf= 4, md=15 , lr=i)\r\n",
        "  print(res)\r\n",
        "  GB_mse = GB_mse.append(res, ignore_index=True)\r\n",
        "  DF_res = DF_res.append(res, ignore_index=True)"
      ],
      "execution_count": 80,
      "outputs": [
        {
          "output_type": "stream",
          "text": [
            "{'model': 'GB-19', 'n_estimators': 1000, 'max_depth': 15, 'max_features': 4, 'learning_rate': 0.0001, 'mse': 173.7503959881156}\n",
            "{'model': 'GB-20', 'n_estimators': 1000, 'max_depth': 15, 'max_features': 4, 'learning_rate': 0.001, 'mse': 152.48877264701636}\n",
            "{'model': 'GB-21', 'n_estimators': 1000, 'max_depth': 15, 'max_features': 4, 'learning_rate': 0.01, 'mse': 166.31342841934168}\n",
            "{'model': 'GB-22', 'n_estimators': 1000, 'max_depth': 15, 'max_features': 4, 'learning_rate': 0.1, 'mse': 168.32912104211016}\n"
          ],
          "name": "stdout"
        }
      ]
    },
    {
      "cell_type": "code",
      "metadata": {
        "colab": {
          "base_uri": "https://localhost:8080/"
        },
        "id": "Q4l7xPbEKTPx",
        "outputId": "f957a0ba-e0fa-4072-93da-7ad1fe48ef53"
      },
      "source": [
        "a = [0.3,0.5,0.7,0.9]\r\n",
        "\r\n",
        "for i in a:\r\n",
        "  model = 'GB-'+str(index)\r\n",
        "  index += 1\r\n",
        "  res = gradient(model, X, y, n_est=1000 , mf= 4, md=15 , lr=i)\r\n",
        "  print(res)\r\n",
        "  GB_mse = GB_mse.append(res, ignore_index=True)\r\n",
        "  DF_res = DF_res.append(res, ignore_index=True)"
      ],
      "execution_count": 82,
      "outputs": [
        {
          "output_type": "stream",
          "text": [
            "{'model': 'GB-23', 'n_estimators': 1000, 'max_depth': 15, 'max_features': 4, 'learning_rate': 0.3, 'mse': 171.74929282549303}\n",
            "{'model': 'GB-24', 'n_estimators': 1000, 'max_depth': 15, 'max_features': 4, 'learning_rate': 0.5, 'mse': 176.47313194069116}\n",
            "{'model': 'GB-25', 'n_estimators': 1000, 'max_depth': 15, 'max_features': 4, 'learning_rate': 0.7, 'mse': 182.00393970967272}\n",
            "{'model': 'GB-26', 'n_estimators': 1000, 'max_depth': 15, 'max_features': 4, 'learning_rate': 0.9, 'mse': 194.2547634244998}\n"
          ],
          "name": "stdout"
        }
      ]
    },
    {
      "cell_type": "code",
      "metadata": {
        "colab": {
          "base_uri": "https://localhost:8080/",
          "height": 198
        },
        "id": "PjxtDCkKIsT9",
        "outputId": "b86a0c9d-4f25-4b03-9392-1019cabe1948"
      },
      "source": [
        "GB_mse.sort_values(by='mse').head()"
      ],
      "execution_count": 83,
      "outputs": [
        {
          "output_type": "execute_result",
          "data": {
            "text/html": [
              "<div>\n",
              "<style scoped>\n",
              "    .dataframe tbody tr th:only-of-type {\n",
              "        vertical-align: middle;\n",
              "    }\n",
              "\n",
              "    .dataframe tbody tr th {\n",
              "        vertical-align: top;\n",
              "    }\n",
              "\n",
              "    .dataframe thead th {\n",
              "        text-align: right;\n",
              "    }\n",
              "</style>\n",
              "<table border=\"1\" class=\"dataframe\">\n",
              "  <thead>\n",
              "    <tr style=\"text-align: right;\">\n",
              "      <th></th>\n",
              "      <th>model</th>\n",
              "      <th>n_estimators</th>\n",
              "      <th>max_depth</th>\n",
              "      <th>max_features</th>\n",
              "      <th>learning_rate</th>\n",
              "      <th>mse</th>\n",
              "    </tr>\n",
              "  </thead>\n",
              "  <tbody>\n",
              "    <tr>\n",
              "      <th>19</th>\n",
              "      <td>GB-20</td>\n",
              "      <td>1000</td>\n",
              "      <td>15</td>\n",
              "      <td>4</td>\n",
              "      <td>0.0010</td>\n",
              "      <td>152.488773</td>\n",
              "    </tr>\n",
              "    <tr>\n",
              "      <th>20</th>\n",
              "      <td>GB-21</td>\n",
              "      <td>1000</td>\n",
              "      <td>15</td>\n",
              "      <td>4</td>\n",
              "      <td>0.0100</td>\n",
              "      <td>166.313428</td>\n",
              "    </tr>\n",
              "    <tr>\n",
              "      <th>21</th>\n",
              "      <td>GB-22</td>\n",
              "      <td>1000</td>\n",
              "      <td>15</td>\n",
              "      <td>4</td>\n",
              "      <td>0.1000</td>\n",
              "      <td>168.329121</td>\n",
              "    </tr>\n",
              "    <tr>\n",
              "      <th>22</th>\n",
              "      <td>GB-23</td>\n",
              "      <td>1000</td>\n",
              "      <td>15</td>\n",
              "      <td>4</td>\n",
              "      <td>0.3000</td>\n",
              "      <td>171.749293</td>\n",
              "    </tr>\n",
              "    <tr>\n",
              "      <th>9</th>\n",
              "      <td>GB-10</td>\n",
              "      <td>1000</td>\n",
              "      <td>None</td>\n",
              "      <td>4</td>\n",
              "      <td>0.0001</td>\n",
              "      <td>173.622014</td>\n",
              "    </tr>\n",
              "  </tbody>\n",
              "</table>\n",
              "</div>"
            ],
            "text/plain": [
              "    model n_estimators max_depth max_features  learning_rate         mse\n",
              "19  GB-20         1000        15            4         0.0010  152.488773\n",
              "20  GB-21         1000        15            4         0.0100  166.313428\n",
              "21  GB-22         1000        15            4         0.1000  168.329121\n",
              "22  GB-23         1000        15            4         0.3000  171.749293\n",
              "9   GB-10         1000      None            4         0.0001  173.622014"
            ]
          },
          "metadata": {
            "tags": []
          },
          "execution_count": 83
        }
      ]
    },
    {
      "cell_type": "markdown",
      "metadata": {
        "id": "GdnAzpFuI1cH"
      },
      "source": [
        "## 7, LightGBM"
      ]
    },
    {
      "cell_type": "markdown",
      "metadata": {
        "id": "XVkmesZSI5Xq"
      },
      "source": [
        "### 모델링"
      ]
    },
    {
      "cell_type": "code",
      "metadata": {
        "id": "L8qtd3shI09j"
      },
      "source": [
        "from lightgbm import LGBMRegressor\r\n",
        "\r\n",
        "def lightgbm(model,X,y, n_est, lr=0.0001, md=None):\r\n",
        "  # split\r\n",
        "  X_train, X_test, y_train, y_test = train_test_split(X, y, stratify =y,test_size=0.3, random_state=2045)\r\n",
        "\r\n",
        "  # modeling\r\n",
        "  LG = LGBMRegressor(linear_tree = True, boosting_type='gbdt', objective ='regression',\r\n",
        "                   n_estimators = n_est, learning_rate=lr, max_depth=md, n_jobs=-1)\r\n",
        "  LG.fit(X_train, y_train)\r\n",
        "\r\n",
        "  # mse\r\n",
        "  LG_mse = np.sqrt(mean_squared_error(y_test, LG.predict(X_test)))\r\n",
        "\r\n",
        "\r\n",
        "\r\n",
        "  return {'model':model, 'n_estimators':n_est, 'max_depth':md, 'learning_rate':lr, 'mse':LG_mse}"
      ],
      "execution_count": 84,
      "outputs": []
    },
    {
      "cell_type": "markdown",
      "metadata": {
        "id": "jVoKhbeFFq_H"
      },
      "source": [
        "  ### Hyperparameter(n_estimators)"
      ]
    },
    {
      "cell_type": "code",
      "metadata": {
        "colab": {
          "base_uri": "https://localhost:8080/"
        },
        "id": "cdi2bBxuJvYr",
        "outputId": "0729cd9d-6d9b-4ad5-cf62-72d03a040299"
      },
      "source": [
        "LG_mse = pd.DataFrame(columns=['model','n_estimators','max_depth','learning_rate','mse'])\r\n",
        "a = [50, 100, 200, 300, 500, 700, 1000]\r\n",
        "index = 1\r\n",
        "\r\n",
        "for i in a:\r\n",
        "  model = 'LG-'+str(index)\r\n",
        "  index += 1\r\n",
        "  res = lightgbm(model, X, y, n_est=i )\r\n",
        "  print(res)\r\n",
        "  LG_mse = LG_mse.append(res, ignore_index=True)\r\n",
        "  DF_res = DF_res.append(res, ignore_index=True)"
      ],
      "execution_count": 85,
      "outputs": [
        {
          "output_type": "stream",
          "text": [
            "{'model': 'LG-1', 'n_estimators': 50, 'max_depth': None, 'learning_rate': 0.0001, 'mse': 180.15384201142484}\n",
            "{'model': 'LG-2', 'n_estimators': 100, 'max_depth': None, 'learning_rate': 0.0001, 'mse': 179.88454182819333}\n",
            "{'model': 'LG-3', 'n_estimators': 200, 'max_depth': None, 'learning_rate': 0.0001, 'mse': 179.35441742967794}\n",
            "{'model': 'LG-4', 'n_estimators': 300, 'max_depth': None, 'learning_rate': 0.0001, 'mse': 178.83542241592446}\n",
            "{'model': 'LG-5', 'n_estimators': 500, 'max_depth': None, 'learning_rate': 0.0001, 'mse': 177.81701047328326}\n",
            "{'model': 'LG-6', 'n_estimators': 700, 'max_depth': None, 'learning_rate': 0.0001, 'mse': 176.830145482395}\n",
            "{'model': 'LG-7', 'n_estimators': 1000, 'max_depth': None, 'learning_rate': 0.0001, 'mse': 175.40838250259893}\n"
          ],
          "name": "stdout"
        }
      ]
    },
    {
      "cell_type": "markdown",
      "metadata": {
        "id": "9Nefn1a0Jmy8"
      },
      "source": [
        "  ### Hyperparameter(max_depth)"
      ]
    },
    {
      "cell_type": "code",
      "metadata": {
        "colab": {
          "base_uri": "https://localhost:8080/"
        },
        "id": "m4YDSnm0J_C8",
        "outputId": "cc1f9d4a-47cb-4aa9-d58f-7816144b357d"
      },
      "source": [
        "a = [3,5,7,10,13,15]\r\n",
        "\r\n",
        "for i in a:\r\n",
        "  model = 'LG-'+str(index)\r\n",
        "  index += 1\r\n",
        "  res = lightgbm(model, X, y, n_est= 1000, md=i)\r\n",
        "  print(res)\r\n",
        "  LG_mse = LG_mse.append(res, ignore_index=True)\r\n",
        "  DF_res = DF_res.append(res, ignore_index=True)"
      ],
      "execution_count": 86,
      "outputs": [
        {
          "output_type": "stream",
          "text": [
            "{'model': 'LG-8', 'n_estimators': 1000, 'max_depth': 3, 'learning_rate': 0.0001, 'mse': 176.3102793557173}\n",
            "{'model': 'LG-9', 'n_estimators': 1000, 'max_depth': 5, 'learning_rate': 0.0001, 'mse': 175.51271177909922}\n",
            "{'model': 'LG-10', 'n_estimators': 1000, 'max_depth': 7, 'learning_rate': 0.0001, 'mse': 175.38604609330207}\n",
            "{'model': 'LG-11', 'n_estimators': 1000, 'max_depth': 10, 'learning_rate': 0.0001, 'mse': 175.40838250259893}\n",
            "{'model': 'LG-12', 'n_estimators': 1000, 'max_depth': 13, 'learning_rate': 0.0001, 'mse': 175.40838250259893}\n",
            "{'model': 'LG-13', 'n_estimators': 1000, 'max_depth': 15, 'learning_rate': 0.0001, 'mse': 175.40838250259893}\n"
          ],
          "name": "stdout"
        }
      ]
    },
    {
      "cell_type": "markdown",
      "metadata": {
        "id": "gmLDOD8-JhnE"
      },
      "source": [
        "  ### Hyperparameter(learning_rate)"
      ]
    },
    {
      "cell_type": "code",
      "metadata": {
        "colab": {
          "base_uri": "https://localhost:8080/"
        },
        "id": "6RE1QCjxKH2J",
        "outputId": "3fb6fbac-b94e-420c-bed2-d4bc8629e1fe"
      },
      "source": [
        "a = [0.001,0.003,0.005,0.007,0.009]\r\n",
        "\r\n",
        "for i in a:\r\n",
        "  model = 'LG-'+str(index)\r\n",
        "  index += 1\r\n",
        "  res = lightgbm(model, X, y, n_est=1000 , md=7, lr=i)\r\n",
        "  print(res)\r\n",
        "  LG_mse = LG_mse.append(res, ignore_index=True)\r\n",
        "  DF_res = DF_res.append(res, ignore_index=True)"
      ],
      "execution_count": 87,
      "outputs": [
        {
          "output_type": "stream",
          "text": [
            "{'model': 'LG-14', 'n_estimators': 1000, 'max_depth': 7, 'learning_rate': 0.001, 'mse': 153.4107542449748}\n",
            "{'model': 'LG-15', 'n_estimators': 1000, 'max_depth': 7, 'learning_rate': 0.003, 'mse': 146.50948162730805}\n",
            "{'model': 'LG-16', 'n_estimators': 1000, 'max_depth': 7, 'learning_rate': 0.005, 'mse': 145.8017632599479}\n",
            "{'model': 'LG-17', 'n_estimators': 1000, 'max_depth': 7, 'learning_rate': 0.007, 'mse': 145.9611088885786}\n",
            "{'model': 'LG-18', 'n_estimators': 1000, 'max_depth': 7, 'learning_rate': 0.009, 'mse': 146.20936677092817}\n"
          ],
          "name": "stdout"
        }
      ]
    },
    {
      "cell_type": "markdown",
      "metadata": {
        "id": "QU0yNqrWLHHa"
      },
      "source": [
        "## 성능비교"
      ]
    },
    {
      "cell_type": "code",
      "metadata": {
        "colab": {
          "base_uri": "https://localhost:8080/",
          "height": 169
        },
        "id": "Wviqp6SqKv7S",
        "outputId": "d83dd82a-cdd4-4dbc-a3df-89a96b05cf8a"
      },
      "source": [
        "DF_res_sort = DF_res.sort_values(by='mse')"
      ],
      "execution_count": 92,
      "outputs": [
        {
          "output_type": "error",
          "ename": "TypeError",
          "evalue": "ignored",
          "traceback": [
            "\u001b[0;31m---------------------------------------------------------------------------\u001b[0m",
            "\u001b[0;31mTypeError\u001b[0m                                 Traceback (most recent call last)",
            "\u001b[0;32m<ipython-input-92-36a1e714d8f0>\u001b[0m in \u001b[0;36m<module>\u001b[0;34m()\u001b[0m\n\u001b[0;32m----> 1\u001b[0;31m \u001b[0mMR_mse\u001b[0m \u001b[0;34m=\u001b[0m \u001b[0mMR_mse\u001b[0m\u001b[0;34m.\u001b[0m\u001b[0msort_values\u001b[0m\u001b[0;34m(\u001b[0m\u001b[0mby\u001b[0m\u001b[0;34m=\u001b[0m\u001b[0;34m'mse'\u001b[0m\u001b[0;34m)\u001b[0m\u001b[0;34m[\u001b[0m\u001b[0;34m'mse'\u001b[0m\u001b[0;34m]\u001b[0m\u001b[0;34m.\u001b[0m\u001b[0mhead\u001b[0m\u001b[0;34m(\u001b[0m\u001b[0;36m1\u001b[0m\u001b[0;34m)\u001b[0m\u001b[0;34m\u001b[0m\u001b[0;34m\u001b[0m\u001b[0m\n\u001b[0m",
            "\u001b[0;31mTypeError\u001b[0m: sort_values() got an unexpected keyword argument 'by'"
          ]
        }
      ]
    },
    {
      "cell_type": "code",
      "metadata": {
        "id": "PU4bm3ogZ0xa"
      },
      "source": [
        "plt.figure(figsize = (15, 6))\r\n",
        "sns.barplot(x = DF_res_sort.model, y = DF_res_sort['mse'])\r\n",
        "plt.title('mse')\r\n",
        "plt.show()"
      ],
      "execution_count": null,
      "outputs": []
    }
  ]
}