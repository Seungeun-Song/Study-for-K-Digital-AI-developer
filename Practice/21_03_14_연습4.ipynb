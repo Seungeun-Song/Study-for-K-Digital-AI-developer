{
  "nbformat": 4,
  "nbformat_minor": 0,
  "metadata": {
    "colab": {
      "name": "Untitled1.ipynb",
      "provenance": [],
      "toc_visible": true
    },
    "kernelspec": {
      "name": "python3",
      "display_name": "Python 3"
    }
  },
  "cells": [
    {
      "cell_type": "markdown",
      "metadata": {
        "id": "vw9lnnYNoO6d"
      },
      "source": [
        "# Bike_sharing"
      ]
    },
    {
      "cell_type": "markdown",
      "metadata": {
        "id": "MpesjMAllnBl"
      },
      "source": [
        "# Encoding"
      ]
    },
    {
      "cell_type": "code",
      "metadata": {
        "id": "KEne_0FJlqT7"
      },
      "source": [
        "from sklearn.preprocessing import LabelEncoder\r\n",
        "\r\n",
        "encoder = LabelEncoder()\r\n",
        "Y = encoder.fit_transform(y)\r\n",
        "Y[:5]"
      ],
      "execution_count": null,
      "outputs": []
    },
    {
      "cell_type": "markdown",
      "metadata": {
        "id": "IJ7bdq3IhhHG"
      },
      "source": [
        "# 2, Regression- np.sqrt(mse)\r\n"
      ]
    },
    {
      "cell_type": "code",
      "metadata": {
        "colab": {
          "base_uri": "https://localhost:8080/"
        },
        "id": "XQYArZlyhH1U",
        "outputId": "a555989f-29e2-444b-eb17-ab9170a6261a"
      },
      "source": [
        "import pandas as pd\r\n",
        "DF = pd.read_csv('https://raw.githubusercontent.com/rusita-ai/pyData/master/Bike_Sharing_Demand.csv')\r\n",
        "DF.info()"
      ],
      "execution_count": 1,
      "outputs": [
        {
          "output_type": "stream",
          "text": [
            "<class 'pandas.core.frame.DataFrame'>\n",
            "RangeIndex: 10886 entries, 0 to 10885\n",
            "Data columns (total 12 columns):\n",
            " #   Column      Non-Null Count  Dtype  \n",
            "---  ------      --------------  -----  \n",
            " 0   datetime    10886 non-null  object \n",
            " 1   season      10886 non-null  int64  \n",
            " 2   holiday     10886 non-null  int64  \n",
            " 3   workingday  10886 non-null  int64  \n",
            " 4   weather     10886 non-null  int64  \n",
            " 5   temp        10886 non-null  float64\n",
            " 6   atemp       10886 non-null  float64\n",
            " 7   humidity    10886 non-null  int64  \n",
            " 8   windspeed   10886 non-null  float64\n",
            " 9   casual      10886 non-null  int64  \n",
            " 10  registered  10886 non-null  int64  \n",
            " 11  count       10886 non-null  int64  \n",
            "dtypes: float64(3), int64(8), object(1)\n",
            "memory usage: 1020.7+ KB\n"
          ],
          "name": "stdout"
        }
      ]
    },
    {
      "cell_type": "code",
      "metadata": {
        "colab": {
          "base_uri": "https://localhost:8080/",
          "height": 198
        },
        "id": "z_AZn4teoYwG",
        "outputId": "84fcff6d-9c4c-41d3-ab11-35b5a5599adc"
      },
      "source": [
        "DF.head()"
      ],
      "execution_count": 2,
      "outputs": [
        {
          "output_type": "execute_result",
          "data": {
            "text/html": [
              "<div>\n",
              "<style scoped>\n",
              "    .dataframe tbody tr th:only-of-type {\n",
              "        vertical-align: middle;\n",
              "    }\n",
              "\n",
              "    .dataframe tbody tr th {\n",
              "        vertical-align: top;\n",
              "    }\n",
              "\n",
              "    .dataframe thead th {\n",
              "        text-align: right;\n",
              "    }\n",
              "</style>\n",
              "<table border=\"1\" class=\"dataframe\">\n",
              "  <thead>\n",
              "    <tr style=\"text-align: right;\">\n",
              "      <th></th>\n",
              "      <th>datetime</th>\n",
              "      <th>season</th>\n",
              "      <th>holiday</th>\n",
              "      <th>workingday</th>\n",
              "      <th>weather</th>\n",
              "      <th>temp</th>\n",
              "      <th>atemp</th>\n",
              "      <th>humidity</th>\n",
              "      <th>windspeed</th>\n",
              "      <th>casual</th>\n",
              "      <th>registered</th>\n",
              "      <th>count</th>\n",
              "    </tr>\n",
              "  </thead>\n",
              "  <tbody>\n",
              "    <tr>\n",
              "      <th>0</th>\n",
              "      <td>2011-01-01 00:00:00</td>\n",
              "      <td>1</td>\n",
              "      <td>0</td>\n",
              "      <td>0</td>\n",
              "      <td>1</td>\n",
              "      <td>9.84</td>\n",
              "      <td>14.395</td>\n",
              "      <td>81</td>\n",
              "      <td>0.0</td>\n",
              "      <td>3</td>\n",
              "      <td>13</td>\n",
              "      <td>16</td>\n",
              "    </tr>\n",
              "    <tr>\n",
              "      <th>1</th>\n",
              "      <td>2011-01-01 01:00:00</td>\n",
              "      <td>1</td>\n",
              "      <td>0</td>\n",
              "      <td>0</td>\n",
              "      <td>1</td>\n",
              "      <td>9.02</td>\n",
              "      <td>13.635</td>\n",
              "      <td>80</td>\n",
              "      <td>0.0</td>\n",
              "      <td>8</td>\n",
              "      <td>32</td>\n",
              "      <td>40</td>\n",
              "    </tr>\n",
              "    <tr>\n",
              "      <th>2</th>\n",
              "      <td>2011-01-01 02:00:00</td>\n",
              "      <td>1</td>\n",
              "      <td>0</td>\n",
              "      <td>0</td>\n",
              "      <td>1</td>\n",
              "      <td>9.02</td>\n",
              "      <td>13.635</td>\n",
              "      <td>80</td>\n",
              "      <td>0.0</td>\n",
              "      <td>5</td>\n",
              "      <td>27</td>\n",
              "      <td>32</td>\n",
              "    </tr>\n",
              "    <tr>\n",
              "      <th>3</th>\n",
              "      <td>2011-01-01 03:00:00</td>\n",
              "      <td>1</td>\n",
              "      <td>0</td>\n",
              "      <td>0</td>\n",
              "      <td>1</td>\n",
              "      <td>9.84</td>\n",
              "      <td>14.395</td>\n",
              "      <td>75</td>\n",
              "      <td>0.0</td>\n",
              "      <td>3</td>\n",
              "      <td>10</td>\n",
              "      <td>13</td>\n",
              "    </tr>\n",
              "    <tr>\n",
              "      <th>4</th>\n",
              "      <td>2011-01-01 04:00:00</td>\n",
              "      <td>1</td>\n",
              "      <td>0</td>\n",
              "      <td>0</td>\n",
              "      <td>1</td>\n",
              "      <td>9.84</td>\n",
              "      <td>14.395</td>\n",
              "      <td>75</td>\n",
              "      <td>0.0</td>\n",
              "      <td>0</td>\n",
              "      <td>1</td>\n",
              "      <td>1</td>\n",
              "    </tr>\n",
              "  </tbody>\n",
              "</table>\n",
              "</div>"
            ],
            "text/plain": [
              "              datetime  season  holiday  ...  casual  registered  count\n",
              "0  2011-01-01 00:00:00       1        0  ...       3          13     16\n",
              "1  2011-01-01 01:00:00       1        0  ...       8          32     40\n",
              "2  2011-01-01 02:00:00       1        0  ...       5          27     32\n",
              "3  2011-01-01 03:00:00       1        0  ...       3          10     13\n",
              "4  2011-01-01 04:00:00       1        0  ...       0           1      1\n",
              "\n",
              "[5 rows x 12 columns]"
            ]
          },
          "metadata": {
            "tags": []
          },
          "execution_count": 2
        }
      ]
    },
    {
      "cell_type": "code",
      "metadata": {
        "id": "a_RB2WVDhX6X"
      },
      "source": [
        "X = DF[['season','holiday','workingday','weather','temp','humidity','windspeed']]\r\n",
        "y = DF['count']"
      ],
      "execution_count": 3,
      "outputs": []
    },
    {
      "cell_type": "markdown",
      "metadata": {
        "id": "2SKteoohyrYN"
      },
      "source": [
        "# scaling"
      ]
    },
    {
      "cell_type": "code",
      "metadata": {
        "id": "Je8I8TInytNV"
      },
      "source": [
        "from sklearn.preprocessing import MinMaxScaler\r\n",
        "\r\n",
        "scaler = MinMaxScaler()\r\n",
        "DF[['season','holiday','workingday','weather','temp','humidity','windspeed']] = scaler.fit_transform(X)"
      ],
      "execution_count": 5,
      "outputs": []
    },
    {
      "cell_type": "markdown",
      "metadata": {
        "id": "8n-PBTOUhjMl"
      },
      "source": [
        "## 1, Multivariate Regression"
      ]
    },
    {
      "cell_type": "markdown",
      "metadata": {
        "id": "fIPtPwY8kV-1"
      },
      "source": [
        "### 모델링"
      ]
    },
    {
      "cell_type": "code",
      "metadata": {
        "id": "7gs4aR6iwymv"
      },
      "source": [
        "from sklearn.linear_model import LinearRegression\r\n",
        "from sklearn.model_selection import train_test_split\r\n",
        "from sklearn.metrics import mean_squared_error\r\n",
        "from sklearn.preprocessing import PolynomialFeatures\r\n",
        "import numpy as np"
      ],
      "execution_count": 6,
      "outputs": []
    },
    {
      "cell_type": "code",
      "metadata": {
        "id": "_rIR9c4qhfn3"
      },
      "source": [
        "def multiReg(model, X, y, dg):\r\n",
        "  # split\r\n",
        "  X_train, X_test, y_train, y_test = train_test_split(X,y, test_size= 0.3, random_state=2045)\r\n",
        "\r\n",
        "  # poly\r\n",
        "  poly = PolynomialFeatures(degree=dg, include_bias=False)\r\n",
        "  PX_tr = poly.fit_transform(X_train)\r\n",
        "  PX_te = poly.fit_transform(X_test)\r\n",
        "\r\n",
        "  # modeling\r\n",
        "  MR = LinearRegression(normalize=True, n_jobs=-1)\r\n",
        "  MR.fit(PX_tr, y_train)\r\n",
        "\r\n",
        "  # evaluate\r\n",
        "  MR_mse = np.sqrt(mean_squared_error(y_test, MR.predict(PX_te)))\r\n",
        "\r\n",
        "  return {'model':model, 'degree':dg, 'mse':MR_mse}"
      ],
      "execution_count": 7,
      "outputs": []
    },
    {
      "cell_type": "markdown",
      "metadata": {
        "id": "jf8EB91LkYP1"
      },
      "source": [
        "### 모델평가(degree)"
      ]
    },
    {
      "cell_type": "code",
      "metadata": {
        "colab": {
          "base_uri": "https://localhost:8080/"
        },
        "id": "T1_hXgm7kUkY",
        "outputId": "75ba314a-7023-4c87-83c5-6d3bcb32fabc"
      },
      "source": [
        "%%time\r\n",
        "MR_mse = pd.DataFrame(columns=['model','degree','mse'])\r\n",
        "a =[1,2,5,7]\r\n",
        "index= 1\r\n",
        "\r\n",
        "for i in a:\r\n",
        "  model = 'MR-'+str(index)\r\n",
        "  index += 1\r\n",
        "  res = multiReg(model, X, y, dg=i)\r\n",
        "  print(res)\r\n",
        "  MR_mse = MR_mse.append(res, ignore_index=True)\r\n"
      ],
      "execution_count": 8,
      "outputs": [
        {
          "output_type": "stream",
          "text": [
            "{'model': 'MR-1', 'degree': 1, 'mse': 156.03395296591316}\n",
            "{'model': 'MR-2', 'degree': 2, 'mse': 151.93139856165664}\n",
            "{'model': 'MR-3', 'degree': 5, 'mse': 1295827594544.5159}\n",
            "{'model': 'MR-4', 'degree': 7, 'mse': 363427590107.84955}\n",
            "CPU times: user 1min 3s, sys: 2.3 s, total: 1min 5s\n",
            "Wall time: 33.8 s\n"
          ],
          "name": "stdout"
        }
      ]
    },
    {
      "cell_type": "markdown",
      "metadata": {
        "id": "aVwhTBkZmPuR"
      },
      "source": [
        "## 2, Ridge Regression"
      ]
    },
    {
      "cell_type": "markdown",
      "metadata": {
        "id": "xmM_qYUrmVf_"
      },
      "source": [
        "### 모델링"
      ]
    },
    {
      "cell_type": "code",
      "metadata": {
        "id": "CBtRxb_pk-MH"
      },
      "source": [
        "from sklearn.linear_model import Ridge\r\n",
        "\r\n",
        "def ridge(model, X, y, dg, ap=0.3):\r\n",
        "  # split\r\n",
        "  X_train, X_test, y_train, y_test = train_test_split(X, y, test_size=0.3, random_state=2045)\r\n",
        "\r\n",
        "  # poly\r\n",
        "  poly = PolynomialFeatures(degree=dg, include_bias=False)\r\n",
        "  PX_tr = poly.fit_transform(X_train)\r\n",
        "  PX_te = poly.fit_transform(X_test)\r\n",
        "\r\n",
        "  # modeling\r\n",
        "  RG = Ridge(normalize=True, alpha=ap, solver='cholesky')\r\n",
        "  RG.fit(PX_tr, y_train)\r\n",
        "\r\n",
        "  RG_mse = np.sqrt(mean_squared_error(y_test, RG.predict(PX_te)))\r\n",
        "\r\n",
        "  return {'model':model, 'degree':dg, 'alpha':ap, 'mse':RG_mse}"
      ],
      "execution_count": 12,
      "outputs": []
    },
    {
      "cell_type": "markdown",
      "metadata": {
        "id": "JGqqStkQ2PlU"
      },
      "source": [
        "### 모델평가(degree)"
      ]
    },
    {
      "cell_type": "code",
      "metadata": {
        "colab": {
          "base_uri": "https://localhost:8080/"
        },
        "id": "TMhybIqY1N-m",
        "outputId": "f859dedf-6d5c-4837-cc66-ebdb9d7f2712"
      },
      "source": [
        "%%time\r\n",
        "RG_mse = pd.DataFrame(columns=['model','degree','alpha','mse'])\r\n",
        "a = [1,2,3,4]\r\n",
        "index = 1\r\n",
        "\r\n",
        "for i in a:\r\n",
        "  model = 'RG-'+str(index)\r\n",
        "  index += 1\r\n",
        "  res = ridge(model, X, y, dg=i)\r\n",
        "  print(res)\r\n",
        "  RG_mse = RG_mse.append(res, ignore_index=True)"
      ],
      "execution_count": 13,
      "outputs": [
        {
          "output_type": "stream",
          "text": [
            "{'model': 'RG-1', 'degree': 1, 'alpha': 0.3, 'mse': 157.08589772713447}\n",
            "{'model': 'RG-2', 'degree': 2, 'alpha': 0.3, 'mse': 155.31154849885817}\n",
            "{'model': 'RG-3', 'degree': 3, 'alpha': 0.3, 'mse': 154.28456797646976}\n",
            "{'model': 'RG-4', 'degree': 4, 'alpha': 0.3, 'mse': 153.33822329027635}\n"
          ],
          "name": "stdout"
        }
      ]
    },
    {
      "cell_type": "code",
      "metadata": {
        "colab": {
          "base_uri": "https://localhost:8080/"
        },
        "id": "ZuSLE5Eo18zd",
        "outputId": "53fd3a2f-4064-4d5d-b63a-6a2201b267e7"
      },
      "source": [
        "%%time\r\n",
        "for i in [5,6,7]:\r\n",
        "  model = 'RG-'+str(index)\r\n",
        "  index += 1\r\n",
        "  res = ridge(model, X, y, dg=i)\r\n",
        "  print(res)\r\n",
        "  RG_mse = RG_mse.append(res, ignore_index=True)"
      ],
      "execution_count": 14,
      "outputs": [
        {
          "output_type": "stream",
          "text": [
            "{'model': 'RG-5', 'degree': 5, 'alpha': 0.3, 'mse': 152.42341799563565}\n",
            "{'model': 'RG-6', 'degree': 6, 'alpha': 0.3, 'mse': 151.68938013839383}\n",
            "{'model': 'RG-7', 'degree': 7, 'alpha': 0.3, 'mse': 151.1928425035353}\n"
          ],
          "name": "stdout"
        }
      ]
    },
    {
      "cell_type": "code",
      "metadata": {
        "colab": {
          "base_uri": "https://localhost:8080/"
        },
        "id": "k5tBzxAg2JIU",
        "outputId": "930cddd9-1ce2-45ca-9c73-17f467a37b2b"
      },
      "source": [
        "%%time\r\n",
        "for i in [8,9,10]:\r\n",
        "  model = 'RG-'+str(index)\r\n",
        "  index += 1\r\n",
        "  res = ridge(model, X, y, dg=i)\r\n",
        "  print(res)\r\n",
        "  RG_mse = RG_mse.append(res, ignore_index=True)"
      ],
      "execution_count": 15,
      "outputs": [
        {
          "output_type": "stream",
          "text": [
            "{'model': 'RG-8', 'degree': 8, 'alpha': 0.3, 'mse': 150.91523216210038}\n",
            "{'model': 'RG-9', 'degree': 9, 'alpha': 0.3, 'mse': 150.85883200355232}\n",
            "{'model': 'RG-10', 'degree': 10, 'alpha': 0.3, 'mse': 151.7777399153868}\n"
          ],
          "name": "stdout"
        }
      ]
    },
    {
      "cell_type": "code",
      "metadata": {
        "colab": {
          "base_uri": "https://localhost:8080/",
          "height": 348
        },
        "id": "ZJZQaCA42qs5",
        "outputId": "d8dcbb85-b233-48b6-b7b4-e0da2dd4d0fd"
      },
      "source": [
        "RG_mse.sort_values(by='mse')"
      ],
      "execution_count": 17,
      "outputs": [
        {
          "output_type": "execute_result",
          "data": {
            "text/html": [
              "<div>\n",
              "<style scoped>\n",
              "    .dataframe tbody tr th:only-of-type {\n",
              "        vertical-align: middle;\n",
              "    }\n",
              "\n",
              "    .dataframe tbody tr th {\n",
              "        vertical-align: top;\n",
              "    }\n",
              "\n",
              "    .dataframe thead th {\n",
              "        text-align: right;\n",
              "    }\n",
              "</style>\n",
              "<table border=\"1\" class=\"dataframe\">\n",
              "  <thead>\n",
              "    <tr style=\"text-align: right;\">\n",
              "      <th></th>\n",
              "      <th>model</th>\n",
              "      <th>degree</th>\n",
              "      <th>alpha</th>\n",
              "      <th>mse</th>\n",
              "    </tr>\n",
              "  </thead>\n",
              "  <tbody>\n",
              "    <tr>\n",
              "      <th>8</th>\n",
              "      <td>RG-9</td>\n",
              "      <td>9</td>\n",
              "      <td>0.3</td>\n",
              "      <td>150.858832</td>\n",
              "    </tr>\n",
              "    <tr>\n",
              "      <th>7</th>\n",
              "      <td>RG-8</td>\n",
              "      <td>8</td>\n",
              "      <td>0.3</td>\n",
              "      <td>150.915232</td>\n",
              "    </tr>\n",
              "    <tr>\n",
              "      <th>6</th>\n",
              "      <td>RG-7</td>\n",
              "      <td>7</td>\n",
              "      <td>0.3</td>\n",
              "      <td>151.192843</td>\n",
              "    </tr>\n",
              "    <tr>\n",
              "      <th>5</th>\n",
              "      <td>RG-6</td>\n",
              "      <td>6</td>\n",
              "      <td>0.3</td>\n",
              "      <td>151.689380</td>\n",
              "    </tr>\n",
              "    <tr>\n",
              "      <th>9</th>\n",
              "      <td>RG-10</td>\n",
              "      <td>10</td>\n",
              "      <td>0.3</td>\n",
              "      <td>151.777740</td>\n",
              "    </tr>\n",
              "    <tr>\n",
              "      <th>4</th>\n",
              "      <td>RG-5</td>\n",
              "      <td>5</td>\n",
              "      <td>0.3</td>\n",
              "      <td>152.423418</td>\n",
              "    </tr>\n",
              "    <tr>\n",
              "      <th>3</th>\n",
              "      <td>RG-4</td>\n",
              "      <td>4</td>\n",
              "      <td>0.3</td>\n",
              "      <td>153.338223</td>\n",
              "    </tr>\n",
              "    <tr>\n",
              "      <th>2</th>\n",
              "      <td>RG-3</td>\n",
              "      <td>3</td>\n",
              "      <td>0.3</td>\n",
              "      <td>154.284568</td>\n",
              "    </tr>\n",
              "    <tr>\n",
              "      <th>1</th>\n",
              "      <td>RG-2</td>\n",
              "      <td>2</td>\n",
              "      <td>0.3</td>\n",
              "      <td>155.311548</td>\n",
              "    </tr>\n",
              "    <tr>\n",
              "      <th>0</th>\n",
              "      <td>RG-1</td>\n",
              "      <td>1</td>\n",
              "      <td>0.3</td>\n",
              "      <td>157.085898</td>\n",
              "    </tr>\n",
              "  </tbody>\n",
              "</table>\n",
              "</div>"
            ],
            "text/plain": [
              "   model degree  alpha         mse\n",
              "8   RG-9      9    0.3  150.858832\n",
              "7   RG-8      8    0.3  150.915232\n",
              "6   RG-7      7    0.3  151.192843\n",
              "5   RG-6      6    0.3  151.689380\n",
              "9  RG-10     10    0.3  151.777740\n",
              "4   RG-5      5    0.3  152.423418\n",
              "3   RG-4      4    0.3  153.338223\n",
              "2   RG-3      3    0.3  154.284568\n",
              "1   RG-2      2    0.3  155.311548\n",
              "0   RG-1      1    0.3  157.085898"
            ]
          },
          "metadata": {
            "tags": []
          },
          "execution_count": 17
        }
      ]
    },
    {
      "cell_type": "markdown",
      "metadata": {
        "id": "kP4442-V2WGj"
      },
      "source": [
        "### 모델평가(alpha)"
      ]
    },
    {
      "cell_type": "code",
      "metadata": {
        "colab": {
          "base_uri": "https://localhost:8080/"
        },
        "id": "2mQlgCzt2Nk7",
        "outputId": "6fcecefd-7866-4c3a-c9e3-04ccb58bc3b0"
      },
      "source": [
        "%%time\r\n",
        "a = [0.01, 0.05, 0.1, 0.3, 0.5, 0.7, 0.9]\r\n",
        "\r\n",
        "for i in a :\r\n",
        "  model = 'RG-'+str(index)\r\n",
        "  index += 1\r\n",
        "  res = ridge(model, X, y, dg=9 , ap=i)\r\n",
        "  print(res)\r\n",
        "  RG_mse = RG_mse.append(res, ignore_index=True)"
      ],
      "execution_count": 18,
      "outputs": [
        {
          "output_type": "stream",
          "text": [
            "{'model': 'RG-11', 'degree': 9, 'alpha': 0.01, 'mse': 179.7782994897138}\n",
            "{'model': 'RG-12', 'degree': 9, 'alpha': 0.05, 'mse': 154.93449616144116}\n",
            "{'model': 'RG-13', 'degree': 9, 'alpha': 0.1, 'mse': 151.53889800742218}\n",
            "{'model': 'RG-14', 'degree': 9, 'alpha': 0.3, 'mse': 150.85883200355232}\n",
            "{'model': 'RG-15', 'degree': 9, 'alpha': 0.5, 'mse': 151.29084786348537}\n",
            "{'model': 'RG-16', 'degree': 9, 'alpha': 0.7, 'mse': 151.70487589594217}\n",
            "{'model': 'RG-17', 'degree': 9, 'alpha': 0.9, 'mse': 152.07164146811968}\n"
          ],
          "name": "stdout"
        }
      ]
    },
    {
      "cell_type": "code",
      "metadata": {
        "colab": {
          "base_uri": "https://localhost:8080/",
          "height": 138
        },
        "id": "SAol0W-J3_GD",
        "outputId": "01f8d89b-82c9-4ef7-ea95-bc1b6548897f"
      },
      "source": [
        "RG_mse.sort_values(by='mse').head(3)"
      ],
      "execution_count": 22,
      "outputs": [
        {
          "output_type": "execute_result",
          "data": {
            "text/html": [
              "<div>\n",
              "<style scoped>\n",
              "    .dataframe tbody tr th:only-of-type {\n",
              "        vertical-align: middle;\n",
              "    }\n",
              "\n",
              "    .dataframe tbody tr th {\n",
              "        vertical-align: top;\n",
              "    }\n",
              "\n",
              "    .dataframe thead th {\n",
              "        text-align: right;\n",
              "    }\n",
              "</style>\n",
              "<table border=\"1\" class=\"dataframe\">\n",
              "  <thead>\n",
              "    <tr style=\"text-align: right;\">\n",
              "      <th></th>\n",
              "      <th>model</th>\n",
              "      <th>degree</th>\n",
              "      <th>alpha</th>\n",
              "      <th>mse</th>\n",
              "    </tr>\n",
              "  </thead>\n",
              "  <tbody>\n",
              "    <tr>\n",
              "      <th>8</th>\n",
              "      <td>RG-9</td>\n",
              "      <td>9</td>\n",
              "      <td>0.3</td>\n",
              "      <td>150.858832</td>\n",
              "    </tr>\n",
              "    <tr>\n",
              "      <th>13</th>\n",
              "      <td>RG-14</td>\n",
              "      <td>9</td>\n",
              "      <td>0.3</td>\n",
              "      <td>150.858832</td>\n",
              "    </tr>\n",
              "    <tr>\n",
              "      <th>7</th>\n",
              "      <td>RG-8</td>\n",
              "      <td>8</td>\n",
              "      <td>0.3</td>\n",
              "      <td>150.915232</td>\n",
              "    </tr>\n",
              "  </tbody>\n",
              "</table>\n",
              "</div>"
            ],
            "text/plain": [
              "    model degree  alpha         mse\n",
              "8    RG-9      9    0.3  150.858832\n",
              "13  RG-14      9    0.3  150.858832\n",
              "7    RG-8      8    0.3  150.915232"
            ]
          },
          "metadata": {
            "tags": []
          },
          "execution_count": 22
        }
      ]
    },
    {
      "cell_type": "markdown",
      "metadata": {
        "id": "7H7OaW9G263o"
      },
      "source": [
        "## 3, Lasso"
      ]
    },
    {
      "cell_type": "markdown",
      "metadata": {
        "id": "Dh9zN20l2-3j"
      },
      "source": [
        "### 모델링"
      ]
    },
    {
      "cell_type": "code",
      "metadata": {
        "id": "NWj7OFBe25ub"
      },
      "source": [
        "from sklearn.linear_model import Lasso\r\n",
        "\r\n",
        "def lasso(model, X, y, dg, ap=0.3):\r\n",
        "  # spint\r\n",
        "  X_train, X_test, y_train ,y_test = train_test_split(X, y, test_size=0.3, random_state=2045)\r\n",
        "\r\n",
        "  # poly\r\n",
        "  poly = PolynomialFeatures(degree=dg, include_bias=False)\r\n",
        "  PX_tr = poly.fit_transform(X_train)\r\n",
        "  PX_te = poly.fit_transform(X_test)\r\n",
        "\r\n",
        "  # modeling\r\n",
        "  LS = Lasso(normalize=True, alpha=ap)\r\n",
        "  LS.fit(PX_tr, y_train)\r\n",
        "\r\n",
        "  # mse\r\n",
        "  LS_mse = np.sqrt(mean_squared_error(y_test, LS.predict(PX_te)))  \r\n",
        "\r\n",
        "  return {'model':model, 'degree':dg, 'alpha':ap, 'mse':LS_mse}"
      ],
      "execution_count": 23,
      "outputs": []
    },
    {
      "cell_type": "markdown",
      "metadata": {
        "id": "fYbQjaWD4m2j"
      },
      "source": [
        "### 모델평가(degree)"
      ]
    },
    {
      "cell_type": "code",
      "metadata": {
        "colab": {
          "base_uri": "https://localhost:8080/"
        },
        "id": "10DznLs14fHC",
        "outputId": "40956781-7833-4b39-96c3-250ad86da794"
      },
      "source": [
        "%%time\r\n",
        "LS_mse = pd.DataFrame(columns=['model','degree','alpha','mse'])\r\n",
        "a = [1,2,3,4,5,6,7,8,9,10]\r\n",
        "b = [0.01, 0.1, 0.3, 0.5, 0.7, 0.9]\r\n",
        "index = 1\r\n",
        "\r\n",
        "for i in a :\r\n",
        "  for j in b:\r\n",
        "    model = 'LS-'+str(index)\r\n",
        "    index += 1\r\n",
        "    res = lasso(model, X, y, dg=i, ap=j)\r\n",
        "    print(res)\r\n",
        "    LS_mse = LS_mse.append(res, ignore_index=True)"
      ],
      "execution_count": 26,
      "outputs": [
        {
          "output_type": "stream",
          "text": [
            "{'model': 'LS-1', 'degree': 1, 'alpha': 0.01, 'mse': 156.03483114148662}\n",
            "{'model': 'LS-2', 'degree': 1, 'alpha': 0.1, 'mse': 156.67968077801606}\n",
            "{'model': 'LS-3', 'degree': 1, 'alpha': 0.3, 'mse': 161.47174247042977}\n",
            "{'model': 'LS-4', 'degree': 1, 'alpha': 0.5, 'mse': 168.03552338148305}\n",
            "{'model': 'LS-5', 'degree': 1, 'alpha': 0.7, 'mse': 176.51473428440806}\n",
            "{'model': 'LS-6', 'degree': 1, 'alpha': 0.9, 'mse': 180.42555843739754}\n",
            "{'model': 'LS-7', 'degree': 2, 'alpha': 0.01, 'mse': 152.7828900990057}\n",
            "{'model': 'LS-8', 'degree': 2, 'alpha': 0.1, 'mse': 156.21371823141956}\n",
            "{'model': 'LS-9', 'degree': 2, 'alpha': 0.3, 'mse': 160.77439051265412}\n",
            "{'model': 'LS-10', 'degree': 2, 'alpha': 0.5, 'mse': 167.8895773520336}\n",
            "{'model': 'LS-11', 'degree': 2, 'alpha': 0.7, 'mse': 176.51473428440806}\n",
            "{'model': 'LS-12', 'degree': 2, 'alpha': 0.9, 'mse': 180.42555843739754}\n",
            "{'model': 'LS-13', 'degree': 3, 'alpha': 0.01, 'mse': 151.8050696992396}\n",
            "{'model': 'LS-14', 'degree': 3, 'alpha': 0.1, 'mse': 155.665994860942}\n",
            "{'model': 'LS-15', 'degree': 3, 'alpha': 0.3, 'mse': 160.60903759889624}\n",
            "{'model': 'LS-16', 'degree': 3, 'alpha': 0.5, 'mse': 167.87829113911027}\n",
            "{'model': 'LS-17', 'degree': 3, 'alpha': 0.7, 'mse': 176.51473428440806}\n",
            "{'model': 'LS-18', 'degree': 3, 'alpha': 0.9, 'mse': 180.42555843739754}\n",
            "{'model': 'LS-19', 'degree': 4, 'alpha': 0.01, 'mse': 151.43127085727937}\n",
            "{'model': 'LS-20', 'degree': 4, 'alpha': 0.1, 'mse': 155.19250380858193}\n",
            "{'model': 'LS-21', 'degree': 4, 'alpha': 0.3, 'mse': 160.64199870421058}\n",
            "{'model': 'LS-22', 'degree': 4, 'alpha': 0.5, 'mse': 167.85306675897215}\n",
            "{'model': 'LS-23', 'degree': 4, 'alpha': 0.7, 'mse': 176.51473428440806}\n",
            "{'model': 'LS-24', 'degree': 4, 'alpha': 0.9, 'mse': 180.42555843739754}\n"
          ],
          "name": "stdout"
        },
        {
          "output_type": "stream",
          "text": [
            "/usr/local/lib/python3.7/dist-packages/sklearn/linear_model/_coordinate_descent.py:476: ConvergenceWarning: Objective did not converge. You might want to increase the number of iterations. Duality gap: 55053.87012270093, tolerance: 25086.59172675853\n",
            "  positive)\n"
          ],
          "name": "stderr"
        },
        {
          "output_type": "stream",
          "text": [
            "{'model': 'LS-25', 'degree': 5, 'alpha': 0.01, 'mse': 151.02530671713856}\n",
            "{'model': 'LS-26', 'degree': 5, 'alpha': 0.1, 'mse': 155.07752679080843}\n",
            "{'model': 'LS-27', 'degree': 5, 'alpha': 0.3, 'mse': 160.64199870421058}\n",
            "{'model': 'LS-28', 'degree': 5, 'alpha': 0.5, 'mse': 167.85306675897215}\n",
            "{'model': 'LS-29', 'degree': 5, 'alpha': 0.7, 'mse': 176.51473428440806}\n",
            "{'model': 'LS-30', 'degree': 5, 'alpha': 0.9, 'mse': 180.42555843739754}\n",
            "{'model': 'LS-31', 'degree': 6, 'alpha': 0.01, 'mse': 150.73470858590477}\n",
            "{'model': 'LS-32', 'degree': 6, 'alpha': 0.1, 'mse': 154.75922772931125}\n",
            "{'model': 'LS-33', 'degree': 6, 'alpha': 0.3, 'mse': 160.64199870421058}\n",
            "{'model': 'LS-34', 'degree': 6, 'alpha': 0.5, 'mse': 167.85306675897215}\n",
            "{'model': 'LS-35', 'degree': 6, 'alpha': 0.7, 'mse': 176.51473428440806}\n",
            "{'model': 'LS-36', 'degree': 6, 'alpha': 0.9, 'mse': 180.42555843739754}\n",
            "{'model': 'LS-37', 'degree': 7, 'alpha': 0.01, 'mse': 150.50192402700253}\n",
            "{'model': 'LS-38', 'degree': 7, 'alpha': 0.1, 'mse': 154.53311884473595}\n",
            "{'model': 'LS-39', 'degree': 7, 'alpha': 0.3, 'mse': 160.64199870421058}\n",
            "{'model': 'LS-40', 'degree': 7, 'alpha': 0.5, 'mse': 167.85306675897215}\n",
            "{'model': 'LS-41', 'degree': 7, 'alpha': 0.7, 'mse': 176.51473428440806}\n",
            "{'model': 'LS-42', 'degree': 7, 'alpha': 0.9, 'mse': 180.42555843739754}\n",
            "{'model': 'LS-43', 'degree': 8, 'alpha': 0.01, 'mse': 150.44103699267762}\n",
            "{'model': 'LS-44', 'degree': 8, 'alpha': 0.1, 'mse': 154.48732815346708}\n",
            "{'model': 'LS-45', 'degree': 8, 'alpha': 0.3, 'mse': 160.64199870421058}\n",
            "{'model': 'LS-46', 'degree': 8, 'alpha': 0.5, 'mse': 167.85306675897215}\n",
            "{'model': 'LS-47', 'degree': 8, 'alpha': 0.7, 'mse': 176.51473428440806}\n",
            "{'model': 'LS-48', 'degree': 8, 'alpha': 0.9, 'mse': 180.42555843739754}\n",
            "{'model': 'LS-49', 'degree': 9, 'alpha': 0.01, 'mse': 150.56703224808015}\n",
            "{'model': 'LS-50', 'degree': 9, 'alpha': 0.1, 'mse': 154.4218283393119}\n",
            "{'model': 'LS-51', 'degree': 9, 'alpha': 0.3, 'mse': 160.64199870421058}\n",
            "{'model': 'LS-52', 'degree': 9, 'alpha': 0.5, 'mse': 167.85306675897215}\n",
            "{'model': 'LS-53', 'degree': 9, 'alpha': 0.7, 'mse': 176.51473428440806}\n",
            "{'model': 'LS-54', 'degree': 9, 'alpha': 0.9, 'mse': 180.42555843739754}\n"
          ],
          "name": "stdout"
        },
        {
          "output_type": "stream",
          "text": [
            "/usr/local/lib/python3.7/dist-packages/sklearn/linear_model/_coordinate_descent.py:476: ConvergenceWarning: Objective did not converge. You might want to increase the number of iterations. Duality gap: 102433.59030893445, tolerance: 25086.59172675853\n",
            "  positive)\n"
          ],
          "name": "stderr"
        },
        {
          "output_type": "stream",
          "text": [
            "{'model': 'LS-55', 'degree': 10, 'alpha': 0.01, 'mse': 150.72288527814004}\n",
            "{'model': 'LS-56', 'degree': 10, 'alpha': 0.1, 'mse': 154.38258928925845}\n",
            "{'model': 'LS-57', 'degree': 10, 'alpha': 0.3, 'mse': 160.64199870421058}\n",
            "{'model': 'LS-58', 'degree': 10, 'alpha': 0.5, 'mse': 167.85306675897215}\n",
            "{'model': 'LS-59', 'degree': 10, 'alpha': 0.7, 'mse': 176.51473428440806}\n",
            "{'model': 'LS-60', 'degree': 10, 'alpha': 0.9, 'mse': 180.42555843739754}\n"
          ],
          "name": "stdout"
        }
      ]
    },
    {
      "cell_type": "code",
      "metadata": {
        "colab": {
          "base_uri": "https://localhost:8080/",
          "height": 138
        },
        "id": "H9SBI6UP5WL8",
        "outputId": "4005bbc0-122b-47e7-a769-38c654e3ba6c"
      },
      "source": [
        "LS_mse.sort_values(by='mse').head(3)"
      ],
      "execution_count": 34,
      "outputs": [
        {
          "output_type": "execute_result",
          "data": {
            "text/html": [
              "<div>\n",
              "<style scoped>\n",
              "    .dataframe tbody tr th:only-of-type {\n",
              "        vertical-align: middle;\n",
              "    }\n",
              "\n",
              "    .dataframe tbody tr th {\n",
              "        vertical-align: top;\n",
              "    }\n",
              "\n",
              "    .dataframe thead th {\n",
              "        text-align: right;\n",
              "    }\n",
              "</style>\n",
              "<table border=\"1\" class=\"dataframe\">\n",
              "  <thead>\n",
              "    <tr style=\"text-align: right;\">\n",
              "      <th></th>\n",
              "      <th>model</th>\n",
              "      <th>degree</th>\n",
              "      <th>alpha</th>\n",
              "      <th>mse</th>\n",
              "    </tr>\n",
              "  </thead>\n",
              "  <tbody>\n",
              "    <tr>\n",
              "      <th>42</th>\n",
              "      <td>LS-43</td>\n",
              "      <td>8</td>\n",
              "      <td>0.01</td>\n",
              "      <td>150.441037</td>\n",
              "    </tr>\n",
              "    <tr>\n",
              "      <th>36</th>\n",
              "      <td>LS-37</td>\n",
              "      <td>7</td>\n",
              "      <td>0.01</td>\n",
              "      <td>150.501924</td>\n",
              "    </tr>\n",
              "    <tr>\n",
              "      <th>48</th>\n",
              "      <td>LS-49</td>\n",
              "      <td>9</td>\n",
              "      <td>0.01</td>\n",
              "      <td>150.567032</td>\n",
              "    </tr>\n",
              "  </tbody>\n",
              "</table>\n",
              "</div>"
            ],
            "text/plain": [
              "    model degree  alpha         mse\n",
              "42  LS-43      8   0.01  150.441037\n",
              "36  LS-37      7   0.01  150.501924\n",
              "48  LS-49      9   0.01  150.567032"
            ]
          },
          "metadata": {
            "tags": []
          },
          "execution_count": 34
        }
      ]
    },
    {
      "cell_type": "markdown",
      "metadata": {
        "id": "spLfpIIi5h-L"
      },
      "source": [
        "## 4, Decision Tree"
      ]
    },
    {
      "cell_type": "markdown",
      "metadata": {
        "id": "ei-s6Qbk5lc7"
      },
      "source": [
        "### 모델링"
      ]
    },
    {
      "cell_type": "code",
      "metadata": {
        "id": "twEsB8tG5nEM"
      },
      "source": [
        "from sklearn.tree import DecisionTreeRegressor\r\n",
        "\r\n",
        "def decisionTree(model, X, y, md):\r\n",
        "  # split\r\n",
        "  X_train, X_test, y_train, y_test = train_test_split(X, y, test_size=0.3, random_state=2045)\r\n",
        "\r\n",
        "  # modeling\r\n",
        "  DT = DecisionTreeRegressor(max_depth=md, criterion='mse')\r\n",
        "  DT.fit(X_train, y_train)\r\n",
        "\r\n",
        "  DT_mse = np.sqrt(mean_squared_error(y_test, DT.predict(X_test)))\r\n",
        "\r\n",
        "  return {'model':model, 'max_depth':md, 'mse':DT_mse}"
      ],
      "execution_count": 32,
      "outputs": []
    },
    {
      "cell_type": "markdown",
      "metadata": {
        "id": "CSYcb1DW6r2J"
      },
      "source": [
        "### 모델링(max_depth)"
      ]
    },
    {
      "cell_type": "code",
      "metadata": {
        "colab": {
          "base_uri": "https://localhost:8080/"
        },
        "id": "AogfaXcU6qnw",
        "outputId": "7243b6f4-849c-4658-ccf8-6ed20981b728"
      },
      "source": [
        "DT_mse = pd.DataFrame(columns=['model','max_depth','mse'])\r\n",
        "a = [2,3,5,7,9]\r\n",
        "index = 1\r\n",
        "\r\n",
        "for i in a:\r\n",
        "  model = 'DT-'+str(index)\r\n",
        "  index += 1\r\n",
        "  res = decisionTree(model, X, y, md=i)\r\n",
        "  print(res)\r\n",
        "  DT_mse = DT_mse.append(res, ignore_index=True)"
      ],
      "execution_count": 33,
      "outputs": [
        {
          "output_type": "stream",
          "text": [
            "{'model': 'DT-1', 'max_depth': 2, 'mse': 160.74168249273998}\n",
            "{'model': 'DT-2', 'max_depth': 3, 'mse': 156.0859197046373}\n",
            "{'model': 'DT-3', 'max_depth': 5, 'mse': 151.6448906761661}\n",
            "{'model': 'DT-4', 'max_depth': 7, 'mse': 149.83337137828704}\n",
            "{'model': 'DT-5', 'max_depth': 9, 'mse': 154.74630523430213}\n"
          ],
          "name": "stdout"
        }
      ]
    },
    {
      "cell_type": "markdown",
      "metadata": {
        "id": "HG4kTRpj8o-I"
      },
      "source": [
        "## 5, Random Forest"
      ]
    },
    {
      "cell_type": "markdown",
      "metadata": {
        "id": "-vGQMdXb7Gtj"
      },
      "source": [
        "### 모델링"
      ]
    },
    {
      "cell_type": "code",
      "metadata": {
        "id": "o28vGHVL7slK"
      },
      "source": [
        "from sklearn.ensemble import RandomForestRegressor\r\n",
        "\r\n",
        "def randomForest(model, X, y, n_est, md='auto', mf=None, visualFeatures=False):\r\n",
        "  # split\r\n",
        "  X_train, X_test, y_train, y_test = train_test_split(X, y, test_size=0.3, random_state=2045)\r\n",
        "\r\n",
        "  # modeling\r\n",
        "  RF = RandomForestRegressor(n_estimators=n_est, max_depth=md, max_features=mf, criterion='mse', n_jobs=-1, random_state=2045)\r\n",
        "  RF.fit(X_train, y_train)\r\n",
        "\r\n",
        "  # mse\r\n",
        "  RF_mse = np.sqrt(mean_squared_error(y_test, RF.predict(X_test)))\r\n",
        "\r\n",
        "  if visualFeatures:\r\n",
        "    sns.barplot(RF.feature_importances_, X.columns)\r\n",
        "    plt.title('random forest feature importances')\r\n",
        "    plt.show()\r\n",
        "\r\n",
        "  return {'model':model, 'n_estimators':n_est, 'max_depth':md, 'max_features':mf, 'mse':RF_mse}"
      ],
      "execution_count": 46,
      "outputs": []
    },
    {
      "cell_type": "code",
      "metadata": {
        "colab": {
          "base_uri": "https://localhost:8080/",
          "height": 385
        },
        "id": "k4w70z5u9-_Z",
        "outputId": "3bd611c1-5b4f-49a6-a728-7accc1883779"
      },
      "source": [
        "RF_mse = pd.DataFrame(columns=['model','n_estimators','max_depth','max_features','mse'])\r\n",
        "a = [50, 100, 200, 300, 500]\r\n",
        "index = 1\r\n",
        "\r\n",
        "for i in a:\r\n",
        "  model = 'RF-'+str(index)\r\n",
        "  index += 1\r\n",
        "  res = randomForest(model, X, y, n_est=i)\r\n",
        "  print(res)\r\n",
        "  RF_mse = RF_mse.append(res, ignore_index=True)"
      ],
      "execution_count": 47,
      "outputs": [
        {
          "output_type": "error",
          "ename": "TypeError",
          "evalue": "ignored",
          "traceback": [
            "\u001b[0;31m---------------------------------------------------------------------------\u001b[0m",
            "\u001b[0;31mTypeError\u001b[0m                                 Traceback (most recent call last)",
            "\u001b[0;32m<ipython-input-47-db6c0b39d02d>\u001b[0m in \u001b[0;36m<module>\u001b[0;34m()\u001b[0m\n\u001b[1;32m      6\u001b[0m   \u001b[0mmodel\u001b[0m \u001b[0;34m=\u001b[0m \u001b[0;34m'RF-'\u001b[0m\u001b[0;34m+\u001b[0m\u001b[0mstr\u001b[0m\u001b[0;34m(\u001b[0m\u001b[0mindex\u001b[0m\u001b[0;34m)\u001b[0m\u001b[0;34m\u001b[0m\u001b[0;34m\u001b[0m\u001b[0m\n\u001b[1;32m      7\u001b[0m   \u001b[0mindex\u001b[0m \u001b[0;34m+=\u001b[0m \u001b[0;36m1\u001b[0m\u001b[0;34m\u001b[0m\u001b[0;34m\u001b[0m\u001b[0m\n\u001b[0;32m----> 8\u001b[0;31m   \u001b[0mres\u001b[0m \u001b[0;34m=\u001b[0m \u001b[0mrandomForest\u001b[0m\u001b[0;34m(\u001b[0m\u001b[0mmodel\u001b[0m\u001b[0;34m,\u001b[0m \u001b[0mX\u001b[0m\u001b[0;34m,\u001b[0m \u001b[0my\u001b[0m\u001b[0;34m,\u001b[0m \u001b[0mn_est\u001b[0m\u001b[0;34m=\u001b[0m\u001b[0mi\u001b[0m\u001b[0;34m)\u001b[0m\u001b[0;34m\u001b[0m\u001b[0;34m\u001b[0m\u001b[0m\n\u001b[0m\u001b[1;32m      9\u001b[0m   \u001b[0mprint\u001b[0m\u001b[0;34m(\u001b[0m\u001b[0mres\u001b[0m\u001b[0;34m)\u001b[0m\u001b[0;34m\u001b[0m\u001b[0;34m\u001b[0m\u001b[0m\n\u001b[1;32m     10\u001b[0m   \u001b[0mRF_mse\u001b[0m \u001b[0;34m=\u001b[0m \u001b[0mRF_mse\u001b[0m\u001b[0;34m.\u001b[0m\u001b[0mappend\u001b[0m\u001b[0;34m(\u001b[0m\u001b[0mres\u001b[0m\u001b[0;34m,\u001b[0m \u001b[0mignore_index\u001b[0m\u001b[0;34m=\u001b[0m\u001b[0;32mTrue\u001b[0m\u001b[0;34m)\u001b[0m\u001b[0;34m\u001b[0m\u001b[0;34m\u001b[0m\u001b[0m\n",
            "\u001b[0;32m<ipython-input-46-167fbeb45336>\u001b[0m in \u001b[0;36mrandomForest\u001b[0;34m(model, X, y, n_est, md, mf, visualFeatures)\u001b[0m\n\u001b[1;32m      7\u001b[0m   \u001b[0;31m# modeling\u001b[0m\u001b[0;34m\u001b[0m\u001b[0;34m\u001b[0m\u001b[0;34m\u001b[0m\u001b[0m\n\u001b[1;32m      8\u001b[0m   \u001b[0mRF\u001b[0m \u001b[0;34m=\u001b[0m \u001b[0mRandomForestRegressor\u001b[0m\u001b[0;34m(\u001b[0m\u001b[0mn_estimators\u001b[0m\u001b[0;34m=\u001b[0m\u001b[0mn_est\u001b[0m\u001b[0;34m,\u001b[0m \u001b[0mmax_depth\u001b[0m\u001b[0;34m=\u001b[0m\u001b[0mmd\u001b[0m\u001b[0;34m,\u001b[0m \u001b[0mmax_features\u001b[0m\u001b[0;34m=\u001b[0m\u001b[0mmf\u001b[0m\u001b[0;34m,\u001b[0m \u001b[0mcriterion\u001b[0m\u001b[0;34m=\u001b[0m\u001b[0;34m'mse'\u001b[0m\u001b[0;34m,\u001b[0m \u001b[0mrandom_state\u001b[0m\u001b[0;34m=\u001b[0m\u001b[0;36m2045\u001b[0m\u001b[0;34m)\u001b[0m\u001b[0;34m\u001b[0m\u001b[0;34m\u001b[0m\u001b[0m\n\u001b[0;32m----> 9\u001b[0;31m   \u001b[0mRF\u001b[0m\u001b[0;34m.\u001b[0m\u001b[0mfit\u001b[0m\u001b[0;34m(\u001b[0m\u001b[0mX_train\u001b[0m\u001b[0;34m,\u001b[0m \u001b[0my_train\u001b[0m\u001b[0;34m)\u001b[0m\u001b[0;34m\u001b[0m\u001b[0;34m\u001b[0m\u001b[0m\n\u001b[0m\u001b[1;32m     10\u001b[0m \u001b[0;34m\u001b[0m\u001b[0m\n\u001b[1;32m     11\u001b[0m   \u001b[0;31m# mse\u001b[0m\u001b[0;34m\u001b[0m\u001b[0;34m\u001b[0m\u001b[0;34m\u001b[0m\u001b[0m\n",
            "\u001b[0;32m/usr/local/lib/python3.7/dist-packages/sklearn/ensemble/_forest.py\u001b[0m in \u001b[0;36mfit\u001b[0;34m(self, X, y, sample_weight)\u001b[0m\n\u001b[1;32m    381\u001b[0m                     \u001b[0mverbose\u001b[0m\u001b[0;34m=\u001b[0m\u001b[0mself\u001b[0m\u001b[0;34m.\u001b[0m\u001b[0mverbose\u001b[0m\u001b[0;34m,\u001b[0m \u001b[0mclass_weight\u001b[0m\u001b[0;34m=\u001b[0m\u001b[0mself\u001b[0m\u001b[0;34m.\u001b[0m\u001b[0mclass_weight\u001b[0m\u001b[0;34m,\u001b[0m\u001b[0;34m\u001b[0m\u001b[0;34m\u001b[0m\u001b[0m\n\u001b[1;32m    382\u001b[0m                     n_samples_bootstrap=n_samples_bootstrap)\n\u001b[0;32m--> 383\u001b[0;31m                 for i, t in enumerate(trees))\n\u001b[0m\u001b[1;32m    384\u001b[0m \u001b[0;34m\u001b[0m\u001b[0m\n\u001b[1;32m    385\u001b[0m             \u001b[0;31m# Collect newly grown trees\u001b[0m\u001b[0;34m\u001b[0m\u001b[0;34m\u001b[0m\u001b[0;34m\u001b[0m\u001b[0m\n",
            "\u001b[0;32m/usr/local/lib/python3.7/dist-packages/joblib/parallel.py\u001b[0m in \u001b[0;36m__call__\u001b[0;34m(self, iterable)\u001b[0m\n\u001b[1;32m   1039\u001b[0m             \u001b[0;31m# remaining jobs.\u001b[0m\u001b[0;34m\u001b[0m\u001b[0;34m\u001b[0m\u001b[0;34m\u001b[0m\u001b[0m\n\u001b[1;32m   1040\u001b[0m             \u001b[0mself\u001b[0m\u001b[0;34m.\u001b[0m\u001b[0m_iterating\u001b[0m \u001b[0;34m=\u001b[0m \u001b[0;32mFalse\u001b[0m\u001b[0;34m\u001b[0m\u001b[0;34m\u001b[0m\u001b[0m\n\u001b[0;32m-> 1041\u001b[0;31m             \u001b[0;32mif\u001b[0m \u001b[0mself\u001b[0m\u001b[0;34m.\u001b[0m\u001b[0mdispatch_one_batch\u001b[0m\u001b[0;34m(\u001b[0m\u001b[0miterator\u001b[0m\u001b[0;34m)\u001b[0m\u001b[0;34m:\u001b[0m\u001b[0;34m\u001b[0m\u001b[0;34m\u001b[0m\u001b[0m\n\u001b[0m\u001b[1;32m   1042\u001b[0m                 \u001b[0mself\u001b[0m\u001b[0;34m.\u001b[0m\u001b[0m_iterating\u001b[0m \u001b[0;34m=\u001b[0m \u001b[0mself\u001b[0m\u001b[0;34m.\u001b[0m\u001b[0m_original_iterator\u001b[0m \u001b[0;32mis\u001b[0m \u001b[0;32mnot\u001b[0m \u001b[0;32mNone\u001b[0m\u001b[0;34m\u001b[0m\u001b[0;34m\u001b[0m\u001b[0m\n\u001b[1;32m   1043\u001b[0m \u001b[0;34m\u001b[0m\u001b[0m\n",
            "\u001b[0;32m/usr/local/lib/python3.7/dist-packages/joblib/parallel.py\u001b[0m in \u001b[0;36mdispatch_one_batch\u001b[0;34m(self, iterator)\u001b[0m\n\u001b[1;32m    857\u001b[0m                 \u001b[0;32mreturn\u001b[0m \u001b[0;32mFalse\u001b[0m\u001b[0;34m\u001b[0m\u001b[0;34m\u001b[0m\u001b[0m\n\u001b[1;32m    858\u001b[0m             \u001b[0;32melse\u001b[0m\u001b[0;34m:\u001b[0m\u001b[0;34m\u001b[0m\u001b[0;34m\u001b[0m\u001b[0m\n\u001b[0;32m--> 859\u001b[0;31m                 \u001b[0mself\u001b[0m\u001b[0;34m.\u001b[0m\u001b[0m_dispatch\u001b[0m\u001b[0;34m(\u001b[0m\u001b[0mtasks\u001b[0m\u001b[0;34m)\u001b[0m\u001b[0;34m\u001b[0m\u001b[0;34m\u001b[0m\u001b[0m\n\u001b[0m\u001b[1;32m    860\u001b[0m                 \u001b[0;32mreturn\u001b[0m \u001b[0;32mTrue\u001b[0m\u001b[0;34m\u001b[0m\u001b[0;34m\u001b[0m\u001b[0m\n\u001b[1;32m    861\u001b[0m \u001b[0;34m\u001b[0m\u001b[0m\n",
            "\u001b[0;32m/usr/local/lib/python3.7/dist-packages/joblib/parallel.py\u001b[0m in \u001b[0;36m_dispatch\u001b[0;34m(self, batch)\u001b[0m\n\u001b[1;32m    775\u001b[0m         \u001b[0;32mwith\u001b[0m \u001b[0mself\u001b[0m\u001b[0;34m.\u001b[0m\u001b[0m_lock\u001b[0m\u001b[0;34m:\u001b[0m\u001b[0;34m\u001b[0m\u001b[0;34m\u001b[0m\u001b[0m\n\u001b[1;32m    776\u001b[0m             \u001b[0mjob_idx\u001b[0m \u001b[0;34m=\u001b[0m \u001b[0mlen\u001b[0m\u001b[0;34m(\u001b[0m\u001b[0mself\u001b[0m\u001b[0;34m.\u001b[0m\u001b[0m_jobs\u001b[0m\u001b[0;34m)\u001b[0m\u001b[0;34m\u001b[0m\u001b[0;34m\u001b[0m\u001b[0m\n\u001b[0;32m--> 777\u001b[0;31m             \u001b[0mjob\u001b[0m \u001b[0;34m=\u001b[0m \u001b[0mself\u001b[0m\u001b[0;34m.\u001b[0m\u001b[0m_backend\u001b[0m\u001b[0;34m.\u001b[0m\u001b[0mapply_async\u001b[0m\u001b[0;34m(\u001b[0m\u001b[0mbatch\u001b[0m\u001b[0;34m,\u001b[0m \u001b[0mcallback\u001b[0m\u001b[0;34m=\u001b[0m\u001b[0mcb\u001b[0m\u001b[0;34m)\u001b[0m\u001b[0;34m\u001b[0m\u001b[0;34m\u001b[0m\u001b[0m\n\u001b[0m\u001b[1;32m    778\u001b[0m             \u001b[0;31m# A job can complete so quickly than its callback is\u001b[0m\u001b[0;34m\u001b[0m\u001b[0;34m\u001b[0m\u001b[0;34m\u001b[0m\u001b[0m\n\u001b[1;32m    779\u001b[0m             \u001b[0;31m# called before we get here, causing self._jobs to\u001b[0m\u001b[0;34m\u001b[0m\u001b[0;34m\u001b[0m\u001b[0;34m\u001b[0m\u001b[0m\n",
            "\u001b[0;32m/usr/local/lib/python3.7/dist-packages/joblib/_parallel_backends.py\u001b[0m in \u001b[0;36mapply_async\u001b[0;34m(self, func, callback)\u001b[0m\n\u001b[1;32m    206\u001b[0m     \u001b[0;32mdef\u001b[0m \u001b[0mapply_async\u001b[0m\u001b[0;34m(\u001b[0m\u001b[0mself\u001b[0m\u001b[0;34m,\u001b[0m \u001b[0mfunc\u001b[0m\u001b[0;34m,\u001b[0m \u001b[0mcallback\u001b[0m\u001b[0;34m=\u001b[0m\u001b[0;32mNone\u001b[0m\u001b[0;34m)\u001b[0m\u001b[0;34m:\u001b[0m\u001b[0;34m\u001b[0m\u001b[0;34m\u001b[0m\u001b[0m\n\u001b[1;32m    207\u001b[0m         \u001b[0;34m\"\"\"Schedule a func to be run\"\"\"\u001b[0m\u001b[0;34m\u001b[0m\u001b[0;34m\u001b[0m\u001b[0m\n\u001b[0;32m--> 208\u001b[0;31m         \u001b[0mresult\u001b[0m \u001b[0;34m=\u001b[0m \u001b[0mImmediateResult\u001b[0m\u001b[0;34m(\u001b[0m\u001b[0mfunc\u001b[0m\u001b[0;34m)\u001b[0m\u001b[0;34m\u001b[0m\u001b[0;34m\u001b[0m\u001b[0m\n\u001b[0m\u001b[1;32m    209\u001b[0m         \u001b[0;32mif\u001b[0m \u001b[0mcallback\u001b[0m\u001b[0;34m:\u001b[0m\u001b[0;34m\u001b[0m\u001b[0;34m\u001b[0m\u001b[0m\n\u001b[1;32m    210\u001b[0m             \u001b[0mcallback\u001b[0m\u001b[0;34m(\u001b[0m\u001b[0mresult\u001b[0m\u001b[0;34m)\u001b[0m\u001b[0;34m\u001b[0m\u001b[0;34m\u001b[0m\u001b[0m\n",
            "\u001b[0;32m/usr/local/lib/python3.7/dist-packages/joblib/_parallel_backends.py\u001b[0m in \u001b[0;36m__init__\u001b[0;34m(self, batch)\u001b[0m\n\u001b[1;32m    570\u001b[0m         \u001b[0;31m# Don't delay the application, to avoid keeping the input\u001b[0m\u001b[0;34m\u001b[0m\u001b[0;34m\u001b[0m\u001b[0;34m\u001b[0m\u001b[0m\n\u001b[1;32m    571\u001b[0m         \u001b[0;31m# arguments in memory\u001b[0m\u001b[0;34m\u001b[0m\u001b[0;34m\u001b[0m\u001b[0;34m\u001b[0m\u001b[0m\n\u001b[0;32m--> 572\u001b[0;31m         \u001b[0mself\u001b[0m\u001b[0;34m.\u001b[0m\u001b[0mresults\u001b[0m \u001b[0;34m=\u001b[0m \u001b[0mbatch\u001b[0m\u001b[0;34m(\u001b[0m\u001b[0;34m)\u001b[0m\u001b[0;34m\u001b[0m\u001b[0;34m\u001b[0m\u001b[0m\n\u001b[0m\u001b[1;32m    573\u001b[0m \u001b[0;34m\u001b[0m\u001b[0m\n\u001b[1;32m    574\u001b[0m     \u001b[0;32mdef\u001b[0m \u001b[0mget\u001b[0m\u001b[0;34m(\u001b[0m\u001b[0mself\u001b[0m\u001b[0;34m)\u001b[0m\u001b[0;34m:\u001b[0m\u001b[0;34m\u001b[0m\u001b[0;34m\u001b[0m\u001b[0m\n",
            "\u001b[0;32m/usr/local/lib/python3.7/dist-packages/joblib/parallel.py\u001b[0m in \u001b[0;36m__call__\u001b[0;34m(self)\u001b[0m\n\u001b[1;32m    261\u001b[0m         \u001b[0;32mwith\u001b[0m \u001b[0mparallel_backend\u001b[0m\u001b[0;34m(\u001b[0m\u001b[0mself\u001b[0m\u001b[0;34m.\u001b[0m\u001b[0m_backend\u001b[0m\u001b[0;34m,\u001b[0m \u001b[0mn_jobs\u001b[0m\u001b[0;34m=\u001b[0m\u001b[0mself\u001b[0m\u001b[0;34m.\u001b[0m\u001b[0m_n_jobs\u001b[0m\u001b[0;34m)\u001b[0m\u001b[0;34m:\u001b[0m\u001b[0;34m\u001b[0m\u001b[0;34m\u001b[0m\u001b[0m\n\u001b[1;32m    262\u001b[0m             return [func(*args, **kwargs)\n\u001b[0;32m--> 263\u001b[0;31m                     for func, args, kwargs in self.items]\n\u001b[0m\u001b[1;32m    264\u001b[0m \u001b[0;34m\u001b[0m\u001b[0m\n\u001b[1;32m    265\u001b[0m     \u001b[0;32mdef\u001b[0m \u001b[0m__reduce__\u001b[0m\u001b[0;34m(\u001b[0m\u001b[0mself\u001b[0m\u001b[0;34m)\u001b[0m\u001b[0;34m:\u001b[0m\u001b[0;34m\u001b[0m\u001b[0;34m\u001b[0m\u001b[0m\n",
            "\u001b[0;32m/usr/local/lib/python3.7/dist-packages/joblib/parallel.py\u001b[0m in \u001b[0;36m<listcomp>\u001b[0;34m(.0)\u001b[0m\n\u001b[1;32m    261\u001b[0m         \u001b[0;32mwith\u001b[0m \u001b[0mparallel_backend\u001b[0m\u001b[0;34m(\u001b[0m\u001b[0mself\u001b[0m\u001b[0;34m.\u001b[0m\u001b[0m_backend\u001b[0m\u001b[0;34m,\u001b[0m \u001b[0mn_jobs\u001b[0m\u001b[0;34m=\u001b[0m\u001b[0mself\u001b[0m\u001b[0;34m.\u001b[0m\u001b[0m_n_jobs\u001b[0m\u001b[0;34m)\u001b[0m\u001b[0;34m:\u001b[0m\u001b[0;34m\u001b[0m\u001b[0;34m\u001b[0m\u001b[0m\n\u001b[1;32m    262\u001b[0m             return [func(*args, **kwargs)\n\u001b[0;32m--> 263\u001b[0;31m                     for func, args, kwargs in self.items]\n\u001b[0m\u001b[1;32m    264\u001b[0m \u001b[0;34m\u001b[0m\u001b[0m\n\u001b[1;32m    265\u001b[0m     \u001b[0;32mdef\u001b[0m \u001b[0m__reduce__\u001b[0m\u001b[0;34m(\u001b[0m\u001b[0mself\u001b[0m\u001b[0;34m)\u001b[0m\u001b[0;34m:\u001b[0m\u001b[0;34m\u001b[0m\u001b[0;34m\u001b[0m\u001b[0m\n",
            "\u001b[0;32m/usr/local/lib/python3.7/dist-packages/sklearn/ensemble/_forest.py\u001b[0m in \u001b[0;36m_parallel_build_trees\u001b[0;34m(tree, forest, X, y, sample_weight, tree_idx, n_trees, verbose, class_weight, n_samples_bootstrap)\u001b[0m\n\u001b[1;32m    163\u001b[0m             \u001b[0mcurr_sample_weight\u001b[0m \u001b[0;34m*=\u001b[0m \u001b[0mcompute_sample_weight\u001b[0m\u001b[0;34m(\u001b[0m\u001b[0;34m'balanced'\u001b[0m\u001b[0;34m,\u001b[0m \u001b[0my\u001b[0m\u001b[0;34m,\u001b[0m \u001b[0mindices\u001b[0m\u001b[0;34m)\u001b[0m\u001b[0;34m\u001b[0m\u001b[0;34m\u001b[0m\u001b[0m\n\u001b[1;32m    164\u001b[0m \u001b[0;34m\u001b[0m\u001b[0m\n\u001b[0;32m--> 165\u001b[0;31m         \u001b[0mtree\u001b[0m\u001b[0;34m.\u001b[0m\u001b[0mfit\u001b[0m\u001b[0;34m(\u001b[0m\u001b[0mX\u001b[0m\u001b[0;34m,\u001b[0m \u001b[0my\u001b[0m\u001b[0;34m,\u001b[0m \u001b[0msample_weight\u001b[0m\u001b[0;34m=\u001b[0m\u001b[0mcurr_sample_weight\u001b[0m\u001b[0;34m,\u001b[0m \u001b[0mcheck_input\u001b[0m\u001b[0;34m=\u001b[0m\u001b[0;32mFalse\u001b[0m\u001b[0;34m)\u001b[0m\u001b[0;34m\u001b[0m\u001b[0;34m\u001b[0m\u001b[0m\n\u001b[0m\u001b[1;32m    166\u001b[0m     \u001b[0;32melse\u001b[0m\u001b[0;34m:\u001b[0m\u001b[0;34m\u001b[0m\u001b[0;34m\u001b[0m\u001b[0m\n\u001b[1;32m    167\u001b[0m         \u001b[0mtree\u001b[0m\u001b[0;34m.\u001b[0m\u001b[0mfit\u001b[0m\u001b[0;34m(\u001b[0m\u001b[0mX\u001b[0m\u001b[0;34m,\u001b[0m \u001b[0my\u001b[0m\u001b[0;34m,\u001b[0m \u001b[0msample_weight\u001b[0m\u001b[0;34m=\u001b[0m\u001b[0msample_weight\u001b[0m\u001b[0;34m,\u001b[0m \u001b[0mcheck_input\u001b[0m\u001b[0;34m=\u001b[0m\u001b[0;32mFalse\u001b[0m\u001b[0;34m)\u001b[0m\u001b[0;34m\u001b[0m\u001b[0;34m\u001b[0m\u001b[0m\n",
            "\u001b[0;32m/usr/local/lib/python3.7/dist-packages/sklearn/tree/_classes.py\u001b[0m in \u001b[0;36mfit\u001b[0;34m(self, X, y, sample_weight, check_input, X_idx_sorted)\u001b[0m\n\u001b[1;32m   1223\u001b[0m             \u001b[0msample_weight\u001b[0m\u001b[0;34m=\u001b[0m\u001b[0msample_weight\u001b[0m\u001b[0;34m,\u001b[0m\u001b[0;34m\u001b[0m\u001b[0;34m\u001b[0m\u001b[0m\n\u001b[1;32m   1224\u001b[0m             \u001b[0mcheck_input\u001b[0m\u001b[0;34m=\u001b[0m\u001b[0mcheck_input\u001b[0m\u001b[0;34m,\u001b[0m\u001b[0;34m\u001b[0m\u001b[0;34m\u001b[0m\u001b[0m\n\u001b[0;32m-> 1225\u001b[0;31m             X_idx_sorted=X_idx_sorted)\n\u001b[0m\u001b[1;32m   1226\u001b[0m         \u001b[0;32mreturn\u001b[0m \u001b[0mself\u001b[0m\u001b[0;34m\u001b[0m\u001b[0;34m\u001b[0m\u001b[0m\n\u001b[1;32m   1227\u001b[0m \u001b[0;34m\u001b[0m\u001b[0m\n",
            "\u001b[0;32m/usr/local/lib/python3.7/dist-packages/sklearn/tree/_classes.py\u001b[0m in \u001b[0;36mfit\u001b[0;34m(self, X, y, sample_weight, check_input, X_idx_sorted)\u001b[0m\n\u001b[1;32m    266\u001b[0m         \u001b[0;32mif\u001b[0m \u001b[0;32mnot\u001b[0m \u001b[0;36m0\u001b[0m \u001b[0;34m<=\u001b[0m \u001b[0mself\u001b[0m\u001b[0;34m.\u001b[0m\u001b[0mmin_weight_fraction_leaf\u001b[0m \u001b[0;34m<=\u001b[0m \u001b[0;36m0.5\u001b[0m\u001b[0;34m:\u001b[0m\u001b[0;34m\u001b[0m\u001b[0;34m\u001b[0m\u001b[0m\n\u001b[1;32m    267\u001b[0m             \u001b[0;32mraise\u001b[0m \u001b[0mValueError\u001b[0m\u001b[0;34m(\u001b[0m\u001b[0;34m\"min_weight_fraction_leaf must in [0, 0.5]\"\u001b[0m\u001b[0;34m)\u001b[0m\u001b[0;34m\u001b[0m\u001b[0;34m\u001b[0m\u001b[0m\n\u001b[0;32m--> 268\u001b[0;31m         \u001b[0;32mif\u001b[0m \u001b[0mmax_depth\u001b[0m \u001b[0;34m<=\u001b[0m \u001b[0;36m0\u001b[0m\u001b[0;34m:\u001b[0m\u001b[0;34m\u001b[0m\u001b[0;34m\u001b[0m\u001b[0m\n\u001b[0m\u001b[1;32m    269\u001b[0m             \u001b[0;32mraise\u001b[0m \u001b[0mValueError\u001b[0m\u001b[0;34m(\u001b[0m\u001b[0;34m\"max_depth must be greater than zero. \"\u001b[0m\u001b[0;34m)\u001b[0m\u001b[0;34m\u001b[0m\u001b[0;34m\u001b[0m\u001b[0m\n\u001b[1;32m    270\u001b[0m         \u001b[0;32mif\u001b[0m \u001b[0;32mnot\u001b[0m \u001b[0;34m(\u001b[0m\u001b[0;36m0\u001b[0m \u001b[0;34m<\u001b[0m \u001b[0mmax_features\u001b[0m \u001b[0;34m<=\u001b[0m \u001b[0mself\u001b[0m\u001b[0;34m.\u001b[0m\u001b[0mn_features_\u001b[0m\u001b[0;34m)\u001b[0m\u001b[0;34m:\u001b[0m\u001b[0;34m\u001b[0m\u001b[0;34m\u001b[0m\u001b[0m\n",
            "\u001b[0;31mTypeError\u001b[0m: '<=' not supported between instances of 'str' and 'int'"
          ]
        }
      ]
    },
    {
      "cell_type": "code",
      "metadata": {
        "id": "ekFBP8NF-cHX"
      },
      "source": [
        ""
      ],
      "execution_count": null,
      "outputs": []
    }
  ]
}