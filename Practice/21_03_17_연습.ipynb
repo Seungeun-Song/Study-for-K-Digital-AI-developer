{
  "nbformat": 4,
  "nbformat_minor": 0,
  "metadata": {
    "colab": {
      "name": ".ipynb",
      "provenance": []
    },
    "kernelspec": {
      "name": "python3",
      "display_name": "Python 3"
    }
  },
  "cells": [
    {
      "cell_type": "markdown",
      "metadata": {
        "id": "1LLnOqhcCBua"
      },
      "source": [
        "# I. 수치미분(Numerical Derivative)\r\n",
        "## 1) Import numpy"
      ]
    },
    {
      "cell_type": "code",
      "metadata": {
        "id": "qs9o6501CBWH"
      },
      "source": [
        "import numpy as pd"
      ],
      "execution_count": 1,
      "outputs": []
    },
    {
      "cell_type": "markdown",
      "metadata": {
        "id": "bllYJx8sCN4w"
      },
      "source": [
        "## 2) gradient() 함수 정의\r\n",
        "* 다변수 함수의 수치미분"
      ]
    },
    {
      "cell_type": "code",
      "metadata": {
        "id": "J53bk1DGCQsE"
      },
      "source": [
        "def gradient(machine, param):\r\n",
        "\r\n",
        "  if param.ndim == 1: # 첫번째 파라메터 식\r\n",
        "    temp_param = param\r\n",
        "    delta = 0.00005\r\n",
        "    learned_param = np.zeros(param.shape)\r\n",
        "\r\n",
        "    for index in range(len(param)):\r\n",
        "      target_param = float(temp_param[index])\r\n",
        "      temp_param[index] = target_param + delta # delta(이동값)를 더하기도 하고 빼기도 하는데 = 중앙미분(차분)\r\n",
        "      param_plus_delta = machine(temp_param)\r\n",
        "      temp_param[index] = target_param - delta\r\n",
        "      param_minus_delta = machine(temp_param)\r\n",
        "      learned_param[index] = (param_plus_delta - param_minus_delta) / (2*delta) # 델타 x의 중앙미분을 해서 좌우로 델타거리가 2개가 생겼으니까, 2개를 곱     param_plus_delta = machine(temp_param)\r\n",
        "      temp_param[index] = target_param\r\n",
        "\r\n",
        "    return learned_param\r\n",
        "\r\n",
        "  elif param.ndim == 2:\r\n",
        "    temp_param = param\r\n",
        "    delta = 0.00005\r\n",
        "    learned_param = np.zeros(param.shape)\r\n",
        "\r\n",
        "    rows= param.shape[0]\r\n",
        "    columns = param.shape[1]\r\n",
        "\r\n",
        "    for row in range(rows):\r\n",
        "      for column in range(columns):\r\n",
        "        target_param = float(temp_param[row, column])\r\n",
        "        temp_param[row, column] = target_param + delta     # delta(이동값)를 더하기도 하고 빼기도 하는데 = 중앙미분(차분)\r\n",
        "        param_plus_delta = machine(temp_param)\r\n",
        "        temp_param[row, column] = target_param - delta\r\n",
        "        param_minus_delta = machine(temp_param)\r\n",
        "        learned_param[row, column] = (param_plus_delta - param_minus_delta) / (2*delta) # 델타 x의 중앙미분을 해서 좌우로 델타거리가 2개가 생겼으니까, 2개를 곱     param_plus_delta = machine(temp_param)\r\n",
        "        temp_param[row, column] = target_param\r\n",
        "\r\n",
        "    return learned_param\r\n",
        "                               "
      ],
      "execution_count": 12,
      "outputs": []
    },
    {
      "cell_type": "markdown",
      "metadata": {
        "id": "JLsrJGIwMvyZ"
      },
      "source": [
        "# II. Logic Gate() = 'AND, 'OR', 'NAND'\r\n",
        "## 1) sigmoid() 함수 정의"
      ]
    },
    {
      "cell_type": "code",
      "metadata": {
        "id": "YgaU5YPkMunB"
      },
      "source": [
        "import numpy as np\r\n",
        "\r\n",
        "def sigmoid(x):\r\n",
        "  y_hat = 1 / ( 1+ np.exp(-x))\r\n",
        "  return y_hat"
      ],
      "execution_count": 3,
      "outputs": []
    },
    {
      "cell_type": "markdown",
      "metadata": {
        "id": "E9XO06X5NFgp"
      },
      "source": [
        "## 2) LogicGate 클래스 선언"
      ]
    },
    {
      "cell_type": "code",
      "metadata": {
        "id": "WOXxdEFVM_0K"
      },
      "source": [
        "class LogicGate:\r\n",
        "\r\n",
        "  def __init__(self, gate_Type, X_input, y_output):\r\n",
        "\r\n",
        "    # gate_Type 문자열 지정 Member\r\n",
        "    self.Type = gate_Type\r\n",
        "\r\n",
        "    # X_input, y_output Member 초기화\r\n",
        "    self.X_input = X_input.reshape(4,2)    # (4행 2열) - X가 두개(column)니까,\r\n",
        "    self.y_output = y_output.reshape(4,1 )\r\n",
        "\r\n",
        "    # W, b Member 초기화\r\n",
        "    self.W = np.random.rand(2,1) # w = x가 2개니까 w도 2개\r\n",
        "    self.b = np.random.rand(1)\r\n",
        "\r\n",
        "    # learning_rate Mamber 지정\r\n",
        "    self.learning_rate = 0.01\r\n",
        "\r\n",
        "  # Cost_Function(CEE) Method\r\n",
        "  def cost_func(self):\r\n",
        "    z = np.dot(self.X_input, self.W) + self.b\r\n",
        "    y_hat = sigmoid(z)\r\n",
        "    delta = 0.00001\r\n",
        "    return -np.sum(self.y_output * np.log(y_hat + delta) + (1-self.y_output)*np.log((1-y_hat)+delta)) # Cross Entropy 식\r\n",
        "  \r\n",
        "  # Learning Method\r\n",
        "  def learn(self):\r\n",
        "    machine = lambda x : self.cost_func()\r\n",
        "    print('Inital Cost = ', self.cost_func())\r\n",
        "\r\n",
        "    for step in range(10001):\r\n",
        "      self.W = self.W - self.learning_rate * gradient(machine, self.W)\r\n",
        "      self.b =self.b - self.learning_rate * gradient(machine, self.b)\r\n",
        "\r\n",
        "      if (step % 1000 == 0) :\r\n",
        "        print('Step = ', step, 'Cost = ', self.cost_func() )\r\n",
        "\r\n",
        "  # Predict Method\r\n",
        "  def predict(self, input_data):\r\n",
        "\r\n",
        "    z = np.dot(input_data, self.W)  + self.b\r\n",
        "    y_prob = sigmoid(z)\r\n",
        "\r\n",
        "    if y_prob > 0.5:\r\n",
        "      result = 1\r\n",
        "    else:\r\n",
        "      result = 0\r\n",
        "\r\n",
        "    return y_prob, result"
      ],
      "execution_count": 22,
      "outputs": []
    },
    {
      "cell_type": "markdown",
      "metadata": {
        "id": "Onh0rq747aEp"
      },
      "source": [
        "## 3) AND_Gate\r\n",
        "* X_input, y_output 지정"
      ]
    },
    {
      "cell_type": "code",
      "metadata": {
        "id": "Kwa7nK0Y3-02"
      },
      "source": [
        "X_input = np.array([[0,0], [0,1], [1,0],[1,1]])\r\n",
        "y_output = np.array([0,0,0,1])"
      ],
      "execution_count": 5,
      "outputs": []
    },
    {
      "cell_type": "markdown",
      "metadata": {
        "id": "-bH66qfo7pZ4"
      },
      "source": [
        "* AND_Gate 객체 생성 및 학습"
      ]
    },
    {
      "cell_type": "code",
      "metadata": {
        "colab": {
          "base_uri": "https://localhost:8080/"
        },
        "id": "HoBxwNCv7oGx",
        "outputId": "1fedcd43-f2b7-4786-a3ef-4d627f3f2e65"
      },
      "source": [
        "AND_Gate = LogicGate('AND_GATE', X_input, y_output)\r\n",
        "AND_Gate.learn()"
      ],
      "execution_count": 24,
      "outputs": [
        {
          "output_type": "stream",
          "text": [
            "Inital Cost =  3.6735015367009556\n",
            "Step =  0 Cost =  3.636041203894603\n",
            "Step =  1000 Cost =  1.0140047169910198\n",
            "Step =  2000 Cost =  0.6628984042552841\n",
            "Step =  3000 Cost =  0.4928593300852373\n",
            "Step =  4000 Cost =  0.39118345790307074\n",
            "Step =  5000 Cost =  0.3235255602584002\n",
            "Step =  6000 Cost =  0.2753472346781095\n",
            "Step =  7000 Cost =  0.23936142221150825\n",
            "Step =  8000 Cost =  0.21150284087773402\n",
            "Step =  9000 Cost =  0.1893249385394955\n",
            "Step =  10000 Cost =  0.1712684921620484\n"
          ],
          "name": "stdout"
        }
      ]
    },
    {
      "cell_type": "markdown",
      "metadata": {
        "id": "-S1Jh1bq-G8B"
      },
      "source": [
        "* AND_Gate 테스트"
      ]
    },
    {
      "cell_type": "code",
      "metadata": {
        "colab": {
          "base_uri": "https://localhost:8080/"
        },
        "id": "AkQM3fz470dq",
        "outputId": "febe836f-db6b-4fa0-d92a-2e8d41111b26"
      },
      "source": [
        "print(AND_Gate.Type, '\\n')\r\n",
        "\r\n",
        "test_data = np.array([[0, 0],[0,1],[1,0],[1,1]])\r\n",
        "\r\n",
        "for input_data in test_data:\r\n",
        "  (sigmoid_val, logical_val) = AND_Gate.predict(input_data)\r\n",
        "  print(input_data, '=', logical_val)"
      ],
      "execution_count": 25,
      "outputs": [
        {
          "output_type": "stream",
          "text": [
            "AND_GATE \n",
            "\n",
            "[0 0] = 0\n",
            "[0 1] = 0\n",
            "[1 0] = 0\n",
            "[1 1] = 1\n"
          ],
          "name": "stdout"
        }
      ]
    },
    {
      "cell_type": "markdown",
      "metadata": {
        "id": "ar3Fs1JSAO7p"
      },
      "source": [
        "## 4) OR_Gate\r\n",
        "* X_input, y_output"
      ]
    },
    {
      "cell_type": "code",
      "metadata": {
        "id": "ONronrwoATGR"
      },
      "source": [
        "X_input = np.array([[0,0], [0,1], [1,0],[1,1]])\r\n",
        "y_output = np.array([0,1,1,1])"
      ],
      "execution_count": 27,
      "outputs": []
    },
    {
      "cell_type": "markdown",
      "metadata": {
        "id": "qlmMPCeX_x2h"
      },
      "source": [
        "* OR_Gate 객체 생성 및 학습"
      ]
    },
    {
      "cell_type": "code",
      "metadata": {
        "colab": {
          "base_uri": "https://localhost:8080/"
        },
        "id": "9S4JRAjx-dk5",
        "outputId": "cc07ed10-6e7b-4e23-9f3b-7f8faa347824"
      },
      "source": [
        "OR_Gate = LogicGate('OR_GATE', X_input, y_output)\r\n",
        "OR_Gate.learn()"
      ],
      "execution_count": 28,
      "outputs": [
        {
          "output_type": "stream",
          "text": [
            "Inital Cost =  2.2326822376906326\n",
            "Step =  0 Cost =  2.2246611811396377\n",
            "Step =  1000 Cost =  0.7640428327569517\n",
            "Step =  2000 Cost =  0.44859488874644227\n",
            "Step =  3000 Cost =  0.31233147535184996\n",
            "Step =  4000 Cost =  0.23775269161803433\n",
            "Step =  5000 Cost =  0.19116735485873812\n",
            "Step =  6000 Cost =  0.15948256572342295\n",
            "Step =  7000 Cost =  0.13661285527851277\n",
            "Step =  8000 Cost =  0.11936675508090068\n",
            "Step =  9000 Cost =  0.10591728551139663\n",
            "Step =  10000 Cost =  0.09514650785143353\n"
          ],
          "name": "stdout"
        }
      ]
    },
    {
      "cell_type": "markdown",
      "metadata": {
        "id": "XJIeJTCE_9MA"
      },
      "source": [
        "* OR_Gate 테스트"
      ]
    },
    {
      "cell_type": "code",
      "metadata": {
        "colab": {
          "base_uri": "https://localhost:8080/"
        },
        "id": "iKDecmHe_6wC",
        "outputId": "0c5dccd5-ae9b-471c-f46a-3f2393af9b09"
      },
      "source": [
        "print(OR_Gate.Type, '\\n')\r\n",
        "\r\n",
        "test_data = np.array([[0,0],[0,1],[1,0],[1,1]])\r\n",
        "\r\n",
        "for input_data in test_data:\r\n",
        "  (sigmoid_val, logical_val) = OR_Gate.predict(input_data)\r\n",
        "  print(input_data, '=', logical_val)"
      ],
      "execution_count": 29,
      "outputs": [
        {
          "output_type": "stream",
          "text": [
            "OR_GATE \n",
            "\n",
            "[0 0] = 0\n",
            "[0 1] = 1\n",
            "[1 0] = 1\n",
            "[1 1] = 1\n"
          ],
          "name": "stdout"
        }
      ]
    },
    {
      "cell_type": "markdown",
      "metadata": {
        "id": "nY1sM4SpBTya"
      },
      "source": [
        "## 5) NAND_Gate\r\n",
        "* X_input, y_output"
      ]
    },
    {
      "cell_type": "code",
      "metadata": {
        "id": "5HJmn4dwBZ8t"
      },
      "source": [
        "X_input = np.array([[0,0], [0,1], [1,0],[1,1]])\r\n",
        "y_output = np.array([1,1,1,0])"
      ],
      "execution_count": 30,
      "outputs": []
    },
    {
      "cell_type": "markdown",
      "metadata": {
        "id": "mI3ZTZfSBZ8t"
      },
      "source": [
        "* NAND_Gate 객체 생성 및 학습"
      ]
    },
    {
      "cell_type": "code",
      "metadata": {
        "colab": {
          "base_uri": "https://localhost:8080/"
        },
        "id": "KiUCW-GtBZ8t",
        "outputId": "76658a9d-ca13-4a3c-8c64-84353e2ff8bf"
      },
      "source": [
        "NAND_Gate = LogicGate('NAND_GATE', X_input, y_output)\r\n",
        "NAND_Gate.learn()"
      ],
      "execution_count": 31,
      "outputs": [
        {
          "output_type": "stream",
          "text": [
            "Inital Cost =  2.8205794786359037\n",
            "Step =  0 Cost =  2.8132090136410417\n",
            "Step =  1000 Cost =  1.047182689412004\n",
            "Step =  2000 Cost =  0.6767136985424577\n",
            "Step =  3000 Cost =  0.5005421799719807\n",
            "Step =  4000 Cost =  0.39607877331482577\n",
            "Step =  5000 Cost =  0.32691014762750803\n",
            "Step =  6000 Cost =  0.2778212716618471\n",
            "Step =  7000 Cost =  0.24124520503745142\n",
            "Step =  8000 Cost =  0.21298287879102065\n",
            "Step =  9000 Cost =  0.19051708113318302\n",
            "Step =  10000 Cost =  0.17224840297278496\n"
          ],
          "name": "stdout"
        }
      ]
    },
    {
      "cell_type": "markdown",
      "metadata": {
        "id": "fcjQSmKZBZ8u"
      },
      "source": [
        "* NAND_Gate 테스트"
      ]
    },
    {
      "cell_type": "code",
      "metadata": {
        "colab": {
          "base_uri": "https://localhost:8080/"
        },
        "id": "CQgbOdHyBZ8u",
        "outputId": "ae2751b0-ba1c-4142-8acb-a9f5f1f05b6c"
      },
      "source": [
        "print(NAND_Gate.Type, '\\n')\r\n",
        "\r\n",
        "test_data = np.array([[0,0],[0,1],[1,0],[1,1]])\r\n",
        "\r\n",
        "for input_data in test_data:\r\n",
        "  (sigmoid_val, logical_val) = NAND_Gate.predict(input_data)\r\n",
        "  print(input_data, '=', logical_val)"
      ],
      "execution_count": 32,
      "outputs": [
        {
          "output_type": "stream",
          "text": [
            "NAND_GATE \n",
            "\n",
            "[0 0] = 1\n",
            "[0 1] = 1\n",
            "[1 0] = 1\n",
            "[1 1] = 0\n"
          ],
          "name": "stdout"
        }
      ]
    },
    {
      "cell_type": "markdown",
      "metadata": {
        "id": "wm3r67FlCAiS"
      },
      "source": [
        "# III. XOR_Gate Issue\r\n",
        "## 1) XOR_Gate Failure"
      ]
    },
    {
      "cell_type": "code",
      "metadata": {
        "id": "2Km3wrpSCIyq"
      },
      "source": [
        "X_input = np.array([[0,0], [0,1], [1,0],[1,1]])\r\n",
        "y_output = np.array([0,1,1,0])"
      ],
      "execution_count": 37,
      "outputs": []
    },
    {
      "cell_type": "markdown",
      "metadata": {
        "id": "sNawdJyXCIyq"
      },
      "source": [
        "* XOR_Gate 객체 생성 및 학습"
      ]
    },
    {
      "cell_type": "code",
      "metadata": {
        "colab": {
          "base_uri": "https://localhost:8080/"
        },
        "id": "8tPp4-D0CIyq",
        "outputId": "d890cba3-482c-42bb-b67f-2603efb2578d"
      },
      "source": [
        "XOR_Gate = LogicGate('XOR_GATE', X_input, y_output)\r\n",
        "XOR_Gate.learn()"
      ],
      "execution_count": 38,
      "outputs": [
        {
          "output_type": "stream",
          "text": [
            "Inital Cost =  3.8123448492874807\n",
            "Step =  0 Cost =  3.78795303590408\n",
            "Step =  1000 Cost =  2.772584385518988\n",
            "Step =  2000 Cost =  2.7725097521610422\n",
            "Step =  3000 Cost =  2.77250875227414\n",
            "Step =  4000 Cost =  2.7725087241911317\n",
            "Step =  5000 Cost =  2.7725087230883516\n",
            "Step =  6000 Cost =  2.7725087230418444\n",
            "Step =  7000 Cost =  2.7725087230398593\n",
            "Step =  8000 Cost =  2.7725087230397745\n",
            "Step =  9000 Cost =  2.7725087230397705\n",
            "Step =  10000 Cost =  2.772508723039771\n"
          ],
          "name": "stdout"
        }
      ]
    },
    {
      "cell_type": "markdown",
      "metadata": {
        "id": "WxpVKxCeCIyr"
      },
      "source": [
        "* XOR_Gate 테스트"
      ]
    },
    {
      "cell_type": "code",
      "metadata": {
        "colab": {
          "base_uri": "https://localhost:8080/"
        },
        "id": "fTSXCE-aCIys",
        "outputId": "9803789a-d301-49df-de08-99a00f1cfee8"
      },
      "source": [
        "print(XOR_Gate.Type, '\\n')\r\n",
        "\r\n",
        "test_data = np.array([[0,0],[0,1],[1,0],[1,1]])\r\n",
        "\r\n",
        "for input_data in test_data:\r\n",
        "  (sigmoid_val, logical_val) = XOR_Gate.predict(input_data)\r\n",
        "  print(input_data, '=', logical_val)"
      ],
      "execution_count": 39,
      "outputs": [
        {
          "output_type": "stream",
          "text": [
            "XOR_GATE \n",
            "\n",
            "[0 0] = 1\n",
            "[0 1] = 1\n",
            "[1 0] = 1\n",
            "[1 1] = 0\n"
          ],
          "name": "stdout"
        }
      ]
    },
    {
      "cell_type": "markdown",
      "metadata": {
        "id": "9HQ402FRCptx"
      },
      "source": [
        "## 2) XOR_Gate Succeed\r\n",
        "* XOR를 (NAND + OR) 계층 및 AND 계층의 조합으로 연산\r\n",
        "* 이전 학습된 Parameter로 XOR 수행"
      ]
    },
    {
      "cell_type": "code",
      "metadata": {
        "colab": {
          "base_uri": "https://localhost:8080/"
        },
        "id": "a3_37jcMBPNy",
        "outputId": "ea7297f5-b889-4f5c-ce5a-d7d3b0dcc6b5"
      },
      "source": [
        "input_data =np.array([[0,0], [0,1], [1,0],[1,1]])\r\n",
        "\r\n",
        "HL1_1 = []  # NAND 출력\r\n",
        "HL1_2 = []  # OR 출력\r\n",
        "\r\n",
        "new_input_data = []   # AND 입력\r\n",
        "final_output = []     # AND(XOR) 출력\r\n",
        "\r\n",
        "for index in range(len(input_data)):\r\n",
        "\r\n",
        "  HL1_1 = NAND_Gate.predict(input_data[index])   # NAND 출력\r\n",
        "  HL1_2 = OR_Gate.predict(input_data[index])     # OR 출력\r\n",
        "\r\n",
        "  new_input_data.append(HL1_1[-1])    # AND 입력\r\n",
        "  new_input_data.append(HL1_2[-1])    # AND 입력\r\n",
        "  print(HL1_1, '\\n', HL1_2, '\\n', new_input_data)\r\n",
        "  \r\n",
        "  (sigmoid_val, logical_val) = AND_Gate.predict(np.array(new_input_data))\r\n",
        "\r\n",
        "  final_output.append(logical_val)   # AND(XOR) 출력\r\n",
        "  new_input_data = []                # AND 입력 초기화"
      ],
      "execution_count": 46,
      "outputs": [
        {
          "output_type": "stream",
          "text": [
            "(array([0.99980269]), 1) \n",
            " (array([0.05195042]), 0) \n",
            " [1, 0]\n",
            "(array([0.95089301]), 1) \n",
            " (array([0.97931436]), 1) \n",
            " [1, 1]\n",
            "(array([0.9508918]), 1) \n",
            " (array([0.97930518]), 1) \n",
            " [1, 1]\n",
            "(array([0.06889584]), 0) \n",
            " (array([0.99997554]), 1) \n",
            " [0, 1]\n"
          ],
          "name": "stdout"
        }
      ]
    },
    {
      "cell_type": "code",
      "metadata": {
        "colab": {
          "base_uri": "https://localhost:8080/"
        },
        "id": "gYhOahjhEQ0T",
        "outputId": "a57bea9c-949b-445c-a927-141c0ec9e820"
      },
      "source": [
        "print(XOR_Gate.Type, '\\n')\r\n",
        "\r\n",
        "for index in range(len(input_data)):\r\n",
        "  print(input_data[index], '=',   final_output[index])"
      ],
      "execution_count": 44,
      "outputs": [
        {
          "output_type": "stream",
          "text": [
            "XOR_GATE \n",
            "\n",
            "[0 0] = 0\n",
            "[0 1] = 1\n",
            "[1 0] = 1\n",
            "[1 1] = 0\n"
          ],
          "name": "stdout"
        }
      ]
    },
    {
      "cell_type": "code",
      "metadata": {
        "id": "aN-B1nUzEiNr"
      },
      "source": [
        ""
      ],
      "execution_count": null,
      "outputs": []
    }
  ]
}