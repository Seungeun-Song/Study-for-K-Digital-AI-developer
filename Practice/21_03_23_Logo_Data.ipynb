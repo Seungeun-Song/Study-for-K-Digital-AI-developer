{
  "nbformat": 4,
  "nbformat_minor": 0,
  "metadata": {
    "colab": {
      "name": "017_Logo_Data.ipynb",
      "provenance": []
    },
    "kernelspec": {
      "name": "python3",
      "display_name": "Python 3"
    },
    "language_info": {
      "name": "python"
    },
    "accelerator": "GPU"
  },
  "cells": [
    {
      "cell_type": "code",
      "metadata": {
        "id": "JVNw2Uf0vnDr"
      },
      "source": [
        "import warnings\n",
        "warnings.filterwarnings('ignore')"
      ],
      "execution_count": 1,
      "outputs": []
    },
    {
      "cell_type": "code",
      "metadata": {
        "colab": {
          "base_uri": "https://localhost:8080/",
          "height": 34
        },
        "id": "RyJPUM4Cv27p",
        "outputId": "02b1de4c-0bc5-4e0c-81c9-81a1b8e09e74"
      },
      "source": [
        "import tensorflow as tf\n",
        "tf.__version__"
      ],
      "execution_count": 2,
      "outputs": [
        {
          "output_type": "execute_result",
          "data": {
            "application/vnd.google.colaboratory.intrinsic+json": {
              "type": "string"
            },
            "text/plain": [
              "'2.4.1'"
            ]
          },
          "metadata": {
            "tags": []
          },
          "execution_count": 2
        }
      ]
    },
    {
      "cell_type": "code",
      "metadata": {
        "colab": {
          "base_uri": "https://localhost:8080/"
        },
        "id": "wu-Z1zYWv6Qb",
        "outputId": "93e0cf62-b6c5-4717-b6dd-b7149e62210b"
      },
      "source": [
        "print('GPU Unformation -', tf.test.gpu_device_name(), '\\n')\n",
        "!nvidia-smi"
      ],
      "execution_count": 3,
      "outputs": [
        {
          "output_type": "stream",
          "text": [
            "GPU Unformation - /device:GPU:0 \n",
            "\n",
            "Tue Mar 23 04:07:43 2021       \n",
            "+-----------------------------------------------------------------------------+\n",
            "| NVIDIA-SMI 460.56       Driver Version: 460.32.03    CUDA Version: 11.2     |\n",
            "|-------------------------------+----------------------+----------------------+\n",
            "| GPU  Name        Persistence-M| Bus-Id        Disp.A | Volatile Uncorr. ECC |\n",
            "| Fan  Temp  Perf  Pwr:Usage/Cap|         Memory-Usage | GPU-Util  Compute M. |\n",
            "|                               |                      |               MIG M. |\n",
            "|===============================+======================+======================|\n",
            "|   0  Tesla T4            Off  | 00000000:00:04.0 Off |                    0 |\n",
            "| N/A   66C    P0    31W /  70W |    222MiB / 15109MiB |      0%      Default |\n",
            "|                               |                      |                  N/A |\n",
            "+-------------------------------+----------------------+----------------------+\n",
            "                                                                               \n",
            "+-----------------------------------------------------------------------------+\n",
            "| Processes:                                                                  |\n",
            "|  GPU   GI   CI        PID   Type   Process name                  GPU Memory |\n",
            "|        ID   ID                                                   Usage      |\n",
            "|=============================================================================|\n",
            "+-----------------------------------------------------------------------------+\n"
          ],
          "name": "stdout"
        }
      ]
    },
    {
      "cell_type": "code",
      "metadata": {
        "colab": {
          "base_uri": "https://localhost:8080/",
          "height": 34
        },
        "id": "dmXcnJ9lwB3K",
        "outputId": "cdefa083-4b0c-42f6-e8d5-ae26da38af89"
      },
      "source": [
        "import keras\n",
        "keras.__version__"
      ],
      "execution_count": 4,
      "outputs": [
        {
          "output_type": "execute_result",
          "data": {
            "application/vnd.google.colaboratory.intrinsic+json": {
              "type": "string"
            },
            "text/plain": [
              "'2.4.3'"
            ]
          },
          "metadata": {
            "tags": []
          },
          "execution_count": 4
        }
      ]
    },
    {
      "cell_type": "code",
      "metadata": {
        "colab": {
          "base_uri": "https://localhost:8080/"
        },
        "id": "CFwsiB8PwI6q",
        "outputId": "85c9eb72-3bfb-4d35-8a3d-546f5018c59d"
      },
      "source": [
        "from google.colab import drive\n",
        "drive.mount('/content/drive')"
      ],
      "execution_count": 5,
      "outputs": [
        {
          "output_type": "stream",
          "text": [
            "Mounted at /content/drive\n"
          ],
          "name": "stdout"
        }
      ]
    },
    {
      "cell_type": "code",
      "metadata": {
        "colab": {
          "base_uri": "https://localhost:8080/"
        },
        "id": "A_IQ3HaOwN9G",
        "outputId": "9b241738-fadd-4d70-d76e-242a21822d7a"
      },
      "source": [
        "!ls -l '/content/drive/My Drive/Colab Notebooks/datasets/Logo_Data.zip'"
      ],
      "execution_count": 8,
      "outputs": [
        {
          "output_type": "stream",
          "text": [
            "-rw------- 1 root root 12929865 Mar  9 02:39 '/content/drive/My Drive/Colab Notebooks/datasets/Logo_Data.zip'\n"
          ],
          "name": "stdout"
        }
      ]
    },
    {
      "cell_type": "code",
      "metadata": {
        "colab": {
          "base_uri": "https://localhost:8080/"
        },
        "id": "zT8zomwHwqMq",
        "outputId": "b8de0c01-8721-4566-8969-9278e68522b1"
      },
      "source": [
        "!unzip /content/drive/My\\ Drive/Colab\\ Notebooks/datasets/Logo_Data.zip"
      ],
      "execution_count": 9,
      "outputs": [
        {
          "output_type": "stream",
          "text": [
            "Archive:  /content/drive/My Drive/Colab Notebooks/datasets/Logo_Data.zip\n",
            "  inflating: test/Adidas/4606245138.jpg  \n",
            " extracting: test/Adidas/Adidas_17.png  \n",
            " extracting: test/Adidas/Adidas_18.png  \n",
            " extracting: test/Adidas/Adidas_20.png  \n",
            " extracting: test/Adidas/Adidas_4.png  \n",
            " extracting: test/Adidas/Adidas_6.png  \n",
            " extracting: test/Adidas/Adidas_7.png  \n",
            "  inflating: test/Apple/4748791597.jpg  \n",
            "  inflating: test/Apple/Apple_10.jpg  \n",
            " extracting: test/Apple/Apple_12.png  \n",
            " extracting: test/Apple/Apple_14.png  \n",
            " extracting: test/Apple/Apple_16.png  \n",
            " extracting: test/Apple/Apple_18.png  \n",
            " extracting: test/Apple/Apple_20.png  \n",
            "  inflating: test/BMW/3744679341.jpg  \n",
            "  inflating: test/BMW/BMW_11.jpg     \n",
            "  inflating: test/BMW/BMW_14.jpg     \n",
            "  inflating: test/BMW/BMW_17.jpg     \n",
            "  inflating: test/BMW/BMW_8.jpg      \n",
            "  inflating: test/Citroen/2588612032.jpg  \n",
            "  inflating: test/Citroen/Citroen_1.jpg  \n",
            "  inflating: test/Citroen/Citroen_11.jpg  \n",
            " extracting: test/Citroen/Citroen_15.png  \n",
            " extracting: test/Citroen/Citroen_8.png  \n",
            " extracting: test/Citroen/Citroen_9.png  \n",
            " extracting: test/Cocacola/Cocacola_10.png  \n",
            "  inflating: test/Cocacola/Cocacola_12.jpg  \n",
            "  inflating: test/Cocacola/Cocacola_14.jpg  \n",
            "  inflating: test/Cocacola/Cocacola_17.jpg  \n",
            " extracting: test/Cocacola/Cocacola_4.png  \n",
            "  inflating: test/Cocacola/Cocacola_5.jpg  \n",
            " extracting: test/Cocacola/Cocacola_6.png  \n",
            "  inflating: test/DHL/402320572.jpg  \n",
            "  inflating: test/DHL/4293357063.jpg  \n",
            "  inflating: test/DHL/57857859.jpg   \n",
            " extracting: test/DHL/DHL_11.png     \n",
            " extracting: test/DHL/DHL_12.png     \n",
            "  inflating: test/DHL/DHL_2.jpg      \n",
            " extracting: test/DHL/DHL_20.png     \n",
            " extracting: test/DHL/DHL_4.png      \n",
            " extracting: test/Fedex/Fedex_10.png  \n",
            "  inflating: test/Fedex/Fedex_13.jpg  \n",
            " extracting: test/Fedex/Fedex_20.png  \n",
            "  inflating: test/Ferrari/2485192693.jpg  \n",
            " extracting: test/Ferrari/Ferrari_14.png  \n",
            " extracting: test/Ferrari/Ferrari_15.png  \n",
            "  inflating: test/Ferrari/Ferrari_16.jpg  \n",
            " extracting: test/Ferrari/Ferrari_18.png  \n",
            " extracting: test/Ferrari/Ferrari_5.png  \n",
            "  inflating: test/Ford/Ford_1.jpg    \n",
            " extracting: test/Ford/Ford_12.png   \n",
            "  inflating: test/Ford/Ford_13.jpg   \n",
            " extracting: test/Ford/Ford_20.png   \n",
            " extracting: test/Ford/Ford_3.png    \n",
            " extracting: test/Ford/Ford_7.png    \n",
            "  inflating: test/Ford/Ford_8.jpg    \n",
            "  inflating: test/Google/3579847658.jpg  \n",
            " extracting: test/Google/Google_11.png  \n",
            "  inflating: test/Google/Google_13.jpg  \n",
            "  inflating: test/Google/Google_14.jpg  \n",
            " extracting: test/Google/Google_15.png  \n",
            " extracting: test/Google/Google_17.png  \n",
            " extracting: test/Google/Google_19.png  \n",
            " extracting: test/Google/Google_4.png  \n",
            "  inflating: test/Google/Google_5.jpg  \n",
            "  inflating: test/Heineken/3809296569.jpg  \n",
            "  inflating: test/Heineken/4009411354.jpg  \n",
            "  inflating: test/Heineken/4158918782.jpg  \n",
            "  inflating: test/Heineken/Heineken_15.jpg  \n",
            "  inflating: test/Heineken/Heineken_18.jpg  \n",
            " extracting: test/Heineken/Heineken_5.png  \n",
            " extracting: test/Heineken/Heineken_7.png  \n",
            "  inflating: test/HP/3388835839.jpg  \n",
            "  inflating: test/HP/4584663944.jpg  \n",
            "  inflating: test/HP/HP_12.jpg       \n",
            " extracting: test/HP/HP_13.png       \n",
            " extracting: test/HP/HP_2.png        \n",
            " extracting: test/HP/HP_8.png        \n",
            "  inflating: test/Intel/Intel_15.jpg  \n",
            " extracting: test/Intel/Intel_19.png  \n",
            " extracting: test/Intel/Intel_20.png  \n",
            "  inflating: test/Intel/Intel_3.jpg  \n",
            " extracting: test/Intel/Intel_4.png  \n",
            "  inflating: test/McDonalds/4630159289.jpg  \n",
            "  inflating: test/McDonalds/6651198.jpg  \n",
            " extracting: test/McDonalds/McDonalds_15.jpg  \n",
            " extracting: test/McDonalds/McDonalds_2.jpg  \n",
            " extracting: test/McDonalds/McDonalds_6.jpg  \n",
            "  inflating: test/McDonalds/McDonalds_8.jpg  \n",
            "  inflating: test/Mini/179101388.jpg  \n",
            "  inflating: test/Mini/3539346318.jpg  \n",
            "  inflating: test/Mini/866547165.jpg  \n",
            " extracting: test/Mini/Mini_10.jpg   \n",
            "  inflating: test/Mini/Mini_12.jpg   \n",
            " extracting: test/Mini/Mini_15.jpg   \n",
            "  inflating: test/Mini/Mini_3.jpg    \n",
            "  inflating: test/Mini/Mini_5.jpg    \n",
            " extracting: test/Mini/Mini_9.jpg    \n",
            "  inflating: test/Nbc/3040021292.jpg  \n",
            " extracting: test/Nbc/319239030.jpg  \n",
            " extracting: test/Nbc/Nbc_1.jpg      \n",
            "  inflating: test/Nbc/Nbc_11.jpg     \n",
            "  inflating: test/Nbc/Nbc_15.jpg     \n",
            " extracting: test/Nbc/Nbc_17.jpg     \n",
            "  inflating: test/Nbc/Nbc_2.jpg      \n",
            "  inflating: test/Nbc/Nbc_3.jpg      \n",
            " extracting: test/Nbc/Nbc_6.jpg      \n",
            " extracting: test/Nbc/Nbc_7.jpg      \n",
            " extracting: test/Nbc/Nbc_8.jpg      \n",
            "  inflating: test/Nike/3007900027.jpg  \n",
            "  inflating: test/Nike/3489974023.jpg  \n",
            " extracting: test/Nike/Nike_1.jpg    \n",
            " extracting: test/Nike/Nike_13.jpg   \n",
            " extracting: test/Nike/Nike_15.jpg   \n",
            " extracting: test/Nike/Nike_18.jpg   \n",
            " extracting: test/Nike/Nike_19.jpg   \n",
            " extracting: test/Nike/Nike_8.jpg    \n",
            "  inflating: test/Pepsi/3162394630.jpg  \n",
            "  inflating: test/Pepsi/4154476008.jpg  \n",
            " extracting: test/Pepsi/Pepsi_16.jpg  \n",
            "  inflating: test/Pepsi/Pepsi_19.jpg  \n",
            "  inflating: test/Pepsi/Pepsi_20.jpg  \n",
            "  inflating: test/Pepsi/Pepsi_4.jpg  \n",
            " extracting: test/Pepsi/Pepsi_6.jpg  \n",
            "  inflating: test/Porsche/3753448903.jpg  \n",
            "  inflating: test/Porsche/4497419735.jpg  \n",
            "  inflating: test/Porsche/Porsche_12.jpg  \n",
            " extracting: test/Porsche/Porsche_17.jpg  \n",
            " extracting: test/Porsche/Porsche_20.jpg  \n",
            " extracting: test/Porsche/Porsche_7.jpg  \n",
            "  inflating: test/Puma/2371203118.jpg  \n",
            "  inflating: test/Puma/2928144547.jpg  \n",
            " extracting: test/Puma/Puma_11.jpg   \n",
            "  inflating: test/Puma/Puma_17.jpg   \n",
            "  inflating: test/Puma/Puma_19.jpg   \n",
            "  inflating: test/RedBull/4557167995.jpg  \n",
            "  inflating: test/RedBull/RedBull_12.jpg  \n",
            " extracting: test/RedBull/RedBull_6.jpg  \n",
            " extracting: test/RedBull/RedBull_8.jpg  \n",
            "  inflating: test/RedBull/RedBull_9.jpg  \n",
            "  inflating: test/Sprite/3511285732.jpg  \n",
            "  inflating: test/Sprite/Sprite_13.jpg  \n",
            " extracting: test/Sprite/Sprite_16.jpg  \n",
            " extracting: test/Sprite/Sprite_2.jpg  \n",
            "  inflating: test/Sprite/Sprite_3.jpg  \n",
            "  inflating: test/Sprite/Sprite_7.jpg  \n",
            "  inflating: test/Starbucks/3201373046.jpg  \n",
            "  inflating: test/Starbucks/633730707.jpg  \n",
            " extracting: test/Starbucks/Starbucks_15.jpg  \n",
            " extracting: test/Starbucks/Starbucks_2.jpg  \n",
            "  inflating: test/Starbucks/Starbucks_3.jpg  \n",
            "  inflating: test/Starbucks/Starbucks_5.jpg  \n",
            "  inflating: test/Texaco/2936435251.jpg  \n",
            " extracting: test/Texaco/Texaco_1.jpg  \n",
            " extracting: test/Texaco/Texaco_11.jpg  \n",
            "  inflating: test/Texaco/Texaco_13.jpg  \n",
            " extracting: test/Texaco/Texaco_15.jpg  \n",
            "  inflating: test/Texaco/Texaco_17.jpg  \n",
            "  inflating: test/Texaco/Texaco_20.jpg  \n",
            "  inflating: test/Texaco/Texaco_4.jpg  \n",
            "  inflating: test/Texaco/Texaco_6.jpg  \n",
            " extracting: test/Unicef/3646612994.jpg  \n",
            "  inflating: test/Unicef/Unicef_1.jpg  \n",
            " extracting: test/Unicef/Unicef_11.jpg  \n",
            "  inflating: test/Unicef/Unicef_12.jpg  \n",
            "  inflating: test/Unicef/Unicef_15.jpg  \n",
            " extracting: test/Unicef/Unicef_20.jpg  \n",
            "  inflating: test/Unicef/Unicef_7.jpg  \n",
            " extracting: test/Unicef/Unicef_9.jpg  \n",
            " extracting: test/Vodafone/Vodafone_19.jpg  \n",
            " extracting: test/Vodafone/Vodafone_2.jpg  \n",
            " extracting: test/Vodafone/Vodafone_6.jpg  \n",
            "  inflating: test/Yahoo/2744069024.jpg  \n",
            "  inflating: test/Yahoo/362354171.jpg  \n",
            " extracting: test/Yahoo/Yahoo_13.jpg  \n",
            "  inflating: test/Yahoo/Yahoo_16.jpg  \n",
            "  inflating: test/Yahoo/Yahoo_20.jpg  \n",
            "  inflating: train/Adidas/2403695909.jpg  \n",
            "  inflating: train/Adidas/2912587920.jpg  \n",
            "  inflating: train/Adidas/3441398196.jpg  \n",
            "  inflating: train/Adidas/4605630935.jpg  \n",
            " extracting: train/Adidas/Adidas_1.png  \n",
            " extracting: train/Adidas/Adidas_10.png  \n",
            " extracting: train/Adidas/Adidas_11.png  \n",
            " extracting: train/Adidas/Adidas_12.png  \n",
            " extracting: train/Adidas/Adidas_13.png  \n",
            " extracting: train/Adidas/Adidas_14.png  \n",
            " extracting: train/Adidas/Adidas_15.png  \n",
            " extracting: train/Adidas/Adidas_16.png  \n",
            " extracting: train/Adidas/Adidas_19.png  \n",
            " extracting: train/Adidas/Adidas_2.png  \n",
            " extracting: train/Adidas/Adidas_3.png  \n",
            " extracting: train/Adidas/Adidas_5.png  \n",
            " extracting: train/Adidas/Adidas_8.png  \n",
            "  inflating: train/Adidas/Adidas_9.jpg  \n",
            "  inflating: train/Apple/161270014.jpg  \n",
            "  inflating: train/Apple/3276332721.jpg  \n",
            "  inflating: train/Apple/3842830049.jpg  \n",
            "  inflating: train/Apple/51409302.jpg  \n",
            " extracting: train/Apple/Apple_1.png  \n",
            " extracting: train/Apple/Apple_11.png  \n",
            "  inflating: train/Apple/Apple_13.jpg  \n",
            " extracting: train/Apple/Apple_15.png  \n",
            "  inflating: train/Apple/Apple_17.jpg  \n",
            "  inflating: train/Apple/Apple_19.jpg  \n",
            " extracting: train/Apple/Apple_2.png  \n",
            " extracting: train/Apple/Apple_3.png  \n",
            " extracting: train/Apple/Apple_4.png  \n",
            " extracting: train/Apple/Apple_5.png  \n",
            " extracting: train/Apple/Apple_6.png  \n",
            " extracting: train/Apple/Apple_7.png  \n",
            "  inflating: train/Apple/Apple_8.jpg  \n",
            " extracting: train/Apple/Apple_9.png  \n",
            "  inflating: train/BMW/2802471529.jpg  \n",
            "  inflating: train/BMW/3159686523.jpg  \n",
            "  inflating: train/BMW/388978947.jpg  \n",
            "  inflating: train/BMW/401253895.jpg  \n",
            " extracting: train/BMW/BMW_1.png     \n",
            " extracting: train/BMW/BMW_10.png    \n",
            "  inflating: train/BMW/BMW_12.jpg    \n",
            "  inflating: train/BMW/BMW_13.jpg    \n",
            "  inflating: train/BMW/BMW_15.jpg    \n",
            "  inflating: train/BMW/BMW_16.jpg    \n",
            "  inflating: train/BMW/BMW_18.jpg    \n",
            "  inflating: train/BMW/BMW_19.jpg    \n",
            "  inflating: train/BMW/BMW_2.jpg     \n",
            "  inflating: train/BMW/BMW_20.jpg    \n",
            "  inflating: train/BMW/BMW_3.jpg     \n",
            " extracting: train/BMW/BMW_4.png     \n",
            "  inflating: train/BMW/BMW_5.jpg     \n",
            " extracting: train/BMW/BMW_6.png     \n",
            "  inflating: train/BMW/BMW_7.jpg     \n",
            " extracting: train/BMW/BMW_9.png     \n",
            "  inflating: train/Citroen/2950778947.jpg  \n",
            "  inflating: train/Citroen/3272258283.jpg  \n",
            "  inflating: train/Citroen/4735811136.jpg  \n",
            "  inflating: train/Citroen/477690498.jpg  \n",
            " extracting: train/Citroen/Citroen_10.png  \n",
            " extracting: train/Citroen/Citroen_12.png  \n",
            " extracting: train/Citroen/Citroen_13.png  \n",
            " extracting: train/Citroen/Citroen_14.png  \n",
            "  inflating: train/Citroen/Citroen_16.jpg  \n",
            "  inflating: train/Citroen/Citroen_17.jpg  \n",
            "  inflating: train/Citroen/Citroen_18.jpg  \n",
            "  inflating: train/Citroen/Citroen_19.jpg  \n",
            " extracting: train/Citroen/Citroen_2.png  \n",
            "  inflating: train/Citroen/Citroen_20.jpg  \n",
            "  inflating: train/Citroen/Citroen_3.jpg  \n",
            " extracting: train/Citroen/Citroen_4.png  \n",
            "  inflating: train/Citroen/Citroen_5.jpg  \n",
            " extracting: train/Citroen/Citroen_6.png  \n",
            " extracting: train/Citroen/Citroen_7.png  \n",
            "  inflating: train/Cocacola/2145962231.jpg  \n",
            "  inflating: train/Cocacola/2180367311.jpg  \n",
            " extracting: train/Cocacola/2471468427.jpg  \n",
            "  inflating: train/Cocacola/3666600356.jpg  \n",
            "  inflating: train/Cocacola/3887773624.jpg  \n",
            " extracting: train/Cocacola/Cocacola_1.png  \n",
            " extracting: train/Cocacola/Cocacola_11.png  \n",
            " extracting: train/Cocacola/Cocacola_13.png  \n",
            " extracting: train/Cocacola/Cocacola_15.png  \n",
            "  inflating: train/Cocacola/Cocacola_16.jpg  \n",
            " extracting: train/Cocacola/Cocacola_18.png  \n",
            "  inflating: train/Cocacola/Cocacola_19.jpg  \n",
            "  inflating: train/Cocacola/Cocacola_2.jpg  \n",
            " extracting: train/Cocacola/Cocacola_20.png  \n",
            " extracting: train/Cocacola/Cocacola_3.png  \n",
            " extracting: train/Cocacola/Cocacola_7.png  \n",
            " extracting: train/Cocacola/Cocacola_8.png  \n",
            " extracting: train/Cocacola/Cocacola_9.png  \n",
            "  inflating: train/DHL/2399621710.jpg  \n",
            "  inflating: train/DHL/4273898682.jpg  \n",
            " extracting: train/DHL/DHL_1.png     \n",
            " extracting: train/DHL/DHL_10.png    \n",
            " extracting: train/DHL/DHL_13.png    \n",
            "  inflating: train/DHL/DHL_14.jpg    \n",
            " extracting: train/DHL/DHL_15.png    \n",
            " extracting: train/DHL/DHL_16.png    \n",
            "  inflating: train/DHL/DHL_17.jpg    \n",
            " extracting: train/DHL/DHL_18.png    \n",
            " extracting: train/DHL/DHL_19.png    \n",
            "  inflating: train/DHL/DHL_3.png     \n",
            " extracting: train/DHL/DHL_5.png     \n",
            " extracting: train/DHL/DHL_6.png     \n",
            " extracting: train/DHL/DHL_7.png     \n",
            " extracting: train/DHL/DHL_8.png     \n",
            " extracting: train/DHL/DHL_9.png     \n",
            " extracting: train/Fedex/2276226904.jpg  \n",
            "  inflating: train/Fedex/2286135438.jpg  \n",
            "  inflating: train/Fedex/3907703753.jpg  \n",
            "  inflating: train/Fedex/4057075142.jpg  \n",
            "  inflating: train/Fedex/4159635668.jpg  \n",
            " extracting: train/Fedex/Fedex_1.png  \n",
            "  inflating: train/Fedex/Fedex_11.jpg  \n",
            " extracting: train/Fedex/Fedex_12.png  \n",
            " extracting: train/Fedex/Fedex_14.png  \n",
            " extracting: train/Fedex/Fedex_15.png  \n",
            "  inflating: train/Fedex/Fedex_16.jpg  \n",
            "  inflating: train/Fedex/Fedex_17.jpg  \n",
            " extracting: train/Fedex/Fedex_18.png  \n",
            " extracting: train/Fedex/Fedex_19.png  \n",
            "  inflating: train/Fedex/Fedex_2.jpg  \n",
            " extracting: train/Fedex/Fedex_3.png  \n",
            " extracting: train/Fedex/Fedex_4.png  \n",
            " extracting: train/Fedex/Fedex_5.png  \n",
            "  inflating: train/Fedex/Fedex_6.jpg  \n",
            " extracting: train/Fedex/Fedex_7.png  \n",
            " extracting: train/Fedex/Fedex_8.png  \n",
            " extracting: train/Fedex/Fedex_9.png  \n",
            "  inflating: train/Ferrari/190150061.jpg  \n",
            "  inflating: train/Ferrari/3035356063.jpg  \n",
            "  inflating: train/Ferrari/4498492208.jpg  \n",
            "  inflating: train/Ferrari/4755458545.jpg  \n",
            " extracting: train/Ferrari/Ferrari_1.png  \n",
            " extracting: train/Ferrari/Ferrari_10.png  \n",
            " extracting: train/Ferrari/Ferrari_11.png  \n",
            " extracting: train/Ferrari/Ferrari_12.png  \n",
            " extracting: train/Ferrari/Ferrari_13.png  \n",
            "  inflating: train/Ferrari/Ferrari_17.jpg  \n",
            "  inflating: train/Ferrari/Ferrari_19.jpg  \n",
            " extracting: train/Ferrari/Ferrari_2.png  \n",
            "  inflating: train/Ferrari/Ferrari_20.jpg  \n",
            " extracting: train/Ferrari/Ferrari_3.png  \n",
            " extracting: train/Ferrari/Ferrari_4.png  \n",
            "  inflating: train/Ferrari/Ferrari_6.jpg  \n",
            " extracting: train/Ferrari/Ferrari_7.png  \n",
            " extracting: train/Ferrari/Ferrari_8.png  \n",
            "  inflating: train/Ferrari/Ferrari_9.jpg  \n",
            "  inflating: train/Ford/106523337.jpg  \n",
            "  inflating: train/Ford/2395651545.jpg  \n",
            "  inflating: train/Ford/3419576364.jpg  \n",
            " extracting: train/Ford/4649660427.jpg  \n",
            "  inflating: train/Ford/4726790962.jpg  \n",
            "  inflating: train/Ford/Ford_10.jpg  \n",
            "  inflating: train/Ford/Ford_11.jpg  \n",
            " extracting: train/Ford/Ford_14.png  \n",
            "  inflating: train/Ford/Ford_15.jpg  \n",
            " extracting: train/Ford/Ford_16.png  \n",
            "  inflating: train/Ford/Ford_17.jpg  \n",
            "  inflating: train/Ford/Ford_18.jpg  \n",
            "  inflating: train/Ford/Ford_19.jpg  \n",
            " extracting: train/Ford/Ford_2.png   \n",
            " extracting: train/Ford/Ford_4.png   \n",
            "  inflating: train/Ford/Ford_5.jpg   \n",
            " extracting: train/Ford/Ford_6.png   \n",
            "  inflating: train/Ford/Ford_9.jpg   \n",
            "  inflating: train/Google/2550417833.jpg  \n",
            "  inflating: train/Google/2758671363.jpg  \n",
            "  inflating: train/Google/2770852623.jpg  \n",
            "  inflating: train/Google/2777979648.jpg  \n",
            " extracting: train/Google/Google_1.png  \n",
            " extracting: train/Google/Google_10.png  \n",
            "  inflating: train/Google/Google_12.jpg  \n",
            "  inflating: train/Google/Google_16.jpg  \n",
            " extracting: train/Google/Google_18.png  \n",
            " extracting: train/Google/Google_2.png  \n",
            "  inflating: train/Google/Google_20.jpg  \n",
            "  inflating: train/Google/Google_3.jpg  \n",
            " extracting: train/Google/Google_6.png  \n",
            " extracting: train/Google/Google_7.png  \n",
            "  inflating: train/Google/Google_8.jpg  \n",
            "  inflating: train/Google/Google_9.jpg  \n",
            "  inflating: train/Heineken/2214052591.jpg  \n",
            "  inflating: train/Heineken/3434798835.jpg  \n",
            " extracting: train/Heineken/Heineken_1.png  \n",
            " extracting: train/Heineken/Heineken_10.png  \n",
            "  inflating: train/Heineken/Heineken_11.jpg  \n",
            " extracting: train/Heineken/Heineken_12.png  \n",
            " extracting: train/Heineken/Heineken_13.png  \n",
            " extracting: train/Heineken/Heineken_14.png  \n",
            " extracting: train/Heineken/Heineken_16.png  \n",
            " extracting: train/Heineken/Heineken_17.png  \n",
            " extracting: train/Heineken/Heineken_19.png  \n",
            "  inflating: train/Heineken/Heineken_2.jpg  \n",
            " extracting: train/Heineken/Heineken_20.png  \n",
            " extracting: train/Heineken/Heineken_3.png  \n",
            " extracting: train/Heineken/Heineken_4.png  \n",
            " extracting: train/Heineken/Heineken_6.png  \n",
            "  inflating: train/Heineken/Heineken_8.jpg  \n",
            " extracting: train/Heineken/Heineken_9.png  \n",
            "  inflating: train/HP/2729425057.jpg  \n",
            "  inflating: train/HP/4427558055.jpg  \n",
            " extracting: train/HP/500605830.jpg  \n",
            " extracting: train/HP/HP_1.png       \n",
            " extracting: train/HP/HP_10.png      \n",
            "  inflating: train/HP/HP_11.jpg      \n",
            "  inflating: train/HP/HP_14.jpg      \n",
            "  inflating: train/HP/HP_15.jpg      \n",
            " extracting: train/HP/HP_16.png      \n",
            "  inflating: train/HP/HP_17.jpg      \n",
            "  inflating: train/HP/HP_18.jpg      \n",
            "  inflating: train/HP/HP_19.jpg      \n",
            "  inflating: train/HP/HP_20.jpg      \n",
            " extracting: train/HP/HP_3.png       \n",
            " extracting: train/HP/HP_4.png       \n",
            " extracting: train/HP/HP_5.png       \n",
            "  inflating: train/HP/HP_6.jpg       \n",
            " extracting: train/HP/HP_7.png       \n",
            " extracting: train/HP/HP_9.png       \n",
            "  inflating: train/Intel/2256917485.jpg  \n",
            "  inflating: train/Intel/2548030356.jpg  \n",
            "  inflating: train/Intel/2867903303.jpg  \n",
            "  inflating: train/Intel/3063112468.jpg  \n",
            "  inflating: train/Intel/3489964654.jpg  \n",
            " extracting: train/Intel/Intel_1.png  \n",
            "  inflating: train/Intel/Intel_10.jpg  \n",
            " extracting: train/Intel/Intel_11.png  \n",
            "  inflating: train/Intel/Intel_12.jpg  \n",
            "  inflating: train/Intel/Intel_13.jpg  \n",
            " extracting: train/Intel/Intel_14.png  \n",
            "  inflating: train/Intel/Intel_16.jpg  \n",
            "  inflating: train/Intel/Intel_17.jpg  \n",
            "  inflating: train/Intel/Intel_18.jpg  \n",
            " extracting: train/Intel/Intel_2.png  \n",
            " extracting: train/Intel/Intel_5.png  \n",
            " extracting: train/Intel/Intel_6.png  \n",
            " extracting: train/Intel/Intel_7.png  \n",
            " extracting: train/Intel/Intel_8.png  \n",
            " extracting: train/Intel/Intel_9.png  \n",
            "  inflating: train/McDonalds/133298345.jpg  \n",
            "  inflating: train/McDonalds/2796230679.jpg  \n",
            "  inflating: train/McDonalds/3024711242.jpg  \n",
            " extracting: train/McDonalds/McDonalds_1.png  \n",
            " extracting: train/McDonalds/McDonalds_10.png  \n",
            " extracting: train/McDonalds/McDonalds_11.png  \n",
            " extracting: train/McDonalds/McDonalds_12.png  \n",
            " extracting: train/McDonalds/McDonalds_13.jpg  \n",
            "  inflating: train/McDonalds/McDonalds_14.jpg  \n",
            " extracting: train/McDonalds/McDonalds_16.jpg  \n",
            "  inflating: train/McDonalds/McDonalds_17.jpg  \n",
            "  inflating: train/McDonalds/McDonalds_18.jpg  \n",
            "  inflating: train/McDonalds/McDonalds_19.jpg  \n",
            " extracting: train/McDonalds/McDonalds_20.jpg  \n",
            " extracting: train/McDonalds/McDonalds_3.jpg  \n",
            " extracting: train/McDonalds/McDonalds_4.jpg  \n",
            "  inflating: train/McDonalds/McDonalds_5.jpg  \n",
            " extracting: train/McDonalds/McDonalds_7.jpg  \n",
            "  inflating: train/McDonalds/McDonalds_9.jpg  \n",
            "  inflating: train/Mini/4082747499.jpg  \n",
            " extracting: train/Mini/556390286.jpg  \n",
            " extracting: train/Mini/Mini_1.jpg   \n",
            "  inflating: train/Mini/Mini_11.jpg  \n",
            "  inflating: train/Mini/Mini_13.jpg  \n",
            "  inflating: train/Mini/Mini_14.jpg  \n",
            "  inflating: train/Mini/Mini_16.jpg  \n",
            "  inflating: train/Mini/Mini_17.jpg  \n",
            " extracting: train/Mini/Mini_18.jpg  \n",
            "  inflating: train/Mini/Mini_19.jpg  \n",
            "  inflating: train/Mini/Mini_2.jpg   \n",
            "  inflating: train/Mini/Mini_20.jpg  \n",
            " extracting: train/Mini/Mini_4.jpg   \n",
            "  inflating: train/Mini/Mini_6.jpg   \n",
            " extracting: train/Mini/Mini_7.jpg   \n",
            " extracting: train/Mini/Mini_8.jpg   \n",
            "  inflating: train/Nbc/3386938907.jpg  \n",
            "  inflating: train/Nbc/3815108969.jpg  \n",
            " extracting: train/Nbc/4025944647.jpg  \n",
            "  inflating: train/Nbc/Nbc_10.jpg    \n",
            "  inflating: train/Nbc/Nbc_12.jpg    \n",
            "  inflating: train/Nbc/Nbc_13.jpg    \n",
            " extracting: train/Nbc/Nbc_14.jpg    \n",
            "  inflating: train/Nbc/Nbc_16.jpg    \n",
            " extracting: train/Nbc/Nbc_18.jpg    \n",
            "  inflating: train/Nbc/Nbc_19.jpg    \n",
            " extracting: train/Nbc/Nbc_20.jpg    \n",
            " extracting: train/Nbc/Nbc_4.jpg     \n",
            " extracting: train/Nbc/Nbc_5.jpg     \n",
            " extracting: train/Nbc/Nbc_9.jpg     \n",
            "  inflating: train/Nike/2290821691.jpg  \n",
            "  inflating: train/Nike/2796858810.jpg  \n",
            "  inflating: train/Nike/4170039938.jpg  \n",
            " extracting: train/Nike/Nike_10.jpg  \n",
            " extracting: train/Nike/Nike_11.jpg  \n",
            " extracting: train/Nike/Nike_12.jpg  \n",
            "  inflating: train/Nike/Nike_14.jpg  \n",
            " extracting: train/Nike/Nike_16.jpg  \n",
            " extracting: train/Nike/Nike_17.jpg  \n",
            " extracting: train/Nike/Nike_2.jpg   \n",
            "  inflating: train/Nike/Nike_20.jpg  \n",
            " extracting: train/Nike/Nike_3.jpg   \n",
            " extracting: train/Nike/Nike_4.jpg   \n",
            " extracting: train/Nike/Nike_5.jpg   \n",
            " extracting: train/Nike/Nike_6.jpg   \n",
            " extracting: train/Nike/Nike_7.jpg   \n",
            " extracting: train/Nike/Nike_9.jpg   \n",
            "  inflating: train/Pepsi/2960555079.jpg  \n",
            "  inflating: train/Pepsi/3253037891.jpg  \n",
            "  inflating: train/Pepsi/408737814.jpg  \n",
            " extracting: train/Pepsi/Pepsi_1.jpg  \n",
            "  inflating: train/Pepsi/Pepsi_10.jpg  \n",
            " extracting: train/Pepsi/Pepsi_11.jpg  \n",
            " extracting: train/Pepsi/Pepsi_12.jpg  \n",
            " extracting: train/Pepsi/Pepsi_13.jpg  \n",
            "  inflating: train/Pepsi/Pepsi_14.jpg  \n",
            "  inflating: train/Pepsi/Pepsi_15.jpg  \n",
            " extracting: train/Pepsi/Pepsi_17.jpg  \n",
            " extracting: train/Pepsi/Pepsi_18.jpg  \n",
            " extracting: train/Pepsi/Pepsi_2.jpg  \n",
            "  inflating: train/Pepsi/Pepsi_3.jpg  \n",
            " extracting: train/Pepsi/Pepsi_5.jpg  \n",
            "  inflating: train/Pepsi/Pepsi_7.jpg  \n",
            " extracting: train/Pepsi/Pepsi_8.jpg  \n",
            " extracting: train/Pepsi/Pepsi_9.jpg  \n",
            "  inflating: train/Porsche/3983151197.jpg  \n",
            "  inflating: train/Porsche/4083428928.jpg  \n",
            "  inflating: train/Porsche/4510963350.jpg  \n",
            "  inflating: train/Porsche/Porsche_1.jpg  \n",
            " extracting: train/Porsche/Porsche_10.jpg  \n",
            "  inflating: train/Porsche/Porsche_11.jpg  \n",
            " extracting: train/Porsche/Porsche_13.jpg  \n",
            " extracting: train/Porsche/Porsche_14.jpg  \n",
            " extracting: train/Porsche/Porsche_15.jpg  \n",
            "  inflating: train/Porsche/Porsche_16.jpg  \n",
            " extracting: train/Porsche/Porsche_18.jpg  \n",
            "  inflating: train/Porsche/Porsche_19.jpg  \n",
            " extracting: train/Porsche/Porsche_2.jpg  \n",
            "  inflating: train/Porsche/Porsche_3.jpg  \n",
            "  inflating: train/Porsche/Porsche_4.jpg  \n",
            " extracting: train/Porsche/Porsche_5.jpg  \n",
            " extracting: train/Porsche/Porsche_6.jpg  \n",
            "  inflating: train/Porsche/Porsche_8.jpg  \n",
            " extracting: train/Porsche/Porsche_9.jpg  \n",
            "  inflating: train/Puma/2480104079.jpg  \n",
            " extracting: train/Puma/295018779.jpg  \n",
            "  inflating: train/Puma/4663657629.jpg  \n",
            " extracting: train/Puma/Puma_1.jpg   \n",
            " extracting: train/Puma/Puma_10.jpg  \n",
            " extracting: train/Puma/Puma_12.jpg  \n",
            "  inflating: train/Puma/Puma_13.jpg  \n",
            " extracting: train/Puma/Puma_14.jpg  \n",
            " extracting: train/Puma/Puma_15.jpg  \n",
            " extracting: train/Puma/Puma_16.jpg  \n",
            " extracting: train/Puma/Puma_18.jpg  \n",
            " extracting: train/Puma/Puma_2.jpg   \n",
            " extracting: train/Puma/Puma_20.jpg  \n",
            " extracting: train/Puma/Puma_3.jpg   \n",
            " extracting: train/Puma/Puma_4.jpg   \n",
            " extracting: train/Puma/Puma_5.jpg   \n",
            " extracting: train/Puma/Puma_6.jpg   \n",
            " extracting: train/Puma/Puma_7.jpg   \n",
            " extracting: train/Puma/Puma_8.jpg   \n",
            " extracting: train/Puma/Puma_9.jpg   \n",
            "  inflating: train/RedBull/308998475.jpg  \n",
            "  inflating: train/RedBull/3570289087.jpg  \n",
            "  inflating: train/RedBull/4053579706.jpg  \n",
            "  inflating: train/RedBull/4560358253.jpg  \n",
            " extracting: train/RedBull/RedBull_1.jpg  \n",
            " extracting: train/RedBull/RedBull_10.jpg  \n",
            " extracting: train/RedBull/RedBull_11.jpg  \n",
            "  inflating: train/RedBull/RedBull_13.jpg  \n",
            " extracting: train/RedBull/RedBull_14.jpg  \n",
            " extracting: train/RedBull/RedBull_15.jpg  \n",
            " extracting: train/RedBull/RedBull_16.jpg  \n",
            " extracting: train/RedBull/RedBull_17.jpg  \n",
            "  inflating: train/RedBull/RedBull_18.jpg  \n",
            "  inflating: train/RedBull/RedBull_19.jpg  \n",
            " extracting: train/RedBull/RedBull_2.jpg  \n",
            " extracting: train/RedBull/RedBull_20.jpg  \n",
            " extracting: train/RedBull/RedBull_3.jpg  \n",
            " extracting: train/RedBull/RedBull_4.jpg  \n",
            " extracting: train/RedBull/RedBull_5.jpg  \n",
            " extracting: train/RedBull/RedBull_7.jpg  \n",
            "  inflating: train/Sprite/2801900357.jpg  \n",
            " extracting: train/Sprite/3408864234.jpg  \n",
            " extracting: train/Sprite/3613991290.jpg  \n",
            "  inflating: train/Sprite/3891379215.jpg  \n",
            "  inflating: train/Sprite/Sprite_1.jpg  \n",
            "  inflating: train/Sprite/Sprite_10.jpg  \n",
            " extracting: train/Sprite/Sprite_11.jpg  \n",
            "  inflating: train/Sprite/Sprite_12.jpg  \n",
            "  inflating: train/Sprite/Sprite_14.jpg  \n",
            " extracting: train/Sprite/Sprite_15.jpg  \n",
            "  inflating: train/Sprite/Sprite_17.jpg  \n",
            " extracting: train/Sprite/Sprite_18.jpg  \n",
            "  inflating: train/Sprite/Sprite_19.jpg  \n",
            "  inflating: train/Sprite/Sprite_20.jpg  \n",
            "  inflating: train/Sprite/Sprite_4.jpg  \n",
            " extracting: train/Sprite/Sprite_5.jpg  \n",
            " extracting: train/Sprite/Sprite_6.jpg  \n",
            "  inflating: train/Sprite/Sprite_8.jpg  \n",
            "  inflating: train/Sprite/Sprite_9.jpg  \n",
            "  inflating: train/Starbucks/2630005498.jpg  \n",
            "  inflating: train/Starbucks/2974513280.jpg  \n",
            "  inflating: train/Starbucks/3007219950.jpg  \n",
            "  inflating: train/Starbucks/Starbucks_1.jpg  \n",
            "  inflating: train/Starbucks/Starbucks_10.jpg  \n",
            " extracting: train/Starbucks/Starbucks_11.jpg  \n",
            "  inflating: train/Starbucks/Starbucks_12.jpg  \n",
            "  inflating: train/Starbucks/Starbucks_13.jpg  \n",
            "  inflating: train/Starbucks/Starbucks_14.jpg  \n",
            "  inflating: train/Starbucks/Starbucks_16.jpg  \n",
            "  inflating: train/Starbucks/Starbucks_17.jpg  \n",
            " extracting: train/Starbucks/Starbucks_18.jpg  \n",
            "  inflating: train/Starbucks/Starbucks_19.jpg  \n",
            "  inflating: train/Starbucks/Starbucks_20.jpg  \n",
            " extracting: train/Starbucks/Starbucks_4.jpg  \n",
            " extracting: train/Starbucks/Starbucks_6.jpg  \n",
            "  inflating: train/Starbucks/Starbucks_7.jpg  \n",
            "  inflating: train/Starbucks/Starbucks_8.jpg  \n",
            "  inflating: train/Starbucks/Starbucks_9.jpg  \n",
            "  inflating: train/Texaco/2987576045.jpg  \n",
            "  inflating: train/Texaco/3198284747.jpg  \n",
            "  inflating: train/Texaco/3907303622.jpg  \n",
            "  inflating: train/Texaco/4434794457.jpg  \n",
            "  inflating: train/Texaco/Texaco_10.jpg  \n",
            "  inflating: train/Texaco/Texaco_12.jpg  \n",
            "  inflating: train/Texaco/Texaco_14.jpg  \n",
            "  inflating: train/Texaco/Texaco_16.jpg  \n",
            " extracting: train/Texaco/Texaco_18.jpg  \n",
            "  inflating: train/Texaco/Texaco_19.jpg  \n",
            " extracting: train/Texaco/Texaco_2.jpg  \n",
            " extracting: train/Texaco/Texaco_3.jpg  \n",
            " extracting: train/Texaco/Texaco_5.jpg  \n",
            " extracting: train/Texaco/Texaco_7.jpg  \n",
            " extracting: train/Texaco/Texaco_8.jpg  \n",
            "  inflating: train/Texaco/Texaco_9.jpg  \n",
            "  inflating: train/Unicef/4288066623.jpg  \n",
            "  inflating: train/Unicef/4294940735.jpg  \n",
            "  inflating: train/Unicef/4446333664.jpg  \n",
            "  inflating: train/Unicef/4621621817.jpg  \n",
            "  inflating: train/Unicef/Unicef_10.jpg  \n",
            " extracting: train/Unicef/Unicef_13.jpg  \n",
            "  inflating: train/Unicef/Unicef_14.jpg  \n",
            " extracting: train/Unicef/Unicef_16.jpg  \n",
            " extracting: train/Unicef/Unicef_17.jpg  \n",
            " extracting: train/Unicef/Unicef_18.jpg  \n",
            " extracting: train/Unicef/Unicef_19.jpg  \n",
            "  inflating: train/Unicef/Unicef_2.jpg  \n",
            " extracting: train/Unicef/Unicef_3.jpg  \n",
            "  inflating: train/Unicef/Unicef_4.jpg  \n",
            " extracting: train/Unicef/Unicef_5.jpg  \n",
            " extracting: train/Unicef/Unicef_6.jpg  \n",
            "  inflating: train/Unicef/Unicef_8.jpg  \n",
            "  inflating: train/Vodafone/110022360.jpg  \n",
            "  inflating: train/Vodafone/3107265036.jpg  \n",
            "  inflating: train/Vodafone/3331911222.jpg  \n",
            "  inflating: train/Vodafone/4484828876.jpg  \n",
            "  inflating: train/Vodafone/4734939463.jpg  \n",
            "  inflating: train/Vodafone/Vodafone_1.jpg  \n",
            " extracting: train/Vodafone/Vodafone_10.jpg  \n",
            "  inflating: train/Vodafone/Vodafone_11.jpg  \n",
            " extracting: train/Vodafone/Vodafone_12.jpg  \n",
            "  inflating: train/Vodafone/Vodafone_13.jpg  \n",
            "  inflating: train/Vodafone/Vodafone_14.jpg  \n",
            "  inflating: train/Vodafone/Vodafone_15.jpg  \n",
            "  inflating: train/Vodafone/Vodafone_16.jpg  \n",
            "  inflating: train/Vodafone/Vodafone_17.jpg  \n",
            "  inflating: train/Vodafone/Vodafone_18.jpg  \n",
            " extracting: train/Vodafone/Vodafone_20.jpg  \n",
            "  inflating: train/Vodafone/Vodafone_3.jpg  \n",
            " extracting: train/Vodafone/Vodafone_4.jpg  \n",
            " extracting: train/Vodafone/Vodafone_5.jpg  \n",
            "  inflating: train/Vodafone/Vodafone_7.jpg  \n",
            " extracting: train/Vodafone/Vodafone_8.jpg  \n",
            "  inflating: train/Vodafone/Vodafone_9.jpg  \n",
            "  inflating: train/Yahoo/1803593030.jpg  \n",
            "  inflating: train/Yahoo/2553484499.jpg  \n",
            "  inflating: train/Yahoo/2810241569.jpg  \n",
            " extracting: train/Yahoo/Yahoo_1.jpg  \n",
            "  inflating: train/Yahoo/Yahoo_10.jpg  \n",
            "  inflating: train/Yahoo/Yahoo_11.jpg  \n",
            "  inflating: train/Yahoo/Yahoo_12.jpg  \n",
            "  inflating: train/Yahoo/Yahoo_14.jpg  \n",
            " extracting: train/Yahoo/Yahoo_15.jpg  \n",
            " extracting: train/Yahoo/Yahoo_17.jpg  \n",
            "  inflating: train/Yahoo/Yahoo_18.jpg  \n",
            "  inflating: train/Yahoo/Yahoo_19.jpg  \n",
            " extracting: train/Yahoo/Yahoo_2.jpg  \n",
            " extracting: train/Yahoo/Yahoo_3.jpg  \n",
            " extracting: train/Yahoo/Yahoo_4.jpg  \n",
            " extracting: train/Yahoo/Yahoo_5.jpg  \n",
            "  inflating: train/Yahoo/Yahoo_6.jpg  \n",
            "  inflating: train/Yahoo/Yahoo_7.jpg  \n",
            " extracting: train/Yahoo/Yahoo_8.jpg  \n",
            "  inflating: train/Yahoo/Yahoo_9.jpg  \n"
          ],
          "name": "stdout"
        }
      ]
    },
    {
      "cell_type": "code",
      "metadata": {
        "colab": {
          "base_uri": "https://localhost:8080/"
        },
        "id": "Z6aQjhBgw0xc",
        "outputId": "d9b458f9-0ea9-4f89-9c0f-8e9c2012fcfa"
      },
      "source": [
        "!ls -l"
      ],
      "execution_count": 10,
      "outputs": [
        {
          "output_type": "stream",
          "text": [
            "total 16\n",
            "drwx------  5 root root 4096 Mar 23 04:08 drive\n",
            "drwxr-xr-x  1 root root 4096 Mar 18 13:36 sample_data\n",
            "drwxr-xr-x 29 root root 4096 Mar 23 04:08 test\n",
            "drwxr-xr-x 29 root root 4096 Mar 23 04:08 train\n"
          ],
          "name": "stdout"
        }
      ]
    },
    {
      "cell_type": "code",
      "metadata": {
        "id": "JAcnB_nSw2tF"
      },
      "source": [
        "train_dir = 'train'\n",
        "test_dir = 'test'"
      ],
      "execution_count": 11,
      "outputs": []
    },
    {
      "cell_type": "markdown",
      "metadata": {
        "id": "w3H9jNMMWVnk"
      },
      "source": [
        "# batch_size = 다르게 15 | 11"
      ]
    },
    {
      "cell_type": "code",
      "metadata": {
        "colab": {
          "base_uri": "https://localhost:8080/"
        },
        "id": "X4zCe9tFw_YR",
        "outputId": "5d43c59a-4bc2-4b4e-c3ba-201f49406388"
      },
      "source": [
        "from keras.preprocessing.image import ImageDataGenerator\n",
        "\n",
        "# normal scaling\n",
        "train_datagen = ImageDataGenerator(rescale = 1./255)\n",
        "test_datagen = ImageDataGenerator(rescale = 1./255)\n",
        "\n",
        "train_generator = train_datagen.flow_from_directory(train_dir, target_size=(150,150), \n",
        "                                                    batch_size=15,\n",
        "                                                    class_mode = 'categorical') \n",
        "\n",
        "test_generator = test_datagen.flow_from_directory(test_dir, target_size=(150,150), \n",
        "                                                    batch_size=11,\n",
        "                                                    class_mode='categorical')"
      ],
      "execution_count": 46,
      "outputs": [
        {
          "output_type": "stream",
          "text": [
            "Found 498 images belonging to 27 classes.\n",
            "Found 177 images belonging to 27 classes.\n"
          ],
          "name": "stdout"
        }
      ]
    },
    {
      "cell_type": "code",
      "metadata": {
        "colab": {
          "base_uri": "https://localhost:8080/"
        },
        "id": "ZKowyIa9yb95",
        "outputId": "7f4393a2-51ca-4ee4-dd72-743b52f89ad3"
      },
      "source": [
        "for data_batch, labels_batch in train_generator: \n",
        "  print(f'배치 데이터 크기 : {data_batch.shape}')\n",
        "  print(f'배치 데이터 크기 : {labels_batch.shape}')\n",
        "  break # batch_size를 20장 했으니까 20장만 추출 / x = 150*150, y = class_mode: binary"
      ],
      "execution_count": 27,
      "outputs": [
        {
          "output_type": "stream",
          "text": [
            "배치 데이터 크기 : (15, 150, 150, 3)\n",
            "배치 데이터 크기 : (15, 27)\n"
          ],
          "name": "stdout"
        }
      ]
    },
    {
      "cell_type": "code",
      "metadata": {
        "colab": {
          "base_uri": "https://localhost:8080/"
        },
        "id": "Oiay3iACy45O",
        "outputId": "c72b7b15-4245-4dff-a410-9c3016a75c5e"
      },
      "source": [
        "from keras import layers, models\n",
        "\n",
        "model = models.Sequential()\n",
        "model.add(layers.Conv2D(32, (3,3), activation='relu', input_shape=(150, 150,3)))\n",
        "model.add(layers.MaxPooling2D((2,2)))\n",
        "model.add(layers.Conv2D(64,(3,3), activation='relu'))\n",
        "model.add(layers.MaxPooling2D((2,2)))\n",
        "model.add(layers.Conv2D(128,(3,3), activation='relu'))\n",
        "model.add(layers.MaxPooling2D((2,2)))\n",
        "model.add(layers.Conv2D(128,(3,3), activation='relu'))\n",
        "model.add(layers.MaxPooling2D((2,2)))\n",
        "\n",
        "model.add(layers.Flatten())\n",
        "model.add(layers.Dense(512, activation='relu'))\n",
        "model.add(layers.Dense(27, activation='softmax'))\n",
        "\n",
        "model.summary()\n",
        "\n",
        "model.compile(loss='categorical_crossentropy', optimizer='adam', metrics=['accuracy'])"
      ],
      "execution_count": 48,
      "outputs": [
        {
          "output_type": "stream",
          "text": [
            "Model: \"sequential_6\"\n",
            "_________________________________________________________________\n",
            "Layer (type)                 Output Shape              Param #   \n",
            "=================================================================\n",
            "conv2d_24 (Conv2D)           (None, 148, 148, 32)      896       \n",
            "_________________________________________________________________\n",
            "max_pooling2d_19 (MaxPooling (None, 74, 74, 32)        0         \n",
            "_________________________________________________________________\n",
            "conv2d_25 (Conv2D)           (None, 72, 72, 64)        18496     \n",
            "_________________________________________________________________\n",
            "max_pooling2d_20 (MaxPooling (None, 36, 36, 64)        0         \n",
            "_________________________________________________________________\n",
            "conv2d_26 (Conv2D)           (None, 34, 34, 128)       73856     \n",
            "_________________________________________________________________\n",
            "max_pooling2d_21 (MaxPooling (None, 17, 17, 128)       0         \n",
            "_________________________________________________________________\n",
            "conv2d_27 (Conv2D)           (None, 15, 15, 128)       147584    \n",
            "_________________________________________________________________\n",
            "max_pooling2d_22 (MaxPooling (None, 7, 7, 128)         0         \n",
            "_________________________________________________________________\n",
            "flatten_6 (Flatten)          (None, 6272)              0         \n",
            "_________________________________________________________________\n",
            "dense_12 (Dense)             (None, 512)               3211776   \n",
            "_________________________________________________________________\n",
            "dense_13 (Dense)             (None, 27)                13851     \n",
            "=================================================================\n",
            "Total params: 3,466,459\n",
            "Trainable params: 3,466,459\n",
            "Non-trainable params: 0\n",
            "_________________________________________________________________\n"
          ],
          "name": "stdout"
        }
      ]
    },
    {
      "cell_type": "code",
      "metadata": {
        "colab": {
          "base_uri": "https://localhost:8080/"
        },
        "id": "kFhVcYaLUMnW",
        "outputId": "1c25f899-59d0-4832-cf08-f0e264eb7fae"
      },
      "source": [
        "177/11"
      ],
      "execution_count": 34,
      "outputs": [
        {
          "output_type": "execute_result",
          "data": {
            "text/plain": [
              "16.09090909090909"
            ]
          },
          "metadata": {
            "tags": []
          },
          "execution_count": 34
        }
      ]
    },
    {
      "cell_type": "code",
      "metadata": {
        "colab": {
          "base_uri": "https://localhost:8080/"
        },
        "id": "OanNlMPE0Eu1",
        "outputId": "064fe058-bb2d-4f33-e186-71ffd31e2034"
      },
      "source": [
        "%%time\n",
        "\n",
        "Hist= model.fit(train_generator, # X= size(150*150) y=개 or 고양이 (binary)\n",
        "                steps_per_epoch=33, # batch_size가 20개 X 100번 돌아야  = 총 2000장 추출가능\n",
        "                epochs=60,\n",
        "                validation_data=test_generator,\n",
        "                validation_steps=16) # validation은 총 1000장이니까 20번씩 50번 돌면 1000장"
      ],
      "execution_count": 49,
      "outputs": [
        {
          "output_type": "stream",
          "text": [
            "Epoch 1/60\n",
            "33/33 [==============================] - 2s 43ms/step - loss: 3.3329 - accuracy: 0.0215 - val_loss: 3.2474 - val_accuracy: 0.0625\n",
            "Epoch 2/60\n",
            "33/33 [==============================] - 1s 34ms/step - loss: 3.1572 - accuracy: 0.1211 - val_loss: 2.9240 - val_accuracy: 0.1420\n",
            "Epoch 3/60\n",
            "33/33 [==============================] - 1s 34ms/step - loss: 2.5628 - accuracy: 0.2854 - val_loss: 2.4999 - val_accuracy: 0.2727\n",
            "Epoch 4/60\n",
            "33/33 [==============================] - 1s 35ms/step - loss: 1.6006 - accuracy: 0.5604 - val_loss: 2.7698 - val_accuracy: 0.3523\n",
            "Epoch 5/60\n",
            "33/33 [==============================] - 1s 34ms/step - loss: 1.1812 - accuracy: 0.6487 - val_loss: 2.5436 - val_accuracy: 0.4261\n",
            "Epoch 6/60\n",
            "33/33 [==============================] - 1s 34ms/step - loss: 0.5636 - accuracy: 0.8535 - val_loss: 2.6299 - val_accuracy: 0.5000\n",
            "Epoch 7/60\n",
            "33/33 [==============================] - 1s 34ms/step - loss: 0.3853 - accuracy: 0.9022 - val_loss: 2.6825 - val_accuracy: 0.4943\n",
            "Epoch 8/60\n",
            "33/33 [==============================] - 1s 34ms/step - loss: 0.2420 - accuracy: 0.9223 - val_loss: 3.9717 - val_accuracy: 0.5114\n",
            "Epoch 9/60\n",
            "33/33 [==============================] - 1s 34ms/step - loss: 0.2272 - accuracy: 0.9356 - val_loss: 3.8450 - val_accuracy: 0.4318\n",
            "Epoch 10/60\n",
            "33/33 [==============================] - 1s 34ms/step - loss: 0.4026 - accuracy: 0.9106 - val_loss: 3.0476 - val_accuracy: 0.4943\n",
            "Epoch 11/60\n",
            "33/33 [==============================] - 1s 34ms/step - loss: 0.1144 - accuracy: 0.9570 - val_loss: 3.9029 - val_accuracy: 0.4943\n",
            "Epoch 12/60\n",
            "33/33 [==============================] - 1s 35ms/step - loss: 0.0469 - accuracy: 0.9848 - val_loss: 4.0371 - val_accuracy: 0.5284\n",
            "Epoch 13/60\n",
            "33/33 [==============================] - 1s 34ms/step - loss: 0.0235 - accuracy: 0.9927 - val_loss: 4.6000 - val_accuracy: 0.5455\n",
            "Epoch 14/60\n",
            "33/33 [==============================] - 1s 34ms/step - loss: 0.0157 - accuracy: 0.9991 - val_loss: 5.0935 - val_accuracy: 0.5057\n",
            "Epoch 15/60\n",
            "33/33 [==============================] - 1s 33ms/step - loss: 0.0339 - accuracy: 0.9951 - val_loss: 3.7321 - val_accuracy: 0.5227\n",
            "Epoch 16/60\n",
            "33/33 [==============================] - 1s 34ms/step - loss: 0.0392 - accuracy: 0.9867 - val_loss: 3.8231 - val_accuracy: 0.5341\n",
            "Epoch 17/60\n",
            "33/33 [==============================] - 1s 34ms/step - loss: 0.0145 - accuracy: 0.9952 - val_loss: 4.1983 - val_accuracy: 0.5227\n",
            "Epoch 18/60\n",
            "33/33 [==============================] - 1s 34ms/step - loss: 0.0501 - accuracy: 0.9856 - val_loss: 3.6010 - val_accuracy: 0.4830\n",
            "Epoch 19/60\n",
            "33/33 [==============================] - 1s 34ms/step - loss: 0.0812 - accuracy: 0.9825 - val_loss: 3.9037 - val_accuracy: 0.5227\n",
            "Epoch 20/60\n",
            "33/33 [==============================] - 1s 33ms/step - loss: 0.0725 - accuracy: 0.9831 - val_loss: 3.5396 - val_accuracy: 0.4545\n",
            "Epoch 21/60\n",
            "33/33 [==============================] - 1s 34ms/step - loss: 0.0813 - accuracy: 0.9746 - val_loss: 3.6311 - val_accuracy: 0.5398\n",
            "Epoch 22/60\n",
            "33/33 [==============================] - 1s 34ms/step - loss: 0.0723 - accuracy: 0.9802 - val_loss: 3.6490 - val_accuracy: 0.5170\n",
            "Epoch 23/60\n",
            "33/33 [==============================] - 1s 35ms/step - loss: 0.0019 - accuracy: 1.0000 - val_loss: 4.0247 - val_accuracy: 0.5170\n",
            "Epoch 24/60\n",
            "33/33 [==============================] - 1s 34ms/step - loss: 0.0012 - accuracy: 1.0000 - val_loss: 4.1141 - val_accuracy: 0.5227\n",
            "Epoch 25/60\n",
            "33/33 [==============================] - 1s 33ms/step - loss: 8.1342e-04 - accuracy: 1.0000 - val_loss: 4.1484 - val_accuracy: 0.5227\n",
            "Epoch 26/60\n",
            "33/33 [==============================] - 1s 34ms/step - loss: 1.9190e-04 - accuracy: 1.0000 - val_loss: 4.2319 - val_accuracy: 0.5170\n",
            "Epoch 27/60\n",
            "33/33 [==============================] - 1s 33ms/step - loss: 1.6292e-04 - accuracy: 1.0000 - val_loss: 4.1344 - val_accuracy: 0.5227\n",
            "Epoch 28/60\n",
            "33/33 [==============================] - 1s 35ms/step - loss: 1.6960e-04 - accuracy: 1.0000 - val_loss: 4.2982 - val_accuracy: 0.5114\n",
            "Epoch 29/60\n",
            "33/33 [==============================] - 1s 33ms/step - loss: 1.6281e-04 - accuracy: 1.0000 - val_loss: 4.3267 - val_accuracy: 0.5114\n",
            "Epoch 30/60\n",
            "33/33 [==============================] - 1s 34ms/step - loss: 1.2415e-04 - accuracy: 1.0000 - val_loss: 4.3388 - val_accuracy: 0.5170\n",
            "Epoch 31/60\n",
            "33/33 [==============================] - 1s 35ms/step - loss: 8.3438e-05 - accuracy: 1.0000 - val_loss: 4.3788 - val_accuracy: 0.5170\n",
            "Epoch 32/60\n",
            "33/33 [==============================] - 1s 34ms/step - loss: 7.7385e-05 - accuracy: 1.0000 - val_loss: 4.3621 - val_accuracy: 0.5170\n",
            "Epoch 33/60\n",
            "33/33 [==============================] - 1s 34ms/step - loss: 7.9770e-05 - accuracy: 1.0000 - val_loss: 4.4316 - val_accuracy: 0.5114\n",
            "Epoch 34/60\n",
            "33/33 [==============================] - 1s 34ms/step - loss: 8.6053e-05 - accuracy: 1.0000 - val_loss: 4.4571 - val_accuracy: 0.5114\n",
            "Epoch 35/60\n",
            "33/33 [==============================] - 1s 33ms/step - loss: 6.6717e-05 - accuracy: 1.0000 - val_loss: 4.4831 - val_accuracy: 0.5114\n",
            "Epoch 36/60\n",
            "33/33 [==============================] - 1s 34ms/step - loss: 4.5688e-05 - accuracy: 1.0000 - val_loss: 4.5000 - val_accuracy: 0.5114\n",
            "Epoch 37/60\n",
            "33/33 [==============================] - 1s 34ms/step - loss: 5.6458e-05 - accuracy: 1.0000 - val_loss: 4.4974 - val_accuracy: 0.5170\n",
            "Epoch 38/60\n",
            "33/33 [==============================] - 1s 34ms/step - loss: 5.0237e-05 - accuracy: 1.0000 - val_loss: 4.5414 - val_accuracy: 0.5170\n",
            "Epoch 39/60\n",
            "33/33 [==============================] - 1s 34ms/step - loss: 3.2632e-05 - accuracy: 1.0000 - val_loss: 4.5604 - val_accuracy: 0.5114\n",
            "Epoch 40/60\n",
            "33/33 [==============================] - 1s 34ms/step - loss: 4.9586e-05 - accuracy: 1.0000 - val_loss: 4.5742 - val_accuracy: 0.5057\n",
            "Epoch 41/60\n",
            "33/33 [==============================] - 1s 34ms/step - loss: 3.5512e-05 - accuracy: 1.0000 - val_loss: 4.5933 - val_accuracy: 0.5114\n",
            "Epoch 42/60\n",
            "33/33 [==============================] - 1s 33ms/step - loss: 4.5226e-05 - accuracy: 1.0000 - val_loss: 4.6066 - val_accuracy: 0.5170\n",
            "Epoch 43/60\n",
            "33/33 [==============================] - 1s 33ms/step - loss: 2.8542e-05 - accuracy: 1.0000 - val_loss: 4.5543 - val_accuracy: 0.5227\n",
            "Epoch 44/60\n",
            "33/33 [==============================] - 1s 35ms/step - loss: 3.0468e-05 - accuracy: 1.0000 - val_loss: 4.6441 - val_accuracy: 0.5170\n",
            "Epoch 45/60\n",
            "33/33 [==============================] - 1s 33ms/step - loss: 3.0092e-05 - accuracy: 1.0000 - val_loss: 4.6572 - val_accuracy: 0.5170\n",
            "Epoch 46/60\n",
            "33/33 [==============================] - 1s 34ms/step - loss: 3.0836e-05 - accuracy: 1.0000 - val_loss: 4.6748 - val_accuracy: 0.5170\n",
            "Epoch 47/60\n",
            "33/33 [==============================] - 1s 35ms/step - loss: 1.9471e-05 - accuracy: 1.0000 - val_loss: 4.6872 - val_accuracy: 0.5170\n",
            "Epoch 48/60\n",
            "33/33 [==============================] - 1s 35ms/step - loss: 3.0118e-05 - accuracy: 1.0000 - val_loss: 4.7043 - val_accuracy: 0.5170\n",
            "Epoch 49/60\n",
            "33/33 [==============================] - 1s 35ms/step - loss: 2.4899e-05 - accuracy: 1.0000 - val_loss: 4.7136 - val_accuracy: 0.5170\n",
            "Epoch 50/60\n",
            "33/33 [==============================] - 1s 35ms/step - loss: 1.7502e-05 - accuracy: 1.0000 - val_loss: 4.7300 - val_accuracy: 0.5170\n",
            "Epoch 51/60\n",
            "33/33 [==============================] - 1s 35ms/step - loss: 1.8901e-05 - accuracy: 1.0000 - val_loss: 4.7422 - val_accuracy: 0.5170\n",
            "Epoch 52/60\n",
            "33/33 [==============================] - 1s 35ms/step - loss: 1.8174e-05 - accuracy: 1.0000 - val_loss: 4.7550 - val_accuracy: 0.5170\n",
            "Epoch 53/60\n",
            "33/33 [==============================] - 1s 34ms/step - loss: 1.9434e-05 - accuracy: 1.0000 - val_loss: 4.7674 - val_accuracy: 0.5170\n",
            "Epoch 54/60\n",
            "33/33 [==============================] - 1s 34ms/step - loss: 1.7762e-05 - accuracy: 1.0000 - val_loss: 4.6387 - val_accuracy: 0.5227\n",
            "Epoch 55/60\n",
            "33/33 [==============================] - 1s 33ms/step - loss: 1.2228e-05 - accuracy: 1.0000 - val_loss: 4.7104 - val_accuracy: 0.5227\n",
            "Epoch 56/60\n",
            "33/33 [==============================] - 1s 34ms/step - loss: 1.3681e-05 - accuracy: 1.0000 - val_loss: 4.4473 - val_accuracy: 0.5284\n",
            "Epoch 57/60\n",
            "33/33 [==============================] - 1s 34ms/step - loss: 1.2510e-05 - accuracy: 1.0000 - val_loss: 4.7720 - val_accuracy: 0.5284\n",
            "Epoch 58/60\n",
            "33/33 [==============================] - 1s 34ms/step - loss: 1.1209e-05 - accuracy: 1.0000 - val_loss: 4.7391 - val_accuracy: 0.5284\n",
            "Epoch 59/60\n",
            "33/33 [==============================] - 1s 35ms/step - loss: 1.4844e-05 - accuracy: 1.0000 - val_loss: 4.8062 - val_accuracy: 0.5284\n",
            "Epoch 60/60\n",
            "33/33 [==============================] - 1s 35ms/step - loss: 1.5119e-05 - accuracy: 1.0000 - val_loss: 4.7858 - val_accuracy: 0.5284\n",
            "CPU times: user 1min 24s, sys: 9.55 s, total: 1min 34s\n",
            "Wall time: 1min 9s\n"
          ],
          "name": "stdout"
        }
      ]
    },
    {
      "cell_type": "code",
      "metadata": {
        "colab": {
          "base_uri": "https://localhost:8080/",
          "height": 513
        },
        "id": "53oMOlE90aqU",
        "outputId": "79df7bd1-1b52-4ecd-fcab-f0f2a0dd6b31"
      },
      "source": [
        "import matplotlib.pyplot as plt\n",
        "\n",
        "epochs = range(1, len(Hist.history['loss'])+1)\n",
        "\n",
        "plt.plot(epochs, Hist.history['loss'])\n",
        "plt.plot(epochs, Hist.history['val_loss'])\n",
        "plt.legend(['Train Loss','Valid Loss'])\n",
        "plt.show()\n",
        "\n",
        "plt.plot(epochs, Hist.history['accuracy'])\n",
        "plt.plot(epochs, Hist.history['val_accuracy'])\n",
        "plt.legend(['Train accuracy','Valid accuracy'])\n",
        "plt.show()"
      ],
      "execution_count": 50,
      "outputs": [
        {
          "output_type": "display_data",
          "data": {
            "image/png": "[encoded data removed]",
            "text/plain": [
              "<Figure size 432x288 with 1 Axes>"
            ]
          },
          "metadata": {
            "tags": [],
            "needs_background": "light"
          }
        },
        {
          "output_type": "display_data",
          "data": {
            "image/png": "[encoded data removed]",
            "text/plain": [
              "<Figure size 432x288 with 1 Axes>"
            ]
          },
          "metadata": {
            "tags": [],
            "needs_background": "light"
          }
        }
      ]
    },
    {
      "cell_type": "code",
      "metadata": {
        "colab": {
          "base_uri": "https://localhost:8080/"
        },
        "id": "TXs-uMR511No",
        "outputId": "0737d150-6316-4955-9e1a-afc8f556e305"
      },
      "source": [
        "loss, accuracy = model.evaluate(test_generator, steps=16)\n",
        "loss, accuracy"
      ],
      "execution_count": 51,
      "outputs": [
        {
          "output_type": "stream",
          "text": [
            "16/16 [==============================] - 0s 17ms/step - loss: 4.7804 - accuracy: 0.5284\n"
          ],
          "name": "stdout"
        },
        {
          "output_type": "execute_result",
          "data": {
            "text/plain": [
              "(4.7803568840026855, 0.5284090638160706)"
            ]
          },
          "metadata": {
            "tags": []
          },
          "execution_count": 51
        }
      ]
    },
    {
      "cell_type": "markdown",
      "metadata": {
        "id": "TYQDIfLAU2S_"
      },
      "source": [
        "# batch_size = 동일 11"
      ]
    },
    {
      "cell_type": "code",
      "metadata": {
        "colab": {
          "base_uri": "https://localhost:8080/"
        },
        "id": "ZHESsHLAVcPv",
        "outputId": "372cebeb-6d82-4f10-bf3d-1d388ac41965"
      },
      "source": [
        "print(498/11, 498%11)\n",
        "print(177/11, 177%11)"
      ],
      "execution_count": 40,
      "outputs": [
        {
          "output_type": "stream",
          "text": [
            "45.27272727272727 3\n",
            "16.09090909090909 1\n"
          ],
          "name": "stdout"
        }
      ]
    },
    {
      "cell_type": "code",
      "metadata": {
        "id": "wn4UzS1q2P-M",
        "colab": {
          "base_uri": "https://localhost:8080/"
        },
        "outputId": "282ff94c-c688-44c5-8be8-7ef45ef385cd"
      },
      "source": [
        "from keras.preprocessing.image import ImageDataGenerator\n",
        "\n",
        "# normal scaling\n",
        "train_datagen = ImageDataGenerator(rescale = 1./255)\n",
        "test_datagen = ImageDataGenerator(rescale = 1./255)\n",
        "\n",
        "train_generator = train_datagen.flow_from_directory(train_dir, target_size=(150,150), \n",
        "                                                    batch_size=11,\n",
        "                                                    class_mode = 'categorical') \n",
        "\n",
        "test_generator = test_datagen.flow_from_directory(test_dir, target_size=(150,150), \n",
        "                                                    batch_size=11,\n",
        "                                                    class_mode='categorical')\n",
        "\n",
        "\n",
        "\n",
        "model = models.Sequential()\n",
        "model.add(layers.Conv2D(32, (3,3), activation='relu', input_shape=(150, 150,3)))\n",
        "model.add(layers.MaxPooling2D((2,2)))\n",
        "model.add(layers.Conv2D(64,(3,3), activation='relu'))\n",
        "model.add(layers.MaxPooling2D((2,2)))\n",
        "model.add(layers.Conv2D(128,(3,3), activation='relu'))\n",
        "model.add(layers.MaxPooling2D((2,2)))\n",
        "model.add(layers.Conv2D(128,(3,3), activation='relu'))\n",
        "model.add(layers.MaxPooling2D((2,2)))\n",
        "\n",
        "model.add(layers.Flatten())\n",
        "model.add(layers.Dense(512, activation='relu'))\n",
        "model.add(layers.Dense(27, activation='softmax'))\n",
        "\n",
        "model.summary()\n",
        "\n",
        "model.compile(loss='categorical_crossentropy', optimizer='adam', metrics=['accuracy'])\n",
        "\n",
        "\n",
        "\n",
        "Hist1= model.fit(train_generator, # X= size(150*150) y=개 or 고양이 (binary)\n",
        "                steps_per_epoch=45, # batch_size가 20개 X 100번 돌아야  = 총 2000장 추출가능\n",
        "                epochs=60,\n",
        "                validation_data=test_generator,\n",
        "                validation_steps=16) # validation은 총 1000장이니까 20번씩 50번 돌면 1000장"
      ],
      "execution_count": 52,
      "outputs": [
        {
          "output_type": "stream",
          "text": [
            "Found 498 images belonging to 27 classes.\n",
            "Found 177 images belonging to 27 classes.\n",
            "Model: \"sequential_7\"\n",
            "_________________________________________________________________\n",
            "Layer (type)                 Output Shape              Param #   \n",
            "=================================================================\n",
            "conv2d_28 (Conv2D)           (None, 148, 148, 32)      896       \n",
            "_________________________________________________________________\n",
            "max_pooling2d_23 (MaxPooling (None, 74, 74, 32)        0         \n",
            "_________________________________________________________________\n",
            "conv2d_29 (Conv2D)           (None, 72, 72, 64)        18496     \n",
            "_________________________________________________________________\n",
            "max_pooling2d_24 (MaxPooling (None, 36, 36, 64)        0         \n",
            "_________________________________________________________________\n",
            "conv2d_30 (Conv2D)           (None, 34, 34, 128)       73856     \n",
            "_________________________________________________________________\n",
            "max_pooling2d_25 (MaxPooling (None, 17, 17, 128)       0         \n",
            "_________________________________________________________________\n",
            "conv2d_31 (Conv2D)           (None, 15, 15, 128)       147584    \n",
            "_________________________________________________________________\n",
            "max_pooling2d_26 (MaxPooling (None, 7, 7, 128)         0         \n",
            "_________________________________________________________________\n",
            "flatten_7 (Flatten)          (None, 6272)              0         \n",
            "_________________________________________________________________\n",
            "dense_14 (Dense)             (None, 512)               3211776   \n",
            "_________________________________________________________________\n",
            "dense_15 (Dense)             (None, 27)                13851     \n",
            "=================================================================\n",
            "Total params: 3,466,459\n",
            "Trainable params: 3,466,459\n",
            "Non-trainable params: 0\n",
            "_________________________________________________________________\n",
            "Epoch 1/60\n",
            "45/45 [==============================] - 2s 29ms/step - loss: 3.3325 - accuracy: 0.0409 - val_loss: 3.1844 - val_accuracy: 0.0795\n",
            "Epoch 2/60\n",
            "45/45 [==============================] - 1s 26ms/step - loss: 3.0138 - accuracy: 0.1405 - val_loss: 2.7940 - val_accuracy: 0.1932\n",
            "Epoch 3/60\n",
            "45/45 [==============================] - 1s 25ms/step - loss: 2.2795 - accuracy: 0.3819 - val_loss: 2.3493 - val_accuracy: 0.3977\n",
            "Epoch 4/60\n",
            "45/45 [==============================] - 1s 25ms/step - loss: 1.8075 - accuracy: 0.5031 - val_loss: 2.1439 - val_accuracy: 0.4545\n",
            "Epoch 5/60\n",
            "45/45 [==============================] - 1s 25ms/step - loss: 1.1075 - accuracy: 0.6706 - val_loss: 2.2514 - val_accuracy: 0.4716\n",
            "Epoch 6/60\n",
            "45/45 [==============================] - 1s 26ms/step - loss: 0.7915 - accuracy: 0.7820 - val_loss: 2.3883 - val_accuracy: 0.4886\n",
            "Epoch 7/60\n",
            "45/45 [==============================] - 1s 24ms/step - loss: 0.4241 - accuracy: 0.8653 - val_loss: 3.0953 - val_accuracy: 0.4602\n",
            "Epoch 8/60\n",
            "45/45 [==============================] - 1s 24ms/step - loss: 0.4875 - accuracy: 0.8352 - val_loss: 2.8895 - val_accuracy: 0.5114\n",
            "Epoch 9/60\n",
            "45/45 [==============================] - 1s 25ms/step - loss: 0.1836 - accuracy: 0.9465 - val_loss: 2.8416 - val_accuracy: 0.4432\n",
            "Epoch 10/60\n",
            "45/45 [==============================] - 1s 25ms/step - loss: 0.2295 - accuracy: 0.9507 - val_loss: 3.5052 - val_accuracy: 0.5057\n",
            "Epoch 11/60\n",
            "45/45 [==============================] - 1s 25ms/step - loss: 0.1411 - accuracy: 0.9723 - val_loss: 3.0791 - val_accuracy: 0.5114\n",
            "Epoch 12/60\n",
            "45/45 [==============================] - 1s 25ms/step - loss: 0.2025 - accuracy: 0.9432 - val_loss: 2.8272 - val_accuracy: 0.5341\n",
            "Epoch 13/60\n",
            "45/45 [==============================] - 1s 25ms/step - loss: 0.1396 - accuracy: 0.9694 - val_loss: 2.9758 - val_accuracy: 0.5625\n",
            "Epoch 14/60\n",
            "45/45 [==============================] - 1s 24ms/step - loss: 0.0342 - accuracy: 0.9901 - val_loss: 3.3251 - val_accuracy: 0.5341\n",
            "Epoch 15/60\n",
            "45/45 [==============================] - 1s 24ms/step - loss: 0.0369 - accuracy: 0.9818 - val_loss: 3.1826 - val_accuracy: 0.5682\n",
            "Epoch 16/60\n",
            "45/45 [==============================] - 1s 25ms/step - loss: 0.0095 - accuracy: 0.9969 - val_loss: 3.2349 - val_accuracy: 0.5455\n",
            "Epoch 17/60\n",
            "45/45 [==============================] - 1s 25ms/step - loss: 0.0041 - accuracy: 1.0000 - val_loss: 3.4422 - val_accuracy: 0.5625\n",
            "Epoch 18/60\n",
            "45/45 [==============================] - 1s 24ms/step - loss: 0.0013 - accuracy: 1.0000 - val_loss: 3.4607 - val_accuracy: 0.5568\n",
            "Epoch 19/60\n",
            "45/45 [==============================] - 1s 25ms/step - loss: 4.4490e-04 - accuracy: 1.0000 - val_loss: 3.5654 - val_accuracy: 0.5511\n",
            "Epoch 20/60\n",
            "45/45 [==============================] - 1s 25ms/step - loss: 4.2639e-04 - accuracy: 1.0000 - val_loss: 3.6116 - val_accuracy: 0.5511\n",
            "Epoch 21/60\n",
            "45/45 [==============================] - 1s 24ms/step - loss: 2.0353e-04 - accuracy: 1.0000 - val_loss: 3.6464 - val_accuracy: 0.5568\n",
            "Epoch 22/60\n",
            "45/45 [==============================] - 1s 25ms/step - loss: 2.2959e-04 - accuracy: 1.0000 - val_loss: 3.5989 - val_accuracy: 0.5568\n",
            "Epoch 23/60\n",
            "45/45 [==============================] - 1s 25ms/step - loss: 2.2669e-04 - accuracy: 1.0000 - val_loss: 3.7135 - val_accuracy: 0.5568\n",
            "Epoch 24/60\n",
            "45/45 [==============================] - 1s 25ms/step - loss: 1.6323e-04 - accuracy: 1.0000 - val_loss: 3.7430 - val_accuracy: 0.5455\n",
            "Epoch 25/60\n",
            "45/45 [==============================] - 1s 25ms/step - loss: 1.6751e-04 - accuracy: 1.0000 - val_loss: 3.6804 - val_accuracy: 0.5625\n",
            "Epoch 26/60\n",
            "45/45 [==============================] - 1s 25ms/step - loss: 1.4447e-04 - accuracy: 1.0000 - val_loss: 3.7977 - val_accuracy: 0.5568\n",
            "Epoch 27/60\n",
            "45/45 [==============================] - 1s 25ms/step - loss: 1.4373e-04 - accuracy: 1.0000 - val_loss: 3.8242 - val_accuracy: 0.5568\n",
            "Epoch 28/60\n",
            "45/45 [==============================] - 1s 25ms/step - loss: 1.1108e-04 - accuracy: 1.0000 - val_loss: 3.8471 - val_accuracy: 0.5568\n",
            "Epoch 29/60\n",
            "45/45 [==============================] - 1s 24ms/step - loss: 9.5722e-05 - accuracy: 1.0000 - val_loss: 3.8676 - val_accuracy: 0.5568\n",
            "Epoch 30/60\n",
            "45/45 [==============================] - 1s 24ms/step - loss: 9.6055e-05 - accuracy: 1.0000 - val_loss: 3.8897 - val_accuracy: 0.5568\n",
            "Epoch 31/60\n",
            "45/45 [==============================] - 1s 25ms/step - loss: 8.9699e-05 - accuracy: 1.0000 - val_loss: 3.9124 - val_accuracy: 0.5568\n",
            "Epoch 32/60\n",
            "45/45 [==============================] - 1s 25ms/step - loss: 6.5765e-05 - accuracy: 1.0000 - val_loss: 3.8362 - val_accuracy: 0.5568\n",
            "Epoch 33/60\n",
            "45/45 [==============================] - 1s 24ms/step - loss: 6.8191e-05 - accuracy: 1.0000 - val_loss: 3.9529 - val_accuracy: 0.5568\n",
            "Epoch 34/60\n",
            "45/45 [==============================] - 1s 24ms/step - loss: 7.9072e-05 - accuracy: 1.0000 - val_loss: 3.8767 - val_accuracy: 0.5625\n",
            "Epoch 35/60\n",
            "45/45 [==============================] - 1s 24ms/step - loss: 7.7815e-05 - accuracy: 1.0000 - val_loss: 3.9916 - val_accuracy: 0.5511\n",
            "Epoch 36/60\n",
            "45/45 [==============================] - 1s 25ms/step - loss: 5.7544e-05 - accuracy: 1.0000 - val_loss: 4.0097 - val_accuracy: 0.5511\n",
            "Epoch 37/60\n",
            "45/45 [==============================] - 1s 25ms/step - loss: 4.7671e-05 - accuracy: 1.0000 - val_loss: 3.9817 - val_accuracy: 0.5625\n",
            "Epoch 38/60\n",
            "45/45 [==============================] - 1s 24ms/step - loss: 4.4213e-05 - accuracy: 1.0000 - val_loss: 4.0153 - val_accuracy: 0.5568\n",
            "Epoch 39/60\n",
            "45/45 [==============================] - 1s 24ms/step - loss: 4.9047e-05 - accuracy: 1.0000 - val_loss: 3.9898 - val_accuracy: 0.5568\n",
            "Epoch 40/60\n",
            "45/45 [==============================] - 1s 25ms/step - loss: 4.4791e-05 - accuracy: 1.0000 - val_loss: 4.0774 - val_accuracy: 0.5511\n",
            "Epoch 41/60\n",
            "45/45 [==============================] - 1s 25ms/step - loss: 4.7050e-05 - accuracy: 1.0000 - val_loss: 4.0023 - val_accuracy: 0.5568\n",
            "Epoch 42/60\n",
            "45/45 [==============================] - 1s 25ms/step - loss: 3.7284e-05 - accuracy: 1.0000 - val_loss: 4.1086 - val_accuracy: 0.5455\n",
            "Epoch 43/60\n",
            "45/45 [==============================] - 1s 25ms/step - loss: 2.9403e-05 - accuracy: 1.0000 - val_loss: 4.1239 - val_accuracy: 0.5511\n",
            "Epoch 44/60\n",
            "45/45 [==============================] - 1s 25ms/step - loss: 3.3113e-05 - accuracy: 1.0000 - val_loss: 4.1372 - val_accuracy: 0.5511\n",
            "Epoch 45/60\n",
            "45/45 [==============================] - 1s 25ms/step - loss: 2.6028e-05 - accuracy: 1.0000 - val_loss: 4.1559 - val_accuracy: 0.5511\n",
            "Epoch 46/60\n",
            "45/45 [==============================] - 1s 25ms/step - loss: 2.7191e-05 - accuracy: 1.0000 - val_loss: 4.0251 - val_accuracy: 0.5568\n",
            "Epoch 47/60\n",
            "45/45 [==============================] - 1s 25ms/step - loss: 2.5119e-05 - accuracy: 1.0000 - val_loss: 4.1160 - val_accuracy: 0.5568\n",
            "Epoch 48/60\n",
            "45/45 [==============================] - 1s 26ms/step - loss: 2.2175e-05 - accuracy: 1.0000 - val_loss: 4.1075 - val_accuracy: 0.5568\n",
            "Epoch 49/60\n",
            "45/45 [==============================] - 1s 25ms/step - loss: 1.9419e-05 - accuracy: 1.0000 - val_loss: 4.2194 - val_accuracy: 0.5511\n",
            "Epoch 50/60\n",
            "45/45 [==============================] - 1s 25ms/step - loss: 2.2917e-05 - accuracy: 1.0000 - val_loss: 4.1874 - val_accuracy: 0.5568\n",
            "Epoch 51/60\n",
            "45/45 [==============================] - 1s 25ms/step - loss: 2.0995e-05 - accuracy: 1.0000 - val_loss: 4.2550 - val_accuracy: 0.5511\n",
            "Epoch 52/60\n",
            "45/45 [==============================] - 1s 25ms/step - loss: 1.9842e-05 - accuracy: 1.0000 - val_loss: 4.2776 - val_accuracy: 0.5455\n",
            "Epoch 53/60\n",
            "45/45 [==============================] - 1s 25ms/step - loss: 2.0298e-05 - accuracy: 1.0000 - val_loss: 4.3093 - val_accuracy: 0.5455\n",
            "Epoch 54/60\n",
            "45/45 [==============================] - 1s 25ms/step - loss: 2.3060e-05 - accuracy: 1.0000 - val_loss: 4.3325 - val_accuracy: 0.5455\n",
            "Epoch 55/60\n",
            "45/45 [==============================] - 1s 25ms/step - loss: 1.4204e-05 - accuracy: 1.0000 - val_loss: 4.3852 - val_accuracy: 0.5455\n",
            "Epoch 56/60\n",
            "45/45 [==============================] - 1s 25ms/step - loss: 1.3465e-05 - accuracy: 1.0000 - val_loss: 4.3475 - val_accuracy: 0.5568\n",
            "Epoch 57/60\n",
            "45/45 [==============================] - 1s 25ms/step - loss: 1.5102e-05 - accuracy: 1.0000 - val_loss: 4.5013 - val_accuracy: 0.5511\n",
            "Epoch 58/60\n",
            "45/45 [==============================] - 1s 25ms/step - loss: 9.1964e-06 - accuracy: 1.0000 - val_loss: 4.4959 - val_accuracy: 0.5568\n",
            "Epoch 59/60\n",
            "45/45 [==============================] - 1s 25ms/step - loss: 7.6317e-06 - accuracy: 1.0000 - val_loss: 4.6486 - val_accuracy: 0.5625\n",
            "Epoch 60/60\n",
            "45/45 [==============================] - 1s 25ms/step - loss: 6.6264e-06 - accuracy: 1.0000 - val_loss: 4.7002 - val_accuracy: 0.5625\n"
          ],
          "name": "stdout"
        }
      ]
    },
    {
      "cell_type": "code",
      "metadata": {
        "colab": {
          "base_uri": "https://localhost:8080/",
          "height": 513
        },
        "id": "CiieDRcBVwYl",
        "outputId": "1c33631b-35f1-42c2-f75a-a78c7ffb67af"
      },
      "source": [
        "import matplotlib.pyplot as plt\n",
        "\n",
        "epochs = range(1, len(Hist1.history['loss'])+1)\n",
        "\n",
        "plt.plot(epochs, Hist1.history['loss'])\n",
        "plt.plot(epochs, Hist1.history['val_loss'])\n",
        "plt.legend(['Train Loss','Valid Loss'])\n",
        "plt.show()\n",
        "\n",
        "plt.plot(epochs, Hist1.history['accuracy'])\n",
        "plt.plot(epochs, Hist1.history['val_accuracy'])\n",
        "plt.legend(['Train accuracy','Valid accuracy'])\n",
        "plt.show()"
      ],
      "execution_count": 53,
      "outputs": [
        {
          "output_type": "display_data",
          "data": {
            "image/png": "[encoded data removed]",
            "text/plain": [
              "<Figure size 432x288 with 1 Axes>"
            ]
          },
          "metadata": {
            "tags": [],
            "needs_background": "light"
          }
        },
        {
          "output_type": "display_data",
          "data": {
            "image/png": "[encoded data removed]",
            "text/plain": [
              "<Figure size 432x288 with 1 Axes>"
            ]
          },
          "metadata": {
            "tags": [],
            "needs_background": "light"
          }
        }
      ]
    },
    {
      "cell_type": "code",
      "metadata": {
        "colab": {
          "base_uri": "https://localhost:8080/"
        },
        "id": "TC3ju2-yV2GP",
        "outputId": "91f0cf82-8144-4485-add0-c87a4fa6ff96"
      },
      "source": [
        "loss, accuracy = model.evaluate(test_generator, steps=16)\n",
        "loss, accuracy"
      ],
      "execution_count": 54,
      "outputs": [
        {
          "output_type": "stream",
          "text": [
            "16/16 [==============================] - 0s 16ms/step - loss: 4.7032 - accuracy: 0.5625\n"
          ],
          "name": "stdout"
        },
        {
          "output_type": "execute_result",
          "data": {
            "text/plain": [
              "(4.703218460083008, 0.5625)"
            ]
          },
          "metadata": {
            "tags": []
          },
          "execution_count": 54
        }
      ]
    },
    {
      "cell_type": "markdown",
      "metadata": {
        "id": "_vBPek3jYTrY"
      },
      "source": [
        "# L2 + dropout"
      ]
    },
    {
      "cell_type": "code",
      "metadata": {
        "colab": {
          "base_uri": "https://localhost:8080/"
        },
        "id": "oDwe9hvyYX1Q",
        "outputId": "198051dc-eeb4-4635-95d6-45066ec1bd75"
      },
      "source": [
        "from keras.preprocessing.image import ImageDataGenerator\n",
        "from keras import regularizers\n",
        "\n",
        "# normal scaling\n",
        "train_datagen = ImageDataGenerator(rescale = 1./255)\n",
        "test_datagen = ImageDataGenerator(rescale = 1./255)\n",
        "\n",
        "train_generator = train_datagen.flow_from_directory(train_dir, target_size=(150,150), \n",
        "                                                    batch_size=11,\n",
        "                                                    class_mode = 'categorical') \n",
        "\n",
        "test_generator = test_datagen.flow_from_directory(test_dir, target_size=(150,150), \n",
        "                                                    batch_size=11,\n",
        "                                                    class_mode='categorical')\n",
        "\n",
        "\n",
        "\n",
        "model = models.Sequential()\n",
        "model.add(layers.Conv2D(32, (3,3), activation='relu', input_shape=(150, 150,3)))\n",
        "model.add(layers.MaxPooling2D((2,2)))\n",
        "model.add(layers.Conv2D(64,(3,3), activation='relu'))\n",
        "model.add(layers.MaxPooling2D((2,2)))\n",
        "model.add(layers.Conv2D(128,(3,3), activation='relu'))\n",
        "model.add(layers.MaxPooling2D((2,2)))\n",
        "model.add(layers.Conv2D(128,(3,3), activation='relu'))\n",
        "model.add(layers.MaxPooling2D((2,2)))\n",
        "\n",
        "model.add(layers.Flatten())\n",
        "model.add(layers.Dense(512, activation='relu',\n",
        "                       kernel_regularizer = regularizers.l2(0.00001)))\n",
        "model.add(layers.Dropout(0.4))\n",
        "model.add(layers.Dense(27, activation='softmax'))\n",
        "\n",
        "model.summary()\n",
        "\n",
        "model.compile(loss='categorical_crossentropy', optimizer='adam', metrics=['accuracy'])\n",
        "\n",
        "\n",
        "\n",
        "Hist1= model.fit(train_generator, # X= size(150*150) y=개 or 고양이 (binary)\n",
        "                steps_per_epoch=45, # batch_size가 20개 X 100번 돌아야  = 총 2000장 추출가능\n",
        "                epochs=60,\n",
        "                validation_data=test_generator,\n",
        "                validation_steps=16) # validation은 총 1000장이니까 20번씩 50번 돌면 1000장"
      ],
      "execution_count": 55,
      "outputs": [
        {
          "output_type": "stream",
          "text": [
            "Found 498 images belonging to 27 classes.\n",
            "Found 177 images belonging to 27 classes.\n",
            "Model: \"sequential_8\"\n",
            "_________________________________________________________________\n",
            "Layer (type)                 Output Shape              Param #   \n",
            "=================================================================\n",
            "conv2d_32 (Conv2D)           (None, 148, 148, 32)      896       \n",
            "_________________________________________________________________\n",
            "max_pooling2d_27 (MaxPooling (None, 74, 74, 32)        0         \n",
            "_________________________________________________________________\n",
            "conv2d_33 (Conv2D)           (None, 72, 72, 64)        18496     \n",
            "_________________________________________________________________\n",
            "max_pooling2d_28 (MaxPooling (None, 36, 36, 64)        0         \n",
            "_________________________________________________________________\n",
            "conv2d_34 (Conv2D)           (None, 34, 34, 128)       73856     \n",
            "_________________________________________________________________\n",
            "max_pooling2d_29 (MaxPooling (None, 17, 17, 128)       0         \n",
            "_________________________________________________________________\n",
            "conv2d_35 (Conv2D)           (None, 15, 15, 128)       147584    \n",
            "_________________________________________________________________\n",
            "max_pooling2d_30 (MaxPooling (None, 7, 7, 128)         0         \n",
            "_________________________________________________________________\n",
            "flatten_8 (Flatten)          (None, 6272)              0         \n",
            "_________________________________________________________________\n",
            "dense_16 (Dense)             (None, 512)               3211776   \n",
            "_________________________________________________________________\n",
            "dropout (Dropout)            (None, 512)               0         \n",
            "_________________________________________________________________\n",
            "dense_17 (Dense)             (None, 27)                13851     \n",
            "=================================================================\n",
            "Total params: 3,466,459\n",
            "Trainable params: 3,466,459\n",
            "Non-trainable params: 0\n",
            "_________________________________________________________________\n",
            "Epoch 1/60\n",
            "45/45 [==============================] - 2s 31ms/step - loss: 3.3464 - accuracy: 0.0358 - val_loss: 3.1818 - val_accuracy: 0.0625\n",
            "Epoch 2/60\n",
            "45/45 [==============================] - 1s 25ms/step - loss: 3.0585 - accuracy: 0.1213 - val_loss: 2.9227 - val_accuracy: 0.2273\n",
            "Epoch 3/60\n",
            "45/45 [==============================] - 1s 25ms/step - loss: 2.8351 - accuracy: 0.1913 - val_loss: 2.6995 - val_accuracy: 0.2443\n",
            "Epoch 4/60\n",
            "45/45 [==============================] - 1s 25ms/step - loss: 2.3525 - accuracy: 0.3358 - val_loss: 2.3873 - val_accuracy: 0.3636\n",
            "Epoch 5/60\n",
            "45/45 [==============================] - 1s 26ms/step - loss: 1.8927 - accuracy: 0.4697 - val_loss: 2.2880 - val_accuracy: 0.4545\n",
            "Epoch 6/60\n",
            "45/45 [==============================] - 1s 25ms/step - loss: 1.3765 - accuracy: 0.6021 - val_loss: 2.0126 - val_accuracy: 0.4830\n",
            "Epoch 7/60\n",
            "45/45 [==============================] - 1s 25ms/step - loss: 1.0290 - accuracy: 0.7136 - val_loss: 2.0461 - val_accuracy: 0.4943\n",
            "Epoch 8/60\n",
            "45/45 [==============================] - 1s 25ms/step - loss: 0.6488 - accuracy: 0.8052 - val_loss: 2.1958 - val_accuracy: 0.5682\n",
            "Epoch 9/60\n",
            "45/45 [==============================] - 1s 25ms/step - loss: 0.3807 - accuracy: 0.8828 - val_loss: 2.3500 - val_accuracy: 0.5568\n",
            "Epoch 10/60\n",
            "45/45 [==============================] - 1s 25ms/step - loss: 0.3006 - accuracy: 0.9166 - val_loss: 2.5279 - val_accuracy: 0.5625\n",
            "Epoch 11/60\n",
            "45/45 [==============================] - 1s 25ms/step - loss: 0.3320 - accuracy: 0.9279 - val_loss: 2.3765 - val_accuracy: 0.5284\n",
            "Epoch 12/60\n",
            "45/45 [==============================] - 1s 25ms/step - loss: 0.3009 - accuracy: 0.9254 - val_loss: 2.4350 - val_accuracy: 0.5455\n",
            "Epoch 13/60\n",
            "45/45 [==============================] - 1s 25ms/step - loss: 0.1226 - accuracy: 0.9694 - val_loss: 3.0755 - val_accuracy: 0.5682\n",
            "Epoch 14/60\n",
            "45/45 [==============================] - 1s 25ms/step - loss: 0.0953 - accuracy: 0.9778 - val_loss: 3.0559 - val_accuracy: 0.5682\n",
            "Epoch 15/60\n",
            "45/45 [==============================] - 1s 25ms/step - loss: 0.1068 - accuracy: 0.9759 - val_loss: 3.0658 - val_accuracy: 0.5966\n",
            "Epoch 16/60\n",
            "45/45 [==============================] - 1s 26ms/step - loss: 0.0710 - accuracy: 0.9895 - val_loss: 3.6171 - val_accuracy: 0.5625\n",
            "Epoch 17/60\n",
            "45/45 [==============================] - 1s 25ms/step - loss: 0.1351 - accuracy: 0.9770 - val_loss: 3.4180 - val_accuracy: 0.5682\n",
            "Epoch 18/60\n",
            "45/45 [==============================] - 1s 25ms/step - loss: 0.0853 - accuracy: 0.9853 - val_loss: 3.3301 - val_accuracy: 0.5568\n",
            "Epoch 19/60\n",
            "45/45 [==============================] - 1s 25ms/step - loss: 0.1667 - accuracy: 0.9433 - val_loss: 3.5662 - val_accuracy: 0.5909\n",
            "Epoch 20/60\n",
            "45/45 [==============================] - 1s 26ms/step - loss: 0.1220 - accuracy: 0.9798 - val_loss: 2.9873 - val_accuracy: 0.5682\n",
            "Epoch 21/60\n",
            "45/45 [==============================] - 1s 25ms/step - loss: 0.1843 - accuracy: 0.9693 - val_loss: 3.0880 - val_accuracy: 0.5795\n",
            "Epoch 22/60\n",
            "45/45 [==============================] - 1s 25ms/step - loss: 0.0873 - accuracy: 0.9852 - val_loss: 3.0785 - val_accuracy: 0.5739\n",
            "Epoch 23/60\n",
            "45/45 [==============================] - 1s 25ms/step - loss: 0.1065 - accuracy: 0.9787 - val_loss: 3.3692 - val_accuracy: 0.5625\n",
            "Epoch 24/60\n",
            "45/45 [==============================] - 1s 26ms/step - loss: 0.1568 - accuracy: 0.9650 - val_loss: 3.2142 - val_accuracy: 0.5625\n",
            "Epoch 25/60\n",
            "45/45 [==============================] - 1s 25ms/step - loss: 0.0845 - accuracy: 0.9793 - val_loss: 3.3928 - val_accuracy: 0.5739\n",
            "Epoch 26/60\n",
            "45/45 [==============================] - 1s 25ms/step - loss: 0.1147 - accuracy: 0.9826 - val_loss: 3.2171 - val_accuracy: 0.5455\n",
            "Epoch 27/60\n",
            "45/45 [==============================] - 1s 26ms/step - loss: 0.2815 - accuracy: 0.9240 - val_loss: 2.9311 - val_accuracy: 0.5682\n",
            "Epoch 28/60\n",
            "45/45 [==============================] - 1s 25ms/step - loss: 0.1146 - accuracy: 0.9806 - val_loss: 3.1131 - val_accuracy: 0.5852\n",
            "Epoch 29/60\n",
            "45/45 [==============================] - 1s 25ms/step - loss: 0.0338 - accuracy: 0.9975 - val_loss: 3.2613 - val_accuracy: 0.5682\n",
            "Epoch 30/60\n",
            "45/45 [==============================] - 1s 25ms/step - loss: 0.0281 - accuracy: 0.9998 - val_loss: 3.3822 - val_accuracy: 0.5739\n",
            "Epoch 31/60\n",
            "45/45 [==============================] - 1s 25ms/step - loss: 0.0425 - accuracy: 0.9962 - val_loss: 3.7064 - val_accuracy: 0.5909\n",
            "Epoch 32/60\n",
            "45/45 [==============================] - 1s 25ms/step - loss: 0.0406 - accuracy: 0.9963 - val_loss: 3.5665 - val_accuracy: 0.5795\n",
            "Epoch 33/60\n",
            "45/45 [==============================] - 1s 25ms/step - loss: 0.0327 - accuracy: 0.9987 - val_loss: 3.5678 - val_accuracy: 0.6136\n",
            "Epoch 34/60\n",
            "45/45 [==============================] - 1s 26ms/step - loss: 0.0335 - accuracy: 0.9942 - val_loss: 3.7695 - val_accuracy: 0.6250\n",
            "Epoch 35/60\n",
            "45/45 [==============================] - 1s 25ms/step - loss: 0.0256 - accuracy: 1.0000 - val_loss: 3.8410 - val_accuracy: 0.6136\n",
            "Epoch 36/60\n",
            "45/45 [==============================] - 1s 25ms/step - loss: 0.0256 - accuracy: 0.9996 - val_loss: 4.1495 - val_accuracy: 0.6023\n",
            "Epoch 37/60\n",
            "45/45 [==============================] - 1s 25ms/step - loss: 0.0474 - accuracy: 0.9931 - val_loss: 4.3730 - val_accuracy: 0.5966\n",
            "Epoch 38/60\n",
            "45/45 [==============================] - 1s 26ms/step - loss: 0.0595 - accuracy: 0.9918 - val_loss: 4.6167 - val_accuracy: 0.5341\n",
            "Epoch 39/60\n",
            "45/45 [==============================] - 1s 26ms/step - loss: 0.1704 - accuracy: 0.9692 - val_loss: 3.5711 - val_accuracy: 0.5682\n",
            "Epoch 40/60\n",
            "45/45 [==============================] - 1s 26ms/step - loss: 0.0613 - accuracy: 0.9932 - val_loss: 3.4704 - val_accuracy: 0.5795\n",
            "Epoch 41/60\n",
            "45/45 [==============================] - 1s 25ms/step - loss: 0.0269 - accuracy: 0.9987 - val_loss: 3.6151 - val_accuracy: 0.5682\n",
            "Epoch 42/60\n",
            "45/45 [==============================] - 1s 26ms/step - loss: 0.0263 - accuracy: 1.0000 - val_loss: 3.6409 - val_accuracy: 0.5909\n",
            "Epoch 43/60\n",
            "45/45 [==============================] - 1s 26ms/step - loss: 0.0257 - accuracy: 0.9996 - val_loss: 4.6059 - val_accuracy: 0.5682\n",
            "Epoch 44/60\n",
            "45/45 [==============================] - 1s 26ms/step - loss: 0.1376 - accuracy: 0.9783 - val_loss: 4.1538 - val_accuracy: 0.5682\n",
            "Epoch 45/60\n",
            "45/45 [==============================] - 1s 25ms/step - loss: 0.0658 - accuracy: 0.9901 - val_loss: 4.0717 - val_accuracy: 0.5682\n",
            "Epoch 46/60\n",
            "45/45 [==============================] - 1s 26ms/step - loss: 0.1332 - accuracy: 0.9693 - val_loss: 3.5594 - val_accuracy: 0.5455\n",
            "Epoch 47/60\n",
            "45/45 [==============================] - 1s 26ms/step - loss: 0.1125 - accuracy: 0.9802 - val_loss: 3.9281 - val_accuracy: 0.5511\n",
            "Epoch 48/60\n",
            "45/45 [==============================] - 1s 25ms/step - loss: 0.0647 - accuracy: 0.9881 - val_loss: 3.1638 - val_accuracy: 0.5511\n",
            "Epoch 49/60\n",
            "45/45 [==============================] - 1s 26ms/step - loss: 0.0623 - accuracy: 0.9929 - val_loss: 3.1083 - val_accuracy: 0.5966\n",
            "Epoch 50/60\n",
            "45/45 [==============================] - 1s 26ms/step - loss: 0.0330 - accuracy: 0.9996 - val_loss: 3.6405 - val_accuracy: 0.5966\n",
            "Epoch 51/60\n",
            "45/45 [==============================] - 1s 26ms/step - loss: 0.0757 - accuracy: 0.9909 - val_loss: 3.7022 - val_accuracy: 0.5966\n",
            "Epoch 52/60\n",
            "45/45 [==============================] - 1s 26ms/step - loss: 0.0476 - accuracy: 0.9924 - val_loss: 4.5228 - val_accuracy: 0.5739\n",
            "Epoch 53/60\n",
            "45/45 [==============================] - 1s 25ms/step - loss: 0.0845 - accuracy: 0.9874 - val_loss: 3.9896 - val_accuracy: 0.5341\n",
            "Epoch 54/60\n",
            "45/45 [==============================] - 1s 26ms/step - loss: 0.0812 - accuracy: 0.9875 - val_loss: 3.8199 - val_accuracy: 0.5739\n",
            "Epoch 55/60\n",
            "45/45 [==============================] - 1s 25ms/step - loss: 0.0457 - accuracy: 0.9944 - val_loss: 4.2475 - val_accuracy: 0.5682\n",
            "Epoch 56/60\n",
            "45/45 [==============================] - 1s 26ms/step - loss: 0.0578 - accuracy: 0.9925 - val_loss: 4.3370 - val_accuracy: 0.5511\n",
            "Epoch 57/60\n",
            "45/45 [==============================] - 1s 25ms/step - loss: 0.1184 - accuracy: 0.9814 - val_loss: 4.2481 - val_accuracy: 0.5455\n",
            "Epoch 58/60\n",
            "45/45 [==============================] - 1s 25ms/step - loss: 0.0788 - accuracy: 0.9872 - val_loss: 3.9223 - val_accuracy: 0.5795\n",
            "Epoch 59/60\n",
            "45/45 [==============================] - 1s 25ms/step - loss: 0.0857 - accuracy: 0.9817 - val_loss: 3.9780 - val_accuracy: 0.5739\n",
            "Epoch 60/60\n",
            "45/45 [==============================] - 1s 26ms/step - loss: 0.0633 - accuracy: 0.9918 - val_loss: 4.1276 - val_accuracy: 0.5511\n"
          ],
          "name": "stdout"
        }
      ]
    },
    {
      "cell_type": "code",
      "metadata": {
        "colab": {
          "base_uri": "https://localhost:8080/",
          "height": 513
        },
        "id": "SdW4K594YcFB",
        "outputId": "5f79fdd1-8a31-4856-dfd1-a9e621002a65"
      },
      "source": [
        "import matplotlib.pyplot as plt\n",
        "\n",
        "epochs = range(1, len(Hist1.history['loss'])+1)\n",
        "\n",
        "plt.plot(epochs, Hist1.history['loss'])\n",
        "plt.plot(epochs, Hist1.history['val_loss'])\n",
        "plt.legend(['Train Loss','Valid Loss'])\n",
        "plt.show()\n",
        "\n",
        "plt.plot(epochs, Hist1.history['accuracy'])\n",
        "plt.plot(epochs, Hist1.history['val_accuracy'])\n",
        "plt.legend(['Train accuracy','Valid accuracy'])\n",
        "plt.show()"
      ],
      "execution_count": 56,
      "outputs": [
        {
          "output_type": "display_data",
          "data": {
            "image/png": "[encoded data removed]",
            "text/plain": [
              "<Figure size 432x288 with 1 Axes>"
            ]
          },
          "metadata": {
            "tags": [],
            "needs_background": "light"
          }
        },
        {
          "output_type": "display_data",
          "data": {
            "image/png": "[encoded data removed]",
            "text/plain": [
              "<Figure size 432x288 with 1 Axes>"
            ]
          },
          "metadata": {
            "tags": [],
            "needs_background": "light"
          }
        }
      ]
    },
    {
      "cell_type": "code",
      "metadata": {
        "colab": {
          "base_uri": "https://localhost:8080/"
        },
        "id": "eoGtVSK1YyWZ",
        "outputId": "f4b6f626-77c5-4976-dd6b-1d0c78e7c3c0"
      },
      "source": [
        "loss, accuracy = model.evaluate(test_generator, steps=16)\n",
        "loss, accuracy"
      ],
      "execution_count": 57,
      "outputs": [
        {
          "output_type": "stream",
          "text": [
            "16/16 [==============================] - 0s 16ms/step - loss: 4.1276 - accuracy: 0.5511\n"
          ],
          "name": "stdout"
        },
        {
          "output_type": "execute_result",
          "data": {
            "text/plain": [
              "(4.127552509307861, 0.5511363744735718)"
            ]
          },
          "metadata": {
            "tags": []
          },
          "execution_count": 57
        }
      ]
    },
    {
      "cell_type": "markdown",
      "metadata": {
        "id": "LB1vWMgpZLQd"
      },
      "source": [
        "# step 수를 올려서 사진을 전부 돌릴 수 있는지 확인"
      ]
    },
    {
      "cell_type": "code",
      "metadata": {
        "colab": {
          "base_uri": "https://localhost:8080/"
        },
        "id": "o2b_abTZZhdn",
        "outputId": "62388dff-92f5-4869-8a7b-f3759fbcf2ad"
      },
      "source": [
        "print(498/11)\n",
        "print(177/11)"
      ],
      "execution_count": 59,
      "outputs": [
        {
          "output_type": "stream",
          "text": [
            "45.27272727272727\n",
            "16.09090909090909\n"
          ],
          "name": "stdout"
        }
      ]
    },
    {
      "cell_type": "code",
      "metadata": {
        "colab": {
          "base_uri": "https://localhost:8080/"
        },
        "id": "1w8u3mAvZYPT",
        "outputId": "b9b2e214-a116-48ee-b1c4-0d7b13da57a1"
      },
      "source": [
        "from keras.preprocessing.image import ImageDataGenerator\n",
        "\n",
        "# normal scaling\n",
        "train_datagen = ImageDataGenerator(rescale = 1./255)\n",
        "test_datagen = ImageDataGenerator(rescale = 1./255)\n",
        "\n",
        "train_generator = train_datagen.flow_from_directory(train_dir, target_size=(150,150), \n",
        "                                                    batch_size=11,\n",
        "                                                    class_mode = 'categorical') \n",
        "\n",
        "test_generator = test_datagen.flow_from_directory(test_dir, target_size=(150,150), \n",
        "                                                    batch_size=11,\n",
        "                                                    class_mode='categorical')\n",
        "\n",
        "\n",
        "\n",
        "model = models.Sequential()\n",
        "model.add(layers.Conv2D(32, (3,3), activation='relu', input_shape=(150, 150,3)))\n",
        "model.add(layers.MaxPooling2D((2,2)))\n",
        "model.add(layers.Conv2D(64,(3,3), activation='relu'))\n",
        "model.add(layers.MaxPooling2D((2,2)))\n",
        "model.add(layers.Conv2D(128,(3,3), activation='relu'))\n",
        "model.add(layers.MaxPooling2D((2,2)))\n",
        "model.add(layers.Conv2D(128,(3,3), activation='relu'))\n",
        "model.add(layers.MaxPooling2D((2,2)))\n",
        "\n",
        "model.add(layers.Flatten())\n",
        "model.add(layers.Dense(512, activation='relu'))\n",
        "model.add(layers.Dense(27, activation='softmax'))\n",
        "\n",
        "model.summary()\n",
        "\n",
        "model.compile(loss='categorical_crossentropy', optimizer='adam', metrics=['accuracy'])\n",
        "\n",
        "\n",
        "\n",
        "Hist1= model.fit(train_generator,\n",
        "                steps_per_epoch=46,  # 사진 수량보다 더 높게\n",
        "                epochs=60,\n",
        "                validation_data=test_generator,\n",
        "                validation_steps=17) "
      ],
      "execution_count": 60,
      "outputs": [
        {
          "output_type": "stream",
          "text": [
            "Found 498 images belonging to 27 classes.\n",
            "Found 177 images belonging to 27 classes.\n",
            "Model: \"sequential_9\"\n",
            "_________________________________________________________________\n",
            "Layer (type)                 Output Shape              Param #   \n",
            "=================================================================\n",
            "conv2d_36 (Conv2D)           (None, 148, 148, 32)      896       \n",
            "_________________________________________________________________\n",
            "max_pooling2d_31 (MaxPooling (None, 74, 74, 32)        0         \n",
            "_________________________________________________________________\n",
            "conv2d_37 (Conv2D)           (None, 72, 72, 64)        18496     \n",
            "_________________________________________________________________\n",
            "max_pooling2d_32 (MaxPooling (None, 36, 36, 64)        0         \n",
            "_________________________________________________________________\n",
            "conv2d_38 (Conv2D)           (None, 34, 34, 128)       73856     \n",
            "_________________________________________________________________\n",
            "max_pooling2d_33 (MaxPooling (None, 17, 17, 128)       0         \n",
            "_________________________________________________________________\n",
            "conv2d_39 (Conv2D)           (None, 15, 15, 128)       147584    \n",
            "_________________________________________________________________\n",
            "max_pooling2d_34 (MaxPooling (None, 7, 7, 128)         0         \n",
            "_________________________________________________________________\n",
            "flatten_9 (Flatten)          (None, 6272)              0         \n",
            "_________________________________________________________________\n",
            "dense_18 (Dense)             (None, 512)               3211776   \n",
            "_________________________________________________________________\n",
            "dense_19 (Dense)             (None, 27)                13851     \n",
            "=================================================================\n",
            "Total params: 3,466,459\n",
            "Trainable params: 3,466,459\n",
            "Non-trainable params: 0\n",
            "_________________________________________________________________\n",
            "Epoch 1/60\n",
            "46/46 [==============================] - 2s 32ms/step - loss: 3.2974 - accuracy: 0.0519 - val_loss: 3.2176 - val_accuracy: 0.1073\n",
            "Epoch 2/60\n",
            "46/46 [==============================] - 1s 25ms/step - loss: 2.8549 - accuracy: 0.1612 - val_loss: 2.7005 - val_accuracy: 0.2881\n",
            "Epoch 3/60\n",
            "46/46 [==============================] - 1s 25ms/step - loss: 2.2957 - accuracy: 0.4035 - val_loss: 2.6343 - val_accuracy: 0.2825\n",
            "Epoch 4/60\n",
            "46/46 [==============================] - 1s 25ms/step - loss: 1.6427 - accuracy: 0.5577 - val_loss: 2.1324 - val_accuracy: 0.5254\n",
            "Epoch 5/60\n",
            "46/46 [==============================] - 1s 25ms/step - loss: 1.1066 - accuracy: 0.6505 - val_loss: 2.2975 - val_accuracy: 0.4746\n",
            "Epoch 6/60\n",
            "46/46 [==============================] - 1s 25ms/step - loss: 0.6510 - accuracy: 0.8061 - val_loss: 2.1890 - val_accuracy: 0.4576\n",
            "Epoch 7/60\n",
            "46/46 [==============================] - 1s 25ms/step - loss: 0.4132 - accuracy: 0.8905 - val_loss: 2.5949 - val_accuracy: 0.5254\n",
            "Epoch 8/60\n",
            "46/46 [==============================] - 1s 25ms/step - loss: 0.2583 - accuracy: 0.9403 - val_loss: 2.4811 - val_accuracy: 0.5650\n",
            "Epoch 9/60\n",
            "46/46 [==============================] - 1s 25ms/step - loss: 0.1515 - accuracy: 0.9469 - val_loss: 3.5134 - val_accuracy: 0.5028\n",
            "Epoch 10/60\n",
            "46/46 [==============================] - 1s 25ms/step - loss: 0.1875 - accuracy: 0.9554 - val_loss: 3.1858 - val_accuracy: 0.5424\n",
            "Epoch 11/60\n",
            "46/46 [==============================] - 1s 25ms/step - loss: 0.0540 - accuracy: 0.9844 - val_loss: 3.8054 - val_accuracy: 0.5424\n",
            "Epoch 12/60\n",
            "46/46 [==============================] - 1s 25ms/step - loss: 0.1015 - accuracy: 0.9825 - val_loss: 3.3234 - val_accuracy: 0.5650\n",
            "Epoch 13/60\n",
            "46/46 [==============================] - 1s 25ms/step - loss: 0.0262 - accuracy: 0.9950 - val_loss: 4.4677 - val_accuracy: 0.5424\n",
            "Epoch 14/60\n",
            "46/46 [==============================] - 1s 25ms/step - loss: 0.2066 - accuracy: 0.9317 - val_loss: 3.6227 - val_accuracy: 0.4972\n",
            "Epoch 15/60\n",
            "46/46 [==============================] - 1s 25ms/step - loss: 0.1158 - accuracy: 0.9577 - val_loss: 3.7191 - val_accuracy: 0.5593\n",
            "Epoch 16/60\n",
            "46/46 [==============================] - 1s 25ms/step - loss: 0.0142 - accuracy: 0.9989 - val_loss: 4.0079 - val_accuracy: 0.5537\n",
            "Epoch 17/60\n",
            "46/46 [==============================] - 1s 25ms/step - loss: 0.0054 - accuracy: 0.9981 - val_loss: 4.1171 - val_accuracy: 0.5593\n",
            "Epoch 18/60\n",
            "46/46 [==============================] - 1s 25ms/step - loss: 0.0016 - accuracy: 1.0000 - val_loss: 4.0919 - val_accuracy: 0.5706\n",
            "Epoch 19/60\n",
            "46/46 [==============================] - 1s 25ms/step - loss: 5.9447e-04 - accuracy: 1.0000 - val_loss: 4.1179 - val_accuracy: 0.5706\n",
            "Epoch 20/60\n",
            "46/46 [==============================] - 1s 25ms/step - loss: 2.3042e-04 - accuracy: 1.0000 - val_loss: 4.1560 - val_accuracy: 0.5706\n",
            "Epoch 21/60\n",
            "46/46 [==============================] - 1s 25ms/step - loss: 2.4777e-04 - accuracy: 1.0000 - val_loss: 4.1915 - val_accuracy: 0.5706\n",
            "Epoch 22/60\n",
            "46/46 [==============================] - 1s 25ms/step - loss: 2.9968e-04 - accuracy: 1.0000 - val_loss: 4.2165 - val_accuracy: 0.5763\n",
            "Epoch 23/60\n",
            "46/46 [==============================] - 1s 26ms/step - loss: 2.0103e-04 - accuracy: 1.0000 - val_loss: 4.2399 - val_accuracy: 0.5763\n",
            "Epoch 24/60\n",
            "46/46 [==============================] - 1s 26ms/step - loss: 2.0777e-04 - accuracy: 1.0000 - val_loss: 4.2788 - val_accuracy: 0.5763\n",
            "Epoch 25/60\n",
            "46/46 [==============================] - 1s 25ms/step - loss: 1.5893e-04 - accuracy: 1.0000 - val_loss: 4.3027 - val_accuracy: 0.5763\n",
            "Epoch 26/60\n",
            "46/46 [==============================] - 1s 25ms/step - loss: 1.0708e-04 - accuracy: 1.0000 - val_loss: 4.3193 - val_accuracy: 0.5763\n",
            "Epoch 27/60\n",
            "46/46 [==============================] - 1s 26ms/step - loss: 1.3482e-04 - accuracy: 1.0000 - val_loss: 4.3382 - val_accuracy: 0.5763\n",
            "Epoch 28/60\n",
            "46/46 [==============================] - 1s 25ms/step - loss: 8.0525e-05 - accuracy: 1.0000 - val_loss: 4.3622 - val_accuracy: 0.5763\n",
            "Epoch 29/60\n",
            "46/46 [==============================] - 1s 26ms/step - loss: 7.7839e-05 - accuracy: 1.0000 - val_loss: 4.3838 - val_accuracy: 0.5763\n",
            "Epoch 30/60\n",
            "46/46 [==============================] - 1s 26ms/step - loss: 6.4303e-05 - accuracy: 1.0000 - val_loss: 4.4087 - val_accuracy: 0.5763\n",
            "Epoch 31/60\n",
            "46/46 [==============================] - 1s 25ms/step - loss: 6.4393e-05 - accuracy: 1.0000 - val_loss: 4.4335 - val_accuracy: 0.5763\n",
            "Epoch 32/60\n",
            "46/46 [==============================] - 1s 25ms/step - loss: 5.4514e-05 - accuracy: 1.0000 - val_loss: 4.4507 - val_accuracy: 0.5763\n",
            "Epoch 33/60\n",
            "46/46 [==============================] - 1s 26ms/step - loss: 5.0691e-05 - accuracy: 1.0000 - val_loss: 4.4753 - val_accuracy: 0.5763\n",
            "Epoch 34/60\n",
            "46/46 [==============================] - 1s 25ms/step - loss: 4.8098e-05 - accuracy: 1.0000 - val_loss: 4.4990 - val_accuracy: 0.5763\n",
            "Epoch 35/60\n",
            "46/46 [==============================] - 1s 25ms/step - loss: 5.3950e-05 - accuracy: 1.0000 - val_loss: 4.5154 - val_accuracy: 0.5763\n",
            "Epoch 36/60\n",
            "46/46 [==============================] - 1s 26ms/step - loss: 5.3835e-05 - accuracy: 1.0000 - val_loss: 4.5375 - val_accuracy: 0.5763\n",
            "Epoch 37/60\n",
            "46/46 [==============================] - 1s 26ms/step - loss: 2.9297e-05 - accuracy: 1.0000 - val_loss: 4.5611 - val_accuracy: 0.5763\n",
            "Epoch 38/60\n",
            "46/46 [==============================] - 1s 25ms/step - loss: 3.3556e-05 - accuracy: 1.0000 - val_loss: 4.5773 - val_accuracy: 0.5819\n",
            "Epoch 39/60\n",
            "46/46 [==============================] - 1s 25ms/step - loss: 3.9413e-05 - accuracy: 1.0000 - val_loss: 4.5977 - val_accuracy: 0.5819\n",
            "Epoch 40/60\n",
            "46/46 [==============================] - 1s 25ms/step - loss: 3.2067e-05 - accuracy: 1.0000 - val_loss: 4.6157 - val_accuracy: 0.5819\n",
            "Epoch 41/60\n",
            "46/46 [==============================] - 1s 25ms/step - loss: 1.8953e-05 - accuracy: 1.0000 - val_loss: 4.6288 - val_accuracy: 0.5819\n",
            "Epoch 42/60\n",
            "46/46 [==============================] - 1s 25ms/step - loss: 2.3190e-05 - accuracy: 1.0000 - val_loss: 4.6515 - val_accuracy: 0.5819\n",
            "Epoch 43/60\n",
            "46/46 [==============================] - 1s 26ms/step - loss: 2.3535e-05 - accuracy: 1.0000 - val_loss: 4.6702 - val_accuracy: 0.5819\n",
            "Epoch 44/60\n",
            "46/46 [==============================] - 1s 25ms/step - loss: 2.3870e-05 - accuracy: 1.0000 - val_loss: 4.6882 - val_accuracy: 0.5819\n",
            "Epoch 45/60\n",
            "46/46 [==============================] - 1s 25ms/step - loss: 2.7121e-05 - accuracy: 1.0000 - val_loss: 4.7043 - val_accuracy: 0.5819\n",
            "Epoch 46/60\n",
            "46/46 [==============================] - 1s 25ms/step - loss: 1.8291e-05 - accuracy: 1.0000 - val_loss: 4.7200 - val_accuracy: 0.5819\n",
            "Epoch 47/60\n",
            "46/46 [==============================] - 1s 25ms/step - loss: 1.8036e-05 - accuracy: 1.0000 - val_loss: 4.7365 - val_accuracy: 0.5819\n",
            "Epoch 48/60\n",
            "46/46 [==============================] - 1s 25ms/step - loss: 1.4869e-05 - accuracy: 1.0000 - val_loss: 4.7533 - val_accuracy: 0.5819\n",
            "Epoch 49/60\n",
            "46/46 [==============================] - 1s 25ms/step - loss: 1.5305e-05 - accuracy: 1.0000 - val_loss: 4.7629 - val_accuracy: 0.5819\n",
            "Epoch 50/60\n",
            "46/46 [==============================] - 1s 25ms/step - loss: 1.4058e-05 - accuracy: 1.0000 - val_loss: 4.7763 - val_accuracy: 0.5819\n",
            "Epoch 51/60\n",
            "46/46 [==============================] - 1s 26ms/step - loss: 1.1812e-05 - accuracy: 1.0000 - val_loss: 4.7892 - val_accuracy: 0.5819\n",
            "Epoch 52/60\n",
            "46/46 [==============================] - 1s 25ms/step - loss: 1.3820e-05 - accuracy: 1.0000 - val_loss: 4.8104 - val_accuracy: 0.5819\n",
            "Epoch 53/60\n",
            "46/46 [==============================] - 1s 25ms/step - loss: 1.3729e-05 - accuracy: 1.0000 - val_loss: 4.8293 - val_accuracy: 0.5819\n",
            "Epoch 54/60\n",
            "46/46 [==============================] - 1s 26ms/step - loss: 8.8367e-06 - accuracy: 1.0000 - val_loss: 4.8421 - val_accuracy: 0.5819\n",
            "Epoch 55/60\n",
            "46/46 [==============================] - 1s 25ms/step - loss: 1.2427e-05 - accuracy: 1.0000 - val_loss: 4.8539 - val_accuracy: 0.5819\n",
            "Epoch 56/60\n",
            "46/46 [==============================] - 1s 25ms/step - loss: 1.0069e-05 - accuracy: 1.0000 - val_loss: 4.8696 - val_accuracy: 0.5819\n",
            "Epoch 57/60\n",
            "46/46 [==============================] - 1s 25ms/step - loss: 8.9832e-06 - accuracy: 1.0000 - val_loss: 4.8855 - val_accuracy: 0.5763\n",
            "Epoch 58/60\n",
            "46/46 [==============================] - 1s 24ms/step - loss: 8.2804e-06 - accuracy: 1.0000 - val_loss: 4.8947 - val_accuracy: 0.5763\n",
            "Epoch 59/60\n",
            "46/46 [==============================] - 1s 25ms/step - loss: 9.1911e-06 - accuracy: 1.0000 - val_loss: 4.9102 - val_accuracy: 0.5819\n",
            "Epoch 60/60\n",
            "46/46 [==============================] - 1s 25ms/step - loss: 7.3616e-06 - accuracy: 1.0000 - val_loss: 4.9219 - val_accuracy: 0.5763\n"
          ],
          "name": "stdout"
        }
      ]
    },
    {
      "cell_type": "code",
      "metadata": {
        "colab": {
          "base_uri": "https://localhost:8080/"
        },
        "id": "8wEGFbFTZx0T",
        "outputId": "abd7d749-d2f8-4b7f-8b20-626b8d1a8bbb"
      },
      "source": [
        "loss, accuracy = model.evaluate(test_generator, steps=16)\n",
        "loss, accuracy"
      ],
      "execution_count": 61,
      "outputs": [
        {
          "output_type": "stream",
          "text": [
            "16/16 [==============================] - 0s 16ms/step - loss: 4.9499 - accuracy: 0.5739\n"
          ],
          "name": "stdout"
        },
        {
          "output_type": "execute_result",
          "data": {
            "text/plain": [
              "(4.9498796463012695, 0.5738636255264282)"
            ]
          },
          "metadata": {
            "tags": []
          },
          "execution_count": 61
        }
      ]
    },
    {
      "cell_type": "code",
      "metadata": {
        "id": "3VzZECppaNIx"
      },
      "source": [
        ""
      ],
      "execution_count": null,
      "outputs": []
    }
  ]
}