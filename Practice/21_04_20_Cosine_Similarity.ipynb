{
  "nbformat": 4,
  "nbformat_minor": 0,
  "metadata": {
    "colab": {
      "name": "Untitled0.ipynb",
      "provenance": []
    },
    "kernelspec": {
      "name": "python3",
      "display_name": "Python 3"
    },
    "language_info": {
      "name": "python"
    }
  },
  "cells": [
    {
      "cell_type": "code",
      "metadata": {
        "id": "EPaaXjz4R1R8"
      },
      "source": [
        "doc_list = ['if you take the blue pill, the story ends' ,\n",
        "'if you take the red pill, you stay in Wonderland',\n",
        "'if you take the red pill, I show you how deep the rabbit hole goes']"
      ],
      "execution_count": 1,
      "outputs": []
    },
    {
      "cell_type": "code",
      "metadata": {
        "colab": {
          "base_uri": "https://localhost:8080/"
        },
        "id": "VX5jEerfR258",
        "outputId": "6c0b75c4-b9cd-4b6a-ecce-e07ab91149b6"
      },
      "source": [
        "from sklearn.feature_extraction.text import TfidfVectorizer\n",
        "\n",
        "tfidf_vec_simple = TfidfVectorizer()\n",
        "feature_vec_simple = tfidf_vec_simple.fit_transform(doc_list)\n",
        "\n",
        "print(feature_vec_simple.shape)\n",
        "print(type(feature_vec_simple))\n",
        "print(feature_vec_simple)"
      ],
      "execution_count": 15,
      "outputs": [
        {
          "output_type": "stream",
          "text": [
            "(3, 18)\n",
            "<class 'scipy.sparse.csr.csr_matrix'>\n",
            "  (0, 2)\t0.41556360057939173\n",
            "  (0, 13)\t0.41556360057939173\n",
            "  (0, 8)\t0.24543855687841593\n",
            "  (0, 0)\t0.41556360057939173\n",
            "  (0, 15)\t0.49087711375683185\n",
            "  (0, 14)\t0.24543855687841593\n",
            "  (0, 17)\t0.24543855687841593\n",
            "  (0, 6)\t0.24543855687841593\n",
            "  (1, 16)\t0.39624495215024286\n",
            "  (1, 7)\t0.39624495215024286\n",
            "  (1, 12)\t0.39624495215024286\n",
            "  (1, 10)\t0.3013544995034864\n",
            "  (1, 8)\t0.2340286519091622\n",
            "  (1, 15)\t0.2340286519091622\n",
            "  (1, 14)\t0.2340286519091622\n",
            "  (1, 17)\t0.4680573038183244\n",
            "  (1, 6)\t0.2340286519091622\n",
            "  (2, 3)\t0.3098560092999078\n",
            "  (2, 4)\t0.3098560092999078\n",
            "  (2, 9)\t0.3098560092999078\n",
            "  (2, 1)\t0.3098560092999078\n",
            "  (2, 5)\t0.3098560092999078\n",
            "  (2, 11)\t0.3098560092999078\n",
            "  (2, 10)\t0.23565348175165166\n",
            "  (2, 8)\t0.1830059506093466\n",
            "  (2, 15)\t0.3660119012186932\n",
            "  (2, 14)\t0.1830059506093466\n",
            "  (2, 17)\t0.3660119012186932\n",
            "  (2, 6)\t0.1830059506093466\n"
          ],
          "name": "stdout"
        }
      ]
    },
    {
      "cell_type": "code",
      "metadata": {
        "colab": {
          "base_uri": "https://localhost:8080/"
        },
        "id": "XdiaxZecSeU1",
        "outputId": "2a3ce785-448a-42e3-9a8c-dd50c8240811"
      },
      "source": [
        "feature_vec_dense = feature_vec_simple.todense()\n",
        "print('feature_vec_dense.shape:',feature_vec_dense.shape)\n",
        "print(type(feature_vec_dense))\n",
        "print(feature_vec_dense)"
      ],
      "execution_count": 16,
      "outputs": [
        {
          "output_type": "stream",
          "text": [
            "feature_vec_dense.shape: (3, 18)\n",
            "<class 'numpy.matrix'>\n",
            "[[0.4155636  0.         0.4155636  0.         0.         0.\n",
            "  0.24543856 0.         0.24543856 0.         0.         0.\n",
            "  0.         0.4155636  0.24543856 0.49087711 0.         0.24543856]\n",
            " [0.         0.         0.         0.         0.         0.\n",
            "  0.23402865 0.39624495 0.23402865 0.         0.3013545  0.\n",
            "  0.39624495 0.         0.23402865 0.23402865 0.39624495 0.4680573 ]\n",
            " [0.         0.30985601 0.         0.30985601 0.30985601 0.30985601\n",
            "  0.18300595 0.         0.18300595 0.30985601 0.23565348 0.30985601\n",
            "  0.         0.         0.18300595 0.3660119  0.         0.3660119 ]]\n"
          ],
          "name": "stdout"
        }
      ]
    },
    {
      "cell_type": "code",
      "metadata": {
        "colab": {
          "base_uri": "https://localhost:8080/"
        },
        "id": "XBTDCIC4TadL",
        "outputId": "e59ef41e-507c-4048-88f1-21d2f96fda1f"
      },
      "source": [
        "import numpy as np\n",
        "\n",
        "vec1 = np.array(feature_vec_dense[0]).reshape(-1,)\n",
        "vec2 = np.array(feature_vec_dense[1]).reshape(-1,)\n",
        "vec3 = np.array(feature_vec_dense[2]).reshape(-1,)\n",
        "\n",
        "print(type(vec1), vec1.shape)\n",
        "print(vec1)\n",
        "print(vec2)\n",
        "print(vec3)"
      ],
      "execution_count": 17,
      "outputs": [
        {
          "output_type": "stream",
          "text": [
            "<class 'numpy.ndarray'> (18,)\n",
            "[0.4155636  0.         0.4155636  0.         0.         0.\n",
            " 0.24543856 0.         0.24543856 0.         0.         0.\n",
            " 0.         0.4155636  0.24543856 0.49087711 0.         0.24543856]\n",
            "[0.         0.         0.         0.         0.         0.\n",
            " 0.23402865 0.39624495 0.23402865 0.         0.3013545  0.\n",
            " 0.39624495 0.         0.23402865 0.23402865 0.39624495 0.4680573 ]\n",
            "[0.         0.30985601 0.         0.30985601 0.30985601 0.30985601\n",
            " 0.18300595 0.         0.18300595 0.30985601 0.23565348 0.30985601\n",
            " 0.         0.         0.18300595 0.3660119  0.         0.3660119 ]\n"
          ],
          "name": "stdout"
        }
      ]
    },
    {
      "cell_type": "code",
      "metadata": {
        "colab": {
          "base_uri": "https://localhost:8080/"
        },
        "id": "gFUHp2khVXEx",
        "outputId": "25f472f3-adf3-4e25-903f-f3a939760c5d"
      },
      "source": [
        "v1 = feature_vec_dense[0].reshape(-1,)\n",
        "print(type(v1), v1.shape)\n",
        "print(v1)"
      ],
      "execution_count": 18,
      "outputs": [
        {
          "output_type": "stream",
          "text": [
            "<class 'numpy.matrix'> (1, 18)\n",
            "[[0.4155636  0.         0.4155636  0.         0.         0.\n",
            "  0.24543856 0.         0.24543856 0.         0.         0.\n",
            "  0.         0.4155636  0.24543856 0.49087711 0.         0.24543856]]\n"
          ],
          "name": "stdout"
        }
      ]
    },
    {
      "cell_type": "code",
      "metadata": {
        "id": "0tQNKDt1V3iZ"
      },
      "source": [
        "import numpy as np\n",
        "\n",
        "def cos_similarity(v1,v2):\n",
        "  dot_product = np.dot(v1,v2)\n",
        "  l2_norm = (np.sqrt(sum(np.square(v1)))*np.sqrt(sum(np.square(v2))))\n",
        "  similarity = dot_product/ l2_norm\n",
        "  \n",
        "  return similarity"
      ],
      "execution_count": 19,
      "outputs": []
    },
    {
      "cell_type": "code",
      "metadata": {
        "colab": {
          "base_uri": "https://localhost:8080/"
        },
        "id": "rwgOIk7FWpsr",
        "outputId": "a1481be9-3dc9-4f3b-c973-77be7eef82d5"
      },
      "source": [
        "similarity_simple = cos_similarity(vec1, vec2)\n",
        "\n",
        "print('vec1, vec2 코사인 유사도: {0:.5f}'.format(similarity_simple))"
      ],
      "execution_count": 20,
      "outputs": [
        {
          "output_type": "stream",
          "text": [
            "vec1, vec2 코사인 유사도: 0.40208\n"
          ],
          "name": "stdout"
        }
      ]
    },
    {
      "cell_type": "code",
      "metadata": {
        "colab": {
          "base_uri": "https://localhost:8080/"
        },
        "id": "21ccn0EJW8U6",
        "outputId": "25a8fabe-09d1-4fff-a44b-5bb2dae28d0b"
      },
      "source": [
        "print(f'vec1, vec2 코사인 유사도:{similarity_simple}')"
      ],
      "execution_count": 21,
      "outputs": [
        {
          "output_type": "stream",
          "text": [
            "vec1, vec2 코사인 유사도:0.40207758214950134\n"
          ],
          "name": "stdout"
        }
      ]
    },
    {
      "cell_type": "code",
      "metadata": {
        "colab": {
          "base_uri": "https://localhost:8080/"
        },
        "id": "3U-Vr7okXDyi",
        "outputId": "44267048-918b-4f21-b909-b5f23cbc45aa"
      },
      "source": [
        "similarity_simple = cos_similarity(vec1, vec3)\n",
        "print('vec1, vec3 코사인 유사도: {0:.5f}'.format(similarity_simple))"
      ],
      "execution_count": 22,
      "outputs": [
        {
          "output_type": "stream",
          "text": [
            "vec1, vec3 코사인 유사도: 0.40425\n"
          ],
          "name": "stdout"
        }
      ]
    },
    {
      "cell_type": "code",
      "metadata": {
        "colab": {
          "base_uri": "https://localhost:8080/"
        },
        "id": "iNfFZ3LmXMOq",
        "outputId": "f6505e49-6b7c-42c5-eeb1-06bf2aefbe9a"
      },
      "source": [
        "similarity_simple = cos_similarity(vec2, vec3)\n",
        "print('vec2, vec3 코사인 유사도: {0:.5f}'.format(similarity_simple))"
      ],
      "execution_count": 23,
      "outputs": [
        {
          "output_type": "stream",
          "text": [
            "vec2, vec3 코사인 유사도: 0.45647\n"
          ],
          "name": "stdout"
        }
      ]
    },
    {
      "cell_type": "code",
      "metadata": {
        "colab": {
          "base_uri": "https://localhost:8080/"
        },
        "id": "g1zVtJHqXPWx",
        "outputId": "940dc954-d15d-411a-fcdb-319edafd545a"
      },
      "source": [
        "from sklearn.metrics.pairwise import cosine_similarity\n",
        "\n",
        "cosine_similarity(feature_vec_simple[0], feature_vec_simple)"
      ],
      "execution_count": 24,
      "outputs": [
        {
          "output_type": "execute_result",
          "data": {
            "text/plain": [
              "array([[1.        , 0.40207758, 0.40425045]])"
            ]
          },
          "metadata": {
            "tags": []
          },
          "execution_count": 24
        }
      ]
    },
    {
      "cell_type": "code",
      "metadata": {
        "colab": {
          "base_uri": "https://localhost:8080/"
        },
        "id": "t2_Ye45KXfkg",
        "outputId": "9b05f1e7-bf55-43a0-a136-efd5e7b9a408"
      },
      "source": [
        "cosine_similarity(feature_vec_simple[0], feature_vec_simple[1:])"
      ],
      "execution_count": 26,
      "outputs": [
        {
          "output_type": "execute_result",
          "data": {
            "text/plain": [
              "array([[0.40207758, 0.40425045]])"
            ]
          },
          "metadata": {
            "tags": []
          },
          "execution_count": 26
        }
      ]
    },
    {
      "cell_type": "code",
      "metadata": {
        "colab": {
          "base_uri": "https://localhost:8080/"
        },
        "id": "6qz2DoxAXoPB",
        "outputId": "aadfa440-300d-4ed5-f48d-51cbd9b7be3f"
      },
      "source": [
        "cosine_similarity(feature_vec_simple, feature_vec_simple)"
      ],
      "execution_count": 27,
      "outputs": [
        {
          "output_type": "execute_result",
          "data": {
            "text/plain": [
              "array([[1.        , 0.40207758, 0.40425045],\n",
              "       [0.40207758, 1.        , 0.45647296],\n",
              "       [0.40425045, 0.45647296, 1.        ]])"
            ]
          },
          "metadata": {
            "tags": []
          },
          "execution_count": 27
        }
      ]
    },
    {
      "cell_type": "code",
      "metadata": {
        "id": "IK5zgATpXuVg"
      },
      "source": [
        "sent_list = ['I eat an apple', 'Song have fruit', 'I sell an apple']"
      ],
      "execution_count": 28,
      "outputs": []
    },
    {
      "cell_type": "code",
      "metadata": {
        "id": "XxKSZ52UX6sJ"
      },
      "source": [
        "tfidf_vec = TfidfVectorizer()\n",
        "feature_vec = tfidf_vec.fit_transform(sent_list)"
      ],
      "execution_count": 29,
      "outputs": []
    },
    {
      "cell_type": "code",
      "metadata": {
        "colab": {
          "base_uri": "https://localhost:8080/"
        },
        "id": "vbfMCrLUYDIK",
        "outputId": "b819a93f-9f1e-4fb1-824f-3d6cb85ebced"
      },
      "source": [
        "cosine_similarity(feature_vec, feature_vec)"
      ],
      "execution_count": 30,
      "outputs": [
        {
          "output_type": "execute_result",
          "data": {
            "text/plain": [
              "array([[1.        , 0.        , 0.53634991],\n",
              "       [0.        , 1.        , 0.        ],\n",
              "       [0.53634991, 0.        , 1.        ]])"
            ]
          },
          "metadata": {
            "tags": []
          },
          "execution_count": 30
        }
      ]
    },
    {
      "cell_type": "code",
      "metadata": {
        "id": "fKvHmTj7YHK6"
      },
      "source": [
        "import tensorflow_hub as hub\n",
        "\n",
        "embed = hub.load('https://tfhub.dev/google/Wiki-words-250/2')\n",
        "\n",
        "words = ['apple', 'eat', 'fruit', 'have', 'sell']\n",
        "\n",
        "embeddings = embed(words)"
      ],
      "execution_count": 31,
      "outputs": []
    },
    {
      "cell_type": "code",
      "metadata": {
        "colab": {
          "base_uri": "https://localhost:8080/"
        },
        "id": "qiivSufDZPrx",
        "outputId": "9ffc596e-2244-4896-a427-6857648226a2"
      },
      "source": [
        "import numpy as np\n",
        "\n",
        "for i in range(len(words)):\n",
        "  for j in range(i, len(words)):\n",
        "    print(\"(\",words[i], \",\", words[j],\")\",np.inner(embeddings[i], embeddings[j]))"
      ],
      "execution_count": 32,
      "outputs": [
        {
          "output_type": "stream",
          "text": [
            "( apple , apple ) 1.0\n",
            "( apple , eat ) 0.48909307\n",
            "( apple , fruit ) 0.78753763\n",
            "( apple , have ) 0.13348329\n",
            "( apple , sell ) 0.106232405\n",
            "( eat , eat ) 1.0\n",
            "( eat , fruit ) 0.53294003\n",
            "( eat , have ) 0.3232242\n",
            "( eat , sell ) 0.2691978\n",
            "( fruit , fruit ) 1.0\n",
            "( fruit , have ) 0.13598028\n",
            "( fruit , sell ) 0.11212408\n",
            "( have , have ) 1.0\n",
            "( have , sell ) 0.21071003\n",
            "( sell , sell ) 1.0\n"
          ],
          "name": "stdout"
        }
      ]
    },
    {
      "cell_type": "code",
      "metadata": {
        "id": "6Ix4IhizZYyZ"
      },
      "source": [
        ""
      ],
      "execution_count": null,
      "outputs": []
    }
  ]
}