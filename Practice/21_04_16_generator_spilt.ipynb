{
 "cells": [
  {
   "cell_type": "code",
   "execution_count": null,
   "id": "thousand-irish",
   "metadata": {},
   "outputs": [],
   "source": [
    "# image directory\n",
    "image_dir = 'final_0and1'\n",
    "\n",
    "random_seed = 414\n",
    "\n",
    "datagen = ImageDataGenerator(rescale = 1./255, validation_split=0.3)\n",
    "\n",
    "train_generator = datagen.flow_from_directory(image_dir,target_size = (640, 640), seed=random_seed,\n",
    "                                                    batch_size = 10, class_mode = 'categorical', subset='training')\n",
    "valid_generator = datagen.flow_from_directory(image_dir, target_size=(640, 640), seed=random_seed,\n",
    "                                              batch_size=10, class_mode='categorical', subset='validation')\n"
   ]
  },
  {
   "cell_type": "code",
   "execution_count": null,
   "id": "confident-motor",
   "metadata": {},
   "outputs": [],
   "source": [
    "import pathlib\n",
    "from glob import glob\n",
    "\n",
    "data_root = pathlib.Path(glob('/content/*/')[0])\n",
    "print(data_root)\n",
    "# label = ['0','1']\n",
    "\n",
    "all_image_paths = list(data_root.glob('*/*'))\n",
    "all_image_paths = [str(path) for path in all_image_paths]\n",
    "\n",
    "for img_path in all_image_paths:\n",
    "    img = image.load_img(img_path)\n",
    "    # convert PIL.Image.Image type to 3D tensor with shape (224, 224, 3)\n",
    "    x = image.img_to_array(img)\n",
    "    # convert 3D tensor to 4D tensor with shape (1, 224, 224, 3) and return 4D tensor\n",
    "    # 해당 경로의 이미지를\n",
    "    print(img_path)\n",
    "    # numpy array 로 변경해서 출력\n",
    "    print(x)\n",
    "\n",
    "print(len(x))\n"
   ]
  }
 ],
 "metadata": {
  "kernelspec": {
   "display_name": "Python 3",
   "language": "python",
   "name": "python3"
  },
  "language_info": {
   "codemirror_mode": {
    "name": "ipython",
    "version": 3
   },
   "file_extension": ".py",
   "mimetype": "text/x-python",
   "name": "python",
   "nbconvert_exporter": "python",
   "pygments_lexer": "ipython3",
   "version": "3.6.9"
  }
 },
 "nbformat": 4,
 "nbformat_minor": 5
}
