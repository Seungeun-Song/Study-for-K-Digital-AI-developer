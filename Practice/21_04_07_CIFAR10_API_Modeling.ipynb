{
  "nbformat": 4,
  "nbformat_minor": 0,
  "metadata": {
    "colab": {
      "name": "3_CIFAR10_API_Modeling.ipynb",
      "provenance": []
    },
    "kernelspec": {
      "name": "python3",
      "display_name": "Python 3"
    },
    "language_info": {
      "name": "python"
    },
    "accelerator": "GPU"
  },
  "cells": [
    {
      "cell_type": "code",
      "metadata": {
        "colab": {
          "base_uri": "https://localhost:8080/"
        },
        "id": "JVMHQwtu2foG",
        "outputId": "f632371c-9166-45dc-82a6-c9a9b25770ca"
      },
      "source": [
        "from keras.datasets import cifar10\n",
        "\n",
        "(X_train, y_train), (X_test, y_test) = cifar10.load_data()"
      ],
      "execution_count": 1,
      "outputs": [
        {
          "output_type": "stream",
          "text": [
            "Downloading data from https://www.cs.toronto.edu/~kriz/cifar-10-python.tar.gz\n",
            "170500096/170498071 [==============================] - 4s 0us/step\n"
          ],
          "name": "stdout"
        }
      ]
    },
    {
      "cell_type": "code",
      "metadata": {
        "colab": {
          "base_uri": "https://localhost:8080/"
        },
        "id": "LaLXKPiT2osF",
        "outputId": "76bcb991-0071-4a3b-fce7-1288cdd56e41"
      },
      "source": [
        "X_train.shape, y_train.shape, X_test.shape, y_test.shape"
      ],
      "execution_count": 2,
      "outputs": [
        {
          "output_type": "execute_result",
          "data": {
            "text/plain": [
              "((50000, 32, 32, 3), (50000, 1), (10000, 32, 32, 3), (10000, 1))"
            ]
          },
          "metadata": {
            "tags": []
          },
          "execution_count": 2
        }
      ]
    },
    {
      "cell_type": "code",
      "metadata": {
        "id": "_2pjkdFf2t0S"
      },
      "source": [
        "X_train = X_train.astype(float)/255\n",
        "X_test = X_test.astype(float)/255"
      ],
      "execution_count": 3,
      "outputs": []
    },
    {
      "cell_type": "code",
      "metadata": {
        "colab": {
          "base_uri": "https://localhost:8080/"
        },
        "id": "qLJ2bTbQ22Y4",
        "outputId": "3da3c891-e938-4d77-9128-a54780425f89"
      },
      "source": [
        "from keras.utils import to_categorical\n",
        "\n",
        "y_train = to_categorical(y_train)\n",
        "y_test = to_categorical(y_test)\n",
        "y_train.shape"
      ],
      "execution_count": 4,
      "outputs": [
        {
          "output_type": "execute_result",
          "data": {
            "text/plain": [
              "(50000, 10)"
            ]
          },
          "metadata": {
            "tags": []
          },
          "execution_count": 4
        }
      ]
    },
    {
      "cell_type": "code",
      "metadata": {
        "colab": {
          "base_uri": "https://localhost:8080/"
        },
        "id": "nIdxf3F_3IqY",
        "outputId": "1417b51d-ef1c-4788-db8b-403ceffe6fe2"
      },
      "source": [
        "from sklearn.model_selection import train_test_split\n",
        "\n",
        "X_train, X_valid, y_train, y_valid = train_test_split(X_train, y_train, test_size=0.2, random_state=2045)\n",
        "\n",
        "X_train.shape, X_valid.shape, y_train.shape, y_valid.shape"
      ],
      "execution_count": 5,
      "outputs": [
        {
          "output_type": "execute_result",
          "data": {
            "text/plain": [
              "((40000, 32, 32, 3), (10000, 32, 32, 3), (40000, 10), (10000, 10))"
            ]
          },
          "metadata": {
            "tags": []
          },
          "execution_count": 5
        }
      ]
    },
    {
      "cell_type": "code",
      "metadata": {
        "colab": {
          "base_uri": "https://localhost:8080/"
        },
        "id": "KDs04-2o3ahl",
        "outputId": "15c0a44b-5178-4a69-cc67-f22c64bc8d90"
      },
      "source": [
        "%%time\n",
        "\n",
        "from keras import models, layers\n",
        "\n",
        "# define\n",
        "input_img = layers.Input((32,32,3))\n",
        "x = layers.Conv2D(32, (3,3),  padding='same')(input_img)\n",
        "x = layers.BatchNormalization()(x)\n",
        "x = layers.LeakyReLU()(x)\n",
        "\n",
        "x = layers.Conv2D(124, (3,3), padding='same')(x)\n",
        "x = layers.BatchNormalization()(x)\n",
        "x = layers.LeakyReLU()(x)\n",
        "x = layers.Dropout(0.5)(x)\n",
        "\n",
        "x = layers.Conv2D(124, (3,3), padding='same')(x)\n",
        "x = layers.BatchNormalization()(x)\n",
        "x = layers.LeakyReLU()(x)\n",
        "\n",
        "x = layers.Conv2D(268, (3,3), padding='same')(x)\n",
        "x = layers.BatchNormalization()(x)\n",
        "x = layers.LeakyReLU()(x)\n",
        "x = layers.Dropout(0.5)(x)\n",
        "\n",
        "x = layers.Flatten()(x)\n",
        "\n",
        "x = layers.Dense(128)(x)\n",
        "x = layers.BatchNormalization()(x)\n",
        "x = layers.LeakyReLU()(x)\n",
        "x = layers.Dropout(0.5)(x)\n",
        "\n",
        "x = layers.Dense(10)(x)\n",
        "output_y_hat = layers.Activation('softmax')(x)\n",
        "\n",
        "model = models.Model(input_img, output_y_hat)\n",
        "\n",
        "model.summary()\n",
        "\n",
        "# compile\n",
        "model.compile(loss='categorical_crossentropy', optimizer='adam', metrics=['accuracy'])"
      ],
      "execution_count": 6,
      "outputs": [
        {
          "output_type": "stream",
          "text": [
            "Model: \"model\"\n",
            "_________________________________________________________________\n",
            "Layer (type)                 Output Shape              Param #   \n",
            "=================================================================\n",
            "input_1 (InputLayer)         [(None, 32, 32, 3)]       0         \n",
            "_________________________________________________________________\n",
            "conv2d (Conv2D)              (None, 32, 32, 32)        896       \n",
            "_________________________________________________________________\n",
            "batch_normalization (BatchNo (None, 32, 32, 32)        128       \n",
            "_________________________________________________________________\n",
            "leaky_re_lu (LeakyReLU)      (None, 32, 32, 32)        0         \n",
            "_________________________________________________________________\n",
            "conv2d_1 (Conv2D)            (None, 32, 32, 124)       35836     \n",
            "_________________________________________________________________\n",
            "batch_normalization_1 (Batch (None, 32, 32, 124)       496       \n",
            "_________________________________________________________________\n",
            "leaky_re_lu_1 (LeakyReLU)    (None, 32, 32, 124)       0         \n",
            "_________________________________________________________________\n",
            "dropout (Dropout)            (None, 32, 32, 124)       0         \n",
            "_________________________________________________________________\n",
            "conv2d_2 (Conv2D)            (None, 32, 32, 124)       138508    \n",
            "_________________________________________________________________\n",
            "batch_normalization_2 (Batch (None, 32, 32, 124)       496       \n",
            "_________________________________________________________________\n",
            "leaky_re_lu_2 (LeakyReLU)    (None, 32, 32, 124)       0         \n",
            "_________________________________________________________________\n",
            "conv2d_3 (Conv2D)            (None, 32, 32, 268)       299356    \n",
            "_________________________________________________________________\n",
            "batch_normalization_3 (Batch (None, 32, 32, 268)       1072      \n",
            "_________________________________________________________________\n",
            "leaky_re_lu_3 (LeakyReLU)    (None, 32, 32, 268)       0         \n",
            "_________________________________________________________________\n",
            "dropout_1 (Dropout)          (None, 32, 32, 268)       0         \n",
            "_________________________________________________________________\n",
            "flatten (Flatten)            (None, 274432)            0         \n",
            "_________________________________________________________________\n",
            "dense (Dense)                (None, 128)               35127424  \n",
            "_________________________________________________________________\n",
            "batch_normalization_4 (Batch (None, 128)               512       \n",
            "_________________________________________________________________\n",
            "leaky_re_lu_4 (LeakyReLU)    (None, 128)               0         \n",
            "_________________________________________________________________\n",
            "dropout_2 (Dropout)          (None, 128)               0         \n",
            "_________________________________________________________________\n",
            "dense_1 (Dense)              (None, 10)                1290      \n",
            "_________________________________________________________________\n",
            "activation (Activation)      (None, 10)                0         \n",
            "=================================================================\n",
            "Total params: 35,606,014\n",
            "Trainable params: 35,604,662\n",
            "Non-trainable params: 1,352\n",
            "_________________________________________________________________\n",
            "CPU times: user 514 ms, sys: 243 ms, total: 757 ms\n",
            "Wall time: 5.47 s\n"
          ],
          "name": "stdout"
        }
      ]
    },
    {
      "cell_type": "code",
      "metadata": {
        "colab": {
          "base_uri": "https://localhost:8080/"
        },
        "id": "-YCpwGJs5C6T",
        "outputId": "55ec0b2f-360b-4eb2-9604-0065181bcf1b"
      },
      "source": [
        "%%time\n",
        "Hist = model.fit(X_train, y_train, epochs=100, batch_size=512, validation_data=(X_valid, y_valid))"
      ],
      "execution_count": 7,
      "outputs": [
        {
          "output_type": "stream",
          "text": [
            "Epoch 1/100\n",
            "79/79 [==============================] - 72s 439ms/step - loss: 2.0086 - accuracy: 0.3545 - val_loss: 2.8788 - val_accuracy: 0.1391\n",
            "Epoch 2/100\n",
            "79/79 [==============================] - 32s 409ms/step - loss: 1.3134 - accuracy: 0.5346 - val_loss: 3.2799 - val_accuracy: 0.1624\n",
            "Epoch 3/100\n",
            "79/79 [==============================] - 33s 414ms/step - loss: 1.0809 - accuracy: 0.6204 - val_loss: 3.0794 - val_accuracy: 0.1630\n",
            "Epoch 4/100\n",
            "79/79 [==============================] - 33s 420ms/step - loss: 0.9375 - accuracy: 0.6723 - val_loss: 2.5631 - val_accuracy: 0.2832\n",
            "Epoch 5/100\n",
            "79/79 [==============================] - 34s 426ms/step - loss: 0.8678 - accuracy: 0.6978 - val_loss: 1.7534 - val_accuracy: 0.4112\n",
            "Epoch 6/100\n",
            "79/79 [==============================] - 34s 427ms/step - loss: 0.8064 - accuracy: 0.7183 - val_loss: 1.3453 - val_accuracy: 0.5431\n",
            "Epoch 7/100\n",
            "79/79 [==============================] - 34s 432ms/step - loss: 0.7400 - accuracy: 0.7447 - val_loss: 1.3153 - val_accuracy: 0.5973\n",
            "Epoch 8/100\n",
            "79/79 [==============================] - 34s 433ms/step - loss: 0.6898 - accuracy: 0.7622 - val_loss: 0.9035 - val_accuracy: 0.6842\n",
            "Epoch 9/100\n",
            "79/79 [==============================] - 34s 434ms/step - loss: 0.6411 - accuracy: 0.7771 - val_loss: 1.0481 - val_accuracy: 0.6577\n",
            "Epoch 10/100\n",
            "79/79 [==============================] - 34s 434ms/step - loss: 0.6094 - accuracy: 0.7875 - val_loss: 1.2434 - val_accuracy: 0.6150\n",
            "Epoch 11/100\n",
            "79/79 [==============================] - 34s 435ms/step - loss: 0.5804 - accuracy: 0.7978 - val_loss: 0.8913 - val_accuracy: 0.7037\n",
            "Epoch 12/100\n",
            "79/79 [==============================] - 34s 436ms/step - loss: 0.5419 - accuracy: 0.8124 - val_loss: 0.8577 - val_accuracy: 0.7167\n",
            "Epoch 13/100\n",
            "79/79 [==============================] - 34s 437ms/step - loss: 0.5105 - accuracy: 0.8220 - val_loss: 0.8719 - val_accuracy: 0.7085\n",
            "Epoch 14/100\n",
            "79/79 [==============================] - 35s 439ms/step - loss: 0.4657 - accuracy: 0.8357 - val_loss: 1.3380 - val_accuracy: 0.6308\n",
            "Epoch 15/100\n",
            "79/79 [==============================] - 35s 439ms/step - loss: 0.4373 - accuracy: 0.8485 - val_loss: 0.8823 - val_accuracy: 0.7184\n",
            "Epoch 16/100\n",
            "79/79 [==============================] - 35s 438ms/step - loss: 0.4164 - accuracy: 0.8559 - val_loss: 1.3475 - val_accuracy: 0.6361\n",
            "Epoch 17/100\n",
            "79/79 [==============================] - 35s 437ms/step - loss: 0.3955 - accuracy: 0.8623 - val_loss: 1.0074 - val_accuracy: 0.6948\n",
            "Epoch 18/100\n",
            "79/79 [==============================] - 35s 439ms/step - loss: 0.3759 - accuracy: 0.8679 - val_loss: 0.9718 - val_accuracy: 0.7098\n",
            "Epoch 19/100\n",
            "79/79 [==============================] - 35s 440ms/step - loss: 0.3412 - accuracy: 0.8793 - val_loss: 0.9741 - val_accuracy: 0.7119\n",
            "Epoch 20/100\n",
            "79/79 [==============================] - 35s 439ms/step - loss: 0.3246 - accuracy: 0.8889 - val_loss: 0.9848 - val_accuracy: 0.7157\n",
            "Epoch 21/100\n",
            "79/79 [==============================] - 35s 439ms/step - loss: 0.2985 - accuracy: 0.8933 - val_loss: 1.0695 - val_accuracy: 0.6976\n",
            "Epoch 22/100\n",
            "79/79 [==============================] - 35s 438ms/step - loss: 0.2873 - accuracy: 0.9009 - val_loss: 1.2096 - val_accuracy: 0.6774\n",
            "Epoch 23/100\n",
            "79/79 [==============================] - 35s 438ms/step - loss: 0.2685 - accuracy: 0.9047 - val_loss: 1.0437 - val_accuracy: 0.7081\n",
            "Epoch 24/100\n",
            "79/79 [==============================] - 35s 440ms/step - loss: 0.2521 - accuracy: 0.9087 - val_loss: 1.0794 - val_accuracy: 0.7140\n",
            "Epoch 25/100\n",
            "79/79 [==============================] - 35s 439ms/step - loss: 0.2447 - accuracy: 0.9135 - val_loss: 1.1261 - val_accuracy: 0.7014\n",
            "Epoch 26/100\n",
            "79/79 [==============================] - 35s 440ms/step - loss: 0.2330 - accuracy: 0.9165 - val_loss: 1.0675 - val_accuracy: 0.7173\n",
            "Epoch 27/100\n",
            "79/79 [==============================] - 35s 439ms/step - loss: 0.2293 - accuracy: 0.9195 - val_loss: 1.1263 - val_accuracy: 0.7097\n",
            "Epoch 28/100\n",
            "79/79 [==============================] - 35s 438ms/step - loss: 0.2136 - accuracy: 0.9240 - val_loss: 1.2269 - val_accuracy: 0.6957\n",
            "Epoch 29/100\n",
            "79/79 [==============================] - 35s 439ms/step - loss: 0.1960 - accuracy: 0.9301 - val_loss: 1.1866 - val_accuracy: 0.7093\n",
            "Epoch 30/100\n",
            "79/79 [==============================] - 35s 440ms/step - loss: 0.1944 - accuracy: 0.9321 - val_loss: 1.2109 - val_accuracy: 0.7003\n",
            "Epoch 31/100\n",
            "79/79 [==============================] - 35s 440ms/step - loss: 0.1904 - accuracy: 0.9334 - val_loss: 1.1973 - val_accuracy: 0.7124\n",
            "Epoch 32/100\n",
            "79/79 [==============================] - 35s 440ms/step - loss: 0.1793 - accuracy: 0.9377 - val_loss: 1.1562 - val_accuracy: 0.7102\n",
            "Epoch 33/100\n",
            "79/79 [==============================] - 35s 440ms/step - loss: 0.1608 - accuracy: 0.9432 - val_loss: 1.1838 - val_accuracy: 0.7225\n",
            "Epoch 34/100\n",
            "79/79 [==============================] - 35s 439ms/step - loss: 0.1575 - accuracy: 0.9430 - val_loss: 1.2456 - val_accuracy: 0.7109\n",
            "Epoch 35/100\n",
            "79/79 [==============================] - 35s 438ms/step - loss: 0.1569 - accuracy: 0.9444 - val_loss: 1.2460 - val_accuracy: 0.7080\n",
            "Epoch 36/100\n",
            "79/79 [==============================] - 35s 439ms/step - loss: 0.1540 - accuracy: 0.9462 - val_loss: 1.5112 - val_accuracy: 0.6814\n",
            "Epoch 37/100\n",
            "79/79 [==============================] - 35s 440ms/step - loss: 0.1702 - accuracy: 0.9410 - val_loss: 1.2833 - val_accuracy: 0.7113\n",
            "Epoch 38/100\n",
            "79/79 [==============================] - 35s 440ms/step - loss: 0.1375 - accuracy: 0.9510 - val_loss: 1.3401 - val_accuracy: 0.7056\n",
            "Epoch 39/100\n",
            "79/79 [==============================] - 35s 440ms/step - loss: 0.1455 - accuracy: 0.9485 - val_loss: 1.2724 - val_accuracy: 0.7135\n",
            "Epoch 40/100\n",
            "79/79 [==============================] - 35s 439ms/step - loss: 0.1305 - accuracy: 0.9547 - val_loss: 1.2883 - val_accuracy: 0.7130\n",
            "Epoch 41/100\n",
            "79/79 [==============================] - 35s 438ms/step - loss: 0.1329 - accuracy: 0.9538 - val_loss: 1.2790 - val_accuracy: 0.7187\n",
            "Epoch 42/100\n",
            "79/79 [==============================] - 35s 440ms/step - loss: 0.1298 - accuracy: 0.9530 - val_loss: 1.2660 - val_accuracy: 0.7205\n",
            "Epoch 43/100\n",
            "79/79 [==============================] - 35s 440ms/step - loss: 0.1238 - accuracy: 0.9557 - val_loss: 1.3125 - val_accuracy: 0.7211\n",
            "Epoch 44/100\n",
            "79/79 [==============================] - 35s 440ms/step - loss: 0.1131 - accuracy: 0.9597 - val_loss: 1.3187 - val_accuracy: 0.7241\n",
            "Epoch 45/100\n",
            "79/79 [==============================] - 35s 439ms/step - loss: 0.1265 - accuracy: 0.9555 - val_loss: 1.5179 - val_accuracy: 0.6819\n",
            "Epoch 46/100\n",
            "79/79 [==============================] - 35s 439ms/step - loss: 0.1309 - accuracy: 0.9538 - val_loss: 1.3264 - val_accuracy: 0.7220\n",
            "Epoch 47/100\n",
            "79/79 [==============================] - 35s 440ms/step - loss: 0.1137 - accuracy: 0.9607 - val_loss: 1.3065 - val_accuracy: 0.7191\n",
            "Epoch 48/100\n",
            "79/79 [==============================] - 35s 440ms/step - loss: 0.1077 - accuracy: 0.9636 - val_loss: 1.4900 - val_accuracy: 0.6993\n",
            "Epoch 49/100\n",
            "79/79 [==============================] - 35s 440ms/step - loss: 0.1094 - accuracy: 0.9625 - val_loss: 1.4270 - val_accuracy: 0.7199\n",
            "Epoch 50/100\n",
            "79/79 [==============================] - 35s 440ms/step - loss: 0.0983 - accuracy: 0.9650 - val_loss: 1.3755 - val_accuracy: 0.7092\n",
            "Epoch 51/100\n",
            "79/79 [==============================] - 35s 440ms/step - loss: 0.1261 - accuracy: 0.9557 - val_loss: 1.5203 - val_accuracy: 0.7053\n",
            "Epoch 52/100\n",
            "79/79 [==============================] - 35s 439ms/step - loss: 0.1082 - accuracy: 0.9625 - val_loss: 1.4006 - val_accuracy: 0.7026\n",
            "Epoch 53/100\n",
            "79/79 [==============================] - 35s 439ms/step - loss: 0.1071 - accuracy: 0.9625 - val_loss: 1.5842 - val_accuracy: 0.7090\n",
            "Epoch 54/100\n",
            "79/79 [==============================] - 35s 440ms/step - loss: 0.0993 - accuracy: 0.9654 - val_loss: 1.4418 - val_accuracy: 0.7208\n",
            "Epoch 55/100\n",
            "79/79 [==============================] - 35s 440ms/step - loss: 0.0976 - accuracy: 0.9654 - val_loss: 1.4431 - val_accuracy: 0.7227\n",
            "Epoch 56/100\n",
            "79/79 [==============================] - 35s 440ms/step - loss: 0.0947 - accuracy: 0.9666 - val_loss: 1.4415 - val_accuracy: 0.7066\n",
            "Epoch 57/100\n",
            "79/79 [==============================] - 35s 438ms/step - loss: 0.0979 - accuracy: 0.9650 - val_loss: 1.4392 - val_accuracy: 0.7200\n",
            "Epoch 58/100\n",
            "79/79 [==============================] - 35s 439ms/step - loss: 0.0894 - accuracy: 0.9690 - val_loss: 1.5613 - val_accuracy: 0.7080\n",
            "Epoch 59/100\n",
            "79/79 [==============================] - 35s 439ms/step - loss: 0.1077 - accuracy: 0.9633 - val_loss: 1.6788 - val_accuracy: 0.6913\n",
            "Epoch 60/100\n",
            "79/79 [==============================] - 35s 439ms/step - loss: 0.1189 - accuracy: 0.9583 - val_loss: 1.5133 - val_accuracy: 0.7139\n",
            "Epoch 61/100\n",
            "79/79 [==============================] - 35s 440ms/step - loss: 0.0875 - accuracy: 0.9693 - val_loss: 1.4698 - val_accuracy: 0.7152\n",
            "Epoch 62/100\n",
            "79/79 [==============================] - 35s 440ms/step - loss: 0.0906 - accuracy: 0.9696 - val_loss: 1.4391 - val_accuracy: 0.7163\n",
            "Epoch 63/100\n",
            "79/79 [==============================] - 35s 440ms/step - loss: 0.0817 - accuracy: 0.9699 - val_loss: 1.4314 - val_accuracy: 0.7295\n",
            "Epoch 64/100\n",
            "79/79 [==============================] - 35s 438ms/step - loss: 0.0778 - accuracy: 0.9733 - val_loss: 1.4900 - val_accuracy: 0.7223\n",
            "Epoch 65/100\n",
            "79/79 [==============================] - 35s 439ms/step - loss: 0.0708 - accuracy: 0.9754 - val_loss: 1.6256 - val_accuracy: 0.6999\n",
            "Epoch 66/100\n",
            "79/79 [==============================] - 35s 440ms/step - loss: 0.0925 - accuracy: 0.9680 - val_loss: 1.4914 - val_accuracy: 0.7200\n",
            "Epoch 67/100\n",
            "79/79 [==============================] - 35s 440ms/step - loss: 0.0794 - accuracy: 0.9720 - val_loss: 1.5308 - val_accuracy: 0.7192\n",
            "Epoch 68/100\n",
            "79/79 [==============================] - 35s 441ms/step - loss: 0.0844 - accuracy: 0.9695 - val_loss: 1.6072 - val_accuracy: 0.7057\n",
            "Epoch 69/100\n",
            "79/79 [==============================] - 35s 440ms/step - loss: 0.0798 - accuracy: 0.9717 - val_loss: 1.6801 - val_accuracy: 0.7034\n",
            "Epoch 70/100\n",
            "79/79 [==============================] - 35s 440ms/step - loss: 0.0735 - accuracy: 0.9750 - val_loss: 1.5777 - val_accuracy: 0.7133\n",
            "Epoch 71/100\n",
            "79/79 [==============================] - 35s 440ms/step - loss: 0.0733 - accuracy: 0.9737 - val_loss: 1.6204 - val_accuracy: 0.7109\n",
            "Epoch 72/100\n",
            "79/79 [==============================] - 35s 439ms/step - loss: 0.0811 - accuracy: 0.9718 - val_loss: 1.6260 - val_accuracy: 0.7025\n",
            "Epoch 73/100\n",
            "79/79 [==============================] - 35s 439ms/step - loss: 0.0699 - accuracy: 0.9755 - val_loss: 1.5140 - val_accuracy: 0.7197\n",
            "Epoch 74/100\n",
            "79/79 [==============================] - 35s 439ms/step - loss: 0.0692 - accuracy: 0.9763 - val_loss: 1.5475 - val_accuracy: 0.7189\n",
            "Epoch 75/100\n",
            "79/79 [==============================] - 35s 440ms/step - loss: 0.0713 - accuracy: 0.9764 - val_loss: 1.5374 - val_accuracy: 0.7249\n",
            "Epoch 76/100\n",
            "79/79 [==============================] - 35s 441ms/step - loss: 0.0757 - accuracy: 0.9729 - val_loss: 1.5998 - val_accuracy: 0.7096\n",
            "Epoch 77/100\n",
            "79/79 [==============================] - 35s 440ms/step - loss: 0.0678 - accuracy: 0.9756 - val_loss: 1.5782 - val_accuracy: 0.7075\n",
            "Epoch 78/100\n",
            "79/79 [==============================] - 35s 440ms/step - loss: 0.0691 - accuracy: 0.9769 - val_loss: 1.7107 - val_accuracy: 0.6942\n",
            "Epoch 79/100\n",
            "79/79 [==============================] - 35s 439ms/step - loss: 0.0939 - accuracy: 0.9664 - val_loss: 1.6523 - val_accuracy: 0.7204\n",
            "Epoch 80/100\n",
            "79/79 [==============================] - 35s 439ms/step - loss: 0.0883 - accuracy: 0.9692 - val_loss: 1.6354 - val_accuracy: 0.7151\n",
            "Epoch 81/100\n",
            "79/79 [==============================] - 35s 439ms/step - loss: 0.0721 - accuracy: 0.9751 - val_loss: 1.7057 - val_accuracy: 0.7021\n",
            "Epoch 82/100\n",
            "79/79 [==============================] - 35s 439ms/step - loss: 0.0664 - accuracy: 0.9769 - val_loss: 1.6315 - val_accuracy: 0.7180\n",
            "Epoch 83/100\n",
            "79/79 [==============================] - 35s 439ms/step - loss: 0.0636 - accuracy: 0.9772 - val_loss: 1.7246 - val_accuracy: 0.6953\n",
            "Epoch 84/100\n",
            "79/79 [==============================] - 35s 440ms/step - loss: 0.0720 - accuracy: 0.9750 - val_loss: 1.6776 - val_accuracy: 0.7187\n",
            "Epoch 85/100\n",
            "79/79 [==============================] - 35s 439ms/step - loss: 0.0671 - accuracy: 0.9763 - val_loss: 1.5332 - val_accuracy: 0.7244\n",
            "Epoch 86/100\n",
            "79/79 [==============================] - 35s 440ms/step - loss: 0.0639 - accuracy: 0.9777 - val_loss: 1.6213 - val_accuracy: 0.7154\n",
            "Epoch 87/100\n",
            "79/79 [==============================] - 35s 440ms/step - loss: 0.0660 - accuracy: 0.9775 - val_loss: 1.7568 - val_accuracy: 0.6993\n",
            "Epoch 88/100\n",
            "79/79 [==============================] - 35s 441ms/step - loss: 0.0631 - accuracy: 0.9765 - val_loss: 1.6261 - val_accuracy: 0.7165\n",
            "Epoch 89/100\n",
            "79/79 [==============================] - 35s 439ms/step - loss: 0.0611 - accuracy: 0.9785 - val_loss: 1.5789 - val_accuracy: 0.7252\n",
            "Epoch 90/100\n",
            "79/79 [==============================] - 35s 439ms/step - loss: 0.0575 - accuracy: 0.9794 - val_loss: 1.6428 - val_accuracy: 0.7052\n",
            "Epoch 91/100\n",
            "79/79 [==============================] - 35s 440ms/step - loss: 0.0727 - accuracy: 0.9744 - val_loss: 1.6331 - val_accuracy: 0.7145\n",
            "Epoch 92/100\n",
            "79/79 [==============================] - 35s 440ms/step - loss: 0.0609 - accuracy: 0.9785 - val_loss: 1.6242 - val_accuracy: 0.7146\n",
            "Epoch 93/100\n",
            "79/79 [==============================] - 35s 441ms/step - loss: 0.0669 - accuracy: 0.9763 - val_loss: 1.7143 - val_accuracy: 0.7138\n",
            "Epoch 94/100\n",
            "79/79 [==============================] - 35s 441ms/step - loss: 0.0581 - accuracy: 0.9800 - val_loss: 1.6394 - val_accuracy: 0.7158\n",
            "Epoch 95/100\n",
            "79/79 [==============================] - 35s 440ms/step - loss: 0.0569 - accuracy: 0.9796 - val_loss: 1.7953 - val_accuracy: 0.7044\n",
            "Epoch 96/100\n",
            "79/79 [==============================] - 35s 440ms/step - loss: 0.0677 - accuracy: 0.9753 - val_loss: 1.6721 - val_accuracy: 0.7153\n",
            "Epoch 97/100\n",
            "79/79 [==============================] - 35s 440ms/step - loss: 0.0630 - accuracy: 0.9786 - val_loss: 1.7081 - val_accuracy: 0.7122\n",
            "Epoch 98/100\n",
            "79/79 [==============================] - 35s 438ms/step - loss: 0.0582 - accuracy: 0.9802 - val_loss: 1.6465 - val_accuracy: 0.7207\n",
            "Epoch 99/100\n",
            "79/79 [==============================] - 35s 439ms/step - loss: 0.0624 - accuracy: 0.9780 - val_loss: 1.6772 - val_accuracy: 0.7154\n",
            "Epoch 100/100\n",
            "79/79 [==============================] - 35s 440ms/step - loss: 0.0622 - accuracy: 0.9782 - val_loss: 1.6566 - val_accuracy: 0.7216\n",
            "CPU times: user 19min 59s, sys: 16min 5s, total: 36min 5s\n",
            "Wall time: 58min 16s\n"
          ],
          "name": "stdout"
        }
      ]
    },
    {
      "cell_type": "code",
      "metadata": {
        "colab": {
          "base_uri": "https://localhost:8080/"
        },
        "id": "yy_PrmXC5ela",
        "outputId": "fba121ee-c9b0-4c3b-f4e8-a6b970ff14cf"
      },
      "source": [
        "loss, accuracy = model.evaluate(X_test, y_test)\n",
        "loss, accuracy"
      ],
      "execution_count": 9,
      "outputs": [
        {
          "output_type": "stream",
          "text": [
            "313/313 [==============================] - 3s 10ms/step - loss: 1.6573 - accuracy: 0.7189\n"
          ],
          "name": "stdout"
        },
        {
          "output_type": "execute_result",
          "data": {
            "text/plain": [
              "(1.6572608947753906, 0.7189000248908997)"
            ]
          },
          "metadata": {
            "tags": []
          },
          "execution_count": 9
        }
      ]
    },
    {
      "cell_type": "code",
      "metadata": {
        "colab": {
          "base_uri": "https://localhost:8080/",
          "height": 682
        },
        "id": "G6HmaBZL6PrI",
        "outputId": "7bdafaf9-3036-410a-8719-af51c7c8ec73"
      },
      "source": [
        "import matplotlib.pyplot as plt\n",
        "\n",
        "epochs = range(1, len(Hist.history['loss']) + 1)\n",
        "plt.figure(figsize = (9, 6))\n",
        "plt.plot(epochs, Hist.history['loss'])\n",
        "plt.plot(epochs, Hist.history['val_loss'])\n",
        "plt.title('Training & Validation Loss')\n",
        "plt.xlabel('Epochs')\n",
        "plt.ylabel('Loss')\n",
        "plt.legend(['Training Loss', 'Validation Loss'])\n",
        "plt.grid()\n",
        "plt.show()\n",
        "\n",
        "plt.plot(epochs, Hist.history['accuracy'])\n",
        "plt.plot(epochs, Hist.history['val_accuracy'])\n",
        "plt.title('Training & Validation accuracy')\n",
        "plt.xlabel('Epochs')\n",
        "plt.ylabel('Loss')\n",
        "plt.legend(['Training accuracy', 'Validation accuracy'])\n",
        "plt.grid()\n",
        "plt.show()"
      ],
      "execution_count": 8,
      "outputs": [
        {
          "output_type": "display_data",
          "data": {
            "image/png": "[encoded data removed]",
            "text/plain": [
              "<Figure size 648x432 with 1 Axes>"
            ]
          },
          "metadata": {
            "tags": [],
            "needs_background": "light"
          }
        },
        {
          "output_type": "display_data",
          "data": {
            "image/png": "[encoded data removed]",
            "text/plain": [
              "<Figure size 432x288 with 1 Axes>"
            ]
          },
          "metadata": {
            "tags": [],
            "needs_background": "light"
          }
        }
      ]
    },
    {
      "cell_type": "code",
      "metadata": {
        "id": "NWPZ27_w6SDk"
      },
      "source": [
        ""
      ],
      "execution_count": null,
      "outputs": []
    }
  ]
}