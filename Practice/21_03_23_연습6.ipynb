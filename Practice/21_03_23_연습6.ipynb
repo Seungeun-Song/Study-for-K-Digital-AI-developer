{
  "nbformat": 4,
  "nbformat_minor": 0,
  "metadata": {
    "colab": {
      "name": "Untitled0.ipynb",
      "provenance": []
    },
    "kernelspec": {
      "name": "python3",
      "display_name": "Python 3"
    },
    "language_info": {
      "name": "python"
    },
    "accelerator": "GPU"
  },
  "cells": [
    {
      "cell_type": "code",
      "metadata": {
        "id": "O_svfgdm6t5f"
      },
      "source": [
        "from keras.datasets import cifar10\n",
        "\n",
        "(X_train, y_train), (X_test, y_test) = cifar10.load_data()\n",
        "\n",
        "\n",
        "print(X_train.shape, y_train.shape)\n",
        "print(X_test.shape, y_test.shape)"
      ],
      "execution_count": null,
      "outputs": []
    },
    {
      "cell_type": "code",
      "metadata": {
        "id": "8pfS6ZqHCMAy"
      },
      "source": [
        "X_train = X_train.astype(float)/255\n",
        "X_test = X_test.astype(float)/255"
      ],
      "execution_count": null,
      "outputs": []
    },
    {
      "cell_type": "code",
      "metadata": {
        "id": "GyXipAMkCS3n"
      },
      "source": [
        "print(X_train[0])"
      ],
      "execution_count": null,
      "outputs": []
    },
    {
      "cell_type": "code",
      "metadata": {
        "id": "jvbYEcDkCSyW"
      },
      "source": [
        "from keras.utils import to_categorical\n",
        "\n",
        "y_train = to_categorical(y_train)\n",
        "y_test= to_categorical(y_test)\n",
        "print(y_test[:5])"
      ],
      "execution_count": null,
      "outputs": []
    },
    {
      "cell_type": "code",
      "metadata": {
        "id": "45Ex7lsFH6v8"
      },
      "source": [
        "from sklearn.model_selection import train_test_split\n",
        "\n",
        "X_train, X_valid, y_train, y_valid = train_test_split(X_train, y_train, test_size=0.2, random_state=2045)"
      ],
      "execution_count": null,
      "outputs": []
    },
    {
      "cell_type": "code",
      "metadata": {
        "id": "De8OCmU9CS04"
      },
      "source": [
        "from keras import models, layers\n",
        "\n",
        "input_img = layers.input((32,32,3))\n",
        "\n",
        "x = layers.Conv2D(32, (3,3), strides=(1,1), padding='same')(input_img)\n",
        "x = layers.BatchNormalization()(x)\n",
        "x = layers.LeakyRelu()(x)\n",
        "\n",
        "x = layers.Conv2D(32, (3,3), strides=(2,2), padding ='same')(x)\n",
        "x = layers.BatchNormalization()(x)\n",
        "x = layers.LeakyRelu()(x)\n",
        "\n",
        "x = layers.conv2D(64, (3,3), strides=(1,1), padding='same')(x)\n",
        "x = layers.BatchNormalization()(x)\n",
        "x = layers.ReLu()(x)\n",
        "x = layers.Dropout(0.5)(x)\n",
        "\n",
        "x = layers.conv2D(128, (3,3), padding='same')(x)\n",
        "x = layers.BatchNormalization()(x)\n",
        "x = layers.Relu()(x)\n",
        "\n",
        "x = layers.Flatten()(x)\n",
        "\n",
        "x = layers.Dense(256)(x)\n",
        "x = layers.BatchNormalization()(x)\n",
        "x = layers.Tanh()(x)\n",
        "x = layers.Dropout(0.5)(x)\n",
        "\n",
        "x = layers.Dense(10)(x)\n",
        "output_y_hat = layers.Activation('softmax')(x)\n",
        "\n",
        "CIFAR = models.Model(input_img, output_y_hat)"
      ],
      "execution_count": null,
      "outputs": []
    },
    {
      "cell_type": "code",
      "metadata": {
        "id": "A2JlFK0iCSvu"
      },
      "source": [
        "CIFAR.summary()"
      ],
      "execution_count": null,
      "outputs": []
    },
    {
      "cell_type": "code",
      "metadata": {
        "id": "8TtTGfxfCStI"
      },
      "source": [
        "CIFAR.compile(loss='categorical_crossentropy', optimaizer='rmsprop', metrics=['accuracy'])"
      ],
      "execution_count": null,
      "outputs": []
    },
    {
      "cell_type": "code",
      "metadata": {
        "id": "6xrHydv3CSqW"
      },
      "source": [
        "Hist = CIFAR.fit(X_train, y_train, epochs=100, batch_size=128, validation_data=(X_valid, y_valid))"
      ],
      "execution_count": null,
      "outputs": []
    },
    {
      "cell_type": "code",
      "metadata": {
        "id": "01NQjqDgIKnb"
      },
      "source": [
        "import matplotlib.pyplot as plt\n",
        "\n",
        "epochs = range(1, len(Hist_CIFAR.history['loss'])+1)\n",
        "\n",
        "plt.plot(epochs, Hist_CIFAR.history['loss'])\n",
        "plt.plot(epochs, Hist_CIFAR.history['val_loss'])\n",
        "plt.legend(['Train Loss', 'Test Loss'])\n",
        "plt.grid()\n",
        "plt.show()\n",
        "\n",
        "plt.plot(epochs, Hist_CIFAR.history['accuracy'])\n",
        "plt.plot(epochs, Hist_CIFAR.history['val_accuracy'])\n",
        "plt.legend(['Train accuracy', 'Test accuracy'])\n",
        "plt.grid()\n",
        "plt.show()"
      ],
      "execution_count": null,
      "outputs": []
    },
    {
      "cell_type": "code",
      "metadata": {
        "id": "Vxy7fFWoIOT-"
      },
      "source": [
        "loss, accuracy = CIFAR.evaluate(X_test, y_test)\n",
        "loss, accuracy"
      ],
      "execution_count": null,
      "outputs": []
    }
  ]
}