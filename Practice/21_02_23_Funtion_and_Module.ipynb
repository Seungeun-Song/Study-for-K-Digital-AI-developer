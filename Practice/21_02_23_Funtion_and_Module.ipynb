{
  "nbformat": 4,
  "nbformat_minor": 0,
  "metadata": {
    "colab": {
      "name": "21.02.23_Funtion_and_Module.ipynb",
      "provenance": []
    },
    "kernelspec": {
      "name": "python3",
      "display_name": "Python 3"
    }
  },
  "cells": [
    {
      "cell_type": "code",
      "metadata": {
        "id": "8wr08Ed_sspj"
      },
      "source": [
        "def hap(x,y):\r\n",
        "  z = x + y\r\n",
        "  return z"
      ],
      "execution_count": 1,
      "outputs": []
    },
    {
      "cell_type": "code",
      "metadata": {
        "colab": {
          "base_uri": "https://localhost:8080/"
        },
        "id": "13GLFiaLs2hs",
        "outputId": "990626d5-b0f7-4e7f-8404-1b7952913271"
      },
      "source": [
        "hap(3,5)"
      ],
      "execution_count": 2,
      "outputs": [
        {
          "output_type": "execute_result",
          "data": {
            "text/plain": [
              "8"
            ]
          },
          "metadata": {
            "tags": []
          },
          "execution_count": 2
        }
      ]
    },
    {
      "cell_type": "code",
      "metadata": {
        "id": "eC8vfPy0s3hW"
      },
      "source": [
        "cha = lambda x,y : x - y"
      ],
      "execution_count": 3,
      "outputs": []
    },
    {
      "cell_type": "code",
      "metadata": {
        "colab": {
          "base_uri": "https://localhost:8080/"
        },
        "id": "gkLdXPv0s85_",
        "outputId": "19df7dcb-d830-4a35-9d2f-ae94bc781cf6"
      },
      "source": [
        "cha(3,6)"
      ],
      "execution_count": 4,
      "outputs": [
        {
          "output_type": "execute_result",
          "data": {
            "text/plain": [
              "-3"
            ]
          },
          "metadata": {
            "tags": []
          },
          "execution_count": 4
        }
      ]
    },
    {
      "cell_type": "code",
      "metadata": {
        "id": "-Y7BKRYhs-Mu"
      },
      "source": [
        "import time"
      ],
      "execution_count": 5,
      "outputs": []
    },
    {
      "cell_type": "code",
      "metadata": {
        "colab": {
          "base_uri": "https://localhost:8080/"
        },
        "id": "XdVBV-kWtBKe",
        "outputId": "79b8b77b-9a48-4034-9b0e-847b6b1e0969"
      },
      "source": [
        "print('스크립트 시작')\r\n",
        "time.sleep(2)\r\n",
        "print('스크립트 끝')"
      ],
      "execution_count": 6,
      "outputs": [
        {
          "output_type": "stream",
          "text": [
            "스크립트 시작\n",
            "스크립트 끝\n"
          ],
          "name": "stdout"
        }
      ]
    },
    {
      "cell_type": "code",
      "metadata": {
        "id": "ZxMlmSLqtHZH"
      },
      "source": [
        "import sys"
      ],
      "execution_count": 7,
      "outputs": []
    },
    {
      "cell_type": "code",
      "metadata": {
        "colab": {
          "base_uri": "https://localhost:8080/"
        },
        "id": "hogCNcaitJ3H",
        "outputId": "0b41f73a-292e-4c96-f9a7-42cef133f4d2"
      },
      "source": [
        "sys.path"
      ],
      "execution_count": 8,
      "outputs": [
        {
          "output_type": "execute_result",
          "data": {
            "text/plain": [
              "['',\n",
              " '/env/python',\n",
              " '/usr/lib/python36.zip',\n",
              " '/usr/lib/python3.6',\n",
              " '/usr/lib/python3.6/lib-dynload',\n",
              " '/usr/local/lib/python3.6/dist-packages',\n",
              " '/usr/lib/python3/dist-packages',\n",
              " '/usr/local/lib/python3.6/dist-packages/IPython/extensions',\n",
              " '/root/.ipython']"
            ]
          },
          "metadata": {
            "tags": []
          },
          "execution_count": 8
        }
      ]
    },
    {
      "cell_type": "code",
      "metadata": {
        "id": "nx14_DQOtKle"
      },
      "source": [
        "import time as t"
      ],
      "execution_count": 9,
      "outputs": []
    },
    {
      "cell_type": "code",
      "metadata": {
        "colab": {
          "base_uri": "https://localhost:8080/"
        },
        "id": "x5Rh4KtVtMa3",
        "outputId": "69a549fc-b485-4816-9de1-d855debef8e2"
      },
      "source": [
        "print('3초 후에 결과 출력')\r\n",
        "t.sleep(3)\r\n",
        "print('축하합니다. 합격입니다!')"
      ],
      "execution_count": 10,
      "outputs": [
        {
          "output_type": "stream",
          "text": [
            "3초 후에 결과 출력\n",
            "축하합니다. 합격입니다!\n"
          ],
          "name": "stdout"
        }
      ]
    },
    {
      "cell_type": "code",
      "metadata": {
        "id": "VQ-5UCoHtQ3g"
      },
      "source": [
        "import hello"
      ],
      "execution_count": 12,
      "outputs": []
    },
    {
      "cell_type": "code",
      "metadata": {
        "colab": {
          "base_uri": "https://localhost:8080/"
        },
        "id": "dfZnAnnqtacn",
        "outputId": "b5c1d416-da62-4d95-c6a0-f61c055939dc"
      },
      "source": [
        "hello.hi()"
      ],
      "execution_count": 13,
      "outputs": [
        {
          "output_type": "stream",
          "text": [
            "사용자 정의 함수 실행\n",
            "Hello World\n",
            "사용자 정의 함수 종료\n",
            "night night\n"
          ],
          "name": "stdout"
        }
      ]
    },
    {
      "cell_type": "code",
      "metadata": {
        "colab": {
          "base_uri": "https://localhost:8080/"
        },
        "id": "m_U6ipIDtcNP",
        "outputId": "a9703059-517e-440f-a6da-4969cc125a71"
      },
      "source": [
        "hello.bye()"
      ],
      "execution_count": 14,
      "outputs": [
        {
          "output_type": "stream",
          "text": [
            "night night\n"
          ],
          "name": "stdout"
        }
      ]
    },
    {
      "cell_type": "code",
      "metadata": {
        "id": "KqD-CxXlteGH"
      },
      "source": [
        "import myPKG.myLibrary"
      ],
      "execution_count": 16,
      "outputs": []
    },
    {
      "cell_type": "code",
      "metadata": {
        "colab": {
          "base_uri": "https://localhost:8080/"
        },
        "id": "-aK1PdZCt5P4",
        "outputId": "de20afe7-6153-4a8e-ad48-25cafba283a0"
      },
      "source": [
        "myPKG.myLibrary.hi()"
      ],
      "execution_count": 17,
      "outputs": [
        {
          "output_type": "stream",
          "text": [
            "첫번째 함수 실행\n"
          ],
          "name": "stdout"
        }
      ]
    },
    {
      "cell_type": "code",
      "metadata": {
        "colab": {
          "base_uri": "https://localhost:8080/"
        },
        "id": "Xw2eG2kNttN3",
        "outputId": "7a1c6edd-70d3-418e-cf65-be2c21e2a346"
      },
      "source": [
        "myPKG.myLibrary.hap(3,5)"
      ],
      "execution_count": 18,
      "outputs": [
        {
          "output_type": "execute_result",
          "data": {
            "text/plain": [
              "8"
            ]
          },
          "metadata": {
            "tags": []
          },
          "execution_count": 18
        }
      ]
    },
    {
      "cell_type": "code",
      "metadata": {
        "id": "jRVF3hs7tUA3"
      },
      "source": [
        "from myPKG.myLibrary import hi\r\n",
        "from myPKG.myLibrary import hap"
      ],
      "execution_count": 20,
      "outputs": []
    },
    {
      "cell_type": "code",
      "metadata": {
        "colab": {
          "base_uri": "https://localhost:8080/"
        },
        "id": "yoJsX-WpuPw2",
        "outputId": "e76719ea-f26e-465d-d0f7-0205ce165fe8"
      },
      "source": [
        "hi()"
      ],
      "execution_count": 21,
      "outputs": [
        {
          "output_type": "stream",
          "text": [
            "첫번째 함수 실행\n"
          ],
          "name": "stdout"
        }
      ]
    },
    {
      "cell_type": "code",
      "metadata": {
        "colab": {
          "base_uri": "https://localhost:8080/"
        },
        "id": "mxoV3VpvuaRG",
        "outputId": "904d1459-b356-4d8b-ce4c-5463a04553dd"
      },
      "source": [
        "hap(2,8)"
      ],
      "execution_count": 22,
      "outputs": [
        {
          "output_type": "execute_result",
          "data": {
            "text/plain": [
              "10"
            ]
          },
          "metadata": {
            "tags": []
          },
          "execution_count": 22
        }
      ]
    },
    {
      "cell_type": "code",
      "metadata": {
        "id": "jsu_btcQuelX"
      },
      "source": [
        "class myClass:\r\n",
        "  var_1 = 'Hello Class'\r\n",
        "\r\n",
        "  def func_1(self):\r\n",
        "    print(self.var_1, '클래수 함수 실행')"
      ],
      "execution_count": 31,
      "outputs": []
    },
    {
      "cell_type": "code",
      "metadata": {
        "id": "7pRi9cVbut6_"
      },
      "source": [
        "obj = myClass()"
      ],
      "execution_count": 25,
      "outputs": []
    },
    {
      "cell_type": "code",
      "metadata": {
        "colab": {
          "base_uri": "https://localhost:8080/",
          "height": 34
        },
        "id": "HmBwLMKVuxwO",
        "outputId": "0a82d81c-abc3-45bd-c413-7c4bc6ea08ca"
      },
      "source": [
        "obj.var_1"
      ],
      "execution_count": 26,
      "outputs": [
        {
          "output_type": "execute_result",
          "data": {
            "application/vnd.google.colaboratory.intrinsic+json": {
              "type": "string"
            },
            "text/plain": [
              "'Hello Class'"
            ]
          },
          "metadata": {
            "tags": []
          },
          "execution_count": 26
        }
      ]
    },
    {
      "cell_type": "code",
      "metadata": {
        "colab": {
          "base_uri": "https://localhost:8080/"
        },
        "id": "kYjHOZQRu1mP",
        "outputId": "9782bb7d-e9c9-4e57-cc37-1322e294ffa8"
      },
      "source": [
        "obj.func_1()"
      ],
      "execution_count": 32,
      "outputs": [
        {
          "output_type": "stream",
          "text": [
            "Hello Class 클래수 함수 실행\n"
          ],
          "name": "stdout"
        }
      ]
    },
    {
      "cell_type": "code",
      "metadata": {
        "id": "hrLfMOt8u6uO"
      },
      "source": [
        "class myglass:\r\n",
        "  var_1 = 'Hello !!Class'\r\n",
        "\r\n",
        "  def hi():\r\n",
        "    print( '클래수 함수 실행')"
      ],
      "execution_count": 1,
      "outputs": []
    },
    {
      "cell_type": "code",
      "metadata": {
        "id": "JDh-aBvhvOgT"
      },
      "source": [
        "a = myglass()"
      ],
      "execution_count": 2,
      "outputs": []
    },
    {
      "cell_type": "code",
      "metadata": {
        "colab": {
          "base_uri": "https://localhost:8080/",
          "height": 34
        },
        "id": "ikhQQPIuuqum",
        "outputId": "40d6f1e0-41e0-4eb6-a6f5-b1f7c1fce8b4"
      },
      "source": [
        "a.var_1"
      ],
      "execution_count": 5,
      "outputs": [
        {
          "output_type": "execute_result",
          "data": {
            "application/vnd.google.colaboratory.intrinsic+json": {
              "type": "string"
            },
            "text/plain": [
              "'Hello !!Class'"
            ]
          },
          "metadata": {
            "tags": []
          },
          "execution_count": 5
        }
      ]
    },
    {
      "cell_type": "code",
      "metadata": {
        "colab": {
          "base_uri": "https://localhost:8080/",
          "height": 169
        },
        "id": "hjc5tslYvzym",
        "outputId": "730cffa0-0351-46e2-f0dd-2abd254aa25f"
      },
      "source": [
        "a.hi()"
      ],
      "execution_count": 6,
      "outputs": [
        {
          "output_type": "error",
          "ename": "TypeError",
          "evalue": "ignored",
          "traceback": [
            "\u001b[0;31m---------------------------------------------------------------------------\u001b[0m",
            "\u001b[0;31mTypeError\u001b[0m                                 Traceback (most recent call last)",
            "\u001b[0;32m<ipython-input-6-3c0e1e88a492>\u001b[0m in \u001b[0;36m<module>\u001b[0;34m()\u001b[0m\n\u001b[0;32m----> 1\u001b[0;31m \u001b[0ma\u001b[0m\u001b[0;34m.\u001b[0m\u001b[0mhi\u001b[0m\u001b[0;34m(\u001b[0m\u001b[0;34m)\u001b[0m\u001b[0;34m\u001b[0m\u001b[0;34m\u001b[0m\u001b[0m\n\u001b[0m",
            "\u001b[0;31mTypeError\u001b[0m: hi() takes 0 positional arguments but 1 was given"
          ]
        }
      ]
    },
    {
      "cell_type": "code",
      "metadata": {
        "id": "l_JtKIDBwA-W"
      },
      "source": [
        "class myClass_1:\r\n",
        "  var_1='Class Member'\r\n",
        "\r\n",
        "  def func_1(self):\r\n",
        "    var_2 = 'Instance Member'\r\n",
        "    print('Method 내에 선언', var_2)\r\n",
        "    print('Class 내에 선언', self.var_1)\r\n",
        "\r\n",
        "  def func_2(self, x, y):\r\n",
        "    z = x + y\r\n",
        "    print('%s 더하기 %s는 %s'%(x,y,z))"
      ],
      "execution_count": 1,
      "outputs": []
    },
    {
      "cell_type": "code",
      "metadata": {
        "id": "hIZ5QajJwo83"
      },
      "source": [
        "obj_1 = myClass_1()"
      ],
      "execution_count": 3,
      "outputs": []
    },
    {
      "cell_type": "code",
      "metadata": {
        "colab": {
          "base_uri": "https://localhost:8080/",
          "height": 34
        },
        "id": "cHgPhXlKwsMl",
        "outputId": "9e3227ac-b9d1-4be3-a395-0fa631d9255a"
      },
      "source": [
        "obj_1.var_1"
      ],
      "execution_count": 12,
      "outputs": [
        {
          "output_type": "execute_result",
          "data": {
            "application/vnd.google.colaboratory.intrinsic+json": {
              "type": "string"
            },
            "text/plain": [
              "'Class Member'"
            ]
          },
          "metadata": {
            "tags": []
          },
          "execution_count": 12
        }
      ]
    },
    {
      "cell_type": "code",
      "metadata": {
        "colab": {
          "base_uri": "https://localhost:8080/",
          "height": 169
        },
        "id": "IrJ4q2SRvUmC",
        "outputId": "07f3230c-5c87-40e8-cd15-3b91124dced2"
      },
      "source": [
        "obj_1.var_2"
      ],
      "execution_count": 13,
      "outputs": [
        {
          "output_type": "error",
          "ename": "AttributeError",
          "evalue": "ignored",
          "traceback": [
            "\u001b[0;31m---------------------------------------------------------------------------\u001b[0m",
            "\u001b[0;31mAttributeError\u001b[0m                            Traceback (most recent call last)",
            "\u001b[0;32m<ipython-input-13-062f88125ce0>\u001b[0m in \u001b[0;36m<module>\u001b[0;34m()\u001b[0m\n\u001b[0;32m----> 1\u001b[0;31m \u001b[0mobj_1\u001b[0m\u001b[0;34m.\u001b[0m\u001b[0mvar_2\u001b[0m\u001b[0;34m\u001b[0m\u001b[0;34m\u001b[0m\u001b[0m\n\u001b[0m",
            "\u001b[0;31mAttributeError\u001b[0m: 'myClass_1' object has no attribute 'var_2'"
          ]
        }
      ]
    },
    {
      "cell_type": "code",
      "metadata": {
        "colab": {
          "base_uri": "https://localhost:8080/"
        },
        "id": "cdYEzL81wzuF",
        "outputId": "ef4d38f2-5e7a-45a6-9123-dbbfe3b6dac8"
      },
      "source": [
        "obj_1.func_1()"
      ],
      "execution_count": 14,
      "outputs": [
        {
          "output_type": "stream",
          "text": [
            "Method 내에 선언 Instance Member\n",
            "Class 내에 선언 Class Member\n"
          ],
          "name": "stdout"
        }
      ]
    },
    {
      "cell_type": "code",
      "metadata": {
        "colab": {
          "base_uri": "https://localhost:8080/"
        },
        "id": "x8TMLJqPw7Gl",
        "outputId": "c0d7bdf0-6c49-405b-bc2c-1a0a2a3efaf3"
      },
      "source": [
        "obj_1.func_2(3,5)"
      ],
      "execution_count": 4,
      "outputs": [
        {
          "output_type": "stream",
          "text": [
            "3 더하기 5는 8\n"
          ],
          "name": "stdout"
        }
      ]
    },
    {
      "cell_type": "code",
      "metadata": {
        "id": "6VpilDB8xI5k"
      },
      "source": [
        "class myClass_2:\r\n",
        "  def __init__(self):\r\n",
        "    print('myClass_2 인스턴스가 메모리에 생성되었습니다')\r\n",
        "\r\n",
        "  var_1 = 'Class Memeber'\r\n",
        "\r\n",
        "  def func_1(self):\r\n",
        "    print('Class Method')\r\n",
        "\r\n",
        "  def __del__(self):\r\n",
        "    print('myClass_2 인스턴스가 메모리에서 소멸되었습니다')"
      ],
      "execution_count": 5,
      "outputs": []
    },
    {
      "cell_type": "code",
      "metadata": {
        "colab": {
          "base_uri": "https://localhost:8080/"
        },
        "id": "kxhRYHsdyCSt",
        "outputId": "9988fc59-2383-4960-dffb-7ec41064d8f2"
      },
      "source": [
        "obj_2 = myClass_2()"
      ],
      "execution_count": 6,
      "outputs": [
        {
          "output_type": "stream",
          "text": [
            "myClass_2 인스턴스가 메모리에 생성되었습니다\n"
          ],
          "name": "stdout"
        }
      ]
    },
    {
      "cell_type": "code",
      "metadata": {
        "colab": {
          "base_uri": "https://localhost:8080/",
          "height": 34
        },
        "id": "EJVz6eLHyGKq",
        "outputId": "298173d9-1846-4c29-af62-7c59b8a187ec"
      },
      "source": [
        "obj_2.var_1"
      ],
      "execution_count": 7,
      "outputs": [
        {
          "output_type": "execute_result",
          "data": {
            "application/vnd.google.colaboratory.intrinsic+json": {
              "type": "string"
            },
            "text/plain": [
              "'Class Memeber'"
            ]
          },
          "metadata": {
            "tags": []
          },
          "execution_count": 7
        }
      ]
    },
    {
      "cell_type": "code",
      "metadata": {
        "colab": {
          "base_uri": "https://localhost:8080/"
        },
        "id": "fkJ3reWByJrN",
        "outputId": "7d710904-d222-45b5-b45d-d679a4bc159b"
      },
      "source": [
        "obj_2.func_1()"
      ],
      "execution_count": 8,
      "outputs": [
        {
          "output_type": "stream",
          "text": [
            "Class Method\n"
          ],
          "name": "stdout"
        }
      ]
    },
    {
      "cell_type": "code",
      "metadata": {
        "colab": {
          "base_uri": "https://localhost:8080/"
        },
        "id": "fgBdM_ItyMCO",
        "outputId": "ac911dc3-6161-4461-9f24-142b8ffd10d3"
      },
      "source": [
        "del obj_2"
      ],
      "execution_count": 9,
      "outputs": [
        {
          "output_type": "stream",
          "text": [
            "myClass_2 인스턴스가 메모리에서 소멸되었습니다\n"
          ],
          "name": "stdout"
        }
      ]
    },
    {
      "cell_type": "code",
      "metadata": {
        "id": "XZ7jHMTOyOOV"
      },
      "source": [
        "class Sum:\r\n",
        "  def add(self,x,y):\r\n",
        "    z = x + y\r\n",
        "    return z\r\n",
        "\r\n",
        "class Cop:\r\n",
        "  def mul(self, x, y):\r\n",
        "    z = x * y\r\n",
        "    return z\r\n",
        "\r\n",
        "class Computer(Sum, Cop):\r\n",
        "  def sub(self, x, y):\r\n",
        "    z = x - y\r\n",
        "    return z\r\n",
        "    "
      ],
      "execution_count": 10,
      "outputs": []
    },
    {
      "cell_type": "code",
      "metadata": {
        "id": "oFE7epLwywyP"
      },
      "source": [
        "obj_3 = Computer()"
      ],
      "execution_count": 11,
      "outputs": []
    },
    {
      "cell_type": "code",
      "metadata": {
        "colab": {
          "base_uri": "https://localhost:8080/"
        },
        "id": "aFPe2LnRy0bd",
        "outputId": "f48990cb-0e31-4079-cd26-a349dbe16147"
      },
      "source": [
        "obj_3.sub(3,5)"
      ],
      "execution_count": 12,
      "outputs": [
        {
          "output_type": "execute_result",
          "data": {
            "text/plain": [
              "-2"
            ]
          },
          "metadata": {
            "tags": []
          },
          "execution_count": 12
        }
      ]
    },
    {
      "cell_type": "code",
      "metadata": {
        "colab": {
          "base_uri": "https://localhost:8080/"
        },
        "id": "_QzF-nOMy21c",
        "outputId": "ca30b6b5-52d0-4810-a24f-81b3a9496b1c"
      },
      "source": [
        "obj_3.add(3,5)"
      ],
      "execution_count": 13,
      "outputs": [
        {
          "output_type": "execute_result",
          "data": {
            "text/plain": [
              "8"
            ]
          },
          "metadata": {
            "tags": []
          },
          "execution_count": 13
        }
      ]
    },
    {
      "cell_type": "code",
      "metadata": {
        "colab": {
          "base_uri": "https://localhost:8080/"
        },
        "id": "u-16YJqOy50N",
        "outputId": "f7098c83-7ed2-4d21-e465-29771fdffb50"
      },
      "source": [
        "obj_3.mul(3,5)"
      ],
      "execution_count": 14,
      "outputs": [
        {
          "output_type": "execute_result",
          "data": {
            "text/plain": [
              "15"
            ]
          },
          "metadata": {
            "tags": []
          },
          "execution_count": 14
        }
      ]
    },
    {
      "cell_type": "code",
      "metadata": {
        "id": "bDAGgByky8Hl"
      },
      "source": [
        ""
      ],
      "execution_count": null,
      "outputs": []
    }
  ]
}