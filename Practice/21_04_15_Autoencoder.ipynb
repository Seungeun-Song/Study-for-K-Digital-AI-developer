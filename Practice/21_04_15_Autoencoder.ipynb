{
 "cells": [
  {
   "cell_type": "code",
   "execution_count": 1,
   "id": "copyrighted-queensland",
   "metadata": {},
   "outputs": [
    {
     "name": "stdout",
     "output_type": "stream",
     "text": [
      "Downloading data from https://storage.googleapis.com/tensorflow/tf-keras-datasets/mnist.npz\n",
      "11493376/11490434 [==============================] - 0s 0us/step\n"
     ]
    }
   ],
   "source": [
    "from keras.datasets import mnist\n",
    "\n",
    "(X_train,_),(X_test,_) = mnist.load_data()"
   ]
  },
  {
   "cell_type": "code",
   "execution_count": 2,
   "id": "tutorial-georgia",
   "metadata": {},
   "outputs": [
    {
     "data": {
      "text/plain": [
       "((60000, 28, 28), (10000, 28, 28))"
      ]
     },
     "execution_count": 2,
     "metadata": {},
     "output_type": "execute_result"
    }
   ],
   "source": [
    "X_train.shape, X_test.shape"
   ]
  },
  {
   "cell_type": "code",
   "execution_count": 3,
   "id": "convinced-bulgaria",
   "metadata": {},
   "outputs": [
    {
     "data": {
      "text/plain": [
       "((60000, 784), (10000, 784))"
      ]
     },
     "execution_count": 3,
     "metadata": {},
     "output_type": "execute_result"
    }
   ],
   "source": [
    "X_train = X_train/255.\n",
    "X_test = X_test/255.\n",
    "\n",
    "X_train = X_train.reshape(60000, 28*28)\n",
    "X_test = X_test.reshape(10000, 28*28)\n",
    "\n",
    "X_train.shape, X_test.shape"
   ]
  },
  {
   "cell_type": "code",
   "execution_count": 4,
   "id": "incredible-competition",
   "metadata": {},
   "outputs": [],
   "source": [
    "#latent space\n",
    "encoding_dim = 32"
   ]
  },
  {
   "cell_type": "code",
   "execution_count": 5,
   "id": "dramatic-thong",
   "metadata": {},
   "outputs": [],
   "source": [
    "from keras import layers\n",
    "\n",
    "input_img = layers.Input(shape=(784,))\n",
    "\n",
    "encoded = layers.Dense(256, activation = 'elu')(input_img)\n",
    "encoded = layers.Dense(128, activation='elu')(encoded)\n",
    "encoded = layers.Dense(encoding_dim, activation='elu')(encoded)\n",
    "\n",
    "decoded = layers.Dense(128, activation='elu')(encoded)\n",
    "decoded =layers.Dense(256, activation='elu')(decoded)\n",
    "decoded = layers.Dense(784, activation='sigmoid')(decoded)"
   ]
  },
  {
   "cell_type": "code",
   "execution_count": 6,
   "id": "central-chester",
   "metadata": {},
   "outputs": [
    {
     "name": "stdout",
     "output_type": "stream",
     "text": [
      "Model: \"model\"\n",
      "_________________________________________________________________\n",
      "Layer (type)                 Output Shape              Param #   \n",
      "=================================================================\n",
      "input_1 (InputLayer)         [(None, 784)]             0         \n",
      "_________________________________________________________________\n",
      "dense (Dense)                (None, 256)               200960    \n",
      "_________________________________________________________________\n",
      "dense_1 (Dense)              (None, 128)               32896     \n",
      "_________________________________________________________________\n",
      "dense_2 (Dense)              (None, 32)                4128      \n",
      "_________________________________________________________________\n",
      "dense_3 (Dense)              (None, 128)               4224      \n",
      "_________________________________________________________________\n",
      "dense_4 (Dense)              (None, 256)               33024     \n",
      "_________________________________________________________________\n",
      "dense_5 (Dense)              (None, 784)               201488    \n",
      "=================================================================\n",
      "Total params: 476,720\n",
      "Trainable params: 476,720\n",
      "Non-trainable params: 0\n",
      "_________________________________________________________________\n"
     ]
    }
   ],
   "source": [
    "from keras import models\n",
    "\n",
    "autoencoder = models.Model(input_img, decoded) # Model(input, output)\n",
    "autoencoder.summary()"
   ]
  },
  {
   "cell_type": "code",
   "execution_count": 7,
   "id": "dirty-mobile",
   "metadata": {},
   "outputs": [
    {
     "name": "stdout",
     "output_type": "stream",
     "text": [
      "Model: \"model_1\"\n",
      "_________________________________________________________________\n",
      "Layer (type)                 Output Shape              Param #   \n",
      "=================================================================\n",
      "input_1 (InputLayer)         [(None, 784)]             0         \n",
      "_________________________________________________________________\n",
      "dense (Dense)                (None, 256)               200960    \n",
      "_________________________________________________________________\n",
      "dense_1 (Dense)              (None, 128)               32896     \n",
      "_________________________________________________________________\n",
      "dense_2 (Dense)              (None, 32)                4128      \n",
      "=================================================================\n",
      "Total params: 237,984\n",
      "Trainable params: 237,984\n",
      "Non-trainable params: 0\n",
      "_________________________________________________________________\n"
     ]
    }
   ],
   "source": [
    "encoder = models.Model(input_img, encoded)\n",
    "encoder.summary()                    "
   ]
  },
  {
   "cell_type": "code",
   "execution_count": 9,
   "id": "destroyed-basics",
   "metadata": {},
   "outputs": [
    {
     "name": "stdout",
     "output_type": "stream",
     "text": [
      "Model: \"model_2\"\n",
      "_________________________________________________________________\n",
      "Layer (type)                 Output Shape              Param #   \n",
      "=================================================================\n",
      "input_3 (InputLayer)         [(None, 32)]              0         \n",
      "_________________________________________________________________\n",
      "dense_3 (Dense)              (None, 128)               4224      \n",
      "_________________________________________________________________\n",
      "dense_4 (Dense)              (None, 256)               33024     \n",
      "_________________________________________________________________\n",
      "dense_5 (Dense)              (None, 784)               201488    \n",
      "=================================================================\n",
      "Total params: 238,736\n",
      "Trainable params: 238,736\n",
      "Non-trainable params: 0\n",
      "_________________________________________________________________\n"
     ]
    }
   ],
   "source": [
    "encoded_input = layers.Input(shape =(encoding_dim,))\n",
    "\n",
    "decoder_layer = autoencoder.layers[-3](encoded_input)\n",
    "decoder_layer = autoencoder.layers[-2](decoder_layer)\n",
    "decoder_layer = autoencoder.layers[-1](decoder_layer)\n",
    "\n",
    "decoder = models.Model(encoded_input, decoder_layer)\n",
    "decoder.summary()"
   ]
  },
  {
   "cell_type": "code",
   "execution_count": 11,
   "id": "silent-designation",
   "metadata": {},
   "outputs": [
    {
     "name": "stdout",
     "output_type": "stream",
     "text": [
      "Epoch 1/50\n",
      "235/235 [==============================] - 5s 17ms/step - loss: 0.2816 - val_loss: 0.1394\n",
      "Epoch 2/50\n",
      "235/235 [==============================] - 4s 16ms/step - loss: 0.1338 - val_loss: 0.1189\n",
      "Epoch 3/50\n",
      "235/235 [==============================] - 4s 16ms/step - loss: 0.1176 - val_loss: 0.1100\n",
      "Epoch 4/50\n",
      "235/235 [==============================] - 4s 16ms/step - loss: 0.1099 - val_loss: 0.1051\n",
      "Epoch 5/50\n",
      "235/235 [==============================] - 3s 12ms/step - loss: 0.1056 - val_loss: 0.1027\n",
      "Epoch 6/50\n",
      "235/235 [==============================] - 3s 14ms/step - loss: 0.1030 - val_loss: 0.1003\n",
      "Epoch 7/50\n",
      "235/235 [==============================] - 3s 14ms/step - loss: 0.1007 - val_loss: 0.0990\n",
      "Epoch 8/50\n",
      "235/235 [==============================] - 3s 14ms/step - loss: 0.0993 - val_loss: 0.0977\n",
      "Epoch 9/50\n",
      "235/235 [==============================] - 3s 14ms/step - loss: 0.0979 - val_loss: 0.0962\n",
      "Epoch 10/50\n",
      "235/235 [==============================] - 3s 14ms/step - loss: 0.0966 - val_loss: 0.0949\n",
      "Epoch 11/50\n",
      "235/235 [==============================] - 3s 14ms/step - loss: 0.0951 - val_loss: 0.0935\n",
      "Epoch 12/50\n",
      "235/235 [==============================] - 3s 14ms/step - loss: 0.0935 - val_loss: 0.0923\n",
      "Epoch 13/50\n",
      "235/235 [==============================] - 3s 15ms/step - loss: 0.0924 - val_loss: 0.0915\n",
      "Epoch 14/50\n",
      "235/235 [==============================] - 3s 14ms/step - loss: 0.0917 - val_loss: 0.0907\n",
      "Epoch 15/50\n",
      "235/235 [==============================] - 3s 14ms/step - loss: 0.0908 - val_loss: 0.0899\n",
      "Epoch 16/50\n",
      "235/235 [==============================] - 3s 14ms/step - loss: 0.0899 - val_loss: 0.0892\n",
      "Epoch 17/50\n",
      "235/235 [==============================] - 3s 14ms/step - loss: 0.0889 - val_loss: 0.0881\n",
      "Epoch 18/50\n",
      "235/235 [==============================] - 3s 14ms/step - loss: 0.0883 - val_loss: 0.0878\n",
      "Epoch 19/50\n",
      "235/235 [==============================] - 3s 14ms/step - loss: 0.0876 - val_loss: 0.0871\n",
      "Epoch 20/50\n",
      "235/235 [==============================] - 3s 14ms/step - loss: 0.0869 - val_loss: 0.0866\n",
      "Epoch 21/50\n",
      "235/235 [==============================] - 2s 11ms/step - loss: 0.0866 - val_loss: 0.0861\n",
      "Epoch 22/50\n",
      "235/235 [==============================] - 3s 14ms/step - loss: 0.0859 - val_loss: 0.0855\n",
      "Epoch 23/50\n",
      "235/235 [==============================] - 3s 14ms/step - loss: 0.0853 - val_loss: 0.0848\n",
      "Epoch 24/50\n",
      "235/235 [==============================] - 3s 14ms/step - loss: 0.0847 - val_loss: 0.0843\n",
      "Epoch 25/50\n",
      "235/235 [==============================] - 3s 14ms/step - loss: 0.0840 - val_loss: 0.0839\n",
      "Epoch 26/50\n",
      "235/235 [==============================] - 3s 14ms/step - loss: 0.0837 - val_loss: 0.0835\n",
      "Epoch 27/50\n",
      "235/235 [==============================] - 3s 14ms/step - loss: 0.0833 - val_loss: 0.0834\n",
      "Epoch 28/50\n",
      "235/235 [==============================] - 3s 14ms/step - loss: 0.0831 - val_loss: 0.0829\n",
      "Epoch 29/50\n",
      "235/235 [==============================] - 3s 14ms/step - loss: 0.0826 - val_loss: 0.0826\n",
      "Epoch 30/50\n",
      "235/235 [==============================] - 3s 14ms/step - loss: 0.0824 - val_loss: 0.0822\n",
      "Epoch 31/50\n",
      "235/235 [==============================] - 3s 14ms/step - loss: 0.0820 - val_loss: 0.0821\n",
      "Epoch 32/50\n",
      "235/235 [==============================] - 3s 14ms/step - loss: 0.0818 - val_loss: 0.0821\n",
      "Epoch 33/50\n",
      "235/235 [==============================] - 3s 14ms/step - loss: 0.0817 - val_loss: 0.0816\n",
      "Epoch 34/50\n",
      "235/235 [==============================] - 3s 14ms/step - loss: 0.0814 - val_loss: 0.0814\n",
      "Epoch 35/50\n",
      "235/235 [==============================] - 3s 14ms/step - loss: 0.0811 - val_loss: 0.0811\n",
      "Epoch 36/50\n",
      "235/235 [==============================] - 3s 14ms/step - loss: 0.0806 - val_loss: 0.0810\n",
      "Epoch 37/50\n",
      "235/235 [==============================] - 2s 7ms/step - loss: 0.0806 - val_loss: 0.0806\n",
      "Epoch 38/50\n",
      "235/235 [==============================] - 3s 15ms/step - loss: 0.0804 - val_loss: 0.0806\n",
      "Epoch 39/50\n",
      "235/235 [==============================] - 4s 15ms/step - loss: 0.0802 - val_loss: 0.0805\n",
      "Epoch 40/50\n",
      "235/235 [==============================] - 4s 15ms/step - loss: 0.0800 - val_loss: 0.0804\n",
      "Epoch 41/50\n",
      "235/235 [==============================] - 3s 15ms/step - loss: 0.0801 - val_loss: 0.0805\n",
      "Epoch 42/50\n",
      "235/235 [==============================] - 4s 15ms/step - loss: 0.0798 - val_loss: 0.0800\n",
      "Epoch 43/50\n",
      "235/235 [==============================] - 4s 15ms/step - loss: 0.0798 - val_loss: 0.0799\n",
      "Epoch 44/50\n",
      "235/235 [==============================] - 3s 15ms/step - loss: 0.0796 - val_loss: 0.0798\n",
      "Epoch 45/50\n",
      "235/235 [==============================] - 3s 15ms/step - loss: 0.0794 - val_loss: 0.0795\n",
      "Epoch 46/50\n",
      "235/235 [==============================] - 4s 15ms/step - loss: 0.0792 - val_loss: 0.0794\n",
      "Epoch 47/50\n",
      "235/235 [==============================] - 3s 15ms/step - loss: 0.0790 - val_loss: 0.0793\n",
      "Epoch 48/50\n",
      "235/235 [==============================] - 3s 15ms/step - loss: 0.0788 - val_loss: 0.0793\n",
      "Epoch 49/50\n",
      "235/235 [==============================] - 4s 15ms/step - loss: 0.0787 - val_loss: 0.0791\n",
      "Epoch 50/50\n",
      "235/235 [==============================] - 3s 15ms/step - loss: 0.0785 - val_loss: 0.0789\n"
     ]
    },
    {
     "data": {
      "text/plain": [
       "<tensorflow.python.keras.callbacks.History at 0x7f6d786be470>"
      ]
     },
     "execution_count": 11,
     "metadata": {},
     "output_type": "execute_result"
    }
   ],
   "source": [
    "autoencoder.compile(loss='binary_crossentropy', optimizer='adam')\n",
    "autoencoder.fit(X_train, X_train, epochs=50, batch_size=256, validation_data=(X_test,X_test))"
   ]
  },
  {
   "cell_type": "code",
   "execution_count": 12,
   "id": "imposed-paintball",
   "metadata": {},
   "outputs": [
    {
     "data": {
      "text/plain": [
       "(10000, 32)"
      ]
     },
     "execution_count": 12,
     "metadata": {},
     "output_type": "execute_result"
    }
   ],
   "source": [
    "encoded_imgs = encoder.predict(X_test)\n",
    "encoded_imgs.shape"
   ]
  },
  {
   "cell_type": "code",
   "execution_count": 13,
   "id": "stable-master",
   "metadata": {},
   "outputs": [
    {
     "data": {
      "text/plain": [
       "(10000, 784)"
      ]
     },
     "execution_count": 13,
     "metadata": {},
     "output_type": "execute_result"
    }
   ],
   "source": [
    "decoded_imgs = decoder.predict(encoded_imgs)\n",
    "decoded_imgs.shape"
   ]
  },
  {
   "cell_type": "code",
   "execution_count": 19,
   "id": "fancy-cambodia",
   "metadata": {},
   "outputs": [
    {
     "data": {
      "image/png": "[encoded data removed]",
      "text/plain": [
       "<Figure size 1440x288 with 20 Axes>"
      ]
     },
     "metadata": {
      "needs_background": "light"
     },
     "output_type": "display_data"
    }
   ],
   "source": [
    "import matplotlib.pyplot as plt\n",
    "\n",
    "n=10\n",
    "\n",
    "plt.figure(figsize=(20,4))\n",
    "for i in range(n):\n",
    "    \n",
    "    ax = plt.subplot(2, n, i+1)\n",
    "    plt.imshow(X_test[i].reshape(28,28))\n",
    "    plt.gray()\n",
    "    ax.get_xaxis().set_visible(True)\n",
    "    ax.get_yaxis().set_visible(True)\n",
    "    \n",
    "    ax = plt.subplot(2, n, i+1+n)\n",
    "    plt.imshow(decoded_imgs[i].reshape(28,28))\n",
    "    plt.gray()\n",
    "    ax.get_xaxis().set_visible(False)\n",
    "    ax.get_yaxis().set_visible(False)\n",
    "    \n",
    "plt.show()"
   ]
  },
  {
   "cell_type": "code",
   "execution_count": null,
   "id": "driving-river",
   "metadata": {},
   "outputs": [],
   "source": []
  }
 ],
 "metadata": {
  "kernelspec": {
   "display_name": "Python 3",
   "language": "python",
   "name": "python3"
  },
  "language_info": {
   "codemirror_mode": {
    "name": "ipython",
    "version": 3
   },
   "file_extension": ".py",
   "mimetype": "text/x-python",
   "name": "python",
   "nbconvert_exporter": "python",
   "pygments_lexer": "ipython3",
   "version": "3.6.9"
  }
 },
 "nbformat": 4,
 "nbformat_minor": 5
}
