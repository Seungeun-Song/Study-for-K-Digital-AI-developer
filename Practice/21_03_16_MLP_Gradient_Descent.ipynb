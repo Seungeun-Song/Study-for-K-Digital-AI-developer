{
  "nbformat": 4,
  "nbformat_minor": 0,
  "metadata": {
    "colab": {
      "name": "002_MLP_Gradient_Descent.ipynb",
      "provenance": []
    },
    "kernelspec": {
      "name": "python3",
      "display_name": "Python 3"
    }
  },
  "cells": [
    {
      "cell_type": "code",
      "metadata": {
        "id": "EYH8oLocv0sl"
      },
      "source": [
        "import numpy as np\r\n",
        "np.set_printoptions(suppress=True, precision=3) #출력값 조절\r\n",
        "\r\n",
        "def sigmoid(x):\r\n",
        "  y = 1 / (1 + np.exp(-x))\r\n",
        "  return y"
      ],
      "execution_count": 1,
      "outputs": []
    },
    {
      "cell_type": "code",
      "metadata": {
        "id": "sWzC8jWLwK71"
      },
      "source": [
        "def Machine(x1, x2,\r\n",
        "            w1_11, w1_12, b1_1,\r\n",
        "            w1_21, w1_22, b1_2,\r\n",
        "            w2_11, w2_12, b2_1):\r\n",
        "  \r\n",
        "  y1 = sigmoid(x1 * w1_11 + x2 * w1_12 + b1_1)\r\n",
        "  y2 = sigmoid(x2 * w1_21 + x2 * w1_22 + b1_2)\r\n",
        "\r\n",
        "  y_hat = sigmoid(y1 * w2_11 + y2 * w2_12 + b2_1)\r\n",
        "\r\n",
        "  return y_hat"
      ],
      "execution_count": 2,
      "outputs": []
    },
    {
      "cell_type": "code",
      "metadata": {
        "id": "cw7yQdyYw1ea"
      },
      "source": [
        "def Cost(x1, x2, y,\r\n",
        "        w1_11, w1_12, b1_1,\r\n",
        "        w1_21, w1_22, b1_2,\r\n",
        "        w2_11, w2_12, b2_1):\r\n",
        "  \r\n",
        "  y_hat = Machine(x1, x2,\r\n",
        "            w1_11, w1_12, b1_1,\r\n",
        "            w1_21, w1_22, b1_2,\r\n",
        "            w2_11, w2_12, b2_1)\r\n",
        "  \r\n",
        "  loss = np.mean(-y * np.log(y_hat) - ( 1 - y ) * np.log(1 - y_hat))\r\n",
        "\r\n",
        "  return loss"
      ],
      "execution_count": 3,
      "outputs": []
    },
    {
      "cell_type": "code",
      "metadata": {
        "id": "wXkIauGPxZZk"
      },
      "source": [
        "def Learning(x1, x2, y,\r\n",
        "            w1_11, w1_12, b1_1,\r\n",
        "            w1_21, w1_22, b1_2,\r\n",
        "            w2_11, w2_12, b2_1,\r\n",
        "            step):\r\n",
        "  current = Cost(x1, x2, y,\r\n",
        "            w1_11, w1_12, b1_1,\r\n",
        "            w1_21, w1_22, b1_2,\r\n",
        "            w2_11, w2_12, b2_1)\r\n",
        "  \r\n",
        "  dw1_11 = (Cost(x1, x2, y,\r\n",
        "            w1_11 + 0.0001, w1_12, b1_1,\r\n",
        "            w1_21, w1_22, b1_2,\r\n",
        "            w2_11, w2_12, b2_1) - current) / 0.0001\r\n",
        "\r\n",
        "  dw1_12 = (Cost(x1, x2, y,\r\n",
        "            w1_11, w1_12 + 0.0001, b1_1,\r\n",
        "            w1_21, w1_22, b1_2,\r\n",
        "            w2_11, w2_12, b2_1) - current) / 0.0001\r\n",
        "\r\n",
        "  db1_1 = (Cost(x1, x2, y,\r\n",
        "            w1_11, w1_12, b1_1 + 0.0001,\r\n",
        "            w1_21, w1_22, b1_2,\r\n",
        "            w2_11, w2_12, b2_1) - current) / 0.0001\r\n",
        "\r\n",
        "  dw1_21 =  (Cost(x1, x2, y,\r\n",
        "            w1_11, w1_12, b1_1,\r\n",
        "            w1_21  + 0.0001, w1_22, b1_2,\r\n",
        "            w2_11, w2_12, b2_1) - current) / 0.0001\r\n",
        "          \r\n",
        "  dw1_22 = (Cost(x1, x2, y,\r\n",
        "            w1_11, w1_12, b1_1,\r\n",
        "            w1_21 , w1_22 + 0.0001, b1_2,\r\n",
        "            w2_11, w2_12, b2_1) - current) / 0.0001\r\n",
        "\r\n",
        "  db1_2 = (Cost(x1, x2, y,\r\n",
        "            w1_11, w1_12, b1_1,\r\n",
        "            w1_21 , w1_22, b1_2 + 0.0001,\r\n",
        "            w2_11, w2_12, b2_1) - current) / 0.0001\r\n",
        "\r\n",
        "  dw2_11 = (Cost(x1, x2, y,\r\n",
        "            w1_11, w1_12, b1_1,\r\n",
        "            w1_21, w1_22, b1_2,\r\n",
        "            w2_11 + 0.000, w2_12, b2_1) - current) / 0.0001\r\n",
        "\r\n",
        "  dw2_12 = (Cost(x1, x2, y,\r\n",
        "            w1_11, w1_12, b1_1,\r\n",
        "            w1_21 , w1_22, b1_2,\r\n",
        "            w2_11, w2_12 + 0.0001, b2_1) - current) / 0.0001\r\n",
        "\r\n",
        "  db2_1 = (Cost(x1, x2, y,\r\n",
        "            w1_11, w1_12, b1_1,\r\n",
        "            w1_21 , w1_22, b1_2,\r\n",
        "            w2_11, w2_12, b2_1 + 0.0001) - current) / 0.0001\r\n",
        "\r\n",
        "  w1_11 = w1_11 - step * dw1_11\r\n",
        "  w1_12 = w1_11 - step * dw1_12\r\n",
        "  b1_1 = b1_1 - step * db1_1\r\n",
        "\r\n",
        "  w1_21 = w1_21 - step * dw1_21\r\n",
        "  w1_22 = w1_21 - step * dw1_22\r\n",
        "  b1_2 = b1_2 - step * db1_2\r\n",
        "\r\n",
        "  w2_11 = w2_11 - step * dw2_11\r\n",
        "  w2_22 = w2_12 - step * dw2_12\r\n",
        "  b2_1 = b2_1 - step * db2_1\r\n",
        "\r\n",
        "  return np.array([w1_11, w1_12, b1_1,\r\n",
        "                   w1_21, w1_22, b1_2,\r\n",
        "                   w2_11, w2_12, b2_1])"
      ],
      "execution_count": 5,
      "outputs": []
    },
    {
      "cell_type": "code",
      "metadata": {
        "colab": {
          "base_uri": "https://localhost:8080/",
          "height": 198
        },
        "id": "a86ikqDBzLHV",
        "outputId": "9363712b-d50f-4919-d0a9-e20aa25c2bf7"
      },
      "source": [
        "import pandas as pd\r\n",
        "\r\n",
        "url = 'https://raw.githubusercontent.com/rusita-ai/pyData/master/Default.csv'\r\n",
        "DF =pd.read_csv(url)\r\n",
        "\r\n",
        "DF.head()"
      ],
      "execution_count": 6,
      "outputs": [
        {
          "output_type": "execute_result",
          "data": {
            "text/html": [
              "<div>\n",
              "<style scoped>\n",
              "    .dataframe tbody tr th:only-of-type {\n",
              "        vertical-align: middle;\n",
              "    }\n",
              "\n",
              "    .dataframe tbody tr th {\n",
              "        vertical-align: top;\n",
              "    }\n",
              "\n",
              "    .dataframe thead th {\n",
              "        text-align: right;\n",
              "    }\n",
              "</style>\n",
              "<table border=\"1\" class=\"dataframe\">\n",
              "  <thead>\n",
              "    <tr style=\"text-align: right;\">\n",
              "      <th></th>\n",
              "      <th>default</th>\n",
              "      <th>student</th>\n",
              "      <th>balance</th>\n",
              "      <th>income</th>\n",
              "    </tr>\n",
              "  </thead>\n",
              "  <tbody>\n",
              "    <tr>\n",
              "      <th>0</th>\n",
              "      <td>No</td>\n",
              "      <td>No</td>\n",
              "      <td>729.526495</td>\n",
              "      <td>44361.62507</td>\n",
              "    </tr>\n",
              "    <tr>\n",
              "      <th>1</th>\n",
              "      <td>No</td>\n",
              "      <td>Yes</td>\n",
              "      <td>817.180407</td>\n",
              "      <td>12106.13470</td>\n",
              "    </tr>\n",
              "    <tr>\n",
              "      <th>2</th>\n",
              "      <td>No</td>\n",
              "      <td>No</td>\n",
              "      <td>1073.549164</td>\n",
              "      <td>31767.13895</td>\n",
              "    </tr>\n",
              "    <tr>\n",
              "      <th>3</th>\n",
              "      <td>No</td>\n",
              "      <td>No</td>\n",
              "      <td>529.250605</td>\n",
              "      <td>35704.49394</td>\n",
              "    </tr>\n",
              "    <tr>\n",
              "      <th>4</th>\n",
              "      <td>No</td>\n",
              "      <td>No</td>\n",
              "      <td>785.655883</td>\n",
              "      <td>38463.49588</td>\n",
              "    </tr>\n",
              "  </tbody>\n",
              "</table>\n",
              "</div>"
            ],
            "text/plain": [
              "  default student      balance       income\n",
              "0      No      No   729.526495  44361.62507\n",
              "1      No     Yes   817.180407  12106.13470\n",
              "2      No      No  1073.549164  31767.13895\n",
              "3      No      No   529.250605  35704.49394\n",
              "4      No      No   785.655883  38463.49588"
            ]
          },
          "metadata": {
            "tags": []
          },
          "execution_count": 6
        }
      ]
    },
    {
      "cell_type": "code",
      "metadata": {
        "id": "BEyiamR-zfLq"
      },
      "source": [
        "x1 = np.array(DF[['balance']].head(2000))\r\n",
        "x2 = np.array(DF[['income']].head(2000))\r\n",
        "\r\n",
        "target = DF['default'].head(2000)"
      ],
      "execution_count": 7,
      "outputs": []
    },
    {
      "cell_type": "code",
      "metadata": {
        "colab": {
          "base_uri": "https://localhost:8080/"
        },
        "id": "2Na17RjEzsqt",
        "outputId": "3791d712-900a-4a6c-9d56-fb0038c51600"
      },
      "source": [
        "from sklearn.preprocessing import LabelEncoder\r\n",
        "\r\n",
        "encoder = LabelEncoder()\r\n",
        "encoder.fit(target)\r\n",
        "y = encoder.transform(target)\r\n",
        "\r\n",
        "y.shape"
      ],
      "execution_count": 8,
      "outputs": [
        {
          "output_type": "execute_result",
          "data": {
            "text/plain": [
              "(2000,)"
            ]
          },
          "metadata": {
            "tags": []
          },
          "execution_count": 8
        }
      ]
    },
    {
      "cell_type": "code",
      "metadata": {
        "id": "UZS7ZNQGz3eb"
      },
      "source": [
        "w1_11 = 0.001\r\n",
        "w1_12 = 0.002\r\n",
        "b1_1 = 0.003\r\n",
        "\r\n",
        "w1_21 = 0.004\r\n",
        "w1_22 = 0.005\r\n",
        "b1_2 = 0.006\r\n",
        "\r\n",
        "w2_11 = 0.007\r\n",
        "w2_12 = 0.008\r\n",
        "b2_1 = 0.009"
      ],
      "execution_count": 9,
      "outputs": []
    },
    {
      "cell_type": "code",
      "metadata": {
        "colab": {
          "base_uri": "https://localhost:8080/"
        },
        "id": "65dJDXhp0Pm6",
        "outputId": "51d7b29d-df6e-4b57-cd7a-d1b1131f5190"
      },
      "source": [
        "%time\r\n",
        "cost = np.ones(500)\r\n",
        "\r\n",
        "for i in range(0, 500):\r\n",
        "\r\n",
        "  cost[i] = Cost(x1, x2, y,\r\n",
        "                 w1_11, w1_12, b1_1,\r\n",
        "                 w1_21, w1_22, b1_2,\r\n",
        "                 w2_11, w2_12, b2_1)\r\n",
        "  temp = Learning(x1, x2, y,\r\n",
        "                 w1_11, w1_12, b1_1,\r\n",
        "                 w1_21, w1_22, b1_2,\r\n",
        "                 w2_11, w2_12, b2_1,\r\n",
        "                  0.05)\r\n",
        "  w1_11 = temp[0]\r\n",
        "  w1_12 = temp[1]\r\n",
        "  b1_1 = temp[2]\r\n",
        "\r\n",
        "  w1_21 = temp[3]\r\n",
        "  w1_22 = temp[4]\r\n",
        "  b1_2 = temp[5]\r\n",
        "\r\n",
        "  w2_11 = temp[6]\r\n",
        "  w2_12 = temp[7]\r\n",
        "  b2_1 = temp[8]"
      ],
      "execution_count": 11,
      "outputs": [
        {
          "output_type": "stream",
          "text": [
            "CPU times: user 3 µs, sys: 0 ns, total: 3 µs\n",
            "Wall time: 7.87 µs\n"
          ],
          "name": "stdout"
        },
        {
          "output_type": "stream",
          "text": [
            "/usr/local/lib/python3.7/dist-packages/ipykernel_launcher.py:5: RuntimeWarning: overflow encountered in exp\n",
            "  \"\"\"\n"
          ],
          "name": "stderr"
        }
      ]
    },
    {
      "cell_type": "code",
      "metadata": {
        "colab": {
          "base_uri": "https://localhost:8080/"
        },
        "id": "BwmODFPD0zeg",
        "outputId": "497046a7-baef-4ea0-dab7-cab627569e0f"
      },
      "source": [
        "print(temp)"
      ],
      "execution_count": 12,
      "outputs": [
        {
          "output_type": "stream",
          "text": [
            "[-0.001 -0.001  0.003  0.004  0.004  0.006  0.007  0.008 -2.723]\n"
          ],
          "name": "stdout"
        }
      ]
    },
    {
      "cell_type": "code",
      "metadata": {
        "colab": {
          "base_uri": "https://localhost:8080/",
          "height": 265
        },
        "id": "59sCbp6d05qz",
        "outputId": "b3b7a690-3aff-4e4f-d438-0d0a59b83674"
      },
      "source": [
        "import matplotlib.pyplot as plt\r\n",
        "\r\n",
        "plt.plot(cost)\r\n",
        "plt.show()"
      ],
      "execution_count": 13,
      "outputs": [
        {
          "output_type": "display_data",
          "data": {
            "image/png": "[encoded data removed]",
            "text/plain": [
              "<Figure size 432x288 with 1 Axes>"
            ]
          },
          "metadata": {
            "tags": [],
            "needs_background": "light"
          }
        }
      ]
    },
    {
      "cell_type": "code",
      "metadata": {
        "id": "VulRAEc70-D7"
      },
      "source": [
        ""
      ],
      "execution_count": null,
      "outputs": []
    }
  ]
}