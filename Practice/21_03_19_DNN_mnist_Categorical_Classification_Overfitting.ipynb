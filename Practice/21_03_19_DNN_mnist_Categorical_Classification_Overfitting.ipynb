{
  "nbformat": 4,
  "nbformat_minor": 0,
  "metadata": {
    "colab": {
      "name": "010_DNN_mnist_Categorical_Classification_Overfitting.ipynb",
      "provenance": []
    },
    "kernelspec": {
      "name": "python3",
      "display_name": "Python 3"
    },
    "language_info": {
      "name": "python"
    },
    "accelerator": "GPU"
  },
  "cells": [
    {
      "cell_type": "code",
      "metadata": {
        "colab": {
          "base_uri": "https://localhost:8080/",
          "height": 34
        },
        "id": "rLBG7MxS1yz0",
        "outputId": "d0beb047-6cbd-45bf-87b9-e537765510ae"
      },
      "source": [
        "import tensorflow as tf\n",
        "\n",
        "tf.__version__"
      ],
      "execution_count": 16,
      "outputs": [
        {
          "output_type": "execute_result",
          "data": {
            "application/vnd.google.colaboratory.intrinsic+json": {
              "type": "string"
            },
            "text/plain": [
              "'2.4.1'"
            ]
          },
          "metadata": {
            "tags": []
          },
          "execution_count": 16
        }
      ]
    },
    {
      "cell_type": "code",
      "metadata": {
        "colab": {
          "base_uri": "https://localhost:8080/",
          "height": 34
        },
        "id": "nxrlDMbh2MAH",
        "outputId": "c3d80780-15fe-4a93-96ab-f17c7a8b439c"
      },
      "source": [
        "tf.test.gpu_device_name()"
      ],
      "execution_count": 17,
      "outputs": [
        {
          "output_type": "execute_result",
          "data": {
            "application/vnd.google.colaboratory.intrinsic+json": {
              "type": "string"
            },
            "text/plain": [
              "'/device:GPU:0'"
            ]
          },
          "metadata": {
            "tags": []
          },
          "execution_count": 17
        }
      ]
    },
    {
      "cell_type": "code",
      "metadata": {
        "colab": {
          "base_uri": "https://localhost:8080/",
          "height": 34
        },
        "id": "gvx5LkGp2Od-",
        "outputId": "62fff53b-a33a-42f8-8bd8-961e52262dcc"
      },
      "source": [
        "import keras\n",
        "\n",
        "keras.__version__"
      ],
      "execution_count": 18,
      "outputs": [
        {
          "output_type": "execute_result",
          "data": {
            "application/vnd.google.colaboratory.intrinsic+json": {
              "type": "string"
            },
            "text/plain": [
              "'2.4.3'"
            ]
          },
          "metadata": {
            "tags": []
          },
          "execution_count": 18
        }
      ]
    },
    {
      "cell_type": "code",
      "metadata": {
        "id": "S-YtmaW72Rz-"
      },
      "source": [
        "from keras.datasets import mnist\n",
        "\n",
        "(X_train, y_train), (X_test, y_test) = mnist.load_data()"
      ],
      "execution_count": 19,
      "outputs": []
    },
    {
      "cell_type": "code",
      "metadata": {
        "colab": {
          "base_uri": "https://localhost:8080/"
        },
        "id": "XBBwoGpZ2d0U",
        "outputId": "5350b1b4-ae82-4e39-885f-e0e0e8b32078"
      },
      "source": [
        "print(len(X_train))\n",
        "print(X_train.shape)  # 6만개 데이터의 28 X 28사이즈의 이미지\n",
        "\n",
        "print(len(y_train))\n",
        "print(y_train[:5])"
      ],
      "execution_count": 20,
      "outputs": [
        {
          "output_type": "stream",
          "text": [
            "60000\n",
            "(60000, 28, 28)\n",
            "60000\n",
            "[5 0 4 1 9]\n"
          ],
          "name": "stdout"
        }
      ]
    },
    {
      "cell_type": "code",
      "metadata": {
        "colab": {
          "base_uri": "https://localhost:8080/"
        },
        "id": "_fiCge4s36qk",
        "outputId": "e43b8cf5-7746-409f-f28c-bceeb982d94f"
      },
      "source": [
        "import numpy as np\n",
        "unique_elements, counts_elements = np.unique(y_train, return_counts=True)\n",
        "unique_elements"
      ],
      "execution_count": 21,
      "outputs": [
        {
          "output_type": "execute_result",
          "data": {
            "text/plain": [
              "array([0, 1, 2, 3, 4, 5, 6, 7, 8, 9], dtype=uint8)"
            ]
          },
          "metadata": {
            "tags": []
          },
          "execution_count": 21
        }
      ]
    },
    {
      "cell_type": "code",
      "metadata": {
        "colab": {
          "base_uri": "https://localhost:8080/"
        },
        "id": "sd2tae3J2k5n",
        "outputId": "d9eef311-964b-42da-de10-7ca5259895cb"
      },
      "source": [
        "print(len(X_test))\n",
        "print(X_test.shape)  # 6만개 데이터의 28 X 28사이즈의 이미지\n",
        "\n",
        "print(len(y_test))\n",
        "print(y_test[:5])"
      ],
      "execution_count": 22,
      "outputs": [
        {
          "output_type": "stream",
          "text": [
            "10000\n",
            "(10000, 28, 28)\n",
            "10000\n",
            "[7 2 1 0 4]\n"
          ],
          "name": "stdout"
        }
      ]
    },
    {
      "cell_type": "code",
      "metadata": {
        "colab": {
          "base_uri": "https://localhost:8080/",
          "height": 265
        },
        "id": "R-XZpVK620e9",
        "outputId": "31ba76fe-2ec8-40da-e2f4-30fb0f1d85be"
      },
      "source": [
        "import matplotlib.pyplot as plt\n",
        "\n",
        "digit = X_train[4]\n",
        "plt.imshow(digit, cmap='gray')\n",
        "plt.show()"
      ],
      "execution_count": 23,
      "outputs": [
        {
          "output_type": "display_data",
          "data": {
            "image/png": "[encoded data removed]",
            "text/plain": [
              "<Figure size 432x288 with 1 Axes>"
            ]
          },
          "metadata": {
            "tags": [],
            "needs_background": "light"
          }
        }
      ]
    },
    {
      "cell_type": "code",
      "metadata": {
        "colab": {
          "base_uri": "https://localhost:8080/"
        },
        "id": "qn1uGr-03fGU",
        "outputId": "c7e8df26-863e-43d3-9071-197186971feb"
      },
      "source": [
        "import numpy as np\n",
        "\n",
        "np.set_printoptions(linewidth = 150)\n",
        "\n",
        "print(X_train[4])"
      ],
      "execution_count": 24,
      "outputs": [
        {
          "output_type": "stream",
          "text": [
            "[[  0   0   0   0   0   0   0   0   0   0   0   0   0   0   0   0   0   0   0   0   0   0   0   0   0   0   0   0]\n",
            " [  0   0   0   0   0   0   0   0   0   0   0   0   0   0   0   0   0   0   0   0   0   0   0   0   0   0   0   0]\n",
            " [  0   0   0   0   0   0   0   0   0   0   0   0   0   0   0   0   0   0   0   0   0   0   0   0   0   0   0   0]\n",
            " [  0   0   0   0   0   0   0   0   0   0   0   0   0   0   0   0   0   0   0   0   0   0   0   0   0   0   0   0]\n",
            " [  0   0   0   0   0   0   0   0   0   0   0   0   0   0   0   0   0   0   0   0   0   0   0   0   0   0   0   0]\n",
            " [  0   0   0   0   0   0   0   0   0   0   0   0   0   0   0   0   0   0   0   0   0   0   0   0   0   0   0   0]\n",
            " [  0   0   0   0   0   0   0   0   0   0   0   0   0   0   0   0   0   0   0   0   0   0   0   0   0   0   0   0]\n",
            " [  0   0   0   0   0   0   0   0   0   0   0   0  55 148 210 253 253 113  87 148  55   0   0   0   0   0   0   0]\n",
            " [  0   0   0   0   0   0   0   0   0   0   0  87 232 252 253 189 210 252 252 253 168   0   0   0   0   0   0   0]\n",
            " [  0   0   0   0   0   0   0   0   0   4  57 242 252 190  65   5  12 182 252 253 116   0   0   0   0   0   0   0]\n",
            " [  0   0   0   0   0   0   0   0   0  96 252 252 183  14   0   0  92 252 252 225  21   0   0   0   0   0   0   0]\n",
            " [  0   0   0   0   0   0   0   0 132 253 252 146  14   0   0   0 215 252 252  79   0   0   0   0   0   0   0   0]\n",
            " [  0   0   0   0   0   0   0 126 253 247 176   9   0   0   8  78 245 253 129   0   0   0   0   0   0   0   0   0]\n",
            " [  0   0   0   0   0   0  16 232 252 176   0   0   0  36 201 252 252 169  11   0   0   0   0   0   0   0   0   0]\n",
            " [  0   0   0   0   0   0  22 252 252  30  22 119 197 241 253 252 251  77   0   0   0   0   0   0   0   0   0   0]\n",
            " [  0   0   0   0   0   0  16 231 252 253 252 252 252 226 227 252 231   0   0   0   0   0   0   0   0   0   0   0]\n",
            " [  0   0   0   0   0   0   0  55 235 253 217 138  42  24 192 252 143   0   0   0   0   0   0   0   0   0   0   0]\n",
            " [  0   0   0   0   0   0   0   0   0   0   0   0   0  62 255 253 109   0   0   0   0   0   0   0   0   0   0   0]\n",
            " [  0   0   0   0   0   0   0   0   0   0   0   0   0  71 253 252  21   0   0   0   0   0   0   0   0   0   0   0]\n",
            " [  0   0   0   0   0   0   0   0   0   0   0   0   0   0 253 252  21   0   0   0   0   0   0   0   0   0   0   0]\n",
            " [  0   0   0   0   0   0   0   0   0   0   0   0   0  71 253 252  21   0   0   0   0   0   0   0   0   0   0   0]\n",
            " [  0   0   0   0   0   0   0   0   0   0   0   0   0 106 253 252  21   0   0   0   0   0   0   0   0   0   0   0]\n",
            " [  0   0   0   0   0   0   0   0   0   0   0   0   0  45 255 253  21   0   0   0   0   0   0   0   0   0   0   0]\n",
            " [  0   0   0   0   0   0   0   0   0   0   0   0   0   0 218 252  56   0   0   0   0   0   0   0   0   0   0   0]\n",
            " [  0   0   0   0   0   0   0   0   0   0   0   0   0   0  96 252 189  42   0   0   0   0   0   0   0   0   0   0]\n",
            " [  0   0   0   0   0   0   0   0   0   0   0   0   0   0  14 184 252 170  11   0   0   0   0   0   0   0   0   0]\n",
            " [  0   0   0   0   0   0   0   0   0   0   0   0   0   0   0  14 147 252  42   0   0   0   0   0   0   0   0   0]\n",
            " [  0   0   0   0   0   0   0   0   0   0   0   0   0   0   0   0   0   0   0   0   0   0   0   0   0   0   0   0]]\n"
          ],
          "name": "stdout"
        }
      ]
    },
    {
      "cell_type": "code",
      "metadata": {
        "colab": {
          "base_uri": "https://localhost:8080/"
        },
        "id": "iGSGO4sD4Lr7",
        "outputId": "6e2181a5-3d93-4be4-cf84-b9939c264b64"
      },
      "source": [
        "X_train = X_train.reshape((60000, 28*28))  # (60000, 28, 28) -> (60000, 784)\n",
        "X_test = X_test.reshape((10000, 28*28))\n",
        "\n",
        "X_train.shape, X_test.shape"
      ],
      "execution_count": 25,
      "outputs": [
        {
          "output_type": "execute_result",
          "data": {
            "text/plain": [
              "((60000, 784), (10000, 784))"
            ]
          },
          "metadata": {
            "tags": []
          },
          "execution_count": 25
        }
      ]
    },
    {
      "cell_type": "code",
      "metadata": {
        "colab": {
          "base_uri": "https://localhost:8080/"
        },
        "id": "KZgf_egA4uT7",
        "outputId": "74643c00-5118-4a2e-f7b5-b5070898225d"
      },
      "source": [
        "y_train.shape"
      ],
      "execution_count": 26,
      "outputs": [
        {
          "output_type": "execute_result",
          "data": {
            "text/plain": [
              "(60000,)"
            ]
          },
          "metadata": {
            "tags": []
          },
          "execution_count": 26
        }
      ]
    },
    {
      "cell_type": "code",
      "metadata": {
        "colab": {
          "base_uri": "https://localhost:8080/"
        },
        "id": "nMxifbPc4z-b",
        "outputId": "50df568a-517d-4563-ac09-f22eb34ef68a"
      },
      "source": [
        "X_train = X_train.astype(float)/255\n",
        "X_test = X_test.astype(float)/255\n",
        "\n",
        "print(X_train[4])"
      ],
      "execution_count": 27,
      "outputs": [
        {
          "output_type": "stream",
          "text": [
            "[0.         0.         0.         0.         0.         0.         0.         0.         0.         0.         0.         0.         0.\n",
            " 0.         0.         0.         0.         0.         0.         0.         0.         0.         0.         0.         0.         0.\n",
            " 0.         0.         0.         0.         0.         0.         0.         0.         0.         0.         0.         0.         0.\n",
            " 0.         0.         0.         0.         0.         0.         0.         0.         0.         0.         0.         0.         0.\n",
            " 0.         0.         0.         0.         0.         0.         0.         0.         0.         0.         0.         0.         0.\n",
            " 0.         0.         0.         0.         0.         0.         0.         0.         0.         0.         0.         0.         0.\n",
            " 0.         0.         0.         0.         0.         0.         0.         0.         0.         0.         0.         0.         0.\n",
            " 0.         0.         0.         0.         0.         0.         0.         0.         0.         0.         0.         0.         0.\n",
            " 0.         0.         0.         0.         0.         0.         0.         0.         0.         0.         0.         0.         0.\n",
            " 0.         0.         0.         0.         0.         0.         0.         0.         0.         0.         0.         0.         0.\n",
            " 0.         0.         0.         0.         0.         0.         0.         0.         0.         0.         0.         0.         0.\n",
            " 0.         0.         0.         0.         0.         0.         0.         0.         0.         0.         0.         0.         0.\n",
            " 0.         0.         0.         0.         0.         0.         0.         0.         0.         0.         0.         0.         0.\n",
            " 0.         0.         0.         0.         0.         0.         0.         0.         0.         0.         0.         0.         0.\n",
            " 0.         0.         0.         0.         0.         0.         0.         0.         0.         0.         0.         0.         0.\n",
            " 0.         0.         0.         0.         0.         0.         0.         0.         0.         0.         0.         0.         0.\n",
            " 0.21568627 0.58039216 0.82352941 0.99215686 0.99215686 0.44313725 0.34117647 0.58039216 0.21568627 0.         0.         0.         0.\n",
            " 0.         0.         0.         0.         0.         0.         0.         0.         0.         0.         0.         0.         0.\n",
            " 0.         0.34117647 0.90980392 0.98823529 0.99215686 0.74117647 0.82352941 0.98823529 0.98823529 0.99215686 0.65882353 0.         0.\n",
            " 0.         0.         0.         0.         0.         0.         0.         0.         0.         0.         0.         0.         0.\n",
            " 0.         0.01568627 0.22352941 0.94901961 0.98823529 0.74509804 0.25490196 0.01960784 0.04705882 0.71372549 0.98823529 0.99215686 0.45490196\n",
            " 0.         0.         0.         0.         0.         0.         0.         0.         0.         0.         0.         0.         0.\n",
            " 0.         0.         0.         0.37647059 0.98823529 0.98823529 0.71764706 0.05490196 0.         0.         0.36078431 0.98823529 0.98823529\n",
            " 0.88235294 0.08235294 0.         0.         0.         0.         0.         0.         0.         0.         0.         0.         0.\n",
            " 0.         0.         0.         0.         0.51764706 0.99215686 0.98823529 0.57254902 0.05490196 0.         0.         0.         0.84313725\n",
            " 0.98823529 0.98823529 0.30980392 0.         0.         0.         0.         0.         0.         0.         0.         0.         0.\n",
            " 0.         0.         0.         0.         0.         0.49411765 0.99215686 0.96862745 0.69019608 0.03529412 0.         0.         0.03137255\n",
            " 0.30588235 0.96078431 0.99215686 0.50588235 0.         0.         0.         0.         0.         0.         0.         0.         0.\n",
            " 0.         0.         0.         0.         0.         0.         0.0627451  0.90980392 0.98823529 0.69019608 0.         0.         0.\n",
            " 0.14117647 0.78823529 0.98823529 0.98823529 0.6627451  0.04313725 0.         0.         0.         0.         0.         0.         0.\n",
            " 0.         0.         0.         0.         0.         0.         0.         0.         0.08627451 0.98823529 0.98823529 0.11764706 0.08627451\n",
            " 0.46666667 0.77254902 0.94509804 0.99215686 0.98823529 0.98431373 0.30196078 0.         0.         0.         0.         0.         0.\n",
            " 0.         0.         0.         0.         0.         0.         0.         0.         0.         0.         0.0627451  0.90588235 0.98823529\n",
            " 0.99215686 0.98823529 0.98823529 0.98823529 0.88627451 0.89019608 0.98823529 0.90588235 0.         0.         0.         0.         0.\n",
            " 0.         0.         0.         0.         0.         0.         0.         0.         0.         0.         0.         0.         0.\n",
            " 0.21568627 0.92156863 0.99215686 0.85098039 0.54117647 0.16470588 0.09411765 0.75294118 0.98823529 0.56078431 0.         0.         0.\n",
            " 0.         0.         0.         0.         0.         0.         0.         0.         0.         0.         0.         0.         0.\n",
            " 0.         0.         0.         0.         0.         0.         0.         0.         0.24313725 1.         0.99215686 0.42745098 0.\n",
            " 0.         0.         0.         0.         0.         0.         0.         0.         0.         0.         0.         0.         0.\n",
            " 0.         0.         0.         0.         0.         0.         0.         0.         0.         0.         0.27843137 0.99215686 0.98823529\n",
            " 0.08235294 0.         0.         0.         0.         0.         0.         0.         0.         0.         0.         0.         0.\n",
            " 0.         0.         0.         0.         0.         0.         0.         0.         0.         0.         0.         0.         0.\n",
            " 0.99215686 0.98823529 0.08235294 0.         0.         0.         0.         0.         0.         0.         0.         0.         0.\n",
            " 0.         0.         0.         0.         0.         0.         0.         0.         0.         0.         0.         0.         0.\n",
            " 0.         0.27843137 0.99215686 0.98823529 0.08235294 0.         0.         0.         0.         0.         0.         0.         0.\n",
            " 0.         0.         0.         0.         0.         0.         0.         0.         0.         0.         0.         0.         0.\n",
            " 0.         0.         0.         0.41568627 0.99215686 0.98823529 0.08235294 0.         0.         0.         0.         0.         0.\n",
            " 0.         0.         0.         0.         0.         0.         0.         0.         0.         0.         0.         0.         0.\n",
            " 0.         0.         0.         0.         0.         0.17647059 1.         0.99215686 0.08235294 0.         0.         0.         0.\n",
            " 0.         0.         0.         0.         0.         0.         0.         0.         0.         0.         0.         0.         0.\n",
            " 0.         0.         0.         0.         0.         0.         0.         0.         0.85490196 0.98823529 0.21960784 0.         0.\n",
            " 0.         0.         0.         0.         0.         0.         0.         0.         0.         0.         0.         0.         0.\n",
            " 0.         0.         0.         0.         0.         0.         0.         0.         0.         0.         0.37647059 0.98823529 0.74117647\n",
            " 0.16470588 0.         0.         0.         0.         0.         0.         0.         0.         0.         0.         0.         0.\n",
            " 0.         0.         0.         0.         0.         0.         0.         0.         0.         0.         0.         0.         0.05490196\n",
            " 0.72156863 0.98823529 0.66666667 0.04313725 0.         0.         0.         0.         0.         0.         0.         0.         0.\n",
            " 0.         0.         0.         0.         0.         0.         0.         0.         0.         0.         0.         0.         0.\n",
            " 0.         0.         0.05490196 0.57647059 0.98823529 0.16470588 0.         0.         0.         0.         0.         0.         0.\n",
            " 0.         0.         0.         0.         0.         0.         0.         0.         0.         0.         0.         0.         0.\n",
            " 0.         0.         0.         0.         0.         0.         0.         0.         0.         0.         0.         0.         0.\n",
            " 0.         0.         0.         0.        ]\n"
          ],
          "name": "stdout"
        }
      ]
    },
    {
      "cell_type": "code",
      "metadata": {
        "colab": {
          "base_uri": "https://localhost:8080/"
        },
        "id": "pEvqd0i15IBt",
        "outputId": "f7535bb9-ef05-4b4e-b41c-50ac4c63a7da"
      },
      "source": [
        "from keras.utils import to_categorical\n",
        "\n",
        "y_train = to_categorical(y_train)\n",
        "y_test = to_categorical(y_test)\n",
        "\n",
        "print(y_train[:5])"
      ],
      "execution_count": 28,
      "outputs": [
        {
          "output_type": "stream",
          "text": [
            "[[0. 0. 0. 0. 0. 1. 0. 0. 0. 0.]\n",
            " [1. 0. 0. 0. 0. 0. 0. 0. 0. 0.]\n",
            " [0. 0. 0. 0. 1. 0. 0. 0. 0. 0.]\n",
            " [0. 1. 0. 0. 0. 0. 0. 0. 0. 0.]\n",
            " [0. 0. 0. 0. 0. 0. 0. 0. 0. 1.]]\n"
          ],
          "name": "stdout"
        }
      ]
    },
    {
      "cell_type": "code",
      "metadata": {
        "colab": {
          "base_uri": "https://localhost:8080/"
        },
        "id": "GVn0LP6I6BZf",
        "outputId": "e7cc3c59-676f-4696-f8ce-00d7f7637e3f"
      },
      "source": [
        "print(y_train.shape)"
      ],
      "execution_count": 31,
      "outputs": [
        {
          "output_type": "stream",
          "text": [
            "(60000, 10)\n"
          ],
          "name": "stdout"
        }
      ]
    },
    {
      "cell_type": "code",
      "metadata": {
        "id": "cak-2X5G6Rqa"
      },
      "source": [
        "from keras import models\n",
        "from keras import layers\n",
        "\n",
        "mnist = models.Sequential()\n",
        "mnist.add(layers.Dense(512, activation = 'relu', input_shape=(28*28,)))\n",
        "mnist.add(layers.Dense(256, activation = 'relu'))\n",
        "mnist.add(layers.Dense(10, activation='softmax'))\n"
      ],
      "execution_count": 34,
      "outputs": []
    },
    {
      "cell_type": "code",
      "metadata": {
        "colab": {
          "base_uri": "https://localhost:8080/"
        },
        "id": "jAOmEW1b6uu7",
        "outputId": "238d42bb-2a11-4530-9235-8db500dc4231"
      },
      "source": [
        "mnist.summary()"
      ],
      "execution_count": 35,
      "outputs": [
        {
          "output_type": "stream",
          "text": [
            "Model: \"sequential_2\"\n",
            "_________________________________________________________________\n",
            "Layer (type)                 Output Shape              Param #   \n",
            "=================================================================\n",
            "dense_1 (Dense)              (None, 512)               401920    \n",
            "_________________________________________________________________\n",
            "dense_2 (Dense)              (None, 256)               131328    \n",
            "_________________________________________________________________\n",
            "dense_3 (Dense)              (None, 10)                2570      \n",
            "=================================================================\n",
            "Total params: 535,818\n",
            "Trainable params: 535,818\n",
            "Non-trainable params: 0\n",
            "_________________________________________________________________\n"
          ],
          "name": "stdout"
        }
      ]
    },
    {
      "cell_type": "code",
      "metadata": {
        "id": "_Is8j61m67Y8"
      },
      "source": [
        "mnist.compile(loss='categorical_crossentropy',\n",
        "              optimizer = 'rmsprop',\n",
        "              metrics=['accuracy'])"
      ],
      "execution_count": 36,
      "outputs": []
    },
    {
      "cell_type": "code",
      "metadata": {
        "colab": {
          "base_uri": "https://localhost:8080/"
        },
        "id": "HwaCWKe37Fpb",
        "outputId": "6147a822-4022-4711-947e-cd5a5fb5efe2"
      },
      "source": [
        "%%time\n",
        "\n",
        "Hist = mnist.fit(X_train, y_train, epochs=100, batch_size=128, validation_split=0.2)"
      ],
      "execution_count": 37,
      "outputs": [
        {
          "output_type": "stream",
          "text": [
            "Epoch 1/100\n",
            "375/375 [==============================] - 4s 4ms/step - loss: 0.4588 - accuracy: 0.8608 - val_loss: 0.1424 - val_accuracy: 0.9581\n",
            "Epoch 2/100\n",
            "375/375 [==============================] - 1s 3ms/step - loss: 0.0983 - accuracy: 0.9703 - val_loss: 0.1006 - val_accuracy: 0.9707\n",
            "Epoch 3/100\n",
            "375/375 [==============================] - 1s 3ms/step - loss: 0.0587 - accuracy: 0.9814 - val_loss: 0.0852 - val_accuracy: 0.9749\n",
            "Epoch 4/100\n",
            "375/375 [==============================] - 1s 3ms/step - loss: 0.0383 - accuracy: 0.9879 - val_loss: 0.0876 - val_accuracy: 0.9753\n",
            "Epoch 5/100\n",
            "375/375 [==============================] - 1s 3ms/step - loss: 0.0290 - accuracy: 0.9908 - val_loss: 0.0907 - val_accuracy: 0.9768\n",
            "Epoch 6/100\n",
            "375/375 [==============================] - 1s 3ms/step - loss: 0.0201 - accuracy: 0.9939 - val_loss: 0.0906 - val_accuracy: 0.9778\n",
            "Epoch 7/100\n",
            "375/375 [==============================] - 1s 3ms/step - loss: 0.0143 - accuracy: 0.9957 - val_loss: 0.1037 - val_accuracy: 0.9794\n",
            "Epoch 8/100\n",
            "375/375 [==============================] - 1s 3ms/step - loss: 0.0136 - accuracy: 0.9957 - val_loss: 0.1188 - val_accuracy: 0.9778\n",
            "Epoch 9/100\n",
            "375/375 [==============================] - 1s 3ms/step - loss: 0.0100 - accuracy: 0.9965 - val_loss: 0.1219 - val_accuracy: 0.9797\n",
            "Epoch 10/100\n",
            "375/375 [==============================] - 1s 3ms/step - loss: 0.0094 - accuracy: 0.9970 - val_loss: 0.1373 - val_accuracy: 0.9778\n",
            "Epoch 11/100\n",
            "375/375 [==============================] - 1s 3ms/step - loss: 0.0072 - accuracy: 0.9978 - val_loss: 0.1463 - val_accuracy: 0.9794\n",
            "Epoch 12/100\n",
            "375/375 [==============================] - 1s 3ms/step - loss: 0.0075 - accuracy: 0.9975 - val_loss: 0.1624 - val_accuracy: 0.9783\n",
            "Epoch 13/100\n",
            "375/375 [==============================] - 1s 3ms/step - loss: 0.0068 - accuracy: 0.9979 - val_loss: 0.1618 - val_accuracy: 0.9801\n",
            "Epoch 14/100\n",
            "375/375 [==============================] - 1s 3ms/step - loss: 0.0056 - accuracy: 0.9980 - val_loss: 0.1694 - val_accuracy: 0.9783\n",
            "Epoch 15/100\n",
            "375/375 [==============================] - 1s 3ms/step - loss: 0.0052 - accuracy: 0.9985 - val_loss: 0.1826 - val_accuracy: 0.9762\n",
            "Epoch 16/100\n",
            "375/375 [==============================] - 1s 3ms/step - loss: 0.0042 - accuracy: 0.9987 - val_loss: 0.1494 - val_accuracy: 0.9803\n",
            "Epoch 17/100\n",
            "375/375 [==============================] - 1s 3ms/step - loss: 0.0030 - accuracy: 0.9991 - val_loss: 0.1815 - val_accuracy: 0.9800\n",
            "Epoch 18/100\n",
            "375/375 [==============================] - 1s 3ms/step - loss: 0.0038 - accuracy: 0.9986 - val_loss: 0.1877 - val_accuracy: 0.9793\n",
            "Epoch 19/100\n",
            "375/375 [==============================] - 1s 3ms/step - loss: 0.0046 - accuracy: 0.9985 - val_loss: 0.2682 - val_accuracy: 0.9723\n",
            "Epoch 20/100\n",
            "375/375 [==============================] - 1s 3ms/step - loss: 0.0036 - accuracy: 0.9989 - val_loss: 0.2022 - val_accuracy: 0.9796\n",
            "Epoch 21/100\n",
            "375/375 [==============================] - 1s 3ms/step - loss: 0.0032 - accuracy: 0.9989 - val_loss: 0.1873 - val_accuracy: 0.9811\n",
            "Epoch 22/100\n",
            "375/375 [==============================] - 1s 3ms/step - loss: 0.0032 - accuracy: 0.9990 - val_loss: 0.1860 - val_accuracy: 0.9799\n",
            "Epoch 23/100\n",
            "375/375 [==============================] - 1s 3ms/step - loss: 0.0036 - accuracy: 0.9992 - val_loss: 0.2251 - val_accuracy: 0.9794\n",
            "Epoch 24/100\n",
            "375/375 [==============================] - 1s 3ms/step - loss: 0.0028 - accuracy: 0.9992 - val_loss: 0.2072 - val_accuracy: 0.9802\n",
            "Epoch 25/100\n",
            "375/375 [==============================] - 1s 3ms/step - loss: 0.0026 - accuracy: 0.9994 - val_loss: 0.2235 - val_accuracy: 0.9793\n",
            "Epoch 26/100\n",
            "375/375 [==============================] - 1s 3ms/step - loss: 0.0030 - accuracy: 0.9994 - val_loss: 0.2307 - val_accuracy: 0.9788\n",
            "Epoch 27/100\n",
            "375/375 [==============================] - 1s 3ms/step - loss: 0.0022 - accuracy: 0.9995 - val_loss: 0.2220 - val_accuracy: 0.9798\n",
            "Epoch 28/100\n",
            "375/375 [==============================] - 1s 3ms/step - loss: 0.0026 - accuracy: 0.9993 - val_loss: 0.2686 - val_accuracy: 0.9760\n",
            "Epoch 29/100\n",
            "375/375 [==============================] - 1s 3ms/step - loss: 0.0022 - accuracy: 0.9994 - val_loss: 0.2473 - val_accuracy: 0.9786\n",
            "Epoch 30/100\n",
            "375/375 [==============================] - 1s 3ms/step - loss: 0.0029 - accuracy: 0.9993 - val_loss: 0.2556 - val_accuracy: 0.9770\n",
            "Epoch 31/100\n",
            "375/375 [==============================] - 1s 3ms/step - loss: 0.0010 - accuracy: 0.9996 - val_loss: 0.2314 - val_accuracy: 0.9818\n",
            "Epoch 32/100\n",
            "375/375 [==============================] - 1s 3ms/step - loss: 0.0031 - accuracy: 0.9994 - val_loss: 0.2491 - val_accuracy: 0.9801\n",
            "Epoch 33/100\n",
            "375/375 [==============================] - 1s 3ms/step - loss: 0.0024 - accuracy: 0.9995 - val_loss: 0.2519 - val_accuracy: 0.9812\n",
            "Epoch 34/100\n",
            "375/375 [==============================] - 1s 3ms/step - loss: 0.0024 - accuracy: 0.9995 - val_loss: 0.2895 - val_accuracy: 0.9793\n",
            "Epoch 35/100\n",
            "375/375 [==============================] - 1s 3ms/step - loss: 0.0017 - accuracy: 0.9996 - val_loss: 0.2635 - val_accuracy: 0.9803\n",
            "Epoch 36/100\n",
            "375/375 [==============================] - 1s 3ms/step - loss: 0.0021 - accuracy: 0.9995 - val_loss: 0.2972 - val_accuracy: 0.9787\n",
            "Epoch 37/100\n",
            "375/375 [==============================] - 1s 3ms/step - loss: 0.0049 - accuracy: 0.9994 - val_loss: 0.2707 - val_accuracy: 0.9803\n",
            "Epoch 38/100\n",
            "375/375 [==============================] - 1s 3ms/step - loss: 0.0014 - accuracy: 0.9995 - val_loss: 0.3017 - val_accuracy: 0.9787\n",
            "Epoch 39/100\n",
            "375/375 [==============================] - 1s 3ms/step - loss: 0.0037 - accuracy: 0.9993 - val_loss: 0.2910 - val_accuracy: 0.9799\n",
            "Epoch 40/100\n",
            "375/375 [==============================] - 1s 3ms/step - loss: 8.5500e-04 - accuracy: 0.9997 - val_loss: 0.2808 - val_accuracy: 0.9796\n",
            "Epoch 41/100\n",
            "375/375 [==============================] - 1s 3ms/step - loss: 0.0017 - accuracy: 0.9997 - val_loss: 0.2989 - val_accuracy: 0.9799\n",
            "Epoch 42/100\n",
            "375/375 [==============================] - 1s 3ms/step - loss: 0.0027 - accuracy: 0.9995 - val_loss: 0.2873 - val_accuracy: 0.9808\n",
            "Epoch 43/100\n",
            "375/375 [==============================] - 1s 3ms/step - loss: 0.0011 - accuracy: 0.9998 - val_loss: 0.2910 - val_accuracy: 0.9798\n",
            "Epoch 44/100\n",
            "375/375 [==============================] - 1s 3ms/step - loss: 0.0017 - accuracy: 0.9996 - val_loss: 0.3207 - val_accuracy: 0.9795\n",
            "Epoch 45/100\n",
            "375/375 [==============================] - 1s 3ms/step - loss: 3.8705e-04 - accuracy: 0.9999 - val_loss: 0.3220 - val_accuracy: 0.9808\n",
            "Epoch 46/100\n",
            "375/375 [==============================] - 1s 3ms/step - loss: 8.4930e-04 - accuracy: 0.9998 - val_loss: 0.2977 - val_accuracy: 0.9820\n",
            "Epoch 47/100\n",
            "375/375 [==============================] - 1s 3ms/step - loss: 0.0022 - accuracy: 0.9995 - val_loss: 0.3052 - val_accuracy: 0.9808\n",
            "Epoch 48/100\n",
            "375/375 [==============================] - 1s 3ms/step - loss: 8.1766e-04 - accuracy: 0.9998 - val_loss: 0.2853 - val_accuracy: 0.9820\n",
            "Epoch 49/100\n",
            "375/375 [==============================] - 1s 3ms/step - loss: 8.5393e-04 - accuracy: 0.9998 - val_loss: 0.3051 - val_accuracy: 0.9821\n",
            "Epoch 50/100\n",
            "375/375 [==============================] - 1s 3ms/step - loss: 7.3597e-04 - accuracy: 0.9999 - val_loss: 0.3094 - val_accuracy: 0.9812\n",
            "Epoch 51/100\n",
            "375/375 [==============================] - 1s 3ms/step - loss: 0.0013 - accuracy: 0.9998 - val_loss: 0.2920 - val_accuracy: 0.9816\n",
            "Epoch 52/100\n",
            "375/375 [==============================] - 1s 3ms/step - loss: 3.9484e-04 - accuracy: 0.9999 - val_loss: 0.3035 - val_accuracy: 0.9831\n",
            "Epoch 53/100\n",
            "375/375 [==============================] - 1s 3ms/step - loss: 9.8018e-04 - accuracy: 0.9997 - val_loss: 0.2908 - val_accuracy: 0.9828\n",
            "Epoch 54/100\n",
            "375/375 [==============================] - 1s 3ms/step - loss: 5.8835e-04 - accuracy: 0.9998 - val_loss: 0.3594 - val_accuracy: 0.9783\n",
            "Epoch 55/100\n",
            "375/375 [==============================] - 1s 3ms/step - loss: 0.0020 - accuracy: 0.9997 - val_loss: 0.3004 - val_accuracy: 0.9819\n",
            "Epoch 56/100\n",
            "375/375 [==============================] - 1s 3ms/step - loss: 2.2665e-04 - accuracy: 0.9999 - val_loss: 0.3358 - val_accuracy: 0.9814\n",
            "Epoch 57/100\n",
            "375/375 [==============================] - 1s 3ms/step - loss: 0.0012 - accuracy: 0.9998 - val_loss: 0.3082 - val_accuracy: 0.9822\n",
            "Epoch 58/100\n",
            "375/375 [==============================] - 1s 3ms/step - loss: 6.9828e-04 - accuracy: 0.9999 - val_loss: 0.3177 - val_accuracy: 0.9832\n",
            "Epoch 59/100\n",
            "375/375 [==============================] - 1s 3ms/step - loss: 7.1409e-04 - accuracy: 0.9998 - val_loss: 0.3416 - val_accuracy: 0.9811\n",
            "Epoch 60/100\n",
            "375/375 [==============================] - 1s 3ms/step - loss: 1.5129e-04 - accuracy: 0.9999 - val_loss: 0.3364 - val_accuracy: 0.9818\n",
            "Epoch 61/100\n",
            "375/375 [==============================] - 1s 3ms/step - loss: 0.0012 - accuracy: 0.9997 - val_loss: 0.3232 - val_accuracy: 0.9822\n",
            "Epoch 62/100\n",
            "375/375 [==============================] - 1s 3ms/step - loss: 1.2641e-04 - accuracy: 0.9999 - val_loss: 0.3457 - val_accuracy: 0.9822\n",
            "Epoch 63/100\n",
            "375/375 [==============================] - 1s 3ms/step - loss: 1.6187e-04 - accuracy: 0.9999 - val_loss: 0.3333 - val_accuracy: 0.9828\n",
            "Epoch 64/100\n",
            "375/375 [==============================] - 1s 3ms/step - loss: 5.3850e-04 - accuracy: 0.9999 - val_loss: 0.3385 - val_accuracy: 0.9827\n",
            "Epoch 65/100\n",
            "375/375 [==============================] - 1s 3ms/step - loss: 5.5116e-04 - accuracy: 0.9999 - val_loss: 0.3400 - val_accuracy: 0.9824\n",
            "Epoch 66/100\n",
            "375/375 [==============================] - 1s 3ms/step - loss: 0.0011 - accuracy: 0.9997 - val_loss: 0.3680 - val_accuracy: 0.9810\n",
            "Epoch 67/100\n",
            "375/375 [==============================] - 1s 3ms/step - loss: 0.0012 - accuracy: 0.9998 - val_loss: 0.3670 - val_accuracy: 0.9808\n",
            "Epoch 68/100\n",
            "375/375 [==============================] - 1s 3ms/step - loss: 7.5869e-04 - accuracy: 0.9998 - val_loss: 0.3492 - val_accuracy: 0.9818\n",
            "Epoch 69/100\n",
            "375/375 [==============================] - 1s 3ms/step - loss: 5.7945e-04 - accuracy: 0.9998 - val_loss: 0.4035 - val_accuracy: 0.9808\n",
            "Epoch 70/100\n",
            "375/375 [==============================] - 1s 3ms/step - loss: 6.3529e-04 - accuracy: 0.9999 - val_loss: 0.3932 - val_accuracy: 0.9797\n",
            "Epoch 71/100\n",
            "375/375 [==============================] - 1s 3ms/step - loss: 7.7338e-04 - accuracy: 0.9998 - val_loss: 0.3505 - val_accuracy: 0.9827\n",
            "Epoch 72/100\n",
            "375/375 [==============================] - 1s 3ms/step - loss: 1.1176e-04 - accuracy: 1.0000 - val_loss: 0.3712 - val_accuracy: 0.9818\n",
            "Epoch 73/100\n",
            "375/375 [==============================] - 1s 3ms/step - loss: 9.6171e-04 - accuracy: 0.9997 - val_loss: 0.3568 - val_accuracy: 0.9825\n",
            "Epoch 74/100\n",
            "375/375 [==============================] - 1s 3ms/step - loss: 6.2245e-04 - accuracy: 0.9998 - val_loss: 0.3850 - val_accuracy: 0.9822\n",
            "Epoch 75/100\n",
            "375/375 [==============================] - 1s 3ms/step - loss: 7.6251e-04 - accuracy: 0.9998 - val_loss: 0.3734 - val_accuracy: 0.9807\n",
            "Epoch 76/100\n",
            "375/375 [==============================] - 1s 3ms/step - loss: 0.0013 - accuracy: 0.9998 - val_loss: 0.4466 - val_accuracy: 0.9775\n",
            "Epoch 77/100\n",
            "375/375 [==============================] - 1s 3ms/step - loss: 0.0011 - accuracy: 0.9998 - val_loss: 0.3805 - val_accuracy: 0.9812\n",
            "Epoch 78/100\n",
            "375/375 [==============================] - 1s 3ms/step - loss: 3.2224e-04 - accuracy: 0.9999 - val_loss: 0.3873 - val_accuracy: 0.9799\n",
            "Epoch 79/100\n",
            "375/375 [==============================] - 1s 3ms/step - loss: 0.0013 - accuracy: 0.9998 - val_loss: 0.3934 - val_accuracy: 0.9815\n",
            "Epoch 80/100\n",
            "375/375 [==============================] - 1s 3ms/step - loss: 0.0012 - accuracy: 0.9996 - val_loss: 0.4597 - val_accuracy: 0.9793\n",
            "Epoch 81/100\n",
            "375/375 [==============================] - 1s 3ms/step - loss: 0.0011 - accuracy: 0.9997 - val_loss: 0.4102 - val_accuracy: 0.9797\n",
            "Epoch 82/100\n",
            "375/375 [==============================] - 1s 3ms/step - loss: 6.5437e-04 - accuracy: 0.9997 - val_loss: 0.3923 - val_accuracy: 0.9810\n",
            "Epoch 83/100\n",
            "375/375 [==============================] - 1s 3ms/step - loss: 0.0012 - accuracy: 0.9999 - val_loss: 0.4178 - val_accuracy: 0.9797\n",
            "Epoch 84/100\n",
            "375/375 [==============================] - 1s 3ms/step - loss: 2.9600e-04 - accuracy: 0.9999 - val_loss: 0.4039 - val_accuracy: 0.9808\n",
            "Epoch 85/100\n",
            "375/375 [==============================] - 1s 3ms/step - loss: 2.8377e-04 - accuracy: 0.9998 - val_loss: 0.4213 - val_accuracy: 0.9798\n",
            "Epoch 86/100\n",
            "375/375 [==============================] - 1s 3ms/step - loss: 7.6369e-04 - accuracy: 0.9998 - val_loss: 0.3869 - val_accuracy: 0.9818\n",
            "Epoch 87/100\n",
            "375/375 [==============================] - 1s 3ms/step - loss: 4.8331e-05 - accuracy: 1.0000 - val_loss: 0.3845 - val_accuracy: 0.9803\n",
            "Epoch 88/100\n",
            "375/375 [==============================] - 1s 3ms/step - loss: 1.6382e-06 - accuracy: 1.0000 - val_loss: 0.4020 - val_accuracy: 0.9805\n",
            "Epoch 89/100\n",
            "375/375 [==============================] - 1s 3ms/step - loss: 4.0542e-05 - accuracy: 1.0000 - val_loss: 0.3732 - val_accuracy: 0.9816\n",
            "Epoch 90/100\n",
            "375/375 [==============================] - 1s 3ms/step - loss: 5.9454e-05 - accuracy: 1.0000 - val_loss: 0.4306 - val_accuracy: 0.9797\n",
            "Epoch 91/100\n",
            "375/375 [==============================] - 1s 3ms/step - loss: 4.6933e-04 - accuracy: 0.9998 - val_loss: 0.3924 - val_accuracy: 0.9819\n",
            "Epoch 92/100\n",
            "375/375 [==============================] - 1s 3ms/step - loss: 2.7227e-04 - accuracy: 0.9999 - val_loss: 0.3946 - val_accuracy: 0.9829\n",
            "Epoch 93/100\n",
            "375/375 [==============================] - 1s 3ms/step - loss: 2.7411e-04 - accuracy: 0.9999 - val_loss: 0.3967 - val_accuracy: 0.9816\n",
            "Epoch 94/100\n",
            "375/375 [==============================] - 1s 3ms/step - loss: 3.3719e-05 - accuracy: 1.0000 - val_loss: 0.3966 - val_accuracy: 0.9807\n",
            "Epoch 95/100\n",
            "375/375 [==============================] - 1s 3ms/step - loss: 3.3438e-05 - accuracy: 1.0000 - val_loss: 0.4314 - val_accuracy: 0.9783\n",
            "Epoch 96/100\n",
            "375/375 [==============================] - 1s 3ms/step - loss: 4.8629e-04 - accuracy: 0.9999 - val_loss: 0.3738 - val_accuracy: 0.9821\n",
            "Epoch 97/100\n",
            "375/375 [==============================] - 1s 3ms/step - loss: 5.6224e-05 - accuracy: 1.0000 - val_loss: 0.4051 - val_accuracy: 0.9822\n",
            "Epoch 98/100\n",
            "375/375 [==============================] - 1s 3ms/step - loss: 1.4864e-04 - accuracy: 1.0000 - val_loss: 0.4132 - val_accuracy: 0.9818\n",
            "Epoch 99/100\n",
            "375/375 [==============================] - 1s 3ms/step - loss: 3.3540e-04 - accuracy: 0.9998 - val_loss: 0.4247 - val_accuracy: 0.9818\n",
            "Epoch 100/100\n",
            "375/375 [==============================] - 1s 3ms/step - loss: 6.3305e-04 - accuracy: 0.9999 - val_loss: 0.3782 - val_accuracy: 0.9827\n",
            "CPU times: user 2min 10s, sys: 18.3 s, total: 2min 28s\n",
            "Wall time: 2min\n"
          ],
          "name": "stdout"
        }
      ]
    },
    {
      "cell_type": "code",
      "metadata": {
        "colab": {
          "base_uri": "https://localhost:8080/",
          "height": 374
        },
        "id": "gHPWKO3p7OMZ",
        "outputId": "fdd984aa-267b-4ee2-98ca-143bbd82c760"
      },
      "source": [
        "import matplotlib.pyplot as plt\n",
        "\n",
        "epochs = range(1, len(Hist.history['loss']) + 1)\n",
        "\n",
        "plt.figure(figsize=(9,6))\n",
        "plt.plot(epochs, Hist.history['loss'])\n",
        "plt.plot(epochs, Hist.history['val_loss'])\n",
        "plt.legend(['Traing Loss','Validation Loss'])\n",
        "plt.grid()\n",
        "plt.show()"
      ],
      "execution_count": 38,
      "outputs": [
        {
          "output_type": "display_data",
          "data": {
            "image/png": "[encoded data removed]",
            "text/plain": [
              "<Figure size 648x432 with 1 Axes>"
            ]
          },
          "metadata": {
            "tags": [],
            "needs_background": "light"
          }
        }
      ]
    },
    {
      "cell_type": "code",
      "metadata": {
        "colab": {
          "base_uri": "https://localhost:8080/"
        },
        "id": "G78syMVm8gLF",
        "outputId": "58b3edbf-0a0b-420c-d6a7-881a7fe83179"
      },
      "source": [
        "loss, accuracy = mnist.evaluate(X_test, y_test)\n",
        "print(loss, accuracy)"
      ],
      "execution_count": 40,
      "outputs": [
        {
          "output_type": "stream",
          "text": [
            "313/313 [==============================] - 1s 2ms/step - loss: 0.3499 - accuracy: 0.9834\n",
            "0.3499223291873932 0.9833999872207642\n"
          ],
          "name": "stdout"
        }
      ]
    },
    {
      "cell_type": "code",
      "metadata": {
        "colab": {
          "base_uri": "https://localhost:8080/"
        },
        "id": "IbBW80N28nMh",
        "outputId": "4cc068ed-bed8-4f15-bd5c-5e7a76686707"
      },
      "source": [
        "np.set_printoptions(suppress=True, precision = 9)\n",
        "print(mnist.predict(X_test[:1,:]))"
      ],
      "execution_count": 41,
      "outputs": [
        {
          "output_type": "stream",
          "text": [
            "[[0. 0. 0. 0. 0. 0. 0. 1. 0. 0.]]\n"
          ],
          "name": "stdout"
        }
      ]
    },
    {
      "cell_type": "code",
      "metadata": {
        "colab": {
          "base_uri": "https://localhost:8080/"
        },
        "id": "V2jXRYts83Sz",
        "outputId": "193287ae-f37a-4f85-9eb4-14333e7220e6"
      },
      "source": [
        "print(mnist.predict_classes(X_test[:1,:]))"
      ],
      "execution_count": 42,
      "outputs": [
        {
          "output_type": "stream",
          "text": [
            "[7]\n"
          ],
          "name": "stdout"
        },
        {
          "output_type": "stream",
          "text": [
            "/usr/local/lib/python3.7/dist-packages/tensorflow/python/keras/engine/sequential.py:450: UserWarning: `model.predict_classes()` is deprecated and will be removed after 2021-01-01. Please use instead:* `np.argmax(model.predict(x), axis=-1)`,   if your model does multi-class classification   (e.g. if it uses a `softmax` last-layer activation).* `(model.predict(x) > 0.5).astype(\"int32\")`,   if your model does binary classification   (e.g. if it uses a `sigmoid` last-layer activation).\n",
            "  warnings.warn('`model.predict_classes()` is deprecated and '\n"
          ],
          "name": "stderr"
        }
      ]
    },
    {
      "cell_type": "code",
      "metadata": {
        "id": "LsnHiDsP88-g"
      },
      "source": [
        ""
      ],
      "execution_count": null,
      "outputs": []
    }
  ]
}