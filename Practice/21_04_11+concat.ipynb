{
  "nbformat": 4,
  "nbformat_minor": 0,
  "metadata": {
    "colab": {
      "name": "+concat.ipynb",
      "provenance": [],
      "toc_visible": true
    },
    "kernelspec": {
      "name": "python3",
      "display_name": "Python 3"
    },
    "language_info": {
      "name": "python"
    },
    "accelerator": "GPU"
  },
  "cells": [
    {
      "cell_type": "code",
      "metadata": {
        "colab": {
          "base_uri": "https://localhost:8080/"
        },
        "id": "KCE6zC3a_0Py",
        "outputId": "49e480c8-3ea3-4466-882b-4966642dc190"
      },
      "source": [
        "from google.colab import drive\n",
        "\n",
        "drive.mount('/content/drive')"
      ],
      "execution_count": 1,
      "outputs": [
        {
          "output_type": "stream",
          "text": [
            "Drive already mounted at /content/drive; to attempt to forcibly remount, call drive.mount(\"/content/drive\", force_remount=True).\n"
          ],
          "name": "stdout"
        }
      ]
    },
    {
      "cell_type": "code",
      "metadata": {
        "colab": {
          "base_uri": "https://localhost:8080/"
        },
        "id": "Rtaw34-8AMZ7",
        "outputId": "276e4520-74fb-4fa2-c5c9-8fe82c64d50f"
      },
      "source": [
        "!ls -l '/content/drive/My Drive/Colab Notebooks/datasets/dogs_and_cats_small.zip'"
      ],
      "execution_count": 2,
      "outputs": [
        {
          "output_type": "stream",
          "text": [
            "-rw------- 1 root root 90618980 Mar  9 02:39 '/content/drive/My Drive/Colab Notebooks/datasets/dogs_and_cats_small.zip'\n"
          ],
          "name": "stdout"
        }
      ]
    },
    {
      "cell_type": "code",
      "metadata": {
        "id": "7HjuiOakAPls",
        "colab": {
          "base_uri": "https://localhost:8080/"
        },
        "outputId": "1ec5bc95-139f-4bf3-c520-7807f2262d94"
      },
      "source": [
        "!unzip /content/drive/My\\ Drive/Colab\\ Notebooks/datasets/dogs_and_cats_small.zip"
      ],
      "execution_count": 3,
      "outputs": [
        {
          "output_type": "stream",
          "text": [
            "Archive:  /content/drive/My Drive/Colab Notebooks/datasets/dogs_and_cats_small.zip\n",
            "replace test/cats/cat.1501.jpg? [y]es, [n]o, [A]ll, [N]one, [r]ename: N\n"
          ],
          "name": "stdout"
        }
      ]
    },
    {
      "cell_type": "code",
      "metadata": {
        "colab": {
          "base_uri": "https://localhost:8080/"
        },
        "id": "QL6JsWdOAQB7",
        "outputId": "1fa2caf8-92b3-473c-90c3-953fccdacd2e"
      },
      "source": [
        "!ls -l"
      ],
      "execution_count": 4,
      "outputs": [
        {
          "output_type": "stream",
          "text": [
            "total 20\n",
            "drwx------ 5 root root 4096 Apr 11 05:47 drive\n",
            "drwxr-xr-x 1 root root 4096 Apr  7 13:36 sample_data\n",
            "drwxr-xr-x 4 root root 4096 Apr 11 05:47 test\n",
            "drwxr-xr-x 4 root root 4096 Apr 11 05:47 train\n",
            "drwxr-xr-x 4 root root 4096 Apr 11 05:47 validation\n"
          ],
          "name": "stdout"
        }
      ]
    },
    {
      "cell_type": "code",
      "metadata": {
        "id": "KjGvxLQDAWNj"
      },
      "source": [
        "train_dir = 'train'\n",
        "valid_dir = 'validation'\n",
        "test_dir = 'test'"
      ],
      "execution_count": 5,
      "outputs": []
    },
    {
      "cell_type": "code",
      "metadata": {
        "colab": {
          "base_uri": "https://localhost:8080/"
        },
        "id": "EAaEvBkiAfPR",
        "outputId": "f15ddb23-0836-45ec-dfa0-b5ba1c3d01f2"
      },
      "source": [
        "from keras.applications import VGG16\n",
        "\n",
        "conv_base = VGG16(weights='imagenet', include_top = False, input_shape=(300,300,3))\n",
        "conv_base.summary()"
      ],
      "execution_count": 7,
      "outputs": [
        {
          "output_type": "stream",
          "text": [
            "Model: \"vgg16\"\n",
            "_________________________________________________________________\n",
            "Layer (type)                 Output Shape              Param #   \n",
            "=================================================================\n",
            "input_1 (InputLayer)         [(None, 300, 300, 3)]     0         \n",
            "_________________________________________________________________\n",
            "block1_conv1 (Conv2D)        (None, 300, 300, 64)      1792      \n",
            "_________________________________________________________________\n",
            "block1_conv2 (Conv2D)        (None, 300, 300, 64)      36928     \n",
            "_________________________________________________________________\n",
            "block1_pool (MaxPooling2D)   (None, 150, 150, 64)      0         \n",
            "_________________________________________________________________\n",
            "block2_conv1 (Conv2D)        (None, 150, 150, 128)     73856     \n",
            "_________________________________________________________________\n",
            "block2_conv2 (Conv2D)        (None, 150, 150, 128)     147584    \n",
            "_________________________________________________________________\n",
            "block2_pool (MaxPooling2D)   (None, 75, 75, 128)       0         \n",
            "_________________________________________________________________\n",
            "block3_conv1 (Conv2D)        (None, 75, 75, 256)       295168    \n",
            "_________________________________________________________________\n",
            "block3_conv2 (Conv2D)        (None, 75, 75, 256)       590080    \n",
            "_________________________________________________________________\n",
            "block3_conv3 (Conv2D)        (None, 75, 75, 256)       590080    \n",
            "_________________________________________________________________\n",
            "block3_pool (MaxPooling2D)   (None, 37, 37, 256)       0         \n",
            "_________________________________________________________________\n",
            "block4_conv1 (Conv2D)        (None, 37, 37, 512)       1180160   \n",
            "_________________________________________________________________\n",
            "block4_conv2 (Conv2D)        (None, 37, 37, 512)       2359808   \n",
            "_________________________________________________________________\n",
            "block4_conv3 (Conv2D)        (None, 37, 37, 512)       2359808   \n",
            "_________________________________________________________________\n",
            "block4_pool (MaxPooling2D)   (None, 18, 18, 512)       0         \n",
            "_________________________________________________________________\n",
            "block5_conv1 (Conv2D)        (None, 18, 18, 512)       2359808   \n",
            "_________________________________________________________________\n",
            "block5_conv2 (Conv2D)        (None, 18, 18, 512)       2359808   \n",
            "_________________________________________________________________\n",
            "block5_conv3 (Conv2D)        (None, 18, 18, 512)       2359808   \n",
            "_________________________________________________________________\n",
            "block5_pool (MaxPooling2D)   (None, 9, 9, 512)         0         \n",
            "=================================================================\n",
            "Total params: 14,714,688\n",
            "Trainable params: 14,714,688\n",
            "Non-trainable params: 0\n",
            "_________________________________________________________________\n"
          ],
          "name": "stdout"
        }
      ]
    },
    {
      "cell_type": "markdown",
      "metadata": {
        "id": "iE4GdKNmJobx"
      },
      "source": [
        "# feature_Extraction_with_Funtion"
      ]
    },
    {
      "cell_type": "code",
      "metadata": {
        "id": "zeojltM4BI5s"
      },
      "source": [
        "from keras.preprocessing.image import ImageDataGenerator\n",
        "import numpy as np\n",
        "\n",
        "datagen =ImageDataGenerator(rescale = 1./255)\n",
        "\n",
        "batch_size=20\n",
        "\n",
        "def extract_features(directory, sample_count):\n",
        "  features = np.zeros(shape=(sample_count,9,9,512))\n",
        "  labels = np.zeros(shape = (sample_count))\n",
        "\n",
        "  generator = datagen.flow_from_directory(directory, target_size=(300,300), batch_size=batch_size, class_mode='binary')\n",
        "\n",
        "  i = 0\n",
        "  for inputs_batch, labels_batch in generator:\n",
        "    features_batch = conv_base.predict(inputs_batch)\n",
        "    features[i*batch_size : (i+1)*batch_size] = features_batch\n",
        "    labels[i*batch_size : (i+1)*batch_size]=labels_batch\n",
        "\n",
        "    i += 1\n",
        "    if i * batch_size >= sample_count:\n",
        "      break\n",
        "\n",
        "  return features, labels"
      ],
      "execution_count": null,
      "outputs": []
    },
    {
      "cell_type": "code",
      "metadata": {
        "colab": {
          "base_uri": "https://localhost:8080/"
        },
        "id": "WW9WPSfdGm3Y",
        "outputId": "aeb8df22-2bd8-428a-9b0f-ff72442f266f"
      },
      "source": [
        "%%time\n",
        "\n",
        "train_features, train_labels = extract_features(train_dir, 2000)\n",
        "valid_features, valid_labels = extract_features(valid_dir, 1000)\n",
        "test_features, test_labels = extract_features(test_dir, 1000)"
      ],
      "execution_count": null,
      "outputs": [
        {
          "output_type": "stream",
          "text": [
            "Found 2000 images belonging to 2 classes.\n",
            "Found 1000 images belonging to 2 classes.\n",
            "Found 1000 images belonging to 2 classes.\n",
            "CPU times: user 43.1 s, sys: 19.8 s, total: 1min 2s\n",
            "Wall time: 1min 1s\n"
          ],
          "name": "stdout"
        }
      ]
    },
    {
      "cell_type": "code",
      "metadata": {
        "colab": {
          "base_uri": "https://localhost:8080/"
        },
        "id": "ie_ApIDZG3e4",
        "outputId": "32fedef1-4bd6-4b0f-b129-00d64ff73173"
      },
      "source": [
        "train_features.shape, valid_features.shape, test_features.shape"
      ],
      "execution_count": null,
      "outputs": [
        {
          "output_type": "execute_result",
          "data": {
            "text/plain": [
              "((2000, 9, 9, 512), (1000, 9, 9, 512), (1000, 9, 9, 512))"
            ]
          },
          "metadata": {
            "tags": []
          },
          "execution_count": 14
        }
      ]
    },
    {
      "cell_type": "code",
      "metadata": {
        "colab": {
          "base_uri": "https://localhost:8080/"
        },
        "id": "w0d0n_syHGmC",
        "outputId": "8dd8d743-ec1b-4af9-a570-81e3a5390ed7"
      },
      "source": [
        "train_features = np.reshape(train_features, (2000, 9*9*512))\n",
        "valid_features = valid_features.reshape(1000, 9*9*512)\n",
        "test_features = test_features.reshape(1000, 9*9*512)\n",
        "\n",
        "train_features.shape, valid_features.shape, test_features.shape"
      ],
      "execution_count": null,
      "outputs": [
        {
          "output_type": "execute_result",
          "data": {
            "text/plain": [
              "((2000, 41472), (1000, 41472), (1000, 41472))"
            ]
          },
          "metadata": {
            "tags": []
          },
          "execution_count": 16
        }
      ]
    },
    {
      "cell_type": "code",
      "metadata": {
        "colab": {
          "base_uri": "https://localhost:8080/"
        },
        "id": "J2MjTvAXHhZi",
        "outputId": "8d5690a6-9fdc-49a6-a2c6-fbe5ae93a2db"
      },
      "source": [
        "from keras import models, layers\n",
        "\n",
        "model = models.Sequential()\n",
        "model.add(layers.Dense(256, activation='relu', input_dim=9*9*512))\n",
        "model.add(layers.Dropout(0.5))\n",
        "model.add(layers.Dense(1, activation='sigmoid'))\n",
        "\n",
        "model.summary()\n",
        "\n",
        "model.compile(loss='binary_crossentropy', optimizer='adam', metrics=['accuracy'])"
      ],
      "execution_count": null,
      "outputs": [
        {
          "output_type": "stream",
          "text": [
            "Model: \"sequential_2\"\n",
            "_________________________________________________________________\n",
            "Layer (type)                 Output Shape              Param #   \n",
            "=================================================================\n",
            "dense_3 (Dense)              (None, 256)               10617088  \n",
            "_________________________________________________________________\n",
            "dropout_2 (Dropout)          (None, 256)               0         \n",
            "_________________________________________________________________\n",
            "dense_4 (Dense)              (None, 1)                 257       \n",
            "=================================================================\n",
            "Total params: 10,617,345\n",
            "Trainable params: 10,617,345\n",
            "Non-trainable params: 0\n",
            "_________________________________________________________________\n"
          ],
          "name": "stdout"
        }
      ]
    },
    {
      "cell_type": "code",
      "metadata": {
        "colab": {
          "base_uri": "https://localhost:8080/"
        },
        "id": "kFs5XiauIQgg",
        "outputId": "5d72c00c-f226-4964-d43d-2ad7c4964d30"
      },
      "source": [
        "%%time\n",
        "Hist = model.fit(train_features, train_labels, epochs=100, batch_size=20, validation_data=(valid_features, valid_labels))"
      ],
      "execution_count": null,
      "outputs": [
        {
          "output_type": "stream",
          "text": [
            "Epoch 1/100\n",
            "100/100 [==============================] - 1s 9ms/step - loss: 1.3658 - accuracy: 0.6934 - val_loss: 0.3118 - val_accuracy: 0.8610\n",
            "Epoch 2/100\n",
            "100/100 [==============================] - 1s 6ms/step - loss: 0.2739 - accuracy: 0.8963 - val_loss: 0.2276 - val_accuracy: 0.9080\n",
            "Epoch 3/100\n",
            "100/100 [==============================] - 1s 6ms/step - loss: 0.2196 - accuracy: 0.9085 - val_loss: 0.2310 - val_accuracy: 0.9100\n",
            "Epoch 4/100\n",
            "100/100 [==============================] - 1s 6ms/step - loss: 0.1356 - accuracy: 0.9453 - val_loss: 0.2094 - val_accuracy: 0.9140\n",
            "Epoch 5/100\n",
            "100/100 [==============================] - 1s 6ms/step - loss: 0.1117 - accuracy: 0.9620 - val_loss: 0.2999 - val_accuracy: 0.8960\n",
            "Epoch 6/100\n",
            "100/100 [==============================] - 1s 6ms/step - loss: 0.0986 - accuracy: 0.9631 - val_loss: 0.1896 - val_accuracy: 0.9220\n",
            "Epoch 7/100\n",
            "100/100 [==============================] - 1s 6ms/step - loss: 0.1125 - accuracy: 0.9516 - val_loss: 0.2034 - val_accuracy: 0.9200\n",
            "Epoch 8/100\n",
            "100/100 [==============================] - 1s 6ms/step - loss: 0.0965 - accuracy: 0.9636 - val_loss: 0.2128 - val_accuracy: 0.9150\n",
            "Epoch 9/100\n",
            "100/100 [==============================] - 1s 7ms/step - loss: 0.0707 - accuracy: 0.9726 - val_loss: 0.1926 - val_accuracy: 0.9160\n",
            "Epoch 10/100\n",
            "100/100 [==============================] - 1s 6ms/step - loss: 0.0776 - accuracy: 0.9702 - val_loss: 0.1912 - val_accuracy: 0.9280\n",
            "Epoch 11/100\n",
            "100/100 [==============================] - 1s 6ms/step - loss: 0.0490 - accuracy: 0.9809 - val_loss: 0.2139 - val_accuracy: 0.9260\n",
            "Epoch 12/100\n",
            "100/100 [==============================] - 1s 6ms/step - loss: 0.0496 - accuracy: 0.9877 - val_loss: 0.2195 - val_accuracy: 0.9270\n",
            "Epoch 13/100\n",
            "100/100 [==============================] - 1s 6ms/step - loss: 0.0392 - accuracy: 0.9869 - val_loss: 0.2520 - val_accuracy: 0.9230\n",
            "Epoch 14/100\n",
            "100/100 [==============================] - 1s 6ms/step - loss: 0.0472 - accuracy: 0.9786 - val_loss: 0.2969 - val_accuracy: 0.9100\n",
            "Epoch 15/100\n",
            "100/100 [==============================] - 1s 6ms/step - loss: 0.0599 - accuracy: 0.9756 - val_loss: 0.2518 - val_accuracy: 0.9190\n",
            "Epoch 16/100\n",
            "100/100 [==============================] - 1s 6ms/step - loss: 0.0398 - accuracy: 0.9823 - val_loss: 0.2877 - val_accuracy: 0.9220\n",
            "Epoch 17/100\n",
            "100/100 [==============================] - 1s 6ms/step - loss: 0.0279 - accuracy: 0.9895 - val_loss: 0.2853 - val_accuracy: 0.9250\n",
            "Epoch 18/100\n",
            "100/100 [==============================] - 1s 6ms/step - loss: 0.0317 - accuracy: 0.9880 - val_loss: 0.2520 - val_accuracy: 0.9260\n",
            "Epoch 19/100\n",
            "100/100 [==============================] - 1s 7ms/step - loss: 0.0274 - accuracy: 0.9875 - val_loss: 0.3140 - val_accuracy: 0.9240\n",
            "Epoch 20/100\n",
            "100/100 [==============================] - 1s 6ms/step - loss: 0.0409 - accuracy: 0.9826 - val_loss: 0.3242 - val_accuracy: 0.9180\n",
            "Epoch 21/100\n",
            "100/100 [==============================] - 1s 6ms/step - loss: 0.0514 - accuracy: 0.9772 - val_loss: 0.3280 - val_accuracy: 0.9170\n",
            "Epoch 22/100\n",
            "100/100 [==============================] - 1s 6ms/step - loss: 0.0651 - accuracy: 0.9721 - val_loss: 0.2820 - val_accuracy: 0.9160\n",
            "Epoch 23/100\n",
            "100/100 [==============================] - 1s 6ms/step - loss: 0.0987 - accuracy: 0.9477 - val_loss: 0.2584 - val_accuracy: 0.9260\n",
            "Epoch 24/100\n",
            "100/100 [==============================] - 1s 6ms/step - loss: 0.0633 - accuracy: 0.9698 - val_loss: 0.3736 - val_accuracy: 0.9170\n",
            "Epoch 25/100\n",
            "100/100 [==============================] - 1s 6ms/step - loss: 0.0502 - accuracy: 0.9786 - val_loss: 0.2385 - val_accuracy: 0.9260\n",
            "Epoch 26/100\n",
            "100/100 [==============================] - 1s 6ms/step - loss: 0.0586 - accuracy: 0.9733 - val_loss: 0.2817 - val_accuracy: 0.9200\n",
            "Epoch 27/100\n",
            "100/100 [==============================] - 1s 6ms/step - loss: 0.0685 - accuracy: 0.9674 - val_loss: 0.3285 - val_accuracy: 0.9030\n",
            "Epoch 28/100\n",
            "100/100 [==============================] - 1s 6ms/step - loss: 0.0620 - accuracy: 0.9706 - val_loss: 0.3720 - val_accuracy: 0.9180\n",
            "Epoch 29/100\n",
            "100/100 [==============================] - 1s 6ms/step - loss: 0.0604 - accuracy: 0.9688 - val_loss: 0.3309 - val_accuracy: 0.9270\n",
            "Epoch 30/100\n",
            "100/100 [==============================] - 1s 6ms/step - loss: 0.0324 - accuracy: 0.9883 - val_loss: 0.4584 - val_accuracy: 0.9100\n",
            "Epoch 31/100\n",
            "100/100 [==============================] - 1s 6ms/step - loss: 0.0304 - accuracy: 0.9865 - val_loss: 0.3088 - val_accuracy: 0.9210\n",
            "Epoch 32/100\n",
            "100/100 [==============================] - 1s 6ms/step - loss: 0.0380 - accuracy: 0.9859 - val_loss: 0.3594 - val_accuracy: 0.9190\n",
            "Epoch 33/100\n",
            "100/100 [==============================] - 1s 6ms/step - loss: 0.0472 - accuracy: 0.9738 - val_loss: 0.3248 - val_accuracy: 0.9220\n",
            "Epoch 34/100\n",
            "100/100 [==============================] - 1s 7ms/step - loss: 0.0330 - accuracy: 0.9826 - val_loss: 0.3119 - val_accuracy: 0.9240\n",
            "Epoch 35/100\n",
            "100/100 [==============================] - 1s 6ms/step - loss: 0.0354 - accuracy: 0.9776 - val_loss: 0.2776 - val_accuracy: 0.9250\n",
            "Epoch 36/100\n",
            "100/100 [==============================] - 1s 6ms/step - loss: 0.0531 - accuracy: 0.9784 - val_loss: 0.2565 - val_accuracy: 0.9230\n",
            "Epoch 37/100\n",
            "100/100 [==============================] - 1s 6ms/step - loss: 0.0364 - accuracy: 0.9838 - val_loss: 0.3495 - val_accuracy: 0.9130\n",
            "Epoch 38/100\n",
            "100/100 [==============================] - 1s 7ms/step - loss: 0.0536 - accuracy: 0.9728 - val_loss: 0.3006 - val_accuracy: 0.9200\n",
            "Epoch 39/100\n",
            "100/100 [==============================] - 1s 6ms/step - loss: 0.0585 - accuracy: 0.9749 - val_loss: 0.3119 - val_accuracy: 0.9270\n",
            "Epoch 40/100\n",
            "100/100 [==============================] - 1s 6ms/step - loss: 0.0410 - accuracy: 0.9831 - val_loss: 0.2886 - val_accuracy: 0.9150\n",
            "Epoch 41/100\n",
            "100/100 [==============================] - 1s 6ms/step - loss: 0.0384 - accuracy: 0.9837 - val_loss: 0.3926 - val_accuracy: 0.9260\n",
            "Epoch 42/100\n",
            "100/100 [==============================] - 1s 6ms/step - loss: 0.0389 - accuracy: 0.9795 - val_loss: 0.2996 - val_accuracy: 0.9250\n",
            "Epoch 43/100\n",
            "100/100 [==============================] - 1s 6ms/step - loss: 0.0375 - accuracy: 0.9812 - val_loss: 0.3082 - val_accuracy: 0.9260\n",
            "Epoch 44/100\n",
            "100/100 [==============================] - 1s 6ms/step - loss: 0.0561 - accuracy: 0.9665 - val_loss: 0.4937 - val_accuracy: 0.9080\n",
            "Epoch 45/100\n",
            "100/100 [==============================] - 1s 6ms/step - loss: 0.0416 - accuracy: 0.9846 - val_loss: 0.3409 - val_accuracy: 0.9260\n",
            "Epoch 46/100\n",
            "100/100 [==============================] - 1s 6ms/step - loss: 0.0198 - accuracy: 0.9932 - val_loss: 0.4238 - val_accuracy: 0.9110\n",
            "Epoch 47/100\n",
            "100/100 [==============================] - 1s 6ms/step - loss: 0.0524 - accuracy: 0.9670 - val_loss: 0.3530 - val_accuracy: 0.9280\n",
            "Epoch 48/100\n",
            "100/100 [==============================] - 1s 6ms/step - loss: 0.0458 - accuracy: 0.9792 - val_loss: 0.3826 - val_accuracy: 0.9270\n",
            "Epoch 49/100\n",
            "100/100 [==============================] - 1s 6ms/step - loss: 0.0367 - accuracy: 0.9850 - val_loss: 0.3489 - val_accuracy: 0.9260\n",
            "Epoch 50/100\n",
            "100/100 [==============================] - 1s 6ms/step - loss: 0.0468 - accuracy: 0.9854 - val_loss: 0.4554 - val_accuracy: 0.9210\n",
            "Epoch 51/100\n",
            "100/100 [==============================] - 1s 6ms/step - loss: 0.0202 - accuracy: 0.9921 - val_loss: 0.5321 - val_accuracy: 0.9160\n",
            "Epoch 52/100\n",
            "100/100 [==============================] - 1s 6ms/step - loss: 0.0139 - accuracy: 0.9961 - val_loss: 0.3481 - val_accuracy: 0.9170\n",
            "Epoch 53/100\n",
            "100/100 [==============================] - 1s 6ms/step - loss: 0.0258 - accuracy: 0.9834 - val_loss: 0.3682 - val_accuracy: 0.9130\n",
            "Epoch 54/100\n",
            "100/100 [==============================] - 1s 6ms/step - loss: 0.0343 - accuracy: 0.9857 - val_loss: 0.3962 - val_accuracy: 0.9210\n",
            "Epoch 55/100\n",
            "100/100 [==============================] - 1s 6ms/step - loss: 0.0294 - accuracy: 0.9872 - val_loss: 0.4862 - val_accuracy: 0.9230\n",
            "Epoch 56/100\n",
            "100/100 [==============================] - 1s 6ms/step - loss: 0.0139 - accuracy: 0.9952 - val_loss: 0.5225 - val_accuracy: 0.9080\n",
            "Epoch 57/100\n",
            "100/100 [==============================] - 1s 6ms/step - loss: 0.0304 - accuracy: 0.9834 - val_loss: 0.3451 - val_accuracy: 0.9180\n",
            "Epoch 58/100\n",
            "100/100 [==============================] - 1s 6ms/step - loss: 0.0366 - accuracy: 0.9890 - val_loss: 0.2849 - val_accuracy: 0.9270\n",
            "Epoch 59/100\n",
            "100/100 [==============================] - 1s 6ms/step - loss: 0.0456 - accuracy: 0.9791 - val_loss: 0.5305 - val_accuracy: 0.9270\n",
            "Epoch 60/100\n",
            "100/100 [==============================] - 1s 6ms/step - loss: 0.0342 - accuracy: 0.9882 - val_loss: 0.4397 - val_accuracy: 0.9230\n",
            "Epoch 61/100\n",
            "100/100 [==============================] - 1s 6ms/step - loss: 0.0416 - accuracy: 0.9812 - val_loss: 0.3618 - val_accuracy: 0.9190\n",
            "Epoch 62/100\n",
            "100/100 [==============================] - 1s 6ms/step - loss: 0.0553 - accuracy: 0.9615 - val_loss: 0.4687 - val_accuracy: 0.9210\n",
            "Epoch 63/100\n",
            "100/100 [==============================] - 1s 6ms/step - loss: 0.0277 - accuracy: 0.9877 - val_loss: 0.4772 - val_accuracy: 0.9220\n",
            "Epoch 64/100\n",
            "100/100 [==============================] - 1s 6ms/step - loss: 0.0153 - accuracy: 0.9916 - val_loss: 0.5617 - val_accuracy: 0.9230\n",
            "Epoch 65/100\n",
            "100/100 [==============================] - 1s 6ms/step - loss: 0.0282 - accuracy: 0.9806 - val_loss: 0.3530 - val_accuracy: 0.9190\n",
            "Epoch 66/100\n",
            "100/100 [==============================] - 1s 6ms/step - loss: 0.0261 - accuracy: 0.9890 - val_loss: 0.4029 - val_accuracy: 0.9210\n",
            "Epoch 67/100\n",
            "100/100 [==============================] - 1s 6ms/step - loss: 0.0428 - accuracy: 0.9841 - val_loss: 0.3437 - val_accuracy: 0.9220\n",
            "Epoch 68/100\n",
            "100/100 [==============================] - 1s 6ms/step - loss: 0.0304 - accuracy: 0.9830 - val_loss: 0.6577 - val_accuracy: 0.9200\n",
            "Epoch 69/100\n",
            "100/100 [==============================] - 1s 6ms/step - loss: 0.0306 - accuracy: 0.9868 - val_loss: 0.4722 - val_accuracy: 0.9210\n",
            "Epoch 70/100\n",
            "100/100 [==============================] - 1s 7ms/step - loss: 0.0179 - accuracy: 0.9914 - val_loss: 0.5125 - val_accuracy: 0.9210\n",
            "Epoch 71/100\n",
            "100/100 [==============================] - 1s 6ms/step - loss: 0.0808 - accuracy: 0.9663 - val_loss: 0.4086 - val_accuracy: 0.9270\n",
            "Epoch 72/100\n",
            "100/100 [==============================] - 1s 6ms/step - loss: 0.0294 - accuracy: 0.9901 - val_loss: 0.5143 - val_accuracy: 0.9140\n",
            "Epoch 73/100\n",
            "100/100 [==============================] - 1s 6ms/step - loss: 0.0355 - accuracy: 0.9874 - val_loss: 0.3575 - val_accuracy: 0.9220\n",
            "Epoch 74/100\n",
            "100/100 [==============================] - 1s 6ms/step - loss: 0.0272 - accuracy: 0.9894 - val_loss: 0.4816 - val_accuracy: 0.9260\n",
            "Epoch 75/100\n",
            "100/100 [==============================] - 1s 6ms/step - loss: 0.0291 - accuracy: 0.9912 - val_loss: 0.4459 - val_accuracy: 0.9250\n",
            "Epoch 76/100\n",
            "100/100 [==============================] - 1s 6ms/step - loss: 0.0202 - accuracy: 0.9839 - val_loss: 0.6577 - val_accuracy: 0.9160\n",
            "Epoch 77/100\n",
            "100/100 [==============================] - 1s 6ms/step - loss: 0.0273 - accuracy: 0.9873 - val_loss: 0.5267 - val_accuracy: 0.9220\n",
            "Epoch 78/100\n",
            "100/100 [==============================] - 1s 6ms/step - loss: 0.0291 - accuracy: 0.9901 - val_loss: 0.5083 - val_accuracy: 0.9230\n",
            "Epoch 79/100\n",
            "100/100 [==============================] - 1s 6ms/step - loss: 0.0339 - accuracy: 0.9820 - val_loss: 0.4023 - val_accuracy: 0.9220\n",
            "Epoch 80/100\n",
            "100/100 [==============================] - 1s 6ms/step - loss: 0.0204 - accuracy: 0.9880 - val_loss: 0.4970 - val_accuracy: 0.9220\n",
            "Epoch 81/100\n",
            "100/100 [==============================] - 1s 6ms/step - loss: 0.0332 - accuracy: 0.9828 - val_loss: 0.5182 - val_accuracy: 0.9240\n",
            "Epoch 82/100\n",
            "100/100 [==============================] - 1s 6ms/step - loss: 0.0317 - accuracy: 0.9853 - val_loss: 0.4560 - val_accuracy: 0.9220\n",
            "Epoch 83/100\n",
            "100/100 [==============================] - 1s 6ms/step - loss: 0.0381 - accuracy: 0.9851 - val_loss: 0.3369 - val_accuracy: 0.9280\n",
            "Epoch 84/100\n",
            "100/100 [==============================] - 1s 6ms/step - loss: 0.0256 - accuracy: 0.9880 - val_loss: 0.5203 - val_accuracy: 0.9250\n",
            "Epoch 85/100\n",
            "100/100 [==============================] - 1s 7ms/step - loss: 0.0281 - accuracy: 0.9862 - val_loss: 0.4681 - val_accuracy: 0.9210\n",
            "Epoch 86/100\n",
            "100/100 [==============================] - 1s 7ms/step - loss: 0.0271 - accuracy: 0.9898 - val_loss: 0.9642 - val_accuracy: 0.8840\n",
            "Epoch 87/100\n",
            "100/100 [==============================] - 1s 6ms/step - loss: 0.0881 - accuracy: 0.9705 - val_loss: 0.7497 - val_accuracy: 0.9110\n",
            "Epoch 88/100\n",
            "100/100 [==============================] - 1s 6ms/step - loss: 0.0239 - accuracy: 0.9855 - val_loss: 0.4748 - val_accuracy: 0.9230\n",
            "Epoch 89/100\n",
            "100/100 [==============================] - 1s 6ms/step - loss: 0.0228 - accuracy: 0.9917 - val_loss: 0.4085 - val_accuracy: 0.9200\n",
            "Epoch 90/100\n",
            "100/100 [==============================] - 1s 6ms/step - loss: 0.0131 - accuracy: 0.9948 - val_loss: 0.6672 - val_accuracy: 0.9200\n",
            "Epoch 91/100\n",
            "100/100 [==============================] - 1s 6ms/step - loss: 0.0139 - accuracy: 0.9937 - val_loss: 0.7442 - val_accuracy: 0.9230\n",
            "Epoch 92/100\n",
            "100/100 [==============================] - 1s 6ms/step - loss: 0.0222 - accuracy: 0.9878 - val_loss: 0.4656 - val_accuracy: 0.9200\n",
            "Epoch 93/100\n",
            "100/100 [==============================] - 1s 6ms/step - loss: 0.0206 - accuracy: 0.9910 - val_loss: 0.4364 - val_accuracy: 0.9290\n",
            "Epoch 94/100\n",
            "100/100 [==============================] - 1s 6ms/step - loss: 0.0373 - accuracy: 0.9824 - val_loss: 0.5871 - val_accuracy: 0.9160\n",
            "Epoch 95/100\n",
            "100/100 [==============================] - 1s 6ms/step - loss: 0.0280 - accuracy: 0.9865 - val_loss: 0.4871 - val_accuracy: 0.9190\n",
            "Epoch 96/100\n",
            "100/100 [==============================] - 1s 6ms/step - loss: 0.0372 - accuracy: 0.9787 - val_loss: 0.5944 - val_accuracy: 0.9220\n",
            "Epoch 97/100\n",
            "100/100 [==============================] - 1s 7ms/step - loss: 0.0253 - accuracy: 0.9864 - val_loss: 0.6632 - val_accuracy: 0.9190\n",
            "Epoch 98/100\n",
            "100/100 [==============================] - 1s 6ms/step - loss: 0.0316 - accuracy: 0.9793 - val_loss: 0.6244 - val_accuracy: 0.9230\n",
            "Epoch 99/100\n",
            "100/100 [==============================] - 1s 6ms/step - loss: 0.0131 - accuracy: 0.9889 - val_loss: 0.6479 - val_accuracy: 0.9240\n",
            "Epoch 100/100\n",
            "100/100 [==============================] - 1s 6ms/step - loss: 0.0268 - accuracy: 0.9820 - val_loss: 0.5184 - val_accuracy: 0.9220\n",
            "CPU times: user 1min 7s, sys: 11.4 s, total: 1min 18s\n",
            "Wall time: 1min 5s\n"
          ],
          "name": "stdout"
        }
      ]
    },
    {
      "cell_type": "code",
      "metadata": {
        "colab": {
          "base_uri": "https://localhost:8080/",
          "height": 515
        },
        "id": "BAMjufEGJBr_",
        "outputId": "7f5d0055-9558-42e2-8547-41d9effdc270"
      },
      "source": [
        "import matplotlib.pyplot as plt\n",
        "\n",
        "epochs = range(1, len(Hist.history['loss'])+1)\n",
        "\n",
        "plt.plot(epochs, Hist.history['loss'])\n",
        "plt.plot(epochs, Hist.history['val_loss'])\n",
        "plt.legend(['loss','val_loss'])\n",
        "plt.show()\n",
        "\n",
        "plt.plot(epochs, Hist.history['accuracy'])\n",
        "plt.plot(epochs, Hist.history['val_accuracy'])\n",
        "plt.legend(['accuracy','val_accuracy'])\n",
        "plt.show()"
      ],
      "execution_count": null,
      "outputs": [
        {
          "output_type": "display_data",
          "data": {
            "image/png": "[encoded data removed]",
            "text/plain": [
              "<Figure size 432x288 with 1 Axes>"
            ]
          },
          "metadata": {
            "tags": [],
            "needs_background": "light"
          }
        },
        {
          "output_type": "display_data",
          "data": {
            "image/png": "[encoded data removed]",
            "text/plain": [
              "<Figure size 432x288 with 1 Axes>"
            ]
          },
          "metadata": {
            "tags": [],
            "needs_background": "light"
          }
        }
      ]
    },
    {
      "cell_type": "code",
      "metadata": {
        "colab": {
          "base_uri": "https://localhost:8080/"
        },
        "id": "zQDtEyDvJaBK",
        "outputId": "ca1fed05-0890-4568-c7a4-b111d2cab0ed"
      },
      "source": [
        "loss, accuracy = model.evaluate(test_features, test_labels)\n",
        "loss, accuracy"
      ],
      "execution_count": null,
      "outputs": [
        {
          "output_type": "stream",
          "text": [
            "32/32 [==============================] - 0s 4ms/step - loss: 0.5270 - accuracy: 0.9140\n"
          ],
          "name": "stdout"
        },
        {
          "output_type": "execute_result",
          "data": {
            "text/plain": [
              "(0.5269824266433716, 0.9139999747276306)"
            ]
          },
          "metadata": {
            "tags": []
          },
          "execution_count": 22
        }
      ]
    },
    {
      "cell_type": "markdown",
      "metadata": {
        "id": "fnFy0vNEJxK4"
      },
      "source": [
        "# just concat"
      ]
    },
    {
      "cell_type": "code",
      "metadata": {
        "colab": {
          "base_uri": "https://localhost:8080/"
        },
        "id": "u7nPWd18KQyZ",
        "outputId": "ccefabd7-e747-42ee-f623-58ad5561fa70"
      },
      "source": [
        "from keras import models, layers\n",
        "\n",
        "model = models.Sequential()\n",
        "model.add(conv_base)\n",
        "\n",
        "model.add(layers.Flatten())\n",
        "model.add(layers.Dense(256,activation='relu'))\n",
        "model.add(layers.Dropout(0.5))\n",
        "model.add(layers.Dense(1, activation='sigmoid'))\n",
        "\n",
        "model.summary()"
      ],
      "execution_count": 7,
      "outputs": [
        {
          "output_type": "stream",
          "text": [
            "Model: \"sequential_1\"\n",
            "_________________________________________________________________\n",
            "Layer (type)                 Output Shape              Param #   \n",
            "=================================================================\n",
            "vgg16 (Functional)           (None, 9, 9, 512)         14714688  \n",
            "_________________________________________________________________\n",
            "flatten_1 (Flatten)          (None, 41472)             0         \n",
            "_________________________________________________________________\n",
            "dense_2 (Dense)              (None, 256)               10617088  \n",
            "_________________________________________________________________\n",
            "dropout_1 (Dropout)          (None, 256)               0         \n",
            "_________________________________________________________________\n",
            "dense_3 (Dense)              (None, 1)                 257       \n",
            "=================================================================\n",
            "Total params: 25,332,033\n",
            "Trainable params: 25,332,033\n",
            "Non-trainable params: 0\n",
            "_________________________________________________________________\n"
          ],
          "name": "stdout"
        }
      ]
    },
    {
      "cell_type": "code",
      "metadata": {
        "colab": {
          "base_uri": "https://localhost:8080/"
        },
        "id": "TMkujX0LJhzR",
        "outputId": "e8bf248a-f453-4171-c564-397a3b88727d"
      },
      "source": [
        "conv_base.trainable = False\n",
        "\n",
        "print(len(model.trainable_weights))"
      ],
      "execution_count": 8,
      "outputs": [
        {
          "output_type": "stream",
          "text": [
            "4\n"
          ],
          "name": "stdout"
        }
      ]
    },
    {
      "cell_type": "code",
      "metadata": {
        "colab": {
          "base_uri": "https://localhost:8080/"
        },
        "id": "sIhsvbWAMSbQ",
        "outputId": "5bed5e26-7727-4996-836c-95ace1d1838d"
      },
      "source": [
        "from keras.preprocessing.image import ImageDataGenerator\n",
        "\n",
        "train_datagen = ImageDataGenerator(rescale=1./255)\n",
        "valid_datagen = ImageDataGenerator(rescale=1./255)\n",
        "test_datagen = ImageDataGenerator(rescale=1./255)\n",
        "\n",
        "train_generator = train_datagen.flow_from_directory(train_dir, target_size=(300,300), batch_size=20, class_mode='binary')\n",
        "valid_generator = valid_datagen.flow_from_directory(valid_dir, target_size=(300,300), batch_size=20, class_mode='binary')\n",
        "test_generator = test_datagen.flow_from_directory(test_dir, target_size=(300,300), batch_size=20, class_mode='binary')"
      ],
      "execution_count": null,
      "outputs": [
        {
          "output_type": "stream",
          "text": [
            "Found 2000 images belonging to 2 classes.\n",
            "Found 1000 images belonging to 2 classes.\n",
            "Found 1000 images belonging to 2 classes.\n"
          ],
          "name": "stdout"
        }
      ]
    },
    {
      "cell_type": "code",
      "metadata": {
        "colab": {
          "base_uri": "https://localhost:8080/"
        },
        "id": "EapLt-7BLzXp",
        "outputId": "f380e85a-eaf0-4eef-8f92-7c32187ce098"
      },
      "source": [
        "%%time\n",
        "model.compile(loss='binary_crossentropy', optimizer='adam', metrics=['accuracy'])\n",
        "\n",
        "Hist = model.fit(train_generator, steps_per_epoch=100, epochs=100, validation_data=valid_generator, validation_steps=50)"
      ],
      "execution_count": null,
      "outputs": [
        {
          "output_type": "stream",
          "text": [
            "Epoch 1/100\n",
            "100/100 [==============================] - 35s 349ms/step - loss: 1.5502 - accuracy: 0.6776 - val_loss: 0.2626 - val_accuracy: 0.9040\n",
            "Epoch 2/100\n",
            "100/100 [==============================] - 33s 327ms/step - loss: 0.2818 - accuracy: 0.8812 - val_loss: 0.2498 - val_accuracy: 0.8930\n",
            "Epoch 3/100\n",
            "100/100 [==============================] - 33s 328ms/step - loss: 0.2050 - accuracy: 0.9139 - val_loss: 0.2087 - val_accuracy: 0.9130\n",
            "Epoch 4/100\n",
            "100/100 [==============================] - 33s 334ms/step - loss: 0.1644 - accuracy: 0.9319 - val_loss: 0.2567 - val_accuracy: 0.8860\n",
            "Epoch 5/100\n",
            "100/100 [==============================] - 33s 329ms/step - loss: 0.1607 - accuracy: 0.9355 - val_loss: 0.1913 - val_accuracy: 0.9190\n",
            "Epoch 6/100\n",
            "100/100 [==============================] - 33s 330ms/step - loss: 0.1342 - accuracy: 0.9487 - val_loss: 0.2510 - val_accuracy: 0.9060\n",
            "Epoch 7/100\n",
            "100/100 [==============================] - 33s 331ms/step - loss: 0.0945 - accuracy: 0.9629 - val_loss: 0.2232 - val_accuracy: 0.9250\n",
            "Epoch 8/100\n",
            "100/100 [==============================] - 33s 332ms/step - loss: 0.0615 - accuracy: 0.9823 - val_loss: 0.2220 - val_accuracy: 0.9200\n",
            "Epoch 9/100\n",
            "100/100 [==============================] - 33s 333ms/step - loss: 0.0869 - accuracy: 0.9660 - val_loss: 0.2284 - val_accuracy: 0.9180\n",
            "Epoch 10/100\n",
            "100/100 [==============================] - 33s 333ms/step - loss: 0.0549 - accuracy: 0.9776 - val_loss: 0.2359 - val_accuracy: 0.9220\n",
            "Epoch 11/100\n",
            "100/100 [==============================] - 33s 333ms/step - loss: 0.0476 - accuracy: 0.9811 - val_loss: 0.2300 - val_accuracy: 0.9160\n",
            "Epoch 12/100\n",
            "100/100 [==============================] - 33s 333ms/step - loss: 0.0536 - accuracy: 0.9806 - val_loss: 0.2300 - val_accuracy: 0.9270\n",
            "Epoch 13/100\n",
            "100/100 [==============================] - 33s 333ms/step - loss: 0.0372 - accuracy: 0.9858 - val_loss: 0.2160 - val_accuracy: 0.9190\n",
            "Epoch 14/100\n",
            "100/100 [==============================] - 33s 332ms/step - loss: 0.0563 - accuracy: 0.9773 - val_loss: 0.2556 - val_accuracy: 0.9190\n",
            "Epoch 15/100\n",
            "100/100 [==============================] - 33s 332ms/step - loss: 0.0474 - accuracy: 0.9826 - val_loss: 0.2489 - val_accuracy: 0.9200\n",
            "Epoch 16/100\n",
            "100/100 [==============================] - 33s 333ms/step - loss: 0.0443 - accuracy: 0.9819 - val_loss: 0.2483 - val_accuracy: 0.9180\n",
            "Epoch 17/100\n",
            "100/100 [==============================] - 33s 333ms/step - loss: 0.0561 - accuracy: 0.9746 - val_loss: 0.3034 - val_accuracy: 0.9180\n",
            "Epoch 18/100\n",
            "100/100 [==============================] - 33s 332ms/step - loss: 0.0412 - accuracy: 0.9835 - val_loss: 0.3525 - val_accuracy: 0.9110\n",
            "Epoch 19/100\n",
            "100/100 [==============================] - 33s 331ms/step - loss: 0.0450 - accuracy: 0.9814 - val_loss: 0.2566 - val_accuracy: 0.9230\n",
            "Epoch 20/100\n",
            "100/100 [==============================] - 33s 332ms/step - loss: 0.0464 - accuracy: 0.9774 - val_loss: 0.3310 - val_accuracy: 0.9050\n",
            "Epoch 21/100\n",
            "100/100 [==============================] - 33s 332ms/step - loss: 0.0675 - accuracy: 0.9772 - val_loss: 0.2676 - val_accuracy: 0.9200\n",
            "Epoch 22/100\n",
            "100/100 [==============================] - 33s 332ms/step - loss: 0.0620 - accuracy: 0.9742 - val_loss: 0.2587 - val_accuracy: 0.9210\n",
            "Epoch 23/100\n",
            "100/100 [==============================] - 33s 332ms/step - loss: 0.0814 - accuracy: 0.9714 - val_loss: 0.2346 - val_accuracy: 0.9240\n",
            "Epoch 24/100\n",
            "100/100 [==============================] - 33s 332ms/step - loss: 0.0520 - accuracy: 0.9823 - val_loss: 0.2662 - val_accuracy: 0.9240\n",
            "Epoch 25/100\n",
            "100/100 [==============================] - 33s 333ms/step - loss: 0.0596 - accuracy: 0.9794 - val_loss: 0.2843 - val_accuracy: 0.9260\n",
            "Epoch 26/100\n",
            "100/100 [==============================] - 33s 333ms/step - loss: 0.0610 - accuracy: 0.9730 - val_loss: 0.2406 - val_accuracy: 0.9190\n",
            "Epoch 27/100\n",
            "100/100 [==============================] - 33s 333ms/step - loss: 0.0670 - accuracy: 0.9762 - val_loss: 0.3115 - val_accuracy: 0.9220\n",
            "Epoch 28/100\n",
            "100/100 [==============================] - 33s 333ms/step - loss: 0.0500 - accuracy: 0.9823 - val_loss: 0.3318 - val_accuracy: 0.9220\n",
            "Epoch 29/100\n",
            "100/100 [==============================] - 33s 331ms/step - loss: 0.0537 - accuracy: 0.9793 - val_loss: 0.3172 - val_accuracy: 0.9160\n",
            "Epoch 30/100\n",
            "100/100 [==============================] - 33s 331ms/step - loss: 0.0391 - accuracy: 0.9862 - val_loss: 0.3525 - val_accuracy: 0.9170\n",
            "Epoch 31/100\n",
            "100/100 [==============================] - 33s 330ms/step - loss: 0.0423 - accuracy: 0.9807 - val_loss: 0.3237 - val_accuracy: 0.9220\n",
            "Epoch 32/100\n",
            "100/100 [==============================] - 33s 331ms/step - loss: 0.0564 - accuracy: 0.9775 - val_loss: 0.2959 - val_accuracy: 0.9130\n",
            "Epoch 33/100\n",
            "100/100 [==============================] - 33s 332ms/step - loss: 0.0500 - accuracy: 0.9741 - val_loss: 0.3105 - val_accuracy: 0.9210\n",
            "Epoch 34/100\n",
            "100/100 [==============================] - 33s 332ms/step - loss: 0.0617 - accuracy: 0.9716 - val_loss: 0.2942 - val_accuracy: 0.9160\n",
            "Epoch 35/100\n",
            "100/100 [==============================] - 33s 333ms/step - loss: 0.0902 - accuracy: 0.9621 - val_loss: 0.2387 - val_accuracy: 0.9200\n",
            "Epoch 36/100\n",
            "100/100 [==============================] - 33s 333ms/step - loss: 0.0926 - accuracy: 0.9767 - val_loss: 0.2949 - val_accuracy: 0.9220\n",
            "Epoch 37/100\n",
            "100/100 [==============================] - 33s 332ms/step - loss: 0.0863 - accuracy: 0.9703 - val_loss: 0.2958 - val_accuracy: 0.9120\n",
            "Epoch 38/100\n",
            "100/100 [==============================] - 33s 332ms/step - loss: 0.1108 - accuracy: 0.9488 - val_loss: 0.3548 - val_accuracy: 0.9100\n",
            "Epoch 39/100\n",
            "100/100 [==============================] - 33s 332ms/step - loss: 0.0744 - accuracy: 0.9626 - val_loss: 0.3545 - val_accuracy: 0.9200\n",
            "Epoch 40/100\n",
            "100/100 [==============================] - 33s 332ms/step - loss: 0.0453 - accuracy: 0.9765 - val_loss: 0.3015 - val_accuracy: 0.9250\n",
            "Epoch 41/100\n",
            "100/100 [==============================] - 33s 331ms/step - loss: 0.0778 - accuracy: 0.9609 - val_loss: 0.3012 - val_accuracy: 0.9220\n",
            "Epoch 42/100\n",
            "100/100 [==============================] - 33s 332ms/step - loss: 0.0402 - accuracy: 0.9818 - val_loss: 0.4454 - val_accuracy: 0.9090\n",
            "Epoch 43/100\n",
            "100/100 [==============================] - 33s 333ms/step - loss: 0.0344 - accuracy: 0.9797 - val_loss: 0.4491 - val_accuracy: 0.9180\n",
            "Epoch 44/100\n",
            "100/100 [==============================] - 33s 333ms/step - loss: 0.0547 - accuracy: 0.9798 - val_loss: 0.3471 - val_accuracy: 0.9210\n",
            "Epoch 45/100\n",
            "100/100 [==============================] - 33s 334ms/step - loss: 0.0389 - accuracy: 0.9846 - val_loss: 0.3613 - val_accuracy: 0.9200\n",
            "Epoch 46/100\n",
            "100/100 [==============================] - 33s 333ms/step - loss: 0.0436 - accuracy: 0.9855 - val_loss: 0.3013 - val_accuracy: 0.9290\n",
            "Epoch 47/100\n",
            "100/100 [==============================] - 33s 333ms/step - loss: 0.0323 - accuracy: 0.9870 - val_loss: 0.3889 - val_accuracy: 0.9230\n",
            "Epoch 48/100\n",
            "100/100 [==============================] - 33s 332ms/step - loss: 0.0221 - accuracy: 0.9915 - val_loss: 0.3248 - val_accuracy: 0.9300\n",
            "Epoch 49/100\n",
            "100/100 [==============================] - 33s 331ms/step - loss: 0.0319 - accuracy: 0.9839 - val_loss: 0.5059 - val_accuracy: 0.9240\n",
            "Epoch 50/100\n",
            "100/100 [==============================] - 33s 331ms/step - loss: 0.0446 - accuracy: 0.9832 - val_loss: 0.4132 - val_accuracy: 0.9120\n",
            "Epoch 51/100\n",
            "100/100 [==============================] - 33s 332ms/step - loss: 0.0485 - accuracy: 0.9827 - val_loss: 0.3620 - val_accuracy: 0.9320\n",
            "Epoch 52/100\n",
            "100/100 [==============================] - 33s 332ms/step - loss: 0.0362 - accuracy: 0.9844 - val_loss: 0.4279 - val_accuracy: 0.9260\n",
            "Epoch 53/100\n",
            "100/100 [==============================] - 33s 332ms/step - loss: 0.0303 - accuracy: 0.9890 - val_loss: 0.3498 - val_accuracy: 0.9210\n",
            "Epoch 54/100\n",
            "100/100 [==============================] - 33s 332ms/step - loss: 0.0523 - accuracy: 0.9752 - val_loss: 0.2413 - val_accuracy: 0.9260\n",
            "Epoch 55/100\n",
            "100/100 [==============================] - 33s 332ms/step - loss: 0.0411 - accuracy: 0.9845 - val_loss: 0.3509 - val_accuracy: 0.9210\n",
            "Epoch 56/100\n",
            "100/100 [==============================] - 33s 333ms/step - loss: 0.0411 - accuracy: 0.9770 - val_loss: 0.3600 - val_accuracy: 0.9290\n",
            "Epoch 57/100\n",
            "100/100 [==============================] - 33s 332ms/step - loss: 0.0459 - accuracy: 0.9832 - val_loss: 0.2289 - val_accuracy: 0.9210\n",
            "Epoch 58/100\n",
            "100/100 [==============================] - 33s 332ms/step - loss: 0.0397 - accuracy: 0.9837 - val_loss: 0.3550 - val_accuracy: 0.9320\n",
            "Epoch 59/100\n",
            "100/100 [==============================] - 33s 332ms/step - loss: 0.0288 - accuracy: 0.9874 - val_loss: 0.4627 - val_accuracy: 0.9170\n",
            "Epoch 60/100\n",
            "100/100 [==============================] - 33s 331ms/step - loss: 0.0255 - accuracy: 0.9896 - val_loss: 0.4214 - val_accuracy: 0.9320\n",
            "Epoch 61/100\n",
            "100/100 [==============================] - 33s 333ms/step - loss: 0.0329 - accuracy: 0.9866 - val_loss: 0.3637 - val_accuracy: 0.9300\n",
            "Epoch 62/100\n",
            "100/100 [==============================] - 33s 333ms/step - loss: 0.0351 - accuracy: 0.9859 - val_loss: 0.3563 - val_accuracy: 0.9320\n",
            "Epoch 63/100\n",
            "100/100 [==============================] - 33s 332ms/step - loss: 0.0236 - accuracy: 0.9907 - val_loss: 0.3119 - val_accuracy: 0.9290\n",
            "Epoch 64/100\n",
            "100/100 [==============================] - 33s 331ms/step - loss: 0.0296 - accuracy: 0.9843 - val_loss: 0.3828 - val_accuracy: 0.9330\n",
            "Epoch 65/100\n",
            "100/100 [==============================] - 33s 331ms/step - loss: 0.0326 - accuracy: 0.9844 - val_loss: 0.7131 - val_accuracy: 0.9000\n",
            "Epoch 66/100\n",
            "100/100 [==============================] - 33s 331ms/step - loss: 0.0778 - accuracy: 0.9658 - val_loss: 0.3238 - val_accuracy: 0.9280\n",
            "Epoch 67/100\n",
            "100/100 [==============================] - 33s 331ms/step - loss: 0.0382 - accuracy: 0.9883 - val_loss: 0.3672 - val_accuracy: 0.9250\n",
            "Epoch 68/100\n",
            "100/100 [==============================] - 33s 331ms/step - loss: 0.0524 - accuracy: 0.9743 - val_loss: 0.3823 - val_accuracy: 0.9240\n",
            "Epoch 69/100\n",
            "100/100 [==============================] - 33s 331ms/step - loss: 0.0367 - accuracy: 0.9874 - val_loss: 0.4122 - val_accuracy: 0.9220\n",
            "Epoch 70/100\n",
            "100/100 [==============================] - 33s 331ms/step - loss: 0.0289 - accuracy: 0.9878 - val_loss: 0.4373 - val_accuracy: 0.9300\n",
            "Epoch 71/100\n",
            "100/100 [==============================] - 33s 331ms/step - loss: 0.0208 - accuracy: 0.9910 - val_loss: 0.4600 - val_accuracy: 0.9250\n",
            "Epoch 72/100\n",
            "100/100 [==============================] - 33s 331ms/step - loss: 0.0478 - accuracy: 0.9746 - val_loss: 0.2879 - val_accuracy: 0.9280\n",
            "Epoch 73/100\n",
            "100/100 [==============================] - 33s 331ms/step - loss: 0.0367 - accuracy: 0.9799 - val_loss: 0.8296 - val_accuracy: 0.8840\n",
            "Epoch 74/100\n",
            "100/100 [==============================] - 33s 331ms/step - loss: 0.0695 - accuracy: 0.9612 - val_loss: 0.4884 - val_accuracy: 0.9170\n",
            "Epoch 75/100\n",
            "100/100 [==============================] - 33s 332ms/step - loss: 0.0486 - accuracy: 0.9774 - val_loss: 0.4081 - val_accuracy: 0.9320\n",
            "Epoch 76/100\n",
            "100/100 [==============================] - 33s 331ms/step - loss: 0.0287 - accuracy: 0.9846 - val_loss: 0.3806 - val_accuracy: 0.9290\n",
            "Epoch 77/100\n",
            "100/100 [==============================] - 33s 331ms/step - loss: 0.0244 - accuracy: 0.9888 - val_loss: 0.5511 - val_accuracy: 0.9250\n",
            "Epoch 78/100\n",
            "100/100 [==============================] - 33s 331ms/step - loss: 0.0226 - accuracy: 0.9864 - val_loss: 0.3157 - val_accuracy: 0.9250\n",
            "Epoch 79/100\n",
            "100/100 [==============================] - 33s 331ms/step - loss: 0.0332 - accuracy: 0.9889 - val_loss: 0.3562 - val_accuracy: 0.9280\n",
            "Epoch 80/100\n",
            "100/100 [==============================] - 33s 331ms/step - loss: 0.0291 - accuracy: 0.9873 - val_loss: 0.4853 - val_accuracy: 0.9240\n",
            "Epoch 81/100\n",
            "100/100 [==============================] - 33s 331ms/step - loss: 0.0132 - accuracy: 0.9963 - val_loss: 0.5185 - val_accuracy: 0.9250\n",
            "Epoch 82/100\n",
            "100/100 [==============================] - 33s 331ms/step - loss: 0.0284 - accuracy: 0.9916 - val_loss: 0.4510 - val_accuracy: 0.9200\n",
            "Epoch 83/100\n",
            "100/100 [==============================] - 33s 331ms/step - loss: 0.0240 - accuracy: 0.9933 - val_loss: 0.4918 - val_accuracy: 0.9200\n",
            "Epoch 84/100\n",
            "100/100 [==============================] - 33s 331ms/step - loss: 0.0299 - accuracy: 0.9882 - val_loss: 0.5349 - val_accuracy: 0.9230\n",
            "Epoch 85/100\n",
            "100/100 [==============================] - 33s 331ms/step - loss: 0.0217 - accuracy: 0.9922 - val_loss: 0.4536 - val_accuracy: 0.9210\n",
            "Epoch 86/100\n",
            "100/100 [==============================] - 33s 331ms/step - loss: 0.0368 - accuracy: 0.9874 - val_loss: 0.3745 - val_accuracy: 0.9220\n",
            "Epoch 87/100\n",
            "100/100 [==============================] - 33s 331ms/step - loss: 0.0351 - accuracy: 0.9875 - val_loss: 0.4885 - val_accuracy: 0.9150\n",
            "Epoch 88/100\n",
            "100/100 [==============================] - 33s 333ms/step - loss: 0.0380 - accuracy: 0.9844 - val_loss: 0.4449 - val_accuracy: 0.9210\n",
            "Epoch 89/100\n",
            "100/100 [==============================] - 33s 331ms/step - loss: 0.0189 - accuracy: 0.9948 - val_loss: 0.4030 - val_accuracy: 0.9250\n",
            "Epoch 90/100\n",
            "100/100 [==============================] - 33s 329ms/step - loss: 0.0306 - accuracy: 0.9892 - val_loss: 0.3877 - val_accuracy: 0.9240\n",
            "Epoch 91/100\n",
            "100/100 [==============================] - 33s 329ms/step - loss: 0.0387 - accuracy: 0.9886 - val_loss: 0.3926 - val_accuracy: 0.9270\n",
            "Epoch 92/100\n",
            "100/100 [==============================] - 33s 330ms/step - loss: 0.0322 - accuracy: 0.9885 - val_loss: 0.4560 - val_accuracy: 0.9280\n",
            "Epoch 93/100\n",
            "100/100 [==============================] - 33s 332ms/step - loss: 0.0236 - accuracy: 0.9954 - val_loss: 0.3909 - val_accuracy: 0.9170\n",
            "Epoch 94/100\n",
            "100/100 [==============================] - 33s 332ms/step - loss: 0.0673 - accuracy: 0.9694 - val_loss: 0.4771 - val_accuracy: 0.9190\n",
            "Epoch 95/100\n",
            "100/100 [==============================] - 33s 333ms/step - loss: 0.0293 - accuracy: 0.9891 - val_loss: 0.3693 - val_accuracy: 0.9250\n",
            "Epoch 96/100\n",
            "100/100 [==============================] - 33s 333ms/step - loss: 0.0314 - accuracy: 0.9844 - val_loss: 0.3691 - val_accuracy: 0.9280\n",
            "Epoch 97/100\n",
            "100/100 [==============================] - 33s 331ms/step - loss: 0.0417 - accuracy: 0.9882 - val_loss: 0.4781 - val_accuracy: 0.9200\n",
            "Epoch 98/100\n",
            "100/100 [==============================] - 33s 331ms/step - loss: 0.0351 - accuracy: 0.9857 - val_loss: 0.3900 - val_accuracy: 0.9290\n",
            "Epoch 99/100\n",
            "100/100 [==============================] - 33s 331ms/step - loss: 0.0272 - accuracy: 0.9918 - val_loss: 0.4950 - val_accuracy: 0.9280\n",
            "Epoch 100/100\n",
            "100/100 [==============================] - 33s 331ms/step - loss: 0.0189 - accuracy: 0.9940 - val_loss: 0.7882 - val_accuracy: 0.8930\n",
            "CPU times: user 29min 10s, sys: 2min 35s, total: 31min 46s\n",
            "Wall time: 55min 15s\n"
          ],
          "name": "stdout"
        }
      ]
    },
    {
      "cell_type": "code",
      "metadata": {
        "colab": {
          "base_uri": "https://localhost:8080/",
          "height": 513
        },
        "id": "NpYPKDjFNOnB",
        "outputId": "1d042afe-e1f7-4351-fb87-765783c50efe"
      },
      "source": [
        "import matplotlib.pyplot as plt\n",
        "\n",
        "epochs = range(1, len(Hist.history['loss'])+1)\n",
        "\n",
        "plt.plot(epochs, Hist.history['loss'])\n",
        "plt.plot(epochs, Hist.history['val_loss'])\n",
        "plt.legend(['loss','val_loss'])\n",
        "plt.show()\n",
        "\n",
        "plt.plot(epochs, Hist.history['accuracy'])\n",
        "plt.plot(epochs, Hist.history['val_accuracy'])\n",
        "plt.legend(['accuracy','val_accuracy'])\n",
        "plt.show()"
      ],
      "execution_count": null,
      "outputs": [
        {
          "output_type": "display_data",
          "data": {
            "image/png": "[encoded data removed]",
            "text/plain": [
              "<Figure size 432x288 with 1 Axes>"
            ]
          },
          "metadata": {
            "tags": [],
            "needs_background": "light"
          }
        },
        {
          "output_type": "display_data",
          "data": {
            "image/png": "[encoded data removed]",
            "text/plain": [
              "<Figure size 432x288 with 1 Axes>"
            ]
          },
          "metadata": {
            "tags": [],
            "needs_background": "light"
          }
        }
      ]
    },
    {
      "cell_type": "code",
      "metadata": {
        "colab": {
          "base_uri": "https://localhost:8080/"
        },
        "id": "ziyoPa96NOnB",
        "outputId": "8cf0219f-746d-4e8c-9745-23c5601a0321"
      },
      "source": [
        "loss, accuracy = model.evaluate(test_generator, steps=50)\n",
        "loss, accuracy"
      ],
      "execution_count": null,
      "outputs": [
        {
          "output_type": "stream",
          "text": [
            "50/50 [==============================] - 11s 223ms/step - loss: 0.8885 - accuracy: 0.8900\n"
          ],
          "name": "stdout"
        },
        {
          "output_type": "execute_result",
          "data": {
            "text/plain": [
              "(0.8884602189064026, 0.8899999856948853)"
            ]
          },
          "metadata": {
            "tags": []
          },
          "execution_count": 33
        }
      ]
    },
    {
      "cell_type": "markdown",
      "metadata": {
        "id": "TIxPkg1IbdvX"
      },
      "source": [
        "# batch_size = 1000 with Function"
      ]
    },
    {
      "cell_type": "code",
      "metadata": {
        "id": "e5TPzTHSbmTI"
      },
      "source": [
        "from keras.preprocessing.image import ImageDataGenerator\n",
        "import numpy as np\n",
        "\n",
        "datagen =ImageDataGenerator(rescale = 1./255)\n",
        "\n",
        "batch_size=1000\n",
        "\n",
        "def extract_features(directory, sample_count):\n",
        "  features = np.zeros(shape=(sample_count,9,9,512))\n",
        "  labels = np.zeros(shape = (sample_count))\n",
        "\n",
        "  generator = datagen.flow_from_directory(directory, target_size=(300,300), batch_size=batch_size, class_mode='binary')\n",
        "\n",
        "  i = 0\n",
        "  for inputs_batch, labels_batch in generator:\n",
        "    features_batch = conv_base.predict(inputs_batch)\n",
        "    features[i*batch_size : (i+1)*batch_size] = features_batch\n",
        "    labels[i*batch_size : (i+1)*batch_size]=labels_batch\n",
        "\n",
        "    i += 1\n",
        "    if i * batch_size >= sample_count:\n",
        "      break\n",
        "\n",
        "  return features, labels"
      ],
      "execution_count": 7,
      "outputs": []
    },
    {
      "cell_type": "code",
      "metadata": {
        "colab": {
          "base_uri": "https://localhost:8080/"
        },
        "id": "zFPSmSM3bmTO",
        "outputId": "1dc62b86-0605-42d9-b9bf-ec0127ee9153"
      },
      "source": [
        "%%time\n",
        "\n",
        "train_features, train_labels = extract_features(train_dir, 2000)\n",
        "valid_features, valid_labels = extract_features(valid_dir, 1000)\n",
        "test_features, test_labels = extract_features(test_dir, 1000)"
      ],
      "execution_count": 8,
      "outputs": [
        {
          "output_type": "stream",
          "text": [
            "Found 2000 images belonging to 2 classes.\n",
            "Found 1000 images belonging to 2 classes.\n",
            "Found 1000 images belonging to 2 classes.\n",
            "CPU times: user 27.1 s, sys: 12.5 s, total: 39.5 s\n",
            "Wall time: 1min 5s\n"
          ],
          "name": "stdout"
        }
      ]
    },
    {
      "cell_type": "code",
      "metadata": {
        "colab": {
          "base_uri": "https://localhost:8080/"
        },
        "id": "967Aa1XCbmTP",
        "outputId": "71ddf78c-a31e-4dd0-9570-73b54c3bee79"
      },
      "source": [
        "train_features.shape, valid_features.shape, test_features.shape"
      ],
      "execution_count": 9,
      "outputs": [
        {
          "output_type": "execute_result",
          "data": {
            "text/plain": [
              "((2000, 9, 9, 512), (1000, 9, 9, 512), (1000, 9, 9, 512))"
            ]
          },
          "metadata": {
            "tags": []
          },
          "execution_count": 9
        }
      ]
    },
    {
      "cell_type": "code",
      "metadata": {
        "colab": {
          "base_uri": "https://localhost:8080/"
        },
        "id": "xl-DvEGYbmTP",
        "outputId": "04d88821-fbf1-47bb-d8f5-8796d8075413"
      },
      "source": [
        "train_features = np.reshape(train_features, (2000, 9*9*512))\n",
        "valid_features = valid_features.reshape(1000, 9*9*512)\n",
        "test_features = test_features.reshape(1000, 9*9*512)\n",
        "\n",
        "train_features.shape, valid_features.shape, test_features.shape"
      ],
      "execution_count": 10,
      "outputs": [
        {
          "output_type": "execute_result",
          "data": {
            "text/plain": [
              "((2000, 41472), (1000, 41472), (1000, 41472))"
            ]
          },
          "metadata": {
            "tags": []
          },
          "execution_count": 10
        }
      ]
    },
    {
      "cell_type": "code",
      "metadata": {
        "colab": {
          "base_uri": "https://localhost:8080/"
        },
        "id": "NE1DdM9cbmTP",
        "outputId": "c6ba1778-3ebe-4082-a175-3262a646a509"
      },
      "source": [
        "from keras import models, layers\n",
        "\n",
        "model = models.Sequential()\n",
        "model.add(layers.Dense(256, activation='relu', input_dim=9*9*512))\n",
        "model.add(layers.Dropout(0.5))\n",
        "model.add(layers.Dense(1, activation='sigmoid'))\n",
        "\n",
        "model.summary()\n",
        "\n",
        "model.compile(loss='binary_crossentropy', optimizer='adam', metrics=['accuracy'])"
      ],
      "execution_count": 11,
      "outputs": [
        {
          "output_type": "stream",
          "text": [
            "Model: \"sequential\"\n",
            "_________________________________________________________________\n",
            "Layer (type)                 Output Shape              Param #   \n",
            "=================================================================\n",
            "dense (Dense)                (None, 256)               10617088  \n",
            "_________________________________________________________________\n",
            "dropout (Dropout)            (None, 256)               0         \n",
            "_________________________________________________________________\n",
            "dense_1 (Dense)              (None, 1)                 257       \n",
            "=================================================================\n",
            "Total params: 10,617,345\n",
            "Trainable params: 10,617,345\n",
            "Non-trainable params: 0\n",
            "_________________________________________________________________\n"
          ],
          "name": "stdout"
        }
      ]
    },
    {
      "cell_type": "code",
      "metadata": {
        "colab": {
          "base_uri": "https://localhost:8080/"
        },
        "id": "fAGo4Yt5bmTP",
        "outputId": "e84df46a-5191-44e0-c205-c61762da19bb"
      },
      "source": [
        "%%time\n",
        "Hist = model.fit(train_features, train_labels, epochs=100, batch_size=2, validation_data=(valid_features, valid_labels))"
      ],
      "execution_count": 12,
      "outputs": [
        {
          "output_type": "stream",
          "text": [
            "Epoch 1/100\n",
            "1000/1000 [==============================] - 5s 4ms/step - loss: 1.9761 - accuracy: 0.6540 - val_loss: 0.3889 - val_accuracy: 0.8710\n",
            "Epoch 2/100\n",
            "1000/1000 [==============================] - 4s 4ms/step - loss: 0.4133 - accuracy: 0.8090 - val_loss: 0.3159 - val_accuracy: 0.8550\n",
            "Epoch 3/100\n",
            "1000/1000 [==============================] - 4s 4ms/step - loss: 0.3467 - accuracy: 0.8282 - val_loss: 0.4666 - val_accuracy: 0.8240\n",
            "Epoch 4/100\n",
            "1000/1000 [==============================] - 4s 4ms/step - loss: 0.3037 - accuracy: 0.8595 - val_loss: 0.2220 - val_accuracy: 0.9090\n",
            "Epoch 5/100\n",
            "1000/1000 [==============================] - 4s 4ms/step - loss: 0.2662 - accuracy: 0.8694 - val_loss: 0.2622 - val_accuracy: 0.9020\n",
            "Epoch 6/100\n",
            "1000/1000 [==============================] - 4s 4ms/step - loss: 0.2966 - accuracy: 0.8804 - val_loss: 0.2088 - val_accuracy: 0.9110\n",
            "Epoch 7/100\n",
            "1000/1000 [==============================] - 4s 4ms/step - loss: 0.2251 - accuracy: 0.8991 - val_loss: 0.2257 - val_accuracy: 0.9090\n",
            "Epoch 8/100\n",
            "1000/1000 [==============================] - 4s 4ms/step - loss: 0.1904 - accuracy: 0.9142 - val_loss: 0.2491 - val_accuracy: 0.9110\n",
            "Epoch 9/100\n",
            "1000/1000 [==============================] - 4s 4ms/step - loss: 0.1743 - accuracy: 0.9214 - val_loss: 0.2552 - val_accuracy: 0.9020\n",
            "Epoch 10/100\n",
            "1000/1000 [==============================] - 4s 4ms/step - loss: 0.1945 - accuracy: 0.8962 - val_loss: 0.2268 - val_accuracy: 0.9090\n",
            "Epoch 11/100\n",
            "1000/1000 [==============================] - 4s 4ms/step - loss: 0.1518 - accuracy: 0.9232 - val_loss: 0.2596 - val_accuracy: 0.9110\n",
            "Epoch 12/100\n",
            "1000/1000 [==============================] - 4s 4ms/step - loss: 0.1456 - accuracy: 0.9223 - val_loss: 0.2465 - val_accuracy: 0.9100\n",
            "Epoch 13/100\n",
            "1000/1000 [==============================] - 4s 4ms/step - loss: 0.1580 - accuracy: 0.9228 - val_loss: 0.3148 - val_accuracy: 0.9110\n",
            "Epoch 14/100\n",
            "1000/1000 [==============================] - 4s 4ms/step - loss: 0.1491 - accuracy: 0.9242 - val_loss: 0.3148 - val_accuracy: 0.9130\n",
            "Epoch 15/100\n",
            "1000/1000 [==============================] - 4s 4ms/step - loss: 0.1162 - accuracy: 0.9355 - val_loss: 0.3972 - val_accuracy: 0.9050\n",
            "Epoch 16/100\n",
            "1000/1000 [==============================] - 4s 4ms/step - loss: 0.1127 - accuracy: 0.9411 - val_loss: 0.3936 - val_accuracy: 0.9020\n",
            "Epoch 17/100\n",
            "1000/1000 [==============================] - 4s 4ms/step - loss: 0.1522 - accuracy: 0.9263 - val_loss: 0.3578 - val_accuracy: 0.8920\n",
            "Epoch 18/100\n",
            "1000/1000 [==============================] - 4s 4ms/step - loss: 0.1117 - accuracy: 0.9475 - val_loss: 0.3602 - val_accuracy: 0.9130\n",
            "Epoch 19/100\n",
            "1000/1000 [==============================] - 4s 4ms/step - loss: 0.1001 - accuracy: 0.9389 - val_loss: 0.3589 - val_accuracy: 0.9200\n",
            "Epoch 20/100\n",
            "1000/1000 [==============================] - 4s 4ms/step - loss: 0.1076 - accuracy: 0.9412 - val_loss: 0.2996 - val_accuracy: 0.9170\n",
            "Epoch 21/100\n",
            "1000/1000 [==============================] - 4s 4ms/step - loss: 0.1120 - accuracy: 0.9307 - val_loss: 0.2532 - val_accuracy: 0.9220\n",
            "Epoch 22/100\n",
            "1000/1000 [==============================] - 4s 4ms/step - loss: 0.0924 - accuracy: 0.9447 - val_loss: 0.2123 - val_accuracy: 0.9150\n",
            "Epoch 23/100\n",
            "1000/1000 [==============================] - 4s 4ms/step - loss: 0.1354 - accuracy: 0.9299 - val_loss: 0.3805 - val_accuracy: 0.9180\n",
            "Epoch 24/100\n",
            "1000/1000 [==============================] - 4s 4ms/step - loss: 0.1180 - accuracy: 0.9356 - val_loss: 0.3214 - val_accuracy: 0.9120\n",
            "Epoch 25/100\n",
            "1000/1000 [==============================] - 4s 4ms/step - loss: 0.0909 - accuracy: 0.9441 - val_loss: 0.3407 - val_accuracy: 0.9240\n",
            "Epoch 26/100\n",
            "1000/1000 [==============================] - 4s 4ms/step - loss: 0.0944 - accuracy: 0.9451 - val_loss: 0.3406 - val_accuracy: 0.9190\n",
            "Epoch 27/100\n",
            "1000/1000 [==============================] - 4s 4ms/step - loss: 0.0860 - accuracy: 0.9398 - val_loss: 0.3302 - val_accuracy: 0.9210\n",
            "Epoch 28/100\n",
            "1000/1000 [==============================] - 4s 4ms/step - loss: 0.0970 - accuracy: 0.9452 - val_loss: 0.3927 - val_accuracy: 0.9160\n",
            "Epoch 29/100\n",
            "1000/1000 [==============================] - 4s 4ms/step - loss: 0.1340 - accuracy: 0.9341 - val_loss: 0.3019 - val_accuracy: 0.9170\n",
            "Epoch 30/100\n",
            "1000/1000 [==============================] - 4s 4ms/step - loss: 0.1129 - accuracy: 0.9366 - val_loss: 0.3074 - val_accuracy: 0.9130\n",
            "Epoch 31/100\n",
            "1000/1000 [==============================] - 4s 4ms/step - loss: 0.0982 - accuracy: 0.9416 - val_loss: 0.5183 - val_accuracy: 0.9120\n",
            "Epoch 32/100\n",
            "1000/1000 [==============================] - 4s 4ms/step - loss: 0.0644 - accuracy: 0.9636 - val_loss: 0.4208 - val_accuracy: 0.9160\n",
            "Epoch 33/100\n",
            "1000/1000 [==============================] - 4s 4ms/step - loss: 0.0872 - accuracy: 0.9575 - val_loss: 0.3532 - val_accuracy: 0.9220\n",
            "Epoch 34/100\n",
            "1000/1000 [==============================] - 4s 4ms/step - loss: 0.0976 - accuracy: 0.9522 - val_loss: 0.3639 - val_accuracy: 0.9110\n",
            "Epoch 35/100\n",
            "1000/1000 [==============================] - 4s 4ms/step - loss: 0.0673 - accuracy: 0.9645 - val_loss: 0.3570 - val_accuracy: 0.9180\n",
            "Epoch 36/100\n",
            "1000/1000 [==============================] - 4s 4ms/step - loss: 0.0860 - accuracy: 0.9584 - val_loss: 0.4840 - val_accuracy: 0.9190\n",
            "Epoch 37/100\n",
            "1000/1000 [==============================] - 4s 4ms/step - loss: 0.0849 - accuracy: 0.9542 - val_loss: 0.4618 - val_accuracy: 0.9180\n",
            "Epoch 38/100\n",
            "1000/1000 [==============================] - 4s 4ms/step - loss: 0.0736 - accuracy: 0.9685 - val_loss: 0.5509 - val_accuracy: 0.9170\n",
            "Epoch 39/100\n",
            "1000/1000 [==============================] - 4s 4ms/step - loss: 0.0806 - accuracy: 0.9647 - val_loss: 0.4335 - val_accuracy: 0.9170\n",
            "Epoch 40/100\n",
            "1000/1000 [==============================] - 4s 4ms/step - loss: 0.0680 - accuracy: 0.9605 - val_loss: 0.5108 - val_accuracy: 0.9160\n",
            "Epoch 41/100\n",
            "1000/1000 [==============================] - 4s 4ms/step - loss: 0.0619 - accuracy: 0.9609 - val_loss: 0.5228 - val_accuracy: 0.9120\n",
            "Epoch 42/100\n",
            "1000/1000 [==============================] - 4s 4ms/step - loss: 0.0775 - accuracy: 0.9676 - val_loss: 0.5239 - val_accuracy: 0.9200\n",
            "Epoch 43/100\n",
            "1000/1000 [==============================] - 4s 4ms/step - loss: 0.0742 - accuracy: 0.9649 - val_loss: 0.5161 - val_accuracy: 0.9220\n",
            "Epoch 44/100\n",
            "1000/1000 [==============================] - 4s 4ms/step - loss: 0.0672 - accuracy: 0.9663 - val_loss: 0.4660 - val_accuracy: 0.9210\n",
            "Epoch 45/100\n",
            "1000/1000 [==============================] - 4s 4ms/step - loss: 0.0716 - accuracy: 0.9642 - val_loss: 0.3748 - val_accuracy: 0.9160\n",
            "Epoch 46/100\n",
            "1000/1000 [==============================] - 4s 4ms/step - loss: 0.0677 - accuracy: 0.9679 - val_loss: 0.4620 - val_accuracy: 0.9210\n",
            "Epoch 47/100\n",
            "1000/1000 [==============================] - 4s 4ms/step - loss: 0.0770 - accuracy: 0.9561 - val_loss: 0.3387 - val_accuracy: 0.9100\n",
            "Epoch 48/100\n",
            "1000/1000 [==============================] - 4s 4ms/step - loss: 0.0699 - accuracy: 0.9640 - val_loss: 0.4219 - val_accuracy: 0.9180\n",
            "Epoch 49/100\n",
            "1000/1000 [==============================] - 4s 4ms/step - loss: 0.0893 - accuracy: 0.9585 - val_loss: 0.5069 - val_accuracy: 0.9160\n",
            "Epoch 50/100\n",
            "1000/1000 [==============================] - 4s 4ms/step - loss: 0.0801 - accuracy: 0.9509 - val_loss: 0.5231 - val_accuracy: 0.9100\n",
            "Epoch 51/100\n",
            "1000/1000 [==============================] - 4s 4ms/step - loss: 0.0708 - accuracy: 0.9645 - val_loss: 0.5205 - val_accuracy: 0.9190\n",
            "Epoch 52/100\n",
            "1000/1000 [==============================] - 4s 4ms/step - loss: 0.1182 - accuracy: 0.9536 - val_loss: 0.4543 - val_accuracy: 0.9150\n",
            "Epoch 53/100\n",
            "1000/1000 [==============================] - 4s 4ms/step - loss: 0.0857 - accuracy: 0.9521 - val_loss: 0.4997 - val_accuracy: 0.9230\n",
            "Epoch 54/100\n",
            "1000/1000 [==============================] - 4s 4ms/step - loss: 0.0610 - accuracy: 0.9743 - val_loss: 0.5071 - val_accuracy: 0.9070\n",
            "Epoch 55/100\n",
            "1000/1000 [==============================] - 4s 4ms/step - loss: 0.0902 - accuracy: 0.9556 - val_loss: 0.4530 - val_accuracy: 0.9180\n",
            "Epoch 56/100\n",
            "1000/1000 [==============================] - 4s 4ms/step - loss: 0.0926 - accuracy: 0.9580 - val_loss: 0.5190 - val_accuracy: 0.9170\n",
            "Epoch 57/100\n",
            "1000/1000 [==============================] - 4s 4ms/step - loss: 0.0705 - accuracy: 0.9685 - val_loss: 0.5362 - val_accuracy: 0.9160\n",
            "Epoch 58/100\n",
            "1000/1000 [==============================] - 4s 4ms/step - loss: 0.0621 - accuracy: 0.9588 - val_loss: 0.5510 - val_accuracy: 0.9190\n",
            "Epoch 59/100\n",
            "1000/1000 [==============================] - 4s 4ms/step - loss: 0.0920 - accuracy: 0.9592 - val_loss: 0.5685 - val_accuracy: 0.9220\n",
            "Epoch 60/100\n",
            "1000/1000 [==============================] - 4s 4ms/step - loss: 0.0867 - accuracy: 0.9574 - val_loss: 0.5920 - val_accuracy: 0.9200\n",
            "Epoch 61/100\n",
            "1000/1000 [==============================] - 4s 4ms/step - loss: 0.0736 - accuracy: 0.9569 - val_loss: 0.4342 - val_accuracy: 0.9180\n",
            "Epoch 62/100\n",
            "1000/1000 [==============================] - 4s 4ms/step - loss: 0.0786 - accuracy: 0.9650 - val_loss: 0.5834 - val_accuracy: 0.9240\n",
            "Epoch 63/100\n",
            "1000/1000 [==============================] - 4s 4ms/step - loss: 0.0575 - accuracy: 0.9639 - val_loss: 0.3985 - val_accuracy: 0.9120\n",
            "Epoch 64/100\n",
            "1000/1000 [==============================] - 4s 4ms/step - loss: 0.0697 - accuracy: 0.9674 - val_loss: 0.4472 - val_accuracy: 0.9180\n",
            "Epoch 65/100\n",
            "1000/1000 [==============================] - 4s 4ms/step - loss: 0.0649 - accuracy: 0.9663 - val_loss: 0.4678 - val_accuracy: 0.9130\n",
            "Epoch 66/100\n",
            "1000/1000 [==============================] - 4s 4ms/step - loss: 0.0555 - accuracy: 0.9727 - val_loss: 0.5177 - val_accuracy: 0.9220\n",
            "Epoch 67/100\n",
            "1000/1000 [==============================] - 4s 4ms/step - loss: 0.0478 - accuracy: 0.9729 - val_loss: 0.6512 - val_accuracy: 0.9140\n",
            "Epoch 68/100\n",
            "1000/1000 [==============================] - 4s 4ms/step - loss: 0.0669 - accuracy: 0.9669 - val_loss: 0.5663 - val_accuracy: 0.9020\n",
            "Epoch 69/100\n",
            "1000/1000 [==============================] - 4s 4ms/step - loss: 0.0751 - accuracy: 0.9739 - val_loss: 0.5323 - val_accuracy: 0.9130\n",
            "Epoch 70/100\n",
            "1000/1000 [==============================] - 4s 4ms/step - loss: 0.0755 - accuracy: 0.9642 - val_loss: 0.6043 - val_accuracy: 0.9100\n",
            "Epoch 71/100\n",
            "1000/1000 [==============================] - 4s 4ms/step - loss: 0.0664 - accuracy: 0.9701 - val_loss: 0.7132 - val_accuracy: 0.9140\n",
            "Epoch 72/100\n",
            "1000/1000 [==============================] - 4s 4ms/step - loss: 0.0695 - accuracy: 0.9679 - val_loss: 0.6006 - val_accuracy: 0.9170\n",
            "Epoch 73/100\n",
            "1000/1000 [==============================] - 4s 4ms/step - loss: 0.0513 - accuracy: 0.9764 - val_loss: 0.4556 - val_accuracy: 0.9200\n",
            "Epoch 74/100\n",
            "1000/1000 [==============================] - 4s 4ms/step - loss: 0.0636 - accuracy: 0.9713 - val_loss: 0.6795 - val_accuracy: 0.9140\n",
            "Epoch 75/100\n",
            "1000/1000 [==============================] - 4s 4ms/step - loss: 0.0623 - accuracy: 0.9661 - val_loss: 0.6940 - val_accuracy: 0.9140\n",
            "Epoch 76/100\n",
            "1000/1000 [==============================] - 4s 4ms/step - loss: 0.0499 - accuracy: 0.9737 - val_loss: 0.6131 - val_accuracy: 0.9100\n",
            "Epoch 77/100\n",
            "1000/1000 [==============================] - 4s 4ms/step - loss: 0.0790 - accuracy: 0.9654 - val_loss: 0.7260 - val_accuracy: 0.9160\n",
            "Epoch 78/100\n",
            "1000/1000 [==============================] - 4s 4ms/step - loss: 0.0522 - accuracy: 0.9808 - val_loss: 0.7246 - val_accuracy: 0.9120\n",
            "Epoch 79/100\n",
            "1000/1000 [==============================] - 4s 4ms/step - loss: 0.0423 - accuracy: 0.9796 - val_loss: 0.9130 - val_accuracy: 0.9110\n",
            "Epoch 80/100\n",
            "1000/1000 [==============================] - 4s 4ms/step - loss: 0.0628 - accuracy: 0.9668 - val_loss: 0.7273 - val_accuracy: 0.9100\n",
            "Epoch 81/100\n",
            "1000/1000 [==============================] - 4s 4ms/step - loss: 0.0885 - accuracy: 0.9608 - val_loss: 0.6264 - val_accuracy: 0.9120\n",
            "Epoch 82/100\n",
            "1000/1000 [==============================] - 4s 4ms/step - loss: 0.0559 - accuracy: 0.9749 - val_loss: 0.6137 - val_accuracy: 0.9080\n",
            "Epoch 83/100\n",
            "1000/1000 [==============================] - 4s 4ms/step - loss: 0.0812 - accuracy: 0.9732 - val_loss: 0.4123 - val_accuracy: 0.9100\n",
            "Epoch 84/100\n",
            "1000/1000 [==============================] - 4s 4ms/step - loss: 0.0676 - accuracy: 0.9647 - val_loss: 0.6158 - val_accuracy: 0.9100\n",
            "Epoch 85/100\n",
            "1000/1000 [==============================] - 4s 4ms/step - loss: 0.0884 - accuracy: 0.9672 - val_loss: 0.6735 - val_accuracy: 0.9140\n",
            "Epoch 86/100\n",
            "1000/1000 [==============================] - 4s 4ms/step - loss: 0.0363 - accuracy: 0.9814 - val_loss: 0.6698 - val_accuracy: 0.9150\n",
            "Epoch 87/100\n",
            "1000/1000 [==============================] - 4s 4ms/step - loss: 0.0711 - accuracy: 0.9634 - val_loss: 0.7565 - val_accuracy: 0.9190\n",
            "Epoch 88/100\n",
            "1000/1000 [==============================] - 4s 4ms/step - loss: 0.0488 - accuracy: 0.9710 - val_loss: 0.7496 - val_accuracy: 0.9170\n",
            "Epoch 89/100\n",
            "1000/1000 [==============================] - 4s 4ms/step - loss: 0.0452 - accuracy: 0.9768 - val_loss: 0.4894 - val_accuracy: 0.9150\n",
            "Epoch 90/100\n",
            "1000/1000 [==============================] - 4s 4ms/step - loss: 0.0597 - accuracy: 0.9655 - val_loss: 0.6701 - val_accuracy: 0.9120\n",
            "Epoch 91/100\n",
            "1000/1000 [==============================] - 4s 4ms/step - loss: 0.0576 - accuracy: 0.9713 - val_loss: 0.6483 - val_accuracy: 0.9170\n",
            "Epoch 92/100\n",
            "1000/1000 [==============================] - 4s 4ms/step - loss: 0.0734 - accuracy: 0.9662 - val_loss: 0.5523 - val_accuracy: 0.9160\n",
            "Epoch 93/100\n",
            "1000/1000 [==============================] - 4s 4ms/step - loss: 0.0570 - accuracy: 0.9715 - val_loss: 0.4929 - val_accuracy: 0.8910\n",
            "Epoch 94/100\n",
            "1000/1000 [==============================] - 4s 4ms/step - loss: 0.0664 - accuracy: 0.9568 - val_loss: 0.5672 - val_accuracy: 0.9160\n",
            "Epoch 95/100\n",
            "1000/1000 [==============================] - 4s 4ms/step - loss: 0.0431 - accuracy: 0.9720 - val_loss: 0.6945 - val_accuracy: 0.9210\n",
            "Epoch 96/100\n",
            "1000/1000 [==============================] - 4s 4ms/step - loss: 0.0714 - accuracy: 0.9664 - val_loss: 0.5878 - val_accuracy: 0.9170\n",
            "Epoch 97/100\n",
            "1000/1000 [==============================] - 4s 4ms/step - loss: 0.0567 - accuracy: 0.9670 - val_loss: 0.8365 - val_accuracy: 0.9150\n",
            "Epoch 98/100\n",
            "1000/1000 [==============================] - 4s 4ms/step - loss: 0.0903 - accuracy: 0.9745 - val_loss: 0.5216 - val_accuracy: 0.9180\n",
            "Epoch 99/100\n",
            "1000/1000 [==============================] - 4s 4ms/step - loss: 0.0507 - accuracy: 0.9727 - val_loss: 0.6644 - val_accuracy: 0.9180\n",
            "Epoch 100/100\n",
            "1000/1000 [==============================] - 4s 4ms/step - loss: 0.0637 - accuracy: 0.9651 - val_loss: 0.7159 - val_accuracy: 0.9090\n",
            "CPU times: user 6min 39s, sys: 1min 22s, total: 8min 2s\n",
            "Wall time: 6min 31s\n"
          ],
          "name": "stdout"
        }
      ]
    },
    {
      "cell_type": "code",
      "metadata": {
        "id": "C6P7QncZbmTP",
        "colab": {
          "base_uri": "https://localhost:8080/",
          "height": 513
        },
        "outputId": "f60aef16-3c3e-41ea-b813-13db76ea1494"
      },
      "source": [
        "import matplotlib.pyplot as plt\n",
        "\n",
        "epochs = range(1, len(Hist.history['loss'])+1)\n",
        "\n",
        "plt.plot(epochs, Hist.history['loss'])\n",
        "plt.plot(epochs, Hist.history['val_loss'])\n",
        "plt.legend(['loss','val_loss'])\n",
        "plt.show()\n",
        "\n",
        "plt.plot(epochs, Hist.history['accuracy'])\n",
        "plt.plot(epochs, Hist.history['val_accuracy'])\n",
        "plt.legend(['accuracy','val_accuracy'])\n",
        "plt.show()"
      ],
      "execution_count": 13,
      "outputs": [
        {
          "output_type": "display_data",
          "data": {
            "image/png": "[encoded data removed]",
            "text/plain": [
              "<Figure size 432x288 with 1 Axes>"
            ]
          },
          "metadata": {
            "tags": [],
            "needs_background": "light"
          }
        },
        {
          "output_type": "display_data",
          "data": {
            "image/png": "[encoded data removed]",
            "text/plain": [
              "<Figure size 432x288 with 1 Axes>"
            ]
          },
          "metadata": {
            "tags": [],
            "needs_background": "light"
          }
        }
      ]
    },
    {
      "cell_type": "code",
      "metadata": {
        "colab": {
          "base_uri": "https://localhost:8080/"
        },
        "id": "IL0dEMsRbmTQ",
        "outputId": "3718935d-a51d-4f39-f787-512b497bbf56"
      },
      "source": [
        "loss, accuracy = model.evaluate(test_features, test_labels)\n",
        "loss, accuracy"
      ],
      "execution_count": 14,
      "outputs": [
        {
          "output_type": "stream",
          "text": [
            "32/32 [==============================] - 0s 4ms/step - loss: 0.6634 - accuracy: 0.9080\n"
          ],
          "name": "stdout"
        },
        {
          "output_type": "execute_result",
          "data": {
            "text/plain": [
              "(0.6634384989738464, 0.9079999923706055)"
            ]
          },
          "metadata": {
            "tags": []
          },
          "execution_count": 14
        }
      ]
    },
    {
      "cell_type": "markdown",
      "metadata": {
        "id": "eRTdIz4iej_V"
      },
      "source": [
        "# batch_size=1000 with just concat"
      ]
    },
    {
      "cell_type": "code",
      "metadata": {
        "colab": {
          "base_uri": "https://localhost:8080/"
        },
        "id": "FiBI3I1Werv-",
        "outputId": "351421d7-de9d-40c4-91d5-86e24234ad6f"
      },
      "source": [
        "from keras import models, layers\n",
        "\n",
        "model = models.Sequential()\n",
        "model.add(conv_base)\n",
        "\n",
        "model.add(layers.Flatten())\n",
        "model.add(layers.Dense(256,activation='relu'))\n",
        "model.add(layers.Dropout(0.5))\n",
        "model.add(layers.Dense(1, activation='sigmoid'))\n",
        "\n",
        "model.summary()"
      ],
      "execution_count": 8,
      "outputs": [
        {
          "output_type": "stream",
          "text": [
            "Model: \"sequential_1\"\n",
            "_________________________________________________________________\n",
            "Layer (type)                 Output Shape              Param #   \n",
            "=================================================================\n",
            "vgg16 (Functional)           (None, 9, 9, 512)         14714688  \n",
            "_________________________________________________________________\n",
            "flatten (Flatten)            (None, 41472)             0         \n",
            "_________________________________________________________________\n",
            "dense (Dense)                (None, 256)               10617088  \n",
            "_________________________________________________________________\n",
            "dropout (Dropout)            (None, 256)               0         \n",
            "_________________________________________________________________\n",
            "dense_1 (Dense)              (None, 1)                 257       \n",
            "=================================================================\n",
            "Total params: 25,332,033\n",
            "Trainable params: 25,332,033\n",
            "Non-trainable params: 0\n",
            "_________________________________________________________________\n"
          ],
          "name": "stdout"
        }
      ]
    },
    {
      "cell_type": "code",
      "metadata": {
        "colab": {
          "base_uri": "https://localhost:8080/"
        },
        "id": "1MzlW-W3erv_",
        "outputId": "c901be0d-dd34-40a4-b512-7a55e7eeb33b"
      },
      "source": [
        "conv_base.trainable = False\n",
        "\n",
        "print(len(model.trainable_weights))"
      ],
      "execution_count": 9,
      "outputs": [
        {
          "output_type": "stream",
          "text": [
            "4\n"
          ],
          "name": "stdout"
        }
      ]
    },
    {
      "cell_type": "code",
      "metadata": {
        "colab": {
          "base_uri": "https://localhost:8080/"
        },
        "id": "M9tJP4wuerv_",
        "outputId": "f4d3fd8c-0dae-4a37-b9f9-9e4f2b550f91"
      },
      "source": [
        "from keras.preprocessing.image import ImageDataGenerator\n",
        "\n",
        "train_datagen = ImageDataGenerator(rescale=1./255)\n",
        "valid_datagen = ImageDataGenerator(rescale=1./255)\n",
        "test_datagen = ImageDataGenerator(rescale=1./255)\n",
        "\n",
        "train_generator = train_datagen.flow_from_directory(train_dir, target_size=(300,300), batch_size=200, class_mode='binary')\n",
        "valid_generator = valid_datagen.flow_from_directory(valid_dir, target_size=(300,300), batch_size=200, class_mode='binary')\n",
        "test_generator = test_datagen.flow_from_directory(test_dir, target_size=(300,300), batch_size=200, class_mode='binary')"
      ],
      "execution_count": 10,
      "outputs": [
        {
          "output_type": "stream",
          "text": [
            "Found 2000 images belonging to 2 classes.\n",
            "Found 1000 images belonging to 2 classes.\n",
            "Found 1000 images belonging to 2 classes.\n"
          ],
          "name": "stdout"
        }
      ]
    },
    {
      "cell_type": "code",
      "metadata": {
        "colab": {
          "base_uri": "https://localhost:8080/"
        },
        "id": "8X08tsy-erv_",
        "outputId": "2bd2db4a-105d-4c15-ce6f-d535e48cf63d"
      },
      "source": [
        "%%time\n",
        "model.compile(loss='binary_crossentropy', optimizer='adam', metrics=['accuracy'])\n",
        "\n",
        "Hist = model.fit(train_generator, steps_per_epoch=10, epochs=100, validation_data=valid_generator, validation_steps=5)"
      ],
      "execution_count": 11,
      "outputs": [
        {
          "output_type": "stream",
          "text": [
            "Epoch 1/100\n",
            "10/10 [==============================] - 40s 2s/step - loss: 6.0628 - accuracy: 0.5095 - val_loss: 1.9429 - val_accuracy: 0.5000\n",
            "Epoch 2/100\n",
            "10/10 [==============================] - 16s 2s/step - loss: 1.4555 - accuracy: 0.6043 - val_loss: 0.4695 - val_accuracy: 0.7490\n",
            "Epoch 3/100\n",
            "10/10 [==============================] - 16s 2s/step - loss: 0.5005 - accuracy: 0.7687 - val_loss: 0.3709 - val_accuracy: 0.8660\n",
            "Epoch 4/100\n",
            "10/10 [==============================] - 16s 2s/step - loss: 0.3719 - accuracy: 0.8575 - val_loss: 0.3131 - val_accuracy: 0.8820\n",
            "Epoch 5/100\n",
            "10/10 [==============================] - 16s 2s/step - loss: 0.3100 - accuracy: 0.8792 - val_loss: 0.2816 - val_accuracy: 0.8970\n",
            "Epoch 6/100\n",
            "10/10 [==============================] - 16s 2s/step - loss: 0.2740 - accuracy: 0.8980 - val_loss: 0.2633 - val_accuracy: 0.9080\n",
            "Epoch 7/100\n",
            "10/10 [==============================] - 16s 2s/step - loss: 0.2512 - accuracy: 0.9129 - val_loss: 0.2443 - val_accuracy: 0.9090\n",
            "Epoch 8/100\n",
            "10/10 [==============================] - 16s 2s/step - loss: 0.2143 - accuracy: 0.9267 - val_loss: 0.2368 - val_accuracy: 0.9060\n",
            "Epoch 9/100\n",
            "10/10 [==============================] - 16s 2s/step - loss: 0.2076 - accuracy: 0.9241 - val_loss: 0.2497 - val_accuracy: 0.8910\n",
            "Epoch 10/100\n",
            "10/10 [==============================] - 16s 2s/step - loss: 0.2002 - accuracy: 0.9358 - val_loss: 0.2362 - val_accuracy: 0.9020\n",
            "Epoch 11/100\n",
            "10/10 [==============================] - 16s 2s/step - loss: 0.1705 - accuracy: 0.9460 - val_loss: 0.2124 - val_accuracy: 0.9100\n",
            "Epoch 12/100\n",
            "10/10 [==============================] - 16s 2s/step - loss: 0.1526 - accuracy: 0.9548 - val_loss: 0.2035 - val_accuracy: 0.9200\n",
            "Epoch 13/100\n",
            "10/10 [==============================] - 16s 2s/step - loss: 0.1249 - accuracy: 0.9696 - val_loss: 0.2055 - val_accuracy: 0.9150\n",
            "Epoch 14/100\n",
            "10/10 [==============================] - 16s 2s/step - loss: 0.1256 - accuracy: 0.9644 - val_loss: 0.1975 - val_accuracy: 0.9190\n",
            "Epoch 15/100\n",
            "10/10 [==============================] - 16s 2s/step - loss: 0.1072 - accuracy: 0.9740 - val_loss: 0.1939 - val_accuracy: 0.9190\n",
            "Epoch 16/100\n",
            "10/10 [==============================] - 16s 2s/step - loss: 0.1061 - accuracy: 0.9767 - val_loss: 0.1965 - val_accuracy: 0.9170\n",
            "Epoch 17/100\n",
            "10/10 [==============================] - 16s 2s/step - loss: 0.0949 - accuracy: 0.9777 - val_loss: 0.1900 - val_accuracy: 0.9200\n",
            "Epoch 18/100\n",
            "10/10 [==============================] - 16s 2s/step - loss: 0.0788 - accuracy: 0.9792 - val_loss: 0.1919 - val_accuracy: 0.9220\n",
            "Epoch 19/100\n",
            "10/10 [==============================] - 16s 2s/step - loss: 0.0755 - accuracy: 0.9853 - val_loss: 0.1937 - val_accuracy: 0.9210\n",
            "Epoch 20/100\n",
            "10/10 [==============================] - 16s 2s/step - loss: 0.0706 - accuracy: 0.9841 - val_loss: 0.1911 - val_accuracy: 0.9200\n",
            "Epoch 21/100\n",
            "10/10 [==============================] - 16s 2s/step - loss: 0.0568 - accuracy: 0.9921 - val_loss: 0.1939 - val_accuracy: 0.9200\n",
            "Epoch 22/100\n",
            "10/10 [==============================] - 16s 2s/step - loss: 0.0541 - accuracy: 0.9926 - val_loss: 0.1887 - val_accuracy: 0.9230\n",
            "Epoch 23/100\n",
            "10/10 [==============================] - 16s 2s/step - loss: 0.0502 - accuracy: 0.9930 - val_loss: 0.1961 - val_accuracy: 0.9210\n",
            "Epoch 24/100\n",
            "10/10 [==============================] - 16s 2s/step - loss: 0.0505 - accuracy: 0.9935 - val_loss: 0.1946 - val_accuracy: 0.9260\n",
            "Epoch 25/100\n",
            "10/10 [==============================] - 15s 2s/step - loss: 0.0516 - accuracy: 0.9934 - val_loss: 0.1984 - val_accuracy: 0.9230\n",
            "Epoch 26/100\n",
            "10/10 [==============================] - 16s 2s/step - loss: 0.0407 - accuracy: 0.9962 - val_loss: 0.1923 - val_accuracy: 0.9250\n",
            "Epoch 27/100\n",
            "10/10 [==============================] - 15s 2s/step - loss: 0.0369 - accuracy: 0.9962 - val_loss: 0.2141 - val_accuracy: 0.9190\n",
            "Epoch 28/100\n",
            "10/10 [==============================] - 15s 2s/step - loss: 0.0428 - accuracy: 0.9960 - val_loss: 0.2045 - val_accuracy: 0.9220\n",
            "Epoch 29/100\n",
            "10/10 [==============================] - 15s 2s/step - loss: 0.0364 - accuracy: 0.9944 - val_loss: 0.1909 - val_accuracy: 0.9290\n",
            "Epoch 30/100\n",
            "10/10 [==============================] - 15s 2s/step - loss: 0.0368 - accuracy: 0.9941 - val_loss: 0.1972 - val_accuracy: 0.9250\n",
            "Epoch 31/100\n",
            "10/10 [==============================] - 16s 2s/step - loss: 0.0336 - accuracy: 0.9945 - val_loss: 0.1988 - val_accuracy: 0.9260\n",
            "Epoch 32/100\n",
            "10/10 [==============================] - 15s 2s/step - loss: 0.0295 - accuracy: 0.9951 - val_loss: 0.2115 - val_accuracy: 0.9220\n",
            "Epoch 33/100\n",
            "10/10 [==============================] - 16s 2s/step - loss: 0.0331 - accuracy: 0.9921 - val_loss: 0.2026 - val_accuracy: 0.9270\n",
            "Epoch 34/100\n",
            "10/10 [==============================] - 15s 2s/step - loss: 0.0249 - accuracy: 0.9981 - val_loss: 0.2051 - val_accuracy: 0.9270\n",
            "Epoch 35/100\n",
            "10/10 [==============================] - 16s 2s/step - loss: 0.0294 - accuracy: 0.9925 - val_loss: 0.2087 - val_accuracy: 0.9250\n",
            "Epoch 36/100\n",
            "10/10 [==============================] - 15s 2s/step - loss: 0.0308 - accuracy: 0.9957 - val_loss: 0.2157 - val_accuracy: 0.9250\n",
            "Epoch 37/100\n",
            "10/10 [==============================] - 16s 2s/step - loss: 0.0270 - accuracy: 0.9955 - val_loss: 0.2111 - val_accuracy: 0.9250\n",
            "Epoch 38/100\n",
            "10/10 [==============================] - 15s 2s/step - loss: 0.0251 - accuracy: 0.9968 - val_loss: 0.2043 - val_accuracy: 0.9260\n",
            "Epoch 39/100\n",
            "10/10 [==============================] - 15s 2s/step - loss: 0.0239 - accuracy: 0.9966 - val_loss: 0.2100 - val_accuracy: 0.9270\n",
            "Epoch 40/100\n",
            "10/10 [==============================] - 15s 2s/step - loss: 0.0223 - accuracy: 0.9965 - val_loss: 0.2141 - val_accuracy: 0.9250\n",
            "Epoch 41/100\n",
            "10/10 [==============================] - 16s 2s/step - loss: 0.0216 - accuracy: 0.9952 - val_loss: 0.2180 - val_accuracy: 0.9250\n",
            "Epoch 42/100\n",
            "10/10 [==============================] - 15s 2s/step - loss: 0.0191 - accuracy: 0.9986 - val_loss: 0.2209 - val_accuracy: 0.9240\n",
            "Epoch 43/100\n",
            "10/10 [==============================] - 15s 2s/step - loss: 0.0227 - accuracy: 0.9970 - val_loss: 0.2162 - val_accuracy: 0.9260\n",
            "Epoch 44/100\n",
            "10/10 [==============================] - 15s 2s/step - loss: 0.0195 - accuracy: 0.9968 - val_loss: 0.2135 - val_accuracy: 0.9270\n",
            "Epoch 45/100\n",
            "10/10 [==============================] - 15s 2s/step - loss: 0.0210 - accuracy: 0.9953 - val_loss: 0.2429 - val_accuracy: 0.9200\n",
            "Epoch 46/100\n",
            "10/10 [==============================] - 15s 2s/step - loss: 0.0193 - accuracy: 0.9988 - val_loss: 0.2208 - val_accuracy: 0.9290\n",
            "Epoch 47/100\n",
            "10/10 [==============================] - 15s 2s/step - loss: 0.0177 - accuracy: 0.9967 - val_loss: 0.2155 - val_accuracy: 0.9260\n",
            "Epoch 48/100\n",
            "10/10 [==============================] - 15s 2s/step - loss: 0.0185 - accuracy: 0.9952 - val_loss: 0.2341 - val_accuracy: 0.9250\n",
            "Epoch 49/100\n",
            "10/10 [==============================] - 15s 2s/step - loss: 0.0188 - accuracy: 0.9949 - val_loss: 0.2363 - val_accuracy: 0.9250\n",
            "Epoch 50/100\n",
            "10/10 [==============================] - 15s 2s/step - loss: 0.0149 - accuracy: 0.9980 - val_loss: 0.2211 - val_accuracy: 0.9260\n",
            "Epoch 51/100\n",
            "10/10 [==============================] - 15s 2s/step - loss: 0.0186 - accuracy: 0.9964 - val_loss: 0.2239 - val_accuracy: 0.9270\n",
            "Epoch 52/100\n",
            "10/10 [==============================] - 15s 2s/step - loss: 0.0187 - accuracy: 0.9954 - val_loss: 0.2293 - val_accuracy: 0.9280\n",
            "Epoch 53/100\n",
            "10/10 [==============================] - 15s 2s/step - loss: 0.0159 - accuracy: 0.9948 - val_loss: 0.2254 - val_accuracy: 0.9280\n",
            "Epoch 54/100\n",
            "10/10 [==============================] - 15s 2s/step - loss: 0.0131 - accuracy: 0.9978 - val_loss: 0.2342 - val_accuracy: 0.9280\n",
            "Epoch 55/100\n",
            "10/10 [==============================] - 15s 2s/step - loss: 0.0168 - accuracy: 0.9941 - val_loss: 0.2353 - val_accuracy: 0.9280\n",
            "Epoch 56/100\n",
            "10/10 [==============================] - 15s 2s/step - loss: 0.0139 - accuracy: 0.9967 - val_loss: 0.2388 - val_accuracy: 0.9280\n",
            "Epoch 57/100\n",
            "10/10 [==============================] - 15s 2s/step - loss: 0.0150 - accuracy: 0.9984 - val_loss: 0.2477 - val_accuracy: 0.9230\n",
            "Epoch 58/100\n",
            "10/10 [==============================] - 15s 2s/step - loss: 0.0131 - accuracy: 0.9990 - val_loss: 0.2480 - val_accuracy: 0.9250\n",
            "Epoch 59/100\n",
            "10/10 [==============================] - 15s 2s/step - loss: 0.0103 - accuracy: 0.9989 - val_loss: 0.2522 - val_accuracy: 0.9240\n",
            "Epoch 60/100\n",
            "10/10 [==============================] - 15s 2s/step - loss: 0.0136 - accuracy: 0.9958 - val_loss: 0.2528 - val_accuracy: 0.9230\n",
            "Epoch 61/100\n",
            "10/10 [==============================] - 15s 2s/step - loss: 0.0134 - accuracy: 0.9973 - val_loss: 0.2402 - val_accuracy: 0.9270\n",
            "Epoch 62/100\n",
            "10/10 [==============================] - 15s 2s/step - loss: 0.0129 - accuracy: 0.9985 - val_loss: 0.2536 - val_accuracy: 0.9250\n",
            "Epoch 63/100\n",
            "10/10 [==============================] - 15s 2s/step - loss: 0.0119 - accuracy: 0.9972 - val_loss: 0.2571 - val_accuracy: 0.9250\n",
            "Epoch 64/100\n",
            "10/10 [==============================] - 15s 2s/step - loss: 0.0140 - accuracy: 0.9961 - val_loss: 0.2475 - val_accuracy: 0.9290\n",
            "Epoch 65/100\n",
            "10/10 [==============================] - 15s 2s/step - loss: 0.0106 - accuracy: 0.9964 - val_loss: 0.2436 - val_accuracy: 0.9250\n",
            "Epoch 66/100\n",
            "10/10 [==============================] - 15s 2s/step - loss: 0.0134 - accuracy: 0.9981 - val_loss: 0.2513 - val_accuracy: 0.9270\n",
            "Epoch 67/100\n",
            "10/10 [==============================] - 15s 2s/step - loss: 0.0106 - accuracy: 0.9964 - val_loss: 0.2438 - val_accuracy: 0.9260\n",
            "Epoch 68/100\n",
            "10/10 [==============================] - 15s 2s/step - loss: 0.0113 - accuracy: 0.9983 - val_loss: 0.2467 - val_accuracy: 0.9260\n",
            "Epoch 69/100\n",
            "10/10 [==============================] - 15s 2s/step - loss: 0.0132 - accuracy: 0.9962 - val_loss: 0.2653 - val_accuracy: 0.9230\n",
            "Epoch 70/100\n",
            "10/10 [==============================] - 15s 2s/step - loss: 0.0127 - accuracy: 0.9956 - val_loss: 0.2528 - val_accuracy: 0.9270\n",
            "Epoch 71/100\n",
            "10/10 [==============================] - 15s 2s/step - loss: 0.0106 - accuracy: 0.9977 - val_loss: 0.2617 - val_accuracy: 0.9260\n",
            "Epoch 72/100\n",
            "10/10 [==============================] - 15s 2s/step - loss: 0.0136 - accuracy: 0.9969 - val_loss: 0.2381 - val_accuracy: 0.9280\n",
            "Epoch 73/100\n",
            "10/10 [==============================] - 15s 2s/step - loss: 0.0090 - accuracy: 0.9980 - val_loss: 0.2568 - val_accuracy: 0.9290\n",
            "Epoch 74/100\n",
            "10/10 [==============================] - 15s 2s/step - loss: 0.0104 - accuracy: 0.9982 - val_loss: 0.2535 - val_accuracy: 0.9280\n",
            "Epoch 75/100\n",
            "10/10 [==============================] - 15s 2s/step - loss: 0.0092 - accuracy: 0.9977 - val_loss: 0.2649 - val_accuracy: 0.9280\n",
            "Epoch 76/100\n",
            "10/10 [==============================] - 15s 2s/step - loss: 0.0102 - accuracy: 0.9970 - val_loss: 0.2644 - val_accuracy: 0.9280\n",
            "Epoch 77/100\n",
            "10/10 [==============================] - 15s 2s/step - loss: 0.0119 - accuracy: 0.9961 - val_loss: 0.2688 - val_accuracy: 0.9270\n",
            "Epoch 78/100\n",
            "10/10 [==============================] - 15s 2s/step - loss: 0.0152 - accuracy: 0.9935 - val_loss: 0.2627 - val_accuracy: 0.9270\n",
            "Epoch 79/100\n",
            "10/10 [==============================] - 15s 2s/step - loss: 0.0104 - accuracy: 0.9961 - val_loss: 0.2715 - val_accuracy: 0.9280\n",
            "Epoch 80/100\n",
            "10/10 [==============================] - 15s 2s/step - loss: 0.0111 - accuracy: 0.9971 - val_loss: 0.2620 - val_accuracy: 0.9280\n",
            "Epoch 81/100\n",
            "10/10 [==============================] - 15s 2s/step - loss: 0.0080 - accuracy: 0.9962 - val_loss: 0.2631 - val_accuracy: 0.9280\n",
            "Epoch 82/100\n",
            "10/10 [==============================] - 16s 2s/step - loss: 0.0097 - accuracy: 0.9975 - val_loss: 0.2820 - val_accuracy: 0.9230\n",
            "Epoch 83/100\n",
            "10/10 [==============================] - 15s 2s/step - loss: 0.0098 - accuracy: 0.9970 - val_loss: 0.2693 - val_accuracy: 0.9270\n",
            "Epoch 84/100\n",
            "10/10 [==============================] - 15s 2s/step - loss: 0.0081 - accuracy: 0.9981 - val_loss: 0.2915 - val_accuracy: 0.9200\n",
            "Epoch 85/100\n",
            "10/10 [==============================] - 15s 2s/step - loss: 0.0106 - accuracy: 0.9965 - val_loss: 0.2922 - val_accuracy: 0.9200\n",
            "Epoch 86/100\n",
            "10/10 [==============================] - 15s 2s/step - loss: 0.0080 - accuracy: 0.9991 - val_loss: 0.2747 - val_accuracy: 0.9280\n",
            "Epoch 87/100\n",
            "10/10 [==============================] - 15s 2s/step - loss: 0.0083 - accuracy: 0.9989 - val_loss: 0.2722 - val_accuracy: 0.9280\n",
            "Epoch 88/100\n",
            "10/10 [==============================] - 15s 2s/step - loss: 0.0067 - accuracy: 0.9985 - val_loss: 0.2887 - val_accuracy: 0.9240\n",
            "Epoch 89/100\n",
            "10/10 [==============================] - 15s 2s/step - loss: 0.0076 - accuracy: 0.9986 - val_loss: 0.2669 - val_accuracy: 0.9260\n",
            "Epoch 90/100\n",
            "10/10 [==============================] - 15s 2s/step - loss: 0.0088 - accuracy: 0.9971 - val_loss: 0.3095 - val_accuracy: 0.9250\n",
            "Epoch 91/100\n",
            "10/10 [==============================] - 15s 2s/step - loss: 0.0075 - accuracy: 0.9991 - val_loss: 0.2773 - val_accuracy: 0.9270\n",
            "Epoch 92/100\n",
            "10/10 [==============================] - 15s 2s/step - loss: 0.0080 - accuracy: 0.9986 - val_loss: 0.2912 - val_accuracy: 0.9260\n",
            "Epoch 93/100\n",
            "10/10 [==============================] - 15s 2s/step - loss: 0.0080 - accuracy: 0.9964 - val_loss: 0.2889 - val_accuracy: 0.9250\n",
            "Epoch 94/100\n",
            "10/10 [==============================] - 15s 2s/step - loss: 0.0076 - accuracy: 0.9980 - val_loss: 0.2689 - val_accuracy: 0.9260\n",
            "Epoch 95/100\n",
            "10/10 [==============================] - 15s 2s/step - loss: 0.0062 - accuracy: 0.9990 - val_loss: 0.3132 - val_accuracy: 0.9220\n",
            "Epoch 96/100\n",
            "10/10 [==============================] - 15s 2s/step - loss: 0.0062 - accuracy: 0.9986 - val_loss: 0.2833 - val_accuracy: 0.9280\n",
            "Epoch 97/100\n",
            "10/10 [==============================] - 15s 2s/step - loss: 0.0120 - accuracy: 0.9945 - val_loss: 0.2925 - val_accuracy: 0.9260\n",
            "Epoch 98/100\n",
            "10/10 [==============================] - 15s 2s/step - loss: 0.0087 - accuracy: 0.9954 - val_loss: 0.3009 - val_accuracy: 0.9270\n",
            "Epoch 99/100\n",
            "10/10 [==============================] - 15s 2s/step - loss: 0.0098 - accuracy: 0.9965 - val_loss: 0.2711 - val_accuracy: 0.9250\n",
            "Epoch 100/100\n",
            "10/10 [==============================] - 15s 2s/step - loss: 0.0107 - accuracy: 0.9990 - val_loss: 0.3192 - val_accuracy: 0.9220\n",
            "CPU times: user 26min 17s, sys: 1min 30s, total: 27min 48s\n",
            "Wall time: 26min 9s\n"
          ],
          "name": "stdout"
        }
      ]
    },
    {
      "cell_type": "code",
      "metadata": {
        "colab": {
          "base_uri": "https://localhost:8080/",
          "height": 515
        },
        "id": "zzSC94-2erwA",
        "outputId": "3f15f6c0-764d-4047-fcad-016df888f80f"
      },
      "source": [
        "import matplotlib.pyplot as plt\n",
        "\n",
        "epochs = range(1, len(Hist.history['loss'])+1)\n",
        "\n",
        "plt.plot(epochs, Hist.history['loss'])\n",
        "plt.plot(epochs, Hist.history['val_loss'])\n",
        "plt.legend(['loss','val_loss'])\n",
        "plt.show()\n",
        "\n",
        "plt.plot(epochs, Hist.history['accuracy'])\n",
        "plt.plot(epochs, Hist.history['val_accuracy'])\n",
        "plt.legend(['accuracy','val_accuracy'])\n",
        "plt.show()"
      ],
      "execution_count": 12,
      "outputs": [
        {
          "output_type": "display_data",
          "data": {
            "image/png": "[encoded data removed]",
            "text/plain": [
              "<Figure size 432x288 with 1 Axes>"
            ]
          },
          "metadata": {
            "tags": [],
            "needs_background": "light"
          }
        },
        {
          "output_type": "display_data",
          "data": {
            "image/png": "[encoded data removed]",
            "text/plain": [
              "<Figure size 432x288 with 1 Axes>"
            ]
          },
          "metadata": {
            "tags": [],
            "needs_background": "light"
          }
        }
      ]
    },
    {
      "cell_type": "code",
      "metadata": {
        "colab": {
          "base_uri": "https://localhost:8080/"
        },
        "id": "wXsnyUazerwA",
        "outputId": "2385c660-4a4c-493d-e219-c843b1a7a211"
      },
      "source": [
        "loss, accuracy = model.evaluate(test_generator, steps=5)\n",
        "loss, accuracy"
      ],
      "execution_count": 13,
      "outputs": [
        {
          "output_type": "stream",
          "text": [
            "5/5 [==============================] - 6s 1s/step - loss: 0.3325 - accuracy: 0.9150\n"
          ],
          "name": "stdout"
        },
        {
          "output_type": "execute_result",
          "data": {
            "text/plain": [
              "(0.33249884843826294, 0.9150000214576721)"
            ]
          },
          "metadata": {
            "tags": []
          },
          "execution_count": 13
        }
      ]
    }
  ]
}