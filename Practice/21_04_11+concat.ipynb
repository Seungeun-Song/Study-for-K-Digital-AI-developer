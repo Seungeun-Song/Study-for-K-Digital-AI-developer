{
  "nbformat": 4,
  "nbformat_minor": 0,
  "metadata": {
    "colab": {
      "name": "+concat.ipynb",
      "provenance": []
    },
    "kernelspec": {
      "name": "python3",
      "display_name": "Python 3"
    },
    "language_info": {
      "name": "python"
    },
    "accelerator": "GPU"
  },
  "cells": [
    {
      "cell_type": "code",
      "metadata": {
        "colab": {
          "base_uri": "https://localhost:8080/"
        },
        "id": "KCE6zC3a_0Py",
        "outputId": "d4de0a9f-89c1-4e62-dca8-fe2d022143a3"
      },
      "source": [
        "from google.colab import drive\n",
        "\n",
        "drive.mount('/content/drive')"
      ],
      "execution_count": 1,
      "outputs": [
        {
          "output_type": "stream",
          "text": [
            "Mounted at /content/drive\n"
          ],
          "name": "stdout"
        }
      ]
    },
    {
      "cell_type": "code",
      "metadata": {
        "colab": {
          "base_uri": "https://localhost:8080/"
        },
        "id": "Rtaw34-8AMZ7",
        "outputId": "c063c4ba-f5c3-4e73-cc4a-d6daeefcc4c8"
      },
      "source": [
        "!ls -l '/content/drive/My Drive/Colab Notebooks/datasets/dogs_and_cats_small.zip'"
      ],
      "execution_count": 2,
      "outputs": [
        {
          "output_type": "stream",
          "text": [
            "-rw------- 1 root root 90618980 Mar  9 02:39 '/content/drive/My Drive/Colab Notebooks/datasets/dogs_and_cats_small.zip'\n"
          ],
          "name": "stdout"
        }
      ]
    },
    {
      "cell_type": "code",
      "metadata": {
        "id": "7HjuiOakAPls"
      },
      "source": [
        "!unzip /content/drive/My\\ Drive/Colab\\ Notebooks/datasets/dogs_and_cats_small.zip"
      ],
      "execution_count": null,
      "outputs": []
    },
    {
      "cell_type": "code",
      "metadata": {
        "colab": {
          "base_uri": "https://localhost:8080/"
        },
        "id": "QL6JsWdOAQB7",
        "outputId": "e58aed42-c464-4d2a-c11b-a684d606d2e7"
      },
      "source": [
        "!ls -l"
      ],
      "execution_count": 4,
      "outputs": [
        {
          "output_type": "stream",
          "text": [
            "total 20\n",
            "drwx------ 5 root root 4096 Apr 11 03:37 drive\n",
            "drwxr-xr-x 1 root root 4096 Apr  7 13:36 sample_data\n",
            "drwxr-xr-x 4 root root 4096 Apr 11 03:37 test\n",
            "drwxr-xr-x 4 root root 4096 Apr 11 03:37 train\n",
            "drwxr-xr-x 4 root root 4096 Apr 11 03:37 validation\n"
          ],
          "name": "stdout"
        }
      ]
    },
    {
      "cell_type": "code",
      "metadata": {
        "id": "KjGvxLQDAWNj"
      },
      "source": [
        "train_dir = 'train'\n",
        "valid_dir = 'validation'\n",
        "test_dir = 'test'"
      ],
      "execution_count": 5,
      "outputs": []
    },
    {
      "cell_type": "code",
      "metadata": {
        "colab": {
          "base_uri": "https://localhost:8080/"
        },
        "id": "EAaEvBkiAfPR",
        "outputId": "a58a8860-7ac5-4f0f-9034-fc16eb52bbba"
      },
      "source": [
        "from keras.applications import VGG16\n",
        "\n",
        "conv_base = VGG16(weights='imagenet', include_top = False, input_shape=(300,300,3))\n",
        "conv_base.summary()"
      ],
      "execution_count": 7,
      "outputs": [
        {
          "output_type": "stream",
          "text": [
            "Model: \"vgg16\"\n",
            "_________________________________________________________________\n",
            "Layer (type)                 Output Shape              Param #   \n",
            "=================================================================\n",
            "input_2 (InputLayer)         [(None, 300, 300, 3)]     0         \n",
            "_________________________________________________________________\n",
            "block1_conv1 (Conv2D)        (None, 300, 300, 64)      1792      \n",
            "_________________________________________________________________\n",
            "block1_conv2 (Conv2D)        (None, 300, 300, 64)      36928     \n",
            "_________________________________________________________________\n",
            "block1_pool (MaxPooling2D)   (None, 150, 150, 64)      0         \n",
            "_________________________________________________________________\n",
            "block2_conv1 (Conv2D)        (None, 150, 150, 128)     73856     \n",
            "_________________________________________________________________\n",
            "block2_conv2 (Conv2D)        (None, 150, 150, 128)     147584    \n",
            "_________________________________________________________________\n",
            "block2_pool (MaxPooling2D)   (None, 75, 75, 128)       0         \n",
            "_________________________________________________________________\n",
            "block3_conv1 (Conv2D)        (None, 75, 75, 256)       295168    \n",
            "_________________________________________________________________\n",
            "block3_conv2 (Conv2D)        (None, 75, 75, 256)       590080    \n",
            "_________________________________________________________________\n",
            "block3_conv3 (Conv2D)        (None, 75, 75, 256)       590080    \n",
            "_________________________________________________________________\n",
            "block3_pool (MaxPooling2D)   (None, 37, 37, 256)       0         \n",
            "_________________________________________________________________\n",
            "block4_conv1 (Conv2D)        (None, 37, 37, 512)       1180160   \n",
            "_________________________________________________________________\n",
            "block4_conv2 (Conv2D)        (None, 37, 37, 512)       2359808   \n",
            "_________________________________________________________________\n",
            "block4_conv3 (Conv2D)        (None, 37, 37, 512)       2359808   \n",
            "_________________________________________________________________\n",
            "block4_pool (MaxPooling2D)   (None, 18, 18, 512)       0         \n",
            "_________________________________________________________________\n",
            "block5_conv1 (Conv2D)        (None, 18, 18, 512)       2359808   \n",
            "_________________________________________________________________\n",
            "block5_conv2 (Conv2D)        (None, 18, 18, 512)       2359808   \n",
            "_________________________________________________________________\n",
            "block5_conv3 (Conv2D)        (None, 18, 18, 512)       2359808   \n",
            "_________________________________________________________________\n",
            "block5_pool (MaxPooling2D)   (None, 9, 9, 512)         0         \n",
            "=================================================================\n",
            "Total params: 14,714,688\n",
            "Trainable params: 14,714,688\n",
            "Non-trainable params: 0\n",
            "_________________________________________________________________\n"
          ],
          "name": "stdout"
        }
      ]
    },
    {
      "cell_type": "markdown",
      "metadata": {
        "id": "iE4GdKNmJobx"
      },
      "source": [
        "# feature_Extraction_with_Funtion"
      ]
    },
    {
      "cell_type": "code",
      "metadata": {
        "id": "zeojltM4BI5s"
      },
      "source": [
        "from keras.preprocessing.image import ImageDataGenerator\n",
        "import numpy as np\n",
        "\n",
        "datagen =ImageDataGenerator(rescale = 1./255)\n",
        "\n",
        "batch_size=20\n",
        "\n",
        "def extract_features(directory, sample_count):\n",
        "  features = np.zeros(shape=(sample_count,9,9,512))\n",
        "  labels = np.zeros(shape = (sample_count))\n",
        "\n",
        "  generator = datagen.flow_from_directory(directory, target_size=(300,300), batch_size=batch_size, class_mode='binary')\n",
        "\n",
        "  i = 0\n",
        "  for inputs_batch, labels_batch in generator:\n",
        "    features_batch = conv_base.predict(inputs_batch)\n",
        "    features[i*batch_size : (i+1)*batch_size] = features_batch\n",
        "    labels[i*batch_size : (i+1)*batch_size]=labels_batch\n",
        "\n",
        "    i += 1\n",
        "    if i * batch_size >= sample_count:\n",
        "      break\n",
        "\n",
        "  return features, labels"
      ],
      "execution_count": 12,
      "outputs": []
    },
    {
      "cell_type": "code",
      "metadata": {
        "colab": {
          "base_uri": "https://localhost:8080/"
        },
        "id": "WW9WPSfdGm3Y",
        "outputId": "aeb8df22-2bd8-428a-9b0f-ff72442f266f"
      },
      "source": [
        "%%time\n",
        "\n",
        "train_features, train_labels = extract_features(train_dir, 2000)\n",
        "valid_features, valid_labels = extract_features(valid_dir, 1000)\n",
        "test_features, test_labels = extract_features(test_dir, 1000)"
      ],
      "execution_count": 13,
      "outputs": [
        {
          "output_type": "stream",
          "text": [
            "Found 2000 images belonging to 2 classes.\n",
            "Found 1000 images belonging to 2 classes.\n",
            "Found 1000 images belonging to 2 classes.\n",
            "CPU times: user 43.1 s, sys: 19.8 s, total: 1min 2s\n",
            "Wall time: 1min 1s\n"
          ],
          "name": "stdout"
        }
      ]
    },
    {
      "cell_type": "code",
      "metadata": {
        "colab": {
          "base_uri": "https://localhost:8080/"
        },
        "id": "ie_ApIDZG3e4",
        "outputId": "32fedef1-4bd6-4b0f-b129-00d64ff73173"
      },
      "source": [
        "train_features.shape, valid_features.shape, test_features.shape"
      ],
      "execution_count": 14,
      "outputs": [
        {
          "output_type": "execute_result",
          "data": {
            "text/plain": [
              "((2000, 9, 9, 512), (1000, 9, 9, 512), (1000, 9, 9, 512))"
            ]
          },
          "metadata": {
            "tags": []
          },
          "execution_count": 14
        }
      ]
    },
    {
      "cell_type": "code",
      "metadata": {
        "colab": {
          "base_uri": "https://localhost:8080/"
        },
        "id": "w0d0n_syHGmC",
        "outputId": "8dd8d743-ec1b-4af9-a570-81e3a5390ed7"
      },
      "source": [
        "train_features = np.reshape(train_features, (2000, 9*9*512))\n",
        "valid_features = valid_features.reshape(1000, 9*9*512)\n",
        "test_features = test_features.reshape(1000, 9*9*512)\n",
        "\n",
        "train_features.shape, valid_features.shape, test_features.shape"
      ],
      "execution_count": 16,
      "outputs": [
        {
          "output_type": "execute_result",
          "data": {
            "text/plain": [
              "((2000, 41472), (1000, 41472), (1000, 41472))"
            ]
          },
          "metadata": {
            "tags": []
          },
          "execution_count": 16
        }
      ]
    },
    {
      "cell_type": "code",
      "metadata": {
        "colab": {
          "base_uri": "https://localhost:8080/"
        },
        "id": "J2MjTvAXHhZi",
        "outputId": "8d5690a6-9fdc-49a6-a2c6-fbe5ae93a2db"
      },
      "source": [
        "from keras import models, layers\n",
        "\n",
        "model = models.Sequential()\n",
        "model.add(layers.Dense(256, activation='relu', input_dim=9*9*512))\n",
        "model.add(layers.Dropout(0.5))\n",
        "model.add(layers.Dense(1, activation='sigmoid'))\n",
        "\n",
        "model.summary()\n",
        "\n",
        "model.compile(loss='binary_crossentropy', optimizer='adam', metrics=['accuracy'])"
      ],
      "execution_count": 19,
      "outputs": [
        {
          "output_type": "stream",
          "text": [
            "Model: \"sequential_2\"\n",
            "_________________________________________________________________\n",
            "Layer (type)                 Output Shape              Param #   \n",
            "=================================================================\n",
            "dense_3 (Dense)              (None, 256)               10617088  \n",
            "_________________________________________________________________\n",
            "dropout_2 (Dropout)          (None, 256)               0         \n",
            "_________________________________________________________________\n",
            "dense_4 (Dense)              (None, 1)                 257       \n",
            "=================================================================\n",
            "Total params: 10,617,345\n",
            "Trainable params: 10,617,345\n",
            "Non-trainable params: 0\n",
            "_________________________________________________________________\n"
          ],
          "name": "stdout"
        }
      ]
    },
    {
      "cell_type": "code",
      "metadata": {
        "colab": {
          "base_uri": "https://localhost:8080/"
        },
        "id": "kFs5XiauIQgg",
        "outputId": "5d72c00c-f226-4964-d43d-2ad7c4964d30"
      },
      "source": [
        "%%time\n",
        "Hist = model.fit(train_features, train_labels, epochs=100, batch_size=20, validation_data=(valid_features, valid_labels))"
      ],
      "execution_count": 20,
      "outputs": [
        {
          "output_type": "stream",
          "text": [
            "Epoch 1/100\n",
            "100/100 [==============================] - 1s 9ms/step - loss: 1.3658 - accuracy: 0.6934 - val_loss: 0.3118 - val_accuracy: 0.8610\n",
            "Epoch 2/100\n",
            "100/100 [==============================] - 1s 6ms/step - loss: 0.2739 - accuracy: 0.8963 - val_loss: 0.2276 - val_accuracy: 0.9080\n",
            "Epoch 3/100\n",
            "100/100 [==============================] - 1s 6ms/step - loss: 0.2196 - accuracy: 0.9085 - val_loss: 0.2310 - val_accuracy: 0.9100\n",
            "Epoch 4/100\n",
            "100/100 [==============================] - 1s 6ms/step - loss: 0.1356 - accuracy: 0.9453 - val_loss: 0.2094 - val_accuracy: 0.9140\n",
            "Epoch 5/100\n",
            "100/100 [==============================] - 1s 6ms/step - loss: 0.1117 - accuracy: 0.9620 - val_loss: 0.2999 - val_accuracy: 0.8960\n",
            "Epoch 6/100\n",
            "100/100 [==============================] - 1s 6ms/step - loss: 0.0986 - accuracy: 0.9631 - val_loss: 0.1896 - val_accuracy: 0.9220\n",
            "Epoch 7/100\n",
            "100/100 [==============================] - 1s 6ms/step - loss: 0.1125 - accuracy: 0.9516 - val_loss: 0.2034 - val_accuracy: 0.9200\n",
            "Epoch 8/100\n",
            "100/100 [==============================] - 1s 6ms/step - loss: 0.0965 - accuracy: 0.9636 - val_loss: 0.2128 - val_accuracy: 0.9150\n",
            "Epoch 9/100\n",
            "100/100 [==============================] - 1s 7ms/step - loss: 0.0707 - accuracy: 0.9726 - val_loss: 0.1926 - val_accuracy: 0.9160\n",
            "Epoch 10/100\n",
            "100/100 [==============================] - 1s 6ms/step - loss: 0.0776 - accuracy: 0.9702 - val_loss: 0.1912 - val_accuracy: 0.9280\n",
            "Epoch 11/100\n",
            "100/100 [==============================] - 1s 6ms/step - loss: 0.0490 - accuracy: 0.9809 - val_loss: 0.2139 - val_accuracy: 0.9260\n",
            "Epoch 12/100\n",
            "100/100 [==============================] - 1s 6ms/step - loss: 0.0496 - accuracy: 0.9877 - val_loss: 0.2195 - val_accuracy: 0.9270\n",
            "Epoch 13/100\n",
            "100/100 [==============================] - 1s 6ms/step - loss: 0.0392 - accuracy: 0.9869 - val_loss: 0.2520 - val_accuracy: 0.9230\n",
            "Epoch 14/100\n",
            "100/100 [==============================] - 1s 6ms/step - loss: 0.0472 - accuracy: 0.9786 - val_loss: 0.2969 - val_accuracy: 0.9100\n",
            "Epoch 15/100\n",
            "100/100 [==============================] - 1s 6ms/step - loss: 0.0599 - accuracy: 0.9756 - val_loss: 0.2518 - val_accuracy: 0.9190\n",
            "Epoch 16/100\n",
            "100/100 [==============================] - 1s 6ms/step - loss: 0.0398 - accuracy: 0.9823 - val_loss: 0.2877 - val_accuracy: 0.9220\n",
            "Epoch 17/100\n",
            "100/100 [==============================] - 1s 6ms/step - loss: 0.0279 - accuracy: 0.9895 - val_loss: 0.2853 - val_accuracy: 0.9250\n",
            "Epoch 18/100\n",
            "100/100 [==============================] - 1s 6ms/step - loss: 0.0317 - accuracy: 0.9880 - val_loss: 0.2520 - val_accuracy: 0.9260\n",
            "Epoch 19/100\n",
            "100/100 [==============================] - 1s 7ms/step - loss: 0.0274 - accuracy: 0.9875 - val_loss: 0.3140 - val_accuracy: 0.9240\n",
            "Epoch 20/100\n",
            "100/100 [==============================] - 1s 6ms/step - loss: 0.0409 - accuracy: 0.9826 - val_loss: 0.3242 - val_accuracy: 0.9180\n",
            "Epoch 21/100\n",
            "100/100 [==============================] - 1s 6ms/step - loss: 0.0514 - accuracy: 0.9772 - val_loss: 0.3280 - val_accuracy: 0.9170\n",
            "Epoch 22/100\n",
            "100/100 [==============================] - 1s 6ms/step - loss: 0.0651 - accuracy: 0.9721 - val_loss: 0.2820 - val_accuracy: 0.9160\n",
            "Epoch 23/100\n",
            "100/100 [==============================] - 1s 6ms/step - loss: 0.0987 - accuracy: 0.9477 - val_loss: 0.2584 - val_accuracy: 0.9260\n",
            "Epoch 24/100\n",
            "100/100 [==============================] - 1s 6ms/step - loss: 0.0633 - accuracy: 0.9698 - val_loss: 0.3736 - val_accuracy: 0.9170\n",
            "Epoch 25/100\n",
            "100/100 [==============================] - 1s 6ms/step - loss: 0.0502 - accuracy: 0.9786 - val_loss: 0.2385 - val_accuracy: 0.9260\n",
            "Epoch 26/100\n",
            "100/100 [==============================] - 1s 6ms/step - loss: 0.0586 - accuracy: 0.9733 - val_loss: 0.2817 - val_accuracy: 0.9200\n",
            "Epoch 27/100\n",
            "100/100 [==============================] - 1s 6ms/step - loss: 0.0685 - accuracy: 0.9674 - val_loss: 0.3285 - val_accuracy: 0.9030\n",
            "Epoch 28/100\n",
            "100/100 [==============================] - 1s 6ms/step - loss: 0.0620 - accuracy: 0.9706 - val_loss: 0.3720 - val_accuracy: 0.9180\n",
            "Epoch 29/100\n",
            "100/100 [==============================] - 1s 6ms/step - loss: 0.0604 - accuracy: 0.9688 - val_loss: 0.3309 - val_accuracy: 0.9270\n",
            "Epoch 30/100\n",
            "100/100 [==============================] - 1s 6ms/step - loss: 0.0324 - accuracy: 0.9883 - val_loss: 0.4584 - val_accuracy: 0.9100\n",
            "Epoch 31/100\n",
            "100/100 [==============================] - 1s 6ms/step - loss: 0.0304 - accuracy: 0.9865 - val_loss: 0.3088 - val_accuracy: 0.9210\n",
            "Epoch 32/100\n",
            "100/100 [==============================] - 1s 6ms/step - loss: 0.0380 - accuracy: 0.9859 - val_loss: 0.3594 - val_accuracy: 0.9190\n",
            "Epoch 33/100\n",
            "100/100 [==============================] - 1s 6ms/step - loss: 0.0472 - accuracy: 0.9738 - val_loss: 0.3248 - val_accuracy: 0.9220\n",
            "Epoch 34/100\n",
            "100/100 [==============================] - 1s 7ms/step - loss: 0.0330 - accuracy: 0.9826 - val_loss: 0.3119 - val_accuracy: 0.9240\n",
            "Epoch 35/100\n",
            "100/100 [==============================] - 1s 6ms/step - loss: 0.0354 - accuracy: 0.9776 - val_loss: 0.2776 - val_accuracy: 0.9250\n",
            "Epoch 36/100\n",
            "100/100 [==============================] - 1s 6ms/step - loss: 0.0531 - accuracy: 0.9784 - val_loss: 0.2565 - val_accuracy: 0.9230\n",
            "Epoch 37/100\n",
            "100/100 [==============================] - 1s 6ms/step - loss: 0.0364 - accuracy: 0.9838 - val_loss: 0.3495 - val_accuracy: 0.9130\n",
            "Epoch 38/100\n",
            "100/100 [==============================] - 1s 7ms/step - loss: 0.0536 - accuracy: 0.9728 - val_loss: 0.3006 - val_accuracy: 0.9200\n",
            "Epoch 39/100\n",
            "100/100 [==============================] - 1s 6ms/step - loss: 0.0585 - accuracy: 0.9749 - val_loss: 0.3119 - val_accuracy: 0.9270\n",
            "Epoch 40/100\n",
            "100/100 [==============================] - 1s 6ms/step - loss: 0.0410 - accuracy: 0.9831 - val_loss: 0.2886 - val_accuracy: 0.9150\n",
            "Epoch 41/100\n",
            "100/100 [==============================] - 1s 6ms/step - loss: 0.0384 - accuracy: 0.9837 - val_loss: 0.3926 - val_accuracy: 0.9260\n",
            "Epoch 42/100\n",
            "100/100 [==============================] - 1s 6ms/step - loss: 0.0389 - accuracy: 0.9795 - val_loss: 0.2996 - val_accuracy: 0.9250\n",
            "Epoch 43/100\n",
            "100/100 [==============================] - 1s 6ms/step - loss: 0.0375 - accuracy: 0.9812 - val_loss: 0.3082 - val_accuracy: 0.9260\n",
            "Epoch 44/100\n",
            "100/100 [==============================] - 1s 6ms/step - loss: 0.0561 - accuracy: 0.9665 - val_loss: 0.4937 - val_accuracy: 0.9080\n",
            "Epoch 45/100\n",
            "100/100 [==============================] - 1s 6ms/step - loss: 0.0416 - accuracy: 0.9846 - val_loss: 0.3409 - val_accuracy: 0.9260\n",
            "Epoch 46/100\n",
            "100/100 [==============================] - 1s 6ms/step - loss: 0.0198 - accuracy: 0.9932 - val_loss: 0.4238 - val_accuracy: 0.9110\n",
            "Epoch 47/100\n",
            "100/100 [==============================] - 1s 6ms/step - loss: 0.0524 - accuracy: 0.9670 - val_loss: 0.3530 - val_accuracy: 0.9280\n",
            "Epoch 48/100\n",
            "100/100 [==============================] - 1s 6ms/step - loss: 0.0458 - accuracy: 0.9792 - val_loss: 0.3826 - val_accuracy: 0.9270\n",
            "Epoch 49/100\n",
            "100/100 [==============================] - 1s 6ms/step - loss: 0.0367 - accuracy: 0.9850 - val_loss: 0.3489 - val_accuracy: 0.9260\n",
            "Epoch 50/100\n",
            "100/100 [==============================] - 1s 6ms/step - loss: 0.0468 - accuracy: 0.9854 - val_loss: 0.4554 - val_accuracy: 0.9210\n",
            "Epoch 51/100\n",
            "100/100 [==============================] - 1s 6ms/step - loss: 0.0202 - accuracy: 0.9921 - val_loss: 0.5321 - val_accuracy: 0.9160\n",
            "Epoch 52/100\n",
            "100/100 [==============================] - 1s 6ms/step - loss: 0.0139 - accuracy: 0.9961 - val_loss: 0.3481 - val_accuracy: 0.9170\n",
            "Epoch 53/100\n",
            "100/100 [==============================] - 1s 6ms/step - loss: 0.0258 - accuracy: 0.9834 - val_loss: 0.3682 - val_accuracy: 0.9130\n",
            "Epoch 54/100\n",
            "100/100 [==============================] - 1s 6ms/step - loss: 0.0343 - accuracy: 0.9857 - val_loss: 0.3962 - val_accuracy: 0.9210\n",
            "Epoch 55/100\n",
            "100/100 [==============================] - 1s 6ms/step - loss: 0.0294 - accuracy: 0.9872 - val_loss: 0.4862 - val_accuracy: 0.9230\n",
            "Epoch 56/100\n",
            "100/100 [==============================] - 1s 6ms/step - loss: 0.0139 - accuracy: 0.9952 - val_loss: 0.5225 - val_accuracy: 0.9080\n",
            "Epoch 57/100\n",
            "100/100 [==============================] - 1s 6ms/step - loss: 0.0304 - accuracy: 0.9834 - val_loss: 0.3451 - val_accuracy: 0.9180\n",
            "Epoch 58/100\n",
            "100/100 [==============================] - 1s 6ms/step - loss: 0.0366 - accuracy: 0.9890 - val_loss: 0.2849 - val_accuracy: 0.9270\n",
            "Epoch 59/100\n",
            "100/100 [==============================] - 1s 6ms/step - loss: 0.0456 - accuracy: 0.9791 - val_loss: 0.5305 - val_accuracy: 0.9270\n",
            "Epoch 60/100\n",
            "100/100 [==============================] - 1s 6ms/step - loss: 0.0342 - accuracy: 0.9882 - val_loss: 0.4397 - val_accuracy: 0.9230\n",
            "Epoch 61/100\n",
            "100/100 [==============================] - 1s 6ms/step - loss: 0.0416 - accuracy: 0.9812 - val_loss: 0.3618 - val_accuracy: 0.9190\n",
            "Epoch 62/100\n",
            "100/100 [==============================] - 1s 6ms/step - loss: 0.0553 - accuracy: 0.9615 - val_loss: 0.4687 - val_accuracy: 0.9210\n",
            "Epoch 63/100\n",
            "100/100 [==============================] - 1s 6ms/step - loss: 0.0277 - accuracy: 0.9877 - val_loss: 0.4772 - val_accuracy: 0.9220\n",
            "Epoch 64/100\n",
            "100/100 [==============================] - 1s 6ms/step - loss: 0.0153 - accuracy: 0.9916 - val_loss: 0.5617 - val_accuracy: 0.9230\n",
            "Epoch 65/100\n",
            "100/100 [==============================] - 1s 6ms/step - loss: 0.0282 - accuracy: 0.9806 - val_loss: 0.3530 - val_accuracy: 0.9190\n",
            "Epoch 66/100\n",
            "100/100 [==============================] - 1s 6ms/step - loss: 0.0261 - accuracy: 0.9890 - val_loss: 0.4029 - val_accuracy: 0.9210\n",
            "Epoch 67/100\n",
            "100/100 [==============================] - 1s 6ms/step - loss: 0.0428 - accuracy: 0.9841 - val_loss: 0.3437 - val_accuracy: 0.9220\n",
            "Epoch 68/100\n",
            "100/100 [==============================] - 1s 6ms/step - loss: 0.0304 - accuracy: 0.9830 - val_loss: 0.6577 - val_accuracy: 0.9200\n",
            "Epoch 69/100\n",
            "100/100 [==============================] - 1s 6ms/step - loss: 0.0306 - accuracy: 0.9868 - val_loss: 0.4722 - val_accuracy: 0.9210\n",
            "Epoch 70/100\n",
            "100/100 [==============================] - 1s 7ms/step - loss: 0.0179 - accuracy: 0.9914 - val_loss: 0.5125 - val_accuracy: 0.9210\n",
            "Epoch 71/100\n",
            "100/100 [==============================] - 1s 6ms/step - loss: 0.0808 - accuracy: 0.9663 - val_loss: 0.4086 - val_accuracy: 0.9270\n",
            "Epoch 72/100\n",
            "100/100 [==============================] - 1s 6ms/step - loss: 0.0294 - accuracy: 0.9901 - val_loss: 0.5143 - val_accuracy: 0.9140\n",
            "Epoch 73/100\n",
            "100/100 [==============================] - 1s 6ms/step - loss: 0.0355 - accuracy: 0.9874 - val_loss: 0.3575 - val_accuracy: 0.9220\n",
            "Epoch 74/100\n",
            "100/100 [==============================] - 1s 6ms/step - loss: 0.0272 - accuracy: 0.9894 - val_loss: 0.4816 - val_accuracy: 0.9260\n",
            "Epoch 75/100\n",
            "100/100 [==============================] - 1s 6ms/step - loss: 0.0291 - accuracy: 0.9912 - val_loss: 0.4459 - val_accuracy: 0.9250\n",
            "Epoch 76/100\n",
            "100/100 [==============================] - 1s 6ms/step - loss: 0.0202 - accuracy: 0.9839 - val_loss: 0.6577 - val_accuracy: 0.9160\n",
            "Epoch 77/100\n",
            "100/100 [==============================] - 1s 6ms/step - loss: 0.0273 - accuracy: 0.9873 - val_loss: 0.5267 - val_accuracy: 0.9220\n",
            "Epoch 78/100\n",
            "100/100 [==============================] - 1s 6ms/step - loss: 0.0291 - accuracy: 0.9901 - val_loss: 0.5083 - val_accuracy: 0.9230\n",
            "Epoch 79/100\n",
            "100/100 [==============================] - 1s 6ms/step - loss: 0.0339 - accuracy: 0.9820 - val_loss: 0.4023 - val_accuracy: 0.9220\n",
            "Epoch 80/100\n",
            "100/100 [==============================] - 1s 6ms/step - loss: 0.0204 - accuracy: 0.9880 - val_loss: 0.4970 - val_accuracy: 0.9220\n",
            "Epoch 81/100\n",
            "100/100 [==============================] - 1s 6ms/step - loss: 0.0332 - accuracy: 0.9828 - val_loss: 0.5182 - val_accuracy: 0.9240\n",
            "Epoch 82/100\n",
            "100/100 [==============================] - 1s 6ms/step - loss: 0.0317 - accuracy: 0.9853 - val_loss: 0.4560 - val_accuracy: 0.9220\n",
            "Epoch 83/100\n",
            "100/100 [==============================] - 1s 6ms/step - loss: 0.0381 - accuracy: 0.9851 - val_loss: 0.3369 - val_accuracy: 0.9280\n",
            "Epoch 84/100\n",
            "100/100 [==============================] - 1s 6ms/step - loss: 0.0256 - accuracy: 0.9880 - val_loss: 0.5203 - val_accuracy: 0.9250\n",
            "Epoch 85/100\n",
            "100/100 [==============================] - 1s 7ms/step - loss: 0.0281 - accuracy: 0.9862 - val_loss: 0.4681 - val_accuracy: 0.9210\n",
            "Epoch 86/100\n",
            "100/100 [==============================] - 1s 7ms/step - loss: 0.0271 - accuracy: 0.9898 - val_loss: 0.9642 - val_accuracy: 0.8840\n",
            "Epoch 87/100\n",
            "100/100 [==============================] - 1s 6ms/step - loss: 0.0881 - accuracy: 0.9705 - val_loss: 0.7497 - val_accuracy: 0.9110\n",
            "Epoch 88/100\n",
            "100/100 [==============================] - 1s 6ms/step - loss: 0.0239 - accuracy: 0.9855 - val_loss: 0.4748 - val_accuracy: 0.9230\n",
            "Epoch 89/100\n",
            "100/100 [==============================] - 1s 6ms/step - loss: 0.0228 - accuracy: 0.9917 - val_loss: 0.4085 - val_accuracy: 0.9200\n",
            "Epoch 90/100\n",
            "100/100 [==============================] - 1s 6ms/step - loss: 0.0131 - accuracy: 0.9948 - val_loss: 0.6672 - val_accuracy: 0.9200\n",
            "Epoch 91/100\n",
            "100/100 [==============================] - 1s 6ms/step - loss: 0.0139 - accuracy: 0.9937 - val_loss: 0.7442 - val_accuracy: 0.9230\n",
            "Epoch 92/100\n",
            "100/100 [==============================] - 1s 6ms/step - loss: 0.0222 - accuracy: 0.9878 - val_loss: 0.4656 - val_accuracy: 0.9200\n",
            "Epoch 93/100\n",
            "100/100 [==============================] - 1s 6ms/step - loss: 0.0206 - accuracy: 0.9910 - val_loss: 0.4364 - val_accuracy: 0.9290\n",
            "Epoch 94/100\n",
            "100/100 [==============================] - 1s 6ms/step - loss: 0.0373 - accuracy: 0.9824 - val_loss: 0.5871 - val_accuracy: 0.9160\n",
            "Epoch 95/100\n",
            "100/100 [==============================] - 1s 6ms/step - loss: 0.0280 - accuracy: 0.9865 - val_loss: 0.4871 - val_accuracy: 0.9190\n",
            "Epoch 96/100\n",
            "100/100 [==============================] - 1s 6ms/step - loss: 0.0372 - accuracy: 0.9787 - val_loss: 0.5944 - val_accuracy: 0.9220\n",
            "Epoch 97/100\n",
            "100/100 [==============================] - 1s 7ms/step - loss: 0.0253 - accuracy: 0.9864 - val_loss: 0.6632 - val_accuracy: 0.9190\n",
            "Epoch 98/100\n",
            "100/100 [==============================] - 1s 6ms/step - loss: 0.0316 - accuracy: 0.9793 - val_loss: 0.6244 - val_accuracy: 0.9230\n",
            "Epoch 99/100\n",
            "100/100 [==============================] - 1s 6ms/step - loss: 0.0131 - accuracy: 0.9889 - val_loss: 0.6479 - val_accuracy: 0.9240\n",
            "Epoch 100/100\n",
            "100/100 [==============================] - 1s 6ms/step - loss: 0.0268 - accuracy: 0.9820 - val_loss: 0.5184 - val_accuracy: 0.9220\n",
            "CPU times: user 1min 7s, sys: 11.4 s, total: 1min 18s\n",
            "Wall time: 1min 5s\n"
          ],
          "name": "stdout"
        }
      ]
    },
    {
      "cell_type": "code",
      "metadata": {
        "colab": {
          "base_uri": "https://localhost:8080/",
          "height": 515
        },
        "id": "BAMjufEGJBr_",
        "outputId": "7f5d0055-9558-42e2-8547-41d9effdc270"
      },
      "source": [
        "import matplotlib.pyplot as plt\n",
        "\n",
        "epochs = range(1, len(Hist.history['loss'])+1)\n",
        "\n",
        "plt.plot(epochs, Hist.history['loss'])\n",
        "plt.plot(epochs, Hist.history['val_loss'])\n",
        "plt.legend(['loss','val_loss'])\n",
        "plt.show()\n",
        "\n",
        "plt.plot(epochs, Hist.history['accuracy'])\n",
        "plt.plot(epochs, Hist.history['val_accuracy'])\n",
        "plt.legend(['accuracy','val_accuracy'])\n",
        "plt.show()"
      ],
      "execution_count": 21,
      "outputs": [
        {
          "output_type": "display_data",
          "data": {
            "image/png": "[encoded data removed]",
            "text/plain": [
              "<Figure size 432x288 with 1 Axes>"
            ]
          },
          "metadata": {
            "tags": [],
            "needs_background": "light"
          }
        },
        {
          "output_type": "display_data",
          "data": {
            "image/png": "[encoded data removed]",
            "text/plain": [
              "<Figure size 432x288 with 1 Axes>"
            ]
          },
          "metadata": {
            "tags": [],
            "needs_background": "light"
          }
        }
      ]
    },
    {
      "cell_type": "code",
      "metadata": {
        "colab": {
          "base_uri": "https://localhost:8080/"
        },
        "id": "zQDtEyDvJaBK",
        "outputId": "ca1fed05-0890-4568-c7a4-b111d2cab0ed"
      },
      "source": [
        "loss, accuracy = model.evaluate(test_features, test_labels)\n",
        "loss, accuracy"
      ],
      "execution_count": 22,
      "outputs": [
        {
          "output_type": "stream",
          "text": [
            "32/32 [==============================] - 0s 4ms/step - loss: 0.5270 - accuracy: 0.9140\n"
          ],
          "name": "stdout"
        },
        {
          "output_type": "execute_result",
          "data": {
            "text/plain": [
              "(0.5269824266433716, 0.9139999747276306)"
            ]
          },
          "metadata": {
            "tags": []
          },
          "execution_count": 22
        }
      ]
    },
    {
      "cell_type": "markdown",
      "metadata": {
        "id": "fnFy0vNEJxK4"
      },
      "source": [
        "# just concat"
      ]
    },
    {
      "cell_type": "code",
      "metadata": {
        "colab": {
          "base_uri": "https://localhost:8080/"
        },
        "id": "u7nPWd18KQyZ",
        "outputId": "aa655857-46fd-4326-cb94-694025075fb5"
      },
      "source": [
        "from keras import models, layers\n",
        "\n",
        "model = models.Sequential()\n",
        "model.add(conv_base)\n",
        "\n",
        "model.add(layers.Flatten())\n",
        "model.add(layers.Dense(256,activation='relu'))\n",
        "model.add(layers.Dropout(0.5))\n",
        "model.add(layers.Dense(1, activation='sigmoid'))\n",
        "\n",
        "model.summary()"
      ],
      "execution_count": 25,
      "outputs": [
        {
          "output_type": "stream",
          "text": [
            "Model: \"sequential_3\"\n",
            "_________________________________________________________________\n",
            "Layer (type)                 Output Shape              Param #   \n",
            "=================================================================\n",
            "vgg16 (Functional)           (None, 9, 9, 512)         14714688  \n",
            "_________________________________________________________________\n",
            "flatten (Flatten)            (None, 41472)             0         \n",
            "_________________________________________________________________\n",
            "dense_5 (Dense)              (None, 256)               10617088  \n",
            "_________________________________________________________________\n",
            "dropout_3 (Dropout)          (None, 256)               0         \n",
            "_________________________________________________________________\n",
            "dense_6 (Dense)              (None, 1)                 257       \n",
            "=================================================================\n",
            "Total params: 25,332,033\n",
            "Trainable params: 10,617,345\n",
            "Non-trainable params: 14,714,688\n",
            "_________________________________________________________________\n"
          ],
          "name": "stdout"
        }
      ]
    },
    {
      "cell_type": "code",
      "metadata": {
        "colab": {
          "base_uri": "https://localhost:8080/"
        },
        "id": "TMkujX0LJhzR",
        "outputId": "0ec5ebc8-3b4d-4f07-a34d-c0a533c0eaec"
      },
      "source": [
        "conv_base.trainable = False\n",
        "\n",
        "print(len(model.trainable_weights))"
      ],
      "execution_count": 26,
      "outputs": [
        {
          "output_type": "stream",
          "text": [
            "4\n"
          ],
          "name": "stdout"
        }
      ]
    },
    {
      "cell_type": "code",
      "metadata": {
        "colab": {
          "base_uri": "https://localhost:8080/"
        },
        "id": "sIhsvbWAMSbQ",
        "outputId": "5bed5e26-7727-4996-836c-95ace1d1838d"
      },
      "source": [
        "from keras.preprocessing.image import ImageDataGenerator\n",
        "\n",
        "train_datagen = ImageDataGenerator(rescale=1./255)\n",
        "valid_datagen = ImageDataGenerator(rescale=1./255)\n",
        "test_datagen = ImageDataGenerator(rescale=1./255)\n",
        "\n",
        "train_generator = train_datagen.flow_from_directory(train_dir, target_size=(300,300), batch_size=20, class_mode='binary')\n",
        "valid_generator = valid_datagen.flow_from_directory(valid_dir, target_size=(300,300), batch_size=20, class_mode='binary')\n",
        "test_generator = test_datagen.flow_from_directory(test_dir, target_size=(300,300), batch_size=20, class_mode='binary')"
      ],
      "execution_count": 28,
      "outputs": [
        {
          "output_type": "stream",
          "text": [
            "Found 2000 images belonging to 2 classes.\n",
            "Found 1000 images belonging to 2 classes.\n",
            "Found 1000 images belonging to 2 classes.\n"
          ],
          "name": "stdout"
        }
      ]
    },
    {
      "cell_type": "code",
      "metadata": {
        "colab": {
          "base_uri": "https://localhost:8080/"
        },
        "id": "EapLt-7BLzXp",
        "outputId": "f380e85a-eaf0-4eef-8f92-7c32187ce098"
      },
      "source": [
        "%%time\n",
        "model.compile(loss='binary_crossentropy', optimizer='adam', metrics=['accuracy'])\n",
        "\n",
        "Hist = model.fit(train_generator, steps_per_epoch=100, epochs=100, validation_data=valid_generator, validation_steps=50)"
      ],
      "execution_count": 29,
      "outputs": [
        {
          "output_type": "stream",
          "text": [
            "Epoch 1/100\n",
            "100/100 [==============================] - 35s 349ms/step - loss: 1.5502 - accuracy: 0.6776 - val_loss: 0.2626 - val_accuracy: 0.9040\n",
            "Epoch 2/100\n",
            "100/100 [==============================] - 33s 327ms/step - loss: 0.2818 - accuracy: 0.8812 - val_loss: 0.2498 - val_accuracy: 0.8930\n",
            "Epoch 3/100\n",
            "100/100 [==============================] - 33s 328ms/step - loss: 0.2050 - accuracy: 0.9139 - val_loss: 0.2087 - val_accuracy: 0.9130\n",
            "Epoch 4/100\n",
            "100/100 [==============================] - 33s 334ms/step - loss: 0.1644 - accuracy: 0.9319 - val_loss: 0.2567 - val_accuracy: 0.8860\n",
            "Epoch 5/100\n",
            "100/100 [==============================] - 33s 329ms/step - loss: 0.1607 - accuracy: 0.9355 - val_loss: 0.1913 - val_accuracy: 0.9190\n",
            "Epoch 6/100\n",
            "100/100 [==============================] - 33s 330ms/step - loss: 0.1342 - accuracy: 0.9487 - val_loss: 0.2510 - val_accuracy: 0.9060\n",
            "Epoch 7/100\n",
            "100/100 [==============================] - 33s 331ms/step - loss: 0.0945 - accuracy: 0.9629 - val_loss: 0.2232 - val_accuracy: 0.9250\n",
            "Epoch 8/100\n",
            "100/100 [==============================] - 33s 332ms/step - loss: 0.0615 - accuracy: 0.9823 - val_loss: 0.2220 - val_accuracy: 0.9200\n",
            "Epoch 9/100\n",
            "100/100 [==============================] - 33s 333ms/step - loss: 0.0869 - accuracy: 0.9660 - val_loss: 0.2284 - val_accuracy: 0.9180\n",
            "Epoch 10/100\n",
            "100/100 [==============================] - 33s 333ms/step - loss: 0.0549 - accuracy: 0.9776 - val_loss: 0.2359 - val_accuracy: 0.9220\n",
            "Epoch 11/100\n",
            "100/100 [==============================] - 33s 333ms/step - loss: 0.0476 - accuracy: 0.9811 - val_loss: 0.2300 - val_accuracy: 0.9160\n",
            "Epoch 12/100\n",
            "100/100 [==============================] - 33s 333ms/step - loss: 0.0536 - accuracy: 0.9806 - val_loss: 0.2300 - val_accuracy: 0.9270\n",
            "Epoch 13/100\n",
            "100/100 [==============================] - 33s 333ms/step - loss: 0.0372 - accuracy: 0.9858 - val_loss: 0.2160 - val_accuracy: 0.9190\n",
            "Epoch 14/100\n",
            "100/100 [==============================] - 33s 332ms/step - loss: 0.0563 - accuracy: 0.9773 - val_loss: 0.2556 - val_accuracy: 0.9190\n",
            "Epoch 15/100\n",
            "100/100 [==============================] - 33s 332ms/step - loss: 0.0474 - accuracy: 0.9826 - val_loss: 0.2489 - val_accuracy: 0.9200\n",
            "Epoch 16/100\n",
            "100/100 [==============================] - 33s 333ms/step - loss: 0.0443 - accuracy: 0.9819 - val_loss: 0.2483 - val_accuracy: 0.9180\n",
            "Epoch 17/100\n",
            "100/100 [==============================] - 33s 333ms/step - loss: 0.0561 - accuracy: 0.9746 - val_loss: 0.3034 - val_accuracy: 0.9180\n",
            "Epoch 18/100\n",
            "100/100 [==============================] - 33s 332ms/step - loss: 0.0412 - accuracy: 0.9835 - val_loss: 0.3525 - val_accuracy: 0.9110\n",
            "Epoch 19/100\n",
            "100/100 [==============================] - 33s 331ms/step - loss: 0.0450 - accuracy: 0.9814 - val_loss: 0.2566 - val_accuracy: 0.9230\n",
            "Epoch 20/100\n",
            "100/100 [==============================] - 33s 332ms/step - loss: 0.0464 - accuracy: 0.9774 - val_loss: 0.3310 - val_accuracy: 0.9050\n",
            "Epoch 21/100\n",
            "100/100 [==============================] - 33s 332ms/step - loss: 0.0675 - accuracy: 0.9772 - val_loss: 0.2676 - val_accuracy: 0.9200\n",
            "Epoch 22/100\n",
            "100/100 [==============================] - 33s 332ms/step - loss: 0.0620 - accuracy: 0.9742 - val_loss: 0.2587 - val_accuracy: 0.9210\n",
            "Epoch 23/100\n",
            "100/100 [==============================] - 33s 332ms/step - loss: 0.0814 - accuracy: 0.9714 - val_loss: 0.2346 - val_accuracy: 0.9240\n",
            "Epoch 24/100\n",
            "100/100 [==============================] - 33s 332ms/step - loss: 0.0520 - accuracy: 0.9823 - val_loss: 0.2662 - val_accuracy: 0.9240\n",
            "Epoch 25/100\n",
            "100/100 [==============================] - 33s 333ms/step - loss: 0.0596 - accuracy: 0.9794 - val_loss: 0.2843 - val_accuracy: 0.9260\n",
            "Epoch 26/100\n",
            "100/100 [==============================] - 33s 333ms/step - loss: 0.0610 - accuracy: 0.9730 - val_loss: 0.2406 - val_accuracy: 0.9190\n",
            "Epoch 27/100\n",
            "100/100 [==============================] - 33s 333ms/step - loss: 0.0670 - accuracy: 0.9762 - val_loss: 0.3115 - val_accuracy: 0.9220\n",
            "Epoch 28/100\n",
            "100/100 [==============================] - 33s 333ms/step - loss: 0.0500 - accuracy: 0.9823 - val_loss: 0.3318 - val_accuracy: 0.9220\n",
            "Epoch 29/100\n",
            "100/100 [==============================] - 33s 331ms/step - loss: 0.0537 - accuracy: 0.9793 - val_loss: 0.3172 - val_accuracy: 0.9160\n",
            "Epoch 30/100\n",
            "100/100 [==============================] - 33s 331ms/step - loss: 0.0391 - accuracy: 0.9862 - val_loss: 0.3525 - val_accuracy: 0.9170\n",
            "Epoch 31/100\n",
            "100/100 [==============================] - 33s 330ms/step - loss: 0.0423 - accuracy: 0.9807 - val_loss: 0.3237 - val_accuracy: 0.9220\n",
            "Epoch 32/100\n",
            "100/100 [==============================] - 33s 331ms/step - loss: 0.0564 - accuracy: 0.9775 - val_loss: 0.2959 - val_accuracy: 0.9130\n",
            "Epoch 33/100\n",
            "100/100 [==============================] - 33s 332ms/step - loss: 0.0500 - accuracy: 0.9741 - val_loss: 0.3105 - val_accuracy: 0.9210\n",
            "Epoch 34/100\n",
            "100/100 [==============================] - 33s 332ms/step - loss: 0.0617 - accuracy: 0.9716 - val_loss: 0.2942 - val_accuracy: 0.9160\n",
            "Epoch 35/100\n",
            "100/100 [==============================] - 33s 333ms/step - loss: 0.0902 - accuracy: 0.9621 - val_loss: 0.2387 - val_accuracy: 0.9200\n",
            "Epoch 36/100\n",
            "100/100 [==============================] - 33s 333ms/step - loss: 0.0926 - accuracy: 0.9767 - val_loss: 0.2949 - val_accuracy: 0.9220\n",
            "Epoch 37/100\n",
            "100/100 [==============================] - 33s 332ms/step - loss: 0.0863 - accuracy: 0.9703 - val_loss: 0.2958 - val_accuracy: 0.9120\n",
            "Epoch 38/100\n",
            "100/100 [==============================] - 33s 332ms/step - loss: 0.1108 - accuracy: 0.9488 - val_loss: 0.3548 - val_accuracy: 0.9100\n",
            "Epoch 39/100\n",
            "100/100 [==============================] - 33s 332ms/step - loss: 0.0744 - accuracy: 0.9626 - val_loss: 0.3545 - val_accuracy: 0.9200\n",
            "Epoch 40/100\n",
            "100/100 [==============================] - 33s 332ms/step - loss: 0.0453 - accuracy: 0.9765 - val_loss: 0.3015 - val_accuracy: 0.9250\n",
            "Epoch 41/100\n",
            "100/100 [==============================] - 33s 331ms/step - loss: 0.0778 - accuracy: 0.9609 - val_loss: 0.3012 - val_accuracy: 0.9220\n",
            "Epoch 42/100\n",
            "100/100 [==============================] - 33s 332ms/step - loss: 0.0402 - accuracy: 0.9818 - val_loss: 0.4454 - val_accuracy: 0.9090\n",
            "Epoch 43/100\n",
            "100/100 [==============================] - 33s 333ms/step - loss: 0.0344 - accuracy: 0.9797 - val_loss: 0.4491 - val_accuracy: 0.9180\n",
            "Epoch 44/100\n",
            "100/100 [==============================] - 33s 333ms/step - loss: 0.0547 - accuracy: 0.9798 - val_loss: 0.3471 - val_accuracy: 0.9210\n",
            "Epoch 45/100\n",
            "100/100 [==============================] - 33s 334ms/step - loss: 0.0389 - accuracy: 0.9846 - val_loss: 0.3613 - val_accuracy: 0.9200\n",
            "Epoch 46/100\n",
            "100/100 [==============================] - 33s 333ms/step - loss: 0.0436 - accuracy: 0.9855 - val_loss: 0.3013 - val_accuracy: 0.9290\n",
            "Epoch 47/100\n",
            "100/100 [==============================] - 33s 333ms/step - loss: 0.0323 - accuracy: 0.9870 - val_loss: 0.3889 - val_accuracy: 0.9230\n",
            "Epoch 48/100\n",
            "100/100 [==============================] - 33s 332ms/step - loss: 0.0221 - accuracy: 0.9915 - val_loss: 0.3248 - val_accuracy: 0.9300\n",
            "Epoch 49/100\n",
            "100/100 [==============================] - 33s 331ms/step - loss: 0.0319 - accuracy: 0.9839 - val_loss: 0.5059 - val_accuracy: 0.9240\n",
            "Epoch 50/100\n",
            "100/100 [==============================] - 33s 331ms/step - loss: 0.0446 - accuracy: 0.9832 - val_loss: 0.4132 - val_accuracy: 0.9120\n",
            "Epoch 51/100\n",
            "100/100 [==============================] - 33s 332ms/step - loss: 0.0485 - accuracy: 0.9827 - val_loss: 0.3620 - val_accuracy: 0.9320\n",
            "Epoch 52/100\n",
            "100/100 [==============================] - 33s 332ms/step - loss: 0.0362 - accuracy: 0.9844 - val_loss: 0.4279 - val_accuracy: 0.9260\n",
            "Epoch 53/100\n",
            "100/100 [==============================] - 33s 332ms/step - loss: 0.0303 - accuracy: 0.9890 - val_loss: 0.3498 - val_accuracy: 0.9210\n",
            "Epoch 54/100\n",
            "100/100 [==============================] - 33s 332ms/step - loss: 0.0523 - accuracy: 0.9752 - val_loss: 0.2413 - val_accuracy: 0.9260\n",
            "Epoch 55/100\n",
            "100/100 [==============================] - 33s 332ms/step - loss: 0.0411 - accuracy: 0.9845 - val_loss: 0.3509 - val_accuracy: 0.9210\n",
            "Epoch 56/100\n",
            "100/100 [==============================] - 33s 333ms/step - loss: 0.0411 - accuracy: 0.9770 - val_loss: 0.3600 - val_accuracy: 0.9290\n",
            "Epoch 57/100\n",
            "100/100 [==============================] - 33s 332ms/step - loss: 0.0459 - accuracy: 0.9832 - val_loss: 0.2289 - val_accuracy: 0.9210\n",
            "Epoch 58/100\n",
            "100/100 [==============================] - 33s 332ms/step - loss: 0.0397 - accuracy: 0.9837 - val_loss: 0.3550 - val_accuracy: 0.9320\n",
            "Epoch 59/100\n",
            "100/100 [==============================] - 33s 332ms/step - loss: 0.0288 - accuracy: 0.9874 - val_loss: 0.4627 - val_accuracy: 0.9170\n",
            "Epoch 60/100\n",
            "100/100 [==============================] - 33s 331ms/step - loss: 0.0255 - accuracy: 0.9896 - val_loss: 0.4214 - val_accuracy: 0.9320\n",
            "Epoch 61/100\n",
            "100/100 [==============================] - 33s 333ms/step - loss: 0.0329 - accuracy: 0.9866 - val_loss: 0.3637 - val_accuracy: 0.9300\n",
            "Epoch 62/100\n",
            "100/100 [==============================] - 33s 333ms/step - loss: 0.0351 - accuracy: 0.9859 - val_loss: 0.3563 - val_accuracy: 0.9320\n",
            "Epoch 63/100\n",
            "100/100 [==============================] - 33s 332ms/step - loss: 0.0236 - accuracy: 0.9907 - val_loss: 0.3119 - val_accuracy: 0.9290\n",
            "Epoch 64/100\n",
            "100/100 [==============================] - 33s 331ms/step - loss: 0.0296 - accuracy: 0.9843 - val_loss: 0.3828 - val_accuracy: 0.9330\n",
            "Epoch 65/100\n",
            "100/100 [==============================] - 33s 331ms/step - loss: 0.0326 - accuracy: 0.9844 - val_loss: 0.7131 - val_accuracy: 0.9000\n",
            "Epoch 66/100\n",
            "100/100 [==============================] - 33s 331ms/step - loss: 0.0778 - accuracy: 0.9658 - val_loss: 0.3238 - val_accuracy: 0.9280\n",
            "Epoch 67/100\n",
            "100/100 [==============================] - 33s 331ms/step - loss: 0.0382 - accuracy: 0.9883 - val_loss: 0.3672 - val_accuracy: 0.9250\n",
            "Epoch 68/100\n",
            "100/100 [==============================] - 33s 331ms/step - loss: 0.0524 - accuracy: 0.9743 - val_loss: 0.3823 - val_accuracy: 0.9240\n",
            "Epoch 69/100\n",
            "100/100 [==============================] - 33s 331ms/step - loss: 0.0367 - accuracy: 0.9874 - val_loss: 0.4122 - val_accuracy: 0.9220\n",
            "Epoch 70/100\n",
            "100/100 [==============================] - 33s 331ms/step - loss: 0.0289 - accuracy: 0.9878 - val_loss: 0.4373 - val_accuracy: 0.9300\n",
            "Epoch 71/100\n",
            "100/100 [==============================] - 33s 331ms/step - loss: 0.0208 - accuracy: 0.9910 - val_loss: 0.4600 - val_accuracy: 0.9250\n",
            "Epoch 72/100\n",
            "100/100 [==============================] - 33s 331ms/step - loss: 0.0478 - accuracy: 0.9746 - val_loss: 0.2879 - val_accuracy: 0.9280\n",
            "Epoch 73/100\n",
            "100/100 [==============================] - 33s 331ms/step - loss: 0.0367 - accuracy: 0.9799 - val_loss: 0.8296 - val_accuracy: 0.8840\n",
            "Epoch 74/100\n",
            "100/100 [==============================] - 33s 331ms/step - loss: 0.0695 - accuracy: 0.9612 - val_loss: 0.4884 - val_accuracy: 0.9170\n",
            "Epoch 75/100\n",
            "100/100 [==============================] - 33s 332ms/step - loss: 0.0486 - accuracy: 0.9774 - val_loss: 0.4081 - val_accuracy: 0.9320\n",
            "Epoch 76/100\n",
            "100/100 [==============================] - 33s 331ms/step - loss: 0.0287 - accuracy: 0.9846 - val_loss: 0.3806 - val_accuracy: 0.9290\n",
            "Epoch 77/100\n",
            "100/100 [==============================] - 33s 331ms/step - loss: 0.0244 - accuracy: 0.9888 - val_loss: 0.5511 - val_accuracy: 0.9250\n",
            "Epoch 78/100\n",
            "100/100 [==============================] - 33s 331ms/step - loss: 0.0226 - accuracy: 0.9864 - val_loss: 0.3157 - val_accuracy: 0.9250\n",
            "Epoch 79/100\n",
            "100/100 [==============================] - 33s 331ms/step - loss: 0.0332 - accuracy: 0.9889 - val_loss: 0.3562 - val_accuracy: 0.9280\n",
            "Epoch 80/100\n",
            "100/100 [==============================] - 33s 331ms/step - loss: 0.0291 - accuracy: 0.9873 - val_loss: 0.4853 - val_accuracy: 0.9240\n",
            "Epoch 81/100\n",
            "100/100 [==============================] - 33s 331ms/step - loss: 0.0132 - accuracy: 0.9963 - val_loss: 0.5185 - val_accuracy: 0.9250\n",
            "Epoch 82/100\n",
            "100/100 [==============================] - 33s 331ms/step - loss: 0.0284 - accuracy: 0.9916 - val_loss: 0.4510 - val_accuracy: 0.9200\n",
            "Epoch 83/100\n",
            "100/100 [==============================] - 33s 331ms/step - loss: 0.0240 - accuracy: 0.9933 - val_loss: 0.4918 - val_accuracy: 0.9200\n",
            "Epoch 84/100\n",
            "100/100 [==============================] - 33s 331ms/step - loss: 0.0299 - accuracy: 0.9882 - val_loss: 0.5349 - val_accuracy: 0.9230\n",
            "Epoch 85/100\n",
            "100/100 [==============================] - 33s 331ms/step - loss: 0.0217 - accuracy: 0.9922 - val_loss: 0.4536 - val_accuracy: 0.9210\n",
            "Epoch 86/100\n",
            "100/100 [==============================] - 33s 331ms/step - loss: 0.0368 - accuracy: 0.9874 - val_loss: 0.3745 - val_accuracy: 0.9220\n",
            "Epoch 87/100\n",
            "100/100 [==============================] - 33s 331ms/step - loss: 0.0351 - accuracy: 0.9875 - val_loss: 0.4885 - val_accuracy: 0.9150\n",
            "Epoch 88/100\n",
            "100/100 [==============================] - 33s 333ms/step - loss: 0.0380 - accuracy: 0.9844 - val_loss: 0.4449 - val_accuracy: 0.9210\n",
            "Epoch 89/100\n",
            "100/100 [==============================] - 33s 331ms/step - loss: 0.0189 - accuracy: 0.9948 - val_loss: 0.4030 - val_accuracy: 0.9250\n",
            "Epoch 90/100\n",
            "100/100 [==============================] - 33s 329ms/step - loss: 0.0306 - accuracy: 0.9892 - val_loss: 0.3877 - val_accuracy: 0.9240\n",
            "Epoch 91/100\n",
            "100/100 [==============================] - 33s 329ms/step - loss: 0.0387 - accuracy: 0.9886 - val_loss: 0.3926 - val_accuracy: 0.9270\n",
            "Epoch 92/100\n",
            "100/100 [==============================] - 33s 330ms/step - loss: 0.0322 - accuracy: 0.9885 - val_loss: 0.4560 - val_accuracy: 0.9280\n",
            "Epoch 93/100\n",
            "100/100 [==============================] - 33s 332ms/step - loss: 0.0236 - accuracy: 0.9954 - val_loss: 0.3909 - val_accuracy: 0.9170\n",
            "Epoch 94/100\n",
            "100/100 [==============================] - 33s 332ms/step - loss: 0.0673 - accuracy: 0.9694 - val_loss: 0.4771 - val_accuracy: 0.9190\n",
            "Epoch 95/100\n",
            "100/100 [==============================] - 33s 333ms/step - loss: 0.0293 - accuracy: 0.9891 - val_loss: 0.3693 - val_accuracy: 0.9250\n",
            "Epoch 96/100\n",
            "100/100 [==============================] - 33s 333ms/step - loss: 0.0314 - accuracy: 0.9844 - val_loss: 0.3691 - val_accuracy: 0.9280\n",
            "Epoch 97/100\n",
            "100/100 [==============================] - 33s 331ms/step - loss: 0.0417 - accuracy: 0.9882 - val_loss: 0.4781 - val_accuracy: 0.9200\n",
            "Epoch 98/100\n",
            "100/100 [==============================] - 33s 331ms/step - loss: 0.0351 - accuracy: 0.9857 - val_loss: 0.3900 - val_accuracy: 0.9290\n",
            "Epoch 99/100\n",
            "100/100 [==============================] - 33s 331ms/step - loss: 0.0272 - accuracy: 0.9918 - val_loss: 0.4950 - val_accuracy: 0.9280\n",
            "Epoch 100/100\n",
            "100/100 [==============================] - 33s 331ms/step - loss: 0.0189 - accuracy: 0.9940 - val_loss: 0.7882 - val_accuracy: 0.8930\n",
            "CPU times: user 29min 10s, sys: 2min 35s, total: 31min 46s\n",
            "Wall time: 55min 15s\n"
          ],
          "name": "stdout"
        }
      ]
    },
    {
      "cell_type": "code",
      "metadata": {
        "colab": {
          "base_uri": "https://localhost:8080/",
          "height": 513
        },
        "id": "NpYPKDjFNOnB",
        "outputId": "1d042afe-e1f7-4351-fb87-765783c50efe"
      },
      "source": [
        "import matplotlib.pyplot as plt\n",
        "\n",
        "epochs = range(1, len(Hist.history['loss'])+1)\n",
        "\n",
        "plt.plot(epochs, Hist.history['loss'])\n",
        "plt.plot(epochs, Hist.history['val_loss'])\n",
        "plt.legend(['loss','val_loss'])\n",
        "plt.show()\n",
        "\n",
        "plt.plot(epochs, Hist.history['accuracy'])\n",
        "plt.plot(epochs, Hist.history['val_accuracy'])\n",
        "plt.legend(['accuracy','val_accuracy'])\n",
        "plt.show()"
      ],
      "execution_count": 30,
      "outputs": [
        {
          "output_type": "display_data",
          "data": {
            "image/png": "[encoded data removed]",
            "text/plain": [
              "<Figure size 432x288 with 1 Axes>"
            ]
          },
          "metadata": {
            "tags": [],
            "needs_background": "light"
          }
        },
        {
          "output_type": "display_data",
          "data": {
            "image/png": "[encoded data removed]",
            "text/plain": [
              "<Figure size 432x288 with 1 Axes>"
            ]
          },
          "metadata": {
            "tags": [],
            "needs_background": "light"
          }
        }
      ]
    },
    {
      "cell_type": "code",
      "metadata": {
        "colab": {
          "base_uri": "https://localhost:8080/"
        },
        "id": "ziyoPa96NOnB",
        "outputId": "8cf0219f-746d-4e8c-9745-23c5601a0321"
      },
      "source": [
        "loss, accuracy = model.evaluate(test_generator, steps=50)\n",
        "loss, accuracy"
      ],
      "execution_count": 33,
      "outputs": [
        {
          "output_type": "stream",
          "text": [
            "50/50 [==============================] - 11s 223ms/step - loss: 0.8885 - accuracy: 0.8900\n"
          ],
          "name": "stdout"
        },
        {
          "output_type": "execute_result",
          "data": {
            "text/plain": [
              "(0.8884602189064026, 0.8899999856948853)"
            ]
          },
          "metadata": {
            "tags": []
          },
          "execution_count": 33
        }
      ]
    },
    {
      "cell_type": "code",
      "metadata": {
        "id": "VwfFaYZsNMDZ"
      },
      "source": [
        ""
      ],
      "execution_count": null,
      "outputs": []
    }
  ]
}