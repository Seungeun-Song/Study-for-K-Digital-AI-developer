{
  "nbformat": 4,
  "nbformat_minor": 0,
  "metadata": {
    "colab": {
      "name": "21_03_03_Binary Classification.ipynb",
      "provenance": []
    },
    "kernelspec": {
      "name": "python3",
      "display_name": "Python 3"
    }
  },
  "cells": [
    {
      "cell_type": "markdown",
      "metadata": {
        "id": "Lo7QgyYHnSJQ"
      },
      "source": [
        "# Binary Classification - 분류"
      ]
    },
    {
      "cell_type": "code",
      "metadata": {
        "colab": {
          "base_uri": "https://localhost:8080/"
        },
        "id": "X2a-51wYiFym",
        "outputId": "fd8711ab-4366-4222-804d-57a9902e963f"
      },
      "source": [
        "import pandas as pd\r\n",
        "\r\n",
        "# default = 채무불이행.\r\n",
        "DF=pd.read_csv('https://raw.githubusercontent.com/rusita-ai/pyData/master/Default.csv')\r\n",
        "DF.info()"
      ],
      "execution_count": 1,
      "outputs": [
        {
          "output_type": "stream",
          "text": [
            "<class 'pandas.core.frame.DataFrame'>\n",
            "RangeIndex: 10000 entries, 0 to 9999\n",
            "Data columns (total 4 columns):\n",
            " #   Column   Non-Null Count  Dtype  \n",
            "---  ------   --------------  -----  \n",
            " 0   default  10000 non-null  object \n",
            " 1   student  10000 non-null  object \n",
            " 2   balance  10000 non-null  float64\n",
            " 3   income   10000 non-null  float64\n",
            "dtypes: float64(2), object(2)\n",
            "memory usage: 312.6+ KB\n"
          ],
          "name": "stdout"
        }
      ]
    },
    {
      "cell_type": "code",
      "metadata": {
        "colab": {
          "base_uri": "https://localhost:8080/",
          "height": 199
        },
        "id": "7Gpj5rRLiNd4",
        "outputId": "606b86fb-edf7-4430-927d-10464b092b65"
      },
      "source": [
        "# default = 채무불이행. No :'채무불이행을 하지 않았다는 뜻.\r\n",
        "# Balance = 다음달에 값아야 할 카드 사용액\r\n",
        "DF.head()"
      ],
      "execution_count": 2,
      "outputs": [
        {
          "output_type": "execute_result",
          "data": {
            "text/html": [
              "<div>\n",
              "<style scoped>\n",
              "    .dataframe tbody tr th:only-of-type {\n",
              "        vertical-align: middle;\n",
              "    }\n",
              "\n",
              "    .dataframe tbody tr th {\n",
              "        vertical-align: top;\n",
              "    }\n",
              "\n",
              "    .dataframe thead th {\n",
              "        text-align: right;\n",
              "    }\n",
              "</style>\n",
              "<table border=\"1\" class=\"dataframe\">\n",
              "  <thead>\n",
              "    <tr style=\"text-align: right;\">\n",
              "      <th></th>\n",
              "      <th>default</th>\n",
              "      <th>student</th>\n",
              "      <th>balance</th>\n",
              "      <th>income</th>\n",
              "    </tr>\n",
              "  </thead>\n",
              "  <tbody>\n",
              "    <tr>\n",
              "      <th>0</th>\n",
              "      <td>No</td>\n",
              "      <td>No</td>\n",
              "      <td>729.526495</td>\n",
              "      <td>44361.62507</td>\n",
              "    </tr>\n",
              "    <tr>\n",
              "      <th>1</th>\n",
              "      <td>No</td>\n",
              "      <td>Yes</td>\n",
              "      <td>817.180407</td>\n",
              "      <td>12106.13470</td>\n",
              "    </tr>\n",
              "    <tr>\n",
              "      <th>2</th>\n",
              "      <td>No</td>\n",
              "      <td>No</td>\n",
              "      <td>1073.549164</td>\n",
              "      <td>31767.13895</td>\n",
              "    </tr>\n",
              "    <tr>\n",
              "      <th>3</th>\n",
              "      <td>No</td>\n",
              "      <td>No</td>\n",
              "      <td>529.250605</td>\n",
              "      <td>35704.49394</td>\n",
              "    </tr>\n",
              "    <tr>\n",
              "      <th>4</th>\n",
              "      <td>No</td>\n",
              "      <td>No</td>\n",
              "      <td>785.655883</td>\n",
              "      <td>38463.49588</td>\n",
              "    </tr>\n",
              "  </tbody>\n",
              "</table>\n",
              "</div>"
            ],
            "text/plain": [
              "  default student      balance       income\n",
              "0      No      No   729.526495  44361.62507\n",
              "1      No     Yes   817.180407  12106.13470\n",
              "2      No      No  1073.549164  31767.13895\n",
              "3      No      No   529.250605  35704.49394\n",
              "4      No      No   785.655883  38463.49588"
            ]
          },
          "metadata": {
            "tags": []
          },
          "execution_count": 2
        }
      ]
    },
    {
      "cell_type": "markdown",
      "metadata": {
        "id": "JkJWxqcynbD1"
      },
      "source": [
        "# 1, 탐색적 데이터 분석 - y(명목형) = default "
      ]
    },
    {
      "cell_type": "markdown",
      "metadata": {
        "id": "x9s78Mu3ndZd"
      },
      "source": [
        "## 1) 빈도분석"
      ]
    },
    {
      "cell_type": "code",
      "metadata": {
        "colab": {
          "base_uri": "https://localhost:8080/"
        },
        "id": "47WHR3KdiQ3Y",
        "outputId": "f04fe90e-82d1-425b-906d-27af2dc463c8"
      },
      "source": [
        "DF.default.value_counts()"
      ],
      "execution_count": 3,
      "outputs": [
        {
          "output_type": "execute_result",
          "data": {
            "text/plain": [
              "No     9667\n",
              "Yes     333\n",
              "Name: default, dtype: int64"
            ]
          },
          "metadata": {
            "tags": []
          },
          "execution_count": 3
        }
      ]
    },
    {
      "cell_type": "markdown",
      "metadata": {
        "id": "Uq4mPK8GngKs"
      },
      "source": [
        "## 2) 분포시각화"
      ]
    },
    {
      "cell_type": "code",
      "metadata": {
        "colab": {
          "base_uri": "https://localhost:8080/",
          "height": 430
        },
        "id": "T6-RxGUSiXxX",
        "outputId": "a0d028bb-2350-4134-d253-7b65f98f91d7"
      },
      "source": [
        "import matplotlib.pyplot as plt\r\n",
        "\r\n",
        "plt.figure(figsize=(9,6))\r\n",
        "plt.boxplot([DF[DF.default == 'No'].balance,\r\n",
        "             DF[DF.default == 'Yes'].balance],\r\n",
        "            labels = ['No', 'Yes'])\r\n",
        "plt.show()\r\n",
        "\r\n",
        "# 연체자의 신용카드 사용금액 비율(!)이 크다\r\n",
        "# boxplot은 비율!!\r\n",
        "# income 소득과는 크게 차이나지 않아"
      ],
      "execution_count": 5,
      "outputs": [
        {
          "output_type": "stream",
          "text": [
            "/usr/local/lib/python3.7/dist-packages/numpy/core/_asarray.py:83: VisibleDeprecationWarning: Creating an ndarray from ragged nested sequences (which is a list-or-tuple of lists-or-tuples-or ndarrays with different lengths or shapes) is deprecated. If you meant to do this, you must specify 'dtype=object' when creating the ndarray\n",
            "  return array(a, dtype, copy=False, order=order)\n"
          ],
          "name": "stderr"
        },
        {
          "output_type": "display_data",
          "data": {
            "image/png": "[encoded data removed]",
            "text/plain": [
              "<Figure size 648x432 with 1 Axes>"
            ]
          },
          "metadata": {
            "tags": [],
            "needs_background": "light"
          }
        }
      ]
    },
    {
      "cell_type": "markdown",
      "metadata": {
        "id": "X4Jlr_Q7npo0"
      },
      "source": [
        "# 2, Data Preprocessing"
      ]
    },
    {
      "cell_type": "markdown",
      "metadata": {
        "id": "0AUqYRhunsE0"
      },
      "source": [
        "## 1) Scale : Standardization"
      ]
    },
    {
      "cell_type": "code",
      "metadata": {
        "colab": {
          "base_uri": "https://localhost:8080/"
        },
        "id": "BPmJdpcnjD5A",
        "outputId": "04547144-41c6-4af2-f248-8ff567d2003d"
      },
      "source": [
        "X = DF[['balance']]\r\n",
        "y = DF['default']\r\n",
        "\r\n",
        "from sklearn.preprocessing import StandardScaler\r\n",
        "\r\n",
        "scaler = StandardScaler()\r\n",
        "X_Scaled = scaler.fit_transform(X)\r\n",
        "\r\n",
        "X_Scaled[:5]\r\n"
      ],
      "execution_count": 6,
      "outputs": [
        {
          "output_type": "execute_result",
          "data": {
            "text/plain": [
              "array([[-0.21883482],\n",
              "       [-0.03761593],\n",
              "       [ 0.49241019],\n",
              "       [-0.6328925 ],\n",
              "       [-0.10279088]])"
            ]
          },
          "metadata": {
            "tags": []
          },
          "execution_count": 6
        }
      ]
    },
    {
      "cell_type": "markdown",
      "metadata": {
        "id": "Jc298GBwn63s"
      },
      "source": [
        "## 2) Split - Train:Test = 7:3"
      ]
    },
    {
      "cell_type": "code",
      "metadata": {
        "colab": {
          "base_uri": "https://localhost:8080/"
        },
        "id": "j6Zk6WN0jYBW",
        "outputId": "9e662f2c-be7d-4c8a-d2f6-9c1087336ddc"
      },
      "source": [
        "from sklearn.model_selection import train_test_split\r\n",
        "\r\n",
        "X_train, X_test, y_train, y_test = train_test_split(X_Scaled, y,\r\n",
        "                                                    test_size=0.3,\r\n",
        "                                                    random_state=2045)\r\n",
        "print('Train Data :', X_train.shape, y_train.shape)\r\n",
        "print('Test Data :', X_test.shape, y_test.shape)\r\n",
        "\r\n"
      ],
      "execution_count": 7,
      "outputs": [
        {
          "output_type": "stream",
          "text": [
            "Train Data : (7000, 1) (7000,)\n",
            "Test Data : (3000, 1) (3000,)\n"
          ],
          "name": "stdout"
        }
      ]
    },
    {
      "cell_type": "markdown",
      "metadata": {
        "id": "hN2q5ibkoFB1"
      },
      "source": [
        "# 3, Modeling"
      ]
    },
    {
      "cell_type": "markdown",
      "metadata": {
        "id": "MYMAPODKoG0N"
      },
      "source": [
        "## 1) LogisticRegression으로 Train_Data로 모델 생성"
      ]
    },
    {
      "cell_type": "code",
      "metadata": {
        "colab": {
          "base_uri": "https://localhost:8080/"
        },
        "id": "_2pCKdRij5qd",
        "outputId": "95362fe6-b99b-469f-8a7e-73b14fd712e0"
      },
      "source": [
        "from sklearn.linear_model import LogisticRegression\r\n",
        "\r\n",
        "# x값에는 문자열이 안들어가는데 y의 값에는 문자열이 들어감\r\n",
        "# 0~ 1값을 0.5를 기준으로 yes or no로 만드는 모델\r\n",
        "\r\n",
        "Model_lr = LogisticRegression()\r\n",
        "Model_lr.fit(X_train, y_train)"
      ],
      "execution_count": 8,
      "outputs": [
        {
          "output_type": "execute_result",
          "data": {
            "text/plain": [
              "LogisticRegression(C=1.0, class_weight=None, dual=False, fit_intercept=True,\n",
              "                   intercept_scaling=1, l1_ratio=None, max_iter=100,\n",
              "                   multi_class='auto', n_jobs=None, penalty='l2',\n",
              "                   random_state=None, solver='lbfgs', tol=0.0001, verbose=0,\n",
              "                   warm_start=False)"
            ]
          },
          "metadata": {
            "tags": []
          },
          "execution_count": 8
        }
      ]
    },
    {
      "cell_type": "markdown",
      "metadata": {
        "id": "U9LV2cgcoLPE"
      },
      "source": [
        "## 2) Test_Data에 Model 적용"
      ]
    },
    {
      "cell_type": "code",
      "metadata": {
        "colab": {
          "base_uri": "https://localhost:8080/"
        },
        "id": "X_Wkwpd0kJuG",
        "outputId": "12291154-6810-43e8-e28f-3d19babb8bf1"
      },
      "source": [
        "y_hat = Model_lr.predict(X_test)\r\n",
        "y_hat"
      ],
      "execution_count": 9,
      "outputs": [
        {
          "output_type": "execute_result",
          "data": {
            "text/plain": [
              "array(['No', 'No', 'No', ..., 'No', 'No', 'No'], dtype=object)"
            ]
          },
          "metadata": {
            "tags": []
          },
          "execution_count": 9
        }
      ]
    },
    {
      "cell_type": "markdown",
      "metadata": {
        "id": "wkLMEVAQoQPM"
      },
      "source": [
        "# 4, Model Validation"
      ]
    },
    {
      "cell_type": "markdown",
      "metadata": {
        "id": "exe2JkI3oSME"
      },
      "source": [
        "## 1) Accuracy - Train vs. Test"
      ]
    },
    {
      "cell_type": "code",
      "metadata": {
        "colab": {
          "base_uri": "https://localhost:8080/"
        },
        "id": "wEEbVCV3kUY2",
        "outputId": "792620a5-002e-4335-f130-905d14351bbc"
      },
      "source": [
        "Model_lr.score(X_train, y_train)"
      ],
      "execution_count": 10,
      "outputs": [
        {
          "output_type": "execute_result",
          "data": {
            "text/plain": [
              "0.9724285714285714"
            ]
          },
          "metadata": {
            "tags": []
          },
          "execution_count": 10
        }
      ]
    },
    {
      "cell_type": "code",
      "metadata": {
        "colab": {
          "base_uri": "https://localhost:8080/"
        },
        "id": "TT9KD9yjkZm-",
        "outputId": "2038f8d7-0dc5-459e-ef84-05a7a023c334"
      },
      "source": [
        "Model_lr.score(X_test, y_test)"
      ],
      "execution_count": 11,
      "outputs": [
        {
          "output_type": "execute_result",
          "data": {
            "text/plain": [
              "0.9736666666666667"
            ]
          },
          "metadata": {
            "tags": []
          },
          "execution_count": 11
        }
      ]
    },
    {
      "cell_type": "markdown",
      "metadata": {
        "id": "77cQlssAoYrU"
      },
      "source": [
        "## 2) Confusion Matrix - 'No(상환)'기준 vs. 'Yes(연체)'기준"
      ]
    },
    {
      "cell_type": "code",
      "metadata": {
        "colab": {
          "base_uri": "https://localhost:8080/"
        },
        "id": "lrSQOm2zkeO2",
        "outputId": "fb13b46a-e54b-40a1-b784-6363672d14d0"
      },
      "source": [
        "# 'No(상환)'기준 - yes(연체)를 기준으로 계산해야하는데 왜 상환이 default값일까? - 알파벳 순서로 No : 0 | Yes : 1\r\n",
        "\r\n",
        "from sklearn.metrics import confusion_matrix\r\n",
        "confusion_matrix(y_test, y_hat)"
      ],
      "execution_count": 12,
      "outputs": [
        {
          "output_type": "execute_result",
          "data": {
            "text/plain": [
              "array([[2889,    7],\n",
              "       [  72,   32]])"
            ]
          },
          "metadata": {
            "tags": []
          },
          "execution_count": 12
        }
      ]
    },
    {
      "cell_type": "code",
      "metadata": {
        "colab": {
          "base_uri": "https://localhost:8080/"
        },
        "id": "SILuuZ77krQW",
        "outputId": "6a91b005-c829-42d1-92c5-342b065b562d"
      },
      "source": [
        "'Yes(연체)'기준\r\n",
        "\r\n",
        "from sklearn.metrics import confusion_matrix\r\n",
        "\r\n",
        "confusion_matrix(y_test, y_hat, labels=['Yes','No']) # label에 yes가 먼저라는 option"
      ],
      "execution_count": 15,
      "outputs": [
        {
          "output_type": "execute_result",
          "data": {
            "text/plain": [
              "array([[  32,   72],\n",
              "       [   7, 2889]])"
            ]
          },
          "metadata": {
            "tags": []
          },
          "execution_count": 15
        }
      ]
    },
    {
      "cell_type": "markdown",
      "metadata": {
        "id": "Bpw5SBLvl0p1"
      },
      "source": [
        "## 3) Accuracy, Precision, Recall - 'No(상환)'"
      ]
    },
    {
      "cell_type": "code",
      "metadata": {
        "colab": {
          "base_uri": "https://localhost:8080/"
        },
        "id": "BZhTt1bdlCBv",
        "outputId": "35b942b5-fc9c-424a-c4a2-582db4c1562a"
      },
      "source": [
        "from sklearn.metrics import accuracy_score, precision_score, recall_score\r\n",
        "\r\n",
        "print(accuracy_score(y_test, y_hat))\r\n",
        "print(precision_score(y_test, y_hat, pos_label ='No')) # positive label = No 기준\r\n",
        "print(recall_score(y_test, y_hat, pos_label='No'))"
      ],
      "execution_count": 16,
      "outputs": [
        {
          "output_type": "stream",
          "text": [
            "0.9736666666666667\n",
            "0.9756838905775076\n",
            "0.9975828729281768\n"
          ],
          "name": "stdout"
        }
      ]
    },
    {
      "cell_type": "markdown",
      "metadata": {
        "id": "CMX1mYfjl75E"
      },
      "source": [
        "## 3) Accuracy, Precision, Recall - 'Yes(연체)'"
      ]
    },
    {
      "cell_type": "code",
      "metadata": {
        "colab": {
          "base_uri": "https://localhost:8080/"
        },
        "id": "H3ALx0O4lzGE",
        "outputId": "2044c793-1488-4cc4-ee62-df3cdb54aa25"
      },
      "source": [
        "from sklearn.metrics import accuracy_score, precision_score, recall_score\r\n",
        "\r\n",
        "print(accuracy_score(y_test, y_hat)) # positive가 어느것이든 값은 같음\r\n",
        "print(precision_score(y_test, y_hat, pos_label = 'Yes')) # positive label = Yes 기준\r\n",
        "print(recall_score(y_test, y_hat, pos_label = 'Yes'))"
      ],
      "execution_count": 17,
      "outputs": [
        {
          "output_type": "stream",
          "text": [
            "0.9736666666666667\n",
            "0.8205128205128205\n",
            "0.3076923076923077\n"
          ],
          "name": "stdout"
        }
      ]
    },
    {
      "cell_type": "markdown",
      "metadata": {
        "id": "Ef6CY36UmWSG"
      },
      "source": [
        "## 5) F1_Score - 'No(상환)' : F1_score? precision과 recall과의 조화평균"
      ]
    },
    {
      "cell_type": "code",
      "metadata": {
        "colab": {
          "base_uri": "https://localhost:8080/"
        },
        "id": "VkIRZPwImQ37",
        "outputId": "7cfdd663-de5b-48cf-b9d7-c5e5d669aa90"
      },
      "source": [
        "from sklearn.metrics import f1_score\r\n",
        "# 잘못된 계산\r\n",
        "f1_score(y_test, y_hat, pos_label='No')"
      ],
      "execution_count": 18,
      "outputs": [
        {
          "output_type": "execute_result",
          "data": {
            "text/plain": [
              "0.9865118661430767"
            ]
          },
          "metadata": {
            "tags": []
          },
          "execution_count": 18
        }
      ]
    },
    {
      "cell_type": "markdown",
      "metadata": {
        "id": "rQoA0vvwmhll"
      },
      "source": [
        "## 6) F1_Score - 'Yes(연체)'"
      ]
    },
    {
      "cell_type": "code",
      "metadata": {
        "colab": {
          "base_uri": "https://localhost:8080/"
        },
        "id": "aGxXnfyWmk6k",
        "outputId": "0afcafff-b132-4d49-ebf0-ec9b285afa6d"
      },
      "source": [
        "from sklearn.metrics import f1_score\r\n",
        "\r\n",
        "f1_score(y_test, y_hat, pos_label = 'Yes')"
      ],
      "execution_count": 19,
      "outputs": [
        {
          "output_type": "execute_result",
          "data": {
            "text/plain": [
              "0.44755244755244755"
            ]
          },
          "metadata": {
            "tags": []
          },
          "execution_count": 19
        }
      ]
    },
    {
      "cell_type": "markdown",
      "metadata": {
        "id": "mXlukJ1RnES7"
      },
      "source": [
        "## 7) Classification Report - 한번에 처리 가능한 "
      ]
    },
    {
      "cell_type": "code",
      "metadata": {
        "colab": {
          "base_uri": "https://localhost:8080/"
        },
        "id": "VENEfzyKnAxK",
        "outputId": "53d8e3a6-ef7b-41d5-aae0-133ec36fe200"
      },
      "source": [
        "from sklearn.metrics import classification_report\r\n",
        "\r\n",
        "print(classification_report(y_test, y_hat,\r\n",
        "                            target_names = ['No','Yes'],\r\n",
        "                            digits = 5))\r\n",
        "\r\n",
        "# support는  개수\r\n",
        "# income으로 했을 때는 전부 상환이라고 치부.  accuracy값은 그럼에도 언제나 96% 정도"
      ],
      "execution_count": 20,
      "outputs": [
        {
          "output_type": "stream",
          "text": [
            "              precision    recall  f1-score   support\n",
            "\n",
            "          No    0.97568   0.99758   0.98651      2896\n",
            "         Yes    0.82051   0.30769   0.44755       104\n",
            "\n",
            "    accuracy                        0.97367      3000\n",
            "   macro avg    0.89810   0.65264   0.71703      3000\n",
            "weighted avg    0.97030   0.97367   0.96783      3000\n",
            "\n"
          ],
          "name": "stdout"
        }
      ]
    },
    {
      "cell_type": "code",
      "metadata": {
        "id": "ijuGSGXonQAH"
      },
      "source": [
        ""
      ],
      "execution_count": null,
      "outputs": []
    }
  ]
}