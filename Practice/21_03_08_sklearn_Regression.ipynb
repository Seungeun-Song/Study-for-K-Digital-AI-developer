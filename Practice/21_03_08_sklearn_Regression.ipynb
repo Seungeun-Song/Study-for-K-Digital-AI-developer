{
  "nbformat": 4,
  "nbformat_minor": 0,
  "metadata": {
    "colab": {
      "name": "sklearn_Regression.ipynb",
      "provenance": [],
      "toc_visible": true
    },
    "kernelspec": {
      "name": "python3",
      "display_name": "Python 3"
    }
  },
  "cells": [
    {
      "cell_type": "markdown",
      "metadata": {
        "id": "ukVnYliBpVk1"
      },
      "source": [
        "# sklearn Regression - 수치예측"
      ]
    },
    {
      "cell_type": "markdown",
      "metadata": {
        "id": "ZwcF-kzWpcY9"
      },
      "source": [
        "# 실습용 데이터 설정"
      ]
    },
    {
      "cell_type": "code",
      "metadata": {
        "colab": {
          "base_uri": "https://localhost:8080/"
        },
        "id": "t2Wt8CsefoVF",
        "outputId": "cfb65a0f-8b67-4cc7-e585-6df8838bf92d"
      },
      "source": [
        "import pandas as pd\r\n",
        "DF= pd.read_csv('https://raw.githubusercontent.com/rusita-ai/pyData/master/Insurance.csv')\r\n",
        "DF.info()"
      ],
      "execution_count": 1,
      "outputs": [
        {
          "output_type": "stream",
          "text": [
            "<class 'pandas.core.frame.DataFrame'>\n",
            "RangeIndex: 1338 entries, 0 to 1337\n",
            "Data columns (total 7 columns):\n",
            " #   Column    Non-Null Count  Dtype  \n",
            "---  ------    --------------  -----  \n",
            " 0   age       1338 non-null   int64  \n",
            " 1   sex       1338 non-null   object \n",
            " 2   bmi       1338 non-null   float64\n",
            " 3   children  1338 non-null   int64  \n",
            " 4   smoker    1338 non-null   object \n",
            " 5   region    1338 non-null   object \n",
            " 6   expenses  1338 non-null   float64\n",
            "dtypes: float64(2), int64(2), object(3)\n",
            "memory usage: 73.3+ KB\n"
          ],
          "name": "stdout"
        }
      ]
    },
    {
      "cell_type": "code",
      "metadata": {
        "colab": {
          "base_uri": "https://localhost:8080/",
          "height": 139
        },
        "id": "8XJ-K50ygTtb",
        "outputId": "65fa9c24-f085-4c63-b447-b5cbd4ff2d6d"
      },
      "source": [
        "DF.head(3)"
      ],
      "execution_count": 2,
      "outputs": [
        {
          "output_type": "execute_result",
          "data": {
            "text/html": [
              "<div>\n",
              "<style scoped>\n",
              "    .dataframe tbody tr th:only-of-type {\n",
              "        vertical-align: middle;\n",
              "    }\n",
              "\n",
              "    .dataframe tbody tr th {\n",
              "        vertical-align: top;\n",
              "    }\n",
              "\n",
              "    .dataframe thead th {\n",
              "        text-align: right;\n",
              "    }\n",
              "</style>\n",
              "<table border=\"1\" class=\"dataframe\">\n",
              "  <thead>\n",
              "    <tr style=\"text-align: right;\">\n",
              "      <th></th>\n",
              "      <th>age</th>\n",
              "      <th>sex</th>\n",
              "      <th>bmi</th>\n",
              "      <th>children</th>\n",
              "      <th>smoker</th>\n",
              "      <th>region</th>\n",
              "      <th>expenses</th>\n",
              "    </tr>\n",
              "  </thead>\n",
              "  <tbody>\n",
              "    <tr>\n",
              "      <th>0</th>\n",
              "      <td>19</td>\n",
              "      <td>female</td>\n",
              "      <td>27.90</td>\n",
              "      <td>0</td>\n",
              "      <td>yes</td>\n",
              "      <td>southwest</td>\n",
              "      <td>16884.9240</td>\n",
              "    </tr>\n",
              "    <tr>\n",
              "      <th>1</th>\n",
              "      <td>18</td>\n",
              "      <td>male</td>\n",
              "      <td>33.77</td>\n",
              "      <td>1</td>\n",
              "      <td>no</td>\n",
              "      <td>southeast</td>\n",
              "      <td>1725.5523</td>\n",
              "    </tr>\n",
              "    <tr>\n",
              "      <th>2</th>\n",
              "      <td>28</td>\n",
              "      <td>male</td>\n",
              "      <td>33.00</td>\n",
              "      <td>3</td>\n",
              "      <td>no</td>\n",
              "      <td>southeast</td>\n",
              "      <td>4449.4620</td>\n",
              "    </tr>\n",
              "  </tbody>\n",
              "</table>\n",
              "</div>"
            ],
            "text/plain": [
              "   age     sex    bmi  children smoker     region    expenses\n",
              "0   19  female  27.90         0    yes  southwest  16884.9240\n",
              "1   18    male  33.77         1     no  southeast   1725.5523\n",
              "2   28    male  33.00         3     no  southeast   4449.4620"
            ]
          },
          "metadata": {
            "tags": []
          },
          "execution_count": 2
        }
      ]
    },
    {
      "cell_type": "markdown",
      "metadata": {
        "id": "Fr3r_KuEpiCU"
      },
      "source": [
        "## 1) 분석 변수 선택"
      ]
    },
    {
      "cell_type": "code",
      "metadata": {
        "colab": {
          "base_uri": "https://localhost:8080/",
          "height": 139
        },
        "id": "_-fWisnygWx5",
        "outputId": "0e05710b-1d1c-4ec4-ec0d-141017f3eb02"
      },
      "source": [
        "DF1 = DF[['expenses', 'age', 'bmi', 'children']]\r\n",
        "DF1.head(3)"
      ],
      "execution_count": 3,
      "outputs": [
        {
          "output_type": "execute_result",
          "data": {
            "text/html": [
              "<div>\n",
              "<style scoped>\n",
              "    .dataframe tbody tr th:only-of-type {\n",
              "        vertical-align: middle;\n",
              "    }\n",
              "\n",
              "    .dataframe tbody tr th {\n",
              "        vertical-align: top;\n",
              "    }\n",
              "\n",
              "    .dataframe thead th {\n",
              "        text-align: right;\n",
              "    }\n",
              "</style>\n",
              "<table border=\"1\" class=\"dataframe\">\n",
              "  <thead>\n",
              "    <tr style=\"text-align: right;\">\n",
              "      <th></th>\n",
              "      <th>expenses</th>\n",
              "      <th>age</th>\n",
              "      <th>bmi</th>\n",
              "      <th>children</th>\n",
              "    </tr>\n",
              "  </thead>\n",
              "  <tbody>\n",
              "    <tr>\n",
              "      <th>0</th>\n",
              "      <td>16884.9240</td>\n",
              "      <td>19</td>\n",
              "      <td>27.90</td>\n",
              "      <td>0</td>\n",
              "    </tr>\n",
              "    <tr>\n",
              "      <th>1</th>\n",
              "      <td>1725.5523</td>\n",
              "      <td>18</td>\n",
              "      <td>33.77</td>\n",
              "      <td>1</td>\n",
              "    </tr>\n",
              "    <tr>\n",
              "      <th>2</th>\n",
              "      <td>4449.4620</td>\n",
              "      <td>28</td>\n",
              "      <td>33.00</td>\n",
              "      <td>3</td>\n",
              "    </tr>\n",
              "  </tbody>\n",
              "</table>\n",
              "</div>"
            ],
            "text/plain": [
              "     expenses  age    bmi  children\n",
              "0  16884.9240   19  27.90         0\n",
              "1   1725.5523   18  33.77         1\n",
              "2   4449.4620   28  33.00         3"
            ]
          },
          "metadata": {
            "tags": []
          },
          "execution_count": 3
        }
      ]
    },
    {
      "cell_type": "code",
      "metadata": {
        "colab": {
          "base_uri": "https://localhost:8080/"
        },
        "id": "WIK643crggiA",
        "outputId": "23c80848-cd85-47c6-8f48-bf81b1ce1192"
      },
      "source": [
        "from sklearn.model_selection import train_test_split\r\n",
        "\r\n",
        "X = DF1[['age', 'bmi', 'children']]\r\n",
        "y = DF1['expenses']\r\n",
        "\r\n",
        "X_train, X_test, y_train, y_test = train_test_split(X, y, test_size = 0.3, random_state=2045)\r\n",
        "\r\n",
        "print('Train Data : ', X_train.shape, y_train.shape)\r\n",
        "print('Test Data : ', X_test.shape, y_test.shape )"
      ],
      "execution_count": 4,
      "outputs": [
        {
          "output_type": "stream",
          "text": [
            "Train Data :  (936, 3) (936,)\n",
            "Test Data :  (402, 3) (402,)\n"
          ],
          "name": "stdout"
        }
      ]
    },
    {
      "cell_type": "markdown",
      "metadata": {
        "id": "2scCURRxhJwA"
      },
      "source": [
        "# 1, Multivariate Regression"
      ]
    },
    {
      "cell_type": "code",
      "metadata": {
        "colab": {
          "base_uri": "https://localhost:8080/"
        },
        "id": "QIFFJnBVhINX",
        "outputId": "5b5086a2-ce84-4779-b2fa-56c39885c1fa"
      },
      "source": [
        "%%time\r\n",
        "\r\n",
        "from sklearn.linear_model import LinearRegression\r\n",
        "\r\n",
        "MR = LinearRegression(normalize = True, n_jobs = -1)\r\n",
        "MR.fit(X_train, y_train)"
      ],
      "execution_count": 6,
      "outputs": [
        {
          "output_type": "stream",
          "text": [
            "CPU times: user 5.54 ms, sys: 1.12 ms, total: 6.66 ms\n",
            "Wall time: 33.4 ms\n"
          ],
          "name": "stdout"
        }
      ]
    },
    {
      "cell_type": "code",
      "metadata": {
        "colab": {
          "base_uri": "https://localhost:8080/"
        },
        "id": "FlbXgWnzhcg4",
        "outputId": "6a7838b9-e63b-44e4-b73d-d62d912afc44"
      },
      "source": [
        "from sklearn.metrics import mean_squared_error\r\n",
        "\r\n",
        "mean_squared_error(y_test, MR.predict(X_test))"
      ],
      "execution_count": 7,
      "outputs": [
        {
          "output_type": "execute_result",
          "data": {
            "text/plain": [
              "114300134.03204554"
            ]
          },
          "metadata": {
            "tags": []
          },
          "execution_count": 7
        }
      ]
    },
    {
      "cell_type": "markdown",
      "metadata": {
        "id": "AAPuIoQ6hv7P"
      },
      "source": [
        "# 2, Ridge Regression"
      ]
    },
    {
      "cell_type": "code",
      "metadata": {
        "colab": {
          "base_uri": "https://localhost:8080/"
        },
        "id": "8Kr4WogthtpL",
        "outputId": "82e93652-8f79-4e51-ae66-52e91104c916"
      },
      "source": [
        "%%time\r\n",
        "from sklearn.linear_model import Ridge\r\n",
        "\r\n",
        "RG = Ridge(normalize = True, alpha = 0.3, solver = 'cholesky')\r\n",
        "\r\n",
        "RG.fit(X_train, y_train)"
      ],
      "execution_count": 18,
      "outputs": [
        {
          "output_type": "stream",
          "text": [
            "CPU times: user 2.99 ms, sys: 0 ns, total: 2.99 ms\n",
            "Wall time: 3.02 ms\n"
          ],
          "name": "stdout"
        }
      ]
    },
    {
      "cell_type": "code",
      "metadata": {
        "colab": {
          "base_uri": "https://localhost:8080/"
        },
        "id": "Z6mQHWM4iO0q",
        "outputId": "61e2a6ae-297a-4537-bffc-fa0dd1e793eb"
      },
      "source": [
        "mean_squared_error(y_test, RG.predict(X_test))"
      ],
      "execution_count": 19,
      "outputs": [
        {
          "output_type": "execute_result",
          "data": {
            "text/plain": [
              "113578068.78448391"
            ]
          },
          "metadata": {
            "tags": []
          },
          "execution_count": 19
        }
      ]
    },
    {
      "cell_type": "markdown",
      "metadata": {
        "id": "w1IjjgX6iiXW"
      },
      "source": [
        "# 3, Lasso Regression"
      ]
    },
    {
      "cell_type": "code",
      "metadata": {
        "colab": {
          "base_uri": "https://localhost:8080/"
        },
        "id": "PuKKZ34kiXCP",
        "outputId": "b6dd3887-b944-451d-f3e9-f3c6793c90d3"
      },
      "source": [
        "%%time\r\n",
        "\r\n",
        "from sklearn.linear_model import Lasso\r\n",
        "\r\n",
        "LS = Lasso(normalize = True,alpha = 0.2)\r\n",
        "LS.fit(X_train, y_train)"
      ],
      "execution_count": 31,
      "outputs": [
        {
          "output_type": "stream",
          "text": [
            "CPU times: user 2.85 ms, sys: 0 ns, total: 2.85 ms\n",
            "Wall time: 3.36 ms\n"
          ],
          "name": "stdout"
        }
      ]
    },
    {
      "cell_type": "code",
      "metadata": {
        "colab": {
          "base_uri": "https://localhost:8080/"
        },
        "id": "vwfYF4coivyg",
        "outputId": "7e8ca568-96b1-406a-da5c-c90f8dedde18"
      },
      "source": [
        "mean_squared_error(y_test, LS.predict(X_test))"
      ],
      "execution_count": 32,
      "outputs": [
        {
          "output_type": "execute_result",
          "data": {
            "text/plain": [
              "114279766.62560357"
            ]
          },
          "metadata": {
            "tags": []
          },
          "execution_count": 32
        }
      ]
    },
    {
      "cell_type": "markdown",
      "metadata": {
        "id": "EK9qQjWBi8UX"
      },
      "source": [
        "# 4, ElasticNet Regression"
      ]
    },
    {
      "cell_type": "code",
      "metadata": {
        "colab": {
          "base_uri": "https://localhost:8080/"
        },
        "id": "rAaVE5Rei3HI",
        "outputId": "dc392a32-4e80-47d2-94b0-01240ea95eab"
      },
      "source": [
        "%%time\r\n",
        "\r\n",
        "from sklearn.linear_model import ElasticNet\r\n",
        "\r\n",
        "EN = ElasticNet(normalize = True, alpha = 0.001, l1_ratio = 0.7) # l1_ratio = l1를 0.7로 적용하겠다는 뜻\r\n",
        "EN.fit(X_train, y_train)"
      ],
      "execution_count": 12,
      "outputs": [
        {
          "output_type": "stream",
          "text": [
            "CPU times: user 2.48 ms, sys: 0 ns, total: 2.48 ms\n",
            "Wall time: 2.97 ms\n"
          ],
          "name": "stdout"
        }
      ]
    },
    {
      "cell_type": "code",
      "metadata": {
        "colab": {
          "base_uri": "https://localhost:8080/"
        },
        "id": "VhjXdtSwjQgA",
        "outputId": "3eb3a1ba-4060-4f61-cf78-387406cd0623"
      },
      "source": [
        "mean_squared_error(y_test, EN.predict(X_test))"
      ],
      "execution_count": 13,
      "outputs": [
        {
          "output_type": "execute_result",
          "data": {
            "text/plain": [
              "113571195.19021483"
            ]
          },
          "metadata": {
            "tags": []
          },
          "execution_count": 13
        }
      ]
    },
    {
      "cell_type": "markdown",
      "metadata": {
        "id": "6oXwGuOJjXW-"
      },
      "source": [
        "# 5, Decision Tree Regressor"
      ]
    },
    {
      "cell_type": "code",
      "metadata": {
        "colab": {
          "base_uri": "https://localhost:8080/"
        },
        "id": "L1jg4A8KjVyf",
        "outputId": "97e8c01c-6822-47aa-8c18-ace3ea2ac4cf"
      },
      "source": [
        "from sklearn.tree import DecisionTreeRegressor\r\n",
        "\r\n",
        "DTR = DecisionTreeRegressor(max_depth = 5, criterion = 'mse') # 오차측정을 gini계수X, MSE O\r\n",
        "DTR.fit(X_train, y_train)"
      ],
      "execution_count": 33,
      "outputs": [
        {
          "output_type": "execute_result",
          "data": {
            "text/plain": [
              "DecisionTreeRegressor(ccp_alpha=0.0, criterion='mse', max_depth=5,\n",
              "                      max_features=None, max_leaf_nodes=None,\n",
              "                      min_impurity_decrease=0.0, min_impurity_split=None,\n",
              "                      min_samples_leaf=1, min_samples_split=2,\n",
              "                      min_weight_fraction_leaf=0.0, presort='deprecated',\n",
              "                      random_state=None, splitter='best')"
            ]
          },
          "metadata": {
            "tags": []
          },
          "execution_count": 33
        }
      ]
    },
    {
      "cell_type": "code",
      "metadata": {
        "colab": {
          "base_uri": "https://localhost:8080/"
        },
        "id": "MBDbsg0kkLDK",
        "outputId": "d7486bf8-4b15-435d-ed9a-efc77858aef6"
      },
      "source": [
        "mean_squared_error(y_test, DTR.predict(X_test))"
      ],
      "execution_count": 34,
      "outputs": [
        {
          "output_type": "execute_result",
          "data": {
            "text/plain": [
              "140104079.12184906"
            ]
          },
          "metadata": {
            "tags": []
          },
          "execution_count": 34
        }
      ]
    },
    {
      "cell_type": "code",
      "metadata": {
        "colab": {
          "base_uri": "https://localhost:8080/"
        },
        "id": "mqkSmlu7kTr1",
        "outputId": "e2b5933f-37c0-4182-f69f-7f587af84654"
      },
      "source": [
        "DTR.feature_importances_"
      ],
      "execution_count": 35,
      "outputs": [
        {
          "output_type": "execute_result",
          "data": {
            "text/plain": [
              "array([0.45044017, 0.48302537, 0.06653445])"
            ]
          },
          "metadata": {
            "tags": []
          },
          "execution_count": 35
        }
      ]
    },
    {
      "cell_type": "code",
      "metadata": {
        "colab": {
          "base_uri": "https://localhost:8080/",
          "height": 321
        },
        "id": "XujOuC6QkVtB",
        "outputId": "e40f5699-a5f0-401f-b00c-43c560b4df89"
      },
      "source": [
        "import matplotlib.pyplot as plt\r\n",
        "import seaborn as sns\r\n",
        "\r\n",
        "sns.barplot(DTR.feature_importances_, ['age', 'bmi', 'children'])\r\n",
        "plt.show()"
      ],
      "execution_count": 37,
      "outputs": [
        {
          "output_type": "stream",
          "text": [
            "/usr/local/lib/python3.7/dist-packages/seaborn/_decorators.py:43: FutureWarning: Pass the following variables as keyword args: x, y. From version 0.12, the only valid positional argument will be `data`, and passing other arguments without an explicit keyword will result in an error or misinterpretation.\n",
            "  FutureWarning\n"
          ],
          "name": "stderr"
        },
        {
          "output_type": "display_data",
          "data": {
            "image/png": "[encoded data removed]",
            "text/plain": [
              "<Figure size 432x288 with 1 Axes>"
            ]
          },
          "metadata": {
            "tags": [],
            "needs_background": "light"
          }
        }
      ]
    },
    {
      "cell_type": "markdown",
      "metadata": {
        "id": "u4yNWnWVktA2"
      },
      "source": [
        "# 6, Random Forest Regressor"
      ]
    },
    {
      "cell_type": "code",
      "metadata": {
        "colab": {
          "base_uri": "https://localhost:8080/"
        },
        "id": "MA57UUlhkiZW",
        "outputId": "8e546e31-0b4c-4ed9-9eb6-241b53324739"
      },
      "source": [
        "%%time\r\n",
        "\r\n",
        "from sklearn.ensemble import RandomForestRegressor\r\n",
        "\r\n",
        "RFR = RandomForestRegressor(n_estimators = 2000, max_features = 3, max_depth =1, criterion = 'mse', n_jobs= -1, random_state=2045)\r\n",
        "\r\n",
        "RFR.fit(X_train, y_train)"
      ],
      "execution_count": 39,
      "outputs": [
        {
          "output_type": "stream",
          "text": [
            "CPU times: user 3.69 s, sys: 458 ms, total: 4.15 s\n",
            "Wall time: 3.48 s\n"
          ],
          "name": "stdout"
        }
      ]
    },
    {
      "cell_type": "code",
      "metadata": {
        "colab": {
          "base_uri": "https://localhost:8080/"
        },
        "id": "B-R3TtUylHuA",
        "outputId": "897cced6-230e-4f4a-d63f-f375f92cad32"
      },
      "source": [
        "mean_squared_error(y_test, RFR.predict(X_test))"
      ],
      "execution_count": 40,
      "outputs": [
        {
          "output_type": "execute_result",
          "data": {
            "text/plain": [
              "114282870.90114409"
            ]
          },
          "metadata": {
            "tags": []
          },
          "execution_count": 40
        }
      ]
    },
    {
      "cell_type": "code",
      "metadata": {
        "colab": {
          "base_uri": "https://localhost:8080/"
        },
        "id": "U3jBW043lcT2",
        "outputId": "4a0e9bf4-054a-4628-81cb-852891c75aad"
      },
      "source": [
        "RFR.feature_importances_"
      ],
      "execution_count": 42,
      "outputs": [
        {
          "output_type": "execute_result",
          "data": {
            "text/plain": [
              "array([0.794, 0.206, 0.   ])"
            ]
          },
          "metadata": {
            "tags": []
          },
          "execution_count": 42
        }
      ]
    },
    {
      "cell_type": "code",
      "metadata": {
        "colab": {
          "base_uri": "https://localhost:8080/",
          "height": 321
        },
        "id": "3CDNzIp8lmfo",
        "outputId": "65ea9ffc-5898-4669-b8ad-f59a4247952c"
      },
      "source": [
        "sns.barplot(RFR.feature_importances_, ['age','bmi','children'])\r\n",
        "plt.show()"
      ],
      "execution_count": 43,
      "outputs": [
        {
          "output_type": "stream",
          "text": [
            "/usr/local/lib/python3.7/dist-packages/seaborn/_decorators.py:43: FutureWarning: Pass the following variables as keyword args: x, y. From version 0.12, the only valid positional argument will be `data`, and passing other arguments without an explicit keyword will result in an error or misinterpretation.\n",
            "  FutureWarning\n"
          ],
          "name": "stderr"
        },
        {
          "output_type": "display_data",
          "data": {
            "image/png": "[encoded data removed]",
            "text/plain": [
              "<Figure size 432x288 with 1 Axes>"
            ]
          },
          "metadata": {
            "tags": [],
            "needs_background": "light"
          }
        }
      ]
    },
    {
      "cell_type": "markdown",
      "metadata": {
        "id": "8dkQRVs_lyhv"
      },
      "source": [
        "# 7, Gradien Boosting Machine(GBM) Classifier"
      ]
    },
    {
      "cell_type": "code",
      "metadata": {
        "colab": {
          "base_uri": "https://localhost:8080/"
        },
        "id": "Ep2_z2cRlxDe",
        "outputId": "ddd475dc-6ecd-4367-a122-7ce8b8287895"
      },
      "source": [
        "%%time\r\n",
        "\r\n",
        "from sklearn.ensemble import GradientBoostingRegressor\r\n",
        "\r\n",
        "GBR = GradientBoostingRegressor(loss = 'ls', n_estimators = 9000, learning_rate = 0.0001, criterion = 'mse', max_features=3, max_depth=1)\r\n",
        "GBR.fit(X_train, y_train)"
      ],
      "execution_count": 44,
      "outputs": [
        {
          "output_type": "stream",
          "text": [
            "CPU times: user 4.13 s, sys: 2.71 ms, total: 4.14 s\n",
            "Wall time: 4.15 s\n"
          ],
          "name": "stdout"
        }
      ]
    },
    {
      "cell_type": "code",
      "metadata": {
        "colab": {
          "base_uri": "https://localhost:8080/"
        },
        "id": "IHK4IHAEmZ7Q",
        "outputId": "dc0dba67-e02d-4649-9a0a-f320a5569f76"
      },
      "source": [
        "mean_squared_error(y_test, GBR.predict(X_test))"
      ],
      "execution_count": 45,
      "outputs": [
        {
          "output_type": "execute_result",
          "data": {
            "text/plain": [
              "118523943.40353534"
            ]
          },
          "metadata": {
            "tags": []
          },
          "execution_count": 45
        }
      ]
    },
    {
      "cell_type": "code",
      "metadata": {
        "colab": {
          "base_uri": "https://localhost:8080/"
        },
        "id": "wVfE53_Fme4t",
        "outputId": "4995246c-a6f0-4dac-c2eb-af753d777542"
      },
      "source": [
        "GBR.feature_importances_"
      ],
      "execution_count": 46,
      "outputs": [
        {
          "output_type": "execute_result",
          "data": {
            "text/plain": [
              "array([0.68958147, 0.31041853, 0.        ])"
            ]
          },
          "metadata": {
            "tags": []
          },
          "execution_count": 46
        }
      ]
    },
    {
      "cell_type": "code",
      "metadata": {
        "colab": {
          "base_uri": "https://localhost:8080/",
          "height": 321
        },
        "id": "G2VG61GNmkWo",
        "outputId": "9d9000c5-0f5d-4914-dcec-afc5d9b3a1d7"
      },
      "source": [
        "sns.barplot(GBR.feature_importances_, ['age','bmi','children'])\r\n",
        "plt.show()"
      ],
      "execution_count": 47,
      "outputs": [
        {
          "output_type": "stream",
          "text": [
            "/usr/local/lib/python3.7/dist-packages/seaborn/_decorators.py:43: FutureWarning: Pass the following variables as keyword args: x, y. From version 0.12, the only valid positional argument will be `data`, and passing other arguments without an explicit keyword will result in an error or misinterpretation.\n",
            "  FutureWarning\n"
          ],
          "name": "stderr"
        },
        {
          "output_type": "display_data",
          "data": {
            "image/png": "[encoded data removed]",
            "text/plain": [
              "<Figure size 432x288 with 1 Axes>"
            ]
          },
          "metadata": {
            "tags": [],
            "needs_background": "light"
          }
        }
      ]
    },
    {
      "cell_type": "markdown",
      "metadata": {
        "id": "-35TljzSmtZx"
      },
      "source": [
        "# 8, Adaptive Boosting Regressor"
      ]
    },
    {
      "cell_type": "code",
      "metadata": {
        "colab": {
          "base_uri": "https://localhost:8080/"
        },
        "id": "A3WPHW6Bmr_V",
        "outputId": "74eb8d00-7cb8-4da8-b588-159f0e4c1fcb"
      },
      "source": [
        "%%time\r\n",
        "\r\n",
        "from sklearn.ensemble import AdaBoostRegressor\r\n",
        "\r\n",
        "ABR = AdaBoostRegressor(loss = 'square', n_estimators = 500, learning_rate = 0.0001, random_state=2045)\r\n",
        "ABR.fit(X_train, y_train)"
      ],
      "execution_count": 48,
      "outputs": [
        {
          "output_type": "stream",
          "text": [
            "CPU times: user 944 ms, sys: 778 µs, total: 945 ms\n",
            "Wall time: 950 ms\n"
          ],
          "name": "stdout"
        }
      ]
    },
    {
      "cell_type": "code",
      "metadata": {
        "colab": {
          "base_uri": "https://localhost:8080/"
        },
        "id": "Al9osVIqnGVm",
        "outputId": "e3e684a6-9b49-4133-a7f3-4f0a5e109c3c"
      },
      "source": [
        "mean_squared_error(y_test, ABR.predict(X_test))"
      ],
      "execution_count": 49,
      "outputs": [
        {
          "output_type": "execute_result",
          "data": {
            "text/plain": [
              "118481893.52922821"
            ]
          },
          "metadata": {
            "tags": []
          },
          "execution_count": 49
        }
      ]
    },
    {
      "cell_type": "code",
      "metadata": {
        "colab": {
          "base_uri": "https://localhost:8080/"
        },
        "id": "1RqssRkQnUO1",
        "outputId": "35035d10-c53c-4ca5-85d8-15a52f7d547b"
      },
      "source": [
        "ABR.feature_importances_"
      ],
      "execution_count": 51,
      "outputs": [
        {
          "output_type": "execute_result",
          "data": {
            "text/plain": [
              "array([0.57474029, 0.3843226 , 0.04093711])"
            ]
          },
          "metadata": {
            "tags": []
          },
          "execution_count": 51
        }
      ]
    },
    {
      "cell_type": "code",
      "metadata": {
        "colab": {
          "base_uri": "https://localhost:8080/",
          "height": 321
        },
        "id": "GYMS1QcbnXLs",
        "outputId": "8616144d-04f5-48ec-83d8-6401f84b0fbc"
      },
      "source": [
        "sns.barplot(ABR.feature_importances_, ['age','bmi','children'])\r\n",
        "plt.show()"
      ],
      "execution_count": 52,
      "outputs": [
        {
          "output_type": "stream",
          "text": [
            "/usr/local/lib/python3.7/dist-packages/seaborn/_decorators.py:43: FutureWarning: Pass the following variables as keyword args: x, y. From version 0.12, the only valid positional argument will be `data`, and passing other arguments without an explicit keyword will result in an error or misinterpretation.\n",
            "  FutureWarning\n"
          ],
          "name": "stderr"
        },
        {
          "output_type": "display_data",
          "data": {
            "image/png": "[encoded data removed]",
            "text/plain": [
              "<Figure size 432x288 with 1 Axes>"
            ]
          },
          "metadata": {
            "tags": [],
            "needs_background": "light"
          }
        }
      ]
    },
    {
      "cell_type": "markdown",
      "metadata": {
        "id": "I5_3AgQ1nkDT"
      },
      "source": [
        "# 9, eXtra Gradient Boost(XGBoost) Classifier"
      ]
    },
    {
      "cell_type": "code",
      "metadata": {
        "colab": {
          "base_uri": "https://localhost:8080/"
        },
        "id": "I7ysu7r-ne_s",
        "outputId": "0be796b9-49fd-474a-aa2b-d96c2e918966"
      },
      "source": [
        "%%time\r\n",
        "\r\n",
        "from xgboost import XGBRegressor\r\n",
        "\r\n",
        "XGB = XGBRegressor(booster='gblinear', n_estimators=100, learning_rate=0.4, reg_lambda=3.0, n_jobs= -1)\r\n",
        "XGB.fit(X_train, y_train)"
      ],
      "execution_count": 54,
      "outputs": [
        {
          "output_type": "stream",
          "text": [
            "[02:17:27] WARNING: /workspace/src/objective/regression_obj.cu:152: reg:linear is now deprecated in favor of reg:squarederror.\n",
            "CPU times: user 44.4 ms, sys: 14.2 ms, total: 58.6 ms\n",
            "Wall time: 136 ms\n"
          ],
          "name": "stdout"
        }
      ]
    },
    {
      "cell_type": "code",
      "metadata": {
        "colab": {
          "base_uri": "https://localhost:8080/"
        },
        "id": "h2Ii76vbnwJe",
        "outputId": "4be5120d-1d9d-470f-8e72-93ad5ff36c27"
      },
      "source": [
        "mean_squared_error(y_test, XGB.predict(X_test))"
      ],
      "execution_count": 55,
      "outputs": [
        {
          "output_type": "execute_result",
          "data": {
            "text/plain": [
              "112752485.09218878"
            ]
          },
          "metadata": {
            "tags": []
          },
          "execution_count": 55
        }
      ]
    },
    {
      "cell_type": "markdown",
      "metadata": {
        "id": "fn4bm6zjoLEa"
      },
      "source": [
        "# 10, LightGBM Regressior"
      ]
    },
    {
      "cell_type": "code",
      "metadata": {
        "colab": {
          "base_uri": "https://localhost:8080/"
        },
        "id": "59fnvQw0oGW-",
        "outputId": "5f84e22b-d0bc-4ad6-f2ed-c9ca38f8dead"
      },
      "source": [
        "%%time\r\n",
        "\r\n",
        "from lightgbm import LGBMRegressor\r\n",
        "\r\n",
        "LGB =LGBMRegressor(llinear_tree = True, boosting_type='gbdt', objective ='regression',\r\n",
        "                   n_estimators = 500, learning_rate=0.001, max_depth=2, n_jobs=-1)\r\n",
        "LGB.fit(X_train, y_train)"
      ],
      "execution_count": 56,
      "outputs": [
        {
          "output_type": "stream",
          "text": [
            "CPU times: user 112 ms, sys: 9.01 ms, total: 121 ms\n",
            "Wall time: 91.7 ms\n"
          ],
          "name": "stdout"
        }
      ]
    },
    {
      "cell_type": "code",
      "metadata": {
        "colab": {
          "base_uri": "https://localhost:8080/"
        },
        "id": "D3yo_s5QomIz",
        "outputId": "f7cdb97e-55da-4b41-c5ff-eb6b5c61951b"
      },
      "source": [
        "mean_squared_error(y_test, LGB.predict(X_test))"
      ],
      "execution_count": 57,
      "outputs": [
        {
          "output_type": "execute_result",
          "data": {
            "text/plain": [
              "119555446.90396042"
            ]
          },
          "metadata": {
            "tags": []
          },
          "execution_count": 57
        }
      ]
    },
    {
      "cell_type": "code",
      "metadata": {
        "colab": {
          "base_uri": "https://localhost:8080/"
        },
        "id": "NrCGuMk2opvk",
        "outputId": "4e90f107-1ffe-4b67-84fe-b7822b2062d3"
      },
      "source": [
        "LGB.feature_importances_"
      ],
      "execution_count": 58,
      "outputs": [
        {
          "output_type": "execute_result",
          "data": {
            "text/plain": [
              "array([909, 591,   0])"
            ]
          },
          "metadata": {
            "tags": []
          },
          "execution_count": 58
        }
      ]
    },
    {
      "cell_type": "code",
      "metadata": {
        "colab": {
          "base_uri": "https://localhost:8080/",
          "height": 321
        },
        "id": "x3Zizpurostn",
        "outputId": "feab7b8a-d695-4a18-ed51-30383880df26"
      },
      "source": [
        "sns.barplot(LGB.feature_importances_, ['age','mbi','children'])\r\n",
        "plt.show()"
      ],
      "execution_count": 59,
      "outputs": [
        {
          "output_type": "stream",
          "text": [
            "/usr/local/lib/python3.7/dist-packages/seaborn/_decorators.py:43: FutureWarning: Pass the following variables as keyword args: x, y. From version 0.12, the only valid positional argument will be `data`, and passing other arguments without an explicit keyword will result in an error or misinterpretation.\n",
            "  FutureWarning\n"
          ],
          "name": "stderr"
        },
        {
          "output_type": "display_data",
          "data": {
            "image/png": "[encoded data removed]",
            "text/plain": [
              "<Figure size 432x288 with 1 Axes>"
            ]
          },
          "metadata": {
            "tags": [],
            "needs_background": "light"
          }
        }
      ]
    },
    {
      "cell_type": "code",
      "metadata": {
        "id": "kLOWpsLUoyjc"
      },
      "source": [
        ""
      ],
      "execution_count": null,
      "outputs": []
    }
  ]
}