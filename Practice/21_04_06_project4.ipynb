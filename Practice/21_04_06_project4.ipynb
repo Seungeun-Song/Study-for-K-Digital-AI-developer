{
  "nbformat": 4,
  "nbformat_minor": 0,
  "metadata": {
    "colab": {
      "name": "project_images.ipynb",
      "provenance": [],
      "collapsed_sections": []
    },
    "kernelspec": {
      "name": "python3",
      "display_name": "Python 3"
    },
    "language_info": {
      "name": "python"
    },
    "accelerator": "GPU"
  },
  "cells": [
    {
      "cell_type": "code",
      "metadata": {
        "colab": {
          "base_uri": "https://localhost:8080/"
        },
        "id": "258VGFsr1Jib",
        "outputId": "20fd7800-bab6-4e3e-e04f-e2e321329853"
      },
      "source": [
        "from google.colab import drive\n",
        "drive.mount('/content/drive')"
      ],
      "execution_count": null,
      "outputs": [
        {
          "output_type": "stream",
          "text": [
            "Mounted at /content/drive\n"
          ],
          "name": "stdout"
        }
      ]
    },
    {
      "cell_type": "code",
      "metadata": {
        "colab": {
          "base_uri": "https://localhost:8080/"
        },
        "id": "1bltF8m51UsW",
        "outputId": "19bf5ec9-073a-4f28-e952-fdf40cc96a88"
      },
      "source": [
        "!ls -l '/content/drive/My Drive/Colab Notebooks/datasets/project_image_binary.zip'"
      ],
      "execution_count": null,
      "outputs": [
        {
          "output_type": "stream",
          "text": [
            "-rw------- 1 root root 10125925 Apr  6 06:39 '/content/drive/My Drive/Colab Notebooks/datasets/project_image_binary.zip'\n"
          ],
          "name": "stdout"
        }
      ]
    },
    {
      "cell_type": "code",
      "metadata": {
        "colab": {
          "base_uri": "https://localhost:8080/"
        },
        "id": "5Ca2i2NR1fcd",
        "outputId": "62796c13-b9f4-4279-c50d-00ac075dfbf1"
      },
      "source": [
        "!unzip /content/drive/My\\ Drive/Colab\\ Notebooks/datasets/project_image_binary.zip"
      ],
      "execution_count": null,
      "outputs": [
        {
          "output_type": "stream",
          "text": [
            "Archive:  /content/drive/My Drive/Colab Notebooks/datasets/project_image_binary.zip\n",
            "   creating: project_image_binary/\n",
            "   creating: project_image_binary/test/\n",
            "   creating: project_image_binary/test/best/\n",
            "  inflating: project_image_binary/test/best/Selfie45591.jpg  \n",
            "  inflating: project_image_binary/test/best/Selfie45592.jpg  \n",
            "  inflating: project_image_binary/test/best/Selfie45601.jpg  \n",
            "  inflating: project_image_binary/test/best/Selfie45973.jpg  \n",
            "  inflating: project_image_binary/test/best/Selfie45980.jpg  \n",
            "  inflating: project_image_binary/test/best/Selfie46324.jpg  \n",
            "  inflating: project_image_binary/test/best/Selfie46518.jpg  \n",
            "  inflating: project_image_binary/test/best/sfghjk.jpg  \n",
            "  inflating: project_image_binary/test/best/trgjk,m..jpg  \n",
            "  inflating: project_image_binary/test/best/unnamed (1).jpg  \n",
            " extracting: project_image_binary/test/best/unnamed (2).jpg  \n",
            "  inflating: project_image_binary/test/best/unnamed (4).jpg  \n",
            "  inflating: project_image_binary/test/best/unnamed.jpg  \n",
            "  inflating: project_image_binary/test/best/Y7JleWie_400x400.jpg  \n",
            " extracting: project_image_binary/test/best/▒╫╕▓1.png  \n",
            "  inflating: project_image_binary/test/best/┤┘┐ю╖╬╡х (1).jpg  \n",
            "  inflating: project_image_binary/test/best/┤┘┐ю╖╬╡х (2).jpg  \n",
            "  inflating: project_image_binary/test/best/┤┘┐ю╖╬╡х (3).jpg  \n",
            "  inflating: project_image_binary/test/best/┤┘┐ю╖╬╡х (4).jpg  \n",
            "  inflating: project_image_binary/test/best/┤┘┐ю╖╬╡х (5).jpg  \n",
            "  inflating: project_image_binary/test/best/┤┘┐ю╖╬╡х (6).jpg  \n",
            "  inflating: project_image_binary/test/best/┤┘┐ю╖╬╡х (7).jpg  \n",
            "  inflating: project_image_binary/test/best/┤┘┐ю╖╬╡х.jpg  \n",
            "   creating: project_image_binary/test/worst/\n",
            "  inflating: project_image_binary/test/worst/8ywu7d44ari1l84309bv.jpg  \n",
            "  inflating: project_image_binary/test/worst/article_17092905293045.jpg  \n",
            "  inflating: project_image_binary/test/worst/buns-out-bad-selfies.jpg  \n",
            "  inflating: project_image_binary/test/worst/htk3av8541d5g679dstl.jpg  \n",
            "  inflating: project_image_binary/test/worst/images (1).jpg  \n",
            "  inflating: project_image_binary/test/worst/images (2).jpg  \n",
            "  inflating: project_image_binary/test/worst/images (3).jpg  \n",
            "  inflating: project_image_binary/test/worst/images.jpg  \n",
            " extracting: project_image_binary/test/worst/IMG_5849.jpg  \n",
            "  inflating: project_image_binary/test/worst/my-other-kardashian-selfie-i-call-this-one-my-khloe-big-ass-earring-look-i-need-to-get-my-roots-done-but-the-paste-doenst-look-half-bad.jpg  \n",
            "  inflating: project_image_binary/test/worst/NonSelfie104.jpg  \n",
            "  inflating: project_image_binary/test/worst/NonSelfie112.jpg  \n",
            "  inflating: project_image_binary/test/worst/NonSelfie122.jpg  \n",
            "  inflating: project_image_binary/test/worst/NonSelfie127.jpg  \n",
            "  inflating: project_image_binary/test/worst/NonSelfie133.jpg  \n",
            "  inflating: project_image_binary/test/worst/NonSelfie213.jpg  \n",
            "  inflating: project_image_binary/test/worst/NonSelfie216.jpg  \n",
            "  inflating: project_image_binary/test/worst/NonSelfie255.jpg  \n",
            "  inflating: project_image_binary/test/worst/NonSelfie264.jpg  \n",
            "  inflating: project_image_binary/test/worst/NonSelfie28.jpg  \n",
            "  inflating: project_image_binary/test/worst/NonSelfie61.jpg  \n",
            "  inflating: project_image_binary/test/worst/NonSelfie7 ║╣╗ч║╗.jpg  \n",
            "  inflating: project_image_binary/test/worst/unnamed.jpg  \n",
            "  inflating: project_image_binary/test/worst/vfuokVT.jpg  \n",
            "  inflating: project_image_binary/test/worst/_1q63enfqg4n48xir19u6.jpg  \n",
            "  inflating: project_image_binary/test/worst/┤┘┐ю╖╬╡х (1).jpg  \n",
            "  inflating: project_image_binary/test/worst/┤┘┐ю╖╬╡х.jpg  \n",
            "   creating: project_image_binary/train/\n",
            "   creating: project_image_binary/train/best/\n",
            "  inflating: project_image_binary/train/best/03aa482046bb15181ddef444cb672cd4.jpg  \n",
            "  inflating: project_image_binary/train/best/1.jpg  \n",
            "  inflating: project_image_binary/train/best/11.jpg  \n",
            "  inflating: project_image_binary/train/best/12.jpg  \n",
            "  inflating: project_image_binary/train/best/13.jpg  \n",
            "  inflating: project_image_binary/train/best/14.jpg  \n",
            "  inflating: project_image_binary/train/best/144c8f6ae9ed6475a3014ced1c27e29b.jpg  \n",
            "  inflating: project_image_binary/train/best/15.jpg  \n",
            "  inflating: project_image_binary/train/best/16.jpg  \n",
            "  inflating: project_image_binary/train/best/17.jpg  \n",
            "  inflating: project_image_binary/train/best/18.jpg  \n",
            "  inflating: project_image_binary/train/best/19.jpg  \n",
            "  inflating: project_image_binary/train/best/2.jpg  \n",
            "  inflating: project_image_binary/train/best/20.jpg  \n",
            "  inflating: project_image_binary/train/best/20190108001108277_1546913586_1.jpg  \n",
            "  inflating: project_image_binary/train/best/2019092421430080830_1569328980.jpg  \n",
            "  inflating: project_image_binary/train/best/24434e30943f4c5fb2f9b6389f785261.jpg  \n",
            "  inflating: project_image_binary/train/best/2D479806-9529-47B1-BB0A-0A9C29664E1A_4_5005_c.jpeg  \n",
            "  inflating: project_image_binary/train/best/3.jpg  \n",
            "  inflating: project_image_binary/train/best/4.jpg  \n",
            "  inflating: project_image_binary/train/best/41F0206D-B4AB-422C-96AF-52DFD35EE699_4_5005_c.jpeg  \n",
            "  inflating: project_image_binary/train/best/43817587_170409877227310_412987427192693303_n.jpg  \n",
            "  inflating: project_image_binary/train/best/4C9AEF9D-D03A-4C19-B989-3CE1E04EBE2C_4_5005_c.jpeg  \n",
            "  inflating: project_image_binary/train/best/5.jpg  \n",
            "  inflating: project_image_binary/train/best/6.jpg  \n",
            "  inflating: project_image_binary/train/best/665734_370720_5030.jpg  \n",
            "  inflating: project_image_binary/train/best/6m9d7y6vrmm4x5t0373d.jpg  \n",
            "  inflating: project_image_binary/train/best/7.jpg  \n",
            "  inflating: project_image_binary/train/best/7EF7EFC5-204A-4E34-8ECF-E81661D750B7_1_201_a.jpeg  \n",
            "  inflating: project_image_binary/train/best/8.jpg  \n",
            "  inflating: project_image_binary/train/best/9.jpg  \n",
            "  inflating: project_image_binary/train/best/992AAF455FC20EDF22.jpg  \n",
            "  inflating: project_image_binary/train/best/ab6d3dfa2198478b5a6236e6cd971824.jpg  \n",
            "  inflating: project_image_binary/train/best/AF570306-D62B-4B60-8811-27FD561AF982_4_5005_c.jpeg  \n",
            "  inflating: project_image_binary/train/best/b1j9636220kk30.png  \n",
            "  inflating: project_image_binary/train/best/BB1bANSc.jpg  \n",
            "  inflating: project_image_binary/train/best/cca4aa2bedd0b9035dca75d55d8493ad.jpg  \n",
            "  inflating: project_image_binary/train/best/d4c89490e8f11d3c7c8857b8d73c9fec.jpg  \n",
            " extracting: project_image_binary/train/best/d_a48Ud018svc1h3b67o9bbq6v_49631m.jpg  \n",
            "  inflating: project_image_binary/train/best/EU6RLAQUYAAeY_Y.jpg  \n",
            "  inflating: project_image_binary/train/best/F43DA2CD-11B4-4A36-A060-BCD81A23C13E_4_5005_c.jpeg  \n",
            " extracting: project_image_binary/train/best/Facetune_17-03-2019-23-35-13.jpg  \n",
            "  inflating: project_image_binary/train/best/images (1).jpg  \n",
            "  inflating: project_image_binary/train/best/images (10).jpg  \n",
            "  inflating: project_image_binary/train/best/images (2).jpg  \n",
            "  inflating: project_image_binary/train/best/images (3).jpg  \n",
            "  inflating: project_image_binary/train/best/images (4).jpg  \n",
            "  inflating: project_image_binary/train/best/images (5).jpg  \n",
            "  inflating: project_image_binary/train/best/images (6).jpg  \n",
            "  inflating: project_image_binary/train/best/images (7).jpg  \n",
            "  inflating: project_image_binary/train/best/images (8).jpg  \n",
            "  inflating: project_image_binary/train/best/images (9).jpg  \n",
            "  inflating: project_image_binary/train/best/images.jpg  \n",
            "  inflating: project_image_binary/train/best/IMG_8280.jpg  \n",
            "  inflating: project_image_binary/train/best/khjg.jpg  \n",
            "  inflating: project_image_binary/train/best/NonSelfie1221.jpg  \n",
            "  inflating: project_image_binary/train/best/NonSelfie1475.jpg  \n",
            "  inflating: project_image_binary/train/best/Selfie12.jpg  \n",
            "  inflating: project_image_binary/train/best/Selfie133.jpg  \n",
            "  inflating: project_image_binary/train/best/Selfie1380.jpg  \n",
            "  inflating: project_image_binary/train/best/Selfie1406.jpg  \n",
            "  inflating: project_image_binary/train/best/Selfie1531.jpg  \n",
            "  inflating: project_image_binary/train/best/Selfie271.jpg  \n",
            "  inflating: project_image_binary/train/best/Selfie39091.jpg  \n",
            "  inflating: project_image_binary/train/best/Selfie39392.jpg  \n",
            "  inflating: project_image_binary/train/best/Selfie39454.jpg  \n",
            "  inflating: project_image_binary/train/best/Selfie42929.jpg  \n",
            "  inflating: project_image_binary/train/best/Selfie42931.jpg  \n",
            "  inflating: project_image_binary/train/best/Selfie43000.jpg  \n",
            "  inflating: project_image_binary/train/best/Selfie43326.jpg  \n",
            "  inflating: project_image_binary/train/best/Selfie435.jpg  \n",
            "  inflating: project_image_binary/train/best/Selfie44376.jpg  \n",
            "  inflating: project_image_binary/train/best/Selfie44563.jpg  \n",
            "  inflating: project_image_binary/train/best/Selfie44831.jpg  \n",
            "  inflating: project_image_binary/train/best/Selfie44858.jpg  \n",
            "  inflating: project_image_binary/train/best/Selfie47.jpg  \n",
            "  inflating: project_image_binary/train/best/Selfie523.jpg  \n",
            "  inflating: project_image_binary/train/best/Selfie570.jpg  \n",
            "  inflating: project_image_binary/train/best/Selfie690.jpg  \n",
            "  inflating: project_image_binary/train/best/Selfie90.jpg  \n",
            "   creating: project_image_binary/train/worst/\n",
            "  inflating: project_image_binary/train/worst/NonSelfie1004.jpg  \n",
            "  inflating: project_image_binary/train/worst/NonSelfie1111.jpg  \n",
            "  inflating: project_image_binary/train/worst/NonSelfie1188.jpg  \n",
            "  inflating: project_image_binary/train/worst/NonSelfie1244.jpg  \n",
            "  inflating: project_image_binary/train/worst/NonSelfie1355.jpg  \n",
            "  inflating: project_image_binary/train/worst/NonSelfie1746.jpg  \n",
            "  inflating: project_image_binary/train/worst/NonSelfie268.jpg  \n",
            "  inflating: project_image_binary/train/worst/NonSelfie275.jpg  \n",
            "  inflating: project_image_binary/train/worst/NonSelfie278.jpg  \n",
            "  inflating: project_image_binary/train/worst/NonSelfie283.jpg  \n",
            "  inflating: project_image_binary/train/worst/NonSelfie323.jpg  \n",
            "  inflating: project_image_binary/train/worst/NonSelfie328.jpg  \n",
            "  inflating: project_image_binary/train/worst/NonSelfie335.jpg  \n",
            "  inflating: project_image_binary/train/worst/NonSelfie337.jpg  \n",
            "  inflating: project_image_binary/train/worst/NonSelfie377.jpg  \n",
            "  inflating: project_image_binary/train/worst/NonSelfie397.jpg  \n",
            "  inflating: project_image_binary/train/worst/NonSelfie410.jpg  \n",
            "  inflating: project_image_binary/train/worst/NonSelfie462.jpg  \n",
            "  inflating: project_image_binary/train/worst/NonSelfie486.jpg  \n",
            "  inflating: project_image_binary/train/worst/NonSelfie532.jpg  \n",
            "  inflating: project_image_binary/train/worst/NonSelfie567.jpg  \n",
            "  inflating: project_image_binary/train/worst/NonSelfie582.jpg  \n",
            "  inflating: project_image_binary/train/worst/NonSelfie628.jpg  \n",
            "  inflating: project_image_binary/train/worst/NonSelfie728.jpg  \n",
            "  inflating: project_image_binary/train/worst/NonSelfie734.jpg  \n",
            "  inflating: project_image_binary/train/worst/NonSelfie783.jpg  \n",
            "  inflating: project_image_binary/train/worst/NonSelfie791.jpg  \n",
            "  inflating: project_image_binary/train/worst/NonSelfie821.jpg  \n",
            "  inflating: project_image_binary/train/worst/NonSelfie829.jpg  \n",
            "  inflating: project_image_binary/train/worst/NonSelfie867.jpg  \n",
            "  inflating: project_image_binary/train/worst/NonSelfie886.jpg  \n",
            "  inflating: project_image_binary/train/worst/q4k49fe77lvwe0mh0r97.jpg  \n",
            "  inflating: project_image_binary/train/worst/Selfie102.jpg  \n",
            "  inflating: project_image_binary/train/worst/Selfie145.jpg  \n",
            "  inflating: project_image_binary/train/worst/Selfie20.jpg  \n",
            "  inflating: project_image_binary/train/worst/Selfie205.jpg  \n",
            "  inflating: project_image_binary/train/worst/Selfie241.jpg  \n",
            "  inflating: project_image_binary/train/worst/Selfie262.jpg  \n",
            "  inflating: project_image_binary/train/worst/Selfie27.jpg  \n",
            "  inflating: project_image_binary/train/worst/Selfie305.jpg  \n",
            "  inflating: project_image_binary/train/worst/Selfie330.jpg  \n",
            "  inflating: project_image_binary/train/worst/Selfie4.jpg  \n",
            "  inflating: project_image_binary/train/worst/Selfie43465.jpg  \n",
            "  inflating: project_image_binary/train/worst/Selfie43475.jpg  \n",
            "  inflating: project_image_binary/train/worst/Selfie43558.jpg  \n",
            "  inflating: project_image_binary/train/worst/Selfie43588.jpg  \n",
            "  inflating: project_image_binary/train/worst/Selfie43617.jpg  \n",
            "  inflating: project_image_binary/train/worst/Selfie43676.jpg  \n",
            "  inflating: project_image_binary/train/worst/Selfie43683.jpg  \n",
            "  inflating: project_image_binary/train/worst/Selfie43694.jpg  \n",
            "  inflating: project_image_binary/train/worst/Selfie43704.jpg  \n",
            "  inflating: project_image_binary/train/worst/Selfie43727.jpg  \n",
            "  inflating: project_image_binary/train/worst/Selfie43785.jpg  \n",
            "  inflating: project_image_binary/train/worst/Selfie43934.jpg  \n",
            "  inflating: project_image_binary/train/worst/Selfie44024.jpg  \n",
            "  inflating: project_image_binary/train/worst/Selfie44055.jpg  \n",
            "  inflating: project_image_binary/train/worst/Selfie44209.jpg  \n",
            "  inflating: project_image_binary/train/worst/Selfie44271.jpg  \n",
            "  inflating: project_image_binary/train/worst/Selfie44331.jpg  \n",
            "  inflating: project_image_binary/train/worst/Selfie44478.jpg  \n",
            "  inflating: project_image_binary/train/worst/Selfie44812.jpg  \n",
            "  inflating: project_image_binary/train/worst/Selfie44834.jpg  \n",
            "  inflating: project_image_binary/train/worst/Selfie44837.jpg  \n",
            "  inflating: project_image_binary/train/worst/Selfie45462.jpg  \n",
            "  inflating: project_image_binary/train/worst/Selfie45556.jpg  \n",
            "  inflating: project_image_binary/train/worst/Selfie45596.jpg  \n",
            "  inflating: project_image_binary/train/worst/Selfie45792.jpg  \n",
            "  inflating: project_image_binary/train/worst/Selfie45905.jpg  \n",
            "  inflating: project_image_binary/train/worst/Selfie45914.jpg  \n",
            "  inflating: project_image_binary/train/worst/Selfie45941.jpg  \n",
            "  inflating: project_image_binary/train/worst/Selfie46088.jpg  \n",
            "  inflating: project_image_binary/train/worst/Selfie46095.jpg  \n",
            "  inflating: project_image_binary/train/worst/Selfie46113.jpg  \n",
            "  inflating: project_image_binary/train/worst/Selfie46115.jpg  \n",
            "  inflating: project_image_binary/train/worst/Selfie46274.jpg  \n",
            "  inflating: project_image_binary/train/worst/Selfie46277.jpg  \n",
            "  inflating: project_image_binary/train/worst/Selfie46285.jpg  \n",
            "  inflating: project_image_binary/train/worst/Selfie46299.jpg  \n",
            "  inflating: project_image_binary/train/worst/Selfie46301.jpg  \n",
            "  inflating: project_image_binary/train/worst/Selfie46341.jpg  \n",
            "  inflating: project_image_binary/train/worst/Selfie46344.jpg  \n",
            "  inflating: project_image_binary/train/worst/Selfie46348.jpg  \n",
            "  inflating: project_image_binary/train/worst/Selfie49.jpg  \n",
            "  inflating: project_image_binary/train/worst/Selfie492.jpg  \n",
            "  inflating: project_image_binary/train/worst/Selfie535.jpg  \n",
            "  inflating: project_image_binary/train/worst/Selfie565.jpg  \n",
            "  inflating: project_image_binary/train/worst/Selfie7.jpg  \n"
          ],
          "name": "stdout"
        }
      ]
    },
    {
      "cell_type": "code",
      "metadata": {
        "id": "hA5xPYY-4zNR"
      },
      "source": [
        "train_dir = 'project_image_binary/train'\n",
        "test_dir = 'project_image_binary/test'"
      ],
      "execution_count": null,
      "outputs": []
    },
    {
      "cell_type": "code",
      "metadata": {
        "colab": {
          "base_uri": "https://localhost:8080/"
        },
        "id": "Oh6qIGpg2SC8",
        "outputId": "c4e172dc-be03-44a4-8b99-b705fdb0fce3"
      },
      "source": [
        "from keras.preprocessing.image import ImageDataGenerator\n",
        "train_datagen = ImageDataGenerator(rescale = 1./255, rotation_range = 40,width_shift_range = 0.2, height_shift_range = 0.2, \n",
        "                             shear_range = 0.2, zoom_range = 0.2,horizontal_flip = True,vertical_flip = True,\n",
        "                             fill_mode = 'nearest')\n",
        "test_datagen = ImageDataGenerator(rescale = 1./255)\n",
        "\n",
        "\n",
        "train_generator = train_datagen.flow_from_directory(train_dir,target_size = (150, 150),\n",
        "                                                    batch_size = 50,class_mode = 'binary')\n",
        "\n",
        "test_generator = test_datagen.flow_from_directory(test_dir,target_size = (150, 150),\n",
        "                                                    batch_size = 50,class_mode = 'binary')"
      ],
      "execution_count": null,
      "outputs": [
        {
          "output_type": "stream",
          "text": [
            "Found 167 images belonging to 2 classes.\n",
            "Found 50 images belonging to 2 classes.\n"
          ],
          "name": "stdout"
        }
      ]
    },
    {
      "cell_type": "code",
      "metadata": {
        "colab": {
          "base_uri": "https://localhost:8080/"
        },
        "id": "9rjDY8Sk6hrp",
        "outputId": "4d02c50d-5d38-4059-ca23-b86832926fb6"
      },
      "source": [
        "from keras import layers\n",
        "from keras import models\n",
        "\n",
        "model = models.Sequential()\n",
        "model.add(layers.Conv2D(32, (3, 3), activation = 'relu', input_shape = (150, 150, 3)))\n",
        "model.add(layers.Dropout(0.5))\n",
        "model.add(layers.Conv2D(64, (3, 3), activation = 'relu'))\n",
        "model.add(layers.MaxPooling2D((2, 2)))\n",
        "model.add(layers.Dropout(0.5))\n",
        "model.add(layers.Conv2D(64, (3, 3), activation = 'relu'))\n",
        "model.add(layers.Dropout(0.5))\n",
        "model.add(layers.MaxPooling2D((2, 2)))\n",
        "model.add(layers.Conv2D(128, (3, 3), activation = 'relu'))\n",
        "model.add(layers.Dropout(0.5))\n",
        "model.add(layers.Conv2D(128, (3, 3), activation = 'relu'))\n",
        "model.add(layers.MaxPooling2D((2, 2)))\n",
        "\n",
        "model.add(layers.Flatten())\n",
        "model.add(layers.Dropout(0.5))\n",
        "model.add(layers.Dense(512, activation = 'relu'))\n",
        "model.add(layers.Dense(1, activation = 'sigmoid'))\n",
        "\n",
        "model.summary()\n",
        "\n",
        "model.compile(loss = 'binary_crossentropy', optimizer = 'adam', metrics = ['accuracy'])"
      ],
      "execution_count": null,
      "outputs": [
        {
          "output_type": "stream",
          "text": [
            "Model: \"sequential_5\"\n",
            "_________________________________________________________________\n",
            "Layer (type)                 Output Shape              Param #   \n",
            "=================================================================\n",
            "conv2d_23 (Conv2D)           (None, 148, 148, 32)      896       \n",
            "_________________________________________________________________\n",
            "dropout_21 (Dropout)         (None, 148, 148, 32)      0         \n",
            "_________________________________________________________________\n",
            "conv2d_24 (Conv2D)           (None, 146, 146, 64)      18496     \n",
            "_________________________________________________________________\n",
            "max_pooling2d_7 (MaxPooling2 (None, 73, 73, 64)        0         \n",
            "_________________________________________________________________\n",
            "dropout_22 (Dropout)         (None, 73, 73, 64)        0         \n",
            "_________________________________________________________________\n",
            "conv2d_25 (Conv2D)           (None, 71, 71, 64)        36928     \n",
            "_________________________________________________________________\n",
            "dropout_23 (Dropout)         (None, 71, 71, 64)        0         \n",
            "_________________________________________________________________\n",
            "max_pooling2d_8 (MaxPooling2 (None, 35, 35, 64)        0         \n",
            "_________________________________________________________________\n",
            "conv2d_26 (Conv2D)           (None, 33, 33, 128)       73856     \n",
            "_________________________________________________________________\n",
            "dropout_24 (Dropout)         (None, 33, 33, 128)       0         \n",
            "_________________________________________________________________\n",
            "conv2d_27 (Conv2D)           (None, 31, 31, 128)       147584    \n",
            "_________________________________________________________________\n",
            "max_pooling2d_9 (MaxPooling2 (None, 15, 15, 128)       0         \n",
            "_________________________________________________________________\n",
            "flatten_5 (Flatten)          (None, 28800)             0         \n",
            "_________________________________________________________________\n",
            "dropout_25 (Dropout)         (None, 28800)             0         \n",
            "_________________________________________________________________\n",
            "dense_8 (Dense)              (None, 512)               14746112  \n",
            "_________________________________________________________________\n",
            "dense_9 (Dense)              (None, 1)                 513       \n",
            "=================================================================\n",
            "Total params: 15,024,385\n",
            "Trainable params: 15,024,385\n",
            "Non-trainable params: 0\n",
            "_________________________________________________________________\n"
          ],
          "name": "stdout"
        }
      ]
    },
    {
      "cell_type": "code",
      "metadata": {
        "colab": {
          "base_uri": "https://localhost:8080/"
        },
        "id": "lHtWwAiU8CvF",
        "outputId": "cae64897-bda0-41b2-88af-540c39d90e07"
      },
      "source": [
        "167 /50"
      ],
      "execution_count": null,
      "outputs": [
        {
          "output_type": "execute_result",
          "data": {
            "text/plain": [
              "3.34"
            ]
          },
          "metadata": {
            "tags": []
          },
          "execution_count": 21
        }
      ]
    },
    {
      "cell_type": "code",
      "metadata": {
        "colab": {
          "base_uri": "https://localhost:8080/"
        },
        "id": "WiDIuSX37f9t",
        "outputId": "95cc5b71-f24f-4c3b-f5f4-d64167ad1f04"
      },
      "source": [
        "%%time\n",
        "Hist_dandc = model.fit(train_generator, steps_per_epoch = 3,\n",
        "                       epochs = 100,validation_data = test_generator)"
      ],
      "execution_count": null,
      "outputs": [
        {
          "output_type": "stream",
          "text": [
            "Epoch 1/100\n",
            "3/3 [==============================] - 35s 1s/step - loss: 7.3278 - accuracy: 0.5471 - val_loss: 0.6931 - val_accuracy: 0.5400\n",
            "Epoch 2/100\n",
            "3/3 [==============================] - 2s 543ms/step - loss: 0.7156 - accuracy: 0.5592 - val_loss: 0.6933 - val_accuracy: 0.4600\n",
            "Epoch 3/100\n",
            "3/3 [==============================] - 2s 674ms/step - loss: 0.7085 - accuracy: 0.4658 - val_loss: 0.6933 - val_accuracy: 0.4600\n",
            "Epoch 4/100\n",
            "3/3 [==============================] - 2s 707ms/step - loss: 0.6991 - accuracy: 0.4592 - val_loss: 0.6932 - val_accuracy: 0.4600\n",
            "Epoch 5/100\n",
            "3/3 [==============================] - 2s 688ms/step - loss: 0.6971 - accuracy: 0.4517 - val_loss: 0.6932 - val_accuracy: 0.4600\n",
            "Epoch 6/100\n",
            "3/3 [==============================] - 2s 813ms/step - loss: 0.6925 - accuracy: 0.5078 - val_loss: 0.6932 - val_accuracy: 0.4600\n",
            "Epoch 7/100\n",
            "3/3 [==============================] - 2s 610ms/step - loss: 0.6936 - accuracy: 0.4629 - val_loss: 0.6931 - val_accuracy: 0.5400\n",
            "Epoch 8/100\n",
            "3/3 [==============================] - 2s 818ms/step - loss: 0.6921 - accuracy: 0.5119 - val_loss: 0.6931 - val_accuracy: 0.5400\n",
            "Epoch 9/100\n",
            "3/3 [==============================] - 2s 796ms/step - loss: 0.6932 - accuracy: 0.4462 - val_loss: 0.6931 - val_accuracy: 0.5400\n",
            "Epoch 10/100\n",
            "3/3 [==============================] - 2s 715ms/step - loss: 0.6934 - accuracy: 0.4917 - val_loss: 0.6930 - val_accuracy: 0.5400\n",
            "Epoch 11/100\n",
            "3/3 [==============================] - 2s 638ms/step - loss: 0.6929 - accuracy: 0.5843 - val_loss: 0.6930 - val_accuracy: 0.5400\n",
            "Epoch 12/100\n",
            "3/3 [==============================] - 2s 573ms/step - loss: 0.6928 - accuracy: 0.5423 - val_loss: 0.6930 - val_accuracy: 0.5400\n",
            "Epoch 13/100\n",
            "3/3 [==============================] - 2s 580ms/step - loss: 0.6931 - accuracy: 0.5425 - val_loss: 0.6930 - val_accuracy: 0.5400\n",
            "Epoch 14/100\n",
            "3/3 [==============================] - 2s 570ms/step - loss: 0.6931 - accuracy: 0.5642 - val_loss: 0.6929 - val_accuracy: 0.5400\n",
            "Epoch 15/100\n",
            "3/3 [==============================] - 2s 548ms/step - loss: 0.6930 - accuracy: 0.5831 - val_loss: 0.6929 - val_accuracy: 0.5400\n",
            "Epoch 16/100\n",
            "3/3 [==============================] - 2s 577ms/step - loss: 0.6930 - accuracy: 0.5071 - val_loss: 0.6928 - val_accuracy: 0.5400\n",
            "Epoch 17/100\n",
            "3/3 [==============================] - 2s 681ms/step - loss: 0.6930 - accuracy: 0.5217 - val_loss: 0.6928 - val_accuracy: 0.5400\n",
            "Epoch 18/100\n",
            "3/3 [==============================] - 2s 680ms/step - loss: 0.6930 - accuracy: 0.5000 - val_loss: 0.6928 - val_accuracy: 0.5400\n",
            "Epoch 19/100\n",
            "3/3 [==============================] - 2s 566ms/step - loss: 0.6926 - accuracy: 0.5334 - val_loss: 0.6927 - val_accuracy: 0.5400\n",
            "Epoch 20/100\n",
            "3/3 [==============================] - 2s 704ms/step - loss: 0.6928 - accuracy: 0.5367 - val_loss: 0.6927 - val_accuracy: 0.5400\n",
            "Epoch 21/100\n",
            "3/3 [==============================] - 2s 579ms/step - loss: 0.6929 - accuracy: 0.5265 - val_loss: 0.6926 - val_accuracy: 0.5400\n",
            "Epoch 22/100\n",
            "3/3 [==============================] - 2s 613ms/step - loss: 0.6927 - accuracy: 0.5324 - val_loss: 0.6926 - val_accuracy: 0.5400\n",
            "Epoch 23/100\n",
            "3/3 [==============================] - 2s 806ms/step - loss: 0.6925 - accuracy: 0.5653 - val_loss: 0.6926 - val_accuracy: 0.5400\n",
            "Epoch 24/100\n",
            "3/3 [==============================] - 2s 797ms/step - loss: 0.6930 - accuracy: 0.5009 - val_loss: 0.6926 - val_accuracy: 0.5400\n",
            "Epoch 25/100\n",
            "3/3 [==============================] - 2s 600ms/step - loss: 0.6930 - accuracy: 0.5218 - val_loss: 0.6925 - val_accuracy: 0.5400\n",
            "Epoch 26/100\n",
            "3/3 [==============================] - 2s 564ms/step - loss: 0.6936 - accuracy: 0.4511 - val_loss: 0.6925 - val_accuracy: 0.5400\n",
            "Epoch 27/100\n",
            "3/3 [==============================] - 2s 542ms/step - loss: 0.6929 - accuracy: 0.5064 - val_loss: 0.6925 - val_accuracy: 0.5400\n",
            "Epoch 28/100\n",
            "3/3 [==============================] - 2s 637ms/step - loss: 0.6926 - accuracy: 0.5300 - val_loss: 0.6925 - val_accuracy: 0.5400\n",
            "Epoch 29/100\n",
            "3/3 [==============================] - 2s 788ms/step - loss: 0.6931 - accuracy: 0.4715 - val_loss: 0.6925 - val_accuracy: 0.5400\n",
            "Epoch 30/100\n",
            "3/3 [==============================] - 2s 551ms/step - loss: 0.6928 - accuracy: 0.5139 - val_loss: 0.6924 - val_accuracy: 0.5400\n",
            "Epoch 31/100\n",
            "3/3 [==============================] - 2s 560ms/step - loss: 0.6926 - accuracy: 0.5435 - val_loss: 0.6924 - val_accuracy: 0.5400\n",
            "Epoch 32/100\n",
            "3/3 [==============================] - 2s 743ms/step - loss: 0.6926 - accuracy: 0.5765 - val_loss: 0.6924 - val_accuracy: 0.5400\n",
            "Epoch 33/100\n",
            "3/3 [==============================] - 2s 581ms/step - loss: 0.6930 - accuracy: 0.5430 - val_loss: 0.6924 - val_accuracy: 0.5400\n",
            "Epoch 34/100\n",
            "3/3 [==============================] - 2s 746ms/step - loss: 0.6918 - accuracy: 0.5316 - val_loss: 0.6923 - val_accuracy: 0.5400\n",
            "Epoch 35/100\n",
            "3/3 [==============================] - 2s 768ms/step - loss: 0.6942 - accuracy: 0.4718 - val_loss: 0.6923 - val_accuracy: 0.5400\n",
            "Epoch 36/100\n",
            "3/3 [==============================] - 2s 661ms/step - loss: 0.6923 - accuracy: 0.5633 - val_loss: 0.6923 - val_accuracy: 0.5400\n",
            "Epoch 37/100\n",
            "3/3 [==============================] - 2s 679ms/step - loss: 0.6928 - accuracy: 0.5342 - val_loss: 0.6922 - val_accuracy: 0.5400\n",
            "Epoch 38/100\n",
            "3/3 [==============================] - 2s 682ms/step - loss: 0.6918 - accuracy: 0.6250 - val_loss: 0.6922 - val_accuracy: 0.5400\n",
            "Epoch 39/100\n",
            "3/3 [==============================] - 2s 706ms/step - loss: 0.6925 - accuracy: 0.5225 - val_loss: 0.6921 - val_accuracy: 0.5400\n",
            "Epoch 40/100\n",
            "3/3 [==============================] - 2s 833ms/step - loss: 0.6927 - accuracy: 0.5039 - val_loss: 0.6921 - val_accuracy: 0.5400\n",
            "Epoch 41/100\n",
            "3/3 [==============================] - 2s 790ms/step - loss: 0.6918 - accuracy: 0.5341 - val_loss: 0.6920 - val_accuracy: 0.5400\n",
            "Epoch 42/100\n",
            "3/3 [==============================] - 2s 565ms/step - loss: 0.6921 - accuracy: 0.5289 - val_loss: 0.6920 - val_accuracy: 0.5400\n",
            "Epoch 43/100\n",
            "3/3 [==============================] - 2s 571ms/step - loss: 0.6925 - accuracy: 0.5260 - val_loss: 0.6919 - val_accuracy: 0.5400\n",
            "Epoch 44/100\n",
            "3/3 [==============================] - 2s 583ms/step - loss: 0.6921 - accuracy: 0.5759 - val_loss: 0.6919 - val_accuracy: 0.5400\n",
            "Epoch 45/100\n",
            "3/3 [==============================] - 2s 785ms/step - loss: 0.6908 - accuracy: 0.6312 - val_loss: 0.6918 - val_accuracy: 0.5400\n",
            "Epoch 46/100\n",
            "3/3 [==============================] - 2s 593ms/step - loss: 0.6911 - accuracy: 0.6038 - val_loss: 0.6918 - val_accuracy: 0.5400\n",
            "Epoch 47/100\n",
            "3/3 [==============================] - 2s 580ms/step - loss: 0.6938 - accuracy: 0.4971 - val_loss: 0.6918 - val_accuracy: 0.5400\n",
            "Epoch 48/100\n",
            "3/3 [==============================] - 2s 541ms/step - loss: 0.6925 - accuracy: 0.5467 - val_loss: 0.6917 - val_accuracy: 0.5400\n",
            "Epoch 49/100\n",
            "3/3 [==============================] - 2s 526ms/step - loss: 0.6922 - accuracy: 0.5189 - val_loss: 0.6917 - val_accuracy: 0.5400\n",
            "Epoch 50/100\n",
            "3/3 [==============================] - 2s 557ms/step - loss: 0.6910 - accuracy: 0.5621 - val_loss: 0.6916 - val_accuracy: 0.5400\n",
            "Epoch 51/100\n",
            "3/3 [==============================] - 2s 568ms/step - loss: 0.6928 - accuracy: 0.5056 - val_loss: 0.6916 - val_accuracy: 0.5400\n",
            "Epoch 52/100\n",
            "3/3 [==============================] - 2s 616ms/step - loss: 0.6922 - accuracy: 0.5304 - val_loss: 0.6916 - val_accuracy: 0.5400\n",
            "Epoch 53/100\n",
            "3/3 [==============================] - 2s 526ms/step - loss: 0.6935 - accuracy: 0.4946 - val_loss: 0.6916 - val_accuracy: 0.5400\n",
            "Epoch 54/100\n",
            "3/3 [==============================] - 2s 543ms/step - loss: 0.6948 - accuracy: 0.4550 - val_loss: 0.6916 - val_accuracy: 0.5400\n",
            "Epoch 55/100\n",
            "3/3 [==============================] - 2s 634ms/step - loss: 0.6917 - accuracy: 0.5387 - val_loss: 0.6916 - val_accuracy: 0.5400\n",
            "Epoch 56/100\n",
            "3/3 [==============================] - 2s 593ms/step - loss: 0.6912 - accuracy: 0.5521 - val_loss: 0.6916 - val_accuracy: 0.5400\n",
            "Epoch 57/100\n",
            "3/3 [==============================] - 2s 574ms/step - loss: 0.6928 - accuracy: 0.5015 - val_loss: 0.6915 - val_accuracy: 0.5400\n",
            "Epoch 58/100\n",
            "3/3 [==============================] - 2s 572ms/step - loss: 0.6926 - accuracy: 0.5183 - val_loss: 0.6915 - val_accuracy: 0.5400\n",
            "Epoch 59/100\n",
            "3/3 [==============================] - 2s 625ms/step - loss: 0.6920 - accuracy: 0.5111 - val_loss: 0.6914 - val_accuracy: 0.5400\n",
            "Epoch 60/100\n",
            "3/3 [==============================] - 2s 585ms/step - loss: 0.6918 - accuracy: 0.5229 - val_loss: 0.6914 - val_accuracy: 0.5400\n",
            "Epoch 61/100\n",
            "3/3 [==============================] - 2s 667ms/step - loss: 0.6909 - accuracy: 0.5542 - val_loss: 0.6913 - val_accuracy: 0.5400\n",
            "Epoch 62/100\n",
            "3/3 [==============================] - 2s 694ms/step - loss: 0.6920 - accuracy: 0.5750 - val_loss: 0.6913 - val_accuracy: 0.5400\n",
            "Epoch 63/100\n",
            "3/3 [==============================] - 2s 768ms/step - loss: 0.6918 - accuracy: 0.5225 - val_loss: 0.6912 - val_accuracy: 0.5400\n",
            "Epoch 64/100\n",
            "3/3 [==============================] - 2s 690ms/step - loss: 0.6918 - accuracy: 0.4708 - val_loss: 0.6912 - val_accuracy: 0.5400\n",
            "Epoch 65/100\n",
            "3/3 [==============================] - 2s 575ms/step - loss: 0.6912 - accuracy: 0.5560 - val_loss: 0.6911 - val_accuracy: 0.5400\n",
            "Epoch 66/100\n",
            "3/3 [==============================] - 2s 556ms/step - loss: 0.6907 - accuracy: 0.5521 - val_loss: 0.6911 - val_accuracy: 0.5400\n",
            "Epoch 67/100\n",
            "3/3 [==============================] - 2s 686ms/step - loss: 0.6925 - accuracy: 0.5325 - val_loss: 0.6910 - val_accuracy: 0.5400\n",
            "Epoch 68/100\n",
            "3/3 [==============================] - 2s 643ms/step - loss: 0.6912 - accuracy: 0.5092 - val_loss: 0.6910 - val_accuracy: 0.5400\n",
            "Epoch 69/100\n",
            "3/3 [==============================] - 2s 700ms/step - loss: 0.6916 - accuracy: 0.5075 - val_loss: 0.6909 - val_accuracy: 0.5400\n",
            "Epoch 70/100\n",
            "3/3 [==============================] - 2s 586ms/step - loss: 0.6929 - accuracy: 0.4675 - val_loss: 0.6909 - val_accuracy: 0.5400\n",
            "Epoch 71/100\n",
            "3/3 [==============================] - 2s 663ms/step - loss: 0.6897 - accuracy: 0.6358 - val_loss: 0.6909 - val_accuracy: 0.5400\n",
            "Epoch 72/100\n",
            "3/3 [==============================] - 2s 563ms/step - loss: 0.6931 - accuracy: 0.5485 - val_loss: 0.6909 - val_accuracy: 0.5400\n",
            "Epoch 73/100\n",
            "3/3 [==============================] - 2s 809ms/step - loss: 0.7023 - accuracy: 0.4339 - val_loss: 0.6908 - val_accuracy: 0.5400\n",
            "Epoch 74/100\n",
            "3/3 [==============================] - 2s 600ms/step - loss: 0.6907 - accuracy: 0.5402 - val_loss: 0.6908 - val_accuracy: 0.5400\n",
            "Epoch 75/100\n",
            "3/3 [==============================] - 2s 794ms/step - loss: 0.6920 - accuracy: 0.5191 - val_loss: 0.6907 - val_accuracy: 0.5400\n",
            "Epoch 76/100\n",
            "3/3 [==============================] - 2s 779ms/step - loss: 0.6928 - accuracy: 0.5119 - val_loss: 0.6907 - val_accuracy: 0.5400\n",
            "Epoch 77/100\n",
            "3/3 [==============================] - 2s 685ms/step - loss: 0.6914 - accuracy: 0.5292 - val_loss: 0.6907 - val_accuracy: 0.5400\n",
            "Epoch 78/100\n",
            "3/3 [==============================] - 2s 573ms/step - loss: 0.6895 - accuracy: 0.5378 - val_loss: 0.6907 - val_accuracy: 0.5400\n",
            "Epoch 79/100\n",
            "3/3 [==============================] - 2s 702ms/step - loss: 0.6904 - accuracy: 0.5533 - val_loss: 0.6907 - val_accuracy: 0.5400\n",
            "Epoch 80/100\n",
            "3/3 [==============================] - 2s 799ms/step - loss: 0.6919 - accuracy: 0.5265 - val_loss: 0.6906 - val_accuracy: 0.5400\n",
            "Epoch 81/100\n",
            "3/3 [==============================] - 2s 674ms/step - loss: 0.6903 - accuracy: 0.5267 - val_loss: 0.6906 - val_accuracy: 0.5400\n",
            "Epoch 82/100\n",
            "3/3 [==============================] - 2s 532ms/step - loss: 0.6918 - accuracy: 0.4954 - val_loss: 0.6906 - val_accuracy: 0.5400\n",
            "Epoch 83/100\n",
            "3/3 [==============================] - 2s 770ms/step - loss: 0.6898 - accuracy: 0.5789 - val_loss: 0.6906 - val_accuracy: 0.5400\n",
            "Epoch 84/100\n",
            "3/3 [==============================] - 2s 535ms/step - loss: 0.6941 - accuracy: 0.4561 - val_loss: 0.6906 - val_accuracy: 0.5400\n",
            "Epoch 85/100\n",
            "3/3 [==============================] - 2s 699ms/step - loss: 0.6918 - accuracy: 0.5575 - val_loss: 0.6905 - val_accuracy: 0.5400\n",
            "Epoch 86/100\n",
            "3/3 [==============================] - 2s 721ms/step - loss: 0.6927 - accuracy: 0.5025 - val_loss: 0.6905 - val_accuracy: 0.5400\n",
            "Epoch 87/100\n",
            "3/3 [==============================] - 2s 646ms/step - loss: 0.6895 - accuracy: 0.6275 - val_loss: 0.6905 - val_accuracy: 0.5400\n",
            "Epoch 88/100\n",
            "3/3 [==============================] - 2s 587ms/step - loss: 0.6912 - accuracy: 0.5282 - val_loss: 0.6905 - val_accuracy: 0.5400\n",
            "Epoch 89/100\n",
            "3/3 [==============================] - 2s 699ms/step - loss: 0.6838 - accuracy: 0.5675 - val_loss: 0.6904 - val_accuracy: 0.5400\n",
            "Epoch 90/100\n",
            "3/3 [==============================] - 2s 545ms/step - loss: 0.6905 - accuracy: 0.5229 - val_loss: 0.6904 - val_accuracy: 0.5400\n",
            "Epoch 91/100\n",
            "3/3 [==============================] - 2s 594ms/step - loss: 0.6913 - accuracy: 0.5071 - val_loss: 0.6904 - val_accuracy: 0.5400\n",
            "Epoch 92/100\n",
            "3/3 [==============================] - 2s 776ms/step - loss: 0.6901 - accuracy: 0.6024 - val_loss: 0.6903 - val_accuracy: 0.5400\n",
            "Epoch 93/100\n",
            "3/3 [==============================] - 2s 545ms/step - loss: 0.6889 - accuracy: 0.5603 - val_loss: 0.6903 - val_accuracy: 0.5400\n",
            "Epoch 94/100\n",
            "3/3 [==============================] - 2s 640ms/step - loss: 0.6890 - accuracy: 0.5492 - val_loss: 0.6902 - val_accuracy: 0.5400\n",
            "Epoch 95/100\n",
            "3/3 [==============================] - 2s 698ms/step - loss: 0.6886 - accuracy: 0.5408 - val_loss: 0.6902 - val_accuracy: 0.5400\n",
            "Epoch 96/100\n",
            "3/3 [==============================] - 2s 534ms/step - loss: 0.6943 - accuracy: 0.4854 - val_loss: 0.6902 - val_accuracy: 0.5400\n",
            "Epoch 97/100\n",
            "3/3 [==============================] - 2s 589ms/step - loss: 0.6890 - accuracy: 0.5183 - val_loss: 0.6902 - val_accuracy: 0.5400\n",
            "Epoch 98/100\n",
            "3/3 [==============================] - 2s 581ms/step - loss: 0.6891 - accuracy: 0.5628 - val_loss: 0.6902 - val_accuracy: 0.5400\n",
            "Epoch 99/100\n",
            "3/3 [==============================] - 2s 644ms/step - loss: 0.6848 - accuracy: 0.6134 - val_loss: 0.6902 - val_accuracy: 0.5400\n",
            "Epoch 100/100\n",
            "3/3 [==============================] - 2s 703ms/step - loss: 0.6849 - accuracy: 0.5725 - val_loss: 0.6901 - val_accuracy: 0.5400\n",
            "CPU times: user 4min 1s, sys: 21.5 s, total: 4min 22s\n",
            "Wall time: 3min 46s\n"
          ],
          "name": "stdout"
        }
      ]
    },
    {
      "cell_type": "code",
      "metadata": {
        "colab": {
          "base_uri": "https://localhost:8080/"
        },
        "id": "BaS8F2qt9CjN",
        "outputId": "708a79eb-d53d-422e-9b99-8bf50f0f169b"
      },
      "source": [
        "loss, accuracy = model.evaluate(test_generator)\n",
        "loss, accuracy"
      ],
      "execution_count": null,
      "outputs": [
        {
          "output_type": "stream",
          "text": [
            "1/1 [==============================] - 0s 300ms/step - loss: 0.6901 - accuracy: 0.5400\n"
          ],
          "name": "stdout"
        },
        {
          "output_type": "execute_result",
          "data": {
            "text/plain": [
              "(0.6901451945304871, 0.5400000214576721)"
            ]
          },
          "metadata": {
            "tags": []
          },
          "execution_count": 27
        }
      ]
    },
    {
      "cell_type": "code",
      "metadata": {
        "id": "50270HXz9NGK"
      },
      "source": [
        ""
      ],
      "execution_count": null,
      "outputs": []
    }
  ]
}