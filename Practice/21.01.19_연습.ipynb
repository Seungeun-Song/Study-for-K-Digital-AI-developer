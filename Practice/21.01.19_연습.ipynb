{
 "cells": [
  {
   "cell_type": "markdown",
   "metadata": {},
   "source": [
    "# 2. 변수"
   ]
  },
  {
   "cell_type": "code",
   "execution_count": 5,
   "metadata": {},
   "outputs": [
    {
     "ename": "NameError",
     "evalue": "name 'age' is not defined",
     "output_type": "error",
     "traceback": [
      "\u001b[1;31m---------------------------------------------------------------------------\u001b[0m",
      "\u001b[1;31mNameError\u001b[0m                                 Traceback (most recent call last)",
      "\u001b[1;32m<ipython-input-5-41cd6b7e2b23>\u001b[0m in \u001b[0;36m<module>\u001b[1;34m\u001b[0m\n\u001b[1;32m----> 1\u001b[1;33m \u001b[1;32mif\u001b[0m \u001b[0mage\u001b[0m \u001b[1;33m>\u001b[0m \u001b[1;36m19\u001b[0m\u001b[1;33m:\u001b[0m\u001b[1;33m\u001b[0m\u001b[1;33m\u001b[0m\u001b[0m\n\u001b[0m\u001b[0;32m      2\u001b[0m     \u001b[0mprint\u001b[0m\u001b[1;33m(\u001b[0m\u001b[1;34m\"성인입니다\"\u001b[0m\u001b[1;33m)\u001b[0m\u001b[1;33m\u001b[0m\u001b[1;33m\u001b[0m\u001b[0m\n",
      "\u001b[1;31mNameError\u001b[0m: name 'age' is not defined"
     ]
    }
   ],
   "source": [
    "if age > 19:\n",
    "    print(\"성인입니다\")"
   ]
  },
  {
   "cell_type": "code",
   "execution_count": 4,
   "metadata": {},
   "outputs": [
    {
     "name": "stdout",
     "output_type": "stream",
     "text": [
      "0\n",
      "1\n",
      "2\n",
      "3\n",
      "4\n"
     ]
    }
   ],
   "source": [
    "for a in range(5):\n",
    "    print(a)"
   ]
  },
  {
   "cell_type": "markdown",
   "metadata": {},
   "source": [
    "print(출력내용 [, sep=구분자] [,end=끝문자])"
   ]
  },
  {
   "cell_type": "code",
   "execution_count": 6,
   "metadata": {},
   "outputs": [
    {
     "name": "stdout",
     "output_type": "stream",
     "text": [
      "7\n"
     ]
    }
   ],
   "source": [
    "print(3+4)"
   ]
  },
  {
   "cell_type": "code",
   "execution_count": 8,
   "metadata": {},
   "outputs": [
    {
     "name": "stdout",
     "output_type": "stream",
     "text": [
      "1234\n",
      "2468\n"
     ]
    }
   ],
   "source": [
    "value = 1234\n",
    "print(value)\n",
    "print(value * 2)"
   ]
  },
  {
   "cell_type": "code",
   "execution_count": 9,
   "metadata": {},
   "outputs": [
    {
     "data": {
      "text/plain": [
       "1234"
      ]
     },
     "execution_count": 9,
     "metadata": {},
     "output_type": "execute_result"
    }
   ],
   "source": [
    "value"
   ]
  },
  {
   "cell_type": "code",
   "execution_count": 11,
   "metadata": {},
   "outputs": [
    {
     "name": "stdout",
     "output_type": "stream",
     "text": [
      "7\n",
      "3\n"
     ]
    }
   ],
   "source": [
    "print(3+4)\n",
    "4 * 5   # 무시된다\n",
    "a = 1\n",
    "b = 2\n",
    "print(a + b)"
   ]
  },
  {
   "cell_type": "code",
   "execution_count": 12,
   "metadata": {},
   "outputs": [
    {
     "name": "stdout",
     "output_type": "stream",
     "text": [
      "12 34\n"
     ]
    }
   ],
   "source": [
    "a = 12\n",
    "b = 34\n",
    "print(a, b)"
   ]
  },
  {
   "cell_type": "code",
   "execution_count": 14,
   "metadata": {},
   "outputs": [
    {
     "name": "stdout",
     "output_type": "stream",
     "text": [
      "12,34\n"
     ]
    }
   ],
   "source": [
    "print(a, b, sep =',')"
   ]
  },
  {
   "cell_type": "code",
   "execution_count": 15,
   "metadata": {},
   "outputs": [
    {
     "name": "stdout",
     "output_type": "stream",
     "text": [
      "1234\n"
     ]
    }
   ],
   "source": [
    "print(a, b, sep='')"
   ]
  },
  {
   "cell_type": "code",
   "execution_count": 16,
   "metadata": {},
   "outputs": [
    {
     "name": "stdout",
     "output_type": "stream",
     "text": [
      "12---->34\n"
     ]
    }
   ],
   "source": [
    "print(a, b, sep = '---->')"
   ]
  },
  {
   "cell_type": "code",
   "execution_count": 19,
   "metadata": {},
   "outputs": [
    {
     "name": "stdout",
     "output_type": "stream",
     "text": [
      "서울 찍고, 대전 찍고, 대구 찍고, 부산\n"
     ]
    }
   ],
   "source": [
    "s = '서울'\n",
    "d = '대전'\n",
    "g = '대구'\n",
    "b = '부산'\n",
    "print(s, d, g, b, sep=' 찍고, ')"
   ]
  },
  {
   "cell_type": "code",
   "execution_count": 20,
   "metadata": {},
   "outputs": [
    {
     "name": "stdout",
     "output_type": "stream",
     "text": [
      "강아지\n",
      "고양이\n"
     ]
    }
   ],
   "source": [
    "# 연이은 print 문은 새로운 줄에 출력\n",
    "a = '강아지'\n",
    "b = '고양이'\n",
    "print(a)\n",
    "print(b)"
   ]
  },
  {
   "cell_type": "code",
   "execution_count": 21,
   "metadata": {},
   "outputs": [
    {
     "name": "stdout",
     "output_type": "stream",
     "text": [
      "강아지고양이\n"
     ]
    }
   ],
   "source": [
    "a = '강아지'\n",
    "b = '고양이'\n",
    "print(a, end='')\n",
    "print(b)"
   ]
  },
  {
   "cell_type": "markdown",
   "metadata": {},
   "source": [
    "변수 = input('질문 내용')"
   ]
  },
  {
   "cell_type": "code",
   "execution_count": 25,
   "metadata": {},
   "outputs": [
    {
     "name": "stdout",
     "output_type": "stream",
     "text": [
      "몇 살이세요? 30\n",
      "30\n"
     ]
    }
   ],
   "source": [
    "age = input('몇 살이세요? ')\n",
    "print(age)    # 사용자가 입력한 값을 age 변수에 제대로 입력되었는지 출력한 것."
   ]
  },
  {
   "cell_type": "code",
   "execution_count": 28,
   "metadata": {},
   "outputs": [
    {
     "name": "stdout",
     "output_type": "stream",
     "text": [
      "가격을 입력하세요 : 5000\n",
      "개수를 입력하세요 : 3\n",
      "총액은 15000 원입니다\n"
     ]
    }
   ],
   "source": [
    "# 문제 : 가격을 입력받아 price 변수에 대입하고 개수를 입력받아 num변수에 대입. 총액 계산\n",
    "\n",
    "price = input('가격을 입력하세요 : ')\n",
    "num = input('개수를 입력하세요 : ')\n",
    "sum = int(price) * int(num)\n",
    "print('총액은', sum, '원입니다')"
   ]
  },
  {
   "cell_type": "code",
   "execution_count": 30,
   "metadata": {},
   "outputs": [
    {
     "name": "stdout",
     "output_type": "stream",
     "text": [
      "가격을 입력하세요5000\n",
      "개수를 입력하세요3\n",
      "15000\n"
     ]
    }
   ],
   "source": [
    "price = int(input('가격을 입력하세요'))\n",
    "num = int(input('개수를 입력하세요'))\n",
    "#sum = price * num\n",
    "#print('총액은',sum,'입니다')\n",
    "print('총액은',price * num,'원입니다')"
   ]
  },
  {
   "cell_type": "code",
   "execution_count": 33,
   "metadata": {},
   "outputs": [
    {
     "name": "stdout",
     "output_type": "stream",
     "text": [
      "이름을 입력하세요송승은\n",
      "안녕하세요! 송승은님~\n"
     ]
    }
   ],
   "source": [
    "# 이름을 입력하세요\n",
    "name = input('이름을 입력하세요')\n",
    "print('안녕하세요!', name+'님~')"
   ]
  },
  {
   "cell_type": "code",
   "execution_count": 34,
   "metadata": {},
   "outputs": [],
   "source": [
    "score = 100"
   ]
  },
  {
   "cell_type": "code",
   "execution_count": 35,
   "metadata": {},
   "outputs": [
    {
     "data": {
      "text/plain": [
       "100"
      ]
     },
     "execution_count": 35,
     "metadata": {},
     "output_type": "execute_result"
    }
   ],
   "source": [
    "score"
   ]
  },
  {
   "cell_type": "code",
   "execution_count": 36,
   "metadata": {},
   "outputs": [
    {
     "name": "stdout",
     "output_type": "stream",
     "text": [
      "100\n"
     ]
    }
   ],
   "source": [
    "print(score)"
   ]
  },
  {
   "cell_type": "code",
   "execution_count": 37,
   "metadata": {},
   "outputs": [],
   "source": [
    "a = 1234"
   ]
  },
  {
   "cell_type": "code",
   "execution_count": 38,
   "metadata": {},
   "outputs": [
    {
     "data": {
      "text/plain": [
       "int"
      ]
     },
     "execution_count": 38,
     "metadata": {},
     "output_type": "execute_result"
    }
   ],
   "source": [
    "type(a)"
   ]
  },
  {
   "cell_type": "code",
   "execution_count": 39,
   "metadata": {},
   "outputs": [],
   "source": [
    "a = '안녕'"
   ]
  },
  {
   "cell_type": "code",
   "execution_count": 40,
   "metadata": {},
   "outputs": [
    {
     "data": {
      "text/plain": [
       "str"
      ]
     },
     "execution_count": 40,
     "metadata": {},
     "output_type": "execute_result"
    }
   ],
   "source": [
    "type(a)"
   ]
  },
  {
   "cell_type": "code",
   "execution_count": 41,
   "metadata": {},
   "outputs": [
    {
     "name": "stdout",
     "output_type": "stream",
     "text": [
      "\n"
     ]
    }
   ],
   "source": [
    "print('')"
   ]
  },
  {
   "cell_type": "code",
   "execution_count": 47,
   "metadata": {},
   "outputs": [
    {
     "name": "stdout",
     "output_type": "stream",
     "text": [
      "폭을 입력하세요 : 30\n",
      "높이를 입력하세요 : 30\n",
      "면적은 900 입니다\n"
     ]
    }
   ],
   "source": [
    "# 사각형의 폭과 높이를 각각 width, height 변수에 입력받아 면적을 구해 출력하라\n",
    "width = int(input(\"폭을 입력하세요 : \"))\n",
    "height = int(input(\"높이를 입력하세요 : \"))\n",
    "size = width * height\n",
    "print('면적은',size,'입니다')"
   ]
  },
  {
   "cell_type": "markdown",
   "metadata": {},
   "source": [
    "# 3. 타입"
   ]
  },
  {
   "cell_type": "code",
   "execution_count": 48,
   "metadata": {},
   "outputs": [
    {
     "name": "stdout",
     "output_type": "stream",
     "text": [
      "0x1a\n",
      "0o32\n",
      "0b1101\n"
     ]
    }
   ],
   "source": [
    "print(hex(26))        # 16진법(hexadecimal)\n",
    "print(oct(26))        # 8진법(octal)\n",
    "print(bin(13))        # 2진법(binary)"
   ]
  },
  {
   "cell_type": "code",
   "execution_count": 50,
   "metadata": {},
   "outputs": [
    {
     "data": {
      "text/plain": [
       "9460000000000.0"
      ]
     },
     "execution_count": 50,
     "metadata": {},
     "output_type": "execute_result"
    }
   ],
   "source": [
    "# 가수E지수\n",
    "9.46e12"
   ]
  },
  {
   "cell_type": "code",
   "execution_count": 51,
   "metadata": {},
   "outputs": [
    {
     "name": "stdout",
     "output_type": "stream",
     "text": [
      "빌게이츠의 재산은 103200000000000.0 이고, 이건희의 재산은 20400000000000.0 이다\n"
     ]
    }
   ],
   "source": [
    "bill = 1.032e14\n",
    "lee = 2.04e13\n",
    "print('빌게이츠의 재산은',bill,'이고, 이건희의 재산은',lee,'이다')"
   ]
  },
  {
   "cell_type": "code",
   "execution_count": 52,
   "metadata": {},
   "outputs": [
    {
     "name": "stdout",
     "output_type": "stream",
     "text": [
      "(4+6j)\n"
     ]
    }
   ],
   "source": [
    "# 복소수형 = 제곱해서 음수가 되는 가상의 숫자\n",
    "\n",
    "a = 1+2j\n",
    "b = 3+4j\n",
    "print( a+ b)"
   ]
  },
  {
   "cell_type": "code",
   "execution_count": 54,
   "metadata": {},
   "outputs": [
    {
     "name": "stdout",
     "output_type": "stream",
     "text": [
      "Korea 서울 1234\n"
     ]
    },
    {
     "data": {
      "text/plain": [
       "str"
      ]
     },
     "execution_count": 54,
     "metadata": {},
     "output_type": "execute_result"
    }
   ],
   "source": [
    "a = \"Korea 서울 1234\"\n",
    "print(a)\n",
    "type(a)"
   ]
  },
  {
   "cell_type": "code",
   "execution_count": 55,
   "metadata": {},
   "outputs": [
    {
     "name": "stdout",
     "output_type": "stream",
     "text": [
      "I Say \"Help\" to you\n"
     ]
    }
   ],
   "source": [
    "print('I Say \"Help\" to you')"
   ]
  },
  {
   "cell_type": "code",
   "execution_count": 56,
   "metadata": {},
   "outputs": [
    {
     "name": "stdout",
     "output_type": "stream",
     "text": [
      "let's go\n"
     ]
    }
   ],
   "source": [
    "print(\"let's go\")"
   ]
  },
  {
   "cell_type": "markdown",
   "metadata": {},
   "source": [
    "\\n = 개행\n",
    "\n",
    "\\t = 탭\n",
    "\n",
    "\\\\\" = 큰따옴표\n",
    "\n",
    "\\\\' =작은따옴표\n",
    "\n",
    "\\\\\\ = \\ 문자"
   ]
  },
  {
   "cell_type": "code",
   "execution_count": 57,
   "metadata": {},
   "outputs": [
    {
     "name": "stdout",
     "output_type": "stream",
     "text": [
      "I Say \"Help\" to you\n"
     ]
    }
   ],
   "source": [
    "print(\"I Say \\\"Help\\\" to you\")"
   ]
  },
  {
   "cell_type": "code",
   "execution_count": 58,
   "metadata": {},
   "outputs": [
    {
     "name": "stdout",
     "output_type": "stream",
     "text": [
      "first\n",
      "second\n"
     ]
    }
   ],
   "source": [
    "a = \"first\\nsecond\"\n",
    "print(a)"
   ]
  },
  {
   "cell_type": "code",
   "execution_count": 62,
   "metadata": {},
   "outputs": [
    {
     "name": "stdout",
     "output_type": "stream",
     "text": [
      "old\\new\n",
      "\n",
      "old\n",
      "ew\n"
     ]
    }
   ],
   "source": [
    "a = \"old\\\\new\"\n",
    "print(a)\n",
    "print()\n",
    "b= \"old\\new\"       # \\n으로 인식해서 개행\n",
    "print(b)"
   ]
  },
  {
   "cell_type": "code",
   "execution_count": 66,
   "metadata": {},
   "outputs": [
    {
     "name": "stdout",
     "output_type": "stream",
     "text": [
      "c:\temp\n",
      "ew.txt\n",
      "\n",
      "c:\\temp\\new.txt\n"
     ]
    }
   ],
   "source": [
    "print(\"c:\\temp\\new.txt\")         # \\t  /  \\n 으로 인식\n",
    "print()\n",
    "print(r\"c:\\temp\\new.txt\")        # 경로를 그대로 출력하기 위해 전부 \\\\를 두번씩 쓰기에는 번거로움. 문자열 앞에 r 접두를 붙인다"
   ]
  },
  {
   "cell_type": "code",
   "execution_count": 68,
   "metadata": {},
   "outputs": [
    {
     "name": "stdout",
     "output_type": "stream",
     "text": [
      "강나루 건너서 밀밭 길을 구름에 달 가듯이 가는 나그네\n",
      "길은 외줄기 남도 삼백리 술 익는 마을마다 타는 저녁놀\n",
      "구름에 달 가듯이 가는 나그네\n"
     ]
    }
   ],
   "source": [
    "#긴문자열 - 따옴표 3개 연속 사용\n",
    "s = \"\"\"강나루 건너서 밀밭 길을 구름에 달 가듯이 가는 나그네\n",
    "길은 외줄기 남도 삼백리 술 익는 마을마다 타는 저녁놀\n",
    "구름에 달 가듯이 가는 나그네\"\"\"\n",
    "print(s)"
   ]
  },
  {
   "cell_type": "code",
   "execution_count": 70,
   "metadata": {},
   "outputs": [
    {
     "name": "stdout",
     "output_type": "stream",
     "text": [
      "강나루 건너서 밀밭 길을 구름에 달 가듯이 가는 나그네길은 외줄기 남도 삼백리 술 익는 마을마다 타는 저녁놀구름에 달 가듯이 가는 나그네\n"
     ]
    }
   ],
   "source": [
    "#긴문자열 - \\(역슬래시) 사용 - 개행하지 않고 줄이 계속 이어진다는 뜻\n",
    "s=\"강나루 건너서 밀밭 길을 구름에 달 가듯이 가는 나그네\\\n",
    "길은 외줄기 남도 삼백리 술 익는 마을마다 타는 저녁놀\\\n",
    "구름에 달 가듯이 가는 나그네\"\n",
    "print(s)"
   ]
  },
  {
   "cell_type": "code",
   "execution_count": 72,
   "metadata": {},
   "outputs": [
    {
     "name": "stdout",
     "output_type": "stream",
     "text": [
      "31536000\n"
     ]
    }
   ],
   "source": [
    "totalsec = 365 * 24 * \\\n",
    "           60 * 60   #행의 들여쓰기는 상관X\n",
    "print(totalsec)"
   ]
  },
  {
   "cell_type": "code",
   "execution_count": 3,
   "metadata": {},
   "outputs": [
    {
     "name": "stdout",
     "output_type": "stream",
     "text": [
      "대한민국2002\n"
     ]
    }
   ],
   "source": [
    "s = \"대한\"\"민국\"\"2002\"\n",
    "print(s)"
   ]
  },
  {
   "cell_type": "code",
   "execution_count": 2,
   "metadata": {},
   "outputs": [
    {
     "name": "stdout",
     "output_type": "stream",
     "text": [
      "('대한', '민국', '2002')\n"
     ]
    }
   ],
   "source": [
    "s = \"대한\",\"민국\",\"2002\"\n",
    "print(s)"
   ]
  },
  {
   "cell_type": "code",
   "execution_count": 4,
   "metadata": {},
   "outputs": [
    {
     "name": "stdout",
     "output_type": "stream",
     "text": [
      "대한민국2002\n"
     ]
    }
   ],
   "source": [
    "s = (\"대한\"\n",
    "     \"민국\"\n",
    "     \"2002\")\n",
    "print(s)"
   ]
  },
  {
   "cell_type": "code",
   "execution_count": 5,
   "metadata": {},
   "outputs": [
    {
     "name": "stdout",
     "output_type": "stream",
     "text": [
      "대한민국\n"
     ]
    }
   ],
   "source": [
    "a = \"대한\"\n",
    "b = \"민국\"\n",
    "print(a+b)"
   ]
  },
  {
   "cell_type": "code",
   "execution_count": 6,
   "metadata": {},
   "outputs": [
    {
     "name": "stdout",
     "output_type": "stream",
     "text": [
      "a+b\n"
     ]
    }
   ],
   "source": [
    "print(\"a+b\")"
   ]
  },
  {
   "cell_type": "code",
   "execution_count": 42,
   "metadata": {
    "scrolled": true
   },
   "outputs": [
    {
     "name": "stdout",
     "output_type": "stream",
     "text": [
      "좋아, 아주좋아~!   좋아, 아주좋아~!   좋아, 아주좋아~!   \n"
     ]
    }
   ],
   "source": [
    "print(\"좋아, 아주좋아~!   \" * 3 )"
   ]
  },
  {
   "cell_type": "code",
   "execution_count": 44,
   "metadata": {},
   "outputs": [
    {
     "name": "stdout",
     "output_type": "stream",
     "text": [
      "-------------------------------------------------------------------------------->"
     ]
    }
   ],
   "source": [
    "print('-' *80, end='>')"
   ]
  },
  {
   "cell_type": "code",
   "execution_count": 78,
   "metadata": {},
   "outputs": [
    {
     "name": "stdout",
     "output_type": "stream",
     "text": [
      "97\n",
      "b\n",
      "ABCDEFGHIJKLMNOPQRSTUVWXYZ"
     ]
    }
   ],
   "source": [
    "# ord 함수 = 문자의 코드를 조사  / chr = 코드로부터 문자를 구현\n",
    "\n",
    "print(ord('a'))\n",
    "print(chr(98))\n",
    "for c in range(ord('A'), ord('Z')+1):\n",
    "    print(chr(c), end='')"
   ]
  },
  {
   "cell_type": "code",
   "execution_count": 7,
   "metadata": {},
   "outputs": [
    {
     "name": "stdout",
     "output_type": "stream",
     "text": [
      "True\n"
     ]
    }
   ],
   "source": [
    "a = 5\n",
    "b = a == 5\n",
    "print(b)"
   ]
  },
  {
   "cell_type": "code",
   "execution_count": 8,
   "metadata": {},
   "outputs": [
    {
     "name": "stdout",
     "output_type": "stream",
     "text": [
      "False\n"
     ]
    }
   ],
   "source": [
    "a = 5\n",
    "b = a ==4\n",
    "print(b)"
   ]
  },
  {
   "cell_type": "code",
   "execution_count": 9,
   "metadata": {},
   "outputs": [
    {
     "name": "stdout",
     "output_type": "stream",
     "text": [
      "a는 5입니다\n"
     ]
    }
   ],
   "source": [
    "if a == 5:\n",
    "    print(\"a는 5입니다\")"
   ]
  },
  {
   "cell_type": "code",
   "execution_count": 10,
   "metadata": {},
   "outputs": [
    {
     "name": "stdout",
     "output_type": "stream",
     "text": [
      "None\n"
     ]
    }
   ],
   "source": [
    "a = None\n",
    "print(a)"
   ]
  },
  {
   "cell_type": "code",
   "execution_count": 12,
   "metadata": {},
   "outputs": [
    {
     "name": "stdout",
     "output_type": "stream",
     "text": [
      "손오공 출동\n",
      "저팔계 출동\n",
      "사오정 출동\n",
      "삼장법사 출동\n"
     ]
    }
   ],
   "source": [
    "member = ['손오공','저팔계','사오정','삼장법사']\n",
    "for m in member:\n",
    "    print(m,\"출동\")"
   ]
  },
  {
   "cell_type": "markdown",
   "metadata": {},
   "source": [
    "---\n",
    "Q 문제 : 봄, 여름, 가을, 겨울 계절명을 season 문자열 변수에 저장하되 출력 시 각 줄에 계절이 따로 나오도록 정의하라"
   ]
  },
  {
   "cell_type": "code",
   "execution_count": 19,
   "metadata": {},
   "outputs": [
    {
     "name": "stdout",
     "output_type": "stream",
     "text": [
      "봄\n",
      "여름\n",
      "가을\n",
      "겨울\n",
      "\n",
      "\n",
      "문자열 변수가 아니므로 오답입니다!!!\n"
     ]
    }
   ],
   "source": [
    "season =['봄','여름','가을','겨울']\n",
    "for s in season:\n",
    "    print(s)   \n",
    "print()\n",
    "print(\"\\n문자열 변수가 아니므로 오답입니다!!!\")"
   ]
  },
  {
   "cell_type": "code",
   "execution_count": 17,
   "metadata": {},
   "outputs": [
    {
     "name": "stdout",
     "output_type": "stream",
     "text": [
      "봄\n",
      "여름\n",
      "가을\n",
      "겨울\n"
     ]
    }
   ],
   "source": [
    "season = \"봄\\n여름\\n가을\\n겨울\"\n",
    "print(season)"
   ]
  },
  {
   "cell_type": "markdown",
   "metadata": {},
   "source": [
    "---\n",
    "Q 문제 : 문자 K의 코드값을 출력하고 코드값 100의 문자가 무엇인지 조사하여 출력하라"
   ]
  },
  {
   "cell_type": "code",
   "execution_count": 22,
   "metadata": {},
   "outputs": [
    {
     "name": "stdout",
     "output_type": "stream",
     "text": [
      "75\n",
      "d\n"
     ]
    }
   ],
   "source": [
    "print(ord(\"K\"))\n",
    "print(chr(100))"
   ]
  },
  {
   "cell_type": "markdown",
   "metadata": {},
   "source": [
    "# 4장. 연산자"
   ]
  },
  {
   "cell_type": "code",
   "execution_count": null,
   "metadata": {},
   "outputs": [],
   "source": [
    "** = 거듭제곱\n",
    "\\\\ = 정수 나누기\n",
    "% = 나머지"
   ]
  },
  {
   "cell_type": "code",
   "execution_count": 23,
   "metadata": {},
   "outputs": [
    {
     "data": {
      "text/plain": [
       "121"
      ]
     },
     "execution_count": 23,
     "metadata": {},
     "output_type": "execute_result"
    }
   ],
   "source": [
    "11 ** 2"
   ]
  },
  {
   "cell_type": "code",
   "execution_count": 24,
   "metadata": {},
   "outputs": [
    {
     "data": {
      "text/plain": [
       "1024"
      ]
     },
     "execution_count": 24,
     "metadata": {},
     "output_type": "execute_result"
    }
   ],
   "source": [
    "2 ** 10"
   ]
  },
  {
   "cell_type": "code",
   "execution_count": 25,
   "metadata": {},
   "outputs": [
    {
     "data": {
      "text/plain": [
       "2.5"
      ]
     },
     "execution_count": 25,
     "metadata": {},
     "output_type": "execute_result"
    }
   ],
   "source": [
    "5 / 2"
   ]
  },
  {
   "cell_type": "code",
   "execution_count": 26,
   "metadata": {},
   "outputs": [
    {
     "data": {
      "text/plain": [
       "2"
      ]
     },
     "execution_count": 26,
     "metadata": {},
     "output_type": "execute_result"
    }
   ],
   "source": [
    "5 // 2   #소수부 0.5를 버리고 정수부 2만 계산"
   ]
  },
  {
   "cell_type": "markdown",
   "metadata": {},
   "source": [
    "---\n",
    "Q. 문제 : 초코파이 한 개는 400원이다. 1000원으로 몇 개를 살 수 있는가?"
   ]
  },
  {
   "cell_type": "code",
   "execution_count": 27,
   "metadata": {},
   "outputs": [
    {
     "data": {
      "text/plain": [
       "2"
      ]
     },
     "execution_count": 27,
     "metadata": {},
     "output_type": "execute_result"
    }
   ],
   "source": [
    "pie = 400\n",
    "1000 // pie"
   ]
  },
  {
   "cell_type": "code",
   "execution_count": 32,
   "metadata": {},
   "outputs": [
    {
     "data": {
      "text/plain": [
       "1"
      ]
     },
     "execution_count": 32,
     "metadata": {},
     "output_type": "execute_result"
    }
   ],
   "source": [
    "# 나머지 연산자는 배수 여부르르 판별할 때 흔히 사용한다\n",
    "\n",
    "7 % 2"
   ]
  },
  {
   "cell_type": "code",
   "execution_count": 30,
   "metadata": {},
   "outputs": [
    {
     "data": {
      "text/plain": [
       "2"
      ]
     },
     "execution_count": 30,
     "metadata": {},
     "output_type": "execute_result"
    }
   ],
   "source": [
    "8 % 3"
   ]
  },
  {
   "cell_type": "code",
   "execution_count": 31,
   "metadata": {},
   "outputs": [
    {
     "data": {
      "text/plain": [
       "0"
      ]
     },
     "execution_count": 31,
     "metadata": {},
     "output_type": "execute_result"
    }
   ],
   "source": [
    "9 % 3"
   ]
  },
  {
   "cell_type": "code",
   "execution_count": 33,
   "metadata": {},
   "outputs": [
    {
     "name": "stdout",
     "output_type": "stream",
     "text": [
      "6\n"
     ]
    }
   ],
   "source": [
    "# 복합 대입 연산자\n",
    "\n",
    "a = 5\n",
    "a = a + 1\n",
    "print(a)"
   ]
  },
  {
   "cell_type": "code",
   "execution_count": 35,
   "metadata": {},
   "outputs": [
    {
     "name": "stdout",
     "output_type": "stream",
     "text": [
      "8\n"
     ]
    }
   ],
   "source": [
    "a += 1\n",
    "print(a)"
   ]
  },
  {
   "cell_type": "markdown",
   "metadata": {},
   "source": [
    "---\n",
    "Q. 문제 : 상품 가격을 90%로 세일한다."
   ]
  },
  {
   "cell_type": "code",
   "execution_count": 37,
   "metadata": {},
   "outputs": [
    {
     "ename": "NameError",
     "evalue": "name 'saleprice' is not defined",
     "output_type": "error",
     "traceback": [
      "\u001b[1;31m---------------------------------------------------------------------------\u001b[0m",
      "\u001b[1;31mNameError\u001b[0m                                 Traceback (most recent call last)",
      "\u001b[1;32m<ipython-input-37-67fb0faa1e5c>\u001b[0m in \u001b[0;36m<module>\u001b[1;34m\u001b[0m\n\u001b[1;32m----> 1\u001b[1;33m \u001b[0msaleprice\u001b[0m \u001b[1;33m*=\u001b[0m \u001b[1;36m0.9\u001b[0m\u001b[1;33m\u001b[0m\u001b[1;33m\u001b[0m\u001b[0m\n\u001b[0m",
      "\u001b[1;31mNameError\u001b[0m: name 'saleprice' is not defined"
     ]
    }
   ],
   "source": [
    "saleprice *= 0.9"
   ]
  },
  {
   "cell_type": "code",
   "execution_count": 45,
   "metadata": {},
   "outputs": [
    {
     "ename": "TypeError",
     "evalue": "can only concatenate str (not \"int\") to str",
     "output_type": "error",
     "traceback": [
      "\u001b[1;31m---------------------------------------------------------------------------\u001b[0m",
      "\u001b[1;31mTypeError\u001b[0m                                 Traceback (most recent call last)",
      "\u001b[1;32m<ipython-input-45-9b9ce6f94da1>\u001b[0m in \u001b[0;36m<module>\u001b[1;34m\u001b[0m\n\u001b[1;32m----> 1\u001b[1;33m \u001b[0mprint\u001b[0m\u001b[1;33m(\u001b[0m\u001b[1;34m\"korea\"\u001b[0m\u001b[1;33m+\u001b[0m\u001b[1;36m2002\u001b[0m\u001b[1;33m)\u001b[0m\u001b[1;33m\u001b[0m\u001b[1;33m\u001b[0m\u001b[0m\n\u001b[0m",
      "\u001b[1;31mTypeError\u001b[0m: can only concatenate str (not \"int\") to str"
     ]
    }
   ],
   "source": [
    "print(\"korea\"+2002)"
   ]
  },
  {
   "cell_type": "code",
   "execution_count": 46,
   "metadata": {},
   "outputs": [
    {
     "name": "stdout",
     "output_type": "stream",
     "text": [
      "korea2002\n"
     ]
    }
   ],
   "source": [
    "print(\"korea\"+str(2002))"
   ]
  },
  {
   "cell_type": "code",
   "execution_count": 47,
   "metadata": {},
   "outputs": [
    {
     "ename": "TypeError",
     "evalue": "unsupported operand type(s) for +: 'int' and 'str'",
     "output_type": "error",
     "traceback": [
      "\u001b[1;31m---------------------------------------------------------------------------\u001b[0m",
      "\u001b[1;31mTypeError\u001b[0m                                 Traceback (most recent call last)",
      "\u001b[1;32m<ipython-input-47-7bb583b97901>\u001b[0m in \u001b[0;36m<module>\u001b[1;34m\u001b[0m\n\u001b[1;32m----> 1\u001b[1;33m \u001b[0mprint\u001b[0m\u001b[1;33m(\u001b[0m\u001b[1;36m10\u001b[0m \u001b[1;33m+\u001b[0m \u001b[1;34m\"22\"\u001b[0m\u001b[1;33m)\u001b[0m\u001b[1;33m\u001b[0m\u001b[1;33m\u001b[0m\u001b[0m\n\u001b[0m",
      "\u001b[1;31mTypeError\u001b[0m: unsupported operand type(s) for +: 'int' and 'str'"
     ]
    }
   ],
   "source": [
    "print(10 + \"22\")"
   ]
  },
  {
   "cell_type": "code",
   "execution_count": 49,
   "metadata": {},
   "outputs": [
    {
     "name": "stdout",
     "output_type": "stream",
     "text": [
      "32\n"
     ]
    }
   ],
   "source": [
    "print(10 + int(\"22\"))"
   ]
  },
  {
   "cell_type": "code",
   "execution_count": 50,
   "metadata": {},
   "outputs": [
    {
     "ename": "ValueError",
     "evalue": "invalid literal for int() with base 10: '22%'",
     "output_type": "error",
     "traceback": [
      "\u001b[1;31m---------------------------------------------------------------------------\u001b[0m",
      "\u001b[1;31mValueError\u001b[0m                                Traceback (most recent call last)",
      "\u001b[1;32m<ipython-input-50-3584cd8cfdc8>\u001b[0m in \u001b[0;36m<module>\u001b[1;34m\u001b[0m\n\u001b[1;32m----> 1\u001b[1;33m \u001b[0mprint\u001b[0m\u001b[1;33m(\u001b[0m\u001b[1;36m10\u001b[0m \u001b[1;33m+\u001b[0m \u001b[0mint\u001b[0m\u001b[1;33m(\u001b[0m\u001b[1;34m\"22%\"\u001b[0m\u001b[1;33m)\u001b[0m\u001b[1;33m)\u001b[0m\u001b[1;33m\u001b[0m\u001b[1;33m\u001b[0m\u001b[0m\n\u001b[0m",
      "\u001b[1;31mValueError\u001b[0m: invalid literal for int() with base 10: '22%'"
     ]
    }
   ],
   "source": [
    "print(10 + int(\"22%\"))    # 덧셈은 정수 + 정수"
   ]
  },
  {
   "cell_type": "code",
   "execution_count": 52,
   "metadata": {},
   "outputs": [
    {
     "ename": "ValueError",
     "evalue": "invalid literal for int() with base 10: '22.5'",
     "output_type": "error",
     "traceback": [
      "\u001b[1;31m---------------------------------------------------------------------------\u001b[0m",
      "\u001b[1;31mValueError\u001b[0m                                Traceback (most recent call last)",
      "\u001b[1;32m<ipython-input-52-f85db9b2dce6>\u001b[0m in \u001b[0;36m<module>\u001b[1;34m\u001b[0m\n\u001b[1;32m----> 1\u001b[1;33m \u001b[0mprint\u001b[0m\u001b[1;33m(\u001b[0m\u001b[1;36m10\u001b[0m \u001b[1;33m+\u001b[0m \u001b[0mint\u001b[0m\u001b[1;33m(\u001b[0m\u001b[1;34m\"22.5\"\u001b[0m\u001b[1;33m)\u001b[0m\u001b[1;33m)\u001b[0m\u001b[1;33m\u001b[0m\u001b[1;33m\u001b[0m\u001b[0m\n\u001b[0m",
      "\u001b[1;31mValueError\u001b[0m: invalid literal for int() with base 10: '22.5'"
     ]
    }
   ],
   "source": [
    "print(10 + int(\"22.5\"))   # 22.5는 정수가 X"
   ]
  },
  {
   "cell_type": "code",
   "execution_count": 53,
   "metadata": {},
   "outputs": [
    {
     "name": "stdout",
     "output_type": "stream",
     "text": [
      "36\n"
     ]
    }
   ],
   "source": [
    "print(10+0x1a)"
   ]
  },
  {
   "cell_type": "code",
   "execution_count": 55,
   "metadata": {},
   "outputs": [
    {
     "name": "stdout",
     "output_type": "stream",
     "text": [
      "32.5\n"
     ]
    }
   ],
   "source": [
    "print(10 + float(\"22.5\"))   # 22.5는 실수. 실수 = float"
   ]
  },
  {
   "cell_type": "code",
   "execution_count": 56,
   "metadata": {},
   "outputs": [
    {
     "name": "stdout",
     "output_type": "stream",
     "text": [
      "32\n"
     ]
    }
   ],
   "source": [
    "print(10 + int(float(\"22.5\")))"
   ]
  },
  {
   "cell_type": "code",
   "execution_count": 59,
   "metadata": {},
   "outputs": [
    {
     "name": "stdout",
     "output_type": "stream",
     "text": [
      "2\n",
      "3\n",
      "2.5\n",
      "123000\n"
     ]
    }
   ],
   "source": [
    "# round 함수는 실수를 반올림\n",
    "\n",
    "print(int(2.54))\n",
    "print(round(2.54))\n",
    "print(round(2.54, 1))\n",
    "print(round(123456, -3))"
   ]
  },
  {
   "cell_type": "code",
   "execution_count": 62,
   "metadata": {},
   "outputs": [
    {
     "name": "stdout",
     "output_type": "stream",
     "text": [
      "7\n"
     ]
    }
   ],
   "source": [
    "a = 1 + 2 * 3\n",
    "print(a)"
   ]
  },
  {
   "cell_type": "code",
   "execution_count": 63,
   "metadata": {},
   "outputs": [
    {
     "name": "stdout",
     "output_type": "stream",
     "text": [
      "9\n"
     ]
    }
   ],
   "source": [
    "a = (1 + 2) * 3\n",
    "print(a)"
   ]
  },
  {
   "cell_type": "markdown",
   "metadata": {},
   "source": [
    "---\n",
    "Q. 문제 : name 변수에 이름이 저장되어 있고 score 변수에 점수가 저장되어 있다. 이 두 변수로부터 \"홍길동 98점\"이라는 문자열로 조립한다 "
   ]
  },
  {
   "cell_type": "code",
   "execution_count": 68,
   "metadata": {},
   "outputs": [
    {
     "name": "stdout",
     "output_type": "stream",
     "text": [
      "이름을 입력하세요 : 송승은\n",
      "점수를 입력하세요 : 100\n",
      "송승은100점\n"
     ]
    }
   ],
   "source": [
    "name = input(\"이름을 입력하세요 : \")\n",
    "score = input(\"점수를 입력하세요 : \")\n",
    "print(name+str(score)+\"점\")"
   ]
  },
  {
   "cell_type": "markdown",
   "metadata": {},
   "source": [
    "# 5장. 조건문"
   ]
  },
  {
   "cell_type": "markdown",
   "metadata": {},
   "source": [
    "## 5-1. if문"
   ]
  },
  {
   "cell_type": "code",
   "execution_count": 1,
   "metadata": {},
   "outputs": [
    {
     "name": "stdout",
     "output_type": "stream",
     "text": [
      "너 몇살이니? 18\n",
      "애들은 가라\n"
     ]
    }
   ],
   "source": [
    "age = int(input(\"너 몇살이니? \"))\n",
    "if age < 19 :\n",
    "    print(\"애들은 가라\")"
   ]
  },
  {
   "cell_type": "markdown",
   "metadata": {},
   "source": [
    "==\n",
    "!=\n",
    "<\n",
    ">\n",
    "<=\n",
    ">="
   ]
  },
  {
   "cell_type": "code",
   "execution_count": 2,
   "metadata": {},
   "outputs": [
    {
     "name": "stdout",
     "output_type": "stream",
     "text": [
      "3이다\n",
      "5보다 작다\n"
     ]
    }
   ],
   "source": [
    "a = 3\n",
    "if a == 3 :\n",
    "    print(\"3이다\")\n",
    "if a > 5 :\n",
    "    print(\"5보다 크다\")\n",
    "if a < 5 :\n",
    "    print(\"5보다 작다\")"
   ]
  },
  {
   "cell_type": "code",
   "execution_count": 7,
   "metadata": {},
   "outputs": [
    {
     "name": "stdout",
     "output_type": "stream",
     "text": [
      "한국입니다\n",
      "대한민국입니다.\n"
     ]
    }
   ],
   "source": [
    "country = \"Korea\"\n",
    "if country == \"Korea\":\n",
    "    print(\"한국입니다\")\n",
    "if country == \"Korea\":\n",
    "    print(\"대한민국입니다.\")"
   ]
  },
  {
   "cell_type": "code",
   "execution_count": 10,
   "metadata": {},
   "outputs": [
    {
     "name": "stdout",
     "output_type": "stream",
     "text": [
      "한국이 더 크다\n"
     ]
    }
   ],
   "source": [
    "# 사전의 더 뒤쪽에 나오는 문자열을 큰 것으로 평가한다\n",
    "\n",
    "if (\"Korea\" > \"Japan\"):\n",
    "    print(\"한국이 더 크다\")\n",
    "if (\"Korea\" < \"Japan\") :\n",
    "    print(\"일본이 더 크다\")"
   ]
  },
  {
   "cell_type": "code",
   "execution_count": 13,
   "metadata": {},
   "outputs": [
    {
     "name": "stdout",
     "output_type": "stream",
     "text": [
      "열심히 싸운다\n"
     ]
    }
   ],
   "source": [
    "# 숫자 - 0이 아닌 숫자(True) / 0 (False),  \n",
    "# 문자열 - 비어있지 않은 상태(True) / \"\" (False) ,  \n",
    "# 리스트 튜플 딕셔너리 - 비어있지 않은 상태(True) / 빈 상태(False)\n",
    "\n",
    "energy = 1\n",
    "if energy:\n",
    "    print(\"열심히 싸운다\")"
   ]
  },
  {
   "cell_type": "code",
   "execution_count": 14,
   "metadata": {},
   "outputs": [
    {
     "name": "stdout",
     "output_type": "stream",
     "text": [
      "OK\n"
     ]
    }
   ],
   "source": [
    "# andrange\n",
    "\n",
    "a = 3\n",
    "if a > 1 and a < 10 :\n",
    "    print(\"OK\")"
   ]
  },
  {
   "cell_type": "code",
   "execution_count": 15,
   "metadata": {},
   "outputs": [
    {
     "name": "stdout",
     "output_type": "stream",
     "text": [
      "OK\n"
     ]
    }
   ],
   "source": [
    "a = 3\n",
    "if 1 < a < 10 :\n",
    "    print(\"OK\")"
   ]
  },
  {
   "cell_type": "markdown",
   "metadata": {},
   "source": [
    "## 5-2. 블록 구조 : 조건문이 참일 때 실행할 명령이 2개 이상이면 아래쪽으로 명령을 계속 나열"
   ]
  },
  {
   "cell_type": "code",
   "execution_count": 16,
   "metadata": {},
   "outputs": [
    {
     "name": "stdout",
     "output_type": "stream",
     "text": [
      "애들은 가라\n",
      "공부 열심히 해야지\n"
     ]
    }
   ],
   "source": [
    "age = 16\n",
    "if age < 19:\n",
    "    print(\"애들은 가라\")\n",
    "    print(\"공부 열심히 해야지\")"
   ]
  },
  {
   "cell_type": "code",
   "execution_count": 18,
   "metadata": {},
   "outputs": [
    {
     "name": "stdout",
     "output_type": "stream",
     "text": [
      "공부 열심히 해야지\n"
     ]
    }
   ],
   "source": [
    "age = 22\n",
    "if age < 19 :\n",
    "    print(\"애들은 가라\")      # 블록\n",
    "print(\"공부 열심히 해야지\")   # 블록 외부의 명령"
   ]
  },
  {
   "cell_type": "code",
   "execution_count": 19,
   "metadata": {},
   "outputs": [
    {
     "name": "stdout",
     "output_type": "stream",
     "text": [
      "어서 옵쇼\n"
     ]
    }
   ],
   "source": [
    "age = 22\n",
    "if age < 19 :\n",
    "    print(\"애들은 가라\")\n",
    "else :\n",
    "    print(\"어서 옵쇼\")"
   ]
  },
  {
   "cell_type": "code",
   "execution_count": 20,
   "metadata": {},
   "outputs": [
    {
     "name": "stdout",
     "output_type": "stream",
     "text": [
      "애들은 가라\n",
      "공부 열심히 해야지\n"
     ]
    }
   ],
   "source": [
    "age = 12\n",
    "if age < 19 :\n",
    "    print(\"애들은 가라\")\n",
    "    print(\"공부 열심히 해야지\")\n",
    "else:\n",
    "    print(\"어서 옵쇼\")\n",
    "    print(\"즐거운 시간 되세요\")"
   ]
  },
  {
   "cell_type": "code",
   "execution_count": 21,
   "metadata": {},
   "outputs": [
    {
     "name": "stdout",
     "output_type": "stream",
     "text": [
      "대학생입니다.\n"
     ]
    }
   ],
   "source": [
    "age = 23\n",
    "if age < 19:\n",
    "    print(\"애들은 가라\")\n",
    "elif age < 25:\n",
    "    print(\"대학생입니다.\")\n",
    "else:\n",
    "    print(\"어서 옵쇼\")"
   ]
  },
  {
   "cell_type": "code",
   "execution_count": 22,
   "metadata": {},
   "outputs": [
    {
     "name": "stdout",
     "output_type": "stream",
     "text": [
      "대학생입니다\n"
     ]
    }
   ],
   "source": [
    "age = 23\n",
    "if age < 19:\n",
    "    print(\"애들은 가라\")\n",
    "else:\n",
    "    if age < 25:\n",
    "        print(\"대학생입니다\")\n",
    "    else:\n",
    "        print(\"어서 옵쇼\")"
   ]
  },
  {
   "cell_type": "code",
   "execution_count": 23,
   "metadata": {},
   "outputs": [
    {
     "name": "stdout",
     "output_type": "stream",
     "text": [
      "짬뽕을 먹는다\n"
     ]
    }
   ],
   "source": [
    "money = 6500\n",
    "if money >= 20000:\n",
    "    print(\"탕수육을 먹는다\")\n",
    "elif money >= 10000:\n",
    "    print(\"쟁반 짜장을 먹는다\")\n",
    "elif money >= 6000:\n",
    "    print(\"짬뽕을 먹는다\")\n",
    "elif money >= 4000:\n",
    "    print(\"짜장면을 먹는다\")\n",
    "else:\n",
    "    print(\"단무지를 먹는다\")"
   ]
  },
  {
   "cell_type": "code",
   "execution_count": 24,
   "metadata": {},
   "outputs": [
    {
     "name": "stdout",
     "output_type": "stream",
     "text": [
      "짬뽕을 먹는다\n"
     ]
    }
   ],
   "source": [
    "money = 6500\n",
    "if money >= 20000:\n",
    "    print(\"탕수육을 먹는다\")\n",
    "else:\n",
    "    if money >= 10000:\n",
    "        print(\"쟁반 짜장을 먹는다\")\n",
    "    else:\n",
    "        if money >= 6000:\n",
    "            print(\"짬뽕을 먹는다\")\n",
    "        else:\n",
    "            if money >= 4000:\n",
    "                print(\"짜장면을 먹는다\")\n",
    "            else:\n",
    "                print(\"단무지를 먹는다\")"
   ]
  },
  {
   "cell_type": "code",
   "execution_count": 26,
   "metadata": {},
   "outputs": [
    {
     "name": "stdout",
     "output_type": "stream",
     "text": [
      "성인 남자입니다\n"
     ]
    }
   ],
   "source": [
    "man = True\n",
    "age = 22\n",
    "if man == True:\n",
    "    if age >= 19:\n",
    "        print(\"성인 남자입니다\")"
   ]
  },
  {
   "cell_type": "code",
   "execution_count": 27,
   "metadata": {},
   "outputs": [
    {
     "name": "stdout",
     "output_type": "stream",
     "text": [
      "성인 남자입니다\n"
     ]
    }
   ],
   "source": [
    "if man == True and age >= 19:\n",
    "    print(\"성인 남자입니다\")"
   ]
  },
  {
   "cell_type": "markdown",
   "metadata": {},
   "source": [
    "---\n",
    "Q. 문제 : 점수를 입력받은 후 80점 이상이면 합격, 80점 미만이면 불합격을 출력하라"
   ]
  },
  {
   "cell_type": "code",
   "execution_count": 29,
   "metadata": {},
   "outputs": [
    {
     "name": "stdout",
     "output_type": "stream",
     "text": [
      "점수를 입력하시오 : 78\n",
      "불합격\n"
     ]
    }
   ],
   "source": [
    "exam = int(input(\"점수를 입력하시오 : \"))\n",
    "if exam >= 80:\n",
    "    print(\"합격\")\n",
    "else:\n",
    "    print(\"불합격\")"
   ]
  },
  {
   "cell_type": "markdown",
   "metadata": {},
   "source": [
    "---\n",
    "Q. 문제 : 한국의 수도는 어디인지 질문 후 입력받아 정답을 맞추었으면 정답이라는 메시지를 출력하고 축하한다는 메시지도 같이 출력하라. 정답이 아니면 아무것도 하지 않는다"
   ]
  },
  {
   "cell_type": "code",
   "execution_count": 30,
   "metadata": {},
   "outputs": [
    {
     "name": "stdout",
     "output_type": "stream",
     "text": [
      "한국의 수도는 어디인가 : 서울\n",
      "정답\n",
      "축하합니다\n"
     ]
    }
   ],
   "source": [
    "exam = input(\"한국의 수도는 어디인가 : \")\n",
    "if exam == \"서울\":\n",
    "    print(\"정답\")\n",
    "    print(\"축하합니다\")"
   ]
  },
  {
   "cell_type": "markdown",
   "metadata": {},
   "source": [
    "---\n",
    "Q. 문제 : age와 height 변수가 주어졌을 때 8세 이상이고, 키 100 이상인 경우만 놀이기구를 탈 수 있다는 조건문을 작성하라"
   ]
  },
  {
   "cell_type": "code",
   "execution_count": 34,
   "metadata": {},
   "outputs": [
    {
     "name": "stdout",
     "output_type": "stream",
     "text": [
      "놀이기구를 탈 수 있습니다\n"
     ]
    }
   ],
   "source": [
    "age = 8\n",
    "height = 100\n",
    "if age >= 8 and height >= 100 :\n",
    "    print(\"놀이기구를 탈 수 있습니다\")"
   ]
  },
  {
   "cell_type": "markdown",
   "metadata": {},
   "source": [
    "---\n",
    "Q. 문제 : dir 변수에는 \"동\", \"서\", \"남\", \"북\" 넷 중 하나의 방향 값이 들어간다. 이 변수의 값에 따라 서울에서 각 방향에 있는 도시 하나를 출력하는 프로그램을 작성하라. 엉뚱한 값이 들어 있으면 에러 처리한다."
   ]
  },
  {
   "cell_type": "code",
   "execution_count": 35,
   "metadata": {},
   "outputs": [
    {
     "name": "stdout",
     "output_type": "stream",
     "text": [
      "동, 서, 남, 북 중 하나를 입력하세요 : 동\n",
      "울릉도\n"
     ]
    }
   ],
   "source": [
    "dir = input(\"동, 서, 남, 북 중 하나를 입력하세요 : \")\n",
    "if dir == \"동\":\n",
    "    print(\"울릉도\")\n",
    "elif dir == \"서\":\n",
    "    print(\"인천\")\n",
    "elif dir == \"남\":\n",
    "    print(\"거제도\")\n",
    "elif dir == \"북\":\n",
    "    print(\"북한\")\n",
    "else:\n",
    "    print(\"ERROR\")"
   ]
  },
  {
   "cell_type": "markdown",
   "metadata": {},
   "source": [
    "---\n",
    "Q. 문제 : 정수 하나를 입력받아 5의 배수인지 조사하여 그 결과를 출력하라"
   ]
  },
  {
   "cell_type": "code",
   "execution_count": 38,
   "metadata": {},
   "outputs": [
    {
     "name": "stdout",
     "output_type": "stream",
     "text": [
      "정수 하나를 입력하시요 : 88\n",
      "5의 배수가 아닙니다\n"
     ]
    }
   ],
   "source": [
    "a = int(input(\"정수 하나를 입력하시요 : \"))\n",
    "if a % 5 == 0:\n",
    "    print(\"5의 배수입니다\")\n",
    "else:\n",
    "    print(\"5의 배수가 아닙니다\")"
   ]
  },
  {
   "cell_type": "markdown",
   "metadata": {},
   "source": [
    "---\n",
    "Q. 문제 : 서울우유는 1리터에 2500원이고 매일우유는 1.8리터에 4200원이다. 용량대비 어떤 우유가 더 싼지 계산 및 판단하여 결과를 출력하라"
   ]
  },
  {
   "cell_type": "code",
   "execution_count": 39,
   "metadata": {},
   "outputs": [
    {
     "name": "stdout",
     "output_type": "stream",
     "text": [
      "매일우유가 더 저렴합니다\n"
     ]
    }
   ],
   "source": [
    "seoul_milk = 2500 / 1000\n",
    "maeil_milk = 4200 / 1800\n",
    "if seoul_milk > maeil_milk :\n",
    "    print(\"매일우유가 더 저렴합니다\")\n",
    "else:\n",
    "    print(\"서울우유가 더 저렴합니다\")"
   ]
  },
  {
   "cell_type": "markdown",
   "metadata": {},
   "source": [
    "# 6장. 반복문"
   ]
  },
  {
   "cell_type": "markdown",
   "metadata": {},
   "source": [
    "## 6-1. 반복문"
   ]
  },
  {
   "cell_type": "code",
   "execution_count": 40,
   "metadata": {},
   "outputs": [
    {
     "name": "stdout",
     "output_type": "stream",
     "text": [
      "1 번 학생의 성적을 처리한다.\n",
      "2 번 학생의 성적을 처리한다.\n",
      "3 번 학생의 성적을 처리한다.\n",
      "4 번 학생의 성적을 처리한다.\n",
      "5 번 학생의 성적을 처리한다.\n"
     ]
    }
   ],
   "source": [
    "student = 1\n",
    "while student <= 5:\n",
    "    print(student, \"번 학생의 성적을 처리한다.\")\n",
    "    student += 1"
   ]
  },
  {
   "cell_type": "code",
   "execution_count": 41,
   "metadata": {},
   "outputs": [
    {
     "name": "stdout",
     "output_type": "stream",
     "text": [
      "sum = 5050\n"
     ]
    }
   ],
   "source": [
    "# 1 ~ 100까지의 정수 합계를 구한다\n",
    "\n",
    "num = 1\n",
    "sum = 0\n",
    "while num <= 100:\n",
    "    sum += num\n",
    "    num += 1\n",
    "print(\"sum =\", sum)"
   ]
  },
  {
   "cell_type": "code",
   "execution_count": 44,
   "metadata": {},
   "outputs": [
    {
     "name": "stdout",
     "output_type": "stream",
     "text": [
      "sum = 16875\n"
     ]
    }
   ],
   "source": [
    "# 150 ~300의 모든 홀수 합을 구하라\n",
    "\n",
    "num = 151\n",
    "sum = 0\n",
    "while num <= 300:\n",
    "    sum += num\n",
    "    num += 2\n",
    "print(\"sum =\", sum)"
   ]
  },
  {
   "cell_type": "code",
   "execution_count": 45,
   "metadata": {},
   "outputs": [
    {
     "name": "stdout",
     "output_type": "stream",
     "text": [
      "1 번 학생의 성적을 처리한다.\n",
      "2 번 학생의 성적을 처리한다.\n",
      "3 번 학생의 성적을 처리한다.\n",
      "4 번 학생의 성적을 처리한다.\n",
      "5 번 학생의 성적을 처리한다.\n"
     ]
    }
   ],
   "source": [
    "for student in [1, 2, 3, 4, 5]:\n",
    "    print(student, \"번 학생의 성적을 처리한다.\")"
   ]
  },
  {
   "cell_type": "code",
   "execution_count": 46,
   "metadata": {},
   "outputs": [
    {
     "name": "stdout",
     "output_type": "stream",
     "text": [
      "sum= 5050\n"
     ]
    }
   ],
   "source": [
    "sum = 0\n",
    "for num in range(1, 101):\n",
    "    sum += num\n",
    "print(\"sum=\", sum)"
   ]
  },
  {
   "cell_type": "code",
   "execution_count": 48,
   "metadata": {},
   "outputs": [
    {
     "name": "stdout",
     "output_type": "stream",
     "text": [
      "sum= 2550\n"
     ]
    }
   ],
   "source": [
    "sum = 0\n",
    "for num in range(2, 101, 2):\n",
    "    sum += num\n",
    "print(\"sum=\",sum)"
   ]
  },
  {
   "cell_type": "code",
   "execution_count": 49,
   "metadata": {},
   "outputs": [
    {
     "name": "stdout",
     "output_type": "stream",
     "text": [
      "이 문장을 반복합니다.\n",
      "이 문장을 반복합니다.\n",
      "이 문장을 반복합니다.\n",
      "이 문장을 반복합니다.\n",
      "이 문장을 반복합니다.\n"
     ]
    }
   ],
   "source": [
    "for a in range(5):\n",
    "    print(\"이 문장을 반복합니다.\")"
   ]
  },
  {
   "cell_type": "markdown",
   "metadata": {},
   "source": [
    "---\n",
    "Q. 문제 : ---------+---------+---------+---------+---------+      (10칸마다 + 출력)"
   ]
  },
  {
   "cell_type": "code",
   "execution_count": 52,
   "metadata": {},
   "outputs": [
    {
     "name": "stdout",
     "output_type": "stream",
     "text": [
      "---------+---------+---------+---------+---------+"
     ]
    }
   ],
   "source": [
    "for x in range(1,51):\n",
    "    if x % 10 == 0:\n",
    "        print(\"+\", end=\"\")\n",
    "    else:\n",
    "        print(\"-\", end=\"\")\n"
   ]
  },
  {
   "cell_type": "code",
   "execution_count": 53,
   "metadata": {},
   "outputs": [
    {
     "name": "stdout",
     "output_type": "stream",
     "text": [
      "---------+---------+---------+---------+---------+"
     ]
    }
   ],
   "source": [
    "for x in range(1,6):\n",
    "    print(\"-\"*9, end='')\n",
    "    print(\"+\", end='')"
   ]
  },
  {
   "cell_type": "code",
   "execution_count": 54,
   "metadata": {},
   "outputs": [
    {
     "name": "stdout",
     "output_type": "stream",
     "text": [
      "---------+---------+---------+---------+---------+"
     ]
    }
   ],
   "source": [
    "x = 1\n",
    "while x <= 50:\n",
    "    if x % 10 :\n",
    "        print(\"-\", end='')\n",
    "    else:\n",
    "        print(\"+\", end='')\n",
    "    x += 1"
   ]
  },
  {
   "cell_type": "markdown",
   "metadata": {},
   "source": [
    "---\n",
    "Q. 문제 : 리스트에 저장된 학생 다섯 명의 성적을 출력한다. 성적 데이터가 항상 정확하다면 루프를 끝까지 실행하겠지만 오류가 발생할 수도 있다. 4번째 학생의 성적인 120은 정상적인 성적이 아니다. 성적은 음수가 될 수 없고 100보다 커서도 안 된다.\n",
    "score = [92, 86, 68, 120, 56]"
   ]
  },
  {
   "cell_type": "code",
   "execution_count": 57,
   "metadata": {},
   "outputs": [
    {
     "name": "stdout",
     "output_type": "stream",
     "text": [
      "92\n",
      "86\n",
      "68\n",
      "성적처리 끝\n"
     ]
    }
   ],
   "source": [
    "score = [92, 86, 68, 120, 56]\n",
    "for s in score:\n",
    "    if s < 0 or s > 100:\n",
    "        break\n",
    "    print(s)\n",
    "print('성적처리 끝')"
   ]
  },
  {
   "cell_type": "code",
   "execution_count": 59,
   "metadata": {},
   "outputs": [
    {
     "name": "stdout",
     "output_type": "stream",
     "text": [
      "92\n",
      "86\n",
      "68\n",
      "56\n",
      "성적처리 끝\n"
     ]
    }
   ],
   "source": [
    "for s in score:\n",
    "    if s < 0 or s > 100 :\n",
    "        continue\n",
    "    print(s)\n",
    "print('성적처리 끝')"
   ]
  },
  {
   "cell_type": "markdown",
   "metadata": {},
   "source": [
    "## 6-2. 루프의 활용"
   ]
  },
  {
   "cell_type": "markdown",
   "metadata": {},
   "source": [
    "---\n",
    "Q. 문제 : 구구단 만들기"
   ]
  },
  {
   "cell_type": "code",
   "execution_count": 63,
   "metadata": {
    "scrolled": true
   },
   "outputs": [
    {
     "name": "stdout",
     "output_type": "stream",
     "text": [
      "2 단\n",
      "2 * 1 = 2\n",
      "2 * 2 = 4\n",
      "2 * 3 = 6\n",
      "2 * 4 = 8\n",
      "2 * 5 = 10\n",
      "2 * 6 = 12\n",
      "2 * 7 = 14\n",
      "2 * 8 = 16\n",
      "2 * 9 = 18\n",
      "\n",
      "3 단\n",
      "3 * 1 = 3\n",
      "3 * 2 = 6\n",
      "3 * 3 = 9\n",
      "3 * 4 = 12\n",
      "3 * 5 = 15\n",
      "3 * 6 = 18\n",
      "3 * 7 = 21\n",
      "3 * 8 = 24\n",
      "3 * 9 = 27\n",
      "\n",
      "4 단\n",
      "4 * 1 = 4\n",
      "4 * 2 = 8\n",
      "4 * 3 = 12\n",
      "4 * 4 = 16\n",
      "4 * 5 = 20\n",
      "4 * 6 = 24\n",
      "4 * 7 = 28\n",
      "4 * 8 = 32\n",
      "4 * 9 = 36\n",
      "\n",
      "5 단\n",
      "5 * 1 = 5\n",
      "5 * 2 = 10\n",
      "5 * 3 = 15\n",
      "5 * 4 = 20\n",
      "5 * 5 = 25\n",
      "5 * 6 = 30\n",
      "5 * 7 = 35\n",
      "5 * 8 = 40\n",
      "5 * 9 = 45\n",
      "\n",
      "6 단\n",
      "6 * 1 = 6\n",
      "6 * 2 = 12\n",
      "6 * 3 = 18\n",
      "6 * 4 = 24\n",
      "6 * 5 = 30\n",
      "6 * 6 = 36\n",
      "6 * 7 = 42\n",
      "6 * 8 = 48\n",
      "6 * 9 = 54\n",
      "\n",
      "7 단\n",
      "7 * 1 = 7\n",
      "7 * 2 = 14\n",
      "7 * 3 = 21\n",
      "7 * 4 = 28\n",
      "7 * 5 = 35\n",
      "7 * 6 = 42\n",
      "7 * 7 = 49\n",
      "7 * 8 = 56\n",
      "7 * 9 = 63\n",
      "\n",
      "8 단\n",
      "8 * 1 = 8\n",
      "8 * 2 = 16\n",
      "8 * 3 = 24\n",
      "8 * 4 = 32\n",
      "8 * 5 = 40\n",
      "8 * 6 = 48\n",
      "8 * 7 = 56\n",
      "8 * 8 = 64\n",
      "8 * 9 = 72\n",
      "\n",
      "9 단\n",
      "9 * 1 = 9\n",
      "9 * 2 = 18\n",
      "9 * 3 = 27\n",
      "9 * 4 = 36\n",
      "9 * 5 = 45\n",
      "9 * 6 = 54\n",
      "9 * 7 = 63\n",
      "9 * 8 = 72\n",
      "9 * 9 = 81\n",
      "\n"
     ]
    }
   ],
   "source": [
    "for dan in range(2,10):\n",
    "    print(dan,\"단\")\n",
    "    for hang in range(1,10):\n",
    "        print(dan, \"*\", hang, \"=\", dan * hang)\n",
    "    print()"
   ]
  },
  {
   "cell_type": "code",
   "execution_count": 65,
   "metadata": {
    "scrolled": true
   },
   "outputs": [
    {
     "name": "stdout",
     "output_type": "stream",
     "text": [
      "2 단\n",
      "2 * 1 = 2\n",
      "2 * 2 = 4\n",
      "2 * 3 = 6\n",
      "2 * 4 = 8\n",
      "2 * 5 = 10\n",
      "2 * 6 = 12\n",
      "2 * 7 = 14\n",
      "2 * 8 = 16\n",
      "2 * 9 = 18\n",
      "\n",
      "3 단\n",
      "3 * 1 = 3\n",
      "3 * 2 = 6\n",
      "3 * 3 = 9\n",
      "3 * 4 = 12\n",
      "3 * 5 = 15\n",
      "3 * 6 = 18\n",
      "3 * 7 = 21\n",
      "3 * 8 = 24\n",
      "3 * 9 = 27\n",
      "\n",
      "4 단\n",
      "4 * 1 = 4\n",
      "4 * 2 = 8\n",
      "4 * 3 = 12\n",
      "4 * 4 = 16\n",
      "4 * 5 = 20\n",
      "4 * 6 = 24\n",
      "4 * 7 = 28\n",
      "4 * 8 = 32\n",
      "4 * 9 = 36\n",
      "\n",
      "5 단\n",
      "5 * 1 = 5\n",
      "5 * 2 = 10\n",
      "5 * 3 = 15\n",
      "5 * 4 = 20\n",
      "5 * 5 = 25\n",
      "5 * 6 = 30\n",
      "5 * 7 = 35\n",
      "5 * 8 = 40\n",
      "5 * 9 = 45\n",
      "\n",
      "6 단\n",
      "6 * 1 = 6\n",
      "6 * 2 = 12\n",
      "6 * 3 = 18\n",
      "6 * 4 = 24\n",
      "6 * 5 = 30\n",
      "6 * 6 = 36\n",
      "6 * 7 = 42\n",
      "6 * 8 = 48\n",
      "6 * 9 = 54\n",
      "\n",
      "7 단\n",
      "7 * 1 = 7\n",
      "7 * 2 = 14\n",
      "7 * 3 = 21\n",
      "7 * 4 = 28\n",
      "7 * 5 = 35\n",
      "7 * 6 = 42\n",
      "7 * 7 = 49\n",
      "7 * 8 = 56\n",
      "7 * 9 = 63\n",
      "\n",
      "8 단\n",
      "8 * 1 = 8\n",
      "8 * 2 = 16\n",
      "8 * 3 = 24\n",
      "8 * 4 = 32\n",
      "8 * 5 = 40\n",
      "8 * 6 = 48\n",
      "8 * 7 = 56\n",
      "8 * 8 = 64\n",
      "8 * 9 = 72\n",
      "\n",
      "9 단\n",
      "9 * 1 = 9\n",
      "9 * 2 = 18\n",
      "9 * 3 = 27\n",
      "9 * 4 = 36\n",
      "9 * 5 = 45\n",
      "9 * 6 = 54\n",
      "9 * 7 = 63\n",
      "9 * 8 = 72\n",
      "9 * 9 = 81\n",
      "\n"
     ]
    }
   ],
   "source": [
    "dan = 2\n",
    "while dan <= 9:\n",
    "    hang = 1\n",
    "    print(dan,\"단\")\n",
    "    while hang <= 9:\n",
    "        print(dan,\"*\",hang,\"=\",dan*hang)\n",
    "        hang += 1\n",
    "    print()    \n",
    "    dan += 1"
   ]
  },
  {
   "cell_type": "markdown",
   "metadata": {},
   "source": [
    "---\n",
    "Q. 문제 "
   ]
  },
  {
   "cell_type": "code",
   "execution_count": 78,
   "metadata": {},
   "outputs": [
    {
     "name": "stdout",
     "output_type": "stream",
     "text": [
      "*\n",
      "**\n",
      "***\n",
      "****\n",
      "*****\n",
      "******\n",
      "*******\n",
      "********\n",
      "*********\n"
     ]
    }
   ],
   "source": [
    "for i in range(1, 10):\n",
    "    for n in range(i):\n",
    "        print(\"*\",end='')\n",
    "    print()"
   ]
  },
  {
   "cell_type": "markdown",
   "metadata": {},
   "source": [
    "---\n",
    "Q. 문제 : 덧셈 문제를 출제하고 사용자로부터 정답을 입력받아 답을 체크한다"
   ]
  },
  {
   "cell_type": "code",
   "execution_count": 80,
   "metadata": {},
   "outputs": [
    {
     "name": "stdout",
     "output_type": "stream",
     "text": [
      "3 + 7 = ? \n",
      "정답을 입력하세요 :14\n",
      "정답을 입력하세요 :34\n",
      "정답을 입력하세요 :41\n",
      "정답을 입력하세요 :489\n",
      "정답을 입력하세요 :2\n",
      "정답을 입력하세요 :16\n",
      "정답을 입력하세요 :10\n",
      "참 잘했어요\n"
     ]
    }
   ],
   "source": [
    "print(\"3 + 7 = ? \")\n",
    "while True:\n",
    "    a = int(input(\"정답을 입력하세요 :\"))\n",
    "    if a == 3 + 7:\n",
    "        break\n",
    "print(\"참 잘했어요\")"
   ]
  },
  {
   "cell_type": "code",
   "execution_count": 82,
   "metadata": {},
   "outputs": [
    {
     "name": "stdout",
     "output_type": "stream",
     "text": [
      "0,1,2,3,4,5,6,7,8,9,\n",
      "10,11,12,13,14,15,16,17,18,19,\n",
      "20,21,22,23,24,25,26,27,28,29,\n",
      "30,31,32,33,34,35,36,37,38,39,\n",
      "40,41,42,43,44,45,46,47,48,49,\n"
     ]
    }
   ],
   "source": [
    "for ten in range(0,5):\n",
    "    for num in range(ten * 10, ten * 10 + 10):\n",
    "        print(num, end=',')\n",
    "    print()"
   ]
  },
  {
   "cell_type": "markdown",
   "metadata": {},
   "source": [
    "---\n",
    "Q. 문제 : while문을 사용하여 1에서 200까지 모든 3의 배수 합계를 계산하라"
   ]
  },
  {
   "cell_type": "code",
   "execution_count": 16,
   "metadata": {},
   "outputs": [
    {
     "name": "stdout",
     "output_type": "stream",
     "text": [
      "sum = 6633\n"
     ]
    }
   ],
   "source": [
    "num = 3\n",
    "sum = 0\n",
    "\n",
    "while num <= 200:\n",
    "    if num % 3 == 0:\n",
    "        sum += num\n",
    "        #print(sum)\n",
    "    else:\n",
    "        pass\n",
    "    num += 1\n",
    "    \n",
    "print(\"sum =\", sum)"
   ]
  },
  {
   "cell_type": "code",
   "execution_count": 15,
   "metadata": {},
   "outputs": [
    {
     "name": "stdout",
     "output_type": "stream",
     "text": [
      "sum = 6633\n"
     ]
    }
   ],
   "source": [
    "num =3\n",
    "sum = 0\n",
    "while num <= 200:\n",
    "    sum += num\n",
    "    num += 3\n",
    "print(\"sum =\", sum)"
   ]
  },
  {
   "cell_type": "markdown",
   "metadata": {},
   "source": [
    "---\n",
    "Q. 문제 : for 문으로 1에서 10까지 출력하되 3의 배수는 건너뛰는 예제를 작성하라"
   ]
  },
  {
   "cell_type": "code",
   "execution_count": 18,
   "metadata": {},
   "outputs": [
    {
     "name": "stdout",
     "output_type": "stream",
     "text": [
      "1,2,4,5,7,8,10,"
     ]
    }
   ],
   "source": [
    "for i in range(1,11):\n",
    "    if i % 3 == 0 :\n",
    "        pass\n",
    "    else:\n",
    "        print(i, end=',')"
   ]
  },
  {
   "cell_type": "code",
   "execution_count": 20,
   "metadata": {},
   "outputs": [
    {
     "name": "stdout",
     "output_type": "stream",
     "text": [
      "1,2,4,5,7,8,10,"
     ]
    }
   ],
   "source": [
    "for i in range(1,11):\n",
    "    if i % 3 == 0 :\n",
    "        continue\n",
    "    print(i, end=',')"
   ]
  },
  {
   "cell_type": "code",
   "execution_count": 31,
   "metadata": {},
   "outputs": [
    {
     "name": "stdout",
     "output_type": "stream",
     "text": [
      "         *\n",
      "        **\n",
      "       ***\n",
      "      ****\n",
      "     *****\n",
      "    ******\n",
      "   *******\n",
      "  ********\n",
      " *********\n",
      "**********\n"
     ]
    }
   ],
   "source": [
    "for i in range(1,11):\n",
    "    for x in range(10-i):\n",
    "        print(\" \",end='')\n",
    "    for y in range(i):\n",
    "        print(\"*\", end='')\n",
    "    print()"
   ]
  },
  {
   "cell_type": "code",
   "execution_count": 33,
   "metadata": {},
   "outputs": [
    {
     "name": "stdout",
     "output_type": "stream",
     "text": [
      "         *\n",
      "        ***\n",
      "       *****\n",
      "      *******\n",
      "     *********\n",
      "    ***********\n",
      "   *************\n",
      "  ***************\n",
      " *****************\n",
      "*******************\n"
     ]
    }
   ],
   "source": [
    "for i in range(1,11):\n",
    "    for x in range(10-i):\n",
    "        print(\" \", end='')\n",
    "    for y in range(2*i-1):\n",
    "        print(\"*\",end='')\n",
    "    print()"
   ]
  },
  {
   "cell_type": "markdown",
   "metadata": {},
   "source": [
    "# 7장. 함수"
   ]
  },
  {
   "cell_type": "markdown",
   "metadata": {},
   "source": [
    "## 7-1. 함수와 인수"
   ]
  },
  {
   "cell_type": "code",
   "execution_count": 2,
   "metadata": {},
   "outputs": [
    {
     "name": "stdout",
     "output_type": "stream",
     "text": [
      "~ 4 = 10\n",
      "~ 10 = 55\n"
     ]
    }
   ],
   "source": [
    "sum = 0\n",
    "for num in range(5):\n",
    "    sum += num\n",
    "print(\"~ 4 =\", sum)\n",
    "\n",
    "sum = 0\n",
    "for num in range(11):\n",
    "    sum += num\n",
    "print(\"~ 10 =\", sum)"
   ]
  },
  {
   "cell_type": "code",
   "execution_count": 3,
   "metadata": {},
   "outputs": [
    {
     "name": "stdout",
     "output_type": "stream",
     "text": [
      "~ 4 = 10\n",
      "~ 5 = 55\n"
     ]
    }
   ],
   "source": [
    "def calcsum(n):\n",
    "    sum = 0\n",
    "    for num in range(n+1):\n",
    "        sum += num\n",
    "    return sum\n",
    "\n",
    "print(\"~ 4 =\",calcsum(4))\n",
    "print(\"~ 5 =\", calcsum(10))"
   ]
  },
  {
   "cell_type": "code",
   "execution_count": 4,
   "metadata": {},
   "outputs": [
    {
     "name": "stdout",
     "output_type": "stream",
     "text": [
      "3 ~ 7 = 25\n"
     ]
    }
   ],
   "source": [
    "def calcrange(begin, end):\n",
    "    sum = 0\n",
    "    for num in range(begin, end+1):\n",
    "        sum += num\n",
    "    return sum\n",
    "\n",
    "print(\"3 ~ 7 =\",calcrange(3,7))"
   ]
  },
  {
   "cell_type": "markdown",
   "metadata": {},
   "source": [
    "### 리턴값"
   ]
  },
  {
   "cell_type": "markdown",
   "metadata": {},
   "source": [
    "return - 함수의 실행 결과를 보고하는 값. 리턴이 무조건 있어야 하는 것은 아님(print로 결과값 도출할 수도)\n",
    "\n",
    "But, print는 출력하는 것(수치X), return은 값(수치)를 내놓는 것.\n",
    "\n",
    "함수에서는 output이 return\n",
    "\n",
    "input(인수) -> function(함수) -> output(return)  *이렇게 define(정의)하는 것\n",
    "\n",
    "ex) def 함수명(인수) :\n",
    "\n",
    "        명령어\n",
    "        return 결과값(수치)\n",
    "        \n",
    "지역변수(함수 내) 전역변수(함수 밖에서 전체)"
   ]
  },
  {
   "cell_type": "code",
   "execution_count": 12,
   "metadata": {},
   "outputs": [
    {
     "name": "stdout",
     "output_type": "stream",
     "text": [
      "55\n"
     ]
    }
   ],
   "source": [
    "a = calcsum(10)\n",
    "print(calcsum(10))"
   ]
  },
  {
   "cell_type": "code",
   "execution_count": 13,
   "metadata": {},
   "outputs": [
    {
     "data": {
      "text/plain": [
       "5050"
      ]
     },
     "execution_count": 13,
     "metadata": {},
     "output_type": "execute_result"
    }
   ],
   "source": [
    "# 값을 리턴하는 함수의 호출문은 그 자체가 하나의 값. 때문에 수식 내에서 바로 사용 가능.\n",
    "calcsum(100)"
   ]
  },
  {
   "cell_type": "markdown",
   "metadata": {},
   "source": [
    "## 7-2. 인수의 형식"
   ]
  },
  {
   "cell_type": "markdown",
   "metadata": {},
   "source": [
    "### 가변인수 - 고정되지 않은 임의 개수의 인수를 받음\n",
    "\n",
    "* 기호를 인수 이름 앞에 붙임(인수 목록의 마지막에 와야 함)\n",
    "\n",
    "ex) intsum(s, *ints) - 가능 // (ints,s) : 가변-> 인수-에러 // (*ints, *nums) : 가변 -> 가변 -에러"
   ]
  },
  {
   "cell_type": "code",
   "execution_count": 26,
   "metadata": {},
   "outputs": [],
   "source": [
    "def intsum(*ints):\n",
    "    sum = 0\n",
    "    for num in ints:\n",
    "        sum += num\n",
    "    return sum"
   ]
  },
  {
   "cell_type": "code",
   "execution_count": 27,
   "metadata": {},
   "outputs": [
    {
     "name": "stdout",
     "output_type": "stream",
     "text": [
      "6\n",
      "45\n",
      "54\n"
     ]
    }
   ],
   "source": [
    "print(intsum(1,2,3))\n",
    "print(intsum(5,7,9,11,13))\n",
    "print(intsum(8,9,6,2,9,7,5,8))"
   ]
  },
  {
   "cell_type": "code",
   "execution_count": 30,
   "metadata": {},
   "outputs": [
    {
     "name": "stdout",
     "output_type": "stream",
     "text": [
      "220\n"
     ]
    }
   ],
   "source": [
    "print(intsum(110)*2)"
   ]
  },
  {
   "cell_type": "code",
   "execution_count": 17,
   "metadata": {},
   "outputs": [],
   "source": [
    "# return을 print로 한다면?\n",
    "\n",
    "def intsum(*ints):\n",
    "    sum = 0\n",
    "    for num in ints:\n",
    "        sum += num\n",
    "    print(sum)"
   ]
  },
  {
   "cell_type": "code",
   "execution_count": 21,
   "metadata": {},
   "outputs": [
    {
     "name": "stdout",
     "output_type": "stream",
     "text": [
      "6\n",
      "None\n"
     ]
    }
   ],
   "source": [
    "print(intsum(1,2,3))\n",
    "# 6값은 intsum함수 안의 print 값/ print(함수)에서 출력 None은 .값과 수치는 없으니까 없는데 출력해달라고 하니까 none"
   ]
  },
  {
   "cell_type": "code",
   "execution_count": 23,
   "metadata": {
    "scrolled": false
   },
   "outputs": [
    {
     "name": "stdout",
     "output_type": "stream",
     "text": [
      "6\n"
     ]
    }
   ],
   "source": [
    "intsum(1,2,3)   # intsum 함수 안의 print 호출값"
   ]
  },
  {
   "cell_type": "markdown",
   "metadata": {},
   "source": [
    "print = 출력\n",
    "return = 값"
   ]
  },
  {
   "cell_type": "code",
   "execution_count": 29,
   "metadata": {},
   "outputs": [
    {
     "name": "stdout",
     "output_type": "stream",
     "text": [
      "1 ~ 10 = 25\n",
      "1 ~ 10 = 30\n"
     ]
    }
   ],
   "source": [
    "def calcstep(begin, end, step):\n",
    "    sum = 0\n",
    "    for num in range(begin, end+1, step):\n",
    "        sum += num\n",
    "    return sum\n",
    "\n",
    "print(\"1 ~ 10 =\", calcstep(1,10,2))   # 홀수의 합계 \n",
    "print(\"1 ~ 10 =\", calcstep(2,10,2))   # 짝수의 합계"
   ]
  },
  {
   "cell_type": "code",
   "execution_count": 33,
   "metadata": {},
   "outputs": [
    {
     "name": "stdout",
     "output_type": "stream",
     "text": [
      "1 ~ 100 = 2500\n",
      "1 ~ 100 = 2500\n",
      "1 ~ 100 = 1717\n",
      "1 ~ 100 = 2500\n"
     ]
    }
   ],
   "source": [
    "def calcstep(begin, end, step=2): # step =''으로 디폴트 설정\n",
    "    sum = 0\n",
    "    for num in range(begin, end+1, step):\n",
    "        sum += num\n",
    "    return sum\n",
    "\n",
    "print(\"1 ~ 100 =\", calcstep(1,100,2))\n",
    "print(\"1 ~ 100 =\", calcstep(1,100))                 # 디폴트로 된 step을 쓰는 것\n",
    "print(\"1 ~ 100 =\", calcstep(1,100,3))               # 디폴트로 정의해놨지만 다른 걸 사용할 수도\n",
    "print(\"1 ~ 100 =\", calcstep(1, step=2, end=100))"
   ]
  },
  {
   "cell_type": "markdown",
   "metadata": {},
   "source": [
    "### 키워드 인수"
   ]
  },
  {
   "cell_type": "code",
   "execution_count": null,
   "metadata": {},
   "outputs": [],
   "source": [
    "getscore(grade, clano, stuno, subject, month)"
   ]
  },
  {
   "cell_type": "code",
   "execution_count": 35,
   "metadata": {},
   "outputs": [
    {
     "data": {
      "text/plain": [
       "50"
      ]
     },
     "execution_count": 35,
     "metadata": {},
     "output_type": "execute_result"
    }
   ],
   "source": [
    "def calcsum(begin, end, step, what, test):\n",
    "    sum = 0\n",
    "    for num in range(begin, end+1, step):\n",
    "        sum += num\n",
    "        sum += what\n",
    "        sum += test\n",
    "    return sum\n",
    "\n",
    "calcsum(1,10,2,3,2)"
   ]
  },
  {
   "cell_type": "markdown",
   "metadata": {},
   "source": [
    "### 키워드 가변 인수\n",
    "키워드 인수를 가변 개수 전달할 때 인수 목록에 ** 기호를 붙인다"
   ]
  },
  {
   "cell_type": "code",
   "execution_count": 44,
   "metadata": {},
   "outputs": [],
   "source": [
    "# python(실행파일) |  test.py(소스파일) | -t (옵션)   | -n\n",
    "# arg[0]           |  arg[1]            | arg[2]      | arg[3]      - 배열의 몇번째\n",
    "\n",
    "def calcstep(**args):\n",
    "    begin = args['begin'] # args[0]\n",
    "    end = args['end']   # args[1]\n",
    "    step = args['step']  # args[2]  키워드 가변인수(args)에 step(2)번째 들어오는 걸 변수 c라고 부른다\n",
    "    \n",
    "    sum = 0\n",
    "    for num in range(begin, end+1, step):\n",
    "        sum += num\n",
    "    return sum\n",
    "\n"
   ]
  },
  {
   "cell_type": "code",
   "execution_count": 45,
   "metadata": {},
   "outputs": [
    {
     "name": "stdout",
     "output_type": "stream",
     "text": [
      "3 ~ 5 = 5\n"
     ]
    }
   ],
   "source": [
    "print(\"3 ~ 5 =\", calcstep(begin=1, end=5, step=3))"
   ]
  },
  {
   "cell_type": "code",
   "execution_count": 46,
   "metadata": {
    "scrolled": true
   },
   "outputs": [
    {
     "ename": "TypeError",
     "evalue": "calcstep() takes 0 positional arguments but 3 were given",
     "output_type": "error",
     "traceback": [
      "\u001b[1;31m---------------------------------------------------------------------------\u001b[0m",
      "\u001b[1;31mTypeError\u001b[0m                                 Traceback (most recent call last)",
      "\u001b[1;32m<ipython-input-46-fc2468432589>\u001b[0m in \u001b[0;36m<module>\u001b[1;34m\u001b[0m\n\u001b[1;32m----> 1\u001b[1;33m \u001b[0mprint\u001b[0m\u001b[1;33m(\u001b[0m\u001b[1;34m\"3 ~ 5 =\"\u001b[0m\u001b[1;33m,\u001b[0m \u001b[0mcalcstep\u001b[0m\u001b[1;33m(\u001b[0m\u001b[1;36m3\u001b[0m\u001b[1;33m,\u001b[0m\u001b[1;36m5\u001b[0m\u001b[1;33m,\u001b[0m\u001b[1;36m1\u001b[0m\u001b[1;33m)\u001b[0m\u001b[1;33m)\u001b[0m\u001b[1;33m\u001b[0m\u001b[1;33m\u001b[0m\u001b[0m\n\u001b[0m",
      "\u001b[1;31mTypeError\u001b[0m: calcstep() takes 0 positional arguments but 3 were given"
     ]
    }
   ],
   "source": [
    "print(\"3 ~ 5 =\", calcstep(3,5,1))    # 키워드 가변인수의 변수명을 적지 않아서"
   ]
  },
  {
   "cell_type": "code",
   "execution_count": 7,
   "metadata": {},
   "outputs": [],
   "source": [
    "def calcstep(**args):\n",
    "    a= args['a'] #args[0]\n",
    "    b = args['b']   #args[1]\n",
    "    c = args['c'] #args[2]   키워드가변인수(args)에 step번째 들어오는 걸 c라고 부른다\n",
    "    \n",
    "    sum = 0\n",
    "    for num in range(a, b+1, c):\n",
    "        sum += num\n",
    "    return sum"
   ]
  },
  {
   "cell_type": "code",
   "execution_count": 8,
   "metadata": {},
   "outputs": [
    {
     "name": "stdout",
     "output_type": "stream",
     "text": [
      "3 ~ 5 = 12\n"
     ]
    }
   ],
   "source": [
    "print(\"3 ~ 5 =\", calcstep(c=1, b=5, a=3)) "
   ]
  },
  {
   "cell_type": "code",
   "execution_count": 9,
   "metadata": {},
   "outputs": [
    {
     "name": "stdout",
     "output_type": "stream",
     "text": [
      "김상형\n",
      "총점 : 264\n",
      "평균 : 88.0\n",
      "김한솔\n",
      "총점 : 381\n",
      "평균 : 95.25\n"
     ]
    }
   ],
   "source": [
    "# 위치 인수와 키워드 인수를 동시에 가변으로 취할 수도 있다\n",
    "\n",
    "def calcscore(name, *score, **option):\n",
    "    print(name)\n",
    "    sum = 0\n",
    "    for s in score:\n",
    "        sum += s\n",
    "    print(\"총점 :\",sum)\n",
    "    if (option['avg'] == True):\n",
    "        print(\"평균 :\",sum / len(score))\n",
    "        \n",
    "calcscore(\"김상형\", 88,99,77,avg=True)\n",
    "calcscore(\"김한솔\",99,98,95,89,avg=True)"
   ]
  },
  {
   "cell_type": "markdown",
   "metadata": {},
   "source": [
    "## 7-3. 변수의 범위"
   ]
  },
  {
   "cell_type": "markdown",
   "metadata": {},
   "source": [
    "지역 변수 - 함수 안에서 쓰고 끝나는 것\n",
    "\n",
    "전역 변수 - 게임 레벨, 아이템 등"
   ]
  },
  {
   "cell_type": "code",
   "execution_count": 10,
   "metadata": {},
   "outputs": [],
   "source": [
    "def calcsum(n):\n",
    "    sum = 0\n",
    "    for num in range(n + 1):\n",
    "        sum += num\n",
    "    return"
   ]
  },
  {
   "cell_type": "code",
   "execution_count": 45,
   "metadata": {},
   "outputs": [
    {
     "name": "stdout",
     "output_type": "stream",
     "text": [
      "김과장의 함수\n"
     ]
    },
    {
     "ename": "NameError",
     "evalue": "name 'temp' is not defined",
     "output_type": "error",
     "traceback": [
      "\u001b[1;31m---------------------------------------------------------------------------\u001b[0m",
      "\u001b[1;31mNameError\u001b[0m                                 Traceback (most recent call last)",
      "\u001b[1;32m<ipython-input-45-dbec268205e2>\u001b[0m in \u001b[0;36m<module>\u001b[1;34m\u001b[0m\n\u001b[0;32m      4\u001b[0m \u001b[1;33m\u001b[0m\u001b[0m\n\u001b[0;32m      5\u001b[0m \u001b[0mkim\u001b[0m\u001b[1;33m(\u001b[0m\u001b[1;33m)\u001b[0m\u001b[1;33m\u001b[0m\u001b[1;33m\u001b[0m\u001b[0m\n\u001b[1;32m----> 6\u001b[1;33m \u001b[0mprint\u001b[0m\u001b[1;33m(\u001b[0m\u001b[0mtemp\u001b[0m\u001b[1;33m)\u001b[0m\u001b[1;33m\u001b[0m\u001b[1;33m\u001b[0m\u001b[0m\n\u001b[0m",
      "\u001b[1;31mNameError\u001b[0m: name 'temp' is not defined"
     ]
    }
   ],
   "source": [
    "def kim():\n",
    "    temp = \"김과장의 함수\"\n",
    "    print(temp)\n",
    "\n",
    "kim()\n",
    "print(temp)"
   ]
  },
  {
   "cell_type": "code",
   "execution_count": 47,
   "metadata": {},
   "outputs": [
    {
     "name": "stdout",
     "output_type": "stream",
     "text": [
      "1024\n",
      "12\n"
     ]
    }
   ],
   "source": [
    "# temp는 각각 변수에만 해댕되는 지역변수\n",
    "\n",
    "def lee():             # 넣어야하는 인자는 필요X\n",
    "    temp = 2**10\n",
    "    print(temp)\n",
    "    \n",
    "def park(a):            # a에 넣어야 할 인자를 적어줘야 \n",
    "    temp = a*2\n",
    "    print(temp)\n",
    "    \n",
    "lee()\n",
    "park(6)"
   ]
  },
  {
   "cell_type": "code",
   "execution_count": 40,
   "metadata": {},
   "outputs": [],
   "source": [
    "salerate = 0.9                                     # 전역변수\n",
    "\n",
    "def kim():\n",
    "    print(\"오늘의 할인율 :\", salerate)\n",
    "def lee():\n",
    "    price = 1000\n",
    "    print(\"가격 :\", price * salerate)"
   ]
  },
  {
   "cell_type": "code",
   "execution_count": 41,
   "metadata": {},
   "outputs": [
    {
     "name": "stdout",
     "output_type": "stream",
     "text": [
      "오늘의 할인율 : 0.9\n",
      "가격 : 1100.0\n"
     ]
    }
   ],
   "source": [
    "kim()\n",
    "salerate = 1.1\n",
    "lee()"
   ]
  },
  {
   "cell_type": "markdown",
   "metadata": {},
   "source": [
    "### id"
   ]
  },
  {
   "cell_type": "code",
   "execution_count": 57,
   "metadata": {},
   "outputs": [
    {
     "name": "stdout",
     "output_type": "stream",
     "text": [
      "sale 2388280696080\n",
      "global 2388280696496\n"
     ]
    }
   ],
   "source": [
    "price = 1000                       # 전역변수\n",
    "\n",
    "def sale():\n",
    "    price = 500                   # 지역변수\n",
    "    print(\"sale\", id(price))\n",
    "    \n",
    "sale()                          #함수내에서는 지역변수를 우선으로 \n",
    "print(\"global\", id(price))      #함수를 호출하는 게 아니니까 전역변수 price값"
   ]
  },
  {
   "cell_type": "code",
   "execution_count": 56,
   "metadata": {},
   "outputs": [
    {
     "name": "stdout",
     "output_type": "stream",
     "text": [
      "500\n",
      "500\n"
     ]
    }
   ],
   "source": [
    "price = 1000\n",
    "\n",
    "def sale():\n",
    "    global price\n",
    "    price = 500\n",
    "    print(price)\n",
    "    \n",
    "sale()             #함수 내에서 global을 선언하면 전역변수로 \n",
    "print(price)"
   ]
  },
  {
   "cell_type": "markdown",
   "metadata": {},
   "source": [
    "## docstring - 함수 선언문과 본체 사이에 작성"
   ]
  },
  {
   "cell_type": "code",
   "execution_count": 58,
   "metadata": {},
   "outputs": [
    {
     "name": "stdout",
     "output_type": "stream",
     "text": [
      "Help on function calcsum in module __main__:\n",
      "\n",
      "calcsum(n)\n",
      "    1 ~ n까지의 합계를 구해 리턴한다\n",
      "\n"
     ]
    }
   ],
   "source": [
    "def calcsum(n):\n",
    "    \"\"\"1 ~ n까지의 합계를 구해 리턴한다\"\"\"\n",
    "    sum = 0\n",
    "    for i in range(n+1):\n",
    "        sum += i\n",
    "    return sum\n",
    "\n",
    "help(calcsum)"
   ]
  },
  {
   "cell_type": "markdown",
   "metadata": {},
   "source": [
    "내장 함수"
   ]
  },
  {
   "cell_type": "code",
   "execution_count": 59,
   "metadata": {},
   "outputs": [
    {
     "name": "stdout",
     "output_type": "stream",
     "text": [
      "5\n",
      "7\n",
      "1\n"
     ]
    }
   ],
   "source": [
    "print(abs(-5))\n",
    "print(max(3,7))\n",
    "print(min([8,9,1,6,2]))"
   ]
  },
  {
   "cell_type": "markdown",
   "metadata": {},
   "source": [
    "---\n",
    "Q. 문제 : 세 개의 정수를 전달받아 평균값을 구해 리턴하는 함수를 작성하라"
   ]
  },
  {
   "cell_type": "code",
   "execution_count": 9,
   "metadata": {},
   "outputs": [],
   "source": [
    "def calc(a,b,c):\n",
    "    sum = 0\n",
    "    for i in calc:\n",
    "        sum += i\n",
    "    #avg = sum / 3\n",
    "    return sum\n"
   ]
  },
  {
   "cell_type": "code",
   "execution_count": 10,
   "metadata": {},
   "outputs": [
    {
     "ename": "TypeError",
     "evalue": "'function' object is not iterable",
     "output_type": "error",
     "traceback": [
      "\u001b[1;31m---------------------------------------------------------------------------\u001b[0m",
      "\u001b[1;31mTypeError\u001b[0m                                 Traceback (most recent call last)",
      "\u001b[1;32m<ipython-input-10-e8f8ee96aaf6>\u001b[0m in \u001b[0;36m<module>\u001b[1;34m\u001b[0m\n\u001b[1;32m----> 1\u001b[1;33m \u001b[0mprint\u001b[0m\u001b[1;33m(\u001b[0m\u001b[0mcalc\u001b[0m\u001b[1;33m(\u001b[0m\u001b[1;36m3\u001b[0m\u001b[1;33m,\u001b[0m\u001b[1;36m5\u001b[0m\u001b[1;33m,\u001b[0m\u001b[1;36m7\u001b[0m\u001b[1;33m)\u001b[0m\u001b[1;33m)\u001b[0m\u001b[1;33m\u001b[0m\u001b[1;33m\u001b[0m\u001b[0m\n\u001b[0m",
      "\u001b[1;32m<ipython-input-9-34326b3c48f8>\u001b[0m in \u001b[0;36mcalc\u001b[1;34m(a, b, c)\u001b[0m\n\u001b[0;32m      1\u001b[0m \u001b[1;32mdef\u001b[0m \u001b[0mcalc\u001b[0m\u001b[1;33m(\u001b[0m\u001b[0ma\u001b[0m\u001b[1;33m,\u001b[0m\u001b[0mb\u001b[0m\u001b[1;33m,\u001b[0m\u001b[0mc\u001b[0m\u001b[1;33m)\u001b[0m\u001b[1;33m:\u001b[0m\u001b[1;33m\u001b[0m\u001b[1;33m\u001b[0m\u001b[0m\n\u001b[0;32m      2\u001b[0m     \u001b[0msum\u001b[0m \u001b[1;33m=\u001b[0m \u001b[1;36m0\u001b[0m\u001b[1;33m\u001b[0m\u001b[1;33m\u001b[0m\u001b[0m\n\u001b[1;32m----> 3\u001b[1;33m     \u001b[1;32mfor\u001b[0m \u001b[0mi\u001b[0m \u001b[1;32min\u001b[0m \u001b[0mcalc\u001b[0m\u001b[1;33m:\u001b[0m\u001b[1;33m\u001b[0m\u001b[1;33m\u001b[0m\u001b[0m\n\u001b[0m\u001b[0;32m      4\u001b[0m         \u001b[0msum\u001b[0m \u001b[1;33m+=\u001b[0m \u001b[0mi\u001b[0m\u001b[1;33m\u001b[0m\u001b[1;33m\u001b[0m\u001b[0m\n\u001b[0;32m      5\u001b[0m     \u001b[1;31m#avg = sum / 3\u001b[0m\u001b[1;33m\u001b[0m\u001b[1;33m\u001b[0m\u001b[1;33m\u001b[0m\u001b[0m\n",
      "\u001b[1;31mTypeError\u001b[0m: 'function' object is not iterable"
     ]
    }
   ],
   "source": [
    "print(calc(3,5,7))"
   ]
  },
  {
   "cell_type": "code",
   "execution_count": 64,
   "metadata": {},
   "outputs": [],
   "source": [
    "def getaverage(a, b, c):\n",
    "    sum = a + b + c\n",
    "    return sum / 3"
   ]
  },
  {
   "cell_type": "code",
   "execution_count": 65,
   "metadata": {},
   "outputs": [
    {
     "name": "stdout",
     "output_type": "stream",
     "text": [
      "5.0\n"
     ]
    }
   ],
   "source": [
    "print(getaverage(3,5,7))"
   ]
  },
  {
   "cell_type": "markdown",
   "metadata": {},
   "source": [
    "---\n",
    "Q. 문제 : 임의 개수의 인수를 전달받아 가장 큰 숫자를 찾아 리턴하는 함수를 작성하라"
   ]
  },
  {
   "cell_type": "code",
   "execution_count": 73,
   "metadata": {},
   "outputs": [],
   "source": [
    "def big(*num):\n",
    "    return max(*num)"
   ]
  },
  {
   "cell_type": "code",
   "execution_count": 75,
   "metadata": {},
   "outputs": [
    {
     "name": "stdout",
     "output_type": "stream",
     "text": [
      "9\n"
     ]
    }
   ],
   "source": [
    "print(big(3,6,8,9,1,6))"
   ]
  },
  {
   "cell_type": "code",
   "execution_count": 76,
   "metadata": {},
   "outputs": [],
   "source": [
    "def getmax(*nums):\n",
    "    m = nums[0]\n",
    "    for i in nums:\n",
    "        if (i > m):\n",
    "            m = i\n",
    "    return m"
   ]
  },
  {
   "cell_type": "code",
   "execution_count": 77,
   "metadata": {},
   "outputs": [
    {
     "name": "stdout",
     "output_type": "stream",
     "text": [
      "9\n"
     ]
    }
   ],
   "source": [
    "print(getmax(3,6,8,9,1,6))"
   ]
  },
  {
   "cell_type": "markdown",
   "metadata": {},
   "source": [
    "# 8장. 문자열 관리"
   ]
  },
  {
   "cell_type": "code",
   "execution_count": 5,
   "metadata": {},
   "outputs": [
    {
     "name": "stdout",
     "output_type": "stream",
     "text": [
      "t\n",
      "o\n"
     ]
    }
   ],
   "source": [
    "s = \"python\"\n",
    "print(s[2])\n",
    "print(s[-2])"
   ]
  },
  {
   "cell_type": "code",
   "execution_count": 6,
   "metadata": {},
   "outputs": [
    {
     "name": "stdout",
     "output_type": "stream",
     "text": [
      "p,y,t,h,o,n,"
     ]
    }
   ],
   "source": [
    "s = \"python\"\n",
    "for c in s:\n",
    "    print(c,end=',')"
   ]
  },
  {
   "cell_type": "markdown",
   "metadata": {},
   "source": [
    "### 슬라이스"
   ]
  },
  {
   "cell_type": "code",
   "execution_count": 7,
   "metadata": {},
   "outputs": [
    {
     "name": "stdout",
     "output_type": "stream",
     "text": [
      "tho\n",
      "hon\n",
      "pyth\n",
      "th\n"
     ]
    }
   ],
   "source": [
    "s = \"python\"\n",
    "\n",
    "print(s[2:5])\n",
    "print(s[3:])\n",
    "print(s[:4])\n",
    "print(s[2:-2])"
   ]
  },
  {
   "cell_type": "code",
   "execution_count": 8,
   "metadata": {},
   "outputs": [
    {
     "name": "stdout",
     "output_type": "stream",
     "text": [
      "촬영 날짜 : 12 월 24 일\n",
      "촬영 시간 : 10 시 48 분\n",
      "확장자 : jpg\n"
     ]
    }
   ],
   "source": [
    "file = \"20171224-1048300.jpg\"\n",
    "\n",
    "print(\"촬영 날짜 :\", file[4:6],\"월\",file[6:8],\"일\")\n",
    "print(\"촬영 시간 :\", file[9:11],\"시\",file[11:13],\"분\")\n",
    "print(\"확장자 :\", file[-3:])"
   ]
  },
  {
   "cell_type": "code",
   "execution_count": 9,
   "metadata": {},
   "outputs": [
    {
     "name": "stdout",
     "output_type": "stream",
     "text": [
      "월수금일\n",
      "일토금목수화월\n"
     ]
    }
   ],
   "source": [
    "yoil = \"월화수목금토일\"\n",
    "\n",
    "print(yoil[::2])\n",
    "print(yoil[::-1])"
   ]
  },
  {
   "cell_type": "markdown",
   "metadata": {},
   "source": [
    "## 8-2 문자열 메서드\n",
    "### 검색, 조사, 변경, 분할, 대체"
   ]
  },
  {
   "cell_type": "code",
   "execution_count": 11,
   "metadata": {},
   "outputs": [
    {
     "name": "stdout",
     "output_type": "stream",
     "text": [
      "18\n",
      "4\n",
      "9\n",
      "8\n",
      "2\n"
     ]
    }
   ],
   "source": [
    "s = \"python programming\"\n",
    "\n",
    "print(len(s))\n",
    "print(s.find(\"o\"))\n",
    "print(s.rfind('o'))\n",
    "print(s.index('r'))    \n",
    "print(s.count('n'))"
   ]
  },
  {
   "cell_type": "code",
   "execution_count": 13,
   "metadata": {},
   "outputs": [
    {
     "ename": "ValueError",
     "evalue": "substring not found",
     "output_type": "error",
     "traceback": [
      "\u001b[1;31m---------------------------------------------------------------------------\u001b[0m",
      "\u001b[1;31mValueError\u001b[0m                                Traceback (most recent call last)",
      "\u001b[1;32m<ipython-input-13-ddc547026369>\u001b[0m in \u001b[0;36m<module>\u001b[1;34m\u001b[0m\n\u001b[0;32m      1\u001b[0m \u001b[1;31m# 문자를 찾는다는 면에서 find와 같지만 해당 문자가 없을 때 예외가 발생한다\u001b[0m\u001b[1;33m\u001b[0m\u001b[1;33m\u001b[0m\u001b[1;33m\u001b[0m\u001b[0m\n\u001b[1;32m----> 2\u001b[1;33m \u001b[0mprint\u001b[0m\u001b[1;33m(\u001b[0m\u001b[0ms\u001b[0m\u001b[1;33m.\u001b[0m\u001b[0mindex\u001b[0m\u001b[1;33m(\u001b[0m\u001b[1;34m'z'\u001b[0m\u001b[1;33m)\u001b[0m\u001b[1;33m)\u001b[0m\u001b[1;33m\u001b[0m\u001b[1;33m\u001b[0m\u001b[0m\n\u001b[0m",
      "\u001b[1;31mValueError\u001b[0m: substring not found"
     ]
    }
   ],
   "source": [
    "# 문자를 찾는다는 면에서 find와 같지만 해당 문자가 없을 때 예외가 발생한다\n",
    "print(s.index('z'))"
   ]
  },
  {
   "cell_type": "code",
   "execution_count": 14,
   "metadata": {},
   "outputs": [
    {
     "name": "stdout",
     "output_type": "stream",
     "text": [
      "-1\n"
     ]
    }
   ],
   "source": [
    "print(s.find('z'))   # .find - 찾는 문자가 없을 때 '-1'"
   ]
  },
  {
   "cell_type": "code",
   "execution_count": 16,
   "metadata": {},
   "outputs": [
    {
     "name": "stdout",
     "output_type": "stream",
     "text": [
      "생각의 출현 횟수 : 9\n"
     ]
    }
   ],
   "source": [
    "#  .count\n",
    "\n",
    "s = \"\"\"생각이란 생각할수록 생각나므로 생각하지 말아야 할 생각은 생각하지\n",
    "않으려고 하는 생각이 옳은 생각이라고 생각합니다.\"\"\"\n",
    "\n",
    "print(\"생각의 출현 횟수 :\", s.count(\"생각\"))"
   ]
  },
  {
   "cell_type": "code",
   "execution_count": 18,
   "metadata": {},
   "outputs": [
    {
     "name": "stdout",
     "output_type": "stream",
     "text": [
      "True\n",
      "False\n",
      "True\n",
      "True\n"
     ]
    }
   ],
   "source": [
    "# x in a\n",
    "\n",
    "s = \"python programming\"\n",
    "\n",
    "print('a' in s)\n",
    "print('z' in s)\n",
    "print('pro' in s)\n",
    "print('x' not in s)"
   ]
  },
  {
   "cell_type": "code",
   "execution_count": 20,
   "metadata": {},
   "outputs": [
    {
     "name": "stdout",
     "output_type": "stream",
     "text": [
      "김가입니다\n",
      "그림 파일입니다\n"
     ]
    }
   ],
   "source": [
    "# .startswith  /  .endswith\n",
    "\n",
    "name = \"김한결\"\n",
    "if name.startswith(\"김\"):            # .startswith - 특정 문자열로 시작되는지\n",
    "    print(\"김가입니다\")\n",
    "if name.startswith(\"한\"):\n",
    "    print(\"한가입니다\")\n",
    "    \n",
    "file = \"girl.jpg\"\n",
    "if file.endswith((\".jpg\")):            # .endtswith - 특정 문자열로 끝나는지\n",
    "    print(\"그림 파일입니다\")"
   ]
  },
  {
   "cell_type": "code",
   "execution_count": 22,
   "metadata": {},
   "outputs": [
    {
     "name": "stdout",
     "output_type": "stream",
     "text": [
      "키를 입력하세요 :안알랴줌\n",
      "숫자만 입력하세요\n"
     ]
    }
   ],
   "source": [
    "#  .isdecimal  - 모든 문자가 숫자로 시작하는지\n",
    "\n",
    "height = input(\"키를 입력하세요 :\")\n",
    "if height.isdecimal():\n",
    "    print(\"키 =\", height)\n",
    "else:\n",
    "    print(\"숫자만 입력하세요\")"
   ]
  },
  {
   "cell_type": "code",
   "execution_count": 24,
   "metadata": {},
   "outputs": [
    {
     "name": "stdout",
     "output_type": "stream",
     "text": [
      "good morning. my love kim\n",
      "GOOD MORNING. MY LOVE KIM\n",
      "Good morning. my love KIM\n"
     ]
    }
   ],
   "source": [
    "# 변경 - lower, upper, swapcase, capitalize, title\n",
    "\n",
    "s = \"Good morning. my love KIM\"\n",
    "\n",
    "print(s.lower())        # 전부 소문자\n",
    "print(s.upper())         # 전부 대문자\n",
    "print(s)"
   ]
  },
  {
   "cell_type": "code",
   "execution_count": 28,
   "metadata": {},
   "outputs": [
    {
     "name": "stdout",
     "output_type": "stream",
     "text": [
      "gOOD MORNING. MY LOVE kim\n",
      "Good morning. my love kim\n",
      "Good Morning. My Love Kim\n"
     ]
    }
   ],
   "source": [
    "print(s.swapcase())      # 대소문자 반대로 뒤집기\n",
    "print(s.capitalize())    # 문장의 첫 글자만 대문자로\n",
    "print(s.title())          # 모든 단어의 처음을 대문자로"
   ]
  },
  {
   "cell_type": "code",
   "execution_count": 29,
   "metadata": {},
   "outputs": [
    {
     "name": "stdout",
     "output_type": "stream",
     "text": [
      "파이썬의 영문 철자를 입력하시오 :python\n",
      "맞췄습니다\n"
     ]
    }
   ],
   "source": [
    "python = input(\"파이썬의 영문 철자를 입력하시오 :\")\n",
    "if python.lower() == \"python\":\n",
    "    print(\"맞췄습니다\")"
   ]
  },
  {
   "cell_type": "code",
   "execution_count": 1,
   "metadata": {},
   "outputs": [
    {
     "name": "stdout",
     "output_type": "stream",
     "text": [
      "   angel   님\n",
      "angel   님\n",
      "   angel님\n",
      "angel님\n"
     ]
    }
   ],
   "source": [
    "# strip - lstrip, rstrip\n",
    "\n",
    "s = \"   angel   \"\n",
    "\n",
    "print(s + \"님\")\n",
    "print(s.lstrip()+\"님\")  # left을 공백제거\n",
    "print(s.rstrip()+\"님\")  #  right를 공백제거\n",
    "print(s.strip()+\"님\")"
   ]
  },
  {
   "cell_type": "code",
   "execution_count": 5,
   "metadata": {},
   "outputs": [
    {
     "name": "stdout",
     "output_type": "stream",
     "text": [
      "['짜장', '짬뽕', '탕수육']\n",
      "\n",
      "['서울', '대전', '대구', '부산']\n",
      "\n",
      "서울 찍고 대전 찍고 대구 찍고 부산 찍고 \n"
     ]
    }
   ],
   "source": [
    "# 분할 - split()\n",
    "\n",
    "s = \"짜장 짬뽕 탕수육\"\n",
    "print(s.split())\n",
    "print()\n",
    "\n",
    "s2 = \"서울->대전->대구->부산\"\n",
    "city = s2.split(\"->\")\n",
    "print(city)\n",
    "print()\n",
    "\n",
    "for c in city:\n",
    "    print(c,\"찍고\",end=\" \")\n",
    "print()"
   ]
  },
  {
   "cell_type": "code",
   "execution_count": 6,
   "metadata": {},
   "outputs": [
    {
     "name": "stdout",
     "output_type": "stream",
     "text": [
      "['서울', '대전', '대구', '부산']\n"
     ]
    }
   ],
   "source": [
    "s2 = \"서울->대전->대구->부산\"\n",
    " \n",
    "print(s2.split(\"->\"))"
   ]
  },
  {
   "cell_type": "code",
   "execution_count": 15,
   "metadata": {},
   "outputs": [
    {
     "name": "stdout",
     "output_type": "stream",
     "text": [
      "강나루 건너서\n",
      "밀밭 길을\n",
      "\n",
      "구름에 달 가듯이\n",
      "가는 나그네\n",
      "\n",
      "길은 외줄기\n",
      "남도 삼백리\n",
      "\n",
      "술 익는 마을마다\n",
      "타는 저녁놀\n",
      "\n",
      "구름에 달 가듯이\n",
      "가는 나그네\n"
     ]
    }
   ],
   "source": [
    "# splitline - 긴 문서를 각 행별로 쪼개기\n",
    "\n",
    "traveler = \"\"\"강나루 건너서\\n밀밭 길을\\n\\n구름에 달 가듯이\\n가는 나그네\\n\n",
    "길은 외줄기\\n남도 삼백리\\n\\n술 익는 마을마다\\n타는 저녁놀\\n\n",
    "구름에 달 가듯이\\n가는 나그네\"\"\"\n",
    "poet = traveler.splitlines()\n",
    "for line in poet:\n",
    "    print(line)"
   ]
  },
  {
   "cell_type": "code",
   "execution_count": null,
   "metadata": {},
   "outputs": [],
   "source": [
    "f = open(\"poet.txt\",\"wt\")\n",
    "f.write()"
   ]
  },
  {
   "cell_type": "code",
   "execution_count": 16,
   "metadata": {},
   "outputs": [
    {
     "name": "stdout",
     "output_type": "stream",
     "text": [
      "대._.한._.민._.국\n"
     ]
    }
   ],
   "source": [
    "# join - 삽입 메서드\n",
    "\n",
    "s = \"._.\"\n",
    "print(s.join(\"대한민국\"))        # 대한민국 사이사이에 ._.를 삽입"
   ]
  },
  {
   "cell_type": "code",
   "execution_count": 20,
   "metadata": {},
   "outputs": [
    {
     "name": "stdout",
     "output_type": "stream",
     "text": [
      "['서울', '대전', '대구', '부산']\n",
      "서울 찍고, 대전 찍고, 대구 찍고, 부산\n"
     ]
    }
   ],
   "source": [
    "s2 = \"서울->대전->대구->부산\"\n",
    "city = s2.split(\"->\")             # 분할. 문장X, 단어\n",
    "print(city)\n",
    "print(\" 찍고, \".join(city))        # city(도시 이름) 사이사이에  \"찍고\"를 삽입"
   ]
  },
  {
   "cell_type": "code",
   "execution_count": 21,
   "metadata": {},
   "outputs": [
    {
     "name": "stdout",
     "output_type": "stream",
     "text": [
      "독도는 일본땅이다. 대마도도 일본땅이다\n",
      "독도는 한국땅이다. 대마도도 한국땅이다\n"
     ]
    }
   ],
   "source": [
    "# 대체 - replace\n",
    "\n",
    "s = \"독도는 일본땅이다. 대마도도 일본땅이다\"\n",
    "print(s)\n",
    "print(s.replace(\"일본\",\"한국\"))"
   ]
  },
  {
   "cell_type": "code",
   "execution_count": 23,
   "metadata": {},
   "outputs": [
    {
     "name": "stdout",
     "output_type": "stream",
     "text": [
      "                         안녕하세요\n",
      "안녕하세요                         \n",
      "            안녕하세요             \n"
     ]
    }
   ],
   "source": [
    "# just - 정렬과 같은 개념 (ljust, rjust, center)\n",
    "\n",
    "message = \"안녕하세요\"\n",
    "print(message.rjust(30))   # 문자열 폭 = 30, \n",
    "print(message.ljust(30))\n",
    "print(message.center(30))"
   ]
  },
  {
   "cell_type": "code",
   "execution_count": 4,
   "metadata": {},
   "outputs": [
    {
     "name": "stdout",
     "output_type": "stream",
     "text": [
      "강나루 건너서\n",
      "밀밭 길을\n",
      "\n",
      "구름에 달 가듯이\n",
      "가는 나그네\n",
      "\n",
      "길은 외줄기\n",
      "남도 삼백리\n",
      "\n",
      "술 익는 마을마다\n",
      "타는 저녁놀\n",
      "\n",
      "구름에 달 가듯이\n",
      "가는 나그네\n",
      "\n",
      "['강나루 건너서', '밀밭 길을', '', '구름에 달 가듯이', '가는 나그네', '', '길은 외줄기', '남도 삼백리', '', '술 익는 마을마다', '타는 저녁놀', '', '구름에 달 가듯이', '가는 나그네']\n",
      "\n",
      "           강나루 건너서            \n",
      "            밀밭 길을             \n",
      "                              \n",
      "          구름에 달 가듯이           \n",
      "            가는 나그네            \n",
      "                              \n",
      "            길은 외줄기            \n",
      "            남도 삼백리            \n",
      "                              \n",
      "          술 익는 마을마다           \n",
      "            타는 저녁놀            \n",
      "                              \n",
      "          구름에 달 가듯이           \n",
      "            가는 나그네            \n"
     ]
    }
   ],
   "source": [
    "traveler = \"\"\"강나루 건너서\\n밀밭 길을\\n\\n구름에 달 가듯이\\n가는 나그네\\n\n",
    "길은 외줄기\\n남도 삼백리\\n\\n술 익는 마을마다\\n타는 저녁놀\\n\n",
    "구름에 달 가듯이\\n가는 나그네\"\"\"\n",
    "print(traveler)\n",
    "print()\n",
    "poet= traveler.splitlines()\n",
    "print(poet)\n",
    "print()\n",
    "for line in poet:\n",
    "    print(line.center(30))"
   ]
  },
  {
   "cell_type": "markdown",
   "metadata": {},
   "source": [
    "## 8-3 포멧팅 - %d, %s\n",
    "문자열 안에 여러가지 정보를 출력할 때 - +"
   ]
  },
  {
   "cell_type": "code",
   "execution_count": 5,
   "metadata": {},
   "outputs": [
    {
     "name": "stdout",
     "output_type": "stream",
     "text": [
      "궁금하면 500원\n"
     ]
    }
   ],
   "source": [
    "price = 500\n",
    "print(\"궁금하면 \"+str(price)+\"원\")"
   ]
  },
  {
   "cell_type": "code",
   "execution_count": 6,
   "metadata": {},
   "outputs": [
    {
     "name": "stdout",
     "output_type": "stream",
     "text": [
      "궁금하면 500원\n"
     ]
    }
   ],
   "source": [
    "price = 500\n",
    "print(\"궁금하면 %d원\"%price)"
   ]
  },
  {
   "cell_type": "code",
   "execution_count": 7,
   "metadata": {},
   "outputs": [
    {
     "name": "stdout",
     "output_type": "stream",
     "text": [
      "8월 15일은 광복절일이다\n"
     ]
    }
   ],
   "source": [
    "month = 8\n",
    "day = 15\n",
    "anni = \"광복절\"\n",
    "print(\"%d월 %d일은 %s일이다\" %(month, day, anni))"
   ]
  },
  {
   "cell_type": "code",
   "execution_count": 9,
   "metadata": {},
   "outputs": [
    {
     "name": "stdout",
     "output_type": "stream",
     "text": [
      "가치는123이다\n",
      "가치는  123이다\n",
      "가치는       123이다\n",
      "가치는123이다\n"
     ]
    }
   ],
   "source": [
    "value= 123\n",
    "print(\"가치는%d이다\" %value)\n",
    "print(\"가치는%5d이다\" %value)\n",
    "print(\"가치는%10d이다\" %value)\n",
    "print(\"가치는%1d이다\" %value)"
   ]
  },
  {
   "cell_type": "code",
   "execution_count": 11,
   "metadata": {},
   "outputs": [
    {
     "name": "stdout",
     "output_type": "stream",
     "text": [
      "가격 : 30원\n",
      "가격 : 13500원\n",
      "가격 : 2000원\n",
      "\n",
      "가격 :      30원\n",
      "가격 :   13500원\n",
      "가격 :    2000원\n"
     ]
    }
   ],
   "source": [
    "price = [30, 13500, 2000]\n",
    "for p in price:\n",
    "    print(\"가격 : %d원\" %p)\n",
    "print()    \n",
    "for p in price:\n",
    "    print(\"가격 : %7d원\" %p)"
   ]
  },
  {
   "cell_type": "code",
   "execution_count": 12,
   "metadata": {},
   "outputs": [
    {
     "name": "stdout",
     "output_type": "stream",
     "text": [
      "가격 : 30     원\n",
      "가격 : 13500  원\n",
      "가격 : 2000   원\n"
     ]
    }
   ],
   "source": [
    "price = [30, 13500, 2000]\n",
    "for p in price:\n",
    "    print(\"가격 : %-7d원\" %p)"
   ]
  },
  {
   "cell_type": "code",
   "execution_count": 13,
   "metadata": {},
   "outputs": [
    {
     "name": "stdout",
     "output_type": "stream",
     "text": [
      "  3.141593\n",
      "3.14159265\n",
      "   3.14159\n",
      "      3.14\n"
     ]
    }
   ],
   "source": [
    "pie = 3.14159265\n",
    "print(\"%10f\" %pie)\n",
    "print(\"%10.8f\" %pie)\n",
    "print(\"%10.5f\" %pie)\n",
    "print(\"%10.2f\" %pie)"
   ]
  },
  {
   "cell_type": "code",
   "execution_count": 15,
   "metadata": {},
   "outputs": [
    {
     "name": "stdout",
     "output_type": "stream",
     "text": [
      "이름 : 한결, 나이 : 16, 키 : 162.5\n"
     ]
    }
   ],
   "source": [
    "# 신형 포맷팅 - {}\n",
    "\n",
    "name =\"한결\"\n",
    "age =16\n",
    "height = 162.5\n",
    "print(\"이름 : {}, 나이 : {}, 키 : {}\".format(name, age, height))"
   ]
  },
  {
   "cell_type": "code",
   "execution_count": 16,
   "metadata": {},
   "outputs": [
    {
     "name": "stdout",
     "output_type": "stream",
     "text": [
      "이름 : 한결, 나이 :16, 키:162.500000\n"
     ]
    }
   ],
   "source": [
    "name = \"한결\"\n",
    "age =16\n",
    "height = 162.5\n",
    "print(\"이름 : {0:s}, 나이 :{1:d}, 키:{2:f}\".format(name, age, height))"
   ]
  },
  {
   "cell_type": "code",
   "execution_count": 17,
   "metadata": {},
   "outputs": [
    {
     "name": "stdout",
     "output_type": "stream",
     "text": [
      "이름 : 한결        , 나이 :   16, 키:  162.50\n"
     ]
    }
   ],
   "source": [
    "name = \"한결\"\n",
    "age =16\n",
    "height = 162.5\n",
    "print(\"이름 : {0:10s}, 나이 :{1:5d}, 키:{2:8.2f}\".format(name, age, height))"
   ]
  },
  {
   "cell_type": "code",
   "execution_count": 18,
   "metadata": {},
   "outputs": [
    {
     "name": "stdout",
     "output_type": "stream",
     "text": [
      "이름 :     한결    , 나이 :   16, 키:162.50  \n"
     ]
    }
   ],
   "source": [
    "# 정렬 - ^(중앙정렬),<(왼쪽정렬),>(오른쪽 정렬)\n",
    "\n",
    "name = \"한결\"\n",
    "age =16\n",
    "height = 162.5\n",
    "print(\"이름 : {0:^10s}, 나이 :{1:>5d}, 키:{2:<8.2f}\".format(name, age, height))"
   ]
  },
  {
   "cell_type": "markdown",
   "metadata": {},
   "source": [
    "# 9. 리스트_튜플\n",
    "리스트 - 추가o, 변경o, 삭제o / 튜플- 값이 정해져있어, 순서에 X, 값이 정해져 있고 순서가 상관없으니까 몇번째 추가X\n",
    "## 9-1. 리스트"
   ]
  },
  {
   "cell_type": "code",
   "execution_count": 19,
   "metadata": {},
   "outputs": [
    {
     "name": "stdout",
     "output_type": "stream",
     "text": [
      "총점 : 452\n",
      "평균 : 90.4\n"
     ]
    }
   ],
   "source": [
    "score = [88,95,70,100,99]\n",
    "sum = 0\n",
    "for s in score:\n",
    "    sum += s\n",
    "print(\"총점 :\", sum)\n",
    "print(\"평균 :\", sum/len(score))"
   ]
  },
  {
   "cell_type": "code",
   "execution_count": 23,
   "metadata": {},
   "outputs": [
    {
     "name": "stdout",
     "output_type": "stream",
     "text": [
      "88\n",
      "41\n",
      "34\n",
      "89\n",
      "66\n",
      "79\n",
      "21\n",
      "81\n",
      "총점 : 499\n"
     ]
    }
   ],
   "source": [
    "sum = 0\n",
    "for i in score:\n",
    "    sum += i\n",
    "    print(i)\n",
    "print(\"총점 :\",sum)"
   ]
  },
  {
   "cell_type": "code",
   "execution_count": 24,
   "metadata": {},
   "outputs": [
    {
     "name": "stdout",
     "output_type": "stream",
     "text": [
      "[34, 89, 66]\n",
      "[89, 66, 79, 21]\n",
      "[88, 41, 34, 89]\n",
      "[21, 81]\n",
      "81\n",
      "41\n",
      "[41, 89, 79]\n",
      "[88, 89, 21]\n"
     ]
    }
   ],
   "source": [
    "score = [88, 41, 34, 89, 66, 79, 21, 81]\n",
    "print(score[2:5])\n",
    "print(score[3:-1])\n",
    "print(score[:4])\n",
    "print(score[6:])\n",
    "print(score[-1])\n",
    "print(score[1])\n",
    "print(score[1:7:2])\n",
    "print(score[::3])"
   ]
  },
  {
   "cell_type": "code",
   "execution_count": 25,
   "metadata": {},
   "outputs": [
    {
     "name": "stdout",
     "output_type": "stream",
     "text": [
      "34\n"
     ]
    }
   ],
   "source": [
    "print(score[2])"
   ]
  },
  {
   "cell_type": "code",
   "execution_count": 26,
   "metadata": {},
   "outputs": [
    {
     "data": {
      "text/plain": [
       "34"
      ]
     },
     "execution_count": 26,
     "metadata": {},
     "output_type": "execute_result"
    }
   ],
   "source": [
    "score[2]"
   ]
  },
  {
   "cell_type": "code",
   "execution_count": 27,
   "metadata": {},
   "outputs": [],
   "source": [
    "# 값 대입으로 변경\n",
    "\n",
    "score[2] = 100"
   ]
  },
  {
   "cell_type": "code",
   "execution_count": 28,
   "metadata": {},
   "outputs": [
    {
     "name": "stdout",
     "output_type": "stream",
     "text": [
      "100\n"
     ]
    }
   ],
   "source": [
    "print(score[2])"
   ]
  },
  {
   "cell_type": "code",
   "execution_count": 29,
   "metadata": {},
   "outputs": [
    {
     "name": "stdout",
     "output_type": "stream",
     "text": [
      "[88, 41, 100, 89, 66, 79, 21, 81]\n"
     ]
    }
   ],
   "source": [
    "print(score)"
   ]
  },
  {
   "cell_type": "code",
   "execution_count": 30,
   "metadata": {},
   "outputs": [],
   "source": [
    "num = [0, 1, 2, 3, 4, 5, 6, 7, 8, 9]"
   ]
  },
  {
   "cell_type": "code",
   "execution_count": 31,
   "metadata": {},
   "outputs": [
    {
     "name": "stdout",
     "output_type": "stream",
     "text": [
      "[0, 1, 20, 30, 40, 5, 6, 7, 8, 9]\n"
     ]
    }
   ],
   "source": [
    "num[2:5] = [20,30,40]\n",
    "print(num)"
   ]
  },
  {
   "cell_type": "code",
   "execution_count": 61,
   "metadata": {},
   "outputs": [
    {
     "name": "stdout",
     "output_type": "stream",
     "text": [
      "[1, 0, 0, 0]\n"
     ]
    }
   ],
   "source": [
    "nums = [1, 2, 3, 4]\n",
    "nums[1:] = [0,0,0]\n",
    "print(nums)"
   ]
  },
  {
   "cell_type": "code",
   "execution_count": 34,
   "metadata": {},
   "outputs": [
    {
     "name": "stdout",
     "output_type": "stream",
     "text": [
      "[0, 1, 20, 30, 40, 5, 123, 1234, 12345, 123456, 1234567, 12345678, 123456789, 12345, 123456, 1234567, 12345678, 123456789, 8, 9]\n"
     ]
    }
   ],
   "source": [
    "# 값 대입으로 추가\n",
    "\n",
    "num[6:8] = [123,1234,12345,123456,1234567,12345678,123456789]\n",
    "print(num)"
   ]
  },
  {
   "cell_type": "code",
   "execution_count": 59,
   "metadata": {},
   "outputs": [
    {
     "name": "stdout",
     "output_type": "stream",
     "text": [
      "[1, 2, 0, 0, 0, 0, 3, 4]\n"
     ]
    }
   ],
   "source": [
    "nums = [1, 2, 3, 4]\n",
    "nums[2:2] = [0, 0, 0, 0]\n",
    "print(nums)"
   ]
  },
  {
   "cell_type": "code",
   "execution_count": 63,
   "metadata": {},
   "outputs": [
    {
     "name": "stdout",
     "output_type": "stream",
     "text": [
      "[1, 0, 0, (90, 91, 92)]\n"
     ]
    }
   ],
   "source": [
    "nums[3] = (90, 91, 92)\n",
    "print(nums)"
   ]
  },
  {
   "cell_type": "code",
   "execution_count": 35,
   "metadata": {},
   "outputs": [
    {
     "name": "stdout",
     "output_type": "stream",
     "text": [
      "[0, 1]\n"
     ]
    }
   ],
   "source": [
    "# 값 대입으로 삭제\n",
    "\n",
    "num[2:] =[]\n",
    "print(num)"
   ]
  },
  {
   "cell_type": "code",
   "execution_count": 36,
   "metadata": {},
   "outputs": [
    {
     "name": "stdout",
     "output_type": "stream",
     "text": [
      "[0]\n"
     ]
    }
   ],
   "source": [
    "# del 삭제\n",
    "\n",
    "del num[1]\n",
    "print(num)"
   ]
  },
  {
   "cell_type": "code",
   "execution_count": 38,
   "metadata": {},
   "outputs": [
    {
     "name": "stdout",
     "output_type": "stream",
     "text": [
      "[1, 2, 3, 4, 5, 10, 11, 22, 33]\n",
      "\n",
      "[10, 11, 22, 33, 10, 11, 22, 33, 10, 11, 22, 33]\n"
     ]
    }
   ],
   "source": [
    "# list1 + list2/ list1 * 3\n",
    "\n",
    "list1 = [1, 2, 3, 4, 5]\n",
    "list2 = [10, 11, 22, 33]\n",
    "listadd= list1 + list2\n",
    "print(listadd)\n",
    "print()\n",
    "listmulti=list2 * 3 \n",
    "print(listmulti)"
   ]
  },
  {
   "cell_type": "code",
   "execution_count": 40,
   "metadata": {},
   "outputs": [
    {
     "name": "stdout",
     "output_type": "stream",
     "text": [
      "[1, 2, 3]\n",
      "7\n"
     ]
    }
   ],
   "source": [
    "# 이중 리스트\n",
    "\n",
    "lol = [[1,2,3],[4,5],[6,7,8,9]]\n",
    "print(lol[0])\n",
    "print(lol[2][1])"
   ]
  },
  {
   "cell_type": "code",
   "execution_count": 41,
   "metadata": {},
   "outputs": [
    {
     "name": "stdout",
     "output_type": "stream",
     "text": [
      "123\n",
      "45\n",
      "6789\n"
     ]
    }
   ],
   "source": [
    "for sub in lol:\n",
    "    for item in sub:\n",
    "        print(item,end='')\n",
    "    print()"
   ]
  },
  {
   "cell_type": "code",
   "execution_count": 53,
   "metadata": {},
   "outputs": [
    {
     "name": "stdout",
     "output_type": "stream",
     "text": [
      "총점 : 354평균 : 88.5\n",
      "총점 : 275평균 : 68.75\n",
      "총점 : 328평균 : 82.0\n",
      "전체평균 : 79.75\n"
     ]
    }
   ],
   "source": [
    "score=[[88,76,92,98],[65,70,58,82],[82,80,78,88]]\n",
    "\n",
    "total = 0\n",
    "totalsub = 0\n",
    "subject = 0\n",
    "for sub in score:\n",
    "    sum = 0\n",
    "    for item in sub:\n",
    "        sum += item\n",
    "    subject = len(sub)\n",
    "    print(\"총점 :\",sum, end='')\n",
    "    print(\"평균 :\", sum/len(sub))\n",
    "    total += sum\n",
    "    totalsub += subject\n",
    "print(\"전체평균 :\", total/totalsub)"
   ]
  },
  {
   "cell_type": "code",
   "execution_count": 54,
   "metadata": {},
   "outputs": [
    {
     "name": "stdout",
     "output_type": "stream",
     "text": [
      "총점 354, 평균 88.50\n",
      "총점 275, 평균 68.75\n",
      "총점 328, 평균 82.00\n",
      "전체평균 79.75\n"
     ]
    }
   ],
   "source": [
    "score=[[88,76,92,98],[65,70,58,82],[82,80,78,88]]\n",
    "\n",
    "total = 0\n",
    "totalsub = 0\n",
    "for student in score:\n",
    "    sum = 0\n",
    "    for subject in student:\n",
    "        sum += subject\n",
    "    subject = len(student)\n",
    "    print(\"총점 %d, 평균 %.2f\" %(sum,sum/subject))\n",
    "    total += sum\n",
    "    totalsub += subject\n",
    "print(\"전체평균 %.2f\" %(total/totalsub))"
   ]
  },
  {
   "cell_type": "code",
   "execution_count": null,
   "metadata": {},
   "outputs": [],
   "source": [
    "# 리스트 컴프리헨션 - 리스트 안의 요소가 일정한 규칙을 가지는 수열이라면 \n",
    "[수식 for 변수 in 리스트 if 조건]"
   ]
  },
  {
   "cell_type": "code",
   "execution_count": 55,
   "metadata": {},
   "outputs": [
    {
     "name": "stdout",
     "output_type": "stream",
     "text": [
      "[2, 4, 6, 8, 10, 12, 14, 16, 18, 20]\n"
     ]
    }
   ],
   "source": [
    "num = [n*2 for n in range(1,11)]\n",
    "print(num)"
   ]
  },
  {
   "cell_type": "code",
   "execution_count": 56,
   "metadata": {},
   "outputs": [
    {
     "name": "stdout",
     "output_type": "stream",
     "text": [
      "2\n",
      "4\n",
      "6\n",
      "8\n",
      "10\n",
      "12\n",
      "14\n",
      "16\n",
      "18\n",
      "20\n"
     ]
    }
   ],
   "source": [
    "num = [n*2 for n in range(1,11)]\n",
    "for i in num:\n",
    "    print(i)"
   ]
  },
  {
   "cell_type": "markdown",
   "metadata": {},
   "source": [
    "## 9-2 리스트 관리\n",
    "append, insert, extend, remove, pop, indext, count"
   ]
  },
  {
   "cell_type": "code",
   "execution_count": 66,
   "metadata": {},
   "outputs": [
    {
     "name": "stdout",
     "output_type": "stream",
     "text": [
      "[1, 2, 3, 4, 5]\n",
      "\n",
      "[1, 2, 100, 3, 4, 5]\n"
     ]
    }
   ],
   "source": [
    "# 삽입 - append, insert\n",
    "nums = [1,2,3,4]\n",
    "nums.append(5)\n",
    "print(nums)\n",
    "print()\n",
    "nums.insert(2,100)\n",
    "print(nums)"
   ]
  },
  {
   "cell_type": "code",
   "execution_count": 69,
   "metadata": {},
   "outputs": [
    {
     "name": "stdout",
     "output_type": "stream",
     "text": [
      "[1, 2, 90, 91, 92, 3, 4]\n",
      "\n",
      "[1, 2, [90, 91, 92], 4]\n"
     ]
    }
   ],
   "source": [
    "nums = [1,2,3,4]\n",
    "nums[2:2] = [90,91,92]\n",
    "print(nums)\n",
    "print()\n",
    "nums = [1,2,3,4]\n",
    "nums[2] = [90,91,92]\n",
    "print(nums)"
   ]
  },
  {
   "cell_type": "code",
   "execution_count": 74,
   "metadata": {},
   "outputs": [
    {
     "name": "stdout",
     "output_type": "stream",
     "text": [
      "[1, 2, 10, 11]\n"
     ]
    }
   ],
   "source": [
    "# 리스트에 리스트를확장 - extend\n",
    "list1 = [1,2]\n",
    "list2 = [10,11]\n",
    "list1.extend(list2)\n",
    "print(list1)"
   ]
  },
  {
   "cell_type": "code",
   "execution_count": 75,
   "metadata": {},
   "outputs": [
    {
     "name": "stdout",
     "output_type": "stream",
     "text": [
      "[1, 2, 10, 11]\n"
     ]
    }
   ],
   "source": [
    "# 리스트에 튜플을 확장\n",
    "list1 = [1,2]\n",
    "list2 = (10,11)\n",
    "list1.extend(list2)\n",
    "print(list1)"
   ]
  },
  {
   "cell_type": "code",
   "execution_count": 76,
   "metadata": {},
   "outputs": [
    {
     "ename": "AttributeError",
     "evalue": "'tuple' object has no attribute 'extend'",
     "output_type": "error",
     "traceback": [
      "\u001b[1;31m---------------------------------------------------------------------------\u001b[0m",
      "\u001b[1;31mAttributeError\u001b[0m                            Traceback (most recent call last)",
      "\u001b[1;32m<ipython-input-76-4f3f7cb3aa62>\u001b[0m in \u001b[0;36m<module>\u001b[1;34m\u001b[0m\n\u001b[0;32m      2\u001b[0m \u001b[0mlist1\u001b[0m \u001b[1;33m=\u001b[0m \u001b[1;33m[\u001b[0m\u001b[1;36m1\u001b[0m\u001b[1;33m,\u001b[0m\u001b[1;36m2\u001b[0m\u001b[1;33m]\u001b[0m\u001b[1;33m\u001b[0m\u001b[1;33m\u001b[0m\u001b[0m\n\u001b[0;32m      3\u001b[0m \u001b[0mlist2\u001b[0m \u001b[1;33m=\u001b[0m \u001b[1;33m(\u001b[0m\u001b[1;36m10\u001b[0m\u001b[1;33m,\u001b[0m\u001b[1;36m11\u001b[0m\u001b[1;33m)\u001b[0m\u001b[1;33m\u001b[0m\u001b[1;33m\u001b[0m\u001b[0m\n\u001b[1;32m----> 4\u001b[1;33m \u001b[0mlist2\u001b[0m\u001b[1;33m.\u001b[0m\u001b[0mextend\u001b[0m\u001b[1;33m(\u001b[0m\u001b[0mlist1\u001b[0m\u001b[1;33m)\u001b[0m\u001b[1;33m\u001b[0m\u001b[1;33m\u001b[0m\u001b[0m\n\u001b[0m\u001b[0;32m      5\u001b[0m \u001b[0mprint\u001b[0m\u001b[1;33m(\u001b[0m\u001b[0mlist1\u001b[0m\u001b[1;33m)\u001b[0m\u001b[1;33m\u001b[0m\u001b[1;33m\u001b[0m\u001b[0m\n",
      "\u001b[1;31mAttributeError\u001b[0m: 'tuple' object has no attribute 'extend'"
     ]
    }
   ],
   "source": [
    "# 튜플에 리스트를 확장(에러)\n",
    "list1 = [1,2]\n",
    "list2 = (10,11)\n",
    "list2.extend(list1)\n",
    "print(list1)"
   ]
  },
  {
   "cell_type": "code",
   "execution_count": 3,
   "metadata": {},
   "outputs": [
    {
     "name": "stdout",
     "output_type": "stream",
     "text": [
      "[88, 95, 70, 100, 99, 80, 78]\n",
      "\n",
      "[88, 95, 70, 100, 99, 80]\n",
      "\n",
      "[88, 95]\n"
     ]
    }
   ],
   "source": [
    "# 삭제 - remove, del, []\n",
    "\n",
    "score=[88,95,70,100,99,80,78,50]\n",
    "score.remove(50)\n",
    "print(score)\n",
    "print()\n",
    "del(score[6])\n",
    "print(score)\n",
    "print()\n",
    "score[2:6]=[]\n",
    "print(score)"
   ]
  },
  {
   "cell_type": "code",
   "execution_count": 5,
   "metadata": {},
   "outputs": [
    {
     "name": "stdout",
     "output_type": "stream",
     "text": [
      "99\n",
      "100\n",
      "95\n",
      "[88, 70]\n"
     ]
    }
   ],
   "source": [
    "# 꺼내기 - pop / del은 요소를 지우기만 하는데 pop은 삭제한 요소를 꺼내 리턴한다\n",
    "\n",
    "score = [88,95,70,100,99]\n",
    "print(score.pop())\n",
    "print(score.pop())\n",
    "print(score.pop(1))     # 첫번째 요소를 pop\n",
    "print(score)"
   ]
  },
  {
   "cell_type": "code",
   "execution_count": 7,
   "metadata": {},
   "outputs": [
    {
     "name": "stdout",
     "output_type": "stream",
     "text": [
      "만점 받은 학생은 3번입니다\n",
      "만점자 수는 1명입니다.\n"
     ]
    }
   ],
   "source": [
    "# 검색 - index(리스트의 검색 메서드는 문자열의 경우와 거의 같다. index는 특정 요소의 위치를 찾으며 발견되지 않을 경우 예외를 발생시킨다.)\n",
    "# count - 특정 요소의 개수를 조사한다\n",
    "\n",
    "score=[88,95,70,100,99,80,78,50]\n",
    "perfect = score.index(100)\n",
    "print(\"만점 받은 학생은 \" + str(perfect) + \"번입니다\")\n",
    "5pernum= score.count(100)\n",
    "print(\"만점자 수는 \" + str(pernum)+\"명입니다.\")"
   ]
  },
  {
   "cell_type": "code",
   "execution_count": 9,
   "metadata": {},
   "outputs": [
    {
     "name": "stdout",
     "output_type": "stream",
     "text": [
      "학생 수는 8명입니다.\n",
      "최고 점수는 100점입니다\n",
      "최저 점수는 50점입니다\n"
     ]
    }
   ],
   "source": [
    "# min, max\n",
    "score = [88,95,70,100,99,80,78,50]\n",
    "print(\"학생 수는 %d명입니다.\" %len(score))\n",
    "print(\"최고 점수는 %d점입니다\" %max(score))\n",
    "print(\"최저 점수는 %d점입니다\" %min(score))"
   ]
  },
  {
   "cell_type": "code",
   "execution_count": 10,
   "metadata": {},
   "outputs": [
    {
     "name": "stdout",
     "output_type": "stream",
     "text": [
      "결제 하시겠습니까?예\n",
      "구입해 주셔서 감사합니다\n"
     ]
    }
   ],
   "source": [
    "# in, not in\n",
    "\n",
    "ans = input(\"결제 하시겠습니까?\")\n",
    "if ans in ['yes', 'y','ok','예','당근']:\n",
    "    print(\"구입해 주셔서 감사합니다\")\n",
    "else:\n",
    "    print(\"안녕히 가세요\")"
   ]
  },
  {
   "cell_type": "code",
   "execution_count": 11,
   "metadata": {},
   "outputs": [
    {
     "ename": "SyntaxError",
     "evalue": "unexpected EOF while parsing (<ipython-input-11-da64d82d5913>, line 1)",
     "output_type": "error",
     "traceback": [
      "\u001b[1;36m  File \u001b[1;32m\"<ipython-input-11-da64d82d5913>\"\u001b[1;36m, line \u001b[1;32m1\u001b[0m\n\u001b[1;33m    if ans =='y' or ans =='yes'or ans =='ok'or ans=='예'or ans=='당근':\u001b[0m\n\u001b[1;37m                                                                    ^\u001b[0m\n\u001b[1;31mSyntaxError\u001b[0m\u001b[1;31m:\u001b[0m unexpected EOF while parsing\n"
     ]
    }
   ],
   "source": [
    "if ans =='y' or ans =='yes'or ans =='ok'or ans=='예'or ans=='당근':\n"
   ]
  },
  {
   "cell_type": "code",
   "execution_count": 14,
   "metadata": {},
   "outputs": [
    {
     "name": "stdout",
     "output_type": "stream",
     "text": [
      "[70, 88, 95, 99, 100]\n",
      "[100, 99, 95, 88, 70]\n"
     ]
    }
   ],
   "source": [
    "# 배열 - sort/ reverse\n",
    "\n",
    "score = [88,95,70,100,99]\n",
    "score.sort()\n",
    "print(score)\n",
    "score.reverse()\n",
    "print(score)"
   ]
  },
  {
   "cell_type": "code",
   "execution_count": 15,
   "metadata": {},
   "outputs": [
    {
     "name": "stdout",
     "output_type": "stream",
     "text": [
      "None\n"
     ]
    }
   ],
   "source": [
    "print(score.sort())"
   ]
  },
  {
   "cell_type": "code",
   "execution_count": null,
   "metadata": {},
   "outputs": [],
   "source": [
    "print(sort)"
   ]
  },
  {
   "cell_type": "code",
   "execution_count": 18,
   "metadata": {},
   "outputs": [
    {
     "name": "stdout",
     "output_type": "stream",
     "text": [
      "[88, 95, 70, 100, 99]\n",
      "[70, 88, 95, 99, 100]\n"
     ]
    }
   ],
   "source": [
    "#  sort- 메서드, sorted- 내장함수\n",
    "\n",
    "score = [88,95,70,100,99]\n",
    "score2=sorted(score)\n",
    "print(score)\n",
    "print(score2)"
   ]
  },
  {
   "cell_type": "code",
   "execution_count": 22,
   "metadata": {},
   "outputs": [
    {
     "name": "stdout",
     "output_type": "stream",
     "text": [
      "['CHINA', 'Korea', 'america', 'japan']\n",
      "['america', 'CHINA', 'japan', 'Korea']\n"
     ]
    }
   ],
   "source": [
    "# key = str.lower\n",
    "# key인수에 str.lower를 주어 소문자로 바꾼 후 비교한다.\n",
    "\n",
    "country =[\"Korea\",\"japan\",\"CHINA\",\"america\"]\n",
    "country.sort()\n",
    "print(country)\n",
    "country.sort(key=str.lower)\n",
    "print(country)"
   ]
  },
  {
   "cell_type": "markdown",
   "metadata": {},
   "source": [
    "## 9-3. 튜플"
   ]
  },
  {
   "cell_type": "code",
   "execution_count": 23,
   "metadata": {},
   "outputs": [
    {
     "name": "stdout",
     "output_type": "stream",
     "text": [
      "총점 : 452\n",
      "평균 : 90.4\n"
     ]
    }
   ],
   "source": [
    "score = (88,95,70,100,99)\n",
    "sum = 0\n",
    "for s in score:\n",
    "    sum += s\n",
    "print(\"총점 :\",sum)\n",
    "print(\"평균 :\",sum/len(score))"
   ]
  },
  {
   "cell_type": "code",
   "execution_count": 24,
   "metadata": {},
   "outputs": [
    {
     "name": "stdout",
     "output_type": "stream",
     "text": [
      "(2,)\n",
      "2\n"
     ]
    }
   ],
   "source": [
    "tu = 2,            # , 가 있으면 튜플이라고 인식\n",
    "value = 2          # 하나만 있으면 값으로 출력\n",
    "print(tu)\n",
    "print(value)"
   ]
  },
  {
   "cell_type": "code",
   "execution_count": 34,
   "metadata": {
    "scrolled": true
   },
   "outputs": [
    {
     "name": "stdout",
     "output_type": "stream",
     "text": [
      "(1, 2, 3, 4, 5)\n",
      "4\n",
      "(2, 3)\n",
      "(1, 2, 3, 4, 5, 6, 7)\n",
      "(1, 2, 3, 4, 5, 1, 2, 3, 4, 5)\n"
     ]
    },
    {
     "ename": "TypeError",
     "evalue": "'tuple' object does not support item assignment",
     "output_type": "error",
     "traceback": [
      "\u001b[1;31m---------------------------------------------------------------------------\u001b[0m",
      "\u001b[1;31mTypeError\u001b[0m                                 Traceback (most recent call last)",
      "\u001b[1;32m<ipython-input-34-101b5cfa7315>\u001b[0m in \u001b[0;36m<module>\u001b[1;34m\u001b[0m\n\u001b[0;32m      9\u001b[0m \u001b[0mprint\u001b[0m\u001b[1;33m(\u001b[0m\u001b[0mtu\u001b[0m \u001b[1;33m+\u001b[0m \u001b[1;33m(\u001b[0m\u001b[1;36m6\u001b[0m\u001b[1;33m,\u001b[0m\u001b[1;36m7\u001b[0m\u001b[1;33m)\u001b[0m\u001b[1;33m)\u001b[0m\u001b[1;33m\u001b[0m\u001b[1;33m\u001b[0m\u001b[0m\n\u001b[0;32m     10\u001b[0m \u001b[0mprint\u001b[0m\u001b[1;33m(\u001b[0m\u001b[0mtu\u001b[0m \u001b[1;33m*\u001b[0m \u001b[1;36m2\u001b[0m\u001b[1;33m)\u001b[0m\u001b[1;33m\u001b[0m\u001b[1;33m\u001b[0m\u001b[0m\n\u001b[1;32m---> 11\u001b[1;33m \u001b[0mtu\u001b[0m\u001b[1;33m[\u001b[0m\u001b[1;36m1\u001b[0m\u001b[1;33m]\u001b[0m\u001b[1;33m=\u001b[0m\u001b[1;36m100\u001b[0m            \u001b[1;31m# 변경 불가능\u001b[0m\u001b[1;33m\u001b[0m\u001b[1;33m\u001b[0m\u001b[0m\n\u001b[0m\u001b[0;32m     12\u001b[0m \u001b[1;32mdel\u001b[0m \u001b[0mtu\u001b[0m\u001b[1;33m[\u001b[0m\u001b[1;36m1\u001b[0m\u001b[1;33m]\u001b[0m            \u001b[1;31m# 삭제 불가능\u001b[0m\u001b[1;33m\u001b[0m\u001b[1;33m\u001b[0m\u001b[0m\n",
      "\u001b[1;31mTypeError\u001b[0m: 'tuple' object does not support item assignment"
     ]
    }
   ],
   "source": [
    "# 튜플 - +, *   \n",
    "# 범위를 추출하여 일부를 잘라낼수도 있고 + 연산자로 튜플끼리 연결하거 * 연산자로 튜플의 요소를 반복 가능\n",
    "# But, 튜플의 요소를 변경하거나 삭제하는 것은 불가능\n",
    "\n",
    "tu = 1,2,3,4,5\n",
    "print(tu)           # 아무것도 감싸져 있지 않는 건 튜플\n",
    "print(tu[3])\n",
    "print(tu[1:3])\n",
    "print(tu + (6,7))\n",
    "print(tu * 2)\n",
    "tu[1]=100            # 변경 불가능\n",
    "del tu[1]            # 삭제 불가능"
   ]
  },
  {
   "cell_type": "code",
   "execution_count": 38,
   "metadata": {},
   "outputs": [
    {
     "data": {
      "text/plain": [
       "(88, 98, 70, 100, 99)"
      ]
     },
     "execution_count": 38,
     "metadata": {},
     "output_type": "execute_result"
    }
   ],
   "source": [
    "score = [88, 98, 70, 100, 99]\n",
    "tuple(score)"
   ]
  },
  {
   "cell_type": "code",
   "execution_count": 32,
   "metadata": {},
   "outputs": [
    {
     "ename": "AttributeError",
     "evalue": "'tuple' object has no attribute 'extend'",
     "output_type": "error",
     "traceback": [
      "\u001b[1;31m---------------------------------------------------------------------------\u001b[0m",
      "\u001b[1;31mAttributeError\u001b[0m                            Traceback (most recent call last)",
      "\u001b[1;32m<ipython-input-32-e810d1140c6c>\u001b[0m in \u001b[0;36m<module>\u001b[1;34m\u001b[0m\n\u001b[1;32m----> 1\u001b[1;33m \u001b[0mtu\u001b[0m\u001b[1;33m.\u001b[0m\u001b[0mextend\u001b[0m\u001b[1;33m(\u001b[0m\u001b[1;36m1\u001b[0m\u001b[1;33m,\u001b[0m\u001b[1;36m2\u001b[0m\u001b[1;33m)\u001b[0m\u001b[1;33m\u001b[0m\u001b[1;33m\u001b[0m\u001b[0m\n\u001b[0m\u001b[0;32m      2\u001b[0m \u001b[0mprint\u001b[0m\u001b[1;33m(\u001b[0m\u001b[0mtu\u001b[0m\u001b[1;33m)\u001b[0m\u001b[1;33m\u001b[0m\u001b[1;33m\u001b[0m\u001b[0m\n",
      "\u001b[1;31mAttributeError\u001b[0m: 'tuple' object has no attribute 'extend'"
     ]
    }
   ],
   "source": [
    "tu.extend(1,2)\n",
    "print(tu)"
   ]
  },
  {
   "cell_type": "code",
   "execution_count": 29,
   "metadata": {},
   "outputs": [
    {
     "name": "stdout",
     "output_type": "stream",
     "text": [
      "이순신\n",
      "김유신\n",
      "강감찬\n"
     ]
    }
   ],
   "source": [
    "tu = \"이순신\", \"김유신\", \"강감찬\"\n",
    "lee, kim, kang = tu\n",
    "print(lee)\n",
    "print(kim)\n",
    "print(kang)"
   ]
  },
  {
   "cell_type": "code",
   "execution_count": 35,
   "metadata": {},
   "outputs": [
    {
     "name": "stdout",
     "output_type": "stream",
     "text": [
      "이순신\n",
      "김유신\n",
      "강감찬\n"
     ]
    }
   ],
   "source": [
    "lee, kim, kang = '이순신','김유신','강감찬'\n",
    "print(lee)\n",
    "print(kim)\n",
    "print(kang)"
   ]
  },
  {
   "cell_type": "code",
   "execution_count": 31,
   "metadata": {},
   "outputs": [
    {
     "name": "stdout",
     "output_type": "stream",
     "text": [
      "12 34\n",
      "34 12\n"
     ]
    }
   ],
   "source": [
    "# 두 값의 교환\n",
    "\n",
    "a, b = 12 ,34\n",
    "print(a,b)\n",
    "a,b=b,a\n",
    "print(a,b)"
   ]
  },
  {
   "cell_type": "code",
   "execution_count": 37,
   "metadata": {},
   "outputs": [
    {
     "name": "stdout",
     "output_type": "stream",
     "text": [
      "(20, 45)\n",
      "(20, 45)\n",
      "지금은 20시 45분입니다\n"
     ]
    }
   ],
   "source": [
    "# gettime - 현재 시간을 조사하여 리턴\n",
    "\n",
    "import time\n",
    "\n",
    "def gettime():\n",
    "    now = time.localtime()\n",
    "    return now.tm_hour, now.tm_min\n",
    "\n",
    "result = gettime()\n",
    "print(gettime())\n",
    "print(result)\n",
    "print(\"지금은 %d시 %d분입니다\" %(result[0], result[1]))"
   ]
  },
  {
   "cell_type": "code",
   "execution_count": 40,
   "metadata": {},
   "outputs": [
    {
     "name": "stdout",
     "output_type": "stream",
     "text": [
      "몫 2\n",
      "나머지 1\n"
     ]
    }
   ],
   "source": [
    "# divmod 함수 - 나눗셈의 몫과 나머지를 튜플로 묶어 리턴\n",
    "\n",
    "d, m = divmod(7,3)\n",
    "print(\"몫\",d)\n",
    "print(\"나머지\",m)"
   ]
  },
  {
   "cell_type": "code",
   "execution_count": 41,
   "metadata": {},
   "outputs": [
    {
     "name": "stdout",
     "output_type": "stream",
     "text": [
      "(88, 95, 70, 100, 99)\n",
      "[100, 95, 70, 100, 99]\n"
     ]
    }
   ],
   "source": [
    "score = [88,95,70,100,99]\n",
    "tu = tuple(score)\n",
    "# tu[0] = 100\n",
    "print(tu)\n",
    "li = list(tu)\n",
    "li[0] = 100\n",
    "print(li)"
   ]
  },
  {
   "cell_type": "markdown",
   "metadata": {},
   "source": [
    "---\n",
    "Q. 문제 : score 리스트에 성적값 8개를 저장하고 총점과 평균을 구해 출력하라"
   ]
  },
  {
   "cell_type": "code",
   "execution_count": 44,
   "metadata": {},
   "outputs": [
    {
     "name": "stdout",
     "output_type": "stream",
     "text": [
      "총점 : 484\n",
      "평균 : 60.5\n"
     ]
    }
   ],
   "source": [
    "score = [99,88,77,66,55,44,33,22]\n",
    "sum = 0\n",
    "for i in score:\n",
    "    sum += i\n",
    "print(\"총점 :\", sum)\n",
    "print(\"평균 :\", sum/len(score))"
   ]
  },
  {
   "cell_type": "markdown",
   "metadata": {},
   "source": [
    "---\n",
    "Q. 문제 : score = [88,95,70,100,99] 리스트에서 2번 학생의 성적을 0점으로 변경하라"
   ]
  },
  {
   "cell_type": "code",
   "execution_count": 45,
   "metadata": {},
   "outputs": [
    {
     "name": "stdout",
     "output_type": "stream",
     "text": [
      "[88, 95, 0, 100, 99]\n"
     ]
    }
   ],
   "source": [
    "score = [88,95,70,100,99]\n",
    "score[1] = 0                # 두번째는 컴퓨터의 두번째와 다르다!!\n",
    "print(score)"
   ]
  },
  {
   "cell_type": "markdown",
   "metadata": {},
   "source": [
    "---\n",
    "Q. 문제 : 리스트 컴프리헨션 문법을 사용하여 1에서 100사이의 짝수로 구성된 리스트를 생성하라"
   ]
  },
  {
   "cell_type": "code",
   "execution_count": 55,
   "metadata": {},
   "outputs": [
    {
     "name": "stdout",
     "output_type": "stream",
     "text": [
      "[2, 4, 6, 8, 10, 12, 14, 16, 18, 20, 22, 24, 26, 28, 30, 32, 34, 36, 38, 40, 42, 44, 46, 48, 50, 52, 54, 56, 58, 60, 62, 64, 66, 68, 70, 72, 74, 76, 78, 80, 82, 84, 86, 88, 90, 92, 94, 96, 98, 100]\n"
     ]
    }
   ],
   "source": [
    "num =[i for i in range(1,101) if i % 2 ==0]\n",
    "print(num)"
   ]
  },
  {
   "cell_type": "code",
   "execution_count": 58,
   "metadata": {},
   "outputs": [
    {
     "name": "stdout",
     "output_type": "stream",
     "text": [
      "[2, 4, 6, 8, 10, 12, 14, 16, 18, 20, 22, 24, 26, 28, 30, 32, 34, 36, 38, 40, 42, 44, 46, 48, 50, 52, 54, 56, 58, 60, 62, 64, 66, 68, 70, 72, 74, 76, 78, 80, 82, 84, 86, 88, 90, 92, 94, 96, 98]\n"
     ]
    }
   ],
   "source": [
    "li = [n*2 for n in range(1,50)]\n",
    "print(li)"
   ]
  },
  {
   "cell_type": "markdown",
   "metadata": {},
   "source": [
    "---\n",
    "Q. 문제 : [n*n for n in range(1,10) if  n%3 ==0] 이 구문을 평이한 루프와 조건문, 연산식으로 풀어서 작성하라"
   ]
  },
  {
   "cell_type": "code",
   "execution_count": 63,
   "metadata": {},
   "outputs": [
    {
     "name": "stdout",
     "output_type": "stream",
     "text": [
      "9\n",
      "36\n",
      "81\n"
     ]
    }
   ],
   "source": [
    "for n in range(1,10):\n",
    "    if n % 3 ==0:\n",
    "        print(n*n)"
   ]
  },
  {
   "cell_type": "code",
   "execution_count": 64,
   "metadata": {},
   "outputs": [
    {
     "name": "stdout",
     "output_type": "stream",
     "text": [
      "9,36,81,"
     ]
    }
   ],
   "source": [
    "nums = []\n",
    "for n in range(1,10):\n",
    "    if n % 3 ==0:\n",
    "        nums.append(n*n)     \n",
    "        \n",
    "for i in nums:\n",
    "    print(i, end=',')"
   ]
  },
  {
   "cell_type": "markdown",
   "metadata": {},
   "source": [
    "---\n",
    "Q. 문제 : 사용자로부터 5개의 성적을 입력받아 리스트에 저장한 후 오름차순으로 정렬하여 출력하라"
   ]
  },
  {
   "cell_type": "code",
   "execution_count": 66,
   "metadata": {},
   "outputs": [
    {
     "name": "stdout",
     "output_type": "stream",
     "text": [
      "1번 학생의 성적을 입력하세요 :95\n",
      "2번 학생의 성적을 입력하세요 :35\n",
      "3번 학생의 성적을 입력하세요 :74\n",
      "4번 학생의 성적을 입력하세요 :7\n",
      "5번 학생의 성적을 입력하세요 :27\n",
      "[7, 27, 35, 74, 95]\n"
     ]
    }
   ],
   "source": [
    "li = []\n",
    "for i in range(1,6):\n",
    "    score = int(input(str(i) +\"번 학생의 성적을 입력하세요 :\"))\n",
    "    li.append(score)\n",
    "li.sort()\n",
    "print(li)"
   ]
  },
  {
   "cell_type": "code",
   "execution_count": null,
   "metadata": {},
   "outputs": [],
   "source": [
    "li = []\n",
    "for i in range(1,6):\n",
    "    score = int(input(str(i) + \"번 학생의 성적을 입력하세요 :\"))\n",
    "    li.append(score)"
   ]
  },
  {
   "cell_type": "markdown",
   "metadata": {},
   "source": [
    "# 10장. 사전과 집합\n",
    "## 10-1. 사전"
   ]
  },
  {
   "cell_type": "code",
   "execution_count": 67,
   "metadata": {},
   "outputs": [
    {
     "name": "stdout",
     "output_type": "stream",
     "text": [
      "{'boy': '소년', 'school': '학교', 'book': '책'}\n"
     ]
    }
   ],
   "source": [
    "dic = {'boy':'소년','school':'학교','book':'책'}\n",
    "print(dic)"
   ]
  },
  {
   "cell_type": "code",
   "execution_count": 68,
   "metadata": {},
   "outputs": [
    {
     "name": "stdout",
     "output_type": "stream",
     "text": [
      "소년\n",
      "책\n"
     ]
    }
   ],
   "source": [
    "# 사전에 대해 [키] 형식으로 읽으면 값이 정해진다.\n",
    "\n",
    "print(dic['boy'])\n",
    "print(dic['book'])"
   ]
  },
  {
   "cell_type": "code",
   "execution_count": 69,
   "metadata": {},
   "outputs": [
    {
     "ename": "KeyError",
     "evalue": "1",
     "output_type": "error",
     "traceback": [
      "\u001b[1;31m---------------------------------------------------------------------------\u001b[0m",
      "\u001b[1;31mKeyError\u001b[0m                                  Traceback (most recent call last)",
      "\u001b[1;32m<ipython-input-69-a57362aa7273>\u001b[0m in \u001b[0;36m<module>\u001b[1;34m\u001b[0m\n\u001b[1;32m----> 1\u001b[1;33m \u001b[0mprint\u001b[0m\u001b[1;33m(\u001b[0m\u001b[0mdic\u001b[0m\u001b[1;33m[\u001b[0m\u001b[1;36m1\u001b[0m\u001b[1;33m]\u001b[0m\u001b[1;33m)\u001b[0m\u001b[1;33m\u001b[0m\u001b[1;33m\u001b[0m\u001b[0m\n\u001b[0m",
      "\u001b[1;31mKeyError\u001b[0m: 1"
     ]
    }
   ],
   "source": [
    "# 순서가 없기 때문에 첨자로는 읽을 수 없고 키로부터 값을 찾는다\n",
    "\n",
    "print(dic[1])"
   ]
  },
  {
   "cell_type": "code",
   "execution_count": 72,
   "metadata": {},
   "outputs": [
    {
     "ename": "KeyError",
     "evalue": "'student'",
     "output_type": "error",
     "traceback": [
      "\u001b[1;31m---------------------------------------------------------------------------\u001b[0m",
      "\u001b[1;31mKeyError\u001b[0m                                  Traceback (most recent call last)",
      "\u001b[1;32m<ipython-input-72-9fb5f539d8d5>\u001b[0m in \u001b[0;36m<module>\u001b[1;34m\u001b[0m\n\u001b[0;32m      1\u001b[0m \u001b[1;31m# 찾는 키가 없으면 키가 없다는 예외발생.\u001b[0m\u001b[1;33m\u001b[0m\u001b[1;33m\u001b[0m\u001b[1;33m\u001b[0m\u001b[0m\n\u001b[0;32m      2\u001b[0m \u001b[1;33m\u001b[0m\u001b[0m\n\u001b[1;32m----> 3\u001b[1;33m \u001b[0mprint\u001b[0m\u001b[1;33m(\u001b[0m\u001b[0mdic\u001b[0m\u001b[1;33m[\u001b[0m\u001b[1;34m'student'\u001b[0m\u001b[1;33m]\u001b[0m\u001b[1;33m)\u001b[0m\u001b[1;33m\u001b[0m\u001b[1;33m\u001b[0m\u001b[0m\n\u001b[0m",
      "\u001b[1;31mKeyError\u001b[0m: 'student'"
     ]
    }
   ],
   "source": [
    "# 찾는 키가 없으면 키가 없다는 예외발생. \n",
    "\n",
    "print(dic['student'])"
   ]
  },
  {
   "cell_type": "code",
   "execution_count": 75,
   "metadata": {},
   "outputs": [
    {
     "name": "stdout",
     "output_type": "stream",
     "text": [
      "남자애\n",
      "None\n",
      "사전에 없는 단어입니다\n"
     ]
    }
   ],
   "source": [
    "# 예외 처리 구문 사용.\n",
    "# get - 키가 없을 때 에러를 발생시키는 대신 None을 리턴하여 두 번째 인수로 대신 돌려줄 디폴트 값을 지정할 수도 이다.\n",
    "# .get('키','예외구문')\n",
    "\n",
    "print(dic.get('boy'))\n",
    "print(dic.get('student'))\n",
    "print(dic.get('student','사전에 없는 단어입니다'))"
   ]
  },
  {
   "cell_type": "code",
   "execution_count": 73,
   "metadata": {},
   "outputs": [
    {
     "name": "stdout",
     "output_type": "stream",
     "text": [
      "사전에 없는 단어입니다\n"
     ]
    }
   ],
   "source": [
    "if 'student' in dic:\n",
    "    print(\"사전에 있는 단어입니다\")\n",
    "else:\n",
    "    print(\"사전에 없는 단어입니다\")"
   ]
  },
  {
   "cell_type": "code",
   "execution_count": 74,
   "metadata": {},
   "outputs": [
    {
     "name": "stdout",
     "output_type": "stream",
     "text": [
      "{'boy': '남자애', 'school': '학교', 'girl': '소녀'}\n"
     ]
    }
   ],
   "source": [
    "# 삽입, 삭제, 수정 등의 편집이 가능\n",
    "\n",
    "dic['boy']='남자애'      # 수정\n",
    "dic['girl']='소녀'        # 삽입\n",
    "del dic['book']           # 삭제\n",
    "print(dic)"
   ]
  },
  {
   "cell_type": "code",
   "execution_count": 79,
   "metadata": {},
   "outputs": [
    {
     "name": "stdout",
     "output_type": "stream",
     "text": [
      "{'boy': [], 'school': '학교', 'girl': '소녀', 1: []}\n"
     ]
    }
   ],
   "source": [
    "# dic 요소 리스트=[공백]으로 삭제 불가\n",
    "\n",
    "dic[1] = []\n",
    "dic['boy'] = []\n",
    "print(dic)"
   ]
  },
  {
   "cell_type": "code",
   "execution_count": 81,
   "metadata": {},
   "outputs": [
    {
     "name": "stdout",
     "output_type": "stream",
     "text": [
      "dict_keys(['boy', 'school', 'book'])\n",
      "dict_values(['소년', '학교', '책'])\n",
      "dict_items([('boy', '소년'), ('school', '학교'), ('book', '책')])\n"
     ]
    }
   ],
   "source": [
    "# keys 메서드 - (키 목록),  values 메서드 - (값 목록),     items 메서드 - (키:값)\n",
    "\n",
    "dic = {'boy':'소년','school':'학교','book':'책'}\n",
    "print(dic.keys())\n",
    "print(dic.values())\n",
    "print(dic.items())"
   ]
  },
  {
   "cell_type": "code",
   "execution_count": 82,
   "metadata": {},
   "outputs": [
    {
     "name": "stdout",
     "output_type": "stream",
     "text": [
      "boy\n",
      "school\n",
      "book\n"
     ]
    }
   ],
   "source": [
    "keylist = dic.keys()\n",
    "for key in keylist:\n",
    "    print(key)"
   ]
  },
  {
   "cell_type": "code",
   "execution_count": 83,
   "metadata": {},
   "outputs": [
    {
     "name": "stdout",
     "output_type": "stream",
     "text": [
      "{'boy': '소년', 'school': '학교', 'book': '서적', 'student': '학생', 'teacher': '선생님'}\n"
     ]
    }
   ],
   "source": [
    "# update 메서드 - 사전 병합\n",
    "\n",
    "dic = {'boy':'소년','school':'학교','book':'책'}\n",
    "dic2 = {'student':'학생','teacher':'선생님','book':'서적'}\n",
    "dic.update(dic2)\n",
    "print(dic)"
   ]
  },
  {
   "cell_type": "code",
   "execution_count": 85,
   "metadata": {},
   "outputs": [
    {
     "name": "stdout",
     "output_type": "stream",
     "text": [
      "{'boy': '소년', 'school': '학교', 'book': '책'}\n"
     ]
    }
   ],
   "source": [
    "# dictionary로 변경\n",
    "\n",
    "li = [['boy','소년'],['school','학교'],['book','책']]\n",
    "dic = dict(li)\n",
    "print(dic)"
   ]
  },
  {
   "cell_type": "code",
   "execution_count": 50,
   "metadata": {},
   "outputs": [
    {
     "name": "stdout",
     "output_type": "stream",
     "text": [
      "{'b': 4, 'y': 5, 't': 9, 'h': 9, 'e': 23, 'r': 12, 'i': 10, 'v': 2, 's': 10, 'o': 10, 'f': 2, 'a': 12, 'l': 5, 'n': 14, 'w': 12, 'd': 6, 'p': 2, 'm': 2, 'z': 1, 'c': 3, 'k': 1, 'u': 3, 'q': 1, 'g': 4}\n"
     ]
    }
   ],
   "source": [
    "# isalpha/ lower/ \n",
    "\n",
    "song = \"\"\"by the reivers of babylon, there we sat down\n",
    "yeah we wept, when we remenber zion.\n",
    "when the wicked carried us away in captivity\n",
    "required from us a song\n",
    "now how shall we sing the lord's song in a strange land\"\"\"\n",
    "\n",
    "alphabet = dict()\n",
    "for c in song:\n",
    "    if c.isalpha() == False:\n",
    "        continue\n",
    "    c = c.lower()\n",
    "    if c not in alphabet:\n",
    "        alphabet[c] = 1\n",
    "    else:\n",
    "        alphabet[c] += 1\n",
    "        \n",
    "print(alphabet)"
   ]
  },
  {
   "cell_type": "code",
   "execution_count": 52,
   "metadata": {
    "scrolled": true
   },
   "outputs": [
    {
     "name": "stdout",
     "output_type": "stream",
     "text": [
      "a = 12\n",
      "b = 4\n",
      "c = 3\n",
      "d = 6\n",
      "e = 23\n",
      "f = 2\n",
      "g = 4\n",
      "h = 9\n",
      "i = 10\n",
      "j = 0\n",
      "k = 1\n",
      "l = 5\n",
      "m = 2\n",
      "n = 14\n",
      "o = 10\n",
      "p = 2\n",
      "q = 1\n",
      "r = 12\n",
      "s = 10\n",
      "t = 9\n",
      "u = 3\n",
      "v = 2\n",
      "w = 12\n",
      "x = 0\n",
      "y = 5\n",
      "z = 1\n"
     ]
    }
   ],
   "source": [
    "# ord 함수\n",
    "# 키의 목록을 구해 정렬하는 것이 번거로우면 a~z까지 순회하며 각 알파벳의 등장 횟수를 조사할 수도 있다\n",
    "# song에 없는 알파벳까지 세는\n",
    "\n",
    "for code in range(ord('a'), ord('z')+1):     # range 함수는 정수만 받아들이기 때문에 문자열을 순회 X, \n",
    "    c = chr(code)\n",
    "    num = alphabet.get(c,0)                  #  for구문을 돌때 song에 없는 알파벳이 있으면 예외발생 상황을 처리하기 위해\n",
    "    print(c, '=', num)                        # get - c, 가 없을 경우 0"
   ]
  },
  {
   "cell_type": "code",
   "execution_count": 45,
   "metadata": {},
   "outputs": [
    {
     "name": "stdout",
     "output_type": "stream",
     "text": [
      "Help on built-in function ord in module builtins:\n",
      "\n",
      "ord(c, /)\n",
      "    Return the Unicode code point for a one-character string.\n",
      "\n"
     ]
    }
   ],
   "source": [
    "help(ord)"
   ]
  },
  {
   "cell_type": "code",
   "execution_count": 44,
   "metadata": {
    "scrolled": true
   },
   "outputs": [
    {
     "name": "stdout",
     "output_type": "stream",
     "text": [
      "Help on built-in function chr in module builtins:\n",
      "\n",
      "chr(i, /)\n",
      "    Return a Unicode string of one character with ordinal i; 0 <= i <= 0x10ffff.\n",
      "\n"
     ]
    }
   ],
   "source": [
    "help(chr)"
   ]
  },
  {
   "cell_type": "code",
   "execution_count": 60,
   "metadata": {
    "scrolled": true
   },
   "outputs": [
    {
     "name": "stdout",
     "output_type": "stream",
     "text": [
      "['a', 'b', 'c', 'd', 'e', 'f', 'g', 'h', 'i', 'k', 'l', 'm', 'n', 'o', 'p', 'q', 'r', 's', 't', 'u', 'v', 'w', 'y', 'z']\n",
      "\n",
      "{'b': 4, 'y': 5, 't': 9, 'h': 9, 'e': 23, 'r': 12, 'i': 10, 'v': 2, 's': 10, 'o': 10, 'f': 2, 'a': 12, 'l': 5, 'n': 14, 'w': 12, 'd': 6, 'p': 2, 'm': 2, 'z': 1, 'c': 3, 'k': 1, 'u': 3, 'q': 1, 'g': 4}\n",
      "\n",
      "a = 12\n",
      "b = 4\n",
      "c = 3\n",
      "d = 6\n",
      "e = 23\n",
      "f = 2\n",
      "g = 4\n",
      "h = 9\n",
      "i = 10\n",
      "k = 1\n",
      "l = 5\n",
      "m = 2\n",
      "n = 14\n",
      "o = 10\n",
      "p = 2\n",
      "q = 1\n",
      "r = 12\n",
      "s = 10\n",
      "t = 9\n",
      "u = 3\n",
      "v = 2\n",
      "w = 12\n",
      "y = 5\n",
      "z = 1\n"
     ]
    }
   ],
   "source": [
    "alphabet = dict()\n",
    "\n",
    "for i in song:\n",
    "    if i.isalpha() ==False:\n",
    "        continue\n",
    "    i = i.lower()\n",
    "    if i in alphabet:\n",
    "        alphabet[i] += 1\n",
    "    else:\n",
    "        alphabet[i] = 1\n",
    "\n",
    "key = list(alphabet.keys())\n",
    "key.sort()\n",
    "print(key)\n",
    "print()\n",
    "print(alphabet)\n",
    "print()\n",
    "\n",
    "for c in key:\n",
    "    num = alphabet[c]\n",
    "    print(c, '=', num)"
   ]
  },
  {
   "cell_type": "code",
   "execution_count": 61,
   "metadata": {
    "scrolled": true
   },
   "outputs": [
    {
     "name": "stdout",
     "output_type": "stream",
     "text": [
      "a = 12\n",
      "b = 4\n",
      "c = 3\n",
      "d = 6\n",
      "e = 23\n",
      "f = 2\n",
      "g = 4\n",
      "h = 9\n",
      "i = 10\n",
      "j = 0\n",
      "k = 1\n",
      "l = 5\n",
      "m = 2\n",
      "n = 14\n",
      "o = 10\n",
      "p = 2\n",
      "q = 1\n",
      "r = 12\n",
      "s = 10\n",
      "t = 9\n",
      "u = 3\n",
      "v = 2\n",
      "w = 12\n",
      "x = 0\n",
      "y = 5\n",
      "z = 1\n"
     ]
    }
   ],
   "source": [
    "song = \"\"\"by the reivers of babylon, there we sat down\n",
    "yeah we wept, when we remenber zion.\n",
    "when the wicked carried us away in captivity\n",
    "required from us a song\n",
    "now how shall we sing the lord's song in a strange land\"\"\"\n",
    "\n",
    "alphabet = dict()\n",
    "\n",
    "for i in song:\n",
    "    if i.isalpha ==False:\n",
    "        continue\n",
    "    i = i.lower()\n",
    "    if i in alphabet:\n",
    "        alphabet[i] += 1\n",
    "    else:\n",
    "        alphabet[i] = 1\n",
    "\n",
    "for code in range(ord('a'),ord('z')+1):\n",
    "    c = chr(code)\n",
    "    num = alphabet.get(c,0)\n",
    "    print(c,'=',num)"
   ]
  },
  {
   "cell_type": "markdown",
   "metadata": {},
   "source": [
    "## 10-2. 집합(set)\n",
    "키의 중복 X, 순서가 중요하지X 데이터가 있느냐 없느냐만 중요!!"
   ]
  },
  {
   "cell_type": "code",
   "execution_count": 66,
   "metadata": {},
   "outputs": [
    {
     "name": "stdout",
     "output_type": "stream",
     "text": [
      "{'china', 'korea', 'japan'}\n"
     ]
    }
   ],
   "source": [
    "# 중복값 제거\n",
    "\n",
    "asia = {'korea','china','japan','korea'}\n",
    "print(asia)"
   ]
  },
  {
   "cell_type": "code",
   "execution_count": 64,
   "metadata": {},
   "outputs": [
    {
     "data": {
      "text/plain": [
       "set"
      ]
     },
     "execution_count": 64,
     "metadata": {},
     "output_type": "execute_result"
    }
   ],
   "source": [
    "type(asia)"
   ]
  },
  {
   "cell_type": "code",
   "execution_count": 65,
   "metadata": {},
   "outputs": [
    {
     "name": "stdout",
     "output_type": "stream",
     "text": [
      "{'a', 'u', 'g', 'h', 's', 'n', 'y'}\n",
      "{56, 34, 12, 78}\n",
      "{'신지희', '한주완', '김태륜'}\n",
      "{'book', 'boy', 'school'}\n",
      "set()\n"
     ]
    }
   ],
   "source": [
    "print(set('sanghyung'))                                   # n, g는 두번씩 중복. but 집합에는 한 번만\n",
    "print(set([12,34,56,78]))                                 # 순서 상관X\n",
    "print(set(['신지희','한주완','김태륜']))                  # 리스트, 튜플 -> 집합\n",
    "print(set({'boy':'소년','school':'학교','book':'책'}))    # 사전 -> 키만 가지고 오고 값은 버린다 \n",
    "print(set())                                              # 공집합"
   ]
  },
  {
   "cell_type": "code",
   "execution_count": 72,
   "metadata": {},
   "outputs": [
    {
     "name": "stdout",
     "output_type": "stream",
     "text": [
      "{'china', 'korea', 'vietnam', 'japan'}\n"
     ]
    }
   ],
   "source": [
    "# 새로운 값 추가 - 가능\n",
    "\n",
    "asia = {'korea','china','japan'}\n",
    "asia.add('vietnam')\n",
    "\n",
    "print(asia)"
   ]
  },
  {
   "cell_type": "code",
   "execution_count": 73,
   "metadata": {},
   "outputs": [
    {
     "name": "stdout",
     "output_type": "stream",
     "text": [
      "{'china', 'korea', 'vietnam', 'japan'}\n"
     ]
    }
   ],
   "source": [
    "# 같은 값 추가 - 불가능\n",
    "\n",
    "asia.add('china')\n",
    "print(asia)"
   ]
  },
  {
   "cell_type": "code",
   "execution_count": 74,
   "metadata": {},
   "outputs": [
    {
     "name": "stdout",
     "output_type": "stream",
     "text": [
      "{'china', 'korea', 'vietnam'}\n"
     ]
    }
   ],
   "source": [
    "# 제거 - 가능\n",
    "\n",
    "asia.remove('japan')\n",
    "print(asia)"
   ]
  },
  {
   "cell_type": "code",
   "execution_count": 77,
   "metadata": {},
   "outputs": [
    {
     "name": "stdout",
     "output_type": "stream",
     "text": [
      "{'china', 'singapore', 'korea', 'hongkong', 'vietnam'}\n"
     ]
    }
   ],
   "source": [
    "# 집합 병합 - 가능\n",
    "\n",
    "asia.update({'singapore','hongkong','korea'})\n",
    "print(asia)"
   ]
  },
  {
   "cell_type": "code",
   "execution_count": 78,
   "metadata": {},
   "outputs": [
    {
     "name": "stdout",
     "output_type": "stream",
     "text": [
      "{'china', 'singapore', 'japan', 'korea', 'hongkong'}\n"
     ]
    }
   ],
   "source": [
    "a = {'korea','china','japan'}\n",
    "b = {'singapore','hongkong','korea'}\n",
    "a.update(b)\n",
    "print(a)"
   ]
  },
  {
   "cell_type": "code",
   "execution_count": 79,
   "metadata": {},
   "outputs": [
    {
     "name": "stdout",
     "output_type": "stream",
     "text": [
      "교집합 {12, 6}\n",
      "합집합 {2, 3, 4, 6, 8, 9, 10, 12, 15}\n",
      "차집합 {8, 2, 10, 4}\n",
      "차집합 {9, 3, 15}\n",
      "배타적 차집합 {2, 3, 4, 8, 9, 10, 15}\n"
     ]
    }
   ],
   "source": [
    "# 집합 연산( |, &, -, ^)\n",
    "\n",
    "twox = {2, 4, 6,  8, 10, 12}\n",
    "threex = {3, 6, 9, 12, 15}\n",
    "\n",
    "print(\"교집합\", twox&threex)\n",
    "print('합집합', twox | threex)\n",
    "print('차집합', twox - threex)\n",
    "print('차집합', threex-twox)\n",
    "print('배타적 차집합', twox^threex)"
   ]
  },
  {
   "cell_type": "code",
   "execution_count": 90,
   "metadata": {},
   "outputs": [
    {
     "name": "stdout",
     "output_type": "stream",
     "text": [
      "사자는 포유류이다\n",
      "\n",
      "True\n",
      "True\n",
      "False\n",
      "False\n"
     ]
    }
   ],
   "source": [
    "# 집합 연산(<=, <, >=, >)\n",
    "\n",
    "mammal = {'코끼리','고릴라','사자','고래','사람','원숭이','개'}\n",
    "primate = {'사람','원숭이','고릴라'}\n",
    "\n",
    "if '사자' in mammal:\n",
    "    print('사자는 포유류이다')\n",
    "else:\n",
    "    print('사자는 포유류가 아니다')\n",
    "    \n",
    "print()\n",
    "print(primate <= mammal)\n",
    "\n",
    "print(primate < mammal)\n",
    "\n",
    "print(mammal <= primate )\n",
    "\n",
    "print(mammal < primate)"
   ]
  },
  {
   "cell_type": "markdown",
   "metadata": {},
   "source": [
    "---\n",
    "Q. 문제 : 키를 무지개 색인 빨, 주, 노, 초, 파, 남, 보로 하고 값을 각 색상의 영어 단어로 정의한 후 초록색의 영어 단어를 검색하는 예제를 작성하라"
   ]
  },
  {
   "cell_type": "code",
   "execution_count": 93,
   "metadata": {},
   "outputs": [
    {
     "name": "stdout",
     "output_type": "stream",
     "text": [
      "green\n"
     ]
    }
   ],
   "source": [
    "rainbow = {'빨':'red', '주':'orange','노':'yellow','초':'green','파':'blue','남':'indigo','보':'purple'}\n",
    "print(rainbow['초'])"
   ]
  },
  {
   "cell_type": "markdown",
   "metadata": {},
   "source": [
    "# 11. 컬렉션 관리(대용량 데이터를 다룰 때 용이)\n",
    "## 컬렉션 관리 함수, 람다함수, 컬렉션의 사본"
   ]
  },
  {
   "cell_type": "markdown",
   "metadata": {},
   "source": [
    "## 11-1 컬렉션 관리함수\n",
    "enumerate, zip, any, all"
   ]
  },
  {
   "cell_type": "code",
   "execution_count": 98,
   "metadata": {},
   "outputs": [
    {
     "name": "stdout",
     "output_type": "stream",
     "text": [
      "성적 : 88\n",
      "성적 : 95\n",
      "성적 : 70\n",
      "성적 : 100\n",
      "성적 : 99\n"
     ]
    }
   ],
   "source": [
    "# enumerate\n",
    "score = [88, 95, 70, 100, 99]\n",
    "for i in score:\n",
    "    print(\"성적 :\",i)"
   ]
  },
  {
   "cell_type": "code",
   "execution_count": 99,
   "metadata": {},
   "outputs": [
    {
     "name": "stdout",
     "output_type": "stream",
     "text": [
      "1번 학생의 성적 : 88\n",
      "2번 학생의 성적 : 95\n",
      "3번 학생의 성적 : 70\n",
      "4번 학생의 성적 : 100\n",
      "5번 학생의 성적 : 99\n"
     ]
    }
   ],
   "source": [
    "no = 1\n",
    "for s in score:\n",
    "    print(str(no)+ \"번 학생의 성적 :\", s)\n",
    "    no +=1"
   ]
  },
  {
   "cell_type": "code",
   "execution_count": 100,
   "metadata": {},
   "outputs": [
    {
     "name": "stdout",
     "output_type": "stream",
     "text": [
      "1번 학생의 성적 : 88\n",
      "2번 학생의 성적 : 95\n",
      "3번 학생의 성적 : 70\n",
      "4번 학생의 성적 : 100\n",
      "5번 학생의 성적 : 99\n"
     ]
    }
   ],
   "source": [
    "for no in range(len(score)):\n",
    "    print(str(no+1)+'번 학생의 성적 :',score[no])"
   ]
  },
  {
   "cell_type": "code",
   "execution_count": 130,
   "metadata": {},
   "outputs": [
    {
     "name": "stdout",
     "output_type": "stream",
     "text": [
      "1 /45\n",
      "1번 학생의 성적 : 45\n",
      "2 /89\n",
      "2번 학생의 성적 : 89\n",
      "3 /72\n",
      "3번 학생의 성적 : 72\n",
      "4 /53\n",
      "4번 학생의 성적 : 53\n",
      "5 /94\n",
      "5번 학생의 성적 : 94\n"
     ]
    }
   ],
   "source": [
    "# enumerate - 순서값과 요소값 둘을 한꺼번에 구해주는 내장함수\n",
    "\n",
    "for no, s  in enumerate(score, 1):          #1부터 시작하는 순서값과 요소값을 튜플로 생성하여 차례대로 리턴\n",
    "    print(no,'/',end='')\n",
    "    print(s)\n",
    "    print(str(no)+'번 학생의 성적 :',s)"
   ]
  },
  {
   "cell_type": "code",
   "execution_count": 131,
   "metadata": {},
   "outputs": [
    {
     "name": "stdout",
     "output_type": "stream",
     "text": [
      "<zip object at 0x000002104CB08580>\n",
      "{'월': '갈비탕', '화': '순대국', '수': '칼국수', '목': '삼겹살'}\n",
      "월요일 메뉴 : 갈비탕\n",
      "화요일 메뉴 : 순대국\n",
      "수요일 메뉴 : 칼국수\n",
      "목요일 메뉴 : 삼겹살\n"
     ]
    }
   ],
   "source": [
    "# zip - 여러개의 컬랙션을 합쳐 하나로.  대응되는 요소끼리 튜플로. 짧은 쪽의 길이에 맞춰져. 긴쪽의 남는 요소는 사용X\n",
    "\n",
    "yoil = ['월','화','수','목','금','토','일']\n",
    "food = ['갈비탕','순대국','칼국수','삼겹살']\n",
    "menu = zip(yoil,food)\n",
    "print(menu)\n",
    "menu2 = dict(zip(yoil,food))\n",
    "print(menu2)\n",
    "for y,f in menu:\n",
    "    print('%s요일 메뉴 : %s'%(y,f))"
   ]
  },
  {
   "cell_type": "code",
   "execution_count": 132,
   "metadata": {},
   "outputs": [
    {
     "name": "stdout",
     "output_type": "stream",
     "text": [
      "<zip object at 0x000002104CB100C0>\n",
      "월요일 메뉴 : 갈비탕, happy\n",
      "화요일 메뉴 : 순대국, soso\n",
      "수요일 메뉴 : 칼국수, bad\n",
      "목요일 메뉴 : 삼겹살, not bad\n"
     ]
    }
   ],
   "source": [
    "# zip - 세 개 이상의 리스트도 가능\n",
    "\n",
    "yoil = ['월','화','수','목','금','토','일']\n",
    "food = ['갈비탕','순대국','칼국수','삼겹살']\n",
    "mood = ['happy','soso','bad','not bad']\n",
    "menu = zip(yoil,food,mood)\n",
    "print(menu)\n",
    "for y,f,m in menu:\n",
    "    print('%s요일 메뉴 : %s, %s'%(y,f,m))"
   ]
  },
  {
   "cell_type": "code",
   "execution_count": 133,
   "metadata": {},
   "outputs": [
    {
     "name": "stdout",
     "output_type": "stream",
     "text": [
      "<zip object at 0x000002104CB10980>\n",
      "월요일 메뉴 : 갈비탕\n",
      "화요일 메뉴 : 순대국\n",
      "수요일 메뉴 : 칼국수\n",
      "목요일 메뉴 : 삼겹살\n"
     ]
    }
   ],
   "source": [
    "# zip - 리스트 뿐 아니라 튜플도 가능\n",
    "\n",
    "yoil = ('월','화','수','목','금','토','일')\n",
    "food = ('갈비탕','순대국','칼국수','삼겹살')\n",
    "menu = zip(yoil,food)\n",
    "print(menu)\n",
    "for y,f in menu:\n",
    "    print('%s요일 메뉴 : %s'%(y,f))"
   ]
  },
  {
   "cell_type": "code",
   "execution_count": 134,
   "metadata": {},
   "outputs": [
    {
     "name": "stdout",
     "output_type": "stream",
     "text": [
      "True\n",
      "False\n"
     ]
    }
   ],
   "source": [
    "# any 함수 - 리스트를 순회하며 참인 요소가 하나라도 있는지 조사. \n",
    "# all 함수 - 리스트의 모든 요소가 참인지 조사\n",
    "\n",
    "adult = [True,False,True,False]\n",
    "print(any(adult))\n",
    "print(all(adult))"
   ]
  },
  {
   "cell_type": "markdown",
   "metadata": {},
   "source": [
    "## 11-2 람다함수\n",
    "filter, map, lambda"
   ]
  },
  {
   "cell_type": "code",
   "execution_count": 135,
   "metadata": {},
   "outputs": [
    {
     "name": "stdout",
     "output_type": "stream",
     "text": [
      "45\n",
      "53\n"
     ]
    }
   ],
   "source": [
    "# filter(조건, 대상) - 조건에 맞는 것만 골라낸다\n",
    "\n",
    "def flunk(s):\n",
    "    return s < 60\n",
    "    \n",
    "score = [45,89,72,53,94]\n",
    "for s in filter(flunk, score):\n",
    "    print(s)"
   ]
  },
  {
   "cell_type": "code",
   "execution_count": 137,
   "metadata": {},
   "outputs": [],
   "source": [
    "# ????\n",
    "\n",
    "n = 1\n",
    "for s in score:\n",
    "    if s == flunk:\n",
    "        print(n,\"번째 학생 낙제.\", '\\n', \"점수 :\",s)\n",
    "    else:\n",
    "        continue\n",
    "    n +=1"
   ]
  },
  {
   "cell_type": "code",
   "execution_count": 146,
   "metadata": {},
   "outputs": [
    {
     "name": "stdout",
     "output_type": "stream",
     "text": [
      "22.5,44.5,36.0,26.5,47.0,\n",
      "[45, 89, 72, 53, 94]\n"
     ]
    }
   ],
   "source": [
    "# map(변환함수. 대상) - 변환함수를 호촐하여 (원본데이터는 건들지 않고) 새 요소값으로 구성된 리스트를 생성\n",
    "\n",
    "def half(s):\n",
    "    return s/2\n",
    "\n",
    "score = [45, 89, 72, 53, 94]\n",
    "for s in map(half, score):\n",
    "    print(s, end=',')\n",
    "    \n",
    "print()\n",
    "print(score)"
   ]
  },
  {
   "cell_type": "code",
   "execution_count": 147,
   "metadata": {},
   "outputs": [
    {
     "name": "stdout",
     "output_type": "stream",
     "text": [
      "47,92,72,53,99,"
     ]
    }
   ],
   "source": [
    "# map(변환함수, 대상, 대상)\n",
    "\n",
    "def total(s, b):\n",
    "    return s + b\n",
    "\n",
    "score = [45,89,72,53,94]\n",
    "bonus = [2,3,0,0,5]\n",
    "for s in map(total, score, bonus):\n",
    "    print(s, end=',')"
   ]
  },
  {
   "cell_type": "code",
   "execution_count": 148,
   "metadata": {},
   "outputs": [
    {
     "data": {
      "text/plain": [
       "<function __main__.<lambda>(x)>"
      ]
     },
     "execution_count": 148,
     "metadata": {},
     "output_type": "execute_result"
    }
   ],
   "source": [
    "# 람다함수 - lamda 인수 : 식\n",
    "# filter, map 함수는 필터링과 변환을 위해 다른 함수를 인수로 받는다. \n",
    "# but, 람다는 이름이 없고, 입력과 출력만으로 함수를 정의\n",
    "\n",
    "lambda x:(x+1)\n",
    "\n",
    "=def increase(x):\n",
    "    return x+1"
   ]
  },
  {
   "cell_type": "code",
   "execution_count": 150,
   "metadata": {},
   "outputs": [
    {
     "name": "stdout",
     "output_type": "stream",
     "text": [
      "45\n",
      "53\n"
     ]
    }
   ],
   "source": [
    "# filter 예제 -> lambda 식으로\n",
    "\n",
    "score = [45, 89, 72, 53, 94]\n",
    "for s in filter(lambda x: x<60, score):    #인수 x를 받아 값이 60미만인지 조사하여 리턴. lambda = flunk  위의 함수와 동일\n",
    "    print(s)"
   ]
  },
  {
   "cell_type": "code",
   "execution_count": 152,
   "metadata": {},
   "outputs": [
    {
     "name": "stdout",
     "output_type": "stream",
     "text": [
      "22.5\n",
      "44.5\n",
      "36.0\n",
      "26.5\n",
      "47.0\n"
     ]
    }
   ],
   "source": [
    "# map 예제 -> lambda 식으로\n",
    "\n",
    "score = [45, 89, 72, 53, 94]\n",
    "for s in map(lambda x: x/2, score):\n",
    "    print(s)"
   ]
  },
  {
   "cell_type": "markdown",
   "metadata": {},
   "source": [
    "## 11-3. 컬렉션의 사본\n",
    "리스트의 사본, is 연산자"
   ]
  },
  {
   "cell_type": "code",
   "execution_count": 153,
   "metadata": {},
   "outputs": [
    {
     "name": "stdout",
     "output_type": "stream",
     "text": [
      "a = 3, b = 3\n"
     ]
    }
   ],
   "source": [
    "# 변수는 서로 독립적이다. 대입하면 일시적으로 값이 같아질 뿐, 이후 둘 중 하나를 바꾸어도 다른 변수에 전혀 영향을 주지X\n",
    "a = 3\n",
    "b = a\n",
    "print(\"a = %d, b = %d\" %(a,b))"
   ]
  },
  {
   "cell_type": "code",
   "execution_count": 154,
   "metadata": {},
   "outputs": [
    {
     "name": "stdout",
     "output_type": "stream",
     "text": [
      "a = 5, b = 3\n"
     ]
    }
   ],
   "source": [
    "a= 5                                   # 이후 a를 바꾸는 건 b에 영향을 X\n",
    "print(\"a = %d, b = %d\" %(a,b))"
   ]
  },
  {
   "cell_type": "code",
   "execution_count": 155,
   "metadata": {},
   "outputs": [
    {
     "name": "stdout",
     "output_type": "stream",
     "text": [
      "[1, 2, 100]\n",
      "[1, 2, 100]\n"
     ]
    }
   ],
   "source": [
    "# But, 컬렉션의 경우 다르다\n",
    "# 두 리스트가 독립된 사본이 아니라, 같은 메모리를 가리키고 있기 때문\n",
    "\n",
    "list1 = [1,2,3]\n",
    "list2 = list1\n",
    "\n",
    "list2[2] = 100\n",
    "print(list1)\n",
    "print(list2)"
   ]
  },
  {
   "cell_type": "code",
   "execution_count": 157,
   "metadata": {},
   "outputs": [
    {
     "data": {
      "text/plain": [
       "2269028880512"
      ]
     },
     "execution_count": 157,
     "metadata": {},
     "output_type": "execute_result"
    }
   ],
   "source": [
    "id(list1)"
   ]
  },
  {
   "cell_type": "code",
   "execution_count": 158,
   "metadata": {},
   "outputs": [
    {
     "data": {
      "text/plain": [
       "2269028880512"
      ]
     },
     "execution_count": 158,
     "metadata": {},
     "output_type": "execute_result"
    }
   ],
   "source": [
    "id(list2)"
   ]
  },
  {
   "cell_type": "code",
   "execution_count": 161,
   "metadata": {},
   "outputs": [
    {
     "name": "stdout",
     "output_type": "stream",
     "text": [
      "[1, 2, 3]\n",
      "[1, 100, 3]\n"
     ]
    }
   ],
   "source": [
    "#  copy메서드 - 완전 독립적 사본\n",
    "\n",
    "list1 = [1,2,3]\n",
    "list2 = list1.copy()\n",
    "\n",
    "list2[1]= 100\n",
    "print(list1)\n",
    "print(list2)"
   ]
  },
  {
   "cell_type": "code",
   "execution_count": 162,
   "metadata": {},
   "outputs": [
    {
     "data": {
      "text/plain": [
       "2269029529408"
      ]
     },
     "execution_count": 162,
     "metadata": {},
     "output_type": "execute_result"
    }
   ],
   "source": [
    "id(list1)"
   ]
  },
  {
   "cell_type": "code",
   "execution_count": 163,
   "metadata": {},
   "outputs": [
    {
     "data": {
      "text/plain": [
       "2269029427904"
      ]
     },
     "execution_count": 163,
     "metadata": {},
     "output_type": "execute_result"
    }
   ],
   "source": [
    "id(list2)"
   ]
  },
  {
   "cell_type": "code",
   "execution_count": 169,
   "metadata": {},
   "outputs": [
    {
     "name": "stdout",
     "output_type": "stream",
     "text": [
      "['a', 'c']\n",
      "[['a', 'c'], 1, 2]\n",
      "[['a', 'c'], 1, 2]\n"
     ]
    }
   ],
   "source": [
    "list0 = ['a','b']\n",
    "list1 = [list0,1,2]\n",
    "list2 = list1.copy()                          # list1 안에 list0이 포함. copy메서드로 복사하면 두 리스트가 list0을 공유\n",
    "\n",
    "list2[0][1] = 'c'\n",
    "print(list0)\n",
    "print(list1)\n",
    "print(list2)"
   ]
  },
  {
   "cell_type": "code",
   "execution_count": 165,
   "metadata": {},
   "outputs": [
    {
     "data": {
      "text/plain": [
       "2269029522880"
      ]
     },
     "execution_count": 165,
     "metadata": {},
     "output_type": "execute_result"
    }
   ],
   "source": [
    "id(list0)"
   ]
  },
  {
   "cell_type": "code",
   "execution_count": 167,
   "metadata": {},
   "outputs": [
    {
     "data": {
      "text/plain": [
       "2269029522880"
      ]
     },
     "execution_count": 167,
     "metadata": {},
     "output_type": "execute_result"
    }
   ],
   "source": [
    "id(list1[0])"
   ]
  },
  {
   "cell_type": "code",
   "execution_count": 168,
   "metadata": {},
   "outputs": [
    {
     "data": {
      "text/plain": [
       "2269029522880"
      ]
     },
     "execution_count": 168,
     "metadata": {},
     "output_type": "execute_result"
    }
   ],
   "source": [
    "id(list2[0])"
   ]
  },
  {
   "cell_type": "code",
   "execution_count": 170,
   "metadata": {},
   "outputs": [
    {
     "name": "stdout",
     "output_type": "stream",
     "text": [
      "['a', 'b']\n",
      "[['a', 'b'], 1, 2]\n",
      "[['a', 'c'], 1, 2]\n"
     ]
    }
   ],
   "source": [
    "# deepcopy - 깊이까지 완전 사본\n",
    "\n",
    "import copy\n",
    "\n",
    "list0 = ['a','b']\n",
    "list1 = [list0,1,2]\n",
    "list2 = copy.deepcopy(list1)   # 'copy.' = import한 copy\n",
    "\n",
    "list2[0][1] = 'c'\n",
    "print(list0)\n",
    "print(list1)\n",
    "print(list2)"
   ]
  },
  {
   "cell_type": "code",
   "execution_count": 173,
   "metadata": {},
   "outputs": [
    {
     "ename": "SyntaxError",
     "evalue": "invalid syntax (<ipython-input-173-432e28eae1f9>, line 1)",
     "output_type": "error",
     "traceback": [
      "\u001b[1;36m  File \u001b[1;32m\"<ipython-input-173-432e28eae1f9>\"\u001b[1;36m, line \u001b[1;32m1\u001b[0m\n\u001b[1;33m    import copy from copy\u001b[0m\n\u001b[1;37m                ^\u001b[0m\n\u001b[1;31mSyntaxError\u001b[0m\u001b[1;31m:\u001b[0m invalid syntax\n"
     ]
    }
   ],
   "source": [
    "import copy from copy \n",
    "\n",
    "list0 = ['a','b']\n",
    "list1 = [list0,1,2]\n",
    "list2 = deepcopy(list1)   # 'copy.' = import한 copy/ from copy였다면 그냥 deepcopy쓸수 있다\n",
    "\n",
    "list2[0][1] = 'c'\n",
    "print(list0)\n",
    "print(list1)\n",
    "print(list2)"
   ]
  },
  {
   "cell_type": "code",
   "execution_count": 174,
   "metadata": {},
   "outputs": [
    {
     "name": "stdout",
     "output_type": "stream",
     "text": [
      "1==2 True\n",
      "1==3 False\n",
      "2==3 False\n"
     ]
    }
   ],
   "source": [
    "# is 연산자 - 두 변수가 같은 객제를 가리키고 있는지 조사할 때.\n",
    "# 좌우 변수가 똑같은 객체를 가리키고 있으면 True 리턴\n",
    "\n",
    "list1 = [1,2,3]\n",
    "list2 = list1\n",
    "list3 = list1.copy()\n",
    "\n",
    "print('1==2', list1 is list2)\n",
    "print('1==3', list1 is list3)\n",
    "print('2==3', list2 is list3)"
   ]
  },
  {
   "cell_type": "code",
   "execution_count": 175,
   "metadata": {},
   "outputs": [
    {
     "name": "stdout",
     "output_type": "stream",
     "text": [
      "a = 1 b = 1 : True\n",
      "a = 1 b = 2 : False\n"
     ]
    }
   ],
   "source": [
    "a = 1\n",
    "b = a\n",
    "print('a =', a, 'b =', b, \":\", a is b)\n",
    "\n",
    "b = 2\n",
    "print('a =', a, 'b =', b, \":\", a is b)"
   ]
  },
  {
   "cell_type": "markdown",
   "metadata": {},
   "source": [
    "---\n",
    "Q. 문제 : 1 ~ 10 정수의  리스트 a와 각 정수의 제곱의 리스트 b를 만든 후 두 리스트를 합쳐 사전으로 만들고 6의 제곱을 검색하여 출력하라"
   ]
  },
  {
   "cell_type": "code",
   "execution_count": 185,
   "metadata": {},
   "outputs": [
    {
     "name": "stdout",
     "output_type": "stream",
     "text": [
      "{1: 1, 2: 4, 3: 9, 4: 16, 5: 25, 6: 36, 7: 49, 8: 64, 9: 81, 10: 100}\n",
      "36\n"
     ]
    }
   ],
   "source": [
    "a = [n for n in range(1,11)]\n",
    "b = [n*n for n in range(1,11)]\n",
    "c = dict(zip(a,b))\n",
    "print(c)\n",
    "print(c[6])"
   ]
  },
  {
   "cell_type": "markdown",
   "metadata": {},
   "source": [
    "---\n",
    "Q. 문제 : price 리스트에 상품 가격 다섯 개가 저장되어 있다. 모든 상품의 가격을 20% 세일한 값으로 출력하라"
   ]
  },
  {
   "cell_type": "code",
   "execution_count": 188,
   "metadata": {},
   "outputs": [
    {
     "name": "stdout",
     "output_type": "stream",
     "text": [
      "2800.0\n",
      "4800.0\n",
      "8000.0\n",
      "40000.0\n",
      "104000.0\n"
     ]
    }
   ],
   "source": [
    "price = [3500, 6000, 10000, 50000, 130000]\n",
    "\n",
    "for i in map(lambda x : x* 0.8, price):\n",
    "    print(i)"
   ]
  },
  {
   "cell_type": "code",
   "execution_count": 189,
   "metadata": {},
   "outputs": [
    {
     "name": "stdout",
     "output_type": "stream",
     "text": [
      "2800.0\n",
      "4800.0\n",
      "8000.0\n",
      "40000.0\n",
      "104000.0\n"
     ]
    }
   ],
   "source": [
    "def sale(p):\n",
    "    return p * 0.8\n",
    "\n",
    "for i in map(sale, price):\n",
    "    print(i)"
   ]
  },
  {
   "cell_type": "markdown",
   "metadata": {},
   "source": [
    "---\n",
    "Q. 다음 예제의 출력 결과를 예상해보고 이유를 설명하라"
   ]
  },
  {
   "cell_type": "code",
   "execution_count": null,
   "metadata": {},
   "outputs": [],
   "source": [
    "# 예제\n",
    "score = [77,88,99,66,55]\n",
    "score2 = score\n",
    "score2[3]=100\n",
    "print(score[3])"
   ]
  },
  {
   "cell_type": "markdown",
   "metadata": {},
   "source": [
    "# 12. 표준 모듈\n",
    "파이썬 코드를 작성해 놓은 스크립트 파일. 모든 것을 만들어 쓸 수 없고, 그럴 필요도 없기 때문\n",
    "\n",
    "수학, 시간, 난수, sys 모듈"
   ]
  },
  {
   "cell_type": "markdown",
   "metadata": {},
   "source": [
    "## 12-1. 수학\n",
    "import 모듈, math 모듈, statistics 모듈"
   ]
  },
  {
   "cell_type": "code",
   "execution_count": 199,
   "metadata": {
    "scrolled": true
   },
   "outputs": [
    {
     "data": {
      "text/plain": [
       "['__doc__',\n",
       " '__loader__',\n",
       " '__name__',\n",
       " '__package__',\n",
       " '__spec__',\n",
       " 'acos',\n",
       " 'acosh',\n",
       " 'asin',\n",
       " 'asinh',\n",
       " 'atan',\n",
       " 'atan2',\n",
       " 'atanh',\n",
       " 'ceil',\n",
       " 'comb',\n",
       " 'copysign',\n",
       " 'cos',\n",
       " 'cosh',\n",
       " 'degrees',\n",
       " 'dist',\n",
       " 'e',\n",
       " 'erf',\n",
       " 'erfc',\n",
       " 'exp',\n",
       " 'expm1',\n",
       " 'fabs',\n",
       " 'factorial',\n",
       " 'floor',\n",
       " 'fmod',\n",
       " 'frexp',\n",
       " 'fsum',\n",
       " 'gamma',\n",
       " 'gcd',\n",
       " 'hypot',\n",
       " 'inf',\n",
       " 'isclose',\n",
       " 'isfinite',\n",
       " 'isinf',\n",
       " 'isnan',\n",
       " 'isqrt',\n",
       " 'ldexp',\n",
       " 'lgamma',\n",
       " 'log',\n",
       " 'log10',\n",
       " 'log1p',\n",
       " 'log2',\n",
       " 'modf',\n",
       " 'nan',\n",
       " 'perm',\n",
       " 'pi',\n",
       " 'pow',\n",
       " 'prod',\n",
       " 'radians',\n",
       " 'remainder',\n",
       " 'sin',\n",
       " 'sinh',\n",
       " 'sqrt',\n",
       " 'tan',\n",
       " 'tanh',\n",
       " 'tau',\n",
       " 'trunc']"
      ]
     },
     "execution_count": 199,
     "metadata": {},
     "output_type": "execute_result"
    }
   ],
   "source": [
    "dir(math)   # math의 내장함수"
   ]
  },
  {
   "cell_type": "code",
   "execution_count": 190,
   "metadata": {},
   "outputs": [
    {
     "name": "stdout",
     "output_type": "stream",
     "text": [
      "1.4142135623730951\n"
     ]
    }
   ],
   "source": [
    "# import\n",
    "\n",
    "import math\n",
    "\n",
    "print(math.sqrt(2))             # sqrt - 제곱근"
   ]
  },
  {
   "cell_type": "code",
   "execution_count": 191,
   "metadata": {},
   "outputs": [
    {
     "name": "stdout",
     "output_type": "stream",
     "text": [
      "1.4142135623730951\n"
     ]
    }
   ],
   "source": [
    "from math import sqrt     # 함수를 직접 임포트했으므로 소속을 밝힐 필요없이 바로 함수명 호출\n",
    "\n",
    "print(sqrt(2))"
   ]
  },
  {
   "cell_type": "code",
   "execution_count": 194,
   "metadata": {},
   "outputs": [
    {
     "name": "stdout",
     "output_type": "stream",
     "text": [
      "1.4142135623730951\n"
     ]
    }
   ],
   "source": [
    "# 모듈(함수)의 별칭 \n",
    "\n",
    "import math as m\n",
    "\n",
    "print(m.sqrt(2))"
   ]
  },
  {
   "cell_type": "code",
   "execution_count": 195,
   "metadata": {},
   "outputs": [
    {
     "name": "stdout",
     "output_type": "stream",
     "text": [
      "1.4142135623730951\n"
     ]
    }
   ],
   "source": [
    "from math import sqrt as sq\n",
    "\n",
    "print(sq(2))"
   ]
  },
  {
   "cell_type": "code",
   "execution_count": 196,
   "metadata": {},
   "outputs": [
    {
     "name": "stdout",
     "output_type": "stream",
     "text": [
      "0.7071067811865476\n",
      "1.4142135623730951\n",
      "120\n"
     ]
    }
   ],
   "source": [
    "import math\n",
    "\n",
    "print(math.sin(math.radians(45)))\n",
    "print(math.sqrt(2))\n",
    "print(math.factorial(5))"
   ]
  },
  {
   "cell_type": "code",
   "execution_count": 197,
   "metadata": {},
   "outputs": [
    {
     "ename": "Terminator",
     "evalue": "",
     "output_type": "error",
     "traceback": [
      "\u001b[1;31m---------------------------------------------------------------------------\u001b[0m",
      "\u001b[1;31mTerminator\u001b[0m                                Traceback (most recent call last)",
      "\u001b[1;32m<ipython-input-197-2d07459ceb55>\u001b[0m in \u001b[0;36m<module>\u001b[1;34m\u001b[0m\n\u001b[0;32m      8\u001b[0m \u001b[0mt\u001b[0m\u001b[1;33m.\u001b[0m\u001b[0mpendown\u001b[0m\u001b[1;33m(\u001b[0m\u001b[1;33m)\u001b[0m\u001b[1;33m\u001b[0m\u001b[1;33m\u001b[0m\u001b[0m\n\u001b[0;32m      9\u001b[0m \u001b[1;32mfor\u001b[0m \u001b[0mx\u001b[0m \u001b[1;32min\u001b[0m \u001b[0mrange\u001b[0m\u001b[1;33m(\u001b[0m\u001b[1;33m-\u001b[0m\u001b[1;36m720\u001b[0m\u001b[1;33m,\u001b[0m\u001b[1;36m720\u001b[0m\u001b[1;33m)\u001b[0m\u001b[1;33m:\u001b[0m\u001b[1;33m\u001b[0m\u001b[1;33m\u001b[0m\u001b[0m\n\u001b[1;32m---> 10\u001b[1;33m     \u001b[0mt\u001b[0m\u001b[1;33m.\u001b[0m\u001b[0mgoto\u001b[0m\u001b[1;33m(\u001b[0m\u001b[0mx\u001b[0m\u001b[1;33m,\u001b[0m \u001b[0mmath\u001b[0m\u001b[1;33m.\u001b[0m\u001b[0msin\u001b[0m\u001b[1;33m(\u001b[0m\u001b[0mmath\u001b[0m\u001b[1;33m.\u001b[0m\u001b[0mradians\u001b[0m\u001b[1;33m(\u001b[0m\u001b[0mx\u001b[0m\u001b[1;33m)\u001b[0m\u001b[1;33m)\u001b[0m\u001b[1;33m*\u001b[0m\u001b[1;36m100\u001b[0m\u001b[1;33m)\u001b[0m\u001b[1;33m\u001b[0m\u001b[1;33m\u001b[0m\u001b[0m\n\u001b[0m\u001b[0;32m     11\u001b[0m \u001b[0mt\u001b[0m\u001b[1;33m.\u001b[0m\u001b[0mdone\u001b[0m\u001b[1;33m(\u001b[0m\u001b[1;33m)\u001b[0m\u001b[1;33m\u001b[0m\u001b[1;33m\u001b[0m\u001b[0m\n",
      "\u001b[1;32m~\\anaconda3\\lib\\turtle.py\u001b[0m in \u001b[0;36mgoto\u001b[1;34m(x, y)\u001b[0m\n",
      "\u001b[1;31mTerminator\u001b[0m: "
     ]
    }
   ],
   "source": [
    "# 텍스트 모드를 크래픽 모드로\n",
    "# 터틀 그래픽을 사용하여 -720 ~ 720도까지 각도를 바꿔가면 사인곡선 그리기\n",
    "\n",
    "import math\n",
    "import turtle as t\n",
    "\n",
    "t.penup()\n",
    "t.goto(-720,0)\n",
    "t.pendown()\n",
    "for x in range(-720,720):\n",
    "    t.goto(x, math.sin(math.radians(x))*100)\n",
    "t.done()"
   ]
  },
  {
   "cell_type": "code",
   "execution_count": 198,
   "metadata": {},
   "outputs": [
    {
     "name": "stdout",
     "output_type": "stream",
     "text": [
      "61.666666666666664\n",
      "53.14586994727592\n",
      "65.0\n",
      "60\n",
      "70\n"
     ]
    }
   ],
   "source": [
    "# 통계 statistics - # 성적 데이터에 대한 통계 값\n",
    "\n",
    "import statistics\n",
    "\n",
    "score = [30, 40, 60, 70, 80, 90]\n",
    "print(statistics.mean(score))\n",
    "print(statistics.harmonic_mean(score))\n",
    "print(statistics.median(score))\n",
    "print(statistics.median_low(score))\n",
    "print(statistics.median_high(score))"
   ]
  },
  {
   "cell_type": "markdown",
   "metadata": {},
   "source": [
    "## 12-2. 시간\n",
    "time 모듈은 날짜와 시간 관련 기능을 제공./ 대표적인 함수는 현재 시간을 조사하는 time이다."
   ]
  },
  {
   "cell_type": "code",
   "execution_count": 200,
   "metadata": {},
   "outputs": [
    {
     "name": "stdout",
     "output_type": "stream",
     "text": [
      "1610865529.7194862\n"
     ]
    }
   ],
   "source": [
    "# 1970년부터 2018년까지의 현재시간이 16억 초가 지났다는 뜻.\n",
    "\n",
    "import time\n",
    "\n",
    "print(time.time())"
   ]
  },
  {
   "cell_type": "code",
   "execution_count": 201,
   "metadata": {},
   "outputs": [
    {
     "name": "stdout",
     "output_type": "stream",
     "text": [
      "Sun Jan 17 15:39:28 2021\n"
     ]
    }
   ],
   "source": [
    "# 보기 쉽게 C타임으로 \n",
    "\n",
    "import time\n",
    "\n",
    "t = time.time()\n",
    "print(time.ctime(t))"
   ]
  },
  {
   "cell_type": "code",
   "execution_count": 205,
   "metadata": {},
   "outputs": [
    {
     "name": "stdout",
     "output_type": "stream",
     "text": [
      "Sun Jan 17 15:43:29 2021\n"
     ]
    }
   ],
   "source": [
    "# 공백으로 디폴트 타입 / 함수를 정해 ()안에 넣을 수 있다 ex, .ctime(t)\n",
    "print(time.ctime())"
   ]
  },
  {
   "cell_type": "code",
   "execution_count": 207,
   "metadata": {},
   "outputs": [
    {
     "name": "stdout",
     "output_type": "stream",
     "text": [
      "time.struct_time(tm_year=2021, tm_mon=1, tm_mday=17, tm_hour=15, tm_min=45, tm_sec=0, tm_wday=6, tm_yday=17, tm_isdst=0)\n"
     ]
    }
   ],
   "source": [
    "# localtime - 지역시간을 고려하여 현지 시간\n",
    "\n",
    "import time\n",
    "\n",
    "t = time.time()\n",
    "print(time.localtime(t))\n",
    "\n",
    "#struct = 구조체  (ex, 이름, 주소, 핸드폰번호 등을 구조로 만드는)\n",
    "# 에폭 시간을 인수로 주면 시간 요소를 멤버로 가지는 struct_time형의 객체로 리턴"
   ]
  },
  {
   "cell_type": "code",
   "execution_count": 206,
   "metadata": {},
   "outputs": [
    {
     "name": "stdout",
     "output_type": "stream",
     "text": [
      "time.struct_time(tm_year=2021, tm_mon=1, tm_mday=17, tm_hour=6, tm_min=44, tm_sec=4, tm_wday=6, tm_yday=17, tm_isdst=0)\n"
     ]
    }
   ],
   "source": [
    "# gmtime - 세계 표준 시간인 UTC 시간\n",
    "\n",
    "import time\n",
    "\n",
    "t = time.time()\n",
    "print(time.gmtime(t))"
   ]
  },
  {
   "cell_type": "code",
   "execution_count": 208,
   "metadata": {},
   "outputs": [
    {
     "name": "stdout",
     "output_type": "stream",
     "text": [
      "2021년 1월 17일\n",
      "15:45:43\n"
     ]
    }
   ],
   "source": [
    "# 시간 포맷에 맞춰 출력\n",
    "\n",
    "import time\n",
    "\n",
    "now = time.localtime()\n",
    "print(\"%d년 %d월 %d일\" % (now.tm_year, now.tm_mon, now.tm_mday))\n",
    "print(\"%d:%d:%d\" %(now.tm_hour, now.tm_min, now.tm_sec))"
   ]
  },
  {
   "cell_type": "code",
   "execution_count": 209,
   "metadata": {},
   "outputs": [
    {
     "name": "stdout",
     "output_type": "stream",
     "text": [
      "2021년 1월 17일\n",
      "15:47:1\n"
     ]
    }
   ],
   "source": [
    "# localtime 모듈 대신 datetime 모듈. 멤버 이름이 더 짧고 직관적이어서 사용하기 용이\n",
    "\n",
    "import datetime\n",
    "\n",
    "now = datetime.datetime.now()\n",
    "print(\"%d년 %d월 %d일\" % (now.year, now.month, now.day))\n",
    "print(\"%d:%d:%d\" %(now.hour, now.minute, now.second))"
   ]
  },
  {
   "cell_type": "code",
   "execution_count": 210,
   "metadata": {},
   "outputs": [
    {
     "name": "stdout",
     "output_type": "stream",
     "text": [
      "2021년 1월 17일\n",
      "15:47:45\n"
     ]
    }
   ],
   "source": [
    "from datetime import datetime\n",
    "\n",
    "now = datetime.now()\n",
    "print(\"%d년 %d월 %d일\" % (now.year, now.month, now.day))\n",
    "print(\"%d:%d:%d\" %(now.hour, now.minute, now.second))"
   ]
  },
  {
   "cell_type": "code",
   "execution_count": 214,
   "metadata": {},
   "outputs": [
    {
     "name": "stdout",
     "output_type": "stream",
     "text": [
      "0,1,2,3,4,5,6,7,8,9,10,11,12,13,14,15,16,17,18,19,20,21,22,23,24,25,26,27,28,29,30,31,32,33,34,35,36,37,38,39,40,41,42,43,44,45,46,47,48,49,50,51,52,53,54,55,56,57,58,59,60,61,62,63,64,65,66,67,68,69,70,71,72,73,74,75,76,77,78,79,80,81,82,83,84,85,86,87,88,89,90,91,92,93,94,95,96,97,98,99,100,101,102,103,104,105,106,107,108,109,110,111,112,113,114,115,116,117,118,119,120,121,122,123,124,125,126,127,128,129,130,131,132,133,134,135,136,137,138,139,140,141,142,143,144,145,146,147,148,149,150,151,152,153,154,155,156,157,158,159,160,161,162,163,164,165,166,167,168,169,170,171,172,173,174,175,176,177,178,179,180,181,182,183,184,185,186,187,188,189,190,191,192,193,194,195,196,197,198,199,200,201,202,203,204,205,206,207,208,209,210,211,212,213,214,215,216,217,218,219,220,221,222,223,224,225,226,227,228,229,230,231,232,233,234,235,236,237,238,239,240,241,242,243,244,245,246,247,248,249,250,251,252,253,254,255,256,257,258,259,260,261,262,263,264,265,266,267,268,269,270,271,272,273,274,275,276,277,278,279,280,281,282,283,284,285,286,287,288,289,290,291,292,293,294,295,296,297,298,299,300,301,302,303,304,305,306,307,308,309,310,311,312,313,314,315,316,317,318,319,320,321,322,323,324,325,326,327,328,329,330,331,332,333,334,335,336,337,338,339,340,341,342,343,344,345,346,347,348,349,350,351,352,353,354,355,356,357,358,359,360,361,362,363,364,365,366,367,368,369,370,371,372,373,374,375,376,377,378,379,380,381,382,383,384,385,386,387,388,389,390,391,392,393,394,395,396,397,398,399,400,401,402,403,404,405,406,407,408,409,410,411,412,413,414,415,416,417,418,419,420,421,422,423,424,425,426,427,428,429,430,431,432,433,434,435,436,437,438,439,440,441,442,443,444,445,446,447,448,449,450,451,452,453,454,455,456,457,458,459,460,461,462,463,464,465,466,467,468,469,470,471,472,473,474,475,476,477,478,479,480,481,482,483,484,485,486,487,488,489,490,491,492,493,494,495,496,497,498,499,500,501,502,503,504,505,506,507,508,509,510,511,512,513,514,515,516,517,518,519,520,521,522,523,524,525,526,527,528,529,530,531,532,533,534,535,536,537,538,539,540,541,542,543,544,545,546,547,548,549,550,551,552,553,554,555,556,557,558,559,560,561,562,563,564,565,566,567,568,569,570,571,572,573,574,575,576,577,578,579,580,581,582,583,584,585,586,587,588,589,590,591,592,593,594,595,596,597,598,599,600,601,602,603,604,605,606,607,608,609,610,611,612,613,614,615,616,617,618,619,620,621,622,623,624,625,626,627,628,629,630,631,632,633,634,635,636,637,638,639,640,641,642,643,644,645,646,647,648,649,650,651,652,653,654,655,656,657,658,659,660,661,662,663,664,665,666,667,668,669,670,671,672,673,674,675,676,677,678,679,680,681,682,683,684,685,686,687,688,689,690,691,692,693,694,695,696,697,698,699,700,701,702,703,704,705,706,707,708,709,710,711,712,713,714,715,716,717,718,719,720,721,722,723,724,725,726,727,728,729,730,731,732,733,734,735,736,737,738,739,740,741,742,743,744,745,746,747,748,749,750,751,752,753,754,755,756,757,758,759,760,761,762,763,764,765,766,767,768,769,770,771,772,773,774,775,776,777,778,779,780,781,782,783,784,785,786,787,788,789,790,791,792,793,794,795,796,797,798,799,800,801,802,803,804,805,806,807,808,809,810,811,812,813,814,815,816,817,818,819,820,821,822,823,824,825,826,827,828,829,830,831,832,833,834,835,836,837,838,839,840,841,842,843,844,845,846,847,848,849,850,851,852,853,854,855,856,857,858,859,860,861,862,863,864,865,866,867,868,869,870,871,872,873,874,875,876,877,878,879,880,881,882,883,884,885,886,887,888,889,890,891,892,893,894,895,896,897,898,899,900,901,902,903,904,905,906,907,908,909,910,911,912,913,914,915,916,917,918,919,920,921,922,923,924,925,926,927,928,929,930,931,932,933,934,935,936,937,938,939,940,941,942,943,944,945,946,947,948,949,950,951,952,953,954,955,956,957,958,959,960,961,962,963,964,965,966,967,968,969,970,971,972,973,974,975,976,977,978,979,980,981,982,983,984,985,986,987,988,989,990,991,992,993,994,995,996,997,998,999,\n",
      "\n",
      "0.057434797286987305\n"
     ]
    }
   ],
   "source": [
    "# 실행시간 측정\n",
    "\n",
    "import time\n",
    "\n",
    "start = time.time()\n",
    "for a in range(1000):\n",
    "    print(a, end=',')\n",
    "print()\n",
    "print()\n",
    "end = time.time()\n",
    "print(end - start)"
   ]
  },
  {
   "cell_type": "code",
   "execution_count": 215,
   "metadata": {},
   "outputs": [
    {
     "name": "stdout",
     "output_type": "stream",
     "text": [
      "안녕하세요\n",
      "밤에 성시경이 두 명 있으면 뭘까요?\n",
      "야간투시경입니다\n"
     ]
    }
   ],
   "source": [
    "# sleep 함수\n",
    "\n",
    "import time\n",
    "\n",
    "print('안녕하세요')\n",
    "time.sleep(2)\n",
    "print('밤에 성시경이 두 명 있으면 뭘까요?')\n",
    "time.sleep(5)\n",
    "print('야간투시경입니다')"
   ]
  },
  {
   "cell_type": "code",
   "execution_count": 219,
   "metadata": {},
   "outputs": [
    {
     "name": "stdout",
     "output_type": "stream",
     "text": [
      "2 단\n",
      "2 * 1 = 2\n",
      "2 * 2 = 4\n",
      "2 * 3 = 6\n",
      "2 * 4 = 8\n",
      "2 * 5 = 10\n",
      "2 * 6 = 12\n",
      "2 * 7 = 14\n",
      "2 * 8 = 16\n",
      "2 * 9 = 18\n",
      "\n",
      "3 단\n",
      "3 * 1 = 3\n",
      "3 * 2 = 6\n",
      "3 * 3 = 9\n",
      "3 * 4 = 12\n",
      "3 * 5 = 15\n",
      "3 * 6 = 18\n",
      "3 * 7 = 21\n",
      "3 * 8 = 24\n",
      "3 * 9 = 27\n",
      "\n",
      "4 단\n",
      "4 * 1 = 4\n",
      "4 * 2 = 8\n",
      "4 * 3 = 12\n",
      "4 * 4 = 16\n",
      "4 * 5 = 20\n",
      "4 * 6 = 24\n",
      "4 * 7 = 28\n",
      "4 * 8 = 32\n",
      "4 * 9 = 36\n",
      "\n",
      "5 단\n",
      "5 * 1 = 5\n",
      "5 * 2 = 10\n",
      "5 * 3 = 15\n",
      "5 * 4 = 20\n",
      "5 * 5 = 25\n",
      "5 * 6 = 30\n",
      "5 * 7 = 35\n",
      "5 * 8 = 40\n",
      "5 * 9 = 45\n",
      "\n",
      "6 단\n",
      "6 * 1 = 6\n",
      "6 * 2 = 12\n",
      "6 * 3 = 18\n",
      "6 * 4 = 24\n",
      "6 * 5 = 30\n",
      "6 * 6 = 36\n",
      "6 * 7 = 42\n",
      "6 * 8 = 48\n",
      "6 * 9 = 54\n",
      "\n",
      "7 단\n",
      "7 * 1 = 7\n",
      "7 * 2 = 14\n",
      "7 * 3 = 21\n",
      "7 * 4 = 28\n",
      "7 * 5 = 35\n",
      "7 * 6 = 42\n",
      "7 * 7 = 49\n",
      "7 * 8 = 56\n",
      "7 * 9 = 63\n",
      "\n",
      "8 단\n",
      "8 * 1 = 8\n",
      "8 * 2 = 16\n",
      "8 * 3 = 24\n",
      "8 * 4 = 32\n",
      "8 * 5 = 40\n",
      "8 * 6 = 48\n",
      "8 * 7 = 56\n",
      "8 * 8 = 64\n",
      "8 * 9 = 72\n",
      "\n",
      "9 단\n",
      "9 * 1 = 9\n",
      "9 * 2 = 18\n",
      "9 * 3 = 27\n",
      "9 * 4 = 36\n",
      "9 * 5 = 45\n",
      "9 * 6 = 54\n",
      "9 * 7 = 63\n",
      "9 * 8 = 72\n",
      "9 * 9 = 81\n",
      "\n"
     ]
    }
   ],
   "source": [
    "import time\n",
    "\n",
    "for dan in range(2,10):\n",
    "    print(dan,'단')\n",
    "    for hang in range(1,10):\n",
    "        print(dan,'*',hang,'=',dan * hang)\n",
    "        time.sleep(0.2)\n",
    "    print()\n",
    "    time.sleep(1)"
   ]
  },
  {
   "cell_type": "code",
   "execution_count": 220,
   "metadata": {},
   "outputs": [
    {
     "name": "stdout",
     "output_type": "stream",
     "text": [
      "                                  2021\n",
      "\n",
      "      January                   February                   March\n",
      "Mo Tu We Th Fr Sa Su      Mo Tu We Th Fr Sa Su      Mo Tu We Th Fr Sa Su\n",
      "             1  2  3       1  2  3  4  5  6  7       1  2  3  4  5  6  7\n",
      " 4  5  6  7  8  9 10       8  9 10 11 12 13 14       8  9 10 11 12 13 14\n",
      "11 12 13 14 15 16 17      15 16 17 18 19 20 21      15 16 17 18 19 20 21\n",
      "18 19 20 21 22 23 24      22 23 24 25 26 27 28      22 23 24 25 26 27 28\n",
      "25 26 27 28 29 30 31                                29 30 31\n",
      "\n",
      "       April                      May                       June\n",
      "Mo Tu We Th Fr Sa Su      Mo Tu We Th Fr Sa Su      Mo Tu We Th Fr Sa Su\n",
      "          1  2  3  4                      1  2          1  2  3  4  5  6\n",
      " 5  6  7  8  9 10 11       3  4  5  6  7  8  9       7  8  9 10 11 12 13\n",
      "12 13 14 15 16 17 18      10 11 12 13 14 15 16      14 15 16 17 18 19 20\n",
      "19 20 21 22 23 24 25      17 18 19 20 21 22 23      21 22 23 24 25 26 27\n",
      "26 27 28 29 30            24 25 26 27 28 29 30      28 29 30\n",
      "                          31\n",
      "\n",
      "        July                     August                  September\n",
      "Mo Tu We Th Fr Sa Su      Mo Tu We Th Fr Sa Su      Mo Tu We Th Fr Sa Su\n",
      "          1  2  3  4                         1             1  2  3  4  5\n",
      " 5  6  7  8  9 10 11       2  3  4  5  6  7  8       6  7  8  9 10 11 12\n",
      "12 13 14 15 16 17 18       9 10 11 12 13 14 15      13 14 15 16 17 18 19\n",
      "19 20 21 22 23 24 25      16 17 18 19 20 21 22      20 21 22 23 24 25 26\n",
      "26 27 28 29 30 31         23 24 25 26 27 28 29      27 28 29 30\n",
      "                          30 31\n",
      "\n",
      "      October                   November                  December\n",
      "Mo Tu We Th Fr Sa Su      Mo Tu We Th Fr Sa Su      Mo Tu We Th Fr Sa Su\n",
      "             1  2  3       1  2  3  4  5  6  7             1  2  3  4  5\n",
      " 4  5  6  7  8  9 10       8  9 10 11 12 13 14       6  7  8  9 10 11 12\n",
      "11 12 13 14 15 16 17      15 16 17 18 19 20 21      13 14 15 16 17 18 19\n",
      "18 19 20 21 22 23 24      22 23 24 25 26 27 28      20 21 22 23 24 25 26\n",
      "25 26 27 28 29 30 31      29 30                     27 28 29 30 31\n",
      "\n"
     ]
    }
   ],
   "source": [
    "# 달력\n",
    "\n",
    "import calendar\n",
    "\n",
    "print(calendar.calendar(2021))"
   ]
  },
  {
   "cell_type": "code",
   "execution_count": 221,
   "metadata": {},
   "outputs": [
    {
     "name": "stdout",
     "output_type": "stream",
     "text": [
      "    January 2021\n",
      "Mo Tu We Th Fr Sa Su\n",
      "             1  2  3\n",
      " 4  5  6  7  8  9 10\n",
      "11 12 13 14 15 16 17\n",
      "18 19 20 21 22 23 24\n",
      "25 26 27 28 29 30 31\n",
      "\n"
     ]
    }
   ],
   "source": [
    "print(calendar.month(2021,1))"
   ]
  },
  {
   "cell_type": "code",
   "execution_count": 222,
   "metadata": {},
   "outputs": [
    {
     "name": "stdout",
     "output_type": "stream",
     "text": [
      "                                  2021\n",
      "\n",
      "      January                   February                   March\n",
      "Mo Tu We Th Fr Sa Su      Mo Tu We Th Fr Sa Su      Mo Tu We Th Fr Sa Su\n",
      "             1  2  3       1  2  3  4  5  6  7       1  2  3  4  5  6  7\n",
      " 4  5  6  7  8  9 10       8  9 10 11 12 13 14       8  9 10 11 12 13 14\n",
      "11 12 13 14 15 16 17      15 16 17 18 19 20 21      15 16 17 18 19 20 21\n",
      "18 19 20 21 22 23 24      22 23 24 25 26 27 28      22 23 24 25 26 27 28\n",
      "25 26 27 28 29 30 31                                29 30 31\n",
      "\n",
      "       April                      May                       June\n",
      "Mo Tu We Th Fr Sa Su      Mo Tu We Th Fr Sa Su      Mo Tu We Th Fr Sa Su\n",
      "          1  2  3  4                      1  2          1  2  3  4  5  6\n",
      " 5  6  7  8  9 10 11       3  4  5  6  7  8  9       7  8  9 10 11 12 13\n",
      "12 13 14 15 16 17 18      10 11 12 13 14 15 16      14 15 16 17 18 19 20\n",
      "19 20 21 22 23 24 25      17 18 19 20 21 22 23      21 22 23 24 25 26 27\n",
      "26 27 28 29 30            24 25 26 27 28 29 30      28 29 30\n",
      "                          31\n",
      "\n",
      "        July                     August                  September\n",
      "Mo Tu We Th Fr Sa Su      Mo Tu We Th Fr Sa Su      Mo Tu We Th Fr Sa Su\n",
      "          1  2  3  4                         1             1  2  3  4  5\n",
      " 5  6  7  8  9 10 11       2  3  4  5  6  7  8       6  7  8  9 10 11 12\n",
      "12 13 14 15 16 17 18       9 10 11 12 13 14 15      13 14 15 16 17 18 19\n",
      "19 20 21 22 23 24 25      16 17 18 19 20 21 22      20 21 22 23 24 25 26\n",
      "26 27 28 29 30 31         23 24 25 26 27 28 29      27 28 29 30\n",
      "                          30 31\n",
      "\n",
      "      October                   November                  December\n",
      "Mo Tu We Th Fr Sa Su      Mo Tu We Th Fr Sa Su      Mo Tu We Th Fr Sa Su\n",
      "             1  2  3       1  2  3  4  5  6  7             1  2  3  4  5\n",
      " 4  5  6  7  8  9 10       8  9 10 11 12 13 14       6  7  8  9 10 11 12\n",
      "11 12 13 14 15 16 17      15 16 17 18 19 20 21      13 14 15 16 17 18 19\n",
      "18 19 20 21 22 23 24      22 23 24 25 26 27 28      20 21 22 23 24 25 26\n",
      "25 26 27 28 29 30 31      29 30                     27 28 29 30 31\n"
     ]
    }
   ],
   "source": [
    "# print 함수를 사용하지 않고 직접 출력\n",
    "\n",
    "calendar.prcal(2021)"
   ]
  },
  {
   "cell_type": "code",
   "execution_count": 227,
   "metadata": {},
   "outputs": [
    {
     "name": "stdout",
     "output_type": "stream",
     "text": [
      "광복절은 일요일이다.\n"
     ]
    }
   ],
   "source": [
    "# weekday 함수는 특정 날짜가 무슨 요일인지 조사.\n",
    "\n",
    "import calendar\n",
    "\n",
    "yoil = ['월','화','수','목','금','토','일']\n",
    "day = calendar.weekday(2021,8,15)\n",
    "print('광복절은', yoil[day]+'요일이다.')      # 요일이 숫자로 출력되면 요일 리스트에 대입"
   ]
  },
  {
   "cell_type": "code",
   "execution_count": 226,
   "metadata": {},
   "outputs": [
    {
     "name": "stdout",
     "output_type": "stream",
     "text": [
      "광복절은 6요일이다.\n"
     ]
    }
   ],
   "source": [
    "day = calendar.weekday(2021,8,15)\n",
    "print('광복절은', str(day)+'요일이다.')"
   ]
  },
  {
   "cell_type": "markdown",
   "metadata": {},
   "source": [
    "## 12-3. 난수\n",
    "random"
   ]
  },
  {
   "cell_type": "code",
   "execution_count": 228,
   "metadata": {},
   "outputs": [
    {
     "name": "stdout",
     "output_type": "stream",
     "text": [
      "0.2653793675665346\n",
      "0.752639221647839\n",
      "0.7402378245094277\n",
      "0.13113699891386\n",
      "0.7499565076613269\n"
     ]
    }
   ],
   "source": [
    "# random\n",
    "\n",
    "import random\n",
    "\n",
    "for i in range(5):\n",
    "    print(random.random())"
   ]
  },
  {
   "cell_type": "code",
   "execution_count": 230,
   "metadata": {},
   "outputs": [
    {
     "name": "stdout",
     "output_type": "stream",
     "text": [
      "3\n",
      "10\n",
      "2\n",
      "1\n",
      "6\n"
     ]
    }
   ],
   "source": [
    "# randint\n",
    "\n",
    "import random\n",
    "\n",
    "for i in range(5):\n",
    "    print(random.randint(1,10))"
   ]
  },
  {
   "cell_type": "code",
   "execution_count": 232,
   "metadata": {},
   "outputs": [
    {
     "name": "stdout",
     "output_type": "stream",
     "text": [
      "83.03084939149358\n",
      "12.863855662570668\n",
      "71.09095914672855\n",
      "35.55756782068476\n",
      "78.65027461677657\n"
     ]
    }
   ],
   "source": [
    "# uniform - 실수인 난수 생성\n",
    "\n",
    "import random\n",
    "\n",
    "for i in range(5):\n",
    "    print(random.uniform(1,100))"
   ]
  },
  {
   "cell_type": "code",
   "execution_count": 233,
   "metadata": {},
   "outputs": [
    {
     "name": "stdout",
     "output_type": "stream",
     "text": [
      "짬뽕\n"
     ]
    }
   ],
   "source": [
    "# choice - 리스트에서 임의의 요소 하나를 골라 리턴한다\n",
    "\n",
    "import random\n",
    "\n",
    "food=['짜장면','짬뽕','탕수육','군만두']\n",
    "print(random.choice(food))"
   ]
  },
  {
   "cell_type": "code",
   "execution_count": 235,
   "metadata": {},
   "outputs": [
    {
     "name": "stdout",
     "output_type": "stream",
     "text": [
      "['짜장면', '짬뽕', '탕수육', '군만두']\n",
      "['짬뽕', '짜장면', '탕수육', '군만두']\n"
     ]
    }
   ],
   "source": [
    "# shuffle\n",
    "\n",
    "import random\n",
    "\n",
    "food =['짜장면','짬뽕','탕수육','군만두']\n",
    "print(food)\n",
    "random.shuffle(food)\n",
    "print(food)"
   ]
  },
  {
   "cell_type": "code",
   "execution_count": 237,
   "metadata": {},
   "outputs": [
    {
     "name": "stdout",
     "output_type": "stream",
     "text": [
      "None\n"
     ]
    }
   ],
   "source": [
    "print(random.shuffle(food))        # 우선 섞고 -> 출력"
   ]
  },
  {
   "cell_type": "code",
   "execution_count": 238,
   "metadata": {},
   "outputs": [
    {
     "name": "stdout",
     "output_type": "stream",
     "text": [
      "['군만두', '짜장면']\n"
     ]
    }
   ],
   "source": [
    "# sample - n개를 무작위로 뽑기. 중복 X, 추출 후 새 리스트로 반환\n",
    "\n",
    "import random\n",
    "\n",
    "food =['짜장면','짬뽕','탕수육','군만두']\n",
    "print(random.sample(food,2))"
   ]
  },
  {
   "cell_type": "code",
   "execution_count": 239,
   "metadata": {},
   "outputs": [
    {
     "name": "stdout",
     "output_type": "stream",
     "text": [
      "[9, 10, 13, 18, 33, 43]\n"
     ]
    }
   ],
   "source": [
    "# lotto - sample로. BUt 중복된 숫자는 X\n",
    "\n",
    "import random\n",
    "\n",
    "nums = random.sample(range(1,46),6)\n",
    "nums.sort()\n",
    "print(nums)"
   ]
  },
  {
   "cell_type": "code",
   "execution_count": 240,
   "metadata": {},
   "outputs": [
    {
     "name": "stdout",
     "output_type": "stream",
     "text": [
      "7 + 9 =? 16\n",
      "정답입니다\n"
     ]
    }
   ],
   "source": [
    "# 산수문제 내기\n",
    "\n",
    "import random\n",
    "\n",
    "a = random.randint(1,9)\n",
    "b = random.randint(1,9)\n",
    "question = '%d + %d =? ' %(a,b)\n",
    "c = int(input(question))\n",
    "\n",
    "if c == a + b :\n",
    "    print('정답입니다')\n",
    "else:\n",
    "    print('틀렸습니다')"
   ]
  },
  {
   "cell_type": "code",
   "execution_count": 250,
   "metadata": {},
   "outputs": [
    {
     "name": "stdout",
     "output_type": "stream",
     "text": [
      "5 + 1 = ? (끝낼 때는 0) \n",
      "정답을 입력하세요 :6\n",
      "6 + 8 = ? (끝낼 때는 0) \n",
      "정답을 입력하세요 :35\n",
      "틀렸습니다\n",
      "6 + 7 = ? (끝낼 때는 0) \n",
      "정답을 입력하세요 :37\n",
      "틀렸습니다\n",
      "4 + 2 = ? (끝낼 때는 0) \n",
      "정답을 입력하세요 :98\n",
      "틀렸습니다\n",
      "8 + 6 = ? (끝낼 때는 0) \n",
      "정답을 입력하세요 :4\n",
      "틀렸습니다\n",
      "6 + 7 = ? (끝낼 때는 0) \n",
      "정답을 입력하세요 :13\n",
      "6 + 1 = ? (끝낼 때는 0) \n",
      "정답을 입력하세요 :7\n",
      "9 + 7 = ? (끝낼 때는 0) \n",
      "정답을 입력하세요 :0\n",
      "정답을 3번 맞췄습니다\n"
     ]
    }
   ],
   "source": [
    "# 산수문제 내기 2\n",
    "\n",
    "# 문제 : 난수로 1~9 사이의 숫자를 골라 두 숫자의 합을 구하라는 질문을 출력하고 답을 입력받는다.\n",
    "# 게속 반복/ 정답을 몇 번 맞췄는지? 개수 출력/ 끝내고 싶으면 0을 누르시오,라는 표시\n",
    "# 생각할 것 -계속 반복 (while True: -> 초기값, 증가, 탈출 방법) /\n",
    "\n",
    "##### 코드 작성부터 하지 말고!!!  알고리즘부터 먼저 짜보는 습관!!!!\n",
    "\n",
    "import random\n",
    "\n",
    "\n",
    "sum = 0\n",
    "\n",
    "while True:\n",
    "    a = random.randint(1,9)\n",
    "    b = random.randint(1,9)\n",
    "    print(\"%d + %d = ? (끝낼 때는 0) \" %(a , b))\n",
    "    c = int(input('정답을 입력하세요 :'))\n",
    "\n",
    "    if c == 0:\n",
    "        break\n",
    "    if c == a+b:\n",
    "        ('정답입니다')\n",
    "        sum += 1\n",
    "    else:\n",
    "        print('틀렸습니다')\n",
    "print('정답을 %d번 맞췄습니다' % sum)"
   ]
  },
  {
   "cell_type": "code",
   "execution_count": 253,
   "metadata": {},
   "outputs": [
    {
     "name": "stdout",
     "output_type": "stream",
     "text": [
      "5 + 6 = ? (끝낼때는 0)\n",
      "정답을 입력하세요 :11\n",
      "정답입니다\n",
      "2 * 7 = ? (끝낼때는 0)\n",
      "정답을 입력하세요 :74\n",
      "틀렸습니다\n",
      "2 + 5 = ? (끝낼때는 0)\n",
      "정답을 입력하세요 :26\n",
      "틀렸습니다\n",
      "7 * 9 = ? (끝낼때는 0)\n",
      "정답을 입력하세요 :89\n",
      "틀렸습니다\n",
      "6 + 6 = ? (끝낼때는 0)\n",
      "정답을 입력하세요 :12\n",
      "정답입니다\n",
      "6 - 2 = ? (끝낼때는 0)\n",
      "정답을 입력하세요 :0\n",
      "2개 맞췄습니다\n"
     ]
    }
   ],
   "source": [
    "# 산수문제 내기 3 - 연산자까지 랜덤\n",
    "\n",
    "import random\n",
    "\n",
    "count = 0\n",
    "\n",
    "while True:\n",
    "    a = random.randint(1,9)\n",
    "    b = random.randint(1,9)\n",
    "    op = random.randint(1,3)\n",
    "    \n",
    "    if op == 1:\n",
    "        ans = a + b\n",
    "        mark = \"+\"\n",
    "    elif op ==2:\n",
    "        ans = a- b\n",
    "        mark = \"-\"\n",
    "    else:\n",
    "        ans = a * b\n",
    "        mark = \"*\"\n",
    "        \n",
    "    print('%d %s %d = ? (끝낼때는 0)' %(a, mark,b))\n",
    "    c = int(input(\"정답을 입력하세요 :\"))\n",
    "    \n",
    "    if c == 0:\n",
    "        break\n",
    "    if c == ans:\n",
    "        print(\"정답입니다\")\n",
    "        count+=1\n",
    "    else:\n",
    "        print(\"틀렸습니다\")\n",
    "        \n",
    "print(\"%d개 맞췄습니다\" %count)"
   ]
  },
  {
   "cell_type": "code",
   "execution_count": 256,
   "metadata": {},
   "outputs": [
    {
     "name": "stdout",
     "output_type": "stream",
     "text": [
      "숫자를 입력하세요 (끝낼 때 0):55\n",
      "입력한 숫자보다 작습니다\n",
      "숫자를 입력하세요 (끝낼 때 0):33\n",
      "입력한 숫자보다 작습니다\n",
      "숫자를 입력하세요 (끝낼 때 0):22\n",
      "입력한 숫자보다 큽니다\n",
      "숫자를 입력하세요 (끝낼 때 0):28\n",
      "입력한 숫자보다 큽니다\n",
      "숫자를 입력하세요 (끝낼 때 0):31\n",
      "입력한 숫자보다 작습니다\n",
      "숫자를 입력하세요 (끝낼 때 0):29\n",
      "정답입니다\n",
      "6번 만에 맞췄습니다\n"
     ]
    }
   ],
   "source": [
    "# 숫자 맞추기 게임\n",
    "# 컴퓨터가 생성한 1~100 사이의 난수를 사용자가 찍어서 맞추는 놀이\n",
    "\n",
    "import random\n",
    "\n",
    "secret = random.randint(1,100)\n",
    "count = 0\n",
    "\n",
    "while True:\n",
    "    count += 1\n",
    "    num = int(input(\"숫자를 입력하세요 (끝낼 때 0):\"))\n",
    "    if num ==0:\n",
    "        break\n",
    "    if secret == num:\n",
    "        print(\"정답입니다\")\n",
    "        break\n",
    "    elif secret<=num:\n",
    "        print(\"입력한 숫자보다 작습니다\")\n",
    "    else:\n",
    "        print(\"입력한 숫자보다 큽니다\")\n",
    "        \n",
    "print(\"%d번 만에 맞췄습니다\" %count)    "
   ]
  },
  {
   "cell_type": "markdown",
   "metadata": {},
   "source": [
    "## 12-4. sys모듈\n",
    "파이썬 해석기가 실행되는 환경과 해석기의 여러 가지 기능을 조회하고 관리/ 이 모듈의 정보를 통해 시스템에 관련된 정보조사"
   ]
  },
  {
   "cell_type": "code",
   "execution_count": 265,
   "metadata": {},
   "outputs": [
    {
     "name": "stdout",
     "output_type": "stream",
     "text": [
      "버전 : 3.8.5 (default, Sep  3 2020, 21:29:08) [MSC v.1916 64 bit (AMD64)]\n",
      "플랫폼 : win32\n"
     ]
    }
   ],
   "source": [
    "# sys\n",
    "\n",
    "import sys\n",
    "\n",
    "print(\"버전 :\", sys.version)\n",
    "print(\"플랫폼 :\", sys.platform)"
   ]
  },
  {
   "cell_type": "code",
   "execution_count": 267,
   "metadata": {},
   "outputs": [
    {
     "name": "stdout",
     "output_type": "stream",
     "text": [
      "sys.getwindowsversion(major=10, minor=0, build=19042, platform=2, service_pack='')\n"
     ]
    }
   ],
   "source": [
    "import sys\n",
    "\n",
    "if (sys.platform == \"win32\"):\n",
    "    print(sys.getwindowsversion())\n",
    "else:\n",
    "    print(\"window 32가 아닙니다\")"
   ]
  },
  {
   "cell_type": "code",
   "execution_count": 268,
   "metadata": {},
   "outputs": [
    {
     "name": "stdout",
     "output_type": "stream",
     "text": [
      "바이트 순서 : little\n",
      "모듈 경로 : ['C:\\\\Users\\\\SONG\\\\multi_campus\\\\송승은\\\\python', 'C:\\\\Users\\\\SONG\\\\anaconda3\\\\python38.zip', 'C:\\\\Users\\\\SONG\\\\anaconda3\\\\DLLs', 'C:\\\\Users\\\\SONG\\\\anaconda3\\\\lib', 'C:\\\\Users\\\\SONG\\\\anaconda3', '', 'C:\\\\Users\\\\SONG\\\\anaconda3\\\\lib\\\\site-packages', 'C:\\\\Users\\\\SONG\\\\anaconda3\\\\lib\\\\site-packages\\\\win32', 'C:\\\\Users\\\\SONG\\\\anaconda3\\\\lib\\\\site-packages\\\\win32\\\\lib', 'C:\\\\Users\\\\SONG\\\\anaconda3\\\\lib\\\\site-packages\\\\Pythonwin', 'C:\\\\Users\\\\SONG\\\\anaconda3\\\\lib\\\\site-packages\\\\IPython\\\\extensions', 'C:\\\\Users\\\\SONG\\\\.ipython']\n"
     ]
    }
   ],
   "source": [
    "print(\"바이트 순서 :\", sys.byteorder)\n",
    "print(\"모듈 경로 :\", sys.path)\n"
   ]
  },
  {
   "cell_type": "code",
   "execution_count": 269,
   "metadata": {},
   "outputs": [
    {
     "ename": "SystemExit",
     "evalue": "0",
     "output_type": "error",
     "traceback": [
      "An exception has occurred, use %tb to see the full traceback.\n",
      "\u001b[1;31mSystemExit\u001b[0m\u001b[1;31m:\u001b[0m 0\n"
     ]
    }
   ],
   "source": [
    "sys.exit(0)            # 시스템 종료 = 인수로 종료 코드를 지정. 0이면 정상 종료이고 그 외의 값이면 에러에 의한 종료이다"
   ]
  },
  {
   "cell_type": "code",
   "execution_count": 278,
   "metadata": {},
   "outputs": [
    {
     "name": "stdout",
     "output_type": "stream",
     "text": [
      "['C:\\\\Users\\\\SONG\\\\anaconda3\\\\lib\\\\site-packages\\\\ipykernel_launcher.py', '-f', 'C:\\\\Users\\\\SONG\\\\AppData\\\\Roaming\\\\jupyter\\\\runtime\\\\kernel-fbb0f8ce-a30d-40e5-9739-391c67b37750.json']\n"
     ]
    }
   ],
   "source": [
    "# 명령행 인수 - 그냥 실행하면 실행 파일명만 나타나지만 명령행으로 나가 인수를 주면 인수 목록이 출력된다\n",
    "# 명령행 인수의 값을 읽으려면 sys.argv를 읽는다\n",
    "# 명령행 인수가 문자열 리스트로 전달된다\n",
    "\n",
    "import sys\n",
    "print(sys.argv)           # argv[0]- 실행파일의 전체 경로/ argv[1],[2]- 이후의 인수"
   ]
  },
  {
   "cell_type": "code",
   "execution_count": 279,
   "metadata": {},
   "outputs": [
    {
     "ename": "ValueError",
     "evalue": "invalid literal for int() with base 10: '-f'",
     "output_type": "error",
     "traceback": [
      "\u001b[1;31m---------------------------------------------------------------------------\u001b[0m",
      "\u001b[1;31mValueError\u001b[0m                                Traceback (most recent call last)",
      "\u001b[1;32m<ipython-input-279-eabee3019f1f>\u001b[0m in \u001b[0;36m<module>\u001b[1;34m\u001b[0m\n\u001b[0;32m     13\u001b[0m     \u001b[0mprint\u001b[0m\u001b[1;33m(\u001b[0m\u001b[0mcalendar\u001b[0m\u001b[1;33m.\u001b[0m\u001b[0mcalendar\u001b[0m\u001b[1;33m(\u001b[0m\u001b[0mint\u001b[0m\u001b[1;33m(\u001b[0m\u001b[0msys\u001b[0m\u001b[1;33m.\u001b[0m\u001b[0margv\u001b[0m\u001b[1;33m[\u001b[0m\u001b[1;36m1\u001b[0m\u001b[1;33m]\u001b[0m\u001b[1;33m)\u001b[0m\u001b[1;33m)\u001b[0m\u001b[1;33m)\u001b[0m\u001b[1;33m\u001b[0m\u001b[1;33m\u001b[0m\u001b[0m\n\u001b[0;32m     14\u001b[0m \u001b[1;32melif\u001b[0m \u001b[1;33m(\u001b[0m\u001b[0mlen\u001b[0m\u001b[1;33m(\u001b[0m\u001b[0msys\u001b[0m\u001b[1;33m.\u001b[0m\u001b[0margv\u001b[0m\u001b[1;33m)\u001b[0m\u001b[1;33m==\u001b[0m\u001b[1;36m3\u001b[0m\u001b[1;33m)\u001b[0m\u001b[1;33m:\u001b[0m\u001b[1;33m\u001b[0m\u001b[1;33m\u001b[0m\u001b[0m\n\u001b[1;32m---> 15\u001b[1;33m     \u001b[0mcalendar\u001b[0m\u001b[1;33m.\u001b[0m\u001b[0mprmonth\u001b[0m\u001b[1;33m(\u001b[0m\u001b[0mint\u001b[0m\u001b[1;33m(\u001b[0m\u001b[0msys\u001b[0m\u001b[1;33m.\u001b[0m\u001b[0margv\u001b[0m\u001b[1;33m[\u001b[0m\u001b[1;36m1\u001b[0m\u001b[1;33m]\u001b[0m\u001b[1;33m)\u001b[0m\u001b[1;33m,\u001b[0m\u001b[0mint\u001b[0m\u001b[1;33m(\u001b[0m\u001b[0msys\u001b[0m\u001b[1;33m.\u001b[0m\u001b[0margv\u001b[0m\u001b[1;33m[\u001b[0m\u001b[1;36m2\u001b[0m\u001b[1;33m]\u001b[0m\u001b[1;33m)\u001b[0m\u001b[1;33m)\u001b[0m\u001b[1;33m\u001b[0m\u001b[1;33m\u001b[0m\u001b[0m\n\u001b[0m\u001b[0;32m     16\u001b[0m \u001b[1;32melse\u001b[0m\u001b[1;33m:\u001b[0m\u001b[1;33m\u001b[0m\u001b[1;33m\u001b[0m\u001b[0m\n\u001b[0;32m     17\u001b[0m     \u001b[0mprint\u001b[0m\u001b[1;33m(\u001b[0m\u001b[1;34m\"인수는 2개 이하여야 합니다\"\u001b[0m\u001b[1;33m)\u001b[0m\u001b[1;33m\u001b[0m\u001b[1;33m\u001b[0m\u001b[0m\n",
      "\u001b[1;31mValueError\u001b[0m: invalid literal for int() with base 10: '-f'"
     ]
    }
   ],
   "source": [
    "# 명령행 인수 - argcal \n",
    "# 달력을 출력하되 명령행 인수로 년도를 줄 수도 있고 년도와 월을 줄 수도 있다.인수가 없으면 현재 달을 보여주며 인수가 남으면 에러처리\n",
    "\n",
    "import calendar\n",
    "import time\n",
    "import sys\n",
    "\n",
    "if (len(sys.argv) == 1):\n",
    "    t = time.time()\n",
    "    tm = time.localtime(t)\n",
    "    calendar.prmonth(tm.tm_year,tm.tm_mon)\n",
    "elif (len(sys.argv)==2):\n",
    "    print(calendar.calendar(int(sys.argv[1])))\n",
    "elif (len(sys.argv)==3):\n",
    "    calendar.prmonth(int(sys.argv[1]),int(sys.argv[2]))\n",
    "else:\n",
    "    print(\"인수는 2개 이하여야 합니다\")"
   ]
  },
  {
   "cell_type": "code",
   "execution_count": 284,
   "metadata": {
    "scrolled": true
   },
   "outputs": [
    {
     "name": "stdout",
     "output_type": "stream",
     "text": [
      "시작 날짜를 yyyymmdd로 입력하십시오.\n"
     ]
    },
    {
     "ename": "SystemExit",
     "evalue": "0",
     "output_type": "error",
     "traceback": [
      "An exception has occurred, use %tb to see the full traceback.\n",
      "\u001b[1;31mSystemExit\u001b[0m\u001b[1;31m:\u001b[0m 0\n"
     ]
    }
   ],
   "source": [
    "# 경과일 계산\n",
    "\n",
    "import sys\n",
    "import time\n",
    "\n",
    "if (len(sys.argv) !=2):\n",
    "    print(\"시작 날짜를 yyyymmdd로 입력하십시오.\")\n",
    "    sys.exit(0)\n",
    "    \n",
    "birth = sys.argv[1]\n",
    "if (len(birth) != 8 or birth.isnumeric() == False):\n",
    "    print(\"날짜 형식이 잘못되었습니다\")\n",
    "    sys.exit(0)\n",
    "    \n",
    "tm = (int(birth[:4]), int(birth[4:6]), int(birth[6:8]), 0, 0, 0, 0, 0, 0,)\n",
    "ellapse = int((time.time() - time.mktime(tm))/(24*60*60))\n",
    "print(ellapse)"
   ]
  },
  {
   "cell_type": "code",
   "execution_count": 288,
   "metadata": {},
   "outputs": [
    {
     "name": "stdout",
     "output_type": "stream",
     "text": [
      "태어난 년도를 입력하세요(4자리) :2000\n",
      "태어난 월을 입력하세요 :1\n",
      "태어난 일을 입력하세요 1\n",
      "7687\n"
     ]
    }
   ],
   "source": [
    "import sys\n",
    "import time\n",
    "\n",
    "year = int(input(\"태어난 년도를 입력하세요(4자리) :\"))\n",
    "month = int(input(\"태어난 월을 입력하세요 :\"))\n",
    "day = int(input(\"태어난 일을 입력하세요 \"))\n",
    "\n",
    "tm = (year, month, day, 0, 0, 0, 0, 0, 0,)\n",
    "ellapse = int((time.time()-time.mktime(tm))/(24*60*60))\n",
    "print(ellapse)"
   ]
  },
  {
   "cell_type": "markdown",
   "metadata": {},
   "source": [
    "---\n",
    "Q. 문제 : 밑면이 8이고 높이가 5인 직각삼각형의 빗변 길이를 구하라"
   ]
  },
  {
   "cell_type": "code",
   "execution_count": 289,
   "metadata": {},
   "outputs": [
    {
     "name": "stdout",
     "output_type": "stream",
     "text": [
      "9.433981132056603\n"
     ]
    }
   ],
   "source": [
    "# hypot 함수\n",
    "\n",
    "import math\n",
    "\n",
    "print(math.hypot(8,5))"
   ]
  },
  {
   "cell_type": "markdown",
   "metadata": {},
   "source": [
    "---\n",
    "Q. 문제 : 1994년 5월 5일에 태어난 사람이 현재 며칠째 살고 있는지 계산하는 프로그램을 작성하라"
   ]
  },
  {
   "cell_type": "code",
   "execution_count": 293,
   "metadata": {},
   "outputs": [
    {
     "name": "stdout",
     "output_type": "stream",
     "text": [
      "태어난 년도를 입력하세요(4자리) :1984\n",
      "태어난 월을 입력하세요 :1\n",
      "태어난 일을 입력하세요 :9\n",
      "13523.751863425927\n"
     ]
    }
   ],
   "source": [
    "import sys\n",
    "import time\n",
    "\n",
    "year = int(input(\"태어난 년도를 입력하세요(4자리) :\"))\n",
    "month = int(input(\"태어난 월을 입력하세요 :\"))\n",
    "day = int(input(\"태어난 일을 입력하세요 :\"))\n",
    "\n",
    "tm = (year, month, day, 0, 0, 0, 0, 0, 0)\n",
    "ellapse = int((time.time()-time.mktime(tm))) /(24*60*60)  # (현재시간) - (tm 변수를 인수로 하는 struct_time 매개 변수를 가지는 시간)\n",
    "print(ellapse)"
   ]
  },
  {
   "cell_type": "markdown",
   "metadata": {},
   "source": [
    "---\n",
    "Q. 문제 : 1에서 20사이의 난수 10개를 뽑아 출력하라. 끝수인 20도 포함한다"
   ]
  },
  {
   "cell_type": "code",
   "execution_count": 2,
   "metadata": {},
   "outputs": [
    {
     "name": "stdout",
     "output_type": "stream",
     "text": [
      "18\n",
      "5\n",
      "5\n",
      "13\n",
      "4\n",
      "12\n",
      "13\n",
      "18\n",
      "3\n",
      "5\n"
     ]
    }
   ],
   "source": [
    "import random\n",
    "\n",
    "for i in range(10):\n",
    "    print(random.randint(1,20))"
   ]
  },
  {
   "cell_type": "markdown",
   "metadata": {},
   "source": [
    "# 13장. 예외처리\n",
    "try, except"
   ]
  },
  {
   "cell_type": "code",
   "execution_count": null,
   "metadata": {},
   "outputs": [],
   "source": [
    "try:\n",
    "    실행할 명령\n",
    "except 예외 as 변수:\n",
    "    오류 처리문\n",
    "else:\n",
    "    예외가 발생하지 않을 때의 처리"
   ]
  },
  {
   "cell_type": "code",
   "execution_count": 4,
   "metadata": {},
   "outputs": [
    {
     "ename": "ValueError",
     "evalue": "invalid literal for int() with base 10: '89점'",
     "output_type": "error",
     "traceback": [
      "\u001b[1;31m---------------------------------------------------------------------------\u001b[0m",
      "\u001b[1;31mValueError\u001b[0m                                Traceback (most recent call last)",
      "\u001b[1;32m<ipython-input-4-eace77a87bc1>\u001b[0m in \u001b[0;36m<module>\u001b[1;34m\u001b[0m\n\u001b[0;32m      1\u001b[0m \u001b[0mstr\u001b[0m \u001b[1;33m=\u001b[0m \u001b[1;34m\"89점\"\u001b[0m\u001b[1;33m\u001b[0m\u001b[1;33m\u001b[0m\u001b[0m\n\u001b[1;32m----> 2\u001b[1;33m \u001b[0mscore\u001b[0m \u001b[1;33m=\u001b[0m \u001b[0mint\u001b[0m\u001b[1;33m(\u001b[0m\u001b[0mstr\u001b[0m\u001b[1;33m)\u001b[0m\u001b[1;33m\u001b[0m\u001b[1;33m\u001b[0m\u001b[0m\n\u001b[0m\u001b[0;32m      3\u001b[0m \u001b[0mprint\u001b[0m\u001b[1;33m(\u001b[0m\u001b[0mscore\u001b[0m\u001b[1;33m)\u001b[0m\u001b[1;33m\u001b[0m\u001b[1;33m\u001b[0m\u001b[0m\n\u001b[0;32m      4\u001b[0m \u001b[0mprint\u001b[0m\u001b[1;33m(\u001b[0m\u001b[1;34m\"작업완료\"\u001b[0m\u001b[1;33m)\u001b[0m\u001b[1;33m\u001b[0m\u001b[1;33m\u001b[0m\u001b[0m\n\u001b[0;32m      5\u001b[0m \u001b[1;33m\u001b[0m\u001b[0m\n",
      "\u001b[1;31mValueError\u001b[0m: invalid literal for int() with base 10: '89점'"
     ]
    }
   ],
   "source": [
    "str = \"89점\"\n",
    "score = int(str)\n",
    "print(score)\n",
    "print(\"작업완료\")\n",
    "\n",
    "# '점' 은 int가 될 수 없으니"
   ]
  },
  {
   "cell_type": "code",
   "execution_count": 5,
   "metadata": {},
   "outputs": [
    {
     "name": "stdout",
     "output_type": "stream",
     "text": [
      "예외가 발생했습니다\n",
      "작업완료\n"
     ]
    }
   ],
   "source": [
    "# 예외처리\n",
    "\n",
    "str = '89점'\n",
    "try:\n",
    "    score = int(str)\n",
    "    print(score)\n",
    "except:\n",
    "    print('예외가 발생했습니다')\n",
    "print('작업완료')"
   ]
  },
  {
   "cell_type": "code",
   "execution_count": 8,
   "metadata": {},
   "outputs": [
    {
     "name": "stdout",
     "output_type": "stream",
     "text": [
      "점수를 입력하세요 :만점\n",
      "점수 형식이 잘못되었습니다: \n",
      "점수를 입력하세요 :100\n",
      "입력한 점수 : 100\n",
      "작업완료\n"
     ]
    }
   ],
   "source": [
    "# 예외 처리 구문을 루프로 감싸면 무엇을 잘못되었는지  알려줌\n",
    "# 전체를 무한 루프로 감싸 예외 발생 시 다시 루프 선두로 돌아감\n",
    "\n",
    "while True:\n",
    "    str = input(\"점수를 입력하세요 :\")\n",
    "    try:\n",
    "        score = int(str)\n",
    "        print(\"입력한 점수 :\", score)\n",
    "        break\n",
    "    except:\n",
    "        print(\"점수 형식이 잘못되었습니다: \")\n",
    "print(\"작업완료\")"
   ]
  },
  {
   "cell_type": "markdown",
   "metadata": {},
   "source": [
    "### 예외의 종류 \n",
    "valueError, raise"
   ]
  },
  {
   "cell_type": "code",
   "execution_count": 10,
   "metadata": {},
   "outputs": [
    {
     "name": "stdout",
     "output_type": "stream",
     "text": [
      "89\n",
      "첨자 범위를 벗어났습니다\n",
      "작업완료\n"
     ]
    }
   ],
   "source": [
    "#  ValueError - 타입은 맞지만 값의 형식이 잘못되었다.\n",
    "# IndexError - 첨자가 범위를 벗어났다\n",
    "\n",
    "str = \"89\"\n",
    "try:\n",
    "    score = int(str)\n",
    "    print(score)\n",
    "    a = str[5]\n",
    "except ValueError:                          # str을 89로 초기화했으므로 정수 변환은 이상없음\n",
    "    print(\"점수의 형식이 잘못되었습니다\")\n",
    "except IndexError:                          # str[5] - \n",
    "    print(\"첨자 범위를 벗어났습니다\")\n",
    "print(\"작업완료\")"
   ]
  },
  {
   "cell_type": "code",
   "execution_count": 11,
   "metadata": {},
   "outputs": [
    {
     "name": "stdout",
     "output_type": "stream",
     "text": [
      "invalid literal for int() with base 10: '89점'\n",
      "작업완료\n"
     ]
    }
   ],
   "source": [
    "str = '89점'\n",
    "try:\n",
    "    score = int(str)\n",
    "    print(score)\n",
    "    a = str[5]\n",
    "except ValueError as e:      # as 키워드로 예외 객체를 변수로 받으면 이 객체를 통해 에러 메시지를 얻을 수 있다.\n",
    "    print(e)\n",
    "except IndexError as e:\n",
    "    print(e)\n",
    "print(\"작업완료\")"
   ]
  },
  {
   "cell_type": "code",
   "execution_count": 12,
   "metadata": {},
   "outputs": [
    {
     "name": "stdout",
     "output_type": "stream",
     "text": [
      "~ 10 = 55\n",
      "입력값이 잘못되었습니다\n"
     ]
    }
   ],
   "source": [
    "# raise - 고의적으로 예외를 발생시킨다.\n",
    "\n",
    "def calcsum(n):\n",
    "    if n < 0 :\n",
    "        raise ValueError\n",
    "    sum = 0\n",
    "    for i in range(n+1):\n",
    "        sum += i\n",
    "    return sum\n",
    "\n",
    "try:\n",
    "    print(\"~ 10 =\", calcsum(10))\n",
    "    print(\"~ -5 =\", calcsum(-5))\n",
    "except ValueError:\n",
    "    print(\"입력값이 잘못되었습니다\")"
   ]
  },
  {
   "cell_type": "code",
   "execution_count": 13,
   "metadata": {},
   "outputs": [
    {
     "name": "stdout",
     "output_type": "stream",
     "text": [
      "~10 = 55\n",
      "입력값이 잘못되었습니다\n"
     ]
    }
   ],
   "source": [
    "def calcsum(n):\n",
    "    if n < 0 :\n",
    "        return -1\n",
    "    sum = 0\n",
    "    for i in range(n+1):\n",
    "        sum += i\n",
    "    return sum\n",
    "\n",
    "result = calcsum(10)\n",
    "if result == -1:\n",
    "    print(\"입력값이 잘못되었습니다\")\n",
    "else:\n",
    "    print(\"~10 =\", result)\n",
    "    \n",
    "result = calcsum(-5)\n",
    "if result == -1:\n",
    "    print(\"입력값이 잘못되었습니다\")\n",
    "else:\n",
    "    print(\"~ 10 =\", result)"
   ]
  },
  {
   "cell_type": "code",
   "execution_count": 14,
   "metadata": {},
   "outputs": [
    {
     "name": "stdout",
     "output_type": "stream",
     "text": [
      "찾는 단어가 없습니다\n",
      "찾는 단어가 없습니다\n"
     ]
    }
   ],
   "source": [
    "dic = {'boy':'소년','school':'학교','book':'책'}\n",
    "try:\n",
    "    print(dic['girl'])\n",
    "except:\n",
    "    print('찾는 단어가 없습니다')\n",
    "    \n",
    "han = dic.get('girl')\n",
    "if han == None :\n",
    "    print(\"찾는 단어가 없습니다\")\n",
    "else:\n",
    "    print(han)"
   ]
  },
  {
   "cell_type": "markdown",
   "metadata": {},
   "source": [
    "### 자원정리\n",
    "finally - 예외 발생 여부와 상관없이 반드시 실행해야 할 명령을 지정\n",
    "\n",
    "assert - 현재 상태가 맞는지 확인. 점검할 조건, 조건이 거짓일 때 보여줄 메시지를 지정"
   ]
  },
  {
   "cell_type": "code",
   "execution_count": 17,
   "metadata": {},
   "outputs": [
    {
     "name": "stdout",
     "output_type": "stream",
     "text": [
      "네트워크 접속\n",
      "접속 해제\n"
     ]
    },
    {
     "ename": "ZeroDivisionError",
     "evalue": "division by zero",
     "output_type": "error",
     "traceback": [
      "\u001b[1;31m---------------------------------------------------------------------------\u001b[0m",
      "\u001b[1;31mZeroDivisionError\u001b[0m                         Traceback (most recent call last)",
      "\u001b[1;32m<ipython-input-17-fa962bcdfbb1>\u001b[0m in \u001b[0;36m<module>\u001b[1;34m\u001b[0m\n\u001b[0;32m      3\u001b[0m \u001b[1;32mtry\u001b[0m\u001b[1;33m:\u001b[0m\u001b[1;33m\u001b[0m\u001b[1;33m\u001b[0m\u001b[0m\n\u001b[0;32m      4\u001b[0m     \u001b[0mprint\u001b[0m\u001b[1;33m(\u001b[0m\u001b[1;34m\"네트워크 접속\"\u001b[0m\u001b[1;33m)\u001b[0m\u001b[1;33m\u001b[0m\u001b[1;33m\u001b[0m\u001b[0m\n\u001b[1;32m----> 5\u001b[1;33m     \u001b[0ma\u001b[0m \u001b[1;33m=\u001b[0m \u001b[1;36m2\u001b[0m\u001b[1;33m/\u001b[0m \u001b[1;36m0\u001b[0m\u001b[1;33m\u001b[0m\u001b[1;33m\u001b[0m\u001b[0m\n\u001b[0m\u001b[0;32m      6\u001b[0m     \u001b[0mprint\u001b[0m\u001b[1;33m(\u001b[0m\u001b[1;34m\"네트워크 통신 수행\"\u001b[0m\u001b[1;33m)\u001b[0m\u001b[1;33m\u001b[0m\u001b[1;33m\u001b[0m\u001b[0m\n\u001b[0;32m      7\u001b[0m \u001b[1;32mfinally\u001b[0m\u001b[1;33m:\u001b[0m                           \u001b[1;31m# 통신 수행 중에 예외가 발생해서 해제하지 못하면 finally블록에 해제 구문을 작성해두고 연결 끊어짐을 보장\u001b[0m\u001b[1;33m\u001b[0m\u001b[1;33m\u001b[0m\u001b[0m\n",
      "\u001b[1;31mZeroDivisionError\u001b[0m: division by zero"
     ]
    }
   ],
   "source": [
    "# finally\n",
    "\n",
    "try:\n",
    "    print(\"네트워크 접속\")\n",
    "    a = 2/ 0\n",
    "    print(\"네트워크 통신 수행\")\n",
    "finally:                           # 통신 수행 중에 예외가 발생해서 해제하지 못하면 finally블록에 해제 구문을 작성해두고 연결 끊어짐을 보장\n",
    "    print(\"접속 해제\")\n",
    "print(\"작업 완료\")"
   ]
  },
  {
   "cell_type": "code",
   "execution_count": 18,
   "metadata": {},
   "outputs": [
    {
     "ename": "AssertionError",
     "evalue": "점수는 100 이하여야 합니다",
     "output_type": "error",
     "traceback": [
      "\u001b[1;31m---------------------------------------------------------------------------\u001b[0m",
      "\u001b[1;31mAssertionError\u001b[0m                            Traceback (most recent call last)",
      "\u001b[1;32m<ipython-input-18-584a51871f3d>\u001b[0m in \u001b[0;36m<module>\u001b[1;34m\u001b[0m\n\u001b[0;32m      2\u001b[0m \u001b[1;33m\u001b[0m\u001b[0m\n\u001b[0;32m      3\u001b[0m \u001b[0mscore\u001b[0m \u001b[1;33m=\u001b[0m \u001b[1;36m128\u001b[0m\u001b[1;33m\u001b[0m\u001b[1;33m\u001b[0m\u001b[0m\n\u001b[1;32m----> 4\u001b[1;33m \u001b[1;32massert\u001b[0m \u001b[0mscore\u001b[0m \u001b[1;33m<=\u001b[0m \u001b[1;36m100\u001b[0m\u001b[1;33m,\u001b[0m \u001b[1;34m\"점수는 100 이하여야 합니다\"\u001b[0m\u001b[1;33m\u001b[0m\u001b[1;33m\u001b[0m\u001b[0m\n\u001b[0m\u001b[0;32m      5\u001b[0m \u001b[0mprint\u001b[0m\u001b[1;33m(\u001b[0m\u001b[0mscore\u001b[0m\u001b[1;33m)\u001b[0m\u001b[1;33m\u001b[0m\u001b[1;33m\u001b[0m\u001b[0m\n",
      "\u001b[1;31mAssertionError\u001b[0m: 점수는 100 이하여야 합니다"
     ]
    }
   ],
   "source": [
    "# assert 조건, 메시지\n",
    "\n",
    "score = 128\n",
    "assert score <= 100, \"점수는 100 이하여야 합니다\"\n",
    "print(score)"
   ]
  },
  {
   "cell_type": "markdown",
   "metadata": {},
   "source": [
    "---\n",
    "Q. 문제 : 두 개의 정수를 입력받아 나눈 결과를 출력하되 0으로 나누기 예외를 처리하라"
   ]
  },
  {
   "cell_type": "code",
   "execution_count": 19,
   "metadata": {},
   "outputs": [
    {
     "name": "stdout",
     "output_type": "stream",
     "text": [
      "첫 번째 수를 입력하세요 : 74\n",
      "두 번째 수를 입력하세요 : 28\n",
      "결과 : 2.642857142857143\n"
     ]
    }
   ],
   "source": [
    "num1 = int(input(\"첫 번째 수를 입력하세요 : \"))\n",
    "num2 = int(input(\"두 번째 수를 입력하세요 : \"))\n",
    "\n",
    "try:\n",
    "    result = num1 / num2\n",
    "    print(\"결과 :\", result)\n",
    "except ZeroDivisionError:\n",
    "    print(\"0으로 나눌 수 없습니다\")"
   ]
  },
  {
   "cell_type": "markdown",
   "metadata": {},
   "source": [
    "# 14장. 파일\n",
    "## 파일 입출력, 파일 관리, 데이터베이스"
   ]
  },
  {
   "cell_type": "markdown",
   "metadata": {},
   "source": [
    "## 14-2 파일 입출력\n",
    "파일쓰기"
   ]
  },
  {
   "cell_type": "code",
   "execution_count": 1,
   "metadata": {},
   "outputs": [],
   "source": [
    "# 파일 쓰기\n",
    "\n",
    "f = open(\"live.txt\",\"wt\")\n",
    "f.write(\"\"\"삶이 그대를 속일지라도\n",
    "슬퍼하거나 노하지 말라!\n",
    "우울한 날들을 견디면\n",
    "믿으라, 기쁨의 날이 오리니\"\"\")\n",
    "f.close()"
   ]
  },
  {
   "cell_type": "code",
   "execution_count": 1,
   "metadata": {},
   "outputs": [
    {
     "name": "stdout",
     "output_type": "stream",
     "text": [
      "삶이 그대를 속일지라도\n",
      "슬퍼하거나 노하지 말라!\n",
      "우울한 날들을 견디면\n",
      "믿으라, 기쁨의 날이 오리니\n"
     ]
    }
   ],
   "source": [
    "# 파일 읽기\n",
    "\n",
    "try:\n",
    "    f = open(\"live.txt\",\"rt\")      # 파일을 열고\n",
    "    text = f.read()                # read함수로 읽어 text변수에 대입한다\n",
    "    print(text)\n",
    "except FileNotFoundError:\n",
    "    print('파일이 없습니다')\n",
    "finally:\n",
    "    f.close()"
   ]
  },
  {
   "cell_type": "code",
   "execution_count": 2,
   "metadata": {},
   "outputs": [
    {
     "name": "stdout",
     "output_type": "stream",
     "text": [
      "파일이 없습니다\n"
     ]
    }
   ],
   "source": [
    "try:\n",
    "    f = open(\"live5.txt\",\"rt\")\n",
    "    text = f.read()\n",
    "    print(text)\n",
    "except:\n",
    "    print('파일이 없습니다')\n",
    "finally:\n",
    "    f.close()"
   ]
  },
  {
   "cell_type": "code",
   "execution_count": 5,
   "metadata": {},
   "outputs": [
    {
     "name": "stdout",
     "output_type": "stream",
     "text": [
      "삶이 그대를 속일지라도\n",
      "슬퍼하거나 노하지 말라!\n",
      "우울한 날들을 견디면\n",
      "믿으라, 기쁨의 날이 오리니"
     ]
    }
   ],
   "source": [
    "# while 구문으로 파일 읽기\n",
    "\n",
    "f = open(\"live.txt\",\"rt\")\n",
    "while True:\n",
    "    text = f.read(10)     # read 함수로 10문자씩 읽는다\n",
    "    if len(text) == 0: break\n",
    "    print(text, end='')   #  각 줄 끝에 개행 문자가 포함. 따로 개행 문자를 출력X\n",
    "f.close()"
   ]
  },
  {
   "cell_type": "code",
   "execution_count": 7,
   "metadata": {},
   "outputs": [
    {
     "name": "stdout",
     "output_type": "stream",
     "text": [
      "1:삶이 그대를 속일지라도\n",
      "2:슬퍼하거나 노하지 말라!\n",
      "3:우울한 날들을 견디면\n",
      "4:믿으라, 기쁨의 날이 오리니\n"
     ]
    }
   ],
   "source": [
    "# readline - 한줄씩 = '\\n'개행문자를 통해 줄(문장)을 인식\n",
    "\n",
    "f = open(\"live.txt\",'rt')\n",
    "text=''\n",
    "line = 1\n",
    "while True:\n",
    "    row = f.readline()\n",
    "    if not row: break\n",
    "    text += str(line) + ':'+row\n",
    "    line+=1\n",
    "f.close()\n",
    "print(text)"
   ]
  },
  {
   "cell_type": "code",
   "execution_count": 12,
   "metadata": {},
   "outputs": [
    {
     "name": "stdout",
     "output_type": "stream",
     "text": [
      "1:삶이 그대를 속일지라도\n",
      "\n",
      "2:슬퍼하거나 노하지 말라!\n",
      "\n",
      "3:우울한 날들을 견디면\n",
      "\n",
      "4:믿으라, 기쁨의 날이 오리니\n"
     ]
    }
   ],
   "source": [
    "f = open(\"live.txt\",'rt')\n",
    "line =1\n",
    "while True:\n",
    "    row = f.readline()\n",
    "    if not row: break\n",
    "    print(str(line)+':'+row)\n",
    "    line +=1\n",
    "f.close()"
   ]
  },
  {
   "cell_type": "code",
   "execution_count": 9,
   "metadata": {},
   "outputs": [
    {
     "name": "stdout",
     "output_type": "stream",
     "text": [
      "삶이 그대를 속일지라도\n",
      "\n",
      "슬퍼하거나 노하지 말라!\n",
      "\n",
      "우울한 날들을 견디면\n",
      "\n",
      "믿으라, 기쁨의 날이 오리니\n"
     ]
    }
   ],
   "source": [
    "# readlines\n",
    "\n",
    "f = open(\"live.txt\",'rt')\n",
    "rows = f.readlines()\n",
    "for row in rows:\n",
    "    print(row)\n",
    "f.close()"
   ]
  },
  {
   "cell_type": "code",
   "execution_count": 13,
   "metadata": {},
   "outputs": [
    {
     "name": "stdout",
     "output_type": "stream",
     "text": [
      "삶이 그대를 속일지라도\n",
      "\n",
      "슬퍼하거나 노하지 말라!\n",
      "\n",
      "우울한 날들을 견디면\n",
      "\n",
      "믿으라, 기쁨의 날이 오리니\n"
     ]
    }
   ],
   "source": [
    "f = open(\"live.txt\",'rt')\n",
    "for line in f:\n",
    "    print(line)\n",
    "f.close()"
   ]
  },
  {
   "cell_type": "code",
   "execution_count": null,
   "metadata": {},
   "outputs": [],
   "source": [
    "\n"
   ]
  },
  {
   "cell_type": "code",
   "execution_count": null,
   "metadata": {},
   "outputs": [],
   "source": []
  },
  {
   "cell_type": "code",
   "execution_count": null,
   "metadata": {},
   "outputs": [],
   "source": []
  },
  {
   "cell_type": "code",
   "execution_count": null,
   "metadata": {},
   "outputs": [],
   "source": []
  },
  {
   "cell_type": "code",
   "execution_count": null,
   "metadata": {},
   "outputs": [],
   "source": []
  },
  {
   "cell_type": "markdown",
   "metadata": {},
   "source": [
    "# 15장. 클래스"
   ]
  },
  {
   "cell_type": "code",
   "execution_count": 2,
   "metadata": {},
   "outputs": [
    {
     "name": "stdout",
     "output_type": "stream",
     "text": [
      "잔액은 9000원입니다\n"
     ]
    }
   ],
   "source": [
    "# class X,  함수사용 O\n",
    "\n",
    "balance = 8000\n",
    "\n",
    "def deposit(money):\n",
    "    global balance\n",
    "    balance += money\n",
    "    \n",
    "def inquire():\n",
    "    print(\"잔액은 %d원입니다\" % balance)\n",
    "    \n",
    "deposit(1000)\n",
    "inquire()"
   ]
  },
  {
   "cell_type": "code",
   "execution_count": 8,
   "metadata": {},
   "outputs": [],
   "source": [
    "# 클래스 생성     # Account라는 class로 템플릿을 만드는 것\n",
    "\n",
    "class Account:                           \n",
    "    def __init__(self, balance):              # 변수 = balance, money/ 함수 = deposit\n",
    "        self.balance = balance\n",
    "    def deposit(self,money):\n",
    "        self.balance += money\n",
    "    def inquire(self):\n",
    "        print(\"잔액은 %d원입니다\" %self.balance)"
   ]
  },
  {
   "cell_type": "code",
   "execution_count": null,
   "metadata": {},
   "outputs": [],
   "source": [
    "# Account class를 사용한 sinhan 객체 생성\n",
    "\n",
    "sinhan = Account(8000)                    \n",
    "sinhan.deposit(1000)                      \n",
    "sinhan.inquire()"
   ]
  },
  {
   "cell_type": "code",
   "execution_count": 6,
   "metadata": {},
   "outputs": [
    {
     "name": "stdout",
     "output_type": "stream",
     "text": [
      "잔액은 1200000원입니다\n"
     ]
    }
   ],
   "source": [
    "nonghyup = Account(1200000)               # 1(200000)초기값인자를 넣어 농협이라는 객체를 만듦\n",
    "nonghyup.inquire()"
   ]
  },
  {
   "cell_type": "code",
   "execution_count": 12,
   "metadata": {},
   "outputs": [
    {
     "name": "stdout",
     "output_type": "stream",
     "text": [
      "1200000\n"
     ]
    }
   ],
   "source": [
    "print(nonghyup.balance)         # . tab에 있는 것들 전부 사용 가능함!!"
   ]
  },
  {
   "cell_type": "code",
   "execution_count": null,
   "metadata": {},
   "outputs": [],
   "source": [
    "nonghyup.deposit(200000)\n",
    "nonghyup.inquire()"
   ]
  },
  {
   "cell_type": "code",
   "execution_count": null,
   "metadata": {},
   "outputs": [],
   "source": [
    "nonghyup.balance = 0"
   ]
  },
  {
   "cell_type": "code",
   "execution_count": null,
   "metadata": {},
   "outputs": [],
   "source": [
    "nonghyup.inquire()"
   ]
  },
  {
   "cell_type": "code",
   "execution_count": null,
   "metadata": {},
   "outputs": [],
   "source": [
    "__init__ 생성자 만들때\n",
    "\n",
    "객체가 생성될 때 컴퓨터가 임의로(객체1)= FFinitAA\n",
    "다른 객체를 만들면 임의의 (객체2)= BBinitSS\n",
    "\n",
    "\n",
    "ex, 홍길동 => 길동이라는 이름의 성을 다 찾겠다 한다면\n",
    "    _길동   # 언더바(_)의 역할"
   ]
  },
  {
   "cell_type": "code",
   "execution_count": null,
   "metadata": {},
   "outputs": [],
   "source": []
  },
  {
   "cell_type": "code",
   "execution_count": null,
   "metadata": {},
   "outputs": [],
   "source": []
  },
  {
   "cell_type": "code",
   "execution_count": null,
   "metadata": {},
   "outputs": [],
   "source": []
  }
 ],
 "metadata": {
  "kernelspec": {
   "display_name": "Python 3",
   "language": "python",
   "name": "python3"
  },
  "language_info": {
   "codemirror_mode": {
    "name": "ipython",
    "version": 3
   },
   "file_extension": ".py",
   "mimetype": "text/x-python",
   "name": "python",
   "nbconvert_exporter": "python",
   "pygments_lexer": "ipython3",
   "version": "3.8.5"
  }
 },
 "nbformat": 4,
 "nbformat_minor": 4
}
