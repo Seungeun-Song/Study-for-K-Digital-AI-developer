{
  "nbformat": 4,
  "nbformat_minor": 0,
  "metadata": {
    "colab": {
      "name": "21_03_01_seoul_CCTV_MV.ipynb",
      "provenance": [],
      "collapsed_sections": []
    },
    "kernelspec": {
      "name": "python3",
      "display_name": "Python 3"
    }
  },
  "cells": [
    {
      "cell_type": "code",
      "metadata": {
        "colab": {
          "base_uri": "https://localhost:8080/"
        },
        "id": "1vsxPNUgnM3h",
        "outputId": "93d756bf-51b1-4d76-c966-ebbec9c09cac"
      },
      "source": [
        "!apt-get update\r\n",
        "!apt-get install -y fonts-nanum\r\n",
        "!fc-cache -fv\r\n",
        "!rm ~/.cache/matplotlib -rf"
      ],
      "execution_count": 1,
      "outputs": [
        {
          "output_type": "stream",
          "text": [
            "\r0% [Working]\r            \rGet:1 https://cloud.r-project.org/bin/linux/ubuntu bionic-cran40/ InRelease [3,626 B]\n",
            "\r0% [Connecting to archive.ubuntu.com (91.189.88.142)] [Connecting to security.u\r0% [Connecting to archive.ubuntu.com (91.189.88.142)] [Connecting to security.u\r0% [1 InRelease gpgv 3,626 B] [Connecting to archive.ubuntu.com (91.189.88.142)\r                                                                               \rIgn:2 https://developer.download.nvidia.com/compute/cuda/repos/ubuntu1804/x86_64  InRelease\n",
            "\r0% [1 InRelease gpgv 3,626 B] [Connecting to archive.ubuntu.com (91.189.88.142)\r                                                                               \rIgn:3 https://developer.download.nvidia.com/compute/machine-learning/repos/ubuntu1804/x86_64  InRelease\n",
            "\r0% [1 InRelease gpgv 3,626 B] [Connecting to archive.ubuntu.com (91.189.88.142)\r                                                                               \rHit:4 https://developer.download.nvidia.com/compute/cuda/repos/ubuntu1804/x86_64  Release\n",
            "\r0% [1 InRelease gpgv 3,626 B] [Connecting to archive.ubuntu.com (91.189.88.142)\r                                                                               \rGet:5 http://security.ubuntu.com/ubuntu bionic-security InRelease [88.7 kB]\n",
            "Hit:6 https://developer.download.nvidia.com/compute/machine-learning/repos/ubuntu1804/x86_64  Release\n",
            "Hit:7 http://archive.ubuntu.com/ubuntu bionic InRelease\n",
            "Get:8 http://ppa.launchpad.net/c2d4u.team/c2d4u4.0+/ubuntu bionic InRelease [15.9 kB]\n",
            "Get:9 http://archive.ubuntu.com/ubuntu bionic-updates InRelease [88.7 kB]\n",
            "Hit:11 http://ppa.launchpad.net/cran/libgit2/ubuntu bionic InRelease\n",
            "Get:13 http://archive.ubuntu.com/ubuntu bionic-backports InRelease [74.6 kB]\n",
            "Hit:14 http://ppa.launchpad.net/deadsnakes/ppa/ubuntu bionic InRelease\n",
            "Hit:15 http://ppa.launchpad.net/graphics-drivers/ppa/ubuntu bionic InRelease\n",
            "Get:16 http://security.ubuntu.com/ubuntu bionic-security/universe amd64 Packages [1,392 kB]\n",
            "Get:17 http://security.ubuntu.com/ubuntu bionic-security/main amd64 Packages [1,963 kB]\n",
            "Get:18 http://ppa.launchpad.net/c2d4u.team/c2d4u4.0+/ubuntu bionic/main Sources [1,739 kB]\n",
            "Get:19 http://archive.ubuntu.com/ubuntu bionic-updates/main amd64 Packages [2,394 kB]\n",
            "Get:20 http://ppa.launchpad.net/c2d4u.team/c2d4u4.0+/ubuntu bionic/main amd64 Packages [889 kB]\n",
            "Get:21 http://archive.ubuntu.com/ubuntu bionic-updates/universe amd64 Packages [2,163 kB]\n",
            "Fetched 10.8 MB in 4s (2,776 kB/s)\n",
            "Reading package lists... Done\n",
            "Reading package lists... Done\n",
            "Building dependency tree       \n",
            "Reading state information... Done\n",
            "The following NEW packages will be installed:\n",
            "  fonts-nanum\n",
            "0 upgraded, 1 newly installed, 0 to remove and 33 not upgraded.\n",
            "Need to get 9,604 kB of archives.\n",
            "After this operation, 29.5 MB of additional disk space will be used.\n",
            "Get:1 http://archive.ubuntu.com/ubuntu bionic/universe amd64 fonts-nanum all 20170925-1 [9,604 kB]\n",
            "Fetched 9,604 kB in 2s (5,213 kB/s)\n",
            "Selecting previously unselected package fonts-nanum.\n",
            "(Reading database ... 149406 files and directories currently installed.)\n",
            "Preparing to unpack .../fonts-nanum_20170925-1_all.deb ...\n",
            "Unpacking fonts-nanum (20170925-1) ...\n",
            "Setting up fonts-nanum (20170925-1) ...\n",
            "Processing triggers for fontconfig (2.12.6-0ubuntu2) ...\n",
            "/usr/share/fonts: caching, new cache contents: 0 fonts, 1 dirs\n",
            "/usr/share/fonts/truetype: caching, new cache contents: 0 fonts, 3 dirs\n",
            "/usr/share/fonts/truetype/humor-sans: caching, new cache contents: 1 fonts, 0 dirs\n",
            "/usr/share/fonts/truetype/liberation: caching, new cache contents: 16 fonts, 0 dirs\n",
            "/usr/share/fonts/truetype/nanum: caching, new cache contents: 10 fonts, 0 dirs\n",
            "/usr/local/share/fonts: caching, new cache contents: 0 fonts, 0 dirs\n",
            "/root/.local/share/fonts: skipping, no such directory\n",
            "/root/.fonts: skipping, no such directory\n",
            "/var/cache/fontconfig: cleaning cache directory\n",
            "/root/.cache/fontconfig: not cleaning non-existent cache directory\n",
            "/root/.fontconfig: not cleaning non-existent cache directory\n",
            "fc-cache: succeeded\n"
          ],
          "name": "stdout"
        }
      ]
    },
    {
      "cell_type": "code",
      "metadata": {
        "id": "QprOvc1pnYMA"
      },
      "source": [
        "import matplotlib as mpl\r\n",
        "import matplotlib.pyplot as plt\r\n",
        "\r\n",
        "mpl.rcParams['axes.unicode_minus'] = False\r\n",
        "\r\n",
        "plt.rc('font', family = 'NanumBarunGothic')"
      ],
      "execution_count": 1,
      "outputs": []
    },
    {
      "cell_type": "code",
      "metadata": {
        "colab": {
          "base_uri": "https://localhost:8080/"
        },
        "id": "avscEtyenl1Q",
        "outputId": "b3fa0b54-2862-49d2-dffd-3a23dafd195d"
      },
      "source": [
        "import pandas as pd\r\n",
        "\r\n",
        "CCTV = pd.read_csv('seoulCCTV.csv')\r\n",
        "CCTV.info()"
      ],
      "execution_count": 4,
      "outputs": [
        {
          "output_type": "stream",
          "text": [
            "<class 'pandas.core.frame.DataFrame'>\n",
            "RangeIndex: 25 entries, 0 to 24\n",
            "Data columns (total 6 columns):\n",
            " #   Column     Non-Null Count  Dtype \n",
            "---  ------     --------------  ----- \n",
            " 0   기관명        25 non-null     object\n",
            " 1   소계         25 non-null     int64 \n",
            " 2   2013년도 이전  25 non-null     int64 \n",
            " 3   2014년      25 non-null     int64 \n",
            " 4   2015년      25 non-null     int64 \n",
            " 5   2016년      25 non-null     int64 \n",
            "dtypes: int64(5), object(1)\n",
            "memory usage: 1.3+ KB\n"
          ],
          "name": "stdout"
        }
      ]
    },
    {
      "cell_type": "code",
      "metadata": {
        "colab": {
          "base_uri": "https://localhost:8080/",
          "height": 199
        },
        "id": "W0TmuuS5nxV5",
        "outputId": "11663dd9-b205-404d-c3df-3578c6275d89"
      },
      "source": [
        "CCTV.rename(columns={CCTV.columns[0]:'구별'}, inplace=True)\r\n",
        "CCTV.head()"
      ],
      "execution_count": 35,
      "outputs": [
        {
          "output_type": "execute_result",
          "data": {
            "text/html": [
              "<div>\n",
              "<style scoped>\n",
              "    .dataframe tbody tr th:only-of-type {\n",
              "        vertical-align: middle;\n",
              "    }\n",
              "\n",
              "    .dataframe tbody tr th {\n",
              "        vertical-align: top;\n",
              "    }\n",
              "\n",
              "    .dataframe thead th {\n",
              "        text-align: right;\n",
              "    }\n",
              "</style>\n",
              "<table border=\"1\" class=\"dataframe\">\n",
              "  <thead>\n",
              "    <tr style=\"text-align: right;\">\n",
              "      <th></th>\n",
              "      <th>구별</th>\n",
              "      <th>소계</th>\n",
              "      <th>2013년도 이전</th>\n",
              "      <th>2014년</th>\n",
              "      <th>2015년</th>\n",
              "      <th>2016년</th>\n",
              "    </tr>\n",
              "  </thead>\n",
              "  <tbody>\n",
              "    <tr>\n",
              "      <th>0</th>\n",
              "      <td>강남구</td>\n",
              "      <td>2780</td>\n",
              "      <td>1292</td>\n",
              "      <td>430</td>\n",
              "      <td>584</td>\n",
              "      <td>932</td>\n",
              "    </tr>\n",
              "    <tr>\n",
              "      <th>1</th>\n",
              "      <td>강동구</td>\n",
              "      <td>773</td>\n",
              "      <td>379</td>\n",
              "      <td>99</td>\n",
              "      <td>155</td>\n",
              "      <td>377</td>\n",
              "    </tr>\n",
              "    <tr>\n",
              "      <th>2</th>\n",
              "      <td>강북구</td>\n",
              "      <td>748</td>\n",
              "      <td>369</td>\n",
              "      <td>120</td>\n",
              "      <td>138</td>\n",
              "      <td>204</td>\n",
              "    </tr>\n",
              "    <tr>\n",
              "      <th>3</th>\n",
              "      <td>강서구</td>\n",
              "      <td>884</td>\n",
              "      <td>388</td>\n",
              "      <td>258</td>\n",
              "      <td>184</td>\n",
              "      <td>81</td>\n",
              "    </tr>\n",
              "    <tr>\n",
              "      <th>4</th>\n",
              "      <td>관악구</td>\n",
              "      <td>1496</td>\n",
              "      <td>846</td>\n",
              "      <td>260</td>\n",
              "      <td>390</td>\n",
              "      <td>613</td>\n",
              "    </tr>\n",
              "  </tbody>\n",
              "</table>\n",
              "</div>"
            ],
            "text/plain": [
              "    구별    소계  2013년도 이전  2014년  2015년  2016년\n",
              "0  강남구  2780       1292    430    584    932\n",
              "1  강동구   773        379     99    155    377\n",
              "2  강북구   748        369    120    138    204\n",
              "3  강서구   884        388    258    184     81\n",
              "4  관악구  1496        846    260    390    613"
            ]
          },
          "metadata": {
            "tags": []
          },
          "execution_count": 35
        }
      ]
    },
    {
      "cell_type": "code",
      "metadata": {
        "colab": {
          "base_uri": "https://localhost:8080/",
          "height": 199
        },
        "id": "hizHXAl6rztX",
        "outputId": "90bc73e4-4f11-4e5b-c0df-919bbad07203"
      },
      "source": [
        "CCTV['최근증가율'] = ((CCTV['2014년']+CCTV['2015년']+CCTV['2016년'])/CCTV['2013년도 이전']) *100\r\n",
        "CCTV.head()"
      ],
      "execution_count": 36,
      "outputs": [
        {
          "output_type": "execute_result",
          "data": {
            "text/html": [
              "<div>\n",
              "<style scoped>\n",
              "    .dataframe tbody tr th:only-of-type {\n",
              "        vertical-align: middle;\n",
              "    }\n",
              "\n",
              "    .dataframe tbody tr th {\n",
              "        vertical-align: top;\n",
              "    }\n",
              "\n",
              "    .dataframe thead th {\n",
              "        text-align: right;\n",
              "    }\n",
              "</style>\n",
              "<table border=\"1\" class=\"dataframe\">\n",
              "  <thead>\n",
              "    <tr style=\"text-align: right;\">\n",
              "      <th></th>\n",
              "      <th>구별</th>\n",
              "      <th>소계</th>\n",
              "      <th>2013년도 이전</th>\n",
              "      <th>2014년</th>\n",
              "      <th>2015년</th>\n",
              "      <th>2016년</th>\n",
              "      <th>최근증가율</th>\n",
              "    </tr>\n",
              "  </thead>\n",
              "  <tbody>\n",
              "    <tr>\n",
              "      <th>0</th>\n",
              "      <td>강남구</td>\n",
              "      <td>2780</td>\n",
              "      <td>1292</td>\n",
              "      <td>430</td>\n",
              "      <td>584</td>\n",
              "      <td>932</td>\n",
              "      <td>150.619195</td>\n",
              "    </tr>\n",
              "    <tr>\n",
              "      <th>1</th>\n",
              "      <td>강동구</td>\n",
              "      <td>773</td>\n",
              "      <td>379</td>\n",
              "      <td>99</td>\n",
              "      <td>155</td>\n",
              "      <td>377</td>\n",
              "      <td>166.490765</td>\n",
              "    </tr>\n",
              "    <tr>\n",
              "      <th>2</th>\n",
              "      <td>강북구</td>\n",
              "      <td>748</td>\n",
              "      <td>369</td>\n",
              "      <td>120</td>\n",
              "      <td>138</td>\n",
              "      <td>204</td>\n",
              "      <td>125.203252</td>\n",
              "    </tr>\n",
              "    <tr>\n",
              "      <th>3</th>\n",
              "      <td>강서구</td>\n",
              "      <td>884</td>\n",
              "      <td>388</td>\n",
              "      <td>258</td>\n",
              "      <td>184</td>\n",
              "      <td>81</td>\n",
              "      <td>134.793814</td>\n",
              "    </tr>\n",
              "    <tr>\n",
              "      <th>4</th>\n",
              "      <td>관악구</td>\n",
              "      <td>1496</td>\n",
              "      <td>846</td>\n",
              "      <td>260</td>\n",
              "      <td>390</td>\n",
              "      <td>613</td>\n",
              "      <td>149.290780</td>\n",
              "    </tr>\n",
              "  </tbody>\n",
              "</table>\n",
              "</div>"
            ],
            "text/plain": [
              "    구별    소계  2013년도 이전  2014년  2015년  2016년       최근증가율\n",
              "0  강남구  2780       1292    430    584    932  150.619195\n",
              "1  강동구   773        379     99    155    377  166.490765\n",
              "2  강북구   748        369    120    138    204  125.203252\n",
              "3  강서구   884        388    258    184     81  134.793814\n",
              "4  관악구  1496        846    260    390    613  149.290780"
            ]
          },
          "metadata": {
            "tags": []
          },
          "execution_count": 36
        }
      ]
    },
    {
      "cell_type": "code",
      "metadata": {
        "colab": {
          "base_uri": "https://localhost:8080/",
          "height": 199
        },
        "id": "k1m92Oj3sTT-",
        "outputId": "68af643e-3ef3-48dc-f25e-4a787b1000d7"
      },
      "source": [
        "CCTV.rename(columns={'소계':'CCTV총합'}, inplace=True)\r\n",
        "CCTV.head()"
      ],
      "execution_count": 37,
      "outputs": [
        {
          "output_type": "execute_result",
          "data": {
            "text/html": [
              "<div>\n",
              "<style scoped>\n",
              "    .dataframe tbody tr th:only-of-type {\n",
              "        vertical-align: middle;\n",
              "    }\n",
              "\n",
              "    .dataframe tbody tr th {\n",
              "        vertical-align: top;\n",
              "    }\n",
              "\n",
              "    .dataframe thead th {\n",
              "        text-align: right;\n",
              "    }\n",
              "</style>\n",
              "<table border=\"1\" class=\"dataframe\">\n",
              "  <thead>\n",
              "    <tr style=\"text-align: right;\">\n",
              "      <th></th>\n",
              "      <th>구별</th>\n",
              "      <th>CCTV총합</th>\n",
              "      <th>2013년도 이전</th>\n",
              "      <th>2014년</th>\n",
              "      <th>2015년</th>\n",
              "      <th>2016년</th>\n",
              "      <th>최근증가율</th>\n",
              "    </tr>\n",
              "  </thead>\n",
              "  <tbody>\n",
              "    <tr>\n",
              "      <th>0</th>\n",
              "      <td>강남구</td>\n",
              "      <td>2780</td>\n",
              "      <td>1292</td>\n",
              "      <td>430</td>\n",
              "      <td>584</td>\n",
              "      <td>932</td>\n",
              "      <td>150.619195</td>\n",
              "    </tr>\n",
              "    <tr>\n",
              "      <th>1</th>\n",
              "      <td>강동구</td>\n",
              "      <td>773</td>\n",
              "      <td>379</td>\n",
              "      <td>99</td>\n",
              "      <td>155</td>\n",
              "      <td>377</td>\n",
              "      <td>166.490765</td>\n",
              "    </tr>\n",
              "    <tr>\n",
              "      <th>2</th>\n",
              "      <td>강북구</td>\n",
              "      <td>748</td>\n",
              "      <td>369</td>\n",
              "      <td>120</td>\n",
              "      <td>138</td>\n",
              "      <td>204</td>\n",
              "      <td>125.203252</td>\n",
              "    </tr>\n",
              "    <tr>\n",
              "      <th>3</th>\n",
              "      <td>강서구</td>\n",
              "      <td>884</td>\n",
              "      <td>388</td>\n",
              "      <td>258</td>\n",
              "      <td>184</td>\n",
              "      <td>81</td>\n",
              "      <td>134.793814</td>\n",
              "    </tr>\n",
              "    <tr>\n",
              "      <th>4</th>\n",
              "      <td>관악구</td>\n",
              "      <td>1496</td>\n",
              "      <td>846</td>\n",
              "      <td>260</td>\n",
              "      <td>390</td>\n",
              "      <td>613</td>\n",
              "      <td>149.290780</td>\n",
              "    </tr>\n",
              "  </tbody>\n",
              "</table>\n",
              "</div>"
            ],
            "text/plain": [
              "    구별  CCTV총합  2013년도 이전  2014년  2015년  2016년       최근증가율\n",
              "0  강남구    2780       1292    430    584    932  150.619195\n",
              "1  강동구     773        379     99    155    377  166.490765\n",
              "2  강북구     748        369    120    138    204  125.203252\n",
              "3  강서구     884        388    258    184     81  134.793814\n",
              "4  관악구    1496        846    260    390    613  149.290780"
            ]
          },
          "metadata": {
            "tags": []
          },
          "execution_count": 37
        }
      ]
    },
    {
      "cell_type": "code",
      "metadata": {
        "colab": {
          "base_uri": "https://localhost:8080/",
          "height": 199
        },
        "id": "vNExh2ASsjrB",
        "outputId": "b7c0c421-2f6b-465c-8e48-54f71432ec5c"
      },
      "source": [
        "CCTV = CCTV.loc[:,['구별','CCTV총합','최근증가율']]\r\n",
        "CCTV.head()"
      ],
      "execution_count": 38,
      "outputs": [
        {
          "output_type": "execute_result",
          "data": {
            "text/html": [
              "<div>\n",
              "<style scoped>\n",
              "    .dataframe tbody tr th:only-of-type {\n",
              "        vertical-align: middle;\n",
              "    }\n",
              "\n",
              "    .dataframe tbody tr th {\n",
              "        vertical-align: top;\n",
              "    }\n",
              "\n",
              "    .dataframe thead th {\n",
              "        text-align: right;\n",
              "    }\n",
              "</style>\n",
              "<table border=\"1\" class=\"dataframe\">\n",
              "  <thead>\n",
              "    <tr style=\"text-align: right;\">\n",
              "      <th></th>\n",
              "      <th>구별</th>\n",
              "      <th>CCTV총합</th>\n",
              "      <th>최근증가율</th>\n",
              "    </tr>\n",
              "  </thead>\n",
              "  <tbody>\n",
              "    <tr>\n",
              "      <th>0</th>\n",
              "      <td>강남구</td>\n",
              "      <td>2780</td>\n",
              "      <td>150.619195</td>\n",
              "    </tr>\n",
              "    <tr>\n",
              "      <th>1</th>\n",
              "      <td>강동구</td>\n",
              "      <td>773</td>\n",
              "      <td>166.490765</td>\n",
              "    </tr>\n",
              "    <tr>\n",
              "      <th>2</th>\n",
              "      <td>강북구</td>\n",
              "      <td>748</td>\n",
              "      <td>125.203252</td>\n",
              "    </tr>\n",
              "    <tr>\n",
              "      <th>3</th>\n",
              "      <td>강서구</td>\n",
              "      <td>884</td>\n",
              "      <td>134.793814</td>\n",
              "    </tr>\n",
              "    <tr>\n",
              "      <th>4</th>\n",
              "      <td>관악구</td>\n",
              "      <td>1496</td>\n",
              "      <td>149.290780</td>\n",
              "    </tr>\n",
              "  </tbody>\n",
              "</table>\n",
              "</div>"
            ],
            "text/plain": [
              "    구별  CCTV총합       최근증가율\n",
              "0  강남구    2780  150.619195\n",
              "1  강동구     773  166.490765\n",
              "2  강북구     748  125.203252\n",
              "3  강서구     884  134.793814\n",
              "4  관악구    1496  149.290780"
            ]
          },
          "metadata": {
            "tags": []
          },
          "execution_count": 38
        }
      ]
    },
    {
      "cell_type": "code",
      "metadata": {
        "colab": {
          "base_uri": "https://localhost:8080/"
        },
        "id": "NANkHa22n9ex",
        "outputId": "62d311c7-e5f6-41ae-c9f7-6394d380e91d"
      },
      "source": [
        "Pp = pd.read_excel('seoulPopulation.xls')\r\n",
        "Pp.info()"
      ],
      "execution_count": 28,
      "outputs": [
        {
          "output_type": "stream",
          "text": [
            "<class 'pandas.core.frame.DataFrame'>\n",
            "RangeIndex: 29 entries, 0 to 28\n",
            "Data columns (total 14 columns):\n",
            " #   Column    Non-Null Count  Dtype \n",
            "---  ------    --------------  ----- \n",
            " 0   기간        28 non-null     object\n",
            " 1   자치구       28 non-null     object\n",
            " 2   세대        28 non-null     object\n",
            " 3   인구        28 non-null     object\n",
            " 4   인구.1      28 non-null     object\n",
            " 5   인구.2      28 non-null     object\n",
            " 6   인구.3      28 non-null     object\n",
            " 7   인구.4      28 non-null     object\n",
            " 8   인구.5      28 non-null     object\n",
            " 9   인구.6      28 non-null     object\n",
            " 10  인구.7      28 non-null     object\n",
            " 11  인구.8      28 non-null     object\n",
            " 12  세대당인구     28 non-null     object\n",
            " 13  65세이상고령자  28 non-null     object\n",
            "dtypes: object(14)\n",
            "memory usage: 3.3+ KB\n"
          ],
          "name": "stdout"
        }
      ]
    },
    {
      "cell_type": "code",
      "metadata": {
        "colab": {
          "base_uri": "https://localhost:8080/",
          "height": 199
        },
        "id": "wkAW9PBnogmA",
        "outputId": "b289ac5e-3030-4c37-f833-6bec7eb40e73"
      },
      "source": [
        "Pp = pd.read_excel('seoulPopulation.xls',\r\n",
        "                   header = 2,\r\n",
        "                   usecols = 'B, D, G, J, N')\r\n",
        "Pp.head()"
      ],
      "execution_count": 29,
      "outputs": [
        {
          "output_type": "execute_result",
          "data": {
            "text/html": [
              "<div>\n",
              "<style scoped>\n",
              "    .dataframe tbody tr th:only-of-type {\n",
              "        vertical-align: middle;\n",
              "    }\n",
              "\n",
              "    .dataframe tbody tr th {\n",
              "        vertical-align: top;\n",
              "    }\n",
              "\n",
              "    .dataframe thead th {\n",
              "        text-align: right;\n",
              "    }\n",
              "</style>\n",
              "<table border=\"1\" class=\"dataframe\">\n",
              "  <thead>\n",
              "    <tr style=\"text-align: right;\">\n",
              "      <th></th>\n",
              "      <th>자치구</th>\n",
              "      <th>계</th>\n",
              "      <th>계.1</th>\n",
              "      <th>계.2</th>\n",
              "      <th>65세이상고령자</th>\n",
              "    </tr>\n",
              "  </thead>\n",
              "  <tbody>\n",
              "    <tr>\n",
              "      <th>0</th>\n",
              "      <td>합계</td>\n",
              "      <td>10197604.0</td>\n",
              "      <td>9926968.0</td>\n",
              "      <td>270636.0</td>\n",
              "      <td>1321458.0</td>\n",
              "    </tr>\n",
              "    <tr>\n",
              "      <th>1</th>\n",
              "      <td>종로구</td>\n",
              "      <td>162820.0</td>\n",
              "      <td>153589.0</td>\n",
              "      <td>9231.0</td>\n",
              "      <td>25425.0</td>\n",
              "    </tr>\n",
              "    <tr>\n",
              "      <th>2</th>\n",
              "      <td>중구</td>\n",
              "      <td>133240.0</td>\n",
              "      <td>124312.0</td>\n",
              "      <td>8928.0</td>\n",
              "      <td>20764.0</td>\n",
              "    </tr>\n",
              "    <tr>\n",
              "      <th>3</th>\n",
              "      <td>용산구</td>\n",
              "      <td>244203.0</td>\n",
              "      <td>229456.0</td>\n",
              "      <td>14747.0</td>\n",
              "      <td>36231.0</td>\n",
              "    </tr>\n",
              "    <tr>\n",
              "      <th>4</th>\n",
              "      <td>성동구</td>\n",
              "      <td>311244.0</td>\n",
              "      <td>303380.0</td>\n",
              "      <td>7864.0</td>\n",
              "      <td>39997.0</td>\n",
              "    </tr>\n",
              "  </tbody>\n",
              "</table>\n",
              "</div>"
            ],
            "text/plain": [
              "   자치구           계        계.1       계.2   65세이상고령자\n",
              "0   합계  10197604.0  9926968.0  270636.0  1321458.0\n",
              "1  종로구    162820.0   153589.0    9231.0    25425.0\n",
              "2   중구    133240.0   124312.0    8928.0    20764.0\n",
              "3  용산구    244203.0   229456.0   14747.0    36231.0\n",
              "4  성동구    311244.0   303380.0    7864.0    39997.0"
            ]
          },
          "metadata": {
            "tags": []
          },
          "execution_count": 29
        }
      ]
    },
    {
      "cell_type": "code",
      "metadata": {
        "colab": {
          "base_uri": "https://localhost:8080/"
        },
        "id": "ZUigpKxCrB5I",
        "outputId": "17ef0f5c-9da6-42f2-c3e2-719531721a4c"
      },
      "source": [
        "Pp.shape"
      ],
      "execution_count": 30,
      "outputs": [
        {
          "output_type": "execute_result",
          "data": {
            "text/plain": [
              "(27, 5)"
            ]
          },
          "metadata": {
            "tags": []
          },
          "execution_count": 30
        }
      ]
    },
    {
      "cell_type": "code",
      "metadata": {
        "colab": {
          "base_uri": "https://localhost:8080/",
          "height": 199
        },
        "id": "iNy7qrSWokRB",
        "outputId": "bd6095ab-c01b-42a0-fd6e-c5ae15c8650b"
      },
      "source": [
        "Pp.rename(columns = {Pp.columns[0]:'구별',\r\n",
        "                     Pp.columns[1]:'인구수',\r\n",
        "                     Pp.columns[2] :'한국인',\r\n",
        "                     Pp.columns[3]:'외국인',\r\n",
        "                     Pp.columns[4] : '고령자'}, inplace=True)\r\n",
        "Pp.head()"
      ],
      "execution_count": 31,
      "outputs": [
        {
          "output_type": "execute_result",
          "data": {
            "text/html": [
              "<div>\n",
              "<style scoped>\n",
              "    .dataframe tbody tr th:only-of-type {\n",
              "        vertical-align: middle;\n",
              "    }\n",
              "\n",
              "    .dataframe tbody tr th {\n",
              "        vertical-align: top;\n",
              "    }\n",
              "\n",
              "    .dataframe thead th {\n",
              "        text-align: right;\n",
              "    }\n",
              "</style>\n",
              "<table border=\"1\" class=\"dataframe\">\n",
              "  <thead>\n",
              "    <tr style=\"text-align: right;\">\n",
              "      <th></th>\n",
              "      <th>구별</th>\n",
              "      <th>인구수</th>\n",
              "      <th>한국인</th>\n",
              "      <th>외국인</th>\n",
              "      <th>고령자</th>\n",
              "    </tr>\n",
              "  </thead>\n",
              "  <tbody>\n",
              "    <tr>\n",
              "      <th>0</th>\n",
              "      <td>합계</td>\n",
              "      <td>10197604.0</td>\n",
              "      <td>9926968.0</td>\n",
              "      <td>270636.0</td>\n",
              "      <td>1321458.0</td>\n",
              "    </tr>\n",
              "    <tr>\n",
              "      <th>1</th>\n",
              "      <td>종로구</td>\n",
              "      <td>162820.0</td>\n",
              "      <td>153589.0</td>\n",
              "      <td>9231.0</td>\n",
              "      <td>25425.0</td>\n",
              "    </tr>\n",
              "    <tr>\n",
              "      <th>2</th>\n",
              "      <td>중구</td>\n",
              "      <td>133240.0</td>\n",
              "      <td>124312.0</td>\n",
              "      <td>8928.0</td>\n",
              "      <td>20764.0</td>\n",
              "    </tr>\n",
              "    <tr>\n",
              "      <th>3</th>\n",
              "      <td>용산구</td>\n",
              "      <td>244203.0</td>\n",
              "      <td>229456.0</td>\n",
              "      <td>14747.0</td>\n",
              "      <td>36231.0</td>\n",
              "    </tr>\n",
              "    <tr>\n",
              "      <th>4</th>\n",
              "      <td>성동구</td>\n",
              "      <td>311244.0</td>\n",
              "      <td>303380.0</td>\n",
              "      <td>7864.0</td>\n",
              "      <td>39997.0</td>\n",
              "    </tr>\n",
              "  </tbody>\n",
              "</table>\n",
              "</div>"
            ],
            "text/plain": [
              "    구별         인구수        한국인       외국인        고령자\n",
              "0   합계  10197604.0  9926968.0  270636.0  1321458.0\n",
              "1  종로구    162820.0   153589.0    9231.0    25425.0\n",
              "2   중구    133240.0   124312.0    8928.0    20764.0\n",
              "3  용산구    244203.0   229456.0   14747.0    36231.0\n",
              "4  성동구    311244.0   303380.0    7864.0    39997.0"
            ]
          },
          "metadata": {
            "tags": []
          },
          "execution_count": 31
        }
      ]
    },
    {
      "cell_type": "code",
      "metadata": {
        "colab": {
          "base_uri": "https://localhost:8080/",
          "height": 199
        },
        "id": "P8vohpnhqQN4",
        "outputId": "0d867e41-9f30-4ba2-be54-e7fdb48d92a5"
      },
      "source": [
        "Pp.drop([0], inplace=True)\r\n",
        "Pp.head()"
      ],
      "execution_count": 32,
      "outputs": [
        {
          "output_type": "execute_result",
          "data": {
            "text/html": [
              "<div>\n",
              "<style scoped>\n",
              "    .dataframe tbody tr th:only-of-type {\n",
              "        vertical-align: middle;\n",
              "    }\n",
              "\n",
              "    .dataframe tbody tr th {\n",
              "        vertical-align: top;\n",
              "    }\n",
              "\n",
              "    .dataframe thead th {\n",
              "        text-align: right;\n",
              "    }\n",
              "</style>\n",
              "<table border=\"1\" class=\"dataframe\">\n",
              "  <thead>\n",
              "    <tr style=\"text-align: right;\">\n",
              "      <th></th>\n",
              "      <th>구별</th>\n",
              "      <th>인구수</th>\n",
              "      <th>한국인</th>\n",
              "      <th>외국인</th>\n",
              "      <th>고령자</th>\n",
              "    </tr>\n",
              "  </thead>\n",
              "  <tbody>\n",
              "    <tr>\n",
              "      <th>1</th>\n",
              "      <td>종로구</td>\n",
              "      <td>162820.0</td>\n",
              "      <td>153589.0</td>\n",
              "      <td>9231.0</td>\n",
              "      <td>25425.0</td>\n",
              "    </tr>\n",
              "    <tr>\n",
              "      <th>2</th>\n",
              "      <td>중구</td>\n",
              "      <td>133240.0</td>\n",
              "      <td>124312.0</td>\n",
              "      <td>8928.0</td>\n",
              "      <td>20764.0</td>\n",
              "    </tr>\n",
              "    <tr>\n",
              "      <th>3</th>\n",
              "      <td>용산구</td>\n",
              "      <td>244203.0</td>\n",
              "      <td>229456.0</td>\n",
              "      <td>14747.0</td>\n",
              "      <td>36231.0</td>\n",
              "    </tr>\n",
              "    <tr>\n",
              "      <th>4</th>\n",
              "      <td>성동구</td>\n",
              "      <td>311244.0</td>\n",
              "      <td>303380.0</td>\n",
              "      <td>7864.0</td>\n",
              "      <td>39997.0</td>\n",
              "    </tr>\n",
              "    <tr>\n",
              "      <th>5</th>\n",
              "      <td>광진구</td>\n",
              "      <td>372164.0</td>\n",
              "      <td>357211.0</td>\n",
              "      <td>14953.0</td>\n",
              "      <td>42214.0</td>\n",
              "    </tr>\n",
              "  </tbody>\n",
              "</table>\n",
              "</div>"
            ],
            "text/plain": [
              "    구별       인구수       한국인      외국인      고령자\n",
              "1  종로구  162820.0  153589.0   9231.0  25425.0\n",
              "2   중구  133240.0  124312.0   8928.0  20764.0\n",
              "3  용산구  244203.0  229456.0  14747.0  36231.0\n",
              "4  성동구  311244.0  303380.0   7864.0  39997.0\n",
              "5  광진구  372164.0  357211.0  14953.0  42214.0"
            ]
          },
          "metadata": {
            "tags": []
          },
          "execution_count": 32
        }
      ]
    },
    {
      "cell_type": "code",
      "metadata": {
        "colab": {
          "base_uri": "https://localhost:8080/"
        },
        "id": "n_tpoKr2qYSH",
        "outputId": "9f5706f1-238e-49f6-b9ef-9fdaade8b88f"
      },
      "source": [
        "Pp['구별'].isnull()"
      ],
      "execution_count": 33,
      "outputs": [
        {
          "output_type": "execute_result",
          "data": {
            "text/plain": [
              "1     False\n",
              "2     False\n",
              "3     False\n",
              "4     False\n",
              "5     False\n",
              "6     False\n",
              "7     False\n",
              "8     False\n",
              "9     False\n",
              "10    False\n",
              "11    False\n",
              "12    False\n",
              "13    False\n",
              "14    False\n",
              "15    False\n",
              "16    False\n",
              "17    False\n",
              "18    False\n",
              "19    False\n",
              "20    False\n",
              "21    False\n",
              "22    False\n",
              "23    False\n",
              "24    False\n",
              "25    False\n",
              "26     True\n",
              "Name: 구별, dtype: bool"
            ]
          },
          "metadata": {
            "tags": []
          },
          "execution_count": 33
        }
      ]
    },
    {
      "cell_type": "code",
      "metadata": {
        "colab": {
          "base_uri": "https://localhost:8080/"
        },
        "id": "dr7ARQrtqdh4",
        "outputId": "b19f5bf9-508e-428b-d8ff-f49a589777ad"
      },
      "source": [
        "Pp.dropna(subset=['구별'], how='any', axis=0).shape"
      ],
      "execution_count": 34,
      "outputs": [
        {
          "output_type": "execute_result",
          "data": {
            "text/plain": [
              "(25, 5)"
            ]
          },
          "metadata": {
            "tags": []
          },
          "execution_count": 34
        }
      ]
    },
    {
      "cell_type": "code",
      "metadata": {
        "colab": {
          "base_uri": "https://localhost:8080/",
          "height": 199
        },
        "id": "_6q4fMxDqwSW",
        "outputId": "2e49631e-fea6-43b4-93b4-e0f62e17b7d1"
      },
      "source": [
        "CCTV.head()"
      ],
      "execution_count": 39,
      "outputs": [
        {
          "output_type": "execute_result",
          "data": {
            "text/html": [
              "<div>\n",
              "<style scoped>\n",
              "    .dataframe tbody tr th:only-of-type {\n",
              "        vertical-align: middle;\n",
              "    }\n",
              "\n",
              "    .dataframe tbody tr th {\n",
              "        vertical-align: top;\n",
              "    }\n",
              "\n",
              "    .dataframe thead th {\n",
              "        text-align: right;\n",
              "    }\n",
              "</style>\n",
              "<table border=\"1\" class=\"dataframe\">\n",
              "  <thead>\n",
              "    <tr style=\"text-align: right;\">\n",
              "      <th></th>\n",
              "      <th>구별</th>\n",
              "      <th>CCTV총합</th>\n",
              "      <th>최근증가율</th>\n",
              "    </tr>\n",
              "  </thead>\n",
              "  <tbody>\n",
              "    <tr>\n",
              "      <th>0</th>\n",
              "      <td>강남구</td>\n",
              "      <td>2780</td>\n",
              "      <td>150.619195</td>\n",
              "    </tr>\n",
              "    <tr>\n",
              "      <th>1</th>\n",
              "      <td>강동구</td>\n",
              "      <td>773</td>\n",
              "      <td>166.490765</td>\n",
              "    </tr>\n",
              "    <tr>\n",
              "      <th>2</th>\n",
              "      <td>강북구</td>\n",
              "      <td>748</td>\n",
              "      <td>125.203252</td>\n",
              "    </tr>\n",
              "    <tr>\n",
              "      <th>3</th>\n",
              "      <td>강서구</td>\n",
              "      <td>884</td>\n",
              "      <td>134.793814</td>\n",
              "    </tr>\n",
              "    <tr>\n",
              "      <th>4</th>\n",
              "      <td>관악구</td>\n",
              "      <td>1496</td>\n",
              "      <td>149.290780</td>\n",
              "    </tr>\n",
              "  </tbody>\n",
              "</table>\n",
              "</div>"
            ],
            "text/plain": [
              "    구별  CCTV총합       최근증가율\n",
              "0  강남구    2780  150.619195\n",
              "1  강동구     773  166.490765\n",
              "2  강북구     748  125.203252\n",
              "3  강서구     884  134.793814\n",
              "4  관악구    1496  149.290780"
            ]
          },
          "metadata": {
            "tags": []
          },
          "execution_count": 39
        }
      ]
    },
    {
      "cell_type": "code",
      "metadata": {
        "colab": {
          "base_uri": "https://localhost:8080/",
          "height": 199
        },
        "id": "vV_jhzPtta0d",
        "outputId": "8ce13820-e2f8-4d68-b924-149a4c98ef98"
      },
      "source": [
        "Pp.head()"
      ],
      "execution_count": 40,
      "outputs": [
        {
          "output_type": "execute_result",
          "data": {
            "text/html": [
              "<div>\n",
              "<style scoped>\n",
              "    .dataframe tbody tr th:only-of-type {\n",
              "        vertical-align: middle;\n",
              "    }\n",
              "\n",
              "    .dataframe tbody tr th {\n",
              "        vertical-align: top;\n",
              "    }\n",
              "\n",
              "    .dataframe thead th {\n",
              "        text-align: right;\n",
              "    }\n",
              "</style>\n",
              "<table border=\"1\" class=\"dataframe\">\n",
              "  <thead>\n",
              "    <tr style=\"text-align: right;\">\n",
              "      <th></th>\n",
              "      <th>구별</th>\n",
              "      <th>인구수</th>\n",
              "      <th>한국인</th>\n",
              "      <th>외국인</th>\n",
              "      <th>고령자</th>\n",
              "    </tr>\n",
              "  </thead>\n",
              "  <tbody>\n",
              "    <tr>\n",
              "      <th>1</th>\n",
              "      <td>종로구</td>\n",
              "      <td>162820.0</td>\n",
              "      <td>153589.0</td>\n",
              "      <td>9231.0</td>\n",
              "      <td>25425.0</td>\n",
              "    </tr>\n",
              "    <tr>\n",
              "      <th>2</th>\n",
              "      <td>중구</td>\n",
              "      <td>133240.0</td>\n",
              "      <td>124312.0</td>\n",
              "      <td>8928.0</td>\n",
              "      <td>20764.0</td>\n",
              "    </tr>\n",
              "    <tr>\n",
              "      <th>3</th>\n",
              "      <td>용산구</td>\n",
              "      <td>244203.0</td>\n",
              "      <td>229456.0</td>\n",
              "      <td>14747.0</td>\n",
              "      <td>36231.0</td>\n",
              "    </tr>\n",
              "    <tr>\n",
              "      <th>4</th>\n",
              "      <td>성동구</td>\n",
              "      <td>311244.0</td>\n",
              "      <td>303380.0</td>\n",
              "      <td>7864.0</td>\n",
              "      <td>39997.0</td>\n",
              "    </tr>\n",
              "    <tr>\n",
              "      <th>5</th>\n",
              "      <td>광진구</td>\n",
              "      <td>372164.0</td>\n",
              "      <td>357211.0</td>\n",
              "      <td>14953.0</td>\n",
              "      <td>42214.0</td>\n",
              "    </tr>\n",
              "  </tbody>\n",
              "</table>\n",
              "</div>"
            ],
            "text/plain": [
              "    구별       인구수       한국인      외국인      고령자\n",
              "1  종로구  162820.0  153589.0   9231.0  25425.0\n",
              "2   중구  133240.0  124312.0   8928.0  20764.0\n",
              "3  용산구  244203.0  229456.0  14747.0  36231.0\n",
              "4  성동구  311244.0  303380.0   7864.0  39997.0\n",
              "5  광진구  372164.0  357211.0  14953.0  42214.0"
            ]
          },
          "metadata": {
            "tags": []
          },
          "execution_count": 40
        }
      ]
    },
    {
      "cell_type": "code",
      "metadata": {
        "colab": {
          "base_uri": "https://localhost:8080/",
          "height": 199
        },
        "id": "sO07l6AetbxG",
        "outputId": "6d56efe4-c6fc-4a5a-f966-d62f5241e065"
      },
      "source": [
        "DF = pd.merge(CCTV,Pp, on='구별')\r\n",
        "DF.head()"
      ],
      "execution_count": 44,
      "outputs": [
        {
          "output_type": "execute_result",
          "data": {
            "text/html": [
              "<div>\n",
              "<style scoped>\n",
              "    .dataframe tbody tr th:only-of-type {\n",
              "        vertical-align: middle;\n",
              "    }\n",
              "\n",
              "    .dataframe tbody tr th {\n",
              "        vertical-align: top;\n",
              "    }\n",
              "\n",
              "    .dataframe thead th {\n",
              "        text-align: right;\n",
              "    }\n",
              "</style>\n",
              "<table border=\"1\" class=\"dataframe\">\n",
              "  <thead>\n",
              "    <tr style=\"text-align: right;\">\n",
              "      <th></th>\n",
              "      <th>구별</th>\n",
              "      <th>CCTV총합</th>\n",
              "      <th>최근증가율</th>\n",
              "      <th>인구수</th>\n",
              "      <th>한국인</th>\n",
              "      <th>외국인</th>\n",
              "      <th>고령자</th>\n",
              "    </tr>\n",
              "  </thead>\n",
              "  <tbody>\n",
              "    <tr>\n",
              "      <th>0</th>\n",
              "      <td>강남구</td>\n",
              "      <td>2780</td>\n",
              "      <td>150.619195</td>\n",
              "      <td>570500.0</td>\n",
              "      <td>565550.0</td>\n",
              "      <td>4950.0</td>\n",
              "      <td>63167.0</td>\n",
              "    </tr>\n",
              "    <tr>\n",
              "      <th>1</th>\n",
              "      <td>강동구</td>\n",
              "      <td>773</td>\n",
              "      <td>166.490765</td>\n",
              "      <td>453233.0</td>\n",
              "      <td>449019.0</td>\n",
              "      <td>4214.0</td>\n",
              "      <td>54622.0</td>\n",
              "    </tr>\n",
              "    <tr>\n",
              "      <th>2</th>\n",
              "      <td>강북구</td>\n",
              "      <td>748</td>\n",
              "      <td>125.203252</td>\n",
              "      <td>330192.0</td>\n",
              "      <td>326686.0</td>\n",
              "      <td>3506.0</td>\n",
              "      <td>54813.0</td>\n",
              "    </tr>\n",
              "    <tr>\n",
              "      <th>3</th>\n",
              "      <td>강서구</td>\n",
              "      <td>884</td>\n",
              "      <td>134.793814</td>\n",
              "      <td>603772.0</td>\n",
              "      <td>597248.0</td>\n",
              "      <td>6524.0</td>\n",
              "      <td>72548.0</td>\n",
              "    </tr>\n",
              "    <tr>\n",
              "      <th>4</th>\n",
              "      <td>관악구</td>\n",
              "      <td>1496</td>\n",
              "      <td>149.290780</td>\n",
              "      <td>525515.0</td>\n",
              "      <td>507203.0</td>\n",
              "      <td>18312.0</td>\n",
              "      <td>68082.0</td>\n",
              "    </tr>\n",
              "  </tbody>\n",
              "</table>\n",
              "</div>"
            ],
            "text/plain": [
              "    구별  CCTV총합       최근증가율       인구수       한국인      외국인      고령자\n",
              "0  강남구    2780  150.619195  570500.0  565550.0   4950.0  63167.0\n",
              "1  강동구     773  166.490765  453233.0  449019.0   4214.0  54622.0\n",
              "2  강북구     748  125.203252  330192.0  326686.0   3506.0  54813.0\n",
              "3  강서구     884  134.793814  603772.0  597248.0   6524.0  72548.0\n",
              "4  관악구    1496  149.290780  525515.0  507203.0  18312.0  68082.0"
            ]
          },
          "metadata": {
            "tags": []
          },
          "execution_count": 44
        }
      ]
    },
    {
      "cell_type": "code",
      "metadata": {
        "id": "qF2IO-C2uzs9"
      },
      "source": [
        "DF['외국인비율'] = ((DF['외국인']/DF['인구수'])*100)"
      ],
      "execution_count": 45,
      "outputs": []
    },
    {
      "cell_type": "code",
      "metadata": {
        "colab": {
          "base_uri": "https://localhost:8080/",
          "height": 199
        },
        "id": "brYiGY5PvJWg",
        "outputId": "c3215b9f-4ff6-4ed9-fe42-d30dd65ca4f6"
      },
      "source": [
        "DF['고령자비율'] = DF['고령자'] /DF['인구수'] * 100\r\n",
        "DF.head()"
      ],
      "execution_count": 46,
      "outputs": [
        {
          "output_type": "execute_result",
          "data": {
            "text/html": [
              "<div>\n",
              "<style scoped>\n",
              "    .dataframe tbody tr th:only-of-type {\n",
              "        vertical-align: middle;\n",
              "    }\n",
              "\n",
              "    .dataframe tbody tr th {\n",
              "        vertical-align: top;\n",
              "    }\n",
              "\n",
              "    .dataframe thead th {\n",
              "        text-align: right;\n",
              "    }\n",
              "</style>\n",
              "<table border=\"1\" class=\"dataframe\">\n",
              "  <thead>\n",
              "    <tr style=\"text-align: right;\">\n",
              "      <th></th>\n",
              "      <th>구별</th>\n",
              "      <th>CCTV총합</th>\n",
              "      <th>최근증가율</th>\n",
              "      <th>인구수</th>\n",
              "      <th>한국인</th>\n",
              "      <th>외국인</th>\n",
              "      <th>고령자</th>\n",
              "      <th>외국인비율</th>\n",
              "      <th>고령자비율</th>\n",
              "    </tr>\n",
              "  </thead>\n",
              "  <tbody>\n",
              "    <tr>\n",
              "      <th>0</th>\n",
              "      <td>강남구</td>\n",
              "      <td>2780</td>\n",
              "      <td>150.619195</td>\n",
              "      <td>570500.0</td>\n",
              "      <td>565550.0</td>\n",
              "      <td>4950.0</td>\n",
              "      <td>63167.0</td>\n",
              "      <td>0.867660</td>\n",
              "      <td>11.072217</td>\n",
              "    </tr>\n",
              "    <tr>\n",
              "      <th>1</th>\n",
              "      <td>강동구</td>\n",
              "      <td>773</td>\n",
              "      <td>166.490765</td>\n",
              "      <td>453233.0</td>\n",
              "      <td>449019.0</td>\n",
              "      <td>4214.0</td>\n",
              "      <td>54622.0</td>\n",
              "      <td>0.929765</td>\n",
              "      <td>12.051638</td>\n",
              "    </tr>\n",
              "    <tr>\n",
              "      <th>2</th>\n",
              "      <td>강북구</td>\n",
              "      <td>748</td>\n",
              "      <td>125.203252</td>\n",
              "      <td>330192.0</td>\n",
              "      <td>326686.0</td>\n",
              "      <td>3506.0</td>\n",
              "      <td>54813.0</td>\n",
              "      <td>1.061806</td>\n",
              "      <td>16.600342</td>\n",
              "    </tr>\n",
              "    <tr>\n",
              "      <th>3</th>\n",
              "      <td>강서구</td>\n",
              "      <td>884</td>\n",
              "      <td>134.793814</td>\n",
              "      <td>603772.0</td>\n",
              "      <td>597248.0</td>\n",
              "      <td>6524.0</td>\n",
              "      <td>72548.0</td>\n",
              "      <td>1.080540</td>\n",
              "      <td>12.015794</td>\n",
              "    </tr>\n",
              "    <tr>\n",
              "      <th>4</th>\n",
              "      <td>관악구</td>\n",
              "      <td>1496</td>\n",
              "      <td>149.290780</td>\n",
              "      <td>525515.0</td>\n",
              "      <td>507203.0</td>\n",
              "      <td>18312.0</td>\n",
              "      <td>68082.0</td>\n",
              "      <td>3.484582</td>\n",
              "      <td>12.955291</td>\n",
              "    </tr>\n",
              "  </tbody>\n",
              "</table>\n",
              "</div>"
            ],
            "text/plain": [
              "    구별  CCTV총합       최근증가율       인구수  ...      외국인      고령자     외국인비율      고령자비율\n",
              "0  강남구    2780  150.619195  570500.0  ...   4950.0  63167.0  0.867660  11.072217\n",
              "1  강동구     773  166.490765  453233.0  ...   4214.0  54622.0  0.929765  12.051638\n",
              "2  강북구     748  125.203252  330192.0  ...   3506.0  54813.0  1.061806  16.600342\n",
              "3  강서구     884  134.793814  603772.0  ...   6524.0  72548.0  1.080540  12.015794\n",
              "4  관악구    1496  149.290780  525515.0  ...  18312.0  68082.0  3.484582  12.955291\n",
              "\n",
              "[5 rows x 9 columns]"
            ]
          },
          "metadata": {
            "tags": []
          },
          "execution_count": 46
        }
      ]
    },
    {
      "cell_type": "code",
      "metadata": {
        "colab": {
          "base_uri": "https://localhost:8080/",
          "height": 336
        },
        "id": "-A-Cgc8AuDy1",
        "outputId": "5391acbc-f060-4bd1-d443-463e55cf9443"
      },
      "source": [
        "import seaborn as sns\r\n",
        "import numpy as np\r\n",
        "import pandas as pd\r\n",
        "import matplotlib.pyplot as plt\r\n",
        "\r\n",
        "sns.scatterplot(DF['인구수'], DF['CCTV총합'])\r\n",
        "plt.show()"
      ],
      "execution_count": 43,
      "outputs": [
        {
          "output_type": "stream",
          "text": [
            "/usr/local/lib/python3.7/dist-packages/seaborn/_decorators.py:43: FutureWarning: Pass the following variables as keyword args: x, y. From version 0.12, the only valid positional argument will be `data`, and passing other arguments without an explicit keyword will result in an error or misinterpretation.\n",
            "  FutureWarning\n"
          ],
          "name": "stderr"
        },
        {
          "output_type": "display_data",
          "data": {
            "image/png": "[encoded data removed]",
            "text/plain": [
              "<Figure size 432x288 with 1 Axes>"
            ]
          },
          "metadata": {
            "tags": [],
            "needs_background": "light"
          }
        }
      ]
    },
    {
      "cell_type": "code",
      "metadata": {
        "colab": {
          "base_uri": "https://localhost:8080/",
          "height": 336
        },
        "id": "i2it6LUyulpd",
        "outputId": "8deb81ee-7daf-4a71-dc22-b0724715053a"
      },
      "source": [
        "sns.scatterplot(DF['외국인비율'], DF['CCTV총합'])\r\n",
        "plt.show()\r\n"
      ],
      "execution_count": 47,
      "outputs": [
        {
          "output_type": "stream",
          "text": [
            "/usr/local/lib/python3.7/dist-packages/seaborn/_decorators.py:43: FutureWarning: Pass the following variables as keyword args: x, y. From version 0.12, the only valid positional argument will be `data`, and passing other arguments without an explicit keyword will result in an error or misinterpretation.\n",
            "  FutureWarning\n"
          ],
          "name": "stderr"
        },
        {
          "output_type": "display_data",
          "data": {
            "image/png": "[encoded data removed]",
            "text/plain": [
              "<Figure size 432x288 with 1 Axes>"
            ]
          },
          "metadata": {
            "tags": [],
            "needs_background": "light"
          }
        }
      ]
    },
    {
      "cell_type": "code",
      "metadata": {
        "colab": {
          "base_uri": "https://localhost:8080/",
          "height": 336
        },
        "id": "IpTs9Rq1vauM",
        "outputId": "ac494d4d-8c0a-49e8-9258-d04dd9e42fa2"
      },
      "source": [
        "sns.scatterplot(DF['고령자비율'], DF['CCTV총합'])\r\n",
        "plt.show()"
      ],
      "execution_count": 48,
      "outputs": [
        {
          "output_type": "stream",
          "text": [
            "/usr/local/lib/python3.7/dist-packages/seaborn/_decorators.py:43: FutureWarning: Pass the following variables as keyword args: x, y. From version 0.12, the only valid positional argument will be `data`, and passing other arguments without an explicit keyword will result in an error or misinterpretation.\n",
            "  FutureWarning\n"
          ],
          "name": "stderr"
        },
        {
          "output_type": "display_data",
          "data": {
            "image/png": "[encoded data removed]",
            "text/plain": [
              "<Figure size 432x288 with 1 Axes>"
            ]
          },
          "metadata": {
            "tags": [],
            "needs_background": "light"
          }
        }
      ]
    },
    {
      "cell_type": "code",
      "metadata": {
        "colab": {
          "base_uri": "https://localhost:8080/",
          "height": 283
        },
        "id": "q5WH0JOZyYAV",
        "outputId": "dd52a3f5-5e48-4dc6-8282-8fd3bac161d1"
      },
      "source": [
        "sns.regplot(x='인구수', y='CCTV총합', data=DF, line_kws={'color':'red'})\r\n",
        "sns.regplot(x='인구수', y='CCTV총합', data=DF, line_kws={'color':'blue'}, order =2)\r\n",
        "sns.regplot(x='인구수', y='CCTV총합', data=DF, line_kws={'color':'green'}, order =5)\r\n",
        "sns.regplot(x='인구수', y='CCTV총합', data=DF, line_kws={'color':'orange'}, order =9,  scatter_kws={'color':'gray', 'edgecolor':'white'})\r\n",
        "\r\n",
        "plt.ylim(0,2500)\r\n",
        "plt.show()\r\n"
      ],
      "execution_count": 65,
      "outputs": [
        {
          "output_type": "display_data",
          "data": {
            "image/png": "[encoded data removed]",
            "text/plain": [
              "<Figure size 432x288 with 1 Axes>"
            ]
          },
          "metadata": {
            "tags": [],
            "needs_background": "light"
          }
        }
      ]
    },
    {
      "cell_type": "code",
      "metadata": {
        "colab": {
          "base_uri": "https://localhost:8080/"
        },
        "id": "giF203ervmrk",
        "outputId": "5ceb9e1f-f6de-4e9d-86dd-c318ddd4cb9e"
      },
      "source": [
        "from sklearn.model_selection import train_test_split\r\n",
        "\r\n",
        "x_remain, x_test, y_remain, y_test = train_test_split(DF[['인구수']], DF[['CCTV총합']],\r\n",
        "                                                      test_size=int(len(DF)*0.2),\r\n",
        "                                                      random_state = 2045)\r\n",
        "print(x_remain.shape, y_remain.shape)\r\n",
        "print(x_test.shape, y_test.shape)"
      ],
      "execution_count": 49,
      "outputs": [
        {
          "output_type": "stream",
          "text": [
            "(20, 1) (20, 1)\n",
            "(5, 1) (5, 1)\n"
          ],
          "name": "stdout"
        }
      ]
    },
    {
      "cell_type": "code",
      "metadata": {
        "colab": {
          "base_uri": "https://localhost:8080/"
        },
        "id": "7XfYkvPuwmFX",
        "outputId": "ee848bef-d48d-4f07-81e9-7448dea6b34e"
      },
      "source": [
        "x_train, x_vd, y_train, y_vd = train_test_split(x_remain, y_remain,\r\n",
        "                                                test_size=int(len(DF)*0.2),\r\n",
        "                                                random_state =2045)\r\n",
        "print(x_train.shape, y_train.shape)\r\n",
        "print(x_vd.shape, y_vd.shape)"
      ],
      "execution_count": 50,
      "outputs": [
        {
          "output_type": "stream",
          "text": [
            "(15, 1) (15, 1)\n",
            "(5, 1) (5, 1)\n"
          ],
          "name": "stdout"
        }
      ]
    },
    {
      "cell_type": "code",
      "metadata": {
        "colab": {
          "base_uri": "https://localhost:8080/"
        },
        "id": "7Tt75eySxSMG",
        "outputId": "9e013df7-3d38-4ef9-cc94-b2c0fb122c3e"
      },
      "source": [
        "from sklearn.linear_model import LinearRegression\r\n",
        "\r\n",
        "Model1 = LinearRegression()\r\n",
        "Model1.fit(x_train, y_train)\r\n",
        "\r\n",
        "y_hat_1 = Model1.predict(x_vd)\r\n",
        "\r\n",
        "from sklearn.metrics import mean_squared_error\r\n",
        "Err_1 = mean_squared_error(y_vd, y_hat_1)\r\n",
        "Err_1"
      ],
      "execution_count": 51,
      "outputs": [
        {
          "output_type": "execute_result",
          "data": {
            "text/plain": [
              "238951.46338906878"
            ]
          },
          "metadata": {
            "tags": []
          },
          "execution_count": 51
        }
      ]
    },
    {
      "cell_type": "code",
      "metadata": {
        "colab": {
          "base_uri": "https://localhost:8080/"
        },
        "id": "0KRvSLVkyKsm",
        "outputId": "c4bf8915-7e62-47aa-8678-c374d8d06837"
      },
      "source": [
        "from sklearn.preprocessing import PolynomialFeatures\r\n",
        "\r\n",
        "poly = PolynomialFeatures(degree = 5, include_bias=False)\r\n",
        "PX_5 = poly.fit_transform(x_train)\r\n",
        "\r\n",
        "from sklearn.linear_model import LinearRegression\r\n",
        "\r\n",
        "Model5=LinearRegression()\r\n",
        "Model5.fit(PX_5, y_train)\r\n",
        "\r\n",
        "PX_5_vd = poly.fit_transform(x_vd)\r\n",
        "y_hat_5 = Model5.predict(PX_5_vd)\r\n",
        "\r\n",
        "from sklearn.metrics import mean_squared_error\r\n",
        "Err_5 = mean_squared_error(y_vd, y_hat_5)\r\n",
        "Err_5"
      ],
      "execution_count": 66,
      "outputs": [
        {
          "output_type": "execute_result",
          "data": {
            "text/plain": [
              "877329.3691319842"
            ]
          },
          "metadata": {
            "tags": []
          },
          "execution_count": 66
        }
      ]
    },
    {
      "cell_type": "code",
      "metadata": {
        "colab": {
          "base_uri": "https://localhost:8080/"
        },
        "id": "wCcquGNB1W0k",
        "outputId": "54afa471-e1d9-4b21-af9f-86e6af0269f6"
      },
      "source": [
        "from sklearn.preprocessing import PolynomialFeatures\r\n",
        "\r\n",
        "poly=PolynomialFeatures(degree=9, include_bias=False)\r\n",
        "PX_9 = poly.fit_transform(x_train)\r\n",
        "\r\n",
        "from sklearn.linear_model import LinearRegression\r\n",
        "\r\n",
        "Model9 = LinearRegression()\r\n",
        "Model9.fit(PX_9, y_train)\r\n",
        "\r\n",
        "PX_9_vd = poly.fit_transform(x_vd)\r\n",
        "y_hat_9 = Model9.predict(PX_9_vd)\r\n",
        "\r\n",
        "from sklearn.metrics import mean_squared_error\r\n",
        "\r\n",
        "Err_9 = mean_squared_error(y_vd, y_hat_9)\r\n",
        "Err_9"
      ],
      "execution_count": 67,
      "outputs": [
        {
          "output_type": "execute_result",
          "data": {
            "text/plain": [
              "184034.14116922815"
            ]
          },
          "metadata": {
            "tags": []
          },
          "execution_count": 67
        }
      ]
    },
    {
      "cell_type": "code",
      "metadata": {
        "colab": {
          "base_uri": "https://localhost:8080/"
        },
        "id": "Pr6wedw52GOM",
        "outputId": "4462d5ed-1722-4456-e758-c5416190d359"
      },
      "source": [
        "print(Err_1)\r\n",
        "print(Err_5)\r\n",
        "print(Err_9)"
      ],
      "execution_count": 68,
      "outputs": [
        {
          "output_type": "stream",
          "text": [
            "238951.46338906878\n",
            "877329.3691319842\n",
            "184034.14116922815\n"
          ],
          "name": "stdout"
        }
      ]
    },
    {
      "cell_type": "code",
      "metadata": {
        "colab": {
          "base_uri": "https://localhost:8080/"
        },
        "id": "A2dxZwff2KXh",
        "outputId": "090f4c8a-f273-43c8-ea4d-06cfb661d89a"
      },
      "source": [
        "PX_9_TE = poly.fit_transform(x_test)\r\n",
        "\r\n",
        "mean_squared_error(y_test, Model9.predict(PX_9_TE))"
      ],
      "execution_count": 69,
      "outputs": [
        {
          "output_type": "execute_result",
          "data": {
            "text/plain": [
              "1135326.6667614416"
            ]
          },
          "metadata": {
            "tags": []
          },
          "execution_count": 69
        }
      ]
    },
    {
      "cell_type": "code",
      "metadata": {
        "colab": {
          "base_uri": "https://localhost:8080/"
        },
        "id": "gBQEj8HE2Sp2",
        "outputId": "44637b7e-3889-4334-ceae-13f0e8d7e23b"
      },
      "source": [
        "poly= PolynomialFeatures(degree =5, include_bias=False)\r\n",
        "PX_5_TE = poly.fit_transform(x_test)\r\n",
        "\r\n",
        "mean_squared_error(y_test, Model5.predict(PX_5_TE))"
      ],
      "execution_count": 70,
      "outputs": [
        {
          "output_type": "execute_result",
          "data": {
            "text/plain": [
              "719812.6712383027"
            ]
          },
          "metadata": {
            "tags": []
          },
          "execution_count": 70
        }
      ]
    },
    {
      "cell_type": "code",
      "metadata": {
        "id": "pQodUV9S26aa"
      },
      "source": [
        ""
      ],
      "execution_count": null,
      "outputs": []
    }
  ]
}