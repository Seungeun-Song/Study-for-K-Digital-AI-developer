{
 "cells": [
  {
   "cell_type": "code",
   "execution_count": 1,
   "metadata": {},
   "outputs": [
    {
     "name": "stdout",
     "output_type": "stream",
     "text": [
      "9\n",
      "36\n",
      "81\n"
     ]
    }
   ],
   "source": [
    "for n in range(1,10):\n",
    "    if n%3 ==0:\n",
    "        print(n*n)"
   ]
  },
  {
   "cell_type": "code",
   "execution_count": 5,
   "metadata": {},
   "outputs": [
    {
     "name": "stdout",
     "output_type": "stream",
     "text": [
      "[9, 36, 81]\n",
      "9,36,81,"
     ]
    }
   ],
   "source": [
    "nums=[]\n",
    "for n in range(1,10):\n",
    "    if n%3 == 0:\n",
    "        nums.append(n*n)\n",
    "        \n",
    "print(nums)\n",
    "\n",
    "for i in nums:\n",
    "    print(i,end=',')"
   ]
  },
  {
   "cell_type": "code",
   "execution_count": null,
   "metadata": {},
   "outputs": [],
   "source": []
  },
  {
   "cell_type": "code",
   "execution_count": 11,
   "metadata": {
    "scrolled": true
   },
   "outputs": [
    {
     "name": "stdout",
     "output_type": "stream",
     "text": [
      "성적을 입력하세요 : 99\n",
      "성적을 입력하세요 : 88\n",
      "성적을 입력하세요 : 77\n",
      "성적을 입력하세요 : 66\n",
      "성적을 입력하세요 : 55\n",
      "['55', '66', '77', '88', '99']\n",
      "['55', '66', '77', '88', '99']\n"
     ]
    }
   ],
   "source": [
    "nums = []\n",
    "for i in range(1,6):\n",
    "    i = input('성적을 입력하세요 : ')\n",
    "    nums.append(i)\n",
    "\n",
    "print(sorted(nums))\n",
    "\n",
    "nums.sort()\n",
    "print(nums)"
   ]
  },
  {
   "cell_type": "code",
   "execution_count": 13,
   "metadata": {},
   "outputs": [
    {
     "name": "stdout",
     "output_type": "stream",
     "text": [
      "1번 학생의 성적을 입력하세요 : 99\n",
      "2번 학생의 성적을 입력하세요 : 87\n",
      "3번 학생의 성적을 입력하세요 : 32\n",
      "4번 학생의 성적을 입력하세요 : 89\n",
      "5번 학생의 성적을 입력하세요 : 65\n",
      "[99, 87, 32, 89, 65]\n"
     ]
    }
   ],
   "source": [
    "li = []\n",
    "for i in range(1,6):\n",
    "    score = int(input(str(i)+'번 학생의 성적을 입력하세요 : '))\n",
    "    li.append(score)\n",
    "\n",
    "print(li)"
   ]
  },
  {
   "cell_type": "code",
   "execution_count": 14,
   "metadata": {},
   "outputs": [
    {
     "name": "stdout",
     "output_type": "stream",
     "text": [
      "소년\n"
     ]
    },
    {
     "ename": "KeyError",
     "evalue": "'소년'",
     "output_type": "error",
     "traceback": [
      "\u001b[1;31m---------------------------------------------------------------------------\u001b[0m",
      "\u001b[1;31mKeyError\u001b[0m                                  Traceback (most recent call last)",
      "\u001b[1;32m<ipython-input-14-ac5e4dca42ec>\u001b[0m in \u001b[0;36m<module>\u001b[1;34m\u001b[0m\n\u001b[0;32m      1\u001b[0m \u001b[0mdic\u001b[0m \u001b[1;33m=\u001b[0m \u001b[1;33m{\u001b[0m\u001b[1;34m'boy'\u001b[0m\u001b[1;33m:\u001b[0m\u001b[1;34m'소년'\u001b[0m\u001b[1;33m,\u001b[0m\u001b[1;34m'school'\u001b[0m\u001b[1;33m:\u001b[0m\u001b[1;34m'학교'\u001b[0m\u001b[1;33m,\u001b[0m\u001b[1;34m'book'\u001b[0m\u001b[1;33m:\u001b[0m\u001b[1;34m'책'\u001b[0m\u001b[1;33m}\u001b[0m\u001b[1;33m\u001b[0m\u001b[1;33m\u001b[0m\u001b[0m\n\u001b[0;32m      2\u001b[0m \u001b[0mprint\u001b[0m\u001b[1;33m(\u001b[0m\u001b[0mdic\u001b[0m\u001b[1;33m[\u001b[0m\u001b[1;34m'boy'\u001b[0m\u001b[1;33m]\u001b[0m\u001b[1;33m)\u001b[0m\u001b[1;33m\u001b[0m\u001b[1;33m\u001b[0m\u001b[0m\n\u001b[1;32m----> 3\u001b[1;33m \u001b[0mprint\u001b[0m\u001b[1;33m(\u001b[0m\u001b[0mdic\u001b[0m\u001b[1;33m[\u001b[0m\u001b[1;34m'소년'\u001b[0m\u001b[1;33m]\u001b[0m\u001b[1;33m)\u001b[0m\u001b[1;33m\u001b[0m\u001b[1;33m\u001b[0m\u001b[0m\n\u001b[0m",
      "\u001b[1;31mKeyError\u001b[0m: '소년'"
     ]
    }
   ],
   "source": [
    "dic = {'boy':'소년','school':'학교','book':'책'}\n",
    "print(dic['boy'])\n",
    "print(dic['소년'])"
   ]
  },
  {
   "cell_type": "code",
   "execution_count": 15,
   "metadata": {},
   "outputs": [
    {
     "ename": "KeyError",
     "evalue": "1",
     "output_type": "error",
     "traceback": [
      "\u001b[1;31m---------------------------------------------------------------------------\u001b[0m",
      "\u001b[1;31mKeyError\u001b[0m                                  Traceback (most recent call last)",
      "\u001b[1;32m<ipython-input-15-a57362aa7273>\u001b[0m in \u001b[0;36m<module>\u001b[1;34m\u001b[0m\n\u001b[1;32m----> 1\u001b[1;33m \u001b[0mprint\u001b[0m\u001b[1;33m(\u001b[0m\u001b[0mdic\u001b[0m\u001b[1;33m[\u001b[0m\u001b[1;36m1\u001b[0m\u001b[1;33m]\u001b[0m\u001b[1;33m)\u001b[0m\u001b[1;33m\u001b[0m\u001b[1;33m\u001b[0m\u001b[0m\n\u001b[0m",
      "\u001b[1;31mKeyError\u001b[0m: 1"
     ]
    }
   ],
   "source": [
    "print(dic[1])"
   ]
  },
  {
   "cell_type": "code",
   "execution_count": 16,
   "metadata": {},
   "outputs": [
    {
     "name": "stdout",
     "output_type": "stream",
     "text": [
      "소년\n",
      "None\n",
      "사전에 없는 단어입니다\n"
     ]
    }
   ],
   "source": [
    "print(dic.get('boy'))\n",
    "print(dic.get('student'))\n",
    "print(dic.get('student','사전에 없는 단어입니다'))"
   ]
  },
  {
   "cell_type": "code",
   "execution_count": 17,
   "metadata": {},
   "outputs": [
    {
     "name": "stdout",
     "output_type": "stream",
     "text": [
      "사전에 없는 단어입니다\n"
     ]
    }
   ],
   "source": [
    "if 'student' in dic:\n",
    "    print('사전에 있는 단어입니다')\n",
    "else:\n",
    "    print('사전에 없는 단어입니다')"
   ]
  },
  {
   "cell_type": "code",
   "execution_count": 18,
   "metadata": {},
   "outputs": [
    {
     "name": "stdout",
     "output_type": "stream",
     "text": [
      "{'boy': 'girl', 'school': '학교', 'sky': 'earth'}\n"
     ]
    }
   ],
   "source": [
    "dic['boy'] = 'girl'\n",
    "dic['sky'] = 'earth'\n",
    "del dic['book']\n",
    "print(dic)"
   ]
  },
  {
   "cell_type": "code",
   "execution_count": 20,
   "metadata": {},
   "outputs": [
    {
     "name": "stdout",
     "output_type": "stream",
     "text": [
      "{'boy': [], 'school': '학교', 'sky': 'earth'}\n"
     ]
    }
   ],
   "source": [
    "dic['boy']=[]\n",
    "print(dic)"
   ]
  },
  {
   "cell_type": "code",
   "execution_count": null,
   "metadata": {},
   "outputs": [],
   "source": []
  },
  {
   "cell_type": "code",
   "execution_count": 21,
   "metadata": {},
   "outputs": [
    {
     "name": "stdout",
     "output_type": "stream",
     "text": [
      "dict_keys(['boy', 'school', 'book'])\n",
      "dict_values(['소년', '학교', '책'])\n",
      "dict_items([('boy', '소년'), ('school', '학교'), ('book', '책')])\n"
     ]
    }
   ],
   "source": [
    "dic = {'boy':'소년','school':'학교','book':'책'}\n",
    "print(dic.keys())\n",
    "print(dic.values())\n",
    "print(dic.items())"
   ]
  },
  {
   "cell_type": "code",
   "execution_count": null,
   "metadata": {},
   "outputs": [],
   "source": [
    "keylist = dic.keys()\n",
    "for key in keylist"
   ]
  },
  {
   "cell_type": "code",
   "execution_count": 23,
   "metadata": {},
   "outputs": [
    {
     "name": "stdout",
     "output_type": "stream",
     "text": [
      "{'boy': '소년', 'school': '학교', 'book': '서적', 'student': '학생', 'teacher': '선생님'}\n"
     ]
    }
   ],
   "source": [
    "dic = {'boy':'소년','school':'학교','book':'책'}\n",
    "dic2 = {'student':'학생','teacher':'선생님','book':'서적'}\n",
    "dic.update(dic2)\n",
    "print(dic)"
   ]
  },
  {
   "cell_type": "code",
   "execution_count": 26,
   "metadata": {
    "scrolled": true
   },
   "outputs": [
    {
     "name": "stdout",
     "output_type": "stream",
     "text": [
      "{'b': 4, 'y': 5, 't': 9, 'h': 9, 'e': 23, 'r': 12, 'i': 10, 'v': 2, 's': 10, 'o': 10, 'f': 2, 'a': 12, 'l': 5, 'n': 14, 'w': 12, 'd': 6, 'p': 2, 'm': 2, 'z': 1, 'c': 3, 'k': 1, 'u': 3, 'q': 1, 'g': 4}\n"
     ]
    }
   ],
   "source": [
    "song = \"\"\"by the reivers of babylon, there we sat down\n",
    "yeah we wept, when we remenber zion.\n",
    "when the wicked carried us away in captivity\n",
    "required from us a song\n",
    "now how shall we sing the lord's song in a strange land\"\"\"\n",
    "\n",
    "alphabet = dict()\n",
    "for c in song:\n",
    "    if c.isalpha() == False:\n",
    "        continue\n",
    "    c = c.lower()\n",
    "    if c not in alphabet:\n",
    "        alphabet[c] = 1\n",
    "    else:\n",
    "        alphabet[c]+=1\n",
    "        \n",
    "print(alphabet)"
   ]
  },
  {
   "cell_type": "code",
   "execution_count": 40,
   "metadata": {},
   "outputs": [
    {
     "name": "stdout",
     "output_type": "stream",
     "text": [
      "['a', 'b', 'c', 'd', 'e', 'f', 'g', 'h', 'i', 'k', 'l', 'm', 'n', 'o', 'p', 'q', 'r', 's', 't', 'u', 'v', 'w', 'y', 'z']\n"
     ]
    }
   ],
   "source": [
    "alphabet=dict()\n",
    "for i in song:\n",
    "    if i.isalpha() == False:\n",
    "        continue\n",
    "    c = c.lower()\n",
    "    if i not in alphabet:\n",
    "        alphabet[i] = 1\n",
    "    else:\n",
    "        alphabet[i] += 1\n",
    "        \n",
    "li = list(alphabet.keys())\n",
    "li.sort()\n",
    "print(li)"
   ]
  },
  {
   "cell_type": "code",
   "execution_count": 51,
   "metadata": {},
   "outputs": [
    {
     "name": "stdout",
     "output_type": "stream",
     "text": [
      "a = 12\n",
      "b = 4\n",
      "c = 3\n",
      "d = 6\n",
      "e = 23\n",
      "f = 2\n",
      "g = 4\n",
      "h = 9\n",
      "i = 10\n",
      "j = 0\n",
      "k = 1\n",
      "l = 5\n",
      "m = 2\n",
      "n = 14\n",
      "o = 10\n",
      "p = 2\n",
      "q = 1\n",
      "r = 12\n",
      "s = 10\n",
      "t = 9\n",
      "u = 3\n",
      "v = 2\n",
      "w = 12\n",
      "x = 0\n",
      "y = 5\n",
      "z = 1\n"
     ]
    }
   ],
   "source": [
    "alphabet =dict()\n",
    "for i in song:\n",
    "    if i.isalpha()==False:\n",
    "        continue\n",
    "    i = i.lower()\n",
    "    if i not in alphabet:\n",
    "        alphabet[i] =1\n",
    "    else:\n",
    "        alphabet[i] += 1\n",
    "\n",
    "for a in range(ord('a'),ord('z')+1):\n",
    "    c = chr(a)\n",
    "    num = alphabet.get(c,0)\n",
    "    print(c, '=', num)"
   ]
  },
  {
   "cell_type": "code",
   "execution_count": 52,
   "metadata": {},
   "outputs": [
    {
     "name": "stdout",
     "output_type": "stream",
     "text": [
      "{'korea', 'china', 'japan'}\n"
     ]
    }
   ],
   "source": [
    "asia = {'korea','china','japan','korea'}\n",
    "print(asia)"
   ]
  },
  {
   "cell_type": "code",
   "execution_count": 53,
   "metadata": {},
   "outputs": [
    {
     "name": "stdout",
     "output_type": "stream",
     "text": [
      "{'m', 'u', 's', 'g', 'y', 'a', 'n', 'h'}\n",
      "{56, 34, 12, 78}\n",
      "{'신지희', '김태륜', '한주완'}\n",
      "{'boy', 'school', 'book'}\n",
      "set()\n"
     ]
    }
   ],
   "source": [
    "print(set('samghyung'))\n",
    "print(set([12,34,56,78]))\n",
    "print(set({'신지희','한주완','김태륜'}))\n",
    "print(set({'boy':'소년','school':'학교','book':'책'}))\n",
    "print(set())"
   ]
  },
  {
   "cell_type": "code",
   "execution_count": 61,
   "metadata": {},
   "outputs": [
    {
     "name": "stdout",
     "output_type": "stream",
     "text": [
      "{'korea', 'china', 'vietnam', 'japan'}\n"
     ]
    }
   ],
   "source": [
    "asia =  {'korea','china','japan'}\n",
    "asia.add('vietnam')\n",
    "print(asia)"
   ]
  },
  {
   "cell_type": "code",
   "execution_count": 62,
   "metadata": {},
   "outputs": [
    {
     "name": "stdout",
     "output_type": "stream",
     "text": [
      "{'korea', 'china', 'vietnam', 'japan'}\n"
     ]
    }
   ],
   "source": [
    "asia.add('china')\n",
    "print(asia)"
   ]
  },
  {
   "cell_type": "code",
   "execution_count": 63,
   "metadata": {},
   "outputs": [
    {
     "name": "stdout",
     "output_type": "stream",
     "text": [
      "{'korea', 'china', 'vietnam'}\n"
     ]
    }
   ],
   "source": [
    "asia.remove('japan')\n",
    "print(asia)"
   ]
  },
  {
   "cell_type": "code",
   "execution_count": 64,
   "metadata": {},
   "outputs": [
    {
     "name": "stdout",
     "output_type": "stream",
     "text": [
      "{'singapore', 'korea', 'hongkong', 'china', 'vietnam'}\n"
     ]
    }
   ],
   "source": [
    "asia.update({'singapore','hongkong','korea'})\n",
    "print(asia)"
   ]
  },
  {
   "cell_type": "code",
   "execution_count": 66,
   "metadata": {},
   "outputs": [
    {
     "name": "stdout",
     "output_type": "stream",
     "text": [
      "None\n",
      "{'singapore', 'korea', 'japan', 'hongkong', 'china'}\n"
     ]
    }
   ],
   "source": [
    "a = {'korea','china','japan'}\n",
    "b = {'singapore','hongkong','korea'}\n",
    "a.update(b)\n",
    "print(a)"
   ]
  },
  {
   "cell_type": "code",
   "execution_count": 72,
   "metadata": {},
   "outputs": [
    {
     "name": "stdout",
     "output_type": "stream",
     "text": [
      "green\n",
      "green\n"
     ]
    }
   ],
   "source": [
    "rainbow  ={'빨':'red', '주':'orange','노':'yellow','초':'green','파':'blue','남':'indigo','보':'purple'}\n",
    "print(rainbow.get('초'))\n",
    "print(rainbow['초'])"
   ]
  },
  {
   "cell_type": "code",
   "execution_count": 74,
   "metadata": {},
   "outputs": [
    {
     "name": "stdout",
     "output_type": "stream",
     "text": [
      "1번째 학생의 성적 :  88\n",
      "2번째 학생의 성적 :  95\n",
      "3번째 학생의 성적 :  70\n",
      "4번째 학생의 성적 :  100\n",
      "5번째 학생의 성적 :  99\n"
     ]
    }
   ],
   "source": [
    "no = 1\n",
    "score = [88, 95, 70, 100, 99]\n",
    "for i in score:\n",
    "    print(str(no)+'번째 학생의 성적 : ',i)\n",
    "    no += 1"
   ]
  },
  {
   "cell_type": "code",
   "execution_count": 76,
   "metadata": {},
   "outputs": [
    {
     "name": "stdout",
     "output_type": "stream",
     "text": [
      "1번 학생의 성적 : 88\n",
      "2번 학생의 성적 : 95\n",
      "3번 학생의 성적 : 70\n",
      "4번 학생의 성적 : 100\n",
      "5번 학생의 성적 : 99\n"
     ]
    }
   ],
   "source": [
    "for i in range(len(score)):\n",
    "    print(str(i+1)+'번 학생의 성적 :',score[i])"
   ]
  },
  {
   "cell_type": "code",
   "execution_count": 77,
   "metadata": {},
   "outputs": [
    {
     "name": "stdout",
     "output_type": "stream",
     "text": [
      "1번째 학생의 성적 : 88\n",
      "2번째 학생의 성적 : 95\n",
      "3번째 학생의 성적 : 70\n",
      "4번째 학생의 성적 : 100\n",
      "5번째 학생의 성적 : 99\n"
     ]
    }
   ],
   "source": [
    "for i in range(len(score)):\n",
    "    print(str(i+1)+'번째 학생의 성적 :',score[i])"
   ]
  },
  {
   "cell_type": "code",
   "execution_count": 81,
   "metadata": {},
   "outputs": [
    {
     "name": "stdout",
     "output_type": "stream",
     "text": [
      "1 / 88\n",
      "1번째 학생의 성적 : 88\n",
      "\n",
      "2 / 95\n",
      "2번째 학생의 성적 : 95\n",
      "\n",
      "3 / 70\n",
      "3번째 학생의 성적 : 70\n",
      "\n",
      "4 / 100\n",
      "4번째 학생의 성적 : 100\n",
      "\n",
      "5 / 99\n",
      "5번째 학생의 성적 : 99\n",
      "\n"
     ]
    }
   ],
   "source": [
    "for a, b in enumerate(score, 1):\n",
    "    print(a,'/',b)\n",
    "    print(str(a)+'번째 학생의 성적 :', b)\n",
    "    print()"
   ]
  },
  {
   "cell_type": "code",
   "execution_count": 78,
   "metadata": {},
   "outputs": [
    {
     "name": "stdout",
     "output_type": "stream",
     "text": [
      "Help on class enumerate in module builtins:\n",
      "\n",
      "class enumerate(object)\n",
      " |  enumerate(iterable, start=0)\n",
      " |  \n",
      " |  Return an enumerate object.\n",
      " |  \n",
      " |    iterable\n",
      " |      an object supporting iteration\n",
      " |  \n",
      " |  The enumerate object yields pairs containing a count (from start, which\n",
      " |  defaults to zero) and a value yielded by the iterable argument.\n",
      " |  \n",
      " |  enumerate is useful for obtaining an indexed list:\n",
      " |      (0, seq[0]), (1, seq[1]), (2, seq[2]), ...\n",
      " |  \n",
      " |  Methods defined here:\n",
      " |  \n",
      " |  __getattribute__(self, name, /)\n",
      " |      Return getattr(self, name).\n",
      " |  \n",
      " |  __iter__(self, /)\n",
      " |      Implement iter(self).\n",
      " |  \n",
      " |  __next__(self, /)\n",
      " |      Implement next(self).\n",
      " |  \n",
      " |  __reduce__(...)\n",
      " |      Return state information for pickling.\n",
      " |  \n",
      " |  ----------------------------------------------------------------------\n",
      " |  Static methods defined here:\n",
      " |  \n",
      " |  __new__(*args, **kwargs) from builtins.type\n",
      " |      Create and return a new object.  See help(type) for accurate signature.\n",
      "\n"
     ]
    }
   ],
   "source": [
    "help(enumerate)"
   ]
  },
  {
   "cell_type": "code",
   "execution_count": 84,
   "metadata": {},
   "outputs": [
    {
     "name": "stdout",
     "output_type": "stream",
     "text": [
      "<zip object at 0x0000027A30A7D4C0>\n",
      "{'월': '갈비탕', '화': '순대국', '수': '칼국수', '목': '삼겹살'}\n",
      "월요일 메뉴: 갈비탕\n",
      "화요일 메뉴: 순대국\n",
      "수요일 메뉴: 칼국수\n",
      "목요일 메뉴: 삼겹살\n"
     ]
    }
   ],
   "source": [
    "yoil = ['월','화','수','목','금','토','일']\n",
    "food = ['갈비탕','순대국','칼국수','삼겹살']\n",
    "menu = zip(yoil,food)\n",
    "print(menu)\n",
    "menu2 = dict(zip(yoil,food))\n",
    "print(menu2)\n",
    "for y,f in menu:\n",
    "    print('%s요일 메뉴: %s'%(y,f))"
   ]
  },
  {
   "cell_type": "code",
   "execution_count": 90,
   "metadata": {},
   "outputs": [
    {
     "name": "stdout",
     "output_type": "stream",
     "text": [
      "월요일 메뉴 :갈비탕\n",
      "화요일 메뉴 :순대국\n",
      "수요일 메뉴 :칼국수\n",
      "목요일 메뉴 :삼겹살\n"
     ]
    }
   ],
   "source": [
    "menu = zip(yoil,food)\n",
    "for a, b in menu:\n",
    "    print('%s요일 메뉴 :%s'%(a,b))"
   ]
  },
  {
   "cell_type": "code",
   "execution_count": 93,
   "metadata": {},
   "outputs": [
    {
     "name": "stdout",
     "output_type": "stream",
     "text": [
      "<zip object at 0x0000027A30816540>\n"
     ]
    }
   ],
   "source": [
    "yoil = ['월','화','수','목','금','토','일']\n",
    "food = ['갈비탕','순대국','칼국수','삼겹살']\n",
    "mood = ['happy','soso','bad','not bad']\n",
    "menu = zip(yoil, food, mood)\n",
    "print(menu)"
   ]
  },
  {
   "cell_type": "code",
   "execution_count": 94,
   "metadata": {},
   "outputs": [
    {
     "name": "stdout",
     "output_type": "stream",
     "text": [
      "월요일 메뉴 : 갈비탕, happy\n",
      "화요일 메뉴 : 순대국, soso\n",
      "수요일 메뉴 : 칼국수, bad\n",
      "목요일 메뉴 : 삼겹살, not bad\n"
     ]
    }
   ],
   "source": [
    "for a, b, c in menu:\n",
    "    print('%s요일 메뉴 : %s, %s'%(a,b,c))"
   ]
  },
  {
   "cell_type": "code",
   "execution_count": 95,
   "metadata": {},
   "outputs": [
    {
     "name": "stdout",
     "output_type": "stream",
     "text": [
      "True\n",
      "False\n"
     ]
    }
   ],
   "source": [
    "adult=[True, False, True, False]\n",
    "print(any(adult))\n",
    "print(all(adult))"
   ]
  },
  {
   "cell_type": "code",
   "execution_count": 103,
   "metadata": {},
   "outputs": [
    {
     "name": "stdout",
     "output_type": "stream",
     "text": [
      "45\n",
      "53\n"
     ]
    }
   ],
   "source": [
    "def flunk(s):\n",
    "    return s < 60\n",
    "\n",
    "score = [45,89,72,53,94]\n",
    "for i in filter(flunk,score):\n",
    "    print(i)"
   ]
  },
  {
   "cell_type": "code",
   "execution_count": 107,
   "metadata": {},
   "outputs": [
    {
     "name": "stdout",
     "output_type": "stream",
     "text": [
      "1번째 학생 낙제 \n",
      "점수 : 45\n",
      "2번째 학생 낙제 \n",
      "점수 : 53\n"
     ]
    }
   ],
   "source": [
    "n = 1\n",
    "for s in score:\n",
    "    if flunk(s):\n",
    "        print('%d번째 학생 낙제'%n,'\\n'+'점수 : %d'%s)\n",
    "    else:\n",
    "        continue\n",
    "    n +=1"
   ]
  },
  {
   "cell_type": "code",
   "execution_count": 105,
   "metadata": {},
   "outputs": [
    {
     "data": {
      "text/plain": [
       "True"
      ]
     },
     "execution_count": 105,
     "metadata": {},
     "output_type": "execute_result"
    }
   ],
   "source": [
    "flunk(45)"
   ]
  },
  {
   "cell_type": "code",
   "execution_count": 113,
   "metadata": {},
   "outputs": [
    {
     "name": "stdout",
     "output_type": "stream",
     "text": [
      "22.5/44.5/36.0/26.5/47.0/\n"
     ]
    }
   ],
   "source": [
    "def half(s):\n",
    "    return s/2\n",
    "\n",
    "score = [45, 89, 72, 53, 94]\n",
    "for s in map(half, score):\n",
    "    print(s, end='/')\n",
    "    \n",
    "print()\n"
   ]
  },
  {
   "cell_type": "code",
   "execution_count": 116,
   "metadata": {},
   "outputs": [
    {
     "name": "stdout",
     "output_type": "stream",
     "text": [
      "22.5/44.5/36.0/26.5/47.0/"
     ]
    }
   ],
   "source": [
    "for s in score:\n",
    "    print(half(s),end='/')"
   ]
  },
  {
   "cell_type": "code",
   "execution_count": 118,
   "metadata": {},
   "outputs": [
    {
     "name": "stdout",
     "output_type": "stream",
     "text": [
      "47,92,72,53,99,"
     ]
    }
   ],
   "source": [
    "def total(s,b):\n",
    "    return s + b\n",
    "\n",
    "score = [45,89,72,53,94]\n",
    "bonus = [2,3,0,0,5]\n",
    "for s in map(total, score, bonus):\n",
    "    print(s, end=',')"
   ]
  },
  {
   "cell_type": "code",
   "execution_count": 119,
   "metadata": {},
   "outputs": [
    {
     "name": "stdout",
     "output_type": "stream",
     "text": [
      "47/92/72/53/99/"
     ]
    }
   ],
   "source": [
    "for s in map(total, bonus, score):\n",
    "    print(s, end='/')"
   ]
  },
  {
   "cell_type": "code",
   "execution_count": 124,
   "metadata": {},
   "outputs": [
    {
     "ename": "SyntaxError",
     "evalue": "invalid syntax (<ipython-input-124-088601a80e87>, line 2)",
     "output_type": "error",
     "traceback": [
      "\u001b[1;36m  File \u001b[1;32m\"<ipython-input-124-088601a80e87>\"\u001b[1;36m, line \u001b[1;32m2\u001b[0m\n\u001b[1;33m    print(lambda(3))\u001b[0m\n\u001b[1;37m                ^\u001b[0m\n\u001b[1;31mSyntaxError\u001b[0m\u001b[1;31m:\u001b[0m invalid syntax\n"
     ]
    }
   ],
   "source": [
    "lambda x : (x+1)\n",
    "print(lambda(3))"
   ]
  },
  {
   "cell_type": "code",
   "execution_count": 123,
   "metadata": {},
   "outputs": [
    {
     "name": "stdout",
     "output_type": "stream",
     "text": [
      "3\n"
     ]
    }
   ],
   "source": [
    "def a(x):\n",
    "    return x+1\n",
    "\n",
    "print(a(2))"
   ]
  },
  {
   "cell_type": "code",
   "execution_count": 125,
   "metadata": {},
   "outputs": [
    {
     "name": "stdout",
     "output_type": "stream",
     "text": [
      "45\n",
      "53\n"
     ]
    }
   ],
   "source": [
    "score = [45, 89, 72, 53, 94]\n",
    "for s in filter(lambda x : x<60, score):\n",
    "    print(s)"
   ]
  },
  {
   "cell_type": "code",
   "execution_count": 129,
   "metadata": {},
   "outputs": [
    {
     "name": "stdout",
     "output_type": "stream",
     "text": [
      "45\n",
      "89\n",
      "72\n",
      "53\n",
      "94\n"
     ]
    }
   ],
   "source": [
    "for s in filter(lambda x: x*2, score):\n",
    "    print(s)"
   ]
  },
  {
   "cell_type": "code",
   "execution_count": 128,
   "metadata": {},
   "outputs": [
    {
     "name": "stdout",
     "output_type": "stream",
     "text": [
      "90\n",
      "178\n",
      "144\n",
      "106\n",
      "188\n"
     ]
    }
   ],
   "source": [
    "for s in map(lambda x: x*2, score):\n",
    "    print(s)"
   ]
  },
  {
   "cell_type": "code",
   "execution_count": 130,
   "metadata": {},
   "outputs": [
    {
     "name": "stdout",
     "output_type": "stream",
     "text": [
      "22.5\n",
      "44.5\n",
      "36.0\n",
      "26.5\n",
      "47.0\n"
     ]
    }
   ],
   "source": [
    "for s in map(lambda x: x/2, score):\n",
    "    print(s)"
   ]
  },
  {
   "cell_type": "code",
   "execution_count": 135,
   "metadata": {},
   "outputs": [
    {
     "name": "stdout",
     "output_type": "stream",
     "text": [
      "a=3, b=3\n"
     ]
    }
   ],
   "source": [
    "a = 3\n",
    "b = a\n",
    "print('a=%d, b=%d'%(a,b))"
   ]
  },
  {
   "cell_type": "code",
   "execution_count": 136,
   "metadata": {},
   "outputs": [
    {
     "name": "stdout",
     "output_type": "stream",
     "text": [
      "a=5, b=3\n"
     ]
    }
   ],
   "source": [
    "a = 5\n",
    "print('a=%d, b=%d'%(a,b))"
   ]
  },
  {
   "cell_type": "code",
   "execution_count": 137,
   "metadata": {},
   "outputs": [
    {
     "name": "stdout",
     "output_type": "stream",
     "text": [
      "a=5, b=7\n"
     ]
    }
   ],
   "source": [
    "b = 7\n",
    "print('a=%s, b=%s'%(a,b))"
   ]
  },
  {
   "cell_type": "code",
   "execution_count": 133,
   "metadata": {},
   "outputs": [
    {
     "name": "stdout",
     "output_type": "stream",
     "text": [
      "[1, 2, 100]\n",
      "[1, 2, 100]\n"
     ]
    }
   ],
   "source": [
    "list1 = [1,2,3]\n",
    "list2 = list1\n",
    "\n",
    "list2[2]=100\n",
    "print(list1)\n",
    "print(list2)"
   ]
  },
  {
   "cell_type": "code",
   "execution_count": 138,
   "metadata": {},
   "outputs": [
    {
     "name": "stdout",
     "output_type": "stream",
     "text": [
      "[1, 44444, 100]\n",
      "[1, 44444, 100]\n"
     ]
    }
   ],
   "source": [
    "list1[1]=44444\n",
    "print(list1)\n",
    "print(list2)"
   ]
  },
  {
   "cell_type": "code",
   "execution_count": 139,
   "metadata": {},
   "outputs": [
    {
     "name": "stdout",
     "output_type": "stream",
     "text": [
      "[1, 2, 3]\n",
      "[1, 100, 3]\n"
     ]
    }
   ],
   "source": [
    "list1 = [1,2,3]\n",
    "list2 = list1.copy()\n",
    "\n",
    "list2[1]=100\n",
    "print(list1)\n",
    "print(list2)"
   ]
  },
  {
   "cell_type": "code",
   "execution_count": 140,
   "metadata": {
    "scrolled": true
   },
   "outputs": [
    {
     "name": "stdout",
     "output_type": "stream",
     "text": [
      "[1, 2, 7777]\n",
      "[1, 2, 3]\n"
     ]
    }
   ],
   "source": [
    "list1 = [1,2,3]\n",
    "list2 = list1.copy()\n",
    "\n",
    "list1[2]=7777\n",
    "print(list1)\n",
    "print(list2)"
   ]
  },
  {
   "cell_type": "code",
   "execution_count": 146,
   "metadata": {},
   "outputs": [
    {
     "name": "stdout",
     "output_type": "stream",
     "text": [
      "[[1, 2], 1, 2]\n",
      "\n",
      "[1, '---']\n",
      "[[1, '---'], 1, 2]\n",
      "[[1, '---'], 1, 2]\n"
     ]
    }
   ],
   "source": [
    "list0=[1,2]\n",
    "list1=[list0,1,2]\n",
    "list2=list1.copy()\n",
    "print(list2)\n",
    "print()\n",
    "\n",
    "list2[0][1]=\"---\"\n",
    "print(list0)\n",
    "print(list1)\n",
    "print(list2)"
   ]
  },
  {
   "cell_type": "code",
   "execution_count": 150,
   "metadata": {},
   "outputs": [
    {
     "data": {
      "text/plain": [
       "2723826756160"
      ]
     },
     "execution_count": 150,
     "metadata": {},
     "output_type": "execute_result"
    }
   ],
   "source": [
    "id(list1[0])"
   ]
  },
  {
   "cell_type": "code",
   "execution_count": 148,
   "metadata": {},
   "outputs": [
    {
     "data": {
      "text/plain": [
       "2723826756160"
      ]
     },
     "execution_count": 148,
     "metadata": {},
     "output_type": "execute_result"
    }
   ],
   "source": [
    "id(list2[0])"
   ]
  },
  {
   "cell_type": "code",
   "execution_count": 149,
   "metadata": {},
   "outputs": [
    {
     "data": {
      "text/plain": [
       "2723826756160"
      ]
     },
     "execution_count": 149,
     "metadata": {},
     "output_type": "execute_result"
    }
   ],
   "source": [
    "id(list0)"
   ]
  },
  {
   "cell_type": "code",
   "execution_count": 151,
   "metadata": {},
   "outputs": [
    {
     "name": "stdout",
     "output_type": "stream",
     "text": [
      "[[1, 2], 1, 2]\n",
      "\n",
      "[1, 2]\n",
      "[[1, 2], 1, 2]\n",
      "[[1, '---'], 1, 2]\n"
     ]
    }
   ],
   "source": [
    "import copy\n",
    "\n",
    "list0=[1,2]\n",
    "list1=[list0,1,2]\n",
    "list2=copy.deepcopy(list1)\n",
    "print(list2)\n",
    "print()\n",
    "\n",
    "list2[0][1] = '---'\n",
    "print(list0)\n",
    "print(list1)\n",
    "print(list2)"
   ]
  },
  {
   "cell_type": "code",
   "execution_count": 153,
   "metadata": {},
   "outputs": [
    {
     "name": "stdout",
     "output_type": "stream",
     "text": [
      "[1, 2, 3]\n",
      "[1, 2, 3]\n",
      "[1, 2, 3]\n",
      "1==2 True\n",
      "1==3 False\n",
      "2==3 False\n"
     ]
    }
   ],
   "source": [
    "list1 = [1,2,3]\n",
    "list2 = list1\n",
    "list3 = list1.copy()\n",
    "\n",
    "print(list1)\n",
    "print(list2)\n",
    "print(list3)\n",
    "\n",
    "print('1==2', list1 is list2)\n",
    "print('1==3', list1 is list3)\n",
    "print('2==3', list2 is list3)"
   ]
  },
  {
   "cell_type": "code",
   "execution_count": 154,
   "metadata": {},
   "outputs": [
    {
     "name": "stdout",
     "output_type": "stream",
     "text": [
      "a = 1, b = 1 : True\n",
      "a = 1, b = 2 : False\n"
     ]
    }
   ],
   "source": [
    "a = 1\n",
    "b = a\n",
    "print('a = %s, b = %s :'%(a,b), a is b)\n",
    "\n",
    "b = 2\n",
    "print('a = %s, b = %s :'%(a,b), a is b)"
   ]
  },
  {
   "cell_type": "code",
   "execution_count": 156,
   "metadata": {},
   "outputs": [
    {
     "name": "stdout",
     "output_type": "stream",
     "text": [
      "[1, 2, 3, 4, 5, 6, 7, 8, 9, 10]\n",
      "[1, 4, 9, 16, 25, 36, 49, 64, 81, 100]\n",
      "\n",
      "{1: 1, 2: 4, 3: 9, 4: 16, 5: 25, 6: 36, 7: 49, 8: 64, 9: 81, 10: 100}\n",
      "36\n"
     ]
    }
   ],
   "source": [
    "a = [n for n in range(1,11)]\n",
    "b = [n*n for n in range(1,11)]\n",
    "print(a)\n",
    "print(b)\n",
    "print()\n",
    "c = dict(zip(a,b))\n",
    "print(c)\n",
    "print(c[6])"
   ]
  },
  {
   "cell_type": "code",
   "execution_count": 157,
   "metadata": {},
   "outputs": [
    {
     "name": "stdout",
     "output_type": "stream",
     "text": [
      "2800.0\n",
      "4800.0\n",
      "8000.0\n",
      "40000.0\n",
      "104000.0\n"
     ]
    }
   ],
   "source": [
    "price = [3500, 6000, 10000, 50000, 130000]\n",
    "\n",
    "def calc(n):\n",
    "    return n*0.8\n",
    "\n",
    "for i in map(calc,price):\n",
    "    print(i)"
   ]
  },
  {
   "cell_type": "code",
   "execution_count": 158,
   "metadata": {},
   "outputs": [
    {
     "name": "stdout",
     "output_type": "stream",
     "text": [
      "2800.0\n",
      "4800.0\n",
      "8000.0\n",
      "40000.0\n",
      "104000.0\n"
     ]
    }
   ],
   "source": [
    "for i in map(lambda x:x*0.8, price):\n",
    "    print(i)"
   ]
  },
  {
   "cell_type": "code",
   "execution_count": 159,
   "metadata": {},
   "outputs": [
    {
     "name": "stdout",
     "output_type": "stream",
     "text": [
      "100\n"
     ]
    }
   ],
   "source": [
    "# 예제\n",
    "score = [77,88,99,66,55]\n",
    "score2 = score\n",
    "score2[3]=100\n",
    "print(score[3])"
   ]
  },
  {
   "cell_type": "code",
   "execution_count": 160,
   "metadata": {},
   "outputs": [
    {
     "name": "stdout",
     "output_type": "stream",
     "text": [
      "1.4142135623730951\n"
     ]
    }
   ],
   "source": [
    "import math\n",
    "print(math.sqrt(2))"
   ]
  },
  {
   "cell_type": "code",
   "execution_count": 161,
   "metadata": {},
   "outputs": [
    {
     "name": "stdout",
     "output_type": "stream",
     "text": [
      "1.4142135623730951\n"
     ]
    }
   ],
   "source": [
    "from math import sqrt\n",
    "print(sqrt(2))"
   ]
  },
  {
   "cell_type": "code",
   "execution_count": 162,
   "metadata": {},
   "outputs": [
    {
     "name": "stdout",
     "output_type": "stream",
     "text": [
      "1.4142135623730951\n"
     ]
    }
   ],
   "source": [
    "import math as m\n",
    "print(m.sqrt(2))"
   ]
  },
  {
   "cell_type": "code",
   "execution_count": 163,
   "metadata": {},
   "outputs": [
    {
     "name": "stdout",
     "output_type": "stream",
     "text": [
      "1.4142135623730951\n"
     ]
    }
   ],
   "source": [
    "from math import sqrt as sq\n",
    "print(sq(2))"
   ]
  },
  {
   "cell_type": "code",
   "execution_count": 164,
   "metadata": {},
   "outputs": [
    {
     "name": "stdout",
     "output_type": "stream",
     "text": [
      "1612188255.4424586\n"
     ]
    }
   ],
   "source": [
    "import time\n",
    "print(time.time())"
   ]
  },
  {
   "cell_type": "code",
   "execution_count": 166,
   "metadata": {},
   "outputs": [
    {
     "name": "stdout",
     "output_type": "stream",
     "text": [
      "Mon Feb  1 23:05:04 2021\n"
     ]
    }
   ],
   "source": [
    "import time\n",
    "\n",
    "t = time.time()\n",
    "print(time.ctime(t))"
   ]
  },
  {
   "cell_type": "code",
   "execution_count": 167,
   "metadata": {},
   "outputs": [
    {
     "name": "stdout",
     "output_type": "stream",
     "text": [
      "Mon Feb  1 23:05:15 2021\n"
     ]
    }
   ],
   "source": [
    "print(time.ctime())"
   ]
  },
  {
   "cell_type": "code",
   "execution_count": 168,
   "metadata": {},
   "outputs": [
    {
     "name": "stdout",
     "output_type": "stream",
     "text": [
      "time.struct_time(tm_year=2021, tm_mon=2, tm_mday=1, tm_hour=23, tm_min=5, tm_sec=56, tm_wday=0, tm_yday=32, tm_isdst=0)\n"
     ]
    }
   ],
   "source": [
    "import time\n",
    "\n",
    "t = time.time()\n",
    "print(time.localtime(t))"
   ]
  },
  {
   "cell_type": "code",
   "execution_count": 172,
   "metadata": {},
   "outputs": [
    {
     "name": "stdout",
     "output_type": "stream",
     "text": [
      "2021년 2월 1일\n",
      "23:8:30\n"
     ]
    }
   ],
   "source": [
    "import time\n",
    "now = time.localtime()\n",
    "print('%d년 %d월 %d일' %(now.tm_year,now.tm_mon,now.tm_mday))\n",
    "print('%d:%d:%d' %(now.tm_hour, now.tm_min, now.tm_sec))"
   ]
  },
  {
   "cell_type": "code",
   "execution_count": 173,
   "metadata": {},
   "outputs": [
    {
     "name": "stdout",
     "output_type": "stream",
     "text": [
      "0,1,2,3,4,5,6,7,8,9,10,11,12,13,14,15,16,17,18,19,20,21,22,23,24,25,26,27,28,29,30,31,32,33,34,35,36,37,38,39,40,41,42,43,44,45,46,47,48,49,50,51,52,53,54,55,56,57,58,59,60,61,62,63,64,65,66,67,68,69,70,71,72,73,74,75,76,77,78,79,80,81,82,83,84,85,86,87,88,89,90,91,92,93,94,95,96,97,98,99,100,101,102,103,104,105,106,107,108,109,110,111,112,113,114,115,116,117,118,119,120,121,122,123,124,125,126,127,128,129,130,131,132,133,134,135,136,137,138,139,140,141,142,143,144,145,146,147,148,149,150,151,152,153,154,155,156,157,158,159,160,161,162,163,164,165,166,167,168,169,170,171,172,173,174,175,176,177,178,179,180,181,182,183,184,185,186,187,188,189,190,191,192,193,194,195,196,197,198,199,200,201,202,203,204,205,206,207,208,209,210,211,212,213,214,215,216,217,218,219,220,221,222,223,224,225,226,227,228,229,230,231,232,233,234,235,236,237,238,239,240,241,242,243,244,245,246,247,248,249,250,251,252,253,254,255,256,257,258,259,260,261,262,263,264,265,266,267,268,269,270,271,272,273,274,275,276,277,278,279,280,281,282,283,284,285,286,287,288,289,290,291,292,293,294,295,296,297,298,299,300,301,302,303,304,305,306,307,308,309,310,311,312,313,314,315,316,317,318,319,320,321,322,323,324,325,326,327,328,329,330,331,332,333,334,335,336,337,338,339,340,341,342,343,344,345,346,347,348,349,350,351,352,353,354,355,356,357,358,359,360,361,362,363,364,365,366,367,368,369,370,371,372,373,374,375,376,377,378,379,380,381,382,383,384,385,386,387,388,389,390,391,392,393,394,395,396,397,398,399,400,401,402,403,404,405,406,407,408,409,410,411,412,413,414,415,416,417,418,419,420,421,422,423,424,425,426,427,428,429,430,431,432,433,434,435,436,437,438,439,440,441,442,443,444,445,446,447,448,449,450,451,452,453,454,455,456,457,458,459,460,461,462,463,464,465,466,467,468,469,470,471,472,473,474,475,476,477,478,479,480,481,482,483,484,485,486,487,488,489,490,491,492,493,494,495,496,497,498,499,500,501,502,503,504,505,506,507,508,509,510,511,512,513,514,515,516,517,518,519,520,521,522,523,524,525,526,527,528,529,530,531,532,533,534,535,536,537,538,539,540,541,542,543,544,545,546,547,548,549,550,551,552,553,554,555,556,557,558,559,560,561,562,563,564,565,566,567,568,569,570,571,572,573,574,575,576,577,578,579,580,581,582,583,584,585,586,587,588,589,590,591,592,593,594,595,596,597,598,599,600,601,602,603,604,605,606,607,608,609,610,611,612,613,614,615,616,617,618,619,620,621,622,623,624,625,626,627,628,629,630,631,632,633,634,635,636,637,638,639,640,641,642,643,644,645,646,647,648,649,650,651,652,653,654,655,656,657,658,659,660,661,662,663,664,665,666,667,668,669,670,671,672,673,674,675,676,677,678,679,680,681,682,683,684,685,686,687,688,689,690,691,692,693,694,695,696,697,698,699,700,701,702,703,704,705,706,707,708,709,710,711,712,713,714,715,716,717,718,719,720,721,722,723,724,725,726,727,728,729,730,731,732,733,734,735,736,737,738,739,740,741,742,743,744,745,746,747,748,749,750,751,752,753,754,755,756,757,758,759,760,761,762,763,764,765,766,767,768,769,770,771,772,773,774,775,776,777,778,779,780,781,782,783,784,785,786,787,788,789,790,791,792,793,794,795,796,797,798,799,800,801,802,803,804,805,806,807,808,809,810,811,812,813,814,815,816,817,818,819,820,821,822,823,824,825,826,827,828,829,830,831,832,833,834,835,836,837,838,839,840,841,842,843,844,845,846,847,848,849,850,851,852,853,854,855,856,857,858,859,860,861,862,863,864,865,866,867,868,869,870,871,872,873,874,875,876,877,878,879,880,881,882,883,884,885,886,887,888,889,890,891,892,893,894,895,896,897,898,899,900,901,902,903,904,905,906,907,908,909,910,911,912,913,914,915,916,917,918,919,920,921,922,923,924,925,926,927,928,929,930,931,932,933,934,935,936,937,938,939,940,941,942,943,944,945,946,947,948,949,950,951,952,953,954,955,956,957,958,959,960,961,962,963,964,965,966,967,968,969,970,971,972,973,974,975,976,977,978,979,980,981,982,983,984,985,986,987,988,989,990,991,992,993,994,995,996,997,998,999,\n",
      "\n",
      "0.07602286338806152\n"
     ]
    }
   ],
   "source": [
    "import time\n",
    "start = time.time()\n",
    "for a in range(1000):\n",
    "    print(a,end=',')\n",
    "print()\n",
    "print()\n",
    "end = time.time()\n",
    "print(end-start)"
   ]
  },
  {
   "cell_type": "code",
   "execution_count": 174,
   "metadata": {},
   "outputs": [
    {
     "name": "stdout",
     "output_type": "stream",
     "text": [
      "안녕하세요\n",
      "밤에 성시경이 두 명 있으면 뭘까요?\n",
      "야간투시경입니다\n"
     ]
    }
   ],
   "source": [
    "import time\n",
    "\n",
    "print('안녕하세요')\n",
    "time.sleep(2)\n",
    "print('밤에 성시경이 두 명 있으면 뭘까요?')\n",
    "time.sleep(4)\n",
    "print('야간투시경입니다')"
   ]
  },
  {
   "cell_type": "code",
   "execution_count": 178,
   "metadata": {
    "scrolled": true
   },
   "outputs": [
    {
     "name": "stdout",
     "output_type": "stream",
     "text": [
      "2 단\n",
      "2 * 1 = 2\n",
      "2 * 2 = 4\n",
      "2 * 3 = 6\n",
      "2 * 4 = 8\n",
      "2 * 5 = 10\n",
      "2 * 6 = 12\n",
      "2 * 7 = 14\n",
      "2 * 8 = 16\n",
      "2 * 9 = 18\n",
      "\n",
      "3 단\n",
      "3 * 1 = 3\n",
      "3 * 2 = 6\n",
      "3 * 3 = 9\n",
      "3 * 4 = 12\n",
      "3 * 5 = 15\n",
      "3 * 6 = 18\n",
      "3 * 7 = 21\n",
      "3 * 8 = 24\n",
      "3 * 9 = 27\n",
      "\n",
      "4 단\n",
      "4 * 1 = 4\n",
      "4 * 2 = 8\n",
      "4 * 3 = 12\n",
      "4 * 4 = 16\n",
      "4 * 5 = 20\n",
      "4 * 6 = 24\n",
      "4 * 7 = 28\n",
      "4 * 8 = 32\n",
      "4 * 9 = 36\n",
      "\n",
      "5 단\n",
      "5 * 1 = 5\n",
      "5 * 2 = 10\n",
      "5 * 3 = 15\n",
      "5 * 4 = 20\n",
      "5 * 5 = 25\n",
      "5 * 6 = 30\n",
      "5 * 7 = 35\n",
      "5 * 8 = 40\n",
      "5 * 9 = 45\n",
      "\n",
      "6 단\n",
      "6 * 1 = 6\n",
      "6 * 2 = 12\n",
      "6 * 3 = 18\n",
      "6 * 4 = 24\n",
      "6 * 5 = 30\n",
      "6 * 6 = 36\n",
      "6 * 7 = 42\n",
      "6 * 8 = 48\n",
      "6 * 9 = 54\n",
      "\n",
      "7 단\n",
      "7 * 1 = 7\n",
      "7 * 2 = 14\n",
      "7 * 3 = 21\n",
      "7 * 4 = 28\n",
      "7 * 5 = 35\n",
      "7 * 6 = 42\n",
      "7 * 7 = 49\n",
      "7 * 8 = 56\n",
      "7 * 9 = 63\n",
      "\n",
      "8 단\n",
      "8 * 1 = 8\n",
      "8 * 2 = 16\n",
      "8 * 3 = 24\n",
      "8 * 4 = 32\n",
      "8 * 5 = 40\n",
      "8 * 6 = 48\n",
      "8 * 7 = 56\n",
      "8 * 8 = 64\n",
      "8 * 9 = 72\n",
      "\n",
      "9 단\n",
      "9 * 1 = 9\n",
      "9 * 2 = 18\n",
      "9 * 3 = 27\n",
      "9 * 4 = 36\n",
      "9 * 5 = 45\n",
      "9 * 6 = 54\n",
      "9 * 7 = 63\n",
      "9 * 8 = 72\n",
      "9 * 9 = 81\n",
      "\n"
     ]
    }
   ],
   "source": [
    "import time\n",
    "\n",
    "for dan in range(2,10):\n",
    "    print(dan, '단')\n",
    "    time.sleep(1)\n",
    "    for hang in range(1,10):\n",
    "        print(dan,'*',hang,'=', dan*hang)\n",
    "    time.sleep(2)\n",
    "    print()"
   ]
  },
  {
   "cell_type": "code",
   "execution_count": 179,
   "metadata": {},
   "outputs": [
    {
     "name": "stdout",
     "output_type": "stream",
     "text": [
      "                                  2021\n",
      "\n",
      "      January                   February                   March\n",
      "Mo Tu We Th Fr Sa Su      Mo Tu We Th Fr Sa Su      Mo Tu We Th Fr Sa Su\n",
      "             1  2  3       1  2  3  4  5  6  7       1  2  3  4  5  6  7\n",
      " 4  5  6  7  8  9 10       8  9 10 11 12 13 14       8  9 10 11 12 13 14\n",
      "11 12 13 14 15 16 17      15 16 17 18 19 20 21      15 16 17 18 19 20 21\n",
      "18 19 20 21 22 23 24      22 23 24 25 26 27 28      22 23 24 25 26 27 28\n",
      "25 26 27 28 29 30 31                                29 30 31\n",
      "\n",
      "       April                      May                       June\n",
      "Mo Tu We Th Fr Sa Su      Mo Tu We Th Fr Sa Su      Mo Tu We Th Fr Sa Su\n",
      "          1  2  3  4                      1  2          1  2  3  4  5  6\n",
      " 5  6  7  8  9 10 11       3  4  5  6  7  8  9       7  8  9 10 11 12 13\n",
      "12 13 14 15 16 17 18      10 11 12 13 14 15 16      14 15 16 17 18 19 20\n",
      "19 20 21 22 23 24 25      17 18 19 20 21 22 23      21 22 23 24 25 26 27\n",
      "26 27 28 29 30            24 25 26 27 28 29 30      28 29 30\n",
      "                          31\n",
      "\n",
      "        July                     August                  September\n",
      "Mo Tu We Th Fr Sa Su      Mo Tu We Th Fr Sa Su      Mo Tu We Th Fr Sa Su\n",
      "          1  2  3  4                         1             1  2  3  4  5\n",
      " 5  6  7  8  9 10 11       2  3  4  5  6  7  8       6  7  8  9 10 11 12\n",
      "12 13 14 15 16 17 18       9 10 11 12 13 14 15      13 14 15 16 17 18 19\n",
      "19 20 21 22 23 24 25      16 17 18 19 20 21 22      20 21 22 23 24 25 26\n",
      "26 27 28 29 30 31         23 24 25 26 27 28 29      27 28 29 30\n",
      "                          30 31\n",
      "\n",
      "      October                   November                  December\n",
      "Mo Tu We Th Fr Sa Su      Mo Tu We Th Fr Sa Su      Mo Tu We Th Fr Sa Su\n",
      "             1  2  3       1  2  3  4  5  6  7             1  2  3  4  5\n",
      " 4  5  6  7  8  9 10       8  9 10 11 12 13 14       6  7  8  9 10 11 12\n",
      "11 12 13 14 15 16 17      15 16 17 18 19 20 21      13 14 15 16 17 18 19\n",
      "18 19 20 21 22 23 24      22 23 24 25 26 27 28      20 21 22 23 24 25 26\n",
      "25 26 27 28 29 30 31      29 30                     27 28 29 30 31\n",
      "\n"
     ]
    }
   ],
   "source": [
    "import calendar\n",
    "\n",
    "print(calendar.calendar(2021))"
   ]
  },
  {
   "cell_type": "code",
   "execution_count": 181,
   "metadata": {},
   "outputs": [
    {
     "name": "stdout",
     "output_type": "stream",
     "text": [
      "   February 2021\n",
      "Mo Tu We Th Fr Sa Su\n",
      " 1  2  3  4  5  6  7\n",
      " 8  9 10 11 12 13 14\n",
      "15 16 17 18 19 20 21\n",
      "22 23 24 25 26 27 28\n",
      "\n"
     ]
    }
   ],
   "source": [
    "print(calendar.month(2021,2))"
   ]
  },
  {
   "cell_type": "code",
   "execution_count": 182,
   "metadata": {
    "scrolled": true
   },
   "outputs": [
    {
     "name": "stdout",
     "output_type": "stream",
     "text": [
      "                                  2021\n",
      "\n",
      "      January                   February                   March\n",
      "Mo Tu We Th Fr Sa Su      Mo Tu We Th Fr Sa Su      Mo Tu We Th Fr Sa Su\n",
      "             1  2  3       1  2  3  4  5  6  7       1  2  3  4  5  6  7\n",
      " 4  5  6  7  8  9 10       8  9 10 11 12 13 14       8  9 10 11 12 13 14\n",
      "11 12 13 14 15 16 17      15 16 17 18 19 20 21      15 16 17 18 19 20 21\n",
      "18 19 20 21 22 23 24      22 23 24 25 26 27 28      22 23 24 25 26 27 28\n",
      "25 26 27 28 29 30 31                                29 30 31\n",
      "\n",
      "       April                      May                       June\n",
      "Mo Tu We Th Fr Sa Su      Mo Tu We Th Fr Sa Su      Mo Tu We Th Fr Sa Su\n",
      "          1  2  3  4                      1  2          1  2  3  4  5  6\n",
      " 5  6  7  8  9 10 11       3  4  5  6  7  8  9       7  8  9 10 11 12 13\n",
      "12 13 14 15 16 17 18      10 11 12 13 14 15 16      14 15 16 17 18 19 20\n",
      "19 20 21 22 23 24 25      17 18 19 20 21 22 23      21 22 23 24 25 26 27\n",
      "26 27 28 29 30            24 25 26 27 28 29 30      28 29 30\n",
      "                          31\n",
      "\n",
      "        July                     August                  September\n",
      "Mo Tu We Th Fr Sa Su      Mo Tu We Th Fr Sa Su      Mo Tu We Th Fr Sa Su\n",
      "          1  2  3  4                         1             1  2  3  4  5\n",
      " 5  6  7  8  9 10 11       2  3  4  5  6  7  8       6  7  8  9 10 11 12\n",
      "12 13 14 15 16 17 18       9 10 11 12 13 14 15      13 14 15 16 17 18 19\n",
      "19 20 21 22 23 24 25      16 17 18 19 20 21 22      20 21 22 23 24 25 26\n",
      "26 27 28 29 30 31         23 24 25 26 27 28 29      27 28 29 30\n",
      "                          30 31\n",
      "\n",
      "      October                   November                  December\n",
      "Mo Tu We Th Fr Sa Su      Mo Tu We Th Fr Sa Su      Mo Tu We Th Fr Sa Su\n",
      "             1  2  3       1  2  3  4  5  6  7             1  2  3  4  5\n",
      " 4  5  6  7  8  9 10       8  9 10 11 12 13 14       6  7  8  9 10 11 12\n",
      "11 12 13 14 15 16 17      15 16 17 18 19 20 21      13 14 15 16 17 18 19\n",
      "18 19 20 21 22 23 24      22 23 24 25 26 27 28      20 21 22 23 24 25 26\n",
      "25 26 27 28 29 30 31      29 30                     27 28 29 30 31\n"
     ]
    }
   ],
   "source": [
    "calendar.prcal(2021)"
   ]
  },
  {
   "cell_type": "code",
   "execution_count": 191,
   "metadata": {},
   "outputs": [
    {
     "name": "stdout",
     "output_type": "stream",
     "text": [
      "광복절은 일요일이다\n"
     ]
    }
   ],
   "source": [
    "import calendar\n",
    "\n",
    "yoil = ['월','화','수','목','금','토','일']\n",
    "day = calendar.weekday(2021,8,15)\n",
    "print('광복절은', yoil[day]+'요일이다')"
   ]
  },
  {
   "cell_type": "code",
   "execution_count": 192,
   "metadata": {},
   "outputs": [
    {
     "name": "stdout",
     "output_type": "stream",
     "text": [
      "0\n"
     ]
    }
   ],
   "source": [
    "import calendar\n",
    "\n",
    "print(calendar.weekday(2021,2,15))"
   ]
  },
  {
   "cell_type": "code",
   "execution_count": 194,
   "metadata": {},
   "outputs": [
    {
     "name": "stdout",
     "output_type": "stream",
     "text": [
      "2월 2일은 화 요일이다\n"
     ]
    }
   ],
   "source": [
    "import time\n",
    "\n",
    "yoil = ['월','화','수','목','금','토','일']\n",
    "day = calendar.weekday(2021,2,2)\n",
    "print('2월 2일은',yoil[day] ,'요일이다')"
   ]
  },
  {
   "cell_type": "code",
   "execution_count": 195,
   "metadata": {},
   "outputs": [
    {
     "name": "stdout",
     "output_type": "stream",
     "text": [
      "광복절은 6 요일이다\n"
     ]
    }
   ],
   "source": [
    "day = calendar.weekday(2021,8,15)\n",
    "print('광복절은',str(day),'요일이다')"
   ]
  },
  {
   "cell_type": "code",
   "execution_count": null,
   "metadata": {},
   "outputs": [],
   "source": []
  },
  {
   "cell_type": "code",
   "execution_count": null,
   "metadata": {},
   "outputs": [],
   "source": []
  },
  {
   "cell_type": "code",
   "execution_count": null,
   "metadata": {},
   "outputs": [],
   "source": []
  },
  {
   "cell_type": "code",
   "execution_count": null,
   "metadata": {},
   "outputs": [],
   "source": []
  },
  {
   "cell_type": "code",
   "execution_count": null,
   "metadata": {},
   "outputs": [],
   "source": []
  },
  {
   "cell_type": "code",
   "execution_count": null,
   "metadata": {},
   "outputs": [],
   "source": []
  }
 ],
 "metadata": {
  "kernelspec": {
   "display_name": "Python 3",
   "language": "python",
   "name": "python3"
  },
  "language_info": {
   "codemirror_mode": {
    "name": "ipython",
    "version": 3
   },
   "file_extension": ".py",
   "mimetype": "text/x-python",
   "name": "python",
   "nbconvert_exporter": "python",
   "pygments_lexer": "ipython3",
   "version": "3.8.5"
  }
 },
 "nbformat": 4,
 "nbformat_minor": 4
}
