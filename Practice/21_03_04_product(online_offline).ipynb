{
  "nbformat": 4,
  "nbformat_minor": 0,
  "metadata": {
    "colab": {
      "name": "21_03_04_product(online/offline).ipynb",
      "provenance": [],
      "collapsed_sections": []
    },
    "kernelspec": {
      "name": "python3",
      "display_name": "Python 3"
    }
  },
  "cells": [
    {
      "cell_type": "markdown",
      "metadata": {
        "id": "bB5By0ONXqOG"
      },
      "source": [
        "# Binary Classification"
      ]
    },
    {
      "cell_type": "markdown",
      "metadata": {
        "id": "GZ0vK-g2ZL44"
      },
      "source": [
        "#1, 탐색적 데이터 분석"
      ]
    },
    {
      "cell_type": "code",
      "metadata": {
        "colab": {
          "base_uri": "https://localhost:8080/",
          "height": 199
        },
        "id": "XPw8c1xtoS0e",
        "outputId": "c1b4296c-8e9f-4391-cd06-2b91f8505172"
      },
      "source": [
        "import pandas as pd\r\n",
        "\r\n",
        "DF = pd.read_csv('https://raw.githubusercontent.com/rusita-ai/pyData/master/product.csv')\r\n",
        "DF.head()"
      ],
      "execution_count": null,
      "outputs": [
        {
          "output_type": "execute_result",
          "data": {
            "text/html": [
              "<div>\n",
              "<style scoped>\n",
              "    .dataframe tbody tr th:only-of-type {\n",
              "        vertical-align: middle;\n",
              "    }\n",
              "\n",
              "    .dataframe tbody tr th {\n",
              "        vertical-align: top;\n",
              "    }\n",
              "\n",
              "    .dataframe thead th {\n",
              "        text-align: right;\n",
              "    }\n",
              "</style>\n",
              "<table border=\"1\" class=\"dataframe\">\n",
              "  <thead>\n",
              "    <tr style=\"text-align: right;\">\n",
              "      <th></th>\n",
              "      <th>Date</th>\n",
              "      <th>meanPriceEach</th>\n",
              "      <th>totalOrder</th>\n",
              "      <th>orderType_1</th>\n",
              "      <th>orderType_2</th>\n",
              "      <th>orderType_3</th>\n",
              "      <th>totalBundle</th>\n",
              "      <th>bundleType_1</th>\n",
              "      <th>bundleType_2</th>\n",
              "      <th>customerType</th>\n",
              "      <th>FY</th>\n",
              "      <th>Country</th>\n",
              "    </tr>\n",
              "  </thead>\n",
              "  <tbody>\n",
              "    <tr>\n",
              "      <th>0</th>\n",
              "      <td>2015-01-04</td>\n",
              "      <td>1.56</td>\n",
              "      <td>58065.35</td>\n",
              "      <td>10049.66</td>\n",
              "      <td>25228.37</td>\n",
              "      <td>3672.89</td>\n",
              "      <td>19114.43</td>\n",
              "      <td>17280.89</td>\n",
              "      <td>1833.54</td>\n",
              "      <td>Online</td>\n",
              "      <td>2015</td>\n",
              "      <td>25</td>\n",
              "    </tr>\n",
              "    <tr>\n",
              "      <th>1</th>\n",
              "      <td>2015-01-04</td>\n",
              "      <td>1.10</td>\n",
              "      <td>2578275.12</td>\n",
              "      <td>575245.44</td>\n",
              "      <td>1311502.53</td>\n",
              "      <td>181058.65</td>\n",
              "      <td>510468.50</td>\n",
              "      <td>429166.89</td>\n",
              "      <td>80986.81</td>\n",
              "      <td>Offline</td>\n",
              "      <td>2015</td>\n",
              "      <td>25</td>\n",
              "    </tr>\n",
              "    <tr>\n",
              "      <th>2</th>\n",
              "      <td>2015-01-11</td>\n",
              "      <td>1.17</td>\n",
              "      <td>2335986.11</td>\n",
              "      <td>560119.16</td>\n",
              "      <td>1032606.49</td>\n",
              "      <td>191515.19</td>\n",
              "      <td>551745.27</td>\n",
              "      <td>465764.93</td>\n",
              "      <td>85966.27</td>\n",
              "      <td>Offline</td>\n",
              "      <td>2015</td>\n",
              "      <td>25</td>\n",
              "    </tr>\n",
              "    <tr>\n",
              "      <th>3</th>\n",
              "      <td>2015-01-11</td>\n",
              "      <td>1.52</td>\n",
              "      <td>65483.08</td>\n",
              "      <td>14570.74</td>\n",
              "      <td>30445.75</td>\n",
              "      <td>3170.11</td>\n",
              "      <td>17296.48</td>\n",
              "      <td>16715.45</td>\n",
              "      <td>581.03</td>\n",
              "      <td>Online</td>\n",
              "      <td>2015</td>\n",
              "      <td>25</td>\n",
              "    </tr>\n",
              "    <tr>\n",
              "      <th>4</th>\n",
              "      <td>2015-01-18</td>\n",
              "      <td>1.65</td>\n",
              "      <td>52559.10</td>\n",
              "      <td>11415.28</td>\n",
              "      <td>25306.56</td>\n",
              "      <td>3345.08</td>\n",
              "      <td>12492.18</td>\n",
              "      <td>10971.43</td>\n",
              "      <td>1520.75</td>\n",
              "      <td>Online</td>\n",
              "      <td>2015</td>\n",
              "      <td>25</td>\n",
              "    </tr>\n",
              "  </tbody>\n",
              "</table>\n",
              "</div>"
            ],
            "text/plain": [
              "         Date  meanPriceEach  totalOrder  ...  customerType    FY  Country\n",
              "0  2015-01-04           1.56    58065.35  ...        Online  2015       25\n",
              "1  2015-01-04           1.10  2578275.12  ...       Offline  2015       25\n",
              "2  2015-01-11           1.17  2335986.11  ...       Offline  2015       25\n",
              "3  2015-01-11           1.52    65483.08  ...        Online  2015       25\n",
              "4  2015-01-18           1.65    52559.10  ...        Online  2015       25\n",
              "\n",
              "[5 rows x 12 columns]"
            ]
          },
          "metadata": {
            "tags": []
          },
          "execution_count": 66
        }
      ]
    },
    {
      "cell_type": "code",
      "metadata": {
        "colab": {
          "base_uri": "https://localhost:8080/",
          "height": 199
        },
        "id": "10EslpHpsMrI",
        "outputId": "8744b0fd-6563-4d7b-d12e-455febbf4232"
      },
      "source": [
        "#DF=DF[['meanPriceEach','orderType_1','orderType_2','orderType_3','bundleType_1','bundleType_2','customerType']]\r\n",
        "DF.head()"
      ],
      "execution_count": null,
      "outputs": [
        {
          "output_type": "execute_result",
          "data": {
            "text/html": [
              "<div>\n",
              "<style scoped>\n",
              "    .dataframe tbody tr th:only-of-type {\n",
              "        vertical-align: middle;\n",
              "    }\n",
              "\n",
              "    .dataframe tbody tr th {\n",
              "        vertical-align: top;\n",
              "    }\n",
              "\n",
              "    .dataframe thead th {\n",
              "        text-align: right;\n",
              "    }\n",
              "</style>\n",
              "<table border=\"1\" class=\"dataframe\">\n",
              "  <thead>\n",
              "    <tr style=\"text-align: right;\">\n",
              "      <th></th>\n",
              "      <th>Date</th>\n",
              "      <th>meanPriceEach</th>\n",
              "      <th>totalOrder</th>\n",
              "      <th>orderType_1</th>\n",
              "      <th>orderType_2</th>\n",
              "      <th>orderType_3</th>\n",
              "      <th>totalBundle</th>\n",
              "      <th>bundleType_1</th>\n",
              "      <th>bundleType_2</th>\n",
              "      <th>customerType</th>\n",
              "      <th>FY</th>\n",
              "      <th>Country</th>\n",
              "    </tr>\n",
              "  </thead>\n",
              "  <tbody>\n",
              "    <tr>\n",
              "      <th>0</th>\n",
              "      <td>2015-01-04</td>\n",
              "      <td>1.56</td>\n",
              "      <td>58065.35</td>\n",
              "      <td>10049.66</td>\n",
              "      <td>25228.37</td>\n",
              "      <td>3672.89</td>\n",
              "      <td>19114.43</td>\n",
              "      <td>17280.89</td>\n",
              "      <td>1833.54</td>\n",
              "      <td>Online</td>\n",
              "      <td>2015</td>\n",
              "      <td>25</td>\n",
              "    </tr>\n",
              "    <tr>\n",
              "      <th>1</th>\n",
              "      <td>2015-01-04</td>\n",
              "      <td>1.10</td>\n",
              "      <td>2578275.12</td>\n",
              "      <td>575245.44</td>\n",
              "      <td>1311502.53</td>\n",
              "      <td>181058.65</td>\n",
              "      <td>510468.50</td>\n",
              "      <td>429166.89</td>\n",
              "      <td>80986.81</td>\n",
              "      <td>Offline</td>\n",
              "      <td>2015</td>\n",
              "      <td>25</td>\n",
              "    </tr>\n",
              "    <tr>\n",
              "      <th>2</th>\n",
              "      <td>2015-01-11</td>\n",
              "      <td>1.17</td>\n",
              "      <td>2335986.11</td>\n",
              "      <td>560119.16</td>\n",
              "      <td>1032606.49</td>\n",
              "      <td>191515.19</td>\n",
              "      <td>551745.27</td>\n",
              "      <td>465764.93</td>\n",
              "      <td>85966.27</td>\n",
              "      <td>Offline</td>\n",
              "      <td>2015</td>\n",
              "      <td>25</td>\n",
              "    </tr>\n",
              "    <tr>\n",
              "      <th>3</th>\n",
              "      <td>2015-01-11</td>\n",
              "      <td>1.52</td>\n",
              "      <td>65483.08</td>\n",
              "      <td>14570.74</td>\n",
              "      <td>30445.75</td>\n",
              "      <td>3170.11</td>\n",
              "      <td>17296.48</td>\n",
              "      <td>16715.45</td>\n",
              "      <td>581.03</td>\n",
              "      <td>Online</td>\n",
              "      <td>2015</td>\n",
              "      <td>25</td>\n",
              "    </tr>\n",
              "    <tr>\n",
              "      <th>4</th>\n",
              "      <td>2015-01-18</td>\n",
              "      <td>1.65</td>\n",
              "      <td>52559.10</td>\n",
              "      <td>11415.28</td>\n",
              "      <td>25306.56</td>\n",
              "      <td>3345.08</td>\n",
              "      <td>12492.18</td>\n",
              "      <td>10971.43</td>\n",
              "      <td>1520.75</td>\n",
              "      <td>Online</td>\n",
              "      <td>2015</td>\n",
              "      <td>25</td>\n",
              "    </tr>\n",
              "  </tbody>\n",
              "</table>\n",
              "</div>"
            ],
            "text/plain": [
              "         Date  meanPriceEach  totalOrder  ...  customerType    FY  Country\n",
              "0  2015-01-04           1.56    58065.35  ...        Online  2015       25\n",
              "1  2015-01-04           1.10  2578275.12  ...       Offline  2015       25\n",
              "2  2015-01-11           1.17  2335986.11  ...       Offline  2015       25\n",
              "3  2015-01-11           1.52    65483.08  ...        Online  2015       25\n",
              "4  2015-01-18           1.65    52559.10  ...        Online  2015       25\n",
              "\n",
              "[5 rows x 12 columns]"
            ]
          },
          "metadata": {
            "tags": []
          },
          "execution_count": 67
        }
      ]
    },
    {
      "cell_type": "code",
      "metadata": {
        "colab": {
          "base_uri": "https://localhost:8080/"
        },
        "id": "wd3GM06vs5IJ",
        "outputId": "c72b30ad-39e3-452d-9038-5bd94897daa4"
      },
      "source": [
        "# x = DF['customerType']\r\n",
        "\r\n",
        "\r\n",
        "# from sklearn.preprocessing import LabelEncoder\r\n",
        "\r\n",
        "# encoder = LabelEncoder()\r\n",
        "# customerType = encoder.fit_transform(x)\r\n",
        "\r\n",
        "# DF[['customerType']] = customerType\r\n",
        "# DF.customerType.head(10)"
      ],
      "execution_count": null,
      "outputs": [
        {
          "output_type": "execute_result",
          "data": {
            "text/plain": [
              "0    1\n",
              "1    0\n",
              "2    0\n",
              "3    1\n",
              "4    1\n",
              "5    0\n",
              "6    1\n",
              "7    0\n",
              "8    1\n",
              "9    0\n",
              "Name: customerType, dtype: int64"
            ]
          },
          "metadata": {
            "tags": []
          },
          "execution_count": 24
        }
      ]
    },
    {
      "cell_type": "code",
      "metadata": {
        "colab": {
          "base_uri": "https://localhost:8080/",
          "height": 550
        },
        "id": "wiUiKl9Jr9CR",
        "outputId": "c56da2f4-febf-4ce3-feb6-b14d001ef8ab"
      },
      "source": [
        "import seaborn as sns\r\n",
        "import matplotlib.pyplot as plt\r\n",
        "\r\n",
        "sns.pairplot(DF, x_vars=['customerType','totalOrder','totalBundle'], y_vars=['customerType','totalOrder','totalBundle'])\r\n",
        "plt.show()"
      ],
      "execution_count": 99,
      "outputs": [
        {
          "output_type": "display_data",
          "data": {
            "image/png": "[encoded data removed]",
            "text/plain": [
              "<Figure size 540x540 with 12 Axes>"
            ]
          },
          "metadata": {
            "tags": [],
            "needs_background": "light"
          }
        }
      ]
    },
    {
      "cell_type": "code",
      "metadata": {
        "colab": {
          "base_uri": "https://localhost:8080/"
        },
        "id": "HXwKp62I3VfI",
        "outputId": "d128df88-74bf-4936-e6e7-8da21d4086c8"
      },
      "source": [
        "DF.customerType.value_counts()"
      ],
      "execution_count": null,
      "outputs": [
        {
          "output_type": "execute_result",
          "data": {
            "text/plain": [
              "Offline    7506\n",
              "Online     7503\n",
              "Name: customerType, dtype: int64"
            ]
          },
          "metadata": {
            "tags": []
          },
          "execution_count": 68
        }
      ]
    },
    {
      "cell_type": "markdown",
      "metadata": {
        "id": "r6hq8UMtvO34"
      },
      "source": [
        "boxplot 시각화"
      ]
    },
    {
      "cell_type": "code",
      "metadata": {
        "colab": {
          "base_uri": "https://localhost:8080/",
          "height": 441
        },
        "id": "-dxfHmyJrRBp",
        "outputId": "41b0c3b1-f559-49e6-e855-191da4ebfcbb"
      },
      "source": [
        "import matplotlib.pyplot as plt\r\n",
        "\r\n",
        "plt.figure(figsize=(9,6))\r\n",
        "plt.boxplot([DF[DF.customerType == 'Online'].orderType_1,\r\n",
        "             DF[DF.customerType == 'Offline'].orderType_1],\r\n",
        "            \r\n",
        "            labels = ['Online', 'Offline'])\r\n",
        "plt.show()"
      ],
      "execution_count": null,
      "outputs": [
        {
          "output_type": "stream",
          "text": [
            "/usr/local/lib/python3.7/dist-packages/numpy/core/_asarray.py:83: VisibleDeprecationWarning: Creating an ndarray from ragged nested sequences (which is a list-or-tuple of lists-or-tuples-or ndarrays with different lengths or shapes) is deprecated. If you meant to do this, you must specify 'dtype=object' when creating the ndarray\n",
            "  return array(a, dtype, copy=False, order=order)\n"
          ],
          "name": "stderr"
        },
        {
          "output_type": "display_data",
          "data": {
            "image/png": "[encoded data removed]",
            "text/plain": [
              "<Figure size 648x432 with 1 Axes>"
            ]
          },
          "metadata": {
            "tags": [],
            "needs_background": "light"
          }
        }
      ]
    },
    {
      "cell_type": "code",
      "metadata": {
        "colab": {
          "base_uri": "https://localhost:8080/",
          "height": 399
        },
        "id": "kgGfDDx315Ts",
        "outputId": "a6c97184-c554-49db-c195-ef8e66303a94"
      },
      "source": [
        "plt.figure(figsize=(9,6))\r\n",
        "sns.boxplot(x = 'customerType', y= 'totalOrder', data=DF)\r\n",
        "plt.show()"
      ],
      "execution_count": null,
      "outputs": [
        {
          "output_type": "display_data",
          "data": {
            "image/png": "[encoded data removed]",
            "text/plain": [
              "<Figure size 648x432 with 1 Axes>"
            ]
          },
          "metadata": {
            "tags": [],
            "needs_background": "light"
          }
        }
      ]
    },
    {
      "cell_type": "code",
      "metadata": {
        "colab": {
          "base_uri": "https://localhost:8080/",
          "height": 441
        },
        "id": "q4cB8IXtpshi",
        "outputId": "5ab4c488-a387-4e41-f69d-e8fad245e0ca"
      },
      "source": [
        "import matplotlib.pyplot as plt\r\n",
        "\r\n",
        "plt.figure(figsize=(9,6))\r\n",
        "plt.boxplot([DF[DF.customerType == 'Online'].totalOrder,\r\n",
        "             DF[DF.customerType == 'Offline'].totalOrder],\r\n",
        "            labels = ['Online', 'Offline'])\r\n",
        "plt.show()"
      ],
      "execution_count": null,
      "outputs": [
        {
          "output_type": "stream",
          "text": [
            "/usr/local/lib/python3.7/dist-packages/numpy/core/_asarray.py:83: VisibleDeprecationWarning: Creating an ndarray from ragged nested sequences (which is a list-or-tuple of lists-or-tuples-or ndarrays with different lengths or shapes) is deprecated. If you meant to do this, you must specify 'dtype=object' when creating the ndarray\n",
            "  return array(a, dtype, copy=False, order=order)\n"
          ],
          "name": "stderr"
        },
        {
          "output_type": "display_data",
          "data": {
            "image/png": "[encoded data removed]",
            "text/plain": [
              "<Figure size 648x432 with 1 Axes>"
            ]
          },
          "metadata": {
            "tags": [],
            "needs_background": "light"
          }
        }
      ]
    },
    {
      "cell_type": "code",
      "metadata": {
        "colab": {
          "base_uri": "https://localhost:8080/",
          "height": 441
        },
        "id": "7mxd-0geyKCP",
        "outputId": "1c17a2a5-888b-49b9-9460-dadd587b55bb"
      },
      "source": [
        "import matplotlib.pyplot as plt\r\n",
        "\r\n",
        "plt.figure(figsize=(9,6))\r\n",
        "plt.boxplot([DF[DF.customerType == 'Online'].totalBundle,\r\n",
        "             DF[DF.customerType == 'Offline'].totalBundle],\r\n",
        "            labels = ['Online', 'Offline'])\r\n",
        "plt.show()"
      ],
      "execution_count": null,
      "outputs": [
        {
          "output_type": "stream",
          "text": [
            "/usr/local/lib/python3.7/dist-packages/numpy/core/_asarray.py:83: VisibleDeprecationWarning: Creating an ndarray from ragged nested sequences (which is a list-or-tuple of lists-or-tuples-or ndarrays with different lengths or shapes) is deprecated. If you meant to do this, you must specify 'dtype=object' when creating the ndarray\n",
            "  return array(a, dtype, copy=False, order=order)\n"
          ],
          "name": "stderr"
        },
        {
          "output_type": "display_data",
          "data": {
            "image/png": "[encoded data removed]",
            "text/plain": [
              "<Figure size 648x432 with 1 Axes>"
            ]
          },
          "metadata": {
            "tags": [],
            "needs_background": "light"
          }
        }
      ]
    },
    {
      "cell_type": "markdown",
      "metadata": {
        "id": "pkj-FPcsvTLP"
      },
      "source": [
        "# 2, customerType vs. totalOrder\r\n"
      ]
    },
    {
      "cell_type": "code",
      "metadata": {
        "colab": {
          "base_uri": "https://localhost:8080/"
        },
        "id": "HRYJS2oXqoCy",
        "outputId": "6775027d-a942-4af3-9e9f-2e29816cbdce"
      },
      "source": [
        "X=DF[['totalOrder']]\r\n",
        "y=DF['customerType']\r\n",
        "\r\n",
        "from sklearn.model_selection import train_test_split\r\n",
        "\r\n",
        "X_train, X_test, y_train, y_test = train_test_split(X, y,\r\n",
        "                                                    test_size=0.3,\r\n",
        "                                                    random_state=2045)\r\n",
        "print('Train Data :', X_train.shape, y_train.shape)\r\n",
        "print('Test Data :', X_test.shape, y_test.shape)"
      ],
      "execution_count": 102,
      "outputs": [
        {
          "output_type": "stream",
          "text": [
            "Train Data : (10506, 1) (10506,)\n",
            "Test Data : (4503, 1) (4503,)\n"
          ],
          "name": "stdout"
        }
      ]
    },
    {
      "cell_type": "markdown",
      "metadata": {
        "id": "7ShooCbTvbKw"
      },
      "source": [
        "## 2) Modeling"
      ]
    },
    {
      "cell_type": "code",
      "metadata": {
        "colab": {
          "base_uri": "https://localhost:8080/"
        },
        "id": "topBWnBQvfa1",
        "outputId": "ec94f16e-c142-4334-bead-05764c120a9a"
      },
      "source": [
        "from sklearn.linear_model import LogisticRegression\r\n",
        "\r\n",
        "\r\n",
        "Model = LogisticRegression()\r\n",
        "Model.fit(X_train, y_train)\r\n",
        "\r\n",
        "y_hat = Model.predict(X_test)\r\n",
        "y_hat"
      ],
      "execution_count": 103,
      "outputs": [
        {
          "output_type": "execute_result",
          "data": {
            "text/plain": [
              "array(['Offline', 'Offline', 'Offline', ..., 'Offline', 'Offline',\n",
              "       'Offline'], dtype=object)"
            ]
          },
          "metadata": {
            "tags": []
          },
          "execution_count": 103
        }
      ]
    },
    {
      "cell_type": "markdown",
      "metadata": {
        "id": "qbgUXM73ZdK8"
      },
      "source": [
        "## 3) confusion Matrix -labels=['Online, Offline] \r\n",
        "<p> 이게 꼭 필요한가? "
      ]
    },
    {
      "cell_type": "code",
      "metadata": {
        "colab": {
          "base_uri": "https://localhost:8080/"
        },
        "id": "AppgePJKZi0H",
        "outputId": "b35ccdfb-a4e9-441a-e5b7-2b435449e525"
      },
      "source": [
        "from sklearn.metrics import confusion_matrix\r\n",
        "\r\n",
        "# positive = Online 기준\r\n",
        "confusion_matrix(y_test, y_hat, labels=['Online','Offline'])"
      ],
      "execution_count": 109,
      "outputs": [
        {
          "output_type": "execute_result",
          "data": {
            "text/plain": [
              "array([[2227,    0],\n",
              "       [2276,    0]])"
            ]
          },
          "metadata": {
            "tags": []
          },
          "execution_count": 109
        }
      ]
    },
    {
      "cell_type": "markdown",
      "metadata": {
        "id": "vWNs7tglwdk3"
      },
      "source": [
        "## 4) accuracy, precision, recall"
      ]
    },
    {
      "cell_type": "code",
      "metadata": {
        "colab": {
          "base_uri": "https://localhost:8080/"
        },
        "id": "eVReixJPwTZD",
        "outputId": "0f8ebb68-837a-4522-ba17-d1becdac874c"
      },
      "source": [
        "from sklearn.metrics import accuracy_score, precision_score, recall_score\r\n",
        "\r\n",
        "print(accuracy_score(y_test, y_hat))\r\n",
        "print(precision_score(y_test, y_hat, pos_label = 'Online' )) # positive label = No 기준\r\n",
        "print(recall_score(y_test, y_hat, pos_label = 'Online'))"
      ],
      "execution_count": 108,
      "outputs": [
        {
          "output_type": "stream",
          "text": [
            "0.4945591827670442\n",
            "0.0\n",
            "0.0\n"
          ],
          "name": "stdout"
        },
        {
          "output_type": "stream",
          "text": [
            "/usr/local/lib/python3.7/dist-packages/sklearn/metrics/_classification.py:1272: UndefinedMetricWarning: Precision is ill-defined and being set to 0.0 due to no predicted samples. Use `zero_division` parameter to control this behavior.\n",
            "  _warn_prf(average, modifier, msg_start, len(result))\n"
          ],
          "name": "stderr"
        }
      ]
    },
    {
      "cell_type": "code",
      "metadata": {
        "colab": {
          "base_uri": "https://localhost:8080/"
        },
        "id": "f9SPVYHr0UP-",
        "outputId": "b6395fbf-479e-4b60-8920-357c4ed030c0"
      },
      "source": [
        "from sklearn.metrics import accuracy_score, precision_score, recall_score\r\n",
        "\r\n",
        "print(accuracy_score(y_test, y_hat))\r\n",
        "print(precision_score(y_test, y_hat, pos_label = 'Offline' )) # positive label = No 기준\r\n",
        "print(recall_score(y_test, y_hat, pos_label = 'Offline'))"
      ],
      "execution_count": 110,
      "outputs": [
        {
          "output_type": "stream",
          "text": [
            "0.4945591827670442\n",
            "0.4945591827670442\n",
            "1.0\n"
          ],
          "name": "stdout"
        }
      ]
    },
    {
      "cell_type": "code",
      "metadata": {
        "colab": {
          "base_uri": "https://localhost:8080/"
        },
        "id": "Ouwu_m0E4Ym2",
        "outputId": "8dc29706-0b71-44b3-9466-29fdd3093503"
      },
      "source": [
        "from sklearn.metrics import f1_score\r\n",
        "\r\n",
        "f1_score(y_test, y_hat, pos_label = 'Online')"
      ],
      "execution_count": null,
      "outputs": [
        {
          "output_type": "execute_result",
          "data": {
            "text/plain": [
              "0.0"
            ]
          },
          "metadata": {
            "tags": []
          },
          "execution_count": 87
        }
      ]
    },
    {
      "cell_type": "code",
      "metadata": {
        "colab": {
          "base_uri": "https://localhost:8080/"
        },
        "id": "FOQCxrWM4ZHj",
        "outputId": "278e0cd6-01c5-474b-bdf0-38fd552a438e"
      },
      "source": [
        "f1_score(y_test, y_hat, pos_label = 'Offline')"
      ],
      "execution_count": null,
      "outputs": [
        {
          "output_type": "execute_result",
          "data": {
            "text/plain": [
              "0.6618127786032689"
            ]
          },
          "metadata": {
            "tags": []
          },
          "execution_count": 88
        }
      ]
    },
    {
      "cell_type": "code",
      "metadata": {
        "id": "WHC2EQAe8zwg"
      },
      "source": [
        ""
      ],
      "execution_count": null,
      "outputs": []
    },
    {
      "cell_type": "markdown",
      "metadata": {
        "id": "3AWZgEZh_kr5"
      },
      "source": [
        "meanPriceEach"
      ]
    },
    {
      "cell_type": "code",
      "metadata": {
        "colab": {
          "base_uri": "https://localhost:8080/"
        },
        "id": "tpM0yvI28zgz",
        "outputId": "0abd946b-8f58-4ad1-fc81-7c75831ac223"
      },
      "source": [
        "X=DF[['meanPriceEach']]\r\n",
        "y=DF['customerType']\r\n",
        "\r\n",
        "from sklearn.model_selection import train_test_split\r\n",
        "\r\n",
        "X_train, X_test, y_train, y_test = train_test_split(X, y,\r\n",
        "                                                    test_size=0.3,\r\n",
        "                                                    random_state=2045)\r\n",
        "print('Train Data :', X_train.shape, y_train.shape)\r\n",
        "print('Test Data :', X_test.shape, y_test.shape)\r\n",
        "\r\n",
        "\r\n",
        "\r\n",
        "from sklearn.linear_model import LogisticRegression\r\n",
        "\r\n",
        "\r\n",
        "Model = LogisticRegression()\r\n",
        "Model.fit(X_train, y_train)\r\n",
        "\r\n",
        "y_hat = Model.predict(X_test)\r\n",
        "y_hat"
      ],
      "execution_count": 111,
      "outputs": [
        {
          "output_type": "stream",
          "text": [
            "Train Data : (10506, 1) (10506,)\n",
            "Test Data : (4503, 1) (4503,)\n"
          ],
          "name": "stdout"
        },
        {
          "output_type": "execute_result",
          "data": {
            "text/plain": [
              "array(['Online', 'Offline', 'Offline', ..., 'Offline', 'Online',\n",
              "       'Offline'], dtype=object)"
            ]
          },
          "metadata": {
            "tags": []
          },
          "execution_count": 111
        }
      ]
    },
    {
      "cell_type": "code",
      "metadata": {
        "colab": {
          "base_uri": "https://localhost:8080/"
        },
        "id": "BWskJHHY_2un",
        "outputId": "00d21602-f8f6-4daa-f931-23dbe3259606"
      },
      "source": [
        "Model.score(X_test, y_test)"
      ],
      "execution_count": 112,
      "outputs": [
        {
          "output_type": "execute_result",
          "data": {
            "text/plain": [
              "0.8056850988230069"
            ]
          },
          "metadata": {
            "tags": []
          },
          "execution_count": 112
        }
      ]
    },
    {
      "cell_type": "code",
      "metadata": {
        "colab": {
          "base_uri": "https://localhost:8080/"
        },
        "id": "204mWhL3__Un",
        "outputId": "b7a2a7f6-9ec3-4abc-c36c-4ef54591d3d5"
      },
      "source": [
        "from sklearn.metrics import confusion_matrix\r\n",
        "confusion_matrix(y_test, y_hat)"
      ],
      "execution_count": 113,
      "outputs": [
        {
          "output_type": "execute_result",
          "data": {
            "text/plain": [
              "array([[1806,  421],\n",
              "       [ 454, 1822]])"
            ]
          },
          "metadata": {
            "tags": []
          },
          "execution_count": 113
        }
      ]
    },
    {
      "cell_type": "code",
      "metadata": {
        "colab": {
          "base_uri": "https://localhost:8080/"
        },
        "id": "ATj7tPRk9u0W",
        "outputId": "f7389fed-9fbb-4a3c-bcc0-c55cd172212a"
      },
      "source": [
        "from sklearn.metrics import accuracy_score, precision_score, recall_score\r\n",
        "\r\n",
        "print(accuracy_score(y_test, y_hat))\r\n",
        "print(precision_score(y_test, y_hat, pos_label = 'Offline' )) # positive label = No 기준\r\n",
        "print(recall_score(y_test, y_hat, pos_label = 'Offline'))"
      ],
      "execution_count": 114,
      "outputs": [
        {
          "output_type": "stream",
          "text": [
            "0.8056850988230069\n",
            "0.7991150442477876\n",
            "0.8109564436461607\n"
          ],
          "name": "stdout"
        }
      ]
    },
    {
      "cell_type": "code",
      "metadata": {
        "colab": {
          "base_uri": "https://localhost:8080/"
        },
        "id": "rqHHDfDa92Bt",
        "outputId": "ad49e9ea-cee6-41ee-ddd2-1f01b03f0981"
      },
      "source": [
        "from sklearn.metrics import accuracy_score, precision_score, recall_score\r\n",
        "\r\n",
        "print(accuracy_score(y_test, y_hat))\r\n",
        "print(precision_score(y_test, y_hat, pos_label = 'Online' )) # positive label = No 기준\r\n",
        "print(recall_score(y_test, y_hat, pos_label = 'Online'))"
      ],
      "execution_count": 115,
      "outputs": [
        {
          "output_type": "stream",
          "text": [
            "0.8056850988230069\n",
            "0.8123049487293803\n",
            "0.8005272407732865\n"
          ],
          "name": "stdout"
        }
      ]
    },
    {
      "cell_type": "markdown",
      "metadata": {
        "id": "M3OGf_e9ABg_"
      },
      "source": [
        "meanPriceEach/ f1_score"
      ]
    },
    {
      "cell_type": "code",
      "metadata": {
        "colab": {
          "base_uri": "https://localhost:8080/"
        },
        "id": "eljgysZv_40C",
        "outputId": "a8eed579-bb34-402e-dd2b-7fe81a16558e"
      },
      "source": [
        "from sklearn.metrics import f1_score\r\n",
        "\r\n",
        "f1_score(y_test, y_hat, pos_label = 'Online')"
      ],
      "execution_count": null,
      "outputs": [
        {
          "output_type": "execute_result",
          "data": {
            "text/plain": [
              "0.8063730913919008"
            ]
          },
          "metadata": {
            "tags": []
          },
          "execution_count": 94
        }
      ]
    }
  ]
}