{
  "nbformat": 4,
  "nbformat_minor": 0,
  "metadata": {
    "colab": {
      "name": "prediction_check.ipynb",
      "provenance": []
    },
    "kernelspec": {
      "name": "python3",
      "display_name": "Python 3"
    },
    "language_info": {
      "name": "python"
    },
    "accelerator": "GPU"
  },
  "cells": [
    {
      "cell_type": "code",
      "metadata": {
        "colab": {
          "base_uri": "https://localhost:8080/"
        },
        "id": "bXVMTx_uBiD5",
        "outputId": "b5c28b97-a1da-432a-8f6e-0027c6a77b2b"
      },
      "source": [
        "from google.colab import drive\n",
        "drive.mount('/content/drive')"
      ],
      "execution_count": null,
      "outputs": [
        {
          "output_type": "stream",
          "text": [
            "Mounted at /content/drive\n"
          ],
          "name": "stdout"
        }
      ]
    },
    {
      "cell_type": "code",
      "metadata": {
        "id": "e0Xjgai1Bjg1"
      },
      "source": [
        ""
      ],
      "execution_count": null,
      "outputs": []
    },
    {
      "cell_type": "code",
      "metadata": {
        "colab": {
          "base_uri": "https://localhost:8080/"
        },
        "id": "-x8AB1ebQ2u0",
        "outputId": "17c2ca33-6abd-4329-8e90-85b8a7a8ebed"
      },
      "source": [
        "!ls -l '/content/drive/My Drive/Colab Notebooks/datasets/0408_data.zip'"
      ],
      "execution_count": null,
      "outputs": [
        {
          "output_type": "stream",
          "text": [
            "-rw------- 1 root root 19653256 Apr  9 05:05 '/content/drive/My Drive/Colab Notebooks/datasets/0408_data.zip'\n"
          ],
          "name": "stdout"
        }
      ]
    },
    {
      "cell_type": "code",
      "metadata": {
        "id": "H7cq4JuPQ2u1"
      },
      "source": [
        "!unzip /content/drive/My\\ Drive/Colab\\ Notebooks/datasets/0408_data.zip"
      ],
      "execution_count": null,
      "outputs": []
    },
    {
      "cell_type": "code",
      "metadata": {
        "id": "M8rQeg1pQ2u1"
      },
      "source": [
        "train_dir = '0408_data/data/train'\n",
        "test_dir = '0408_data/data/test'"
      ],
      "execution_count": null,
      "outputs": []
    },
    {
      "cell_type": "code",
      "metadata": {
        "id": "QMf2V7KxC-yG",
        "colab": {
          "base_uri": "https://localhost:8080/"
        },
        "outputId": "5f39b5f2-e13e-4869-b1e9-964a9723ea0f"
      },
      "source": [
        "from keras.preprocessing.image import ImageDataGenerator\n",
        "train_datagen = ImageDataGenerator(rescale = 1./255)\n",
        "test_datagen = ImageDataGenerator(rescale = 1./255)\n",
        "\n",
        "\n",
        "train_generator = train_datagen.flow_from_directory(train_dir,target_size = (640, 640),\n",
        "                                                    batch_size = 40,class_mode = 'binary')\n",
        "\n",
        "test_generator = test_datagen.flow_from_directory(test_dir,target_size = (640, 640),\n",
        "                                                    batch_size = 40,class_mode = 'binary')"
      ],
      "execution_count": null,
      "outputs": [
        {
          "output_type": "stream",
          "text": [
            "Found 163 images belonging to 2 classes.\n",
            "Found 40 images belonging to 2 classes.\n"
          ],
          "name": "stdout"
        }
      ]
    },
    {
      "cell_type": "code",
      "metadata": {
        "id": "pGiWQuDYC-yJ"
      },
      "source": [
        "from keras.applications import VGG16\n",
        "\n",
        "conv_base = VGG16(weights = 'imagenet', include_top = False, input_shape = (640, 640, 3))\n",
        "\n",
        "set_trainable = False\n",
        "\n",
        "for layer in conv_base.layers:\n",
        "  if layer.name == 'block5_conv1':       \n",
        "    set_trainable = True\n",
        "\n",
        "  if set_trainable:\n",
        "    layer.trainable = True\n",
        "  else:\n",
        "    layer.trainable = False\n",
        "\n",
        "conv_base.summary()"
      ],
      "execution_count": null,
      "outputs": []
    },
    {
      "cell_type": "code",
      "metadata": {
        "id": "2oqfI02KC-yJ"
      },
      "source": [
        "from keras import models, layers, optimizers\n",
        "\n",
        "model = models.Sequential()\n",
        "model.add(conv_base)\n",
        "\n",
        "model.add(layers.Flatten())\n",
        "model.add(layers.Dense(256, activation = 'relu'))\n",
        "model.add(layers.Dropout(0.5))\n",
        "model.add(layers.Dense(1, activation = 'sigmoid'))   \n",
        "\n",
        "model.summary()\n",
        "\n",
        "\n",
        "model.compile(loss = 'binary_crossentropy', \n",
        "              optimizer = optimizers.Adam(lr = 0.000005),\n",
        "              metrics = ['accuracy'])"
      ],
      "execution_count": null,
      "outputs": []
    },
    {
      "cell_type": "code",
      "metadata": {
        "colab": {
          "base_uri": "https://localhost:8080/"
        },
        "id": "gSd-Cx9DC-yK",
        "outputId": "1a0a064b-2f7a-4d57-ee64-0031c23c292e"
      },
      "source": [
        "%%time\n",
        "\n",
        "Hist = model.fit(train_generator, steps_per_epoch = 4, epochs = 10, validation_data = test_generator)"
      ],
      "execution_count": null,
      "outputs": [
        {
          "output_type": "stream",
          "text": [
            "Epoch 1/10\n",
            "4/4 [==============================] - 71s 5s/step - loss: 0.7475 - accuracy: 0.5546 - val_loss: 0.6108 - val_accuracy: 0.7500\n",
            "Epoch 2/10\n",
            "4/4 [==============================] - 9s 2s/step - loss: 0.6046 - accuracy: 0.6430 - val_loss: 0.5395 - val_accuracy: 0.8500\n",
            "Epoch 3/10\n",
            "4/4 [==============================] - 9s 3s/step - loss: 0.4545 - accuracy: 0.7496 - val_loss: 0.4850 - val_accuracy: 0.9000\n",
            "Epoch 4/10\n",
            "4/4 [==============================] - 8s 3s/step - loss: 0.3460 - accuracy: 0.8473 - val_loss: 0.4454 - val_accuracy: 0.9250\n",
            "Epoch 5/10\n",
            "4/4 [==============================] - 10s 3s/step - loss: 0.3280 - accuracy: 0.8658 - val_loss: 0.4054 - val_accuracy: 0.8500\n",
            "Epoch 6/10\n",
            "4/4 [==============================] - 9s 2s/step - loss: 0.2497 - accuracy: 0.9572 - val_loss: 0.3906 - val_accuracy: 0.8500\n",
            "Epoch 7/10\n",
            "4/4 [==============================] - 9s 2s/step - loss: 0.1986 - accuracy: 0.9737 - val_loss: 0.3829 - val_accuracy: 0.8500\n",
            "Epoch 8/10\n",
            "4/4 [==============================] - 8s 3s/step - loss: 0.1418 - accuracy: 0.9498 - val_loss: 0.3449 - val_accuracy: 0.8500\n",
            "Epoch 9/10\n",
            "4/4 [==============================] - 9s 2s/step - loss: 0.1231 - accuracy: 0.9678 - val_loss: 0.2814 - val_accuracy: 0.8750\n",
            "Epoch 10/10\n",
            "4/4 [==============================] - 9s 2s/step - loss: 0.0981 - accuracy: 0.9967 - val_loss: 0.2631 - val_accuracy: 0.8750\n",
            "CPU times: user 1min, sys: 21.8 s, total: 1min 21s\n",
            "Wall time: 2min 32s\n"
          ],
          "name": "stdout"
        }
      ]
    },
    {
      "cell_type": "code",
      "metadata": {
        "id": "-jmRlLoFC-yL",
        "colab": {
          "base_uri": "https://localhost:8080/"
        },
        "outputId": "7aaf231d-a9bb-4e70-d2b6-d568af33d250"
      },
      "source": [
        "loss, accuracy = model.evaluate(test_generator)\n",
        "loss, accuracy"
      ],
      "execution_count": null,
      "outputs": [
        {
          "output_type": "stream",
          "text": [
            "1/1 [==============================] - 2s 2s/step - loss: 0.2631 - accuracy: 0.8750\n"
          ],
          "name": "stdout"
        },
        {
          "output_type": "execute_result",
          "data": {
            "text/plain": [
              "(0.2630543112754822, 0.875)"
            ]
          },
          "metadata": {
            "tags": []
          },
          "execution_count": 9
        }
      ]
    },
    {
      "cell_type": "code",
      "metadata": {
        "id": "KJM1ucreC-yM",
        "colab": {
          "base_uri": "https://localhost:8080/",
          "height": 791
        },
        "outputId": "290854cd-5647-458d-ffbb-2061e068c14a"
      },
      "source": [
        "import matplotlib.pyplot as plt\n",
        "\n",
        "epochs = range(1, len(Hist.history['loss']) + 1)\n",
        "\n",
        "plt.figure(figsize = (9, 6))\n",
        "plt.plot(epochs, Hist.history['loss'])\n",
        "plt.plot(epochs, Hist.history['val_loss'])\n",
        "\n",
        "plt.title('Training & Validation Loss')\n",
        "plt.xlabel('Epochs')\n",
        "plt.ylabel('Loss')\n",
        "plt.legend(['Training Loss', 'Validation Loss'])\n",
        "plt.grid()\n",
        "plt.show()\n",
        "\n",
        "plt.figure(figsize = (9, 6))\n",
        "plt.plot(epochs, Hist.history['accuracy'])\n",
        "plt.plot(epochs, Hist.history['val_accuracy'])\n",
        "\n",
        "plt.title('Training & Validation accuracy')\n",
        "plt.xlabel('Epochs')\n",
        "plt.ylabel('accuracy')\n",
        "plt.legend(['Training accuracy', 'Validation accuracy'])\n",
        "plt.grid()\n",
        "plt.show()"
      ],
      "execution_count": null,
      "outputs": [
        {
          "output_type": "display_data",
          "data": {
            "image/png": "[encoded data removed]",
            "text/plain": [
              "<Figure size 648x432 with 1 Axes>"
            ]
          },
          "metadata": {
            "tags": [],
            "needs_background": "light"
          }
        },
        {
          "output_type": "display_data",
          "data": {
            "image/png": "[encoded data removed]",
            "text/plain": [
              "<Figure size 648x432 with 1 Axes>"
            ]
          },
          "metadata": {
            "tags": [],
            "needs_background": "light"
          }
        }
      ]
    },
    {
      "cell_type": "code",
      "metadata": {
        "id": "w7cTI2D5tih2",
        "colab": {
          "base_uri": "https://localhost:8080/"
        },
        "outputId": "d53a4ba6-06bf-4844-df56-71327301a057"
      },
      "source": [
        "from sklearn.metrics import confusion_matrix\n",
        "import numpy as np\n",
        "\n",
        "test_step = test_generator.samples // test_generator.batch_size\n",
        "\n",
        "predictions = model.predict_generator(test_generator)\n",
        "predicted_class = np.argmax(predictions, axis=1)\n",
        "\n",
        "# true_class = test_generator.classes\n",
        "# class_labels = list(test_generator.class_indices.keys())\n",
        "\n",
        "# conf = confusion_matrix(true_class, predicted_class)\n",
        "\n",
        "# print(conf)\n",
        "\n",
        "print(len(predicted_class))\n",
        "print(predicted_class)\n",
        "print(predictions[:5])"
      ],
      "execution_count": null,
      "outputs": [
        {
          "output_type": "stream",
          "text": [
            "/usr/local/lib/python3.7/dist-packages/tensorflow/python/keras/engine/training.py:1905: UserWarning: `Model.predict_generator` is deprecated and will be removed in a future version. Please use `Model.predict`, which supports generators.\n",
            "  warnings.warn('`Model.predict_generator` is deprecated and '\n"
          ],
          "name": "stderr"
        },
        {
          "output_type": "stream",
          "text": [
            "40\n",
            "[0 0 0 0 0 0 0 0 0 0 0 0 0 0 0 0 0 0 0 0 0 0 0 0 0 0 0 0 0 0 0 0 0 0 0 0 0\n",
            " 0 0 0]\n",
            "[[0.9203261 ]\n",
            " [0.01013009]\n",
            " [0.18772998]\n",
            " [0.11003952]\n",
            " [0.02517812]]\n"
          ],
          "name": "stdout"
        }
      ]
    },
    {
      "cell_type": "code",
      "metadata": {
        "id": "83nrw-1EC8Ma",
        "colab": {
          "base_uri": "https://localhost:8080/"
        },
        "outputId": "6fda59ad-8177-4d82-aeef-9a5dc0a9953d"
      },
      "source": [
        "from sklearn.metrics import accuracy_score, confusion_matrix\n",
        "\n",
        "for t in test_generator:\n",
        "  # (images, labels)\n",
        "  # ((20,640,640,3) / 20)\n",
        "  pred = [round(p[0]) for p in model.predict(t[0])]\n",
        "  print(accuracy_score(t[1],pred))\n",
        "  print(confusion_matrix(t[1], pred))\n",
        "  break"
      ],
      "execution_count": null,
      "outputs": [
        {
          "output_type": "stream",
          "text": [
            "0.875\n",
            "[[18  2]\n",
            " [ 3 17]]\n"
          ],
          "name": "stdout"
        }
      ]
    },
    {
      "cell_type": "code",
      "metadata": {
        "id": "X7oTCKOETDlj",
        "colab": {
          "base_uri": "https://localhost:8080/"
        },
        "outputId": "8a665402-bdb3-4595-cb3d-fa32eecf6962"
      },
      "source": [
        "import pathlib\n",
        "from glob import glob\n",
        "\n",
        "data_root = pathlib.Path(glob('/content/0408_data/data/*/')[1])\n",
        "print(data_root)\n",
        "# label = ['0','1']"
      ],
      "execution_count": null,
      "outputs": [
        {
          "output_type": "stream",
          "text": [
            "/content/0408_data/data/test\n"
          ],
          "name": "stdout"
        }
      ]
    },
    {
      "cell_type": "code",
      "metadata": {
        "id": "3oAyE3xSTDlk",
        "colab": {
          "base_uri": "https://localhost:8080/"
        },
        "outputId": "979e5fac-e80e-49f6-e2f8-c1eeef07c63c"
      },
      "source": [
        "!ls /content/0408_data/data"
      ],
      "execution_count": null,
      "outputs": [
        {
          "output_type": "stream",
          "text": [
            "test  train\n"
          ],
          "name": "stdout"
        }
      ]
    },
    {
      "cell_type": "code",
      "metadata": {
        "id": "0VGqFK0DV1fl",
        "colab": {
          "base_uri": "https://localhost:8080/"
        },
        "outputId": "5c396cfa-6953-45f5-babe-251c10225914"
      },
      "source": [
        "import random\n",
        "\n",
        "all_image_paths = list(data_root.glob('*/*'))\n",
        "all_image_paths = [str(path) for path in all_image_paths]\n",
        "\n",
        "image_count = len(all_image_paths)\n",
        "print('image_count:', image_count)"
      ],
      "execution_count": null,
      "outputs": [
        {
          "output_type": "stream",
          "text": [
            "image_count: 40\n"
          ],
          "name": "stdout"
        }
      ]
    },
    {
      "cell_type": "code",
      "metadata": {
        "id": "OQ-komn-S-d0"
      },
      "source": [
        "import PIL.Image as Image\n",
        "import matplotlib.pyplot as plt\n",
        "import random\n",
        "import numpy as np\n",
        "import cv2\n",
        "\n",
        "all_image_paths = list(data_root.glob('*/*'))\n",
        "all_image_paths = [str(path) for path in all_image_paths]\n",
        "print(all_image_paths)\n",
        "print(all_image_paths[0].split('/')[-2])\n",
        "random.shuffle(all_image_paths)\n",
        "\n",
        "image_count = len(all_image_paths)\n",
        "print('image_count:', image_count)\n",
        "\n",
        "def softmax(x):\n",
        "  m = np.max(x)\n",
        "  sm = np.exp(x-m)/np.sum(np.exp(x-m))\n",
        "  return sm\n",
        "\n",
        "plt.figure(figsize=(12,12))\n",
        "for n in range(12):\n",
        "  image_path = random.choice(all_image_paths)\n",
        "  plt.subplot(4,3, n+1)\n",
        "  plt.imshow(plt.imread(image_path))\n",
        "  \n",
        "  img = cv2.imread(image_path)\n",
        "  #img= cv2.resize(img, dsize=(640,640))\n",
        "  img = img/255.0\n",
        "  img = np.expand_dims(img, axis=0)\n",
        "\n",
        "  logits = model.predict(img)[0]\n",
        "  prediction = softmax(logits)\n",
        "  #print(prediction)\n",
        "  a = prediction.tolist()\n",
        "  a = sorted(a, reverse=True)\n",
        "  # top = prediction.argsort()[::-1]\n",
        "  # labels = [label[index] for index in top]\n",
        "  # idx = int(image_path.split('/')[-2])\n",
        "  plt.title(a)\n",
        "  plt.axis('off')\n",
        "plt.show()"
      ],
      "execution_count": null,
      "outputs": []
    },
    {
      "cell_type": "code",
      "metadata": {
        "id": "1qOR8yP-l9dx"
      },
      "source": [
        "import cv2\n",
        "\n",
        "plt.figure(figsize=((16, 25)))\n",
        "\n",
        "def softmax(x):\n",
        "    m = np.max(x)\n",
        "    sm = np.exp(x - m)/np.sum(np.exp(x - m))\n",
        "    return sm\n",
        "  \n",
        "def sigmoid(x):\n",
        "  return 1 / (1 + math.exp(-x))\n",
        "\n",
        "for n in range(15):\n",
        "    #랜덤 이미지 경로 추출\n",
        "    image_path = random.choice(all_image_paths)\n",
        "\n",
        "    #이미지 크기 변경 및 정규화\n",
        "    img = cv2.imread(image_path)\n",
        "    # img = cv2.resize(img, dsize=(224, 224))\n",
        "    img = img / 255.0  # 3차원 행렬(224, 224, 3)\n",
        "    img = np.expand_dims(img, axis=0)  # 4차원 (1, 224, 224, 3)\n",
        "\n",
        "    # 이미지 분류\n",
        "    logits = model.predict(img)[0]\n",
        "    # prediction = softmax(logits)\n",
        "    # arr = prediction.astype(np.int)\n",
        "    # arr = prediction[0]\n",
        "\n",
        "    #이미지 출력\n",
        "    plt.subplot(5,3, n+1)\n",
        "    plt.imshow(plt.imread(image_path))\n",
        "    idx = image_path.split('/')[-2]\n",
        "    plt.title('label: ' + str(idx))\n",
        "    plt.xlabel(str(logits))\n",
        "    #plt.xlabel(confusion_matrix(img, model.predict))\n",
        "    # plt.xlabel(arr)\n",
        "\n"
      ],
      "execution_count": null,
      "outputs": []
    },
    {
      "cell_type": "markdown",
      "metadata": {
        "id": "1A_iHwnUlITV"
      },
      "source": [
        "# label없는 데이터로 테스트"
      ]
    },
    {
      "cell_type": "code",
      "metadata": {
        "id": "ByOHBhaPE9Bb"
      },
      "source": [
        "model.save('/content/drive/My Drive/Colab Notebooks/models/pre_check_model.h5')"
      ],
      "execution_count": null,
      "outputs": []
    },
    {
      "cell_type": "code",
      "metadata": {
        "id": "PJO0_zKYkk51"
      },
      "source": [
        "!unzip /content/drive/My\\ Drive/Colab\\ Notebooks/datasets/project_test_image.zip"
      ],
      "execution_count": null,
      "outputs": []
    },
    {
      "cell_type": "code",
      "metadata": {
        "id": "aNJ50pG0lVFt"
      },
      "source": [
        "from keras.models import load_model\n",
        "\n",
        "model_call = load_model('/content/drive/My Drive/Colab Notebooks/models/pre_check_model.h5')"
      ],
      "execution_count": null,
      "outputs": []
    },
    {
      "cell_type": "code",
      "metadata": {
        "colab": {
          "base_uri": "https://localhost:8080/"
        },
        "id": "1A-2h-AJmKhM",
        "outputId": "f4b95d19-986e-40cd-c775-50876f6704ed"
      },
      "source": [
        "import pathlib\n",
        "from glob import glob\n",
        "\n",
        "data_roots = pathlib.Path(glob('/content/*/')[3])\n",
        "print(data_roots)"
      ],
      "execution_count": null,
      "outputs": [
        {
          "output_type": "stream",
          "text": [
            "/content/best\n"
          ],
          "name": "stdout"
        }
      ]
    },
    {
      "cell_type": "code",
      "metadata": {
        "colab": {
          "base_uri": "https://localhost:8080/"
        },
        "id": "yt1NH1cenpFt",
        "outputId": "beada33f-bf41-42f3-b272-59cfc1d0d637"
      },
      "source": [
        "!ls /content/best"
      ],
      "execution_count": null,
      "outputs": [
        {
          "output_type": "stream",
          "text": [
            "전신샷390.jpg  전신샷447.jpg  전신샷508.jpg  전신샷646.jpg  전신샷711.jpg\n",
            "전신샷402.jpg  전신샷475.jpg  전신샷518.jpg  전신샷649.jpg  전신샷722.jpg\n",
            "전신샷414.jpg  전신샷476.jpg  전신샷522.jpg  전신샷650.jpg  전신샷745.jpg\n",
            "스타일418.jpg  전신샷481.jpg  전신샷539.jpg  전신샷666.jpg  전신샷748.jpg\n",
            "전신샷425.jpg  전신샷483.jpg  전신샷624.jpg  전신샷672.jpg  전신샷764.jpg\n",
            "전신샷428.jpg  전신샷490.jpg  전신샷626.jpg  전신샷679.jpg\n",
            "전신샷443.jpg  전신샷499.jpg  전신샷627.jpg  전신샷683.jpg\n"
          ],
          "name": "stdout"
        }
      ]
    },
    {
      "cell_type": "code",
      "metadata": {
        "colab": {
          "base_uri": "https://localhost:8080/"
        },
        "id": "-fa7hEUhlm1l",
        "outputId": "f7472381-0c9b-47eb-c6bd-fb3db065d769"
      },
      "source": [
        "import random\n",
        "\n",
        "all_paths = list(data_roots.glob('*'))\n",
        "print(all_paths)\n",
        "all_paths = [str(path) for path in all_paths]\n",
        "\n",
        "image_count = len(all_paths)\n",
        "print('image_count:', image_count)"
      ],
      "execution_count": null,
      "outputs": [
        {
          "output_type": "stream",
          "text": [
            "[PosixPath('/content/best/전신샷539.jpg'), PosixPath('/content/best/전신샷443.jpg'), PosixPath('/content/best/전신샷764.jpg'), PosixPath('/content/best/전신샷490.jpg'), PosixPath('/content/best/전신샷483.jpg'), PosixPath('/content/best/전신샷672.jpg'), PosixPath('/content/best/전신샷649.jpg'), PosixPath('/content/best/전신샷481.jpg'), PosixPath('/content/best/전신샷499.jpg'), PosixPath('/content/best/전신샷428.jpg'), PosixPath('/content/best/전신샷522.jpg'), PosixPath('/content/best/전신샷745.jpg'), PosixPath('/content/best/전신샷475.jpg'), PosixPath('/content/best/전신샷508.jpg'), PosixPath('/content/best/전신샷624.jpg'), PosixPath('/content/best/전신샷683.jpg'), PosixPath('/content/best/전신샷748.jpg'), PosixPath('/content/best/전신샷518.jpg'), PosixPath('/content/best/전신샷476.jpg'), PosixPath('/content/best/전신샷627.jpg'), PosixPath('/content/best/전신샷722.jpg'), PosixPath('/content/best/전신샷646.jpg'), PosixPath('/content/best/전신샷447.jpg'), PosixPath('/content/best/전신샷711.jpg'), PosixPath('/content/best/전신샷402.jpg'), PosixPath('/content/best/전신샷626.jpg'), PosixPath('/content/best/전신샷414.jpg'), PosixPath('/content/best/전신샷679.jpg'), PosixPath('/content/best/전신샷390.jpg'), PosixPath('/content/best/스타일418.jpg'), PosixPath('/content/best/전신샷425.jpg'), PosixPath('/content/best/전신샷666.jpg'), PosixPath('/content/best/전신샷650.jpg')]\n",
            "image_count: 33\n"
          ],
          "name": "stdout"
        }
      ]
    },
    {
      "cell_type": "code",
      "metadata": {
        "id": "Ey8F8XXJn0es"
      },
      "source": [
        "import cv2\n",
        "\n",
        "plt.figure(figsize=((16, 25)))\n",
        "\n",
        "def softmax(x):\n",
        "    m = np.max(x)\n",
        "    sm = np.exp(x - m)/np.sum(np.exp(x - m))\n",
        "    return sm\n",
        "\n",
        "for n in range(15):\n",
        "    #랜덤 이미지 경로 추출\n",
        "    image_path = random.choice(all_paths)\n",
        "\n",
        "    #이미지 크기 변경 및 정규화\n",
        "    img = cv2.imread(image_path)\n",
        "    # img = cv2.resize(img, dsize=(224, 224))\n",
        "    img = img / 255.0  # 3차원 행렬(224, 224, 3)\n",
        "    img = np.expand_dims(img, axis=0)  # 4차원 (1, 224, 224, 3)\n",
        "\n",
        "    # 이미지 분류\n",
        "    logits = model_call.predict(img)[0]\n",
        "    # prediction = softmax(logits)\n",
        "    # arr = prediction.astype(np.int)\n",
        "    # arr = prediction[0]\n",
        "\n",
        "    #이미지 출력\n",
        "    plt.subplot(5,3, n+1)\n",
        "    plt.imshow(plt.imread(image_path))\n",
        "    idx = image_path.split('/')[-2]\n",
        "    plt.title('label: ' + str(idx))\n",
        "    plt.xlabel(str(logits))\n",
        "    #plt.xlabel(confusion_matrix(img, model.predict))\n",
        "    # plt.xlabel(arr)\n",
        "\n"
      ],
      "execution_count": null,
      "outputs": []
    }
  ]
}