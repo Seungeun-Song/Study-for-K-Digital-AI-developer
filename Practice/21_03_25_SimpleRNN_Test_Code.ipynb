{
  "nbformat": 4,
  "nbformat_minor": 0,
  "metadata": {
    "colab": {
      "name": "SimpleRNN_Test_Code_CPU.ipynb",
      "provenance": [],
      "collapsed_sections": [],
      "toc_visible": true
    },
    "kernelspec": {
      "name": "python3",
      "display_name": "Python 3"
    },
    "language_info": {
      "name": "python"
    }
  },
  "cells": [
    {
      "cell_type": "code",
      "metadata": {
        "id": "4tPui38KQvtJ"
      },
      "source": [
        "import numpy as np\n",
        "import matplotlib.pyplot as plt"
      ],
      "execution_count": 1,
      "outputs": []
    },
    {
      "cell_type": "code",
      "metadata": {
        "colab": {
          "base_uri": "https://localhost:8080/"
        },
        "id": "JkEhaklhRBR9",
        "outputId": "474bf2c1-b6f4-49e5-db18-144317ebb295"
      },
      "source": [
        "X = [[[i + j] for i in range(5)] for j in range(100)]\n",
        "X[:3], X[-3:]"
      ],
      "execution_count": 2,
      "outputs": [
        {
          "output_type": "execute_result",
          "data": {
            "text/plain": [
              "([[[0], [1], [2], [3], [4]],\n",
              "  [[1], [2], [3], [4], [5]],\n",
              "  [[2], [3], [4], [5], [6]]],\n",
              " [[[97], [98], [99], [100], [101]],\n",
              "  [[98], [99], [100], [101], [102]],\n",
              "  [[99], [100], [101], [102], [103]]])"
            ]
          },
          "metadata": {
            "tags": []
          },
          "execution_count": 2
        }
      ]
    },
    {
      "cell_type": "code",
      "metadata": {
        "colab": {
          "base_uri": "https://localhost:8080/"
        },
        "id": "F5j2rdDXRM7s",
        "outputId": "1e331a96-4ec1-4024-92c8-23725ef21bde"
      },
      "source": [
        "y = [(i+5) for i in range(100)]\n",
        "y[:3], y[-3:]"
      ],
      "execution_count": 3,
      "outputs": [
        {
          "output_type": "execute_result",
          "data": {
            "text/plain": [
              "([5, 6, 7], [102, 103, 104])"
            ]
          },
          "metadata": {
            "tags": []
          },
          "execution_count": 3
        }
      ]
    },
    {
      "cell_type": "code",
      "metadata": {
        "colab": {
          "base_uri": "https://localhost:8080/"
        },
        "id": "vogqAPoIRhsr",
        "outputId": "7ab11066-99e5-4aa3-accc-dbab2298ae4f"
      },
      "source": [
        "X = np.array(X, dtype=float)\n",
        "y = np.array(y, dtype=float)\n",
        "\n",
        "X.shape, y.shape"
      ],
      "execution_count": 4,
      "outputs": [
        {
          "output_type": "execute_result",
          "data": {
            "text/plain": [
              "((100, 5, 1), (100,))"
            ]
          },
          "metadata": {
            "tags": []
          },
          "execution_count": 4
        }
      ]
    },
    {
      "cell_type": "code",
      "metadata": {
        "colab": {
          "base_uri": "https://localhost:8080/"
        },
        "id": "LZcMZjv2UKfp",
        "outputId": "9ed0fe5e-adcb-4991-822c-6816afbc9d2b"
      },
      "source": [
        "from sklearn.model_selection import train_test_split\n",
        "\n",
        "X_train, X_test, y_train, y_test = train_test_split(X, y,test_size = 0.2,random_state = 2045)\n",
        "\n",
        "X_train.shape, y_train.shape, X_test.shape, y_test.shape"
      ],
      "execution_count": 5,
      "outputs": [
        {
          "output_type": "execute_result",
          "data": {
            "text/plain": [
              "((80, 5, 1), (80,), (20, 5, 1), (20,))"
            ]
          },
          "metadata": {
            "tags": []
          },
          "execution_count": 5
        }
      ]
    },
    {
      "cell_type": "code",
      "metadata": {
        "colab": {
          "base_uri": "https://localhost:8080/"
        },
        "id": "I9iTHbtSRszT",
        "outputId": "224ec009-f423-4d2c-c15f-8d66f55c075c"
      },
      "source": [
        "from keras import models, layers\n",
        "\n",
        "model_1 = models.Sequential(name = 'SimpleRNN_1')\n",
        "model_1.add(layers.SimpleRNN(3,  # input -> layer1(그 안에 노드가 3개) \n",
        "                             input_shape=(5,1),  # activation을 넣지 않는 이유 - 기본적으로 tanh이 들어있어\n",
        "                             return_sequences = False)) # 시퀀스마다 output을 내지 않겠다는\n",
        "model_1.add(layers.Dense(1)) # 분류X  예측O!!!\n",
        "model_1.summary()"
      ],
      "execution_count": 6,
      "outputs": [
        {
          "output_type": "stream",
          "text": [
            "Model: \"SimpleRNN_1\"\n",
            "_________________________________________________________________\n",
            "Layer (type)                 Output Shape              Param #   \n",
            "=================================================================\n",
            "simple_rnn (SimpleRNN)       (None, 3)                 15        \n",
            "_________________________________________________________________\n",
            "dense (Dense)                (None, 1)                 4         \n",
            "=================================================================\n",
            "Total params: 19\n",
            "Trainable params: 19\n",
            "Non-trainable params: 0\n",
            "_________________________________________________________________\n"
          ],
          "name": "stdout"
        }
      ]
    },
    {
      "cell_type": "code",
      "metadata": {
        "id": "QZ_ecsmWTA9y"
      },
      "source": [
        "model_1.compile(loss='mse', # 예측문제니까\n",
        "                optimizer='adam',metrics=['accuracy'])"
      ],
      "execution_count": 7,
      "outputs": []
    },
    {
      "cell_type": "code",
      "metadata": {
        "colab": {
          "base_uri": "https://localhost:8080/"
        },
        "id": "kH4WZp16T2dq",
        "outputId": "b70d76d0-79f9-4318-dd71-0c516b1fba18"
      },
      "source": [
        "Hist_1 = model_1.fit(X_train, y_train, epochs=100, batch_size=8, #80개니까\n",
        "                     validation_data=(X_test, y_test))"
      ],
      "execution_count": 8,
      "outputs": [
        {
          "output_type": "stream",
          "text": [
            "Epoch 1/100\n",
            "10/10 [==============================] - 2s 71ms/step - loss: 3749.5252 - accuracy: 0.0000e+00 - val_loss: 3917.2395 - val_accuracy: 0.0000e+00\n",
            "Epoch 2/100\n",
            "10/10 [==============================] - 0s 7ms/step - loss: 4044.3356 - accuracy: 0.0000e+00 - val_loss: 3912.7500 - val_accuracy: 0.0000e+00\n",
            "Epoch 3/100\n",
            "10/10 [==============================] - 0s 7ms/step - loss: 3897.7218 - accuracy: 0.0000e+00 - val_loss: 3908.2954 - val_accuracy: 0.0000e+00\n",
            "Epoch 4/100\n",
            "10/10 [==============================] - 0s 7ms/step - loss: 3514.9815 - accuracy: 0.0000e+00 - val_loss: 3903.8599 - val_accuracy: 0.0000e+00\n",
            "Epoch 5/100\n",
            "10/10 [==============================] - 0s 6ms/step - loss: 4109.3818 - accuracy: 0.0000e+00 - val_loss: 3899.3511 - val_accuracy: 0.0000e+00\n",
            "Epoch 6/100\n",
            "10/10 [==============================] - 0s 6ms/step - loss: 3984.1571 - accuracy: 0.0000e+00 - val_loss: 3894.8860 - val_accuracy: 0.0000e+00\n",
            "Epoch 7/100\n",
            "10/10 [==============================] - 0s 6ms/step - loss: 3930.8204 - accuracy: 0.0000e+00 - val_loss: 3890.4453 - val_accuracy: 0.0000e+00\n",
            "Epoch 8/100\n",
            "10/10 [==============================] - 0s 6ms/step - loss: 3663.5869 - accuracy: 0.0000e+00 - val_loss: 3885.9739 - val_accuracy: 0.0000e+00\n",
            "Epoch 9/100\n",
            "10/10 [==============================] - 0s 7ms/step - loss: 4325.5798 - accuracy: 0.0000e+00 - val_loss: 3881.4524 - val_accuracy: 0.0000e+00\n",
            "Epoch 10/100\n",
            "10/10 [==============================] - 0s 7ms/step - loss: 3593.5516 - accuracy: 0.0000e+00 - val_loss: 3877.0249 - val_accuracy: 0.0000e+00\n",
            "Epoch 11/100\n",
            "10/10 [==============================] - 0s 6ms/step - loss: 3609.2820 - accuracy: 0.0000e+00 - val_loss: 3872.5469 - val_accuracy: 0.0000e+00\n",
            "Epoch 12/100\n",
            "10/10 [==============================] - 0s 6ms/step - loss: 3968.8054 - accuracy: 0.0000e+00 - val_loss: 3867.7688 - val_accuracy: 0.0000e+00\n",
            "Epoch 13/100\n",
            "10/10 [==============================] - 0s 6ms/step - loss: 3285.0899 - accuracy: 0.0000e+00 - val_loss: 3862.5864 - val_accuracy: 0.0000e+00\n",
            "Epoch 14/100\n",
            "10/10 [==============================] - 0s 6ms/step - loss: 3564.7564 - accuracy: 0.0000e+00 - val_loss: 3855.8516 - val_accuracy: 0.0000e+00\n",
            "Epoch 15/100\n",
            "10/10 [==============================] - 0s 6ms/step - loss: 4244.3004 - accuracy: 0.0000e+00 - val_loss: 3833.9590 - val_accuracy: 0.0000e+00\n",
            "Epoch 16/100\n",
            "10/10 [==============================] - 0s 7ms/step - loss: 4099.8120 - accuracy: 0.0000e+00 - val_loss: 3632.0579 - val_accuracy: 0.0000e+00\n",
            "Epoch 17/100\n",
            "10/10 [==============================] - 0s 6ms/step - loss: 3855.0879 - accuracy: 0.0000e+00 - val_loss: 3619.0496 - val_accuracy: 0.0000e+00\n",
            "Epoch 18/100\n",
            "10/10 [==============================] - 0s 8ms/step - loss: 3915.5728 - accuracy: 0.0000e+00 - val_loss: 3614.1558 - val_accuracy: 0.0000e+00\n",
            "Epoch 19/100\n",
            "10/10 [==============================] - 0s 7ms/step - loss: 3738.1184 - accuracy: 0.0000e+00 - val_loss: 3609.9375 - val_accuracy: 0.0000e+00\n",
            "Epoch 20/100\n",
            "10/10 [==============================] - 0s 8ms/step - loss: 3802.8631 - accuracy: 0.0000e+00 - val_loss: 3605.7720 - val_accuracy: 0.0000e+00\n",
            "Epoch 21/100\n",
            "10/10 [==============================] - 0s 7ms/step - loss: 2947.1916 - accuracy: 0.0000e+00 - val_loss: 3601.7129 - val_accuracy: 0.0000e+00\n",
            "Epoch 22/100\n",
            "10/10 [==============================] - 0s 7ms/step - loss: 3917.9033 - accuracy: 0.0000e+00 - val_loss: 3597.4751 - val_accuracy: 0.0000e+00\n",
            "Epoch 23/100\n",
            "10/10 [==============================] - 0s 6ms/step - loss: 3435.8387 - accuracy: 0.0000e+00 - val_loss: 3593.3481 - val_accuracy: 0.0000e+00\n",
            "Epoch 24/100\n",
            "10/10 [==============================] - 0s 7ms/step - loss: 3842.9681 - accuracy: 0.0000e+00 - val_loss: 3589.1597 - val_accuracy: 0.0000e+00\n",
            "Epoch 25/100\n",
            "10/10 [==============================] - 0s 6ms/step - loss: 3497.0312 - accuracy: 0.0000e+00 - val_loss: 3585.0703 - val_accuracy: 0.0000e+00\n",
            "Epoch 26/100\n",
            "10/10 [==============================] - 0s 7ms/step - loss: 3512.8429 - accuracy: 0.0000e+00 - val_loss: 3580.9419 - val_accuracy: 0.0000e+00\n",
            "Epoch 27/100\n",
            "10/10 [==============================] - 0s 7ms/step - loss: 3793.1559 - accuracy: 0.0000e+00 - val_loss: 3576.8262 - val_accuracy: 0.0000e+00\n",
            "Epoch 28/100\n",
            "10/10 [==============================] - 0s 6ms/step - loss: 3605.5307 - accuracy: 0.0000e+00 - val_loss: 3572.6843 - val_accuracy: 0.0000e+00\n",
            "Epoch 29/100\n",
            "10/10 [==============================] - 0s 6ms/step - loss: 3979.0315 - accuracy: 0.0000e+00 - val_loss: 3568.5422 - val_accuracy: 0.0000e+00\n",
            "Epoch 30/100\n",
            "10/10 [==============================] - 0s 6ms/step - loss: 4104.7745 - accuracy: 0.0000e+00 - val_loss: 3564.4009 - val_accuracy: 0.0000e+00\n",
            "Epoch 31/100\n",
            "10/10 [==============================] - 0s 7ms/step - loss: 3458.7536 - accuracy: 0.0000e+00 - val_loss: 3560.3501 - val_accuracy: 0.0000e+00\n",
            "Epoch 32/100\n",
            "10/10 [==============================] - 0s 7ms/step - loss: 3624.0935 - accuracy: 0.0000e+00 - val_loss: 3556.2280 - val_accuracy: 0.0000e+00\n",
            "Epoch 33/100\n",
            "10/10 [==============================] - 0s 7ms/step - loss: 3979.2850 - accuracy: 0.0000e+00 - val_loss: 3552.0938 - val_accuracy: 0.0000e+00\n",
            "Epoch 34/100\n",
            "10/10 [==============================] - 0s 7ms/step - loss: 3567.6398 - accuracy: 0.0000e+00 - val_loss: 3548.0078 - val_accuracy: 0.0000e+00\n",
            "Epoch 35/100\n",
            "10/10 [==============================] - 0s 7ms/step - loss: 3545.8530 - accuracy: 0.0000e+00 - val_loss: 3543.9316 - val_accuracy: 0.0000e+00\n",
            "Epoch 36/100\n",
            "10/10 [==============================] - 0s 7ms/step - loss: 4125.5748 - accuracy: 0.0000e+00 - val_loss: 3539.7368 - val_accuracy: 0.0000e+00\n",
            "Epoch 37/100\n",
            "10/10 [==============================] - 0s 6ms/step - loss: 3738.7323 - accuracy: 0.0000e+00 - val_loss: 3535.7031 - val_accuracy: 0.0000e+00\n",
            "Epoch 38/100\n",
            "10/10 [==============================] - 0s 7ms/step - loss: 3520.4361 - accuracy: 0.0000e+00 - val_loss: 3531.6809 - val_accuracy: 0.0000e+00\n",
            "Epoch 39/100\n",
            "10/10 [==============================] - 0s 6ms/step - loss: 3921.6375 - accuracy: 0.0000e+00 - val_loss: 3527.4961 - val_accuracy: 0.0000e+00\n",
            "Epoch 40/100\n",
            "10/10 [==============================] - 0s 7ms/step - loss: 3049.7691 - accuracy: 0.0000e+00 - val_loss: 3523.5281 - val_accuracy: 0.0000e+00\n",
            "Epoch 41/100\n",
            "10/10 [==============================] - 0s 7ms/step - loss: 3091.9623 - accuracy: 0.0000e+00 - val_loss: 3519.4741 - val_accuracy: 0.0000e+00\n",
            "Epoch 42/100\n",
            "10/10 [==============================] - 0s 6ms/step - loss: 3734.2573 - accuracy: 0.0000e+00 - val_loss: 3515.3196 - val_accuracy: 0.0000e+00\n",
            "Epoch 43/100\n",
            "10/10 [==============================] - 0s 7ms/step - loss: 3665.4083 - accuracy: 0.0000e+00 - val_loss: 3511.2476 - val_accuracy: 0.0000e+00\n",
            "Epoch 44/100\n",
            "10/10 [==============================] - 0s 6ms/step - loss: 4088.1560 - accuracy: 0.0000e+00 - val_loss: 3507.0691 - val_accuracy: 0.0000e+00\n",
            "Epoch 45/100\n",
            "10/10 [==============================] - 0s 6ms/step - loss: 3443.6115 - accuracy: 0.0000e+00 - val_loss: 3503.0774 - val_accuracy: 0.0000e+00\n",
            "Epoch 46/100\n",
            "10/10 [==============================] - 0s 6ms/step - loss: 3351.6793 - accuracy: 0.0000e+00 - val_loss: 3499.0337 - val_accuracy: 0.0000e+00\n",
            "Epoch 47/100\n",
            "10/10 [==============================] - 0s 6ms/step - loss: 3918.7284 - accuracy: 0.0000e+00 - val_loss: 3494.8997 - val_accuracy: 0.0000e+00\n",
            "Epoch 48/100\n",
            "10/10 [==============================] - 0s 7ms/step - loss: 3699.6531 - accuracy: 0.0000e+00 - val_loss: 3490.8892 - val_accuracy: 0.0000e+00\n",
            "Epoch 49/100\n",
            "10/10 [==============================] - 0s 6ms/step - loss: 3494.3880 - accuracy: 0.0000e+00 - val_loss: 3486.8931 - val_accuracy: 0.0000e+00\n",
            "Epoch 50/100\n",
            "10/10 [==============================] - 0s 6ms/step - loss: 3212.1178 - accuracy: 0.0000e+00 - val_loss: 3482.8774 - val_accuracy: 0.0000e+00\n",
            "Epoch 51/100\n",
            "10/10 [==============================] - 0s 7ms/step - loss: 3682.3926 - accuracy: 0.0000e+00 - val_loss: 3478.7773 - val_accuracy: 0.0000e+00\n",
            "Epoch 52/100\n",
            "10/10 [==============================] - 0s 6ms/step - loss: 3457.8224 - accuracy: 0.0000e+00 - val_loss: 3474.7605 - val_accuracy: 0.0000e+00\n",
            "Epoch 53/100\n",
            "10/10 [==============================] - 0s 7ms/step - loss: 3443.6499 - accuracy: 0.0000e+00 - val_loss: 3470.6948 - val_accuracy: 0.0000e+00\n",
            "Epoch 54/100\n",
            "10/10 [==============================] - 0s 7ms/step - loss: 3848.2811 - accuracy: 0.0000e+00 - val_loss: 3466.5991 - val_accuracy: 0.0000e+00\n",
            "Epoch 55/100\n",
            "10/10 [==============================] - 0s 6ms/step - loss: 3021.4258 - accuracy: 0.0000e+00 - val_loss: 3462.7039 - val_accuracy: 0.0000e+00\n",
            "Epoch 56/100\n",
            "10/10 [==============================] - 0s 6ms/step - loss: 3051.5548 - accuracy: 0.0000e+00 - val_loss: 3458.7046 - val_accuracy: 0.0000e+00\n",
            "Epoch 57/100\n",
            "10/10 [==============================] - 0s 6ms/step - loss: 3428.6412 - accuracy: 0.0000e+00 - val_loss: 3454.6824 - val_accuracy: 0.0000e+00\n",
            "Epoch 58/100\n",
            "10/10 [==============================] - 0s 7ms/step - loss: 3280.2714 - accuracy: 0.0000e+00 - val_loss: 3450.6047 - val_accuracy: 0.0000e+00\n",
            "Epoch 59/100\n",
            "10/10 [==============================] - 0s 6ms/step - loss: 3451.3157 - accuracy: 0.0000e+00 - val_loss: 3446.5945 - val_accuracy: 0.0000e+00\n",
            "Epoch 60/100\n",
            "10/10 [==============================] - 0s 6ms/step - loss: 3622.8319 - accuracy: 0.0000e+00 - val_loss: 3442.5542 - val_accuracy: 0.0000e+00\n",
            "Epoch 61/100\n",
            "10/10 [==============================] - 0s 6ms/step - loss: 3632.2538 - accuracy: 0.0000e+00 - val_loss: 3438.5415 - val_accuracy: 0.0000e+00\n",
            "Epoch 62/100\n",
            "10/10 [==============================] - 0s 6ms/step - loss: 3558.5387 - accuracy: 0.0000e+00 - val_loss: 3434.5181 - val_accuracy: 0.0000e+00\n",
            "Epoch 63/100\n",
            "10/10 [==============================] - 0s 8ms/step - loss: 3499.9335 - accuracy: 0.0000e+00 - val_loss: 3430.5269 - val_accuracy: 0.0000e+00\n",
            "Epoch 64/100\n",
            "10/10 [==============================] - 0s 7ms/step - loss: 3814.6527 - accuracy: 0.0000e+00 - val_loss: 3426.4656 - val_accuracy: 0.0000e+00\n",
            "Epoch 65/100\n",
            "10/10 [==============================] - 0s 7ms/step - loss: 3470.7457 - accuracy: 0.0000e+00 - val_loss: 3422.5054 - val_accuracy: 0.0000e+00\n",
            "Epoch 66/100\n",
            "10/10 [==============================] - 0s 7ms/step - loss: 3385.6768 - accuracy: 0.0000e+00 - val_loss: 3418.5793 - val_accuracy: 0.0000e+00\n",
            "Epoch 67/100\n",
            "10/10 [==============================] - 0s 7ms/step - loss: 3610.2472 - accuracy: 0.0000e+00 - val_loss: 3414.5227 - val_accuracy: 0.0000e+00\n",
            "Epoch 68/100\n",
            "10/10 [==============================] - 0s 7ms/step - loss: 3541.6245 - accuracy: 0.0000e+00 - val_loss: 3410.6165 - val_accuracy: 0.0000e+00\n",
            "Epoch 69/100\n",
            "10/10 [==============================] - 0s 8ms/step - loss: 3629.6766 - accuracy: 0.0000e+00 - val_loss: 3406.6665 - val_accuracy: 0.0000e+00\n",
            "Epoch 70/100\n",
            "10/10 [==============================] - 0s 7ms/step - loss: 3910.3843 - accuracy: 0.0000e+00 - val_loss: 3402.6157 - val_accuracy: 0.0000e+00\n",
            "Epoch 71/100\n",
            "10/10 [==============================] - 0s 7ms/step - loss: 3399.5989 - accuracy: 0.0000e+00 - val_loss: 3398.6895 - val_accuracy: 0.0000e+00\n",
            "Epoch 72/100\n",
            "10/10 [==============================] - 0s 7ms/step - loss: 3239.5188 - accuracy: 0.0000e+00 - val_loss: 3394.7727 - val_accuracy: 0.0000e+00\n",
            "Epoch 73/100\n",
            "10/10 [==============================] - 0s 6ms/step - loss: 3757.7547 - accuracy: 0.0000e+00 - val_loss: 3390.7656 - val_accuracy: 0.0000e+00\n",
            "Epoch 74/100\n",
            "10/10 [==============================] - 0s 6ms/step - loss: 3651.4352 - accuracy: 0.0000e+00 - val_loss: 3386.7852 - val_accuracy: 0.0000e+00\n",
            "Epoch 75/100\n",
            "10/10 [==============================] - 0s 6ms/step - loss: 3640.5850 - accuracy: 0.0000e+00 - val_loss: 3382.8328 - val_accuracy: 0.0000e+00\n",
            "Epoch 76/100\n",
            "10/10 [==============================] - 0s 9ms/step - loss: 3312.1293 - accuracy: 0.0000e+00 - val_loss: 3378.9485 - val_accuracy: 0.0000e+00\n",
            "Epoch 77/100\n",
            "10/10 [==============================] - 0s 7ms/step - loss: 3484.4206 - accuracy: 0.0000e+00 - val_loss: 3374.9609 - val_accuracy: 0.0000e+00\n",
            "Epoch 78/100\n",
            "10/10 [==============================] - 0s 7ms/step - loss: 3672.2661 - accuracy: 0.0000e+00 - val_loss: 3371.0071 - val_accuracy: 0.0000e+00\n",
            "Epoch 79/100\n",
            "10/10 [==============================] - 0s 6ms/step - loss: 3262.0314 - accuracy: 0.0000e+00 - val_loss: 3367.1079 - val_accuracy: 0.0000e+00\n",
            "Epoch 80/100\n",
            "10/10 [==============================] - 0s 7ms/step - loss: 3494.2706 - accuracy: 0.0000e+00 - val_loss: 3363.1543 - val_accuracy: 0.0000e+00\n",
            "Epoch 81/100\n",
            "10/10 [==============================] - 0s 6ms/step - loss: 3441.7697 - accuracy: 0.0000e+00 - val_loss: 3359.2554 - val_accuracy: 0.0000e+00\n",
            "Epoch 82/100\n",
            "10/10 [==============================] - 0s 7ms/step - loss: 3302.6537 - accuracy: 0.0000e+00 - val_loss: 3355.3105 - val_accuracy: 0.0000e+00\n",
            "Epoch 83/100\n",
            "10/10 [==============================] - 0s 7ms/step - loss: 3363.3639 - accuracy: 0.0000e+00 - val_loss: 3351.4087 - val_accuracy: 0.0000e+00\n",
            "Epoch 84/100\n",
            "10/10 [==============================] - 0s 7ms/step - loss: 3759.8611 - accuracy: 0.0000e+00 - val_loss: 3347.4224 - val_accuracy: 0.0000e+00\n",
            "Epoch 85/100\n",
            "10/10 [==============================] - 0s 7ms/step - loss: 3318.6015 - accuracy: 0.0000e+00 - val_loss: 3343.5457 - val_accuracy: 0.0000e+00\n",
            "Epoch 86/100\n",
            "10/10 [==============================] - 0s 8ms/step - loss: 3604.5450 - accuracy: 0.0000e+00 - val_loss: 3339.6655 - val_accuracy: 0.0000e+00\n",
            "Epoch 87/100\n",
            "10/10 [==============================] - 0s 7ms/step - loss: 3381.4020 - accuracy: 0.0000e+00 - val_loss: 3335.7649 - val_accuracy: 0.0000e+00\n",
            "Epoch 88/100\n",
            "10/10 [==============================] - 0s 7ms/step - loss: 3114.4828 - accuracy: 0.0000e+00 - val_loss: 3331.9265 - val_accuracy: 0.0000e+00\n",
            "Epoch 89/100\n",
            "10/10 [==============================] - 0s 6ms/step - loss: 2953.1154 - accuracy: 0.0000e+00 - val_loss: 3328.0461 - val_accuracy: 0.0000e+00\n",
            "Epoch 90/100\n",
            "10/10 [==============================] - 0s 6ms/step - loss: 3088.5441 - accuracy: 0.0000e+00 - val_loss: 3324.1980 - val_accuracy: 0.0000e+00\n",
            "Epoch 91/100\n",
            "10/10 [==============================] - 0s 9ms/step - loss: 2947.7031 - accuracy: 0.0000e+00 - val_loss: 3320.3040 - val_accuracy: 0.0000e+00\n",
            "Epoch 92/100\n",
            "10/10 [==============================] - 0s 7ms/step - loss: 3044.9129 - accuracy: 0.0000e+00 - val_loss: 3316.4114 - val_accuracy: 0.0000e+00\n",
            "Epoch 93/100\n",
            "10/10 [==============================] - 0s 6ms/step - loss: 3634.5673 - accuracy: 0.0000e+00 - val_loss: 3312.4153 - val_accuracy: 0.0000e+00\n",
            "Epoch 94/100\n",
            "10/10 [==============================] - 0s 6ms/step - loss: 3250.0338 - accuracy: 0.0000e+00 - val_loss: 3308.5696 - val_accuracy: 0.0000e+00\n",
            "Epoch 95/100\n",
            "10/10 [==============================] - 0s 8ms/step - loss: 3249.7958 - accuracy: 0.0000e+00 - val_loss: 3304.7148 - val_accuracy: 0.0000e+00\n",
            "Epoch 96/100\n",
            "10/10 [==============================] - 0s 7ms/step - loss: 3242.4192 - accuracy: 0.0000e+00 - val_loss: 3300.8296 - val_accuracy: 0.0000e+00\n",
            "Epoch 97/100\n",
            "10/10 [==============================] - 0s 6ms/step - loss: 3443.1781 - accuracy: 0.0000e+00 - val_loss: 3296.9512 - val_accuracy: 0.0000e+00\n",
            "Epoch 98/100\n",
            "10/10 [==============================] - 0s 6ms/step - loss: 3310.8640 - accuracy: 0.0000e+00 - val_loss: 3293.1069 - val_accuracy: 0.0000e+00\n",
            "Epoch 99/100\n",
            "10/10 [==============================] - 0s 8ms/step - loss: 3164.7439 - accuracy: 0.0000e+00 - val_loss: 3289.2544 - val_accuracy: 0.0000e+00\n",
            "Epoch 100/100\n",
            "10/10 [==============================] - 0s 8ms/step - loss: 3580.2367 - accuracy: 0.0000e+00 - val_loss: 3285.3633 - val_accuracy: 0.0000e+00\n"
          ],
          "name": "stdout"
        }
      ]
    },
    {
      "cell_type": "code",
      "metadata": {
        "colab": {
          "base_uri": "https://localhost:8080/"
        },
        "id": "rr6juVGI470u",
        "outputId": "50bebcb6-e978-4329-b48e-a4d3bb57f1b8"
      },
      "source": [
        "model_1.predict(X_test[0].reshape(1,5,1))"
      ],
      "execution_count": 9,
      "outputs": [
        {
          "output_type": "execute_result",
          "data": {
            "text/plain": [
              "array([[4.5504]], dtype=float32)"
            ]
          },
          "metadata": {
            "tags": []
          },
          "execution_count": 9
        }
      ]
    },
    {
      "cell_type": "code",
      "metadata": {
        "id": "ql_aCKHAUGlK"
      },
      "source": [
        "y_hat = model_1.predict(X_test)\n"
      ],
      "execution_count": null,
      "outputs": []
    },
    {
      "cell_type": "code",
      "metadata": {
        "colab": {
          "base_uri": "https://localhost:8080/",
          "height": 265
        },
        "id": "IxYQNkXzVeKA",
        "outputId": "2eb9d873-cf8c-4a08-f25a-8773cba6fbc6"
      },
      "source": [
        "plt.plot(Hist_1.history['loss'])\n",
        "plt.show()"
      ],
      "execution_count": null,
      "outputs": [
        {
          "output_type": "display_data",
          "data": {
            "image/png": "[encoded data removed]",
            "text/plain": [
              "<Figure size 432x288 with 1 Axes>"
            ]
          },
          "metadata": {
            "tags": [],
            "needs_background": "light"
          }
        }
      ]
    },
    {
      "cell_type": "code",
      "metadata": {
        "colab": {
          "base_uri": "https://localhost:8080/",
          "height": 265
        },
        "id": "5TTlIBBXVj5w",
        "outputId": "6c10e7ee-3221-4b9a-9228-f794a74acc3d"
      },
      "source": [
        "plt.scatter(range(20), y_hat, c='r') # 104개 중 20개만 뽑아서 scatter\n",
        "plt.scatter(range(20), y_test, c='g')\n",
        "plt.show()"
      ],
      "execution_count": null,
      "outputs": [
        {
          "output_type": "display_data",
          "data": {
            "image/png": "[encoded data removed]",
            "text/plain": [
              "<Figure size 432x288 with 1 Axes>"
            ]
          },
          "metadata": {
            "tags": [],
            "needs_background": "light"
          }
        }
      ]
    },
    {
      "cell_type": "code",
      "metadata": {
        "id": "eG2CvivqVsXR"
      },
      "source": [
        "# narmal 하면 하지 않은 것에 비해 속도가 빨라져. normal하지 않은 것도 오래 돌리면 되긴 한데, normal은 더 빨리 올라옴 \n",
        "\n",
        "X = [[[(i+j)] for i in range(5)] for j in range(100)]\n",
        "y = [(i + 5) for i in range(100)]\n",
        "\n",
        "X = (X - np.min(X)) / (np.max(X) - np.min(X))\n",
        "y = (y - np.min(y)) / (np.max(y) - np.min(y))   \n"
      ],
      "execution_count": null,
      "outputs": []
    },
    {
      "cell_type": "code",
      "metadata": {
        "colab": {
          "base_uri": "https://localhost:8080/"
        },
        "id": "k56cVHdFWmt4",
        "outputId": "d4d845d6-f91c-4361-ee6c-c9fd1a86216c"
      },
      "source": [
        "print(type(X))"
      ],
      "execution_count": null,
      "outputs": [
        {
          "output_type": "stream",
          "text": [
            "<class 'numpy.ndarray'>\n"
          ],
          "name": "stdout"
        }
      ]
    },
    {
      "cell_type": "code",
      "metadata": {
        "colab": {
          "base_uri": "https://localhost:8080/"
        },
        "id": "GMKzZcKWWJFZ",
        "outputId": "2d002a7a-c33b-4df5-d028-8a669f31478a"
      },
      "source": [
        "X = np.array(X, dtype = float)\n",
        "y = np.array(y, dtype=float)\n",
        "\n",
        "X.shape, y.shape"
      ],
      "execution_count": null,
      "outputs": [
        {
          "output_type": "execute_result",
          "data": {
            "text/plain": [
              "((100, 5, 1), (100,))"
            ]
          },
          "metadata": {
            "tags": []
          },
          "execution_count": 20
        }
      ]
    },
    {
      "cell_type": "code",
      "metadata": {
        "colab": {
          "base_uri": "https://localhost:8080/"
        },
        "id": "x0iuXdpeWtlg",
        "outputId": "f31290de-9fb2-4893-d0b1-24dcaa913e43"
      },
      "source": [
        "from sklearn.model_selection import train_test_split\n",
        "\n",
        "X_train, X_test, y_train, y_test = train_test_split(X, y,test_size = 0.2,random_state = 2045)\n",
        "\n",
        "X_train.shape, y_train.shape, X_test.shape, y_test.shape"
      ],
      "execution_count": null,
      "outputs": [
        {
          "output_type": "execute_result",
          "data": {
            "text/plain": [
              "((80, 5, 1), (80,), (20, 5, 1), (20,))"
            ]
          },
          "metadata": {
            "tags": []
          },
          "execution_count": 21
        }
      ]
    },
    {
      "cell_type": "code",
      "metadata": {
        "colab": {
          "base_uri": "https://localhost:8080/"
        },
        "id": "er4Ea8juWzAo",
        "outputId": "e05a8251-174e-4611-b610-c9e3720a8305"
      },
      "source": [
        "model_2 = models.Sequential(name = 'SimpleRNN_2')\n",
        "model_2.add(layers.SimpleRNN(3, input_shape=(None, 1), return_sequences=False))\n",
        "model_2.add(layers.Dense(1))\n",
        "model_2.summary()"
      ],
      "execution_count": null,
      "outputs": [
        {
          "output_type": "stream",
          "text": [
            "Model: \"SimpleRNN_2\"\n",
            "_________________________________________________________________\n",
            "Layer (type)                 Output Shape              Param #   \n",
            "=================================================================\n",
            "simple_rnn_2 (SimpleRNN)     (None, 3)                 15        \n",
            "_________________________________________________________________\n",
            "dense_2 (Dense)              (None, 1)                 4         \n",
            "=================================================================\n",
            "Total params: 19\n",
            "Trainable params: 19\n",
            "Non-trainable params: 0\n",
            "_________________________________________________________________\n"
          ],
          "name": "stdout"
        }
      ]
    },
    {
      "cell_type": "code",
      "metadata": {
        "colab": {
          "base_uri": "https://localhost:8080/"
        },
        "id": "sfqmRUYBXFnA",
        "outputId": "36bf44ea-2b2a-4043-e779-3d25af78c51f"
      },
      "source": [
        "model_2.compile(loss='mse', optimizer='adam', metrics=['accuracy'])\n",
        "Hist_2 = model_2.fit(X_train, y_train, epochs=100, batch_size=8, validation_data=(X_test, y_test))"
      ],
      "execution_count": null,
      "outputs": [
        {
          "output_type": "stream",
          "text": [
            "Epoch 1/100\n",
            "10/10 [==============================] - 1s 33ms/step - loss: 0.4695 - accuracy: 0.0035 - val_loss: 0.4259 - val_accuracy: 0.0000e+00\n",
            "Epoch 2/100\n",
            "10/10 [==============================] - 0s 6ms/step - loss: 0.3877 - accuracy: 0.0085 - val_loss: 0.3395 - val_accuracy: 0.0000e+00\n",
            "Epoch 3/100\n",
            "10/10 [==============================] - 0s 6ms/step - loss: 0.3055 - accuracy: 0.0107 - val_loss: 0.2774 - val_accuracy: 0.0000e+00\n",
            "Epoch 4/100\n",
            "10/10 [==============================] - 0s 7ms/step - loss: 0.2553 - accuracy: 0.0035 - val_loss: 0.2323 - val_accuracy: 0.0000e+00\n",
            "Epoch 5/100\n",
            "10/10 [==============================] - 0s 6ms/step - loss: 0.2311 - accuracy: 0.0085 - val_loss: 0.2014 - val_accuracy: 0.0000e+00\n",
            "Epoch 6/100\n",
            "10/10 [==============================] - 0s 6ms/step - loss: 0.1679 - accuracy: 0.0344 - val_loss: 0.1777 - val_accuracy: 0.0000e+00\n",
            "Epoch 7/100\n",
            "10/10 [==============================] - 0s 8ms/step - loss: 0.1613 - accuracy: 0.0136 - val_loss: 0.1583 - val_accuracy: 0.0000e+00\n",
            "Epoch 8/100\n",
            "10/10 [==============================] - 0s 7ms/step - loss: 0.1632 - accuracy: 0.0035 - val_loss: 0.1415 - val_accuracy: 0.0000e+00\n",
            "Epoch 9/100\n",
            "10/10 [==============================] - 0s 6ms/step - loss: 0.1636 - accuracy: 0.0035 - val_loss: 0.1271 - val_accuracy: 0.0000e+00\n",
            "Epoch 10/100\n",
            "10/10 [==============================] - 0s 6ms/step - loss: 0.1497 - accuracy: 0.0085 - val_loss: 0.1143 - val_accuracy: 0.0000e+00\n",
            "Epoch 11/100\n",
            "10/10 [==============================] - 0s 7ms/step - loss: 0.1136 - accuracy: 0.0136 - val_loss: 0.1031 - val_accuracy: 0.0000e+00\n",
            "Epoch 12/100\n",
            "10/10 [==============================] - 0s 7ms/step - loss: 0.1181 - accuracy: 0.0066 - val_loss: 0.0925 - val_accuracy: 0.0000e+00\n",
            "Epoch 13/100\n",
            "10/10 [==============================] - 0s 7ms/step - loss: 0.1103 - accuracy: 0.0174 - val_loss: 0.0829 - val_accuracy: 0.0000e+00\n",
            "Epoch 14/100\n",
            "10/10 [==============================] - 0s 7ms/step - loss: 0.1061 - accuracy: 0.0085 - val_loss: 0.0744 - val_accuracy: 0.0000e+00\n",
            "Epoch 15/100\n",
            "10/10 [==============================] - 0s 7ms/step - loss: 0.0914 - accuracy: 0.0066 - val_loss: 0.0670 - val_accuracy: 0.0000e+00\n",
            "Epoch 16/100\n",
            "10/10 [==============================] - 0s 7ms/step - loss: 0.0785 - accuracy: 0.0023 - val_loss: 0.0605 - val_accuracy: 0.0000e+00\n",
            "Epoch 17/100\n",
            "10/10 [==============================] - 0s 7ms/step - loss: 0.0568 - accuracy: 0.0023 - val_loss: 0.0551 - val_accuracy: 0.0000e+00\n",
            "Epoch 18/100\n",
            "10/10 [==============================] - 0s 6ms/step - loss: 0.0590 - accuracy: 0.0344 - val_loss: 0.0505 - val_accuracy: 0.0000e+00\n",
            "Epoch 19/100\n",
            "10/10 [==============================] - 0s 7ms/step - loss: 0.0527 - accuracy: 0.0066 - val_loss: 0.0464 - val_accuracy: 0.0000e+00\n",
            "Epoch 20/100\n",
            "10/10 [==============================] - 0s 6ms/step - loss: 0.0454 - accuracy: 0.0085 - val_loss: 0.0433 - val_accuracy: 0.0000e+00\n",
            "Epoch 21/100\n",
            "10/10 [==============================] - 0s 6ms/step - loss: 0.0438 - accuracy: 0.0072 - val_loss: 0.0405 - val_accuracy: 0.0000e+00\n",
            "Epoch 22/100\n",
            "10/10 [==============================] - 0s 7ms/step - loss: 0.0332 - accuracy: 0.0071 - val_loss: 0.0386 - val_accuracy: 0.0000e+00\n",
            "Epoch 23/100\n",
            "10/10 [==============================] - 0s 6ms/step - loss: 0.0404 - accuracy: 0.0367 - val_loss: 0.0368 - val_accuracy: 0.0000e+00\n",
            "Epoch 24/100\n",
            "10/10 [==============================] - 0s 6ms/step - loss: 0.0356 - accuracy: 0.0575 - val_loss: 0.0355 - val_accuracy: 0.0000e+00\n",
            "Epoch 25/100\n",
            "10/10 [==============================] - 0s 7ms/step - loss: 0.0372 - accuracy: 0.0518 - val_loss: 0.0341 - val_accuracy: 0.0000e+00\n",
            "Epoch 26/100\n",
            "10/10 [==============================] - 0s 6ms/step - loss: 0.0341 - accuracy: 0.0240 - val_loss: 0.0330 - val_accuracy: 0.0000e+00\n",
            "Epoch 27/100\n",
            "10/10 [==============================] - 0s 6ms/step - loss: 0.0319 - accuracy: 0.0202 - val_loss: 0.0322 - val_accuracy: 0.0000e+00\n",
            "Epoch 28/100\n",
            "10/10 [==============================] - 0s 7ms/step - loss: 0.0330 - accuracy: 0.0272 - val_loss: 0.0316 - val_accuracy: 0.0000e+00\n",
            "Epoch 29/100\n",
            "10/10 [==============================] - 0s 7ms/step - loss: 0.0326 - accuracy: 0.0192 - val_loss: 0.0305 - val_accuracy: 0.0000e+00\n",
            "Epoch 30/100\n",
            "10/10 [==============================] - 0s 6ms/step - loss: 0.0285 - accuracy: 0.0130 - val_loss: 0.0296 - val_accuracy: 0.0000e+00\n",
            "Epoch 31/100\n",
            "10/10 [==============================] - 0s 6ms/step - loss: 0.0308 - accuracy: 0.0253 - val_loss: 0.0292 - val_accuracy: 0.0000e+00\n",
            "Epoch 32/100\n",
            "10/10 [==============================] - 0s 6ms/step - loss: 0.0224 - accuracy: 0.0101 - val_loss: 0.0280 - val_accuracy: 0.0000e+00\n",
            "Epoch 33/100\n",
            "10/10 [==============================] - 0s 6ms/step - loss: 0.0319 - accuracy: 0.0202 - val_loss: 0.0274 - val_accuracy: 0.0000e+00\n",
            "Epoch 34/100\n",
            "10/10 [==============================] - 0s 6ms/step - loss: 0.0326 - accuracy: 0.0223 - val_loss: 0.0267 - val_accuracy: 0.0000e+00\n",
            "Epoch 35/100\n",
            "10/10 [==============================] - 0s 6ms/step - loss: 0.0266 - accuracy: 0.0134 - val_loss: 0.0256 - val_accuracy: 0.0000e+00\n",
            "Epoch 36/100\n",
            "10/10 [==============================] - 0s 7ms/step - loss: 0.0257 - accuracy: 0.0120 - val_loss: 0.0251 - val_accuracy: 0.0000e+00\n",
            "Epoch 37/100\n",
            "10/10 [==============================] - 0s 6ms/step - loss: 0.0250 - accuracy: 0.0134 - val_loss: 0.0247 - val_accuracy: 0.0000e+00\n",
            "Epoch 38/100\n",
            "10/10 [==============================] - 0s 6ms/step - loss: 0.0239 - accuracy: 0.0151 - val_loss: 0.0241 - val_accuracy: 0.0000e+00\n",
            "Epoch 39/100\n",
            "10/10 [==============================] - 0s 7ms/step - loss: 0.0275 - accuracy: 0.0688 - val_loss: 0.0231 - val_accuracy: 0.0000e+00\n",
            "Epoch 40/100\n",
            "10/10 [==============================] - 0s 6ms/step - loss: 0.0235 - accuracy: 0.0240 - val_loss: 0.0225 - val_accuracy: 0.0000e+00\n",
            "Epoch 41/100\n",
            "10/10 [==============================] - 0s 6ms/step - loss: 0.0196 - accuracy: 0.0157 - val_loss: 0.0217 - val_accuracy: 0.0000e+00\n",
            "Epoch 42/100\n",
            "10/10 [==============================] - 0s 6ms/step - loss: 0.0254 - accuracy: 0.0243 - val_loss: 0.0212 - val_accuracy: 0.0000e+00\n",
            "Epoch 43/100\n",
            "10/10 [==============================] - 0s 7ms/step - loss: 0.0196 - accuracy: 0.0173 - val_loss: 0.0204 - val_accuracy: 0.0000e+00\n",
            "Epoch 44/100\n",
            "10/10 [==============================] - 0s 7ms/step - loss: 0.0195 - accuracy: 0.0518 - val_loss: 0.0200 - val_accuracy: 0.0000e+00\n",
            "Epoch 45/100\n",
            "10/10 [==============================] - 0s 6ms/step - loss: 0.0178 - accuracy: 0.0518 - val_loss: 0.0193 - val_accuracy: 0.0000e+00\n",
            "Epoch 46/100\n",
            "10/10 [==============================] - 0s 6ms/step - loss: 0.0180 - accuracy: 0.0281 - val_loss: 0.0189 - val_accuracy: 0.0000e+00\n",
            "Epoch 47/100\n",
            "10/10 [==============================] - 0s 7ms/step - loss: 0.0190 - accuracy: 0.0215 - val_loss: 0.0185 - val_accuracy: 0.0000e+00\n",
            "Epoch 48/100\n",
            "10/10 [==============================] - 0s 6ms/step - loss: 0.0184 - accuracy: 0.0130 - val_loss: 0.0177 - val_accuracy: 0.0000e+00\n",
            "Epoch 49/100\n",
            "10/10 [==============================] - 0s 6ms/step - loss: 0.0192 - accuracy: 0.0192 - val_loss: 0.0172 - val_accuracy: 0.0000e+00\n",
            "Epoch 50/100\n",
            "10/10 [==============================] - 0s 6ms/step - loss: 0.0197 - accuracy: 0.0120 - val_loss: 0.0166 - val_accuracy: 0.0000e+00\n",
            "Epoch 51/100\n",
            "10/10 [==============================] - 0s 6ms/step - loss: 0.0151 - accuracy: 0.0085 - val_loss: 0.0159 - val_accuracy: 0.0000e+00\n",
            "Epoch 52/100\n",
            "10/10 [==============================] - 0s 6ms/step - loss: 0.0156 - accuracy: 0.0429 - val_loss: 0.0152 - val_accuracy: 0.0000e+00\n",
            "Epoch 53/100\n",
            "10/10 [==============================] - 0s 7ms/step - loss: 0.0168 - accuracy: 0.0045 - val_loss: 0.0151 - val_accuracy: 0.0000e+00\n",
            "Epoch 54/100\n",
            "10/10 [==============================] - 0s 7ms/step - loss: 0.0159 - accuracy: 0.0461 - val_loss: 0.0148 - val_accuracy: 0.0000e+00\n",
            "Epoch 55/100\n",
            "10/10 [==============================] - 0s 6ms/step - loss: 0.0157 - accuracy: 0.0338 - val_loss: 0.0141 - val_accuracy: 0.0000e+00\n",
            "Epoch 56/100\n",
            "10/10 [==============================] - 0s 7ms/step - loss: 0.0157 - accuracy: 0.0452 - val_loss: 0.0135 - val_accuracy: 0.0000e+00\n",
            "Epoch 57/100\n",
            "10/10 [==============================] - 0s 6ms/step - loss: 0.0124 - accuracy: 0.0202 - val_loss: 0.0132 - val_accuracy: 0.0000e+00\n",
            "Epoch 58/100\n",
            "10/10 [==============================] - 0s 7ms/step - loss: 0.0148 - accuracy: 0.0366 - val_loss: 0.0130 - val_accuracy: 0.0000e+00\n",
            "Epoch 59/100\n",
            "10/10 [==============================] - 0s 7ms/step - loss: 0.0117 - accuracy: 0.0107 - val_loss: 0.0122 - val_accuracy: 0.0000e+00\n",
            "Epoch 60/100\n",
            "10/10 [==============================] - 0s 6ms/step - loss: 0.0113 - accuracy: 0.0143 - val_loss: 0.0117 - val_accuracy: 0.0000e+00\n",
            "Epoch 61/100\n",
            "10/10 [==============================] - 0s 7ms/step - loss: 0.0120 - accuracy: 0.0380 - val_loss: 0.0115 - val_accuracy: 0.0000e+00\n",
            "Epoch 62/100\n",
            "10/10 [==============================] - 0s 7ms/step - loss: 0.0112 - accuracy: 0.0115 - val_loss: 0.0111 - val_accuracy: 0.0000e+00\n",
            "Epoch 63/100\n",
            "10/10 [==============================] - 0s 6ms/step - loss: 0.0110 - accuracy: 0.0266 - val_loss: 0.0108 - val_accuracy: 0.0000e+00\n",
            "Epoch 64/100\n",
            "10/10 [==============================] - 0s 6ms/step - loss: 0.0119 - accuracy: 0.0171 - val_loss: 0.0104 - val_accuracy: 0.0000e+00\n",
            "Epoch 65/100\n",
            "10/10 [==============================] - 0s 6ms/step - loss: 0.0108 - accuracy: 0.0296 - val_loss: 0.0099 - val_accuracy: 0.0000e+00\n",
            "Epoch 66/100\n",
            "10/10 [==============================] - 0s 7ms/step - loss: 0.0115 - accuracy: 0.0223 - val_loss: 0.0096 - val_accuracy: 0.0000e+00\n",
            "Epoch 67/100\n",
            "10/10 [==============================] - 0s 6ms/step - loss: 0.0085 - accuracy: 0.0315 - val_loss: 0.0093 - val_accuracy: 0.0000e+00\n",
            "Epoch 68/100\n",
            "10/10 [==============================] - 0s 6ms/step - loss: 0.0090 - accuracy: 0.0045 - val_loss: 0.0088 - val_accuracy: 0.0000e+00\n",
            "Epoch 69/100\n",
            "10/10 [==============================] - 0s 7ms/step - loss: 0.0106 - accuracy: 0.0367 - val_loss: 0.0089 - val_accuracy: 0.0000e+00\n",
            "Epoch 70/100\n",
            "10/10 [==============================] - 0s 6ms/step - loss: 0.0101 - accuracy: 0.0243 - val_loss: 0.0081 - val_accuracy: 0.0000e+00\n",
            "Epoch 71/100\n",
            "10/10 [==============================] - 0s 6ms/step - loss: 0.0091 - accuracy: 0.0380 - val_loss: 0.0078 - val_accuracy: 0.0000e+00\n",
            "Epoch 72/100\n",
            "10/10 [==============================] - 0s 7ms/step - loss: 0.0083 - accuracy: 0.0394 - val_loss: 0.0077 - val_accuracy: 0.0000e+00\n",
            "Epoch 73/100\n",
            "10/10 [==============================] - 0s 7ms/step - loss: 0.0080 - accuracy: 0.0143 - val_loss: 0.0077 - val_accuracy: 0.0000e+00\n",
            "Epoch 74/100\n",
            "10/10 [==============================] - 0s 6ms/step - loss: 0.0068 - accuracy: 0.0223 - val_loss: 0.0069 - val_accuracy: 0.0000e+00\n",
            "Epoch 75/100\n",
            "10/10 [==============================] - 0s 6ms/step - loss: 0.0086 - accuracy: 0.0315 - val_loss: 0.0068 - val_accuracy: 0.0000e+00\n",
            "Epoch 76/100\n",
            "10/10 [==============================] - 0s 6ms/step - loss: 0.0068 - accuracy: 0.0107 - val_loss: 0.0064 - val_accuracy: 0.0000e+00\n",
            "Epoch 77/100\n",
            "10/10 [==============================] - 0s 6ms/step - loss: 0.0059 - accuracy: 0.0134 - val_loss: 0.0064 - val_accuracy: 0.0000e+00\n",
            "Epoch 78/100\n",
            "10/10 [==============================] - 0s 6ms/step - loss: 0.0066 - accuracy: 0.0404 - val_loss: 0.0063 - val_accuracy: 0.0000e+00\n",
            "Epoch 79/100\n",
            "10/10 [==============================] - 0s 6ms/step - loss: 0.0054 - accuracy: 0.0157 - val_loss: 0.0057 - val_accuracy: 0.0000e+00\n",
            "Epoch 80/100\n",
            "10/10 [==============================] - 0s 7ms/step - loss: 0.0068 - accuracy: 0.0452 - val_loss: 0.0056 - val_accuracy: 0.0000e+00\n",
            "Epoch 81/100\n",
            "10/10 [==============================] - 0s 8ms/step - loss: 0.0063 - accuracy: 0.0366 - val_loss: 0.0054 - val_accuracy: 0.0000e+00\n",
            "Epoch 82/100\n",
            "10/10 [==============================] - 0s 7ms/step - loss: 0.0053 - accuracy: 0.0518 - val_loss: 0.0051 - val_accuracy: 0.0000e+00\n",
            "Epoch 83/100\n",
            "10/10 [==============================] - 0s 7ms/step - loss: 0.0051 - accuracy: 0.0130 - val_loss: 0.0050 - val_accuracy: 0.0000e+00\n",
            "Epoch 84/100\n",
            "10/10 [==============================] - 0s 8ms/step - loss: 0.0054 - accuracy: 0.0266 - val_loss: 0.0049 - val_accuracy: 0.0000e+00\n",
            "Epoch 85/100\n",
            "10/10 [==============================] - 0s 6ms/step - loss: 0.0047 - accuracy: 0.0310 - val_loss: 0.0045 - val_accuracy: 0.0000e+00\n",
            "Epoch 86/100\n",
            "10/10 [==============================] - 0s 7ms/step - loss: 0.0053 - accuracy: 0.0347 - val_loss: 0.0044 - val_accuracy: 0.0000e+00\n",
            "Epoch 87/100\n",
            "10/10 [==============================] - 0s 7ms/step - loss: 0.0044 - accuracy: 0.0315 - val_loss: 0.0043 - val_accuracy: 0.0000e+00\n",
            "Epoch 88/100\n",
            "10/10 [==============================] - 0s 7ms/step - loss: 0.0045 - accuracy: 0.0101 - val_loss: 0.0039 - val_accuracy: 0.0000e+00\n",
            "Epoch 89/100\n",
            "10/10 [==============================] - 0s 7ms/step - loss: 0.0043 - accuracy: 0.0310 - val_loss: 0.0038 - val_accuracy: 0.0000e+00\n",
            "Epoch 90/100\n",
            "10/10 [==============================] - 0s 6ms/step - loss: 0.0040 - accuracy: 0.0281 - val_loss: 0.0038 - val_accuracy: 0.0000e+00\n",
            "Epoch 91/100\n",
            "10/10 [==============================] - 0s 7ms/step - loss: 0.0044 - accuracy: 0.0404 - val_loss: 0.0036 - val_accuracy: 0.0000e+00\n",
            "Epoch 92/100\n",
            "10/10 [==============================] - 0s 7ms/step - loss: 0.0041 - accuracy: 0.0688 - val_loss: 0.0034 - val_accuracy: 0.0000e+00\n",
            "Epoch 93/100\n",
            "10/10 [==============================] - 0s 6ms/step - loss: 0.0037 - accuracy: 0.0266 - val_loss: 0.0032 - val_accuracy: 0.0000e+00\n",
            "Epoch 94/100\n",
            "10/10 [==============================] - 0s 6ms/step - loss: 0.0032 - accuracy: 0.0101 - val_loss: 0.0032 - val_accuracy: 0.0000e+00\n",
            "Epoch 95/100\n",
            "10/10 [==============================] - 0s 6ms/step - loss: 0.0031 - accuracy: 0.0143 - val_loss: 0.0030 - val_accuracy: 0.0000e+00\n",
            "Epoch 96/100\n",
            "10/10 [==============================] - 0s 7ms/step - loss: 0.0031 - accuracy: 0.0089 - val_loss: 0.0030 - val_accuracy: 0.0000e+00\n",
            "Epoch 97/100\n",
            "10/10 [==============================] - 0s 8ms/step - loss: 0.0030 - accuracy: 0.0185 - val_loss: 0.0027 - val_accuracy: 0.0000e+00\n",
            "Epoch 98/100\n",
            "10/10 [==============================] - 0s 8ms/step - loss: 0.0027 - accuracy: 0.0071 - val_loss: 0.0027 - val_accuracy: 0.0000e+00\n",
            "Epoch 99/100\n",
            "10/10 [==============================] - 0s 8ms/step - loss: 0.0034 - accuracy: 0.0480 - val_loss: 0.0026 - val_accuracy: 0.0000e+00\n",
            "Epoch 100/100\n",
            "10/10 [==============================] - 0s 8ms/step - loss: 0.0026 - accuracy: 0.0394 - val_loss: 0.0024 - val_accuracy: 0.0000e+00\n"
          ],
          "name": "stdout"
        }
      ]
    },
    {
      "cell_type": "code",
      "metadata": {
        "id": "NXOs1VeiXVbB"
      },
      "source": [
        "y_hat = model_2.predict(X_test)"
      ],
      "execution_count": null,
      "outputs": []
    },
    {
      "cell_type": "code",
      "metadata": {
        "colab": {
          "base_uri": "https://localhost:8080/",
          "height": 268
        },
        "id": "WkSQUZdMXag4",
        "outputId": "006bfca1-c878-43ce-f105-b0110c7acf94"
      },
      "source": [
        "plt.plot(Hist_2.history['loss'])\n",
        "plt.show()"
      ],
      "execution_count": null,
      "outputs": [
        {
          "output_type": "display_data",
          "data": {
            "image/png": "[encoded data removed]",
            "text/plain": [
              "<Figure size 432x288 with 1 Axes>"
            ]
          },
          "metadata": {
            "tags": [],
            "needs_background": "light"
          }
        }
      ]
    },
    {
      "cell_type": "code",
      "metadata": {
        "colab": {
          "base_uri": "https://localhost:8080/",
          "height": 265
        },
        "id": "fuiPyckFXdx3",
        "outputId": "66133a5e-9009-42c5-ac3b-74b12ae518de"
      },
      "source": [
        "\n",
        "plt.scatter(range(20), y_test, c='g')\n",
        "plt.scatter(range(20), y_hat, c='r')\n",
        "plt.show()"
      ],
      "execution_count": null,
      "outputs": [
        {
          "output_type": "display_data",
          "data": {
            "image/png": "[encoded data removed]",
            "text/plain": [
              "<Figure size 432x288 with 1 Axes>"
            ]
          },
          "metadata": {
            "tags": [],
            "needs_background": "light"
          }
        }
      ]
    },
    {
      "cell_type": "markdown",
      "metadata": {
        "id": "vWdtyHF2ccEI"
      },
      "source": [
        "* Stacked으로 레이어를 여러겹 쌓을 때는 return sequence를 true로 내보내고, 사이즈를 output 사이즈만큼 맞춰줘야(3)"
      ]
    },
    {
      "cell_type": "code",
      "metadata": {
        "id": "eNh3vc-4XhKv"
      },
      "source": [
        "X = [[[i+j] for i in range(5)] for j in range(100)]\n",
        "y = [i + 5 for i in range(100)]\n",
        "\n",
        "X = np.array(X, dtype=float)\n",
        "y = np.array(y, dtype=float)\n",
        "\n",
        "X_train, X_test, y_train, y_test = train_test_split(X, y,test_size = 0.2,random_state = 2045)\n",
        "\n",
        "X_train.shape, y_train.shape, X_test.shape, y_test.shape"
      ],
      "execution_count": null,
      "outputs": []
    },
    {
      "cell_type": "code",
      "metadata": {
        "colab": {
          "base_uri": "https://localhost:8080/"
        },
        "id": "RTN-u4cvggiV",
        "outputId": "8a131a6a-979a-47f1-95e1-573e254f443c"
      },
      "source": [
        "# 100개 X, (5행 1열) 1개만\n",
        "X_test[0].reshape(1,5,1)"
      ],
      "execution_count": null,
      "outputs": [
        {
          "output_type": "execute_result",
          "data": {
            "text/plain": [
              "array([[[29.],\n",
              "        [30.],\n",
              "        [31.],\n",
              "        [32.],\n",
              "        [33.]]])"
            ]
          },
          "metadata": {
            "tags": []
          },
          "execution_count": 31
        }
      ]
    },
    {
      "cell_type": "markdown",
      "metadata": {
        "id": "0XYlJpzDiXHr"
      },
      "source": [
        "# return_sequences = False"
      ]
    },
    {
      "cell_type": "code",
      "metadata": {
        "id": "XcoU21U9go38"
      },
      "source": [
        "Model_False = models.Sequential()\n",
        "Model_False.add(layers.SimpleRNN(1, # unit 하나만\n",
        "                                 input_shape = (5,1),\n",
        "                                 return_sequences = False))\n",
        "\n",
        "Model_False.compile(loss='mse', optimizer='adam', metrics=['accuracy'])"
      ],
      "execution_count": null,
      "outputs": []
    },
    {
      "cell_type": "code",
      "metadata": {
        "colab": {
          "base_uri": "https://localhost:8080/"
        },
        "id": "NGyGwdoLgrnz",
        "outputId": "3a4d105a-04ed-45be-96a3-6d3cef6d39d5"
      },
      "source": [
        "# 학습 시키지 않는 이유 =>  return sequences를 False로 했을 때 나오는 값의 형태가 궁금\n",
        "Model_False.predict(X_test[0].reshape(1,5,1))\n",
        "# 5개 넣었는데 1개만 도출. sequences를 돌면서 각각의 값을 도출하지 않겠다고 했기 때문에 마지막의 값만 도출"
      ],
      "execution_count": null,
      "outputs": [
        {
          "output_type": "execute_result",
          "data": {
            "text/plain": [
              "array([[-1.]], dtype=float32)"
            ]
          },
          "metadata": {
            "tags": []
          },
          "execution_count": 37
        }
      ]
    },
    {
      "cell_type": "code",
      "metadata": {
        "colab": {
          "base_uri": "https://localhost:8080/"
        },
        "id": "-W8YUoo0h41S",
        "outputId": "3bf8c219-7156-40c8-dd4a-016807120c81"
      },
      "source": [
        "Model_False = models.Sequential()\n",
        "Model_False.add(layers.SimpleRNN(3, # unit 세개\n",
        "                                 input_shape = (5,1),\n",
        "                                 return_sequences = False))\n",
        "\n",
        "Model_False.compile(loss='mse', optimizer='adam', metrics=['accuracy'])\n",
        "\n",
        "Model_False.predict(X_test[0].reshape(1,5,1))\n",
        "\n",
        "# sequence당 5개 input에 5개 output이 아니라, 시퀀스당 마지막 1개 값만"
      ],
      "execution_count": null,
      "outputs": [
        {
          "output_type": "execute_result",
          "data": {
            "text/plain": [
              "array([[-0.9974264, -1.       , -1.       ]], dtype=float32)"
            ]
          },
          "metadata": {
            "tags": []
          },
          "execution_count": 39
        }
      ]
    },
    {
      "cell_type": "markdown",
      "metadata": {
        "id": "SpAc10qEicqK"
      },
      "source": [
        "# return_sequences = True"
      ]
    },
    {
      "cell_type": "code",
      "metadata": {
        "colab": {
          "base_uri": "https://localhost:8080/"
        },
        "id": "3cQaUoe_iIDM",
        "outputId": "e413753a-1330-4311-fa7d-897446fe6633"
      },
      "source": [
        "Model_True = models.Sequential()\n",
        "Model_True.add(layers.SimpleRNN(1, # unit 하나\n",
        "                                 input_shape = (5,1),\n",
        "                                 return_sequences = True))\n",
        "\n",
        "Model_True.compile(loss='mse', optimizer='adam', metrics=['accuracy'])\n",
        "\n",
        "Model_True.predict(X_test[0].reshape(1,5,1))\n",
        "\n",
        "# sequence당 5개 output"
      ],
      "execution_count": null,
      "outputs": [
        {
          "output_type": "stream",
          "text": [
            "WARNING:tensorflow:6 out of the last 6 calls to <function Model.make_predict_function.<locals>.predict_function at 0x7f40297aa0e0> triggered tf.function retracing. Tracing is expensive and the excessive number of tracings could be due to (1) creating @tf.function repeatedly in a loop, (2) passing tensors with different shapes, (3) passing Python objects instead of tensors. For (1), please define your @tf.function outside of the loop. For (2), @tf.function has experimental_relax_shapes=True option that relaxes argument shapes that can avoid unnecessary retracing. For (3), please refer to https://www.tensorflow.org/guide/function#controlling_retracing and https://www.tensorflow.org/api_docs/python/tf/function for  more details.\n"
          ],
          "name": "stdout"
        },
        {
          "output_type": "execute_result",
          "data": {
            "text/plain": [
              "array([[[-1.],\n",
              "        [-1.],\n",
              "        [-1.],\n",
              "        [-1.],\n",
              "        [-1.]]], dtype=float32)"
            ]
          },
          "metadata": {
            "tags": []
          },
          "execution_count": 41
        }
      ]
    },
    {
      "cell_type": "code",
      "metadata": {
        "colab": {
          "base_uri": "https://localhost:8080/"
        },
        "id": "29UrKh-CikmL",
        "outputId": "c7b23313-d28d-4b75-d0cc-97e0a2e45afa"
      },
      "source": [
        "Model_True = models.Sequential()\n",
        "Model_True.add(layers.SimpleRNN(3, # unit 세 개\n",
        "                                 input_shape = (5,1),\n",
        "                                 return_sequences = True))\n",
        "\n",
        "Model_True.compile(loss='mse', optimizer='adam', metrics=['accuracy'])\n",
        "\n",
        "Model_True.predict(X_test[0].reshape(1,5,1))\n",
        "\n",
        "# sequence 3개, output 5개"
      ],
      "execution_count": null,
      "outputs": [
        {
          "output_type": "stream",
          "text": [
            "WARNING:tensorflow:7 out of the last 7 calls to <function Model.make_predict_function.<locals>.predict_function at 0x7f4028da4c20> triggered tf.function retracing. Tracing is expensive and the excessive number of tracings could be due to (1) creating @tf.function repeatedly in a loop, (2) passing tensors with different shapes, (3) passing Python objects instead of tensors. For (1), please define your @tf.function outside of the loop. For (2), @tf.function has experimental_relax_shapes=True option that relaxes argument shapes that can avoid unnecessary retracing. For (3), please refer to https://www.tensorflow.org/guide/function#controlling_retracing and https://www.tensorflow.org/api_docs/python/tf/function for  more details.\n"
          ],
          "name": "stdout"
        },
        {
          "output_type": "execute_result",
          "data": {
            "text/plain": [
              "array([[[-0.6688029 , -1.        ,  1.        ],\n",
              "        [-0.96022975, -1.        ,  1.        ],\n",
              "        [-0.9545059 , -1.        ,  1.        ],\n",
              "        [-0.95707995, -1.        ,  1.        ],\n",
              "        [-0.9592926 , -1.        ,  1.        ]]], dtype=float32)"
            ]
          },
          "metadata": {
            "tags": []
          },
          "execution_count": 42
        }
      ]
    },
    {
      "cell_type": "code",
      "metadata": {
        "id": "QQf5AHJ4izeh",
        "colab": {
          "base_uri": "https://localhost:8080/"
        },
        "outputId": "1592e8cc-cc40-454d-dce1-0e4eb1dd427c"
      },
      "source": [
        "Model_True = models.Sequential()\n",
        "Model_True.add(layers.SimpleRNN(3, # unit 세 개\n",
        "                                 input_shape = (5,1),\n",
        "                                 return_sequences = True))\n",
        "\n",
        "Model_True.add(layers.SimpleRNN(3, # unit 세 개\n",
        "                                input_shape = (5,3),\n",
        "                                 return_sequences = True))\n",
        "\n",
        "Model_True.compile(loss='mse', optimizer='adam', metrics=['accuracy'])\n",
        "\n",
        "Model_True.predict(X_test[0].reshape(1,5,1))\n",
        "\n",
        "# sequence 3개, output 5개\n",
        "# 노드 하나당 도출값1. input shape랑 상관없이. 그 다음 숫자를 예측하는 거니까"
      ],
      "execution_count": 12,
      "outputs": [
        {
          "output_type": "execute_result",
          "data": {
            "text/plain": [
              "array([[[-0.93520725,  0.2265301 ,  0.7456759 ],\n",
              "        [-0.9008246 , -0.5320377 ,  0.95000327],\n",
              "        [-0.9757021 , -0.7017448 ,  0.934601  ],\n",
              "        [-0.98287463, -0.70759666,  0.9414684 ],\n",
              "        [-0.983066  , -0.7116926 ,  0.9421144 ]]], dtype=float32)"
            ]
          },
          "metadata": {
            "tags": []
          },
          "execution_count": 12
        }
      ]
    },
    {
      "cell_type": "code",
      "metadata": {
        "id": "6jOspcFZDpBe"
      },
      "source": [
        ""
      ],
      "execution_count": null,
      "outputs": []
    }
  ]
}