{
  "nbformat": 4,
  "nbformat_minor": 0,
  "metadata": {
    "colab": {
      "name": "1_cifar10_DNN.ipynb",
      "provenance": []
    },
    "kernelspec": {
      "name": "python3",
      "display_name": "Python 3"
    },
    "language_info": {
      "name": "python"
    },
    "accelerator": "GPU"
  },
  "cells": [
    {
      "cell_type": "code",
      "metadata": {
        "colab": {
          "base_uri": "https://localhost:8080/"
        },
        "id": "z8ahHdngp2N_",
        "outputId": "c57f3cfc-952a-4880-bdea-657368036825"
      },
      "source": [
        "from keras.datasets import cifar10\n",
        "\n",
        "(X_train, y_train), (X_test, y_test) = cifar10.load_data()"
      ],
      "execution_count": 1,
      "outputs": [
        {
          "output_type": "stream",
          "text": [
            "Downloading data from https://www.cs.toronto.edu/~kriz/cifar-10-python.tar.gz\n",
            "170500096/170498071 [==============================] - 3s 0us/step\n"
          ],
          "name": "stdout"
        }
      ]
    },
    {
      "cell_type": "code",
      "metadata": {
        "colab": {
          "base_uri": "https://localhost:8080/"
        },
        "id": "qMWLnfjRqGqV",
        "outputId": "a869e750-8977-4566-a47d-c3ebd81a8c8b"
      },
      "source": [
        "print(len(X_train))\n",
        "print(X_train.shape, y_train.shape, X_test.shape, y_test.shape)\n",
        "print(y_train[:5])\n",
        "print(X_train[:2])"
      ],
      "execution_count": 2,
      "outputs": [
        {
          "output_type": "stream",
          "text": [
            "50000\n",
            "(50000, 32, 32, 3) (50000, 1) (10000, 32, 32, 3) (10000, 1)\n",
            "[[6]\n",
            " [9]\n",
            " [9]\n",
            " [4]\n",
            " [1]]\n",
            "[[[[ 59  62  63]\n",
            "   [ 43  46  45]\n",
            "   [ 50  48  43]\n",
            "   ...\n",
            "   [158 132 108]\n",
            "   [152 125 102]\n",
            "   [148 124 103]]\n",
            "\n",
            "  [[ 16  20  20]\n",
            "   [  0   0   0]\n",
            "   [ 18   8   0]\n",
            "   ...\n",
            "   [123  88  55]\n",
            "   [119  83  50]\n",
            "   [122  87  57]]\n",
            "\n",
            "  [[ 25  24  21]\n",
            "   [ 16   7   0]\n",
            "   [ 49  27   8]\n",
            "   ...\n",
            "   [118  84  50]\n",
            "   [120  84  50]\n",
            "   [109  73  42]]\n",
            "\n",
            "  ...\n",
            "\n",
            "  [[208 170  96]\n",
            "   [201 153  34]\n",
            "   [198 161  26]\n",
            "   ...\n",
            "   [160 133  70]\n",
            "   [ 56  31   7]\n",
            "   [ 53  34  20]]\n",
            "\n",
            "  [[180 139  96]\n",
            "   [173 123  42]\n",
            "   [186 144  30]\n",
            "   ...\n",
            "   [184 148  94]\n",
            "   [ 97  62  34]\n",
            "   [ 83  53  34]]\n",
            "\n",
            "  [[177 144 116]\n",
            "   [168 129  94]\n",
            "   [179 142  87]\n",
            "   ...\n",
            "   [216 184 140]\n",
            "   [151 118  84]\n",
            "   [123  92  72]]]\n",
            "\n",
            "\n",
            " [[[154 177 187]\n",
            "   [126 137 136]\n",
            "   [105 104  95]\n",
            "   ...\n",
            "   [ 91  95  71]\n",
            "   [ 87  90  71]\n",
            "   [ 79  81  70]]\n",
            "\n",
            "  [[140 160 169]\n",
            "   [145 153 154]\n",
            "   [125 125 118]\n",
            "   ...\n",
            "   [ 96  99  78]\n",
            "   [ 77  80  62]\n",
            "   [ 71  73  61]]\n",
            "\n",
            "  [[140 155 164]\n",
            "   [139 146 149]\n",
            "   [115 115 112]\n",
            "   ...\n",
            "   [ 79  82  64]\n",
            "   [ 68  70  55]\n",
            "   [ 67  69  55]]\n",
            "\n",
            "  ...\n",
            "\n",
            "  [[175 167 166]\n",
            "   [156 154 160]\n",
            "   [154 160 170]\n",
            "   ...\n",
            "   [ 42  34  36]\n",
            "   [ 61  53  57]\n",
            "   [ 93  83  91]]\n",
            "\n",
            "  [[165 154 128]\n",
            "   [156 152 130]\n",
            "   [159 161 142]\n",
            "   ...\n",
            "   [103  93  96]\n",
            "   [123 114 120]\n",
            "   [131 121 131]]\n",
            "\n",
            "  [[163 148 120]\n",
            "   [158 148 122]\n",
            "   [163 156 133]\n",
            "   ...\n",
            "   [143 133 139]\n",
            "   [143 134 142]\n",
            "   [143 133 144]]]]\n"
          ],
          "name": "stdout"
        }
      ]
    },
    {
      "cell_type": "code",
      "metadata": {
        "colab": {
          "base_uri": "https://localhost:8080/",
          "height": 266
        },
        "id": "y_syqiWpqSCy",
        "outputId": "f5f81432-e9cb-445d-bf59-d17aceaa94bb"
      },
      "source": [
        "import matplotlib.pyplot as plt\n",
        "\n",
        "digit = X_train[5]\n",
        "plt.imshow(digit)\n",
        "plt.show()"
      ],
      "execution_count": 3,
      "outputs": [
        {
          "output_type": "display_data",
          "data": {
            "image/png": "[encoded data removed]",
            "text/plain": [
              "<Figure size 432x288 with 1 Axes>"
            ]
          },
          "metadata": {
            "tags": [],
            "needs_background": "light"
          }
        }
      ]
    },
    {
      "cell_type": "code",
      "metadata": {
        "colab": {
          "base_uri": "https://localhost:8080/"
        },
        "id": "egMACwB0qj7F",
        "outputId": "304d703a-d188-4ec0-8a83-07acc220ff8b"
      },
      "source": [
        "import numpy as np\n",
        "\n",
        "np.set_printoptions(linewidth=300)\n",
        "print(X_train[0][0])"
      ],
      "execution_count": 4,
      "outputs": [
        {
          "output_type": "stream",
          "text": [
            "[[ 59  62  63]\n",
            " [ 43  46  45]\n",
            " [ 50  48  43]\n",
            " [ 68  54  42]\n",
            " [ 98  73  52]\n",
            " [119  91  63]\n",
            " [139 107  75]\n",
            " [145 110  80]\n",
            " [149 117  89]\n",
            " [149 120  93]\n",
            " [131 103  77]\n",
            " [125  99  76]\n",
            " [142 115  91]\n",
            " [144 112  86]\n",
            " [137 105  79]\n",
            " [129  97  71]\n",
            " [137 106  79]\n",
            " [134 106  76]\n",
            " [124  97  64]\n",
            " [139 113  78]\n",
            " [139 112  75]\n",
            " [133 105  69]\n",
            " [136 105  74]\n",
            " [139 108  77]\n",
            " [152 120  89]\n",
            " [163 131 100]\n",
            " [168 136 108]\n",
            " [159 129 102]\n",
            " [158 130 104]\n",
            " [158 132 108]\n",
            " [152 125 102]\n",
            " [148 124 103]]\n"
          ],
          "name": "stdout"
        }
      ]
    },
    {
      "cell_type": "code",
      "metadata": {
        "colab": {
          "base_uri": "https://localhost:8080/"
        },
        "id": "NL1tSNNhrZ4A",
        "outputId": "e63e0739-ef6a-40c8-f16a-e18eeeb71072"
      },
      "source": [
        "X_train = X_train.reshape((50000, 32*32*3))\n",
        "X_test = X_test.reshape((10000, 32*32*3))\n",
        "\n",
        "X_train.shape, X_test.shape"
      ],
      "execution_count": 5,
      "outputs": [
        {
          "output_type": "execute_result",
          "data": {
            "text/plain": [
              "((50000, 3072), (10000, 3072))"
            ]
          },
          "metadata": {
            "tags": []
          },
          "execution_count": 5
        }
      ]
    },
    {
      "cell_type": "code",
      "metadata": {
        "colab": {
          "base_uri": "https://localhost:8080/"
        },
        "id": "fMWBVeWgrxRf",
        "outputId": "e7a48abc-0ef8-4e08-d017-658ae875f7c8"
      },
      "source": [
        "X_train = X_train.astype(float)/255\n",
        "X_test = X_test.astype(float)/255\n",
        "\n",
        "X_train[0]"
      ],
      "execution_count": 6,
      "outputs": [
        {
          "output_type": "execute_result",
          "data": {
            "text/plain": [
              "array([0.23137255, 0.24313725, 0.24705882, ..., 0.48235294, 0.36078431, 0.28235294])"
            ]
          },
          "metadata": {
            "tags": []
          },
          "execution_count": 6
        }
      ]
    },
    {
      "cell_type": "code",
      "metadata": {
        "colab": {
          "base_uri": "https://localhost:8080/"
        },
        "id": "zeHtshYar8tc",
        "outputId": "057a3b54-5970-47d6-e0e0-1aea89c67309"
      },
      "source": [
        "from keras.utils import to_categorical\n",
        "\n",
        "y_train = to_categorical(y_train)\n",
        "y_test = to_categorical(y_test)\n",
        "\n",
        "y_test[:5]"
      ],
      "execution_count": 7,
      "outputs": [
        {
          "output_type": "execute_result",
          "data": {
            "text/plain": [
              "array([[0., 0., 0., 1., 0., 0., 0., 0., 0., 0.],\n",
              "       [0., 0., 0., 0., 0., 0., 0., 0., 1., 0.],\n",
              "       [0., 0., 0., 0., 0., 0., 0., 0., 1., 0.],\n",
              "       [1., 0., 0., 0., 0., 0., 0., 0., 0., 0.],\n",
              "       [0., 0., 0., 0., 0., 0., 1., 0., 0., 0.]], dtype=float32)"
            ]
          },
          "metadata": {
            "tags": []
          },
          "execution_count": 7
        }
      ]
    },
    {
      "cell_type": "code",
      "metadata": {
        "colab": {
          "base_uri": "https://localhost:8080/"
        },
        "id": "eBwfvgziseG7",
        "outputId": "e50f93d6-dd97-4524-994c-542abed15e86"
      },
      "source": [
        "from sklearn.model_selection import train_test_split\n",
        "\n",
        "X_train, X_vaild, y_train, y_vaild = train_test_split(X_train, y_train, test_size=0.2, random_state=2045)\n",
        "\n",
        "X_train.shape, y_train.shape, X_test.shape, y_test.shape"
      ],
      "execution_count": 8,
      "outputs": [
        {
          "output_type": "execute_result",
          "data": {
            "text/plain": [
              "((40000, 3072), (40000, 10), (10000, 3072), (10000, 10))"
            ]
          },
          "metadata": {
            "tags": []
          },
          "execution_count": 8
        }
      ]
    },
    {
      "cell_type": "code",
      "metadata": {
        "colab": {
          "base_uri": "https://localhost:8080/"
        },
        "id": "1Ih0XOLttCwU",
        "outputId": "f3c0e7e8-2b82-470f-e9ee-3e71543d40bd"
      },
      "source": [
        "from keras import models, layers\n",
        "\n",
        "model = models.Sequential()\n",
        "model.add(layers.Dense(2048, activation = 'tanh', input_shape=(3072,)))\n",
        "model.add(layers.Dense(1024, activation='tanh'))\n",
        "model.add(layers.Dense(512, activation='tanh'))\n",
        "model.add(layers.Dense(256, activation='tanh'))\n",
        "model.add(layers.Dense(128, activation='tanh'))\n",
        "model.add(layers.Dense(10, activation='softmax'))\n",
        "\n",
        "model.summary()\n",
        "\n",
        "model.compile(loss='categorical_crossentropy', optimizer='adam', metrics=['accuracy'])"
      ],
      "execution_count": 9,
      "outputs": [
        {
          "output_type": "stream",
          "text": [
            "Model: \"sequential\"\n",
            "_________________________________________________________________\n",
            "Layer (type)                 Output Shape              Param #   \n",
            "=================================================================\n",
            "dense (Dense)                (None, 2048)              6293504   \n",
            "_________________________________________________________________\n",
            "dense_1 (Dense)              (None, 1024)              2098176   \n",
            "_________________________________________________________________\n",
            "dense_2 (Dense)              (None, 512)               524800    \n",
            "_________________________________________________________________\n",
            "dense_3 (Dense)              (None, 256)               131328    \n",
            "_________________________________________________________________\n",
            "dense_4 (Dense)              (None, 128)               32896     \n",
            "_________________________________________________________________\n",
            "dense_5 (Dense)              (None, 10)                1290      \n",
            "=================================================================\n",
            "Total params: 9,081,994\n",
            "Trainable params: 9,081,994\n",
            "Non-trainable params: 0\n",
            "_________________________________________________________________\n"
          ],
          "name": "stdout"
        }
      ]
    },
    {
      "cell_type": "code",
      "metadata": {
        "colab": {
          "base_uri": "https://localhost:8080/"
        },
        "id": "P13BcW8ou9_N",
        "outputId": "c41374a0-4ce3-4910-c4a3-61c23bbeda93"
      },
      "source": [
        "%%time\n",
        "\n",
        "Hist = model.fit(X_train, y_train, epochs=100, batch_size=518, validation_data=(X_vaild, y_vaild))"
      ],
      "execution_count": 10,
      "outputs": [
        {
          "output_type": "stream",
          "text": [
            "Epoch 1/100\n",
            "78/78 [==============================] - 5s 19ms/step - loss: 2.3969 - accuracy: 0.1304 - val_loss: 2.1864 - val_accuracy: 0.1634\n",
            "Epoch 2/100\n",
            "78/78 [==============================] - 1s 12ms/step - loss: 2.0919 - accuracy: 0.1808 - val_loss: 2.0661 - val_accuracy: 0.1939\n",
            "Epoch 3/100\n",
            "78/78 [==============================] - 1s 12ms/step - loss: 2.0404 - accuracy: 0.2079 - val_loss: 1.9736 - val_accuracy: 0.2450\n",
            "Epoch 4/100\n",
            "78/78 [==============================] - 1s 12ms/step - loss: 1.9706 - accuracy: 0.2600 - val_loss: 2.0440 - val_accuracy: 0.2265\n",
            "Epoch 5/100\n",
            "78/78 [==============================] - 1s 12ms/step - loss: 1.9224 - accuracy: 0.2899 - val_loss: 1.8523 - val_accuracy: 0.3170\n",
            "Epoch 6/100\n",
            "78/78 [==============================] - 1s 12ms/step - loss: 1.8618 - accuracy: 0.3194 - val_loss: 1.7930 - val_accuracy: 0.3492\n",
            "Epoch 7/100\n",
            "78/78 [==============================] - 1s 11ms/step - loss: 1.7968 - accuracy: 0.3435 - val_loss: 1.8200 - val_accuracy: 0.3409\n",
            "Epoch 8/100\n",
            "78/78 [==============================] - 1s 12ms/step - loss: 1.8073 - accuracy: 0.3452 - val_loss: 1.7657 - val_accuracy: 0.3556\n",
            "Epoch 9/100\n",
            "78/78 [==============================] - 1s 12ms/step - loss: 1.7683 - accuracy: 0.3581 - val_loss: 1.7861 - val_accuracy: 0.3471\n",
            "Epoch 10/100\n",
            "78/78 [==============================] - 1s 12ms/step - loss: 1.7430 - accuracy: 0.3656 - val_loss: 1.8628 - val_accuracy: 0.3292\n",
            "Epoch 11/100\n",
            "78/78 [==============================] - 1s 12ms/step - loss: 1.7557 - accuracy: 0.3562 - val_loss: 1.7075 - val_accuracy: 0.3787\n",
            "Epoch 12/100\n",
            "78/78 [==============================] - 1s 12ms/step - loss: 1.6845 - accuracy: 0.3853 - val_loss: 1.7738 - val_accuracy: 0.3589\n",
            "Epoch 13/100\n",
            "78/78 [==============================] - 1s 12ms/step - loss: 1.6841 - accuracy: 0.3821 - val_loss: 1.7676 - val_accuracy: 0.3692\n",
            "Epoch 14/100\n",
            "78/78 [==============================] - 1s 12ms/step - loss: 1.6863 - accuracy: 0.3890 - val_loss: 1.7378 - val_accuracy: 0.3698\n",
            "Epoch 15/100\n",
            "78/78 [==============================] - 1s 12ms/step - loss: 1.6457 - accuracy: 0.4019 - val_loss: 1.6860 - val_accuracy: 0.3922\n",
            "Epoch 16/100\n",
            "78/78 [==============================] - 1s 12ms/step - loss: 1.6278 - accuracy: 0.4082 - val_loss: 1.6975 - val_accuracy: 0.3842\n",
            "Epoch 17/100\n",
            "78/78 [==============================] - 1s 12ms/step - loss: 1.6142 - accuracy: 0.4134 - val_loss: 1.6793 - val_accuracy: 0.3905\n",
            "Epoch 18/100\n",
            "78/78 [==============================] - 1s 12ms/step - loss: 1.6164 - accuracy: 0.4133 - val_loss: 1.6420 - val_accuracy: 0.4105\n",
            "Epoch 19/100\n",
            "78/78 [==============================] - 1s 12ms/step - loss: 1.5789 - accuracy: 0.4224 - val_loss: 1.6695 - val_accuracy: 0.3873\n",
            "Epoch 20/100\n",
            "78/78 [==============================] - 1s 12ms/step - loss: 1.5715 - accuracy: 0.4271 - val_loss: 1.6304 - val_accuracy: 0.4089\n",
            "Epoch 21/100\n",
            "78/78 [==============================] - 1s 12ms/step - loss: 1.5394 - accuracy: 0.4413 - val_loss: 1.6587 - val_accuracy: 0.4038\n",
            "Epoch 22/100\n",
            "78/78 [==============================] - 1s 12ms/step - loss: 1.5419 - accuracy: 0.4398 - val_loss: 1.6517 - val_accuracy: 0.4182\n",
            "Epoch 23/100\n",
            "78/78 [==============================] - 1s 12ms/step - loss: 1.5384 - accuracy: 0.4400 - val_loss: 1.7356 - val_accuracy: 0.3776\n",
            "Epoch 24/100\n",
            "78/78 [==============================] - 1s 12ms/step - loss: 1.5366 - accuracy: 0.4436 - val_loss: 1.5691 - val_accuracy: 0.4297\n",
            "Epoch 25/100\n",
            "78/78 [==============================] - 1s 12ms/step - loss: 1.4874 - accuracy: 0.4633 - val_loss: 1.6275 - val_accuracy: 0.4122\n",
            "Epoch 26/100\n",
            "78/78 [==============================] - 1s 12ms/step - loss: 1.4898 - accuracy: 0.4603 - val_loss: 1.5712 - val_accuracy: 0.4385\n",
            "Epoch 27/100\n",
            "78/78 [==============================] - 1s 12ms/step - loss: 1.4881 - accuracy: 0.4578 - val_loss: 1.5914 - val_accuracy: 0.4223\n",
            "Epoch 28/100\n",
            "78/78 [==============================] - 1s 12ms/step - loss: 1.4759 - accuracy: 0.4643 - val_loss: 1.6234 - val_accuracy: 0.4322\n",
            "Epoch 29/100\n",
            "78/78 [==============================] - 1s 12ms/step - loss: 1.4755 - accuracy: 0.4632 - val_loss: 1.6466 - val_accuracy: 0.4183\n",
            "Epoch 30/100\n",
            "78/78 [==============================] - 1s 12ms/step - loss: 1.4441 - accuracy: 0.4783 - val_loss: 1.6136 - val_accuracy: 0.4188\n",
            "Epoch 31/100\n",
            "78/78 [==============================] - 1s 12ms/step - loss: 1.4432 - accuracy: 0.4771 - val_loss: 1.6217 - val_accuracy: 0.4180\n",
            "Epoch 32/100\n",
            "78/78 [==============================] - 1s 12ms/step - loss: 1.4184 - accuracy: 0.4853 - val_loss: 1.6205 - val_accuracy: 0.4295\n",
            "Epoch 33/100\n",
            "78/78 [==============================] - 1s 12ms/step - loss: 1.4346 - accuracy: 0.4797 - val_loss: 1.5453 - val_accuracy: 0.4478\n",
            "Epoch 34/100\n",
            "78/78 [==============================] - 1s 12ms/step - loss: 1.4059 - accuracy: 0.4934 - val_loss: 1.5248 - val_accuracy: 0.4545\n",
            "Epoch 35/100\n",
            "78/78 [==============================] - 1s 12ms/step - loss: 1.4148 - accuracy: 0.4870 - val_loss: 1.5645 - val_accuracy: 0.4388\n",
            "Epoch 36/100\n",
            "78/78 [==============================] - 1s 12ms/step - loss: 1.3986 - accuracy: 0.4957 - val_loss: 1.7057 - val_accuracy: 0.4003\n",
            "Epoch 37/100\n",
            "78/78 [==============================] - 1s 12ms/step - loss: 1.4070 - accuracy: 0.4863 - val_loss: 1.5473 - val_accuracy: 0.4502\n",
            "Epoch 38/100\n",
            "78/78 [==============================] - 1s 12ms/step - loss: 1.3687 - accuracy: 0.5001 - val_loss: 1.6527 - val_accuracy: 0.4093\n",
            "Epoch 39/100\n",
            "78/78 [==============================] - 1s 12ms/step - loss: 1.4029 - accuracy: 0.4943 - val_loss: 1.6488 - val_accuracy: 0.4350\n",
            "Epoch 40/100\n",
            "78/78 [==============================] - 1s 12ms/step - loss: 1.3985 - accuracy: 0.4986 - val_loss: 1.5204 - val_accuracy: 0.4539\n",
            "Epoch 41/100\n",
            "78/78 [==============================] - 1s 12ms/step - loss: 1.3662 - accuracy: 0.5039 - val_loss: 1.5732 - val_accuracy: 0.4480\n",
            "Epoch 42/100\n",
            "78/78 [==============================] - 1s 12ms/step - loss: 1.3464 - accuracy: 0.5133 - val_loss: 1.5557 - val_accuracy: 0.4472\n",
            "Epoch 43/100\n",
            "78/78 [==============================] - 1s 12ms/step - loss: 1.3264 - accuracy: 0.5256 - val_loss: 1.5300 - val_accuracy: 0.4566\n",
            "Epoch 44/100\n",
            "78/78 [==============================] - 1s 12ms/step - loss: 1.3232 - accuracy: 0.5222 - val_loss: 1.5343 - val_accuracy: 0.4565\n",
            "Epoch 45/100\n",
            "78/78 [==============================] - 1s 12ms/step - loss: 1.3284 - accuracy: 0.5217 - val_loss: 1.6350 - val_accuracy: 0.4381\n",
            "Epoch 46/100\n",
            "78/78 [==============================] - 1s 12ms/step - loss: 1.3060 - accuracy: 0.5288 - val_loss: 1.5530 - val_accuracy: 0.4541\n",
            "Epoch 47/100\n",
            "78/78 [==============================] - 1s 12ms/step - loss: 1.2853 - accuracy: 0.5375 - val_loss: 1.5834 - val_accuracy: 0.4420\n",
            "Epoch 48/100\n",
            "78/78 [==============================] - 1s 12ms/step - loss: 1.3243 - accuracy: 0.5214 - val_loss: 1.6218 - val_accuracy: 0.4531\n",
            "Epoch 49/100\n",
            "78/78 [==============================] - 1s 12ms/step - loss: 1.3205 - accuracy: 0.5299 - val_loss: 1.5513 - val_accuracy: 0.4585\n",
            "Epoch 50/100\n",
            "78/78 [==============================] - 1s 12ms/step - loss: 1.2601 - accuracy: 0.5432 - val_loss: 1.5050 - val_accuracy: 0.4617\n",
            "Epoch 51/100\n",
            "78/78 [==============================] - 1s 12ms/step - loss: 1.2777 - accuracy: 0.5397 - val_loss: 1.5258 - val_accuracy: 0.4679\n",
            "Epoch 52/100\n",
            "78/78 [==============================] - 1s 12ms/step - loss: 1.2730 - accuracy: 0.5443 - val_loss: 1.5166 - val_accuracy: 0.4738\n",
            "Epoch 53/100\n",
            "78/78 [==============================] - 1s 12ms/step - loss: 1.2628 - accuracy: 0.5452 - val_loss: 1.5419 - val_accuracy: 0.4584\n",
            "Epoch 54/100\n",
            "78/78 [==============================] - 1s 12ms/step - loss: 1.2566 - accuracy: 0.5430 - val_loss: 1.5755 - val_accuracy: 0.4648\n",
            "Epoch 55/100\n",
            "78/78 [==============================] - 1s 12ms/step - loss: 1.2490 - accuracy: 0.5481 - val_loss: 1.5650 - val_accuracy: 0.4564\n",
            "Epoch 56/100\n",
            "78/78 [==============================] - 1s 12ms/step - loss: 1.2530 - accuracy: 0.5530 - val_loss: 1.5699 - val_accuracy: 0.4496\n",
            "Epoch 57/100\n",
            "78/78 [==============================] - 1s 12ms/step - loss: 1.2536 - accuracy: 0.5504 - val_loss: 1.7097 - val_accuracy: 0.4229\n",
            "Epoch 58/100\n",
            "78/78 [==============================] - 1s 12ms/step - loss: 1.2589 - accuracy: 0.5472 - val_loss: 1.4933 - val_accuracy: 0.4726\n",
            "Epoch 59/100\n",
            "78/78 [==============================] - 1s 12ms/step - loss: 1.2160 - accuracy: 0.5594 - val_loss: 1.5473 - val_accuracy: 0.4580\n",
            "Epoch 60/100\n",
            "78/78 [==============================] - 1s 12ms/step - loss: 1.2133 - accuracy: 0.5634 - val_loss: 1.5194 - val_accuracy: 0.4737\n",
            "Epoch 61/100\n",
            "78/78 [==============================] - 1s 12ms/step - loss: 1.1956 - accuracy: 0.5695 - val_loss: 1.5971 - val_accuracy: 0.4569\n",
            "Epoch 62/100\n",
            "78/78 [==============================] - 1s 12ms/step - loss: 1.2199 - accuracy: 0.5639 - val_loss: 1.5437 - val_accuracy: 0.4557\n",
            "Epoch 63/100\n",
            "78/78 [==============================] - 1s 12ms/step - loss: 1.2015 - accuracy: 0.5654 - val_loss: 1.5453 - val_accuracy: 0.4650\n",
            "Epoch 64/100\n",
            "78/78 [==============================] - 1s 12ms/step - loss: 1.1870 - accuracy: 0.5713 - val_loss: 1.5966 - val_accuracy: 0.4457\n",
            "Epoch 65/100\n",
            "78/78 [==============================] - 1s 12ms/step - loss: 1.1994 - accuracy: 0.5658 - val_loss: 1.5114 - val_accuracy: 0.4688\n",
            "Epoch 66/100\n",
            "78/78 [==============================] - 1s 12ms/step - loss: 1.1856 - accuracy: 0.5739 - val_loss: 1.6174 - val_accuracy: 0.4683\n",
            "Epoch 67/100\n",
            "78/78 [==============================] - 1s 12ms/step - loss: 1.1896 - accuracy: 0.5735 - val_loss: 1.5802 - val_accuracy: 0.4675\n",
            "Epoch 68/100\n",
            "78/78 [==============================] - 1s 12ms/step - loss: 1.1545 - accuracy: 0.5885 - val_loss: 1.5958 - val_accuracy: 0.4464\n",
            "Epoch 69/100\n",
            "78/78 [==============================] - 1s 12ms/step - loss: 1.1927 - accuracy: 0.5723 - val_loss: 1.5398 - val_accuracy: 0.4594\n",
            "Epoch 70/100\n",
            "78/78 [==============================] - 1s 12ms/step - loss: 1.1589 - accuracy: 0.5830 - val_loss: 1.5827 - val_accuracy: 0.4561\n",
            "Epoch 71/100\n",
            "78/78 [==============================] - 1s 12ms/step - loss: 1.1505 - accuracy: 0.5870 - val_loss: 1.5501 - val_accuracy: 0.4718\n",
            "Epoch 72/100\n",
            "78/78 [==============================] - 1s 12ms/step - loss: 1.1491 - accuracy: 0.5878 - val_loss: 1.5535 - val_accuracy: 0.4648\n",
            "Epoch 73/100\n",
            "78/78 [==============================] - 1s 12ms/step - loss: 1.1718 - accuracy: 0.5746 - val_loss: 1.5246 - val_accuracy: 0.4761\n",
            "Epoch 74/100\n",
            "78/78 [==============================] - 1s 12ms/step - loss: 1.1751 - accuracy: 0.5819 - val_loss: 1.6088 - val_accuracy: 0.4670\n",
            "Epoch 75/100\n",
            "78/78 [==============================] - 1s 12ms/step - loss: 1.1370 - accuracy: 0.5933 - val_loss: 1.5557 - val_accuracy: 0.4736\n",
            "Epoch 76/100\n",
            "78/78 [==============================] - 1s 12ms/step - loss: 1.1283 - accuracy: 0.5934 - val_loss: 1.5803 - val_accuracy: 0.4733\n",
            "Epoch 77/100\n",
            "78/78 [==============================] - 1s 12ms/step - loss: 1.0919 - accuracy: 0.6098 - val_loss: 1.5815 - val_accuracy: 0.4636\n",
            "Epoch 78/100\n",
            "78/78 [==============================] - 1s 12ms/step - loss: 1.0962 - accuracy: 0.6083 - val_loss: 1.6423 - val_accuracy: 0.4626\n",
            "Epoch 79/100\n",
            "78/78 [==============================] - 1s 12ms/step - loss: 1.1175 - accuracy: 0.5980 - val_loss: 1.5916 - val_accuracy: 0.4516\n",
            "Epoch 80/100\n",
            "78/78 [==============================] - 1s 12ms/step - loss: 1.1191 - accuracy: 0.5927 - val_loss: 1.5977 - val_accuracy: 0.4620\n",
            "Epoch 81/100\n",
            "78/78 [==============================] - 1s 12ms/step - loss: 1.0827 - accuracy: 0.6112 - val_loss: 1.5848 - val_accuracy: 0.4721\n",
            "Epoch 82/100\n",
            "78/78 [==============================] - 1s 12ms/step - loss: 1.0801 - accuracy: 0.6115 - val_loss: 1.6115 - val_accuracy: 0.4627\n",
            "Epoch 83/100\n",
            "78/78 [==============================] - 1s 12ms/step - loss: 1.0939 - accuracy: 0.6081 - val_loss: 1.7267 - val_accuracy: 0.4633\n",
            "Epoch 84/100\n",
            "78/78 [==============================] - 1s 12ms/step - loss: 1.0890 - accuracy: 0.6111 - val_loss: 1.5940 - val_accuracy: 0.4680\n",
            "Epoch 85/100\n",
            "78/78 [==============================] - 1s 12ms/step - loss: 1.0742 - accuracy: 0.6131 - val_loss: 1.6204 - val_accuracy: 0.4751\n",
            "Epoch 86/100\n",
            "78/78 [==============================] - 1s 12ms/step - loss: 1.0468 - accuracy: 0.6269 - val_loss: 1.6714 - val_accuracy: 0.4375\n",
            "Epoch 87/100\n",
            "78/78 [==============================] - 1s 12ms/step - loss: 1.0764 - accuracy: 0.6164 - val_loss: 1.5718 - val_accuracy: 0.4740\n",
            "Epoch 88/100\n",
            "78/78 [==============================] - 1s 12ms/step - loss: 1.0462 - accuracy: 0.6259 - val_loss: 1.6103 - val_accuracy: 0.4792\n",
            "Epoch 89/100\n",
            "78/78 [==============================] - 1s 12ms/step - loss: 1.0454 - accuracy: 0.6251 - val_loss: 1.6535 - val_accuracy: 0.4614\n",
            "Epoch 90/100\n",
            "78/78 [==============================] - 1s 12ms/step - loss: 1.0527 - accuracy: 0.6204 - val_loss: 1.6035 - val_accuracy: 0.4765\n",
            "Epoch 91/100\n",
            "78/78 [==============================] - 1s 12ms/step - loss: 1.0464 - accuracy: 0.6267 - val_loss: 1.6228 - val_accuracy: 0.4582\n",
            "Epoch 92/100\n",
            "78/78 [==============================] - 1s 12ms/step - loss: 1.0614 - accuracy: 0.6158 - val_loss: 1.6431 - val_accuracy: 0.4585\n",
            "Epoch 93/100\n",
            "78/78 [==============================] - 1s 12ms/step - loss: 1.0212 - accuracy: 0.6369 - val_loss: 1.6828 - val_accuracy: 0.4643\n",
            "Epoch 94/100\n",
            "78/78 [==============================] - 1s 12ms/step - loss: 1.0238 - accuracy: 0.6330 - val_loss: 1.6900 - val_accuracy: 0.4656\n",
            "Epoch 95/100\n",
            "78/78 [==============================] - 1s 12ms/step - loss: 1.0665 - accuracy: 0.6206 - val_loss: 1.6671 - val_accuracy: 0.4680\n",
            "Epoch 96/100\n",
            "78/78 [==============================] - 1s 12ms/step - loss: 1.0324 - accuracy: 0.6328 - val_loss: 1.5974 - val_accuracy: 0.4821\n",
            "Epoch 97/100\n",
            "78/78 [==============================] - 1s 12ms/step - loss: 1.0067 - accuracy: 0.6404 - val_loss: 1.7011 - val_accuracy: 0.4583\n",
            "Epoch 98/100\n",
            "78/78 [==============================] - 1s 12ms/step - loss: 1.0207 - accuracy: 0.6332 - val_loss: 1.6137 - val_accuracy: 0.4816\n",
            "Epoch 99/100\n",
            "78/78 [==============================] - 1s 12ms/step - loss: 0.9823 - accuracy: 0.6503 - val_loss: 1.7598 - val_accuracy: 0.4440\n",
            "Epoch 100/100\n",
            "78/78 [==============================] - 1s 12ms/step - loss: 1.0299 - accuracy: 0.6329 - val_loss: 1.6381 - val_accuracy: 0.4757\n",
            "CPU times: user 1min 22s, sys: 17.6 s, total: 1min 39s\n",
            "Wall time: 1min 37s\n"
          ],
          "name": "stdout"
        }
      ]
    },
    {
      "cell_type": "code",
      "metadata": {
        "colab": {
          "base_uri": "https://localhost:8080/"
        },
        "id": "RO2yCq7ZvWrg",
        "outputId": "c8989ad8-f423-4153-90ff-66e692353ec0"
      },
      "source": [
        "loss, accuracy = model.evaluate(X_test, y_test)\n",
        "loss, accuracy"
      ],
      "execution_count": 12,
      "outputs": [
        {
          "output_type": "stream",
          "text": [
            "313/313 [==============================] - 1s 3ms/step - loss: 1.6309 - accuracy: 0.4717\n"
          ],
          "name": "stdout"
        },
        {
          "output_type": "execute_result",
          "data": {
            "text/plain": [
              "(1.630869746208191, 0.4717000126838684)"
            ]
          },
          "metadata": {
            "tags": []
          },
          "execution_count": 12
        }
      ]
    },
    {
      "cell_type": "code",
      "metadata": {
        "colab": {
          "base_uri": "https://localhost:8080/",
          "height": 682
        },
        "id": "kDRFuHy5vSj7",
        "outputId": "3ef56d1b-7eab-4f1c-ba4a-ff28e9433ec1"
      },
      "source": [
        "import matplotlib.pyplot as plt\n",
        "\n",
        "epochs = range(1, len(Hist.history['loss']) + 1)\n",
        "plt.figure(figsize = (9, 6))\n",
        "plt.plot(epochs, Hist.history['loss'])\n",
        "plt.plot(epochs, Hist.history['val_loss'])\n",
        "plt.title('Training & Validation Loss')\n",
        "plt.xlabel('Epochs')\n",
        "plt.ylabel('Loss')\n",
        "plt.legend(['Training Loss', 'Validation Loss'])\n",
        "plt.grid()\n",
        "plt.show()\n",
        "\n",
        "plt.plot(epochs, Hist.history['accuracy'])\n",
        "plt.plot(epochs, Hist.history['val_accuracy'])\n",
        "plt.title('Training & Validation accuracy')\n",
        "plt.xlabel('Epochs')\n",
        "plt.ylabel('Loss')\n",
        "plt.legend(['Training accuracy', 'Validation accuracy'])\n",
        "plt.grid()\n",
        "plt.show()"
      ],
      "execution_count": 15,
      "outputs": [
        {
          "output_type": "display_data",
          "data": {
            "image/png": "[encoded data removed]",
            "text/plain": [
              "<Figure size 648x432 with 1 Axes>"
            ]
          },
          "metadata": {
            "tags": [],
            "needs_background": "light"
          }
        },
        {
          "output_type": "display_data",
          "data": {
            "image/png": "[encoded data removed]",
            "text/plain": [
              "<Figure size 432x288 with 1 Axes>"
            ]
          },
          "metadata": {
            "tags": [],
            "needs_background": "light"
          }
        }
      ]
    },
    {
      "cell_type": "code",
      "metadata": {
        "colab": {
          "base_uri": "https://localhost:8080/"
        },
        "id": "vS3XG3gTvebR",
        "outputId": "a3496cbd-1487-4d0e-f5bc-f4f0bfc9b235"
      },
      "source": [
        "np.set_printoptions(suppress=True, precision=5)\n",
        "print(model.predict(X_test[:1,:]))"
      ],
      "execution_count": 16,
      "outputs": [
        {
          "output_type": "stream",
          "text": [
            "[[0.02958 0.00027 0.13143 0.42884 0.04882 0.30442 0.01965 0.02759 0.00795 0.00144]]\n"
          ],
          "name": "stdout"
        }
      ]
    },
    {
      "cell_type": "code",
      "metadata": {
        "colab": {
          "base_uri": "https://localhost:8080/"
        },
        "id": "OqXeANn4vsf4",
        "outputId": "ac8b8e60-d5c8-4a39-ccdf-eb486773d3d2"
      },
      "source": [
        "print(model.predict_classes(X_test[:1,:]))"
      ],
      "execution_count": 17,
      "outputs": [
        {
          "output_type": "stream",
          "text": [
            "[3]\n"
          ],
          "name": "stdout"
        },
        {
          "output_type": "stream",
          "text": [
            "/usr/local/lib/python3.7/dist-packages/tensorflow/python/keras/engine/sequential.py:450: UserWarning: `model.predict_classes()` is deprecated and will be removed after 2021-01-01. Please use instead:* `np.argmax(model.predict(x), axis=-1)`,   if your model does multi-class classification   (e.g. if it uses a `softmax` last-layer activation).* `(model.predict(x) > 0.5).astype(\"int32\")`,   if your model does binary classification   (e.g. if it uses a `sigmoid` last-layer activation).\n",
            "  warnings.warn('`model.predict_classes()` is deprecated and '\n"
          ],
          "name": "stderr"
        }
      ]
    },
    {
      "cell_type": "code",
      "metadata": {
        "id": "c_6uk_Pivz2i"
      },
      "source": [
        ""
      ],
      "execution_count": null,
      "outputs": []
    }
  ]
}