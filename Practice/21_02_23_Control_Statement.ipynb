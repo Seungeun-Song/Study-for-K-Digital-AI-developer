{
  "nbformat": 4,
  "nbformat_minor": 0,
  "metadata": {
    "colab": {
      "name": "21.02.23_Control_Statement.ipynb",
      "provenance": [],
      "collapsed_sections": []
    },
    "kernelspec": {
      "name": "python3",
      "display_name": "Python 3"
    }
  },
  "cells": [
    {
      "cell_type": "code",
      "metadata": {
        "id": "EzSt6P1UzJ2x"
      },
      "source": [
        "n = 3"
      ],
      "execution_count": 2,
      "outputs": []
    },
    {
      "cell_type": "code",
      "metadata": {
        "colab": {
          "base_uri": "https://localhost:8080/"
        },
        "id": "pIre3SuUzQa-",
        "outputId": "40d13a18-92f8-4692-bcf3-34c1ead0da12"
      },
      "source": [
        "if n == 3:\r\n",
        "  print('n은 3')"
      ],
      "execution_count": 3,
      "outputs": [
        {
          "output_type": "stream",
          "text": [
            "n은 3\n"
          ],
          "name": "stdout"
        }
      ]
    },
    {
      "cell_type": "code",
      "metadata": {
        "colab": {
          "base_uri": "https://localhost:8080/"
        },
        "id": "qxYoUaMZzVHe",
        "outputId": "ccd6145a-2f5c-47dc-bab8-c65879c4f5e3"
      },
      "source": [
        "if n != 3:\r\n",
        "  print('bye')\r\n",
        "else:\r\n",
        "  print('good')"
      ],
      "execution_count": 4,
      "outputs": [
        {
          "output_type": "stream",
          "text": [
            "good\n"
          ],
          "name": "stdout"
        }
      ]
    },
    {
      "cell_type": "code",
      "metadata": {
        "colab": {
          "base_uri": "https://localhost:8080/"
        },
        "id": "gM_Z5cAqzcVG",
        "outputId": "fb24cfbc-0e63-4cfc-96f7-dbaef323f969"
      },
      "source": [
        "if n <2:\r\n",
        "  print('A')\r\n",
        "elif n < 5:\r\n",
        "  print('B')\r\n",
        "else:\r\n",
        "  print('C')"
      ],
      "execution_count": 5,
      "outputs": [
        {
          "output_type": "stream",
          "text": [
            "B\n"
          ],
          "name": "stdout"
        }
      ]
    },
    {
      "cell_type": "code",
      "metadata": {
        "colab": {
          "base_uri": "https://localhost:8080/"
        },
        "id": "LVY8Dh4gzi7N",
        "outputId": "fee39664-0b3a-488b-b046-d918601c9fd9"
      },
      "source": [
        "for i in range(1,10):\r\n",
        "  print(i, end=',')"
      ],
      "execution_count": 6,
      "outputs": [
        {
          "output_type": "stream",
          "text": [
            "1,2,3,4,5,6,7,8,9,"
          ],
          "name": "stdout"
        }
      ]
    },
    {
      "cell_type": "code",
      "metadata": {
        "colab": {
          "base_uri": "https://localhost:8080/"
        },
        "id": "o3gmnEOkzqRd",
        "outputId": "a6eca607-b277-4b54-a483-32e2e00c25e5"
      },
      "source": [
        "l1 = ['a','b','c','d','e']\r\n",
        "for i in l1:\r\n",
        "  print(i, end='^')"
      ],
      "execution_count": 7,
      "outputs": [
        {
          "output_type": "stream",
          "text": [
            "a^b^c^d^e^"
          ],
          "name": "stdout"
        }
      ]
    },
    {
      "cell_type": "code",
      "metadata": {
        "colab": {
          "base_uri": "https://localhost:8080/"
        },
        "id": "BKYKVDNrz0TN",
        "outputId": "b50b475c-2620-41e4-d0d5-fa46a4021bdf"
      },
      "source": [
        "l2 = [['a',11],['b',22],['c',33]]\r\n",
        "for i,j in l2:\r\n",
        "  print('i : ', i)\r\n",
        "  print('j : ', j)"
      ],
      "execution_count": 8,
      "outputs": [
        {
          "output_type": "stream",
          "text": [
            "i :  a\n",
            "j :  11\n",
            "i :  b\n",
            "j :  22\n",
            "i :  c\n",
            "j :  33\n"
          ],
          "name": "stdout"
        }
      ]
    },
    {
      "cell_type": "code",
      "metadata": {
        "colab": {
          "base_uri": "https://localhost:8080/"
        },
        "id": "_pARXkDx0Cgd",
        "outputId": "d55f0df2-d0b4-4d00-f11c-495193b8ceb9"
      },
      "source": [
        "for i in range(1,10):\r\n",
        "  if i > 5: break\r\n",
        "  print(i)"
      ],
      "execution_count": 9,
      "outputs": [
        {
          "output_type": "stream",
          "text": [
            "1\n",
            "2\n",
            "3\n",
            "4\n",
            "5\n"
          ],
          "name": "stdout"
        }
      ]
    },
    {
      "cell_type": "code",
      "metadata": {
        "id": "dfOyK4Po0H7V"
      },
      "source": [
        "i = 1"
      ],
      "execution_count": 12,
      "outputs": []
    },
    {
      "cell_type": "code",
      "metadata": {
        "colab": {
          "base_uri": "https://localhost:8080/"
        },
        "id": "4FNtmT_K0Jv1",
        "outputId": "285f3417-f0a5-4f18-b6fe-d04aa52a4782"
      },
      "source": [
        "while i <10:\r\n",
        "  print(i)\r\n",
        "  i += i\r\n",
        "else:\r\n",
        "  print('Fin')"
      ],
      "execution_count": 13,
      "outputs": [
        {
          "output_type": "stream",
          "text": [
            "1\n",
            "2\n",
            "4\n",
            "8\n",
            "Fin\n"
          ],
          "name": "stdout"
        }
      ]
    },
    {
      "cell_type": "code",
      "metadata": {
        "colab": {
          "base_uri": "https://localhost:8080/"
        },
        "id": "QVYlmkWE0SDl",
        "outputId": "5a666cc3-8654-4dd3-9a2d-aa179dce7e34"
      },
      "source": [
        "i = 1\r\n",
        "while i < 10:\r\n",
        "  print(i)\r\n",
        "  if i == 5:\r\n",
        "    break\r\n",
        "  i += 1"
      ],
      "execution_count": 14,
      "outputs": [
        {
          "output_type": "stream",
          "text": [
            "1\n",
            "2\n",
            "3\n",
            "4\n",
            "5\n"
          ],
          "name": "stdout"
        }
      ]
    },
    {
      "cell_type": "code",
      "metadata": {
        "colab": {
          "base_uri": "https://localhost:8080/"
        },
        "id": "6U__hDX10iOl",
        "outputId": "644df8d3-eb09-484f-8f4d-edc7404d1c4d"
      },
      "source": [
        "try:\r\n",
        "  print('파이썬 스크립트 실행 시작')\r\n",
        "  print(QQQ)\r\n",
        "except:\r\n",
        "  print('파이썬 스크립트 실행 중 QQQ 객체가 선언되지 않은 오류 발생')"
      ],
      "execution_count": 15,
      "outputs": [
        {
          "output_type": "stream",
          "text": [
            "파이썬 스크립트 실행 시작\n",
            "파이썬 스크립트 실행 중 QQQ 객체가 선언되지 않은 오류 발생\n"
          ],
          "name": "stdout"
        }
      ]
    },
    {
      "cell_type": "code",
      "metadata": {
        "colab": {
          "base_uri": "https://localhost:8080/"
        },
        "id": "pj0RvOMI0sX1",
        "outputId": "03647ba2-9ed6-4d97-a568-4f179f4f641a"
      },
      "source": [
        "try:\r\n",
        "  print('파이썬 스크립트 실행 시작')\r\n",
        "  print('QQQ')\r\n",
        "except:\r\n",
        "  print('파이썬 스크립트 실행 중 에러발생')\r\n",
        "else:\r\n",
        "  print('파이썬 스크립트가 정상 종료')"
      ],
      "execution_count": 18,
      "outputs": [
        {
          "output_type": "stream",
          "text": [
            "파이썬 스크립트 실행 시작\n",
            "QQQ\n",
            "파이썬 스크립트가 정상 종료\n"
          ],
          "name": "stdout"
        }
      ]
    },
    {
      "cell_type": "code",
      "metadata": {
        "colab": {
          "base_uri": "https://localhost:8080/"
        },
        "id": "dSe-04KM0321",
        "outputId": "499007c8-9f71-48e6-8a87-82f04bd9c7b2"
      },
      "source": [
        "try:\r\n",
        "  print('파이썬 스크립트 실행 시작')\r\n",
        "  print(QQQ)\r\n",
        "except:\r\n",
        "  print('파이썬 스크립트 실행 중 QQQ 객체가 선언되지 않은 오류 발생')\r\n",
        "finally:\r\n",
        "  print('파이썬 스크립트 종료시 무조건 실행')"
      ],
      "execution_count": 19,
      "outputs": [
        {
          "output_type": "stream",
          "text": [
            "파이썬 스크립트 실행 시작\n",
            "파이썬 스크립트 실행 중 QQQ 객체가 선언되지 않은 오류 발생\n",
            "파이썬 스크립트 종료시 무조건 실행\n"
          ],
          "name": "stdout"
        }
      ]
    }
  ]
}