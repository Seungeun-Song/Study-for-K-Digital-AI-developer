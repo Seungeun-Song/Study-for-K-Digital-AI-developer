{
  "nbformat": 4,
  "nbformat_minor": 0,
  "metadata": {
    "colab": {
      "name": "CIFAR100_Image_Augmentation",
      "provenance": []
    },
    "kernelspec": {
      "name": "python3",
      "display_name": "Python 3"
    },
    "language_info": {
      "name": "python"
    },
    "accelerator": "GPU"
  },
  "cells": [
    {
      "cell_type": "code",
      "metadata": {
        "colab": {
          "base_uri": "https://localhost:8080/"
        },
        "id": "PIqdH720zu-O",
        "outputId": "f2f5a93b-d108-4df2-a2e8-359fc75c5623"
      },
      "source": [
        "from keras.datasets import cifar100\n",
        "\n",
        "(X_train, y_train), (X_test, y_test) = cifar100.load_data(label_mode = 'fine')"
      ],
      "execution_count": 1,
      "outputs": [
        {
          "output_type": "stream",
          "text": [
            "Downloading data from https://www.cs.toronto.edu/~kriz/cifar-100-python.tar.gz\n",
            "169009152/169001437 [==============================] - 11s 0us/step\n"
          ],
          "name": "stdout"
        }
      ]
    },
    {
      "cell_type": "code",
      "metadata": {
        "colab": {
          "base_uri": "https://localhost:8080/"
        },
        "id": "4sexWzxe0TGy",
        "outputId": "cc45f66e-0994-47ed-f05f-041b1c37f70f"
      },
      "source": [
        "print(X_train.shape, y_train.shape) \n",
        "print(X_test.shape, y_test.shape)"
      ],
      "execution_count": 2,
      "outputs": [
        {
          "output_type": "stream",
          "text": [
            "(50000, 32, 32, 3) (50000, 1)\n",
            "(10000, 32, 32, 3) (10000, 1)\n"
          ],
          "name": "stdout"
        }
      ]
    },
    {
      "cell_type": "code",
      "metadata": {
        "colab": {
          "base_uri": "https://localhost:8080/"
        },
        "id": "u5W1qnb6tsyD",
        "outputId": "c6548dca-0c7c-4b65-d9ef-f02faf15a849"
      },
      "source": [
        "X_train[:2]"
      ],
      "execution_count": 6,
      "outputs": [
        {
          "output_type": "execute_result",
          "data": {
            "text/plain": [
              "array([[[[255, 255, 255],\n",
              "         [255, 255, 255],\n",
              "         [255, 255, 255],\n",
              "         ...,\n",
              "         [195, 205, 193],\n",
              "         [212, 224, 204],\n",
              "         [182, 194, 167]],\n",
              "\n",
              "        [[255, 255, 255],\n",
              "         [254, 254, 254],\n",
              "         [254, 254, 254],\n",
              "         ...,\n",
              "         [170, 176, 150],\n",
              "         [161, 168, 130],\n",
              "         [146, 154, 113]],\n",
              "\n",
              "        [[255, 255, 255],\n",
              "         [254, 254, 254],\n",
              "         [255, 255, 255],\n",
              "         ...,\n",
              "         [189, 199, 169],\n",
              "         [166, 178, 130],\n",
              "         [121, 133,  87]],\n",
              "\n",
              "        ...,\n",
              "\n",
              "        [[148, 185,  79],\n",
              "         [142, 182,  57],\n",
              "         [140, 179,  60],\n",
              "         ...,\n",
              "         [ 30,  17,   1],\n",
              "         [ 65,  62,  15],\n",
              "         [ 76,  77,  20]],\n",
              "\n",
              "        [[122, 157,  66],\n",
              "         [120, 155,  58],\n",
              "         [126, 160,  71],\n",
              "         ...,\n",
              "         [ 22,  16,   3],\n",
              "         [ 97, 112,  56],\n",
              "         [141, 161,  87]],\n",
              "\n",
              "        [[ 87, 122,  41],\n",
              "         [ 88, 122,  39],\n",
              "         [101, 134,  56],\n",
              "         ...,\n",
              "         [ 34,  36,  10],\n",
              "         [105, 133,  59],\n",
              "         [138, 173,  79]]],\n",
              "\n",
              "\n",
              "       [[[255, 255, 255],\n",
              "         [253, 253, 253],\n",
              "         [253, 253, 253],\n",
              "         ...,\n",
              "         [253, 253, 253],\n",
              "         [253, 253, 253],\n",
              "         [255, 255, 255]],\n",
              "\n",
              "        [[255, 255, 255],\n",
              "         [255, 255, 255],\n",
              "         [255, 255, 255],\n",
              "         ...,\n",
              "         [255, 255, 255],\n",
              "         [255, 255, 255],\n",
              "         [255, 255, 255]],\n",
              "\n",
              "        [[255, 255, 255],\n",
              "         [255, 255, 255],\n",
              "         [255, 255, 255],\n",
              "         ...,\n",
              "         [255, 255, 255],\n",
              "         [255, 255, 255],\n",
              "         [255, 255, 255]],\n",
              "\n",
              "        ...,\n",
              "\n",
              "        [[255, 255, 255],\n",
              "         [255, 255, 255],\n",
              "         [255, 255, 255],\n",
              "         ...,\n",
              "         [255, 255, 255],\n",
              "         [255, 255, 255],\n",
              "         [255, 255, 255]],\n",
              "\n",
              "        [[255, 255, 255],\n",
              "         [255, 255, 255],\n",
              "         [255, 255, 255],\n",
              "         ...,\n",
              "         [255, 255, 255],\n",
              "         [255, 255, 255],\n",
              "         [255, 255, 255]],\n",
              "\n",
              "        [[255, 255, 255],\n",
              "         [253, 253, 253],\n",
              "         [253, 253, 253],\n",
              "         ...,\n",
              "         [253, 253, 253],\n",
              "         [253, 253, 253],\n",
              "         [255, 255, 255]]]], dtype=uint8)"
            ]
          },
          "metadata": {
            "tags": []
          },
          "execution_count": 6
        }
      ]
    },
    {
      "cell_type": "code",
      "metadata": {
        "id": "mZWz4y6J0vAL"
      },
      "source": [
        "from keras.utils import to_categorical\n",
        "\n",
        "y_train= to_categorical(y_train)\n",
        "y_test = to_categorical(y_test)"
      ],
      "execution_count": 3,
      "outputs": []
    },
    {
      "cell_type": "code",
      "metadata": {
        "colab": {
          "base_uri": "https://localhost:8080/"
        },
        "id": "t_W1vnjZ2taj",
        "outputId": "96be7bad-e330-49a8-f004-806f99d17396"
      },
      "source": [
        "y_train.shape"
      ],
      "execution_count": 4,
      "outputs": [
        {
          "output_type": "execute_result",
          "data": {
            "text/plain": [
              "(50000, 100)"
            ]
          },
          "metadata": {
            "tags": []
          },
          "execution_count": 4
        }
      ]
    },
    {
      "cell_type": "code",
      "metadata": {
        "id": "Hei8jBFx083i"
      },
      "source": [
        "from sklearn.model_selection import train_test_split\n",
        "\n",
        "X_train, X_valid, y_train, y_valid = train_test_split(X_train, y_train, test_size=0.2, random_state=2045)"
      ],
      "execution_count": 10,
      "outputs": []
    },
    {
      "cell_type": "code",
      "metadata": {
        "colab": {
          "base_uri": "https://localhost:8080/"
        },
        "id": "EmBjUYn3Dmzr",
        "outputId": "73029c4a-e69c-4c5e-f5cf-842c9a7523f3"
      },
      "source": [
        "X_train.shape, X_test.shape"
      ],
      "execution_count": 11,
      "outputs": [
        {
          "output_type": "execute_result",
          "data": {
            "text/plain": [
              "((40000, 32, 32, 3), (10000, 32, 32, 3))"
            ]
          },
          "metadata": {
            "tags": []
          },
          "execution_count": 11
        }
      ]
    },
    {
      "cell_type": "code",
      "metadata": {
        "id": "Uxv1C6L81BFS"
      },
      "source": [
        "from keras.preprocessing.image import ImageDataGenerator\n",
        "\n",
        "X_train_datagen = ImageDataGenerator(rescale= 1./255, rotation_range=40, width_shift_range=0.2, height_shift_range=0.2,\n",
        "                                   shear_range=0.2, zoom_range=0.2, horizontal_flip=True, vertical_flip=True, \n",
        "                                   fill_mode='nearest')\n",
        "X_valid_datagen = ImageDataGenerator(rescale= 1./255)\n",
        "\n",
        "train_generator = X_train_datagen.flow(X_train, y_train, batch_size=1000)\n",
        "valid_generator = X_valid_datagen.flow(X_valid, y_valid, batch_size=1000)"
      ],
      "execution_count": 20,
      "outputs": []
    },
    {
      "cell_type": "code",
      "metadata": {
        "colab": {
          "base_uri": "https://localhost:8080/"
        },
        "id": "e9GmOZA38_Fg",
        "outputId": "7cfa7e0d-b9a7-4616-b85b-4f3043280b19"
      },
      "source": [
        "print(type(X_train_datagen))"
      ],
      "execution_count": 13,
      "outputs": [
        {
          "output_type": "stream",
          "text": [
            "<class 'tensorflow.python.keras.preprocessing.image.ImageDataGenerator'>\n"
          ],
          "name": "stdout"
        }
      ]
    },
    {
      "cell_type": "code",
      "metadata": {
        "colab": {
          "base_uri": "https://localhost:8080/"
        },
        "id": "TKU6VteF9cL-",
        "outputId": "d20094b0-5819-4dcf-f83f-2631c29d076e"
      },
      "source": [
        "print(type(y_train))"
      ],
      "execution_count": 16,
      "outputs": [
        {
          "output_type": "stream",
          "text": [
            "<class 'numpy.ndarray'>\n"
          ],
          "name": "stdout"
        }
      ]
    },
    {
      "cell_type": "code",
      "metadata": {
        "colab": {
          "base_uri": "https://localhost:8080/"
        },
        "id": "Mom1VIy72Uh3",
        "outputId": "88192752-caa5-440a-b7dd-fe0d745cd65e"
      },
      "source": [
        "\n",
        "from keras import layers, models\n",
        "\n",
        "model = models.Sequential()\n",
        "model.add(layers.Conv2D(32, (3,3), activation='relu', input_shape=(32, 32, 3)))\n",
        "model.add(layers.MaxPool2D((2,2)))\n",
        "model.add(layers.Conv2D(64, (3,3), activation='relu'))\n",
        "#model.add(layers.MaxPool2D((2,2)))\n",
        "model.add(layers.Conv2D(128, (3,3), activation='relu'))\n",
        "model.add(layers.MaxPool2D((2,2)))\n",
        "model.add(layers.Conv2D(128, (3,3), activation='relu'))\n",
        "\n",
        "model.add(layers.Flatten())\n",
        "model.add(layers.Dense(units=512, activation='relu'))\n",
        "model.add(layers.Dropout(0.5))\n",
        "model.add(layers.Dense(units=100, activation='softmax'))\n",
        "\n",
        "model.summary()\n",
        "\n",
        "model.compile(loss = 'categorical_crossentropy',\n",
        "              optimizer = 'adam',\n",
        "              metrics = ['accuracy'])"
      ],
      "execution_count": 21,
      "outputs": [
        {
          "output_type": "stream",
          "text": [
            "Model: \"sequential_1\"\n",
            "_________________________________________________________________\n",
            "Layer (type)                 Output Shape              Param #   \n",
            "=================================================================\n",
            "conv2d_4 (Conv2D)            (None, 30, 30, 32)        896       \n",
            "_________________________________________________________________\n",
            "max_pooling2d_2 (MaxPooling2 (None, 15, 15, 32)        0         \n",
            "_________________________________________________________________\n",
            "conv2d_5 (Conv2D)            (None, 13, 13, 64)        18496     \n",
            "_________________________________________________________________\n",
            "conv2d_6 (Conv2D)            (None, 11, 11, 128)       73856     \n",
            "_________________________________________________________________\n",
            "max_pooling2d_3 (MaxPooling2 (None, 5, 5, 128)         0         \n",
            "_________________________________________________________________\n",
            "conv2d_7 (Conv2D)            (None, 3, 3, 128)         147584    \n",
            "_________________________________________________________________\n",
            "flatten_1 (Flatten)          (None, 1152)              0         \n",
            "_________________________________________________________________\n",
            "dense_2 (Dense)              (None, 512)               590336    \n",
            "_________________________________________________________________\n",
            "dropout_1 (Dropout)          (None, 512)               0         \n",
            "_________________________________________________________________\n",
            "dense_3 (Dense)              (None, 100)               51300     \n",
            "=================================================================\n",
            "Total params: 882,468\n",
            "Trainable params: 882,468\n",
            "Non-trainable params: 0\n",
            "_________________________________________________________________\n"
          ],
          "name": "stdout"
        }
      ]
    },
    {
      "cell_type": "code",
      "metadata": {
        "colab": {
          "base_uri": "https://localhost:8080/"
        },
        "id": "NBVt7qt4Drt8",
        "outputId": "b607883c-9195-483b-f5e5-60c75fbcac16"
      },
      "source": [
        "print(40000/1000)\n",
        "print(10000/1000)"
      ],
      "execution_count": 30,
      "outputs": [
        {
          "output_type": "stream",
          "text": [
            "40.0\n",
            "10.0\n"
          ],
          "name": "stdout"
        }
      ]
    },
    {
      "cell_type": "code",
      "metadata": {
        "colab": {
          "base_uri": "https://localhost:8080/"
        },
        "id": "d48YUtjd4JKH",
        "outputId": "facacb9b-fc47-4d59-df70-4020dd90cf9c"
      },
      "source": [
        "%%time\n",
        "Hist = model.fit(train_generator, steps_per_epoch=40 ,\n",
        "                       epochs = 50,\n",
        "                       batch_size = 128,\n",
        "                       validation_data=valid_generator, validation_steps=10)"
      ],
      "execution_count": 22,
      "outputs": [
        {
          "output_type": "stream",
          "text": [
            "Epoch 1/50\n",
            "40/40 [==============================] - 18s 438ms/step - loss: 4.5549 - accuracy: 0.0170 - val_loss: 4.3117 - val_accuracy: 0.0326\n",
            "Epoch 2/50\n",
            "40/40 [==============================] - 17s 430ms/step - loss: 4.3254 - accuracy: 0.0383 - val_loss: 4.0882 - val_accuracy: 0.0707\n",
            "Epoch 3/50\n",
            "40/40 [==============================] - 17s 427ms/step - loss: 4.1276 - accuracy: 0.0630 - val_loss: 3.9084 - val_accuracy: 0.0984\n",
            "Epoch 4/50\n",
            "40/40 [==============================] - 17s 430ms/step - loss: 3.9962 - accuracy: 0.0799 - val_loss: 3.8416 - val_accuracy: 0.1091\n",
            "Epoch 5/50\n",
            "40/40 [==============================] - 17s 428ms/step - loss: 3.9075 - accuracy: 0.0919 - val_loss: 3.7582 - val_accuracy: 0.1199\n",
            "Epoch 6/50\n",
            "40/40 [==============================] - 17s 427ms/step - loss: 3.8283 - accuracy: 0.1059 - val_loss: 3.6295 - val_accuracy: 0.1494\n",
            "Epoch 7/50\n",
            "40/40 [==============================] - 17s 430ms/step - loss: 3.7635 - accuracy: 0.1157 - val_loss: 3.5363 - val_accuracy: 0.1603\n",
            "Epoch 8/50\n",
            "40/40 [==============================] - 17s 431ms/step - loss: 3.6981 - accuracy: 0.1257 - val_loss: 3.5289 - val_accuracy: 0.1605\n",
            "Epoch 9/50\n",
            "40/40 [==============================] - 17s 432ms/step - loss: 3.6348 - accuracy: 0.1355 - val_loss: 3.3610 - val_accuracy: 0.1925\n",
            "Epoch 10/50\n",
            "40/40 [==============================] - 17s 428ms/step - loss: 3.5933 - accuracy: 0.1420 - val_loss: 3.3745 - val_accuracy: 0.1870\n",
            "Epoch 11/50\n",
            "40/40 [==============================] - 17s 430ms/step - loss: 3.5329 - accuracy: 0.1520 - val_loss: 3.2901 - val_accuracy: 0.2099\n",
            "Epoch 12/50\n",
            "40/40 [==============================] - 17s 429ms/step - loss: 3.5091 - accuracy: 0.1595 - val_loss: 3.3162 - val_accuracy: 0.1966\n",
            "Epoch 13/50\n",
            "40/40 [==============================] - 17s 429ms/step - loss: 3.4757 - accuracy: 0.1644 - val_loss: 3.3140 - val_accuracy: 0.1944\n",
            "Epoch 14/50\n",
            "40/40 [==============================] - 17s 433ms/step - loss: 3.4372 - accuracy: 0.1741 - val_loss: 3.2498 - val_accuracy: 0.2055\n",
            "Epoch 15/50\n",
            "40/40 [==============================] - 17s 432ms/step - loss: 3.4011 - accuracy: 0.1755 - val_loss: 3.2084 - val_accuracy: 0.2162\n",
            "Epoch 16/50\n",
            "40/40 [==============================] - 17s 431ms/step - loss: 3.3591 - accuracy: 0.1845 - val_loss: 3.2483 - val_accuracy: 0.2109\n",
            "Epoch 17/50\n",
            "40/40 [==============================] - 17s 429ms/step - loss: 3.3614 - accuracy: 0.1831 - val_loss: 3.1142 - val_accuracy: 0.2319\n",
            "Epoch 18/50\n",
            "40/40 [==============================] - 17s 432ms/step - loss: 3.3192 - accuracy: 0.1888 - val_loss: 3.1519 - val_accuracy: 0.2297\n",
            "Epoch 19/50\n",
            "40/40 [==============================] - 17s 431ms/step - loss: 3.3234 - accuracy: 0.1962 - val_loss: 3.0605 - val_accuracy: 0.2473\n",
            "Epoch 20/50\n",
            "40/40 [==============================] - 17s 430ms/step - loss: 3.2660 - accuracy: 0.2024 - val_loss: 3.0336 - val_accuracy: 0.2466\n",
            "Epoch 21/50\n",
            "40/40 [==============================] - 17s 430ms/step - loss: 3.2880 - accuracy: 0.1999 - val_loss: 3.0310 - val_accuracy: 0.2491\n",
            "Epoch 22/50\n",
            "40/40 [==============================] - 17s 429ms/step - loss: 3.2506 - accuracy: 0.2015 - val_loss: 3.0038 - val_accuracy: 0.2564\n",
            "Epoch 23/50\n",
            "40/40 [==============================] - 17s 436ms/step - loss: 3.2347 - accuracy: 0.2065 - val_loss: 2.9565 - val_accuracy: 0.2640\n",
            "Epoch 24/50\n",
            "40/40 [==============================] - 17s 430ms/step - loss: 3.2038 - accuracy: 0.2171 - val_loss: 2.9346 - val_accuracy: 0.2649\n",
            "Epoch 25/50\n",
            "40/40 [==============================] - 17s 429ms/step - loss: 3.2173 - accuracy: 0.2107 - val_loss: 2.9823 - val_accuracy: 0.2607\n",
            "Epoch 26/50\n",
            "40/40 [==============================] - 17s 428ms/step - loss: 3.1819 - accuracy: 0.2202 - val_loss: 2.9190 - val_accuracy: 0.2756\n",
            "Epoch 27/50\n",
            "40/40 [==============================] - 17s 431ms/step - loss: 3.1978 - accuracy: 0.2161 - val_loss: 2.8865 - val_accuracy: 0.2810\n",
            "Epoch 28/50\n",
            "40/40 [==============================] - 17s 433ms/step - loss: 3.1622 - accuracy: 0.2203 - val_loss: 2.9292 - val_accuracy: 0.2723\n",
            "Epoch 29/50\n",
            "40/40 [==============================] - 17s 429ms/step - loss: 3.1598 - accuracy: 0.2215 - val_loss: 2.8944 - val_accuracy: 0.2794\n",
            "Epoch 30/50\n",
            "40/40 [==============================] - 17s 429ms/step - loss: 3.1300 - accuracy: 0.2306 - val_loss: 3.0314 - val_accuracy: 0.2516\n",
            "Epoch 31/50\n",
            "40/40 [==============================] - 17s 427ms/step - loss: 3.1204 - accuracy: 0.2302 - val_loss: 3.0007 - val_accuracy: 0.2606\n",
            "Epoch 32/50\n",
            "40/40 [==============================] - 17s 429ms/step - loss: 3.0916 - accuracy: 0.2384 - val_loss: 2.9025 - val_accuracy: 0.2698\n",
            "Epoch 33/50\n",
            "40/40 [==============================] - 17s 433ms/step - loss: 3.1139 - accuracy: 0.2314 - val_loss: 2.9490 - val_accuracy: 0.2650\n",
            "Epoch 34/50\n",
            "40/40 [==============================] - 17s 429ms/step - loss: 3.0833 - accuracy: 0.2414 - val_loss: 2.7926 - val_accuracy: 0.2995\n",
            "Epoch 35/50\n",
            "40/40 [==============================] - 17s 428ms/step - loss: 3.0799 - accuracy: 0.2378 - val_loss: 2.8831 - val_accuracy: 0.2804\n",
            "Epoch 36/50\n",
            "40/40 [==============================] - 17s 427ms/step - loss: 3.0583 - accuracy: 0.2409 - val_loss: 2.8832 - val_accuracy: 0.2832\n",
            "Epoch 37/50\n",
            "40/40 [==============================] - 17s 431ms/step - loss: 3.0658 - accuracy: 0.2416 - val_loss: 2.9530 - val_accuracy: 0.2664\n",
            "Epoch 38/50\n",
            "40/40 [==============================] - 17s 429ms/step - loss: 3.0648 - accuracy: 0.2410 - val_loss: 2.8389 - val_accuracy: 0.2885\n",
            "Epoch 39/50\n",
            "40/40 [==============================] - 17s 428ms/step - loss: 3.0373 - accuracy: 0.2441 - val_loss: 2.8345 - val_accuracy: 0.2901\n",
            "Epoch 40/50\n",
            "40/40 [==============================] - 17s 427ms/step - loss: 3.0232 - accuracy: 0.2488 - val_loss: 2.7286 - val_accuracy: 0.3119\n",
            "Epoch 41/50\n",
            "40/40 [==============================] - 17s 432ms/step - loss: 3.0154 - accuracy: 0.2496 - val_loss: 2.8142 - val_accuracy: 0.2937\n",
            "Epoch 42/50\n",
            "40/40 [==============================] - 17s 432ms/step - loss: 3.0164 - accuracy: 0.2499 - val_loss: 2.8376 - val_accuracy: 0.2922\n",
            "Epoch 43/50\n",
            "40/40 [==============================] - 17s 431ms/step - loss: 2.9988 - accuracy: 0.2525 - val_loss: 2.7384 - val_accuracy: 0.3136\n",
            "Epoch 44/50\n",
            "40/40 [==============================] - 17s 430ms/step - loss: 2.9956 - accuracy: 0.2542 - val_loss: 2.7410 - val_accuracy: 0.3116\n",
            "Epoch 45/50\n",
            "40/40 [==============================] - 17s 432ms/step - loss: 2.9920 - accuracy: 0.2565 - val_loss: 2.7906 - val_accuracy: 0.2978\n",
            "Epoch 46/50\n",
            "40/40 [==============================] - 17s 428ms/step - loss: 2.9793 - accuracy: 0.2629 - val_loss: 2.7744 - val_accuracy: 0.3065\n",
            "Epoch 47/50\n",
            "40/40 [==============================] - 17s 433ms/step - loss: 2.9840 - accuracy: 0.2563 - val_loss: 2.7613 - val_accuracy: 0.3043\n",
            "Epoch 48/50\n",
            "40/40 [==============================] - 17s 431ms/step - loss: 2.9662 - accuracy: 0.2583 - val_loss: 2.7047 - val_accuracy: 0.3157\n",
            "Epoch 49/50\n",
            "40/40 [==============================] - 17s 429ms/step - loss: 2.9738 - accuracy: 0.2597 - val_loss: 2.8110 - val_accuracy: 0.3015\n",
            "Epoch 50/50\n",
            "40/40 [==============================] - 17s 431ms/step - loss: 2.9564 - accuracy: 0.2648 - val_loss: 2.7571 - val_accuracy: 0.3034\n",
            "CPU times: user 14min 40s, sys: 14.7 s, total: 14min 55s\n",
            "Wall time: 14min 22s\n"
          ],
          "name": "stdout"
        }
      ]
    },
    {
      "cell_type": "code",
      "metadata": {
        "colab": {
          "base_uri": "https://localhost:8080/",
          "height": 513
        },
        "id": "3WGXXeeo3Xsf",
        "outputId": "eca454e5-2d4e-4ce8-9617-790e66f966b2"
      },
      "source": [
        "import matplotlib.pyplot as plt\n",
        "\n",
        "epochs = range(1, len(Hist.history['loss'])+1)\n",
        "\n",
        "plt.plot(epochs, Hist.history['loss'])\n",
        "plt.plot(epochs, Hist.history['val_loss'])\n",
        "plt.legend(['Train Loss', 'Test Loss'])\n",
        "plt.grid()\n",
        "plt.show()\n",
        "\n",
        "plt.plot(epochs, Hist.history['accuracy'])\n",
        "plt.plot(epochs, Hist.history['val_accuracy'])\n",
        "plt.legend(['Train accuracy', 'Test accuracy'])\n",
        "plt.grid()\n",
        "plt.show()"
      ],
      "execution_count": 34,
      "outputs": [
        {
          "output_type": "display_data",
          "data": {
            "image/png": "[encoded data removed]",
            "text/plain": [
              "<Figure size 432x288 with 1 Axes>"
            ]
          },
          "metadata": {
            "tags": [],
            "needs_background": "light"
          }
        },
        {
          "output_type": "display_data",
          "data": {
            "image/png": "[encoded data removed]",
            "text/plain": [
              "<Figure size 432x288 with 1 Axes>"
            ]
          },
          "metadata": {
            "tags": [],
            "needs_background": "light"
          }
        }
      ]
    },
    {
      "cell_type": "code",
      "metadata": {
        "colab": {
          "base_uri": "https://localhost:8080/"
        },
        "id": "rx7E3kJ83vBQ",
        "outputId": "0c5cbdef-9129-4579-afbf-7fe73aa4d082"
      },
      "source": [
        "test_datagen = ImageDataGenerator(rescale= 1./255)\n",
        "\n",
        "test_generator = test_datagen.flow(X_test, y_test, batch_size=1000)\n",
        "\n",
        "loss, accuracy = model.evaluate(test_generator, steps=10)\n",
        "loss, accuracy"
      ],
      "execution_count": 36,
      "outputs": [
        {
          "output_type": "stream",
          "text": [
            "10/22 [============>.................] - ETA: 0s - loss: 2.7390 - accuracy: 0.3118WARNING:tensorflow:Your input ran out of data; interrupting training. Make sure that your dataset or generator can generate at least `steps_per_epoch * epochs` batches (in this case, 22 batches). You may need to use the repeat() function when building your dataset.\n",
            "22/22 [==============================] - 1s 26ms/step - loss: 2.7390 - accuracy: 0.3118\n"
          ],
          "name": "stdout"
        },
        {
          "output_type": "execute_result",
          "data": {
            "text/plain": [
              "(2.7389678955078125, 0.3118000030517578)"
            ]
          },
          "metadata": {
            "tags": []
          },
          "execution_count": 36
        }
      ]
    },
    {
      "cell_type": "markdown",
      "metadata": {
        "id": "fkNhC7otrAHS"
      },
      "source": [
        "# fit"
      ]
    },
    {
      "cell_type": "code",
      "metadata": {
        "id": "C9z8Pt5ErBG8"
      },
      "source": [
        "from keras.preprocessing.image import ImageDataGenerator\n",
        "\n",
        "datagen = ImageDataGenerator(rescale= 1./255, rotation_range=40, width_shift_range=0.2, height_shift_range=0.2,\n",
        "                                   shear_range=0.2, zoom_range=0.2, horizontal_flip=True, vertical_flip=True, \n",
        "                                   fill_mode='nearest')\n",
        "train_generator = datagen.flow(X_train, y_train, batch_size=1000)\n",
        "valid_generator = datagen.flow(X_valid, y_valid, batch_size=1000)"
      ],
      "execution_count": 13,
      "outputs": []
    },
    {
      "cell_type": "code",
      "metadata": {
        "colab": {
          "base_uri": "https://localhost:8080/"
        },
        "id": "eS9RaxADtfca",
        "outputId": "d5fd32ac-f15c-46bc-be47-4e7b30b95399"
      },
      "source": [
        "X_train[0]"
      ],
      "execution_count": 16,
      "outputs": [
        {
          "output_type": "execute_result",
          "data": {
            "text/plain": [
              "array([[[162, 149, 130],\n",
              "        [161, 150, 131],\n",
              "        [161, 152, 132],\n",
              "        ...,\n",
              "        [168, 156, 140],\n",
              "        [166, 154, 138],\n",
              "        [166, 153, 137]],\n",
              "\n",
              "       [[113, 141, 137],\n",
              "        [114, 140, 137],\n",
              "        [118, 142, 139],\n",
              "        ...,\n",
              "        [124, 154, 154],\n",
              "        [126, 156, 156],\n",
              "        [130, 159, 158]],\n",
              "\n",
              "       [[ 63, 114, 115],\n",
              "        [ 67, 113, 115],\n",
              "        [ 71, 113, 116],\n",
              "        ...,\n",
              "        [121, 162, 172],\n",
              "        [121, 163, 173],\n",
              "        [124, 164, 173]],\n",
              "\n",
              "       ...,\n",
              "\n",
              "       [[224, 224, 224],\n",
              "        [224, 224, 224],\n",
              "        [228, 228, 228],\n",
              "        ...,\n",
              "        [248, 248, 248],\n",
              "        [249, 249, 249],\n",
              "        [249, 249, 249]],\n",
              "\n",
              "       [[225, 225, 225],\n",
              "        [227, 227, 227],\n",
              "        [230, 230, 230],\n",
              "        ...,\n",
              "        [250, 250, 250],\n",
              "        [251, 251, 251],\n",
              "        [251, 251, 251]],\n",
              "\n",
              "       [[223, 223, 223],\n",
              "        [224, 224, 224],\n",
              "        [227, 227, 227],\n",
              "        ...,\n",
              "        [246, 246, 246],\n",
              "        [246, 246, 246],\n",
              "        [246, 246, 246]]], dtype=uint8)"
            ]
          },
          "metadata": {
            "tags": []
          },
          "execution_count": 16
        }
      ]
    },
    {
      "cell_type": "code",
      "metadata": {
        "colab": {
          "base_uri": "https://localhost:8080/"
        },
        "id": "67Mb9LAsrBHA",
        "outputId": "1ec890b3-356c-4659-b495-dc5fae9ccfae"
      },
      "source": [
        "\n",
        "from keras import layers, models\n",
        "\n",
        "model = models.Sequential()\n",
        "model.add(layers.Conv2D(32, (3,3), activation='relu', input_shape=(32, 32, 3)))\n",
        "model.add(layers.MaxPool2D((2,2)))\n",
        "model.add(layers.Conv2D(64, (3,3), activation='relu'))\n",
        "#model.add(layers.MaxPool2D((2,2)))\n",
        "model.add(layers.Conv2D(128, (3,3), activation='relu'))\n",
        "model.add(layers.MaxPool2D((2,2)))\n",
        "model.add(layers.Conv2D(128, (3,3), activation='relu'))\n",
        "\n",
        "model.add(layers.Flatten())\n",
        "model.add(layers.Dense(units=512, activation='relu'))\n",
        "model.add(layers.Dropout(0.5))\n",
        "model.add(layers.Dense(units=100, activation='softmax'))\n",
        "\n",
        "model.summary()\n",
        "\n",
        "model.compile(loss = 'categorical_crossentropy',\n",
        "              optimizer = 'adam',\n",
        "              metrics = ['accuracy'])"
      ],
      "execution_count": 18,
      "outputs": [
        {
          "output_type": "stream",
          "text": [
            "Model: \"sequential\"\n",
            "_________________________________________________________________\n",
            "Layer (type)                 Output Shape              Param #   \n",
            "=================================================================\n",
            "conv2d (Conv2D)              (None, 30, 30, 32)        896       \n",
            "_________________________________________________________________\n",
            "max_pooling2d (MaxPooling2D) (None, 15, 15, 32)        0         \n",
            "_________________________________________________________________\n",
            "conv2d_1 (Conv2D)            (None, 13, 13, 64)        18496     \n",
            "_________________________________________________________________\n",
            "conv2d_2 (Conv2D)            (None, 11, 11, 128)       73856     \n",
            "_________________________________________________________________\n",
            "max_pooling2d_1 (MaxPooling2 (None, 5, 5, 128)         0         \n",
            "_________________________________________________________________\n",
            "conv2d_3 (Conv2D)            (None, 3, 3, 128)         147584    \n",
            "_________________________________________________________________\n",
            "flatten (Flatten)            (None, 1152)              0         \n",
            "_________________________________________________________________\n",
            "dense (Dense)                (None, 512)               590336    \n",
            "_________________________________________________________________\n",
            "dropout (Dropout)            (None, 512)               0         \n",
            "_________________________________________________________________\n",
            "dense_1 (Dense)              (None, 100)               51300     \n",
            "=================================================================\n",
            "Total params: 882,468\n",
            "Trainable params: 882,468\n",
            "Non-trainable params: 0\n",
            "_________________________________________________________________\n"
          ],
          "name": "stdout"
        }
      ]
    },
    {
      "cell_type": "code",
      "metadata": {
        "colab": {
          "base_uri": "https://localhost:8080/"
        },
        "id": "KOGY8jQyrBHC",
        "outputId": "a887bc3a-d4af-4996-baf5-16b9a8418e47"
      },
      "source": [
        "%%time\n",
        "Hist = model.fit(train_generator, steps_per_epoch=40 ,\n",
        "                       epochs = 50,\n",
        "                       validation_data=valid_generator, validation_steps=10)"
      ],
      "execution_count": 19,
      "outputs": [
        {
          "output_type": "stream",
          "text": [
            "Epoch 1/50\n",
            "40/40 [==============================] - 51s 527ms/step - loss: 4.5607 - accuracy: 0.0151 - val_loss: 4.3517 - val_accuracy: 0.0332\n",
            "Epoch 2/50\n",
            "40/40 [==============================] - 21s 523ms/step - loss: 4.3349 - accuracy: 0.0366 - val_loss: 4.1307 - val_accuracy: 0.0669\n",
            "Epoch 3/50\n",
            "40/40 [==============================] - 21s 529ms/step - loss: 4.1532 - accuracy: 0.0608 - val_loss: 3.9817 - val_accuracy: 0.0868\n",
            "Epoch 4/50\n",
            "40/40 [==============================] - 21s 524ms/step - loss: 4.0249 - accuracy: 0.0775 - val_loss: 3.8737 - val_accuracy: 0.1031\n",
            "Epoch 5/50\n",
            "40/40 [==============================] - 21s 520ms/step - loss: 3.9428 - accuracy: 0.0874 - val_loss: 3.7985 - val_accuracy: 0.1160\n",
            "Epoch 6/50\n",
            "40/40 [==============================] - 21s 522ms/step - loss: 3.8614 - accuracy: 0.0996 - val_loss: 3.7111 - val_accuracy: 0.1330\n",
            "Epoch 7/50\n",
            "40/40 [==============================] - 21s 522ms/step - loss: 3.7777 - accuracy: 0.1159 - val_loss: 3.6495 - val_accuracy: 0.1406\n",
            "Epoch 8/50\n",
            "40/40 [==============================] - 21s 524ms/step - loss: 3.7130 - accuracy: 0.1249 - val_loss: 3.5809 - val_accuracy: 0.1559\n",
            "Epoch 9/50\n",
            "40/40 [==============================] - 21s 521ms/step - loss: 3.6884 - accuracy: 0.1277 - val_loss: 3.5783 - val_accuracy: 0.1556\n",
            "Epoch 10/50\n",
            "40/40 [==============================] - 21s 519ms/step - loss: 3.6338 - accuracy: 0.1390 - val_loss: 3.4819 - val_accuracy: 0.1680\n",
            "Epoch 11/50\n",
            "40/40 [==============================] - 21s 524ms/step - loss: 3.5732 - accuracy: 0.1493 - val_loss: 3.4482 - val_accuracy: 0.1748\n",
            "Epoch 12/50\n",
            "40/40 [==============================] - 21s 522ms/step - loss: 3.5310 - accuracy: 0.1565 - val_loss: 3.4886 - val_accuracy: 0.1669\n",
            "Epoch 13/50\n",
            "40/40 [==============================] - 21s 523ms/step - loss: 3.5091 - accuracy: 0.1595 - val_loss: 3.3943 - val_accuracy: 0.1879\n",
            "Epoch 14/50\n",
            "40/40 [==============================] - 21s 521ms/step - loss: 3.4585 - accuracy: 0.1691 - val_loss: 3.3626 - val_accuracy: 0.1917\n",
            "Epoch 15/50\n",
            "40/40 [==============================] - 21s 525ms/step - loss: 3.4658 - accuracy: 0.1688 - val_loss: 3.3828 - val_accuracy: 0.1880\n",
            "Epoch 16/50\n",
            "40/40 [==============================] - 21s 524ms/step - loss: 3.4207 - accuracy: 0.1765 - val_loss: 3.3311 - val_accuracy: 0.1961\n",
            "Epoch 17/50\n",
            "40/40 [==============================] - 21s 522ms/step - loss: 3.4006 - accuracy: 0.1816 - val_loss: 3.3352 - val_accuracy: 0.1976\n",
            "Epoch 18/50\n",
            "40/40 [==============================] - 21s 531ms/step - loss: 3.3904 - accuracy: 0.1821 - val_loss: 3.3078 - val_accuracy: 0.2055\n",
            "Epoch 19/50\n",
            "40/40 [==============================] - 21s 528ms/step - loss: 3.3390 - accuracy: 0.1911 - val_loss: 3.2570 - val_accuracy: 0.2148\n",
            "Epoch 20/50\n",
            "40/40 [==============================] - 21s 523ms/step - loss: 3.3568 - accuracy: 0.1887 - val_loss: 3.2509 - val_accuracy: 0.2117\n",
            "Epoch 21/50\n",
            "40/40 [==============================] - 21s 524ms/step - loss: 3.3060 - accuracy: 0.1978 - val_loss: 3.2352 - val_accuracy: 0.2156\n",
            "Epoch 22/50\n",
            "40/40 [==============================] - 21s 520ms/step - loss: 3.2952 - accuracy: 0.1980 - val_loss: 3.2135 - val_accuracy: 0.2218\n",
            "Epoch 23/50\n",
            "40/40 [==============================] - 21s 527ms/step - loss: 3.2942 - accuracy: 0.1989 - val_loss: 3.2095 - val_accuracy: 0.2191\n",
            "Epoch 24/50\n",
            "40/40 [==============================] - 21s 526ms/step - loss: 3.2619 - accuracy: 0.2037 - val_loss: 3.2021 - val_accuracy: 0.2271\n",
            "Epoch 25/50\n",
            "40/40 [==============================] - 21s 523ms/step - loss: 3.2677 - accuracy: 0.2046 - val_loss: 3.1657 - val_accuracy: 0.2305\n",
            "Epoch 26/50\n",
            "40/40 [==============================] - 21s 526ms/step - loss: 3.2343 - accuracy: 0.2075 - val_loss: 3.2009 - val_accuracy: 0.2213\n",
            "Epoch 27/50\n",
            "40/40 [==============================] - 21s 525ms/step - loss: 3.2332 - accuracy: 0.2147 - val_loss: 3.1475 - val_accuracy: 0.2310\n",
            "Epoch 28/50\n",
            "40/40 [==============================] - 21s 524ms/step - loss: 3.2195 - accuracy: 0.2133 - val_loss: 3.1489 - val_accuracy: 0.2322\n",
            "Epoch 29/50\n",
            "40/40 [==============================] - 21s 524ms/step - loss: 3.2139 - accuracy: 0.2107 - val_loss: 3.0958 - val_accuracy: 0.2448\n",
            "Epoch 30/50\n",
            "40/40 [==============================] - 21s 522ms/step - loss: 3.1721 - accuracy: 0.2188 - val_loss: 3.1264 - val_accuracy: 0.2308\n",
            "Epoch 31/50\n",
            "40/40 [==============================] - 21s 525ms/step - loss: 3.1700 - accuracy: 0.2234 - val_loss: 3.0759 - val_accuracy: 0.2462\n",
            "Epoch 32/50\n",
            "40/40 [==============================] - 21s 521ms/step - loss: 3.1439 - accuracy: 0.2275 - val_loss: 3.0808 - val_accuracy: 0.2445\n",
            "Epoch 33/50\n",
            "40/40 [==============================] - 21s 533ms/step - loss: 3.1638 - accuracy: 0.2235 - val_loss: 3.1072 - val_accuracy: 0.2418\n",
            "Epoch 34/50\n",
            "40/40 [==============================] - 21s 529ms/step - loss: 3.1434 - accuracy: 0.2265 - val_loss: 3.0737 - val_accuracy: 0.2429\n",
            "Epoch 35/50\n",
            "40/40 [==============================] - 21s 529ms/step - loss: 3.1236 - accuracy: 0.2302 - val_loss: 3.0720 - val_accuracy: 0.2534\n",
            "Epoch 36/50\n",
            "40/40 [==============================] - 21s 524ms/step - loss: 3.1097 - accuracy: 0.2340 - val_loss: 3.0552 - val_accuracy: 0.2516\n",
            "Epoch 37/50\n",
            "40/40 [==============================] - 21s 524ms/step - loss: 3.1072 - accuracy: 0.2356 - val_loss: 3.0562 - val_accuracy: 0.2523\n",
            "Epoch 38/50\n",
            "40/40 [==============================] - 21s 529ms/step - loss: 3.1003 - accuracy: 0.2373 - val_loss: 3.0364 - val_accuracy: 0.2478\n",
            "Epoch 39/50\n",
            "40/40 [==============================] - 21s 529ms/step - loss: 3.0802 - accuracy: 0.2408 - val_loss: 3.0249 - val_accuracy: 0.2577\n",
            "Epoch 40/50\n",
            "40/40 [==============================] - 21s 529ms/step - loss: 3.0799 - accuracy: 0.2428 - val_loss: 3.0308 - val_accuracy: 0.2544\n",
            "Epoch 41/50\n",
            "40/40 [==============================] - 21s 527ms/step - loss: 3.0639 - accuracy: 0.2412 - val_loss: 3.0038 - val_accuracy: 0.2545\n",
            "Epoch 42/50\n",
            "40/40 [==============================] - 21s 530ms/step - loss: 3.0653 - accuracy: 0.2416 - val_loss: 2.9966 - val_accuracy: 0.2601\n",
            "Epoch 43/50\n",
            "40/40 [==============================] - 21s 535ms/step - loss: 3.0512 - accuracy: 0.2402 - val_loss: 2.9948 - val_accuracy: 0.2580\n",
            "Epoch 44/50\n",
            "40/40 [==============================] - 21s 526ms/step - loss: 3.0502 - accuracy: 0.2438 - val_loss: 2.9745 - val_accuracy: 0.2592\n",
            "Epoch 45/50\n",
            "40/40 [==============================] - 21s 528ms/step - loss: 3.0477 - accuracy: 0.2460 - val_loss: 3.0061 - val_accuracy: 0.2576\n",
            "Epoch 46/50\n",
            "40/40 [==============================] - 21s 535ms/step - loss: 3.0504 - accuracy: 0.2423 - val_loss: 2.9657 - val_accuracy: 0.2650\n",
            "Epoch 47/50\n",
            "40/40 [==============================] - 21s 536ms/step - loss: 3.0158 - accuracy: 0.2508 - val_loss: 2.9566 - val_accuracy: 0.2672\n",
            "Epoch 48/50\n",
            "40/40 [==============================] - 21s 537ms/step - loss: 3.0174 - accuracy: 0.2508 - val_loss: 2.9565 - val_accuracy: 0.2677\n",
            "Epoch 49/50\n",
            "40/40 [==============================] - 21s 526ms/step - loss: 3.0276 - accuracy: 0.2481 - val_loss: 2.9457 - val_accuracy: 0.2703\n",
            "Epoch 50/50\n",
            "40/40 [==============================] - 21s 528ms/step - loss: 2.9970 - accuracy: 0.2543 - val_loss: 2.9664 - val_accuracy: 0.2642\n",
            "CPU times: user 17min 49s, sys: 15.9 s, total: 18min 5s\n",
            "Wall time: 17min 59s\n"
          ],
          "name": "stdout"
        }
      ]
    },
    {
      "cell_type": "code",
      "metadata": {
        "colab": {
          "base_uri": "https://localhost:8080/",
          "height": 513
        },
        "id": "RoArKLI6wpnK",
        "outputId": "5704a3e8-39d4-4a77-a930-7b74354efeda"
      },
      "source": [
        "import matplotlib.pyplot as plt\n",
        "\n",
        "epochs = range(1, len(Hist.history['loss'])+1)\n",
        "\n",
        "plt.plot(epochs, Hist.history['loss'])\n",
        "plt.plot(epochs, Hist.history['val_loss'])\n",
        "plt.legend(['Train Loss', 'Test Loss'])\n",
        "plt.grid()\n",
        "plt.show()\n",
        "\n",
        "plt.plot(epochs, Hist.history['accuracy'])\n",
        "plt.plot(epochs, Hist.history['val_accuracy'])\n",
        "plt.legend(['Train accuracy', 'Test accuracy'])\n",
        "plt.grid()\n",
        "plt.show()"
      ],
      "execution_count": 23,
      "outputs": [
        {
          "output_type": "display_data",
          "data": {
            "image/png": "[encoded data removed]",
            "text/plain": [
              "<Figure size 432x288 with 1 Axes>"
            ]
          },
          "metadata": {
            "tags": [],
            "needs_background": "light"
          }
        },
        {
          "output_type": "display_data",
          "data": {
            "image/png": "[encoded data removed]",
            "text/plain": [
              "<Figure size 432x288 with 1 Axes>"
            ]
          },
          "metadata": {
            "tags": [],
            "needs_background": "light"
          }
        }
      ]
    },
    {
      "cell_type": "code",
      "metadata": {
        "colab": {
          "base_uri": "https://localhost:8080/"
        },
        "id": "anijTawPwpng",
        "outputId": "0c5cbdef-9129-4579-afbf-7fe73aa4d082"
      },
      "source": [
        "test_datagen = ImageDataGenerator(rescale= 1./255)\n",
        "\n",
        "test_generator = test_datagen.flow(X_test, y_test, batch_size=1000)\n",
        "\n",
        "loss, accuracy = model.evaluate(test_generator, steps=10)\n",
        "loss, accuracy"
      ],
      "execution_count": null,
      "outputs": [
        {
          "output_type": "stream",
          "text": [
            "10/22 [============>.................] - ETA: 0s - loss: 2.7390 - accuracy: 0.3118WARNING:tensorflow:Your input ran out of data; interrupting training. Make sure that your dataset or generator can generate at least `steps_per_epoch * epochs` batches (in this case, 22 batches). You may need to use the repeat() function when building your dataset.\n",
            "22/22 [==============================] - 1s 26ms/step - loss: 2.7390 - accuracy: 0.3118\n"
          ],
          "name": "stdout"
        },
        {
          "output_type": "execute_result",
          "data": {
            "text/plain": [
              "(2.7389678955078125, 0.3118000030517578)"
            ]
          },
          "metadata": {
            "tags": []
          },
          "execution_count": 36
        }
      ]
    }
  ]
}