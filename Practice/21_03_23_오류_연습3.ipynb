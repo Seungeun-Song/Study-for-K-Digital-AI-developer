{
  "nbformat": 4,
  "nbformat_minor": 0,
  "metadata": {
    "colab": {
      "name": "CIFAR100_Image_Augmentation",
      "provenance": []
    },
    "kernelspec": {
      "name": "python3",
      "display_name": "Python 3"
    },
    "language_info": {
      "name": "python"
    },
    "accelerator": "GPU"
  },
  "cells": [
    {
      "cell_type": "code",
      "metadata": {
        "colab": {
          "base_uri": "https://localhost:8080/"
        },
        "id": "PIqdH720zu-O",
        "outputId": "c5e94cfa-fb4e-4ed9-e816-3d83c553122b"
      },
      "source": [
        "from keras.datasets import cifar100\n",
        "\n",
        "(X_train, y_train), (X_test, y_test) = cifar100.load_data(label_mode = 'fine')"
      ],
      "execution_count": 1,
      "outputs": [
        {
          "output_type": "stream",
          "text": [
            "Downloading data from https://www.cs.toronto.edu/~kriz/cifar-100-python.tar.gz\n",
            "169009152/169001437 [==============================] - 11s 0us/step\n"
          ],
          "name": "stdout"
        }
      ]
    },
    {
      "cell_type": "code",
      "metadata": {
        "colab": {
          "base_uri": "https://localhost:8080/"
        },
        "id": "4sexWzxe0TGy",
        "outputId": "1ce12b1a-4b92-4f48-a64e-bf26d993c50b"
      },
      "source": [
        "print(X_train.shape, y_train.shape) \n",
        "print(X_test.shape, y_test.shape)"
      ],
      "execution_count": 2,
      "outputs": [
        {
          "output_type": "stream",
          "text": [
            "(50000, 32, 32, 3) (50000, 1)\n",
            "(10000, 32, 32, 3) (10000, 1)\n"
          ],
          "name": "stdout"
        }
      ]
    },
    {
      "cell_type": "code",
      "metadata": {
        "id": "gtguKo2588e1"
      },
      "source": [
        ""
      ],
      "execution_count": null,
      "outputs": []
    },
    {
      "cell_type": "code",
      "metadata": {
        "id": "y7PYzgRL67ju"
      },
      "source": [
        "X_train = X_train.reshape((50000,  32, 32, 3))\n",
        "X_test = X_test.reshape((10000,  32, 32, 3))"
      ],
      "execution_count": 5,
      "outputs": []
    },
    {
      "cell_type": "code",
      "metadata": {
        "colab": {
          "base_uri": "https://localhost:8080/"
        },
        "id": "BmmUNX_t7QWF",
        "outputId": "0dc16130-2d2f-4176-d9c0-01fe3f63ab4b"
      },
      "source": [
        "print(X_train.shape, y_train.shape) \n",
        "print(X_test.shape, y_test.shape)"
      ],
      "execution_count": 6,
      "outputs": [
        {
          "output_type": "stream",
          "text": [
            "(50000, 32, 32, 3) (50000, 1)\n",
            "(10000, 32, 32, 3) (10000, 1)\n"
          ],
          "name": "stdout"
        }
      ]
    },
    {
      "cell_type": "code",
      "metadata": {
        "id": "mZWz4y6J0vAL"
      },
      "source": [
        "from keras.utils import to_categorical\n",
        "\n",
        "y_train= to_categorical(y_train)\n",
        "y_test = to_categorical(y_test)"
      ],
      "execution_count": 7,
      "outputs": []
    },
    {
      "cell_type": "code",
      "metadata": {
        "colab": {
          "base_uri": "https://localhost:8080/"
        },
        "id": "t_W1vnjZ2taj",
        "outputId": "a1c0a71a-4cb7-4a37-859c-11d6f71943be"
      },
      "source": [
        "y_train.shape"
      ],
      "execution_count": 8,
      "outputs": [
        {
          "output_type": "execute_result",
          "data": {
            "text/plain": [
              "(50000, 100)"
            ]
          },
          "metadata": {
            "tags": []
          },
          "execution_count": 8
        }
      ]
    },
    {
      "cell_type": "code",
      "metadata": {
        "id": "Hei8jBFx083i"
      },
      "source": [
        "from sklearn.model_selection import train_test_split\n",
        "\n",
        "X_train, X_valid, y_train, y_valid = train_test_split(X_train, y_train, test_size=0.2, random_state=2045)"
      ],
      "execution_count": 9,
      "outputs": []
    },
    {
      "cell_type": "code",
      "metadata": {
        "colab": {
          "base_uri": "https://localhost:8080/"
        },
        "id": "EmBjUYn3Dmzr",
        "outputId": "681bc5ae-265a-4ce2-c026-0f06bad7e0f5"
      },
      "source": [
        "X_train.shape, X_test.shape"
      ],
      "execution_count": 29,
      "outputs": [
        {
          "output_type": "execute_result",
          "data": {
            "text/plain": [
              "((40000, 32, 32, 3), (10000, 32, 32, 3))"
            ]
          },
          "metadata": {
            "tags": []
          },
          "execution_count": 29
        }
      ]
    },
    {
      "cell_type": "code",
      "metadata": {
        "id": "Uxv1C6L81BFS"
      },
      "source": [
        "from keras.preprocessing.image import ImageDataGenerator\n",
        "\n",
        "X_train_datagen = ImageDataGenerator(rescale= 1./255, rotation_range=40, width_shift_range=0.2, height_shift_range=0.2,\n",
        "                                   shear_range=0.2, zoom_range=0.2, horizontal_flip=True, vertical_flip=True, \n",
        "                                   fill_mode='nearest')\n",
        "X_valid_datagen = ImageDataGenerator(rescale= 1./255)\n",
        "\n",
        "train_generator = X_train_datagen.flow(X_train, y_train, batch_size=1000)\n",
        "valid_generator = X_valid_datagen.flow(X_valid, y_valid, batch_size=1000)"
      ],
      "execution_count": 31,
      "outputs": []
    },
    {
      "cell_type": "code",
      "metadata": {
        "colab": {
          "base_uri": "https://localhost:8080/"
        },
        "id": "e9GmOZA38_Fg",
        "outputId": "5d027ca5-ce37-4403-e8b9-1e0f831b3655"
      },
      "source": [
        "print(type(X_train_datagen))"
      ],
      "execution_count": 25,
      "outputs": [
        {
          "output_type": "stream",
          "text": [
            "<class 'tensorflow.python.keras.preprocessing.image.ImageDataGenerator'>\n"
          ],
          "name": "stdout"
        }
      ]
    },
    {
      "cell_type": "code",
      "metadata": {
        "colab": {
          "base_uri": "https://localhost:8080/"
        },
        "id": "TKU6VteF9cL-",
        "outputId": "d20094b0-5819-4dcf-f83f-2631c29d076e"
      },
      "source": [
        "print(type(y_train))"
      ],
      "execution_count": 16,
      "outputs": [
        {
          "output_type": "stream",
          "text": [
            "<class 'numpy.ndarray'>\n"
          ],
          "name": "stdout"
        }
      ]
    },
    {
      "cell_type": "code",
      "metadata": {
        "colab": {
          "base_uri": "https://localhost:8080/"
        },
        "id": "Mom1VIy72Uh3",
        "outputId": "06518324-8005-45b7-d669-7ac1f4450fc1"
      },
      "source": [
        "\n",
        "from keras import layers, models\n",
        "\n",
        "model = models.Sequential()\n",
        "model.add(layers.Conv2D(32, (3,3), activation='relu', input_shape=(32, 32, 3)))\n",
        "model.add(layers.MaxPool2D((2,2)))\n",
        "model.add(layers.Conv2D(64, (3,3), activation='relu'))\n",
        "#model.add(layers.MaxPool2D((2,2)))\n",
        "model.add(layers.Conv2D(128, (3,3), activation='relu'))\n",
        "model.add(layers.MaxPool2D((2,2)))\n",
        "model.add(layers.Conv2D(128, (3,3), activation='relu'))\n",
        "\n",
        "model.add(layers.Flatten())\n",
        "model.add(layers.Dense(units=512, activation='relu'))\n",
        "model.add(layers.Dropout(0.5))\n",
        "model.add(layers.Dense(units=100, activation='softmax'))\n",
        "\n",
        "model.summary()\n",
        "\n",
        "model.compile(loss = 'categorical_crossentropy',\n",
        "              optimizer = 'adam',\n",
        "              metrics = ['accuracy'])"
      ],
      "execution_count": 23,
      "outputs": [
        {
          "output_type": "stream",
          "text": [
            "Model: \"sequential_1\"\n",
            "_________________________________________________________________\n",
            "Layer (type)                 Output Shape              Param #   \n",
            "=================================================================\n",
            "conv2d_4 (Conv2D)            (None, 30, 30, 32)        896       \n",
            "_________________________________________________________________\n",
            "max_pooling2d_2 (MaxPooling2 (None, 15, 15, 32)        0         \n",
            "_________________________________________________________________\n",
            "conv2d_5 (Conv2D)            (None, 13, 13, 64)        18496     \n",
            "_________________________________________________________________\n",
            "conv2d_6 (Conv2D)            (None, 11, 11, 128)       73856     \n",
            "_________________________________________________________________\n",
            "max_pooling2d_3 (MaxPooling2 (None, 5, 5, 128)         0         \n",
            "_________________________________________________________________\n",
            "conv2d_7 (Conv2D)            (None, 3, 3, 128)         147584    \n",
            "_________________________________________________________________\n",
            "flatten_1 (Flatten)          (None, 1152)              0         \n",
            "_________________________________________________________________\n",
            "dense_2 (Dense)              (None, 512)               590336    \n",
            "_________________________________________________________________\n",
            "dropout_1 (Dropout)          (None, 512)               0         \n",
            "_________________________________________________________________\n",
            "dense_3 (Dense)              (None, 100)               51300     \n",
            "=================================================================\n",
            "Total params: 882,468\n",
            "Trainable params: 882,468\n",
            "Non-trainable params: 0\n",
            "_________________________________________________________________\n"
          ],
          "name": "stdout"
        }
      ]
    },
    {
      "cell_type": "code",
      "metadata": {
        "colab": {
          "base_uri": "https://localhost:8080/"
        },
        "id": "NBVt7qt4Drt8",
        "outputId": "b607883c-9195-483b-f5e5-60c75fbcac16"
      },
      "source": [
        "print(40000/1000)\n",
        "print(10000/1000)"
      ],
      "execution_count": 30,
      "outputs": [
        {
          "output_type": "stream",
          "text": [
            "40.0\n",
            "10.0\n"
          ],
          "name": "stdout"
        }
      ]
    },
    {
      "cell_type": "code",
      "metadata": {
        "colab": {
          "base_uri": "https://localhost:8080/"
        },
        "id": "d48YUtjd4JKH",
        "outputId": "698dc026-9fb1-476f-d6e0-0903e4b48ee0"
      },
      "source": [
        "%%time\n",
        "Hist = model.fit(train_generator, steps_per_epoch=40 ,\n",
        "                       epochs = 50,\n",
        "                       batch_size = 128,\n",
        "                       validation_data=valid_generator, validation_steps=10)"
      ],
      "execution_count": 32,
      "outputs": [
        {
          "output_type": "stream",
          "text": [
            "Epoch 1/50\n",
            "40/40 [==============================] - 27s 641ms/step - loss: 4.1822 - accuracy: 0.0572 - val_loss: 3.9423 - val_accuracy: 0.0942\n",
            "Epoch 2/50\n",
            "40/40 [==============================] - 26s 656ms/step - loss: 4.0286 - accuracy: 0.0787 - val_loss: 3.7818 - val_accuracy: 0.1208\n",
            "Epoch 3/50\n",
            "40/40 [==============================] - 27s 665ms/step - loss: 3.8882 - accuracy: 0.0979 - val_loss: 3.6509 - val_accuracy: 0.1366\n",
            "Epoch 4/50\n",
            "40/40 [==============================] - 27s 664ms/step - loss: 3.8073 - accuracy: 0.1097 - val_loss: 3.5774 - val_accuracy: 0.1564\n",
            "Epoch 5/50\n",
            "40/40 [==============================] - 26s 658ms/step - loss: 3.7398 - accuracy: 0.1225 - val_loss: 3.5038 - val_accuracy: 0.1726\n",
            "Epoch 6/50\n",
            "40/40 [==============================] - 26s 655ms/step - loss: 3.6705 - accuracy: 0.1322 - val_loss: 3.4594 - val_accuracy: 0.1701\n",
            "Epoch 7/50\n",
            "40/40 [==============================] - 26s 648ms/step - loss: 3.6236 - accuracy: 0.1405 - val_loss: 3.4415 - val_accuracy: 0.1775\n",
            "Epoch 8/50\n",
            "40/40 [==============================] - 27s 662ms/step - loss: 3.5709 - accuracy: 0.1488 - val_loss: 3.3102 - val_accuracy: 0.2003\n",
            "Epoch 9/50\n",
            "40/40 [==============================] - 26s 660ms/step - loss: 3.5267 - accuracy: 0.1567 - val_loss: 3.3778 - val_accuracy: 0.1842\n",
            "Epoch 10/50\n",
            "40/40 [==============================] - 26s 656ms/step - loss: 3.5020 - accuracy: 0.1625 - val_loss: 3.2243 - val_accuracy: 0.2163\n",
            "Epoch 11/50\n",
            "40/40 [==============================] - 27s 662ms/step - loss: 3.4768 - accuracy: 0.1664 - val_loss: 3.2316 - val_accuracy: 0.2112\n",
            "Epoch 12/50\n",
            "40/40 [==============================] - 26s 658ms/step - loss: 3.4323 - accuracy: 0.1704 - val_loss: 3.4166 - val_accuracy: 0.1686\n",
            "Epoch 13/50\n",
            "40/40 [==============================] - 27s 666ms/step - loss: 3.4120 - accuracy: 0.1759 - val_loss: 3.2043 - val_accuracy: 0.2189\n",
            "Epoch 14/50\n",
            "40/40 [==============================] - 27s 662ms/step - loss: 3.3870 - accuracy: 0.1817 - val_loss: 3.2504 - val_accuracy: 0.2076\n",
            "Epoch 15/50\n",
            "40/40 [==============================] - 27s 668ms/step - loss: 3.3849 - accuracy: 0.1838 - val_loss: 3.1512 - val_accuracy: 0.2281\n",
            "Epoch 16/50\n",
            "40/40 [==============================] - 27s 663ms/step - loss: 3.3519 - accuracy: 0.1889 - val_loss: 3.0854 - val_accuracy: 0.2426\n",
            "Epoch 17/50\n",
            "40/40 [==============================] - 27s 665ms/step - loss: 3.3348 - accuracy: 0.1887 - val_loss: 3.2163 - val_accuracy: 0.2191\n",
            "Epoch 18/50\n",
            "40/40 [==============================] - 26s 657ms/step - loss: 3.3167 - accuracy: 0.1952 - val_loss: 3.1254 - val_accuracy: 0.2321\n",
            "Epoch 19/50\n",
            "40/40 [==============================] - 26s 661ms/step - loss: 3.2832 - accuracy: 0.2015 - val_loss: 3.1852 - val_accuracy: 0.2213\n",
            "Epoch 20/50\n",
            "40/40 [==============================] - 27s 663ms/step - loss: 3.2655 - accuracy: 0.2031 - val_loss: 3.0297 - val_accuracy: 0.2526\n",
            "Epoch 21/50\n",
            "40/40 [==============================] - 26s 660ms/step - loss: 3.2595 - accuracy: 0.2035 - val_loss: 3.0385 - val_accuracy: 0.2511\n",
            "Epoch 22/50\n",
            "40/40 [==============================] - 26s 660ms/step - loss: 3.2572 - accuracy: 0.2028 - val_loss: 3.0005 - val_accuracy: 0.2594\n",
            "Epoch 23/50\n",
            "40/40 [==============================] - 26s 655ms/step - loss: 3.2084 - accuracy: 0.2161 - val_loss: 2.9704 - val_accuracy: 0.2645\n",
            "Epoch 24/50\n",
            "40/40 [==============================] - 26s 660ms/step - loss: 3.2000 - accuracy: 0.2164 - val_loss: 3.0590 - val_accuracy: 0.2508\n",
            "Epoch 25/50\n",
            "40/40 [==============================] - 26s 655ms/step - loss: 3.1985 - accuracy: 0.2149 - val_loss: 2.9944 - val_accuracy: 0.2593\n",
            "Epoch 26/50\n",
            "40/40 [==============================] - 26s 656ms/step - loss: 3.1673 - accuracy: 0.2215 - val_loss: 3.0175 - val_accuracy: 0.2510\n",
            "Epoch 27/50\n",
            "40/40 [==============================] - 26s 656ms/step - loss: 3.1577 - accuracy: 0.2237 - val_loss: 2.9220 - val_accuracy: 0.2739\n",
            "Epoch 28/50\n",
            "40/40 [==============================] - 26s 659ms/step - loss: 3.1446 - accuracy: 0.2277 - val_loss: 2.9532 - val_accuracy: 0.2659\n",
            "Epoch 29/50\n",
            "40/40 [==============================] - 26s 652ms/step - loss: 3.1400 - accuracy: 0.2268 - val_loss: 2.9102 - val_accuracy: 0.2822\n",
            "Epoch 30/50\n",
            "40/40 [==============================] - 27s 663ms/step - loss: 3.1256 - accuracy: 0.2291 - val_loss: 2.8941 - val_accuracy: 0.2795\n",
            "Epoch 31/50\n",
            "40/40 [==============================] - 27s 663ms/step - loss: 3.1132 - accuracy: 0.2311 - val_loss: 2.8542 - val_accuracy: 0.2877\n",
            "Epoch 32/50\n",
            "40/40 [==============================] - 27s 666ms/step - loss: 3.1008 - accuracy: 0.2340 - val_loss: 2.9052 - val_accuracy: 0.2769\n",
            "Epoch 33/50\n",
            "40/40 [==============================] - 27s 661ms/step - loss: 3.0974 - accuracy: 0.2349 - val_loss: 2.8900 - val_accuracy: 0.2798\n",
            "Epoch 34/50\n",
            "40/40 [==============================] - 26s 655ms/step - loss: 3.0836 - accuracy: 0.2357 - val_loss: 2.8328 - val_accuracy: 0.2949\n",
            "Epoch 35/50\n",
            "40/40 [==============================] - 27s 663ms/step - loss: 3.0787 - accuracy: 0.2383 - val_loss: 2.8112 - val_accuracy: 0.2986\n",
            "Epoch 36/50\n",
            "40/40 [==============================] - 26s 657ms/step - loss: 3.0672 - accuracy: 0.2393 - val_loss: 2.8224 - val_accuracy: 0.2985\n",
            "Epoch 37/50\n",
            "40/40 [==============================] - 27s 662ms/step - loss: 3.0449 - accuracy: 0.2472 - val_loss: 2.8020 - val_accuracy: 0.2997\n",
            "Epoch 38/50\n",
            "40/40 [==============================] - 27s 667ms/step - loss: 3.0581 - accuracy: 0.2420 - val_loss: 2.8608 - val_accuracy: 0.2868\n",
            "Epoch 39/50\n",
            "40/40 [==============================] - 27s 670ms/step - loss: 3.0433 - accuracy: 0.2474 - val_loss: 2.8310 - val_accuracy: 0.2917\n",
            "Epoch 40/50\n",
            "40/40 [==============================] - 27s 664ms/step - loss: 3.0179 - accuracy: 0.2496 - val_loss: 2.8363 - val_accuracy: 0.2909\n",
            "Epoch 41/50\n",
            "40/40 [==============================] - 26s 659ms/step - loss: 3.0118 - accuracy: 0.2521 - val_loss: 2.8075 - val_accuracy: 0.2990\n",
            "Epoch 42/50\n",
            "40/40 [==============================] - 27s 665ms/step - loss: 3.0057 - accuracy: 0.2530 - val_loss: 2.8294 - val_accuracy: 0.2946\n",
            "Epoch 43/50\n",
            "40/40 [==============================] - 27s 663ms/step - loss: 3.0207 - accuracy: 0.2510 - val_loss: 2.8740 - val_accuracy: 0.2879\n",
            "Epoch 44/50\n",
            "40/40 [==============================] - 27s 664ms/step - loss: 3.0041 - accuracy: 0.2537 - val_loss: 2.7139 - val_accuracy: 0.3149\n",
            "Epoch 45/50\n",
            "40/40 [==============================] - 27s 662ms/step - loss: 2.9812 - accuracy: 0.2562 - val_loss: 2.7418 - val_accuracy: 0.3099\n",
            "Epoch 46/50\n",
            "40/40 [==============================] - 27s 664ms/step - loss: 2.9655 - accuracy: 0.2600 - val_loss: 2.7347 - val_accuracy: 0.3136\n",
            "Epoch 47/50\n",
            "40/40 [==============================] - 27s 661ms/step - loss: 2.9530 - accuracy: 0.2627 - val_loss: 2.7327 - val_accuracy: 0.3088\n",
            "Epoch 48/50\n",
            "40/40 [==============================] - 26s 661ms/step - loss: 2.9525 - accuracy: 0.2624 - val_loss: 2.7893 - val_accuracy: 0.3043\n",
            "Epoch 49/50\n",
            "40/40 [==============================] - 27s 665ms/step - loss: 2.9522 - accuracy: 0.2607 - val_loss: 2.7346 - val_accuracy: 0.3132\n",
            "Epoch 50/50\n",
            "40/40 [==============================] - 27s 668ms/step - loss: 2.9401 - accuracy: 0.2652 - val_loss: 2.7267 - val_accuracy: 0.3165\n",
            "CPU times: user 23min 23s, sys: 1min 14s, total: 24min 38s\n",
            "Wall time: 22min 6s\n"
          ],
          "name": "stdout"
        }
      ]
    },
    {
      "cell_type": "code",
      "metadata": {
        "colab": {
          "base_uri": "https://localhost:8080/",
          "height": 513
        },
        "id": "3WGXXeeo3Xsf",
        "outputId": "eca454e5-2d4e-4ce8-9617-790e66f966b2"
      },
      "source": [
        "import matplotlib.pyplot as plt\n",
        "\n",
        "epochs = range(1, len(Hist.history['loss'])+1)\n",
        "\n",
        "plt.plot(epochs, Hist.history['loss'])\n",
        "plt.plot(epochs, Hist.history['val_loss'])\n",
        "plt.legend(['Train Loss', 'Test Loss'])\n",
        "plt.grid()\n",
        "plt.show()\n",
        "\n",
        "plt.plot(epochs, Hist.history['accuracy'])\n",
        "plt.plot(epochs, Hist.history['val_accuracy'])\n",
        "plt.legend(['Train accuracy', 'Test accuracy'])\n",
        "plt.grid()\n",
        "plt.show()"
      ],
      "execution_count": 34,
      "outputs": [
        {
          "output_type": "display_data",
          "data": {
            "image/png": "[encoded data removed]",
            "text/plain": [
              "<Figure size 432x288 with 1 Axes>"
            ]
          },
          "metadata": {
            "tags": [],
            "needs_background": "light"
          }
        },
        {
          "output_type": "display_data",
          "data": {
            "image/png": "[encoded data removed]",
            "text/plain": [
              "<Figure size 432x288 with 1 Axes>"
            ]
          },
          "metadata": {
            "tags": [],
            "needs_background": "light"
          }
        }
      ]
    },
    {
      "cell_type": "code",
      "metadata": {
        "colab": {
          "base_uri": "https://localhost:8080/"
        },
        "id": "rx7E3kJ83vBQ",
        "outputId": "0c5cbdef-9129-4579-afbf-7fe73aa4d082"
      },
      "source": [
        "test_datagen = ImageDataGenerator(rescale= 1./255)\n",
        "\n",
        "test_generator = test_datagen.flow(X_test, y_test, batch_size=1000)\n",
        "\n",
        "loss, accuracy = model.evaluate(test_generator, steps=22)\n",
        "loss, accuracy"
      ],
      "execution_count": 36,
      "outputs": [
        {
          "output_type": "stream",
          "text": [
            "10/22 [============>.................] - ETA: 0s - loss: 2.7390 - accuracy: 0.3118WARNING:tensorflow:Your input ran out of data; interrupting training. Make sure that your dataset or generator can generate at least `steps_per_epoch * epochs` batches (in this case, 22 batches). You may need to use the repeat() function when building your dataset.\n",
            "22/22 [==============================] - 1s 26ms/step - loss: 2.7390 - accuracy: 0.3118\n"
          ],
          "name": "stdout"
        },
        {
          "output_type": "execute_result",
          "data": {
            "text/plain": [
              "(2.7389678955078125, 0.3118000030517578)"
            ]
          },
          "metadata": {
            "tags": []
          },
          "execution_count": 36
        }
      ]
    },
    {
      "cell_type": "code",
      "metadata": {
        "id": "yeYXd8kCLn2Y"
      },
      "source": [
        ""
      ],
      "execution_count": null,
      "outputs": []
    }
  ]
}