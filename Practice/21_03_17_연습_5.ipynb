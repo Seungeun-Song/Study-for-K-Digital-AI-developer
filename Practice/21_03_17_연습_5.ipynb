{
  "nbformat": 4,
  "nbformat_minor": 0,
  "metadata": {
    "colab": {
      "name": "Untitled0.ipynb",
      "provenance": []
    },
    "kernelspec": {
      "name": "python3",
      "display_name": "Python 3"
    }
  },
  "cells": [
    {
      "cell_type": "code",
      "metadata": {
        "id": "VAFnjSdxOyTK"
      },
      "source": [
        "import numpy as np\r\n",
        "np.set_printoptions(suppress=True, precision=3)"
      ],
      "execution_count": 1,
      "outputs": []
    },
    {
      "cell_type": "code",
      "metadata": {
        "colab": {
          "base_uri": "https://localhost:8080/"
        },
        "id": "DWnLjW2rO680",
        "outputId": "f4466264-01a5-4f25-e40d-f421c7e5fdb3"
      },
      "source": [
        "X = np.array([[0,0,1],\r\n",
        "              [0,1,1],\r\n",
        "              [1,0,1],\r\n",
        "              [1,1,1]])\r\n",
        "X"
      ],
      "execution_count": 2,
      "outputs": [
        {
          "output_type": "execute_result",
          "data": {
            "text/plain": [
              "array([[0, 0, 1],\n",
              "       [0, 1, 1],\n",
              "       [1, 0, 1],\n",
              "       [1, 1, 1]])"
            ]
          },
          "metadata": {
            "tags": []
          },
          "execution_count": 2
        }
      ]
    },
    {
      "cell_type": "code",
      "metadata": {
        "colab": {
          "base_uri": "https://localhost:8080/"
        },
        "id": "iRptFkAhPBQs",
        "outputId": "434131ef-48d1-43ae-e8a6-987237bc10d2"
      },
      "source": [
        "y = np.array([0., 1., 1., 0.]).reshape(4,1)\r\n",
        "y"
      ],
      "execution_count": 3,
      "outputs": [
        {
          "output_type": "execute_result",
          "data": {
            "text/plain": [
              "array([[0.],\n",
              "       [1.],\n",
              "       [1.],\n",
              "       [0.]])"
            ]
          },
          "metadata": {
            "tags": []
          },
          "execution_count": 3
        }
      ]
    },
    {
      "cell_type": "code",
      "metadata": {
        "colab": {
          "base_uri": "https://localhost:8080/"
        },
        "id": "74EmnnUbPHpc",
        "outputId": "e88b8e96-6f51-4093-f89e-59350d085e2b"
      },
      "source": [
        "np.random.seed(2045)\r\n",
        "W1 = np.random.rand(3,4)\r\n",
        "W1"
      ],
      "execution_count": 4,
      "outputs": [
        {
          "output_type": "execute_result",
          "data": {
            "text/plain": [
              "array([[0.844, 0.886, 0.139, 0.061],\n",
              "       [0.192, 0.532, 0.155, 0.827],\n",
              "       [0.92 , 0.015, 0.49 , 0.692]])"
            ]
          },
          "metadata": {
            "tags": []
          },
          "execution_count": 4
        }
      ]
    },
    {
      "cell_type": "code",
      "metadata": {
        "colab": {
          "base_uri": "https://localhost:8080/"
        },
        "id": "nVYATyDwPV-M",
        "outputId": "3913b807-cc11-4220-b959-75adcec0b020"
      },
      "source": [
        "np.random.seed(2046)\r\n",
        "W2 = np.random.rand(4)\r\n",
        "\r\n",
        "\r\n",
        "W2"
      ],
      "execution_count": 5,
      "outputs": [
        {
          "output_type": "execute_result",
          "data": {
            "text/plain": [
              "array([0.895, 0.596, 0.436, 0.153])"
            ]
          },
          "metadata": {
            "tags": []
          },
          "execution_count": 5
        }
      ]
    },
    {
      "cell_type": "code",
      "metadata": {
        "colab": {
          "base_uri": "https://localhost:8080/"
        },
        "id": "1m3LpDA8Pm-s",
        "outputId": "69d2ade3-c784-43d1-ba4f-fe11d4bbf65a"
      },
      "source": [
        "np.random.seed(2046)\r\n",
        "W2 = np.random.rand(4)\r\n",
        "W2 = W2.reshape(4,1)\r\n",
        "W2"
      ],
      "execution_count": 6,
      "outputs": [
        {
          "output_type": "execute_result",
          "data": {
            "text/plain": [
              "array([[0.895],\n",
              "       [0.596],\n",
              "       [0.436],\n",
              "       [0.153]])"
            ]
          },
          "metadata": {
            "tags": []
          },
          "execution_count": 6
        }
      ]
    },
    {
      "cell_type": "code",
      "metadata": {
        "colab": {
          "base_uri": "https://localhost:8080/"
        },
        "id": "Dugd-wQjPn9b",
        "outputId": "8be0b1c5-df4b-464f-a768-6b6177fd0967"
      },
      "source": [
        "np.random.seed(2045)\r\n",
        "y_hat = np.random.rand(4).reshape(4,1)\r\n",
        "y_hat"
      ],
      "execution_count": 7,
      "outputs": [
        {
          "output_type": "execute_result",
          "data": {
            "text/plain": [
              "array([[0.844],\n",
              "       [0.886],\n",
              "       [0.139],\n",
              "       [0.061]])"
            ]
          },
          "metadata": {
            "tags": []
          },
          "execution_count": 7
        }
      ]
    },
    {
      "cell_type": "code",
      "metadata": {
        "colab": {
          "base_uri": "https://localhost:8080/"
        },
        "id": "hd8nUIAoPwtj",
        "outputId": "76d06c9d-f970-4efc-f71a-dd92b6ff60ab"
      },
      "source": [
        "Layer1 = np.ones([4,4])\r\n",
        "Layer1"
      ],
      "execution_count": 8,
      "outputs": [
        {
          "output_type": "execute_result",
          "data": {
            "text/plain": [
              "array([[1., 1., 1., 1.],\n",
              "       [1., 1., 1., 1.],\n",
              "       [1., 1., 1., 1.],\n",
              "       [1., 1., 1., 1.]])"
            ]
          },
          "metadata": {
            "tags": []
          },
          "execution_count": 8
        }
      ]
    },
    {
      "cell_type": "code",
      "metadata": {
        "id": "Bq7PLKdzPz4b"
      },
      "source": [
        "def sigmoid(x):\r\n",
        "  y = 1/(1+np.exp(-x))\r\n",
        "  return y"
      ],
      "execution_count": 9,
      "outputs": []
    },
    {
      "cell_type": "code",
      "metadata": {
        "id": "A5vBp7BBP7vD"
      },
      "source": [
        "def d_sigmoid(x):\r\n",
        "  dy = x * (1.0-x)\r\n",
        "  return dy"
      ],
      "execution_count": 10,
      "outputs": []
    },
    {
      "cell_type": "code",
      "metadata": {
        "id": "GBIATz-hQC7s"
      },
      "source": [
        "def loss_function(y, y_hat):\r\n",
        "  Loss = -np.mean((y*np.log(y_hat) + (1-y)*np.log(1-y_hat)))\r\n",
        "  return Loss"
      ],
      "execution_count": 11,
      "outputs": []
    },
    {
      "cell_type": "code",
      "metadata": {
        "id": "AiCCFv2nQRNE"
      },
      "source": [
        "def forwardProp(X, W1, Layer1, W2, y_hat):\r\n",
        "  Layer1 = sigmoid(np.dot(X,W1))\r\n",
        "  y_hat = sigmoid(np.dot(Layer1, W2))\r\n",
        "\r\n",
        "  return Layer1, y_hat"
      ],
      "execution_count": 12,
      "outputs": []
    },
    {
      "cell_type": "code",
      "metadata": {
        "id": "d5tfJlx3Qjfz"
      },
      "source": [
        "def backProp(X, y, y_hat, Layer1, W1, W2):\r\n",
        "  d_W2 = np.dot(np.transpose(Layer1), (-2 *(y-y_hat) * d_sigmoid(y_hat)))\r\n",
        "\r\n",
        "  d_W1 = np.dot((-2 * (y-y_hat) * d_sigmoid(y_hat)), np.transpose(W2))\r\n",
        "  d_W1 = d_W1 * d_sigmoid(Layer1)\r\n",
        "  d_W1 = np.dot(np.transpose(X), d_W1)\r\n",
        "\r\n",
        "  W1 = W1 - d_W1\r\n",
        "  W2 = W2 - d_W2\r\n",
        "\r\n",
        "  return y_hat, Layer1, W1, W2"
      ],
      "execution_count": 13,
      "outputs": []
    },
    {
      "cell_type": "code",
      "metadata": {
        "id": "zW7U0QHHTt2V"
      },
      "source": [
        "Loss_Record = []"
      ],
      "execution_count": 14,
      "outputs": []
    },
    {
      "cell_type": "code",
      "metadata": {
        "id": "N1e1VOtKTv-E"
      },
      "source": [
        "for k in range(0, 1000):\r\n",
        "  Layer1, y_hat = forwardProp(X, W1, Layer1, W2, y_hat)\r\n",
        "  y_hat, Layer_1, W1, W2 = backProp(X, y, y_hat, Layer1, W1, W2)\r\n",
        "\r\n",
        "  Loss_Record.append(loss_function(y,y_hat))"
      ],
      "execution_count": 15,
      "outputs": []
    },
    {
      "cell_type": "code",
      "metadata": {
        "colab": {
          "base_uri": "https://localhost:8080/"
        },
        "id": "Yj8ggwqXUK89",
        "outputId": "199417b1-2900-4e86-98e1-feabf58e8ee0"
      },
      "source": [
        "W1"
      ],
      "execution_count": 16,
      "outputs": [
        {
          "output_type": "execute_result",
          "data": {
            "text/plain": [
              "array([[ 2.165,  4.556,  6.252, -4.313],\n",
              "       [ 2.453,  4.884, -2.953,  6.58 ],\n",
              "       [ 1.547, -0.552,  0.307,  1.498]])"
            ]
          },
          "metadata": {
            "tags": []
          },
          "execution_count": 16
        }
      ]
    },
    {
      "cell_type": "code",
      "metadata": {
        "colab": {
          "base_uri": "https://localhost:8080/"
        },
        "id": "URgNUDROUUgc",
        "outputId": "804fe2bb-39a1-4458-cacf-d870a8218c61"
      },
      "source": [
        "W2"
      ],
      "execution_count": 17,
      "outputs": [
        {
          "output_type": "execute_result",
          "data": {
            "text/plain": [
              "array([[ 3.89 ],\n",
              "       [ 7.401],\n",
              "       [-7.353],\n",
              "       [-7.362]])"
            ]
          },
          "metadata": {
            "tags": []
          },
          "execution_count": 17
        }
      ]
    },
    {
      "cell_type": "code",
      "metadata": {
        "colab": {
          "base_uri": "https://localhost:8080/"
        },
        "id": "bcfZXjDUUY18",
        "outputId": "9bf923c8-42ec-4a82-f336-d274afd0ce3a"
      },
      "source": [
        "y_hat"
      ],
      "execution_count": 18,
      "outputs": [
        {
          "output_type": "execute_result",
          "data": {
            "text/plain": [
              "array([[0.013],\n",
              "       [0.964],\n",
              "       [0.965],\n",
              "       [0.044]])"
            ]
          },
          "metadata": {
            "tags": []
          },
          "execution_count": 18
        }
      ]
    },
    {
      "cell_type": "code",
      "metadata": {
        "colab": {
          "base_uri": "https://localhost:8080/",
          "height": 265
        },
        "id": "nNGL_njFUaGE",
        "outputId": "de286b32-c5d7-496b-b39b-95f0e1ab0c1e"
      },
      "source": [
        "import matplotlib.pyplot as plt\r\n",
        "\r\n",
        "plt.plot(Loss_Record)\r\n",
        "plt.show()"
      ],
      "execution_count": 19,
      "outputs": [
        {
          "output_type": "display_data",
          "data": {
            "image/png": "[encoded data removed]",
            "text/plain": [
              "<Figure size 432x288 with 1 Axes>"
            ]
          },
          "metadata": {
            "tags": [],
            "needs_background": "light"
          }
        }
      ]
    },
    {
      "cell_type": "code",
      "metadata": {
        "id": "OTDlp9VeWLl1"
      },
      "source": [
        ""
      ],
      "execution_count": 19,
      "outputs": []
    }
  ]
}