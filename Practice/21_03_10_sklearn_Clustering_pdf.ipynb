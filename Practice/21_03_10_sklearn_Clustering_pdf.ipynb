{
  "nbformat": 4,
  "nbformat_minor": 0,
  "metadata": {
    "colab": {
      "name": "019_sklearn_Clustering.pdf.ipynb",
      "provenance": [],
      "collapsed_sections": [],
      "toc_visible": true
    },
    "kernelspec": {
      "name": "python3",
      "display_name": "Python 3"
    }
  },
  "cells": [
    {
      "cell_type": "markdown",
      "metadata": {
        "id": "rsSzJQ70DLhq"
      },
      "source": [
        "# sklearn_Clustering - 군집분석\r\n",
        "\r\n"
      ]
    },
    {
      "cell_type": "markdown",
      "metadata": {
        "id": "jj6WfFcRC4ac"
      },
      "source": [
        "# 실습용 데이터 설정"
      ]
    },
    {
      "cell_type": "code",
      "metadata": {
        "id": "wAKwezuxDSRB"
      },
      "source": [
        "import matplotlib.pyplot as plt\r\n",
        "import numpy as np\r\n",
        "import pandas as pd"
      ],
      "execution_count": 2,
      "outputs": []
    },
    {
      "cell_type": "code",
      "metadata": {
        "id": "XBYLgH6LDX5L"
      },
      "source": [
        "from sklearn.datasets import load_iris\r\n",
        "\r\n",
        "iris = load_iris()"
      ],
      "execution_count": 3,
      "outputs": []
    },
    {
      "cell_type": "code",
      "metadata": {
        "colab": {
          "base_uri": "https://localhost:8080/",
          "height": 138
        },
        "id": "bifSH9YWDc5L",
        "outputId": "9545b0c6-a33a-4bf3-fea6-97aa0e3b04a8"
      },
      "source": [
        "DF=pd.DataFrame(data = iris.data,\r\n",
        "                columns = ['sepal_length','sepal_width','petal_length','petal_width'])\r\n",
        "DF.head(3)"
      ],
      "execution_count": 4,
      "outputs": [
        {
          "output_type": "execute_result",
          "data": {
            "text/html": [
              "<div>\n",
              "<style scoped>\n",
              "    .dataframe tbody tr th:only-of-type {\n",
              "        vertical-align: middle;\n",
              "    }\n",
              "\n",
              "    .dataframe tbody tr th {\n",
              "        vertical-align: top;\n",
              "    }\n",
              "\n",
              "    .dataframe thead th {\n",
              "        text-align: right;\n",
              "    }\n",
              "</style>\n",
              "<table border=\"1\" class=\"dataframe\">\n",
              "  <thead>\n",
              "    <tr style=\"text-align: right;\">\n",
              "      <th></th>\n",
              "      <th>sepal_length</th>\n",
              "      <th>sepal_width</th>\n",
              "      <th>petal_length</th>\n",
              "      <th>petal_width</th>\n",
              "    </tr>\n",
              "  </thead>\n",
              "  <tbody>\n",
              "    <tr>\n",
              "      <th>0</th>\n",
              "      <td>5.1</td>\n",
              "      <td>3.5</td>\n",
              "      <td>1.4</td>\n",
              "      <td>0.2</td>\n",
              "    </tr>\n",
              "    <tr>\n",
              "      <th>1</th>\n",
              "      <td>4.9</td>\n",
              "      <td>3.0</td>\n",
              "      <td>1.4</td>\n",
              "      <td>0.2</td>\n",
              "    </tr>\n",
              "    <tr>\n",
              "      <th>2</th>\n",
              "      <td>4.7</td>\n",
              "      <td>3.2</td>\n",
              "      <td>1.3</td>\n",
              "      <td>0.2</td>\n",
              "    </tr>\n",
              "  </tbody>\n",
              "</table>\n",
              "</div>"
            ],
            "text/plain": [
              "   sepal_length  sepal_width  petal_length  petal_width\n",
              "0           5.1          3.5           1.4          0.2\n",
              "1           4.9          3.0           1.4          0.2\n",
              "2           4.7          3.2           1.3          0.2"
            ]
          },
          "metadata": {
            "tags": []
          },
          "execution_count": 4
        }
      ]
    },
    {
      "cell_type": "code",
      "metadata": {
        "colab": {
          "base_uri": "https://localhost:8080/"
        },
        "id": "j1oFSIgmD1KS",
        "outputId": "fcd8d0d1-b88a-4310-e32a-62b5eed34565"
      },
      "source": [
        "DF.info()"
      ],
      "execution_count": 5,
      "outputs": [
        {
          "output_type": "stream",
          "text": [
            "<class 'pandas.core.frame.DataFrame'>\n",
            "RangeIndex: 150 entries, 0 to 149\n",
            "Data columns (total 4 columns):\n",
            " #   Column        Non-Null Count  Dtype  \n",
            "---  ------        --------------  -----  \n",
            " 0   sepal_length  150 non-null    float64\n",
            " 1   sepal_width   150 non-null    float64\n",
            " 2   petal_length  150 non-null    float64\n",
            " 3   petal_width   150 non-null    float64\n",
            "dtypes: float64(4)\n",
            "memory usage: 4.8 KB\n"
          ],
          "name": "stdout"
        }
      ]
    },
    {
      "cell_type": "markdown",
      "metadata": {
        "id": "pQdy9kgeDg-q"
      },
      "source": [
        "# 1, K-means"
      ]
    },
    {
      "cell_type": "markdown",
      "metadata": {
        "id": "romxYBTVDjCS"
      },
      "source": [
        "## 1) Modeling"
      ]
    },
    {
      "cell_type": "code",
      "metadata": {
        "colab": {
          "base_uri": "https://localhost:8080/"
        },
        "id": "l5adJobyDfnq",
        "outputId": "b28ea500-6d83-4e25-e1e3-7e9642e913a9"
      },
      "source": [
        "from sklearn.cluster import KMeans\r\n",
        "\r\n",
        "kmeans_3 = KMeans(n_clusters = 3, init = 'k-means++', max_iter = 15, random_state= 2045)\r\n",
        "kmeans_3.fit(iris.data) "
      ],
      "execution_count": 6,
      "outputs": [
        {
          "output_type": "execute_result",
          "data": {
            "text/plain": [
              "KMeans(algorithm='auto', copy_x=True, init='k-means++', max_iter=15,\n",
              "       n_clusters=3, n_init=10, n_jobs=None, precompute_distances='auto',\n",
              "       random_state=2045, tol=0.0001, verbose=0)"
            ]
          },
          "metadata": {
            "tags": []
          },
          "execution_count": 6
        }
      ]
    },
    {
      "cell_type": "markdown",
      "metadata": {
        "id": "l6j-ggpND6aZ"
      },
      "source": [
        "## 2) 군집결과"
      ]
    },
    {
      "cell_type": "code",
      "metadata": {
        "colab": {
          "base_uri": "https://localhost:8080/"
        },
        "id": "R-mZKhT9D7yq",
        "outputId": "fd330aa4-d888-4b2f-8329-eada61005853"
      },
      "source": [
        "DF['kmeans'] = kmeans_3.labels_\r\n",
        "DF['target'] = iris.target\r\n",
        "\r\n",
        "DF.groupby('target')['kmeans'].value_counts()"
      ],
      "execution_count": 7,
      "outputs": [
        {
          "output_type": "execute_result",
          "data": {
            "text/plain": [
              "target  kmeans\n",
              "0       1         50\n",
              "1       0         48\n",
              "        2          2\n",
              "2       2         36\n",
              "        0         14\n",
              "Name: kmeans, dtype: int64"
            ]
          },
          "metadata": {
            "tags": []
          },
          "execution_count": 7
        }
      ]
    },
    {
      "cell_type": "code",
      "metadata": {
        "colab": {
          "base_uri": "https://localhost:8080/",
          "height": 198
        },
        "id": "AeBRLjmSEMrh",
        "outputId": "cc818cf1-cf64-4461-af50-ca4eef8274b8"
      },
      "source": [
        "DF.head()"
      ],
      "execution_count": 8,
      "outputs": [
        {
          "output_type": "execute_result",
          "data": {
            "text/html": [
              "<div>\n",
              "<style scoped>\n",
              "    .dataframe tbody tr th:only-of-type {\n",
              "        vertical-align: middle;\n",
              "    }\n",
              "\n",
              "    .dataframe tbody tr th {\n",
              "        vertical-align: top;\n",
              "    }\n",
              "\n",
              "    .dataframe thead th {\n",
              "        text-align: right;\n",
              "    }\n",
              "</style>\n",
              "<table border=\"1\" class=\"dataframe\">\n",
              "  <thead>\n",
              "    <tr style=\"text-align: right;\">\n",
              "      <th></th>\n",
              "      <th>sepal_length</th>\n",
              "      <th>sepal_width</th>\n",
              "      <th>petal_length</th>\n",
              "      <th>petal_width</th>\n",
              "      <th>kmeans</th>\n",
              "      <th>target</th>\n",
              "    </tr>\n",
              "  </thead>\n",
              "  <tbody>\n",
              "    <tr>\n",
              "      <th>0</th>\n",
              "      <td>5.1</td>\n",
              "      <td>3.5</td>\n",
              "      <td>1.4</td>\n",
              "      <td>0.2</td>\n",
              "      <td>1</td>\n",
              "      <td>0</td>\n",
              "    </tr>\n",
              "    <tr>\n",
              "      <th>1</th>\n",
              "      <td>4.9</td>\n",
              "      <td>3.0</td>\n",
              "      <td>1.4</td>\n",
              "      <td>0.2</td>\n",
              "      <td>1</td>\n",
              "      <td>0</td>\n",
              "    </tr>\n",
              "    <tr>\n",
              "      <th>2</th>\n",
              "      <td>4.7</td>\n",
              "      <td>3.2</td>\n",
              "      <td>1.3</td>\n",
              "      <td>0.2</td>\n",
              "      <td>1</td>\n",
              "      <td>0</td>\n",
              "    </tr>\n",
              "    <tr>\n",
              "      <th>3</th>\n",
              "      <td>4.6</td>\n",
              "      <td>3.1</td>\n",
              "      <td>1.5</td>\n",
              "      <td>0.2</td>\n",
              "      <td>1</td>\n",
              "      <td>0</td>\n",
              "    </tr>\n",
              "    <tr>\n",
              "      <th>4</th>\n",
              "      <td>5.0</td>\n",
              "      <td>3.6</td>\n",
              "      <td>1.4</td>\n",
              "      <td>0.2</td>\n",
              "      <td>1</td>\n",
              "      <td>0</td>\n",
              "    </tr>\n",
              "  </tbody>\n",
              "</table>\n",
              "</div>"
            ],
            "text/plain": [
              "   sepal_length  sepal_width  petal_length  petal_width  kmeans  target\n",
              "0           5.1          3.5           1.4          0.2       1       0\n",
              "1           4.9          3.0           1.4          0.2       1       0\n",
              "2           4.7          3.2           1.3          0.2       1       0\n",
              "3           4.6          3.1           1.5          0.2       1       0\n",
              "4           5.0          3.6           1.4          0.2       1       0"
            ]
          },
          "metadata": {
            "tags": []
          },
          "execution_count": 8
        }
      ]
    },
    {
      "cell_type": "markdown",
      "metadata": {
        "id": "Yk-z2zipEroy"
      },
      "source": [
        "# 2, Mean Shift(평균 이동) - 밀도\r\n",
        "* 데이터의 분포를 이용하여 군집의 중심을 탐색\r\n",
        "  * 데이터 밀도가 가장 높은 곳으로 중심을 지속적으로 이동\r\n",
        "* 군집의 중심점은 데이터포인트가 모여있는 곳이라는 가정\r\n",
        "  * 확률 밀도 함수(Probability Density Function)\r\n",
        "  * KDF(Kernel Density Estimation)"
      ]
    },
    {
      "cell_type": "markdown",
      "metadata": {
        "id": "2SqVl9cyFFPZ"
      },
      "source": [
        "## 1) Modeling\r\n",
        "* Hyperparameter\r\n",
        "  * bandwidth : 대역폭이 클수록 적은 수의 군집 중심을 가짐\r\n",
        "  "
      ]
    },
    {
      "cell_type": "code",
      "metadata": {
        "colab": {
          "base_uri": "https://localhost:8080/"
        },
        "id": "b-Mm6Y2jEO3R",
        "outputId": "218f7a7c-88b1-4b22-8ee9-8677eaf2d1a1"
      },
      "source": [
        "from sklearn.cluster import MeanShift\r\n",
        "\r\n",
        "meanshift = MeanShift(bandwidth = 0.86) # bandwidth = 0.86은 되야 군집에 3개로 나와.. 0.2하면 군집이 엄청나게 많아짐, 1.2는 2개로 나눠짐\r\n",
        "meanshift.fit(iris.data)  "
      ],
      "execution_count": 9,
      "outputs": [
        {
          "output_type": "execute_result",
          "data": {
            "text/plain": [
              "MeanShift(bandwidth=0.86, bin_seeding=False, cluster_all=True, max_iter=300,\n",
              "          min_bin_freq=1, n_jobs=None, seeds=None)"
            ]
          },
          "metadata": {
            "tags": []
          },
          "execution_count": 9
        }
      ]
    },
    {
      "cell_type": "code",
      "metadata": {
        "colab": {
          "base_uri": "https://localhost:8080/"
        },
        "id": "5puhdRb_FWIX",
        "outputId": "26e2382e-a4c7-470e-8b4c-5f063f7fb1f4"
      },
      "source": [
        "from sklearn.cluster import estimate_bandwidth\r\n",
        "\r\n",
        "# bandwidth에 아무런 정보없이 아무런 수나 넣을 수 없으니까 제시해주는 값\r\n",
        "estimate_bandwidth(iris.data)\r\n",
        "# 1.2로 하면 2개로 묶여짐. 그게 최선의 방법이라고 제시"
      ],
      "execution_count": 10,
      "outputs": [
        {
          "output_type": "execute_result",
          "data": {
            "text/plain": [
              "1.2020768127998687"
            ]
          },
          "metadata": {
            "tags": []
          },
          "execution_count": 10
        }
      ]
    },
    {
      "cell_type": "markdown",
      "metadata": {
        "id": "NSj1szgvFnUQ"
      },
      "source": [
        "## 2) 군집결과"
      ]
    },
    {
      "cell_type": "code",
      "metadata": {
        "colab": {
          "base_uri": "https://localhost:8080/"
        },
        "id": "LDwZKgtxFhWC",
        "outputId": "bca0bfe8-7ac4-485f-bdb9-870fcb925fac"
      },
      "source": [
        "DF['meanshift'] = meanshift.fit_predict(iris.data)\r\n",
        "DF.groupby('target')['meanshift'].value_counts()\r\n",
        "# 1,2에 차이가 미세하니까 1을 0으로 하거나 1을 2로 하거나 해서 2개의 군집으로 묶으라고 제시"
      ],
      "execution_count": 11,
      "outputs": [
        {
          "output_type": "execute_result",
          "data": {
            "text/plain": [
              "target  meanshift\n",
              "0       1            50\n",
              "1       0            48\n",
              "        1             1\n",
              "        2             1\n",
              "2       2            36\n",
              "        0            14\n",
              "Name: meanshift, dtype: int64"
            ]
          },
          "metadata": {
            "tags": []
          },
          "execution_count": 11
        }
      ]
    },
    {
      "cell_type": "markdown",
      "metadata": {
        "id": "70ENXu8oGO0p"
      },
      "source": [
        "# 3, GMM(Gaussian Mixture Model)\r\n",
        "* 데이터가 여러 개의 가우시안 분포(Gaussian Distribution)를 가진 데이터들의 집합이라고 가정\r\n",
        "  * 개별 정규분포의 모수(평균, 분산) 추정\r\n",
        "  * 각 데이터포인트가 어떤 정규분포에 해당하는지 확률 추정\r\n",
        "    * EM(Expectation and Maximization)"
      ]
    },
    {
      "cell_type": "markdown",
      "metadata": {
        "id": "MlcLRWvmFxzB"
      },
      "source": [
        "## 1) Modeling"
      ]
    },
    {
      "cell_type": "code",
      "metadata": {
        "colab": {
          "base_uri": "https://localhost:8080/"
        },
        "id": "OsbJuJNbG_Cd",
        "outputId": "39ae68ec-38b0-44eb-a717-cd7dbdb0a348"
      },
      "source": [
        "from sklearn.mixture import GaussianMixture\r\n",
        "\r\n",
        "gmm = GaussianMixture(n_components = 3,  # 몇개의 정규분포로 되어 있을 거라는/ 가우시안 분포가 3개의 component(정규식)의 합\r\n",
        "                      random_state= 2045)\r\n",
        "gmm.fit(iris.data)"
      ],
      "execution_count": 12,
      "outputs": [
        {
          "output_type": "execute_result",
          "data": {
            "text/plain": [
              "GaussianMixture(covariance_type='full', init_params='kmeans', max_iter=100,\n",
              "                means_init=None, n_components=3, n_init=1, precisions_init=None,\n",
              "                random_state=2045, reg_covar=1e-06, tol=0.001, verbose=0,\n",
              "                verbose_interval=10, warm_start=False, weights_init=None)"
            ]
          },
          "metadata": {
            "tags": []
          },
          "execution_count": 12
        }
      ]
    },
    {
      "cell_type": "code",
      "metadata": {
        "colab": {
          "base_uri": "https://localhost:8080/"
        },
        "id": "khtpfjMvHLES",
        "outputId": "dc5a5f57-072b-47a9-f449-6f65ac0cf2c6"
      },
      "source": [
        "gmm.predict(iris.data)"
      ],
      "execution_count": 13,
      "outputs": [
        {
          "output_type": "execute_result",
          "data": {
            "text/plain": [
              "array([1, 1, 1, 1, 1, 1, 1, 1, 1, 1, 1, 1, 1, 1, 1, 1, 1, 1, 1, 1, 1, 1,\n",
              "       1, 1, 1, 1, 1, 1, 1, 1, 1, 1, 1, 1, 1, 1, 1, 1, 1, 1, 1, 1, 1, 1,\n",
              "       1, 1, 1, 1, 1, 1, 0, 0, 0, 0, 0, 0, 0, 0, 0, 0, 0, 0, 0, 0, 0, 0,\n",
              "       0, 0, 2, 0, 2, 0, 2, 0, 0, 0, 0, 2, 0, 0, 0, 0, 0, 2, 0, 0, 0, 0,\n",
              "       0, 0, 0, 0, 0, 0, 0, 0, 0, 0, 0, 0, 2, 2, 2, 2, 2, 2, 2, 2, 2, 2,\n",
              "       2, 2, 2, 2, 2, 2, 2, 2, 2, 2, 2, 2, 2, 2, 2, 2, 2, 2, 2, 2, 2, 2,\n",
              "       2, 2, 2, 2, 2, 2, 2, 2, 2, 2, 2, 2, 2, 2, 2, 2, 2, 2])"
            ]
          },
          "metadata": {
            "tags": []
          },
          "execution_count": 13
        }
      ]
    },
    {
      "cell_type": "markdown",
      "metadata": {
        "id": "svwBZ3sGHQnC"
      },
      "source": [
        "## 2) 군집 결과"
      ]
    },
    {
      "cell_type": "code",
      "metadata": {
        "colab": {
          "base_uri": "https://localhost:8080/"
        },
        "id": "Dr-3h9VjHPIY",
        "outputId": "63664b43-1274-41ac-8a01-4bd900849d13"
      },
      "source": [
        "DF['gmm'] = gmm.predict(iris.data)\r\n",
        "DF.groupby('target')['gmm'].value_counts()"
      ],
      "execution_count": 14,
      "outputs": [
        {
          "output_type": "execute_result",
          "data": {
            "text/plain": [
              "target  gmm\n",
              "0       1      50\n",
              "1       0      45\n",
              "        2       5\n",
              "2       2      50\n",
              "Name: gmm, dtype: int64"
            ]
          },
          "metadata": {
            "tags": []
          },
          "execution_count": 14
        }
      ]
    },
    {
      "cell_type": "code",
      "metadata": {
        "colab": {
          "base_uri": "https://localhost:8080/"
        },
        "id": "sUHIpTP-HYyQ",
        "outputId": "0a87cff7-f8ac-4dfa-ba96-6ba4d6471537"
      },
      "source": [
        "DF.gmm.value_counts()"
      ],
      "execution_count": 15,
      "outputs": [
        {
          "output_type": "execute_result",
          "data": {
            "text/plain": [
              "2    55\n",
              "1    50\n",
              "0    45\n",
              "Name: gmm, dtype: int64"
            ]
          },
          "metadata": {
            "tags": []
          },
          "execution_count": 15
        }
      ]
    },
    {
      "cell_type": "markdown",
      "metadata": {
        "id": "RAhrUokoH37H"
      },
      "source": [
        "# 4, DBSCAN(Density Based Spatial Clustering of Applications with Noise)\r\n",
        "* 밀도(Density) 기반 군집\r\n",
        "  * 기하학적으로 복잡한 데이터에도 효과적으로 군집 가능\r\n",
        "  * 핵심 포인트(Core Point)들을 서로 연결하면서 군집화\r\n",
        "* 밀도의 기준을 어떻게 볼 것인가? - 문제"
      ]
    },
    {
      "cell_type": "markdown",
      "metadata": {
        "id": "g_q1_jN2IFnn"
      },
      "source": [
        "## 1) Modeling\r\n",
        "* Hyperparameter\r\n",
        "  * epsilon(esp, 입실론 주변 영역) # 입실론 = 그리스자\r\n",
        "    * 개별 데이터포인트를 중심으로 '입실론 반경'을 가지는 주변 영역\r\n",
        "    * 'Core Point' 기준\r\n",
        "  * min point(min_samples, 최소 데이터 개수)\r\n",
        "    * 개별 데이터포인트의 '입실론 주변 영역'에 포함되는 다른 데이터포인트의 개수\r\n",
        "    * 조건 만족 시 'Core Point'로 지정"
      ]
    },
    {
      "cell_type": "code",
      "metadata": {
        "colab": {
          "base_uri": "https://localhost:8080/"
        },
        "id": "hB5AS0u7Hlto",
        "outputId": "75f28616-910b-4e49-d796-0e7f2afaf721"
      },
      "source": [
        "from sklearn.cluster import DBSCAN\r\n",
        "\r\n",
        "dbscan = DBSCAN(eps=0.8, # 0.8 반지름으로/ 3으로 했을 때는 하나로 묶어버림. 반지름이 너무 커서\r\n",
        "                min_samples =8, # 중심이 되는 데이터포인트(core point)를 제외하고 최소 8개가 들어있는\r\n",
        "                metric= 'euclidean') # euclidean = 직선거리로 측정\r\n",
        "\r\n",
        "dbscan.fit_predict(iris.data)\r\n",
        "# -1은 비정상(?)적 값. "
      ],
      "execution_count": 16,
      "outputs": [
        {
          "output_type": "execute_result",
          "data": {
            "text/plain": [
              "array([ 0,  0,  0,  0,  0,  0,  0,  0,  0,  0,  0,  0,  0,  0,  0,  0,  0,\n",
              "        0,  0,  0,  0,  0,  0,  0,  0,  0,  0,  0,  0,  0,  0,  0,  0,  0,\n",
              "        0,  0,  0,  0,  0,  0,  0,  0,  0,  0,  0,  0,  0,  0,  0,  0,  1,\n",
              "        1,  1,  1,  1,  1,  1,  1,  1,  1,  1,  1,  1,  1,  1,  1,  1,  1,\n",
              "        1,  1,  1,  1,  1,  1,  1,  1,  1,  1,  1,  1,  1,  1,  1,  1,  1,\n",
              "        1,  1,  1,  1,  1,  1,  1,  1,  1,  1,  1,  1,  1,  1,  1,  1,  1,\n",
              "        1,  1,  1,  1,  1,  1,  1,  1,  1,  1,  1,  1,  1,  1,  1, -1, -1,\n",
              "        1,  1,  1,  1,  1,  1,  1,  1,  1,  1,  1,  1, -1,  1,  1,  1,  1,\n",
              "        1,  1,  1,  1,  1,  1,  1,  1,  1,  1,  1,  1,  1,  1])"
            ]
          },
          "metadata": {
            "tags": []
          },
          "execution_count": 16
        }
      ]
    },
    {
      "cell_type": "markdown",
      "metadata": {
        "id": "dRfBgIQfIuv4"
      },
      "source": [
        "## 2) 군집 결과"
      ]
    },
    {
      "cell_type": "code",
      "metadata": {
        "colab": {
          "base_uri": "https://localhost:8080/"
        },
        "id": "qxPW7pbjItra",
        "outputId": "90584c6f-e5e4-4e67-f8b0-12e4fe448860"
      },
      "source": [
        "DF['dbscan'] = dbscan.fit_predict(iris.data)\r\n",
        "DF.groupby('target')['dbscan'].value_counts()"
      ],
      "execution_count": 17,
      "outputs": [
        {
          "output_type": "execute_result",
          "data": {
            "text/plain": [
              "target  dbscan\n",
              "0        0        50\n",
              "1        1        50\n",
              "2        1        47\n",
              "        -1         3\n",
              "Name: dbscan, dtype: int64"
            ]
          },
          "metadata": {
            "tags": []
          },
          "execution_count": 17
        }
      ]
    },
    {
      "cell_type": "code",
      "metadata": {
        "id": "UZhjIC_4I3wm"
      },
      "source": [
        ""
      ],
      "execution_count": 17,
      "outputs": []
    }
  ]
}