{
  "nbformat": 4,
  "nbformat_minor": 0,
  "metadata": {
    "colab": {
      "name": "Untitled0.ipynb",
      "provenance": []
    },
    "kernelspec": {
      "name": "python3",
      "display_name": "Python 3"
    }
  },
  "cells": [
    {
      "cell_type": "code",
      "metadata": {
        "colab": {
          "base_uri": "https://localhost:8080/"
        },
        "id": "L8Ycy4e1xiP9",
        "outputId": "fbb381e1-06b2-474e-82d1-b91a80f46d6d"
      },
      "source": [
        "import seaborn as sns\r\n",
        "DF = sns.load_dataset('iris')\r\n",
        "DF.info()"
      ],
      "execution_count": 1,
      "outputs": [
        {
          "output_type": "stream",
          "text": [
            "<class 'pandas.core.frame.DataFrame'>\n",
            "RangeIndex: 150 entries, 0 to 149\n",
            "Data columns (total 5 columns):\n",
            " #   Column        Non-Null Count  Dtype  \n",
            "---  ------        --------------  -----  \n",
            " 0   sepal_length  150 non-null    float64\n",
            " 1   sepal_width   150 non-null    float64\n",
            " 2   petal_length  150 non-null    float64\n",
            " 3   petal_width   150 non-null    float64\n",
            " 4   species       150 non-null    object \n",
            "dtypes: float64(4), object(1)\n",
            "memory usage: 6.0+ KB\n"
          ],
          "name": "stdout"
        }
      ]
    },
    {
      "cell_type": "code",
      "metadata": {
        "colab": {
          "base_uri": "https://localhost:8080/",
          "height": 198
        },
        "id": "pyKd8HHExuI6",
        "outputId": "c8ccbebf-823a-4e29-ca87-99d237e5cb1c"
      },
      "source": [
        "DF.head()"
      ],
      "execution_count": 2,
      "outputs": [
        {
          "output_type": "execute_result",
          "data": {
            "text/html": [
              "<div>\n",
              "<style scoped>\n",
              "    .dataframe tbody tr th:only-of-type {\n",
              "        vertical-align: middle;\n",
              "    }\n",
              "\n",
              "    .dataframe tbody tr th {\n",
              "        vertical-align: top;\n",
              "    }\n",
              "\n",
              "    .dataframe thead th {\n",
              "        text-align: right;\n",
              "    }\n",
              "</style>\n",
              "<table border=\"1\" class=\"dataframe\">\n",
              "  <thead>\n",
              "    <tr style=\"text-align: right;\">\n",
              "      <th></th>\n",
              "      <th>sepal_length</th>\n",
              "      <th>sepal_width</th>\n",
              "      <th>petal_length</th>\n",
              "      <th>petal_width</th>\n",
              "      <th>species</th>\n",
              "    </tr>\n",
              "  </thead>\n",
              "  <tbody>\n",
              "    <tr>\n",
              "      <th>0</th>\n",
              "      <td>5.1</td>\n",
              "      <td>3.5</td>\n",
              "      <td>1.4</td>\n",
              "      <td>0.2</td>\n",
              "      <td>setosa</td>\n",
              "    </tr>\n",
              "    <tr>\n",
              "      <th>1</th>\n",
              "      <td>4.9</td>\n",
              "      <td>3.0</td>\n",
              "      <td>1.4</td>\n",
              "      <td>0.2</td>\n",
              "      <td>setosa</td>\n",
              "    </tr>\n",
              "    <tr>\n",
              "      <th>2</th>\n",
              "      <td>4.7</td>\n",
              "      <td>3.2</td>\n",
              "      <td>1.3</td>\n",
              "      <td>0.2</td>\n",
              "      <td>setosa</td>\n",
              "    </tr>\n",
              "    <tr>\n",
              "      <th>3</th>\n",
              "      <td>4.6</td>\n",
              "      <td>3.1</td>\n",
              "      <td>1.5</td>\n",
              "      <td>0.2</td>\n",
              "      <td>setosa</td>\n",
              "    </tr>\n",
              "    <tr>\n",
              "      <th>4</th>\n",
              "      <td>5.0</td>\n",
              "      <td>3.6</td>\n",
              "      <td>1.4</td>\n",
              "      <td>0.2</td>\n",
              "      <td>setosa</td>\n",
              "    </tr>\n",
              "  </tbody>\n",
              "</table>\n",
              "</div>"
            ],
            "text/plain": [
              "   sepal_length  sepal_width  petal_length  petal_width species\n",
              "0           5.1          3.5           1.4          0.2  setosa\n",
              "1           4.9          3.0           1.4          0.2  setosa\n",
              "2           4.7          3.2           1.3          0.2  setosa\n",
              "3           4.6          3.1           1.5          0.2  setosa\n",
              "4           5.0          3.6           1.4          0.2  setosa"
            ]
          },
          "metadata": {
            "tags": []
          },
          "execution_count": 2
        }
      ]
    },
    {
      "cell_type": "code",
      "metadata": {
        "id": "g0C4hIJkx2F3"
      },
      "source": [
        "X = DF[['sepal_length','sepal_width','petal_length','petal_width']]\r\n",
        "y=DF['species']"
      ],
      "execution_count": 3,
      "outputs": []
    },
    {
      "cell_type": "code",
      "metadata": {
        "colab": {
          "base_uri": "https://localhost:8080/"
        },
        "id": "3RJanvrIyCyP",
        "outputId": "40dea5a5-738f-40e9-e9e4-8aa2b7fd248f"
      },
      "source": [
        "from sklearn.model_selection import train_test_split\r\n",
        "\r\n",
        "X_train, X_test, y_train, y_test = train_test_split(X, y, test_size=0.3, stratify = y, random_state=2045)\r\n",
        "\r\n",
        "print('Train Data :', X_train.shape, y_train.shape)\r\n",
        "print('Test Data :', X_test.shape, y_test.shape)"
      ],
      "execution_count": 7,
      "outputs": [
        {
          "output_type": "stream",
          "text": [
            "Train Data : (105, 4) (105,)\n",
            "Test Data : (45, 4) (45,)\n"
          ],
          "name": "stdout"
        }
      ]
    },
    {
      "cell_type": "code",
      "metadata": {
        "colab": {
          "base_uri": "https://localhost:8080/"
        },
        "id": "G_Y7UZ5oyaY2",
        "outputId": "88e19242-6b6d-4e0d-e50d-f08d5506618e"
      },
      "source": [
        "DF['species'].value_counts()"
      ],
      "execution_count": 8,
      "outputs": [
        {
          "output_type": "execute_result",
          "data": {
            "text/plain": [
              "setosa        50\n",
              "virginica     50\n",
              "versicolor    50\n",
              "Name: species, dtype: int64"
            ]
          },
          "metadata": {
            "tags": []
          },
          "execution_count": 8
        }
      ]
    },
    {
      "cell_type": "code",
      "metadata": {
        "colab": {
          "base_uri": "https://localhost:8080/"
        },
        "id": "X9pybfxtyd5e",
        "outputId": "50c86eff-ceac-4f2f-bce3-f967cd484931"
      },
      "source": [
        "print(y_train.value_counts(), '\\n\\n', y_test.value_counts())"
      ],
      "execution_count": 9,
      "outputs": [
        {
          "output_type": "stream",
          "text": [
            "setosa        35\n",
            "virginica     35\n",
            "versicolor    35\n",
            "Name: species, dtype: int64 \n",
            "\n",
            " setosa        15\n",
            "versicolor    15\n",
            "virginica     15\n",
            "Name: species, dtype: int64\n"
          ],
          "name": "stdout"
        }
      ]
    },
    {
      "cell_type": "code",
      "metadata": {
        "colab": {
          "base_uri": "https://localhost:8080/"
        },
        "id": "E8JAwmMiysXA",
        "outputId": "d0f5bc5b-a7ce-4a74-ed9a-049de481487f"
      },
      "source": [
        "from sklearn.linear_model import LogisticRegression\r\n",
        "\r\n",
        "LR = LogisticRegression(C=0.3, penalty='l2', multi_class='multinomial', n_jobs=-1)\r\n",
        "LR.fit(X_train, y_train)\r\n",
        "\r\n",
        "from sklearn.metrics import accuracy_score, confusion_matrix\r\n",
        "\r\n",
        "LR_mse = accuracy_score(y_test, LR.predict(X_test))\r\n",
        "print(LR_mse)\r\n",
        "print(confusion_matrix(y_test, LR.predict(X_test)))"
      ],
      "execution_count": 19,
      "outputs": [
        {
          "output_type": "stream",
          "text": [
            "0.9333333333333333\n",
            "[[15  0  0]\n",
            " [ 0 14  1]\n",
            " [ 0  2 13]]\n"
          ],
          "name": "stdout"
        }
      ]
    },
    {
      "cell_type": "code",
      "metadata": {
        "colab": {
          "base_uri": "https://localhost:8080/"
        },
        "id": "A7kP2Elx2-RE",
        "outputId": "70cc72b5-6335-4bed-e5e0-6009c02357af"
      },
      "source": [
        "from sklearn.tree import DecisionTreeClassifier\r\n",
        "\r\n",
        "DT = DecisionTreeClassifier(criterion='entropy', max_depth=3, random_state=2045)\r\n",
        "DT.fit(X_train, y_train)\r\n",
        "\r\n",
        "DT_mse = accuracy_score(y_test, DT.predict(X_test) )\r\n",
        "print(DT_mse)\r\n",
        "print(confusion_matrix(y_test, DT.predict(X_test)))"
      ],
      "execution_count": 18,
      "outputs": [
        {
          "output_type": "stream",
          "text": [
            "0.8888888888888888\n",
            "[[15  0  0]\n",
            " [ 0 13  2]\n",
            " [ 0  3 12]]\n"
          ],
          "name": "stdout"
        }
      ]
    },
    {
      "cell_type": "code",
      "metadata": {
        "colab": {
          "base_uri": "https://localhost:8080/",
          "height": 337
        },
        "id": "74JEEoRF9ImD",
        "outputId": "4cacd919-7bee-4700-eaa0-56685c14c8d4"
      },
      "source": [
        "sns.barplot(DT.feature_importances_, X.columns)"
      ],
      "execution_count": 20,
      "outputs": [
        {
          "output_type": "stream",
          "text": [
            "/usr/local/lib/python3.7/dist-packages/seaborn/_decorators.py:43: FutureWarning: Pass the following variables as keyword args: x, y. From version 0.12, the only valid positional argument will be `data`, and passing other arguments without an explicit keyword will result in an error or misinterpretation.\n",
            "  FutureWarning\n"
          ],
          "name": "stderr"
        },
        {
          "output_type": "execute_result",
          "data": {
            "text/plain": [
              "<matplotlib.axes._subplots.AxesSubplot at 0x7fb4949682d0>"
            ]
          },
          "metadata": {
            "tags": []
          },
          "execution_count": 20
        },
        {
          "output_type": "display_data",
          "data": {
            "image/png": "[encoded data removed]",
            "text/plain": [
              "<Figure size 432x288 with 1 Axes>"
            ]
          },
          "metadata": {
            "tags": [],
            "needs_background": "light"
          }
        }
      ]
    },
    {
      "cell_type": "code",
      "metadata": {
        "colab": {
          "base_uri": "https://localhost:8080/"
        },
        "id": "MytrvsNw9hIp",
        "outputId": "bc3641ae-9cee-4897-9023-0a7f6509d2ee"
      },
      "source": [
        "from sklearn.ensemble import RandomForestClassifier\r\n",
        "\r\n",
        "RF = RandomForestClassifier(criterion='entropy', n_estimators=100, max_features=3, max_depth=2, random_state=2045, n_jobs=-1)\r\n",
        "RF.fit(X_train, y_train)\r\n",
        "\r\n",
        "RF_mse = accuracy_score(y_test, RF.predict(X_test))\r\n",
        "print(RF_mse)\r\n",
        "print(confusion_matrix(y_test, RF.predict(X_test)))"
      ],
      "execution_count": 21,
      "outputs": [
        {
          "output_type": "stream",
          "text": [
            "0.9333333333333333\n",
            "[[15  0  0]\n",
            " [ 0 15  0]\n",
            " [ 0  3 12]]\n"
          ],
          "name": "stdout"
        }
      ]
    },
    {
      "cell_type": "code",
      "metadata": {
        "colab": {
          "base_uri": "https://localhost:8080/",
          "height": 320
        },
        "id": "RJoCjtys-nIK",
        "outputId": "cf893dff-129d-483d-aec8-8e2986511f27"
      },
      "source": [
        "import matplotlib.pyplot as plt\r\n",
        "\r\n",
        "sns.barplot(RF.feature_importances_, X.columns)\r\n",
        "plt.show()"
      ],
      "execution_count": 25,
      "outputs": [
        {
          "output_type": "stream",
          "text": [
            "/usr/local/lib/python3.7/dist-packages/seaborn/_decorators.py:43: FutureWarning: Pass the following variables as keyword args: x, y. From version 0.12, the only valid positional argument will be `data`, and passing other arguments without an explicit keyword will result in an error or misinterpretation.\n",
            "  FutureWarning\n"
          ],
          "name": "stderr"
        },
        {
          "output_type": "display_data",
          "data": {
            "image/png": "[encoded data removed]",
            "text/plain": [
              "<Figure size 432x288 with 1 Axes>"
            ]
          },
          "metadata": {
            "tags": [],
            "needs_background": "light"
          }
        }
      ]
    },
    {
      "cell_type": "code",
      "metadata": {
        "colab": {
          "base_uri": "https://localhost:8080/"
        },
        "id": "pSTYsqFw-9SI",
        "outputId": "996dc5f2-84d4-40e0-c4f1-be5683487d25"
      },
      "source": [
        "from sklearn.ensemble import GradientBoostingClassifier\r\n",
        "\r\n",
        "GBC = GradientBoostingClassifier(loss='deviance', n_estimators=500, learning_rate=0.1, max_features=3, max_depth=3)\r\n",
        "GBC.fit(X_train, y_train)\r\n",
        "\r\n",
        "GBC_mse = accuracy_score(y_test, GBC.predict(X_test))\r\n",
        "print(GBC_mse)\r\n",
        "print(confusion_matrix(y_test, GBC.predict(X_test)))"
      ],
      "execution_count": 24,
      "outputs": [
        {
          "output_type": "stream",
          "text": [
            "0.9333333333333333\n",
            "[[15  0  0]\n",
            " [ 0 15  0]\n",
            " [ 0  3 12]]\n"
          ],
          "name": "stdout"
        }
      ]
    },
    {
      "cell_type": "code",
      "metadata": {
        "colab": {
          "base_uri": "https://localhost:8080/",
          "height": 337
        },
        "id": "H0GNF8G2AFNS",
        "outputId": "32a22899-b550-45a2-8f50-5e0b89197d11"
      },
      "source": [
        "sns.barplot(GBC.feature_importances_, X.columns)"
      ],
      "execution_count": 26,
      "outputs": [
        {
          "output_type": "stream",
          "text": [
            "/usr/local/lib/python3.7/dist-packages/seaborn/_decorators.py:43: FutureWarning: Pass the following variables as keyword args: x, y. From version 0.12, the only valid positional argument will be `data`, and passing other arguments without an explicit keyword will result in an error or misinterpretation.\n",
            "  FutureWarning\n"
          ],
          "name": "stderr"
        },
        {
          "output_type": "execute_result",
          "data": {
            "text/plain": [
              "<matplotlib.axes._subplots.AxesSubplot at 0x7fb493f695d0>"
            ]
          },
          "metadata": {
            "tags": []
          },
          "execution_count": 26
        },
        {
          "output_type": "display_data",
          "data": {
            "image/png": "[encoded data removed]",
            "text/plain": [
              "<Figure size 432x288 with 1 Axes>"
            ]
          },
          "metadata": {
            "tags": [],
            "needs_background": "light"
          }
        }
      ]
    },
    {
      "cell_type": "code",
      "metadata": {
        "colab": {
          "base_uri": "https://localhost:8080/"
        },
        "id": "Z4yoFf67ARV3",
        "outputId": "18ed122c-fac3-4501-e539-9a4b1b4ecc30"
      },
      "source": [
        "from sklearn.ensemble import AdaBoostClassifier\r\n",
        "\r\n",
        "ABC = AdaBoostClassifier(n_estimators=1000, learning_rate=0.001, random_state=2045)\r\n",
        "ABC.fit(X_train, y_train)\r\n",
        "\r\n",
        "ABC_mse = accuracy_score(y_test, ABC.predict(X_test))\r\n",
        "print(ABC_mse)\r\n",
        "print(confusion_matrix(y_test, ABC.predict(X_test)))"
      ],
      "execution_count": 27,
      "outputs": [
        {
          "output_type": "stream",
          "text": [
            "0.8888888888888888\n",
            "[[15  0  0]\n",
            " [ 0 13  2]\n",
            " [ 0  3 12]]\n"
          ],
          "name": "stdout"
        }
      ]
    },
    {
      "cell_type": "code",
      "metadata": {
        "colab": {
          "base_uri": "https://localhost:8080/",
          "height": 337
        },
        "id": "WW4V63DEBytQ",
        "outputId": "151b968f-43ad-4d92-815f-42f962e31777"
      },
      "source": [
        "sns.barplot(ABC.feature_importances_, X.columns)"
      ],
      "execution_count": 28,
      "outputs": [
        {
          "output_type": "stream",
          "text": [
            "/usr/local/lib/python3.7/dist-packages/seaborn/_decorators.py:43: FutureWarning: Pass the following variables as keyword args: x, y. From version 0.12, the only valid positional argument will be `data`, and passing other arguments without an explicit keyword will result in an error or misinterpretation.\n",
            "  FutureWarning\n"
          ],
          "name": "stderr"
        },
        {
          "output_type": "execute_result",
          "data": {
            "text/plain": [
              "<matplotlib.axes._subplots.AxesSubplot at 0x7fb493f8fa90>"
            ]
          },
          "metadata": {
            "tags": []
          },
          "execution_count": 28
        },
        {
          "output_type": "display_data",
          "data": {
            "image/png": "[encoded data removed]",
            "text/plain": [
              "<Figure size 432x288 with 1 Axes>"
            ]
          },
          "metadata": {
            "tags": [],
            "needs_background": "light"
          }
        }
      ]
    },
    {
      "cell_type": "code",
      "metadata": {
        "colab": {
          "base_uri": "https://localhost:8080/"
        },
        "id": "oWQu8xrAB3ce",
        "outputId": "257c3e10-a0f3-4200-a007-48cc8d95bddc"
      },
      "source": [
        "from xgboost import XGBClassifier\r\n",
        "XGB = XGBClassifier(booster='gbtree', n_estimators=500, learning_rate=0.5, reg_lambda=0.05, n_jobs=-1)\r\n",
        "XGB.fit(X_train, y_train)\r\n",
        "\r\n",
        "XGB_mse = accuracy_score(y_test, XGB.predict(X_test))\r\n",
        "print(XGB_mse)\r\n",
        "print(confusion_matrix(y_test, XGB.predict(X_test)))"
      ],
      "execution_count": 29,
      "outputs": [
        {
          "output_type": "stream",
          "text": [
            "0.9111111111111111\n",
            "[[15  0  0]\n",
            " [ 0 15  0]\n",
            " [ 0  4 11]]\n"
          ],
          "name": "stdout"
        }
      ]
    },
    {
      "cell_type": "code",
      "metadata": {
        "colab": {
          "base_uri": "https://localhost:8080/",
          "height": 320
        },
        "id": "wGDuUJHzCe1Q",
        "outputId": "ceed6f59-6488-4c00-e60a-6c0bc4fbd216"
      },
      "source": [
        "sns.barplot(XGB.feature_importances_, X.columns)\r\n",
        "plt.show()"
      ],
      "execution_count": 30,
      "outputs": [
        {
          "output_type": "stream",
          "text": [
            "/usr/local/lib/python3.7/dist-packages/seaborn/_decorators.py:43: FutureWarning: Pass the following variables as keyword args: x, y. From version 0.12, the only valid positional argument will be `data`, and passing other arguments without an explicit keyword will result in an error or misinterpretation.\n",
            "  FutureWarning\n"
          ],
          "name": "stderr"
        },
        {
          "output_type": "display_data",
          "data": {
            "image/png": "[encoded data removed]",
            "text/plain": [
              "<Figure size 432x288 with 1 Axes>"
            ]
          },
          "metadata": {
            "tags": [],
            "needs_background": "light"
          }
        }
      ]
    },
    {
      "cell_type": "code",
      "metadata": {
        "colab": {
          "base_uri": "https://localhost:8080/"
        },
        "id": "6FTrfkKPCkjm",
        "outputId": "6883a6b6-1fa2-4956-c051-062efee128f3"
      },
      "source": [
        "from lightgbm import LGBMClassifier\r\n",
        "\r\n",
        "LGB = LGBMClassifier(n_estimators=500, max_depth=3, learning_rate=0.5, reg_lambda=0.2, n_jobs=-1)\r\n",
        "LGB.fit(X_train, y_train)\r\n",
        "\r\n",
        "LGB_mse = accuracy_score(y_test, LGB.predict(X_test))\r\n",
        "print(LGB_mse)\r\n",
        "print(confusion_matrix(y_test, LGB.predict(X_test)))"
      ],
      "execution_count": 33,
      "outputs": [
        {
          "output_type": "stream",
          "text": [
            "0.9555555555555556\n",
            "[[15  0  0]\n",
            " [ 0 15  0]\n",
            " [ 0  2 13]]\n"
          ],
          "name": "stdout"
        }
      ]
    },
    {
      "cell_type": "code",
      "metadata": {
        "colab": {
          "base_uri": "https://localhost:8080/"
        },
        "id": "9wF1aSWgDO-I",
        "outputId": "338f1def-af15-4039-e04e-011d17af3852"
      },
      "source": [
        "a = [LR_mse, DT_mse,RF_mse,GBC_mse, ABC_mse, XGB_mse, LGB_mse]\r\n",
        "model = ['LR','DT','RF','GBC','ABC','XGB','LGB']\r\n",
        "mse = []\r\n",
        "for i in a :\r\n",
        "  print(i)\r\n",
        "  mse.append(i)"
      ],
      "execution_count": 34,
      "outputs": [
        {
          "output_type": "stream",
          "text": [
            "0.9333333333333333\n",
            "0.8888888888888888\n",
            "0.9333333333333333\n",
            "0.9333333333333333\n",
            "0.8888888888888888\n",
            "0.9111111111111111\n",
            "0.9555555555555556\n"
          ],
          "name": "stdout"
        }
      ]
    },
    {
      "cell_type": "code",
      "metadata": {
        "colab": {
          "base_uri": "https://localhost:8080/",
          "height": 378
        },
        "id": "rdIxLAhkESaH",
        "outputId": "04ce394a-0542-41a3-f925-f933369c0a4b"
      },
      "source": [
        "plt.figure(figsize=(9,6))\r\n",
        "plt.bar(model, mse)\r\n",
        "plt.ylim(0.75, 1.0)\r\n",
        "for i, v in enumerate(model):\r\n",
        "  plt.text(v, mse[i], mse[i],\r\n",
        "           fontsize= 9, color='blue', horizontalalignment='center', verticalalignment='bottom')\r\n",
        "plt.show()"
      ],
      "execution_count": 46,
      "outputs": [
        {
          "output_type": "display_data",
          "data": {
            "image/png": "[encoded data removed]",
            "text/plain": [
              "<Figure size 648x432 with 1 Axes>"
            ]
          },
          "metadata": {
            "tags": [],
            "needs_background": "light"
          }
        }
      ]
    },
    {
      "cell_type": "code",
      "metadata": {
        "id": "9ETp_g-uEaS1"
      },
      "source": [
        ""
      ],
      "execution_count": null,
      "outputs": []
    }
  ]
}