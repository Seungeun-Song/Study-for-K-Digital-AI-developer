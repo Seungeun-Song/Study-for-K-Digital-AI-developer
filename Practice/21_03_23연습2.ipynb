{
  "nbformat": 4,
  "nbformat_minor": 0,
  "metadata": {
    "colab": {
      "name": "Logo_Image_Augmentation.ipynb",
      "provenance": []
    },
    "kernelspec": {
      "name": "python3",
      "display_name": "Python 3"
    },
    "language_info": {
      "name": "python"
    },
    "accelerator": "GPU"
  },
  "cells": [
    {
      "cell_type": "code",
      "metadata": {
        "colab": {
          "base_uri": "https://localhost:8080/"
        },
        "id": "_UNIqJv9vDvR",
        "outputId": "0b7aec64-2652-43f6-9a90-67732d1c23da"
      },
      "source": [
        "from google.colab import drive\n",
        "drive.mount('/content/drive')"
      ],
      "execution_count": 2,
      "outputs": [
        {
          "output_type": "stream",
          "text": [
            "Mounted at /content/drive\n"
          ],
          "name": "stdout"
        }
      ]
    },
    {
      "cell_type": "code",
      "metadata": {
        "colab": {
          "base_uri": "https://localhost:8080/"
        },
        "id": "mbIeijUrvPBW",
        "outputId": "0ffb258f-c5be-4e94-f0f9-fcdade56d72d"
      },
      "source": [
        "!ls -l '/content/drive/My Drive/Colab Notebooks/datasets/Logo_Data.zip'"
      ],
      "execution_count": 3,
      "outputs": [
        {
          "output_type": "stream",
          "text": [
            "-rw------- 1 root root 12929865 Mar  9 02:39 '/content/drive/My Drive/Colab Notebooks/datasets/Logo_Data.zip'\n"
          ],
          "name": "stdout"
        }
      ]
    },
    {
      "cell_type": "code",
      "metadata": {
        "id": "AvMhQwq3vZiV"
      },
      "source": [
        "!unzip /content/drive/My\\ Drive/Colab\\ Notebooks/datasets/Logo_Data.zip"
      ],
      "execution_count": null,
      "outputs": []
    },
    {
      "cell_type": "code",
      "metadata": {
        "id": "r9P6YUX3vjUn"
      },
      "source": [
        "train_dir='train'\n",
        "valid_dir='test'\n",
        "test_dir = 'test'"
      ],
      "execution_count": 5,
      "outputs": []
    },
    {
      "cell_type": "code",
      "metadata": {
        "colab": {
          "base_uri": "https://localhost:8080/"
        },
        "id": "vuATHtE5vpYu",
        "outputId": "f3b50811-5730-45dd-f18f-e8d4d1d0292c"
      },
      "source": [
        "from keras.preprocessing.image import ImageDataGenerator\n",
        "\n",
        "train_datagen = ImageDataGenerator(rescale= 1./255, rotation_range=40, width_shift_range=0.2, height_shift_range=0.2,\n",
        "                                   shear_range=0.2, zoom_range=0.2, horizontal_flip=True, vertical_flip=True, \n",
        "                                   fill_mode='nearest') \n",
        "valid_datagen = ImageDataGenerator(rescale=1./255)\n",
        "\n",
        "train_generator = train_datagen.flow_from_directory(train_dir, target_size=(75,75), batch_size=8, class_mode='categorical')\n",
        "valid_generator = valid_datagen.flow_from_directory(valid_dir, target_size=(75,75), batch_size=8, class_mode='categorical')"
      ],
      "execution_count": 7,
      "outputs": [
        {
          "output_type": "stream",
          "text": [
            "Found 498 images belonging to 27 classes.\n",
            "Found 177 images belonging to 27 classes.\n"
          ],
          "name": "stdout"
        }
      ]
    },
    {
      "cell_type": "code",
      "metadata": {
        "colab": {
          "base_uri": "https://localhost:8080/"
        },
        "id": "2Cml9rZkwhWw",
        "outputId": "10950924-6cf1-44c0-b943-eb036c387125"
      },
      "source": [
        "from keras import layers, models\n",
        "\n",
        "model = models.Sequential()\n",
        "model.add(layers.Conv2D(32, (3, 3), activation = 'relu', input_shape = (75, 75, 3)))\n",
        "model.add(layers.MaxPooling2D((2, 2)))\n",
        "model.add(layers.Conv2D(64, (3, 3), activation = 'relu'))\n",
        "model.add(layers.MaxPooling2D((2, 2)))\n",
        "model.add(layers.Conv2D(128, (3, 3), activation = 'relu'))\n",
        "model.add(layers.MaxPooling2D((2, 2)))\n",
        "\n",
        "model.add(layers.Flatten())\n",
        "model.add(layers.Dense(512, activation = 'relu'))\n",
        "model.add(layers.Dense(27, activation = 'softmax'))\n",
        "\n",
        "model.summary()"
      ],
      "execution_count": 8,
      "outputs": [
        {
          "output_type": "stream",
          "text": [
            "Model: \"sequential\"\n",
            "_________________________________________________________________\n",
            "Layer (type)                 Output Shape              Param #   \n",
            "=================================================================\n",
            "conv2d (Conv2D)              (None, 73, 73, 32)        896       \n",
            "_________________________________________________________________\n",
            "max_pooling2d (MaxPooling2D) (None, 36, 36, 32)        0         \n",
            "_________________________________________________________________\n",
            "conv2d_1 (Conv2D)            (None, 34, 34, 64)        18496     \n",
            "_________________________________________________________________\n",
            "max_pooling2d_1 (MaxPooling2 (None, 17, 17, 64)        0         \n",
            "_________________________________________________________________\n",
            "conv2d_2 (Conv2D)            (None, 15, 15, 128)       73856     \n",
            "_________________________________________________________________\n",
            "max_pooling2d_2 (MaxPooling2 (None, 7, 7, 128)         0         \n",
            "_________________________________________________________________\n",
            "flatten (Flatten)            (None, 6272)              0         \n",
            "_________________________________________________________________\n",
            "dense (Dense)                (None, 512)               3211776   \n",
            "_________________________________________________________________\n",
            "dense_1 (Dense)              (None, 27)                13851     \n",
            "=================================================================\n",
            "Total params: 3,318,875\n",
            "Trainable params: 3,318,875\n",
            "Non-trainable params: 0\n",
            "_________________________________________________________________\n"
          ],
          "name": "stdout"
        }
      ]
    },
    {
      "cell_type": "code",
      "metadata": {
        "colab": {
          "base_uri": "https://localhost:8080/"
        },
        "id": "3lMlSWEMxO2t",
        "outputId": "20cc640f-2975-40f7-ec44-8ffb8e7477fb"
      },
      "source": [
        "%%time\n",
        "model.compile(loss='categorical_crossentropy', optimizer='adam', metrics=['accuracy'])\n",
        "Hist = model.fit(train_generator, steps_per_epoch=62, epochs=200, validation_data=valid_generator, validation_steps=22)"
      ],
      "execution_count": 11,
      "outputs": [
        {
          "output_type": "stream",
          "text": [
            "Epoch 1/200\n",
            "62/62 [==============================] - 34s 32ms/step - loss: 3.3641 - accuracy: 0.0275 - val_loss: 3.2787 - val_accuracy: 0.0341\n",
            "Epoch 2/200\n",
            "62/62 [==============================] - 2s 26ms/step - loss: 3.2484 - accuracy: 0.0763 - val_loss: 3.1453 - val_accuracy: 0.0568\n",
            "Epoch 3/200\n",
            "62/62 [==============================] - 2s 26ms/step - loss: 3.0887 - accuracy: 0.1257 - val_loss: 3.0869 - val_accuracy: 0.0852\n",
            "Epoch 4/200\n",
            "62/62 [==============================] - 2s 27ms/step - loss: 2.9623 - accuracy: 0.1379 - val_loss: 2.9801 - val_accuracy: 0.1023\n",
            "Epoch 5/200\n",
            "62/62 [==============================] - 2s 26ms/step - loss: 2.8494 - accuracy: 0.1447 - val_loss: 2.9574 - val_accuracy: 0.1080\n",
            "Epoch 6/200\n",
            "62/62 [==============================] - 2s 27ms/step - loss: 2.7772 - accuracy: 0.2051 - val_loss: 3.0257 - val_accuracy: 0.1420\n",
            "Epoch 7/200\n",
            "62/62 [==============================] - 2s 26ms/step - loss: 2.7085 - accuracy: 0.1733 - val_loss: 2.8547 - val_accuracy: 0.1932\n",
            "Epoch 8/200\n",
            "62/62 [==============================] - 2s 26ms/step - loss: 2.4827 - accuracy: 0.2250 - val_loss: 2.6506 - val_accuracy: 0.2216\n",
            "Epoch 9/200\n",
            "62/62 [==============================] - 2s 26ms/step - loss: 2.4031 - accuracy: 0.2503 - val_loss: 2.5392 - val_accuracy: 0.2841\n",
            "Epoch 10/200\n",
            "62/62 [==============================] - 2s 26ms/step - loss: 2.2930 - accuracy: 0.2940 - val_loss: 2.6934 - val_accuracy: 0.2898\n",
            "Epoch 11/200\n",
            "62/62 [==============================] - 2s 26ms/step - loss: 2.2670 - accuracy: 0.2995 - val_loss: 2.6290 - val_accuracy: 0.2386\n",
            "Epoch 12/200\n",
            "62/62 [==============================] - 2s 26ms/step - loss: 2.0884 - accuracy: 0.3196 - val_loss: 2.5706 - val_accuracy: 0.3125\n",
            "Epoch 13/200\n",
            "62/62 [==============================] - 2s 26ms/step - loss: 1.8229 - accuracy: 0.4360 - val_loss: 2.8006 - val_accuracy: 0.2898\n",
            "Epoch 14/200\n",
            "62/62 [==============================] - 2s 26ms/step - loss: 1.9332 - accuracy: 0.4034 - val_loss: 2.5134 - val_accuracy: 0.3409\n",
            "Epoch 15/200\n",
            "62/62 [==============================] - 2s 26ms/step - loss: 1.8431 - accuracy: 0.4031 - val_loss: 2.5256 - val_accuracy: 0.3466\n",
            "Epoch 16/200\n",
            "62/62 [==============================] - 2s 26ms/step - loss: 1.7702 - accuracy: 0.4932 - val_loss: 2.4478 - val_accuracy: 0.4148\n",
            "Epoch 17/200\n",
            "62/62 [==============================] - 2s 26ms/step - loss: 1.6862 - accuracy: 0.4652 - val_loss: 2.3227 - val_accuracy: 0.4205\n",
            "Epoch 18/200\n",
            "62/62 [==============================] - 2s 26ms/step - loss: 1.4605 - accuracy: 0.5214 - val_loss: 2.3359 - val_accuracy: 0.4205\n",
            "Epoch 19/200\n",
            "62/62 [==============================] - 2s 26ms/step - loss: 1.5505 - accuracy: 0.5503 - val_loss: 2.4963 - val_accuracy: 0.4205\n",
            "Epoch 20/200\n",
            "62/62 [==============================] - 2s 26ms/step - loss: 1.5166 - accuracy: 0.5194 - val_loss: 2.2358 - val_accuracy: 0.4602\n",
            "Epoch 21/200\n",
            "62/62 [==============================] - 2s 26ms/step - loss: 1.4008 - accuracy: 0.5287 - val_loss: 2.2178 - val_accuracy: 0.4886\n",
            "Epoch 22/200\n",
            "62/62 [==============================] - 2s 27ms/step - loss: 1.2695 - accuracy: 0.5968 - val_loss: 2.2594 - val_accuracy: 0.4886\n",
            "Epoch 23/200\n",
            "62/62 [==============================] - 2s 26ms/step - loss: 1.3664 - accuracy: 0.5461 - val_loss: 2.3566 - val_accuracy: 0.4545\n",
            "Epoch 24/200\n",
            "62/62 [==============================] - 2s 26ms/step - loss: 1.2501 - accuracy: 0.5999 - val_loss: 2.0640 - val_accuracy: 0.5227\n",
            "Epoch 25/200\n",
            "62/62 [==============================] - 2s 26ms/step - loss: 1.1346 - accuracy: 0.6424 - val_loss: 2.3037 - val_accuracy: 0.5170\n",
            "Epoch 26/200\n",
            "62/62 [==============================] - 2s 26ms/step - loss: 1.2364 - accuracy: 0.6066 - val_loss: 2.0977 - val_accuracy: 0.5511\n",
            "Epoch 27/200\n",
            "62/62 [==============================] - 2s 26ms/step - loss: 1.1844 - accuracy: 0.6244 - val_loss: 2.2501 - val_accuracy: 0.4943\n",
            "Epoch 28/200\n",
            "62/62 [==============================] - 2s 26ms/step - loss: 1.1655 - accuracy: 0.6095 - val_loss: 2.4070 - val_accuracy: 0.5114\n",
            "Epoch 29/200\n",
            "62/62 [==============================] - 2s 26ms/step - loss: 1.1022 - accuracy: 0.6444 - val_loss: 2.2044 - val_accuracy: 0.5170\n",
            "Epoch 30/200\n",
            "62/62 [==============================] - 2s 26ms/step - loss: 1.0888 - accuracy: 0.6493 - val_loss: 2.3544 - val_accuracy: 0.5170\n",
            "Epoch 31/200\n",
            "62/62 [==============================] - 2s 27ms/step - loss: 1.0910 - accuracy: 0.6439 - val_loss: 2.2939 - val_accuracy: 0.5284\n",
            "Epoch 32/200\n",
            "62/62 [==============================] - 2s 26ms/step - loss: 1.0472 - accuracy: 0.6969 - val_loss: 2.3390 - val_accuracy: 0.5284\n",
            "Epoch 33/200\n",
            "62/62 [==============================] - 2s 26ms/step - loss: 1.0019 - accuracy: 0.6539 - val_loss: 2.3664 - val_accuracy: 0.5000\n",
            "Epoch 34/200\n",
            "62/62 [==============================] - 2s 26ms/step - loss: 1.0638 - accuracy: 0.6281 - val_loss: 2.2827 - val_accuracy: 0.5625\n",
            "Epoch 35/200\n",
            "62/62 [==============================] - 2s 26ms/step - loss: 0.8633 - accuracy: 0.6999 - val_loss: 2.4813 - val_accuracy: 0.5170\n",
            "Epoch 36/200\n",
            "62/62 [==============================] - 2s 26ms/step - loss: 0.8703 - accuracy: 0.7287 - val_loss: 2.6239 - val_accuracy: 0.5511\n",
            "Epoch 37/200\n",
            "62/62 [==============================] - 2s 26ms/step - loss: 0.9345 - accuracy: 0.6831 - val_loss: 2.9960 - val_accuracy: 0.4545\n",
            "Epoch 38/200\n",
            "62/62 [==============================] - 2s 27ms/step - loss: 1.0399 - accuracy: 0.6665 - val_loss: 2.5167 - val_accuracy: 0.5284\n",
            "Epoch 39/200\n",
            "62/62 [==============================] - 2s 27ms/step - loss: 0.9069 - accuracy: 0.7077 - val_loss: 2.2608 - val_accuracy: 0.5341\n",
            "Epoch 40/200\n",
            "62/62 [==============================] - 2s 27ms/step - loss: 0.7233 - accuracy: 0.7385 - val_loss: 2.3869 - val_accuracy: 0.5227\n",
            "Epoch 41/200\n",
            "62/62 [==============================] - 2s 27ms/step - loss: 0.9038 - accuracy: 0.7010 - val_loss: 2.2620 - val_accuracy: 0.5852\n",
            "Epoch 42/200\n",
            "62/62 [==============================] - 2s 26ms/step - loss: 0.6927 - accuracy: 0.7720 - val_loss: 2.2851 - val_accuracy: 0.5739\n",
            "Epoch 43/200\n",
            "62/62 [==============================] - 2s 27ms/step - loss: 0.8461 - accuracy: 0.7205 - val_loss: 2.2836 - val_accuracy: 0.5909\n",
            "Epoch 44/200\n",
            "62/62 [==============================] - 2s 27ms/step - loss: 0.7921 - accuracy: 0.7385 - val_loss: 2.3346 - val_accuracy: 0.5682\n",
            "Epoch 45/200\n",
            "62/62 [==============================] - 2s 26ms/step - loss: 0.8068 - accuracy: 0.7214 - val_loss: 2.4549 - val_accuracy: 0.5795\n",
            "Epoch 46/200\n",
            "62/62 [==============================] - 2s 26ms/step - loss: 0.6582 - accuracy: 0.7827 - val_loss: 2.7049 - val_accuracy: 0.5455\n",
            "Epoch 47/200\n",
            "62/62 [==============================] - 2s 27ms/step - loss: 0.7750 - accuracy: 0.7573 - val_loss: 2.3683 - val_accuracy: 0.5909\n",
            "Epoch 48/200\n",
            "62/62 [==============================] - 2s 26ms/step - loss: 0.6283 - accuracy: 0.8092 - val_loss: 2.6856 - val_accuracy: 0.5568\n",
            "Epoch 49/200\n",
            "62/62 [==============================] - 2s 27ms/step - loss: 0.6386 - accuracy: 0.7843 - val_loss: 2.6009 - val_accuracy: 0.5568\n",
            "Epoch 50/200\n",
            "62/62 [==============================] - 2s 27ms/step - loss: 0.7428 - accuracy: 0.7753 - val_loss: 3.0515 - val_accuracy: 0.5795\n",
            "Epoch 51/200\n",
            "62/62 [==============================] - 2s 26ms/step - loss: 0.5889 - accuracy: 0.8108 - val_loss: 2.9738 - val_accuracy: 0.5511\n",
            "Epoch 52/200\n",
            "62/62 [==============================] - 2s 27ms/step - loss: 0.6226 - accuracy: 0.7775 - val_loss: 2.8271 - val_accuracy: 0.5682\n",
            "Epoch 53/200\n",
            "62/62 [==============================] - 2s 26ms/step - loss: 0.5857 - accuracy: 0.7935 - val_loss: 2.9597 - val_accuracy: 0.5511\n",
            "Epoch 54/200\n",
            "62/62 [==============================] - 2s 27ms/step - loss: 0.5967 - accuracy: 0.8275 - val_loss: 2.5071 - val_accuracy: 0.5739\n",
            "Epoch 55/200\n",
            "62/62 [==============================] - 2s 26ms/step - loss: 0.6782 - accuracy: 0.7924 - val_loss: 2.7631 - val_accuracy: 0.5795\n",
            "Epoch 56/200\n",
            "62/62 [==============================] - 2s 26ms/step - loss: 0.5846 - accuracy: 0.8114 - val_loss: 2.5129 - val_accuracy: 0.5852\n",
            "Epoch 57/200\n",
            "62/62 [==============================] - 2s 26ms/step - loss: 0.6307 - accuracy: 0.7699 - val_loss: 2.8205 - val_accuracy: 0.5284\n",
            "Epoch 58/200\n",
            "62/62 [==============================] - 2s 27ms/step - loss: 0.6306 - accuracy: 0.7839 - val_loss: 2.7187 - val_accuracy: 0.5455\n",
            "Epoch 59/200\n",
            "62/62 [==============================] - 2s 26ms/step - loss: 0.7281 - accuracy: 0.7774 - val_loss: 2.6913 - val_accuracy: 0.5682\n",
            "Epoch 60/200\n",
            "62/62 [==============================] - 2s 27ms/step - loss: 0.6526 - accuracy: 0.7989 - val_loss: 2.8204 - val_accuracy: 0.5682\n",
            "Epoch 61/200\n",
            "62/62 [==============================] - 2s 27ms/step - loss: 0.4601 - accuracy: 0.8454 - val_loss: 2.5699 - val_accuracy: 0.5795\n",
            "Epoch 62/200\n",
            "62/62 [==============================] - 2s 26ms/step - loss: 0.5246 - accuracy: 0.8348 - val_loss: 2.7139 - val_accuracy: 0.5909\n",
            "Epoch 63/200\n",
            "62/62 [==============================] - 2s 26ms/step - loss: 0.5211 - accuracy: 0.8087 - val_loss: 3.0022 - val_accuracy: 0.5966\n",
            "Epoch 64/200\n",
            "62/62 [==============================] - 2s 26ms/step - loss: 0.5864 - accuracy: 0.8155 - val_loss: 2.9813 - val_accuracy: 0.5739\n",
            "Epoch 65/200\n",
            "62/62 [==============================] - 2s 26ms/step - loss: 0.4503 - accuracy: 0.8494 - val_loss: 2.9968 - val_accuracy: 0.5909\n",
            "Epoch 66/200\n",
            "62/62 [==============================] - 2s 26ms/step - loss: 0.4287 - accuracy: 0.8547 - val_loss: 2.9387 - val_accuracy: 0.5568\n",
            "Epoch 67/200\n",
            "62/62 [==============================] - 2s 27ms/step - loss: 0.4272 - accuracy: 0.8590 - val_loss: 3.0283 - val_accuracy: 0.5341\n",
            "Epoch 68/200\n",
            "62/62 [==============================] - 2s 26ms/step - loss: 0.5846 - accuracy: 0.7987 - val_loss: 2.8939 - val_accuracy: 0.5398\n",
            "Epoch 69/200\n",
            "62/62 [==============================] - 2s 27ms/step - loss: 0.5217 - accuracy: 0.8676 - val_loss: 2.9719 - val_accuracy: 0.5739\n",
            "Epoch 70/200\n",
            "62/62 [==============================] - 2s 26ms/step - loss: 0.5930 - accuracy: 0.8073 - val_loss: 2.8901 - val_accuracy: 0.5568\n",
            "Epoch 71/200\n",
            "62/62 [==============================] - 2s 27ms/step - loss: 0.3619 - accuracy: 0.8838 - val_loss: 3.0195 - val_accuracy: 0.5852\n",
            "Epoch 72/200\n",
            "62/62 [==============================] - 2s 27ms/step - loss: 0.4364 - accuracy: 0.8546 - val_loss: 3.1644 - val_accuracy: 0.5909\n",
            "Epoch 73/200\n",
            "62/62 [==============================] - 2s 27ms/step - loss: 0.2911 - accuracy: 0.9009 - val_loss: 3.1404 - val_accuracy: 0.5852\n",
            "Epoch 74/200\n",
            "62/62 [==============================] - 2s 26ms/step - loss: 0.4905 - accuracy: 0.8432 - val_loss: 3.1004 - val_accuracy: 0.5795\n",
            "Epoch 75/200\n",
            "62/62 [==============================] - 2s 26ms/step - loss: 0.4087 - accuracy: 0.8642 - val_loss: 3.2937 - val_accuracy: 0.5455\n",
            "Epoch 76/200\n",
            "62/62 [==============================] - 2s 26ms/step - loss: 0.4774 - accuracy: 0.8387 - val_loss: 3.0843 - val_accuracy: 0.5568\n",
            "Epoch 77/200\n",
            "62/62 [==============================] - 2s 26ms/step - loss: 0.5466 - accuracy: 0.8449 - val_loss: 3.1289 - val_accuracy: 0.6023\n",
            "Epoch 78/200\n",
            "62/62 [==============================] - 2s 27ms/step - loss: 0.4350 - accuracy: 0.8443 - val_loss: 2.8796 - val_accuracy: 0.5625\n",
            "Epoch 79/200\n",
            "62/62 [==============================] - 2s 26ms/step - loss: 0.3727 - accuracy: 0.8857 - val_loss: 3.1130 - val_accuracy: 0.5795\n",
            "Epoch 80/200\n",
            "62/62 [==============================] - 2s 27ms/step - loss: 0.5250 - accuracy: 0.8372 - val_loss: 3.1783 - val_accuracy: 0.5455\n",
            "Epoch 81/200\n",
            "62/62 [==============================] - 2s 27ms/step - loss: 0.4557 - accuracy: 0.8507 - val_loss: 3.3741 - val_accuracy: 0.5795\n",
            "Epoch 82/200\n",
            "62/62 [==============================] - 2s 26ms/step - loss: 0.3748 - accuracy: 0.8890 - val_loss: 3.0975 - val_accuracy: 0.5625\n",
            "Epoch 83/200\n",
            "62/62 [==============================] - 2s 26ms/step - loss: 0.4006 - accuracy: 0.8760 - val_loss: 2.9498 - val_accuracy: 0.5511\n",
            "Epoch 84/200\n",
            "62/62 [==============================] - 2s 27ms/step - loss: 0.4364 - accuracy: 0.8820 - val_loss: 3.1244 - val_accuracy: 0.6136\n",
            "Epoch 85/200\n",
            "62/62 [==============================] - 2s 27ms/step - loss: 0.3080 - accuracy: 0.8966 - val_loss: 2.8346 - val_accuracy: 0.5795\n",
            "Epoch 86/200\n",
            "62/62 [==============================] - 2s 27ms/step - loss: 0.3141 - accuracy: 0.9062 - val_loss: 3.1802 - val_accuracy: 0.5739\n",
            "Epoch 87/200\n",
            "62/62 [==============================] - 2s 27ms/step - loss: 0.3899 - accuracy: 0.8694 - val_loss: 3.1530 - val_accuracy: 0.5739\n",
            "Epoch 88/200\n",
            "62/62 [==============================] - 2s 27ms/step - loss: 0.3334 - accuracy: 0.8863 - val_loss: 3.1824 - val_accuracy: 0.5909\n",
            "Epoch 89/200\n",
            "62/62 [==============================] - 2s 26ms/step - loss: 0.2796 - accuracy: 0.9140 - val_loss: 3.6229 - val_accuracy: 0.5568\n",
            "Epoch 90/200\n",
            "62/62 [==============================] - 2s 26ms/step - loss: 0.3432 - accuracy: 0.8923 - val_loss: 3.1234 - val_accuracy: 0.5966\n",
            "Epoch 91/200\n",
            "62/62 [==============================] - 2s 27ms/step - loss: 0.3696 - accuracy: 0.8875 - val_loss: 2.9602 - val_accuracy: 0.6023\n",
            "Epoch 92/200\n",
            "62/62 [==============================] - 2s 26ms/step - loss: 0.2723 - accuracy: 0.8986 - val_loss: 3.5262 - val_accuracy: 0.6136\n",
            "Epoch 93/200\n",
            "62/62 [==============================] - 2s 27ms/step - loss: 0.4073 - accuracy: 0.8946 - val_loss: 3.2811 - val_accuracy: 0.5909\n",
            "Epoch 94/200\n",
            "62/62 [==============================] - 2s 27ms/step - loss: 0.4090 - accuracy: 0.8815 - val_loss: 3.0459 - val_accuracy: 0.6307\n",
            "Epoch 95/200\n",
            "62/62 [==============================] - 2s 26ms/step - loss: 0.3001 - accuracy: 0.9119 - val_loss: 3.4008 - val_accuracy: 0.5625\n",
            "Epoch 96/200\n",
            "62/62 [==============================] - 2s 26ms/step - loss: 0.4576 - accuracy: 0.8525 - val_loss: 3.1879 - val_accuracy: 0.6136\n",
            "Epoch 97/200\n",
            "62/62 [==============================] - 2s 27ms/step - loss: 0.3486 - accuracy: 0.8838 - val_loss: 3.3218 - val_accuracy: 0.5795\n",
            "Epoch 98/200\n",
            "62/62 [==============================] - 2s 27ms/step - loss: 0.2113 - accuracy: 0.9270 - val_loss: 3.5166 - val_accuracy: 0.5682\n",
            "Epoch 99/200\n",
            "62/62 [==============================] - 2s 27ms/step - loss: 0.3058 - accuracy: 0.8935 - val_loss: 3.6399 - val_accuracy: 0.5739\n",
            "Epoch 100/200\n",
            "62/62 [==============================] - 2s 28ms/step - loss: 0.4344 - accuracy: 0.8855 - val_loss: 3.3823 - val_accuracy: 0.5511\n",
            "Epoch 101/200\n",
            "62/62 [==============================] - 2s 27ms/step - loss: 0.5021 - accuracy: 0.8571 - val_loss: 3.5170 - val_accuracy: 0.5511\n",
            "Epoch 102/200\n",
            "62/62 [==============================] - 2s 27ms/step - loss: 0.3558 - accuracy: 0.8867 - val_loss: 3.4305 - val_accuracy: 0.5795\n",
            "Epoch 103/200\n",
            "62/62 [==============================] - 2s 27ms/step - loss: 0.5816 - accuracy: 0.8178 - val_loss: 3.0022 - val_accuracy: 0.5795\n",
            "Epoch 104/200\n",
            "62/62 [==============================] - 2s 27ms/step - loss: 0.3192 - accuracy: 0.8833 - val_loss: 2.9968 - val_accuracy: 0.6193\n",
            "Epoch 105/200\n",
            "62/62 [==============================] - 2s 27ms/step - loss: 0.3573 - accuracy: 0.8808 - val_loss: 3.1063 - val_accuracy: 0.5852\n",
            "Epoch 106/200\n",
            "62/62 [==============================] - 2s 26ms/step - loss: 0.2189 - accuracy: 0.9426 - val_loss: 3.5793 - val_accuracy: 0.5909\n",
            "Epoch 107/200\n",
            "62/62 [==============================] - 2s 27ms/step - loss: 0.2363 - accuracy: 0.9268 - val_loss: 3.4345 - val_accuracy: 0.6136\n",
            "Epoch 108/200\n",
            "62/62 [==============================] - 2s 27ms/step - loss: 0.3393 - accuracy: 0.8883 - val_loss: 3.5611 - val_accuracy: 0.6080\n",
            "Epoch 109/200\n",
            "62/62 [==============================] - 2s 27ms/step - loss: 0.3013 - accuracy: 0.8963 - val_loss: 3.7006 - val_accuracy: 0.5682\n",
            "Epoch 110/200\n",
            "62/62 [==============================] - 2s 26ms/step - loss: 0.3257 - accuracy: 0.8970 - val_loss: 3.7471 - val_accuracy: 0.5625\n",
            "Epoch 111/200\n",
            "62/62 [==============================] - 2s 27ms/step - loss: 0.2831 - accuracy: 0.9134 - val_loss: 3.4913 - val_accuracy: 0.5852\n",
            "Epoch 112/200\n",
            "62/62 [==============================] - 2s 26ms/step - loss: 0.3167 - accuracy: 0.9041 - val_loss: 3.8007 - val_accuracy: 0.5795\n",
            "Epoch 113/200\n",
            "62/62 [==============================] - 2s 26ms/step - loss: 0.2522 - accuracy: 0.9135 - val_loss: 4.0842 - val_accuracy: 0.5568\n",
            "Epoch 114/200\n",
            "62/62 [==============================] - 2s 27ms/step - loss: 0.3840 - accuracy: 0.8667 - val_loss: 3.2069 - val_accuracy: 0.6080\n",
            "Epoch 115/200\n",
            "62/62 [==============================] - 2s 27ms/step - loss: 0.2226 - accuracy: 0.9233 - val_loss: 3.8724 - val_accuracy: 0.6023\n",
            "Epoch 116/200\n",
            "62/62 [==============================] - 2s 26ms/step - loss: 0.2806 - accuracy: 0.9121 - val_loss: 3.7036 - val_accuracy: 0.6080\n",
            "Epoch 117/200\n",
            "62/62 [==============================] - 2s 26ms/step - loss: 0.2432 - accuracy: 0.9135 - val_loss: 3.5502 - val_accuracy: 0.6136\n",
            "Epoch 118/200\n",
            "62/62 [==============================] - 2s 27ms/step - loss: 0.2688 - accuracy: 0.9169 - val_loss: 3.7713 - val_accuracy: 0.5682\n",
            "Epoch 119/200\n",
            "62/62 [==============================] - 2s 27ms/step - loss: 0.2158 - accuracy: 0.9169 - val_loss: 3.8065 - val_accuracy: 0.5795\n",
            "Epoch 120/200\n",
            "62/62 [==============================] - 2s 26ms/step - loss: 0.3240 - accuracy: 0.9113 - val_loss: 3.5182 - val_accuracy: 0.6023\n",
            "Epoch 121/200\n",
            "62/62 [==============================] - 2s 26ms/step - loss: 0.2237 - accuracy: 0.9172 - val_loss: 3.4196 - val_accuracy: 0.6136\n",
            "Epoch 122/200\n",
            "62/62 [==============================] - 2s 26ms/step - loss: 0.2185 - accuracy: 0.9269 - val_loss: 3.7601 - val_accuracy: 0.5682\n",
            "Epoch 123/200\n",
            "62/62 [==============================] - 2s 27ms/step - loss: 0.2652 - accuracy: 0.9030 - val_loss: 4.2972 - val_accuracy: 0.5739\n",
            "Epoch 124/200\n",
            "62/62 [==============================] - 2s 27ms/step - loss: 0.3155 - accuracy: 0.8839 - val_loss: 3.7134 - val_accuracy: 0.5852\n",
            "Epoch 125/200\n",
            "62/62 [==============================] - 2s 26ms/step - loss: 0.2140 - accuracy: 0.9360 - val_loss: 3.9741 - val_accuracy: 0.5511\n",
            "Epoch 126/200\n",
            "62/62 [==============================] - 2s 26ms/step - loss: 0.3211 - accuracy: 0.8992 - val_loss: 3.9040 - val_accuracy: 0.6193\n",
            "Epoch 127/200\n",
            "62/62 [==============================] - 2s 26ms/step - loss: 0.3670 - accuracy: 0.8802 - val_loss: 3.6026 - val_accuracy: 0.6023\n",
            "Epoch 128/200\n",
            "62/62 [==============================] - 2s 27ms/step - loss: 0.3019 - accuracy: 0.8988 - val_loss: 3.5248 - val_accuracy: 0.6250\n",
            "Epoch 129/200\n",
            "62/62 [==============================] - 2s 27ms/step - loss: 0.1815 - accuracy: 0.9189 - val_loss: 3.6964 - val_accuracy: 0.5852\n",
            "Epoch 130/200\n",
            "62/62 [==============================] - 2s 27ms/step - loss: 0.2052 - accuracy: 0.9354 - val_loss: 3.7362 - val_accuracy: 0.5966\n",
            "Epoch 131/200\n",
            "62/62 [==============================] - 2s 27ms/step - loss: 0.2413 - accuracy: 0.9182 - val_loss: 3.8695 - val_accuracy: 0.5511\n",
            "Epoch 132/200\n",
            "62/62 [==============================] - 2s 27ms/step - loss: 0.5236 - accuracy: 0.8294 - val_loss: 3.2462 - val_accuracy: 0.5739\n",
            "Epoch 133/200\n",
            "62/62 [==============================] - 2s 26ms/step - loss: 0.1633 - accuracy: 0.9368 - val_loss: 3.4326 - val_accuracy: 0.6023\n",
            "Epoch 134/200\n",
            "62/62 [==============================] - 2s 26ms/step - loss: 0.3320 - accuracy: 0.9068 - val_loss: 3.6810 - val_accuracy: 0.5966\n",
            "Epoch 135/200\n",
            "62/62 [==============================] - 2s 27ms/step - loss: 0.1631 - accuracy: 0.9606 - val_loss: 3.7436 - val_accuracy: 0.6136\n",
            "Epoch 136/200\n",
            "62/62 [==============================] - 2s 27ms/step - loss: 0.2171 - accuracy: 0.9157 - val_loss: 3.7351 - val_accuracy: 0.6023\n",
            "Epoch 137/200\n",
            "62/62 [==============================] - 2s 27ms/step - loss: 0.2393 - accuracy: 0.9264 - val_loss: 3.3109 - val_accuracy: 0.6080\n",
            "Epoch 138/200\n",
            "62/62 [==============================] - 2s 27ms/step - loss: 0.4118 - accuracy: 0.8960 - val_loss: 3.1532 - val_accuracy: 0.5966\n",
            "Epoch 139/200\n",
            "62/62 [==============================] - 2s 27ms/step - loss: 0.3187 - accuracy: 0.9013 - val_loss: 3.6869 - val_accuracy: 0.6080\n",
            "Epoch 140/200\n",
            "62/62 [==============================] - 2s 26ms/step - loss: 0.1809 - accuracy: 0.9459 - val_loss: 3.7475 - val_accuracy: 0.6023\n",
            "Epoch 141/200\n",
            "62/62 [==============================] - 2s 26ms/step - loss: 0.2718 - accuracy: 0.9030 - val_loss: 3.9228 - val_accuracy: 0.5909\n",
            "Epoch 142/200\n",
            "62/62 [==============================] - 2s 27ms/step - loss: 0.3484 - accuracy: 0.9047 - val_loss: 3.2985 - val_accuracy: 0.6136\n",
            "Epoch 143/200\n",
            "62/62 [==============================] - 2s 27ms/step - loss: 0.1652 - accuracy: 0.9384 - val_loss: 3.6305 - val_accuracy: 0.6250\n",
            "Epoch 144/200\n",
            "62/62 [==============================] - 2s 27ms/step - loss: 0.1445 - accuracy: 0.9486 - val_loss: 3.9372 - val_accuracy: 0.6023\n",
            "Epoch 145/200\n",
            "62/62 [==============================] - 2s 27ms/step - loss: 0.1611 - accuracy: 0.9403 - val_loss: 3.7866 - val_accuracy: 0.6136\n",
            "Epoch 146/200\n",
            "62/62 [==============================] - 2s 27ms/step - loss: 0.2800 - accuracy: 0.9198 - val_loss: 3.9574 - val_accuracy: 0.5909\n",
            "Epoch 147/200\n",
            "62/62 [==============================] - 2s 28ms/step - loss: 0.2789 - accuracy: 0.9179 - val_loss: 3.9281 - val_accuracy: 0.5625\n",
            "Epoch 148/200\n",
            "62/62 [==============================] - 2s 27ms/step - loss: 0.1868 - accuracy: 0.9492 - val_loss: 3.6040 - val_accuracy: 0.5909\n",
            "Epoch 149/200\n",
            "62/62 [==============================] - 2s 28ms/step - loss: 0.1643 - accuracy: 0.9513 - val_loss: 3.9241 - val_accuracy: 0.6023\n",
            "Epoch 150/200\n",
            "62/62 [==============================] - 2s 28ms/step - loss: 0.1942 - accuracy: 0.9364 - val_loss: 3.7036 - val_accuracy: 0.6136\n",
            "Epoch 151/200\n",
            "62/62 [==============================] - 2s 27ms/step - loss: 0.3535 - accuracy: 0.9117 - val_loss: 3.9282 - val_accuracy: 0.6193\n",
            "Epoch 152/200\n",
            "62/62 [==============================] - 2s 27ms/step - loss: 0.1753 - accuracy: 0.9332 - val_loss: 4.1902 - val_accuracy: 0.5852\n",
            "Epoch 153/200\n",
            "62/62 [==============================] - 2s 27ms/step - loss: 0.3513 - accuracy: 0.9177 - val_loss: 4.0592 - val_accuracy: 0.6136\n",
            "Epoch 154/200\n",
            "62/62 [==============================] - 2s 28ms/step - loss: 0.2569 - accuracy: 0.9269 - val_loss: 3.8744 - val_accuracy: 0.6136\n",
            "Epoch 155/200\n",
            "62/62 [==============================] - 2s 27ms/step - loss: 0.1695 - accuracy: 0.9451 - val_loss: 3.9098 - val_accuracy: 0.5852\n",
            "Epoch 156/200\n",
            "62/62 [==============================] - 2s 27ms/step - loss: 0.1521 - accuracy: 0.9487 - val_loss: 4.5796 - val_accuracy: 0.5455\n",
            "Epoch 157/200\n",
            "62/62 [==============================] - 2s 27ms/step - loss: 0.2167 - accuracy: 0.9178 - val_loss: 4.0833 - val_accuracy: 0.6023\n",
            "Epoch 158/200\n",
            "62/62 [==============================] - 2s 28ms/step - loss: 0.2015 - accuracy: 0.9450 - val_loss: 4.4191 - val_accuracy: 0.5795\n",
            "Epoch 159/200\n",
            "62/62 [==============================] - 2s 27ms/step - loss: 0.3006 - accuracy: 0.9098 - val_loss: 4.6872 - val_accuracy: 0.5682\n",
            "Epoch 160/200\n",
            "62/62 [==============================] - 2s 27ms/step - loss: 0.2040 - accuracy: 0.9282 - val_loss: 4.3877 - val_accuracy: 0.5852\n",
            "Epoch 161/200\n",
            "62/62 [==============================] - 2s 27ms/step - loss: 0.2565 - accuracy: 0.9154 - val_loss: 4.2591 - val_accuracy: 0.5795\n",
            "Epoch 162/200\n",
            "62/62 [==============================] - 2s 27ms/step - loss: 0.2967 - accuracy: 0.8889 - val_loss: 4.5135 - val_accuracy: 0.5739\n",
            "Epoch 163/200\n",
            "62/62 [==============================] - 2s 27ms/step - loss: 0.2279 - accuracy: 0.9026 - val_loss: 4.3794 - val_accuracy: 0.5739\n",
            "Epoch 164/200\n",
            "62/62 [==============================] - 2s 27ms/step - loss: 0.2126 - accuracy: 0.9307 - val_loss: 4.1726 - val_accuracy: 0.6023\n",
            "Epoch 165/200\n",
            "62/62 [==============================] - 2s 27ms/step - loss: 0.2819 - accuracy: 0.9218 - val_loss: 3.9980 - val_accuracy: 0.6193\n",
            "Epoch 166/200\n",
            "62/62 [==============================] - 2s 27ms/step - loss: 0.2270 - accuracy: 0.9187 - val_loss: 4.2620 - val_accuracy: 0.5682\n",
            "Epoch 167/200\n",
            "62/62 [==============================] - 2s 27ms/step - loss: 0.3914 - accuracy: 0.8592 - val_loss: 3.5101 - val_accuracy: 0.6193\n",
            "Epoch 168/200\n",
            "62/62 [==============================] - 2s 27ms/step - loss: 0.1441 - accuracy: 0.9535 - val_loss: 4.3025 - val_accuracy: 0.5739\n",
            "Epoch 169/200\n",
            "62/62 [==============================] - 2s 27ms/step - loss: 0.2656 - accuracy: 0.9214 - val_loss: 4.0784 - val_accuracy: 0.6080\n",
            "Epoch 170/200\n",
            "62/62 [==============================] - 2s 27ms/step - loss: 0.2447 - accuracy: 0.9290 - val_loss: 4.1327 - val_accuracy: 0.5739\n",
            "Epoch 171/200\n",
            "62/62 [==============================] - 2s 27ms/step - loss: 0.1477 - accuracy: 0.9357 - val_loss: 4.0873 - val_accuracy: 0.6023\n",
            "Epoch 172/200\n",
            "62/62 [==============================] - 2s 27ms/step - loss: 0.1505 - accuracy: 0.9550 - val_loss: 4.1496 - val_accuracy: 0.6250\n",
            "Epoch 173/200\n",
            "62/62 [==============================] - 2s 27ms/step - loss: 0.1479 - accuracy: 0.9605 - val_loss: 3.6744 - val_accuracy: 0.5568\n",
            "Epoch 174/200\n",
            "62/62 [==============================] - 2s 27ms/step - loss: 0.2550 - accuracy: 0.9350 - val_loss: 4.3131 - val_accuracy: 0.6023\n",
            "Epoch 175/200\n",
            "62/62 [==============================] - 2s 27ms/step - loss: 0.1576 - accuracy: 0.9558 - val_loss: 4.2390 - val_accuracy: 0.6080\n",
            "Epoch 176/200\n",
            "62/62 [==============================] - 2s 26ms/step - loss: 0.1510 - accuracy: 0.9585 - val_loss: 4.4963 - val_accuracy: 0.5852\n",
            "Epoch 177/200\n",
            "62/62 [==============================] - 2s 27ms/step - loss: 0.0745 - accuracy: 0.9834 - val_loss: 4.9806 - val_accuracy: 0.5568\n",
            "Epoch 178/200\n",
            "62/62 [==============================] - 2s 27ms/step - loss: 0.1881 - accuracy: 0.9535 - val_loss: 4.4248 - val_accuracy: 0.5966\n",
            "Epoch 179/200\n",
            "62/62 [==============================] - 2s 27ms/step - loss: 0.2672 - accuracy: 0.9458 - val_loss: 4.5141 - val_accuracy: 0.6193\n",
            "Epoch 180/200\n",
            "62/62 [==============================] - 2s 28ms/step - loss: 0.1396 - accuracy: 0.9499 - val_loss: 4.5420 - val_accuracy: 0.5739\n",
            "Epoch 181/200\n",
            "62/62 [==============================] - 2s 28ms/step - loss: 0.1860 - accuracy: 0.9498 - val_loss: 4.6670 - val_accuracy: 0.5739\n",
            "Epoch 182/200\n",
            "62/62 [==============================] - 2s 27ms/step - loss: 0.2209 - accuracy: 0.9260 - val_loss: 4.2781 - val_accuracy: 0.6250\n",
            "Epoch 183/200\n",
            "62/62 [==============================] - 2s 28ms/step - loss: 0.3068 - accuracy: 0.9248 - val_loss: 4.0199 - val_accuracy: 0.5795\n",
            "Epoch 184/200\n",
            "62/62 [==============================] - 2s 28ms/step - loss: 0.1585 - accuracy: 0.9494 - val_loss: 3.8216 - val_accuracy: 0.6136\n",
            "Epoch 185/200\n",
            "62/62 [==============================] - 2s 27ms/step - loss: 0.1462 - accuracy: 0.9598 - val_loss: 4.4097 - val_accuracy: 0.5852\n",
            "Epoch 186/200\n",
            "62/62 [==============================] - 2s 28ms/step - loss: 0.1867 - accuracy: 0.9409 - val_loss: 4.6938 - val_accuracy: 0.6023\n",
            "Epoch 187/200\n",
            "62/62 [==============================] - 2s 28ms/step - loss: 0.2018 - accuracy: 0.9368 - val_loss: 5.2022 - val_accuracy: 0.5284\n",
            "Epoch 188/200\n",
            "62/62 [==============================] - 2s 28ms/step - loss: 0.2239 - accuracy: 0.9143 - val_loss: 4.8284 - val_accuracy: 0.5909\n",
            "Epoch 189/200\n",
            "62/62 [==============================] - 2s 27ms/step - loss: 0.2236 - accuracy: 0.9329 - val_loss: 5.1985 - val_accuracy: 0.4943\n",
            "Epoch 190/200\n",
            "62/62 [==============================] - 2s 27ms/step - loss: 0.8621 - accuracy: 0.8329 - val_loss: 4.5251 - val_accuracy: 0.5795\n",
            "Epoch 191/200\n",
            "62/62 [==============================] - 2s 27ms/step - loss: 0.2891 - accuracy: 0.9031 - val_loss: 3.9700 - val_accuracy: 0.6023\n",
            "Epoch 192/200\n",
            "62/62 [==============================] - 2s 27ms/step - loss: 0.2582 - accuracy: 0.9080 - val_loss: 4.3878 - val_accuracy: 0.5909\n",
            "Epoch 193/200\n",
            "62/62 [==============================] - 2s 27ms/step - loss: 0.2331 - accuracy: 0.9092 - val_loss: 3.7553 - val_accuracy: 0.6023\n",
            "Epoch 194/200\n",
            "62/62 [==============================] - 2s 28ms/step - loss: 0.1545 - accuracy: 0.9484 - val_loss: 4.1687 - val_accuracy: 0.6136\n",
            "Epoch 195/200\n",
            "62/62 [==============================] - 2s 27ms/step - loss: 0.1688 - accuracy: 0.9536 - val_loss: 4.0140 - val_accuracy: 0.6193\n",
            "Epoch 196/200\n",
            "62/62 [==============================] - 2s 27ms/step - loss: 0.1376 - accuracy: 0.9575 - val_loss: 4.1485 - val_accuracy: 0.6250\n",
            "Epoch 197/200\n",
            "62/62 [==============================] - 2s 27ms/step - loss: 0.2142 - accuracy: 0.9354 - val_loss: 4.8215 - val_accuracy: 0.5568\n",
            "Epoch 198/200\n",
            "62/62 [==============================] - 2s 28ms/step - loss: 0.4143 - accuracy: 0.8968 - val_loss: 4.1496 - val_accuracy: 0.5852\n",
            "Epoch 199/200\n",
            "62/62 [==============================] - 2s 27ms/step - loss: 0.1145 - accuracy: 0.9637 - val_loss: 3.6934 - val_accuracy: 0.6023\n",
            "Epoch 200/200\n",
            "62/62 [==============================] - 2s 27ms/step - loss: 0.1894 - accuracy: 0.9435 - val_loss: 3.9683 - val_accuracy: 0.6136\n",
            "CPU times: user 6min 28s, sys: 25.2 s, total: 6min 53s\n",
            "Wall time: 6min 8s\n"
          ],
          "name": "stdout"
        }
      ]
    },
    {
      "cell_type": "code",
      "metadata": {
        "colab": {
          "base_uri": "https://localhost:8080/",
          "height": 514
        },
        "id": "ySLJfTCExhD2",
        "outputId": "d4a4e388-d756-46d1-b0e2-9b0c40693c78"
      },
      "source": [
        "import matplotlib.pyplot as plt\n",
        "\n",
        "epochs = range(1, len(Hist.history['loss'])+1)\n",
        "\n",
        "plt.plot(epochs, Hist.history['loss'])\n",
        "plt.plot(epochs, Hist.history['val_loss'])\n",
        "plt.legend(['Train Loss', 'Test Loss'])\n",
        "plt.grid()\n",
        "plt.show()\n",
        "\n",
        "plt.plot(epochs, Hist.history['accuracy'])\n",
        "plt.plot(epochs, Hist.history['val_accuracy'])\n",
        "plt.legend(['Train accuracy', 'Test accuracy'])\n",
        "plt.grid()\n",
        "plt.show()"
      ],
      "execution_count": 12,
      "outputs": [
        {
          "output_type": "display_data",
          "data": {
            "image/png": "[encoded data removed]",
            "text/plain": [
              "<Figure size 432x288 with 1 Axes>"
            ]
          },
          "metadata": {
            "tags": [],
            "needs_background": "light"
          }
        },
        {
          "output_type": "display_data",
          "data": {
            "image/png": "[encoded data removed]",
            "text/plain": [
              "<Figure size 432x288 with 1 Axes>"
            ]
          },
          "metadata": {
            "tags": [],
            "needs_background": "light"
          }
        }
      ]
    },
    {
      "cell_type": "code",
      "metadata": {
        "colab": {
          "base_uri": "https://localhost:8080/"
        },
        "id": "_yNEgD3tyVzP",
        "outputId": "023427c3-e99f-4aed-ca78-8e74bcd1d558"
      },
      "source": [
        "test_datagen= ImageDataGenerator(rescale=1./255)\n",
        "test_generator = test_datagen.flow_from_directory(test_dir, target_size=(75,75), batch_size=8, class_mode='categorical')\n",
        "loss, accuracy = model.evaluate(test_generator, steps=22)\n",
        "loss, accuracy"
      ],
      "execution_count": 13,
      "outputs": [
        {
          "output_type": "stream",
          "text": [
            "Found 177 images belonging to 27 classes.\n",
            "22/22 [==============================] - 0s 10ms/step - loss: 3.9683 - accuracy: 0.6136\n"
          ],
          "name": "stdout"
        },
        {
          "output_type": "execute_result",
          "data": {
            "text/plain": [
              "(3.9683456420898438, 0.6136363744735718)"
            ]
          },
          "metadata": {
            "tags": []
          },
          "execution_count": 13
        }
      ]
    },
    {
      "cell_type": "code",
      "metadata": {
        "id": "2eD2cBIQyx1O"
      },
      "source": [
        ""
      ],
      "execution_count": null,
      "outputs": []
    }
  ]
}