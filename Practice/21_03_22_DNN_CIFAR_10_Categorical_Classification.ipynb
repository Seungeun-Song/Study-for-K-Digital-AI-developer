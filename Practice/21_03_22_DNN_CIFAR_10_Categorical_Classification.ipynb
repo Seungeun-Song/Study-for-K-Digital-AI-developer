{
  "nbformat": 4,
  "nbformat_minor": 0,
  "metadata": {
    "colab": {
      "name": "013_DNN_CIFAR_10_Categorical_Classification.ipynb",
      "provenance": []
    },
    "kernelspec": {
      "name": "python3",
      "display_name": "Python 3"
    },
    "language_info": {
      "name": "python"
    },
    "accelerator": "GPU"
  },
  "cells": [
    {
      "cell_type": "code",
      "metadata": {
        "colab": {
          "base_uri": "https://localhost:8080/",
          "height": 34
        },
        "id": "Ksag2YkCay-G",
        "outputId": "51c7165e-46ee-4f7c-9a12-f1471b6f80b1"
      },
      "source": [
        "import keras \n",
        "\n",
        "keras.__version__"
      ],
      "execution_count": 1,
      "outputs": [
        {
          "output_type": "execute_result",
          "data": {
            "application/vnd.google.colaboratory.intrinsic+json": {
              "type": "string"
            },
            "text/plain": [
              "'2.4.3'"
            ]
          },
          "metadata": {
            "tags": []
          },
          "execution_count": 1
        }
      ]
    },
    {
      "cell_type": "code",
      "metadata": {
        "colab": {
          "base_uri": "https://localhost:8080/"
        },
        "id": "oLdWVpeEda8a",
        "outputId": "91d5c02f-52c8-4d06-b38b-5a357baf6137"
      },
      "source": [
        "from keras.datasets import cifar10\n",
        "\n",
        "(X_train, y_train), (X_test, y_test) = cifar10.load_data()"
      ],
      "execution_count": 2,
      "outputs": [
        {
          "output_type": "stream",
          "text": [
            "Downloading data from https://www.cs.toronto.edu/~kriz/cifar-10-python.tar.gz\n",
            "170500096/170498071 [==============================] - 2s 0us/step\n"
          ],
          "name": "stdout"
        }
      ]
    },
    {
      "cell_type": "code",
      "metadata": {
        "colab": {
          "base_uri": "https://localhost:8080/"
        },
        "id": "u9mHcLyodjSZ",
        "outputId": "54c3a51a-cd3b-4ab9-9027-7bd3169f4454"
      },
      "source": [
        "print(len(X_train))\n",
        "print(X_train.shape)\n",
        "\n",
        "print(len(y_train))\n",
        "print(y_train[:5])"
      ],
      "execution_count": 3,
      "outputs": [
        {
          "output_type": "stream",
          "text": [
            "50000\n",
            "(50000, 32, 32, 3)\n",
            "50000\n",
            "[[6]\n",
            " [9]\n",
            " [9]\n",
            " [4]\n",
            " [1]]\n"
          ],
          "name": "stdout"
        }
      ]
    },
    {
      "cell_type": "code",
      "metadata": {
        "colab": {
          "base_uri": "https://localhost:8080/"
        },
        "id": "JMaYmaLXdtCY",
        "outputId": "5e0d440a-2d30-4cda-faba-e1517d4c8d4a"
      },
      "source": [
        "# 32,32,3 = 32*32의 칼라(3)이미지 데이터가 5만장\n",
        "X_train.shape, y_train.shape, X_test.shape, y_test.shape"
      ],
      "execution_count": 4,
      "outputs": [
        {
          "output_type": "execute_result",
          "data": {
            "text/plain": [
              "((50000, 32, 32, 3), (50000, 1), (10000, 32, 32, 3), (10000, 1))"
            ]
          },
          "metadata": {
            "tags": []
          },
          "execution_count": 4
        }
      ]
    },
    {
      "cell_type": "code",
      "metadata": {
        "colab": {
          "base_uri": "https://localhost:8080/",
          "height": 266
        },
        "id": "Zzhz-Hzudz0Q",
        "outputId": "ed38581f-c83d-49a4-cf3a-2c43fd3885d9"
      },
      "source": [
        "import matplotlib.pyplot as plt\n",
        "\n",
        "digit = X_train[0]\n",
        "plt.imshow(digit)\n",
        "plt.show()"
      ],
      "execution_count": 5,
      "outputs": [
        {
          "output_type": "display_data",
          "data": {
            "image/png": "[encoded data removed]",
            "text/plain": [
              "<Figure size 432x288 with 1 Axes>"
            ]
          },
          "metadata": {
            "tags": [],
            "needs_background": "light"
          }
        }
      ]
    },
    {
      "cell_type": "code",
      "metadata": {
        "colab": {
          "base_uri": "https://localhost:8080/"
        },
        "id": "ic_NEajkemYm",
        "outputId": "8e445181-f5fc-44d0-deb0-7c479422ad59"
      },
      "source": [
        "print(X_train[0])"
      ],
      "execution_count": 9,
      "outputs": [
        {
          "output_type": "stream",
          "text": [
            "[[[ 59  62  63]\n",
            "  [ 43  46  45]\n",
            "  [ 50  48  43]\n",
            "  ...\n",
            "  [158 132 108]\n",
            "  [152 125 102]\n",
            "  [148 124 103]]\n",
            "\n",
            " [[ 16  20  20]\n",
            "  [  0   0   0]\n",
            "  [ 18   8   0]\n",
            "  ...\n",
            "  [123  88  55]\n",
            "  [119  83  50]\n",
            "  [122  87  57]]\n",
            "\n",
            " [[ 25  24  21]\n",
            "  [ 16   7   0]\n",
            "  [ 49  27   8]\n",
            "  ...\n",
            "  [118  84  50]\n",
            "  [120  84  50]\n",
            "  [109  73  42]]\n",
            "\n",
            " ...\n",
            "\n",
            " [[208 170  96]\n",
            "  [201 153  34]\n",
            "  [198 161  26]\n",
            "  ...\n",
            "  [160 133  70]\n",
            "  [ 56  31   7]\n",
            "  [ 53  34  20]]\n",
            "\n",
            " [[180 139  96]\n",
            "  [173 123  42]\n",
            "  [186 144  30]\n",
            "  ...\n",
            "  [184 148  94]\n",
            "  [ 97  62  34]\n",
            "  [ 83  53  34]]\n",
            "\n",
            " [[177 144 116]\n",
            "  [168 129  94]\n",
            "  [179 142  87]\n",
            "  ...\n",
            "  [216 184 140]\n",
            "  [151 118  84]\n",
            "  [123  92  72]]]\n"
          ],
          "name": "stdout"
        }
      ]
    },
    {
      "cell_type": "code",
      "metadata": {
        "colab": {
          "base_uri": "https://localhost:8080/",
          "height": 133
        },
        "id": "1NT-mBZOeMkM",
        "outputId": "a874bde8-481a-45a0-b350-7746d6b1cdbf"
      },
      "source": [
        "import numpy as np\n",
        "\n",
        "np.set_printoptions(linewidth=150)\n",
        "\n",
        "print((X_train[0][0])"
      ],
      "execution_count": 12,
      "outputs": [
        {
          "output_type": "error",
          "ename": "SyntaxError",
          "evalue": "ignored",
          "traceback": [
            "\u001b[0;36m  File \u001b[0;32m\"<ipython-input-12-c940538f01b6>\"\u001b[0;36m, line \u001b[0;32m5\u001b[0m\n\u001b[0;31m    print((X_train[0][0])\u001b[0m\n\u001b[0m                         ^\u001b[0m\n\u001b[0;31mSyntaxError\u001b[0m\u001b[0;31m:\u001b[0m unexpected EOF while parsing\n"
          ]
        }
      ]
    },
    {
      "cell_type": "code",
      "metadata": {
        "colab": {
          "base_uri": "https://localhost:8080/"
        },
        "id": "tilr0wzPeUer",
        "outputId": "cd3feac6-bde2-4aa6-b2e8-38910244f913"
      },
      "source": [
        "print(X_train[0][1])"
      ],
      "execution_count": 7,
      "outputs": [
        {
          "output_type": "stream",
          "text": [
            "[[ 16  20  20]\n",
            " [  0   0   0]\n",
            " [ 18   8   0]\n",
            " [ 51  27   8]\n",
            " [ 88  51  21]\n",
            " [120  82  43]\n",
            " [128  89  45]\n",
            " [127  86  44]\n",
            " [126  87  50]\n",
            " [116  79  44]\n",
            " [106  70  37]\n",
            " [101  67  35]\n",
            " [105  70  36]\n",
            " [113  74  35]\n",
            " [109  70  33]\n",
            " [112  72  37]\n",
            " [119  79  44]\n",
            " [109  71  33]\n",
            " [105  69  27]\n",
            " [125  89  46]\n",
            " [127  92  46]\n",
            " [122  85  39]\n",
            " [131  89  47]\n",
            " [124  82  41]\n",
            " [121  79  37]\n",
            " [131  89  48]\n",
            " [132  91  53]\n",
            " [133  94  58]\n",
            " [133  96  60]\n",
            " [123  88  55]\n",
            " [119  83  50]\n",
            " [122  87  57]]\n"
          ],
          "name": "stdout"
        }
      ]
    },
    {
      "cell_type": "code",
      "metadata": {
        "colab": {
          "base_uri": "https://localhost:8080/",
          "height": 266
        },
        "id": "FS4-PW3BeZ_h",
        "outputId": "82d5befc-f502-4dab-964a-aee204bb3b4c"
      },
      "source": [
        "import matplotlib.pyplot as plt\n",
        "\n",
        "digit = X_train[0][1]\n",
        "plt.imshow(digit)\n",
        "plt.show()"
      ],
      "execution_count": 8,
      "outputs": [
        {
          "output_type": "display_data",
          "data": {
            "image/png": "[encoded data removed]",
            "text/plain": [
              "<Figure size 432x288 with 1 Axes>"
            ]
          },
          "metadata": {
            "tags": [],
            "needs_background": "light"
          }
        }
      ]
    },
    {
      "cell_type": "code",
      "metadata": {
        "colab": {
          "base_uri": "https://localhost:8080/"
        },
        "id": "59EQM9j5edgF",
        "outputId": "3d81444c-3cc7-4edf-89f2-c6e7543d21f8"
      },
      "source": [
        "X_train = X_train.reshape((50000, 32*32*3))\n",
        "X_test = X_test.reshape((10000, 32*32*3))\n",
        "\n",
        "X_train.shape, X_test.shape"
      ],
      "execution_count": 10,
      "outputs": [
        {
          "output_type": "execute_result",
          "data": {
            "text/plain": [
              "((50000, 3072), (10000, 3072))"
            ]
          },
          "metadata": {
            "tags": []
          },
          "execution_count": 10
        }
      ]
    },
    {
      "cell_type": "code",
      "metadata": {
        "colab": {
          "base_uri": "https://localhost:8080/"
        },
        "id": "umhlni4EfHKv",
        "outputId": "0a76a088-9aa5-4842-af95-2a57a860f498"
      },
      "source": [
        "X_train = X_train.astype(float)/255\n",
        "X_test = X_test.astype(float)/255\n",
        "\n",
        "print(X_train[0])"
      ],
      "execution_count": 13,
      "outputs": [
        {
          "output_type": "stream",
          "text": [
            "[0.23137255 0.24313725 0.24705882 ... 0.48235294 0.36078431 0.28235294]\n"
          ],
          "name": "stdout"
        }
      ]
    },
    {
      "cell_type": "code",
      "metadata": {
        "colab": {
          "base_uri": "https://localhost:8080/"
        },
        "id": "U4OMlKS1fpff",
        "outputId": "693315de-2709-46b0-9fcb-ee6a0a95bc41"
      },
      "source": [
        "print(y_train)"
      ],
      "execution_count": 14,
      "outputs": [
        {
          "output_type": "stream",
          "text": [
            "[[6]\n",
            " [9]\n",
            " [9]\n",
            " ...\n",
            " [9]\n",
            " [1]\n",
            " [1]]\n"
          ],
          "name": "stdout"
        }
      ]
    },
    {
      "cell_type": "code",
      "metadata": {
        "colab": {
          "base_uri": "https://localhost:8080/"
        },
        "id": "5dZclO-HfvFw",
        "outputId": "d9416e7a-2b28-4f74-c89b-38654334c437"
      },
      "source": [
        "from keras.utils import to_categorical\n",
        "\n",
        "y_train = to_categorical(y_train)\n",
        "y_test = to_categorical(y_test)\n",
        "\n",
        "print(y_train[:5])"
      ],
      "execution_count": 15,
      "outputs": [
        {
          "output_type": "stream",
          "text": [
            "[[0. 0. 0. 0. 0. 0. 1. 0. 0. 0.]\n",
            " [0. 0. 0. 0. 0. 0. 0. 0. 0. 1.]\n",
            " [0. 0. 0. 0. 0. 0. 0. 0. 0. 1.]\n",
            " [0. 0. 0. 0. 1. 0. 0. 0. 0. 0.]\n",
            " [0. 1. 0. 0. 0. 0. 0. 0. 0. 0.]]\n"
          ],
          "name": "stdout"
        }
      ]
    },
    {
      "cell_type": "code",
      "metadata": {
        "id": "NYPe5lOsf373"
      },
      "source": [
        "from keras import models, layers\n",
        "\n",
        "CIFAR = models.Sequential()\n",
        "CIFAR.add(layers.Dense(2048, activation='relu', input_shape=(32*32*3,)))\n",
        "CIFAR.add(layers.Dense(1024, activation='relu'))\n",
        "CIFAR.add(layers.Dense(512, activation='relu'))\n",
        "CIFAR.add(layers.Dense(256, activation='relu'))\n",
        "CIFAR.add(layers.Dense(128, activation='relu'))\n",
        "CIFAR.add(layers.Dense(10, activation='softmax'))"
      ],
      "execution_count": 16,
      "outputs": []
    },
    {
      "cell_type": "code",
      "metadata": {
        "colab": {
          "base_uri": "https://localhost:8080/"
        },
        "id": "pTt51TSRgfsO",
        "outputId": "e6240030-7bf3-46c7-a7e6-44b8d682de49"
      },
      "source": [
        "CIFAR.summary()"
      ],
      "execution_count": 17,
      "outputs": [
        {
          "output_type": "stream",
          "text": [
            "Model: \"sequential\"\n",
            "_________________________________________________________________\n",
            "Layer (type)                 Output Shape              Param #   \n",
            "=================================================================\n",
            "dense (Dense)                (None, 2048)              6293504   \n",
            "_________________________________________________________________\n",
            "dense_1 (Dense)              (None, 1024)              2098176   \n",
            "_________________________________________________________________\n",
            "dense_2 (Dense)              (None, 512)               524800    \n",
            "_________________________________________________________________\n",
            "dense_3 (Dense)              (None, 256)               131328    \n",
            "_________________________________________________________________\n",
            "dense_4 (Dense)              (None, 128)               32896     \n",
            "_________________________________________________________________\n",
            "dense_5 (Dense)              (None, 10)                1290      \n",
            "=================================================================\n",
            "Total params: 9,081,994\n",
            "Trainable params: 9,081,994\n",
            "Non-trainable params: 0\n",
            "_________________________________________________________________\n"
          ],
          "name": "stdout"
        }
      ]
    },
    {
      "cell_type": "code",
      "metadata": {
        "id": "OcIMed_Hgljn"
      },
      "source": [
        "CIFAR.compile(loss='categorical_crossentropy', optimizer='rmsprop',metrics=['accuracy'])"
      ],
      "execution_count": 18,
      "outputs": []
    },
    {
      "cell_type": "code",
      "metadata": {
        "colab": {
          "base_uri": "https://localhost:8080/"
        },
        "id": "KVYYZLzFgvAK",
        "outputId": "4e456b8b-9909-45b7-bf51-4d9d4843189b"
      },
      "source": [
        "%%time\n",
        "\n",
        "Hist = CIFAR.fit(X_train, y_train, epochs=100, batch_size=128, validation_split=0.2)"
      ],
      "execution_count": 19,
      "outputs": [
        {
          "output_type": "stream",
          "text": [
            "Epoch 1/100\n",
            "313/313 [==============================] - 6s 9ms/step - loss: 2.9166 - accuracy: 0.1575 - val_loss: 1.9697 - val_accuracy: 0.2879\n",
            "Epoch 2/100\n",
            "313/313 [==============================] - 2s 8ms/step - loss: 1.9203 - accuracy: 0.3065 - val_loss: 1.9427 - val_accuracy: 0.3053\n",
            "Epoch 3/100\n",
            "313/313 [==============================] - 2s 8ms/step - loss: 1.8235 - accuracy: 0.3428 - val_loss: 1.8722 - val_accuracy: 0.3482\n",
            "Epoch 4/100\n",
            "313/313 [==============================] - 2s 8ms/step - loss: 1.7389 - accuracy: 0.3788 - val_loss: 1.7358 - val_accuracy: 0.3683\n",
            "Epoch 5/100\n",
            "313/313 [==============================] - 2s 8ms/step - loss: 1.6730 - accuracy: 0.4002 - val_loss: 1.6810 - val_accuracy: 0.3966\n",
            "Epoch 6/100\n",
            "313/313 [==============================] - 2s 8ms/step - loss: 1.6321 - accuracy: 0.4196 - val_loss: 1.7906 - val_accuracy: 0.3687\n",
            "Epoch 7/100\n",
            "313/313 [==============================] - 2s 8ms/step - loss: 1.5945 - accuracy: 0.4333 - val_loss: 1.6397 - val_accuracy: 0.4233\n",
            "Epoch 8/100\n",
            "313/313 [==============================] - 2s 8ms/step - loss: 1.5543 - accuracy: 0.4417 - val_loss: 1.6999 - val_accuracy: 0.4124\n",
            "Epoch 9/100\n",
            "313/313 [==============================] - 2s 8ms/step - loss: 1.5244 - accuracy: 0.4583 - val_loss: 1.7014 - val_accuracy: 0.4054\n",
            "Epoch 10/100\n",
            "313/313 [==============================] - 2s 8ms/step - loss: 1.4882 - accuracy: 0.4656 - val_loss: 1.6371 - val_accuracy: 0.4275\n",
            "Epoch 11/100\n",
            "313/313 [==============================] - 2s 8ms/step - loss: 1.4781 - accuracy: 0.4711 - val_loss: 1.6525 - val_accuracy: 0.4147\n",
            "Epoch 12/100\n",
            "313/313 [==============================] - 2s 8ms/step - loss: 1.4362 - accuracy: 0.4887 - val_loss: 1.6127 - val_accuracy: 0.4443\n",
            "Epoch 13/100\n",
            "313/313 [==============================] - 2s 8ms/step - loss: 1.4038 - accuracy: 0.4980 - val_loss: 1.6378 - val_accuracy: 0.4362\n",
            "Epoch 14/100\n",
            "313/313 [==============================] - 2s 8ms/step - loss: 1.3915 - accuracy: 0.5041 - val_loss: 1.7048 - val_accuracy: 0.4189\n",
            "Epoch 15/100\n",
            "313/313 [==============================] - 2s 8ms/step - loss: 1.3844 - accuracy: 0.5046 - val_loss: 2.0180 - val_accuracy: 0.3895\n",
            "Epoch 16/100\n",
            "313/313 [==============================] - 2s 8ms/step - loss: 1.3602 - accuracy: 0.5181 - val_loss: 1.6545 - val_accuracy: 0.4557\n",
            "Epoch 17/100\n",
            "313/313 [==============================] - 2s 8ms/step - loss: 1.3253 - accuracy: 0.5218 - val_loss: 1.5032 - val_accuracy: 0.4836\n",
            "Epoch 18/100\n",
            "313/313 [==============================] - 2s 8ms/step - loss: 1.3229 - accuracy: 0.5274 - val_loss: 1.7627 - val_accuracy: 0.4673\n",
            "Epoch 19/100\n",
            "313/313 [==============================] - 2s 8ms/step - loss: 1.2974 - accuracy: 0.5349 - val_loss: 1.6446 - val_accuracy: 0.4847\n",
            "Epoch 20/100\n",
            "313/313 [==============================] - 2s 8ms/step - loss: 1.2748 - accuracy: 0.5440 - val_loss: 1.8014 - val_accuracy: 0.4316\n",
            "Epoch 21/100\n",
            "313/313 [==============================] - 2s 8ms/step - loss: 1.2709 - accuracy: 0.5491 - val_loss: 1.7479 - val_accuracy: 0.4459\n",
            "Epoch 22/100\n",
            "313/313 [==============================] - 2s 8ms/step - loss: 1.2637 - accuracy: 0.5490 - val_loss: 1.7052 - val_accuracy: 0.4819\n",
            "Epoch 23/100\n",
            "313/313 [==============================] - 2s 8ms/step - loss: 1.2334 - accuracy: 0.5634 - val_loss: 1.7444 - val_accuracy: 0.4588\n",
            "Epoch 24/100\n",
            "313/313 [==============================] - 2s 8ms/step - loss: 1.2195 - accuracy: 0.5706 - val_loss: 1.5860 - val_accuracy: 0.4930\n",
            "Epoch 25/100\n",
            "313/313 [==============================] - 2s 8ms/step - loss: 1.1958 - accuracy: 0.5725 - val_loss: 1.5939 - val_accuracy: 0.4774\n",
            "Epoch 26/100\n",
            "313/313 [==============================] - 2s 8ms/step - loss: 1.1868 - accuracy: 0.5759 - val_loss: 1.8176 - val_accuracy: 0.5103\n",
            "Epoch 27/100\n",
            "313/313 [==============================] - 2s 8ms/step - loss: 1.1873 - accuracy: 0.5770 - val_loss: 1.7573 - val_accuracy: 0.4776\n",
            "Epoch 28/100\n",
            "313/313 [==============================] - 2s 8ms/step - loss: 1.1504 - accuracy: 0.5907 - val_loss: 1.9681 - val_accuracy: 0.4631\n",
            "Epoch 29/100\n",
            "313/313 [==============================] - 2s 8ms/step - loss: 1.1394 - accuracy: 0.5968 - val_loss: 2.3046 - val_accuracy: 0.4355\n",
            "Epoch 30/100\n",
            "313/313 [==============================] - 2s 8ms/step - loss: 1.1405 - accuracy: 0.5978 - val_loss: 1.6612 - val_accuracy: 0.4850\n",
            "Epoch 31/100\n",
            "313/313 [==============================] - 2s 8ms/step - loss: 1.1281 - accuracy: 0.5986 - val_loss: 2.0413 - val_accuracy: 0.4741\n",
            "Epoch 32/100\n",
            "313/313 [==============================] - 2s 8ms/step - loss: 1.1196 - accuracy: 0.6035 - val_loss: 2.1497 - val_accuracy: 0.4878\n",
            "Epoch 33/100\n",
            "313/313 [==============================] - 2s 8ms/step - loss: 1.1035 - accuracy: 0.6105 - val_loss: 1.9353 - val_accuracy: 0.4616\n",
            "Epoch 34/100\n",
            "313/313 [==============================] - 2s 8ms/step - loss: 1.0954 - accuracy: 0.6171 - val_loss: 1.9738 - val_accuracy: 0.4965\n",
            "Epoch 35/100\n",
            "313/313 [==============================] - 2s 8ms/step - loss: 1.0828 - accuracy: 0.6178 - val_loss: 1.7805 - val_accuracy: 0.4871\n",
            "Epoch 36/100\n",
            "313/313 [==============================] - 2s 8ms/step - loss: 1.0674 - accuracy: 0.6208 - val_loss: 2.1852 - val_accuracy: 0.4874\n",
            "Epoch 37/100\n",
            "313/313 [==============================] - 2s 8ms/step - loss: 1.0520 - accuracy: 0.6292 - val_loss: 2.0428 - val_accuracy: 0.4971\n",
            "Epoch 38/100\n",
            "313/313 [==============================] - 2s 8ms/step - loss: 1.0469 - accuracy: 0.6354 - val_loss: 2.7522 - val_accuracy: 0.4930\n",
            "Epoch 39/100\n",
            "313/313 [==============================] - 2s 8ms/step - loss: 1.0447 - accuracy: 0.6323 - val_loss: 1.8491 - val_accuracy: 0.5002\n",
            "Epoch 40/100\n",
            "313/313 [==============================] - 2s 8ms/step - loss: 1.0078 - accuracy: 0.6403 - val_loss: 2.2833 - val_accuracy: 0.4583\n",
            "Epoch 41/100\n",
            "313/313 [==============================] - 2s 8ms/step - loss: 1.0467 - accuracy: 0.6498 - val_loss: 2.1430 - val_accuracy: 0.4527\n",
            "Epoch 42/100\n",
            "313/313 [==============================] - 2s 8ms/step - loss: 0.9716 - accuracy: 0.6550 - val_loss: 3.1461 - val_accuracy: 0.4871\n",
            "Epoch 43/100\n",
            "313/313 [==============================] - 2s 8ms/step - loss: 0.9770 - accuracy: 0.6586 - val_loss: 2.4463 - val_accuracy: 0.4759\n",
            "Epoch 44/100\n",
            "313/313 [==============================] - 2s 8ms/step - loss: 0.9849 - accuracy: 0.6563 - val_loss: 2.6033 - val_accuracy: 0.5072\n",
            "Epoch 45/100\n",
            "313/313 [==============================] - 2s 8ms/step - loss: 0.9734 - accuracy: 0.6614 - val_loss: 2.3635 - val_accuracy: 0.4679\n",
            "Epoch 46/100\n",
            "313/313 [==============================] - 2s 8ms/step - loss: 0.9499 - accuracy: 0.6746 - val_loss: 2.4632 - val_accuracy: 0.5057\n",
            "Epoch 47/100\n",
            "313/313 [==============================] - 2s 8ms/step - loss: 0.9176 - accuracy: 0.6746 - val_loss: 3.0218 - val_accuracy: 0.4895\n",
            "Epoch 48/100\n",
            "313/313 [==============================] - 2s 8ms/step - loss: 0.9356 - accuracy: 0.6782 - val_loss: 2.4696 - val_accuracy: 0.4880\n",
            "Epoch 49/100\n",
            "313/313 [==============================] - 2s 8ms/step - loss: 0.9273 - accuracy: 0.6813 - val_loss: 2.3647 - val_accuracy: 0.5051\n",
            "Epoch 50/100\n",
            "313/313 [==============================] - 2s 8ms/step - loss: 0.9241 - accuracy: 0.6888 - val_loss: 2.8570 - val_accuracy: 0.4891\n",
            "Epoch 51/100\n",
            "313/313 [==============================] - 2s 8ms/step - loss: 0.8863 - accuracy: 0.6940 - val_loss: 3.0459 - val_accuracy: 0.4576\n",
            "Epoch 52/100\n",
            "313/313 [==============================] - 2s 8ms/step - loss: 0.8824 - accuracy: 0.6982 - val_loss: 2.8674 - val_accuracy: 0.5023\n",
            "Epoch 53/100\n",
            "313/313 [==============================] - 2s 8ms/step - loss: 0.8628 - accuracy: 0.6961 - val_loss: 2.8114 - val_accuracy: 0.4946\n",
            "Epoch 54/100\n",
            "313/313 [==============================] - 2s 8ms/step - loss: 0.8537 - accuracy: 0.7031 - val_loss: 4.0104 - val_accuracy: 0.4956\n",
            "Epoch 55/100\n",
            "313/313 [==============================] - 2s 8ms/step - loss: 0.8307 - accuracy: 0.7083 - val_loss: 3.3883 - val_accuracy: 0.4956\n",
            "Epoch 56/100\n",
            "313/313 [==============================] - 2s 8ms/step - loss: 0.8420 - accuracy: 0.7109 - val_loss: 3.0424 - val_accuracy: 0.5040\n",
            "Epoch 57/100\n",
            "313/313 [==============================] - 2s 8ms/step - loss: 0.8443 - accuracy: 0.7160 - val_loss: 3.4880 - val_accuracy: 0.4860\n",
            "Epoch 58/100\n",
            "313/313 [==============================] - 2s 8ms/step - loss: 0.8290 - accuracy: 0.7174 - val_loss: 3.0101 - val_accuracy: 0.4736\n",
            "Epoch 59/100\n",
            "313/313 [==============================] - 2s 8ms/step - loss: 0.8537 - accuracy: 0.7185 - val_loss: 3.2806 - val_accuracy: 0.4828\n",
            "Epoch 60/100\n",
            "313/313 [==============================] - 2s 8ms/step - loss: 0.8008 - accuracy: 0.7267 - val_loss: 3.3674 - val_accuracy: 0.4878\n",
            "Epoch 61/100\n",
            "313/313 [==============================] - 2s 8ms/step - loss: 0.8316 - accuracy: 0.7268 - val_loss: 3.0070 - val_accuracy: 0.4805\n",
            "Epoch 62/100\n",
            "313/313 [==============================] - 2s 8ms/step - loss: 0.7797 - accuracy: 0.7322 - val_loss: 2.6281 - val_accuracy: 0.4942\n",
            "Epoch 63/100\n",
            "313/313 [==============================] - 2s 8ms/step - loss: 0.7742 - accuracy: 0.7330 - val_loss: 2.8261 - val_accuracy: 0.4812\n",
            "Epoch 64/100\n",
            "313/313 [==============================] - 2s 8ms/step - loss: 0.7608 - accuracy: 0.7336 - val_loss: 3.8374 - val_accuracy: 0.4929\n",
            "Epoch 65/100\n",
            "313/313 [==============================] - 2s 8ms/step - loss: 0.7864 - accuracy: 0.7357 - val_loss: 3.5843 - val_accuracy: 0.4791\n",
            "Epoch 66/100\n",
            "313/313 [==============================] - 2s 8ms/step - loss: 0.7649 - accuracy: 0.7458 - val_loss: 3.4469 - val_accuracy: 0.4964\n",
            "Epoch 67/100\n",
            "313/313 [==============================] - 2s 8ms/step - loss: 0.8302 - accuracy: 0.7454 - val_loss: 4.1953 - val_accuracy: 0.4785\n",
            "Epoch 68/100\n",
            "313/313 [==============================] - 2s 8ms/step - loss: 0.7351 - accuracy: 0.7491 - val_loss: 4.5431 - val_accuracy: 0.4954\n",
            "Epoch 69/100\n",
            "313/313 [==============================] - 2s 8ms/step - loss: 0.7688 - accuracy: 0.7555 - val_loss: 2.1957 - val_accuracy: 0.4823\n",
            "Epoch 70/100\n",
            "313/313 [==============================] - 2s 8ms/step - loss: 0.7022 - accuracy: 0.7582 - val_loss: 3.1343 - val_accuracy: 0.5050\n",
            "Epoch 71/100\n",
            "313/313 [==============================] - 2s 8ms/step - loss: 0.7065 - accuracy: 0.7636 - val_loss: 3.9253 - val_accuracy: 0.4705\n",
            "Epoch 72/100\n",
            "313/313 [==============================] - 2s 8ms/step - loss: 0.7393 - accuracy: 0.7630 - val_loss: 3.3500 - val_accuracy: 0.4872\n",
            "Epoch 73/100\n",
            "313/313 [==============================] - 2s 8ms/step - loss: 0.6589 - accuracy: 0.7709 - val_loss: 3.8011 - val_accuracy: 0.5019\n",
            "Epoch 74/100\n",
            "313/313 [==============================] - 2s 8ms/step - loss: 0.6693 - accuracy: 0.7662 - val_loss: 5.1539 - val_accuracy: 0.4815\n",
            "Epoch 75/100\n",
            "313/313 [==============================] - 2s 8ms/step - loss: 0.6942 - accuracy: 0.7667 - val_loss: 3.5820 - val_accuracy: 0.5061\n",
            "Epoch 76/100\n",
            "313/313 [==============================] - 2s 8ms/step - loss: 0.6643 - accuracy: 0.7756 - val_loss: 3.8102 - val_accuracy: 0.4986\n",
            "Epoch 77/100\n",
            "313/313 [==============================] - 2s 8ms/step - loss: 0.6678 - accuracy: 0.7714 - val_loss: 3.0185 - val_accuracy: 0.4933\n",
            "Epoch 78/100\n",
            "313/313 [==============================] - 2s 8ms/step - loss: 0.7028 - accuracy: 0.7789 - val_loss: 3.8649 - val_accuracy: 0.4859\n",
            "Epoch 79/100\n",
            "313/313 [==============================] - 2s 8ms/step - loss: 0.6746 - accuracy: 0.7739 - val_loss: 5.5776 - val_accuracy: 0.4550\n",
            "Epoch 80/100\n",
            "313/313 [==============================] - 2s 8ms/step - loss: 0.6969 - accuracy: 0.7798 - val_loss: 5.2827 - val_accuracy: 0.4910\n",
            "Epoch 81/100\n",
            "313/313 [==============================] - 2s 8ms/step - loss: 0.6198 - accuracy: 0.7901 - val_loss: 5.5216 - val_accuracy: 0.4857\n",
            "Epoch 82/100\n",
            "313/313 [==============================] - 2s 8ms/step - loss: 0.6327 - accuracy: 0.7856 - val_loss: 3.9729 - val_accuracy: 0.4806\n",
            "Epoch 83/100\n",
            "313/313 [==============================] - 2s 8ms/step - loss: 0.6275 - accuracy: 0.7910 - val_loss: 4.8894 - val_accuracy: 0.4973\n",
            "Epoch 84/100\n",
            "313/313 [==============================] - 2s 8ms/step - loss: 0.6309 - accuracy: 0.7906 - val_loss: 7.6630 - val_accuracy: 0.4258\n",
            "Epoch 85/100\n",
            "313/313 [==============================] - 2s 8ms/step - loss: 0.6774 - accuracy: 0.7776 - val_loss: 3.6130 - val_accuracy: 0.5016\n",
            "Epoch 86/100\n",
            "313/313 [==============================] - 2s 8ms/step - loss: 0.6620 - accuracy: 0.7928 - val_loss: 4.7729 - val_accuracy: 0.5001\n",
            "Epoch 87/100\n",
            "313/313 [==============================] - 2s 8ms/step - loss: 0.6047 - accuracy: 0.7978 - val_loss: 5.2440 - val_accuracy: 0.5031\n",
            "Epoch 88/100\n",
            "313/313 [==============================] - 2s 8ms/step - loss: 0.6375 - accuracy: 0.8030 - val_loss: 5.4043 - val_accuracy: 0.4830\n",
            "Epoch 89/100\n",
            "313/313 [==============================] - 2s 8ms/step - loss: 0.5879 - accuracy: 0.7998 - val_loss: 5.4833 - val_accuracy: 0.4866\n",
            "Epoch 90/100\n",
            "313/313 [==============================] - 2s 8ms/step - loss: 0.6101 - accuracy: 0.8095 - val_loss: 4.8088 - val_accuracy: 0.4818\n",
            "Epoch 91/100\n",
            "313/313 [==============================] - 2s 8ms/step - loss: 0.5820 - accuracy: 0.8124 - val_loss: 4.6280 - val_accuracy: 0.4680\n",
            "Epoch 92/100\n",
            "313/313 [==============================] - 2s 8ms/step - loss: 0.5543 - accuracy: 0.8161 - val_loss: 5.3156 - val_accuracy: 0.4615\n",
            "Epoch 93/100\n",
            "313/313 [==============================] - 2s 8ms/step - loss: 0.5704 - accuracy: 0.8117 - val_loss: 4.7731 - val_accuracy: 0.4869\n",
            "Epoch 94/100\n",
            "313/313 [==============================] - 2s 8ms/step - loss: 0.5406 - accuracy: 0.8201 - val_loss: 4.9429 - val_accuracy: 0.4959\n",
            "Epoch 95/100\n",
            "313/313 [==============================] - 2s 8ms/step - loss: 0.5701 - accuracy: 0.8168 - val_loss: 4.7260 - val_accuracy: 0.4647\n",
            "Epoch 96/100\n",
            "313/313 [==============================] - 2s 8ms/step - loss: 0.5250 - accuracy: 0.8220 - val_loss: 4.8190 - val_accuracy: 0.4594\n",
            "Epoch 97/100\n",
            "313/313 [==============================] - 2s 8ms/step - loss: 0.6114 - accuracy: 0.8135 - val_loss: 4.9057 - val_accuracy: 0.4907\n",
            "Epoch 98/100\n",
            "313/313 [==============================] - 2s 8ms/step - loss: 0.5514 - accuracy: 0.8264 - val_loss: 3.7471 - val_accuracy: 0.4615\n",
            "Epoch 99/100\n",
            "313/313 [==============================] - 2s 8ms/step - loss: 0.5372 - accuracy: 0.8249 - val_loss: 4.5859 - val_accuracy: 0.4964\n",
            "Epoch 100/100\n",
            "313/313 [==============================] - 2s 8ms/step - loss: 0.5406 - accuracy: 0.8291 - val_loss: 4.9304 - val_accuracy: 0.4816\n",
            "CPU times: user 3min 22s, sys: 1min 4s, total: 4min 26s\n",
            "Wall time: 4min 5s\n"
          ],
          "name": "stdout"
        }
      ]
    },
    {
      "cell_type": "code",
      "metadata": {
        "colab": {
          "base_uri": "https://localhost:8080/",
          "height": 377
        },
        "id": "VG2_I9lNg22X",
        "outputId": "4665afd6-2a7c-496b-bf62-caad624787b7"
      },
      "source": [
        "import matplotlib.pyplot as plt\n",
        "\n",
        "epochs = range(1, len(Hist.history['loss'])+1)\n",
        "\n",
        "plt.figure(figsize=(9,6))\n",
        "plt.plot(epochs, Hist.history['loss'])\n",
        "plt.plot(epochs, Hist.history['val_loss'])\n",
        "plt.legend(['Training Loss','Test Loss'])\n",
        "plt.grid()\n",
        "plt.show()"
      ],
      "execution_count": 20,
      "outputs": [
        {
          "output_type": "display_data",
          "data": {
            "image/png": "[encoded data removed]",
            "text/plain": [
              "<Figure size 648x432 with 1 Axes>"
            ]
          },
          "metadata": {
            "tags": [],
            "needs_background": "light"
          }
        }
      ]
    },
    {
      "cell_type": "code",
      "metadata": {
        "colab": {
          "base_uri": "https://localhost:8080/"
        },
        "id": "eLujRoYVhOUO",
        "outputId": "7f5a63a6-8047-4dc5-877d-121c404aae1a"
      },
      "source": [
        "loss, accuracy = CIFAR.evaluate(X_test, y_test)\n",
        "\n",
        "loss, accuracy"
      ],
      "execution_count": 21,
      "outputs": [
        {
          "output_type": "stream",
          "text": [
            "313/313 [==============================] - 1s 2ms/step - loss: 4.4462 - accuracy: 0.4848\n"
          ],
          "name": "stdout"
        },
        {
          "output_type": "execute_result",
          "data": {
            "text/plain": [
              "(4.446178436279297, 0.4848000109195709)"
            ]
          },
          "metadata": {
            "tags": []
          },
          "execution_count": 21
        }
      ]
    },
    {
      "cell_type": "code",
      "metadata": {
        "colab": {
          "base_uri": "https://localhost:8080/"
        },
        "id": "HUqBmt9HhTeq",
        "outputId": "e730123d-904f-4595-e359-14d4166e0bba"
      },
      "source": [
        "np.set_printoptions(suppress=True, precision=9)\n",
        "print(CIFAR.predict(X_test[:1, :]))"
      ],
      "execution_count": 22,
      "outputs": [
        {
          "output_type": "stream",
          "text": [
            "[[0.          0.          0.000009504 0.99966     0.000001129 0.000011316 0.000317977 0.          0.          0.         ]]\n"
          ],
          "name": "stdout"
        }
      ]
    },
    {
      "cell_type": "code",
      "metadata": {
        "colab": {
          "base_uri": "https://localhost:8080/"
        },
        "id": "-Nn2-bQMhgnR",
        "outputId": "8dbc488d-5357-4f66-e77c-9352300e099f"
      },
      "source": [
        "print(CIFAR.predict_classes(X_test[:1, :]))"
      ],
      "execution_count": 23,
      "outputs": [
        {
          "output_type": "stream",
          "text": [
            "[3]\n"
          ],
          "name": "stdout"
        },
        {
          "output_type": "stream",
          "text": [
            "/usr/local/lib/python3.7/dist-packages/tensorflow/python/keras/engine/sequential.py:450: UserWarning: `model.predict_classes()` is deprecated and will be removed after 2021-01-01. Please use instead:* `np.argmax(model.predict(x), axis=-1)`,   if your model does multi-class classification   (e.g. if it uses a `softmax` last-layer activation).* `(model.predict(x) > 0.5).astype(\"int32\")`,   if your model does binary classification   (e.g. if it uses a `sigmoid` last-layer activation).\n",
            "  warnings.warn('`model.predict_classes()` is deprecated and '\n"
          ],
          "name": "stderr"
        }
      ]
    },
    {
      "cell_type": "code",
      "metadata": {
        "id": "Ji14hh7hhl5W"
      },
      "source": [
        ""
      ],
      "execution_count": null,
      "outputs": []
    }
  ]
}