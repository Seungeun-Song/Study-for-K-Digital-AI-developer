{
  "nbformat": 4,
  "nbformat_minor": 0,
  "metadata": {
    "colab": {
      "name": "016_Association_Rules.ipynb",
      "provenance": [],
      "toc_visible": true
    },
    "kernelspec": {
      "name": "python3",
      "display_name": "Python 3"
    }
  },
  "cells": [
    {
      "cell_type": "markdown",
      "metadata": {
        "id": "G2tKF173_utb"
      },
      "source": [
        "# Association Rules - 연관규칙"
      ]
    },
    {
      "cell_type": "markdown",
      "metadata": {
        "id": "fnXFF3Nf_xwz"
      },
      "source": [
        "# 1, Read Data_Set and Preprocessing"
      ]
    },
    {
      "cell_type": "markdown",
      "metadata": {
        "id": "lgFHz2RV_3BU"
      },
      "source": [
        "### 1) Read 'orders.tsv'\r\n",
        "tsv = **tap** seperate values"
      ]
    },
    {
      "cell_type": "code",
      "metadata": {
        "colab": {
          "base_uri": "https://localhost:8080/"
        },
        "id": "jZxDpqK36CgV",
        "outputId": "c2118aeb-a45c-4242-8a97-8c367eb78f9c"
      },
      "source": [
        "import pandas as pd\r\n",
        "\r\n",
        "url = 'https://raw.githubusercontent.com/rusita-ai/pyData/master/orders.tsv'\r\n",
        "DF = pd.read_table(url)\r\n",
        "\r\n",
        "DF.info()"
      ],
      "execution_count": null,
      "outputs": [
        {
          "output_type": "stream",
          "text": [
            "<class 'pandas.core.frame.DataFrame'>\n",
            "RangeIndex: 4622 entries, 0 to 4621\n",
            "Data columns (total 5 columns):\n",
            " #   Column              Non-Null Count  Dtype \n",
            "---  ------              --------------  ----- \n",
            " 0   order_id            4622 non-null   int64 \n",
            " 1   quantity            4622 non-null   int64 \n",
            " 2   item_name           4622 non-null   object\n",
            " 3   choice_description  3376 non-null   object\n",
            " 4   item_price          4622 non-null   object\n",
            "dtypes: int64(2), object(3)\n",
            "memory usage: 180.7+ KB\n"
          ],
          "name": "stdout"
        }
      ]
    },
    {
      "cell_type": "code",
      "metadata": {
        "colab": {
          "base_uri": "https://localhost:8080/",
          "height": 198
        },
        "id": "Gs8F7SCM6kEy",
        "outputId": "d3c9a5cd-7158-4102-a7a6-16d623826a6a"
      },
      "source": [
        "DF.head()"
      ],
      "execution_count": 23,
      "outputs": [
        {
          "output_type": "execute_result",
          "data": {
            "text/html": [
              "<div>\n",
              "<style scoped>\n",
              "    .dataframe tbody tr th:only-of-type {\n",
              "        vertical-align: middle;\n",
              "    }\n",
              "\n",
              "    .dataframe tbody tr th {\n",
              "        vertical-align: top;\n",
              "    }\n",
              "\n",
              "    .dataframe thead th {\n",
              "        text-align: right;\n",
              "    }\n",
              "</style>\n",
              "<table border=\"1\" class=\"dataframe\">\n",
              "  <thead>\n",
              "    <tr style=\"text-align: right;\">\n",
              "      <th></th>\n",
              "      <th>order_id</th>\n",
              "      <th>quantity</th>\n",
              "      <th>item_name</th>\n",
              "      <th>choice_description</th>\n",
              "      <th>item_price</th>\n",
              "    </tr>\n",
              "  </thead>\n",
              "  <tbody>\n",
              "    <tr>\n",
              "      <th>0</th>\n",
              "      <td>1</td>\n",
              "      <td>1</td>\n",
              "      <td>Chips and Fresh Tomato Salsa</td>\n",
              "      <td>NaN</td>\n",
              "      <td>$2.39</td>\n",
              "    </tr>\n",
              "    <tr>\n",
              "      <th>1</th>\n",
              "      <td>1</td>\n",
              "      <td>1</td>\n",
              "      <td>Izze</td>\n",
              "      <td>[Clementine]</td>\n",
              "      <td>$3.39</td>\n",
              "    </tr>\n",
              "    <tr>\n",
              "      <th>2</th>\n",
              "      <td>1</td>\n",
              "      <td>1</td>\n",
              "      <td>Nantucket Nectar</td>\n",
              "      <td>[Apple]</td>\n",
              "      <td>$3.39</td>\n",
              "    </tr>\n",
              "    <tr>\n",
              "      <th>3</th>\n",
              "      <td>1</td>\n",
              "      <td>1</td>\n",
              "      <td>Chips and Tomatillo-Green Chili Salsa</td>\n",
              "      <td>NaN</td>\n",
              "      <td>$2.39</td>\n",
              "    </tr>\n",
              "    <tr>\n",
              "      <th>4</th>\n",
              "      <td>2</td>\n",
              "      <td>2</td>\n",
              "      <td>Chicken Bowl</td>\n",
              "      <td>[Tomatillo-Red Chili Salsa (Hot), [Black Beans...</td>\n",
              "      <td>$16.98</td>\n",
              "    </tr>\n",
              "  </tbody>\n",
              "</table>\n",
              "</div>"
            ],
            "text/plain": [
              "   order_id  ...  item_price\n",
              "0         1  ...      $2.39 \n",
              "1         1  ...      $3.39 \n",
              "2         1  ...      $3.39 \n",
              "3         1  ...      $2.39 \n",
              "4         2  ...     $16.98 \n",
              "\n",
              "[5 rows x 5 columns]"
            ]
          },
          "metadata": {
            "tags": []
          },
          "execution_count": 23
        }
      ]
    },
    {
      "cell_type": "code",
      "metadata": {
        "colab": {
          "base_uri": "https://localhost:8080/",
          "height": 138
        },
        "id": "A0hVuNH5WWh7",
        "outputId": "9235ea6b-c1f9-4379-f660-5f86438019ff"
      },
      "source": [
        "DF.tail(3)"
      ],
      "execution_count": 24,
      "outputs": [
        {
          "output_type": "execute_result",
          "data": {
            "text/html": [
              "<div>\n",
              "<style scoped>\n",
              "    .dataframe tbody tr th:only-of-type {\n",
              "        vertical-align: middle;\n",
              "    }\n",
              "\n",
              "    .dataframe tbody tr th {\n",
              "        vertical-align: top;\n",
              "    }\n",
              "\n",
              "    .dataframe thead th {\n",
              "        text-align: right;\n",
              "    }\n",
              "</style>\n",
              "<table border=\"1\" class=\"dataframe\">\n",
              "  <thead>\n",
              "    <tr style=\"text-align: right;\">\n",
              "      <th></th>\n",
              "      <th>order_id</th>\n",
              "      <th>quantity</th>\n",
              "      <th>item_name</th>\n",
              "      <th>choice_description</th>\n",
              "      <th>item_price</th>\n",
              "    </tr>\n",
              "  </thead>\n",
              "  <tbody>\n",
              "    <tr>\n",
              "      <th>4619</th>\n",
              "      <td>1834</td>\n",
              "      <td>1</td>\n",
              "      <td>Chicken Salad Bowl</td>\n",
              "      <td>[Fresh Tomato Salsa, [Fajita Vegetables, Pinto...</td>\n",
              "      <td>$11.25</td>\n",
              "    </tr>\n",
              "    <tr>\n",
              "      <th>4620</th>\n",
              "      <td>1834</td>\n",
              "      <td>1</td>\n",
              "      <td>Chicken Salad Bowl</td>\n",
              "      <td>[Fresh Tomato Salsa, [Fajita Vegetables, Lettu...</td>\n",
              "      <td>$8.75</td>\n",
              "    </tr>\n",
              "    <tr>\n",
              "      <th>4621</th>\n",
              "      <td>1834</td>\n",
              "      <td>1</td>\n",
              "      <td>Chicken Salad Bowl</td>\n",
              "      <td>[Fresh Tomato Salsa, [Fajita Vegetables, Pinto...</td>\n",
              "      <td>$8.75</td>\n",
              "    </tr>\n",
              "  </tbody>\n",
              "</table>\n",
              "</div>"
            ],
            "text/plain": [
              "      order_id  ...  item_price\n",
              "4619      1834  ...     $11.25 \n",
              "4620      1834  ...      $8.75 \n",
              "4621      1834  ...      $8.75 \n",
              "\n",
              "[3 rows x 5 columns]"
            ]
          },
          "metadata": {
            "tags": []
          },
          "execution_count": 24
        }
      ]
    },
    {
      "cell_type": "markdown",
      "metadata": {
        "id": "pLRWfUVP6x5x"
      },
      "source": [
        "## 2) 데이터 정보 확인\r\n",
        "* DF_1 지정 후 order_id  및 item_name 종류 확인\r\n",
        "* 한 개의 order_id가 여러개의 item_name으로 분리되어 지정"
      ]
    },
    {
      "cell_type": "code",
      "metadata": {
        "colab": {
          "base_uri": "https://localhost:8080/"
        },
        "id": "GYPEHv476oOu",
        "outputId": "5eb96d10-ce3d-482c-9c12-a5a89adbcbe9"
      },
      "source": [
        "DF_1 = DF[['order_id', 'item_name']]\r\n",
        "DF_1.order_id.unique().shape, DF_1.item_name.unique().shape"
      ],
      "execution_count": null,
      "outputs": [
        {
          "output_type": "execute_result",
          "data": {
            "text/plain": [
              "((1834,), (50,))"
            ]
          },
          "metadata": {
            "tags": []
          },
          "execution_count": 3
        }
      ]
    },
    {
      "cell_type": "markdown",
      "metadata": {
        "id": "wSr7BtmS7jSC"
      },
      "source": [
        "* order_id가 1834개"
      ]
    },
    {
      "cell_type": "code",
      "metadata": {
        "colab": {
          "base_uri": "https://localhost:8080/"
        },
        "id": "EnmWjXAw7SU6",
        "outputId": "7f6082fd-03c5-4f0a-e9c5-03b66012375d"
      },
      "source": [
        "order_ID = list(DF_1.order_id.unique())\r\n",
        "order_ID[:10], order_ID[-10:]"
      ],
      "execution_count": null,
      "outputs": [
        {
          "output_type": "execute_result",
          "data": {
            "text/plain": [
              "([1, 2, 3, 4, 5, 6, 7, 8, 9, 10],\n",
              " [1825, 1826, 1827, 1828, 1829, 1830, 1831, 1832, 1833, 1834])"
            ]
          },
          "metadata": {
            "tags": []
          },
          "execution_count": 5
        }
      ]
    },
    {
      "cell_type": "markdown",
      "metadata": {
        "id": "G9XgCkx97__R"
      },
      "source": [
        "* item_name은 50종류"
      ]
    },
    {
      "cell_type": "code",
      "metadata": {
        "colab": {
          "base_uri": "https://localhost:8080/"
        },
        "id": "6VCBSxb77fj2",
        "outputId": "d22dd930-20f3-404b-dca6-45495ef83909"
      },
      "source": [
        "item_NAME = list(DF_1.item_name.unique())\r\n",
        "item_NAME[:5], item_NAME[-5:]"
      ],
      "execution_count": null,
      "outputs": [
        {
          "output_type": "execute_result",
          "data": {
            "text/plain": [
              "(['Chips and Fresh Tomato Salsa',\n",
              "  'Izze',\n",
              "  'Nantucket Nectar',\n",
              "  'Chips and Tomatillo-Green Chili Salsa',\n",
              "  'Chicken Bowl'],\n",
              " ['Barbacoa Salad Bowl',\n",
              "  'Salad',\n",
              "  'Veggie Crispy Tacos',\n",
              "  'Veggie Salad',\n",
              "  'Carnitas Salad'])"
            ]
          },
          "metadata": {
            "tags": []
          },
          "execution_count": 8
        }
      ]
    },
    {
      "cell_type": "markdown",
      "metadata": {
        "id": "yEkYH9g08EWT"
      },
      "source": [
        "## 3) Preprocessing"
      ]
    },
    {
      "cell_type": "markdown",
      "metadata": {
        "id": "zSYJmj1-8SkQ"
      },
      "source": [
        "* 1835 길이의 2차원 리스트 생성"
      ]
    },
    {
      "cell_type": "code",
      "metadata": {
        "colab": {
          "base_uri": "https://localhost:8080/"
        },
        "id": "poM2pvHt73lu",
        "outputId": "22779ceb-ee9c-4a28-a34c-f17a9fad1fca"
      },
      "source": [
        "orderItems = [[] for i in range(1835)]\r\n",
        "len(orderItems)"
      ],
      "execution_count": null,
      "outputs": [
        {
          "output_type": "execute_result",
          "data": {
            "text/plain": [
              "1835"
            ]
          },
          "metadata": {
            "tags": []
          },
          "execution_count": 9
        }
      ]
    },
    {
      "cell_type": "markdown",
      "metadata": {
        "id": "r-OZtBTv88FV"
      },
      "source": [
        "* order_id 별로 item_name 묶기"
      ]
    },
    {
      "cell_type": "code",
      "metadata": {
        "id": "2UIFmmNT8Rm4"
      },
      "source": [
        "num = 0\r\n",
        "\r\n",
        "for i in DF_1.item_name:\r\n",
        "  orderItems[DF_1.order_id[num]].append(i)\r\n",
        "  num = num + 1"
      ],
      "execution_count": null,
      "outputs": []
    },
    {
      "cell_type": "code",
      "metadata": {
        "colab": {
          "base_uri": "https://localhost:8080/"
        },
        "id": "w-BLRIJ_8cHF",
        "outputId": "2f8fda7f-db87-4404-f992-cd9ee6042ba9"
      },
      "source": [
        "orderItems[:5], orderItems[-5:]"
      ],
      "execution_count": null,
      "outputs": [
        {
          "output_type": "execute_result",
          "data": {
            "text/plain": [
              "([[],\n",
              "  ['Chips and Fresh Tomato Salsa',\n",
              "   'Izze',\n",
              "   'Nantucket Nectar',\n",
              "   'Chips and Tomatillo-Green Chili Salsa'],\n",
              "  ['Chicken Bowl'],\n",
              "  ['Chicken Bowl', 'Side of Chips'],\n",
              "  ['Steak Burrito', 'Steak Soft Tacos']],\n",
              " [['Steak Burrito', 'Veggie Burrito'],\n",
              "  ['Carnitas Bowl', 'Chips', 'Bottled Water'],\n",
              "  ['Chicken Soft Tacos', 'Chips and Guacamole'],\n",
              "  ['Steak Burrito', 'Steak Burrito'],\n",
              "  ['Chicken Salad Bowl', 'Chicken Salad Bowl', 'Chicken Salad Bowl']])"
            ]
          },
          "metadata": {
            "tags": []
          },
          "execution_count": 12
        }
      ]
    },
    {
      "cell_type": "markdown",
      "metadata": {
        "id": "J4h02RrW9CVB"
      },
      "source": [
        "* 첫번째 빈 리스트 제거 및 중복 아이템 단일화"
      ]
    },
    {
      "cell_type": "code",
      "metadata": {
        "id": "DeSBPnj187US"
      },
      "source": [
        "orderItems.pop(0)\r\n",
        "\r\n",
        "num = 0\r\n",
        "for i in orderItems:\r\n",
        "  orderItems[num] = list(set(orderItems[num]))\r\n",
        "  num = num + 1"
      ],
      "execution_count": null,
      "outputs": []
    },
    {
      "cell_type": "code",
      "metadata": {
        "colab": {
          "base_uri": "https://localhost:8080/"
        },
        "id": "7GPXfkm09asg",
        "outputId": "198ab524-7a2b-490b-89b7-40b2c0d5341c"
      },
      "source": [
        "orderItems[:5], orderItems[-5:]"
      ],
      "execution_count": null,
      "outputs": [
        {
          "output_type": "execute_result",
          "data": {
            "text/plain": [
              "([['Izze',\n",
              "   'Chips and Fresh Tomato Salsa',\n",
              "   'Nantucket Nectar',\n",
              "   'Chips and Tomatillo-Green Chili Salsa'],\n",
              "  ['Chicken Bowl'],\n",
              "  ['Side of Chips', 'Chicken Bowl'],\n",
              "  ['Steak Burrito', 'Steak Soft Tacos'],\n",
              "  ['Steak Burrito', 'Chips and Guacamole']],\n",
              " [['Steak Burrito', 'Veggie Burrito'],\n",
              "  ['Chips', 'Bottled Water', 'Carnitas Bowl'],\n",
              "  ['Chicken Soft Tacos', 'Chips and Guacamole'],\n",
              "  ['Steak Burrito'],\n",
              "  ['Chicken Salad Bowl']])"
            ]
          },
          "metadata": {
            "tags": []
          },
          "execution_count": 14
        }
      ]
    },
    {
      "cell_type": "markdown",
      "metadata": {
        "id": "tjrvnv7E9gnV"
      },
      "source": [
        "# 2, TransactionEncoder()"
      ]
    },
    {
      "cell_type": "code",
      "metadata": {
        "id": "3Vw7rETd9ctV"
      },
      "source": [
        "from mlxtend.preprocessing import TransactionEncoder\r\n",
        "\r\n",
        "TSE = TransactionEncoder()\r\n",
        "Transac_Array = TSE.fit_transform(orderItems)"
      ],
      "execution_count": null,
      "outputs": []
    },
    {
      "cell_type": "markdown",
      "metadata": {
        "id": "b76ueS7h930A"
      },
      "source": [
        "* pandas DataFrame 구조 변환"
      ]
    },
    {
      "cell_type": "code",
      "metadata": {
        "colab": {
          "base_uri": "https://localhost:8080/",
          "height": 301
        },
        "id": "kC6E_Tjj9xBm",
        "outputId": "ea0b7d4e-da8f-409a-d602-475897234b3e"
      },
      "source": [
        "order_DF = pd.DataFrame(Transac_Array, columns=TSE.columns_)\r\n",
        "order_DF.head()"
      ],
      "execution_count": null,
      "outputs": [
        {
          "output_type": "execute_result",
          "data": {
            "text/html": [
              "<div>\n",
              "<style scoped>\n",
              "    .dataframe tbody tr th:only-of-type {\n",
              "        vertical-align: middle;\n",
              "    }\n",
              "\n",
              "    .dataframe tbody tr th {\n",
              "        vertical-align: top;\n",
              "    }\n",
              "\n",
              "    .dataframe thead th {\n",
              "        text-align: right;\n",
              "    }\n",
              "</style>\n",
              "<table border=\"1\" class=\"dataframe\">\n",
              "  <thead>\n",
              "    <tr style=\"text-align: right;\">\n",
              "      <th></th>\n",
              "      <th>6 Pack Soft Drink</th>\n",
              "      <th>Barbacoa Bowl</th>\n",
              "      <th>Barbacoa Burrito</th>\n",
              "      <th>Barbacoa Crispy Tacos</th>\n",
              "      <th>Barbacoa Salad Bowl</th>\n",
              "      <th>Barbacoa Soft Tacos</th>\n",
              "      <th>Bottled Water</th>\n",
              "      <th>Bowl</th>\n",
              "      <th>Burrito</th>\n",
              "      <th>Canned Soda</th>\n",
              "      <th>Canned Soft Drink</th>\n",
              "      <th>Carnitas Bowl</th>\n",
              "      <th>Carnitas Burrito</th>\n",
              "      <th>Carnitas Crispy Tacos</th>\n",
              "      <th>Carnitas Salad</th>\n",
              "      <th>Carnitas Salad Bowl</th>\n",
              "      <th>Carnitas Soft Tacos</th>\n",
              "      <th>Chicken Bowl</th>\n",
              "      <th>Chicken Burrito</th>\n",
              "      <th>Chicken Crispy Tacos</th>\n",
              "      <th>Chicken Salad</th>\n",
              "      <th>Chicken Salad Bowl</th>\n",
              "      <th>Chicken Soft Tacos</th>\n",
              "      <th>Chips</th>\n",
              "      <th>Chips and Fresh Tomato Salsa</th>\n",
              "      <th>Chips and Guacamole</th>\n",
              "      <th>Chips and Mild Fresh Tomato Salsa</th>\n",
              "      <th>Chips and Roasted Chili Corn Salsa</th>\n",
              "      <th>Chips and Roasted Chili-Corn Salsa</th>\n",
              "      <th>Chips and Tomatillo Green Chili Salsa</th>\n",
              "      <th>Chips and Tomatillo Red Chili Salsa</th>\n",
              "      <th>Chips and Tomatillo-Green Chili Salsa</th>\n",
              "      <th>Chips and Tomatillo-Red Chili Salsa</th>\n",
              "      <th>Crispy Tacos</th>\n",
              "      <th>Izze</th>\n",
              "      <th>Nantucket Nectar</th>\n",
              "      <th>Salad</th>\n",
              "      <th>Side of Chips</th>\n",
              "      <th>Steak Bowl</th>\n",
              "      <th>Steak Burrito</th>\n",
              "      <th>Steak Crispy Tacos</th>\n",
              "      <th>Steak Salad</th>\n",
              "      <th>Steak Salad Bowl</th>\n",
              "      <th>Steak Soft Tacos</th>\n",
              "      <th>Veggie Bowl</th>\n",
              "      <th>Veggie Burrito</th>\n",
              "      <th>Veggie Crispy Tacos</th>\n",
              "      <th>Veggie Salad</th>\n",
              "      <th>Veggie Salad Bowl</th>\n",
              "      <th>Veggie Soft Tacos</th>\n",
              "    </tr>\n",
              "  </thead>\n",
              "  <tbody>\n",
              "    <tr>\n",
              "      <th>0</th>\n",
              "      <td>False</td>\n",
              "      <td>False</td>\n",
              "      <td>False</td>\n",
              "      <td>False</td>\n",
              "      <td>False</td>\n",
              "      <td>False</td>\n",
              "      <td>False</td>\n",
              "      <td>False</td>\n",
              "      <td>False</td>\n",
              "      <td>False</td>\n",
              "      <td>False</td>\n",
              "      <td>False</td>\n",
              "      <td>False</td>\n",
              "      <td>False</td>\n",
              "      <td>False</td>\n",
              "      <td>False</td>\n",
              "      <td>False</td>\n",
              "      <td>False</td>\n",
              "      <td>False</td>\n",
              "      <td>False</td>\n",
              "      <td>False</td>\n",
              "      <td>False</td>\n",
              "      <td>False</td>\n",
              "      <td>False</td>\n",
              "      <td>True</td>\n",
              "      <td>False</td>\n",
              "      <td>False</td>\n",
              "      <td>False</td>\n",
              "      <td>False</td>\n",
              "      <td>False</td>\n",
              "      <td>False</td>\n",
              "      <td>True</td>\n",
              "      <td>False</td>\n",
              "      <td>False</td>\n",
              "      <td>True</td>\n",
              "      <td>True</td>\n",
              "      <td>False</td>\n",
              "      <td>False</td>\n",
              "      <td>False</td>\n",
              "      <td>False</td>\n",
              "      <td>False</td>\n",
              "      <td>False</td>\n",
              "      <td>False</td>\n",
              "      <td>False</td>\n",
              "      <td>False</td>\n",
              "      <td>False</td>\n",
              "      <td>False</td>\n",
              "      <td>False</td>\n",
              "      <td>False</td>\n",
              "      <td>False</td>\n",
              "    </tr>\n",
              "    <tr>\n",
              "      <th>1</th>\n",
              "      <td>False</td>\n",
              "      <td>False</td>\n",
              "      <td>False</td>\n",
              "      <td>False</td>\n",
              "      <td>False</td>\n",
              "      <td>False</td>\n",
              "      <td>False</td>\n",
              "      <td>False</td>\n",
              "      <td>False</td>\n",
              "      <td>False</td>\n",
              "      <td>False</td>\n",
              "      <td>False</td>\n",
              "      <td>False</td>\n",
              "      <td>False</td>\n",
              "      <td>False</td>\n",
              "      <td>False</td>\n",
              "      <td>False</td>\n",
              "      <td>True</td>\n",
              "      <td>False</td>\n",
              "      <td>False</td>\n",
              "      <td>False</td>\n",
              "      <td>False</td>\n",
              "      <td>False</td>\n",
              "      <td>False</td>\n",
              "      <td>False</td>\n",
              "      <td>False</td>\n",
              "      <td>False</td>\n",
              "      <td>False</td>\n",
              "      <td>False</td>\n",
              "      <td>False</td>\n",
              "      <td>False</td>\n",
              "      <td>False</td>\n",
              "      <td>False</td>\n",
              "      <td>False</td>\n",
              "      <td>False</td>\n",
              "      <td>False</td>\n",
              "      <td>False</td>\n",
              "      <td>False</td>\n",
              "      <td>False</td>\n",
              "      <td>False</td>\n",
              "      <td>False</td>\n",
              "      <td>False</td>\n",
              "      <td>False</td>\n",
              "      <td>False</td>\n",
              "      <td>False</td>\n",
              "      <td>False</td>\n",
              "      <td>False</td>\n",
              "      <td>False</td>\n",
              "      <td>False</td>\n",
              "      <td>False</td>\n",
              "    </tr>\n",
              "    <tr>\n",
              "      <th>2</th>\n",
              "      <td>False</td>\n",
              "      <td>False</td>\n",
              "      <td>False</td>\n",
              "      <td>False</td>\n",
              "      <td>False</td>\n",
              "      <td>False</td>\n",
              "      <td>False</td>\n",
              "      <td>False</td>\n",
              "      <td>False</td>\n",
              "      <td>False</td>\n",
              "      <td>False</td>\n",
              "      <td>False</td>\n",
              "      <td>False</td>\n",
              "      <td>False</td>\n",
              "      <td>False</td>\n",
              "      <td>False</td>\n",
              "      <td>False</td>\n",
              "      <td>True</td>\n",
              "      <td>False</td>\n",
              "      <td>False</td>\n",
              "      <td>False</td>\n",
              "      <td>False</td>\n",
              "      <td>False</td>\n",
              "      <td>False</td>\n",
              "      <td>False</td>\n",
              "      <td>False</td>\n",
              "      <td>False</td>\n",
              "      <td>False</td>\n",
              "      <td>False</td>\n",
              "      <td>False</td>\n",
              "      <td>False</td>\n",
              "      <td>False</td>\n",
              "      <td>False</td>\n",
              "      <td>False</td>\n",
              "      <td>False</td>\n",
              "      <td>False</td>\n",
              "      <td>False</td>\n",
              "      <td>True</td>\n",
              "      <td>False</td>\n",
              "      <td>False</td>\n",
              "      <td>False</td>\n",
              "      <td>False</td>\n",
              "      <td>False</td>\n",
              "      <td>False</td>\n",
              "      <td>False</td>\n",
              "      <td>False</td>\n",
              "      <td>False</td>\n",
              "      <td>False</td>\n",
              "      <td>False</td>\n",
              "      <td>False</td>\n",
              "    </tr>\n",
              "    <tr>\n",
              "      <th>3</th>\n",
              "      <td>False</td>\n",
              "      <td>False</td>\n",
              "      <td>False</td>\n",
              "      <td>False</td>\n",
              "      <td>False</td>\n",
              "      <td>False</td>\n",
              "      <td>False</td>\n",
              "      <td>False</td>\n",
              "      <td>False</td>\n",
              "      <td>False</td>\n",
              "      <td>False</td>\n",
              "      <td>False</td>\n",
              "      <td>False</td>\n",
              "      <td>False</td>\n",
              "      <td>False</td>\n",
              "      <td>False</td>\n",
              "      <td>False</td>\n",
              "      <td>False</td>\n",
              "      <td>False</td>\n",
              "      <td>False</td>\n",
              "      <td>False</td>\n",
              "      <td>False</td>\n",
              "      <td>False</td>\n",
              "      <td>False</td>\n",
              "      <td>False</td>\n",
              "      <td>False</td>\n",
              "      <td>False</td>\n",
              "      <td>False</td>\n",
              "      <td>False</td>\n",
              "      <td>False</td>\n",
              "      <td>False</td>\n",
              "      <td>False</td>\n",
              "      <td>False</td>\n",
              "      <td>False</td>\n",
              "      <td>False</td>\n",
              "      <td>False</td>\n",
              "      <td>False</td>\n",
              "      <td>False</td>\n",
              "      <td>False</td>\n",
              "      <td>True</td>\n",
              "      <td>False</td>\n",
              "      <td>False</td>\n",
              "      <td>False</td>\n",
              "      <td>True</td>\n",
              "      <td>False</td>\n",
              "      <td>False</td>\n",
              "      <td>False</td>\n",
              "      <td>False</td>\n",
              "      <td>False</td>\n",
              "      <td>False</td>\n",
              "    </tr>\n",
              "    <tr>\n",
              "      <th>4</th>\n",
              "      <td>False</td>\n",
              "      <td>False</td>\n",
              "      <td>False</td>\n",
              "      <td>False</td>\n",
              "      <td>False</td>\n",
              "      <td>False</td>\n",
              "      <td>False</td>\n",
              "      <td>False</td>\n",
              "      <td>False</td>\n",
              "      <td>False</td>\n",
              "      <td>False</td>\n",
              "      <td>False</td>\n",
              "      <td>False</td>\n",
              "      <td>False</td>\n",
              "      <td>False</td>\n",
              "      <td>False</td>\n",
              "      <td>False</td>\n",
              "      <td>False</td>\n",
              "      <td>False</td>\n",
              "      <td>False</td>\n",
              "      <td>False</td>\n",
              "      <td>False</td>\n",
              "      <td>False</td>\n",
              "      <td>False</td>\n",
              "      <td>False</td>\n",
              "      <td>True</td>\n",
              "      <td>False</td>\n",
              "      <td>False</td>\n",
              "      <td>False</td>\n",
              "      <td>False</td>\n",
              "      <td>False</td>\n",
              "      <td>False</td>\n",
              "      <td>False</td>\n",
              "      <td>False</td>\n",
              "      <td>False</td>\n",
              "      <td>False</td>\n",
              "      <td>False</td>\n",
              "      <td>False</td>\n",
              "      <td>False</td>\n",
              "      <td>True</td>\n",
              "      <td>False</td>\n",
              "      <td>False</td>\n",
              "      <td>False</td>\n",
              "      <td>False</td>\n",
              "      <td>False</td>\n",
              "      <td>False</td>\n",
              "      <td>False</td>\n",
              "      <td>False</td>\n",
              "      <td>False</td>\n",
              "      <td>False</td>\n",
              "    </tr>\n",
              "  </tbody>\n",
              "</table>\n",
              "</div>"
            ],
            "text/plain": [
              "   6 Pack Soft Drink  Barbacoa Bowl  ...  Veggie Salad Bowl  Veggie Soft Tacos\n",
              "0              False          False  ...              False              False\n",
              "1              False          False  ...              False              False\n",
              "2              False          False  ...              False              False\n",
              "3              False          False  ...              False              False\n",
              "4              False          False  ...              False              False\n",
              "\n",
              "[5 rows x 50 columns]"
            ]
          },
          "metadata": {
            "tags": []
          },
          "execution_count": 16
        }
      ]
    },
    {
      "cell_type": "code",
      "metadata": {
        "colab": {
          "base_uri": "https://localhost:8080/"
        },
        "id": "nJE5tFt7YCuT",
        "outputId": "96db62e2-5e21-41b8-e3a8-e62987fa6577"
      },
      "source": [
        "order_DF.shape"
      ],
      "execution_count": 25,
      "outputs": [
        {
          "output_type": "execute_result",
          "data": {
            "text/plain": [
              "(1834, 50)"
            ]
          },
          "metadata": {
            "tags": []
          },
          "execution_count": 25
        }
      ]
    },
    {
      "cell_type": "markdown",
      "metadata": {
        "id": "JhU3QGwh-A4Z"
      },
      "source": [
        "# 3, apropri()\r\n",
        "* 지지도(support) 0.05 이상인 주문 추출\r\n",
        "* use_colnames : item_name으로 출력\r\n",
        "* max_len : 주문의 최대 길이 지정"
      ]
    },
    {
      "cell_type": "code",
      "metadata": {
        "colab": {
          "base_uri": "https://localhost:8080/",
          "height": 558
        },
        "id": "wgwD71Gv98a1",
        "outputId": "18672870-b8d7-432e-f4e0-ca3646005fc6"
      },
      "source": [
        "from mlxtend.frequent_patterns import apriori\r\n",
        "\r\n",
        "frequent_itemsets = apriori(order_DF, min_support = 0.05, use_colnames=True, max_len = None)\r\n",
        "frequent_itemsets\r\n",
        "\r\n",
        "# 지지도가 5% 이상인 데이터는 16개"
      ],
      "execution_count": null,
      "outputs": [
        {
          "output_type": "execute_result",
          "data": {
            "text/html": [
              "<div>\n",
              "<style scoped>\n",
              "    .dataframe tbody tr th:only-of-type {\n",
              "        vertical-align: middle;\n",
              "    }\n",
              "\n",
              "    .dataframe tbody tr th {\n",
              "        vertical-align: top;\n",
              "    }\n",
              "\n",
              "    .dataframe thead th {\n",
              "        text-align: right;\n",
              "    }\n",
              "</style>\n",
              "<table border=\"1\" class=\"dataframe\">\n",
              "  <thead>\n",
              "    <tr style=\"text-align: right;\">\n",
              "      <th></th>\n",
              "      <th>support</th>\n",
              "      <th>itemsets</th>\n",
              "    </tr>\n",
              "  </thead>\n",
              "  <tbody>\n",
              "    <tr>\n",
              "      <th>0</th>\n",
              "      <td>0.083969</td>\n",
              "      <td>(Bottled Water)</td>\n",
              "    </tr>\n",
              "    <tr>\n",
              "      <th>1</th>\n",
              "      <td>0.051254</td>\n",
              "      <td>(Canned Soda)</td>\n",
              "    </tr>\n",
              "    <tr>\n",
              "      <th>2</th>\n",
              "      <td>0.150491</td>\n",
              "      <td>(Canned Soft Drink)</td>\n",
              "    </tr>\n",
              "    <tr>\n",
              "      <th>3</th>\n",
              "      <td>0.335333</td>\n",
              "      <td>(Chicken Bowl)</td>\n",
              "    </tr>\n",
              "    <tr>\n",
              "      <th>4</th>\n",
              "      <td>0.266630</td>\n",
              "      <td>(Chicken Burrito)</td>\n",
              "    </tr>\n",
              "    <tr>\n",
              "      <th>5</th>\n",
              "      <td>0.053435</td>\n",
              "      <td>(Chicken Salad Bowl)</td>\n",
              "    </tr>\n",
              "    <tr>\n",
              "      <th>6</th>\n",
              "      <td>0.058342</td>\n",
              "      <td>(Chicken Soft Tacos)</td>\n",
              "    </tr>\n",
              "    <tr>\n",
              "      <th>7</th>\n",
              "      <td>0.113413</td>\n",
              "      <td>(Chips)</td>\n",
              "    </tr>\n",
              "    <tr>\n",
              "      <th>8</th>\n",
              "      <td>0.059978</td>\n",
              "      <td>(Chips and Fresh Tomato Salsa)</td>\n",
              "    </tr>\n",
              "    <tr>\n",
              "      <th>9</th>\n",
              "      <td>0.258451</td>\n",
              "      <td>(Chips and Guacamole)</td>\n",
              "    </tr>\n",
              "    <tr>\n",
              "      <th>10</th>\n",
              "      <td>0.055071</td>\n",
              "      <td>(Side of Chips)</td>\n",
              "    </tr>\n",
              "    <tr>\n",
              "      <th>11</th>\n",
              "      <td>0.102508</td>\n",
              "      <td>(Steak Bowl)</td>\n",
              "    </tr>\n",
              "    <tr>\n",
              "      <th>12</th>\n",
              "      <td>0.186478</td>\n",
              "      <td>(Steak Burrito)</td>\n",
              "    </tr>\n",
              "    <tr>\n",
              "      <th>13</th>\n",
              "      <td>0.060523</td>\n",
              "      <td>(Canned Soft Drink, Chicken Bowl)</td>\n",
              "    </tr>\n",
              "    <tr>\n",
              "      <th>14</th>\n",
              "      <td>0.066521</td>\n",
              "      <td>(Chips, Chicken Bowl)</td>\n",
              "    </tr>\n",
              "    <tr>\n",
              "      <th>15</th>\n",
              "      <td>0.081243</td>\n",
              "      <td>(Chicken Bowl, Chips and Guacamole)</td>\n",
              "    </tr>\n",
              "    <tr>\n",
              "      <th>16</th>\n",
              "      <td>0.062159</td>\n",
              "      <td>(Chicken Burrito, Chips and Guacamole)</td>\n",
              "    </tr>\n",
              "  </tbody>\n",
              "</table>\n",
              "</div>"
            ],
            "text/plain": [
              "     support                                itemsets\n",
              "0   0.083969                         (Bottled Water)\n",
              "1   0.051254                           (Canned Soda)\n",
              "2   0.150491                     (Canned Soft Drink)\n",
              "3   0.335333                          (Chicken Bowl)\n",
              "4   0.266630                       (Chicken Burrito)\n",
              "5   0.053435                    (Chicken Salad Bowl)\n",
              "6   0.058342                    (Chicken Soft Tacos)\n",
              "7   0.113413                                 (Chips)\n",
              "8   0.059978          (Chips and Fresh Tomato Salsa)\n",
              "9   0.258451                   (Chips and Guacamole)\n",
              "10  0.055071                         (Side of Chips)\n",
              "11  0.102508                            (Steak Bowl)\n",
              "12  0.186478                         (Steak Burrito)\n",
              "13  0.060523       (Canned Soft Drink, Chicken Bowl)\n",
              "14  0.066521                   (Chips, Chicken Bowl)\n",
              "15  0.081243     (Chicken Bowl, Chips and Guacamole)\n",
              "16  0.062159  (Chicken Burrito, Chips and Guacamole)"
            ]
          },
          "metadata": {
            "tags": []
          },
          "execution_count": 17
        }
      ]
    },
    {
      "cell_type": "markdown",
      "metadata": {
        "id": "2SWYg-G--oOa"
      },
      "source": [
        "# 4, association_rules()"
      ]
    },
    {
      "cell_type": "markdown",
      "metadata": {
        "id": "ncfMqAJ4-rYO"
      },
      "source": [
        "## 1) 지지도(support)가 최소 0.05 이상인 연관관계 출력\r\n",
        "* antecedents(조건절) -> consequents(결과절)\r\n",
        "* 전체 주문 중 조건절과 결과절을 포함한 비율\r\n",
        "* 방향성 없음"
      ]
    },
    {
      "cell_type": "code",
      "metadata": {
        "colab": {
          "base_uri": "https://localhost:8080/",
          "height": 371
        },
        "id": "UvxAOWs_-anW",
        "outputId": "aa106d5a-0814-410b-abfd-70c3cb7d7351"
      },
      "source": [
        "from mlxtend.frequent_patterns import association_rules\r\n",
        "\r\n",
        "association_rules(frequent_itemsets, metric = 'support', min_threshold = 0.05) # min_threshold = 지지도\r\n",
        "                  "
      ],
      "execution_count": null,
      "outputs": [
        {
          "output_type": "execute_result",
          "data": {
            "text/html": [
              "<div>\n",
              "<style scoped>\n",
              "    .dataframe tbody tr th:only-of-type {\n",
              "        vertical-align: middle;\n",
              "    }\n",
              "\n",
              "    .dataframe tbody tr th {\n",
              "        vertical-align: top;\n",
              "    }\n",
              "\n",
              "    .dataframe thead th {\n",
              "        text-align: right;\n",
              "    }\n",
              "</style>\n",
              "<table border=\"1\" class=\"dataframe\">\n",
              "  <thead>\n",
              "    <tr style=\"text-align: right;\">\n",
              "      <th></th>\n",
              "      <th>antecedents</th>\n",
              "      <th>consequents</th>\n",
              "      <th>antecedent support</th>\n",
              "      <th>consequent support</th>\n",
              "      <th>support</th>\n",
              "      <th>confidence</th>\n",
              "      <th>lift</th>\n",
              "      <th>leverage</th>\n",
              "      <th>conviction</th>\n",
              "    </tr>\n",
              "  </thead>\n",
              "  <tbody>\n",
              "    <tr>\n",
              "      <th>0</th>\n",
              "      <td>(Canned Soft Drink)</td>\n",
              "      <td>(Chicken Bowl)</td>\n",
              "      <td>0.150491</td>\n",
              "      <td>0.335333</td>\n",
              "      <td>0.060523</td>\n",
              "      <td>0.402174</td>\n",
              "      <td>1.199328</td>\n",
              "      <td>0.010059</td>\n",
              "      <td>1.111807</td>\n",
              "    </tr>\n",
              "    <tr>\n",
              "      <th>1</th>\n",
              "      <td>(Chicken Bowl)</td>\n",
              "      <td>(Canned Soft Drink)</td>\n",
              "      <td>0.335333</td>\n",
              "      <td>0.150491</td>\n",
              "      <td>0.060523</td>\n",
              "      <td>0.180488</td>\n",
              "      <td>1.199328</td>\n",
              "      <td>0.010059</td>\n",
              "      <td>1.036604</td>\n",
              "    </tr>\n",
              "    <tr>\n",
              "      <th>2</th>\n",
              "      <td>(Chips)</td>\n",
              "      <td>(Chicken Bowl)</td>\n",
              "      <td>0.113413</td>\n",
              "      <td>0.335333</td>\n",
              "      <td>0.066521</td>\n",
              "      <td>0.586538</td>\n",
              "      <td>1.749124</td>\n",
              "      <td>0.028490</td>\n",
              "      <td>1.607568</td>\n",
              "    </tr>\n",
              "    <tr>\n",
              "      <th>3</th>\n",
              "      <td>(Chicken Bowl)</td>\n",
              "      <td>(Chips)</td>\n",
              "      <td>0.335333</td>\n",
              "      <td>0.113413</td>\n",
              "      <td>0.066521</td>\n",
              "      <td>0.198374</td>\n",
              "      <td>1.749124</td>\n",
              "      <td>0.028490</td>\n",
              "      <td>1.105985</td>\n",
              "    </tr>\n",
              "    <tr>\n",
              "      <th>4</th>\n",
              "      <td>(Chicken Bowl)</td>\n",
              "      <td>(Chips and Guacamole)</td>\n",
              "      <td>0.335333</td>\n",
              "      <td>0.258451</td>\n",
              "      <td>0.081243</td>\n",
              "      <td>0.242276</td>\n",
              "      <td>0.937416</td>\n",
              "      <td>-0.005424</td>\n",
              "      <td>0.978653</td>\n",
              "    </tr>\n",
              "    <tr>\n",
              "      <th>5</th>\n",
              "      <td>(Chips and Guacamole)</td>\n",
              "      <td>(Chicken Bowl)</td>\n",
              "      <td>0.258451</td>\n",
              "      <td>0.335333</td>\n",
              "      <td>0.081243</td>\n",
              "      <td>0.314346</td>\n",
              "      <td>0.937416</td>\n",
              "      <td>-0.005424</td>\n",
              "      <td>0.969392</td>\n",
              "    </tr>\n",
              "    <tr>\n",
              "      <th>6</th>\n",
              "      <td>(Chicken Burrito)</td>\n",
              "      <td>(Chips and Guacamole)</td>\n",
              "      <td>0.266630</td>\n",
              "      <td>0.258451</td>\n",
              "      <td>0.062159</td>\n",
              "      <td>0.233129</td>\n",
              "      <td>0.902022</td>\n",
              "      <td>-0.006752</td>\n",
              "      <td>0.966979</td>\n",
              "    </tr>\n",
              "    <tr>\n",
              "      <th>7</th>\n",
              "      <td>(Chips and Guacamole)</td>\n",
              "      <td>(Chicken Burrito)</td>\n",
              "      <td>0.258451</td>\n",
              "      <td>0.266630</td>\n",
              "      <td>0.062159</td>\n",
              "      <td>0.240506</td>\n",
              "      <td>0.902022</td>\n",
              "      <td>-0.006752</td>\n",
              "      <td>0.965603</td>\n",
              "    </tr>\n",
              "  </tbody>\n",
              "</table>\n",
              "</div>"
            ],
            "text/plain": [
              "             antecedents            consequents  ...  leverage  conviction\n",
              "0    (Canned Soft Drink)         (Chicken Bowl)  ...  0.010059    1.111807\n",
              "1         (Chicken Bowl)    (Canned Soft Drink)  ...  0.010059    1.036604\n",
              "2                (Chips)         (Chicken Bowl)  ...  0.028490    1.607568\n",
              "3         (Chicken Bowl)                (Chips)  ...  0.028490    1.105985\n",
              "4         (Chicken Bowl)  (Chips and Guacamole)  ... -0.005424    0.978653\n",
              "5  (Chips and Guacamole)         (Chicken Bowl)  ... -0.005424    0.969392\n",
              "6      (Chicken Burrito)  (Chips and Guacamole)  ... -0.006752    0.966979\n",
              "7  (Chips and Guacamole)      (Chicken Burrito)  ... -0.006752    0.965603\n",
              "\n",
              "[8 rows x 9 columns]"
            ]
          },
          "metadata": {
            "tags": []
          },
          "execution_count": 18
        }
      ]
    },
    {
      "cell_type": "markdown",
      "metadata": {
        "id": "exxepdka_I48"
      },
      "source": [
        "## 2) 신뢰도(confidence)가 최소 0.3 이상인 연관관계 출력\r\n",
        "* 조건절이 있을 때 결과절도 있는 비율\r\n",
        "* 조건부확률\r\n",
        "* 방향성 존재"
      ]
    },
    {
      "cell_type": "code",
      "metadata": {
        "colab": {
          "base_uri": "https://localhost:8080/",
          "height": 204
        },
        "id": "ZH9qgJi9_Bln",
        "outputId": "e2de4696-5ea0-45ed-ceb2-dc66caf9bfec"
      },
      "source": [
        "association_rules(frequent_itemsets, metric = 'confidence', min_threshold=0.3)"
      ],
      "execution_count": null,
      "outputs": [
        {
          "output_type": "execute_result",
          "data": {
            "text/html": [
              "<div>\n",
              "<style scoped>\n",
              "    .dataframe tbody tr th:only-of-type {\n",
              "        vertical-align: middle;\n",
              "    }\n",
              "\n",
              "    .dataframe tbody tr th {\n",
              "        vertical-align: top;\n",
              "    }\n",
              "\n",
              "    .dataframe thead th {\n",
              "        text-align: right;\n",
              "    }\n",
              "</style>\n",
              "<table border=\"1\" class=\"dataframe\">\n",
              "  <thead>\n",
              "    <tr style=\"text-align: right;\">\n",
              "      <th></th>\n",
              "      <th>antecedents</th>\n",
              "      <th>consequents</th>\n",
              "      <th>antecedent support</th>\n",
              "      <th>consequent support</th>\n",
              "      <th>support</th>\n",
              "      <th>confidence</th>\n",
              "      <th>lift</th>\n",
              "      <th>leverage</th>\n",
              "      <th>conviction</th>\n",
              "    </tr>\n",
              "  </thead>\n",
              "  <tbody>\n",
              "    <tr>\n",
              "      <th>0</th>\n",
              "      <td>(Canned Soft Drink)</td>\n",
              "      <td>(Chicken Bowl)</td>\n",
              "      <td>0.150491</td>\n",
              "      <td>0.335333</td>\n",
              "      <td>0.060523</td>\n",
              "      <td>0.402174</td>\n",
              "      <td>1.199328</td>\n",
              "      <td>0.010059</td>\n",
              "      <td>1.111807</td>\n",
              "    </tr>\n",
              "    <tr>\n",
              "      <th>1</th>\n",
              "      <td>(Chips)</td>\n",
              "      <td>(Chicken Bowl)</td>\n",
              "      <td>0.113413</td>\n",
              "      <td>0.335333</td>\n",
              "      <td>0.066521</td>\n",
              "      <td>0.586538</td>\n",
              "      <td>1.749124</td>\n",
              "      <td>0.028490</td>\n",
              "      <td>1.607568</td>\n",
              "    </tr>\n",
              "    <tr>\n",
              "      <th>2</th>\n",
              "      <td>(Chips and Guacamole)</td>\n",
              "      <td>(Chicken Bowl)</td>\n",
              "      <td>0.258451</td>\n",
              "      <td>0.335333</td>\n",
              "      <td>0.081243</td>\n",
              "      <td>0.314346</td>\n",
              "      <td>0.937416</td>\n",
              "      <td>-0.005424</td>\n",
              "      <td>0.969392</td>\n",
              "    </tr>\n",
              "  </tbody>\n",
              "</table>\n",
              "</div>"
            ],
            "text/plain": [
              "             antecedents     consequents  ...  leverage  conviction\n",
              "0    (Canned Soft Drink)  (Chicken Bowl)  ...  0.010059    1.111807\n",
              "1                (Chips)  (Chicken Bowl)  ...  0.028490    1.607568\n",
              "2  (Chips and Guacamole)  (Chicken Bowl)  ... -0.005424    0.969392\n",
              "\n",
              "[3 rows x 9 columns]"
            ]
          },
          "metadata": {
            "tags": []
          },
          "execution_count": 19
        }
      ]
    },
    {
      "cell_type": "markdown",
      "metadata": {
        "id": "uk5zgg28_X4M"
      },
      "source": [
        "## 3) 향상도(Lift)가 최소 0.1 이상인 연관관계 출력\r\n",
        "* 향상도 = 1, 조건절과 결과절은 독립관계\r\n",
        "* 향상도 > 1 or < 1, 우연이 아닌 필연적 관계"
      ]
    },
    {
      "cell_type": "code",
      "metadata": {
        "colab": {
          "base_uri": "https://localhost:8080/",
          "height": 288
        },
        "id": "eYtlAcSj_V_V",
        "outputId": "bdcb5d5c-b240-4b5f-c0a3-7819a52b9dec"
      },
      "source": [
        "association_rules(frequent_itemsets, metric = 'lift', min_threshold= 0.1)"
      ],
      "execution_count": 26,
      "outputs": [
        {
          "output_type": "execute_result",
          "data": {
            "text/html": [
              "<div>\n",
              "<style scoped>\n",
              "    .dataframe tbody tr th:only-of-type {\n",
              "        vertical-align: middle;\n",
              "    }\n",
              "\n",
              "    .dataframe tbody tr th {\n",
              "        vertical-align: top;\n",
              "    }\n",
              "\n",
              "    .dataframe thead th {\n",
              "        text-align: right;\n",
              "    }\n",
              "</style>\n",
              "<table border=\"1\" class=\"dataframe\">\n",
              "  <thead>\n",
              "    <tr style=\"text-align: right;\">\n",
              "      <th></th>\n",
              "      <th>antecedents</th>\n",
              "      <th>consequents</th>\n",
              "      <th>antecedent support</th>\n",
              "      <th>consequent support</th>\n",
              "      <th>support</th>\n",
              "      <th>confidence</th>\n",
              "      <th>lift</th>\n",
              "      <th>leverage</th>\n",
              "      <th>conviction</th>\n",
              "    </tr>\n",
              "  </thead>\n",
              "  <tbody>\n",
              "    <tr>\n",
              "      <th>0</th>\n",
              "      <td>(Canned Soft Drink)</td>\n",
              "      <td>(Chicken Bowl)</td>\n",
              "      <td>0.150491</td>\n",
              "      <td>0.335333</td>\n",
              "      <td>0.060523</td>\n",
              "      <td>0.402174</td>\n",
              "      <td>1.199328</td>\n",
              "      <td>0.010059</td>\n",
              "      <td>1.111807</td>\n",
              "    </tr>\n",
              "    <tr>\n",
              "      <th>1</th>\n",
              "      <td>(Chicken Bowl)</td>\n",
              "      <td>(Canned Soft Drink)</td>\n",
              "      <td>0.335333</td>\n",
              "      <td>0.150491</td>\n",
              "      <td>0.060523</td>\n",
              "      <td>0.180488</td>\n",
              "      <td>1.199328</td>\n",
              "      <td>0.010059</td>\n",
              "      <td>1.036604</td>\n",
              "    </tr>\n",
              "    <tr>\n",
              "      <th>2</th>\n",
              "      <td>(Chips)</td>\n",
              "      <td>(Chicken Bowl)</td>\n",
              "      <td>0.113413</td>\n",
              "      <td>0.335333</td>\n",
              "      <td>0.066521</td>\n",
              "      <td>0.586538</td>\n",
              "      <td>1.749124</td>\n",
              "      <td>0.028490</td>\n",
              "      <td>1.607568</td>\n",
              "    </tr>\n",
              "    <tr>\n",
              "      <th>3</th>\n",
              "      <td>(Chicken Bowl)</td>\n",
              "      <td>(Chips)</td>\n",
              "      <td>0.335333</td>\n",
              "      <td>0.113413</td>\n",
              "      <td>0.066521</td>\n",
              "      <td>0.198374</td>\n",
              "      <td>1.749124</td>\n",
              "      <td>0.028490</td>\n",
              "      <td>1.105985</td>\n",
              "    </tr>\n",
              "    <tr>\n",
              "      <th>4</th>\n",
              "      <td>(Chicken Bowl)</td>\n",
              "      <td>(Chips and Guacamole)</td>\n",
              "      <td>0.335333</td>\n",
              "      <td>0.258451</td>\n",
              "      <td>0.081243</td>\n",
              "      <td>0.242276</td>\n",
              "      <td>0.937416</td>\n",
              "      <td>-0.005424</td>\n",
              "      <td>0.978653</td>\n",
              "    </tr>\n",
              "    <tr>\n",
              "      <th>5</th>\n",
              "      <td>(Chips and Guacamole)</td>\n",
              "      <td>(Chicken Bowl)</td>\n",
              "      <td>0.258451</td>\n",
              "      <td>0.335333</td>\n",
              "      <td>0.081243</td>\n",
              "      <td>0.314346</td>\n",
              "      <td>0.937416</td>\n",
              "      <td>-0.005424</td>\n",
              "      <td>0.969392</td>\n",
              "    </tr>\n",
              "    <tr>\n",
              "      <th>6</th>\n",
              "      <td>(Chicken Burrito)</td>\n",
              "      <td>(Chips and Guacamole)</td>\n",
              "      <td>0.266630</td>\n",
              "      <td>0.258451</td>\n",
              "      <td>0.062159</td>\n",
              "      <td>0.233129</td>\n",
              "      <td>0.902022</td>\n",
              "      <td>-0.006752</td>\n",
              "      <td>0.966979</td>\n",
              "    </tr>\n",
              "    <tr>\n",
              "      <th>7</th>\n",
              "      <td>(Chips and Guacamole)</td>\n",
              "      <td>(Chicken Burrito)</td>\n",
              "      <td>0.258451</td>\n",
              "      <td>0.266630</td>\n",
              "      <td>0.062159</td>\n",
              "      <td>0.240506</td>\n",
              "      <td>0.902022</td>\n",
              "      <td>-0.006752</td>\n",
              "      <td>0.965603</td>\n",
              "    </tr>\n",
              "  </tbody>\n",
              "</table>\n",
              "</div>"
            ],
            "text/plain": [
              "             antecedents            consequents  ...  leverage  conviction\n",
              "0    (Canned Soft Drink)         (Chicken Bowl)  ...  0.010059    1.111807\n",
              "1         (Chicken Bowl)    (Canned Soft Drink)  ...  0.010059    1.036604\n",
              "2                (Chips)         (Chicken Bowl)  ...  0.028490    1.607568\n",
              "3         (Chicken Bowl)                (Chips)  ...  0.028490    1.105985\n",
              "4         (Chicken Bowl)  (Chips and Guacamole)  ... -0.005424    0.978653\n",
              "5  (Chips and Guacamole)         (Chicken Bowl)  ... -0.005424    0.969392\n",
              "6      (Chicken Burrito)  (Chips and Guacamole)  ... -0.006752    0.966979\n",
              "7  (Chips and Guacamole)      (Chicken Burrito)  ... -0.006752    0.965603\n",
              "\n",
              "[8 rows x 9 columns]"
            ]
          },
          "metadata": {
            "tags": []
          },
          "execution_count": 26
        }
      ]
    },
    {
      "cell_type": "code",
      "metadata": {
        "id": "Pujqgn9g_hDu"
      },
      "source": [
        ""
      ],
      "execution_count": null,
      "outputs": []
    }
  ]
}