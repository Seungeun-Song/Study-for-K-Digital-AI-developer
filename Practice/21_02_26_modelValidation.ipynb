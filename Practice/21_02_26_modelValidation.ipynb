{
  "nbformat": 4,
  "nbformat_minor": 0,
  "metadata": {
    "colab": {
      "name": "Model Validation.ipynb",
      "provenance": [],
      "collapsed_sections": []
    },
    "kernelspec": {
      "name": "python3",
      "display_name": "Python 3"
    },
    "widgets": {
      "application/vnd.jupyter.widget-state+json": {
        "1eba3da8691d493ab512c1714a70a792": {
          "model_module": "@jupyter-widgets/controls",
          "model_name": "VBoxModel",
          "state": {
            "_view_name": "VBoxView",
            "_dom_classes": [
              "widget-interact"
            ],
            "_model_name": "VBoxModel",
            "_view_module": "@jupyter-widgets/controls",
            "_model_module_version": "1.5.0",
            "_view_count": null,
            "_view_module_version": "1.5.0",
            "box_style": "",
            "layout": "IPY_MODEL_95a1c1a814374259b48395f1df250152",
            "_model_module": "@jupyter-widgets/controls",
            "children": [
              "IPY_MODEL_a8ca6e967bc44f4aba8c8c09d92f286e",
              "IPY_MODEL_1a37ad78dc4c4bc3a8c444515e115958"
            ]
          }
        },
        "95a1c1a814374259b48395f1df250152": {
          "model_module": "@jupyter-widgets/base",
          "model_name": "LayoutModel",
          "state": {
            "_view_name": "LayoutView",
            "grid_template_rows": null,
            "right": null,
            "justify_content": null,
            "_view_module": "@jupyter-widgets/base",
            "overflow": null,
            "_model_module_version": "1.2.0",
            "_view_count": null,
            "flex_flow": null,
            "width": null,
            "min_width": null,
            "border": null,
            "align_items": null,
            "bottom": null,
            "_model_module": "@jupyter-widgets/base",
            "top": null,
            "grid_column": null,
            "overflow_y": null,
            "overflow_x": null,
            "grid_auto_flow": null,
            "grid_area": null,
            "grid_template_columns": null,
            "flex": null,
            "_model_name": "LayoutModel",
            "justify_items": null,
            "grid_row": null,
            "max_height": null,
            "align_content": null,
            "visibility": null,
            "align_self": null,
            "height": null,
            "min_height": null,
            "padding": null,
            "grid_auto_rows": null,
            "grid_gap": null,
            "max_width": null,
            "order": null,
            "_view_module_version": "1.2.0",
            "grid_template_areas": null,
            "object_position": null,
            "object_fit": null,
            "grid_auto_columns": null,
            "margin": null,
            "display": null,
            "left": null
          }
        },
        "a8ca6e967bc44f4aba8c8c09d92f286e": {
          "model_module": "@jupyter-widgets/controls",
          "model_name": "DropdownModel",
          "state": {
            "_options_labels": [
              "1",
              "2",
              "5",
              "9"
            ],
            "_view_name": "DropdownView",
            "style": "IPY_MODEL_a03eb39122884ad0866c77d94c195d8e",
            "_dom_classes": [],
            "description": "x",
            "_model_name": "DropdownModel",
            "index": 1,
            "_view_module": "@jupyter-widgets/controls",
            "_model_module_version": "1.5.0",
            "_view_count": null,
            "disabled": false,
            "_view_module_version": "1.5.0",
            "description_tooltip": null,
            "_model_module": "@jupyter-widgets/controls",
            "layout": "IPY_MODEL_f5d8f449910142868ac68e1391991853"
          }
        },
        "1a37ad78dc4c4bc3a8c444515e115958": {
          "model_module": "@jupyter-widgets/output",
          "model_name": "OutputModel",
          "state": {
            "_view_name": "OutputView",
            "msg_id": "",
            "_dom_classes": [],
            "_model_name": "OutputModel",
            "outputs": [
              {
                "output_type": "display_data",
                "metadata": {
                  "tags": [],
                  "needs_background": "light"
                },
                "image/png": "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\n",
                "text/plain": "<Figure size 432x288 with 1 Axes>"
              }
            ],
            "_view_module": "@jupyter-widgets/output",
            "_model_module_version": "1.0.0",
            "_view_count": null,
            "_view_module_version": "1.0.0",
            "layout": "IPY_MODEL_03f66b3009994649813dff8c60881308",
            "_model_module": "@jupyter-widgets/output"
          }
        },
        "a03eb39122884ad0866c77d94c195d8e": {
          "model_module": "@jupyter-widgets/controls",
          "model_name": "DescriptionStyleModel",
          "state": {
            "_view_name": "StyleView",
            "_model_name": "DescriptionStyleModel",
            "description_width": "",
            "_view_module": "@jupyter-widgets/base",
            "_model_module_version": "1.5.0",
            "_view_count": null,
            "_view_module_version": "1.2.0",
            "_model_module": "@jupyter-widgets/controls"
          }
        },
        "f5d8f449910142868ac68e1391991853": {
          "model_module": "@jupyter-widgets/base",
          "model_name": "LayoutModel",
          "state": {
            "_view_name": "LayoutView",
            "grid_template_rows": null,
            "right": null,
            "justify_content": null,
            "_view_module": "@jupyter-widgets/base",
            "overflow": null,
            "_model_module_version": "1.2.0",
            "_view_count": null,
            "flex_flow": null,
            "width": null,
            "min_width": null,
            "border": null,
            "align_items": null,
            "bottom": null,
            "_model_module": "@jupyter-widgets/base",
            "top": null,
            "grid_column": null,
            "overflow_y": null,
            "overflow_x": null,
            "grid_auto_flow": null,
            "grid_area": null,
            "grid_template_columns": null,
            "flex": null,
            "_model_name": "LayoutModel",
            "justify_items": null,
            "grid_row": null,
            "max_height": null,
            "align_content": null,
            "visibility": null,
            "align_self": null,
            "height": null,
            "min_height": null,
            "padding": null,
            "grid_auto_rows": null,
            "grid_gap": null,
            "max_width": null,
            "order": null,
            "_view_module_version": "1.2.0",
            "grid_template_areas": null,
            "object_position": null,
            "object_fit": null,
            "grid_auto_columns": null,
            "margin": null,
            "display": null,
            "left": null
          }
        },
        "03f66b3009994649813dff8c60881308": {
          "model_module": "@jupyter-widgets/base",
          "model_name": "LayoutModel",
          "state": {
            "_view_name": "LayoutView",
            "grid_template_rows": null,
            "right": null,
            "justify_content": null,
            "_view_module": "@jupyter-widgets/base",
            "overflow": null,
            "_model_module_version": "1.2.0",
            "_view_count": null,
            "flex_flow": null,
            "width": null,
            "min_width": null,
            "border": null,
            "align_items": null,
            "bottom": null,
            "_model_module": "@jupyter-widgets/base",
            "top": null,
            "grid_column": null,
            "overflow_y": null,
            "overflow_x": null,
            "grid_auto_flow": null,
            "grid_area": null,
            "grid_template_columns": null,
            "flex": null,
            "_model_name": "LayoutModel",
            "justify_items": null,
            "grid_row": null,
            "max_height": null,
            "align_content": null,
            "visibility": null,
            "align_self": null,
            "height": null,
            "min_height": null,
            "padding": null,
            "grid_auto_rows": null,
            "grid_gap": null,
            "max_width": null,
            "order": null,
            "_view_module_version": "1.2.0",
            "grid_template_areas": null,
            "object_position": null,
            "object_fit": null,
            "grid_auto_columns": null,
            "margin": null,
            "display": null,
            "left": null
          }
        }
      }
    }
  },
  "cells": [
    {
      "cell_type": "code",
      "metadata": {
        "id": "f-lSeJtV7TYZ"
      },
      "source": [
        "import pandas as pd\r\n",
        "import matplotlib.pyplot as plt\r\n",
        "\r\n",
        "#seaborn은 시각화하기 위한 가장 좋은 특징\r\n",
        "import seaborn as sns\r\n",
        "\r\n",
        "# pandas - 데이터 처리와 분석을 위한 라이브러리\r\n",
        "# pandas의 DataFrame은 엑셀과 같은 테이블 형태\r\n",
        "# matplotlib - 과학 계산용 그래프 라이브러리 (선 그래프, 히스토그램, 산점도 등)\r\n",
        "# numpy - 과학 계산  (다차원 '배열'을 위한 기능, 선형대수연산, 푸리에 변환 같은 고소준 수학 함수와 유사난수 생성기 포함)\r\n",
        "# sklearn - 여러가지 머신러닝 알고리즘이 있는 라이브러리"
      ],
      "execution_count": null,
      "outputs": []
    },
    {
      "cell_type": "code",
      "metadata": {
        "colab": {
          "base_uri": "https://localhost:8080/"
        },
        "id": "NLOL55Dj7767",
        "outputId": "db759f88-4e9c-41a1-ae56-b9d0298fbf88"
      },
      "source": [
        "Elec = pd.read_csv('https://raw.githubusercontent.com/rusita-ai/pyData/master/Electric.csv')\r\n",
        "Elec.info()\r\n",
        "# 768행 9열 (내가 예측하고 싶은 것에 y. y와 관련된 데이터로는 무엇이 있을까? 그건 x)\r\n",
        "#non-null 있는지"
      ],
      "execution_count": null,
      "outputs": [
        {
          "output_type": "stream",
          "text": [
            "<class 'pandas.core.frame.DataFrame'>\n",
            "RangeIndex: 768 entries, 0 to 767\n",
            "Data columns (total 9 columns):\n",
            " #   Column                     Non-Null Count  Dtype  \n",
            "---  ------                     --------------  -----  \n",
            " 0   compactness                768 non-null    float64\n",
            " 1   surface_area               768 non-null    float64\n",
            " 2   wall_area                  768 non-null    float64\n",
            " 3   roof_area                  768 non-null    float64\n",
            " 4   height                     768 non-null    float64\n",
            " 5   orientation                768 non-null    int64  \n",
            " 6   glazing_area               768 non-null    float64\n",
            " 7   glazing_area_distribution  768 non-null    int64  \n",
            " 8   electricity                768 non-null    float64\n",
            "dtypes: float64(7), int64(2)\n",
            "memory usage: 54.1 KB\n"
          ],
          "name": "stdout"
        }
      ]
    },
    {
      "cell_type": "code",
      "metadata": {
        "colab": {
          "base_uri": "https://localhost:8080/",
          "height": 219
        },
        "id": "fIrai4v28YcE",
        "outputId": "8dca6888-1de3-4aca-a5e6-75852eac40d3"
      },
      "source": [
        "Elec.head()"
      ],
      "execution_count": null,
      "outputs": [
        {
          "output_type": "execute_result",
          "data": {
            "text/html": [
              "<div>\n",
              "<style scoped>\n",
              "    .dataframe tbody tr th:only-of-type {\n",
              "        vertical-align: middle;\n",
              "    }\n",
              "\n",
              "    .dataframe tbody tr th {\n",
              "        vertical-align: top;\n",
              "    }\n",
              "\n",
              "    .dataframe thead th {\n",
              "        text-align: right;\n",
              "    }\n",
              "</style>\n",
              "<table border=\"1\" class=\"dataframe\">\n",
              "  <thead>\n",
              "    <tr style=\"text-align: right;\">\n",
              "      <th></th>\n",
              "      <th>compactness</th>\n",
              "      <th>surface_area</th>\n",
              "      <th>wall_area</th>\n",
              "      <th>roof_area</th>\n",
              "      <th>height</th>\n",
              "      <th>orientation</th>\n",
              "      <th>glazing_area</th>\n",
              "      <th>glazing_area_distribution</th>\n",
              "      <th>electricity</th>\n",
              "    </tr>\n",
              "  </thead>\n",
              "  <tbody>\n",
              "    <tr>\n",
              "      <th>0</th>\n",
              "      <td>0.98</td>\n",
              "      <td>514.5</td>\n",
              "      <td>294.0</td>\n",
              "      <td>110.25</td>\n",
              "      <td>7.0</td>\n",
              "      <td>2</td>\n",
              "      <td>0.0</td>\n",
              "      <td>0</td>\n",
              "      <td>155.5</td>\n",
              "    </tr>\n",
              "    <tr>\n",
              "      <th>1</th>\n",
              "      <td>0.98</td>\n",
              "      <td>514.5</td>\n",
              "      <td>294.0</td>\n",
              "      <td>110.25</td>\n",
              "      <td>7.0</td>\n",
              "      <td>3</td>\n",
              "      <td>0.0</td>\n",
              "      <td>0</td>\n",
              "      <td>155.5</td>\n",
              "    </tr>\n",
              "    <tr>\n",
              "      <th>2</th>\n",
              "      <td>0.98</td>\n",
              "      <td>514.5</td>\n",
              "      <td>294.0</td>\n",
              "      <td>110.25</td>\n",
              "      <td>7.0</td>\n",
              "      <td>4</td>\n",
              "      <td>0.0</td>\n",
              "      <td>0</td>\n",
              "      <td>155.5</td>\n",
              "    </tr>\n",
              "    <tr>\n",
              "      <th>3</th>\n",
              "      <td>0.98</td>\n",
              "      <td>514.5</td>\n",
              "      <td>294.0</td>\n",
              "      <td>110.25</td>\n",
              "      <td>7.0</td>\n",
              "      <td>5</td>\n",
              "      <td>0.0</td>\n",
              "      <td>0</td>\n",
              "      <td>155.5</td>\n",
              "    </tr>\n",
              "    <tr>\n",
              "      <th>4</th>\n",
              "      <td>0.90</td>\n",
              "      <td>563.5</td>\n",
              "      <td>318.5</td>\n",
              "      <td>122.50</td>\n",
              "      <td>7.0</td>\n",
              "      <td>2</td>\n",
              "      <td>0.0</td>\n",
              "      <td>0</td>\n",
              "      <td>208.4</td>\n",
              "    </tr>\n",
              "  </tbody>\n",
              "</table>\n",
              "</div>"
            ],
            "text/plain": [
              "   compactness  surface_area  ...  glazing_area_distribution  electricity\n",
              "0         0.98         514.5  ...                          0        155.5\n",
              "1         0.98         514.5  ...                          0        155.5\n",
              "2         0.98         514.5  ...                          0        155.5\n",
              "3         0.98         514.5  ...                          0        155.5\n",
              "4         0.90         563.5  ...                          0        208.4\n",
              "\n",
              "[5 rows x 9 columns]"
            ]
          },
          "metadata": {
            "tags": []
          },
          "execution_count": 3
        }
      ]
    },
    {
      "cell_type": "code",
      "metadata": {
        "colab": {
          "base_uri": "https://localhost:8080/",
          "height": 336
        },
        "id": "AqukPX6E8fh6",
        "outputId": "b80611b4-d9b4-4c2a-db98-46f61aaf165a"
      },
      "source": [
        "# 데이터프레임dp []하면 series가 된다\r\n",
        "sns.scatterplot(Elec['surface_area'], Elec['electricity'])\r\n",
        "plt.show()"
      ],
      "execution_count": null,
      "outputs": [
        {
          "output_type": "stream",
          "text": [
            "/usr/local/lib/python3.7/dist-packages/seaborn/_decorators.py:43: FutureWarning: Pass the following variables as keyword args: x, y. From version 0.12, the only valid positional argument will be `data`, and passing other arguments without an explicit keyword will result in an error or misinterpretation.\n",
            "  FutureWarning\n"
          ],
          "name": "stderr"
        },
        {
          "output_type": "display_data",
          "data": {
            "image/png": "[encoded data removed]",
            "text/plain": [
              "<Figure size 432x288 with 1 Axes>"
            ]
          },
          "metadata": {
            "tags": [],
            "needs_background": "light"
          }
        }
      ]
    },
    {
      "cell_type": "code",
      "metadata": {
        "colab": {
          "base_uri": "https://localhost:8080/",
          "height": 280
        },
        "id": "6GzwbDO_84PA",
        "outputId": "2ffaa111-7502-41a0-cde5-7fceac59a725"
      },
      "source": [
        "# reg = regression 예측\r\n",
        "sns.regplot(x='surface_area', y='electricity', data=Elec, \r\n",
        "            line_kws = {'color':'red'},\r\n",
        "            scatter_kws={'edgecolor':'white'}) # 동그라미(scatter)의 edge 색깔\r\n",
        "plt.xlim(505,820)\r\n",
        "plt.show()"
      ],
      "execution_count": null,
      "outputs": [
        {
          "output_type": "display_data",
          "data": {
            "image/png": "[encoded data removed]",
            "text/plain": [
              "<Figure size 432x288 with 1 Axes>"
            ]
          },
          "metadata": {
            "tags": [],
            "needs_background": "light"
          }
        }
      ]
    },
    {
      "cell_type": "code",
      "metadata": {
        "colab": {
          "base_uri": "https://localhost:8080/",
          "height": 280
        },
        "id": "gIHD7PO-9aBx",
        "outputId": "5b030080-15b3-48d2-b259-c4c2592f11b5"
      },
      "source": [
        "sns.regplot(x='surface_area', y='electricity', data=Elec,\r\n",
        "            line_kws = {'color':'blue'},\r\n",
        "            scatter_kws={'edgecolor':'white'},\r\n",
        "            order = 2)\r\n",
        "plt.xlim(505,820)\r\n",
        "plt.show()"
      ],
      "execution_count": null,
      "outputs": [
        {
          "output_type": "display_data",
          "data": {
            "image/png": "[encoded data removed]",
            "text/plain": [
              "<Figure size 432x288 with 1 Axes>"
            ]
          },
          "metadata": {
            "tags": [],
            "needs_background": "light"
          }
        }
      ]
    },
    {
      "cell_type": "code",
      "metadata": {
        "colab": {
          "base_uri": "https://localhost:8080/",
          "height": 280
        },
        "id": "cLZYu5wY-HAv",
        "outputId": "b596aaac-e30a-492e-d9d5-975402d5845b"
      },
      "source": [
        "sns.regplot(x='surface_area', y='electricity', data=Elec,\r\n",
        "            line_kws = {'color':'green'},\r\n",
        "            scatter_kws={'edgecolor':'white'},\r\n",
        "            order = 5)\r\n",
        "plt.xlim(505,820)\r\n",
        "plt.show()"
      ],
      "execution_count": null,
      "outputs": [
        {
          "output_type": "display_data",
          "data": {
            "image/png": "[encoded data removed]",
            "text/plain": [
              "<Figure size 432x288 with 1 Axes>"
            ]
          },
          "metadata": {
            "tags": [],
            "needs_background": "light"
          }
        }
      ]
    },
    {
      "cell_type": "code",
      "metadata": {
        "colab": {
          "base_uri": "https://localhost:8080/",
          "height": 284
        },
        "id": "h8cHuF0e-e97",
        "outputId": "10bc8eda-cecf-415e-90a1-cffd6a2868e5"
      },
      "source": [
        "sns.regplot(x='surface_area', y='electricity', data=Elec,\r\n",
        "            line_kws = {'color':'orange'},\r\n",
        "            scatter_kws={'edgecolor':'white'},\r\n",
        "            order = 9)\r\n",
        "plt.xlim(505,820)\r\n",
        "plt.ylim(50,450)\r\n",
        "plt.show()"
      ],
      "execution_count": null,
      "outputs": [
        {
          "output_type": "display_data",
          "data": {
            "image/png": "[encoded data removed]",
            "text/plain": [
              "<Figure size 432x288 with 1 Axes>"
            ]
          },
          "metadata": {
            "tags": [],
            "needs_background": "light"
          }
        }
      ]
    },
    {
      "cell_type": "code",
      "metadata": {
        "colab": {
          "base_uri": "https://localhost:8080/",
          "height": 293
        },
        "id": "IdE3c1UT-kfC",
        "outputId": "e3d7c7e9-318d-453d-cba2-dd936f21efe5"
      },
      "source": [
        "sns.regplot(x='surface_area', y='electricity', data=Elec, line_kws={'color':'red'})\r\n",
        "sns.regplot(x='surface_area', y='electricity', data=Elec, line_kws={'color':'blue'}, order =2)\r\n",
        "sns.regplot(x='surface_area', y='electricity', data=Elec, line_kws={'color':'green'}, order =5)\r\n",
        "sns.regplot(x='surface_area', y='electricity', data=Elec, line_kws={'color':'orange'}, order =9,\r\n",
        "            scatter_kws = {'color':'gray', 'edgecolor':'white'})\r\n",
        "plt.xlim(505,820)         \r\n",
        "plt.ylim(50, 450)\r\n",
        "plt.xticks(rotation =35)\r\n",
        "plt.yticks(rotation = 90)\r\n",
        "plt.show()\r\n"
      ],
      "execution_count": null,
      "outputs": [
        {
          "output_type": "display_data",
          "data": {
            "image/png": "[encoded data removed]",
            "text/plain": [
              "<Figure size 432x288 with 1 Axes>"
            ]
          },
          "metadata": {
            "tags": [],
            "needs_background": "light"
          }
        }
      ]
    },
    {
      "cell_type": "code",
      "metadata": {
        "id": "mrAf1LOo_2XN"
      },
      "source": [
        "def reg_plot(x):\r\n",
        "  sns.regplot(x='surface_area',\r\n",
        "              y = 'electricity',\r\n",
        "              data=Elec,\r\n",
        "              order=x,\r\n",
        "              line_kws={'color':'red'},\r\n",
        "              scatter_kws={'edgecolor':'white'})\r\n",
        "  \r\n",
        "  plt.xlim(505, 820)\r\n",
        "  plt.ylim(50, 450)\r\n",
        "  plt.show()"
      ],
      "execution_count": null,
      "outputs": []
    },
    {
      "cell_type": "code",
      "metadata": {
        "colab": {
          "base_uri": "https://localhost:8080/",
          "height": 334,
          "referenced_widgets": [
            "1eba3da8691d493ab512c1714a70a792",
            "95a1c1a814374259b48395f1df250152",
            "a8ca6e967bc44f4aba8c8c09d92f286e",
            "1a37ad78dc4c4bc3a8c444515e115958",
            "a03eb39122884ad0866c77d94c195d8e",
            "f5d8f449910142868ac68e1391991853",
            "03f66b3009994649813dff8c60881308"
          ]
        },
        "id": "J3ZaIbesAYTY",
        "outputId": "5b0caeb9-28c4-4676-c118-abc4c947217c"
      },
      "source": [
        "# ipywidegs의 interact는 함수의 차수를 바꾸기 쉬운. django연결도 가능\r\n",
        "from ipywidgets import interact\r\n",
        "\r\n",
        "order = [1,2,5,9]\r\n",
        "interact(reg_plot, x=order)"
      ],
      "execution_count": null,
      "outputs": [
        {
          "output_type": "display_data",
          "data": {
            "application/vnd.jupyter.widget-view+json": {
              "model_id": "1eba3da8691d493ab512c1714a70a792",
              "version_minor": 0,
              "version_major": 2
            },
            "text/plain": [
              "interactive(children=(Dropdown(description='x', options=(1, 2, 5, 9), value=1), Output()), _dom_classes=('widg…"
            ]
          },
          "metadata": {
            "tags": []
          }
        },
        {
          "output_type": "execute_result",
          "data": {
            "text/plain": [
              "<function __main__.reg_plot>"
            ]
          },
          "metadata": {
            "tags": []
          },
          "execution_count": 42
        }
      ]
    },
    {
      "cell_type": "markdown",
      "metadata": {
        "id": "GWinvGGLIZi9"
      },
      "source": [
        "## Training Error"
      ]
    },
    {
      "cell_type": "code",
      "metadata": {
        "id": "hwK2BZQWNNXG"
      },
      "source": [
        "import pandas as pd\r\n",
        "import numpy as np\r\n",
        "import matplotlib.pyplot as plt\r\n",
        "import seaborn as sns\r\n"
      ],
      "execution_count": null,
      "outputs": []
    },
    {
      "cell_type": "code",
      "metadata": {
        "colab": {
          "base_uri": "https://localhost:8080/"
        },
        "id": "m_iK245UNWhP",
        "outputId": "0a54e39e-812b-43b3-a657-e379d0b9ed86"
      },
      "source": [
        "Elec = pd.read_csv('https://raw.githubusercontent.com/rusita-ai/pyData/master/Electric.csv')\r\n",
        "Elec.info()"
      ],
      "execution_count": null,
      "outputs": [
        {
          "output_type": "stream",
          "text": [
            "<class 'pandas.core.frame.DataFrame'>\n",
            "RangeIndex: 768 entries, 0 to 767\n",
            "Data columns (total 9 columns):\n",
            " #   Column                     Non-Null Count  Dtype  \n",
            "---  ------                     --------------  -----  \n",
            " 0   compactness                768 non-null    float64\n",
            " 1   surface_area               768 non-null    float64\n",
            " 2   wall_area                  768 non-null    float64\n",
            " 3   roof_area                  768 non-null    float64\n",
            " 4   height                     768 non-null    float64\n",
            " 5   orientation                768 non-null    int64  \n",
            " 6   glazing_area               768 non-null    float64\n",
            " 7   glazing_area_distribution  768 non-null    int64  \n",
            " 8   electricity                768 non-null    float64\n",
            "dtypes: float64(7), int64(2)\n",
            "memory usage: 54.1 KB\n"
          ],
          "name": "stdout"
        }
      ]
    },
    {
      "cell_type": "code",
      "metadata": {
        "id": "PfkeAyAeNsif",
        "colab": {
          "base_uri": "https://localhost:8080/"
        },
        "outputId": "cc930fef-caa1-4f00-bf57-9965df53cede"
      },
      "source": [
        "# X축(대문자) y축(소문자)\r\n",
        "X_train = Elec[['surface_area']]\r\n",
        "y_train = Elec['electricity']\r\n",
        "\r\n",
        "X_train.shape, y_train.shape"
      ],
      "execution_count": 18,
      "outputs": [
        {
          "output_type": "execute_result",
          "data": {
            "text/plain": [
              "((768, 1), (768,))"
            ]
          },
          "metadata": {
            "tags": []
          },
          "execution_count": 18
        }
      ]
    },
    {
      "cell_type": "code",
      "metadata": {
        "colab": {
          "base_uri": "https://localhost:8080/"
        },
        "id": "TAWngZ7of_X3",
        "outputId": "82f82754-008e-45c3-fb76-b7cfd42f1986"
      },
      "source": [
        "type(Elec)"
      ],
      "execution_count": 19,
      "outputs": [
        {
          "output_type": "execute_result",
          "data": {
            "text/plain": [
              "pandas.core.frame.DataFrame"
            ]
          },
          "metadata": {
            "tags": []
          },
          "execution_count": 19
        }
      ]
    },
    {
      "cell_type": "code",
      "metadata": {
        "colab": {
          "base_uri": "https://localhost:8080/"
        },
        "id": "eIvSG1oNgC7f",
        "outputId": "03470263-2a23-4ac4-e8a8-b84437a8efb9"
      },
      "source": [
        "type(Elec['surface_area'])"
      ],
      "execution_count": 20,
      "outputs": [
        {
          "output_type": "execute_result",
          "data": {
            "text/plain": [
              "pandas.core.series.Series"
            ]
          },
          "metadata": {
            "tags": []
          },
          "execution_count": 20
        }
      ]
    },
    {
      "cell_type": "code",
      "metadata": {
        "colab": {
          "base_uri": "https://localhost:8080/"
        },
        "id": "CmGIrdjdgG4n",
        "outputId": "70c95a36-d975-4c65-d008-ad401c804e74"
      },
      "source": [
        "type(Elec[['surface_area']])"
      ],
      "execution_count": 22,
      "outputs": [
        {
          "output_type": "execute_result",
          "data": {
            "text/plain": [
              "pandas.core.frame.DataFrame"
            ]
          },
          "metadata": {
            "tags": []
          },
          "execution_count": 22
        }
      ]
    },
    {
      "cell_type": "markdown",
      "metadata": {
        "id": "tuSCxL-hgKGn"
      },
      "source": [
        "### sklearn은 데이터프레임으로 넣어야 가능. or numpy array형태이거나\r\n",
        "<p>series = ------------- 이렇게 768개 (series는 데이터프레임 형태X)\r\n",
        "<p>sklearn은 x를 세로형태로 받아야.\r\n",
        "<p> 그래서 array.reshape로 만들던가.\r\n",
        "array.reshape(-1,1)\r\n",
        "<p> -1은 값이 어느정도인지 모를 때 사용. 가지고 있는 값의 형태로 전부 넣는. \r\n",
        "\r\n"
      ]
    },
    {
      "cell_type": "code",
      "metadata": {
        "colab": {
          "base_uri": "https://localhost:8080/"
        },
        "id": "qub2qjP9gZ5G",
        "outputId": "6cf9f631-2f83-4cb9-bef8-ae7b8e1f522b"
      },
      "source": [
        "# 책 - 선형모델 파트\r\n",
        "from sklearn.linear_model import LinearRegression\r\n",
        "\r\n",
        "#LinearGegression() - 함수 - 기본적으로 1차함수 제공\r\n",
        "Model_1 = LinearRegression()\r\n",
        "\r\n",
        "# 주어진 x,y를(X_train, y_train) Model_1(=LinearRegression)함수에 \r\n",
        "#fit(맞추는 것) w,b를 뽑아내겠지(1차니까 하나씩이겠지) - 기울기가 0인지점\r\n",
        "Model_1.fit(X_train, y_train)"
      ],
      "execution_count": null,
      "outputs": [
        {
          "output_type": "execute_result",
          "data": {
            "text/plain": [
              "LinearRegression(copy_X=True, fit_intercept=True, n_jobs=None, normalize=False)"
            ]
          },
          "metadata": {
            "tags": []
          },
          "execution_count": 47
        }
      ]
    },
    {
      "cell_type": "code",
      "metadata": {
        "colab": {
          "base_uri": "https://localhost:8080/"
        },
        "id": "3mnSmoH_hDEk",
        "outputId": "09b5f3e6-f422-49f9-8908-084116188491"
      },
      "source": [
        "# coef = w, intercept = b\r\n",
        "print(Model_1.coef_)\r\n",
        "print(Model_1.intercept_)\r\n",
        "# w가 음의 방향이니까 b의 값이 커짐"
      ],
      "execution_count": null,
      "outputs": [
        {
          "output_type": "stream",
          "text": [
            "[-0.75387157]\n",
            "729.4538243006992\n"
          ],
          "name": "stdout"
        }
      ]
    },
    {
      "cell_type": "code",
      "metadata": {
        "colab": {
          "base_uri": "https://localhost:8080/"
        },
        "id": "micCa5VLhXBF",
        "outputId": "d6e510b4-214e-427e-da30-54c9c29ab9f6"
      },
      "source": [
        "# predict - x값을 집어넣어서 y_hat(예측)값을 뽑아내는 함수/ \r\n",
        "# 학습된 값을 넣어서 예측값으로 뽑아내는 함수 \r\n",
        "# 실제 y값과 fit으로 예측한 식에 적용되는 y예측값은 다를\r\n",
        "y_hat_1 = Model_1.predict(X_train)\r\n",
        "\r\n",
        "#(X_train 이 768개 들어가니까 y_hat도 768개 나오겠지)\r\n",
        "len(y_hat_1)"
      ],
      "execution_count": null,
      "outputs": [
        {
          "output_type": "execute_result",
          "data": {
            "text/plain": [
              "768"
            ]
          },
          "metadata": {
            "tags": []
          },
          "execution_count": 50
        }
      ]
    },
    {
      "cell_type": "code",
      "metadata": {
        "colab": {
          "base_uri": "https://localhost:8080/"
        },
        "id": "IOWSyOUHiBVN",
        "outputId": "b81a7262-8b55-44d1-89a7-eae64fa6a327"
      },
      "source": [
        "# MSE 계산\r\n",
        "TR_Err_1 = np.mean((y_train - y_hat_1)**2)\r\n",
        "TR_Err_1"
      ],
      "execution_count": null,
      "outputs": [
        {
          "output_type": "execute_result",
          "data": {
            "text/plain": [
              "5763.983779426347"
            ]
          },
          "metadata": {
            "tags": []
          },
          "execution_count": 51
        }
      ]
    },
    {
      "cell_type": "markdown",
      "metadata": {
        "id": "i-uzL5O3iQIG"
      },
      "source": [
        "# 5차 모델(다항차수 변환)"
      ]
    },
    {
      "cell_type": "code",
      "metadata": {
        "id": "KcK_kfc7iVw1"
      },
      "source": [
        "from sklearn.preprocessing import PolynomialFeatures\r\n",
        "\r\n",
        "poly = PolynomialFeatures(degree=5, include_bias = False)\r\n",
        "\r\n",
        "#PX_5 = x의 차수가 5개인 5차식\r\n",
        "PX_5 = poly.fit_transform(X_train) # x 차수를 기준으로 변환"
      ],
      "execution_count": null,
      "outputs": []
    },
    {
      "cell_type": "code",
      "metadata": {
        "colab": {
          "base_uri": "https://localhost:8080/"
        },
        "id": "bTuyBQGOIZb2",
        "outputId": "b272f3b9-5210-43d9-96ff-3540e2b41510"
      },
      "source": [
        "# w(coef) = 5개 b(intercept)=1 전체 6개 파라미터\r\n",
        "PX_5  "
      ],
      "execution_count": null,
      "outputs": [
        {
          "output_type": "execute_result",
          "data": {
            "text/plain": [
              "array([[5.14500000e+02, 2.64710250e+05, 1.36193424e+08, 7.00715165e+10,\n",
              "        3.60517952e+13],\n",
              "       [5.14500000e+02, 2.64710250e+05, 1.36193424e+08, 7.00715165e+10,\n",
              "        3.60517952e+13],\n",
              "       [5.14500000e+02, 2.64710250e+05, 1.36193424e+08, 7.00715165e+10,\n",
              "        3.60517952e+13],\n",
              "       ...,\n",
              "       [8.08500000e+02, 6.53672250e+05, 5.28494014e+08, 4.27287410e+11,\n",
              "        3.45461871e+14],\n",
              "       [8.08500000e+02, 6.53672250e+05, 5.28494014e+08, 4.27287410e+11,\n",
              "        3.45461871e+14],\n",
              "       [8.08500000e+02, 6.53672250e+05, 5.28494014e+08, 4.27287410e+11,\n",
              "        3.45461871e+14]])"
            ]
          },
          "metadata": {
            "tags": []
          },
          "execution_count": 55
        }
      ]
    },
    {
      "cell_type": "code",
      "metadata": {
        "colab": {
          "base_uri": "https://localhost:8080/"
        },
        "id": "O4LbDe7HjHI1",
        "outputId": "93e21450-e096-4e06-d9a5-6a11ca067ed9"
      },
      "source": [
        "X_train.shape, PX_5.shape"
      ],
      "execution_count": null,
      "outputs": [
        {
          "output_type": "execute_result",
          "data": {
            "text/plain": [
              "((768, 1), (768, 5))"
            ]
          },
          "metadata": {
            "tags": []
          },
          "execution_count": 56
        }
      ]
    },
    {
      "cell_type": "code",
      "metadata": {
        "colab": {
          "base_uri": "https://localhost:8080/"
        },
        "id": "ylRSj6KmjW2m",
        "outputId": "dbd5031f-91db-4b3c-a4ea-88b2dd15a7c2"
      },
      "source": [
        "from sklearn.linear_model import LinearRegression\r\n",
        "\r\n",
        "Model_5 = LinearRegression()\r\n",
        "Model_5.fit(PX_5, y_train)"
      ],
      "execution_count": null,
      "outputs": [
        {
          "output_type": "execute_result",
          "data": {
            "text/plain": [
              "LinearRegression(copy_X=True, fit_intercept=True, n_jobs=None, normalize=False)"
            ]
          },
          "metadata": {
            "tags": []
          },
          "execution_count": 58
        }
      ]
    },
    {
      "cell_type": "code",
      "metadata": {
        "colab": {
          "base_uri": "https://localhost:8080/"
        },
        "id": "huE52XszkBss",
        "outputId": "5e2cdca0-b114-4e33-907c-7415898749b0"
      },
      "source": [
        "np.set_printoptions(suppress = True, precision = 10)\r\n",
        "\r\n",
        "print(Model_5.coef_)\r\n",
        "print(Model_5.intercept_)"
      ],
      "execution_count": null,
      "outputs": [
        {
          "output_type": "stream",
          "text": [
            "[-0.0003155148 -0.1029296835  0.0003787616 -0.0000005032  0.0000000002]\n",
            "2906.221625380881\n"
          ],
          "name": "stdout"
        }
      ]
    },
    {
      "cell_type": "code",
      "metadata": {
        "colab": {
          "base_uri": "https://localhost:8080/"
        },
        "id": "P8njMR_9kLUs",
        "outputId": "f7e84266-30d8-4d51-e966-79de4adfee08"
      },
      "source": [
        "# y 예측값도 동일하게 차수 변환해서 \r\n",
        "\r\n",
        "PX_5_pred = poly.fit_transform(X_train)\r\n",
        "\r\n",
        "#predict 예측값\r\n",
        "y_hat_5 = Model_5.predict(PX_5_pred)\r\n",
        "y_hat_5.shape"
      ],
      "execution_count": null,
      "outputs": [
        {
          "output_type": "execute_result",
          "data": {
            "text/plain": [
              "(768,)"
            ]
          },
          "metadata": {
            "tags": []
          },
          "execution_count": 60
        }
      ]
    },
    {
      "cell_type": "code",
      "metadata": {
        "colab": {
          "base_uri": "https://localhost:8080/"
        },
        "id": "VbRYKC7ikcYM",
        "outputId": "6301d4f0-af70-42ba-de6e-55e432d4c414"
      },
      "source": [
        "TR_Err_5 = np.mean((y_train - y_hat_5) **2)\r\n",
        "TR_Err_5"
      ],
      "execution_count": null,
      "outputs": [
        {
          "output_type": "execute_result",
          "data": {
            "text/plain": [
              "4177.726328606075"
            ]
          },
          "metadata": {
            "tags": []
          },
          "execution_count": 61
        }
      ]
    },
    {
      "cell_type": "markdown",
      "metadata": {
        "id": "kHEWI9OalANG"
      },
      "source": [
        "# 9차 다항식"
      ]
    },
    {
      "cell_type": "code",
      "metadata": {
        "id": "1VWImoy_lD98"
      },
      "source": [
        "from sklearn.preprocessing import PolynomialFeatures\r\n",
        "\r\n",
        "poly = PolynomialFeatures(degree=9, include_bias=False)\r\n",
        "PX_9 = poly.fit_transform(X_train)"
      ],
      "execution_count": null,
      "outputs": []
    },
    {
      "cell_type": "code",
      "metadata": {
        "colab": {
          "base_uri": "https://localhost:8080/"
        },
        "id": "RqHNRTjLlShO",
        "outputId": "87e73053-a62e-494d-a7c9-5d1429ccf16c"
      },
      "source": [
        "X_train.shape, PX_9.shape"
      ],
      "execution_count": null,
      "outputs": [
        {
          "output_type": "execute_result",
          "data": {
            "text/plain": [
              "((768, 1), (768, 9))"
            ]
          },
          "metadata": {
            "tags": []
          },
          "execution_count": 63
        }
      ]
    },
    {
      "cell_type": "code",
      "metadata": {
        "colab": {
          "base_uri": "https://localhost:8080/"
        },
        "id": "-0RQyM69lWB8",
        "outputId": "3d96c99f-7ddf-4bdc-c933-e33715e475b6"
      },
      "source": [
        "from sklearn.linear_model import LinearRegression\r\n",
        "\r\n",
        "Model_9 = LinearRegression()\r\n",
        "Model_9.fit(PX_9, y_train)"
      ],
      "execution_count": null,
      "outputs": [
        {
          "output_type": "execute_result",
          "data": {
            "text/plain": [
              "LinearRegression(copy_X=True, fit_intercept=True, n_jobs=None, normalize=False)"
            ]
          },
          "metadata": {
            "tags": []
          },
          "execution_count": 64
        }
      ]
    },
    {
      "cell_type": "code",
      "metadata": {
        "colab": {
          "base_uri": "https://localhost:8080/"
        },
        "id": "HnHI9O8OliPk",
        "outputId": "d0af5298-d862-484c-d37e-495dc666043c"
      },
      "source": [
        "print(Model_9.coef_)\r\n",
        "print(Model_9.intercept_)"
      ],
      "execution_count": null,
      "outputs": [
        {
          "output_type": "stream",
          "text": [
            "[ 0.  0.  0.  0.  0.  0. -0.  0. -0.]\n",
            "-440.08258373871365\n"
          ],
          "name": "stdout"
        }
      ]
    },
    {
      "cell_type": "code",
      "metadata": {
        "colab": {
          "base_uri": "https://localhost:8080/"
        },
        "id": "8HuKaaCYlpvs",
        "outputId": "32b65dbf-3039-4059-ef26-add269b2d4be"
      },
      "source": [
        "PX_9_pred = poly.fit_transform(X_train)\r\n",
        "y_hat_9 = Model_9.predict(PX_9_pred)\r\n",
        "y_hat_9.shape"
      ],
      "execution_count": null,
      "outputs": [
        {
          "output_type": "execute_result",
          "data": {
            "text/plain": [
              "(768,)"
            ]
          },
          "metadata": {
            "tags": []
          },
          "execution_count": 66
        }
      ]
    },
    {
      "cell_type": "code",
      "metadata": {
        "colab": {
          "base_uri": "https://localhost:8080/"
        },
        "id": "Z2dN-geYl2A9",
        "outputId": "866bab99-2ef2-4dd7-8ea3-35c8504b22cc"
      },
      "source": [
        "TR_Err_9=np.mean((y_train - y_hat_9) **2)\r\n",
        "TR_Err_9"
      ],
      "execution_count": null,
      "outputs": [
        {
          "output_type": "execute_result",
          "data": {
            "text/plain": [
              "4086.7199908150374"
            ]
          },
          "metadata": {
            "tags": []
          },
          "execution_count": 67
        }
      ]
    },
    {
      "cell_type": "code",
      "metadata": {
        "colab": {
          "base_uri": "https://localhost:8080/"
        },
        "id": "YQ2vVlljl9zU",
        "outputId": "d66bfd3b-2c63-4b61-d2ea-41e884e5631b"
      },
      "source": [
        "print('1차 모델 : ', TR_Err_1)\r\n",
        "print('5차 모델 : ', TR_Err_5)\r\n",
        "print('9차 모델 : ', TR_Err_9)"
      ],
      "execution_count": null,
      "outputs": [
        {
          "output_type": "stream",
          "text": [
            "1차 모델 :  5763.983779426347\n",
            "5차 모델 :  4177.726328606075\n",
            "9차 모델 :  4086.7199908150374\n"
          ],
          "name": "stdout"
        }
      ]
    },
    {
      "cell_type": "code",
      "metadata": {
        "colab": {
          "base_uri": "https://localhost:8080/",
          "height": 284
        },
        "id": "doZZ9sUwmHG7",
        "outputId": "0ff4fb47-c409-48b8-b938-57880b6eb092"
      },
      "source": [
        "sns.residplot(x='surface_area',\r\n",
        "              y='electricity',\r\n",
        "              data=Elec,\r\n",
        "              order=1,\r\n",
        "              scatter_kws={'edgecolor':'white'})\r\n",
        "plt.ylim(-300,  300)\r\n",
        "plt.show()"
      ],
      "execution_count": null,
      "outputs": [
        {
          "output_type": "display_data",
          "data": {
            "image/png": "[encoded data removed]",
            "text/plain": [
              "<Figure size 432x288 with 1 Axes>"
            ]
          },
          "metadata": {
            "tags": [],
            "needs_background": "light"
          }
        }
      ]
    },
    {
      "cell_type": "code",
      "metadata": {
        "colab": {
          "base_uri": "https://localhost:8080/",
          "height": 284
        },
        "id": "hyaXpz27mWDk",
        "outputId": "c8d3e6dd-b501-44e2-bd8a-a4b3a07e2519"
      },
      "source": [
        "sns.residplot(x='surface_area',\r\n",
        "              y='electricity',\r\n",
        "              data=Elec,\r\n",
        "              order=5,\r\n",
        "              scatter_kws={'edgecolor':'white'})\r\n",
        "plt.ylim(-300,  300)\r\n",
        "plt.show()"
      ],
      "execution_count": null,
      "outputs": [
        {
          "output_type": "display_data",
          "data": {
            "image/png": "[encoded data removed]",
            "text/plain": [
              "<Figure size 432x288 with 1 Axes>"
            ]
          },
          "metadata": {
            "tags": [],
            "needs_background": "light"
          }
        }
      ]
    },
    {
      "cell_type": "code",
      "metadata": {
        "colab": {
          "base_uri": "https://localhost:8080/",
          "height": 284
        },
        "id": "oM1eorW3mZVk",
        "outputId": "9c01df5a-bccf-4e85-a9b8-352a3bf70dcc"
      },
      "source": [
        "sns.residplot(x='surface_area',\r\n",
        "              y='electricity',\r\n",
        "              data=Elec,\r\n",
        "              order=9,\r\n",
        "              scatter_kws={'edgecolor':'white'})\r\n",
        "plt.ylim(-300,  300)\r\n",
        "plt.show()"
      ],
      "execution_count": null,
      "outputs": [
        {
          "output_type": "display_data",
          "data": {
            "image/png": "[encoded data removed]",
            "text/plain": [
              "<Figure size 432x288 with 1 Axes>"
            ]
          },
          "metadata": {
            "tags": [],
            "needs_background": "light"
          }
        }
      ]
    },
    {
      "cell_type": "code",
      "metadata": {
        "id": "am8494ohIZYn"
      },
      "source": [
        "sklearn은 다항식 사용을 위한 패키지\r\n",
        "\r\n",
        "polynomia~ 다항식 변형?\r\n",
        "poly = 단순히 객체\r\n",
        "\r\n",
        "\r\n",
        "\r\n",
        "행렬 계산을 통해 한번에 오차의 최적값의 연산식을 만드는"
      ],
      "execution_count": null,
      "outputs": []
    },
    {
      "cell_type": "code",
      "metadata": {
        "id": "J4ydRnnysN1G"
      },
      "source": [
        "import pandas as pd\r\n",
        "import matplotlib.pyplot as plt\r\n",
        "import seaborn as sns"
      ],
      "execution_count": null,
      "outputs": []
    },
    {
      "cell_type": "code",
      "metadata": {
        "colab": {
          "base_uri": "https://localhost:8080/"
        },
        "id": "EMd8x1R8sUbR",
        "outputId": "58cdd4e1-4045-4c3f-8d46-cff25114b12e"
      },
      "source": [
        "Elec=pd.read_csv('https://raw.githubusercontent.com/rusita-ai/pyData/master/Electric.csv')\r\n",
        "Elec.shape"
      ],
      "execution_count": null,
      "outputs": [
        {
          "output_type": "execute_result",
          "data": {
            "text/plain": [
              "(768, 9)"
            ]
          },
          "metadata": {
            "tags": []
          },
          "execution_count": 73
        }
      ]
    },
    {
      "cell_type": "code",
      "metadata": {
        "colab": {
          "base_uri": "https://localhost:8080/"
        },
        "id": "q9lIwldkr2Su",
        "outputId": "06184348-201f-40bb-f42c-73663812f994"
      },
      "source": [
        "#train_test_split = 데이터를 쪼개는 class. 트레이닝 데이터 vs 테스트 데이터\r\n",
        "\r\n",
        "from sklearn.model_selection import train_test_split\r\n",
        "\r\n",
        "# test_size = 20% 데이터 -random split으로 쪼개짐 but, random_state값을 정해놓으면 랜덤X (실험 복원을 위해서도 똑같은 형태로 쪼개짐)\r\n",
        "TR_Elec, TE_Elec = train_test_split(Elec, test_size=0.2, random_state =2045)\r\n",
        "\r\n",
        "TR_Elec.shape, TE_Elec.shape"
      ],
      "execution_count": null,
      "outputs": [
        {
          "output_type": "execute_result",
          "data": {
            "text/plain": [
              "((614, 9), (154, 9))"
            ]
          },
          "metadata": {
            "tags": []
          },
          "execution_count": 74
        }
      ]
    },
    {
      "cell_type": "code",
      "metadata": {
        "colab": {
          "base_uri": "https://localhost:8080/",
          "height": 219
        },
        "id": "5u2JiA8f1iPk",
        "outputId": "ade338b0-3940-45c8-969e-481b68e1ad3d"
      },
      "source": [
        "TR_Elec.head()"
      ],
      "execution_count": null,
      "outputs": [
        {
          "output_type": "execute_result",
          "data": {
            "text/html": [
              "<div>\n",
              "<style scoped>\n",
              "    .dataframe tbody tr th:only-of-type {\n",
              "        vertical-align: middle;\n",
              "    }\n",
              "\n",
              "    .dataframe tbody tr th {\n",
              "        vertical-align: top;\n",
              "    }\n",
              "\n",
              "    .dataframe thead th {\n",
              "        text-align: right;\n",
              "    }\n",
              "</style>\n",
              "<table border=\"1\" class=\"dataframe\">\n",
              "  <thead>\n",
              "    <tr style=\"text-align: right;\">\n",
              "      <th></th>\n",
              "      <th>compactness</th>\n",
              "      <th>surface_area</th>\n",
              "      <th>wall_area</th>\n",
              "      <th>roof_area</th>\n",
              "      <th>height</th>\n",
              "      <th>orientation</th>\n",
              "      <th>glazing_area</th>\n",
              "      <th>glazing_area_distribution</th>\n",
              "      <th>electricity</th>\n",
              "    </tr>\n",
              "  </thead>\n",
              "  <tbody>\n",
              "    <tr>\n",
              "      <th>555</th>\n",
              "      <td>0.74</td>\n",
              "      <td>686.0</td>\n",
              "      <td>245.0</td>\n",
              "      <td>220.5</td>\n",
              "      <td>3.5</td>\n",
              "      <td>5</td>\n",
              "      <td>0.40</td>\n",
              "      <td>1</td>\n",
              "      <td>145.5</td>\n",
              "    </tr>\n",
              "    <tr>\n",
              "      <th>355</th>\n",
              "      <td>0.79</td>\n",
              "      <td>637.0</td>\n",
              "      <td>343.0</td>\n",
              "      <td>147.0</td>\n",
              "      <td>7.0</td>\n",
              "      <td>5</td>\n",
              "      <td>0.25</td>\n",
              "      <td>2</td>\n",
              "      <td>389.8</td>\n",
              "    </tr>\n",
              "    <tr>\n",
              "      <th>200</th>\n",
              "      <td>0.86</td>\n",
              "      <td>588.0</td>\n",
              "      <td>294.0</td>\n",
              "      <td>147.0</td>\n",
              "      <td>7.0</td>\n",
              "      <td>2</td>\n",
              "      <td>0.10</td>\n",
              "      <td>4</td>\n",
              "      <td>264.4</td>\n",
              "    </tr>\n",
              "    <tr>\n",
              "      <th>669</th>\n",
              "      <td>0.62</td>\n",
              "      <td>808.5</td>\n",
              "      <td>367.5</td>\n",
              "      <td>220.5</td>\n",
              "      <td>3.5</td>\n",
              "      <td>3</td>\n",
              "      <td>0.40</td>\n",
              "      <td>3</td>\n",
              "      <td>163.5</td>\n",
              "    </tr>\n",
              "    <tr>\n",
              "      <th>561</th>\n",
              "      <td>0.69</td>\n",
              "      <td>735.0</td>\n",
              "      <td>294.0</td>\n",
              "      <td>220.5</td>\n",
              "      <td>3.5</td>\n",
              "      <td>3</td>\n",
              "      <td>0.40</td>\n",
              "      <td>1</td>\n",
              "      <td>147.0</td>\n",
              "    </tr>\n",
              "  </tbody>\n",
              "</table>\n",
              "</div>"
            ],
            "text/plain": [
              "     compactness  surface_area  ...  glazing_area_distribution  electricity\n",
              "555         0.74         686.0  ...                          1        145.5\n",
              "355         0.79         637.0  ...                          2        389.8\n",
              "200         0.86         588.0  ...                          4        264.4\n",
              "669         0.62         808.5  ...                          3        163.5\n",
              "561         0.69         735.0  ...                          1        147.0\n",
              "\n",
              "[5 rows x 9 columns]"
            ]
          },
          "metadata": {
            "tags": []
          },
          "execution_count": 75
        }
      ]
    },
    {
      "cell_type": "code",
      "metadata": {
        "colab": {
          "base_uri": "https://localhost:8080/",
          "height": 219
        },
        "id": "1Ar_maZn1n8U",
        "outputId": "54f62e23-0b38-4417-a28a-92d6b56f345a"
      },
      "source": [
        "TE_Elec.head()"
      ],
      "execution_count": null,
      "outputs": [
        {
          "output_type": "execute_result",
          "data": {
            "text/html": [
              "<div>\n",
              "<style scoped>\n",
              "    .dataframe tbody tr th:only-of-type {\n",
              "        vertical-align: middle;\n",
              "    }\n",
              "\n",
              "    .dataframe tbody tr th {\n",
              "        vertical-align: top;\n",
              "    }\n",
              "\n",
              "    .dataframe thead th {\n",
              "        text-align: right;\n",
              "    }\n",
              "</style>\n",
              "<table border=\"1\" class=\"dataframe\">\n",
              "  <thead>\n",
              "    <tr style=\"text-align: right;\">\n",
              "      <th></th>\n",
              "      <th>compactness</th>\n",
              "      <th>surface_area</th>\n",
              "      <th>wall_area</th>\n",
              "      <th>roof_area</th>\n",
              "      <th>height</th>\n",
              "      <th>orientation</th>\n",
              "      <th>glazing_area</th>\n",
              "      <th>glazing_area_distribution</th>\n",
              "      <th>electricity</th>\n",
              "    </tr>\n",
              "  </thead>\n",
              "  <tbody>\n",
              "    <tr>\n",
              "      <th>414</th>\n",
              "      <td>0.71</td>\n",
              "      <td>710.5</td>\n",
              "      <td>269.5</td>\n",
              "      <td>220.50</td>\n",
              "      <td>3.5</td>\n",
              "      <td>4</td>\n",
              "      <td>0.25</td>\n",
              "      <td>3</td>\n",
              "      <td>121.0</td>\n",
              "    </tr>\n",
              "    <tr>\n",
              "      <th>475</th>\n",
              "      <td>0.64</td>\n",
              "      <td>784.0</td>\n",
              "      <td>343.0</td>\n",
              "      <td>220.50</td>\n",
              "      <td>3.5</td>\n",
              "      <td>5</td>\n",
              "      <td>0.25</td>\n",
              "      <td>4</td>\n",
              "      <td>166.2</td>\n",
              "    </tr>\n",
              "    <tr>\n",
              "      <th>511</th>\n",
              "      <td>0.71</td>\n",
              "      <td>710.5</td>\n",
              "      <td>269.5</td>\n",
              "      <td>220.50</td>\n",
              "      <td>3.5</td>\n",
              "      <td>5</td>\n",
              "      <td>0.25</td>\n",
              "      <td>5</td>\n",
              "      <td>122.7</td>\n",
              "    </tr>\n",
              "    <tr>\n",
              "      <th>213</th>\n",
              "      <td>0.76</td>\n",
              "      <td>661.5</td>\n",
              "      <td>416.5</td>\n",
              "      <td>122.50</td>\n",
              "      <td>7.0</td>\n",
              "      <td>3</td>\n",
              "      <td>0.10</td>\n",
              "      <td>4</td>\n",
              "      <td>323.8</td>\n",
              "    </tr>\n",
              "    <tr>\n",
              "      <th>339</th>\n",
              "      <td>0.98</td>\n",
              "      <td>514.5</td>\n",
              "      <td>294.0</td>\n",
              "      <td>110.25</td>\n",
              "      <td>7.0</td>\n",
              "      <td>5</td>\n",
              "      <td>0.25</td>\n",
              "      <td>2</td>\n",
              "      <td>286.0</td>\n",
              "    </tr>\n",
              "  </tbody>\n",
              "</table>\n",
              "</div>"
            ],
            "text/plain": [
              "     compactness  surface_area  ...  glazing_area_distribution  electricity\n",
              "414         0.71         710.5  ...                          3        121.0\n",
              "475         0.64         784.0  ...                          4        166.2\n",
              "511         0.71         710.5  ...                          5        122.7\n",
              "213         0.76         661.5  ...                          4        323.8\n",
              "339         0.98         514.5  ...                          2        286.0\n",
              "\n",
              "[5 rows x 9 columns]"
            ]
          },
          "metadata": {
            "tags": []
          },
          "execution_count": 76
        }
      ]
    },
    {
      "cell_type": "code",
      "metadata": {
        "id": "wc2vybwI1rcc"
      },
      "source": [
        "from sklearn.model_selection import train_test_split\r\n",
        "\r\n",
        "X_train, X_test, y_train, y_test = train_test_split(Elec['surface_area'], Elec['electricity'],\r\n",
        "                                                    test_size= 0.2, random_state=2045)"
      ],
      "execution_count": null,
      "outputs": []
    },
    {
      "cell_type": "code",
      "metadata": {
        "colab": {
          "base_uri": "https://localhost:8080/"
        },
        "id": "DYkUroX62HLp",
        "outputId": "36022329-56b1-4e5d-e433-f337e1fc4019"
      },
      "source": [
        "X_train.shape, y_train.shape, X_test.shape, y_test.shape"
      ],
      "execution_count": null,
      "outputs": [
        {
          "output_type": "execute_result",
          "data": {
            "text/plain": [
              "((614, 1), (614,), (154, 1), (154,))"
            ]
          },
          "metadata": {
            "tags": []
          },
          "execution_count": 79
        }
      ]
    },
    {
      "cell_type": "code",
      "metadata": {
        "colab": {
          "base_uri": "https://localhost:8080/",
          "height": 199
        },
        "id": "c6Vq5d9V2WJb",
        "outputId": "0cbf6fd8-e92a-4414-962b-71e8087b90be"
      },
      "source": [
        "X_train.head()"
      ],
      "execution_count": null,
      "outputs": [
        {
          "output_type": "execute_result",
          "data": {
            "text/html": [
              "<div>\n",
              "<style scoped>\n",
              "    .dataframe tbody tr th:only-of-type {\n",
              "        vertical-align: middle;\n",
              "    }\n",
              "\n",
              "    .dataframe tbody tr th {\n",
              "        vertical-align: top;\n",
              "    }\n",
              "\n",
              "    .dataframe thead th {\n",
              "        text-align: right;\n",
              "    }\n",
              "</style>\n",
              "<table border=\"1\" class=\"dataframe\">\n",
              "  <thead>\n",
              "    <tr style=\"text-align: right;\">\n",
              "      <th></th>\n",
              "      <th>surface_area</th>\n",
              "    </tr>\n",
              "  </thead>\n",
              "  <tbody>\n",
              "    <tr>\n",
              "      <th>555</th>\n",
              "      <td>686.0</td>\n",
              "    </tr>\n",
              "    <tr>\n",
              "      <th>355</th>\n",
              "      <td>637.0</td>\n",
              "    </tr>\n",
              "    <tr>\n",
              "      <th>200</th>\n",
              "      <td>588.0</td>\n",
              "    </tr>\n",
              "    <tr>\n",
              "      <th>669</th>\n",
              "      <td>808.5</td>\n",
              "    </tr>\n",
              "    <tr>\n",
              "      <th>561</th>\n",
              "      <td>735.0</td>\n",
              "    </tr>\n",
              "  </tbody>\n",
              "</table>\n",
              "</div>"
            ],
            "text/plain": [
              "     surface_area\n",
              "555         686.0\n",
              "355         637.0\n",
              "200         588.0\n",
              "669         808.5\n",
              "561         735.0"
            ]
          },
          "metadata": {
            "tags": []
          },
          "execution_count": 80
        }
      ]
    },
    {
      "cell_type": "code",
      "metadata": {
        "colab": {
          "base_uri": "https://localhost:8080/"
        },
        "id": "pCmSjxdG2alB",
        "outputId": "664258d8-6136-41b1-f53f-c71b23242e35"
      },
      "source": [
        "y_train.head()"
      ],
      "execution_count": null,
      "outputs": [
        {
          "output_type": "execute_result",
          "data": {
            "text/plain": [
              "555    145.5\n",
              "355    389.8\n",
              "200    264.4\n",
              "669    163.5\n",
              "561    147.0\n",
              "Name: electricity, dtype: float64"
            ]
          },
          "metadata": {
            "tags": []
          },
          "execution_count": 81
        }
      ]
    },
    {
      "cell_type": "code",
      "metadata": {
        "colab": {
          "base_uri": "https://localhost:8080/",
          "height": 336
        },
        "id": "Lsrot5fB2eqL",
        "outputId": "7fc03bb8-5564-4758-bc6d-0dd632d3afd0"
      },
      "source": [
        "sns.scatterplot(TR_Elec['surface_area'],TR_Elec['electricity'])\r\n",
        "plt.show()"
      ],
      "execution_count": null,
      "outputs": [
        {
          "output_type": "stream",
          "text": [
            "/usr/local/lib/python3.7/dist-packages/seaborn/_decorators.py:43: FutureWarning: Pass the following variables as keyword args: x, y. From version 0.12, the only valid positional argument will be `data`, and passing other arguments without an explicit keyword will result in an error or misinterpretation.\n",
            "  FutureWarning\n"
          ],
          "name": "stderr"
        },
        {
          "output_type": "display_data",
          "data": {
            "image/png": "[encoded data removed]",
            "text/plain": [
              "<Figure size 432x288 with 1 Axes>"
            ]
          },
          "metadata": {
            "tags": [],
            "needs_background": "light"
          }
        }
      ]
    },
    {
      "cell_type": "code",
      "metadata": {
        "colab": {
          "base_uri": "https://localhost:8080/",
          "height": 336
        },
        "id": "blmTmCeC3CML",
        "outputId": "31eaecf7-4a08-4ce7-fad4-59a1d86a5736"
      },
      "source": [
        "sns.scatterplot(TE_Elec['surface_area'],TE_Elec['electricity'])\r\n",
        "plt.show()"
      ],
      "execution_count": null,
      "outputs": [
        {
          "output_type": "stream",
          "text": [
            "/usr/local/lib/python3.7/dist-packages/seaborn/_decorators.py:43: FutureWarning: Pass the following variables as keyword args: x, y. From version 0.12, the only valid positional argument will be `data`, and passing other arguments without an explicit keyword will result in an error or misinterpretation.\n",
            "  FutureWarning\n"
          ],
          "name": "stderr"
        },
        {
          "output_type": "display_data",
          "data": {
            "image/png": "[encoded data removed]",
            "text/plain": [
              "<Figure size 432x288 with 1 Axes>"
            ]
          },
          "metadata": {
            "tags": [],
            "needs_background": "light"
          }
        }
      ]
    },
    {
      "cell_type": "code",
      "metadata": {
        "colab": {
          "base_uri": "https://localhost:8080/",
          "height": 399
        },
        "id": "ABs-Jsfu3OdT",
        "outputId": "c2565ea8-6390-44a2-aec9-cfab6ab40f36"
      },
      "source": [
        "sns.scatterplot(X_train.shape, y_train.shape)"
      ],
      "execution_count": null,
      "outputs": [
        {
          "output_type": "stream",
          "text": [
            "/usr/local/lib/python3.7/dist-packages/seaborn/_decorators.py:43: FutureWarning: Pass the following variables as keyword args: x, y. From version 0.12, the only valid positional argument will be `data`, and passing other arguments without an explicit keyword will result in an error or misinterpretation.\n",
            "  FutureWarning\n"
          ],
          "name": "stderr"
        },
        {
          "output_type": "error",
          "ename": "ValueError",
          "evalue": "ignored",
          "traceback": [
            "\u001b[0;31m---------------------------------------------------------------------------\u001b[0m",
            "\u001b[0;31mValueError\u001b[0m                                Traceback (most recent call last)",
            "\u001b[0;32m<ipython-input-85-b565bd0f37e4>\u001b[0m in \u001b[0;36m<module>\u001b[0;34m()\u001b[0m\n\u001b[0;32m----> 1\u001b[0;31m \u001b[0msns\u001b[0m\u001b[0;34m.\u001b[0m\u001b[0mscatterplot\u001b[0m\u001b[0;34m(\u001b[0m\u001b[0mX_train\u001b[0m\u001b[0;34m.\u001b[0m\u001b[0mshape\u001b[0m\u001b[0;34m,\u001b[0m \u001b[0my_train\u001b[0m\u001b[0;34m.\u001b[0m\u001b[0mshape\u001b[0m\u001b[0;34m)\u001b[0m\u001b[0;34m\u001b[0m\u001b[0;34m\u001b[0m\u001b[0m\n\u001b[0m",
            "\u001b[0;32m/usr/local/lib/python3.7/dist-packages/seaborn/_decorators.py\u001b[0m in \u001b[0;36minner_f\u001b[0;34m(*args, **kwargs)\u001b[0m\n\u001b[1;32m     44\u001b[0m             )\n\u001b[1;32m     45\u001b[0m         \u001b[0mkwargs\u001b[0m\u001b[0;34m.\u001b[0m\u001b[0mupdate\u001b[0m\u001b[0;34m(\u001b[0m\u001b[0;34m{\u001b[0m\u001b[0mk\u001b[0m\u001b[0;34m:\u001b[0m \u001b[0marg\u001b[0m \u001b[0;32mfor\u001b[0m \u001b[0mk\u001b[0m\u001b[0;34m,\u001b[0m \u001b[0marg\u001b[0m \u001b[0;32min\u001b[0m \u001b[0mzip\u001b[0m\u001b[0;34m(\u001b[0m\u001b[0msig\u001b[0m\u001b[0;34m.\u001b[0m\u001b[0mparameters\u001b[0m\u001b[0;34m,\u001b[0m \u001b[0margs\u001b[0m\u001b[0;34m)\u001b[0m\u001b[0;34m}\u001b[0m\u001b[0;34m)\u001b[0m\u001b[0;34m\u001b[0m\u001b[0;34m\u001b[0m\u001b[0m\n\u001b[0;32m---> 46\u001b[0;31m         \u001b[0;32mreturn\u001b[0m \u001b[0mf\u001b[0m\u001b[0;34m(\u001b[0m\u001b[0;34m**\u001b[0m\u001b[0mkwargs\u001b[0m\u001b[0;34m)\u001b[0m\u001b[0;34m\u001b[0m\u001b[0;34m\u001b[0m\u001b[0m\n\u001b[0m\u001b[1;32m     47\u001b[0m     \u001b[0;32mreturn\u001b[0m \u001b[0minner_f\u001b[0m\u001b[0;34m\u001b[0m\u001b[0;34m\u001b[0m\u001b[0m\n\u001b[1;32m     48\u001b[0m \u001b[0;34m\u001b[0m\u001b[0m\n",
            "\u001b[0;32m/usr/local/lib/python3.7/dist-packages/seaborn/relational.py\u001b[0m in \u001b[0;36mscatterplot\u001b[0;34m(x, y, hue, style, size, data, palette, hue_order, hue_norm, sizes, size_order, size_norm, markers, style_order, x_bins, y_bins, units, estimator, ci, n_boot, alpha, x_jitter, y_jitter, legend, ax, **kwargs)\u001b[0m\n\u001b[1;32m    803\u001b[0m         \u001b[0mx_bins\u001b[0m\u001b[0;34m=\u001b[0m\u001b[0mx_bins\u001b[0m\u001b[0;34m,\u001b[0m \u001b[0my_bins\u001b[0m\u001b[0;34m=\u001b[0m\u001b[0my_bins\u001b[0m\u001b[0;34m,\u001b[0m\u001b[0;34m\u001b[0m\u001b[0;34m\u001b[0m\u001b[0m\n\u001b[1;32m    804\u001b[0m         \u001b[0mestimator\u001b[0m\u001b[0;34m=\u001b[0m\u001b[0mestimator\u001b[0m\u001b[0;34m,\u001b[0m \u001b[0mci\u001b[0m\u001b[0;34m=\u001b[0m\u001b[0mci\u001b[0m\u001b[0;34m,\u001b[0m \u001b[0mn_boot\u001b[0m\u001b[0;34m=\u001b[0m\u001b[0mn_boot\u001b[0m\u001b[0;34m,\u001b[0m\u001b[0;34m\u001b[0m\u001b[0;34m\u001b[0m\u001b[0m\n\u001b[0;32m--> 805\u001b[0;31m         \u001b[0malpha\u001b[0m\u001b[0;34m=\u001b[0m\u001b[0malpha\u001b[0m\u001b[0;34m,\u001b[0m \u001b[0mx_jitter\u001b[0m\u001b[0;34m=\u001b[0m\u001b[0mx_jitter\u001b[0m\u001b[0;34m,\u001b[0m \u001b[0my_jitter\u001b[0m\u001b[0;34m=\u001b[0m\u001b[0my_jitter\u001b[0m\u001b[0;34m,\u001b[0m \u001b[0mlegend\u001b[0m\u001b[0;34m=\u001b[0m\u001b[0mlegend\u001b[0m\u001b[0;34m,\u001b[0m\u001b[0;34m\u001b[0m\u001b[0;34m\u001b[0m\u001b[0m\n\u001b[0m\u001b[1;32m    806\u001b[0m     )\n\u001b[1;32m    807\u001b[0m \u001b[0;34m\u001b[0m\u001b[0m\n",
            "\u001b[0;32m/usr/local/lib/python3.7/dist-packages/seaborn/relational.py\u001b[0m in \u001b[0;36m__init__\u001b[0;34m(self, data, variables, x_bins, y_bins, estimator, ci, n_boot, alpha, x_jitter, y_jitter, legend)\u001b[0m\n\u001b[1;32m    585\u001b[0m         )\n\u001b[1;32m    586\u001b[0m \u001b[0;34m\u001b[0m\u001b[0m\n\u001b[0;32m--> 587\u001b[0;31m         \u001b[0msuper\u001b[0m\u001b[0;34m(\u001b[0m\u001b[0;34m)\u001b[0m\u001b[0;34m.\u001b[0m\u001b[0m__init__\u001b[0m\u001b[0;34m(\u001b[0m\u001b[0mdata\u001b[0m\u001b[0;34m=\u001b[0m\u001b[0mdata\u001b[0m\u001b[0;34m,\u001b[0m \u001b[0mvariables\u001b[0m\u001b[0;34m=\u001b[0m\u001b[0mvariables\u001b[0m\u001b[0;34m)\u001b[0m\u001b[0;34m\u001b[0m\u001b[0;34m\u001b[0m\u001b[0m\n\u001b[0m\u001b[1;32m    588\u001b[0m \u001b[0;34m\u001b[0m\u001b[0m\n\u001b[1;32m    589\u001b[0m         \u001b[0mself\u001b[0m\u001b[0;34m.\u001b[0m\u001b[0malpha\u001b[0m \u001b[0;34m=\u001b[0m \u001b[0malpha\u001b[0m\u001b[0;34m\u001b[0m\u001b[0;34m\u001b[0m\u001b[0m\n",
            "\u001b[0;32m/usr/local/lib/python3.7/dist-packages/seaborn/_core.py\u001b[0m in \u001b[0;36m__init__\u001b[0;34m(self, data, variables)\u001b[0m\n\u001b[1;32m    602\u001b[0m     \u001b[0;32mdef\u001b[0m \u001b[0m__init__\u001b[0m\u001b[0;34m(\u001b[0m\u001b[0mself\u001b[0m\u001b[0;34m,\u001b[0m \u001b[0mdata\u001b[0m\u001b[0;34m=\u001b[0m\u001b[0;32mNone\u001b[0m\u001b[0;34m,\u001b[0m \u001b[0mvariables\u001b[0m\u001b[0;34m=\u001b[0m\u001b[0;34m{\u001b[0m\u001b[0;34m}\u001b[0m\u001b[0;34m)\u001b[0m\u001b[0;34m:\u001b[0m\u001b[0;34m\u001b[0m\u001b[0;34m\u001b[0m\u001b[0m\n\u001b[1;32m    603\u001b[0m \u001b[0;34m\u001b[0m\u001b[0m\n\u001b[0;32m--> 604\u001b[0;31m         \u001b[0mself\u001b[0m\u001b[0;34m.\u001b[0m\u001b[0massign_variables\u001b[0m\u001b[0;34m(\u001b[0m\u001b[0mdata\u001b[0m\u001b[0;34m,\u001b[0m \u001b[0mvariables\u001b[0m\u001b[0;34m)\u001b[0m\u001b[0;34m\u001b[0m\u001b[0;34m\u001b[0m\u001b[0m\n\u001b[0m\u001b[1;32m    605\u001b[0m \u001b[0;34m\u001b[0m\u001b[0m\n\u001b[1;32m    606\u001b[0m         \u001b[0;32mfor\u001b[0m \u001b[0mvar\u001b[0m\u001b[0;34m,\u001b[0m \u001b[0mcls\u001b[0m \u001b[0;32min\u001b[0m \u001b[0mself\u001b[0m\u001b[0;34m.\u001b[0m\u001b[0m_semantic_mappings\u001b[0m\u001b[0;34m.\u001b[0m\u001b[0mitems\u001b[0m\u001b[0;34m(\u001b[0m\u001b[0;34m)\u001b[0m\u001b[0;34m:\u001b[0m\u001b[0;34m\u001b[0m\u001b[0;34m\u001b[0m\u001b[0m\n",
            "\u001b[0;32m/usr/local/lib/python3.7/dist-packages/seaborn/_core.py\u001b[0m in \u001b[0;36massign_variables\u001b[0;34m(self, data, variables)\u001b[0m\n\u001b[1;32m    666\u001b[0m             \u001b[0mself\u001b[0m\u001b[0;34m.\u001b[0m\u001b[0minput_format\u001b[0m \u001b[0;34m=\u001b[0m \u001b[0;34m\"long\"\u001b[0m\u001b[0;34m\u001b[0m\u001b[0;34m\u001b[0m\u001b[0m\n\u001b[1;32m    667\u001b[0m             plot_data, variables = self._assign_variables_longform(\n\u001b[0;32m--> 668\u001b[0;31m                 \u001b[0mdata\u001b[0m\u001b[0;34m,\u001b[0m \u001b[0;34m**\u001b[0m\u001b[0mvariables\u001b[0m\u001b[0;34m,\u001b[0m\u001b[0;34m\u001b[0m\u001b[0;34m\u001b[0m\u001b[0m\n\u001b[0m\u001b[1;32m    669\u001b[0m             )\n\u001b[1;32m    670\u001b[0m \u001b[0;34m\u001b[0m\u001b[0m\n",
            "\u001b[0;32m/usr/local/lib/python3.7/dist-packages/seaborn/_core.py\u001b[0m in \u001b[0;36m_assign_variables_longform\u001b[0;34m(self, data, **kwargs)\u001b[0m\n\u001b[1;32m    924\u001b[0m         \u001b[0;31m# Construct a tidy plot DataFrame. This will convert a number of\u001b[0m\u001b[0;34m\u001b[0m\u001b[0;34m\u001b[0m\u001b[0;34m\u001b[0m\u001b[0m\n\u001b[1;32m    925\u001b[0m         \u001b[0;31m# types automatically, aligning on index in case of pandas objects\u001b[0m\u001b[0;34m\u001b[0m\u001b[0;34m\u001b[0m\u001b[0;34m\u001b[0m\u001b[0m\n\u001b[0;32m--> 926\u001b[0;31m         \u001b[0mplot_data\u001b[0m \u001b[0;34m=\u001b[0m \u001b[0mpd\u001b[0m\u001b[0;34m.\u001b[0m\u001b[0mDataFrame\u001b[0m\u001b[0;34m(\u001b[0m\u001b[0mplot_data\u001b[0m\u001b[0;34m)\u001b[0m\u001b[0;34m\u001b[0m\u001b[0;34m\u001b[0m\u001b[0m\n\u001b[0m\u001b[1;32m    927\u001b[0m \u001b[0;34m\u001b[0m\u001b[0m\n\u001b[1;32m    928\u001b[0m         \u001b[0;31m# Reduce the variables dictionary to fields with valid data\u001b[0m\u001b[0;34m\u001b[0m\u001b[0;34m\u001b[0m\u001b[0;34m\u001b[0m\u001b[0m\n",
            "\u001b[0;32m/usr/local/lib/python3.7/dist-packages/pandas/core/frame.py\u001b[0m in \u001b[0;36m__init__\u001b[0;34m(self, data, index, columns, dtype, copy)\u001b[0m\n\u001b[1;32m    466\u001b[0m \u001b[0;34m\u001b[0m\u001b[0m\n\u001b[1;32m    467\u001b[0m         \u001b[0;32melif\u001b[0m \u001b[0misinstance\u001b[0m\u001b[0;34m(\u001b[0m\u001b[0mdata\u001b[0m\u001b[0;34m,\u001b[0m \u001b[0mdict\u001b[0m\u001b[0;34m)\u001b[0m\u001b[0;34m:\u001b[0m\u001b[0;34m\u001b[0m\u001b[0;34m\u001b[0m\u001b[0m\n\u001b[0;32m--> 468\u001b[0;31m             \u001b[0mmgr\u001b[0m \u001b[0;34m=\u001b[0m \u001b[0minit_dict\u001b[0m\u001b[0;34m(\u001b[0m\u001b[0mdata\u001b[0m\u001b[0;34m,\u001b[0m \u001b[0mindex\u001b[0m\u001b[0;34m,\u001b[0m \u001b[0mcolumns\u001b[0m\u001b[0;34m,\u001b[0m \u001b[0mdtype\u001b[0m\u001b[0;34m=\u001b[0m\u001b[0mdtype\u001b[0m\u001b[0;34m)\u001b[0m\u001b[0;34m\u001b[0m\u001b[0;34m\u001b[0m\u001b[0m\n\u001b[0m\u001b[1;32m    469\u001b[0m         \u001b[0;32melif\u001b[0m \u001b[0misinstance\u001b[0m\u001b[0;34m(\u001b[0m\u001b[0mdata\u001b[0m\u001b[0;34m,\u001b[0m \u001b[0mma\u001b[0m\u001b[0;34m.\u001b[0m\u001b[0mMaskedArray\u001b[0m\u001b[0;34m)\u001b[0m\u001b[0;34m:\u001b[0m\u001b[0;34m\u001b[0m\u001b[0;34m\u001b[0m\u001b[0m\n\u001b[1;32m    470\u001b[0m             \u001b[0;32mimport\u001b[0m \u001b[0mnumpy\u001b[0m\u001b[0;34m.\u001b[0m\u001b[0mma\u001b[0m\u001b[0;34m.\u001b[0m\u001b[0mmrecords\u001b[0m \u001b[0;32mas\u001b[0m \u001b[0mmrecords\u001b[0m\u001b[0;34m\u001b[0m\u001b[0;34m\u001b[0m\u001b[0m\n",
            "\u001b[0;32m/usr/local/lib/python3.7/dist-packages/pandas/core/internals/construction.py\u001b[0m in \u001b[0;36minit_dict\u001b[0;34m(data, index, columns, dtype)\u001b[0m\n\u001b[1;32m    281\u001b[0m             \u001b[0marr\u001b[0m \u001b[0;32mif\u001b[0m \u001b[0;32mnot\u001b[0m \u001b[0mis_datetime64tz_dtype\u001b[0m\u001b[0;34m(\u001b[0m\u001b[0marr\u001b[0m\u001b[0;34m)\u001b[0m \u001b[0;32melse\u001b[0m \u001b[0marr\u001b[0m\u001b[0;34m.\u001b[0m\u001b[0mcopy\u001b[0m\u001b[0;34m(\u001b[0m\u001b[0;34m)\u001b[0m \u001b[0;32mfor\u001b[0m \u001b[0marr\u001b[0m \u001b[0;32min\u001b[0m \u001b[0marrays\u001b[0m\u001b[0;34m\u001b[0m\u001b[0;34m\u001b[0m\u001b[0m\n\u001b[1;32m    282\u001b[0m         ]\n\u001b[0;32m--> 283\u001b[0;31m     \u001b[0;32mreturn\u001b[0m \u001b[0marrays_to_mgr\u001b[0m\u001b[0;34m(\u001b[0m\u001b[0marrays\u001b[0m\u001b[0;34m,\u001b[0m \u001b[0mdata_names\u001b[0m\u001b[0;34m,\u001b[0m \u001b[0mindex\u001b[0m\u001b[0;34m,\u001b[0m \u001b[0mcolumns\u001b[0m\u001b[0;34m,\u001b[0m \u001b[0mdtype\u001b[0m\u001b[0;34m=\u001b[0m\u001b[0mdtype\u001b[0m\u001b[0;34m)\u001b[0m\u001b[0;34m\u001b[0m\u001b[0;34m\u001b[0m\u001b[0m\n\u001b[0m\u001b[1;32m    284\u001b[0m \u001b[0;34m\u001b[0m\u001b[0m\n\u001b[1;32m    285\u001b[0m \u001b[0;34m\u001b[0m\u001b[0m\n",
            "\u001b[0;32m/usr/local/lib/python3.7/dist-packages/pandas/core/internals/construction.py\u001b[0m in \u001b[0;36marrays_to_mgr\u001b[0;34m(arrays, arr_names, index, columns, dtype, verify_integrity)\u001b[0m\n\u001b[1;32m     76\u001b[0m         \u001b[0;31m# figure out the index, if necessary\u001b[0m\u001b[0;34m\u001b[0m\u001b[0;34m\u001b[0m\u001b[0;34m\u001b[0m\u001b[0m\n\u001b[1;32m     77\u001b[0m         \u001b[0;32mif\u001b[0m \u001b[0mindex\u001b[0m \u001b[0;32mis\u001b[0m \u001b[0;32mNone\u001b[0m\u001b[0;34m:\u001b[0m\u001b[0;34m\u001b[0m\u001b[0;34m\u001b[0m\u001b[0m\n\u001b[0;32m---> 78\u001b[0;31m             \u001b[0mindex\u001b[0m \u001b[0;34m=\u001b[0m \u001b[0mextract_index\u001b[0m\u001b[0;34m(\u001b[0m\u001b[0marrays\u001b[0m\u001b[0;34m)\u001b[0m\u001b[0;34m\u001b[0m\u001b[0;34m\u001b[0m\u001b[0m\n\u001b[0m\u001b[1;32m     79\u001b[0m         \u001b[0;32melse\u001b[0m\u001b[0;34m:\u001b[0m\u001b[0;34m\u001b[0m\u001b[0;34m\u001b[0m\u001b[0m\n\u001b[1;32m     80\u001b[0m             \u001b[0mindex\u001b[0m \u001b[0;34m=\u001b[0m \u001b[0mensure_index\u001b[0m\u001b[0;34m(\u001b[0m\u001b[0mindex\u001b[0m\u001b[0;34m)\u001b[0m\u001b[0;34m\u001b[0m\u001b[0;34m\u001b[0m\u001b[0m\n",
            "\u001b[0;32m/usr/local/lib/python3.7/dist-packages/pandas/core/internals/construction.py\u001b[0m in \u001b[0;36mextract_index\u001b[0;34m(data)\u001b[0m\n\u001b[1;32m    395\u001b[0m             \u001b[0mlengths\u001b[0m \u001b[0;34m=\u001b[0m \u001b[0mlist\u001b[0m\u001b[0;34m(\u001b[0m\u001b[0mset\u001b[0m\u001b[0;34m(\u001b[0m\u001b[0mraw_lengths\u001b[0m\u001b[0;34m)\u001b[0m\u001b[0;34m)\u001b[0m\u001b[0;34m\u001b[0m\u001b[0;34m\u001b[0m\u001b[0m\n\u001b[1;32m    396\u001b[0m             \u001b[0;32mif\u001b[0m \u001b[0mlen\u001b[0m\u001b[0;34m(\u001b[0m\u001b[0mlengths\u001b[0m\u001b[0;34m)\u001b[0m \u001b[0;34m>\u001b[0m \u001b[0;36m1\u001b[0m\u001b[0;34m:\u001b[0m\u001b[0;34m\u001b[0m\u001b[0;34m\u001b[0m\u001b[0m\n\u001b[0;32m--> 397\u001b[0;31m                 \u001b[0;32mraise\u001b[0m \u001b[0mValueError\u001b[0m\u001b[0;34m(\u001b[0m\u001b[0;34m\"arrays must all be same length\"\u001b[0m\u001b[0;34m)\u001b[0m\u001b[0;34m\u001b[0m\u001b[0;34m\u001b[0m\u001b[0m\n\u001b[0m\u001b[1;32m    398\u001b[0m \u001b[0;34m\u001b[0m\u001b[0m\n\u001b[1;32m    399\u001b[0m             \u001b[0;32mif\u001b[0m \u001b[0mhave_dicts\u001b[0m\u001b[0;34m:\u001b[0m\u001b[0;34m\u001b[0m\u001b[0;34m\u001b[0m\u001b[0m\n",
            "\u001b[0;31mValueError\u001b[0m: arrays must all be same length"
          ]
        }
      ]
    },
    {
      "cell_type": "code",
      "metadata": {
        "colab": {
          "base_uri": "https://localhost:8080/"
        },
        "id": "HA6Vy3HT3dSr",
        "outputId": "4d02bd8f-97c0-402b-87aa-b55bb4da2d43"
      },
      "source": [
        "from sklearn.linear_model import LinearRegression\r\n",
        "Model_1 = LinearRegression()\r\n",
        "\r\n",
        "#fit( train 데이터) pridict(test 데이터)\r\n",
        "Model_1.fit(X_train, y_train)"
      ],
      "execution_count": null,
      "outputs": [
        {
          "output_type": "execute_result",
          "data": {
            "text/plain": [
              "LinearRegression(copy_X=True, fit_intercept=True, n_jobs=None, normalize=False)"
            ]
          },
          "metadata": {
            "tags": []
          },
          "execution_count": 86
        }
      ]
    },
    {
      "cell_type": "code",
      "metadata": {
        "colab": {
          "base_uri": "https://localhost:8080/"
        },
        "id": "iTQIdk3h3vd1",
        "outputId": "a3254f95-7a81-4480-d0b5-76e78184ee0c"
      },
      "source": [
        "#pridict(test 데이터)\r\n",
        "y_hat_1 = Model_1.predict(X_test)\r\n",
        "y_hat_1.shape"
      ],
      "execution_count": null,
      "outputs": [
        {
          "output_type": "execute_result",
          "data": {
            "text/plain": [
              "(154,)"
            ]
          },
          "metadata": {
            "tags": []
          },
          "execution_count": 87
        }
      ]
    },
    {
      "cell_type": "code",
      "metadata": {
        "colab": {
          "base_uri": "https://localhost:8080/"
        },
        "id": "trZ04EPi4CuL",
        "outputId": "38612049-6b26-40ad-97b7-154a129a1135"
      },
      "source": [
        "from sklearn.metrics import mean_squared_error\r\n",
        "\r\n",
        "TE_Err_1 = mean_squared_error(y_test, y_hat_1)\r\n",
        "TE_Err_1"
      ],
      "execution_count": null,
      "outputs": [
        {
          "output_type": "execute_result",
          "data": {
            "text/plain": [
              "6044.176547629271"
            ]
          },
          "metadata": {
            "tags": []
          },
          "execution_count": 89
        }
      ]
    },
    {
      "cell_type": "code",
      "metadata": {
        "id": "3AOGq7Da4Ntr"
      },
      "source": [
        "from sklearn.preprocessing import PolynomialFeatures\r\n",
        "\r\n",
        "poly=PolynomialFeatures(degree=5, include_bias=False)\r\n",
        "PX_5_TR = poly.fit_transform(X_train)"
      ],
      "execution_count": null,
      "outputs": []
    },
    {
      "cell_type": "code",
      "metadata": {
        "colab": {
          "base_uri": "https://localhost:8080/"
        },
        "id": "lhSPTGem5LEk",
        "outputId": "80b28fd3-3413-4239-80c5-5de07ab749c7"
      },
      "source": [
        "from sklearn.linear_model import LinearRegression\r\n",
        "\r\n",
        "Model_5 = LinearRegression()\r\n",
        "# fit = 학습시키기\r\n",
        "Model_5.fit(PX_5_TR, y_train)"
      ],
      "execution_count": null,
      "outputs": [
        {
          "output_type": "execute_result",
          "data": {
            "text/plain": [
              "LinearRegression(copy_X=True, fit_intercept=True, n_jobs=None, normalize=False)"
            ]
          },
          "metadata": {
            "tags": []
          },
          "execution_count": 92
        }
      ]
    },
    {
      "cell_type": "code",
      "metadata": {
        "id": "awqR3UfN5Uz7"
      },
      "source": [
        "PX_5_TE=poly.fit_transform(X_test)\r\n",
        "y_hat_5 = Model_5.predict(PX_5_TE)"
      ],
      "execution_count": null,
      "outputs": []
    },
    {
      "cell_type": "code",
      "metadata": {
        "colab": {
          "base_uri": "https://localhost:8080/"
        },
        "id": "QHg_z9dy5kk7",
        "outputId": "2ffb23ec-8b24-468b-b974-a53d94f9565a"
      },
      "source": [
        "from sklearn.metrics import mean_squared_error\r\n",
        "\r\n",
        "TE_Err_5 = mean_squared_error(y_test, y_hat_5)\r\n",
        "TE_Err_5\r\n",
        "\r\n",
        "# training error는 확인 X test데이터로 에러 확인"
      ],
      "execution_count": null,
      "outputs": [
        {
          "output_type": "execute_result",
          "data": {
            "text/plain": [
              "4330.604566409499"
            ]
          },
          "metadata": {
            "tags": []
          },
          "execution_count": 94
        }
      ]
    },
    {
      "cell_type": "code",
      "metadata": {
        "id": "yJHDeZ7n5uTs"
      },
      "source": [
        "from sklearn.preprocessing import PolynomialFeatures\r\n",
        "\r\n",
        "poly = PolynomialFeatures(degree=9, include_bias= False)\r\n",
        "PX_9_TR = poly.fit_transform(X_train)"
      ],
      "execution_count": null,
      "outputs": []
    },
    {
      "cell_type": "code",
      "metadata": {
        "colab": {
          "base_uri": "https://localhost:8080/"
        },
        "id": "mnznh3N76AKD",
        "outputId": "497015b1-37b3-4e50-96c1-752b62e3ae55"
      },
      "source": [
        "from sklearn.linear_model import LinearRegression\r\n",
        "Model_9 = LinearRegression()\r\n",
        "Model_9.fit(PX_9_TR, y_train)"
      ],
      "execution_count": null,
      "outputs": [
        {
          "output_type": "execute_result",
          "data": {
            "text/plain": [
              "LinearRegression(copy_X=True, fit_intercept=True, n_jobs=None, normalize=False)"
            ]
          },
          "metadata": {
            "tags": []
          },
          "execution_count": 96
        }
      ]
    },
    {
      "cell_type": "code",
      "metadata": {
        "id": "ZvKEa1ra6Juz"
      },
      "source": [
        "PX_9_TE = poly.fit_transform(X_test)\r\n",
        "y_hat_9 = Model_9.predict(PX_9_TE)"
      ],
      "execution_count": null,
      "outputs": []
    },
    {
      "cell_type": "code",
      "metadata": {
        "colab": {
          "base_uri": "https://localhost:8080/"
        },
        "id": "foI7jlK06aaz",
        "outputId": "a5ddb351-69a4-46f9-db58-adf31050e7a2"
      },
      "source": [
        "from sklearn.metrics import mean_squared_error\r\n",
        "\r\n",
        "TE_Err_9 = mean_squared_error(y_test, y_hat_9)\r\n",
        "TE_Err_9"
      ],
      "execution_count": null,
      "outputs": [
        {
          "output_type": "execute_result",
          "data": {
            "text/plain": [
              "4238.689067137633"
            ]
          },
          "metadata": {
            "tags": []
          },
          "execution_count": 98
        }
      ]
    },
    {
      "cell_type": "code",
      "metadata": {
        "colab": {
          "base_uri": "https://localhost:8080/"
        },
        "id": "lvsJfWqp6iHi",
        "outputId": "0b8087d6-2881-4f60-c934-e5121ba444ef"
      },
      "source": [
        "print('1차 모델 : ', TE_Err_1)\r\n",
        "print('5차 모델 : ', TE_Err_5)\r\n",
        "print('9차 모델 : ', TE_Err_9)"
      ],
      "execution_count": null,
      "outputs": [
        {
          "output_type": "stream",
          "text": [
            "1차 모델 :  6044.176547629271\n",
            "5차 모델 :  4330.604566409499\n",
            "9차 모델 :  4238.689067137633\n"
          ],
          "name": "stdout"
        }
      ]
    },
    {
      "cell_type": "markdown",
      "metadata": {
        "id": "DH0zPTV86xmj"
      },
      "source": [
        "# Validation Approach"
      ]
    },
    {
      "cell_type": "code",
      "metadata": {
        "id": "T9eHTqTvXoxo"
      },
      "source": [
        "import pandas as pd"
      ],
      "execution_count": 1,
      "outputs": []
    },
    {
      "cell_type": "code",
      "metadata": {
        "colab": {
          "base_uri": "https://localhost:8080/"
        },
        "id": "4Mlt5fi6XtPG",
        "outputId": "a160b9fb-062a-4ee9-8d57-b5d8387445e3"
      },
      "source": [
        "Elec = pd.read_csv('https://raw.githubusercontent.com/rusita-ai/pyData/master/Electric.csv')\r\n",
        "Elec.info()"
      ],
      "execution_count": 2,
      "outputs": [
        {
          "output_type": "stream",
          "text": [
            "<class 'pandas.core.frame.DataFrame'>\n",
            "RangeIndex: 768 entries, 0 to 767\n",
            "Data columns (total 9 columns):\n",
            " #   Column                     Non-Null Count  Dtype  \n",
            "---  ------                     --------------  -----  \n",
            " 0   compactness                768 non-null    float64\n",
            " 1   surface_area               768 non-null    float64\n",
            " 2   wall_area                  768 non-null    float64\n",
            " 3   roof_area                  768 non-null    float64\n",
            " 4   height                     768 non-null    float64\n",
            " 5   orientation                768 non-null    int64  \n",
            " 6   glazing_area               768 non-null    float64\n",
            " 7   glazing_area_distribution  768 non-null    int64  \n",
            " 8   electricity                768 non-null    float64\n",
            "dtypes: float64(7), int64(2)\n",
            "memory usage: 54.1 KB\n"
          ],
          "name": "stdout"
        }
      ]
    },
    {
      "cell_type": "code",
      "metadata": {
        "colab": {
          "base_uri": "https://localhost:8080/"
        },
        "id": "cJ-qL-vxX3jx",
        "outputId": "c732fa7a-b8ff-4472-8ffb-42d3e5ee5102"
      },
      "source": [
        "from sklearn.model_selection import train_test_split\r\n",
        "\r\n",
        "X_remain, X_test, y_remain, y_test = train_test_split(Elec[['surface_area']], Elec['electricity'],\r\n",
        "                                                      test_size = int(len(Elec) * 0.2),\r\n",
        "                                                      random_state = 2045)\r\n",
        "\r\n",
        "print(X_remain.shape, y_remain.shape)\r\n",
        "print(X_test.shape, y_test.shape)"
      ],
      "execution_count": 9,
      "outputs": [
        {
          "output_type": "stream",
          "text": [
            "(615, 1) (615,)\n",
            "(153, 1) (153,)\n"
          ],
          "name": "stdout"
        }
      ]
    },
    {
      "cell_type": "code",
      "metadata": {
        "colab": {
          "base_uri": "https://localhost:8080/"
        },
        "id": "nef-ZFGwdw2I",
        "outputId": "ec193683-b034-4674-95bb-1d35782b8537"
      },
      "source": [
        "type(X_remain)"
      ],
      "execution_count": 15,
      "outputs": [
        {
          "output_type": "execute_result",
          "data": {
            "text/plain": [
              "pandas.core.frame.DataFrame"
            ]
          },
          "metadata": {
            "tags": []
          },
          "execution_count": 15
        }
      ]
    },
    {
      "cell_type": "code",
      "metadata": {
        "id": "HyVPpjkNd0V2"
      },
      "source": [
        "tye(X_remain[])"
      ],
      "execution_count": null,
      "outputs": []
    },
    {
      "cell_type": "code",
      "metadata": {
        "colab": {
          "base_uri": "https://localhost:8080/"
        },
        "id": "8HRpI6TAYnbJ",
        "outputId": "bfb7cb25-8bf7-4883-ecb6-8abed7c675de"
      },
      "source": [
        "X_train, X_valid, y_train, y_valid = train_test_split(X_remain, y_remain,\r\n",
        "                                                      test_size = int(len(Elec) * 0.2),\r\n",
        "                                                      random_state = 2045)\r\n",
        "print(X_train.shape, y_train.shape)\r\n",
        "print(X_valid.shape, y_valid.shape)\r\n",
        "print(X_test.shape, y_test.shape)"
      ],
      "execution_count": 10,
      "outputs": [
        {
          "output_type": "stream",
          "text": [
            "(462, 1) (462,)\n",
            "(153, 1) (153,)\n",
            "(153, 1) (153,)\n"
          ],
          "name": "stdout"
        }
      ]
    },
    {
      "cell_type": "code",
      "metadata": {
        "id": "tbks5dkhabsq"
      },
      "source": [
        "from sklearn.preprocessing import PolynomialFeatures\r\n",
        "\r\n",
        "poly = PolynomialFeatures(degree=5, include_bias = False)\r\n",
        "PX_5_TR = poly.fit_transform(X_train)"
      ],
      "execution_count": 11,
      "outputs": []
    },
    {
      "cell_type": "code",
      "metadata": {
        "colab": {
          "base_uri": "https://localhost:8080/"
        },
        "id": "bO5VmzmrbVcd",
        "outputId": "52feaa85-90dd-4028-a292-5402188ce0b2"
      },
      "source": [
        "from sklearn.linear_model import LinearRegression\r\n",
        "\r\n",
        "Model_5 = LinearRegression()\r\n",
        "Model_5.fit(PX_5_TR, y_train)"
      ],
      "execution_count": 12,
      "outputs": [
        {
          "output_type": "execute_result",
          "data": {
            "text/plain": [
              "LinearRegression(copy_X=True, fit_intercept=True, n_jobs=None, normalize=False)"
            ]
          },
          "metadata": {
            "tags": []
          },
          "execution_count": 12
        }
      ]
    },
    {
      "cell_type": "code",
      "metadata": {
        "id": "ups8nlzKcQLl"
      },
      "source": [
        "PX_5_VD = poly.fit_transform(X_valid)\r\n",
        "y_hat_5 = Model_5.predict(PX_5_VD)"
      ],
      "execution_count": 13,
      "outputs": []
    },
    {
      "cell_type": "code",
      "metadata": {
        "colab": {
          "base_uri": "https://localhost:8080/"
        },
        "id": "ikcaRzKXc0LQ",
        "outputId": "92408519-dba8-4af4-95c9-4f2f2c9555a3"
      },
      "source": [
        "from sklearn.metrics import mean_squared_error\r\n",
        "MSE_5 = mean_squared_error(y_valid, y_hat_5)\r\n",
        "MSE_5"
      ],
      "execution_count": 14,
      "outputs": [
        {
          "output_type": "execute_result",
          "data": {
            "text/plain": [
              "4136.4312593408395"
            ]
          },
          "metadata": {
            "tags": []
          },
          "execution_count": 14
        }
      ]
    },
    {
      "cell_type": "code",
      "metadata": {
        "id": "gN4sDWg1dBFY"
      },
      "source": [
        "from sklearn.preprocessing import PolynomialFeatures\r\n",
        "\r\n",
        "poly = PolynomialFeatures(degree =9, include_bias=False)\r\n",
        "PX_9_TR = poly.fit_transform(X_train)"
      ],
      "execution_count": 23,
      "outputs": []
    },
    {
      "cell_type": "code",
      "metadata": {
        "colab": {
          "base_uri": "https://localhost:8080/"
        },
        "id": "s2ScqCC9h688",
        "outputId": "ca9c4ae8-3f2c-41f0-ebcd-3f167e5f61f5"
      },
      "source": [
        "Model_9 = LinearRegression()\r\n",
        "Model_9.fit(PX_9_TR, y_train)"
      ],
      "execution_count": 24,
      "outputs": [
        {
          "output_type": "execute_result",
          "data": {
            "text/plain": [
              "LinearRegression(copy_X=True, fit_intercept=True, n_jobs=None, normalize=False)"
            ]
          },
          "metadata": {
            "tags": []
          },
          "execution_count": 24
        }
      ]
    },
    {
      "cell_type": "code",
      "metadata": {
        "id": "MqIsNd42iDKH"
      },
      "source": [
        "PX9_valid = poly.fit_transform(X_valid)\r\n",
        "y_hat_9 = Model_9.predict(PX9_valid)"
      ],
      "execution_count": 28,
      "outputs": []
    },
    {
      "cell_type": "code",
      "metadata": {
        "colab": {
          "base_uri": "https://localhost:8080/"
        },
        "id": "o7bIPho0jNX5",
        "outputId": "1b876db3-9498-44cc-cdec-8472ec36845d"
      },
      "source": [
        "MSE_9 = mean_squared_error(y_valid, y_hat_9)\r\n",
        "MSE_9"
      ],
      "execution_count": 29,
      "outputs": [
        {
          "output_type": "execute_result",
          "data": {
            "text/plain": [
              "3901.4314136498806"
            ]
          },
          "metadata": {
            "tags": []
          },
          "execution_count": 29
        }
      ]
    },
    {
      "cell_type": "code",
      "metadata": {
        "colab": {
          "base_uri": "https://localhost:8080/"
        },
        "id": "ehY9c37xjUv3",
        "outputId": "30a1b8bf-5366-4459-dfee-81cb414326e9"
      },
      "source": [
        "print('5차 모델 MSE_5 : ', MSE_5)\r\n",
        "print('9차 모델 MSE_9 : ', MSE_9)"
      ],
      "execution_count": 30,
      "outputs": [
        {
          "output_type": "stream",
          "text": [
            "5차 모델 MSE_5 :  4136.4312593408395\n",
            "9차 모델 MSE_9 :  3901.4314136498806\n"
          ],
          "name": "stdout"
        }
      ]
    },
    {
      "cell_type": "code",
      "metadata": {
        "colab": {
          "base_uri": "https://localhost:8080/"
        },
        "id": "FbhjDc-ijdr1",
        "outputId": "c0d5843e-619b-4a9e-9910-c48739b83f1c"
      },
      "source": [
        "PX9_TE = poly.fit_transform(X_test)\r\n",
        "mean_squared_error(y_test, Model_9.predict(PX9_TE))"
      ],
      "execution_count": 31,
      "outputs": [
        {
          "output_type": "execute_result",
          "data": {
            "text/plain": [
              "4225.170621973846"
            ]
          },
          "metadata": {
            "tags": []
          },
          "execution_count": 31
        }
      ]
    },
    {
      "cell_type": "code",
      "metadata": {
        "id": "CY3CBtQ4zEX9"
      },
      "source": [
        "arry split은 x, y만 정해놓음"
      ],
      "execution_count": null,
      "outputs": []
    },
    {
      "cell_type": "code",
      "metadata": {
        "id": "xiGUzpKn0ijS"
      },
      "source": [
        "len(Elec) * 0.2 = Elec에서 20%의 개수를 test로, 나머지는 ramain으로. /남은 remain에서 또 다시 원본의 20%를 빼고 나머지를 train으로\r\n"
      ],
      "execution_count": null,
      "outputs": []
    }
  ]
}