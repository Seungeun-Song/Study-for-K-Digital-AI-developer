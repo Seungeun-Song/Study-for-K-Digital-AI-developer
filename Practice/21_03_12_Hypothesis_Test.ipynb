{
  "nbformat": 4,
  "nbformat_minor": 0,
  "metadata": {
    "colab": {
      "name": "006_Hypothesis_Test.ipynb",
      "provenance": [],
      "toc_visible": true
    },
    "kernelspec": {
      "name": "python3",
      "display_name": "Python 3"
    }
  },
  "cells": [
    {
      "cell_type": "markdown",
      "metadata": {
        "id": "k1G4TlyanSiP"
      },
      "source": [
        "# 1, t-Test"
      ]
    },
    {
      "cell_type": "markdown",
      "metadata": {
        "id": "lGyHAnK_niv2"
      },
      "source": [
        "* 일반적으로 모집단의 모평균이나 모분산은 알 수 없음\r\n",
        "* 표본표준편차로 표본집단을 표준화를 하면, 표준정규분포가 아닌 t-분포를 따름\r\n",
        "* 표본표준편차로 변환한 t-분포를 사용하기 때문에 t-Test라고 함"
      ]
    },
    {
      "cell_type": "markdown",
      "metadata": {
        "id": "dEFlmx2-n5td"
      },
      "source": [
        "## 1) 단일집단 t-Test"
      ]
    },
    {
      "cell_type": "markdown",
      "metadata": {
        "id": "c7k-oomqn8BG"
      },
      "source": [
        "### (1) Hypothesis\r\n",
        "\r\n",
        "* 귀무가설 : 스낵의 평균무게는 50이다\r\n",
        "* 대립가설 : 스낵의 평균무게는 50이 아니다.\r\n",
        "<p>\r\n",
        "***예, 제조업의 경우. 무엇을 만들 때, 무게가 50인지 테스트***"
      ]
    },
    {
      "cell_type": "markdown",
      "metadata": {
        "id": "qKKF7y-uoFae"
      },
      "source": [
        "### (2) 단일표본"
      ]
    },
    {
      "cell_type": "code",
      "metadata": {
        "colab": {
          "base_uri": "https://localhost:8080/"
        },
        "id": "is7C_PipmrhA",
        "outputId": "2efe5ce0-75cf-49fc-d939-521f9ebfe46c"
      },
      "source": [
        "import pandas as pd\r\n",
        "\r\n",
        "DF = pd.read_csv('https://raw.githubusercontent.com/rusita-ai/pyData/master/foodWeight.csv')\r\n",
        "DF.info()"
      ],
      "execution_count": 58,
      "outputs": [
        {
          "output_type": "stream",
          "text": [
            "<class 'pandas.core.frame.DataFrame'>\n",
            "RangeIndex: 20 entries, 0 to 19\n",
            "Data columns (total 1 columns):\n",
            " #   Column  Non-Null Count  Dtype  \n",
            "---  ------  --------------  -----  \n",
            " 0   weight  20 non-null     float64\n",
            "dtypes: float64(1)\n",
            "memory usage: 288.0 bytes\n"
          ],
          "name": "stdout"
        }
      ]
    },
    {
      "cell_type": "code",
      "metadata": {
        "colab": {
          "base_uri": "https://localhost:8080/",
          "height": 198
        },
        "id": "WHntT8WAnPEP",
        "outputId": "8cf8d986-1a12-4f2d-903e-078258530075"
      },
      "source": [
        "DF.head()"
      ],
      "execution_count": 59,
      "outputs": [
        {
          "output_type": "execute_result",
          "data": {
            "text/html": [
              "<div>\n",
              "<style scoped>\n",
              "    .dataframe tbody tr th:only-of-type {\n",
              "        vertical-align: middle;\n",
              "    }\n",
              "\n",
              "    .dataframe tbody tr th {\n",
              "        vertical-align: top;\n",
              "    }\n",
              "\n",
              "    .dataframe thead th {\n",
              "        text-align: right;\n",
              "    }\n",
              "</style>\n",
              "<table border=\"1\" class=\"dataframe\">\n",
              "  <thead>\n",
              "    <tr style=\"text-align: right;\">\n",
              "      <th></th>\n",
              "      <th>weight</th>\n",
              "    </tr>\n",
              "  </thead>\n",
              "  <tbody>\n",
              "    <tr>\n",
              "      <th>0</th>\n",
              "      <td>58.529820</td>\n",
              "    </tr>\n",
              "    <tr>\n",
              "      <th>1</th>\n",
              "      <td>52.353039</td>\n",
              "    </tr>\n",
              "    <tr>\n",
              "      <th>2</th>\n",
              "      <td>74.446169</td>\n",
              "    </tr>\n",
              "    <tr>\n",
              "      <th>3</th>\n",
              "      <td>52.983263</td>\n",
              "    </tr>\n",
              "    <tr>\n",
              "      <th>4</th>\n",
              "      <td>55.876879</td>\n",
              "    </tr>\n",
              "  </tbody>\n",
              "</table>\n",
              "</div>"
            ],
            "text/plain": [
              "      weight\n",
              "0  58.529820\n",
              "1  52.353039\n",
              "2  74.446169\n",
              "3  52.983263\n",
              "4  55.876879"
            ]
          },
          "metadata": {
            "tags": []
          },
          "execution_count": 59
        }
      ]
    },
    {
      "cell_type": "markdown",
      "metadata": {
        "id": "DDb1x9kBoKt-"
      },
      "source": [
        "### (3) t-Test\r\n",
        "\r\n",
        "* 단일표본 t-Test\r\n",
        "* p값이 0.05보다 작기 때문에, '스낵의 평균무게는 50이다'는 귀무가설을 '기각'\r\n",
        "  * 집단의 모평균의 차이는 통계적으로 유의미함(집단 <-> 표본집단)"
      ]
    },
    {
      "cell_type": "code",
      "metadata": {
        "colab": {
          "base_uri": "https://localhost:8080/"
        },
        "id": "4z1_tuBCoc1E",
        "outputId": "ccc6ddf6-1ff4-4a96-a280-74bd5d97ed9a"
      },
      "source": [
        "import scipy.stats\r\n",
        "\r\n",
        "scipy.stats.ttest_1samp(DF, 50) \r\n",
        "\r\n",
        "#statistic(통계량) = 정규분포 아래축의 지점. -2.75와 +2.75인(양측에 있을 수도 있고 한쪽에만 있을 수도 있다) 그래프 # 어쨌거나 검정확률은 5% . -2.75와 +2.75인(양측에 있을 수도 있고 한쪽에만 있을 수도 있다) 그래프 # 어쨌거나 검정확률은 5% "
      ],
      "execution_count": 60,
      "outputs": [
        {
          "output_type": "execute_result",
          "data": {
            "text/plain": [
              "Ttest_1sampResult(statistic=array([2.75033968]), pvalue=array([0.01272559]))"
            ]
          },
          "metadata": {
            "tags": []
          },
          "execution_count": 60
        }
      ]
    },
    {
      "cell_type": "markdown",
      "metadata": {
        "id": "ezRuTbQ_orxl"
      },
      "source": [
        "## 2) 두 집단 독립표본 t-Test\r\n",
        "* 두 표본집단을 구성(수집)할 때 독립인 경우\r\n",
        "  * 독립표본 : 무작위로 남자 100명과 여자 100명을 뽑아 두 집단을 비교\r\n",
        "  * 대응표본 : 부부 100쌍을 뽑아 남편 100명과 아내 100명의 두 집단을 비교\r\n",
        "* 논리\r\n",
        "  * 모평균과 표본평균은 다를 수 있지만 차이가 크지 않을 것\r\n",
        "  * 두 표본집단의 평균의 차이는 0이 아니지만, 큰 차이는 보이지 않음\r\n",
        "  * 만약, 두 표본평균의 차이가 크다면, 귀무가설이 맞지 않ㅇ르 수 있음\r\n",
        "  * 따라서, 두 표본평균의 차이나는 정도에 대한 가능성(확률)을 계산하여 판단"
      ]
    },
    {
      "cell_type": "markdown",
      "metadata": {
        "id": "4Qlf2Ap9pWYd"
      },
      "source": [
        "### (1) Hypothesis\r\n",
        "* 귀무가설 : 두 집단의 모평균이 동일하다.\r\n",
        "* 대립가설 : 두 집단의 모평균은 동일하지 않다."
      ]
    },
    {
      "cell_type": "markdown",
      "metadata": {
        "id": "UZQAAJxWpfIE"
      },
      "source": [
        "### (2) 독립표본\r\n",
        "* Male과 Female 표본집단이 무작위로 추출"
      ]
    },
    {
      "cell_type": "code",
      "metadata": {
        "id": "H17ndawJoixW"
      },
      "source": [
        "Male = [117, 108, 105, 89, 101, 93, 96, 108, 108, 94, 93, 112, 92, 91, 100, 96, 120, 86, 96, 95]\r\n",
        "Female = [121,101,102,114,103,105,101,131,96,109, 109, 113, 115, 94, 108, 96, 110, 112, 120, 100]"
      ],
      "execution_count": 61,
      "outputs": []
    },
    {
      "cell_type": "markdown",
      "metadata": {
        "id": "v1H2lMa5p8-0"
      },
      "source": [
        "### (3) Welch's t-Test\r\n",
        "* 두 표본분산의 등분산성(두 집단의 분산이 같을 것이다) 검사 없이 진행\r\n",
        "* 독립표본 t-Test에 적용(Independent)\r\n",
        "  * 'equal_var = False'\r\n",
        "* p값이 0.05보다 작기 때문에, '두 집단의 모평균이 동일하다'는 귀무가설을 '기각'\r\n",
        "  * 두 집단의 모평균의 차이는 통계적으로 유의미함"
      ]
    },
    {
      "cell_type": "code",
      "metadata": {
        "colab": {
          "base_uri": "https://localhost:8080/"
        },
        "id": "CtgyvuO5qR1j",
        "outputId": "17dff9eb-749d-4084-e430-ecb8e05838fe"
      },
      "source": [
        "import scipy\r\n",
        "# ind = independent, equal_var = 등분산성. \r\n",
        "scipy.stats.ttest_ind(Male, Female, equal_var = False)"
      ],
      "execution_count": 62,
      "outputs": [
        {
          "output_type": "execute_result",
          "data": {
            "text/plain": [
              "Ttest_indResult(statistic=-2.670573872669349, pvalue=0.01108318824471652)"
            ]
          },
          "metadata": {
            "tags": []
          },
          "execution_count": 62
        }
      ]
    },
    {
      "cell_type": "markdown",
      "metadata": {
        "id": "y-vHMHcBqiWc"
      },
      "source": [
        "### (4) Effect Size \r\n",
        "( 위에서 두 집단의 모평균이 차이가 난다는 것은 알겠는데, 그럼 얼마나 차이가 난다는 건가?)\r\n",
        "* 두 집단의 평균 차이를 일정한 기준으로 표현\r\n",
        "* 절대적이지 않으며, 0.2 정도면 작은 편, 0.5 정도면 중간, 0.8.이면 큰 편"
      ]
    },
    {
      "cell_type": "code",
      "metadata": {
        "id": "iyudEgBVqdFa"
      },
      "source": [
        "DT = scipy.stats.ttest_ind(Male, Female, equal_var=False)"
      ],
      "execution_count": 63,
      "outputs": []
    },
    {
      "cell_type": "markdown",
      "metadata": {
        "id": "ZYE-7RG6q0Q0"
      },
      "source": [
        "* Cohen's d ( 일반적으로 사용)"
      ]
    },
    {
      "cell_type": "code",
      "metadata": {
        "colab": {
          "base_uri": "https://localhost:8080/"
        },
        "id": "NiIGylmPq3_U",
        "outputId": "57cce3e2-e336-44bd-8c2f-8690dc3c55e4"
      },
      "source": [
        "import numpy as np\r\n",
        "\r\n",
        "t = DT.statistic\r\n",
        "df = len(Male) + len(Female) - 2\r\n",
        "abs(t) / np.sqrt(df)"
      ],
      "execution_count": 64,
      "outputs": [
        {
          "output_type": "execute_result",
          "data": {
            "text/plain": [
              "0.4332242888591059"
            ]
          },
          "metadata": {
            "tags": []
          },
          "execution_count": 64
        }
      ]
    },
    {
      "cell_type": "markdown",
      "metadata": {
        "id": "f5FO_VzIrKBs"
      },
      "source": [
        "* Pearson's r"
      ]
    },
    {
      "cell_type": "code",
      "metadata": {
        "colab": {
          "base_uri": "https://localhost:8080/"
        },
        "id": "zNXS-d-CrPFk",
        "outputId": "b178e3d9-9828-4de2-cdc6-d44df1dc8637"
      },
      "source": [
        "t2 =t ** 2\r\n",
        "np. sqrt(t2 / (t2 + df))"
      ],
      "execution_count": 65,
      "outputs": [
        {
          "output_type": "execute_result",
          "data": {
            "text/plain": [
              "0.39752319599996255"
            ]
          },
          "metadata": {
            "tags": []
          },
          "execution_count": 65
        }
      ]
    },
    {
      "cell_type": "markdown",
      "metadata": {
        "id": "hetNLCZsrXLE"
      },
      "source": [
        "### (5) 검증결과 해석\r\n",
        "* 두 집단 Male과 Female에 대하여 독립표본 t 검증을 실시한 결과,\r\n",
        "  * 집단 Male의 평균값(100)은 집단 Female의 평균값(108)보다 통계적으로 유의미하게 낮았으며(p<0.05),\r\n",
        "  * 효과 크기는 중간 수준이었다(Cohen's d=0.43, Pearson's r= 0.39)"
      ]
    },
    {
      "cell_type": "markdown",
      "metadata": {
        "id": "F7haooxvrQbM"
      },
      "source": [
        "## 3) 두 집단 대응표본 t-Test\r\n",
        "* 두 집단의 자료를 쌍으로 묶을 수 있는 경우\r\n",
        "  * 예) 남편과 아내, before vs. after\r\n",
        "* 쌍을 이루고 있는 두 값의 차이를 구함"
      ]
    },
    {
      "cell_type": "markdown",
      "metadata": {
        "id": "RWS6wuAWr5d8"
      },
      "source": [
        "### (1) Hypothesis\r\n",
        "* 귀무가설 : 두 집단의 모평균이 동일하다\r\n",
        "* 대립가설 : 두 집단의 모평균은 동일하지 않다"
      ]
    },
    {
      "cell_type": "markdown",
      "metadata": {
        "id": "vSkS4l7ksAaM"
      },
      "source": [
        "### (2) 대응표본\r\n",
        "* 두 표본집합인 before와 after가 순서대로 짝지어 있음<p>\r\n",
        "(ex, 학원을 다니기 전과 후의 성적, 코로나 백신 맞기 전과 후...)"
      ]
    },
    {
      "cell_type": "code",
      "metadata": {
        "id": "rjjozLJBsJ5F"
      },
      "source": [
        "Before = [117, 108,105,89,101,93,96,108,108,94,93,112,92,91,100, 96,120,86,96,95]\r\n",
        "After = [121,101,102,114,103,105,101,131,96,109,109,113,115,94,108,96,110,112,120,100]"
      ],
      "execution_count": 66,
      "outputs": []
    },
    {
      "cell_type": "markdown",
      "metadata": {
        "id": "1QkrHQjJsaPx"
      },
      "source": [
        "### (3) t-Test\r\n",
        "* 대응표본 t-Test에 적용(Related)\r\n",
        "* p값이 0.05보다 작기 때문에, '두 집단의 모평균이 동일하다'는 귀무가설을 '기각'\r\n",
        "  * 두 집단의 모평균의 차이는 통계적으로 유의미함"
      ]
    },
    {
      "cell_type": "code",
      "metadata": {
        "colab": {
          "base_uri": "https://localhost:8080/"
        },
        "id": "fURiR8NJst6a",
        "outputId": "e61e4a10-d225-4863-ed24-b5af63fd8191"
      },
      "source": [
        "import scipy.stats\r\n",
        "\r\n",
        "scipy.stats.ttest_rel(Before, After) "
      ],
      "execution_count": 67,
      "outputs": [
        {
          "output_type": "execute_result",
          "data": {
            "text/plain": [
              "Ttest_relResult(statistic=-2.9868874599588247, pvalue=0.007578486289181322)"
            ]
          },
          "metadata": {
            "tags": []
          },
          "execution_count": 67
        }
      ]
    },
    {
      "cell_type": "markdown",
      "metadata": {
        "id": "dI5qdgcps0wd"
      },
      "source": [
        "### (4) Effect Size\r\n",
        "* 두 집단의 평균 차이를 일정한 기준으로 표현\r\n",
        "* 절대적이지 않으며, 0.2 정도면 작은 편, 0.5 정도면 중간, 0.8 이면 큰 편"
      ]
    },
    {
      "cell_type": "code",
      "metadata": {
        "id": "KcLBkj3nsy5d"
      },
      "source": [
        "DT = scipy.stats.ttest_rel(Before, After)"
      ],
      "execution_count": 68,
      "outputs": []
    },
    {
      "cell_type": "markdown",
      "metadata": {
        "id": "hPkCtlJ9tQCb"
      },
      "source": [
        "* Cohen's d"
      ]
    },
    {
      "cell_type": "code",
      "metadata": {
        "colab": {
          "base_uri": "https://localhost:8080/"
        },
        "id": "lwgzZHGhtJ4r",
        "outputId": "05c67e43-1808-4ee9-b2bb-5526a4e235a4"
      },
      "source": [
        "t = DT.statistic\r\n",
        "df = len(Before) + len(After) -2\r\n",
        "abs(t) / np.sqrt(df)"
      ],
      "execution_count": 69,
      "outputs": [
        {
          "output_type": "execute_result",
          "data": {
            "text/plain": [
              "0.4845371285121742"
            ]
          },
          "metadata": {
            "tags": []
          },
          "execution_count": 69
        }
      ]
    },
    {
      "cell_type": "markdown",
      "metadata": {
        "id": "FjOO-mE7tY2L"
      },
      "source": [
        "* Pearson's r"
      ]
    },
    {
      "cell_type": "code",
      "metadata": {
        "colab": {
          "base_uri": "https://localhost:8080/"
        },
        "id": "XuNc8SofteF0",
        "outputId": "3e5e1852-0541-45d2-bc94-66188a8c6844"
      },
      "source": [
        "t2 = t ** 2\r\n",
        "np.sqrt(t2 / (t2 + df))"
      ],
      "execution_count": 70,
      "outputs": [
        {
          "output_type": "execute_result",
          "data": {
            "text/plain": [
              "0.43604662677848566"
            ]
          },
          "metadata": {
            "tags": []
          },
          "execution_count": 70
        }
      ]
    },
    {
      "cell_type": "markdown",
      "metadata": {
        "id": "IhYX9RMGtqiL"
      },
      "source": [
        "### (5) 검증결과 해석\r\n",
        "* 두 집단 Before와 After에 대하여 대응표본 t검증을 실시한 결과,\r\n",
        "  * 집단 Before의 평균값(100)은 집단 After의 평균값(108)보다 통계적으로 유의미하게 낮았으며(p<0.05),\r\n",
        "  * 효과 크기는 중간 수준이었다(Cohen's d = 0.48, Pearson's r= 0.43)"
      ]
    },
    {
      "cell_type": "markdown",
      "metadata": {
        "id": "jUeKYk_uuCLq"
      },
      "source": [
        "# 2, ANOVA Test ( 셋 이상의 집단 )\r\n",
        "* ANalysis Of VAriance(ANOVA)\r\n",
        "* 세 개 이상의 집단에 대한 평균을 비교할 때 사용\r\n",
        "  * 기존 t-Test 사용 시 과잉검증(Overtesting) 문제 발생\r\n",
        "  * t-Test로 두 집단씩 짝지어 분석할 경우 분석횟수가 기하급수적으로 증가\r\n",
        "  * 통계적 검증절차를 남용하여, 활률적 의사결정에서 발생 가능한 오류의 확률이 필요 이상으로 증가하는 문제\r\n",
        "* 오류의 확률을 통제한 상태에서 전체적인 결과를 확인 가능\r\n",
        "* 집단을 구성하는 변수(요인/Factor)가 두 개 이상인 경우, 상호작용 파악에 용이\r\n",
        "<p> ex: 스포츠 음료 - 파워에이드 vs. 게토레이 vs.. (색깔별로 차이? 향별로? -요인/ 파란색, 노란색 - 수준) \r\n"
      ]
    },
    {
      "cell_type": "markdown",
      "metadata": {
        "id": "pbQ3TxjEFr2z"
      },
      "source": [
        "* 용어\r\n",
        "  * 요인(Factor) : 집단을 구별하는 독립변수\r\n",
        "  * 수준(Level) : 요인의 수준(예: '성별'요인의 수준은 '남자'와'여자')\r\n",
        "  * 상호작용 : 한 요인의 수준에 따른 종속변수의 차이가 또 다른 요인의 수준에 따라 달라질 때\r\n",
        "  * n - way ANOVA\r\n",
        "    * One-way ANOVA : 요인이 1개인 분산분석\r\n",
        "    * Two-way ANOVA : 요인이 2개인 분산분석"
      ]
    },
    {
      "cell_type": "markdown",
      "metadata": {
        "id": "sOL3Xfpzth2U"
      },
      "source": [
        "## 1) One-way ANOVA"
      ]
    },
    {
      "cell_type": "markdown",
      "metadata": {
        "id": "BsGe9Zg9vAlr"
      },
      "source": [
        "### (1) Hypothesis\r\n",
        "* 귀무가설 : 모든 집단의 모평균이 동일하다\r\n",
        "* 대립가설 : 적어도 한 집단의 평균은 다른 집단과 다르다\r\n",
        "<p> 식물의 성장속도"
      ]
    },
    {
      "cell_type": "markdown",
      "metadata": {
        "id": "oYGdgkoZvBU7"
      },
      "source": [
        "### (2) Load Data"
      ]
    },
    {
      "cell_type": "code",
      "metadata": {
        "colab": {
          "base_uri": "https://localhost:8080/"
        },
        "id": "fPokN7j_vKbh",
        "outputId": "7affe0de-1fd9-420e-a94c-0ca8134e64ce"
      },
      "source": [
        "import pandas as pd\r\n",
        "\r\n",
        "DF = pd.read_csv('https://raw.githubusercontent.com/rusita-ai/pyData/master/PlantGrowth.csv')\r\n",
        "DF.info()"
      ],
      "execution_count": 71,
      "outputs": [
        {
          "output_type": "stream",
          "text": [
            "<class 'pandas.core.frame.DataFrame'>\n",
            "RangeIndex: 30 entries, 0 to 29\n",
            "Data columns (total 2 columns):\n",
            " #   Column  Non-Null Count  Dtype  \n",
            "---  ------  --------------  -----  \n",
            " 0   weight  30 non-null     float64\n",
            " 1   group   30 non-null     object \n",
            "dtypes: float64(1), object(1)\n",
            "memory usage: 608.0+ bytes\n"
          ],
          "name": "stdout"
        }
      ]
    },
    {
      "cell_type": "code",
      "metadata": {
        "colab": {
          "base_uri": "https://localhost:8080/",
          "height": 198
        },
        "id": "Oc4ZaWGOvOGA",
        "outputId": "fddd9e08-0632-4c9c-e20a-a320d70c2dee"
      },
      "source": [
        "DF.head()"
      ],
      "execution_count": 72,
      "outputs": [
        {
          "output_type": "execute_result",
          "data": {
            "text/html": [
              "<div>\n",
              "<style scoped>\n",
              "    .dataframe tbody tr th:only-of-type {\n",
              "        vertical-align: middle;\n",
              "    }\n",
              "\n",
              "    .dataframe tbody tr th {\n",
              "        vertical-align: top;\n",
              "    }\n",
              "\n",
              "    .dataframe thead th {\n",
              "        text-align: right;\n",
              "    }\n",
              "</style>\n",
              "<table border=\"1\" class=\"dataframe\">\n",
              "  <thead>\n",
              "    <tr style=\"text-align: right;\">\n",
              "      <th></th>\n",
              "      <th>weight</th>\n",
              "      <th>group</th>\n",
              "    </tr>\n",
              "  </thead>\n",
              "  <tbody>\n",
              "    <tr>\n",
              "      <th>0</th>\n",
              "      <td>4.17</td>\n",
              "      <td>ctrl</td>\n",
              "    </tr>\n",
              "    <tr>\n",
              "      <th>1</th>\n",
              "      <td>5.58</td>\n",
              "      <td>ctrl</td>\n",
              "    </tr>\n",
              "    <tr>\n",
              "      <th>2</th>\n",
              "      <td>5.18</td>\n",
              "      <td>ctrl</td>\n",
              "    </tr>\n",
              "    <tr>\n",
              "      <th>3</th>\n",
              "      <td>6.11</td>\n",
              "      <td>ctrl</td>\n",
              "    </tr>\n",
              "    <tr>\n",
              "      <th>4</th>\n",
              "      <td>4.50</td>\n",
              "      <td>ctrl</td>\n",
              "    </tr>\n",
              "  </tbody>\n",
              "</table>\n",
              "</div>"
            ],
            "text/plain": [
              "   weight group\n",
              "0    4.17  ctrl\n",
              "1    5.58  ctrl\n",
              "2    5.18  ctrl\n",
              "3    6.11  ctrl\n",
              "4    4.50  ctrl"
            ]
          },
          "metadata": {
            "tags": []
          },
          "execution_count": 72
        }
      ]
    },
    {
      "cell_type": "markdown",
      "metadata": {
        "id": "9SPwESJtvS96"
      },
      "source": [
        "* 3개의 집단 확인\r\n",
        "  * ctrl, trt1, trt2"
      ]
    },
    {
      "cell_type": "code",
      "metadata": {
        "colab": {
          "base_uri": "https://localhost:8080/"
        },
        "id": "vn7gJk5yvRXz",
        "outputId": "3ee1b4df-5aea-4c92-ea51-55de89ea0964"
      },
      "source": [
        "DF['group'].unique()"
      ],
      "execution_count": 73,
      "outputs": [
        {
          "output_type": "execute_result",
          "data": {
            "text/plain": [
              "array(['ctrl', 'trt1', 'trt2'], dtype=object)"
            ]
          },
          "metadata": {
            "tags": []
          },
          "execution_count": 73
        }
      ]
    },
    {
      "cell_type": "code",
      "metadata": {
        "colab": {
          "base_uri": "https://localhost:8080/"
        },
        "id": "MA0Y-qjFHD9J",
        "outputId": "d3e4ad7b-e926-4ce5-c640-4168bcddb610"
      },
      "source": [
        "DF['group'].value_counts()"
      ],
      "execution_count": 74,
      "outputs": [
        {
          "output_type": "execute_result",
          "data": {
            "text/plain": [
              "ctrl    10\n",
              "trt1    10\n",
              "trt2    10\n",
              "Name: group, dtype: int64"
            ]
          },
          "metadata": {
            "tags": []
          },
          "execution_count": 74
        }
      ]
    },
    {
      "cell_type": "markdown",
      "metadata": {
        "id": "sOMQE3BDvbCs"
      },
      "source": [
        "### (3) 일원분산분석\r\n",
        "* Pr(>F)가 p-value\r\n",
        "* p-value값이 0.05보다 작으면, 통계적으로 유의미한 차이가 존재\r\n",
        "* 검증결과 0.0159로 0.05보다 작아서, 귀무가설 '기각'\r\n",
        "* 구체적으로 어떤 수준(집단)이 차이가 있는지 확인하려면 사후분석(post hoc test)필요\r\n",
        "* 유의미한 차이가 없는 경우, 사후분석 필요없음"
      ]
    },
    {
      "cell_type": "code",
      "metadata": {
        "colab": {
          "base_uri": "https://localhost:8080/",
          "height": 108
        },
        "id": "OQv_hG1FvZ9h",
        "outputId": "499d4ebc-51f5-4e3a-880b-2da9ad7783da"
      },
      "source": [
        "from statsmodels.formula.api import ols\r\n",
        "from statsmodels.stats.anova import anova_lm\r\n",
        "\r\n",
        "model = ols('weight ~ C(group)', DF).fit()\r\n",
        "anova_lm(model)\r\n",
        "# F = F분포"
      ],
      "execution_count": 75,
      "outputs": [
        {
          "output_type": "execute_result",
          "data": {
            "text/html": [
              "<div>\n",
              "<style scoped>\n",
              "    .dataframe tbody tr th:only-of-type {\n",
              "        vertical-align: middle;\n",
              "    }\n",
              "\n",
              "    .dataframe tbody tr th {\n",
              "        vertical-align: top;\n",
              "    }\n",
              "\n",
              "    .dataframe thead th {\n",
              "        text-align: right;\n",
              "    }\n",
              "</style>\n",
              "<table border=\"1\" class=\"dataframe\">\n",
              "  <thead>\n",
              "    <tr style=\"text-align: right;\">\n",
              "      <th></th>\n",
              "      <th>df</th>\n",
              "      <th>sum_sq</th>\n",
              "      <th>mean_sq</th>\n",
              "      <th>F</th>\n",
              "      <th>PR(&gt;F)</th>\n",
              "    </tr>\n",
              "  </thead>\n",
              "  <tbody>\n",
              "    <tr>\n",
              "      <th>C(group)</th>\n",
              "      <td>2.0</td>\n",
              "      <td>3.76634</td>\n",
              "      <td>1.883170</td>\n",
              "      <td>4.846088</td>\n",
              "      <td>0.01591</td>\n",
              "    </tr>\n",
              "    <tr>\n",
              "      <th>Residual</th>\n",
              "      <td>27.0</td>\n",
              "      <td>10.49209</td>\n",
              "      <td>0.388596</td>\n",
              "      <td>NaN</td>\n",
              "      <td>NaN</td>\n",
              "    </tr>\n",
              "  </tbody>\n",
              "</table>\n",
              "</div>"
            ],
            "text/plain": [
              "            df    sum_sq   mean_sq         F   PR(>F)\n",
              "C(group)   2.0   3.76634  1.883170  4.846088  0.01591\n",
              "Residual  27.0  10.49209  0.388596       NaN      NaN"
            ]
          },
          "metadata": {
            "tags": []
          },
          "execution_count": 75
        }
      ]
    },
    {
      "cell_type": "markdown",
      "metadata": {
        "id": "vu0nxV7Mv_hB"
      },
      "source": [
        "### (4) 일원분산분석가정\r\n",
        "* 독립성 : 자료의 추출은 독립적으로 이루어졌음\r\n",
        "* 정규성 : 자료의 모집단 분포는 정규분포를 따름\r\n",
        "* 등분산성 : 모든 집단의 모분산은 동일함\r\n",
        "\r\n"
      ]
    },
    {
      "cell_type": "markdown",
      "metadata": {
        "id": "SGxXsOOA-YO2"
      },
      "source": [
        "4-1. 독립성<p>\r\n",
        "* 자료 수집이 Random Sampling되었다면 만족하는 것으로 봄<p>\r\n"
      ]
    },
    {
      "cell_type": "markdown",
      "metadata": {
        "id": "DOKEs8HC-axz"
      },
      "source": [
        "4-2. 정규성\r\n",
        "* 세 수준 모두 p-value값이 0.05보다 큼\r\n",
        "* 모집단의 분포가 정규분포를 따른다는 귀무가설을 '채택'\r\n"
      ]
    },
    {
      "cell_type": "markdown",
      "metadata": {
        "id": "VT6ss3bJ-l8S"
      },
      "source": [
        "* 'ctrl' 수준의 정규성"
      ]
    },
    {
      "cell_type": "code",
      "metadata": {
        "colab": {
          "base_uri": "https://localhost:8080/"
        },
        "id": "ZaK7K9uov6Wr",
        "outputId": "9e9b7037-5c3f-4317-d1d1-7f2a28f6bb0b"
      },
      "source": [
        "import scipy.stats\r\n",
        "\r\n",
        "scipy.stats.shapiro(DF.weight[DF.group == 'ctrl'])"
      ],
      "execution_count": 76,
      "outputs": [
        {
          "output_type": "execute_result",
          "data": {
            "text/plain": [
              "(0.9566815495491028, 0.7474744915962219)"
            ]
          },
          "metadata": {
            "tags": []
          },
          "execution_count": 76
        }
      ]
    },
    {
      "cell_type": "markdown",
      "metadata": {
        "id": "ZiJ89fzH-pgU"
      },
      "source": [
        "* 'trt1' 수준의 정규성"
      ]
    },
    {
      "cell_type": "code",
      "metadata": {
        "colab": {
          "base_uri": "https://localhost:8080/"
        },
        "id": "xlhzWucvwMCC",
        "outputId": "8d81b684-ccb2-4457-a3b6-1df395974833"
      },
      "source": [
        "scipy.stats.shapiro(DF.weight[DF.group == 'trt1'])"
      ],
      "execution_count": 77,
      "outputs": [
        {
          "output_type": "execute_result",
          "data": {
            "text/plain": [
              "(0.9304108619689941, 0.451945960521698)"
            ]
          },
          "metadata": {
            "tags": []
          },
          "execution_count": 77
        }
      ]
    },
    {
      "cell_type": "markdown",
      "metadata": {
        "id": "QWUrcFc2-reK"
      },
      "source": [
        "* 'trt2' 수준의 정규성"
      ]
    },
    {
      "cell_type": "code",
      "metadata": {
        "colab": {
          "base_uri": "https://localhost:8080/"
        },
        "id": "CfRIXELowReS",
        "outputId": "442d30c4-9b5c-4641-fe07-f6de07da3b60"
      },
      "source": [
        "scipy.stats.shapiro(DF.weight[DF.group == 'trt2'])"
      ],
      "execution_count": 78,
      "outputs": [
        {
          "output_type": "execute_result",
          "data": {
            "text/plain": [
              "(0.9410051107406616, 0.5642509460449219)"
            ]
          },
          "metadata": {
            "tags": []
          },
          "execution_count": 78
        }
      ]
    },
    {
      "cell_type": "markdown",
      "metadata": {
        "id": "Z6qhERxm-tyF"
      },
      "source": [
        "4-3 등분산성\r\n",
        "* 두 가지 테스트 모두 p-value값이 0.05보다 큼\r\n",
        "* 모집단의 모분산은 동일하다는 귀무가설을 '채택'\r\n",
        "* Leavene(레빈 검증)"
      ]
    },
    {
      "cell_type": "code",
      "metadata": {
        "colab": {
          "base_uri": "https://localhost:8080/"
        },
        "id": "jOVzji8VwVjK",
        "outputId": "4cf75f35-e9cb-4a5a-ccbe-602d0a01e713"
      },
      "source": [
        "scipy.stats.levene(\r\n",
        "    DF.weight[DF.group == 'ctrl'],\r\n",
        "    DF.weight[DF.group == 'trt1'],\r\n",
        "    DF.weight[DF.group == 'trt2'],\r\n",
        ")"
      ],
      "execution_count": 79,
      "outputs": [
        {
          "output_type": "execute_result",
          "data": {
            "text/plain": [
              "LeveneResult(statistic=1.1191856948703909, pvalue=0.3412266241254737)"
            ]
          },
          "metadata": {
            "tags": []
          },
          "execution_count": 79
        }
      ]
    },
    {
      "cell_type": "markdown",
      "metadata": {
        "id": "qNkFX1Ld-5Al"
      },
      "source": [
        "* bartlett(바틀렛 검증)"
      ]
    },
    {
      "cell_type": "code",
      "metadata": {
        "colab": {
          "base_uri": "https://localhost:8080/"
        },
        "id": "69_kjP5TwlJS",
        "outputId": "3fb726c9-abcc-406b-8c10-882f7a8d6b45"
      },
      "source": [
        "scipy.stats.bartlett(\r\n",
        "    DF.weight[DF.group == 'ctrl'],\r\n",
        "    DF.weight[DF.group == 'trt1'],\r\n",
        "    DF.weight[DF.group == 'trt2'],\r\n",
        ")"
      ],
      "execution_count": 80,
      "outputs": [
        {
          "output_type": "execute_result",
          "data": {
            "text/plain": [
              "BartlettResult(statistic=2.8785737872360935, pvalue=0.23709677363455822)"
            ]
          },
          "metadata": {
            "tags": []
          },
          "execution_count": 80
        }
      ]
    },
    {
      "cell_type": "markdown",
      "metadata": {
        "id": "LMBhgUzbwqCj"
      },
      "source": [
        "### (5) 일원분산분석 사후분석\r\n",
        "* post hoc test\r\n",
        "  * 유의미한 검증결과 도출 시, 어떤 수준(들)에서 평균 차이가 나는지를 검증\r\n",
        "  * 연구자의 사전 가설(아이디어)없이 ANOVA를 시행한 경우, 탐색적으로 평균 차이가 나는 수준(집단)을 살펴보기 위해 시행\r\n",
        "  * 조합 가능한 모든 쌍에 대해 비교하여, 과잉검증으로 인한 FWER 증가\r\n",
        "* FWER\r\n",
        "  * Family Wise Error Rate\r\n",
        "  * 여러 개의 가설 검정을 할 때 적어도 하나의 가설에서 1종 오류가 발생할 가능성\r\n",
        "  * 가설검정을 많이 할수록 FWER은 증가\r\n",
        "  * 유의수준을 보정하여 FWER을 0.05로 고정 후 검증"
      ]
    },
    {
      "cell_type": "markdown",
      "metadata": {
        "id": "y9PRuk9P_bVS"
      },
      "source": [
        "5-1 사후분석 준비"
      ]
    },
    {
      "cell_type": "code",
      "metadata": {
        "id": "qh6TDMbNwoEp"
      },
      "source": [
        "from statsmodels.sandbox.stats.multicomp import MultiComparison\r\n",
        "import scipy.stats\r\n",
        "\r\n",
        "MC = MultiComparison(DF['weight'], DF['group'])"
      ],
      "execution_count": 81,
      "outputs": []
    },
    {
      "cell_type": "markdown",
      "metadata": {
        "id": "JnTwPIZC_eSi"
      },
      "source": [
        "5-2 Bonferroni Coreection\r\n",
        "* 봉페로니 교정\r\n",
        "  * 모든 집단을 짝지어 t-Test\r\n",
        "* 'trt1'과 'trt2'수준 간의 평균차이만 유의미함 - True, pval= group>0.05"
      ]
    },
    {
      "cell_type": "code",
      "metadata": {
        "colab": {
          "base_uri": "https://localhost:8080/",
          "height": 149
        },
        "id": "nye2czqyw2Ca",
        "outputId": "04b1b6b2-fc2c-4caa-9a34-28b2275f2e20"
      },
      "source": [
        "result = MC.allpairtest(scipy.stats.ttest_ind, method ='bonf')\r\n",
        "result[0]"
      ],
      "execution_count": 82,
      "outputs": [
        {
          "output_type": "execute_result",
          "data": {
            "text/html": [
              "<table class=\"simpletable\">\n",
              "<caption>Test Multiple Comparison ttest_ind \n",
              "FWER=0.05 method=bonf\n",
              "alphacSidak=0.02, alphacBonf=0.017</caption>\n",
              "<tr>\n",
              "  <th>group1</th> <th>group2</th>  <th>stat</th>    <th>pval</th>  <th>pval_corr</th> <th>reject</th>\n",
              "</tr>\n",
              "<tr>\n",
              "   <td>ctrl</td>   <td>trt1</td>  <td>1.1913</td>   <td>0.249</td>  <td>0.7471</td>    <td>False</td>\n",
              "</tr>\n",
              "<tr>\n",
              "   <td>ctrl</td>   <td>trt2</td>  <td>-2.134</td>  <td>0.0469</td>  <td>0.1406</td>    <td>False</td>\n",
              "</tr>\n",
              "<tr>\n",
              "   <td>trt1</td>   <td>trt2</td>  <td>-3.0101</td> <td>0.0075</td>  <td>0.0226</td>    <td>True</td> \n",
              "</tr>\n",
              "</table>"
            ],
            "text/plain": [
              "<class 'statsmodels.iolib.table.SimpleTable'>"
            ]
          },
          "metadata": {
            "tags": []
          },
          "execution_count": 82
        }
      ]
    },
    {
      "cell_type": "markdown",
      "metadata": {
        "id": "VySRvjkG_oBy"
      },
      "source": [
        "5-3 Tuckey's HSD\r\n",
        "* 투키의 HSD(Honestly Significant Difference)\r\n",
        "* 'trt1'과 'trt2' 수준 간의 평균 차이만 유의미함"
      ]
    },
    {
      "cell_type": "code",
      "metadata": {
        "colab": {
          "base_uri": "https://localhost:8080/",
          "height": 132
        },
        "id": "KlsATC3Cw9Ai",
        "outputId": "fcc9024f-421d-4a62-a927-1a8d8e08152e"
      },
      "source": [
        "from statsmodels.stats.multicomp import pairwise_tukeyhsd\r\n",
        "\r\n",
        "THSD = pairwise_tukeyhsd(DF['weight'],DF['group'], alpha=0.05)\r\n",
        "THSD.summary()"
      ],
      "execution_count": 83,
      "outputs": [
        {
          "output_type": "execute_result",
          "data": {
            "text/html": [
              "<table class=\"simpletable\">\n",
              "<caption>Multiple Comparison of Means - Tukey HSD, FWER=0.05</caption>\n",
              "<tr>\n",
              "  <th>group1</th> <th>group2</th> <th>meandiff</th>  <th>p-adj</th>  <th>lower</th>   <th>upper</th> <th>reject</th>\n",
              "</tr>\n",
              "<tr>\n",
              "   <td>ctrl</td>   <td>trt1</td>   <td>-0.371</td>  <td>0.3921</td> <td>-1.0621</td> <td>0.3201</td>  <td>False</td>\n",
              "</tr>\n",
              "<tr>\n",
              "   <td>ctrl</td>   <td>trt2</td>    <td>0.494</td>   <td>0.198</td> <td>-0.1971</td> <td>1.1851</td>  <td>False</td>\n",
              "</tr>\n",
              "<tr>\n",
              "   <td>trt1</td>   <td>trt2</td>    <td>0.865</td>   <td>0.012</td> <td>0.1739</td>  <td>1.5561</td>  <td>True</td> \n",
              "</tr>\n",
              "</table>"
            ],
            "text/plain": [
              "<class 'statsmodels.iolib.table.SimpleTable'>"
            ]
          },
          "metadata": {
            "tags": []
          },
          "execution_count": 83
        }
      ]
    },
    {
      "cell_type": "markdown",
      "metadata": {
        "id": "291VT6lj_1Fq"
      },
      "source": [
        "### (6) 일원분산분석 결과 해석\r\n",
        "* group에 따른 weight의 평균 차이는 유의미함(p<0.05)\r\n",
        "  * 사후분석을 실시 결과, 'trt1'수준과 'trt2'수준에서 유의미한 평균 차이가 있었음(p<0.05)"
      ]
    },
    {
      "cell_type": "markdown",
      "metadata": {
        "id": "iEJwOE5HxI1y"
      },
      "source": [
        "## 2) Two-way ANOVA\r\n",
        "* Two-way ANOVA : 요인이 2개인 분산분석(ex, 커피+시럽, 커피+크림, 커피+시럽+크림)\r\n",
        "* 요인 간 상호작용 파악이 주요 목적\r\n",
        "<p>\r\n",
        "* 다원분산분석 가정\r\n",
        "  * 독립성\r\n",
        "  * 정규성\r\n",
        "  * 등분산성\r\n",
        "<p>\r\n",
        "* 주요 용어\r\n",
        "  * 주효과 : 다른 요인(집단구분 변수)와 상관없이, 한 요인의 수준(집단)에 따라 효과가 유의미하게 달라질 때 '주효과가 있다'고 함\r\n",
        "  * 상호작용효과 : 한 요인의 수준에 따른 효과차이가 또 다른 요인의 수준에 따라 달라질 때, '요인들 간 상호작용이 존재한다'고 함"
      ]
    },
    {
      "cell_type": "markdown",
      "metadata": {
        "id": "_x9Z9dyXxPfG"
      },
      "source": [
        "### (1) Hypothesis\r\n",
        "* 귀무가설 : 두 집단의 모평균이 동일하다\r\n",
        "* 대립가설 : 적어도 한 집단의 평균은 다른 집단과 다르다다"
      ]
    },
    {
      "cell_type": "markdown",
      "metadata": {
        "id": "p5lESzYkxPfM"
      },
      "source": [
        "### (2) Load Data"
      ]
    },
    {
      "cell_type": "code",
      "metadata": {
        "colab": {
          "base_uri": "https://localhost:8080/"
        },
        "id": "F4QR8-_TxPfM",
        "outputId": "a816a757-f9e2-4f59-d03e-1228890ca238"
      },
      "source": [
        "import pandas as pd\r\n",
        "\r\n",
        "DF = pd.read_csv('https://raw.githubusercontent.com/rusita-ai/pyData/master/poisons.csv')\r\n",
        "DF.info()"
      ],
      "execution_count": 84,
      "outputs": [
        {
          "output_type": "stream",
          "text": [
            "<class 'pandas.core.frame.DataFrame'>\n",
            "RangeIndex: 48 entries, 0 to 47\n",
            "Data columns (total 4 columns):\n",
            " #   Column      Non-Null Count  Dtype  \n",
            "---  ------      --------------  -----  \n",
            " 0   Unnamed: 0  48 non-null     int64  \n",
            " 1   time        48 non-null     float64\n",
            " 2   poison      48 non-null     int64  \n",
            " 3   treat       48 non-null     object \n",
            "dtypes: float64(1), int64(2), object(1)\n",
            "memory usage: 1.6+ KB\n"
          ],
          "name": "stdout"
        }
      ]
    },
    {
      "cell_type": "code",
      "metadata": {
        "colab": {
          "base_uri": "https://localhost:8080/",
          "height": 198
        },
        "id": "RryU95frxHXp",
        "outputId": "577cc31c-72cb-4d63-cfca-beffd5305571"
      },
      "source": [
        "DF.head()"
      ],
      "execution_count": 85,
      "outputs": [
        {
          "output_type": "execute_result",
          "data": {
            "text/html": [
              "<div>\n",
              "<style scoped>\n",
              "    .dataframe tbody tr th:only-of-type {\n",
              "        vertical-align: middle;\n",
              "    }\n",
              "\n",
              "    .dataframe tbody tr th {\n",
              "        vertical-align: top;\n",
              "    }\n",
              "\n",
              "    .dataframe thead th {\n",
              "        text-align: right;\n",
              "    }\n",
              "</style>\n",
              "<table border=\"1\" class=\"dataframe\">\n",
              "  <thead>\n",
              "    <tr style=\"text-align: right;\">\n",
              "      <th></th>\n",
              "      <th>Unnamed: 0</th>\n",
              "      <th>time</th>\n",
              "      <th>poison</th>\n",
              "      <th>treat</th>\n",
              "    </tr>\n",
              "  </thead>\n",
              "  <tbody>\n",
              "    <tr>\n",
              "      <th>0</th>\n",
              "      <td>1</td>\n",
              "      <td>0.31</td>\n",
              "      <td>1</td>\n",
              "      <td>A</td>\n",
              "    </tr>\n",
              "    <tr>\n",
              "      <th>1</th>\n",
              "      <td>2</td>\n",
              "      <td>0.45</td>\n",
              "      <td>1</td>\n",
              "      <td>A</td>\n",
              "    </tr>\n",
              "    <tr>\n",
              "      <th>2</th>\n",
              "      <td>3</td>\n",
              "      <td>0.46</td>\n",
              "      <td>1</td>\n",
              "      <td>A</td>\n",
              "    </tr>\n",
              "    <tr>\n",
              "      <th>3</th>\n",
              "      <td>4</td>\n",
              "      <td>0.43</td>\n",
              "      <td>1</td>\n",
              "      <td>A</td>\n",
              "    </tr>\n",
              "    <tr>\n",
              "      <th>4</th>\n",
              "      <td>5</td>\n",
              "      <td>0.36</td>\n",
              "      <td>2</td>\n",
              "      <td>A</td>\n",
              "    </tr>\n",
              "  </tbody>\n",
              "</table>\n",
              "</div>"
            ],
            "text/plain": [
              "   Unnamed: 0  time  poison treat\n",
              "0           1  0.31       1     A\n",
              "1           2  0.45       1     A\n",
              "2           3  0.46       1     A\n",
              "3           4  0.43       1     A\n",
              "4           5  0.36       2     A"
            ]
          },
          "metadata": {
            "tags": []
          },
          "execution_count": 85
        }
      ]
    },
    {
      "cell_type": "markdown",
      "metadata": {
        "id": "ZNnZ2Tj5Aj_q"
      },
      "source": [
        "### (3) 균형설계\r\n",
        "* 각 집단과 조건별로 표본의 수가 동일한 경우\r\n",
        "* 비균형설계의 경우 계산 방법이 달라"
      ]
    },
    {
      "cell_type": "markdown",
      "metadata": {
        "id": "if8Ql_3xAqhm"
      },
      "source": [
        "3-1. 독립변수 별 **균형설계** 확인\r\n",
        "* poison(약물) : 집단 별 표본수 16으로 동일"
      ]
    },
    {
      "cell_type": "code",
      "metadata": {
        "colab": {
          "base_uri": "https://localhost:8080/",
          "height": 168
        },
        "id": "l0ygvAIgxXSY",
        "outputId": "87039249-9a57-4675-e8d6-26fb02f069b7"
      },
      "source": [
        "DF.groupby('poison').agg(len)"
      ],
      "execution_count": 86,
      "outputs": [
        {
          "output_type": "execute_result",
          "data": {
            "text/html": [
              "<div>\n",
              "<style scoped>\n",
              "    .dataframe tbody tr th:only-of-type {\n",
              "        vertical-align: middle;\n",
              "    }\n",
              "\n",
              "    .dataframe tbody tr th {\n",
              "        vertical-align: top;\n",
              "    }\n",
              "\n",
              "    .dataframe thead th {\n",
              "        text-align: right;\n",
              "    }\n",
              "</style>\n",
              "<table border=\"1\" class=\"dataframe\">\n",
              "  <thead>\n",
              "    <tr style=\"text-align: right;\">\n",
              "      <th></th>\n",
              "      <th>Unnamed: 0</th>\n",
              "      <th>time</th>\n",
              "      <th>treat</th>\n",
              "    </tr>\n",
              "    <tr>\n",
              "      <th>poison</th>\n",
              "      <th></th>\n",
              "      <th></th>\n",
              "      <th></th>\n",
              "    </tr>\n",
              "  </thead>\n",
              "  <tbody>\n",
              "    <tr>\n",
              "      <th>1</th>\n",
              "      <td>16</td>\n",
              "      <td>16.0</td>\n",
              "      <td>16</td>\n",
              "    </tr>\n",
              "    <tr>\n",
              "      <th>2</th>\n",
              "      <td>16</td>\n",
              "      <td>16.0</td>\n",
              "      <td>16</td>\n",
              "    </tr>\n",
              "    <tr>\n",
              "      <th>3</th>\n",
              "      <td>16</td>\n",
              "      <td>16.0</td>\n",
              "      <td>16</td>\n",
              "    </tr>\n",
              "  </tbody>\n",
              "</table>\n",
              "</div>"
            ],
            "text/plain": [
              "        Unnamed: 0  time  treat\n",
              "poison                         \n",
              "1               16  16.0     16\n",
              "2               16  16.0     16\n",
              "3               16  16.0     16"
            ]
          },
          "metadata": {
            "tags": []
          },
          "execution_count": 86
        }
      ]
    },
    {
      "cell_type": "markdown",
      "metadata": {
        "id": "UXrnHU4BA0XJ"
      },
      "source": [
        "* treat(처방): 집단별 표본수 12로 동일"
      ]
    },
    {
      "cell_type": "code",
      "metadata": {
        "colab": {
          "base_uri": "https://localhost:8080/",
          "height": 198
        },
        "id": "PPYesuYLxhRt",
        "outputId": "af7efb68-b6f4-468b-f4b5-c577608260f4"
      },
      "source": [
        "DF.groupby('treat').agg(len)"
      ],
      "execution_count": 87,
      "outputs": [
        {
          "output_type": "execute_result",
          "data": {
            "text/html": [
              "<div>\n",
              "<style scoped>\n",
              "    .dataframe tbody tr th:only-of-type {\n",
              "        vertical-align: middle;\n",
              "    }\n",
              "\n",
              "    .dataframe tbody tr th {\n",
              "        vertical-align: top;\n",
              "    }\n",
              "\n",
              "    .dataframe thead th {\n",
              "        text-align: right;\n",
              "    }\n",
              "</style>\n",
              "<table border=\"1\" class=\"dataframe\">\n",
              "  <thead>\n",
              "    <tr style=\"text-align: right;\">\n",
              "      <th></th>\n",
              "      <th>Unnamed: 0</th>\n",
              "      <th>time</th>\n",
              "      <th>poison</th>\n",
              "    </tr>\n",
              "    <tr>\n",
              "      <th>treat</th>\n",
              "      <th></th>\n",
              "      <th></th>\n",
              "      <th></th>\n",
              "    </tr>\n",
              "  </thead>\n",
              "  <tbody>\n",
              "    <tr>\n",
              "      <th>A</th>\n",
              "      <td>12</td>\n",
              "      <td>12.0</td>\n",
              "      <td>12</td>\n",
              "    </tr>\n",
              "    <tr>\n",
              "      <th>B</th>\n",
              "      <td>12</td>\n",
              "      <td>12.0</td>\n",
              "      <td>12</td>\n",
              "    </tr>\n",
              "    <tr>\n",
              "      <th>C</th>\n",
              "      <td>12</td>\n",
              "      <td>12.0</td>\n",
              "      <td>12</td>\n",
              "    </tr>\n",
              "    <tr>\n",
              "      <th>D</th>\n",
              "      <td>12</td>\n",
              "      <td>12.0</td>\n",
              "      <td>12</td>\n",
              "    </tr>\n",
              "  </tbody>\n",
              "</table>\n",
              "</div>"
            ],
            "text/plain": [
              "       Unnamed: 0  time  poison\n",
              "treat                          \n",
              "A              12  12.0      12\n",
              "B              12  12.0      12\n",
              "C              12  12.0      12\n",
              "D              12  12.0      12"
            ]
          },
          "metadata": {
            "tags": []
          },
          "execution_count": 87
        }
      ]
    },
    {
      "cell_type": "markdown",
      "metadata": {
        "id": "LtLKv9sWA4Cp"
      },
      "source": [
        "* poison, treat : 집단별 표본수 4로 동일"
      ]
    },
    {
      "cell_type": "code",
      "metadata": {
        "colab": {
          "base_uri": "https://localhost:8080/",
          "height": 438
        },
        "id": "AbwJjh4PxiTR",
        "outputId": "74999da1-e425-4a12-d351-0c9c688ceb2d"
      },
      "source": [
        "DF.groupby(['poison','treat']).agg(len)"
      ],
      "execution_count": 88,
      "outputs": [
        {
          "output_type": "execute_result",
          "data": {
            "text/html": [
              "<div>\n",
              "<style scoped>\n",
              "    .dataframe tbody tr th:only-of-type {\n",
              "        vertical-align: middle;\n",
              "    }\n",
              "\n",
              "    .dataframe tbody tr th {\n",
              "        vertical-align: top;\n",
              "    }\n",
              "\n",
              "    .dataframe thead th {\n",
              "        text-align: right;\n",
              "    }\n",
              "</style>\n",
              "<table border=\"1\" class=\"dataframe\">\n",
              "  <thead>\n",
              "    <tr style=\"text-align: right;\">\n",
              "      <th></th>\n",
              "      <th></th>\n",
              "      <th>Unnamed: 0</th>\n",
              "      <th>time</th>\n",
              "    </tr>\n",
              "    <tr>\n",
              "      <th>poison</th>\n",
              "      <th>treat</th>\n",
              "      <th></th>\n",
              "      <th></th>\n",
              "    </tr>\n",
              "  </thead>\n",
              "  <tbody>\n",
              "    <tr>\n",
              "      <th rowspan=\"4\" valign=\"top\">1</th>\n",
              "      <th>A</th>\n",
              "      <td>4</td>\n",
              "      <td>4.0</td>\n",
              "    </tr>\n",
              "    <tr>\n",
              "      <th>B</th>\n",
              "      <td>4</td>\n",
              "      <td>4.0</td>\n",
              "    </tr>\n",
              "    <tr>\n",
              "      <th>C</th>\n",
              "      <td>4</td>\n",
              "      <td>4.0</td>\n",
              "    </tr>\n",
              "    <tr>\n",
              "      <th>D</th>\n",
              "      <td>4</td>\n",
              "      <td>4.0</td>\n",
              "    </tr>\n",
              "    <tr>\n",
              "      <th rowspan=\"4\" valign=\"top\">2</th>\n",
              "      <th>A</th>\n",
              "      <td>4</td>\n",
              "      <td>4.0</td>\n",
              "    </tr>\n",
              "    <tr>\n",
              "      <th>B</th>\n",
              "      <td>4</td>\n",
              "      <td>4.0</td>\n",
              "    </tr>\n",
              "    <tr>\n",
              "      <th>C</th>\n",
              "      <td>4</td>\n",
              "      <td>4.0</td>\n",
              "    </tr>\n",
              "    <tr>\n",
              "      <th>D</th>\n",
              "      <td>4</td>\n",
              "      <td>4.0</td>\n",
              "    </tr>\n",
              "    <tr>\n",
              "      <th rowspan=\"4\" valign=\"top\">3</th>\n",
              "      <th>A</th>\n",
              "      <td>4</td>\n",
              "      <td>4.0</td>\n",
              "    </tr>\n",
              "    <tr>\n",
              "      <th>B</th>\n",
              "      <td>4</td>\n",
              "      <td>4.0</td>\n",
              "    </tr>\n",
              "    <tr>\n",
              "      <th>C</th>\n",
              "      <td>4</td>\n",
              "      <td>4.0</td>\n",
              "    </tr>\n",
              "    <tr>\n",
              "      <th>D</th>\n",
              "      <td>4</td>\n",
              "      <td>4.0</td>\n",
              "    </tr>\n",
              "  </tbody>\n",
              "</table>\n",
              "</div>"
            ],
            "text/plain": [
              "              Unnamed: 0  time\n",
              "poison treat                  \n",
              "1      A               4   4.0\n",
              "       B               4   4.0\n",
              "       C               4   4.0\n",
              "       D               4   4.0\n",
              "2      A               4   4.0\n",
              "       B               4   4.0\n",
              "       C               4   4.0\n",
              "       D               4   4.0\n",
              "3      A               4   4.0\n",
              "       B               4   4.0\n",
              "       C               4   4.0\n",
              "       D               4   4.0"
            ]
          },
          "metadata": {
            "tags": []
          },
          "execution_count": 88
        }
      ]
    },
    {
      "cell_type": "markdown",
      "metadata": {
        "id": "UKG0P4sxA_sx"
      },
      "source": [
        "### (4) 이원분산분석\r\n",
        "* poison : p<0.05로 유의미. 즉 posion의 수준에 따라 평균에 차이가 난다고 볼 수 있음\r\n",
        "* treat : p< 0.05로 유의미. 즉 treat의 수준에 따라 평균에 차이가 난다고 볼 수 있음\r\n",
        "* 'poison:treat' : p > 0.05로 유의미하지 않음. 상호작용 효과는 발견하지 못함"
      ]
    },
    {
      "cell_type": "code",
      "metadata": {
        "colab": {
          "base_uri": "https://localhost:8080/",
          "height": 168
        },
        "id": "aU8xYZd0xnLz",
        "outputId": "dcea8a9e-e93f-437d-d3fc-fc8b7cd16397"
      },
      "source": [
        "from statsmodels.formula.api import ols\r\n",
        "from statsmodels.stats.anova import anova_lm\r\n",
        "\r\n",
        "TWA = ols('time ~ C(poison) * C(treat)', DF).fit()\r\n",
        "anova_lm(TWA)"
      ],
      "execution_count": 89,
      "outputs": [
        {
          "output_type": "execute_result",
          "data": {
            "text/html": [
              "<div>\n",
              "<style scoped>\n",
              "    .dataframe tbody tr th:only-of-type {\n",
              "        vertical-align: middle;\n",
              "    }\n",
              "\n",
              "    .dataframe tbody tr th {\n",
              "        vertical-align: top;\n",
              "    }\n",
              "\n",
              "    .dataframe thead th {\n",
              "        text-align: right;\n",
              "    }\n",
              "</style>\n",
              "<table border=\"1\" class=\"dataframe\">\n",
              "  <thead>\n",
              "    <tr style=\"text-align: right;\">\n",
              "      <th></th>\n",
              "      <th>df</th>\n",
              "      <th>sum_sq</th>\n",
              "      <th>mean_sq</th>\n",
              "      <th>F</th>\n",
              "      <th>PR(&gt;F)</th>\n",
              "    </tr>\n",
              "  </thead>\n",
              "  <tbody>\n",
              "    <tr>\n",
              "      <th>C(poison)</th>\n",
              "      <td>2.0</td>\n",
              "      <td>1.033012</td>\n",
              "      <td>0.516506</td>\n",
              "      <td>23.221737</td>\n",
              "      <td>3.331440e-07</td>\n",
              "    </tr>\n",
              "    <tr>\n",
              "      <th>C(treat)</th>\n",
              "      <td>3.0</td>\n",
              "      <td>0.921206</td>\n",
              "      <td>0.307069</td>\n",
              "      <td>13.805582</td>\n",
              "      <td>3.777331e-06</td>\n",
              "    </tr>\n",
              "    <tr>\n",
              "      <th>C(poison):C(treat)</th>\n",
              "      <td>6.0</td>\n",
              "      <td>0.250137</td>\n",
              "      <td>0.041690</td>\n",
              "      <td>1.874333</td>\n",
              "      <td>1.122506e-01</td>\n",
              "    </tr>\n",
              "    <tr>\n",
              "      <th>Residual</th>\n",
              "      <td>36.0</td>\n",
              "      <td>0.800725</td>\n",
              "      <td>0.022242</td>\n",
              "      <td>NaN</td>\n",
              "      <td>NaN</td>\n",
              "    </tr>\n",
              "  </tbody>\n",
              "</table>\n",
              "</div>"
            ],
            "text/plain": [
              "                      df    sum_sq   mean_sq          F        PR(>F)\n",
              "C(poison)            2.0  1.033012  0.516506  23.221737  3.331440e-07\n",
              "C(treat)             3.0  0.921206  0.307069  13.805582  3.777331e-06\n",
              "C(poison):C(treat)   6.0  0.250137  0.041690   1.874333  1.122506e-01\n",
              "Residual            36.0  0.800725  0.022242        NaN           NaN"
            ]
          },
          "metadata": {
            "tags": []
          },
          "execution_count": 89
        }
      ]
    },
    {
      "cell_type": "markdown",
      "metadata": {
        "id": "f2pyAL8rBYQB"
      },
      "source": [
        "### (5) 비균형설계\r\n",
        "* anova_lm(TWA, typ = 3)\r\n",
        "  * typ = 3 옵션 추가"
      ]
    },
    {
      "cell_type": "markdown",
      "metadata": {
        "id": "AZSLT1WEBgtZ"
      },
      "source": [
        "### (6) 이원분산분석 결과 해석\r\n",
        "* time에 대한 poison과  treat을 요인으로 하는 이원분산분석 실시 결과,\r\n",
        "  * poison의 주효과 유의(p < 0.05),\r\n",
        "  * treat의 주효과 유의 (p < 0.05),\r\n",
        "  * poison과 treat의 유의미한 상호작용효과는 발견할 수 없음(p>0.05)\r\n",
        "\r\n",
        "* 만약 상호작용효과가 유의미하다면,\r\n",
        "  * poison 1,2,3 집단별 treat의 단순효과분석 수행"
      ]
    },
    {
      "cell_type": "markdown",
      "metadata": {
        "id": "z812UymAyEBR"
      },
      "source": [
        "# 3, Chi-Squared Test\r\n",
        "* 독립성 검정\r\n",
        "* 관찰된 빈도가 기대된 빈도와 의미있게 다른지 여부를 검증\r\n",
        "* 명목척도 자료의 분석에 사용용"
      ]
    },
    {
      "cell_type": "markdown",
      "metadata": {
        "id": "ix62nhXCyDSZ"
      },
      "source": [
        "### (1) Hypothesis\r\n",
        "* 귀무가설 : '가사노동의 종류'(행)와 '수행하는 사람'(열)은 독립이다.\r\n",
        "* 대립가설 : '가사노동의 종류'(행)와 '수행하는 사람'(열)은 독립이 아니다(일에 따라 정해져있다)\r\n",
        "<p>\r\n",
        "일을 수행하는 사람과 일의 종류가 독립적인가? 그 일이 수행하는 사람에게 관련있는가?"
      ]
    },
    {
      "cell_type": "markdown",
      "metadata": {
        "id": "Dk1gyNrUyDSg"
      },
      "source": [
        "### (2) Load Data"
      ]
    },
    {
      "cell_type": "code",
      "metadata": {
        "colab": {
          "base_uri": "https://localhost:8080/"
        },
        "id": "SHm5LQ29yDSg",
        "outputId": "6996547c-a568-417a-c6f8-a8b13a3fb1d8"
      },
      "source": [
        "import pandas as pd\r\n",
        "\r\n",
        "url = 'https://raw.githubusercontent.com/rusita-ai/pyData/master/housetasks.csv'\r\n",
        "DF = pd.read_csv(url, index_col = 0)\r\n",
        "DF.info()"
      ],
      "execution_count": 90,
      "outputs": [
        {
          "output_type": "stream",
          "text": [
            "<class 'pandas.core.frame.DataFrame'>\n",
            "Index: 13 entries, Laundry to Holidays\n",
            "Data columns (total 4 columns):\n",
            " #   Column       Non-Null Count  Dtype\n",
            "---  ------       --------------  -----\n",
            " 0   Wife         13 non-null     int64\n",
            " 1   Alternating  13 non-null     int64\n",
            " 2   Husband      13 non-null     int64\n",
            " 3   Jointly      13 non-null     int64\n",
            "dtypes: int64(4)\n",
            "memory usage: 520.0+ bytes\n"
          ],
          "name": "stdout"
        }
      ]
    },
    {
      "cell_type": "markdown",
      "metadata": {
        "id": "a4iH-GXvLhLI"
      },
      "source": [
        "* 행 : 가사노동의 종류\r\n",
        "* 열 : 수행하는 사람"
      ]
    },
    {
      "cell_type": "code",
      "metadata": {
        "colab": {
          "base_uri": "https://localhost:8080/",
          "height": 198
        },
        "id": "PVZ-xJXJyDSh",
        "outputId": "e80d95c8-a412-4cb9-9bc2-cbe5721d69a7"
      },
      "source": [
        "DF.head()"
      ],
      "execution_count": 91,
      "outputs": [
        {
          "output_type": "execute_result",
          "data": {
            "text/html": [
              "<div>\n",
              "<style scoped>\n",
              "    .dataframe tbody tr th:only-of-type {\n",
              "        vertical-align: middle;\n",
              "    }\n",
              "\n",
              "    .dataframe tbody tr th {\n",
              "        vertical-align: top;\n",
              "    }\n",
              "\n",
              "    .dataframe thead th {\n",
              "        text-align: right;\n",
              "    }\n",
              "</style>\n",
              "<table border=\"1\" class=\"dataframe\">\n",
              "  <thead>\n",
              "    <tr style=\"text-align: right;\">\n",
              "      <th></th>\n",
              "      <th>Wife</th>\n",
              "      <th>Alternating</th>\n",
              "      <th>Husband</th>\n",
              "      <th>Jointly</th>\n",
              "    </tr>\n",
              "  </thead>\n",
              "  <tbody>\n",
              "    <tr>\n",
              "      <th>Laundry</th>\n",
              "      <td>156</td>\n",
              "      <td>14</td>\n",
              "      <td>2</td>\n",
              "      <td>4</td>\n",
              "    </tr>\n",
              "    <tr>\n",
              "      <th>Main_meal</th>\n",
              "      <td>124</td>\n",
              "      <td>20</td>\n",
              "      <td>5</td>\n",
              "      <td>4</td>\n",
              "    </tr>\n",
              "    <tr>\n",
              "      <th>Dinner</th>\n",
              "      <td>77</td>\n",
              "      <td>11</td>\n",
              "      <td>7</td>\n",
              "      <td>13</td>\n",
              "    </tr>\n",
              "    <tr>\n",
              "      <th>Breakfeast</th>\n",
              "      <td>82</td>\n",
              "      <td>36</td>\n",
              "      <td>15</td>\n",
              "      <td>7</td>\n",
              "    </tr>\n",
              "    <tr>\n",
              "      <th>Tidying</th>\n",
              "      <td>53</td>\n",
              "      <td>11</td>\n",
              "      <td>1</td>\n",
              "      <td>57</td>\n",
              "    </tr>\n",
              "  </tbody>\n",
              "</table>\n",
              "</div>"
            ],
            "text/plain": [
              "            Wife  Alternating  Husband  Jointly\n",
              "Laundry      156           14        2        4\n",
              "Main_meal    124           20        5        4\n",
              "Dinner        77           11        7       13\n",
              "Breakfeast    82           36       15        7\n",
              "Tidying       53           11        1       57"
            ]
          },
          "metadata": {
            "tags": []
          },
          "execution_count": 91
        }
      ]
    },
    {
      "cell_type": "markdown",
      "metadata": {
        "id": "umn_kDg2Lkl-"
      },
      "source": [
        "### (3) 카이제곱검증\r\n",
        "무슨 값인지 몰라도 됨 ;;;;;"
      ]
    },
    {
      "cell_type": "code",
      "metadata": {
        "id": "LsPjctGFx2W4"
      },
      "source": [
        "import scipy.stats\r\n",
        "\r\n",
        "chi2, pvalue, dof, expected = scipy.stats.chi2_contingency(DF)"
      ],
      "execution_count": 92,
      "outputs": []
    },
    {
      "cell_type": "markdown",
      "metadata": {
        "id": "zcWEBQWaLtf0"
      },
      "source": [
        "3-1. chi-square 검정통계량"
      ]
    },
    {
      "cell_type": "code",
      "metadata": {
        "colab": {
          "base_uri": "https://localhost:8080/"
        },
        "id": "zWtQszykyU-Z",
        "outputId": "a5cdc39a-ac46-4953-e34b-11f2a7e60258"
      },
      "source": [
        "chi2"
      ],
      "execution_count": 93,
      "outputs": [
        {
          "output_type": "execute_result",
          "data": {
            "text/plain": [
              "1944.4561959955277"
            ]
          },
          "metadata": {
            "tags": []
          },
          "execution_count": 93
        }
      ]
    },
    {
      "cell_type": "markdown",
      "metadata": {
        "id": "LjLkSxD5LxXJ"
      },
      "source": [
        "3-2 자유도"
      ]
    },
    {
      "cell_type": "code",
      "metadata": {
        "colab": {
          "base_uri": "https://localhost:8080/"
        },
        "id": "nBdMcUBxyvAL",
        "outputId": "fc705e28-fc73-44ea-9798-d427c55f94f6"
      },
      "source": [
        "dof"
      ],
      "execution_count": 94,
      "outputs": [
        {
          "output_type": "execute_result",
          "data": {
            "text/plain": [
              "36"
            ]
          },
          "metadata": {
            "tags": []
          },
          "execution_count": 94
        }
      ]
    },
    {
      "cell_type": "markdown",
      "metadata": {
        "id": "yto6X7Y0L2_f"
      },
      "source": [
        "3-3 p-value "
      ]
    },
    {
      "cell_type": "code",
      "metadata": {
        "colab": {
          "base_uri": "https://localhost:8080/"
        },
        "id": "H98CxpFfywlr",
        "outputId": "79c7ddcd-ea7f-4295-fc4f-53364d5ef8df"
      },
      "source": [
        "pvalue\r\n",
        "# 0.05보다 무지하게 작다는 거고. 가사노동의 종류는 수행하는 사람은 정해져있다."
      ],
      "execution_count": 95,
      "outputs": [
        {
          "output_type": "execute_result",
          "data": {
            "text/plain": [
              "0.0"
            ]
          },
          "metadata": {
            "tags": []
          },
          "execution_count": 95
        }
      ]
    },
    {
      "cell_type": "code",
      "metadata": {
        "id": "k9-K2L9ezA_Z"
      },
      "source": [
        ""
      ],
      "execution_count": 95,
      "outputs": []
    }
  ]
}