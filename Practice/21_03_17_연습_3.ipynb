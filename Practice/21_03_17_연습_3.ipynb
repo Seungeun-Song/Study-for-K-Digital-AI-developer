{
  "nbformat": 4,
  "nbformat_minor": 0,
  "metadata": {
    "colab": {
      "name": "Untitled0.ipynb",
      "provenance": []
    },
    "kernelspec": {
      "name": "python3",
      "display_name": "Python 3"
    }
  },
  "cells": [
    {
      "cell_type": "code",
      "metadata": {
        "id": "XIKhLY_JLNmc"
      },
      "source": [
        "import numpy as np\r\n",
        "\r\n",
        "def sigmoid(x):\r\n",
        "  y = 1 / (1 + np.exp(-x))\r\n",
        "  return y"
      ],
      "execution_count": 1,
      "outputs": []
    },
    {
      "cell_type": "code",
      "metadata": {
        "colab": {
          "base_uri": "https://localhost:8080/",
          "height": 265
        },
        "id": "gMcmYgA6LTXL",
        "outputId": "430611f7-1a44-40c7-b43b-ae90e2ffc651"
      },
      "source": [
        "import matplotlib.pyplot as plt\r\n",
        "\r\n",
        "n = np.linspace(-10.0, 10.0, 2000)\r\n",
        "\r\n",
        "plt.plot(n, sigmoid(n))\r\n",
        "plt.show()"
      ],
      "execution_count": 4,
      "outputs": [
        {
          "output_type": "display_data",
          "data": {
            "image/png": "[encoded data removed]",
            "text/plain": [
              "<Figure size 432x288 with 1 Axes>"
            ]
          },
          "metadata": {
            "tags": [],
            "needs_background": "light"
          }
        }
      ]
    },
    {
      "cell_type": "code",
      "metadata": {
        "id": "mreLEoNMLd8L"
      },
      "source": [
        "def softmax(x):\r\n",
        "  m = np.max(x)\r\n",
        "\r\n",
        "  sm = np.exp(x-m)/np.sum(np.exp(x-m))\r\n",
        "  return (sm)"
      ],
      "execution_count": 18,
      "outputs": []
    },
    {
      "cell_type": "code",
      "metadata": {
        "colab": {
          "base_uri": "https://localhost:8080/",
          "height": 265
        },
        "id": "LxDG7Eg5LvNS",
        "outputId": "94d1956b-dca4-44eb-ed4d-bbe6f5ed1bdb"
      },
      "source": [
        "n = np.linspace(-10.0, 10.0, 2000)\r\n",
        "\r\n",
        "plt.plot(n, softmax(n))\r\n",
        "plt.show()"
      ],
      "execution_count": 19,
      "outputs": [
        {
          "output_type": "display_data",
          "data": {
            "image/png": "[encoded data removed]",
            "text/plain": [
              "<Figure size 432x288 with 1 Axes>"
            ]
          },
          "metadata": {
            "tags": [],
            "needs_background": "light"
          }
        }
      ]
    },
    {
      "cell_type": "code",
      "metadata": {
        "id": "F3UBtBdUMFVc"
      },
      "source": [
        "y_hat = np.array([5, 0, -3])"
      ],
      "execution_count": 14,
      "outputs": []
    },
    {
      "cell_type": "code",
      "metadata": {
        "colab": {
          "base_uri": "https://localhost:8080/"
        },
        "id": "mLBz63K3MqEw",
        "outputId": "76acc717-3a19-4d4b-c2d5-50b5e158bbac"
      },
      "source": [
        "np.set_printoptions(suppress=True, precision=5)\r\n",
        "\r\n",
        "print(sigmoid(y_hat))\r\n",
        "print('%.5f' %np.sum(sigmoid(y_hat)))"
      ],
      "execution_count": 15,
      "outputs": [
        {
          "output_type": "stream",
          "text": [
            "[0.99331 0.5     0.04743]\n",
            "1.54073\n"
          ],
          "name": "stdout"
        }
      ]
    },
    {
      "cell_type": "code",
      "metadata": {
        "colab": {
          "base_uri": "https://localhost:8080/"
        },
        "id": "XztfSTRNM0jD",
        "outputId": "ad682de7-95ff-4233-a6b3-1caa30532ce5"
      },
      "source": [
        "np.set_printoptions(suppress=True, precision=5)\r\n",
        "\r\n",
        "print(softmax(y_hat))\r\n",
        "print('%.5f' %np.sum(softmax(y_hat)))"
      ],
      "execution_count": 20,
      "outputs": [
        {
          "output_type": "stream",
          "text": [
            "[0.99298 0.00669 0.00033]\n",
            "1.00000\n"
          ],
          "name": "stdout"
        }
      ]
    },
    {
      "cell_type": "code",
      "metadata": {
        "id": "pVhyswO-NIJk"
      },
      "source": [
        "y_hat = np.array([10, -2, -9])"
      ],
      "execution_count": 21,
      "outputs": []
    },
    {
      "cell_type": "code",
      "metadata": {
        "colab": {
          "base_uri": "https://localhost:8080/"
        },
        "id": "2cvQGlr3NUKL",
        "outputId": "4bb3f023-8664-48c3-c3ac-935410cf45dd"
      },
      "source": [
        "print(sigmoid(y_hat))\r\n",
        "print('%.5f' %np.sum(sigmoid(y_hat)))"
      ],
      "execution_count": 22,
      "outputs": [
        {
          "output_type": "stream",
          "text": [
            "[0.99995 0.1192  0.00012]\n",
            "1.11928\n"
          ],
          "name": "stdout"
        }
      ]
    },
    {
      "cell_type": "code",
      "metadata": {
        "colab": {
          "base_uri": "https://localhost:8080/"
        },
        "id": "L3rYnKn3NWxb",
        "outputId": "47f0e918-f0d9-48ea-cea4-f10bcb071f65"
      },
      "source": [
        "print(softmax(y_hat))\r\n",
        "print('%.5f' %np.sum(softmax(y_hat)))"
      ],
      "execution_count": 23,
      "outputs": [
        {
          "output_type": "stream",
          "text": [
            "[0.99999 0.00001 0.     ]\n",
            "1.00000\n"
          ],
          "name": "stdout"
        }
      ]
    },
    {
      "cell_type": "code",
      "metadata": {
        "id": "Hoep9nfPNYc7"
      },
      "source": [
        ""
      ],
      "execution_count": null,
      "outputs": []
    }
  ]
}