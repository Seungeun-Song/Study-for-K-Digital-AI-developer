{
  "nbformat": 4,
  "nbformat_minor": 0,
  "metadata": {
    "colab": {
      "name": "21_03_06_error_1.ipynb",
      "provenance": []
    },
    "kernelspec": {
      "name": "python3",
      "display_name": "Python 3"
    }
  },
  "cells": [
    {
      "cell_type": "code",
      "metadata": {
        "colab": {
          "base_uri": "https://localhost:8080/"
        },
        "id": "1seD_d94eDn8",
        "outputId": "6aeac964-1c67-4d4a-a779-2c330d22ac4a"
      },
      "source": [
        "import pandas as pd\r\n",
        "\r\n",
        "DF = pd.read_csv('https://raw.githubusercontent.com/rusita-ai/pyData/master/product.csv')\r\n",
        "DF.info()"
      ],
      "execution_count": 3,
      "outputs": [
        {
          "output_type": "stream",
          "text": [
            "<class 'pandas.core.frame.DataFrame'>\n",
            "RangeIndex: 15009 entries, 0 to 15008\n",
            "Data columns (total 12 columns):\n",
            " #   Column         Non-Null Count  Dtype  \n",
            "---  ------         --------------  -----  \n",
            " 0   Date           15009 non-null  object \n",
            " 1   meanPriceEach  15009 non-null  float64\n",
            " 2   totalOrder     15009 non-null  float64\n",
            " 3   orderType_1    15009 non-null  float64\n",
            " 4   orderType_2    15009 non-null  float64\n",
            " 5   orderType_3    15009 non-null  float64\n",
            " 6   totalBundle    15009 non-null  float64\n",
            " 7   bundleType_1   15009 non-null  float64\n",
            " 8   bundleType_2   15009 non-null  float64\n",
            " 9   customerType   15009 non-null  object \n",
            " 10  FY             15009 non-null  int64  \n",
            " 11  Country        15009 non-null  int64  \n",
            "dtypes: float64(8), int64(2), object(2)\n",
            "memory usage: 1.4+ MB\n"
          ],
          "name": "stdout"
        }
      ]
    },
    {
      "cell_type": "code",
      "metadata": {
        "colab": {
          "base_uri": "https://localhost:8080/"
        },
        "id": "3osRIg1_eE7Z",
        "outputId": "a3c39c19-1fcb-459d-c503-6bce6e0bffbe"
      },
      "source": [
        "DF = DF[['meanPriceEach', 'totalOrder','orderType_1','orderType_2','orderType_3','totalBundle','bundleType_1','bundleType_2', 'customerType','FY','Country']]\r\n",
        "DF.info()"
      ],
      "execution_count": 4,
      "outputs": [
        {
          "output_type": "stream",
          "text": [
            "<class 'pandas.core.frame.DataFrame'>\n",
            "RangeIndex: 15009 entries, 0 to 15008\n",
            "Data columns (total 11 columns):\n",
            " #   Column         Non-Null Count  Dtype  \n",
            "---  ------         --------------  -----  \n",
            " 0   meanPriceEach  15009 non-null  float64\n",
            " 1   totalOrder     15009 non-null  float64\n",
            " 2   orderType_1    15009 non-null  float64\n",
            " 3   orderType_2    15009 non-null  float64\n",
            " 4   orderType_3    15009 non-null  float64\n",
            " 5   totalBundle    15009 non-null  float64\n",
            " 6   bundleType_1   15009 non-null  float64\n",
            " 7   bundleType_2   15009 non-null  float64\n",
            " 8   customerType   15009 non-null  object \n",
            " 9   FY             15009 non-null  int64  \n",
            " 10  Country        15009 non-null  int64  \n",
            "dtypes: float64(8), int64(2), object(1)\n",
            "memory usage: 1.3+ MB\n"
          ],
          "name": "stdout"
        }
      ]
    },
    {
      "cell_type": "code",
      "metadata": {
        "id": "tXAFlTzBeO4v"
      },
      "source": [
        "from sklearn.model_selection import train_test_split\r\n",
        "from sklearn.ensemble import RandomForestClassifier\r\n",
        "from sklearn.metrics import accuracy_score, confusion_matrix"
      ],
      "execution_count": 5,
      "outputs": []
    },
    {
      "cell_type": "code",
      "metadata": {
        "id": "ouLiwBaui5U1"
      },
      "source": [
        "def randomForest(model_id, X, y, n_est=100, mf = 'auto', md = None, ts = 0.3, rs= 2045):\r\n",
        "\r\n",
        "# random_state를 state's'라고 적어서 오류\r\n",
        "  X_train, X_test, y_train, y_test = train_test_split(X, y, test_size=ts, random_state=rs)\r\n",
        "  Model_rf = RandomForestClassifier(n_estimators=n_est, max_features=mf, max_depth=md, random_state=rs)\r\n",
        "  Model_rf.fit(X_train, y_train)\r\n",
        "\r\n",
        "  y_hat = Model_rf.predict(X_test)\r\n",
        "\r\n",
        "  score_ac =accuracy_score(y_test, y_hat)\r\n",
        "\r\n",
        "  return {'model_id':model_id, 'n_estimators':n_est, 'max_features':mf, 'max_depth':md, 'accuracy_score':score_ac}"
      ],
      "execution_count": 29,
      "outputs": []
    },
    {
      "cell_type": "code",
      "metadata": {
        "id": "3TFHoGcueG_n"
      },
      "source": [
        "X = DF[['meanPriceEach', 'totalOrder','orderType_1','orderType_2','orderType_3','totalBundle','bundleType_1','bundleType_2', 'FY','Country']]\r\n",
        "y = DF['customerType']"
      ],
      "execution_count": 22,
      "outputs": []
    },
    {
      "cell_type": "code",
      "metadata": {
        "id": "yzsn_5P5mINU"
      },
      "source": [
        "DF_res = pd.DataFrame(data=None, columns =['model_id','n_estimators','max_features','max_depth','accuracy_score'])"
      ],
      "execution_count": 23,
      "outputs": []
    },
    {
      "cell_type": "code",
      "metadata": {
        "colab": {
          "base_uri": "https://localhost:8080/",
          "height": 48
        },
        "id": "aQ9gM8xneXaQ",
        "outputId": "a3f98bc1-24ea-4e5a-e387-c535ac897c61"
      },
      "source": [
        "DF_res"
      ],
      "execution_count": 24,
      "outputs": [
        {
          "output_type": "execute_result",
          "data": {
            "text/html": [
              "<div>\n",
              "<style scoped>\n",
              "    .dataframe tbody tr th:only-of-type {\n",
              "        vertical-align: middle;\n",
              "    }\n",
              "\n",
              "    .dataframe tbody tr th {\n",
              "        vertical-align: top;\n",
              "    }\n",
              "\n",
              "    .dataframe thead th {\n",
              "        text-align: right;\n",
              "    }\n",
              "</style>\n",
              "<table border=\"1\" class=\"dataframe\">\n",
              "  <thead>\n",
              "    <tr style=\"text-align: right;\">\n",
              "      <th></th>\n",
              "      <th>model_id</th>\n",
              "      <th>n_estimators</th>\n",
              "      <th>max_features</th>\n",
              "      <th>max_depth</th>\n",
              "      <th>accuracy_score</th>\n",
              "    </tr>\n",
              "  </thead>\n",
              "  <tbody>\n",
              "  </tbody>\n",
              "</table>\n",
              "</div>"
            ],
            "text/plain": [
              "Empty DataFrame\n",
              "Columns: [model_id, n_estimators, max_features, max_depth, accuracy_score]\n",
              "Index: []"
            ]
          },
          "metadata": {
            "tags": []
          },
          "execution_count": 24
        }
      ]
    },
    {
      "cell_type": "code",
      "metadata": {
        "id": "hWktUFJjeaaw"
      },
      "source": [
        "index = 1"
      ],
      "execution_count": 25,
      "outputs": []
    },
    {
      "cell_type": "code",
      "metadata": {
        "colab": {
          "base_uri": "https://localhost:8080/"
        },
        "id": "boDR_u-ummwr",
        "outputId": "ef4fa5f9-8adf-41e4-9bbc-1a11ccc985e8"
      },
      "source": [
        "for n in [50,100, 150]:\r\n",
        "  model_name= 'RF-'+str(index)\r\n",
        "  index += 1\r\n",
        "  res = randomForest(model_name, X, y, n_est = n)\r\n",
        "  print(res)\r\n",
        "  DF_res = DF_res.append(res, ignore_index=True)\r\n"
      ],
      "execution_count": 30,
      "outputs": [
        {
          "output_type": "stream",
          "text": [
            "{'model_id': 'RF-4', 'n_estimators': 50, 'max_features': 'auto', 'max_depth': None, 'accuracy_score': 0.9940039973351099}\n",
            "{'model_id': 'RF-5', 'n_estimators': 100, 'max_features': 'auto', 'max_depth': None, 'accuracy_score': 0.9942260715078837}\n",
            "{'model_id': 'RF-6', 'n_estimators': 150, 'max_features': 'auto', 'max_depth': None, 'accuracy_score': 0.9937819231623363}\n"
          ],
          "name": "stdout"
        }
      ]
    },
    {
      "cell_type": "code",
      "metadata": {
        "colab": {
          "base_uri": "https://localhost:8080/",
          "height": 139
        },
        "id": "g3ylwxH1ed3o",
        "outputId": "0208ee0e-2d76-437e-b19a-54fa3077272b"
      },
      "source": [
        "DF_res"
      ],
      "execution_count": 31,
      "outputs": [
        {
          "output_type": "execute_result",
          "data": {
            "text/html": [
              "<div>\n",
              "<style scoped>\n",
              "    .dataframe tbody tr th:only-of-type {\n",
              "        vertical-align: middle;\n",
              "    }\n",
              "\n",
              "    .dataframe tbody tr th {\n",
              "        vertical-align: top;\n",
              "    }\n",
              "\n",
              "    .dataframe thead th {\n",
              "        text-align: right;\n",
              "    }\n",
              "</style>\n",
              "<table border=\"1\" class=\"dataframe\">\n",
              "  <thead>\n",
              "    <tr style=\"text-align: right;\">\n",
              "      <th></th>\n",
              "      <th>model_id</th>\n",
              "      <th>n_estimators</th>\n",
              "      <th>max_features</th>\n",
              "      <th>max_depth</th>\n",
              "      <th>accuracy_score</th>\n",
              "    </tr>\n",
              "  </thead>\n",
              "  <tbody>\n",
              "    <tr>\n",
              "      <th>0</th>\n",
              "      <td>RF-4</td>\n",
              "      <td>50</td>\n",
              "      <td>auto</td>\n",
              "      <td>None</td>\n",
              "      <td>0.994004</td>\n",
              "    </tr>\n",
              "    <tr>\n",
              "      <th>1</th>\n",
              "      <td>RF-5</td>\n",
              "      <td>100</td>\n",
              "      <td>auto</td>\n",
              "      <td>None</td>\n",
              "      <td>0.994226</td>\n",
              "    </tr>\n",
              "    <tr>\n",
              "      <th>2</th>\n",
              "      <td>RF-6</td>\n",
              "      <td>150</td>\n",
              "      <td>auto</td>\n",
              "      <td>None</td>\n",
              "      <td>0.993782</td>\n",
              "    </tr>\n",
              "  </tbody>\n",
              "</table>\n",
              "</div>"
            ],
            "text/plain": [
              "  model_id n_estimators max_features max_depth  accuracy_score\n",
              "0     RF-4           50         auto      None        0.994004\n",
              "1     RF-5          100         auto      None        0.994226\n",
              "2     RF-6          150         auto      None        0.993782"
            ]
          },
          "metadata": {
            "tags": []
          },
          "execution_count": 31
        }
      ]
    },
    {
      "cell_type": "code",
      "metadata": {
        "id": "5VfBtkIt7fjF"
      },
      "source": [
        ""
      ],
      "execution_count": null,
      "outputs": []
    }
  ]
}