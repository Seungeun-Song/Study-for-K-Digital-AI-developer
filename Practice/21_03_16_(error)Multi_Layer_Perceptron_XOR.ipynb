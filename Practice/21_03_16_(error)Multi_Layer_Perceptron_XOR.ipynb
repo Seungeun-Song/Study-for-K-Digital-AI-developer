{
  "nbformat": 4,
  "nbformat_minor": 0,
  "metadata": {
    "colab": {
      "name": "001_Multi_Layer_Perceptron_XOR.ipynb",
      "provenance": []
    },
    "kernelspec": {
      "name": "python3",
      "display_name": "Python 3"
    }
  },
  "cells": [
    {
      "cell_type": "code",
      "metadata": {
        "id": "GGvFIh0ZNn1C"
      },
      "source": [
        "import numpy as np"
      ],
      "execution_count": 1,
      "outputs": []
    },
    {
      "cell_type": "code",
      "metadata": {
        "id": "nCMO6a3POF1A"
      },
      "source": [
        "def gradient(machine, param):\r\n",
        "\r\n",
        "  if param.ndim == 1: # 첫번째 파라메터 식\r\n",
        "    temp_param = param\r\n",
        "    delta = 0.00005\r\n",
        "    learned_param = np.zeros(param.shape)\r\n",
        "\r\n",
        "    for index in range(len(param)):\r\n",
        "      target_param = float(temp_param[index])\r\n",
        "      temp_param[index] = target_param + delta # delta를 더하기도 하고 빼기도 하는데 = 중앙미분(차분ef gradient(machine, param):\r\n",
        "      param_plus_delta = machine(temp_param)\r\n",
        "      temp_param[index] = target_param - delta\r\n",
        "      param_minus_delta = machine(temp_param)\r\n",
        "      learned_param[index] = (param_plus_delta - param_minus_delta) / (2 * delta) # 델타 x의 중앙미분을 해서 좌우로 델타거리가 2개가 생겼으니까, 2개를 곱     param_plus_delta = machine(temp_param)\r\n",
        "      temp_param[index] = target_param\r\n",
        "\r\n",
        "      return learned_param\r\n",
        "\r\n",
        "  elif param.ndim == 2:  # 2번째 파라메터 식\r\n",
        "      temp_param = param\r\n",
        "      delta = 0.00005\r\n",
        "      learned_param = np.zeros(param.shape)\r\n",
        "\r\n",
        "      rows = param.shape[0]\r\n",
        "      columns = param.shape[1]\r\n",
        "\r\n",
        "      for row in range(rows):\r\n",
        "        for column in range(columns):\r\n",
        "          target_param = float(temp_param[row, column])\r\n",
        "          temp_param[row, column] = target_param + delta\r\n",
        "          param_plus_delta = machine(temp_param)\r\n",
        "          temp_param[row, column] = target_param - delta\r\n",
        "          param_minus_delta = machine(temp_param)\r\n",
        "          learned_param[row, column] = (param_plus_delta - param_minus_delta) / (2 * delta)\r\n",
        "          temp_param[row, column] = target_param\r\n",
        "\r\n",
        "      return learned_param"
      ],
      "execution_count": 2,
      "outputs": []
    },
    {
      "cell_type": "code",
      "metadata": {
        "id": "IxnuuLg7PFfC"
      },
      "source": [
        "import numpy as np\r\n",
        "\r\n",
        "def sigmoid(x):\r\n",
        "  y_hat = 1 / ( 1 + np.exp(-x))\r\n",
        "  return y_hat"
      ],
      "execution_count": 3,
      "outputs": []
    },
    {
      "cell_type": "code",
      "metadata": {
        "id": "mAXJP7hvRC0x"
      },
      "source": [
        "class LogicGate:\r\n",
        "\r\n",
        "  def __init__(self, gate_Type, X_input, y_output):\r\n",
        "\r\n",
        "    # gate_Type 문자열 지정 Member\r\n",
        "    self.Type = gate_Type\r\n",
        "\r\n",
        "    # X_input, y_output Member 초기화\r\n",
        "    self.X_input = X_input.reshape(4,2) #(4행 2열) - X가 두개(column)니까,\r\n",
        "    self.y_output = y_output.reshape(4,1)\r\n",
        "\r\n",
        "    # W, b Member 초기화\r\n",
        "    self.W = np.random.rand(2,1)  # w = x가 2개니까 w도 2개\r\n",
        "    self.b = np.random.rand(1)\r\n",
        "\r\n",
        "    # learning_rate Member 지정\r\n",
        "    self.learning_rate = 0.01\r\n",
        "\r\n",
        "  # Cost_Function(CEE) Method  - 0 or 1 분류문제로 푼\r\n",
        "  def cost_func(self):\r\n",
        "    z = np.dot(self.X_input, self.W) + self.b\r\n",
        "    y_hat = sigmoid(z)\r\n",
        "    delta = 0.00001 #  아래 log에서 무한대가 나오지 않게 하기 위해 작은 수를 더하는 (y가 0이거나 1이면 무한대)\r\n",
        "    return -np.sum(self.y_output * np.log(y_hat + delta) + (1-self.y_output)* np.log((1- y_hat) + delta))  # CEE 식(-y log(y_hat) - ( 1 -y)log(1 - y_hat))\r\n",
        "\r\n",
        "  # Learning Method\r\n",
        "  def learn(self):\r\n",
        "    machine = lambda x : self.cost_func()\r\n",
        "    print('Initial Cost = ', self.cost_func())\r\n",
        "\r\n",
        "    for step in range(10001):\r\n",
        "      self.W = self.W - self.learning_rate * gradient(machine, self.W)\r\n",
        "      self.b = self.b - self.learning_rate * gradient(machine, self.b)\r\n",
        "\r\n",
        "      if (step % 1000 == 0): # 1000번 학습할 때마다 오차값을 찍어주도록\r\n",
        "        print('Step = ', step, 'Cost = ', self.cost_func()) \r\n",
        "\r\n",
        "  # Predict Method\r\n",
        "  def predict(self, input_data): # input = x\r\n",
        "\r\n",
        "    z = np.dot(input_data, self.W) + self.b # 행렬의 곱으로 더한(dot)\r\n",
        "    y_prob = sigmoid(z)\r\n",
        "\r\n",
        "    if y_prob > 0.5:\r\n",
        "      result = 1\r\n",
        "    else:\r\n",
        "      result = 0\r\n",
        "\r\n",
        "    return y_prob, result"
      ],
      "execution_count": 4,
      "outputs": []
    },
    {
      "cell_type": "markdown",
      "metadata": {
        "id": "OrsuafuWTK_w"
      },
      "source": [
        "## 3) And_Gate"
      ]
    },
    {
      "cell_type": "code",
      "metadata": {
        "id": "_0A5DhCjTJkr"
      },
      "source": [
        "X_input = np.array([[0,0],[0,1],[1,0],[1,1]])\r\n",
        "y_output = np.array([0,0,0,1])"
      ],
      "execution_count": 5,
      "outputs": []
    },
    {
      "cell_type": "code",
      "metadata": {
        "colab": {
          "base_uri": "https://localhost:8080/"
        },
        "id": "a7Do-I-_TVOl",
        "outputId": "c65a5a70-7c9c-48f7-a524-48ab34fe0cf5"
      },
      "source": [
        "AND_Gate = LogicGate('AND_GATE', X_input, y_output)\r\n",
        "AND_Gate.learn()"
      ],
      "execution_count": 6,
      "outputs": [
        {
          "output_type": "stream",
          "text": [
            "Initial Cost =  3.9633961033819523\n",
            "Step =  0 Cost =  3.92248732978208\n",
            "Step =  1000 Cost =  1.0519344818644258\n",
            "Step =  2000 Cost =  0.6787197123933115\n",
            "Step =  3000 Cost =  0.501653059355592\n",
            "Step =  4000 Cost =  0.3967843077791041\n",
            "Step =  5000 Cost =  0.3273968701057066\n",
            "Step =  6000 Cost =  0.278176485213522\n",
            "Step =  7000 Cost =  0.24151534644485756\n",
            "Step =  8000 Cost =  0.21319492153367628\n",
            "Step =  9000 Cost =  0.19068774782632064\n",
            "Step =  10000 Cost =  0.17238859894353936\n"
          ],
          "name": "stdout"
        }
      ]
    },
    {
      "cell_type": "code",
      "metadata": {
        "colab": {
          "base_uri": "https://localhost:8080/"
        },
        "id": "KNZgTKnFTvbY",
        "outputId": "38cafeb1-a5e8-4d30-d93f-2ab98397b29d"
      },
      "source": [
        "print(AND_Gate.Type, '\\n')  # 정확히 되는지 확인하기 위해 type으로 찍어보는\r\n",
        "\r\n",
        "test_data= np.array([[0,0],[0,1],[1,0],[1,1]])\r\n",
        "\r\n",
        "for input_data in test_data:\r\n",
        "  (signoid_val, logical_val) = AND_Gate.predict(input_data)\r\n",
        "  print(input_data, '=', logical_val)"
      ],
      "execution_count": 7,
      "outputs": [
        {
          "output_type": "stream",
          "text": [
            "AND_GATE \n",
            "\n",
            "[0 0] = 0\n",
            "[0 1] = 0\n",
            "[1 0] = 0\n",
            "[1 1] = 1\n"
          ],
          "name": "stdout"
        }
      ]
    },
    {
      "cell_type": "code",
      "metadata": {
        "id": "oSbF7wgyU1HQ"
      },
      "source": [
        "X_input = np.array([[0,0],[0,1],[1,0],[1,1]])\r\n",
        "y_output = np.array([0,1,1,1])"
      ],
      "execution_count": 8,
      "outputs": []
    },
    {
      "cell_type": "code",
      "metadata": {
        "colab": {
          "base_uri": "https://localhost:8080/"
        },
        "id": "KIidyzjrU-GG",
        "outputId": "0ee6bd4c-a1ab-46c7-c16b-9ef75b02fe66"
      },
      "source": [
        "OR_Gate = LogicGate('OR_CATE', X_input, y_output)\r\n",
        "OR_Gate.learn()"
      ],
      "execution_count": 9,
      "outputs": [
        {
          "output_type": "stream",
          "text": [
            "Initial Cost =  1.8047865019130638\n",
            "Step =  0 Cost =  1.802409945717622\n",
            "Step =  1000 Cost =  0.7200631234053578\n",
            "Step =  2000 Cost =  0.4318195786605844\n",
            "Step =  3000 Cost =  0.3037605020997366\n",
            "Step =  4000 Cost =  0.23262846345533061\n",
            "Step =  5000 Cost =  0.1877860166459871\n",
            "Step =  6000 Cost =  0.15709523126794778\n",
            "Step =  7000 Cost =  0.13484249816044003\n",
            "Step =  8000 Cost =  0.1180041682877296\n",
            "Step =  9000 Cost =  0.10483756038981511\n",
            "Step =  10000 Cost =  0.09427067917306785\n"
          ],
          "name": "stdout"
        }
      ]
    },
    {
      "cell_type": "code",
      "metadata": {
        "colab": {
          "base_uri": "https://localhost:8080/"
        },
        "id": "6EVAOmCFVDwV",
        "outputId": "36c71531-fd3e-4c81-aaea-d64e75d8211d"
      },
      "source": [
        "print(OR_Gate.Type, '\\n') # 정확히 되는지 확인하기 위해 type으로 찍어보는\r\n",
        "\r\n",
        "test_data = np.array([[0,0],[0,1],[1,0],[1,1]])\r\n",
        "\r\n",
        "for input_data in test_data:\r\n",
        "  (sigmoid_val, logical_val) = OR_Gate.predict(input_data)\r\n",
        "  print(input_data, '=', logical_val)\r\n"
      ],
      "execution_count": 10,
      "outputs": [
        {
          "output_type": "stream",
          "text": [
            "OR_CATE \n",
            "\n",
            "[0 0] = 0\n",
            "[0 1] = 1\n",
            "[1 0] = 1\n",
            "[1 1] = 1\n"
          ],
          "name": "stdout"
        }
      ]
    },
    {
      "cell_type": "markdown",
      "metadata": {
        "id": "6ncGDqYuVYMG"
      },
      "source": [
        "## 5) NAND_Gate"
      ]
    },
    {
      "cell_type": "code",
      "metadata": {
        "id": "IXQEEPvSVWZm"
      },
      "source": [
        "X_input = np.array([[0,0],[0,1],[1,0],[1,1]])\r\n",
        "y_output = np.array([1,1,1,0])"
      ],
      "execution_count": 11,
      "outputs": []
    },
    {
      "cell_type": "code",
      "metadata": {
        "colab": {
          "base_uri": "https://localhost:8080/"
        },
        "id": "IbUSvBDcVhpg",
        "outputId": "af2e9a62-6b1a-4926-eefa-8eeb553bc32f"
      },
      "source": [
        "NAND_Gate = LogicGate('NAND_GATE', X_input, y_output)\r\n",
        "NAND_Gate.learn()"
      ],
      "execution_count": 12,
      "outputs": [
        {
          "output_type": "stream",
          "text": [
            "Initial Cost =  3.0429188682470167\n",
            "Step =  0 Cost =  3.034624031664764\n",
            "Step =  1000 Cost =  1.074951254701098\n",
            "Step =  2000 Cost =  0.6879072436591669\n",
            "Step =  3000 Cost =  0.506701946226485\n",
            "Step =  4000 Cost =  0.3999820691573991\n",
            "Step =  5000 Cost =  0.3295993271251302\n",
            "Step =  6000 Cost =  0.27978205422060165\n",
            "Step =  7000 Cost =  0.24273536678993207\n",
            "Step =  8000 Cost =  0.2141519298862288\n",
            "Step =  9000 Cost =  0.19145761033348424\n",
            "Step =  10000 Cost =  0.17302073796736797\n"
          ],
          "name": "stdout"
        }
      ]
    },
    {
      "cell_type": "code",
      "metadata": {
        "id": "9X_wgq6DVpLJ",
        "colab": {
          "base_uri": "https://localhost:8080/"
        },
        "outputId": "284ef4e6-e555-4b0f-dcc4-6af78b5bf8af"
      },
      "source": [
        "print(NAND_Gate.Type, '\\n')\r\n",
        "\r\n",
        "test_data = np.array([[0,0],[0,1],[1,0],[1,1]])\r\n",
        "\r\n",
        "for input_data in test_data:\r\n",
        "  (sigmoid_val, logical_val) = NAND_Gate.predict(input_data)\r\n",
        "  print(input_data, '=', logical_val)\r\n"
      ],
      "execution_count": 13,
      "outputs": [
        {
          "output_type": "stream",
          "text": [
            "NAND_GATE \n",
            "\n",
            "[0 0] = 1\n",
            "[0 1] = 1\n",
            "[1 0] = 1\n",
            "[1 1] = 0\n"
          ],
          "name": "stdout"
        }
      ]
    },
    {
      "cell_type": "markdown",
      "metadata": {
        "id": "KRMXvznsV5ue"
      },
      "source": [
        "# III. XOR_Gate Issue"
      ]
    },
    {
      "cell_type": "code",
      "metadata": {
        "id": "DubTnOgqWBv6"
      },
      "source": [
        "X_input = np.array([[0,0],[0,1],[1,0],[1,1]])\r\n",
        "y_output = np.array([0,1,1,0])"
      ],
      "execution_count": 14,
      "outputs": []
    },
    {
      "cell_type": "code",
      "metadata": {
        "colab": {
          "base_uri": "https://localhost:8080/"
        },
        "id": "VtOUXTTMWJFS",
        "outputId": "f7c97e5d-8f81-4016-aa54-b399b66b1cea"
      },
      "source": [
        "XOR_Gate = LogicGate('XOR_GATE', X_input, y_output)\r\n",
        "XOR_Gate.learn()\r\n",
        "# 오차가 안떨어져. 학습이 안되는."
      ],
      "execution_count": 15,
      "outputs": [
        {
          "output_type": "stream",
          "text": [
            "Initial Cost =  3.3931905448252078\n",
            "Step =  0 Cost =  3.3782617017253327\n",
            "Step =  1000 Cost =  2.7734764827896337\n",
            "Step =  2000 Cost =  2.7725441622412696\n",
            "Step =  3000 Cost =  2.772510198836577\n",
            "Step =  4000 Cost =  2.772508785891973\n",
            "Step =  5000 Cost =  2.772508725726166\n",
            "Step =  6000 Cost =  2.772508723154656\n",
            "Step =  7000 Cost =  2.7725087230446848\n",
            "Step =  8000 Cost =  2.772508723039981\n",
            "Step =  9000 Cost =  2.77250872303978\n",
            "Step =  10000 Cost =  2.7725087230397714\n"
          ],
          "name": "stdout"
        }
      ]
    },
    {
      "cell_type": "code",
      "metadata": {
        "id": "cb57XgeUWP5e",
        "colab": {
          "base_uri": "https://localhost:8080/"
        },
        "outputId": "6b22a275-7814-4f6a-953b-4c9cb0dc1279"
      },
      "source": [
        "print(XOR_Gate.Type, '\\n')\r\n",
        "\r\n",
        "test_data = np.array([[0,0],[0,1],[1,0],[1,1]])\r\n",
        "\r\n",
        "for input_data in test_data:\r\n",
        "  (sigmoid_val, logical_val) = XOR_Gate.predict(input_data)\r\n",
        "  print(input_data, '=', logical_val)\r\n",
        "\r\n",
        "  # 결과가 이상하게 나오는. 제대로 학습된 게 아니라는."
      ],
      "execution_count": 16,
      "outputs": [
        {
          "output_type": "stream",
          "text": [
            "XOR_GATE \n",
            "\n",
            "[0 0] = 0\n",
            "[0 1] = 0\n",
            "[1 0] = 0\n",
            "[1 1] = 1\n"
          ],
          "name": "stdout"
        }
      ]
    },
    {
      "cell_type": "code",
      "metadata": {
        "id": "cwRBR72IWZqu"
      },
      "source": [
        "# 학습을 시키는 게 아니라, 이미 학습된 NAND, OR, AND를 가지고 쌓는 것\r\n",
        "input_data = np.array([[0,0],[0,1],[1,0],[1,1]])\r\n",
        "\r\n",
        "HL1_1 = []\r\n",
        "HL1_2 = []\r\n",
        "\r\n",
        "new_input_data = []\r\n",
        "final_output = []\r\n",
        "\r\n",
        "for index in range(len(input_data)):\r\n",
        "  HL1_1 = NAND_Gate.predict(input_data[index])\r\n",
        "  HL1_2 = OR_Gate.predict(input_data[index])\r\n",
        "\r\n",
        "  new_input_data.append(HL1_1[-1])\r\n",
        "  new_input_data.append(HL1_2[-1])\r\n",
        "\r\n",
        "  (sigmoid_val, logical_val) = AND_Gate.predict(np.array(new_input_data))\r\n",
        "\r\n",
        "  final_output.append(logical_val)\r\n",
        "  new_input_data = []"
      ],
      "execution_count": 19,
      "outputs": []
    },
    {
      "cell_type": "code",
      "metadata": {
        "colab": {
          "base_uri": "https://localhost:8080/"
        },
        "id": "2_AxfIwoXA5G",
        "outputId": "5b61dedd-85d2-4b6b-9c7c-28e9707bcaff"
      },
      "source": [
        "print(XOR_Gate.Type, '\\n')\r\n",
        "\r\n",
        "for index in range(len(input_data)):\r\n",
        "  print(input_data[index], '=', final_output[index])"
      ],
      "execution_count": 21,
      "outputs": [
        {
          "output_type": "stream",
          "text": [
            "XOR_GATE \n",
            "\n",
            "[0 0] = 0\n",
            "[0 1] = 1\n",
            "[1 0] = 1\n",
            "[1 1] = 0\n"
          ],
          "name": "stdout"
        }
      ]
    },
    {
      "cell_type": "code",
      "metadata": {
        "id": "qRjCy--3XEHs"
      },
      "source": [
        ""
      ],
      "execution_count": null,
      "outputs": []
    }
  ]
}