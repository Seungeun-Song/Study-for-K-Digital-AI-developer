{
  "nbformat": 4,
  "nbformat_minor": 0,
  "metadata": {
    "colab": {
      "name": "001_Multi_Layer_Perceptron_XOR.ipynb",
      "provenance": []
    },
    "kernelspec": {
      "name": "python3",
      "display_name": "Python 3"
    }
  },
  "cells": [
    {
      "cell_type": "code",
      "metadata": {
        "id": "GGvFIh0ZNn1C"
      },
      "source": [
        "import numpy as np"
      ],
      "execution_count": 1,
      "outputs": []
    },
    {
      "cell_type": "code",
      "metadata": {
        "id": "nCMO6a3POF1A"
      },
      "source": [
        "def gradient(machine, param):\r\n",
        "\r\n",
        "  if param.ndim == 1:\r\n",
        "    temp_param = param\r\n",
        "    delta = 0.00005\r\n",
        "    learned_param = np.zeros(param.shape)\r\n",
        "\r\n",
        "    for index in ramge(len(param)):\r\n",
        "      target_param = float(temp_param[index])\r\n",
        "      temp_param[index] = target_param + delta\r\n",
        "      param_plus_delta = machine(temp_param)\r\n",
        "      temp_param[index] = target_param - delta\r\n",
        "      param_minus_delta = machine(temp_param)\r\n",
        "      learned_param[index] = (param_plus_delta - param_minus_delta) / (2 * delta)\r\n",
        "      temp_param[index] = target_param\r\n",
        "\r\n",
        "      return learned_param\r\n",
        "\r\n",
        "  elif param.ndim == 2:\r\n",
        "      temp_param = param\r\n",
        "      delta = 0.00005\r\n",
        "      learned_param = np.zeros(param.shape)\r\n",
        "\r\n",
        "      rows = param.shape[0]\r\n",
        "      columns = param.shape[1]\r\n",
        "\r\n",
        "      for row in range(rows):\r\n",
        "        for column in range(columns):\r\n",
        "          target_param = float(temp_param[row, column])\r\n",
        "          temp_param[row, column] = target_param + delta\r\n",
        "          param_plus_delta = machine(temp_param)\r\n",
        "          temp_param[row, column] = target_param - param_minus_delta\r\n",
        "          param_minus_delta = machine(temp_param)\r\n",
        "          learned_param[row, column] = (param_plus_delta - param_minus_delta) / (2 * delta)\r\n",
        "          temp_param[row, column] = target_param\r\n",
        "\r\n",
        "      return learned_param"
      ],
      "execution_count": 12,
      "outputs": []
    },
    {
      "cell_type": "code",
      "metadata": {
        "id": "IxnuuLg7PFfC"
      },
      "source": [
        "import numpy as np\r\n",
        "\r\n",
        "def sigmoid(x):\r\n",
        "  y_hat = 1 / ( 1 + np.exp(-x))\r\n",
        "  return y_hat"
      ],
      "execution_count": 13,
      "outputs": []
    },
    {
      "cell_type": "code",
      "metadata": {
        "id": "mAXJP7hvRC0x"
      },
      "source": [
        "class LogicGate:\r\n",
        "\r\n",
        "  def __init__(self, gate_Type, X_input, y_output):\r\n",
        "\r\n",
        "    # gate_Type 문자열 지정 Member\r\n",
        "    self.Type = gate_Type\r\n",
        "\r\n",
        "    # X_input, y_output Member 초기화\r\n",
        "    self.X_input = X_input.reshape(4,2)\r\n",
        "    self.y_output = y_output.reshape(4,1)\r\n",
        "\r\n",
        "    # W, b Member 초기화\r\n",
        "    self.W = np.random.rand(2,1)\r\n",
        "    self.b = np.random.rand(1)\r\n",
        "\r\n",
        "    # learning_rate Member 지정\r\n",
        "    self.learning_rate = 0.01\r\n",
        "\r\n",
        "  # Cost_Function(CEE) Method\r\n",
        "  def cost_func(self):\r\n",
        "    z = np.dot(self.X_input, self.W) + self.b\r\n",
        "    y_hat = sigmoid(z)\r\n",
        "    delta = 0.00001\r\n",
        "    return -np.sum(self.y_output * np.log(y_hat + delta) + (1-self.y_output)* np.log((1- y_hat) + delta)) \r\n",
        "\r\n",
        "  # Learning Method\r\n",
        "  def learn(self):\r\n",
        "    machine = lambda x : self.cost_func()\r\n",
        "    print('Initial Cost = ', self.cost_func())\r\n",
        "\r\n",
        "    for step in range(10001):\r\n",
        "      self.W = self.W = self.learning_rate * gradient(machine, self.W)\r\n",
        "      self.b = self.b - self.learning_rate * gradient(machine, self.b)\r\n",
        "\r\n",
        "      if (step % 1000 == 0):\r\n",
        "        print('Step = ', setp, 'Cost = ', self.cost_func())\r\n",
        "\r\n",
        "  # Predict Method\r\n",
        "  def predict(self, input_data):\r\n",
        "\r\n",
        "    z = np.dot(input_data, self.W) + self.b\r\n",
        "    y_prob = sigmoid(z)\r\n",
        "\r\n",
        "    if y_prob > 0.5:\r\n",
        "      result = 1\r\n",
        "    else:\r\n",
        "      result = 0\r\n",
        "\r\n",
        "    return y_prob, result"
      ],
      "execution_count": 36,
      "outputs": []
    },
    {
      "cell_type": "markdown",
      "metadata": {
        "id": "OrsuafuWTK_w"
      },
      "source": [
        "## 3) And_Gate"
      ]
    },
    {
      "cell_type": "code",
      "metadata": {
        "id": "_0A5DhCjTJkr"
      },
      "source": [
        "X_input = np.array([[0,0],[0,1],[1,0],[1,1]])\r\n",
        "y_output = np.array([0,0,0,1])"
      ],
      "execution_count": 21,
      "outputs": []
    },
    {
      "cell_type": "code",
      "metadata": {
        "colab": {
          "base_uri": "https://localhost:8080/",
          "height": 350
        },
        "id": "a7Do-I-_TVOl",
        "outputId": "33c3db91-d4b3-4131-ff28-0381f877dd90"
      },
      "source": [
        "AND_Gate = LogicGate('AND_GATE', X_input, y_output)\r\n",
        "AND_Gate.learn()"
      ],
      "execution_count": 37,
      "outputs": [
        {
          "output_type": "stream",
          "text": [
            "Initial Cost =  3.071209384425469\n"
          ],
          "name": "stdout"
        },
        {
          "output_type": "error",
          "ename": "UnboundLocalError",
          "evalue": "ignored",
          "traceback": [
            "\u001b[0;31m---------------------------------------------------------------------------\u001b[0m",
            "\u001b[0;31mUnboundLocalError\u001b[0m                         Traceback (most recent call last)",
            "\u001b[0;32m<ipython-input-37-0e61514fad8c>\u001b[0m in \u001b[0;36m<module>\u001b[0;34m()\u001b[0m\n\u001b[1;32m      1\u001b[0m \u001b[0mAND_Gate\u001b[0m \u001b[0;34m=\u001b[0m \u001b[0mLogicGate\u001b[0m\u001b[0;34m(\u001b[0m\u001b[0;34m'AND_GATE'\u001b[0m\u001b[0;34m,\u001b[0m \u001b[0mX_input\u001b[0m\u001b[0;34m,\u001b[0m \u001b[0my_output\u001b[0m\u001b[0;34m)\u001b[0m\u001b[0;34m\u001b[0m\u001b[0;34m\u001b[0m\u001b[0m\n\u001b[0;32m----> 2\u001b[0;31m \u001b[0mAND_Gate\u001b[0m\u001b[0;34m.\u001b[0m\u001b[0mlearn\u001b[0m\u001b[0;34m(\u001b[0m\u001b[0;34m)\u001b[0m\u001b[0;34m\u001b[0m\u001b[0;34m\u001b[0m\u001b[0m\n\u001b[0m",
            "\u001b[0;32m<ipython-input-36-f7a1e22cd7b0>\u001b[0m in \u001b[0;36mlearn\u001b[0;34m(self)\u001b[0m\n\u001b[1;32m     30\u001b[0m \u001b[0;34m\u001b[0m\u001b[0m\n\u001b[1;32m     31\u001b[0m     \u001b[0;32mfor\u001b[0m \u001b[0mstep\u001b[0m \u001b[0;32min\u001b[0m \u001b[0mrange\u001b[0m\u001b[0;34m(\u001b[0m\u001b[0;36m10001\u001b[0m\u001b[0;34m)\u001b[0m\u001b[0;34m:\u001b[0m\u001b[0;34m\u001b[0m\u001b[0;34m\u001b[0m\u001b[0m\n\u001b[0;32m---> 32\u001b[0;31m       \u001b[0mself\u001b[0m\u001b[0;34m.\u001b[0m\u001b[0mW\u001b[0m \u001b[0;34m=\u001b[0m \u001b[0mself\u001b[0m\u001b[0;34m.\u001b[0m\u001b[0mW\u001b[0m \u001b[0;34m=\u001b[0m \u001b[0mself\u001b[0m\u001b[0;34m.\u001b[0m\u001b[0mlearning_rate\u001b[0m \u001b[0;34m*\u001b[0m \u001b[0mgradient\u001b[0m\u001b[0;34m(\u001b[0m\u001b[0mmachine\u001b[0m\u001b[0;34m,\u001b[0m \u001b[0mself\u001b[0m\u001b[0;34m.\u001b[0m\u001b[0mW\u001b[0m\u001b[0;34m)\u001b[0m\u001b[0;34m\u001b[0m\u001b[0;34m\u001b[0m\u001b[0m\n\u001b[0m\u001b[1;32m     33\u001b[0m       \u001b[0mself\u001b[0m\u001b[0;34m.\u001b[0m\u001b[0mb\u001b[0m \u001b[0;34m=\u001b[0m \u001b[0mself\u001b[0m\u001b[0;34m.\u001b[0m\u001b[0mb\u001b[0m \u001b[0;34m-\u001b[0m \u001b[0mself\u001b[0m\u001b[0;34m.\u001b[0m\u001b[0mlearning_rate\u001b[0m \u001b[0;34m*\u001b[0m \u001b[0mgradient\u001b[0m\u001b[0;34m(\u001b[0m\u001b[0mmachine\u001b[0m\u001b[0;34m,\u001b[0m \u001b[0mself\u001b[0m\u001b[0;34m.\u001b[0m\u001b[0mb\u001b[0m\u001b[0;34m)\u001b[0m\u001b[0;34m\u001b[0m\u001b[0;34m\u001b[0m\u001b[0m\n\u001b[1;32m     34\u001b[0m \u001b[0;34m\u001b[0m\u001b[0m\n",
            "\u001b[0;32m<ipython-input-12-24462dbeabad>\u001b[0m in \u001b[0;36mgradient\u001b[0;34m(machine, param)\u001b[0m\n\u001b[1;32m     30\u001b[0m           \u001b[0mtemp_param\u001b[0m\u001b[0;34m[\u001b[0m\u001b[0mrow\u001b[0m\u001b[0;34m,\u001b[0m \u001b[0mcolumn\u001b[0m\u001b[0;34m]\u001b[0m \u001b[0;34m=\u001b[0m \u001b[0mtarget_param\u001b[0m \u001b[0;34m+\u001b[0m \u001b[0mdelta\u001b[0m\u001b[0;34m\u001b[0m\u001b[0;34m\u001b[0m\u001b[0m\n\u001b[1;32m     31\u001b[0m           \u001b[0mparam_plus_delta\u001b[0m \u001b[0;34m=\u001b[0m \u001b[0mmachine\u001b[0m\u001b[0;34m(\u001b[0m\u001b[0mtemp_param\u001b[0m\u001b[0;34m)\u001b[0m\u001b[0;34m\u001b[0m\u001b[0;34m\u001b[0m\u001b[0m\n\u001b[0;32m---> 32\u001b[0;31m           \u001b[0mtemp_param\u001b[0m\u001b[0;34m[\u001b[0m\u001b[0mrow\u001b[0m\u001b[0;34m,\u001b[0m \u001b[0mcolumn\u001b[0m\u001b[0;34m]\u001b[0m \u001b[0;34m=\u001b[0m \u001b[0mtarget_param\u001b[0m \u001b[0;34m-\u001b[0m \u001b[0mparam_minus_delta\u001b[0m\u001b[0;34m\u001b[0m\u001b[0;34m\u001b[0m\u001b[0m\n\u001b[0m\u001b[1;32m     33\u001b[0m           \u001b[0mparam_minus_delta\u001b[0m \u001b[0;34m=\u001b[0m \u001b[0mmachine\u001b[0m\u001b[0;34m(\u001b[0m\u001b[0mtemp_param\u001b[0m\u001b[0;34m)\u001b[0m\u001b[0;34m\u001b[0m\u001b[0;34m\u001b[0m\u001b[0m\n\u001b[1;32m     34\u001b[0m           \u001b[0mlearned_param\u001b[0m\u001b[0;34m[\u001b[0m\u001b[0mrow\u001b[0m\u001b[0;34m,\u001b[0m \u001b[0mcolumn\u001b[0m\u001b[0;34m]\u001b[0m \u001b[0;34m=\u001b[0m \u001b[0;34m(\u001b[0m\u001b[0mparam_plus_delta\u001b[0m \u001b[0;34m-\u001b[0m \u001b[0mparam_minus_delta\u001b[0m\u001b[0;34m)\u001b[0m \u001b[0;34m/\u001b[0m \u001b[0;34m(\u001b[0m\u001b[0;36m2\u001b[0m \u001b[0;34m*\u001b[0m \u001b[0mdelta\u001b[0m\u001b[0;34m)\u001b[0m\u001b[0;34m\u001b[0m\u001b[0;34m\u001b[0m\u001b[0m\n",
            "\u001b[0;31mUnboundLocalError\u001b[0m: local variable 'param_minus_delta' referenced before assignment"
          ]
        }
      ]
    },
    {
      "cell_type": "code",
      "metadata": {
        "colab": {
          "base_uri": "https://localhost:8080/",
          "height": 256
        },
        "id": "KNZgTKnFTvbY",
        "outputId": "f2ad2567-ca6d-497a-e360-f05bd2eac59a"
      },
      "source": [
        "print(AND_Gate.Type, '\\n')\r\n",
        "\r\n",
        "test_data= np.array([[0,0],[0,1],[1,0],[1,1]])\r\n",
        "\r\n",
        "for input_data in test_data:\r\n",
        "  (signoid_val, logical_val) = AND_Gate.predict(input_data)\r\n",
        "  print(inpit_data, '=', logical_val)"
      ],
      "execution_count": 25,
      "outputs": [
        {
          "output_type": "stream",
          "text": [
            "AND_GATE \n",
            "\n"
          ],
          "name": "stdout"
        },
        {
          "output_type": "error",
          "ename": "AttributeError",
          "evalue": "ignored",
          "traceback": [
            "\u001b[0;31m---------------------------------------------------------------------------\u001b[0m",
            "\u001b[0;31mAttributeError\u001b[0m                            Traceback (most recent call last)",
            "\u001b[0;32m<ipython-input-25-a9849a9a9e80>\u001b[0m in \u001b[0;36m<module>\u001b[0;34m()\u001b[0m\n\u001b[1;32m      4\u001b[0m \u001b[0;34m\u001b[0m\u001b[0m\n\u001b[1;32m      5\u001b[0m \u001b[0;32mfor\u001b[0m \u001b[0minput_data\u001b[0m \u001b[0;32min\u001b[0m \u001b[0mtest_data\u001b[0m\u001b[0;34m:\u001b[0m\u001b[0;34m\u001b[0m\u001b[0;34m\u001b[0m\u001b[0m\n\u001b[0;32m----> 6\u001b[0;31m   \u001b[0;34m(\u001b[0m\u001b[0msignoid_val\u001b[0m\u001b[0;34m,\u001b[0m \u001b[0mlogical_val\u001b[0m\u001b[0;34m)\u001b[0m \u001b[0;34m=\u001b[0m \u001b[0mAND_Gate\u001b[0m\u001b[0;34m.\u001b[0m\u001b[0mpredict\u001b[0m\u001b[0;34m(\u001b[0m\u001b[0minput_data\u001b[0m\u001b[0;34m)\u001b[0m\u001b[0;34m\u001b[0m\u001b[0;34m\u001b[0m\u001b[0m\n\u001b[0m\u001b[1;32m      7\u001b[0m   \u001b[0mprint\u001b[0m\u001b[0;34m(\u001b[0m\u001b[0minpit_data\u001b[0m\u001b[0;34m,\u001b[0m \u001b[0;34m'='\u001b[0m\u001b[0;34m,\u001b[0m \u001b[0mlogical_val\u001b[0m\u001b[0;34m)\u001b[0m\u001b[0;34m\u001b[0m\u001b[0;34m\u001b[0m\u001b[0m\n",
            "\u001b[0;31mAttributeError\u001b[0m: 'LogicGate' object has no attribute 'predict'"
          ]
        }
      ]
    },
    {
      "cell_type": "code",
      "metadata": {
        "id": "oSbF7wgyU1HQ"
      },
      "source": [
        "X_input = np.array([[0,0],[0,1],[1,0],[1,1]])\r\n",
        "y_output = np.array([0,1,1,1])"
      ],
      "execution_count": 26,
      "outputs": []
    },
    {
      "cell_type": "code",
      "metadata": {
        "colab": {
          "base_uri": "https://localhost:8080/",
          "height": 186
        },
        "id": "KIidyzjrU-GG",
        "outputId": "3ba6fdf0-5b42-4ec6-cfcd-4d6fc6d9a7a5"
      },
      "source": [
        "OR_Gate = LogicGate('OR_CATE', X_input, y_output)\r\n",
        "OR_Gate.learn()"
      ],
      "execution_count": 27,
      "outputs": [
        {
          "output_type": "error",
          "ename": "AttributeError",
          "evalue": "ignored",
          "traceback": [
            "\u001b[0;31m---------------------------------------------------------------------------\u001b[0m",
            "\u001b[0;31mAttributeError\u001b[0m                            Traceback (most recent call last)",
            "\u001b[0;32m<ipython-input-27-8d6be7d45e58>\u001b[0m in \u001b[0;36m<module>\u001b[0;34m()\u001b[0m\n\u001b[1;32m      1\u001b[0m \u001b[0mOR_Gate\u001b[0m \u001b[0;34m=\u001b[0m \u001b[0mLogicGate\u001b[0m\u001b[0;34m(\u001b[0m\u001b[0;34m'OR_CATE'\u001b[0m\u001b[0;34m,\u001b[0m \u001b[0mX_input\u001b[0m\u001b[0;34m,\u001b[0m \u001b[0my_output\u001b[0m\u001b[0;34m)\u001b[0m\u001b[0;34m\u001b[0m\u001b[0;34m\u001b[0m\u001b[0m\n\u001b[0;32m----> 2\u001b[0;31m \u001b[0mOR_Gate\u001b[0m\u001b[0;34m.\u001b[0m\u001b[0mlearn\u001b[0m\u001b[0;34m(\u001b[0m\u001b[0;34m)\u001b[0m\u001b[0;34m\u001b[0m\u001b[0;34m\u001b[0m\u001b[0m\n\u001b[0m",
            "\u001b[0;31mAttributeError\u001b[0m: 'LogicGate' object has no attribute 'learn'"
          ]
        }
      ]
    },
    {
      "cell_type": "code",
      "metadata": {
        "colab": {
          "base_uri": "https://localhost:8080/",
          "height": 256
        },
        "id": "6EVAOmCFVDwV",
        "outputId": "e6dcda5f-6845-45c2-b1c8-36e1faf5709c"
      },
      "source": [
        "print(OR_Gate.Type, '\\n')\r\n",
        "\r\n",
        "test_data = np.array([[0,0],[0,1],[1,0],[1,1]])\r\n",
        "\r\n",
        "for input_data in test_data:\r\n",
        "  (sigmoid_val, logical_val) = OR_Gate.predict(input_data)\r\n",
        "  print(input_data, '=', logical_val)\r\n"
      ],
      "execution_count": 28,
      "outputs": [
        {
          "output_type": "stream",
          "text": [
            "OR_CATE \n",
            "\n"
          ],
          "name": "stdout"
        },
        {
          "output_type": "error",
          "ename": "AttributeError",
          "evalue": "ignored",
          "traceback": [
            "\u001b[0;31m---------------------------------------------------------------------------\u001b[0m",
            "\u001b[0;31mAttributeError\u001b[0m                            Traceback (most recent call last)",
            "\u001b[0;32m<ipython-input-28-3426c6f60a5c>\u001b[0m in \u001b[0;36m<module>\u001b[0;34m()\u001b[0m\n\u001b[1;32m      4\u001b[0m \u001b[0;34m\u001b[0m\u001b[0m\n\u001b[1;32m      5\u001b[0m \u001b[0;32mfor\u001b[0m \u001b[0minput_data\u001b[0m \u001b[0;32min\u001b[0m \u001b[0mtest_data\u001b[0m\u001b[0;34m:\u001b[0m\u001b[0;34m\u001b[0m\u001b[0;34m\u001b[0m\u001b[0m\n\u001b[0;32m----> 6\u001b[0;31m   \u001b[0;34m(\u001b[0m\u001b[0msigmoid_val\u001b[0m\u001b[0;34m,\u001b[0m \u001b[0mlogical_val\u001b[0m\u001b[0;34m)\u001b[0m \u001b[0;34m=\u001b[0m \u001b[0mOR_Gate\u001b[0m\u001b[0;34m.\u001b[0m\u001b[0mpredict\u001b[0m\u001b[0;34m(\u001b[0m\u001b[0minput_data\u001b[0m\u001b[0;34m)\u001b[0m\u001b[0;34m\u001b[0m\u001b[0;34m\u001b[0m\u001b[0m\n\u001b[0m\u001b[1;32m      7\u001b[0m   \u001b[0mprint\u001b[0m\u001b[0;34m(\u001b[0m\u001b[0minput_data\u001b[0m\u001b[0;34m,\u001b[0m \u001b[0;34m'='\u001b[0m\u001b[0;34m,\u001b[0m \u001b[0mlogical_val\u001b[0m\u001b[0;34m)\u001b[0m\u001b[0;34m\u001b[0m\u001b[0;34m\u001b[0m\u001b[0m\n",
            "\u001b[0;31mAttributeError\u001b[0m: 'LogicGate' object has no attribute 'predict'"
          ]
        }
      ]
    },
    {
      "cell_type": "markdown",
      "metadata": {
        "id": "6ncGDqYuVYMG"
      },
      "source": [
        "## 5) NAND_Gate"
      ]
    },
    {
      "cell_type": "code",
      "metadata": {
        "id": "IXQEEPvSVWZm"
      },
      "source": [
        "X_input = np.array([[0,0],[0,1],[1,0],[1,1]])\r\n",
        "y_output = np.array([1,1,1,0])"
      ],
      "execution_count": 29,
      "outputs": []
    },
    {
      "cell_type": "code",
      "metadata": {
        "colab": {
          "base_uri": "https://localhost:8080/",
          "height": 186
        },
        "id": "IbUSvBDcVhpg",
        "outputId": "894de155-1b14-42cb-8405-aa88a2df101d"
      },
      "source": [
        "NAND_Gate = LogicGate('NAND_GATE', X_input, y_output)\r\n",
        "NAND_Gate.learn()"
      ],
      "execution_count": 30,
      "outputs": [
        {
          "output_type": "error",
          "ename": "AttributeError",
          "evalue": "ignored",
          "traceback": [
            "\u001b[0;31m---------------------------------------------------------------------------\u001b[0m",
            "\u001b[0;31mAttributeError\u001b[0m                            Traceback (most recent call last)",
            "\u001b[0;32m<ipython-input-30-af19956ea8ad>\u001b[0m in \u001b[0;36m<module>\u001b[0;34m()\u001b[0m\n\u001b[1;32m      1\u001b[0m \u001b[0mNAND_Gate\u001b[0m \u001b[0;34m=\u001b[0m \u001b[0mLogicGate\u001b[0m\u001b[0;34m(\u001b[0m\u001b[0;34m'NAND_GATE'\u001b[0m\u001b[0;34m,\u001b[0m \u001b[0mX_input\u001b[0m\u001b[0;34m,\u001b[0m \u001b[0my_output\u001b[0m\u001b[0;34m)\u001b[0m\u001b[0;34m\u001b[0m\u001b[0;34m\u001b[0m\u001b[0m\n\u001b[0;32m----> 2\u001b[0;31m \u001b[0mNAND_Gate\u001b[0m\u001b[0;34m.\u001b[0m\u001b[0mlearn\u001b[0m\u001b[0;34m(\u001b[0m\u001b[0;34m)\u001b[0m\u001b[0;34m\u001b[0m\u001b[0;34m\u001b[0m\u001b[0m\n\u001b[0m",
            "\u001b[0;31mAttributeError\u001b[0m: 'LogicGate' object has no attribute 'learn'"
          ]
        }
      ]
    },
    {
      "cell_type": "code",
      "metadata": {
        "id": "9X_wgq6DVpLJ"
      },
      "source": [
        "print(NAND_Gate.Type, '\\n')\r\n",
        "\r\n",
        "test_data = np.array([[0,0],[0,1],[1,0],[1,1]])\r\n",
        "\r\n",
        "for input_data in test_data:\r\n",
        "  (sigmoid_val, logical_val) = NAND_Gate.predict(input_data)\r\n",
        "  print(input_data, '=', logical_val)\r\n"
      ],
      "execution_count": null,
      "outputs": []
    },
    {
      "cell_type": "markdown",
      "metadata": {
        "id": "KRMXvznsV5ue"
      },
      "source": [
        "# III. XOR_Gate Issue"
      ]
    },
    {
      "cell_type": "code",
      "metadata": {
        "id": "DubTnOgqWBv6"
      },
      "source": [
        "X_input = np.array([[0,0],[0,1],[1,0],[1,1]])\r\n",
        "y_output = np.array([0,1,1,0])"
      ],
      "execution_count": 31,
      "outputs": []
    },
    {
      "cell_type": "code",
      "metadata": {
        "colab": {
          "base_uri": "https://localhost:8080/",
          "height": 186
        },
        "id": "VtOUXTTMWJFS",
        "outputId": "d71fb127-e99c-4dc1-b301-6bb4c0c3acbb"
      },
      "source": [
        "XOR_Gate = LogicGate('XOR_GATE', X_input, y_output)\r\n",
        "XOR_Gate.learn()"
      ],
      "execution_count": 32,
      "outputs": [
        {
          "output_type": "error",
          "ename": "AttributeError",
          "evalue": "ignored",
          "traceback": [
            "\u001b[0;31m---------------------------------------------------------------------------\u001b[0m",
            "\u001b[0;31mAttributeError\u001b[0m                            Traceback (most recent call last)",
            "\u001b[0;32m<ipython-input-32-4ac72c86169a>\u001b[0m in \u001b[0;36m<module>\u001b[0;34m()\u001b[0m\n\u001b[1;32m      1\u001b[0m \u001b[0mXOR_Gate\u001b[0m \u001b[0;34m=\u001b[0m \u001b[0mLogicGate\u001b[0m\u001b[0;34m(\u001b[0m\u001b[0;34m'XOR_GATE'\u001b[0m\u001b[0;34m,\u001b[0m \u001b[0mX_input\u001b[0m\u001b[0;34m,\u001b[0m \u001b[0my_output\u001b[0m\u001b[0;34m)\u001b[0m\u001b[0;34m\u001b[0m\u001b[0;34m\u001b[0m\u001b[0m\n\u001b[0;32m----> 2\u001b[0;31m \u001b[0mXOR_Gate\u001b[0m\u001b[0;34m.\u001b[0m\u001b[0mlearn\u001b[0m\u001b[0;34m(\u001b[0m\u001b[0;34m)\u001b[0m\u001b[0;34m\u001b[0m\u001b[0;34m\u001b[0m\u001b[0m\n\u001b[0m",
            "\u001b[0;31mAttributeError\u001b[0m: 'LogicGate' object has no attribute 'learn'"
          ]
        }
      ]
    },
    {
      "cell_type": "code",
      "metadata": {
        "id": "cb57XgeUWP5e"
      },
      "source": [
        "print(XOR_Gate.Type, '\\n')\r\n",
        "\r\n",
        "test_data = np.array([[0,0],[0,1],[1,0],[1,1]])\r\n",
        "\r\n",
        "for input_data in test_data:\r\n",
        "  (sigmoid_val, logical_val) = XOR_Gate.predict(input_data)\r\n",
        "  print(input_data, '=', logical_val)"
      ],
      "execution_count": null,
      "outputs": []
    },
    {
      "cell_type": "code",
      "metadata": {
        "id": "cwRBR72IWZqu"
      },
      "source": [
        "input_data = np.array([[0,0],[0,1],[1,0],[1,1]])\r\n",
        "\r\n",
        "HL1_1 = []\r\n",
        "HL1_2 = []\r\n",
        "\r\n",
        "new_input_data = []\r\n",
        "final_output = []\r\n",
        "\r\n",
        "for index in range(len(input_data)):\r\n",
        "  HL1_1 = NAND_Gate.predict(inpit_data[index])\r\n",
        "  HL1_2 = OR_Gate.predict(inpit_data[index])\r\n",
        "\r\n",
        "  new_input_data.append(HL1_1[-1])\r\n",
        "  new_input_data.append(HL1_2[-1])\r\n",
        "\r\n",
        "  (sigmoid_val, logical_val) = AND_Gate.predict(np.array(new_input_data))\r\n",
        "\r\n",
        "  final_output.append(logical_val)\r\n",
        "  new_inpit_data = []"
      ],
      "execution_count": null,
      "outputs": []
    },
    {
      "cell_type": "code",
      "metadata": {
        "colab": {
          "base_uri": "https://localhost:8080/"
        },
        "id": "2_AxfIwoXA5G",
        "outputId": "a8eeaf8e-7163-4953-aae4-bd99da457be5"
      },
      "source": [
        "print(XOR_Gate.Type, '\\n')\r\n",
        "\r\n",
        "for index in range(len(input_data)):\r\n",
        "  print(input_data[index], '-', final_output[index])"
      ],
      "execution_count": 33,
      "outputs": [
        {
          "output_type": "stream",
          "text": [
            "XOR_GATE \n",
            "\n"
          ],
          "name": "stdout"
        }
      ]
    },
    {
      "cell_type": "code",
      "metadata": {
        "id": "qRjCy--3XEHs"
      },
      "source": [
        ""
      ],
      "execution_count": null,
      "outputs": []
    }
  ]
}