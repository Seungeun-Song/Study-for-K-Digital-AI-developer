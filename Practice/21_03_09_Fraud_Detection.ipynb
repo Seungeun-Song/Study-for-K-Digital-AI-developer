{
  "nbformat": 4,
  "nbformat_minor": 0,
  "metadata": {
    "colab": {
      "name": "Fraud_Detection_송승은.ipynb",
      "provenance": [],
      "toc_visible": true
    },
    "kernelspec": {
      "name": "python3",
      "display_name": "Python 3"
    }
  },
  "cells": [
    {
      "cell_type": "markdown",
      "metadata": {
        "id": "GsyE-JKeKrYC"
      },
      "source": [
        "# Kaggle 신용카드 사기 검출 - 분류 모델링 수행(recall)"
      ]
    },
    {
      "cell_type": "markdown",
      "metadata": {
        "id": "RG1MOoL7KwXo"
      },
      "source": [
        "# 1, Google Drive Mount"
      ]
    },
    {
      "cell_type": "code",
      "metadata": {
        "colab": {
          "base_uri": "https://localhost:8080/"
        },
        "id": "Qz3jpUHZJ5-l",
        "outputId": "dd8cbe51-bae7-4940-a926-38acefc49c51"
      },
      "source": [
        "from google.colab import drive\r\n",
        "drive.mount('/content/drive')"
      ],
      "execution_count": null,
      "outputs": [
        {
          "output_type": "stream",
          "text": [
            "Drive already mounted at /content/drive; to attempt to forcibly remount, call drive.mount(\"/content/drive\", force_remount=True).\n"
          ],
          "name": "stdout"
        }
      ]
    },
    {
      "cell_type": "code",
      "metadata": {
        "colab": {
          "base_uri": "https://localhost:8080/"
        },
        "id": "olWFOqwmKEoT",
        "outputId": "e0130539-465b-4431-a2b3-da4eea7872a2"
      },
      "source": [
        "# /content/drive/My Drive/ = 구글 드라이브(내 드라이브) 경로\r\n",
        "\r\n",
        "!ls -l '/content/drive/My Drive/Colab Notebooks/datasets/creditCardFraud.zip'"
      ],
      "execution_count": null,
      "outputs": [
        {
          "output_type": "stream",
          "text": [
            "-rw------- 1 root root 69155672 Mar  9 02:39 '/content/drive/My Drive/Colab Notebooks/datasets/creditCardFraud.zip'\n"
          ],
          "name": "stdout"
        }
      ]
    },
    {
      "cell_type": "markdown",
      "metadata": {
        "id": "61shhDWkK0FF"
      },
      "source": [
        "# 2, Data Preprocessing"
      ]
    },
    {
      "cell_type": "markdown",
      "metadata": {
        "id": "FfkFcswWK9Dp"
      },
      "source": [
        "## 1) Unzip 'creditCardFraud.zip'"
      ]
    },
    {
      "cell_type": "code",
      "metadata": {
        "colab": {
          "base_uri": "https://localhost:8080/"
        },
        "id": "l7tC8DTwKRpS",
        "outputId": "b445bd7c-eec1-4149-ff65-5dec329a732c"
      },
      "source": [
        "# !unzip /content/drive/My\\ Drive/Colab\\ Notebooks/datasets/creditCardFraud.zip"
      ],
      "execution_count": null,
      "outputs": [
        {
          "output_type": "stream",
          "text": [
            "Archive:  /content/drive/My Drive/Colab Notebooks/datasets/creditCardFraud.zip\n",
            "replace creditcard.csv? [y]es, [n]o, [A]ll, [N]one, [r]ename: "
          ],
          "name": "stdout"
        }
      ]
    },
    {
      "cell_type": "code",
      "metadata": {
        "colab": {
          "base_uri": "https://localhost:8080/"
        },
        "id": "F9F2pKcKKbRq",
        "outputId": "cdc5e55e-c58f-4957-8fdc-b98925773e45"
      },
      "source": [
        "!ls -l"
      ],
      "execution_count": null,
      "outputs": [
        {
          "output_type": "stream",
          "text": [
            "total 147304\n",
            "-rw-r--r-- 1 root root 150828752 Sep 20  2019 creditcard.csv\n",
            "drwx------ 5 root root      4096 Mar  9 04:22 drive\n",
            "drwxr-xr-x 1 root root      4096 Mar  5 14:37 sample_data\n"
          ],
          "name": "stdout"
        }
      ]
    },
    {
      "cell_type": "markdown",
      "metadata": {
        "id": "ZTdy-aNIK5tA"
      },
      "source": [
        "## 2) 데이터 읽어오기"
      ]
    },
    {
      "cell_type": "code",
      "metadata": {
        "id": "N1fl9cxujqxD"
      },
      "source": [
        "import numpy as np\r\n",
        "from sklearn.ensemble import RandomForestClassifier\r\n",
        "from sklearn.metrics import accuracy_score, recall_score\r\n",
        "from lightgbm import LGBMClassifier\r\n",
        "import seaborn as sns\r\n",
        "import matplotlib.pyplot as plt\r\n",
        "\r\n"
      ],
      "execution_count": null,
      "outputs": []
    },
    {
      "cell_type": "code",
      "metadata": {
        "colab": {
          "base_uri": "https://localhost:8080/"
        },
        "id": "jnRczId5Khsw",
        "outputId": "a47c6c64-6510-4cf1-e648-90a049301b2c"
      },
      "source": [
        "%%time\r\n",
        "import pandas as pd\r\n",
        "\r\n",
        "DF = pd.read_csv('creditcard.csv')\r\n",
        "DF.info()"
      ],
      "execution_count": null,
      "outputs": [
        {
          "output_type": "stream",
          "text": [
            "<class 'pandas.core.frame.DataFrame'>\n",
            "RangeIndex: 284807 entries, 0 to 284806\n",
            "Data columns (total 31 columns):\n",
            " #   Column  Non-Null Count   Dtype  \n",
            "---  ------  --------------   -----  \n",
            " 0   Time    284807 non-null  float64\n",
            " 1   V1      284807 non-null  float64\n",
            " 2   V2      284807 non-null  float64\n",
            " 3   V3      284807 non-null  float64\n",
            " 4   V4      284807 non-null  float64\n",
            " 5   V5      284807 non-null  float64\n",
            " 6   V6      284807 non-null  float64\n",
            " 7   V7      284807 non-null  float64\n",
            " 8   V8      284807 non-null  float64\n",
            " 9   V9      284807 non-null  float64\n",
            " 10  V10     284807 non-null  float64\n",
            " 11  V11     284807 non-null  float64\n",
            " 12  V12     284807 non-null  float64\n",
            " 13  V13     284807 non-null  float64\n",
            " 14  V14     284807 non-null  float64\n",
            " 15  V15     284807 non-null  float64\n",
            " 16  V16     284807 non-null  float64\n",
            " 17  V17     284807 non-null  float64\n",
            " 18  V18     284807 non-null  float64\n",
            " 19  V19     284807 non-null  float64\n",
            " 20  V20     284807 non-null  float64\n",
            " 21  V21     284807 non-null  float64\n",
            " 22  V22     284807 non-null  float64\n",
            " 23  V23     284807 non-null  float64\n",
            " 24  V24     284807 non-null  float64\n",
            " 25  V25     284807 non-null  float64\n",
            " 26  V26     284807 non-null  float64\n",
            " 27  V27     284807 non-null  float64\n",
            " 28  V28     284807 non-null  float64\n",
            " 29  Amount  284807 non-null  float64\n",
            " 30  Class   284807 non-null  int64  \n",
            "dtypes: float64(30), int64(1)\n",
            "memory usage: 67.4 MB\n",
            "CPU times: user 2.38 s, sys: 142 ms, total: 2.52 s\n",
            "Wall time: 2.53 s\n"
          ],
          "name": "stdout"
        }
      ]
    },
    {
      "cell_type": "markdown",
      "metadata": {
        "id": "5r3VooUvSwBA"
      },
      "source": [
        "### Class - 0(정상) / 1(사기)"
      ]
    },
    {
      "cell_type": "code",
      "metadata": {
        "colab": {
          "base_uri": "https://localhost:8080/",
          "height": 218
        },
        "id": "cUvi0pqWKp_X",
        "outputId": "31148460-2960-4fdb-bccc-7f97353b61ef"
      },
      "source": [
        "DF.head()"
      ],
      "execution_count": null,
      "outputs": [
        {
          "output_type": "execute_result",
          "data": {
            "text/html": [
              "<div>\n",
              "<style scoped>\n",
              "    .dataframe tbody tr th:only-of-type {\n",
              "        vertical-align: middle;\n",
              "    }\n",
              "\n",
              "    .dataframe tbody tr th {\n",
              "        vertical-align: top;\n",
              "    }\n",
              "\n",
              "    .dataframe thead th {\n",
              "        text-align: right;\n",
              "    }\n",
              "</style>\n",
              "<table border=\"1\" class=\"dataframe\">\n",
              "  <thead>\n",
              "    <tr style=\"text-align: right;\">\n",
              "      <th></th>\n",
              "      <th>Time</th>\n",
              "      <th>V1</th>\n",
              "      <th>V2</th>\n",
              "      <th>V3</th>\n",
              "      <th>V4</th>\n",
              "      <th>V5</th>\n",
              "      <th>V6</th>\n",
              "      <th>V7</th>\n",
              "      <th>V8</th>\n",
              "      <th>V9</th>\n",
              "      <th>V10</th>\n",
              "      <th>V11</th>\n",
              "      <th>V12</th>\n",
              "      <th>V13</th>\n",
              "      <th>V14</th>\n",
              "      <th>V15</th>\n",
              "      <th>V16</th>\n",
              "      <th>V17</th>\n",
              "      <th>V18</th>\n",
              "      <th>V19</th>\n",
              "      <th>V20</th>\n",
              "      <th>V21</th>\n",
              "      <th>V22</th>\n",
              "      <th>V23</th>\n",
              "      <th>V24</th>\n",
              "      <th>V25</th>\n",
              "      <th>V26</th>\n",
              "      <th>V27</th>\n",
              "      <th>V28</th>\n",
              "      <th>Amount</th>\n",
              "      <th>Class</th>\n",
              "    </tr>\n",
              "  </thead>\n",
              "  <tbody>\n",
              "    <tr>\n",
              "      <th>0</th>\n",
              "      <td>0.0</td>\n",
              "      <td>-1.359807</td>\n",
              "      <td>-0.072781</td>\n",
              "      <td>2.536347</td>\n",
              "      <td>1.378155</td>\n",
              "      <td>-0.338321</td>\n",
              "      <td>0.462388</td>\n",
              "      <td>0.239599</td>\n",
              "      <td>0.098698</td>\n",
              "      <td>0.363787</td>\n",
              "      <td>0.090794</td>\n",
              "      <td>-0.551600</td>\n",
              "      <td>-0.617801</td>\n",
              "      <td>-0.991390</td>\n",
              "      <td>-0.311169</td>\n",
              "      <td>1.468177</td>\n",
              "      <td>-0.470401</td>\n",
              "      <td>0.207971</td>\n",
              "      <td>0.025791</td>\n",
              "      <td>0.403993</td>\n",
              "      <td>0.251412</td>\n",
              "      <td>-0.018307</td>\n",
              "      <td>0.277838</td>\n",
              "      <td>-0.110474</td>\n",
              "      <td>0.066928</td>\n",
              "      <td>0.128539</td>\n",
              "      <td>-0.189115</td>\n",
              "      <td>0.133558</td>\n",
              "      <td>-0.021053</td>\n",
              "      <td>149.62</td>\n",
              "      <td>0</td>\n",
              "    </tr>\n",
              "    <tr>\n",
              "      <th>1</th>\n",
              "      <td>0.0</td>\n",
              "      <td>1.191857</td>\n",
              "      <td>0.266151</td>\n",
              "      <td>0.166480</td>\n",
              "      <td>0.448154</td>\n",
              "      <td>0.060018</td>\n",
              "      <td>-0.082361</td>\n",
              "      <td>-0.078803</td>\n",
              "      <td>0.085102</td>\n",
              "      <td>-0.255425</td>\n",
              "      <td>-0.166974</td>\n",
              "      <td>1.612727</td>\n",
              "      <td>1.065235</td>\n",
              "      <td>0.489095</td>\n",
              "      <td>-0.143772</td>\n",
              "      <td>0.635558</td>\n",
              "      <td>0.463917</td>\n",
              "      <td>-0.114805</td>\n",
              "      <td>-0.183361</td>\n",
              "      <td>-0.145783</td>\n",
              "      <td>-0.069083</td>\n",
              "      <td>-0.225775</td>\n",
              "      <td>-0.638672</td>\n",
              "      <td>0.101288</td>\n",
              "      <td>-0.339846</td>\n",
              "      <td>0.167170</td>\n",
              "      <td>0.125895</td>\n",
              "      <td>-0.008983</td>\n",
              "      <td>0.014724</td>\n",
              "      <td>2.69</td>\n",
              "      <td>0</td>\n",
              "    </tr>\n",
              "    <tr>\n",
              "      <th>2</th>\n",
              "      <td>1.0</td>\n",
              "      <td>-1.358354</td>\n",
              "      <td>-1.340163</td>\n",
              "      <td>1.773209</td>\n",
              "      <td>0.379780</td>\n",
              "      <td>-0.503198</td>\n",
              "      <td>1.800499</td>\n",
              "      <td>0.791461</td>\n",
              "      <td>0.247676</td>\n",
              "      <td>-1.514654</td>\n",
              "      <td>0.207643</td>\n",
              "      <td>0.624501</td>\n",
              "      <td>0.066084</td>\n",
              "      <td>0.717293</td>\n",
              "      <td>-0.165946</td>\n",
              "      <td>2.345865</td>\n",
              "      <td>-2.890083</td>\n",
              "      <td>1.109969</td>\n",
              "      <td>-0.121359</td>\n",
              "      <td>-2.261857</td>\n",
              "      <td>0.524980</td>\n",
              "      <td>0.247998</td>\n",
              "      <td>0.771679</td>\n",
              "      <td>0.909412</td>\n",
              "      <td>-0.689281</td>\n",
              "      <td>-0.327642</td>\n",
              "      <td>-0.139097</td>\n",
              "      <td>-0.055353</td>\n",
              "      <td>-0.059752</td>\n",
              "      <td>378.66</td>\n",
              "      <td>0</td>\n",
              "    </tr>\n",
              "    <tr>\n",
              "      <th>3</th>\n",
              "      <td>1.0</td>\n",
              "      <td>-0.966272</td>\n",
              "      <td>-0.185226</td>\n",
              "      <td>1.792993</td>\n",
              "      <td>-0.863291</td>\n",
              "      <td>-0.010309</td>\n",
              "      <td>1.247203</td>\n",
              "      <td>0.237609</td>\n",
              "      <td>0.377436</td>\n",
              "      <td>-1.387024</td>\n",
              "      <td>-0.054952</td>\n",
              "      <td>-0.226487</td>\n",
              "      <td>0.178228</td>\n",
              "      <td>0.507757</td>\n",
              "      <td>-0.287924</td>\n",
              "      <td>-0.631418</td>\n",
              "      <td>-1.059647</td>\n",
              "      <td>-0.684093</td>\n",
              "      <td>1.965775</td>\n",
              "      <td>-1.232622</td>\n",
              "      <td>-0.208038</td>\n",
              "      <td>-0.108300</td>\n",
              "      <td>0.005274</td>\n",
              "      <td>-0.190321</td>\n",
              "      <td>-1.175575</td>\n",
              "      <td>0.647376</td>\n",
              "      <td>-0.221929</td>\n",
              "      <td>0.062723</td>\n",
              "      <td>0.061458</td>\n",
              "      <td>123.50</td>\n",
              "      <td>0</td>\n",
              "    </tr>\n",
              "    <tr>\n",
              "      <th>4</th>\n",
              "      <td>2.0</td>\n",
              "      <td>-1.158233</td>\n",
              "      <td>0.877737</td>\n",
              "      <td>1.548718</td>\n",
              "      <td>0.403034</td>\n",
              "      <td>-0.407193</td>\n",
              "      <td>0.095921</td>\n",
              "      <td>0.592941</td>\n",
              "      <td>-0.270533</td>\n",
              "      <td>0.817739</td>\n",
              "      <td>0.753074</td>\n",
              "      <td>-0.822843</td>\n",
              "      <td>0.538196</td>\n",
              "      <td>1.345852</td>\n",
              "      <td>-1.119670</td>\n",
              "      <td>0.175121</td>\n",
              "      <td>-0.451449</td>\n",
              "      <td>-0.237033</td>\n",
              "      <td>-0.038195</td>\n",
              "      <td>0.803487</td>\n",
              "      <td>0.408542</td>\n",
              "      <td>-0.009431</td>\n",
              "      <td>0.798278</td>\n",
              "      <td>-0.137458</td>\n",
              "      <td>0.141267</td>\n",
              "      <td>-0.206010</td>\n",
              "      <td>0.502292</td>\n",
              "      <td>0.219422</td>\n",
              "      <td>0.215153</td>\n",
              "      <td>69.99</td>\n",
              "      <td>0</td>\n",
              "    </tr>\n",
              "  </tbody>\n",
              "</table>\n",
              "</div>"
            ],
            "text/plain": [
              "   Time        V1        V2        V3  ...       V27       V28  Amount  Class\n",
              "0   0.0 -1.359807 -0.072781  2.536347  ...  0.133558 -0.021053  149.62      0\n",
              "1   0.0  1.191857  0.266151  0.166480  ... -0.008983  0.014724    2.69      0\n",
              "2   1.0 -1.358354 -1.340163  1.773209  ... -0.055353 -0.059752  378.66      0\n",
              "3   1.0 -0.966272 -0.185226  1.792993  ...  0.062723  0.061458  123.50      0\n",
              "4   2.0 -1.158233  0.877737  1.548718  ...  0.219422  0.215153   69.99      0\n",
              "\n",
              "[5 rows x 31 columns]"
            ]
          },
          "metadata": {
            "tags": []
          },
          "execution_count": 6
        }
      ]
    },
    {
      "cell_type": "code",
      "metadata": {
        "colab": {
          "base_uri": "https://localhost:8080/"
        },
        "id": "FWqJ-RMZOlc1",
        "outputId": "86e99d35-0b9d-4fc7-ded4-d005524d24b7"
      },
      "source": [
        "DF.Class.value_counts()"
      ],
      "execution_count": null,
      "outputs": [
        {
          "output_type": "execute_result",
          "data": {
            "text/plain": [
              "0    284315\n",
              "1       492\n",
              "Name: Class, dtype: int64"
            ]
          },
          "metadata": {
            "tags": []
          },
          "execution_count": 7
        }
      ]
    },
    {
      "cell_type": "code",
      "metadata": {
        "colab": {
          "base_uri": "https://localhost:8080/"
        },
        "id": "vbTG3UjNR6xX",
        "outputId": "ed7da559-292e-40d1-b87c-3e898966094d"
      },
      "source": [
        "(DF.Class.value_counts()/DF.shape[0])*100"
      ],
      "execution_count": null,
      "outputs": [
        {
          "output_type": "execute_result",
          "data": {
            "text/plain": [
              "0    99.827251\n",
              "1     0.172749\n",
              "Name: Class, dtype: float64"
            ]
          },
          "metadata": {
            "tags": []
          },
          "execution_count": 8
        }
      ]
    },
    {
      "cell_type": "code",
      "metadata": {
        "colab": {
          "base_uri": "https://localhost:8080/",
          "height": 218
        },
        "id": "o9AYyjHRSJp8",
        "outputId": "f43da761-f814-4f2a-db56-5101cbc9a56b"
      },
      "source": [
        "DF.drop('Time', axis=1, inplace=True)\r\n",
        "DF.head()"
      ],
      "execution_count": null,
      "outputs": [
        {
          "output_type": "execute_result",
          "data": {
            "text/html": [
              "<div>\n",
              "<style scoped>\n",
              "    .dataframe tbody tr th:only-of-type {\n",
              "        vertical-align: middle;\n",
              "    }\n",
              "\n",
              "    .dataframe tbody tr th {\n",
              "        vertical-align: top;\n",
              "    }\n",
              "\n",
              "    .dataframe thead th {\n",
              "        text-align: right;\n",
              "    }\n",
              "</style>\n",
              "<table border=\"1\" class=\"dataframe\">\n",
              "  <thead>\n",
              "    <tr style=\"text-align: right;\">\n",
              "      <th></th>\n",
              "      <th>V1</th>\n",
              "      <th>V2</th>\n",
              "      <th>V3</th>\n",
              "      <th>V4</th>\n",
              "      <th>V5</th>\n",
              "      <th>V6</th>\n",
              "      <th>V7</th>\n",
              "      <th>V8</th>\n",
              "      <th>V9</th>\n",
              "      <th>V10</th>\n",
              "      <th>V11</th>\n",
              "      <th>V12</th>\n",
              "      <th>V13</th>\n",
              "      <th>V14</th>\n",
              "      <th>V15</th>\n",
              "      <th>V16</th>\n",
              "      <th>V17</th>\n",
              "      <th>V18</th>\n",
              "      <th>V19</th>\n",
              "      <th>V20</th>\n",
              "      <th>V21</th>\n",
              "      <th>V22</th>\n",
              "      <th>V23</th>\n",
              "      <th>V24</th>\n",
              "      <th>V25</th>\n",
              "      <th>V26</th>\n",
              "      <th>V27</th>\n",
              "      <th>V28</th>\n",
              "      <th>Amount</th>\n",
              "      <th>Class</th>\n",
              "    </tr>\n",
              "  </thead>\n",
              "  <tbody>\n",
              "    <tr>\n",
              "      <th>0</th>\n",
              "      <td>-1.359807</td>\n",
              "      <td>-0.072781</td>\n",
              "      <td>2.536347</td>\n",
              "      <td>1.378155</td>\n",
              "      <td>-0.338321</td>\n",
              "      <td>0.462388</td>\n",
              "      <td>0.239599</td>\n",
              "      <td>0.098698</td>\n",
              "      <td>0.363787</td>\n",
              "      <td>0.090794</td>\n",
              "      <td>-0.551600</td>\n",
              "      <td>-0.617801</td>\n",
              "      <td>-0.991390</td>\n",
              "      <td>-0.311169</td>\n",
              "      <td>1.468177</td>\n",
              "      <td>-0.470401</td>\n",
              "      <td>0.207971</td>\n",
              "      <td>0.025791</td>\n",
              "      <td>0.403993</td>\n",
              "      <td>0.251412</td>\n",
              "      <td>-0.018307</td>\n",
              "      <td>0.277838</td>\n",
              "      <td>-0.110474</td>\n",
              "      <td>0.066928</td>\n",
              "      <td>0.128539</td>\n",
              "      <td>-0.189115</td>\n",
              "      <td>0.133558</td>\n",
              "      <td>-0.021053</td>\n",
              "      <td>149.62</td>\n",
              "      <td>0</td>\n",
              "    </tr>\n",
              "    <tr>\n",
              "      <th>1</th>\n",
              "      <td>1.191857</td>\n",
              "      <td>0.266151</td>\n",
              "      <td>0.166480</td>\n",
              "      <td>0.448154</td>\n",
              "      <td>0.060018</td>\n",
              "      <td>-0.082361</td>\n",
              "      <td>-0.078803</td>\n",
              "      <td>0.085102</td>\n",
              "      <td>-0.255425</td>\n",
              "      <td>-0.166974</td>\n",
              "      <td>1.612727</td>\n",
              "      <td>1.065235</td>\n",
              "      <td>0.489095</td>\n",
              "      <td>-0.143772</td>\n",
              "      <td>0.635558</td>\n",
              "      <td>0.463917</td>\n",
              "      <td>-0.114805</td>\n",
              "      <td>-0.183361</td>\n",
              "      <td>-0.145783</td>\n",
              "      <td>-0.069083</td>\n",
              "      <td>-0.225775</td>\n",
              "      <td>-0.638672</td>\n",
              "      <td>0.101288</td>\n",
              "      <td>-0.339846</td>\n",
              "      <td>0.167170</td>\n",
              "      <td>0.125895</td>\n",
              "      <td>-0.008983</td>\n",
              "      <td>0.014724</td>\n",
              "      <td>2.69</td>\n",
              "      <td>0</td>\n",
              "    </tr>\n",
              "    <tr>\n",
              "      <th>2</th>\n",
              "      <td>-1.358354</td>\n",
              "      <td>-1.340163</td>\n",
              "      <td>1.773209</td>\n",
              "      <td>0.379780</td>\n",
              "      <td>-0.503198</td>\n",
              "      <td>1.800499</td>\n",
              "      <td>0.791461</td>\n",
              "      <td>0.247676</td>\n",
              "      <td>-1.514654</td>\n",
              "      <td>0.207643</td>\n",
              "      <td>0.624501</td>\n",
              "      <td>0.066084</td>\n",
              "      <td>0.717293</td>\n",
              "      <td>-0.165946</td>\n",
              "      <td>2.345865</td>\n",
              "      <td>-2.890083</td>\n",
              "      <td>1.109969</td>\n",
              "      <td>-0.121359</td>\n",
              "      <td>-2.261857</td>\n",
              "      <td>0.524980</td>\n",
              "      <td>0.247998</td>\n",
              "      <td>0.771679</td>\n",
              "      <td>0.909412</td>\n",
              "      <td>-0.689281</td>\n",
              "      <td>-0.327642</td>\n",
              "      <td>-0.139097</td>\n",
              "      <td>-0.055353</td>\n",
              "      <td>-0.059752</td>\n",
              "      <td>378.66</td>\n",
              "      <td>0</td>\n",
              "    </tr>\n",
              "    <tr>\n",
              "      <th>3</th>\n",
              "      <td>-0.966272</td>\n",
              "      <td>-0.185226</td>\n",
              "      <td>1.792993</td>\n",
              "      <td>-0.863291</td>\n",
              "      <td>-0.010309</td>\n",
              "      <td>1.247203</td>\n",
              "      <td>0.237609</td>\n",
              "      <td>0.377436</td>\n",
              "      <td>-1.387024</td>\n",
              "      <td>-0.054952</td>\n",
              "      <td>-0.226487</td>\n",
              "      <td>0.178228</td>\n",
              "      <td>0.507757</td>\n",
              "      <td>-0.287924</td>\n",
              "      <td>-0.631418</td>\n",
              "      <td>-1.059647</td>\n",
              "      <td>-0.684093</td>\n",
              "      <td>1.965775</td>\n",
              "      <td>-1.232622</td>\n",
              "      <td>-0.208038</td>\n",
              "      <td>-0.108300</td>\n",
              "      <td>0.005274</td>\n",
              "      <td>-0.190321</td>\n",
              "      <td>-1.175575</td>\n",
              "      <td>0.647376</td>\n",
              "      <td>-0.221929</td>\n",
              "      <td>0.062723</td>\n",
              "      <td>0.061458</td>\n",
              "      <td>123.50</td>\n",
              "      <td>0</td>\n",
              "    </tr>\n",
              "    <tr>\n",
              "      <th>4</th>\n",
              "      <td>-1.158233</td>\n",
              "      <td>0.877737</td>\n",
              "      <td>1.548718</td>\n",
              "      <td>0.403034</td>\n",
              "      <td>-0.407193</td>\n",
              "      <td>0.095921</td>\n",
              "      <td>0.592941</td>\n",
              "      <td>-0.270533</td>\n",
              "      <td>0.817739</td>\n",
              "      <td>0.753074</td>\n",
              "      <td>-0.822843</td>\n",
              "      <td>0.538196</td>\n",
              "      <td>1.345852</td>\n",
              "      <td>-1.119670</td>\n",
              "      <td>0.175121</td>\n",
              "      <td>-0.451449</td>\n",
              "      <td>-0.237033</td>\n",
              "      <td>-0.038195</td>\n",
              "      <td>0.803487</td>\n",
              "      <td>0.408542</td>\n",
              "      <td>-0.009431</td>\n",
              "      <td>0.798278</td>\n",
              "      <td>-0.137458</td>\n",
              "      <td>0.141267</td>\n",
              "      <td>-0.206010</td>\n",
              "      <td>0.502292</td>\n",
              "      <td>0.219422</td>\n",
              "      <td>0.215153</td>\n",
              "      <td>69.99</td>\n",
              "      <td>0</td>\n",
              "    </tr>\n",
              "  </tbody>\n",
              "</table>\n",
              "</div>"
            ],
            "text/plain": [
              "         V1        V2        V3        V4  ...       V27       V28  Amount  Class\n",
              "0 -1.359807 -0.072781  2.536347  1.378155  ...  0.133558 -0.021053  149.62      0\n",
              "1  1.191857  0.266151  0.166480  0.448154  ... -0.008983  0.014724    2.69      0\n",
              "2 -1.358354 -1.340163  1.773209  0.379780  ... -0.055353 -0.059752  378.66      0\n",
              "3 -0.966272 -0.185226  1.792993 -0.863291  ...  0.062723  0.061458  123.50      0\n",
              "4 -1.158233  0.877737  1.548718  0.403034  ...  0.219422  0.215153   69.99      0\n",
              "\n",
              "[5 rows x 30 columns]"
            ]
          },
          "metadata": {
            "tags": []
          },
          "execution_count": 9
        }
      ]
    },
    {
      "cell_type": "markdown",
      "metadata": {
        "id": "d7KpYOhiWror"
      },
      "source": [
        "## 3) Data Set"
      ]
    },
    {
      "cell_type": "code",
      "metadata": {
        "colab": {
          "base_uri": "https://localhost:8080/"
        },
        "id": "G812bXouU5np",
        "outputId": "0af8db49-82bf-4bab-e23e-9706077ab2d4"
      },
      "source": [
        "X=DF.iloc[:,:-1]\r\n",
        "y=DF.iloc[:,-1]\r\n",
        "X.shape, y.shape"
      ],
      "execution_count": null,
      "outputs": [
        {
          "output_type": "execute_result",
          "data": {
            "text/plain": [
              "((284807, 29), (284807,))"
            ]
          },
          "metadata": {
            "tags": []
          },
          "execution_count": 10
        }
      ]
    },
    {
      "cell_type": "markdown",
      "metadata": {
        "id": "9zYWIfqhWyXI"
      },
      "source": [
        "## 4) split = 7:3"
      ]
    },
    {
      "cell_type": "code",
      "metadata": {
        "id": "DUkTJaf1V0xJ"
      },
      "source": [
        "from sklearn.model_selection import train_test_split\r\n",
        "\r\n",
        "X_train, X_test, y_train, y_test = train_test_split(X, y, test_size = 0.3, random_state=2045,\r\n",
        "                                                    stratify = y)"
      ],
      "execution_count": null,
      "outputs": []
    },
    {
      "cell_type": "markdown",
      "metadata": {
        "id": "o4Nrdk7UXO4_"
      },
      "source": [
        "* Train_Data vs. Test_Date의 1(부정) 비율이 균형"
      ]
    },
    {
      "cell_type": "code",
      "metadata": {
        "colab": {
          "base_uri": "https://localhost:8080/"
        },
        "id": "Q6gze-8pXNvB",
        "outputId": "123e215a-4e94-4274-8267-f661cd243879"
      },
      "source": [
        "print('Train Data : ', '\\n', (y_train.value_counts()/y_train.shape[0]) * 100)\r\n",
        "print('Test Data : ', '\\n', (y_test.value_counts()/y_test.shape[0]) * 100)"
      ],
      "execution_count": null,
      "outputs": [
        {
          "output_type": "stream",
          "text": [
            "Train Data :  \n",
            " 0    99.827451\n",
            "1     0.172549\n",
            "Name: Class, dtype: float64\n",
            "Test Data :  \n",
            " 0    99.826785\n",
            "1     0.173215\n",
            "Name: Class, dtype: float64\n"
          ],
          "name": "stdout"
        }
      ]
    },
    {
      "cell_type": "markdown",
      "metadata": {
        "id": "ZWmOaC9AZLWg"
      },
      "source": [
        "# 3, 탐색적 데이터 분석"
      ]
    },
    {
      "cell_type": "code",
      "metadata": {
        "id": "DVek3oHIYleJ"
      },
      "source": [
        "import matplotlib.pyplot as plt\r\n",
        "import seaborn as sns\r\n",
        "\r\n",
        "# sns.pairplot(hue='Class', data =DF)\r\n",
        "# plt.show()"
      ],
      "execution_count": null,
      "outputs": []
    },
    {
      "cell_type": "code",
      "metadata": {
        "colab": {
          "base_uri": "https://localhost:8080/",
          "height": 279
        },
        "id": "sL8ioXTspHHI",
        "outputId": "6d210f3c-c04d-42b1-a14c-88299cec4af6"
      },
      "source": [
        "plt.scatter(DF['Class'] , DF['Amount'])\r\n",
        "plt.xlabel(\"Class\")\r\n",
        "plt.ylabel('Amount')\r\n",
        "plt.show()"
      ],
      "execution_count": null,
      "outputs": [
        {
          "output_type": "display_data",
          "data": {
            "image/png": "[encoded data removed]",
            "text/plain": [
              "<Figure size 432x288 with 1 Axes>"
            ]
          },
          "metadata": {
            "tags": [],
            "needs_background": "light"
          }
        }
      ]
    },
    {
      "cell_type": "code",
      "metadata": {
        "colab": {
          "base_uri": "https://localhost:8080/",
          "height": 320
        },
        "id": "PFbQTetlbK2n",
        "outputId": "0a0a486e-3043-422a-89f1-4d7b9e3a1984"
      },
      "source": [
        "plt.boxplot([DF[DF.Class == 0].Amount,\r\n",
        "             DF[DF.Class == 1].Amount],\r\n",
        "            labels = ['0', '1'])\r\n",
        "plt.ylim(0,150)\r\n",
        "plt.show()"
      ],
      "execution_count": null,
      "outputs": [
        {
          "output_type": "stream",
          "text": [
            "/usr/local/lib/python3.7/dist-packages/numpy/core/_asarray.py:83: VisibleDeprecationWarning: Creating an ndarray from ragged nested sequences (which is a list-or-tuple of lists-or-tuples-or ndarrays with different lengths or shapes) is deprecated. If you meant to do this, you must specify 'dtype=object' when creating the ndarray\n",
            "  return array(a, dtype, copy=False, order=order)\n"
          ],
          "name": "stderr"
        },
        {
          "output_type": "display_data",
          "data": {
            "image/png": "[encoded data removed]",
            "text/plain": [
              "<Figure size 432x288 with 1 Axes>"
            ]
          },
          "metadata": {
            "tags": [],
            "needs_background": "light"
          }
        }
      ]
    },
    {
      "cell_type": "code",
      "metadata": {
        "id": "EkNVlHeuh9UL"
      },
      "source": [
        "grouped = DF.groupby(['Class'])\r\n",
        "grouped_0 = grouped.get_group(0)\r\n",
        "grouped_1 = grouped.get_group(1)"
      ],
      "execution_count": null,
      "outputs": []
    },
    {
      "cell_type": "code",
      "metadata": {
        "colab": {
          "base_uri": "https://localhost:8080/"
        },
        "id": "alimN2xNiMj8",
        "outputId": "20f1e86d-798e-4001-c5f2-555e6679b8cd"
      },
      "source": [
        "grouped = DF.groupby(['Class'])\r\n",
        "grouped_1 = grouped.get_group(1)\r\n",
        "type(grouped_1)"
      ],
      "execution_count": null,
      "outputs": [
        {
          "output_type": "execute_result",
          "data": {
            "text/plain": [
              "pandas.core.frame.DataFrame"
            ]
          },
          "metadata": {
            "tags": []
          },
          "execution_count": 38
        }
      ]
    },
    {
      "cell_type": "code",
      "metadata": {
        "colab": {
          "base_uri": "https://localhost:8080/",
          "height": 334
        },
        "id": "pTtSxpwuf86N",
        "outputId": "e406f64f-dfff-49e5-8517-f529f10af63d"
      },
      "source": [
        "sns.distplot(grouped_0['Amount'], label='0_Amount')\r\n",
        "#plt.ylim(0,150)\r\n",
        "plt.xlim(0,1200)\r\n",
        "plt.show()"
      ],
      "execution_count": null,
      "outputs": [
        {
          "output_type": "stream",
          "text": [
            "/usr/local/lib/python3.7/dist-packages/seaborn/distributions.py:2557: FutureWarning: `distplot` is a deprecated function and will be removed in a future version. Please adapt your code to use either `displot` (a figure-level function with similar flexibility) or `histplot` (an axes-level function for histograms).\n",
            "  warnings.warn(msg, FutureWarning)\n"
          ],
          "name": "stderr"
        },
        {
          "output_type": "display_data",
          "data": {
            "image/png": "[encoded data removed]",
            "text/plain": [
              "<Figure size 432x288 with 1 Axes>"
            ]
          },
          "metadata": {
            "tags": [],
            "needs_background": "light"
          }
        }
      ]
    },
    {
      "cell_type": "code",
      "metadata": {
        "colab": {
          "base_uri": "https://localhost:8080/",
          "height": 334
        },
        "id": "eYhsPevThacE",
        "outputId": "b49aadbf-2289-413b-f85f-d61479cfda20"
      },
      "source": [
        "sns.distplot(grouped_1['Amount'], label='1_Amount')\r\n",
        "#plt.ylim(0,150)\r\n",
        "plt.xlim(0,1200)\r\n",
        "plt.show()"
      ],
      "execution_count": null,
      "outputs": [
        {
          "output_type": "stream",
          "text": [
            "/usr/local/lib/python3.7/dist-packages/seaborn/distributions.py:2557: FutureWarning: `distplot` is a deprecated function and will be removed in a future version. Please adapt your code to use either `displot` (a figure-level function with similar flexibility) or `histplot` (an axes-level function for histograms).\n",
            "  warnings.warn(msg, FutureWarning)\n"
          ],
          "name": "stderr"
        },
        {
          "output_type": "display_data",
          "data": {
            "image/png": "[encoded data removed]",
            "text/plain": [
              "<Figure size 432x288 with 1 Axes>"
            ]
          },
          "metadata": {
            "tags": [],
            "needs_background": "light"
          }
        }
      ]
    },
    {
      "cell_type": "code",
      "metadata": {
        "colab": {
          "base_uri": "https://localhost:8080/",
          "height": 320
        },
        "id": "LqI8gTAtetdV",
        "outputId": "7e747473-4f0e-4a57-c18c-0be728a5a6f7"
      },
      "source": [
        "plt.figure(figsize = (16,5))\r\n",
        "plt.plot(DF['V1'][:400])\r\n",
        "# plt.plot(DF['V2'][:400], color='red')\r\n",
        "# plt.plot(DF['V3'][:400], color='green')\r\n",
        "# plt.plot(DF['V4'][:400], color='orange')\r\n",
        "plt.ylim(-7.5,2.5)\r\n",
        "plt.show()\r\n"
      ],
      "execution_count": null,
      "outputs": [
        {
          "output_type": "display_data",
          "data": {
            "image/png": "[encoded data removed]",
            "text/plain": [
              "<Figure size 1152x360 with 1 Axes>"
            ]
          },
          "metadata": {
            "tags": [],
            "needs_background": "light"
          }
        }
      ]
    },
    {
      "cell_type": "code",
      "metadata": {
        "colab": {
          "base_uri": "https://localhost:8080/",
          "height": 682
        },
        "id": "72TSavBqjnHy",
        "outputId": "2e8d499a-371d-44f3-fcd9-8f2e3c74b29b"
      },
      "source": [
        "%%time\r\n",
        "from sklearn.ensemble import RandomForestClassifier\r\n",
        "rfr = RandomForestClassifier(n_estimators = 100 , max_features = 4, max_depth = 10 , criterion = 'entropy' , n_jobs = -1 , random_state = 2045)\r\n",
        "rfr.fit(X_train , y_train)\r\n",
        "\r\n",
        "rfr.feature_importances_\r\n",
        "plt.figure(figsize=(20, 10))\r\n",
        "sns.barplot(rfr.feature_importances_ , X_train.columns )\r\n",
        "plt.show()"
      ],
      "execution_count": null,
      "outputs": [
        {
          "output_type": "stream",
          "text": [
            "/usr/local/lib/python3.7/dist-packages/seaborn/_decorators.py:43: FutureWarning: Pass the following variables as keyword args: x, y. From version 0.12, the only valid positional argument will be `data`, and passing other arguments without an explicit keyword will result in an error or misinterpretation.\n",
            "  FutureWarning\n"
          ],
          "name": "stderr"
        },
        {
          "output_type": "display_data",
          "data": {
            "image/png": "[encoded data removed]",
            "text/plain": [
              "<Figure size 1440x720 with 1 Axes>"
            ]
          },
          "metadata": {
            "tags": [],
            "needs_background": "light"
          }
        },
        {
          "output_type": "stream",
          "text": [
            "CPU times: user 3min 9s, sys: 228 ms, total: 3min 9s\n",
            "Wall time: 1min 37s\n"
          ],
          "name": "stdout"
        }
      ]
    },
    {
      "cell_type": "markdown",
      "metadata": {
        "id": "H0S-GH5hn20R"
      },
      "source": [
        "# 4, Random Forest"
      ]
    },
    {
      "cell_type": "markdown",
      "metadata": {
        "id": "ZfKktucwn6Ui"
      },
      "source": [
        "## 1) 모델링 함수"
      ]
    },
    {
      "cell_type": "code",
      "metadata": {
        "id": "A-cH24Alno9i"
      },
      "source": [
        "def randomForest(model_name, X, y, n_est, mf='auto', md=None,  visualFeature = False):\r\n",
        "  # split\r\n",
        "  X_train, X_test, y_train, y_test = train_test_split(X, y, test_size = 0.3, random_state=2045)\r\n",
        "\r\n",
        "  # model\r\n",
        "  model_rf = RandomForestClassifier(n_estimators = n_est, max_features = mf, max_depth =md, criterion = 'entropy', n_jobs= -1, random_state=2045)\r\n",
        "  model_rf.fit(X_train, y_train)\r\n",
        "\r\n",
        "  # evaluate\r\n",
        "  score_ac = accuracy_score(y_test, model_rf.predict(X_test))\r\n",
        "  score_rc = recall_score(y_test, model_rf.predict(X_test), pos_label =1 )\r\n",
        "\r\n",
        "  if visualFeature:\r\n",
        "    plt.figure(figsize = (9, 6))\r\n",
        "    sns.barplot(model_rf.feature_importances_, X.columns)\r\n",
        "    plt.title('Feature Importance')\r\n",
        "    plt.show()\r\n",
        "\r\n",
        "  return {'model_id':model_name, 'n_estimators':n_est, 'max_features':mf, 'max_depth':md, 'Accuracy_score':score_ac, 'Recall_score':score_rc}"
      ],
      "execution_count": null,
      "outputs": []
    },
    {
      "cell_type": "code",
      "metadata": {
        "id": "S4GZS-vPog-x"
      },
      "source": [
        "DF_res_rf = pd.DataFrame(data=None, columns = ['model_id','n_estimators','max_features','max_depth','Accuracy_score','Recall_score'])"
      ],
      "execution_count": null,
      "outputs": []
    },
    {
      "cell_type": "code",
      "metadata": {
        "colab": {
          "base_uri": "https://localhost:8080/",
          "height": 48
        },
        "id": "3Nd4YMEGuGym",
        "outputId": "d57b70db-6a87-4003-ae04-877aa4c863af"
      },
      "source": [
        "# DF_res_rf.drop(index=range(0,8), inplace=True)\r\n",
        "# DF_res_rf"
      ],
      "execution_count": null,
      "outputs": [
        {
          "output_type": "execute_result",
          "data": {
            "text/html": [
              "<div>\n",
              "<style scoped>\n",
              "    .dataframe tbody tr th:only-of-type {\n",
              "        vertical-align: middle;\n",
              "    }\n",
              "\n",
              "    .dataframe tbody tr th {\n",
              "        vertical-align: top;\n",
              "    }\n",
              "\n",
              "    .dataframe thead th {\n",
              "        text-align: right;\n",
              "    }\n",
              "</style>\n",
              "<table border=\"1\" class=\"dataframe\">\n",
              "  <thead>\n",
              "    <tr style=\"text-align: right;\">\n",
              "      <th></th>\n",
              "      <th>model_id</th>\n",
              "      <th>n_estimators</th>\n",
              "      <th>max_features</th>\n",
              "      <th>max_depth</th>\n",
              "      <th>Accuracy_score</th>\n",
              "      <th>Recall_score</th>\n",
              "    </tr>\n",
              "  </thead>\n",
              "  <tbody>\n",
              "  </tbody>\n",
              "</table>\n",
              "</div>"
            ],
            "text/plain": [
              "Empty DataFrame\n",
              "Columns: [model_id, n_estimators, max_features, max_depth, Accuracy_score, Recall_score]\n",
              "Index: []"
            ]
          },
          "metadata": {
            "tags": []
          },
          "execution_count": 92
        }
      ]
    },
    {
      "cell_type": "markdown",
      "metadata": {
        "id": "xoiQpR4cqK_J"
      },
      "source": [
        "## 2) X = Amount"
      ]
    },
    {
      "cell_type": "markdown",
      "metadata": {
        "id": "5uHsUO2eq7qm"
      },
      "source": [
        "### (1) n_est 조정"
      ]
    },
    {
      "cell_type": "code",
      "metadata": {
        "id": "Dp5pIKgUqFE3"
      },
      "source": [
        "X = DF[['Amount']]\r\n",
        "y = DF['Class']"
      ],
      "execution_count": null,
      "outputs": []
    },
    {
      "cell_type": "code",
      "metadata": {
        "colab": {
          "base_uri": "https://localhost:8080/"
        },
        "id": "jOdOi14sp4EX",
        "outputId": "a2e858f1-be26-44a4-d9ae-e90a63e1381c"
      },
      "source": [
        "%%time\r\n",
        "a = [50, 100, 300]\r\n",
        "index = 1\r\n",
        "for n in a:\r\n",
        "  model_name = 'RF_1-'+str(index)\r\n",
        "  index += 1\r\n",
        "  res = randomForest(model_name, X, y, n_est=n)\r\n",
        "  print(res)\r\n",
        "  DF_res_rf = DF_res_rf.append(res, ignore_index=True)\r\n",
        "  DF_res_rf"
      ],
      "execution_count": null,
      "outputs": [
        {
          "output_type": "stream",
          "text": [
            "{'model_id': 'RF_1-1', 'n_estimators': 50, 'max_features': 'auto', 'max_depth': None, 'Accuracy_score': 0.9981039991573329, 'Recall_score': 0.013888888888888888}\n",
            "{'model_id': 'RF_1-2', 'n_estimators': 100, 'max_features': 'auto', 'max_depth': None, 'Accuracy_score': 0.9980571843217115, 'Recall_score': 0.013888888888888888}\n",
            "{'model_id': 'RF_1-3', 'n_estimators': 300, 'max_features': 'auto', 'max_depth': None, 'Accuracy_score': 0.9980922954484276, 'Recall_score': 0.013888888888888888}\n",
            "CPU times: user 4min 3s, sys: 622 ms, total: 4min 4s\n",
            "Wall time: 2min 5s\n"
          ],
          "name": "stdout"
        }
      ]
    },
    {
      "cell_type": "markdown",
      "metadata": {
        "id": "umaaGN7crHdn"
      },
      "source": [
        "### (2) max_depth 조정"
      ]
    },
    {
      "cell_type": "code",
      "metadata": {
        "colab": {
          "base_uri": "https://localhost:8080/"
        },
        "id": "6HSIcPvOs8hm",
        "outputId": "c823c8b6-16bb-4c43-968e-82f39a6989c4"
      },
      "source": [
        "%%time\r\n",
        "a = [2,3,5,9]\r\n",
        "index += 1\r\n",
        "for n in a:\r\n",
        "  model_name = 'RF_1-'+str(index)\r\n",
        "  index += 1\r\n",
        "  res = randomForest(model_name, X, y, n_est= 50, md=n)\r\n",
        "  print(res)\r\n",
        "  DF_res_rf = DF_res_rf.append(res, ignore_index=True)"
      ],
      "execution_count": null,
      "outputs": [
        {
          "output_type": "stream",
          "text": [
            "{'model_id': 'RF_1-5', 'n_estimators': 50, 'max_features': 'auto', 'max_depth': 2, 'Accuracy_score': 0.9983146659176293, 'Recall_score': 0.0}\n",
            "{'model_id': 'RF_1-6', 'n_estimators': 50, 'max_features': 'auto', 'max_depth': 3, 'Accuracy_score': 0.9983146659176293, 'Recall_score': 0.0}\n",
            "{'model_id': 'RF_1-7', 'n_estimators': 50, 'max_features': 'auto', 'max_depth': 5, 'Accuracy_score': 0.9983146659176293, 'Recall_score': 0.0}\n",
            "{'model_id': 'RF_1-8', 'n_estimators': 50, 'max_features': 'auto', 'max_depth': 9, 'Accuracy_score': 0.9983146659176293, 'Recall_score': 0.0}\n",
            "CPU times: user 47.2 s, sys: 291 ms, total: 47.5 s\n",
            "Wall time: 25.3 s\n"
          ],
          "name": "stdout"
        }
      ]
    },
    {
      "cell_type": "markdown",
      "metadata": {
        "id": "gdhdZvYtz9Zr"
      },
      "source": [
        "### recall값 = 0"
      ]
    },
    {
      "cell_type": "markdown",
      "metadata": {
        "id": "Dr3qPHWQteSP"
      },
      "source": [
        "## 3) X = V10, V14, V17"
      ]
    },
    {
      "cell_type": "markdown",
      "metadata": {
        "id": "qHXeK9kawdo8"
      },
      "source": [
        "### (1) n_est 조정"
      ]
    },
    {
      "cell_type": "code",
      "metadata": {
        "id": "xL374h9Bwdo-"
      },
      "source": [
        "X = DF[['V10','V14','V17']]\r\n",
        "y = DF['Class']"
      ],
      "execution_count": null,
      "outputs": []
    },
    {
      "cell_type": "code",
      "metadata": {
        "colab": {
          "base_uri": "https://localhost:8080/"
        },
        "id": "OlYGq7GIwdo_",
        "outputId": "2ff7d41c-fd33-47d2-ac3c-f689e5c9090b"
      },
      "source": [
        "%%time\r\n",
        "a = [50, 100, 300]\r\n",
        "index = 1\r\n",
        "for n in a:\r\n",
        "  model_name = 'RF_3-'+str(index)\r\n",
        "  index += 1\r\n",
        "  res = randomForest(model_name, X, y, n_est=n)\r\n",
        "  print(res)\r\n",
        "  DF_res_rf = DF_res_rf.append(res, ignore_index=True)\r\n",
        "  DF_res_rf"
      ],
      "execution_count": null,
      "outputs": [
        {
          "output_type": "stream",
          "text": [
            "{'model_id': 'RF_3-1', 'n_estimators': 50, 'max_features': 'auto', 'max_depth': None, 'Accuracy_score': 0.9994967405170698, 'Recall_score': 0.7708333333333334}\n",
            "{'model_id': 'RF_3-2', 'n_estimators': 100, 'max_features': 'auto', 'max_depth': None, 'Accuracy_score': 0.9995084442259752, 'Recall_score': 0.7777777777777778}\n",
            "{'model_id': 'RF_3-3', 'n_estimators': 300, 'max_features': 'auto', 'max_depth': None, 'Accuracy_score': 0.9995201479348805, 'Recall_score': 0.7916666666666666}\n",
            "CPU times: user 5min 25s, sys: 724 ms, total: 5min 26s\n",
            "Wall time: 2min 46s\n"
          ],
          "name": "stdout"
        }
      ]
    },
    {
      "cell_type": "code",
      "metadata": {
        "colab": {
          "base_uri": "https://localhost:8080/"
        },
        "id": "Q6HrbiLCzpc7",
        "outputId": "f93574f3-0ba8-4851-cfa7-ca367c256926"
      },
      "source": [
        "# %%time\r\n",
        "# a = [500,1000]\r\n",
        "# index = 1\r\n",
        "# for n in a:\r\n",
        "#   model_name = 'RF_3-'+str(index)\r\n",
        "#   index += 1\r\n",
        "#   res = randomForest(model_name, X, y, n_est=n)\r\n",
        "#   print(res)\r\n",
        "#   DF_res_rf = DF_res_rf.append(res, ignore_index=True)\r\n",
        "#   DF_res_rf"
      ],
      "execution_count": null,
      "outputs": [
        {
          "output_type": "stream",
          "text": [
            "{'model_id': 'RF_3-1', 'n_estimators': 500, 'max_features': 'auto', 'max_depth': None, 'Accuracy_score': 0.9995201479348805, 'Recall_score': 0.7916666666666666}\n",
            "{'model_id': 'RF_3-2', 'n_estimators': 1000, 'max_features': 'auto', 'max_depth': None, 'Accuracy_score': 0.9995201479348805, 'Recall_score': 0.7916666666666666}\n",
            "CPU times: user 17min 46s, sys: 2.39 s, total: 17min 48s\n",
            "Wall time: 9min 4s\n"
          ],
          "name": "stdout"
        }
      ]
    },
    {
      "cell_type": "markdown",
      "metadata": {
        "id": "rwovXtJUwdo_"
      },
      "source": [
        "### (2) max_depth 조정"
      ]
    },
    {
      "cell_type": "code",
      "metadata": {
        "colab": {
          "base_uri": "https://localhost:8080/"
        },
        "id": "S4qCkbJHwdo_",
        "outputId": "f787162c-eb1c-4c5c-ac31-4f4c6cdc3bfe"
      },
      "source": [
        "%%time\r\n",
        "a = [2,3,5,9]\r\n",
        "index += 1\r\n",
        "for n in a:\r\n",
        "  model_name = 'RF_3-'+str(index)\r\n",
        "  index += 1\r\n",
        "  res = randomForest(model_name, X, y, n_est= 300, md=n)\r\n",
        "  print(res)\r\n",
        "  DF_res_rf = DF_res_rf.append(res, ignore_index=True)"
      ],
      "execution_count": null,
      "outputs": [
        {
          "output_type": "stream",
          "text": [
            "{'model_id': 'RF_3-4', 'n_estimators': 300, 'max_features': 'auto', 'max_depth': 2, 'Accuracy_score': 0.9992158515033414, 'Recall_score': 0.625}\n",
            "{'model_id': 'RF_3-5', 'n_estimators': 300, 'max_features': 'auto', 'max_depth': 3, 'Accuracy_score': 0.9993797034280163, 'Recall_score': 0.7291666666666666}\n",
            "{'model_id': 'RF_3-6', 'n_estimators': 300, 'max_features': 'auto', 'max_depth': 5, 'Accuracy_score': 0.9994148145547324, 'Recall_score': 0.75}\n",
            "{'model_id': 'RF_3-7', 'n_estimators': 300, 'max_features': 'auto', 'max_depth': 9, 'Accuracy_score': 0.9995318516437859, 'Recall_score': 0.8055555555555556}\n",
            "CPU times: user 7min 3s, sys: 1.68 s, total: 7min 5s\n",
            "Wall time: 3min 38s\n"
          ],
          "name": "stdout"
        }
      ]
    },
    {
      "cell_type": "markdown",
      "metadata": {
        "id": "_e8KW6_mrKvf"
      },
      "source": [
        "### (3) max_features 조정"
      ]
    },
    {
      "cell_type": "code",
      "metadata": {
        "colab": {
          "base_uri": "https://localhost:8080/"
        },
        "id": "zFD4iMvis_--",
        "outputId": "9414e2b4-ad9e-48e5-8587-b5ff7342820a"
      },
      "source": [
        "%%time\r\n",
        "a = [1,2,3]\r\n",
        "for n in a:\r\n",
        "  model_name = 'RF_3-'+str(index)\r\n",
        "  index += 1\r\n",
        "  res = randomForest(model_name, X, y, n_est=300, md=9 , mf=n)\r\n",
        "  print(res)\r\n",
        "  DF_res_rf = DF_res_rf.append(res, ignore_index=True)"
      ],
      "execution_count": null,
      "outputs": [
        {
          "output_type": "stream",
          "text": [
            "{'model_id': 'RF_3-8', 'n_estimators': 300, 'max_features': 1, 'max_depth': 9, 'Accuracy_score': 0.9995318516437859, 'Recall_score': 0.8055555555555556}\n",
            "{'model_id': 'RF_3-9', 'n_estimators': 300, 'max_features': 2, 'max_depth': 9, 'Accuracy_score': 0.9995201479348805, 'Recall_score': 0.7847222222222222}\n",
            "{'model_id': 'RF_3-10', 'n_estimators': 300, 'max_features': 3, 'max_depth': 9, 'Accuracy_score': 0.9994967405170698, 'Recall_score': 0.7708333333333334}\n",
            "CPU times: user 15min 49s, sys: 1.74 s, total: 15min 51s\n",
            "Wall time: 8min 6s\n"
          ],
          "name": "stdout"
        }
      ]
    },
    {
      "cell_type": "markdown",
      "metadata": {
        "id": "x7_ttQ--rOI3"
      },
      "source": [
        "### (4) recall 비교"
      ]
    },
    {
      "cell_type": "code",
      "metadata": {
        "colab": {
          "base_uri": "https://localhost:8080/",
          "height": 619
        },
        "id": "fgvI7pTws_NT",
        "outputId": "8649d3d1-304b-48d4-a309-dc7aacf2a77c"
      },
      "source": [
        "DF_res_rf.sort_values(by='Recall_score', ascending=False)"
      ],
      "execution_count": null,
      "outputs": [
        {
          "output_type": "execute_result",
          "data": {
            "text/html": [
              "<div>\n",
              "<style scoped>\n",
              "    .dataframe tbody tr th:only-of-type {\n",
              "        vertical-align: middle;\n",
              "    }\n",
              "\n",
              "    .dataframe tbody tr th {\n",
              "        vertical-align: top;\n",
              "    }\n",
              "\n",
              "    .dataframe thead th {\n",
              "        text-align: right;\n",
              "    }\n",
              "</style>\n",
              "<table border=\"1\" class=\"dataframe\">\n",
              "  <thead>\n",
              "    <tr style=\"text-align: right;\">\n",
              "      <th></th>\n",
              "      <th>model_id</th>\n",
              "      <th>n_estimators</th>\n",
              "      <th>max_features</th>\n",
              "      <th>max_depth</th>\n",
              "      <th>Accuracy_score</th>\n",
              "      <th>Recall_score</th>\n",
              "    </tr>\n",
              "  </thead>\n",
              "  <tbody>\n",
              "    <tr>\n",
              "      <th>16</th>\n",
              "      <td>RF_3-8</td>\n",
              "      <td>300</td>\n",
              "      <td>1</td>\n",
              "      <td>9</td>\n",
              "      <td>0.999532</td>\n",
              "      <td>0.805556</td>\n",
              "    </tr>\n",
              "    <tr>\n",
              "      <th>15</th>\n",
              "      <td>RF_3-7</td>\n",
              "      <td>300</td>\n",
              "      <td>auto</td>\n",
              "      <td>9</td>\n",
              "      <td>0.999532</td>\n",
              "      <td>0.805556</td>\n",
              "    </tr>\n",
              "    <tr>\n",
              "      <th>9</th>\n",
              "      <td>RF_3-3</td>\n",
              "      <td>300</td>\n",
              "      <td>auto</td>\n",
              "      <td>None</td>\n",
              "      <td>0.999520</td>\n",
              "      <td>0.791667</td>\n",
              "    </tr>\n",
              "    <tr>\n",
              "      <th>11</th>\n",
              "      <td>RF_3-2</td>\n",
              "      <td>1000</td>\n",
              "      <td>auto</td>\n",
              "      <td>None</td>\n",
              "      <td>0.999520</td>\n",
              "      <td>0.791667</td>\n",
              "    </tr>\n",
              "    <tr>\n",
              "      <th>10</th>\n",
              "      <td>RF_3-1</td>\n",
              "      <td>500</td>\n",
              "      <td>auto</td>\n",
              "      <td>None</td>\n",
              "      <td>0.999520</td>\n",
              "      <td>0.791667</td>\n",
              "    </tr>\n",
              "    <tr>\n",
              "      <th>17</th>\n",
              "      <td>RF_3-9</td>\n",
              "      <td>300</td>\n",
              "      <td>2</td>\n",
              "      <td>9</td>\n",
              "      <td>0.999520</td>\n",
              "      <td>0.784722</td>\n",
              "    </tr>\n",
              "    <tr>\n",
              "      <th>8</th>\n",
              "      <td>RF_3-2</td>\n",
              "      <td>100</td>\n",
              "      <td>auto</td>\n",
              "      <td>None</td>\n",
              "      <td>0.999508</td>\n",
              "      <td>0.777778</td>\n",
              "    </tr>\n",
              "    <tr>\n",
              "      <th>18</th>\n",
              "      <td>RF_3-10</td>\n",
              "      <td>300</td>\n",
              "      <td>3</td>\n",
              "      <td>9</td>\n",
              "      <td>0.999497</td>\n",
              "      <td>0.770833</td>\n",
              "    </tr>\n",
              "    <tr>\n",
              "      <th>7</th>\n",
              "      <td>RF_3-1</td>\n",
              "      <td>50</td>\n",
              "      <td>auto</td>\n",
              "      <td>None</td>\n",
              "      <td>0.999497</td>\n",
              "      <td>0.770833</td>\n",
              "    </tr>\n",
              "    <tr>\n",
              "      <th>14</th>\n",
              "      <td>RF_3-6</td>\n",
              "      <td>300</td>\n",
              "      <td>auto</td>\n",
              "      <td>5</td>\n",
              "      <td>0.999415</td>\n",
              "      <td>0.750000</td>\n",
              "    </tr>\n",
              "    <tr>\n",
              "      <th>13</th>\n",
              "      <td>RF_3-5</td>\n",
              "      <td>300</td>\n",
              "      <td>auto</td>\n",
              "      <td>3</td>\n",
              "      <td>0.999380</td>\n",
              "      <td>0.729167</td>\n",
              "    </tr>\n",
              "    <tr>\n",
              "      <th>12</th>\n",
              "      <td>RF_3-4</td>\n",
              "      <td>300</td>\n",
              "      <td>auto</td>\n",
              "      <td>2</td>\n",
              "      <td>0.999216</td>\n",
              "      <td>0.625000</td>\n",
              "    </tr>\n",
              "    <tr>\n",
              "      <th>1</th>\n",
              "      <td>RF_1-2</td>\n",
              "      <td>100</td>\n",
              "      <td>auto</td>\n",
              "      <td>None</td>\n",
              "      <td>0.998057</td>\n",
              "      <td>0.013889</td>\n",
              "    </tr>\n",
              "    <tr>\n",
              "      <th>2</th>\n",
              "      <td>RF_1-3</td>\n",
              "      <td>300</td>\n",
              "      <td>auto</td>\n",
              "      <td>None</td>\n",
              "      <td>0.998092</td>\n",
              "      <td>0.013889</td>\n",
              "    </tr>\n",
              "    <tr>\n",
              "      <th>0</th>\n",
              "      <td>RF_1-1</td>\n",
              "      <td>50</td>\n",
              "      <td>auto</td>\n",
              "      <td>None</td>\n",
              "      <td>0.998104</td>\n",
              "      <td>0.013889</td>\n",
              "    </tr>\n",
              "    <tr>\n",
              "      <th>6</th>\n",
              "      <td>RF_1-8</td>\n",
              "      <td>50</td>\n",
              "      <td>auto</td>\n",
              "      <td>9</td>\n",
              "      <td>0.998315</td>\n",
              "      <td>0.000000</td>\n",
              "    </tr>\n",
              "    <tr>\n",
              "      <th>5</th>\n",
              "      <td>RF_1-7</td>\n",
              "      <td>50</td>\n",
              "      <td>auto</td>\n",
              "      <td>5</td>\n",
              "      <td>0.998315</td>\n",
              "      <td>0.000000</td>\n",
              "    </tr>\n",
              "    <tr>\n",
              "      <th>4</th>\n",
              "      <td>RF_1-6</td>\n",
              "      <td>50</td>\n",
              "      <td>auto</td>\n",
              "      <td>3</td>\n",
              "      <td>0.998315</td>\n",
              "      <td>0.000000</td>\n",
              "    </tr>\n",
              "    <tr>\n",
              "      <th>3</th>\n",
              "      <td>RF_1-5</td>\n",
              "      <td>50</td>\n",
              "      <td>auto</td>\n",
              "      <td>2</td>\n",
              "      <td>0.998315</td>\n",
              "      <td>0.000000</td>\n",
              "    </tr>\n",
              "  </tbody>\n",
              "</table>\n",
              "</div>"
            ],
            "text/plain": [
              "   model_id n_estimators max_features max_depth  Accuracy_score  Recall_score\n",
              "16   RF_3-8          300            1         9        0.999532      0.805556\n",
              "15   RF_3-7          300         auto         9        0.999532      0.805556\n",
              "9    RF_3-3          300         auto      None        0.999520      0.791667\n",
              "11   RF_3-2         1000         auto      None        0.999520      0.791667\n",
              "10   RF_3-1          500         auto      None        0.999520      0.791667\n",
              "17   RF_3-9          300            2         9        0.999520      0.784722\n",
              "8    RF_3-2          100         auto      None        0.999508      0.777778\n",
              "18  RF_3-10          300            3         9        0.999497      0.770833\n",
              "7    RF_3-1           50         auto      None        0.999497      0.770833\n",
              "14   RF_3-6          300         auto         5        0.999415      0.750000\n",
              "13   RF_3-5          300         auto         3        0.999380      0.729167\n",
              "12   RF_3-4          300         auto         2        0.999216      0.625000\n",
              "1    RF_1-2          100         auto      None        0.998057      0.013889\n",
              "2    RF_1-3          300         auto      None        0.998092      0.013889\n",
              "0    RF_1-1           50         auto      None        0.998104      0.013889\n",
              "6    RF_1-8           50         auto         9        0.998315      0.000000\n",
              "5    RF_1-7           50         auto         5        0.998315      0.000000\n",
              "4    RF_1-6           50         auto         3        0.998315      0.000000\n",
              "3    RF_1-5           50         auto         2        0.998315      0.000000"
            ]
          },
          "metadata": {
            "tags": []
          },
          "execution_count": 106
        }
      ]
    },
    {
      "cell_type": "markdown",
      "metadata": {
        "id": "MYnWvzgcrQzp"
      },
      "source": [
        "### (5) Feature Importances"
      ]
    },
    {
      "cell_type": "code",
      "metadata": {
        "colab": {
          "base_uri": "https://localhost:8080/",
          "height": 462
        },
        "id": "bYEHlQlF3LUh",
        "outputId": "7b707f02-4dc2-45e3-91df-50f31bd70ce8"
      },
      "source": [
        "res = randomForest('RF', X, y, n_est=300, mf=1, md=9, visualFeature=True)\r\n",
        "print(res)"
      ],
      "execution_count": null,
      "outputs": [
        {
          "output_type": "stream",
          "text": [
            "/usr/local/lib/python3.7/dist-packages/seaborn/_decorators.py:43: FutureWarning: Pass the following variables as keyword args: x, y. From version 0.12, the only valid positional argument will be `data`, and passing other arguments without an explicit keyword will result in an error or misinterpretation.\n",
            "  FutureWarning\n"
          ],
          "name": "stderr"
        },
        {
          "output_type": "display_data",
          "data": {
            "image/png": "[encoded data removed]",
            "text/plain": [
              "<Figure size 648x432 with 1 Axes>"
            ]
          },
          "metadata": {
            "tags": [],
            "needs_background": "light"
          }
        },
        {
          "output_type": "stream",
          "text": [
            "{'model_id': 'RF', 'n_estimators': 300, 'max_features': 1, 'max_depth': 9, 'Accuracy_score': 0.9995318516437859, 'Recall_score': 0.8055555555555556}\n"
          ],
          "name": "stdout"
        }
      ]
    },
    {
      "cell_type": "markdown",
      "metadata": {
        "id": "tOXorE92xSMl"
      },
      "source": [
        "## 4) GridSearch CV"
      ]
    },
    {
      "cell_type": "code",
      "metadata": {
        "id": "M3h-01W832z5"
      },
      "source": [
        "X = DF[['V10','V14','V17']]\r\n",
        "y= DF['Class']"
      ],
      "execution_count": 153,
      "outputs": []
    },
    {
      "cell_type": "code",
      "metadata": {
        "id": "k8stbSxcxXDd"
      },
      "source": [
        "%%time\r\n",
        "from sklearn.ensemble import RandomForestClassifier\r\n",
        "\r\n",
        "X_train, X_test, y_train, y_test = train_test_split(X, y, test_size=0.3, random_state=2045)\r\n",
        "\r\n",
        "Model_gs = RandomForestClassifier()\r\n",
        "\r\n",
        "params = {'n_estimators':[50, 100, 200],\r\n",
        "          'max_features': [1,2,3],\r\n",
        "          'max_depth': [3, 5, 9],\r\n",
        "          'random_state':[2045]}\r\n",
        "\r\n",
        "from sklearn.model_selection import GridSearchCV, KFold\r\n",
        "\r\n",
        "grid_cv = GridSearchCV(Model_gs,\r\n",
        "                       param_grid = params,\r\n",
        "                       scoring = 'recall' ,\r\n",
        "                       refit = True,\r\n",
        "                       n_jobs = -1)         \r\n",
        "\r\n",
        "grid_cv.fit(X_train, y_train)"
      ],
      "execution_count": null,
      "outputs": []
    },
    {
      "cell_type": "code",
      "metadata": {
        "id": "L1FEOS2cxikX"
      },
      "source": [
        "grid_cv.best_params_"
      ],
      "execution_count": null,
      "outputs": []
    },
    {
      "cell_type": "code",
      "metadata": {
        "id": "dQrRkB6jxwLs"
      },
      "source": [
        "Model_tu = grid_cv.best_estimator_\r\n",
        "\r\n",
        "y_hat = Model_tu.predict(X_test)\r\n",
        "\r\n",
        "accuracy_score = accuracy_score(y_test, y_hat)\r\n",
        "recall_score = recall_score(y_test, y_hat)\r\n",
        "\r\n",
        "print('accuracy_score : ', accuracy_score)\r\n",
        "print('confusion_matrix : ','\\n', confusion_matrix)"
      ],
      "execution_count": null,
      "outputs": []
    },
    {
      "cell_type": "code",
      "metadata": {
        "id": "8MSas607rT4U"
      },
      "source": [
        ""
      ],
      "execution_count": null,
      "outputs": []
    },
    {
      "cell_type": "markdown",
      "metadata": {
        "id": "_UdGJGcxrd7-"
      },
      "source": [
        "# 5, LightGBM Classifier"
      ]
    },
    {
      "cell_type": "markdown",
      "metadata": {
        "id": "OoIAGZchsOPm"
      },
      "source": [
        "## 1) 모델링 함수"
      ]
    },
    {
      "cell_type": "code",
      "metadata": {
        "id": "CtcX4m0xsOPt"
      },
      "source": [
        "def lightGBM(model_name, X, y, n_est, md=None, lr=0.5,  visualFeature = False):\r\n",
        "  # split\r\n",
        "  X_train, X_test, y_train, y_test = train_test_split(X, y, test_size = 0.3, random_state=2045)\r\n",
        "\r\n",
        "  # model\r\n",
        "  model_lgbm = LGBMClassifier(n_estimators = n_est, max_depth =md, learning_rate = lr, reg_lambda= 0.2, n_jobs= -1, random_state=2045)\r\n",
        "  model_lgbm.fit(X_train, y_train)\r\n",
        "\r\n",
        "  # evaluate\r\n",
        "  score_ac = accuracy_score(y_test, model_lgbm.predict(X_test))\r\n",
        "  score_rc = recall_score(y_test, model_lgbm.predict(X_test), pos_label =1 )\r\n",
        "\r\n",
        "  if visualFeature:\r\n",
        "    plt.figure(figsize = (9, 6))\r\n",
        "    sns.barplot(model_lgbm.feature_importances_, X.columns)\r\n",
        "    plt.title('Feature Importance')\r\n",
        "    plt.show()\r\n",
        "\r\n",
        "  return {'model_id':model_name, 'n_estimators':n_est, 'max_depth':md, 'learning_rage':lr, 'Accuracy_score':score_ac, 'Recall_score':score_rc}"
      ],
      "execution_count": null,
      "outputs": []
    },
    {
      "cell_type": "code",
      "metadata": {
        "id": "DpLRCbpwsOPu"
      },
      "source": [
        "DF_res_lgbm = pd.DataFrame(data=None, columns = ['model_id','n_estimators','max_features','max_depth','Accuracy_score','Recall_score'])"
      ],
      "execution_count": null,
      "outputs": []
    },
    {
      "cell_type": "markdown",
      "metadata": {
        "id": "jhe3KPMFsOPu"
      },
      "source": [
        "## 2) X = Amount"
      ]
    },
    {
      "cell_type": "markdown",
      "metadata": {
        "id": "H2Qdyb_Or8U4"
      },
      "source": [
        "### (1) n_est 조정"
      ]
    },
    {
      "cell_type": "code",
      "metadata": {
        "id": "YisxSvAUxFnO"
      },
      "source": [
        "X = DF[['Amount']]\r\n",
        "y = DF['Class']"
      ],
      "execution_count": null,
      "outputs": []
    },
    {
      "cell_type": "code",
      "metadata": {
        "colab": {
          "base_uri": "https://localhost:8080/"
        },
        "id": "NPDVJDgaxFnQ",
        "outputId": "88ee4ed7-7f22-453e-de55-bfef12c866d1"
      },
      "source": [
        "%%time\r\n",
        "a = [50, 100, 300]\r\n",
        "index = 1\r\n",
        "for n in a:\r\n",
        "  model_name = 'LGMB_1-'+str(index)\r\n",
        "  index += 1\r\n",
        "  res = lightGBM(model_name, X, y, n_est=n)\r\n",
        "  print(res)\r\n",
        "  DF_res_lgbm = DF_res_lgbm.append(res, ignore_index=True)\r\n",
        "  DF_res_lgbm"
      ],
      "execution_count": null,
      "outputs": [
        {
          "output_type": "stream",
          "text": [
            "{'model_id': 'LGMB_1-1', 'n_estimators': 50, 'max_depth': None, 'learning_rage': 0.5, 'Accuracy_score': 0.9983146659176293, 'Recall_score': 0.0}\n",
            "{'model_id': 'LGMB_1-2', 'n_estimators': 100, 'max_depth': None, 'learning_rage': 0.5, 'Accuracy_score': 0.9983146659176293, 'Recall_score': 0.0}\n",
            "{'model_id': 'LGMB_1-3', 'n_estimators': 300, 'max_depth': None, 'learning_rage': 0.5, 'Accuracy_score': 0.9983146659176293, 'Recall_score': 0.0}\n",
            "CPU times: user 18.8 s, sys: 88.4 ms, total: 18.9 s\n",
            "Wall time: 9.86 s\n"
          ],
          "name": "stdout"
        }
      ]
    },
    {
      "cell_type": "markdown",
      "metadata": {
        "id": "OdvgQbiJz4vb"
      },
      "source": [
        "### recall 값 = 0"
      ]
    },
    {
      "cell_type": "markdown",
      "metadata": {
        "id": "NHTnCfeqzLgb"
      },
      "source": [
        "## 3) X = V10, V14, V17"
      ]
    },
    {
      "cell_type": "markdown",
      "metadata": {
        "id": "JAgcX92lzHNr"
      },
      "source": [
        "### (1) n_est 조정"
      ]
    },
    {
      "cell_type": "code",
      "metadata": {
        "id": "eTV1vAv4zwfL"
      },
      "source": [
        "X = DF[['V10','V14','V17']]\r\n",
        "y = DF['Class']"
      ],
      "execution_count": null,
      "outputs": []
    },
    {
      "cell_type": "code",
      "metadata": {
        "colab": {
          "base_uri": "https://localhost:8080/"
        },
        "id": "Uczo4aAizwfM",
        "outputId": "e5d6999a-cffb-469e-a9a9-3a690695dd7b"
      },
      "source": [
        "%%time\r\n",
        "a = [50, 100, 300]\r\n",
        "index = 1\r\n",
        "for n in a:\r\n",
        "  model_name = 'LGMB_3-'+str(index)\r\n",
        "  index += 1\r\n",
        "  res = lightGBM(model_name, X, y, n_est=n)\r\n",
        "  print(res)\r\n",
        "  DF_res_lgbm = DF_res_lgbm.append(res, ignore_index=True)\r\n",
        "  DF_res_lgbm"
      ],
      "execution_count": null,
      "outputs": [
        {
          "output_type": "stream",
          "text": [
            "{'model_id': 'LGMB_3-1', 'n_estimators': 50, 'max_depth': None, 'learning_rage': 0.5, 'Accuracy_score': 0.9992743700478681, 'Recall_score': 0.7708333333333334}\n",
            "{'model_id': 'LGMB_3-2', 'n_estimators': 100, 'max_depth': None, 'learning_rage': 0.5, 'Accuracy_score': 0.9992743700478681, 'Recall_score': 0.7708333333333334}\n",
            "{'model_id': 'LGMB_3-3', 'n_estimators': 300, 'max_depth': None, 'learning_rage': 0.5, 'Accuracy_score': 0.9993094811745842, 'Recall_score': 0.7847222222222222}\n",
            "CPU times: user 18.7 s, sys: 90.7 ms, total: 18.8 s\n",
            "Wall time: 9.85 s\n"
          ],
          "name": "stdout"
        }
      ]
    },
    {
      "cell_type": "code",
      "metadata": {
        "colab": {
          "base_uri": "https://localhost:8080/"
        },
        "id": "XVaZIG650G4W",
        "outputId": "3bc8acf0-e82c-4dde-ca01-2da737b6780c"
      },
      "source": [
        "%%time\r\n",
        "a = [500]\r\n",
        "\r\n",
        "for n in a:\r\n",
        "  model_name = 'LGMB_3-'+str(index)\r\n",
        "  index += 1\r\n",
        "  res = lightGBM(model_name, X, y, n_est=n)\r\n",
        "  print(res)\r\n",
        "  DF_res_lgbm = DF_res_lgbm.append(res, ignore_index=True)\r\n",
        "  DF_res_lgbm"
      ],
      "execution_count": null,
      "outputs": [
        {
          "output_type": "stream",
          "text": [
            "{'model_id': 'LGMB_3-4', 'n_estimators': 500, 'max_depth': None, 'learning_rage': 0.5, 'Accuracy_score': 0.9993445923013002, 'Recall_score': 0.7847222222222222}\n",
            "{'model_id': 'LGMB_3-5', 'n_estimators': 1000, 'max_depth': None, 'learning_rage': 0.5, 'Accuracy_score': 0.9993445923013002, 'Recall_score': 0.7847222222222222}\n",
            "CPU times: user 1min 7s, sys: 284 ms, total: 1min 7s\n",
            "Wall time: 34.5 s\n"
          ],
          "name": "stdout"
        }
      ]
    },
    {
      "cell_type": "markdown",
      "metadata": {
        "id": "bL5apZWpr8U8"
      },
      "source": [
        "### (2) max_depth 조정"
      ]
    },
    {
      "cell_type": "code",
      "metadata": {
        "colab": {
          "base_uri": "https://localhost:8080/"
        },
        "id": "H4YuMX2L0zUC",
        "outputId": "42553384-fd02-4575-dc5a-0c412840d018"
      },
      "source": [
        "%%time\r\n",
        "a = [2,3,5,9]\r\n",
        "\r\n",
        "for n in a:\r\n",
        "  model_name = 'LGMB_3-'+str(index)\r\n",
        "  index += 1\r\n",
        "  res = lightGBM(model_name, X, y, n_est= 300, md=n)\r\n",
        "  print(res)\r\n",
        "  DF_res_lgbm = DF_res_lgbm.append(res, ignore_index=True)"
      ],
      "execution_count": null,
      "outputs": [
        {
          "output_type": "stream",
          "text": [
            "{'model_id': 'LGMB_3-6', 'n_estimators': 300, 'max_depth': 2, 'learning_rage': 0.5, 'Accuracy_score': 0.9992743700478681, 'Recall_score': 0.7430555555555556}\n",
            "{'model_id': 'LGMB_3-7', 'n_estimators': 300, 'max_depth': 3, 'learning_rage': 0.5, 'Accuracy_score': 0.9993328885923949, 'Recall_score': 0.7847222222222222}\n",
            "{'model_id': 'LGMB_3-8', 'n_estimators': 300, 'max_depth': 5, 'learning_rage': 0.5, 'Accuracy_score': 0.9992275552122467, 'Recall_score': 0.75}\n",
            "{'model_id': 'LGMB_3-9', 'n_estimators': 300, 'max_depth': 9, 'learning_rage': 0.5, 'Accuracy_score': 0.9993445923013002, 'Recall_score': 0.7916666666666666}\n",
            "CPU times: user 35 s, sys: 132 ms, total: 35.2 s\n",
            "Wall time: 18.2 s\n"
          ],
          "name": "stdout"
        }
      ]
    },
    {
      "cell_type": "code",
      "metadata": {
        "colab": {
          "base_uri": "https://localhost:8080/"
        },
        "id": "23eNp-Emz2ij",
        "outputId": "a2c8ea77-871f-4489-c3b9-28dc76ef6fe3"
      },
      "source": [
        "%%time\r\n",
        "a = [11, 15]\r\n",
        "\r\n",
        "for n in a:\r\n",
        "  model_name = 'LGMB_3-'+str(index)\r\n",
        "  index += 1\r\n",
        "  res = lightGBM(model_name, X, y, n_est= 300, md=n)\r\n",
        "  print(res)\r\n",
        "  DF_res_lgbm = DF_res_lgbm.append(res, ignore_index=True)"
      ],
      "execution_count": null,
      "outputs": [
        {
          "output_type": "stream",
          "text": [
            "{'model_id': 'LGMB_3-10', 'n_estimators': 300, 'max_depth': 11, 'learning_rage': 0.5, 'Accuracy_score': 0.9992509626300574, 'Recall_score': 0.7847222222222222}\n",
            "{'model_id': 'LGMB_3-11', 'n_estimators': 300, 'max_depth': 15, 'learning_rage': 0.5, 'Accuracy_score': 0.9992977774656788, 'Recall_score': 0.7847222222222222}\n",
            "CPU times: user 24.6 s, sys: 111 ms, total: 24.8 s\n",
            "Wall time: 12.8 s\n"
          ],
          "name": "stdout"
        }
      ]
    },
    {
      "cell_type": "markdown",
      "metadata": {
        "id": "W1ezS9VXr8U8"
      },
      "source": [
        "### (3) Learning_rate 조정"
      ]
    },
    {
      "cell_type": "code",
      "metadata": {
        "colab": {
          "base_uri": "https://localhost:8080/"
        },
        "id": "K6g8tvv52oX5",
        "outputId": "ebc3ce25-4507-40da-9376-5384f425c69c"
      },
      "source": [
        "%%time\r\n",
        "\r\n",
        "a = [0.001, 0.01]\r\n",
        "for n in a:\r\n",
        "  model_name = 'LGMB_3-'+str(index)\r\n",
        "  index += 1\r\n",
        "  res = lightGBM(model_name, X, y, n_est= 300, md=9, lr=0.1)\r\n",
        "  print(res)\r\n",
        "  DF_res_lgbm = DF_res_lgbm.append(res, ignore_index=True)"
      ],
      "execution_count": null,
      "outputs": [
        {
          "output_type": "stream",
          "text": [
            "{'model_id': 'LGMB_3-12', 'n_estimators': 300, 'max_depth': 9, 'learning_rage': 0.1, 'Accuracy_score': 0.9993797034280163, 'Recall_score': 0.7638888888888888}\n",
            "{'model_id': 'LGMB_3-13', 'n_estimators': 300, 'max_depth': 9, 'learning_rage': 0.1, 'Accuracy_score': 0.9993797034280163, 'Recall_score': 0.7638888888888888}\n",
            "CPU times: user 23.4 s, sys: 132 ms, total: 23.5 s\n",
            "Wall time: 12.2 s\n"
          ],
          "name": "stdout"
        }
      ]
    },
    {
      "cell_type": "code",
      "metadata": {
        "colab": {
          "base_uri": "https://localhost:8080/"
        },
        "id": "g3Jzmwv11CE6",
        "outputId": "3252aa1e-c5f3-437a-9182-7d8799fee6a9"
      },
      "source": [
        "%%time\r\n",
        "\r\n",
        "a = [0.1,0.3,0.7,0.9]\r\n",
        "for n in a:\r\n",
        "  model_name = 'LGMB_3-'+str(index)\r\n",
        "  index += 1\r\n",
        "  res = lightGBM(model_name, X, y, n_est= 300, md=9, lr=0.1)\r\n",
        "  print(res)\r\n",
        "  DF_res_lgbm = DF_res_lgbm.append(res, ignore_index=True)"
      ],
      "execution_count": null,
      "outputs": [
        {
          "output_type": "stream",
          "text": [
            "{'model_id': 'LGMB_3-14', 'n_estimators': 300, 'max_depth': 9, 'learning_rage': 0.1, 'Accuracy_score': 0.9993797034280163, 'Recall_score': 0.7638888888888888}\n",
            "{'model_id': 'LGMB_3-15', 'n_estimators': 300, 'max_depth': 9, 'learning_rage': 0.1, 'Accuracy_score': 0.9993797034280163, 'Recall_score': 0.7638888888888888}\n",
            "{'model_id': 'LGMB_3-16', 'n_estimators': 300, 'max_depth': 9, 'learning_rage': 0.1, 'Accuracy_score': 0.9993797034280163, 'Recall_score': 0.7638888888888888}\n",
            "{'model_id': 'LGMB_3-17', 'n_estimators': 300, 'max_depth': 9, 'learning_rage': 0.1, 'Accuracy_score': 0.9993797034280163, 'Recall_score': 0.7638888888888888}\n",
            "CPU times: user 47.1 s, sys: 215 ms, total: 47.3 s\n",
            "Wall time: 24.4 s\n"
          ],
          "name": "stdout"
        }
      ]
    },
    {
      "cell_type": "markdown",
      "metadata": {
        "id": "dvg3noS92pNR"
      },
      "source": [
        "#### recall_score 변동없음"
      ]
    },
    {
      "cell_type": "markdown",
      "metadata": {
        "id": "DMw26Tnkr8U8"
      },
      "source": [
        "### (4) recall 비교"
      ]
    },
    {
      "cell_type": "code",
      "metadata": {
        "colab": {
          "base_uri": "https://localhost:8080/",
          "height": 949
        },
        "id": "vcXqIOrT4uNh",
        "outputId": "3e845f17-6e85-4f73-85dd-a6e38610f52b"
      },
      "source": [
        "DF_res_lgbm.sort_values(by='Recall_score', ascending=False)"
      ],
      "execution_count": null,
      "outputs": [
        {
          "output_type": "execute_result",
          "data": {
            "text/html": [
              "<div>\n",
              "<style scoped>\n",
              "    .dataframe tbody tr th:only-of-type {\n",
              "        vertical-align: middle;\n",
              "    }\n",
              "\n",
              "    .dataframe tbody tr th {\n",
              "        vertical-align: top;\n",
              "    }\n",
              "\n",
              "    .dataframe thead th {\n",
              "        text-align: right;\n",
              "    }\n",
              "</style>\n",
              "<table border=\"1\" class=\"dataframe\">\n",
              "  <thead>\n",
              "    <tr style=\"text-align: right;\">\n",
              "      <th></th>\n",
              "      <th>model_id</th>\n",
              "      <th>n_estimators</th>\n",
              "      <th>max_features</th>\n",
              "      <th>max_depth</th>\n",
              "      <th>Accuracy_score</th>\n",
              "      <th>Recall_score</th>\n",
              "      <th>learning_rage</th>\n",
              "    </tr>\n",
              "  </thead>\n",
              "  <tbody>\n",
              "    <tr>\n",
              "      <th>27</th>\n",
              "      <td>LGMB_3-8</td>\n",
              "      <td>300</td>\n",
              "      <td>NaN</td>\n",
              "      <td>9</td>\n",
              "      <td>0.999345</td>\n",
              "      <td>0.791667</td>\n",
              "      <td>0.5</td>\n",
              "    </tr>\n",
              "    <tr>\n",
              "      <th>11</th>\n",
              "      <td>LGMB_3-9</td>\n",
              "      <td>300</td>\n",
              "      <td>NaN</td>\n",
              "      <td>9</td>\n",
              "      <td>0.999345</td>\n",
              "      <td>0.791667</td>\n",
              "      <td>0.5</td>\n",
              "    </tr>\n",
              "    <tr>\n",
              "      <th>29</th>\n",
              "      <td>LGMB_3-10</td>\n",
              "      <td>300</td>\n",
              "      <td>NaN</td>\n",
              "      <td>15</td>\n",
              "      <td>0.999298</td>\n",
              "      <td>0.784722</td>\n",
              "      <td>0.5</td>\n",
              "    </tr>\n",
              "    <tr>\n",
              "      <th>22</th>\n",
              "      <td>LGMB_3-3</td>\n",
              "      <td>300</td>\n",
              "      <td>NaN</td>\n",
              "      <td>None</td>\n",
              "      <td>0.999309</td>\n",
              "      <td>0.784722</td>\n",
              "      <td>0.5</td>\n",
              "    </tr>\n",
              "    <tr>\n",
              "      <th>23</th>\n",
              "      <td>LGMB_3-4</td>\n",
              "      <td>500</td>\n",
              "      <td>NaN</td>\n",
              "      <td>None</td>\n",
              "      <td>0.999345</td>\n",
              "      <td>0.784722</td>\n",
              "      <td>0.5</td>\n",
              "    </tr>\n",
              "    <tr>\n",
              "      <th>13</th>\n",
              "      <td>LGMB_3-11</td>\n",
              "      <td>300</td>\n",
              "      <td>NaN</td>\n",
              "      <td>15</td>\n",
              "      <td>0.999298</td>\n",
              "      <td>0.784722</td>\n",
              "      <td>0.5</td>\n",
              "    </tr>\n",
              "    <tr>\n",
              "      <th>12</th>\n",
              "      <td>LGMB_3-10</td>\n",
              "      <td>300</td>\n",
              "      <td>NaN</td>\n",
              "      <td>11</td>\n",
              "      <td>0.999251</td>\n",
              "      <td>0.784722</td>\n",
              "      <td>0.5</td>\n",
              "    </tr>\n",
              "    <tr>\n",
              "      <th>25</th>\n",
              "      <td>LGMB_3-6</td>\n",
              "      <td>300</td>\n",
              "      <td>NaN</td>\n",
              "      <td>3</td>\n",
              "      <td>0.999333</td>\n",
              "      <td>0.784722</td>\n",
              "      <td>0.5</td>\n",
              "    </tr>\n",
              "    <tr>\n",
              "      <th>9</th>\n",
              "      <td>LGMB_3-7</td>\n",
              "      <td>300</td>\n",
              "      <td>NaN</td>\n",
              "      <td>3</td>\n",
              "      <td>0.999333</td>\n",
              "      <td>0.784722</td>\n",
              "      <td>0.5</td>\n",
              "    </tr>\n",
              "    <tr>\n",
              "      <th>7</th>\n",
              "      <td>LGMB_3-5</td>\n",
              "      <td>1000</td>\n",
              "      <td>NaN</td>\n",
              "      <td>None</td>\n",
              "      <td>0.999345</td>\n",
              "      <td>0.784722</td>\n",
              "      <td>0.5</td>\n",
              "    </tr>\n",
              "    <tr>\n",
              "      <th>6</th>\n",
              "      <td>LGMB_3-4</td>\n",
              "      <td>500</td>\n",
              "      <td>NaN</td>\n",
              "      <td>None</td>\n",
              "      <td>0.999345</td>\n",
              "      <td>0.784722</td>\n",
              "      <td>0.5</td>\n",
              "    </tr>\n",
              "    <tr>\n",
              "      <th>5</th>\n",
              "      <td>LGMB_3-3</td>\n",
              "      <td>300</td>\n",
              "      <td>NaN</td>\n",
              "      <td>None</td>\n",
              "      <td>0.999309</td>\n",
              "      <td>0.784722</td>\n",
              "      <td>0.5</td>\n",
              "    </tr>\n",
              "    <tr>\n",
              "      <th>28</th>\n",
              "      <td>LGMB_3-9</td>\n",
              "      <td>300</td>\n",
              "      <td>NaN</td>\n",
              "      <td>11</td>\n",
              "      <td>0.999251</td>\n",
              "      <td>0.784722</td>\n",
              "      <td>0.5</td>\n",
              "    </tr>\n",
              "    <tr>\n",
              "      <th>4</th>\n",
              "      <td>LGMB_3-2</td>\n",
              "      <td>100</td>\n",
              "      <td>NaN</td>\n",
              "      <td>None</td>\n",
              "      <td>0.999274</td>\n",
              "      <td>0.770833</td>\n",
              "      <td>0.5</td>\n",
              "    </tr>\n",
              "    <tr>\n",
              "      <th>3</th>\n",
              "      <td>LGMB_3-1</td>\n",
              "      <td>50</td>\n",
              "      <td>NaN</td>\n",
              "      <td>None</td>\n",
              "      <td>0.999274</td>\n",
              "      <td>0.770833</td>\n",
              "      <td>0.5</td>\n",
              "    </tr>\n",
              "    <tr>\n",
              "      <th>21</th>\n",
              "      <td>LGMB_3-2</td>\n",
              "      <td>100</td>\n",
              "      <td>NaN</td>\n",
              "      <td>None</td>\n",
              "      <td>0.999274</td>\n",
              "      <td>0.770833</td>\n",
              "      <td>0.5</td>\n",
              "    </tr>\n",
              "    <tr>\n",
              "      <th>20</th>\n",
              "      <td>LGMB_3-1</td>\n",
              "      <td>50</td>\n",
              "      <td>NaN</td>\n",
              "      <td>None</td>\n",
              "      <td>0.999274</td>\n",
              "      <td>0.770833</td>\n",
              "      <td>0.5</td>\n",
              "    </tr>\n",
              "    <tr>\n",
              "      <th>19</th>\n",
              "      <td>LGMB_3-17</td>\n",
              "      <td>300</td>\n",
              "      <td>NaN</td>\n",
              "      <td>9</td>\n",
              "      <td>0.999380</td>\n",
              "      <td>0.763889</td>\n",
              "      <td>0.1</td>\n",
              "    </tr>\n",
              "    <tr>\n",
              "      <th>15</th>\n",
              "      <td>LGMB_3-13</td>\n",
              "      <td>300</td>\n",
              "      <td>NaN</td>\n",
              "      <td>9</td>\n",
              "      <td>0.999380</td>\n",
              "      <td>0.763889</td>\n",
              "      <td>0.1</td>\n",
              "    </tr>\n",
              "    <tr>\n",
              "      <th>18</th>\n",
              "      <td>LGMB_3-16</td>\n",
              "      <td>300</td>\n",
              "      <td>NaN</td>\n",
              "      <td>9</td>\n",
              "      <td>0.999380</td>\n",
              "      <td>0.763889</td>\n",
              "      <td>0.1</td>\n",
              "    </tr>\n",
              "    <tr>\n",
              "      <th>17</th>\n",
              "      <td>LGMB_3-15</td>\n",
              "      <td>300</td>\n",
              "      <td>NaN</td>\n",
              "      <td>9</td>\n",
              "      <td>0.999380</td>\n",
              "      <td>0.763889</td>\n",
              "      <td>0.1</td>\n",
              "    </tr>\n",
              "    <tr>\n",
              "      <th>16</th>\n",
              "      <td>LGMB_3-14</td>\n",
              "      <td>300</td>\n",
              "      <td>NaN</td>\n",
              "      <td>9</td>\n",
              "      <td>0.999380</td>\n",
              "      <td>0.763889</td>\n",
              "      <td>0.1</td>\n",
              "    </tr>\n",
              "    <tr>\n",
              "      <th>14</th>\n",
              "      <td>LGMB_3-12</td>\n",
              "      <td>300</td>\n",
              "      <td>NaN</td>\n",
              "      <td>9</td>\n",
              "      <td>0.999380</td>\n",
              "      <td>0.763889</td>\n",
              "      <td>0.1</td>\n",
              "    </tr>\n",
              "    <tr>\n",
              "      <th>10</th>\n",
              "      <td>LGMB_3-8</td>\n",
              "      <td>300</td>\n",
              "      <td>NaN</td>\n",
              "      <td>5</td>\n",
              "      <td>0.999228</td>\n",
              "      <td>0.750000</td>\n",
              "      <td>0.5</td>\n",
              "    </tr>\n",
              "    <tr>\n",
              "      <th>26</th>\n",
              "      <td>LGMB_3-7</td>\n",
              "      <td>300</td>\n",
              "      <td>NaN</td>\n",
              "      <td>5</td>\n",
              "      <td>0.999228</td>\n",
              "      <td>0.750000</td>\n",
              "      <td>0.5</td>\n",
              "    </tr>\n",
              "    <tr>\n",
              "      <th>24</th>\n",
              "      <td>LGMB_3-5</td>\n",
              "      <td>300</td>\n",
              "      <td>NaN</td>\n",
              "      <td>2</td>\n",
              "      <td>0.999274</td>\n",
              "      <td>0.743056</td>\n",
              "      <td>0.5</td>\n",
              "    </tr>\n",
              "    <tr>\n",
              "      <th>8</th>\n",
              "      <td>LGMB_3-6</td>\n",
              "      <td>300</td>\n",
              "      <td>NaN</td>\n",
              "      <td>2</td>\n",
              "      <td>0.999274</td>\n",
              "      <td>0.743056</td>\n",
              "      <td>0.5</td>\n",
              "    </tr>\n",
              "    <tr>\n",
              "      <th>1</th>\n",
              "      <td>LGMB_1-2</td>\n",
              "      <td>100</td>\n",
              "      <td>NaN</td>\n",
              "      <td>None</td>\n",
              "      <td>0.998315</td>\n",
              "      <td>0.000000</td>\n",
              "      <td>0.5</td>\n",
              "    </tr>\n",
              "    <tr>\n",
              "      <th>2</th>\n",
              "      <td>LGMB_1-3</td>\n",
              "      <td>300</td>\n",
              "      <td>NaN</td>\n",
              "      <td>None</td>\n",
              "      <td>0.998315</td>\n",
              "      <td>0.000000</td>\n",
              "      <td>0.5</td>\n",
              "    </tr>\n",
              "    <tr>\n",
              "      <th>0</th>\n",
              "      <td>LGMB_1-1</td>\n",
              "      <td>50</td>\n",
              "      <td>NaN</td>\n",
              "      <td>None</td>\n",
              "      <td>0.998315</td>\n",
              "      <td>0.000000</td>\n",
              "      <td>0.5</td>\n",
              "    </tr>\n",
              "  </tbody>\n",
              "</table>\n",
              "</div>"
            ],
            "text/plain": [
              "     model_id n_estimators  ...  Recall_score learning_rage\n",
              "27   LGMB_3-8          300  ...      0.791667           0.5\n",
              "11   LGMB_3-9          300  ...      0.791667           0.5\n",
              "29  LGMB_3-10          300  ...      0.784722           0.5\n",
              "22   LGMB_3-3          300  ...      0.784722           0.5\n",
              "23   LGMB_3-4          500  ...      0.784722           0.5\n",
              "13  LGMB_3-11          300  ...      0.784722           0.5\n",
              "12  LGMB_3-10          300  ...      0.784722           0.5\n",
              "25   LGMB_3-6          300  ...      0.784722           0.5\n",
              "9    LGMB_3-7          300  ...      0.784722           0.5\n",
              "7    LGMB_3-5         1000  ...      0.784722           0.5\n",
              "6    LGMB_3-4          500  ...      0.784722           0.5\n",
              "5    LGMB_3-3          300  ...      0.784722           0.5\n",
              "28   LGMB_3-9          300  ...      0.784722           0.5\n",
              "4    LGMB_3-2          100  ...      0.770833           0.5\n",
              "3    LGMB_3-1           50  ...      0.770833           0.5\n",
              "21   LGMB_3-2          100  ...      0.770833           0.5\n",
              "20   LGMB_3-1           50  ...      0.770833           0.5\n",
              "19  LGMB_3-17          300  ...      0.763889           0.1\n",
              "15  LGMB_3-13          300  ...      0.763889           0.1\n",
              "18  LGMB_3-16          300  ...      0.763889           0.1\n",
              "17  LGMB_3-15          300  ...      0.763889           0.1\n",
              "16  LGMB_3-14          300  ...      0.763889           0.1\n",
              "14  LGMB_3-12          300  ...      0.763889           0.1\n",
              "10   LGMB_3-8          300  ...      0.750000           0.5\n",
              "26   LGMB_3-7          300  ...      0.750000           0.5\n",
              "24   LGMB_3-5          300  ...      0.743056           0.5\n",
              "8    LGMB_3-6          300  ...      0.743056           0.5\n",
              "1    LGMB_1-2          100  ...      0.000000           0.5\n",
              "2    LGMB_1-3          300  ...      0.000000           0.5\n",
              "0    LGMB_1-1           50  ...      0.000000           0.5\n",
              "\n",
              "[30 rows x 7 columns]"
            ]
          },
          "metadata": {
            "tags": []
          },
          "execution_count": 132
        }
      ]
    },
    {
      "cell_type": "markdown",
      "metadata": {
        "id": "6z_JfKmzr8U8"
      },
      "source": [
        "### (5) Feature Importances"
      ]
    },
    {
      "cell_type": "code",
      "metadata": {
        "colab": {
          "base_uri": "https://localhost:8080/",
          "height": 462
        },
        "id": "CfF2RL_s4ykg",
        "outputId": "190db02b-19bb-456f-8eed-e301cc3411d3"
      },
      "source": [
        "res = lightGBM('RF', X, y, n_est=300, md=9, lr=0.5, visualFeature=True)\r\n",
        "print(res)"
      ],
      "execution_count": null,
      "outputs": [
        {
          "output_type": "stream",
          "text": [
            "/usr/local/lib/python3.7/dist-packages/seaborn/_decorators.py:43: FutureWarning: Pass the following variables as keyword args: x, y. From version 0.12, the only valid positional argument will be `data`, and passing other arguments without an explicit keyword will result in an error or misinterpretation.\n",
            "  FutureWarning\n"
          ],
          "name": "stderr"
        },
        {
          "output_type": "display_data",
          "data": {
            "image/png": "[encoded data removed]",
            "text/plain": [
              "<Figure size 648x432 with 1 Axes>"
            ]
          },
          "metadata": {
            "tags": [],
            "needs_background": "light"
          }
        },
        {
          "output_type": "stream",
          "text": [
            "{'model_id': 'RF', 'n_estimators': 300, 'max_depth': 9, 'learning_rage': 0.5, 'Accuracy_score': 0.9993445923013002, 'Recall_score': 0.7916666666666666}\n"
          ],
          "name": "stdout"
        }
      ]
    },
    {
      "cell_type": "markdown",
      "metadata": {
        "id": "qJfCRpQF7hZg"
      },
      "source": [
        "# 6, recall_score 비교"
      ]
    },
    {
      "cell_type": "code",
      "metadata": {
        "colab": {
          "base_uri": "https://localhost:8080/",
          "height": 138
        },
        "id": "cmXdMIQi7kue",
        "outputId": "1f648ad9-0af4-45aa-a94c-9e2c75f8edc7"
      },
      "source": [
        "DF_res_rf.sort_values(by='Recall_score', ascending=False).head(3)"
      ],
      "execution_count": null,
      "outputs": [
        {
          "output_type": "execute_result",
          "data": {
            "text/html": [
              "<div>\n",
              "<style scoped>\n",
              "    .dataframe tbody tr th:only-of-type {\n",
              "        vertical-align: middle;\n",
              "    }\n",
              "\n",
              "    .dataframe tbody tr th {\n",
              "        vertical-align: top;\n",
              "    }\n",
              "\n",
              "    .dataframe thead th {\n",
              "        text-align: right;\n",
              "    }\n",
              "</style>\n",
              "<table border=\"1\" class=\"dataframe\">\n",
              "  <thead>\n",
              "    <tr style=\"text-align: right;\">\n",
              "      <th></th>\n",
              "      <th>model_id</th>\n",
              "      <th>n_estimators</th>\n",
              "      <th>max_features</th>\n",
              "      <th>max_depth</th>\n",
              "      <th>Accuracy_score</th>\n",
              "      <th>Recall_score</th>\n",
              "    </tr>\n",
              "  </thead>\n",
              "  <tbody>\n",
              "    <tr>\n",
              "      <th>16</th>\n",
              "      <td>RF_3-8</td>\n",
              "      <td>300</td>\n",
              "      <td>1</td>\n",
              "      <td>9</td>\n",
              "      <td>0.999532</td>\n",
              "      <td>0.805556</td>\n",
              "    </tr>\n",
              "    <tr>\n",
              "      <th>15</th>\n",
              "      <td>RF_3-7</td>\n",
              "      <td>300</td>\n",
              "      <td>auto</td>\n",
              "      <td>9</td>\n",
              "      <td>0.999532</td>\n",
              "      <td>0.805556</td>\n",
              "    </tr>\n",
              "    <tr>\n",
              "      <th>9</th>\n",
              "      <td>RF_3-3</td>\n",
              "      <td>300</td>\n",
              "      <td>auto</td>\n",
              "      <td>None</td>\n",
              "      <td>0.999520</td>\n",
              "      <td>0.791667</td>\n",
              "    </tr>\n",
              "  </tbody>\n",
              "</table>\n",
              "</div>"
            ],
            "text/plain": [
              "   model_id n_estimators max_features max_depth  Accuracy_score  Recall_score\n",
              "16   RF_3-8          300            1         9        0.999532      0.805556\n",
              "15   RF_3-7          300         auto         9        0.999532      0.805556\n",
              "9    RF_3-3          300         auto      None        0.999520      0.791667"
            ]
          },
          "metadata": {
            "tags": []
          },
          "execution_count": 134
        }
      ]
    },
    {
      "cell_type": "code",
      "metadata": {
        "colab": {
          "base_uri": "https://localhost:8080/",
          "height": 138
        },
        "id": "lPym3mM07qNK",
        "outputId": "1f2488f6-8e0a-40b6-e877-0de9bb4f8c60"
      },
      "source": [
        "DF_res_lgbm.sort_values(by='Recall_score',  ascending=False).head(3)"
      ],
      "execution_count": null,
      "outputs": [
        {
          "output_type": "execute_result",
          "data": {
            "text/html": [
              "<div>\n",
              "<style scoped>\n",
              "    .dataframe tbody tr th:only-of-type {\n",
              "        vertical-align: middle;\n",
              "    }\n",
              "\n",
              "    .dataframe tbody tr th {\n",
              "        vertical-align: top;\n",
              "    }\n",
              "\n",
              "    .dataframe thead th {\n",
              "        text-align: right;\n",
              "    }\n",
              "</style>\n",
              "<table border=\"1\" class=\"dataframe\">\n",
              "  <thead>\n",
              "    <tr style=\"text-align: right;\">\n",
              "      <th></th>\n",
              "      <th>model_id</th>\n",
              "      <th>n_estimators</th>\n",
              "      <th>max_features</th>\n",
              "      <th>max_depth</th>\n",
              "      <th>Accuracy_score</th>\n",
              "      <th>Recall_score</th>\n",
              "      <th>learning_rage</th>\n",
              "    </tr>\n",
              "  </thead>\n",
              "  <tbody>\n",
              "    <tr>\n",
              "      <th>27</th>\n",
              "      <td>LGMB_3-8</td>\n",
              "      <td>300</td>\n",
              "      <td>NaN</td>\n",
              "      <td>9</td>\n",
              "      <td>0.999345</td>\n",
              "      <td>0.791667</td>\n",
              "      <td>0.5</td>\n",
              "    </tr>\n",
              "    <tr>\n",
              "      <th>11</th>\n",
              "      <td>LGMB_3-9</td>\n",
              "      <td>300</td>\n",
              "      <td>NaN</td>\n",
              "      <td>9</td>\n",
              "      <td>0.999345</td>\n",
              "      <td>0.791667</td>\n",
              "      <td>0.5</td>\n",
              "    </tr>\n",
              "    <tr>\n",
              "      <th>29</th>\n",
              "      <td>LGMB_3-10</td>\n",
              "      <td>300</td>\n",
              "      <td>NaN</td>\n",
              "      <td>15</td>\n",
              "      <td>0.999298</td>\n",
              "      <td>0.784722</td>\n",
              "      <td>0.5</td>\n",
              "    </tr>\n",
              "  </tbody>\n",
              "</table>\n",
              "</div>"
            ],
            "text/plain": [
              "     model_id n_estimators  ...  Recall_score learning_rage\n",
              "27   LGMB_3-8          300  ...      0.791667           0.5\n",
              "11   LGMB_3-9          300  ...      0.791667           0.5\n",
              "29  LGMB_3-10          300  ...      0.784722           0.5\n",
              "\n",
              "[3 rows x 7 columns]"
            ]
          },
          "metadata": {
            "tags": []
          },
          "execution_count": 135
        }
      ]
    },
    {
      "cell_type": "code",
      "metadata": {
        "id": "lrxw6qfY86m3"
      },
      "source": [
        "Recall = "
      ],
      "execution_count": null,
      "outputs": []
    }
  ]
}