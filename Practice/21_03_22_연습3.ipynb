{
  "nbformat": 4,
  "nbformat_minor": 0,
  "metadata": {
    "colab": {
      "name": "Untitled0.ipynb",
      "provenance": []
    },
    "kernelspec": {
      "name": "python3",
      "display_name": "Python 3"
    },
    "language_info": {
      "name": "python"
    },
    "accelerator": "GPU"
  },
  "cells": [
    {
      "cell_type": "code",
      "metadata": {
        "id": "iwh7q0ABoSVA"
      },
      "source": [
        "from keras.datasets import mnist\n",
        "\n",
        "(X_train, y_train), (X_test, y_test) = mnist.load_data()"
      ],
      "execution_count": null,
      "outputs": []
    },
    {
      "cell_type": "code",
      "metadata": {
        "colab": {
          "base_uri": "https://localhost:8080/"
        },
        "id": "hM6T3OIW4_Mj",
        "outputId": "7a3b1dd7-80d3-4db3-86c8-52858f5c0c70"
      },
      "source": [
        "X_train = X_train.reshape((60000,28,28,1))\n",
        "X_test = X_test.reshape((10000, 28,28,1))\n",
        "X_train.shape, X_test.shape"
      ],
      "execution_count": null,
      "outputs": [
        {
          "output_type": "execute_result",
          "data": {
            "text/plain": [
              "((60000, 28, 28, 1), (10000, 28, 28, 1))"
            ]
          },
          "metadata": {
            "tags": []
          },
          "execution_count": 5
        }
      ]
    },
    {
      "cell_type": "code",
      "metadata": {
        "id": "mkj_Ptwxofrb"
      },
      "source": [
        "X_train = X_train.astype(float)/255\n",
        "X_test = X_test.astype(float) / 255"
      ],
      "execution_count": null,
      "outputs": []
    },
    {
      "cell_type": "code",
      "metadata": {
        "id": "yxzBBCj6otmh"
      },
      "source": [
        "from keras.utils import to_categorical\n",
        "\n",
        "y_train = to_categorical(y_train)\n",
        "y_test = to_categorical(y_test)"
      ],
      "execution_count": null,
      "outputs": []
    },
    {
      "cell_type": "code",
      "metadata": {
        "id": "OqFJSvRaqFKT"
      },
      "source": [
        "from sklearn.model_selection import train_test_split\n",
        "\n",
        "X_train, X_valid, y_train, y_valid = train_test_split(X_train, y_train, test_size=0.2, random_state=2045)"
      ],
      "execution_count": null,
      "outputs": []
    },
    {
      "cell_type": "code",
      "metadata": {
        "colab": {
          "base_uri": "https://localhost:8080/"
        },
        "id": "b5d87brj0N-V",
        "outputId": "16b3104a-fdf6-4b7f-9c85-aef54eaa0bac"
      },
      "source": [
        "X_train.shape, X_valid.shape, y_train.shape, y_valid.shape"
      ],
      "execution_count": null,
      "outputs": [
        {
          "output_type": "execute_result",
          "data": {
            "text/plain": [
              "((48000, 28, 28, 1), (12000, 28, 28, 1), (48000, 10), (12000, 10))"
            ]
          },
          "metadata": {
            "tags": []
          },
          "execution_count": 9
        }
      ]
    },
    {
      "cell_type": "code",
      "metadata": {
        "colab": {
          "base_uri": "https://localhost:8080/"
        },
        "id": "UOQiTI0KqTTL",
        "outputId": "3c5b218b-ffe2-4a22-b75d-128f1e05648b"
      },
      "source": [
        "from keras import models, layers\n",
        "\n",
        "model = models.Sequential()\n",
        "model.add(layers.Conv2D(filters=32, kernel_size=(3,3), activation='relu', input_shape=(28,28,1)))\n",
        "model.add(layers.MaxPool2D(pool_size=(2,2)))\n",
        "\n",
        "model.add(layers.Conv2D(filters=64, kernel_size=(3,3), activation='relu'))\n",
        "model.add(layers.MaxPool2D(pool_size=(2,2)))\n",
        "\n",
        "model.add(layers.Conv2D(filters=64, kernel_size=(3,3), activation='relu'))\n",
        "\n",
        "model.add(layers.Flatten())\n",
        "model.add(layers.Dense(64, activation='relu'))\n",
        "model.add(layers.Dense(10, activation='softmax'))\n",
        "\n",
        "model.summary()"
      ],
      "execution_count": null,
      "outputs": [
        {
          "output_type": "stream",
          "text": [
            "Model: \"sequential\"\n",
            "_________________________________________________________________\n",
            "Layer (type)                 Output Shape              Param #   \n",
            "=================================================================\n",
            "conv2d (Conv2D)              (None, 26, 26, 32)        320       \n",
            "_________________________________________________________________\n",
            "max_pooling2d (MaxPooling2D) (None, 13, 13, 32)        0         \n",
            "_________________________________________________________________\n",
            "conv2d_1 (Conv2D)            (None, 11, 11, 64)        18496     \n",
            "_________________________________________________________________\n",
            "max_pooling2d_1 (MaxPooling2 (None, 5, 5, 64)          0         \n",
            "_________________________________________________________________\n",
            "conv2d_2 (Conv2D)            (None, 3, 3, 64)          36928     \n",
            "_________________________________________________________________\n",
            "flatten (Flatten)            (None, 576)               0         \n",
            "_________________________________________________________________\n",
            "dense (Dense)                (None, 64)                36928     \n",
            "_________________________________________________________________\n",
            "dense_1 (Dense)              (None, 10)                650       \n",
            "=================================================================\n",
            "Total params: 93,322\n",
            "Trainable params: 93,322\n",
            "Non-trainable params: 0\n",
            "_________________________________________________________________\n"
          ],
          "name": "stdout"
        }
      ]
    },
    {
      "cell_type": "code",
      "metadata": {
        "colab": {
          "base_uri": "https://localhost:8080/"
        },
        "id": "6EK9IBxjtjZ7",
        "outputId": "ff98a144-2c06-4bf4-cb6f-bcaac0cc182e"
      },
      "source": [
        "model.compile(loss='categorical_crossentropy', optimizer='rmsprop', metrics=['accuracy'])\n",
        "\n",
        "Hist = model.fit(X_train, y_train, epochs=100, batch_size=128,  validation_data=(X_valid, y_valid))"
      ],
      "execution_count": null,
      "outputs": [
        {
          "output_type": "stream",
          "text": [
            "Epoch 1/100\n",
            "375/375 [==============================] - 35s 15ms/step - loss: 0.5950 - accuracy: 0.8117 - val_loss: 0.0882 - val_accuracy: 0.9736\n",
            "Epoch 2/100\n",
            "375/375 [==============================] - 5s 13ms/step - loss: 0.0632 - accuracy: 0.9806 - val_loss: 0.0676 - val_accuracy: 0.9792\n",
            "Epoch 3/100\n",
            "375/375 [==============================] - 5s 13ms/step - loss: 0.0403 - accuracy: 0.9866 - val_loss: 0.0539 - val_accuracy: 0.9847\n",
            "Epoch 4/100\n",
            "375/375 [==============================] - 5s 13ms/step - loss: 0.0316 - accuracy: 0.9896 - val_loss: 0.0384 - val_accuracy: 0.9887\n",
            "Epoch 5/100\n",
            "375/375 [==============================] - 5s 13ms/step - loss: 0.0245 - accuracy: 0.9926 - val_loss: 0.0440 - val_accuracy: 0.9883\n",
            "Epoch 6/100\n",
            "375/375 [==============================] - 5s 13ms/step - loss: 0.0177 - accuracy: 0.9943 - val_loss: 0.0427 - val_accuracy: 0.9896\n",
            "Epoch 7/100\n",
            "375/375 [==============================] - 5s 13ms/step - loss: 0.0130 - accuracy: 0.9958 - val_loss: 0.0420 - val_accuracy: 0.9901\n",
            "Epoch 8/100\n",
            "375/375 [==============================] - 5s 13ms/step - loss: 0.0102 - accuracy: 0.9970 - val_loss: 0.0429 - val_accuracy: 0.9906\n",
            "Epoch 9/100\n",
            "375/375 [==============================] - 5s 13ms/step - loss: 0.0101 - accuracy: 0.9966 - val_loss: 0.0423 - val_accuracy: 0.9914\n",
            "Epoch 10/100\n",
            "375/375 [==============================] - 5s 13ms/step - loss: 0.0072 - accuracy: 0.9977 - val_loss: 0.0490 - val_accuracy: 0.9908\n",
            "Epoch 11/100\n",
            "375/375 [==============================] - 5s 13ms/step - loss: 0.0063 - accuracy: 0.9980 - val_loss: 0.0486 - val_accuracy: 0.9914\n",
            "Epoch 12/100\n",
            "375/375 [==============================] - 5s 13ms/step - loss: 0.0069 - accuracy: 0.9979 - val_loss: 0.0465 - val_accuracy: 0.9917\n",
            "Epoch 13/100\n",
            "375/375 [==============================] - 5s 13ms/step - loss: 0.0050 - accuracy: 0.9985 - val_loss: 0.0586 - val_accuracy: 0.9894\n",
            "Epoch 14/100\n",
            "375/375 [==============================] - 5s 13ms/step - loss: 0.0045 - accuracy: 0.9985 - val_loss: 0.0559 - val_accuracy: 0.9916\n",
            "Epoch 15/100\n",
            "375/375 [==============================] - 5s 13ms/step - loss: 0.0035 - accuracy: 0.9990 - val_loss: 0.0550 - val_accuracy: 0.9902\n",
            "Epoch 16/100\n",
            "375/375 [==============================] - 5s 13ms/step - loss: 0.0026 - accuracy: 0.9993 - val_loss: 0.0732 - val_accuracy: 0.9895\n",
            "Epoch 17/100\n",
            "375/375 [==============================] - 5s 13ms/step - loss: 0.0030 - accuracy: 0.9989 - val_loss: 0.0651 - val_accuracy: 0.9902\n",
            "Epoch 18/100\n",
            "375/375 [==============================] - 5s 13ms/step - loss: 0.0034 - accuracy: 0.9990 - val_loss: 0.0744 - val_accuracy: 0.9906\n",
            "Epoch 19/100\n",
            "375/375 [==============================] - 5s 13ms/step - loss: 0.0036 - accuracy: 0.9992 - val_loss: 0.0650 - val_accuracy: 0.9900\n",
            "Epoch 20/100\n",
            "375/375 [==============================] - 5s 13ms/step - loss: 0.0022 - accuracy: 0.9993 - val_loss: 0.0813 - val_accuracy: 0.9901\n",
            "Epoch 21/100\n",
            "375/375 [==============================] - 5s 13ms/step - loss: 0.0019 - accuracy: 0.9992 - val_loss: 0.0779 - val_accuracy: 0.9905\n",
            "Epoch 22/100\n",
            "375/375 [==============================] - 5s 13ms/step - loss: 0.0019 - accuracy: 0.9994 - val_loss: 0.0789 - val_accuracy: 0.9901\n",
            "Epoch 23/100\n",
            "375/375 [==============================] - 5s 13ms/step - loss: 0.0024 - accuracy: 0.9995 - val_loss: 0.1012 - val_accuracy: 0.9892\n",
            "Epoch 24/100\n",
            "375/375 [==============================] - 5s 13ms/step - loss: 0.0019 - accuracy: 0.9995 - val_loss: 0.0902 - val_accuracy: 0.9903\n",
            "Epoch 25/100\n",
            "375/375 [==============================] - 5s 13ms/step - loss: 0.0014 - accuracy: 0.9995 - val_loss: 0.0909 - val_accuracy: 0.9905\n",
            "Epoch 26/100\n",
            "375/375 [==============================] - 5s 13ms/step - loss: 0.0019 - accuracy: 0.9995 - val_loss: 0.0841 - val_accuracy: 0.9890\n",
            "Epoch 27/100\n",
            "375/375 [==============================] - 5s 13ms/step - loss: 0.0021 - accuracy: 0.9994 - val_loss: 0.0853 - val_accuracy: 0.9899\n",
            "Epoch 28/100\n",
            "375/375 [==============================] - 5s 13ms/step - loss: 0.0012 - accuracy: 0.9997 - val_loss: 0.0929 - val_accuracy: 0.9899\n",
            "Epoch 29/100\n",
            "375/375 [==============================] - 5s 13ms/step - loss: 0.0017 - accuracy: 0.9997 - val_loss: 0.1080 - val_accuracy: 0.9898\n",
            "Epoch 30/100\n",
            "375/375 [==============================] - 5s 13ms/step - loss: 0.0017 - accuracy: 0.9996 - val_loss: 0.1076 - val_accuracy: 0.9902\n",
            "Epoch 31/100\n",
            "375/375 [==============================] - 5s 13ms/step - loss: 0.0018 - accuracy: 0.9995 - val_loss: 0.1194 - val_accuracy: 0.9906\n",
            "Epoch 32/100\n",
            "375/375 [==============================] - 5s 13ms/step - loss: 0.0010 - accuracy: 0.9996 - val_loss: 0.1084 - val_accuracy: 0.9901\n",
            "Epoch 33/100\n",
            "375/375 [==============================] - 5s 13ms/step - loss: 0.0012 - accuracy: 0.9997 - val_loss: 0.1127 - val_accuracy: 0.9907\n",
            "Epoch 34/100\n",
            "375/375 [==============================] - 5s 13ms/step - loss: 0.0015 - accuracy: 0.9995 - val_loss: 0.1061 - val_accuracy: 0.9909\n",
            "Epoch 35/100\n",
            "375/375 [==============================] - 5s 13ms/step - loss: 0.0013 - accuracy: 0.9997 - val_loss: 0.1171 - val_accuracy: 0.9905\n",
            "Epoch 36/100\n",
            "375/375 [==============================] - 5s 13ms/step - loss: 0.0023 - accuracy: 0.9992 - val_loss: 0.1082 - val_accuracy: 0.9898\n",
            "Epoch 37/100\n",
            "375/375 [==============================] - 5s 13ms/step - loss: 0.0013 - accuracy: 0.9996 - val_loss: 0.1285 - val_accuracy: 0.9902\n",
            "Epoch 38/100\n",
            "375/375 [==============================] - 5s 13ms/step - loss: 0.0022 - accuracy: 0.9995 - val_loss: 0.1169 - val_accuracy: 0.9902\n",
            "Epoch 39/100\n",
            "375/375 [==============================] - 5s 13ms/step - loss: 8.4357e-04 - accuracy: 0.9998 - val_loss: 0.1282 - val_accuracy: 0.9901\n",
            "Epoch 40/100\n",
            "375/375 [==============================] - 5s 13ms/step - loss: 6.5553e-04 - accuracy: 0.9998 - val_loss: 0.1311 - val_accuracy: 0.9899\n",
            "Epoch 41/100\n",
            "375/375 [==============================] - 5s 13ms/step - loss: 0.0015 - accuracy: 0.9997 - val_loss: 0.1279 - val_accuracy: 0.9906\n",
            "Epoch 42/100\n",
            "375/375 [==============================] - 5s 13ms/step - loss: 0.0014 - accuracy: 0.9997 - val_loss: 0.1285 - val_accuracy: 0.9912\n",
            "Epoch 43/100\n",
            "375/375 [==============================] - 5s 13ms/step - loss: 7.1940e-04 - accuracy: 0.9996 - val_loss: 0.1316 - val_accuracy: 0.9908\n",
            "Epoch 44/100\n",
            "375/375 [==============================] - 5s 13ms/step - loss: 9.9402e-04 - accuracy: 0.9997 - val_loss: 0.1112 - val_accuracy: 0.9916\n",
            "Epoch 45/100\n",
            "375/375 [==============================] - 5s 13ms/step - loss: 4.2207e-04 - accuracy: 0.9999 - val_loss: 0.1362 - val_accuracy: 0.9904\n",
            "Epoch 46/100\n",
            "375/375 [==============================] - 5s 13ms/step - loss: 9.9445e-04 - accuracy: 0.9996 - val_loss: 0.1377 - val_accuracy: 0.9891\n",
            "Epoch 47/100\n",
            "375/375 [==============================] - 5s 13ms/step - loss: 7.2566e-04 - accuracy: 0.9998 - val_loss: 0.1383 - val_accuracy: 0.9914\n",
            "Epoch 48/100\n",
            "375/375 [==============================] - 5s 13ms/step - loss: 0.0011 - accuracy: 0.9995 - val_loss: 0.1627 - val_accuracy: 0.9906\n",
            "Epoch 49/100\n",
            "375/375 [==============================] - 5s 13ms/step - loss: 0.0016 - accuracy: 0.9996 - val_loss: 0.1413 - val_accuracy: 0.9906\n",
            "Epoch 50/100\n",
            "375/375 [==============================] - 5s 13ms/step - loss: 5.5801e-04 - accuracy: 0.9998 - val_loss: 0.1422 - val_accuracy: 0.9900\n",
            "Epoch 51/100\n",
            "375/375 [==============================] - 5s 13ms/step - loss: 8.3095e-04 - accuracy: 0.9997 - val_loss: 0.1463 - val_accuracy: 0.9908\n",
            "Epoch 52/100\n",
            "375/375 [==============================] - 5s 13ms/step - loss: 2.7053e-04 - accuracy: 0.9999 - val_loss: 0.1567 - val_accuracy: 0.9910\n",
            "Epoch 53/100\n",
            "375/375 [==============================] - 5s 13ms/step - loss: 9.6985e-04 - accuracy: 0.9998 - val_loss: 0.1563 - val_accuracy: 0.9904\n",
            "Epoch 54/100\n",
            "375/375 [==============================] - 5s 13ms/step - loss: 9.6299e-04 - accuracy: 0.9999 - val_loss: 0.1493 - val_accuracy: 0.9913\n",
            "Epoch 55/100\n",
            "375/375 [==============================] - 5s 13ms/step - loss: 6.5472e-04 - accuracy: 0.9999 - val_loss: 0.1545 - val_accuracy: 0.9912\n",
            "Epoch 56/100\n",
            "375/375 [==============================] - 5s 13ms/step - loss: 4.7486e-04 - accuracy: 0.9999 - val_loss: 0.1600 - val_accuracy: 0.9904\n",
            "Epoch 57/100\n",
            "375/375 [==============================] - 5s 13ms/step - loss: 0.0029 - accuracy: 0.9996 - val_loss: 0.1843 - val_accuracy: 0.9887\n",
            "Epoch 58/100\n",
            "375/375 [==============================] - 5s 13ms/step - loss: 4.1687e-04 - accuracy: 0.9998 - val_loss: 0.1720 - val_accuracy: 0.9893\n",
            "Epoch 59/100\n",
            "375/375 [==============================] - 5s 13ms/step - loss: 0.0012 - accuracy: 0.9996 - val_loss: 0.1780 - val_accuracy: 0.9905\n",
            "Epoch 60/100\n",
            "375/375 [==============================] - 5s 13ms/step - loss: 0.0016 - accuracy: 0.9997 - val_loss: 0.1448 - val_accuracy: 0.9907\n",
            "Epoch 61/100\n",
            "375/375 [==============================] - 5s 13ms/step - loss: 7.0023e-04 - accuracy: 0.9997 - val_loss: 0.1778 - val_accuracy: 0.9900\n",
            "Epoch 62/100\n",
            "375/375 [==============================] - 5s 13ms/step - loss: 1.4045e-04 - accuracy: 0.9999 - val_loss: 0.2004 - val_accuracy: 0.9888\n",
            "Epoch 63/100\n",
            "375/375 [==============================] - 5s 13ms/step - loss: 7.1618e-04 - accuracy: 0.9998 - val_loss: 0.1769 - val_accuracy: 0.9899\n",
            "Epoch 64/100\n",
            "375/375 [==============================] - 5s 13ms/step - loss: 0.0016 - accuracy: 0.9997 - val_loss: 0.1924 - val_accuracy: 0.9902\n",
            "Epoch 65/100\n",
            "375/375 [==============================] - 5s 13ms/step - loss: 8.4395e-04 - accuracy: 0.9998 - val_loss: 0.1970 - val_accuracy: 0.9902\n",
            "Epoch 66/100\n",
            "375/375 [==============================] - 5s 13ms/step - loss: 0.0020 - accuracy: 0.9997 - val_loss: 0.1862 - val_accuracy: 0.9910\n",
            "Epoch 67/100\n",
            "375/375 [==============================] - 5s 13ms/step - loss: 2.5350e-04 - accuracy: 1.0000 - val_loss: 0.1947 - val_accuracy: 0.9909\n",
            "Epoch 68/100\n",
            "375/375 [==============================] - 5s 13ms/step - loss: 6.0747e-04 - accuracy: 0.9999 - val_loss: 0.1960 - val_accuracy: 0.9911\n",
            "Epoch 69/100\n",
            "375/375 [==============================] - 5s 13ms/step - loss: 6.0785e-04 - accuracy: 0.9999 - val_loss: 0.1673 - val_accuracy: 0.9913\n",
            "Epoch 70/100\n",
            "375/375 [==============================] - 5s 13ms/step - loss: 2.0466e-04 - accuracy: 0.9999 - val_loss: 0.1825 - val_accuracy: 0.9911\n",
            "Epoch 71/100\n",
            "375/375 [==============================] - 5s 13ms/step - loss: 6.1997e-04 - accuracy: 0.9999 - val_loss: 0.1939 - val_accuracy: 0.9902\n",
            "Epoch 72/100\n",
            "375/375 [==============================] - 5s 13ms/step - loss: 7.2422e-04 - accuracy: 0.9998 - val_loss: 0.1943 - val_accuracy: 0.9902\n",
            "Epoch 73/100\n",
            "375/375 [==============================] - 5s 13ms/step - loss: 7.4636e-04 - accuracy: 0.9997 - val_loss: 0.1960 - val_accuracy: 0.9902\n",
            "Epoch 74/100\n",
            "375/375 [==============================] - 5s 13ms/step - loss: 4.3568e-04 - accuracy: 0.9999 - val_loss: 0.2216 - val_accuracy: 0.9896\n",
            "Epoch 75/100\n",
            "375/375 [==============================] - 5s 13ms/step - loss: 4.4859e-04 - accuracy: 0.9999 - val_loss: 0.2022 - val_accuracy: 0.9902\n",
            "Epoch 76/100\n",
            "375/375 [==============================] - 5s 13ms/step - loss: 6.4482e-04 - accuracy: 0.9997 - val_loss: 0.1870 - val_accuracy: 0.9909\n",
            "Epoch 77/100\n",
            "375/375 [==============================] - 5s 13ms/step - loss: 9.9547e-04 - accuracy: 0.9998 - val_loss: 0.1876 - val_accuracy: 0.9899\n",
            "Epoch 78/100\n",
            "375/375 [==============================] - 5s 13ms/step - loss: 5.6263e-05 - accuracy: 1.0000 - val_loss: 0.1956 - val_accuracy: 0.9902\n",
            "Epoch 79/100\n",
            "375/375 [==============================] - 5s 13ms/step - loss: 4.6923e-04 - accuracy: 0.9998 - val_loss: 0.2195 - val_accuracy: 0.9908\n",
            "Epoch 80/100\n",
            "375/375 [==============================] - 5s 13ms/step - loss: 0.0012 - accuracy: 0.9998 - val_loss: 0.1623 - val_accuracy: 0.9911\n",
            "Epoch 81/100\n",
            "375/375 [==============================] - 5s 13ms/step - loss: 7.4934e-04 - accuracy: 0.9998 - val_loss: 0.1835 - val_accuracy: 0.9908\n",
            "Epoch 82/100\n",
            "375/375 [==============================] - 5s 13ms/step - loss: 3.9108e-04 - accuracy: 0.9998 - val_loss: 0.1964 - val_accuracy: 0.9901\n",
            "Epoch 83/100\n",
            "375/375 [==============================] - 5s 13ms/step - loss: 1.3568e-04 - accuracy: 0.9999 - val_loss: 0.2087 - val_accuracy: 0.9907\n",
            "Epoch 84/100\n",
            "375/375 [==============================] - 5s 13ms/step - loss: 2.6319e-04 - accuracy: 0.9999 - val_loss: 0.2020 - val_accuracy: 0.9912\n",
            "Epoch 85/100\n",
            "375/375 [==============================] - 5s 13ms/step - loss: 5.5286e-04 - accuracy: 0.9999 - val_loss: 0.2147 - val_accuracy: 0.9902\n",
            "Epoch 86/100\n",
            "375/375 [==============================] - 5s 13ms/step - loss: 4.8877e-04 - accuracy: 0.9999 - val_loss: 0.2397 - val_accuracy: 0.9895\n",
            "Epoch 87/100\n",
            "375/375 [==============================] - 5s 13ms/step - loss: 2.5018e-04 - accuracy: 0.9999 - val_loss: 0.2176 - val_accuracy: 0.9895\n",
            "Epoch 88/100\n",
            "375/375 [==============================] - 5s 13ms/step - loss: 5.1258e-04 - accuracy: 0.9999 - val_loss: 0.2340 - val_accuracy: 0.9911\n",
            "Epoch 89/100\n",
            "375/375 [==============================] - 5s 13ms/step - loss: 0.0014 - accuracy: 0.9997 - val_loss: 0.2398 - val_accuracy: 0.9894\n",
            "Epoch 90/100\n",
            "375/375 [==============================] - 5s 13ms/step - loss: 0.0013 - accuracy: 0.9998 - val_loss: 0.2373 - val_accuracy: 0.9905\n",
            "Epoch 91/100\n",
            "375/375 [==============================] - 5s 13ms/step - loss: 2.8189e-04 - accuracy: 1.0000 - val_loss: 0.2520 - val_accuracy: 0.9901\n",
            "Epoch 92/100\n",
            "375/375 [==============================] - 5s 13ms/step - loss: 0.0027 - accuracy: 0.9998 - val_loss: 0.2115 - val_accuracy: 0.9906\n",
            "Epoch 93/100\n",
            "375/375 [==============================] - 5s 13ms/step - loss: 0.0021 - accuracy: 0.9998 - val_loss: 0.2670 - val_accuracy: 0.9877\n",
            "Epoch 94/100\n",
            "375/375 [==============================] - 5s 13ms/step - loss: 0.0020 - accuracy: 0.9997 - val_loss: 0.2112 - val_accuracy: 0.9905\n",
            "Epoch 95/100\n",
            "375/375 [==============================] - 5s 13ms/step - loss: 8.8637e-05 - accuracy: 0.9999 - val_loss: 0.2204 - val_accuracy: 0.9913\n",
            "Epoch 96/100\n",
            "375/375 [==============================] - 5s 13ms/step - loss: 1.3068e-04 - accuracy: 0.9999 - val_loss: 0.2595 - val_accuracy: 0.9910\n",
            "Epoch 97/100\n",
            "375/375 [==============================] - 5s 13ms/step - loss: 2.4967e-04 - accuracy: 0.9999 - val_loss: 0.2409 - val_accuracy: 0.9898\n",
            "Epoch 98/100\n",
            "375/375 [==============================] - 5s 13ms/step - loss: 2.6876e-04 - accuracy: 1.0000 - val_loss: 0.2499 - val_accuracy: 0.9908\n",
            "Epoch 99/100\n",
            "375/375 [==============================] - 5s 13ms/step - loss: 2.1996e-04 - accuracy: 0.9999 - val_loss: 0.2538 - val_accuracy: 0.9912\n",
            "Epoch 100/100\n",
            "375/375 [==============================] - 5s 13ms/step - loss: 1.8810e-04 - accuracy: 0.9999 - val_loss: 0.2273 - val_accuracy: 0.9915\n"
          ],
          "name": "stdout"
        }
      ]
    },
    {
      "cell_type": "code",
      "metadata": {
        "id": "-gQedMCowQr3"
      },
      "source": [
        "import matplotlib.pyplot as plt\n",
        "\n",
        "epochs = range(1, len(Hist.history['loss'])+1)\n",
        "\n",
        "plt.plot(epochs, Hist.history['loss'])\n",
        "plt.plot(epochs, Hist.history['val_loss'])\n",
        "plt.legend(['Train Loss', 'Test Loss'])\n",
        "plt.grid()\n",
        "plt.show()\n",
        "\n",
        "plt.plot(epochs, Hist.history['accuracy'])\n",
        "plt.plot(epochs, Hist.history['val_accuracy'])\n",
        "plt.legend(['Train accuracy', 'Test accuracy'])\n",
        "plt.grid()\n",
        "plt.show()"
      ],
      "execution_count": null,
      "outputs": []
    },
    {
      "cell_type": "code",
      "metadata": {
        "colab": {
          "base_uri": "https://localhost:8080/"
        },
        "id": "O4CRYsUp5xUL",
        "outputId": "255645c3-5fa4-4c20-bba8-9cb20a88d971"
      },
      "source": [
        "loss, accuracy = model.evaluate(X_test, y_test)\n",
        "loss, accuracy"
      ],
      "execution_count": null,
      "outputs": [
        {
          "output_type": "stream",
          "text": [
            "313/313 [==============================] - 1s 4ms/step - loss: 0.1471 - accuracy: 0.9913\n"
          ],
          "name": "stdout"
        },
        {
          "output_type": "execute_result",
          "data": {
            "text/plain": [
              "(0.14712975919246674, 0.9912999868392944)"
            ]
          },
          "metadata": {
            "tags": []
          },
          "execution_count": 12
        }
      ]
    },
    {
      "cell_type": "code",
      "metadata": {
        "id": "7gcm4llX53rS"
      },
      "source": [
        ""
      ],
      "execution_count": null,
      "outputs": []
    }
  ]
}