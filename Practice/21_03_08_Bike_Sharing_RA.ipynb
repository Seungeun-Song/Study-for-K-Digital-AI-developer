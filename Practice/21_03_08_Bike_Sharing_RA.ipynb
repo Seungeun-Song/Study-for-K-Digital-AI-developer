{
  "nbformat": 4,
  "nbformat_minor": 0,
  "metadata": {
    "colab": {
      "name": "Bike_Sharing_RA_송승은.ipynb",
      "provenance": [],
      "toc_visible": true
    },
    "kernelspec": {
      "name": "python3",
      "display_name": "Python 3"
    }
  },
  "cells": [
    {
      "cell_type": "code",
      "metadata": {
        "colab": {
          "base_uri": "https://localhost:8080/"
        },
        "id": "WE9t_aVHGQNm",
        "outputId": "42917904-f188-4626-f503-d456bda05223"
      },
      "source": [
        "import pandas as pd\r\n",
        "\r\n",
        "DF = pd.read_csv('https://raw.githubusercontent.com/rusita-ai/pyData/master/Bike_Sharing_Demand.csv')\r\n",
        "DF.info()"
      ],
      "execution_count": 2,
      "outputs": [
        {
          "output_type": "stream",
          "text": [
            "<class 'pandas.core.frame.DataFrame'>\n",
            "RangeIndex: 10886 entries, 0 to 10885\n",
            "Data columns (total 12 columns):\n",
            " #   Column      Non-Null Count  Dtype  \n",
            "---  ------      --------------  -----  \n",
            " 0   datetime    10886 non-null  object \n",
            " 1   season      10886 non-null  int64  \n",
            " 2   holiday     10886 non-null  int64  \n",
            " 3   workingday  10886 non-null  int64  \n",
            " 4   weather     10886 non-null  int64  \n",
            " 5   temp        10886 non-null  float64\n",
            " 6   atemp       10886 non-null  float64\n",
            " 7   humidity    10886 non-null  int64  \n",
            " 8   windspeed   10886 non-null  float64\n",
            " 9   casual      10886 non-null  int64  \n",
            " 10  registered  10886 non-null  int64  \n",
            " 11  count       10886 non-null  int64  \n",
            "dtypes: float64(3), int64(8), object(1)\n",
            "memory usage: 1020.7+ KB\n"
          ],
          "name": "stdout"
        }
      ]
    },
    {
      "cell_type": "code",
      "metadata": {
        "colab": {
          "base_uri": "https://localhost:8080/",
          "height": 199
        },
        "id": "T8IiLCkEGggC",
        "outputId": "9999fc74-9b56-40dd-fadd-09af6fabd6d6"
      },
      "source": [
        "DF.head()"
      ],
      "execution_count": 2,
      "outputs": [
        {
          "output_type": "execute_result",
          "data": {
            "text/html": [
              "<div>\n",
              "<style scoped>\n",
              "    .dataframe tbody tr th:only-of-type {\n",
              "        vertical-align: middle;\n",
              "    }\n",
              "\n",
              "    .dataframe tbody tr th {\n",
              "        vertical-align: top;\n",
              "    }\n",
              "\n",
              "    .dataframe thead th {\n",
              "        text-align: right;\n",
              "    }\n",
              "</style>\n",
              "<table border=\"1\" class=\"dataframe\">\n",
              "  <thead>\n",
              "    <tr style=\"text-align: right;\">\n",
              "      <th></th>\n",
              "      <th>datetime</th>\n",
              "      <th>season</th>\n",
              "      <th>holiday</th>\n",
              "      <th>workingday</th>\n",
              "      <th>weather</th>\n",
              "      <th>temp</th>\n",
              "      <th>atemp</th>\n",
              "      <th>humidity</th>\n",
              "      <th>windspeed</th>\n",
              "      <th>casual</th>\n",
              "      <th>registered</th>\n",
              "      <th>count</th>\n",
              "    </tr>\n",
              "  </thead>\n",
              "  <tbody>\n",
              "    <tr>\n",
              "      <th>0</th>\n",
              "      <td>2011-01-01 00:00:00</td>\n",
              "      <td>1</td>\n",
              "      <td>0</td>\n",
              "      <td>0</td>\n",
              "      <td>1</td>\n",
              "      <td>9.84</td>\n",
              "      <td>14.395</td>\n",
              "      <td>81</td>\n",
              "      <td>0.0</td>\n",
              "      <td>3</td>\n",
              "      <td>13</td>\n",
              "      <td>16</td>\n",
              "    </tr>\n",
              "    <tr>\n",
              "      <th>1</th>\n",
              "      <td>2011-01-01 01:00:00</td>\n",
              "      <td>1</td>\n",
              "      <td>0</td>\n",
              "      <td>0</td>\n",
              "      <td>1</td>\n",
              "      <td>9.02</td>\n",
              "      <td>13.635</td>\n",
              "      <td>80</td>\n",
              "      <td>0.0</td>\n",
              "      <td>8</td>\n",
              "      <td>32</td>\n",
              "      <td>40</td>\n",
              "    </tr>\n",
              "    <tr>\n",
              "      <th>2</th>\n",
              "      <td>2011-01-01 02:00:00</td>\n",
              "      <td>1</td>\n",
              "      <td>0</td>\n",
              "      <td>0</td>\n",
              "      <td>1</td>\n",
              "      <td>9.02</td>\n",
              "      <td>13.635</td>\n",
              "      <td>80</td>\n",
              "      <td>0.0</td>\n",
              "      <td>5</td>\n",
              "      <td>27</td>\n",
              "      <td>32</td>\n",
              "    </tr>\n",
              "    <tr>\n",
              "      <th>3</th>\n",
              "      <td>2011-01-01 03:00:00</td>\n",
              "      <td>1</td>\n",
              "      <td>0</td>\n",
              "      <td>0</td>\n",
              "      <td>1</td>\n",
              "      <td>9.84</td>\n",
              "      <td>14.395</td>\n",
              "      <td>75</td>\n",
              "      <td>0.0</td>\n",
              "      <td>3</td>\n",
              "      <td>10</td>\n",
              "      <td>13</td>\n",
              "    </tr>\n",
              "    <tr>\n",
              "      <th>4</th>\n",
              "      <td>2011-01-01 04:00:00</td>\n",
              "      <td>1</td>\n",
              "      <td>0</td>\n",
              "      <td>0</td>\n",
              "      <td>1</td>\n",
              "      <td>9.84</td>\n",
              "      <td>14.395</td>\n",
              "      <td>75</td>\n",
              "      <td>0.0</td>\n",
              "      <td>0</td>\n",
              "      <td>1</td>\n",
              "      <td>1</td>\n",
              "    </tr>\n",
              "  </tbody>\n",
              "</table>\n",
              "</div>"
            ],
            "text/plain": [
              "              datetime  season  holiday  ...  casual  registered  count\n",
              "0  2011-01-01 00:00:00       1        0  ...       3          13     16\n",
              "1  2011-01-01 01:00:00       1        0  ...       8          32     40\n",
              "2  2011-01-01 02:00:00       1        0  ...       5          27     32\n",
              "3  2011-01-01 03:00:00       1        0  ...       3          10     13\n",
              "4  2011-01-01 04:00:00       1        0  ...       0           1      1\n",
              "\n",
              "[5 rows x 12 columns]"
            ]
          },
          "metadata": {
            "tags": []
          },
          "execution_count": 2
        }
      ]
    },
    {
      "cell_type": "markdown",
      "metadata": {
        "id": "kzoSgFQFHTtR"
      },
      "source": [
        "# 1, Data Preprocessing"
      ]
    },
    {
      "cell_type": "markdown",
      "metadata": {
        "id": "UuvGW9pMHW7i"
      },
      "source": [
        "## 1) 'String' -> 'Date'\r\n",
        "* year, month, day, hour 추출"
      ]
    },
    {
      "cell_type": "code",
      "metadata": {
        "colab": {
          "base_uri": "https://localhost:8080/",
          "height": 386
        },
        "id": "KrzdCtrAGjua",
        "outputId": "31720932-0b76-4573-961b-ea8cd5127c78"
      },
      "source": [
        "DF['datetime'] = DF.datetime.apply(pd.to_datetime)\r\n",
        "\r\n",
        "DF['year'] = DF.datetime.apply(lambda x : x.year)\r\n",
        "DF['month'] = DF.datetime.apply(lambda x : x.month)\r\n",
        "DF['day'] = DF.datetime.apply(lambda x : x.day)\r\n",
        "DF['hour'] = DF.datetime.apply(lambda x : x.hour)\r\n",
        "\r\n",
        "DF.head()"
      ],
      "execution_count": 3,
      "outputs": [
        {
          "output_type": "execute_result",
          "data": {
            "text/html": [
              "<div>\n",
              "<style scoped>\n",
              "    .dataframe tbody tr th:only-of-type {\n",
              "        vertical-align: middle;\n",
              "    }\n",
              "\n",
              "    .dataframe tbody tr th {\n",
              "        vertical-align: top;\n",
              "    }\n",
              "\n",
              "    .dataframe thead th {\n",
              "        text-align: right;\n",
              "    }\n",
              "</style>\n",
              "<table border=\"1\" class=\"dataframe\">\n",
              "  <thead>\n",
              "    <tr style=\"text-align: right;\">\n",
              "      <th></th>\n",
              "      <th>datetime</th>\n",
              "      <th>season</th>\n",
              "      <th>holiday</th>\n",
              "      <th>workingday</th>\n",
              "      <th>weather</th>\n",
              "      <th>temp</th>\n",
              "      <th>atemp</th>\n",
              "      <th>humidity</th>\n",
              "      <th>windspeed</th>\n",
              "      <th>casual</th>\n",
              "      <th>registered</th>\n",
              "      <th>count</th>\n",
              "      <th>year</th>\n",
              "      <th>month</th>\n",
              "      <th>day</th>\n",
              "      <th>hour</th>\n",
              "    </tr>\n",
              "  </thead>\n",
              "  <tbody>\n",
              "    <tr>\n",
              "      <th>0</th>\n",
              "      <td>2011-01-01 00:00:00</td>\n",
              "      <td>1</td>\n",
              "      <td>0</td>\n",
              "      <td>0</td>\n",
              "      <td>1</td>\n",
              "      <td>9.84</td>\n",
              "      <td>14.395</td>\n",
              "      <td>81</td>\n",
              "      <td>0.0</td>\n",
              "      <td>3</td>\n",
              "      <td>13</td>\n",
              "      <td>16</td>\n",
              "      <td>2011</td>\n",
              "      <td>1</td>\n",
              "      <td>1</td>\n",
              "      <td>0</td>\n",
              "    </tr>\n",
              "    <tr>\n",
              "      <th>1</th>\n",
              "      <td>2011-01-01 01:00:00</td>\n",
              "      <td>1</td>\n",
              "      <td>0</td>\n",
              "      <td>0</td>\n",
              "      <td>1</td>\n",
              "      <td>9.02</td>\n",
              "      <td>13.635</td>\n",
              "      <td>80</td>\n",
              "      <td>0.0</td>\n",
              "      <td>8</td>\n",
              "      <td>32</td>\n",
              "      <td>40</td>\n",
              "      <td>2011</td>\n",
              "      <td>1</td>\n",
              "      <td>1</td>\n",
              "      <td>1</td>\n",
              "    </tr>\n",
              "    <tr>\n",
              "      <th>2</th>\n",
              "      <td>2011-01-01 02:00:00</td>\n",
              "      <td>1</td>\n",
              "      <td>0</td>\n",
              "      <td>0</td>\n",
              "      <td>1</td>\n",
              "      <td>9.02</td>\n",
              "      <td>13.635</td>\n",
              "      <td>80</td>\n",
              "      <td>0.0</td>\n",
              "      <td>5</td>\n",
              "      <td>27</td>\n",
              "      <td>32</td>\n",
              "      <td>2011</td>\n",
              "      <td>1</td>\n",
              "      <td>1</td>\n",
              "      <td>2</td>\n",
              "    </tr>\n",
              "    <tr>\n",
              "      <th>3</th>\n",
              "      <td>2011-01-01 03:00:00</td>\n",
              "      <td>1</td>\n",
              "      <td>0</td>\n",
              "      <td>0</td>\n",
              "      <td>1</td>\n",
              "      <td>9.84</td>\n",
              "      <td>14.395</td>\n",
              "      <td>75</td>\n",
              "      <td>0.0</td>\n",
              "      <td>3</td>\n",
              "      <td>10</td>\n",
              "      <td>13</td>\n",
              "      <td>2011</td>\n",
              "      <td>1</td>\n",
              "      <td>1</td>\n",
              "      <td>3</td>\n",
              "    </tr>\n",
              "    <tr>\n",
              "      <th>4</th>\n",
              "      <td>2011-01-01 04:00:00</td>\n",
              "      <td>1</td>\n",
              "      <td>0</td>\n",
              "      <td>0</td>\n",
              "      <td>1</td>\n",
              "      <td>9.84</td>\n",
              "      <td>14.395</td>\n",
              "      <td>75</td>\n",
              "      <td>0.0</td>\n",
              "      <td>0</td>\n",
              "      <td>1</td>\n",
              "      <td>1</td>\n",
              "      <td>2011</td>\n",
              "      <td>1</td>\n",
              "      <td>1</td>\n",
              "      <td>4</td>\n",
              "    </tr>\n",
              "  </tbody>\n",
              "</table>\n",
              "</div>"
            ],
            "text/plain": [
              "             datetime  season  holiday  workingday  ...  year  month  day  hour\n",
              "0 2011-01-01 00:00:00       1        0           0  ...  2011      1    1     0\n",
              "1 2011-01-01 01:00:00       1        0           0  ...  2011      1    1     1\n",
              "2 2011-01-01 02:00:00       1        0           0  ...  2011      1    1     2\n",
              "3 2011-01-01 03:00:00       1        0           0  ...  2011      1    1     3\n",
              "4 2011-01-01 04:00:00       1        0           0  ...  2011      1    1     4\n",
              "\n",
              "[5 rows x 16 columns]"
            ]
          },
          "metadata": {
            "tags": []
          },
          "execution_count": 3
        }
      ]
    },
    {
      "cell_type": "markdown",
      "metadata": {
        "id": "Jp86XjlvIJat"
      },
      "source": [
        "## 2) Drop Columns"
      ]
    },
    {
      "cell_type": "code",
      "metadata": {
        "colab": {
          "base_uri": "https://localhost:8080/",
          "height": 199
        },
        "id": "zH6NH3JwICoG",
        "outputId": "8a6f27fb-bbca-422e-da86-f0f73e3b992a"
      },
      "source": [
        "drop_columns = ['datetime','casual','registered']\r\n",
        "DF.drop(drop_columns, axis=1, inplace=True)\r\n",
        "DF.head()"
      ],
      "execution_count": 4,
      "outputs": [
        {
          "output_type": "execute_result",
          "data": {
            "text/html": [
              "<div>\n",
              "<style scoped>\n",
              "    .dataframe tbody tr th:only-of-type {\n",
              "        vertical-align: middle;\n",
              "    }\n",
              "\n",
              "    .dataframe tbody tr th {\n",
              "        vertical-align: top;\n",
              "    }\n",
              "\n",
              "    .dataframe thead th {\n",
              "        text-align: right;\n",
              "    }\n",
              "</style>\n",
              "<table border=\"1\" class=\"dataframe\">\n",
              "  <thead>\n",
              "    <tr style=\"text-align: right;\">\n",
              "      <th></th>\n",
              "      <th>season</th>\n",
              "      <th>holiday</th>\n",
              "      <th>workingday</th>\n",
              "      <th>weather</th>\n",
              "      <th>temp</th>\n",
              "      <th>atemp</th>\n",
              "      <th>humidity</th>\n",
              "      <th>windspeed</th>\n",
              "      <th>count</th>\n",
              "      <th>year</th>\n",
              "      <th>month</th>\n",
              "      <th>day</th>\n",
              "      <th>hour</th>\n",
              "    </tr>\n",
              "  </thead>\n",
              "  <tbody>\n",
              "    <tr>\n",
              "      <th>0</th>\n",
              "      <td>1</td>\n",
              "      <td>0</td>\n",
              "      <td>0</td>\n",
              "      <td>1</td>\n",
              "      <td>9.84</td>\n",
              "      <td>14.395</td>\n",
              "      <td>81</td>\n",
              "      <td>0.0</td>\n",
              "      <td>16</td>\n",
              "      <td>2011</td>\n",
              "      <td>1</td>\n",
              "      <td>1</td>\n",
              "      <td>0</td>\n",
              "    </tr>\n",
              "    <tr>\n",
              "      <th>1</th>\n",
              "      <td>1</td>\n",
              "      <td>0</td>\n",
              "      <td>0</td>\n",
              "      <td>1</td>\n",
              "      <td>9.02</td>\n",
              "      <td>13.635</td>\n",
              "      <td>80</td>\n",
              "      <td>0.0</td>\n",
              "      <td>40</td>\n",
              "      <td>2011</td>\n",
              "      <td>1</td>\n",
              "      <td>1</td>\n",
              "      <td>1</td>\n",
              "    </tr>\n",
              "    <tr>\n",
              "      <th>2</th>\n",
              "      <td>1</td>\n",
              "      <td>0</td>\n",
              "      <td>0</td>\n",
              "      <td>1</td>\n",
              "      <td>9.02</td>\n",
              "      <td>13.635</td>\n",
              "      <td>80</td>\n",
              "      <td>0.0</td>\n",
              "      <td>32</td>\n",
              "      <td>2011</td>\n",
              "      <td>1</td>\n",
              "      <td>1</td>\n",
              "      <td>2</td>\n",
              "    </tr>\n",
              "    <tr>\n",
              "      <th>3</th>\n",
              "      <td>1</td>\n",
              "      <td>0</td>\n",
              "      <td>0</td>\n",
              "      <td>1</td>\n",
              "      <td>9.84</td>\n",
              "      <td>14.395</td>\n",
              "      <td>75</td>\n",
              "      <td>0.0</td>\n",
              "      <td>13</td>\n",
              "      <td>2011</td>\n",
              "      <td>1</td>\n",
              "      <td>1</td>\n",
              "      <td>3</td>\n",
              "    </tr>\n",
              "    <tr>\n",
              "      <th>4</th>\n",
              "      <td>1</td>\n",
              "      <td>0</td>\n",
              "      <td>0</td>\n",
              "      <td>1</td>\n",
              "      <td>9.84</td>\n",
              "      <td>14.395</td>\n",
              "      <td>75</td>\n",
              "      <td>0.0</td>\n",
              "      <td>1</td>\n",
              "      <td>2011</td>\n",
              "      <td>1</td>\n",
              "      <td>1</td>\n",
              "      <td>4</td>\n",
              "    </tr>\n",
              "  </tbody>\n",
              "</table>\n",
              "</div>"
            ],
            "text/plain": [
              "   season  holiday  workingday  weather  temp  ...  count  year  month  day  hour\n",
              "0       1        0           0        1  9.84  ...     16  2011      1    1     0\n",
              "1       1        0           0        1  9.02  ...     40  2011      1    1     1\n",
              "2       1        0           0        1  9.02  ...     32  2011      1    1     2\n",
              "3       1        0           0        1  9.84  ...     13  2011      1    1     3\n",
              "4       1        0           0        1  9.84  ...      1  2011      1    1     4\n",
              "\n",
              "[5 rows x 13 columns]"
            ]
          },
          "metadata": {
            "tags": []
          },
          "execution_count": 4
        }
      ]
    },
    {
      "cell_type": "code",
      "metadata": {
        "id": "UfmYdrmQKEtA"
      },
      "source": [
        "X = DF[['season',\t'holiday',\t'workingday',\t'weather',\t'temp',\t'atemp',\t'humidity',\t'windspeed','year',\t'month',\t'day',\t'hour']]\r\n",
        "y = DF['count']"
      ],
      "execution_count": 5,
      "outputs": []
    },
    {
      "cell_type": "markdown",
      "metadata": {
        "id": "rUX1GD3ELXU2"
      },
      "source": [
        "# 2, 탐색적 데이터 분석"
      ]
    },
    {
      "cell_type": "markdown",
      "metadata": {
        "id": "Z5M32SoOLyoh"
      },
      "source": [
        "## 1) pairplot"
      ]
    },
    {
      "cell_type": "code",
      "metadata": {
        "colab": {
          "base_uri": "https://localhost:8080/",
          "height": 154
        },
        "id": "LgHdttnwLY__",
        "outputId": "ed70ba5a-0e65-4c1b-eb3c-9f0b0e327ec0"
      },
      "source": [
        "import matplotlib.pyplot as plt\r\n",
        "import seaborn as sns\r\n",
        "\r\n",
        "sns.pairplot(DF, y_vars=['count'],\r\n",
        "             x_vars = ['season','holiday','workingday','temp','year','month','hour'])\r\n",
        "plt.show()"
      ],
      "execution_count": 21,
      "outputs": [
        {
          "output_type": "display_data",
          "data": {
            "image/png": "[encoded data removed]",
            "text/plain": [
              "<Figure size 1260x180 with 7 Axes>"
            ]
          },
          "metadata": {
            "tags": [],
            "needs_background": "light"
          }
        }
      ]
    },
    {
      "cell_type": "markdown",
      "metadata": {
        "id": "OjsybilUJlwm"
      },
      "source": [
        "## 2) Feature Importance"
      ]
    },
    {
      "cell_type": "code",
      "metadata": {
        "colab": {
          "base_uri": "https://localhost:8080/",
          "height": 321
        },
        "id": "JMmFwqgWIYe_",
        "outputId": "0b5ea82f-2c60-430a-99f9-6ba214f182ad"
      },
      "source": [
        "# Decision Model\r\n",
        "\r\n",
        "from sklearn.tree import DecisionTreeRegressor\r\n",
        "\r\n",
        "Model_1 = DecisionTreeRegressor(max_depth = None, criterion = 'mse')\r\n",
        "Model_1.fit(X, y)\r\n",
        "\r\n",
        "\r\n",
        "\r\n",
        "Model_1.feature_importances_\r\n",
        "\r\n",
        "sns.barplot(Model_1.feature_importances_,\r\n",
        "            ['season',\t'holiday',\t'workingday',\t'weather',\t'temp',\t'atemp',\t'humidity',\t'windspeed','year',\t'month',\t'day',\t'hour'])\r\n",
        "plt.show()"
      ],
      "execution_count": 18,
      "outputs": [
        {
          "output_type": "stream",
          "text": [
            "/usr/local/lib/python3.7/dist-packages/seaborn/_decorators.py:43: FutureWarning: Pass the following variables as keyword args: x, y. From version 0.12, the only valid positional argument will be `data`, and passing other arguments without an explicit keyword will result in an error or misinterpretation.\n",
            "  FutureWarning\n"
          ],
          "name": "stderr"
        },
        {
          "output_type": "display_data",
          "data": {
            "image/png": "[encoded data removed]",
            "text/plain": [
              "<Figure size 432x288 with 1 Axes>"
            ]
          },
          "metadata": {
            "tags": [],
            "needs_background": "light"
          }
        }
      ]
    },
    {
      "cell_type": "markdown",
      "metadata": {
        "id": "vJeDcSOAR_W1"
      },
      "source": [
        "# 3, Multivariate Regression"
      ]
    },
    {
      "cell_type": "code",
      "metadata": {
        "id": "gR2avbGZUwZc"
      },
      "source": [
        "from sklearn.linear_model import LinearRegression\r\n",
        "from sklearn.linear_model import Lasso\r\n",
        "from sklearn.model_selection import train_test_split\r\n",
        "from sklearn.metrics import mean_squared_error\r\n",
        "from sklearn.preprocessing import PolynomialFeatures\r\n",
        "import numpy as np"
      ],
      "execution_count": 6,
      "outputs": []
    },
    {
      "cell_type": "markdown",
      "metadata": {
        "id": "mDI1tq_ObaAX"
      },
      "source": [
        "## 1) Lasso "
      ]
    },
    {
      "cell_type": "markdown",
      "metadata": {
        "id": "IfeWXHNqgEv2"
      },
      "source": [
        "### (1) 모델링 함수"
      ]
    },
    {
      "cell_type": "code",
      "metadata": {
        "id": "uf4pQQdHLBwt"
      },
      "source": [
        "def multiReg(model_name, X, y, dg, ap=0.5 ):\r\n",
        "  # split\r\n",
        "  X_train, X_test, y_train, y_test = train_test_split(X, y, random_state =2045)\r\n",
        "\r\n",
        "  # poly\r\n",
        "  poly = PolynomialFeatures(degree=dg, include_bias = False)\r\n",
        "  X_train_poly = poly.fit_transform(X_train)\r\n",
        "  X_test_poly = poly.fit_transform(X_test)\r\n",
        "\r\n",
        "  # model\r\n",
        "  model_mr = Lasso(normalize=True, alpha = ap)\r\n",
        "  model_mr.fit(X_train_poly, y_train)\r\n",
        "\r\n",
        "  # evaluate\r\n",
        "  m_s_e = mean_squared_error(y_test, model_mr.predict(X_test_poly))\r\n",
        "  mse = np.sqrt(m_s_e)\r\n",
        "\r\n",
        "  return {'model_id':model_name, '차수':dg, 'MSE':mse, 'alpha':ap}\r\n",
        "\r\n"
      ],
      "execution_count": 7,
      "outputs": []
    },
    {
      "cell_type": "code",
      "metadata": {
        "id": "bIvWd338Wb4B"
      },
      "source": [
        "X = DF[['season',\t'holiday',\t'workingday',\t'weather',\t'temp',\t'atemp',\t'humidity',\t'windspeed','year',\t'month',\t'day',\t'hour']]\r\n",
        "y = DF['count']\r\n",
        "\r\n",
        "DF_res_mr = pd.DataFrame(data=None, columns = ['model_id','차수','MSE','alpha'])"
      ],
      "execution_count": 9,
      "outputs": []
    },
    {
      "cell_type": "code",
      "metadata": {
        "colab": {
          "base_uri": "https://localhost:8080/"
        },
        "id": "WfZf_UtOX-4f",
        "outputId": "df68ead5-02b8-4023-a5ac-8704b57bafe8"
      },
      "source": [
        "%%time\r\n",
        "index = 1\r\n",
        "for n in [1,2,3]:\r\n",
        "  model_name = 'MR-'+str(index)\r\n",
        "  index += 1\r\n",
        "  res = multiReg(model_name, X, y, dg=n )\r\n",
        "  print(res)\r\n",
        "  DF_res_mr = DF_res_mr.append(res, ignore_index=True)"
      ],
      "execution_count": 10,
      "outputs": [
        {
          "output_type": "stream",
          "text": [
            "{'model_id': 'MR-1', '차수': 1, 'MSE': 166.25218752791096, 'alpha': 0.5}\n",
            "{'model_id': 'MR-2', '차수': 2, 'MSE': 161.1294526376966, 'alpha': 0.5}\n",
            "{'model_id': 'MR-3', '차수': 3, 'MSE': 160.93003452226176, 'alpha': 0.5}\n",
            "CPU times: user 2.65 s, sys: 304 ms, total: 2.96 s\n",
            "Wall time: 2.7 s\n"
          ],
          "name": "stdout"
        }
      ]
    },
    {
      "cell_type": "code",
      "metadata": {
        "colab": {
          "base_uri": "https://localhost:8080/"
        },
        "id": "jhrOzOtvZhuJ",
        "outputId": "17007b81-51ca-4753-f86f-a6ee753452f5"
      },
      "source": [
        "%%time\r\n",
        "for n in [5]:\r\n",
        "  model_name = 'MR-'+str(index)\r\n",
        "  index += 1\r\n",
        "  res = multiReg(model_name, X, y, dg=n )\r\n",
        "  print(res)\r\n",
        "  DF_res_mr = DF_res_mr.append(res, ignore_index=True)"
      ],
      "execution_count": 11,
      "outputs": [
        {
          "output_type": "stream",
          "text": [
            "{'model_id': 'MR-4', '차수': 5, 'MSE': 160.92152796842555, 'alpha': 0.5}\n",
            "CPU times: user 32.7 s, sys: 492 ms, total: 33.2 s\n",
            "Wall time: 33.1 s\n"
          ],
          "name": "stdout"
        }
      ]
    },
    {
      "cell_type": "code",
      "metadata": {
        "colab": {
          "base_uri": "https://localhost:8080/"
        },
        "id": "7Tm3GDUvcQff",
        "outputId": "70c83296-eb1c-4e22-bcfb-71c745ca0f5b"
      },
      "source": [
        "%%time\r\n",
        "for n in [7]:\r\n",
        "  model_name = 'MR-'+str(index)\r\n",
        "  index += 1\r\n",
        "  res = multiReg(model_name, X, y, dg=n )\r\n",
        "  print(res)\r\n",
        "  DF_res_mr = DF_res_mr.append(res, ignore_index=True)"
      ],
      "execution_count": 12,
      "outputs": [
        {
          "output_type": "stream",
          "text": [
            "{'model_id': 'MR-5', '차수': 7, 'MSE': 160.90891285014962, 'alpha': 0.5}\n",
            "CPU times: user 4min 11s, sys: 2.87 s, total: 4min 14s\n",
            "Wall time: 4min 14s\n"
          ],
          "name": "stdout"
        }
      ]
    },
    {
      "cell_type": "markdown",
      "metadata": {
        "id": "ZEb2FQqXc7iJ"
      },
      "source": [
        "#### 9차항은 ram이 따라가지 못해서 세션 다운."
      ]
    },
    {
      "cell_type": "markdown",
      "metadata": {
        "id": "9KVlJyxzpSyn"
      },
      "source": [
        "### (2) alpha 조정"
      ]
    },
    {
      "cell_type": "code",
      "metadata": {
        "colab": {
          "base_uri": "https://localhost:8080/",
          "height": 199
        },
        "id": "nWasFROMpbO5",
        "outputId": "e0a71e5e-f7b2-4fac-da2d-3376e21c2bc8"
      },
      "source": [
        "DF_res_mr.sort_values(by='MSE')"
      ],
      "execution_count": 13,
      "outputs": [
        {
          "output_type": "execute_result",
          "data": {
            "text/html": [
              "<div>\n",
              "<style scoped>\n",
              "    .dataframe tbody tr th:only-of-type {\n",
              "        vertical-align: middle;\n",
              "    }\n",
              "\n",
              "    .dataframe tbody tr th {\n",
              "        vertical-align: top;\n",
              "    }\n",
              "\n",
              "    .dataframe thead th {\n",
              "        text-align: right;\n",
              "    }\n",
              "</style>\n",
              "<table border=\"1\" class=\"dataframe\">\n",
              "  <thead>\n",
              "    <tr style=\"text-align: right;\">\n",
              "      <th></th>\n",
              "      <th>model_id</th>\n",
              "      <th>차수</th>\n",
              "      <th>MSE</th>\n",
              "      <th>alpha</th>\n",
              "    </tr>\n",
              "  </thead>\n",
              "  <tbody>\n",
              "    <tr>\n",
              "      <th>4</th>\n",
              "      <td>MR-5</td>\n",
              "      <td>7</td>\n",
              "      <td>160.908913</td>\n",
              "      <td>0.5</td>\n",
              "    </tr>\n",
              "    <tr>\n",
              "      <th>3</th>\n",
              "      <td>MR-4</td>\n",
              "      <td>5</td>\n",
              "      <td>160.921528</td>\n",
              "      <td>0.5</td>\n",
              "    </tr>\n",
              "    <tr>\n",
              "      <th>2</th>\n",
              "      <td>MR-3</td>\n",
              "      <td>3</td>\n",
              "      <td>160.930035</td>\n",
              "      <td>0.5</td>\n",
              "    </tr>\n",
              "    <tr>\n",
              "      <th>1</th>\n",
              "      <td>MR-2</td>\n",
              "      <td>2</td>\n",
              "      <td>161.129453</td>\n",
              "      <td>0.5</td>\n",
              "    </tr>\n",
              "    <tr>\n",
              "      <th>0</th>\n",
              "      <td>MR-1</td>\n",
              "      <td>1</td>\n",
              "      <td>166.252188</td>\n",
              "      <td>0.5</td>\n",
              "    </tr>\n",
              "  </tbody>\n",
              "</table>\n",
              "</div>"
            ],
            "text/plain": [
              "  model_id 차수         MSE  alpha\n",
              "4     MR-5  7  160.908913    0.5\n",
              "3     MR-4  5  160.921528    0.5\n",
              "2     MR-3  3  160.930035    0.5\n",
              "1     MR-2  2  161.129453    0.5\n",
              "0     MR-1  1  166.252188    0.5"
            ]
          },
          "metadata": {
            "tags": []
          },
          "execution_count": 13
        }
      ]
    },
    {
      "cell_type": "code",
      "metadata": {
        "colab": {
          "base_uri": "https://localhost:8080/"
        },
        "id": "pnUL-4RJpVbC",
        "outputId": "3a552ec9-3579-435c-a020-bca3f4b67d35"
      },
      "source": [
        "a = [0.2, 0.4]\r\n",
        "for n in a:\r\n",
        "  model_name = 'MR_ap-'+str(index)\r\n",
        "  index += 1\r\n",
        "  res = multiReg(model_name, X, y, dg=7, ap=n )\r\n",
        "  print(res)\r\n",
        "  DF_res_mr = DF_res_mr.append(res, ignore_index=True)"
      ],
      "execution_count": 15,
      "outputs": [
        {
          "output_type": "stream",
          "text": [
            "/usr/local/lib/python3.7/dist-packages/sklearn/linear_model/_coordinate_descent.py:476: ConvergenceWarning: Objective did not converge. You might want to increase the number of iterations. Duality gap: 36163.12014618516, tolerance: 26596.237288326804\n",
            "  positive)\n"
          ],
          "name": "stderr"
        },
        {
          "output_type": "stream",
          "text": [
            "{'model_id': 'MR_ap-6', '차수': 7, 'MSE': 135.09378256934139, 'alpha': 0.2}\n",
            "{'model_id': 'MR_ap-7', '차수': 7, 'MSE': 154.71098651469063, 'alpha': 0.4}\n"
          ],
          "name": "stdout"
        }
      ]
    },
    {
      "cell_type": "markdown",
      "metadata": {
        "id": "yLWEdNOBgART"
      },
      "source": [
        "### (2) MSE 비교"
      ]
    },
    {
      "cell_type": "code",
      "metadata": {
        "colab": {
          "base_uri": "https://localhost:8080/",
          "height": 260
        },
        "id": "isZunN2xeX2-",
        "outputId": "b6eaafef-5bb4-4f19-a8b8-ec1f9624d451"
      },
      "source": [
        "DF_res_mr_sort = DF_res_mr.sort_values(by='MSE', ascending=True)\r\n",
        "DF_res_mr_sort"
      ],
      "execution_count": 16,
      "outputs": [
        {
          "output_type": "execute_result",
          "data": {
            "text/html": [
              "<div>\n",
              "<style scoped>\n",
              "    .dataframe tbody tr th:only-of-type {\n",
              "        vertical-align: middle;\n",
              "    }\n",
              "\n",
              "    .dataframe tbody tr th {\n",
              "        vertical-align: top;\n",
              "    }\n",
              "\n",
              "    .dataframe thead th {\n",
              "        text-align: right;\n",
              "    }\n",
              "</style>\n",
              "<table border=\"1\" class=\"dataframe\">\n",
              "  <thead>\n",
              "    <tr style=\"text-align: right;\">\n",
              "      <th></th>\n",
              "      <th>model_id</th>\n",
              "      <th>차수</th>\n",
              "      <th>MSE</th>\n",
              "      <th>alpha</th>\n",
              "    </tr>\n",
              "  </thead>\n",
              "  <tbody>\n",
              "    <tr>\n",
              "      <th>5</th>\n",
              "      <td>MR_ap-6</td>\n",
              "      <td>7</td>\n",
              "      <td>135.093783</td>\n",
              "      <td>0.2</td>\n",
              "    </tr>\n",
              "    <tr>\n",
              "      <th>6</th>\n",
              "      <td>MR_ap-7</td>\n",
              "      <td>7</td>\n",
              "      <td>154.710987</td>\n",
              "      <td>0.4</td>\n",
              "    </tr>\n",
              "    <tr>\n",
              "      <th>4</th>\n",
              "      <td>MR-5</td>\n",
              "      <td>7</td>\n",
              "      <td>160.908913</td>\n",
              "      <td>0.5</td>\n",
              "    </tr>\n",
              "    <tr>\n",
              "      <th>3</th>\n",
              "      <td>MR-4</td>\n",
              "      <td>5</td>\n",
              "      <td>160.921528</td>\n",
              "      <td>0.5</td>\n",
              "    </tr>\n",
              "    <tr>\n",
              "      <th>2</th>\n",
              "      <td>MR-3</td>\n",
              "      <td>3</td>\n",
              "      <td>160.930035</td>\n",
              "      <td>0.5</td>\n",
              "    </tr>\n",
              "    <tr>\n",
              "      <th>1</th>\n",
              "      <td>MR-2</td>\n",
              "      <td>2</td>\n",
              "      <td>161.129453</td>\n",
              "      <td>0.5</td>\n",
              "    </tr>\n",
              "    <tr>\n",
              "      <th>0</th>\n",
              "      <td>MR-1</td>\n",
              "      <td>1</td>\n",
              "      <td>166.252188</td>\n",
              "      <td>0.5</td>\n",
              "    </tr>\n",
              "  </tbody>\n",
              "</table>\n",
              "</div>"
            ],
            "text/plain": [
              "  model_id 차수         MSE  alpha\n",
              "5  MR_ap-6  7  135.093783    0.2\n",
              "6  MR_ap-7  7  154.710987    0.4\n",
              "4     MR-5  7  160.908913    0.5\n",
              "3     MR-4  5  160.921528    0.5\n",
              "2     MR-3  3  160.930035    0.5\n",
              "1     MR-2  2  161.129453    0.5\n",
              "0     MR-1  1  166.252188    0.5"
            ]
          },
          "metadata": {
            "tags": []
          },
          "execution_count": 16
        }
      ]
    },
    {
      "cell_type": "markdown",
      "metadata": {
        "id": "JPx0Uk2bbfEJ"
      },
      "source": [
        "## 2) Multivariate Regression"
      ]
    },
    {
      "cell_type": "markdown",
      "metadata": {
        "id": "XJq5IxeDhv3N"
      },
      "source": [
        "### 모델링 함수"
      ]
    },
    {
      "cell_type": "code",
      "metadata": {
        "id": "Ujaom5rGYdsn"
      },
      "source": [
        "def multiReg(model_name, X, y, dg ):\r\n",
        "  # split\r\n",
        "  X_train, X_test, y_train, y_test = train_test_split(X, y, random_state =2045)\r\n",
        "\r\n",
        "  # poly\r\n",
        "  poly = PolynomialFeatures(degree=dg, include_bias = False)\r\n",
        "  X_train_poly = poly.fit_transform(X_train)\r\n",
        "  X_test_poly = poly.fit_transform(X_test)\r\n",
        "\r\n",
        "  # model\r\n",
        "  model_mr = LinearRegression(normalize=True, n_jobs=-1)\r\n",
        "  model_mr.fit(X_train_poly, y_train)\r\n",
        "\r\n",
        "  # evaluate\r\n",
        "  m_s_e = mean_squared_error(y_test, model_mr.predict(X_test_poly))\r\n",
        "  mse = np.sqrt(m_s_e)\r\n",
        "\r\n",
        "  return {'model_id':model_name, '차수':dg, 'MSE':mse}\r\n",
        "\r\n"
      ],
      "execution_count": 17,
      "outputs": []
    },
    {
      "cell_type": "markdown",
      "metadata": {
        "id": "WjeQr7n6eEZw"
      },
      "source": [
        "### (1) X = DF[['season','workingday','hour']]"
      ]
    },
    {
      "cell_type": "code",
      "metadata": {
        "id": "Y8mFZOmWYdxx"
      },
      "source": [
        "X = DF[['season','workingday','hour']]\r\n",
        "y= DF['count']\r\n",
        "DF_res_mr_bs = pd.DataFrame(data=None, columns = ['model_id','차수','MSE'])"
      ],
      "execution_count": 18,
      "outputs": []
    },
    {
      "cell_type": "code",
      "metadata": {
        "colab": {
          "base_uri": "https://localhost:8080/"
        },
        "id": "BW8nEy54YdvG",
        "outputId": "b617f68d-8c40-4126-d7c1-f2b5182ab360"
      },
      "source": [
        "index = 1\r\n",
        "for n in [1,2,3,5,7]:\r\n",
        "  model_name = 'MR_swh-'+str(index)\r\n",
        "  index += 1\r\n",
        "  res = multiReg(model_name, X, y, dg=n )\r\n",
        "  print(res)\r\n",
        "  DF_res_mr_bs = DF_res_mr_bs.append(res, ignore_index=True)"
      ],
      "execution_count": 19,
      "outputs": [
        {
          "output_type": "stream",
          "text": [
            "{'model_id': 'MR_swh-1', '차수': 1, 'MSE': 164.71194788749682}\n",
            "{'model_id': 'MR_swh-2', '차수': 2, 'MSE': 144.0411925980319}\n",
            "{'model_id': 'MR_swh-3', '차수': 3, 'MSE': 134.66956671094806}\n",
            "{'model_id': 'MR_swh-4', '차수': 5, 'MSE': 127.62831345080842}\n",
            "{'model_id': 'MR_swh-5', '차수': 7, 'MSE': 111.86989262230361}\n"
          ],
          "name": "stdout"
        }
      ]
    },
    {
      "cell_type": "markdown",
      "metadata": {
        "id": "COeCTSTNeIas"
      },
      "source": [
        "### (2) X = DF[['weather','temp']]"
      ]
    },
    {
      "cell_type": "code",
      "metadata": {
        "id": "8aLJQ6hTe7II"
      },
      "source": [
        "X = DF[['weather','temp']]\r\n",
        "y= DF['count']"
      ],
      "execution_count": 20,
      "outputs": []
    },
    {
      "cell_type": "code",
      "metadata": {
        "colab": {
          "base_uri": "https://localhost:8080/"
        },
        "id": "sxVpdSgveBhk",
        "outputId": "59fb447f-710e-402f-f23a-b9331888f16f"
      },
      "source": [
        "\r\n",
        "for n in [1,2,3,5,7]:\r\n",
        "  model_name = 'MR_wt-'+str(index)\r\n",
        "  index += 1\r\n",
        "  res = multiReg(model_name, X, y, dg=n )\r\n",
        "  print(res)\r\n",
        "  DF_res_mr_bs = DF_res_mr_bs.append(res, ignore_index=True)"
      ],
      "execution_count": 21,
      "outputs": [
        {
          "output_type": "stream",
          "text": [
            "{'model_id': 'MR_wt-6', '차수': 1, 'MSE': 167.3957064692763}\n",
            "{'model_id': 'MR_wt-7', '차수': 2, 'MSE': 167.328789419818}\n",
            "{'model_id': 'MR_wt-8', '차수': 3, 'MSE': 167.18296123789725}\n",
            "{'model_id': 'MR_wt-9', '차수': 5, 'MSE': 166.73494244456896}\n",
            "{'model_id': 'MR_wt-10', '차수': 7, 'MSE': 166.74700809049529}\n"
          ],
          "name": "stdout"
        }
      ]
    },
    {
      "cell_type": "markdown",
      "metadata": {
        "id": "Zd7HYi1veLk3"
      },
      "source": [
        "### (3) X = DF[['season','workingday','hour','weather','temp']]"
      ]
    },
    {
      "cell_type": "code",
      "metadata": {
        "id": "5D6otFYlfja9"
      },
      "source": [
        "X = DF[['season','workingday','hour','weather','temp']]\r\n",
        "y= DF['count']"
      ],
      "execution_count": 22,
      "outputs": []
    },
    {
      "cell_type": "code",
      "metadata": {
        "colab": {
          "base_uri": "https://localhost:8080/"
        },
        "id": "dZFt5AuxfjPE",
        "outputId": "90f8b7f4-ce00-44ec-ab45-842c6fa87577"
      },
      "source": [
        "for n in [1,2,3,5,7]:\r\n",
        "  model_name = 'MR_swhwt-'+str(index)\r\n",
        "  index += 1\r\n",
        "  res = multiReg(model_name, X, y, dg=n )\r\n",
        "  print(res)\r\n",
        "  DF_res_mr_bs = DF_res_mr_bs.append(res, ignore_index=True)"
      ],
      "execution_count": 23,
      "outputs": [
        {
          "output_type": "stream",
          "text": [
            "{'model_id': 'MR_swhwt-11', '차수': 1, 'MSE': 154.3150222809306}\n",
            "{'model_id': 'MR_swhwt-12', '차수': 2, 'MSE': 135.48363119316272}\n",
            "{'model_id': 'MR_swhwt-13', '차수': 3, 'MSE': 127.53542600510778}\n",
            "{'model_id': 'MR_swhwt-14', '차수': 5, 'MSE': 118.26079753089451}\n",
            "{'model_id': 'MR_swhwt-15', '차수': 7, 'MSE': 102.09332905378643}\n"
          ],
          "name": "stdout"
        }
      ]
    },
    {
      "cell_type": "markdown",
      "metadata": {
        "id": "hOBHOOQugqKO"
      },
      "source": [
        "### (4) X = all"
      ]
    },
    {
      "cell_type": "code",
      "metadata": {
        "colab": {
          "base_uri": "https://localhost:8080/"
        },
        "id": "-MQfrPrSggPM",
        "outputId": "748bd691-5f92-4185-ea39-c43592dec09e"
      },
      "source": [
        "X = DF[['season',\t'holiday',\t'workingday',\t'weather',\t'temp',\t'atemp',\t'humidity',\t'windspeed','year',\t'month',\t'day',\t'hour']]\r\n",
        "y= DF['count']\r\n",
        "%%time\r\n",
        "\r\n",
        "for n in [1,2,3,5,7]:\r\n",
        "  model_name = 'MR_all-'+str(index)\r\n",
        "  index += 1\r\n",
        "  res = multiReg(model_name, X, y, dg=n )\r\n",
        "  print(res)\r\n",
        "  DF_res_mr_bs = DF_res_mr_bs.append(res, ignore_index=True)"
      ],
      "execution_count": 24,
      "outputs": [
        {
          "output_type": "stream",
          "text": [
            "{'model_id': 'MR_all-16', '차수': 1, 'MSE': 144.3308883322238}\n",
            "{'model_id': 'MR_all-17', '차수': 2, 'MSE': 123.89424608098831}\n",
            "{'model_id': 'MR_all-18', '차수': 3, 'MSE': 116.57023848149502}\n",
            "{'model_id': 'MR_all-19', '차수': 5, 'MSE': 73412467962.74333}\n",
            "{'model_id': 'MR_all-20', '차수': 7, 'MSE': 47389.39727168527}\n"
          ],
          "name": "stdout"
        }
      ]
    },
    {
      "cell_type": "markdown",
      "metadata": {
        "id": "OF9KICXqjtWD"
      },
      "source": [
        "#### 5차항부터는 overfitting"
      ]
    },
    {
      "cell_type": "markdown",
      "metadata": {
        "id": "jlzXRUsKgH7c"
      },
      "source": [
        "### (5) MSE 비교"
      ]
    },
    {
      "cell_type": "code",
      "metadata": {
        "colab": {
          "base_uri": "https://localhost:8080/",
          "height": 655
        },
        "id": "OnrQweTsfuOL",
        "outputId": "02944267-14db-4e4a-de59-391af0fc0574"
      },
      "source": [
        "DF_res_mr_bs_sort = DF_res_mr_bs.sort_values(by='MSE', ascending=True)\r\n",
        "DF_res_mr_bs_sort"
      ],
      "execution_count": 25,
      "outputs": [
        {
          "output_type": "execute_result",
          "data": {
            "text/html": [
              "<div>\n",
              "<style scoped>\n",
              "    .dataframe tbody tr th:only-of-type {\n",
              "        vertical-align: middle;\n",
              "    }\n",
              "\n",
              "    .dataframe tbody tr th {\n",
              "        vertical-align: top;\n",
              "    }\n",
              "\n",
              "    .dataframe thead th {\n",
              "        text-align: right;\n",
              "    }\n",
              "</style>\n",
              "<table border=\"1\" class=\"dataframe\">\n",
              "  <thead>\n",
              "    <tr style=\"text-align: right;\">\n",
              "      <th></th>\n",
              "      <th>model_id</th>\n",
              "      <th>차수</th>\n",
              "      <th>MSE</th>\n",
              "    </tr>\n",
              "  </thead>\n",
              "  <tbody>\n",
              "    <tr>\n",
              "      <th>14</th>\n",
              "      <td>MR_swhwt-15</td>\n",
              "      <td>7</td>\n",
              "      <td>1.020933e+02</td>\n",
              "    </tr>\n",
              "    <tr>\n",
              "      <th>4</th>\n",
              "      <td>MR_swh-5</td>\n",
              "      <td>7</td>\n",
              "      <td>1.118699e+02</td>\n",
              "    </tr>\n",
              "    <tr>\n",
              "      <th>17</th>\n",
              "      <td>MR_all-18</td>\n",
              "      <td>3</td>\n",
              "      <td>1.165702e+02</td>\n",
              "    </tr>\n",
              "    <tr>\n",
              "      <th>13</th>\n",
              "      <td>MR_swhwt-14</td>\n",
              "      <td>5</td>\n",
              "      <td>1.182608e+02</td>\n",
              "    </tr>\n",
              "    <tr>\n",
              "      <th>16</th>\n",
              "      <td>MR_all-17</td>\n",
              "      <td>2</td>\n",
              "      <td>1.238942e+02</td>\n",
              "    </tr>\n",
              "    <tr>\n",
              "      <th>12</th>\n",
              "      <td>MR_swhwt-13</td>\n",
              "      <td>3</td>\n",
              "      <td>1.275354e+02</td>\n",
              "    </tr>\n",
              "    <tr>\n",
              "      <th>3</th>\n",
              "      <td>MR_swh-4</td>\n",
              "      <td>5</td>\n",
              "      <td>1.276283e+02</td>\n",
              "    </tr>\n",
              "    <tr>\n",
              "      <th>2</th>\n",
              "      <td>MR_swh-3</td>\n",
              "      <td>3</td>\n",
              "      <td>1.346696e+02</td>\n",
              "    </tr>\n",
              "    <tr>\n",
              "      <th>11</th>\n",
              "      <td>MR_swhwt-12</td>\n",
              "      <td>2</td>\n",
              "      <td>1.354836e+02</td>\n",
              "    </tr>\n",
              "    <tr>\n",
              "      <th>1</th>\n",
              "      <td>MR_swh-2</td>\n",
              "      <td>2</td>\n",
              "      <td>1.440412e+02</td>\n",
              "    </tr>\n",
              "    <tr>\n",
              "      <th>15</th>\n",
              "      <td>MR_all-16</td>\n",
              "      <td>1</td>\n",
              "      <td>1.443309e+02</td>\n",
              "    </tr>\n",
              "    <tr>\n",
              "      <th>10</th>\n",
              "      <td>MR_swhwt-11</td>\n",
              "      <td>1</td>\n",
              "      <td>1.543150e+02</td>\n",
              "    </tr>\n",
              "    <tr>\n",
              "      <th>0</th>\n",
              "      <td>MR_swh-1</td>\n",
              "      <td>1</td>\n",
              "      <td>1.647119e+02</td>\n",
              "    </tr>\n",
              "    <tr>\n",
              "      <th>8</th>\n",
              "      <td>MR_wt-9</td>\n",
              "      <td>5</td>\n",
              "      <td>1.667349e+02</td>\n",
              "    </tr>\n",
              "    <tr>\n",
              "      <th>9</th>\n",
              "      <td>MR_wt-10</td>\n",
              "      <td>7</td>\n",
              "      <td>1.667470e+02</td>\n",
              "    </tr>\n",
              "    <tr>\n",
              "      <th>7</th>\n",
              "      <td>MR_wt-8</td>\n",
              "      <td>3</td>\n",
              "      <td>1.671830e+02</td>\n",
              "    </tr>\n",
              "    <tr>\n",
              "      <th>6</th>\n",
              "      <td>MR_wt-7</td>\n",
              "      <td>2</td>\n",
              "      <td>1.673288e+02</td>\n",
              "    </tr>\n",
              "    <tr>\n",
              "      <th>5</th>\n",
              "      <td>MR_wt-6</td>\n",
              "      <td>1</td>\n",
              "      <td>1.673957e+02</td>\n",
              "    </tr>\n",
              "    <tr>\n",
              "      <th>19</th>\n",
              "      <td>MR_all-20</td>\n",
              "      <td>7</td>\n",
              "      <td>4.738940e+04</td>\n",
              "    </tr>\n",
              "    <tr>\n",
              "      <th>18</th>\n",
              "      <td>MR_all-19</td>\n",
              "      <td>5</td>\n",
              "      <td>7.341247e+10</td>\n",
              "    </tr>\n",
              "  </tbody>\n",
              "</table>\n",
              "</div>"
            ],
            "text/plain": [
              "       model_id 차수           MSE\n",
              "14  MR_swhwt-15  7  1.020933e+02\n",
              "4      MR_swh-5  7  1.118699e+02\n",
              "17    MR_all-18  3  1.165702e+02\n",
              "13  MR_swhwt-14  5  1.182608e+02\n",
              "16    MR_all-17  2  1.238942e+02\n",
              "12  MR_swhwt-13  3  1.275354e+02\n",
              "3      MR_swh-4  5  1.276283e+02\n",
              "2      MR_swh-3  3  1.346696e+02\n",
              "11  MR_swhwt-12  2  1.354836e+02\n",
              "1      MR_swh-2  2  1.440412e+02\n",
              "15    MR_all-16  1  1.443309e+02\n",
              "10  MR_swhwt-11  1  1.543150e+02\n",
              "0      MR_swh-1  1  1.647119e+02\n",
              "8       MR_wt-9  5  1.667349e+02\n",
              "9      MR_wt-10  7  1.667470e+02\n",
              "7       MR_wt-8  3  1.671830e+02\n",
              "6       MR_wt-7  2  1.673288e+02\n",
              "5       MR_wt-6  1  1.673957e+02\n",
              "19    MR_all-20  7  4.738940e+04\n",
              "18    MR_all-19  5  7.341247e+10"
            ]
          },
          "metadata": {
            "tags": []
          },
          "execution_count": 25
        }
      ]
    },
    {
      "cell_type": "markdown",
      "metadata": {
        "id": "M5_5Ss2UgQJN"
      },
      "source": [
        "# 4, Random Forest"
      ]
    },
    {
      "cell_type": "markdown",
      "metadata": {
        "id": "s_-Kt0PcgXF0"
      },
      "source": [
        "## 1) Regression"
      ]
    },
    {
      "cell_type": "code",
      "metadata": {
        "id": "JIIUWdoEgber"
      },
      "source": [
        "from sklearn.ensemble import RandomForestRegressor\r\n",
        "from sklearn.metrics import accuracy_score"
      ],
      "execution_count": 6,
      "outputs": []
    },
    {
      "cell_type": "markdown",
      "metadata": {
        "id": "Fmrsc4H0iW30"
      },
      "source": [
        "### 모델링 함수"
      ]
    },
    {
      "cell_type": "code",
      "metadata": {
        "id": "ACahbeXphUiH"
      },
      "source": [
        "def randomForest(model_name, X, y, n_est, mf='auto', md=None):\r\n",
        "  # split\r\n",
        "  X_train, X_test, y_train, y_test = train_test_split(X, y, test_size = 0.3, random_state=2045)\r\n",
        "\r\n",
        "  # model\r\n",
        "  model_rfr = RandomForestRegressor(n_estimators = n_est, max_features = mf, max_depth =md, criterion = 'mse', n_jobs= -1, random_state=2045)\r\n",
        "  model_rfr.fit(X_train, y_train)\r\n",
        "\r\n",
        "  # evaluate\r\n",
        "  m_s_e = mean_squared_error(y_test, model_rfr.predict(X_test))\r\n",
        "  mse = np.sqrt(m_s_e)\r\n",
        "\r\n",
        "  return {'model_id':model_name, 'n_estimators':n_est, 'max_features':mf, 'max_depth':md, 'MSE':mse}"
      ],
      "execution_count": 12,
      "outputs": []
    },
    {
      "cell_type": "code",
      "metadata": {
        "id": "xhzfW6fei8l9"
      },
      "source": [
        "DF_res_rfr = pd.DataFrame(data=None, columns = ['model_id','n_estimators','max_features','max_depth','MSE'])"
      ],
      "execution_count": 28,
      "outputs": []
    },
    {
      "cell_type": "code",
      "metadata": {
        "id": "16OWBX81oMtH"
      },
      "source": [
        "X = DF[['season',\t'holiday',\t'workingday',\t'weather',\t'temp',\t'atemp',\t'humidity',\t'windspeed','year',\t'month',\t'day',\t'hour']]\r\n",
        "y = DF['count']"
      ],
      "execution_count": 9,
      "outputs": []
    },
    {
      "cell_type": "markdown",
      "metadata": {
        "id": "WhdQPu89ibNU"
      },
      "source": [
        "### (1) n_est 조정"
      ]
    },
    {
      "cell_type": "code",
      "metadata": {
        "colab": {
          "base_uri": "https://localhost:8080/",
          "height": 48
        },
        "id": "HiZQdNxoma7g",
        "outputId": "46859c8c-f627-42f5-b419-40083ac02d73"
      },
      "source": [
        "# DF_res_rfr.drop(index=range(0,4), inplace=True)\r\n",
        "# DF_res_rfr"
      ],
      "execution_count": 45,
      "outputs": [
        {
          "output_type": "execute_result",
          "data": {
            "text/html": [
              "<div>\n",
              "<style scoped>\n",
              "    .dataframe tbody tr th:only-of-type {\n",
              "        vertical-align: middle;\n",
              "    }\n",
              "\n",
              "    .dataframe tbody tr th {\n",
              "        vertical-align: top;\n",
              "    }\n",
              "\n",
              "    .dataframe thead th {\n",
              "        text-align: right;\n",
              "    }\n",
              "</style>\n",
              "<table border=\"1\" class=\"dataframe\">\n",
              "  <thead>\n",
              "    <tr style=\"text-align: right;\">\n",
              "      <th></th>\n",
              "      <th>model_id</th>\n",
              "      <th>n_estimators</th>\n",
              "      <th>max_features</th>\n",
              "      <th>max_depth</th>\n",
              "      <th>MSE</th>\n",
              "    </tr>\n",
              "  </thead>\n",
              "  <tbody>\n",
              "  </tbody>\n",
              "</table>\n",
              "</div>"
            ],
            "text/plain": [
              "Empty DataFrame\n",
              "Columns: [model_id, n_estimators, max_features, max_depth, MSE]\n",
              "Index: []"
            ]
          },
          "metadata": {
            "tags": []
          },
          "execution_count": 45
        }
      ]
    },
    {
      "cell_type": "code",
      "metadata": {
        "colab": {
          "base_uri": "https://localhost:8080/"
        },
        "id": "yTaIbZFUiZei",
        "outputId": "d5331c10-a6dd-4343-b074-020ec797d0ce"
      },
      "source": [
        "%%time\r\n",
        "a = [100, 300, 500, 1000]\r\n",
        "index = 1\r\n",
        "for n in a:\r\n",
        "  model_name = 'RFR-'+str(index)\r\n",
        "  index += 1\r\n",
        "  res = randomForest(model_name, X, y, n_est=n)\r\n",
        "  print(res)\r\n",
        "  DF_res_rfr = DF_res_rfr.append(res, ignore_index=True)"
      ],
      "execution_count": 30,
      "outputs": [
        {
          "output_type": "stream",
          "text": [
            "{'model_id': 'RFR-1', 'n_estimators': 100, 'max_features': 'auto', 'max_depth': None, 'MSE': 42.81171267315258}\n",
            "{'model_id': 'RFR-2', 'n_estimators': 300, 'max_features': 'auto', 'max_depth': None, 'MSE': 42.787661076721776}\n",
            "{'model_id': 'RFR-3', 'n_estimators': 500, 'max_features': 'auto', 'max_depth': None, 'MSE': 42.7657728440677}\n",
            "{'model_id': 'RFR-4', 'n_estimators': 1000, 'max_features': 'auto', 'max_depth': None, 'MSE': 42.775752410185625}\n",
            "CPU times: user 1min 26s, sys: 1.24 s, total: 1min 28s\n",
            "Wall time: 46.2 s\n"
          ],
          "name": "stdout"
        }
      ]
    },
    {
      "cell_type": "code",
      "metadata": {
        "colab": {
          "base_uri": "https://localhost:8080/"
        },
        "id": "79zADN5ymIM0",
        "outputId": "21aa1051-a3cd-4304-ae91-35fa1845cb58"
      },
      "source": [
        "%%time\r\n",
        "a = [2000, 3000]\r\n",
        "\r\n",
        "for n in a:\r\n",
        "  model_name = 'RFR-'+str(index)\r\n",
        "  index += 1\r\n",
        "  res = randomForest(model_name, X, y, n_est=n)\r\n",
        "  print(res)\r\n",
        "  DF_res_rfr = DF_res_rfr.append(res, ignore_index=True)"
      ],
      "execution_count": 31,
      "outputs": [
        {
          "output_type": "stream",
          "text": [
            "{'model_id': 'RFR-5', 'n_estimators': 2000, 'max_features': 'auto', 'max_depth': None, 'MSE': 42.703273570982816}\n",
            "{'model_id': 'RFR-6', 'n_estimators': 3000, 'max_features': 'auto', 'max_depth': None, 'MSE': 42.71090747570433}\n",
            "CPU times: user 3min 48s, sys: 8.47 s, total: 3min 57s\n",
            "Wall time: 2min 5s\n"
          ],
          "name": "stdout"
        }
      ]
    },
    {
      "cell_type": "code",
      "metadata": {
        "colab": {
          "base_uri": "https://localhost:8080/"
        },
        "id": "bL-naoIfnmQj",
        "outputId": "8c75a870-1845-49ba-a5e5-9ef6d1fbe2b8"
      },
      "source": [
        "a = [5000]\r\n",
        "\r\n",
        "for n in a:\r\n",
        "  model_name = 'RFR-'+str(index)\r\n",
        "  index += 1\r\n",
        "  res = randomForest(model_name, X, y, n_est=n)\r\n",
        "  print(res)\r\n",
        "  DF_res_rfr = DF_res_rfr.append(res, ignore_index=True)"
      ],
      "execution_count": 32,
      "outputs": [
        {
          "output_type": "stream",
          "text": [
            "{'model_id': 'RFR-7', 'n_estimators': 5000, 'max_features': 'auto', 'max_depth': None, 'MSE': 42.74293239625889}\n"
          ],
          "name": "stdout"
        }
      ]
    },
    {
      "cell_type": "markdown",
      "metadata": {
        "id": "6O29RExnj2dC"
      },
      "source": [
        "### (2) max_depth 조정"
      ]
    },
    {
      "cell_type": "code",
      "metadata": {
        "colab": {
          "base_uri": "https://localhost:8080/"
        },
        "id": "fWZBuX_kkIZP",
        "outputId": "3024ad1a-30e5-4939-e48f-bedb90d48fcb"
      },
      "source": [
        "%%time\r\n",
        "a = [2,3,5,9]\r\n",
        "index += 1\r\n",
        "for n in a:\r\n",
        "  model_name = 'RFR-'+str(index)\r\n",
        "  index += 1\r\n",
        "  res = randomForest(model_name, X, y, n_est= 2000, md=n)\r\n",
        "  print(res)\r\n",
        "  DF_res_rfr = DF_res_rfr.append(res, ignore_index=True)"
      ],
      "execution_count": 35,
      "outputs": [
        {
          "output_type": "stream",
          "text": [
            "{'model_id': 'RFR-9', 'n_estimators': 2000, 'max_features': 'auto', 'max_depth': 2, 'MSE': 133.16636003648597}\n",
            "{'model_id': 'RFR-10', 'n_estimators': 2000, 'max_features': 'auto', 'max_depth': 3, 'MSE': 121.3524579771189}\n",
            "{'model_id': 'RFR-11', 'n_estimators': 2000, 'max_features': 'auto', 'max_depth': 5, 'MSE': 102.06002460599203}\n",
            "{'model_id': 'RFR-12', 'n_estimators': 2000, 'max_features': 'auto', 'max_depth': 9, 'MSE': 52.581098030737316}\n",
            "CPU times: user 1min 52s, sys: 1.6 s, total: 1min 53s\n",
            "Wall time: 1min 1s\n"
          ],
          "name": "stdout"
        }
      ]
    },
    {
      "cell_type": "code",
      "metadata": {
        "colab": {
          "base_uri": "https://localhost:8080/"
        },
        "id": "zi-CYAhbmDDJ",
        "outputId": "a769d749-4e33-423c-93bf-4515af88dd47"
      },
      "source": [
        "%%time\r\n",
        "a = [11,15,20]\r\n",
        "index += 1\r\n",
        "for n in a:\r\n",
        "  model_name = 'RFR-'+str(index)\r\n",
        "  index += 1\r\n",
        "  res = randomForest(model_name, X, y, n_est= 2000, md =n)\r\n",
        "  print(res)\r\n",
        "  DF_res_rfr = DF_res_rfr.append(res, ignore_index=True)"
      ],
      "execution_count": 36,
      "outputs": [
        {
          "output_type": "stream",
          "text": [
            "{'model_id': 'RFR-14', 'n_estimators': 2000, 'max_features': 'auto', 'max_depth': 11, 'MSE': 45.5267487692764}\n",
            "{'model_id': 'RFR-15', 'n_estimators': 2000, 'max_features': 'auto', 'max_depth': 15, 'MSE': 42.91707467922665}\n",
            "{'model_id': 'RFR-16', 'n_estimators': 2000, 'max_features': 'auto', 'max_depth': 20, 'MSE': 42.66644703450256}\n",
            "CPU times: user 3min 57s, sys: 6.44 s, total: 4min 4s\n",
            "Wall time: 2min 8s\n"
          ],
          "name": "stdout"
        }
      ]
    },
    {
      "cell_type": "markdown",
      "metadata": {
        "id": "yo_87oYUk3vD"
      },
      "source": [
        "### (3) max_features 조정"
      ]
    },
    {
      "cell_type": "code",
      "metadata": {
        "colab": {
          "base_uri": "https://localhost:8080/",
          "height": 473
        },
        "id": "XhDxZK0qxxa_",
        "outputId": "78198056-637a-47a7-ab98-f9d813380819"
      },
      "source": [
        "DF_res_rfr.sort_values(by='MSE')"
      ],
      "execution_count": 37,
      "outputs": [
        {
          "output_type": "execute_result",
          "data": {
            "text/html": [
              "<div>\n",
              "<style scoped>\n",
              "    .dataframe tbody tr th:only-of-type {\n",
              "        vertical-align: middle;\n",
              "    }\n",
              "\n",
              "    .dataframe tbody tr th {\n",
              "        vertical-align: top;\n",
              "    }\n",
              "\n",
              "    .dataframe thead th {\n",
              "        text-align: right;\n",
              "    }\n",
              "</style>\n",
              "<table border=\"1\" class=\"dataframe\">\n",
              "  <thead>\n",
              "    <tr style=\"text-align: right;\">\n",
              "      <th></th>\n",
              "      <th>model_id</th>\n",
              "      <th>n_estimators</th>\n",
              "      <th>max_features</th>\n",
              "      <th>max_depth</th>\n",
              "      <th>MSE</th>\n",
              "    </tr>\n",
              "  </thead>\n",
              "  <tbody>\n",
              "    <tr>\n",
              "      <th>13</th>\n",
              "      <td>RFR-16</td>\n",
              "      <td>2000</td>\n",
              "      <td>auto</td>\n",
              "      <td>20</td>\n",
              "      <td>42.666447</td>\n",
              "    </tr>\n",
              "    <tr>\n",
              "      <th>4</th>\n",
              "      <td>RFR-5</td>\n",
              "      <td>2000</td>\n",
              "      <td>auto</td>\n",
              "      <td>None</td>\n",
              "      <td>42.703274</td>\n",
              "    </tr>\n",
              "    <tr>\n",
              "      <th>5</th>\n",
              "      <td>RFR-6</td>\n",
              "      <td>3000</td>\n",
              "      <td>auto</td>\n",
              "      <td>None</td>\n",
              "      <td>42.710907</td>\n",
              "    </tr>\n",
              "    <tr>\n",
              "      <th>6</th>\n",
              "      <td>RFR-7</td>\n",
              "      <td>5000</td>\n",
              "      <td>auto</td>\n",
              "      <td>None</td>\n",
              "      <td>42.742932</td>\n",
              "    </tr>\n",
              "    <tr>\n",
              "      <th>2</th>\n",
              "      <td>RFR-3</td>\n",
              "      <td>500</td>\n",
              "      <td>auto</td>\n",
              "      <td>None</td>\n",
              "      <td>42.765773</td>\n",
              "    </tr>\n",
              "    <tr>\n",
              "      <th>3</th>\n",
              "      <td>RFR-4</td>\n",
              "      <td>1000</td>\n",
              "      <td>auto</td>\n",
              "      <td>None</td>\n",
              "      <td>42.775752</td>\n",
              "    </tr>\n",
              "    <tr>\n",
              "      <th>1</th>\n",
              "      <td>RFR-2</td>\n",
              "      <td>300</td>\n",
              "      <td>auto</td>\n",
              "      <td>None</td>\n",
              "      <td>42.787661</td>\n",
              "    </tr>\n",
              "    <tr>\n",
              "      <th>0</th>\n",
              "      <td>RFR-1</td>\n",
              "      <td>100</td>\n",
              "      <td>auto</td>\n",
              "      <td>None</td>\n",
              "      <td>42.811713</td>\n",
              "    </tr>\n",
              "    <tr>\n",
              "      <th>12</th>\n",
              "      <td>RFR-15</td>\n",
              "      <td>2000</td>\n",
              "      <td>auto</td>\n",
              "      <td>15</td>\n",
              "      <td>42.917075</td>\n",
              "    </tr>\n",
              "    <tr>\n",
              "      <th>11</th>\n",
              "      <td>RFR-14</td>\n",
              "      <td>2000</td>\n",
              "      <td>auto</td>\n",
              "      <td>11</td>\n",
              "      <td>45.526749</td>\n",
              "    </tr>\n",
              "    <tr>\n",
              "      <th>10</th>\n",
              "      <td>RFR-12</td>\n",
              "      <td>2000</td>\n",
              "      <td>auto</td>\n",
              "      <td>9</td>\n",
              "      <td>52.581098</td>\n",
              "    </tr>\n",
              "    <tr>\n",
              "      <th>9</th>\n",
              "      <td>RFR-11</td>\n",
              "      <td>2000</td>\n",
              "      <td>auto</td>\n",
              "      <td>5</td>\n",
              "      <td>102.060025</td>\n",
              "    </tr>\n",
              "    <tr>\n",
              "      <th>8</th>\n",
              "      <td>RFR-10</td>\n",
              "      <td>2000</td>\n",
              "      <td>auto</td>\n",
              "      <td>3</td>\n",
              "      <td>121.352458</td>\n",
              "    </tr>\n",
              "    <tr>\n",
              "      <th>7</th>\n",
              "      <td>RFR-9</td>\n",
              "      <td>2000</td>\n",
              "      <td>auto</td>\n",
              "      <td>2</td>\n",
              "      <td>133.166360</td>\n",
              "    </tr>\n",
              "  </tbody>\n",
              "</table>\n",
              "</div>"
            ],
            "text/plain": [
              "   model_id n_estimators max_features max_depth         MSE\n",
              "13   RFR-16         2000         auto        20   42.666447\n",
              "4     RFR-5         2000         auto      None   42.703274\n",
              "5     RFR-6         3000         auto      None   42.710907\n",
              "6     RFR-7         5000         auto      None   42.742932\n",
              "2     RFR-3          500         auto      None   42.765773\n",
              "3     RFR-4         1000         auto      None   42.775752\n",
              "1     RFR-2          300         auto      None   42.787661\n",
              "0     RFR-1          100         auto      None   42.811713\n",
              "12   RFR-15         2000         auto        15   42.917075\n",
              "11   RFR-14         2000         auto        11   45.526749\n",
              "10   RFR-12         2000         auto         9   52.581098\n",
              "9    RFR-11         2000         auto         5  102.060025\n",
              "8    RFR-10         2000         auto         3  121.352458\n",
              "7     RFR-9         2000         auto         2  133.166360"
            ]
          },
          "metadata": {
            "tags": []
          },
          "execution_count": 37
        }
      ]
    },
    {
      "cell_type": "code",
      "metadata": {
        "colab": {
          "base_uri": "https://localhost:8080/"
        },
        "id": "jc086ROhk7Xq",
        "outputId": "c978c27b-d370-4874-8bcd-2797a747eccb"
      },
      "source": [
        "%%time\r\n",
        "a = [2,3,5,9]\r\n",
        "for n in a:\r\n",
        "  model_name = 'RFR-'+str(index)\r\n",
        "  index += 1\r\n",
        "  res = randomForest(model_name, X, y, n_est=2000, md= 20, mf=n)\r\n",
        "  print(res)\r\n",
        "  DF_res_rfr = DF_res_rfr.append(res, ignore_index=True)"
      ],
      "execution_count": 39,
      "outputs": [
        {
          "output_type": "stream",
          "text": [
            "{'model_id': 'RFR-23', 'n_estimators': 2000, 'max_features': 2, 'max_depth': 20, 'MSE': 78.54873154074167}\n",
            "{'model_id': 'RFR-24', 'n_estimators': 2000, 'max_features': 3, 'max_depth': 20, 'MSE': 67.62193079579876}\n",
            "{'model_id': 'RFR-25', 'n_estimators': 2000, 'max_features': 5, 'max_depth': 20, 'MSE': 52.049595240226786}\n",
            "{'model_id': 'RFR-26', 'n_estimators': 2000, 'max_features': 9, 'max_depth': 20, 'MSE': 42.89593625390982}\n",
            "CPU times: user 3min 7s, sys: 7.84 s, total: 3min 14s\n",
            "Wall time: 1min 46s\n"
          ],
          "name": "stdout"
        }
      ]
    },
    {
      "cell_type": "markdown",
      "metadata": {
        "id": "CjAaWO5Vm7gl"
      },
      "source": [
        "### (4) MSE 비교"
      ]
    },
    {
      "cell_type": "code",
      "metadata": {
        "colab": {
          "base_uri": "https://localhost:8080/",
          "height": 192
        },
        "id": "XHv8kjqam9Q1",
        "outputId": "0f04f326-b0b5-45f4-f0c6-249e2c84111b"
      },
      "source": [
        "DF_res_rfr_sort = DF_res_rfr.sort_values(by='MSE', ascending=True)\r\n",
        "DF_res_rfr_sort"
      ],
      "execution_count": 13,
      "outputs": [
        {
          "output_type": "error",
          "ename": "NameError",
          "evalue": "ignored",
          "traceback": [
            "\u001b[0;31m---------------------------------------------------------------------------\u001b[0m",
            "\u001b[0;31mNameError\u001b[0m                                 Traceback (most recent call last)",
            "\u001b[0;32m<ipython-input-13-e98d064f6b1c>\u001b[0m in \u001b[0;36m<module>\u001b[0;34m()\u001b[0m\n\u001b[0;32m----> 1\u001b[0;31m \u001b[0mDF_res_rfr_sort\u001b[0m \u001b[0;34m=\u001b[0m \u001b[0mDF_res_rfr\u001b[0m\u001b[0;34m.\u001b[0m\u001b[0msort_values\u001b[0m\u001b[0;34m(\u001b[0m\u001b[0mby\u001b[0m\u001b[0;34m=\u001b[0m\u001b[0;34m'MSE'\u001b[0m\u001b[0;34m,\u001b[0m \u001b[0mascending\u001b[0m\u001b[0;34m=\u001b[0m\u001b[0;32mTrue\u001b[0m\u001b[0;34m)\u001b[0m\u001b[0;34m\u001b[0m\u001b[0;34m\u001b[0m\u001b[0m\n\u001b[0m\u001b[1;32m      2\u001b[0m \u001b[0mDF_res_rfr_sort\u001b[0m\u001b[0;34m\u001b[0m\u001b[0;34m\u001b[0m\u001b[0m\n",
            "\u001b[0;31mNameError\u001b[0m: name 'DF_res_rfr' is not defined"
          ]
        }
      ]
    },
    {
      "cell_type": "markdown",
      "metadata": {
        "id": "wQV-K8EJxFRN"
      },
      "source": [
        "### Feature Importances"
      ]
    },
    {
      "cell_type": "code",
      "metadata": {
        "colab": {
          "base_uri": "https://localhost:8080/",
          "height": 265
        },
        "id": "78uy77JS19Y4",
        "outputId": "e5171583-4ccc-41dd-d6b7-be5d34f8aba0"
      },
      "source": [
        "import matplotlib.pyplot as plt\r\n",
        "import seaborn as sns\r\n",
        "sns.barplot(model_rfr.feature_importances_, \r\n",
        "            ['season',\t'holiday',\t'workingday',\t'weather',\t'temp',\t'atemp',\t'humidity',\t'windspeed','year',\t'month',\t'day',\t'hour'])\r\n",
        "plt.show()"
      ],
      "execution_count": 14,
      "outputs": [
        {
          "output_type": "error",
          "ename": "NameError",
          "evalue": "ignored",
          "traceback": [
            "\u001b[0;31m---------------------------------------------------------------------------\u001b[0m",
            "\u001b[0;31mNameError\u001b[0m                                 Traceback (most recent call last)",
            "\u001b[0;32m<ipython-input-14-e25bdcb1ed92>\u001b[0m in \u001b[0;36m<module>\u001b[0;34m()\u001b[0m\n\u001b[1;32m      1\u001b[0m \u001b[0;32mimport\u001b[0m \u001b[0mmatplotlib\u001b[0m\u001b[0;34m.\u001b[0m\u001b[0mpyplot\u001b[0m \u001b[0;32mas\u001b[0m \u001b[0mplt\u001b[0m\u001b[0;34m\u001b[0m\u001b[0;34m\u001b[0m\u001b[0m\n\u001b[1;32m      2\u001b[0m \u001b[0;32mimport\u001b[0m \u001b[0mseaborn\u001b[0m \u001b[0;32mas\u001b[0m \u001b[0msns\u001b[0m\u001b[0;34m\u001b[0m\u001b[0;34m\u001b[0m\u001b[0m\n\u001b[0;32m----> 3\u001b[0;31m sns.barplot(model_rfr.feature_importances_, \n\u001b[0m\u001b[1;32m      4\u001b[0m             ['season',\t'holiday',\t'workingday',\t'weather',\t'temp',\t'atemp',\t'humidity',\t'windspeed','year',\t'month',\t'day',\t'hour'])\n\u001b[1;32m      5\u001b[0m \u001b[0mplt\u001b[0m\u001b[0;34m.\u001b[0m\u001b[0mshow\u001b[0m\u001b[0;34m(\u001b[0m\u001b[0;34m)\u001b[0m\u001b[0;34m\u001b[0m\u001b[0;34m\u001b[0m\u001b[0m\n",
            "\u001b[0;31mNameError\u001b[0m: name 'model_rfr' is not defined"
          ]
        }
      ]
    },
    {
      "cell_type": "markdown",
      "metadata": {
        "id": "U4gcHUKGnEcf"
      },
      "source": [
        "## 2) Classifier"
      ]
    },
    {
      "cell_type": "markdown",
      "metadata": {
        "id": "QW_r2ojOnPUY"
      },
      "source": [
        "### 모델링 함수"
      ]
    },
    {
      "cell_type": "code",
      "metadata": {
        "id": "aAEqzvxOndt4"
      },
      "source": [
        "from sklearn.ensemble import RandomForestClassifier\r\n",
        "from sklearn.metrics import accuracy_score"
      ],
      "execution_count": 7,
      "outputs": []
    },
    {
      "cell_type": "code",
      "metadata": {
        "id": "DtxIAEubnO23"
      },
      "source": [
        "def ranforclass(model_name, X, y, n_est, mf='auto', md=None):\r\n",
        "  # split\r\n",
        "  X_train, X_test, y_train, y_test = train_test_split(X, y, test_size = 0.3, random_state=2045)\r\n",
        "\r\n",
        "  # model\r\n",
        "  model_rfc = RandomForestClassifier(n_estimators = n_est, max_features = mf, max_depth =md, criterion ='entropy', n_jobs= -1, random_state=2045)\r\n",
        "  model_rfc.fit(X_train, y_train)\r\n",
        "\r\n",
        "  # evaluate\r\n",
        "  score_ac = accuracy_score(y_test, model_rfc.predict(X_test))\r\n",
        "\r\n",
        "  return {'model_id':model_name, 'n_estimators':n_est, 'max_features':mf, 'max_depth':md, 'accuracy_score':score_ac}"
      ],
      "execution_count": 8,
      "outputs": []
    },
    {
      "cell_type": "code",
      "metadata": {
        "id": "DQ0D24mCsUGJ"
      },
      "source": [
        "X = DF[['season',\t'holiday',\t'workingday',\t'weather',\t'temp',\t'atemp',\t'humidity',\t'windspeed','year',\t'month',\t'day',\t'hour']]\r\n",
        "y = DF['count']\r\n",
        "\r\n",
        "DF_res_rfc = pd.DataFrame(data=None, columns = ['model_id','n_estimators','max_features','max_depth','accuracy_score'])"
      ],
      "execution_count": 9,
      "outputs": []
    },
    {
      "cell_type": "markdown",
      "metadata": {
        "id": "o68i7Z7ys6BB"
      },
      "source": [
        "### (1) n_est 조정"
      ]
    },
    {
      "cell_type": "code",
      "metadata": {
        "colab": {
          "base_uri": "https://localhost:8080/",
          "height": 48
        },
        "id": "os7XFa5Hs6BI",
        "outputId": "46859c8c-f627-42f5-b419-40083ac02d73"
      },
      "source": [
        "# DF_res_rfc.drop(index=range(0,4), inplace=True)\r\n",
        "# DF_res_rfc"
      ],
      "execution_count": null,
      "outputs": [
        {
          "output_type": "execute_result",
          "data": {
            "text/html": [
              "<div>\n",
              "<style scoped>\n",
              "    .dataframe tbody tr th:only-of-type {\n",
              "        vertical-align: middle;\n",
              "    }\n",
              "\n",
              "    .dataframe tbody tr th {\n",
              "        vertical-align: top;\n",
              "    }\n",
              "\n",
              "    .dataframe thead th {\n",
              "        text-align: right;\n",
              "    }\n",
              "</style>\n",
              "<table border=\"1\" class=\"dataframe\">\n",
              "  <thead>\n",
              "    <tr style=\"text-align: right;\">\n",
              "      <th></th>\n",
              "      <th>model_id</th>\n",
              "      <th>n_estimators</th>\n",
              "      <th>max_features</th>\n",
              "      <th>max_depth</th>\n",
              "      <th>MSE</th>\n",
              "    </tr>\n",
              "  </thead>\n",
              "  <tbody>\n",
              "  </tbody>\n",
              "</table>\n",
              "</div>"
            ],
            "text/plain": [
              "Empty DataFrame\n",
              "Columns: [model_id, n_estimators, max_features, max_depth, MSE]\n",
              "Index: []"
            ]
          },
          "metadata": {
            "tags": []
          },
          "execution_count": 45
        }
      ]
    },
    {
      "cell_type": "code",
      "metadata": {
        "colab": {
          "base_uri": "https://localhost:8080/"
        },
        "id": "nnxqhmaHs6BK",
        "outputId": "32075995-9a84-46bc-b0c7-b061391998f4"
      },
      "source": [
        "%%time\r\n",
        "a = [100, 300]\r\n",
        "index = 1\r\n",
        "for n in a:\r\n",
        "  model_name = 'RFC-'+str(index)\r\n",
        "  index += 1\r\n",
        "  res = ranforclass(model_name, X, y, n_est=n)\r\n",
        "  print(res)\r\n",
        "  DF_res_rfc = DF_res_rfc.append(res, ignore_index=True)"
      ],
      "execution_count": null,
      "outputs": [
        {
          "output_type": "stream",
          "text": [
            "{'model_id': 'RFC-1', 'n_estimators': 100, 'max_features': 'auto', 'max_depth': None, 'accuracy_score': 0.01745254133496632}\n"
          ],
          "name": "stdout"
        }
      ]
    },
    {
      "cell_type": "code",
      "metadata": {
        "id": "KxbcLokq3tYH"
      },
      "source": [
        "%%time\r\n",
        "a = [500]\r\n",
        "index = 1\r\n",
        "for n in a:\r\n",
        "  model_name = 'RFC-'+str(index)\r\n",
        "  index += 1\r\n",
        "  res = ranforclass(model_name, X, y, n_est=n)\r\n",
        "  print(res)\r\n",
        "  DF_res_rfc = DF_res_rfc.append(res, ignore_index=True)"
      ],
      "execution_count": null,
      "outputs": []
    },
    {
      "cell_type": "code",
      "metadata": {
        "id": "-yePREUps6BL"
      },
      "source": [
        "%%time\r\n",
        "a = [2000, 3000]\r\n",
        "\r\n",
        "for n in a:\r\n",
        "  model_name = 'RFC-'+str(index)\r\n",
        "  index += 1\r\n",
        "  res = ranforclass(model_name, X, y, n_est=n)\r\n",
        "  print(res)\r\n",
        "  DF_res_rfc = DF_res_rfc.append(res, ignore_index=True)"
      ],
      "execution_count": null,
      "outputs": []
    },
    {
      "cell_type": "markdown",
      "metadata": {
        "id": "kbH8aI-Bs6BN"
      },
      "source": [
        "### (2) max_depth 조정"
      ]
    },
    {
      "cell_type": "code",
      "metadata": {
        "id": "ATorpZ8ps6BN"
      },
      "source": [
        "%%time\r\n",
        "a = [2,3,5,9]\r\n",
        "index += 1\r\n",
        "for n in a:\r\n",
        "  model_name = 'RFC-'+str(index)\r\n",
        "  index += 1\r\n",
        "  res = ranforclass(model_name, X, y, n_est= , md=n)\r\n",
        "  print(res)\r\n",
        "  DF_res_rfc = DF_res_rfc.append(res, ignore_index=True)"
      ],
      "execution_count": null,
      "outputs": []
    },
    {
      "cell_type": "code",
      "metadata": {
        "id": "kwOA30Tms6BO"
      },
      "source": [
        "%%time\r\n",
        "a = []\r\n",
        "index += 1\r\n",
        "for n in a:\r\n",
        "  model_name = 'RFC-'+str(index)\r\n",
        "  index += 1\r\n",
        "  res = ranforclass(model_name, X, y, n_est= , md =n)\r\n",
        "  print(res)\r\n",
        "  DF_res_rfc = DF_res_rfc.append(res, ignore_index=True)"
      ],
      "execution_count": null,
      "outputs": []
    },
    {
      "cell_type": "markdown",
      "metadata": {
        "id": "Pyks13Dws6BO"
      },
      "source": [
        "### (3) max_features 조정"
      ]
    },
    {
      "cell_type": "code",
      "metadata": {
        "id": "DYW30UH7s6BP"
      },
      "source": [
        "%%time\r\n",
        "a = [2,3,5,9]\r\n",
        "index += 1\r\n",
        "for n in range(1,):\r\n",
        "  model_name = 'RFC-'+str(index)\r\n",
        "  index += 1\r\n",
        "  res = ranforclass(model_name, X, y, n_est=, md= , mf=n)\r\n",
        "  print(res)\r\n",
        "  DF_res_rfc = DF_res_rfc.append(res, ignore_index=True)"
      ],
      "execution_count": null,
      "outputs": []
    },
    {
      "cell_type": "markdown",
      "metadata": {
        "id": "-dKlyHgNs6BP"
      },
      "source": [
        "### (4) MSE 비교"
      ]
    },
    {
      "cell_type": "code",
      "metadata": {
        "id": "6fortCQ3s6BQ"
      },
      "source": [
        "DF_res_rfc_sort = DF_res_rfc.sort_values(by='accuracy_score', ascending=True)\r\n",
        "DF_res_rfc_sort"
      ],
      "execution_count": null,
      "outputs": []
    },
    {
      "cell_type": "markdown",
      "metadata": {
        "id": "10qmj0Ecypvx"
      },
      "source": [
        "### Feature Importances"
      ]
    },
    {
      "cell_type": "code",
      "metadata": {
        "id": "nt2muxn0ypv4"
      },
      "source": [
        "sns.barplot(model_rfc.feature_importances_, \r\n",
        "            ['season',\t'holiday',\t'workingday',\t'weather',\t'temp',\t'atemp',\t'humidity',\t'windspeed','year',\t'month',\t'day',\t'hour'])\r\n",
        "plt.show()"
      ],
      "execution_count": null,
      "outputs": []
    },
    {
      "cell_type": "markdown",
      "metadata": {
        "id": "7fg85OPPtvEd"
      },
      "source": [
        "# 5, eXtra Gradient Boost(XGBoost) Classifier"
      ]
    },
    {
      "cell_type": "code",
      "metadata": {
        "id": "d9ydGZ4vt1qq"
      },
      "source": [
        "from xgboost import XGBRegressor"
      ],
      "execution_count": null,
      "outputs": []
    },
    {
      "cell_type": "markdown",
      "metadata": {
        "id": "R3XOcb30t6RT"
      },
      "source": [
        "## 모델링 함수"
      ]
    },
    {
      "cell_type": "code",
      "metadata": {
        "id": "Vgtu_vfOt7oL"
      },
      "source": [
        "def xgboost(model_name, X, y, n_est, lr=0.4, rl=3.0):\r\n",
        "  # split\r\n",
        "  X_train, X_test, y_train, y_test = train_test_split(X, y, test_size = 0.3, random_state=2045)\r\n",
        "\r\n",
        "  # model\r\n",
        "  XGB = XGBRegressor(booster='gblinear', n_estimators=n_est, learning_rate=lr, reg_lambda=rl, n_jobs= -1)\r\n",
        "  XGB.fit(X_train, y_train)\r\n",
        "\r\n",
        "  # evaluate\r\n",
        "  m_s_e = mean_squared_error(y_test, XGB.predict(X_test))\r\n",
        "  mse = np.sqrt(m_s_e)\r\n",
        "\r\n",
        "  return {'model_id':model_name, 'n_estimators':n_est, 'learning_rate':lr, 'reg_lambda':rl, 'MSE':mse}"
      ],
      "execution_count": null,
      "outputs": []
    },
    {
      "cell_type": "code",
      "metadata": {
        "id": "sNjmar4qzBoq"
      },
      "source": [
        "X = DF[['season',\t'holiday',\t'workingday',\t'weather',\t'temp',\t'atemp',\t'humidity',\t'windspeed','year',\t'month',\t'day',\t'hour']]\r\n",
        "y = DF['count']\r\n",
        "\r\n",
        "DF_res_xgb = pd.DataFrame(data=None, columns = ['model_id','n_estimators','learning_rate','reg_lambda','MSE'])"
      ],
      "execution_count": null,
      "outputs": []
    },
    {
      "cell_type": "markdown",
      "metadata": {
        "id": "pxeX1PqQzBow"
      },
      "source": [
        "### (1) n_est 조정"
      ]
    },
    {
      "cell_type": "code",
      "metadata": {
        "colab": {
          "base_uri": "https://localhost:8080/"
        },
        "id": "Jf_4xjE2zBox",
        "outputId": "2229d313-8097-47e4-b214-bab680eb44f0"
      },
      "source": [
        "%%time\r\n",
        "a = [100, 300, 500, 1000]\r\n",
        "index = 1\r\n",
        "for n in a:\r\n",
        "  model_name = 'RFC-'+str(index)\r\n",
        "  index += 1\r\n",
        "  res = xgboost(model_name, X, y, n_est=n)\r\n",
        "  print(res)\r\n",
        "  DF_res_xgb = DF_res_xgb.append(res, ignore_index=True)"
      ],
      "execution_count": null,
      "outputs": [
        {
          "output_type": "stream",
          "text": [
            "{'model_id': 'RFR-1', 'n_estimators': 100, 'max_features': 'auto', 'max_depth': None, 'MSE': 42.81171267315258}\n",
            "{'model_id': 'RFR-2', 'n_estimators': 300, 'max_features': 'auto', 'max_depth': None, 'MSE': 42.787661076721776}\n",
            "{'model_id': 'RFR-3', 'n_estimators': 500, 'max_features': 'auto', 'max_depth': None, 'MSE': 42.7657728440677}\n",
            "{'model_id': 'RFR-4', 'n_estimators': 1000, 'max_features': 'auto', 'max_depth': None, 'MSE': 42.775752410185625}\n",
            "CPU times: user 1min 28s, sys: 1.53 s, total: 1min 29s\n",
            "Wall time: 48.4 s\n"
          ],
          "name": "stdout"
        }
      ]
    },
    {
      "cell_type": "markdown",
      "metadata": {
        "id": "RpY8PsGezPVx"
      },
      "source": [
        "### (2) MSE 비교"
      ]
    },
    {
      "cell_type": "code",
      "metadata": {
        "id": "yov8uxTJzPV3"
      },
      "source": [
        "DF_res_xgb_sort = DF_res_xgb.sort_values(by='MSE', ascending=True)\r\n",
        "DF_res_xgb_sort"
      ],
      "execution_count": null,
      "outputs": []
    },
    {
      "cell_type": "markdown",
      "metadata": {
        "id": "9o0DrcLwz1PB"
      },
      "source": [
        "# 6, 비교 시각화"
      ]
    },
    {
      "cell_type": "code",
      "metadata": {
        "id": "bfe9_Z95vRsG"
      },
      "source": [
        "# Lasso\r\n",
        "DF_res_mr"
      ],
      "execution_count": null,
      "outputs": []
    },
    {
      "cell_type": "code",
      "metadata": {
        "id": "tn7Iavm1z-fQ"
      },
      "source": [
        "# multivariate\r\n",
        "DF_res_mr_bs"
      ],
      "execution_count": null,
      "outputs": []
    },
    {
      "cell_type": "code",
      "metadata": {
        "id": "HP_DEbnO0ptI"
      },
      "source": [
        "# regression\r\n",
        "DF_res_rfr"
      ],
      "execution_count": null,
      "outputs": []
    },
    {
      "cell_type": "code",
      "metadata": {
        "id": "7s-zpcTL0upr"
      },
      "source": [
        "# classifier\r\n",
        "DF_res_rfc"
      ],
      "execution_count": null,
      "outputs": []
    }
  ]
}