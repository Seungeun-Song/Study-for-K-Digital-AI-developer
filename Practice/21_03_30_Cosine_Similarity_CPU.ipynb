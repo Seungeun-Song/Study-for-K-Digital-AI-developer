{
  "nbformat": 4,
  "nbformat_minor": 0,
  "metadata": {
    "colab": {
      "name": "002_Cosine_Similarity_CPU.ipynb",
      "provenance": []
    },
    "kernelspec": {
      "name": "python3",
      "display_name": "Python 3"
    },
    "language_info": {
      "name": "python"
    }
  },
  "cells": [
    {
      "cell_type": "code",
      "metadata": {
        "id": "cBlDMSGnRKHj"
      },
      "source": [
        "doc_list = ['if you take the blue pill, the story ends' ,\n",
        "'if you take the red pill, you stay in Wonderland',\n",
        "'if you take the red pill, I show you how deep the rabbit hole goes']"
      ],
      "execution_count": 1,
      "outputs": []
    },
    {
      "cell_type": "code",
      "metadata": {
        "colab": {
          "base_uri": "https://localhost:8080/"
        },
        "id": "9NfO6BWeRRjY",
        "outputId": "b8635b23-a2ec-4ec4-8eaa-16b5f97f2d8f"
      },
      "source": [
        "from sklearn.feature_extraction.text import TfidfVectorizer\n",
        "\n",
        "tfidf_verc_simple = TfidfVectorizer()\n",
        "feature_vec_simple = tfidf_verc_simple.fit_transform(doc_list)\n",
        "\n",
        "print(feature_vec_simple)"
      ],
      "execution_count": 2,
      "outputs": [
        {
          "output_type": "stream",
          "text": [
            "  (0, 2)\t0.41556360057939173\n",
            "  (0, 13)\t0.41556360057939173\n",
            "  (0, 8)\t0.24543855687841593\n",
            "  (0, 0)\t0.41556360057939173\n",
            "  (0, 15)\t0.49087711375683185\n",
            "  (0, 14)\t0.24543855687841593\n",
            "  (0, 17)\t0.24543855687841593\n",
            "  (0, 6)\t0.24543855687841593\n",
            "  (1, 16)\t0.39624495215024286\n",
            "  (1, 7)\t0.39624495215024286\n",
            "  (1, 12)\t0.39624495215024286\n",
            "  (1, 10)\t0.3013544995034864\n",
            "  (1, 8)\t0.2340286519091622\n",
            "  (1, 15)\t0.2340286519091622\n",
            "  (1, 14)\t0.2340286519091622\n",
            "  (1, 17)\t0.4680573038183244\n",
            "  (1, 6)\t0.2340286519091622\n",
            "  (2, 3)\t0.3098560092999078\n",
            "  (2, 4)\t0.3098560092999078\n",
            "  (2, 9)\t0.3098560092999078\n",
            "  (2, 1)\t0.3098560092999078\n",
            "  (2, 5)\t0.3098560092999078\n",
            "  (2, 11)\t0.3098560092999078\n",
            "  (2, 10)\t0.23565348175165166\n",
            "  (2, 8)\t0.1830059506093466\n",
            "  (2, 15)\t0.3660119012186932\n",
            "  (2, 14)\t0.1830059506093466\n",
            "  (2, 17)\t0.3660119012186932\n",
            "  (2, 6)\t0.1830059506093466\n"
          ],
          "name": "stdout"
        }
      ]
    },
    {
      "cell_type": "code",
      "metadata": {
        "colab": {
          "base_uri": "https://localhost:8080/"
        },
        "id": "0if0QzwxRlJP",
        "outputId": "14345b73-e278-410d-f8b7-ef22f7102c87"
      },
      "source": [
        "feature_vec_dencse = feature_vec_simple.todense()\n",
        "\n",
        "print(feature_vec_dencse)  # (3문장, 18단어)\n",
        "print(feature_vec_dencse.shape, type(feature_vec_dencse))"
      ],
      "execution_count": 7,
      "outputs": [
        {
          "output_type": "stream",
          "text": [
            "[[0.4155636  0.         0.4155636  0.         0.         0.\n",
            "  0.24543856 0.         0.24543856 0.         0.         0.\n",
            "  0.         0.4155636  0.24543856 0.49087711 0.         0.24543856]\n",
            " [0.         0.         0.         0.         0.         0.\n",
            "  0.23402865 0.39624495 0.23402865 0.         0.3013545  0.\n",
            "  0.39624495 0.         0.23402865 0.23402865 0.39624495 0.4680573 ]\n",
            " [0.         0.30985601 0.         0.30985601 0.30985601 0.30985601\n",
            "  0.18300595 0.         0.18300595 0.30985601 0.23565348 0.30985601\n",
            "  0.         0.         0.18300595 0.3660119  0.         0.3660119 ]]\n",
            "(3, 18) <class 'numpy.matrix'>\n"
          ],
          "name": "stdout"
        }
      ]
    },
    {
      "cell_type": "code",
      "metadata": {
        "colab": {
          "base_uri": "https://localhost:8080/"
        },
        "id": "awWlk4WRR3v0",
        "outputId": "f86c69c4-9289-485d-d0df-8dd15e25f700"
      },
      "source": [
        "import numpy as np\n",
        "\n",
        "vec1 = np.array(feature_vec_dencse[0]).reshape(-1,)\n",
        "vec2 = np.array(feature_vec_dencse[1]).reshape(-1,)\n",
        "vec3 = np.array(feature_vec_dencse[2]).reshape(-1,)\n",
        "\n",
        "print(vec1.shape, vec2.shape, vec3.shape, type(vec1))\n",
        "print(vec1,'\\n', vec2,'\\n', vec3)"
      ],
      "execution_count": 8,
      "outputs": [
        {
          "output_type": "stream",
          "text": [
            "(18,) (18,) (18,) <class 'numpy.ndarray'>\n",
            "[0.4155636  0.         0.4155636  0.         0.         0.\n",
            " 0.24543856 0.         0.24543856 0.         0.         0.\n",
            " 0.         0.4155636  0.24543856 0.49087711 0.         0.24543856] \n",
            " [0.         0.         0.         0.         0.         0.\n",
            " 0.23402865 0.39624495 0.23402865 0.         0.3013545  0.\n",
            " 0.39624495 0.         0.23402865 0.23402865 0.39624495 0.4680573 ] \n",
            " [0.         0.30985601 0.         0.30985601 0.30985601 0.30985601\n",
            " 0.18300595 0.         0.18300595 0.30985601 0.23565348 0.30985601\n",
            " 0.         0.         0.18300595 0.3660119  0.         0.3660119 ]\n"
          ],
          "name": "stdout"
        }
      ]
    },
    {
      "cell_type": "code",
      "metadata": {
        "id": "LvwEjNSNSVx0"
      },
      "source": [
        "import numpy as np\n",
        "# 두 벡터의 내적을 총 벡터 크기로 정규화\n",
        "def cos_similarity(v1, v2):\n",
        "  dot_product = np.dot(v1,v2)\n",
        "  l2_norm = (np.sqrt(sum(np.square(v1))) * np.sqrt(sum(np.square(v2))))\n",
        "  similarity = dot_product / l2_norm\n",
        "\n",
        "  return similarity"
      ],
      "execution_count": 9,
      "outputs": []
    },
    {
      "cell_type": "code",
      "metadata": {
        "colab": {
          "base_uri": "https://localhost:8080/"
        },
        "id": "i9y6IrBMTZxZ",
        "outputId": "664c079c-c604-40a5-df29-95607f9b4b03"
      },
      "source": [
        "similarity_simple = cos_similarity(vec1, vec2)\n",
        "print('vec1, vec2 코사인 유사도: {0:.5f}'.format(similarity_simple))"
      ],
      "execution_count": 10,
      "outputs": [
        {
          "output_type": "stream",
          "text": [
            "vec1, vec2 코사인 유사도: 0.40208\n"
          ],
          "name": "stdout"
        }
      ]
    },
    {
      "cell_type": "code",
      "metadata": {
        "colab": {
          "base_uri": "https://localhost:8080/"
        },
        "id": "-rl7aSQNTvf6",
        "outputId": "c633841a-9639-4dd5-948f-b65b55db216d"
      },
      "source": [
        "similarity_simple = cos_similarity(vec1, vec3)\n",
        "print('vec1, vec3 코사인 유사도: {0:.5f}'.format(similarity_simple))"
      ],
      "execution_count": 11,
      "outputs": [
        {
          "output_type": "stream",
          "text": [
            "vec1, vec3 코사인 유사도: 0.40425\n"
          ],
          "name": "stdout"
        }
      ]
    },
    {
      "cell_type": "code",
      "metadata": {
        "colab": {
          "base_uri": "https://localhost:8080/"
        },
        "id": "ov_cdH8xT7Ye",
        "outputId": "47235681-2a3b-48b0-c252-519a2b823773"
      },
      "source": [
        "similarity_simple = cos_similarity(vec2, vec3)\n",
        "print('vec2, vec3 코사인 유사도: {0:.5f}'.format(similarity_simple))"
      ],
      "execution_count": 12,
      "outputs": [
        {
          "output_type": "stream",
          "text": [
            "vec2, vec3 코사인 유사도: 0.45647\n"
          ],
          "name": "stdout"
        }
      ]
    },
    {
      "cell_type": "code",
      "metadata": {
        "colab": {
          "base_uri": "https://localhost:8080/"
        },
        "id": "DZ7hG-NWT9yn",
        "outputId": "40dbf8ac-9810-4815-8b11-b2914de86357"
      },
      "source": [
        "from sklearn.metrics.pairwise import cosine_similarity\n",
        "\n",
        "cosine_similarity(feature_vec_simple[0], feature_vec_simple)"
      ],
      "execution_count": 13,
      "outputs": [
        {
          "output_type": "execute_result",
          "data": {
            "text/plain": [
              "array([[1.        , 0.40207758, 0.40425045]])"
            ]
          },
          "metadata": {
            "tags": []
          },
          "execution_count": 13
        }
      ]
    },
    {
      "cell_type": "code",
      "metadata": {
        "colab": {
          "base_uri": "https://localhost:8080/"
        },
        "id": "-d8ikvncUSFi",
        "outputId": "bc0d3527-f01b-4509-bbfd-9fb5046e72ac"
      },
      "source": [
        "cosine_similarity(feature_vec_simple[0], feature_vec_simple[1:])"
      ],
      "execution_count": 14,
      "outputs": [
        {
          "output_type": "execute_result",
          "data": {
            "text/plain": [
              "array([[0.40207758, 0.40425045]])"
            ]
          },
          "metadata": {
            "tags": []
          },
          "execution_count": 14
        }
      ]
    },
    {
      "cell_type": "code",
      "metadata": {
        "colab": {
          "base_uri": "https://localhost:8080/"
        },
        "id": "8VcrU2orUg4S",
        "outputId": "d164a33b-f37a-475c-a8c4-73fea20e5144"
      },
      "source": [
        "cosine_similarity(feature_vec_simple, feature_vec_simple)"
      ],
      "execution_count": 18,
      "outputs": [
        {
          "output_type": "execute_result",
          "data": {
            "text/plain": [
              "array([[1.        , 0.40207758, 0.40425045],\n",
              "       [0.40207758, 1.        , 0.45647296],\n",
              "       [0.40425045, 0.45647296, 1.        ]])"
            ]
          },
          "metadata": {
            "tags": []
          },
          "execution_count": 18
        }
      ]
    },
    {
      "cell_type": "code",
      "metadata": {
        "id": "rvDKZKaNU3FH"
      },
      "source": [
        "sent_list = ['I eat an apple' , 'Koo have fruit', 'I sell an apple']"
      ],
      "execution_count": 19,
      "outputs": []
    },
    {
      "cell_type": "code",
      "metadata": {
        "id": "Zy5jZFkgU5rm"
      },
      "source": [
        "tfidf_vec = TfidfVectorizer()\n",
        "feature_vec = tfidf_vec.fit_transform(sent_list)"
      ],
      "execution_count": 20,
      "outputs": []
    },
    {
      "cell_type": "code",
      "metadata": {
        "colab": {
          "base_uri": "https://localhost:8080/"
        },
        "id": "zqG7NTfIVC2s",
        "outputId": "87093334-0a36-4669-9083-7e231582f3ba"
      },
      "source": [
        "cosine_similarity(feature_vec[0], feature_vec[1]) # 아예 관련이 없다는 값"
      ],
      "execution_count": 21,
      "outputs": [
        {
          "output_type": "execute_result",
          "data": {
            "text/plain": [
              "array([[0.]])"
            ]
          },
          "metadata": {
            "tags": []
          },
          "execution_count": 21
        }
      ]
    },
    {
      "cell_type": "code",
      "metadata": {
        "colab": {
          "base_uri": "https://localhost:8080/"
        },
        "id": "9tRwFangVGwq",
        "outputId": "76b367a0-cd7a-44fc-b900-bc8673d42812"
      },
      "source": [
        "cosine_similarity(feature_vec[0], feature_vec[2])"
      ],
      "execution_count": 22,
      "outputs": [
        {
          "output_type": "execute_result",
          "data": {
            "text/plain": [
              "array([[0.53634991]])"
            ]
          },
          "metadata": {
            "tags": []
          },
          "execution_count": 22
        }
      ]
    },
    {
      "cell_type": "code",
      "metadata": {
        "id": "r4nX1TPzVTqW"
      },
      "source": [
        "import tensorflow_hub as hub\n",
        "embed = hub.load('https://tfhub.dev/google/Wiki-words-250/2')"
      ],
      "execution_count": 23,
      "outputs": []
    },
    {
      "cell_type": "code",
      "metadata": {
        "id": "7LeXNhcLVZ-B"
      },
      "source": [
        "words = ['apple', 'eat', 'fruit', 'have', 'sell']\n",
        "embeddings = embed(words)"
      ],
      "execution_count": 27,
      "outputs": []
    },
    {
      "cell_type": "code",
      "metadata": {
        "colab": {
          "base_uri": "https://localhost:8080/"
        },
        "id": "Lkl-nskNVcLe",
        "outputId": "9fffe1a3-33f1-4755-b986-5cb3be81d3b4"
      },
      "source": [
        "import numpy as np\n",
        "for i in range(len(words)):\n",
        "  for j in range(i,len(words)):\n",
        "    print(\"(\",words[i], \",\", words[j],\")\",np.inner(embeddings[i], embeddings[j]))"
      ],
      "execution_count": 28,
      "outputs": [
        {
          "output_type": "stream",
          "text": [
            "( apple , apple ) 1.0\n",
            "( apple , eat ) 0.48909307\n",
            "( apple , fruit ) 0.78753763\n",
            "( apple , have ) 0.13348329\n",
            "( apple , sell ) 0.106232405\n",
            "( eat , eat ) 1.0\n",
            "( eat , fruit ) 0.53294003\n",
            "( eat , have ) 0.3232242\n",
            "( eat , sell ) 0.2691978\n",
            "( fruit , fruit ) 1.0\n",
            "( fruit , have ) 0.13598028\n",
            "( fruit , sell ) 0.11212408\n",
            "( have , have ) 1.0\n",
            "( have , sell ) 0.21071003\n",
            "( sell , sell ) 1.0\n"
          ],
          "name": "stdout"
        }
      ]
    },
    {
      "cell_type": "code",
      "metadata": {
        "id": "t7FvRqGVVfsJ"
      },
      "source": [
        ""
      ],
      "execution_count": null,
      "outputs": []
    }
  ]
}