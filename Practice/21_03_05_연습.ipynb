{
  "nbformat": 4,
  "nbformat_minor": 0,
  "metadata": {
    "colab": {
      "name": "21_03_05_연습.ipynb",
      "provenance": []
    },
    "kernelspec": {
      "name": "python3",
      "display_name": "Python 3"
    }
  },
  "cells": [
    {
      "cell_type": "code",
      "metadata": {
        "colab": {
          "base_uri": "https://localhost:8080/"
        },
        "id": "J3wVfVfEVGO5",
        "outputId": "1ad7e124-5a52-4189-a31f-fd12e9a3459e"
      },
      "source": [
        "import pandas as pd\r\n",
        "\r\n",
        "\r\n",
        "DF = pd.read_csv('https://raw.githubusercontent.com/rusita-ai/pyData/master/product.csv')\r\n",
        "DF.info()"
      ],
      "execution_count": null,
      "outputs": [
        {
          "output_type": "stream",
          "text": [
            "<class 'pandas.core.frame.DataFrame'>\n",
            "RangeIndex: 15009 entries, 0 to 15008\n",
            "Data columns (total 12 columns):\n",
            " #   Column         Non-Null Count  Dtype  \n",
            "---  ------         --------------  -----  \n",
            " 0   Date           15009 non-null  object \n",
            " 1   meanPriceEach  15009 non-null  float64\n",
            " 2   totalOrder     15009 non-null  float64\n",
            " 3   orderType_1    15009 non-null  float64\n",
            " 4   orderType_2    15009 non-null  float64\n",
            " 5   orderType_3    15009 non-null  float64\n",
            " 6   totalBundle    15009 non-null  float64\n",
            " 7   bundleType_1   15009 non-null  float64\n",
            " 8   bundleType_2   15009 non-null  float64\n",
            " 9   customerType   15009 non-null  object \n",
            " 10  FY             15009 non-null  int64  \n",
            " 11  Country        15009 non-null  int64  \n",
            "dtypes: float64(8), int64(2), object(2)\n",
            "memory usage: 1.4+ MB\n"
          ],
          "name": "stdout"
        }
      ]
    },
    {
      "cell_type": "code",
      "metadata": {
        "colab": {
          "base_uri": "https://localhost:8080/"
        },
        "id": "5o7njASrVJJZ",
        "outputId": "4cd41d9e-b228-4c33-b6b1-6de840d04eff"
      },
      "source": [
        "x = DF[['totalOrder','meanPriceEach','Country']]\r\n",
        "y = DF[['customerType']]\r\n",
        "\r\n",
        "from sklearn.model_selection import train_test_split\r\n",
        "\r\n",
        "x_train, x_test, y_train, y_test = train_test_split(x, y, test_size = 0.3, random_state=2045)\r\n",
        "\r\n",
        "print('Train Data : ', x_train.shape, y_train.shape)\r\n",
        "print('Test Data : ', x_test.shape, y_test.shape)"
      ],
      "execution_count": null,
      "outputs": [
        {
          "output_type": "stream",
          "text": [
            "Train Data :  (10506, 3) (10506, 1)\n",
            "Test Data :  (4503, 3) (4503, 1)\n"
          ],
          "name": "stdout"
        }
      ]
    },
    {
      "cell_type": "code",
      "metadata": {
        "colab": {
          "base_uri": "https://localhost:8080/"
        },
        "id": "-_t-xhWPVL5Q",
        "outputId": "7c6383b6-5a6f-4453-e426-6e860c9324f9"
      },
      "source": [
        "from sklearn.linear_model import LogisticRegression\r\n",
        "\r\n",
        "Model_lr = LogisticRegression()\r\n",
        "Model_lr.fit(x_train, y_train)"
      ],
      "execution_count": null,
      "outputs": [
        {
          "output_type": "stream",
          "text": [
            "/usr/local/lib/python3.7/dist-packages/sklearn/utils/validation.py:760: DataConversionWarning: A column-vector y was passed when a 1d array was expected. Please change the shape of y to (n_samples, ), for example using ravel().\n",
            "  y = column_or_1d(y, warn=True)\n"
          ],
          "name": "stderr"
        },
        {
          "output_type": "execute_result",
          "data": {
            "text/plain": [
              "LogisticRegression(C=1.0, class_weight=None, dual=False, fit_intercept=True,\n",
              "                   intercept_scaling=1, l1_ratio=None, max_iter=100,\n",
              "                   multi_class='auto', n_jobs=None, penalty='l2',\n",
              "                   random_state=None, solver='lbfgs', tol=0.0001, verbose=0,\n",
              "                   warm_start=False)"
            ]
          },
          "metadata": {
            "tags": []
          },
          "execution_count": 3
        }
      ]
    },
    {
      "cell_type": "code",
      "metadata": {
        "colab": {
          "base_uri": "https://localhost:8080/"
        },
        "id": "kbJPmPgiVNNA",
        "outputId": "407fb412-3098-42e9-c364-96a90d040fdf"
      },
      "source": [
        "y_hat_lr = Model_lr.predict(x_test)\r\n",
        "y_hat_lr"
      ],
      "execution_count": null,
      "outputs": [
        {
          "output_type": "execute_result",
          "data": {
            "text/plain": [
              "array(['Online', 'Offline', 'Offline', ..., 'Offline', 'Online', 'Online'],\n",
              "      dtype=object)"
            ]
          },
          "metadata": {
            "tags": []
          },
          "execution_count": 4
        }
      ]
    },
    {
      "cell_type": "code",
      "metadata": {
        "colab": {
          "base_uri": "https://localhost:8080/"
        },
        "id": "uBmoZ65XVPFv",
        "outputId": "eaf409d5-bdd3-4e4c-bef7-52a38001ea2b"
      },
      "source": [
        "from sklearn.metrics import confusion_matrix\r\n",
        "\r\n",
        "confusion_matrix(y_test, y_hat_lr)"
      ],
      "execution_count": null,
      "outputs": [
        {
          "output_type": "execute_result",
          "data": {
            "text/plain": [
              "array([[1877,  350],\n",
              "       [ 113, 2163]])"
            ]
          },
          "metadata": {
            "tags": []
          },
          "execution_count": 5
        }
      ]
    },
    {
      "cell_type": "code",
      "metadata": {
        "colab": {
          "base_uri": "https://localhost:8080/"
        },
        "id": "hPHQuLhqVRwP",
        "outputId": "c15287d9-81e8-4582-8f47-97f7d196905c"
      },
      "source": [
        "from sklearn.metrics import accuracy_score\r\n",
        "\r\n",
        "accuracy_score_lr = accuracy_score(y_test, y_hat_lr)\r\n",
        "print('accuracy_score : ', accuracy_score_lr)\r\n"
      ],
      "execution_count": null,
      "outputs": [
        {
          "output_type": "stream",
          "text": [
            "accuracy_score :  0.8971796580057739\n"
          ],
          "name": "stdout"
        }
      ]
    },
    {
      "cell_type": "code",
      "metadata": {
        "id": "1qmCYOvsVUyH"
      },
      "source": [
        "import matplotlib.pyplot as plt\r\n",
        "import seaborn as sns\r\n",
        "\r\n",
        "plt.figure(figsize=(9,6))\r\n",
        "sns.barplot(Model_lr.feature_importances_,\r\n",
        "            ['totalOrder','meanPriceEach','Country'])\r\n",
        "plt.show()"
      ],
      "execution_count": null,
      "outputs": []
    },
    {
      "cell_type": "code",
      "metadata": {
        "colab": {
          "base_uri": "https://localhost:8080/",
          "height": 186
        },
        "id": "yTap89qMVqPo",
        "outputId": "22316444-c59a-4f42-c8cb-99ff8fba90d4"
      },
      "source": [
        "x = pd.DataFrame(feature_names, columns = [\"feature\"])\r\n",
        "x[\"importance\"] = pow(math.e, w)\r\n",
        "x = x.sort_values(by = [\"importance\"], ascending=False)\r\n",
        "\r\n",
        "ax =x.plot.bar(x=x, y=y)\r\n",
        "plt.show()"
      ],
      "execution_count": null,
      "outputs": [
        {
          "output_type": "error",
          "ename": "NameError",
          "evalue": "ignored",
          "traceback": [
            "\u001b[0;31m---------------------------------------------------------------------------\u001b[0m",
            "\u001b[0;31mNameError\u001b[0m                                 Traceback (most recent call last)",
            "\u001b[0;32m<ipython-input-24-bc47068ffff3>\u001b[0m in \u001b[0;36m<module>\u001b[0;34m()\u001b[0m\n\u001b[0;32m----> 1\u001b[0;31m \u001b[0max\u001b[0m \u001b[0;34m=\u001b[0m \u001b[0mfeature_importance\u001b[0m\u001b[0;34m.\u001b[0m\u001b[0mplot\u001b[0m\u001b[0;34m.\u001b[0m\u001b[0mbar\u001b[0m\u001b[0;34m(\u001b[0m\u001b[0mx\u001b[0m\u001b[0;34m=\u001b[0m\u001b[0mx\u001b[0m\u001b[0;34m,\u001b[0m \u001b[0my\u001b[0m\u001b[0;34m=\u001b[0m\u001b[0my\u001b[0m\u001b[0;34m)\u001b[0m\u001b[0;34m\u001b[0m\u001b[0;34m\u001b[0m\u001b[0m\n\u001b[0m\u001b[1;32m      2\u001b[0m \u001b[0mplt\u001b[0m\u001b[0;34m.\u001b[0m\u001b[0mshow\u001b[0m\u001b[0;34m(\u001b[0m\u001b[0;34m)\u001b[0m\u001b[0;34m\u001b[0m\u001b[0;34m\u001b[0m\u001b[0m\n",
            "\u001b[0;31mNameError\u001b[0m: name 'feature_importance' is not defined"
          ]
        }
      ]
    },
    {
      "cell_type": "code",
      "metadata": {
        "id": "GEWlUqSdVqNZ"
      },
      "source": [
        ""
      ],
      "execution_count": null,
      "outputs": []
    },
    {
      "cell_type": "code",
      "metadata": {
        "id": "iELpl7ciVqK_"
      },
      "source": [
        ""
      ],
      "execution_count": null,
      "outputs": []
    },
    {
      "cell_type": "code",
      "metadata": {
        "colab": {
          "base_uri": "https://localhost:8080/"
        },
        "id": "wX-yP6DgVqIw",
        "outputId": "1a27b928-5606-46f9-b459-547a1aa217f0"
      },
      "source": [
        "x = DF[['totalOrder','meanPriceEach','Country']]\r\n",
        "y = DF[['customerType']]\r\n",
        "\r\n",
        "from sklearn.model_selection import train_test_split\r\n",
        "\r\n",
        "x_train, x_test, y_train, y_test = train_test_split(x, y, test_size = 0.3, random_state=2045)\r\n",
        "\r\n",
        "print('Train Data : ', x_train.shape, y_train.shape)\r\n",
        "print('Test Data : ', x_test.shape, y_test.shape)"
      ],
      "execution_count": null,
      "outputs": [
        {
          "output_type": "stream",
          "text": [
            "Train Data :  (10506, 3) (10506, 1)\n",
            "Test Data :  (4503, 3) (4503, 1)\n"
          ],
          "name": "stdout"
        }
      ]
    },
    {
      "cell_type": "code",
      "metadata": {
        "colab": {
          "base_uri": "https://localhost:8080/"
        },
        "id": "-NKUja9YVrs_",
        "outputId": "563ca878-708d-42b5-f2c8-5e64474b0b7e"
      },
      "source": [
        "from sklearn.tree import DecisionTreeClassifier\r\n",
        "\r\n",
        "Model_dt = DecisionTreeClassifier(random_state=2045, max_depth = 15)\r\n",
        "Model_dt.fit(x_train, y_train)\r\n",
        "\r\n",
        "y_hat_dt = Model_dt.predict(x_test)\r\n",
        "y_hat_dt"
      ],
      "execution_count": null,
      "outputs": [
        {
          "output_type": "execute_result",
          "data": {
            "text/plain": [
              "array(['Online', 'Offline', 'Offline', ..., 'Offline', 'Online', 'Online'],\n",
              "      dtype=object)"
            ]
          },
          "metadata": {
            "tags": []
          },
          "execution_count": 10
        }
      ]
    },
    {
      "cell_type": "code",
      "metadata": {
        "colab": {
          "base_uri": "https://localhost:8080/"
        },
        "id": "KgTL3l9HVsoA",
        "outputId": "537cbafb-3c79-4c05-f79c-53a2e9b97ec1"
      },
      "source": [
        "from sklearn.metrics import confusion_matrix\r\n",
        "\r\n",
        "confusion_matrix(y_test, y_hat_dt)"
      ],
      "execution_count": null,
      "outputs": [
        {
          "output_type": "execute_result",
          "data": {
            "text/plain": [
              "array([[2210,   17],\n",
              "       [  20, 2256]])"
            ]
          },
          "metadata": {
            "tags": []
          },
          "execution_count": 11
        }
      ]
    },
    {
      "cell_type": "code",
      "metadata": {
        "colab": {
          "base_uri": "https://localhost:8080/"
        },
        "id": "qc8gxqBhVtno",
        "outputId": "1f6f7442-debb-476b-b7ed-74051661f114"
      },
      "source": [
        "from sklearn.metrics import accuracy_score\r\n",
        "\r\n",
        "accuracy_score_dt = accuracy_score(y_test, y_hat_dt)\r\n",
        "print('accuracy_score : ', accuracy_score_dt)"
      ],
      "execution_count": null,
      "outputs": [
        {
          "output_type": "stream",
          "text": [
            "accuracy_score :  0.9917832556073729\n"
          ],
          "name": "stdout"
        }
      ]
    },
    {
      "cell_type": "code",
      "metadata": {
        "colab": {
          "base_uri": "https://localhost:8080/",
          "height": 429
        },
        "id": "htBuhOzJVu1X",
        "outputId": "b9afa2e1-cc46-4ddb-aed5-0d91a9ab5055"
      },
      "source": [
        "import matplotlib.pyplot as plt\r\n",
        "import seaborn as sns\r\n",
        "\r\n",
        "plt.figure(figsize=(9,6))\r\n",
        "sns.barplot(Model_dt.feature_importances_,\r\n",
        "            ['totalOrder','meanPriceEach','Country'])\r\n",
        "plt.show()"
      ],
      "execution_count": null,
      "outputs": [
        {
          "output_type": "stream",
          "text": [
            "/usr/local/lib/python3.7/dist-packages/seaborn/_decorators.py:43: FutureWarning: Pass the following variables as keyword args: x, y. From version 0.12, the only valid positional argument will be `data`, and passing other arguments without an explicit keyword will result in an error or misinterpretation.\n",
            "  FutureWarning\n"
          ],
          "name": "stderr"
        },
        {
          "output_type": "display_data",
          "data": {
            "image/png": "[encoded data removed]",
            "text/plain": [
              "<Figure size 648x432 with 1 Axes>"
            ]
          },
          "metadata": {
            "tags": [],
            "needs_background": "light"
          }
        }
      ]
    },
    {
      "cell_type": "code",
      "metadata": {
        "colab": {
          "base_uri": "https://localhost:8080/",
          "height": 449
        },
        "id": "zXCduMr2VxLP",
        "outputId": "4c7e1078-01a0-43a1-de2f-5ef6122acd41"
      },
      "source": [
        "x = pd.DataFrame({'accuracy_score_lr':accuracy_score_lr, 'accuracy_score_tu':accuracy_score_dt}, index=['feature'])\r\n",
        "x[['accuracy_score_lr', 'accuracy_score_tu']].plot(kind='bar')\r\n",
        "plt.show()\r\n",
        "x.info()"
      ],
      "execution_count": null,
      "outputs": [
        {
          "output_type": "display_data",
          "data": {
            "image/png": "[encoded data removed]",
            "text/plain": [
              "<Figure size 432x288 with 1 Axes>"
            ]
          },
          "metadata": {
            "tags": [],
            "needs_background": "light"
          }
        },
        {
          "output_type": "stream",
          "text": [
            "<class 'pandas.core.frame.DataFrame'>\n",
            "Index: 1 entries, feature to feature\n",
            "Data columns (total 2 columns):\n",
            " #   Column             Non-Null Count  Dtype  \n",
            "---  ------             --------------  -----  \n",
            " 0   accuracy_score_lr  1 non-null      float64\n",
            " 1   accuracy_score_tu  1 non-null      float64\n",
            "dtypes: float64(2)\n",
            "memory usage: 24.0+ bytes\n"
          ],
          "name": "stdout"
        }
      ]
    },
    {
      "cell_type": "code",
      "metadata": {
        "colab": {
          "base_uri": "https://localhost:8080/"
        },
        "id": "N61eM-YVWDbf",
        "outputId": "60f1f02a-fbb4-4920-fc90-10eff6e54f5e"
      },
      "source": [
        "x = DF[['meanPriceEach','totalOrder','orderType_1','orderType_2','orderType_3','totalBundle','bundleType_1','bundleType_2','FY','Country']]\r\n",
        "y = DF['customerType']\r\n",
        "from sklearn.model_selection import train_test_split\r\n",
        "\r\n",
        "x_train, x_test, y_train, y_test = train_test_split(x, y, test_size=0.3, random_state = 2045)\r\n",
        "\r\n",
        "print('Train Data : ', x_train.shape, y_train.shape)\r\n",
        "print('Test Data : ', x_test.shape, y_test.shape)\r\n",
        "\r\n",
        "from sklearn.ensemble import RandomForestClassifier\r\n",
        "\r\n",
        "Model_tu = RandomForestClassifier()\r\n",
        "\r\n",
        "params = {'n_estimators':[100,500,1000, 3000, 10000],\r\n",
        "          'max_features': [1,3,5,7,9,10],\r\n",
        "          'max_depth': [1,10,50,100],\r\n",
        "          'random_state':[2045]}"
      ],
      "execution_count": null,
      "outputs": [
        {
          "output_type": "stream",
          "text": [
            "Train Data :  (10506, 10) (10506,)\n",
            "Test Data :  (4503, 10) (4503,)\n"
          ],
          "name": "stdout"
        }
      ]
    },
    {
      "cell_type": "code",
      "metadata": {
        "id": "SC6vk84zXKJs"
      },
      "source": [
        "from sklearn.model_selection import GridSearchCV, KFold\r\n",
        "\r\n",
        "grid_cv = GridSearchCV(Model_tu,\r\n",
        "                       param_grid = params,\r\n",
        "                       scoring = 'accuracy', \r\n",
        "                       refit = True,\r\n",
        "                       n_jobs = -1)"
      ],
      "execution_count": null,
      "outputs": []
    }
  ]
}