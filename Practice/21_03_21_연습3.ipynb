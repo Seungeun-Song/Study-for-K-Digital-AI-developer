{
  "nbformat": 4,
  "nbformat_minor": 0,
  "metadata": {
    "colab": {
      "name": "Untitled0.ipynb",
      "provenance": []
    },
    "kernelspec": {
      "name": "python3",
      "display_name": "Python 3"
    },
    "language_info": {
      "name": "python"
    }
  },
  "cells": [
    {
      "cell_type": "code",
      "metadata": {
        "id": "lza4PgzE0tgw"
      },
      "source": [
        "import seaborn as sns\n",
        "\n",
        "iris = sns.load_dataset('iris')"
      ],
      "execution_count": 7,
      "outputs": []
    },
    {
      "cell_type": "code",
      "metadata": {
        "colab": {
          "base_uri": "https://localhost:8080/"
        },
        "id": "4HjECjRe1ERC",
        "outputId": "1db25188-30ca-47f2-853d-f1d0e842f28f"
      },
      "source": [
        "type(iris)"
      ],
      "execution_count": 8,
      "outputs": [
        {
          "output_type": "execute_result",
          "data": {
            "text/plain": [
              "pandas.core.frame.DataFrame"
            ]
          },
          "metadata": {
            "tags": []
          },
          "execution_count": 8
        }
      ]
    },
    {
      "cell_type": "code",
      "metadata": {
        "colab": {
          "base_uri": "https://localhost:8080/"
        },
        "id": "faaAD9aA0y-F",
        "outputId": "db062453-5ef8-4db8-86de-a1f079139c14"
      },
      "source": [
        "iris = iris.values\n",
        "iris"
      ],
      "execution_count": 9,
      "outputs": [
        {
          "output_type": "execute_result",
          "data": {
            "text/plain": [
              "array([[5.1, 3.5, 1.4, 0.2, 'setosa'],\n",
              "       [4.9, 3.0, 1.4, 0.2, 'setosa'],\n",
              "       [4.7, 3.2, 1.3, 0.2, 'setosa'],\n",
              "       [4.6, 3.1, 1.5, 0.2, 'setosa'],\n",
              "       [5.0, 3.6, 1.4, 0.2, 'setosa'],\n",
              "       [5.4, 3.9, 1.7, 0.4, 'setosa'],\n",
              "       [4.6, 3.4, 1.4, 0.3, 'setosa'],\n",
              "       [5.0, 3.4, 1.5, 0.2, 'setosa'],\n",
              "       [4.4, 2.9, 1.4, 0.2, 'setosa'],\n",
              "       [4.9, 3.1, 1.5, 0.1, 'setosa'],\n",
              "       [5.4, 3.7, 1.5, 0.2, 'setosa'],\n",
              "       [4.8, 3.4, 1.6, 0.2, 'setosa'],\n",
              "       [4.8, 3.0, 1.4, 0.1, 'setosa'],\n",
              "       [4.3, 3.0, 1.1, 0.1, 'setosa'],\n",
              "       [5.8, 4.0, 1.2, 0.2, 'setosa'],\n",
              "       [5.7, 4.4, 1.5, 0.4, 'setosa'],\n",
              "       [5.4, 3.9, 1.3, 0.4, 'setosa'],\n",
              "       [5.1, 3.5, 1.4, 0.3, 'setosa'],\n",
              "       [5.7, 3.8, 1.7, 0.3, 'setosa'],\n",
              "       [5.1, 3.8, 1.5, 0.3, 'setosa'],\n",
              "       [5.4, 3.4, 1.7, 0.2, 'setosa'],\n",
              "       [5.1, 3.7, 1.5, 0.4, 'setosa'],\n",
              "       [4.6, 3.6, 1.0, 0.2, 'setosa'],\n",
              "       [5.1, 3.3, 1.7, 0.5, 'setosa'],\n",
              "       [4.8, 3.4, 1.9, 0.2, 'setosa'],\n",
              "       [5.0, 3.0, 1.6, 0.2, 'setosa'],\n",
              "       [5.0, 3.4, 1.6, 0.4, 'setosa'],\n",
              "       [5.2, 3.5, 1.5, 0.2, 'setosa'],\n",
              "       [5.2, 3.4, 1.4, 0.2, 'setosa'],\n",
              "       [4.7, 3.2, 1.6, 0.2, 'setosa'],\n",
              "       [4.8, 3.1, 1.6, 0.2, 'setosa'],\n",
              "       [5.4, 3.4, 1.5, 0.4, 'setosa'],\n",
              "       [5.2, 4.1, 1.5, 0.1, 'setosa'],\n",
              "       [5.5, 4.2, 1.4, 0.2, 'setosa'],\n",
              "       [4.9, 3.1, 1.5, 0.2, 'setosa'],\n",
              "       [5.0, 3.2, 1.2, 0.2, 'setosa'],\n",
              "       [5.5, 3.5, 1.3, 0.2, 'setosa'],\n",
              "       [4.9, 3.6, 1.4, 0.1, 'setosa'],\n",
              "       [4.4, 3.0, 1.3, 0.2, 'setosa'],\n",
              "       [5.1, 3.4, 1.5, 0.2, 'setosa'],\n",
              "       [5.0, 3.5, 1.3, 0.3, 'setosa'],\n",
              "       [4.5, 2.3, 1.3, 0.3, 'setosa'],\n",
              "       [4.4, 3.2, 1.3, 0.2, 'setosa'],\n",
              "       [5.0, 3.5, 1.6, 0.6, 'setosa'],\n",
              "       [5.1, 3.8, 1.9, 0.4, 'setosa'],\n",
              "       [4.8, 3.0, 1.4, 0.3, 'setosa'],\n",
              "       [5.1, 3.8, 1.6, 0.2, 'setosa'],\n",
              "       [4.6, 3.2, 1.4, 0.2, 'setosa'],\n",
              "       [5.3, 3.7, 1.5, 0.2, 'setosa'],\n",
              "       [5.0, 3.3, 1.4, 0.2, 'setosa'],\n",
              "       [7.0, 3.2, 4.7, 1.4, 'versicolor'],\n",
              "       [6.4, 3.2, 4.5, 1.5, 'versicolor'],\n",
              "       [6.9, 3.1, 4.9, 1.5, 'versicolor'],\n",
              "       [5.5, 2.3, 4.0, 1.3, 'versicolor'],\n",
              "       [6.5, 2.8, 4.6, 1.5, 'versicolor'],\n",
              "       [5.7, 2.8, 4.5, 1.3, 'versicolor'],\n",
              "       [6.3, 3.3, 4.7, 1.6, 'versicolor'],\n",
              "       [4.9, 2.4, 3.3, 1.0, 'versicolor'],\n",
              "       [6.6, 2.9, 4.6, 1.3, 'versicolor'],\n",
              "       [5.2, 2.7, 3.9, 1.4, 'versicolor'],\n",
              "       [5.0, 2.0, 3.5, 1.0, 'versicolor'],\n",
              "       [5.9, 3.0, 4.2, 1.5, 'versicolor'],\n",
              "       [6.0, 2.2, 4.0, 1.0, 'versicolor'],\n",
              "       [6.1, 2.9, 4.7, 1.4, 'versicolor'],\n",
              "       [5.6, 2.9, 3.6, 1.3, 'versicolor'],\n",
              "       [6.7, 3.1, 4.4, 1.4, 'versicolor'],\n",
              "       [5.6, 3.0, 4.5, 1.5, 'versicolor'],\n",
              "       [5.8, 2.7, 4.1, 1.0, 'versicolor'],\n",
              "       [6.2, 2.2, 4.5, 1.5, 'versicolor'],\n",
              "       [5.6, 2.5, 3.9, 1.1, 'versicolor'],\n",
              "       [5.9, 3.2, 4.8, 1.8, 'versicolor'],\n",
              "       [6.1, 2.8, 4.0, 1.3, 'versicolor'],\n",
              "       [6.3, 2.5, 4.9, 1.5, 'versicolor'],\n",
              "       [6.1, 2.8, 4.7, 1.2, 'versicolor'],\n",
              "       [6.4, 2.9, 4.3, 1.3, 'versicolor'],\n",
              "       [6.6, 3.0, 4.4, 1.4, 'versicolor'],\n",
              "       [6.8, 2.8, 4.8, 1.4, 'versicolor'],\n",
              "       [6.7, 3.0, 5.0, 1.7, 'versicolor'],\n",
              "       [6.0, 2.9, 4.5, 1.5, 'versicolor'],\n",
              "       [5.7, 2.6, 3.5, 1.0, 'versicolor'],\n",
              "       [5.5, 2.4, 3.8, 1.1, 'versicolor'],\n",
              "       [5.5, 2.4, 3.7, 1.0, 'versicolor'],\n",
              "       [5.8, 2.7, 3.9, 1.2, 'versicolor'],\n",
              "       [6.0, 2.7, 5.1, 1.6, 'versicolor'],\n",
              "       [5.4, 3.0, 4.5, 1.5, 'versicolor'],\n",
              "       [6.0, 3.4, 4.5, 1.6, 'versicolor'],\n",
              "       [6.7, 3.1, 4.7, 1.5, 'versicolor'],\n",
              "       [6.3, 2.3, 4.4, 1.3, 'versicolor'],\n",
              "       [5.6, 3.0, 4.1, 1.3, 'versicolor'],\n",
              "       [5.5, 2.5, 4.0, 1.3, 'versicolor'],\n",
              "       [5.5, 2.6, 4.4, 1.2, 'versicolor'],\n",
              "       [6.1, 3.0, 4.6, 1.4, 'versicolor'],\n",
              "       [5.8, 2.6, 4.0, 1.2, 'versicolor'],\n",
              "       [5.0, 2.3, 3.3, 1.0, 'versicolor'],\n",
              "       [5.6, 2.7, 4.2, 1.3, 'versicolor'],\n",
              "       [5.7, 3.0, 4.2, 1.2, 'versicolor'],\n",
              "       [5.7, 2.9, 4.2, 1.3, 'versicolor'],\n",
              "       [6.2, 2.9, 4.3, 1.3, 'versicolor'],\n",
              "       [5.1, 2.5, 3.0, 1.1, 'versicolor'],\n",
              "       [5.7, 2.8, 4.1, 1.3, 'versicolor'],\n",
              "       [6.3, 3.3, 6.0, 2.5, 'virginica'],\n",
              "       [5.8, 2.7, 5.1, 1.9, 'virginica'],\n",
              "       [7.1, 3.0, 5.9, 2.1, 'virginica'],\n",
              "       [6.3, 2.9, 5.6, 1.8, 'virginica'],\n",
              "       [6.5, 3.0, 5.8, 2.2, 'virginica'],\n",
              "       [7.6, 3.0, 6.6, 2.1, 'virginica'],\n",
              "       [4.9, 2.5, 4.5, 1.7, 'virginica'],\n",
              "       [7.3, 2.9, 6.3, 1.8, 'virginica'],\n",
              "       [6.7, 2.5, 5.8, 1.8, 'virginica'],\n",
              "       [7.2, 3.6, 6.1, 2.5, 'virginica'],\n",
              "       [6.5, 3.2, 5.1, 2.0, 'virginica'],\n",
              "       [6.4, 2.7, 5.3, 1.9, 'virginica'],\n",
              "       [6.8, 3.0, 5.5, 2.1, 'virginica'],\n",
              "       [5.7, 2.5, 5.0, 2.0, 'virginica'],\n",
              "       [5.8, 2.8, 5.1, 2.4, 'virginica'],\n",
              "       [6.4, 3.2, 5.3, 2.3, 'virginica'],\n",
              "       [6.5, 3.0, 5.5, 1.8, 'virginica'],\n",
              "       [7.7, 3.8, 6.7, 2.2, 'virginica'],\n",
              "       [7.7, 2.6, 6.9, 2.3, 'virginica'],\n",
              "       [6.0, 2.2, 5.0, 1.5, 'virginica'],\n",
              "       [6.9, 3.2, 5.7, 2.3, 'virginica'],\n",
              "       [5.6, 2.8, 4.9, 2.0, 'virginica'],\n",
              "       [7.7, 2.8, 6.7, 2.0, 'virginica'],\n",
              "       [6.3, 2.7, 4.9, 1.8, 'virginica'],\n",
              "       [6.7, 3.3, 5.7, 2.1, 'virginica'],\n",
              "       [7.2, 3.2, 6.0, 1.8, 'virginica'],\n",
              "       [6.2, 2.8, 4.8, 1.8, 'virginica'],\n",
              "       [6.1, 3.0, 4.9, 1.8, 'virginica'],\n",
              "       [6.4, 2.8, 5.6, 2.1, 'virginica'],\n",
              "       [7.2, 3.0, 5.8, 1.6, 'virginica'],\n",
              "       [7.4, 2.8, 6.1, 1.9, 'virginica'],\n",
              "       [7.9, 3.8, 6.4, 2.0, 'virginica'],\n",
              "       [6.4, 2.8, 5.6, 2.2, 'virginica'],\n",
              "       [6.3, 2.8, 5.1, 1.5, 'virginica'],\n",
              "       [6.1, 2.6, 5.6, 1.4, 'virginica'],\n",
              "       [7.7, 3.0, 6.1, 2.3, 'virginica'],\n",
              "       [6.3, 3.4, 5.6, 2.4, 'virginica'],\n",
              "       [6.4, 3.1, 5.5, 1.8, 'virginica'],\n",
              "       [6.0, 3.0, 4.8, 1.8, 'virginica'],\n",
              "       [6.9, 3.1, 5.4, 2.1, 'virginica'],\n",
              "       [6.7, 3.1, 5.6, 2.4, 'virginica'],\n",
              "       [6.9, 3.1, 5.1, 2.3, 'virginica'],\n",
              "       [5.8, 2.7, 5.1, 1.9, 'virginica'],\n",
              "       [6.8, 3.2, 5.9, 2.3, 'virginica'],\n",
              "       [6.7, 3.3, 5.7, 2.5, 'virginica'],\n",
              "       [6.7, 3.0, 5.2, 2.3, 'virginica'],\n",
              "       [6.3, 2.5, 5.0, 1.9, 'virginica'],\n",
              "       [6.5, 3.0, 5.2, 2.0, 'virginica'],\n",
              "       [6.2, 3.4, 5.4, 2.3, 'virginica'],\n",
              "       [5.9, 3.0, 5.1, 1.8, 'virginica']], dtype=object)"
            ]
          },
          "metadata": {
            "tags": []
          },
          "execution_count": 9
        }
      ]
    },
    {
      "cell_type": "code",
      "metadata": {
        "id": "chbbWL3G02E7"
      },
      "source": [
        "X = iris[:, :4]\n",
        "y = iris[:,4]"
      ],
      "execution_count": 10,
      "outputs": []
    },
    {
      "cell_type": "code",
      "metadata": {
        "colab": {
          "base_uri": "https://localhost:8080/"
        },
        "id": "Iyoru19P1PUT",
        "outputId": "eea28680-1987-4e00-a745-d95fcc63e1b2"
      },
      "source": [
        "X[:5]"
      ],
      "execution_count": 13,
      "outputs": [
        {
          "output_type": "execute_result",
          "data": {
            "text/plain": [
              "array([[5.1, 3.5, 1.4, 0.2],\n",
              "       [4.9, 3.0, 1.4, 0.2],\n",
              "       [4.7, 3.2, 1.3, 0.2],\n",
              "       [4.6, 3.1, 1.5, 0.2],\n",
              "       [5.0, 3.6, 1.4, 0.2]], dtype=object)"
            ]
          },
          "metadata": {
            "tags": []
          },
          "execution_count": 13
        }
      ]
    },
    {
      "cell_type": "code",
      "metadata": {
        "colab": {
          "base_uri": "https://localhost:8080/"
        },
        "id": "YE6bVNj51Qrb",
        "outputId": "99ece837-3c3a-44a2-c714-721860ab26e9"
      },
      "source": [
        "X = X.astype(float)\n",
        "X[:5]"
      ],
      "execution_count": 16,
      "outputs": [
        {
          "output_type": "execute_result",
          "data": {
            "text/plain": [
              "array([[5.1, 3.5, 1.4, 0.2],\n",
              "       [4.9, 3. , 1.4, 0.2],\n",
              "       [4.7, 3.2, 1.3, 0.2],\n",
              "       [4.6, 3.1, 1.5, 0.2],\n",
              "       [5. , 3.6, 1.4, 0.2]])"
            ]
          },
          "metadata": {
            "tags": []
          },
          "execution_count": 16
        }
      ]
    },
    {
      "cell_type": "code",
      "metadata": {
        "colab": {
          "base_uri": "https://localhost:8080/"
        },
        "id": "Sx32HopH1Zxy",
        "outputId": "cd78d41d-777f-485e-c051-51f83e036ebe"
      },
      "source": [
        "X.shape, y.shape"
      ],
      "execution_count": 17,
      "outputs": [
        {
          "output_type": "execute_result",
          "data": {
            "text/plain": [
              "((150, 4), (150,))"
            ]
          },
          "metadata": {
            "tags": []
          },
          "execution_count": 17
        }
      ]
    },
    {
      "cell_type": "code",
      "metadata": {
        "colab": {
          "base_uri": "https://localhost:8080/"
        },
        "id": "TUywbvQG1ivR",
        "outputId": "250d23e7-fd8d-42b2-89dc-b922b7a20228"
      },
      "source": [
        "y[:5]"
      ],
      "execution_count": 18,
      "outputs": [
        {
          "output_type": "execute_result",
          "data": {
            "text/plain": [
              "array(['setosa', 'setosa', 'setosa', 'setosa', 'setosa'], dtype=object)"
            ]
          },
          "metadata": {
            "tags": []
          },
          "execution_count": 18
        }
      ]
    },
    {
      "cell_type": "code",
      "metadata": {
        "colab": {
          "base_uri": "https://localhost:8080/"
        },
        "id": "GxVVvK841mmh",
        "outputId": "427bce36-3ebb-41d9-9a28-b1fd182213e5"
      },
      "source": [
        "from sklearn.preprocessing import LabelEncoder\n",
        "\n",
        "encoder = LabelEncoder()\n",
        "LBE = encoder.fit_transform(y)\n",
        "\n",
        "LBE"
      ],
      "execution_count": 19,
      "outputs": [
        {
          "output_type": "execute_result",
          "data": {
            "text/plain": [
              "array([0, 0, 0, 0, 0, 0, 0, 0, 0, 0, 0, 0, 0, 0, 0, 0, 0, 0, 0, 0, 0, 0,\n",
              "       0, 0, 0, 0, 0, 0, 0, 0, 0, 0, 0, 0, 0, 0, 0, 0, 0, 0, 0, 0, 0, 0,\n",
              "       0, 0, 0, 0, 0, 0, 1, 1, 1, 1, 1, 1, 1, 1, 1, 1, 1, 1, 1, 1, 1, 1,\n",
              "       1, 1, 1, 1, 1, 1, 1, 1, 1, 1, 1, 1, 1, 1, 1, 1, 1, 1, 1, 1, 1, 1,\n",
              "       1, 1, 1, 1, 1, 1, 1, 1, 1, 1, 1, 1, 2, 2, 2, 2, 2, 2, 2, 2, 2, 2,\n",
              "       2, 2, 2, 2, 2, 2, 2, 2, 2, 2, 2, 2, 2, 2, 2, 2, 2, 2, 2, 2, 2, 2,\n",
              "       2, 2, 2, 2, 2, 2, 2, 2, 2, 2, 2, 2, 2, 2, 2, 2, 2, 2])"
            ]
          },
          "metadata": {
            "tags": []
          },
          "execution_count": 19
        }
      ]
    },
    {
      "cell_type": "code",
      "metadata": {
        "colab": {
          "base_uri": "https://localhost:8080/"
        },
        "id": "bftXk3Gm1zy5",
        "outputId": "1de12f1f-7d4f-47da-c443-203eba6c3850"
      },
      "source": [
        "import tensorflow as tf\n",
        "\n",
        "yOHE = tf.keras.utils.to_categorical(LBE)\n",
        "yOHE"
      ],
      "execution_count": 20,
      "outputs": [
        {
          "output_type": "execute_result",
          "data": {
            "text/plain": [
              "array([[1., 0., 0.],\n",
              "       [1., 0., 0.],\n",
              "       [1., 0., 0.],\n",
              "       [1., 0., 0.],\n",
              "       [1., 0., 0.],\n",
              "       [1., 0., 0.],\n",
              "       [1., 0., 0.],\n",
              "       [1., 0., 0.],\n",
              "       [1., 0., 0.],\n",
              "       [1., 0., 0.],\n",
              "       [1., 0., 0.],\n",
              "       [1., 0., 0.],\n",
              "       [1., 0., 0.],\n",
              "       [1., 0., 0.],\n",
              "       [1., 0., 0.],\n",
              "       [1., 0., 0.],\n",
              "       [1., 0., 0.],\n",
              "       [1., 0., 0.],\n",
              "       [1., 0., 0.],\n",
              "       [1., 0., 0.],\n",
              "       [1., 0., 0.],\n",
              "       [1., 0., 0.],\n",
              "       [1., 0., 0.],\n",
              "       [1., 0., 0.],\n",
              "       [1., 0., 0.],\n",
              "       [1., 0., 0.],\n",
              "       [1., 0., 0.],\n",
              "       [1., 0., 0.],\n",
              "       [1., 0., 0.],\n",
              "       [1., 0., 0.],\n",
              "       [1., 0., 0.],\n",
              "       [1., 0., 0.],\n",
              "       [1., 0., 0.],\n",
              "       [1., 0., 0.],\n",
              "       [1., 0., 0.],\n",
              "       [1., 0., 0.],\n",
              "       [1., 0., 0.],\n",
              "       [1., 0., 0.],\n",
              "       [1., 0., 0.],\n",
              "       [1., 0., 0.],\n",
              "       [1., 0., 0.],\n",
              "       [1., 0., 0.],\n",
              "       [1., 0., 0.],\n",
              "       [1., 0., 0.],\n",
              "       [1., 0., 0.],\n",
              "       [1., 0., 0.],\n",
              "       [1., 0., 0.],\n",
              "       [1., 0., 0.],\n",
              "       [1., 0., 0.],\n",
              "       [1., 0., 0.],\n",
              "       [0., 1., 0.],\n",
              "       [0., 1., 0.],\n",
              "       [0., 1., 0.],\n",
              "       [0., 1., 0.],\n",
              "       [0., 1., 0.],\n",
              "       [0., 1., 0.],\n",
              "       [0., 1., 0.],\n",
              "       [0., 1., 0.],\n",
              "       [0., 1., 0.],\n",
              "       [0., 1., 0.],\n",
              "       [0., 1., 0.],\n",
              "       [0., 1., 0.],\n",
              "       [0., 1., 0.],\n",
              "       [0., 1., 0.],\n",
              "       [0., 1., 0.],\n",
              "       [0., 1., 0.],\n",
              "       [0., 1., 0.],\n",
              "       [0., 1., 0.],\n",
              "       [0., 1., 0.],\n",
              "       [0., 1., 0.],\n",
              "       [0., 1., 0.],\n",
              "       [0., 1., 0.],\n",
              "       [0., 1., 0.],\n",
              "       [0., 1., 0.],\n",
              "       [0., 1., 0.],\n",
              "       [0., 1., 0.],\n",
              "       [0., 1., 0.],\n",
              "       [0., 1., 0.],\n",
              "       [0., 1., 0.],\n",
              "       [0., 1., 0.],\n",
              "       [0., 1., 0.],\n",
              "       [0., 1., 0.],\n",
              "       [0., 1., 0.],\n",
              "       [0., 1., 0.],\n",
              "       [0., 1., 0.],\n",
              "       [0., 1., 0.],\n",
              "       [0., 1., 0.],\n",
              "       [0., 1., 0.],\n",
              "       [0., 1., 0.],\n",
              "       [0., 1., 0.],\n",
              "       [0., 1., 0.],\n",
              "       [0., 1., 0.],\n",
              "       [0., 1., 0.],\n",
              "       [0., 1., 0.],\n",
              "       [0., 1., 0.],\n",
              "       [0., 1., 0.],\n",
              "       [0., 1., 0.],\n",
              "       [0., 1., 0.],\n",
              "       [0., 1., 0.],\n",
              "       [0., 1., 0.],\n",
              "       [0., 0., 1.],\n",
              "       [0., 0., 1.],\n",
              "       [0., 0., 1.],\n",
              "       [0., 0., 1.],\n",
              "       [0., 0., 1.],\n",
              "       [0., 0., 1.],\n",
              "       [0., 0., 1.],\n",
              "       [0., 0., 1.],\n",
              "       [0., 0., 1.],\n",
              "       [0., 0., 1.],\n",
              "       [0., 0., 1.],\n",
              "       [0., 0., 1.],\n",
              "       [0., 0., 1.],\n",
              "       [0., 0., 1.],\n",
              "       [0., 0., 1.],\n",
              "       [0., 0., 1.],\n",
              "       [0., 0., 1.],\n",
              "       [0., 0., 1.],\n",
              "       [0., 0., 1.],\n",
              "       [0., 0., 1.],\n",
              "       [0., 0., 1.],\n",
              "       [0., 0., 1.],\n",
              "       [0., 0., 1.],\n",
              "       [0., 0., 1.],\n",
              "       [0., 0., 1.],\n",
              "       [0., 0., 1.],\n",
              "       [0., 0., 1.],\n",
              "       [0., 0., 1.],\n",
              "       [0., 0., 1.],\n",
              "       [0., 0., 1.],\n",
              "       [0., 0., 1.],\n",
              "       [0., 0., 1.],\n",
              "       [0., 0., 1.],\n",
              "       [0., 0., 1.],\n",
              "       [0., 0., 1.],\n",
              "       [0., 0., 1.],\n",
              "       [0., 0., 1.],\n",
              "       [0., 0., 1.],\n",
              "       [0., 0., 1.],\n",
              "       [0., 0., 1.],\n",
              "       [0., 0., 1.],\n",
              "       [0., 0., 1.],\n",
              "       [0., 0., 1.],\n",
              "       [0., 0., 1.],\n",
              "       [0., 0., 1.],\n",
              "       [0., 0., 1.],\n",
              "       [0., 0., 1.],\n",
              "       [0., 0., 1.],\n",
              "       [0., 0., 1.],\n",
              "       [0., 0., 1.]], dtype=float32)"
            ]
          },
          "metadata": {
            "tags": []
          },
          "execution_count": 20
        }
      ]
    },
    {
      "cell_type": "code",
      "metadata": {
        "colab": {
          "base_uri": "https://localhost:8080/"
        },
        "id": "GU98Vm6i3Bvx",
        "outputId": "a816c064-97c5-4b25-c6d3-a20bdcfca570"
      },
      "source": [
        "import numpy as np\n",
        "y_reshape = np.reshape(-1,1)\n",
        "y_reshape"
      ],
      "execution_count": 27,
      "outputs": [
        {
          "output_type": "execute_result",
          "data": {
            "text/plain": [
              "array([-1])"
            ]
          },
          "metadata": {
            "tags": []
          },
          "execution_count": 27
        }
      ]
    },
    {
      "cell_type": "code",
      "metadata": {
        "colab": {
          "base_uri": "https://localhost:8080/",
          "height": 420
        },
        "id": "gjacMiCc1-6S",
        "outputId": "3463ecde-20f2-49a0-8556-a8218d36ddc1"
      },
      "source": [
        "from sklearn.preprocessing import OneHotEncoder\n",
        "\n",
        "# 프레임 형태가 아니어서 불가능\n",
        "\n",
        "encoder2 = OneHotEncoder()\n",
        "OHE = encoder2.fit_transform(y_reshape)\n",
        "OHE"
      ],
      "execution_count": 29,
      "outputs": [
        {
          "output_type": "error",
          "ename": "ValueError",
          "evalue": "ignored",
          "traceback": [
            "\u001b[0;31m---------------------------------------------------------------------------\u001b[0m",
            "\u001b[0;31mValueError\u001b[0m                                Traceback (most recent call last)",
            "\u001b[0;32m<ipython-input-29-acf6d42f76e1>\u001b[0m in \u001b[0;36m<module>\u001b[0;34m()\u001b[0m\n\u001b[1;32m      2\u001b[0m \u001b[0;34m\u001b[0m\u001b[0m\n\u001b[1;32m      3\u001b[0m \u001b[0mencoder2\u001b[0m \u001b[0;34m=\u001b[0m \u001b[0mOneHotEncoder\u001b[0m\u001b[0;34m(\u001b[0m\u001b[0;34m)\u001b[0m\u001b[0;34m\u001b[0m\u001b[0;34m\u001b[0m\u001b[0m\n\u001b[0;32m----> 4\u001b[0;31m \u001b[0mOHE\u001b[0m \u001b[0;34m=\u001b[0m \u001b[0mencoder2\u001b[0m\u001b[0;34m.\u001b[0m\u001b[0mfit_transform\u001b[0m\u001b[0;34m(\u001b[0m\u001b[0my_reshape\u001b[0m\u001b[0;34m)\u001b[0m\u001b[0;34m\u001b[0m\u001b[0;34m\u001b[0m\u001b[0m\n\u001b[0m\u001b[1;32m      5\u001b[0m \u001b[0mOHE\u001b[0m\u001b[0;34m\u001b[0m\u001b[0;34m\u001b[0m\u001b[0m\n",
            "\u001b[0;32m/usr/local/lib/python3.7/dist-packages/sklearn/preprocessing/_encoders.py\u001b[0m in \u001b[0;36mfit_transform\u001b[0;34m(self, X, y)\u001b[0m\n\u001b[1;32m    370\u001b[0m         \"\"\"\n\u001b[1;32m    371\u001b[0m         \u001b[0mself\u001b[0m\u001b[0;34m.\u001b[0m\u001b[0m_validate_keywords\u001b[0m\u001b[0;34m(\u001b[0m\u001b[0;34m)\u001b[0m\u001b[0;34m\u001b[0m\u001b[0;34m\u001b[0m\u001b[0m\n\u001b[0;32m--> 372\u001b[0;31m         \u001b[0;32mreturn\u001b[0m \u001b[0msuper\u001b[0m\u001b[0;34m(\u001b[0m\u001b[0;34m)\u001b[0m\u001b[0;34m.\u001b[0m\u001b[0mfit_transform\u001b[0m\u001b[0;34m(\u001b[0m\u001b[0mX\u001b[0m\u001b[0;34m,\u001b[0m \u001b[0my\u001b[0m\u001b[0;34m)\u001b[0m\u001b[0;34m\u001b[0m\u001b[0;34m\u001b[0m\u001b[0m\n\u001b[0m\u001b[1;32m    373\u001b[0m \u001b[0;34m\u001b[0m\u001b[0m\n\u001b[1;32m    374\u001b[0m     \u001b[0;32mdef\u001b[0m \u001b[0mtransform\u001b[0m\u001b[0;34m(\u001b[0m\u001b[0mself\u001b[0m\u001b[0;34m,\u001b[0m \u001b[0mX\u001b[0m\u001b[0;34m)\u001b[0m\u001b[0;34m:\u001b[0m\u001b[0;34m\u001b[0m\u001b[0;34m\u001b[0m\u001b[0m\n",
            "\u001b[0;32m/usr/local/lib/python3.7/dist-packages/sklearn/base.py\u001b[0m in \u001b[0;36mfit_transform\u001b[0;34m(self, X, y, **fit_params)\u001b[0m\n\u001b[1;32m    569\u001b[0m         \u001b[0;32mif\u001b[0m \u001b[0my\u001b[0m \u001b[0;32mis\u001b[0m \u001b[0;32mNone\u001b[0m\u001b[0;34m:\u001b[0m\u001b[0;34m\u001b[0m\u001b[0;34m\u001b[0m\u001b[0m\n\u001b[1;32m    570\u001b[0m             \u001b[0;31m# fit method of arity 1 (unsupervised transformation)\u001b[0m\u001b[0;34m\u001b[0m\u001b[0;34m\u001b[0m\u001b[0;34m\u001b[0m\u001b[0m\n\u001b[0;32m--> 571\u001b[0;31m             \u001b[0;32mreturn\u001b[0m \u001b[0mself\u001b[0m\u001b[0;34m.\u001b[0m\u001b[0mfit\u001b[0m\u001b[0;34m(\u001b[0m\u001b[0mX\u001b[0m\u001b[0;34m,\u001b[0m \u001b[0;34m**\u001b[0m\u001b[0mfit_params\u001b[0m\u001b[0;34m)\u001b[0m\u001b[0;34m.\u001b[0m\u001b[0mtransform\u001b[0m\u001b[0;34m(\u001b[0m\u001b[0mX\u001b[0m\u001b[0;34m)\u001b[0m\u001b[0;34m\u001b[0m\u001b[0;34m\u001b[0m\u001b[0m\n\u001b[0m\u001b[1;32m    572\u001b[0m         \u001b[0;32melse\u001b[0m\u001b[0;34m:\u001b[0m\u001b[0;34m\u001b[0m\u001b[0;34m\u001b[0m\u001b[0m\n\u001b[1;32m    573\u001b[0m             \u001b[0;31m# fit method of arity 2 (supervised transformation)\u001b[0m\u001b[0;34m\u001b[0m\u001b[0;34m\u001b[0m\u001b[0;34m\u001b[0m\u001b[0m\n",
            "\u001b[0;32m/usr/local/lib/python3.7/dist-packages/sklearn/preprocessing/_encoders.py\u001b[0m in \u001b[0;36mfit\u001b[0;34m(self, X, y)\u001b[0m\n\u001b[1;32m    345\u001b[0m         \"\"\"\n\u001b[1;32m    346\u001b[0m         \u001b[0mself\u001b[0m\u001b[0;34m.\u001b[0m\u001b[0m_validate_keywords\u001b[0m\u001b[0;34m(\u001b[0m\u001b[0;34m)\u001b[0m\u001b[0;34m\u001b[0m\u001b[0;34m\u001b[0m\u001b[0m\n\u001b[0;32m--> 347\u001b[0;31m         \u001b[0mself\u001b[0m\u001b[0;34m.\u001b[0m\u001b[0m_fit\u001b[0m\u001b[0;34m(\u001b[0m\u001b[0mX\u001b[0m\u001b[0;34m,\u001b[0m \u001b[0mhandle_unknown\u001b[0m\u001b[0;34m=\u001b[0m\u001b[0mself\u001b[0m\u001b[0;34m.\u001b[0m\u001b[0mhandle_unknown\u001b[0m\u001b[0;34m)\u001b[0m\u001b[0;34m\u001b[0m\u001b[0;34m\u001b[0m\u001b[0m\n\u001b[0m\u001b[1;32m    348\u001b[0m         \u001b[0mself\u001b[0m\u001b[0;34m.\u001b[0m\u001b[0mdrop_idx_\u001b[0m \u001b[0;34m=\u001b[0m \u001b[0mself\u001b[0m\u001b[0;34m.\u001b[0m\u001b[0m_compute_drop_idx\u001b[0m\u001b[0;34m(\u001b[0m\u001b[0;34m)\u001b[0m\u001b[0;34m\u001b[0m\u001b[0;34m\u001b[0m\u001b[0m\n\u001b[1;32m    349\u001b[0m         \u001b[0;32mreturn\u001b[0m \u001b[0mself\u001b[0m\u001b[0;34m\u001b[0m\u001b[0;34m\u001b[0m\u001b[0m\n",
            "\u001b[0;32m/usr/local/lib/python3.7/dist-packages/sklearn/preprocessing/_encoders.py\u001b[0m in \u001b[0;36m_fit\u001b[0;34m(self, X, handle_unknown)\u001b[0m\n\u001b[1;32m     72\u001b[0m \u001b[0;34m\u001b[0m\u001b[0m\n\u001b[1;32m     73\u001b[0m     \u001b[0;32mdef\u001b[0m \u001b[0m_fit\u001b[0m\u001b[0;34m(\u001b[0m\u001b[0mself\u001b[0m\u001b[0;34m,\u001b[0m \u001b[0mX\u001b[0m\u001b[0;34m,\u001b[0m \u001b[0mhandle_unknown\u001b[0m\u001b[0;34m=\u001b[0m\u001b[0;34m'error'\u001b[0m\u001b[0;34m)\u001b[0m\u001b[0;34m:\u001b[0m\u001b[0;34m\u001b[0m\u001b[0;34m\u001b[0m\u001b[0m\n\u001b[0;32m---> 74\u001b[0;31m         \u001b[0mX_list\u001b[0m\u001b[0;34m,\u001b[0m \u001b[0mn_samples\u001b[0m\u001b[0;34m,\u001b[0m \u001b[0mn_features\u001b[0m \u001b[0;34m=\u001b[0m \u001b[0mself\u001b[0m\u001b[0;34m.\u001b[0m\u001b[0m_check_X\u001b[0m\u001b[0;34m(\u001b[0m\u001b[0mX\u001b[0m\u001b[0;34m)\u001b[0m\u001b[0;34m\u001b[0m\u001b[0;34m\u001b[0m\u001b[0m\n\u001b[0m\u001b[1;32m     75\u001b[0m \u001b[0;34m\u001b[0m\u001b[0m\n\u001b[1;32m     76\u001b[0m         \u001b[0;32mif\u001b[0m \u001b[0mself\u001b[0m\u001b[0;34m.\u001b[0m\u001b[0mcategories\u001b[0m \u001b[0;34m!=\u001b[0m \u001b[0;34m'auto'\u001b[0m\u001b[0;34m:\u001b[0m\u001b[0;34m\u001b[0m\u001b[0;34m\u001b[0m\u001b[0m\n",
            "\u001b[0;32m/usr/local/lib/python3.7/dist-packages/sklearn/preprocessing/_encoders.py\u001b[0m in \u001b[0;36m_check_X\u001b[0;34m(self, X)\u001b[0m\n\u001b[1;32m     41\u001b[0m         \u001b[0;32mif\u001b[0m \u001b[0;32mnot\u001b[0m \u001b[0;34m(\u001b[0m\u001b[0mhasattr\u001b[0m\u001b[0;34m(\u001b[0m\u001b[0mX\u001b[0m\u001b[0;34m,\u001b[0m \u001b[0;34m'iloc'\u001b[0m\u001b[0;34m)\u001b[0m \u001b[0;32mand\u001b[0m \u001b[0mgetattr\u001b[0m\u001b[0;34m(\u001b[0m\u001b[0mX\u001b[0m\u001b[0;34m,\u001b[0m \u001b[0;34m'ndim'\u001b[0m\u001b[0;34m,\u001b[0m \u001b[0;36m0\u001b[0m\u001b[0;34m)\u001b[0m \u001b[0;34m==\u001b[0m \u001b[0;36m2\u001b[0m\u001b[0;34m)\u001b[0m\u001b[0;34m:\u001b[0m\u001b[0;34m\u001b[0m\u001b[0;34m\u001b[0m\u001b[0m\n\u001b[1;32m     42\u001b[0m             \u001b[0;31m# if not a dataframe, do normal check_array validation\u001b[0m\u001b[0;34m\u001b[0m\u001b[0;34m\u001b[0m\u001b[0;34m\u001b[0m\u001b[0m\n\u001b[0;32m---> 43\u001b[0;31m             \u001b[0mX_temp\u001b[0m \u001b[0;34m=\u001b[0m \u001b[0mcheck_array\u001b[0m\u001b[0;34m(\u001b[0m\u001b[0mX\u001b[0m\u001b[0;34m,\u001b[0m \u001b[0mdtype\u001b[0m\u001b[0;34m=\u001b[0m\u001b[0;32mNone\u001b[0m\u001b[0;34m)\u001b[0m\u001b[0;34m\u001b[0m\u001b[0;34m\u001b[0m\u001b[0m\n\u001b[0m\u001b[1;32m     44\u001b[0m             if (not hasattr(X, 'dtype')\n\u001b[1;32m     45\u001b[0m                     and np.issubdtype(X_temp.dtype, np.str_)):\n",
            "\u001b[0;32m/usr/local/lib/python3.7/dist-packages/sklearn/utils/validation.py\u001b[0m in \u001b[0;36mcheck_array\u001b[0;34m(array, accept_sparse, accept_large_sparse, dtype, order, copy, force_all_finite, ensure_2d, allow_nd, ensure_min_samples, ensure_min_features, warn_on_dtype, estimator)\u001b[0m\n\u001b[1;32m    554\u001b[0m                     \u001b[0;34m\"Reshape your data either using array.reshape(-1, 1) if \"\u001b[0m\u001b[0;34m\u001b[0m\u001b[0;34m\u001b[0m\u001b[0m\n\u001b[1;32m    555\u001b[0m                     \u001b[0;34m\"your data has a single feature or array.reshape(1, -1) \"\u001b[0m\u001b[0;34m\u001b[0m\u001b[0;34m\u001b[0m\u001b[0m\n\u001b[0;32m--> 556\u001b[0;31m                     \"if it contains a single sample.\".format(array))\n\u001b[0m\u001b[1;32m    557\u001b[0m \u001b[0;34m\u001b[0m\u001b[0m\n\u001b[1;32m    558\u001b[0m         \u001b[0;31m# in the future np.flexible dtypes will be handled like object dtypes\u001b[0m\u001b[0;34m\u001b[0m\u001b[0;34m\u001b[0m\u001b[0;34m\u001b[0m\u001b[0m\n",
            "\u001b[0;31mValueError\u001b[0m: Expected 2D array, got 1D array instead:\narray=[-1].\nReshape your data either using array.reshape(-1, 1) if your data has a single feature or array.reshape(1, -1) if it contains a single sample."
          ]
        }
      ]
    },
    {
      "cell_type": "code",
      "metadata": {
        "colab": {
          "base_uri": "https://localhost:8080/"
        },
        "id": "2fq-FxgF2buS",
        "outputId": "e6c77999-c88a-48c3-a213-47003ae15df1"
      },
      "source": [
        "from sklearn.model_selection import train_test_split\n",
        "\n",
        "X_train,  X_test, y_train, y_test = train_test_split(X, yOHE, test_size=0.3, random_state=2045)\n",
        "X_train.shape, y_train.shape, X_test.shape, y_test.shape"
      ],
      "execution_count": 31,
      "outputs": [
        {
          "output_type": "execute_result",
          "data": {
            "text/plain": [
              "((105, 4), (105, 3), (45, 4), (45, 3))"
            ]
          },
          "metadata": {
            "tags": []
          },
          "execution_count": 31
        }
      ]
    },
    {
      "cell_type": "code",
      "metadata": {
        "id": "zo1zywEz4Mbz"
      },
      "source": [
        "from tensorflow.keras import models, layers"
      ],
      "execution_count": 33,
      "outputs": []
    },
    {
      "cell_type": "code",
      "metadata": {
        "id": "9Dc3zjZS4eaZ"
      },
      "source": [
        "model = models.Sequential()\n",
        "model.add(layers.Dense(16, activation='relu', input_shape=(4,)))\n",
        "model.add(layers.Dense(3, activation='softmax'))"
      ],
      "execution_count": 36,
      "outputs": []
    },
    {
      "cell_type": "code",
      "metadata": {
        "colab": {
          "base_uri": "https://localhost:8080/"
        },
        "id": "krQ0zbR-4wKn",
        "outputId": "0a12fb01-c586-4b00-e1a5-24e5f121c6d7"
      },
      "source": [
        "model.summary()"
      ],
      "execution_count": 37,
      "outputs": [
        {
          "output_type": "stream",
          "text": [
            "Model: \"sequential_2\"\n",
            "_________________________________________________________________\n",
            "Layer (type)                 Output Shape              Param #   \n",
            "=================================================================\n",
            "dense_1 (Dense)              (None, 16)                80        \n",
            "_________________________________________________________________\n",
            "dense_2 (Dense)              (None, 3)                 51        \n",
            "=================================================================\n",
            "Total params: 131\n",
            "Trainable params: 131\n",
            "Non-trainable params: 0\n",
            "_________________________________________________________________\n"
          ],
          "name": "stdout"
        }
      ]
    },
    {
      "cell_type": "code",
      "metadata": {
        "id": "-YogbfBm47Ax"
      },
      "source": [
        "model.compile(loss='categorical_crossentropy', optimizer='adam', metrics=['accuracy','Recall'])"
      ],
      "execution_count": 40,
      "outputs": []
    },
    {
      "cell_type": "code",
      "metadata": {
        "colab": {
          "base_uri": "https://localhost:8080/"
        },
        "id": "LCQIXMtJ5Kp4",
        "outputId": "fcd2b857-2cea-4f52-fefa-3dec9ca010cf"
      },
      "source": [
        "History = model.fit(X_train, y_train, \n",
        "                    epochs = 300, batch_size=7, validation_data=(X_test,y_test))"
      ],
      "execution_count": 42,
      "outputs": [
        {
          "output_type": "stream",
          "text": [
            "Epoch 1/300\n",
            "15/15 [==============================] - 1s 36ms/step - loss: 4.9532 - accuracy: 0.3301 - recall: 0.3301 - val_loss: 4.3196 - val_accuracy: 0.3111 - val_recall: 0.3111\n",
            "Epoch 2/300\n",
            "15/15 [==============================] - 0s 4ms/step - loss: 3.7979 - accuracy: 0.4193 - recall: 0.4193 - val_loss: 3.7186 - val_accuracy: 0.3111 - val_recall: 0.3111\n",
            "Epoch 3/300\n",
            "15/15 [==============================] - 0s 4ms/step - loss: 3.3755 - accuracy: 0.4070 - recall: 0.4070 - val_loss: 3.1526 - val_accuracy: 0.3111 - val_recall: 0.3111\n",
            "Epoch 4/300\n",
            "15/15 [==============================] - 0s 4ms/step - loss: 3.2477 - accuracy: 0.3370 - recall: 0.3370 - val_loss: 2.6383 - val_accuracy: 0.3111 - val_recall: 0.3111\n",
            "Epoch 5/300\n",
            "15/15 [==============================] - 0s 4ms/step - loss: 2.5879 - accuracy: 0.3578 - recall: 0.3578 - val_loss: 2.1926 - val_accuracy: 0.3111 - val_recall: 0.3111\n",
            "Epoch 6/300\n",
            "15/15 [==============================] - 0s 4ms/step - loss: 2.1024 - accuracy: 0.3528 - recall: 0.3528 - val_loss: 1.8330 - val_accuracy: 0.3111 - val_recall: 0.3111\n",
            "Epoch 7/300\n",
            "15/15 [==============================] - 0s 4ms/step - loss: 1.8566 - accuracy: 0.3027 - recall: 0.3027 - val_loss: 1.5531 - val_accuracy: 0.3111 - val_recall: 0.3111\n",
            "Epoch 8/300\n",
            "15/15 [==============================] - 0s 4ms/step - loss: 1.6782 - accuracy: 0.2899 - recall: 0.2899 - val_loss: 1.3342 - val_accuracy: 0.3111 - val_recall: 0.3111\n",
            "Epoch 9/300\n",
            "15/15 [==============================] - 0s 4ms/step - loss: 1.2952 - accuracy: 0.3577 - recall: 0.3577 - val_loss: 1.1982 - val_accuracy: 0.3111 - val_recall: 0.2889\n",
            "Epoch 10/300\n",
            "15/15 [==============================] - 0s 4ms/step - loss: 1.1800 - accuracy: 0.3314 - recall: 0.2811 - val_loss: 1.1100 - val_accuracy: 0.4444 - val_recall: 0.2222\n",
            "Epoch 11/300\n",
            "15/15 [==============================] - 0s 5ms/step - loss: 1.0720 - accuracy: 0.4889 - recall: 0.1290 - val_loss: 1.0664 - val_accuracy: 0.5111 - val_recall: 0.0889\n",
            "Epoch 12/300\n",
            "15/15 [==============================] - 0s 4ms/step - loss: 1.0146 - accuracy: 0.5724 - recall: 0.0522 - val_loss: 1.0358 - val_accuracy: 0.5333 - val_recall: 0.1333\n",
            "Epoch 13/300\n",
            "15/15 [==============================] - 0s 4ms/step - loss: 0.9900 - accuracy: 0.5661 - recall: 0.1185 - val_loss: 1.0142 - val_accuracy: 0.4889 - val_recall: 0.2222\n",
            "Epoch 14/300\n",
            "15/15 [==============================] - 0s 4ms/step - loss: 0.9803 - accuracy: 0.5228 - recall: 0.2330 - val_loss: 0.9926 - val_accuracy: 0.4667 - val_recall: 0.2444\n",
            "Epoch 15/300\n",
            "15/15 [==============================] - 0s 5ms/step - loss: 0.9849 - accuracy: 0.4027 - recall: 0.2527 - val_loss: 0.9700 - val_accuracy: 0.4222 - val_recall: 0.2444\n",
            "Epoch 16/300\n",
            "15/15 [==============================] - 0s 4ms/step - loss: 0.9366 - accuracy: 0.4451 - recall: 0.3213 - val_loss: 0.9544 - val_accuracy: 0.4444 - val_recall: 0.2444\n",
            "Epoch 17/300\n",
            "15/15 [==============================] - 0s 4ms/step - loss: 0.9292 - accuracy: 0.4340 - recall: 0.2758 - val_loss: 0.9355 - val_accuracy: 0.4667 - val_recall: 0.2444\n",
            "Epoch 18/300\n",
            "15/15 [==============================] - 0s 4ms/step - loss: 0.8828 - accuracy: 0.5016 - recall: 0.3565 - val_loss: 0.9173 - val_accuracy: 0.4000 - val_recall: 0.2667\n",
            "Epoch 19/300\n",
            "15/15 [==============================] - 0s 4ms/step - loss: 0.9169 - accuracy: 0.3901 - recall: 0.2848 - val_loss: 0.8974 - val_accuracy: 0.4667 - val_recall: 0.2444\n",
            "Epoch 20/300\n",
            "15/15 [==============================] - 0s 4ms/step - loss: 0.8868 - accuracy: 0.4168 - recall: 0.3177 - val_loss: 0.8814 - val_accuracy: 0.4222 - val_recall: 0.2667\n",
            "Epoch 21/300\n",
            "15/15 [==============================] - 0s 4ms/step - loss: 0.8735 - accuracy: 0.4118 - recall: 0.3046 - val_loss: 0.8637 - val_accuracy: 0.4222 - val_recall: 0.2667\n",
            "Epoch 22/300\n",
            "15/15 [==============================] - 0s 5ms/step - loss: 0.8792 - accuracy: 0.4132 - recall: 0.3028 - val_loss: 0.8478 - val_accuracy: 0.4667 - val_recall: 0.2667\n",
            "Epoch 23/300\n",
            "15/15 [==============================] - 0s 4ms/step - loss: 0.8282 - accuracy: 0.5050 - recall: 0.3173 - val_loss: 0.8334 - val_accuracy: 0.4667 - val_recall: 0.2667\n",
            "Epoch 24/300\n",
            "15/15 [==============================] - 0s 4ms/step - loss: 0.8213 - accuracy: 0.4622 - recall: 0.3425 - val_loss: 0.8137 - val_accuracy: 0.5333 - val_recall: 0.2889\n",
            "Epoch 25/300\n",
            "15/15 [==============================] - 0s 4ms/step - loss: 0.8260 - accuracy: 0.5307 - recall: 0.2630 - val_loss: 0.7961 - val_accuracy: 0.7111 - val_recall: 0.2667\n",
            "Epoch 26/300\n",
            "15/15 [==============================] - 0s 4ms/step - loss: 0.7827 - accuracy: 0.6485 - recall: 0.3878 - val_loss: 0.7834 - val_accuracy: 0.7333 - val_recall: 0.2889\n",
            "Epoch 27/300\n",
            "15/15 [==============================] - 0s 5ms/step - loss: 0.7730 - accuracy: 0.6370 - recall: 0.3806 - val_loss: 0.7684 - val_accuracy: 0.7778 - val_recall: 0.2889\n",
            "Epoch 28/300\n",
            "15/15 [==============================] - 0s 4ms/step - loss: 0.7978 - accuracy: 0.7079 - recall: 0.2966 - val_loss: 0.7525 - val_accuracy: 0.8889 - val_recall: 0.2889\n",
            "Epoch 29/300\n",
            "15/15 [==============================] - 0s 4ms/step - loss: 0.7384 - accuracy: 0.8541 - recall: 0.3870 - val_loss: 0.7375 - val_accuracy: 0.8222 - val_recall: 0.3111\n",
            "Epoch 30/300\n",
            "15/15 [==============================] - 0s 4ms/step - loss: 0.7094 - accuracy: 0.8061 - recall: 0.4742 - val_loss: 0.7240 - val_accuracy: 0.8444 - val_recall: 0.3778\n",
            "Epoch 31/300\n",
            "15/15 [==============================] - 0s 4ms/step - loss: 0.7226 - accuracy: 0.8450 - recall: 0.4397 - val_loss: 0.7094 - val_accuracy: 0.8889 - val_recall: 0.4222\n",
            "Epoch 32/300\n",
            "15/15 [==============================] - 0s 5ms/step - loss: 0.7184 - accuracy: 0.8172 - recall: 0.4904 - val_loss: 0.6941 - val_accuracy: 0.8889 - val_recall: 0.5556\n",
            "Epoch 33/300\n",
            "15/15 [==============================] - 0s 6ms/step - loss: 0.7138 - accuracy: 0.8453 - recall: 0.5452 - val_loss: 0.6803 - val_accuracy: 0.8889 - val_recall: 0.6222\n",
            "Epoch 34/300\n",
            "15/15 [==============================] - 0s 4ms/step - loss: 0.6882 - accuracy: 0.8333 - recall: 0.6128 - val_loss: 0.6702 - val_accuracy: 0.8889 - val_recall: 0.6222\n",
            "Epoch 35/300\n",
            "15/15 [==============================] - 0s 4ms/step - loss: 0.6900 - accuracy: 0.7982 - recall: 0.6108 - val_loss: 0.6568 - val_accuracy: 0.8889 - val_recall: 0.6444\n",
            "Epoch 36/300\n",
            "15/15 [==============================] - 0s 4ms/step - loss: 0.6720 - accuracy: 0.8524 - recall: 0.6365 - val_loss: 0.6441 - val_accuracy: 0.8889 - val_recall: 0.6444\n",
            "Epoch 37/300\n",
            "15/15 [==============================] - 0s 4ms/step - loss: 0.6796 - accuracy: 0.7415 - recall: 0.6389 - val_loss: 0.6305 - val_accuracy: 0.8889 - val_recall: 0.6667\n",
            "Epoch 38/300\n",
            "15/15 [==============================] - 0s 4ms/step - loss: 0.6817 - accuracy: 0.7677 - recall: 0.5955 - val_loss: 0.6194 - val_accuracy: 0.8889 - val_recall: 0.6667\n",
            "Epoch 39/300\n",
            "15/15 [==============================] - 0s 4ms/step - loss: 0.6594 - accuracy: 0.7709 - recall: 0.6106 - val_loss: 0.6070 - val_accuracy: 0.8889 - val_recall: 0.6667\n",
            "Epoch 40/300\n",
            "15/15 [==============================] - 0s 4ms/step - loss: 0.6497 - accuracy: 0.7668 - recall: 0.6340 - val_loss: 0.5965 - val_accuracy: 0.8889 - val_recall: 0.6667\n",
            "Epoch 41/300\n",
            "15/15 [==============================] - 0s 4ms/step - loss: 0.6450 - accuracy: 0.7270 - recall: 0.5982 - val_loss: 0.5871 - val_accuracy: 0.8889 - val_recall: 0.6667\n",
            "Epoch 42/300\n",
            "15/15 [==============================] - 0s 5ms/step - loss: 0.6156 - accuracy: 0.7824 - recall: 0.6211 - val_loss: 0.5760 - val_accuracy: 0.8889 - val_recall: 0.6667\n",
            "Epoch 43/300\n",
            "15/15 [==============================] - 0s 4ms/step - loss: 0.5896 - accuracy: 0.8513 - recall: 0.6574 - val_loss: 0.5662 - val_accuracy: 0.8889 - val_recall: 0.6667\n",
            "Epoch 44/300\n",
            "15/15 [==============================] - 0s 5ms/step - loss: 0.5950 - accuracy: 0.8556 - recall: 0.6677 - val_loss: 0.5573 - val_accuracy: 0.8889 - val_recall: 0.6667\n",
            "Epoch 45/300\n",
            "15/15 [==============================] - 0s 4ms/step - loss: 0.5644 - accuracy: 0.8628 - recall: 0.6808 - val_loss: 0.5480 - val_accuracy: 0.8889 - val_recall: 0.6889\n",
            "Epoch 46/300\n",
            "15/15 [==============================] - 0s 4ms/step - loss: 0.5418 - accuracy: 0.8590 - recall: 0.7110 - val_loss: 0.5382 - val_accuracy: 0.9111 - val_recall: 0.7111\n",
            "Epoch 47/300\n",
            "15/15 [==============================] - 0s 4ms/step - loss: 0.5876 - accuracy: 0.8319 - recall: 0.6352 - val_loss: 0.5304 - val_accuracy: 0.9333 - val_recall: 0.7333\n",
            "Epoch 48/300\n",
            "15/15 [==============================] - 0s 4ms/step - loss: 0.5244 - accuracy: 0.8734 - recall: 0.7566 - val_loss: 0.5219 - val_accuracy: 0.9111 - val_recall: 0.7333\n",
            "Epoch 49/300\n",
            "15/15 [==============================] - 0s 4ms/step - loss: 0.5496 - accuracy: 0.8806 - recall: 0.6533 - val_loss: 0.5141 - val_accuracy: 0.9333 - val_recall: 0.7778\n",
            "Epoch 50/300\n",
            "15/15 [==============================] - 0s 4ms/step - loss: 0.5462 - accuracy: 0.8557 - recall: 0.6561 - val_loss: 0.5074 - val_accuracy: 0.9556 - val_recall: 0.7778\n",
            "Epoch 51/300\n",
            "15/15 [==============================] - 0s 4ms/step - loss: 0.5357 - accuracy: 0.8560 - recall: 0.7064 - val_loss: 0.5002 - val_accuracy: 0.8889 - val_recall: 0.7556\n",
            "Epoch 52/300\n",
            "15/15 [==============================] - 0s 5ms/step - loss: 0.5336 - accuracy: 0.8509 - recall: 0.6868 - val_loss: 0.4926 - val_accuracy: 0.9556 - val_recall: 0.7778\n",
            "Epoch 53/300\n",
            "15/15 [==============================] - 0s 4ms/step - loss: 0.5411 - accuracy: 0.8984 - recall: 0.7144 - val_loss: 0.4863 - val_accuracy: 0.9333 - val_recall: 0.8000\n",
            "Epoch 54/300\n",
            "15/15 [==============================] - 0s 4ms/step - loss: 0.5351 - accuracy: 0.8393 - recall: 0.6599 - val_loss: 0.4787 - val_accuracy: 0.9556 - val_recall: 0.8000\n",
            "Epoch 55/300\n",
            "15/15 [==============================] - 0s 4ms/step - loss: 0.5099 - accuracy: 0.8754 - recall: 0.7320 - val_loss: 0.4725 - val_accuracy: 0.9556 - val_recall: 0.8000\n",
            "Epoch 56/300\n",
            "15/15 [==============================] - 0s 4ms/step - loss: 0.5273 - accuracy: 0.8769 - recall: 0.6873 - val_loss: 0.4664 - val_accuracy: 0.9556 - val_recall: 0.8222\n",
            "Epoch 57/300\n",
            "15/15 [==============================] - 0s 4ms/step - loss: 0.5195 - accuracy: 0.8791 - recall: 0.6767 - val_loss: 0.4607 - val_accuracy: 0.9556 - val_recall: 0.8444\n",
            "Epoch 58/300\n",
            "15/15 [==============================] - 0s 4ms/step - loss: 0.5238 - accuracy: 0.8457 - recall: 0.6800 - val_loss: 0.4544 - val_accuracy: 0.9556 - val_recall: 0.8444\n",
            "Epoch 59/300\n",
            "15/15 [==============================] - 0s 4ms/step - loss: 0.4823 - accuracy: 0.8998 - recall: 0.7835 - val_loss: 0.4492 - val_accuracy: 0.9556 - val_recall: 0.8444\n",
            "Epoch 60/300\n",
            "15/15 [==============================] - 0s 5ms/step - loss: 0.4969 - accuracy: 0.8696 - recall: 0.7078 - val_loss: 0.4435 - val_accuracy: 0.9556 - val_recall: 0.8667\n",
            "Epoch 61/300\n",
            "15/15 [==============================] - 0s 4ms/step - loss: 0.4828 - accuracy: 0.8821 - recall: 0.7565 - val_loss: 0.4375 - val_accuracy: 0.9778 - val_recall: 0.8444\n",
            "Epoch 62/300\n",
            "15/15 [==============================] - 0s 5ms/step - loss: 0.4570 - accuracy: 0.9150 - recall: 0.8036 - val_loss: 0.4330 - val_accuracy: 0.9556 - val_recall: 0.8667\n",
            "Epoch 63/300\n",
            "15/15 [==============================] - 0s 4ms/step - loss: 0.5084 - accuracy: 0.8371 - recall: 0.7385 - val_loss: 0.4281 - val_accuracy: 0.9778 - val_recall: 0.8667\n",
            "Epoch 64/300\n",
            "15/15 [==============================] - 0s 4ms/step - loss: 0.4806 - accuracy: 0.9027 - recall: 0.7519 - val_loss: 0.4229 - val_accuracy: 0.9556 - val_recall: 0.8444\n",
            "Epoch 65/300\n",
            "15/15 [==============================] - 0s 4ms/step - loss: 0.4906 - accuracy: 0.8860 - recall: 0.6991 - val_loss: 0.4189 - val_accuracy: 0.9556 - val_recall: 0.8667\n",
            "Epoch 66/300\n",
            "15/15 [==============================] - 0s 4ms/step - loss: 0.4518 - accuracy: 0.8577 - recall: 0.7842 - val_loss: 0.4133 - val_accuracy: 0.9778 - val_recall: 0.8667\n",
            "Epoch 67/300\n",
            "15/15 [==============================] - 0s 4ms/step - loss: 0.4539 - accuracy: 0.9274 - recall: 0.8113 - val_loss: 0.4088 - val_accuracy: 0.9778 - val_recall: 0.8889\n",
            "Epoch 68/300\n",
            "15/15 [==============================] - 0s 4ms/step - loss: 0.4254 - accuracy: 0.9177 - recall: 0.8132 - val_loss: 0.4046 - val_accuracy: 0.9556 - val_recall: 0.8667\n",
            "Epoch 69/300\n",
            "15/15 [==============================] - 0s 5ms/step - loss: 0.4193 - accuracy: 0.9228 - recall: 0.8182 - val_loss: 0.4000 - val_accuracy: 0.9778 - val_recall: 0.8889\n",
            "Epoch 70/300\n",
            "15/15 [==============================] - 0s 4ms/step - loss: 0.4153 - accuracy: 0.8848 - recall: 0.8158 - val_loss: 0.3956 - val_accuracy: 0.9556 - val_recall: 0.9111\n",
            "Epoch 71/300\n",
            "15/15 [==============================] - 0s 5ms/step - loss: 0.4393 - accuracy: 0.9321 - recall: 0.8733 - val_loss: 0.3921 - val_accuracy: 0.9778 - val_recall: 0.8889\n",
            "Epoch 72/300\n",
            "15/15 [==============================] - 0s 4ms/step - loss: 0.4448 - accuracy: 0.9206 - recall: 0.8749 - val_loss: 0.3886 - val_accuracy: 0.9778 - val_recall: 0.9111\n",
            "Epoch 73/300\n",
            "15/15 [==============================] - 0s 4ms/step - loss: 0.4120 - accuracy: 0.9293 - recall: 0.8930 - val_loss: 0.3839 - val_accuracy: 0.9778 - val_recall: 0.9111\n",
            "Epoch 74/300\n",
            "15/15 [==============================] - 0s 5ms/step - loss: 0.4034 - accuracy: 0.9009 - recall: 0.8581 - val_loss: 0.3799 - val_accuracy: 0.9778 - val_recall: 0.9111\n",
            "Epoch 75/300\n",
            "15/15 [==============================] - 0s 5ms/step - loss: 0.4237 - accuracy: 0.8898 - recall: 0.8594 - val_loss: 0.3763 - val_accuracy: 0.9556 - val_recall: 0.9111\n",
            "Epoch 76/300\n",
            "15/15 [==============================] - 0s 4ms/step - loss: 0.4656 - accuracy: 0.9224 - recall: 0.8672 - val_loss: 0.3729 - val_accuracy: 0.9778 - val_recall: 0.9111\n",
            "Epoch 77/300\n",
            "15/15 [==============================] - 0s 5ms/step - loss: 0.4115 - accuracy: 0.9211 - recall: 0.8818 - val_loss: 0.3690 - val_accuracy: 0.9778 - val_recall: 0.9333\n",
            "Epoch 78/300\n",
            "15/15 [==============================] - 0s 5ms/step - loss: 0.4117 - accuracy: 0.8667 - recall: 0.8514 - val_loss: 0.3652 - val_accuracy: 0.9556 - val_recall: 0.9333\n",
            "Epoch 79/300\n",
            "15/15 [==============================] - 0s 4ms/step - loss: 0.4067 - accuracy: 0.9632 - recall: 0.9088 - val_loss: 0.3620 - val_accuracy: 0.9778 - val_recall: 0.9333\n",
            "Epoch 80/300\n",
            "15/15 [==============================] - 0s 4ms/step - loss: 0.3899 - accuracy: 0.9314 - recall: 0.9059 - val_loss: 0.3586 - val_accuracy: 0.9778 - val_recall: 0.9556\n",
            "Epoch 81/300\n",
            "15/15 [==============================] - 0s 4ms/step - loss: 0.4065 - accuracy: 0.9222 - recall: 0.8791 - val_loss: 0.3554 - val_accuracy: 0.9778 - val_recall: 0.9556\n",
            "Epoch 82/300\n",
            "15/15 [==============================] - 0s 4ms/step - loss: 0.4021 - accuracy: 0.9340 - recall: 0.9204 - val_loss: 0.3520 - val_accuracy: 0.9778 - val_recall: 0.9556\n",
            "Epoch 83/300\n",
            "15/15 [==============================] - 0s 4ms/step - loss: 0.3809 - accuracy: 0.9289 - recall: 0.9172 - val_loss: 0.3483 - val_accuracy: 0.9556 - val_recall: 0.9556\n",
            "Epoch 84/300\n",
            "15/15 [==============================] - 0s 4ms/step - loss: 0.3922 - accuracy: 0.9172 - recall: 0.8990 - val_loss: 0.3461 - val_accuracy: 0.9778 - val_recall: 0.9556\n",
            "Epoch 85/300\n",
            "15/15 [==============================] - 0s 5ms/step - loss: 0.3703 - accuracy: 0.9143 - recall: 0.8967 - val_loss: 0.3423 - val_accuracy: 0.9556 - val_recall: 0.9556\n",
            "Epoch 86/300\n",
            "15/15 [==============================] - 0s 4ms/step - loss: 0.3733 - accuracy: 0.9615 - recall: 0.9286 - val_loss: 0.3395 - val_accuracy: 0.9556 - val_recall: 0.9556\n",
            "Epoch 87/300\n",
            "15/15 [==============================] - 0s 5ms/step - loss: 0.3809 - accuracy: 0.9328 - recall: 0.9310 - val_loss: 0.3363 - val_accuracy: 0.9556 - val_recall: 0.9556\n",
            "Epoch 88/300\n",
            "15/15 [==============================] - 0s 4ms/step - loss: 0.4351 - accuracy: 0.8685 - recall: 0.8587 - val_loss: 0.3335 - val_accuracy: 0.9778 - val_recall: 0.9556\n",
            "Epoch 89/300\n",
            "15/15 [==============================] - 0s 4ms/step - loss: 0.4072 - accuracy: 0.8966 - recall: 0.8827 - val_loss: 0.3308 - val_accuracy: 0.9778 - val_recall: 0.9778\n",
            "Epoch 90/300\n",
            "15/15 [==============================] - 0s 4ms/step - loss: 0.3443 - accuracy: 0.9288 - recall: 0.9130 - val_loss: 0.3272 - val_accuracy: 0.9778 - val_recall: 0.9556\n",
            "Epoch 91/300\n",
            "15/15 [==============================] - 0s 4ms/step - loss: 0.3578 - accuracy: 0.9393 - recall: 0.9171 - val_loss: 0.3245 - val_accuracy: 0.9556 - val_recall: 0.9556\n",
            "Epoch 92/300\n",
            "15/15 [==============================] - 0s 4ms/step - loss: 0.3465 - accuracy: 0.9542 - recall: 0.9492 - val_loss: 0.3228 - val_accuracy: 0.9778 - val_recall: 0.9778\n",
            "Epoch 93/300\n",
            "15/15 [==============================] - 0s 4ms/step - loss: 0.3806 - accuracy: 0.9206 - recall: 0.8879 - val_loss: 0.3189 - val_accuracy: 0.9556 - val_recall: 0.9556\n",
            "Epoch 94/300\n",
            "15/15 [==============================] - 0s 4ms/step - loss: 0.3393 - accuracy: 0.9746 - recall: 0.9676 - val_loss: 0.3160 - val_accuracy: 0.9556 - val_recall: 0.9556\n",
            "Epoch 95/300\n",
            "15/15 [==============================] - 0s 4ms/step - loss: 0.3626 - accuracy: 0.9824 - recall: 0.9792 - val_loss: 0.3135 - val_accuracy: 0.9556 - val_recall: 0.9556\n",
            "Epoch 96/300\n",
            "15/15 [==============================] - 0s 5ms/step - loss: 0.3742 - accuracy: 0.9177 - recall: 0.8925 - val_loss: 0.3108 - val_accuracy: 0.9556 - val_recall: 0.9556\n",
            "Epoch 97/300\n",
            "15/15 [==============================] - 0s 4ms/step - loss: 0.3408 - accuracy: 0.9878 - recall: 0.9330 - val_loss: 0.3081 - val_accuracy: 0.9556 - val_recall: 0.9556\n",
            "Epoch 98/300\n",
            "15/15 [==============================] - 0s 4ms/step - loss: 0.3318 - accuracy: 0.9654 - recall: 0.9513 - val_loss: 0.3055 - val_accuracy: 0.9556 - val_recall: 0.9556\n",
            "Epoch 99/300\n",
            "15/15 [==============================] - 0s 4ms/step - loss: 0.3356 - accuracy: 0.9488 - recall: 0.9205 - val_loss: 0.3028 - val_accuracy: 0.9556 - val_recall: 0.9556\n",
            "Epoch 100/300\n",
            "15/15 [==============================] - 0s 5ms/step - loss: 0.3457 - accuracy: 0.9494 - recall: 0.9494 - val_loss: 0.3004 - val_accuracy: 0.9556 - val_recall: 0.9556\n",
            "Epoch 101/300\n",
            "15/15 [==============================] - 0s 4ms/step - loss: 0.3738 - accuracy: 0.9267 - recall: 0.9267 - val_loss: 0.2981 - val_accuracy: 0.9556 - val_recall: 0.9556\n",
            "Epoch 102/300\n",
            "15/15 [==============================] - 0s 4ms/step - loss: 0.3319 - accuracy: 0.9785 - recall: 0.9785 - val_loss: 0.2954 - val_accuracy: 0.9778 - val_recall: 0.9556\n",
            "Epoch 103/300\n",
            "15/15 [==============================] - 0s 4ms/step - loss: 0.2925 - accuracy: 0.9752 - recall: 0.9539 - val_loss: 0.2930 - val_accuracy: 0.9778 - val_recall: 0.9778\n",
            "Epoch 104/300\n",
            "15/15 [==============================] - 0s 4ms/step - loss: 0.3206 - accuracy: 0.9872 - recall: 0.9459 - val_loss: 0.2902 - val_accuracy: 0.9556 - val_recall: 0.9556\n",
            "Epoch 105/300\n",
            "15/15 [==============================] - 0s 5ms/step - loss: 0.3534 - accuracy: 0.9439 - recall: 0.9439 - val_loss: 0.2879 - val_accuracy: 0.9556 - val_recall: 0.9556\n",
            "Epoch 106/300\n",
            "15/15 [==============================] - 0s 4ms/step - loss: 0.3137 - accuracy: 0.9448 - recall: 0.9448 - val_loss: 0.2854 - val_accuracy: 0.9556 - val_recall: 0.9556\n",
            "Epoch 107/300\n",
            "15/15 [==============================] - 0s 4ms/step - loss: 0.3526 - accuracy: 0.9148 - recall: 0.9130 - val_loss: 0.2833 - val_accuracy: 0.9778 - val_recall: 0.9778\n",
            "Epoch 108/300\n",
            "15/15 [==============================] - 0s 5ms/step - loss: 0.2949 - accuracy: 0.9526 - recall: 0.9428 - val_loss: 0.2806 - val_accuracy: 0.9556 - val_recall: 0.9556\n",
            "Epoch 109/300\n",
            "15/15 [==============================] - 0s 5ms/step - loss: 0.3225 - accuracy: 0.9510 - recall: 0.9510 - val_loss: 0.2785 - val_accuracy: 0.9556 - val_recall: 0.9556\n",
            "Epoch 110/300\n",
            "15/15 [==============================] - 0s 4ms/step - loss: 0.3181 - accuracy: 0.9718 - recall: 0.9700 - val_loss: 0.2760 - val_accuracy: 0.9556 - val_recall: 0.9556\n",
            "Epoch 111/300\n",
            "15/15 [==============================] - 0s 5ms/step - loss: 0.2965 - accuracy: 0.9424 - recall: 0.9424 - val_loss: 0.2737 - val_accuracy: 0.9778 - val_recall: 0.9556\n",
            "Epoch 112/300\n",
            "15/15 [==============================] - 0s 5ms/step - loss: 0.3495 - accuracy: 0.9590 - recall: 0.9377 - val_loss: 0.2720 - val_accuracy: 0.9778 - val_recall: 0.9556\n",
            "Epoch 113/300\n",
            "15/15 [==============================] - 0s 4ms/step - loss: 0.3184 - accuracy: 0.9760 - recall: 0.9760 - val_loss: 0.2690 - val_accuracy: 0.9556 - val_recall: 0.9556\n",
            "Epoch 114/300\n",
            "15/15 [==============================] - 0s 4ms/step - loss: 0.3068 - accuracy: 0.9661 - recall: 0.9578 - val_loss: 0.2668 - val_accuracy: 0.9556 - val_recall: 0.9556\n",
            "Epoch 115/300\n",
            "15/15 [==============================] - 0s 4ms/step - loss: 0.3235 - accuracy: 0.9757 - recall: 0.9455 - val_loss: 0.2647 - val_accuracy: 0.9556 - val_recall: 0.9556\n",
            "Epoch 116/300\n",
            "15/15 [==============================] - 0s 5ms/step - loss: 0.2917 - accuracy: 0.9804 - recall: 0.9804 - val_loss: 0.2623 - val_accuracy: 0.9556 - val_recall: 0.9556\n",
            "Epoch 117/300\n",
            "15/15 [==============================] - 0s 5ms/step - loss: 0.3056 - accuracy: 0.9892 - recall: 0.9892 - val_loss: 0.2600 - val_accuracy: 0.9556 - val_recall: 0.9556\n",
            "Epoch 118/300\n",
            "15/15 [==============================] - 0s 4ms/step - loss: 0.2842 - accuracy: 0.9707 - recall: 0.9707 - val_loss: 0.2578 - val_accuracy: 0.9556 - val_recall: 0.9556\n",
            "Epoch 119/300\n",
            "15/15 [==============================] - 0s 5ms/step - loss: 0.3130 - accuracy: 0.9800 - recall: 0.9800 - val_loss: 0.2557 - val_accuracy: 0.9556 - val_recall: 0.9556\n",
            "Epoch 120/300\n",
            "15/15 [==============================] - 0s 5ms/step - loss: 0.3212 - accuracy: 0.9741 - recall: 0.9741 - val_loss: 0.2540 - val_accuracy: 0.9778 - val_recall: 0.9556\n",
            "Epoch 121/300\n",
            "15/15 [==============================] - 0s 4ms/step - loss: 0.2610 - accuracy: 0.9840 - recall: 0.9840 - val_loss: 0.2517 - val_accuracy: 0.9778 - val_recall: 0.9556\n",
            "Epoch 122/300\n",
            "15/15 [==============================] - 0s 4ms/step - loss: 0.2943 - accuracy: 0.9816 - recall: 0.9816 - val_loss: 0.2494 - val_accuracy: 0.9556 - val_recall: 0.9556\n",
            "Epoch 123/300\n",
            "15/15 [==============================] - 0s 4ms/step - loss: 0.2979 - accuracy: 0.9489 - recall: 0.9489 - val_loss: 0.2473 - val_accuracy: 0.9556 - val_recall: 0.9556\n",
            "Epoch 124/300\n",
            "15/15 [==============================] - 0s 5ms/step - loss: 0.2944 - accuracy: 0.9554 - recall: 0.9529 - val_loss: 0.2455 - val_accuracy: 0.9556 - val_recall: 0.9556\n",
            "Epoch 125/300\n",
            "15/15 [==============================] - 0s 5ms/step - loss: 0.2930 - accuracy: 0.9373 - recall: 0.9373 - val_loss: 0.2431 - val_accuracy: 0.9556 - val_recall: 0.9556\n",
            "Epoch 126/300\n",
            "15/15 [==============================] - 0s 4ms/step - loss: 0.2581 - accuracy: 0.9713 - recall: 0.9713 - val_loss: 0.2411 - val_accuracy: 0.9556 - val_recall: 0.9556\n",
            "Epoch 127/300\n",
            "15/15 [==============================] - 0s 4ms/step - loss: 0.2737 - accuracy: 0.9647 - recall: 0.9647 - val_loss: 0.2391 - val_accuracy: 0.9556 - val_recall: 0.9556\n",
            "Epoch 128/300\n",
            "15/15 [==============================] - 0s 5ms/step - loss: 0.2689 - accuracy: 0.9817 - recall: 0.9817 - val_loss: 0.2371 - val_accuracy: 0.9556 - val_recall: 0.9556\n",
            "Epoch 129/300\n",
            "15/15 [==============================] - 0s 5ms/step - loss: 0.2718 - accuracy: 0.9937 - recall: 0.9937 - val_loss: 0.2352 - val_accuracy: 0.9556 - val_recall: 0.9556\n",
            "Epoch 130/300\n",
            "15/15 [==============================] - 0s 5ms/step - loss: 0.2537 - accuracy: 0.9680 - recall: 0.9680 - val_loss: 0.2332 - val_accuracy: 0.9556 - val_recall: 0.9556\n",
            "Epoch 131/300\n",
            "15/15 [==============================] - 0s 4ms/step - loss: 0.2677 - accuracy: 0.9865 - recall: 0.9865 - val_loss: 0.2313 - val_accuracy: 0.9778 - val_recall: 0.9556\n",
            "Epoch 132/300\n",
            "15/15 [==============================] - 0s 4ms/step - loss: 0.2384 - accuracy: 0.9890 - recall: 0.9890 - val_loss: 0.2294 - val_accuracy: 0.9778 - val_recall: 0.9778\n",
            "Epoch 133/300\n",
            "15/15 [==============================] - 0s 5ms/step - loss: 0.2695 - accuracy: 0.9369 - recall: 0.9369 - val_loss: 0.2275 - val_accuracy: 0.9778 - val_recall: 0.9778\n",
            "Epoch 134/300\n",
            "15/15 [==============================] - 0s 4ms/step - loss: 0.2671 - accuracy: 0.9843 - recall: 0.9843 - val_loss: 0.2256 - val_accuracy: 0.9556 - val_recall: 0.9556\n",
            "Epoch 135/300\n",
            "15/15 [==============================] - 0s 4ms/step - loss: 0.2618 - accuracy: 0.9677 - recall: 0.9677 - val_loss: 0.2240 - val_accuracy: 0.9556 - val_recall: 0.9556\n",
            "Epoch 136/300\n",
            "15/15 [==============================] - 0s 4ms/step - loss: 0.2216 - accuracy: 0.9843 - recall: 0.9843 - val_loss: 0.2243 - val_accuracy: 0.9778 - val_recall: 0.9778\n",
            "Epoch 137/300\n",
            "15/15 [==============================] - 0s 4ms/step - loss: 0.2642 - accuracy: 0.9550 - recall: 0.9550 - val_loss: 0.2200 - val_accuracy: 0.9778 - val_recall: 0.9556\n",
            "Epoch 138/300\n",
            "15/15 [==============================] - 0s 4ms/step - loss: 0.2536 - accuracy: 0.9651 - recall: 0.9651 - val_loss: 0.2183 - val_accuracy: 0.9556 - val_recall: 0.9556\n",
            "Epoch 139/300\n",
            "15/15 [==============================] - 0s 4ms/step - loss: 0.2765 - accuracy: 0.9711 - recall: 0.9711 - val_loss: 0.2164 - val_accuracy: 0.9778 - val_recall: 0.9778\n",
            "Epoch 140/300\n",
            "15/15 [==============================] - 0s 4ms/step - loss: 0.2699 - accuracy: 0.9519 - recall: 0.9519 - val_loss: 0.2147 - val_accuracy: 0.9778 - val_recall: 0.9778\n",
            "Epoch 141/300\n",
            "15/15 [==============================] - 0s 4ms/step - loss: 0.2827 - accuracy: 0.9472 - recall: 0.9472 - val_loss: 0.2129 - val_accuracy: 0.9778 - val_recall: 0.9778\n",
            "Epoch 142/300\n",
            "15/15 [==============================] - 0s 4ms/step - loss: 0.2428 - accuracy: 0.9686 - recall: 0.9686 - val_loss: 0.2111 - val_accuracy: 0.9778 - val_recall: 0.9778\n",
            "Epoch 143/300\n",
            "15/15 [==============================] - 0s 4ms/step - loss: 0.2687 - accuracy: 0.9515 - recall: 0.9515 - val_loss: 0.2094 - val_accuracy: 0.9778 - val_recall: 0.9778\n",
            "Epoch 144/300\n",
            "15/15 [==============================] - 0s 5ms/step - loss: 0.2291 - accuracy: 0.9824 - recall: 0.9824 - val_loss: 0.2077 - val_accuracy: 0.9778 - val_recall: 0.9778\n",
            "Epoch 145/300\n",
            "15/15 [==============================] - 0s 5ms/step - loss: 0.2468 - accuracy: 0.9890 - recall: 0.9890 - val_loss: 0.2060 - val_accuracy: 0.9778 - val_recall: 0.9778\n",
            "Epoch 146/300\n",
            "15/15 [==============================] - 0s 4ms/step - loss: 0.2377 - accuracy: 0.9830 - recall: 0.9830 - val_loss: 0.2043 - val_accuracy: 0.9778 - val_recall: 0.9778\n",
            "Epoch 147/300\n",
            "15/15 [==============================] - 0s 4ms/step - loss: 0.2509 - accuracy: 0.9647 - recall: 0.9647 - val_loss: 0.2026 - val_accuracy: 0.9778 - val_recall: 0.9778\n",
            "Epoch 148/300\n",
            "15/15 [==============================] - 0s 5ms/step - loss: 0.2618 - accuracy: 0.9645 - recall: 0.9645 - val_loss: 0.2013 - val_accuracy: 0.9556 - val_recall: 0.9556\n",
            "Epoch 149/300\n",
            "15/15 [==============================] - 0s 4ms/step - loss: 0.2230 - accuracy: 0.9958 - recall: 0.9958 - val_loss: 0.1997 - val_accuracy: 0.9778 - val_recall: 0.9778\n",
            "Epoch 150/300\n",
            "15/15 [==============================] - 0s 5ms/step - loss: 0.2157 - accuracy: 0.9842 - recall: 0.9842 - val_loss: 0.1977 - val_accuracy: 0.9778 - val_recall: 0.9778\n",
            "Epoch 151/300\n",
            "15/15 [==============================] - 0s 4ms/step - loss: 0.2326 - accuracy: 0.9699 - recall: 0.9699 - val_loss: 0.1961 - val_accuracy: 0.9778 - val_recall: 0.9778\n",
            "Epoch 152/300\n",
            "15/15 [==============================] - 0s 4ms/step - loss: 0.2239 - accuracy: 0.9843 - recall: 0.9843 - val_loss: 0.1951 - val_accuracy: 0.9778 - val_recall: 0.9778\n",
            "Epoch 153/300\n",
            "15/15 [==============================] - 0s 4ms/step - loss: 0.2033 - accuracy: 0.9792 - recall: 0.9792 - val_loss: 0.1934 - val_accuracy: 0.9778 - val_recall: 0.9778\n",
            "Epoch 154/300\n",
            "15/15 [==============================] - 0s 5ms/step - loss: 0.2216 - accuracy: 0.9689 - recall: 0.9689 - val_loss: 0.1926 - val_accuracy: 0.9778 - val_recall: 0.9778\n",
            "Epoch 155/300\n",
            "15/15 [==============================] - 0s 5ms/step - loss: 0.2875 - accuracy: 0.8994 - recall: 0.8994 - val_loss: 0.1920 - val_accuracy: 0.9778 - val_recall: 0.9778\n",
            "Epoch 156/300\n",
            "15/15 [==============================] - 0s 5ms/step - loss: 0.2357 - accuracy: 0.9689 - recall: 0.9689 - val_loss: 0.1884 - val_accuracy: 0.9778 - val_recall: 0.9778\n",
            "Epoch 157/300\n",
            "15/15 [==============================] - 0s 4ms/step - loss: 0.2328 - accuracy: 0.9786 - recall: 0.9786 - val_loss: 0.1872 - val_accuracy: 0.9778 - val_recall: 0.9778\n",
            "Epoch 158/300\n",
            "15/15 [==============================] - 0s 5ms/step - loss: 0.2300 - accuracy: 0.9759 - recall: 0.9759 - val_loss: 0.1855 - val_accuracy: 0.9778 - val_recall: 0.9778\n",
            "Epoch 159/300\n",
            "15/15 [==============================] - 0s 5ms/step - loss: 0.2171 - accuracy: 0.9587 - recall: 0.9587 - val_loss: 0.1840 - val_accuracy: 0.9778 - val_recall: 0.9778\n",
            "Epoch 160/300\n",
            "15/15 [==============================] - 0s 4ms/step - loss: 0.2077 - accuracy: 0.9790 - recall: 0.9790 - val_loss: 0.1826 - val_accuracy: 0.9778 - val_recall: 0.9778\n",
            "Epoch 161/300\n",
            "15/15 [==============================] - 0s 4ms/step - loss: 0.2533 - accuracy: 0.9497 - recall: 0.9497 - val_loss: 0.1816 - val_accuracy: 0.9778 - val_recall: 0.9778\n",
            "Epoch 162/300\n",
            "15/15 [==============================] - 0s 4ms/step - loss: 0.2096 - accuracy: 0.9696 - recall: 0.9696 - val_loss: 0.1800 - val_accuracy: 0.9778 - val_recall: 0.9778\n",
            "Epoch 163/300\n",
            "15/15 [==============================] - 0s 5ms/step - loss: 0.2451 - accuracy: 0.9524 - recall: 0.9524 - val_loss: 0.1786 - val_accuracy: 0.9778 - val_recall: 0.9778\n",
            "Epoch 164/300\n",
            "15/15 [==============================] - 0s 5ms/step - loss: 0.1923 - accuracy: 0.9771 - recall: 0.9771 - val_loss: 0.1769 - val_accuracy: 0.9778 - val_recall: 0.9778\n",
            "Epoch 165/300\n",
            "15/15 [==============================] - 0s 4ms/step - loss: 0.2126 - accuracy: 0.9470 - recall: 0.9470 - val_loss: 0.1760 - val_accuracy: 0.9778 - val_recall: 0.9778\n",
            "Epoch 166/300\n",
            "15/15 [==============================] - 0s 5ms/step - loss: 0.1881 - accuracy: 0.9873 - recall: 0.9873 - val_loss: 0.1754 - val_accuracy: 0.9778 - val_recall: 0.9778\n",
            "Epoch 167/300\n",
            "15/15 [==============================] - 0s 4ms/step - loss: 0.2045 - accuracy: 0.9757 - recall: 0.9757 - val_loss: 0.1729 - val_accuracy: 0.9778 - val_recall: 0.9778\n",
            "Epoch 168/300\n",
            "15/15 [==============================] - 0s 5ms/step - loss: 0.1839 - accuracy: 0.9839 - recall: 0.9839 - val_loss: 0.1714 - val_accuracy: 0.9778 - val_recall: 0.9778\n",
            "Epoch 169/300\n",
            "15/15 [==============================] - 0s 6ms/step - loss: 0.2057 - accuracy: 0.9542 - recall: 0.9542 - val_loss: 0.1709 - val_accuracy: 0.9778 - val_recall: 0.9778\n",
            "Epoch 170/300\n",
            "15/15 [==============================] - 0s 5ms/step - loss: 0.1965 - accuracy: 0.9741 - recall: 0.9741 - val_loss: 0.1694 - val_accuracy: 0.9778 - val_recall: 0.9778\n",
            "Epoch 171/300\n",
            "15/15 [==============================] - 0s 5ms/step - loss: 0.2262 - accuracy: 0.9824 - recall: 0.9824 - val_loss: 0.1677 - val_accuracy: 0.9778 - val_recall: 0.9778\n",
            "Epoch 172/300\n",
            "15/15 [==============================] - 0s 5ms/step - loss: 0.2113 - accuracy: 0.9733 - recall: 0.9733 - val_loss: 0.1662 - val_accuracy: 0.9778 - val_recall: 0.9778\n",
            "Epoch 173/300\n",
            "15/15 [==============================] - 0s 5ms/step - loss: 0.2057 - accuracy: 0.9777 - recall: 0.9777 - val_loss: 0.1677 - val_accuracy: 0.9778 - val_recall: 0.9778\n",
            "Epoch 174/300\n",
            "15/15 [==============================] - 0s 5ms/step - loss: 0.2081 - accuracy: 0.9704 - recall: 0.9704 - val_loss: 0.1638 - val_accuracy: 0.9778 - val_recall: 0.9778\n",
            "Epoch 175/300\n",
            "15/15 [==============================] - 0s 5ms/step - loss: 0.2047 - accuracy: 0.9665 - recall: 0.9665 - val_loss: 0.1625 - val_accuracy: 0.9778 - val_recall: 0.9778\n",
            "Epoch 176/300\n",
            "15/15 [==============================] - 0s 5ms/step - loss: 0.2201 - accuracy: 0.9622 - recall: 0.9622 - val_loss: 0.1620 - val_accuracy: 0.9778 - val_recall: 0.9778\n",
            "Epoch 177/300\n",
            "15/15 [==============================] - 0s 5ms/step - loss: 0.2102 - accuracy: 0.9556 - recall: 0.9556 - val_loss: 0.1602 - val_accuracy: 0.9778 - val_recall: 0.9778\n",
            "Epoch 178/300\n",
            "15/15 [==============================] - 0s 6ms/step - loss: 0.1876 - accuracy: 0.9727 - recall: 0.9727 - val_loss: 0.1590 - val_accuracy: 0.9778 - val_recall: 0.9778\n",
            "Epoch 179/300\n",
            "15/15 [==============================] - 0s 5ms/step - loss: 0.1760 - accuracy: 0.9766 - recall: 0.9766 - val_loss: 0.1587 - val_accuracy: 0.9778 - val_recall: 0.9778\n",
            "Epoch 180/300\n",
            "15/15 [==============================] - 0s 5ms/step - loss: 0.1953 - accuracy: 0.9875 - recall: 0.9875 - val_loss: 0.1565 - val_accuracy: 0.9778 - val_recall: 0.9778\n",
            "Epoch 181/300\n",
            "15/15 [==============================] - 0s 4ms/step - loss: 0.1928 - accuracy: 0.9759 - recall: 0.9759 - val_loss: 0.1554 - val_accuracy: 0.9778 - val_recall: 0.9778\n",
            "Epoch 182/300\n",
            "15/15 [==============================] - 0s 5ms/step - loss: 0.1945 - accuracy: 0.9802 - recall: 0.9802 - val_loss: 0.1543 - val_accuracy: 0.9778 - val_recall: 0.9778\n",
            "Epoch 183/300\n",
            "15/15 [==============================] - 0s 6ms/step - loss: 0.1967 - accuracy: 0.9553 - recall: 0.9553 - val_loss: 0.1533 - val_accuracy: 0.9778 - val_recall: 0.9778\n",
            "Epoch 184/300\n",
            "15/15 [==============================] - 0s 5ms/step - loss: 0.1886 - accuracy: 0.9606 - recall: 0.9606 - val_loss: 0.1527 - val_accuracy: 0.9778 - val_recall: 0.9778\n",
            "Epoch 185/300\n",
            "15/15 [==============================] - 0s 4ms/step - loss: 0.1925 - accuracy: 0.9592 - recall: 0.9592 - val_loss: 0.1530 - val_accuracy: 0.9778 - val_recall: 0.9778\n",
            "Epoch 186/300\n",
            "15/15 [==============================] - 0s 4ms/step - loss: 0.1972 - accuracy: 0.9600 - recall: 0.9600 - val_loss: 0.1499 - val_accuracy: 0.9778 - val_recall: 0.9778\n",
            "Epoch 187/300\n",
            "15/15 [==============================] - 0s 4ms/step - loss: 0.1902 - accuracy: 0.9693 - recall: 0.9693 - val_loss: 0.1487 - val_accuracy: 0.9778 - val_recall: 0.9778\n",
            "Epoch 188/300\n",
            "15/15 [==============================] - 0s 5ms/step - loss: 0.1939 - accuracy: 0.9765 - recall: 0.9765 - val_loss: 0.1481 - val_accuracy: 0.9778 - val_recall: 0.9778\n",
            "Epoch 189/300\n",
            "15/15 [==============================] - 0s 5ms/step - loss: 0.1867 - accuracy: 0.9753 - recall: 0.9682 - val_loss: 0.1471 - val_accuracy: 0.9778 - val_recall: 0.9778\n",
            "Epoch 190/300\n",
            "15/15 [==============================] - 0s 5ms/step - loss: 0.1976 - accuracy: 0.9547 - recall: 0.9547 - val_loss: 0.1472 - val_accuracy: 0.9778 - val_recall: 0.9778\n",
            "Epoch 191/300\n",
            "15/15 [==============================] - 0s 5ms/step - loss: 0.1928 - accuracy: 0.9581 - recall: 0.9581 - val_loss: 0.1445 - val_accuracy: 0.9778 - val_recall: 0.9778\n",
            "Epoch 192/300\n",
            "15/15 [==============================] - 0s 5ms/step - loss: 0.1966 - accuracy: 0.9604 - recall: 0.9604 - val_loss: 0.1438 - val_accuracy: 0.9778 - val_recall: 0.9778\n",
            "Epoch 193/300\n",
            "15/15 [==============================] - 0s 5ms/step - loss: 0.1954 - accuracy: 0.9809 - recall: 0.9809 - val_loss: 0.1432 - val_accuracy: 0.9778 - val_recall: 0.9778\n",
            "Epoch 194/300\n",
            "15/15 [==============================] - 0s 5ms/step - loss: 0.2079 - accuracy: 0.9565 - recall: 0.9565 - val_loss: 0.1414 - val_accuracy: 0.9778 - val_recall: 0.9778\n",
            "Epoch 195/300\n",
            "15/15 [==============================] - 0s 4ms/step - loss: 0.1848 - accuracy: 0.9360 - recall: 0.9360 - val_loss: 0.1404 - val_accuracy: 0.9778 - val_recall: 0.9778\n",
            "Epoch 196/300\n",
            "15/15 [==============================] - 0s 5ms/step - loss: 0.1699 - accuracy: 0.9745 - recall: 0.9745 - val_loss: 0.1396 - val_accuracy: 0.9778 - val_recall: 0.9778\n",
            "Epoch 197/300\n",
            "15/15 [==============================] - 0s 4ms/step - loss: 0.1615 - accuracy: 0.9839 - recall: 0.9839 - val_loss: 0.1388 - val_accuracy: 0.9778 - val_recall: 0.9778\n",
            "Epoch 198/300\n",
            "15/15 [==============================] - 0s 5ms/step - loss: 0.1777 - accuracy: 0.9600 - recall: 0.9600 - val_loss: 0.1375 - val_accuracy: 0.9778 - val_recall: 0.9778\n",
            "Epoch 199/300\n",
            "15/15 [==============================] - 0s 6ms/step - loss: 0.1694 - accuracy: 0.9759 - recall: 0.9759 - val_loss: 0.1367 - val_accuracy: 0.9778 - val_recall: 0.9778\n",
            "Epoch 200/300\n",
            "15/15 [==============================] - 0s 5ms/step - loss: 0.1474 - accuracy: 0.9663 - recall: 0.9663 - val_loss: 0.1357 - val_accuracy: 0.9778 - val_recall: 0.9778\n",
            "Epoch 201/300\n",
            "15/15 [==============================] - 0s 5ms/step - loss: 0.1517 - accuracy: 0.9786 - recall: 0.9786 - val_loss: 0.1359 - val_accuracy: 0.9778 - val_recall: 0.9778\n",
            "Epoch 202/300\n",
            "15/15 [==============================] - 0s 4ms/step - loss: 0.1715 - accuracy: 0.9616 - recall: 0.9616 - val_loss: 0.1344 - val_accuracy: 0.9778 - val_recall: 0.9778\n",
            "Epoch 203/300\n",
            "15/15 [==============================] - 0s 5ms/step - loss: 0.1875 - accuracy: 0.9885 - recall: 0.9885 - val_loss: 0.1328 - val_accuracy: 0.9778 - val_recall: 0.9778\n",
            "Epoch 204/300\n",
            "15/15 [==============================] - 0s 4ms/step - loss: 0.1659 - accuracy: 0.9578 - recall: 0.9578 - val_loss: 0.1328 - val_accuracy: 0.9778 - val_recall: 0.9778\n",
            "Epoch 205/300\n",
            "15/15 [==============================] - 0s 4ms/step - loss: 0.1563 - accuracy: 0.9828 - recall: 0.9828 - val_loss: 0.1311 - val_accuracy: 0.9778 - val_recall: 0.9778\n",
            "Epoch 206/300\n",
            "15/15 [==============================] - 0s 4ms/step - loss: 0.1633 - accuracy: 0.9567 - recall: 0.9567 - val_loss: 0.1318 - val_accuracy: 0.9778 - val_recall: 0.9778\n",
            "Epoch 207/300\n",
            "15/15 [==============================] - 0s 4ms/step - loss: 0.1457 - accuracy: 0.9697 - recall: 0.9697 - val_loss: 0.1294 - val_accuracy: 0.9778 - val_recall: 0.9778\n",
            "Epoch 208/300\n",
            "15/15 [==============================] - 0s 5ms/step - loss: 0.1758 - accuracy: 0.9436 - recall: 0.9436 - val_loss: 0.1288 - val_accuracy: 0.9778 - val_recall: 0.9778\n",
            "Epoch 209/300\n",
            "15/15 [==============================] - 0s 5ms/step - loss: 0.1636 - accuracy: 0.9534 - recall: 0.9534 - val_loss: 0.1277 - val_accuracy: 0.9778 - val_recall: 0.9778\n",
            "Epoch 210/300\n",
            "15/15 [==============================] - 0s 4ms/step - loss: 0.2052 - accuracy: 0.9435 - recall: 0.9435 - val_loss: 0.1286 - val_accuracy: 0.9778 - val_recall: 0.9778\n",
            "Epoch 211/300\n",
            "15/15 [==============================] - 0s 4ms/step - loss: 0.1598 - accuracy: 0.9760 - recall: 0.9760 - val_loss: 0.1259 - val_accuracy: 0.9778 - val_recall: 0.9778\n",
            "Epoch 212/300\n",
            "15/15 [==============================] - 0s 5ms/step - loss: 0.1548 - accuracy: 0.9865 - recall: 0.9865 - val_loss: 0.1253 - val_accuracy: 0.9778 - val_recall: 0.9778\n",
            "Epoch 213/300\n",
            "15/15 [==============================] - 0s 4ms/step - loss: 0.1626 - accuracy: 0.9891 - recall: 0.9891 - val_loss: 0.1245 - val_accuracy: 0.9778 - val_recall: 0.9778\n",
            "Epoch 214/300\n",
            "15/15 [==============================] - 0s 4ms/step - loss: 0.1577 - accuracy: 0.9873 - recall: 0.9873 - val_loss: 0.1250 - val_accuracy: 0.9778 - val_recall: 0.9778\n",
            "Epoch 215/300\n",
            "15/15 [==============================] - 0s 4ms/step - loss: 0.1883 - accuracy: 0.9502 - recall: 0.9502 - val_loss: 0.1226 - val_accuracy: 0.9778 - val_recall: 0.9778\n",
            "Epoch 216/300\n",
            "15/15 [==============================] - 0s 5ms/step - loss: 0.1565 - accuracy: 0.9849 - recall: 0.9849 - val_loss: 0.1244 - val_accuracy: 0.9778 - val_recall: 0.9778\n",
            "Epoch 217/300\n",
            "15/15 [==============================] - 0s 5ms/step - loss: 0.1642 - accuracy: 0.9851 - recall: 0.9851 - val_loss: 0.1214 - val_accuracy: 0.9778 - val_recall: 0.9778\n",
            "Epoch 218/300\n",
            "15/15 [==============================] - 0s 5ms/step - loss: 0.1665 - accuracy: 0.9544 - recall: 0.9544 - val_loss: 0.1204 - val_accuracy: 0.9778 - val_recall: 0.9778\n",
            "Epoch 219/300\n",
            "15/15 [==============================] - 0s 5ms/step - loss: 0.1469 - accuracy: 0.9799 - recall: 0.9799 - val_loss: 0.1197 - val_accuracy: 0.9778 - val_recall: 0.9778\n",
            "Epoch 220/300\n",
            "15/15 [==============================] - 0s 5ms/step - loss: 0.1883 - accuracy: 0.9494 - recall: 0.9494 - val_loss: 0.1223 - val_accuracy: 0.9778 - val_recall: 0.9778\n",
            "Epoch 221/300\n",
            "15/15 [==============================] - 0s 5ms/step - loss: 0.1775 - accuracy: 0.9369 - recall: 0.9369 - val_loss: 0.1185 - val_accuracy: 0.9778 - val_recall: 0.9778\n",
            "Epoch 222/300\n",
            "15/15 [==============================] - 0s 5ms/step - loss: 0.1578 - accuracy: 0.9504 - recall: 0.9504 - val_loss: 0.1173 - val_accuracy: 0.9778 - val_recall: 0.9778\n",
            "Epoch 223/300\n",
            "15/15 [==============================] - 0s 5ms/step - loss: 0.1555 - accuracy: 0.9792 - recall: 0.9792 - val_loss: 0.1169 - val_accuracy: 0.9778 - val_recall: 0.9778\n",
            "Epoch 224/300\n",
            "15/15 [==============================] - 0s 5ms/step - loss: 0.1608 - accuracy: 0.9816 - recall: 0.9816 - val_loss: 0.1175 - val_accuracy: 0.9778 - val_recall: 0.9778\n",
            "Epoch 225/300\n",
            "15/15 [==============================] - 0s 4ms/step - loss: 0.1566 - accuracy: 0.9708 - recall: 0.9708 - val_loss: 0.1151 - val_accuracy: 0.9778 - val_recall: 0.9778\n",
            "Epoch 226/300\n",
            "15/15 [==============================] - 0s 5ms/step - loss: 0.1198 - accuracy: 0.9869 - recall: 0.9869 - val_loss: 0.1150 - val_accuracy: 0.9778 - val_recall: 0.9778\n",
            "Epoch 227/300\n",
            "15/15 [==============================] - 0s 4ms/step - loss: 0.1482 - accuracy: 0.9743 - recall: 0.9743 - val_loss: 0.1150 - val_accuracy: 0.9778 - val_recall: 0.9778\n",
            "Epoch 228/300\n",
            "15/15 [==============================] - 0s 4ms/step - loss: 0.1386 - accuracy: 0.9816 - recall: 0.9816 - val_loss: 0.1144 - val_accuracy: 0.9778 - val_recall: 0.9778\n",
            "Epoch 229/300\n",
            "15/15 [==============================] - 0s 5ms/step - loss: 0.1460 - accuracy: 0.9681 - recall: 0.9681 - val_loss: 0.1126 - val_accuracy: 0.9778 - val_recall: 0.9778\n",
            "Epoch 230/300\n",
            "15/15 [==============================] - 0s 5ms/step - loss: 0.1399 - accuracy: 0.9841 - recall: 0.9841 - val_loss: 0.1122 - val_accuracy: 0.9778 - val_recall: 0.9778\n",
            "Epoch 231/300\n",
            "15/15 [==============================] - 0s 5ms/step - loss: 0.1413 - accuracy: 0.9578 - recall: 0.9578 - val_loss: 0.1118 - val_accuracy: 0.9778 - val_recall: 0.9778\n",
            "Epoch 232/300\n",
            "15/15 [==============================] - 0s 4ms/step - loss: 0.1474 - accuracy: 0.9584 - recall: 0.9584 - val_loss: 0.1107 - val_accuracy: 0.9778 - val_recall: 0.9778\n",
            "Epoch 233/300\n",
            "15/15 [==============================] - 0s 5ms/step - loss: 0.1416 - accuracy: 0.9745 - recall: 0.9745 - val_loss: 0.1097 - val_accuracy: 0.9778 - val_recall: 0.9778\n",
            "Epoch 234/300\n",
            "15/15 [==============================] - 0s 5ms/step - loss: 0.1273 - accuracy: 0.9757 - recall: 0.9757 - val_loss: 0.1115 - val_accuracy: 0.9778 - val_recall: 0.9778\n",
            "Epoch 235/300\n",
            "15/15 [==============================] - 0s 4ms/step - loss: 0.1668 - accuracy: 0.9623 - recall: 0.9623 - val_loss: 0.1092 - val_accuracy: 0.9778 - val_recall: 0.9778\n",
            "Epoch 236/300\n",
            "15/15 [==============================] - 0s 4ms/step - loss: 0.1587 - accuracy: 0.9716 - recall: 0.9716 - val_loss: 0.1078 - val_accuracy: 0.9778 - val_recall: 0.9778\n",
            "Epoch 237/300\n",
            "15/15 [==============================] - 0s 4ms/step - loss: 0.1733 - accuracy: 0.9331 - recall: 0.9331 - val_loss: 0.1074 - val_accuracy: 0.9778 - val_recall: 0.9778\n",
            "Epoch 238/300\n",
            "15/15 [==============================] - 0s 4ms/step - loss: 0.1733 - accuracy: 0.9464 - recall: 0.9464 - val_loss: 0.1074 - val_accuracy: 0.9778 - val_recall: 0.9778\n",
            "Epoch 239/300\n",
            "15/15 [==============================] - 0s 5ms/step - loss: 0.1756 - accuracy: 0.9607 - recall: 0.9607 - val_loss: 0.1080 - val_accuracy: 0.9778 - val_recall: 0.9778\n",
            "Epoch 240/300\n",
            "15/15 [==============================] - 0s 5ms/step - loss: 0.1204 - accuracy: 0.9929 - recall: 0.9929 - val_loss: 0.1054 - val_accuracy: 0.9778 - val_recall: 0.9778\n",
            "Epoch 241/300\n",
            "15/15 [==============================] - 0s 4ms/step - loss: 0.1330 - accuracy: 0.9739 - recall: 0.9739 - val_loss: 0.1047 - val_accuracy: 0.9778 - val_recall: 0.9778\n",
            "Epoch 242/300\n",
            "15/15 [==============================] - 0s 4ms/step - loss: 0.1378 - accuracy: 0.9760 - recall: 0.9760 - val_loss: 0.1075 - val_accuracy: 0.9778 - val_recall: 0.9778\n",
            "Epoch 243/300\n",
            "15/15 [==============================] - 0s 5ms/step - loss: 0.1634 - accuracy: 0.9763 - recall: 0.9763 - val_loss: 0.1040 - val_accuracy: 0.9778 - val_recall: 0.9778\n",
            "Epoch 244/300\n",
            "15/15 [==============================] - 0s 5ms/step - loss: 0.1740 - accuracy: 0.9574 - recall: 0.9574 - val_loss: 0.1032 - val_accuracy: 0.9778 - val_recall: 0.9778\n",
            "Epoch 245/300\n",
            "15/15 [==============================] - 0s 4ms/step - loss: 0.1472 - accuracy: 0.9595 - recall: 0.9595 - val_loss: 0.1039 - val_accuracy: 0.9778 - val_recall: 0.9778\n",
            "Epoch 246/300\n",
            "15/15 [==============================] - 0s 5ms/step - loss: 0.1518 - accuracy: 0.9548 - recall: 0.9548 - val_loss: 0.1019 - val_accuracy: 0.9778 - val_recall: 0.9778\n",
            "Epoch 247/300\n",
            "15/15 [==============================] - 0s 5ms/step - loss: 0.1428 - accuracy: 0.9541 - recall: 0.9541 - val_loss: 0.1015 - val_accuracy: 0.9778 - val_recall: 0.9778\n",
            "Epoch 248/300\n",
            "15/15 [==============================] - 0s 5ms/step - loss: 0.1394 - accuracy: 0.9675 - recall: 0.9675 - val_loss: 0.1020 - val_accuracy: 0.9778 - val_recall: 0.9778\n",
            "Epoch 249/300\n",
            "15/15 [==============================] - 0s 4ms/step - loss: 0.1365 - accuracy: 0.9633 - recall: 0.9633 - val_loss: 0.1009 - val_accuracy: 0.9778 - val_recall: 0.9778\n",
            "Epoch 250/300\n",
            "15/15 [==============================] - 0s 6ms/step - loss: 0.1453 - accuracy: 0.9706 - recall: 0.9706 - val_loss: 0.0998 - val_accuracy: 0.9778 - val_recall: 0.9778\n",
            "Epoch 251/300\n",
            "15/15 [==============================] - 0s 5ms/step - loss: 0.1090 - accuracy: 0.9913 - recall: 0.9913 - val_loss: 0.0994 - val_accuracy: 0.9778 - val_recall: 0.9778\n",
            "Epoch 252/300\n",
            "15/15 [==============================] - 0s 5ms/step - loss: 0.1197 - accuracy: 0.9484 - recall: 0.9484 - val_loss: 0.0988 - val_accuracy: 0.9778 - val_recall: 0.9778\n",
            "Epoch 253/300\n",
            "15/15 [==============================] - 0s 5ms/step - loss: 0.1316 - accuracy: 0.9729 - recall: 0.9729 - val_loss: 0.1005 - val_accuracy: 0.9778 - val_recall: 0.9778\n",
            "Epoch 254/300\n",
            "15/15 [==============================] - 0s 4ms/step - loss: 0.1277 - accuracy: 0.9751 - recall: 0.9751 - val_loss: 0.1003 - val_accuracy: 0.9778 - val_recall: 0.9778\n",
            "Epoch 255/300\n",
            "15/15 [==============================] - 0s 5ms/step - loss: 0.1123 - accuracy: 0.9643 - recall: 0.9643 - val_loss: 0.0970 - val_accuracy: 0.9778 - val_recall: 0.9778\n",
            "Epoch 256/300\n",
            "15/15 [==============================] - 0s 5ms/step - loss: 0.1623 - accuracy: 0.9376 - recall: 0.9376 - val_loss: 0.0976 - val_accuracy: 0.9778 - val_recall: 0.9778\n",
            "Epoch 257/300\n",
            "15/15 [==============================] - 0s 6ms/step - loss: 0.1566 - accuracy: 0.9640 - recall: 0.9640 - val_loss: 0.0971 - val_accuracy: 0.9778 - val_recall: 0.9778\n",
            "Epoch 258/300\n",
            "15/15 [==============================] - 0s 5ms/step - loss: 0.1361 - accuracy: 0.9690 - recall: 0.9690 - val_loss: 0.0969 - val_accuracy: 0.9778 - val_recall: 0.9778\n",
            "Epoch 259/300\n",
            "15/15 [==============================] - 0s 5ms/step - loss: 0.1343 - accuracy: 0.9790 - recall: 0.9790 - val_loss: 0.0957 - val_accuracy: 0.9778 - val_recall: 0.9778\n",
            "Epoch 260/300\n",
            "15/15 [==============================] - 0s 4ms/step - loss: 0.1474 - accuracy: 0.9549 - recall: 0.9549 - val_loss: 0.0955 - val_accuracy: 0.9778 - val_recall: 0.9778\n",
            "Epoch 261/300\n",
            "15/15 [==============================] - 0s 5ms/step - loss: 0.1389 - accuracy: 0.9723 - recall: 0.9723 - val_loss: 0.0947 - val_accuracy: 0.9778 - val_recall: 0.9778\n",
            "Epoch 262/300\n",
            "15/15 [==============================] - 0s 4ms/step - loss: 0.1479 - accuracy: 0.9618 - recall: 0.9618 - val_loss: 0.0948 - val_accuracy: 0.9778 - val_recall: 0.9778\n",
            "Epoch 263/300\n",
            "15/15 [==============================] - 0s 4ms/step - loss: 0.1065 - accuracy: 0.9808 - recall: 0.9808 - val_loss: 0.0932 - val_accuracy: 0.9778 - val_recall: 0.9778\n",
            "Epoch 264/300\n",
            "15/15 [==============================] - 0s 5ms/step - loss: 0.1094 - accuracy: 0.9846 - recall: 0.9846 - val_loss: 0.0928 - val_accuracy: 0.9778 - val_recall: 0.9778\n",
            "Epoch 265/300\n",
            "15/15 [==============================] - 0s 5ms/step - loss: 0.1194 - accuracy: 0.9653 - recall: 0.9653 - val_loss: 0.0938 - val_accuracy: 0.9778 - val_recall: 0.9778\n",
            "Epoch 266/300\n",
            "15/15 [==============================] - 0s 5ms/step - loss: 0.1315 - accuracy: 0.9565 - recall: 0.9565 - val_loss: 0.0938 - val_accuracy: 0.9778 - val_recall: 0.9778\n",
            "Epoch 267/300\n",
            "15/15 [==============================] - 0s 5ms/step - loss: 0.1176 - accuracy: 0.9824 - recall: 0.9824 - val_loss: 0.0917 - val_accuracy: 0.9778 - val_recall: 0.9778\n",
            "Epoch 268/300\n",
            "15/15 [==============================] - 0s 5ms/step - loss: 0.1308 - accuracy: 0.9903 - recall: 0.9903 - val_loss: 0.0908 - val_accuracy: 0.9778 - val_recall: 0.9778\n",
            "Epoch 269/300\n",
            "15/15 [==============================] - 0s 5ms/step - loss: 0.1323 - accuracy: 0.9748 - recall: 0.9748 - val_loss: 0.0903 - val_accuracy: 0.9778 - val_recall: 0.9778\n",
            "Epoch 270/300\n",
            "15/15 [==============================] - 0s 5ms/step - loss: 0.1263 - accuracy: 0.9689 - recall: 0.9689 - val_loss: 0.0918 - val_accuracy: 0.9778 - val_recall: 0.9778\n",
            "Epoch 271/300\n",
            "15/15 [==============================] - 0s 5ms/step - loss: 0.1065 - accuracy: 0.9858 - recall: 0.9858 - val_loss: 0.0902 - val_accuracy: 0.9778 - val_recall: 0.9778\n",
            "Epoch 272/300\n",
            "15/15 [==============================] - 0s 5ms/step - loss: 0.1229 - accuracy: 0.9788 - recall: 0.9788 - val_loss: 0.0891 - val_accuracy: 0.9778 - val_recall: 0.9778\n",
            "Epoch 273/300\n",
            "15/15 [==============================] - 0s 5ms/step - loss: 0.1174 - accuracy: 0.9833 - recall: 0.9833 - val_loss: 0.0901 - val_accuracy: 0.9778 - val_recall: 0.9778\n",
            "Epoch 274/300\n",
            "15/15 [==============================] - 0s 4ms/step - loss: 0.1005 - accuracy: 0.9910 - recall: 0.9910 - val_loss: 0.0885 - val_accuracy: 0.9778 - val_recall: 0.9778\n",
            "Epoch 275/300\n",
            "15/15 [==============================] - 0s 4ms/step - loss: 0.1225 - accuracy: 0.9693 - recall: 0.9693 - val_loss: 0.0891 - val_accuracy: 0.9778 - val_recall: 0.9778\n",
            "Epoch 276/300\n",
            "15/15 [==============================] - 0s 5ms/step - loss: 0.1224 - accuracy: 0.9798 - recall: 0.9798 - val_loss: 0.0906 - val_accuracy: 0.9778 - val_recall: 0.9778\n",
            "Epoch 277/300\n",
            "15/15 [==============================] - 0s 6ms/step - loss: 0.1079 - accuracy: 0.9763 - recall: 0.9763 - val_loss: 0.0868 - val_accuracy: 0.9778 - val_recall: 0.9778\n",
            "Epoch 278/300\n",
            "15/15 [==============================] - 0s 5ms/step - loss: 0.1289 - accuracy: 0.9799 - recall: 0.9799 - val_loss: 0.0873 - val_accuracy: 0.9778 - val_recall: 0.9778\n",
            "Epoch 279/300\n",
            "15/15 [==============================] - 0s 5ms/step - loss: 0.1297 - accuracy: 0.9644 - recall: 0.9644 - val_loss: 0.0899 - val_accuracy: 0.9778 - val_recall: 0.9778\n",
            "Epoch 280/300\n",
            "15/15 [==============================] - 0s 4ms/step - loss: 0.1339 - accuracy: 0.9883 - recall: 0.9883 - val_loss: 0.0855 - val_accuracy: 0.9778 - val_recall: 0.9778\n",
            "Epoch 281/300\n",
            "15/15 [==============================] - 0s 5ms/step - loss: 0.1372 - accuracy: 0.9555 - recall: 0.9555 - val_loss: 0.0859 - val_accuracy: 0.9778 - val_recall: 0.9778\n",
            "Epoch 282/300\n",
            "15/15 [==============================] - 0s 4ms/step - loss: 0.1243 - accuracy: 0.9745 - recall: 0.9745 - val_loss: 0.0855 - val_accuracy: 0.9778 - val_recall: 0.9778\n",
            "Epoch 283/300\n",
            "15/15 [==============================] - 0s 5ms/step - loss: 0.1220 - accuracy: 0.9629 - recall: 0.9629 - val_loss: 0.0842 - val_accuracy: 0.9778 - val_recall: 0.9778\n",
            "Epoch 284/300\n",
            "15/15 [==============================] - 0s 5ms/step - loss: 0.1447 - accuracy: 0.9455 - recall: 0.9455 - val_loss: 0.0908 - val_accuracy: 0.9778 - val_recall: 0.9778\n",
            "Epoch 285/300\n",
            "15/15 [==============================] - 0s 5ms/step - loss: 0.1242 - accuracy: 0.9732 - recall: 0.9732 - val_loss: 0.0837 - val_accuracy: 0.9778 - val_recall: 0.9778\n",
            "Epoch 286/300\n",
            "15/15 [==============================] - 0s 4ms/step - loss: 0.1004 - accuracy: 0.9758 - recall: 0.9758 - val_loss: 0.0832 - val_accuracy: 0.9778 - val_recall: 0.9778\n",
            "Epoch 287/300\n",
            "15/15 [==============================] - 0s 4ms/step - loss: 0.1321 - accuracy: 0.9596 - recall: 0.9596 - val_loss: 0.0879 - val_accuracy: 0.9778 - val_recall: 0.9778\n",
            "Epoch 288/300\n",
            "15/15 [==============================] - 0s 5ms/step - loss: 0.1258 - accuracy: 0.9879 - recall: 0.9879 - val_loss: 0.0823 - val_accuracy: 0.9778 - val_recall: 0.9778\n",
            "Epoch 289/300\n",
            "15/15 [==============================] - 0s 4ms/step - loss: 0.1439 - accuracy: 0.9434 - recall: 0.9434 - val_loss: 0.0831 - val_accuracy: 0.9778 - val_recall: 0.9778\n",
            "Epoch 290/300\n",
            "15/15 [==============================] - 0s 5ms/step - loss: 0.1197 - accuracy: 0.9881 - recall: 0.9881 - val_loss: 0.0841 - val_accuracy: 0.9778 - val_recall: 0.9778\n",
            "Epoch 291/300\n",
            "15/15 [==============================] - 0s 4ms/step - loss: 0.0975 - accuracy: 0.9742 - recall: 0.9742 - val_loss: 0.0824 - val_accuracy: 0.9778 - val_recall: 0.9778\n",
            "Epoch 292/300\n",
            "15/15 [==============================] - 0s 4ms/step - loss: 0.1270 - accuracy: 0.9693 - recall: 0.9693 - val_loss: 0.0822 - val_accuracy: 0.9778 - val_recall: 0.9778\n",
            "Epoch 293/300\n",
            "15/15 [==============================] - 0s 4ms/step - loss: 0.1192 - accuracy: 0.9646 - recall: 0.9646 - val_loss: 0.0808 - val_accuracy: 0.9778 - val_recall: 0.9778\n",
            "Epoch 294/300\n",
            "15/15 [==============================] - 0s 5ms/step - loss: 0.1206 - accuracy: 0.9763 - recall: 0.9763 - val_loss: 0.0810 - val_accuracy: 0.9778 - val_recall: 0.9778\n",
            "Epoch 295/300\n",
            "15/15 [==============================] - 0s 4ms/step - loss: 0.1040 - accuracy: 0.9811 - recall: 0.9811 - val_loss: 0.0809 - val_accuracy: 0.9778 - val_recall: 0.9778\n",
            "Epoch 296/300\n",
            "15/15 [==============================] - 0s 5ms/step - loss: 0.1095 - accuracy: 0.9747 - recall: 0.9747 - val_loss: 0.0846 - val_accuracy: 0.9778 - val_recall: 0.9778\n",
            "Epoch 297/300\n",
            "15/15 [==============================] - 0s 4ms/step - loss: 0.1470 - accuracy: 0.9553 - recall: 0.9553 - val_loss: 0.0791 - val_accuracy: 0.9778 - val_recall: 0.9778\n",
            "Epoch 298/300\n",
            "15/15 [==============================] - 0s 5ms/step - loss: 0.1057 - accuracy: 0.9749 - recall: 0.9749 - val_loss: 0.0803 - val_accuracy: 0.9778 - val_recall: 0.9778\n",
            "Epoch 299/300\n",
            "15/15 [==============================] - 0s 5ms/step - loss: 0.1385 - accuracy: 0.9636 - recall: 0.9636 - val_loss: 0.0806 - val_accuracy: 0.9778 - val_recall: 0.9778\n",
            "Epoch 300/300\n",
            "15/15 [==============================] - 0s 5ms/step - loss: 0.1380 - accuracy: 0.9549 - recall: 0.9549 - val_loss: 0.0790 - val_accuracy: 0.9778 - val_recall: 0.9778\n"
          ],
          "name": "stdout"
        }
      ]
    },
    {
      "cell_type": "code",
      "metadata": {
        "colab": {
          "base_uri": "https://localhost:8080/",
          "height": 487
        },
        "id": "OiVvPwJ-5i83",
        "outputId": "6e34222c-fad6-4262-fc28-fc268bfdf9e9"
      },
      "source": [
        "import matplotlib.pyplot as plt\n",
        "\n",
        "plt.figure(figsize=(10,8))\n",
        "plt.ylim(0, 1.2)\n",
        "plt.plot(History.history['loss'])\n",
        "plt.plot(History.history['val_loss'])\n",
        "plt.plot(History.history['accuracy'])\n",
        "plt.plot(History.history['val_accuracy'])\n",
        "plt.plot(History.history['recall'])\n",
        "plt.plot(History.history['val_recall'])\n",
        "plt.legend(['loss','val_loss','accuracy','val_accuracy','recall','val_recall'])\n",
        "plt.grid()\n",
        "plt.show()"
      ],
      "execution_count": 44,
      "outputs": [
        {
          "output_type": "display_data",
          "data": {
            "image/png": "[encoded data removed]",
            "text/plain": [
              "<Figure size 720x576 with 1 Axes>"
            ]
          },
          "metadata": {
            "tags": [],
            "needs_background": "light"
          }
        }
      ]
    },
    {
      "cell_type": "code",
      "metadata": {
        "colab": {
          "base_uri": "https://localhost:8080/"
        },
        "id": "UDVBs6Ys6Vth",
        "outputId": "79cdaf2d-5527-4bab-b49f-dd358bf23bae"
      },
      "source": [
        "loss, accuracy, recall = model.evaluate(X_test, y_test)\n",
        "\n",
        "loss, accuracy"
      ],
      "execution_count": 46,
      "outputs": [
        {
          "output_type": "stream",
          "text": [
            "2/2 [==============================] - 0s 4ms/step - loss: 0.0790 - accuracy: 0.9778 - recall: 0.9778\n"
          ],
          "name": "stdout"
        },
        {
          "output_type": "execute_result",
          "data": {
            "text/plain": [
              "(0.07896831631660461, 0.9777777791023254)"
            ]
          },
          "metadata": {
            "tags": []
          },
          "execution_count": 46
        }
      ]
    },
    {
      "cell_type": "code",
      "metadata": {
        "colab": {
          "base_uri": "https://localhost:8080/"
        },
        "id": "_VyFYgBI6lQI",
        "outputId": "1df31484-fce8-445b-85f6-1ffc3ac1c426"
      },
      "source": [
        "import numpy as np\n",
        "\n",
        "model.predict(X_test)"
      ],
      "execution_count": 47,
      "outputs": [
        {
          "output_type": "execute_result",
          "data": {
            "text/plain": [
              "array([[9.9120939e-01, 8.7906020e-03, 1.7528357e-08],\n",
              "       [9.7147757e-01, 2.8522110e-02, 3.5430486e-07],\n",
              "       [5.2807897e-02, 9.3768859e-01, 9.5035359e-03],\n",
              "       [4.4704233e-08, 9.6226083e-03, 9.9037737e-01],\n",
              "       [9.9652451e-01, 3.4754947e-03, 1.8916471e-09],\n",
              "       [8.6741224e-03, 9.7239268e-01, 1.8933136e-02],\n",
              "       [1.6733933e-06, 8.5369624e-02, 9.1462874e-01],\n",
              "       [9.9690872e-01, 3.0912638e-03, 6.7555500e-10],\n",
              "       [6.2568114e-07, 3.0701643e-02, 9.6929777e-01],\n",
              "       [9.9028486e-01, 9.7150840e-03, 1.4295174e-08],\n",
              "       [5.3898600e-04, 6.6149044e-01, 3.3797050e-01],\n",
              "       [2.5683480e-07, 8.4269308e-02, 9.1573042e-01],\n",
              "       [7.2259904e-04, 9.2057389e-01, 7.8703508e-02],\n",
              "       [9.9886405e-01, 1.1359482e-03, 6.1282923e-11],\n",
              "       [9.9615943e-01, 3.8405366e-03, 1.3049805e-09],\n",
              "       [1.6228501e-03, 8.8440835e-01, 1.1396876e-01],\n",
              "       [4.7357049e-04, 8.3492166e-01, 1.6460475e-01],\n",
              "       [9.9313748e-01, 6.8625687e-03, 1.3441581e-08],\n",
              "       [1.0420429e-03, 9.5860362e-01, 4.0354311e-02],\n",
              "       [9.9753666e-01, 2.4633703e-03, 4.8858828e-10],\n",
              "       [9.9188942e-01, 8.1105717e-03, 1.1138250e-08],\n",
              "       [9.9236131e-01, 7.6387031e-03, 1.2272643e-08],\n",
              "       [2.0940900e-07, 4.6822492e-02, 9.5317727e-01],\n",
              "       [9.9468815e-01, 5.3118928e-03, 3.9640433e-09],\n",
              "       [2.9768771e-06, 2.6163968e-01, 7.3835737e-01],\n",
              "       [1.4234984e-05, 9.0441227e-02, 9.0954453e-01],\n",
              "       [9.9530727e-01, 4.6927631e-03, 2.3538571e-09],\n",
              "       [3.9868534e-04, 9.1260386e-01, 8.6997472e-02],\n",
              "       [3.6499780e-04, 9.0618306e-01, 9.3451954e-02],\n",
              "       [1.3666425e-05, 1.8320374e-01, 8.1678259e-01],\n",
              "       [9.9685609e-01, 3.1439164e-03, 8.8892438e-10],\n",
              "       [6.8232510e-04, 9.2275023e-01, 7.6567471e-02],\n",
              "       [9.9660194e-01, 3.3980263e-03, 5.3116589e-10],\n",
              "       [6.7699839e-05, 5.6815386e-01, 4.3177837e-01],\n",
              "       [8.1915245e-04, 8.8789612e-01, 1.1128473e-01],\n",
              "       [5.4888567e-03, 9.7956961e-01, 1.4941596e-02],\n",
              "       [5.0794114e-08, 1.6703568e-02, 9.8329645e-01],\n",
              "       [4.6684076e-03, 9.6120775e-01, 3.4123830e-02],\n",
              "       [9.9301094e-01, 6.9890004e-03, 7.1964097e-09],\n",
              "       [1.8889172e-03, 8.9284652e-01, 1.0526462e-01],\n",
              "       [6.9664914e-08, 1.3009116e-02, 9.8699087e-01],\n",
              "       [9.8812228e-01, 1.1877635e-02, 4.3153307e-08],\n",
              "       [2.2472066e-06, 4.6188205e-02, 9.5380956e-01],\n",
              "       [4.5598810e-07, 2.2399887e-02, 9.7759968e-01],\n",
              "       [2.6617611e-06, 1.2256299e-01, 8.7743437e-01]], dtype=float32)"
            ]
          },
          "metadata": {
            "tags": []
          },
          "execution_count": 47
        }
      ]
    },
    {
      "cell_type": "code",
      "metadata": {
        "colab": {
          "base_uri": "https://localhost:8080/"
        },
        "id": "LvFX3N4k64DW",
        "outputId": "fb0c7a71-0552-461d-f860-a707ad706efb"
      },
      "source": [
        "y_hat = model.predict_classes(X_test)\n",
        "y_hat"
      ],
      "execution_count": 48,
      "outputs": [
        {
          "output_type": "stream",
          "text": [
            "/usr/local/lib/python3.7/dist-packages/tensorflow/python/keras/engine/sequential.py:450: UserWarning: `model.predict_classes()` is deprecated and will be removed after 2021-01-01. Please use instead:* `np.argmax(model.predict(x), axis=-1)`,   if your model does multi-class classification   (e.g. if it uses a `softmax` last-layer activation).* `(model.predict(x) > 0.5).astype(\"int32\")`,   if your model does binary classification   (e.g. if it uses a `sigmoid` last-layer activation).\n",
            "  warnings.warn('`model.predict_classes()` is deprecated and '\n"
          ],
          "name": "stderr"
        },
        {
          "output_type": "execute_result",
          "data": {
            "text/plain": [
              "array([0, 0, 1, 2, 0, 1, 2, 0, 2, 0, 1, 2, 1, 0, 0, 1, 1, 0, 1, 0, 0, 0,\n",
              "       2, 0, 2, 2, 0, 1, 1, 2, 0, 1, 0, 1, 1, 1, 2, 1, 0, 1, 2, 0, 2, 2,\n",
              "       2])"
            ]
          },
          "metadata": {
            "tags": []
          },
          "execution_count": 48
        }
      ]
    },
    {
      "cell_type": "code",
      "metadata": {
        "colab": {
          "base_uri": "https://localhost:8080/"
        },
        "id": "vHgxvMA47A9P",
        "outputId": "94ec69ce-7200-4339-fdb7-94051888477f"
      },
      "source": [
        "np.argmax(model.predict(X_test), axis=1)"
      ],
      "execution_count": 49,
      "outputs": [
        {
          "output_type": "execute_result",
          "data": {
            "text/plain": [
              "array([0, 0, 1, 2, 0, 1, 2, 0, 2, 0, 1, 2, 1, 0, 0, 1, 1, 0, 1, 0, 0, 0,\n",
              "       2, 0, 2, 2, 0, 1, 1, 2, 0, 1, 0, 1, 1, 1, 2, 1, 0, 1, 2, 0, 2, 2,\n",
              "       2])"
            ]
          },
          "metadata": {
            "tags": []
          },
          "execution_count": 49
        }
      ]
    },
    {
      "cell_type": "code",
      "metadata": {
        "colab": {
          "base_uri": "https://localhost:8080/"
        },
        "id": "-5EsbY2u7HYz",
        "outputId": "9a1f6914-6ae4-439d-fb75-e499d8239ae8"
      },
      "source": [
        "y = np.argmax(y_test, axis=1)\n",
        "y"
      ],
      "execution_count": 50,
      "outputs": [
        {
          "output_type": "execute_result",
          "data": {
            "text/plain": [
              "array([0, 0, 1, 2, 0, 1, 2, 0, 2, 0, 1, 2, 1, 0, 0, 1, 1, 0, 1, 0, 0, 0,\n",
              "       2, 0, 2, 2, 0, 1, 1, 2, 0, 1, 0, 2, 1, 1, 2, 1, 0, 1, 2, 0, 2, 2,\n",
              "       2])"
            ]
          },
          "metadata": {
            "tags": []
          },
          "execution_count": 50
        }
      ]
    },
    {
      "cell_type": "code",
      "metadata": {
        "colab": {
          "base_uri": "https://localhost:8080/"
        },
        "id": "NqVGb9EZ7RQn",
        "outputId": "c7f2c9c2-e688-487e-a85a-70cc3cd4ecfe"
      },
      "source": [
        "type(y)"
      ],
      "execution_count": 51,
      "outputs": [
        {
          "output_type": "execute_result",
          "data": {
            "text/plain": [
              "numpy.ndarray"
            ]
          },
          "metadata": {
            "tags": []
          },
          "execution_count": 51
        }
      ]
    },
    {
      "cell_type": "code",
      "metadata": {
        "colab": {
          "base_uri": "https://localhost:8080/"
        },
        "id": "YFOn4XCz7Vo3",
        "outputId": "cb1f41de-8472-4fa7-f09b-6fd43159c1dd"
      },
      "source": [
        "type(y_hat)"
      ],
      "execution_count": 52,
      "outputs": [
        {
          "output_type": "execute_result",
          "data": {
            "text/plain": [
              "numpy.ndarray"
            ]
          },
          "metadata": {
            "tags": []
          },
          "execution_count": 52
        }
      ]
    },
    {
      "cell_type": "code",
      "metadata": {
        "colab": {
          "base_uri": "https://localhost:8080/"
        },
        "id": "HX6mWoVI7W5f",
        "outputId": "2e158fa4-e245-4c3e-c3b9-372f09a96c4d"
      },
      "source": [
        "type(y_test)"
      ],
      "execution_count": 53,
      "outputs": [
        {
          "output_type": "execute_result",
          "data": {
            "text/plain": [
              "numpy.ndarray"
            ]
          },
          "metadata": {
            "tags": []
          },
          "execution_count": 53
        }
      ]
    },
    {
      "cell_type": "code",
      "metadata": {
        "colab": {
          "base_uri": "https://localhost:8080/",
          "height": 350
        },
        "id": "-_nXTp4J7ayf",
        "outputId": "f4e6a438-9904-4d24-8622-cbeccff434c5"
      },
      "source": [
        "from sklearn.metrics import confusion_matrix, classification_report\n",
        "\n",
        "confusion_matrix(y_test, y_hat)"
      ],
      "execution_count": 57,
      "outputs": [
        {
          "output_type": "error",
          "ename": "ValueError",
          "evalue": "ignored",
          "traceback": [
            "\u001b[0;31m---------------------------------------------------------------------------\u001b[0m",
            "\u001b[0;31mValueError\u001b[0m                                Traceback (most recent call last)",
            "\u001b[0;32m<ipython-input-57-46e66689f5b5>\u001b[0m in \u001b[0;36m<module>\u001b[0;34m()\u001b[0m\n\u001b[1;32m      1\u001b[0m \u001b[0;32mfrom\u001b[0m \u001b[0msklearn\u001b[0m\u001b[0;34m.\u001b[0m\u001b[0mmetrics\u001b[0m \u001b[0;32mimport\u001b[0m \u001b[0mconfusion_matrix\u001b[0m\u001b[0;34m,\u001b[0m \u001b[0mclassification_report\u001b[0m\u001b[0;34m\u001b[0m\u001b[0;34m\u001b[0m\u001b[0m\n\u001b[1;32m      2\u001b[0m \u001b[0;34m\u001b[0m\u001b[0m\n\u001b[0;32m----> 3\u001b[0;31m \u001b[0mconfusion_matrix\u001b[0m\u001b[0;34m(\u001b[0m\u001b[0my_test\u001b[0m\u001b[0;34m,\u001b[0m \u001b[0my_hat\u001b[0m\u001b[0;34m)\u001b[0m\u001b[0;34m\u001b[0m\u001b[0;34m\u001b[0m\u001b[0m\n\u001b[0m",
            "\u001b[0;32m/usr/local/lib/python3.7/dist-packages/sklearn/metrics/_classification.py\u001b[0m in \u001b[0;36mconfusion_matrix\u001b[0;34m(y_true, y_pred, labels, sample_weight, normalize)\u001b[0m\n\u001b[1;32m    266\u001b[0m \u001b[0;34m\u001b[0m\u001b[0m\n\u001b[1;32m    267\u001b[0m     \"\"\"\n\u001b[0;32m--> 268\u001b[0;31m     \u001b[0my_type\u001b[0m\u001b[0;34m,\u001b[0m \u001b[0my_true\u001b[0m\u001b[0;34m,\u001b[0m \u001b[0my_pred\u001b[0m \u001b[0;34m=\u001b[0m \u001b[0m_check_targets\u001b[0m\u001b[0;34m(\u001b[0m\u001b[0my_true\u001b[0m\u001b[0;34m,\u001b[0m \u001b[0my_pred\u001b[0m\u001b[0;34m)\u001b[0m\u001b[0;34m\u001b[0m\u001b[0;34m\u001b[0m\u001b[0m\n\u001b[0m\u001b[1;32m    269\u001b[0m     \u001b[0;32mif\u001b[0m \u001b[0my_type\u001b[0m \u001b[0;32mnot\u001b[0m \u001b[0;32min\u001b[0m \u001b[0;34m(\u001b[0m\u001b[0;34m\"binary\"\u001b[0m\u001b[0;34m,\u001b[0m \u001b[0;34m\"multiclass\"\u001b[0m\u001b[0;34m)\u001b[0m\u001b[0;34m:\u001b[0m\u001b[0;34m\u001b[0m\u001b[0;34m\u001b[0m\u001b[0m\n\u001b[1;32m    270\u001b[0m         \u001b[0;32mraise\u001b[0m \u001b[0mValueError\u001b[0m\u001b[0;34m(\u001b[0m\u001b[0;34m\"%s is not supported\"\u001b[0m \u001b[0;34m%\u001b[0m \u001b[0my_type\u001b[0m\u001b[0;34m)\u001b[0m\u001b[0;34m\u001b[0m\u001b[0;34m\u001b[0m\u001b[0m\n",
            "\u001b[0;32m/usr/local/lib/python3.7/dist-packages/sklearn/metrics/_classification.py\u001b[0m in \u001b[0;36m_check_targets\u001b[0;34m(y_true, y_pred)\u001b[0m\n\u001b[1;32m     88\u001b[0m     \u001b[0;32mif\u001b[0m \u001b[0mlen\u001b[0m\u001b[0;34m(\u001b[0m\u001b[0my_type\u001b[0m\u001b[0;34m)\u001b[0m \u001b[0;34m>\u001b[0m \u001b[0;36m1\u001b[0m\u001b[0;34m:\u001b[0m\u001b[0;34m\u001b[0m\u001b[0;34m\u001b[0m\u001b[0m\n\u001b[1;32m     89\u001b[0m         raise ValueError(\"Classification metrics can't handle a mix of {0} \"\n\u001b[0;32m---> 90\u001b[0;31m                          \"and {1} targets\".format(type_true, type_pred))\n\u001b[0m\u001b[1;32m     91\u001b[0m \u001b[0;34m\u001b[0m\u001b[0m\n\u001b[1;32m     92\u001b[0m     \u001b[0;31m# We can't have more than one value on y_type => The set is no more needed\u001b[0m\u001b[0;34m\u001b[0m\u001b[0;34m\u001b[0m\u001b[0;34m\u001b[0m\u001b[0m\n",
            "\u001b[0;31mValueError\u001b[0m: Classification metrics can't handle a mix of multilabel-indicator and multiclass targets"
          ]
        }
      ]
    },
    {
      "cell_type": "code",
      "metadata": {
        "colab": {
          "base_uri": "https://localhost:8080/"
        },
        "id": "pxG9dspb7ikn",
        "outputId": "44250b67-bb25-4e62-a7b7-0f0ad1e5f6f9"
      },
      "source": [
        "print(classification_report(y, y_hat, target_names=['setosa','virginica','versicolor']))"
      ],
      "execution_count": 59,
      "outputs": [
        {
          "output_type": "stream",
          "text": [
            "              precision    recall  f1-score   support\n",
            "\n",
            "      setosa       1.00      1.00      1.00        17\n",
            "   virginica       0.93      1.00      0.97        14\n",
            "  versicolor       1.00      0.93      0.96        14\n",
            "\n",
            "    accuracy                           0.98        45\n",
            "   macro avg       0.98      0.98      0.98        45\n",
            "weighted avg       0.98      0.98      0.98        45\n",
            "\n"
          ],
          "name": "stdout"
        }
      ]
    },
    {
      "cell_type": "code",
      "metadata": {
        "id": "AneSgqGb8Bql"
      },
      "source": [
        ""
      ],
      "execution_count": null,
      "outputs": []
    }
  ]
}