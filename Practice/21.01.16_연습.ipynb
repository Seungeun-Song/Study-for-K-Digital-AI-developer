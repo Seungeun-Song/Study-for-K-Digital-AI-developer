{
 "cells": [
  {
   "cell_type": "markdown",
   "metadata": {},
   "source": [
    "# 2. 변수"
   ]
  },
  {
   "cell_type": "code",
   "execution_count": 5,
   "metadata": {},
   "outputs": [
    {
     "ename": "NameError",
     "evalue": "name 'age' is not defined",
     "output_type": "error",
     "traceback": [
      "\u001b[1;31m---------------------------------------------------------------------------\u001b[0m",
      "\u001b[1;31mNameError\u001b[0m                                 Traceback (most recent call last)",
      "\u001b[1;32m<ipython-input-5-41cd6b7e2b23>\u001b[0m in \u001b[0;36m<module>\u001b[1;34m\u001b[0m\n\u001b[1;32m----> 1\u001b[1;33m \u001b[1;32mif\u001b[0m \u001b[0mage\u001b[0m \u001b[1;33m>\u001b[0m \u001b[1;36m19\u001b[0m\u001b[1;33m:\u001b[0m\u001b[1;33m\u001b[0m\u001b[1;33m\u001b[0m\u001b[0m\n\u001b[0m\u001b[0;32m      2\u001b[0m     \u001b[0mprint\u001b[0m\u001b[1;33m(\u001b[0m\u001b[1;34m\"성인입니다\"\u001b[0m\u001b[1;33m)\u001b[0m\u001b[1;33m\u001b[0m\u001b[1;33m\u001b[0m\u001b[0m\n",
      "\u001b[1;31mNameError\u001b[0m: name 'age' is not defined"
     ]
    }
   ],
   "source": [
    "if age > 19:\n",
    "    print(\"성인입니다\")"
   ]
  },
  {
   "cell_type": "code",
   "execution_count": 4,
   "metadata": {},
   "outputs": [
    {
     "name": "stdout",
     "output_type": "stream",
     "text": [
      "0\n",
      "1\n",
      "2\n",
      "3\n",
      "4\n"
     ]
    }
   ],
   "source": [
    "for a in range(5):\n",
    "    print(a)"
   ]
  },
  {
   "cell_type": "markdown",
   "metadata": {},
   "source": [
    "print(출력내용 [, sep=구분자] [,end=끝문자])"
   ]
  },
  {
   "cell_type": "code",
   "execution_count": 6,
   "metadata": {},
   "outputs": [
    {
     "name": "stdout",
     "output_type": "stream",
     "text": [
      "7\n"
     ]
    }
   ],
   "source": [
    "print(3+4)"
   ]
  },
  {
   "cell_type": "code",
   "execution_count": 8,
   "metadata": {},
   "outputs": [
    {
     "name": "stdout",
     "output_type": "stream",
     "text": [
      "1234\n",
      "2468\n"
     ]
    }
   ],
   "source": [
    "value = 1234\n",
    "print(value)\n",
    "print(value * 2)"
   ]
  },
  {
   "cell_type": "code",
   "execution_count": 9,
   "metadata": {},
   "outputs": [
    {
     "data": {
      "text/plain": [
       "1234"
      ]
     },
     "execution_count": 9,
     "metadata": {},
     "output_type": "execute_result"
    }
   ],
   "source": [
    "value"
   ]
  },
  {
   "cell_type": "code",
   "execution_count": 11,
   "metadata": {},
   "outputs": [
    {
     "name": "stdout",
     "output_type": "stream",
     "text": [
      "7\n",
      "3\n"
     ]
    }
   ],
   "source": [
    "print(3+4)\n",
    "4 * 5   # 무시된다\n",
    "a = 1\n",
    "b = 2\n",
    "print(a + b)"
   ]
  },
  {
   "cell_type": "code",
   "execution_count": 12,
   "metadata": {},
   "outputs": [
    {
     "name": "stdout",
     "output_type": "stream",
     "text": [
      "12 34\n"
     ]
    }
   ],
   "source": [
    "a = 12\n",
    "b = 34\n",
    "print(a, b)"
   ]
  },
  {
   "cell_type": "code",
   "execution_count": 14,
   "metadata": {},
   "outputs": [
    {
     "name": "stdout",
     "output_type": "stream",
     "text": [
      "12,34\n"
     ]
    }
   ],
   "source": [
    "print(a, b, sep =',')"
   ]
  },
  {
   "cell_type": "code",
   "execution_count": 15,
   "metadata": {},
   "outputs": [
    {
     "name": "stdout",
     "output_type": "stream",
     "text": [
      "1234\n"
     ]
    }
   ],
   "source": [
    "print(a, b, sep='')"
   ]
  },
  {
   "cell_type": "code",
   "execution_count": 16,
   "metadata": {},
   "outputs": [
    {
     "name": "stdout",
     "output_type": "stream",
     "text": [
      "12---->34\n"
     ]
    }
   ],
   "source": [
    "print(a, b, sep = '---->')"
   ]
  },
  {
   "cell_type": "code",
   "execution_count": 19,
   "metadata": {},
   "outputs": [
    {
     "name": "stdout",
     "output_type": "stream",
     "text": [
      "서울 찍고, 대전 찍고, 대구 찍고, 부산\n"
     ]
    }
   ],
   "source": [
    "s = '서울'\n",
    "d = '대전'\n",
    "g = '대구'\n",
    "b = '부산'\n",
    "print(s, d, g, b, sep=' 찍고, ')"
   ]
  },
  {
   "cell_type": "code",
   "execution_count": 20,
   "metadata": {},
   "outputs": [
    {
     "name": "stdout",
     "output_type": "stream",
     "text": [
      "강아지\n",
      "고양이\n"
     ]
    }
   ],
   "source": [
    "# 연이은 print 문은 새로운 줄에 출력\n",
    "a = '강아지'\n",
    "b = '고양이'\n",
    "print(a)\n",
    "print(b)"
   ]
  },
  {
   "cell_type": "code",
   "execution_count": 21,
   "metadata": {},
   "outputs": [
    {
     "name": "stdout",
     "output_type": "stream",
     "text": [
      "강아지고양이\n"
     ]
    }
   ],
   "source": [
    "a = '강아지'\n",
    "b = '고양이'\n",
    "print(a, end='')\n",
    "print(b)"
   ]
  },
  {
   "cell_type": "markdown",
   "metadata": {},
   "source": [
    "변수 = input('질문 내용')"
   ]
  },
  {
   "cell_type": "code",
   "execution_count": 25,
   "metadata": {},
   "outputs": [
    {
     "name": "stdout",
     "output_type": "stream",
     "text": [
      "몇 살이세요? 30\n",
      "30\n"
     ]
    }
   ],
   "source": [
    "age = input('몇 살이세요? ')\n",
    "print(age)    # 사용자가 입력한 값을 age 변수에 제대로 입력되었는지 출력한 것."
   ]
  },
  {
   "cell_type": "code",
   "execution_count": 28,
   "metadata": {},
   "outputs": [
    {
     "name": "stdout",
     "output_type": "stream",
     "text": [
      "가격을 입력하세요 : 5000\n",
      "개수를 입력하세요 : 3\n",
      "총액은 15000 원입니다\n"
     ]
    }
   ],
   "source": [
    "# 문제 : 가격을 입력받아 price 변수에 대입하고 개수를 입력받아 num변수에 대입. 총액 계산\n",
    "\n",
    "price = input('가격을 입력하세요 : ')\n",
    "num = input('개수를 입력하세요 : ')\n",
    "sum = int(price) * int(num)\n",
    "print('총액은', sum, '원입니다')"
   ]
  },
  {
   "cell_type": "code",
   "execution_count": 30,
   "metadata": {},
   "outputs": [
    {
     "name": "stdout",
     "output_type": "stream",
     "text": [
      "가격을 입력하세요5000\n",
      "개수를 입력하세요3\n",
      "15000\n"
     ]
    }
   ],
   "source": [
    "price = int(input('가격을 입력하세요'))\n",
    "num = int(input('개수를 입력하세요'))\n",
    "#sum = price * num\n",
    "#print('총액은',sum,'입니다')\n",
    "print('총액은',price * num,'원입니다')"
   ]
  },
  {
   "cell_type": "code",
   "execution_count": 33,
   "metadata": {},
   "outputs": [
    {
     "name": "stdout",
     "output_type": "stream",
     "text": [
      "이름을 입력하세요송승은\n",
      "안녕하세요! 송승은님~\n"
     ]
    }
   ],
   "source": [
    "# 이름을 입력하세요\n",
    "name = input('이름을 입력하세요')\n",
    "print('안녕하세요!', name+'님~')"
   ]
  },
  {
   "cell_type": "code",
   "execution_count": 34,
   "metadata": {},
   "outputs": [],
   "source": [
    "score = 100"
   ]
  },
  {
   "cell_type": "code",
   "execution_count": 35,
   "metadata": {},
   "outputs": [
    {
     "data": {
      "text/plain": [
       "100"
      ]
     },
     "execution_count": 35,
     "metadata": {},
     "output_type": "execute_result"
    }
   ],
   "source": [
    "score"
   ]
  },
  {
   "cell_type": "code",
   "execution_count": 36,
   "metadata": {},
   "outputs": [
    {
     "name": "stdout",
     "output_type": "stream",
     "text": [
      "100\n"
     ]
    }
   ],
   "source": [
    "print(score)"
   ]
  },
  {
   "cell_type": "code",
   "execution_count": 37,
   "metadata": {},
   "outputs": [],
   "source": [
    "a = 1234"
   ]
  },
  {
   "cell_type": "code",
   "execution_count": 38,
   "metadata": {},
   "outputs": [
    {
     "data": {
      "text/plain": [
       "int"
      ]
     },
     "execution_count": 38,
     "metadata": {},
     "output_type": "execute_result"
    }
   ],
   "source": [
    "type(a)"
   ]
  },
  {
   "cell_type": "code",
   "execution_count": 39,
   "metadata": {},
   "outputs": [],
   "source": [
    "a = '안녕'"
   ]
  },
  {
   "cell_type": "code",
   "execution_count": 40,
   "metadata": {},
   "outputs": [
    {
     "data": {
      "text/plain": [
       "str"
      ]
     },
     "execution_count": 40,
     "metadata": {},
     "output_type": "execute_result"
    }
   ],
   "source": [
    "type(a)"
   ]
  },
  {
   "cell_type": "code",
   "execution_count": 41,
   "metadata": {},
   "outputs": [
    {
     "name": "stdout",
     "output_type": "stream",
     "text": [
      "\n"
     ]
    }
   ],
   "source": [
    "print('')"
   ]
  },
  {
   "cell_type": "code",
   "execution_count": 47,
   "metadata": {},
   "outputs": [
    {
     "name": "stdout",
     "output_type": "stream",
     "text": [
      "폭을 입력하세요 : 30\n",
      "높이를 입력하세요 : 30\n",
      "면적은 900 입니다\n"
     ]
    }
   ],
   "source": [
    "# 사각형의 폭과 높이를 각각 width, height 변수에 입력받아 면적을 구해 출력하라\n",
    "width = int(input(\"폭을 입력하세요 : \"))\n",
    "height = int(input(\"높이를 입력하세요 : \"))\n",
    "size = width * height\n",
    "print('면적은',size,'입니다')"
   ]
  },
  {
   "cell_type": "markdown",
   "metadata": {},
   "source": [
    "# 3. 타입"
   ]
  },
  {
   "cell_type": "code",
   "execution_count": 48,
   "metadata": {},
   "outputs": [
    {
     "name": "stdout",
     "output_type": "stream",
     "text": [
      "0x1a\n",
      "0o32\n",
      "0b1101\n"
     ]
    }
   ],
   "source": [
    "print(hex(26))        # 16진법(hexadecimal)\n",
    "print(oct(26))        # 8진법(octal)\n",
    "print(bin(13))        # 2진법(binary)"
   ]
  },
  {
   "cell_type": "code",
   "execution_count": 50,
   "metadata": {},
   "outputs": [
    {
     "data": {
      "text/plain": [
       "9460000000000.0"
      ]
     },
     "execution_count": 50,
     "metadata": {},
     "output_type": "execute_result"
    }
   ],
   "source": [
    "# 가수E지수\n",
    "9.46e12"
   ]
  },
  {
   "cell_type": "code",
   "execution_count": 51,
   "metadata": {},
   "outputs": [
    {
     "name": "stdout",
     "output_type": "stream",
     "text": [
      "빌게이츠의 재산은 103200000000000.0 이고, 이건희의 재산은 20400000000000.0 이다\n"
     ]
    }
   ],
   "source": [
    "bill = 1.032e14\n",
    "lee = 2.04e13\n",
    "print('빌게이츠의 재산은',bill,'이고, 이건희의 재산은',lee,'이다')"
   ]
  },
  {
   "cell_type": "code",
   "execution_count": 52,
   "metadata": {},
   "outputs": [
    {
     "name": "stdout",
     "output_type": "stream",
     "text": [
      "(4+6j)\n"
     ]
    }
   ],
   "source": [
    "# 복소수형 = 제곱해서 음수가 되는 가상의 숫자\n",
    "\n",
    "a = 1+2j\n",
    "b = 3+4j\n",
    "print( a+ b)"
   ]
  },
  {
   "cell_type": "code",
   "execution_count": 54,
   "metadata": {},
   "outputs": [
    {
     "name": "stdout",
     "output_type": "stream",
     "text": [
      "Korea 서울 1234\n"
     ]
    },
    {
     "data": {
      "text/plain": [
       "str"
      ]
     },
     "execution_count": 54,
     "metadata": {},
     "output_type": "execute_result"
    }
   ],
   "source": [
    "a = \"Korea 서울 1234\"\n",
    "print(a)\n",
    "type(a)"
   ]
  },
  {
   "cell_type": "code",
   "execution_count": 55,
   "metadata": {},
   "outputs": [
    {
     "name": "stdout",
     "output_type": "stream",
     "text": [
      "I Say \"Help\" to you\n"
     ]
    }
   ],
   "source": [
    "print('I Say \"Help\" to you')"
   ]
  },
  {
   "cell_type": "code",
   "execution_count": 56,
   "metadata": {},
   "outputs": [
    {
     "name": "stdout",
     "output_type": "stream",
     "text": [
      "let's go\n"
     ]
    }
   ],
   "source": [
    "print(\"let's go\")"
   ]
  },
  {
   "cell_type": "markdown",
   "metadata": {},
   "source": [
    "\\n = 개행\n",
    "\n",
    "\\t = 탭\n",
    "\n",
    "\\\\\" = 큰따옴표\n",
    "\n",
    "\\\\' =작은따옴표\n",
    "\n",
    "\\\\\\ = \\ 문자"
   ]
  },
  {
   "cell_type": "code",
   "execution_count": 57,
   "metadata": {},
   "outputs": [
    {
     "name": "stdout",
     "output_type": "stream",
     "text": [
      "I Say \"Help\" to you\n"
     ]
    }
   ],
   "source": [
    "print(\"I Say \\\"Help\\\" to you\")"
   ]
  },
  {
   "cell_type": "code",
   "execution_count": 58,
   "metadata": {},
   "outputs": [
    {
     "name": "stdout",
     "output_type": "stream",
     "text": [
      "first\n",
      "second\n"
     ]
    }
   ],
   "source": [
    "a = \"first\\nsecond\"\n",
    "print(a)"
   ]
  },
  {
   "cell_type": "code",
   "execution_count": 62,
   "metadata": {},
   "outputs": [
    {
     "name": "stdout",
     "output_type": "stream",
     "text": [
      "old\\new\n",
      "\n",
      "old\n",
      "ew\n"
     ]
    }
   ],
   "source": [
    "a = \"old\\\\new\"\n",
    "print(a)\n",
    "print()\n",
    "b= \"old\\new\"       # \\n으로 인식해서 개행\n",
    "print(b)"
   ]
  },
  {
   "cell_type": "code",
   "execution_count": 66,
   "metadata": {},
   "outputs": [
    {
     "name": "stdout",
     "output_type": "stream",
     "text": [
      "c:\temp\n",
      "ew.txt\n",
      "\n",
      "c:\\temp\\new.txt\n"
     ]
    }
   ],
   "source": [
    "print(\"c:\\temp\\new.txt\")         # \\t  /  \\n 으로 인식\n",
    "print()\n",
    "print(r\"c:\\temp\\new.txt\")        # 경로를 그대로 출력하기 위해 전부 \\\\를 두번씩 쓰기에는 번거로움. 문자열 앞에 r 접두를 붙인다"
   ]
  },
  {
   "cell_type": "code",
   "execution_count": 68,
   "metadata": {},
   "outputs": [
    {
     "name": "stdout",
     "output_type": "stream",
     "text": [
      "강나루 건너서 밀밭 길을 구름에 달 가듯이 가는 나그네\n",
      "길은 외줄기 남도 삼백리 술 익는 마을마다 타는 저녁놀\n",
      "구름에 달 가듯이 가는 나그네\n"
     ]
    }
   ],
   "source": [
    "#긴문자열 - 따옴표 3개 연속 사용\n",
    "s = \"\"\"강나루 건너서 밀밭 길을 구름에 달 가듯이 가는 나그네\n",
    "길은 외줄기 남도 삼백리 술 익는 마을마다 타는 저녁놀\n",
    "구름에 달 가듯이 가는 나그네\"\"\"\n",
    "print(s)"
   ]
  },
  {
   "cell_type": "code",
   "execution_count": 70,
   "metadata": {},
   "outputs": [
    {
     "name": "stdout",
     "output_type": "stream",
     "text": [
      "강나루 건너서 밀밭 길을 구름에 달 가듯이 가는 나그네길은 외줄기 남도 삼백리 술 익는 마을마다 타는 저녁놀구름에 달 가듯이 가는 나그네\n"
     ]
    }
   ],
   "source": [
    "#긴문자열 - \\(역슬래시) 사용 - 개행하지 않고 줄이 계속 이어진다는 뜻\n",
    "s=\"강나루 건너서 밀밭 길을 구름에 달 가듯이 가는 나그네\\\n",
    "길은 외줄기 남도 삼백리 술 익는 마을마다 타는 저녁놀\\\n",
    "구름에 달 가듯이 가는 나그네\"\n",
    "print(s)"
   ]
  },
  {
   "cell_type": "code",
   "execution_count": 72,
   "metadata": {},
   "outputs": [
    {
     "name": "stdout",
     "output_type": "stream",
     "text": [
      "31536000\n"
     ]
    }
   ],
   "source": [
    "totalsec = 365 * 24 * \\\n",
    "           60 * 60   #행의 들여쓰기는 상관X\n",
    "print(totalsec)"
   ]
  },
  {
   "cell_type": "code",
   "execution_count": 3,
   "metadata": {},
   "outputs": [
    {
     "name": "stdout",
     "output_type": "stream",
     "text": [
      "대한민국2002\n"
     ]
    }
   ],
   "source": [
    "s = \"대한\"\"민국\"\"2002\"\n",
    "print(s)"
   ]
  },
  {
   "cell_type": "code",
   "execution_count": 2,
   "metadata": {},
   "outputs": [
    {
     "name": "stdout",
     "output_type": "stream",
     "text": [
      "('대한', '민국', '2002')\n"
     ]
    }
   ],
   "source": [
    "s = \"대한\",\"민국\",\"2002\"\n",
    "print(s)"
   ]
  },
  {
   "cell_type": "code",
   "execution_count": 4,
   "metadata": {},
   "outputs": [
    {
     "name": "stdout",
     "output_type": "stream",
     "text": [
      "대한민국2002\n"
     ]
    }
   ],
   "source": [
    "s = (\"대한\"\n",
    "     \"민국\"\n",
    "     \"2002\")\n",
    "print(s)"
   ]
  },
  {
   "cell_type": "code",
   "execution_count": 5,
   "metadata": {},
   "outputs": [
    {
     "name": "stdout",
     "output_type": "stream",
     "text": [
      "대한민국\n"
     ]
    }
   ],
   "source": [
    "a = \"대한\"\n",
    "b = \"민국\"\n",
    "print(a+b)"
   ]
  },
  {
   "cell_type": "code",
   "execution_count": 6,
   "metadata": {},
   "outputs": [
    {
     "name": "stdout",
     "output_type": "stream",
     "text": [
      "a+b\n"
     ]
    }
   ],
   "source": [
    "print(\"a+b\")"
   ]
  },
  {
   "cell_type": "code",
   "execution_count": 42,
   "metadata": {
    "scrolled": true
   },
   "outputs": [
    {
     "name": "stdout",
     "output_type": "stream",
     "text": [
      "좋아, 아주좋아~!   좋아, 아주좋아~!   좋아, 아주좋아~!   \n"
     ]
    }
   ],
   "source": [
    "print(\"좋아, 아주좋아~!   \" * 3 )"
   ]
  },
  {
   "cell_type": "code",
   "execution_count": 44,
   "metadata": {},
   "outputs": [
    {
     "name": "stdout",
     "output_type": "stream",
     "text": [
      "-------------------------------------------------------------------------------->"
     ]
    }
   ],
   "source": [
    "print('-' *80, end='>')"
   ]
  },
  {
   "cell_type": "code",
   "execution_count": 78,
   "metadata": {},
   "outputs": [
    {
     "name": "stdout",
     "output_type": "stream",
     "text": [
      "97\n",
      "b\n",
      "ABCDEFGHIJKLMNOPQRSTUVWXYZ"
     ]
    }
   ],
   "source": [
    "# ord 함수 = 문자의 코드를 조사  / chr = 코드로부터 문자를 구현\n",
    "\n",
    "print(ord('a'))\n",
    "print(chr(98))\n",
    "for c in range(ord('A'), ord('Z')+1):\n",
    "    print(chr(c), end='')"
   ]
  },
  {
   "cell_type": "code",
   "execution_count": 7,
   "metadata": {},
   "outputs": [
    {
     "name": "stdout",
     "output_type": "stream",
     "text": [
      "True\n"
     ]
    }
   ],
   "source": [
    "a = 5\n",
    "b = a == 5\n",
    "print(b)"
   ]
  },
  {
   "cell_type": "code",
   "execution_count": 8,
   "metadata": {},
   "outputs": [
    {
     "name": "stdout",
     "output_type": "stream",
     "text": [
      "False\n"
     ]
    }
   ],
   "source": [
    "a = 5\n",
    "b = a ==4\n",
    "print(b)"
   ]
  },
  {
   "cell_type": "code",
   "execution_count": 9,
   "metadata": {},
   "outputs": [
    {
     "name": "stdout",
     "output_type": "stream",
     "text": [
      "a는 5입니다\n"
     ]
    }
   ],
   "source": [
    "if a == 5:\n",
    "    print(\"a는 5입니다\")"
   ]
  },
  {
   "cell_type": "code",
   "execution_count": 10,
   "metadata": {},
   "outputs": [
    {
     "name": "stdout",
     "output_type": "stream",
     "text": [
      "None\n"
     ]
    }
   ],
   "source": [
    "a = None\n",
    "print(a)"
   ]
  },
  {
   "cell_type": "code",
   "execution_count": 12,
   "metadata": {},
   "outputs": [
    {
     "name": "stdout",
     "output_type": "stream",
     "text": [
      "손오공 출동\n",
      "저팔계 출동\n",
      "사오정 출동\n",
      "삼장법사 출동\n"
     ]
    }
   ],
   "source": [
    "member = ['손오공','저팔계','사오정','삼장법사']\n",
    "for m in member:\n",
    "    print(m,\"출동\")"
   ]
  },
  {
   "cell_type": "markdown",
   "metadata": {},
   "source": [
    "---\n",
    "Q 문제 : 봄, 여름, 가을, 겨울 계절명을 season 문자열 변수에 저장하되 출력 시 각 줄에 계절이 따로 나오도록 정의하라"
   ]
  },
  {
   "cell_type": "code",
   "execution_count": 19,
   "metadata": {},
   "outputs": [
    {
     "name": "stdout",
     "output_type": "stream",
     "text": [
      "봄\n",
      "여름\n",
      "가을\n",
      "겨울\n",
      "\n",
      "\n",
      "문자열 변수가 아니므로 오답입니다!!!\n"
     ]
    }
   ],
   "source": [
    "season =['봄','여름','가을','겨울']\n",
    "for s in season:\n",
    "    print(s)   \n",
    "print()\n",
    "print(\"\\n문자열 변수가 아니므로 오답입니다!!!\")"
   ]
  },
  {
   "cell_type": "code",
   "execution_count": 17,
   "metadata": {},
   "outputs": [
    {
     "name": "stdout",
     "output_type": "stream",
     "text": [
      "봄\n",
      "여름\n",
      "가을\n",
      "겨울\n"
     ]
    }
   ],
   "source": [
    "season = \"봄\\n여름\\n가을\\n겨울\"\n",
    "print(season)"
   ]
  },
  {
   "cell_type": "markdown",
   "metadata": {},
   "source": [
    "---\n",
    "Q 문제 : 문자 K의 코드값을 출력하고 코드값 100의 문자가 무엇인지 조사하여 출력하라"
   ]
  },
  {
   "cell_type": "code",
   "execution_count": 22,
   "metadata": {},
   "outputs": [
    {
     "name": "stdout",
     "output_type": "stream",
     "text": [
      "75\n",
      "d\n"
     ]
    }
   ],
   "source": [
    "print(ord(\"K\"))\n",
    "print(chr(100))"
   ]
  },
  {
   "cell_type": "markdown",
   "metadata": {},
   "source": [
    "# 4장. 연산자"
   ]
  },
  {
   "cell_type": "code",
   "execution_count": null,
   "metadata": {},
   "outputs": [],
   "source": [
    "** = 거듭제곱\n",
    "\\\\ = 정수 나누기\n",
    "% = 나머지"
   ]
  },
  {
   "cell_type": "code",
   "execution_count": 23,
   "metadata": {},
   "outputs": [
    {
     "data": {
      "text/plain": [
       "121"
      ]
     },
     "execution_count": 23,
     "metadata": {},
     "output_type": "execute_result"
    }
   ],
   "source": [
    "11 ** 2"
   ]
  },
  {
   "cell_type": "code",
   "execution_count": 24,
   "metadata": {},
   "outputs": [
    {
     "data": {
      "text/plain": [
       "1024"
      ]
     },
     "execution_count": 24,
     "metadata": {},
     "output_type": "execute_result"
    }
   ],
   "source": [
    "2 ** 10"
   ]
  },
  {
   "cell_type": "code",
   "execution_count": 25,
   "metadata": {},
   "outputs": [
    {
     "data": {
      "text/plain": [
       "2.5"
      ]
     },
     "execution_count": 25,
     "metadata": {},
     "output_type": "execute_result"
    }
   ],
   "source": [
    "5 / 2"
   ]
  },
  {
   "cell_type": "code",
   "execution_count": 26,
   "metadata": {},
   "outputs": [
    {
     "data": {
      "text/plain": [
       "2"
      ]
     },
     "execution_count": 26,
     "metadata": {},
     "output_type": "execute_result"
    }
   ],
   "source": [
    "5 // 2   #소수부 0.5를 버리고 정수부 2만 계산"
   ]
  },
  {
   "cell_type": "markdown",
   "metadata": {},
   "source": [
    "---\n",
    "Q. 문제 : 초코파이 한 개는 400원이다. 1000원으로 몇 개를 살 수 있는가?"
   ]
  },
  {
   "cell_type": "code",
   "execution_count": 27,
   "metadata": {},
   "outputs": [
    {
     "data": {
      "text/plain": [
       "2"
      ]
     },
     "execution_count": 27,
     "metadata": {},
     "output_type": "execute_result"
    }
   ],
   "source": [
    "pie = 400\n",
    "1000 // pie"
   ]
  },
  {
   "cell_type": "code",
   "execution_count": 32,
   "metadata": {},
   "outputs": [
    {
     "data": {
      "text/plain": [
       "1"
      ]
     },
     "execution_count": 32,
     "metadata": {},
     "output_type": "execute_result"
    }
   ],
   "source": [
    "# 나머지 연산자는 배수 여부르르 판별할 때 흔히 사용한다\n",
    "\n",
    "7 % 2"
   ]
  },
  {
   "cell_type": "code",
   "execution_count": 30,
   "metadata": {},
   "outputs": [
    {
     "data": {
      "text/plain": [
       "2"
      ]
     },
     "execution_count": 30,
     "metadata": {},
     "output_type": "execute_result"
    }
   ],
   "source": [
    "8 % 3"
   ]
  },
  {
   "cell_type": "code",
   "execution_count": 31,
   "metadata": {},
   "outputs": [
    {
     "data": {
      "text/plain": [
       "0"
      ]
     },
     "execution_count": 31,
     "metadata": {},
     "output_type": "execute_result"
    }
   ],
   "source": [
    "9 % 3"
   ]
  },
  {
   "cell_type": "code",
   "execution_count": 33,
   "metadata": {},
   "outputs": [
    {
     "name": "stdout",
     "output_type": "stream",
     "text": [
      "6\n"
     ]
    }
   ],
   "source": [
    "# 복합 대입 연산자\n",
    "\n",
    "a = 5\n",
    "a = a + 1\n",
    "print(a)"
   ]
  },
  {
   "cell_type": "code",
   "execution_count": 35,
   "metadata": {},
   "outputs": [
    {
     "name": "stdout",
     "output_type": "stream",
     "text": [
      "8\n"
     ]
    }
   ],
   "source": [
    "a += 1\n",
    "print(a)"
   ]
  },
  {
   "cell_type": "markdown",
   "metadata": {},
   "source": [
    "---\n",
    "Q. 문제 : 상품 가격을 90%로 세일한다."
   ]
  },
  {
   "cell_type": "code",
   "execution_count": 37,
   "metadata": {},
   "outputs": [
    {
     "ename": "NameError",
     "evalue": "name 'saleprice' is not defined",
     "output_type": "error",
     "traceback": [
      "\u001b[1;31m---------------------------------------------------------------------------\u001b[0m",
      "\u001b[1;31mNameError\u001b[0m                                 Traceback (most recent call last)",
      "\u001b[1;32m<ipython-input-37-67fb0faa1e5c>\u001b[0m in \u001b[0;36m<module>\u001b[1;34m\u001b[0m\n\u001b[1;32m----> 1\u001b[1;33m \u001b[0msaleprice\u001b[0m \u001b[1;33m*=\u001b[0m \u001b[1;36m0.9\u001b[0m\u001b[1;33m\u001b[0m\u001b[1;33m\u001b[0m\u001b[0m\n\u001b[0m",
      "\u001b[1;31mNameError\u001b[0m: name 'saleprice' is not defined"
     ]
    }
   ],
   "source": [
    "saleprice *= 0.9"
   ]
  },
  {
   "cell_type": "code",
   "execution_count": 45,
   "metadata": {},
   "outputs": [
    {
     "ename": "TypeError",
     "evalue": "can only concatenate str (not \"int\") to str",
     "output_type": "error",
     "traceback": [
      "\u001b[1;31m---------------------------------------------------------------------------\u001b[0m",
      "\u001b[1;31mTypeError\u001b[0m                                 Traceback (most recent call last)",
      "\u001b[1;32m<ipython-input-45-9b9ce6f94da1>\u001b[0m in \u001b[0;36m<module>\u001b[1;34m\u001b[0m\n\u001b[1;32m----> 1\u001b[1;33m \u001b[0mprint\u001b[0m\u001b[1;33m(\u001b[0m\u001b[1;34m\"korea\"\u001b[0m\u001b[1;33m+\u001b[0m\u001b[1;36m2002\u001b[0m\u001b[1;33m)\u001b[0m\u001b[1;33m\u001b[0m\u001b[1;33m\u001b[0m\u001b[0m\n\u001b[0m",
      "\u001b[1;31mTypeError\u001b[0m: can only concatenate str (not \"int\") to str"
     ]
    }
   ],
   "source": [
    "print(\"korea\"+2002)"
   ]
  },
  {
   "cell_type": "code",
   "execution_count": 46,
   "metadata": {},
   "outputs": [
    {
     "name": "stdout",
     "output_type": "stream",
     "text": [
      "korea2002\n"
     ]
    }
   ],
   "source": [
    "print(\"korea\"+str(2002))"
   ]
  },
  {
   "cell_type": "code",
   "execution_count": 47,
   "metadata": {},
   "outputs": [
    {
     "ename": "TypeError",
     "evalue": "unsupported operand type(s) for +: 'int' and 'str'",
     "output_type": "error",
     "traceback": [
      "\u001b[1;31m---------------------------------------------------------------------------\u001b[0m",
      "\u001b[1;31mTypeError\u001b[0m                                 Traceback (most recent call last)",
      "\u001b[1;32m<ipython-input-47-7bb583b97901>\u001b[0m in \u001b[0;36m<module>\u001b[1;34m\u001b[0m\n\u001b[1;32m----> 1\u001b[1;33m \u001b[0mprint\u001b[0m\u001b[1;33m(\u001b[0m\u001b[1;36m10\u001b[0m \u001b[1;33m+\u001b[0m \u001b[1;34m\"22\"\u001b[0m\u001b[1;33m)\u001b[0m\u001b[1;33m\u001b[0m\u001b[1;33m\u001b[0m\u001b[0m\n\u001b[0m",
      "\u001b[1;31mTypeError\u001b[0m: unsupported operand type(s) for +: 'int' and 'str'"
     ]
    }
   ],
   "source": [
    "print(10 + \"22\")"
   ]
  },
  {
   "cell_type": "code",
   "execution_count": 49,
   "metadata": {},
   "outputs": [
    {
     "name": "stdout",
     "output_type": "stream",
     "text": [
      "32\n"
     ]
    }
   ],
   "source": [
    "print(10 + int(\"22\"))"
   ]
  },
  {
   "cell_type": "code",
   "execution_count": 50,
   "metadata": {},
   "outputs": [
    {
     "ename": "ValueError",
     "evalue": "invalid literal for int() with base 10: '22%'",
     "output_type": "error",
     "traceback": [
      "\u001b[1;31m---------------------------------------------------------------------------\u001b[0m",
      "\u001b[1;31mValueError\u001b[0m                                Traceback (most recent call last)",
      "\u001b[1;32m<ipython-input-50-3584cd8cfdc8>\u001b[0m in \u001b[0;36m<module>\u001b[1;34m\u001b[0m\n\u001b[1;32m----> 1\u001b[1;33m \u001b[0mprint\u001b[0m\u001b[1;33m(\u001b[0m\u001b[1;36m10\u001b[0m \u001b[1;33m+\u001b[0m \u001b[0mint\u001b[0m\u001b[1;33m(\u001b[0m\u001b[1;34m\"22%\"\u001b[0m\u001b[1;33m)\u001b[0m\u001b[1;33m)\u001b[0m\u001b[1;33m\u001b[0m\u001b[1;33m\u001b[0m\u001b[0m\n\u001b[0m",
      "\u001b[1;31mValueError\u001b[0m: invalid literal for int() with base 10: '22%'"
     ]
    }
   ],
   "source": [
    "print(10 + int(\"22%\"))    # 덧셈은 정수 + 정수"
   ]
  },
  {
   "cell_type": "code",
   "execution_count": 52,
   "metadata": {},
   "outputs": [
    {
     "ename": "ValueError",
     "evalue": "invalid literal for int() with base 10: '22.5'",
     "output_type": "error",
     "traceback": [
      "\u001b[1;31m---------------------------------------------------------------------------\u001b[0m",
      "\u001b[1;31mValueError\u001b[0m                                Traceback (most recent call last)",
      "\u001b[1;32m<ipython-input-52-f85db9b2dce6>\u001b[0m in \u001b[0;36m<module>\u001b[1;34m\u001b[0m\n\u001b[1;32m----> 1\u001b[1;33m \u001b[0mprint\u001b[0m\u001b[1;33m(\u001b[0m\u001b[1;36m10\u001b[0m \u001b[1;33m+\u001b[0m \u001b[0mint\u001b[0m\u001b[1;33m(\u001b[0m\u001b[1;34m\"22.5\"\u001b[0m\u001b[1;33m)\u001b[0m\u001b[1;33m)\u001b[0m\u001b[1;33m\u001b[0m\u001b[1;33m\u001b[0m\u001b[0m\n\u001b[0m",
      "\u001b[1;31mValueError\u001b[0m: invalid literal for int() with base 10: '22.5'"
     ]
    }
   ],
   "source": [
    "print(10 + int(\"22.5\"))   # 22.5는 정수가 X"
   ]
  },
  {
   "cell_type": "code",
   "execution_count": 53,
   "metadata": {},
   "outputs": [
    {
     "name": "stdout",
     "output_type": "stream",
     "text": [
      "36\n"
     ]
    }
   ],
   "source": [
    "print(10+0x1a)"
   ]
  },
  {
   "cell_type": "code",
   "execution_count": 55,
   "metadata": {},
   "outputs": [
    {
     "name": "stdout",
     "output_type": "stream",
     "text": [
      "32.5\n"
     ]
    }
   ],
   "source": [
    "print(10 + float(\"22.5\"))   # 22.5는 실수. 실수 = float"
   ]
  },
  {
   "cell_type": "code",
   "execution_count": 56,
   "metadata": {},
   "outputs": [
    {
     "name": "stdout",
     "output_type": "stream",
     "text": [
      "32\n"
     ]
    }
   ],
   "source": [
    "print(10 + int(float(\"22.5\")))"
   ]
  },
  {
   "cell_type": "code",
   "execution_count": 59,
   "metadata": {},
   "outputs": [
    {
     "name": "stdout",
     "output_type": "stream",
     "text": [
      "2\n",
      "3\n",
      "2.5\n",
      "123000\n"
     ]
    }
   ],
   "source": [
    "# round 함수는 실수를 반올림\n",
    "\n",
    "print(int(2.54))\n",
    "print(round(2.54))\n",
    "print(round(2.54, 1))\n",
    "print(round(123456, -3))"
   ]
  },
  {
   "cell_type": "code",
   "execution_count": 62,
   "metadata": {},
   "outputs": [
    {
     "name": "stdout",
     "output_type": "stream",
     "text": [
      "7\n"
     ]
    }
   ],
   "source": [
    "a = 1 + 2 * 3\n",
    "print(a)"
   ]
  },
  {
   "cell_type": "code",
   "execution_count": 63,
   "metadata": {},
   "outputs": [
    {
     "name": "stdout",
     "output_type": "stream",
     "text": [
      "9\n"
     ]
    }
   ],
   "source": [
    "a = (1 + 2) * 3\n",
    "print(a)"
   ]
  },
  {
   "cell_type": "markdown",
   "metadata": {},
   "source": [
    "---\n",
    "Q. 문제 : name 변수에 이름이 저장되어 있고 score 변수에 점수가 저장되어 있다. 이 두 변수로부터 \"홍길동 98점\"이라는 문자열로 조립한다 "
   ]
  },
  {
   "cell_type": "code",
   "execution_count": 68,
   "metadata": {},
   "outputs": [
    {
     "name": "stdout",
     "output_type": "stream",
     "text": [
      "이름을 입력하세요 : 송승은\n",
      "점수를 입력하세요 : 100\n",
      "송승은100점\n"
     ]
    }
   ],
   "source": [
    "name = input(\"이름을 입력하세요 : \")\n",
    "score = input(\"점수를 입력하세요 : \")\n",
    "print(name+str(score)+\"점\")"
   ]
  },
  {
   "cell_type": "markdown",
   "metadata": {},
   "source": [
    "# 5장. 조건문"
   ]
  },
  {
   "cell_type": "markdown",
   "metadata": {},
   "source": [
    "## 5-1. if문"
   ]
  },
  {
   "cell_type": "code",
   "execution_count": 1,
   "metadata": {},
   "outputs": [
    {
     "name": "stdout",
     "output_type": "stream",
     "text": [
      "너 몇살이니? 18\n",
      "애들은 가라\n"
     ]
    }
   ],
   "source": [
    "age = int(input(\"너 몇살이니? \"))\n",
    "if age < 19 :\n",
    "    print(\"애들은 가라\")"
   ]
  },
  {
   "cell_type": "markdown",
   "metadata": {},
   "source": [
    "==\n",
    "!=\n",
    "<\n",
    ">\n",
    "<=\n",
    ">="
   ]
  },
  {
   "cell_type": "code",
   "execution_count": 2,
   "metadata": {},
   "outputs": [
    {
     "name": "stdout",
     "output_type": "stream",
     "text": [
      "3이다\n",
      "5보다 작다\n"
     ]
    }
   ],
   "source": [
    "a = 3\n",
    "if a == 3 :\n",
    "    print(\"3이다\")\n",
    "if a > 5 :\n",
    "    print(\"5보다 크다\")\n",
    "if a < 5 :\n",
    "    print(\"5보다 작다\")"
   ]
  },
  {
   "cell_type": "code",
   "execution_count": 7,
   "metadata": {},
   "outputs": [
    {
     "name": "stdout",
     "output_type": "stream",
     "text": [
      "한국입니다\n",
      "대한민국입니다.\n"
     ]
    }
   ],
   "source": [
    "country = \"Korea\"\n",
    "if country == \"Korea\":\n",
    "    print(\"한국입니다\")\n",
    "if country == \"Korea\":\n",
    "    print(\"대한민국입니다.\")"
   ]
  },
  {
   "cell_type": "code",
   "execution_count": 10,
   "metadata": {},
   "outputs": [
    {
     "name": "stdout",
     "output_type": "stream",
     "text": [
      "한국이 더 크다\n"
     ]
    }
   ],
   "source": [
    "# 사전의 더 뒤쪽에 나오는 문자열을 큰 것으로 평가한다\n",
    "\n",
    "if (\"Korea\" > \"Japan\"):\n",
    "    print(\"한국이 더 크다\")\n",
    "if (\"Korea\" < \"Japan\") :\n",
    "    print(\"일본이 더 크다\")"
   ]
  },
  {
   "cell_type": "code",
   "execution_count": 13,
   "metadata": {},
   "outputs": [
    {
     "name": "stdout",
     "output_type": "stream",
     "text": [
      "열심히 싸운다\n"
     ]
    }
   ],
   "source": [
    "# 숫자 - 0이 아닌 숫자(True) / 0 (False),  \n",
    "# 문자열 - 비어있지 않은 상태(True) / \"\" (False) ,  \n",
    "# 리스트 튜플 딕셔너리 - 비어있지 않은 상태(True) / 빈 상태(False)\n",
    "\n",
    "energy = 1\n",
    "if energy:\n",
    "    print(\"열심히 싸운다\")"
   ]
  },
  {
   "cell_type": "code",
   "execution_count": 14,
   "metadata": {},
   "outputs": [
    {
     "name": "stdout",
     "output_type": "stream",
     "text": [
      "OK\n"
     ]
    }
   ],
   "source": [
    "# andrange\n",
    "\n",
    "a = 3\n",
    "if a > 1 and a < 10 :\n",
    "    print(\"OK\")"
   ]
  },
  {
   "cell_type": "code",
   "execution_count": 15,
   "metadata": {},
   "outputs": [
    {
     "name": "stdout",
     "output_type": "stream",
     "text": [
      "OK\n"
     ]
    }
   ],
   "source": [
    "a = 3\n",
    "if 1 < a < 10 :\n",
    "    print(\"OK\")"
   ]
  },
  {
   "cell_type": "markdown",
   "metadata": {},
   "source": [
    "## 5-2. 블록 구조 : 조건문이 참일 때 실행할 명령이 2개 이상이면 아래쪽으로 명령을 계속 나열"
   ]
  },
  {
   "cell_type": "code",
   "execution_count": 16,
   "metadata": {},
   "outputs": [
    {
     "name": "stdout",
     "output_type": "stream",
     "text": [
      "애들은 가라\n",
      "공부 열심히 해야지\n"
     ]
    }
   ],
   "source": [
    "age = 16\n",
    "if age < 19:\n",
    "    print(\"애들은 가라\")\n",
    "    print(\"공부 열심히 해야지\")"
   ]
  },
  {
   "cell_type": "code",
   "execution_count": 18,
   "metadata": {},
   "outputs": [
    {
     "name": "stdout",
     "output_type": "stream",
     "text": [
      "공부 열심히 해야지\n"
     ]
    }
   ],
   "source": [
    "age = 22\n",
    "if age < 19 :\n",
    "    print(\"애들은 가라\")      # 블록\n",
    "print(\"공부 열심히 해야지\")   # 블록 외부의 명령"
   ]
  },
  {
   "cell_type": "code",
   "execution_count": 19,
   "metadata": {},
   "outputs": [
    {
     "name": "stdout",
     "output_type": "stream",
     "text": [
      "어서 옵쇼\n"
     ]
    }
   ],
   "source": [
    "age = 22\n",
    "if age < 19 :\n",
    "    print(\"애들은 가라\")\n",
    "else :\n",
    "    print(\"어서 옵쇼\")"
   ]
  },
  {
   "cell_type": "code",
   "execution_count": 20,
   "metadata": {},
   "outputs": [
    {
     "name": "stdout",
     "output_type": "stream",
     "text": [
      "애들은 가라\n",
      "공부 열심히 해야지\n"
     ]
    }
   ],
   "source": [
    "age = 12\n",
    "if age < 19 :\n",
    "    print(\"애들은 가라\")\n",
    "    print(\"공부 열심히 해야지\")\n",
    "else:\n",
    "    print(\"어서 옵쇼\")\n",
    "    print(\"즐거운 시간 되세요\")"
   ]
  },
  {
   "cell_type": "code",
   "execution_count": 21,
   "metadata": {},
   "outputs": [
    {
     "name": "stdout",
     "output_type": "stream",
     "text": [
      "대학생입니다.\n"
     ]
    }
   ],
   "source": [
    "age = 23\n",
    "if age < 19:\n",
    "    print(\"애들은 가라\")\n",
    "elif age < 25:\n",
    "    print(\"대학생입니다.\")\n",
    "else:\n",
    "    print(\"어서 옵쇼\")"
   ]
  },
  {
   "cell_type": "code",
   "execution_count": 22,
   "metadata": {},
   "outputs": [
    {
     "name": "stdout",
     "output_type": "stream",
     "text": [
      "대학생입니다\n"
     ]
    }
   ],
   "source": [
    "age = 23\n",
    "if age < 19:\n",
    "    print(\"애들은 가라\")\n",
    "else:\n",
    "    if age < 25:\n",
    "        print(\"대학생입니다\")\n",
    "    else:\n",
    "        print(\"어서 옵쇼\")"
   ]
  },
  {
   "cell_type": "code",
   "execution_count": 23,
   "metadata": {},
   "outputs": [
    {
     "name": "stdout",
     "output_type": "stream",
     "text": [
      "짬뽕을 먹는다\n"
     ]
    }
   ],
   "source": [
    "money = 6500\n",
    "if money >= 20000:\n",
    "    print(\"탕수육을 먹는다\")\n",
    "elif money >= 10000:\n",
    "    print(\"쟁반 짜장을 먹는다\")\n",
    "elif money >= 6000:\n",
    "    print(\"짬뽕을 먹는다\")\n",
    "elif money >= 4000:\n",
    "    print(\"짜장면을 먹는다\")\n",
    "else:\n",
    "    print(\"단무지를 먹는다\")"
   ]
  },
  {
   "cell_type": "code",
   "execution_count": 24,
   "metadata": {},
   "outputs": [
    {
     "name": "stdout",
     "output_type": "stream",
     "text": [
      "짬뽕을 먹는다\n"
     ]
    }
   ],
   "source": [
    "money = 6500\n",
    "if money >= 20000:\n",
    "    print(\"탕수육을 먹는다\")\n",
    "else:\n",
    "    if money >= 10000:\n",
    "        print(\"쟁반 짜장을 먹는다\")\n",
    "    else:\n",
    "        if money >= 6000:\n",
    "            print(\"짬뽕을 먹는다\")\n",
    "        else:\n",
    "            if money >= 4000:\n",
    "                print(\"짜장면을 먹는다\")\n",
    "            else:\n",
    "                print(\"단무지를 먹는다\")"
   ]
  },
  {
   "cell_type": "code",
   "execution_count": 26,
   "metadata": {},
   "outputs": [
    {
     "name": "stdout",
     "output_type": "stream",
     "text": [
      "성인 남자입니다\n"
     ]
    }
   ],
   "source": [
    "man = True\n",
    "age = 22\n",
    "if man == True:\n",
    "    if age >= 19:\n",
    "        print(\"성인 남자입니다\")"
   ]
  },
  {
   "cell_type": "code",
   "execution_count": 27,
   "metadata": {},
   "outputs": [
    {
     "name": "stdout",
     "output_type": "stream",
     "text": [
      "성인 남자입니다\n"
     ]
    }
   ],
   "source": [
    "if man == True and age >= 19:\n",
    "    print(\"성인 남자입니다\")"
   ]
  },
  {
   "cell_type": "markdown",
   "metadata": {},
   "source": [
    "---\n",
    "Q. 문제 : 점수를 입력받은 후 80점 이상이면 합격, 80점 미만이면 불합격을 출력하라"
   ]
  },
  {
   "cell_type": "code",
   "execution_count": 29,
   "metadata": {},
   "outputs": [
    {
     "name": "stdout",
     "output_type": "stream",
     "text": [
      "점수를 입력하시오 : 78\n",
      "불합격\n"
     ]
    }
   ],
   "source": [
    "exam = int(input(\"점수를 입력하시오 : \"))\n",
    "if exam >= 80:\n",
    "    print(\"합격\")\n",
    "else:\n",
    "    print(\"불합격\")"
   ]
  },
  {
   "cell_type": "markdown",
   "metadata": {},
   "source": [
    "---\n",
    "Q. 문제 : 한국의 수도는 어디인지 질문 후 입력받아 정답을 맞추었으면 정답이라는 메시지를 출력하고 축하한다는 메시지도 같이 출력하라. 정답이 아니면 아무것도 하지 않는다"
   ]
  },
  {
   "cell_type": "code",
   "execution_count": 30,
   "metadata": {},
   "outputs": [
    {
     "name": "stdout",
     "output_type": "stream",
     "text": [
      "한국의 수도는 어디인가 : 서울\n",
      "정답\n",
      "축하합니다\n"
     ]
    }
   ],
   "source": [
    "exam = input(\"한국의 수도는 어디인가 : \")\n",
    "if exam == \"서울\":\n",
    "    print(\"정답\")\n",
    "    print(\"축하합니다\")"
   ]
  },
  {
   "cell_type": "markdown",
   "metadata": {},
   "source": [
    "---\n",
    "Q. 문제 : age와 height 변수가 주어졌을 때 8세 이상이고, 키 100 이상인 경우만 놀이기구를 탈 수 있다는 조건문을 작성하라"
   ]
  },
  {
   "cell_type": "code",
   "execution_count": 34,
   "metadata": {},
   "outputs": [
    {
     "name": "stdout",
     "output_type": "stream",
     "text": [
      "놀이기구를 탈 수 있습니다\n"
     ]
    }
   ],
   "source": [
    "age = 8\n",
    "height = 100\n",
    "if age >= 8 and height >= 100 :\n",
    "    print(\"놀이기구를 탈 수 있습니다\")"
   ]
  },
  {
   "cell_type": "markdown",
   "metadata": {},
   "source": [
    "---\n",
    "Q. 문제 : dir 변수에는 \"동\", \"서\", \"남\", \"북\" 넷 중 하나의 방향 값이 들어간다. 이 변수의 값에 따라 서울에서 각 방향에 있는 도시 하나를 출력하는 프로그램을 작성하라. 엉뚱한 값이 들어 있으면 에러 처리한다."
   ]
  },
  {
   "cell_type": "code",
   "execution_count": 35,
   "metadata": {},
   "outputs": [
    {
     "name": "stdout",
     "output_type": "stream",
     "text": [
      "동, 서, 남, 북 중 하나를 입력하세요 : 동\n",
      "울릉도\n"
     ]
    }
   ],
   "source": [
    "dir = input(\"동, 서, 남, 북 중 하나를 입력하세요 : \")\n",
    "if dir == \"동\":\n",
    "    print(\"울릉도\")\n",
    "elif dir == \"서\":\n",
    "    print(\"인천\")\n",
    "elif dir == \"남\":\n",
    "    print(\"거제도\")\n",
    "elif dir == \"북\":\n",
    "    print(\"북한\")\n",
    "else:\n",
    "    print(\"ERROR\")"
   ]
  },
  {
   "cell_type": "markdown",
   "metadata": {},
   "source": [
    "---\n",
    "Q. 문제 : 정수 하나를 입력받아 5의 배수인지 조사하여 그 결과를 출력하라"
   ]
  },
  {
   "cell_type": "code",
   "execution_count": 38,
   "metadata": {},
   "outputs": [
    {
     "name": "stdout",
     "output_type": "stream",
     "text": [
      "정수 하나를 입력하시요 : 88\n",
      "5의 배수가 아닙니다\n"
     ]
    }
   ],
   "source": [
    "a = int(input(\"정수 하나를 입력하시요 : \"))\n",
    "if a % 5 == 0:\n",
    "    print(\"5의 배수입니다\")\n",
    "else:\n",
    "    print(\"5의 배수가 아닙니다\")"
   ]
  },
  {
   "cell_type": "markdown",
   "metadata": {},
   "source": [
    "---\n",
    "Q. 문제 : 서울우유는 1리터에 2500원이고 매일우유는 1.8리터에 4200원이다. 용량대비 어떤 우유가 더 싼지 계산 및 판단하여 결과를 출력하라"
   ]
  },
  {
   "cell_type": "code",
   "execution_count": 39,
   "metadata": {},
   "outputs": [
    {
     "name": "stdout",
     "output_type": "stream",
     "text": [
      "매일우유가 더 저렴합니다\n"
     ]
    }
   ],
   "source": [
    "seoul_milk = 2500 / 1000\n",
    "maeil_milk = 4200 / 1800\n",
    "if seoul_milk > maeil_milk :\n",
    "    print(\"매일우유가 더 저렴합니다\")\n",
    "else:\n",
    "    print(\"서울우유가 더 저렴합니다\")"
   ]
  },
  {
   "cell_type": "markdown",
   "metadata": {},
   "source": [
    "# 6장. 반복문"
   ]
  },
  {
   "cell_type": "markdown",
   "metadata": {},
   "source": [
    "## 6-1. 반복문"
   ]
  },
  {
   "cell_type": "code",
   "execution_count": 40,
   "metadata": {},
   "outputs": [
    {
     "name": "stdout",
     "output_type": "stream",
     "text": [
      "1 번 학생의 성적을 처리한다.\n",
      "2 번 학생의 성적을 처리한다.\n",
      "3 번 학생의 성적을 처리한다.\n",
      "4 번 학생의 성적을 처리한다.\n",
      "5 번 학생의 성적을 처리한다.\n"
     ]
    }
   ],
   "source": [
    "student = 1\n",
    "while student <= 5:\n",
    "    print(student, \"번 학생의 성적을 처리한다.\")\n",
    "    student += 1"
   ]
  },
  {
   "cell_type": "code",
   "execution_count": 41,
   "metadata": {},
   "outputs": [
    {
     "name": "stdout",
     "output_type": "stream",
     "text": [
      "sum = 5050\n"
     ]
    }
   ],
   "source": [
    "# 1 ~ 100까지의 정수 합계를 구한다\n",
    "\n",
    "num = 1\n",
    "sum = 0\n",
    "while num <= 100:\n",
    "    sum += num\n",
    "    num += 1\n",
    "print(\"sum =\", sum)"
   ]
  },
  {
   "cell_type": "code",
   "execution_count": 44,
   "metadata": {},
   "outputs": [
    {
     "name": "stdout",
     "output_type": "stream",
     "text": [
      "sum = 16875\n"
     ]
    }
   ],
   "source": [
    "# 150 ~300의 모든 홀수 합을 구하라\n",
    "\n",
    "num = 151\n",
    "sum = 0\n",
    "while num <= 300:\n",
    "    sum += num\n",
    "    num += 2\n",
    "print(\"sum =\", sum)"
   ]
  },
  {
   "cell_type": "code",
   "execution_count": 45,
   "metadata": {},
   "outputs": [
    {
     "name": "stdout",
     "output_type": "stream",
     "text": [
      "1 번 학생의 성적을 처리한다.\n",
      "2 번 학생의 성적을 처리한다.\n",
      "3 번 학생의 성적을 처리한다.\n",
      "4 번 학생의 성적을 처리한다.\n",
      "5 번 학생의 성적을 처리한다.\n"
     ]
    }
   ],
   "source": [
    "for student in [1, 2, 3, 4, 5]:\n",
    "    print(student, \"번 학생의 성적을 처리한다.\")"
   ]
  },
  {
   "cell_type": "code",
   "execution_count": 46,
   "metadata": {},
   "outputs": [
    {
     "name": "stdout",
     "output_type": "stream",
     "text": [
      "sum= 5050\n"
     ]
    }
   ],
   "source": [
    "sum = 0\n",
    "for num in range(1, 101):\n",
    "    sum += num\n",
    "print(\"sum=\", sum)"
   ]
  },
  {
   "cell_type": "code",
   "execution_count": 48,
   "metadata": {},
   "outputs": [
    {
     "name": "stdout",
     "output_type": "stream",
     "text": [
      "sum= 2550\n"
     ]
    }
   ],
   "source": [
    "sum = 0\n",
    "for num in range(2, 101, 2):\n",
    "    sum += num\n",
    "print(\"sum=\",sum)"
   ]
  },
  {
   "cell_type": "code",
   "execution_count": 49,
   "metadata": {},
   "outputs": [
    {
     "name": "stdout",
     "output_type": "stream",
     "text": [
      "이 문장을 반복합니다.\n",
      "이 문장을 반복합니다.\n",
      "이 문장을 반복합니다.\n",
      "이 문장을 반복합니다.\n",
      "이 문장을 반복합니다.\n"
     ]
    }
   ],
   "source": [
    "for a in range(5):\n",
    "    print(\"이 문장을 반복합니다.\")"
   ]
  },
  {
   "cell_type": "markdown",
   "metadata": {},
   "source": [
    "---\n",
    "Q. 문제 : ---------+---------+---------+---------+---------+      (10칸마다 + 출력)"
   ]
  },
  {
   "cell_type": "code",
   "execution_count": 52,
   "metadata": {},
   "outputs": [
    {
     "name": "stdout",
     "output_type": "stream",
     "text": [
      "---------+---------+---------+---------+---------+"
     ]
    }
   ],
   "source": [
    "for x in range(1,51):\n",
    "    if x % 10 == 0:\n",
    "        print(\"+\", end=\"\")\n",
    "    else:\n",
    "        print(\"-\", end=\"\")\n"
   ]
  },
  {
   "cell_type": "code",
   "execution_count": 53,
   "metadata": {},
   "outputs": [
    {
     "name": "stdout",
     "output_type": "stream",
     "text": [
      "---------+---------+---------+---------+---------+"
     ]
    }
   ],
   "source": [
    "for x in range(1,6):\n",
    "    print(\"-\"*9, end='')\n",
    "    print(\"+\", end='')"
   ]
  },
  {
   "cell_type": "code",
   "execution_count": 54,
   "metadata": {},
   "outputs": [
    {
     "name": "stdout",
     "output_type": "stream",
     "text": [
      "---------+---------+---------+---------+---------+"
     ]
    }
   ],
   "source": [
    "x = 1\n",
    "while x <= 50:\n",
    "    if x % 10 :\n",
    "        print(\"-\", end='')\n",
    "    else:\n",
    "        print(\"+\", end='')\n",
    "    x += 1"
   ]
  },
  {
   "cell_type": "markdown",
   "metadata": {},
   "source": [
    "---\n",
    "Q. 문제 : 리스트에 저장된 학생 다섯 명의 성적을 출력한다. 성적 데이터가 항상 정확하다면 루프를 끝까지 실행하겠지만 오류가 발생할 수도 있다. 4번째 학생의 성적인 120은 정상적인 성적이 아니다. 성적은 음수가 될 수 없고 100보다 커서도 안 된다.\n",
    "score = [92, 86, 68, 120, 56]"
   ]
  },
  {
   "cell_type": "code",
   "execution_count": 57,
   "metadata": {},
   "outputs": [
    {
     "name": "stdout",
     "output_type": "stream",
     "text": [
      "92\n",
      "86\n",
      "68\n",
      "성적처리 끝\n"
     ]
    }
   ],
   "source": [
    "score = [92, 86, 68, 120, 56]\n",
    "for s in score:\n",
    "    if s < 0 or s > 100:\n",
    "        break\n",
    "    print(s)\n",
    "print('성적처리 끝')"
   ]
  },
  {
   "cell_type": "code",
   "execution_count": 59,
   "metadata": {},
   "outputs": [
    {
     "name": "stdout",
     "output_type": "stream",
     "text": [
      "92\n",
      "86\n",
      "68\n",
      "56\n",
      "성적처리 끝\n"
     ]
    }
   ],
   "source": [
    "for s in score:\n",
    "    if s < 0 or s > 100 :\n",
    "        continue\n",
    "    print(s)\n",
    "print('성적처리 끝')"
   ]
  },
  {
   "cell_type": "markdown",
   "metadata": {},
   "source": [
    "## 6-2. 루프의 활용"
   ]
  },
  {
   "cell_type": "markdown",
   "metadata": {},
   "source": [
    "---\n",
    "Q. 문제 : 구구단 만들기"
   ]
  },
  {
   "cell_type": "code",
   "execution_count": 63,
   "metadata": {
    "scrolled": true
   },
   "outputs": [
    {
     "name": "stdout",
     "output_type": "stream",
     "text": [
      "2 단\n",
      "2 * 1 = 2\n",
      "2 * 2 = 4\n",
      "2 * 3 = 6\n",
      "2 * 4 = 8\n",
      "2 * 5 = 10\n",
      "2 * 6 = 12\n",
      "2 * 7 = 14\n",
      "2 * 8 = 16\n",
      "2 * 9 = 18\n",
      "\n",
      "3 단\n",
      "3 * 1 = 3\n",
      "3 * 2 = 6\n",
      "3 * 3 = 9\n",
      "3 * 4 = 12\n",
      "3 * 5 = 15\n",
      "3 * 6 = 18\n",
      "3 * 7 = 21\n",
      "3 * 8 = 24\n",
      "3 * 9 = 27\n",
      "\n",
      "4 단\n",
      "4 * 1 = 4\n",
      "4 * 2 = 8\n",
      "4 * 3 = 12\n",
      "4 * 4 = 16\n",
      "4 * 5 = 20\n",
      "4 * 6 = 24\n",
      "4 * 7 = 28\n",
      "4 * 8 = 32\n",
      "4 * 9 = 36\n",
      "\n",
      "5 단\n",
      "5 * 1 = 5\n",
      "5 * 2 = 10\n",
      "5 * 3 = 15\n",
      "5 * 4 = 20\n",
      "5 * 5 = 25\n",
      "5 * 6 = 30\n",
      "5 * 7 = 35\n",
      "5 * 8 = 40\n",
      "5 * 9 = 45\n",
      "\n",
      "6 단\n",
      "6 * 1 = 6\n",
      "6 * 2 = 12\n",
      "6 * 3 = 18\n",
      "6 * 4 = 24\n",
      "6 * 5 = 30\n",
      "6 * 6 = 36\n",
      "6 * 7 = 42\n",
      "6 * 8 = 48\n",
      "6 * 9 = 54\n",
      "\n",
      "7 단\n",
      "7 * 1 = 7\n",
      "7 * 2 = 14\n",
      "7 * 3 = 21\n",
      "7 * 4 = 28\n",
      "7 * 5 = 35\n",
      "7 * 6 = 42\n",
      "7 * 7 = 49\n",
      "7 * 8 = 56\n",
      "7 * 9 = 63\n",
      "\n",
      "8 단\n",
      "8 * 1 = 8\n",
      "8 * 2 = 16\n",
      "8 * 3 = 24\n",
      "8 * 4 = 32\n",
      "8 * 5 = 40\n",
      "8 * 6 = 48\n",
      "8 * 7 = 56\n",
      "8 * 8 = 64\n",
      "8 * 9 = 72\n",
      "\n",
      "9 단\n",
      "9 * 1 = 9\n",
      "9 * 2 = 18\n",
      "9 * 3 = 27\n",
      "9 * 4 = 36\n",
      "9 * 5 = 45\n",
      "9 * 6 = 54\n",
      "9 * 7 = 63\n",
      "9 * 8 = 72\n",
      "9 * 9 = 81\n",
      "\n"
     ]
    }
   ],
   "source": [
    "for dan in range(2,10):\n",
    "    print(dan,\"단\")\n",
    "    for hang in range(1,10):\n",
    "        print(dan, \"*\", hang, \"=\", dan * hang)\n",
    "    print()"
   ]
  },
  {
   "cell_type": "code",
   "execution_count": 65,
   "metadata": {
    "scrolled": true
   },
   "outputs": [
    {
     "name": "stdout",
     "output_type": "stream",
     "text": [
      "2 단\n",
      "2 * 1 = 2\n",
      "2 * 2 = 4\n",
      "2 * 3 = 6\n",
      "2 * 4 = 8\n",
      "2 * 5 = 10\n",
      "2 * 6 = 12\n",
      "2 * 7 = 14\n",
      "2 * 8 = 16\n",
      "2 * 9 = 18\n",
      "\n",
      "3 단\n",
      "3 * 1 = 3\n",
      "3 * 2 = 6\n",
      "3 * 3 = 9\n",
      "3 * 4 = 12\n",
      "3 * 5 = 15\n",
      "3 * 6 = 18\n",
      "3 * 7 = 21\n",
      "3 * 8 = 24\n",
      "3 * 9 = 27\n",
      "\n",
      "4 단\n",
      "4 * 1 = 4\n",
      "4 * 2 = 8\n",
      "4 * 3 = 12\n",
      "4 * 4 = 16\n",
      "4 * 5 = 20\n",
      "4 * 6 = 24\n",
      "4 * 7 = 28\n",
      "4 * 8 = 32\n",
      "4 * 9 = 36\n",
      "\n",
      "5 단\n",
      "5 * 1 = 5\n",
      "5 * 2 = 10\n",
      "5 * 3 = 15\n",
      "5 * 4 = 20\n",
      "5 * 5 = 25\n",
      "5 * 6 = 30\n",
      "5 * 7 = 35\n",
      "5 * 8 = 40\n",
      "5 * 9 = 45\n",
      "\n",
      "6 단\n",
      "6 * 1 = 6\n",
      "6 * 2 = 12\n",
      "6 * 3 = 18\n",
      "6 * 4 = 24\n",
      "6 * 5 = 30\n",
      "6 * 6 = 36\n",
      "6 * 7 = 42\n",
      "6 * 8 = 48\n",
      "6 * 9 = 54\n",
      "\n",
      "7 단\n",
      "7 * 1 = 7\n",
      "7 * 2 = 14\n",
      "7 * 3 = 21\n",
      "7 * 4 = 28\n",
      "7 * 5 = 35\n",
      "7 * 6 = 42\n",
      "7 * 7 = 49\n",
      "7 * 8 = 56\n",
      "7 * 9 = 63\n",
      "\n",
      "8 단\n",
      "8 * 1 = 8\n",
      "8 * 2 = 16\n",
      "8 * 3 = 24\n",
      "8 * 4 = 32\n",
      "8 * 5 = 40\n",
      "8 * 6 = 48\n",
      "8 * 7 = 56\n",
      "8 * 8 = 64\n",
      "8 * 9 = 72\n",
      "\n",
      "9 단\n",
      "9 * 1 = 9\n",
      "9 * 2 = 18\n",
      "9 * 3 = 27\n",
      "9 * 4 = 36\n",
      "9 * 5 = 45\n",
      "9 * 6 = 54\n",
      "9 * 7 = 63\n",
      "9 * 8 = 72\n",
      "9 * 9 = 81\n",
      "\n"
     ]
    }
   ],
   "source": [
    "dan = 2\n",
    "while dan <= 9:\n",
    "    hang = 1\n",
    "    print(dan,\"단\")\n",
    "    while hang <= 9:\n",
    "        print(dan,\"*\",hang,\"=\",dan*hang)\n",
    "        hang += 1\n",
    "    print()    \n",
    "    dan += 1"
   ]
  },
  {
   "cell_type": "markdown",
   "metadata": {},
   "source": [
    "---\n",
    "Q. 문제 "
   ]
  },
  {
   "cell_type": "code",
   "execution_count": 78,
   "metadata": {},
   "outputs": [
    {
     "name": "stdout",
     "output_type": "stream",
     "text": [
      "*\n",
      "**\n",
      "***\n",
      "****\n",
      "*****\n",
      "******\n",
      "*******\n",
      "********\n",
      "*********\n"
     ]
    }
   ],
   "source": [
    "for i in range(1, 10):\n",
    "    for n in range(i):\n",
    "        print(\"*\",end='')\n",
    "    print()"
   ]
  },
  {
   "cell_type": "markdown",
   "metadata": {},
   "source": [
    "---\n",
    "Q. 문제 : 덧셈 문제를 출제하고 사용자로부터 정답을 입력받아 답을 체크한다"
   ]
  },
  {
   "cell_type": "code",
   "execution_count": 80,
   "metadata": {},
   "outputs": [
    {
     "name": "stdout",
     "output_type": "stream",
     "text": [
      "3 + 7 = ? \n",
      "정답을 입력하세요 :14\n",
      "정답을 입력하세요 :34\n",
      "정답을 입력하세요 :41\n",
      "정답을 입력하세요 :489\n",
      "정답을 입력하세요 :2\n",
      "정답을 입력하세요 :16\n",
      "정답을 입력하세요 :10\n",
      "참 잘했어요\n"
     ]
    }
   ],
   "source": [
    "print(\"3 + 7 = ? \")\n",
    "while True:\n",
    "    a = int(input(\"정답을 입력하세요 :\"))\n",
    "    if a == 3 + 7:\n",
    "        break\n",
    "print(\"참 잘했어요\")"
   ]
  },
  {
   "cell_type": "code",
   "execution_count": 82,
   "metadata": {},
   "outputs": [
    {
     "name": "stdout",
     "output_type": "stream",
     "text": [
      "0,1,2,3,4,5,6,7,8,9,\n",
      "10,11,12,13,14,15,16,17,18,19,\n",
      "20,21,22,23,24,25,26,27,28,29,\n",
      "30,31,32,33,34,35,36,37,38,39,\n",
      "40,41,42,43,44,45,46,47,48,49,\n"
     ]
    }
   ],
   "source": [
    "for ten in range(0,5):\n",
    "    for num in range(ten * 10, ten * 10 + 10):\n",
    "        print(num, end=',')\n",
    "    print()"
   ]
  },
  {
   "cell_type": "markdown",
   "metadata": {},
   "source": [
    "---\n",
    "Q. 문제 : while문을 사용하여 1에서 200까지 모든 3의 배수 합계를 계산하라"
   ]
  },
  {
   "cell_type": "code",
   "execution_count": 16,
   "metadata": {},
   "outputs": [
    {
     "name": "stdout",
     "output_type": "stream",
     "text": [
      "sum = 6633\n"
     ]
    }
   ],
   "source": [
    "num = 3\n",
    "sum = 0\n",
    "\n",
    "while num <= 200:\n",
    "    if num % 3 == 0:\n",
    "        sum += num\n",
    "        #print(sum)\n",
    "    else:\n",
    "        pass\n",
    "    num += 1\n",
    "    \n",
    "print(\"sum =\", sum)"
   ]
  },
  {
   "cell_type": "code",
   "execution_count": 15,
   "metadata": {},
   "outputs": [
    {
     "name": "stdout",
     "output_type": "stream",
     "text": [
      "sum = 6633\n"
     ]
    }
   ],
   "source": [
    "num =3\n",
    "sum = 0\n",
    "while num <= 200:\n",
    "    sum += num\n",
    "    num += 3\n",
    "print(\"sum =\", sum)"
   ]
  },
  {
   "cell_type": "markdown",
   "metadata": {},
   "source": [
    "---\n",
    "Q. 문제 : for 문으로 1에서 10까지 출력하되 3의 배수는 건너뛰는 예제를 작성하라"
   ]
  },
  {
   "cell_type": "code",
   "execution_count": 18,
   "metadata": {},
   "outputs": [
    {
     "name": "stdout",
     "output_type": "stream",
     "text": [
      "1,2,4,5,7,8,10,"
     ]
    }
   ],
   "source": [
    "for i in range(1,11):\n",
    "    if i % 3 == 0 :\n",
    "        pass\n",
    "    else:\n",
    "        print(i, end=',')"
   ]
  },
  {
   "cell_type": "code",
   "execution_count": 20,
   "metadata": {},
   "outputs": [
    {
     "name": "stdout",
     "output_type": "stream",
     "text": [
      "1,2,4,5,7,8,10,"
     ]
    }
   ],
   "source": [
    "for i in range(1,11):\n",
    "    if i % 3 == 0 :\n",
    "        continue\n",
    "    print(i, end=',')"
   ]
  },
  {
   "cell_type": "code",
   "execution_count": 31,
   "metadata": {},
   "outputs": [
    {
     "name": "stdout",
     "output_type": "stream",
     "text": [
      "         *\n",
      "        **\n",
      "       ***\n",
      "      ****\n",
      "     *****\n",
      "    ******\n",
      "   *******\n",
      "  ********\n",
      " *********\n",
      "**********\n"
     ]
    }
   ],
   "source": [
    "for i in range(1,11):\n",
    "    for x in range(10-i):\n",
    "        print(\" \",end='')\n",
    "    for y in range(i):\n",
    "        print(\"*\", end='')\n",
    "    print()"
   ]
  },
  {
   "cell_type": "code",
   "execution_count": 33,
   "metadata": {},
   "outputs": [
    {
     "name": "stdout",
     "output_type": "stream",
     "text": [
      "         *\n",
      "        ***\n",
      "       *****\n",
      "      *******\n",
      "     *********\n",
      "    ***********\n",
      "   *************\n",
      "  ***************\n",
      " *****************\n",
      "*******************\n"
     ]
    }
   ],
   "source": [
    "for i in range(1,11):\n",
    "    for x in range(10-i):\n",
    "        print(\" \", end='')\n",
    "    for y in range(2*i-1):\n",
    "        print(\"*\",end='')\n",
    "    print()"
   ]
  },
  {
   "cell_type": "markdown",
   "metadata": {},
   "source": [
    "# 7장. 함수"
   ]
  },
  {
   "cell_type": "markdown",
   "metadata": {},
   "source": [
    "## 7-1. 함수와 인수"
   ]
  },
  {
   "cell_type": "code",
   "execution_count": 2,
   "metadata": {},
   "outputs": [
    {
     "name": "stdout",
     "output_type": "stream",
     "text": [
      "~ 4 = 10\n",
      "~ 10 = 55\n"
     ]
    }
   ],
   "source": [
    "sum = 0\n",
    "for num in range(5):\n",
    "    sum += num\n",
    "print(\"~ 4 =\", sum)\n",
    "\n",
    "sum = 0\n",
    "for num in range(11):\n",
    "    sum += num\n",
    "print(\"~ 10 =\", sum)"
   ]
  },
  {
   "cell_type": "code",
   "execution_count": 3,
   "metadata": {},
   "outputs": [
    {
     "name": "stdout",
     "output_type": "stream",
     "text": [
      "~ 4 = 10\n",
      "~ 5 = 55\n"
     ]
    }
   ],
   "source": [
    "def calcsum(n):\n",
    "    sum = 0\n",
    "    for num in range(n+1):\n",
    "        sum += num\n",
    "    return sum\n",
    "\n",
    "print(\"~ 4 =\",calcsum(4))\n",
    "print(\"~ 5 =\", calcsum(10))"
   ]
  },
  {
   "cell_type": "code",
   "execution_count": 4,
   "metadata": {},
   "outputs": [
    {
     "name": "stdout",
     "output_type": "stream",
     "text": [
      "3 ~ 7 = 25\n"
     ]
    }
   ],
   "source": [
    "def calcrange(begin, end):\n",
    "    sum = 0\n",
    "    for num in range(begin, end+1):\n",
    "        sum += num\n",
    "    return sum\n",
    "\n",
    "print(\"3 ~ 7 =\",calcrange(3,7))"
   ]
  },
  {
   "cell_type": "markdown",
   "metadata": {},
   "source": [
    "### 리턴값"
   ]
  },
  {
   "cell_type": "markdown",
   "metadata": {},
   "source": [
    "return - 함수의 실행 결과를 보고하는 값. 리턴이 무조건 있어야 하는 것은 아님(print로 결과값 도출할 수도)\n",
    "\n",
    "But, print는 출력하는 것(수치X), return은 값(수치)를 내놓는 것.\n",
    "\n",
    "함수에서는 output이 return\n",
    "\n",
    "input(인수) -> function(함수) -> output(return)  *이렇게 define(정의)하는 것\n",
    "\n",
    "ex) def 함수명(인수) :\n",
    "\n",
    "        명령어\n",
    "        return 결과값(수치)\n",
    "        \n",
    "지역변수(함수 내) 전역변수(함수 밖에서 전체)"
   ]
  },
  {
   "cell_type": "code",
   "execution_count": 12,
   "metadata": {},
   "outputs": [
    {
     "name": "stdout",
     "output_type": "stream",
     "text": [
      "55\n"
     ]
    }
   ],
   "source": [
    "a = calcsum(10)\n",
    "print(calcsum(10))"
   ]
  },
  {
   "cell_type": "code",
   "execution_count": 13,
   "metadata": {},
   "outputs": [
    {
     "data": {
      "text/plain": [
       "5050"
      ]
     },
     "execution_count": 13,
     "metadata": {},
     "output_type": "execute_result"
    }
   ],
   "source": [
    "# 값을 리턴하는 함수의 호출문은 그 자체가 하나의 값. 때문에 수식 내에서 바로 사용 가능.\n",
    "calcsum(100)"
   ]
  },
  {
   "cell_type": "markdown",
   "metadata": {},
   "source": [
    "## 7-2. 인수의 형식"
   ]
  },
  {
   "cell_type": "markdown",
   "metadata": {},
   "source": [
    "### 가변인수 - 고정되지 않은 임의 개수의 인수를 받음\n",
    "\n",
    "* 기호를 인수 이름 앞에 붙임(인수 목록의 마지막에 와야 함)\n",
    "\n",
    "ex) intsum(s, *ints) - 가능 // (ints,s) : 가변-> 인수-에러 // (*ints, *nums) : 가변 -> 가변 -에러"
   ]
  },
  {
   "cell_type": "code",
   "execution_count": 26,
   "metadata": {},
   "outputs": [],
   "source": [
    "def intsum(*ints):\n",
    "    sum = 0\n",
    "    for num in ints:\n",
    "        sum += num\n",
    "    return sum"
   ]
  },
  {
   "cell_type": "code",
   "execution_count": 27,
   "metadata": {},
   "outputs": [
    {
     "name": "stdout",
     "output_type": "stream",
     "text": [
      "6\n",
      "45\n",
      "54\n"
     ]
    }
   ],
   "source": [
    "print(intsum(1,2,3))\n",
    "print(intsum(5,7,9,11,13))\n",
    "print(intsum(8,9,6,2,9,7,5,8))"
   ]
  },
  {
   "cell_type": "code",
   "execution_count": 30,
   "metadata": {},
   "outputs": [
    {
     "name": "stdout",
     "output_type": "stream",
     "text": [
      "220\n"
     ]
    }
   ],
   "source": [
    "print(intsum(110)*2)"
   ]
  },
  {
   "cell_type": "code",
   "execution_count": 17,
   "metadata": {},
   "outputs": [],
   "source": [
    "# return을 print로 한다면?\n",
    "\n",
    "def intsum(*ints):\n",
    "    sum = 0\n",
    "    for num in ints:\n",
    "        sum += num\n",
    "    print(sum)"
   ]
  },
  {
   "cell_type": "code",
   "execution_count": 21,
   "metadata": {},
   "outputs": [
    {
     "name": "stdout",
     "output_type": "stream",
     "text": [
      "6\n",
      "None\n"
     ]
    }
   ],
   "source": [
    "print(intsum(1,2,3))\n",
    "# 6값은 intsum함수 안의 print 값/ print(함수)에서 출력 None은 .값과 수치는 없으니까 없는데 출력해달라고 하니까 none"
   ]
  },
  {
   "cell_type": "code",
   "execution_count": 23,
   "metadata": {
    "scrolled": false
   },
   "outputs": [
    {
     "name": "stdout",
     "output_type": "stream",
     "text": [
      "6\n"
     ]
    }
   ],
   "source": [
    "intsum(1,2,3)   # intsum 함수 안의 print 호출값"
   ]
  },
  {
   "cell_type": "markdown",
   "metadata": {},
   "source": [
    "print = 출력\n",
    "return = 값"
   ]
  },
  {
   "cell_type": "code",
   "execution_count": 29,
   "metadata": {},
   "outputs": [
    {
     "name": "stdout",
     "output_type": "stream",
     "text": [
      "1 ~ 10 = 25\n",
      "1 ~ 10 = 30\n"
     ]
    }
   ],
   "source": [
    "def calcstep(begin, end, step):\n",
    "    sum = 0\n",
    "    for num in range(begin, end+1, step):\n",
    "        sum += num\n",
    "    return sum\n",
    "\n",
    "print(\"1 ~ 10 =\", calcstep(1,10,2))   # 홀수의 합계 \n",
    "print(\"1 ~ 10 =\", calcstep(2,10,2))   # 짝수의 합계"
   ]
  },
  {
   "cell_type": "code",
   "execution_count": 33,
   "metadata": {},
   "outputs": [
    {
     "name": "stdout",
     "output_type": "stream",
     "text": [
      "1 ~ 100 = 2500\n",
      "1 ~ 100 = 2500\n",
      "1 ~ 100 = 1717\n",
      "1 ~ 100 = 2500\n"
     ]
    }
   ],
   "source": [
    "def calcstep(begin, end, step=2): # step =''으로 디폴트 설정\n",
    "    sum = 0\n",
    "    for num in range(begin, end+1, step):\n",
    "        sum += num\n",
    "    return sum\n",
    "\n",
    "print(\"1 ~ 100 =\", calcstep(1,100,2))\n",
    "print(\"1 ~ 100 =\", calcstep(1,100))                 # 디폴트로 된 step을 쓰는 것\n",
    "print(\"1 ~ 100 =\", calcstep(1,100,3))               # 디폴트로 정의해놨지만 다른 걸 사용할 수도\n",
    "print(\"1 ~ 100 =\", calcstep(1, step=2, end=100))"
   ]
  },
  {
   "cell_type": "markdown",
   "metadata": {},
   "source": [
    "### 키워드 인수"
   ]
  },
  {
   "cell_type": "code",
   "execution_count": null,
   "metadata": {},
   "outputs": [],
   "source": [
    "getscore(grade, clano, stuno, subject, month)"
   ]
  },
  {
   "cell_type": "code",
   "execution_count": 35,
   "metadata": {},
   "outputs": [
    {
     "data": {
      "text/plain": [
       "50"
      ]
     },
     "execution_count": 35,
     "metadata": {},
     "output_type": "execute_result"
    }
   ],
   "source": [
    "def calcsum(begin, end, step, what, test):\n",
    "    sum = 0\n",
    "    for num in range(begin, end+1, step):\n",
    "        sum += num\n",
    "        sum += what\n",
    "        sum += test\n",
    "    return sum\n",
    "\n",
    "calcsum(1,10,2,3,2)"
   ]
  },
  {
   "cell_type": "markdown",
   "metadata": {},
   "source": [
    "### 키워드 가변 인수\n",
    "키워드 인수를 가변 개수 전달할 때 인수 목록에 ** 기호를 붙인다"
   ]
  },
  {
   "cell_type": "code",
   "execution_count": 44,
   "metadata": {},
   "outputs": [],
   "source": [
    "# python(실행파일) |  test.py(소스파일) | -t (옵션)   | -n\n",
    "# arg[0]           |  arg[1]            | arg[2]      | arg[3]      - 배열의 몇번째\n",
    "\n",
    "def calcstep(**args):\n",
    "    begin = args['begin'] # args[0]\n",
    "    end = args['end']   # args[1]\n",
    "    step = args['step']  # args[2]  키워드 가변인수(args)에 step(2)번째 들어오는 걸 변수 c라고 부른다\n",
    "    \n",
    "    sum = 0\n",
    "    for num in range(begin, end+1, step):\n",
    "        sum += num\n",
    "    return sum\n",
    "\n"
   ]
  },
  {
   "cell_type": "code",
   "execution_count": 45,
   "metadata": {},
   "outputs": [
    {
     "name": "stdout",
     "output_type": "stream",
     "text": [
      "3 ~ 5 = 5\n"
     ]
    }
   ],
   "source": [
    "print(\"3 ~ 5 =\", calcstep(begin=1, end=5, step=3))"
   ]
  },
  {
   "cell_type": "code",
   "execution_count": 46,
   "metadata": {
    "scrolled": true
   },
   "outputs": [
    {
     "ename": "TypeError",
     "evalue": "calcstep() takes 0 positional arguments but 3 were given",
     "output_type": "error",
     "traceback": [
      "\u001b[1;31m---------------------------------------------------------------------------\u001b[0m",
      "\u001b[1;31mTypeError\u001b[0m                                 Traceback (most recent call last)",
      "\u001b[1;32m<ipython-input-46-fc2468432589>\u001b[0m in \u001b[0;36m<module>\u001b[1;34m\u001b[0m\n\u001b[1;32m----> 1\u001b[1;33m \u001b[0mprint\u001b[0m\u001b[1;33m(\u001b[0m\u001b[1;34m\"3 ~ 5 =\"\u001b[0m\u001b[1;33m,\u001b[0m \u001b[0mcalcstep\u001b[0m\u001b[1;33m(\u001b[0m\u001b[1;36m3\u001b[0m\u001b[1;33m,\u001b[0m\u001b[1;36m5\u001b[0m\u001b[1;33m,\u001b[0m\u001b[1;36m1\u001b[0m\u001b[1;33m)\u001b[0m\u001b[1;33m)\u001b[0m\u001b[1;33m\u001b[0m\u001b[1;33m\u001b[0m\u001b[0m\n\u001b[0m",
      "\u001b[1;31mTypeError\u001b[0m: calcstep() takes 0 positional arguments but 3 were given"
     ]
    }
   ],
   "source": [
    "print(\"3 ~ 5 =\", calcstep(3,5,1))    # 키워드 가변인수의 변수명을 적지 않아서"
   ]
  },
  {
   "cell_type": "code",
   "execution_count": 7,
   "metadata": {},
   "outputs": [],
   "source": [
    "def calcstep(**args):\n",
    "    a= args['a'] #args[0]\n",
    "    b = args['b']   #args[1]\n",
    "    c = args['c'] #args[2]   키워드가변인수(args)에 step번째 들어오는 걸 c라고 부른다\n",
    "    \n",
    "    sum = 0\n",
    "    for num in range(a, b+1, c):\n",
    "        sum += num\n",
    "    return sum"
   ]
  },
  {
   "cell_type": "code",
   "execution_count": 8,
   "metadata": {},
   "outputs": [
    {
     "name": "stdout",
     "output_type": "stream",
     "text": [
      "3 ~ 5 = 12\n"
     ]
    }
   ],
   "source": [
    "print(\"3 ~ 5 =\", calcstep(c=1, b=5, a=3)) "
   ]
  },
  {
   "cell_type": "code",
   "execution_count": 9,
   "metadata": {},
   "outputs": [
    {
     "name": "stdout",
     "output_type": "stream",
     "text": [
      "김상형\n",
      "총점 : 264\n",
      "평균 : 88.0\n",
      "김한솔\n",
      "총점 : 381\n",
      "평균 : 95.25\n"
     ]
    }
   ],
   "source": [
    "# 위치 인수와 키워드 인수를 동시에 가변으로 취할 수도 있다\n",
    "\n",
    "def calcscore(name, *score, **option):\n",
    "    print(name)\n",
    "    sum = 0\n",
    "    for s in score:\n",
    "        sum += s\n",
    "    print(\"총점 :\",sum)\n",
    "    if (option['avg'] == True):\n",
    "        print(\"평균 :\",sum / len(score))\n",
    "        \n",
    "calcscore(\"김상형\", 88,99,77,avg=True)\n",
    "calcscore(\"김한솔\",99,98,95,89,avg=True)"
   ]
  },
  {
   "cell_type": "markdown",
   "metadata": {},
   "source": [
    "## 7-3. 변수의 범위"
   ]
  },
  {
   "cell_type": "markdown",
   "metadata": {},
   "source": [
    "지역 변수 - 함수 안에서 쓰고 끝나는 것\n",
    "\n",
    "전역 변수 - 게임 레벨, 아이템 등"
   ]
  },
  {
   "cell_type": "code",
   "execution_count": 10,
   "metadata": {},
   "outputs": [],
   "source": [
    "def calcsum(n):\n",
    "    sum = 0\n",
    "    for num in range(n + 1):\n",
    "        sum += num\n",
    "    return"
   ]
  },
  {
   "cell_type": "code",
   "execution_count": 45,
   "metadata": {},
   "outputs": [
    {
     "name": "stdout",
     "output_type": "stream",
     "text": [
      "김과장의 함수\n"
     ]
    },
    {
     "ename": "NameError",
     "evalue": "name 'temp' is not defined",
     "output_type": "error",
     "traceback": [
      "\u001b[1;31m---------------------------------------------------------------------------\u001b[0m",
      "\u001b[1;31mNameError\u001b[0m                                 Traceback (most recent call last)",
      "\u001b[1;32m<ipython-input-45-dbec268205e2>\u001b[0m in \u001b[0;36m<module>\u001b[1;34m\u001b[0m\n\u001b[0;32m      4\u001b[0m \u001b[1;33m\u001b[0m\u001b[0m\n\u001b[0;32m      5\u001b[0m \u001b[0mkim\u001b[0m\u001b[1;33m(\u001b[0m\u001b[1;33m)\u001b[0m\u001b[1;33m\u001b[0m\u001b[1;33m\u001b[0m\u001b[0m\n\u001b[1;32m----> 6\u001b[1;33m \u001b[0mprint\u001b[0m\u001b[1;33m(\u001b[0m\u001b[0mtemp\u001b[0m\u001b[1;33m)\u001b[0m\u001b[1;33m\u001b[0m\u001b[1;33m\u001b[0m\u001b[0m\n\u001b[0m",
      "\u001b[1;31mNameError\u001b[0m: name 'temp' is not defined"
     ]
    }
   ],
   "source": [
    "def kim():\n",
    "    temp = \"김과장의 함수\"\n",
    "    print(temp)\n",
    "\n",
    "kim()\n",
    "print(temp)"
   ]
  },
  {
   "cell_type": "code",
   "execution_count": 47,
   "metadata": {},
   "outputs": [
    {
     "name": "stdout",
     "output_type": "stream",
     "text": [
      "1024\n",
      "12\n"
     ]
    }
   ],
   "source": [
    "# temp는 각각 변수에만 해댕되는 지역변수\n",
    "\n",
    "def lee():             # 넣어야하는 인자는 필요X\n",
    "    temp = 2**10\n",
    "    print(temp)\n",
    "    \n",
    "def park(a):            # a에 넣어야 할 인자를 적어줘야 \n",
    "    temp = a*2\n",
    "    print(temp)\n",
    "    \n",
    "lee()\n",
    "park(6)"
   ]
  },
  {
   "cell_type": "code",
   "execution_count": 40,
   "metadata": {},
   "outputs": [],
   "source": [
    "salerate = 0.9                                     # 전역변수\n",
    "\n",
    "def kim():\n",
    "    print(\"오늘의 할인율 :\", salerate)\n",
    "def lee():\n",
    "    price = 1000\n",
    "    print(\"가격 :\", price * salerate)"
   ]
  },
  {
   "cell_type": "code",
   "execution_count": 41,
   "metadata": {},
   "outputs": [
    {
     "name": "stdout",
     "output_type": "stream",
     "text": [
      "오늘의 할인율 : 0.9\n",
      "가격 : 1100.0\n"
     ]
    }
   ],
   "source": [
    "kim()\n",
    "salerate = 1.1\n",
    "lee()"
   ]
  },
  {
   "cell_type": "markdown",
   "metadata": {},
   "source": [
    "### id"
   ]
  },
  {
   "cell_type": "code",
   "execution_count": 57,
   "metadata": {},
   "outputs": [
    {
     "name": "stdout",
     "output_type": "stream",
     "text": [
      "sale 2388280696080\n",
      "global 2388280696496\n"
     ]
    }
   ],
   "source": [
    "price = 1000                       # 전역변수\n",
    "\n",
    "def sale():\n",
    "    price = 500                   # 지역변수\n",
    "    print(\"sale\", id(price))\n",
    "    \n",
    "sale()                          #함수내에서는 지역변수를 우선으로 \n",
    "print(\"global\", id(price))      #함수를 호출하는 게 아니니까 전역변수 price값"
   ]
  },
  {
   "cell_type": "code",
   "execution_count": 56,
   "metadata": {},
   "outputs": [
    {
     "name": "stdout",
     "output_type": "stream",
     "text": [
      "500\n",
      "500\n"
     ]
    }
   ],
   "source": [
    "price = 1000\n",
    "\n",
    "def sale():\n",
    "    global price\n",
    "    price = 500\n",
    "    print(price)\n",
    "    \n",
    "sale()             #함수 내에서 global을 선언하면 전역변수로 \n",
    "print(price)"
   ]
  },
  {
   "cell_type": "markdown",
   "metadata": {},
   "source": [
    "## docstring - 함수 선언문과 본체 사이에 작성"
   ]
  },
  {
   "cell_type": "code",
   "execution_count": 58,
   "metadata": {},
   "outputs": [
    {
     "name": "stdout",
     "output_type": "stream",
     "text": [
      "Help on function calcsum in module __main__:\n",
      "\n",
      "calcsum(n)\n",
      "    1 ~ n까지의 합계를 구해 리턴한다\n",
      "\n"
     ]
    }
   ],
   "source": [
    "def calcsum(n):\n",
    "    \"\"\"1 ~ n까지의 합계를 구해 리턴한다\"\"\"\n",
    "    sum = 0\n",
    "    for i in range(n+1):\n",
    "        sum += i\n",
    "    return sum\n",
    "\n",
    "help(calcsum)"
   ]
  },
  {
   "cell_type": "markdown",
   "metadata": {},
   "source": [
    "내장 함수"
   ]
  },
  {
   "cell_type": "code",
   "execution_count": 59,
   "metadata": {},
   "outputs": [
    {
     "name": "stdout",
     "output_type": "stream",
     "text": [
      "5\n",
      "7\n",
      "1\n"
     ]
    }
   ],
   "source": [
    "print(abs(-5))\n",
    "print(max(3,7))\n",
    "print(min([8,9,1,6,2]))"
   ]
  },
  {
   "cell_type": "markdown",
   "metadata": {},
   "source": [
    "---\n",
    "Q. 문제 : 세 개의 정수를 전달받아 평균값을 구해 리턴하는 함수를 작성하라"
   ]
  },
  {
   "cell_type": "code",
   "execution_count": 9,
   "metadata": {},
   "outputs": [],
   "source": [
    "def calc(a,b,c):\n",
    "    sum = 0\n",
    "    for i in calc:\n",
    "        sum += i\n",
    "    #avg = sum / 3\n",
    "    return sum\n"
   ]
  },
  {
   "cell_type": "code",
   "execution_count": 10,
   "metadata": {},
   "outputs": [
    {
     "ename": "TypeError",
     "evalue": "'function' object is not iterable",
     "output_type": "error",
     "traceback": [
      "\u001b[1;31m---------------------------------------------------------------------------\u001b[0m",
      "\u001b[1;31mTypeError\u001b[0m                                 Traceback (most recent call last)",
      "\u001b[1;32m<ipython-input-10-e8f8ee96aaf6>\u001b[0m in \u001b[0;36m<module>\u001b[1;34m\u001b[0m\n\u001b[1;32m----> 1\u001b[1;33m \u001b[0mprint\u001b[0m\u001b[1;33m(\u001b[0m\u001b[0mcalc\u001b[0m\u001b[1;33m(\u001b[0m\u001b[1;36m3\u001b[0m\u001b[1;33m,\u001b[0m\u001b[1;36m5\u001b[0m\u001b[1;33m,\u001b[0m\u001b[1;36m7\u001b[0m\u001b[1;33m)\u001b[0m\u001b[1;33m)\u001b[0m\u001b[1;33m\u001b[0m\u001b[1;33m\u001b[0m\u001b[0m\n\u001b[0m",
      "\u001b[1;32m<ipython-input-9-34326b3c48f8>\u001b[0m in \u001b[0;36mcalc\u001b[1;34m(a, b, c)\u001b[0m\n\u001b[0;32m      1\u001b[0m \u001b[1;32mdef\u001b[0m \u001b[0mcalc\u001b[0m\u001b[1;33m(\u001b[0m\u001b[0ma\u001b[0m\u001b[1;33m,\u001b[0m\u001b[0mb\u001b[0m\u001b[1;33m,\u001b[0m\u001b[0mc\u001b[0m\u001b[1;33m)\u001b[0m\u001b[1;33m:\u001b[0m\u001b[1;33m\u001b[0m\u001b[1;33m\u001b[0m\u001b[0m\n\u001b[0;32m      2\u001b[0m     \u001b[0msum\u001b[0m \u001b[1;33m=\u001b[0m \u001b[1;36m0\u001b[0m\u001b[1;33m\u001b[0m\u001b[1;33m\u001b[0m\u001b[0m\n\u001b[1;32m----> 3\u001b[1;33m     \u001b[1;32mfor\u001b[0m \u001b[0mi\u001b[0m \u001b[1;32min\u001b[0m \u001b[0mcalc\u001b[0m\u001b[1;33m:\u001b[0m\u001b[1;33m\u001b[0m\u001b[1;33m\u001b[0m\u001b[0m\n\u001b[0m\u001b[0;32m      4\u001b[0m         \u001b[0msum\u001b[0m \u001b[1;33m+=\u001b[0m \u001b[0mi\u001b[0m\u001b[1;33m\u001b[0m\u001b[1;33m\u001b[0m\u001b[0m\n\u001b[0;32m      5\u001b[0m     \u001b[1;31m#avg = sum / 3\u001b[0m\u001b[1;33m\u001b[0m\u001b[1;33m\u001b[0m\u001b[1;33m\u001b[0m\u001b[0m\n",
      "\u001b[1;31mTypeError\u001b[0m: 'function' object is not iterable"
     ]
    }
   ],
   "source": [
    "print(calc(3,5,7))"
   ]
  },
  {
   "cell_type": "code",
   "execution_count": 64,
   "metadata": {},
   "outputs": [],
   "source": [
    "def getaverage(a, b, c):\n",
    "    sum = a + b + c\n",
    "    return sum / 3"
   ]
  },
  {
   "cell_type": "code",
   "execution_count": 65,
   "metadata": {},
   "outputs": [
    {
     "name": "stdout",
     "output_type": "stream",
     "text": [
      "5.0\n"
     ]
    }
   ],
   "source": [
    "print(getaverage(3,5,7))"
   ]
  },
  {
   "cell_type": "markdown",
   "metadata": {},
   "source": [
    "---\n",
    "Q. 문제 : 임의 개수의 인수를 전달받아 가장 큰 숫자를 찾아 리턴하는 함수를 작성하라"
   ]
  },
  {
   "cell_type": "code",
   "execution_count": 73,
   "metadata": {},
   "outputs": [],
   "source": [
    "def big(*num):\n",
    "    return max(*num)"
   ]
  },
  {
   "cell_type": "code",
   "execution_count": 75,
   "metadata": {},
   "outputs": [
    {
     "name": "stdout",
     "output_type": "stream",
     "text": [
      "9\n"
     ]
    }
   ],
   "source": [
    "print(big(3,6,8,9,1,6))"
   ]
  },
  {
   "cell_type": "code",
   "execution_count": 76,
   "metadata": {},
   "outputs": [],
   "source": [
    "def getmax(*nums):\n",
    "    m = nums[0]\n",
    "    for i in nums:\n",
    "        if (i > m):\n",
    "            m = i\n",
    "    return m"
   ]
  },
  {
   "cell_type": "code",
   "execution_count": 77,
   "metadata": {},
   "outputs": [
    {
     "name": "stdout",
     "output_type": "stream",
     "text": [
      "9\n"
     ]
    }
   ],
   "source": [
    "print(getmax(3,6,8,9,1,6))"
   ]
  },
  {
   "cell_type": "markdown",
   "metadata": {},
   "source": [
    "# 8장. 문자열 관리"
   ]
  },
  {
   "cell_type": "code",
   "execution_count": 5,
   "metadata": {},
   "outputs": [
    {
     "name": "stdout",
     "output_type": "stream",
     "text": [
      "t\n",
      "o\n"
     ]
    }
   ],
   "source": [
    "s = \"python\"\n",
    "print(s[2])\n",
    "print(s[-2])"
   ]
  },
  {
   "cell_type": "code",
   "execution_count": 6,
   "metadata": {},
   "outputs": [
    {
     "name": "stdout",
     "output_type": "stream",
     "text": [
      "p,y,t,h,o,n,"
     ]
    }
   ],
   "source": [
    "s = \"python\"\n",
    "for c in s:\n",
    "    print(c,end=',')"
   ]
  },
  {
   "cell_type": "markdown",
   "metadata": {},
   "source": [
    "### 슬라이스"
   ]
  },
  {
   "cell_type": "code",
   "execution_count": 7,
   "metadata": {},
   "outputs": [
    {
     "name": "stdout",
     "output_type": "stream",
     "text": [
      "tho\n",
      "hon\n",
      "pyth\n",
      "th\n"
     ]
    }
   ],
   "source": [
    "s = \"python\"\n",
    "\n",
    "print(s[2:5])\n",
    "print(s[3:])\n",
    "print(s[:4])\n",
    "print(s[2:-2])"
   ]
  },
  {
   "cell_type": "code",
   "execution_count": 8,
   "metadata": {},
   "outputs": [
    {
     "name": "stdout",
     "output_type": "stream",
     "text": [
      "촬영 날짜 : 12 월 24 일\n",
      "촬영 시간 : 10 시 48 분\n",
      "확장자 : jpg\n"
     ]
    }
   ],
   "source": [
    "file = \"20171224-1048300.jpg\"\n",
    "\n",
    "print(\"촬영 날짜 :\", file[4:6],\"월\",file[6:8],\"일\")\n",
    "print(\"촬영 시간 :\", file[9:11],\"시\",file[11:13],\"분\")\n",
    "print(\"확장자 :\", file[-3:])"
   ]
  },
  {
   "cell_type": "code",
   "execution_count": 9,
   "metadata": {},
   "outputs": [
    {
     "name": "stdout",
     "output_type": "stream",
     "text": [
      "월수금일\n",
      "일토금목수화월\n"
     ]
    }
   ],
   "source": [
    "yoil = \"월화수목금토일\"\n",
    "\n",
    "print(yoil[::2])\n",
    "print(yoil[::-1])"
   ]
  },
  {
   "cell_type": "markdown",
   "metadata": {},
   "source": [
    "## 8-2 문자열 메서드\n",
    "### 검색, 조사, 변경, 분할, 대체"
   ]
  },
  {
   "cell_type": "code",
   "execution_count": 11,
   "metadata": {},
   "outputs": [
    {
     "name": "stdout",
     "output_type": "stream",
     "text": [
      "18\n",
      "4\n",
      "9\n",
      "8\n",
      "2\n"
     ]
    }
   ],
   "source": [
    "s = \"python programming\"\n",
    "\n",
    "print(len(s))\n",
    "print(s.find(\"o\"))\n",
    "print(s.rfind('o'))\n",
    "print(s.index('r'))    \n",
    "print(s.count('n'))"
   ]
  },
  {
   "cell_type": "code",
   "execution_count": 13,
   "metadata": {},
   "outputs": [
    {
     "ename": "ValueError",
     "evalue": "substring not found",
     "output_type": "error",
     "traceback": [
      "\u001b[1;31m---------------------------------------------------------------------------\u001b[0m",
      "\u001b[1;31mValueError\u001b[0m                                Traceback (most recent call last)",
      "\u001b[1;32m<ipython-input-13-ddc547026369>\u001b[0m in \u001b[0;36m<module>\u001b[1;34m\u001b[0m\n\u001b[0;32m      1\u001b[0m \u001b[1;31m# 문자를 찾는다는 면에서 find와 같지만 해당 문자가 없을 때 예외가 발생한다\u001b[0m\u001b[1;33m\u001b[0m\u001b[1;33m\u001b[0m\u001b[1;33m\u001b[0m\u001b[0m\n\u001b[1;32m----> 2\u001b[1;33m \u001b[0mprint\u001b[0m\u001b[1;33m(\u001b[0m\u001b[0ms\u001b[0m\u001b[1;33m.\u001b[0m\u001b[0mindex\u001b[0m\u001b[1;33m(\u001b[0m\u001b[1;34m'z'\u001b[0m\u001b[1;33m)\u001b[0m\u001b[1;33m)\u001b[0m\u001b[1;33m\u001b[0m\u001b[1;33m\u001b[0m\u001b[0m\n\u001b[0m",
      "\u001b[1;31mValueError\u001b[0m: substring not found"
     ]
    }
   ],
   "source": [
    "# 문자를 찾는다는 면에서 find와 같지만 해당 문자가 없을 때 예외가 발생한다\n",
    "print(s.index('z'))"
   ]
  },
  {
   "cell_type": "code",
   "execution_count": 14,
   "metadata": {},
   "outputs": [
    {
     "name": "stdout",
     "output_type": "stream",
     "text": [
      "-1\n"
     ]
    }
   ],
   "source": [
    "print(s.find('z'))   # .find - 찾는 문자가 없을 때 '-1'"
   ]
  },
  {
   "cell_type": "code",
   "execution_count": 16,
   "metadata": {},
   "outputs": [
    {
     "name": "stdout",
     "output_type": "stream",
     "text": [
      "생각의 출현 횟수 : 9\n"
     ]
    }
   ],
   "source": [
    "#  .count\n",
    "\n",
    "s = \"\"\"생각이란 생각할수록 생각나므로 생각하지 말아야 할 생각은 생각하지\n",
    "않으려고 하는 생각이 옳은 생각이라고 생각합니다.\"\"\"\n",
    "\n",
    "print(\"생각의 출현 횟수 :\", s.count(\"생각\"))"
   ]
  },
  {
   "cell_type": "code",
   "execution_count": 18,
   "metadata": {},
   "outputs": [
    {
     "name": "stdout",
     "output_type": "stream",
     "text": [
      "True\n",
      "False\n",
      "True\n",
      "True\n"
     ]
    }
   ],
   "source": [
    "# x in a\n",
    "\n",
    "s = \"python programming\"\n",
    "\n",
    "print('a' in s)\n",
    "print('z' in s)\n",
    "print('pro' in s)\n",
    "print('x' not in s)"
   ]
  },
  {
   "cell_type": "code",
   "execution_count": 20,
   "metadata": {},
   "outputs": [
    {
     "name": "stdout",
     "output_type": "stream",
     "text": [
      "김가입니다\n",
      "그림 파일입니다\n"
     ]
    }
   ],
   "source": [
    "# .startswith  /  .endswith\n",
    "\n",
    "name = \"김한결\"\n",
    "if name.startswith(\"김\"):            # .startswith - 특정 문자열로 시작되는지\n",
    "    print(\"김가입니다\")\n",
    "if name.startswith(\"한\"):\n",
    "    print(\"한가입니다\")\n",
    "    \n",
    "file = \"girl.jpg\"\n",
    "if file.endswith((\".jpg\")):            # .endtswith - 특정 문자열로 끝나는지\n",
    "    print(\"그림 파일입니다\")"
   ]
  },
  {
   "cell_type": "code",
   "execution_count": 22,
   "metadata": {},
   "outputs": [
    {
     "name": "stdout",
     "output_type": "stream",
     "text": [
      "키를 입력하세요 :안알랴줌\n",
      "숫자만 입력하세요\n"
     ]
    }
   ],
   "source": [
    "#  .isdecimal  - 모든 문자가 숫자로 시작하는지\n",
    "\n",
    "height = input(\"키를 입력하세요 :\")\n",
    "if height.isdecimal():\n",
    "    print(\"키 =\", height)\n",
    "else:\n",
    "    print(\"숫자만 입력하세요\")"
   ]
  },
  {
   "cell_type": "code",
   "execution_count": 24,
   "metadata": {},
   "outputs": [
    {
     "name": "stdout",
     "output_type": "stream",
     "text": [
      "good morning. my love kim\n",
      "GOOD MORNING. MY LOVE KIM\n",
      "Good morning. my love KIM\n"
     ]
    }
   ],
   "source": [
    "# 변경 - lower, upper, swapcase, capitalize, title\n",
    "\n",
    "s = \"Good morning. my love KIM\"\n",
    "\n",
    "print(s.lower())        # 전부 소문자\n",
    "print(s.upper())         # 전부 대문자\n",
    "print(s)"
   ]
  },
  {
   "cell_type": "code",
   "execution_count": 28,
   "metadata": {},
   "outputs": [
    {
     "name": "stdout",
     "output_type": "stream",
     "text": [
      "gOOD MORNING. MY LOVE kim\n",
      "Good morning. my love kim\n",
      "Good Morning. My Love Kim\n"
     ]
    }
   ],
   "source": [
    "print(s.swapcase())      # 대소문자 반대로 뒤집기\n",
    "print(s.capitalize())    # 문장의 첫 글자만 대문자로\n",
    "print(s.title())          # 모든 단어의 처음을 대문자로"
   ]
  },
  {
   "cell_type": "code",
   "execution_count": 29,
   "metadata": {},
   "outputs": [
    {
     "name": "stdout",
     "output_type": "stream",
     "text": [
      "파이썬의 영문 철자를 입력하시오 :python\n",
      "맞췄습니다\n"
     ]
    }
   ],
   "source": [
    "python = input(\"파이썬의 영문 철자를 입력하시오 :\")\n",
    "if python.lower() == \"python\":\n",
    "    print(\"맞췄습니다\")"
   ]
  },
  {
   "cell_type": "code",
   "execution_count": 1,
   "metadata": {},
   "outputs": [
    {
     "name": "stdout",
     "output_type": "stream",
     "text": [
      "   angel   님\n",
      "angel   님\n",
      "   angel님\n",
      "angel님\n"
     ]
    }
   ],
   "source": [
    "# strip - lstrip, rstrip\n",
    "\n",
    "s = \"   angel   \"\n",
    "\n",
    "print(s + \"님\")\n",
    "print(s.lstrip()+\"님\")  # left을 공백제거\n",
    "print(s.rstrip()+\"님\")  #  right를 공백제거\n",
    "print(s.strip()+\"님\")"
   ]
  },
  {
   "cell_type": "code",
   "execution_count": 5,
   "metadata": {},
   "outputs": [
    {
     "name": "stdout",
     "output_type": "stream",
     "text": [
      "['짜장', '짬뽕', '탕수육']\n",
      "\n",
      "['서울', '대전', '대구', '부산']\n",
      "\n",
      "서울 찍고 대전 찍고 대구 찍고 부산 찍고 \n"
     ]
    }
   ],
   "source": [
    "# 분할 - split()\n",
    "\n",
    "s = \"짜장 짬뽕 탕수육\"\n",
    "print(s.split())\n",
    "print()\n",
    "\n",
    "s2 = \"서울->대전->대구->부산\"\n",
    "city = s2.split(\"->\")\n",
    "print(city)\n",
    "print()\n",
    "\n",
    "for c in city:\n",
    "    print(c,\"찍고\",end=\" \")\n",
    "print()"
   ]
  },
  {
   "cell_type": "code",
   "execution_count": 6,
   "metadata": {},
   "outputs": [
    {
     "name": "stdout",
     "output_type": "stream",
     "text": [
      "['서울', '대전', '대구', '부산']\n"
     ]
    }
   ],
   "source": [
    "s2 = \"서울->대전->대구->부산\"\n",
    " \n",
    "print(s2.split(\"->\"))"
   ]
  },
  {
   "cell_type": "code",
   "execution_count": 15,
   "metadata": {},
   "outputs": [
    {
     "name": "stdout",
     "output_type": "stream",
     "text": [
      "강나루 건너서\n",
      "밀밭 길을\n",
      "\n",
      "구름에 달 가듯이\n",
      "가는 나그네\n",
      "\n",
      "길은 외줄기\n",
      "남도 삼백리\n",
      "\n",
      "술 익는 마을마다\n",
      "타는 저녁놀\n",
      "\n",
      "구름에 달 가듯이\n",
      "가는 나그네\n"
     ]
    }
   ],
   "source": [
    "# splitline - 긴 문서를 각 행별로 쪼개기\n",
    "\n",
    "traveler = \"\"\"강나루 건너서\\n밀밭 길을\\n\\n구름에 달 가듯이\\n가는 나그네\\n\n",
    "길은 외줄기\\n남도 삼백리\\n\\n술 익는 마을마다\\n타는 저녁놀\\n\n",
    "구름에 달 가듯이\\n가는 나그네\"\"\"\n",
    "poet = traveler.splitlines()\n",
    "for line in poet:\n",
    "    print(line)"
   ]
  },
  {
   "cell_type": "code",
   "execution_count": null,
   "metadata": {},
   "outputs": [],
   "source": [
    "f = open(\"poet.txt\",\"wt\")\n",
    "f.write()"
   ]
  },
  {
   "cell_type": "code",
   "execution_count": 16,
   "metadata": {},
   "outputs": [
    {
     "name": "stdout",
     "output_type": "stream",
     "text": [
      "대._.한._.민._.국\n"
     ]
    }
   ],
   "source": [
    "# join - 삽입 메서드\n",
    "\n",
    "s = \"._.\"\n",
    "print(s.join(\"대한민국\"))        # 대한민국 사이사이에 ._.를 삽입"
   ]
  },
  {
   "cell_type": "code",
   "execution_count": 20,
   "metadata": {},
   "outputs": [
    {
     "name": "stdout",
     "output_type": "stream",
     "text": [
      "['서울', '대전', '대구', '부산']\n",
      "서울 찍고, 대전 찍고, 대구 찍고, 부산\n"
     ]
    }
   ],
   "source": [
    "s2 = \"서울->대전->대구->부산\"\n",
    "city = s2.split(\"->\")             # 분할. 문장X, 단어\n",
    "print(city)\n",
    "print(\" 찍고, \".join(city))        # city(도시 이름) 사이사이에  \"찍고\"를 삽입"
   ]
  },
  {
   "cell_type": "code",
   "execution_count": 21,
   "metadata": {},
   "outputs": [
    {
     "name": "stdout",
     "output_type": "stream",
     "text": [
      "독도는 일본땅이다. 대마도도 일본땅이다\n",
      "독도는 한국땅이다. 대마도도 한국땅이다\n"
     ]
    }
   ],
   "source": [
    "# 대체 - replace\n",
    "\n",
    "s = \"독도는 일본땅이다. 대마도도 일본땅이다\"\n",
    "print(s)\n",
    "print(s.replace(\"일본\",\"한국\"))"
   ]
  },
  {
   "cell_type": "code",
   "execution_count": 23,
   "metadata": {},
   "outputs": [
    {
     "name": "stdout",
     "output_type": "stream",
     "text": [
      "                         안녕하세요\n",
      "안녕하세요                         \n",
      "            안녕하세요             \n"
     ]
    }
   ],
   "source": [
    "# just - 정렬과 같은 개념 (ljust, rjust, center)\n",
    "\n",
    "message = \"안녕하세요\"\n",
    "print(message.rjust(30))   # 문자열 폭 = 30, \n",
    "print(message.ljust(30))\n",
    "print(message.center(30))"
   ]
  },
  {
   "cell_type": "code",
   "execution_count": 4,
   "metadata": {},
   "outputs": [
    {
     "name": "stdout",
     "output_type": "stream",
     "text": [
      "강나루 건너서\n",
      "밀밭 길을\n",
      "\n",
      "구름에 달 가듯이\n",
      "가는 나그네\n",
      "\n",
      "길은 외줄기\n",
      "남도 삼백리\n",
      "\n",
      "술 익는 마을마다\n",
      "타는 저녁놀\n",
      "\n",
      "구름에 달 가듯이\n",
      "가는 나그네\n",
      "\n",
      "['강나루 건너서', '밀밭 길을', '', '구름에 달 가듯이', '가는 나그네', '', '길은 외줄기', '남도 삼백리', '', '술 익는 마을마다', '타는 저녁놀', '', '구름에 달 가듯이', '가는 나그네']\n",
      "\n",
      "           강나루 건너서            \n",
      "            밀밭 길을             \n",
      "                              \n",
      "          구름에 달 가듯이           \n",
      "            가는 나그네            \n",
      "                              \n",
      "            길은 외줄기            \n",
      "            남도 삼백리            \n",
      "                              \n",
      "          술 익는 마을마다           \n",
      "            타는 저녁놀            \n",
      "                              \n",
      "          구름에 달 가듯이           \n",
      "            가는 나그네            \n"
     ]
    }
   ],
   "source": [
    "traveler = \"\"\"강나루 건너서\\n밀밭 길을\\n\\n구름에 달 가듯이\\n가는 나그네\\n\n",
    "길은 외줄기\\n남도 삼백리\\n\\n술 익는 마을마다\\n타는 저녁놀\\n\n",
    "구름에 달 가듯이\\n가는 나그네\"\"\"\n",
    "print(traveler)\n",
    "print()\n",
    "poet= traveler.splitlines()\n",
    "print(poet)\n",
    "print()\n",
    "for line in poet:\n",
    "    print(line.center(30))"
   ]
  },
  {
   "cell_type": "markdown",
   "metadata": {},
   "source": [
    "## 8-3 포멧팅 - %d, %s\n",
    "문자열 안에 여러가지 정보를 출력할 때 - +"
   ]
  },
  {
   "cell_type": "code",
   "execution_count": 5,
   "metadata": {},
   "outputs": [
    {
     "name": "stdout",
     "output_type": "stream",
     "text": [
      "궁금하면 500원\n"
     ]
    }
   ],
   "source": [
    "price = 500\n",
    "print(\"궁금하면 \"+str(price)+\"원\")"
   ]
  },
  {
   "cell_type": "code",
   "execution_count": 6,
   "metadata": {},
   "outputs": [
    {
     "name": "stdout",
     "output_type": "stream",
     "text": [
      "궁금하면 500원\n"
     ]
    }
   ],
   "source": [
    "price = 500\n",
    "print(\"궁금하면 %d원\"%price)"
   ]
  },
  {
   "cell_type": "code",
   "execution_count": 7,
   "metadata": {},
   "outputs": [
    {
     "name": "stdout",
     "output_type": "stream",
     "text": [
      "8월 15일은 광복절일이다\n"
     ]
    }
   ],
   "source": [
    "month = 8\n",
    "day = 15\n",
    "anni = \"광복절\"\n",
    "print(\"%d월 %d일은 %s일이다\" %(month, day, anni))"
   ]
  },
  {
   "cell_type": "code",
   "execution_count": 9,
   "metadata": {},
   "outputs": [
    {
     "name": "stdout",
     "output_type": "stream",
     "text": [
      "가치는123이다\n",
      "가치는  123이다\n",
      "가치는       123이다\n",
      "가치는123이다\n"
     ]
    }
   ],
   "source": [
    "value= 123\n",
    "print(\"가치는%d이다\" %value)\n",
    "print(\"가치는%5d이다\" %value)\n",
    "print(\"가치는%10d이다\" %value)\n",
    "print(\"가치는%1d이다\" %value)"
   ]
  },
  {
   "cell_type": "code",
   "execution_count": 11,
   "metadata": {},
   "outputs": [
    {
     "name": "stdout",
     "output_type": "stream",
     "text": [
      "가격 : 30원\n",
      "가격 : 13500원\n",
      "가격 : 2000원\n",
      "\n",
      "가격 :      30원\n",
      "가격 :   13500원\n",
      "가격 :    2000원\n"
     ]
    }
   ],
   "source": [
    "price = [30, 13500, 2000]\n",
    "for p in price:\n",
    "    print(\"가격 : %d원\" %p)\n",
    "print()    \n",
    "for p in price:\n",
    "    print(\"가격 : %7d원\" %p)"
   ]
  },
  {
   "cell_type": "code",
   "execution_count": 12,
   "metadata": {},
   "outputs": [
    {
     "name": "stdout",
     "output_type": "stream",
     "text": [
      "가격 : 30     원\n",
      "가격 : 13500  원\n",
      "가격 : 2000   원\n"
     ]
    }
   ],
   "source": [
    "price = [30, 13500, 2000]\n",
    "for p in price:\n",
    "    print(\"가격 : %-7d원\" %p)"
   ]
  },
  {
   "cell_type": "code",
   "execution_count": 13,
   "metadata": {},
   "outputs": [
    {
     "name": "stdout",
     "output_type": "stream",
     "text": [
      "  3.141593\n",
      "3.14159265\n",
      "   3.14159\n",
      "      3.14\n"
     ]
    }
   ],
   "source": [
    "pie = 3.14159265\n",
    "print(\"%10f\" %pie)\n",
    "print(\"%10.8f\" %pie)\n",
    "print(\"%10.5f\" %pie)\n",
    "print(\"%10.2f\" %pie)"
   ]
  },
  {
   "cell_type": "code",
   "execution_count": 15,
   "metadata": {},
   "outputs": [
    {
     "name": "stdout",
     "output_type": "stream",
     "text": [
      "이름 : 한결, 나이 : 16, 키 : 162.5\n"
     ]
    }
   ],
   "source": [
    "# 신형 포맷팅 - {}\n",
    "\n",
    "name =\"한결\"\n",
    "age =16\n",
    "height = 162.5\n",
    "print(\"이름 : {}, 나이 : {}, 키 : {}\".format(name, age, height))"
   ]
  },
  {
   "cell_type": "code",
   "execution_count": 16,
   "metadata": {},
   "outputs": [
    {
     "name": "stdout",
     "output_type": "stream",
     "text": [
      "이름 : 한결, 나이 :16, 키:162.500000\n"
     ]
    }
   ],
   "source": [
    "name = \"한결\"\n",
    "age =16\n",
    "height = 162.5\n",
    "print(\"이름 : {0:s}, 나이 :{1:d}, 키:{2:f}\".format(name, age, height))"
   ]
  },
  {
   "cell_type": "code",
   "execution_count": 17,
   "metadata": {},
   "outputs": [
    {
     "name": "stdout",
     "output_type": "stream",
     "text": [
      "이름 : 한결        , 나이 :   16, 키:  162.50\n"
     ]
    }
   ],
   "source": [
    "name = \"한결\"\n",
    "age =16\n",
    "height = 162.5\n",
    "print(\"이름 : {0:10s}, 나이 :{1:5d}, 키:{2:8.2f}\".format(name, age, height))"
   ]
  },
  {
   "cell_type": "code",
   "execution_count": 18,
   "metadata": {},
   "outputs": [
    {
     "name": "stdout",
     "output_type": "stream",
     "text": [
      "이름 :     한결    , 나이 :   16, 키:162.50  \n"
     ]
    }
   ],
   "source": [
    "# 정렬 - ^(중앙정렬),<(왼쪽정렬),>(오른쪽 정렬)\n",
    "\n",
    "name = \"한결\"\n",
    "age =16\n",
    "height = 162.5\n",
    "print(\"이름 : {0:^10s}, 나이 :{1:>5d}, 키:{2:<8.2f}\".format(name, age, height))"
   ]
  },
  {
   "cell_type": "markdown",
   "metadata": {},
   "source": [
    "# 9. 리스트_튜플\n",
    "리스트 - 추가o, 변경o, 삭제o / 튜플- 값이 정해져있어, 순서에 X, 값이 정해져 있고 순서가 상관없으니까 몇번째 추가X\n",
    "## 9-1. 리스트"
   ]
  },
  {
   "cell_type": "code",
   "execution_count": 19,
   "metadata": {},
   "outputs": [
    {
     "name": "stdout",
     "output_type": "stream",
     "text": [
      "총점 : 452\n",
      "평균 : 90.4\n"
     ]
    }
   ],
   "source": [
    "score = [88,95,70,100,99]\n",
    "sum = 0\n",
    "for s in score:\n",
    "    sum += s\n",
    "print(\"총점 :\", sum)\n",
    "print(\"평균 :\", sum/len(score))"
   ]
  },
  {
   "cell_type": "code",
   "execution_count": 23,
   "metadata": {},
   "outputs": [
    {
     "name": "stdout",
     "output_type": "stream",
     "text": [
      "88\n",
      "41\n",
      "34\n",
      "89\n",
      "66\n",
      "79\n",
      "21\n",
      "81\n",
      "총점 : 499\n"
     ]
    }
   ],
   "source": [
    "sum = 0\n",
    "for i in score:\n",
    "    sum += i\n",
    "    print(i)\n",
    "print(\"총점 :\",sum)"
   ]
  },
  {
   "cell_type": "code",
   "execution_count": 24,
   "metadata": {},
   "outputs": [
    {
     "name": "stdout",
     "output_type": "stream",
     "text": [
      "[34, 89, 66]\n",
      "[89, 66, 79, 21]\n",
      "[88, 41, 34, 89]\n",
      "[21, 81]\n",
      "81\n",
      "41\n",
      "[41, 89, 79]\n",
      "[88, 89, 21]\n"
     ]
    }
   ],
   "source": [
    "score = [88, 41, 34, 89, 66, 79, 21, 81]\n",
    "print(score[2:5])\n",
    "print(score[3:-1])\n",
    "print(score[:4])\n",
    "print(score[6:])\n",
    "print(score[-1])\n",
    "print(score[1])\n",
    "print(score[1:7:2])\n",
    "print(score[::3])"
   ]
  },
  {
   "cell_type": "code",
   "execution_count": 25,
   "metadata": {},
   "outputs": [
    {
     "name": "stdout",
     "output_type": "stream",
     "text": [
      "34\n"
     ]
    }
   ],
   "source": [
    "print(score[2])"
   ]
  },
  {
   "cell_type": "code",
   "execution_count": 26,
   "metadata": {},
   "outputs": [
    {
     "data": {
      "text/plain": [
       "34"
      ]
     },
     "execution_count": 26,
     "metadata": {},
     "output_type": "execute_result"
    }
   ],
   "source": [
    "score[2]"
   ]
  },
  {
   "cell_type": "code",
   "execution_count": 27,
   "metadata": {},
   "outputs": [],
   "source": [
    "# 값 대입으로 변경\n",
    "\n",
    "score[2] = 100"
   ]
  },
  {
   "cell_type": "code",
   "execution_count": 28,
   "metadata": {},
   "outputs": [
    {
     "name": "stdout",
     "output_type": "stream",
     "text": [
      "100\n"
     ]
    }
   ],
   "source": [
    "print(score[2])"
   ]
  },
  {
   "cell_type": "code",
   "execution_count": 29,
   "metadata": {},
   "outputs": [
    {
     "name": "stdout",
     "output_type": "stream",
     "text": [
      "[88, 41, 100, 89, 66, 79, 21, 81]\n"
     ]
    }
   ],
   "source": [
    "print(score)"
   ]
  },
  {
   "cell_type": "code",
   "execution_count": 30,
   "metadata": {},
   "outputs": [],
   "source": [
    "num = [0, 1, 2, 3, 4, 5, 6, 7, 8, 9]"
   ]
  },
  {
   "cell_type": "code",
   "execution_count": 31,
   "metadata": {},
   "outputs": [
    {
     "name": "stdout",
     "output_type": "stream",
     "text": [
      "[0, 1, 20, 30, 40, 5, 6, 7, 8, 9]\n"
     ]
    }
   ],
   "source": [
    "num[2:5] = [20,30,40]\n",
    "print(num)"
   ]
  },
  {
   "cell_type": "code",
   "execution_count": 61,
   "metadata": {},
   "outputs": [
    {
     "name": "stdout",
     "output_type": "stream",
     "text": [
      "[1, 0, 0, 0]\n"
     ]
    }
   ],
   "source": [
    "nums = [1, 2, 3, 4]\n",
    "nums[1:] = [0,0,0]\n",
    "print(nums)"
   ]
  },
  {
   "cell_type": "code",
   "execution_count": 34,
   "metadata": {},
   "outputs": [
    {
     "name": "stdout",
     "output_type": "stream",
     "text": [
      "[0, 1, 20, 30, 40, 5, 123, 1234, 12345, 123456, 1234567, 12345678, 123456789, 12345, 123456, 1234567, 12345678, 123456789, 8, 9]\n"
     ]
    }
   ],
   "source": [
    "# 값 대입으로 추가\n",
    "\n",
    "num[6:8] = [123,1234,12345,123456,1234567,12345678,123456789]\n",
    "print(num)"
   ]
  },
  {
   "cell_type": "code",
   "execution_count": 59,
   "metadata": {},
   "outputs": [
    {
     "name": "stdout",
     "output_type": "stream",
     "text": [
      "[1, 2, 0, 0, 0, 0, 3, 4]\n"
     ]
    }
   ],
   "source": [
    "nums = [1, 2, 3, 4]\n",
    "nums[2:2] = [0, 0, 0, 0]\n",
    "print(nums)"
   ]
  },
  {
   "cell_type": "code",
   "execution_count": 63,
   "metadata": {},
   "outputs": [
    {
     "name": "stdout",
     "output_type": "stream",
     "text": [
      "[1, 0, 0, (90, 91, 92)]\n"
     ]
    }
   ],
   "source": [
    "nums[3] = (90, 91, 92)\n",
    "print(nums)"
   ]
  },
  {
   "cell_type": "code",
   "execution_count": 35,
   "metadata": {},
   "outputs": [
    {
     "name": "stdout",
     "output_type": "stream",
     "text": [
      "[0, 1]\n"
     ]
    }
   ],
   "source": [
    "# 값 대입으로 삭제\n",
    "\n",
    "num[2:] =[]\n",
    "print(num)"
   ]
  },
  {
   "cell_type": "code",
   "execution_count": 36,
   "metadata": {},
   "outputs": [
    {
     "name": "stdout",
     "output_type": "stream",
     "text": [
      "[0]\n"
     ]
    }
   ],
   "source": [
    "# del 삭제\n",
    "\n",
    "del num[1]\n",
    "print(num)"
   ]
  },
  {
   "cell_type": "code",
   "execution_count": 38,
   "metadata": {},
   "outputs": [
    {
     "name": "stdout",
     "output_type": "stream",
     "text": [
      "[1, 2, 3, 4, 5, 10, 11, 22, 33]\n",
      "\n",
      "[10, 11, 22, 33, 10, 11, 22, 33, 10, 11, 22, 33]\n"
     ]
    }
   ],
   "source": [
    "# list1 + list2/ list1 * 3\n",
    "\n",
    "list1 = [1, 2, 3, 4, 5]\n",
    "list2 = [10, 11, 22, 33]\n",
    "listadd= list1 + list2\n",
    "print(listadd)\n",
    "print()\n",
    "listmulti=list2 * 3 \n",
    "print(listmulti)"
   ]
  },
  {
   "cell_type": "code",
   "execution_count": 40,
   "metadata": {},
   "outputs": [
    {
     "name": "stdout",
     "output_type": "stream",
     "text": [
      "[1, 2, 3]\n",
      "7\n"
     ]
    }
   ],
   "source": [
    "# 이중 리스트\n",
    "\n",
    "lol = [[1,2,3],[4,5],[6,7,8,9]]\n",
    "print(lol[0])\n",
    "print(lol[2][1])"
   ]
  },
  {
   "cell_type": "code",
   "execution_count": 41,
   "metadata": {},
   "outputs": [
    {
     "name": "stdout",
     "output_type": "stream",
     "text": [
      "123\n",
      "45\n",
      "6789\n"
     ]
    }
   ],
   "source": [
    "for sub in lol:\n",
    "    for item in sub:\n",
    "        print(item,end='')\n",
    "    print()"
   ]
  },
  {
   "cell_type": "code",
   "execution_count": 53,
   "metadata": {},
   "outputs": [
    {
     "name": "stdout",
     "output_type": "stream",
     "text": [
      "총점 : 354평균 : 88.5\n",
      "총점 : 275평균 : 68.75\n",
      "총점 : 328평균 : 82.0\n",
      "전체평균 : 79.75\n"
     ]
    }
   ],
   "source": [
    "score=[[88,76,92,98],[65,70,58,82],[82,80,78,88]]\n",
    "\n",
    "total = 0\n",
    "totalsub = 0\n",
    "subject = 0\n",
    "for sub in score:\n",
    "    sum = 0\n",
    "    for item in sub:\n",
    "        sum += item\n",
    "    subject = len(sub)\n",
    "    print(\"총점 :\",sum, end='')\n",
    "    print(\"평균 :\", sum/len(sub))\n",
    "    total += sum\n",
    "    totalsub += subject\n",
    "print(\"전체평균 :\", total/totalsub)"
   ]
  },
  {
   "cell_type": "code",
   "execution_count": 54,
   "metadata": {},
   "outputs": [
    {
     "name": "stdout",
     "output_type": "stream",
     "text": [
      "총점 354, 평균 88.50\n",
      "총점 275, 평균 68.75\n",
      "총점 328, 평균 82.00\n",
      "전체평균 79.75\n"
     ]
    }
   ],
   "source": [
    "score=[[88,76,92,98],[65,70,58,82],[82,80,78,88]]\n",
    "\n",
    "total = 0\n",
    "totalsub = 0\n",
    "for student in score:\n",
    "    sum = 0\n",
    "    for subject in student:\n",
    "        sum += subject\n",
    "    subject = len(student)\n",
    "    print(\"총점 %d, 평균 %.2f\" %(sum,sum/subject))\n",
    "    total += sum\n",
    "    totalsub += subject\n",
    "print(\"전체평균 %.2f\" %(total/totalsub))"
   ]
  },
  {
   "cell_type": "code",
   "execution_count": null,
   "metadata": {},
   "outputs": [],
   "source": [
    "# 리스트 컴프리헨션 - 리스트 안의 요소가 일정한 규칙을 가지는 수열이라면 \n",
    "[수식 for 변수 in 리스트 if 조건]"
   ]
  },
  {
   "cell_type": "code",
   "execution_count": 55,
   "metadata": {},
   "outputs": [
    {
     "name": "stdout",
     "output_type": "stream",
     "text": [
      "[2, 4, 6, 8, 10, 12, 14, 16, 18, 20]\n"
     ]
    }
   ],
   "source": [
    "num = [n*2 for n in range(1,11)]\n",
    "print(num)"
   ]
  },
  {
   "cell_type": "code",
   "execution_count": 56,
   "metadata": {},
   "outputs": [
    {
     "name": "stdout",
     "output_type": "stream",
     "text": [
      "2\n",
      "4\n",
      "6\n",
      "8\n",
      "10\n",
      "12\n",
      "14\n",
      "16\n",
      "18\n",
      "20\n"
     ]
    }
   ],
   "source": [
    "num = [n*2 for n in range(1,11)]\n",
    "for i in num:\n",
    "    print(i)"
   ]
  },
  {
   "cell_type": "markdown",
   "metadata": {},
   "source": [
    "## 9-2 리스트 관리\n",
    "append, insert, extend, remove, pop, indext, count"
   ]
  },
  {
   "cell_type": "code",
   "execution_count": 66,
   "metadata": {},
   "outputs": [
    {
     "name": "stdout",
     "output_type": "stream",
     "text": [
      "[1, 2, 3, 4, 5]\n",
      "\n",
      "[1, 2, 100, 3, 4, 5]\n"
     ]
    }
   ],
   "source": [
    "# 삽입 - append, insert\n",
    "nums = [1,2,3,4]\n",
    "nums.append(5)\n",
    "print(nums)\n",
    "print()\n",
    "nums.insert(2,100)\n",
    "print(nums)"
   ]
  },
  {
   "cell_type": "code",
   "execution_count": 69,
   "metadata": {},
   "outputs": [
    {
     "name": "stdout",
     "output_type": "stream",
     "text": [
      "[1, 2, 90, 91, 92, 3, 4]\n",
      "\n",
      "[1, 2, [90, 91, 92], 4]\n"
     ]
    }
   ],
   "source": [
    "nums = [1,2,3,4]\n",
    "nums[2:2] = [90,91,92]\n",
    "print(nums)\n",
    "print()\n",
    "nums = [1,2,3,4]\n",
    "nums[2] = [90,91,92]\n",
    "print(nums)"
   ]
  },
  {
   "cell_type": "code",
   "execution_count": 74,
   "metadata": {},
   "outputs": [
    {
     "name": "stdout",
     "output_type": "stream",
     "text": [
      "[1, 2, 10, 11]\n"
     ]
    }
   ],
   "source": [
    "# 리스트에 리스트를확장 - extend\n",
    "list1 = [1,2]\n",
    "list2 = [10,11]\n",
    "list1.extend(list2)\n",
    "print(list1)"
   ]
  },
  {
   "cell_type": "code",
   "execution_count": 75,
   "metadata": {},
   "outputs": [
    {
     "name": "stdout",
     "output_type": "stream",
     "text": [
      "[1, 2, 10, 11]\n"
     ]
    }
   ],
   "source": [
    "# 리스트에 튜플을 확장\n",
    "list1 = [1,2]\n",
    "list2 = (10,11)\n",
    "list1.extend(list2)\n",
    "print(list1)"
   ]
  },
  {
   "cell_type": "code",
   "execution_count": 76,
   "metadata": {},
   "outputs": [
    {
     "ename": "AttributeError",
     "evalue": "'tuple' object has no attribute 'extend'",
     "output_type": "error",
     "traceback": [
      "\u001b[1;31m---------------------------------------------------------------------------\u001b[0m",
      "\u001b[1;31mAttributeError\u001b[0m                            Traceback (most recent call last)",
      "\u001b[1;32m<ipython-input-76-4f3f7cb3aa62>\u001b[0m in \u001b[0;36m<module>\u001b[1;34m\u001b[0m\n\u001b[0;32m      2\u001b[0m \u001b[0mlist1\u001b[0m \u001b[1;33m=\u001b[0m \u001b[1;33m[\u001b[0m\u001b[1;36m1\u001b[0m\u001b[1;33m,\u001b[0m\u001b[1;36m2\u001b[0m\u001b[1;33m]\u001b[0m\u001b[1;33m\u001b[0m\u001b[1;33m\u001b[0m\u001b[0m\n\u001b[0;32m      3\u001b[0m \u001b[0mlist2\u001b[0m \u001b[1;33m=\u001b[0m \u001b[1;33m(\u001b[0m\u001b[1;36m10\u001b[0m\u001b[1;33m,\u001b[0m\u001b[1;36m11\u001b[0m\u001b[1;33m)\u001b[0m\u001b[1;33m\u001b[0m\u001b[1;33m\u001b[0m\u001b[0m\n\u001b[1;32m----> 4\u001b[1;33m \u001b[0mlist2\u001b[0m\u001b[1;33m.\u001b[0m\u001b[0mextend\u001b[0m\u001b[1;33m(\u001b[0m\u001b[0mlist1\u001b[0m\u001b[1;33m)\u001b[0m\u001b[1;33m\u001b[0m\u001b[1;33m\u001b[0m\u001b[0m\n\u001b[0m\u001b[0;32m      5\u001b[0m \u001b[0mprint\u001b[0m\u001b[1;33m(\u001b[0m\u001b[0mlist1\u001b[0m\u001b[1;33m)\u001b[0m\u001b[1;33m\u001b[0m\u001b[1;33m\u001b[0m\u001b[0m\n",
      "\u001b[1;31mAttributeError\u001b[0m: 'tuple' object has no attribute 'extend'"
     ]
    }
   ],
   "source": [
    "# 튜플에 리스트를 확장(에러)\n",
    "list1 = [1,2]\n",
    "list2 = (10,11)\n",
    "list2.extend(list1)\n",
    "print(list1)"
   ]
  },
  {
   "cell_type": "code",
   "execution_count": 3,
   "metadata": {},
   "outputs": [
    {
     "name": "stdout",
     "output_type": "stream",
     "text": [
      "[88, 95, 70, 100, 99, 80, 78]\n",
      "\n",
      "[88, 95, 70, 100, 99, 80]\n",
      "\n",
      "[88, 95]\n"
     ]
    }
   ],
   "source": [
    "# 삭제 - remove, del, []\n",
    "\n",
    "score=[88,95,70,100,99,80,78,50]\n",
    "score.remove(50)\n",
    "print(score)\n",
    "print()\n",
    "del(score[6])\n",
    "print(score)\n",
    "print()\n",
    "score[2:6]=[]\n",
    "print(score)"
   ]
  },
  {
   "cell_type": "code",
   "execution_count": 5,
   "metadata": {},
   "outputs": [
    {
     "name": "stdout",
     "output_type": "stream",
     "text": [
      "99\n",
      "100\n",
      "95\n",
      "[88, 70]\n"
     ]
    }
   ],
   "source": [
    "# 꺼내기 - pop / del은 요소를 지우기만 하는데 pop은 삭제한 요소를 꺼내 리턴한다\n",
    "\n",
    "score = [88,95,70,100,99]\n",
    "print(score.pop())\n",
    "print(score.pop())\n",
    "print(score.pop(1))     # 첫번째 요소를 pop\n",
    "print(score)"
   ]
  },
  {
   "cell_type": "code",
   "execution_count": 7,
   "metadata": {},
   "outputs": [
    {
     "name": "stdout",
     "output_type": "stream",
     "text": [
      "만점 받은 학생은 3번입니다\n",
      "만점자 수는 1명입니다.\n"
     ]
    }
   ],
   "source": [
    "# 검색 - index(리스트의 검색 메서드는 문자열의 경우와 거의 같다. index는 특정 요소의 위치를 찾으며 발견되지 않을 경우 예외를 발생시킨다.)\n",
    "# count - 특정 요소의 개수를 조사한다\n",
    "\n",
    "score=[88,95,70,100,99,80,78,50]\n",
    "perfect = score.index(100)\n",
    "print(\"만점 받은 학생은 \" + str(perfect) + \"번입니다\")\n",
    "5pernum= score.count(100)\n",
    "print(\"만점자 수는 \" + str(pernum)+\"명입니다.\")"
   ]
  },
  {
   "cell_type": "code",
   "execution_count": 9,
   "metadata": {},
   "outputs": [
    {
     "name": "stdout",
     "output_type": "stream",
     "text": [
      "학생 수는 8명입니다.\n",
      "최고 점수는 100점입니다\n",
      "최저 점수는 50점입니다\n"
     ]
    }
   ],
   "source": [
    "# min, max\n",
    "score = [88,95,70,100,99,80,78,50]\n",
    "print(\"학생 수는 %d명입니다.\" %len(score))\n",
    "print(\"최고 점수는 %d점입니다\" %max(score))\n",
    "print(\"최저 점수는 %d점입니다\" %min(score))"
   ]
  },
  {
   "cell_type": "code",
   "execution_count": 10,
   "metadata": {},
   "outputs": [
    {
     "name": "stdout",
     "output_type": "stream",
     "text": [
      "결제 하시겠습니까?예\n",
      "구입해 주셔서 감사합니다\n"
     ]
    }
   ],
   "source": [
    "# in, not in\n",
    "\n",
    "ans = input(\"결제 하시겠습니까?\")\n",
    "if ans in ['yes', 'y','ok','예','당근']:\n",
    "    print(\"구입해 주셔서 감사합니다\")\n",
    "else:\n",
    "    print(\"안녕히 가세요\")"
   ]
  },
  {
   "cell_type": "code",
   "execution_count": 11,
   "metadata": {},
   "outputs": [
    {
     "ename": "SyntaxError",
     "evalue": "unexpected EOF while parsing (<ipython-input-11-da64d82d5913>, line 1)",
     "output_type": "error",
     "traceback": [
      "\u001b[1;36m  File \u001b[1;32m\"<ipython-input-11-da64d82d5913>\"\u001b[1;36m, line \u001b[1;32m1\u001b[0m\n\u001b[1;33m    if ans =='y' or ans =='yes'or ans =='ok'or ans=='예'or ans=='당근':\u001b[0m\n\u001b[1;37m                                                                    ^\u001b[0m\n\u001b[1;31mSyntaxError\u001b[0m\u001b[1;31m:\u001b[0m unexpected EOF while parsing\n"
     ]
    }
   ],
   "source": [
    "if ans =='y' or ans =='yes'or ans =='ok'or ans=='예'or ans=='당근':\n"
   ]
  },
  {
   "cell_type": "code",
   "execution_count": 14,
   "metadata": {},
   "outputs": [
    {
     "name": "stdout",
     "output_type": "stream",
     "text": [
      "[70, 88, 95, 99, 100]\n",
      "[100, 99, 95, 88, 70]\n"
     ]
    }
   ],
   "source": [
    "# 배열 - sort/ reverse\n",
    "\n",
    "score = [88,95,70,100,99]\n",
    "score.sort()\n",
    "print(score)\n",
    "score.reverse()\n",
    "print(score)"
   ]
  },
  {
   "cell_type": "code",
   "execution_count": 15,
   "metadata": {},
   "outputs": [
    {
     "name": "stdout",
     "output_type": "stream",
     "text": [
      "None\n"
     ]
    }
   ],
   "source": [
    "print(score.sort())"
   ]
  },
  {
   "cell_type": "code",
   "execution_count": null,
   "metadata": {},
   "outputs": [],
   "source": [
    "print(sort)"
   ]
  },
  {
   "cell_type": "code",
   "execution_count": 18,
   "metadata": {},
   "outputs": [
    {
     "name": "stdout",
     "output_type": "stream",
     "text": [
      "[88, 95, 70, 100, 99]\n",
      "[70, 88, 95, 99, 100]\n"
     ]
    }
   ],
   "source": [
    "#  sort- 메서드, sorted- 내장함수\n",
    "\n",
    "score = [88,95,70,100,99]\n",
    "score2=sorted(score)\n",
    "print(score)\n",
    "print(score2)"
   ]
  },
  {
   "cell_type": "code",
   "execution_count": 22,
   "metadata": {},
   "outputs": [
    {
     "name": "stdout",
     "output_type": "stream",
     "text": [
      "['CHINA', 'Korea', 'america', 'japan']\n",
      "['america', 'CHINA', 'japan', 'Korea']\n"
     ]
    }
   ],
   "source": [
    "# key = str.lower\n",
    "# key인수에 str.lower를 주어 소문자로 바꾼 후 비교한다.\n",
    "\n",
    "country =[\"Korea\",\"japan\",\"CHINA\",\"america\"]\n",
    "country.sort()\n",
    "print(country)\n",
    "country.sort(key=str.lower)\n",
    "print(country)"
   ]
  },
  {
   "cell_type": "markdown",
   "metadata": {},
   "source": [
    "## 9-3. 튜플"
   ]
  },
  {
   "cell_type": "code",
   "execution_count": 23,
   "metadata": {},
   "outputs": [
    {
     "name": "stdout",
     "output_type": "stream",
     "text": [
      "총점 : 452\n",
      "평균 : 90.4\n"
     ]
    }
   ],
   "source": [
    "score = (88,95,70,100,99)\n",
    "sum = 0\n",
    "for s in score:\n",
    "    sum += s\n",
    "print(\"총점 :\",sum)\n",
    "print(\"평균 :\",sum/len(score))"
   ]
  },
  {
   "cell_type": "code",
   "execution_count": 24,
   "metadata": {},
   "outputs": [
    {
     "name": "stdout",
     "output_type": "stream",
     "text": [
      "(2,)\n",
      "2\n"
     ]
    }
   ],
   "source": [
    "tu = 2,            # , 가 있으면 튜플이라고 인식\n",
    "value = 2          # 하나만 있으면 값으로 출력\n",
    "print(tu)\n",
    "print(value)"
   ]
  },
  {
   "cell_type": "code",
   "execution_count": 34,
   "metadata": {
    "scrolled": true
   },
   "outputs": [
    {
     "name": "stdout",
     "output_type": "stream",
     "text": [
      "(1, 2, 3, 4, 5)\n",
      "4\n",
      "(2, 3)\n",
      "(1, 2, 3, 4, 5, 6, 7)\n",
      "(1, 2, 3, 4, 5, 1, 2, 3, 4, 5)\n"
     ]
    },
    {
     "ename": "TypeError",
     "evalue": "'tuple' object does not support item assignment",
     "output_type": "error",
     "traceback": [
      "\u001b[1;31m---------------------------------------------------------------------------\u001b[0m",
      "\u001b[1;31mTypeError\u001b[0m                                 Traceback (most recent call last)",
      "\u001b[1;32m<ipython-input-34-101b5cfa7315>\u001b[0m in \u001b[0;36m<module>\u001b[1;34m\u001b[0m\n\u001b[0;32m      9\u001b[0m \u001b[0mprint\u001b[0m\u001b[1;33m(\u001b[0m\u001b[0mtu\u001b[0m \u001b[1;33m+\u001b[0m \u001b[1;33m(\u001b[0m\u001b[1;36m6\u001b[0m\u001b[1;33m,\u001b[0m\u001b[1;36m7\u001b[0m\u001b[1;33m)\u001b[0m\u001b[1;33m)\u001b[0m\u001b[1;33m\u001b[0m\u001b[1;33m\u001b[0m\u001b[0m\n\u001b[0;32m     10\u001b[0m \u001b[0mprint\u001b[0m\u001b[1;33m(\u001b[0m\u001b[0mtu\u001b[0m \u001b[1;33m*\u001b[0m \u001b[1;36m2\u001b[0m\u001b[1;33m)\u001b[0m\u001b[1;33m\u001b[0m\u001b[1;33m\u001b[0m\u001b[0m\n\u001b[1;32m---> 11\u001b[1;33m \u001b[0mtu\u001b[0m\u001b[1;33m[\u001b[0m\u001b[1;36m1\u001b[0m\u001b[1;33m]\u001b[0m\u001b[1;33m=\u001b[0m\u001b[1;36m100\u001b[0m            \u001b[1;31m# 변경 불가능\u001b[0m\u001b[1;33m\u001b[0m\u001b[1;33m\u001b[0m\u001b[0m\n\u001b[0m\u001b[0;32m     12\u001b[0m \u001b[1;32mdel\u001b[0m \u001b[0mtu\u001b[0m\u001b[1;33m[\u001b[0m\u001b[1;36m1\u001b[0m\u001b[1;33m]\u001b[0m            \u001b[1;31m# 삭제 불가능\u001b[0m\u001b[1;33m\u001b[0m\u001b[1;33m\u001b[0m\u001b[0m\n",
      "\u001b[1;31mTypeError\u001b[0m: 'tuple' object does not support item assignment"
     ]
    }
   ],
   "source": [
    "# 튜플 - +, *   \n",
    "# 범위를 추출하여 일부를 잘라낼수도 있고 + 연산자로 튜플끼리 연결하거 * 연산자로 튜플의 요소를 반복 가능\n",
    "# But, 튜플의 요소를 변경하거나 삭제하는 것은 불가능\n",
    "\n",
    "tu = 1,2,3,4,5\n",
    "print(tu)           # 아무것도 감싸져 있지 않는 건 튜플\n",
    "print(tu[3])\n",
    "print(tu[1:3])\n",
    "print(tu + (6,7))\n",
    "print(tu * 2)\n",
    "tu[1]=100            # 변경 불가능\n",
    "del tu[1]            # 삭제 불가능"
   ]
  },
  {
   "cell_type": "code",
   "execution_count": 38,
   "metadata": {},
   "outputs": [
    {
     "data": {
      "text/plain": [
       "(88, 98, 70, 100, 99)"
      ]
     },
     "execution_count": 38,
     "metadata": {},
     "output_type": "execute_result"
    }
   ],
   "source": [
    "score = [88, 98, 70, 100, 99]\n",
    "tuple(score)"
   ]
  },
  {
   "cell_type": "code",
   "execution_count": 32,
   "metadata": {},
   "outputs": [
    {
     "ename": "AttributeError",
     "evalue": "'tuple' object has no attribute 'extend'",
     "output_type": "error",
     "traceback": [
      "\u001b[1;31m---------------------------------------------------------------------------\u001b[0m",
      "\u001b[1;31mAttributeError\u001b[0m                            Traceback (most recent call last)",
      "\u001b[1;32m<ipython-input-32-e810d1140c6c>\u001b[0m in \u001b[0;36m<module>\u001b[1;34m\u001b[0m\n\u001b[1;32m----> 1\u001b[1;33m \u001b[0mtu\u001b[0m\u001b[1;33m.\u001b[0m\u001b[0mextend\u001b[0m\u001b[1;33m(\u001b[0m\u001b[1;36m1\u001b[0m\u001b[1;33m,\u001b[0m\u001b[1;36m2\u001b[0m\u001b[1;33m)\u001b[0m\u001b[1;33m\u001b[0m\u001b[1;33m\u001b[0m\u001b[0m\n\u001b[0m\u001b[0;32m      2\u001b[0m \u001b[0mprint\u001b[0m\u001b[1;33m(\u001b[0m\u001b[0mtu\u001b[0m\u001b[1;33m)\u001b[0m\u001b[1;33m\u001b[0m\u001b[1;33m\u001b[0m\u001b[0m\n",
      "\u001b[1;31mAttributeError\u001b[0m: 'tuple' object has no attribute 'extend'"
     ]
    }
   ],
   "source": [
    "tu.extend(1,2)\n",
    "print(tu)"
   ]
  },
  {
   "cell_type": "code",
   "execution_count": 29,
   "metadata": {},
   "outputs": [
    {
     "name": "stdout",
     "output_type": "stream",
     "text": [
      "이순신\n",
      "김유신\n",
      "강감찬\n"
     ]
    }
   ],
   "source": [
    "tu = \"이순신\", \"김유신\", \"강감찬\"\n",
    "lee, kim, kang = tu\n",
    "print(lee)\n",
    "print(kim)\n",
    "print(kang)"
   ]
  },
  {
   "cell_type": "code",
   "execution_count": 35,
   "metadata": {},
   "outputs": [
    {
     "name": "stdout",
     "output_type": "stream",
     "text": [
      "이순신\n",
      "김유신\n",
      "강감찬\n"
     ]
    }
   ],
   "source": [
    "lee, kim, kang = '이순신','김유신','강감찬'\n",
    "print(lee)\n",
    "print(kim)\n",
    "print(kang)"
   ]
  },
  {
   "cell_type": "code",
   "execution_count": 31,
   "metadata": {},
   "outputs": [
    {
     "name": "stdout",
     "output_type": "stream",
     "text": [
      "12 34\n",
      "34 12\n"
     ]
    }
   ],
   "source": [
    "# 두 값의 교환\n",
    "\n",
    "a, b = 12 ,34\n",
    "print(a,b)\n",
    "a,b=b,a\n",
    "print(a,b)"
   ]
  },
  {
   "cell_type": "code",
   "execution_count": 37,
   "metadata": {},
   "outputs": [
    {
     "name": "stdout",
     "output_type": "stream",
     "text": [
      "(20, 45)\n",
      "(20, 45)\n",
      "지금은 20시 45분입니다\n"
     ]
    }
   ],
   "source": [
    "# gettime - 현재 시간을 조사하여 리턴\n",
    "\n",
    "import time\n",
    "\n",
    "def gettime():\n",
    "    now = time.localtime()\n",
    "    return now.tm_hour, now.tm_min\n",
    "\n",
    "result = gettime()\n",
    "print(gettime())\n",
    "print(result)\n",
    "print(\"지금은 %d시 %d분입니다\" %(result[0], result[1]))"
   ]
  },
  {
   "cell_type": "code",
   "execution_count": 40,
   "metadata": {},
   "outputs": [
    {
     "name": "stdout",
     "output_type": "stream",
     "text": [
      "몫 2\n",
      "나머지 1\n"
     ]
    }
   ],
   "source": [
    "# divmod 함수 - 나눗셈의 몫과 나머지를 튜플로 묶어 리턴\n",
    "\n",
    "d, m = divmod(7,3)\n",
    "print(\"몫\",d)\n",
    "print(\"나머지\",m)"
   ]
  },
  {
   "cell_type": "code",
   "execution_count": 41,
   "metadata": {},
   "outputs": [
    {
     "name": "stdout",
     "output_type": "stream",
     "text": [
      "(88, 95, 70, 100, 99)\n",
      "[100, 95, 70, 100, 99]\n"
     ]
    }
   ],
   "source": [
    "score = [88,95,70,100,99]\n",
    "tu = tuple(score)\n",
    "# tu[0] = 100\n",
    "print(tu)\n",
    "li = list(tu)\n",
    "li[0] = 100\n",
    "print(li)"
   ]
  },
  {
   "cell_type": "markdown",
   "metadata": {},
   "source": [
    "---\n",
    "Q. 문제 : score 리스트에 성적값 8개를 저장하고 총점과 평균을 구해 출력하라"
   ]
  },
  {
   "cell_type": "code",
   "execution_count": 44,
   "metadata": {},
   "outputs": [
    {
     "name": "stdout",
     "output_type": "stream",
     "text": [
      "총점 : 484\n",
      "평균 : 60.5\n"
     ]
    }
   ],
   "source": [
    "score = [99,88,77,66,55,44,33,22]\n",
    "sum = 0\n",
    "for i in score:\n",
    "    sum += i\n",
    "print(\"총점 :\", sum)\n",
    "print(\"평균 :\", sum/len(score))"
   ]
  },
  {
   "cell_type": "markdown",
   "metadata": {},
   "source": [
    "---\n",
    "Q. 문제 : score = [88,95,70,100,99] 리스트에서 2번 학생의 성적을 0점으로 변경하라"
   ]
  },
  {
   "cell_type": "code",
   "execution_count": 45,
   "metadata": {},
   "outputs": [
    {
     "name": "stdout",
     "output_type": "stream",
     "text": [
      "[88, 95, 0, 100, 99]\n"
     ]
    }
   ],
   "source": [
    "score = [88,95,70,100,99]\n",
    "score[1] = 0                # 두번째는 컴퓨터의 두번째와 다르다!!\n",
    "print(score)"
   ]
  },
  {
   "cell_type": "markdown",
   "metadata": {},
   "source": [
    "---\n",
    "Q. 문제 : 리스트 컴프리헨션 문법을 사용하여 1에서 100사이의 짝수로 구성된 리스트를 생성하라"
   ]
  },
  {
   "cell_type": "code",
   "execution_count": 55,
   "metadata": {},
   "outputs": [
    {
     "name": "stdout",
     "output_type": "stream",
     "text": [
      "[2, 4, 6, 8, 10, 12, 14, 16, 18, 20, 22, 24, 26, 28, 30, 32, 34, 36, 38, 40, 42, 44, 46, 48, 50, 52, 54, 56, 58, 60, 62, 64, 66, 68, 70, 72, 74, 76, 78, 80, 82, 84, 86, 88, 90, 92, 94, 96, 98, 100]\n"
     ]
    }
   ],
   "source": [
    "num =[i for i in range(1,101) if i % 2 ==0]\n",
    "print(num)"
   ]
  },
  {
   "cell_type": "code",
   "execution_count": 58,
   "metadata": {},
   "outputs": [
    {
     "name": "stdout",
     "output_type": "stream",
     "text": [
      "[2, 4, 6, 8, 10, 12, 14, 16, 18, 20, 22, 24, 26, 28, 30, 32, 34, 36, 38, 40, 42, 44, 46, 48, 50, 52, 54, 56, 58, 60, 62, 64, 66, 68, 70, 72, 74, 76, 78, 80, 82, 84, 86, 88, 90, 92, 94, 96, 98]\n"
     ]
    }
   ],
   "source": [
    "li = [n*2 for n in range(1,50)]\n",
    "print(li)"
   ]
  },
  {
   "cell_type": "markdown",
   "metadata": {},
   "source": [
    "---\n",
    "Q. 문제 : [n*n for n in range(1,10) if  n%3 ==0] 이 구문을 평이한 루프와 조건문, 연산식으로 풀어서 작성하라"
   ]
  },
  {
   "cell_type": "code",
   "execution_count": 63,
   "metadata": {},
   "outputs": [
    {
     "name": "stdout",
     "output_type": "stream",
     "text": [
      "9\n",
      "36\n",
      "81\n"
     ]
    }
   ],
   "source": [
    "for n in range(1,10):\n",
    "    if n % 3 ==0:\n",
    "        print(n*n)"
   ]
  },
  {
   "cell_type": "code",
   "execution_count": 64,
   "metadata": {},
   "outputs": [
    {
     "name": "stdout",
     "output_type": "stream",
     "text": [
      "9,36,81,"
     ]
    }
   ],
   "source": [
    "nums = []\n",
    "for n in range(1,10):\n",
    "    if n % 3 ==0:\n",
    "        nums.append(n*n)     \n",
    "        \n",
    "for i in nums:\n",
    "    print(i, end=',')"
   ]
  },
  {
   "cell_type": "markdown",
   "metadata": {},
   "source": [
    "---\n",
    "Q. 문제 : 사용자로부터 5개의 성적을 입력받아 리스트에 저장한 후 오름차순으로 정렬하여 출력하라"
   ]
  },
  {
   "cell_type": "code",
   "execution_count": 66,
   "metadata": {},
   "outputs": [
    {
     "name": "stdout",
     "output_type": "stream",
     "text": [
      "1번 학생의 성적을 입력하세요 :95\n",
      "2번 학생의 성적을 입력하세요 :35\n",
      "3번 학생의 성적을 입력하세요 :74\n",
      "4번 학생의 성적을 입력하세요 :7\n",
      "5번 학생의 성적을 입력하세요 :27\n",
      "[7, 27, 35, 74, 95]\n"
     ]
    }
   ],
   "source": [
    "li = []\n",
    "for i in range(1,6):\n",
    "    score = int(input(str(i) +\"번 학생의 성적을 입력하세요 :\"))\n",
    "    li.append(score)\n",
    "li.sort()\n",
    "print(li)"
   ]
  },
  {
   "cell_type": "code",
   "execution_count": null,
   "metadata": {},
   "outputs": [],
   "source": [
    "li = []\n",
    "for i in range(1,6):\n",
    "    score = int(input(str(i) + \"번 학생의 성적을 입력하세요 :\"))\n",
    "    li.append(score)"
   ]
  },
  {
   "cell_type": "markdown",
   "metadata": {},
   "source": [
    "# 10장. 사전과 집합"
   ]
  },
  {
   "cell_type": "code",
   "execution_count": 67,
   "metadata": {},
   "outputs": [
    {
     "name": "stdout",
     "output_type": "stream",
     "text": [
      "{'boy': '소년', 'school': '학교', 'book': '책'}\n"
     ]
    }
   ],
   "source": [
    "dic = {'boy':'소년','school':'학교','book':'책'}\n",
    "print(dic)"
   ]
  },
  {
   "cell_type": "code",
   "execution_count": 68,
   "metadata": {},
   "outputs": [
    {
     "name": "stdout",
     "output_type": "stream",
     "text": [
      "소년\n",
      "책\n"
     ]
    }
   ],
   "source": [
    "# 사전에 대해 [키] 형식으로 읽으면 값이 정해진다.\n",
    "\n",
    "print(dic['boy'])\n",
    "print(dic['book'])"
   ]
  },
  {
   "cell_type": "code",
   "execution_count": 69,
   "metadata": {},
   "outputs": [
    {
     "ename": "KeyError",
     "evalue": "1",
     "output_type": "error",
     "traceback": [
      "\u001b[1;31m---------------------------------------------------------------------------\u001b[0m",
      "\u001b[1;31mKeyError\u001b[0m                                  Traceback (most recent call last)",
      "\u001b[1;32m<ipython-input-69-a57362aa7273>\u001b[0m in \u001b[0;36m<module>\u001b[1;34m\u001b[0m\n\u001b[1;32m----> 1\u001b[1;33m \u001b[0mprint\u001b[0m\u001b[1;33m(\u001b[0m\u001b[0mdic\u001b[0m\u001b[1;33m[\u001b[0m\u001b[1;36m1\u001b[0m\u001b[1;33m]\u001b[0m\u001b[1;33m)\u001b[0m\u001b[1;33m\u001b[0m\u001b[1;33m\u001b[0m\u001b[0m\n\u001b[0m",
      "\u001b[1;31mKeyError\u001b[0m: 1"
     ]
    }
   ],
   "source": [
    "# 순서가 없기 때문에 첨자로는 읽을 수 없고 키로부터 값을 찾는다\n",
    "\n",
    "print(dic[1])"
   ]
  },
  {
   "cell_type": "code",
   "execution_count": 72,
   "metadata": {},
   "outputs": [
    {
     "ename": "KeyError",
     "evalue": "'student'",
     "output_type": "error",
     "traceback": [
      "\u001b[1;31m---------------------------------------------------------------------------\u001b[0m",
      "\u001b[1;31mKeyError\u001b[0m                                  Traceback (most recent call last)",
      "\u001b[1;32m<ipython-input-72-9fb5f539d8d5>\u001b[0m in \u001b[0;36m<module>\u001b[1;34m\u001b[0m\n\u001b[0;32m      1\u001b[0m \u001b[1;31m# 찾는 키가 없으면 키가 없다는 예외발생.\u001b[0m\u001b[1;33m\u001b[0m\u001b[1;33m\u001b[0m\u001b[1;33m\u001b[0m\u001b[0m\n\u001b[0;32m      2\u001b[0m \u001b[1;33m\u001b[0m\u001b[0m\n\u001b[1;32m----> 3\u001b[1;33m \u001b[0mprint\u001b[0m\u001b[1;33m(\u001b[0m\u001b[0mdic\u001b[0m\u001b[1;33m[\u001b[0m\u001b[1;34m'student'\u001b[0m\u001b[1;33m]\u001b[0m\u001b[1;33m)\u001b[0m\u001b[1;33m\u001b[0m\u001b[1;33m\u001b[0m\u001b[0m\n\u001b[0m",
      "\u001b[1;31mKeyError\u001b[0m: 'student'"
     ]
    }
   ],
   "source": [
    "# 찾는 키가 없으면 키가 없다는 예외발생. \n",
    "\n",
    "print(dic['student'])"
   ]
  },
  {
   "cell_type": "code",
   "execution_count": 75,
   "metadata": {},
   "outputs": [
    {
     "name": "stdout",
     "output_type": "stream",
     "text": [
      "남자애\n",
      "None\n",
      "사전에 없는 단어입니다\n"
     ]
    }
   ],
   "source": [
    "# 예외 처리 구문 사용.\n",
    "# get - 키가 없을 때 에러를 발생시키는 대신 None을 리턴하여 두 번째 인수로 대신 돌려줄 디폴트 값을 지정할 수도 이다.\n",
    "# .get('키','예외구문')\n",
    "\n",
    "print(dic.get('boy'))\n",
    "print(dic.get('student'))\n",
    "print(dic.get('student','사전에 없는 단어입니다'))"
   ]
  },
  {
   "cell_type": "code",
   "execution_count": 73,
   "metadata": {},
   "outputs": [
    {
     "name": "stdout",
     "output_type": "stream",
     "text": [
      "사전에 없는 단어입니다\n"
     ]
    }
   ],
   "source": [
    "if 'student' in dic:\n",
    "    print(\"사전에 있는 단어입니다\")\n",
    "else:\n",
    "    print(\"사전에 없는 단어입니다\")"
   ]
  },
  {
   "cell_type": "code",
   "execution_count": 74,
   "metadata": {},
   "outputs": [
    {
     "name": "stdout",
     "output_type": "stream",
     "text": [
      "{'boy': '남자애', 'school': '학교', 'girl': '소녀'}\n"
     ]
    }
   ],
   "source": [
    "# 삽입, 삭제, 수정 등의 편집이 가능\n",
    "\n",
    "dic['boy']='남자애'      # 수정\n",
    "dic['girl']='소녀'        # 삽입\n",
    "del dic['book']           # 삭제\n",
    "print(dic)"
   ]
  },
  {
   "cell_type": "code",
   "execution_count": 79,
   "metadata": {},
   "outputs": [
    {
     "name": "stdout",
     "output_type": "stream",
     "text": [
      "{'boy': [], 'school': '학교', 'girl': '소녀', 1: []}\n"
     ]
    }
   ],
   "source": [
    "# dic 요소 리스트=[공백]으로 삭제 불가\n",
    "\n",
    "dic[1] = []\n",
    "dic['boy'] = []\n",
    "print(dic)"
   ]
  },
  {
   "cell_type": "code",
   "execution_count": 81,
   "metadata": {},
   "outputs": [
    {
     "name": "stdout",
     "output_type": "stream",
     "text": [
      "dict_keys(['boy', 'school', 'book'])\n",
      "dict_values(['소년', '학교', '책'])\n",
      "dict_items([('boy', '소년'), ('school', '학교'), ('book', '책')])\n"
     ]
    }
   ],
   "source": [
    "# keys 메서드 - (키 목록),  values 메서드 - (값 목록),     items 메서드 - (키:값)\n",
    "\n",
    "dic = {'boy':'소년','school':'학교','book':'책'}\n",
    "print(dic.keys())\n",
    "print(dic.values())\n",
    "print(dic.items())"
   ]
  },
  {
   "cell_type": "code",
   "execution_count": 82,
   "metadata": {},
   "outputs": [
    {
     "name": "stdout",
     "output_type": "stream",
     "text": [
      "boy\n",
      "school\n",
      "book\n"
     ]
    }
   ],
   "source": [
    "keylist = dic.keys()\n",
    "for key in keylist:\n",
    "    print(key)"
   ]
  },
  {
   "cell_type": "code",
   "execution_count": 83,
   "metadata": {},
   "outputs": [
    {
     "name": "stdout",
     "output_type": "stream",
     "text": [
      "{'boy': '소년', 'school': '학교', 'book': '서적', 'student': '학생', 'teacher': '선생님'}\n"
     ]
    }
   ],
   "source": [
    "# update 메서드 - 사전 병합\n",
    "\n",
    "dic = {'boy':'소년','school':'학교','book':'책'}\n",
    "dic2 = {'student':'학생','teacher':'선생님','book':'서적'}\n",
    "dic.update(dic2)\n",
    "print(dic)"
   ]
  },
  {
   "cell_type": "code",
   "execution_count": 85,
   "metadata": {},
   "outputs": [
    {
     "name": "stdout",
     "output_type": "stream",
     "text": [
      "{'boy': '소년', 'school': '학교', 'book': '책'}\n"
     ]
    }
   ],
   "source": [
    "# dictionary로 변경\n",
    "\n",
    "li = [['boy','소년'],['school','학교'],['book','책']]\n",
    "dic = dict(li)\n",
    "print(dic)"
   ]
  },
  {
   "cell_type": "code",
   "execution_count": 93,
   "metadata": {},
   "outputs": [
    {
     "name": "stdout",
     "output_type": "stream",
     "text": [
      "{'b': 4, 'y': 5, 't': 9, 'h': 9, 'e': 23, 'r': 12, 'i': 10, 'v': 2, 's': 10, 'o': 10, 'f': 2, 'a': 12, 'l': 5, 'n': 14, 'w': 12, 'd': 6, 'p': 2, 'm': 2, 'z': 1, 'c': 3, 'k': 1, 'u': 3, 'q': 1, 'g': 4}\n"
     ]
    }
   ],
   "source": [
    "# isalpha/ lower/ \n",
    "\n",
    "song = \"\"\"by the reivers of babylon, there we sat down\n",
    "yeah we wept, when we remenber zion.\n",
    "when the wicked carried us away in captivity\n",
    "required from us a song\n",
    "now how shall we sing the lord's song in a strange land\"\"\"\n",
    "\n",
    "alphabet = dict()\n",
    "for c in song:\n",
    "    if c.isalpha() == False:\n",
    "        continue\n",
    "    c = c.lower()\n",
    "    if c not in alphabet:\n",
    "        alphabet[c] = 1\n",
    "    else:\n",
    "        alphabet[c] += 1\n",
    "        \n",
    "print(alphabet)"
   ]
  },
  {
   "cell_type": "code",
   "execution_count": 97,
   "metadata": {
    "scrolled": true
   },
   "outputs": [
    {
     "name": "stdout",
     "output_type": "stream",
     "text": [
      "['a', 'b', 'c', 'd', 'e', 'f', 'g', 'h', 'i', 'k', 'l', 'm', 'n', 'o', 'p', 'q', 'r', 's', 't', 'u', 'v', 'w', 'y', 'z']\n",
      "a = 12\n",
      "b = 4\n",
      "c = 3\n",
      "d = 6\n",
      "e = 23\n",
      "f = 2\n",
      "g = 4\n",
      "h = 9\n",
      "i = 10\n",
      "k = 1\n",
      "l = 5\n",
      "m = 2\n",
      "n = 14\n",
      "o = 10\n",
      "p = 2\n",
      "q = 1\n",
      "r = 12\n",
      "s = 10\n",
      "t = 9\n",
      "u = 3\n",
      "v = 2\n",
      "w = 12\n",
      "y = 5\n",
      "z = 1\n"
     ]
    }
   ],
   "source": [
    "key = list(alphabet.keys())\n",
    "\n",
    "key.sort()\n",
    "print(key)\n",
    "\n",
    "for c in key:\n",
    "    num = alphabet[c]\n",
    "    print(c, '=',num)"
   ]
  },
  {
   "cell_type": "code",
   "execution_count": 99,
   "metadata": {
    "scrolled": true
   },
   "outputs": [
    {
     "name": "stdout",
     "output_type": "stream",
     "text": [
      "a = 12\n",
      "b = 4\n",
      "c = 3\n",
      "d = 6\n",
      "e = 23\n",
      "f = 2\n",
      "g = 4\n",
      "h = 9\n",
      "i = 10\n",
      "j = 0\n",
      "k = 1\n",
      "l = 5\n",
      "m = 2\n",
      "n = 14\n",
      "o = 10\n",
      "p = 2\n",
      "q = 1\n",
      "r = 12\n",
      "s = 10\n",
      "t = 9\n",
      "u = 3\n",
      "v = 2\n",
      "w = 12\n",
      "x = 0\n",
      "y = 5\n",
      "z = 1\n"
     ]
    }
   ],
   "source": [
    "# ord 함수\n",
    "# 키의 목록을 구해 정렬하는 것이 번거로우면 a~z까지 순회하며 각 알파벳의 등장 횟수를 조사할 수도 있다\n",
    "# song에 없는 알파벳까지 세는\n",
    "\n",
    "for code in range(ord('a'), ord('z')+1):     # range 함수는 정수만 받아들이기 때문에 문자열을 순회 X, \n",
    "    c = chr(code)\n",
    "    num = alphabet.get(c,0)\n",
    "    print(c, '=', num)"
   ]
  },
  {
   "cell_type": "code",
   "execution_count": null,
   "metadata": {},
   "outputs": [],
   "source": []
  },
  {
   "cell_type": "code",
   "execution_count": null,
   "metadata": {},
   "outputs": [],
   "source": []
  },
  {
   "cell_type": "code",
   "execution_count": null,
   "metadata": {},
   "outputs": [],
   "source": []
  },
  {
   "cell_type": "code",
   "execution_count": null,
   "metadata": {},
   "outputs": [],
   "source": []
  },
  {
   "cell_type": "code",
   "execution_count": null,
   "metadata": {},
   "outputs": [],
   "source": []
  },
  {
   "cell_type": "code",
   "execution_count": null,
   "metadata": {},
   "outputs": [],
   "source": []
  },
  {
   "cell_type": "code",
   "execution_count": null,
   "metadata": {},
   "outputs": [],
   "source": []
  },
  {
   "cell_type": "code",
   "execution_count": null,
   "metadata": {},
   "outputs": [],
   "source": []
  },
  {
   "cell_type": "code",
   "execution_count": null,
   "metadata": {},
   "outputs": [],
   "source": []
  },
  {
   "cell_type": "code",
   "execution_count": null,
   "metadata": {},
   "outputs": [],
   "source": []
  },
  {
   "cell_type": "code",
   "execution_count": null,
   "metadata": {},
   "outputs": [],
   "source": []
  },
  {
   "cell_type": "markdown",
   "metadata": {},
   "source": [
    "# 15장. 클래스"
   ]
  },
  {
   "cell_type": "code",
   "execution_count": 2,
   "metadata": {},
   "outputs": [
    {
     "name": "stdout",
     "output_type": "stream",
     "text": [
      "잔액은 9000원입니다\n"
     ]
    }
   ],
   "source": [
    "# class X,  함수사용 O\n",
    "\n",
    "balance = 8000\n",
    "\n",
    "def deposit(money):\n",
    "    global balance\n",
    "    balance += money\n",
    "    \n",
    "def inquire():\n",
    "    print(\"잔액은 %d원입니다\" % balance)\n",
    "    \n",
    "deposit(1000)\n",
    "inquire()"
   ]
  },
  {
   "cell_type": "code",
   "execution_count": 8,
   "metadata": {},
   "outputs": [],
   "source": [
    "# 클래스 생성     # Account라는 class로 템플릿을 만드는 것\n",
    "\n",
    "class Account:                           \n",
    "    def __init__(self, balance):              # 변수 = balance, money/ 함수 = deposit\n",
    "        self.balance = balance\n",
    "    def deposit(self,money):\n",
    "        self.balance += money\n",
    "    def inquire(self):\n",
    "        print(\"잔액은 %d원입니다\" %self.balance)"
   ]
  },
  {
   "cell_type": "code",
   "execution_count": null,
   "metadata": {},
   "outputs": [],
   "source": [
    "# Account class를 사용한 sinhan 객체 생성\n",
    "\n",
    "sinhan = Account(8000)                    \n",
    "sinhan.deposit(1000)                      \n",
    "sinhan.inquire()"
   ]
  },
  {
   "cell_type": "code",
   "execution_count": 6,
   "metadata": {},
   "outputs": [
    {
     "name": "stdout",
     "output_type": "stream",
     "text": [
      "잔액은 1200000원입니다\n"
     ]
    }
   ],
   "source": [
    "nonghyup = Account(1200000)               # 1(200000)초기값인자를 넣어 농협이라는 객체를 만듦\n",
    "nonghyup.inquire()"
   ]
  },
  {
   "cell_type": "code",
   "execution_count": 12,
   "metadata": {},
   "outputs": [
    {
     "name": "stdout",
     "output_type": "stream",
     "text": [
      "1200000\n"
     ]
    }
   ],
   "source": [
    "print(nonghyup.balance)         # . tab에 있는 것들 전부 사용 가능함!!"
   ]
  },
  {
   "cell_type": "code",
   "execution_count": null,
   "metadata": {},
   "outputs": [],
   "source": [
    "nonghyup.deposit(200000)\n",
    "nonghyup.inquire()"
   ]
  },
  {
   "cell_type": "code",
   "execution_count": null,
   "metadata": {},
   "outputs": [],
   "source": [
    "nonghyup.balance = 0"
   ]
  },
  {
   "cell_type": "code",
   "execution_count": null,
   "metadata": {},
   "outputs": [],
   "source": [
    "nonghyup.inquire()"
   ]
  },
  {
   "cell_type": "code",
   "execution_count": null,
   "metadata": {},
   "outputs": [],
   "source": [
    "__init__ 생성자 만들때\n",
    "\n",
    "객체가 생성될 때 컴퓨터가 임의로(객체1)= FFinitAA\n",
    "다른 객체를 만들면 임의의 (객체2)= BBinitSS\n",
    "\n",
    "\n",
    "ex, 홍길동 => 길동이라는 이름의 성을 다 찾겠다 한다면\n",
    "    _길동   # 언더바(_)의 역할"
   ]
  },
  {
   "cell_type": "code",
   "execution_count": null,
   "metadata": {},
   "outputs": [],
   "source": []
  },
  {
   "cell_type": "code",
   "execution_count": null,
   "metadata": {},
   "outputs": [],
   "source": []
  },
  {
   "cell_type": "code",
   "execution_count": null,
   "metadata": {},
   "outputs": [],
   "source": []
  }
 ],
 "metadata": {
  "kernelspec": {
   "display_name": "Python 3",
   "language": "python",
   "name": "python3"
  },
  "language_info": {
   "codemirror_mode": {
    "name": "ipython",
    "version": 3
   },
   "file_extension": ".py",
   "mimetype": "text/x-python",
   "name": "python",
   "nbconvert_exporter": "python",
   "pygments_lexer": "ipython3",
   "version": "3.8.5"
  }
 },
 "nbformat": 4,
 "nbformat_minor": 4
}
