{
  "nbformat": 4,
  "nbformat_minor": 0,
  "metadata": {
    "colab": {
      "name": "Yolo_customized.ipynb",
      "provenance": []
    },
    "kernelspec": {
      "name": "python3",
      "display_name": "Python 3"
    },
    "language_info": {
      "name": "python"
    },
    "accelerator": "GPU"
  },
  "cells": [
    {
      "cell_type": "code",
      "metadata": {
        "colab": {
          "base_uri": "https://localhost:8080/"
        },
        "id": "skxHa1IQBuM0",
        "outputId": "730f306d-476b-4228-c71d-da5ae904eb3c"
      },
      "source": [
        "!sudo apt-get update"
      ],
      "execution_count": 1,
      "outputs": [
        {
          "output_type": "stream",
          "text": [
            "\r0% [Working]\r            \rGet:1 http://security.ubuntu.com/ubuntu bionic-security InRelease [88.7 kB]\n",
            "\r0% [Connecting to archive.ubuntu.com (91.189.88.152)] [1 InRelease 14.2 kB/88.7\r                                                                               \rGet:2 https://cloud.r-project.org/bin/linux/ubuntu bionic-cran40/ InRelease [3,626 B]\n",
            "Ign:3 https://developer.download.nvidia.com/compute/cuda/repos/ubuntu1804/x86_64  InRelease\n",
            "Ign:4 https://developer.download.nvidia.com/compute/machine-learning/repos/ubuntu1804/x86_64  InRelease\n",
            "Hit:5 http://archive.ubuntu.com/ubuntu bionic InRelease\n",
            "Get:6 https://developer.download.nvidia.com/compute/cuda/repos/ubuntu1804/x86_64  Release [697 B]\n",
            "Hit:7 https://developer.download.nvidia.com/compute/machine-learning/repos/ubuntu1804/x86_64  Release\n",
            "Get:8 https://developer.download.nvidia.com/compute/cuda/repos/ubuntu1804/x86_64  Release.gpg [836 B]\n",
            "Get:9 http://ppa.launchpad.net/c2d4u.team/c2d4u4.0+/ubuntu bionic InRelease [15.9 kB]\n",
            "Get:10 https://cloud.r-project.org/bin/linux/ubuntu bionic-cran40/ Packages [55.5 kB]\n",
            "Get:11 http://archive.ubuntu.com/ubuntu bionic-updates InRelease [88.7 kB]\n",
            "Get:12 http://security.ubuntu.com/ubuntu bionic-security/restricted amd64 Packages [399 kB]\n",
            "Get:13 http://security.ubuntu.com/ubuntu bionic-security/multiverse amd64 Packages [24.7 kB]\n",
            "Get:14 http://security.ubuntu.com/ubuntu bionic-security/universe amd64 Packages [1,410 kB]\n",
            "Hit:15 http://ppa.launchpad.net/cran/libgit2/ubuntu bionic InRelease\n",
            "Get:16 http://security.ubuntu.com/ubuntu bionic-security/main amd64 Packages [2,119 kB]\n",
            "Get:17 http://archive.ubuntu.com/ubuntu bionic-backports InRelease [74.6 kB]\n",
            "Get:19 http://ppa.launchpad.net/deadsnakes/ppa/ubuntu bionic InRelease [15.9 kB]\n",
            "Ign:20 https://developer.download.nvidia.com/compute/cuda/repos/ubuntu1804/x86_64  Packages\n",
            "Get:20 https://developer.download.nvidia.com/compute/cuda/repos/ubuntu1804/x86_64  Packages [770 kB]\n",
            "Get:21 http://ppa.launchpad.net/graphics-drivers/ppa/ubuntu bionic InRelease [21.3 kB]\n",
            "Get:22 http://archive.ubuntu.com/ubuntu bionic-updates/restricted amd64 Packages [429 kB]\n",
            "Get:23 http://ppa.launchpad.net/c2d4u.team/c2d4u4.0+/ubuntu bionic/main Sources [1,759 kB]\n",
            "Get:24 http://archive.ubuntu.com/ubuntu bionic-updates/universe amd64 Packages [2,182 kB]\n",
            "Get:25 http://archive.ubuntu.com/ubuntu bionic-updates/main amd64 Packages [2,550 kB]\n",
            "Get:26 http://archive.ubuntu.com/ubuntu bionic-updates/multiverse amd64 Packages [31.6 kB]\n",
            "Get:27 http://ppa.launchpad.net/c2d4u.team/c2d4u4.0+/ubuntu bionic/main amd64 Packages [900 kB]\n",
            "Get:28 http://ppa.launchpad.net/deadsnakes/ppa/ubuntu bionic/main amd64 Packages [40.8 kB]\n",
            "Get:29 http://ppa.launchpad.net/graphics-drivers/ppa/ubuntu bionic/main amd64 Packages [47.2 kB]\n",
            "Fetched 13.0 MB in 4s (3,544 kB/s)\n",
            "Reading package lists... Done\n"
          ],
          "name": "stdout"
        }
      ]
    },
    {
      "cell_type": "code",
      "metadata": {
        "colab": {
          "base_uri": "https://localhost:8080/"
        },
        "id": "qUurG7HFjxTm",
        "outputId": "07413c52-21c4-4767-9b7b-ea879e577138"
      },
      "source": [
        "!nvcc --version"
      ],
      "execution_count": 16,
      "outputs": [
        {
          "output_type": "stream",
          "text": [
            "nvcc: NVIDIA (R) Cuda compiler driver\n",
            "Copyright (c) 2005-2020 NVIDIA Corporation\n",
            "Built on Wed_Jul_22_19:09:09_PDT_2020\n",
            "Cuda compilation tools, release 11.0, V11.0.221\n",
            "Build cuda_11.0_bu.TC445_37.28845127_0\n"
          ],
          "name": "stdout"
        }
      ]
    },
    {
      "cell_type": "code",
      "metadata": {
        "colab": {
          "base_uri": "https://localhost:8080/"
        },
        "id": "A06IW7vnkAue",
        "outputId": "e1f38016-50e7-4ff3-f49f-50941d0bd6ff"
      },
      "source": [
        "!nvidia-smi"
      ],
      "execution_count": 17,
      "outputs": [
        {
          "output_type": "stream",
          "text": [
            "Fri May  7 11:21:57 2021       \n",
            "+-----------------------------------------------------------------------------+\n",
            "| NVIDIA-SMI 465.19.01    Driver Version: 460.32.03    CUDA Version: 11.2     |\n",
            "|-------------------------------+----------------------+----------------------+\n",
            "| GPU  Name        Persistence-M| Bus-Id        Disp.A | Volatile Uncorr. ECC |\n",
            "| Fan  Temp  Perf  Pwr:Usage/Cap|         Memory-Usage | GPU-Util  Compute M. |\n",
            "|                               |                      |               MIG M. |\n",
            "|===============================+======================+======================|\n",
            "|   0  Tesla K80           Off  | 00000000:00:04.0 Off |                    0 |\n",
            "| N/A   61C    P8    30W / 149W |      0MiB / 11441MiB |      0%      Default |\n",
            "|                               |                      |                  N/A |\n",
            "+-------------------------------+----------------------+----------------------+\n",
            "                                                                               \n",
            "+-----------------------------------------------------------------------------+\n",
            "| Processes:                                                                  |\n",
            "|  GPU   GI   CI        PID   Type   Process name                  GPU Memory |\n",
            "|        ID   ID                                                   Usage      |\n",
            "|=============================================================================|\n",
            "|  No running processes found                                                 |\n",
            "+-----------------------------------------------------------------------------+\n"
          ],
          "name": "stdout"
        }
      ]
    },
    {
      "cell_type": "code",
      "metadata": {
        "colab": {
          "base_uri": "https://localhost:8080/"
        },
        "id": "MmLtuCXNwuKe",
        "outputId": "fd402b6c-5c9c-4fac-d7f1-3f057d1f6770"
      },
      "source": [
        "!sudo apt-get install g++\n",
        "!sudo apt-get install cmake"
      ],
      "execution_count": 2,
      "outputs": [
        {
          "output_type": "stream",
          "text": [
            "Reading package lists... Done\n",
            "Building dependency tree       \n",
            "Reading state information... Done\n",
            "g++ is already the newest version (4:7.4.0-1ubuntu2.3).\n",
            "g++ set to manually installed.\n",
            "The following package was automatically installed and is no longer required:\n",
            "  libnvidia-common-460\n",
            "Use 'sudo apt autoremove' to remove it.\n",
            "0 upgraded, 0 newly installed, 0 to remove and 79 not upgraded.\n",
            "Reading package lists... Done\n",
            "Building dependency tree       \n",
            "Reading state information... Done\n",
            "cmake is already the newest version (3.10.2-1ubuntu2.18.04.1).\n",
            "The following package was automatically installed and is no longer required:\n",
            "  libnvidia-common-460\n",
            "Use 'sudo apt autoremove' to remove it.\n",
            "0 upgraded, 0 newly installed, 0 to remove and 79 not upgraded.\n"
          ],
          "name": "stdout"
        }
      ]
    },
    {
      "cell_type": "code",
      "metadata": {
        "colab": {
          "base_uri": "https://localhost:8080/"
        },
        "id": "vWgzXFrIwuGu",
        "outputId": "12d1b6b4-5e78-4b60-e22a-b5430ed4c0ec"
      },
      "source": [
        "!sudo apt-get install build-essential cmake pkg-config libjpeg-dev libtiff5-dev libjasper-dev libpng12-dev libavcodec-dev libavformat-dev libswscale-dev libxvidcore-dev libx264-dev libxine2-dev libv4l-dev v4l-utils libgstreamer1.0-dev libgstreamer-plugins-base1.0-dev libqt4-dev mesa-utils libgl1-mesa-dri libqt4-opengl-dev libatlas-base-dev gfortran libeigen3-dev python2.7-dev python3-dev python-numpy python3-numpy"
      ],
      "execution_count": 3,
      "outputs": [
        {
          "output_type": "stream",
          "text": [
            "Reading package lists... Done\n",
            "Building dependency tree       \n",
            "Reading state information... Done\n",
            "Package libpng12-dev is not available, but is referred to by another package.\n",
            "This may mean that the package is missing, has been obsoleted, or\n",
            "is only available from another source\n",
            "\n",
            "E: Unable to locate package libjasper-dev\n",
            "E: Package 'libpng12-dev' has no installation candidate\n"
          ],
          "name": "stdout"
        }
      ]
    },
    {
      "cell_type": "code",
      "metadata": {
        "colab": {
          "base_uri": "https://localhost:8080/"
        },
        "id": "nHkyM7b08xhI",
        "outputId": "65553722-81c7-4280-ae59-1b3feeb99922"
      },
      "source": [
        "!sudo add-apt-repository ppa:rock-core/qt4\n",
        "!sudo apt update\n",
        "!sudo apt-get install libqt4-opengl-dev"
      ],
      "execution_count": 4,
      "outputs": [
        {
          "output_type": "stream",
          "text": [
            " \n",
            " More info: https://launchpad.net/~rock-core/+archive/ubuntu/qt4\n",
            "Press [ENTER] to continue or Ctrl-c to cancel adding it.\n",
            "\n",
            "Hit:1 https://cloud.r-project.org/bin/linux/ubuntu bionic-cran40/ InRelease\n",
            "Ign:2 https://developer.download.nvidia.com/compute/cuda/repos/ubuntu1804/x86_64  InRelease\n",
            "Ign:3 https://developer.download.nvidia.com/compute/machine-learning/repos/ubuntu1804/x86_64  InRelease\n",
            "Hit:4 https://developer.download.nvidia.com/compute/cuda/repos/ubuntu1804/x86_64  Release\n",
            "Hit:5 https://developer.download.nvidia.com/compute/machine-learning/repos/ubuntu1804/x86_64  Release\n",
            "Hit:6 http://security.ubuntu.com/ubuntu bionic-security InRelease\n",
            "Hit:7 http://archive.ubuntu.com/ubuntu bionic InRelease\n",
            "Hit:8 http://ppa.launchpad.net/c2d4u.team/c2d4u4.0+/ubuntu bionic InRelease\n",
            "Hit:10 http://archive.ubuntu.com/ubuntu bionic-updates InRelease\n",
            "Hit:12 http://archive.ubuntu.com/ubuntu bionic-backports InRelease\n",
            "Hit:13 http://ppa.launchpad.net/cran/libgit2/ubuntu bionic InRelease\n",
            "Hit:14 http://ppa.launchpad.net/deadsnakes/ppa/ubuntu bionic InRelease\n",
            "Hit:15 http://ppa.launchpad.net/graphics-drivers/ppa/ubuntu bionic InRelease\n",
            "Ign:16 http://ppa.launchpad.net/rock-core/qt4/ubuntu bionic InRelease\n",
            "Err:17 http://ppa.launchpad.net/rock-core/qt4/ubuntu bionic Release\n",
            "  404  Not Found [IP: 91.189.95.85 80]\n",
            "Reading package lists... Done\n",
            "E: The repository 'http://ppa.launchpad.net/rock-core/qt4/ubuntu bionic Release' does not have a Release file.\n",
            "N: Updating from such a repository can't be done securely, and is therefore disabled by default.\n",
            "N: See apt-secure(8) manpage for repository creation and user configuration details.\n",
            "Hit:1 https://cloud.r-project.org/bin/linux/ubuntu bionic-cran40/ InRelease\n",
            "Ign:2 https://developer.download.nvidia.com/compute/cuda/repos/ubuntu1804/x86_64  InRelease\n",
            "Ign:3 https://developer.download.nvidia.com/compute/machine-learning/repos/ubuntu1804/x86_64  InRelease\n",
            "Hit:4 https://developer.download.nvidia.com/compute/cuda/repos/ubuntu1804/x86_64  Release\n",
            "Hit:5 https://developer.download.nvidia.com/compute/machine-learning/repos/ubuntu1804/x86_64  Release\n",
            "Hit:6 http://ppa.launchpad.net/c2d4u.team/c2d4u4.0+/ubuntu bionic InRelease\n",
            "Hit:7 http://archive.ubuntu.com/ubuntu bionic InRelease\n",
            "Hit:9 http://archive.ubuntu.com/ubuntu bionic-updates InRelease\n",
            "Hit:10 http://security.ubuntu.com/ubuntu bionic-security InRelease\n",
            "Hit:12 http://archive.ubuntu.com/ubuntu bionic-backports InRelease\n",
            "Hit:13 http://ppa.launchpad.net/cran/libgit2/ubuntu bionic InRelease\n",
            "Hit:14 http://ppa.launchpad.net/deadsnakes/ppa/ubuntu bionic InRelease\n",
            "Hit:15 http://ppa.launchpad.net/graphics-drivers/ppa/ubuntu bionic InRelease\n",
            "Ign:16 http://ppa.launchpad.net/rock-core/qt4/ubuntu bionic InRelease\n",
            "Err:17 http://ppa.launchpad.net/rock-core/qt4/ubuntu bionic Release\n",
            "  404  Not Found [IP: 91.189.95.85 80]\n",
            "Reading package lists... Done\n",
            "E: The repository 'http://ppa.launchpad.net/rock-core/qt4/ubuntu bionic Release' does not have a Release file.\n",
            "N: Updating from such a repository can't be done securely, and is therefore disabled by default.\n",
            "N: See apt-secure(8) manpage for repository creation and user configuration details.\n",
            "Reading package lists... Done\n",
            "Building dependency tree       \n",
            "Reading state information... Done\n",
            "The following package was automatically installed and is no longer required:\n",
            "  libnvidia-common-460\n",
            "Use 'sudo apt autoremove' to remove it.\n",
            "The following additional packages will be installed:\n",
            "  libaudio2 libmng2 libqt4-dbus libqt4-declarative libqt4-designer libqt4-dev\n",
            "  libqt4-dev-bin libqt4-help libqt4-network libqt4-opengl libqt4-qt3support\n",
            "  libqt4-script libqt4-scripttools libqt4-sql libqt4-sql-mysql libqt4-svg\n",
            "  libqt4-test libqt4-xml libqt4-xmlpatterns libqtcore4 libqtdbus4 libqtgui4\n",
            "  qdbus qt-at-spi qt4-linguist-tools qt4-qmake qtcore4-l10n\n",
            "Suggested packages:\n",
            "  nas libqt4-declarative-folderlistmodel libqt4-declarative-gestures\n",
            "  libqt4-declarative-particles libqt4-declarative-shaders qt4-qmlviewer\n",
            "  firebird-dev libsqlite0-dev qt4-dev-tools qt4-doc libicu55 qt4-qtconfig\n",
            "The following NEW packages will be installed:\n",
            "  libaudio2 libmng2 libqt4-dbus libqt4-declarative libqt4-designer libqt4-dev\n",
            "  libqt4-dev-bin libqt4-help libqt4-network libqt4-opengl libqt4-opengl-dev\n",
            "  libqt4-qt3support libqt4-script libqt4-scripttools libqt4-sql\n",
            "  libqt4-sql-mysql libqt4-svg libqt4-test libqt4-xml libqt4-xmlpatterns\n",
            "  libqtcore4 libqtdbus4 libqtgui4 qdbus qt-at-spi qt4-linguist-tools qt4-qmake\n",
            "  qtcore4-l10n\n",
            "0 upgraded, 28 newly installed, 0 to remove and 79 not upgraded.\n",
            "Need to get 21.0 MB of archives.\n",
            "After this operation, 87.5 MB of additional disk space will be used.\n",
            "Get:1 http://archive.ubuntu.com/ubuntu bionic/universe amd64 libmng2 amd64 2.0.2-0ubuntu3 [169 kB]\n",
            "Get:2 http://archive.ubuntu.com/ubuntu bionic/main amd64 libaudio2 amd64 1.9.4-6 [50.3 kB]\n",
            "Get:3 http://archive.ubuntu.com/ubuntu bionic/universe amd64 qtcore4-l10n all 4:4.8.7+dfsg-7ubuntu1 [617 kB]\n",
            "Get:4 http://archive.ubuntu.com/ubuntu bionic/universe amd64 libqtcore4 amd64 4:4.8.7+dfsg-7ubuntu1 [1,552 kB]\n",
            "Get:5 http://archive.ubuntu.com/ubuntu bionic/universe amd64 libqt4-xml amd64 4:4.8.7+dfsg-7ubuntu1 [96.1 kB]\n",
            "Get:6 http://archive.ubuntu.com/ubuntu bionic/universe amd64 libqtdbus4 amd64 4:4.8.7+dfsg-7ubuntu1 [186 kB]\n",
            "Get:7 http://archive.ubuntu.com/ubuntu bionic/universe amd64 qdbus amd64 4:4.8.7+dfsg-7ubuntu1 [30.0 kB]\n",
            "Get:8 http://archive.ubuntu.com/ubuntu bionic/universe amd64 libqt4-dbus amd64 4:4.8.7+dfsg-7ubuntu1 [6,440 B]\n",
            "Get:9 http://archive.ubuntu.com/ubuntu bionic/universe amd64 libqt4-network amd64 4:4.8.7+dfsg-7ubuntu1 [562 kB]\n",
            "Get:10 http://archive.ubuntu.com/ubuntu bionic/universe amd64 libqt4-script amd64 4:4.8.7+dfsg-7ubuntu1 [815 kB]\n",
            "Get:11 http://archive.ubuntu.com/ubuntu bionic/universe amd64 libqt4-sql amd64 4:4.8.7+dfsg-7ubuntu1 [98.5 kB]\n",
            "Get:12 http://archive.ubuntu.com/ubuntu bionic/universe amd64 libqt4-xmlpatterns amd64 4:4.8.7+dfsg-7ubuntu1 [1,091 kB]\n",
            "Get:13 http://archive.ubuntu.com/ubuntu bionic/universe amd64 libqtgui4 amd64 4:4.8.7+dfsg-7ubuntu1 [4,115 kB]\n",
            "Get:14 http://archive.ubuntu.com/ubuntu bionic/universe amd64 libqt4-declarative amd64 4:4.8.7+dfsg-7ubuntu1 [1,089 kB]\n",
            "Get:15 http://archive.ubuntu.com/ubuntu bionic/universe amd64 libqt4-designer amd64 4:4.8.7+dfsg-7ubuntu1 [3,629 kB]\n",
            "Get:16 http://archive.ubuntu.com/ubuntu bionic/universe amd64 libqt4-qt3support amd64 4:4.8.7+dfsg-7ubuntu1 [1,049 kB]\n",
            "Get:17 http://archive.ubuntu.com/ubuntu bionic/universe amd64 libqt4-dev-bin amd64 4:4.8.7+dfsg-7ubuntu1 [1,706 kB]\n",
            "Get:18 http://archive.ubuntu.com/ubuntu bionic/universe amd64 libqt4-help amd64 4:4.8.7+dfsg-7ubuntu1 [207 kB]\n",
            "Get:19 http://archive.ubuntu.com/ubuntu bionic/universe amd64 libqt4-scripttools amd64 4:4.8.7+dfsg-7ubuntu1 [225 kB]\n",
            "Get:20 http://archive.ubuntu.com/ubuntu bionic/universe amd64 libqt4-svg amd64 4:4.8.7+dfsg-7ubuntu1 [138 kB]\n",
            "Get:21 http://archive.ubuntu.com/ubuntu bionic/universe amd64 libqt4-test amd64 4:4.8.7+dfsg-7ubuntu1 [61.2 kB]\n",
            "Get:22 http://archive.ubuntu.com/ubuntu bionic/universe amd64 qt4-linguist-tools amd64 4:4.8.7+dfsg-7ubuntu1 [879 kB]\n",
            "Get:23 http://archive.ubuntu.com/ubuntu bionic/universe amd64 qt4-qmake amd64 4:4.8.7+dfsg-7ubuntu1 [1,366 kB]\n",
            "Get:24 http://archive.ubuntu.com/ubuntu bionic/universe amd64 libqt4-dev amd64 4:4.8.7+dfsg-7ubuntu1 [853 kB]\n",
            "Get:25 http://archive.ubuntu.com/ubuntu bionic/universe amd64 libqt4-opengl amd64 4:4.8.7+dfsg-7ubuntu1 [301 kB]\n",
            "Get:26 http://archive.ubuntu.com/ubuntu bionic/universe amd64 libqt4-opengl-dev amd64 4:4.8.7+dfsg-7ubuntu1 [22.8 kB]\n",
            "Get:27 http://archive.ubuntu.com/ubuntu bionic/universe amd64 libqt4-sql-mysql amd64 4:4.8.7+dfsg-7ubuntu1 [30.5 kB]\n",
            "Get:28 http://archive.ubuntu.com/ubuntu bionic/universe amd64 qt-at-spi amd64 0.4.0-8 [58.6 kB]\n",
            "Fetched 21.0 MB in 2s (12.2 MB/s)\n",
            "debconf: unable to initialize frontend: Dialog\n",
            "debconf: (No usable dialog-like program is installed, so the dialog based frontend cannot be used. at /usr/share/perl5/Debconf/FrontEnd/Dialog.pm line 76, <> line 28.)\n",
            "debconf: falling back to frontend: Readline\n",
            "debconf: unable to initialize frontend: Readline\n",
            "debconf: (This frontend requires a controlling tty.)\n",
            "debconf: falling back to frontend: Teletype\n",
            "dpkg-preconfigure: unable to re-open stdin: \n",
            "Selecting previously unselected package libmng2:amd64.\n",
            "(Reading database ... 160690 files and directories currently installed.)\n",
            "Preparing to unpack .../00-libmng2_2.0.2-0ubuntu3_amd64.deb ...\n",
            "Unpacking libmng2:amd64 (2.0.2-0ubuntu3) ...\n",
            "Selecting previously unselected package libaudio2:amd64.\n",
            "Preparing to unpack .../01-libaudio2_1.9.4-6_amd64.deb ...\n",
            "Unpacking libaudio2:amd64 (1.9.4-6) ...\n",
            "Selecting previously unselected package qtcore4-l10n.\n",
            "Preparing to unpack .../02-qtcore4-l10n_4%3a4.8.7+dfsg-7ubuntu1_all.deb ...\n",
            "Unpacking qtcore4-l10n (4:4.8.7+dfsg-7ubuntu1) ...\n",
            "Selecting previously unselected package libqtcore4:amd64.\n",
            "Preparing to unpack .../03-libqtcore4_4%3a4.8.7+dfsg-7ubuntu1_amd64.deb ...\n",
            "Unpacking libqtcore4:amd64 (4:4.8.7+dfsg-7ubuntu1) ...\n",
            "Selecting previously unselected package libqt4-xml:amd64.\n",
            "Preparing to unpack .../04-libqt4-xml_4%3a4.8.7+dfsg-7ubuntu1_amd64.deb ...\n",
            "Unpacking libqt4-xml:amd64 (4:4.8.7+dfsg-7ubuntu1) ...\n",
            "Selecting previously unselected package libqtdbus4:amd64.\n",
            "Preparing to unpack .../05-libqtdbus4_4%3a4.8.7+dfsg-7ubuntu1_amd64.deb ...\n",
            "Unpacking libqtdbus4:amd64 (4:4.8.7+dfsg-7ubuntu1) ...\n",
            "Selecting previously unselected package qdbus.\n",
            "Preparing to unpack .../06-qdbus_4%3a4.8.7+dfsg-7ubuntu1_amd64.deb ...\n",
            "Unpacking qdbus (4:4.8.7+dfsg-7ubuntu1) ...\n",
            "Selecting previously unselected package libqt4-dbus:amd64.\n",
            "Preparing to unpack .../07-libqt4-dbus_4%3a4.8.7+dfsg-7ubuntu1_amd64.deb ...\n",
            "Unpacking libqt4-dbus:amd64 (4:4.8.7+dfsg-7ubuntu1) ...\n",
            "Selecting previously unselected package libqt4-network:amd64.\n",
            "Preparing to unpack .../08-libqt4-network_4%3a4.8.7+dfsg-7ubuntu1_amd64.deb ...\n",
            "Unpacking libqt4-network:amd64 (4:4.8.7+dfsg-7ubuntu1) ...\n",
            "Selecting previously unselected package libqt4-script:amd64.\n",
            "Preparing to unpack .../09-libqt4-script_4%3a4.8.7+dfsg-7ubuntu1_amd64.deb ...\n",
            "Unpacking libqt4-script:amd64 (4:4.8.7+dfsg-7ubuntu1) ...\n",
            "Selecting previously unselected package libqt4-sql:amd64.\n",
            "Preparing to unpack .../10-libqt4-sql_4%3a4.8.7+dfsg-7ubuntu1_amd64.deb ...\n",
            "Unpacking libqt4-sql:amd64 (4:4.8.7+dfsg-7ubuntu1) ...\n",
            "Selecting previously unselected package libqt4-xmlpatterns:amd64.\n",
            "Preparing to unpack .../11-libqt4-xmlpatterns_4%3a4.8.7+dfsg-7ubuntu1_amd64.deb ...\n",
            "Unpacking libqt4-xmlpatterns:amd64 (4:4.8.7+dfsg-7ubuntu1) ...\n",
            "Selecting previously unselected package libqtgui4:amd64.\n",
            "Preparing to unpack .../12-libqtgui4_4%3a4.8.7+dfsg-7ubuntu1_amd64.deb ...\n",
            "Unpacking libqtgui4:amd64 (4:4.8.7+dfsg-7ubuntu1) ...\n",
            "Selecting previously unselected package libqt4-declarative:amd64.\n",
            "Preparing to unpack .../13-libqt4-declarative_4%3a4.8.7+dfsg-7ubuntu1_amd64.deb ...\n",
            "Unpacking libqt4-declarative:amd64 (4:4.8.7+dfsg-7ubuntu1) ...\n",
            "Selecting previously unselected package libqt4-designer:amd64.\n",
            "Preparing to unpack .../14-libqt4-designer_4%3a4.8.7+dfsg-7ubuntu1_amd64.deb ...\n",
            "Unpacking libqt4-designer:amd64 (4:4.8.7+dfsg-7ubuntu1) ...\n",
            "Selecting previously unselected package libqt4-qt3support:amd64.\n",
            "Preparing to unpack .../15-libqt4-qt3support_4%3a4.8.7+dfsg-7ubuntu1_amd64.deb ...\n",
            "Unpacking libqt4-qt3support:amd64 (4:4.8.7+dfsg-7ubuntu1) ...\n",
            "Selecting previously unselected package libqt4-dev-bin.\n",
            "Preparing to unpack .../16-libqt4-dev-bin_4%3a4.8.7+dfsg-7ubuntu1_amd64.deb ...\n",
            "Unpacking libqt4-dev-bin (4:4.8.7+dfsg-7ubuntu1) ...\n",
            "Selecting previously unselected package libqt4-help:amd64.\n",
            "Preparing to unpack .../17-libqt4-help_4%3a4.8.7+dfsg-7ubuntu1_amd64.deb ...\n",
            "Unpacking libqt4-help:amd64 (4:4.8.7+dfsg-7ubuntu1) ...\n",
            "Selecting previously unselected package libqt4-scripttools:amd64.\n",
            "Preparing to unpack .../18-libqt4-scripttools_4%3a4.8.7+dfsg-7ubuntu1_amd64.deb ...\n",
            "Unpacking libqt4-scripttools:amd64 (4:4.8.7+dfsg-7ubuntu1) ...\n",
            "Selecting previously unselected package libqt4-svg:amd64.\n",
            "Preparing to unpack .../19-libqt4-svg_4%3a4.8.7+dfsg-7ubuntu1_amd64.deb ...\n",
            "Unpacking libqt4-svg:amd64 (4:4.8.7+dfsg-7ubuntu1) ...\n",
            "Selecting previously unselected package libqt4-test:amd64.\n",
            "Preparing to unpack .../20-libqt4-test_4%3a4.8.7+dfsg-7ubuntu1_amd64.deb ...\n",
            "Unpacking libqt4-test:amd64 (4:4.8.7+dfsg-7ubuntu1) ...\n",
            "Selecting previously unselected package qt4-linguist-tools.\n",
            "Preparing to unpack .../21-qt4-linguist-tools_4%3a4.8.7+dfsg-7ubuntu1_amd64.deb ...\n",
            "Unpacking qt4-linguist-tools (4:4.8.7+dfsg-7ubuntu1) ...\n",
            "Selecting previously unselected package qt4-qmake.\n",
            "Preparing to unpack .../22-qt4-qmake_4%3a4.8.7+dfsg-7ubuntu1_amd64.deb ...\n",
            "Unpacking qt4-qmake (4:4.8.7+dfsg-7ubuntu1) ...\n",
            "Selecting previously unselected package libqt4-dev.\n",
            "Preparing to unpack .../23-libqt4-dev_4%3a4.8.7+dfsg-7ubuntu1_amd64.deb ...\n",
            "Unpacking libqt4-dev (4:4.8.7+dfsg-7ubuntu1) ...\n",
            "Selecting previously unselected package libqt4-opengl:amd64.\n",
            "Preparing to unpack .../24-libqt4-opengl_4%3a4.8.7+dfsg-7ubuntu1_amd64.deb ...\n",
            "Unpacking libqt4-opengl:amd64 (4:4.8.7+dfsg-7ubuntu1) ...\n",
            "Selecting previously unselected package libqt4-opengl-dev.\n",
            "Preparing to unpack .../25-libqt4-opengl-dev_4%3a4.8.7+dfsg-7ubuntu1_amd64.deb ...\n",
            "Unpacking libqt4-opengl-dev (4:4.8.7+dfsg-7ubuntu1) ...\n",
            "Selecting previously unselected package libqt4-sql-mysql:amd64.\n",
            "Preparing to unpack .../26-libqt4-sql-mysql_4%3a4.8.7+dfsg-7ubuntu1_amd64.deb ...\n",
            "Unpacking libqt4-sql-mysql:amd64 (4:4.8.7+dfsg-7ubuntu1) ...\n",
            "Selecting previously unselected package qt-at-spi:amd64.\n",
            "Preparing to unpack .../27-qt-at-spi_0.4.0-8_amd64.deb ...\n",
            "Unpacking qt-at-spi:amd64 (0.4.0-8) ...\n",
            "Setting up qtcore4-l10n (4:4.8.7+dfsg-7ubuntu1) ...\n",
            "Setting up qt4-qmake (4:4.8.7+dfsg-7ubuntu1) ...\n",
            "Setting up libmng2:amd64 (2.0.2-0ubuntu3) ...\n",
            "Setting up libqtcore4:amd64 (4:4.8.7+dfsg-7ubuntu1) ...\n",
            "Setting up libqt4-test:amd64 (4:4.8.7+dfsg-7ubuntu1) ...\n",
            "Setting up libqt4-xml:amd64 (4:4.8.7+dfsg-7ubuntu1) ...\n",
            "Setting up qt4-linguist-tools (4:4.8.7+dfsg-7ubuntu1) ...\n",
            "Setting up libaudio2:amd64 (1.9.4-6) ...\n",
            "Setting up libqt4-sql:amd64 (4:4.8.7+dfsg-7ubuntu1) ...\n",
            "Setting up libqtdbus4:amd64 (4:4.8.7+dfsg-7ubuntu1) ...\n",
            "Setting up libqt4-script:amd64 (4:4.8.7+dfsg-7ubuntu1) ...\n",
            "Setting up libqt4-sql-mysql:amd64 (4:4.8.7+dfsg-7ubuntu1) ...\n",
            "Setting up qdbus (4:4.8.7+dfsg-7ubuntu1) ...\n",
            "Setting up libqt4-dbus:amd64 (4:4.8.7+dfsg-7ubuntu1) ...\n",
            "Setting up libqt4-network:amd64 (4:4.8.7+dfsg-7ubuntu1) ...\n",
            "Setting up libqt4-xmlpatterns:amd64 (4:4.8.7+dfsg-7ubuntu1) ...\n",
            "Setting up libqtgui4:amd64 (4:4.8.7+dfsg-7ubuntu1) ...\n",
            "Setting up qt-at-spi:amd64 (0.4.0-8) ...\n",
            "Setting up libqt4-designer:amd64 (4:4.8.7+dfsg-7ubuntu1) ...\n",
            "Setting up libqt4-help:amd64 (4:4.8.7+dfsg-7ubuntu1) ...\n",
            "Setting up libqt4-svg:amd64 (4:4.8.7+dfsg-7ubuntu1) ...\n",
            "Setting up libqt4-scripttools:amd64 (4:4.8.7+dfsg-7ubuntu1) ...\n",
            "Setting up libqt4-opengl:amd64 (4:4.8.7+dfsg-7ubuntu1) ...\n",
            "Setting up libqt4-declarative:amd64 (4:4.8.7+dfsg-7ubuntu1) ...\n",
            "Setting up libqt4-qt3support:amd64 (4:4.8.7+dfsg-7ubuntu1) ...\n",
            "Setting up libqt4-dev-bin (4:4.8.7+dfsg-7ubuntu1) ...\n",
            "Setting up libqt4-dev (4:4.8.7+dfsg-7ubuntu1) ...\n",
            "Setting up libqt4-opengl-dev (4:4.8.7+dfsg-7ubuntu1) ...\n",
            "Processing triggers for libc-bin (2.27-3ubuntu1.2) ...\n",
            "/sbin/ldconfig.real: /usr/local/lib/python3.7/dist-packages/ideep4py/lib/libmkldnn.so.0 is not a symbolic link\n",
            "\n",
            "Processing triggers for man-db (2.8.3-2ubuntu0.1) ...\n"
          ],
          "name": "stdout"
        }
      ]
    },
    {
      "cell_type": "code",
      "metadata": {
        "id": "IKmYX9qliWXs"
      },
      "source": [
        "!export PATH=/usr/local/cuda/bin${PATH:+:${PATH}}\n",
        "!export LD_LIBRAY_PATH=/usr/local/cuda/lib64${LD_LIBRARY_PATH:+:${LD_LIBRARY_PATH}}"
      ],
      "execution_count": 5,
      "outputs": []
    },
    {
      "cell_type": "code",
      "metadata": {
        "colab": {
          "base_uri": "https://localhost:8080/"
        },
        "id": "bWhwMmBCB8Kz",
        "outputId": "9933ce04-f36e-40e8-a83b-3edbd7c57c45"
      },
      "source": [
        "import torch\n",
        "\n",
        "print(\"cuda version: {}\".format(torch.version.cuda))\n",
        "print(\"cudnn version:{}\".format(torch.backends.cudnn.version()))"
      ],
      "execution_count": 6,
      "outputs": [
        {
          "output_type": "stream",
          "text": [
            "cuda version: 10.1\n",
            "cudnn version:7603\n"
          ],
          "name": "stdout"
        }
      ]
    },
    {
      "cell_type": "code",
      "metadata": {
        "colab": {
          "base_uri": "https://localhost:8080/"
        },
        "id": "h8B8OGZ_wuDN",
        "outputId": "da6ea97b-0d56-448f-ea75-bf13893065d4"
      },
      "source": [
        "!pkg-config --modversion opencv\n",
        "!pkg-config --libs --cflags opencv"
      ],
      "execution_count": 7,
      "outputs": [
        {
          "output_type": "stream",
          "text": [
            "3.2.0\n",
            "-I/usr/include/opencv -lopencv_shape -lopencv_stitching -lopencv_superres -lopencv_videostab -lopencv_aruco -lopencv_bgsegm -lopencv_bioinspired -lopencv_ccalib -lopencv_datasets -lopencv_dpm -lopencv_face -lopencv_freetype -lopencv_fuzzy -lopencv_hdf -lopencv_line_descriptor -lopencv_optflow -lopencv_video -lopencv_plot -lopencv_reg -lopencv_saliency -lopencv_stereo -lopencv_structured_light -lopencv_phase_unwrapping -lopencv_rgbd -lopencv_viz -lopencv_surface_matching -lopencv_text -lopencv_ximgproc -lopencv_calib3d -lopencv_features2d -lopencv_flann -lopencv_xobjdetect -lopencv_objdetect -lopencv_ml -lopencv_xphoto -lopencv_highgui -lopencv_videoio -lopencv_imgcodecs -lopencv_photo -lopencv_imgproc -lopencv_core\n"
          ],
          "name": "stdout"
        }
      ]
    },
    {
      "cell_type": "code",
      "metadata": {
        "colab": {
          "base_uri": "https://localhost:8080/"
        },
        "id": "7C30r1gQCTKb",
        "outputId": "92b460ea-e4fb-46dc-9ca0-191bc538a481"
      },
      "source": [
        "from google.colab import drive\n",
        "drive.mount('/content/drive')"
      ],
      "execution_count": 8,
      "outputs": [
        {
          "output_type": "stream",
          "text": [
            "Mounted at /content/drive\n"
          ],
          "name": "stdout"
        }
      ]
    },
    {
      "cell_type": "code",
      "metadata": {
        "colab": {
          "base_uri": "https://localhost:8080/"
        },
        "id": "9qJlj_A6vPMV",
        "outputId": "9b2fd6d5-0c6c-4d73-dc53-0a4acf60211e"
      },
      "source": [
        "%cd drive/My\\ Drive/Colab\\ Notebooks/datasets/darknet"
      ],
      "execution_count": 9,
      "outputs": [
        {
          "output_type": "stream",
          "text": [
            "/content/drive/My Drive/Colab Notebooks/datasets/darknet\n"
          ],
          "name": "stdout"
        }
      ]
    },
    {
      "cell_type": "code",
      "metadata": {
        "colab": {
          "base_uri": "https://localhost:8080/"
        },
        "id": "Vq9ZE_edwt_t",
        "outputId": "60eff0b0-322d-48b6-d976-cda9039020e4"
      },
      "source": [
        "!make"
      ],
      "execution_count": 10,
      "outputs": [
        {
          "output_type": "stream",
          "text": [
            "nvcc  -gencode arch=compute_30,code=sm_30 -gencode arch=compute_35,code=sm_35 -gencode arch=compute_50,code=[sm_50,compute_50] -gencode arch=compute_52,code=[sm_52,compute_52] -Iinclude/ -Isrc/ -DOPENCV `pkg-config --cflags opencv`  -DGPU -I/usr/local/cuda/include/ -DCUDNN  --compiler-options \"-Wall -Wno-unused-result -Wno-unknown-pragmas -Wfatal-errors -fPIC -Ofast -DOPENCV -DGPU -DCUDNN\" -c ./src/convolutional_kernels.cu -o obj/convolutional_kernels.o\n",
            "nvcc fatal   : Unsupported gpu architecture 'compute_30'\n",
            "Makefile:92: recipe for target 'obj/convolutional_kernels.o' failed\n",
            "make: *** [obj/convolutional_kernels.o] Error 1\n"
          ],
          "name": "stdout"
        }
      ]
    },
    {
      "cell_type": "code",
      "metadata": {
        "colab": {
          "base_uri": "https://localhost:8080/"
        },
        "id": "NSE_uVYZ3FNG",
        "outputId": "2ad2c06f-f02e-4681-a63f-cc9c19017df3"
      },
      "source": [
        "!pwd"
      ],
      "execution_count": 11,
      "outputs": [
        {
          "output_type": "stream",
          "text": [
            "/content/drive/My Drive/Colab Notebooks/datasets/darknet\n"
          ],
          "name": "stdout"
        }
      ]
    },
    {
      "cell_type": "code",
      "metadata": {
        "id": "Ik8igLjSwk88"
      },
      "source": [
        "# 권한 설정\n",
        "!chmod +x ./darknet"
      ],
      "execution_count": 12,
      "outputs": []
    },
    {
      "cell_type": "code",
      "metadata": {
        "colab": {
          "base_uri": "https://localhost:8080/"
        },
        "id": "8U6I8imfvhEt",
        "outputId": "b10ec8ef-0e00-4d57-a9de-614bb9df87fa"
      },
      "source": [
        "!./darknet detector train data/obj.data yolo-obj.cfg darknet19_448.conv.23"
      ],
      "execution_count": 13,
      "outputs": [
        {
          "output_type": "stream",
          "text": [
            "yolo-obj\n",
            "layer     filters    size              input                output\n",
            "    0 conv     32  3 x 3 / 1   416 x 416 x   3   ->   416 x 416 x  32  0.299 BFLOPs\n",
            "    1 max          2 x 2 / 2   416 x 416 x  32   ->   208 x 208 x  32\n",
            "    2 conv     64  3 x 3 / 1   208 x 208 x  32   ->   208 x 208 x  64  1.595 BFLOPs\n",
            "    3 max          2 x 2 / 2   208 x 208 x  64   ->   104 x 104 x  64\n",
            "    4 conv    128  3 x 3 / 1   104 x 104 x  64   ->   104 x 104 x 128  1.595 BFLOPs\n",
            "    5 conv     64  1 x 1 / 1   104 x 104 x 128   ->   104 x 104 x  64  0.177 BFLOPs\n",
            "    6 conv    128  3 x 3 / 1   104 x 104 x  64   ->   104 x 104 x 128  1.595 BFLOPs\n",
            "    7 max          2 x 2 / 2   104 x 104 x 128   ->    52 x  52 x 128\n",
            "    8 conv    256  3 x 3 / 1    52 x  52 x 128   ->    52 x  52 x 256  1.595 BFLOPs\n",
            "    9 conv    128  1 x 1 / 1    52 x  52 x 256   ->    52 x  52 x 128  0.177 BFLOPs\n",
            "   10 conv    256  3 x 3 / 1    52 x  52 x 128   ->    52 x  52 x 256  1.595 BFLOPs\n",
            "   11 max          2 x 2 / 2    52 x  52 x 256   ->    26 x  26 x 256\n",
            "   12 conv    512  3 x 3 / 1    26 x  26 x 256   ->    26 x  26 x 512  1.595 BFLOPs\n",
            "   13 conv    256  1 x 1 / 1    26 x  26 x 512   ->    26 x  26 x 256  0.177 BFLOPs\n",
            "   14 conv    512  3 x 3 / 1    26 x  26 x 256   ->    26 x  26 x 512  1.595 BFLOPs\n",
            "   15 conv    256  1 x 1 / 1    26 x  26 x 512   ->    26 x  26 x 256  0.177 BFLOPs\n",
            "   16 conv    512  3 x 3 / 1    26 x  26 x 256   ->    26 x  26 x 512  1.595 BFLOPs\n",
            "   17 max          2 x 2 / 2    26 x  26 x 512   ->    13 x  13 x 512\n",
            "   18 conv   1024  3 x 3 / 1    13 x  13 x 512   ->    13 x  13 x1024  1.595 BFLOPs\n",
            "   19 conv    512  1 x 1 / 1    13 x  13 x1024   ->    13 x  13 x 512  0.177 BFLOPs\n",
            "   20 conv   1024  3 x 3 / 1    13 x  13 x 512   ->    13 x  13 x1024  1.595 BFLOPs\n",
            "   21 conv    512  1 x 1 / 1    13 x  13 x1024   ->    13 x  13 x 512  0.177 BFLOPs\n",
            "   22 conv   1024  3 x 3 / 1    13 x  13 x 512   ->    13 x  13 x1024  1.595 BFLOPs\n",
            "   23 conv   1024  3 x 3 / 1    13 x  13 x1024   ->    13 x  13 x1024  3.190 BFLOPs\n",
            "   24 conv   1024  3 x 3 / 1    13 x  13 x1024   ->    13 x  13 x1024  3.190 BFLOPs\n",
            "   25 route  16\n",
            "   26 reorg              / 2    26 x  26 x 512   ->    13 x  13 x2048\n",
            "   27 route  26 24\n",
            "   28 conv   1024  3 x 3 / 1    13 x  13 x3072   ->    13 x  13 x1024  9.569 BFLOPs\n",
            "   29 conv     35  1 x 1 / 1    13 x  13 x1024   ->    13 x  13 x  35  0.012 BFLOPs\n",
            "   30 detection\n",
            "mask_scale: Using default '1.000000'\n",
            "Loading weights from darknet19_448.conv.23...Done!\n",
            "Learning Rate: 0.0001, Momentum: 0.9, Decay: 0.0005\n",
            "Cannot load image \"\"\n",
            "Couldn't open file: \n"
          ],
          "name": "stdout"
        }
      ]
    }
  ]
}