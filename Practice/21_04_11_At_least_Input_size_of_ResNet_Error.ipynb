{
  "nbformat": 4,
  "nbformat_minor": 0,
  "metadata": {
    "colab": {
      "name": "Untitled0.ipynb",
      "provenance": []
    },
    "kernelspec": {
      "name": "python3",
      "display_name": "Python 3"
    },
    "language_info": {
      "name": "python"
    },
    "accelerator": "GPU"
  },
  "cells": [
    {
      "cell_type": "code",
      "metadata": {
        "colab": {
          "base_uri": "https://localhost:8080/"
        },
        "id": "KCK17O-6sIBg",
        "outputId": "581721ff-a296-4589-df5d-2e0d0275d6c8"
      },
      "source": [
        "from google.colab import drive\n",
        "\n",
        "drive.mount('/content/drive')"
      ],
      "execution_count": 1,
      "outputs": [
        {
          "output_type": "stream",
          "text": [
            "Mounted at /content/drive\n"
          ],
          "name": "stdout"
        }
      ]
    },
    {
      "cell_type": "code",
      "metadata": {
        "colab": {
          "base_uri": "https://localhost:8080/"
        },
        "id": "jm1BXbfWsWxt",
        "outputId": "8c143bb7-e8f7-485c-ecd6-8085095f4825"
      },
      "source": [
        "!ls -l '/content/drive/My Drive/Colab Notebooks/datasets/DataSet.pkl'"
      ],
      "execution_count": 2,
      "outputs": [
        {
          "output_type": "stream",
          "text": [
            "-rw------- 1 root root 82003032 Mar 24 00:14 '/content/drive/My Drive/Colab Notebooks/datasets/DataSet.pkl'\n"
          ],
          "name": "stdout"
        }
      ]
    },
    {
      "cell_type": "code",
      "metadata": {
        "colab": {
          "base_uri": "https://localhost:8080/"
        },
        "id": "Zg8Dg15escoy",
        "outputId": "ecd54a03-35c4-41b0-cb35-08ab3f426236"
      },
      "source": [
        "import pandas as pd\n",
        "\n",
        "url = '/content/drive/My Drive/Colab Notebooks/datasets/DataSet.pkl'\n",
        "DF = pd.read_pickle(url, compression='gzip')\n",
        "\n",
        "DF.shape"
      ],
      "execution_count": 3,
      "outputs": [
        {
          "output_type": "execute_result",
          "data": {
            "text/plain": [
              "(24916, 2701)"
            ]
          },
          "metadata": {
            "tags": []
          },
          "execution_count": 3
        }
      ]
    },
    {
      "cell_type": "code",
      "metadata": {
        "colab": {
          "base_uri": "https://localhost:8080/"
        },
        "id": "GHsJuQ39udjV",
        "outputId": "efb8fd4e-46b2-4658-dc48-a340450d0f8a"
      },
      "source": [
        "DF.info()"
      ],
      "execution_count": 4,
      "outputs": [
        {
          "output_type": "stream",
          "text": [
            "<class 'pandas.core.frame.DataFrame'>\n",
            "RangeIndex: 24916 entries, 0 to 24915\n",
            "Columns: 2701 entries, 0 to 2700\n",
            "dtypes: object(2701)\n",
            "memory usage: 513.4+ MB\n"
          ],
          "name": "stdout"
        }
      ]
    },
    {
      "cell_type": "code",
      "metadata": {
        "colab": {
          "base_uri": "https://localhost:8080/",
          "height": 415
        },
        "id": "ObgZBfJlvMxU",
        "outputId": "820eb22f-31b5-4441-f6a3-bd38dc9e038a"
      },
      "source": [
        "DF.head()"
      ],
      "execution_count": 5,
      "outputs": [
        {
          "output_type": "execute_result",
          "data": {
            "text/html": [
              "<div>\n",
              "<style scoped>\n",
              "    .dataframe tbody tr th:only-of-type {\n",
              "        vertical-align: middle;\n",
              "    }\n",
              "\n",
              "    .dataframe tbody tr th {\n",
              "        vertical-align: top;\n",
              "    }\n",
              "\n",
              "    .dataframe thead th {\n",
              "        text-align: right;\n",
              "    }\n",
              "</style>\n",
              "<table border=\"1\" class=\"dataframe\">\n",
              "  <thead>\n",
              "    <tr style=\"text-align: right;\">\n",
              "      <th></th>\n",
              "      <th>0</th>\n",
              "      <th>1</th>\n",
              "      <th>2</th>\n",
              "      <th>3</th>\n",
              "      <th>4</th>\n",
              "      <th>5</th>\n",
              "      <th>6</th>\n",
              "      <th>7</th>\n",
              "      <th>8</th>\n",
              "      <th>9</th>\n",
              "      <th>10</th>\n",
              "      <th>11</th>\n",
              "      <th>12</th>\n",
              "      <th>13</th>\n",
              "      <th>14</th>\n",
              "      <th>15</th>\n",
              "      <th>16</th>\n",
              "      <th>17</th>\n",
              "      <th>18</th>\n",
              "      <th>19</th>\n",
              "      <th>20</th>\n",
              "      <th>21</th>\n",
              "      <th>22</th>\n",
              "      <th>23</th>\n",
              "      <th>24</th>\n",
              "      <th>25</th>\n",
              "      <th>26</th>\n",
              "      <th>27</th>\n",
              "      <th>28</th>\n",
              "      <th>29</th>\n",
              "      <th>30</th>\n",
              "      <th>31</th>\n",
              "      <th>32</th>\n",
              "      <th>33</th>\n",
              "      <th>34</th>\n",
              "      <th>35</th>\n",
              "      <th>36</th>\n",
              "      <th>37</th>\n",
              "      <th>38</th>\n",
              "      <th>39</th>\n",
              "      <th>...</th>\n",
              "      <th>2661</th>\n",
              "      <th>2662</th>\n",
              "      <th>2663</th>\n",
              "      <th>2664</th>\n",
              "      <th>2665</th>\n",
              "      <th>2666</th>\n",
              "      <th>2667</th>\n",
              "      <th>2668</th>\n",
              "      <th>2669</th>\n",
              "      <th>2670</th>\n",
              "      <th>2671</th>\n",
              "      <th>2672</th>\n",
              "      <th>2673</th>\n",
              "      <th>2674</th>\n",
              "      <th>2675</th>\n",
              "      <th>2676</th>\n",
              "      <th>2677</th>\n",
              "      <th>2678</th>\n",
              "      <th>2679</th>\n",
              "      <th>2680</th>\n",
              "      <th>2681</th>\n",
              "      <th>2682</th>\n",
              "      <th>2683</th>\n",
              "      <th>2684</th>\n",
              "      <th>2685</th>\n",
              "      <th>2686</th>\n",
              "      <th>2687</th>\n",
              "      <th>2688</th>\n",
              "      <th>2689</th>\n",
              "      <th>2690</th>\n",
              "      <th>2691</th>\n",
              "      <th>2692</th>\n",
              "      <th>2693</th>\n",
              "      <th>2694</th>\n",
              "      <th>2695</th>\n",
              "      <th>2696</th>\n",
              "      <th>2697</th>\n",
              "      <th>2698</th>\n",
              "      <th>2699</th>\n",
              "      <th>2700</th>\n",
              "    </tr>\n",
              "  </thead>\n",
              "  <tbody>\n",
              "    <tr>\n",
              "      <th>0</th>\n",
              "      <td>230</td>\n",
              "      <td>236</td>\n",
              "      <td>252</td>\n",
              "      <td>226</td>\n",
              "      <td>232</td>\n",
              "      <td>248</td>\n",
              "      <td>220</td>\n",
              "      <td>227</td>\n",
              "      <td>245</td>\n",
              "      <td>214</td>\n",
              "      <td>223</td>\n",
              "      <td>240</td>\n",
              "      <td>212</td>\n",
              "      <td>220</td>\n",
              "      <td>241</td>\n",
              "      <td>206</td>\n",
              "      <td>219</td>\n",
              "      <td>238</td>\n",
              "      <td>204</td>\n",
              "      <td>216</td>\n",
              "      <td>240</td>\n",
              "      <td>199</td>\n",
              "      <td>215</td>\n",
              "      <td>238</td>\n",
              "      <td>199</td>\n",
              "      <td>215</td>\n",
              "      <td>241</td>\n",
              "      <td>193</td>\n",
              "      <td>213</td>\n",
              "      <td>238</td>\n",
              "      <td>189</td>\n",
              "      <td>208</td>\n",
              "      <td>238</td>\n",
              "      <td>183</td>\n",
              "      <td>207</td>\n",
              "      <td>235</td>\n",
              "      <td>181</td>\n",
              "      <td>204</td>\n",
              "      <td>236</td>\n",
              "      <td>177</td>\n",
              "      <td>...</td>\n",
              "      <td>28</td>\n",
              "      <td>28</td>\n",
              "      <td>28</td>\n",
              "      <td>23</td>\n",
              "      <td>24</td>\n",
              "      <td>26</td>\n",
              "      <td>18</td>\n",
              "      <td>22</td>\n",
              "      <td>23</td>\n",
              "      <td>18</td>\n",
              "      <td>21</td>\n",
              "      <td>26</td>\n",
              "      <td>17</td>\n",
              "      <td>22</td>\n",
              "      <td>26</td>\n",
              "      <td>14</td>\n",
              "      <td>21</td>\n",
              "      <td>27</td>\n",
              "      <td>13</td>\n",
              "      <td>20</td>\n",
              "      <td>26</td>\n",
              "      <td>11</td>\n",
              "      <td>16</td>\n",
              "      <td>20</td>\n",
              "      <td>15</td>\n",
              "      <td>20</td>\n",
              "      <td>23</td>\n",
              "      <td>20</td>\n",
              "      <td>21</td>\n",
              "      <td>25</td>\n",
              "      <td>22</td>\n",
              "      <td>24</td>\n",
              "      <td>23</td>\n",
              "      <td>37</td>\n",
              "      <td>35</td>\n",
              "      <td>36</td>\n",
              "      <td>55</td>\n",
              "      <td>54</td>\n",
              "      <td>52</td>\n",
              "      <td>G80스포츠</td>\n",
              "    </tr>\n",
              "    <tr>\n",
              "      <th>1</th>\n",
              "      <td>235</td>\n",
              "      <td>238</td>\n",
              "      <td>243</td>\n",
              "      <td>251</td>\n",
              "      <td>254</td>\n",
              "      <td>255</td>\n",
              "      <td>251</td>\n",
              "      <td>255</td>\n",
              "      <td>255</td>\n",
              "      <td>242</td>\n",
              "      <td>249</td>\n",
              "      <td>255</td>\n",
              "      <td>239</td>\n",
              "      <td>246</td>\n",
              "      <td>255</td>\n",
              "      <td>248</td>\n",
              "      <td>255</td>\n",
              "      <td>255</td>\n",
              "      <td>247</td>\n",
              "      <td>255</td>\n",
              "      <td>255</td>\n",
              "      <td>238</td>\n",
              "      <td>248</td>\n",
              "      <td>255</td>\n",
              "      <td>246</td>\n",
              "      <td>255</td>\n",
              "      <td>255</td>\n",
              "      <td>249</td>\n",
              "      <td>255</td>\n",
              "      <td>255</td>\n",
              "      <td>251</td>\n",
              "      <td>255</td>\n",
              "      <td>255</td>\n",
              "      <td>249</td>\n",
              "      <td>250</td>\n",
              "      <td>255</td>\n",
              "      <td>248</td>\n",
              "      <td>248</td>\n",
              "      <td>250</td>\n",
              "      <td>251</td>\n",
              "      <td>...</td>\n",
              "      <td>54</td>\n",
              "      <td>59</td>\n",
              "      <td>62</td>\n",
              "      <td>46</td>\n",
              "      <td>53</td>\n",
              "      <td>59</td>\n",
              "      <td>40</td>\n",
              "      <td>47</td>\n",
              "      <td>55</td>\n",
              "      <td>36</td>\n",
              "      <td>45</td>\n",
              "      <td>54</td>\n",
              "      <td>36</td>\n",
              "      <td>44</td>\n",
              "      <td>55</td>\n",
              "      <td>38</td>\n",
              "      <td>46</td>\n",
              "      <td>59</td>\n",
              "      <td>40</td>\n",
              "      <td>48</td>\n",
              "      <td>59</td>\n",
              "      <td>33</td>\n",
              "      <td>39</td>\n",
              "      <td>51</td>\n",
              "      <td>38</td>\n",
              "      <td>45</td>\n",
              "      <td>53</td>\n",
              "      <td>42</td>\n",
              "      <td>45</td>\n",
              "      <td>50</td>\n",
              "      <td>51</td>\n",
              "      <td>52</td>\n",
              "      <td>54</td>\n",
              "      <td>69</td>\n",
              "      <td>70</td>\n",
              "      <td>65</td>\n",
              "      <td>124</td>\n",
              "      <td>123</td>\n",
              "      <td>118</td>\n",
              "      <td>G80스포츠</td>\n",
              "    </tr>\n",
              "    <tr>\n",
              "      <th>2</th>\n",
              "      <td>94</td>\n",
              "      <td>112</td>\n",
              "      <td>134</td>\n",
              "      <td>85</td>\n",
              "      <td>103</td>\n",
              "      <td>125</td>\n",
              "      <td>76</td>\n",
              "      <td>97</td>\n",
              "      <td>118</td>\n",
              "      <td>80</td>\n",
              "      <td>101</td>\n",
              "      <td>122</td>\n",
              "      <td>95</td>\n",
              "      <td>116</td>\n",
              "      <td>137</td>\n",
              "      <td>109</td>\n",
              "      <td>130</td>\n",
              "      <td>151</td>\n",
              "      <td>114</td>\n",
              "      <td>137</td>\n",
              "      <td>155</td>\n",
              "      <td>114</td>\n",
              "      <td>137</td>\n",
              "      <td>155</td>\n",
              "      <td>112</td>\n",
              "      <td>133</td>\n",
              "      <td>150</td>\n",
              "      <td>121</td>\n",
              "      <td>143</td>\n",
              "      <td>157</td>\n",
              "      <td>86</td>\n",
              "      <td>105</td>\n",
              "      <td>120</td>\n",
              "      <td>66</td>\n",
              "      <td>86</td>\n",
              "      <td>97</td>\n",
              "      <td>127</td>\n",
              "      <td>145</td>\n",
              "      <td>157</td>\n",
              "      <td>189</td>\n",
              "      <td>...</td>\n",
              "      <td>41</td>\n",
              "      <td>53</td>\n",
              "      <td>65</td>\n",
              "      <td>41</td>\n",
              "      <td>54</td>\n",
              "      <td>63</td>\n",
              "      <td>51</td>\n",
              "      <td>64</td>\n",
              "      <td>73</td>\n",
              "      <td>64</td>\n",
              "      <td>77</td>\n",
              "      <td>86</td>\n",
              "      <td>66</td>\n",
              "      <td>79</td>\n",
              "      <td>88</td>\n",
              "      <td>55</td>\n",
              "      <td>68</td>\n",
              "      <td>76</td>\n",
              "      <td>42</td>\n",
              "      <td>55</td>\n",
              "      <td>63</td>\n",
              "      <td>51</td>\n",
              "      <td>64</td>\n",
              "      <td>70</td>\n",
              "      <td>50</td>\n",
              "      <td>63</td>\n",
              "      <td>69</td>\n",
              "      <td>48</td>\n",
              "      <td>62</td>\n",
              "      <td>65</td>\n",
              "      <td>52</td>\n",
              "      <td>66</td>\n",
              "      <td>69</td>\n",
              "      <td>67</td>\n",
              "      <td>78</td>\n",
              "      <td>82</td>\n",
              "      <td>80</td>\n",
              "      <td>91</td>\n",
              "      <td>95</td>\n",
              "      <td>G80스포츠</td>\n",
              "    </tr>\n",
              "    <tr>\n",
              "      <th>3</th>\n",
              "      <td>80</td>\n",
              "      <td>88</td>\n",
              "      <td>90</td>\n",
              "      <td>68</td>\n",
              "      <td>76</td>\n",
              "      <td>78</td>\n",
              "      <td>79</td>\n",
              "      <td>83</td>\n",
              "      <td>84</td>\n",
              "      <td>122</td>\n",
              "      <td>126</td>\n",
              "      <td>125</td>\n",
              "      <td>178</td>\n",
              "      <td>178</td>\n",
              "      <td>178</td>\n",
              "      <td>211</td>\n",
              "      <td>211</td>\n",
              "      <td>209</td>\n",
              "      <td>221</td>\n",
              "      <td>217</td>\n",
              "      <td>214</td>\n",
              "      <td>216</td>\n",
              "      <td>213</td>\n",
              "      <td>208</td>\n",
              "      <td>223</td>\n",
              "      <td>218</td>\n",
              "      <td>214</td>\n",
              "      <td>213</td>\n",
              "      <td>208</td>\n",
              "      <td>202</td>\n",
              "      <td>204</td>\n",
              "      <td>201</td>\n",
              "      <td>194</td>\n",
              "      <td>205</td>\n",
              "      <td>202</td>\n",
              "      <td>195</td>\n",
              "      <td>208</td>\n",
              "      <td>208</td>\n",
              "      <td>200</td>\n",
              "      <td>209</td>\n",
              "      <td>...</td>\n",
              "      <td>53</td>\n",
              "      <td>64</td>\n",
              "      <td>84</td>\n",
              "      <td>54</td>\n",
              "      <td>65</td>\n",
              "      <td>85</td>\n",
              "      <td>52</td>\n",
              "      <td>64</td>\n",
              "      <td>80</td>\n",
              "      <td>55</td>\n",
              "      <td>67</td>\n",
              "      <td>81</td>\n",
              "      <td>66</td>\n",
              "      <td>79</td>\n",
              "      <td>88</td>\n",
              "      <td>77</td>\n",
              "      <td>90</td>\n",
              "      <td>99</td>\n",
              "      <td>84</td>\n",
              "      <td>97</td>\n",
              "      <td>105</td>\n",
              "      <td>64</td>\n",
              "      <td>77</td>\n",
              "      <td>83</td>\n",
              "      <td>63</td>\n",
              "      <td>76</td>\n",
              "      <td>82</td>\n",
              "      <td>63</td>\n",
              "      <td>76</td>\n",
              "      <td>84</td>\n",
              "      <td>84</td>\n",
              "      <td>97</td>\n",
              "      <td>105</td>\n",
              "      <td>82</td>\n",
              "      <td>92</td>\n",
              "      <td>102</td>\n",
              "      <td>104</td>\n",
              "      <td>114</td>\n",
              "      <td>124</td>\n",
              "      <td>G80스포츠</td>\n",
              "    </tr>\n",
              "    <tr>\n",
              "      <th>4</th>\n",
              "      <td>215</td>\n",
              "      <td>229</td>\n",
              "      <td>194</td>\n",
              "      <td>212</td>\n",
              "      <td>222</td>\n",
              "      <td>195</td>\n",
              "      <td>210</td>\n",
              "      <td>217</td>\n",
              "      <td>201</td>\n",
              "      <td>217</td>\n",
              "      <td>218</td>\n",
              "      <td>213</td>\n",
              "      <td>226</td>\n",
              "      <td>223</td>\n",
              "      <td>232</td>\n",
              "      <td>229</td>\n",
              "      <td>221</td>\n",
              "      <td>236</td>\n",
              "      <td>222</td>\n",
              "      <td>211</td>\n",
              "      <td>227</td>\n",
              "      <td>213</td>\n",
              "      <td>201</td>\n",
              "      <td>211</td>\n",
              "      <td>213</td>\n",
              "      <td>203</td>\n",
              "      <td>204</td>\n",
              "      <td>216</td>\n",
              "      <td>209</td>\n",
              "      <td>199</td>\n",
              "      <td>221</td>\n",
              "      <td>215</td>\n",
              "      <td>201</td>\n",
              "      <td>218</td>\n",
              "      <td>217</td>\n",
              "      <td>197</td>\n",
              "      <td>210</td>\n",
              "      <td>211</td>\n",
              "      <td>195</td>\n",
              "      <td>205</td>\n",
              "      <td>...</td>\n",
              "      <td>31</td>\n",
              "      <td>47</td>\n",
              "      <td>60</td>\n",
              "      <td>42</td>\n",
              "      <td>58</td>\n",
              "      <td>71</td>\n",
              "      <td>51</td>\n",
              "      <td>67</td>\n",
              "      <td>80</td>\n",
              "      <td>58</td>\n",
              "      <td>72</td>\n",
              "      <td>83</td>\n",
              "      <td>61</td>\n",
              "      <td>75</td>\n",
              "      <td>86</td>\n",
              "      <td>62</td>\n",
              "      <td>76</td>\n",
              "      <td>85</td>\n",
              "      <td>63</td>\n",
              "      <td>77</td>\n",
              "      <td>86</td>\n",
              "      <td>87</td>\n",
              "      <td>101</td>\n",
              "      <td>110</td>\n",
              "      <td>94</td>\n",
              "      <td>108</td>\n",
              "      <td>117</td>\n",
              "      <td>84</td>\n",
              "      <td>99</td>\n",
              "      <td>106</td>\n",
              "      <td>94</td>\n",
              "      <td>109</td>\n",
              "      <td>116</td>\n",
              "      <td>99</td>\n",
              "      <td>114</td>\n",
              "      <td>119</td>\n",
              "      <td>81</td>\n",
              "      <td>96</td>\n",
              "      <td>101</td>\n",
              "      <td>G80스포츠</td>\n",
              "    </tr>\n",
              "  </tbody>\n",
              "</table>\n",
              "<p>5 rows × 2701 columns</p>\n",
              "</div>"
            ],
            "text/plain": [
              "  0    1    2    3    4    5    6     ... 2694 2695 2696 2697 2698 2699    2700\n",
              "0  230  236  252  226  232  248  220  ...   37   35   36   55   54   52  G80스포츠\n",
              "1  235  238  243  251  254  255  251  ...   69   70   65  124  123  118  G80스포츠\n",
              "2   94  112  134   85  103  125   76  ...   67   78   82   80   91   95  G80스포츠\n",
              "3   80   88   90   68   76   78   79  ...   82   92  102  104  114  124  G80스포츠\n",
              "4  215  229  194  212  222  195  210  ...   99  114  119   81   96  101  G80스포츠\n",
              "\n",
              "[5 rows x 2701 columns]"
            ]
          },
          "metadata": {
            "tags": []
          },
          "execution_count": 5
        }
      ]
    },
    {
      "cell_type": "code",
      "metadata": {
        "colab": {
          "base_uri": "https://localhost:8080/"
        },
        "id": "bCCIwi4tvSAM",
        "outputId": "81192440-79db-47d8-d879-5a4618f710bf"
      },
      "source": [
        "DF.isnull().sum()"
      ],
      "execution_count": 6,
      "outputs": [
        {
          "output_type": "execute_result",
          "data": {
            "text/plain": [
              "0       0\n",
              "1       0\n",
              "2       0\n",
              "3       0\n",
              "4       0\n",
              "       ..\n",
              "2696    0\n",
              "2697    0\n",
              "2698    0\n",
              "2699    0\n",
              "2700    0\n",
              "Length: 2701, dtype: int64"
            ]
          },
          "metadata": {
            "tags": []
          },
          "execution_count": 6
        }
      ]
    },
    {
      "cell_type": "code",
      "metadata": {
        "colab": {
          "base_uri": "https://localhost:8080/"
        },
        "id": "HuN5mzHhvdZM",
        "outputId": "71903697-d7de-4b9d-a6ea-9a14046cc2e4"
      },
      "source": [
        "X = DF.iloc[:,:-1]\n",
        "y = DF.iloc[:,-1]\n",
        "print(X.shape, y.shape)\n",
        "print(type(X))"
      ],
      "execution_count": 7,
      "outputs": [
        {
          "output_type": "stream",
          "text": [
            "(24916, 2700) (24916,)\n",
            "<class 'pandas.core.frame.DataFrame'>\n"
          ],
          "name": "stdout"
        }
      ]
    },
    {
      "cell_type": "code",
      "metadata": {
        "colab": {
          "base_uri": "https://localhost:8080/"
        },
        "id": "XHrl8Ps8wlir",
        "outputId": "d305c049-cbe7-4c88-888f-a36b0786d052"
      },
      "source": [
        "import numpy as np\n",
        "\n",
        "print(type(X.iloc[5]))\n",
        "print(type(X.iloc[5].values))\n",
        "print(type(X.iloc[5].values.astype(np.int)))"
      ],
      "execution_count": 8,
      "outputs": [
        {
          "output_type": "stream",
          "text": [
            "<class 'pandas.core.series.Series'>\n",
            "<class 'numpy.ndarray'>\n",
            "<class 'numpy.ndarray'>\n"
          ],
          "name": "stdout"
        }
      ]
    },
    {
      "cell_type": "code",
      "metadata": {
        "colab": {
          "base_uri": "https://localhost:8080/",
          "height": 423
        },
        "id": "3E_96HHBwNVk",
        "outputId": "5cf9b54a-7d25-46c2-8f58-fd7a168774a7"
      },
      "source": [
        "import numpy as np\n",
        "import matplotlib.pyplot as plt\n",
        "\n",
        "print(y.iloc[5])\n",
        "plt.subplot(1,2,1)\n",
        "plt.imshow(X.iloc[5].values.astype(np.float).reshape(30,30,3))\n",
        "plt.show()\n",
        "\n",
        "plt.subplot(1,2,2)\n",
        "plt.imshow(X.iloc[5].values.astype(np.int).reshape(30,30,3))\n",
        "plt.show()"
      ],
      "execution_count": 9,
      "outputs": [
        {
          "output_type": "stream",
          "text": [
            "Clipping input data to the valid range for imshow with RGB data ([0..1] for floats or [0..255] for integers).\n"
          ],
          "name": "stderr"
        },
        {
          "output_type": "stream",
          "text": [
            "G80스포츠\n"
          ],
          "name": "stdout"
        },
        {
          "output_type": "display_data",
          "data": {
            "image/png": "[encoded data removed]",
            "text/plain": [
              "<Figure size 432x288 with 1 Axes>"
            ]
          },
          "metadata": {
            "tags": [],
            "needs_background": "light"
          }
        },
        {
          "output_type": "display_data",
          "data": {
            "image/png": "[encoded data removed]",
            "text/plain": [
              "<Figure size 432x288 with 1 Axes>"
            ]
          },
          "metadata": {
            "tags": [],
            "needs_background": "light"
          }
        }
      ]
    },
    {
      "cell_type": "code",
      "metadata": {
        "colab": {
          "base_uri": "https://localhost:8080/"
        },
        "id": "9nD7rjraw74L",
        "outputId": "87f42926-d2c0-4654-fa7e-7a8cbc6ecaff"
      },
      "source": [
        "print(len(y.value_counts()))\n",
        "print(y.value_counts())"
      ],
      "execution_count": 10,
      "outputs": [
        {
          "output_type": "stream",
          "text": [
            "34\n",
            "투싼            1931\n",
            "i30           1296\n",
            "싼타페           1282\n",
            "그랜저HG240       940\n",
            "KONA 1         840\n",
            "그랜저            770\n",
            "소나타 YF         762\n",
            "소나타 뉴라이즈       725\n",
            "G90            714\n",
            "소나타 하이브리드      664\n",
            "아슬란            659\n",
            "소나타 LF         653\n",
            "더뉴아반떼AD        653\n",
            "제네시스G380       652\n",
            "소나타 LPI        646\n",
            "엑센트            641\n",
            "아반떼 XD         639\n",
            "제네시스 G80       638\n",
            "아반떼MD          636\n",
            "소나타            635\n",
            "아이오닉 하이브리드     633\n",
            "투싼1            628\n",
            "팰리세이드          628\n",
            "그랜저 IG         627\n",
            "아반떼AD          627\n",
            "벨로스터           620\n",
            "아이오닉 일렉트릭      620\n",
            "에쿠스            619\n",
            "스타렉스           614\n",
            "맥스크루즈          605\n",
            "G80스포츠         605\n",
            "소나타 NF         605\n",
            "제네시스 G70       600\n",
            "더뉴그랜드스타렉스      509\n",
            "Name: 2700, dtype: int64\n"
          ],
          "name": "stdout"
        }
      ]
    },
    {
      "cell_type": "code",
      "metadata": {
        "colab": {
          "base_uri": "https://localhost:8080/"
        },
        "id": "J6ag2frIxPa8",
        "outputId": "acdd3329-d052-48cf-9dc1-d5048114149b"
      },
      "source": [
        "X = X.values\n",
        "y = y.values\n",
        "print(X[:5], y[:5])"
      ],
      "execution_count": 11,
      "outputs": [
        {
          "output_type": "stream",
          "text": [
            "[[230 236 252 ... 55 54 52]\n",
            " [235 238 243 ... 124 123 118]\n",
            " [94 112 134 ... 80 91 95]\n",
            " [80 88 90 ... 104 114 124]\n",
            " [215 229 194 ... 81 96 101]] ['G80스포츠' 'G80스포츠' 'G80스포츠' 'G80스포츠' 'G80스포츠']\n"
          ],
          "name": "stdout"
        }
      ]
    },
    {
      "cell_type": "code",
      "metadata": {
        "colab": {
          "base_uri": "https://localhost:8080/"
        },
        "id": "PhFY6lFnyPb8",
        "outputId": "1e71a946-63d2-46b9-c6f5-37bbbfe5ba64"
      },
      "source": [
        "print(len(X))"
      ],
      "execution_count": 12,
      "outputs": [
        {
          "output_type": "stream",
          "text": [
            "24916\n"
          ],
          "name": "stdout"
        }
      ]
    },
    {
      "cell_type": "code",
      "metadata": {
        "colab": {
          "base_uri": "https://localhost:8080/"
        },
        "id": "fsnkaPL9ymzl",
        "outputId": "0030a8d8-1ada-4e22-c39e-23cca4b1ed5e"
      },
      "source": [
        "X = X.astype(float)/255\n",
        "print(X.shape)\n",
        "X = X.reshape(24916,2700)\n",
        "print( X[:1])"
      ],
      "execution_count": 13,
      "outputs": [
        {
          "output_type": "stream",
          "text": [
            "(24916, 2700)\n",
            "[[0.90196078 0.9254902  0.98823529 ... 0.21568627 0.21176471 0.20392157]]\n"
          ],
          "name": "stdout"
        }
      ]
    },
    {
      "cell_type": "code",
      "metadata": {
        "colab": {
          "base_uri": "https://localhost:8080/"
        },
        "id": "zP6Z6XcP9la5",
        "outputId": "a52b6ae0-d204-40f5-be17-b0775e7fef47"
      },
      "source": [
        "X = X.reshape(24916,30,30,3)\n",
        "X.shape"
      ],
      "execution_count": 14,
      "outputs": [
        {
          "output_type": "execute_result",
          "data": {
            "text/plain": [
              "(24916, 30, 30, 3)"
            ]
          },
          "metadata": {
            "tags": []
          },
          "execution_count": 14
        }
      ]
    },
    {
      "cell_type": "code",
      "metadata": {
        "colab": {
          "base_uri": "https://localhost:8080/"
        },
        "id": "PhELW5N88lsa",
        "outputId": "5c6c546e-5f2a-4e23-aca3-6666402f6c19"
      },
      "source": [
        "from sklearn.preprocessing import LabelEncoder\n",
        "\n",
        "encoder = LabelEncoder()\n",
        "y_LE = encoder.fit_transform(y)\n",
        "y_LE"
      ],
      "execution_count": 15,
      "outputs": [
        {
          "output_type": "execute_result",
          "data": {
            "text/plain": [
              "array([ 0,  0,  0, ..., 33, 33, 33])"
            ]
          },
          "metadata": {
            "tags": []
          },
          "execution_count": 15
        }
      ]
    },
    {
      "cell_type": "code",
      "metadata": {
        "colab": {
          "base_uri": "https://localhost:8080/"
        },
        "id": "NT8ZK0DX8zUC",
        "outputId": "08009959-d70e-4347-dfac-5d849efd2bda"
      },
      "source": [
        "from keras.utils import to_categorical\n",
        "\n",
        "y = to_categorical(y_LE)\n",
        "print(y[:5])"
      ],
      "execution_count": 16,
      "outputs": [
        {
          "output_type": "stream",
          "text": [
            "[[1. 0. 0. 0. 0. 0. 0. 0. 0. 0. 0. 0. 0. 0. 0. 0. 0. 0. 0. 0. 0. 0. 0. 0.\n",
            "  0. 0. 0. 0. 0. 0. 0. 0. 0. 0.]\n",
            " [1. 0. 0. 0. 0. 0. 0. 0. 0. 0. 0. 0. 0. 0. 0. 0. 0. 0. 0. 0. 0. 0. 0. 0.\n",
            "  0. 0. 0. 0. 0. 0. 0. 0. 0. 0.]\n",
            " [1. 0. 0. 0. 0. 0. 0. 0. 0. 0. 0. 0. 0. 0. 0. 0. 0. 0. 0. 0. 0. 0. 0. 0.\n",
            "  0. 0. 0. 0. 0. 0. 0. 0. 0. 0.]\n",
            " [1. 0. 0. 0. 0. 0. 0. 0. 0. 0. 0. 0. 0. 0. 0. 0. 0. 0. 0. 0. 0. 0. 0. 0.\n",
            "  0. 0. 0. 0. 0. 0. 0. 0. 0. 0.]\n",
            " [1. 0. 0. 0. 0. 0. 0. 0. 0. 0. 0. 0. 0. 0. 0. 0. 0. 0. 0. 0. 0. 0. 0. 0.\n",
            "  0. 0. 0. 0. 0. 0. 0. 0. 0. 0.]]\n"
          ],
          "name": "stdout"
        }
      ]
    },
    {
      "cell_type": "code",
      "metadata": {
        "colab": {
          "base_uri": "https://localhost:8080/",
          "height": 379
        },
        "id": "rXmWK3bp95iK",
        "outputId": "86889442-6e52-442d-ea9e-8e05661bae74"
      },
      "source": [
        "from keras.applications import ResNet50\n",
        "\n",
        "conv_base = ResNet50(weights='imagenet', include_top=False, input_shape=(30,30,3))"
      ],
      "execution_count": 17,
      "outputs": [
        {
          "output_type": "error",
          "ename": "ValueError",
          "evalue": "ignored",
          "traceback": [
            "\u001b[0;31m---------------------------------------------------------------------------\u001b[0m",
            "\u001b[0;31mValueError\u001b[0m                                Traceback (most recent call last)",
            "\u001b[0;32m<ipython-input-17-7ef07b6ea294>\u001b[0m in \u001b[0;36m<module>\u001b[0;34m()\u001b[0m\n\u001b[1;32m      1\u001b[0m \u001b[0;32mfrom\u001b[0m \u001b[0mkeras\u001b[0m\u001b[0;34m.\u001b[0m\u001b[0mapplications\u001b[0m \u001b[0;32mimport\u001b[0m \u001b[0mResNet50\u001b[0m\u001b[0;34m\u001b[0m\u001b[0;34m\u001b[0m\u001b[0m\n\u001b[1;32m      2\u001b[0m \u001b[0;34m\u001b[0m\u001b[0m\n\u001b[0;32m----> 3\u001b[0;31m \u001b[0mconv_base\u001b[0m \u001b[0;34m=\u001b[0m \u001b[0mResNet50\u001b[0m\u001b[0;34m(\u001b[0m\u001b[0mweights\u001b[0m\u001b[0;34m=\u001b[0m\u001b[0;34m'imagenet'\u001b[0m\u001b[0;34m,\u001b[0m \u001b[0minclude_top\u001b[0m\u001b[0;34m=\u001b[0m\u001b[0;32mFalse\u001b[0m\u001b[0;34m,\u001b[0m \u001b[0minput_shape\u001b[0m\u001b[0;34m=\u001b[0m\u001b[0;34m(\u001b[0m\u001b[0;36m30\u001b[0m\u001b[0;34m,\u001b[0m\u001b[0;36m30\u001b[0m\u001b[0;34m,\u001b[0m\u001b[0;36m3\u001b[0m\u001b[0;34m)\u001b[0m\u001b[0;34m)\u001b[0m\u001b[0;34m\u001b[0m\u001b[0;34m\u001b[0m\u001b[0m\n\u001b[0m",
            "\u001b[0;32m/usr/local/lib/python3.7/dist-packages/tensorflow/python/keras/applications/resnet.py\u001b[0m in \u001b[0;36mResNet50\u001b[0;34m(include_top, weights, input_tensor, input_shape, pooling, classes, **kwargs)\u001b[0m\n\u001b[1;32m    470\u001b[0m \u001b[0;34m\u001b[0m\u001b[0m\n\u001b[1;32m    471\u001b[0m   return ResNet(stack_fn, False, True, 'resnet50', include_top, weights,\n\u001b[0;32m--> 472\u001b[0;31m                 input_tensor, input_shape, pooling, classes, **kwargs)\n\u001b[0m\u001b[1;32m    473\u001b[0m \u001b[0;34m\u001b[0m\u001b[0m\n\u001b[1;32m    474\u001b[0m \u001b[0;34m\u001b[0m\u001b[0m\n",
            "\u001b[0;32m/usr/local/lib/python3.7/dist-packages/tensorflow/python/keras/applications/resnet.py\u001b[0m in \u001b[0;36mResNet\u001b[0;34m(stack_fn, preact, use_bias, model_name, include_top, weights, input_tensor, input_shape, pooling, classes, classifier_activation, **kwargs)\u001b[0m\n\u001b[1;32m    152\u001b[0m       \u001b[0mdata_format\u001b[0m\u001b[0;34m=\u001b[0m\u001b[0mbackend\u001b[0m\u001b[0;34m.\u001b[0m\u001b[0mimage_data_format\u001b[0m\u001b[0;34m(\u001b[0m\u001b[0;34m)\u001b[0m\u001b[0;34m,\u001b[0m\u001b[0;34m\u001b[0m\u001b[0;34m\u001b[0m\u001b[0m\n\u001b[1;32m    153\u001b[0m       \u001b[0mrequire_flatten\u001b[0m\u001b[0;34m=\u001b[0m\u001b[0minclude_top\u001b[0m\u001b[0;34m,\u001b[0m\u001b[0;34m\u001b[0m\u001b[0;34m\u001b[0m\u001b[0m\n\u001b[0;32m--> 154\u001b[0;31m       weights=weights)\n\u001b[0m\u001b[1;32m    155\u001b[0m \u001b[0;34m\u001b[0m\u001b[0m\n\u001b[1;32m    156\u001b[0m   \u001b[0;32mif\u001b[0m \u001b[0minput_tensor\u001b[0m \u001b[0;32mis\u001b[0m \u001b[0;32mNone\u001b[0m\u001b[0;34m:\u001b[0m\u001b[0;34m\u001b[0m\u001b[0;34m\u001b[0m\u001b[0m\n",
            "\u001b[0;32m/usr/local/lib/python3.7/dist-packages/tensorflow/python/keras/applications/imagenet_utils.py\u001b[0m in \u001b[0;36mobtain_input_shape\u001b[0;34m(input_shape, default_size, min_size, data_format, require_flatten, weights)\u001b[0m\n\u001b[1;32m    369\u001b[0m           raise ValueError('Input size must be at least ' + str(min_size) +\n\u001b[1;32m    370\u001b[0m                            \u001b[0;34m'x'\u001b[0m \u001b[0;34m+\u001b[0m \u001b[0mstr\u001b[0m\u001b[0;34m(\u001b[0m\u001b[0mmin_size\u001b[0m\u001b[0;34m)\u001b[0m \u001b[0;34m+\u001b[0m \u001b[0;34m'; got `input_shape='\u001b[0m \u001b[0;34m+\u001b[0m\u001b[0;34m\u001b[0m\u001b[0;34m\u001b[0m\u001b[0m\n\u001b[0;32m--> 371\u001b[0;31m                            str(input_shape) + '`')\n\u001b[0m\u001b[1;32m    372\u001b[0m   \u001b[0;32melse\u001b[0m\u001b[0;34m:\u001b[0m\u001b[0;34m\u001b[0m\u001b[0;34m\u001b[0m\u001b[0m\n\u001b[1;32m    373\u001b[0m     \u001b[0;32mif\u001b[0m \u001b[0mrequire_flatten\u001b[0m\u001b[0;34m:\u001b[0m\u001b[0;34m\u001b[0m\u001b[0;34m\u001b[0m\u001b[0m\n",
            "\u001b[0;31mValueError\u001b[0m: Input size must be at least 32x32; got `input_shape=(30, 30, 3)`"
          ]
        }
      ]
    },
    {
      "cell_type": "code",
      "metadata": {
        "id": "UcaGMU7x-VmC"
      },
      "source": [
        "from "
      ],
      "execution_count": null,
      "outputs": []
    }
  ]
}