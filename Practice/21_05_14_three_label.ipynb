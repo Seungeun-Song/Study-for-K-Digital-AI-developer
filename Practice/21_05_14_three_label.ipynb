{
  "nbformat": 4,
  "nbformat_minor": 0,
  "metadata": {
    "colab": {
      "name": "three_label",
      "provenance": []
    },
    "kernelspec": {
      "name": "python3",
      "display_name": "Python 3"
    },
    "language_info": {
      "name": "python"
    }
  },
  "cells": [
    {
      "cell_type": "code",
      "metadata": {
        "colab": {
          "base_uri": "https://localhost:8080/"
        },
        "id": "PrP_LJFqym9k",
        "outputId": "baeb523a-2e66-4468-f586-9bd9082769bf"
      },
      "source": [
        "from google.colab import drive\n",
        "drive.mount('/content/drive')"
      ],
      "execution_count": 1,
      "outputs": [
        {
          "output_type": "stream",
          "text": [
            "Mounted at /content/drive\n"
          ],
          "name": "stdout"
        }
      ]
    },
    {
      "cell_type": "code",
      "metadata": {
        "id": "p0LHEGLpy51b"
      },
      "source": [
        "from keras.preprocessing.image import ImageDataGenerator\n",
        "from keras.applications import VGG16\n",
        "from keras import models, layers, optimizers\n",
        "from keras.models import load_model\n",
        "\n",
        "import cv2\n",
        "import pandas as pd\n",
        "import numpy as np\n",
        "import keras\n",
        "import tensorflow as tf\n",
        "import matplotlib.pyplot as plt\n",
        "import matplotlib\n",
        "import time\n",
        "import pathlib\n",
        "from glob import glob"
      ],
      "execution_count": 2,
      "outputs": []
    },
    {
      "cell_type": "code",
      "metadata": {
        "colab": {
          "base_uri": "https://localhost:8080/"
        },
        "id": "8P9Ajbwl0Qjx",
        "outputId": "f0aab932-486c-4757-a0b0-fe3b68c4273c"
      },
      "source": [
        "!pwd"
      ],
      "execution_count": 25,
      "outputs": [
        {
          "output_type": "stream",
          "text": [
            "/content\n"
          ],
          "name": "stdout"
        }
      ]
    },
    {
      "cell_type": "code",
      "metadata": {
        "id": "qsunyfUuzseK"
      },
      "source": [
        "img_dir = \"/content/drive/MyDrive/Colab Notebooks/datasets/three_label/\""
      ],
      "execution_count": 3,
      "outputs": []
    },
    {
      "cell_type": "code",
      "metadata": {
        "colab": {
          "base_uri": "https://localhost:8080/"
        },
        "id": "wA_6OoLY0jTC",
        "outputId": "6b5f13b6-e4a5-4ee4-cc68-2918125e3de7"
      },
      "source": [
        "random_seed =414\n",
        "\n",
        "datagen = ImageDataGenerator(rescale=1./255, validation_split=0.3,  vertical_flip=True, fill_mode='nearest')\n",
        "\n",
        "train = datagen.flow_from_directory(img_dir, target_size=(640, 640), seed=random_seed,\n",
        "                                              batch_size=10, class_mode='categorical', subset='training' )\n",
        "test= datagen.flow_from_directory(img_dir, target_size=(640, 640), seed=random_seed,\n",
        "                                              batch_size=10, class_mode='categorical', subset='validation')"
      ],
      "execution_count": 4,
      "outputs": [
        {
          "output_type": "stream",
          "text": [
            "Found 98 images belonging to 3 classes.\n",
            "Found 42 images belonging to 3 classes.\n"
          ],
          "name": "stdout"
        }
      ]
    },
    {
      "cell_type": "code",
      "metadata": {
        "colab": {
          "base_uri": "https://localhost:8080/"
        },
        "id": "pjknYaXy1sRh",
        "outputId": "d7203932-7500-4c2e-cd99-5b9f5c8bc4ab"
      },
      "source": [
        "conv_base = VGG16(weights = 'imagenet', include_top = False, input_shape = (640, 640, 3))\n",
        "\n",
        "set_trainable = False\n",
        "\n",
        "for layer in conv_base.layers:\n",
        "  if layer.name == 'block5_conv1':       \n",
        "    set_trainable = True\n",
        "\n",
        "  if set_trainable:\n",
        "    layer.trainable = True\n",
        "  else:\n",
        "    layer.trainable = False\n",
        "\n",
        "conv_base.summary()"
      ],
      "execution_count": 5,
      "outputs": [
        {
          "output_type": "stream",
          "text": [
            "Downloading data from https://storage.googleapis.com/tensorflow/keras-applications/vgg16/vgg16_weights_tf_dim_ordering_tf_kernels_notop.h5\n",
            "58892288/58889256 [==============================] - 1s 0us/step\n",
            "Model: \"vgg16\"\n",
            "_________________________________________________________________\n",
            "Layer (type)                 Output Shape              Param #   \n",
            "=================================================================\n",
            "input_1 (InputLayer)         [(None, 640, 640, 3)]     0         \n",
            "_________________________________________________________________\n",
            "block1_conv1 (Conv2D)        (None, 640, 640, 64)      1792      \n",
            "_________________________________________________________________\n",
            "block1_conv2 (Conv2D)        (None, 640, 640, 64)      36928     \n",
            "_________________________________________________________________\n",
            "block1_pool (MaxPooling2D)   (None, 320, 320, 64)      0         \n",
            "_________________________________________________________________\n",
            "block2_conv1 (Conv2D)        (None, 320, 320, 128)     73856     \n",
            "_________________________________________________________________\n",
            "block2_conv2 (Conv2D)        (None, 320, 320, 128)     147584    \n",
            "_________________________________________________________________\n",
            "block2_pool (MaxPooling2D)   (None, 160, 160, 128)     0         \n",
            "_________________________________________________________________\n",
            "block3_conv1 (Conv2D)        (None, 160, 160, 256)     295168    \n",
            "_________________________________________________________________\n",
            "block3_conv2 (Conv2D)        (None, 160, 160, 256)     590080    \n",
            "_________________________________________________________________\n",
            "block3_conv3 (Conv2D)        (None, 160, 160, 256)     590080    \n",
            "_________________________________________________________________\n",
            "block3_pool (MaxPooling2D)   (None, 80, 80, 256)       0         \n",
            "_________________________________________________________________\n",
            "block4_conv1 (Conv2D)        (None, 80, 80, 512)       1180160   \n",
            "_________________________________________________________________\n",
            "block4_conv2 (Conv2D)        (None, 80, 80, 512)       2359808   \n",
            "_________________________________________________________________\n",
            "block4_conv3 (Conv2D)        (None, 80, 80, 512)       2359808   \n",
            "_________________________________________________________________\n",
            "block4_pool (MaxPooling2D)   (None, 40, 40, 512)       0         \n",
            "_________________________________________________________________\n",
            "block5_conv1 (Conv2D)        (None, 40, 40, 512)       2359808   \n",
            "_________________________________________________________________\n",
            "block5_conv2 (Conv2D)        (None, 40, 40, 512)       2359808   \n",
            "_________________________________________________________________\n",
            "block5_conv3 (Conv2D)        (None, 40, 40, 512)       2359808   \n",
            "_________________________________________________________________\n",
            "block5_pool (MaxPooling2D)   (None, 20, 20, 512)       0         \n",
            "=================================================================\n",
            "Total params: 14,714,688\n",
            "Trainable params: 7,079,424\n",
            "Non-trainable params: 7,635,264\n",
            "_________________________________________________________________\n"
          ],
          "name": "stdout"
        }
      ]
    },
    {
      "cell_type": "code",
      "metadata": {
        "colab": {
          "base_uri": "https://localhost:8080/"
        },
        "id": "PoGniIyW86j5",
        "outputId": "c815a4be-cbf2-411c-d895-1961772cef26"
      },
      "source": [
        "tf.keras.initializers.HeNormal()  \n",
        "\n",
        "VGG16_model = models.Sequential()\n",
        "VGG16_model.add(conv_base)   \n",
        "\n",
        "VGG16_model.add(layers.Flatten())\n",
        "\n",
        "VGG16_model.add(layers.Dense(512, activation = 'relu'))\n",
        "VGG16_model.add(layers.Dropout(0.5))\n",
        "VGG16_model.add(layers.BatchNormalization())\n",
        "\n",
        "VGG16_model.add(layers.Dense(256))\n",
        "VGG16_model.add(layers.Dropout(0.2))\n",
        "VGG16_model.add(layers.BatchNormalization())\n",
        "VGG16_model.add(layers.Activation('relu'))\n",
        "\n",
        "VGG16_model.add(layers.Dense(3, activation = 'softmax'))   \n",
        "\n",
        "VGG16_model.summary()\n",
        "\n",
        "## Total Trainable params: 112,070,657"
      ],
      "execution_count": 6,
      "outputs": [
        {
          "output_type": "stream",
          "text": [
            "Model: \"sequential\"\n",
            "_________________________________________________________________\n",
            "Layer (type)                 Output Shape              Param #   \n",
            "=================================================================\n",
            "vgg16 (Functional)           (None, 20, 20, 512)       14714688  \n",
            "_________________________________________________________________\n",
            "flatten (Flatten)            (None, 204800)            0         \n",
            "_________________________________________________________________\n",
            "dense (Dense)                (None, 512)               104858112 \n",
            "_________________________________________________________________\n",
            "dropout (Dropout)            (None, 512)               0         \n",
            "_________________________________________________________________\n",
            "batch_normalization (BatchNo (None, 512)               2048      \n",
            "_________________________________________________________________\n",
            "dense_1 (Dense)              (None, 256)               131328    \n",
            "_________________________________________________________________\n",
            "dropout_1 (Dropout)          (None, 256)               0         \n",
            "_________________________________________________________________\n",
            "batch_normalization_1 (Batch (None, 256)               1024      \n",
            "_________________________________________________________________\n",
            "activation (Activation)      (None, 256)               0         \n",
            "_________________________________________________________________\n",
            "dense_2 (Dense)              (None, 3)                 771       \n",
            "=================================================================\n",
            "Total params: 119,707,971\n",
            "Trainable params: 112,071,171\n",
            "Non-trainable params: 7,636,800\n",
            "_________________________________________________________________\n"
          ],
          "name": "stdout"
        }
      ]
    },
    {
      "cell_type": "code",
      "metadata": {
        "id": "hGm0i2JL9MM-"
      },
      "source": [
        "VGG16_model.compile(loss = 'categorical_crossentropy', \n",
        "              optimizer = optimizers.Adam(lr = 0.000005),\n",
        "              metrics = ['accuracy'])"
      ],
      "execution_count": 7,
      "outputs": []
    },
    {
      "cell_type": "code",
      "metadata": {
        "colab": {
          "base_uri": "https://localhost:8080/"
        },
        "id": "-ciQlaza-BZx",
        "outputId": "6e2c8c1a-c044-49f4-830a-b4f57c0a5a44"
      },
      "source": [
        "Hist = VGG16_model.fit(train, steps_per_epoch = train.n// train.batch_size, epochs=100,\n",
        "                       validation_data = test, validation_steps=test.n/test.batch_size)"
      ],
      "execution_count": 9,
      "outputs": [
        {
          "output_type": "stream",
          "text": [
            "Epoch 1/100\n",
            "9/9 [==============================] - 124s 8s/step - loss: 1.3608 - accuracy: 0.3214 - val_loss: 1.3068 - val_accuracy: 0.5000\n",
            "Epoch 2/100\n",
            "9/9 [==============================] - 17s 2s/step - loss: 1.4037 - accuracy: 0.3515 - val_loss: 1.2697 - val_accuracy: 0.5000\n",
            "Epoch 3/100\n",
            "9/9 [==============================] - 17s 2s/step - loss: 1.3454 - accuracy: 0.3440 - val_loss: 1.2953 - val_accuracy: 0.1667\n",
            "Epoch 4/100\n",
            "9/9 [==============================] - 17s 2s/step - loss: 1.2233 - accuracy: 0.4883 - val_loss: 1.3649 - val_accuracy: 0.0000e+00\n",
            "Epoch 5/100\n",
            "9/9 [==============================] - 17s 2s/step - loss: 1.1928 - accuracy: 0.5165 - val_loss: 1.3914 - val_accuracy: 0.0000e+00\n",
            "Epoch 6/100\n",
            "9/9 [==============================] - 17s 2s/step - loss: 1.1614 - accuracy: 0.3897 - val_loss: 1.3611 - val_accuracy: 0.0238\n",
            "Epoch 7/100\n",
            "9/9 [==============================] - 17s 2s/step - loss: 1.2923 - accuracy: 0.3886 - val_loss: 1.3295 - val_accuracy: 0.0238\n",
            "Epoch 8/100\n",
            "9/9 [==============================] - 17s 2s/step - loss: 1.2686 - accuracy: 0.4219 - val_loss: 1.2898 - val_accuracy: 0.0476\n",
            "Epoch 9/100\n",
            "9/9 [==============================] - 17s 2s/step - loss: 1.1058 - accuracy: 0.4753 - val_loss: 1.2245 - val_accuracy: 0.0714\n",
            "Epoch 10/100\n",
            "9/9 [==============================] - 17s 2s/step - loss: 0.9414 - accuracy: 0.5685 - val_loss: 1.1671 - val_accuracy: 0.0952\n",
            "Epoch 11/100\n",
            "9/9 [==============================] - 17s 2s/step - loss: 1.1334 - accuracy: 0.5109 - val_loss: 1.0569 - val_accuracy: 0.2619\n",
            "Epoch 12/100\n",
            "9/9 [==============================] - 17s 2s/step - loss: 1.1815 - accuracy: 0.4027 - val_loss: 1.0130 - val_accuracy: 0.3810\n",
            "Epoch 13/100\n",
            "9/9 [==============================] - 17s 2s/step - loss: 0.9914 - accuracy: 0.5926 - val_loss: 0.9941 - val_accuracy: 0.4048\n",
            "Epoch 14/100\n",
            "9/9 [==============================] - 17s 2s/step - loss: 1.0858 - accuracy: 0.4992 - val_loss: 0.9848 - val_accuracy: 0.5714\n",
            "Epoch 15/100\n",
            "9/9 [==============================] - 17s 2s/step - loss: 1.0129 - accuracy: 0.5143 - val_loss: 0.9232 - val_accuracy: 0.7381\n",
            "Epoch 16/100\n",
            "9/9 [==============================] - 17s 2s/step - loss: 0.9508 - accuracy: 0.5449 - val_loss: 0.9311 - val_accuracy: 0.6905\n",
            "Epoch 17/100\n",
            "9/9 [==============================] - 17s 2s/step - loss: 0.9169 - accuracy: 0.5380 - val_loss: 0.9029 - val_accuracy: 0.6667\n",
            "Epoch 18/100\n",
            "9/9 [==============================] - 17s 2s/step - loss: 0.9409 - accuracy: 0.5419 - val_loss: 0.8967 - val_accuracy: 0.5238\n",
            "Epoch 19/100\n",
            "9/9 [==============================] - 17s 2s/step - loss: 0.9046 - accuracy: 0.6311 - val_loss: 0.9281 - val_accuracy: 0.5238\n",
            "Epoch 20/100\n",
            "9/9 [==============================] - 17s 2s/step - loss: 1.1546 - accuracy: 0.3853 - val_loss: 0.9250 - val_accuracy: 0.5952\n",
            "Epoch 21/100\n",
            "9/9 [==============================] - 17s 2s/step - loss: 1.1065 - accuracy: 0.4548 - val_loss: 0.8744 - val_accuracy: 0.6429\n",
            "Epoch 22/100\n",
            "9/9 [==============================] - 17s 2s/step - loss: 1.0649 - accuracy: 0.5371 - val_loss: 0.8206 - val_accuracy: 0.6905\n",
            "Epoch 23/100\n",
            "9/9 [==============================] - 17s 2s/step - loss: 1.0380 - accuracy: 0.4855 - val_loss: 0.7672 - val_accuracy: 0.8095\n",
            "Epoch 24/100\n",
            "9/9 [==============================] - 17s 2s/step - loss: 0.9530 - accuracy: 0.6178 - val_loss: 0.8343 - val_accuracy: 0.7857\n",
            "Epoch 25/100\n",
            "9/9 [==============================] - 17s 2s/step - loss: 0.9988 - accuracy: 0.5312 - val_loss: 0.9369 - val_accuracy: 0.5952\n",
            "Epoch 26/100\n",
            "9/9 [==============================] - 17s 2s/step - loss: 0.9188 - accuracy: 0.5786 - val_loss: 1.0179 - val_accuracy: 0.3810\n",
            "Epoch 27/100\n",
            "9/9 [==============================] - 17s 2s/step - loss: 0.9210 - accuracy: 0.5912 - val_loss: 1.0608 - val_accuracy: 0.2857\n",
            "Epoch 28/100\n",
            "9/9 [==============================] - 17s 2s/step - loss: 0.9415 - accuracy: 0.5944 - val_loss: 0.9863 - val_accuracy: 0.4286\n",
            "Epoch 29/100\n",
            "9/9 [==============================] - 17s 2s/step - loss: 1.1656 - accuracy: 0.4905 - val_loss: 0.9562 - val_accuracy: 0.5714\n",
            "Epoch 30/100\n",
            "9/9 [==============================] - 17s 2s/step - loss: 0.7917 - accuracy: 0.6154 - val_loss: 0.9241 - val_accuracy: 0.5952\n",
            "Epoch 31/100\n",
            "9/9 [==============================] - 17s 2s/step - loss: 0.9376 - accuracy: 0.5874 - val_loss: 0.8369 - val_accuracy: 0.6667\n",
            "Epoch 32/100\n",
            "9/9 [==============================] - 17s 2s/step - loss: 1.0388 - accuracy: 0.5364 - val_loss: 0.9221 - val_accuracy: 0.5476\n",
            "Epoch 33/100\n",
            "9/9 [==============================] - 17s 2s/step - loss: 0.9592 - accuracy: 0.5237 - val_loss: 0.9751 - val_accuracy: 0.3571\n",
            "Epoch 34/100\n",
            "9/9 [==============================] - 17s 2s/step - loss: 0.8342 - accuracy: 0.6227 - val_loss: 0.9250 - val_accuracy: 0.5952\n",
            "Epoch 35/100\n",
            "9/9 [==============================] - 17s 2s/step - loss: 0.8189 - accuracy: 0.6335 - val_loss: 0.8507 - val_accuracy: 0.6667\n",
            "Epoch 36/100\n",
            "9/9 [==============================] - 17s 2s/step - loss: 0.8801 - accuracy: 0.5820 - val_loss: 0.9150 - val_accuracy: 0.6429\n",
            "Epoch 37/100\n",
            "9/9 [==============================] - 17s 2s/step - loss: 0.8567 - accuracy: 0.5716 - val_loss: 1.0890 - val_accuracy: 0.3095\n",
            "Epoch 38/100\n",
            "9/9 [==============================] - 17s 2s/step - loss: 0.9657 - accuracy: 0.6279 - val_loss: 1.0761 - val_accuracy: 0.4048\n",
            "Epoch 39/100\n",
            "9/9 [==============================] - 17s 2s/step - loss: 0.8314 - accuracy: 0.6215 - val_loss: 0.9886 - val_accuracy: 0.5000\n",
            "Epoch 40/100\n",
            "9/9 [==============================] - 17s 2s/step - loss: 0.8539 - accuracy: 0.5024 - val_loss: 0.9025 - val_accuracy: 0.6667\n",
            "Epoch 41/100\n",
            "9/9 [==============================] - 17s 2s/step - loss: 0.9059 - accuracy: 0.6109 - val_loss: 0.9009 - val_accuracy: 0.6905\n",
            "Epoch 42/100\n",
            "9/9 [==============================] - 17s 2s/step - loss: 0.9634 - accuracy: 0.5362 - val_loss: 0.9439 - val_accuracy: 0.5476\n",
            "Epoch 43/100\n",
            "9/9 [==============================] - 17s 2s/step - loss: 0.8920 - accuracy: 0.6204 - val_loss: 1.0288 - val_accuracy: 0.4762\n",
            "Epoch 44/100\n",
            "9/9 [==============================] - 17s 2s/step - loss: 0.9172 - accuracy: 0.5976 - val_loss: 0.9926 - val_accuracy: 0.4762\n",
            "Epoch 45/100\n",
            "9/9 [==============================] - 17s 2s/step - loss: 0.8417 - accuracy: 0.6131 - val_loss: 1.0031 - val_accuracy: 0.5000\n",
            "Epoch 46/100\n",
            "9/9 [==============================] - 17s 2s/step - loss: 0.8544 - accuracy: 0.6053 - val_loss: 0.8804 - val_accuracy: 0.7143\n",
            "Epoch 47/100\n",
            "9/9 [==============================] - 17s 2s/step - loss: 0.8530 - accuracy: 0.6681 - val_loss: 0.8549 - val_accuracy: 0.6667\n",
            "Epoch 48/100\n",
            "9/9 [==============================] - 17s 2s/step - loss: 0.8146 - accuracy: 0.6130 - val_loss: 0.8735 - val_accuracy: 0.7143\n",
            "Epoch 49/100\n",
            "9/9 [==============================] - 17s 2s/step - loss: 0.8510 - accuracy: 0.6439 - val_loss: 0.8479 - val_accuracy: 0.6905\n",
            "Epoch 50/100\n",
            "9/9 [==============================] - 17s 2s/step - loss: 0.7939 - accuracy: 0.7259 - val_loss: 0.9909 - val_accuracy: 0.4286\n",
            "Epoch 51/100\n",
            "9/9 [==============================] - 17s 2s/step - loss: 0.8050 - accuracy: 0.6021 - val_loss: 1.0090 - val_accuracy: 0.4048\n",
            "Epoch 52/100\n",
            "9/9 [==============================] - 17s 2s/step - loss: 0.9093 - accuracy: 0.5589 - val_loss: 1.0177 - val_accuracy: 0.4286\n",
            "Epoch 53/100\n",
            "9/9 [==============================] - 17s 2s/step - loss: 0.7935 - accuracy: 0.7008 - val_loss: 0.9148 - val_accuracy: 0.5714\n",
            "Epoch 54/100\n",
            "9/9 [==============================] - 17s 2s/step - loss: 0.7237 - accuracy: 0.6648 - val_loss: 0.8170 - val_accuracy: 0.6905\n",
            "Epoch 55/100\n",
            "9/9 [==============================] - 17s 2s/step - loss: 0.8066 - accuracy: 0.6826 - val_loss: 0.7624 - val_accuracy: 0.7857\n",
            "Epoch 56/100\n",
            "9/9 [==============================] - 17s 2s/step - loss: 0.8148 - accuracy: 0.6297 - val_loss: 0.7652 - val_accuracy: 0.7381\n",
            "Epoch 57/100\n",
            "9/9 [==============================] - 17s 2s/step - loss: 0.7874 - accuracy: 0.7126 - val_loss: 0.8578 - val_accuracy: 0.6190\n",
            "Epoch 58/100\n",
            "9/9 [==============================] - 17s 2s/step - loss: 0.8307 - accuracy: 0.6149 - val_loss: 0.8107 - val_accuracy: 0.6905\n",
            "Epoch 59/100\n",
            "9/9 [==============================] - 17s 2s/step - loss: 0.7113 - accuracy: 0.7170 - val_loss: 0.7016 - val_accuracy: 0.8095\n",
            "Epoch 60/100\n",
            "9/9 [==============================] - 17s 2s/step - loss: 0.6563 - accuracy: 0.6815 - val_loss: 0.7805 - val_accuracy: 0.7381\n",
            "Epoch 61/100\n",
            "9/9 [==============================] - 17s 2s/step - loss: 0.7387 - accuracy: 0.6431 - val_loss: 0.7557 - val_accuracy: 0.7619\n",
            "Epoch 62/100\n",
            "9/9 [==============================] - 17s 2s/step - loss: 0.6105 - accuracy: 0.7552 - val_loss: 0.6044 - val_accuracy: 0.8095\n",
            "Epoch 63/100\n",
            "9/9 [==============================] - 17s 2s/step - loss: 0.7350 - accuracy: 0.7014 - val_loss: 0.5886 - val_accuracy: 0.7857\n",
            "Epoch 64/100\n",
            "9/9 [==============================] - 17s 2s/step - loss: 0.6294 - accuracy: 0.7602 - val_loss: 0.6339 - val_accuracy: 0.7619\n",
            "Epoch 65/100\n",
            "9/9 [==============================] - 17s 2s/step - loss: 0.6224 - accuracy: 0.7484 - val_loss: 0.6565 - val_accuracy: 0.7857\n",
            "Epoch 66/100\n",
            "9/9 [==============================] - 17s 2s/step - loss: 0.7537 - accuracy: 0.6147 - val_loss: 0.7555 - val_accuracy: 0.6667\n",
            "Epoch 67/100\n",
            "9/9 [==============================] - 17s 2s/step - loss: 0.7236 - accuracy: 0.7147 - val_loss: 0.7796 - val_accuracy: 0.7381\n",
            "Epoch 68/100\n",
            "9/9 [==============================] - 17s 2s/step - loss: 0.7307 - accuracy: 0.6794 - val_loss: 0.7047 - val_accuracy: 0.8095\n",
            "Epoch 69/100\n",
            "9/9 [==============================] - 17s 2s/step - loss: 0.6135 - accuracy: 0.7595 - val_loss: 1.5472 - val_accuracy: 0.3095\n",
            "Epoch 70/100\n",
            "9/9 [==============================] - 17s 2s/step - loss: 0.7195 - accuracy: 0.7361 - val_loss: 0.8244 - val_accuracy: 0.7143\n",
            "Epoch 71/100\n",
            "9/9 [==============================] - 17s 2s/step - loss: 0.6631 - accuracy: 0.6851 - val_loss: 1.0016 - val_accuracy: 0.4762\n",
            "Epoch 72/100\n",
            "9/9 [==============================] - 17s 2s/step - loss: 0.6921 - accuracy: 0.7264 - val_loss: 0.8540 - val_accuracy: 0.5952\n",
            "Epoch 73/100\n",
            "9/9 [==============================] - 17s 2s/step - loss: 0.6822 - accuracy: 0.6946 - val_loss: 0.6271 - val_accuracy: 0.8095\n",
            "Epoch 74/100\n",
            "9/9 [==============================] - 17s 2s/step - loss: 0.6570 - accuracy: 0.7114 - val_loss: 0.6865 - val_accuracy: 0.8333\n",
            "Epoch 75/100\n",
            "9/9 [==============================] - 17s 2s/step - loss: 0.5986 - accuracy: 0.7228 - val_loss: 0.6769 - val_accuracy: 0.8095\n",
            "Epoch 76/100\n",
            "9/9 [==============================] - 17s 2s/step - loss: 0.7061 - accuracy: 0.6960 - val_loss: 0.6616 - val_accuracy: 0.8333\n",
            "Epoch 77/100\n",
            "9/9 [==============================] - 17s 2s/step - loss: 0.6604 - accuracy: 0.7384 - val_loss: 0.6275 - val_accuracy: 0.7619\n",
            "Epoch 78/100\n",
            "9/9 [==============================] - 17s 2s/step - loss: 0.6014 - accuracy: 0.7806 - val_loss: 0.6256 - val_accuracy: 0.7857\n",
            "Epoch 79/100\n",
            "9/9 [==============================] - 17s 2s/step - loss: 0.5385 - accuracy: 0.8395 - val_loss: 0.6066 - val_accuracy: 0.7857\n",
            "Epoch 80/100\n",
            "9/9 [==============================] - 17s 2s/step - loss: 0.5214 - accuracy: 0.8373 - val_loss: 0.5805 - val_accuracy: 0.8095\n",
            "Epoch 81/100\n",
            "9/9 [==============================] - 17s 2s/step - loss: 0.4970 - accuracy: 0.8596 - val_loss: 0.6333 - val_accuracy: 0.7857\n",
            "Epoch 82/100\n",
            "9/9 [==============================] - 17s 2s/step - loss: 0.5086 - accuracy: 0.8078 - val_loss: 0.6334 - val_accuracy: 0.7619\n",
            "Epoch 83/100\n",
            "9/9 [==============================] - 17s 2s/step - loss: 0.6162 - accuracy: 0.7492 - val_loss: 0.5723 - val_accuracy: 0.7381\n",
            "Epoch 84/100\n",
            "9/9 [==============================] - 17s 2s/step - loss: 0.5670 - accuracy: 0.7443 - val_loss: 0.5940 - val_accuracy: 0.7619\n",
            "Epoch 85/100\n",
            "9/9 [==============================] - 17s 2s/step - loss: 0.5712 - accuracy: 0.7852 - val_loss: 0.5552 - val_accuracy: 0.7857\n",
            "Epoch 86/100\n",
            "9/9 [==============================] - 17s 2s/step - loss: 0.6302 - accuracy: 0.7775 - val_loss: 0.6904 - val_accuracy: 0.6667\n",
            "Epoch 87/100\n",
            "9/9 [==============================] - 17s 2s/step - loss: 0.5010 - accuracy: 0.8693 - val_loss: 0.7267 - val_accuracy: 0.7619\n",
            "Epoch 88/100\n",
            "9/9 [==============================] - 17s 2s/step - loss: 0.4583 - accuracy: 0.8487 - val_loss: 0.8902 - val_accuracy: 0.5952\n",
            "Epoch 89/100\n",
            "9/9 [==============================] - 17s 2s/step - loss: 0.4988 - accuracy: 0.8415 - val_loss: 0.7774 - val_accuracy: 0.6667\n",
            "Epoch 90/100\n",
            "9/9 [==============================] - 17s 2s/step - loss: 0.6831 - accuracy: 0.7183 - val_loss: 0.7691 - val_accuracy: 0.7857\n",
            "Epoch 91/100\n",
            "9/9 [==============================] - 17s 2s/step - loss: 0.4909 - accuracy: 0.8190 - val_loss: 0.7158 - val_accuracy: 0.7381\n",
            "Epoch 92/100\n",
            "9/9 [==============================] - 17s 2s/step - loss: 0.5613 - accuracy: 0.7798 - val_loss: 0.7166 - val_accuracy: 0.7143\n",
            "Epoch 93/100\n",
            "9/9 [==============================] - 17s 2s/step - loss: 0.5973 - accuracy: 0.7843 - val_loss: 0.7392 - val_accuracy: 0.7381\n",
            "Epoch 94/100\n",
            "9/9 [==============================] - 17s 2s/step - loss: 0.5827 - accuracy: 0.7659 - val_loss: 0.6926 - val_accuracy: 0.7619\n",
            "Epoch 95/100\n",
            "9/9 [==============================] - 17s 2s/step - loss: 0.4773 - accuracy: 0.8561 - val_loss: 0.6146 - val_accuracy: 0.7381\n",
            "Epoch 96/100\n",
            "9/9 [==============================] - 17s 2s/step - loss: 0.4336 - accuracy: 0.8666 - val_loss: 0.5835 - val_accuracy: 0.7857\n",
            "Epoch 97/100\n",
            "9/9 [==============================] - 17s 2s/step - loss: 0.5483 - accuracy: 0.7822 - val_loss: 0.6727 - val_accuracy: 0.7857\n",
            "Epoch 98/100\n",
            "9/9 [==============================] - 17s 2s/step - loss: 0.5035 - accuracy: 0.8597 - val_loss: 0.6966 - val_accuracy: 0.7619\n",
            "Epoch 99/100\n",
            "9/9 [==============================] - 17s 2s/step - loss: 0.4471 - accuracy: 0.8550 - val_loss: 0.6827 - val_accuracy: 0.7857\n",
            "Epoch 100/100\n",
            "9/9 [==============================] - 17s 2s/step - loss: 0.3918 - accuracy: 0.8901 - val_loss: 0.8212 - val_accuracy: 0.6667\n"
          ],
          "name": "stdout"
        }
      ]
    },
    {
      "cell_type": "code",
      "metadata": {
        "colab": {
          "base_uri": "https://localhost:8080/",
          "height": 552
        },
        "id": "Os5Yvf1_-aBa",
        "outputId": "a1ee8b0e-5c47-4f66-d913-f7c61833c034"
      },
      "source": [
        "loss, accuracy = VGG16_model.evaluate(test)\n",
        "print(loss, accuracy)\n",
        "\n",
        "import matplotlib.pyplot as plt\n",
        "\n",
        "epochs = range(1, len(Hist.history['loss'])+1)\n",
        "\n",
        "\n",
        "plt.plot(epochs, Hist.history['loss'])\n",
        "plt.plot(epochs, Hist.history['val_loss'])\n",
        "plt.legend(['Training Loss','Test Loss'])\n",
        "plt.grid()\n",
        "plt.show()\n",
        "\n",
        "\n",
        "\n",
        "plt.plot(epochs, Hist.history['accuracy'])\n",
        "plt.plot(epochs, Hist.history['val_accuracy'])\n",
        "plt.legend(['Training accuracy','Test accuracy'])\n",
        "plt.grid()\n",
        "plt.show()"
      ],
      "execution_count": 13,
      "outputs": [
        {
          "output_type": "stream",
          "text": [
            "5/5 [==============================] - 5s 1s/step - loss: 0.8209 - accuracy: 0.6667\n",
            "0.8208956122398376 0.6666666865348816\n"
          ],
          "name": "stdout"
        },
        {
          "output_type": "display_data",
          "data": {
            "image/png": "[encoded data removed]",
            "text/plain": [
              "<Figure size 432x288 with 1 Axes>"
            ]
          },
          "metadata": {
            "tags": [],
            "needs_background": "light"
          }
        },
        {
          "output_type": "display_data",
          "data": {
            "image/png": "[encoded data removed]",
            "text/plain": [
              "<Figure size 432x288 with 1 Axes>"
            ]
          },
          "metadata": {
            "tags": [],
            "needs_background": "light"
          }
        }
      ]
    },
    {
      "cell_type": "code",
      "metadata": {
        "id": "41N7xXLCFzRI"
      },
      "source": [
        "VGG16_model.save('/content/drive/My Drive/Colab Notebooks/models/three_labels.h5')"
      ],
      "execution_count": 14,
      "outputs": []
    },
    {
      "cell_type": "code",
      "metadata": {
        "id": "2_ADfGPRiWac"
      },
      "source": [
        "from keras.models import load_model\n",
        "VGG16_model = load_model('/content/drive/My Drive/Colab Notebooks/models/three_labels.h5')"
      ],
      "execution_count": 29,
      "outputs": []
    },
    {
      "cell_type": "code",
      "metadata": {
        "colab": {
          "base_uri": "https://localhost:8080/"
        },
        "id": "7_QH0p-VF69x",
        "outputId": "7ebfa4d6-f8b5-43d1-a530-ce22d0b2b12c"
      },
      "source": [
        "!ls -l /content/drive/My\\ Drive/Colab\\ Notebooks/models"
      ],
      "execution_count": 15,
      "outputs": [
        {
          "output_type": "stream",
          "text": [
            "total 3708035\n",
            "-rw------- 1 root root   21346912 Mar 24 04:32 003_dogs_cats_augmentation.h5\n",
            "-rw------- 1 root root   25199032 Mar 24 05:20 004_dogs_and_cats_features_extraction.h5\n",
            "-rw------- 1 root root  140748416 Mar 24 07:32 005_dogs_and_cats_fine_tuning.h5\n",
            "-rw------- 1 root root  744728176 Apr  9 07:42 pre_check_model.h5\n",
            "-rw------- 1 root root 1375511656 May 14 08:56 three_labels.h5\n",
            "-rw------- 1 root root  744745688 Apr 21 02:20 VGG16_5-1_batch_size_40.h5\n",
            "-rw------- 1 root root  744745576 Apr 21 05:19 VGG16_5-1_batch_size_40_split.h5\n"
          ],
          "name": "stdout"
        }
      ]
    },
    {
      "cell_type": "code",
      "metadata": {
        "colab": {
          "resources": {
            "http://localhost:8080/nbextensions/google.colab/files.js": {
              "data": "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",
              "ok": true,
              "headers": [
                [
                  "content-type",
                  "application/javascript"
                ]
              ],
              "status": 200,
              "status_text": ""
            }
          },
          "base_uri": "https://localhost:8080/",
          "height": 58
        },
        "id": "Xelx6NVTlgTk",
        "outputId": "cd3c90f6-648c-4158-9d4d-80e62cda3280"
      },
      "source": [
        "#%cd /img\n",
        "from google.colab import files\n",
        "loaded = files.upload()"
      ],
      "execution_count": 10,
      "outputs": [
        {
          "output_type": "display_data",
          "data": {
            "text/html": [
              "\n",
              "     <input type=\"file\" id=\"files-a969973d-551e-4bc5-b333-32f818210693\" name=\"files[]\" multiple disabled\n",
              "        style=\"border:none\" />\n",
              "     <output id=\"result-a969973d-551e-4bc5-b333-32f818210693\">\n",
              "      Upload widget is only available when the cell has been executed in the\n",
              "      current browser session. Please rerun this cell to enable.\n",
              "      </output>\n",
              "      <script src=\"/nbextensions/google.colab/files.js\"></script> "
            ],
            "text/plain": [
              "<IPython.core.display.HTML object>"
            ]
          },
          "metadata": {
            "tags": []
          }
        },
        {
          "output_type": "stream",
          "text": [
            "Saving unnamed.jpg to unnamed.jpg\n"
          ],
          "name": "stdout"
        }
      ]
    },
    {
      "cell_type": "code",
      "metadata": {
        "colab": {
          "base_uri": "https://localhost:8080/"
        },
        "id": "KrnzRSUSCGNY",
        "outputId": "27fa6eae-dc96-4fd7-e5c6-a62ee482d428"
      },
      "source": [
        "data_root = pathlib.Path(glob('/content/drive/MyDrive/Colab Notebooks/datasets/*')[0])\n",
        "print(data_root)"
      ],
      "execution_count": 24,
      "outputs": [
        {
          "output_type": "stream",
          "text": [
            "/content/drive/MyDrive/Colab Notebooks/datasets/three_label\n"
          ],
          "name": "stdout"
        }
      ]
    },
    {
      "cell_type": "code",
      "metadata": {
        "id": "GyjU6KISClho"
      },
      "source": [
        "all_image_paths = list(data_root.glob('*/*'))\n",
        "all_image_paths = [str(path) for path in all_image_paths]"
      ],
      "execution_count": 25,
      "outputs": []
    },
    {
      "cell_type": "code",
      "metadata": {
        "colab": {
          "base_uri": "https://localhost:8080/",
          "height": 770
        },
        "id": "ZIwMV0d7ByWg",
        "outputId": "a7103ffa-ad1a-440c-df54-271f58b87267"
      },
      "source": [
        "import cv2\n",
        "import random\n",
        "\n",
        "plt.figure(figsize=((16, 25)))\n",
        "\n",
        "for n in range(15):\n",
        "    image_path = random.choice(all_image_paths)\n",
        "\n",
        "    img = cv2.imread(image_path)\n",
        "    img=cv2.resize(img, dsize=(224,224))\n",
        "    img = img / 255.0 \n",
        "    img = np.expand_dims(img, axis=0)  \n",
        "\n",
        "    logits = VGG16_model.predict(img)[0]\n",
        "\n",
        "    plt.subplot(5,3, n+1)\n",
        "    plt.imshow(plt.imread(image_path))\n",
        "    idx = image_path.split('/')[-2]\n",
        "    plt.title('label: ' + str(idx))\n",
        "    plt.xlabel(str(logits))"
      ],
      "execution_count": 36,
      "outputs": [
        {
          "output_type": "error",
          "ename": "ValueError",
          "evalue": "ignored",
          "traceback": [
            "\u001b[0;31m---------------------------------------------------------------------------\u001b[0m",
            "\u001b[0;31mValueError\u001b[0m                                Traceback (most recent call last)",
            "\u001b[0;32m<ipython-input-36-efbfdbe47da5>\u001b[0m in \u001b[0;36m<module>\u001b[0;34m()\u001b[0m\n\u001b[1;32m     12\u001b[0m     \u001b[0mimg\u001b[0m \u001b[0;34m=\u001b[0m \u001b[0mnp\u001b[0m\u001b[0;34m.\u001b[0m\u001b[0mexpand_dims\u001b[0m\u001b[0;34m(\u001b[0m\u001b[0mimg\u001b[0m\u001b[0;34m,\u001b[0m \u001b[0maxis\u001b[0m\u001b[0;34m=\u001b[0m\u001b[0;36m0\u001b[0m\u001b[0;34m)\u001b[0m\u001b[0;34m\u001b[0m\u001b[0;34m\u001b[0m\u001b[0m\n\u001b[1;32m     13\u001b[0m \u001b[0;34m\u001b[0m\u001b[0m\n\u001b[0;32m---> 14\u001b[0;31m     \u001b[0mlogits\u001b[0m \u001b[0;34m=\u001b[0m \u001b[0mVGG16_model\u001b[0m\u001b[0;34m.\u001b[0m\u001b[0mpredict\u001b[0m\u001b[0;34m(\u001b[0m\u001b[0mimg\u001b[0m\u001b[0;34m)\u001b[0m\u001b[0;34m[\u001b[0m\u001b[0;36m0\u001b[0m\u001b[0;34m]\u001b[0m\u001b[0;34m\u001b[0m\u001b[0;34m\u001b[0m\u001b[0m\n\u001b[0m\u001b[1;32m     15\u001b[0m \u001b[0;34m\u001b[0m\u001b[0m\n\u001b[1;32m     16\u001b[0m     \u001b[0mplt\u001b[0m\u001b[0;34m.\u001b[0m\u001b[0msubplot\u001b[0m\u001b[0;34m(\u001b[0m\u001b[0;36m5\u001b[0m\u001b[0;34m,\u001b[0m\u001b[0;36m3\u001b[0m\u001b[0;34m,\u001b[0m \u001b[0mn\u001b[0m\u001b[0;34m+\u001b[0m\u001b[0;36m1\u001b[0m\u001b[0;34m)\u001b[0m\u001b[0;34m\u001b[0m\u001b[0;34m\u001b[0m\u001b[0m\n",
            "\u001b[0;32m/usr/local/lib/python3.7/dist-packages/tensorflow/python/keras/engine/training.py\u001b[0m in \u001b[0;36mpredict\u001b[0;34m(self, x, batch_size, verbose, steps, callbacks, max_queue_size, workers, use_multiprocessing)\u001b[0m\n\u001b[1;32m   1627\u001b[0m           \u001b[0;32mfor\u001b[0m \u001b[0mstep\u001b[0m \u001b[0;32min\u001b[0m \u001b[0mdata_handler\u001b[0m\u001b[0;34m.\u001b[0m\u001b[0msteps\u001b[0m\u001b[0;34m(\u001b[0m\u001b[0;34m)\u001b[0m\u001b[0;34m:\u001b[0m\u001b[0;34m\u001b[0m\u001b[0;34m\u001b[0m\u001b[0m\n\u001b[1;32m   1628\u001b[0m             \u001b[0mcallbacks\u001b[0m\u001b[0;34m.\u001b[0m\u001b[0mon_predict_batch_begin\u001b[0m\u001b[0;34m(\u001b[0m\u001b[0mstep\u001b[0m\u001b[0;34m)\u001b[0m\u001b[0;34m\u001b[0m\u001b[0;34m\u001b[0m\u001b[0m\n\u001b[0;32m-> 1629\u001b[0;31m             \u001b[0mtmp_batch_outputs\u001b[0m \u001b[0;34m=\u001b[0m \u001b[0mself\u001b[0m\u001b[0;34m.\u001b[0m\u001b[0mpredict_function\u001b[0m\u001b[0;34m(\u001b[0m\u001b[0miterator\u001b[0m\u001b[0;34m)\u001b[0m\u001b[0;34m\u001b[0m\u001b[0;34m\u001b[0m\u001b[0m\n\u001b[0m\u001b[1;32m   1630\u001b[0m             \u001b[0;32mif\u001b[0m \u001b[0mdata_handler\u001b[0m\u001b[0;34m.\u001b[0m\u001b[0mshould_sync\u001b[0m\u001b[0;34m:\u001b[0m\u001b[0;34m\u001b[0m\u001b[0;34m\u001b[0m\u001b[0m\n\u001b[1;32m   1631\u001b[0m               \u001b[0mcontext\u001b[0m\u001b[0;34m.\u001b[0m\u001b[0masync_wait\u001b[0m\u001b[0;34m(\u001b[0m\u001b[0;34m)\u001b[0m\u001b[0;34m\u001b[0m\u001b[0;34m\u001b[0m\u001b[0m\n",
            "\u001b[0;32m/usr/local/lib/python3.7/dist-packages/tensorflow/python/eager/def_function.py\u001b[0m in \u001b[0;36m__call__\u001b[0;34m(self, *args, **kwds)\u001b[0m\n\u001b[1;32m    826\u001b[0m     \u001b[0mtracing_count\u001b[0m \u001b[0;34m=\u001b[0m \u001b[0mself\u001b[0m\u001b[0;34m.\u001b[0m\u001b[0mexperimental_get_tracing_count\u001b[0m\u001b[0;34m(\u001b[0m\u001b[0;34m)\u001b[0m\u001b[0;34m\u001b[0m\u001b[0;34m\u001b[0m\u001b[0m\n\u001b[1;32m    827\u001b[0m     \u001b[0;32mwith\u001b[0m \u001b[0mtrace\u001b[0m\u001b[0;34m.\u001b[0m\u001b[0mTrace\u001b[0m\u001b[0;34m(\u001b[0m\u001b[0mself\u001b[0m\u001b[0;34m.\u001b[0m\u001b[0m_name\u001b[0m\u001b[0;34m)\u001b[0m \u001b[0;32mas\u001b[0m \u001b[0mtm\u001b[0m\u001b[0;34m:\u001b[0m\u001b[0;34m\u001b[0m\u001b[0;34m\u001b[0m\u001b[0m\n\u001b[0;32m--> 828\u001b[0;31m       \u001b[0mresult\u001b[0m \u001b[0;34m=\u001b[0m \u001b[0mself\u001b[0m\u001b[0;34m.\u001b[0m\u001b[0m_call\u001b[0m\u001b[0;34m(\u001b[0m\u001b[0;34m*\u001b[0m\u001b[0margs\u001b[0m\u001b[0;34m,\u001b[0m \u001b[0;34m**\u001b[0m\u001b[0mkwds\u001b[0m\u001b[0;34m)\u001b[0m\u001b[0;34m\u001b[0m\u001b[0;34m\u001b[0m\u001b[0m\n\u001b[0m\u001b[1;32m    829\u001b[0m       \u001b[0mcompiler\u001b[0m \u001b[0;34m=\u001b[0m \u001b[0;34m\"xla\"\u001b[0m \u001b[0;32mif\u001b[0m \u001b[0mself\u001b[0m\u001b[0;34m.\u001b[0m\u001b[0m_experimental_compile\u001b[0m \u001b[0;32melse\u001b[0m \u001b[0;34m\"nonXla\"\u001b[0m\u001b[0;34m\u001b[0m\u001b[0;34m\u001b[0m\u001b[0m\n\u001b[1;32m    830\u001b[0m       \u001b[0mnew_tracing_count\u001b[0m \u001b[0;34m=\u001b[0m \u001b[0mself\u001b[0m\u001b[0;34m.\u001b[0m\u001b[0mexperimental_get_tracing_count\u001b[0m\u001b[0;34m(\u001b[0m\u001b[0;34m)\u001b[0m\u001b[0;34m\u001b[0m\u001b[0;34m\u001b[0m\u001b[0m\n",
            "\u001b[0;32m/usr/local/lib/python3.7/dist-packages/tensorflow/python/eager/def_function.py\u001b[0m in \u001b[0;36m_call\u001b[0;34m(self, *args, **kwds)\u001b[0m\n\u001b[1;32m    860\u001b[0m       \u001b[0;31m# In this case we have not created variables on the first call. So we can\u001b[0m\u001b[0;34m\u001b[0m\u001b[0;34m\u001b[0m\u001b[0;34m\u001b[0m\u001b[0m\n\u001b[1;32m    861\u001b[0m       \u001b[0;31m# run the first trace but we should fail if variables are created.\u001b[0m\u001b[0;34m\u001b[0m\u001b[0;34m\u001b[0m\u001b[0;34m\u001b[0m\u001b[0m\n\u001b[0;32m--> 862\u001b[0;31m       \u001b[0mresults\u001b[0m \u001b[0;34m=\u001b[0m \u001b[0mself\u001b[0m\u001b[0;34m.\u001b[0m\u001b[0m_stateful_fn\u001b[0m\u001b[0;34m(\u001b[0m\u001b[0;34m*\u001b[0m\u001b[0margs\u001b[0m\u001b[0;34m,\u001b[0m \u001b[0;34m**\u001b[0m\u001b[0mkwds\u001b[0m\u001b[0;34m)\u001b[0m\u001b[0;34m\u001b[0m\u001b[0;34m\u001b[0m\u001b[0m\n\u001b[0m\u001b[1;32m    863\u001b[0m       \u001b[0;32mif\u001b[0m \u001b[0mself\u001b[0m\u001b[0;34m.\u001b[0m\u001b[0m_created_variables\u001b[0m\u001b[0;34m:\u001b[0m\u001b[0;34m\u001b[0m\u001b[0;34m\u001b[0m\u001b[0m\n\u001b[1;32m    864\u001b[0m         raise ValueError(\"Creating variables on a non-first call to a function\"\n",
            "\u001b[0;32m/usr/local/lib/python3.7/dist-packages/tensorflow/python/eager/function.py\u001b[0m in \u001b[0;36m__call__\u001b[0;34m(self, *args, **kwargs)\u001b[0m\n\u001b[1;32m   2939\u001b[0m     \u001b[0;32mwith\u001b[0m \u001b[0mself\u001b[0m\u001b[0;34m.\u001b[0m\u001b[0m_lock\u001b[0m\u001b[0;34m:\u001b[0m\u001b[0;34m\u001b[0m\u001b[0;34m\u001b[0m\u001b[0m\n\u001b[1;32m   2940\u001b[0m       (graph_function,\n\u001b[0;32m-> 2941\u001b[0;31m        filtered_flat_args) = self._maybe_define_function(args, kwargs)\n\u001b[0m\u001b[1;32m   2942\u001b[0m     return graph_function._call_flat(\n\u001b[1;32m   2943\u001b[0m         filtered_flat_args, captured_inputs=graph_function.captured_inputs)  # pylint: disable=protected-access\n",
            "\u001b[0;32m/usr/local/lib/python3.7/dist-packages/tensorflow/python/eager/function.py\u001b[0m in \u001b[0;36m_maybe_define_function\u001b[0;34m(self, args, kwargs)\u001b[0m\n\u001b[1;32m   3356\u001b[0m               call_context_key in self._function_cache.missed):\n\u001b[1;32m   3357\u001b[0m             return self._define_function_with_shape_relaxation(\n\u001b[0;32m-> 3358\u001b[0;31m                 args, kwargs, flat_args, filtered_flat_args, cache_key_context)\n\u001b[0m\u001b[1;32m   3359\u001b[0m \u001b[0;34m\u001b[0m\u001b[0m\n\u001b[1;32m   3360\u001b[0m           \u001b[0mself\u001b[0m\u001b[0;34m.\u001b[0m\u001b[0m_function_cache\u001b[0m\u001b[0;34m.\u001b[0m\u001b[0mmissed\u001b[0m\u001b[0;34m.\u001b[0m\u001b[0madd\u001b[0m\u001b[0;34m(\u001b[0m\u001b[0mcall_context_key\u001b[0m\u001b[0;34m)\u001b[0m\u001b[0;34m\u001b[0m\u001b[0;34m\u001b[0m\u001b[0m\n",
            "\u001b[0;32m/usr/local/lib/python3.7/dist-packages/tensorflow/python/eager/function.py\u001b[0m in \u001b[0;36m_define_function_with_shape_relaxation\u001b[0;34m(self, args, kwargs, flat_args, filtered_flat_args, cache_key_context)\u001b[0m\n\u001b[1;32m   3278\u001b[0m \u001b[0;34m\u001b[0m\u001b[0m\n\u001b[1;32m   3279\u001b[0m     graph_function = self._create_graph_function(\n\u001b[0;32m-> 3280\u001b[0;31m         args, kwargs, override_flat_arg_shapes=relaxed_arg_shapes)\n\u001b[0m\u001b[1;32m   3281\u001b[0m     \u001b[0mself\u001b[0m\u001b[0;34m.\u001b[0m\u001b[0m_function_cache\u001b[0m\u001b[0;34m.\u001b[0m\u001b[0marg_relaxed\u001b[0m\u001b[0;34m[\u001b[0m\u001b[0mrank_only_cache_key\u001b[0m\u001b[0;34m]\u001b[0m \u001b[0;34m=\u001b[0m \u001b[0mgraph_function\u001b[0m\u001b[0;34m\u001b[0m\u001b[0;34m\u001b[0m\u001b[0m\n\u001b[1;32m   3282\u001b[0m \u001b[0;34m\u001b[0m\u001b[0m\n",
            "\u001b[0;32m/usr/local/lib/python3.7/dist-packages/tensorflow/python/eager/function.py\u001b[0m in \u001b[0;36m_create_graph_function\u001b[0;34m(self, args, kwargs, override_flat_arg_shapes)\u001b[0m\n\u001b[1;32m   3204\u001b[0m             \u001b[0marg_names\u001b[0m\u001b[0;34m=\u001b[0m\u001b[0marg_names\u001b[0m\u001b[0;34m,\u001b[0m\u001b[0;34m\u001b[0m\u001b[0;34m\u001b[0m\u001b[0m\n\u001b[1;32m   3205\u001b[0m             \u001b[0moverride_flat_arg_shapes\u001b[0m\u001b[0;34m=\u001b[0m\u001b[0moverride_flat_arg_shapes\u001b[0m\u001b[0;34m,\u001b[0m\u001b[0;34m\u001b[0m\u001b[0;34m\u001b[0m\u001b[0m\n\u001b[0;32m-> 3206\u001b[0;31m             capture_by_value=self._capture_by_value),\n\u001b[0m\u001b[1;32m   3207\u001b[0m         \u001b[0mself\u001b[0m\u001b[0;34m.\u001b[0m\u001b[0m_function_attributes\u001b[0m\u001b[0;34m,\u001b[0m\u001b[0;34m\u001b[0m\u001b[0;34m\u001b[0m\u001b[0m\n\u001b[1;32m   3208\u001b[0m         \u001b[0mfunction_spec\u001b[0m\u001b[0;34m=\u001b[0m\u001b[0mself\u001b[0m\u001b[0;34m.\u001b[0m\u001b[0mfunction_spec\u001b[0m\u001b[0;34m,\u001b[0m\u001b[0;34m\u001b[0m\u001b[0;34m\u001b[0m\u001b[0m\n",
            "\u001b[0;32m/usr/local/lib/python3.7/dist-packages/tensorflow/python/framework/func_graph.py\u001b[0m in \u001b[0;36mfunc_graph_from_py_func\u001b[0;34m(name, python_func, args, kwargs, signature, func_graph, autograph, autograph_options, add_control_dependencies, arg_names, op_return_value, collections, capture_by_value, override_flat_arg_shapes)\u001b[0m\n\u001b[1;32m    988\u001b[0m         \u001b[0m_\u001b[0m\u001b[0;34m,\u001b[0m \u001b[0moriginal_func\u001b[0m \u001b[0;34m=\u001b[0m \u001b[0mtf_decorator\u001b[0m\u001b[0;34m.\u001b[0m\u001b[0munwrap\u001b[0m\u001b[0;34m(\u001b[0m\u001b[0mpython_func\u001b[0m\u001b[0;34m)\u001b[0m\u001b[0;34m\u001b[0m\u001b[0;34m\u001b[0m\u001b[0m\n\u001b[1;32m    989\u001b[0m \u001b[0;34m\u001b[0m\u001b[0m\n\u001b[0;32m--> 990\u001b[0;31m       \u001b[0mfunc_outputs\u001b[0m \u001b[0;34m=\u001b[0m \u001b[0mpython_func\u001b[0m\u001b[0;34m(\u001b[0m\u001b[0;34m*\u001b[0m\u001b[0mfunc_args\u001b[0m\u001b[0;34m,\u001b[0m \u001b[0;34m**\u001b[0m\u001b[0mfunc_kwargs\u001b[0m\u001b[0;34m)\u001b[0m\u001b[0;34m\u001b[0m\u001b[0;34m\u001b[0m\u001b[0m\n\u001b[0m\u001b[1;32m    991\u001b[0m \u001b[0;34m\u001b[0m\u001b[0m\n\u001b[1;32m    992\u001b[0m       \u001b[0;31m# invariant: `func_outputs` contains only Tensors, CompositeTensors,\u001b[0m\u001b[0;34m\u001b[0m\u001b[0;34m\u001b[0m\u001b[0;34m\u001b[0m\u001b[0m\n",
            "\u001b[0;32m/usr/local/lib/python3.7/dist-packages/tensorflow/python/eager/def_function.py\u001b[0m in \u001b[0;36mwrapped_fn\u001b[0;34m(*args, **kwds)\u001b[0m\n\u001b[1;32m    632\u001b[0m             \u001b[0mxla_context\u001b[0m\u001b[0;34m.\u001b[0m\u001b[0mExit\u001b[0m\u001b[0;34m(\u001b[0m\u001b[0;34m)\u001b[0m\u001b[0;34m\u001b[0m\u001b[0;34m\u001b[0m\u001b[0m\n\u001b[1;32m    633\u001b[0m         \u001b[0;32melse\u001b[0m\u001b[0;34m:\u001b[0m\u001b[0;34m\u001b[0m\u001b[0;34m\u001b[0m\u001b[0m\n\u001b[0;32m--> 634\u001b[0;31m           \u001b[0mout\u001b[0m \u001b[0;34m=\u001b[0m \u001b[0mweak_wrapped_fn\u001b[0m\u001b[0;34m(\u001b[0m\u001b[0;34m)\u001b[0m\u001b[0;34m.\u001b[0m\u001b[0m__wrapped__\u001b[0m\u001b[0;34m(\u001b[0m\u001b[0;34m*\u001b[0m\u001b[0margs\u001b[0m\u001b[0;34m,\u001b[0m \u001b[0;34m**\u001b[0m\u001b[0mkwds\u001b[0m\u001b[0;34m)\u001b[0m\u001b[0;34m\u001b[0m\u001b[0;34m\u001b[0m\u001b[0m\n\u001b[0m\u001b[1;32m    635\u001b[0m         \u001b[0;32mreturn\u001b[0m \u001b[0mout\u001b[0m\u001b[0;34m\u001b[0m\u001b[0;34m\u001b[0m\u001b[0m\n\u001b[1;32m    636\u001b[0m \u001b[0;34m\u001b[0m\u001b[0m\n",
            "\u001b[0;32m/usr/local/lib/python3.7/dist-packages/tensorflow/python/framework/func_graph.py\u001b[0m in \u001b[0;36mwrapper\u001b[0;34m(*args, **kwargs)\u001b[0m\n\u001b[1;32m    975\u001b[0m           \u001b[0;32mexcept\u001b[0m \u001b[0mException\u001b[0m \u001b[0;32mas\u001b[0m \u001b[0me\u001b[0m\u001b[0;34m:\u001b[0m  \u001b[0;31m# pylint:disable=broad-except\u001b[0m\u001b[0;34m\u001b[0m\u001b[0;34m\u001b[0m\u001b[0m\n\u001b[1;32m    976\u001b[0m             \u001b[0;32mif\u001b[0m \u001b[0mhasattr\u001b[0m\u001b[0;34m(\u001b[0m\u001b[0me\u001b[0m\u001b[0;34m,\u001b[0m \u001b[0;34m\"ag_error_metadata\"\u001b[0m\u001b[0;34m)\u001b[0m\u001b[0;34m:\u001b[0m\u001b[0;34m\u001b[0m\u001b[0;34m\u001b[0m\u001b[0m\n\u001b[0;32m--> 977\u001b[0;31m               \u001b[0;32mraise\u001b[0m \u001b[0me\u001b[0m\u001b[0;34m.\u001b[0m\u001b[0mag_error_metadata\u001b[0m\u001b[0;34m.\u001b[0m\u001b[0mto_exception\u001b[0m\u001b[0;34m(\u001b[0m\u001b[0me\u001b[0m\u001b[0;34m)\u001b[0m\u001b[0;34m\u001b[0m\u001b[0;34m\u001b[0m\u001b[0m\n\u001b[0m\u001b[1;32m    978\u001b[0m             \u001b[0;32melse\u001b[0m\u001b[0;34m:\u001b[0m\u001b[0;34m\u001b[0m\u001b[0;34m\u001b[0m\u001b[0m\n\u001b[1;32m    979\u001b[0m               \u001b[0;32mraise\u001b[0m\u001b[0;34m\u001b[0m\u001b[0;34m\u001b[0m\u001b[0m\n",
            "\u001b[0;31mValueError\u001b[0m: in user code:\n\n    /usr/local/lib/python3.7/dist-packages/tensorflow/python/keras/engine/training.py:1478 predict_function  *\n        return step_function(self, iterator)\n    /usr/local/lib/python3.7/dist-packages/tensorflow/python/keras/engine/training.py:1468 step_function  **\n        outputs = model.distribute_strategy.run(run_step, args=(data,))\n    /usr/local/lib/python3.7/dist-packages/tensorflow/python/distribute/distribute_lib.py:1259 run\n        return self._extended.call_for_each_replica(fn, args=args, kwargs=kwargs)\n    /usr/local/lib/python3.7/dist-packages/tensorflow/python/distribute/distribute_lib.py:2730 call_for_each_replica\n        return self._call_for_each_replica(fn, args, kwargs)\n    /usr/local/lib/python3.7/dist-packages/tensorflow/python/distribute/distribute_lib.py:3417 _call_for_each_replica\n        return fn(*args, **kwargs)\n    /usr/local/lib/python3.7/dist-packages/tensorflow/python/keras/engine/training.py:1461 run_step  **\n        outputs = model.predict_step(data)\n    /usr/local/lib/python3.7/dist-packages/tensorflow/python/keras/engine/training.py:1434 predict_step\n        return self(x, training=False)\n    /usr/local/lib/python3.7/dist-packages/tensorflow/python/keras/engine/base_layer.py:998 __call__\n        input_spec.assert_input_compatibility(self.input_spec, inputs, self.name)\n    /usr/local/lib/python3.7/dist-packages/tensorflow/python/keras/engine/input_spec.py:274 assert_input_compatibility\n        ', found shape=' + display_shape(x.shape))\n\n    ValueError: Input 0 is incompatible with layer sequential: expected shape=(None, 640, 640, 3), found shape=(None, 224, 224, 3)\n"
          ]
        },
        {
          "output_type": "display_data",
          "data": {
            "text/plain": [
              "<Figure size 1152x1800 with 0 Axes>"
            ]
          },
          "metadata": {
            "tags": []
          }
        }
      ]
    },
    {
      "cell_type": "code",
      "metadata": {
        "id": "bhLd1RU_t0wT"
      },
      "source": [
        ""
      ],
      "execution_count": null,
      "outputs": []
    }
  ]
}