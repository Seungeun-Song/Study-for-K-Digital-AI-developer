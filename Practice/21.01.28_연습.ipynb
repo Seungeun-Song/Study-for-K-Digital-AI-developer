{
 "cells": [
  {
   "cell_type": "code",
   "execution_count": 1,
   "metadata": {},
   "outputs": [
    {
     "name": "stdout",
     "output_type": "stream",
     "text": [
      "18\n",
      "4\n",
      "9\n",
      "8\n",
      "2\n"
     ]
    }
   ],
   "source": [
    "s = \"python programming\"\n",
    "\n",
    "print(len(s))\n",
    "print(s.find('o'))\n",
    "print(s.rfind('o'))\n",
    "print(s.index('r'))\n",
    "print(s.count('n'))"
   ]
  },
  {
   "cell_type": "code",
   "execution_count": 3,
   "metadata": {},
   "outputs": [
    {
     "name": "stdout",
     "output_type": "stream",
     "text": [
      "-1\n"
     ]
    }
   ],
   "source": [
    "print(s.find('z'))"
   ]
  },
  {
   "cell_type": "code",
   "execution_count": 4,
   "metadata": {},
   "outputs": [
    {
     "ename": "ValueError",
     "evalue": "substring not found",
     "output_type": "error",
     "traceback": [
      "\u001b[1;31m---------------------------------------------------------------------------\u001b[0m",
      "\u001b[1;31mValueError\u001b[0m                                Traceback (most recent call last)",
      "\u001b[1;32m<ipython-input-4-e1152106453d>\u001b[0m in \u001b[0;36m<module>\u001b[1;34m\u001b[0m\n\u001b[1;32m----> 1\u001b[1;33m \u001b[0mprint\u001b[0m\u001b[1;33m(\u001b[0m\u001b[0ms\u001b[0m\u001b[1;33m.\u001b[0m\u001b[0mindex\u001b[0m\u001b[1;33m(\u001b[0m\u001b[1;34m'z'\u001b[0m\u001b[1;33m)\u001b[0m\u001b[1;33m)\u001b[0m\u001b[1;33m\u001b[0m\u001b[1;33m\u001b[0m\u001b[0m\n\u001b[0m",
      "\u001b[1;31mValueError\u001b[0m: substring not found"
     ]
    }
   ],
   "source": [
    "print(s.index('z'))"
   ]
  },
  {
   "cell_type": "code",
   "execution_count": 5,
   "metadata": {},
   "outputs": [
    {
     "name": "stdout",
     "output_type": "stream",
     "text": [
      "생각의 출현 횟수 :  9\n"
     ]
    }
   ],
   "source": [
    "s = \"\"\"생각이란 생각할수록 생각나므로 생각하지 말아야 할 생각은 생각하지\n",
    "않으려고 하는 생각이 옳은 생각이라고 생각합니다\"\"\"\n",
    "\n",
    "print('생각의 출현 횟수 : ', s.count('생각'))"
   ]
  },
  {
   "cell_type": "code",
   "execution_count": 6,
   "metadata": {},
   "outputs": [
    {
     "name": "stdout",
     "output_type": "stream",
     "text": [
      "True\n",
      "False\n",
      "True\n",
      "False\n"
     ]
    }
   ],
   "source": [
    "s = 'python programming'\n",
    "\n",
    "print('a' in s)\n",
    "print('z' in s)\n",
    "print('pro' in s)\n",
    "print('x' in s)"
   ]
  },
  {
   "cell_type": "code",
   "execution_count": 7,
   "metadata": {},
   "outputs": [
    {
     "name": "stdout",
     "output_type": "stream",
     "text": [
      "김가입니다\n",
      "그림파일 입니다\n"
     ]
    }
   ],
   "source": [
    "name = '김한결'\n",
    "if name.startswith('김'):\n",
    "    print('김가입니다')\n",
    "if name.startswith('한'):\n",
    "    print('한가입니다')\n",
    "    \n",
    "file = 'girl.jpg'\n",
    "if file.endswith('.jpg'):\n",
    "    print('그림파일 입니다')"
   ]
  },
  {
   "cell_type": "code",
   "execution_count": 8,
   "metadata": {},
   "outputs": [
    {
     "name": "stdout",
     "output_type": "stream",
     "text": [
      "True\n"
     ]
    }
   ],
   "source": [
    "print(file.endswith('.jpg'))"
   ]
  },
  {
   "cell_type": "code",
   "execution_count": 9,
   "metadata": {
    "scrolled": true
   },
   "outputs": [
    {
     "ename": "TypeError",
     "evalue": "endswith() takes at least 1 argument (0 given)",
     "output_type": "error",
     "traceback": [
      "\u001b[1;31m---------------------------------------------------------------------------\u001b[0m",
      "\u001b[1;31mTypeError\u001b[0m                                 Traceback (most recent call last)",
      "\u001b[1;32m<ipython-input-9-40ec2bb8171b>\u001b[0m in \u001b[0;36m<module>\u001b[1;34m\u001b[0m\n\u001b[1;32m----> 1\u001b[1;33m \u001b[0mprint\u001b[0m\u001b[1;33m(\u001b[0m\u001b[0mfile\u001b[0m\u001b[1;33m.\u001b[0m\u001b[0mendswith\u001b[0m\u001b[1;33m(\u001b[0m\u001b[1;33m)\u001b[0m\u001b[1;33m)\u001b[0m\u001b[1;33m\u001b[0m\u001b[1;33m\u001b[0m\u001b[0m\n\u001b[0m",
      "\u001b[1;31mTypeError\u001b[0m: endswith() takes at least 1 argument (0 given)"
     ]
    }
   ],
   "source": [
    "print(file.endswith())"
   ]
  },
  {
   "cell_type": "code",
   "execution_count": 12,
   "metadata": {},
   "outputs": [
    {
     "name": "stdout",
     "output_type": "stream",
     "text": [
      "키를 입력하세요 : 안알랴줌\n",
      "숫자만 입력하세요\n"
     ]
    }
   ],
   "source": [
    "height = input('키를 입력하세요 : ')\n",
    "if height.isdecimal():\n",
    "    print('키 = ', height)\n",
    "else:\n",
    "    print('숫자만 입력하세요')"
   ]
  },
  {
   "cell_type": "code",
   "execution_count": 13,
   "metadata": {},
   "outputs": [
    {
     "name": "stdout",
     "output_type": "stream",
     "text": [
      "GOOD MORNING. MY LOVE KIM\n",
      "good morning. my love kim\n",
      "Good morning. my love Kim\n"
     ]
    }
   ],
   "source": [
    "s = \"Good morning. my love Kim\"\n",
    "\n",
    "print(s.upper())\n",
    "print(s.lower())\n",
    "print(s)"
   ]
  },
  {
   "cell_type": "code",
   "execution_count": 14,
   "metadata": {},
   "outputs": [
    {
     "name": "stdout",
     "output_type": "stream",
     "text": [
      "Good Morning. My Love Kim\n"
     ]
    }
   ],
   "source": [
    "print(s.title())"
   ]
  },
  {
   "cell_type": "code",
   "execution_count": 16,
   "metadata": {},
   "outputs": [
    {
     "name": "stdout",
     "output_type": "stream",
     "text": [
      "파이썬의 영문 철자를 입력하세요 : Python\n",
      "맞췄습니다\n"
     ]
    }
   ],
   "source": [
    "python = input('파이썬의 영문 철자를 입력하세요 : ')\n",
    "if python.lower() == 'python':\n",
    "    print('맞췄습니다')"
   ]
  },
  {
   "cell_type": "code",
   "execution_count": 18,
   "metadata": {},
   "outputs": [
    {
     "name": "stdout",
     "output_type": "stream",
     "text": [
      "angel\n",
      "  angel\n",
      "angel   \n"
     ]
    }
   ],
   "source": [
    "s =\"  angel   \"\n",
    "print(s.strip())\n",
    "print(s.rstrip())\n",
    "print(s.lstrip())"
   ]
  },
  {
   "cell_type": "code",
   "execution_count": 19,
   "metadata": {},
   "outputs": [
    {
     "name": "stdout",
     "output_type": "stream",
     "text": [
      "['짜장', '짬뽕', '탕수육']\n",
      "\n"
     ]
    }
   ],
   "source": [
    "s = '짜장 짬뽕 탕수육'\n",
    "print(s.split())\n",
    "print()"
   ]
  },
  {
   "cell_type": "code",
   "execution_count": 27,
   "metadata": {},
   "outputs": [
    {
     "name": "stdout",
     "output_type": "stream",
     "text": [
      "['서울->대전->대구->부산']\n",
      "['서울', '대전', '대구', '부산']\n"
     ]
    }
   ],
   "source": [
    "s2 = '서울->대전->대구->부산'\n",
    "print(s2.split())\n",
    "print(s2.split('->'))"
   ]
  },
  {
   "cell_type": "code",
   "execution_count": 32,
   "metadata": {},
   "outputs": [
    {
     "name": "stdout",
     "output_type": "stream",
     "text": [
      "서울 찍고, 대전 찍고, 대구 찍고, 부산 찍고, "
     ]
    }
   ],
   "source": [
    "s1 = s2.split('->')\n",
    "for i in s1:\n",
    "    print(i,'찍고, ', end='')"
   ]
  },
  {
   "cell_type": "code",
   "execution_count": 33,
   "metadata": {},
   "outputs": [
    {
     "name": "stdout",
     "output_type": "stream",
     "text": [
      "나는 떠났네, 터진 주머니에 두 손을 넣고서\n",
      "외투는 다 헤져 관념이 되었어\n",
      "\n",
      "하늘 아래로 나아갔지, 시의 여신이여! 나는 그대의 신도였다네.\n",
      "\n",
      "오 랄라! 얼마나 찬란한 사랑을 꿈꾸었던지!\n",
      "\n",
      "\n",
      "길 가에 앉아 별들의 소리에 귀 기울였어,\n",
      "구월의 어느 아름다운 저녁, 이마에 이슬방울이\n",
      "\n",
      "생명수 같은 와인처럼 떨어지고 있었지\n"
     ]
    }
   ],
   "source": [
    "travel = \"\"\"나는 떠났네, 터진 주머니에 두 손을 넣고서\\n외투는 다 헤져 관념이 되었어\\n\n",
    "하늘 아래로 나아갔지, 시의 여신이여! 나는 그대의 신도였다네.\\n\n",
    "오 랄라! 얼마나 찬란한 사랑을 꿈꾸었던지!\\n\\n\n",
    "길 가에 앉아 별들의 소리에 귀 기울였어,\\n구월의 어느 아름다운 저녁, 이마에 이슬방울이\\n\n",
    "생명수 같은 와인처럼 떨어지고 있었지\"\"\"\n",
    "poet= travel.splitlines()\n",
    "for i in poet:\n",
    "    print(i)"
   ]
  },
  {
   "cell_type": "code",
   "execution_count": 34,
   "metadata": {},
   "outputs": [
    {
     "name": "stdout",
     "output_type": "stream",
     "text": [
      "나는 떠났네, 터진 주머니에 두 손을 넣고서\n",
      "외투는 다 헤져 관념이 되었어\n",
      "\n",
      "하늘 아래로 나아갔지, 시의 여신이여! 나는 그대의 신도였다네.\n",
      "\n",
      "오 랄라! 얼마나 찬란한 사랑을 꿈꾸었던지!\n",
      "\n",
      "\n",
      "길 가에 앉아 별들의 소리에 귀 기울였어,\n",
      "구월의 어느 아름다운 저녁, 이마에 이슬방울이\n",
      "\n",
      "생명수 같은 와인처럼 떨어지고 있었지\n"
     ]
    }
   ],
   "source": [
    "poem = travel.split('\\n')\n",
    "for i in poem:\n",
    "    print(i)"
   ]
  },
  {
   "cell_type": "code",
   "execution_count": 35,
   "metadata": {},
   "outputs": [
    {
     "name": "stdout",
     "output_type": "stream",
     "text": [
      "독도는 한국땅이다. 대마도도 한국땅이다\n"
     ]
    }
   ],
   "source": [
    "s = '독도는 일본땅이다. 대마도도 일본땅이다'\n",
    "print(s.replace('일본','한국'))"
   ]
  },
  {
   "cell_type": "code",
   "execution_count": 38,
   "metadata": {},
   "outputs": [
    {
     "name": "stdout",
     "output_type": "stream",
     "text": [
      "강나루 건너서\n",
      "밀밭 길을\n",
      "\n",
      "구름에 달 가듯이\n",
      "가는 나그네\n",
      "\n",
      "길은 외줄기\n",
      "남도 삼백리\n",
      "\n",
      "술 익는 마을마다\n",
      "타는 저녁놀\n",
      "\n",
      "구름에 달 가듯이\n",
      "가는 나그네\n",
      "------------------------------\n",
      "['강나루 건너서', '밀밭 길을', '', '구름에 달 가듯이', '가는 나그네', '', '길은 외줄기', '남도 삼백리', '', '술 익는 마을마다', '타는 저녁놀', '', '구름에 달 가듯이', '가는 나그네']\n",
      "--------------------------------------------------\n",
      "                     강나루 건너서                      \n",
      "                      밀밭 길을                       \n",
      "                                                  \n",
      "                    구름에 달 가듯이                     \n",
      "                      가는 나그네                      \n",
      "                                                  \n",
      "                      길은 외줄기                      \n",
      "                      남도 삼백리                      \n",
      "                                                  \n",
      "                    술 익는 마을마다                     \n",
      "                      타는 저녁놀                      \n",
      "                                                  \n",
      "                    구름에 달 가듯이                     \n",
      "                      가는 나그네                      \n"
     ]
    }
   ],
   "source": [
    "traveler = \"\"\"강나루 건너서\\n밀밭 길을\\n\\n구름에 달 가듯이\\n가는 나그네\\n\n",
    "길은 외줄기\\n남도 삼백리\\n\\n술 익는 마을마다\\n타는 저녁놀\\n\n",
    "구름에 달 가듯이\\n가는 나그네\"\"\"\n",
    "\n",
    "print(traveler)\n",
    "print('-'*30)\n",
    "\n",
    "poet = traveler.splitlines()\n",
    "print(poet)\n",
    "print('-'*50)\n",
    "\n",
    "for i in poet:\n",
    "    print(i.center(50))"
   ]
  },
  {
   "cell_type": "code",
   "execution_count": 39,
   "metadata": {},
   "outputs": [
    {
     "name": "stdout",
     "output_type": "stream",
     "text": [
      "궁금하면 500원\n"
     ]
    }
   ],
   "source": [
    "price = 500\n",
    "print('궁금하면 %d원' %price)"
   ]
  },
  {
   "cell_type": "code",
   "execution_count": 41,
   "metadata": {},
   "outputs": [
    {
     "name": "stdout",
     "output_type": "stream",
     "text": [
      "궁금하면 500원\n"
     ]
    }
   ],
   "source": [
    "print('궁금하면',str(price)+'원')"
   ]
  },
  {
   "cell_type": "code",
   "execution_count": 45,
   "metadata": {},
   "outputs": [
    {
     "name": "stdout",
     "output_type": "stream",
     "text": [
      "내 생일은 8월 9일이다! 이 자식아!\n"
     ]
    }
   ],
   "source": [
    "month =8\n",
    "day =9\n",
    "anni = '내 생일'\n",
    "print('%s은 %d월 %d일이다! 이 자식아!' %(anni,month,day)) "
   ]
  },
  {
   "cell_type": "code",
   "execution_count": 50,
   "metadata": {},
   "outputs": [
    {
     "name": "stdout",
     "output_type": "stream",
     "text": [
      "가치는 123이다\n",
      "가치는        123이다\n",
      "가치는   123이다\n",
      "가치는 123이다\n",
      "가치는 123이다\n",
      "가치는 123이다\n"
     ]
    }
   ],
   "source": [
    "value = 123\n",
    "print('가치는 %d이다' %value)\n",
    "print('가치는 %10d이다' %value)\n",
    "print('가치는 %5d이다' %value)\n",
    "print('가치는 %3d이다' %value)\n",
    "print('가치는 %1d이다' %value)\n",
    "print('가치는 %-1d이다' %value)"
   ]
  },
  {
   "cell_type": "code",
   "execution_count": 49,
   "metadata": {},
   "outputs": [
    {
     "name": "stdout",
     "output_type": "stream",
     "text": [
      "가격 : 30원\n",
      "가격 : 13500원\n",
      "가격 : 2000원\n",
      "\n",
      "가격 :    30원\n",
      "가격 : 13500원\n",
      "가격 :  2000원\n"
     ]
    }
   ],
   "source": [
    "price = [30, 13500, 2000]\n",
    "for i in price:\n",
    "    print('가격 : %d원' %i)\n",
    "print()\n",
    "for i in price:\n",
    "    print('가격 : %5d원' %i)"
   ]
  },
  {
   "cell_type": "code",
   "execution_count": 51,
   "metadata": {},
   "outputs": [
    {
     "name": "stdout",
     "output_type": "stream",
     "text": [
      "가격 : 30     원\n",
      "가격 : 13500  원\n",
      "가격 : 2000   원\n",
      "\n",
      "가격 : 30   원\n",
      "가격 : 13500원\n",
      "가격 : 2000 원\n"
     ]
    }
   ],
   "source": [
    "price = [30, 13500, 2000]\n",
    "for i in price:\n",
    "    print('가격 : %-7d원' %i)\n",
    "print()\n",
    "for i in price:\n",
    "    print('가격 : %-5d원' %i)"
   ]
  },
  {
   "cell_type": "code",
   "execution_count": 52,
   "metadata": {},
   "outputs": [
    {
     "name": "stdout",
     "output_type": "stream",
     "text": [
      "이름 : 한결, 나이 : 16, 키: 187.5\n"
     ]
    }
   ],
   "source": [
    "name = '한결'\n",
    "age =16\n",
    "height = 187.5\n",
    "print('이름 : {}, 나이 : {}, 키: {}'.format(name,age,height))"
   ]
  },
  {
   "cell_type": "code",
   "execution_count": 53,
   "metadata": {},
   "outputs": [
    {
     "name": "stdout",
     "output_type": "stream",
     "text": [
      "이름 : 한결, 나이 : 16, 키: 187.500000\n"
     ]
    }
   ],
   "source": [
    "name = '한결'\n",
    "age =16\n",
    "height = 187.5\n",
    "print('이름 : {2:s}, 나이 : {0:d}, 키: {1:f}'.format(age,height,name))"
   ]
  },
  {
   "cell_type": "code",
   "execution_count": 54,
   "metadata": {},
   "outputs": [
    {
     "name": "stdout",
     "output_type": "stream",
     "text": [
      "총점 :  452\n",
      "평균 :  90.4\n"
     ]
    }
   ],
   "source": [
    "score = [88,95,70,100,99]\n",
    "sum = 0\n",
    "for i in score:\n",
    "    sum += i\n",
    "print('총점 : ', sum)\n",
    "print('평균 : ',sum/len(score))"
   ]
  },
  {
   "cell_type": "code",
   "execution_count": 55,
   "metadata": {},
   "outputs": [
    {
     "name": "stdout",
     "output_type": "stream",
     "text": [
      "88\n",
      "95\n",
      "70\n",
      "100\n",
      "99\n",
      "총점 :  452\n"
     ]
    }
   ],
   "source": [
    "sum = 0\n",
    "for i in score:\n",
    "    print(i)\n",
    "    sum+=i\n",
    "print('총점 : ', sum)"
   ]
  },
  {
   "cell_type": "code",
   "execution_count": 56,
   "metadata": {},
   "outputs": [
    {
     "name": "stdout",
     "output_type": "stream",
     "text": [
      "70\n"
     ]
    }
   ],
   "source": [
    "print(score[2])"
   ]
  },
  {
   "cell_type": "code",
   "execution_count": 57,
   "metadata": {},
   "outputs": [
    {
     "data": {
      "text/plain": [
       "70"
      ]
     },
     "execution_count": 57,
     "metadata": {},
     "output_type": "execute_result"
    }
   ],
   "source": [
    "score[2]"
   ]
  },
  {
   "cell_type": "code",
   "execution_count": 58,
   "metadata": {},
   "outputs": [],
   "source": [
    "score[2] = 2"
   ]
  },
  {
   "cell_type": "code",
   "execution_count": 60,
   "metadata": {},
   "outputs": [
    {
     "name": "stdout",
     "output_type": "stream",
     "text": [
      "[88, 95, 2, 100, 99]\n"
     ]
    }
   ],
   "source": [
    "print(score)"
   ]
  },
  {
   "cell_type": "code",
   "execution_count": 69,
   "metadata": {},
   "outputs": [],
   "source": [
    "num = [0, 1, 2, 3, 4, 5, 6, 7, 8, 9]"
   ]
  },
  {
   "cell_type": "code",
   "execution_count": 70,
   "metadata": {},
   "outputs": [
    {
     "name": "stdout",
     "output_type": "stream",
     "text": [
      "[0, 1, 20, 30, 4, 5, 6, 7, 8, 9]\n"
     ]
    }
   ],
   "source": [
    "num[2:4] = [20,30]\n",
    "print(num)"
   ]
  },
  {
   "cell_type": "code",
   "execution_count": 71,
   "metadata": {},
   "outputs": [
    {
     "name": "stdout",
     "output_type": "stream",
     "text": [
      "[0, 1, 200, 300, 400, 500, 4, 5, 6, 7, 8, 9]\n"
     ]
    }
   ],
   "source": [
    "num[2:4] = [200,300,400,500]\n",
    "print(num)"
   ]
  },
  {
   "cell_type": "code",
   "execution_count": 72,
   "metadata": {},
   "outputs": [
    {
     "name": "stdout",
     "output_type": "stream",
     "text": [
      "[0, 0, 0, 0]\n"
     ]
    }
   ],
   "source": [
    "num[1:]=[0,0,0]\n",
    "print(num)"
   ]
  },
  {
   "cell_type": "code",
   "execution_count": 73,
   "metadata": {},
   "outputs": [],
   "source": [
    "num = [0, 1, 2, 3, 4, 5, 6, 7, 8, 9]"
   ]
  },
  {
   "cell_type": "code",
   "execution_count": 74,
   "metadata": {},
   "outputs": [
    {
     "name": "stdout",
     "output_type": "stream",
     "text": [
      "[0, 1, 20, 30, 40, 50, 3, 4, 5, 6, 7, 8, 9]\n"
     ]
    }
   ],
   "source": [
    "num[2:3] =[20,30,40,50]\n",
    "print(num)"
   ]
  },
  {
   "cell_type": "code",
   "execution_count": 75,
   "metadata": {},
   "outputs": [
    {
     "name": "stdout",
     "output_type": "stream",
     "text": [
      "[0, 1, 2, 3, 4, 5, 6, 7, 8, 9]\n"
     ]
    }
   ],
   "source": [
    "num[2:6]=[2]\n",
    "print(num)"
   ]
  },
  {
   "cell_type": "code",
   "execution_count": 77,
   "metadata": {},
   "outputs": [
    {
     "name": "stdout",
     "output_type": "stream",
     "text": [
      "[0, 1, 2, (0, 0, 0), 4, 5, 6, 7, 8, 9]\n"
     ]
    }
   ],
   "source": [
    "num[3] = (0,0,0)\n",
    "print(num)"
   ]
  },
  {
   "cell_type": "code",
   "execution_count": 81,
   "metadata": {},
   "outputs": [
    {
     "name": "stdout",
     "output_type": "stream",
     "text": [
      "[0, 1, 2]\n"
     ]
    }
   ],
   "source": [
    "num[3:] = []\n",
    "print(num)"
   ]
  },
  {
   "cell_type": "code",
   "execution_count": 84,
   "metadata": {},
   "outputs": [
    {
     "name": "stdout",
     "output_type": "stream",
     "text": [
      "[0, 1, 2, 3, 4, 5, 6, 7, 8, 9]\n"
     ]
    }
   ],
   "source": [
    "num[3:]=[3,4,5,6,7,8,9]\n",
    "print(num)"
   ]
  },
  {
   "cell_type": "code",
   "execution_count": 85,
   "metadata": {},
   "outputs": [
    {
     "name": "stdout",
     "output_type": "stream",
     "text": [
      "[0, 1, 2, 4, 5, 6, 7, 8, 9]\n"
     ]
    }
   ],
   "source": [
    "del num[3]\n",
    "print(num)"
   ]
  },
  {
   "cell_type": "code",
   "execution_count": 86,
   "metadata": {},
   "outputs": [
    {
     "name": "stdout",
     "output_type": "stream",
     "text": [
      "[1, 2, 3, 4, 5, 6, 7, 8]\n"
     ]
    }
   ],
   "source": [
    "list1=[1,2,3,4]\n",
    "list2=[5,6,7,8]\n",
    "print(list1+list2)"
   ]
  },
  {
   "cell_type": "code",
   "execution_count": 88,
   "metadata": {},
   "outputs": [
    {
     "name": "stdout",
     "output_type": "stream",
     "text": [
      "[1, 2, 3, 4, 1, 2, 3, 4]\n"
     ]
    }
   ],
   "source": [
    "print(list1*2)"
   ]
  },
  {
   "cell_type": "code",
   "execution_count": 89,
   "metadata": {},
   "outputs": [
    {
     "name": "stdout",
     "output_type": "stream",
     "text": [
      "[1, 2, 3]\n",
      "2\n"
     ]
    }
   ],
   "source": [
    "lol = [[1,2,3],[4,5],[6,7,8,9]]\n",
    "print(lol[0])\n",
    "print(lol[0][1])"
   ]
  },
  {
   "cell_type": "code",
   "execution_count": 91,
   "metadata": {},
   "outputs": [
    {
     "name": "stdout",
     "output_type": "stream",
     "text": [
      "[[1, [0], 3], [4, 5], [6, 7, 8, 9]]\n"
     ]
    }
   ],
   "source": [
    "lol[0][1]=[0]\n",
    "print(lol)"
   ]
  },
  {
   "cell_type": "code",
   "execution_count": 93,
   "metadata": {},
   "outputs": [
    {
     "name": "stdout",
     "output_type": "stream",
     "text": [
      "[[1, 2, 3], [4, 5], [6, 7, 8, 9]]\n"
     ]
    }
   ],
   "source": [
    "lol[0][1]=2\n",
    "print(lol)"
   ]
  },
  {
   "cell_type": "code",
   "execution_count": 94,
   "metadata": {},
   "outputs": [
    {
     "name": "stdout",
     "output_type": "stream",
     "text": [
      "1,2,3,\n",
      "4,5,\n",
      "6,7,8,9,\n"
     ]
    }
   ],
   "source": [
    "for i in lol:\n",
    "    for x in i:\n",
    "        print(x, end=',')\n",
    "    print()"
   ]
  }
 ],
 "metadata": {
  "kernelspec": {
   "display_name": "Python 3",
   "language": "python",
   "name": "python3"
  },
  "language_info": {
   "codemirror_mode": {
    "name": "ipython",
    "version": 3
   },
   "file_extension": ".py",
   "mimetype": "text/x-python",
   "name": "python",
   "nbconvert_exporter": "python",
   "pygments_lexer": "ipython3",
   "version": "3.8.5"
  }
 },
 "nbformat": 4,
 "nbformat_minor": 4
}
