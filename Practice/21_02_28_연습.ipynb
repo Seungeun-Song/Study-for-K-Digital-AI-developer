{
  "nbformat": 4,
  "nbformat_minor": 0,
  "metadata": {
    "colab": {
      "name": "21_02_28.ipynb",
      "provenance": []
    },
    "kernelspec": {
      "name": "python3",
      "display_name": "Python 3"
    }
  },
  "cells": [
    {
      "cell_type": "code",
      "metadata": {
        "id": "GRgrRguhF90e"
      },
      "source": [
        "import pandas as pd\r\n",
        "import matplotlib.pyplot as plt\r\n",
        "import seaborn as sns"
      ],
      "execution_count": 2,
      "outputs": []
    },
    {
      "cell_type": "code",
      "metadata": {
        "colab": {
          "base_uri": "https://localhost:8080/"
        },
        "id": "fZ0xqpyWGEni",
        "outputId": "e4e20a92-b852-4db7-bbdb-fd61b328b4e2"
      },
      "source": [
        "Elec = pd.read_csv('https://raw.githubusercontent.com/rusita-ai/pyData/master/Electric.csv')\r\n",
        "Elec.info()"
      ],
      "execution_count": 3,
      "outputs": [
        {
          "output_type": "stream",
          "text": [
            "<class 'pandas.core.frame.DataFrame'>\n",
            "RangeIndex: 768 entries, 0 to 767\n",
            "Data columns (total 9 columns):\n",
            " #   Column                     Non-Null Count  Dtype  \n",
            "---  ------                     --------------  -----  \n",
            " 0   compactness                768 non-null    float64\n",
            " 1   surface_area               768 non-null    float64\n",
            " 2   wall_area                  768 non-null    float64\n",
            " 3   roof_area                  768 non-null    float64\n",
            " 4   height                     768 non-null    float64\n",
            " 5   orientation                768 non-null    int64  \n",
            " 6   glazing_area               768 non-null    float64\n",
            " 7   glazing_area_distribution  768 non-null    int64  \n",
            " 8   electricity                768 non-null    float64\n",
            "dtypes: float64(7), int64(2)\n",
            "memory usage: 54.1 KB\n"
          ],
          "name": "stdout"
        }
      ]
    },
    {
      "cell_type": "code",
      "metadata": {
        "colab": {
          "base_uri": "https://localhost:8080/",
          "height": 280
        },
        "id": "HWJVtiAbGTYC",
        "outputId": "e176c22c-4142-4ab5-db10-b47a01561248"
      },
      "source": [
        "sns.scatterplot(y = Elec['electricity'], x = Elec['surface_area'])\r\n",
        "plt.show()"
      ],
      "execution_count": 4,
      "outputs": [
        {
          "output_type": "display_data",
          "data": {
            "image/png": "[encoded data removed]",
            "text/plain": [
              "<Figure size 432x288 with 1 Axes>"
            ]
          },
          "metadata": {
            "tags": [],
            "needs_background": "light"
          }
        }
      ]
    },
    {
      "cell_type": "code",
      "metadata": {
        "colab": {
          "base_uri": "https://localhost:8080/"
        },
        "id": "cMbxjrKuHChJ",
        "outputId": "2604383c-a533-4efe-981b-25bd1cf24d6d"
      },
      "source": [
        "x_train = Elec[['surface_area']]\r\n",
        "y_train = Elec[['electricity']]\r\n",
        "x_train.shape, y_train.shape"
      ],
      "execution_count": 5,
      "outputs": [
        {
          "output_type": "execute_result",
          "data": {
            "text/plain": [
              "((768, 1), (768, 1))"
            ]
          },
          "metadata": {
            "tags": []
          },
          "execution_count": 5
        }
      ]
    },
    {
      "cell_type": "code",
      "metadata": {
        "colab": {
          "base_uri": "https://localhost:8080/"
        },
        "id": "wc2SgpPAHZFJ",
        "outputId": "d76c57c6-690a-4b6d-ffdd-7aecf03bbd6b"
      },
      "source": [
        "from sklearn.linear_model import LinearRegression\r\n",
        "\r\n",
        "Model_1 = LinearRegression()\r\n",
        "Model_1.fit(x_train, y_train)"
      ],
      "execution_count": 8,
      "outputs": [
        {
          "output_type": "execute_result",
          "data": {
            "text/plain": [
              "LinearRegression(copy_X=True, fit_intercept=True, n_jobs=None, normalize=False)"
            ]
          },
          "metadata": {
            "tags": []
          },
          "execution_count": 8
        }
      ]
    },
    {
      "cell_type": "code",
      "metadata": {
        "colab": {
          "base_uri": "https://localhost:8080/"
        },
        "id": "S_PuBwocIcY_",
        "outputId": "50b8028b-780e-4c0f-afd4-b0f9dc837c5f"
      },
      "source": [
        "print(Model_1.coef_)\r\n",
        "print(Model_1.intercept_)"
      ],
      "execution_count": 11,
      "outputs": [
        {
          "output_type": "stream",
          "text": [
            "[[-0.75387157]]\n",
            "[729.4538243]\n"
          ],
          "name": "stdout"
        }
      ]
    },
    {
      "cell_type": "code",
      "metadata": {
        "colab": {
          "base_uri": "https://localhost:8080/"
        },
        "id": "IBsyWQzdHtJQ",
        "outputId": "419ae3e4-069a-41d2-e54d-68797f97e308"
      },
      "source": [
        "import numpy as np\r\n",
        "\r\n",
        "y_hat_1 = Model_1.predict(x_train)\r\n",
        "\r\n",
        "Err_1 = np.mean((y_train - y_hat_1)**2)\r\n",
        "Err_1"
      ],
      "execution_count": 10,
      "outputs": [
        {
          "output_type": "execute_result",
          "data": {
            "text/plain": [
              "electricity    5763.983779\n",
              "dtype: float64"
            ]
          },
          "metadata": {
            "tags": []
          },
          "execution_count": 10
        }
      ]
    },
    {
      "cell_type": "code",
      "metadata": {
        "colab": {
          "base_uri": "https://localhost:8080/"
        },
        "id": "qp2wEQAmIFUY",
        "outputId": "9bbc430f-7196-48b6-b40b-746668756b41"
      },
      "source": [
        "from sklearn.preprocessing import PolynomialFeatures\r\n",
        "\r\n",
        "poly = PolynomialFeatures(degree=5, include_bias = False)\r\n",
        "PX_5 = poly.fit_transform(x_train)\r\n",
        "\r\n",
        "Model_5 = LinearRegression()\r\n",
        "Model_5.fit(PX_5, y_train)\r\n",
        "\r\n",
        "y_hat_5 = Model_5.predict(PX_5)\r\n",
        "\r\n",
        "from sklearn.metrics import mean_squared_error\r\n",
        "\r\n",
        "Err_5 = mean_squared_error(y_train, y_hat_5)\r\n",
        "Err_5"
      ],
      "execution_count": 12,
      "outputs": [
        {
          "output_type": "execute_result",
          "data": {
            "text/plain": [
              "4177.726328606076"
            ]
          },
          "metadata": {
            "tags": []
          },
          "execution_count": 12
        }
      ]
    },
    {
      "cell_type": "code",
      "metadata": {
        "colab": {
          "base_uri": "https://localhost:8080/"
        },
        "id": "ENF_9wDuJ2BQ",
        "outputId": "fc6e71dd-885c-4997-defe-eb3a19e7cf88"
      },
      "source": [
        "from sklearn.preprocessing import PolynomialFeatures\r\n",
        "\r\n",
        "poly= PolynomialFeatures(degree = 9, include_bias=False)\r\n",
        "PX_9 = poly.fit_transform(x_train)\r\n",
        "\r\n",
        "from sklearn.linear_model import LinearRegression\r\n",
        "\r\n",
        "Model_9 = LinearRegression()\r\n",
        "Model_9.fit(PX_9, y_train)\r\n",
        "\r\n",
        "y_hat_9 = Model_9.predict(PX_9)\r\n",
        "\r\n",
        "from sklearn.metrics import mean_squared_error\r\n",
        "Err_9 = mean_squared_error(y_train, y_hat_9)\r\n",
        "Err_9\r\n"
      ],
      "execution_count": 13,
      "outputs": [
        {
          "output_type": "execute_result",
          "data": {
            "text/plain": [
              "4086.7199908150374"
            ]
          },
          "metadata": {
            "tags": []
          },
          "execution_count": 13
        }
      ]
    },
    {
      "cell_type": "code",
      "metadata": {
        "colab": {
          "base_uri": "https://localhost:8080/"
        },
        "id": "NPurjcxqKsY6",
        "outputId": "e48e29a6-f117-411b-9d65-b0d35a3a58eb"
      },
      "source": [
        "print('1차 : ', Err_1 )\r\n",
        "print('5차 : ', Err_5 )\r\n",
        "print('9차 : ', Err_9 )"
      ],
      "execution_count": 14,
      "outputs": [
        {
          "output_type": "stream",
          "text": [
            "1차 :  electricity    5763.983779\n",
            "dtype: float64\n",
            "5차 :  4177.726328606076\n",
            "9차 :  4086.7199908150374\n"
          ],
          "name": "stdout"
        }
      ]
    },
    {
      "cell_type": "code",
      "metadata": {
        "colab": {
          "base_uri": "https://localhost:8080/",
          "height": 284
        },
        "id": "CR1wmsNbK1wA",
        "outputId": "fcfa65bd-9806-4883-d3b2-b1ac30a144a9"
      },
      "source": [
        "sns.residplot(x=Elec['surface_area'], y=Elec['electricity'],\r\n",
        "              order= 9, scatter_kws={'edgecolor':'white'})\r\n",
        "plt.ylim(-300,300)\r\n",
        "plt.show()"
      ],
      "execution_count": 17,
      "outputs": [
        {
          "output_type": "display_data",
          "data": {
            "image/png": "[encoded data removed]",
            "text/plain": [
              "<Figure size 432x288 with 1 Axes>"
            ]
          },
          "metadata": {
            "tags": [],
            "needs_background": "light"
          }
        }
      ]
    },
    {
      "cell_type": "code",
      "metadata": {
        "id": "87tcbVZbLRiH"
      },
      "source": [
        "from sklearn.model_selection import train_test_split"
      ],
      "execution_count": 19,
      "outputs": []
    },
    {
      "cell_type": "code",
      "metadata": {
        "colab": {
          "base_uri": "https://localhost:8080/"
        },
        "id": "Hs6a24dWLfbf",
        "outputId": "3f35f4e7-4bf1-4879-8c35-5f9e34d4dcc8"
      },
      "source": [
        "x_tr, x_te, y_tr, y_te = train_test_split( Elec[['surface_area']], Elec[['electricity']], test_size=0.2, random_state=2045)\r\n",
        "print(x_tr)\r\n",
        "print(x_te)"
      ],
      "execution_count": 23,
      "outputs": [
        {
          "output_type": "stream",
          "text": [
            "     surface_area\n",
            "555         686.0\n",
            "355         637.0\n",
            "200         588.0\n",
            "669         808.5\n",
            "561         735.0\n",
            "..            ...\n",
            "25          686.0\n",
            "410         686.0\n",
            "521         784.0\n",
            "398         612.5\n",
            "202         588.0\n",
            "\n",
            "[614 rows x 1 columns]\n",
            "     surface_area\n",
            "414         710.5\n",
            "475         784.0\n",
            "511         710.5\n",
            "213         661.5\n",
            "339         514.5\n",
            "..            ...\n",
            "538         588.0\n",
            "467         735.0\n",
            "489         588.0\n",
            "767         808.5\n",
            "576         514.5\n",
            "\n",
            "[154 rows x 1 columns]\n"
          ],
          "name": "stdout"
        }
      ]
    },
    {
      "cell_type": "code",
      "metadata": {
        "colab": {
          "base_uri": "https://localhost:8080/"
        },
        "id": "9Vowu_PFMCKX",
        "outputId": "ba52aa8a-821d-47a2-f851-d75b6b8f99ef"
      },
      "source": [
        "x_tr.shape, x_te.shape"
      ],
      "execution_count": 24,
      "outputs": [
        {
          "output_type": "execute_result",
          "data": {
            "text/plain": [
              "((614, 1), (154, 1))"
            ]
          },
          "metadata": {
            "tags": []
          },
          "execution_count": 24
        }
      ]
    },
    {
      "cell_type": "code",
      "metadata": {
        "colab": {
          "base_uri": "https://localhost:8080/",
          "height": 280
        },
        "id": "fBm1k3XXM0H3",
        "outputId": "4f7007b3-4aba-40ec-987b-ce52b7abceff"
      },
      "source": [
        "sns.scatterplot(x=x_tr['surface_area'], y=y_tr['electricity'])\r\n",
        "plt.show()"
      ],
      "execution_count": 29,
      "outputs": [
        {
          "output_type": "display_data",
          "data": {
            "image/png": "[encoded data removed]",
            "text/plain": [
              "<Figure size 432x288 with 1 Axes>"
            ]
          },
          "metadata": {
            "tags": [],
            "needs_background": "light"
          }
        }
      ]
    },
    {
      "cell_type": "code",
      "metadata": {
        "colab": {
          "base_uri": "https://localhost:8080/",
          "height": 280
        },
        "id": "y0EzJbdHNXHW",
        "outputId": "3ee9221a-fb6f-4a49-9879-3c4c6453ae76"
      },
      "source": [
        "sns.scatterplot(x=x_te['surface_area'],y=y_te['electricity'])\r\n",
        "plt.show()"
      ],
      "execution_count": 30,
      "outputs": [
        {
          "output_type": "display_data",
          "data": {
            "image/png": "[encoded data removed]",
            "text/plain": [
              "<Figure size 432x288 with 1 Axes>"
            ]
          },
          "metadata": {
            "tags": [],
            "needs_background": "light"
          }
        }
      ]
    },
    {
      "cell_type": "code",
      "metadata": {
        "colab": {
          "base_uri": "https://localhost:8080/"
        },
        "id": "UG59tMPpMeJm",
        "outputId": "f22d80a2-b5fe-47e7-bd46-9c01ecfc7294"
      },
      "source": [
        "from sklearn.linear_model import LinearRegression\r\n",
        "\r\n",
        "Model_1 = LinearRegression()\r\n",
        "Model_1.fit(x_tr, y_tr)\r\n",
        "\r\n",
        "y_hat_1 = Model_1.predict(x_te)\r\n",
        "\r\n",
        "from sklearn.metrics import mean_squared_error\r\n",
        "Err_1 = mean_squared_error(y_te, y_hat_1)\r\n",
        "Err_1"
      ],
      "execution_count": 31,
      "outputs": [
        {
          "output_type": "execute_result",
          "data": {
            "text/plain": [
              "6044.176547629271"
            ]
          },
          "metadata": {
            "tags": []
          },
          "execution_count": 31
        }
      ]
    },
    {
      "cell_type": "code",
      "metadata": {
        "colab": {
          "base_uri": "https://localhost:8080/"
        },
        "id": "hcpXBxgwN2qf",
        "outputId": "69ba9af9-5dba-4852-a0c4-1443ec6b3c03"
      },
      "source": [
        "from sklearn.preprocessing import PolynomialFeatures\r\n",
        "\r\n",
        "poly= PolynomialFeatures(degree=5, include_bias=False)\r\n",
        "PX_5 = poly.fit_transform(x_tr)\r\n",
        "\r\n",
        "from sklearn.linear_model import LinearRegression\r\n",
        "\r\n",
        "Model_5 = LinearRegression()\r\n",
        "Model_5.fit(PX_5, y_tr)\r\n",
        "\r\n",
        "PX_5_te = poly.fit_transform(x_te)\r\n",
        "y_hat_5 = Model_5.predict(PX_5_te)\r\n",
        "\r\n",
        "from sklearn.metrics import mean_squared_error\r\n",
        "Err_5 = mean_squared_error(y_te, y_hat_5)\r\n",
        "Err_5\r\n"
      ],
      "execution_count": 32,
      "outputs": [
        {
          "output_type": "execute_result",
          "data": {
            "text/plain": [
              "4330.604566409499"
            ]
          },
          "metadata": {
            "tags": []
          },
          "execution_count": 32
        }
      ]
    },
    {
      "cell_type": "code",
      "metadata": {
        "colab": {
          "base_uri": "https://localhost:8080/"
        },
        "id": "CtbOM559OyC3",
        "outputId": "a36f0ae0-a55d-4d98-8fb0-1d848cb09121"
      },
      "source": [
        "from sklearn.preprocessing import PolynomialFeatures\r\n",
        "\r\n",
        "poly=PolynomialFeatures(degree=9, include_bias=False)\r\n",
        "PX_9 = poly.fit_transform(x_tr)\r\n",
        "\r\n",
        "from sklearn.linear_model import LinearRegression\r\n",
        "Model_9 = LinearRegression()\r\n",
        "Model_9.fit(PX_9, y_tr)\r\n",
        "\r\n",
        "PX_9_te = poly.fit_transform(x_te)\r\n",
        "y_hat_9 = Model_9.predict(PX_9_te)\r\n",
        "\r\n",
        "from sklearn.metrics import mean_squared_error\r\n",
        "\r\n",
        "Err_9 = mean_squared_error(y_te, y_hat_9)\r\n",
        "Err_9\r\n"
      ],
      "execution_count": 33,
      "outputs": [
        {
          "output_type": "execute_result",
          "data": {
            "text/plain": [
              "4238.689067137633"
            ]
          },
          "metadata": {
            "tags": []
          },
          "execution_count": 33
        }
      ]
    },
    {
      "cell_type": "markdown",
      "metadata": {
        "id": "TnRb0zk_PhQH"
      },
      "source": [
        "6:3:1"
      ]
    },
    {
      "cell_type": "code",
      "metadata": {
        "colab": {
          "base_uri": "https://localhost:8080/"
        },
        "id": "xCqZKmKlQEol",
        "outputId": "3c4e9f34-3a9f-4bba-80d0-33afd2df998e"
      },
      "source": [
        "from sklearn.model_selection import train_test_split\r\n",
        "\r\n",
        "x_remain, x_te, y_remain, y_te = train_test_split(Elec[['surface_area']], Elec[['electricity']], test_size=int(len(Elec) *0.1), random_state=2045)\r\n",
        "print(x_remain.shape, y_remain.shape)\r\n",
        "print(x_te.shape, y_te.shape)"
      ],
      "execution_count": 36,
      "outputs": [
        {
          "output_type": "stream",
          "text": [
            "(692, 1) (692, 1)\n",
            "(76, 1) (76, 1)\n"
          ],
          "name": "stdout"
        }
      ]
    },
    {
      "cell_type": "code",
      "metadata": {
        "colab": {
          "base_uri": "https://localhost:8080/"
        },
        "id": "VOMibjOkQqfl",
        "outputId": "9abadbfc-ca6d-42a3-96fc-f644a63a0a80"
      },
      "source": [
        "from sklearn.model_selection import train_test_split\r\n",
        "\r\n",
        "x_tr, x_vd, y_tr, y_vd = train_test_split(x_remain[['surface_area']], y_remain[['electricity']], test_size=int(len(Elec)*0.3), random_state=2045)\r\n",
        "print(x_tr.shape, y_tr.shape)\r\n",
        "print(x_vd.shape, y_vd.shape)\r\n",
        "print(x_te.shape, y_te.shape)"
      ],
      "execution_count": 38,
      "outputs": [
        {
          "output_type": "stream",
          "text": [
            "(462, 1) (462, 1)\n",
            "(230, 1) (230, 1)\n",
            "(76, 1) (76, 1)\n"
          ],
          "name": "stdout"
        }
      ]
    },
    {
      "cell_type": "code",
      "metadata": {
        "colab": {
          "base_uri": "https://localhost:8080/"
        },
        "id": "g9pRrkYwRVD2",
        "outputId": "a7cdb4f4-94d8-4ce3-c999-ab8ae1d17013"
      },
      "source": [
        "from sklearn.linear_model import LinearRegression\r\n",
        "\r\n",
        "Mode_1 = LinearRegression()\r\n",
        "Model_1.fit(x_tr, y_tr)\r\n",
        "\r\n",
        "y_hat_1 = Model_1.predict(x_vd)\r\n",
        "\r\n",
        "from sklearn.metrics import mean_squared_error\r\n",
        "\r\n",
        "vd_Err_1 = mean_squared_error(y_vd, y_hat_1)\r\n",
        "vd_Err_1"
      ],
      "execution_count": 40,
      "outputs": [
        {
          "output_type": "execute_result",
          "data": {
            "text/plain": [
              "5996.991718116083"
            ]
          },
          "metadata": {
            "tags": []
          },
          "execution_count": 40
        }
      ]
    },
    {
      "cell_type": "code",
      "metadata": {
        "colab": {
          "base_uri": "https://localhost:8080/"
        },
        "id": "GTOj3N9VR799",
        "outputId": "4fcdf493-188d-4c78-8b6b-212b75dfe9fc"
      },
      "source": [
        "from sklearn.preprocessing import PolynomialFeatures\r\n",
        "\r\n",
        "poly=PolynomialFeatures(degree = 5, include_bias=False)\r\n",
        "PX_5 = poly.fit_transform(x_tr)\r\n",
        "\r\n",
        "from sklearn.linear_model import LinearRegression\r\n",
        "\r\n",
        "Model_5 = LinearRegression()\r\n",
        "Model_5.fit(PX_5, y_tr)\r\n",
        "\r\n",
        "PX_5_vd = poly.fit_transform(x_vd)\r\n",
        "y_hat_5 = Model_5.predict(PX_5_vd)\r\n",
        "\r\n",
        "from sklearn.metrics import mean_squared_error\r\n",
        "\r\n",
        "vd_Err_5 = mean_squared_error(y_vd, y_hat_5)\r\n",
        "vd_Err_5"
      ],
      "execution_count": 41,
      "outputs": [
        {
          "output_type": "execute_result",
          "data": {
            "text/plain": [
              "4429.910621940308"
            ]
          },
          "metadata": {
            "tags": []
          },
          "execution_count": 41
        }
      ]
    },
    {
      "cell_type": "code",
      "metadata": {
        "colab": {
          "base_uri": "https://localhost:8080/"
        },
        "id": "Cis9F9ySS3Ry",
        "outputId": "7e0a7cda-afc1-4b72-cc94-627120af73f4"
      },
      "source": [
        "from sklearn.preprocessing import PolynomialFeatures\r\n",
        "\r\n",
        "poly=PolynomialFeatures(degree=9, include_bias=False)\r\n",
        "PX_9 = poly.fit_transform(x_tr)\r\n",
        "\r\n",
        "from sklearn.linear_model import LinearRegression\r\n",
        "\r\n",
        "Model_9 = LinearRegression()\r\n",
        "Model_9.fit(PX_9, y_tr)\r\n",
        "\r\n",
        "PX_9_vd = poly.fit_transform(x_vd)\r\n",
        "y_hat_9 = Model_9.predict(PX_9_vd)\r\n",
        "\r\n",
        "from sklearn.metrics import mean_squared_error\r\n",
        "\r\n",
        "vd_Err_9 = mean_squared_error(y_vd, y_hat_9)\r\n",
        "vd_Err_9"
      ],
      "execution_count": 42,
      "outputs": [
        {
          "output_type": "execute_result",
          "data": {
            "text/plain": [
              "4306.598675776518"
            ]
          },
          "metadata": {
            "tags": []
          },
          "execution_count": 42
        }
      ]
    },
    {
      "cell_type": "code",
      "metadata": {
        "colab": {
          "base_uri": "https://localhost:8080/"
        },
        "id": "1zGv5JADT05c",
        "outputId": "e832a9ea-f387-4500-873a-e272c9a58abb"
      },
      "source": [
        "print('1차 MSE : ', vd_Err_1)\r\n",
        "print('5차 MSE : ', vd_Err_5)\r\n",
        "print('9차 MSE : ', vd_Err_9)"
      ],
      "execution_count": 43,
      "outputs": [
        {
          "output_type": "stream",
          "text": [
            "1차 MSE :  5996.991718116083\n",
            "5차 MSE :  4429.910621940308\n",
            "9차 MSE :  4306.598675776518\n"
          ],
          "name": "stdout"
        }
      ]
    },
    {
      "cell_type": "code",
      "metadata": {
        "colab": {
          "base_uri": "https://localhost:8080/"
        },
        "id": "3y6y70RcT9tK",
        "outputId": "58a3c286-4fff-4ede-d8ba-d4430fd91595"
      },
      "source": [
        "PX_9_te = poly.fit_transform(x_te)\r\n",
        "\r\n",
        "mean_squared_error(y_te, Model_9.predict(PX_9_te))"
      ],
      "execution_count": 44,
      "outputs": [
        {
          "output_type": "execute_result",
          "data": {
            "text/plain": [
              "5194.887655342146"
            ]
          },
          "metadata": {
            "tags": []
          },
          "execution_count": 44
        }
      ]
    },
    {
      "cell_type": "code",
      "metadata": {
        "id": "7x7qqXyGUgKT"
      },
      "source": [
        ""
      ],
      "execution_count": null,
      "outputs": []
    }
  ]
}