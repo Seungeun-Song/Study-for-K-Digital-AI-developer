{
  "nbformat": 4,
  "nbformat_minor": 0,
  "metadata": {
    "colab": {
      "name": "002_LSTM_Time_Series_GPU.ipynb",
      "provenance": []
    },
    "kernelspec": {
      "name": "python3",
      "display_name": "Python 3"
    },
    "language_info": {
      "name": "python"
    },
    "accelerator": "GPU"
  },
  "cells": [
    {
      "cell_type": "code",
      "metadata": {
        "id": "d7tmzOArN6Ns"
      },
      "source": [
        "import numpy as np\n",
        "import pandas as pd\n",
        "from matplotlib import pyplot as plt\n",
        "from sklearn.preprocessing import MinMaxScaler\n",
        "from keras.models import Sequential\n",
        "from keras.layers import Dense, LSTM"
      ],
      "execution_count": 21,
      "outputs": []
    },
    {
      "cell_type": "code",
      "metadata": {
        "colab": {
          "base_uri": "https://localhost:8080/"
        },
        "id": "3LXpuPzVOygZ",
        "outputId": "74551bfc-f703-4f42-8022-ada138d7270a"
      },
      "source": [
        "url = 'https://raw.githubusercontent.com/rusita-ai/pyData/master/Seoul_Temp.csv'\n",
        "temp = pd.read_csv(url)\n",
        "\n",
        "temp.info()"
      ],
      "execution_count": 24,
      "outputs": [
        {
          "output_type": "stream",
          "text": [
            "<class 'pandas.core.frame.DataFrame'>\n",
            "RangeIndex: 3287 entries, 0 to 3286\n",
            "Data columns (total 4 columns):\n",
            " #   Column  Non-Null Count  Dtype  \n",
            "---  ------  --------------  -----  \n",
            " 0   date    3287 non-null   object \n",
            " 1   avg     3287 non-null   float64\n",
            " 2   min     3287 non-null   float64\n",
            " 3   max     3287 non-null   float64\n",
            "dtypes: float64(3), object(1)\n",
            "memory usage: 102.8+ KB\n"
          ],
          "name": "stdout"
        }
      ]
    },
    {
      "cell_type": "code",
      "metadata": {
        "colab": {
          "base_uri": "https://localhost:8080/",
          "height": 199
        },
        "id": "KAlDock5O26l",
        "outputId": "f50d3bc4-3916-4159-cb14-d18d3b8581a0"
      },
      "source": [
        "temp.head()"
      ],
      "execution_count": 4,
      "outputs": [
        {
          "output_type": "execute_result",
          "data": {
            "text/html": [
              "<div>\n",
              "<style scoped>\n",
              "    .dataframe tbody tr th:only-of-type {\n",
              "        vertical-align: middle;\n",
              "    }\n",
              "\n",
              "    .dataframe tbody tr th {\n",
              "        vertical-align: top;\n",
              "    }\n",
              "\n",
              "    .dataframe thead th {\n",
              "        text-align: right;\n",
              "    }\n",
              "</style>\n",
              "<table border=\"1\" class=\"dataframe\">\n",
              "  <thead>\n",
              "    <tr style=\"text-align: right;\">\n",
              "      <th></th>\n",
              "      <th>date</th>\n",
              "      <th>avg</th>\n",
              "      <th>min</th>\n",
              "      <th>max</th>\n",
              "    </tr>\n",
              "  </thead>\n",
              "  <tbody>\n",
              "    <tr>\n",
              "      <th>0</th>\n",
              "      <td>2011-01-01</td>\n",
              "      <td>-6.8</td>\n",
              "      <td>-10.4</td>\n",
              "      <td>-2.9</td>\n",
              "    </tr>\n",
              "    <tr>\n",
              "      <th>1</th>\n",
              "      <td>2011-01-02</td>\n",
              "      <td>-5.4</td>\n",
              "      <td>-8.5</td>\n",
              "      <td>-1.2</td>\n",
              "    </tr>\n",
              "    <tr>\n",
              "      <th>2</th>\n",
              "      <td>2011-01-03</td>\n",
              "      <td>-4.5</td>\n",
              "      <td>-8.5</td>\n",
              "      <td>-0.3</td>\n",
              "    </tr>\n",
              "    <tr>\n",
              "      <th>3</th>\n",
              "      <td>2011-01-04</td>\n",
              "      <td>-3.9</td>\n",
              "      <td>-7.4</td>\n",
              "      <td>-1.7</td>\n",
              "    </tr>\n",
              "    <tr>\n",
              "      <th>4</th>\n",
              "      <td>2011-01-05</td>\n",
              "      <td>-4.0</td>\n",
              "      <td>-7.7</td>\n",
              "      <td>-1.8</td>\n",
              "    </tr>\n",
              "  </tbody>\n",
              "</table>\n",
              "</div>"
            ],
            "text/plain": [
              "         date  avg   min  max\n",
              "0  2011-01-01 -6.8 -10.4 -2.9\n",
              "1  2011-01-02 -5.4  -8.5 -1.2\n",
              "2  2011-01-03 -4.5  -8.5 -0.3\n",
              "3  2011-01-04 -3.9  -7.4 -1.7\n",
              "4  2011-01-05 -4.0  -7.7 -1.8"
            ]
          },
          "metadata": {
            "tags": []
          },
          "execution_count": 4
        }
      ]
    },
    {
      "cell_type": "code",
      "metadata": {
        "colab": {
          "base_uri": "https://localhost:8080/",
          "height": 410
        },
        "id": "yhGNOqLUO8Xt",
        "outputId": "7f3aa3ab-27c8-406f-fcd2-2fea9a141e55"
      },
      "source": [
        "temp.head(-5)"
      ],
      "execution_count": 5,
      "outputs": [
        {
          "output_type": "execute_result",
          "data": {
            "text/html": [
              "<div>\n",
              "<style scoped>\n",
              "    .dataframe tbody tr th:only-of-type {\n",
              "        vertical-align: middle;\n",
              "    }\n",
              "\n",
              "    .dataframe tbody tr th {\n",
              "        vertical-align: top;\n",
              "    }\n",
              "\n",
              "    .dataframe thead th {\n",
              "        text-align: right;\n",
              "    }\n",
              "</style>\n",
              "<table border=\"1\" class=\"dataframe\">\n",
              "  <thead>\n",
              "    <tr style=\"text-align: right;\">\n",
              "      <th></th>\n",
              "      <th>date</th>\n",
              "      <th>avg</th>\n",
              "      <th>min</th>\n",
              "      <th>max</th>\n",
              "    </tr>\n",
              "  </thead>\n",
              "  <tbody>\n",
              "    <tr>\n",
              "      <th>0</th>\n",
              "      <td>2011-01-01</td>\n",
              "      <td>-6.8</td>\n",
              "      <td>-10.4</td>\n",
              "      <td>-2.9</td>\n",
              "    </tr>\n",
              "    <tr>\n",
              "      <th>1</th>\n",
              "      <td>2011-01-02</td>\n",
              "      <td>-5.4</td>\n",
              "      <td>-8.5</td>\n",
              "      <td>-1.2</td>\n",
              "    </tr>\n",
              "    <tr>\n",
              "      <th>2</th>\n",
              "      <td>2011-01-03</td>\n",
              "      <td>-4.5</td>\n",
              "      <td>-8.5</td>\n",
              "      <td>-0.3</td>\n",
              "    </tr>\n",
              "    <tr>\n",
              "      <th>3</th>\n",
              "      <td>2011-01-04</td>\n",
              "      <td>-3.9</td>\n",
              "      <td>-7.4</td>\n",
              "      <td>-1.7</td>\n",
              "    </tr>\n",
              "    <tr>\n",
              "      <th>4</th>\n",
              "      <td>2011-01-05</td>\n",
              "      <td>-4.0</td>\n",
              "      <td>-7.7</td>\n",
              "      <td>-1.8</td>\n",
              "    </tr>\n",
              "    <tr>\n",
              "      <th>...</th>\n",
              "      <td>...</td>\n",
              "      <td>...</td>\n",
              "      <td>...</td>\n",
              "      <td>...</td>\n",
              "    </tr>\n",
              "    <tr>\n",
              "      <th>3277</th>\n",
              "      <td>2019-12-22</td>\n",
              "      <td>4.1</td>\n",
              "      <td>0.3</td>\n",
              "      <td>8.4</td>\n",
              "    </tr>\n",
              "    <tr>\n",
              "      <th>3278</th>\n",
              "      <td>2019-12-23</td>\n",
              "      <td>3.4</td>\n",
              "      <td>0.3</td>\n",
              "      <td>5.2</td>\n",
              "    </tr>\n",
              "    <tr>\n",
              "      <th>3279</th>\n",
              "      <td>2019-12-24</td>\n",
              "      <td>0.8</td>\n",
              "      <td>-2.9</td>\n",
              "      <td>6.5</td>\n",
              "    </tr>\n",
              "    <tr>\n",
              "      <th>3280</th>\n",
              "      <td>2019-12-25</td>\n",
              "      <td>2.0</td>\n",
              "      <td>-2.7</td>\n",
              "      <td>6.6</td>\n",
              "    </tr>\n",
              "    <tr>\n",
              "      <th>3281</th>\n",
              "      <td>2019-12-26</td>\n",
              "      <td>2.0</td>\n",
              "      <td>-2.4</td>\n",
              "      <td>4.1</td>\n",
              "    </tr>\n",
              "  </tbody>\n",
              "</table>\n",
              "<p>3282 rows × 4 columns</p>\n",
              "</div>"
            ],
            "text/plain": [
              "            date  avg   min  max\n",
              "0     2011-01-01 -6.8 -10.4 -2.9\n",
              "1     2011-01-02 -5.4  -8.5 -1.2\n",
              "2     2011-01-03 -4.5  -8.5 -0.3\n",
              "3     2011-01-04 -3.9  -7.4 -1.7\n",
              "4     2011-01-05 -4.0  -7.7 -1.8\n",
              "...          ...  ...   ...  ...\n",
              "3277  2019-12-22  4.1   0.3  8.4\n",
              "3278  2019-12-23  3.4   0.3  5.2\n",
              "3279  2019-12-24  0.8  -2.9  6.5\n",
              "3280  2019-12-25  2.0  -2.7  6.6\n",
              "3281  2019-12-26  2.0  -2.4  4.1\n",
              "\n",
              "[3282 rows x 4 columns]"
            ]
          },
          "metadata": {
            "tags": []
          },
          "execution_count": 5
        }
      ]
    },
    {
      "cell_type": "markdown",
      "metadata": {
        "id": "SFS_gOCqRomt"
      },
      "source": [
        "# EDA"
      ]
    },
    {
      "cell_type": "code",
      "metadata": {
        "colab": {
          "base_uri": "https://localhost:8080/",
          "height": 338
        },
        "id": "n9p3Mi0WPPHW",
        "outputId": "6a87b115-aedd-4d12-90a3-494f670f45ad"
      },
      "source": [
        "temp_data = temp[['avg']]\n",
        "\n",
        "plt.figure(figsize=(12,5))\n",
        "plt.plot(temp_data)\n",
        "plt.show()\n",
        "print(type(temp_data))"
      ],
      "execution_count": 25,
      "outputs": [
        {
          "output_type": "display_data",
          "data": {
            "image/png": "[encoded data removed]",
            "text/plain": [
              "<Figure size 864x360 with 1 Axes>"
            ]
          },
          "metadata": {
            "tags": [],
            "needs_background": "light"
          }
        },
        {
          "output_type": "stream",
          "text": [
            "<class 'pandas.core.frame.DataFrame'>\n"
          ],
          "name": "stdout"
        }
      ]
    },
    {
      "cell_type": "markdown",
      "metadata": {
        "id": "mgXROmucRl49"
      },
      "source": [
        "# scaling"
      ]
    },
    {
      "cell_type": "code",
      "metadata": {
        "id": "WoxFRxuuPZhM"
      },
      "source": [
        "scaler = MinMaxScaler(feature_range=(-1,1))\n",
        "temp_data = scaler.fit_transform(temp_data)"
      ],
      "execution_count": 26,
      "outputs": []
    },
    {
      "cell_type": "code",
      "metadata": {
        "colab": {
          "base_uri": "https://localhost:8080/",
          "height": 199
        },
        "id": "Djb0lNRfQeCT",
        "outputId": "c6cb17cf-6f1b-4b9e-9456-b36666e2d842"
      },
      "source": [
        "temp_data.head()"
      ],
      "execution_count": 13,
      "outputs": [
        {
          "output_type": "execute_result",
          "data": {
            "text/html": [
              "<div>\n",
              "<style scoped>\n",
              "    .dataframe tbody tr th:only-of-type {\n",
              "        vertical-align: middle;\n",
              "    }\n",
              "\n",
              "    .dataframe tbody tr th {\n",
              "        vertical-align: top;\n",
              "    }\n",
              "\n",
              "    .dataframe thead th {\n",
              "        text-align: right;\n",
              "    }\n",
              "</style>\n",
              "<table border=\"1\" class=\"dataframe\">\n",
              "  <thead>\n",
              "    <tr style=\"text-align: right;\">\n",
              "      <th></th>\n",
              "      <th>avg</th>\n",
              "    </tr>\n",
              "  </thead>\n",
              "  <tbody>\n",
              "    <tr>\n",
              "      <th>0</th>\n",
              "      <td>-6.8</td>\n",
              "    </tr>\n",
              "    <tr>\n",
              "      <th>1</th>\n",
              "      <td>-5.4</td>\n",
              "    </tr>\n",
              "    <tr>\n",
              "      <th>2</th>\n",
              "      <td>-4.5</td>\n",
              "    </tr>\n",
              "    <tr>\n",
              "      <th>3</th>\n",
              "      <td>-3.9</td>\n",
              "    </tr>\n",
              "    <tr>\n",
              "      <th>4</th>\n",
              "      <td>-4.0</td>\n",
              "    </tr>\n",
              "  </tbody>\n",
              "</table>\n",
              "</div>"
            ],
            "text/plain": [
              "   avg\n",
              "0 -6.8\n",
              "1 -5.4\n",
              "2 -4.5\n",
              "3 -3.9\n",
              "4 -4.0"
            ]
          },
          "metadata": {
            "tags": []
          },
          "execution_count": 13
        }
      ]
    },
    {
      "cell_type": "markdown",
      "metadata": {
        "id": "3tX5RimHRq8z"
      },
      "source": [
        "# data split (train:test)"
      ]
    },
    {
      "cell_type": "code",
      "metadata": {
        "id": "NtYSl58pQDxE"
      },
      "source": [
        "train = temp_data[0:2557]\n",
        "test = temp_data[2557:]"
      ],
      "execution_count": 27,
      "outputs": []
    },
    {
      "cell_type": "code",
      "metadata": {
        "id": "WtzlttViQYut"
      },
      "source": [
        "def create_dataset(time_data, look_back = 1):\n",
        "  data_X, data_y = [], []\n",
        "\n",
        "  for i in range(len(time_data) - look_back):\n",
        "    data_X.append(time_data[i:(i + look_back), 0])\n",
        "    data_y.append(time_data[i + look_back, 0])\n",
        "    \n",
        "  return np.array(data_X), np.array(data_y)"
      ],
      "execution_count": 28,
      "outputs": []
    },
    {
      "cell_type": "code",
      "metadata": {
        "colab": {
          "base_uri": "https://localhost:8080/"
        },
        "id": "xrEnlHG0RORo",
        "outputId": "70d5dac2-93b0-4eeb-957f-61e2405eac37"
      },
      "source": [
        "look_back =180\n",
        "\n",
        "train_X, train_y = create_dataset(train, look_back)\n",
        "test_X, test_y = create_dataset(test, look_back)\n",
        "\n",
        "train_X.shape, train_y.shape, test_X.shape, test_y.shape"
      ],
      "execution_count": 29,
      "outputs": [
        {
          "output_type": "execute_result",
          "data": {
            "text/plain": [
              "((2377, 180), (2377,), (550, 180), (550,))"
            ]
          },
          "metadata": {
            "tags": []
          },
          "execution_count": 29
        }
      ]
    },
    {
      "cell_type": "code",
      "metadata": {
        "colab": {
          "base_uri": "https://localhost:8080/"
        },
        "id": "lzlhDsWbTTEs",
        "outputId": "91ac5c65-8942-4966-9b7d-7aea2c0785e0"
      },
      "source": [
        "train[0:180,0]"
      ],
      "execution_count": 33,
      "outputs": [
        {
          "output_type": "execute_result",
          "data": {
            "text/plain": [
              "array([-0.67010309, -0.61237113, -0.57525773, -0.55051546, -0.55463918,\n",
              "       -0.70309278, -0.67835052, -0.53814433, -0.67835052, -0.72783505,\n",
              "       -0.61237113, -0.72783505, -0.63298969, -0.54639175, -0.89278351,\n",
              "       -0.98762887, -0.78969072, -0.66597938, -0.66185567, -0.72783505,\n",
              "       -0.67010309, -0.56701031, -0.57525773, -0.75257732, -0.73608247,\n",
              "       -0.74020619, -0.75670103, -0.71546392, -0.76494845, -0.80618557,\n",
              "       -0.64536082, -0.39793814, -0.33608247, -0.32783505, -0.34020619,\n",
              "       -0.3443299 , -0.37731959, -0.37731959, -0.27010309, -0.43917526,\n",
              "       -0.47628866, -0.50927835, -0.63298969, -0.58762887, -0.52989691,\n",
              "       -0.46391753, -0.41443299, -0.35257732, -0.32371134, -0.33195876,\n",
              "       -0.17113402, -0.13402062, -0.13402062, -0.15876289, -0.13814433,\n",
              "       -0.30721649, -0.13402062, -0.21649485, -0.2742268 , -0.36907216,\n",
              "       -0.47628866, -0.47628866, -0.38556701, -0.30309278, -0.24948454,\n",
              "       -0.32371134, -0.32371134, -0.3814433 , -0.33195876, -0.2       ,\n",
              "       -0.06804124,  0.05154639, -0.11340206, -0.32783505, -0.40618557,\n",
              "       -0.35670103, -0.15463918, -0.02680412, -0.10515464, -0.05979381,\n",
              "       -0.31546392, -0.29896907, -0.27010309, -0.29896907, -0.24123711,\n",
              "       -0.17938144, -0.17525773, -0.19175258, -0.08865979, -0.01030928,\n",
              "       -0.01443299, -0.02268041,  0.00618557,  0.02680412,  0.05154639,\n",
              "        0.04742268,  0.00618557,  0.08041237,  0.0185567 ,  0.0556701 ,\n",
              "        0.03917526,  0.03092784,  0.07628866,  0.12164948,  0.11340206,\n",
              "        0.10927835,  0.10515464, -0.11340206,  0.0556701 ,  0.07216495,\n",
              "        0.16701031, -0.02268041,  0.01030928,  0.01030928,  0.07628866,\n",
              "        0.04329897,  0.08041237,  0.03917526,  0.15463918,  0.14639175,\n",
              "        0.1257732 ,  0.19587629,  0.24123711,  0.26597938,  0.33195876,\n",
              "        0.24536082,  0.20824742,  0.32371134,  0.33608247,  0.29072165,\n",
              "        0.31958763,  0.25773196,  0.21237113,  0.31958763,  0.31958763,\n",
              "        0.28659794,  0.33195876,  0.4556701 ,  0.46391753,  0.33195876,\n",
              "        0.20824742,  0.32371134,  0.41443299,  0.49690722,  0.54639175,\n",
              "        0.46391753,  0.43917526,  0.53402062,  0.61649485,  0.54639175,\n",
              "        0.3814433 ,  0.35257732,  0.39381443,  0.39381443,  0.3814433 ,\n",
              "        0.45154639,  0.47216495,  0.47216495,  0.51752577,  0.41030928,\n",
              "        0.49278351,  0.6       ,  0.57525773,  0.47628866,  0.55051546,\n",
              "        0.64948454,  0.70309278,  0.6371134 ,  0.62061856,  0.70721649,\n",
              "        0.70721649,  0.60412371,  0.54639175,  0.51752577,  0.42268041,\n",
              "        0.36494845,  0.40206186,  0.40206186,  0.60412371,  0.47628866])"
            ]
          },
          "metadata": {
            "tags": []
          },
          "execution_count": 33
        }
      ]
    },
    {
      "cell_type": "code",
      "metadata": {
        "colab": {
          "base_uri": "https://localhost:8080/"
        },
        "id": "mDr6eGERR8Q1",
        "outputId": "b2d08cba-aab5-4283-fc90-a2248fcb9d16"
      },
      "source": [
        "train_X = np.reshape(train_X, (train_X.shape[0], train_X.shape[1], 1))\n",
        "test_X = np.reshape(test_X, (test_X.shape[0], test_X.shape[1],1))\n",
        "\n",
        "train_X.shape, train_y.shape, test_X.shape, test_y.shape"
      ],
      "execution_count": 34,
      "outputs": [
        {
          "output_type": "execute_result",
          "data": {
            "text/plain": [
              "((2377, 180, 1), (2377,), (550, 180, 1), (550,))"
            ]
          },
          "metadata": {
            "tags": []
          },
          "execution_count": 34
        }
      ]
    },
    {
      "cell_type": "code",
      "metadata": {
        "colab": {
          "base_uri": "https://localhost:8080/"
        },
        "id": "FXswMNEQTzSE",
        "outputId": "e77672b8-fc56-45c9-bd3e-5a86cde273b4"
      },
      "source": [
        "model = Sequential()\n",
        "model.add(LSTM(64, input_shape = (None, 1)))\n",
        "model.add(Dense(1, activation = 'tanh'))\n",
        "\n",
        "model.summary()"
      ],
      "execution_count": 37,
      "outputs": [
        {
          "output_type": "stream",
          "text": [
            "Model: \"sequential_1\"\n",
            "_________________________________________________________________\n",
            "Layer (type)                 Output Shape              Param #   \n",
            "=================================================================\n",
            "lstm_1 (LSTM)                (None, 64)                16896     \n",
            "_________________________________________________________________\n",
            "dense_1 (Dense)              (None, 1)                 65        \n",
            "=================================================================\n",
            "Total params: 16,961\n",
            "Trainable params: 16,961\n",
            "Non-trainable params: 0\n",
            "_________________________________________________________________\n"
          ],
          "name": "stdout"
        }
      ]
    },
    {
      "cell_type": "code",
      "metadata": {
        "colab": {
          "base_uri": "https://localhost:8080/"
        },
        "id": "VHSfwD-9T-i0",
        "outputId": "5289c954-8853-496a-af52-a70aeb0e6ab8"
      },
      "source": [
        "%%time\n",
        "model.compile(loss='mean_squared_error', optimizer='adam') # metrics가 없네.. 예측모델이기 때문\n",
        "\n",
        "\n",
        "hist = model.fit(train_X, train_y, epochs=200, batch_size=16, validation_data=(test_X, test_y))"
      ],
      "execution_count": 39,
      "outputs": [
        {
          "output_type": "stream",
          "text": [
            "Epoch 1/200\n",
            "149/149 [==============================] - 34s 11ms/step - loss: 0.0417 - val_loss: 0.0158\n",
            "Epoch 2/200\n",
            "149/149 [==============================] - 1s 8ms/step - loss: 0.0159 - val_loss: 0.0128\n",
            "Epoch 3/200\n",
            "149/149 [==============================] - 1s 8ms/step - loss: 0.0138 - val_loss: 0.0122\n",
            "Epoch 4/200\n",
            "149/149 [==============================] - 1s 8ms/step - loss: 0.0123 - val_loss: 0.0100\n",
            "Epoch 5/200\n",
            "149/149 [==============================] - 1s 8ms/step - loss: 0.0111 - val_loss: 0.0090\n",
            "Epoch 6/200\n",
            "149/149 [==============================] - 1s 8ms/step - loss: 0.0092 - val_loss: 0.0081\n",
            "Epoch 7/200\n",
            "149/149 [==============================] - 1s 8ms/step - loss: 0.0096 - val_loss: 0.0080\n",
            "Epoch 8/200\n",
            "149/149 [==============================] - 1s 8ms/step - loss: 0.0089 - val_loss: 0.0082\n",
            "Epoch 9/200\n",
            "149/149 [==============================] - 1s 8ms/step - loss: 0.0086 - val_loss: 0.0077\n",
            "Epoch 10/200\n",
            "149/149 [==============================] - 1s 8ms/step - loss: 0.0079 - val_loss: 0.0078\n",
            "Epoch 11/200\n",
            "149/149 [==============================] - 1s 8ms/step - loss: 0.0086 - val_loss: 0.0078\n",
            "Epoch 12/200\n",
            "149/149 [==============================] - 1s 8ms/step - loss: 0.0084 - val_loss: 0.0076\n",
            "Epoch 13/200\n",
            "149/149 [==============================] - 1s 8ms/step - loss: 0.0082 - val_loss: 0.0076\n",
            "Epoch 14/200\n",
            "149/149 [==============================] - 1s 8ms/step - loss: 0.0083 - val_loss: 0.0076\n",
            "Epoch 15/200\n",
            "149/149 [==============================] - 1s 8ms/step - loss: 0.0082 - val_loss: 0.0075\n",
            "Epoch 16/200\n",
            "149/149 [==============================] - 1s 8ms/step - loss: 0.0084 - val_loss: 0.0077\n",
            "Epoch 17/200\n",
            "149/149 [==============================] - 1s 8ms/step - loss: 0.0079 - val_loss: 0.0075\n",
            "Epoch 18/200\n",
            "149/149 [==============================] - 1s 8ms/step - loss: 0.0076 - val_loss: 0.0078\n",
            "Epoch 19/200\n",
            "149/149 [==============================] - 1s 8ms/step - loss: 0.0088 - val_loss: 0.0075\n",
            "Epoch 20/200\n",
            "149/149 [==============================] - 1s 8ms/step - loss: 0.0080 - val_loss: 0.0079\n",
            "Epoch 21/200\n",
            "149/149 [==============================] - 1s 8ms/step - loss: 0.0079 - val_loss: 0.0075\n",
            "Epoch 22/200\n",
            "149/149 [==============================] - 1s 8ms/step - loss: 0.0084 - val_loss: 0.0074\n",
            "Epoch 23/200\n",
            "149/149 [==============================] - 1s 8ms/step - loss: 0.0085 - val_loss: 0.0074\n",
            "Epoch 24/200\n",
            "149/149 [==============================] - 1s 8ms/step - loss: 0.0079 - val_loss: 0.0074\n",
            "Epoch 25/200\n",
            "149/149 [==============================] - 1s 8ms/step - loss: 0.0082 - val_loss: 0.0075\n",
            "Epoch 26/200\n",
            "149/149 [==============================] - 1s 8ms/step - loss: 0.0082 - val_loss: 0.0074\n",
            "Epoch 27/200\n",
            "149/149 [==============================] - 1s 8ms/step - loss: 0.0081 - val_loss: 0.0073\n",
            "Epoch 28/200\n",
            "149/149 [==============================] - 1s 8ms/step - loss: 0.0079 - val_loss: 0.0075\n",
            "Epoch 29/200\n",
            "149/149 [==============================] - 1s 8ms/step - loss: 0.0086 - val_loss: 0.0075\n",
            "Epoch 30/200\n",
            "149/149 [==============================] - 1s 8ms/step - loss: 0.0079 - val_loss: 0.0076\n",
            "Epoch 31/200\n",
            "149/149 [==============================] - 1s 8ms/step - loss: 0.0077 - val_loss: 0.0072\n",
            "Epoch 32/200\n",
            "149/149 [==============================] - 1s 8ms/step - loss: 0.0083 - val_loss: 0.0075\n",
            "Epoch 33/200\n",
            "149/149 [==============================] - 1s 8ms/step - loss: 0.0076 - val_loss: 0.0072\n",
            "Epoch 34/200\n",
            "149/149 [==============================] - 1s 8ms/step - loss: 0.0087 - val_loss: 0.0074\n",
            "Epoch 35/200\n",
            "149/149 [==============================] - 1s 8ms/step - loss: 0.0078 - val_loss: 0.0075\n",
            "Epoch 36/200\n",
            "149/149 [==============================] - 1s 8ms/step - loss: 0.0086 - val_loss: 0.0077\n",
            "Epoch 37/200\n",
            "149/149 [==============================] - 1s 8ms/step - loss: 0.0082 - val_loss: 0.0072\n",
            "Epoch 38/200\n",
            "149/149 [==============================] - 1s 8ms/step - loss: 0.0077 - val_loss: 0.0074\n",
            "Epoch 39/200\n",
            "149/149 [==============================] - 1s 8ms/step - loss: 0.0080 - val_loss: 0.0073\n",
            "Epoch 40/200\n",
            "149/149 [==============================] - 1s 8ms/step - loss: 0.0078 - val_loss: 0.0071\n",
            "Epoch 41/200\n",
            "149/149 [==============================] - 1s 8ms/step - loss: 0.0075 - val_loss: 0.0075\n",
            "Epoch 42/200\n",
            "149/149 [==============================] - 1s 8ms/step - loss: 0.0082 - val_loss: 0.0073\n",
            "Epoch 43/200\n",
            "149/149 [==============================] - 1s 8ms/step - loss: 0.0078 - val_loss: 0.0076\n",
            "Epoch 44/200\n",
            "149/149 [==============================] - 1s 8ms/step - loss: 0.0079 - val_loss: 0.0073\n",
            "Epoch 45/200\n",
            "149/149 [==============================] - 1s 8ms/step - loss: 0.0077 - val_loss: 0.0073\n",
            "Epoch 46/200\n",
            "149/149 [==============================] - 1s 8ms/step - loss: 0.0076 - val_loss: 0.0073\n",
            "Epoch 47/200\n",
            "149/149 [==============================] - 1s 8ms/step - loss: 0.0076 - val_loss: 0.0073\n",
            "Epoch 48/200\n",
            "149/149 [==============================] - 1s 8ms/step - loss: 0.0079 - val_loss: 0.0072\n",
            "Epoch 49/200\n",
            "149/149 [==============================] - 1s 8ms/step - loss: 0.0077 - val_loss: 0.0071\n",
            "Epoch 50/200\n",
            "149/149 [==============================] - 1s 8ms/step - loss: 0.0077 - val_loss: 0.0073\n",
            "Epoch 51/200\n",
            "149/149 [==============================] - 1s 8ms/step - loss: 0.0077 - val_loss: 0.0073\n",
            "Epoch 52/200\n",
            "149/149 [==============================] - 1s 8ms/step - loss: 0.0079 - val_loss: 0.0070\n",
            "Epoch 53/200\n",
            "149/149 [==============================] - 1s 8ms/step - loss: 0.0079 - val_loss: 0.0074\n",
            "Epoch 54/200\n",
            "149/149 [==============================] - 1s 8ms/step - loss: 0.0075 - val_loss: 0.0073\n",
            "Epoch 55/200\n",
            "149/149 [==============================] - 1s 8ms/step - loss: 0.0073 - val_loss: 0.0076\n",
            "Epoch 56/200\n",
            "149/149 [==============================] - 1s 8ms/step - loss: 0.0075 - val_loss: 0.0074\n",
            "Epoch 57/200\n",
            "149/149 [==============================] - 1s 8ms/step - loss: 0.0073 - val_loss: 0.0080\n",
            "Epoch 58/200\n",
            "149/149 [==============================] - 1s 8ms/step - loss: 0.0078 - val_loss: 0.0073\n",
            "Epoch 59/200\n",
            "149/149 [==============================] - 1s 8ms/step - loss: 0.0081 - val_loss: 0.0072\n",
            "Epoch 60/200\n",
            "149/149 [==============================] - 1s 8ms/step - loss: 0.0077 - val_loss: 0.0072\n",
            "Epoch 61/200\n",
            "149/149 [==============================] - 1s 8ms/step - loss: 0.0076 - val_loss: 0.0078\n",
            "Epoch 62/200\n",
            "149/149 [==============================] - 1s 8ms/step - loss: 0.0080 - val_loss: 0.0075\n",
            "Epoch 63/200\n",
            "149/149 [==============================] - 1s 8ms/step - loss: 0.0078 - val_loss: 0.0073\n",
            "Epoch 64/200\n",
            "149/149 [==============================] - 1s 8ms/step - loss: 0.0078 - val_loss: 0.0075\n",
            "Epoch 65/200\n",
            "149/149 [==============================] - 1s 8ms/step - loss: 0.0074 - val_loss: 0.0071\n",
            "Epoch 66/200\n",
            "149/149 [==============================] - 1s 8ms/step - loss: 0.0073 - val_loss: 0.0074\n",
            "Epoch 67/200\n",
            "149/149 [==============================] - 1s 8ms/step - loss: 0.0077 - val_loss: 0.0076\n",
            "Epoch 68/200\n",
            "149/149 [==============================] - 1s 8ms/step - loss: 0.0078 - val_loss: 0.0074\n",
            "Epoch 69/200\n",
            "149/149 [==============================] - 1s 8ms/step - loss: 0.0078 - val_loss: 0.0074\n",
            "Epoch 70/200\n",
            "149/149 [==============================] - 1s 8ms/step - loss: 0.0073 - val_loss: 0.0073\n",
            "Epoch 71/200\n",
            "149/149 [==============================] - 1s 8ms/step - loss: 0.0079 - val_loss: 0.0071\n",
            "Epoch 72/200\n",
            "149/149 [==============================] - 1s 8ms/step - loss: 0.0070 - val_loss: 0.0075\n",
            "Epoch 73/200\n",
            "149/149 [==============================] - 1s 8ms/step - loss: 0.0078 - val_loss: 0.0070\n",
            "Epoch 74/200\n",
            "149/149 [==============================] - 1s 8ms/step - loss: 0.0074 - val_loss: 0.0074\n",
            "Epoch 75/200\n",
            "149/149 [==============================] - 1s 8ms/step - loss: 0.0076 - val_loss: 0.0071\n",
            "Epoch 76/200\n",
            "149/149 [==============================] - 1s 8ms/step - loss: 0.0077 - val_loss: 0.0074\n",
            "Epoch 77/200\n",
            "149/149 [==============================] - 1s 8ms/step - loss: 0.0074 - val_loss: 0.0072\n",
            "Epoch 78/200\n",
            "149/149 [==============================] - 1s 8ms/step - loss: 0.0076 - val_loss: 0.0072\n",
            "Epoch 79/200\n",
            "149/149 [==============================] - 1s 8ms/step - loss: 0.0074 - val_loss: 0.0074\n",
            "Epoch 80/200\n",
            "149/149 [==============================] - 1s 8ms/step - loss: 0.0073 - val_loss: 0.0077\n",
            "Epoch 81/200\n",
            "149/149 [==============================] - 1s 8ms/step - loss: 0.0073 - val_loss: 0.0076\n",
            "Epoch 82/200\n",
            "149/149 [==============================] - 1s 8ms/step - loss: 0.0077 - val_loss: 0.0074\n",
            "Epoch 83/200\n",
            "149/149 [==============================] - 1s 8ms/step - loss: 0.0073 - val_loss: 0.0072\n",
            "Epoch 84/200\n",
            "149/149 [==============================] - 1s 8ms/step - loss: 0.0074 - val_loss: 0.0072\n",
            "Epoch 85/200\n",
            "149/149 [==============================] - 1s 8ms/step - loss: 0.0073 - val_loss: 0.0075\n",
            "Epoch 86/200\n",
            "149/149 [==============================] - 1s 8ms/step - loss: 0.0070 - val_loss: 0.0076\n",
            "Epoch 87/200\n",
            "149/149 [==============================] - 1s 8ms/step - loss: 0.0071 - val_loss: 0.0077\n",
            "Epoch 88/200\n",
            "149/149 [==============================] - 1s 8ms/step - loss: 0.0072 - val_loss: 0.0073\n",
            "Epoch 89/200\n",
            "149/149 [==============================] - 1s 8ms/step - loss: 0.0071 - val_loss: 0.0071\n",
            "Epoch 90/200\n",
            "149/149 [==============================] - 1s 8ms/step - loss: 0.0070 - val_loss: 0.0076\n",
            "Epoch 91/200\n",
            "149/149 [==============================] - 1s 8ms/step - loss: 0.0071 - val_loss: 0.0074\n",
            "Epoch 92/200\n",
            "149/149 [==============================] - 1s 8ms/step - loss: 0.0069 - val_loss: 0.0072\n",
            "Epoch 93/200\n",
            "149/149 [==============================] - 1s 8ms/step - loss: 0.0075 - val_loss: 0.0076\n",
            "Epoch 94/200\n",
            "149/149 [==============================] - 1s 8ms/step - loss: 0.0073 - val_loss: 0.0074\n",
            "Epoch 95/200\n",
            "149/149 [==============================] - 1s 8ms/step - loss: 0.0076 - val_loss: 0.0073\n",
            "Epoch 96/200\n",
            "149/149 [==============================] - 1s 8ms/step - loss: 0.0071 - val_loss: 0.0075\n",
            "Epoch 97/200\n",
            "149/149 [==============================] - 1s 8ms/step - loss: 0.0073 - val_loss: 0.0079\n",
            "Epoch 98/200\n",
            "149/149 [==============================] - 1s 8ms/step - loss: 0.0072 - val_loss: 0.0078\n",
            "Epoch 99/200\n",
            "149/149 [==============================] - 1s 8ms/step - loss: 0.0069 - val_loss: 0.0078\n",
            "Epoch 100/200\n",
            "149/149 [==============================] - 1s 8ms/step - loss: 0.0070 - val_loss: 0.0074\n",
            "Epoch 101/200\n",
            "149/149 [==============================] - 1s 8ms/step - loss: 0.0074 - val_loss: 0.0078\n",
            "Epoch 102/200\n",
            "149/149 [==============================] - 1s 8ms/step - loss: 0.0068 - val_loss: 0.0074\n",
            "Epoch 103/200\n",
            "149/149 [==============================] - 1s 8ms/step - loss: 0.0070 - val_loss: 0.0076\n",
            "Epoch 104/200\n",
            "149/149 [==============================] - 1s 8ms/step - loss: 0.0072 - val_loss: 0.0075\n",
            "Epoch 105/200\n",
            "149/149 [==============================] - 1s 8ms/step - loss: 0.0069 - val_loss: 0.0079\n",
            "Epoch 106/200\n",
            "149/149 [==============================] - 1s 8ms/step - loss: 0.0068 - val_loss: 0.0077\n",
            "Epoch 107/200\n",
            "149/149 [==============================] - 1s 8ms/step - loss: 0.0069 - val_loss: 0.0074\n",
            "Epoch 108/200\n",
            "149/149 [==============================] - 1s 8ms/step - loss: 0.0064 - val_loss: 0.0080\n",
            "Epoch 109/200\n",
            "149/149 [==============================] - 1s 8ms/step - loss: 0.0069 - val_loss: 0.0082\n",
            "Epoch 110/200\n",
            "149/149 [==============================] - 1s 8ms/step - loss: 0.0071 - val_loss: 0.0073\n",
            "Epoch 111/200\n",
            "149/149 [==============================] - 1s 8ms/step - loss: 0.0071 - val_loss: 0.0077\n",
            "Epoch 112/200\n",
            "149/149 [==============================] - 1s 8ms/step - loss: 0.0066 - val_loss: 0.0079\n",
            "Epoch 113/200\n",
            "149/149 [==============================] - 1s 8ms/step - loss: 0.0067 - val_loss: 0.0082\n",
            "Epoch 114/200\n",
            "149/149 [==============================] - 1s 8ms/step - loss: 0.0071 - val_loss: 0.0082\n",
            "Epoch 115/200\n",
            "149/149 [==============================] - 1s 8ms/step - loss: 0.0067 - val_loss: 0.0084\n",
            "Epoch 116/200\n",
            "149/149 [==============================] - 1s 8ms/step - loss: 0.0070 - val_loss: 0.0077\n",
            "Epoch 117/200\n",
            "149/149 [==============================] - 1s 8ms/step - loss: 0.0066 - val_loss: 0.0081\n",
            "Epoch 118/200\n",
            "149/149 [==============================] - 1s 8ms/step - loss: 0.0065 - val_loss: 0.0085\n",
            "Epoch 119/200\n",
            "149/149 [==============================] - 1s 8ms/step - loss: 0.0064 - val_loss: 0.0076\n",
            "Epoch 120/200\n",
            "149/149 [==============================] - 1s 8ms/step - loss: 0.0068 - val_loss: 0.0081\n",
            "Epoch 121/200\n",
            "149/149 [==============================] - 1s 8ms/step - loss: 0.0068 - val_loss: 0.0078\n",
            "Epoch 122/200\n",
            "149/149 [==============================] - 1s 8ms/step - loss: 0.0065 - val_loss: 0.0079\n",
            "Epoch 123/200\n",
            "149/149 [==============================] - 1s 8ms/step - loss: 0.0063 - val_loss: 0.0082\n",
            "Epoch 124/200\n",
            "149/149 [==============================] - 1s 8ms/step - loss: 0.0065 - val_loss: 0.0080\n",
            "Epoch 125/200\n",
            "149/149 [==============================] - 1s 8ms/step - loss: 0.0065 - val_loss: 0.0083\n",
            "Epoch 126/200\n",
            "149/149 [==============================] - 1s 8ms/step - loss: 0.0066 - val_loss: 0.0084\n",
            "Epoch 127/200\n",
            "149/149 [==============================] - 1s 8ms/step - loss: 0.0067 - val_loss: 0.0079\n",
            "Epoch 128/200\n",
            "149/149 [==============================] - 1s 8ms/step - loss: 0.0066 - val_loss: 0.0081\n",
            "Epoch 129/200\n",
            "149/149 [==============================] - 1s 8ms/step - loss: 0.0065 - val_loss: 0.0080\n",
            "Epoch 130/200\n",
            "149/149 [==============================] - 1s 8ms/step - loss: 0.0062 - val_loss: 0.0088\n",
            "Epoch 131/200\n",
            "149/149 [==============================] - 1s 8ms/step - loss: 0.0060 - val_loss: 0.0078\n",
            "Epoch 132/200\n",
            "149/149 [==============================] - 1s 8ms/step - loss: 0.0062 - val_loss: 0.0086\n",
            "Epoch 133/200\n",
            "149/149 [==============================] - 1s 8ms/step - loss: 0.0062 - val_loss: 0.0083\n",
            "Epoch 134/200\n",
            "149/149 [==============================] - 1s 8ms/step - loss: 0.0066 - val_loss: 0.0084\n",
            "Epoch 135/200\n",
            "149/149 [==============================] - 1s 8ms/step - loss: 0.0067 - val_loss: 0.0078\n",
            "Epoch 136/200\n",
            "149/149 [==============================] - 1s 8ms/step - loss: 0.0064 - val_loss: 0.0081\n",
            "Epoch 137/200\n",
            "149/149 [==============================] - 1s 8ms/step - loss: 0.0068 - val_loss: 0.0083\n",
            "Epoch 138/200\n",
            "149/149 [==============================] - 1s 8ms/step - loss: 0.0062 - val_loss: 0.0088\n",
            "Epoch 139/200\n",
            "149/149 [==============================] - 1s 8ms/step - loss: 0.0066 - val_loss: 0.0084\n",
            "Epoch 140/200\n",
            "149/149 [==============================] - 1s 8ms/step - loss: 0.0059 - val_loss: 0.0094\n",
            "Epoch 141/200\n",
            "149/149 [==============================] - 1s 8ms/step - loss: 0.0070 - val_loss: 0.0079\n",
            "Epoch 142/200\n",
            "149/149 [==============================] - 1s 8ms/step - loss: 0.0063 - val_loss: 0.0095\n",
            "Epoch 143/200\n",
            "149/149 [==============================] - 1s 8ms/step - loss: 0.0064 - val_loss: 0.0086\n",
            "Epoch 144/200\n",
            "149/149 [==============================] - 1s 8ms/step - loss: 0.0062 - val_loss: 0.0088\n",
            "Epoch 145/200\n",
            "149/149 [==============================] - 1s 8ms/step - loss: 0.0061 - val_loss: 0.0092\n",
            "Epoch 146/200\n",
            "149/149 [==============================] - 1s 8ms/step - loss: 0.0063 - val_loss: 0.0082\n",
            "Epoch 147/200\n",
            "149/149 [==============================] - 1s 8ms/step - loss: 0.0063 - val_loss: 0.0084\n",
            "Epoch 148/200\n",
            "149/149 [==============================] - 1s 8ms/step - loss: 0.0061 - val_loss: 0.0088\n",
            "Epoch 149/200\n",
            "149/149 [==============================] - 1s 8ms/step - loss: 0.0062 - val_loss: 0.0084\n",
            "Epoch 150/200\n",
            "149/149 [==============================] - 1s 8ms/step - loss: 0.0058 - val_loss: 0.0086\n",
            "Epoch 151/200\n",
            "149/149 [==============================] - 1s 8ms/step - loss: 0.0060 - val_loss: 0.0097\n",
            "Epoch 152/200\n",
            "149/149 [==============================] - 1s 8ms/step - loss: 0.0058 - val_loss: 0.0087\n",
            "Epoch 153/200\n",
            "149/149 [==============================] - 1s 8ms/step - loss: 0.0062 - val_loss: 0.0087\n",
            "Epoch 154/200\n",
            "149/149 [==============================] - 1s 8ms/step - loss: 0.0060 - val_loss: 0.0089\n",
            "Epoch 155/200\n",
            "149/149 [==============================] - 1s 8ms/step - loss: 0.0056 - val_loss: 0.0092\n",
            "Epoch 156/200\n",
            "149/149 [==============================] - 1s 8ms/step - loss: 0.0058 - val_loss: 0.0093\n",
            "Epoch 157/200\n",
            "149/149 [==============================] - 1s 8ms/step - loss: 0.0064 - val_loss: 0.0091\n",
            "Epoch 158/200\n",
            "149/149 [==============================] - 1s 8ms/step - loss: 0.0062 - val_loss: 0.0094\n",
            "Epoch 159/200\n",
            "149/149 [==============================] - 1s 9ms/step - loss: 0.0059 - val_loss: 0.0095\n",
            "Epoch 160/200\n",
            "149/149 [==============================] - 1s 8ms/step - loss: 0.0058 - val_loss: 0.0094\n",
            "Epoch 161/200\n",
            "149/149 [==============================] - 1s 8ms/step - loss: 0.0057 - val_loss: 0.0090\n",
            "Epoch 162/200\n",
            "149/149 [==============================] - 1s 8ms/step - loss: 0.0061 - val_loss: 0.0085\n",
            "Epoch 163/200\n",
            "149/149 [==============================] - 1s 8ms/step - loss: 0.0060 - val_loss: 0.0088\n",
            "Epoch 164/200\n",
            "149/149 [==============================] - 1s 8ms/step - loss: 0.0058 - val_loss: 0.0092\n",
            "Epoch 165/200\n",
            "149/149 [==============================] - 1s 8ms/step - loss: 0.0051 - val_loss: 0.0091\n",
            "Epoch 166/200\n",
            "149/149 [==============================] - 1s 8ms/step - loss: 0.0055 - val_loss: 0.0089\n",
            "Epoch 167/200\n",
            "149/149 [==============================] - 1s 8ms/step - loss: 0.0057 - val_loss: 0.0093\n",
            "Epoch 168/200\n",
            "149/149 [==============================] - 1s 8ms/step - loss: 0.0057 - val_loss: 0.0088\n",
            "Epoch 169/200\n",
            "149/149 [==============================] - 1s 8ms/step - loss: 0.0058 - val_loss: 0.0093\n",
            "Epoch 170/200\n",
            "149/149 [==============================] - 1s 8ms/step - loss: 0.0055 - val_loss: 0.0092\n",
            "Epoch 171/200\n",
            "149/149 [==============================] - 1s 8ms/step - loss: 0.0053 - val_loss: 0.0090\n",
            "Epoch 172/200\n",
            "149/149 [==============================] - 1s 8ms/step - loss: 0.0054 - val_loss: 0.0099\n",
            "Epoch 173/200\n",
            "149/149 [==============================] - 1s 8ms/step - loss: 0.0054 - val_loss: 0.0098\n",
            "Epoch 174/200\n",
            "149/149 [==============================] - 1s 8ms/step - loss: 0.0053 - val_loss: 0.0097\n",
            "Epoch 175/200\n",
            "149/149 [==============================] - 1s 8ms/step - loss: 0.0053 - val_loss: 0.0099\n",
            "Epoch 176/200\n",
            "149/149 [==============================] - 1s 8ms/step - loss: 0.0055 - val_loss: 0.0095\n",
            "Epoch 177/200\n",
            "149/149 [==============================] - 1s 8ms/step - loss: 0.0054 - val_loss: 0.0093\n",
            "Epoch 178/200\n",
            "149/149 [==============================] - 1s 8ms/step - loss: 0.0054 - val_loss: 0.0109\n",
            "Epoch 179/200\n",
            "149/149 [==============================] - 1s 8ms/step - loss: 0.0051 - val_loss: 0.0107\n",
            "Epoch 180/200\n",
            "149/149 [==============================] - 1s 8ms/step - loss: 0.0049 - val_loss: 0.0104\n",
            "Epoch 181/200\n",
            "149/149 [==============================] - 1s 8ms/step - loss: 0.0051 - val_loss: 0.0094\n",
            "Epoch 182/200\n",
            "149/149 [==============================] - 1s 8ms/step - loss: 0.0054 - val_loss: 0.0104\n",
            "Epoch 183/200\n",
            "149/149 [==============================] - 1s 8ms/step - loss: 0.0049 - val_loss: 0.0105\n",
            "Epoch 184/200\n",
            "149/149 [==============================] - 1s 8ms/step - loss: 0.0051 - val_loss: 0.0096\n",
            "Epoch 185/200\n",
            "149/149 [==============================] - 1s 8ms/step - loss: 0.0050 - val_loss: 0.0103\n",
            "Epoch 186/200\n",
            "149/149 [==============================] - 1s 8ms/step - loss: 0.0047 - val_loss: 0.0103\n",
            "Epoch 187/200\n",
            "149/149 [==============================] - 1s 8ms/step - loss: 0.0053 - val_loss: 0.0099\n",
            "Epoch 188/200\n",
            "149/149 [==============================] - 1s 8ms/step - loss: 0.0050 - val_loss: 0.0111\n",
            "Epoch 189/200\n",
            "149/149 [==============================] - 1s 8ms/step - loss: 0.0048 - val_loss: 0.0100\n",
            "Epoch 190/200\n",
            "149/149 [==============================] - 1s 8ms/step - loss: 0.0049 - val_loss: 0.0098\n",
            "Epoch 191/200\n",
            "149/149 [==============================] - 1s 8ms/step - loss: 0.0048 - val_loss: 0.0108\n",
            "Epoch 192/200\n",
            "149/149 [==============================] - 1s 8ms/step - loss: 0.0049 - val_loss: 0.0097\n",
            "Epoch 193/200\n",
            "149/149 [==============================] - 1s 8ms/step - loss: 0.0048 - val_loss: 0.0105\n",
            "Epoch 194/200\n",
            "149/149 [==============================] - 1s 8ms/step - loss: 0.0048 - val_loss: 0.0108\n",
            "Epoch 195/200\n",
            "149/149 [==============================] - 1s 8ms/step - loss: 0.0055 - val_loss: 0.0103\n",
            "Epoch 196/200\n",
            "149/149 [==============================] - 1s 8ms/step - loss: 0.0046 - val_loss: 0.0107\n",
            "Epoch 197/200\n",
            "149/149 [==============================] - 1s 8ms/step - loss: 0.0046 - val_loss: 0.0104\n",
            "Epoch 198/200\n",
            "149/149 [==============================] - 1s 8ms/step - loss: 0.0047 - val_loss: 0.0108\n",
            "Epoch 199/200\n",
            "149/149 [==============================] - 1s 8ms/step - loss: 0.0048 - val_loss: 0.0106\n",
            "Epoch 200/200\n",
            "149/149 [==============================] - 1s 8ms/step - loss: 0.0046 - val_loss: 0.0117\n",
            "CPU times: user 4min 22s, sys: 16.3 s, total: 4min 38s\n",
            "Wall time: 4min 30s\n"
          ],
          "name": "stdout"
        }
      ]
    },
    {
      "cell_type": "code",
      "metadata": {
        "colab": {
          "base_uri": "https://localhost:8080/",
          "height": 334
        },
        "id": "4j3TrTE4UmXZ",
        "outputId": "8f4cae89-31f5-4bc4-d091-e4425638431a"
      },
      "source": [
        "plt.figure(figsize=(12,5))\n",
        "plt.plot(hist.history['loss'])\n",
        "plt.plot(hist.history['val_loss'])\n",
        "\n",
        "plt.ylabel('loss')\n",
        "plt.xlabel('epoch')\n",
        "plt.legend(['Train Loss', 'Valid Loss'], loc='upper right')\n",
        "plt.show()"
      ],
      "execution_count": 40,
      "outputs": [
        {
          "output_type": "display_data",
          "data": {
            "image/png": "[encoded data removed]",
            "text/plain": [
              "<Figure size 864x360 with 1 Axes>"
            ]
          },
          "metadata": {
            "tags": [],
            "needs_background": "light"
          }
        }
      ]
    },
    {
      "cell_type": "code",
      "metadata": {
        "colab": {
          "base_uri": "https://localhost:8080/"
        },
        "id": "W60bk6_aVOAm",
        "outputId": "11135b7a-38c9-4e48-d39f-1c2665ed0c93"
      },
      "source": [
        "trainScore = model.evaluate(train_X, train_y, verbose=0)\n",
        "print('Train Score:', trainScore)\n",
        "\n",
        "testScore = model.evaluate(test_X, test_y, verbose=0)\n",
        "print('Test Score:', testScore)"
      ],
      "execution_count": 41,
      "outputs": [
        {
          "output_type": "stream",
          "text": [
            "Train Score: 0.0044364118948578835\n",
            "Test Score: 0.011684225872159004\n"
          ],
          "name": "stdout"
        }
      ]
    },
    {
      "cell_type": "code",
      "metadata": {
        "colab": {
          "base_uri": "https://localhost:8080/",
          "height": 320
        },
        "id": "a5uT-067VeV1",
        "outputId": "0747123f-9b35-4522-a9d2-1f2f58f935a0"
      },
      "source": [
        "look_ahead = 550\n",
        "\n",
        "xhat = test_X[0]\n",
        "\n",
        "predictions = np.zeros((look_ahead, 1))\n",
        "\n",
        "for i in range(look_ahead):\n",
        "  prediction = model.predict(np.array([xhat]), batch_size=1)\n",
        "  predictions[i] = prediction\n",
        "  xhat = np.vstack([xhat[1:], prediction])\n",
        "\n",
        "plt.figure(figsize=(12,5))\n",
        "plt.plot(np.arange(look_ahead), predictions, 'r', label='prediction')\n",
        "plt.plot(np.arange(look_ahead), test_y[:look_ahead], label='Test_Data')\n",
        "plt.legend()\n",
        "plt.show()"
      ],
      "execution_count": 43,
      "outputs": [
        {
          "output_type": "display_data",
          "data": {
            "image/png": "[encoded data removed]",
            "text/plain": [
              "<Figure size 864x360 with 1 Axes>"
            ]
          },
          "metadata": {
            "tags": [],
            "needs_background": "light"
          }
        }
      ]
    },
    {
      "cell_type": "code",
      "metadata": {
        "id": "lExMvQH8WU_M"
      },
      "source": [
        ""
      ],
      "execution_count": null,
      "outputs": []
    }
  ]
}