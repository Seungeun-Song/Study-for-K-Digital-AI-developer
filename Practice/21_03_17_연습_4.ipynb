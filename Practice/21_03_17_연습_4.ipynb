{
  "nbformat": 4,
  "nbformat_minor": 0,
  "metadata": {
    "colab": {
      "name": "Untitled0.ipynb",
      "provenance": []
    },
    "kernelspec": {
      "name": "python3",
      "display_name": "Python 3"
    }
  },
  "cells": [
    {
      "cell_type": "code",
      "metadata": {
        "id": "uwdD7fLdNqo4"
      },
      "source": [
        "import numpy as np"
      ],
      "execution_count": 1,
      "outputs": []
    },
    {
      "cell_type": "code",
      "metadata": {
        "id": "vUI1VF11NtVT"
      },
      "source": [
        "def sigmoid(x):\r\n",
        "  y_hat = 1/(1+np.exp(-x))\r\n",
        "  return y_hat"
      ],
      "execution_count": 2,
      "outputs": []
    },
    {
      "cell_type": "code",
      "metadata": {
        "id": "Y4Ey9gPxNxvD"
      },
      "source": [
        "x=0\r\n",
        "y=1\r\n",
        "w=0.9\r\n",
        "b=0.2"
      ],
      "execution_count": 3,
      "outputs": []
    },
    {
      "cell_type": "code",
      "metadata": {
        "colab": {
          "base_uri": "https://localhost:8080/"
        },
        "id": "ne1hkULFN0dC",
        "outputId": "b24b607a-31d1-4990-9219-afdde75390e1"
      },
      "source": [
        "for i in range(1501):\r\n",
        "  y_hat = sigmoid(x*w + b)\r\n",
        "  error = y-y_hat\r\n",
        "\r\n",
        "  w = w + x * 0.1 * error\r\n",
        "  b = b + 1 * 0.1 * error\r\n",
        "\r\n",
        "  if i % 100 == 0:\r\n",
        "    print(i, error, y_hat)"
      ],
      "execution_count": 5,
      "outputs": [
        {
          "output_type": "stream",
          "text": [
            "0 0.45016600268752205 0.549833997312478\n",
            "100 0.0973578803025189 0.9026421196974811\n",
            "200 0.051001767235720585 0.9489982327642794\n",
            "300 0.03423372766866506 0.9657662723313349\n",
            "400 0.025687580437452562 0.9743124195625474\n",
            "500 0.020529203797572282 0.9794707962024277\n",
            "600 0.017084353843593636 0.9829156461564064\n",
            "700 0.014623551944150437 0.9853764480558496\n",
            "800 0.012779080847607371 0.9872209191523926\n",
            "900 0.011345789149502794 0.9886542108504972\n",
            "1000 0.01020031753515338 0.9897996824648466\n",
            "1100 0.009264083478147445 0.9907359165218526\n",
            "1200 0.008484679807654327 0.9915153201923457\n",
            "1300 0.007825826433493055 0.992174173566507\n",
            "1400 0.007261616816515382 0.9927383831834846\n",
            "1500 0.006773061510450762 0.9932269384895492\n"
          ],
          "name": "stdout"
        }
      ]
    },
    {
      "cell_type": "code",
      "metadata": {
        "id": "DIrQw9veOD40"
      },
      "source": [
        ""
      ],
      "execution_count": null,
      "outputs": []
    }
  ]
}