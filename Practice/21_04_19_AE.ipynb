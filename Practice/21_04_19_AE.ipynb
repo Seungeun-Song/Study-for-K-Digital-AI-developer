{
  "nbformat": 4,
  "nbformat_minor": 0,
  "metadata": {
    "colab": {
      "name": "Untitled0.ipynb",
      "provenance": []
    },
    "kernelspec": {
      "name": "python3",
      "display_name": "Python 3"
    },
    "language_info": {
      "name": "python"
    }
  },
  "cells": [
    {
      "cell_type": "code",
      "metadata": {
        "colab": {
          "base_uri": "https://localhost:8080/"
        },
        "id": "gY6zfycymKrU",
        "outputId": "b01413bb-faf3-438d-c920-320d10b358a6"
      },
      "source": [
        "from keras.datasets import mnist\n",
        "\n",
        "(X_train,_),(X_test,_) = mnist.load_data()"
      ],
      "execution_count": 1,
      "outputs": [
        {
          "output_type": "stream",
          "text": [
            "Downloading data from https://storage.googleapis.com/tensorflow/tf-keras-datasets/mnist.npz\n",
            "11493376/11490434 [==============================] - 0s 0us/step\n"
          ],
          "name": "stdout"
        }
      ]
    },
    {
      "cell_type": "code",
      "metadata": {
        "colab": {
          "base_uri": "https://localhost:8080/"
        },
        "id": "Lmw6wTCtmZUA",
        "outputId": "99a065de-1f2f-4c6e-91d3-6973696c9953"
      },
      "source": [
        "X_train.shape, X_test.shape"
      ],
      "execution_count": 2,
      "outputs": [
        {
          "output_type": "execute_result",
          "data": {
            "text/plain": [
              "((60000, 28, 28), (10000, 28, 28))"
            ]
          },
          "metadata": {
            "tags": []
          },
          "execution_count": 2
        }
      ]
    },
    {
      "cell_type": "code",
      "metadata": {
        "colab": {
          "base_uri": "https://localhost:8080/"
        },
        "id": "L-NXoFpRm6EV",
        "outputId": "5451c3ae-e6e2-4616-aaa5-47d763440310"
      },
      "source": [
        "X_train = X_train/255.\n",
        "X_test = X_test / 255.\n",
        "\n",
        "X_train = X_train.reshape(60000, 28*28)\n",
        "X_test = X_test.reshape(10000, 28*28)\n",
        "\n",
        "X_train.shape, X_test.shape"
      ],
      "execution_count": 3,
      "outputs": [
        {
          "output_type": "execute_result",
          "data": {
            "text/plain": [
              "((60000, 784), (10000, 784))"
            ]
          },
          "metadata": {
            "tags": []
          },
          "execution_count": 3
        }
      ]
    },
    {
      "cell_type": "code",
      "metadata": {
        "id": "C2PoX8bWoac8"
      },
      "source": [
        "encoding_dim = 32\n",
        "\n",
        "from keras import layers\n",
        "input_img = layers.Input(shape=(784,))\n",
        "\n",
        "encoded = layers.Dense(256, activation='relu')(input_img)\n",
        "encoded = layers.Dense(128, activation='relu')(encoded)\n",
        "encoded = layers.Dense(encoding_dim, activation='relu')(encoded)\n",
        "\n",
        "decoded = layers.Dense(128, activation='relu')(encoded)\n",
        "decoded = layers.Dense(256, activation='relu')(decoded)\n",
        "decoded = layers.Dense(784, activation='sigmoid')(decoded)\n",
        "\n",
        "from keras import models\n",
        "\n",
        "autoencoder = models.Model(input_img, decoded, name='autoencoder')\n",
        "encoder = models.Model(input_img, encoded, name='encoder')\n",
        "\n",
        "decoder_input = layers.Input(shape=(encoding_dim,))\n",
        "decoder_layer = autoencoder.layers[-3](decoder_input)\n",
        "decoder_layer = autoencoder.layers[-2](decoder_layer)\n",
        "decoder_layer = autoencoder.layers[-1](decoder_layer)\n",
        "\n",
        "decoder = models.Model(decoder_input, decoder_layer, name='decoder')"
      ],
      "execution_count": 4,
      "outputs": []
    },
    {
      "cell_type": "code",
      "metadata": {
        "colab": {
          "base_uri": "https://localhost:8080/"
        },
        "id": "sFOxyTzptPJ9",
        "outputId": "db45b637-4825-452c-980c-3f61b121233d"
      },
      "source": [
        "autoencoder.summary()"
      ],
      "execution_count": 5,
      "outputs": [
        {
          "output_type": "stream",
          "text": [
            "Model: \"autoencoder\"\n",
            "_________________________________________________________________\n",
            "Layer (type)                 Output Shape              Param #   \n",
            "=================================================================\n",
            "input_1 (InputLayer)         [(None, 784)]             0         \n",
            "_________________________________________________________________\n",
            "dense (Dense)                (None, 256)               200960    \n",
            "_________________________________________________________________\n",
            "dense_1 (Dense)              (None, 128)               32896     \n",
            "_________________________________________________________________\n",
            "dense_2 (Dense)              (None, 32)                4128      \n",
            "_________________________________________________________________\n",
            "dense_3 (Dense)              (None, 128)               4224      \n",
            "_________________________________________________________________\n",
            "dense_4 (Dense)              (None, 256)               33024     \n",
            "_________________________________________________________________\n",
            "dense_5 (Dense)              (None, 784)               201488    \n",
            "=================================================================\n",
            "Total params: 476,720\n",
            "Trainable params: 476,720\n",
            "Non-trainable params: 0\n",
            "_________________________________________________________________\n"
          ],
          "name": "stdout"
        }
      ]
    },
    {
      "cell_type": "code",
      "metadata": {
        "colab": {
          "base_uri": "https://localhost:8080/"
        },
        "id": "RDviqv52tRPZ",
        "outputId": "aecb6580-f84a-49a6-e5ac-7615ea84cabf"
      },
      "source": [
        "encoder.summary()"
      ],
      "execution_count": 6,
      "outputs": [
        {
          "output_type": "stream",
          "text": [
            "Model: \"encoder\"\n",
            "_________________________________________________________________\n",
            "Layer (type)                 Output Shape              Param #   \n",
            "=================================================================\n",
            "input_1 (InputLayer)         [(None, 784)]             0         \n",
            "_________________________________________________________________\n",
            "dense (Dense)                (None, 256)               200960    \n",
            "_________________________________________________________________\n",
            "dense_1 (Dense)              (None, 128)               32896     \n",
            "_________________________________________________________________\n",
            "dense_2 (Dense)              (None, 32)                4128      \n",
            "=================================================================\n",
            "Total params: 237,984\n",
            "Trainable params: 237,984\n",
            "Non-trainable params: 0\n",
            "_________________________________________________________________\n"
          ],
          "name": "stdout"
        }
      ]
    },
    {
      "cell_type": "code",
      "metadata": {
        "colab": {
          "base_uri": "https://localhost:8080/"
        },
        "id": "RgtgSRREtT9C",
        "outputId": "773b25f5-342b-4542-c7da-c6bef290335d"
      },
      "source": [
        "decoder.summary()"
      ],
      "execution_count": 7,
      "outputs": [
        {
          "output_type": "stream",
          "text": [
            "Model: \"decoder\"\n",
            "_________________________________________________________________\n",
            "Layer (type)                 Output Shape              Param #   \n",
            "=================================================================\n",
            "input_2 (InputLayer)         [(None, 32)]              0         \n",
            "_________________________________________________________________\n",
            "dense_3 (Dense)              (None, 128)               4224      \n",
            "_________________________________________________________________\n",
            "dense_4 (Dense)              (None, 256)               33024     \n",
            "_________________________________________________________________\n",
            "dense_5 (Dense)              (None, 784)               201488    \n",
            "=================================================================\n",
            "Total params: 238,736\n",
            "Trainable params: 238,736\n",
            "Non-trainable params: 0\n",
            "_________________________________________________________________\n"
          ],
          "name": "stdout"
        }
      ]
    },
    {
      "cell_type": "code",
      "metadata": {
        "id": "B5U2FnQatWCB"
      },
      "source": [
        "autoencoder.compile(loss='binary_crossentropy', optimizer='adam')"
      ],
      "execution_count": 8,
      "outputs": []
    },
    {
      "cell_type": "code",
      "metadata": {
        "colab": {
          "base_uri": "https://localhost:8080/"
        },
        "id": "Hf3yiCbLteGx",
        "outputId": "ddef4159-ba71-4209-93de-4cf67d2ea1c5"
      },
      "source": [
        "%%time\n",
        "autoencoder.fit(X_train, X_train, epochs=50, batch_size=1000, validation_data=(X_test, X_test))"
      ],
      "execution_count": 9,
      "outputs": [
        {
          "output_type": "stream",
          "text": [
            "Epoch 1/50\n",
            "60/60 [==============================] - 6s 84ms/step - loss: 0.4414 - val_loss: 0.2457\n",
            "Epoch 2/50\n",
            "60/60 [==============================] - 5s 75ms/step - loss: 0.2299 - val_loss: 0.1844\n",
            "Epoch 3/50\n",
            "60/60 [==============================] - 5s 76ms/step - loss: 0.1740 - val_loss: 0.1498\n",
            "Epoch 4/50\n",
            "60/60 [==============================] - 4s 75ms/step - loss: 0.1476 - val_loss: 0.1352\n",
            "Epoch 5/50\n",
            "60/60 [==============================] - 5s 76ms/step - loss: 0.1345 - val_loss: 0.1266\n",
            "Epoch 6/50\n",
            "60/60 [==============================] - 5s 76ms/step - loss: 0.1266 - val_loss: 0.1206\n",
            "Epoch 7/50\n",
            "60/60 [==============================] - 5s 75ms/step - loss: 0.1208 - val_loss: 0.1158\n",
            "Epoch 8/50\n",
            "60/60 [==============================] - 5s 76ms/step - loss: 0.1162 - val_loss: 0.1122\n",
            "Epoch 9/50\n",
            "60/60 [==============================] - 5s 76ms/step - loss: 0.1127 - val_loss: 0.1092\n",
            "Epoch 10/50\n",
            "60/60 [==============================] - 5s 76ms/step - loss: 0.1105 - val_loss: 0.1065\n",
            "Epoch 11/50\n",
            "60/60 [==============================] - 5s 75ms/step - loss: 0.1072 - val_loss: 0.1042\n",
            "Epoch 12/50\n",
            "60/60 [==============================] - 5s 76ms/step - loss: 0.1049 - val_loss: 0.1021\n",
            "Epoch 13/50\n",
            "60/60 [==============================] - 5s 75ms/step - loss: 0.1029 - val_loss: 0.1006\n",
            "Epoch 14/50\n",
            "60/60 [==============================] - 5s 76ms/step - loss: 0.1009 - val_loss: 0.0992\n",
            "Epoch 15/50\n",
            "60/60 [==============================] - 5s 76ms/step - loss: 0.0998 - val_loss: 0.0978\n",
            "Epoch 16/50\n",
            "60/60 [==============================] - 5s 75ms/step - loss: 0.0985 - val_loss: 0.0972\n",
            "Epoch 17/50\n",
            "60/60 [==============================] - 5s 76ms/step - loss: 0.0975 - val_loss: 0.0958\n",
            "Epoch 18/50\n",
            "60/60 [==============================] - 5s 76ms/step - loss: 0.0963 - val_loss: 0.0950\n",
            "Epoch 19/50\n",
            "60/60 [==============================] - 5s 75ms/step - loss: 0.0960 - val_loss: 0.0940\n",
            "Epoch 20/50\n",
            "60/60 [==============================] - 5s 76ms/step - loss: 0.0948 - val_loss: 0.0935\n",
            "Epoch 21/50\n",
            "60/60 [==============================] - 5s 76ms/step - loss: 0.0938 - val_loss: 0.0925\n",
            "Epoch 22/50\n",
            "60/60 [==============================] - 5s 75ms/step - loss: 0.0931 - val_loss: 0.0918\n",
            "Epoch 23/50\n",
            "60/60 [==============================] - 5s 76ms/step - loss: 0.0921 - val_loss: 0.0913\n",
            "Epoch 24/50\n",
            "60/60 [==============================] - 5s 76ms/step - loss: 0.0918 - val_loss: 0.0907\n",
            "Epoch 25/50\n",
            "60/60 [==============================] - 5s 76ms/step - loss: 0.0911 - val_loss: 0.0900\n",
            "Epoch 26/50\n",
            "60/60 [==============================] - 5s 76ms/step - loss: 0.0908 - val_loss: 0.0897\n",
            "Epoch 27/50\n",
            "60/60 [==============================] - 5s 76ms/step - loss: 0.0903 - val_loss: 0.0895\n",
            "Epoch 28/50\n",
            "60/60 [==============================] - 5s 76ms/step - loss: 0.0897 - val_loss: 0.0887\n",
            "Epoch 29/50\n",
            "60/60 [==============================] - 4s 75ms/step - loss: 0.0892 - val_loss: 0.0882\n",
            "Epoch 30/50\n",
            "60/60 [==============================] - 5s 76ms/step - loss: 0.0889 - val_loss: 0.0879\n",
            "Epoch 31/50\n",
            "60/60 [==============================] - 5s 76ms/step - loss: 0.0884 - val_loss: 0.0875\n",
            "Epoch 32/50\n",
            "60/60 [==============================] - 5s 75ms/step - loss: 0.0880 - val_loss: 0.0872\n",
            "Epoch 33/50\n",
            "60/60 [==============================] - 5s 76ms/step - loss: 0.0877 - val_loss: 0.0869\n",
            "Epoch 34/50\n",
            "60/60 [==============================] - 5s 76ms/step - loss: 0.0875 - val_loss: 0.0865\n",
            "Epoch 35/50\n",
            "60/60 [==============================] - 5s 76ms/step - loss: 0.0872 - val_loss: 0.0863\n",
            "Epoch 36/50\n",
            "60/60 [==============================] - 5s 76ms/step - loss: 0.0871 - val_loss: 0.0862\n",
            "Epoch 37/50\n",
            "60/60 [==============================] - 5s 76ms/step - loss: 0.0868 - val_loss: 0.0861\n",
            "Epoch 38/50\n",
            "60/60 [==============================] - 5s 75ms/step - loss: 0.0865 - val_loss: 0.0858\n",
            "Epoch 39/50\n",
            "60/60 [==============================] - 5s 75ms/step - loss: 0.0865 - val_loss: 0.0857\n",
            "Epoch 40/50\n",
            "60/60 [==============================] - 5s 76ms/step - loss: 0.0859 - val_loss: 0.0853\n",
            "Epoch 41/50\n",
            "60/60 [==============================] - 5s 76ms/step - loss: 0.0859 - val_loss: 0.0854\n",
            "Epoch 42/50\n",
            "60/60 [==============================] - 5s 76ms/step - loss: 0.0856 - val_loss: 0.0847\n",
            "Epoch 43/50\n",
            "60/60 [==============================] - 5s 76ms/step - loss: 0.0854 - val_loss: 0.0850\n",
            "Epoch 44/50\n",
            "60/60 [==============================] - 5s 77ms/step - loss: 0.0852 - val_loss: 0.0846\n",
            "Epoch 45/50\n",
            "60/60 [==============================] - 5s 76ms/step - loss: 0.0848 - val_loss: 0.0843\n",
            "Epoch 46/50\n",
            "60/60 [==============================] - 5s 77ms/step - loss: 0.0846 - val_loss: 0.0842\n",
            "Epoch 47/50\n",
            "60/60 [==============================] - 5s 77ms/step - loss: 0.0847 - val_loss: 0.0844\n",
            "Epoch 48/50\n",
            "60/60 [==============================] - 5s 76ms/step - loss: 0.0845 - val_loss: 0.0838\n",
            "Epoch 49/50\n",
            "60/60 [==============================] - 5s 76ms/step - loss: 0.0840 - val_loss: 0.0836\n",
            "Epoch 50/50\n",
            "60/60 [==============================] - 5s 76ms/step - loss: 0.0841 - val_loss: 0.0836\n",
            "CPU times: user 6min 33s, sys: 10.9 s, total: 6min 44s\n",
            "Wall time: 3min 48s\n"
          ],
          "name": "stdout"
        },
        {
          "output_type": "execute_result",
          "data": {
            "text/plain": [
              "<tensorflow.python.keras.callbacks.History at 0x7fca8d947610>"
            ]
          },
          "metadata": {
            "tags": []
          },
          "execution_count": 9
        }
      ]
    },
    {
      "cell_type": "code",
      "metadata": {
        "colab": {
          "base_uri": "https://localhost:8080/"
        },
        "id": "AJ4Ugp13tqcc",
        "outputId": "316a4d56-1224-4f46-d6a6-db13d06f5d64"
      },
      "source": [
        "encoded_imgs = encoder.predict(X_test)\n",
        "print(encoded_imgs.shape, len(encoded_imgs), encoded_imgs[0])"
      ],
      "execution_count": 11,
      "outputs": [
        {
          "output_type": "stream",
          "text": [
            "(10000, 32) 10000 [ 8.8629875  9.919774   0.         7.2491484  8.809878   8.696881\n",
            "  9.722704   9.415477   0.         5.208844  11.446447   8.707465\n",
            " 13.800334   9.674056  11.583031   3.429469   8.720754  14.320568\n",
            " 13.570595   0.         3.428358   8.200611   6.0746155  8.166396\n",
            " 17.217205   7.04448    8.920091  14.616134  11.315778  10.178352\n",
            "  7.62331    3.8457732]\n"
          ],
          "name": "stdout"
        }
      ]
    },
    {
      "cell_type": "code",
      "metadata": {
        "colab": {
          "base_uri": "https://localhost:8080/"
        },
        "id": "76_I-mbxt39K",
        "outputId": "e5debc6a-f4f9-4a40-f81b-b2b1b8ce160f"
      },
      "source": [
        "decoded_imgs = decoder.predict(encoded_imgs)\n",
        "decoded_imgs.shape"
      ],
      "execution_count": 12,
      "outputs": [
        {
          "output_type": "execute_result",
          "data": {
            "text/plain": [
              "(10000, 784)"
            ]
          },
          "metadata": {
            "tags": []
          },
          "execution_count": 12
        }
      ]
    },
    {
      "cell_type": "code",
      "metadata": {
        "colab": {
          "base_uri": "https://localhost:8080/",
          "height": 248
        },
        "id": "p1nro8p7umts",
        "outputId": "b966cfd8-6b94-4e1f-ab0f-3af5f275d73b"
      },
      "source": [
        "import matplotlib.pyplot as plt\n",
        "\n",
        "n=10\n",
        "\n",
        "plt.figure(figsize=(20,4))\n",
        "for i in range(n):\n",
        "  ax = plt.subplot(2,n,i+1)\n",
        "  plt.imshow(X_test[i].reshape(28,28))\n",
        "  plt.gray()\n",
        "  ax.get_xaxis().set_visible(False)\n",
        "  ax.get_yaxis().set_visible(False)\n",
        "\n",
        "  ax = plt.subplot(2,n,i+1+n)\n",
        "  plt.imshow(decoded_imgs[i].reshape(28,28))\n",
        "  plt.gray()\n",
        "  ax.get_xaxis().set_visible(False)\n",
        "  ax.get_yaxis()\n",
        "\n",
        "plt.show()"
      ],
      "execution_count": 13,
      "outputs": [
        {
          "output_type": "display_data",
          "data": {
            "image/png": "[encoded data removed]",
            "text/plain": [
              "<Figure size 1440x288 with 20 Axes>"
            ]
          },
          "metadata": {
            "tags": [],
            "needs_background": "light"
          }
        }
      ]
    },
    {
      "cell_type": "code",
      "metadata": {
        "id": "mL9LfPlMv6oy"
      },
      "source": [
        ""
      ],
      "execution_count": null,
      "outputs": []
    }
  ]
}