{
  "nbformat": 4,
  "nbformat_minor": 0,
  "metadata": {
    "colab": {
      "name": "Untitled0.ipynb",
      "provenance": []
    },
    "kernelspec": {
      "name": "python3",
      "display_name": "Python 3"
    },
    "language_info": {
      "name": "python"
    },
    "accelerator": "GPU"
  },
  "cells": [
    {
      "cell_type": "code",
      "metadata": {
        "colab": {
          "base_uri": "https://localhost:8080/",
          "height": 35
        },
        "id": "Vk8p9P5gj2e3",
        "outputId": "6e1d0568-0154-403b-b58f-2e21fe66d5ae"
      },
      "source": [
        "import tensorflow as tf\n",
        "tf.test.gpu_device_name()"
      ],
      "execution_count": null,
      "outputs": [
        {
          "output_type": "execute_result",
          "data": {
            "application/vnd.google.colaboratory.intrinsic+json": {
              "type": "string"
            },
            "text/plain": [
              "'/device:GPU:0'"
            ]
          },
          "metadata": {
            "tags": []
          },
          "execution_count": 2
        }
      ]
    },
    {
      "cell_type": "code",
      "metadata": {
        "colab": {
          "base_uri": "https://localhost:8080/"
        },
        "id": "2lAEcWePj9B_",
        "outputId": "45bac116-4375-43e5-e4d8-b00f491f622e"
      },
      "source": [
        "!nvidia-smi"
      ],
      "execution_count": null,
      "outputs": [
        {
          "output_type": "stream",
          "text": [
            "Sun Mar 28 11:20:28 2021       \n",
            "+-----------------------------------------------------------------------------+\n",
            "| NVIDIA-SMI 460.56       Driver Version: 460.32.03    CUDA Version: 11.2     |\n",
            "|-------------------------------+----------------------+----------------------+\n",
            "| GPU  Name        Persistence-M| Bus-Id        Disp.A | Volatile Uncorr. ECC |\n",
            "| Fan  Temp  Perf  Pwr:Usage/Cap|         Memory-Usage | GPU-Util  Compute M. |\n",
            "|                               |                      |               MIG M. |\n",
            "|===============================+======================+======================|\n",
            "|   0  Tesla T4            Off  | 00000000:00:04.0 Off |                    0 |\n",
            "| N/A   40C    P0    27W /  70W |    222MiB / 15109MiB |      0%      Default |\n",
            "|                               |                      |                  N/A |\n",
            "+-------------------------------+----------------------+----------------------+\n",
            "                                                                               \n",
            "+-----------------------------------------------------------------------------+\n",
            "| Processes:                                                                  |\n",
            "|  GPU   GI   CI        PID   Type   Process name                  GPU Memory |\n",
            "|        ID   ID                                                   Usage      |\n",
            "|=============================================================================|\n",
            "+-----------------------------------------------------------------------------+\n"
          ],
          "name": "stdout"
        }
      ]
    },
    {
      "cell_type": "code",
      "metadata": {
        "colab": {
          "base_uri": "https://localhost:8080/",
          "height": 35
        },
        "id": "wpeGjB6TkDlw",
        "outputId": "5a3a4f76-2665-478f-a39d-1b4aa7fd4b41"
      },
      "source": [
        "import keras\n",
        "keras.__version__"
      ],
      "execution_count": null,
      "outputs": [
        {
          "output_type": "execute_result",
          "data": {
            "application/vnd.google.colaboratory.intrinsic+json": {
              "type": "string"
            },
            "text/plain": [
              "'2.4.3'"
            ]
          },
          "metadata": {
            "tags": []
          },
          "execution_count": 4
        }
      ]
    },
    {
      "cell_type": "code",
      "metadata": {
        "colab": {
          "base_uri": "https://localhost:8080/"
        },
        "id": "QbxmmR3EkLvn",
        "outputId": "b4ec7018-1a06-4ebd-eaa9-8310da00478d"
      },
      "source": [
        "from keras.datasets import imdb\n",
        "\n",
        "(train_data, train_labels),(test_data, test_labels) = imdb.load_data(num_words=10000)"
      ],
      "execution_count": null,
      "outputs": [
        {
          "output_type": "stream",
          "text": [
            "<string>:6: VisibleDeprecationWarning: Creating an ndarray from ragged nested sequences (which is a list-or-tuple of lists-or-tuples-or ndarrays with different lengths or shapes) is deprecated. If you meant to do this, you must specify 'dtype=object' when creating the ndarray\n",
            "/usr/local/lib/python3.7/dist-packages/tensorflow/python/keras/datasets/imdb.py:159: VisibleDeprecationWarning: Creating an ndarray from ragged nested sequences (which is a list-or-tuple of lists-or-tuples-or ndarrays with different lengths or shapes) is deprecated. If you meant to do this, you must specify 'dtype=object' when creating the ndarray\n",
            "  x_train, y_train = np.array(xs[:idx]), np.array(labels[:idx])\n",
            "/usr/local/lib/python3.7/dist-packages/tensorflow/python/keras/datasets/imdb.py:160: VisibleDeprecationWarning: Creating an ndarray from ragged nested sequences (which is a list-or-tuple of lists-or-tuples-or ndarrays with different lengths or shapes) is deprecated. If you meant to do this, you must specify 'dtype=object' when creating the ndarray\n",
            "  x_test, y_test = np.array(xs[idx:]), np.array(labels[idx:])\n"
          ],
          "name": "stderr"
        }
      ]
    },
    {
      "cell_type": "code",
      "metadata": {
        "colab": {
          "base_uri": "https://localhost:8080/"
        },
        "id": "v3Ao0--JpdbI",
        "outputId": "c7363aa4-8106-429b-db58-e2b5f1827a45"
      },
      "source": [
        "print(train_data.shape, train_labels.shape)\n",
        "print(test_data.shape, test_labels.shape)"
      ],
      "execution_count": null,
      "outputs": [
        {
          "output_type": "stream",
          "text": [
            "(25000,) (25000,)\n",
            "(25000,) (25000,)\n"
          ],
          "name": "stdout"
        }
      ]
    },
    {
      "cell_type": "code",
      "metadata": {
        "colab": {
          "base_uri": "https://localhost:8080/"
        },
        "id": "CMh-xa8LsHYA",
        "outputId": "9552fd07-f06e-4202-94c4-a0f4f5c902f8"
      },
      "source": [
        "train_data[:3]"
      ],
      "execution_count": 40,
      "outputs": [
        {
          "output_type": "execute_result",
          "data": {
            "text/plain": [
              "array([list([1, 14, 22, 16, 43, 530, 973, 1622, 1385, 65, 458, 4468, 66, 3941, 4, 173, 36, 256, 5, 25, 100, 43, 838, 112, 50, 670, 2, 9, 35, 480, 284, 5, 150, 4, 172, 112, 167, 2, 336, 385, 39, 4, 172, 4536, 1111, 17, 546, 38, 13, 447, 4, 192, 50, 16, 6, 147, 2025, 19, 14, 22, 4, 1920, 4613, 469, 4, 22, 71, 87, 12, 16, 43, 530, 38, 76, 15, 13, 1247, 4, 22, 17, 515, 17, 12, 16, 626, 18, 2, 5, 62, 386, 12, 8, 316, 8, 106, 5, 4, 2223, 5244, 16, 480, 66, 3785, 33, 4, 130, 12, 16, 38, 619, 5, 25, 124, 51, 36, 135, 48, 25, 1415, 33, 6, 22, 12, 215, 28, 77, 52, 5, 14, 407, 16, 82, 2, 8, 4, 107, 117, 5952, 15, 256, 4, 2, 7, 3766, 5, 723, 36, 71, 43, 530, 476, 26, 400, 317, 46, 7, 4, 2, 1029, 13, 104, 88, 4, 381, 15, 297, 98, 32, 2071, 56, 26, 141, 6, 194, 7486, 18, 4, 226, 22, 21, 134, 476, 26, 480, 5, 144, 30, 5535, 18, 51, 36, 28, 224, 92, 25, 104, 4, 226, 65, 16, 38, 1334, 88, 12, 16, 283, 5, 16, 4472, 113, 103, 32, 15, 16, 5345, 19, 178, 32]),\n",
              "       list([1, 194, 1153, 194, 8255, 78, 228, 5, 6, 1463, 4369, 5012, 134, 26, 4, 715, 8, 118, 1634, 14, 394, 20, 13, 119, 954, 189, 102, 5, 207, 110, 3103, 21, 14, 69, 188, 8, 30, 23, 7, 4, 249, 126, 93, 4, 114, 9, 2300, 1523, 5, 647, 4, 116, 9, 35, 8163, 4, 229, 9, 340, 1322, 4, 118, 9, 4, 130, 4901, 19, 4, 1002, 5, 89, 29, 952, 46, 37, 4, 455, 9, 45, 43, 38, 1543, 1905, 398, 4, 1649, 26, 6853, 5, 163, 11, 3215, 2, 4, 1153, 9, 194, 775, 7, 8255, 2, 349, 2637, 148, 605, 2, 8003, 15, 123, 125, 68, 2, 6853, 15, 349, 165, 4362, 98, 5, 4, 228, 9, 43, 2, 1157, 15, 299, 120, 5, 120, 174, 11, 220, 175, 136, 50, 9, 4373, 228, 8255, 5, 2, 656, 245, 2350, 5, 4, 9837, 131, 152, 491, 18, 2, 32, 7464, 1212, 14, 9, 6, 371, 78, 22, 625, 64, 1382, 9, 8, 168, 145, 23, 4, 1690, 15, 16, 4, 1355, 5, 28, 6, 52, 154, 462, 33, 89, 78, 285, 16, 145, 95]),\n",
              "       list([1, 14, 47, 8, 30, 31, 7, 4, 249, 108, 7, 4, 5974, 54, 61, 369, 13, 71, 149, 14, 22, 112, 4, 2401, 311, 12, 16, 3711, 33, 75, 43, 1829, 296, 4, 86, 320, 35, 534, 19, 263, 4821, 1301, 4, 1873, 33, 89, 78, 12, 66, 16, 4, 360, 7, 4, 58, 316, 334, 11, 4, 1716, 43, 645, 662, 8, 257, 85, 1200, 42, 1228, 2578, 83, 68, 3912, 15, 36, 165, 1539, 278, 36, 69, 2, 780, 8, 106, 14, 6905, 1338, 18, 6, 22, 12, 215, 28, 610, 40, 6, 87, 326, 23, 2300, 21, 23, 22, 12, 272, 40, 57, 31, 11, 4, 22, 47, 6, 2307, 51, 9, 170, 23, 595, 116, 595, 1352, 13, 191, 79, 638, 89, 2, 14, 9, 8, 106, 607, 624, 35, 534, 6, 227, 7, 129, 113])],\n",
              "      dtype=object)"
            ]
          },
          "metadata": {
            "tags": []
          },
          "execution_count": 40
        }
      ]
    },
    {
      "cell_type": "code",
      "metadata": {
        "id": "KVzgcy6ekfgc"
      },
      "source": [
        "for w in train_data:\n",
        "  print(max(w), len(w),w)\n",
        "print(max(max(w)))"
      ],
      "execution_count": null,
      "outputs": []
    },
    {
      "cell_type": "code",
      "metadata": {
        "colab": {
          "base_uri": "https://localhost:8080/"
        },
        "id": "6vVAbZwFm37B",
        "outputId": "a1324e9e-7e34-4d37-f462-ffe04c90fcc8"
      },
      "source": [
        "max(max(w) for w in train_data) # 가장 큰 (단어의 인덱스)/ 즉 가장 끝단어의 인덱스(번호)"
      ],
      "execution_count": null,
      "outputs": [
        {
          "output_type": "execute_result",
          "data": {
            "text/plain": [
              "88586"
            ]
          },
          "metadata": {
            "tags": []
          },
          "execution_count": 21
        }
      ]
    },
    {
      "cell_type": "code",
      "metadata": {
        "colab": {
          "base_uri": "https://localhost:8080/"
        },
        "id": "NPA-mA8znesJ",
        "outputId": "9a141234-0c39-4e83-9943-3c05b235b9d9"
      },
      "source": [
        "max(map(max, train_data))"
      ],
      "execution_count": null,
      "outputs": [
        {
          "output_type": "execute_result",
          "data": {
            "text/plain": [
              "88586"
            ]
          },
          "metadata": {
            "tags": []
          },
          "execution_count": 23
        }
      ]
    },
    {
      "cell_type": "code",
      "metadata": {
        "colab": {
          "base_uri": "https://localhost:8080/",
          "height": 426
        },
        "id": "zMmKxXLvkmwq",
        "outputId": "24bcfd67-c4d5-4d3b-b823-fad3990e1351"
      },
      "source": [
        "import matplotlib.pyplot as plt\n",
        "\n",
        "print('리뷰 최대 길이 :', max(len(l) for l in train_data))\n",
        "print('리뷰 평균 길이 :', sum(map(len, train_data))/len(train_data))\n",
        "\n",
        "plt.figure(figsize=(9,6))\n",
        "plt.hist([len(l) for l in train_data], bins=50)\n",
        "plt.xlabel('Length of train_data')\n",
        "plt.ylabel('Number of train_data')\n",
        "plt.show()\n"
      ],
      "execution_count": null,
      "outputs": [
        {
          "output_type": "stream",
          "text": [
            "리뷰 최대 길이 : 2494\n",
            "리뷰 평균 길이 : 238.71364\n"
          ],
          "name": "stdout"
        },
        {
          "output_type": "display_data",
          "data": {
            "image/png": "[encoded data removed]",
            "text/plain": [
              "<Figure size 648x432 with 1 Axes>"
            ]
          },
          "metadata": {
            "tags": [],
            "needs_background": "light"
          }
        }
      ]
    },
    {
      "cell_type": "code",
      "metadata": {
        "colab": {
          "base_uri": "https://localhost:8080/"
        },
        "id": "QJVK2LYVlt4Q",
        "outputId": "3c938766-ad2b-4d96-c8e0-5ea98b24a9b8"
      },
      "source": [
        "import numpy as np\n",
        "\n",
        "unique_elements, counts_elements = np.unique(train_labels, return_counts=True)\n",
        "\n",
        "print('Label 빈도수 :')\n",
        "print(np.asarray((unique_elements, counts_elements)))"
      ],
      "execution_count": null,
      "outputs": [
        {
          "output_type": "stream",
          "text": [
            "Label 빈도수 :\n",
            "[[    0     1]\n",
            " [12500 12500]]\n"
          ],
          "name": "stdout"
        }
      ]
    },
    {
      "cell_type": "code",
      "metadata": {
        "colab": {
          "base_uri": "https://localhost:8080/"
        },
        "id": "Bqibp-gqoJO_",
        "outputId": "dd034907-ff9b-472a-919c-dc14f23a6360"
      },
      "source": [
        "print(len(train_data))\n",
        "\n",
        "print(len(train_data[0]))\n",
        "print(train_data[0][:10])\n",
        "print(train_data[0].count(4))\n",
        "print(train_labels[0])"
      ],
      "execution_count": null,
      "outputs": [
        {
          "output_type": "stream",
          "text": [
            "25000\n",
            "218\n",
            "[1, 14, 22, 16, 43, 530, 973, 1622, 1385, 65]\n",
            "15\n",
            "1\n"
          ],
          "name": "stdout"
        }
      ]
    },
    {
      "cell_type": "code",
      "metadata": {
        "colab": {
          "base_uri": "https://localhost:8080/"
        },
        "id": "gBIeEUL-o6zl",
        "outputId": "91309e33-f651-4109-abb9-7617a3450021"
      },
      "source": [
        "train_labels"
      ],
      "execution_count": null,
      "outputs": [
        {
          "output_type": "execute_result",
          "data": {
            "text/plain": [
              "array([1, 0, 0, ..., 0, 1, 0])"
            ]
          },
          "metadata": {
            "tags": []
          },
          "execution_count": 38
        }
      ]
    },
    {
      "cell_type": "code",
      "metadata": {
        "id": "tCmj2SuqpG2D"
      },
      "source": [
        "import numpy as np\n",
        "\n",
        "def vectorize_sequences(sequences, dimension = 10000):\n",
        "  results = np.zeros((len(sequences), dimension))  # train_data행, dimension열\n",
        "  for i, sequences in enumerate(sequences):\n",
        "    results[i, sequences] = 1.0\n",
        "  return results\n",
        "  "
      ],
      "execution_count": 41,
      "outputs": []
    },
    {
      "cell_type": "code",
      "metadata": {
        "colab": {
          "base_uri": "https://localhost:8080/"
        },
        "id": "9ClTwlhlsaoH",
        "outputId": "2f056437-5dac-4a2b-fed7-a47fbfcfee0f"
      },
      "source": [
        "r = np.zeros((5,10))\n",
        "v = [1,3,5,7,9]\n",
        "\n",
        "for i, v in enumerate(v):\n",
        "  r[i, v] = 1.0\n",
        "  print(i,v)\n",
        "print(r)"
      ],
      "execution_count": 44,
      "outputs": [
        {
          "output_type": "stream",
          "text": [
            "0 1\n",
            "1 3\n",
            "2 5\n",
            "3 7\n",
            "4 9\n",
            "[[0. 1. 0. 0. 0. 0. 0. 0. 0. 0.]\n",
            " [0. 0. 0. 1. 0. 0. 0. 0. 0. 0.]\n",
            " [0. 0. 0. 0. 0. 1. 0. 0. 0. 0.]\n",
            " [0. 0. 0. 0. 0. 0. 0. 1. 0. 0.]\n",
            " [0. 0. 0. 0. 0. 0. 0. 0. 0. 1.]]\n"
          ],
          "name": "stdout"
        }
      ]
    },
    {
      "cell_type": "code",
      "metadata": {
        "colab": {
          "base_uri": "https://localhost:8080/"
        },
        "id": "x-2BgCFYstKJ",
        "outputId": "be627c9e-e0a0-4f92-d8fd-c5e76e87a048"
      },
      "source": [
        "X_train = vectorize_sequences(train_data)\n",
        "X_test = vectorize_sequences(test_data)\n",
        "\n",
        "X_train.shape,  X_test.shape"
      ],
      "execution_count": 45,
      "outputs": [
        {
          "output_type": "execute_result",
          "data": {
            "text/plain": [
              "((25000, 10000), (25000, 10000))"
            ]
          },
          "metadata": {
            "tags": []
          },
          "execution_count": 45
        }
      ]
    },
    {
      "cell_type": "code",
      "metadata": {
        "colab": {
          "base_uri": "https://localhost:8080/"
        },
        "id": "5JPjw7BntbSN",
        "outputId": "c51fa1ae-1aba-4afc-b1d3-17819d6c6cdf"
      },
      "source": [
        "print(X_train[0][:21])\n",
        "print(X_train[0][9979:])"
      ],
      "execution_count": 46,
      "outputs": [
        {
          "output_type": "stream",
          "text": [
            "[0. 1. 1. 0. 1. 1. 1. 1. 1. 1. 0. 0. 1. 1. 1. 1. 1. 1. 1. 1. 0.]\n",
            "[0. 0. 0. 0. 0. 0. 0. 0. 0. 0. 0. 0. 0. 0. 0. 0. 0. 0. 0. 0. 0.]\n"
          ],
          "name": "stdout"
        }
      ]
    },
    {
      "cell_type": "code",
      "metadata": {
        "colab": {
          "base_uri": "https://localhost:8080/"
        },
        "id": "QdqAW0kqtiHp",
        "outputId": "695810b0-cc51-42d9-88d0-db100fec159d"
      },
      "source": [
        "y_train = np.asarray(train_labels).astype(float)\n",
        "y_test = np.asarray(test_labels).astype(float)\n",
        "\n",
        "print(y_train[:21])\n",
        "print(y_train.shape)\n",
        "print(type(y_train))\n",
        "print(train_labels[:21])"
      ],
      "execution_count": 49,
      "outputs": [
        {
          "output_type": "stream",
          "text": [
            "[1. 0. 0. 1. 0. 0. 1. 0. 1. 0. 1. 0. 0. 0. 0. 0. 1. 1. 0. 1. 0.]\n",
            "(25000,)\n",
            "<class 'numpy.ndarray'>\n",
            "[1 0 0 1 0 0 1 0 1 0 1 0 0 0 0 0 1 1 0 1 0]\n"
          ],
          "name": "stdout"
        }
      ]
    },
    {
      "cell_type": "code",
      "metadata": {
        "colab": {
          "base_uri": "https://localhost:8080/"
        },
        "id": "3qFW4957t7Fx",
        "outputId": "d66ec94c-b703-4557-c2ec-b4d7f36f231b"
      },
      "source": [
        "X_valid = X_train[:10000]\n",
        "partial_X_train = X_train[10000:]\n",
        "\n",
        "y_valid = y_train[:10000]\n",
        "partial_y_train = y_train[10000:]\n",
        "\n",
        "partial_X_train.shape, partial_y_train.shape, X_valid.shape, y_valid.shape"
      ],
      "execution_count": 51,
      "outputs": [
        {
          "output_type": "execute_result",
          "data": {
            "text/plain": [
              "((15000, 10000), (15000,), (10000, 10000), (10000,))"
            ]
          },
          "metadata": {
            "tags": []
          },
          "execution_count": 51
        }
      ]
    },
    {
      "cell_type": "code",
      "metadata": {
        "colab": {
          "base_uri": "https://localhost:8080/"
        },
        "id": "FIOtSnayukkQ",
        "outputId": "05421890-01b1-45f1-f56e-edfd078f766f"
      },
      "source": [
        "from keras import models, layers\n",
        "\n",
        "imdb = models.Sequential()\n",
        "imdb.add(layers.Dense(16, activation='relu', input_shape=(10000,)))\n",
        "imdb.add(layers.Dense(18, activation='relu'))\n",
        "imdb.add(layers.Dense(1, activation='sigmoid'))\n",
        "\n",
        "imdb.summary()"
      ],
      "execution_count": 56,
      "outputs": [
        {
          "output_type": "stream",
          "text": [
            "Model: \"sequential_3\"\n",
            "_________________________________________________________________\n",
            "Layer (type)                 Output Shape              Param #   \n",
            "=================================================================\n",
            "dense_7 (Dense)              (None, 16)                160016    \n",
            "_________________________________________________________________\n",
            "dense_8 (Dense)              (None, 18)                306       \n",
            "_________________________________________________________________\n",
            "dense_9 (Dense)              (None, 1)                 19        \n",
            "=================================================================\n",
            "Total params: 160,341\n",
            "Trainable params: 160,341\n",
            "Non-trainable params: 0\n",
            "_________________________________________________________________\n"
          ],
          "name": "stdout"
        }
      ]
    },
    {
      "cell_type": "code",
      "metadata": {
        "colab": {
          "base_uri": "https://localhost:8080/"
        },
        "id": "1aaxUoT4u8ch",
        "outputId": "f65a35ef-4149-46fd-9278-ec0e3dfea9da"
      },
      "source": [
        "imdb.compile(loss='binary_crossentropy', optimizer='Adam', metrics=['accuracy'])\n",
        "Hist = imdb.fit(partial_X_train, partial_y_train, epochs=50, batch_size=512, validation_data=(X_valid, y_valid))"
      ],
      "execution_count": 58,
      "outputs": [
        {
          "output_type": "stream",
          "text": [
            "Epoch 1/50\n",
            "30/30 [==============================] - 1s 28ms/step - loss: 2.4895e-04 - accuracy: 1.0000 - val_loss: 1.0891 - val_accuracy: 0.8640\n",
            "Epoch 2/50\n",
            "30/30 [==============================] - 1s 19ms/step - loss: 1.4624e-04 - accuracy: 1.0000 - val_loss: 1.1597 - val_accuracy: 0.8626\n",
            "Epoch 3/50\n",
            "30/30 [==============================] - 1s 19ms/step - loss: 8.9197e-05 - accuracy: 1.0000 - val_loss: 1.2150 - val_accuracy: 0.8634\n",
            "Epoch 4/50\n",
            "30/30 [==============================] - 1s 19ms/step - loss: 5.1921e-05 - accuracy: 1.0000 - val_loss: 1.2553 - val_accuracy: 0.8626\n",
            "Epoch 5/50\n",
            "30/30 [==============================] - 1s 18ms/step - loss: 3.6810e-05 - accuracy: 1.0000 - val_loss: 1.2876 - val_accuracy: 0.8623\n",
            "Epoch 6/50\n",
            "30/30 [==============================] - 1s 19ms/step - loss: 3.0530e-05 - accuracy: 1.0000 - val_loss: 1.3140 - val_accuracy: 0.8625\n",
            "Epoch 7/50\n",
            "30/30 [==============================] - 1s 18ms/step - loss: 2.5783e-05 - accuracy: 1.0000 - val_loss: 1.3385 - val_accuracy: 0.8624\n",
            "Epoch 8/50\n",
            "30/30 [==============================] - 1s 18ms/step - loss: 1.9053e-05 - accuracy: 1.0000 - val_loss: 1.3608 - val_accuracy: 0.8622\n",
            "Epoch 9/50\n",
            "30/30 [==============================] - 1s 18ms/step - loss: 1.6634e-05 - accuracy: 1.0000 - val_loss: 1.3823 - val_accuracy: 0.8624\n",
            "Epoch 10/50\n",
            "30/30 [==============================] - 1s 18ms/step - loss: 1.4631e-05 - accuracy: 1.0000 - val_loss: 1.4011 - val_accuracy: 0.8625\n",
            "Epoch 11/50\n",
            "30/30 [==============================] - 1s 18ms/step - loss: 1.2411e-05 - accuracy: 1.0000 - val_loss: 1.4175 - val_accuracy: 0.8626\n",
            "Epoch 12/50\n",
            "30/30 [==============================] - 1s 19ms/step - loss: 9.8682e-06 - accuracy: 1.0000 - val_loss: 1.4328 - val_accuracy: 0.8621\n",
            "Epoch 13/50\n",
            "30/30 [==============================] - 1s 18ms/step - loss: 8.6073e-06 - accuracy: 1.0000 - val_loss: 1.4479 - val_accuracy: 0.8627\n",
            "Epoch 14/50\n",
            "30/30 [==============================] - 1s 19ms/step - loss: 8.8472e-06 - accuracy: 1.0000 - val_loss: 1.4636 - val_accuracy: 0.8625\n",
            "Epoch 15/50\n",
            "30/30 [==============================] - 1s 19ms/step - loss: 7.2415e-06 - accuracy: 1.0000 - val_loss: 1.4758 - val_accuracy: 0.8626\n",
            "Epoch 16/50\n",
            "30/30 [==============================] - 1s 18ms/step - loss: 6.5063e-06 - accuracy: 1.0000 - val_loss: 1.4891 - val_accuracy: 0.8620\n",
            "Epoch 17/50\n",
            "30/30 [==============================] - 1s 19ms/step - loss: 6.2414e-06 - accuracy: 1.0000 - val_loss: 1.5019 - val_accuracy: 0.8624\n",
            "Epoch 18/50\n",
            "30/30 [==============================] - 1s 18ms/step - loss: 5.2518e-06 - accuracy: 1.0000 - val_loss: 1.5142 - val_accuracy: 0.8622\n",
            "Epoch 19/50\n",
            "30/30 [==============================] - 1s 18ms/step - loss: 4.7433e-06 - accuracy: 1.0000 - val_loss: 1.5245 - val_accuracy: 0.8622\n",
            "Epoch 20/50\n",
            "30/30 [==============================] - 1s 18ms/step - loss: 4.9637e-06 - accuracy: 1.0000 - val_loss: 1.5352 - val_accuracy: 0.8622\n",
            "Epoch 21/50\n",
            "30/30 [==============================] - 1s 18ms/step - loss: 4.0873e-06 - accuracy: 1.0000 - val_loss: 1.5465 - val_accuracy: 0.8623\n",
            "Epoch 22/50\n",
            "30/30 [==============================] - 1s 19ms/step - loss: 3.9378e-06 - accuracy: 1.0000 - val_loss: 1.5565 - val_accuracy: 0.8620\n",
            "Epoch 23/50\n",
            "30/30 [==============================] - 1s 19ms/step - loss: 3.6055e-06 - accuracy: 1.0000 - val_loss: 1.5662 - val_accuracy: 0.8622\n",
            "Epoch 24/50\n",
            "30/30 [==============================] - 1s 19ms/step - loss: 3.3653e-06 - accuracy: 1.0000 - val_loss: 1.5751 - val_accuracy: 0.8622\n",
            "Epoch 25/50\n",
            "30/30 [==============================] - 1s 20ms/step - loss: 3.1738e-06 - accuracy: 1.0000 - val_loss: 1.5844 - val_accuracy: 0.8623\n",
            "Epoch 26/50\n",
            "30/30 [==============================] - 1s 19ms/step - loss: 2.6541e-06 - accuracy: 1.0000 - val_loss: 1.5929 - val_accuracy: 0.8621\n",
            "Epoch 27/50\n",
            "30/30 [==============================] - 1s 18ms/step - loss: 2.7155e-06 - accuracy: 1.0000 - val_loss: 1.6014 - val_accuracy: 0.8622\n",
            "Epoch 28/50\n",
            "30/30 [==============================] - 1s 18ms/step - loss: 2.9395e-06 - accuracy: 1.0000 - val_loss: 1.6110 - val_accuracy: 0.8621\n",
            "Epoch 29/50\n",
            "30/30 [==============================] - 1s 19ms/step - loss: 2.1935e-06 - accuracy: 1.0000 - val_loss: 1.6186 - val_accuracy: 0.8621\n",
            "Epoch 30/50\n",
            "30/30 [==============================] - 1s 19ms/step - loss: 2.2188e-06 - accuracy: 1.0000 - val_loss: 1.6269 - val_accuracy: 0.8621\n",
            "Epoch 31/50\n",
            "30/30 [==============================] - 1s 19ms/step - loss: 2.0541e-06 - accuracy: 1.0000 - val_loss: 1.6346 - val_accuracy: 0.8621\n",
            "Epoch 32/50\n",
            "30/30 [==============================] - 1s 20ms/step - loss: 1.8885e-06 - accuracy: 1.0000 - val_loss: 1.6417 - val_accuracy: 0.8618\n",
            "Epoch 33/50\n",
            "30/30 [==============================] - 1s 19ms/step - loss: 1.8014e-06 - accuracy: 1.0000 - val_loss: 1.6488 - val_accuracy: 0.8620\n",
            "Epoch 34/50\n",
            "30/30 [==============================] - 1s 18ms/step - loss: 1.8352e-06 - accuracy: 1.0000 - val_loss: 1.6565 - val_accuracy: 0.8618\n",
            "Epoch 35/50\n",
            "30/30 [==============================] - 1s 19ms/step - loss: 1.7350e-06 - accuracy: 1.0000 - val_loss: 1.6626 - val_accuracy: 0.8617\n",
            "Epoch 36/50\n",
            "30/30 [==============================] - 1s 19ms/step - loss: 1.4979e-06 - accuracy: 1.0000 - val_loss: 1.6698 - val_accuracy: 0.8623\n",
            "Epoch 37/50\n",
            "30/30 [==============================] - 1s 18ms/step - loss: 1.5434e-06 - accuracy: 1.0000 - val_loss: 1.6766 - val_accuracy: 0.8617\n",
            "Epoch 38/50\n",
            "30/30 [==============================] - 1s 18ms/step - loss: 1.5095e-06 - accuracy: 1.0000 - val_loss: 1.6824 - val_accuracy: 0.8618\n",
            "Epoch 39/50\n",
            "30/30 [==============================] - 1s 18ms/step - loss: 1.2557e-06 - accuracy: 1.0000 - val_loss: 1.6889 - val_accuracy: 0.8616\n",
            "Epoch 40/50\n",
            "30/30 [==============================] - 1s 19ms/step - loss: 1.5210e-06 - accuracy: 1.0000 - val_loss: 1.6950 - val_accuracy: 0.8618\n",
            "Epoch 41/50\n",
            "30/30 [==============================] - 1s 18ms/step - loss: 1.2405e-06 - accuracy: 1.0000 - val_loss: 1.7008 - val_accuracy: 0.8617\n",
            "Epoch 42/50\n",
            "30/30 [==============================] - 1s 18ms/step - loss: 1.1988e-06 - accuracy: 1.0000 - val_loss: 1.7065 - val_accuracy: 0.8619\n",
            "Epoch 43/50\n",
            "30/30 [==============================] - 1s 19ms/step - loss: 1.1912e-06 - accuracy: 1.0000 - val_loss: 1.7124 - val_accuracy: 0.8618\n",
            "Epoch 44/50\n",
            "30/30 [==============================] - 1s 19ms/step - loss: 1.0354e-06 - accuracy: 1.0000 - val_loss: 1.7185 - val_accuracy: 0.8617\n",
            "Epoch 45/50\n",
            "30/30 [==============================] - 1s 18ms/step - loss: 1.0141e-06 - accuracy: 1.0000 - val_loss: 1.7244 - val_accuracy: 0.8617\n",
            "Epoch 46/50\n",
            "30/30 [==============================] - 1s 19ms/step - loss: 1.0681e-06 - accuracy: 1.0000 - val_loss: 1.7302 - val_accuracy: 0.8618\n",
            "Epoch 47/50\n",
            "30/30 [==============================] - 1s 18ms/step - loss: 9.5379e-07 - accuracy: 1.0000 - val_loss: 1.7357 - val_accuracy: 0.8616\n",
            "Epoch 48/50\n",
            "30/30 [==============================] - 1s 18ms/step - loss: 8.3972e-07 - accuracy: 1.0000 - val_loss: 1.7412 - val_accuracy: 0.8617\n",
            "Epoch 49/50\n",
            "30/30 [==============================] - 1s 19ms/step - loss: 9.5738e-07 - accuracy: 1.0000 - val_loss: 1.7476 - val_accuracy: 0.8615\n",
            "Epoch 50/50\n",
            "30/30 [==============================] - 1s 18ms/step - loss: 7.9738e-07 - accuracy: 1.0000 - val_loss: 1.7564 - val_accuracy: 0.8618\n"
          ],
          "name": "stdout"
        }
      ]
    },
    {
      "cell_type": "code",
      "metadata": {
        "colab": {
          "base_uri": "https://localhost:8080/",
          "height": 513
        },
        "id": "8zvj7Zupve6z",
        "outputId": "c11b90b0-7010-49b4-9785-08f48d8ca323"
      },
      "source": [
        "import matplotlib.pyplot as plt\n",
        "\n",
        "epochs = range(1, len(Hist.history['loss'])+1)\n",
        "\n",
        "plt.plot(epochs, Hist.history['loss'])\n",
        "plt.plot(epochs, Hist.history['val_loss'])\n",
        "plt.legend(['loss', 'val_loss'])\n",
        "plt.show()\n",
        "\n",
        "plt.plot(epochs, Hist.history['accuracy'])\n",
        "plt.plot(epochs, Hist.history['val_accuracy'])\n",
        "plt.legend(['accuracy', 'val_accuracy'])\n",
        "plt.show()\n"
      ],
      "execution_count": 61,
      "outputs": [
        {
          "output_type": "display_data",
          "data": {
            "image/png": "[encoded data removed]",
            "text/plain": [
              "<Figure size 432x288 with 1 Axes>"
            ]
          },
          "metadata": {
            "tags": [],
            "needs_background": "light"
          }
        },
        {
          "output_type": "display_data",
          "data": {
            "image/png": "[encoded data removed]",
            "text/plain": [
              "<Figure size 432x288 with 1 Axes>"
            ]
          },
          "metadata": {
            "tags": [],
            "needs_background": "light"
          }
        }
      ]
    },
    {
      "cell_type": "code",
      "metadata": {
        "colab": {
          "base_uri": "https://localhost:8080/"
        },
        "id": "WYwdBLKXwBbR",
        "outputId": "404ac3db-20d3-4bd5-a161-422192974b98"
      },
      "source": [
        "loss, accuracy = imdb.evaluate(X_test, y_test)\n",
        "loss, accuracy"
      ],
      "execution_count": 62,
      "outputs": [
        {
          "output_type": "stream",
          "text": [
            "782/782 [==============================] - 2s 2ms/step - loss: 1.8863 - accuracy: 0.8471\n"
          ],
          "name": "stdout"
        },
        {
          "output_type": "execute_result",
          "data": {
            "text/plain": [
              "(1.8862661123275757, 0.8470799922943115)"
            ]
          },
          "metadata": {
            "tags": []
          },
          "execution_count": 62
        }
      ]
    },
    {
      "cell_type": "code",
      "metadata": {
        "colab": {
          "base_uri": "https://localhost:8080/"
        },
        "id": "1z-IGhtMwbEk",
        "outputId": "7b600634-85c3-4908-8525-e63f4ebfd634"
      },
      "source": [
        "imdb.predict_classes(X_test)"
      ],
      "execution_count": 63,
      "outputs": [
        {
          "output_type": "stream",
          "text": [
            "/usr/local/lib/python3.7/dist-packages/tensorflow/python/keras/engine/sequential.py:450: UserWarning: `model.predict_classes()` is deprecated and will be removed after 2021-01-01. Please use instead:* `np.argmax(model.predict(x), axis=-1)`,   if your model does multi-class classification   (e.g. if it uses a `softmax` last-layer activation).* `(model.predict(x) > 0.5).astype(\"int32\")`,   if your model does binary classification   (e.g. if it uses a `sigmoid` last-layer activation).\n",
            "  warnings.warn('`model.predict_classes()` is deprecated and '\n"
          ],
          "name": "stderr"
        },
        {
          "output_type": "execute_result",
          "data": {
            "text/plain": [
              "array([[0],\n",
              "       [1],\n",
              "       [1],\n",
              "       ...,\n",
              "       [0],\n",
              "       [0],\n",
              "       [1]], dtype=int32)"
            ]
          },
          "metadata": {
            "tags": []
          },
          "execution_count": 63
        }
      ]
    },
    {
      "cell_type": "code",
      "metadata": {
        "id": "OEbw8O01wgM_"
      },
      "source": [
        ""
      ],
      "execution_count": null,
      "outputs": []
    }
  ]
}