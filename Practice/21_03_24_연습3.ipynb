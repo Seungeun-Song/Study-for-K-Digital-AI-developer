{
  "nbformat": 4,
  "nbformat_minor": 0,
  "metadata": {
    "colab": {
      "name": "20210324_Competition_이름.ipynb",
      "provenance": [],
      "collapsed_sections": [],
      "toc_visible": true
    },
    "kernelspec": {
      "name": "python3",
      "display_name": "Python 3"
    },
    "language_info": {
      "name": "python"
    },
    "accelerator": "GPU"
  },
  "cells": [
    {
      "cell_type": "markdown",
      "metadata": {
        "id": "ez9NLsFQIsJ6"
      },
      "source": [
        "# Competition\n",
        "\n",
        "##자동차 모델 분류"
      ]
    },
    {
      "cell_type": "code",
      "metadata": {
        "id": "RbPgODpVzdHI"
      },
      "source": [
        "import warnings\n",
        "warnings.filterwarnings('ignore')"
      ],
      "execution_count": 1,
      "outputs": []
    },
    {
      "cell_type": "markdown",
      "metadata": {
        "id": "CCYwQff0IwzA"
      },
      "source": [
        "# I. DataSet Load"
      ]
    },
    {
      "cell_type": "code",
      "metadata": {
        "id": "EkooevWlEpae",
        "colab": {
          "base_uri": "https://localhost:8080/"
        },
        "outputId": "5d93b75d-b7ba-4d74-e374-85d3ae350ac4"
      },
      "source": [
        "from google.colab import drive\n",
        "\n",
        "drive.mount('/content/drive')"
      ],
      "execution_count": 2,
      "outputs": [
        {
          "output_type": "stream",
          "text": [
            "Mounted at /content/drive\n"
          ],
          "name": "stdout"
        }
      ]
    },
    {
      "cell_type": "code",
      "metadata": {
        "id": "ZAA_YjrVExu7",
        "colab": {
          "base_uri": "https://localhost:8080/"
        },
        "outputId": "c769b8de-d19f-46f8-add2-e09dee247a1c"
      },
      "source": [
        "!ls -l '/content/drive/My Drive/Colab Notebooks/datasets/DataSet.pkl'"
      ],
      "execution_count": 3,
      "outputs": [
        {
          "output_type": "stream",
          "text": [
            "-rw------- 1 root root 82003032 Mar 24 00:14 '/content/drive/My Drive/Colab Notebooks/datasets/DataSet.pkl'\n"
          ],
          "name": "stdout"
        }
      ]
    },
    {
      "cell_type": "markdown",
      "metadata": {
        "id": "4AHg3MGJI1zS"
      },
      "source": [
        "> ## 1) 'DataSet.pkl'\n",
        "\n",
        "* 압축형식 : 'Gzip'"
      ]
    },
    {
      "cell_type": "code",
      "metadata": {
        "id": "n0peLvWIfc0F",
        "colab": {
          "base_uri": "https://localhost:8080/"
        },
        "outputId": "04306763-d302-46a0-af95-10f85d7857f9"
      },
      "source": [
        "import pandas as pd\n",
        "\n",
        "url = '/content/drive/My Drive/Colab Notebooks/datasets/DataSet.pkl'\n",
        "DF = pd.read_pickle(url, compression = 'gzip')\n",
        "\n",
        "DF.shape"
      ],
      "execution_count": 4,
      "outputs": [
        {
          "output_type": "execute_result",
          "data": {
            "text/plain": [
              "(24916, 2701)"
            ]
          },
          "metadata": {
            "tags": []
          },
          "execution_count": 4
        }
      ]
    },
    {
      "cell_type": "markdown",
      "metadata": {
        "id": "QOLgyA5YJTsL"
      },
      "source": [
        "> ## 2) DataFrame Information"
      ]
    },
    {
      "cell_type": "code",
      "metadata": {
        "colab": {
          "base_uri": "https://localhost:8080/"
        },
        "id": "4LZX5mJmHn28",
        "outputId": "136915ae-1bcb-4c3d-d64e-e47cb14cc757"
      },
      "source": [
        "DF.info()"
      ],
      "execution_count": 5,
      "outputs": [
        {
          "output_type": "stream",
          "text": [
            "<class 'pandas.core.frame.DataFrame'>\n",
            "RangeIndex: 24916 entries, 0 to 24915\n",
            "Columns: 2701 entries, 0 to 2700\n",
            "dtypes: object(2701)\n",
            "memory usage: 513.4+ MB\n"
          ],
          "name": "stdout"
        }
      ]
    },
    {
      "cell_type": "code",
      "metadata": {
        "colab": {
          "base_uri": "https://localhost:8080/",
          "height": 415
        },
        "id": "LkKyNTbcHqf0",
        "outputId": "4aeba3c1-f89e-439c-cefb-fa8832c978da"
      },
      "source": [
        "DF.head()"
      ],
      "execution_count": 6,
      "outputs": [
        {
          "output_type": "execute_result",
          "data": {
            "text/html": [
              "<div>\n",
              "<style scoped>\n",
              "    .dataframe tbody tr th:only-of-type {\n",
              "        vertical-align: middle;\n",
              "    }\n",
              "\n",
              "    .dataframe tbody tr th {\n",
              "        vertical-align: top;\n",
              "    }\n",
              "\n",
              "    .dataframe thead th {\n",
              "        text-align: right;\n",
              "    }\n",
              "</style>\n",
              "<table border=\"1\" class=\"dataframe\">\n",
              "  <thead>\n",
              "    <tr style=\"text-align: right;\">\n",
              "      <th></th>\n",
              "      <th>0</th>\n",
              "      <th>1</th>\n",
              "      <th>2</th>\n",
              "      <th>3</th>\n",
              "      <th>4</th>\n",
              "      <th>5</th>\n",
              "      <th>6</th>\n",
              "      <th>7</th>\n",
              "      <th>8</th>\n",
              "      <th>9</th>\n",
              "      <th>10</th>\n",
              "      <th>11</th>\n",
              "      <th>12</th>\n",
              "      <th>13</th>\n",
              "      <th>14</th>\n",
              "      <th>15</th>\n",
              "      <th>16</th>\n",
              "      <th>17</th>\n",
              "      <th>18</th>\n",
              "      <th>19</th>\n",
              "      <th>20</th>\n",
              "      <th>21</th>\n",
              "      <th>22</th>\n",
              "      <th>23</th>\n",
              "      <th>24</th>\n",
              "      <th>25</th>\n",
              "      <th>26</th>\n",
              "      <th>27</th>\n",
              "      <th>28</th>\n",
              "      <th>29</th>\n",
              "      <th>30</th>\n",
              "      <th>31</th>\n",
              "      <th>32</th>\n",
              "      <th>33</th>\n",
              "      <th>34</th>\n",
              "      <th>35</th>\n",
              "      <th>36</th>\n",
              "      <th>37</th>\n",
              "      <th>38</th>\n",
              "      <th>39</th>\n",
              "      <th>...</th>\n",
              "      <th>2661</th>\n",
              "      <th>2662</th>\n",
              "      <th>2663</th>\n",
              "      <th>2664</th>\n",
              "      <th>2665</th>\n",
              "      <th>2666</th>\n",
              "      <th>2667</th>\n",
              "      <th>2668</th>\n",
              "      <th>2669</th>\n",
              "      <th>2670</th>\n",
              "      <th>2671</th>\n",
              "      <th>2672</th>\n",
              "      <th>2673</th>\n",
              "      <th>2674</th>\n",
              "      <th>2675</th>\n",
              "      <th>2676</th>\n",
              "      <th>2677</th>\n",
              "      <th>2678</th>\n",
              "      <th>2679</th>\n",
              "      <th>2680</th>\n",
              "      <th>2681</th>\n",
              "      <th>2682</th>\n",
              "      <th>2683</th>\n",
              "      <th>2684</th>\n",
              "      <th>2685</th>\n",
              "      <th>2686</th>\n",
              "      <th>2687</th>\n",
              "      <th>2688</th>\n",
              "      <th>2689</th>\n",
              "      <th>2690</th>\n",
              "      <th>2691</th>\n",
              "      <th>2692</th>\n",
              "      <th>2693</th>\n",
              "      <th>2694</th>\n",
              "      <th>2695</th>\n",
              "      <th>2696</th>\n",
              "      <th>2697</th>\n",
              "      <th>2698</th>\n",
              "      <th>2699</th>\n",
              "      <th>2700</th>\n",
              "    </tr>\n",
              "  </thead>\n",
              "  <tbody>\n",
              "    <tr>\n",
              "      <th>0</th>\n",
              "      <td>230</td>\n",
              "      <td>236</td>\n",
              "      <td>252</td>\n",
              "      <td>226</td>\n",
              "      <td>232</td>\n",
              "      <td>248</td>\n",
              "      <td>220</td>\n",
              "      <td>227</td>\n",
              "      <td>245</td>\n",
              "      <td>214</td>\n",
              "      <td>223</td>\n",
              "      <td>240</td>\n",
              "      <td>212</td>\n",
              "      <td>220</td>\n",
              "      <td>241</td>\n",
              "      <td>206</td>\n",
              "      <td>219</td>\n",
              "      <td>238</td>\n",
              "      <td>204</td>\n",
              "      <td>216</td>\n",
              "      <td>240</td>\n",
              "      <td>199</td>\n",
              "      <td>215</td>\n",
              "      <td>238</td>\n",
              "      <td>199</td>\n",
              "      <td>215</td>\n",
              "      <td>241</td>\n",
              "      <td>193</td>\n",
              "      <td>213</td>\n",
              "      <td>238</td>\n",
              "      <td>189</td>\n",
              "      <td>208</td>\n",
              "      <td>238</td>\n",
              "      <td>183</td>\n",
              "      <td>207</td>\n",
              "      <td>235</td>\n",
              "      <td>181</td>\n",
              "      <td>204</td>\n",
              "      <td>236</td>\n",
              "      <td>177</td>\n",
              "      <td>...</td>\n",
              "      <td>28</td>\n",
              "      <td>28</td>\n",
              "      <td>28</td>\n",
              "      <td>23</td>\n",
              "      <td>24</td>\n",
              "      <td>26</td>\n",
              "      <td>18</td>\n",
              "      <td>22</td>\n",
              "      <td>23</td>\n",
              "      <td>18</td>\n",
              "      <td>21</td>\n",
              "      <td>26</td>\n",
              "      <td>17</td>\n",
              "      <td>22</td>\n",
              "      <td>26</td>\n",
              "      <td>14</td>\n",
              "      <td>21</td>\n",
              "      <td>27</td>\n",
              "      <td>13</td>\n",
              "      <td>20</td>\n",
              "      <td>26</td>\n",
              "      <td>11</td>\n",
              "      <td>16</td>\n",
              "      <td>20</td>\n",
              "      <td>15</td>\n",
              "      <td>20</td>\n",
              "      <td>23</td>\n",
              "      <td>20</td>\n",
              "      <td>21</td>\n",
              "      <td>25</td>\n",
              "      <td>22</td>\n",
              "      <td>24</td>\n",
              "      <td>23</td>\n",
              "      <td>37</td>\n",
              "      <td>35</td>\n",
              "      <td>36</td>\n",
              "      <td>55</td>\n",
              "      <td>54</td>\n",
              "      <td>52</td>\n",
              "      <td>G80스포츠</td>\n",
              "    </tr>\n",
              "    <tr>\n",
              "      <th>1</th>\n",
              "      <td>235</td>\n",
              "      <td>238</td>\n",
              "      <td>243</td>\n",
              "      <td>251</td>\n",
              "      <td>254</td>\n",
              "      <td>255</td>\n",
              "      <td>251</td>\n",
              "      <td>255</td>\n",
              "      <td>255</td>\n",
              "      <td>242</td>\n",
              "      <td>249</td>\n",
              "      <td>255</td>\n",
              "      <td>239</td>\n",
              "      <td>246</td>\n",
              "      <td>255</td>\n",
              "      <td>248</td>\n",
              "      <td>255</td>\n",
              "      <td>255</td>\n",
              "      <td>247</td>\n",
              "      <td>255</td>\n",
              "      <td>255</td>\n",
              "      <td>238</td>\n",
              "      <td>248</td>\n",
              "      <td>255</td>\n",
              "      <td>246</td>\n",
              "      <td>255</td>\n",
              "      <td>255</td>\n",
              "      <td>249</td>\n",
              "      <td>255</td>\n",
              "      <td>255</td>\n",
              "      <td>251</td>\n",
              "      <td>255</td>\n",
              "      <td>255</td>\n",
              "      <td>249</td>\n",
              "      <td>250</td>\n",
              "      <td>255</td>\n",
              "      <td>248</td>\n",
              "      <td>248</td>\n",
              "      <td>250</td>\n",
              "      <td>251</td>\n",
              "      <td>...</td>\n",
              "      <td>54</td>\n",
              "      <td>59</td>\n",
              "      <td>62</td>\n",
              "      <td>46</td>\n",
              "      <td>53</td>\n",
              "      <td>59</td>\n",
              "      <td>40</td>\n",
              "      <td>47</td>\n",
              "      <td>55</td>\n",
              "      <td>36</td>\n",
              "      <td>45</td>\n",
              "      <td>54</td>\n",
              "      <td>36</td>\n",
              "      <td>44</td>\n",
              "      <td>55</td>\n",
              "      <td>38</td>\n",
              "      <td>46</td>\n",
              "      <td>59</td>\n",
              "      <td>40</td>\n",
              "      <td>48</td>\n",
              "      <td>59</td>\n",
              "      <td>33</td>\n",
              "      <td>39</td>\n",
              "      <td>51</td>\n",
              "      <td>38</td>\n",
              "      <td>45</td>\n",
              "      <td>53</td>\n",
              "      <td>42</td>\n",
              "      <td>45</td>\n",
              "      <td>50</td>\n",
              "      <td>51</td>\n",
              "      <td>52</td>\n",
              "      <td>54</td>\n",
              "      <td>69</td>\n",
              "      <td>70</td>\n",
              "      <td>65</td>\n",
              "      <td>124</td>\n",
              "      <td>123</td>\n",
              "      <td>118</td>\n",
              "      <td>G80스포츠</td>\n",
              "    </tr>\n",
              "    <tr>\n",
              "      <th>2</th>\n",
              "      <td>94</td>\n",
              "      <td>112</td>\n",
              "      <td>134</td>\n",
              "      <td>85</td>\n",
              "      <td>103</td>\n",
              "      <td>125</td>\n",
              "      <td>76</td>\n",
              "      <td>97</td>\n",
              "      <td>118</td>\n",
              "      <td>80</td>\n",
              "      <td>101</td>\n",
              "      <td>122</td>\n",
              "      <td>95</td>\n",
              "      <td>116</td>\n",
              "      <td>137</td>\n",
              "      <td>109</td>\n",
              "      <td>130</td>\n",
              "      <td>151</td>\n",
              "      <td>114</td>\n",
              "      <td>137</td>\n",
              "      <td>155</td>\n",
              "      <td>114</td>\n",
              "      <td>137</td>\n",
              "      <td>155</td>\n",
              "      <td>112</td>\n",
              "      <td>133</td>\n",
              "      <td>150</td>\n",
              "      <td>121</td>\n",
              "      <td>143</td>\n",
              "      <td>157</td>\n",
              "      <td>86</td>\n",
              "      <td>105</td>\n",
              "      <td>120</td>\n",
              "      <td>66</td>\n",
              "      <td>86</td>\n",
              "      <td>97</td>\n",
              "      <td>127</td>\n",
              "      <td>145</td>\n",
              "      <td>157</td>\n",
              "      <td>189</td>\n",
              "      <td>...</td>\n",
              "      <td>41</td>\n",
              "      <td>53</td>\n",
              "      <td>65</td>\n",
              "      <td>41</td>\n",
              "      <td>54</td>\n",
              "      <td>63</td>\n",
              "      <td>51</td>\n",
              "      <td>64</td>\n",
              "      <td>73</td>\n",
              "      <td>64</td>\n",
              "      <td>77</td>\n",
              "      <td>86</td>\n",
              "      <td>66</td>\n",
              "      <td>79</td>\n",
              "      <td>88</td>\n",
              "      <td>55</td>\n",
              "      <td>68</td>\n",
              "      <td>76</td>\n",
              "      <td>42</td>\n",
              "      <td>55</td>\n",
              "      <td>63</td>\n",
              "      <td>51</td>\n",
              "      <td>64</td>\n",
              "      <td>70</td>\n",
              "      <td>50</td>\n",
              "      <td>63</td>\n",
              "      <td>69</td>\n",
              "      <td>48</td>\n",
              "      <td>62</td>\n",
              "      <td>65</td>\n",
              "      <td>52</td>\n",
              "      <td>66</td>\n",
              "      <td>69</td>\n",
              "      <td>67</td>\n",
              "      <td>78</td>\n",
              "      <td>82</td>\n",
              "      <td>80</td>\n",
              "      <td>91</td>\n",
              "      <td>95</td>\n",
              "      <td>G80스포츠</td>\n",
              "    </tr>\n",
              "    <tr>\n",
              "      <th>3</th>\n",
              "      <td>80</td>\n",
              "      <td>88</td>\n",
              "      <td>90</td>\n",
              "      <td>68</td>\n",
              "      <td>76</td>\n",
              "      <td>78</td>\n",
              "      <td>79</td>\n",
              "      <td>83</td>\n",
              "      <td>84</td>\n",
              "      <td>122</td>\n",
              "      <td>126</td>\n",
              "      <td>125</td>\n",
              "      <td>178</td>\n",
              "      <td>178</td>\n",
              "      <td>178</td>\n",
              "      <td>211</td>\n",
              "      <td>211</td>\n",
              "      <td>209</td>\n",
              "      <td>221</td>\n",
              "      <td>217</td>\n",
              "      <td>214</td>\n",
              "      <td>216</td>\n",
              "      <td>213</td>\n",
              "      <td>208</td>\n",
              "      <td>223</td>\n",
              "      <td>218</td>\n",
              "      <td>214</td>\n",
              "      <td>213</td>\n",
              "      <td>208</td>\n",
              "      <td>202</td>\n",
              "      <td>204</td>\n",
              "      <td>201</td>\n",
              "      <td>194</td>\n",
              "      <td>205</td>\n",
              "      <td>202</td>\n",
              "      <td>195</td>\n",
              "      <td>208</td>\n",
              "      <td>208</td>\n",
              "      <td>200</td>\n",
              "      <td>209</td>\n",
              "      <td>...</td>\n",
              "      <td>53</td>\n",
              "      <td>64</td>\n",
              "      <td>84</td>\n",
              "      <td>54</td>\n",
              "      <td>65</td>\n",
              "      <td>85</td>\n",
              "      <td>52</td>\n",
              "      <td>64</td>\n",
              "      <td>80</td>\n",
              "      <td>55</td>\n",
              "      <td>67</td>\n",
              "      <td>81</td>\n",
              "      <td>66</td>\n",
              "      <td>79</td>\n",
              "      <td>88</td>\n",
              "      <td>77</td>\n",
              "      <td>90</td>\n",
              "      <td>99</td>\n",
              "      <td>84</td>\n",
              "      <td>97</td>\n",
              "      <td>105</td>\n",
              "      <td>64</td>\n",
              "      <td>77</td>\n",
              "      <td>83</td>\n",
              "      <td>63</td>\n",
              "      <td>76</td>\n",
              "      <td>82</td>\n",
              "      <td>63</td>\n",
              "      <td>76</td>\n",
              "      <td>84</td>\n",
              "      <td>84</td>\n",
              "      <td>97</td>\n",
              "      <td>105</td>\n",
              "      <td>82</td>\n",
              "      <td>92</td>\n",
              "      <td>102</td>\n",
              "      <td>104</td>\n",
              "      <td>114</td>\n",
              "      <td>124</td>\n",
              "      <td>G80스포츠</td>\n",
              "    </tr>\n",
              "    <tr>\n",
              "      <th>4</th>\n",
              "      <td>215</td>\n",
              "      <td>229</td>\n",
              "      <td>194</td>\n",
              "      <td>212</td>\n",
              "      <td>222</td>\n",
              "      <td>195</td>\n",
              "      <td>210</td>\n",
              "      <td>217</td>\n",
              "      <td>201</td>\n",
              "      <td>217</td>\n",
              "      <td>218</td>\n",
              "      <td>213</td>\n",
              "      <td>226</td>\n",
              "      <td>223</td>\n",
              "      <td>232</td>\n",
              "      <td>229</td>\n",
              "      <td>221</td>\n",
              "      <td>236</td>\n",
              "      <td>222</td>\n",
              "      <td>211</td>\n",
              "      <td>227</td>\n",
              "      <td>213</td>\n",
              "      <td>201</td>\n",
              "      <td>211</td>\n",
              "      <td>213</td>\n",
              "      <td>203</td>\n",
              "      <td>204</td>\n",
              "      <td>216</td>\n",
              "      <td>209</td>\n",
              "      <td>199</td>\n",
              "      <td>221</td>\n",
              "      <td>215</td>\n",
              "      <td>201</td>\n",
              "      <td>218</td>\n",
              "      <td>217</td>\n",
              "      <td>197</td>\n",
              "      <td>210</td>\n",
              "      <td>211</td>\n",
              "      <td>195</td>\n",
              "      <td>205</td>\n",
              "      <td>...</td>\n",
              "      <td>31</td>\n",
              "      <td>47</td>\n",
              "      <td>60</td>\n",
              "      <td>42</td>\n",
              "      <td>58</td>\n",
              "      <td>71</td>\n",
              "      <td>51</td>\n",
              "      <td>67</td>\n",
              "      <td>80</td>\n",
              "      <td>58</td>\n",
              "      <td>72</td>\n",
              "      <td>83</td>\n",
              "      <td>61</td>\n",
              "      <td>75</td>\n",
              "      <td>86</td>\n",
              "      <td>62</td>\n",
              "      <td>76</td>\n",
              "      <td>85</td>\n",
              "      <td>63</td>\n",
              "      <td>77</td>\n",
              "      <td>86</td>\n",
              "      <td>87</td>\n",
              "      <td>101</td>\n",
              "      <td>110</td>\n",
              "      <td>94</td>\n",
              "      <td>108</td>\n",
              "      <td>117</td>\n",
              "      <td>84</td>\n",
              "      <td>99</td>\n",
              "      <td>106</td>\n",
              "      <td>94</td>\n",
              "      <td>109</td>\n",
              "      <td>116</td>\n",
              "      <td>99</td>\n",
              "      <td>114</td>\n",
              "      <td>119</td>\n",
              "      <td>81</td>\n",
              "      <td>96</td>\n",
              "      <td>101</td>\n",
              "      <td>G80스포츠</td>\n",
              "    </tr>\n",
              "  </tbody>\n",
              "</table>\n",
              "<p>5 rows × 2701 columns</p>\n",
              "</div>"
            ],
            "text/plain": [
              "  0    1    2    3    4    5    6     ... 2694 2695 2696 2697 2698 2699    2700\n",
              "0  230  236  252  226  232  248  220  ...   37   35   36   55   54   52  G80스포츠\n",
              "1  235  238  243  251  254  255  251  ...   69   70   65  124  123  118  G80스포츠\n",
              "2   94  112  134   85  103  125   76  ...   67   78   82   80   91   95  G80스포츠\n",
              "3   80   88   90   68   76   78   79  ...   82   92  102  104  114  124  G80스포츠\n",
              "4  215  229  194  212  222  195  210  ...   99  114  119   81   96  101  G80스포츠\n",
              "\n",
              "[5 rows x 2701 columns]"
            ]
          },
          "metadata": {
            "tags": []
          },
          "execution_count": 6
        }
      ]
    },
    {
      "cell_type": "markdown",
      "metadata": {
        "id": "Zn9cXkE-JaDX"
      },
      "source": [
        "> ## 3) 'X', 'y' 분리"
      ]
    },
    {
      "cell_type": "code",
      "metadata": {
        "colab": {
          "base_uri": "https://localhost:8080/"
        },
        "id": "dmQpKLT5Hxfr",
        "outputId": "1bbe7499-bdc4-4ffc-e962-4b5ade002631"
      },
      "source": [
        "X = DF.iloc[:,:-1]\n",
        "y = DF.iloc[:,-1]\n",
        "\n",
        "X.shape, y.shape"
      ],
      "execution_count": 7,
      "outputs": [
        {
          "output_type": "execute_result",
          "data": {
            "text/plain": [
              "((24916, 2700), (24916,))"
            ]
          },
          "metadata": {
            "tags": []
          },
          "execution_count": 7
        }
      ]
    },
    {
      "cell_type": "markdown",
      "metadata": {
        "id": "uojYWg36Jeg6"
      },
      "source": [
        "> ## 4) Visualization\n",
        "\n",
        "* '0'번 인덱스 label 및 이미지"
      ]
    },
    {
      "cell_type": "code",
      "metadata": {
        "colab": {
          "base_uri": "https://localhost:8080/",
          "height": 284
        },
        "id": "gnU3cfQfH5eI",
        "outputId": "c69371e1-dd64-4f4d-f7c0-caaf03c7a143"
      },
      "source": [
        "import numpy as np\n",
        "import matplotlib.pyplot as plt\n",
        "\n",
        "print(y.iloc[0])\n",
        "\n",
        "plt.imshow(X.iloc[0].values.astype(np.int).reshape(30,30,3))\n",
        "plt.show()"
      ],
      "execution_count": 8,
      "outputs": [
        {
          "output_type": "stream",
          "text": [
            "G80스포츠\n"
          ],
          "name": "stdout"
        },
        {
          "output_type": "display_data",
          "data": {
            "image/png": "[encoded data removed]",
            "text/plain": [
              "<Figure size 432x288 with 1 Axes>"
            ]
          },
          "metadata": {
            "tags": [],
            "needs_background": "light"
          }
        }
      ]
    },
    {
      "cell_type": "markdown",
      "metadata": {
        "id": "-1NQMDoyJoyz"
      },
      "source": [
        "* '200'번 인덱스 label 및 이미지"
      ]
    },
    {
      "cell_type": "code",
      "metadata": {
        "colab": {
          "base_uri": "https://localhost:8080/",
          "height": 284
        },
        "id": "q2H7U68lIOl5",
        "outputId": "a00c7ccc-d9f2-425d-94ee-4aa4b573c875"
      },
      "source": [
        "print(y.iloc[200])\n",
        "\n",
        "plt.imshow(X.iloc[200].values.astype(np.int).reshape(30,30,3))\n",
        "plt.show()"
      ],
      "execution_count": 9,
      "outputs": [
        {
          "output_type": "stream",
          "text": [
            "G80스포츠\n"
          ],
          "name": "stdout"
        },
        {
          "output_type": "display_data",
          "data": {
            "image/png": "[encoded data removed]",
            "text/plain": [
              "<Figure size 432x288 with 1 Axes>"
            ]
          },
          "metadata": {
            "tags": [],
            "needs_background": "light"
          }
        }
      ]
    },
    {
      "cell_type": "markdown",
      "metadata": {
        "id": "PL4IWtd-Jui8"
      },
      "source": [
        "* '400'번 인덱스 label 및 이미지"
      ]
    },
    {
      "cell_type": "code",
      "metadata": {
        "colab": {
          "base_uri": "https://localhost:8080/",
          "height": 284
        },
        "id": "XfUwPcazIYhd",
        "outputId": "396f3a48-bae9-47b1-eae0-ab0935f120e4"
      },
      "source": [
        "print(y.iloc[400])\n",
        "\n",
        "plt.imshow(X.iloc[400].values.astype(np.int).reshape(30,30,3))\n",
        "plt.show()"
      ],
      "execution_count": 10,
      "outputs": [
        {
          "output_type": "stream",
          "text": [
            "G80스포츠\n"
          ],
          "name": "stdout"
        },
        {
          "output_type": "display_data",
          "data": {
            "image/png": "[encoded data removed]",
            "text/plain": [
              "<Figure size 432x288 with 1 Axes>"
            ]
          },
          "metadata": {
            "tags": [],
            "needs_background": "light"
          }
        }
      ]
    },
    {
      "cell_type": "markdown",
      "metadata": {
        "id": "rJWmxDcYKDjk"
      },
      "source": [
        "# II. Data Preprocessing"
      ]
    },
    {
      "cell_type": "code",
      "metadata": {
        "colab": {
          "base_uri": "https://localhost:8080/"
        },
        "id": "FL7JjuxwsFAu",
        "outputId": "3d9db5d4-fc09-4b67-f15e-dfc5cef65953"
      },
      "source": [
        "print(y.value_counts())\n",
        "print(len(y.value_counts()))"
      ],
      "execution_count": 11,
      "outputs": [
        {
          "output_type": "stream",
          "text": [
            "투싼            1931\n",
            "i30           1296\n",
            "싼타페           1282\n",
            "그랜저HG240       940\n",
            "KONA 1         840\n",
            "그랜저            770\n",
            "소나타 YF         762\n",
            "소나타 뉴라이즈       725\n",
            "G90            714\n",
            "소나타 하이브리드      664\n",
            "아슬란            659\n",
            "소나타 LF         653\n",
            "더뉴아반떼AD        653\n",
            "제네시스G380       652\n",
            "소나타 LPI        646\n",
            "엑센트            641\n",
            "아반떼 XD         639\n",
            "제네시스 G80       638\n",
            "아반떼MD          636\n",
            "소나타            635\n",
            "아이오닉 하이브리드     633\n",
            "팰리세이드          628\n",
            "투싼1            628\n",
            "그랜저 IG         627\n",
            "아반떼AD          627\n",
            "벨로스터           620\n",
            "아이오닉 일렉트릭      620\n",
            "에쿠스            619\n",
            "스타렉스           614\n",
            "맥스크루즈          605\n",
            "G80스포츠         605\n",
            "소나타 NF         605\n",
            "제네시스 G70       600\n",
            "더뉴그랜드스타렉스      509\n",
            "Name: 2700, dtype: int64\n",
            "34\n"
          ],
          "name": "stdout"
        }
      ]
    },
    {
      "cell_type": "code",
      "metadata": {
        "colab": {
          "base_uri": "https://localhost:8080/"
        },
        "id": "Nji0O6UcsdQv",
        "outputId": "43e9b715-13df-4e63-be1c-d38791875fba"
      },
      "source": [
        "X = X.values\n",
        "y = y.values\n",
        "print(X[:5], y[:5])"
      ],
      "execution_count": 12,
      "outputs": [
        {
          "output_type": "stream",
          "text": [
            "[[230 236 252 ... 55 54 52]\n",
            " [235 238 243 ... 124 123 118]\n",
            " [94 112 134 ... 80 91 95]\n",
            " [80 88 90 ... 104 114 124]\n",
            " [215 229 194 ... 81 96 101]] ['G80스포츠' 'G80스포츠' 'G80스포츠' 'G80스포츠' 'G80스포츠']\n"
          ],
          "name": "stdout"
        }
      ]
    },
    {
      "cell_type": "code",
      "metadata": {
        "id": "9KpGaCdJq2vv"
      },
      "source": [
        "X_array= X.astype(float)/255"
      ],
      "execution_count": 13,
      "outputs": []
    },
    {
      "cell_type": "code",
      "metadata": {
        "colab": {
          "base_uri": "https://localhost:8080/"
        },
        "id": "kXK1lOR8ru1o",
        "outputId": "f4069513-cefb-4651-f262-6053a2449348"
      },
      "source": [
        "X_array[:1]"
      ],
      "execution_count": 14,
      "outputs": [
        {
          "output_type": "execute_result",
          "data": {
            "text/plain": [
              "array([[0.90196078, 0.9254902 , 0.98823529, ..., 0.21568627, 0.21176471,\n",
              "        0.20392157]])"
            ]
          },
          "metadata": {
            "tags": []
          },
          "execution_count": 14
        }
      ]
    },
    {
      "cell_type": "code",
      "metadata": {
        "colab": {
          "base_uri": "https://localhost:8080/"
        },
        "id": "vg9OoHSFtkoh",
        "outputId": "5e144734-b4fd-4a9b-dbe3-e4bb233ab19b"
      },
      "source": [
        "from sklearn.preprocessing import LabelEncoder\n",
        "\n",
        "encoder = LabelEncoder()\n",
        "y_LE = encoder.fit_transform(y)\n",
        "y_LE"
      ],
      "execution_count": 15,
      "outputs": [
        {
          "output_type": "execute_result",
          "data": {
            "text/plain": [
              "array([ 0,  0,  0, ..., 33, 33, 33])"
            ]
          },
          "metadata": {
            "tags": []
          },
          "execution_count": 15
        }
      ]
    },
    {
      "cell_type": "code",
      "metadata": {
        "colab": {
          "base_uri": "https://localhost:8080/"
        },
        "id": "3qgKZhxsr4L6",
        "outputId": "b906257f-b2e7-435d-b522-b0576d6ef796"
      },
      "source": [
        "from keras.utils import to_categorical\n",
        "\n",
        "y_LE = to_categorical(y_LE)\n",
        "print(y_LE[:5])"
      ],
      "execution_count": 16,
      "outputs": [
        {
          "output_type": "stream",
          "text": [
            "[[1. 0. 0. 0. 0. 0. 0. 0. 0. 0. 0. 0. 0. 0. 0. 0. 0. 0. 0. 0. 0. 0. 0. 0.\n",
            "  0. 0. 0. 0. 0. 0. 0. 0. 0. 0.]\n",
            " [1. 0. 0. 0. 0. 0. 0. 0. 0. 0. 0. 0. 0. 0. 0. 0. 0. 0. 0. 0. 0. 0. 0. 0.\n",
            "  0. 0. 0. 0. 0. 0. 0. 0. 0. 0.]\n",
            " [1. 0. 0. 0. 0. 0. 0. 0. 0. 0. 0. 0. 0. 0. 0. 0. 0. 0. 0. 0. 0. 0. 0. 0.\n",
            "  0. 0. 0. 0. 0. 0. 0. 0. 0. 0.]\n",
            " [1. 0. 0. 0. 0. 0. 0. 0. 0. 0. 0. 0. 0. 0. 0. 0. 0. 0. 0. 0. 0. 0. 0. 0.\n",
            "  0. 0. 0. 0. 0. 0. 0. 0. 0. 0.]\n",
            " [1. 0. 0. 0. 0. 0. 0. 0. 0. 0. 0. 0. 0. 0. 0. 0. 0. 0. 0. 0. 0. 0. 0. 0.\n",
            "  0. 0. 0. 0. 0. 0. 0. 0. 0. 0.]]\n"
          ],
          "name": "stdout"
        }
      ]
    },
    {
      "cell_type": "code",
      "metadata": {
        "colab": {
          "base_uri": "https://localhost:8080/"
        },
        "id": "TsSTkRaNtBwQ",
        "outputId": "2cc4fc63-f3f7-46d5-8507-1e277ce89012"
      },
      "source": [
        "from sklearn.model_selection import train_test_split\n",
        "\n",
        "X_train, X_test, y_train, y_test = train_test_split(X_array, y_LE, test_size=0.2, random_state=2045)\n",
        "print(X_train.shape, X_test.shape, y_train.shape, y_test.shape)"
      ],
      "execution_count": 17,
      "outputs": [
        {
          "output_type": "stream",
          "text": [
            "(19932, 2700) (4984, 2700) (19932, 34) (4984, 34)\n"
          ],
          "name": "stdout"
        }
      ]
    },
    {
      "cell_type": "code",
      "metadata": {
        "colab": {
          "base_uri": "https://localhost:8080/"
        },
        "id": "1egkXEUbvQe-",
        "outputId": "2d34e9f4-9d3b-486a-c7ab-f412945f5ad0"
      },
      "source": [
        "X_train, X_valid, y_train, y_valid = train_test_split(X_train, y_train, test_size=0.2, random_state=2045)\n",
        "print(X_train.shape, X_valid.shape, y_train.shape, y_valid.shape)"
      ],
      "execution_count": 18,
      "outputs": [
        {
          "output_type": "stream",
          "text": [
            "(15945, 2700) (3987, 2700) (15945, 34) (3987, 34)\n"
          ],
          "name": "stdout"
        }
      ]
    },
    {
      "cell_type": "code",
      "metadata": {
        "colab": {
          "base_uri": "https://localhost:8080/"
        },
        "id": "C04StqHmvj7N",
        "outputId": "7eb93dcd-6b43-45d1-98af-52dcf9686e97"
      },
      "source": [
        "print(X_train.shape, y_train.shape)\n",
        "print( X_valid.shape, y_valid.shape)\n",
        "print(X_test.shape, y_test.shape)"
      ],
      "execution_count": 19,
      "outputs": [
        {
          "output_type": "stream",
          "text": [
            "(15945, 2700) (15945, 34)\n",
            "(3987, 2700) (3987, 34)\n",
            "(4984, 2700) (4984, 34)\n"
          ],
          "name": "stdout"
        }
      ]
    },
    {
      "cell_type": "markdown",
      "metadata": {
        "id": "JyDKz5dkKJxI"
      },
      "source": [
        "# III. Modeling"
      ]
    },
    {
      "cell_type": "markdown",
      "metadata": {
        "id": "Wt-GqCcFxRVJ"
      },
      "source": [
        "## 1) RNN"
      ]
    },
    {
      "cell_type": "code",
      "metadata": {
        "colab": {
          "base_uri": "https://localhost:8080/"
        },
        "id": "fyXBFtmgzmIj",
        "outputId": "be4ed5dd-62ce-4c41-ffb7-fbfbcd1c6d11"
      },
      "source": [
        "from keras import models, layers, regularizers\n",
        "\n",
        "RNN = models.Sequential()\n",
        "RNN.add(layers.Dense(512, input_shape=(2700,), kernel_regularizer=regularizers.l2(0.00001)))\n",
        "RNN.add(layers.BatchNormalization())\n",
        "RNN.add(layers.Activation('relu'))\n",
        "RNN.add(layers.Dropout(0.4))\n",
        "RNN.add(layers.Dense(256, kernel_regularizer=regularizers.l2(0.00001)))\n",
        "RNN.add(layers.Activation('relu'))\n",
        "RNN.add(layers.Dropout(0.4))\n",
        "RNN.add(layers.Dropout(0.4))\n",
        "RNN.add(layers.Dense(34, activation='softmax'))\n",
        "\n",
        "RNN.summary()\n",
        "\n",
        "RNN.compile(loss='categorical_crossentropy', optimizer='adam', metrics=['accuracy'])\n",
        "\n",
        "Hist_RNN = RNN.fit(X_train, y_train, epochs=150, batch_size=128, validation_data=(X_valid, y_valid))"
      ],
      "execution_count": null,
      "outputs": [
        {
          "output_type": "stream",
          "text": [
            "Model: \"sequential_5\"\n",
            "_________________________________________________________________\n",
            "Layer (type)                 Output Shape              Param #   \n",
            "=================================================================\n",
            "dense_15 (Dense)             (None, 512)               1382912   \n",
            "_________________________________________________________________\n",
            "batch_normalization (BatchNo (None, 512)               2048      \n",
            "_________________________________________________________________\n",
            "activation (Activation)      (None, 512)               0         \n",
            "_________________________________________________________________\n",
            "dropout_7 (Dropout)          (None, 512)               0         \n",
            "_________________________________________________________________\n",
            "dense_16 (Dense)             (None, 256)               131328    \n",
            "_________________________________________________________________\n",
            "activation_1 (Activation)    (None, 256)               0         \n",
            "_________________________________________________________________\n",
            "dropout_8 (Dropout)          (None, 256)               0         \n",
            "_________________________________________________________________\n",
            "dropout_9 (Dropout)          (None, 256)               0         \n",
            "_________________________________________________________________\n",
            "dense_17 (Dense)             (None, 34)                8738      \n",
            "=================================================================\n",
            "Total params: 1,525,026\n",
            "Trainable params: 1,524,002\n",
            "Non-trainable params: 1,024\n",
            "_________________________________________________________________\n",
            "Epoch 1/150\n",
            "125/125 [==============================] - 1s 6ms/step - loss: 3.7220 - accuracy: 0.0602 - val_loss: 3.2268 - val_accuracy: 0.1036\n",
            "Epoch 2/150\n",
            "125/125 [==============================] - 1s 5ms/step - loss: 3.1895 - accuracy: 0.1042 - val_loss: 3.1088 - val_accuracy: 0.1332\n",
            "Epoch 3/150\n",
            "125/125 [==============================] - 1s 5ms/step - loss: 3.0193 - accuracy: 0.1335 - val_loss: 3.0054 - val_accuracy: 0.1377\n",
            "Epoch 4/150\n",
            "125/125 [==============================] - 1s 5ms/step - loss: 2.9012 - accuracy: 0.1593 - val_loss: 2.8816 - val_accuracy: 0.1660\n",
            "Epoch 5/150\n",
            "125/125 [==============================] - 1s 5ms/step - loss: 2.8260 - accuracy: 0.1624 - val_loss: 2.8720 - val_accuracy: 0.1660\n",
            "Epoch 6/150\n",
            "125/125 [==============================] - 1s 5ms/step - loss: 2.7327 - accuracy: 0.1885 - val_loss: 2.7947 - val_accuracy: 0.1748\n",
            "Epoch 7/150\n",
            "125/125 [==============================] - 1s 5ms/step - loss: 2.6846 - accuracy: 0.1992 - val_loss: 2.8102 - val_accuracy: 0.1841\n",
            "Epoch 8/150\n",
            "125/125 [==============================] - 1s 5ms/step - loss: 2.6338 - accuracy: 0.2150 - val_loss: 2.7587 - val_accuracy: 0.2007\n",
            "Epoch 9/150\n",
            "125/125 [==============================] - 1s 5ms/step - loss: 2.5826 - accuracy: 0.2251 - val_loss: 2.7480 - val_accuracy: 0.1718\n",
            "Epoch 10/150\n",
            "125/125 [==============================] - 1s 5ms/step - loss: 2.5232 - accuracy: 0.2413 - val_loss: 2.7568 - val_accuracy: 0.1776\n",
            "Epoch 11/150\n",
            "125/125 [==============================] - 1s 5ms/step - loss: 2.4940 - accuracy: 0.2445 - val_loss: 2.6542 - val_accuracy: 0.2177\n",
            "Epoch 12/150\n",
            "125/125 [==============================] - 1s 5ms/step - loss: 2.4371 - accuracy: 0.2590 - val_loss: 2.5887 - val_accuracy: 0.2235\n",
            "Epoch 13/150\n",
            "125/125 [==============================] - 1s 5ms/step - loss: 2.3945 - accuracy: 0.2694 - val_loss: 2.5286 - val_accuracy: 0.2471\n",
            "Epoch 14/150\n",
            "125/125 [==============================] - 1s 5ms/step - loss: 2.3688 - accuracy: 0.2798 - val_loss: 2.4997 - val_accuracy: 0.2598\n",
            "Epoch 15/150\n",
            "125/125 [==============================] - 1s 5ms/step - loss: 2.3200 - accuracy: 0.2892 - val_loss: 2.5067 - val_accuracy: 0.2295\n",
            "Epoch 16/150\n",
            "125/125 [==============================] - 1s 5ms/step - loss: 2.2897 - accuracy: 0.2970 - val_loss: 2.4401 - val_accuracy: 0.2691\n",
            "Epoch 17/150\n",
            "125/125 [==============================] - 1s 5ms/step - loss: 2.2557 - accuracy: 0.3052 - val_loss: 2.4583 - val_accuracy: 0.2586\n",
            "Epoch 18/150\n",
            "125/125 [==============================] - 1s 5ms/step - loss: 2.2283 - accuracy: 0.3166 - val_loss: 2.4068 - val_accuracy: 0.2639\n",
            "Epoch 19/150\n",
            "125/125 [==============================] - 1s 5ms/step - loss: 2.1930 - accuracy: 0.3194 - val_loss: 2.3981 - val_accuracy: 0.2751\n",
            "Epoch 20/150\n",
            "125/125 [==============================] - 1s 5ms/step - loss: 2.1681 - accuracy: 0.3303 - val_loss: 2.3975 - val_accuracy: 0.2754\n",
            "Epoch 21/150\n",
            "125/125 [==============================] - 1s 5ms/step - loss: 2.1395 - accuracy: 0.3290 - val_loss: 2.5795 - val_accuracy: 0.2315\n",
            "Epoch 22/150\n",
            "125/125 [==============================] - 1s 5ms/step - loss: 2.1227 - accuracy: 0.3442 - val_loss: 2.3988 - val_accuracy: 0.2719\n",
            "Epoch 23/150\n",
            "125/125 [==============================] - 1s 5ms/step - loss: 2.0889 - accuracy: 0.3553 - val_loss: 2.3274 - val_accuracy: 0.3010\n",
            "Epoch 24/150\n",
            "125/125 [==============================] - 1s 5ms/step - loss: 2.0647 - accuracy: 0.3615 - val_loss: 2.3545 - val_accuracy: 0.2782\n",
            "Epoch 25/150\n",
            "125/125 [==============================] - 1s 5ms/step - loss: 2.0185 - accuracy: 0.3701 - val_loss: 2.3151 - val_accuracy: 0.3022\n",
            "Epoch 26/150\n",
            "125/125 [==============================] - 1s 5ms/step - loss: 1.9922 - accuracy: 0.3748 - val_loss: 2.4842 - val_accuracy: 0.2553\n",
            "Epoch 27/150\n",
            "125/125 [==============================] - 1s 5ms/step - loss: 1.9822 - accuracy: 0.3792 - val_loss: 2.2962 - val_accuracy: 0.3050\n",
            "Epoch 28/150\n",
            "125/125 [==============================] - 1s 5ms/step - loss: 1.9503 - accuracy: 0.3808 - val_loss: 2.3656 - val_accuracy: 0.2766\n",
            "Epoch 29/150\n",
            "125/125 [==============================] - 1s 5ms/step - loss: 1.9433 - accuracy: 0.3981 - val_loss: 2.3102 - val_accuracy: 0.3022\n",
            "Epoch 30/150\n",
            "125/125 [==============================] - 1s 5ms/step - loss: 1.9328 - accuracy: 0.4052 - val_loss: 2.2763 - val_accuracy: 0.2990\n",
            "Epoch 31/150\n",
            "125/125 [==============================] - 1s 5ms/step - loss: 1.8942 - accuracy: 0.4107 - val_loss: 2.4159 - val_accuracy: 0.2832\n",
            "Epoch 32/150\n",
            "125/125 [==============================] - 1s 5ms/step - loss: 1.8737 - accuracy: 0.4191 - val_loss: 2.2451 - val_accuracy: 0.3135\n",
            "Epoch 33/150\n",
            "125/125 [==============================] - 1s 5ms/step - loss: 1.8467 - accuracy: 0.4249 - val_loss: 2.3631 - val_accuracy: 0.2904\n",
            "Epoch 34/150\n",
            "125/125 [==============================] - 1s 5ms/step - loss: 1.8272 - accuracy: 0.4311 - val_loss: 2.3333 - val_accuracy: 0.3065\n",
            "Epoch 35/150\n",
            "125/125 [==============================] - 1s 5ms/step - loss: 1.8247 - accuracy: 0.4312 - val_loss: 2.3399 - val_accuracy: 0.2852\n",
            "Epoch 36/150\n",
            "125/125 [==============================] - 1s 5ms/step - loss: 1.7854 - accuracy: 0.4394 - val_loss: 2.2817 - val_accuracy: 0.3148\n",
            "Epoch 37/150\n",
            "125/125 [==============================] - 1s 5ms/step - loss: 1.7800 - accuracy: 0.4429 - val_loss: 2.2409 - val_accuracy: 0.3160\n",
            "Epoch 38/150\n",
            "125/125 [==============================] - 1s 5ms/step - loss: 1.7828 - accuracy: 0.4365 - val_loss: 2.2602 - val_accuracy: 0.3258\n",
            "Epoch 39/150\n",
            "125/125 [==============================] - 1s 5ms/step - loss: 1.7536 - accuracy: 0.4570 - val_loss: 2.3426 - val_accuracy: 0.3163\n",
            "Epoch 40/150\n",
            "125/125 [==============================] - 1s 5ms/step - loss: 1.7256 - accuracy: 0.4629 - val_loss: 2.4056 - val_accuracy: 0.3035\n",
            "Epoch 41/150\n",
            "125/125 [==============================] - 1s 5ms/step - loss: 1.7073 - accuracy: 0.4675 - val_loss: 2.1844 - val_accuracy: 0.3434\n",
            "Epoch 42/150\n",
            "125/125 [==============================] - 1s 5ms/step - loss: 1.6752 - accuracy: 0.4727 - val_loss: 2.1153 - val_accuracy: 0.3674\n",
            "Epoch 43/150\n",
            "125/125 [==============================] - 1s 5ms/step - loss: 1.6960 - accuracy: 0.4787 - val_loss: 2.1953 - val_accuracy: 0.3313\n",
            "Epoch 44/150\n",
            "125/125 [==============================] - 1s 5ms/step - loss: 1.6773 - accuracy: 0.4752 - val_loss: 2.4208 - val_accuracy: 0.2972\n",
            "Epoch 45/150\n",
            "125/125 [==============================] - 1s 5ms/step - loss: 1.6301 - accuracy: 0.4899 - val_loss: 2.3964 - val_accuracy: 0.3143\n",
            "Epoch 46/150\n",
            "125/125 [==============================] - 1s 5ms/step - loss: 1.6305 - accuracy: 0.4951 - val_loss: 2.1577 - val_accuracy: 0.3469\n",
            "Epoch 47/150\n",
            "125/125 [==============================] - 1s 5ms/step - loss: 1.5977 - accuracy: 0.4957 - val_loss: 2.5009 - val_accuracy: 0.3070\n",
            "Epoch 48/150\n",
            "125/125 [==============================] - 1s 5ms/step - loss: 1.6136 - accuracy: 0.4963 - val_loss: 2.5961 - val_accuracy: 0.2754\n",
            "Epoch 49/150\n",
            "125/125 [==============================] - 1s 5ms/step - loss: 1.5969 - accuracy: 0.5033 - val_loss: 2.1586 - val_accuracy: 0.3622\n",
            "Epoch 50/150\n",
            "125/125 [==============================] - 1s 5ms/step - loss: 1.5765 - accuracy: 0.5108 - val_loss: 2.3417 - val_accuracy: 0.3348\n",
            "Epoch 51/150\n",
            "125/125 [==============================] - 1s 5ms/step - loss: 1.5491 - accuracy: 0.5184 - val_loss: 2.2962 - val_accuracy: 0.3241\n",
            "Epoch 52/150\n",
            "125/125 [==============================] - 1s 5ms/step - loss: 1.5489 - accuracy: 0.5175 - val_loss: 2.2131 - val_accuracy: 0.3383\n",
            "Epoch 53/150\n",
            "125/125 [==============================] - 1s 5ms/step - loss: 1.5428 - accuracy: 0.5272 - val_loss: 2.1368 - val_accuracy: 0.3589\n",
            "Epoch 54/150\n",
            "125/125 [==============================] - 1s 5ms/step - loss: 1.5368 - accuracy: 0.5249 - val_loss: 2.2289 - val_accuracy: 0.3466\n",
            "Epoch 55/150\n",
            "125/125 [==============================] - 1s 5ms/step - loss: 1.5332 - accuracy: 0.5284 - val_loss: 2.2230 - val_accuracy: 0.3416\n",
            "Epoch 56/150\n",
            "125/125 [==============================] - 1s 5ms/step - loss: 1.4952 - accuracy: 0.5337 - val_loss: 2.1238 - val_accuracy: 0.3837\n",
            "Epoch 57/150\n",
            "125/125 [==============================] - 1s 5ms/step - loss: 1.4946 - accuracy: 0.5363 - val_loss: 2.1296 - val_accuracy: 0.3750\n",
            "Epoch 58/150\n",
            "125/125 [==============================] - 1s 5ms/step - loss: 1.4718 - accuracy: 0.5526 - val_loss: 2.1233 - val_accuracy: 0.3707\n",
            "Epoch 59/150\n",
            "125/125 [==============================] - 1s 5ms/step - loss: 1.4775 - accuracy: 0.5413 - val_loss: 2.2272 - val_accuracy: 0.3612\n",
            "Epoch 60/150\n",
            "125/125 [==============================] - 1s 5ms/step - loss: 1.4787 - accuracy: 0.5471 - val_loss: 2.1574 - val_accuracy: 0.3810\n",
            "Epoch 61/150\n",
            "125/125 [==============================] - 1s 5ms/step - loss: 1.4580 - accuracy: 0.5527 - val_loss: 2.1289 - val_accuracy: 0.3715\n",
            "Epoch 62/150\n",
            "125/125 [==============================] - 1s 5ms/step - loss: 1.4462 - accuracy: 0.5508 - val_loss: 2.1566 - val_accuracy: 0.3662\n",
            "Epoch 63/150\n",
            "125/125 [==============================] - 1s 5ms/step - loss: 1.4497 - accuracy: 0.5515 - val_loss: 2.3897 - val_accuracy: 0.3258\n",
            "Epoch 64/150\n",
            "125/125 [==============================] - 1s 5ms/step - loss: 1.4488 - accuracy: 0.5522 - val_loss: 2.2720 - val_accuracy: 0.3574\n",
            "Epoch 65/150\n",
            "125/125 [==============================] - 1s 5ms/step - loss: 1.4242 - accuracy: 0.5664 - val_loss: 2.1647 - val_accuracy: 0.3740\n",
            "Epoch 66/150\n",
            "125/125 [==============================] - 1s 5ms/step - loss: 1.4099 - accuracy: 0.5663 - val_loss: 2.5496 - val_accuracy: 0.3228\n",
            "Epoch 67/150\n",
            "125/125 [==============================] - 1s 5ms/step - loss: 1.4021 - accuracy: 0.5776 - val_loss: 2.1825 - val_accuracy: 0.3712\n",
            "Epoch 68/150\n",
            "125/125 [==============================] - 1s 5ms/step - loss: 1.3821 - accuracy: 0.5721 - val_loss: 2.1675 - val_accuracy: 0.3659\n",
            "Epoch 69/150\n",
            "125/125 [==============================] - 1s 5ms/step - loss: 1.3755 - accuracy: 0.5805 - val_loss: 2.0896 - val_accuracy: 0.3925\n",
            "Epoch 70/150\n",
            "125/125 [==============================] - 1s 5ms/step - loss: 1.3628 - accuracy: 0.5805 - val_loss: 2.3118 - val_accuracy: 0.3602\n",
            "Epoch 71/150\n",
            "125/125 [==============================] - 1s 5ms/step - loss: 1.3681 - accuracy: 0.5860 - val_loss: 2.0970 - val_accuracy: 0.3795\n",
            "Epoch 72/150\n",
            "125/125 [==============================] - 1s 5ms/step - loss: 1.3362 - accuracy: 0.5944 - val_loss: 2.2252 - val_accuracy: 0.3750\n",
            "Epoch 73/150\n",
            "125/125 [==============================] - 1s 5ms/step - loss: 1.3506 - accuracy: 0.5939 - val_loss: 2.1320 - val_accuracy: 0.3797\n",
            "Epoch 74/150\n",
            "125/125 [==============================] - 1s 5ms/step - loss: 1.3327 - accuracy: 0.5936 - val_loss: 2.4056 - val_accuracy: 0.3474\n",
            "Epoch 75/150\n",
            "125/125 [==============================] - 1s 5ms/step - loss: 1.3278 - accuracy: 0.5990 - val_loss: 2.1967 - val_accuracy: 0.3597\n",
            "Epoch 76/150\n",
            "125/125 [==============================] - 1s 5ms/step - loss: 1.3017 - accuracy: 0.6111 - val_loss: 2.1784 - val_accuracy: 0.3780\n",
            "Epoch 77/150\n",
            "125/125 [==============================] - 1s 5ms/step - loss: 1.3118 - accuracy: 0.6061 - val_loss: 2.1188 - val_accuracy: 0.3925\n",
            "Epoch 78/150\n",
            "125/125 [==============================] - 1s 5ms/step - loss: 1.3159 - accuracy: 0.6052 - val_loss: 2.4853 - val_accuracy: 0.3386\n",
            "Epoch 79/150\n",
            "125/125 [==============================] - 1s 5ms/step - loss: 1.2781 - accuracy: 0.6107 - val_loss: 2.2647 - val_accuracy: 0.3692\n",
            "Epoch 80/150\n",
            "125/125 [==============================] - 1s 5ms/step - loss: 1.3102 - accuracy: 0.6087 - val_loss: 2.2658 - val_accuracy: 0.3692\n",
            "Epoch 81/150\n",
            "125/125 [==============================] - 1s 5ms/step - loss: 1.2694 - accuracy: 0.6196 - val_loss: 2.3361 - val_accuracy: 0.3654\n",
            "Epoch 82/150\n",
            "125/125 [==============================] - 1s 5ms/step - loss: 1.2709 - accuracy: 0.6175 - val_loss: 2.2451 - val_accuracy: 0.3785\n",
            "Epoch 83/150\n",
            "125/125 [==============================] - 1s 5ms/step - loss: 1.2836 - accuracy: 0.6069 - val_loss: 2.2392 - val_accuracy: 0.3870\n",
            "Epoch 84/150\n",
            "125/125 [==============================] - 1s 5ms/step - loss: 1.2412 - accuracy: 0.6301 - val_loss: 2.4877 - val_accuracy: 0.3499\n",
            "Epoch 85/150\n",
            "125/125 [==============================] - 1s 5ms/step - loss: 1.2347 - accuracy: 0.6361 - val_loss: 2.2878 - val_accuracy: 0.3782\n",
            "Epoch 86/150\n",
            "125/125 [==============================] - 1s 5ms/step - loss: 1.2615 - accuracy: 0.6236 - val_loss: 2.1920 - val_accuracy: 0.3930\n",
            "Epoch 87/150\n",
            "125/125 [==============================] - 1s 5ms/step - loss: 1.2716 - accuracy: 0.6211 - val_loss: 2.3366 - val_accuracy: 0.3692\n",
            "Epoch 88/150\n",
            "125/125 [==============================] - 1s 5ms/step - loss: 1.2193 - accuracy: 0.6361 - val_loss: 2.2117 - val_accuracy: 0.3935\n",
            "Epoch 89/150\n",
            "125/125 [==============================] - 1s 5ms/step - loss: 1.2444 - accuracy: 0.6286 - val_loss: 2.6159 - val_accuracy: 0.3404\n",
            "Epoch 90/150\n",
            "125/125 [==============================] - 1s 5ms/step - loss: 1.2275 - accuracy: 0.6409 - val_loss: 2.4558 - val_accuracy: 0.3587\n",
            "Epoch 91/150\n",
            "125/125 [==============================] - 1s 5ms/step - loss: 1.1960 - accuracy: 0.6473 - val_loss: 2.3931 - val_accuracy: 0.3592\n",
            "Epoch 92/150\n",
            "125/125 [==============================] - 1s 5ms/step - loss: 1.2018 - accuracy: 0.6434 - val_loss: 2.1866 - val_accuracy: 0.3842\n",
            "Epoch 93/150\n",
            "125/125 [==============================] - 1s 5ms/step - loss: 1.2035 - accuracy: 0.6412 - val_loss: 2.3204 - val_accuracy: 0.3747\n",
            "Epoch 94/150\n",
            "125/125 [==============================] - 1s 5ms/step - loss: 1.2075 - accuracy: 0.6509 - val_loss: 2.3579 - val_accuracy: 0.3752\n",
            "Epoch 95/150\n",
            "125/125 [==============================] - 1s 5ms/step - loss: 1.1994 - accuracy: 0.6428 - val_loss: 2.1898 - val_accuracy: 0.3720\n",
            "Epoch 96/150\n",
            "125/125 [==============================] - 1s 5ms/step - loss: 1.1879 - accuracy: 0.6478 - val_loss: 2.1911 - val_accuracy: 0.3950\n",
            "Epoch 97/150\n",
            "125/125 [==============================] - 1s 5ms/step - loss: 1.1603 - accuracy: 0.6568 - val_loss: 2.6191 - val_accuracy: 0.3476\n",
            "Epoch 98/150\n",
            "125/125 [==============================] - 1s 5ms/step - loss: 1.1676 - accuracy: 0.6574 - val_loss: 2.6489 - val_accuracy: 0.3521\n",
            "Epoch 99/150\n",
            "125/125 [==============================] - 1s 5ms/step - loss: 1.1760 - accuracy: 0.6543 - val_loss: 2.4007 - val_accuracy: 0.3604\n",
            "Epoch 100/150\n",
            "125/125 [==============================] - 1s 5ms/step - loss: 1.1428 - accuracy: 0.6597 - val_loss: 2.5966 - val_accuracy: 0.3597\n",
            "Epoch 101/150\n",
            "125/125 [==============================] - 1s 5ms/step - loss: 1.1880 - accuracy: 0.6559 - val_loss: 2.2221 - val_accuracy: 0.3898\n",
            "Epoch 102/150\n",
            "125/125 [==============================] - 1s 5ms/step - loss: 1.1552 - accuracy: 0.6595 - val_loss: 2.3683 - val_accuracy: 0.3865\n",
            "Epoch 103/150\n",
            "125/125 [==============================] - 1s 5ms/step - loss: 1.1491 - accuracy: 0.6647 - val_loss: 2.2412 - val_accuracy: 0.3963\n",
            "Epoch 104/150\n",
            "125/125 [==============================] - 1s 5ms/step - loss: 1.1365 - accuracy: 0.6665 - val_loss: 2.7443 - val_accuracy: 0.3386\n",
            "Epoch 105/150\n",
            "125/125 [==============================] - 1s 5ms/step - loss: 1.1208 - accuracy: 0.6777 - val_loss: 2.3608 - val_accuracy: 0.3850\n",
            "Epoch 106/150\n",
            "125/125 [==============================] - 1s 5ms/step - loss: 1.1317 - accuracy: 0.6760 - val_loss: 2.3226 - val_accuracy: 0.3870\n",
            "Epoch 107/150\n",
            "125/125 [==============================] - 1s 5ms/step - loss: 1.1563 - accuracy: 0.6676 - val_loss: 2.2766 - val_accuracy: 0.3855\n",
            "Epoch 108/150\n",
            "125/125 [==============================] - 1s 5ms/step - loss: 1.1222 - accuracy: 0.6777 - val_loss: 2.3609 - val_accuracy: 0.3715\n",
            "Epoch 109/150\n",
            "125/125 [==============================] - 1s 5ms/step - loss: 1.1454 - accuracy: 0.6662 - val_loss: 2.1728 - val_accuracy: 0.3980\n",
            "Epoch 110/150\n",
            "125/125 [==============================] - 1s 5ms/step - loss: 1.1128 - accuracy: 0.6783 - val_loss: 2.3327 - val_accuracy: 0.4033\n",
            "Epoch 111/150\n",
            "125/125 [==============================] - 1s 5ms/step - loss: 1.0893 - accuracy: 0.6882 - val_loss: 2.6008 - val_accuracy: 0.3529\n",
            "Epoch 112/150\n",
            "125/125 [==============================] - 1s 5ms/step - loss: 1.1260 - accuracy: 0.6813 - val_loss: 3.1278 - val_accuracy: 0.3386\n",
            "Epoch 113/150\n",
            "125/125 [==============================] - 1s 5ms/step - loss: 1.0914 - accuracy: 0.6870 - val_loss: 2.4534 - val_accuracy: 0.3717\n",
            "Epoch 114/150\n",
            "125/125 [==============================] - 1s 5ms/step - loss: 1.1053 - accuracy: 0.6847 - val_loss: 2.2695 - val_accuracy: 0.3973\n",
            "Epoch 115/150\n",
            "125/125 [==============================] - 1s 5ms/step - loss: 1.0818 - accuracy: 0.6933 - val_loss: 2.3693 - val_accuracy: 0.3737\n",
            "Epoch 116/150\n",
            "125/125 [==============================] - 1s 5ms/step - loss: 1.0938 - accuracy: 0.6889 - val_loss: 2.6318 - val_accuracy: 0.3737\n",
            "Epoch 117/150\n",
            "125/125 [==============================] - 1s 5ms/step - loss: 1.1096 - accuracy: 0.6850 - val_loss: 2.4877 - val_accuracy: 0.3760\n",
            "Epoch 118/150\n",
            "125/125 [==============================] - 1s 5ms/step - loss: 1.0776 - accuracy: 0.6942 - val_loss: 2.2640 - val_accuracy: 0.3953\n",
            "Epoch 119/150\n",
            "125/125 [==============================] - 1s 5ms/step - loss: 1.0984 - accuracy: 0.6911 - val_loss: 2.4552 - val_accuracy: 0.3858\n",
            "Epoch 120/150\n",
            "125/125 [==============================] - 1s 5ms/step - loss: 1.0856 - accuracy: 0.6931 - val_loss: 2.4474 - val_accuracy: 0.3772\n",
            "Epoch 121/150\n",
            "125/125 [==============================] - 1s 5ms/step - loss: 1.0720 - accuracy: 0.6917 - val_loss: 2.2222 - val_accuracy: 0.4239\n",
            "Epoch 122/150\n",
            "125/125 [==============================] - 1s 5ms/step - loss: 1.0836 - accuracy: 0.6963 - val_loss: 2.6978 - val_accuracy: 0.3627\n",
            "Epoch 123/150\n",
            "125/125 [==============================] - 1s 5ms/step - loss: 1.0568 - accuracy: 0.7010 - val_loss: 2.5983 - val_accuracy: 0.3669\n",
            "Epoch 124/150\n",
            "125/125 [==============================] - 1s 5ms/step - loss: 1.0753 - accuracy: 0.6960 - val_loss: 2.4281 - val_accuracy: 0.3845\n",
            "Epoch 125/150\n",
            "125/125 [==============================] - 1s 5ms/step - loss: 1.0641 - accuracy: 0.7029 - val_loss: 2.4299 - val_accuracy: 0.3765\n",
            "Epoch 126/150\n",
            "125/125 [==============================] - 1s 5ms/step - loss: 1.0594 - accuracy: 0.7033 - val_loss: 2.3333 - val_accuracy: 0.3965\n",
            "Epoch 127/150\n",
            "125/125 [==============================] - 1s 5ms/step - loss: 1.0547 - accuracy: 0.7020 - val_loss: 2.3449 - val_accuracy: 0.4021\n",
            "Epoch 128/150\n",
            "125/125 [==============================] - 1s 5ms/step - loss: 1.0577 - accuracy: 0.7012 - val_loss: 2.5226 - val_accuracy: 0.3827\n",
            "Epoch 129/150\n",
            "125/125 [==============================] - 1s 5ms/step - loss: 1.0475 - accuracy: 0.7006 - val_loss: 2.8759 - val_accuracy: 0.3411\n",
            "Epoch 130/150\n",
            "125/125 [==============================] - 1s 5ms/step - loss: 1.0496 - accuracy: 0.7078 - val_loss: 2.4046 - val_accuracy: 0.3860\n",
            "Epoch 131/150\n",
            "125/125 [==============================] - 1s 5ms/step - loss: 1.0464 - accuracy: 0.7058 - val_loss: 2.8720 - val_accuracy: 0.3622\n",
            "Epoch 132/150\n",
            "125/125 [==============================] - 1s 5ms/step - loss: 1.0454 - accuracy: 0.7063 - val_loss: 2.5915 - val_accuracy: 0.3717\n",
            "Epoch 133/150\n",
            "125/125 [==============================] - 1s 5ms/step - loss: 1.0361 - accuracy: 0.7158 - val_loss: 3.0238 - val_accuracy: 0.3516\n",
            "Epoch 134/150\n",
            "125/125 [==============================] - 1s 5ms/step - loss: 1.0244 - accuracy: 0.7148 - val_loss: 2.4900 - val_accuracy: 0.3865\n",
            "Epoch 135/150\n",
            "125/125 [==============================] - 1s 5ms/step - loss: 1.0235 - accuracy: 0.7224 - val_loss: 2.6341 - val_accuracy: 0.3797\n",
            "Epoch 136/150\n",
            "125/125 [==============================] - 1s 5ms/step - loss: 1.0498 - accuracy: 0.7069 - val_loss: 3.1282 - val_accuracy: 0.3409\n",
            "Epoch 137/150\n",
            "125/125 [==============================] - 1s 5ms/step - loss: 0.9984 - accuracy: 0.7243 - val_loss: 2.3312 - val_accuracy: 0.3777\n",
            "Epoch 138/150\n",
            "125/125 [==============================] - 1s 5ms/step - loss: 1.0285 - accuracy: 0.7181 - val_loss: 2.6313 - val_accuracy: 0.3792\n",
            "Epoch 139/150\n",
            "125/125 [==============================] - 1s 5ms/step - loss: 1.0055 - accuracy: 0.7213 - val_loss: 2.4413 - val_accuracy: 0.3933\n",
            "Epoch 140/150\n",
            "125/125 [==============================] - 1s 5ms/step - loss: 1.0165 - accuracy: 0.7191 - val_loss: 2.8668 - val_accuracy: 0.3722\n",
            "Epoch 141/150\n",
            "125/125 [==============================] - 1s 5ms/step - loss: 0.9992 - accuracy: 0.7233 - val_loss: 2.5200 - val_accuracy: 0.3785\n",
            "Epoch 142/150\n",
            "125/125 [==============================] - 1s 5ms/step - loss: 1.0254 - accuracy: 0.7176 - val_loss: 2.6030 - val_accuracy: 0.3822\n",
            "Epoch 143/150\n",
            "125/125 [==============================] - 1s 5ms/step - loss: 1.0111 - accuracy: 0.7238 - val_loss: 2.5337 - val_accuracy: 0.3885\n",
            "Epoch 144/150\n",
            "125/125 [==============================] - 1s 5ms/step - loss: 0.9860 - accuracy: 0.7332 - val_loss: 2.7718 - val_accuracy: 0.3674\n",
            "Epoch 145/150\n",
            "125/125 [==============================] - 1s 5ms/step - loss: 1.0034 - accuracy: 0.7255 - val_loss: 2.5015 - val_accuracy: 0.3903\n",
            "Epoch 146/150\n",
            "125/125 [==============================] - 1s 5ms/step - loss: 1.0088 - accuracy: 0.7279 - val_loss: 2.5556 - val_accuracy: 0.3900\n",
            "Epoch 147/150\n",
            "125/125 [==============================] - 1s 5ms/step - loss: 1.0116 - accuracy: 0.7237 - val_loss: 2.5766 - val_accuracy: 0.3790\n",
            "Epoch 148/150\n",
            "125/125 [==============================] - 1s 5ms/step - loss: 0.9910 - accuracy: 0.7312 - val_loss: 2.7058 - val_accuracy: 0.3742\n",
            "Epoch 149/150\n",
            "125/125 [==============================] - 1s 5ms/step - loss: 1.0061 - accuracy: 0.7273 - val_loss: 2.5530 - val_accuracy: 0.3975\n",
            "Epoch 150/150\n",
            "125/125 [==============================] - 1s 5ms/step - loss: 0.9846 - accuracy: 0.7366 - val_loss: 3.0125 - val_accuracy: 0.3632\n"
          ],
          "name": "stdout"
        }
      ]
    },
    {
      "cell_type": "code",
      "metadata": {
        "colab": {
          "base_uri": "https://localhost:8080/"
        },
        "id": "zLJALy3NzmIr",
        "outputId": "da8a38ed-a776-4820-f37b-6ef836c8aef9"
      },
      "source": [
        "loss, accuracy = RNN.evaluate(X_test, y_test)\n",
        "\n",
        "loss_RNN, accuracy_RNN"
      ],
      "execution_count": null,
      "outputs": [
        {
          "output_type": "stream",
          "text": [
            "156/156 [==============================] - 0s 2ms/step - loss: 2.9984 - accuracy: 0.3551\n"
          ],
          "name": "stdout"
        },
        {
          "output_type": "execute_result",
          "data": {
            "text/plain": [
              "(2.9983692169189453, 0.3551364243030548)"
            ]
          },
          "metadata": {
            "tags": []
          },
          "execution_count": 32
        }
      ]
    },
    {
      "cell_type": "code",
      "metadata": {
        "colab": {
          "base_uri": "https://localhost:8080/",
          "height": 513
        },
        "id": "emigULvtzmIs",
        "outputId": "3f8e5338-473f-4606-bc77-7d72ecdc9f70"
      },
      "source": [
        "import matplotlib.pyplot as plt\n",
        "\n",
        "epochs = range(1, len(Hist_RNN3.history['loss'])+1)\n",
        "\n",
        "\n",
        "plt.plot(epochs, Hist_RNN3.history['loss'])\n",
        "plt.plot(epochs, Hist_RNN3.history['val_loss'])\n",
        "plt.legend(['Training Loss','Test Loss'])\n",
        "plt.grid()\n",
        "plt.show()\n",
        "\n",
        "\n",
        "\n",
        "plt.plot(epochs, Hist_RNN2.history['accuracy'])\n",
        "plt.plot(epochs, Hist_RNN2.history['val_accuracy'])\n",
        "plt.legend(['Training accuracy','Test accuracy'])\n",
        "plt.grid()\n",
        "plt.show()"
      ],
      "execution_count": null,
      "outputs": [
        {
          "output_type": "display_data",
          "data": {
            "image/png": "[encoded data removed]",
            "text/plain": [
              "<Figure size 432x288 with 1 Axes>"
            ]
          },
          "metadata": {
            "tags": [],
            "needs_background": "light"
          }
        },
        {
          "output_type": "display_data",
          "data": {
            "image/png": "[encoded data removed]",
            "text/plain": [
              "<Figure size 432x288 with 1 Axes>"
            ]
          },
          "metadata": {
            "tags": [],
            "needs_background": "light"
          }
        }
      ]
    },
    {
      "cell_type": "markdown",
      "metadata": {
        "id": "hAvNz9KzxSok"
      },
      "source": [
        "## 2) CNN"
      ]
    },
    {
      "cell_type": "code",
      "metadata": {
        "colab": {
          "base_uri": "https://localhost:8080/"
        },
        "id": "dUOQM76m1VFL",
        "outputId": "01bc8ed6-757e-491a-bd7b-6e0b64d724ad"
      },
      "source": [
        "X_train = X_train.reshape((15945, 30,30,3))\n",
        "X_valid =X_valid.reshape((3987, 30,30,3))\n",
        "X_test= X_test.reshape((4984, 30,30,3))\n",
        "X_train.shape, X_valid.shape, X_test.shape"
      ],
      "execution_count": 118,
      "outputs": [
        {
          "output_type": "execute_result",
          "data": {
            "text/plain": [
              "((15945, 30, 30, 3), (3987, 30, 30, 3), (4984, 30, 30, 3))"
            ]
          },
          "metadata": {
            "tags": []
          },
          "execution_count": 118
        }
      ]
    },
    {
      "cell_type": "code",
      "metadata": {
        "id": "RBWySxw-y_KZ"
      },
      "source": [
        "from keras.preprocessing.image import ImageDataGenerator\n",
        "\n",
        "X_train_datagen = ImageDataGenerator(rotation_range=40, width_shift_range=0.2, height_shift_range=0.2,\n",
        "                                   shear_range=0.2, zoom_range=0.2, horizontal_flip=True, vertical_flip=True, \n",
        "                                   fill_mode='nearest')\n",
        "\n",
        "X_valid_datagen = ImageDataGenerator()\n",
        "\n",
        "train_generator = X_train_datagen.flow(X_train, y_train, batch_size=128)\n",
        "valid_generator = X_valid_datagen.flow(X_valid, y_valid, batch_size=128)"
      ],
      "execution_count": 119,
      "outputs": []
    },
    {
      "cell_type": "markdown",
      "metadata": {
        "id": "gRpOdxYQ7CA4"
      },
      "source": [
        "### 1) basic"
      ]
    },
    {
      "cell_type": "code",
      "metadata": {
        "colab": {
          "base_uri": "https://localhost:8080/"
        },
        "id": "Lg-sQEO1z6b7",
        "outputId": "ef6b550b-a46d-4dfe-b660-a1b93f532249"
      },
      "source": [
        "from keras import layers, models\n",
        "\n",
        "CNN = models.Sequential()\n",
        "CNN.add(layers.Conv2D(32, (3,3), activation='relu', input_shape=(30, 30, 3)))\n",
        "CNN.add(layers.MaxPool2D((2,2)))\n",
        "CNN.add(layers.Conv2D(64, (3,3), activation='relu'))\n",
        "#CNN.add(layers.MaxPool2D((2,2)))\n",
        "CNN.add(layers.Conv2D(128, (3,3), activation='relu'))\n",
        "CNN.add(layers.MaxPool2D((2,2)))\n",
        "CNN.add(layers.Conv2D(128, (3,3), activation='relu'))\n",
        "\n",
        "CNN.add(layers.Flatten())\n",
        "CNN.add(layers.Dense(units=512, activation='relu'))\n",
        "CNN.add(layers.Dropout(0.5))\n",
        "CNN.add(layers.Dense(units=34, activation='softmax'))\n",
        "\n",
        "CNN.summary()\n",
        "\n",
        "CNN.compile(loss = 'categorical_crossentropy',\n",
        "              optimizer = 'adam',\n",
        "              metrics = ['accuracy'])"
      ],
      "execution_count": 120,
      "outputs": [
        {
          "output_type": "stream",
          "text": [
            "Model: \"sequential_33\"\n",
            "_________________________________________________________________\n",
            "Layer (type)                 Output Shape              Param #   \n",
            "=================================================================\n",
            "conv2d_150 (Conv2D)          (None, 28, 28, 32)        896       \n",
            "_________________________________________________________________\n",
            "max_pooling2d_56 (MaxPooling (None, 14, 14, 32)        0         \n",
            "_________________________________________________________________\n",
            "conv2d_151 (Conv2D)          (None, 12, 12, 64)        18496     \n",
            "_________________________________________________________________\n",
            "conv2d_152 (Conv2D)          (None, 10, 10, 128)       73856     \n",
            "_________________________________________________________________\n",
            "max_pooling2d_57 (MaxPooling (None, 5, 5, 128)         0         \n",
            "_________________________________________________________________\n",
            "conv2d_153 (Conv2D)          (None, 3, 3, 128)         147584    \n",
            "_________________________________________________________________\n",
            "flatten_32 (Flatten)         (None, 1152)              0         \n",
            "_________________________________________________________________\n",
            "dense_64 (Dense)             (None, 512)               590336    \n",
            "_________________________________________________________________\n",
            "dropout_87 (Dropout)         (None, 512)               0         \n",
            "_________________________________________________________________\n",
            "dense_65 (Dense)             (None, 34)                17442     \n",
            "=================================================================\n",
            "Total params: 848,610\n",
            "Trainable params: 848,610\n",
            "Non-trainable params: 0\n",
            "_________________________________________________________________\n"
          ],
          "name": "stdout"
        }
      ]
    },
    {
      "cell_type": "code",
      "metadata": {
        "colab": {
          "base_uri": "https://localhost:8080/"
        },
        "id": "hWRLSXhn0EUr",
        "outputId": "50a1cacb-3648-4b20-c95f-a460033aaa97"
      },
      "source": [
        "%%time\n",
        "Hist_CNN = CNN.fit(train_generator, steps_per_epoch=len(X_train)/128 ,\n",
        "                       epochs = 100,\n",
        "                       validation_data=valid_generator, validation_steps=len(X_valid)/128)"
      ],
      "execution_count": 121,
      "outputs": [
        {
          "output_type": "stream",
          "text": [
            "Epoch 1/100\n",
            "124/124 [==============================] - 8s 62ms/step - loss: 3.4721 - accuracy: 0.0719 - val_loss: 3.4005 - val_accuracy: 0.0805\n",
            "Epoch 2/100\n",
            "124/124 [==============================] - 7s 60ms/step - loss: 3.1753 - accuracy: 0.0938 - val_loss: 3.1422 - val_accuracy: 0.1043\n",
            "Epoch 3/100\n",
            "124/124 [==============================] - 7s 60ms/step - loss: 3.0283 - accuracy: 0.1019 - val_loss: 2.9472 - val_accuracy: 0.1058\n",
            "Epoch 4/100\n",
            "124/124 [==============================] - 8s 60ms/step - loss: 2.9192 - accuracy: 0.1155 - val_loss: 3.0673 - val_accuracy: 0.1063\n",
            "Epoch 5/100\n",
            "124/124 [==============================] - 7s 60ms/step - loss: 2.8344 - accuracy: 0.1302 - val_loss: 2.9087 - val_accuracy: 0.1131\n",
            "Epoch 6/100\n",
            "124/124 [==============================] - 8s 60ms/step - loss: 2.7859 - accuracy: 0.1397 - val_loss: 2.9874 - val_accuracy: 0.1244\n",
            "Epoch 7/100\n",
            "124/124 [==============================] - 7s 60ms/step - loss: 2.7044 - accuracy: 0.1626 - val_loss: 2.5363 - val_accuracy: 0.1874\n",
            "Epoch 8/100\n",
            "124/124 [==============================] - 8s 61ms/step - loss: 2.6759 - accuracy: 0.1646 - val_loss: 2.8846 - val_accuracy: 0.1613\n",
            "Epoch 9/100\n",
            "124/124 [==============================] - 7s 60ms/step - loss: 2.5949 - accuracy: 0.1881 - val_loss: 2.6388 - val_accuracy: 0.1801\n",
            "Epoch 10/100\n",
            "124/124 [==============================] - 7s 60ms/step - loss: 2.5751 - accuracy: 0.1941 - val_loss: 2.6328 - val_accuracy: 0.1796\n",
            "Epoch 11/100\n",
            "124/124 [==============================] - 7s 59ms/step - loss: 2.5286 - accuracy: 0.2045 - val_loss: 2.5568 - val_accuracy: 0.1896\n",
            "Epoch 12/100\n",
            "124/124 [==============================] - 8s 61ms/step - loss: 2.4800 - accuracy: 0.2091 - val_loss: 2.9490 - val_accuracy: 0.1560\n",
            "Epoch 13/100\n",
            "124/124 [==============================] - 7s 59ms/step - loss: 2.4573 - accuracy: 0.2168 - val_loss: 2.7683 - val_accuracy: 0.1713\n",
            "Epoch 14/100\n",
            "124/124 [==============================] - 7s 60ms/step - loss: 2.4313 - accuracy: 0.2222 - val_loss: 2.6584 - val_accuracy: 0.1716\n",
            "Epoch 15/100\n",
            "124/124 [==============================] - 7s 60ms/step - loss: 2.3776 - accuracy: 0.2433 - val_loss: 2.4603 - val_accuracy: 0.2127\n",
            "Epoch 16/100\n",
            "124/124 [==============================] - 8s 60ms/step - loss: 2.3265 - accuracy: 0.2529 - val_loss: 2.4090 - val_accuracy: 0.2267\n",
            "Epoch 17/100\n",
            "124/124 [==============================] - 7s 60ms/step - loss: 2.3182 - accuracy: 0.2565 - val_loss: 2.3522 - val_accuracy: 0.2262\n",
            "Epoch 18/100\n",
            "124/124 [==============================] - 8s 60ms/step - loss: 2.3014 - accuracy: 0.2571 - val_loss: 2.4123 - val_accuracy: 0.2255\n",
            "Epoch 19/100\n",
            "124/124 [==============================] - 8s 61ms/step - loss: 2.2718 - accuracy: 0.2650 - val_loss: 2.3366 - val_accuracy: 0.2516\n",
            "Epoch 20/100\n",
            "124/124 [==============================] - 8s 61ms/step - loss: 2.2354 - accuracy: 0.2777 - val_loss: 2.4135 - val_accuracy: 0.2428\n",
            "Epoch 21/100\n",
            "124/124 [==============================] - 8s 60ms/step - loss: 2.2087 - accuracy: 0.2835 - val_loss: 2.4563 - val_accuracy: 0.2330\n",
            "Epoch 22/100\n",
            "124/124 [==============================] - 7s 60ms/step - loss: 2.1781 - accuracy: 0.2882 - val_loss: 2.5607 - val_accuracy: 0.2310\n",
            "Epoch 23/100\n",
            "124/124 [==============================] - 7s 60ms/step - loss: 2.1711 - accuracy: 0.2970 - val_loss: 2.5576 - val_accuracy: 0.2355\n",
            "Epoch 24/100\n",
            "124/124 [==============================] - 8s 60ms/step - loss: 2.1135 - accuracy: 0.3063 - val_loss: 2.4200 - val_accuracy: 0.2503\n",
            "Epoch 25/100\n",
            "124/124 [==============================] - 7s 60ms/step - loss: 2.1446 - accuracy: 0.3015 - val_loss: 2.9776 - val_accuracy: 0.1996\n",
            "Epoch 26/100\n",
            "124/124 [==============================] - 7s 60ms/step - loss: 2.1083 - accuracy: 0.3085 - val_loss: 2.2956 - val_accuracy: 0.2764\n",
            "Epoch 27/100\n",
            "124/124 [==============================] - 7s 59ms/step - loss: 2.0858 - accuracy: 0.3110 - val_loss: 2.4412 - val_accuracy: 0.2531\n",
            "Epoch 28/100\n",
            "124/124 [==============================] - 8s 61ms/step - loss: 2.0414 - accuracy: 0.3305 - val_loss: 2.4133 - val_accuracy: 0.2777\n",
            "Epoch 29/100\n",
            "124/124 [==============================] - 8s 61ms/step - loss: 2.0257 - accuracy: 0.3360 - val_loss: 2.1195 - val_accuracy: 0.3075\n",
            "Epoch 30/100\n",
            "124/124 [==============================] - 8s 60ms/step - loss: 2.0162 - accuracy: 0.3370 - val_loss: 2.6096 - val_accuracy: 0.2568\n",
            "Epoch 31/100\n",
            "124/124 [==============================] - 7s 60ms/step - loss: 2.0033 - accuracy: 0.3424 - val_loss: 2.4492 - val_accuracy: 0.2847\n",
            "Epoch 32/100\n",
            "124/124 [==============================] - 7s 59ms/step - loss: 2.0080 - accuracy: 0.3363 - val_loss: 2.4795 - val_accuracy: 0.2914\n",
            "Epoch 33/100\n",
            "124/124 [==============================] - 7s 60ms/step - loss: 1.9437 - accuracy: 0.3626 - val_loss: 2.3261 - val_accuracy: 0.2854\n",
            "Epoch 34/100\n",
            "124/124 [==============================] - 8s 61ms/step - loss: 1.9505 - accuracy: 0.3580 - val_loss: 2.3367 - val_accuracy: 0.2972\n",
            "Epoch 35/100\n",
            "124/124 [==============================] - 7s 59ms/step - loss: 1.9432 - accuracy: 0.3619 - val_loss: 2.1967 - val_accuracy: 0.3093\n",
            "Epoch 36/100\n",
            "124/124 [==============================] - 8s 60ms/step - loss: 1.9090 - accuracy: 0.3704 - val_loss: 2.5744 - val_accuracy: 0.2656\n",
            "Epoch 37/100\n",
            "124/124 [==============================] - 7s 60ms/step - loss: 1.8943 - accuracy: 0.3708 - val_loss: 2.0564 - val_accuracy: 0.3296\n",
            "Epoch 38/100\n",
            "124/124 [==============================] - 8s 62ms/step - loss: 1.8696 - accuracy: 0.3778 - val_loss: 2.3007 - val_accuracy: 0.3153\n",
            "Epoch 39/100\n",
            "124/124 [==============================] - 7s 60ms/step - loss: 1.8693 - accuracy: 0.3773 - val_loss: 2.3593 - val_accuracy: 0.2955\n",
            "Epoch 40/100\n",
            "124/124 [==============================] - 8s 61ms/step - loss: 1.8478 - accuracy: 0.3847 - val_loss: 2.1699 - val_accuracy: 0.3373\n",
            "Epoch 41/100\n",
            "124/124 [==============================] - 8s 60ms/step - loss: 1.8158 - accuracy: 0.3920 - val_loss: 2.6342 - val_accuracy: 0.2857\n",
            "Epoch 42/100\n",
            "124/124 [==============================] - 7s 60ms/step - loss: 1.8179 - accuracy: 0.3913 - val_loss: 1.7757 - val_accuracy: 0.4043\n",
            "Epoch 43/100\n",
            "124/124 [==============================] - 7s 60ms/step - loss: 1.8465 - accuracy: 0.3841 - val_loss: 2.2795 - val_accuracy: 0.3338\n",
            "Epoch 44/100\n",
            "124/124 [==============================] - 8s 61ms/step - loss: 1.8140 - accuracy: 0.3964 - val_loss: 1.8745 - val_accuracy: 0.3830\n",
            "Epoch 45/100\n",
            "124/124 [==============================] - 7s 60ms/step - loss: 1.7917 - accuracy: 0.4022 - val_loss: 2.0530 - val_accuracy: 0.3524\n",
            "Epoch 46/100\n",
            "124/124 [==============================] - 7s 60ms/step - loss: 1.7966 - accuracy: 0.3992 - val_loss: 2.2352 - val_accuracy: 0.3394\n",
            "Epoch 47/100\n",
            "124/124 [==============================] - 8s 61ms/step - loss: 1.7625 - accuracy: 0.4204 - val_loss: 2.1721 - val_accuracy: 0.3446\n",
            "Epoch 48/100\n",
            "124/124 [==============================] - 8s 60ms/step - loss: 1.7415 - accuracy: 0.4154 - val_loss: 2.0937 - val_accuracy: 0.3614\n",
            "Epoch 49/100\n",
            "124/124 [==============================] - 7s 60ms/step - loss: 1.7466 - accuracy: 0.4193 - val_loss: 2.3031 - val_accuracy: 0.3366\n",
            "Epoch 50/100\n",
            "124/124 [==============================] - 7s 60ms/step - loss: 1.7018 - accuracy: 0.4243 - val_loss: 2.2553 - val_accuracy: 0.3338\n",
            "Epoch 51/100\n",
            "124/124 [==============================] - 8s 60ms/step - loss: 1.7341 - accuracy: 0.4182 - val_loss: 1.9392 - val_accuracy: 0.3985\n",
            "Epoch 52/100\n",
            "124/124 [==============================] - 8s 61ms/step - loss: 1.7018 - accuracy: 0.4260 - val_loss: 2.0785 - val_accuracy: 0.3579\n",
            "Epoch 53/100\n",
            "124/124 [==============================] - 8s 60ms/step - loss: 1.7159 - accuracy: 0.4351 - val_loss: 2.3153 - val_accuracy: 0.3358\n",
            "Epoch 54/100\n",
            "124/124 [==============================] - 7s 60ms/step - loss: 1.7199 - accuracy: 0.4286 - val_loss: 1.7971 - val_accuracy: 0.4103\n",
            "Epoch 55/100\n",
            "124/124 [==============================] - 7s 60ms/step - loss: 1.6835 - accuracy: 0.4398 - val_loss: 1.9415 - val_accuracy: 0.3975\n",
            "Epoch 56/100\n",
            "124/124 [==============================] - 8s 61ms/step - loss: 1.6725 - accuracy: 0.4433 - val_loss: 2.1835 - val_accuracy: 0.3562\n",
            "Epoch 57/100\n",
            "124/124 [==============================] - 8s 61ms/step - loss: 1.6263 - accuracy: 0.4478 - val_loss: 2.0459 - val_accuracy: 0.3845\n",
            "Epoch 58/100\n",
            "124/124 [==============================] - 8s 61ms/step - loss: 1.6345 - accuracy: 0.4539 - val_loss: 2.2148 - val_accuracy: 0.3657\n",
            "Epoch 59/100\n",
            "124/124 [==============================] - 8s 60ms/step - loss: 1.6462 - accuracy: 0.4406 - val_loss: 2.0152 - val_accuracy: 0.3923\n",
            "Epoch 60/100\n",
            "124/124 [==============================] - 8s 63ms/step - loss: 1.6240 - accuracy: 0.4521 - val_loss: 2.1234 - val_accuracy: 0.3762\n",
            "Epoch 61/100\n",
            "124/124 [==============================] - 8s 61ms/step - loss: 1.6482 - accuracy: 0.4468 - val_loss: 1.9225 - val_accuracy: 0.4061\n",
            "Epoch 62/100\n",
            "124/124 [==============================] - 8s 61ms/step - loss: 1.6382 - accuracy: 0.4539 - val_loss: 1.9531 - val_accuracy: 0.3940\n",
            "Epoch 63/100\n",
            "124/124 [==============================] - 8s 60ms/step - loss: 1.6350 - accuracy: 0.4533 - val_loss: 2.5881 - val_accuracy: 0.3220\n",
            "Epoch 64/100\n",
            "124/124 [==============================] - 8s 62ms/step - loss: 1.6133 - accuracy: 0.4597 - val_loss: 1.7985 - val_accuracy: 0.4216\n",
            "Epoch 65/100\n",
            "124/124 [==============================] - 8s 60ms/step - loss: 1.5864 - accuracy: 0.4726 - val_loss: 2.3632 - val_accuracy: 0.3547\n",
            "Epoch 66/100\n",
            "124/124 [==============================] - 8s 61ms/step - loss: 1.5959 - accuracy: 0.4645 - val_loss: 2.5529 - val_accuracy: 0.3331\n",
            "Epoch 67/100\n",
            "124/124 [==============================] - 7s 60ms/step - loss: 1.5698 - accuracy: 0.4700 - val_loss: 1.9848 - val_accuracy: 0.3890\n",
            "Epoch 68/100\n",
            "124/124 [==============================] - 8s 61ms/step - loss: 1.5886 - accuracy: 0.4576 - val_loss: 2.0725 - val_accuracy: 0.3990\n",
            "Epoch 69/100\n",
            "124/124 [==============================] - 8s 61ms/step - loss: 1.5602 - accuracy: 0.4643 - val_loss: 2.5940 - val_accuracy: 0.3421\n",
            "Epoch 70/100\n",
            "124/124 [==============================] - 8s 61ms/step - loss: 1.5459 - accuracy: 0.4786 - val_loss: 1.9435 - val_accuracy: 0.4143\n",
            "Epoch 71/100\n",
            "124/124 [==============================] - 8s 62ms/step - loss: 1.5699 - accuracy: 0.4702 - val_loss: 2.0711 - val_accuracy: 0.3973\n",
            "Epoch 72/100\n",
            "124/124 [==============================] - 8s 61ms/step - loss: 1.5305 - accuracy: 0.4839 - val_loss: 1.9253 - val_accuracy: 0.4146\n",
            "Epoch 73/100\n",
            "124/124 [==============================] - 8s 61ms/step - loss: 1.5300 - accuracy: 0.4805 - val_loss: 1.9653 - val_accuracy: 0.3938\n",
            "Epoch 74/100\n",
            "124/124 [==============================] - 8s 60ms/step - loss: 1.5452 - accuracy: 0.4773 - val_loss: 1.8319 - val_accuracy: 0.4382\n",
            "Epoch 75/100\n",
            "124/124 [==============================] - 8s 60ms/step - loss: 1.5047 - accuracy: 0.4869 - val_loss: 2.1533 - val_accuracy: 0.3988\n",
            "Epoch 76/100\n",
            "124/124 [==============================] - 8s 62ms/step - loss: 1.5181 - accuracy: 0.4864 - val_loss: 2.2303 - val_accuracy: 0.3725\n",
            "Epoch 77/100\n",
            "124/124 [==============================] - 8s 61ms/step - loss: 1.5138 - accuracy: 0.4837 - val_loss: 2.2017 - val_accuracy: 0.3935\n",
            "Epoch 78/100\n",
            "124/124 [==============================] - 8s 61ms/step - loss: 1.5241 - accuracy: 0.4804 - val_loss: 2.5394 - val_accuracy: 0.3602\n",
            "Epoch 79/100\n",
            "124/124 [==============================] - 8s 61ms/step - loss: 1.4608 - accuracy: 0.5030 - val_loss: 2.1938 - val_accuracy: 0.3915\n",
            "Epoch 80/100\n",
            "124/124 [==============================] - 8s 60ms/step - loss: 1.5032 - accuracy: 0.4862 - val_loss: 1.7818 - val_accuracy: 0.4359\n",
            "Epoch 81/100\n",
            "124/124 [==============================] - 8s 61ms/step - loss: 1.4953 - accuracy: 0.4959 - val_loss: 2.2752 - val_accuracy: 0.3858\n",
            "Epoch 82/100\n",
            "124/124 [==============================] - 8s 61ms/step - loss: 1.4595 - accuracy: 0.5033 - val_loss: 1.8450 - val_accuracy: 0.4271\n",
            "Epoch 83/100\n",
            "124/124 [==============================] - 8s 61ms/step - loss: 1.4810 - accuracy: 0.4959 - val_loss: 2.1539 - val_accuracy: 0.4013\n",
            "Epoch 84/100\n",
            "124/124 [==============================] - 8s 61ms/step - loss: 1.4628 - accuracy: 0.5085 - val_loss: 2.3773 - val_accuracy: 0.3790\n",
            "Epoch 85/100\n",
            "124/124 [==============================] - 8s 61ms/step - loss: 1.4868 - accuracy: 0.4959 - val_loss: 1.6724 - val_accuracy: 0.4653\n",
            "Epoch 86/100\n",
            "124/124 [==============================] - 8s 61ms/step - loss: 1.4465 - accuracy: 0.5139 - val_loss: 2.2126 - val_accuracy: 0.3885\n",
            "Epoch 87/100\n",
            "124/124 [==============================] - 8s 60ms/step - loss: 1.4200 - accuracy: 0.5242 - val_loss: 2.0256 - val_accuracy: 0.4271\n",
            "Epoch 88/100\n",
            "124/124 [==============================] - 8s 61ms/step - loss: 1.4559 - accuracy: 0.5080 - val_loss: 1.7219 - val_accuracy: 0.4555\n",
            "Epoch 89/100\n",
            "124/124 [==============================] - 8s 60ms/step - loss: 1.4471 - accuracy: 0.5070 - val_loss: 1.9182 - val_accuracy: 0.4505\n",
            "Epoch 90/100\n",
            "124/124 [==============================] - 8s 61ms/step - loss: 1.4421 - accuracy: 0.5108 - val_loss: 1.8364 - val_accuracy: 0.4397\n",
            "Epoch 91/100\n",
            "124/124 [==============================] - 8s 61ms/step - loss: 1.4227 - accuracy: 0.5210 - val_loss: 2.0041 - val_accuracy: 0.4289\n",
            "Epoch 92/100\n",
            "124/124 [==============================] - 8s 61ms/step - loss: 1.4179 - accuracy: 0.5160 - val_loss: 1.7796 - val_accuracy: 0.4648\n",
            "Epoch 93/100\n",
            "124/124 [==============================] - 8s 61ms/step - loss: 1.4382 - accuracy: 0.5076 - val_loss: 2.0865 - val_accuracy: 0.4211\n",
            "Epoch 94/100\n",
            "124/124 [==============================] - 8s 61ms/step - loss: 1.3958 - accuracy: 0.5317 - val_loss: 1.9513 - val_accuracy: 0.4359\n",
            "Epoch 95/100\n",
            "124/124 [==============================] - 8s 61ms/step - loss: 1.4111 - accuracy: 0.5278 - val_loss: 1.9262 - val_accuracy: 0.4294\n",
            "Epoch 96/100\n",
            "124/124 [==============================] - 8s 61ms/step - loss: 1.4019 - accuracy: 0.5253 - val_loss: 2.0349 - val_accuracy: 0.4397\n",
            "Epoch 97/100\n",
            "124/124 [==============================] - 8s 60ms/step - loss: 1.4168 - accuracy: 0.5179 - val_loss: 1.9109 - val_accuracy: 0.4364\n",
            "Epoch 98/100\n",
            "124/124 [==============================] - 8s 60ms/step - loss: 1.4063 - accuracy: 0.5237 - val_loss: 1.9701 - val_accuracy: 0.4234\n",
            "Epoch 99/100\n",
            "124/124 [==============================] - 8s 62ms/step - loss: 1.3744 - accuracy: 0.5291 - val_loss: 2.1170 - val_accuracy: 0.4103\n",
            "Epoch 100/100\n",
            "124/124 [==============================] - 8s 61ms/step - loss: 1.3962 - accuracy: 0.5222 - val_loss: 1.9147 - val_accuracy: 0.4407\n",
            "CPU times: user 13min 30s, sys: 34.9 s, total: 14min 5s\n",
            "Wall time: 12min 36s\n"
          ],
          "name": "stdout"
        }
      ]
    },
    {
      "cell_type": "code",
      "metadata": {
        "colab": {
          "base_uri": "https://localhost:8080/"
        },
        "id": "U13gPeJu6M9_",
        "outputId": "c33a6e40-cb73-422b-e21f-a5283cfab38c"
      },
      "source": [
        "loss1, accuracy1 = CNN.evaluate(X_test, y_test)\n",
        "\n",
        "loss1, accuracy1 "
      ],
      "execution_count": 122,
      "outputs": [
        {
          "output_type": "stream",
          "text": [
            "156/156 [==============================] - 1s 3ms/step - loss: 1.9616 - accuracy: 0.4260\n"
          ],
          "name": "stdout"
        },
        {
          "output_type": "execute_result",
          "data": {
            "text/plain": [
              "(1.9615941047668457, 0.42596307396888733)"
            ]
          },
          "metadata": {
            "tags": []
          },
          "execution_count": 122
        }
      ]
    },
    {
      "cell_type": "code",
      "metadata": {
        "colab": {
          "base_uri": "https://localhost:8080/",
          "height": 517
        },
        "id": "jZcwrTPw6M-B",
        "outputId": "30b8dabe-42da-48f8-e5a0-4b7dbe177076"
      },
      "source": [
        "import matplotlib.pyplot as plt\n",
        "\n",
        "epochs = range(1, len(Hist_CNN.history['loss'])+1)\n",
        "\n",
        "\n",
        "plt.plot(epochs, Hist_CNN.history['loss'])\n",
        "plt.plot(epochs, Hist_CNN.history['val_loss'])\n",
        "plt.legend(['Training Loss','Test Loss'])\n",
        "plt.grid()\n",
        "plt.show()\n",
        "\n",
        "\n",
        "\n",
        "plt.plot(epochs, Hist_CNN.history['accuracy'])\n",
        "plt.plot(epochs, Hist_CNN.history['val_accuracy'])\n",
        "plt.legend(['Training accuracy','Test accuracy'])\n",
        "plt.grid()\n",
        "plt.show()"
      ],
      "execution_count": 123,
      "outputs": [
        {
          "output_type": "display_data",
          "data": {
            "image/png": "[encoded data removed]",
            "text/plain": [
              "<Figure size 432x288 with 1 Axes>"
            ]
          },
          "metadata": {
            "tags": [],
            "needs_background": "light"
          }
        },
        {
          "output_type": "display_data",
          "data": {
            "image/png": "[encoded data removed]",
            "text/plain": [
              "<Figure size 432x288 with 1 Axes>"
            ]
          },
          "metadata": {
            "tags": [],
            "needs_background": "light"
          }
        }
      ]
    },
    {
      "cell_type": "markdown",
      "metadata": {
        "id": "Hm0RThVc7Ve9"
      },
      "source": [
        "### 3) L2 + Dropout"
      ]
    },
    {
      "cell_type": "code",
      "metadata": {
        "colab": {
          "base_uri": "https://localhost:8080/"
        },
        "id": "rCYDPygq8PZ-",
        "outputId": "64bcc8e7-0729-48b9-85ef-261265b78ca6"
      },
      "source": [
        "from keras import layers, models\n",
        "\n",
        "CNN3 = models.Sequential()\n",
        "CNN3.add(layers.Conv2D(32, (3,3), activation='relu', input_shape=(30, 30, 3),\n",
        "                      kernel_regularizer=regularizers.l2(0.00001)))\n",
        "CNN3.add(layers.Dropout(0.4))\n",
        "CNN3.add(layers.MaxPool2D((2,2)))\n",
        "CNN3.add(layers.Conv2D(64, (3,3), activation='relu'))\n",
        "\n",
        "CNN3.add(layers.Conv2D(128, (3,3), activation='relu'))\n",
        "CNN3.add(layers.MaxPool2D((2,2)))\n",
        "CNN3.add(layers.Conv2D(128, (3,3), activation='relu'))\n",
        "\n",
        "CNN3.add(layers.Flatten())\n",
        "CNN3.add(layers.Dense(units=512, activation='relu'))\n",
        "CNN3.add(layers.Dropout(0.5))\n",
        "CNN3.add(layers.Dense(units=34, activation='softmax'))\n",
        "\n",
        "CNN3.summary()\n",
        "\n",
        "CNN3.compile(loss = 'categorical_crossentropy',\n",
        "              optimizer = 'adam',\n",
        "              metrics = ['accuracy'])"
      ],
      "execution_count": 124,
      "outputs": [
        {
          "output_type": "stream",
          "text": [
            "Model: \"sequential_34\"\n",
            "_________________________________________________________________\n",
            "Layer (type)                 Output Shape              Param #   \n",
            "=================================================================\n",
            "conv2d_154 (Conv2D)          (None, 28, 28, 32)        896       \n",
            "_________________________________________________________________\n",
            "dropout_88 (Dropout)         (None, 28, 28, 32)        0         \n",
            "_________________________________________________________________\n",
            "max_pooling2d_58 (MaxPooling (None, 14, 14, 32)        0         \n",
            "_________________________________________________________________\n",
            "conv2d_155 (Conv2D)          (None, 12, 12, 64)        18496     \n",
            "_________________________________________________________________\n",
            "conv2d_156 (Conv2D)          (None, 10, 10, 128)       73856     \n",
            "_________________________________________________________________\n",
            "max_pooling2d_59 (MaxPooling (None, 5, 5, 128)         0         \n",
            "_________________________________________________________________\n",
            "conv2d_157 (Conv2D)          (None, 3, 3, 128)         147584    \n",
            "_________________________________________________________________\n",
            "flatten_33 (Flatten)         (None, 1152)              0         \n",
            "_________________________________________________________________\n",
            "dense_66 (Dense)             (None, 512)               590336    \n",
            "_________________________________________________________________\n",
            "dropout_89 (Dropout)         (None, 512)               0         \n",
            "_________________________________________________________________\n",
            "dense_67 (Dense)             (None, 34)                17442     \n",
            "=================================================================\n",
            "Total params: 848,610\n",
            "Trainable params: 848,610\n",
            "Non-trainable params: 0\n",
            "_________________________________________________________________\n"
          ],
          "name": "stdout"
        }
      ]
    },
    {
      "cell_type": "code",
      "metadata": {
        "colab": {
          "base_uri": "https://localhost:8080/"
        },
        "id": "19N2KztX8lqF",
        "outputId": "9f04cd47-f43d-4a60-8f29-701d2f363296"
      },
      "source": [
        "%%time\n",
        "Hist_CNN3 = CNN3.fit(train_generator, steps_per_epoch=len(X_train)/128 ,\n",
        "                       epochs = 100,\n",
        "                       validation_data=valid_generator, validation_steps=len(X_valid)/128)"
      ],
      "execution_count": 125,
      "outputs": [
        {
          "output_type": "stream",
          "text": [
            "Epoch 1/100\n",
            "124/124 [==============================] - 8s 63ms/step - loss: 3.4769 - accuracy: 0.0736 - val_loss: 3.3354 - val_accuracy: 0.0863\n",
            "Epoch 2/100\n",
            "124/124 [==============================] - 8s 60ms/step - loss: 3.2083 - accuracy: 0.0858 - val_loss: 3.1630 - val_accuracy: 0.1076\n",
            "Epoch 3/100\n",
            "124/124 [==============================] - 8s 61ms/step - loss: 3.0184 - accuracy: 0.1043 - val_loss: 2.8513 - val_accuracy: 0.1257\n",
            "Epoch 4/100\n",
            "124/124 [==============================] - 8s 61ms/step - loss: 2.9093 - accuracy: 0.1197 - val_loss: 2.8351 - val_accuracy: 0.1367\n",
            "Epoch 5/100\n",
            "124/124 [==============================] - 8s 60ms/step - loss: 2.8179 - accuracy: 0.1363 - val_loss: 2.8386 - val_accuracy: 0.1405\n",
            "Epoch 6/100\n",
            "124/124 [==============================] - 7s 60ms/step - loss: 2.7494 - accuracy: 0.1552 - val_loss: 2.7584 - val_accuracy: 0.1457\n",
            "Epoch 7/100\n",
            "124/124 [==============================] - 8s 61ms/step - loss: 2.6916 - accuracy: 0.1740 - val_loss: 2.6221 - val_accuracy: 0.1886\n",
            "Epoch 8/100\n",
            "124/124 [==============================] - 8s 60ms/step - loss: 2.6098 - accuracy: 0.1858 - val_loss: 2.5125 - val_accuracy: 0.1936\n",
            "Epoch 9/100\n",
            "124/124 [==============================] - 7s 60ms/step - loss: 2.5701 - accuracy: 0.1964 - val_loss: 2.4607 - val_accuracy: 0.2064\n",
            "Epoch 10/100\n",
            "124/124 [==============================] - 8s 61ms/step - loss: 2.5157 - accuracy: 0.2070 - val_loss: 2.5018 - val_accuracy: 0.1964\n",
            "Epoch 11/100\n",
            "124/124 [==============================] - 8s 61ms/step - loss: 2.4747 - accuracy: 0.2280 - val_loss: 2.3195 - val_accuracy: 0.2445\n",
            "Epoch 12/100\n",
            "124/124 [==============================] - 8s 61ms/step - loss: 2.4367 - accuracy: 0.2215 - val_loss: 2.2835 - val_accuracy: 0.2393\n",
            "Epoch 13/100\n",
            "124/124 [==============================] - 8s 60ms/step - loss: 2.3779 - accuracy: 0.2414 - val_loss: 2.5570 - val_accuracy: 0.1869\n",
            "Epoch 14/100\n",
            "124/124 [==============================] - 8s 60ms/step - loss: 2.3526 - accuracy: 0.2441 - val_loss: 2.2619 - val_accuracy: 0.2629\n",
            "Epoch 15/100\n",
            "124/124 [==============================] - 8s 61ms/step - loss: 2.3067 - accuracy: 0.2587 - val_loss: 2.2118 - val_accuracy: 0.2591\n",
            "Epoch 16/100\n",
            "124/124 [==============================] - 8s 61ms/step - loss: 2.2923 - accuracy: 0.2613 - val_loss: 2.3142 - val_accuracy: 0.2423\n",
            "Epoch 17/100\n",
            "124/124 [==============================] - 7s 60ms/step - loss: 2.2543 - accuracy: 0.2706 - val_loss: 2.1233 - val_accuracy: 0.3052\n",
            "Epoch 18/100\n",
            "124/124 [==============================] - 8s 61ms/step - loss: 2.2336 - accuracy: 0.2807 - val_loss: 2.2422 - val_accuracy: 0.2716\n",
            "Epoch 19/100\n",
            "124/124 [==============================] - 8s 60ms/step - loss: 2.1963 - accuracy: 0.2880 - val_loss: 2.1667 - val_accuracy: 0.2751\n",
            "Epoch 20/100\n",
            "124/124 [==============================] - 7s 60ms/step - loss: 2.1649 - accuracy: 0.2900 - val_loss: 2.1819 - val_accuracy: 0.2942\n",
            "Epoch 21/100\n",
            "124/124 [==============================] - 8s 61ms/step - loss: 2.1282 - accuracy: 0.3074 - val_loss: 2.0425 - val_accuracy: 0.3163\n",
            "Epoch 22/100\n",
            "124/124 [==============================] - 8s 61ms/step - loss: 2.1154 - accuracy: 0.3098 - val_loss: 2.1097 - val_accuracy: 0.3027\n",
            "Epoch 23/100\n",
            "124/124 [==============================] - 8s 61ms/step - loss: 2.1043 - accuracy: 0.3188 - val_loss: 2.2572 - val_accuracy: 0.2736\n",
            "Epoch 24/100\n",
            "124/124 [==============================] - 8s 61ms/step - loss: 2.1020 - accuracy: 0.3196 - val_loss: 2.1976 - val_accuracy: 0.2889\n",
            "Epoch 25/100\n",
            "124/124 [==============================] - 8s 61ms/step - loss: 2.0350 - accuracy: 0.3319 - val_loss: 2.1363 - val_accuracy: 0.3098\n",
            "Epoch 26/100\n",
            "124/124 [==============================] - 8s 61ms/step - loss: 2.0163 - accuracy: 0.3400 - val_loss: 1.9598 - val_accuracy: 0.3544\n",
            "Epoch 27/100\n",
            "124/124 [==============================] - 8s 61ms/step - loss: 2.0095 - accuracy: 0.3411 - val_loss: 2.0057 - val_accuracy: 0.3228\n",
            "Epoch 28/100\n",
            "124/124 [==============================] - 8s 61ms/step - loss: 1.9952 - accuracy: 0.3470 - val_loss: 2.2264 - val_accuracy: 0.3042\n",
            "Epoch 29/100\n",
            "124/124 [==============================] - 8s 61ms/step - loss: 1.9481 - accuracy: 0.3577 - val_loss: 2.1251 - val_accuracy: 0.3190\n",
            "Epoch 30/100\n",
            "124/124 [==============================] - 8s 60ms/step - loss: 1.9669 - accuracy: 0.3522 - val_loss: 1.8769 - val_accuracy: 0.3700\n",
            "Epoch 31/100\n",
            "124/124 [==============================] - 8s 62ms/step - loss: 1.9290 - accuracy: 0.3685 - val_loss: 2.0030 - val_accuracy: 0.3378\n",
            "Epoch 32/100\n",
            "124/124 [==============================] - 8s 60ms/step - loss: 1.9110 - accuracy: 0.3627 - val_loss: 2.1988 - val_accuracy: 0.3120\n",
            "Epoch 33/100\n",
            "124/124 [==============================] - 7s 60ms/step - loss: 1.8831 - accuracy: 0.3752 - val_loss: 1.8405 - val_accuracy: 0.3787\n",
            "Epoch 34/100\n",
            "124/124 [==============================] - 8s 61ms/step - loss: 1.8875 - accuracy: 0.3761 - val_loss: 2.1029 - val_accuracy: 0.3291\n",
            "Epoch 35/100\n",
            "124/124 [==============================] - 8s 60ms/step - loss: 1.8864 - accuracy: 0.3803 - val_loss: 1.8062 - val_accuracy: 0.3880\n",
            "Epoch 36/100\n",
            "124/124 [==============================] - 8s 61ms/step - loss: 1.8527 - accuracy: 0.3791 - val_loss: 1.9773 - val_accuracy: 0.3471\n",
            "Epoch 37/100\n",
            "124/124 [==============================] - 7s 60ms/step - loss: 1.8621 - accuracy: 0.3791 - val_loss: 1.8675 - val_accuracy: 0.3800\n",
            "Epoch 38/100\n",
            "124/124 [==============================] - 8s 61ms/step - loss: 1.8269 - accuracy: 0.3955 - val_loss: 2.0878 - val_accuracy: 0.3386\n",
            "Epoch 39/100\n",
            "124/124 [==============================] - 8s 61ms/step - loss: 1.8054 - accuracy: 0.3933 - val_loss: 1.7791 - val_accuracy: 0.3950\n",
            "Epoch 40/100\n",
            "124/124 [==============================] - 8s 60ms/step - loss: 1.8126 - accuracy: 0.3999 - val_loss: 1.9133 - val_accuracy: 0.3677\n",
            "Epoch 41/100\n",
            "124/124 [==============================] - 8s 61ms/step - loss: 1.7896 - accuracy: 0.4063 - val_loss: 1.8442 - val_accuracy: 0.3802\n",
            "Epoch 42/100\n",
            "124/124 [==============================] - 8s 61ms/step - loss: 1.7682 - accuracy: 0.4118 - val_loss: 1.8883 - val_accuracy: 0.3702\n",
            "Epoch 43/100\n",
            "124/124 [==============================] - 8s 60ms/step - loss: 1.7622 - accuracy: 0.4127 - val_loss: 1.8753 - val_accuracy: 0.3720\n",
            "Epoch 44/100\n",
            "124/124 [==============================] - 8s 60ms/step - loss: 1.7332 - accuracy: 0.4161 - val_loss: 1.8993 - val_accuracy: 0.3820\n",
            "Epoch 45/100\n",
            "124/124 [==============================] - 8s 61ms/step - loss: 1.7412 - accuracy: 0.4165 - val_loss: 1.7791 - val_accuracy: 0.4073\n",
            "Epoch 46/100\n",
            "124/124 [==============================] - 8s 60ms/step - loss: 1.7293 - accuracy: 0.4187 - val_loss: 1.9575 - val_accuracy: 0.3760\n",
            "Epoch 47/100\n",
            "124/124 [==============================] - 8s 61ms/step - loss: 1.7114 - accuracy: 0.4272 - val_loss: 1.8427 - val_accuracy: 0.3910\n",
            "Epoch 48/100\n",
            "124/124 [==============================] - 8s 60ms/step - loss: 1.7086 - accuracy: 0.4222 - val_loss: 1.7018 - val_accuracy: 0.4392\n",
            "Epoch 49/100\n",
            "124/124 [==============================] - 8s 60ms/step - loss: 1.6913 - accuracy: 0.4290 - val_loss: 1.9155 - val_accuracy: 0.3915\n",
            "Epoch 50/100\n",
            "124/124 [==============================] - 7s 60ms/step - loss: 1.6785 - accuracy: 0.4283 - val_loss: 1.9153 - val_accuracy: 0.3853\n",
            "Epoch 51/100\n",
            "124/124 [==============================] - 8s 62ms/step - loss: 1.6740 - accuracy: 0.4380 - val_loss: 1.7042 - val_accuracy: 0.4249\n",
            "Epoch 52/100\n",
            "124/124 [==============================] - 8s 60ms/step - loss: 1.6788 - accuracy: 0.4396 - val_loss: 1.7674 - val_accuracy: 0.4206\n",
            "Epoch 53/100\n",
            "124/124 [==============================] - 7s 60ms/step - loss: 1.6564 - accuracy: 0.4389 - val_loss: 1.7468 - val_accuracy: 0.4264\n",
            "Epoch 54/100\n",
            "124/124 [==============================] - 8s 60ms/step - loss: 1.6439 - accuracy: 0.4481 - val_loss: 1.6176 - val_accuracy: 0.4495\n",
            "Epoch 55/100\n",
            "124/124 [==============================] - 8s 62ms/step - loss: 1.6397 - accuracy: 0.4462 - val_loss: 1.8571 - val_accuracy: 0.4016\n",
            "Epoch 56/100\n",
            "124/124 [==============================] - 8s 60ms/step - loss: 1.6356 - accuracy: 0.4442 - val_loss: 1.7033 - val_accuracy: 0.4507\n",
            "Epoch 57/100\n",
            "124/124 [==============================] - 8s 60ms/step - loss: 1.6239 - accuracy: 0.4545 - val_loss: 1.8681 - val_accuracy: 0.4093\n",
            "Epoch 58/100\n",
            "124/124 [==============================] - 8s 61ms/step - loss: 1.5917 - accuracy: 0.4645 - val_loss: 1.8528 - val_accuracy: 0.4103\n",
            "Epoch 59/100\n",
            "124/124 [==============================] - 8s 60ms/step - loss: 1.6031 - accuracy: 0.4554 - val_loss: 1.8685 - val_accuracy: 0.4093\n",
            "Epoch 60/100\n",
            "124/124 [==============================] - 8s 61ms/step - loss: 1.6005 - accuracy: 0.4598 - val_loss: 1.6974 - val_accuracy: 0.4402\n",
            "Epoch 61/100\n",
            "124/124 [==============================] - 8s 60ms/step - loss: 1.5908 - accuracy: 0.4604 - val_loss: 1.7692 - val_accuracy: 0.4206\n",
            "Epoch 62/100\n",
            "124/124 [==============================] - 8s 61ms/step - loss: 1.5659 - accuracy: 0.4753 - val_loss: 1.7195 - val_accuracy: 0.4402\n",
            "Epoch 63/100\n",
            "124/124 [==============================] - 8s 61ms/step - loss: 1.5708 - accuracy: 0.4736 - val_loss: 1.8163 - val_accuracy: 0.4309\n",
            "Epoch 64/100\n",
            "124/124 [==============================] - 8s 61ms/step - loss: 1.5672 - accuracy: 0.4727 - val_loss: 1.9395 - val_accuracy: 0.3905\n",
            "Epoch 65/100\n",
            "124/124 [==============================] - 8s 60ms/step - loss: 1.5518 - accuracy: 0.4776 - val_loss: 1.7356 - val_accuracy: 0.4414\n",
            "Epoch 66/100\n",
            "124/124 [==============================] - 8s 61ms/step - loss: 1.5716 - accuracy: 0.4689 - val_loss: 1.8759 - val_accuracy: 0.3988\n",
            "Epoch 67/100\n",
            "124/124 [==============================] - 8s 62ms/step - loss: 1.5380 - accuracy: 0.4779 - val_loss: 1.7913 - val_accuracy: 0.4264\n",
            "Epoch 68/100\n",
            "124/124 [==============================] - 8s 61ms/step - loss: 1.5529 - accuracy: 0.4734 - val_loss: 1.8280 - val_accuracy: 0.4209\n",
            "Epoch 69/100\n",
            "124/124 [==============================] - 8s 60ms/step - loss: 1.5467 - accuracy: 0.4781 - val_loss: 1.6524 - val_accuracy: 0.4470\n",
            "Epoch 70/100\n",
            "124/124 [==============================] - 8s 61ms/step - loss: 1.5353 - accuracy: 0.4817 - val_loss: 1.9493 - val_accuracy: 0.3913\n",
            "Epoch 71/100\n",
            "124/124 [==============================] - 8s 61ms/step - loss: 1.5090 - accuracy: 0.4986 - val_loss: 1.6357 - val_accuracy: 0.4580\n",
            "Epoch 72/100\n",
            "124/124 [==============================] - 8s 61ms/step - loss: 1.5144 - accuracy: 0.4898 - val_loss: 1.9167 - val_accuracy: 0.4101\n",
            "Epoch 73/100\n",
            "124/124 [==============================] - 8s 61ms/step - loss: 1.4963 - accuracy: 0.4978 - val_loss: 1.7138 - val_accuracy: 0.4462\n",
            "Epoch 74/100\n",
            "124/124 [==============================] - 8s 61ms/step - loss: 1.4960 - accuracy: 0.4951 - val_loss: 1.9184 - val_accuracy: 0.4058\n",
            "Epoch 75/100\n",
            "124/124 [==============================] - 8s 60ms/step - loss: 1.5216 - accuracy: 0.4857 - val_loss: 1.7550 - val_accuracy: 0.4299\n",
            "Epoch 76/100\n",
            "124/124 [==============================] - 8s 61ms/step - loss: 1.4797 - accuracy: 0.5048 - val_loss: 1.7683 - val_accuracy: 0.4352\n",
            "Epoch 77/100\n",
            "124/124 [==============================] - 8s 62ms/step - loss: 1.4877 - accuracy: 0.4946 - val_loss: 1.8193 - val_accuracy: 0.4249\n",
            "Epoch 78/100\n",
            "124/124 [==============================] - 8s 61ms/step - loss: 1.4739 - accuracy: 0.5017 - val_loss: 1.7049 - val_accuracy: 0.4414\n",
            "Epoch 79/100\n",
            "124/124 [==============================] - 8s 61ms/step - loss: 1.4482 - accuracy: 0.5108 - val_loss: 1.8191 - val_accuracy: 0.4151\n",
            "Epoch 80/100\n",
            "124/124 [==============================] - 8s 61ms/step - loss: 1.4646 - accuracy: 0.5058 - val_loss: 1.5045 - val_accuracy: 0.4956\n",
            "Epoch 81/100\n",
            "124/124 [==============================] - 7s 60ms/step - loss: 1.4620 - accuracy: 0.5048 - val_loss: 1.6924 - val_accuracy: 0.4507\n",
            "Epoch 82/100\n",
            "124/124 [==============================] - 8s 62ms/step - loss: 1.4827 - accuracy: 0.4962 - val_loss: 1.7829 - val_accuracy: 0.4382\n",
            "Epoch 83/100\n",
            "124/124 [==============================] - 8s 61ms/step - loss: 1.4793 - accuracy: 0.4996 - val_loss: 1.9016 - val_accuracy: 0.4091\n",
            "Epoch 84/100\n",
            "124/124 [==============================] - 8s 61ms/step - loss: 1.4305 - accuracy: 0.5163 - val_loss: 1.7395 - val_accuracy: 0.4470\n",
            "Epoch 85/100\n",
            "124/124 [==============================] - 8s 61ms/step - loss: 1.4009 - accuracy: 0.5251 - val_loss: 1.5767 - val_accuracy: 0.4811\n",
            "Epoch 86/100\n",
            "124/124 [==============================] - 8s 62ms/step - loss: 1.4399 - accuracy: 0.5070 - val_loss: 1.6744 - val_accuracy: 0.4685\n",
            "Epoch 87/100\n",
            "124/124 [==============================] - 8s 61ms/step - loss: 1.4415 - accuracy: 0.5101 - val_loss: 1.7832 - val_accuracy: 0.4367\n",
            "Epoch 88/100\n",
            "124/124 [==============================] - 8s 61ms/step - loss: 1.4393 - accuracy: 0.5132 - val_loss: 2.0200 - val_accuracy: 0.3920\n",
            "Epoch 89/100\n",
            "124/124 [==============================] - 8s 60ms/step - loss: 1.4372 - accuracy: 0.5103 - val_loss: 1.4206 - val_accuracy: 0.5122\n",
            "Epoch 90/100\n",
            "124/124 [==============================] - 8s 62ms/step - loss: 1.4399 - accuracy: 0.5102 - val_loss: 1.7815 - val_accuracy: 0.4261\n",
            "Epoch 91/100\n",
            "124/124 [==============================] - 8s 61ms/step - loss: 1.4055 - accuracy: 0.5289 - val_loss: 1.6372 - val_accuracy: 0.4750\n",
            "Epoch 92/100\n",
            "124/124 [==============================] - 8s 61ms/step - loss: 1.4350 - accuracy: 0.5090 - val_loss: 1.6932 - val_accuracy: 0.4597\n",
            "Epoch 93/100\n",
            "124/124 [==============================] - 7s 60ms/step - loss: 1.4337 - accuracy: 0.5150 - val_loss: 1.8208 - val_accuracy: 0.4367\n",
            "Epoch 94/100\n",
            "124/124 [==============================] - 8s 61ms/step - loss: 1.4040 - accuracy: 0.5196 - val_loss: 1.6066 - val_accuracy: 0.4803\n",
            "Epoch 95/100\n",
            "124/124 [==============================] - 8s 61ms/step - loss: 1.3944 - accuracy: 0.5269 - val_loss: 1.5858 - val_accuracy: 0.4760\n",
            "Epoch 96/100\n",
            "124/124 [==============================] - 8s 61ms/step - loss: 1.4337 - accuracy: 0.5131 - val_loss: 1.7049 - val_accuracy: 0.4643\n",
            "Epoch 97/100\n",
            "124/124 [==============================] - 8s 61ms/step - loss: 1.4036 - accuracy: 0.5201 - val_loss: 1.6610 - val_accuracy: 0.4700\n",
            "Epoch 98/100\n",
            "124/124 [==============================] - 8s 61ms/step - loss: 1.3852 - accuracy: 0.5345 - val_loss: 1.6323 - val_accuracy: 0.4648\n",
            "Epoch 99/100\n",
            "124/124 [==============================] - 8s 61ms/step - loss: 1.3761 - accuracy: 0.5247 - val_loss: 1.6460 - val_accuracy: 0.4638\n",
            "Epoch 100/100\n",
            "124/124 [==============================] - 8s 61ms/step - loss: 1.3813 - accuracy: 0.5316 - val_loss: 1.8549 - val_accuracy: 0.4289\n",
            "CPU times: user 13min 34s, sys: 38.6 s, total: 14min 13s\n",
            "Wall time: 12min 39s\n"
          ],
          "name": "stdout"
        }
      ]
    },
    {
      "cell_type": "code",
      "metadata": {
        "colab": {
          "base_uri": "https://localhost:8080/"
        },
        "id": "jBnWCL6P8gpT",
        "outputId": "ca6d224c-abcf-4628-d8f0-4a74e455f7f7"
      },
      "source": [
        "loss3, accuracy3 = CNN3.evaluate(X_test, y_test)\n",
        "\n",
        "loss3, accuracy3"
      ],
      "execution_count": 129,
      "outputs": [
        {
          "output_type": "stream",
          "text": [
            "156/156 [==============================] - 1s 3ms/step - loss: 1.8908 - accuracy: 0.4248\n"
          ],
          "name": "stdout"
        },
        {
          "output_type": "execute_result",
          "data": {
            "text/plain": [
              "(1.8908076286315918, 0.42475923895835876)"
            ]
          },
          "metadata": {
            "tags": []
          },
          "execution_count": 129
        }
      ]
    },
    {
      "cell_type": "code",
      "metadata": {
        "colab": {
          "base_uri": "https://localhost:8080/",
          "height": 516
        },
        "id": "9s3VZEk18gpW",
        "outputId": "b7914899-062a-4fd7-ad35-6cd79c70186b"
      },
      "source": [
        "import matplotlib.pyplot as plt\n",
        "\n",
        "epochs = range(1, len(Hist_CNN3.history['loss'])+1)\n",
        "\n",
        "\n",
        "plt.plot(epochs, Hist_CNN3.history['loss'])\n",
        "plt.plot(epochs, Hist_CNN3.history['val_loss'])\n",
        "plt.legend(['Training Loss','Test Loss'])\n",
        "plt.grid()\n",
        "plt.show()\n",
        "\n",
        "\n",
        "\n",
        "plt.plot(epochs, Hist_CNN3.history['accuracy'])\n",
        "plt.plot(epochs, Hist_CNN3.history['val_accuracy'])\n",
        "plt.legend(['Training accuracy','Test accuracy'])\n",
        "plt.grid()\n",
        "plt.show()"
      ],
      "execution_count": 127,
      "outputs": [
        {
          "output_type": "display_data",
          "data": {
            "image/png": "[encoded data removed]",
            "text/plain": [
              "<Figure size 432x288 with 1 Axes>"
            ]
          },
          "metadata": {
            "tags": [],
            "needs_background": "light"
          }
        },
        {
          "output_type": "display_data",
          "data": {
            "image/png": "[encoded data removed]",
            "text/plain": [
              "<Figure size 432x288 with 1 Axes>"
            ]
          },
          "metadata": {
            "tags": [],
            "needs_background": "light"
          }
        }
      ]
    },
    {
      "cell_type": "markdown",
      "metadata": {
        "id": "bejK59Yd73HH"
      },
      "source": [
        "### 4) Rmsprop"
      ]
    },
    {
      "cell_type": "code",
      "metadata": {
        "colab": {
          "base_uri": "https://localhost:8080/"
        },
        "id": "B8BUqMZ-75oH",
        "outputId": "d580f0d4-b139-4826-a984-7b58a7aee280"
      },
      "source": [
        "from keras import layers, models\n",
        "\n",
        "CNN4 = models.Sequential()\n",
        "CNN4.add(layers.Conv2D(32, (3,3), activation='relu', input_shape=(30, 30, 3)))\n",
        "CNN4.add(layers.Dropout(0.5))\n",
        "CNN4.add(layers.MaxPool2D((2,2)))\n",
        "CNN4.add(layers.Conv2D(64, (3,3), activation='relu'))\n",
        "CNN4.add(layers.Dropout(0.5))\n",
        "CNN4.add(layers.MaxPool2D((2,2)))\n",
        "CNN4.add(layers.Conv2D(128, (3,3), activation='relu'))\n",
        "CNN4.add(layers.Conv2D(128, (3,3), activation='relu'))\n",
        "\n",
        "CNN4.add(layers.Flatten())\n",
        "CNN4.add(layers.Dense(units=512, activation='relu'))\n",
        "CNN4.add(layers.Dropout(0.5))\n",
        "CNN4.add(layers.Dense(units=34, activation='softmax'))\n",
        "\n",
        "CNN4.summary()\n",
        "\n",
        "CNN4.compile(loss = 'categorical_crossentropy',\n",
        "              optimizer = 'rmsprop',\n",
        "              metrics = ['accuracy'])"
      ],
      "execution_count": 81,
      "outputs": [
        {
          "output_type": "stream",
          "text": [
            "Model: \"sequential_21\"\n",
            "_________________________________________________________________\n",
            "Layer (type)                 Output Shape              Param #   \n",
            "=================================================================\n",
            "conv2d_80 (Conv2D)           (None, 30, 30, 32)        896       \n",
            "_________________________________________________________________\n",
            "dropout_38 (Dropout)         (None, 30, 30, 32)        0         \n",
            "_________________________________________________________________\n",
            "max_pooling2d_39 (MaxPooling (None, 15, 15, 32)        0         \n",
            "_________________________________________________________________\n",
            "conv2d_81 (Conv2D)           (None, 13, 13, 64)        18496     \n",
            "_________________________________________________________________\n",
            "dropout_39 (Dropout)         (None, 13, 13, 64)        0         \n",
            "_________________________________________________________________\n",
            "max_pooling2d_40 (MaxPooling (None, 6, 6, 64)          0         \n",
            "_________________________________________________________________\n",
            "conv2d_82 (Conv2D)           (None, 4, 4, 128)         73856     \n",
            "_________________________________________________________________\n",
            "conv2d_83 (Conv2D)           (None, 2, 2, 128)         147584    \n",
            "_________________________________________________________________\n",
            "flatten_20 (Flatten)         (None, 512)               0         \n",
            "_________________________________________________________________\n",
            "dense_40 (Dense)             (None, 512)               262656    \n",
            "_________________________________________________________________\n",
            "dropout_40 (Dropout)         (None, 512)               0         \n",
            "_________________________________________________________________\n",
            "dense_41 (Dense)             (None, 34)                17442     \n",
            "=================================================================\n",
            "Total params: 520,930\n",
            "Trainable params: 520,930\n",
            "Non-trainable params: 0\n",
            "_________________________________________________________________\n"
          ],
          "name": "stdout"
        }
      ]
    },
    {
      "cell_type": "code",
      "metadata": {
        "colab": {
          "base_uri": "https://localhost:8080/"
        },
        "id": "LVJkY-Vv9Z54",
        "outputId": "0bef566e-cf58-4d6b-8507-bbe74cd38b9c"
      },
      "source": [
        "%%time\n",
        "Hist_CNN4 = CNN4.fit(train_generator, steps_per_epoch=len(X_train)/128 ,\n",
        "                       epochs = 100,\n",
        "                       validation_data=valid_generator, validation_steps=len(X_valid)/128)"
      ],
      "execution_count": 82,
      "outputs": [
        {
          "output_type": "stream",
          "text": [
            "Epoch 1/100\n",
            "124/124 [==============================] - 8s 61ms/step - loss: 3.4885 - accuracy: 0.0722 - val_loss: 3.3017 - val_accuracy: 0.1021\n",
            "Epoch 2/100\n",
            "124/124 [==============================] - 7s 59ms/step - loss: 3.2510 - accuracy: 0.0852 - val_loss: 3.1127 - val_accuracy: 0.1041\n",
            "Epoch 3/100\n",
            "124/124 [==============================] - 7s 59ms/step - loss: 3.1233 - accuracy: 0.1015 - val_loss: 3.0260 - val_accuracy: 0.1089\n",
            "Epoch 4/100\n",
            "124/124 [==============================] - 7s 59ms/step - loss: 3.0168 - accuracy: 0.1094 - val_loss: 3.0819 - val_accuracy: 0.1021\n",
            "Epoch 5/100\n",
            "124/124 [==============================] - 7s 59ms/step - loss: 2.9494 - accuracy: 0.1220 - val_loss: 2.8632 - val_accuracy: 0.1262\n",
            "Epoch 6/100\n",
            "124/124 [==============================] - 7s 60ms/step - loss: 2.8738 - accuracy: 0.1361 - val_loss: 2.8534 - val_accuracy: 0.1226\n",
            "Epoch 7/100\n",
            "124/124 [==============================] - 7s 59ms/step - loss: 2.8248 - accuracy: 0.1411 - val_loss: 2.7436 - val_accuracy: 0.1525\n",
            "Epoch 8/100\n",
            "124/124 [==============================] - 7s 60ms/step - loss: 2.7533 - accuracy: 0.1551 - val_loss: 2.6484 - val_accuracy: 0.1854\n",
            "Epoch 9/100\n",
            "124/124 [==============================] - 7s 59ms/step - loss: 2.7118 - accuracy: 0.1644 - val_loss: 2.9071 - val_accuracy: 0.1282\n",
            "Epoch 10/100\n",
            "124/124 [==============================] - 7s 59ms/step - loss: 2.6977 - accuracy: 0.1668 - val_loss: 2.7683 - val_accuracy: 0.1570\n",
            "Epoch 11/100\n",
            "124/124 [==============================] - 7s 60ms/step - loss: 2.6227 - accuracy: 0.1801 - val_loss: 2.6020 - val_accuracy: 0.1806\n",
            "Epoch 12/100\n",
            "124/124 [==============================] - 7s 59ms/step - loss: 2.6036 - accuracy: 0.1926 - val_loss: 2.7331 - val_accuracy: 0.1673\n",
            "Epoch 13/100\n",
            "124/124 [==============================] - 7s 59ms/step - loss: 2.5709 - accuracy: 0.2023 - val_loss: 2.5773 - val_accuracy: 0.2034\n",
            "Epoch 14/100\n",
            "124/124 [==============================] - 7s 59ms/step - loss: 2.5480 - accuracy: 0.2028 - val_loss: 2.6105 - val_accuracy: 0.1961\n",
            "Epoch 15/100\n",
            "124/124 [==============================] - 7s 59ms/step - loss: 2.5076 - accuracy: 0.2116 - val_loss: 2.6014 - val_accuracy: 0.1964\n",
            "Epoch 16/100\n",
            "124/124 [==============================] - 7s 59ms/step - loss: 2.4768 - accuracy: 0.2210 - val_loss: 2.6143 - val_accuracy: 0.1949\n",
            "Epoch 17/100\n",
            "124/124 [==============================] - 7s 59ms/step - loss: 2.4566 - accuracy: 0.2263 - val_loss: 2.4851 - val_accuracy: 0.2139\n",
            "Epoch 18/100\n",
            "124/124 [==============================] - 7s 59ms/step - loss: 2.4455 - accuracy: 0.2330 - val_loss: 2.5938 - val_accuracy: 0.2092\n",
            "Epoch 19/100\n",
            "124/124 [==============================] - 7s 59ms/step - loss: 2.3913 - accuracy: 0.2391 - val_loss: 2.7731 - val_accuracy: 0.1964\n",
            "Epoch 20/100\n",
            "124/124 [==============================] - 7s 60ms/step - loss: 2.3805 - accuracy: 0.2421 - val_loss: 2.5942 - val_accuracy: 0.2104\n",
            "Epoch 21/100\n",
            "124/124 [==============================] - 7s 59ms/step - loss: 2.3871 - accuracy: 0.2497 - val_loss: 2.4019 - val_accuracy: 0.2501\n",
            "Epoch 22/100\n",
            "124/124 [==============================] - 7s 59ms/step - loss: 2.3607 - accuracy: 0.2607 - val_loss: 2.2273 - val_accuracy: 0.2874\n",
            "Epoch 23/100\n",
            "124/124 [==============================] - 7s 59ms/step - loss: 2.3274 - accuracy: 0.2656 - val_loss: 2.2289 - val_accuracy: 0.2779\n",
            "Epoch 24/100\n",
            "124/124 [==============================] - 8s 60ms/step - loss: 2.2999 - accuracy: 0.2735 - val_loss: 2.4058 - val_accuracy: 0.2498\n",
            "Epoch 25/100\n",
            "124/124 [==============================] - 7s 59ms/step - loss: 2.2742 - accuracy: 0.2778 - val_loss: 2.2987 - val_accuracy: 0.2701\n",
            "Epoch 26/100\n",
            "124/124 [==============================] - 7s 60ms/step - loss: 2.2397 - accuracy: 0.2791 - val_loss: 2.6253 - val_accuracy: 0.2205\n",
            "Epoch 27/100\n",
            "124/124 [==============================] - 7s 60ms/step - loss: 2.2644 - accuracy: 0.2881 - val_loss: 2.4185 - val_accuracy: 0.2561\n",
            "Epoch 28/100\n",
            "124/124 [==============================] - 8s 60ms/step - loss: 2.2387 - accuracy: 0.2837 - val_loss: 2.2862 - val_accuracy: 0.2766\n",
            "Epoch 29/100\n",
            "124/124 [==============================] - 7s 60ms/step - loss: 2.2440 - accuracy: 0.2864 - val_loss: 2.1716 - val_accuracy: 0.3050\n",
            "Epoch 30/100\n",
            "124/124 [==============================] - 7s 59ms/step - loss: 2.1892 - accuracy: 0.2974 - val_loss: 2.1900 - val_accuracy: 0.2874\n",
            "Epoch 31/100\n",
            "124/124 [==============================] - 7s 59ms/step - loss: 2.1710 - accuracy: 0.3070 - val_loss: 2.3230 - val_accuracy: 0.2681\n",
            "Epoch 32/100\n",
            "124/124 [==============================] - 7s 59ms/step - loss: 2.1752 - accuracy: 0.3086 - val_loss: 2.3148 - val_accuracy: 0.2824\n",
            "Epoch 33/100\n",
            "124/124 [==============================] - 7s 60ms/step - loss: 2.1397 - accuracy: 0.3205 - val_loss: 2.1838 - val_accuracy: 0.2912\n",
            "Epoch 34/100\n",
            "124/124 [==============================] - 8s 60ms/step - loss: 2.1493 - accuracy: 0.3170 - val_loss: 2.3124 - val_accuracy: 0.2789\n",
            "Epoch 35/100\n",
            "124/124 [==============================] - 7s 60ms/step - loss: 2.1288 - accuracy: 0.3202 - val_loss: 2.6260 - val_accuracy: 0.2042\n",
            "Epoch 36/100\n",
            "124/124 [==============================] - 7s 60ms/step - loss: 2.1259 - accuracy: 0.3209 - val_loss: 2.2808 - val_accuracy: 0.3000\n",
            "Epoch 37/100\n",
            "124/124 [==============================] - 7s 60ms/step - loss: 2.1131 - accuracy: 0.3302 - val_loss: 2.1730 - val_accuracy: 0.2980\n",
            "Epoch 38/100\n",
            "124/124 [==============================] - 7s 59ms/step - loss: 2.1016 - accuracy: 0.3247 - val_loss: 2.3836 - val_accuracy: 0.2754\n",
            "Epoch 39/100\n",
            "124/124 [==============================] - 7s 59ms/step - loss: 2.0931 - accuracy: 0.3292 - val_loss: 2.1404 - val_accuracy: 0.3278\n",
            "Epoch 40/100\n",
            "124/124 [==============================] - 7s 59ms/step - loss: 2.0766 - accuracy: 0.3359 - val_loss: 2.1195 - val_accuracy: 0.3193\n",
            "Epoch 41/100\n",
            "124/124 [==============================] - 7s 59ms/step - loss: 2.0751 - accuracy: 0.3316 - val_loss: 2.3522 - val_accuracy: 0.2822\n",
            "Epoch 42/100\n",
            "124/124 [==============================] - 7s 60ms/step - loss: 2.0642 - accuracy: 0.3426 - val_loss: 2.3422 - val_accuracy: 0.2817\n",
            "Epoch 43/100\n",
            "124/124 [==============================] - 7s 59ms/step - loss: 2.0605 - accuracy: 0.3449 - val_loss: 2.2218 - val_accuracy: 0.3075\n",
            "Epoch 44/100\n",
            "124/124 [==============================] - 7s 59ms/step - loss: 2.0673 - accuracy: 0.3413 - val_loss: 2.3208 - val_accuracy: 0.2899\n",
            "Epoch 45/100\n",
            "124/124 [==============================] - 7s 59ms/step - loss: 2.0660 - accuracy: 0.3427 - val_loss: 2.1227 - val_accuracy: 0.3155\n",
            "Epoch 46/100\n",
            "124/124 [==============================] - 8s 61ms/step - loss: 2.0331 - accuracy: 0.3515 - val_loss: 2.3223 - val_accuracy: 0.2774\n",
            "Epoch 47/100\n",
            "124/124 [==============================] - 7s 59ms/step - loss: 2.0361 - accuracy: 0.3523 - val_loss: 2.0948 - val_accuracy: 0.3351\n",
            "Epoch 48/100\n",
            "124/124 [==============================] - 7s 60ms/step - loss: 2.0157 - accuracy: 0.3566 - val_loss: 2.3442 - val_accuracy: 0.2671\n",
            "Epoch 49/100\n",
            "124/124 [==============================] - 7s 60ms/step - loss: 2.0546 - accuracy: 0.3442 - val_loss: 2.0749 - val_accuracy: 0.3331\n",
            "Epoch 50/100\n",
            "124/124 [==============================] - 7s 60ms/step - loss: 2.0523 - accuracy: 0.3444 - val_loss: 2.3985 - val_accuracy: 0.2834\n",
            "Epoch 51/100\n",
            "124/124 [==============================] - 8s 61ms/step - loss: 2.0429 - accuracy: 0.3450 - val_loss: 2.3013 - val_accuracy: 0.2955\n",
            "Epoch 52/100\n",
            "124/124 [==============================] - 8s 60ms/step - loss: 2.0286 - accuracy: 0.3470 - val_loss: 2.4704 - val_accuracy: 0.2709\n",
            "Epoch 53/100\n",
            "124/124 [==============================] - 7s 59ms/step - loss: 2.0191 - accuracy: 0.3642 - val_loss: 2.1394 - val_accuracy: 0.3138\n",
            "Epoch 54/100\n",
            "124/124 [==============================] - 7s 60ms/step - loss: 2.0327 - accuracy: 0.3504 - val_loss: 2.1309 - val_accuracy: 0.3383\n",
            "Epoch 55/100\n",
            "124/124 [==============================] - 7s 60ms/step - loss: 2.0203 - accuracy: 0.3546 - val_loss: 2.2815 - val_accuracy: 0.2879\n",
            "Epoch 56/100\n",
            "124/124 [==============================] - 7s 60ms/step - loss: 2.0236 - accuracy: 0.3605 - val_loss: 2.6042 - val_accuracy: 0.2518\n",
            "Epoch 57/100\n",
            "124/124 [==============================] - 8s 60ms/step - loss: 2.0189 - accuracy: 0.3571 - val_loss: 2.4656 - val_accuracy: 0.2508\n",
            "Epoch 58/100\n",
            "124/124 [==============================] - 7s 60ms/step - loss: 2.0310 - accuracy: 0.3562 - val_loss: 2.2735 - val_accuracy: 0.2814\n",
            "Epoch 59/100\n",
            "124/124 [==============================] - 8s 60ms/step - loss: 2.0033 - accuracy: 0.3563 - val_loss: 2.0281 - val_accuracy: 0.3554\n",
            "Epoch 60/100\n",
            "124/124 [==============================] - 7s 60ms/step - loss: 2.0285 - accuracy: 0.3514 - val_loss: 2.3049 - val_accuracy: 0.2960\n",
            "Epoch 61/100\n",
            "124/124 [==============================] - 7s 60ms/step - loss: 2.0233 - accuracy: 0.3550 - val_loss: 2.3145 - val_accuracy: 0.3025\n",
            "Epoch 62/100\n",
            "124/124 [==============================] - 7s 60ms/step - loss: 2.0207 - accuracy: 0.3598 - val_loss: 2.7894 - val_accuracy: 0.2528\n",
            "Epoch 63/100\n",
            "124/124 [==============================] - 7s 59ms/step - loss: 2.0142 - accuracy: 0.3569 - val_loss: 2.2852 - val_accuracy: 0.2842\n",
            "Epoch 64/100\n",
            "124/124 [==============================] - 8s 60ms/step - loss: 2.0237 - accuracy: 0.3514 - val_loss: 2.2921 - val_accuracy: 0.2947\n",
            "Epoch 65/100\n",
            "124/124 [==============================] - 7s 60ms/step - loss: 2.0175 - accuracy: 0.3607 - val_loss: 2.6216 - val_accuracy: 0.2839\n",
            "Epoch 66/100\n",
            "124/124 [==============================] - 7s 60ms/step - loss: 2.0561 - accuracy: 0.3553 - val_loss: 2.3276 - val_accuracy: 0.2950\n",
            "Epoch 67/100\n",
            "124/124 [==============================] - 7s 59ms/step - loss: 2.0488 - accuracy: 0.3502 - val_loss: 2.6757 - val_accuracy: 0.2546\n",
            "Epoch 68/100\n",
            "124/124 [==============================] - 8s 62ms/step - loss: 2.0583 - accuracy: 0.3533 - val_loss: 2.4443 - val_accuracy: 0.2686\n",
            "Epoch 69/100\n",
            "124/124 [==============================] - 8s 61ms/step - loss: 2.0452 - accuracy: 0.3506 - val_loss: 2.1803 - val_accuracy: 0.3057\n",
            "Epoch 70/100\n",
            "124/124 [==============================] - 8s 60ms/step - loss: 2.0294 - accuracy: 0.3622 - val_loss: 2.4808 - val_accuracy: 0.2837\n",
            "Epoch 71/100\n",
            "124/124 [==============================] - 7s 60ms/step - loss: 2.0452 - accuracy: 0.3493 - val_loss: 2.3579 - val_accuracy: 0.3000\n",
            "Epoch 72/100\n",
            "124/124 [==============================] - 7s 60ms/step - loss: 2.0747 - accuracy: 0.3381 - val_loss: 2.5906 - val_accuracy: 0.2839\n",
            "Epoch 73/100\n",
            "124/124 [==============================] - 8s 60ms/step - loss: 2.0055 - accuracy: 0.3607 - val_loss: 2.3848 - val_accuracy: 0.2822\n",
            "Epoch 74/100\n",
            "124/124 [==============================] - 7s 60ms/step - loss: 2.0368 - accuracy: 0.3540 - val_loss: 2.7326 - val_accuracy: 0.2729\n",
            "Epoch 75/100\n",
            "124/124 [==============================] - 7s 60ms/step - loss: 2.0570 - accuracy: 0.3541 - val_loss: 2.8372 - val_accuracy: 0.2518\n",
            "Epoch 76/100\n",
            "124/124 [==============================] - 8s 61ms/step - loss: 2.0545 - accuracy: 0.3539 - val_loss: 2.7540 - val_accuracy: 0.2691\n",
            "Epoch 77/100\n",
            "124/124 [==============================] - 8s 60ms/step - loss: 2.0678 - accuracy: 0.3414 - val_loss: 2.6117 - val_accuracy: 0.2538\n",
            "Epoch 78/100\n",
            "124/124 [==============================] - 7s 60ms/step - loss: 2.0755 - accuracy: 0.3444 - val_loss: 2.6468 - val_accuracy: 0.2568\n",
            "Epoch 79/100\n",
            "124/124 [==============================] - 7s 60ms/step - loss: 2.0565 - accuracy: 0.3551 - val_loss: 2.3816 - val_accuracy: 0.3055\n",
            "Epoch 80/100\n",
            "124/124 [==============================] - 8s 60ms/step - loss: 2.0952 - accuracy: 0.3450 - val_loss: 2.9093 - val_accuracy: 0.2807\n",
            "Epoch 81/100\n",
            "124/124 [==============================] - 8s 60ms/step - loss: 2.0844 - accuracy: 0.3459 - val_loss: 2.4451 - val_accuracy: 0.2907\n",
            "Epoch 82/100\n",
            "124/124 [==============================] - 8s 60ms/step - loss: 2.0385 - accuracy: 0.3617 - val_loss: 2.5201 - val_accuracy: 0.2809\n",
            "Epoch 83/100\n",
            "124/124 [==============================] - 7s 60ms/step - loss: 2.0744 - accuracy: 0.3487 - val_loss: 2.2911 - val_accuracy: 0.2842\n",
            "Epoch 84/100\n",
            "124/124 [==============================] - 8s 60ms/step - loss: 2.0907 - accuracy: 0.3424 - val_loss: 2.3205 - val_accuracy: 0.2844\n",
            "Epoch 85/100\n",
            "124/124 [==============================] - 7s 60ms/step - loss: 2.0866 - accuracy: 0.3397 - val_loss: 2.6496 - val_accuracy: 0.2704\n",
            "Epoch 86/100\n",
            "124/124 [==============================] - 8s 61ms/step - loss: 2.0630 - accuracy: 0.3485 - val_loss: 3.2381 - val_accuracy: 0.2287\n",
            "Epoch 87/100\n",
            "124/124 [==============================] - 7s 60ms/step - loss: 2.1094 - accuracy: 0.3342 - val_loss: 3.3622 - val_accuracy: 0.2252\n",
            "Epoch 88/100\n",
            "124/124 [==============================] - 7s 60ms/step - loss: 2.1208 - accuracy: 0.3375 - val_loss: 2.8506 - val_accuracy: 0.2292\n",
            "Epoch 89/100\n",
            "124/124 [==============================] - 8s 60ms/step - loss: 2.1020 - accuracy: 0.3301 - val_loss: 2.4938 - val_accuracy: 0.2774\n",
            "Epoch 90/100\n",
            "124/124 [==============================] - 8s 61ms/step - loss: 2.1317 - accuracy: 0.3335 - val_loss: 2.6937 - val_accuracy: 0.2543\n",
            "Epoch 91/100\n",
            "124/124 [==============================] - 7s 60ms/step - loss: 2.0917 - accuracy: 0.3409 - val_loss: 3.7112 - val_accuracy: 0.2182\n",
            "Epoch 92/100\n",
            "124/124 [==============================] - 7s 60ms/step - loss: 2.0879 - accuracy: 0.3412 - val_loss: 2.6317 - val_accuracy: 0.2486\n",
            "Epoch 93/100\n",
            "124/124 [==============================] - 7s 60ms/step - loss: 2.1054 - accuracy: 0.3404 - val_loss: 3.1379 - val_accuracy: 0.2252\n",
            "Epoch 94/100\n",
            "124/124 [==============================] - 8s 61ms/step - loss: 2.1105 - accuracy: 0.3345 - val_loss: 3.4431 - val_accuracy: 0.2022\n",
            "Epoch 95/100\n",
            "124/124 [==============================] - 8s 61ms/step - loss: 2.1058 - accuracy: 0.3353 - val_loss: 2.9268 - val_accuracy: 0.2543\n",
            "Epoch 96/100\n",
            "124/124 [==============================] - 8s 60ms/step - loss: 2.1149 - accuracy: 0.3384 - val_loss: 2.7599 - val_accuracy: 0.2588\n",
            "Epoch 97/100\n",
            "124/124 [==============================] - 7s 60ms/step - loss: 2.0908 - accuracy: 0.3380 - val_loss: 2.9392 - val_accuracy: 0.2428\n",
            "Epoch 98/100\n",
            "124/124 [==============================] - 7s 60ms/step - loss: 2.1480 - accuracy: 0.3276 - val_loss: 2.5267 - val_accuracy: 0.2646\n",
            "Epoch 99/100\n",
            "124/124 [==============================] - 8s 61ms/step - loss: 2.1530 - accuracy: 0.3319 - val_loss: 2.7655 - val_accuracy: 0.2395\n",
            "Epoch 100/100\n",
            "124/124 [==============================] - 8s 61ms/step - loss: 2.1107 - accuracy: 0.3464 - val_loss: 2.4917 - val_accuracy: 0.2709\n",
            "CPU times: user 13min 26s, sys: 28.3 s, total: 13min 55s\n",
            "Wall time: 12min 28s\n"
          ],
          "name": "stdout"
        }
      ]
    },
    {
      "cell_type": "code",
      "metadata": {
        "colab": {
          "base_uri": "https://localhost:8080/"
        },
        "id": "_JiltlPn8gMr",
        "outputId": "aa00731f-0f3c-43ab-840d-16d1e42f8b75"
      },
      "source": [
        "loss4, accuracy4 = CNN4.evaluate(X_test, y_test)\n",
        "\n",
        "loss4, accuracy4"
      ],
      "execution_count": 83,
      "outputs": [
        {
          "output_type": "stream",
          "text": [
            "WARNING:tensorflow:Model was constructed with shape (None, 32, 32, 3) for input KerasTensor(type_spec=TensorSpec(shape=(None, 32, 32, 3), dtype=tf.float32, name='conv2d_80_input'), name='conv2d_80_input', description=\"created by layer 'conv2d_80_input'\"), but it was called on an input with incompatible shape (None, 30, 30, 3).\n",
            "156/156 [==============================] - 1s 3ms/step - loss: 2.4324 - accuracy: 0.2893\n"
          ],
          "name": "stdout"
        },
        {
          "output_type": "execute_result",
          "data": {
            "text/plain": [
              "(2.432363748550415, 0.2893258333206177)"
            ]
          },
          "metadata": {
            "tags": []
          },
          "execution_count": 83
        }
      ]
    },
    {
      "cell_type": "code",
      "metadata": {
        "colab": {
          "base_uri": "https://localhost:8080/",
          "height": 513
        },
        "id": "biBdYRxD8gMs",
        "outputId": "cb756feb-69b1-43aa-c064-8ec697747fc4"
      },
      "source": [
        "import matplotlib.pyplot as plt\n",
        "\n",
        "epochs = range(1, len(Hist_CNN4.history['loss'])+1)\n",
        "\n",
        "\n",
        "plt.plot(epochs, Hist_CNN4.history['loss'])\n",
        "plt.plot(epochs, Hist_CNN4.history['val_loss'])\n",
        "plt.legend(['Training Loss','Test Loss'])\n",
        "plt.grid()\n",
        "plt.show()\n",
        "\n",
        "\n",
        "\n",
        "plt.plot(epochs, Hist_CNN4.history['accuracy'])\n",
        "plt.plot(epochs, Hist_CNN4.history['val_accuracy'])\n",
        "plt.legend(['Training accuracy','Test accuracy'])\n",
        "plt.grid()\n",
        "plt.show()"
      ],
      "execution_count": 84,
      "outputs": [
        {
          "output_type": "display_data",
          "data": {
            "image/png": "[encoded data removed]",
            "text/plain": [
              "<Figure size 432x288 with 1 Axes>"
            ]
          },
          "metadata": {
            "tags": [],
            "needs_background": "light"
          }
        },
        {
          "output_type": "display_data",
          "data": {
            "image/png": "[encoded data removed]",
            "text/plain": [
              "<Figure size 432x288 with 1 Axes>"
            ]
          },
          "metadata": {
            "tags": [],
            "needs_background": "light"
          }
        }
      ]
    },
    {
      "cell_type": "markdown",
      "metadata": {
        "id": "byR-snKiG5Kx"
      },
      "source": [
        "### 5) layer 늘림"
      ]
    },
    {
      "cell_type": "code",
      "metadata": {
        "colab": {
          "base_uri": "https://localhost:8080/"
        },
        "id": "KOZDiQJwG8YB",
        "outputId": "1d85912e-6b3f-4bdc-ecaf-acd4eb7c99b2"
      },
      "source": [
        "from keras import layers, models\n",
        "\n",
        "CNN5 = models.Sequential()\n",
        "CNN5.add(layers.Conv2D(32, (3,3), activation='relu', input_shape=(30, 30, 3)))\n",
        "CNN5.add(layers.Dropout(0.4))\n",
        "CNN5.add(layers.MaxPool2D((2,2)))\n",
        "CNN5.add(layers.Conv2D(64, (3,3), activation='relu'))\n",
        "CNN5.add(layers.Dropout(0.4))\n",
        "CNN5.add(layers.Conv2D(64, (3,3), activation='relu'))\n",
        "CNN5.add(layers.Dropout(0.4))\n",
        "CNN5.add(layers.MaxPool2D((2,2)))\n",
        "CNN5.add(layers.Conv2D(128, (3,3), activation='relu'))\n",
        "CNN5.add(layers.Dropout(0.4))\n",
        "CNN5.add(layers.Conv2D(128, (3,3), activation='relu'))\n",
        "\n",
        "CNN5.add(layers.Flatten())\n",
        "CNN5.add(layers.Dense(units=512, activation='relu'))\n",
        "CNN5.add(layers.Dropout(0.5))\n",
        "CNN5.add(layers.Dense(units=34, activation='softmax'))\n",
        "\n",
        "CNN5.summary()\n",
        "\n",
        "CNN5.compile(loss = 'categorical_crossentropy',\n",
        "              optimizer = 'adam',\n",
        "              metrics = ['accuracy'])"
      ],
      "execution_count": 91,
      "outputs": [
        {
          "output_type": "stream",
          "text": [
            "Model: \"sequential_23\"\n",
            "_________________________________________________________________\n",
            "Layer (type)                 Output Shape              Param #   \n",
            "=================================================================\n",
            "conv2d_89 (Conv2D)           (None, 30, 30, 32)        896       \n",
            "_________________________________________________________________\n",
            "dropout_46 (Dropout)         (None, 30, 30, 32)        0         \n",
            "_________________________________________________________________\n",
            "max_pooling2d_42 (MaxPooling (None, 15, 15, 32)        0         \n",
            "_________________________________________________________________\n",
            "conv2d_90 (Conv2D)           (None, 13, 13, 64)        18496     \n",
            "_________________________________________________________________\n",
            "dropout_47 (Dropout)         (None, 13, 13, 64)        0         \n",
            "_________________________________________________________________\n",
            "conv2d_91 (Conv2D)           (None, 11, 11, 64)        36928     \n",
            "_________________________________________________________________\n",
            "dropout_48 (Dropout)         (None, 11, 11, 64)        0         \n",
            "_________________________________________________________________\n",
            "max_pooling2d_43 (MaxPooling (None, 5, 5, 64)          0         \n",
            "_________________________________________________________________\n",
            "conv2d_92 (Conv2D)           (None, 3, 3, 128)         73856     \n",
            "_________________________________________________________________\n",
            "dropout_49 (Dropout)         (None, 3, 3, 128)         0         \n",
            "_________________________________________________________________\n",
            "conv2d_93 (Conv2D)           (None, 1, 1, 128)         147584    \n",
            "_________________________________________________________________\n",
            "flatten_22 (Flatten)         (None, 128)               0         \n",
            "_________________________________________________________________\n",
            "dense_44 (Dense)             (None, 512)               66048     \n",
            "_________________________________________________________________\n",
            "dropout_50 (Dropout)         (None, 512)               0         \n",
            "_________________________________________________________________\n",
            "dense_45 (Dense)             (None, 34)                17442     \n",
            "=================================================================\n",
            "Total params: 361,250\n",
            "Trainable params: 361,250\n",
            "Non-trainable params: 0\n",
            "_________________________________________________________________\n"
          ],
          "name": "stdout"
        }
      ]
    },
    {
      "cell_type": "code",
      "metadata": {
        "colab": {
          "base_uri": "https://localhost:8080/"
        },
        "id": "J-ytGC83G8YC",
        "outputId": "a0ef69ab-4ebd-4262-a275-1a472c51a9ad"
      },
      "source": [
        "%%time\n",
        "Hist_CNN5 = CNN5.fit(train_generator, steps_per_epoch=len(X_train)/128 ,\n",
        "                       epochs = 100,\n",
        "                       validation_data=valid_generator, validation_steps=len(X_valid)/128)"
      ],
      "execution_count": 93,
      "outputs": [
        {
          "output_type": "stream",
          "text": [
            "Epoch 1/100\n",
            "124/124 [==============================] - 8s 64ms/step - loss: 3.4725 - accuracy: 0.0776 - val_loss: 3.3786 - val_accuracy: 0.0740\n",
            "Epoch 2/100\n",
            "124/124 [==============================] - 8s 61ms/step - loss: 3.2265 - accuracy: 0.0864 - val_loss: 3.1676 - val_accuracy: 0.1011\n",
            "Epoch 3/100\n",
            "124/124 [==============================] - 8s 62ms/step - loss: 3.0530 - accuracy: 0.0995 - val_loss: 2.9799 - val_accuracy: 0.1099\n",
            "Epoch 4/100\n",
            "124/124 [==============================] - 8s 62ms/step - loss: 2.9588 - accuracy: 0.1097 - val_loss: 2.9737 - val_accuracy: 0.1021\n",
            "Epoch 5/100\n",
            "124/124 [==============================] - 8s 62ms/step - loss: 2.9088 - accuracy: 0.1160 - val_loss: 2.8228 - val_accuracy: 0.1317\n",
            "Epoch 6/100\n",
            "124/124 [==============================] - 8s 61ms/step - loss: 2.8563 - accuracy: 0.1256 - val_loss: 2.8038 - val_accuracy: 0.1277\n",
            "Epoch 7/100\n",
            "124/124 [==============================] - 8s 63ms/step - loss: 2.8272 - accuracy: 0.1308 - val_loss: 2.7856 - val_accuracy: 0.1362\n",
            "Epoch 8/100\n",
            "124/124 [==============================] - 8s 62ms/step - loss: 2.7930 - accuracy: 0.1393 - val_loss: 2.7369 - val_accuracy: 0.1415\n",
            "Epoch 9/100\n",
            "124/124 [==============================] - 8s 62ms/step - loss: 2.7497 - accuracy: 0.1528 - val_loss: 2.6815 - val_accuracy: 0.1580\n",
            "Epoch 10/100\n",
            "124/124 [==============================] - 8s 62ms/step - loss: 2.7225 - accuracy: 0.1577 - val_loss: 2.6527 - val_accuracy: 0.1515\n",
            "Epoch 11/100\n",
            "124/124 [==============================] - 8s 62ms/step - loss: 2.7130 - accuracy: 0.1569 - val_loss: 2.6333 - val_accuracy: 0.1721\n",
            "Epoch 12/100\n",
            "124/124 [==============================] - 8s 63ms/step - loss: 2.6635 - accuracy: 0.1669 - val_loss: 2.6720 - val_accuracy: 0.1593\n",
            "Epoch 13/100\n",
            "124/124 [==============================] - 8s 63ms/step - loss: 2.6433 - accuracy: 0.1767 - val_loss: 2.5332 - val_accuracy: 0.1944\n",
            "Epoch 14/100\n",
            "124/124 [==============================] - 8s 63ms/step - loss: 2.6220 - accuracy: 0.1758 - val_loss: 2.7009 - val_accuracy: 0.1773\n",
            "Epoch 15/100\n",
            "124/124 [==============================] - 8s 62ms/step - loss: 2.6021 - accuracy: 0.1831 - val_loss: 2.5673 - val_accuracy: 0.1881\n",
            "Epoch 16/100\n",
            "124/124 [==============================] - 8s 62ms/step - loss: 2.5774 - accuracy: 0.1889 - val_loss: 2.6284 - val_accuracy: 0.1866\n",
            "Epoch 17/100\n",
            "124/124 [==============================] - 8s 62ms/step - loss: 2.5528 - accuracy: 0.2039 - val_loss: 2.6024 - val_accuracy: 0.1939\n",
            "Epoch 18/100\n",
            "124/124 [==============================] - 8s 62ms/step - loss: 2.5458 - accuracy: 0.2011 - val_loss: 2.4978 - val_accuracy: 0.2104\n",
            "Epoch 19/100\n",
            "124/124 [==============================] - 8s 62ms/step - loss: 2.5150 - accuracy: 0.2020 - val_loss: 2.5009 - val_accuracy: 0.2175\n",
            "Epoch 20/100\n",
            "124/124 [==============================] - 8s 62ms/step - loss: 2.5133 - accuracy: 0.2053 - val_loss: 2.5550 - val_accuracy: 0.2162\n",
            "Epoch 21/100\n",
            "124/124 [==============================] - 8s 62ms/step - loss: 2.5001 - accuracy: 0.2118 - val_loss: 2.4524 - val_accuracy: 0.2155\n",
            "Epoch 22/100\n",
            "124/124 [==============================] - 8s 63ms/step - loss: 2.4742 - accuracy: 0.2196 - val_loss: 2.4242 - val_accuracy: 0.2330\n",
            "Epoch 23/100\n",
            "124/124 [==============================] - 8s 63ms/step - loss: 2.4558 - accuracy: 0.2203 - val_loss: 2.3604 - val_accuracy: 0.2438\n",
            "Epoch 24/100\n",
            "124/124 [==============================] - 8s 63ms/step - loss: 2.4411 - accuracy: 0.2240 - val_loss: 2.4026 - val_accuracy: 0.2418\n",
            "Epoch 25/100\n",
            "124/124 [==============================] - 8s 62ms/step - loss: 2.4299 - accuracy: 0.2265 - val_loss: 2.2991 - val_accuracy: 0.2546\n",
            "Epoch 26/100\n",
            "124/124 [==============================] - 8s 62ms/step - loss: 2.4177 - accuracy: 0.2336 - val_loss: 2.2446 - val_accuracy: 0.2571\n",
            "Epoch 27/100\n",
            "124/124 [==============================] - 8s 63ms/step - loss: 2.3983 - accuracy: 0.2368 - val_loss: 2.4320 - val_accuracy: 0.2305\n",
            "Epoch 28/100\n",
            "124/124 [==============================] - 8s 64ms/step - loss: 2.3963 - accuracy: 0.2371 - val_loss: 2.3955 - val_accuracy: 0.2340\n",
            "Epoch 29/100\n",
            "124/124 [==============================] - 8s 62ms/step - loss: 2.3610 - accuracy: 0.2455 - val_loss: 2.3690 - val_accuracy: 0.2466\n",
            "Epoch 30/100\n",
            "124/124 [==============================] - 8s 63ms/step - loss: 2.3695 - accuracy: 0.2431 - val_loss: 2.4291 - val_accuracy: 0.2536\n",
            "Epoch 31/100\n",
            "124/124 [==============================] - 8s 63ms/step - loss: 2.3520 - accuracy: 0.2492 - val_loss: 2.2956 - val_accuracy: 0.2551\n",
            "Epoch 32/100\n",
            "124/124 [==============================] - 8s 63ms/step - loss: 2.3326 - accuracy: 0.2585 - val_loss: 2.3210 - val_accuracy: 0.2613\n",
            "Epoch 33/100\n",
            "124/124 [==============================] - 8s 62ms/step - loss: 2.3265 - accuracy: 0.2554 - val_loss: 2.3612 - val_accuracy: 0.2385\n",
            "Epoch 34/100\n",
            "124/124 [==============================] - 8s 63ms/step - loss: 2.3236 - accuracy: 0.2578 - val_loss: 2.1863 - val_accuracy: 0.2706\n",
            "Epoch 35/100\n",
            "124/124 [==============================] - 8s 63ms/step - loss: 2.3050 - accuracy: 0.2573 - val_loss: 2.2319 - val_accuracy: 0.2566\n",
            "Epoch 36/100\n",
            "124/124 [==============================] - 8s 62ms/step - loss: 2.2848 - accuracy: 0.2634 - val_loss: 2.2467 - val_accuracy: 0.2716\n",
            "Epoch 37/100\n",
            "124/124 [==============================] - 8s 62ms/step - loss: 2.2870 - accuracy: 0.2704 - val_loss: 2.3073 - val_accuracy: 0.2473\n",
            "Epoch 38/100\n",
            "124/124 [==============================] - 8s 62ms/step - loss: 2.2747 - accuracy: 0.2718 - val_loss: 2.2362 - val_accuracy: 0.2746\n",
            "Epoch 39/100\n",
            "124/124 [==============================] - 8s 63ms/step - loss: 2.2734 - accuracy: 0.2677 - val_loss: 2.2148 - val_accuracy: 0.2711\n",
            "Epoch 40/100\n",
            "124/124 [==============================] - 8s 62ms/step - loss: 2.2691 - accuracy: 0.2762 - val_loss: 2.3467 - val_accuracy: 0.2679\n",
            "Epoch 41/100\n",
            "124/124 [==============================] - 8s 62ms/step - loss: 2.2472 - accuracy: 0.2763 - val_loss: 2.2406 - val_accuracy: 0.2709\n",
            "Epoch 42/100\n",
            "124/124 [==============================] - 8s 62ms/step - loss: 2.2625 - accuracy: 0.2730 - val_loss: 2.1617 - val_accuracy: 0.2784\n",
            "Epoch 43/100\n",
            "124/124 [==============================] - 8s 62ms/step - loss: 2.2389 - accuracy: 0.2778 - val_loss: 2.1764 - val_accuracy: 0.2867\n",
            "Epoch 44/100\n",
            "124/124 [==============================] - 8s 62ms/step - loss: 2.2320 - accuracy: 0.2808 - val_loss: 2.1424 - val_accuracy: 0.2919\n",
            "Epoch 45/100\n",
            "124/124 [==============================] - 8s 61ms/step - loss: 2.2105 - accuracy: 0.2902 - val_loss: 2.2588 - val_accuracy: 0.2666\n",
            "Epoch 46/100\n",
            "124/124 [==============================] - 8s 62ms/step - loss: 2.2140 - accuracy: 0.2861 - val_loss: 2.1694 - val_accuracy: 0.2945\n",
            "Epoch 47/100\n",
            "124/124 [==============================] - 8s 61ms/step - loss: 2.2001 - accuracy: 0.2908 - val_loss: 2.1645 - val_accuracy: 0.2854\n",
            "Epoch 48/100\n",
            "124/124 [==============================] - 8s 61ms/step - loss: 2.2040 - accuracy: 0.2873 - val_loss: 2.2571 - val_accuracy: 0.2799\n",
            "Epoch 49/100\n",
            "124/124 [==============================] - 8s 60ms/step - loss: 2.1937 - accuracy: 0.2896 - val_loss: 2.1925 - val_accuracy: 0.2849\n",
            "Epoch 50/100\n",
            "124/124 [==============================] - 8s 61ms/step - loss: 2.1786 - accuracy: 0.2983 - val_loss: 2.1848 - val_accuracy: 0.2864\n",
            "Epoch 51/100\n",
            "124/124 [==============================] - 8s 62ms/step - loss: 2.1816 - accuracy: 0.2937 - val_loss: 2.2376 - val_accuracy: 0.2766\n",
            "Epoch 52/100\n",
            "124/124 [==============================] - 8s 62ms/step - loss: 2.1622 - accuracy: 0.3000 - val_loss: 2.3026 - val_accuracy: 0.2578\n",
            "Epoch 53/100\n",
            "124/124 [==============================] - 8s 62ms/step - loss: 2.1652 - accuracy: 0.3015 - val_loss: 2.1881 - val_accuracy: 0.2945\n",
            "Epoch 54/100\n",
            "124/124 [==============================] - 8s 62ms/step - loss: 2.1588 - accuracy: 0.3050 - val_loss: 2.2224 - val_accuracy: 0.2749\n",
            "Epoch 55/100\n",
            "124/124 [==============================] - 8s 63ms/step - loss: 2.1330 - accuracy: 0.3062 - val_loss: 2.1529 - val_accuracy: 0.2967\n",
            "Epoch 56/100\n",
            "124/124 [==============================] - 8s 62ms/step - loss: 2.1379 - accuracy: 0.3057 - val_loss: 2.1586 - val_accuracy: 0.2869\n",
            "Epoch 57/100\n",
            "124/124 [==============================] - 8s 62ms/step - loss: 2.1168 - accuracy: 0.3134 - val_loss: 2.2957 - val_accuracy: 0.2749\n",
            "Epoch 58/100\n",
            "124/124 [==============================] - 8s 62ms/step - loss: 2.1161 - accuracy: 0.3101 - val_loss: 2.1093 - val_accuracy: 0.3050\n",
            "Epoch 59/100\n",
            "124/124 [==============================] - 8s 62ms/step - loss: 2.1218 - accuracy: 0.3105 - val_loss: 2.0958 - val_accuracy: 0.3060\n",
            "Epoch 60/100\n",
            "124/124 [==============================] - 8s 62ms/step - loss: 2.1313 - accuracy: 0.3126 - val_loss: 2.0900 - val_accuracy: 0.3060\n",
            "Epoch 61/100\n",
            "124/124 [==============================] - 8s 62ms/step - loss: 2.1071 - accuracy: 0.3172 - val_loss: 2.2357 - val_accuracy: 0.2812\n",
            "Epoch 62/100\n",
            "124/124 [==============================] - 8s 62ms/step - loss: 2.0963 - accuracy: 0.3146 - val_loss: 2.2012 - val_accuracy: 0.2889\n",
            "Epoch 63/100\n",
            "124/124 [==============================] - 8s 62ms/step - loss: 2.1064 - accuracy: 0.3178 - val_loss: 2.2139 - val_accuracy: 0.2912\n",
            "Epoch 64/100\n",
            "124/124 [==============================] - 8s 62ms/step - loss: 2.0741 - accuracy: 0.3252 - val_loss: 2.2443 - val_accuracy: 0.2932\n",
            "Epoch 65/100\n",
            "124/124 [==============================] - 8s 63ms/step - loss: 2.0773 - accuracy: 0.3250 - val_loss: 2.0682 - val_accuracy: 0.3228\n",
            "Epoch 66/100\n",
            "124/124 [==============================] - 8s 62ms/step - loss: 2.0670 - accuracy: 0.3248 - val_loss: 2.2307 - val_accuracy: 0.2854\n",
            "Epoch 67/100\n",
            "124/124 [==============================] - 8s 63ms/step - loss: 2.0724 - accuracy: 0.3212 - val_loss: 2.2205 - val_accuracy: 0.2945\n",
            "Epoch 68/100\n",
            "124/124 [==============================] - 8s 64ms/step - loss: 2.0604 - accuracy: 0.3262 - val_loss: 1.9866 - val_accuracy: 0.3476\n",
            "Epoch 69/100\n",
            "124/124 [==============================] - 8s 64ms/step - loss: 2.0571 - accuracy: 0.3312 - val_loss: 2.0911 - val_accuracy: 0.3223\n",
            "Epoch 70/100\n",
            "124/124 [==============================] - 8s 66ms/step - loss: 2.0825 - accuracy: 0.3239 - val_loss: 2.1687 - val_accuracy: 0.2995\n",
            "Epoch 71/100\n",
            "124/124 [==============================] - 8s 66ms/step - loss: 2.0511 - accuracy: 0.3335 - val_loss: 2.1348 - val_accuracy: 0.2960\n",
            "Epoch 72/100\n",
            "124/124 [==============================] - 8s 63ms/step - loss: 2.0506 - accuracy: 0.3331 - val_loss: 2.1316 - val_accuracy: 0.3037\n",
            "Epoch 73/100\n",
            "124/124 [==============================] - 8s 66ms/step - loss: 2.0428 - accuracy: 0.3336 - val_loss: 2.1766 - val_accuracy: 0.2869\n",
            "Epoch 74/100\n",
            "124/124 [==============================] - 8s 65ms/step - loss: 2.0378 - accuracy: 0.3349 - val_loss: 2.2196 - val_accuracy: 0.2832\n",
            "Epoch 75/100\n",
            "124/124 [==============================] - 8s 65ms/step - loss: 2.0424 - accuracy: 0.3423 - val_loss: 2.0267 - val_accuracy: 0.3336\n",
            "Epoch 76/100\n",
            "124/124 [==============================] - 8s 65ms/step - loss: 2.0279 - accuracy: 0.3380 - val_loss: 2.1308 - val_accuracy: 0.3078\n",
            "Epoch 77/100\n",
            "124/124 [==============================] - 8s 64ms/step - loss: 2.0175 - accuracy: 0.3446 - val_loss: 2.1432 - val_accuracy: 0.3075\n",
            "Epoch 78/100\n",
            "124/124 [==============================] - 8s 64ms/step - loss: 2.0055 - accuracy: 0.3441 - val_loss: 2.1432 - val_accuracy: 0.3155\n",
            "Epoch 79/100\n",
            "124/124 [==============================] - 8s 68ms/step - loss: 2.0199 - accuracy: 0.3441 - val_loss: 2.0291 - val_accuracy: 0.3416\n",
            "Epoch 80/100\n",
            "124/124 [==============================] - 8s 66ms/step - loss: 2.0180 - accuracy: 0.3385 - val_loss: 2.2283 - val_accuracy: 0.2970\n",
            "Epoch 81/100\n",
            "124/124 [==============================] - 8s 65ms/step - loss: 2.0113 - accuracy: 0.3446 - val_loss: 2.1268 - val_accuracy: 0.3203\n",
            "Epoch 82/100\n",
            "124/124 [==============================] - 8s 64ms/step - loss: 1.9988 - accuracy: 0.3475 - val_loss: 1.9863 - val_accuracy: 0.3439\n",
            "Epoch 83/100\n",
            "124/124 [==============================] - 8s 65ms/step - loss: 2.0027 - accuracy: 0.3466 - val_loss: 2.1545 - val_accuracy: 0.3090\n",
            "Epoch 84/100\n",
            "124/124 [==============================] - 8s 68ms/step - loss: 1.9809 - accuracy: 0.3526 - val_loss: 2.0969 - val_accuracy: 0.3108\n",
            "Epoch 85/100\n",
            "124/124 [==============================] - 8s 66ms/step - loss: 1.9734 - accuracy: 0.3543 - val_loss: 2.0438 - val_accuracy: 0.3308\n",
            "Epoch 86/100\n",
            "124/124 [==============================] - 8s 65ms/step - loss: 1.9837 - accuracy: 0.3545 - val_loss: 2.0638 - val_accuracy: 0.3230\n",
            "Epoch 87/100\n",
            "124/124 [==============================] - 8s 63ms/step - loss: 1.9722 - accuracy: 0.3523 - val_loss: 2.1156 - val_accuracy: 0.3118\n",
            "Epoch 88/100\n",
            "124/124 [==============================] - 8s 63ms/step - loss: 1.9669 - accuracy: 0.3558 - val_loss: 2.0983 - val_accuracy: 0.3203\n",
            "Epoch 89/100\n",
            "124/124 [==============================] - 8s 63ms/step - loss: 1.9574 - accuracy: 0.3590 - val_loss: 1.9741 - val_accuracy: 0.3434\n",
            "Epoch 90/100\n",
            "124/124 [==============================] - 8s 62ms/step - loss: 1.9437 - accuracy: 0.3649 - val_loss: 2.1255 - val_accuracy: 0.3213\n",
            "Epoch 91/100\n",
            "124/124 [==============================] - 8s 63ms/step - loss: 1.9541 - accuracy: 0.3592 - val_loss: 2.0323 - val_accuracy: 0.3436\n",
            "Epoch 92/100\n",
            "124/124 [==============================] - 8s 63ms/step - loss: 1.9605 - accuracy: 0.3599 - val_loss: 1.9038 - val_accuracy: 0.3659\n",
            "Epoch 93/100\n",
            "124/124 [==============================] - 8s 62ms/step - loss: 1.9549 - accuracy: 0.3609 - val_loss: 2.1968 - val_accuracy: 0.3032\n",
            "Epoch 94/100\n",
            "124/124 [==============================] - 8s 63ms/step - loss: 1.9442 - accuracy: 0.3589 - val_loss: 1.8924 - val_accuracy: 0.3742\n",
            "Epoch 95/100\n",
            "124/124 [==============================] - 8s 63ms/step - loss: 1.9424 - accuracy: 0.3616 - val_loss: 2.1267 - val_accuracy: 0.3130\n",
            "Epoch 96/100\n",
            "124/124 [==============================] - 8s 64ms/step - loss: 1.9464 - accuracy: 0.3666 - val_loss: 2.1192 - val_accuracy: 0.3195\n",
            "Epoch 97/100\n",
            "124/124 [==============================] - 8s 65ms/step - loss: 1.9430 - accuracy: 0.3603 - val_loss: 1.9627 - val_accuracy: 0.3524\n",
            "Epoch 98/100\n",
            "124/124 [==============================] - 8s 64ms/step - loss: 1.9390 - accuracy: 0.3632 - val_loss: 2.0205 - val_accuracy: 0.3461\n",
            "Epoch 99/100\n",
            "124/124 [==============================] - 8s 64ms/step - loss: 1.9257 - accuracy: 0.3678 - val_loss: 1.8993 - val_accuracy: 0.3649\n",
            "Epoch 100/100\n",
            "124/124 [==============================] - 8s 65ms/step - loss: 1.9278 - accuracy: 0.3694 - val_loss: 2.0351 - val_accuracy: 0.3381\n",
            "CPU times: user 14min 16s, sys: 33.9 s, total: 14min 50s\n",
            "Wall time: 13min 6s\n"
          ],
          "name": "stdout"
        }
      ]
    },
    {
      "cell_type": "code",
      "metadata": {
        "colab": {
          "base_uri": "https://localhost:8080/"
        },
        "id": "4HdBhhNxG8YC",
        "outputId": "0c8f88af-d3de-476f-c240-3f089659811e"
      },
      "source": [
        "loss5, accuracy5 = CNN5.evaluate(X_test, y_test)\n",
        "\n",
        "loss5, accuracy5"
      ],
      "execution_count": 95,
      "outputs": [
        {
          "output_type": "stream",
          "text": [
            "WARNING:tensorflow:Model was constructed with shape (None, 32, 32, 3) for input KerasTensor(type_spec=TensorSpec(shape=(None, 32, 32, 3), dtype=tf.float32, name='conv2d_89_input'), name='conv2d_89_input', description=\"created by layer 'conv2d_89_input'\"), but it was called on an input with incompatible shape (None, 30, 30, 3).\n",
            "156/156 [==============================] - 1s 4ms/step - loss: 2.0407 - accuracy: 0.3333\n"
          ],
          "name": "stdout"
        },
        {
          "output_type": "execute_result",
          "data": {
            "text/plain": [
              "(2.0407402515411377, 0.3332664668560028)"
            ]
          },
          "metadata": {
            "tags": []
          },
          "execution_count": 95
        }
      ]
    },
    {
      "cell_type": "code",
      "metadata": {
        "colab": {
          "base_uri": "https://localhost:8080/",
          "height": 513
        },
        "id": "p1jAH1KBG8YC",
        "outputId": "b5d14964-9a10-4118-f82d-1256cb76c82e"
      },
      "source": [
        "import matplotlib.pyplot as plt\n",
        "\n",
        "epochs = range(1, len(Hist_CNN5.history['loss'])+1)\n",
        "\n",
        "\n",
        "plt.plot(epochs, Hist_CNN5.history['loss'])\n",
        "plt.plot(epochs, Hist_CNN5.history['val_loss'])\n",
        "plt.legend(['Training Loss','Test Loss'])\n",
        "plt.grid()\n",
        "plt.show()\n",
        "\n",
        "\n",
        "\n",
        "plt.plot(epochs, Hist_CNN5.history['accuracy'])\n",
        "plt.plot(epochs, Hist_CNN5.history['val_accuracy'])\n",
        "plt.legend(['Training accuracy','Test accuracy'])\n",
        "plt.grid()\n",
        "plt.show()"
      ],
      "execution_count": 96,
      "outputs": [
        {
          "output_type": "display_data",
          "data": {
            "image/png": "[encoded data removed]",
            "text/plain": [
              "<Figure size 432x288 with 1 Axes>"
            ]
          },
          "metadata": {
            "tags": [],
            "needs_background": "light"
          }
        },
        {
          "output_type": "display_data",
          "data": {
            "image/png": "[encoded data removed]",
            "text/plain": [
              "<Figure size 432x288 with 1 Axes>"
            ]
          },
          "metadata": {
            "tags": [],
            "needs_background": "light"
          }
        }
      ]
    },
    {
      "cell_type": "markdown",
      "metadata": {
        "id": "jRzFKRDqMJHN"
      },
      "source": [
        "### 6) 에포크 늘림 / 말도 안되게 낮은 값 나옴\n",
        "* 발산한건가?? 왜??"
      ]
    },
    {
      "cell_type": "code",
      "metadata": {
        "colab": {
          "base_uri": "https://localhost:8080/"
        },
        "id": "gzOhLowLMJLG",
        "outputId": "5898e6cb-8b58-4b5a-868a-725aa4bb41da"
      },
      "source": [
        "from keras import layers, models\n",
        "\n",
        "CNN6 = models.Sequential()\n",
        "CNN6.add(layers.Conv2D(32, (3,3), activation='relu', input_shape=(30, 30, 3),\n",
        "                      kernel_regularizer=regularizers.l2(0.00001)))\n",
        "CNN6.add(layers.Dropout(0.4))\n",
        "CNN6.add(layers.Conv2D(64, (3,3), activation='relu'))\n",
        "CNN6.add(layers.Conv2D(64, (3,3), activation='relu'))\n",
        "CNN6.add(layers.Dropout(0.4))\n",
        "CNN6.add(layers.Conv2D(128, (3,3), activation='relu'))\n",
        "CNN6.add(layers.Dropout(0.4))\n",
        "CNN6.add(layers.Conv2D(128, (3,3), activation='relu'))\n",
        "CNN6.add(layers.MaxPool2D((2,2)))\n",
        "CNN6.add(layers.Conv2D(256, (3,3), activation='relu'))\n",
        "CNN6.add(layers.Conv2D(256, (3,3), activation='relu'))\n",
        "\n",
        "\n",
        "CNN6.add(layers.Flatten())\n",
        "CNN6.add(layers.Dense(units=512, activation='relu'))\n",
        "CNN6.add(layers.Dropout(0.5))\n",
        "CNN6.add(layers.Dense(units=34, activation='softmax'))\n",
        "\n",
        "CNN6.summary()\n",
        "\n",
        "CNN6.compile(loss = 'categorical_crossentropy',\n",
        "              optimizer = 'adam',\n",
        "              metrics = ['accuracy'])"
      ],
      "execution_count": 137,
      "outputs": [
        {
          "output_type": "stream",
          "text": [
            "Model: \"sequential_35\"\n",
            "_________________________________________________________________\n",
            "Layer (type)                 Output Shape              Param #   \n",
            "=================================================================\n",
            "conv2d_158 (Conv2D)          (None, 28, 28, 32)        896       \n",
            "_________________________________________________________________\n",
            "dropout_90 (Dropout)         (None, 28, 28, 32)        0         \n",
            "_________________________________________________________________\n",
            "conv2d_159 (Conv2D)          (None, 26, 26, 64)        18496     \n",
            "_________________________________________________________________\n",
            "conv2d_160 (Conv2D)          (None, 24, 24, 64)        36928     \n",
            "_________________________________________________________________\n",
            "dropout_91 (Dropout)         (None, 24, 24, 64)        0         \n",
            "_________________________________________________________________\n",
            "conv2d_161 (Conv2D)          (None, 22, 22, 128)       73856     \n",
            "_________________________________________________________________\n",
            "dropout_92 (Dropout)         (None, 22, 22, 128)       0         \n",
            "_________________________________________________________________\n",
            "conv2d_162 (Conv2D)          (None, 20, 20, 128)       147584    \n",
            "_________________________________________________________________\n",
            "max_pooling2d_60 (MaxPooling (None, 10, 10, 128)       0         \n",
            "_________________________________________________________________\n",
            "conv2d_163 (Conv2D)          (None, 8, 8, 256)         295168    \n",
            "_________________________________________________________________\n",
            "conv2d_164 (Conv2D)          (None, 6, 6, 256)         590080    \n",
            "_________________________________________________________________\n",
            "flatten_34 (Flatten)         (None, 9216)              0         \n",
            "_________________________________________________________________\n",
            "dense_68 (Dense)             (None, 512)               4719104   \n",
            "_________________________________________________________________\n",
            "dropout_93 (Dropout)         (None, 512)               0         \n",
            "_________________________________________________________________\n",
            "dense_69 (Dense)             (None, 34)                17442     \n",
            "=================================================================\n",
            "Total params: 5,899,554\n",
            "Trainable params: 5,899,554\n",
            "Non-trainable params: 0\n",
            "_________________________________________________________________\n"
          ],
          "name": "stdout"
        }
      ]
    },
    {
      "cell_type": "code",
      "metadata": {
        "colab": {
          "base_uri": "https://localhost:8080/",
          "height": 563
        },
        "id": "idvlFrCOMJLH",
        "outputId": "ed0d40e6-a1e1-4198-e327-d1e003b759bc"
      },
      "source": [
        "%%time\n",
        "Hist_CNN6 = CNN6.fit(train_generator, steps_per_epoch=len(X_train)/128 ,\n",
        "                       epochs = 300,\n",
        "                       validation_data=valid_generator, validation_steps=len(X_valid)/128)"
      ],
      "execution_count": 138,
      "outputs": [
        {
          "output_type": "stream",
          "text": [
            "Epoch 1/300\n",
            "124/124 [==============================] - 10s 75ms/step - loss: 3.5013 - accuracy: 0.0658 - val_loss: 3.4824 - val_accuracy: 0.0740\n",
            "Epoch 2/300\n",
            "124/124 [==============================] - 9s 73ms/step - loss: 3.4779 - accuracy: 0.0825 - val_loss: 3.4790 - val_accuracy: 0.0740\n",
            "Epoch 3/300\n",
            " 10/124 [=>............................] - ETA: 7s - loss: 3.4932 - accuracy: 0.0794"
          ],
          "name": "stdout"
        },
        {
          "output_type": "error",
          "ename": "KeyboardInterrupt",
          "evalue": "ignored",
          "traceback": [
            "\u001b[0;31m---------------------------------------------------------------------------\u001b[0m",
            "\u001b[0;31mKeyboardInterrupt\u001b[0m                         Traceback (most recent call last)",
            "\u001b[0;32m<ipython-input-138-ba109b13c40b>\u001b[0m in \u001b[0;36m<module>\u001b[0;34m()\u001b[0m\n\u001b[0;32m----> 1\u001b[0;31m \u001b[0mget_ipython\u001b[0m\u001b[0;34m(\u001b[0m\u001b[0;34m)\u001b[0m\u001b[0;34m.\u001b[0m\u001b[0mrun_cell_magic\u001b[0m\u001b[0;34m(\u001b[0m\u001b[0;34m'time'\u001b[0m\u001b[0;34m,\u001b[0m \u001b[0;34m''\u001b[0m\u001b[0;34m,\u001b[0m \u001b[0;34m'Hist_CNN6 = CNN6.fit(train_generator, steps_per_epoch=len(X_train)/128 ,\\n                       epochs = 300,\\n                       validation_data=valid_generator, validation_steps=len(X_valid)/128)'\u001b[0m\u001b[0;34m)\u001b[0m\u001b[0;34m\u001b[0m\u001b[0;34m\u001b[0m\u001b[0m\n\u001b[0m",
            "\u001b[0;32m/usr/local/lib/python3.7/dist-packages/IPython/core/interactiveshell.py\u001b[0m in \u001b[0;36mrun_cell_magic\u001b[0;34m(self, magic_name, line, cell)\u001b[0m\n\u001b[1;32m   2115\u001b[0m             \u001b[0mmagic_arg_s\u001b[0m \u001b[0;34m=\u001b[0m \u001b[0mself\u001b[0m\u001b[0;34m.\u001b[0m\u001b[0mvar_expand\u001b[0m\u001b[0;34m(\u001b[0m\u001b[0mline\u001b[0m\u001b[0;34m,\u001b[0m \u001b[0mstack_depth\u001b[0m\u001b[0;34m)\u001b[0m\u001b[0;34m\u001b[0m\u001b[0;34m\u001b[0m\u001b[0m\n\u001b[1;32m   2116\u001b[0m             \u001b[0;32mwith\u001b[0m \u001b[0mself\u001b[0m\u001b[0;34m.\u001b[0m\u001b[0mbuiltin_trap\u001b[0m\u001b[0;34m:\u001b[0m\u001b[0;34m\u001b[0m\u001b[0;34m\u001b[0m\u001b[0m\n\u001b[0;32m-> 2117\u001b[0;31m                 \u001b[0mresult\u001b[0m \u001b[0;34m=\u001b[0m \u001b[0mfn\u001b[0m\u001b[0;34m(\u001b[0m\u001b[0mmagic_arg_s\u001b[0m\u001b[0;34m,\u001b[0m \u001b[0mcell\u001b[0m\u001b[0;34m)\u001b[0m\u001b[0;34m\u001b[0m\u001b[0;34m\u001b[0m\u001b[0m\n\u001b[0m\u001b[1;32m   2118\u001b[0m             \u001b[0;32mreturn\u001b[0m \u001b[0mresult\u001b[0m\u001b[0;34m\u001b[0m\u001b[0;34m\u001b[0m\u001b[0m\n\u001b[1;32m   2119\u001b[0m \u001b[0;34m\u001b[0m\u001b[0m\n",
            "\u001b[0;32m<decorator-gen-53>\u001b[0m in \u001b[0;36mtime\u001b[0;34m(self, line, cell, local_ns)\u001b[0m\n",
            "\u001b[0;32m/usr/local/lib/python3.7/dist-packages/IPython/core/magic.py\u001b[0m in \u001b[0;36m<lambda>\u001b[0;34m(f, *a, **k)\u001b[0m\n\u001b[1;32m    186\u001b[0m     \u001b[0;31m# but it's overkill for just that one bit of state.\u001b[0m\u001b[0;34m\u001b[0m\u001b[0;34m\u001b[0m\u001b[0;34m\u001b[0m\u001b[0m\n\u001b[1;32m    187\u001b[0m     \u001b[0;32mdef\u001b[0m \u001b[0mmagic_deco\u001b[0m\u001b[0;34m(\u001b[0m\u001b[0marg\u001b[0m\u001b[0;34m)\u001b[0m\u001b[0;34m:\u001b[0m\u001b[0;34m\u001b[0m\u001b[0;34m\u001b[0m\u001b[0m\n\u001b[0;32m--> 188\u001b[0;31m         \u001b[0mcall\u001b[0m \u001b[0;34m=\u001b[0m \u001b[0;32mlambda\u001b[0m \u001b[0mf\u001b[0m\u001b[0;34m,\u001b[0m \u001b[0;34m*\u001b[0m\u001b[0ma\u001b[0m\u001b[0;34m,\u001b[0m \u001b[0;34m**\u001b[0m\u001b[0mk\u001b[0m\u001b[0;34m:\u001b[0m \u001b[0mf\u001b[0m\u001b[0;34m(\u001b[0m\u001b[0;34m*\u001b[0m\u001b[0ma\u001b[0m\u001b[0;34m,\u001b[0m \u001b[0;34m**\u001b[0m\u001b[0mk\u001b[0m\u001b[0;34m)\u001b[0m\u001b[0;34m\u001b[0m\u001b[0;34m\u001b[0m\u001b[0m\n\u001b[0m\u001b[1;32m    189\u001b[0m \u001b[0;34m\u001b[0m\u001b[0m\n\u001b[1;32m    190\u001b[0m         \u001b[0;32mif\u001b[0m \u001b[0mcallable\u001b[0m\u001b[0;34m(\u001b[0m\u001b[0marg\u001b[0m\u001b[0;34m)\u001b[0m\u001b[0;34m:\u001b[0m\u001b[0;34m\u001b[0m\u001b[0;34m\u001b[0m\u001b[0m\n",
            "\u001b[0;32m/usr/local/lib/python3.7/dist-packages/IPython/core/magics/execution.py\u001b[0m in \u001b[0;36mtime\u001b[0;34m(self, line, cell, local_ns)\u001b[0m\n\u001b[1;32m   1191\u001b[0m         \u001b[0;32melse\u001b[0m\u001b[0;34m:\u001b[0m\u001b[0;34m\u001b[0m\u001b[0;34m\u001b[0m\u001b[0m\n\u001b[1;32m   1192\u001b[0m             \u001b[0mst\u001b[0m \u001b[0;34m=\u001b[0m \u001b[0mclock2\u001b[0m\u001b[0;34m(\u001b[0m\u001b[0;34m)\u001b[0m\u001b[0;34m\u001b[0m\u001b[0;34m\u001b[0m\u001b[0m\n\u001b[0;32m-> 1193\u001b[0;31m             \u001b[0mexec\u001b[0m\u001b[0;34m(\u001b[0m\u001b[0mcode\u001b[0m\u001b[0;34m,\u001b[0m \u001b[0mglob\u001b[0m\u001b[0;34m,\u001b[0m \u001b[0mlocal_ns\u001b[0m\u001b[0;34m)\u001b[0m\u001b[0;34m\u001b[0m\u001b[0;34m\u001b[0m\u001b[0m\n\u001b[0m\u001b[1;32m   1194\u001b[0m             \u001b[0mend\u001b[0m \u001b[0;34m=\u001b[0m \u001b[0mclock2\u001b[0m\u001b[0;34m(\u001b[0m\u001b[0;34m)\u001b[0m\u001b[0;34m\u001b[0m\u001b[0;34m\u001b[0m\u001b[0m\n\u001b[1;32m   1195\u001b[0m             \u001b[0mout\u001b[0m \u001b[0;34m=\u001b[0m \u001b[0;32mNone\u001b[0m\u001b[0;34m\u001b[0m\u001b[0;34m\u001b[0m\u001b[0m\n",
            "\u001b[0;32m<timed exec>\u001b[0m in \u001b[0;36m<module>\u001b[0;34m()\u001b[0m\n",
            "\u001b[0;32m/usr/local/lib/python3.7/dist-packages/tensorflow/python/keras/engine/training.py\u001b[0m in \u001b[0;36mfit\u001b[0;34m(self, x, y, batch_size, epochs, verbose, callbacks, validation_split, validation_data, shuffle, class_weight, sample_weight, initial_epoch, steps_per_epoch, validation_steps, validation_batch_size, validation_freq, max_queue_size, workers, use_multiprocessing)\u001b[0m\n\u001b[1;32m   1098\u001b[0m                 _r=1):\n\u001b[1;32m   1099\u001b[0m               \u001b[0mcallbacks\u001b[0m\u001b[0;34m.\u001b[0m\u001b[0mon_train_batch_begin\u001b[0m\u001b[0;34m(\u001b[0m\u001b[0mstep\u001b[0m\u001b[0;34m)\u001b[0m\u001b[0;34m\u001b[0m\u001b[0;34m\u001b[0m\u001b[0m\n\u001b[0;32m-> 1100\u001b[0;31m               \u001b[0mtmp_logs\u001b[0m \u001b[0;34m=\u001b[0m \u001b[0mself\u001b[0m\u001b[0;34m.\u001b[0m\u001b[0mtrain_function\u001b[0m\u001b[0;34m(\u001b[0m\u001b[0miterator\u001b[0m\u001b[0;34m)\u001b[0m\u001b[0;34m\u001b[0m\u001b[0;34m\u001b[0m\u001b[0m\n\u001b[0m\u001b[1;32m   1101\u001b[0m               \u001b[0;32mif\u001b[0m \u001b[0mdata_handler\u001b[0m\u001b[0;34m.\u001b[0m\u001b[0mshould_sync\u001b[0m\u001b[0;34m:\u001b[0m\u001b[0;34m\u001b[0m\u001b[0;34m\u001b[0m\u001b[0m\n\u001b[1;32m   1102\u001b[0m                 \u001b[0mcontext\u001b[0m\u001b[0;34m.\u001b[0m\u001b[0masync_wait\u001b[0m\u001b[0;34m(\u001b[0m\u001b[0;34m)\u001b[0m\u001b[0;34m\u001b[0m\u001b[0;34m\u001b[0m\u001b[0m\n",
            "\u001b[0;32m/usr/local/lib/python3.7/dist-packages/tensorflow/python/eager/def_function.py\u001b[0m in \u001b[0;36m__call__\u001b[0;34m(self, *args, **kwds)\u001b[0m\n\u001b[1;32m    826\u001b[0m     \u001b[0mtracing_count\u001b[0m \u001b[0;34m=\u001b[0m \u001b[0mself\u001b[0m\u001b[0;34m.\u001b[0m\u001b[0mexperimental_get_tracing_count\u001b[0m\u001b[0;34m(\u001b[0m\u001b[0;34m)\u001b[0m\u001b[0;34m\u001b[0m\u001b[0;34m\u001b[0m\u001b[0m\n\u001b[1;32m    827\u001b[0m     \u001b[0;32mwith\u001b[0m \u001b[0mtrace\u001b[0m\u001b[0;34m.\u001b[0m\u001b[0mTrace\u001b[0m\u001b[0;34m(\u001b[0m\u001b[0mself\u001b[0m\u001b[0;34m.\u001b[0m\u001b[0m_name\u001b[0m\u001b[0;34m)\u001b[0m \u001b[0;32mas\u001b[0m \u001b[0mtm\u001b[0m\u001b[0;34m:\u001b[0m\u001b[0;34m\u001b[0m\u001b[0;34m\u001b[0m\u001b[0m\n\u001b[0;32m--> 828\u001b[0;31m       \u001b[0mresult\u001b[0m \u001b[0;34m=\u001b[0m \u001b[0mself\u001b[0m\u001b[0;34m.\u001b[0m\u001b[0m_call\u001b[0m\u001b[0;34m(\u001b[0m\u001b[0;34m*\u001b[0m\u001b[0margs\u001b[0m\u001b[0;34m,\u001b[0m \u001b[0;34m**\u001b[0m\u001b[0mkwds\u001b[0m\u001b[0;34m)\u001b[0m\u001b[0;34m\u001b[0m\u001b[0;34m\u001b[0m\u001b[0m\n\u001b[0m\u001b[1;32m    829\u001b[0m       \u001b[0mcompiler\u001b[0m \u001b[0;34m=\u001b[0m \u001b[0;34m\"xla\"\u001b[0m \u001b[0;32mif\u001b[0m \u001b[0mself\u001b[0m\u001b[0;34m.\u001b[0m\u001b[0m_experimental_compile\u001b[0m \u001b[0;32melse\u001b[0m \u001b[0;34m\"nonXla\"\u001b[0m\u001b[0;34m\u001b[0m\u001b[0;34m\u001b[0m\u001b[0m\n\u001b[1;32m    830\u001b[0m       \u001b[0mnew_tracing_count\u001b[0m \u001b[0;34m=\u001b[0m \u001b[0mself\u001b[0m\u001b[0;34m.\u001b[0m\u001b[0mexperimental_get_tracing_count\u001b[0m\u001b[0;34m(\u001b[0m\u001b[0;34m)\u001b[0m\u001b[0;34m\u001b[0m\u001b[0;34m\u001b[0m\u001b[0m\n",
            "\u001b[0;32m/usr/local/lib/python3.7/dist-packages/tensorflow/python/eager/def_function.py\u001b[0m in \u001b[0;36m_call\u001b[0;34m(self, *args, **kwds)\u001b[0m\n\u001b[1;32m    853\u001b[0m       \u001b[0;31m# In this case we have created variables on the first call, so we run the\u001b[0m\u001b[0;34m\u001b[0m\u001b[0;34m\u001b[0m\u001b[0;34m\u001b[0m\u001b[0m\n\u001b[1;32m    854\u001b[0m       \u001b[0;31m# defunned version which is guaranteed to never create variables.\u001b[0m\u001b[0;34m\u001b[0m\u001b[0;34m\u001b[0m\u001b[0;34m\u001b[0m\u001b[0m\n\u001b[0;32m--> 855\u001b[0;31m       \u001b[0;32mreturn\u001b[0m \u001b[0mself\u001b[0m\u001b[0;34m.\u001b[0m\u001b[0m_stateless_fn\u001b[0m\u001b[0;34m(\u001b[0m\u001b[0;34m*\u001b[0m\u001b[0margs\u001b[0m\u001b[0;34m,\u001b[0m \u001b[0;34m**\u001b[0m\u001b[0mkwds\u001b[0m\u001b[0;34m)\u001b[0m  \u001b[0;31m# pylint: disable=not-callable\u001b[0m\u001b[0;34m\u001b[0m\u001b[0;34m\u001b[0m\u001b[0m\n\u001b[0m\u001b[1;32m    856\u001b[0m     \u001b[0;32melif\u001b[0m \u001b[0mself\u001b[0m\u001b[0;34m.\u001b[0m\u001b[0m_stateful_fn\u001b[0m \u001b[0;32mis\u001b[0m \u001b[0;32mnot\u001b[0m \u001b[0;32mNone\u001b[0m\u001b[0;34m:\u001b[0m\u001b[0;34m\u001b[0m\u001b[0;34m\u001b[0m\u001b[0m\n\u001b[1;32m    857\u001b[0m       \u001b[0;31m# Release the lock early so that multiple threads can perform the call\u001b[0m\u001b[0;34m\u001b[0m\u001b[0;34m\u001b[0m\u001b[0;34m\u001b[0m\u001b[0m\n",
            "\u001b[0;32m/usr/local/lib/python3.7/dist-packages/tensorflow/python/eager/function.py\u001b[0m in \u001b[0;36m__call__\u001b[0;34m(self, *args, **kwargs)\u001b[0m\n\u001b[1;32m   2941\u001b[0m        filtered_flat_args) = self._maybe_define_function(args, kwargs)\n\u001b[1;32m   2942\u001b[0m     return graph_function._call_flat(\n\u001b[0;32m-> 2943\u001b[0;31m         filtered_flat_args, captured_inputs=graph_function.captured_inputs)  # pylint: disable=protected-access\n\u001b[0m\u001b[1;32m   2944\u001b[0m \u001b[0;34m\u001b[0m\u001b[0m\n\u001b[1;32m   2945\u001b[0m   \u001b[0;34m@\u001b[0m\u001b[0mproperty\u001b[0m\u001b[0;34m\u001b[0m\u001b[0;34m\u001b[0m\u001b[0m\n",
            "\u001b[0;32m/usr/local/lib/python3.7/dist-packages/tensorflow/python/eager/function.py\u001b[0m in \u001b[0;36m_call_flat\u001b[0;34m(self, args, captured_inputs, cancellation_manager)\u001b[0m\n\u001b[1;32m   1917\u001b[0m       \u001b[0;31m# No tape is watching; skip to running the function.\u001b[0m\u001b[0;34m\u001b[0m\u001b[0;34m\u001b[0m\u001b[0;34m\u001b[0m\u001b[0m\n\u001b[1;32m   1918\u001b[0m       return self._build_call_outputs(self._inference_function.call(\n\u001b[0;32m-> 1919\u001b[0;31m           ctx, args, cancellation_manager=cancellation_manager))\n\u001b[0m\u001b[1;32m   1920\u001b[0m     forward_backward = self._select_forward_and_backward_functions(\n\u001b[1;32m   1921\u001b[0m         \u001b[0margs\u001b[0m\u001b[0;34m,\u001b[0m\u001b[0;34m\u001b[0m\u001b[0;34m\u001b[0m\u001b[0m\n",
            "\u001b[0;32m/usr/local/lib/python3.7/dist-packages/tensorflow/python/eager/function.py\u001b[0m in \u001b[0;36mcall\u001b[0;34m(self, ctx, args, cancellation_manager)\u001b[0m\n\u001b[1;32m    558\u001b[0m               \u001b[0minputs\u001b[0m\u001b[0;34m=\u001b[0m\u001b[0margs\u001b[0m\u001b[0;34m,\u001b[0m\u001b[0;34m\u001b[0m\u001b[0;34m\u001b[0m\u001b[0m\n\u001b[1;32m    559\u001b[0m               \u001b[0mattrs\u001b[0m\u001b[0;34m=\u001b[0m\u001b[0mattrs\u001b[0m\u001b[0;34m,\u001b[0m\u001b[0;34m\u001b[0m\u001b[0;34m\u001b[0m\u001b[0m\n\u001b[0;32m--> 560\u001b[0;31m               ctx=ctx)\n\u001b[0m\u001b[1;32m    561\u001b[0m         \u001b[0;32melse\u001b[0m\u001b[0;34m:\u001b[0m\u001b[0;34m\u001b[0m\u001b[0;34m\u001b[0m\u001b[0m\n\u001b[1;32m    562\u001b[0m           outputs = execute.execute_with_cancellation(\n",
            "\u001b[0;32m/usr/local/lib/python3.7/dist-packages/tensorflow/python/eager/execute.py\u001b[0m in \u001b[0;36mquick_execute\u001b[0;34m(op_name, num_outputs, inputs, attrs, ctx, name)\u001b[0m\n\u001b[1;32m     58\u001b[0m     \u001b[0mctx\u001b[0m\u001b[0;34m.\u001b[0m\u001b[0mensure_initialized\u001b[0m\u001b[0;34m(\u001b[0m\u001b[0;34m)\u001b[0m\u001b[0;34m\u001b[0m\u001b[0;34m\u001b[0m\u001b[0m\n\u001b[1;32m     59\u001b[0m     tensors = pywrap_tfe.TFE_Py_Execute(ctx._handle, device_name, op_name,\n\u001b[0;32m---> 60\u001b[0;31m                                         inputs, attrs, num_outputs)\n\u001b[0m\u001b[1;32m     61\u001b[0m   \u001b[0;32mexcept\u001b[0m \u001b[0mcore\u001b[0m\u001b[0;34m.\u001b[0m\u001b[0m_NotOkStatusException\u001b[0m \u001b[0;32mas\u001b[0m \u001b[0me\u001b[0m\u001b[0;34m:\u001b[0m\u001b[0;34m\u001b[0m\u001b[0;34m\u001b[0m\u001b[0m\n\u001b[1;32m     62\u001b[0m     \u001b[0;32mif\u001b[0m \u001b[0mname\u001b[0m \u001b[0;32mis\u001b[0m \u001b[0;32mnot\u001b[0m \u001b[0;32mNone\u001b[0m\u001b[0;34m:\u001b[0m\u001b[0;34m\u001b[0m\u001b[0;34m\u001b[0m\u001b[0m\n",
            "\u001b[0;31mKeyboardInterrupt\u001b[0m: "
          ]
        }
      ]
    },
    {
      "cell_type": "code",
      "metadata": {
        "id": "sLfkaVAWMJLH"
      },
      "source": [
        "loss6, accuracy6 = CNN6.evaluate(X_test, y_test)\n",
        "\n",
        "loss6, accuracy6"
      ],
      "execution_count": null,
      "outputs": []
    },
    {
      "cell_type": "code",
      "metadata": {
        "id": "HQj0wXZlMJLI"
      },
      "source": [
        "import matplotlib.pyplot as plt\n",
        "\n",
        "epochs = range(1, len(Hist_CNN6.history['loss'])+1)\n",
        "\n",
        "\n",
        "plt.plot(epochs, Hist_CNN6.history['loss'])\n",
        "plt.plot(epochs, Hist_CNN6.history['val_loss'])\n",
        "plt.legend(['Training Loss','Test Loss'])\n",
        "plt.grid()\n",
        "plt.show()\n",
        "\n",
        "\n",
        "\n",
        "plt.plot(epochs, Hist_CNN3.history['accuracy'])\n",
        "plt.plot(epochs, Hist_CNN3.history['val_accuracy'])\n",
        "plt.legend(['Training accuracy','Test accuracy'])\n",
        "plt.grid()\n",
        "plt.show()"
      ],
      "execution_count": null,
      "outputs": []
    },
    {
      "cell_type": "markdown",
      "metadata": {
        "id": "kJetaZl7OhqK"
      },
      "source": [
        "### 7) padding = same"
      ]
    },
    {
      "cell_type": "code",
      "metadata": {
        "colab": {
          "base_uri": "https://localhost:8080/"
        },
        "id": "19RExKpvOkOe",
        "outputId": "7b3a0280-b8c1-4389-c0c8-20dc16f178c1"
      },
      "source": [
        "from keras import layers, models\n",
        "\n",
        "CNN7 = models.Sequential()\n",
        "CNN7.add(layers.Conv2D(32, (3,3), activation='relu', input_shape=(30, 30, 3), padding='same'))\n",
        "CNN7.add(layers.MaxPool2D((2,2)))\n",
        "CNN7.add(layers.Dropout(0.4))\n",
        "CNN7.add(layers.Conv2D(64, (3,3), activation='relu', padding='same'))\n",
        "CNN7.add(layers.MaxPool2D((2,2)))\n",
        "CNN7.add(layers.Dropout(0.4))\n",
        "CNN7.add(layers.Conv2D(64, (3,3), activation='relu', padding='same'))\n",
        "CNN7.add(layers.MaxPool2D((2,2)))\n",
        "CNN7.add(layers.Dropout(0.4))\n",
        "CNN7.add(layers.Conv2D(128, (3,3), activation='relu', padding='same'))\n",
        "\n",
        "\n",
        "\n",
        "CNN7.add(layers.Flatten())\n",
        "CNN7.add(layers.Dense(units=512, activation='relu'))\n",
        "CNN7.add(layers.Dropout(0.5))\n",
        "CNN7.add(layers.Dense(units=34, activation='softmax'))\n",
        "\n",
        "CNN7.summary()\n",
        "\n",
        "CNN7.compile(loss = 'categorical_crossentropy',\n",
        "              optimizer = 'adam',\n",
        "              metrics = ['accuracy'])"
      ],
      "execution_count": 116,
      "outputs": [
        {
          "output_type": "stream",
          "text": [
            "Model: \"sequential_32\"\n",
            "_________________________________________________________________\n",
            "Layer (type)                 Output Shape              Param #   \n",
            "=================================================================\n",
            "conv2d_146 (Conv2D)          (None, 30, 30, 32)        896       \n",
            "_________________________________________________________________\n",
            "max_pooling2d_53 (MaxPooling (None, 15, 15, 32)        0         \n",
            "_________________________________________________________________\n",
            "dropout_83 (Dropout)         (None, 15, 15, 32)        0         \n",
            "_________________________________________________________________\n",
            "conv2d_147 (Conv2D)          (None, 15, 15, 64)        18496     \n",
            "_________________________________________________________________\n",
            "max_pooling2d_54 (MaxPooling (None, 7, 7, 64)          0         \n",
            "_________________________________________________________________\n",
            "dropout_84 (Dropout)         (None, 7, 7, 64)          0         \n",
            "_________________________________________________________________\n",
            "conv2d_148 (Conv2D)          (None, 7, 7, 64)          36928     \n",
            "_________________________________________________________________\n",
            "max_pooling2d_55 (MaxPooling (None, 3, 3, 64)          0         \n",
            "_________________________________________________________________\n",
            "dropout_85 (Dropout)         (None, 3, 3, 64)          0         \n",
            "_________________________________________________________________\n",
            "conv2d_149 (Conv2D)          (None, 3, 3, 128)         73856     \n",
            "_________________________________________________________________\n",
            "flatten_31 (Flatten)         (None, 1152)              0         \n",
            "_________________________________________________________________\n",
            "dense_62 (Dense)             (None, 512)               590336    \n",
            "_________________________________________________________________\n",
            "dropout_86 (Dropout)         (None, 512)               0         \n",
            "_________________________________________________________________\n",
            "dense_63 (Dense)             (None, 34)                17442     \n",
            "=================================================================\n",
            "Total params: 737,954\n",
            "Trainable params: 737,954\n",
            "Non-trainable params: 0\n",
            "_________________________________________________________________\n"
          ],
          "name": "stdout"
        }
      ]
    },
    {
      "cell_type": "code",
      "metadata": {
        "colab": {
          "base_uri": "https://localhost:8080/"
        },
        "id": "YmMmVh2fOkOe",
        "outputId": "0bc00a84-3d90-4a72-f6dc-94e432000682"
      },
      "source": [
        "%%time\n",
        "Hist_CNN7 = CNN7.fit(train_generator, steps_per_epoch=len(X_train)/128 ,\n",
        "                       epochs = 150,\n",
        "                       validation_data=valid_generator, validation_steps=len(X_valid)/128)"
      ],
      "execution_count": 133,
      "outputs": [
        {
          "output_type": "stream",
          "text": [
            "Epoch 1/150\n",
            "124/124 [==============================] - 8s 64ms/step - loss: 3.4119 - accuracy: 0.0784 - val_loss: 3.2354 - val_accuracy: 0.1003\n",
            "Epoch 2/150\n",
            "124/124 [==============================] - 8s 61ms/step - loss: 3.2062 - accuracy: 0.0874 - val_loss: 3.0981 - val_accuracy: 0.1086\n",
            "Epoch 3/150\n",
            "124/124 [==============================] - 8s 61ms/step - loss: 3.1000 - accuracy: 0.1000 - val_loss: 3.1203 - val_accuracy: 0.0926\n",
            "Epoch 4/150\n",
            "124/124 [==============================] - 8s 62ms/step - loss: 3.0156 - accuracy: 0.1076 - val_loss: 3.0152 - val_accuracy: 0.0943\n",
            "Epoch 5/150\n",
            "124/124 [==============================] - 8s 63ms/step - loss: 2.9665 - accuracy: 0.1145 - val_loss: 2.9204 - val_accuracy: 0.1184\n",
            "Epoch 6/150\n",
            "124/124 [==============================] - 8s 62ms/step - loss: 2.9049 - accuracy: 0.1225 - val_loss: 2.9301 - val_accuracy: 0.1146\n",
            "Epoch 7/150\n",
            "124/124 [==============================] - 8s 61ms/step - loss: 2.8787 - accuracy: 0.1262 - val_loss: 2.7649 - val_accuracy: 0.1462\n",
            "Epoch 8/150\n",
            "124/124 [==============================] - 8s 62ms/step - loss: 2.8531 - accuracy: 0.1367 - val_loss: 2.8092 - val_accuracy: 0.1405\n",
            "Epoch 9/150\n",
            "124/124 [==============================] - 8s 62ms/step - loss: 2.8123 - accuracy: 0.1424 - val_loss: 2.6598 - val_accuracy: 0.1698\n",
            "Epoch 10/150\n",
            "124/124 [==============================] - 8s 61ms/step - loss: 2.7916 - accuracy: 0.1471 - val_loss: 2.7916 - val_accuracy: 0.1452\n",
            "Epoch 11/150\n",
            "124/124 [==============================] - 8s 60ms/step - loss: 2.7698 - accuracy: 0.1496 - val_loss: 2.7740 - val_accuracy: 0.1462\n",
            "Epoch 12/150\n",
            "124/124 [==============================] - 8s 60ms/step - loss: 2.7514 - accuracy: 0.1540 - val_loss: 2.6973 - val_accuracy: 0.1560\n",
            "Epoch 13/150\n",
            "124/124 [==============================] - 8s 61ms/step - loss: 2.7261 - accuracy: 0.1629 - val_loss: 2.6470 - val_accuracy: 0.1813\n",
            "Epoch 14/150\n",
            "124/124 [==============================] - 7s 60ms/step - loss: 2.6870 - accuracy: 0.1755 - val_loss: 2.7420 - val_accuracy: 0.1630\n",
            "Epoch 15/150\n",
            "124/124 [==============================] - 8s 60ms/step - loss: 2.6572 - accuracy: 0.1759 - val_loss: 2.5447 - val_accuracy: 0.1989\n",
            "Epoch 16/150\n",
            "124/124 [==============================] - 7s 60ms/step - loss: 2.6506 - accuracy: 0.1772 - val_loss: 2.4980 - val_accuracy: 0.1959\n",
            "Epoch 17/150\n",
            "124/124 [==============================] - 7s 60ms/step - loss: 2.6370 - accuracy: 0.1877 - val_loss: 2.6833 - val_accuracy: 0.1781\n",
            "Epoch 18/150\n",
            "124/124 [==============================] - 8s 60ms/step - loss: 2.6115 - accuracy: 0.1893 - val_loss: 2.5056 - val_accuracy: 0.1951\n",
            "Epoch 19/150\n",
            "124/124 [==============================] - 7s 60ms/step - loss: 2.5957 - accuracy: 0.1945 - val_loss: 2.4367 - val_accuracy: 0.2222\n",
            "Epoch 20/150\n",
            "124/124 [==============================] - 8s 60ms/step - loss: 2.5715 - accuracy: 0.2016 - val_loss: 2.5223 - val_accuracy: 0.1931\n",
            "Epoch 21/150\n",
            "124/124 [==============================] - 8s 61ms/step - loss: 2.5616 - accuracy: 0.2039 - val_loss: 2.5224 - val_accuracy: 0.2099\n",
            "Epoch 22/150\n",
            "124/124 [==============================] - 8s 62ms/step - loss: 2.5283 - accuracy: 0.2041 - val_loss: 2.5075 - val_accuracy: 0.2177\n",
            "Epoch 23/150\n",
            "124/124 [==============================] - 8s 61ms/step - loss: 2.5224 - accuracy: 0.2064 - val_loss: 2.3997 - val_accuracy: 0.2355\n",
            "Epoch 24/150\n",
            "124/124 [==============================] - 8s 61ms/step - loss: 2.5243 - accuracy: 0.2115 - val_loss: 2.4313 - val_accuracy: 0.2257\n",
            "Epoch 25/150\n",
            "124/124 [==============================] - 8s 61ms/step - loss: 2.4947 - accuracy: 0.2116 - val_loss: 2.4894 - val_accuracy: 0.2187\n",
            "Epoch 26/150\n",
            "124/124 [==============================] - 8s 61ms/step - loss: 2.4711 - accuracy: 0.2216 - val_loss: 2.5850 - val_accuracy: 0.2012\n",
            "Epoch 27/150\n",
            "124/124 [==============================] - 8s 61ms/step - loss: 2.4670 - accuracy: 0.2260 - val_loss: 2.4859 - val_accuracy: 0.2300\n",
            "Epoch 28/150\n",
            "124/124 [==============================] - 8s 61ms/step - loss: 2.4573 - accuracy: 0.2247 - val_loss: 2.3862 - val_accuracy: 0.2425\n",
            "Epoch 29/150\n",
            "124/124 [==============================] - 7s 60ms/step - loss: 2.4502 - accuracy: 0.2302 - val_loss: 2.3524 - val_accuracy: 0.2478\n",
            "Epoch 30/150\n",
            "124/124 [==============================] - 8s 60ms/step - loss: 2.4504 - accuracy: 0.2274 - val_loss: 2.2823 - val_accuracy: 0.2669\n",
            "Epoch 31/150\n",
            "124/124 [==============================] - 8s 61ms/step - loss: 2.4265 - accuracy: 0.2376 - val_loss: 2.2329 - val_accuracy: 0.2867\n",
            "Epoch 32/150\n",
            "124/124 [==============================] - 7s 60ms/step - loss: 2.4156 - accuracy: 0.2374 - val_loss: 2.4163 - val_accuracy: 0.2395\n",
            "Epoch 33/150\n",
            "124/124 [==============================] - 7s 60ms/step - loss: 2.4059 - accuracy: 0.2439 - val_loss: 2.3666 - val_accuracy: 0.2363\n",
            "Epoch 34/150\n",
            "124/124 [==============================] - 8s 61ms/step - loss: 2.3921 - accuracy: 0.2391 - val_loss: 2.2964 - val_accuracy: 0.2709\n",
            "Epoch 35/150\n",
            "124/124 [==============================] - 8s 61ms/step - loss: 2.3841 - accuracy: 0.2454 - val_loss: 2.1936 - val_accuracy: 0.3002\n",
            "Epoch 36/150\n",
            "124/124 [==============================] - 8s 61ms/step - loss: 2.3744 - accuracy: 0.2532 - val_loss: 2.3347 - val_accuracy: 0.2588\n",
            "Epoch 37/150\n",
            "124/124 [==============================] - 8s 61ms/step - loss: 2.3666 - accuracy: 0.2552 - val_loss: 2.3898 - val_accuracy: 0.2521\n",
            "Epoch 38/150\n",
            "124/124 [==============================] - 8s 60ms/step - loss: 2.3604 - accuracy: 0.2548 - val_loss: 2.2319 - val_accuracy: 0.2812\n",
            "Epoch 39/150\n",
            "124/124 [==============================] - 7s 60ms/step - loss: 2.3651 - accuracy: 0.2515 - val_loss: 2.2663 - val_accuracy: 0.2716\n",
            "Epoch 40/150\n",
            "124/124 [==============================] - 8s 61ms/step - loss: 2.3433 - accuracy: 0.2568 - val_loss: 2.3080 - val_accuracy: 0.2671\n",
            "Epoch 41/150\n",
            "124/124 [==============================] - 8s 60ms/step - loss: 2.3311 - accuracy: 0.2570 - val_loss: 2.2340 - val_accuracy: 0.2704\n",
            "Epoch 42/150\n",
            "124/124 [==============================] - 7s 60ms/step - loss: 2.3318 - accuracy: 0.2604 - val_loss: 2.1718 - val_accuracy: 0.2912\n",
            "Epoch 43/150\n",
            "124/124 [==============================] - 8s 61ms/step - loss: 2.3249 - accuracy: 0.2608 - val_loss: 2.1476 - val_accuracy: 0.2962\n",
            "Epoch 44/150\n",
            "124/124 [==============================] - 8s 60ms/step - loss: 2.3000 - accuracy: 0.2671 - val_loss: 2.3201 - val_accuracy: 0.2596\n",
            "Epoch 45/150\n",
            "124/124 [==============================] - 8s 61ms/step - loss: 2.2999 - accuracy: 0.2699 - val_loss: 2.2406 - val_accuracy: 0.2892\n",
            "Epoch 46/150\n",
            "124/124 [==============================] - 8s 62ms/step - loss: 2.2936 - accuracy: 0.2628 - val_loss: 2.1963 - val_accuracy: 0.2980\n",
            "Epoch 47/150\n",
            "124/124 [==============================] - 8s 60ms/step - loss: 2.3005 - accuracy: 0.2696 - val_loss: 2.3595 - val_accuracy: 0.2601\n",
            "Epoch 48/150\n",
            "124/124 [==============================] - 8s 60ms/step - loss: 2.2770 - accuracy: 0.2702 - val_loss: 2.1148 - val_accuracy: 0.3123\n",
            "Epoch 49/150\n",
            "124/124 [==============================] - 8s 61ms/step - loss: 2.2735 - accuracy: 0.2761 - val_loss: 2.3194 - val_accuracy: 0.2591\n",
            "Epoch 50/150\n",
            "124/124 [==============================] - 8s 61ms/step - loss: 2.2762 - accuracy: 0.2702 - val_loss: 2.2421 - val_accuracy: 0.2817\n",
            "Epoch 51/150\n",
            "124/124 [==============================] - 8s 60ms/step - loss: 2.2571 - accuracy: 0.2832 - val_loss: 2.1127 - val_accuracy: 0.3133\n",
            "Epoch 52/150\n",
            "124/124 [==============================] - 7s 60ms/step - loss: 2.2525 - accuracy: 0.2805 - val_loss: 2.1340 - val_accuracy: 0.3115\n",
            "Epoch 53/150\n",
            "124/124 [==============================] - 8s 60ms/step - loss: 2.2350 - accuracy: 0.2862 - val_loss: 2.1544 - val_accuracy: 0.3075\n",
            "Epoch 54/150\n",
            "124/124 [==============================] - 8s 60ms/step - loss: 2.2242 - accuracy: 0.2888 - val_loss: 2.0832 - val_accuracy: 0.3170\n",
            "Epoch 55/150\n",
            "124/124 [==============================] - 7s 60ms/step - loss: 2.2233 - accuracy: 0.2869 - val_loss: 2.1295 - val_accuracy: 0.3148\n",
            "Epoch 56/150\n",
            "124/124 [==============================] - 7s 60ms/step - loss: 2.2311 - accuracy: 0.2848 - val_loss: 2.2821 - val_accuracy: 0.2802\n",
            "Epoch 57/150\n",
            "124/124 [==============================] - 7s 60ms/step - loss: 2.2314 - accuracy: 0.2901 - val_loss: 2.0462 - val_accuracy: 0.3271\n",
            "Epoch 58/150\n",
            "124/124 [==============================] - 8s 61ms/step - loss: 2.2147 - accuracy: 0.2920 - val_loss: 2.1005 - val_accuracy: 0.3230\n",
            "Epoch 59/150\n",
            "124/124 [==============================] - 8s 60ms/step - loss: 2.2031 - accuracy: 0.2921 - val_loss: 2.2010 - val_accuracy: 0.2970\n",
            "Epoch 60/150\n",
            "124/124 [==============================] - 7s 60ms/step - loss: 2.1993 - accuracy: 0.2951 - val_loss: 2.1807 - val_accuracy: 0.3118\n",
            "Epoch 61/150\n",
            "124/124 [==============================] - 8s 60ms/step - loss: 2.1908 - accuracy: 0.3003 - val_loss: 2.2191 - val_accuracy: 0.2990\n",
            "Epoch 62/150\n",
            "124/124 [==============================] - 8s 60ms/step - loss: 2.1983 - accuracy: 0.2923 - val_loss: 2.0887 - val_accuracy: 0.3238\n",
            "Epoch 63/150\n",
            "124/124 [==============================] - 7s 60ms/step - loss: 2.1869 - accuracy: 0.3003 - val_loss: 2.0819 - val_accuracy: 0.3228\n",
            "Epoch 64/150\n",
            "124/124 [==============================] - 7s 60ms/step - loss: 2.1818 - accuracy: 0.2971 - val_loss: 1.9935 - val_accuracy: 0.3444\n",
            "Epoch 65/150\n",
            "124/124 [==============================] - 7s 60ms/step - loss: 2.1771 - accuracy: 0.2997 - val_loss: 2.0000 - val_accuracy: 0.3476\n",
            "Epoch 66/150\n",
            "124/124 [==============================] - 8s 60ms/step - loss: 2.1788 - accuracy: 0.3045 - val_loss: 2.1576 - val_accuracy: 0.3065\n",
            "Epoch 67/150\n",
            "124/124 [==============================] - 8s 61ms/step - loss: 2.1573 - accuracy: 0.3052 - val_loss: 1.9811 - val_accuracy: 0.3491\n",
            "Epoch 68/150\n",
            "124/124 [==============================] - 8s 60ms/step - loss: 2.1546 - accuracy: 0.3049 - val_loss: 2.0953 - val_accuracy: 0.3328\n",
            "Epoch 69/150\n",
            "124/124 [==============================] - 8s 61ms/step - loss: 2.1561 - accuracy: 0.3087 - val_loss: 2.1319 - val_accuracy: 0.3225\n",
            "Epoch 70/150\n",
            "124/124 [==============================] - 8s 61ms/step - loss: 2.1573 - accuracy: 0.3044 - val_loss: 2.0507 - val_accuracy: 0.3346\n",
            "Epoch 71/150\n",
            "124/124 [==============================] - 7s 60ms/step - loss: 2.1432 - accuracy: 0.3075 - val_loss: 2.1754 - val_accuracy: 0.3125\n",
            "Epoch 72/150\n",
            "124/124 [==============================] - 7s 60ms/step - loss: 2.1338 - accuracy: 0.3156 - val_loss: 1.9273 - val_accuracy: 0.3727\n",
            "Epoch 73/150\n",
            "124/124 [==============================] - 7s 60ms/step - loss: 2.1394 - accuracy: 0.3136 - val_loss: 2.0615 - val_accuracy: 0.3323\n",
            "Epoch 74/150\n",
            "124/124 [==============================] - 7s 60ms/step - loss: 2.1238 - accuracy: 0.3161 - val_loss: 1.9803 - val_accuracy: 0.3421\n",
            "Epoch 75/150\n",
            "124/124 [==============================] - 8s 61ms/step - loss: 2.1240 - accuracy: 0.3151 - val_loss: 1.9794 - val_accuracy: 0.3607\n",
            "Epoch 76/150\n",
            "124/124 [==============================] - 8s 60ms/step - loss: 2.1233 - accuracy: 0.3154 - val_loss: 2.0160 - val_accuracy: 0.3481\n",
            "Epoch 77/150\n",
            "124/124 [==============================] - 7s 60ms/step - loss: 2.1126 - accuracy: 0.3146 - val_loss: 1.8905 - val_accuracy: 0.3710\n",
            "Epoch 78/150\n",
            "124/124 [==============================] - 8s 60ms/step - loss: 2.1205 - accuracy: 0.3170 - val_loss: 1.9800 - val_accuracy: 0.3351\n",
            "Epoch 79/150\n",
            "124/124 [==============================] - 8s 61ms/step - loss: 2.1019 - accuracy: 0.3183 - val_loss: 1.8038 - val_accuracy: 0.3910\n",
            "Epoch 80/150\n",
            "124/124 [==============================] - 8s 60ms/step - loss: 2.1110 - accuracy: 0.3202 - val_loss: 2.0377 - val_accuracy: 0.3429\n",
            "Epoch 81/150\n",
            "124/124 [==============================] - 7s 60ms/step - loss: 2.0831 - accuracy: 0.3281 - val_loss: 1.8261 - val_accuracy: 0.3875\n",
            "Epoch 82/150\n",
            "124/124 [==============================] - 8s 60ms/step - loss: 2.1028 - accuracy: 0.3212 - val_loss: 1.8190 - val_accuracy: 0.3885\n",
            "Epoch 83/150\n",
            "124/124 [==============================] - 8s 61ms/step - loss: 2.0923 - accuracy: 0.3276 - val_loss: 1.9461 - val_accuracy: 0.3574\n",
            "Epoch 84/150\n",
            "124/124 [==============================] - 8s 60ms/step - loss: 2.0877 - accuracy: 0.3268 - val_loss: 1.8069 - val_accuracy: 0.3908\n",
            "Epoch 85/150\n",
            "124/124 [==============================] - 7s 60ms/step - loss: 2.0853 - accuracy: 0.3290 - val_loss: 1.9880 - val_accuracy: 0.3469\n",
            "Epoch 86/150\n",
            "124/124 [==============================] - 8s 61ms/step - loss: 2.1004 - accuracy: 0.3205 - val_loss: 2.0538 - val_accuracy: 0.3466\n",
            "Epoch 87/150\n",
            "124/124 [==============================] - 8s 61ms/step - loss: 2.0701 - accuracy: 0.3321 - val_loss: 1.9620 - val_accuracy: 0.3572\n",
            "Epoch 88/150\n",
            "124/124 [==============================] - 8s 61ms/step - loss: 2.0620 - accuracy: 0.3345 - val_loss: 1.8811 - val_accuracy: 0.3840\n",
            "Epoch 89/150\n",
            "124/124 [==============================] - 7s 60ms/step - loss: 2.0736 - accuracy: 0.3276 - val_loss: 1.9480 - val_accuracy: 0.3682\n",
            "Epoch 90/150\n",
            "124/124 [==============================] - 8s 61ms/step - loss: 2.0813 - accuracy: 0.3261 - val_loss: 1.8220 - val_accuracy: 0.3860\n",
            "Epoch 91/150\n",
            "124/124 [==============================] - 8s 61ms/step - loss: 2.0807 - accuracy: 0.3251 - val_loss: 1.9315 - val_accuracy: 0.3602\n",
            "Epoch 92/150\n",
            "124/124 [==============================] - 8s 60ms/step - loss: 2.0656 - accuracy: 0.3305 - val_loss: 1.7850 - val_accuracy: 0.3923\n",
            "Epoch 93/150\n",
            "124/124 [==============================] - 8s 60ms/step - loss: 2.0602 - accuracy: 0.3315 - val_loss: 1.8639 - val_accuracy: 0.3657\n",
            "Epoch 94/150\n",
            "124/124 [==============================] - 8s 60ms/step - loss: 2.0600 - accuracy: 0.3327 - val_loss: 1.9414 - val_accuracy: 0.3536\n",
            "Epoch 95/150\n",
            "124/124 [==============================] - 8s 61ms/step - loss: 2.0517 - accuracy: 0.3365 - val_loss: 1.8857 - val_accuracy: 0.3747\n",
            "Epoch 96/150\n",
            "124/124 [==============================] - 8s 61ms/step - loss: 2.0423 - accuracy: 0.3404 - val_loss: 1.9691 - val_accuracy: 0.3607\n",
            "Epoch 97/150\n",
            "124/124 [==============================] - 8s 60ms/step - loss: 2.0555 - accuracy: 0.3328 - val_loss: 1.7235 - val_accuracy: 0.4106\n",
            "Epoch 98/150\n",
            "124/124 [==============================] - 7s 60ms/step - loss: 2.0467 - accuracy: 0.3350 - val_loss: 1.8873 - val_accuracy: 0.3750\n",
            "Epoch 99/150\n",
            "124/124 [==============================] - 8s 62ms/step - loss: 2.0351 - accuracy: 0.3439 - val_loss: 1.8318 - val_accuracy: 0.3878\n",
            "Epoch 100/150\n",
            "124/124 [==============================] - 8s 61ms/step - loss: 2.0396 - accuracy: 0.3356 - val_loss: 1.8285 - val_accuracy: 0.3885\n",
            "Epoch 101/150\n",
            "124/124 [==============================] - 8s 61ms/step - loss: 2.0438 - accuracy: 0.3389 - val_loss: 1.8565 - val_accuracy: 0.3755\n",
            "Epoch 102/150\n",
            "124/124 [==============================] - 8s 61ms/step - loss: 2.0245 - accuracy: 0.3440 - val_loss: 1.7075 - val_accuracy: 0.4244\n",
            "Epoch 103/150\n",
            "124/124 [==============================] - 8s 61ms/step - loss: 2.0218 - accuracy: 0.3454 - val_loss: 1.7703 - val_accuracy: 0.4103\n",
            "Epoch 104/150\n",
            "124/124 [==============================] - 8s 60ms/step - loss: 2.0317 - accuracy: 0.3381 - val_loss: 1.8366 - val_accuracy: 0.3845\n",
            "Epoch 105/150\n",
            "124/124 [==============================] - 7s 60ms/step - loss: 2.0046 - accuracy: 0.3426 - val_loss: 1.9400 - val_accuracy: 0.3679\n",
            "Epoch 106/150\n",
            "124/124 [==============================] - 8s 60ms/step - loss: 2.0227 - accuracy: 0.3394 - val_loss: 1.8399 - val_accuracy: 0.3918\n",
            "Epoch 107/150\n",
            "124/124 [==============================] - 7s 60ms/step - loss: 2.0094 - accuracy: 0.3433 - val_loss: 1.7473 - val_accuracy: 0.4088\n",
            "Epoch 108/150\n",
            "124/124 [==============================] - 8s 60ms/step - loss: 2.0212 - accuracy: 0.3450 - val_loss: 1.6536 - val_accuracy: 0.4407\n",
            "Epoch 109/150\n",
            "124/124 [==============================] - 8s 60ms/step - loss: 2.0104 - accuracy: 0.3449 - val_loss: 1.7308 - val_accuracy: 0.4151\n",
            "Epoch 110/150\n",
            "124/124 [==============================] - 8s 61ms/step - loss: 2.0100 - accuracy: 0.3484 - val_loss: 1.8251 - val_accuracy: 0.3893\n",
            "Epoch 111/150\n",
            "124/124 [==============================] - 8s 61ms/step - loss: 2.0002 - accuracy: 0.3456 - val_loss: 1.7283 - val_accuracy: 0.4161\n",
            "Epoch 112/150\n",
            "124/124 [==============================] - 8s 61ms/step - loss: 2.0116 - accuracy: 0.3454 - val_loss: 1.8280 - val_accuracy: 0.3943\n",
            "Epoch 113/150\n",
            "124/124 [==============================] - 8s 60ms/step - loss: 1.9828 - accuracy: 0.3515 - val_loss: 1.8914 - val_accuracy: 0.3810\n",
            "Epoch 114/150\n",
            "124/124 [==============================] - 8s 64ms/step - loss: 2.0141 - accuracy: 0.3471 - val_loss: 1.7415 - val_accuracy: 0.4261\n",
            "Epoch 115/150\n",
            "124/124 [==============================] - 8s 62ms/step - loss: 1.9891 - accuracy: 0.3496 - val_loss: 1.7571 - val_accuracy: 0.4008\n",
            "Epoch 116/150\n",
            "124/124 [==============================] - 8s 62ms/step - loss: 1.9982 - accuracy: 0.3514 - val_loss: 1.7566 - val_accuracy: 0.4169\n",
            "Epoch 117/150\n",
            "124/124 [==============================] - 8s 63ms/step - loss: 1.9832 - accuracy: 0.3550 - val_loss: 1.7762 - val_accuracy: 0.4088\n",
            "Epoch 118/150\n",
            "124/124 [==============================] - 8s 62ms/step - loss: 1.9973 - accuracy: 0.3532 - val_loss: 1.7842 - val_accuracy: 0.4056\n",
            "Epoch 119/150\n",
            "124/124 [==============================] - 8s 62ms/step - loss: 2.0071 - accuracy: 0.3516 - val_loss: 1.8912 - val_accuracy: 0.3825\n",
            "Epoch 120/150\n",
            "124/124 [==============================] - 8s 63ms/step - loss: 1.9905 - accuracy: 0.3545 - val_loss: 1.8279 - val_accuracy: 0.3893\n",
            "Epoch 121/150\n",
            "124/124 [==============================] - 8s 62ms/step - loss: 1.9971 - accuracy: 0.3526 - val_loss: 1.9419 - val_accuracy: 0.3689\n",
            "Epoch 122/150\n",
            "124/124 [==============================] - 8s 63ms/step - loss: 1.9938 - accuracy: 0.3505 - val_loss: 1.9146 - val_accuracy: 0.3742\n",
            "Epoch 123/150\n",
            "124/124 [==============================] - 8s 62ms/step - loss: 1.9873 - accuracy: 0.3503 - val_loss: 1.8765 - val_accuracy: 0.3637\n",
            "Epoch 124/150\n",
            "124/124 [==============================] - 8s 61ms/step - loss: 1.9782 - accuracy: 0.3530 - val_loss: 1.8591 - val_accuracy: 0.3845\n",
            "Epoch 125/150\n",
            "124/124 [==============================] - 8s 62ms/step - loss: 1.9644 - accuracy: 0.3619 - val_loss: 1.9252 - val_accuracy: 0.3737\n",
            "Epoch 126/150\n",
            "124/124 [==============================] - 8s 62ms/step - loss: 1.9711 - accuracy: 0.3589 - val_loss: 1.8031 - val_accuracy: 0.3968\n",
            "Epoch 127/150\n",
            "124/124 [==============================] - 8s 62ms/step - loss: 1.9708 - accuracy: 0.3515 - val_loss: 1.7264 - val_accuracy: 0.4169\n",
            "Epoch 128/150\n",
            "124/124 [==============================] - 8s 61ms/step - loss: 1.9605 - accuracy: 0.3582 - val_loss: 1.8740 - val_accuracy: 0.3955\n",
            "Epoch 129/150\n",
            "124/124 [==============================] - 8s 61ms/step - loss: 1.9758 - accuracy: 0.3500 - val_loss: 1.7984 - val_accuracy: 0.4066\n",
            "Epoch 130/150\n",
            "124/124 [==============================] - 8s 62ms/step - loss: 1.9475 - accuracy: 0.3624 - val_loss: 1.7143 - val_accuracy: 0.4209\n",
            "Epoch 131/150\n",
            "124/124 [==============================] - 8s 64ms/step - loss: 1.9720 - accuracy: 0.3594 - val_loss: 1.7555 - val_accuracy: 0.4123\n",
            "Epoch 132/150\n",
            "124/124 [==============================] - 8s 64ms/step - loss: 1.9472 - accuracy: 0.3652 - val_loss: 2.0347 - val_accuracy: 0.3454\n",
            "Epoch 133/150\n",
            "124/124 [==============================] - 8s 62ms/step - loss: 1.9535 - accuracy: 0.3629 - val_loss: 1.8271 - val_accuracy: 0.3960\n",
            "Epoch 134/150\n",
            "124/124 [==============================] - 8s 61ms/step - loss: 1.9416 - accuracy: 0.3662 - val_loss: 1.7967 - val_accuracy: 0.4108\n",
            "Epoch 135/150\n",
            "124/124 [==============================] - 8s 62ms/step - loss: 1.9600 - accuracy: 0.3649 - val_loss: 1.9194 - val_accuracy: 0.3727\n",
            "Epoch 136/150\n",
            "124/124 [==============================] - 8s 61ms/step - loss: 1.9530 - accuracy: 0.3634 - val_loss: 1.8451 - val_accuracy: 0.3940\n",
            "Epoch 137/150\n",
            "124/124 [==============================] - 8s 62ms/step - loss: 1.9421 - accuracy: 0.3660 - val_loss: 1.7791 - val_accuracy: 0.4108\n",
            "Epoch 138/150\n",
            "124/124 [==============================] - 8s 62ms/step - loss: 1.9577 - accuracy: 0.3602 - val_loss: 1.8708 - val_accuracy: 0.3840\n",
            "Epoch 139/150\n",
            "124/124 [==============================] - 8s 62ms/step - loss: 1.9411 - accuracy: 0.3660 - val_loss: 1.8605 - val_accuracy: 0.3935\n",
            "Epoch 140/150\n",
            "124/124 [==============================] - 8s 61ms/step - loss: 1.9457 - accuracy: 0.3632 - val_loss: 1.7985 - val_accuracy: 0.4068\n",
            "Epoch 141/150\n",
            "124/124 [==============================] - 8s 62ms/step - loss: 1.9396 - accuracy: 0.3621 - val_loss: 1.7494 - val_accuracy: 0.4101\n",
            "Epoch 142/150\n",
            "124/124 [==============================] - 8s 62ms/step - loss: 1.9512 - accuracy: 0.3688 - val_loss: 1.7052 - val_accuracy: 0.4294\n",
            "Epoch 143/150\n",
            "124/124 [==============================] - 8s 62ms/step - loss: 1.9433 - accuracy: 0.3638 - val_loss: 1.6936 - val_accuracy: 0.4374\n",
            "Epoch 144/150\n",
            "124/124 [==============================] - 8s 61ms/step - loss: 1.9349 - accuracy: 0.3585 - val_loss: 1.9857 - val_accuracy: 0.3609\n",
            "Epoch 145/150\n",
            "124/124 [==============================] - 8s 62ms/step - loss: 1.9335 - accuracy: 0.3683 - val_loss: 1.9362 - val_accuracy: 0.3662\n",
            "Epoch 146/150\n",
            "124/124 [==============================] - 8s 62ms/step - loss: 1.9280 - accuracy: 0.3720 - val_loss: 1.6983 - val_accuracy: 0.4332\n",
            "Epoch 147/150\n",
            "124/124 [==============================] - 8s 62ms/step - loss: 1.9444 - accuracy: 0.3663 - val_loss: 1.9462 - val_accuracy: 0.3742\n",
            "Epoch 148/150\n",
            "124/124 [==============================] - 8s 62ms/step - loss: 1.9303 - accuracy: 0.3733 - val_loss: 1.7490 - val_accuracy: 0.4186\n",
            "Epoch 149/150\n",
            "124/124 [==============================] - 8s 62ms/step - loss: 1.9355 - accuracy: 0.3691 - val_loss: 1.7401 - val_accuracy: 0.4189\n",
            "Epoch 150/150\n",
            "124/124 [==============================] - 8s 61ms/step - loss: 1.9237 - accuracy: 0.3691 - val_loss: 1.8097 - val_accuracy: 0.4003\n",
            "CPU times: user 20min 26s, sys: 46.2 s, total: 21min 12s\n",
            "Wall time: 19min 1s\n"
          ],
          "name": "stdout"
        }
      ]
    },
    {
      "cell_type": "code",
      "metadata": {
        "colab": {
          "base_uri": "https://localhost:8080/"
        },
        "id": "Kvn_38mROkOf",
        "outputId": "610a5755-8f62-44fe-e5ed-68c8465e9547"
      },
      "source": [
        "loss7, accuracy7 = CNN7.evaluate(X_test, y_test)\n",
        "\n",
        "loss7, accuracy7"
      ],
      "execution_count": 134,
      "outputs": [
        {
          "output_type": "stream",
          "text": [
            "156/156 [==============================] - 1s 4ms/step - loss: 1.8238 - accuracy: 0.3876\n"
          ],
          "name": "stdout"
        },
        {
          "output_type": "execute_result",
          "data": {
            "text/plain": [
              "(1.8237773180007935, 0.38764044642448425)"
            ]
          },
          "metadata": {
            "tags": []
          },
          "execution_count": 134
        }
      ]
    },
    {
      "cell_type": "code",
      "metadata": {
        "colab": {
          "base_uri": "https://localhost:8080/",
          "height": 513
        },
        "id": "ym1_ssPyOkOf",
        "outputId": "72849c63-c245-44d9-9b48-160e34cc246f"
      },
      "source": [
        "import matplotlib.pyplot as plt\n",
        "\n",
        "epochs = range(1, len(Hist_CNN7.history['loss'])+1)\n",
        "\n",
        "\n",
        "plt.plot(epochs, Hist_CNN7.history['loss'])\n",
        "plt.plot(epochs, Hist_CNN7.history['val_loss'])\n",
        "plt.legend(['Training Loss','Test Loss'])\n",
        "plt.grid()\n",
        "plt.show()\n",
        "\n",
        "\n",
        "\n",
        "plt.plot(epochs, Hist_CNN7.history['accuracy'])\n",
        "plt.plot(epochs, Hist_CNN7.history['val_accuracy'])\n",
        "plt.legend(['Training accuracy','Test accuracy'])\n",
        "plt.grid()\n",
        "plt.show()"
      ],
      "execution_count": 135,
      "outputs": [
        {
          "output_type": "display_data",
          "data": {
            "image/png": "[encoded data removed]",
            "text/plain": [
              "<Figure size 432x288 with 1 Axes>"
            ]
          },
          "metadata": {
            "tags": [],
            "needs_background": "light"
          }
        },
        {
          "output_type": "display_data",
          "data": {
            "image/png": "[encoded data removed]",
            "text/plain": [
              "<Figure size 432x288 with 1 Axes>"
            ]
          },
          "metadata": {
            "tags": [],
            "needs_background": "light"
          }
        }
      ]
    },
    {
      "cell_type": "markdown",
      "metadata": {
        "id": "xoDHE0_MeVcG"
      },
      "source": [
        "### 8) batch_size 업"
      ]
    },
    {
      "cell_type": "code",
      "metadata": {
        "id": "PjmSx4mQeYBJ"
      },
      "source": [
        "from keras.preprocessing.image import ImageDataGenerator\n",
        "\n",
        "X_train_datagen = ImageDataGenerator(rotation_range=40, width_shift_range=0.2, height_shift_range=0.2,\n",
        "                                   shear_range=0.2, zoom_range=0.2, horizontal_flip=True, vertical_flip=True, \n",
        "                                   fill_mode='nearest')\n",
        "\n",
        "X_valid_datagen = ImageDataGenerator()\n",
        "\n",
        "train_generator_ed = X_train_datagen.flow(X_train, y_train, batch_size=1024)\n",
        "valid_generator_ed = X_valid_datagen.flow(X_valid, y_valid, batch_size=1024)"
      ],
      "execution_count": null,
      "outputs": []
    },
    {
      "cell_type": "code",
      "metadata": {
        "id": "uVKQIXwXkPzW"
      },
      "source": [
        ""
      ],
      "execution_count": null,
      "outputs": []
    },
    {
      "cell_type": "markdown",
      "metadata": {
        "id": "UZi476p0kVJR"
      },
      "source": [
        "### 비교"
      ]
    },
    {
      "cell_type": "code",
      "metadata": {
        "colab": {
          "base_uri": "https://localhost:8080/"
        },
        "id": "L8phRP68kXBA",
        "outputId": "1056ab1c-2046-4024-fe5a-c7918e3a881f"
      },
      "source": [
        "print('1 : ', loss1, accuracy1)\n",
        "#print('2 : ', loss2, accuracy2)\n",
        "print('3 : ', loss3, accuracy3)\n",
        "print('4 : ', loss4, accuracy4)\n",
        "print('5 : ', loss5, accuracy5)\n",
        "print('6 : ', loss6, accuracy6)\n",
        "print('7 : ', loss7, accuracy7)"
      ],
      "execution_count": 131,
      "outputs": [
        {
          "output_type": "stream",
          "text": [
            "1 :  1.9615941047668457 0.42596307396888733\n",
            "3 :  1.8908076286315918 0.42475923895835876\n",
            "4 :  2.432363748550415 0.2893258333206177\n",
            "5 :  2.0407402515411377 0.3332664668560028\n",
            "6 :  3.471947431564331 0.08025681972503662\n",
            "7 :  3.472013235092163 0.08025681972503662\n"
          ],
          "name": "stdout"
        }
      ]
    },
    {
      "cell_type": "markdown",
      "metadata": {
        "id": "kliUISgZbPzg"
      },
      "source": [
        "## 3) XGBoost"
      ]
    },
    {
      "cell_type": "markdown",
      "metadata": {
        "id": "okqmlc_MbPuZ"
      },
      "source": [
        "# IV. 프로젝트 의견 작성"
      ]
    },
    {
      "cell_type": "markdown",
      "metadata": {
        "id": "cVwyhqY8J-ds"
      },
      "source": [
        "# \n",
        "# \n",
        "# \n",
        "# The End\n",
        "# \n",
        "# \n",
        "# "
      ]
    }
  ]
}