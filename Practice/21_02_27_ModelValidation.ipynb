{
  "nbformat": 4,
  "nbformat_minor": 0,
  "metadata": {
    "colab": {
      "name": "21_02_27_ModelValidation.ipynb",
      "provenance": [],
      "collapsed_sections": []
    },
    "kernelspec": {
      "name": "python3",
      "display_name": "Python 3"
    }
  },
  "cells": [
    {
      "cell_type": "markdown",
      "metadata": {
        "id": "plJTnYlitLZt"
      },
      "source": [
        "# **Model Validation**\r\n",
        "## 1] Model Capacity\r\n",
        "  * import packages -> pandas DataFrame -> scatterplot\r\n",
        "  1. 1차 함수, 2차 함수, 5차 함수, 9차 함수 모델 시각화\r\n",
        "  2. 4개 모델 비교 시각화\r\n",
        "\r\n",
        "## 2]. Training Error\r\n",
        "  1.   1차 모델 Training Error\r\n",
        "    *  X_train, y_train\r\n",
        "    *  LinearRegression 모델 생성\r\n",
        "    * 모델 정보(학습 결과)확인\r\n",
        "    * y_hat(예측값) 생성\r\n",
        "    * MSE 계산\r\n",
        "\r\n",
        "  2.   5차, 9차 모델 Training Error 생성\r\n",
        "    * X 다항차수 변환(PolynomialFeatures) & X_train, y_train\r\n",
        "    * 다항차수의 LinearRegression 모델 생성\r\n",
        "    * 모델 정보(학습 결과)확인\r\n",
        "    * y_hat(예측값) 생성\r\n",
        "    * MSE 계산\r\n",
        "\r\n",
        "  3. 3개 모델 Training Error값(MSE) 비교\r\n",
        "  4. 잔차(Residual) 시각화 비교(with residplot)\r\n",
        "\r\n",
        "## 3] Testing Error\r\n",
        "1.   Train_Data vs. Test_Data\r\n",
        "  *  **데이터분리** sklearn.train_test_split - DataFrame Split - <U>Train_DF : Test_DF</U>(8:2) \r\n",
        "  *   **데이터분리** sklearn.train_test_split - Array Split - <U> X_train : X_test</U> | <U>y_train : y_test</U> (8:2)\r\n",
        "  * Distribution Visualization(with scattorplot) - Train Data vs. Test Data\r\n",
        "\r\n",
        "\r\n",
        "2.   1차, 5차, 9차 모델 Testing Error\r\n",
        "    * Train_Data로 LinearRegression 모델 생성\r\n",
        "    * Test_Data로 y_hat(예측값) 생성\r\n",
        "    * Test_Data로 MSE 계산\r\n",
        "3. 3개 모델 Testing Error 비교\r\n",
        "\r\n",
        "## 4] Validation Approach\r\n",
        "1.   **데이터분리** sklearn.train_test_split - <U>Train_Data:Validation_Data:Test_Data</U>(6:2:2)\r\n",
        "2. 다항차수 모델 Validation Error\r\n",
        "    * Train_Data로 모델 생성\r\n",
        "    * Validatio_Data로 y_hat(예측값) 생성 및 MSE 계산\r\n",
        "    * 각각의 모델 Validation Error(MSE값) 비교\r\n",
        "    * 최종 모델을 Test_Data에 적용(Test_Data로  y_hat(예측값) 생성 및 MSE 계산\r\n",
        "\r\n",
        "\r\n",
        "\r\n",
        "\r\n",
        "\r\n",
        "\r\n",
        "\r\n",
        "\r\n"
      ]
    }
  ]
}