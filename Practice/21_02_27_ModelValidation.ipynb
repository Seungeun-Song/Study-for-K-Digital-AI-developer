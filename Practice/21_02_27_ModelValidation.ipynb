{
  "nbformat": 4,
  "nbformat_minor": 0,
  "metadata": {
    "colab": {
      "name": "21_02_27_ModelValidation.ipynb",
      "provenance": [],
      "collapsed_sections": [],
      "toc_visible": true
    },
    "kernelspec": {
      "name": "python3",
      "display_name": "Python 3"
    },
    "widgets": {
      "application/vnd.jupyter.widget-state+json": {
        "dea53a81e3fd407e81dccc925056dd7d": {
          "model_module": "@jupyter-widgets/controls",
          "model_name": "VBoxModel",
          "state": {
            "_view_name": "VBoxView",
            "_dom_classes": [
              "widget-interact"
            ],
            "_model_name": "VBoxModel",
            "_view_module": "@jupyter-widgets/controls",
            "_model_module_version": "1.5.0",
            "_view_count": null,
            "_view_module_version": "1.5.0",
            "box_style": "",
            "layout": "IPY_MODEL_04531306a5164d7bbfec63ccbbef3bbd",
            "_model_module": "@jupyter-widgets/controls",
            "children": [
              "IPY_MODEL_9069cb1dfb5944d0b3ebea76bdf76f04",
              "IPY_MODEL_ac8d679810c54f148990a1a73f4fac8e"
            ]
          }
        },
        "04531306a5164d7bbfec63ccbbef3bbd": {
          "model_module": "@jupyter-widgets/base",
          "model_name": "LayoutModel",
          "state": {
            "_view_name": "LayoutView",
            "grid_template_rows": null,
            "right": null,
            "justify_content": null,
            "_view_module": "@jupyter-widgets/base",
            "overflow": null,
            "_model_module_version": "1.2.0",
            "_view_count": null,
            "flex_flow": null,
            "width": null,
            "min_width": null,
            "border": null,
            "align_items": null,
            "bottom": null,
            "_model_module": "@jupyter-widgets/base",
            "top": null,
            "grid_column": null,
            "overflow_y": null,
            "overflow_x": null,
            "grid_auto_flow": null,
            "grid_area": null,
            "grid_template_columns": null,
            "flex": null,
            "_model_name": "LayoutModel",
            "justify_items": null,
            "grid_row": null,
            "max_height": null,
            "align_content": null,
            "visibility": null,
            "align_self": null,
            "height": null,
            "min_height": null,
            "padding": null,
            "grid_auto_rows": null,
            "grid_gap": null,
            "max_width": null,
            "order": null,
            "_view_module_version": "1.2.0",
            "grid_template_areas": null,
            "object_position": null,
            "object_fit": null,
            "grid_auto_columns": null,
            "margin": null,
            "display": null,
            "left": null
          }
        },
        "9069cb1dfb5944d0b3ebea76bdf76f04": {
          "model_module": "@jupyter-widgets/controls",
          "model_name": "DropdownModel",
          "state": {
            "_options_labels": [
              "1",
              "2",
              "5",
              "9",
              "11",
              "13"
            ],
            "_view_name": "DropdownView",
            "style": "IPY_MODEL_b4eec3b6915042a1b66f317374128002",
            "_dom_classes": [],
            "description": "x",
            "_model_name": "DropdownModel",
            "index": 4,
            "_view_module": "@jupyter-widgets/controls",
            "_model_module_version": "1.5.0",
            "_view_count": null,
            "disabled": false,
            "_view_module_version": "1.5.0",
            "description_tooltip": null,
            "_model_module": "@jupyter-widgets/controls",
            "layout": "IPY_MODEL_59d008127fb94b5e91538dd912cb8b54"
          }
        },
        "ac8d679810c54f148990a1a73f4fac8e": {
          "model_module": "@jupyter-widgets/output",
          "model_name": "OutputModel",
          "state": {
            "_view_name": "OutputView",
            "msg_id": "",
            "_dom_classes": [],
            "_model_name": "OutputModel",
            "outputs": [
              {
                "output_type": "stream",
                "metadata": {
                  "tags": []
                },
                "text": "/usr/local/lib/python3.7/dist-packages/seaborn/regression.py:256: RankWarning: Polyfit may be poorly conditioned\n  yhat = reg_func(x, y)\n/usr/local/lib/python3.7/dist-packages/seaborn/algorithms.py:85: RankWarning: Polyfit may be poorly conditioned\n  boot_dist.append(f(*sample, **func_kwargs))\n/usr/local/lib/python3.7/dist-packages/seaborn/algorithms.py:85: RankWarning: Polyfit may be poorly conditioned\n  boot_dist.append(f(*sample, **func_kwargs))\n/usr/local/lib/python3.7/dist-packages/seaborn/algorithms.py:85: RankWarning: Polyfit may be poorly conditioned\n  boot_dist.append(f(*sample, **func_kwargs))\n/usr/local/lib/python3.7/dist-packages/seaborn/algorithms.py:85: RankWarning: Polyfit may be poorly conditioned\n  boot_dist.append(f(*sample, **func_kwargs))\n/usr/local/lib/python3.7/dist-packages/seaborn/algorithms.py:85: RankWarning: Polyfit may be poorly conditioned\n  boot_dist.append(f(*sample, **func_kwargs))\n/usr/local/lib/python3.7/dist-packages/seaborn/algorithms.py:85: RankWarning: Polyfit may be poorly conditioned\n  boot_dist.append(f(*sample, **func_kwargs))\n/usr/local/lib/python3.7/dist-packages/seaborn/algorithms.py:85: RankWarning: Polyfit may be poorly conditioned\n  boot_dist.append(f(*sample, **func_kwargs))\n/usr/local/lib/python3.7/dist-packages/seaborn/algorithms.py:85: RankWarning: Polyfit may be poorly conditioned\n  boot_dist.append(f(*sample, **func_kwargs))\n/usr/local/lib/python3.7/dist-packages/seaborn/algorithms.py:85: RankWarning: Polyfit may be poorly conditioned\n  boot_dist.append(f(*sample, **func_kwargs))\n/usr/local/lib/python3.7/dist-packages/seaborn/algorithms.py:85: RankWarning: Polyfit may be poorly conditioned\n  boot_dist.append(f(*sample, **func_kwargs))\n/usr/local/lib/python3.7/dist-packages/seaborn/algorithms.py:85: RankWarning: Polyfit may be poorly conditioned\n  boot_dist.append(f(*sample, **func_kwargs))\n/usr/local/lib/python3.7/dist-packages/seaborn/algorithms.py:85: RankWarning: Polyfit may be poorly conditioned\n  boot_dist.append(f(*sample, **func_kwargs))\n/usr/local/lib/python3.7/dist-packages/seaborn/algorithms.py:85: RankWarning: Polyfit may be poorly conditioned\n  boot_dist.append(f(*sample, **func_kwargs))\n/usr/local/lib/python3.7/dist-packages/seaborn/algorithms.py:85: RankWarning: Polyfit may be poorly conditioned\n  boot_dist.append(f(*sample, **func_kwargs))\n/usr/local/lib/python3.7/dist-packages/seaborn/algorithms.py:85: RankWarning: Polyfit may be poorly conditioned\n  boot_dist.append(f(*sample, **func_kwargs))\n/usr/local/lib/python3.7/dist-packages/seaborn/algorithms.py:85: RankWarning: Polyfit may be poorly conditioned\n  boot_dist.append(f(*sample, **func_kwargs))\n/usr/local/lib/python3.7/dist-packages/seaborn/algorithms.py:85: RankWarning: Polyfit may be poorly conditioned\n  boot_dist.append(f(*sample, **func_kwargs))\n/usr/local/lib/python3.7/dist-packages/seaborn/algorithms.py:85: RankWarning: Polyfit may be poorly conditioned\n  boot_dist.append(f(*sample, **func_kwargs))\n/usr/local/lib/python3.7/dist-packages/seaborn/algorithms.py:85: RankWarning: Polyfit may be poorly conditioned\n  boot_dist.append(f(*sample, **func_kwargs))\n/usr/local/lib/python3.7/dist-packages/seaborn/algorithms.py:85: RankWarning: Polyfit may be poorly conditioned\n  boot_dist.append(f(*sample, **func_kwargs))\n/usr/local/lib/python3.7/dist-packages/seaborn/algorithms.py:85: RankWarning: Polyfit may be poorly conditioned\n  boot_dist.append(f(*sample, **func_kwargs))\n/usr/local/lib/python3.7/dist-packages/seaborn/algorithms.py:85: RankWarning: Polyfit may be poorly conditioned\n  boot_dist.append(f(*sample, **func_kwargs))\n/usr/local/lib/python3.7/dist-packages/seaborn/algorithms.py:85: RankWarning: Polyfit may be poorly conditioned\n  boot_dist.append(f(*sample, **func_kwargs))\n/usr/local/lib/python3.7/dist-packages/seaborn/algorithms.py:85: RankWarning: Polyfit may be poorly conditioned\n  boot_dist.append(f(*sample, **func_kwargs))\n/usr/local/lib/python3.7/dist-packages/seaborn/algorithms.py:85: RankWarning: Polyfit may be poorly conditioned\n  boot_dist.append(f(*sample, **func_kwargs))\n/usr/local/lib/python3.7/dist-packages/seaborn/algorithms.py:85: RankWarning: Polyfit may be poorly conditioned\n  boot_dist.append(f(*sample, **func_kwargs))\n/usr/local/lib/python3.7/dist-packages/seaborn/algorithms.py:85: RankWarning: Polyfit may be poorly conditioned\n  boot_dist.append(f(*sample, **func_kwargs))\n/usr/local/lib/python3.7/dist-packages/seaborn/algorithms.py:85: RankWarning: Polyfit may be poorly conditioned\n  boot_dist.append(f(*sample, **func_kwargs))\n/usr/local/lib/python3.7/dist-packages/seaborn/algorithms.py:85: RankWarning: Polyfit may be poorly conditioned\n  boot_dist.append(f(*sample, **func_kwargs))\n/usr/local/lib/python3.7/dist-packages/seaborn/algorithms.py:85: RankWarning: Polyfit may be poorly conditioned\n  boot_dist.append(f(*sample, **func_kwargs))\n/usr/local/lib/python3.7/dist-packages/seaborn/algorithms.py:85: RankWarning: Polyfit may be poorly conditioned\n  boot_dist.append(f(*sample, **func_kwargs))\n/usr/local/lib/python3.7/dist-packages/seaborn/algorithms.py:85: RankWarning: Polyfit may be poorly conditioned\n  boot_dist.append(f(*sample, **func_kwargs))\n/usr/local/lib/python3.7/dist-packages/seaborn/algorithms.py:85: RankWarning: Polyfit may be poorly conditioned\n  boot_dist.append(f(*sample, **func_kwargs))\n/usr/local/lib/python3.7/dist-packages/seaborn/algorithms.py:85: RankWarning: Polyfit may be poorly conditioned\n  boot_dist.append(f(*sample, **func_kwargs))\n/usr/local/lib/python3.7/dist-packages/seaborn/algorithms.py:85: RankWarning: Polyfit may be poorly conditioned\n  boot_dist.append(f(*sample, **func_kwargs))\n/usr/local/lib/python3.7/dist-packages/seaborn/algorithms.py:85: RankWarning: Polyfit may be poorly conditioned\n  boot_dist.append(f(*sample, **func_kwargs))\n/usr/local/lib/python3.7/dist-packages/seaborn/algorithms.py:85: RankWarning: Polyfit may be poorly conditioned\n  boot_dist.append(f(*sample, **func_kwargs))\n/usr/local/lib/python3.7/dist-packages/seaborn/algorithms.py:85: RankWarning: Polyfit may be poorly conditioned\n  boot_dist.append(f(*sample, **func_kwargs))\n/usr/local/lib/python3.7/dist-packages/seaborn/algorithms.py:85: RankWarning: Polyfit may be poorly conditioned\n  boot_dist.append(f(*sample, **func_kwargs))\n/usr/local/lib/python3.7/dist-packages/seaborn/algorithms.py:85: RankWarning: Polyfit may be poorly conditioned\n  boot_dist.append(f(*sample, **func_kwargs))\n/usr/local/lib/python3.7/dist-packages/seaborn/algorithms.py:85: RankWarning: Polyfit may be poorly conditioned\n  boot_dist.append(f(*sample, **func_kwargs))\n/usr/local/lib/python3.7/dist-packages/seaborn/algorithms.py:85: RankWarning: Polyfit may be poorly conditioned\n  boot_dist.append(f(*sample, **func_kwargs))\n/usr/local/lib/python3.7/dist-packages/seaborn/algorithms.py:85: RankWarning: Polyfit may be poorly conditioned\n  boot_dist.append(f(*sample, **func_kwargs))\n/usr/local/lib/python3.7/dist-packages/seaborn/algorithms.py:85: RankWarning: Polyfit may be poorly conditioned\n  boot_dist.append(f(*sample, **func_kwargs))\n/usr/local/lib/python3.7/dist-packages/seaborn/algorithms.py:85: RankWarning: Polyfit may be poorly conditioned\n  boot_dist.append(f(*sample, **func_kwargs))\n/usr/local/lib/python3.7/dist-packages/seaborn/algorithms.py:85: RankWarning: Polyfit may be poorly conditioned\n  boot_dist.append(f(*sample, **func_kwargs))\n/usr/local/lib/python3.7/dist-packages/seaborn/algorithms.py:85: RankWarning: Polyfit may be poorly conditioned\n  boot_dist.append(f(*sample, **func_kwargs))\n/usr/local/lib/python3.7/dist-packages/seaborn/algorithms.py:85: RankWarning: Polyfit may be poorly conditioned\n  boot_dist.append(f(*sample, **func_kwargs))\n/usr/local/lib/python3.7/dist-packages/seaborn/algorithms.py:85: RankWarning: Polyfit may be poorly conditioned\n  boot_dist.append(f(*sample, **func_kwargs))\n/usr/local/lib/python3.7/dist-packages/seaborn/algorithms.py:85: RankWarning: Polyfit may be poorly conditioned\n  boot_dist.append(f(*sample, **func_kwargs))\n/usr/local/lib/python3.7/dist-packages/seaborn/algorithms.py:85: RankWarning: Polyfit may be poorly conditioned\n  boot_dist.append(f(*sample, **func_kwargs))\n/usr/local/lib/python3.7/dist-packages/seaborn/algorithms.py:85: RankWarning: Polyfit may be poorly conditioned\n  boot_dist.append(f(*sample, **func_kwargs))\n/usr/local/lib/python3.7/dist-packages/seaborn/algorithms.py:85: RankWarning: Polyfit may be poorly conditioned\n  boot_dist.append(f(*sample, **func_kwargs))\n/usr/local/lib/python3.7/dist-packages/seaborn/algorithms.py:85: RankWarning: Polyfit may be poorly conditioned\n  boot_dist.append(f(*sample, **func_kwargs))\n/usr/local/lib/python3.7/dist-packages/seaborn/algorithms.py:85: RankWarning: Polyfit may be poorly conditioned\n  boot_dist.append(f(*sample, **func_kwargs))\n/usr/local/lib/python3.7/dist-packages/seaborn/algorithms.py:85: RankWarning: Polyfit may be poorly conditioned\n  boot_dist.append(f(*sample, **func_kwargs))\n/usr/local/lib/python3.7/dist-packages/seaborn/algorithms.py:85: RankWarning: Polyfit may be poorly conditioned\n  boot_dist.append(f(*sample, **func_kwargs))\n/usr/local/lib/python3.7/dist-packages/seaborn/algorithms.py:85: RankWarning: Polyfit may be poorly conditioned\n  boot_dist.append(f(*sample, **func_kwargs))\n/usr/local/lib/python3.7/dist-packages/seaborn/algorithms.py:85: RankWarning: Polyfit may be poorly conditioned\n  boot_dist.append(f(*sample, **func_kwargs))\n/usr/local/lib/python3.7/dist-packages/seaborn/algorithms.py:85: RankWarning: Polyfit may be poorly conditioned\n  boot_dist.append(f(*sample, **func_kwargs))\n/usr/local/lib/python3.7/dist-packages/seaborn/algorithms.py:85: RankWarning: Polyfit may be poorly conditioned\n  boot_dist.append(f(*sample, **func_kwargs))\n/usr/local/lib/python3.7/dist-packages/seaborn/algorithms.py:85: RankWarning: Polyfit may be poorly conditioned\n  boot_dist.append(f(*sample, **func_kwargs))\n/usr/local/lib/python3.7/dist-packages/seaborn/algorithms.py:85: RankWarning: Polyfit may be poorly conditioned\n  boot_dist.append(f(*sample, **func_kwargs))\n/usr/local/lib/python3.7/dist-packages/seaborn/algorithms.py:85: RankWarning: Polyfit may be poorly conditioned\n  boot_dist.append(f(*sample, **func_kwargs))\n/usr/local/lib/python3.7/dist-packages/seaborn/algorithms.py:85: RankWarning: Polyfit may be poorly conditioned\n  boot_dist.append(f(*sample, **func_kwargs))\n/usr/local/lib/python3.7/dist-packages/seaborn/algorithms.py:85: RankWarning: Polyfit may be poorly conditioned\n  boot_dist.append(f(*sample, **func_kwargs))\n/usr/local/lib/python3.7/dist-packages/seaborn/algorithms.py:85: RankWarning: Polyfit may be poorly conditioned\n  boot_dist.append(f(*sample, **func_kwargs))\n/usr/local/lib/python3.7/dist-packages/seaborn/algorithms.py:85: RankWarning: Polyfit may be poorly conditioned\n  boot_dist.append(f(*sample, **func_kwargs))\n/usr/local/lib/python3.7/dist-packages/seaborn/algorithms.py:85: RankWarning: Polyfit may be poorly conditioned\n  boot_dist.append(f(*sample, **func_kwargs))\n/usr/local/lib/python3.7/dist-packages/seaborn/algorithms.py:85: RankWarning: Polyfit may be poorly conditioned\n  boot_dist.append(f(*sample, **func_kwargs))\n/usr/local/lib/python3.7/dist-packages/seaborn/algorithms.py:85: RankWarning: Polyfit may be poorly conditioned\n  boot_dist.append(f(*sample, **func_kwargs))\n/usr/local/lib/python3.7/dist-packages/seaborn/algorithms.py:85: RankWarning: Polyfit may be poorly conditioned\n  boot_dist.append(f(*sample, **func_kwargs))\n/usr/local/lib/python3.7/dist-packages/seaborn/algorithms.py:85: RankWarning: Polyfit may be poorly conditioned\n  boot_dist.append(f(*sample, **func_kwargs))\n/usr/local/lib/python3.7/dist-packages/seaborn/algorithms.py:85: RankWarning: Polyfit may be poorly conditioned\n  boot_dist.append(f(*sample, **func_kwargs))\n/usr/local/lib/python3.7/dist-packages/seaborn/algorithms.py:85: RankWarning: Polyfit may be poorly conditioned\n  boot_dist.append(f(*sample, **func_kwargs))\n/usr/local/lib/python3.7/dist-packages/seaborn/algorithms.py:85: RankWarning: Polyfit may be poorly conditioned\n  boot_dist.append(f(*sample, **func_kwargs))\n/usr/local/lib/python3.7/dist-packages/seaborn/algorithms.py:85: RankWarning: Polyfit may be poorly conditioned\n  boot_dist.append(f(*sample, **func_kwargs))\n/usr/local/lib/python3.7/dist-packages/seaborn/algorithms.py:85: RankWarning: Polyfit may be poorly conditioned\n  boot_dist.append(f(*sample, **func_kwargs))\n/usr/local/lib/python3.7/dist-packages/seaborn/algorithms.py:85: RankWarning: Polyfit may be poorly conditioned\n  boot_dist.append(f(*sample, **func_kwargs))\n/usr/local/lib/python3.7/dist-packages/seaborn/algorithms.py:85: RankWarning: Polyfit may be poorly conditioned\n  boot_dist.append(f(*sample, **func_kwargs))\n/usr/local/lib/python3.7/dist-packages/seaborn/algorithms.py:85: RankWarning: Polyfit may be poorly conditioned\n  boot_dist.append(f(*sample, **func_kwargs))\n/usr/local/lib/python3.7/dist-packages/seaborn/algorithms.py:85: RankWarning: Polyfit may be poorly conditioned\n  boot_dist.append(f(*sample, **func_kwargs))\n/usr/local/lib/python3.7/dist-packages/seaborn/algorithms.py:85: RankWarning: Polyfit may be poorly conditioned\n  boot_dist.append(f(*sample, **func_kwargs))\n/usr/local/lib/python3.7/dist-packages/seaborn/algorithms.py:85: RankWarning: Polyfit may be poorly conditioned\n  boot_dist.append(f(*sample, **func_kwargs))\n/usr/local/lib/python3.7/dist-packages/seaborn/algorithms.py:85: RankWarning: Polyfit may be poorly conditioned\n  boot_dist.append(f(*sample, **func_kwargs))\n/usr/local/lib/python3.7/dist-packages/seaborn/algorithms.py:85: RankWarning: Polyfit may be poorly conditioned\n  boot_dist.append(f(*sample, **func_kwargs))\n/usr/local/lib/python3.7/dist-packages/seaborn/algorithms.py:85: RankWarning: Polyfit may be poorly conditioned\n  boot_dist.append(f(*sample, **func_kwargs))\n/usr/local/lib/python3.7/dist-packages/seaborn/algorithms.py:85: RankWarning: Polyfit may be poorly conditioned\n  boot_dist.append(f(*sample, **func_kwargs))\n/usr/local/lib/python3.7/dist-packages/seaborn/algorithms.py:85: RankWarning: Polyfit may be poorly conditioned\n  boot_dist.append(f(*sample, **func_kwargs))\n/usr/local/lib/python3.7/dist-packages/seaborn/algorithms.py:85: RankWarning: Polyfit may be poorly conditioned\n  boot_dist.append(f(*sample, **func_kwargs))\n/usr/local/lib/python3.7/dist-packages/seaborn/algorithms.py:85: RankWarning: Polyfit may be poorly conditioned\n  boot_dist.append(f(*sample, **func_kwargs))\n/usr/local/lib/python3.7/dist-packages/seaborn/algorithms.py:85: RankWarning: Polyfit may be poorly conditioned\n  boot_dist.append(f(*sample, **func_kwargs))\n/usr/local/lib/python3.7/dist-packages/seaborn/algorithms.py:85: RankWarning: Polyfit may be poorly conditioned\n  boot_dist.append(f(*sample, **func_kwargs))\n/usr/local/lib/python3.7/dist-packages/seaborn/algorithms.py:85: RankWarning: Polyfit may be poorly conditioned\n  boot_dist.append(f(*sample, **func_kwargs))\n/usr/local/lib/python3.7/dist-packages/seaborn/algorithms.py:85: RankWarning: Polyfit may be poorly conditioned\n  boot_dist.append(f(*sample, **func_kwargs))\n/usr/local/lib/python3.7/dist-packages/seaborn/algorithms.py:85: RankWarning: Polyfit may be poorly conditioned\n  boot_dist.append(f(*sample, **func_kwargs))\n/usr/local/lib/python3.7/dist-packages/seaborn/algorithms.py:85: RankWarning: Polyfit may be poorly conditioned\n  boot_dist.append(f(*sample, **func_kwargs))\n/usr/local/lib/python3.7/dist-packages/seaborn/algorithms.py:85: RankWarning: Polyfit may be poorly conditioned\n  boot_dist.append(f(*sample, **func_kwargs))\n/usr/local/lib/python3.7/dist-packages/seaborn/algorithms.py:85: RankWarning: Polyfit may be poorly conditioned\n  boot_dist.append(f(*sample, **func_kwargs))\n/usr/local/lib/python3.7/dist-packages/seaborn/algorithms.py:85: RankWarning: Polyfit may be poorly conditioned\n  boot_dist.append(f(*sample, **func_kwargs))\n/usr/local/lib/python3.7/dist-packages/seaborn/algorithms.py:85: RankWarning: Polyfit may be poorly conditioned\n  boot_dist.append(f(*sample, **func_kwargs))\n/usr/local/lib/python3.7/dist-packages/seaborn/algorithms.py:85: RankWarning: Polyfit may be poorly conditioned\n  boot_dist.append(f(*sample, **func_kwargs))\n/usr/local/lib/python3.7/dist-packages/seaborn/algorithms.py:85: RankWarning: Polyfit may be poorly conditioned\n  boot_dist.append(f(*sample, **func_kwargs))\n/usr/local/lib/python3.7/dist-packages/seaborn/algorithms.py:85: RankWarning: Polyfit may be poorly conditioned\n  boot_dist.append(f(*sample, **func_kwargs))\n/usr/local/lib/python3.7/dist-packages/seaborn/algorithms.py:85: RankWarning: Polyfit may be poorly conditioned\n  boot_dist.append(f(*sample, **func_kwargs))\n/usr/local/lib/python3.7/dist-packages/seaborn/algorithms.py:85: RankWarning: Polyfit may be poorly conditioned\n  boot_dist.append(f(*sample, **func_kwargs))\n/usr/local/lib/python3.7/dist-packages/seaborn/algorithms.py:85: RankWarning: Polyfit may be poorly conditioned\n  boot_dist.append(f(*sample, **func_kwargs))\n/usr/local/lib/python3.7/dist-packages/seaborn/algorithms.py:85: RankWarning: Polyfit may be poorly conditioned\n  boot_dist.append(f(*sample, **func_kwargs))\n/usr/local/lib/python3.7/dist-packages/seaborn/algorithms.py:85: RankWarning: Polyfit may be poorly conditioned\n  boot_dist.append(f(*sample, **func_kwargs))\n/usr/local/lib/python3.7/dist-packages/seaborn/algorithms.py:85: RankWarning: Polyfit may be poorly conditioned\n  boot_dist.append(f(*sample, **func_kwargs))\n/usr/local/lib/python3.7/dist-packages/seaborn/algorithms.py:85: RankWarning: Polyfit may be poorly conditioned\n  boot_dist.append(f(*sample, **func_kwargs))\n/usr/local/lib/python3.7/dist-packages/seaborn/algorithms.py:85: RankWarning: Polyfit may be poorly conditioned\n  boot_dist.append(f(*sample, **func_kwargs))\n/usr/local/lib/python3.7/dist-packages/seaborn/algorithms.py:85: RankWarning: Polyfit may be poorly conditioned\n  boot_dist.append(f(*sample, **func_kwargs))\n/usr/local/lib/python3.7/dist-packages/seaborn/algorithms.py:85: RankWarning: Polyfit may be poorly conditioned\n  boot_dist.append(f(*sample, **func_kwargs))\n/usr/local/lib/python3.7/dist-packages/seaborn/algorithms.py:85: RankWarning: Polyfit may be poorly conditioned\n  boot_dist.append(f(*sample, **func_kwargs))\n/usr/local/lib/python3.7/dist-packages/seaborn/algorithms.py:85: RankWarning: Polyfit may be poorly conditioned\n  boot_dist.append(f(*sample, **func_kwargs))\n/usr/local/lib/python3.7/dist-packages/seaborn/algorithms.py:85: RankWarning: Polyfit may be poorly conditioned\n  boot_dist.append(f(*sample, **func_kwargs))\n/usr/local/lib/python3.7/dist-packages/seaborn/algorithms.py:85: RankWarning: Polyfit may be poorly conditioned\n  boot_dist.append(f(*sample, **func_kwargs))\n/usr/local/lib/python3.7/dist-packages/seaborn/algorithms.py:85: RankWarning: Polyfit may be poorly conditioned\n  boot_dist.append(f(*sample, **func_kwargs))\n/usr/local/lib/python3.7/dist-packages/seaborn/algorithms.py:85: RankWarning: Polyfit may be poorly conditioned\n  boot_dist.append(f(*sample, **func_kwargs))\n/usr/local/lib/python3.7/dist-packages/seaborn/algorithms.py:85: RankWarning: Polyfit may be poorly conditioned\n  boot_dist.append(f(*sample, **func_kwargs))\n/usr/local/lib/python3.7/dist-packages/seaborn/algorithms.py:85: RankWarning: Polyfit may be poorly conditioned\n  boot_dist.append(f(*sample, **func_kwargs))\n/usr/local/lib/python3.7/dist-packages/seaborn/algorithms.py:85: RankWarning: Polyfit may be poorly conditioned\n  boot_dist.append(f(*sample, **func_kwargs))\n/usr/local/lib/python3.7/dist-packages/seaborn/algorithms.py:85: RankWarning: Polyfit may be poorly conditioned\n  boot_dist.append(f(*sample, **func_kwargs))\n/usr/local/lib/python3.7/dist-packages/seaborn/algorithms.py:85: RankWarning: Polyfit may be poorly conditioned\n  boot_dist.append(f(*sample, **func_kwargs))\n/usr/local/lib/python3.7/dist-packages/seaborn/algorithms.py:85: RankWarning: Polyfit may be poorly conditioned\n  boot_dist.append(f(*sample, **func_kwargs))\n/usr/local/lib/python3.7/dist-packages/seaborn/algorithms.py:85: RankWarning: Polyfit may be poorly conditioned\n  boot_dist.append(f(*sample, **func_kwargs))\n/usr/local/lib/python3.7/dist-packages/seaborn/algorithms.py:85: RankWarning: Polyfit may be poorly conditioned\n  boot_dist.append(f(*sample, **func_kwargs))\n/usr/local/lib/python3.7/dist-packages/seaborn/algorithms.py:85: RankWarning: Polyfit may be poorly conditioned\n  boot_dist.append(f(*sample, **func_kwargs))\n/usr/local/lib/python3.7/dist-packages/seaborn/algorithms.py:85: RankWarning: Polyfit may be poorly conditioned\n  boot_dist.append(f(*sample, **func_kwargs))\n/usr/local/lib/python3.7/dist-packages/seaborn/algorithms.py:85: RankWarning: Polyfit may be poorly conditioned\n  boot_dist.append(f(*sample, **func_kwargs))\n/usr/local/lib/python3.7/dist-packages/seaborn/algorithms.py:85: RankWarning: Polyfit may be poorly conditioned\n  boot_dist.append(f(*sample, **func_kwargs))\n/usr/local/lib/python3.7/dist-packages/seaborn/algorithms.py:85: RankWarning: Polyfit may be poorly conditioned\n  boot_dist.append(f(*sample, **func_kwargs))\n/usr/local/lib/python3.7/dist-packages/seaborn/algorithms.py:85: RankWarning: Polyfit may be poorly conditioned\n  boot_dist.append(f(*sample, **func_kwargs))\n/usr/local/lib/python3.7/dist-packages/seaborn/algorithms.py:85: RankWarning: Polyfit may be poorly conditioned\n  boot_dist.append(f(*sample, **func_kwargs))\n/usr/local/lib/python3.7/dist-packages/seaborn/algorithms.py:85: RankWarning: Polyfit may be poorly conditioned\n  boot_dist.append(f(*sample, **func_kwargs))\n/usr/local/lib/python3.7/dist-packages/seaborn/algorithms.py:85: RankWarning: Polyfit may be poorly conditioned\n  boot_dist.append(f(*sample, **func_kwargs))\n/usr/local/lib/python3.7/dist-packages/seaborn/algorithms.py:85: RankWarning: Polyfit may be poorly conditioned\n  boot_dist.append(f(*sample, **func_kwargs))\n/usr/local/lib/python3.7/dist-packages/seaborn/algorithms.py:85: RankWarning: Polyfit may be poorly conditioned\n  boot_dist.append(f(*sample, **func_kwargs))\n/usr/local/lib/python3.7/dist-packages/seaborn/algorithms.py:85: RankWarning: Polyfit may be poorly conditioned\n  boot_dist.append(f(*sample, **func_kwargs))\n/usr/local/lib/python3.7/dist-packages/seaborn/algorithms.py:85: RankWarning: Polyfit may be poorly conditioned\n  boot_dist.append(f(*sample, **func_kwargs))\n/usr/local/lib/python3.7/dist-packages/seaborn/algorithms.py:85: RankWarning: Polyfit may be poorly conditioned\n  boot_dist.append(f(*sample, **func_kwargs))\n/usr/local/lib/python3.7/dist-packages/seaborn/algorithms.py:85: RankWarning: Polyfit may be poorly conditioned\n  boot_dist.append(f(*sample, **func_kwargs))\n/usr/local/lib/python3.7/dist-packages/seaborn/algorithms.py:85: RankWarning: Polyfit may be poorly conditioned\n  boot_dist.append(f(*sample, **func_kwargs))\n/usr/local/lib/python3.7/dist-packages/seaborn/algorithms.py:85: RankWarning: Polyfit may be poorly conditioned\n  boot_dist.append(f(*sample, **func_kwargs))\n/usr/local/lib/python3.7/dist-packages/seaborn/algorithms.py:85: RankWarning: Polyfit may be poorly conditioned\n  boot_dist.append(f(*sample, **func_kwargs))\n/usr/local/lib/python3.7/dist-packages/seaborn/algorithms.py:85: RankWarning: Polyfit may be poorly conditioned\n  boot_dist.append(f(*sample, **func_kwargs))\n/usr/local/lib/python3.7/dist-packages/seaborn/algorithms.py:85: RankWarning: Polyfit may be poorly conditioned\n  boot_dist.append(f(*sample, **func_kwargs))\n/usr/local/lib/python3.7/dist-packages/seaborn/algorithms.py:85: RankWarning: Polyfit may be poorly conditioned\n  boot_dist.append(f(*sample, **func_kwargs))\n/usr/local/lib/python3.7/dist-packages/seaborn/algorithms.py:85: RankWarning: Polyfit may be poorly conditioned\n  boot_dist.append(f(*sample, **func_kwargs))\n/usr/local/lib/python3.7/dist-packages/seaborn/algorithms.py:85: RankWarning: Polyfit may be poorly conditioned\n  boot_dist.append(f(*sample, **func_kwargs))\n/usr/local/lib/python3.7/dist-packages/seaborn/algorithms.py:85: RankWarning: Polyfit may be poorly conditioned\n  boot_dist.append(f(*sample, **func_kwargs))\n/usr/local/lib/python3.7/dist-packages/seaborn/algorithms.py:85: RankWarning: Polyfit may be poorly conditioned\n  boot_dist.append(f(*sample, **func_kwargs))\n/usr/local/lib/python3.7/dist-packages/seaborn/algorithms.py:85: RankWarning: Polyfit may be poorly conditioned\n  boot_dist.append(f(*sample, **func_kwargs))\n/usr/local/lib/python3.7/dist-packages/seaborn/algorithms.py:85: RankWarning: Polyfit may be poorly conditioned\n  boot_dist.append(f(*sample, **func_kwargs))\n/usr/local/lib/python3.7/dist-packages/seaborn/algorithms.py:85: RankWarning: Polyfit may be poorly conditioned\n  boot_dist.append(f(*sample, **func_kwargs))\n/usr/local/lib/python3.7/dist-packages/seaborn/algorithms.py:85: RankWarning: Polyfit may be poorly conditioned\n  boot_dist.append(f(*sample, **func_kwargs))\n/usr/local/lib/python3.7/dist-packages/seaborn/algorithms.py:85: RankWarning: Polyfit may be poorly conditioned\n  boot_dist.append(f(*sample, **func_kwargs))\n/usr/local/lib/python3.7/dist-packages/seaborn/algorithms.py:85: RankWarning: Polyfit may be poorly conditioned\n  boot_dist.append(f(*sample, **func_kwargs))\n/usr/local/lib/python3.7/dist-packages/seaborn/algorithms.py:85: RankWarning: Polyfit may be poorly conditioned\n  boot_dist.append(f(*sample, **func_kwargs))\n/usr/local/lib/python3.7/dist-packages/seaborn/algorithms.py:85: RankWarning: Polyfit may be poorly conditioned\n  boot_dist.append(f(*sample, **func_kwargs))\n/usr/local/lib/python3.7/dist-packages/seaborn/algorithms.py:85: RankWarning: Polyfit may be poorly conditioned\n  boot_dist.append(f(*sample, **func_kwargs))\n/usr/local/lib/python3.7/dist-packages/seaborn/algorithms.py:85: RankWarning: Polyfit may be poorly conditioned\n  boot_dist.append(f(*sample, **func_kwargs))\n/usr/local/lib/python3.7/dist-packages/seaborn/algorithms.py:85: RankWarning: Polyfit may be poorly conditioned\n  boot_dist.append(f(*sample, **func_kwargs))\n/usr/local/lib/python3.7/dist-packages/seaborn/algorithms.py:85: RankWarning: Polyfit may be poorly conditioned\n  boot_dist.append(f(*sample, **func_kwargs))\n/usr/local/lib/python3.7/dist-packages/seaborn/algorithms.py:85: RankWarning: Polyfit may be poorly conditioned\n  boot_dist.append(f(*sample, **func_kwargs))\n/usr/local/lib/python3.7/dist-packages/seaborn/algorithms.py:85: RankWarning: Polyfit may be poorly conditioned\n  boot_dist.append(f(*sample, **func_kwargs))\n/usr/local/lib/python3.7/dist-packages/seaborn/algorithms.py:85: RankWarning: Polyfit may be poorly conditioned\n  boot_dist.append(f(*sample, **func_kwargs))\n/usr/local/lib/python3.7/dist-packages/seaborn/algorithms.py:85: RankWarning: Polyfit may be poorly conditioned\n  boot_dist.append(f(*sample, **func_kwargs))\n/usr/local/lib/python3.7/dist-packages/seaborn/algorithms.py:85: RankWarning: Polyfit may be poorly conditioned\n  boot_dist.append(f(*sample, **func_kwargs))\n/usr/local/lib/python3.7/dist-packages/seaborn/algorithms.py:85: RankWarning: Polyfit may be poorly conditioned\n  boot_dist.append(f(*sample, **func_kwargs))\n/usr/local/lib/python3.7/dist-packages/seaborn/algorithms.py:85: RankWarning: Polyfit may be poorly conditioned\n  boot_dist.append(f(*sample, **func_kwargs))\n/usr/local/lib/python3.7/dist-packages/seaborn/algorithms.py:85: RankWarning: Polyfit may be poorly conditioned\n  boot_dist.append(f(*sample, **func_kwargs))\n/usr/local/lib/python3.7/dist-packages/seaborn/algorithms.py:85: RankWarning: Polyfit may be poorly conditioned\n  boot_dist.append(f(*sample, **func_kwargs))\n/usr/local/lib/python3.7/dist-packages/seaborn/algorithms.py:85: RankWarning: Polyfit may be poorly conditioned\n  boot_dist.append(f(*sample, **func_kwargs))\n/usr/local/lib/python3.7/dist-packages/seaborn/algorithms.py:85: RankWarning: Polyfit may be poorly conditioned\n  boot_dist.append(f(*sample, **func_kwargs))\n/usr/local/lib/python3.7/dist-packages/seaborn/algorithms.py:85: RankWarning: Polyfit may be poorly conditioned\n  boot_dist.append(f(*sample, **func_kwargs))\n/usr/local/lib/python3.7/dist-packages/seaborn/algorithms.py:85: RankWarning: Polyfit may be poorly conditioned\n  boot_dist.append(f(*sample, **func_kwargs))\n/usr/local/lib/python3.7/dist-packages/seaborn/algorithms.py:85: RankWarning: Polyfit may be poorly conditioned\n  boot_dist.append(f(*sample, **func_kwargs))\n/usr/local/lib/python3.7/dist-packages/seaborn/algorithms.py:85: RankWarning: Polyfit may be poorly conditioned\n  boot_dist.append(f(*sample, **func_kwargs))\n/usr/local/lib/python3.7/dist-packages/seaborn/algorithms.py:85: RankWarning: Polyfit may be poorly conditioned\n  boot_dist.append(f(*sample, **func_kwargs))\n/usr/local/lib/python3.7/dist-packages/seaborn/algorithms.py:85: RankWarning: Polyfit may be poorly conditioned\n  boot_dist.append(f(*sample, **func_kwargs))\n/usr/local/lib/python3.7/dist-packages/seaborn/algorithms.py:85: RankWarning: Polyfit may be poorly conditioned\n  boot_dist.append(f(*sample, **func_kwargs))\n/usr/local/lib/python3.7/dist-packages/seaborn/algorithms.py:85: RankWarning: Polyfit may be poorly conditioned\n  boot_dist.append(f(*sample, **func_kwargs))\n/usr/local/lib/python3.7/dist-packages/seaborn/algorithms.py:85: RankWarning: Polyfit may be poorly conditioned\n  boot_dist.append(f(*sample, **func_kwargs))\n/usr/local/lib/python3.7/dist-packages/seaborn/algorithms.py:85: RankWarning: Polyfit may be poorly conditioned\n  boot_dist.append(f(*sample, **func_kwargs))\n/usr/local/lib/python3.7/dist-packages/seaborn/algorithms.py:85: RankWarning: Polyfit may be poorly conditioned\n  boot_dist.append(f(*sample, **func_kwargs))\n/usr/local/lib/python3.7/dist-packages/seaborn/algorithms.py:85: RankWarning: Polyfit may be poorly conditioned\n  boot_dist.append(f(*sample, **func_kwargs))\n/usr/local/lib/python3.7/dist-packages/seaborn/algorithms.py:85: RankWarning: Polyfit may be poorly conditioned\n  boot_dist.append(f(*sample, **func_kwargs))\n/usr/local/lib/python3.7/dist-packages/seaborn/algorithms.py:85: RankWarning: Polyfit may be poorly conditioned\n  boot_dist.append(f(*sample, **func_kwargs))\n/usr/local/lib/python3.7/dist-packages/seaborn/algorithms.py:85: RankWarning: Polyfit may be poorly conditioned\n  boot_dist.append(f(*sample, **func_kwargs))\n/usr/local/lib/python3.7/dist-packages/seaborn/algorithms.py:85: RankWarning: Polyfit may be poorly conditioned\n  boot_dist.append(f(*sample, **func_kwargs))\n/usr/local/lib/python3.7/dist-packages/seaborn/algorithms.py:85: RankWarning: Polyfit may be poorly conditioned\n  boot_dist.append(f(*sample, **func_kwargs))\n/usr/local/lib/python3.7/dist-packages/seaborn/algorithms.py:85: RankWarning: Polyfit may be poorly conditioned\n  boot_dist.append(f(*sample, **func_kwargs))\n/usr/local/lib/python3.7/dist-packages/seaborn/algorithms.py:85: RankWarning: Polyfit may be poorly conditioned\n  boot_dist.append(f(*sample, **func_kwargs))\n/usr/local/lib/python3.7/dist-packages/seaborn/algorithms.py:85: RankWarning: Polyfit may be poorly conditioned\n  boot_dist.append(f(*sample, **func_kwargs))\n/usr/local/lib/python3.7/dist-packages/seaborn/algorithms.py:85: RankWarning: Polyfit may be poorly conditioned\n  boot_dist.append(f(*sample, **func_kwargs))\n/usr/local/lib/python3.7/dist-packages/seaborn/algorithms.py:85: RankWarning: Polyfit may be poorly conditioned\n  boot_dist.append(f(*sample, **func_kwargs))\n/usr/local/lib/python3.7/dist-packages/seaborn/algorithms.py:85: RankWarning: Polyfit may be poorly conditioned\n  boot_dist.append(f(*sample, **func_kwargs))\n/usr/local/lib/python3.7/dist-packages/seaborn/algorithms.py:85: RankWarning: Polyfit may be poorly conditioned\n  boot_dist.append(f(*sample, **func_kwargs))\n/usr/local/lib/python3.7/dist-packages/seaborn/algorithms.py:85: RankWarning: Polyfit may be poorly conditioned\n  boot_dist.append(f(*sample, **func_kwargs))\n/usr/local/lib/python3.7/dist-packages/seaborn/algorithms.py:85: RankWarning: Polyfit may be poorly conditioned\n  boot_dist.append(f(*sample, **func_kwargs))\n/usr/local/lib/python3.7/dist-packages/seaborn/algorithms.py:85: RankWarning: Polyfit may be poorly conditioned\n  boot_dist.append(f(*sample, **func_kwargs))\n/usr/local/lib/python3.7/dist-packages/seaborn/algorithms.py:85: RankWarning: Polyfit may be poorly conditioned\n  boot_dist.append(f(*sample, **func_kwargs))\n/usr/local/lib/python3.7/dist-packages/seaborn/algorithms.py:85: RankWarning: Polyfit may be poorly conditioned\n  boot_dist.append(f(*sample, **func_kwargs))\n/usr/local/lib/python3.7/dist-packages/seaborn/algorithms.py:85: RankWarning: Polyfit may be poorly conditioned\n  boot_dist.append(f(*sample, **func_kwargs))\n/usr/local/lib/python3.7/dist-packages/seaborn/algorithms.py:85: RankWarning: Polyfit may be poorly conditioned\n  boot_dist.append(f(*sample, **func_kwargs))\n/usr/local/lib/python3.7/dist-packages/seaborn/algorithms.py:85: RankWarning: Polyfit may be poorly conditioned\n  boot_dist.append(f(*sample, **func_kwargs))\n/usr/local/lib/python3.7/dist-packages/seaborn/algorithms.py:85: RankWarning: Polyfit may be poorly conditioned\n  boot_dist.append(f(*sample, **func_kwargs))\n/usr/local/lib/python3.7/dist-packages/seaborn/algorithms.py:85: RankWarning: Polyfit may be poorly conditioned\n  boot_dist.append(f(*sample, **func_kwargs))\n/usr/local/lib/python3.7/dist-packages/seaborn/algorithms.py:85: RankWarning: Polyfit may be poorly conditioned\n  boot_dist.append(f(*sample, **func_kwargs))\n/usr/local/lib/python3.7/dist-packages/seaborn/algorithms.py:85: RankWarning: Polyfit may be poorly conditioned\n  boot_dist.append(f(*sample, **func_kwargs))\n/usr/local/lib/python3.7/dist-packages/seaborn/algorithms.py:85: RankWarning: Polyfit may be poorly conditioned\n  boot_dist.append(f(*sample, **func_kwargs))\n/usr/local/lib/python3.7/dist-packages/seaborn/algorithms.py:85: RankWarning: Polyfit may be poorly conditioned\n  boot_dist.append(f(*sample, **func_kwargs))\n/usr/local/lib/python3.7/dist-packages/seaborn/algorithms.py:85: RankWarning: Polyfit may be poorly conditioned\n  boot_dist.append(f(*sample, **func_kwargs))\n/usr/local/lib/python3.7/dist-packages/seaborn/algorithms.py:85: RankWarning: Polyfit may be poorly conditioned\n  boot_dist.append(f(*sample, **func_kwargs))\n/usr/local/lib/python3.7/dist-packages/seaborn/algorithms.py:85: RankWarning: Polyfit may be poorly conditioned\n  boot_dist.append(f(*sample, **func_kwargs))\n/usr/local/lib/python3.7/dist-packages/seaborn/algorithms.py:85: RankWarning: Polyfit may be poorly conditioned\n  boot_dist.append(f(*sample, **func_kwargs))\n/usr/local/lib/python3.7/dist-packages/seaborn/algorithms.py:85: RankWarning: Polyfit may be poorly conditioned\n  boot_dist.append(f(*sample, **func_kwargs))\n/usr/local/lib/python3.7/dist-packages/seaborn/algorithms.py:85: RankWarning: Polyfit may be poorly conditioned\n  boot_dist.append(f(*sample, **func_kwargs))\n/usr/local/lib/python3.7/dist-packages/seaborn/algorithms.py:85: RankWarning: Polyfit may be poorly conditioned\n  boot_dist.append(f(*sample, **func_kwargs))\n/usr/local/lib/python3.7/dist-packages/seaborn/algorithms.py:85: RankWarning: Polyfit may be poorly conditioned\n  boot_dist.append(f(*sample, **func_kwargs))\n/usr/local/lib/python3.7/dist-packages/seaborn/algorithms.py:85: RankWarning: Polyfit may be poorly conditioned\n  boot_dist.append(f(*sample, **func_kwargs))\n/usr/local/lib/python3.7/dist-packages/seaborn/algorithms.py:85: RankWarning: Polyfit may be poorly conditioned\n  boot_dist.append(f(*sample, **func_kwargs))\n",
                "stream": "stderr"
              },
              {
                "output_type": "stream",
                "metadata": {
                  "tags": []
                },
                "text": "/usr/local/lib/python3.7/dist-packages/seaborn/algorithms.py:85: RankWarning: Polyfit may be poorly conditioned\n  boot_dist.append(f(*sample, **func_kwargs))\n/usr/local/lib/python3.7/dist-packages/seaborn/algorithms.py:85: RankWarning: Polyfit may be poorly conditioned\n  boot_dist.append(f(*sample, **func_kwargs))\n/usr/local/lib/python3.7/dist-packages/seaborn/algorithms.py:85: RankWarning: Polyfit may be poorly conditioned\n  boot_dist.append(f(*sample, **func_kwargs))\n/usr/local/lib/python3.7/dist-packages/seaborn/algorithms.py:85: RankWarning: Polyfit may be poorly conditioned\n  boot_dist.append(f(*sample, **func_kwargs))\n/usr/local/lib/python3.7/dist-packages/seaborn/algorithms.py:85: RankWarning: Polyfit may be poorly conditioned\n  boot_dist.append(f(*sample, **func_kwargs))\n/usr/local/lib/python3.7/dist-packages/seaborn/algorithms.py:85: RankWarning: Polyfit may be poorly conditioned\n  boot_dist.append(f(*sample, **func_kwargs))\n/usr/local/lib/python3.7/dist-packages/seaborn/algorithms.py:85: RankWarning: Polyfit may be poorly conditioned\n  boot_dist.append(f(*sample, **func_kwargs))\n/usr/local/lib/python3.7/dist-packages/seaborn/algorithms.py:85: RankWarning: Polyfit may be poorly conditioned\n  boot_dist.append(f(*sample, **func_kwargs))\n/usr/local/lib/python3.7/dist-packages/seaborn/algorithms.py:85: RankWarning: Polyfit may be poorly conditioned\n  boot_dist.append(f(*sample, **func_kwargs))\n/usr/local/lib/python3.7/dist-packages/seaborn/algorithms.py:85: RankWarning: Polyfit may be poorly conditioned\n  boot_dist.append(f(*sample, **func_kwargs))\n/usr/local/lib/python3.7/dist-packages/seaborn/algorithms.py:85: RankWarning: Polyfit may be poorly conditioned\n  boot_dist.append(f(*sample, **func_kwargs))\n/usr/local/lib/python3.7/dist-packages/seaborn/algorithms.py:85: RankWarning: Polyfit may be poorly conditioned\n  boot_dist.append(f(*sample, **func_kwargs))\n/usr/local/lib/python3.7/dist-packages/seaborn/algorithms.py:85: RankWarning: Polyfit may be poorly conditioned\n  boot_dist.append(f(*sample, **func_kwargs))\n/usr/local/lib/python3.7/dist-packages/seaborn/algorithms.py:85: RankWarning: Polyfit may be poorly conditioned\n  boot_dist.append(f(*sample, **func_kwargs))\n/usr/local/lib/python3.7/dist-packages/seaborn/algorithms.py:85: RankWarning: Polyfit may be poorly conditioned\n  boot_dist.append(f(*sample, **func_kwargs))\n/usr/local/lib/python3.7/dist-packages/seaborn/algorithms.py:85: RankWarning: Polyfit may be poorly conditioned\n  boot_dist.append(f(*sample, **func_kwargs))\n/usr/local/lib/python3.7/dist-packages/seaborn/algorithms.py:85: RankWarning: Polyfit may be poorly conditioned\n  boot_dist.append(f(*sample, **func_kwargs))\n/usr/local/lib/python3.7/dist-packages/seaborn/algorithms.py:85: RankWarning: Polyfit may be poorly conditioned\n  boot_dist.append(f(*sample, **func_kwargs))\n/usr/local/lib/python3.7/dist-packages/seaborn/algorithms.py:85: RankWarning: Polyfit may be poorly conditioned\n  boot_dist.append(f(*sample, **func_kwargs))\n/usr/local/lib/python3.7/dist-packages/seaborn/algorithms.py:85: RankWarning: Polyfit may be poorly conditioned\n  boot_dist.append(f(*sample, **func_kwargs))\n/usr/local/lib/python3.7/dist-packages/seaborn/algorithms.py:85: RankWarning: Polyfit may be poorly conditioned\n  boot_dist.append(f(*sample, **func_kwargs))\n/usr/local/lib/python3.7/dist-packages/seaborn/algorithms.py:85: RankWarning: Polyfit may be poorly conditioned\n  boot_dist.append(f(*sample, **func_kwargs))\n/usr/local/lib/python3.7/dist-packages/seaborn/algorithms.py:85: RankWarning: Polyfit may be poorly conditioned\n  boot_dist.append(f(*sample, **func_kwargs))\n/usr/local/lib/python3.7/dist-packages/seaborn/algorithms.py:85: RankWarning: Polyfit may be poorly conditioned\n  boot_dist.append(f(*sample, **func_kwargs))\n/usr/local/lib/python3.7/dist-packages/seaborn/algorithms.py:85: RankWarning: Polyfit may be poorly conditioned\n  boot_dist.append(f(*sample, **func_kwargs))\n/usr/local/lib/python3.7/dist-packages/seaborn/algorithms.py:85: RankWarning: Polyfit may be poorly conditioned\n  boot_dist.append(f(*sample, **func_kwargs))\n/usr/local/lib/python3.7/dist-packages/seaborn/algorithms.py:85: RankWarning: Polyfit may be poorly conditioned\n  boot_dist.append(f(*sample, **func_kwargs))\n/usr/local/lib/python3.7/dist-packages/seaborn/algorithms.py:85: RankWarning: Polyfit may be poorly conditioned\n  boot_dist.append(f(*sample, **func_kwargs))\n/usr/local/lib/python3.7/dist-packages/seaborn/algorithms.py:85: RankWarning: Polyfit may be poorly conditioned\n  boot_dist.append(f(*sample, **func_kwargs))\n/usr/local/lib/python3.7/dist-packages/seaborn/algorithms.py:85: RankWarning: Polyfit may be poorly conditioned\n  boot_dist.append(f(*sample, **func_kwargs))\n/usr/local/lib/python3.7/dist-packages/seaborn/algorithms.py:85: RankWarning: Polyfit may be poorly conditioned\n  boot_dist.append(f(*sample, **func_kwargs))\n/usr/local/lib/python3.7/dist-packages/seaborn/algorithms.py:85: RankWarning: Polyfit may be poorly conditioned\n  boot_dist.append(f(*sample, **func_kwargs))\n/usr/local/lib/python3.7/dist-packages/seaborn/algorithms.py:85: RankWarning: Polyfit may be poorly conditioned\n  boot_dist.append(f(*sample, **func_kwargs))\n/usr/local/lib/python3.7/dist-packages/seaborn/algorithms.py:85: RankWarning: Polyfit may be poorly conditioned\n  boot_dist.append(f(*sample, **func_kwargs))\n/usr/local/lib/python3.7/dist-packages/seaborn/algorithms.py:85: RankWarning: Polyfit may be poorly conditioned\n  boot_dist.append(f(*sample, **func_kwargs))\n/usr/local/lib/python3.7/dist-packages/seaborn/algorithms.py:85: RankWarning: Polyfit may be poorly conditioned\n  boot_dist.append(f(*sample, **func_kwargs))\n/usr/local/lib/python3.7/dist-packages/seaborn/algorithms.py:85: RankWarning: Polyfit may be poorly conditioned\n  boot_dist.append(f(*sample, **func_kwargs))\n/usr/local/lib/python3.7/dist-packages/seaborn/algorithms.py:85: RankWarning: Polyfit may be poorly conditioned\n  boot_dist.append(f(*sample, **func_kwargs))\n/usr/local/lib/python3.7/dist-packages/seaborn/algorithms.py:85: RankWarning: Polyfit may be poorly conditioned\n  boot_dist.append(f(*sample, **func_kwargs))\n/usr/local/lib/python3.7/dist-packages/seaborn/algorithms.py:85: RankWarning: Polyfit may be poorly conditioned\n  boot_dist.append(f(*sample, **func_kwargs))\n/usr/local/lib/python3.7/dist-packages/seaborn/algorithms.py:85: RankWarning: Polyfit may be poorly conditioned\n  boot_dist.append(f(*sample, **func_kwargs))\n/usr/local/lib/python3.7/dist-packages/seaborn/algorithms.py:85: RankWarning: Polyfit may be poorly conditioned\n  boot_dist.append(f(*sample, **func_kwargs))\n/usr/local/lib/python3.7/dist-packages/seaborn/algorithms.py:85: RankWarning: Polyfit may be poorly conditioned\n  boot_dist.append(f(*sample, **func_kwargs))\n/usr/local/lib/python3.7/dist-packages/seaborn/algorithms.py:85: RankWarning: Polyfit may be poorly conditioned\n  boot_dist.append(f(*sample, **func_kwargs))\n/usr/local/lib/python3.7/dist-packages/seaborn/algorithms.py:85: RankWarning: Polyfit may be poorly conditioned\n  boot_dist.append(f(*sample, **func_kwargs))\n/usr/local/lib/python3.7/dist-packages/seaborn/algorithms.py:85: RankWarning: Polyfit may be poorly conditioned\n  boot_dist.append(f(*sample, **func_kwargs))\n/usr/local/lib/python3.7/dist-packages/seaborn/algorithms.py:85: RankWarning: Polyfit may be poorly conditioned\n  boot_dist.append(f(*sample, **func_kwargs))\n/usr/local/lib/python3.7/dist-packages/seaborn/algorithms.py:85: RankWarning: Polyfit may be poorly conditioned\n  boot_dist.append(f(*sample, **func_kwargs))\n/usr/local/lib/python3.7/dist-packages/seaborn/algorithms.py:85: RankWarning: Polyfit may be poorly conditioned\n  boot_dist.append(f(*sample, **func_kwargs))\n/usr/local/lib/python3.7/dist-packages/seaborn/algorithms.py:85: RankWarning: Polyfit may be poorly conditioned\n  boot_dist.append(f(*sample, **func_kwargs))\n/usr/local/lib/python3.7/dist-packages/seaborn/algorithms.py:85: RankWarning: Polyfit may be poorly conditioned\n  boot_dist.append(f(*sample, **func_kwargs))\n/usr/local/lib/python3.7/dist-packages/seaborn/algorithms.py:85: RankWarning: Polyfit may be poorly conditioned\n  boot_dist.append(f(*sample, **func_kwargs))\n/usr/local/lib/python3.7/dist-packages/seaborn/algorithms.py:85: RankWarning: Polyfit may be poorly conditioned\n  boot_dist.append(f(*sample, **func_kwargs))\n/usr/local/lib/python3.7/dist-packages/seaborn/algorithms.py:85: RankWarning: Polyfit may be poorly conditioned\n  boot_dist.append(f(*sample, **func_kwargs))\n/usr/local/lib/python3.7/dist-packages/seaborn/algorithms.py:85: RankWarning: Polyfit may be poorly conditioned\n  boot_dist.append(f(*sample, **func_kwargs))\n/usr/local/lib/python3.7/dist-packages/seaborn/algorithms.py:85: RankWarning: Polyfit may be poorly conditioned\n  boot_dist.append(f(*sample, **func_kwargs))\n/usr/local/lib/python3.7/dist-packages/seaborn/algorithms.py:85: RankWarning: Polyfit may be poorly conditioned\n  boot_dist.append(f(*sample, **func_kwargs))\n/usr/local/lib/python3.7/dist-packages/seaborn/algorithms.py:85: RankWarning: Polyfit may be poorly conditioned\n  boot_dist.append(f(*sample, **func_kwargs))\n/usr/local/lib/python3.7/dist-packages/seaborn/algorithms.py:85: RankWarning: Polyfit may be poorly conditioned\n  boot_dist.append(f(*sample, **func_kwargs))\n/usr/local/lib/python3.7/dist-packages/seaborn/algorithms.py:85: RankWarning: Polyfit may be poorly conditioned\n  boot_dist.append(f(*sample, **func_kwargs))\n/usr/local/lib/python3.7/dist-packages/seaborn/algorithms.py:85: RankWarning: Polyfit may be poorly conditioned\n  boot_dist.append(f(*sample, **func_kwargs))\n/usr/local/lib/python3.7/dist-packages/seaborn/algorithms.py:85: RankWarning: Polyfit may be poorly conditioned\n  boot_dist.append(f(*sample, **func_kwargs))\n/usr/local/lib/python3.7/dist-packages/seaborn/algorithms.py:85: RankWarning: Polyfit may be poorly conditioned\n  boot_dist.append(f(*sample, **func_kwargs))\n/usr/local/lib/python3.7/dist-packages/seaborn/algorithms.py:85: RankWarning: Polyfit may be poorly conditioned\n  boot_dist.append(f(*sample, **func_kwargs))\n/usr/local/lib/python3.7/dist-packages/seaborn/algorithms.py:85: RankWarning: Polyfit may be poorly conditioned\n  boot_dist.append(f(*sample, **func_kwargs))\n/usr/local/lib/python3.7/dist-packages/seaborn/algorithms.py:85: RankWarning: Polyfit may be poorly conditioned\n  boot_dist.append(f(*sample, **func_kwargs))\n/usr/local/lib/python3.7/dist-packages/seaborn/algorithms.py:85: RankWarning: Polyfit may be poorly conditioned\n  boot_dist.append(f(*sample, **func_kwargs))\n/usr/local/lib/python3.7/dist-packages/seaborn/algorithms.py:85: RankWarning: Polyfit may be poorly conditioned\n  boot_dist.append(f(*sample, **func_kwargs))\n/usr/local/lib/python3.7/dist-packages/seaborn/algorithms.py:85: RankWarning: Polyfit may be poorly conditioned\n  boot_dist.append(f(*sample, **func_kwargs))\n/usr/local/lib/python3.7/dist-packages/seaborn/algorithms.py:85: RankWarning: Polyfit may be poorly conditioned\n  boot_dist.append(f(*sample, **func_kwargs))\n/usr/local/lib/python3.7/dist-packages/seaborn/algorithms.py:85: RankWarning: Polyfit may be poorly conditioned\n  boot_dist.append(f(*sample, **func_kwargs))\n/usr/local/lib/python3.7/dist-packages/seaborn/algorithms.py:85: RankWarning: Polyfit may be poorly conditioned\n  boot_dist.append(f(*sample, **func_kwargs))\n/usr/local/lib/python3.7/dist-packages/seaborn/algorithms.py:85: RankWarning: Polyfit may be poorly conditioned\n  boot_dist.append(f(*sample, **func_kwargs))\n/usr/local/lib/python3.7/dist-packages/seaborn/algorithms.py:85: RankWarning: Polyfit may be poorly conditioned\n  boot_dist.append(f(*sample, **func_kwargs))\n/usr/local/lib/python3.7/dist-packages/seaborn/algorithms.py:85: RankWarning: Polyfit may be poorly conditioned\n  boot_dist.append(f(*sample, **func_kwargs))\n/usr/local/lib/python3.7/dist-packages/seaborn/algorithms.py:85: RankWarning: Polyfit may be poorly conditioned\n  boot_dist.append(f(*sample, **func_kwargs))\n/usr/local/lib/python3.7/dist-packages/seaborn/algorithms.py:85: RankWarning: Polyfit may be poorly conditioned\n  boot_dist.append(f(*sample, **func_kwargs))\n/usr/local/lib/python3.7/dist-packages/seaborn/algorithms.py:85: RankWarning: Polyfit may be poorly conditioned\n  boot_dist.append(f(*sample, **func_kwargs))\n/usr/local/lib/python3.7/dist-packages/seaborn/algorithms.py:85: RankWarning: Polyfit may be poorly conditioned\n  boot_dist.append(f(*sample, **func_kwargs))\n/usr/local/lib/python3.7/dist-packages/seaborn/algorithms.py:85: RankWarning: Polyfit may be poorly conditioned\n  boot_dist.append(f(*sample, **func_kwargs))\n/usr/local/lib/python3.7/dist-packages/seaborn/algorithms.py:85: RankWarning: Polyfit may be poorly conditioned\n  boot_dist.append(f(*sample, **func_kwargs))\n/usr/local/lib/python3.7/dist-packages/seaborn/algorithms.py:85: RankWarning: Polyfit may be poorly conditioned\n  boot_dist.append(f(*sample, **func_kwargs))\n/usr/local/lib/python3.7/dist-packages/seaborn/algorithms.py:85: RankWarning: Polyfit may be poorly conditioned\n  boot_dist.append(f(*sample, **func_kwargs))\n/usr/local/lib/python3.7/dist-packages/seaborn/algorithms.py:85: RankWarning: Polyfit may be poorly conditioned\n  boot_dist.append(f(*sample, **func_kwargs))\n/usr/local/lib/python3.7/dist-packages/seaborn/algorithms.py:85: RankWarning: Polyfit may be poorly conditioned\n  boot_dist.append(f(*sample, **func_kwargs))\n/usr/local/lib/python3.7/dist-packages/seaborn/algorithms.py:85: RankWarning: Polyfit may be poorly conditioned\n  boot_dist.append(f(*sample, **func_kwargs))\n/usr/local/lib/python3.7/dist-packages/seaborn/algorithms.py:85: RankWarning: Polyfit may be poorly conditioned\n  boot_dist.append(f(*sample, **func_kwargs))\n/usr/local/lib/python3.7/dist-packages/seaborn/algorithms.py:85: RankWarning: Polyfit may be poorly conditioned\n  boot_dist.append(f(*sample, **func_kwargs))\n/usr/local/lib/python3.7/dist-packages/seaborn/algorithms.py:85: RankWarning: Polyfit may be poorly conditioned\n  boot_dist.append(f(*sample, **func_kwargs))\n/usr/local/lib/python3.7/dist-packages/seaborn/algorithms.py:85: RankWarning: Polyfit may be poorly conditioned\n  boot_dist.append(f(*sample, **func_kwargs))\n/usr/local/lib/python3.7/dist-packages/seaborn/algorithms.py:85: RankWarning: Polyfit may be poorly conditioned\n  boot_dist.append(f(*sample, **func_kwargs))\n/usr/local/lib/python3.7/dist-packages/seaborn/algorithms.py:85: RankWarning: Polyfit may be poorly conditioned\n  boot_dist.append(f(*sample, **func_kwargs))\n/usr/local/lib/python3.7/dist-packages/seaborn/algorithms.py:85: RankWarning: Polyfit may be poorly conditioned\n  boot_dist.append(f(*sample, **func_kwargs))\n/usr/local/lib/python3.7/dist-packages/seaborn/algorithms.py:85: RankWarning: Polyfit may be poorly conditioned\n  boot_dist.append(f(*sample, **func_kwargs))\n/usr/local/lib/python3.7/dist-packages/seaborn/algorithms.py:85: RankWarning: Polyfit may be poorly conditioned\n  boot_dist.append(f(*sample, **func_kwargs))\n/usr/local/lib/python3.7/dist-packages/seaborn/algorithms.py:85: RankWarning: Polyfit may be poorly conditioned\n  boot_dist.append(f(*sample, **func_kwargs))\n/usr/local/lib/python3.7/dist-packages/seaborn/algorithms.py:85: RankWarning: Polyfit may be poorly conditioned\n  boot_dist.append(f(*sample, **func_kwargs))\n/usr/local/lib/python3.7/dist-packages/seaborn/algorithms.py:85: RankWarning: Polyfit may be poorly conditioned\n  boot_dist.append(f(*sample, **func_kwargs))\n/usr/local/lib/python3.7/dist-packages/seaborn/algorithms.py:85: RankWarning: Polyfit may be poorly conditioned\n  boot_dist.append(f(*sample, **func_kwargs))\n/usr/local/lib/python3.7/dist-packages/seaborn/algorithms.py:85: RankWarning: Polyfit may be poorly conditioned\n  boot_dist.append(f(*sample, **func_kwargs))\n/usr/local/lib/python3.7/dist-packages/seaborn/algorithms.py:85: RankWarning: Polyfit may be poorly conditioned\n  boot_dist.append(f(*sample, **func_kwargs))\n/usr/local/lib/python3.7/dist-packages/seaborn/algorithms.py:85: RankWarning: Polyfit may be poorly conditioned\n  boot_dist.append(f(*sample, **func_kwargs))\n/usr/local/lib/python3.7/dist-packages/seaborn/algorithms.py:85: RankWarning: Polyfit may be poorly conditioned\n  boot_dist.append(f(*sample, **func_kwargs))\n/usr/local/lib/python3.7/dist-packages/seaborn/algorithms.py:85: RankWarning: Polyfit may be poorly conditioned\n  boot_dist.append(f(*sample, **func_kwargs))\n/usr/local/lib/python3.7/dist-packages/seaborn/algorithms.py:85: RankWarning: Polyfit may be poorly conditioned\n  boot_dist.append(f(*sample, **func_kwargs))\n/usr/local/lib/python3.7/dist-packages/seaborn/algorithms.py:85: RankWarning: Polyfit may be poorly conditioned\n  boot_dist.append(f(*sample, **func_kwargs))\n/usr/local/lib/python3.7/dist-packages/seaborn/algorithms.py:85: RankWarning: Polyfit may be poorly conditioned\n  boot_dist.append(f(*sample, **func_kwargs))\n/usr/local/lib/python3.7/dist-packages/seaborn/algorithms.py:85: RankWarning: Polyfit may be poorly conditioned\n  boot_dist.append(f(*sample, **func_kwargs))\n/usr/local/lib/python3.7/dist-packages/seaborn/algorithms.py:85: RankWarning: Polyfit may be poorly conditioned\n  boot_dist.append(f(*sample, **func_kwargs))\n/usr/local/lib/python3.7/dist-packages/seaborn/algorithms.py:85: RankWarning: Polyfit may be poorly conditioned\n  boot_dist.append(f(*sample, **func_kwargs))\n/usr/local/lib/python3.7/dist-packages/seaborn/algorithms.py:85: RankWarning: Polyfit may be poorly conditioned\n  boot_dist.append(f(*sample, **func_kwargs))\n/usr/local/lib/python3.7/dist-packages/seaborn/algorithms.py:85: RankWarning: Polyfit may be poorly conditioned\n  boot_dist.append(f(*sample, **func_kwargs))\n/usr/local/lib/python3.7/dist-packages/seaborn/algorithms.py:85: RankWarning: Polyfit may be poorly conditioned\n  boot_dist.append(f(*sample, **func_kwargs))\n/usr/local/lib/python3.7/dist-packages/seaborn/algorithms.py:85: RankWarning: Polyfit may be poorly conditioned\n  boot_dist.append(f(*sample, **func_kwargs))\n/usr/local/lib/python3.7/dist-packages/seaborn/algorithms.py:85: RankWarning: Polyfit may be poorly conditioned\n  boot_dist.append(f(*sample, **func_kwargs))\n/usr/local/lib/python3.7/dist-packages/seaborn/algorithms.py:85: RankWarning: Polyfit may be poorly conditioned\n  boot_dist.append(f(*sample, **func_kwargs))\n/usr/local/lib/python3.7/dist-packages/seaborn/algorithms.py:85: RankWarning: Polyfit may be poorly conditioned\n  boot_dist.append(f(*sample, **func_kwargs))\n/usr/local/lib/python3.7/dist-packages/seaborn/algorithms.py:85: RankWarning: Polyfit may be poorly conditioned\n  boot_dist.append(f(*sample, **func_kwargs))\n/usr/local/lib/python3.7/dist-packages/seaborn/algorithms.py:85: RankWarning: Polyfit may be poorly conditioned\n  boot_dist.append(f(*sample, **func_kwargs))\n/usr/local/lib/python3.7/dist-packages/seaborn/algorithms.py:85: RankWarning: Polyfit may be poorly conditioned\n  boot_dist.append(f(*sample, **func_kwargs))\n/usr/local/lib/python3.7/dist-packages/seaborn/algorithms.py:85: RankWarning: Polyfit may be poorly conditioned\n  boot_dist.append(f(*sample, **func_kwargs))\n/usr/local/lib/python3.7/dist-packages/seaborn/algorithms.py:85: RankWarning: Polyfit may be poorly conditioned\n  boot_dist.append(f(*sample, **func_kwargs))\n/usr/local/lib/python3.7/dist-packages/seaborn/algorithms.py:85: RankWarning: Polyfit may be poorly conditioned\n  boot_dist.append(f(*sample, **func_kwargs))\n/usr/local/lib/python3.7/dist-packages/seaborn/algorithms.py:85: RankWarning: Polyfit may be poorly conditioned\n  boot_dist.append(f(*sample, **func_kwargs))\n/usr/local/lib/python3.7/dist-packages/seaborn/algorithms.py:85: RankWarning: Polyfit may be poorly conditioned\n  boot_dist.append(f(*sample, **func_kwargs))\n/usr/local/lib/python3.7/dist-packages/seaborn/algorithms.py:85: RankWarning: Polyfit may be poorly conditioned\n  boot_dist.append(f(*sample, **func_kwargs))\n/usr/local/lib/python3.7/dist-packages/seaborn/algorithms.py:85: RankWarning: Polyfit may be poorly conditioned\n  boot_dist.append(f(*sample, **func_kwargs))\n/usr/local/lib/python3.7/dist-packages/seaborn/algorithms.py:85: RankWarning: Polyfit may be poorly conditioned\n  boot_dist.append(f(*sample, **func_kwargs))\n/usr/local/lib/python3.7/dist-packages/seaborn/algorithms.py:85: RankWarning: Polyfit may be poorly conditioned\n  boot_dist.append(f(*sample, **func_kwargs))\n/usr/local/lib/python3.7/dist-packages/seaborn/algorithms.py:85: RankWarning: Polyfit may be poorly conditioned\n  boot_dist.append(f(*sample, **func_kwargs))\n/usr/local/lib/python3.7/dist-packages/seaborn/algorithms.py:85: RankWarning: Polyfit may be poorly conditioned\n  boot_dist.append(f(*sample, **func_kwargs))\n/usr/local/lib/python3.7/dist-packages/seaborn/algorithms.py:85: RankWarning: Polyfit may be poorly conditioned\n  boot_dist.append(f(*sample, **func_kwargs))\n/usr/local/lib/python3.7/dist-packages/seaborn/algorithms.py:85: RankWarning: Polyfit may be poorly conditioned\n  boot_dist.append(f(*sample, **func_kwargs))\n/usr/local/lib/python3.7/dist-packages/seaborn/algorithms.py:85: RankWarning: Polyfit may be poorly conditioned\n  boot_dist.append(f(*sample, **func_kwargs))\n/usr/local/lib/python3.7/dist-packages/seaborn/algorithms.py:85: RankWarning: Polyfit may be poorly conditioned\n  boot_dist.append(f(*sample, **func_kwargs))\n/usr/local/lib/python3.7/dist-packages/seaborn/algorithms.py:85: RankWarning: Polyfit may be poorly conditioned\n  boot_dist.append(f(*sample, **func_kwargs))\n/usr/local/lib/python3.7/dist-packages/seaborn/algorithms.py:85: RankWarning: Polyfit may be poorly conditioned\n  boot_dist.append(f(*sample, **func_kwargs))\n/usr/local/lib/python3.7/dist-packages/seaborn/algorithms.py:85: RankWarning: Polyfit may be poorly conditioned\n  boot_dist.append(f(*sample, **func_kwargs))\n/usr/local/lib/python3.7/dist-packages/seaborn/algorithms.py:85: RankWarning: Polyfit may be poorly conditioned\n  boot_dist.append(f(*sample, **func_kwargs))\n/usr/local/lib/python3.7/dist-packages/seaborn/algorithms.py:85: RankWarning: Polyfit may be poorly conditioned\n  boot_dist.append(f(*sample, **func_kwargs))\n/usr/local/lib/python3.7/dist-packages/seaborn/algorithms.py:85: RankWarning: Polyfit may be poorly conditioned\n  boot_dist.append(f(*sample, **func_kwargs))\n/usr/local/lib/python3.7/dist-packages/seaborn/algorithms.py:85: RankWarning: Polyfit may be poorly conditioned\n  boot_dist.append(f(*sample, **func_kwargs))\n/usr/local/lib/python3.7/dist-packages/seaborn/algorithms.py:85: RankWarning: Polyfit may be poorly conditioned\n  boot_dist.append(f(*sample, **func_kwargs))\n/usr/local/lib/python3.7/dist-packages/seaborn/algorithms.py:85: RankWarning: Polyfit may be poorly conditioned\n  boot_dist.append(f(*sample, **func_kwargs))\n/usr/local/lib/python3.7/dist-packages/seaborn/algorithms.py:85: RankWarning: Polyfit may be poorly conditioned\n  boot_dist.append(f(*sample, **func_kwargs))\n/usr/local/lib/python3.7/dist-packages/seaborn/algorithms.py:85: RankWarning: Polyfit may be poorly conditioned\n  boot_dist.append(f(*sample, **func_kwargs))\n/usr/local/lib/python3.7/dist-packages/seaborn/algorithms.py:85: RankWarning: Polyfit may be poorly conditioned\n  boot_dist.append(f(*sample, **func_kwargs))\n/usr/local/lib/python3.7/dist-packages/seaborn/algorithms.py:85: RankWarning: Polyfit may be poorly conditioned\n  boot_dist.append(f(*sample, **func_kwargs))\n/usr/local/lib/python3.7/dist-packages/seaborn/algorithms.py:85: RankWarning: Polyfit may be poorly conditioned\n  boot_dist.append(f(*sample, **func_kwargs))\n/usr/local/lib/python3.7/dist-packages/seaborn/algorithms.py:85: RankWarning: Polyfit may be poorly conditioned\n  boot_dist.append(f(*sample, **func_kwargs))\n/usr/local/lib/python3.7/dist-packages/seaborn/algorithms.py:85: RankWarning: Polyfit may be poorly conditioned\n  boot_dist.append(f(*sample, **func_kwargs))\n/usr/local/lib/python3.7/dist-packages/seaborn/algorithms.py:85: RankWarning: Polyfit may be poorly conditioned\n  boot_dist.append(f(*sample, **func_kwargs))\n/usr/local/lib/python3.7/dist-packages/seaborn/algorithms.py:85: RankWarning: Polyfit may be poorly conditioned\n  boot_dist.append(f(*sample, **func_kwargs))\n/usr/local/lib/python3.7/dist-packages/seaborn/algorithms.py:85: RankWarning: Polyfit may be poorly conditioned\n  boot_dist.append(f(*sample, **func_kwargs))\n/usr/local/lib/python3.7/dist-packages/seaborn/algorithms.py:85: RankWarning: Polyfit may be poorly conditioned\n  boot_dist.append(f(*sample, **func_kwargs))\n/usr/local/lib/python3.7/dist-packages/seaborn/algorithms.py:85: RankWarning: Polyfit may be poorly conditioned\n  boot_dist.append(f(*sample, **func_kwargs))\n/usr/local/lib/python3.7/dist-packages/seaborn/algorithms.py:85: RankWarning: Polyfit may be poorly conditioned\n  boot_dist.append(f(*sample, **func_kwargs))\n/usr/local/lib/python3.7/dist-packages/seaborn/algorithms.py:85: RankWarning: Polyfit may be poorly conditioned\n  boot_dist.append(f(*sample, **func_kwargs))\n/usr/local/lib/python3.7/dist-packages/seaborn/algorithms.py:85: RankWarning: Polyfit may be poorly conditioned\n  boot_dist.append(f(*sample, **func_kwargs))\n/usr/local/lib/python3.7/dist-packages/seaborn/algorithms.py:85: RankWarning: Polyfit may be poorly conditioned\n  boot_dist.append(f(*sample, **func_kwargs))\n/usr/local/lib/python3.7/dist-packages/seaborn/algorithms.py:85: RankWarning: Polyfit may be poorly conditioned\n  boot_dist.append(f(*sample, **func_kwargs))\n/usr/local/lib/python3.7/dist-packages/seaborn/algorithms.py:85: RankWarning: Polyfit may be poorly conditioned\n  boot_dist.append(f(*sample, **func_kwargs))\n/usr/local/lib/python3.7/dist-packages/seaborn/algorithms.py:85: RankWarning: Polyfit may be poorly conditioned\n  boot_dist.append(f(*sample, **func_kwargs))\n/usr/local/lib/python3.7/dist-packages/seaborn/algorithms.py:85: RankWarning: Polyfit may be poorly conditioned\n  boot_dist.append(f(*sample, **func_kwargs))\n/usr/local/lib/python3.7/dist-packages/seaborn/algorithms.py:85: RankWarning: Polyfit may be poorly conditioned\n  boot_dist.append(f(*sample, **func_kwargs))\n/usr/local/lib/python3.7/dist-packages/seaborn/algorithms.py:85: RankWarning: Polyfit may be poorly conditioned\n  boot_dist.append(f(*sample, **func_kwargs))\n/usr/local/lib/python3.7/dist-packages/seaborn/algorithms.py:85: RankWarning: Polyfit may be poorly conditioned\n  boot_dist.append(f(*sample, **func_kwargs))\n/usr/local/lib/python3.7/dist-packages/seaborn/algorithms.py:85: RankWarning: Polyfit may be poorly conditioned\n  boot_dist.append(f(*sample, **func_kwargs))\n/usr/local/lib/python3.7/dist-packages/seaborn/algorithms.py:85: RankWarning: Polyfit may be poorly conditioned\n  boot_dist.append(f(*sample, **func_kwargs))\n/usr/local/lib/python3.7/dist-packages/seaborn/algorithms.py:85: RankWarning: Polyfit may be poorly conditioned\n  boot_dist.append(f(*sample, **func_kwargs))\n/usr/local/lib/python3.7/dist-packages/seaborn/algorithms.py:85: RankWarning: Polyfit may be poorly conditioned\n  boot_dist.append(f(*sample, **func_kwargs))\n/usr/local/lib/python3.7/dist-packages/seaborn/algorithms.py:85: RankWarning: Polyfit may be poorly conditioned\n  boot_dist.append(f(*sample, **func_kwargs))\n/usr/local/lib/python3.7/dist-packages/seaborn/algorithms.py:85: RankWarning: Polyfit may be poorly conditioned\n  boot_dist.append(f(*sample, **func_kwargs))\n/usr/local/lib/python3.7/dist-packages/seaborn/algorithms.py:85: RankWarning: Polyfit may be poorly conditioned\n  boot_dist.append(f(*sample, **func_kwargs))\n/usr/local/lib/python3.7/dist-packages/seaborn/algorithms.py:85: RankWarning: Polyfit may be poorly conditioned\n  boot_dist.append(f(*sample, **func_kwargs))\n/usr/local/lib/python3.7/dist-packages/seaborn/algorithms.py:85: RankWarning: Polyfit may be poorly conditioned\n  boot_dist.append(f(*sample, **func_kwargs))\n/usr/local/lib/python3.7/dist-packages/seaborn/algorithms.py:85: RankWarning: Polyfit may be poorly conditioned\n  boot_dist.append(f(*sample, **func_kwargs))\n/usr/local/lib/python3.7/dist-packages/seaborn/algorithms.py:85: RankWarning: Polyfit may be poorly conditioned\n  boot_dist.append(f(*sample, **func_kwargs))\n/usr/local/lib/python3.7/dist-packages/seaborn/algorithms.py:85: RankWarning: Polyfit may be poorly conditioned\n  boot_dist.append(f(*sample, **func_kwargs))\n/usr/local/lib/python3.7/dist-packages/seaborn/algorithms.py:85: RankWarning: Polyfit may be poorly conditioned\n  boot_dist.append(f(*sample, **func_kwargs))\n/usr/local/lib/python3.7/dist-packages/seaborn/algorithms.py:85: RankWarning: Polyfit may be poorly conditioned\n  boot_dist.append(f(*sample, **func_kwargs))\n/usr/local/lib/python3.7/dist-packages/seaborn/algorithms.py:85: RankWarning: Polyfit may be poorly conditioned\n  boot_dist.append(f(*sample, **func_kwargs))\n/usr/local/lib/python3.7/dist-packages/seaborn/algorithms.py:85: RankWarning: Polyfit may be poorly conditioned\n  boot_dist.append(f(*sample, **func_kwargs))\n/usr/local/lib/python3.7/dist-packages/seaborn/algorithms.py:85: RankWarning: Polyfit may be poorly conditioned\n  boot_dist.append(f(*sample, **func_kwargs))\n/usr/local/lib/python3.7/dist-packages/seaborn/algorithms.py:85: RankWarning: Polyfit may be poorly conditioned\n  boot_dist.append(f(*sample, **func_kwargs))\n/usr/local/lib/python3.7/dist-packages/seaborn/algorithms.py:85: RankWarning: Polyfit may be poorly conditioned\n  boot_dist.append(f(*sample, **func_kwargs))\n/usr/local/lib/python3.7/dist-packages/seaborn/algorithms.py:85: RankWarning: Polyfit may be poorly conditioned\n  boot_dist.append(f(*sample, **func_kwargs))\n/usr/local/lib/python3.7/dist-packages/seaborn/algorithms.py:85: RankWarning: Polyfit may be poorly conditioned\n  boot_dist.append(f(*sample, **func_kwargs))\n/usr/local/lib/python3.7/dist-packages/seaborn/algorithms.py:85: RankWarning: Polyfit may be poorly conditioned\n  boot_dist.append(f(*sample, **func_kwargs))\n/usr/local/lib/python3.7/dist-packages/seaborn/algorithms.py:85: RankWarning: Polyfit may be poorly conditioned\n  boot_dist.append(f(*sample, **func_kwargs))\n/usr/local/lib/python3.7/dist-packages/seaborn/algorithms.py:85: RankWarning: Polyfit may be poorly conditioned\n  boot_dist.append(f(*sample, **func_kwargs))\n/usr/local/lib/python3.7/dist-packages/seaborn/algorithms.py:85: RankWarning: Polyfit may be poorly conditioned\n  boot_dist.append(f(*sample, **func_kwargs))\n/usr/local/lib/python3.7/dist-packages/seaborn/algorithms.py:85: RankWarning: Polyfit may be poorly conditioned\n  boot_dist.append(f(*sample, **func_kwargs))\n/usr/local/lib/python3.7/dist-packages/seaborn/algorithms.py:85: RankWarning: Polyfit may be poorly conditioned\n  boot_dist.append(f(*sample, **func_kwargs))\n/usr/local/lib/python3.7/dist-packages/seaborn/algorithms.py:85: RankWarning: Polyfit may be poorly conditioned\n  boot_dist.append(f(*sample, **func_kwargs))\n/usr/local/lib/python3.7/dist-packages/seaborn/algorithms.py:85: RankWarning: Polyfit may be poorly conditioned\n  boot_dist.append(f(*sample, **func_kwargs))\n/usr/local/lib/python3.7/dist-packages/seaborn/algorithms.py:85: RankWarning: Polyfit may be poorly conditioned\n  boot_dist.append(f(*sample, **func_kwargs))\n/usr/local/lib/python3.7/dist-packages/seaborn/algorithms.py:85: RankWarning: Polyfit may be poorly conditioned\n  boot_dist.append(f(*sample, **func_kwargs))\n/usr/local/lib/python3.7/dist-packages/seaborn/algorithms.py:85: RankWarning: Polyfit may be poorly conditioned\n  boot_dist.append(f(*sample, **func_kwargs))\n/usr/local/lib/python3.7/dist-packages/seaborn/algorithms.py:85: RankWarning: Polyfit may be poorly conditioned\n  boot_dist.append(f(*sample, **func_kwargs))\n/usr/local/lib/python3.7/dist-packages/seaborn/algorithms.py:85: RankWarning: Polyfit may be poorly conditioned\n  boot_dist.append(f(*sample, **func_kwargs))\n/usr/local/lib/python3.7/dist-packages/seaborn/algorithms.py:85: RankWarning: Polyfit may be poorly conditioned\n  boot_dist.append(f(*sample, **func_kwargs))\n/usr/local/lib/python3.7/dist-packages/seaborn/algorithms.py:85: RankWarning: Polyfit may be poorly conditioned\n  boot_dist.append(f(*sample, **func_kwargs))\n/usr/local/lib/python3.7/dist-packages/seaborn/algorithms.py:85: RankWarning: Polyfit may be poorly conditioned\n  boot_dist.append(f(*sample, **func_kwargs))\n/usr/local/lib/python3.7/dist-packages/seaborn/algorithms.py:85: RankWarning: Polyfit may be poorly conditioned\n  boot_dist.append(f(*sample, **func_kwargs))\n/usr/local/lib/python3.7/dist-packages/seaborn/algorithms.py:85: RankWarning: Polyfit may be poorly conditioned\n  boot_dist.append(f(*sample, **func_kwargs))\n/usr/local/lib/python3.7/dist-packages/seaborn/algorithms.py:85: RankWarning: Polyfit may be poorly conditioned\n  boot_dist.append(f(*sample, **func_kwargs))\n/usr/local/lib/python3.7/dist-packages/seaborn/algorithms.py:85: RankWarning: Polyfit may be poorly conditioned\n  boot_dist.append(f(*sample, **func_kwargs))\n/usr/local/lib/python3.7/dist-packages/seaborn/algorithms.py:85: RankWarning: Polyfit may be poorly conditioned\n  boot_dist.append(f(*sample, **func_kwargs))\n/usr/local/lib/python3.7/dist-packages/seaborn/algorithms.py:85: RankWarning: Polyfit may be poorly conditioned\n  boot_dist.append(f(*sample, **func_kwargs))\n/usr/local/lib/python3.7/dist-packages/seaborn/algorithms.py:85: RankWarning: Polyfit may be poorly conditioned\n  boot_dist.append(f(*sample, **func_kwargs))\n/usr/local/lib/python3.7/dist-packages/seaborn/algorithms.py:85: RankWarning: Polyfit may be poorly conditioned\n  boot_dist.append(f(*sample, **func_kwargs))\n/usr/local/lib/python3.7/dist-packages/seaborn/algorithms.py:85: RankWarning: Polyfit may be poorly conditioned\n  boot_dist.append(f(*sample, **func_kwargs))\n/usr/local/lib/python3.7/dist-packages/seaborn/algorithms.py:85: RankWarning: Polyfit may be poorly conditioned\n  boot_dist.append(f(*sample, **func_kwargs))\n/usr/local/lib/python3.7/dist-packages/seaborn/algorithms.py:85: RankWarning: Polyfit may be poorly conditioned\n  boot_dist.append(f(*sample, **func_kwargs))\n/usr/local/lib/python3.7/dist-packages/seaborn/algorithms.py:85: RankWarning: Polyfit may be poorly conditioned\n  boot_dist.append(f(*sample, **func_kwargs))\n/usr/local/lib/python3.7/dist-packages/seaborn/algorithms.py:85: RankWarning: Polyfit may be poorly conditioned\n  boot_dist.append(f(*sample, **func_kwargs))\n/usr/local/lib/python3.7/dist-packages/seaborn/algorithms.py:85: RankWarning: Polyfit may be poorly conditioned\n  boot_dist.append(f(*sample, **func_kwargs))\n/usr/local/lib/python3.7/dist-packages/seaborn/algorithms.py:85: RankWarning: Polyfit may be poorly conditioned\n  boot_dist.append(f(*sample, **func_kwargs))\n/usr/local/lib/python3.7/dist-packages/seaborn/algorithms.py:85: RankWarning: Polyfit may be poorly conditioned\n  boot_dist.append(f(*sample, **func_kwargs))\n/usr/local/lib/python3.7/dist-packages/seaborn/algorithms.py:85: RankWarning: Polyfit may be poorly conditioned\n  boot_dist.append(f(*sample, **func_kwargs))\n/usr/local/lib/python3.7/dist-packages/seaborn/algorithms.py:85: RankWarning: Polyfit may be poorly conditioned\n  boot_dist.append(f(*sample, **func_kwargs))\n/usr/local/lib/python3.7/dist-packages/seaborn/algorithms.py:85: RankWarning: Polyfit may be poorly conditioned\n  boot_dist.append(f(*sample, **func_kwargs))\n/usr/local/lib/python3.7/dist-packages/seaborn/algorithms.py:85: RankWarning: Polyfit may be poorly conditioned\n  boot_dist.append(f(*sample, **func_kwargs))\n",
                "stream": "stderr"
              },
              {
                "output_type": "stream",
                "metadata": {
                  "tags": []
                },
                "text": "/usr/local/lib/python3.7/dist-packages/seaborn/algorithms.py:85: RankWarning: Polyfit may be poorly conditioned\n  boot_dist.append(f(*sample, **func_kwargs))\n/usr/local/lib/python3.7/dist-packages/seaborn/algorithms.py:85: RankWarning: Polyfit may be poorly conditioned\n  boot_dist.append(f(*sample, **func_kwargs))\n/usr/local/lib/python3.7/dist-packages/seaborn/algorithms.py:85: RankWarning: Polyfit may be poorly conditioned\n  boot_dist.append(f(*sample, **func_kwargs))\n/usr/local/lib/python3.7/dist-packages/seaborn/algorithms.py:85: RankWarning: Polyfit may be poorly conditioned\n  boot_dist.append(f(*sample, **func_kwargs))\n/usr/local/lib/python3.7/dist-packages/seaborn/algorithms.py:85: RankWarning: Polyfit may be poorly conditioned\n  boot_dist.append(f(*sample, **func_kwargs))\n/usr/local/lib/python3.7/dist-packages/seaborn/algorithms.py:85: RankWarning: Polyfit may be poorly conditioned\n  boot_dist.append(f(*sample, **func_kwargs))\n/usr/local/lib/python3.7/dist-packages/seaborn/algorithms.py:85: RankWarning: Polyfit may be poorly conditioned\n  boot_dist.append(f(*sample, **func_kwargs))\n/usr/local/lib/python3.7/dist-packages/seaborn/algorithms.py:85: RankWarning: Polyfit may be poorly conditioned\n  boot_dist.append(f(*sample, **func_kwargs))\n/usr/local/lib/python3.7/dist-packages/seaborn/algorithms.py:85: RankWarning: Polyfit may be poorly conditioned\n  boot_dist.append(f(*sample, **func_kwargs))\n/usr/local/lib/python3.7/dist-packages/seaborn/algorithms.py:85: RankWarning: Polyfit may be poorly conditioned\n  boot_dist.append(f(*sample, **func_kwargs))\n/usr/local/lib/python3.7/dist-packages/seaborn/algorithms.py:85: RankWarning: Polyfit may be poorly conditioned\n  boot_dist.append(f(*sample, **func_kwargs))\n/usr/local/lib/python3.7/dist-packages/seaborn/algorithms.py:85: RankWarning: Polyfit may be poorly conditioned\n  boot_dist.append(f(*sample, **func_kwargs))\n/usr/local/lib/python3.7/dist-packages/seaborn/algorithms.py:85: RankWarning: Polyfit may be poorly conditioned\n  boot_dist.append(f(*sample, **func_kwargs))\n/usr/local/lib/python3.7/dist-packages/seaborn/algorithms.py:85: RankWarning: Polyfit may be poorly conditioned\n  boot_dist.append(f(*sample, **func_kwargs))\n/usr/local/lib/python3.7/dist-packages/seaborn/algorithms.py:85: RankWarning: Polyfit may be poorly conditioned\n  boot_dist.append(f(*sample, **func_kwargs))\n/usr/local/lib/python3.7/dist-packages/seaborn/algorithms.py:85: RankWarning: Polyfit may be poorly conditioned\n  boot_dist.append(f(*sample, **func_kwargs))\n/usr/local/lib/python3.7/dist-packages/seaborn/algorithms.py:85: RankWarning: Polyfit may be poorly conditioned\n  boot_dist.append(f(*sample, **func_kwargs))\n/usr/local/lib/python3.7/dist-packages/seaborn/algorithms.py:85: RankWarning: Polyfit may be poorly conditioned\n  boot_dist.append(f(*sample, **func_kwargs))\n/usr/local/lib/python3.7/dist-packages/seaborn/algorithms.py:85: RankWarning: Polyfit may be poorly conditioned\n  boot_dist.append(f(*sample, **func_kwargs))\n/usr/local/lib/python3.7/dist-packages/seaborn/algorithms.py:85: RankWarning: Polyfit may be poorly conditioned\n  boot_dist.append(f(*sample, **func_kwargs))\n/usr/local/lib/python3.7/dist-packages/seaborn/algorithms.py:85: RankWarning: Polyfit may be poorly conditioned\n  boot_dist.append(f(*sample, **func_kwargs))\n/usr/local/lib/python3.7/dist-packages/seaborn/algorithms.py:85: RankWarning: Polyfit may be poorly conditioned\n  boot_dist.append(f(*sample, **func_kwargs))\n/usr/local/lib/python3.7/dist-packages/seaborn/algorithms.py:85: RankWarning: Polyfit may be poorly conditioned\n  boot_dist.append(f(*sample, **func_kwargs))\n/usr/local/lib/python3.7/dist-packages/seaborn/algorithms.py:85: RankWarning: Polyfit may be poorly conditioned\n  boot_dist.append(f(*sample, **func_kwargs))\n/usr/local/lib/python3.7/dist-packages/seaborn/algorithms.py:85: RankWarning: Polyfit may be poorly conditioned\n  boot_dist.append(f(*sample, **func_kwargs))\n/usr/local/lib/python3.7/dist-packages/seaborn/algorithms.py:85: RankWarning: Polyfit may be poorly conditioned\n  boot_dist.append(f(*sample, **func_kwargs))\n/usr/local/lib/python3.7/dist-packages/seaborn/algorithms.py:85: RankWarning: Polyfit may be poorly conditioned\n  boot_dist.append(f(*sample, **func_kwargs))\n/usr/local/lib/python3.7/dist-packages/seaborn/algorithms.py:85: RankWarning: Polyfit may be poorly conditioned\n  boot_dist.append(f(*sample, **func_kwargs))\n/usr/local/lib/python3.7/dist-packages/seaborn/algorithms.py:85: RankWarning: Polyfit may be poorly conditioned\n  boot_dist.append(f(*sample, **func_kwargs))\n/usr/local/lib/python3.7/dist-packages/seaborn/algorithms.py:85: RankWarning: Polyfit may be poorly conditioned\n  boot_dist.append(f(*sample, **func_kwargs))\n/usr/local/lib/python3.7/dist-packages/seaborn/algorithms.py:85: RankWarning: Polyfit may be poorly conditioned\n  boot_dist.append(f(*sample, **func_kwargs))\n/usr/local/lib/python3.7/dist-packages/seaborn/algorithms.py:85: RankWarning: Polyfit may be poorly conditioned\n  boot_dist.append(f(*sample, **func_kwargs))\n/usr/local/lib/python3.7/dist-packages/seaborn/algorithms.py:85: RankWarning: Polyfit may be poorly conditioned\n  boot_dist.append(f(*sample, **func_kwargs))\n/usr/local/lib/python3.7/dist-packages/seaborn/algorithms.py:85: RankWarning: Polyfit may be poorly conditioned\n  boot_dist.append(f(*sample, **func_kwargs))\n/usr/local/lib/python3.7/dist-packages/seaborn/algorithms.py:85: RankWarning: Polyfit may be poorly conditioned\n  boot_dist.append(f(*sample, **func_kwargs))\n/usr/local/lib/python3.7/dist-packages/seaborn/algorithms.py:85: RankWarning: Polyfit may be poorly conditioned\n  boot_dist.append(f(*sample, **func_kwargs))\n/usr/local/lib/python3.7/dist-packages/seaborn/algorithms.py:85: RankWarning: Polyfit may be poorly conditioned\n  boot_dist.append(f(*sample, **func_kwargs))\n/usr/local/lib/python3.7/dist-packages/seaborn/algorithms.py:85: RankWarning: Polyfit may be poorly conditioned\n  boot_dist.append(f(*sample, **func_kwargs))\n/usr/local/lib/python3.7/dist-packages/seaborn/algorithms.py:85: RankWarning: Polyfit may be poorly conditioned\n  boot_dist.append(f(*sample, **func_kwargs))\n/usr/local/lib/python3.7/dist-packages/seaborn/algorithms.py:85: RankWarning: Polyfit may be poorly conditioned\n  boot_dist.append(f(*sample, **func_kwargs))\n/usr/local/lib/python3.7/dist-packages/seaborn/algorithms.py:85: RankWarning: Polyfit may be poorly conditioned\n  boot_dist.append(f(*sample, **func_kwargs))\n/usr/local/lib/python3.7/dist-packages/seaborn/algorithms.py:85: RankWarning: Polyfit may be poorly conditioned\n  boot_dist.append(f(*sample, **func_kwargs))\n/usr/local/lib/python3.7/dist-packages/seaborn/algorithms.py:85: RankWarning: Polyfit may be poorly conditioned\n  boot_dist.append(f(*sample, **func_kwargs))\n/usr/local/lib/python3.7/dist-packages/seaborn/algorithms.py:85: RankWarning: Polyfit may be poorly conditioned\n  boot_dist.append(f(*sample, **func_kwargs))\n/usr/local/lib/python3.7/dist-packages/seaborn/algorithms.py:85: RankWarning: Polyfit may be poorly conditioned\n  boot_dist.append(f(*sample, **func_kwargs))\n/usr/local/lib/python3.7/dist-packages/seaborn/algorithms.py:85: RankWarning: Polyfit may be poorly conditioned\n  boot_dist.append(f(*sample, **func_kwargs))\n/usr/local/lib/python3.7/dist-packages/seaborn/algorithms.py:85: RankWarning: Polyfit may be poorly conditioned\n  boot_dist.append(f(*sample, **func_kwargs))\n/usr/local/lib/python3.7/dist-packages/seaborn/algorithms.py:85: RankWarning: Polyfit may be poorly conditioned\n  boot_dist.append(f(*sample, **func_kwargs))\n/usr/local/lib/python3.7/dist-packages/seaborn/algorithms.py:85: RankWarning: Polyfit may be poorly conditioned\n  boot_dist.append(f(*sample, **func_kwargs))\n/usr/local/lib/python3.7/dist-packages/seaborn/algorithms.py:85: RankWarning: Polyfit may be poorly conditioned\n  boot_dist.append(f(*sample, **func_kwargs))\n/usr/local/lib/python3.7/dist-packages/seaborn/algorithms.py:85: RankWarning: Polyfit may be poorly conditioned\n  boot_dist.append(f(*sample, **func_kwargs))\n/usr/local/lib/python3.7/dist-packages/seaborn/algorithms.py:85: RankWarning: Polyfit may be poorly conditioned\n  boot_dist.append(f(*sample, **func_kwargs))\n/usr/local/lib/python3.7/dist-packages/seaborn/algorithms.py:85: RankWarning: Polyfit may be poorly conditioned\n  boot_dist.append(f(*sample, **func_kwargs))\n/usr/local/lib/python3.7/dist-packages/seaborn/algorithms.py:85: RankWarning: Polyfit may be poorly conditioned\n  boot_dist.append(f(*sample, **func_kwargs))\n/usr/local/lib/python3.7/dist-packages/seaborn/algorithms.py:85: RankWarning: Polyfit may be poorly conditioned\n  boot_dist.append(f(*sample, **func_kwargs))\n/usr/local/lib/python3.7/dist-packages/seaborn/algorithms.py:85: RankWarning: Polyfit may be poorly conditioned\n  boot_dist.append(f(*sample, **func_kwargs))\n/usr/local/lib/python3.7/dist-packages/seaborn/algorithms.py:85: RankWarning: Polyfit may be poorly conditioned\n  boot_dist.append(f(*sample, **func_kwargs))\n/usr/local/lib/python3.7/dist-packages/seaborn/algorithms.py:85: RankWarning: Polyfit may be poorly conditioned\n  boot_dist.append(f(*sample, **func_kwargs))\n/usr/local/lib/python3.7/dist-packages/seaborn/algorithms.py:85: RankWarning: Polyfit may be poorly conditioned\n  boot_dist.append(f(*sample, **func_kwargs))\n/usr/local/lib/python3.7/dist-packages/seaborn/algorithms.py:85: RankWarning: Polyfit may be poorly conditioned\n  boot_dist.append(f(*sample, **func_kwargs))\n/usr/local/lib/python3.7/dist-packages/seaborn/algorithms.py:85: RankWarning: Polyfit may be poorly conditioned\n  boot_dist.append(f(*sample, **func_kwargs))\n/usr/local/lib/python3.7/dist-packages/seaborn/algorithms.py:85: RankWarning: Polyfit may be poorly conditioned\n  boot_dist.append(f(*sample, **func_kwargs))\n/usr/local/lib/python3.7/dist-packages/seaborn/algorithms.py:85: RankWarning: Polyfit may be poorly conditioned\n  boot_dist.append(f(*sample, **func_kwargs))\n/usr/local/lib/python3.7/dist-packages/seaborn/algorithms.py:85: RankWarning: Polyfit may be poorly conditioned\n  boot_dist.append(f(*sample, **func_kwargs))\n/usr/local/lib/python3.7/dist-packages/seaborn/algorithms.py:85: RankWarning: Polyfit may be poorly conditioned\n  boot_dist.append(f(*sample, **func_kwargs))\n/usr/local/lib/python3.7/dist-packages/seaborn/algorithms.py:85: RankWarning: Polyfit may be poorly conditioned\n  boot_dist.append(f(*sample, **func_kwargs))\n/usr/local/lib/python3.7/dist-packages/seaborn/algorithms.py:85: RankWarning: Polyfit may be poorly conditioned\n  boot_dist.append(f(*sample, **func_kwargs))\n/usr/local/lib/python3.7/dist-packages/seaborn/algorithms.py:85: RankWarning: Polyfit may be poorly conditioned\n  boot_dist.append(f(*sample, **func_kwargs))\n/usr/local/lib/python3.7/dist-packages/seaborn/algorithms.py:85: RankWarning: Polyfit may be poorly conditioned\n  boot_dist.append(f(*sample, **func_kwargs))\n/usr/local/lib/python3.7/dist-packages/seaborn/algorithms.py:85: RankWarning: Polyfit may be poorly conditioned\n  boot_dist.append(f(*sample, **func_kwargs))\n/usr/local/lib/python3.7/dist-packages/seaborn/algorithms.py:85: RankWarning: Polyfit may be poorly conditioned\n  boot_dist.append(f(*sample, **func_kwargs))\n/usr/local/lib/python3.7/dist-packages/seaborn/algorithms.py:85: RankWarning: Polyfit may be poorly conditioned\n  boot_dist.append(f(*sample, **func_kwargs))\n/usr/local/lib/python3.7/dist-packages/seaborn/algorithms.py:85: RankWarning: Polyfit may be poorly conditioned\n  boot_dist.append(f(*sample, **func_kwargs))\n/usr/local/lib/python3.7/dist-packages/seaborn/algorithms.py:85: RankWarning: Polyfit may be poorly conditioned\n  boot_dist.append(f(*sample, **func_kwargs))\n/usr/local/lib/python3.7/dist-packages/seaborn/algorithms.py:85: RankWarning: Polyfit may be poorly conditioned\n  boot_dist.append(f(*sample, **func_kwargs))\n/usr/local/lib/python3.7/dist-packages/seaborn/algorithms.py:85: RankWarning: Polyfit may be poorly conditioned\n  boot_dist.append(f(*sample, **func_kwargs))\n/usr/local/lib/python3.7/dist-packages/seaborn/algorithms.py:85: RankWarning: Polyfit may be poorly conditioned\n  boot_dist.append(f(*sample, **func_kwargs))\n/usr/local/lib/python3.7/dist-packages/seaborn/algorithms.py:85: RankWarning: Polyfit may be poorly conditioned\n  boot_dist.append(f(*sample, **func_kwargs))\n/usr/local/lib/python3.7/dist-packages/seaborn/algorithms.py:85: RankWarning: Polyfit may be poorly conditioned\n  boot_dist.append(f(*sample, **func_kwargs))\n/usr/local/lib/python3.7/dist-packages/seaborn/algorithms.py:85: RankWarning: Polyfit may be poorly conditioned\n  boot_dist.append(f(*sample, **func_kwargs))\n/usr/local/lib/python3.7/dist-packages/seaborn/algorithms.py:85: RankWarning: Polyfit may be poorly conditioned\n  boot_dist.append(f(*sample, **func_kwargs))\n/usr/local/lib/python3.7/dist-packages/seaborn/algorithms.py:85: RankWarning: Polyfit may be poorly conditioned\n  boot_dist.append(f(*sample, **func_kwargs))\n/usr/local/lib/python3.7/dist-packages/seaborn/algorithms.py:85: RankWarning: Polyfit may be poorly conditioned\n  boot_dist.append(f(*sample, **func_kwargs))\n/usr/local/lib/python3.7/dist-packages/seaborn/algorithms.py:85: RankWarning: Polyfit may be poorly conditioned\n  boot_dist.append(f(*sample, **func_kwargs))\n/usr/local/lib/python3.7/dist-packages/seaborn/algorithms.py:85: RankWarning: Polyfit may be poorly conditioned\n  boot_dist.append(f(*sample, **func_kwargs))\n/usr/local/lib/python3.7/dist-packages/seaborn/algorithms.py:85: RankWarning: Polyfit may be poorly conditioned\n  boot_dist.append(f(*sample, **func_kwargs))\n/usr/local/lib/python3.7/dist-packages/seaborn/algorithms.py:85: RankWarning: Polyfit may be poorly conditioned\n  boot_dist.append(f(*sample, **func_kwargs))\n/usr/local/lib/python3.7/dist-packages/seaborn/algorithms.py:85: RankWarning: Polyfit may be poorly conditioned\n  boot_dist.append(f(*sample, **func_kwargs))\n/usr/local/lib/python3.7/dist-packages/seaborn/algorithms.py:85: RankWarning: Polyfit may be poorly conditioned\n  boot_dist.append(f(*sample, **func_kwargs))\n/usr/local/lib/python3.7/dist-packages/seaborn/algorithms.py:85: RankWarning: Polyfit may be poorly conditioned\n  boot_dist.append(f(*sample, **func_kwargs))\n/usr/local/lib/python3.7/dist-packages/seaborn/algorithms.py:85: RankWarning: Polyfit may be poorly conditioned\n  boot_dist.append(f(*sample, **func_kwargs))\n/usr/local/lib/python3.7/dist-packages/seaborn/algorithms.py:85: RankWarning: Polyfit may be poorly conditioned\n  boot_dist.append(f(*sample, **func_kwargs))\n/usr/local/lib/python3.7/dist-packages/seaborn/algorithms.py:85: RankWarning: Polyfit may be poorly conditioned\n  boot_dist.append(f(*sample, **func_kwargs))\n/usr/local/lib/python3.7/dist-packages/seaborn/algorithms.py:85: RankWarning: Polyfit may be poorly conditioned\n  boot_dist.append(f(*sample, **func_kwargs))\n/usr/local/lib/python3.7/dist-packages/seaborn/algorithms.py:85: RankWarning: Polyfit may be poorly conditioned\n  boot_dist.append(f(*sample, **func_kwargs))\n/usr/local/lib/python3.7/dist-packages/seaborn/algorithms.py:85: RankWarning: Polyfit may be poorly conditioned\n  boot_dist.append(f(*sample, **func_kwargs))\n/usr/local/lib/python3.7/dist-packages/seaborn/algorithms.py:85: RankWarning: Polyfit may be poorly conditioned\n  boot_dist.append(f(*sample, **func_kwargs))\n/usr/local/lib/python3.7/dist-packages/seaborn/algorithms.py:85: RankWarning: Polyfit may be poorly conditioned\n  boot_dist.append(f(*sample, **func_kwargs))\n/usr/local/lib/python3.7/dist-packages/seaborn/algorithms.py:85: RankWarning: Polyfit may be poorly conditioned\n  boot_dist.append(f(*sample, **func_kwargs))\n/usr/local/lib/python3.7/dist-packages/seaborn/algorithms.py:85: RankWarning: Polyfit may be poorly conditioned\n  boot_dist.append(f(*sample, **func_kwargs))\n/usr/local/lib/python3.7/dist-packages/seaborn/algorithms.py:85: RankWarning: Polyfit may be poorly conditioned\n  boot_dist.append(f(*sample, **func_kwargs))\n/usr/local/lib/python3.7/dist-packages/seaborn/algorithms.py:85: RankWarning: Polyfit may be poorly conditioned\n  boot_dist.append(f(*sample, **func_kwargs))\n/usr/local/lib/python3.7/dist-packages/seaborn/algorithms.py:85: RankWarning: Polyfit may be poorly conditioned\n  boot_dist.append(f(*sample, **func_kwargs))\n/usr/local/lib/python3.7/dist-packages/seaborn/algorithms.py:85: RankWarning: Polyfit may be poorly conditioned\n  boot_dist.append(f(*sample, **func_kwargs))\n/usr/local/lib/python3.7/dist-packages/seaborn/algorithms.py:85: RankWarning: Polyfit may be poorly conditioned\n  boot_dist.append(f(*sample, **func_kwargs))\n/usr/local/lib/python3.7/dist-packages/seaborn/algorithms.py:85: RankWarning: Polyfit may be poorly conditioned\n  boot_dist.append(f(*sample, **func_kwargs))\n/usr/local/lib/python3.7/dist-packages/seaborn/algorithms.py:85: RankWarning: Polyfit may be poorly conditioned\n  boot_dist.append(f(*sample, **func_kwargs))\n/usr/local/lib/python3.7/dist-packages/seaborn/algorithms.py:85: RankWarning: Polyfit may be poorly conditioned\n  boot_dist.append(f(*sample, **func_kwargs))\n/usr/local/lib/python3.7/dist-packages/seaborn/algorithms.py:85: RankWarning: Polyfit may be poorly conditioned\n  boot_dist.append(f(*sample, **func_kwargs))\n/usr/local/lib/python3.7/dist-packages/seaborn/algorithms.py:85: RankWarning: Polyfit may be poorly conditioned\n  boot_dist.append(f(*sample, **func_kwargs))\n/usr/local/lib/python3.7/dist-packages/seaborn/algorithms.py:85: RankWarning: Polyfit may be poorly conditioned\n  boot_dist.append(f(*sample, **func_kwargs))\n/usr/local/lib/python3.7/dist-packages/seaborn/algorithms.py:85: RankWarning: Polyfit may be poorly conditioned\n  boot_dist.append(f(*sample, **func_kwargs))\n/usr/local/lib/python3.7/dist-packages/seaborn/algorithms.py:85: RankWarning: Polyfit may be poorly conditioned\n  boot_dist.append(f(*sample, **func_kwargs))\n/usr/local/lib/python3.7/dist-packages/seaborn/algorithms.py:85: RankWarning: Polyfit may be poorly conditioned\n  boot_dist.append(f(*sample, **func_kwargs))\n/usr/local/lib/python3.7/dist-packages/seaborn/algorithms.py:85: RankWarning: Polyfit may be poorly conditioned\n  boot_dist.append(f(*sample, **func_kwargs))\n/usr/local/lib/python3.7/dist-packages/seaborn/algorithms.py:85: RankWarning: Polyfit may be poorly conditioned\n  boot_dist.append(f(*sample, **func_kwargs))\n/usr/local/lib/python3.7/dist-packages/seaborn/algorithms.py:85: RankWarning: Polyfit may be poorly conditioned\n  boot_dist.append(f(*sample, **func_kwargs))\n/usr/local/lib/python3.7/dist-packages/seaborn/algorithms.py:85: RankWarning: Polyfit may be poorly conditioned\n  boot_dist.append(f(*sample, **func_kwargs))\n/usr/local/lib/python3.7/dist-packages/seaborn/algorithms.py:85: RankWarning: Polyfit may be poorly conditioned\n  boot_dist.append(f(*sample, **func_kwargs))\n/usr/local/lib/python3.7/dist-packages/seaborn/algorithms.py:85: RankWarning: Polyfit may be poorly conditioned\n  boot_dist.append(f(*sample, **func_kwargs))\n/usr/local/lib/python3.7/dist-packages/seaborn/algorithms.py:85: RankWarning: Polyfit may be poorly conditioned\n  boot_dist.append(f(*sample, **func_kwargs))\n/usr/local/lib/python3.7/dist-packages/seaborn/algorithms.py:85: RankWarning: Polyfit may be poorly conditioned\n  boot_dist.append(f(*sample, **func_kwargs))\n/usr/local/lib/python3.7/dist-packages/seaborn/algorithms.py:85: RankWarning: Polyfit may be poorly conditioned\n  boot_dist.append(f(*sample, **func_kwargs))\n/usr/local/lib/python3.7/dist-packages/seaborn/algorithms.py:85: RankWarning: Polyfit may be poorly conditioned\n  boot_dist.append(f(*sample, **func_kwargs))\n/usr/local/lib/python3.7/dist-packages/seaborn/algorithms.py:85: RankWarning: Polyfit may be poorly conditioned\n  boot_dist.append(f(*sample, **func_kwargs))\n/usr/local/lib/python3.7/dist-packages/seaborn/algorithms.py:85: RankWarning: Polyfit may be poorly conditioned\n  boot_dist.append(f(*sample, **func_kwargs))\n/usr/local/lib/python3.7/dist-packages/seaborn/algorithms.py:85: RankWarning: Polyfit may be poorly conditioned\n  boot_dist.append(f(*sample, **func_kwargs))\n/usr/local/lib/python3.7/dist-packages/seaborn/algorithms.py:85: RankWarning: Polyfit may be poorly conditioned\n  boot_dist.append(f(*sample, **func_kwargs))\n/usr/local/lib/python3.7/dist-packages/seaborn/algorithms.py:85: RankWarning: Polyfit may be poorly conditioned\n  boot_dist.append(f(*sample, **func_kwargs))\n/usr/local/lib/python3.7/dist-packages/seaborn/algorithms.py:85: RankWarning: Polyfit may be poorly conditioned\n  boot_dist.append(f(*sample, **func_kwargs))\n/usr/local/lib/python3.7/dist-packages/seaborn/algorithms.py:85: RankWarning: Polyfit may be poorly conditioned\n  boot_dist.append(f(*sample, **func_kwargs))\n/usr/local/lib/python3.7/dist-packages/seaborn/algorithms.py:85: RankWarning: Polyfit may be poorly conditioned\n  boot_dist.append(f(*sample, **func_kwargs))\n/usr/local/lib/python3.7/dist-packages/seaborn/algorithms.py:85: RankWarning: Polyfit may be poorly conditioned\n  boot_dist.append(f(*sample, **func_kwargs))\n/usr/local/lib/python3.7/dist-packages/seaborn/algorithms.py:85: RankWarning: Polyfit may be poorly conditioned\n  boot_dist.append(f(*sample, **func_kwargs))\n/usr/local/lib/python3.7/dist-packages/seaborn/algorithms.py:85: RankWarning: Polyfit may be poorly conditioned\n  boot_dist.append(f(*sample, **func_kwargs))\n/usr/local/lib/python3.7/dist-packages/seaborn/algorithms.py:85: RankWarning: Polyfit may be poorly conditioned\n  boot_dist.append(f(*sample, **func_kwargs))\n/usr/local/lib/python3.7/dist-packages/seaborn/algorithms.py:85: RankWarning: Polyfit may be poorly conditioned\n  boot_dist.append(f(*sample, **func_kwargs))\n/usr/local/lib/python3.7/dist-packages/seaborn/algorithms.py:85: RankWarning: Polyfit may be poorly conditioned\n  boot_dist.append(f(*sample, **func_kwargs))\n/usr/local/lib/python3.7/dist-packages/seaborn/algorithms.py:85: RankWarning: Polyfit may be poorly conditioned\n  boot_dist.append(f(*sample, **func_kwargs))\n/usr/local/lib/python3.7/dist-packages/seaborn/algorithms.py:85: RankWarning: Polyfit may be poorly conditioned\n  boot_dist.append(f(*sample, **func_kwargs))\n/usr/local/lib/python3.7/dist-packages/seaborn/algorithms.py:85: RankWarning: Polyfit may be poorly conditioned\n  boot_dist.append(f(*sample, **func_kwargs))\n/usr/local/lib/python3.7/dist-packages/seaborn/algorithms.py:85: RankWarning: Polyfit may be poorly conditioned\n  boot_dist.append(f(*sample, **func_kwargs))\n/usr/local/lib/python3.7/dist-packages/seaborn/algorithms.py:85: RankWarning: Polyfit may be poorly conditioned\n  boot_dist.append(f(*sample, **func_kwargs))\n/usr/local/lib/python3.7/dist-packages/seaborn/algorithms.py:85: RankWarning: Polyfit may be poorly conditioned\n  boot_dist.append(f(*sample, **func_kwargs))\n/usr/local/lib/python3.7/dist-packages/seaborn/algorithms.py:85: RankWarning: Polyfit may be poorly conditioned\n  boot_dist.append(f(*sample, **func_kwargs))\n/usr/local/lib/python3.7/dist-packages/seaborn/algorithms.py:85: RankWarning: Polyfit may be poorly conditioned\n  boot_dist.append(f(*sample, **func_kwargs))\n/usr/local/lib/python3.7/dist-packages/seaborn/algorithms.py:85: RankWarning: Polyfit may be poorly conditioned\n  boot_dist.append(f(*sample, **func_kwargs))\n/usr/local/lib/python3.7/dist-packages/seaborn/algorithms.py:85: RankWarning: Polyfit may be poorly conditioned\n  boot_dist.append(f(*sample, **func_kwargs))\n/usr/local/lib/python3.7/dist-packages/seaborn/algorithms.py:85: RankWarning: Polyfit may be poorly conditioned\n  boot_dist.append(f(*sample, **func_kwargs))\n/usr/local/lib/python3.7/dist-packages/seaborn/algorithms.py:85: RankWarning: Polyfit may be poorly conditioned\n  boot_dist.append(f(*sample, **func_kwargs))\n/usr/local/lib/python3.7/dist-packages/seaborn/algorithms.py:85: RankWarning: Polyfit may be poorly conditioned\n  boot_dist.append(f(*sample, **func_kwargs))\n/usr/local/lib/python3.7/dist-packages/seaborn/algorithms.py:85: RankWarning: Polyfit may be poorly conditioned\n  boot_dist.append(f(*sample, **func_kwargs))\n/usr/local/lib/python3.7/dist-packages/seaborn/algorithms.py:85: RankWarning: Polyfit may be poorly conditioned\n  boot_dist.append(f(*sample, **func_kwargs))\n/usr/local/lib/python3.7/dist-packages/seaborn/algorithms.py:85: RankWarning: Polyfit may be poorly conditioned\n  boot_dist.append(f(*sample, **func_kwargs))\n/usr/local/lib/python3.7/dist-packages/seaborn/algorithms.py:85: RankWarning: Polyfit may be poorly conditioned\n  boot_dist.append(f(*sample, **func_kwargs))\n/usr/local/lib/python3.7/dist-packages/seaborn/algorithms.py:85: RankWarning: Polyfit may be poorly conditioned\n  boot_dist.append(f(*sample, **func_kwargs))\n/usr/local/lib/python3.7/dist-packages/seaborn/algorithms.py:85: RankWarning: Polyfit may be poorly conditioned\n  boot_dist.append(f(*sample, **func_kwargs))\n/usr/local/lib/python3.7/dist-packages/seaborn/algorithms.py:85: RankWarning: Polyfit may be poorly conditioned\n  boot_dist.append(f(*sample, **func_kwargs))\n/usr/local/lib/python3.7/dist-packages/seaborn/algorithms.py:85: RankWarning: Polyfit may be poorly conditioned\n  boot_dist.append(f(*sample, **func_kwargs))\n/usr/local/lib/python3.7/dist-packages/seaborn/algorithms.py:85: RankWarning: Polyfit may be poorly conditioned\n  boot_dist.append(f(*sample, **func_kwargs))\n/usr/local/lib/python3.7/dist-packages/seaborn/algorithms.py:85: RankWarning: Polyfit may be poorly conditioned\n  boot_dist.append(f(*sample, **func_kwargs))\n/usr/local/lib/python3.7/dist-packages/seaborn/algorithms.py:85: RankWarning: Polyfit may be poorly conditioned\n  boot_dist.append(f(*sample, **func_kwargs))\n/usr/local/lib/python3.7/dist-packages/seaborn/algorithms.py:85: RankWarning: Polyfit may be poorly conditioned\n  boot_dist.append(f(*sample, **func_kwargs))\n/usr/local/lib/python3.7/dist-packages/seaborn/algorithms.py:85: RankWarning: Polyfit may be poorly conditioned\n  boot_dist.append(f(*sample, **func_kwargs))\n/usr/local/lib/python3.7/dist-packages/seaborn/algorithms.py:85: RankWarning: Polyfit may be poorly conditioned\n  boot_dist.append(f(*sample, **func_kwargs))\n/usr/local/lib/python3.7/dist-packages/seaborn/algorithms.py:85: RankWarning: Polyfit may be poorly conditioned\n  boot_dist.append(f(*sample, **func_kwargs))\n/usr/local/lib/python3.7/dist-packages/seaborn/algorithms.py:85: RankWarning: Polyfit may be poorly conditioned\n  boot_dist.append(f(*sample, **func_kwargs))\n/usr/local/lib/python3.7/dist-packages/seaborn/algorithms.py:85: RankWarning: Polyfit may be poorly conditioned\n  boot_dist.append(f(*sample, **func_kwargs))\n/usr/local/lib/python3.7/dist-packages/seaborn/algorithms.py:85: RankWarning: Polyfit may be poorly conditioned\n  boot_dist.append(f(*sample, **func_kwargs))\n/usr/local/lib/python3.7/dist-packages/seaborn/algorithms.py:85: RankWarning: Polyfit may be poorly conditioned\n  boot_dist.append(f(*sample, **func_kwargs))\n/usr/local/lib/python3.7/dist-packages/seaborn/algorithms.py:85: RankWarning: Polyfit may be poorly conditioned\n  boot_dist.append(f(*sample, **func_kwargs))\n/usr/local/lib/python3.7/dist-packages/seaborn/algorithms.py:85: RankWarning: Polyfit may be poorly conditioned\n  boot_dist.append(f(*sample, **func_kwargs))\n/usr/local/lib/python3.7/dist-packages/seaborn/algorithms.py:85: RankWarning: Polyfit may be poorly conditioned\n  boot_dist.append(f(*sample, **func_kwargs))\n/usr/local/lib/python3.7/dist-packages/seaborn/algorithms.py:85: RankWarning: Polyfit may be poorly conditioned\n  boot_dist.append(f(*sample, **func_kwargs))\n/usr/local/lib/python3.7/dist-packages/seaborn/algorithms.py:85: RankWarning: Polyfit may be poorly conditioned\n  boot_dist.append(f(*sample, **func_kwargs))\n/usr/local/lib/python3.7/dist-packages/seaborn/algorithms.py:85: RankWarning: Polyfit may be poorly conditioned\n  boot_dist.append(f(*sample, **func_kwargs))\n/usr/local/lib/python3.7/dist-packages/seaborn/algorithms.py:85: RankWarning: Polyfit may be poorly conditioned\n  boot_dist.append(f(*sample, **func_kwargs))\n/usr/local/lib/python3.7/dist-packages/seaborn/algorithms.py:85: RankWarning: Polyfit may be poorly conditioned\n  boot_dist.append(f(*sample, **func_kwargs))\n/usr/local/lib/python3.7/dist-packages/seaborn/algorithms.py:85: RankWarning: Polyfit may be poorly conditioned\n  boot_dist.append(f(*sample, **func_kwargs))\n/usr/local/lib/python3.7/dist-packages/seaborn/algorithms.py:85: RankWarning: Polyfit may be poorly conditioned\n  boot_dist.append(f(*sample, **func_kwargs))\n/usr/local/lib/python3.7/dist-packages/seaborn/algorithms.py:85: RankWarning: Polyfit may be poorly conditioned\n  boot_dist.append(f(*sample, **func_kwargs))\n/usr/local/lib/python3.7/dist-packages/seaborn/algorithms.py:85: RankWarning: Polyfit may be poorly conditioned\n  boot_dist.append(f(*sample, **func_kwargs))\n/usr/local/lib/python3.7/dist-packages/seaborn/algorithms.py:85: RankWarning: Polyfit may be poorly conditioned\n  boot_dist.append(f(*sample, **func_kwargs))\n/usr/local/lib/python3.7/dist-packages/seaborn/algorithms.py:85: RankWarning: Polyfit may be poorly conditioned\n  boot_dist.append(f(*sample, **func_kwargs))\n/usr/local/lib/python3.7/dist-packages/seaborn/algorithms.py:85: RankWarning: Polyfit may be poorly conditioned\n  boot_dist.append(f(*sample, **func_kwargs))\n/usr/local/lib/python3.7/dist-packages/seaborn/algorithms.py:85: RankWarning: Polyfit may be poorly conditioned\n  boot_dist.append(f(*sample, **func_kwargs))\n/usr/local/lib/python3.7/dist-packages/seaborn/algorithms.py:85: RankWarning: Polyfit may be poorly conditioned\n  boot_dist.append(f(*sample, **func_kwargs))\n/usr/local/lib/python3.7/dist-packages/seaborn/algorithms.py:85: RankWarning: Polyfit may be poorly conditioned\n  boot_dist.append(f(*sample, **func_kwargs))\n/usr/local/lib/python3.7/dist-packages/seaborn/algorithms.py:85: RankWarning: Polyfit may be poorly conditioned\n  boot_dist.append(f(*sample, **func_kwargs))\n/usr/local/lib/python3.7/dist-packages/seaborn/algorithms.py:85: RankWarning: Polyfit may be poorly conditioned\n  boot_dist.append(f(*sample, **func_kwargs))\n/usr/local/lib/python3.7/dist-packages/seaborn/algorithms.py:85: RankWarning: Polyfit may be poorly conditioned\n  boot_dist.append(f(*sample, **func_kwargs))\n/usr/local/lib/python3.7/dist-packages/seaborn/algorithms.py:85: RankWarning: Polyfit may be poorly conditioned\n  boot_dist.append(f(*sample, **func_kwargs))\n/usr/local/lib/python3.7/dist-packages/seaborn/algorithms.py:85: RankWarning: Polyfit may be poorly conditioned\n  boot_dist.append(f(*sample, **func_kwargs))\n/usr/local/lib/python3.7/dist-packages/seaborn/algorithms.py:85: RankWarning: Polyfit may be poorly conditioned\n  boot_dist.append(f(*sample, **func_kwargs))\n/usr/local/lib/python3.7/dist-packages/seaborn/algorithms.py:85: RankWarning: Polyfit may be poorly conditioned\n  boot_dist.append(f(*sample, **func_kwargs))\n/usr/local/lib/python3.7/dist-packages/seaborn/algorithms.py:85: RankWarning: Polyfit may be poorly conditioned\n  boot_dist.append(f(*sample, **func_kwargs))\n/usr/local/lib/python3.7/dist-packages/seaborn/algorithms.py:85: RankWarning: Polyfit may be poorly conditioned\n  boot_dist.append(f(*sample, **func_kwargs))\n/usr/local/lib/python3.7/dist-packages/seaborn/algorithms.py:85: RankWarning: Polyfit may be poorly conditioned\n  boot_dist.append(f(*sample, **func_kwargs))\n/usr/local/lib/python3.7/dist-packages/seaborn/algorithms.py:85: RankWarning: Polyfit may be poorly conditioned\n  boot_dist.append(f(*sample, **func_kwargs))\n/usr/local/lib/python3.7/dist-packages/seaborn/algorithms.py:85: RankWarning: Polyfit may be poorly conditioned\n  boot_dist.append(f(*sample, **func_kwargs))\n/usr/local/lib/python3.7/dist-packages/seaborn/algorithms.py:85: RankWarning: Polyfit may be poorly conditioned\n  boot_dist.append(f(*sample, **func_kwargs))\n/usr/local/lib/python3.7/dist-packages/seaborn/algorithms.py:85: RankWarning: Polyfit may be poorly conditioned\n  boot_dist.append(f(*sample, **func_kwargs))\n/usr/local/lib/python3.7/dist-packages/seaborn/algorithms.py:85: RankWarning: Polyfit may be poorly conditioned\n  boot_dist.append(f(*sample, **func_kwargs))\n/usr/local/lib/python3.7/dist-packages/seaborn/algorithms.py:85: RankWarning: Polyfit may be poorly conditioned\n  boot_dist.append(f(*sample, **func_kwargs))\n/usr/local/lib/python3.7/dist-packages/seaborn/algorithms.py:85: RankWarning: Polyfit may be poorly conditioned\n  boot_dist.append(f(*sample, **func_kwargs))\n/usr/local/lib/python3.7/dist-packages/seaborn/algorithms.py:85: RankWarning: Polyfit may be poorly conditioned\n  boot_dist.append(f(*sample, **func_kwargs))\n/usr/local/lib/python3.7/dist-packages/seaborn/algorithms.py:85: RankWarning: Polyfit may be poorly conditioned\n  boot_dist.append(f(*sample, **func_kwargs))\n/usr/local/lib/python3.7/dist-packages/seaborn/algorithms.py:85: RankWarning: Polyfit may be poorly conditioned\n  boot_dist.append(f(*sample, **func_kwargs))\n/usr/local/lib/python3.7/dist-packages/seaborn/algorithms.py:85: RankWarning: Polyfit may be poorly conditioned\n  boot_dist.append(f(*sample, **func_kwargs))\n/usr/local/lib/python3.7/dist-packages/seaborn/algorithms.py:85: RankWarning: Polyfit may be poorly conditioned\n  boot_dist.append(f(*sample, **func_kwargs))\n/usr/local/lib/python3.7/dist-packages/seaborn/algorithms.py:85: RankWarning: Polyfit may be poorly conditioned\n  boot_dist.append(f(*sample, **func_kwargs))\n/usr/local/lib/python3.7/dist-packages/seaborn/algorithms.py:85: RankWarning: Polyfit may be poorly conditioned\n  boot_dist.append(f(*sample, **func_kwargs))\n/usr/local/lib/python3.7/dist-packages/seaborn/algorithms.py:85: RankWarning: Polyfit may be poorly conditioned\n  boot_dist.append(f(*sample, **func_kwargs))\n/usr/local/lib/python3.7/dist-packages/seaborn/algorithms.py:85: RankWarning: Polyfit may be poorly conditioned\n  boot_dist.append(f(*sample, **func_kwargs))\n/usr/local/lib/python3.7/dist-packages/seaborn/algorithms.py:85: RankWarning: Polyfit may be poorly conditioned\n  boot_dist.append(f(*sample, **func_kwargs))\n/usr/local/lib/python3.7/dist-packages/seaborn/algorithms.py:85: RankWarning: Polyfit may be poorly conditioned\n  boot_dist.append(f(*sample, **func_kwargs))\n/usr/local/lib/python3.7/dist-packages/seaborn/algorithms.py:85: RankWarning: Polyfit may be poorly conditioned\n  boot_dist.append(f(*sample, **func_kwargs))\n/usr/local/lib/python3.7/dist-packages/seaborn/algorithms.py:85: RankWarning: Polyfit may be poorly conditioned\n  boot_dist.append(f(*sample, **func_kwargs))\n/usr/local/lib/python3.7/dist-packages/seaborn/algorithms.py:85: RankWarning: Polyfit may be poorly conditioned\n  boot_dist.append(f(*sample, **func_kwargs))\n/usr/local/lib/python3.7/dist-packages/seaborn/algorithms.py:85: RankWarning: Polyfit may be poorly conditioned\n  boot_dist.append(f(*sample, **func_kwargs))\n/usr/local/lib/python3.7/dist-packages/seaborn/algorithms.py:85: RankWarning: Polyfit may be poorly conditioned\n  boot_dist.append(f(*sample, **func_kwargs))\n/usr/local/lib/python3.7/dist-packages/seaborn/algorithms.py:85: RankWarning: Polyfit may be poorly conditioned\n  boot_dist.append(f(*sample, **func_kwargs))\n/usr/local/lib/python3.7/dist-packages/seaborn/algorithms.py:85: RankWarning: Polyfit may be poorly conditioned\n  boot_dist.append(f(*sample, **func_kwargs))\n/usr/local/lib/python3.7/dist-packages/seaborn/algorithms.py:85: RankWarning: Polyfit may be poorly conditioned\n  boot_dist.append(f(*sample, **func_kwargs))\n/usr/local/lib/python3.7/dist-packages/seaborn/algorithms.py:85: RankWarning: Polyfit may be poorly conditioned\n  boot_dist.append(f(*sample, **func_kwargs))\n/usr/local/lib/python3.7/dist-packages/seaborn/algorithms.py:85: RankWarning: Polyfit may be poorly conditioned\n  boot_dist.append(f(*sample, **func_kwargs))\n/usr/local/lib/python3.7/dist-packages/seaborn/algorithms.py:85: RankWarning: Polyfit may be poorly conditioned\n  boot_dist.append(f(*sample, **func_kwargs))\n/usr/local/lib/python3.7/dist-packages/seaborn/algorithms.py:85: RankWarning: Polyfit may be poorly conditioned\n  boot_dist.append(f(*sample, **func_kwargs))\n/usr/local/lib/python3.7/dist-packages/seaborn/algorithms.py:85: RankWarning: Polyfit may be poorly conditioned\n  boot_dist.append(f(*sample, **func_kwargs))\n/usr/local/lib/python3.7/dist-packages/seaborn/algorithms.py:85: RankWarning: Polyfit may be poorly conditioned\n  boot_dist.append(f(*sample, **func_kwargs))\n/usr/local/lib/python3.7/dist-packages/seaborn/algorithms.py:85: RankWarning: Polyfit may be poorly conditioned\n  boot_dist.append(f(*sample, **func_kwargs))\n/usr/local/lib/python3.7/dist-packages/seaborn/algorithms.py:85: RankWarning: Polyfit may be poorly conditioned\n  boot_dist.append(f(*sample, **func_kwargs))\n/usr/local/lib/python3.7/dist-packages/seaborn/algorithms.py:85: RankWarning: Polyfit may be poorly conditioned\n  boot_dist.append(f(*sample, **func_kwargs))\n/usr/local/lib/python3.7/dist-packages/seaborn/algorithms.py:85: RankWarning: Polyfit may be poorly conditioned\n  boot_dist.append(f(*sample, **func_kwargs))\n/usr/local/lib/python3.7/dist-packages/seaborn/algorithms.py:85: RankWarning: Polyfit may be poorly conditioned\n  boot_dist.append(f(*sample, **func_kwargs))\n/usr/local/lib/python3.7/dist-packages/seaborn/algorithms.py:85: RankWarning: Polyfit may be poorly conditioned\n  boot_dist.append(f(*sample, **func_kwargs))\n/usr/local/lib/python3.7/dist-packages/seaborn/algorithms.py:85: RankWarning: Polyfit may be poorly conditioned\n  boot_dist.append(f(*sample, **func_kwargs))\n/usr/local/lib/python3.7/dist-packages/seaborn/algorithms.py:85: RankWarning: Polyfit may be poorly conditioned\n  boot_dist.append(f(*sample, **func_kwargs))\n/usr/local/lib/python3.7/dist-packages/seaborn/algorithms.py:85: RankWarning: Polyfit may be poorly conditioned\n  boot_dist.append(f(*sample, **func_kwargs))\n/usr/local/lib/python3.7/dist-packages/seaborn/algorithms.py:85: RankWarning: Polyfit may be poorly conditioned\n  boot_dist.append(f(*sample, **func_kwargs))\n/usr/local/lib/python3.7/dist-packages/seaborn/algorithms.py:85: RankWarning: Polyfit may be poorly conditioned\n  boot_dist.append(f(*sample, **func_kwargs))\n/usr/local/lib/python3.7/dist-packages/seaborn/algorithms.py:85: RankWarning: Polyfit may be poorly conditioned\n  boot_dist.append(f(*sample, **func_kwargs))\n/usr/local/lib/python3.7/dist-packages/seaborn/algorithms.py:85: RankWarning: Polyfit may be poorly conditioned\n  boot_dist.append(f(*sample, **func_kwargs))\n/usr/local/lib/python3.7/dist-packages/seaborn/algorithms.py:85: RankWarning: Polyfit may be poorly conditioned\n  boot_dist.append(f(*sample, **func_kwargs))\n/usr/local/lib/python3.7/dist-packages/seaborn/algorithms.py:85: RankWarning: Polyfit may be poorly conditioned\n  boot_dist.append(f(*sample, **func_kwargs))\n/usr/local/lib/python3.7/dist-packages/seaborn/algorithms.py:85: RankWarning: Polyfit may be poorly conditioned\n  boot_dist.append(f(*sample, **func_kwargs))\n",
                "stream": "stderr"
              },
              {
                "output_type": "stream",
                "metadata": {
                  "tags": []
                },
                "text": "/usr/local/lib/python3.7/dist-packages/seaborn/algorithms.py:85: RankWarning: Polyfit may be poorly conditioned\n  boot_dist.append(f(*sample, **func_kwargs))\n/usr/local/lib/python3.7/dist-packages/seaborn/algorithms.py:85: RankWarning: Polyfit may be poorly conditioned\n  boot_dist.append(f(*sample, **func_kwargs))\n/usr/local/lib/python3.7/dist-packages/seaborn/algorithms.py:85: RankWarning: Polyfit may be poorly conditioned\n  boot_dist.append(f(*sample, **func_kwargs))\n/usr/local/lib/python3.7/dist-packages/seaborn/algorithms.py:85: RankWarning: Polyfit may be poorly conditioned\n  boot_dist.append(f(*sample, **func_kwargs))\n/usr/local/lib/python3.7/dist-packages/seaborn/algorithms.py:85: RankWarning: Polyfit may be poorly conditioned\n  boot_dist.append(f(*sample, **func_kwargs))\n/usr/local/lib/python3.7/dist-packages/seaborn/algorithms.py:85: RankWarning: Polyfit may be poorly conditioned\n  boot_dist.append(f(*sample, **func_kwargs))\n/usr/local/lib/python3.7/dist-packages/seaborn/algorithms.py:85: RankWarning: Polyfit may be poorly conditioned\n  boot_dist.append(f(*sample, **func_kwargs))\n/usr/local/lib/python3.7/dist-packages/seaborn/algorithms.py:85: RankWarning: Polyfit may be poorly conditioned\n  boot_dist.append(f(*sample, **func_kwargs))\n/usr/local/lib/python3.7/dist-packages/seaborn/algorithms.py:85: RankWarning: Polyfit may be poorly conditioned\n  boot_dist.append(f(*sample, **func_kwargs))\n/usr/local/lib/python3.7/dist-packages/seaborn/algorithms.py:85: RankWarning: Polyfit may be poorly conditioned\n  boot_dist.append(f(*sample, **func_kwargs))\n/usr/local/lib/python3.7/dist-packages/seaborn/algorithms.py:85: RankWarning: Polyfit may be poorly conditioned\n  boot_dist.append(f(*sample, **func_kwargs))\n/usr/local/lib/python3.7/dist-packages/seaborn/algorithms.py:85: RankWarning: Polyfit may be poorly conditioned\n  boot_dist.append(f(*sample, **func_kwargs))\n/usr/local/lib/python3.7/dist-packages/seaborn/algorithms.py:85: RankWarning: Polyfit may be poorly conditioned\n  boot_dist.append(f(*sample, **func_kwargs))\n/usr/local/lib/python3.7/dist-packages/seaborn/algorithms.py:85: RankWarning: Polyfit may be poorly conditioned\n  boot_dist.append(f(*sample, **func_kwargs))\n/usr/local/lib/python3.7/dist-packages/seaborn/algorithms.py:85: RankWarning: Polyfit may be poorly conditioned\n  boot_dist.append(f(*sample, **func_kwargs))\n/usr/local/lib/python3.7/dist-packages/seaborn/algorithms.py:85: RankWarning: Polyfit may be poorly conditioned\n  boot_dist.append(f(*sample, **func_kwargs))\n/usr/local/lib/python3.7/dist-packages/seaborn/algorithms.py:85: RankWarning: Polyfit may be poorly conditioned\n  boot_dist.append(f(*sample, **func_kwargs))\n/usr/local/lib/python3.7/dist-packages/seaborn/algorithms.py:85: RankWarning: Polyfit may be poorly conditioned\n  boot_dist.append(f(*sample, **func_kwargs))\n/usr/local/lib/python3.7/dist-packages/seaborn/algorithms.py:85: RankWarning: Polyfit may be poorly conditioned\n  boot_dist.append(f(*sample, **func_kwargs))\n/usr/local/lib/python3.7/dist-packages/seaborn/algorithms.py:85: RankWarning: Polyfit may be poorly conditioned\n  boot_dist.append(f(*sample, **func_kwargs))\n/usr/local/lib/python3.7/dist-packages/seaborn/algorithms.py:85: RankWarning: Polyfit may be poorly conditioned\n  boot_dist.append(f(*sample, **func_kwargs))\n/usr/local/lib/python3.7/dist-packages/seaborn/algorithms.py:85: RankWarning: Polyfit may be poorly conditioned\n  boot_dist.append(f(*sample, **func_kwargs))\n/usr/local/lib/python3.7/dist-packages/seaborn/algorithms.py:85: RankWarning: Polyfit may be poorly conditioned\n  boot_dist.append(f(*sample, **func_kwargs))\n/usr/local/lib/python3.7/dist-packages/seaborn/algorithms.py:85: RankWarning: Polyfit may be poorly conditioned\n  boot_dist.append(f(*sample, **func_kwargs))\n/usr/local/lib/python3.7/dist-packages/seaborn/algorithms.py:85: RankWarning: Polyfit may be poorly conditioned\n  boot_dist.append(f(*sample, **func_kwargs))\n/usr/local/lib/python3.7/dist-packages/seaborn/algorithms.py:85: RankWarning: Polyfit may be poorly conditioned\n  boot_dist.append(f(*sample, **func_kwargs))\n/usr/local/lib/python3.7/dist-packages/seaborn/algorithms.py:85: RankWarning: Polyfit may be poorly conditioned\n  boot_dist.append(f(*sample, **func_kwargs))\n/usr/local/lib/python3.7/dist-packages/seaborn/algorithms.py:85: RankWarning: Polyfit may be poorly conditioned\n  boot_dist.append(f(*sample, **func_kwargs))\n/usr/local/lib/python3.7/dist-packages/seaborn/algorithms.py:85: RankWarning: Polyfit may be poorly conditioned\n  boot_dist.append(f(*sample, **func_kwargs))\n/usr/local/lib/python3.7/dist-packages/seaborn/algorithms.py:85: RankWarning: Polyfit may be poorly conditioned\n  boot_dist.append(f(*sample, **func_kwargs))\n/usr/local/lib/python3.7/dist-packages/seaborn/algorithms.py:85: RankWarning: Polyfit may be poorly conditioned\n  boot_dist.append(f(*sample, **func_kwargs))\n/usr/local/lib/python3.7/dist-packages/seaborn/algorithms.py:85: RankWarning: Polyfit may be poorly conditioned\n  boot_dist.append(f(*sample, **func_kwargs))\n/usr/local/lib/python3.7/dist-packages/seaborn/algorithms.py:85: RankWarning: Polyfit may be poorly conditioned\n  boot_dist.append(f(*sample, **func_kwargs))\n/usr/local/lib/python3.7/dist-packages/seaborn/algorithms.py:85: RankWarning: Polyfit may be poorly conditioned\n  boot_dist.append(f(*sample, **func_kwargs))\n/usr/local/lib/python3.7/dist-packages/seaborn/algorithms.py:85: RankWarning: Polyfit may be poorly conditioned\n  boot_dist.append(f(*sample, **func_kwargs))\n/usr/local/lib/python3.7/dist-packages/seaborn/algorithms.py:85: RankWarning: Polyfit may be poorly conditioned\n  boot_dist.append(f(*sample, **func_kwargs))\n/usr/local/lib/python3.7/dist-packages/seaborn/algorithms.py:85: RankWarning: Polyfit may be poorly conditioned\n  boot_dist.append(f(*sample, **func_kwargs))\n/usr/local/lib/python3.7/dist-packages/seaborn/algorithms.py:85: RankWarning: Polyfit may be poorly conditioned\n  boot_dist.append(f(*sample, **func_kwargs))\n/usr/local/lib/python3.7/dist-packages/seaborn/algorithms.py:85: RankWarning: Polyfit may be poorly conditioned\n  boot_dist.append(f(*sample, **func_kwargs))\n/usr/local/lib/python3.7/dist-packages/seaborn/algorithms.py:85: RankWarning: Polyfit may be poorly conditioned\n  boot_dist.append(f(*sample, **func_kwargs))\n/usr/local/lib/python3.7/dist-packages/seaborn/algorithms.py:85: RankWarning: Polyfit may be poorly conditioned\n  boot_dist.append(f(*sample, **func_kwargs))\n/usr/local/lib/python3.7/dist-packages/seaborn/algorithms.py:85: RankWarning: Polyfit may be poorly conditioned\n  boot_dist.append(f(*sample, **func_kwargs))\n/usr/local/lib/python3.7/dist-packages/seaborn/algorithms.py:85: RankWarning: Polyfit may be poorly conditioned\n  boot_dist.append(f(*sample, **func_kwargs))\n/usr/local/lib/python3.7/dist-packages/seaborn/algorithms.py:85: RankWarning: Polyfit may be poorly conditioned\n  boot_dist.append(f(*sample, **func_kwargs))\n/usr/local/lib/python3.7/dist-packages/seaborn/algorithms.py:85: RankWarning: Polyfit may be poorly conditioned\n  boot_dist.append(f(*sample, **func_kwargs))\n/usr/local/lib/python3.7/dist-packages/seaborn/algorithms.py:85: RankWarning: Polyfit may be poorly conditioned\n  boot_dist.append(f(*sample, **func_kwargs))\n/usr/local/lib/python3.7/dist-packages/seaborn/algorithms.py:85: RankWarning: Polyfit may be poorly conditioned\n  boot_dist.append(f(*sample, **func_kwargs))\n/usr/local/lib/python3.7/dist-packages/seaborn/algorithms.py:85: RankWarning: Polyfit may be poorly conditioned\n  boot_dist.append(f(*sample, **func_kwargs))\n/usr/local/lib/python3.7/dist-packages/seaborn/algorithms.py:85: RankWarning: Polyfit may be poorly conditioned\n  boot_dist.append(f(*sample, **func_kwargs))\n/usr/local/lib/python3.7/dist-packages/seaborn/algorithms.py:85: RankWarning: Polyfit may be poorly conditioned\n  boot_dist.append(f(*sample, **func_kwargs))\n/usr/local/lib/python3.7/dist-packages/seaborn/algorithms.py:85: RankWarning: Polyfit may be poorly conditioned\n  boot_dist.append(f(*sample, **func_kwargs))\n/usr/local/lib/python3.7/dist-packages/seaborn/algorithms.py:85: RankWarning: Polyfit may be poorly conditioned\n  boot_dist.append(f(*sample, **func_kwargs))\n/usr/local/lib/python3.7/dist-packages/seaborn/algorithms.py:85: RankWarning: Polyfit may be poorly conditioned\n  boot_dist.append(f(*sample, **func_kwargs))\n/usr/local/lib/python3.7/dist-packages/seaborn/algorithms.py:85: RankWarning: Polyfit may be poorly conditioned\n  boot_dist.append(f(*sample, **func_kwargs))\n/usr/local/lib/python3.7/dist-packages/seaborn/algorithms.py:85: RankWarning: Polyfit may be poorly conditioned\n  boot_dist.append(f(*sample, **func_kwargs))\n/usr/local/lib/python3.7/dist-packages/seaborn/algorithms.py:85: RankWarning: Polyfit may be poorly conditioned\n  boot_dist.append(f(*sample, **func_kwargs))\n/usr/local/lib/python3.7/dist-packages/seaborn/algorithms.py:85: RankWarning: Polyfit may be poorly conditioned\n  boot_dist.append(f(*sample, **func_kwargs))\n/usr/local/lib/python3.7/dist-packages/seaborn/algorithms.py:85: RankWarning: Polyfit may be poorly conditioned\n  boot_dist.append(f(*sample, **func_kwargs))\n/usr/local/lib/python3.7/dist-packages/seaborn/algorithms.py:85: RankWarning: Polyfit may be poorly conditioned\n  boot_dist.append(f(*sample, **func_kwargs))\n/usr/local/lib/python3.7/dist-packages/seaborn/algorithms.py:85: RankWarning: Polyfit may be poorly conditioned\n  boot_dist.append(f(*sample, **func_kwargs))\n/usr/local/lib/python3.7/dist-packages/seaborn/algorithms.py:85: RankWarning: Polyfit may be poorly conditioned\n  boot_dist.append(f(*sample, **func_kwargs))\n/usr/local/lib/python3.7/dist-packages/seaborn/algorithms.py:85: RankWarning: Polyfit may be poorly conditioned\n  boot_dist.append(f(*sample, **func_kwargs))\n/usr/local/lib/python3.7/dist-packages/seaborn/algorithms.py:85: RankWarning: Polyfit may be poorly conditioned\n  boot_dist.append(f(*sample, **func_kwargs))\n/usr/local/lib/python3.7/dist-packages/seaborn/algorithms.py:85: RankWarning: Polyfit may be poorly conditioned\n  boot_dist.append(f(*sample, **func_kwargs))\n/usr/local/lib/python3.7/dist-packages/seaborn/algorithms.py:85: RankWarning: Polyfit may be poorly conditioned\n  boot_dist.append(f(*sample, **func_kwargs))\n/usr/local/lib/python3.7/dist-packages/seaborn/algorithms.py:85: RankWarning: Polyfit may be poorly conditioned\n  boot_dist.append(f(*sample, **func_kwargs))\n/usr/local/lib/python3.7/dist-packages/seaborn/algorithms.py:85: RankWarning: Polyfit may be poorly conditioned\n  boot_dist.append(f(*sample, **func_kwargs))\n/usr/local/lib/python3.7/dist-packages/seaborn/algorithms.py:85: RankWarning: Polyfit may be poorly conditioned\n  boot_dist.append(f(*sample, **func_kwargs))\n/usr/local/lib/python3.7/dist-packages/seaborn/algorithms.py:85: RankWarning: Polyfit may be poorly conditioned\n  boot_dist.append(f(*sample, **func_kwargs))\n/usr/local/lib/python3.7/dist-packages/seaborn/algorithms.py:85: RankWarning: Polyfit may be poorly conditioned\n  boot_dist.append(f(*sample, **func_kwargs))\n/usr/local/lib/python3.7/dist-packages/seaborn/algorithms.py:85: RankWarning: Polyfit may be poorly conditioned\n  boot_dist.append(f(*sample, **func_kwargs))\n/usr/local/lib/python3.7/dist-packages/seaborn/algorithms.py:85: RankWarning: Polyfit may be poorly conditioned\n  boot_dist.append(f(*sample, **func_kwargs))\n/usr/local/lib/python3.7/dist-packages/seaborn/algorithms.py:85: RankWarning: Polyfit may be poorly conditioned\n  boot_dist.append(f(*sample, **func_kwargs))\n/usr/local/lib/python3.7/dist-packages/seaborn/algorithms.py:85: RankWarning: Polyfit may be poorly conditioned\n  boot_dist.append(f(*sample, **func_kwargs))\n/usr/local/lib/python3.7/dist-packages/seaborn/algorithms.py:85: RankWarning: Polyfit may be poorly conditioned\n  boot_dist.append(f(*sample, **func_kwargs))\n/usr/local/lib/python3.7/dist-packages/seaborn/algorithms.py:85: RankWarning: Polyfit may be poorly conditioned\n  boot_dist.append(f(*sample, **func_kwargs))\n/usr/local/lib/python3.7/dist-packages/seaborn/algorithms.py:85: RankWarning: Polyfit may be poorly conditioned\n  boot_dist.append(f(*sample, **func_kwargs))\n/usr/local/lib/python3.7/dist-packages/seaborn/algorithms.py:85: RankWarning: Polyfit may be poorly conditioned\n  boot_dist.append(f(*sample, **func_kwargs))\n/usr/local/lib/python3.7/dist-packages/seaborn/algorithms.py:85: RankWarning: Polyfit may be poorly conditioned\n  boot_dist.append(f(*sample, **func_kwargs))\n/usr/local/lib/python3.7/dist-packages/seaborn/algorithms.py:85: RankWarning: Polyfit may be poorly conditioned\n  boot_dist.append(f(*sample, **func_kwargs))\n/usr/local/lib/python3.7/dist-packages/seaborn/algorithms.py:85: RankWarning: Polyfit may be poorly conditioned\n  boot_dist.append(f(*sample, **func_kwargs))\n/usr/local/lib/python3.7/dist-packages/seaborn/algorithms.py:85: RankWarning: Polyfit may be poorly conditioned\n  boot_dist.append(f(*sample, **func_kwargs))\n/usr/local/lib/python3.7/dist-packages/seaborn/algorithms.py:85: RankWarning: Polyfit may be poorly conditioned\n  boot_dist.append(f(*sample, **func_kwargs))\n/usr/local/lib/python3.7/dist-packages/seaborn/algorithms.py:85: RankWarning: Polyfit may be poorly conditioned\n  boot_dist.append(f(*sample, **func_kwargs))\n/usr/local/lib/python3.7/dist-packages/seaborn/algorithms.py:85: RankWarning: Polyfit may be poorly conditioned\n  boot_dist.append(f(*sample, **func_kwargs))\n/usr/local/lib/python3.7/dist-packages/seaborn/algorithms.py:85: RankWarning: Polyfit may be poorly conditioned\n  boot_dist.append(f(*sample, **func_kwargs))\n/usr/local/lib/python3.7/dist-packages/seaborn/algorithms.py:85: RankWarning: Polyfit may be poorly conditioned\n  boot_dist.append(f(*sample, **func_kwargs))\n/usr/local/lib/python3.7/dist-packages/seaborn/algorithms.py:85: RankWarning: Polyfit may be poorly conditioned\n  boot_dist.append(f(*sample, **func_kwargs))\n/usr/local/lib/python3.7/dist-packages/seaborn/algorithms.py:85: RankWarning: Polyfit may be poorly conditioned\n  boot_dist.append(f(*sample, **func_kwargs))\n/usr/local/lib/python3.7/dist-packages/seaborn/algorithms.py:85: RankWarning: Polyfit may be poorly conditioned\n  boot_dist.append(f(*sample, **func_kwargs))\n/usr/local/lib/python3.7/dist-packages/seaborn/algorithms.py:85: RankWarning: Polyfit may be poorly conditioned\n  boot_dist.append(f(*sample, **func_kwargs))\n/usr/local/lib/python3.7/dist-packages/seaborn/algorithms.py:85: RankWarning: Polyfit may be poorly conditioned\n  boot_dist.append(f(*sample, **func_kwargs))\n/usr/local/lib/python3.7/dist-packages/seaborn/algorithms.py:85: RankWarning: Polyfit may be poorly conditioned\n  boot_dist.append(f(*sample, **func_kwargs))\n/usr/local/lib/python3.7/dist-packages/seaborn/algorithms.py:85: RankWarning: Polyfit may be poorly conditioned\n  boot_dist.append(f(*sample, **func_kwargs))\n/usr/local/lib/python3.7/dist-packages/seaborn/algorithms.py:85: RankWarning: Polyfit may be poorly conditioned\n  boot_dist.append(f(*sample, **func_kwargs))\n/usr/local/lib/python3.7/dist-packages/seaborn/algorithms.py:85: RankWarning: Polyfit may be poorly conditioned\n  boot_dist.append(f(*sample, **func_kwargs))\n/usr/local/lib/python3.7/dist-packages/seaborn/algorithms.py:85: RankWarning: Polyfit may be poorly conditioned\n  boot_dist.append(f(*sample, **func_kwargs))\n/usr/local/lib/python3.7/dist-packages/seaborn/algorithms.py:85: RankWarning: Polyfit may be poorly conditioned\n  boot_dist.append(f(*sample, **func_kwargs))\n/usr/local/lib/python3.7/dist-packages/seaborn/algorithms.py:85: RankWarning: Polyfit may be poorly conditioned\n  boot_dist.append(f(*sample, **func_kwargs))\n/usr/local/lib/python3.7/dist-packages/seaborn/algorithms.py:85: RankWarning: Polyfit may be poorly conditioned\n  boot_dist.append(f(*sample, **func_kwargs))\n/usr/local/lib/python3.7/dist-packages/seaborn/algorithms.py:85: RankWarning: Polyfit may be poorly conditioned\n  boot_dist.append(f(*sample, **func_kwargs))\n/usr/local/lib/python3.7/dist-packages/seaborn/algorithms.py:85: RankWarning: Polyfit may be poorly conditioned\n  boot_dist.append(f(*sample, **func_kwargs))\n/usr/local/lib/python3.7/dist-packages/seaborn/algorithms.py:85: RankWarning: Polyfit may be poorly conditioned\n  boot_dist.append(f(*sample, **func_kwargs))\n/usr/local/lib/python3.7/dist-packages/seaborn/algorithms.py:85: RankWarning: Polyfit may be poorly conditioned\n  boot_dist.append(f(*sample, **func_kwargs))\n/usr/local/lib/python3.7/dist-packages/seaborn/algorithms.py:85: RankWarning: Polyfit may be poorly conditioned\n  boot_dist.append(f(*sample, **func_kwargs))\n/usr/local/lib/python3.7/dist-packages/seaborn/algorithms.py:85: RankWarning: Polyfit may be poorly conditioned\n  boot_dist.append(f(*sample, **func_kwargs))\n/usr/local/lib/python3.7/dist-packages/seaborn/algorithms.py:85: RankWarning: Polyfit may be poorly conditioned\n  boot_dist.append(f(*sample, **func_kwargs))\n/usr/local/lib/python3.7/dist-packages/seaborn/algorithms.py:85: RankWarning: Polyfit may be poorly conditioned\n  boot_dist.append(f(*sample, **func_kwargs))\n/usr/local/lib/python3.7/dist-packages/seaborn/algorithms.py:85: RankWarning: Polyfit may be poorly conditioned\n  boot_dist.append(f(*sample, **func_kwargs))\n/usr/local/lib/python3.7/dist-packages/seaborn/algorithms.py:85: RankWarning: Polyfit may be poorly conditioned\n  boot_dist.append(f(*sample, **func_kwargs))\n/usr/local/lib/python3.7/dist-packages/seaborn/algorithms.py:85: RankWarning: Polyfit may be poorly conditioned\n  boot_dist.append(f(*sample, **func_kwargs))\n/usr/local/lib/python3.7/dist-packages/seaborn/algorithms.py:85: RankWarning: Polyfit may be poorly conditioned\n  boot_dist.append(f(*sample, **func_kwargs))\n/usr/local/lib/python3.7/dist-packages/seaborn/algorithms.py:85: RankWarning: Polyfit may be poorly conditioned\n  boot_dist.append(f(*sample, **func_kwargs))\n/usr/local/lib/python3.7/dist-packages/seaborn/algorithms.py:85: RankWarning: Polyfit may be poorly conditioned\n  boot_dist.append(f(*sample, **func_kwargs))\n/usr/local/lib/python3.7/dist-packages/seaborn/algorithms.py:85: RankWarning: Polyfit may be poorly conditioned\n  boot_dist.append(f(*sample, **func_kwargs))\n/usr/local/lib/python3.7/dist-packages/seaborn/algorithms.py:85: RankWarning: Polyfit may be poorly conditioned\n  boot_dist.append(f(*sample, **func_kwargs))\n/usr/local/lib/python3.7/dist-packages/seaborn/algorithms.py:85: RankWarning: Polyfit may be poorly conditioned\n  boot_dist.append(f(*sample, **func_kwargs))\n/usr/local/lib/python3.7/dist-packages/seaborn/algorithms.py:85: RankWarning: Polyfit may be poorly conditioned\n  boot_dist.append(f(*sample, **func_kwargs))\n/usr/local/lib/python3.7/dist-packages/seaborn/algorithms.py:85: RankWarning: Polyfit may be poorly conditioned\n  boot_dist.append(f(*sample, **func_kwargs))\n/usr/local/lib/python3.7/dist-packages/seaborn/algorithms.py:85: RankWarning: Polyfit may be poorly conditioned\n  boot_dist.append(f(*sample, **func_kwargs))\n/usr/local/lib/python3.7/dist-packages/seaborn/algorithms.py:85: RankWarning: Polyfit may be poorly conditioned\n  boot_dist.append(f(*sample, **func_kwargs))\n/usr/local/lib/python3.7/dist-packages/seaborn/algorithms.py:85: RankWarning: Polyfit may be poorly conditioned\n  boot_dist.append(f(*sample, **func_kwargs))\n/usr/local/lib/python3.7/dist-packages/seaborn/algorithms.py:85: RankWarning: Polyfit may be poorly conditioned\n  boot_dist.append(f(*sample, **func_kwargs))\n/usr/local/lib/python3.7/dist-packages/seaborn/algorithms.py:85: RankWarning: Polyfit may be poorly conditioned\n  boot_dist.append(f(*sample, **func_kwargs))\n/usr/local/lib/python3.7/dist-packages/seaborn/algorithms.py:85: RankWarning: Polyfit may be poorly conditioned\n  boot_dist.append(f(*sample, **func_kwargs))\n/usr/local/lib/python3.7/dist-packages/seaborn/algorithms.py:85: RankWarning: Polyfit may be poorly conditioned\n  boot_dist.append(f(*sample, **func_kwargs))\n/usr/local/lib/python3.7/dist-packages/seaborn/algorithms.py:85: RankWarning: Polyfit may be poorly conditioned\n  boot_dist.append(f(*sample, **func_kwargs))\n/usr/local/lib/python3.7/dist-packages/seaborn/algorithms.py:85: RankWarning: Polyfit may be poorly conditioned\n  boot_dist.append(f(*sample, **func_kwargs))\n/usr/local/lib/python3.7/dist-packages/seaborn/algorithms.py:85: RankWarning: Polyfit may be poorly conditioned\n  boot_dist.append(f(*sample, **func_kwargs))\n/usr/local/lib/python3.7/dist-packages/seaborn/algorithms.py:85: RankWarning: Polyfit may be poorly conditioned\n  boot_dist.append(f(*sample, **func_kwargs))\n/usr/local/lib/python3.7/dist-packages/seaborn/algorithms.py:85: RankWarning: Polyfit may be poorly conditioned\n  boot_dist.append(f(*sample, **func_kwargs))\n/usr/local/lib/python3.7/dist-packages/seaborn/algorithms.py:85: RankWarning: Polyfit may be poorly conditioned\n  boot_dist.append(f(*sample, **func_kwargs))\n/usr/local/lib/python3.7/dist-packages/seaborn/algorithms.py:85: RankWarning: Polyfit may be poorly conditioned\n  boot_dist.append(f(*sample, **func_kwargs))\n/usr/local/lib/python3.7/dist-packages/seaborn/algorithms.py:85: RankWarning: Polyfit may be poorly conditioned\n  boot_dist.append(f(*sample, **func_kwargs))\n/usr/local/lib/python3.7/dist-packages/seaborn/algorithms.py:85: RankWarning: Polyfit may be poorly conditioned\n  boot_dist.append(f(*sample, **func_kwargs))\n/usr/local/lib/python3.7/dist-packages/seaborn/algorithms.py:85: RankWarning: Polyfit may be poorly conditioned\n  boot_dist.append(f(*sample, **func_kwargs))\n/usr/local/lib/python3.7/dist-packages/seaborn/algorithms.py:85: RankWarning: Polyfit may be poorly conditioned\n  boot_dist.append(f(*sample, **func_kwargs))\n/usr/local/lib/python3.7/dist-packages/seaborn/algorithms.py:85: RankWarning: Polyfit may be poorly conditioned\n  boot_dist.append(f(*sample, **func_kwargs))\n/usr/local/lib/python3.7/dist-packages/seaborn/algorithms.py:85: RankWarning: Polyfit may be poorly conditioned\n  boot_dist.append(f(*sample, **func_kwargs))\n/usr/local/lib/python3.7/dist-packages/seaborn/algorithms.py:85: RankWarning: Polyfit may be poorly conditioned\n  boot_dist.append(f(*sample, **func_kwargs))\n/usr/local/lib/python3.7/dist-packages/seaborn/algorithms.py:85: RankWarning: Polyfit may be poorly conditioned\n  boot_dist.append(f(*sample, **func_kwargs))\n/usr/local/lib/python3.7/dist-packages/seaborn/algorithms.py:85: RankWarning: Polyfit may be poorly conditioned\n  boot_dist.append(f(*sample, **func_kwargs))\n/usr/local/lib/python3.7/dist-packages/seaborn/algorithms.py:85: RankWarning: Polyfit may be poorly conditioned\n  boot_dist.append(f(*sample, **func_kwargs))\n/usr/local/lib/python3.7/dist-packages/seaborn/algorithms.py:85: RankWarning: Polyfit may be poorly conditioned\n  boot_dist.append(f(*sample, **func_kwargs))\n/usr/local/lib/python3.7/dist-packages/seaborn/algorithms.py:85: RankWarning: Polyfit may be poorly conditioned\n  boot_dist.append(f(*sample, **func_kwargs))\n/usr/local/lib/python3.7/dist-packages/seaborn/algorithms.py:85: RankWarning: Polyfit may be poorly conditioned\n  boot_dist.append(f(*sample, **func_kwargs))\n/usr/local/lib/python3.7/dist-packages/seaborn/algorithms.py:85: RankWarning: Polyfit may be poorly conditioned\n  boot_dist.append(f(*sample, **func_kwargs))\n/usr/local/lib/python3.7/dist-packages/seaborn/algorithms.py:85: RankWarning: Polyfit may be poorly conditioned\n  boot_dist.append(f(*sample, **func_kwargs))\n/usr/local/lib/python3.7/dist-packages/seaborn/algorithms.py:85: RankWarning: Polyfit may be poorly conditioned\n  boot_dist.append(f(*sample, **func_kwargs))\n/usr/local/lib/python3.7/dist-packages/seaborn/algorithms.py:85: RankWarning: Polyfit may be poorly conditioned\n  boot_dist.append(f(*sample, **func_kwargs))\n/usr/local/lib/python3.7/dist-packages/seaborn/algorithms.py:85: RankWarning: Polyfit may be poorly conditioned\n  boot_dist.append(f(*sample, **func_kwargs))\n/usr/local/lib/python3.7/dist-packages/seaborn/algorithms.py:85: RankWarning: Polyfit may be poorly conditioned\n  boot_dist.append(f(*sample, **func_kwargs))\n/usr/local/lib/python3.7/dist-packages/seaborn/algorithms.py:85: RankWarning: Polyfit may be poorly conditioned\n  boot_dist.append(f(*sample, **func_kwargs))\n/usr/local/lib/python3.7/dist-packages/seaborn/algorithms.py:85: RankWarning: Polyfit may be poorly conditioned\n  boot_dist.append(f(*sample, **func_kwargs))\n/usr/local/lib/python3.7/dist-packages/seaborn/algorithms.py:85: RankWarning: Polyfit may be poorly conditioned\n  boot_dist.append(f(*sample, **func_kwargs))\n/usr/local/lib/python3.7/dist-packages/seaborn/algorithms.py:85: RankWarning: Polyfit may be poorly conditioned\n  boot_dist.append(f(*sample, **func_kwargs))\n/usr/local/lib/python3.7/dist-packages/seaborn/algorithms.py:85: RankWarning: Polyfit may be poorly conditioned\n  boot_dist.append(f(*sample, **func_kwargs))\n/usr/local/lib/python3.7/dist-packages/seaborn/algorithms.py:85: RankWarning: Polyfit may be poorly conditioned\n  boot_dist.append(f(*sample, **func_kwargs))\n/usr/local/lib/python3.7/dist-packages/seaborn/algorithms.py:85: RankWarning: Polyfit may be poorly conditioned\n  boot_dist.append(f(*sample, **func_kwargs))\n/usr/local/lib/python3.7/dist-packages/seaborn/algorithms.py:85: RankWarning: Polyfit may be poorly conditioned\n  boot_dist.append(f(*sample, **func_kwargs))\n/usr/local/lib/python3.7/dist-packages/seaborn/algorithms.py:85: RankWarning: Polyfit may be poorly conditioned\n  boot_dist.append(f(*sample, **func_kwargs))\n/usr/local/lib/python3.7/dist-packages/seaborn/algorithms.py:85: RankWarning: Polyfit may be poorly conditioned\n  boot_dist.append(f(*sample, **func_kwargs))\n/usr/local/lib/python3.7/dist-packages/seaborn/algorithms.py:85: RankWarning: Polyfit may be poorly conditioned\n  boot_dist.append(f(*sample, **func_kwargs))\n/usr/local/lib/python3.7/dist-packages/seaborn/algorithms.py:85: RankWarning: Polyfit may be poorly conditioned\n  boot_dist.append(f(*sample, **func_kwargs))\n/usr/local/lib/python3.7/dist-packages/seaborn/algorithms.py:85: RankWarning: Polyfit may be poorly conditioned\n  boot_dist.append(f(*sample, **func_kwargs))\n/usr/local/lib/python3.7/dist-packages/seaborn/algorithms.py:85: RankWarning: Polyfit may be poorly conditioned\n  boot_dist.append(f(*sample, **func_kwargs))\n/usr/local/lib/python3.7/dist-packages/seaborn/algorithms.py:85: RankWarning: Polyfit may be poorly conditioned\n  boot_dist.append(f(*sample, **func_kwargs))\n/usr/local/lib/python3.7/dist-packages/seaborn/algorithms.py:85: RankWarning: Polyfit may be poorly conditioned\n  boot_dist.append(f(*sample, **func_kwargs))\n/usr/local/lib/python3.7/dist-packages/seaborn/algorithms.py:85: RankWarning: Polyfit may be poorly conditioned\n  boot_dist.append(f(*sample, **func_kwargs))\n/usr/local/lib/python3.7/dist-packages/seaborn/algorithms.py:85: RankWarning: Polyfit may be poorly conditioned\n  boot_dist.append(f(*sample, **func_kwargs))\n/usr/local/lib/python3.7/dist-packages/seaborn/algorithms.py:85: RankWarning: Polyfit may be poorly conditioned\n  boot_dist.append(f(*sample, **func_kwargs))\n/usr/local/lib/python3.7/dist-packages/seaborn/algorithms.py:85: RankWarning: Polyfit may be poorly conditioned\n  boot_dist.append(f(*sample, **func_kwargs))\n/usr/local/lib/python3.7/dist-packages/seaborn/algorithms.py:85: RankWarning: Polyfit may be poorly conditioned\n  boot_dist.append(f(*sample, **func_kwargs))\n/usr/local/lib/python3.7/dist-packages/seaborn/algorithms.py:85: RankWarning: Polyfit may be poorly conditioned\n  boot_dist.append(f(*sample, **func_kwargs))\n/usr/local/lib/python3.7/dist-packages/seaborn/algorithms.py:85: RankWarning: Polyfit may be poorly conditioned\n  boot_dist.append(f(*sample, **func_kwargs))\n/usr/local/lib/python3.7/dist-packages/seaborn/algorithms.py:85: RankWarning: Polyfit may be poorly conditioned\n  boot_dist.append(f(*sample, **func_kwargs))\n/usr/local/lib/python3.7/dist-packages/seaborn/algorithms.py:85: RankWarning: Polyfit may be poorly conditioned\n  boot_dist.append(f(*sample, **func_kwargs))\n/usr/local/lib/python3.7/dist-packages/seaborn/algorithms.py:85: RankWarning: Polyfit may be poorly conditioned\n  boot_dist.append(f(*sample, **func_kwargs))\n/usr/local/lib/python3.7/dist-packages/seaborn/algorithms.py:85: RankWarning: Polyfit may be poorly conditioned\n  boot_dist.append(f(*sample, **func_kwargs))\n/usr/local/lib/python3.7/dist-packages/seaborn/algorithms.py:85: RankWarning: Polyfit may be poorly conditioned\n  boot_dist.append(f(*sample, **func_kwargs))\n/usr/local/lib/python3.7/dist-packages/seaborn/algorithms.py:85: RankWarning: Polyfit may be poorly conditioned\n  boot_dist.append(f(*sample, **func_kwargs))\n/usr/local/lib/python3.7/dist-packages/seaborn/algorithms.py:85: RankWarning: Polyfit may be poorly conditioned\n  boot_dist.append(f(*sample, **func_kwargs))\n/usr/local/lib/python3.7/dist-packages/seaborn/algorithms.py:85: RankWarning: Polyfit may be poorly conditioned\n  boot_dist.append(f(*sample, **func_kwargs))\n/usr/local/lib/python3.7/dist-packages/seaborn/algorithms.py:85: RankWarning: Polyfit may be poorly conditioned\n  boot_dist.append(f(*sample, **func_kwargs))\n/usr/local/lib/python3.7/dist-packages/seaborn/algorithms.py:85: RankWarning: Polyfit may be poorly conditioned\n  boot_dist.append(f(*sample, **func_kwargs))\n/usr/local/lib/python3.7/dist-packages/seaborn/algorithms.py:85: RankWarning: Polyfit may be poorly conditioned\n  boot_dist.append(f(*sample, **func_kwargs))\n/usr/local/lib/python3.7/dist-packages/seaborn/algorithms.py:85: RankWarning: Polyfit may be poorly conditioned\n  boot_dist.append(f(*sample, **func_kwargs))\n/usr/local/lib/python3.7/dist-packages/seaborn/algorithms.py:85: RankWarning: Polyfit may be poorly conditioned\n  boot_dist.append(f(*sample, **func_kwargs))\n/usr/local/lib/python3.7/dist-packages/seaborn/algorithms.py:85: RankWarning: Polyfit may be poorly conditioned\n  boot_dist.append(f(*sample, **func_kwargs))\n/usr/local/lib/python3.7/dist-packages/seaborn/algorithms.py:85: RankWarning: Polyfit may be poorly conditioned\n  boot_dist.append(f(*sample, **func_kwargs))\n/usr/local/lib/python3.7/dist-packages/seaborn/algorithms.py:85: RankWarning: Polyfit may be poorly conditioned\n  boot_dist.append(f(*sample, **func_kwargs))\n/usr/local/lib/python3.7/dist-packages/seaborn/algorithms.py:85: RankWarning: Polyfit may be poorly conditioned\n  boot_dist.append(f(*sample, **func_kwargs))\n/usr/local/lib/python3.7/dist-packages/seaborn/algorithms.py:85: RankWarning: Polyfit may be poorly conditioned\n  boot_dist.append(f(*sample, **func_kwargs))\n/usr/local/lib/python3.7/dist-packages/seaborn/algorithms.py:85: RankWarning: Polyfit may be poorly conditioned\n  boot_dist.append(f(*sample, **func_kwargs))\n/usr/local/lib/python3.7/dist-packages/seaborn/algorithms.py:85: RankWarning: Polyfit may be poorly conditioned\n  boot_dist.append(f(*sample, **func_kwargs))\n/usr/local/lib/python3.7/dist-packages/seaborn/algorithms.py:85: RankWarning: Polyfit may be poorly conditioned\n  boot_dist.append(f(*sample, **func_kwargs))\n/usr/local/lib/python3.7/dist-packages/seaborn/algorithms.py:85: RankWarning: Polyfit may be poorly conditioned\n  boot_dist.append(f(*sample, **func_kwargs))\n/usr/local/lib/python3.7/dist-packages/seaborn/algorithms.py:85: RankWarning: Polyfit may be poorly conditioned\n  boot_dist.append(f(*sample, **func_kwargs))\n/usr/local/lib/python3.7/dist-packages/seaborn/algorithms.py:85: RankWarning: Polyfit may be poorly conditioned\n  boot_dist.append(f(*sample, **func_kwargs))\n/usr/local/lib/python3.7/dist-packages/seaborn/algorithms.py:85: RankWarning: Polyfit may be poorly conditioned\n  boot_dist.append(f(*sample, **func_kwargs))\n/usr/local/lib/python3.7/dist-packages/seaborn/algorithms.py:85: RankWarning: Polyfit may be poorly conditioned\n  boot_dist.append(f(*sample, **func_kwargs))\n/usr/local/lib/python3.7/dist-packages/seaborn/algorithms.py:85: RankWarning: Polyfit may be poorly conditioned\n  boot_dist.append(f(*sample, **func_kwargs))\n/usr/local/lib/python3.7/dist-packages/seaborn/algorithms.py:85: RankWarning: Polyfit may be poorly conditioned\n  boot_dist.append(f(*sample, **func_kwargs))\n/usr/local/lib/python3.7/dist-packages/seaborn/algorithms.py:85: RankWarning: Polyfit may be poorly conditioned\n  boot_dist.append(f(*sample, **func_kwargs))\n/usr/local/lib/python3.7/dist-packages/seaborn/algorithms.py:85: RankWarning: Polyfit may be poorly conditioned\n  boot_dist.append(f(*sample, **func_kwargs))\n/usr/local/lib/python3.7/dist-packages/seaborn/algorithms.py:85: RankWarning: Polyfit may be poorly conditioned\n  boot_dist.append(f(*sample, **func_kwargs))\n/usr/local/lib/python3.7/dist-packages/seaborn/algorithms.py:85: RankWarning: Polyfit may be poorly conditioned\n  boot_dist.append(f(*sample, **func_kwargs))\n/usr/local/lib/python3.7/dist-packages/seaborn/algorithms.py:85: RankWarning: Polyfit may be poorly conditioned\n  boot_dist.append(f(*sample, **func_kwargs))\n/usr/local/lib/python3.7/dist-packages/seaborn/algorithms.py:85: RankWarning: Polyfit may be poorly conditioned\n  boot_dist.append(f(*sample, **func_kwargs))\n/usr/local/lib/python3.7/dist-packages/seaborn/algorithms.py:85: RankWarning: Polyfit may be poorly conditioned\n  boot_dist.append(f(*sample, **func_kwargs))\n/usr/local/lib/python3.7/dist-packages/seaborn/algorithms.py:85: RankWarning: Polyfit may be poorly conditioned\n  boot_dist.append(f(*sample, **func_kwargs))\n/usr/local/lib/python3.7/dist-packages/seaborn/algorithms.py:85: RankWarning: Polyfit may be poorly conditioned\n  boot_dist.append(f(*sample, **func_kwargs))\n/usr/local/lib/python3.7/dist-packages/seaborn/algorithms.py:85: RankWarning: Polyfit may be poorly conditioned\n  boot_dist.append(f(*sample, **func_kwargs))\n/usr/local/lib/python3.7/dist-packages/seaborn/algorithms.py:85: RankWarning: Polyfit may be poorly conditioned\n  boot_dist.append(f(*sample, **func_kwargs))\n/usr/local/lib/python3.7/dist-packages/seaborn/algorithms.py:85: RankWarning: Polyfit may be poorly conditioned\n  boot_dist.append(f(*sample, **func_kwargs))\n/usr/local/lib/python3.7/dist-packages/seaborn/algorithms.py:85: RankWarning: Polyfit may be poorly conditioned\n  boot_dist.append(f(*sample, **func_kwargs))\n/usr/local/lib/python3.7/dist-packages/seaborn/algorithms.py:85: RankWarning: Polyfit may be poorly conditioned\n  boot_dist.append(f(*sample, **func_kwargs))\n/usr/local/lib/python3.7/dist-packages/seaborn/algorithms.py:85: RankWarning: Polyfit may be poorly conditioned\n  boot_dist.append(f(*sample, **func_kwargs))\n/usr/local/lib/python3.7/dist-packages/seaborn/algorithms.py:85: RankWarning: Polyfit may be poorly conditioned\n  boot_dist.append(f(*sample, **func_kwargs))\n/usr/local/lib/python3.7/dist-packages/seaborn/algorithms.py:85: RankWarning: Polyfit may be poorly conditioned\n  boot_dist.append(f(*sample, **func_kwargs))\n/usr/local/lib/python3.7/dist-packages/seaborn/algorithms.py:85: RankWarning: Polyfit may be poorly conditioned\n  boot_dist.append(f(*sample, **func_kwargs))\n/usr/local/lib/python3.7/dist-packages/seaborn/algorithms.py:85: RankWarning: Polyfit may be poorly conditioned\n  boot_dist.append(f(*sample, **func_kwargs))\n/usr/local/lib/python3.7/dist-packages/seaborn/algorithms.py:85: RankWarning: Polyfit may be poorly conditioned\n  boot_dist.append(f(*sample, **func_kwargs))\n/usr/local/lib/python3.7/dist-packages/seaborn/algorithms.py:85: RankWarning: Polyfit may be poorly conditioned\n  boot_dist.append(f(*sample, **func_kwargs))\n/usr/local/lib/python3.7/dist-packages/seaborn/algorithms.py:85: RankWarning: Polyfit may be poorly conditioned\n  boot_dist.append(f(*sample, **func_kwargs))\n/usr/local/lib/python3.7/dist-packages/seaborn/algorithms.py:85: RankWarning: Polyfit may be poorly conditioned\n  boot_dist.append(f(*sample, **func_kwargs))\n/usr/local/lib/python3.7/dist-packages/seaborn/algorithms.py:85: RankWarning: Polyfit may be poorly conditioned\n  boot_dist.append(f(*sample, **func_kwargs))\n/usr/local/lib/python3.7/dist-packages/seaborn/algorithms.py:85: RankWarning: Polyfit may be poorly conditioned\n  boot_dist.append(f(*sample, **func_kwargs))\n/usr/local/lib/python3.7/dist-packages/seaborn/algorithms.py:85: RankWarning: Polyfit may be poorly conditioned\n  boot_dist.append(f(*sample, **func_kwargs))\n/usr/local/lib/python3.7/dist-packages/seaborn/algorithms.py:85: RankWarning: Polyfit may be poorly conditioned\n  boot_dist.append(f(*sample, **func_kwargs))\n/usr/local/lib/python3.7/dist-packages/seaborn/algorithms.py:85: RankWarning: Polyfit may be poorly conditioned\n  boot_dist.append(f(*sample, **func_kwargs))\n/usr/local/lib/python3.7/dist-packages/seaborn/algorithms.py:85: RankWarning: Polyfit may be poorly conditioned\n  boot_dist.append(f(*sample, **func_kwargs))\n/usr/local/lib/python3.7/dist-packages/seaborn/algorithms.py:85: RankWarning: Polyfit may be poorly conditioned\n  boot_dist.append(f(*sample, **func_kwargs))\n/usr/local/lib/python3.7/dist-packages/seaborn/algorithms.py:85: RankWarning: Polyfit may be poorly conditioned\n  boot_dist.append(f(*sample, **func_kwargs))\n/usr/local/lib/python3.7/dist-packages/seaborn/algorithms.py:85: RankWarning: Polyfit may be poorly conditioned\n  boot_dist.append(f(*sample, **func_kwargs))\n/usr/local/lib/python3.7/dist-packages/seaborn/algorithms.py:85: RankWarning: Polyfit may be poorly conditioned\n  boot_dist.append(f(*sample, **func_kwargs))\n/usr/local/lib/python3.7/dist-packages/seaborn/algorithms.py:85: RankWarning: Polyfit may be poorly conditioned\n  boot_dist.append(f(*sample, **func_kwargs))\n/usr/local/lib/python3.7/dist-packages/seaborn/algorithms.py:85: RankWarning: Polyfit may be poorly conditioned\n  boot_dist.append(f(*sample, **func_kwargs))\n/usr/local/lib/python3.7/dist-packages/seaborn/algorithms.py:85: RankWarning: Polyfit may be poorly conditioned\n  boot_dist.append(f(*sample, **func_kwargs))\n",
                "stream": "stderr"
              },
              {
                "output_type": "stream",
                "metadata": {
                  "tags": []
                },
                "text": "/usr/local/lib/python3.7/dist-packages/seaborn/algorithms.py:85: RankWarning: Polyfit may be poorly conditioned\n  boot_dist.append(f(*sample, **func_kwargs))\n/usr/local/lib/python3.7/dist-packages/seaborn/algorithms.py:85: RankWarning: Polyfit may be poorly conditioned\n  boot_dist.append(f(*sample, **func_kwargs))\n/usr/local/lib/python3.7/dist-packages/seaborn/algorithms.py:85: RankWarning: Polyfit may be poorly conditioned\n  boot_dist.append(f(*sample, **func_kwargs))\n/usr/local/lib/python3.7/dist-packages/seaborn/algorithms.py:85: RankWarning: Polyfit may be poorly conditioned\n  boot_dist.append(f(*sample, **func_kwargs))\n/usr/local/lib/python3.7/dist-packages/seaborn/algorithms.py:85: RankWarning: Polyfit may be poorly conditioned\n  boot_dist.append(f(*sample, **func_kwargs))\n/usr/local/lib/python3.7/dist-packages/seaborn/algorithms.py:85: RankWarning: Polyfit may be poorly conditioned\n  boot_dist.append(f(*sample, **func_kwargs))\n/usr/local/lib/python3.7/dist-packages/seaborn/algorithms.py:85: RankWarning: Polyfit may be poorly conditioned\n  boot_dist.append(f(*sample, **func_kwargs))\n/usr/local/lib/python3.7/dist-packages/seaborn/algorithms.py:85: RankWarning: Polyfit may be poorly conditioned\n  boot_dist.append(f(*sample, **func_kwargs))\n/usr/local/lib/python3.7/dist-packages/seaborn/algorithms.py:85: RankWarning: Polyfit may be poorly conditioned\n  boot_dist.append(f(*sample, **func_kwargs))\n/usr/local/lib/python3.7/dist-packages/seaborn/algorithms.py:85: RankWarning: Polyfit may be poorly conditioned\n  boot_dist.append(f(*sample, **func_kwargs))\n/usr/local/lib/python3.7/dist-packages/seaborn/algorithms.py:85: RankWarning: Polyfit may be poorly conditioned\n  boot_dist.append(f(*sample, **func_kwargs))\n/usr/local/lib/python3.7/dist-packages/seaborn/algorithms.py:85: RankWarning: Polyfit may be poorly conditioned\n  boot_dist.append(f(*sample, **func_kwargs))\n/usr/local/lib/python3.7/dist-packages/seaborn/algorithms.py:85: RankWarning: Polyfit may be poorly conditioned\n  boot_dist.append(f(*sample, **func_kwargs))\n/usr/local/lib/python3.7/dist-packages/seaborn/algorithms.py:85: RankWarning: Polyfit may be poorly conditioned\n  boot_dist.append(f(*sample, **func_kwargs))\n/usr/local/lib/python3.7/dist-packages/seaborn/algorithms.py:85: RankWarning: Polyfit may be poorly conditioned\n  boot_dist.append(f(*sample, **func_kwargs))\n/usr/local/lib/python3.7/dist-packages/seaborn/algorithms.py:85: RankWarning: Polyfit may be poorly conditioned\n  boot_dist.append(f(*sample, **func_kwargs))\n/usr/local/lib/python3.7/dist-packages/seaborn/algorithms.py:85: RankWarning: Polyfit may be poorly conditioned\n  boot_dist.append(f(*sample, **func_kwargs))\n/usr/local/lib/python3.7/dist-packages/seaborn/algorithms.py:85: RankWarning: Polyfit may be poorly conditioned\n  boot_dist.append(f(*sample, **func_kwargs))\n/usr/local/lib/python3.7/dist-packages/seaborn/algorithms.py:85: RankWarning: Polyfit may be poorly conditioned\n  boot_dist.append(f(*sample, **func_kwargs))\n/usr/local/lib/python3.7/dist-packages/seaborn/algorithms.py:85: RankWarning: Polyfit may be poorly conditioned\n  boot_dist.append(f(*sample, **func_kwargs))\n/usr/local/lib/python3.7/dist-packages/seaborn/algorithms.py:85: RankWarning: Polyfit may be poorly conditioned\n  boot_dist.append(f(*sample, **func_kwargs))\n/usr/local/lib/python3.7/dist-packages/seaborn/algorithms.py:85: RankWarning: Polyfit may be poorly conditioned\n  boot_dist.append(f(*sample, **func_kwargs))\n/usr/local/lib/python3.7/dist-packages/seaborn/algorithms.py:85: RankWarning: Polyfit may be poorly conditioned\n  boot_dist.append(f(*sample, **func_kwargs))\n/usr/local/lib/python3.7/dist-packages/seaborn/algorithms.py:85: RankWarning: Polyfit may be poorly conditioned\n  boot_dist.append(f(*sample, **func_kwargs))\n/usr/local/lib/python3.7/dist-packages/seaborn/algorithms.py:85: RankWarning: Polyfit may be poorly conditioned\n  boot_dist.append(f(*sample, **func_kwargs))\n/usr/local/lib/python3.7/dist-packages/seaborn/algorithms.py:85: RankWarning: Polyfit may be poorly conditioned\n  boot_dist.append(f(*sample, **func_kwargs))\n/usr/local/lib/python3.7/dist-packages/seaborn/algorithms.py:85: RankWarning: Polyfit may be poorly conditioned\n  boot_dist.append(f(*sample, **func_kwargs))\n/usr/local/lib/python3.7/dist-packages/seaborn/algorithms.py:85: RankWarning: Polyfit may be poorly conditioned\n  boot_dist.append(f(*sample, **func_kwargs))\n/usr/local/lib/python3.7/dist-packages/seaborn/algorithms.py:85: RankWarning: Polyfit may be poorly conditioned\n  boot_dist.append(f(*sample, **func_kwargs))\n/usr/local/lib/python3.7/dist-packages/seaborn/algorithms.py:85: RankWarning: Polyfit may be poorly conditioned\n  boot_dist.append(f(*sample, **func_kwargs))\n/usr/local/lib/python3.7/dist-packages/seaborn/algorithms.py:85: RankWarning: Polyfit may be poorly conditioned\n  boot_dist.append(f(*sample, **func_kwargs))\n/usr/local/lib/python3.7/dist-packages/seaborn/algorithms.py:85: RankWarning: Polyfit may be poorly conditioned\n  boot_dist.append(f(*sample, **func_kwargs))\n/usr/local/lib/python3.7/dist-packages/seaborn/algorithms.py:85: RankWarning: Polyfit may be poorly conditioned\n  boot_dist.append(f(*sample, **func_kwargs))\n/usr/local/lib/python3.7/dist-packages/seaborn/algorithms.py:85: RankWarning: Polyfit may be poorly conditioned\n  boot_dist.append(f(*sample, **func_kwargs))\n/usr/local/lib/python3.7/dist-packages/seaborn/algorithms.py:85: RankWarning: Polyfit may be poorly conditioned\n  boot_dist.append(f(*sample, **func_kwargs))\n/usr/local/lib/python3.7/dist-packages/seaborn/algorithms.py:85: RankWarning: Polyfit may be poorly conditioned\n  boot_dist.append(f(*sample, **func_kwargs))\n/usr/local/lib/python3.7/dist-packages/seaborn/algorithms.py:85: RankWarning: Polyfit may be poorly conditioned\n  boot_dist.append(f(*sample, **func_kwargs))\n/usr/local/lib/python3.7/dist-packages/seaborn/algorithms.py:85: RankWarning: Polyfit may be poorly conditioned\n  boot_dist.append(f(*sample, **func_kwargs))\n/usr/local/lib/python3.7/dist-packages/seaborn/algorithms.py:85: RankWarning: Polyfit may be poorly conditioned\n  boot_dist.append(f(*sample, **func_kwargs))\n/usr/local/lib/python3.7/dist-packages/seaborn/algorithms.py:85: RankWarning: Polyfit may be poorly conditioned\n  boot_dist.append(f(*sample, **func_kwargs))\n/usr/local/lib/python3.7/dist-packages/seaborn/algorithms.py:85: RankWarning: Polyfit may be poorly conditioned\n  boot_dist.append(f(*sample, **func_kwargs))\n/usr/local/lib/python3.7/dist-packages/seaborn/algorithms.py:85: RankWarning: Polyfit may be poorly conditioned\n  boot_dist.append(f(*sample, **func_kwargs))\n/usr/local/lib/python3.7/dist-packages/seaborn/algorithms.py:85: RankWarning: Polyfit may be poorly conditioned\n  boot_dist.append(f(*sample, **func_kwargs))\n/usr/local/lib/python3.7/dist-packages/seaborn/algorithms.py:85: RankWarning: Polyfit may be poorly conditioned\n  boot_dist.append(f(*sample, **func_kwargs))\n/usr/local/lib/python3.7/dist-packages/seaborn/algorithms.py:85: RankWarning: Polyfit may be poorly conditioned\n  boot_dist.append(f(*sample, **func_kwargs))\n/usr/local/lib/python3.7/dist-packages/seaborn/algorithms.py:85: RankWarning: Polyfit may be poorly conditioned\n  boot_dist.append(f(*sample, **func_kwargs))\n/usr/local/lib/python3.7/dist-packages/seaborn/algorithms.py:85: RankWarning: Polyfit may be poorly conditioned\n  boot_dist.append(f(*sample, **func_kwargs))\n/usr/local/lib/python3.7/dist-packages/seaborn/algorithms.py:85: RankWarning: Polyfit may be poorly conditioned\n  boot_dist.append(f(*sample, **func_kwargs))\n/usr/local/lib/python3.7/dist-packages/seaborn/algorithms.py:85: RankWarning: Polyfit may be poorly conditioned\n  boot_dist.append(f(*sample, **func_kwargs))\n/usr/local/lib/python3.7/dist-packages/seaborn/algorithms.py:85: RankWarning: Polyfit may be poorly conditioned\n  boot_dist.append(f(*sample, **func_kwargs))\n/usr/local/lib/python3.7/dist-packages/seaborn/algorithms.py:85: RankWarning: Polyfit may be poorly conditioned\n  boot_dist.append(f(*sample, **func_kwargs))\n/usr/local/lib/python3.7/dist-packages/seaborn/algorithms.py:85: RankWarning: Polyfit may be poorly conditioned\n  boot_dist.append(f(*sample, **func_kwargs))\n/usr/local/lib/python3.7/dist-packages/seaborn/algorithms.py:85: RankWarning: Polyfit may be poorly conditioned\n  boot_dist.append(f(*sample, **func_kwargs))\n/usr/local/lib/python3.7/dist-packages/seaborn/algorithms.py:85: RankWarning: Polyfit may be poorly conditioned\n  boot_dist.append(f(*sample, **func_kwargs))\n/usr/local/lib/python3.7/dist-packages/seaborn/algorithms.py:85: RankWarning: Polyfit may be poorly conditioned\n  boot_dist.append(f(*sample, **func_kwargs))\n/usr/local/lib/python3.7/dist-packages/seaborn/algorithms.py:85: RankWarning: Polyfit may be poorly conditioned\n  boot_dist.append(f(*sample, **func_kwargs))\n/usr/local/lib/python3.7/dist-packages/seaborn/algorithms.py:85: RankWarning: Polyfit may be poorly conditioned\n  boot_dist.append(f(*sample, **func_kwargs))\n/usr/local/lib/python3.7/dist-packages/seaborn/algorithms.py:85: RankWarning: Polyfit may be poorly conditioned\n  boot_dist.append(f(*sample, **func_kwargs))\n/usr/local/lib/python3.7/dist-packages/seaborn/algorithms.py:85: RankWarning: Polyfit may be poorly conditioned\n  boot_dist.append(f(*sample, **func_kwargs))\n/usr/local/lib/python3.7/dist-packages/seaborn/algorithms.py:85: RankWarning: Polyfit may be poorly conditioned\n  boot_dist.append(f(*sample, **func_kwargs))\n/usr/local/lib/python3.7/dist-packages/seaborn/algorithms.py:85: RankWarning: Polyfit may be poorly conditioned\n  boot_dist.append(f(*sample, **func_kwargs))\n/usr/local/lib/python3.7/dist-packages/seaborn/algorithms.py:85: RankWarning: Polyfit may be poorly conditioned\n  boot_dist.append(f(*sample, **func_kwargs))\n/usr/local/lib/python3.7/dist-packages/seaborn/algorithms.py:85: RankWarning: Polyfit may be poorly conditioned\n  boot_dist.append(f(*sample, **func_kwargs))\n/usr/local/lib/python3.7/dist-packages/seaborn/algorithms.py:85: RankWarning: Polyfit may be poorly conditioned\n  boot_dist.append(f(*sample, **func_kwargs))\n/usr/local/lib/python3.7/dist-packages/seaborn/algorithms.py:85: RankWarning: Polyfit may be poorly conditioned\n  boot_dist.append(f(*sample, **func_kwargs))\n/usr/local/lib/python3.7/dist-packages/seaborn/algorithms.py:85: RankWarning: Polyfit may be poorly conditioned\n  boot_dist.append(f(*sample, **func_kwargs))\n/usr/local/lib/python3.7/dist-packages/seaborn/algorithms.py:85: RankWarning: Polyfit may be poorly conditioned\n  boot_dist.append(f(*sample, **func_kwargs))\n",
                "stream": "stderr"
              },
              {
                "output_type": "display_data",
                "metadata": {
                  "tags": [],
                  "needs_background": "light"
                },
                "image/png": "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\n",
                "text/plain": "<Figure size 432x288 with 1 Axes>"
              }
            ],
            "_view_module": "@jupyter-widgets/output",
            "_model_module_version": "1.0.0",
            "_view_count": null,
            "_view_module_version": "1.0.0",
            "layout": "IPY_MODEL_7c749c9c466a4726b1a00b1b36a02913",
            "_model_module": "@jupyter-widgets/output"
          }
        },
        "b4eec3b6915042a1b66f317374128002": {
          "model_module": "@jupyter-widgets/controls",
          "model_name": "DescriptionStyleModel",
          "state": {
            "_view_name": "StyleView",
            "_model_name": "DescriptionStyleModel",
            "description_width": "",
            "_view_module": "@jupyter-widgets/base",
            "_model_module_version": "1.5.0",
            "_view_count": null,
            "_view_module_version": "1.2.0",
            "_model_module": "@jupyter-widgets/controls"
          }
        },
        "59d008127fb94b5e91538dd912cb8b54": {
          "model_module": "@jupyter-widgets/base",
          "model_name": "LayoutModel",
          "state": {
            "_view_name": "LayoutView",
            "grid_template_rows": null,
            "right": null,
            "justify_content": null,
            "_view_module": "@jupyter-widgets/base",
            "overflow": null,
            "_model_module_version": "1.2.0",
            "_view_count": null,
            "flex_flow": null,
            "width": null,
            "min_width": null,
            "border": null,
            "align_items": null,
            "bottom": null,
            "_model_module": "@jupyter-widgets/base",
            "top": null,
            "grid_column": null,
            "overflow_y": null,
            "overflow_x": null,
            "grid_auto_flow": null,
            "grid_area": null,
            "grid_template_columns": null,
            "flex": null,
            "_model_name": "LayoutModel",
            "justify_items": null,
            "grid_row": null,
            "max_height": null,
            "align_content": null,
            "visibility": null,
            "align_self": null,
            "height": null,
            "min_height": null,
            "padding": null,
            "grid_auto_rows": null,
            "grid_gap": null,
            "max_width": null,
            "order": null,
            "_view_module_version": "1.2.0",
            "grid_template_areas": null,
            "object_position": null,
            "object_fit": null,
            "grid_auto_columns": null,
            "margin": null,
            "display": null,
            "left": null
          }
        },
        "7c749c9c466a4726b1a00b1b36a02913": {
          "model_module": "@jupyter-widgets/base",
          "model_name": "LayoutModel",
          "state": {
            "_view_name": "LayoutView",
            "grid_template_rows": null,
            "right": null,
            "justify_content": null,
            "_view_module": "@jupyter-widgets/base",
            "overflow": null,
            "_model_module_version": "1.2.0",
            "_view_count": null,
            "flex_flow": null,
            "width": null,
            "min_width": null,
            "border": null,
            "align_items": null,
            "bottom": null,
            "_model_module": "@jupyter-widgets/base",
            "top": null,
            "grid_column": null,
            "overflow_y": null,
            "overflow_x": null,
            "grid_auto_flow": null,
            "grid_area": null,
            "grid_template_columns": null,
            "flex": null,
            "_model_name": "LayoutModel",
            "justify_items": null,
            "grid_row": null,
            "max_height": null,
            "align_content": null,
            "visibility": null,
            "align_self": null,
            "height": null,
            "min_height": null,
            "padding": null,
            "grid_auto_rows": null,
            "grid_gap": null,
            "max_width": null,
            "order": null,
            "_view_module_version": "1.2.0",
            "grid_template_areas": null,
            "object_position": null,
            "object_fit": null,
            "grid_auto_columns": null,
            "margin": null,
            "display": null,
            "left": null
          }
        }
      }
    }
  },
  "cells": [
    {
      "cell_type": "markdown",
      "metadata": {
        "id": "plJTnYlitLZt"
      },
      "source": [
        "# **Model Validation**\r\n",
        "## 1] Model Capacity\r\n",
        "  * import packages -> pandas DataFrame -> scatterplot\r\n",
        "  1. 1차 함수, 2차 함수, 5차 함수, 9차 함수 모델 시각화\r\n",
        "  2. 4개 모델 비교 시각화\r\n",
        "\r\n",
        "## 2]. Training Error\r\n",
        "  1.   1차 모델 Training Error\r\n",
        "    *  X_train, y_train\r\n",
        "    *  LinearRegression 모델 생성(행렬 계산을 통해 최적값의 연산식을 간단하게)\r\n",
        "    * 모델 정보(학습 결과)확인\r\n",
        "    * y_hat(예측값) 생성\r\n",
        "    * MSE 계산\r\n",
        "\r\n",
        "  2.   5차, 9차 모델 Training Error 생성\r\n",
        "    * X 다항차수 변환(PolynomialFeatures) & X_train, y_train\r\n",
        "    * 다항차수의 LinearRegression 모델 생성\r\n",
        "    * 모델 정보(학습 결과)확인\r\n",
        "    * y_hat(예측값) 생성\r\n",
        "    * MSE 계산\r\n",
        "\r\n",
        "  3. 3개 모델 Training Error값(MSE) 비교\r\n",
        "  4. 잔차(Residual, 혹은 오차Error) 시각화 비교(with residplot)\r\n",
        "    <p> ※ residplot? 선형회귀를 통해 각 데이터로부터 얻은 잔차값을 그래프로 그리는 기능\r\n",
        "\r\n",
        "## 3] Testing Error\r\n",
        "1.   Train_Data vs. Test_Data\r\n",
        "  *  **DataFrame Split** (sklearn.train_test_split) - <U>Train_DF : Test_DF</U>(8:2) \r\n",
        "  *   **Array Split** (sklearn.train_test_split) - <U> X_train : X_test</U> **|** <U>y_train : y_test</U> (8:2)\r\n",
        "  * Distribution Visualization(with scattorplot) - Train Data vs. Test Data\r\n",
        "\r\n",
        "\r\n",
        "2.   1차, 5차, 9차 모델 Testing Error\r\n",
        "    * Train_Data로 LinearRegression 모델 생성\r\n",
        "    * Test_Data로 y_hat(예측값) 생성\r\n",
        "    * Test_Data로 MSE 계산\r\n",
        "3. 3개 모델 Testing Error 비교\r\n",
        "\r\n",
        "## 4] Validation Approach\r\n",
        "1.   **데이터분리** sklearn.train_test_split - <U>Train_Data : Validation_Data : Test_Data</U>(6:2:2)\r\n",
        "2. 다항차수 모델 Validation Error\r\n",
        "    * Train_Data로 모델 생성\r\n",
        "    * Validation_Data로 y_hat(예측값) 생성 및 MSE 계산\r\n",
        "    * 각각의 모델 Validation Error(MSE값) 비교\r\n",
        "    * 최종 모델을 Test_Data에 적용(Test_Data로  y_hat(예측값) 생성 및 MSE 계산)\r\n",
        "\r\n",
        "\r\n",
        "\r\n",
        "\r\n",
        "\r\n",
        "\r\n",
        "\r\n",
        "\r\n"
      ]
    },
    {
      "cell_type": "markdown",
      "metadata": {
        "id": "gYJ6qB3T-rH2"
      },
      "source": [
        "# **Model Validation**\r\n",
        "\r\n"
      ]
    },
    {
      "cell_type": "markdown",
      "metadata": {
        "id": "z63oA5UnPFQ2"
      },
      "source": [
        "## 1] Model Capacity"
      ]
    },
    {
      "cell_type": "markdown",
      "metadata": {
        "id": "OLlpb3CqA-Fv"
      },
      "source": [
        "####   ⦁ Import packages\r\n",
        "  *   <U>pandas</U> - 데이터 처리와 분석을 위한 라이브러리\r\n",
        "  *   <U>pandas</U> - DataFrame. 엑셀과 같은 테이블 형태\r\n",
        "  *   <U>matplotlib</U> - 그래프 라이브러리 (선 그래프, 히스토그램, 산점도 등)\r\n",
        "  * <U>numpy</U> - 과학 계산, 다차원 **배열**, (선형대수연산, 푸리에 변환 같은 고소준 수학 함수와 유사난수 생성기 포함)\r\n",
        "  * <U>seaborn</U> - 시각화하기 위한 가장 좋은 특징\r\n",
        "  ---\r\n",
        "  *  <U>sklearn</U> - 여러가지 머신러닝 알고리즘이 있는 라이브러리/데이터프레임으로 넣어야만 가능 **or** numpy array형태\r\n",
        "  <p>series = ------------- 이렇게 768개 (series는 데이터프레임 형태X)\r\n",
        "<p>sklearn은 x를 세로형태(=Data Frame)로 받아야.\r\n",
        "<p> 그래서 np.array.reshape로 만들던가.\r\n",
        "ex) array.reshape(-1,1)\r\n",
        "<p> -1은 값이 어느정도인지 모를 때 사용. 가지고 있는 값의 형태로 전부 넣는. "
      ]
    },
    {
      "cell_type": "code",
      "metadata": {
        "id": "itWc3bA0CfPv"
      },
      "source": [
        "import pandas as pd\r\n",
        "import matplotlib.pyplot as plt\r\n",
        "import seaborn as sns"
      ],
      "execution_count": 1,
      "outputs": []
    },
    {
      "cell_type": "markdown",
      "metadata": {
        "id": "F4U-ZTDECpbs"
      },
      "source": [
        "### ⦁pandas DataFrame - Electiric.csv"
      ]
    },
    {
      "cell_type": "code",
      "metadata": {
        "colab": {
          "base_uri": "https://localhost:8080/"
        },
        "id": "Psd3YXSUCxaP",
        "outputId": "611dd14e-3c15-4ca4-8872-c339f70d00c3"
      },
      "source": [
        "Elec = pd.read_csv('https://raw.githubusercontent.com/rusita-ai/pyData/master/Electric.csv')\r\n",
        "Elec.info()"
      ],
      "execution_count": 2,
      "outputs": [
        {
          "output_type": "stream",
          "text": [
            "<class 'pandas.core.frame.DataFrame'>\n",
            "RangeIndex: 768 entries, 0 to 767\n",
            "Data columns (total 9 columns):\n",
            " #   Column                     Non-Null Count  Dtype  \n",
            "---  ------                     --------------  -----  \n",
            " 0   compactness                768 non-null    float64\n",
            " 1   surface_area               768 non-null    float64\n",
            " 2   wall_area                  768 non-null    float64\n",
            " 3   roof_area                  768 non-null    float64\n",
            " 4   height                     768 non-null    float64\n",
            " 5   orientation                768 non-null    int64  \n",
            " 6   glazing_area               768 non-null    float64\n",
            " 7   glazing_area_distribution  768 non-null    int64  \n",
            " 8   electricity                768 non-null    float64\n",
            "dtypes: float64(7), int64(2)\n",
            "memory usage: 54.1 KB\n"
          ],
          "name": "stdout"
        }
      ]
    },
    {
      "cell_type": "markdown",
      "metadata": {
        "id": "VLqvTHcMC8sO"
      },
      "source": [
        "* 768행 9열 \r\n",
        "* 내가 예측하고 싶은 것 = y값. \r\n",
        "* y와 **관련된** 데이터 = x값\r\n",
        "* 관련된 열에 non-null 있는지 확인"
      ]
    },
    {
      "cell_type": "code",
      "metadata": {
        "colab": {
          "base_uri": "https://localhost:8080/"
        },
        "id": "EX5GeBhlD1ZQ",
        "outputId": "998118be-a837-402d-9781-2ca6626bf4c6"
      },
      "source": [
        "type(Elec)"
      ],
      "execution_count": 7,
      "outputs": [
        {
          "output_type": "execute_result",
          "data": {
            "text/plain": [
              "pandas.core.frame.DataFrame"
            ]
          },
          "metadata": {
            "tags": []
          },
          "execution_count": 7
        }
      ]
    },
    {
      "cell_type": "code",
      "metadata": {
        "colab": {
          "base_uri": "https://localhost:8080/"
        },
        "id": "DKbOpMOSEEPu",
        "outputId": "34eb8004-eb2f-4379-ba85-f7b2ed877f0e"
      },
      "source": [
        "type(Elec['surface_area'])"
      ],
      "execution_count": 9,
      "outputs": [
        {
          "output_type": "execute_result",
          "data": {
            "text/plain": [
              "pandas.core.series.Series"
            ]
          },
          "metadata": {
            "tags": []
          },
          "execution_count": 9
        }
      ]
    },
    {
      "cell_type": "markdown",
      "metadata": {
        "id": "1_DuB3OHEZmf"
      },
      "source": [
        "### ⦁ pandas = DataFrame 형태로 호출\r\n",
        " ⦁ DataFrame에서 [ ] = Series 형태"
      ]
    },
    {
      "cell_type": "code",
      "metadata": {
        "colab": {
          "base_uri": "https://localhost:8080/",
          "height": 336
        },
        "id": "EnFPT1dwEGZ-",
        "outputId": "041894fc-da85-4f36-c87a-dc013287d98c"
      },
      "source": [
        "sns.scatterplot(Elec['surface_area'], Elec['electricity'])\r\n",
        "plt.show()"
      ],
      "execution_count": 10,
      "outputs": [
        {
          "output_type": "stream",
          "text": [
            "/usr/local/lib/python3.7/dist-packages/seaborn/_decorators.py:43: FutureWarning: Pass the following variables as keyword args: x, y. From version 0.12, the only valid positional argument will be `data`, and passing other arguments without an explicit keyword will result in an error or misinterpretation.\n",
            "  FutureWarning\n"
          ],
          "name": "stderr"
        },
        {
          "output_type": "display_data",
          "data": {
            "image/png": "[encoded data removed]",
            "text/plain": [
              "<Figure size 432x288 with 1 Axes>"
            ]
          },
          "metadata": {
            "tags": [],
            "needs_background": "light"
          }
        }
      ]
    },
    {
      "cell_type": "markdown",
      "metadata": {
        "id": "4LOQ9MXkEwhH"
      },
      "source": [
        "\r\n",
        "\r\n",
        "### 1-.   1차 함수 모델 시각화(with sns.regplot)\r\n",
        "\r\n"
      ]
    },
    {
      "cell_type": "code",
      "metadata": {
        "colab": {
          "base_uri": "https://localhost:8080/",
          "height": 280
        },
        "id": "B6v9Ok_iFZ7I",
        "outputId": "67462efa-cdd7-46ae-bba5-4fde74b48ed8"
      },
      "source": [
        "# regplot = regressionplot 예측plot\r\n",
        "sns.regplot(x = 'surface_area', y='electricity', data=Elec,\r\n",
        "            line_kws = {'color':'red'},\r\n",
        "            scatter_kws = {'edgecolor':'white'}) # 동그라미(scatter)의 edge 색깔\r\n",
        "plt.xlim(505, 820)            \r\n",
        "plt.show()"
      ],
      "execution_count": 12,
      "outputs": [
        {
          "output_type": "display_data",
          "data": {
            "image/png": "[encoded data removed]",
            "text/plain": [
              "<Figure size 432x288 with 1 Axes>"
            ]
          },
          "metadata": {
            "tags": [],
            "needs_background": "light"
          }
        }
      ]
    },
    {
      "cell_type": "markdown",
      "metadata": {
        "id": "Ql7V9-aMFOo2"
      },
      "source": [
        "\r\n",
        "### 1-.   2차 함수 모델 시각화\r\n",
        "\r\n"
      ]
    },
    {
      "cell_type": "code",
      "metadata": {
        "colab": {
          "base_uri": "https://localhost:8080/",
          "height": 280
        },
        "id": "3GBB6jkjGAMW",
        "outputId": "9f219866-bf31-431e-a8b3-581a39750841"
      },
      "source": [
        "sns.regplot( x = 'surface_area', y='electricity', data=Elec,\r\n",
        "            line_kws = {'color':'blue'},\r\n",
        "            scatter_kws ={'edgecolor':'white'},\r\n",
        "            order = 2)\r\n",
        "plt.xlim(505, 820)\r\n",
        "plt.show()"
      ],
      "execution_count": 14,
      "outputs": [
        {
          "output_type": "display_data",
          "data": {
            "image/png": "[encoded data removed]",
            "text/plain": [
              "<Figure size 432x288 with 1 Axes>"
            ]
          },
          "metadata": {
            "tags": [],
            "needs_background": "light"
          }
        }
      ]
    },
    {
      "cell_type": "markdown",
      "metadata": {
        "id": "LYnDlKzJFUO-"
      },
      "source": [
        "### 1-.   5차 함수 모델 시각화"
      ]
    },
    {
      "cell_type": "code",
      "metadata": {
        "colab": {
          "base_uri": "https://localhost:8080/",
          "height": 280
        },
        "id": "sOjY6_mOGVmH",
        "outputId": "aebcf83e-0afb-4131-c288-3fc8a66d7c67"
      },
      "source": [
        "sns.regplot(x='surface_area', y='electricity', data=Elec,\r\n",
        "            line_kws={'color':'green'},\r\n",
        "            scatter_kws={'edgecolor':'white'},\r\n",
        "            order = 5)\r\n",
        "plt.xlim(505, 820)\r\n",
        "plt.show()"
      ],
      "execution_count": 16,
      "outputs": [
        {
          "output_type": "display_data",
          "data": {
            "image/png": "[encoded data removed]",
            "text/plain": [
              "<Figure size 432x288 with 1 Axes>"
            ]
          },
          "metadata": {
            "tags": [],
            "needs_background": "light"
          }
        }
      ]
    },
    {
      "cell_type": "markdown",
      "metadata": {
        "id": "j2uQzq7sFV0s"
      },
      "source": [
        "### 1-.   9차 함수 모델 시각화"
      ]
    },
    {
      "cell_type": "code",
      "metadata": {
        "colab": {
          "base_uri": "https://localhost:8080/",
          "height": 284
        },
        "id": "0H7Gt-42FZOl",
        "outputId": "e48e0617-9e28-4a34-ceda-950b4f350695"
      },
      "source": [
        "sns.regplot(x='surface_area', y='electricity', data=Elec,\r\n",
        "            line_kws ={'color':'orange'},\r\n",
        "            scatter_kws={'edgecolor':'white'},\r\n",
        "            order=9)\r\n",
        "plt.xlim(505,820)\r\n",
        "plt.ylim(50, 450)\r\n",
        "plt.show()"
      ],
      "execution_count": 38,
      "outputs": [
        {
          "output_type": "display_data",
          "data": {
            "image/png": "[encoded data removed]",
            "text/plain": [
              "<Figure size 432x288 with 1 Axes>"
            ]
          },
          "metadata": {
            "tags": [],
            "needs_background": "light"
          }
        }
      ]
    },
    {
      "cell_type": "markdown",
      "metadata": {
        "id": "6jRg9fnBHM_m"
      },
      "source": [
        "### 2-. 4개 모델 비교 시각화\r\n",
        "\r\n",
        "\r\n",
        "\r\n"
      ]
    },
    {
      "cell_type": "code",
      "metadata": {
        "colab": {
          "base_uri": "https://localhost:8080/",
          "height": 293
        },
        "id": "RGOdCMAiHmol",
        "outputId": "44c6b2e5-bada-4b35-a787-e913f5a06e37"
      },
      "source": [
        "sns.regplot(x='surface_area', y='electricity', data=Elec, line_kws={'color':'red'})\r\n",
        "sns.regplot(x='surface_area', y='electricity', data=Elec, line_kws={'color':'blue'}, order=2)\r\n",
        "sns.regplot(x='surface_area', y='electricity', data=Elec, line_kws={'color':'green'}, order=5)\r\n",
        "sns.regplot(x='surface_area', y='electricity', data=Elec, line_kws={'color':'orange'}, order=9,\r\n",
        "            scatter_kws={'color':'gray','edgecolor':'white'})\r\n",
        "plt.xlim(505,820)\r\n",
        "plt.ylim(50, 450)\r\n",
        "plt.xticks(rotation = 35) # x축 적히는 값의 기울기\r\n",
        "plt.yticks(rotation = 35)\r\n",
        "plt.show()"
      ],
      "execution_count": 27,
      "outputs": [
        {
          "output_type": "display_data",
          "data": {
            "image/png": "[encoded data removed]",
            "text/plain": [
              "<Figure size 432x288 with 1 Axes>"
            ]
          },
          "metadata": {
            "tags": [],
            "needs_background": "light"
          }
        }
      ]
    },
    {
      "cell_type": "code",
      "metadata": {
        "id": "VYzLEaGSJpPu"
      },
      "source": [
        "# ipywudgets Package - (order = x로 두고)\r\n",
        "def reg_plot(x):\r\n",
        "  sns.regplot(x = 'surface_area', y='electricity', data=Elec,\r\n",
        "            line_kws = {'color':'red'},\r\n",
        "            order = x,\r\n",
        "            scatter_kws = {'edgecolor':'white'}) # 동그라미(scatter)의 edge 색깔\r\n",
        "  plt.xlim(505, 820)    \r\n",
        "  #plt.ylim(50, 450)        \r\n",
        "  plt.show()"
      ],
      "execution_count": 39,
      "outputs": []
    },
    {
      "cell_type": "markdown",
      "metadata": {
        "id": "epj2EsOZLeiP"
      },
      "source": [
        "⦁아래에서 11 order을 선택하면 'RankWarning: Polyfit may be poorly conditioned boot_dist' 경고가 뜨는데, <p>it means **'use a lower order!'**\r\n",
        "<p>⦁Note that fitting polynomial <U>coefficients is</U> inherently badly conditioned when the degree of the polynomial is large or the interval of sample points is badly centered. The quality of the fit should always be checked in these cases. When polynomial fits are not satisfactory, splines may be a good alternative."
      ]
    },
    {
      "cell_type": "code",
      "metadata": {
        "colab": {
          "base_uri": "https://localhost:8080/",
          "height": 1000,
          "referenced_widgets": [
            "dea53a81e3fd407e81dccc925056dd7d",
            "04531306a5164d7bbfec63ccbbef3bbd",
            "9069cb1dfb5944d0b3ebea76bdf76f04",
            "ac8d679810c54f148990a1a73f4fac8e",
            "b4eec3b6915042a1b66f317374128002",
            "59d008127fb94b5e91538dd912cb8b54",
            "7c749c9c466a4726b1a00b1b36a02913"
          ]
        },
        "id": "Yx5F6JJBKNnb",
        "outputId": "ec905799-d912-4227-e915-45f2b82303c3"
      },
      "source": [
        "from ipywidgets import interact\r\n",
        "\r\n",
        "order = [1,2,5,9,11,13]\r\n",
        "interact(reg_plot, x = order)"
      ],
      "execution_count": 40,
      "outputs": [
        {
          "output_type": "display_data",
          "data": {
            "application/vnd.jupyter.widget-view+json": {
              "model_id": "dea53a81e3fd407e81dccc925056dd7d",
              "version_minor": 0,
              "version_major": 2
            },
            "text/plain": [
              "interactive(children=(Dropdown(description='x', options=(1, 2, 5, 9, 11, 13), value=1), Output()), _dom_classe…"
            ]
          },
          "metadata": {
            "tags": []
          }
        },
        {
          "output_type": "execute_result",
          "data": {
            "text/plain": [
              "<function __main__.reg_plot>"
            ]
          },
          "metadata": {
            "tags": []
          },
          "execution_count": 40
        }
      ]
    },
    {
      "cell_type": "markdown",
      "metadata": {
        "id": "-Z_TlFPrHVKl"
      },
      "source": [
        "## 2]. Training Error"
      ]
    },
    {
      "cell_type": "code",
      "metadata": {
        "id": "Iy_OLG0IMw4G"
      },
      "source": [
        "import pandas as pd\r\n",
        "import numpy as np\r\n",
        "import matplotlib.pyplot as plt\r\n",
        "import seaborn as sns"
      ],
      "execution_count": 41,
      "outputs": []
    },
    {
      "cell_type": "code",
      "metadata": {
        "colab": {
          "base_uri": "https://localhost:8080/"
        },
        "id": "pcA8tvX8M45W",
        "outputId": "8060538f-6a7e-4d15-ea66-d9cdf7dff550"
      },
      "source": [
        "Elec = pd.read_csv('https://raw.githubusercontent.com/rusita-ai/pyData/master/Electric.csv')\r\n",
        "Elec.info()"
      ],
      "execution_count": 42,
      "outputs": [
        {
          "output_type": "stream",
          "text": [
            "<class 'pandas.core.frame.DataFrame'>\n",
            "RangeIndex: 768 entries, 0 to 767\n",
            "Data columns (total 9 columns):\n",
            " #   Column                     Non-Null Count  Dtype  \n",
            "---  ------                     --------------  -----  \n",
            " 0   compactness                768 non-null    float64\n",
            " 1   surface_area               768 non-null    float64\n",
            " 2   wall_area                  768 non-null    float64\n",
            " 3   roof_area                  768 non-null    float64\n",
            " 4   height                     768 non-null    float64\n",
            " 5   orientation                768 non-null    int64  \n",
            " 6   glazing_area               768 non-null    float64\n",
            " 7   glazing_area_distribution  768 non-null    int64  \n",
            " 8   electricity                768 non-null    float64\n",
            "dtypes: float64(7), int64(2)\n",
            "memory usage: 54.1 KB\n"
          ],
          "name": "stdout"
        }
      ]
    },
    {
      "cell_type": "markdown",
      "metadata": {
        "id": "5HUdLbesNosu"
      },
      "source": [
        "###  1-.   1차 모델 Training Error\r\n",
        "\r\n",
        "\r\n",
        "\r\n"
      ]
    },
    {
      "cell_type": "markdown",
      "metadata": {
        "id": "40gtpOuRSWr1"
      },
      "source": [
        "#### ⦁ X_train, y_train (DataFrame 형태로 with pd)"
      ]
    },
    {
      "cell_type": "code",
      "metadata": {
        "colab": {
          "base_uri": "https://localhost:8080/"
        },
        "id": "Qam7itIlOBCu",
        "outputId": "5cee76e8-e62e-4984-d87d-61caa0be3eb4"
      },
      "source": [
        " X_train = Elec[['surface_area']]\r\n",
        " y_train = Elec['electricity']\r\n",
        "\r\n",
        " X_train.shape, y_train.shape"
      ],
      "execution_count": 44,
      "outputs": [
        {
          "output_type": "execute_result",
          "data": {
            "text/plain": [
              "((768, 1), (768,))"
            ]
          },
          "metadata": {
            "tags": []
          },
          "execution_count": 44
        }
      ]
    },
    {
      "cell_type": "code",
      "metadata": {
        "colab": {
          "base_uri": "https://localhost:8080/"
        },
        "id": "ruFo7uzhOBAG",
        "outputId": "a4cf84c8-390d-49cd-c2f7-dadf433d61ad"
      },
      "source": [
        "# sklearn에는 DataFrame형태만\r\n",
        "type(X_train)"
      ],
      "execution_count": 47,
      "outputs": [
        {
          "output_type": "execute_result",
          "data": {
            "text/plain": [
              "pandas.core.frame.DataFrame"
            ]
          },
          "metadata": {
            "tags": []
          },
          "execution_count": 47
        }
      ]
    },
    {
      "cell_type": "code",
      "metadata": {
        "colab": {
          "base_uri": "https://localhost:8080/"
        },
        "id": "V8t10HLGRfzH",
        "outputId": "0e99bf39-e7b0-4336-c4e8-29c3b6ba5c9b"
      },
      "source": [
        "type(y_train)"
      ],
      "execution_count": 48,
      "outputs": [
        {
          "output_type": "execute_result",
          "data": {
            "text/plain": [
              "pandas.core.series.Series"
            ]
          },
          "metadata": {
            "tags": []
          },
          "execution_count": 48
        }
      ]
    },
    {
      "cell_type": "markdown",
      "metadata": {
        "id": "2C_EJb0wNu6s"
      },
      "source": [
        " #### ⦁  모델 생성 (with <U>sklearn</U>.LinearRegression() ) -> fit\r\n",
        "\r\n",
        "\r\n",
        "*   책 - 선형모델 파트\r\n",
        "*   LinearRegression 함수 - 기본적으로 1차함수 제공\r\n",
        "* 데이터 x, y (X_train, y_train) 를 넣어 Model_1 (= LinearRegression())를 이용해 최적값 도출\r\n",
        "* w,b를 뽑아내겠지 ( 1차니까 하나씩이겠지 )  -  기울기가 0인지점 ( 최적합 ) 으로\r\n"
      ]
    },
    {
      "cell_type": "code",
      "metadata": {
        "colab": {
          "base_uri": "https://localhost:8080/"
        },
        "id": "vDg0h9YgRp9V",
        "outputId": "82e37f54-ef4a-4774-aa41-094f64829c57"
      },
      "source": [
        "from sklearn.linear_model import LinearRegression\r\n",
        "\r\n",
        "Model_1 = LinearRegression()\r\n",
        "Model_1.fit(X_train, y_train)"
      ],
      "execution_count": 52,
      "outputs": [
        {
          "output_type": "execute_result",
          "data": {
            "text/plain": [
              "LinearRegression(copy_X=True, fit_intercept=True, n_jobs=None, normalize=False)"
            ]
          },
          "metadata": {
            "tags": []
          },
          "execution_count": 52
        }
      ]
    },
    {
      "cell_type": "markdown",
      "metadata": {
        "id": "cG2Rxf29Nu4F"
      },
      "source": [
        "#### ⦁ 모델 정보(학습 결과=최적값)확인\r\n",
        "\r\n",
        "\r\n",
        "*   coef = w값\r\n",
        "*  intercept = b값\r\n",
        "*   w가 음의 방향이니까 b의 값이 커짐\r\n",
        "\r\n",
        "\r\n"
      ]
    },
    {
      "cell_type": "code",
      "metadata": {
        "colab": {
          "base_uri": "https://localhost:8080/"
        },
        "id": "sJMv-8uYRpzd",
        "outputId": "597f85de-3eb1-4081-b40a-a7496d3474c6"
      },
      "source": [
        "print(Model_1.coef_)\r\n",
        "print(Model_1.intercept_)"
      ],
      "execution_count": 54,
      "outputs": [
        {
          "output_type": "stream",
          "text": [
            "[-0.75387157]\n",
            "729.4538243006992\n"
          ],
          "name": "stdout"
        }
      ]
    },
    {
      "cell_type": "markdown",
      "metadata": {
        "id": "vut9ndxkN3ud"
      },
      "source": [
        "#### ⦁ y_hat(예측값) 생성\r\n",
        "\r\n",
        "\r\n",
        "*   predict - 학습된 x값을 넣어서 예측값(y_hat)으로 뽑아내는 함수 \r\n",
        "*  fit의 실제 y값과 predict의 y예측값(y_hat)은 다름\r\n",
        "*  X_train 이 768개 input, 따라서 y_hat도 768개 output\r\n",
        "\r\n",
        "\r\n"
      ]
    },
    {
      "cell_type": "code",
      "metadata": {
        "colab": {
          "base_uri": "https://localhost:8080/"
        },
        "id": "FBZOwFkXVVq1",
        "outputId": "30b0b679-4a4f-423e-c402-3ee60f36283d"
      },
      "source": [
        "y_hat_1 = Model_1.predict(X_train)\r\n",
        "len(y_hat_1)"
      ],
      "execution_count": 55,
      "outputs": [
        {
          "output_type": "execute_result",
          "data": {
            "text/plain": [
              "768"
            ]
          },
          "metadata": {
            "tags": []
          },
          "execution_count": 55
        }
      ]
    },
    {
      "cell_type": "markdown",
      "metadata": {
        "id": "HTrH-48gN3r0"
      },
      "source": [
        "#### ⦁  MSE 계산(with np.mean)"
      ]
    },
    {
      "cell_type": "code",
      "metadata": {
        "colab": {
          "base_uri": "https://localhost:8080/"
        },
        "id": "5svmQW1vWYx_",
        "outputId": "22cc0b2c-6a55-438e-835d-4b8c1fb073ad"
      },
      "source": [
        "TR_Err_1 = np.mean((y_train - y_hat_1) ** 2)\r\n",
        "TR_Err_1"
      ],
      "execution_count": 56,
      "outputs": [
        {
          "output_type": "execute_result",
          "data": {
            "text/plain": [
              "5763.983779426347"
            ]
          },
          "metadata": {
            "tags": []
          },
          "execution_count": 56
        }
      ]
    },
    {
      "cell_type": "markdown",
      "metadata": {
        "id": "lJb5dQObNuyt"
      },
      "source": [
        "### 2-.   5차 모델 Training Error 생성\r\n",
        "\r\n"
      ]
    },
    {
      "cell_type": "markdown",
      "metadata": {
        "id": "0rj-VtXhX0M7"
      },
      "source": [
        "#### ⦁ X 다항차수 변환(PolynomialFeatures) - PX_5 , y_train\r\n",
        "\r\n",
        "* (768, 1) to (768, 5)\r\n",
        "* x의 차수가 5개인 5차식\r\n",
        "*  전체 6개 파라미터\r\n",
        "  * w(coef) = 5개\r\n",
        "  * b(intercept) = 1개\r\n",
        "\r\n",
        "\r\n",
        "\r\n",
        "\r\n",
        "\r\n",
        "\r\n",
        "\r\n",
        "\r\n"
      ]
    },
    {
      "cell_type": "code",
      "metadata": {
        "id": "Pnj1mSo-Y640"
      },
      "source": [
        "from sklearn.preprocessing import PolynomialFeatures\r\n",
        "\r\n",
        "poly = PolynomialFeatures(degree = 5, include_bias = False)\r\n",
        "PX_5 = poly.fit_transform(X_train) # x값을 기준으로 차수 변환"
      ],
      "execution_count": 62,
      "outputs": []
    },
    {
      "cell_type": "code",
      "metadata": {
        "colab": {
          "base_uri": "https://localhost:8080/"
        },
        "id": "ACdEDpQiaZ67",
        "outputId": "9619b2e1-5eb9-448d-f41e-ad255250e5e9"
      },
      "source": [
        "PX_5"
      ],
      "execution_count": 66,
      "outputs": [
        {
          "output_type": "execute_result",
          "data": {
            "text/plain": [
              "array([[5.14500000e+02, 2.64710250e+05, 1.36193424e+08, 7.00715165e+10,\n",
              "        3.60517952e+13],\n",
              "       [5.14500000e+02, 2.64710250e+05, 1.36193424e+08, 7.00715165e+10,\n",
              "        3.60517952e+13],\n",
              "       [5.14500000e+02, 2.64710250e+05, 1.36193424e+08, 7.00715165e+10,\n",
              "        3.60517952e+13],\n",
              "       ...,\n",
              "       [8.08500000e+02, 6.53672250e+05, 5.28494014e+08, 4.27287410e+11,\n",
              "        3.45461871e+14],\n",
              "       [8.08500000e+02, 6.53672250e+05, 5.28494014e+08, 4.27287410e+11,\n",
              "        3.45461871e+14],\n",
              "       [8.08500000e+02, 6.53672250e+05, 5.28494014e+08, 4.27287410e+11,\n",
              "        3.45461871e+14]])"
            ]
          },
          "metadata": {
            "tags": []
          },
          "execution_count": 66
        }
      ]
    },
    {
      "cell_type": "code",
      "metadata": {
        "colab": {
          "base_uri": "https://localhost:8080/"
        },
        "id": "IKzwUiokcRhz",
        "outputId": "ef4dad1e-0461-4568-e7c7-ab3aebd2c5e4"
      },
      "source": [
        "X_train.shape, PX_5.shape"
      ],
      "execution_count": 67,
      "outputs": [
        {
          "output_type": "execute_result",
          "data": {
            "text/plain": [
              "((768, 1), (768, 5))"
            ]
          },
          "metadata": {
            "tags": []
          },
          "execution_count": 67
        }
      ]
    },
    {
      "cell_type": "markdown",
      "metadata": {
        "id": "CY2lIosDYb_d"
      },
      "source": [
        "#### ⦁ 5차 모델의 LinearRegression 모델 생성\r\n",
        "* 5차식에 사용될 x(5개)와 y(1개)로 최적값 찾기"
      ]
    },
    {
      "cell_type": "code",
      "metadata": {
        "colab": {
          "base_uri": "https://localhost:8080/"
        },
        "id": "Tx-kL9gQdID8",
        "outputId": "f309ec51-6895-4676-b1a9-360388a1ccdc"
      },
      "source": [
        "from sklearn.linear_model import LinearRegression\r\n",
        "\r\n",
        "Model_5 = LinearRegression()\r\n",
        "Model_5.fit(PX_5, y_train) "
      ],
      "execution_count": 68,
      "outputs": [
        {
          "output_type": "execute_result",
          "data": {
            "text/plain": [
              "LinearRegression(copy_X=True, fit_intercept=True, n_jobs=None, normalize=False)"
            ]
          },
          "metadata": {
            "tags": []
          },
          "execution_count": 68
        }
      ]
    },
    {
      "cell_type": "markdown",
      "metadata": {
        "id": "SiDteMfqYb9Q"
      },
      "source": [
        "#### ⦁  모델 정보(학습 결과)확인"
      ]
    },
    {
      "cell_type": "code",
      "metadata": {
        "colab": {
          "base_uri": "https://localhost:8080/"
        },
        "id": "1D7PDfGUdk4Y",
        "outputId": "441399b9-3b49-4f7b-aac5-dfbc23122ebf"
      },
      "source": [
        "np.set_printoptions(suppress = True, precision = 10)\r\n",
        "\r\n",
        "print(Model_5.coef_)\r\n",
        "print(Model_5.intercept_)"
      ],
      "execution_count": 69,
      "outputs": [
        {
          "output_type": "stream",
          "text": [
            "[-0.0003155148 -0.1029296835  0.0003787616 -0.0000005032  0.0000000002]\n",
            "2906.221625380881\n"
          ],
          "name": "stdout"
        }
      ]
    },
    {
      "cell_type": "markdown",
      "metadata": {
        "id": "rlDGyVtBYb68"
      },
      "source": [
        "#### ⦁  y_hat(예측값) 생성\r\n",
        "* Model_5로 도출된 최적 함수에 x(5개)값을 넣어 y예측값"
      ]
    },
    {
      "cell_type": "code",
      "metadata": {
        "colab": {
          "base_uri": "https://localhost:8080/"
        },
        "id": "y-7jzCz0eBGH",
        "outputId": "30b83cc3-6cf0-46e8-8d4a-8b03c5d04e84"
      },
      "source": [
        "y_hat_5 = Model_5.predict(PX_5)\r\n",
        "y_hat_5.shape"
      ],
      "execution_count": 71,
      "outputs": [
        {
          "output_type": "execute_result",
          "data": {
            "text/plain": [
              "(768,)"
            ]
          },
          "metadata": {
            "tags": []
          },
          "execution_count": 71
        }
      ]
    },
    {
      "cell_type": "markdown",
      "metadata": {
        "id": "ur1AFdwHYb4c"
      },
      "source": [
        "#### ⦁ MSE 계산"
      ]
    },
    {
      "cell_type": "code",
      "metadata": {
        "colab": {
          "base_uri": "https://localhost:8080/"
        },
        "id": "KpZ_qQCWX0Kf",
        "outputId": "1583cae2-7a75-49ab-b0e4-28f95ca7a14e"
      },
      "source": [
        "TR_Err_5 = np.mean((y_train - y_hat_5) **2)\r\n",
        "TR_Err_5"
      ],
      "execution_count": 72,
      "outputs": [
        {
          "output_type": "execute_result",
          "data": {
            "text/plain": [
              "4177.726328606075"
            ]
          },
          "metadata": {
            "tags": []
          },
          "execution_count": 72
        }
      ]
    },
    {
      "cell_type": "markdown",
      "metadata": {
        "id": "o1wlQjfWX0Hr"
      },
      "source": [
        "### 3-.  9차 모델 Training Error 생성"
      ]
    },
    {
      "cell_type": "markdown",
      "metadata": {
        "id": "QeJAJuf6Yymm"
      },
      "source": [
        "#### ⦁ X 다항차수 변환(PolynomialFeatures) & X_train, y_train\r\n",
        "\r\n",
        "\r\n",
        "\r\n",
        "\r\n"
      ]
    },
    {
      "cell_type": "code",
      "metadata": {
        "id": "G67RaDyEX0FD"
      },
      "source": [
        "from sklearn.preprocessing import PolynomialFeatures\r\n",
        "\r\n",
        "poly = PolynomialFeatures(degree=9, include_bias=False)\r\n",
        "PX_9 = poly.fit_transform(X_train)"
      ],
      "execution_count": 73,
      "outputs": []
    },
    {
      "cell_type": "code",
      "metadata": {
        "colab": {
          "base_uri": "https://localhost:8080/"
        },
        "id": "4V-H3keuiwhv",
        "outputId": "93859797-4d50-4c28-c212-53e0f5289d98"
      },
      "source": [
        "X_train.shape, PX_9.shape"
      ],
      "execution_count": 74,
      "outputs": [
        {
          "output_type": "execute_result",
          "data": {
            "text/plain": [
              "((768, 1), (768, 9))"
            ]
          },
          "metadata": {
            "tags": []
          },
          "execution_count": 74
        }
      ]
    },
    {
      "cell_type": "markdown",
      "metadata": {
        "id": "AI9Dch3yYymm"
      },
      "source": [
        "#### ⦁ 다항차수의 LinearRegression 모델 생성"
      ]
    },
    {
      "cell_type": "code",
      "metadata": {
        "colab": {
          "base_uri": "https://localhost:8080/"
        },
        "id": "ynkR8bHMi4I_",
        "outputId": "b885aede-6a3f-45c2-ff85-b600d320c5b3"
      },
      "source": [
        "from sklearn.linear_model import LinearRegression\r\n",
        "\r\n",
        "Model_9 = LinearRegression()\r\n",
        "Model_9.fit(PX_9, y_train)"
      ],
      "execution_count": 75,
      "outputs": [
        {
          "output_type": "execute_result",
          "data": {
            "text/plain": [
              "LinearRegression(copy_X=True, fit_intercept=True, n_jobs=None, normalize=False)"
            ]
          },
          "metadata": {
            "tags": []
          },
          "execution_count": 75
        }
      ]
    },
    {
      "cell_type": "markdown",
      "metadata": {
        "id": "K6vBqMNsYymm"
      },
      "source": [
        "#### ⦁  모델 정보(학습 결과)확인"
      ]
    },
    {
      "cell_type": "code",
      "metadata": {
        "colab": {
          "base_uri": "https://localhost:8080/"
        },
        "id": "cyxdvJ-MkFt_",
        "outputId": "c9c15937-9a05-4797-d40d-0fa01dea770d"
      },
      "source": [
        "print(Model_9.coef_)\r\n",
        "print(Model_9.intercept_)"
      ],
      "execution_count": 76,
      "outputs": [
        {
          "output_type": "stream",
          "text": [
            "[ 0.  0.  0.  0.  0.  0. -0.  0. -0.]\n",
            "-440.08258373871365\n"
          ],
          "name": "stdout"
        }
      ]
    },
    {
      "cell_type": "markdown",
      "metadata": {
        "id": "X5yolSQBYymm"
      },
      "source": [
        "#### ⦁  y_hat(예측값) 생성"
      ]
    },
    {
      "cell_type": "code",
      "metadata": {
        "colab": {
          "base_uri": "https://localhost:8080/"
        },
        "id": "RnLO54VYkLT-",
        "outputId": "c4bac459-8592-42c8-eb55-d658505b93f6"
      },
      "source": [
        "y_hat_9 = Model_9.predict(PX_9)\r\n",
        "y_hat_9.shape"
      ],
      "execution_count": 77,
      "outputs": [
        {
          "output_type": "execute_result",
          "data": {
            "text/plain": [
              "(768,)"
            ]
          },
          "metadata": {
            "tags": []
          },
          "execution_count": 77
        }
      ]
    },
    {
      "cell_type": "markdown",
      "metadata": {
        "id": "AUeDGr4nYymn"
      },
      "source": [
        "#### ⦁ MSE 계산"
      ]
    },
    {
      "cell_type": "code",
      "metadata": {
        "colab": {
          "base_uri": "https://localhost:8080/"
        },
        "id": "8nS-aFmVlobg",
        "outputId": "18cc1dcf-458f-41e1-d80d-89dbd077765f"
      },
      "source": [
        "TR_Err_9 = np.mean((y_train - y_hat_9)**2)\r\n",
        "TR_Err_9"
      ],
      "execution_count": 78,
      "outputs": [
        {
          "output_type": "execute_result",
          "data": {
            "text/plain": [
              "4086.7199908150374"
            ]
          },
          "metadata": {
            "tags": []
          },
          "execution_count": 78
        }
      ]
    },
    {
      "cell_type": "markdown",
      "metadata": {
        "id": "-rAajZkzlyRm"
      },
      "source": [
        "### 4-. 3개 모델 Training Error값(MSE) 비교"
      ]
    },
    {
      "cell_type": "code",
      "metadata": {
        "colab": {
          "base_uri": "https://localhost:8080/"
        },
        "id": "-joDxakBmDlv",
        "outputId": "81324da0-41c3-4b88-9d93-3f525c2a8c8b"
      },
      "source": [
        "print('1차 모델 : ', TR_Err_1)\r\n",
        "print('5차 모델 : ', TR_Err_5)\r\n",
        "print('9차 모델 : ', TR_Err_9)"
      ],
      "execution_count": 79,
      "outputs": [
        {
          "output_type": "stream",
          "text": [
            "1차 모델 :  5763.983779426347\n",
            "5차 모델 :  4177.726328606075\n",
            "9차 모델 :  4086.7199908150374\n"
          ],
          "name": "stdout"
        }
      ]
    },
    {
      "cell_type": "markdown",
      "metadata": {
        "id": "_NC12-zDXz-k"
      },
      "source": [
        "### 5-. 잔차(Residual, 혹은 오차Error) 시각화 비교(with residplot)"
      ]
    },
    {
      "cell_type": "markdown",
      "metadata": {
        "id": "QCdmBqM7mSu-"
      },
      "source": [
        "#### ⦁ 1차 모델"
      ]
    },
    {
      "cell_type": "code",
      "metadata": {
        "colab": {
          "base_uri": "https://localhost:8080/",
          "height": 284
        },
        "id": "VNRvvBpTmkXG",
        "outputId": "7bf978a3-3a76-422d-dcc8-3efa1cdc342b"
      },
      "source": [
        "sns.residplot(x='surface_area', y='electricity',data=Elec,\r\n",
        "              order = 1,\r\n",
        "              scatter_kws={'edgecolor':'white'})\r\n",
        "plt.ylim(-300, 300)\r\n",
        "plt.show()"
      ],
      "execution_count": 80,
      "outputs": [
        {
          "output_type": "display_data",
          "data": {
            "image/png": "[encoded data removed]",
            "text/plain": [
              "<Figure size 432x288 with 1 Axes>"
            ]
          },
          "metadata": {
            "tags": [],
            "needs_background": "light"
          }
        }
      ]
    },
    {
      "cell_type": "markdown",
      "metadata": {
        "id": "Ycd0tpoYmf5_"
      },
      "source": [
        "#### ⦁ 5차 모델"
      ]
    },
    {
      "cell_type": "code",
      "metadata": {
        "colab": {
          "base_uri": "https://localhost:8080/",
          "height": 284
        },
        "id": "NPUup_JNn0ou",
        "outputId": "e4d4fdce-7c0d-441c-9e09-cebcf1dcab57"
      },
      "source": [
        "sns.residplot(x='surface_area', y='electricity',data=Elec,\r\n",
        "              order = 5,\r\n",
        "              scatter_kws={'edgecolor':'white'})\r\n",
        "plt.ylim(-300, 300)\r\n",
        "plt.show()"
      ],
      "execution_count": 81,
      "outputs": [
        {
          "output_type": "display_data",
          "data": {
            "image/png": "[encoded data removed]",
            "text/plain": [
              "<Figure size 432x288 with 1 Axes>"
            ]
          },
          "metadata": {
            "tags": [],
            "needs_background": "light"
          }
        }
      ]
    },
    {
      "cell_type": "markdown",
      "metadata": {
        "id": "FzRvY5KHmgFe"
      },
      "source": [
        "#### ⦁ 9차 모델"
      ]
    },
    {
      "cell_type": "code",
      "metadata": {
        "colab": {
          "base_uri": "https://localhost:8080/",
          "height": 284
        },
        "id": "HOpkq_Qfn7vr",
        "outputId": "f7a03894-3962-48b5-8b03-d1d9c1c642d3"
      },
      "source": [
        "sns.residplot(x='surface_area', y='electricity',data=Elec,\r\n",
        "              order = 9,\r\n",
        "              scatter_kws={'edgecolor':'white'})\r\n",
        "plt.ylim(-300, 300)\r\n",
        "plt.show()"
      ],
      "execution_count": 82,
      "outputs": [
        {
          "output_type": "display_data",
          "data": {
            "image/png": "[encoded data removed]",
            "text/plain": [
              "<Figure size 432x288 with 1 Axes>"
            ]
          },
          "metadata": {
            "tags": [],
            "needs_background": "light"
          }
        }
      ]
    },
    {
      "cell_type": "markdown",
      "metadata": {
        "id": "t48bb7Gmn7se"
      },
      "source": [
        "## 3] Testing Error"
      ]
    },
    {
      "cell_type": "code",
      "metadata": {
        "id": "4FbCTunToVk3"
      },
      "source": [
        "import pandas as pd\r\n",
        "import matplotlib.pyplot as plt\r\n",
        "import seaborn as sns"
      ],
      "execution_count": 83,
      "outputs": []
    },
    {
      "cell_type": "code",
      "metadata": {
        "id": "t6qKv5jqofZO"
      },
      "source": [
        "Elec = pd.read_csv('https://raw.githubusercontent.com/rusita-ai/pyData/master/Electric.csv')"
      ],
      "execution_count": 84,
      "outputs": []
    },
    {
      "cell_type": "markdown",
      "metadata": {
        "id": "vuYIPY6CoG7F"
      },
      "source": [
        "### 1-.   Train_Data vs. Test_Data"
      ]
    },
    {
      "cell_type": "markdown",
      "metadata": {
        "id": "pTdcH1RuoG4P"
      },
      "source": [
        "#### ⦁ DataFrame Split - <U>Train_DF : Test_DF</U>(8:2) "
      ]
    },
    {
      "cell_type": "code",
      "metadata": {
        "colab": {
          "base_uri": "https://localhost:8080/"
        },
        "id": "DxN6DEpypgEc",
        "outputId": "c7c32bf8-66c3-421f-ad73-cca693a78097"
      },
      "source": [
        "from sklearn.model_selection import train_test_split\r\n",
        "\r\n",
        "# test_size = 20% 데이터를 주는 , random split으로 쪼개짐 \r\n",
        "# but, random_state값을 정해놓으면 랜덤X (실험 복원을 위해서도 똑같은 형태로 쪼개짐)\r\n",
        "TR_Elec, TE_Elec = train_test_split(Elec, test_size=0.2, random_state = 2045)\r\n",
        "TR_Elec.shape, TE_Elec.shape"
      ],
      "execution_count": 86,
      "outputs": [
        {
          "output_type": "execute_result",
          "data": {
            "text/plain": [
              "((614, 9), (154, 9))"
            ]
          },
          "metadata": {
            "tags": []
          },
          "execution_count": 86
        }
      ]
    },
    {
      "cell_type": "code",
      "metadata": {
        "colab": {
          "base_uri": "https://localhost:8080/",
          "height": 219
        },
        "id": "kk9FIAfFqmU2",
        "outputId": "7cd9a3b8-2913-42e0-b8bf-390a051a3f38"
      },
      "source": [
        "TR_Elec.head()"
      ],
      "execution_count": 87,
      "outputs": [
        {
          "output_type": "execute_result",
          "data": {
            "text/html": [
              "<div>\n",
              "<style scoped>\n",
              "    .dataframe tbody tr th:only-of-type {\n",
              "        vertical-align: middle;\n",
              "    }\n",
              "\n",
              "    .dataframe tbody tr th {\n",
              "        vertical-align: top;\n",
              "    }\n",
              "\n",
              "    .dataframe thead th {\n",
              "        text-align: right;\n",
              "    }\n",
              "</style>\n",
              "<table border=\"1\" class=\"dataframe\">\n",
              "  <thead>\n",
              "    <tr style=\"text-align: right;\">\n",
              "      <th></th>\n",
              "      <th>compactness</th>\n",
              "      <th>surface_area</th>\n",
              "      <th>wall_area</th>\n",
              "      <th>roof_area</th>\n",
              "      <th>height</th>\n",
              "      <th>orientation</th>\n",
              "      <th>glazing_area</th>\n",
              "      <th>glazing_area_distribution</th>\n",
              "      <th>electricity</th>\n",
              "    </tr>\n",
              "  </thead>\n",
              "  <tbody>\n",
              "    <tr>\n",
              "      <th>555</th>\n",
              "      <td>0.74</td>\n",
              "      <td>686.0</td>\n",
              "      <td>245.0</td>\n",
              "      <td>220.5</td>\n",
              "      <td>3.5</td>\n",
              "      <td>5</td>\n",
              "      <td>0.40</td>\n",
              "      <td>1</td>\n",
              "      <td>145.5</td>\n",
              "    </tr>\n",
              "    <tr>\n",
              "      <th>355</th>\n",
              "      <td>0.79</td>\n",
              "      <td>637.0</td>\n",
              "      <td>343.0</td>\n",
              "      <td>147.0</td>\n",
              "      <td>7.0</td>\n",
              "      <td>5</td>\n",
              "      <td>0.25</td>\n",
              "      <td>2</td>\n",
              "      <td>389.8</td>\n",
              "    </tr>\n",
              "    <tr>\n",
              "      <th>200</th>\n",
              "      <td>0.86</td>\n",
              "      <td>588.0</td>\n",
              "      <td>294.0</td>\n",
              "      <td>147.0</td>\n",
              "      <td>7.0</td>\n",
              "      <td>2</td>\n",
              "      <td>0.10</td>\n",
              "      <td>4</td>\n",
              "      <td>264.4</td>\n",
              "    </tr>\n",
              "    <tr>\n",
              "      <th>669</th>\n",
              "      <td>0.62</td>\n",
              "      <td>808.5</td>\n",
              "      <td>367.5</td>\n",
              "      <td>220.5</td>\n",
              "      <td>3.5</td>\n",
              "      <td>3</td>\n",
              "      <td>0.40</td>\n",
              "      <td>3</td>\n",
              "      <td>163.5</td>\n",
              "    </tr>\n",
              "    <tr>\n",
              "      <th>561</th>\n",
              "      <td>0.69</td>\n",
              "      <td>735.0</td>\n",
              "      <td>294.0</td>\n",
              "      <td>220.5</td>\n",
              "      <td>3.5</td>\n",
              "      <td>3</td>\n",
              "      <td>0.40</td>\n",
              "      <td>1</td>\n",
              "      <td>147.0</td>\n",
              "    </tr>\n",
              "  </tbody>\n",
              "</table>\n",
              "</div>"
            ],
            "text/plain": [
              "     compactness  surface_area  ...  glazing_area_distribution  electricity\n",
              "555         0.74         686.0  ...                          1        145.5\n",
              "355         0.79         637.0  ...                          2        389.8\n",
              "200         0.86         588.0  ...                          4        264.4\n",
              "669         0.62         808.5  ...                          3        163.5\n",
              "561         0.69         735.0  ...                          1        147.0\n",
              "\n",
              "[5 rows x 9 columns]"
            ]
          },
          "metadata": {
            "tags": []
          },
          "execution_count": 87
        }
      ]
    },
    {
      "cell_type": "code",
      "metadata": {
        "colab": {
          "base_uri": "https://localhost:8080/",
          "height": 219
        },
        "id": "fcUhJePzq4jl",
        "outputId": "8a052665-3640-4d66-ee60-93de7e60300d"
      },
      "source": [
        "TE_Elec.head()"
      ],
      "execution_count": 88,
      "outputs": [
        {
          "output_type": "execute_result",
          "data": {
            "text/html": [
              "<div>\n",
              "<style scoped>\n",
              "    .dataframe tbody tr th:only-of-type {\n",
              "        vertical-align: middle;\n",
              "    }\n",
              "\n",
              "    .dataframe tbody tr th {\n",
              "        vertical-align: top;\n",
              "    }\n",
              "\n",
              "    .dataframe thead th {\n",
              "        text-align: right;\n",
              "    }\n",
              "</style>\n",
              "<table border=\"1\" class=\"dataframe\">\n",
              "  <thead>\n",
              "    <tr style=\"text-align: right;\">\n",
              "      <th></th>\n",
              "      <th>compactness</th>\n",
              "      <th>surface_area</th>\n",
              "      <th>wall_area</th>\n",
              "      <th>roof_area</th>\n",
              "      <th>height</th>\n",
              "      <th>orientation</th>\n",
              "      <th>glazing_area</th>\n",
              "      <th>glazing_area_distribution</th>\n",
              "      <th>electricity</th>\n",
              "    </tr>\n",
              "  </thead>\n",
              "  <tbody>\n",
              "    <tr>\n",
              "      <th>414</th>\n",
              "      <td>0.71</td>\n",
              "      <td>710.5</td>\n",
              "      <td>269.5</td>\n",
              "      <td>220.50</td>\n",
              "      <td>3.5</td>\n",
              "      <td>4</td>\n",
              "      <td>0.25</td>\n",
              "      <td>3</td>\n",
              "      <td>121.0</td>\n",
              "    </tr>\n",
              "    <tr>\n",
              "      <th>475</th>\n",
              "      <td>0.64</td>\n",
              "      <td>784.0</td>\n",
              "      <td>343.0</td>\n",
              "      <td>220.50</td>\n",
              "      <td>3.5</td>\n",
              "      <td>5</td>\n",
              "      <td>0.25</td>\n",
              "      <td>4</td>\n",
              "      <td>166.2</td>\n",
              "    </tr>\n",
              "    <tr>\n",
              "      <th>511</th>\n",
              "      <td>0.71</td>\n",
              "      <td>710.5</td>\n",
              "      <td>269.5</td>\n",
              "      <td>220.50</td>\n",
              "      <td>3.5</td>\n",
              "      <td>5</td>\n",
              "      <td>0.25</td>\n",
              "      <td>5</td>\n",
              "      <td>122.7</td>\n",
              "    </tr>\n",
              "    <tr>\n",
              "      <th>213</th>\n",
              "      <td>0.76</td>\n",
              "      <td>661.5</td>\n",
              "      <td>416.5</td>\n",
              "      <td>122.50</td>\n",
              "      <td>7.0</td>\n",
              "      <td>3</td>\n",
              "      <td>0.10</td>\n",
              "      <td>4</td>\n",
              "      <td>323.8</td>\n",
              "    </tr>\n",
              "    <tr>\n",
              "      <th>339</th>\n",
              "      <td>0.98</td>\n",
              "      <td>514.5</td>\n",
              "      <td>294.0</td>\n",
              "      <td>110.25</td>\n",
              "      <td>7.0</td>\n",
              "      <td>5</td>\n",
              "      <td>0.25</td>\n",
              "      <td>2</td>\n",
              "      <td>286.0</td>\n",
              "    </tr>\n",
              "  </tbody>\n",
              "</table>\n",
              "</div>"
            ],
            "text/plain": [
              "     compactness  surface_area  ...  glazing_area_distribution  electricity\n",
              "414         0.71         710.5  ...                          3        121.0\n",
              "475         0.64         784.0  ...                          4        166.2\n",
              "511         0.71         710.5  ...                          5        122.7\n",
              "213         0.76         661.5  ...                          4        323.8\n",
              "339         0.98         514.5  ...                          2        286.0\n",
              "\n",
              "[5 rows x 9 columns]"
            ]
          },
          "metadata": {
            "tags": []
          },
          "execution_count": 88
        }
      ]
    },
    {
      "cell_type": "markdown",
      "metadata": {
        "id": "eCh2avf6pWON"
      },
      "source": [
        "#### ⦁ Array Split - <U> X_train : X_test</U> **|** <U>y_train : y_test</U> (8:2)"
      ]
    },
    {
      "cell_type": "code",
      "metadata": {
        "id": "N_HY_Fmlq9jH"
      },
      "source": [
        "from sklearn.model_selection import train_test_split\r\n",
        "\r\n",
        "X_train, X_test, y_train, y_test = train_test_split(Elec[['surface_area']], Elec[['electricity']],\r\n",
        "                                                    test_size=0.2, random_state=2045)"
      ],
      "execution_count": 104,
      "outputs": []
    },
    {
      "cell_type": "code",
      "metadata": {
        "colab": {
          "base_uri": "https://localhost:8080/"
        },
        "id": "3G_h5gpqrwov",
        "outputId": "d1e2ce8d-6dd2-44c8-c6fe-6811bbb819c6"
      },
      "source": [
        "X_train.shape, y_train.shape, X_test.shape, y_test.shape"
      ],
      "execution_count": 91,
      "outputs": [
        {
          "output_type": "execute_result",
          "data": {
            "text/plain": [
              "((614,), (614, 1), (154,), (154, 1))"
            ]
          },
          "metadata": {
            "tags": []
          },
          "execution_count": 91
        }
      ]
    },
    {
      "cell_type": "code",
      "metadata": {
        "colab": {
          "base_uri": "https://localhost:8080/"
        },
        "id": "EiEQpSKQsAao",
        "outputId": "b74ae2f3-a1e2-4b1d-a415-d8b8d752e355"
      },
      "source": [
        "X_train.head()"
      ],
      "execution_count": 92,
      "outputs": [
        {
          "output_type": "execute_result",
          "data": {
            "text/plain": [
              "555    686.0\n",
              "355    637.0\n",
              "200    588.0\n",
              "669    808.5\n",
              "561    735.0\n",
              "Name: surface_area, dtype: float64"
            ]
          },
          "metadata": {
            "tags": []
          },
          "execution_count": 92
        }
      ]
    },
    {
      "cell_type": "code",
      "metadata": {
        "colab": {
          "base_uri": "https://localhost:8080/",
          "height": 199
        },
        "id": "jNKhk6aZsAX7",
        "outputId": "d8e9c2c5-b7ff-41db-cbe9-434ea754d6de"
      },
      "source": [
        "y_train.head()"
      ],
      "execution_count": 93,
      "outputs": [
        {
          "output_type": "execute_result",
          "data": {
            "text/html": [
              "<div>\n",
              "<style scoped>\n",
              "    .dataframe tbody tr th:only-of-type {\n",
              "        vertical-align: middle;\n",
              "    }\n",
              "\n",
              "    .dataframe tbody tr th {\n",
              "        vertical-align: top;\n",
              "    }\n",
              "\n",
              "    .dataframe thead th {\n",
              "        text-align: right;\n",
              "    }\n",
              "</style>\n",
              "<table border=\"1\" class=\"dataframe\">\n",
              "  <thead>\n",
              "    <tr style=\"text-align: right;\">\n",
              "      <th></th>\n",
              "      <th>electricity</th>\n",
              "    </tr>\n",
              "  </thead>\n",
              "  <tbody>\n",
              "    <tr>\n",
              "      <th>555</th>\n",
              "      <td>145.5</td>\n",
              "    </tr>\n",
              "    <tr>\n",
              "      <th>355</th>\n",
              "      <td>389.8</td>\n",
              "    </tr>\n",
              "    <tr>\n",
              "      <th>200</th>\n",
              "      <td>264.4</td>\n",
              "    </tr>\n",
              "    <tr>\n",
              "      <th>669</th>\n",
              "      <td>163.5</td>\n",
              "    </tr>\n",
              "    <tr>\n",
              "      <th>561</th>\n",
              "      <td>147.0</td>\n",
              "    </tr>\n",
              "  </tbody>\n",
              "</table>\n",
              "</div>"
            ],
            "text/plain": [
              "     electricity\n",
              "555        145.5\n",
              "355        389.8\n",
              "200        264.4\n",
              "669        163.5\n",
              "561        147.0"
            ]
          },
          "metadata": {
            "tags": []
          },
          "execution_count": 93
        }
      ]
    },
    {
      "cell_type": "markdown",
      "metadata": {
        "id": "kg01WY2xpczl"
      },
      "source": [
        "#### ⦁ Distribution Visualization - Train Data vs. Test Data"
      ]
    },
    {
      "cell_type": "code",
      "metadata": {
        "colab": {
          "base_uri": "https://localhost:8080/",
          "height": 336
        },
        "id": "LIc9Zkk-sAVY",
        "outputId": "7f72fc99-4566-4043-e6d7-09b1fee692e3"
      },
      "source": [
        "sns.scatterplot(TR_Elec['surface_area'],TR_Elec['electricity'])\r\n",
        "plt.show()"
      ],
      "execution_count": 94,
      "outputs": [
        {
          "output_type": "stream",
          "text": [
            "/usr/local/lib/python3.7/dist-packages/seaborn/_decorators.py:43: FutureWarning: Pass the following variables as keyword args: x, y. From version 0.12, the only valid positional argument will be `data`, and passing other arguments without an explicit keyword will result in an error or misinterpretation.\n",
            "  FutureWarning\n"
          ],
          "name": "stderr"
        },
        {
          "output_type": "display_data",
          "data": {
            "image/png": "[encoded data removed]",
            "text/plain": [
              "<Figure size 432x288 with 1 Axes>"
            ]
          },
          "metadata": {
            "tags": [],
            "needs_background": "light"
          }
        }
      ]
    },
    {
      "cell_type": "code",
      "metadata": {
        "colab": {
          "base_uri": "https://localhost:8080/",
          "height": 280
        },
        "id": "1y0nL0nF1wXc",
        "outputId": "88c981a7-aab3-4fef-a15c-a126a8269f71"
      },
      "source": [
        "sns.scatterplot( x= TE_Elec['surface_area'],y= TE_Elec['electricity'])\r\n",
        "plt.show()"
      ],
      "execution_count": 98,
      "outputs": [
        {
          "output_type": "display_data",
          "data": {
            "image/png": "[encoded data removed]",
            "text/plain": [
              "<Figure size 432x288 with 1 Axes>"
            ]
          },
          "metadata": {
            "tags": [],
            "needs_background": "light"
          }
        }
      ]
    },
    {
      "cell_type": "code",
      "metadata": {
        "colab": {
          "base_uri": "https://localhost:8080/"
        },
        "id": "61OABN2c3rLC",
        "outputId": "3961a401-2b12-4057-d838-956d8f3fed83"
      },
      "source": [
        "type(X_train)"
      ],
      "execution_count": 106,
      "outputs": [
        {
          "output_type": "execute_result",
          "data": {
            "text/plain": [
              "pandas.core.frame.DataFrame"
            ]
          },
          "metadata": {
            "tags": []
          },
          "execution_count": 106
        }
      ]
    },
    {
      "cell_type": "code",
      "metadata": {
        "colab": {
          "base_uri": "https://localhost:8080/",
          "height": 280
        },
        "id": "oIVk9KGK19IL",
        "outputId": "7f9de913-1805-4c47-a3c7-e37ea09c5647"
      },
      "source": [
        "sns.scatterplot(x=X_train['surface_area'], y=y_train['electricity'])\r\n",
        "plt.show()"
      ],
      "execution_count": 109,
      "outputs": [
        {
          "output_type": "display_data",
          "data": {
            "image/png": "[encoded data removed]",
            "text/plain": [
              "<Figure size 432x288 with 1 Axes>"
            ]
          },
          "metadata": {
            "tags": [],
            "needs_background": "light"
          }
        }
      ]
    },
    {
      "cell_type": "code",
      "metadata": {
        "colab": {
          "base_uri": "https://localhost:8080/",
          "height": 280
        },
        "id": "8OlexlBe3nZ4",
        "outputId": "bb69578c-2d72-41e5-da76-e4401822c859"
      },
      "source": [
        "sns.scatterplot(x=X_test['surface_area'], y=y_test['electricity'])\r\n",
        "plt.show()"
      ],
      "execution_count": 110,
      "outputs": [
        {
          "output_type": "display_data",
          "data": {
            "image/png": "[encoded data removed]",
            "text/plain": [
              "<Figure size 432x288 with 1 Axes>"
            ]
          },
          "metadata": {
            "tags": [],
            "needs_background": "light"
          }
        }
      ]
    },
    {
      "cell_type": "markdown",
      "metadata": {
        "id": "6b5rdvTw417a"
      },
      "source": [
        "### 2-. 1차 모델 Testing Error"
      ]
    },
    {
      "cell_type": "markdown",
      "metadata": {
        "id": "eF-lj-DL5KQi"
      },
      "source": [
        "####     ⦁ Train_Data로 LinearRegression 모델 생성\r\n"
      ]
    },
    {
      "cell_type": "code",
      "metadata": {
        "colab": {
          "base_uri": "https://localhost:8080/"
        },
        "id": "03Er1__n5boY",
        "outputId": "33c5711d-7498-465f-c9c5-da043c8c1385"
      },
      "source": [
        "from sklearn.linear_model import LinearRegression\r\n",
        "\r\n",
        "Model_1 = LinearRegression()\r\n",
        "Model_1.fit(X_train, y_train)"
      ],
      "execution_count": 111,
      "outputs": [
        {
          "output_type": "execute_result",
          "data": {
            "text/plain": [
              "LinearRegression(copy_X=True, fit_intercept=True, n_jobs=None, normalize=False)"
            ]
          },
          "metadata": {
            "tags": []
          },
          "execution_count": 111
        }
      ]
    },
    {
      "cell_type": "markdown",
      "metadata": {
        "id": "nEH1ciB15SeS"
      },
      "source": [
        "####    ⦁ Test_Data로 y_hat(예측값) 생성\r\n"
      ]
    },
    {
      "cell_type": "code",
      "metadata": {
        "colab": {
          "base_uri": "https://localhost:8080/"
        },
        "id": "VI1ugb295wMd",
        "outputId": "07e6b1db-69ad-4e88-8e2c-e4a132420508"
      },
      "source": [
        "y_hat_1 = Model_1.predict(X_test)\r\n",
        "y_hat_1.shape"
      ],
      "execution_count": 112,
      "outputs": [
        {
          "output_type": "execute_result",
          "data": {
            "text/plain": [
              "(154, 1)"
            ]
          },
          "metadata": {
            "tags": []
          },
          "execution_count": 112
        }
      ]
    },
    {
      "cell_type": "markdown",
      "metadata": {
        "id": "UK3GlEZ-5T4x"
      },
      "source": [
        "####    ⦁ Test_Data로 MSE 계산"
      ]
    },
    {
      "cell_type": "code",
      "metadata": {
        "colab": {
          "base_uri": "https://localhost:8080/"
        },
        "id": "tBD6dZBW7S-C",
        "outputId": "ec6ea521-dc95-404d-92b0-1ed9b1008192"
      },
      "source": [
        "TE_Err_1 = np.mean((y_test - y_hat_1)**2)\r\n",
        "TE_Err_1"
      ],
      "execution_count": 114,
      "outputs": [
        {
          "output_type": "execute_result",
          "data": {
            "text/plain": [
              "electricity    6044.176548\n",
              "dtype: float64"
            ]
          },
          "metadata": {
            "tags": []
          },
          "execution_count": 114
        }
      ]
    },
    {
      "cell_type": "code",
      "metadata": {
        "colab": {
          "base_uri": "https://localhost:8080/"
        },
        "id": "wQy34-SR6FI6",
        "outputId": "e3fb42ea-eb0d-4156-acd6-e51c1de1708f"
      },
      "source": [
        "from sklearn.metrics import mean_squared_error\r\n",
        "\r\n",
        "TE_Err_1 = mean_squared_error(y_test, y_hat_1)\r\n",
        "TE_Err_1"
      ],
      "execution_count": 115,
      "outputs": [
        {
          "output_type": "execute_result",
          "data": {
            "text/plain": [
              "6044.176547629271"
            ]
          },
          "metadata": {
            "tags": []
          },
          "execution_count": 115
        }
      ]
    },
    {
      "cell_type": "markdown",
      "metadata": {
        "id": "Ooci1PPO5Dir"
      },
      "source": [
        "### 2-. 5차 모델 Testing Error"
      ]
    },
    {
      "cell_type": "markdown",
      "metadata": {
        "id": "oHkU0ltW5YFt"
      },
      "source": [
        "####     ⦁ Train_Data로 LinearRegression 모델 생성\r\n"
      ]
    },
    {
      "cell_type": "code",
      "metadata": {
        "id": "9V0MLBTj6h9b"
      },
      "source": [
        "from sklearn.preprocessing import PolynomialFeatures\r\n",
        "\r\n",
        "poly = PolynomialFeatures(degree=5, include_bias=False)\r\n",
        "PX_5_TR = poly.fit_transform(X_train)"
      ],
      "execution_count": 116,
      "outputs": []
    },
    {
      "cell_type": "code",
      "metadata": {
        "colab": {
          "base_uri": "https://localhost:8080/"
        },
        "id": "cJ7ARRYO9P8a",
        "outputId": "767658e6-7a85-4636-e259-d78524010087"
      },
      "source": [
        "from sklearn.linear_model import LinearRegression\r\n",
        "\r\n",
        "Model_5 = LinearRegression()\r\n",
        "Model_5.fit(PX_5_TR, y_train)"
      ],
      "execution_count": 117,
      "outputs": [
        {
          "output_type": "execute_result",
          "data": {
            "text/plain": [
              "LinearRegression(copy_X=True, fit_intercept=True, n_jobs=None, normalize=False)"
            ]
          },
          "metadata": {
            "tags": []
          },
          "execution_count": 117
        }
      ]
    },
    {
      "cell_type": "markdown",
      "metadata": {
        "id": "JnTL-F1I5YFu"
      },
      "source": [
        "####    ⦁ Test_Data로 y_hat(예측값) 생성\r\n"
      ]
    },
    {
      "cell_type": "code",
      "metadata": {
        "id": "TOeh3X049nTa"
      },
      "source": [
        "PX_5_TE = poly.fit_transform(X_test)\r\n",
        "\r\n",
        "y_hat_5 = Model_5.predict(PX_5_TE)"
      ],
      "execution_count": 118,
      "outputs": []
    },
    {
      "cell_type": "markdown",
      "metadata": {
        "id": "yYbrkmAO5YFu"
      },
      "source": [
        "####    ⦁ Test_Data로 MSE 계산"
      ]
    },
    {
      "cell_type": "code",
      "metadata": {
        "colab": {
          "base_uri": "https://localhost:8080/"
        },
        "id": "7lOyqaat-m_8",
        "outputId": "e3b26602-ddc0-4759-8995-8afa18594d9b"
      },
      "source": [
        "TE_Err_5 = mean_squared_error(y_test, y_hat_5)\r\n",
        "TE_Err_5"
      ],
      "execution_count": 119,
      "outputs": [
        {
          "output_type": "execute_result",
          "data": {
            "text/plain": [
              "4330.604566409499"
            ]
          },
          "metadata": {
            "tags": []
          },
          "execution_count": 119
        }
      ]
    },
    {
      "cell_type": "markdown",
      "metadata": {
        "id": "eijnSxQW5HBQ"
      },
      "source": [
        "### 2-. 9차 모델 Testing Error"
      ]
    },
    {
      "cell_type": "markdown",
      "metadata": {
        "id": "bxcS6eUL5Y92"
      },
      "source": [
        "####     ⦁ Train_Data로 LinearRegression 모델 생성\r\n"
      ]
    },
    {
      "cell_type": "code",
      "metadata": {
        "id": "2RPbVJ6Y-1IS"
      },
      "source": [
        "from sklearn.preprocessing import PolynomialFeatures\r\n",
        "\r\n",
        "poly=PolynomialFeatures(degree=9, include_bias=False)\r\n",
        "PX_9_TR = poly.fit_transform(X_train)"
      ],
      "execution_count": 121,
      "outputs": []
    },
    {
      "cell_type": "code",
      "metadata": {
        "colab": {
          "base_uri": "https://localhost:8080/"
        },
        "id": "7t-HOr-u_J4a",
        "outputId": "9f8564b7-b5e9-480e-f6e5-11424de2c5de"
      },
      "source": [
        "from sklearn.linear_model import LinearRegression\r\n",
        "\r\n",
        "Model_9 = LinearRegression()\r\n",
        "Model_9.fit(PX_9_TR, y_train)"
      ],
      "execution_count": 122,
      "outputs": [
        {
          "output_type": "execute_result",
          "data": {
            "text/plain": [
              "LinearRegression(copy_X=True, fit_intercept=True, n_jobs=None, normalize=False)"
            ]
          },
          "metadata": {
            "tags": []
          },
          "execution_count": 122
        }
      ]
    },
    {
      "cell_type": "markdown",
      "metadata": {
        "id": "NO6FcKQF5Y92"
      },
      "source": [
        "####    ⦁ Test_Data로 y_hat(예측값) 생성\r\n"
      ]
    },
    {
      "cell_type": "code",
      "metadata": {
        "id": "KgPt_Bpu_m1B"
      },
      "source": [
        "PX_9_TE = poly.fit_transform(X_test)\r\n",
        "\r\n",
        "y_hat_9 = Model_9.predict(PX_9_TE)"
      ],
      "execution_count": 123,
      "outputs": []
    },
    {
      "cell_type": "markdown",
      "metadata": {
        "id": "mCQXPVJE5Y93"
      },
      "source": [
        "####    ⦁ Test_Data로 MSE 계산"
      ]
    },
    {
      "cell_type": "code",
      "metadata": {
        "colab": {
          "base_uri": "https://localhost:8080/"
        },
        "id": "uvV1v2rbAHOs",
        "outputId": "f88401ea-67e2-44b9-fc4c-5384f84d65ff"
      },
      "source": [
        "from sklearn.metrics import mean_squared_error\r\n",
        "\r\n",
        "TE_Err_9 = mean_squared_error(y_test, y_hat_9)\r\n",
        "TE_Err_9"
      ],
      "execution_count": 124,
      "outputs": [
        {
          "output_type": "execute_result",
          "data": {
            "text/plain": [
              "4238.689067137633"
            ]
          },
          "metadata": {
            "tags": []
          },
          "execution_count": 124
        }
      ]
    },
    {
      "cell_type": "markdown",
      "metadata": {
        "id": "rNXfJx-8AgJl"
      },
      "source": [
        "### 2-. 3개 모델 Testing Error 비교"
      ]
    },
    {
      "cell_type": "code",
      "metadata": {
        "colab": {
          "base_uri": "https://localhost:8080/"
        },
        "id": "EMyoUOYyAZwh",
        "outputId": "0860973e-9baa-4c02-b8c6-0d3ecf68f6f1"
      },
      "source": [
        "print('1차 모델 : ', TE_Err_1)\r\n",
        "print('5차 모델 : ', TE_Err_5)\r\n",
        "print('9차 모델 : ', TE_Err_9)"
      ],
      "execution_count": 125,
      "outputs": [
        {
          "output_type": "stream",
          "text": [
            "1차 모델 :  6044.176547629271\n",
            "5차 모델 :  4330.604566409499\n",
            "9차 모델 :  4238.689067137633\n"
          ],
          "name": "stdout"
        }
      ]
    },
    {
      "cell_type": "markdown",
      "metadata": {
        "id": "FmTskvCbAwYv"
      },
      "source": [
        "## 4] Validation Approach"
      ]
    },
    {
      "cell_type": "code",
      "metadata": {
        "id": "QO3KE88DC_er"
      },
      "source": [
        "import pandas as pd"
      ],
      "execution_count": 136,
      "outputs": []
    },
    {
      "cell_type": "code",
      "metadata": {
        "colab": {
          "base_uri": "https://localhost:8080/"
        },
        "id": "UCCQBRroDCYT",
        "outputId": "a485d431-5cd4-4196-b7a6-d2e35fb0251d"
      },
      "source": [
        "Elec = pd.read_csv('https://raw.githubusercontent.com/rusita-ai/pyData/master/Electric.csv')\r\n",
        "Elec.info()"
      ],
      "execution_count": 137,
      "outputs": [
        {
          "output_type": "stream",
          "text": [
            "<class 'pandas.core.frame.DataFrame'>\n",
            "RangeIndex: 768 entries, 0 to 767\n",
            "Data columns (total 9 columns):\n",
            " #   Column                     Non-Null Count  Dtype  \n",
            "---  ------                     --------------  -----  \n",
            " 0   compactness                768 non-null    float64\n",
            " 1   surface_area               768 non-null    float64\n",
            " 2   wall_area                  768 non-null    float64\n",
            " 3   roof_area                  768 non-null    float64\n",
            " 4   height                     768 non-null    float64\n",
            " 5   orientation                768 non-null    int64  \n",
            " 6   glazing_area               768 non-null    float64\n",
            " 7   glazing_area_distribution  768 non-null    int64  \n",
            " 8   electricity                768 non-null    float64\n",
            "dtypes: float64(7), int64(2)\n",
            "memory usage: 54.1 KB\n"
          ],
          "name": "stdout"
        }
      ]
    },
    {
      "cell_type": "markdown",
      "metadata": {
        "id": "fvTr6t4ZBBwY"
      },
      "source": [
        "### 1-.   <U>Train</U> **vs.** <U>Validation</U> **vs.** <U>Test</U> ( 6 : 2 : 2 )"
      ]
    },
    {
      "cell_type": "code",
      "metadata": {
        "id": "LFizUDz9DSf5"
      },
      "source": [
        "from sklearn.model_selection import train_test_split"
      ],
      "execution_count": 138,
      "outputs": []
    },
    {
      "cell_type": "markdown",
      "metadata": {
        "id": "bSPKBzpsBGJq"
      },
      "source": [
        "#### ⦁ DataFrame Split - <U>Remain : Test</U>(8:2) "
      ]
    },
    {
      "cell_type": "code",
      "metadata": {
        "colab": {
          "base_uri": "https://localhost:8080/"
        },
        "id": "aMhNBuq7DfZC",
        "outputId": "5070df7c-5885-4c19-addc-4399a15579b3"
      },
      "source": [
        "X_remain, X_test, y_remain, y_test = train_test_split(Elec[['surface_area']], Elec[['electricity']],\r\n",
        "                                                      test_size = int(len(Elec) * 0.2),\r\n",
        "                                                      random_state=2045)\r\n",
        "print(X_remain.shape, y_remain.shape)\r\n",
        "print(X_test.shape, y_test.shape)"
      ],
      "execution_count": 139,
      "outputs": [
        {
          "output_type": "stream",
          "text": [
            "(615, 1) (615, 1)\n",
            "(153, 1) (153, 1)\n"
          ],
          "name": "stdout"
        }
      ]
    },
    {
      "cell_type": "markdown",
      "metadata": {
        "id": "GmRUjKG1BUq8"
      },
      "source": [
        "#### ⦁ DataFrame Split - Remain = <U>Train : Validation</U>(6:2) "
      ]
    },
    {
      "cell_type": "code",
      "metadata": {
        "colab": {
          "base_uri": "https://localhost:8080/"
        },
        "id": "9zKHybQeEK_0",
        "outputId": "17ffb835-b653-4894-fc6b-6d0f48ec343c"
      },
      "source": [
        "X_train, X_valid, y_train, y_valid = train_test_split(X_remain, y_remain,\r\n",
        "                                                                test_size = int(len(Elec)*0.2),\r\n",
        "                                                                random_state = 2045)\r\n",
        "print(X_train.shape, y_train.shape)\r\n",
        "print(X_valid.shape, y_valid.shape)\r\n",
        "print(X_test.shape, y_test.shape)"
      ],
      "execution_count": 144,
      "outputs": [
        {
          "output_type": "stream",
          "text": [
            "(462, 1) (462, 1)\n",
            "(153, 1) (153, 1)\n",
            "(153, 1) (153, 1)\n"
          ],
          "name": "stdout"
        }
      ]
    },
    {
      "cell_type": "markdown",
      "metadata": {
        "id": "cLsenNNWBv6s"
      },
      "source": [
        "### 2-.  5차 모델 Validation Error"
      ]
    },
    {
      "cell_type": "code",
      "metadata": {
        "id": "tbQonbKMFRQd"
      },
      "source": [
        "from sklearn.preprocessing import PolynomialFeatures\r\n",
        "\r\n",
        "poly = PolynomialFeatures(degree = 5, include_bias=False)\r\n",
        "PX_5_TR = poly.fit_transform(X_train)"
      ],
      "execution_count": 141,
      "outputs": []
    },
    {
      "cell_type": "markdown",
      "metadata": {
        "id": "SS-2atVQCOTx"
      },
      "source": [
        "####     ⦁ Train_Data로 모델 생성\r\n"
      ]
    },
    {
      "cell_type": "code",
      "metadata": {
        "colab": {
          "base_uri": "https://localhost:8080/"
        },
        "id": "PcJ1fSQvE0jt",
        "outputId": "fbafa137-2de8-4fd9-cfaa-24f2fc92c93f"
      },
      "source": [
        "from sklearn.linear_model import LinearRegression\r\n",
        "\r\n",
        "Model_5 = LinearRegression()\r\n",
        "Model_5.fit(PX_5_TR, y_train)"
      ],
      "execution_count": 142,
      "outputs": [
        {
          "output_type": "execute_result",
          "data": {
            "text/plain": [
              "LinearRegression(copy_X=True, fit_intercept=True, n_jobs=None, normalize=False)"
            ]
          },
          "metadata": {
            "tags": []
          },
          "execution_count": 142
        }
      ]
    },
    {
      "cell_type": "markdown",
      "metadata": {
        "id": "lfd8icUdCUbO"
      },
      "source": [
        "####     ⦁ Validation_Data로 y_hat(예측값) 생성 및 MSE 계산"
      ]
    },
    {
      "cell_type": "code",
      "metadata": {
        "colab": {
          "base_uri": "https://localhost:8080/"
        },
        "id": "da_cIFB9F0JB",
        "outputId": "f75308a5-2234-4a01-dfcd-5a4c60e9aafe"
      },
      "source": [
        "PX_5_VD = poly.fit_transform(X_valid)\r\n",
        "y_hat_5 = Model_5.predict(PX_5_VD)\r\n",
        "\r\n",
        "from sklearn.metrics import mean_squared_error\r\n",
        "\r\n",
        "MSE_5 = mean_squared_error(y_valid, y_hat_5)\r\n",
        "MSE_5"
      ],
      "execution_count": 145,
      "outputs": [
        {
          "output_type": "execute_result",
          "data": {
            "text/plain": [
              "4136.4312593408395"
            ]
          },
          "metadata": {
            "tags": []
          },
          "execution_count": 145
        }
      ]
    },
    {
      "cell_type": "markdown",
      "metadata": {
        "id": "voE_vclkB327"
      },
      "source": [
        "### 3-.  9차 모델 Validation Error"
      ]
    },
    {
      "cell_type": "code",
      "metadata": {
        "id": "XSwxqkk6GEnE"
      },
      "source": [
        "from sklearn.preprocessing import PolynomialFeatures\r\n",
        "\r\n",
        "poly = PolynomialFeatures(degree =9, include_bias=False)\r\n",
        "PX_9_TR = poly.fit_transform(X_train)"
      ],
      "execution_count": 146,
      "outputs": []
    },
    {
      "cell_type": "markdown",
      "metadata": {
        "id": "dEx8pRNmCV2_"
      },
      "source": [
        "####     ⦁ Train_Data로 모델 생성\r\n"
      ]
    },
    {
      "cell_type": "code",
      "metadata": {
        "colab": {
          "base_uri": "https://localhost:8080/"
        },
        "id": "kdceIAPcHA2i",
        "outputId": "679aa865-7b7f-4edb-f4a8-2d8e01ab8cb6"
      },
      "source": [
        "from sklearn.linear_model import LinearRegression\r\n",
        "\r\n",
        "Model_9 = LinearRegression()\r\n",
        "Model_9.fit(PX_9_TR, y_train)"
      ],
      "execution_count": 147,
      "outputs": [
        {
          "output_type": "execute_result",
          "data": {
            "text/plain": [
              "LinearRegression(copy_X=True, fit_intercept=True, n_jobs=None, normalize=False)"
            ]
          },
          "metadata": {
            "tags": []
          },
          "execution_count": 147
        }
      ]
    },
    {
      "cell_type": "markdown",
      "metadata": {
        "id": "9cddNN84CV3A"
      },
      "source": [
        "####     ⦁ Validation_Data로 y_hat(예측값) 생성 및 MSE 계산"
      ]
    },
    {
      "cell_type": "code",
      "metadata": {
        "colab": {
          "base_uri": "https://localhost:8080/"
        },
        "id": "NXD6DcShHN0h",
        "outputId": "64091ab7-cb22-49c5-95d7-0c939b540f1b"
      },
      "source": [
        "PX_9_VD = poly.fit_transform(X_valid)\r\n",
        "y_hat_9 = Model_9.predict(PX_9_VD)\r\n",
        "\r\n",
        "MSE_9 = mean_squared_error(y_valid, y_hat_9)\r\n",
        "MSE_9"
      ],
      "execution_count": 148,
      "outputs": [
        {
          "output_type": "execute_result",
          "data": {
            "text/plain": [
              "3955.9733124909912"
            ]
          },
          "metadata": {
            "tags": []
          },
          "execution_count": 148
        }
      ]
    },
    {
      "cell_type": "markdown",
      "metadata": {
        "id": "-z8gLu2xCcKT"
      },
      "source": [
        "###     4-. 2개 모델 Validation Error(MSE값) 비교\r\n"
      ]
    },
    {
      "cell_type": "code",
      "metadata": {
        "colab": {
          "base_uri": "https://localhost:8080/"
        },
        "id": "VIE6mizpH0Xb",
        "outputId": "37283ef8-2b2c-4fa0-800d-6d460f1280f2"
      },
      "source": [
        "print('5차 모델 : ', MSE_5)\r\n",
        "print('9차 모델 : ', MSE_9)"
      ],
      "execution_count": 149,
      "outputs": [
        {
          "output_type": "stream",
          "text": [
            "5차 모델 :  4136.4312593408395\n",
            "9차 모델 :  3955.9733124909912\n"
          ],
          "name": "stdout"
        }
      ]
    },
    {
      "cell_type": "markdown",
      "metadata": {
        "id": "ybPZMYydCk8h"
      },
      "source": [
        "###  5-. 최종 모델을 Test_Data에 적용"
      ]
    },
    {
      "cell_type": "markdown",
      "metadata": {
        "id": "rUeCGfw9Cn9P"
      },
      "source": [
        "#### ⦁Test_Data로  y_hat(예측값) 생성 및 MSE 계산"
      ]
    },
    {
      "cell_type": "code",
      "metadata": {
        "colab": {
          "base_uri": "https://localhost:8080/"
        },
        "id": "1suYwSzioG10",
        "outputId": "ba1ae27b-dfa9-435e-ed03-a9acd0d631b7"
      },
      "source": [
        "PX_9_TE = poly.fit_transform(X_test)\r\n",
        "\r\n",
        "mean_squared_error(y_test, Model_9.predict(PX_9_TE))"
      ],
      "execution_count": 152,
      "outputs": [
        {
          "output_type": "execute_result",
          "data": {
            "text/plain": [
              "4220.88573210769"
            ]
          },
          "metadata": {
            "tags": []
          },
          "execution_count": 152
        }
      ]
    }
  ]
}