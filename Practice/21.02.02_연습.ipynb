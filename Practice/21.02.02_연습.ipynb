{
 "cells": [
  {
   "cell_type": "code",
   "execution_count": 5,
   "metadata": {},
   "outputs": [],
   "source": [
    "def copy(a,b):\n",
    "    x = open(a,'rt')\n",
    "    row = x.readlines()\n",
    "    \n",
    "    for r in row:\n",
    "        if not row:\n",
    "            break\n",
    "        else:\n",
    "            print(r)\n",
    "            y = open(b,'wt')\n",
    "            y.write(r)\n",
    "    f.close()\n",
    "    \n"
   ]
  },
  {
   "cell_type": "code",
   "execution_count": null,
   "metadata": {},
   "outputs": [],
   "source": [
    "def copy(self):\n",
    "    if self = '-cp':\n",
    "        def copy(a,b):\n",
    "            x = open(a,'rt')\n",
    "            row = x.readlines()\n",
    "\n",
    "            for r in row:\n",
    "                if not row:\n",
    "                    break\n",
    "                else:\n",
    "                    print(r)\n",
    "                    y = open(b,'wt')\n",
    "                    y.write(r)\n",
    "            f.close()  "
   ]
  },
  {
   "cell_type": "code",
   "execution_count": null,
   "metadata": {},
   "outputs": [],
   "source": []
  },
  {
   "cell_type": "code",
   "execution_count": 4,
   "metadata": {},
   "outputs": [
    {
     "name": "stdout",
     "output_type": "stream",
     "text": [
      "Hello, world\n"
     ]
    }
   ],
   "source": [
    "f = open('hello,world.txt','wt')\n",
    "f.write('''Hello, world''')\n",
    "f1 = open('hello,world.txt','rt')\n",
    "for line in f1:\n",
    "    print(line)"
   ]
  },
  {
   "cell_type": "code",
   "execution_count": 6,
   "metadata": {},
   "outputs": [
    {
     "name": "stdout",
     "output_type": "stream",
     "text": [
      "Hello, world\n",
      "None\n"
     ]
    }
   ],
   "source": [
    "print(copy('hello,world.txt','hello,world2.txt'))"
   ]
  },
  {
   "cell_type": "code",
   "execution_count": 7,
   "metadata": {},
   "outputs": [
    {
     "name": "stdout",
     "output_type": "stream",
     "text": [
      "Hello, world\n"
     ]
    }
   ],
   "source": [
    "f = open('hello,world.txt','rt')\n",
    "for line in f:\n",
    "    print(line)"
   ]
  },
  {
   "cell_type": "code",
   "execution_count": null,
   "metadata": {},
   "outputs": [],
   "source": []
  },
  {
   "cell_type": "code",
   "execution_count": null,
   "metadata": {},
   "outputs": [],
   "source": []
  },
  {
   "cell_type": "code",
   "execution_count": null,
   "metadata": {},
   "outputs": [],
   "source": []
  },
  {
   "cell_type": "code",
   "execution_count": null,
   "metadata": {},
   "outputs": [],
   "source": [
    "f = open(\"Rimbaud.txt\",'wt')\n",
    "f.write(\"\"\"감각\n",
    "여름 푸른 저녁이면 들길을 가리라\\n\\n밀잎에 찔리고, 잔풀을 밟으며\\n\\n하여 몽상가의 발밑으로 그 신선함 느끼리\\n\n",
    "바람은 저절로 내 맨머리를 씻겨주겠지\\n\\n말도 않고, 생각도 않으리\\n\n",
    "그러나 한없는 사람은 내 넋 속에 피어 오르리니,\\n\\n나는 가리라,멀리,저 멀리, 보헤미안처럼\\n\n",
    "계집애 데려가듯 행복하게, 자연 속으로\"\"\")\n",
    "f.close()"
   ]
  },
  {
   "cell_type": "code",
   "execution_count": 1,
   "metadata": {},
   "outputs": [
    {
     "name": "stdout",
     "output_type": "stream",
     "text": [
      "감각\n",
      "\n",
      "여름 푸른 저녁이면 들길을 가리라\n",
      "\n",
      "밀잎에 찔리고, 잔풀을 밟으며\n",
      "\n",
      "하여 몽상가의 발밑으로 그 신선함 느끼리\n",
      "\n",
      "바람은 저절로 내 맨머리를 씻겨주겠지\n",
      "\n",
      "말도 않고, 생각도 않으리\n",
      "\n",
      "그러나 한없는 사람은 내 넋 속에 피어 오르리니,\n",
      "\n",
      "나는 가리라,멀리,저 멀리, 보헤미안처럼\n",
      "\n",
      "계집애 데려가듯 행복하게, 자연 속으로\n"
     ]
    }
   ],
   "source": [
    "f = open('Rimbaud.txt','rt')\n",
    "for line in f:\n",
    "    print(line)"
   ]
  },
  {
   "cell_type": "code",
   "execution_count": null,
   "metadata": {},
   "outputs": [],
   "source": []
  },
  {
   "cell_type": "code",
   "execution_count": null,
   "metadata": {},
   "outputs": [],
   "source": []
  },
  {
   "cell_type": "code",
   "execution_count": null,
   "metadata": {},
   "outputs": [],
   "source": []
  },
  {
   "cell_type": "code",
   "execution_count": null,
   "metadata": {},
   "outputs": [],
   "source": []
  },
  {
   "cell_type": "code",
   "execution_count": null,
   "metadata": {},
   "outputs": [],
   "source": []
  },
  {
   "cell_type": "code",
   "execution_count": null,
   "metadata": {},
   "outputs": [],
   "source": []
  },
  {
   "cell_type": "code",
   "execution_count": null,
   "metadata": {},
   "outputs": [],
   "source": []
  },
  {
   "cell_type": "code",
   "execution_count": null,
   "metadata": {},
   "outputs": [],
   "source": []
  },
  {
   "cell_type": "code",
   "execution_count": null,
   "metadata": {},
   "outputs": [],
   "source": []
  },
  {
   "cell_type": "code",
   "execution_count": null,
   "metadata": {},
   "outputs": [],
   "source": []
  }
 ],
 "metadata": {
  "kernelspec": {
   "display_name": "Python 3",
   "language": "python",
   "name": "python3"
  },
  "language_info": {
   "codemirror_mode": {
    "name": "ipython",
    "version": 3
   },
   "file_extension": ".py",
   "mimetype": "text/x-python",
   "name": "python",
   "nbconvert_exporter": "python",
   "pygments_lexer": "ipython3",
   "version": "3.8.5"
  }
 },
 "nbformat": 4,
 "nbformat_minor": 4
}
