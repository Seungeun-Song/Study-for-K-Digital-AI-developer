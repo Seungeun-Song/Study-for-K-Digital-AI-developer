{
  "nbformat": 4,
  "nbformat_minor": 0,
  "metadata": {
    "colab": {
      "name": "RESNET_models_with_initial_for_new_files.ipynb",
      "provenance": []
    },
    "kernelspec": {
      "name": "python3",
      "display_name": "Python 3"
    },
    "language_info": {
      "name": "python"
    }
  },
  "cells": [
    {
      "cell_type": "code",
      "metadata": {
        "id": "ZX-_PjMF2gNa",
        "colab": {
          "base_uri": "https://localhost:8080/"
        },
        "outputId": "85352dfa-2fd3-48b1-8450-0c6a3332cc02"
      },
      "source": [
        "from google.colab import drive\n",
        "\n",
        "drive.mount('/content/drive')"
      ],
      "execution_count": null,
      "outputs": [
        {
          "output_type": "stream",
          "text": [
            "Mounted at /content/drive\n"
          ],
          "name": "stdout"
        }
      ]
    },
    {
      "cell_type": "code",
      "metadata": {
        "id": "z2azrWPBKTTw",
        "colab": {
          "base_uri": "https://localhost:8080/"
        },
        "outputId": "b44c2272-f966-47fc-88d5-1099d842f827"
      },
      "source": [
        "!ls -l '/content/drive/My Drive/Colab Notebooks/datasets/img_final.zip'"
      ],
      "execution_count": null,
      "outputs": [
        {
          "output_type": "stream",
          "text": [
            "-rw------- 1 root root 51735135 Apr 19 02:14 '/content/drive/My Drive/Colab Notebooks/datasets/img_final.zip'\n"
          ],
          "name": "stdout"
        }
      ]
    },
    {
      "cell_type": "code",
      "metadata": {
        "id": "Olr39vl1U89G"
      },
      "source": [
        "!unzip /content/drive/My\\ Drive/Colab\\ Notebooks/datasets/img_final.zip"
      ],
      "execution_count": null,
      "outputs": []
    },
    {
      "cell_type": "code",
      "metadata": {
        "id": "_M5flC97z-SN"
      },
      "source": [
        "!ls -l './img'"
      ],
      "execution_count": null,
      "outputs": []
    },
    {
      "cell_type": "code",
      "metadata": {
        "id": "CuXK3JohdhQW"
      },
      "source": [
        "import pathlib\n",
        "from glob import glob\n",
        "from keras.preprocessing import image\n",
        "import tensorflow as tf\n",
        "from keras.preprocessing.image import ImageDataGenerator\n",
        "from tensorflow.keras.applications import ResNet50\n",
        "from keras import layers, models, optimizers\n",
        "from keras.initializers import RandomNormal\n",
        "import matplotlib.pyplot as plt"
      ],
      "execution_count": null,
      "outputs": []
    },
    {
      "cell_type": "markdown",
      "metadata": {
        "id": "j3zA1BEsdqKk"
      },
      "source": [
        "# layer : 5-3-2"
      ]
    },
    {
      "cell_type": "code",
      "metadata": {
        "id": "gW5vyEhEd6G_"
      },
      "source": [
        "conv_base =  ResNet50(weights='imagenet', include_top=False, input_shape =(640,640,3))\n",
        "\n",
        "set_trainable = False\n",
        "\n",
        "for layer in conv_base.layers:\n",
        "    if layer.name =='conv5_block3_2_conv' :      \n",
        "        set_trainable = True\n",
        "\n",
        "    if set_trainable:\n",
        "        layer.trainable = True\n",
        "    else:\n",
        "        layer.trainable = False\n",
        "\n",
        "\n",
        "\n",
        "model = models.Sequential()\n",
        "model.add(conv_base)\n",
        "\n",
        "model.add(layers.Flatten())\n",
        "model.add(layers.Dense(256, kernel_initializer=RandomNormal(stddev=0.02), activation='relu'))\n",
        "model.add(layers.Dropout(0.5))\n",
        "model.add(layers.Dense(1, activation='sigmoid')) \n",
        "\n",
        "model.summary()\n",
        "\n",
        "model.compile(loss='binary_crossentropy', optimizer=optimizers.Adam(lr=0.000005), metrics=['accuracy'])    "
      ],
      "execution_count": null,
      "outputs": []
    },
    {
      "cell_type": "markdown",
      "metadata": {
        "id": "8bmIn48Tdurf"
      },
      "source": [
        "## batch_size = 10"
      ]
    },
    {
      "cell_type": "code",
      "metadata": {
        "id": "CpeC3m7MdkAO"
      },
      "source": [
        "image_dir = '/content/img'\n",
        "\n",
        "random_seed = 414\n",
        "\n",
        "datagen = ImageDataGenerator(rescale = 1./255, validation_split=0.3)\n",
        "\n",
        "train_generator = datagen.flow_from_directory(image_dir,target_size = (640, 640), seed=random_seed,\n",
        "                                                    batch_size = 10, class_mode = 'binary', subset='training')\n",
        "valid_generator = datagen.flow_from_directory(image_dir, target_size=(640, 640), seed=random_seed,\n",
        "                                              batch_size=10, class_mode='binary', subset='validation')\n"
      ],
      "execution_count": null,
      "outputs": []
    },
    {
      "cell_type": "markdown",
      "metadata": {
        "id": "0meGFXlDf2k-"
      },
      "source": [
        "## modeling"
      ]
    },
    {
      "cell_type": "code",
      "metadata": {
        "id": "CRh1uqdifB6O"
      },
      "source": [
        "%%time\n",
        "\n",
        "Hist = model.fit(train_generator, steps_per_epoch=len(train_generator)//10,\n",
        "                epochs=50, validation_data=valid_generator, validation_steps=len(valid_generator)//10) "
      ],
      "execution_count": null,
      "outputs": []
    },
    {
      "cell_type": "markdown",
      "metadata": {
        "id": "bDnzl43Pf4Ft"
      },
      "source": [
        "## loss & 시각화\n",
        "\n",
        "\n"
      ]
    },
    {
      "cell_type": "code",
      "metadata": {
        "id": "-sjzXmtWfK0V"
      },
      "source": [
        "loss, accuracy = model.evaluate(valid_generator, steps=len(valid_generator)//10)\n",
        "print('Loss = {:.5f}'.format(loss))\n",
        "print('Accuracy = {:.5f}'.format(accuracy))\n",
        "\n",
        "\n",
        "\n",
        "\n",
        "plt.figure(figsize = (9, 6))\n",
        "plt.plot( Hist.history['loss'])\n",
        "plt.plot(Hist.history['val_loss'])\n",
        "\n",
        "plt.legend(['Training Loss', 'Validation Loss'])\n",
        "plt.grid()\n",
        "plt.show()\n",
        "\n",
        "\n",
        "plt.figure(figsize = (9, 6))\n",
        "plt.plot(Hist.history['accuracy'])\n",
        "plt.plot( Hist.history['val_accuracy'])\n",
        "\n",
        "plt.legend(['Training accuracy', 'Validation accuracy'])\n",
        "plt.grid()\n",
        "plt.show()"
      ],
      "execution_count": null,
      "outputs": []
    },
    {
      "cell_type": "markdown",
      "metadata": {
        "id": "qbxJFFJdfmpl"
      },
      "source": [
        "# layer: 5-2-1"
      ]
    },
    {
      "cell_type": "code",
      "metadata": {
        "id": "374nFqhYdDwJ"
      },
      "source": [
        "from keras import backend as K\n",
        "\n",
        "K.clear_session()"
      ],
      "execution_count": null,
      "outputs": []
    },
    {
      "cell_type": "code",
      "metadata": {
        "id": "bGZUIDTHftoW"
      },
      "source": [
        "conv_base =  ResNet50(weights='imagenet', include_top=False, input_shape =(640,640,3))\n",
        "\n",
        "set_trainable = False\n",
        "\n",
        "for layer in conv_base.layers:\n",
        "    if layer.name =='conv5_block2_1_conv' :      \n",
        "        set_trainable = True\n",
        "\n",
        "    if set_trainable:\n",
        "        layer.trainable = True\n",
        "    else:\n",
        "        layer.trainable = False\n",
        "\n",
        "\n",
        "\n",
        "model = models.Sequential()\n",
        "model.add(conv_base)\n",
        "\n",
        "model.add(layers.Flatten())\n",
        "model.add(layers.Dense(256, kernel_initializer=RandomNormal(stddev=0.02), activation='relu'))\n",
        "model.add(layers.Dropout(0.5))\n",
        "model.add(layers.Dense(1, activation='sigmoid')) \n",
        "\n",
        "model.summary()\n",
        "\n",
        "model.compile(loss='binary_crossentropy', optimizer=optimizers.Adam(lr=0.000005), metrics=['accuracy'])    "
      ],
      "execution_count": null,
      "outputs": []
    },
    {
      "cell_type": "markdown",
      "metadata": {
        "id": "8YrX64_VfyjG"
      },
      "source": [
        "## batch_size=10"
      ]
    },
    {
      "cell_type": "code",
      "metadata": {
        "id": "Hlgdhwk4gl_1"
      },
      "source": [
        "image_dir = '/content/img'\n",
        "\n",
        "random_seed = 414\n",
        "\n",
        "datagen = ImageDataGenerator(rescale = 1./255, validation_split=0.3)\n",
        "\n",
        "train_generator = datagen.flow_from_directory(image_dir,target_size = (640, 640), seed=random_seed,\n",
        "                                                    batch_size = 10, class_mode = 'binary', subset='training')\n",
        "valid_generator = datagen.flow_from_directory(image_dir, target_size=(640, 640), seed=random_seed,\n",
        "                                              batch_size=10, class_mode='binary', subset='validation')\n"
      ],
      "execution_count": null,
      "outputs": []
    },
    {
      "cell_type": "markdown",
      "metadata": {
        "id": "msBhKmYvf_fA"
      },
      "source": [
        "## modeling"
      ]
    },
    {
      "cell_type": "code",
      "metadata": {
        "id": "uPfrqAXtf_fA"
      },
      "source": [
        "%%time\n",
        "\n",
        "Hist = model.fit(train_generator, steps_per_epoch=len(train_generator)//10,\n",
        "                epochs=50, validation_data=valid_generator, validation_steps=len(valid_generator)//10) "
      ],
      "execution_count": null,
      "outputs": []
    },
    {
      "cell_type": "markdown",
      "metadata": {
        "id": "oZTpkX6yf_fB"
      },
      "source": [
        "## loss & 시각화\n",
        "\n",
        "\n"
      ]
    },
    {
      "cell_type": "code",
      "metadata": {
        "id": "JJ5Xzx_7f_fB"
      },
      "source": [
        "loss, accuracy = model.evaluate(valid_generator, steps=len(valid_generator)//10)\n",
        "print('Loss = {:.5f}'.format(loss))\n",
        "print('Accuracy = {:.5f}'.format(accuracy))\n",
        "\n",
        "\n",
        "\n",
        "\n",
        "plt.figure(figsize = (9, 6))\n",
        "plt.plot( Hist.history['loss'])\n",
        "plt.plot(Hist.history['val_loss'])\n",
        "\n",
        "plt.legend(['Training Loss', 'Validation Loss'])\n",
        "plt.grid()\n",
        "plt.show()\n",
        "\n",
        "\n",
        "plt.figure(figsize = (9, 6))\n",
        "plt.plot(Hist.history['accuracy'])\n",
        "plt.plot( Hist.history['val_accuracy'])\n",
        "\n",
        "plt.legend(['Training accuracy', 'Validation accuracy'])\n",
        "plt.grid()\n",
        "plt.show()"
      ],
      "execution_count": null,
      "outputs": []
    },
    {
      "cell_type": "markdown",
      "metadata": {
        "id": "5x0Jm_FugB_9"
      },
      "source": [
        "# All trainable"
      ]
    },
    {
      "cell_type": "code",
      "metadata": {
        "id": "yknjPym_gL7H"
      },
      "source": [
        "from keras import backend as K\n",
        "\n",
        "K.clear_session()"
      ],
      "execution_count": null,
      "outputs": []
    },
    {
      "cell_type": "code",
      "metadata": {
        "id": "pc02CeKogL7H"
      },
      "source": [
        "conv_base =  ResNet50(weights='imagenet', include_top=False, input_shape =(640,640,3))\n",
        "\n",
        "model = models.Sequential()\n",
        "model.add(conv_base)\n",
        "\n",
        "model.add(layers.Flatten())\n",
        "model.add(layers.Dense(256, kernel_initializer=RandomNormal(stddev=0.02), activation='relu'))\n",
        "model.add(layers.Dropout(0.5))\n",
        "model.add(layers.Dense(1, activation='sigmoid')) \n",
        "\n",
        "model.summary()\n",
        "\n",
        "model.compile(loss='binary_crossentropy', optimizer=optimizers.Adam(lr=0.000005), metrics=['accuracy'])    "
      ],
      "execution_count": null,
      "outputs": []
    },
    {
      "cell_type": "markdown",
      "metadata": {
        "id": "isPHnrSKgSbP"
      },
      "source": [
        "## batch_size=10"
      ]
    },
    {
      "cell_type": "code",
      "metadata": {
        "id": "tf5j2srTgpoN"
      },
      "source": [
        "image_dir = '/content/img'\n",
        "\n",
        "random_seed = 414\n",
        "\n",
        "datagen = ImageDataGenerator(rescale = 1./255, validation_split=0.3)\n",
        "\n",
        "train_generator = datagen.flow_from_directory(image_dir,target_size = (640, 640), seed=random_seed,\n",
        "                                                    batch_size = 10, class_mode = 'binary', subset='training')\n",
        "valid_generator = datagen.flow_from_directory(image_dir, target_size=(640, 640), seed=random_seed,\n",
        "                                              batch_size=10, class_mode='binary', subset='validation')\n"
      ],
      "execution_count": null,
      "outputs": []
    },
    {
      "cell_type": "markdown",
      "metadata": {
        "id": "zWRWzJoCgSbP"
      },
      "source": [
        "## modeling"
      ]
    },
    {
      "cell_type": "code",
      "metadata": {
        "id": "8R8F2xICgSbP"
      },
      "source": [
        "%%time\n",
        "\n",
        "Hist = model.fit(train_generator, steps_per_epoch=len(train_generator)//10,\n",
        "                epochs=50, validation_data=valid_generator, validation_steps=len(valid_generator)//10) "
      ],
      "execution_count": null,
      "outputs": []
    },
    {
      "cell_type": "markdown",
      "metadata": {
        "id": "HD0v9fuPgSbP"
      },
      "source": [
        "## loss & 시각화\n",
        "\n",
        "\n"
      ]
    },
    {
      "cell_type": "code",
      "metadata": {
        "id": "6MIgEGIJgSbQ"
      },
      "source": [
        "loss, accuracy = model.evaluate(valid_generator, steps=len(valid_generator)//10)\n",
        "print('Loss = {:.5f}'.format(loss))\n",
        "print('Accuracy = {:.5f}'.format(accuracy))\n",
        "\n",
        "\n",
        "\n",
        "\n",
        "plt.figure(figsize = (9, 6))\n",
        "plt.plot( Hist.history['loss'])\n",
        "plt.plot(Hist.history['val_loss'])\n",
        "\n",
        "plt.legend(['Training Loss', 'Validation Loss'])\n",
        "plt.grid()\n",
        "plt.show()\n",
        "\n",
        "\n",
        "plt.figure(figsize = (9, 6))\n",
        "plt.plot(Hist.history['accuracy'])\n",
        "plt.plot( Hist.history['val_accuracy'])\n",
        "\n",
        "plt.legend(['Training accuracy', 'Validation accuracy'])\n",
        "plt.grid()\n",
        "plt.show()"
      ],
      "execution_count": null,
      "outputs": []
    },
    {
      "cell_type": "code",
      "metadata": {
        "id": "K3RdN9s_gEkO"
      },
      "source": [
        ""
      ],
      "execution_count": null,
      "outputs": []
    }
  ]
}