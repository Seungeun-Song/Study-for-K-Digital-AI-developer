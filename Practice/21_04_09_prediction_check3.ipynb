{
  "nbformat": 4,
  "nbformat_minor": 0,
  "metadata": {
    "colab": {
      "name": "prediction_check.ipynb",
      "provenance": []
    },
    "kernelspec": {
      "name": "python3",
      "display_name": "Python 3"
    },
    "language_info": {
      "name": "python"
    },
    "accelerator": "GPU"
  },
  "cells": [
    {
      "cell_type": "code",
      "metadata": {
        "colab": {
          "base_uri": "https://localhost:8080/"
        },
        "id": "bXVMTx_uBiD5",
        "outputId": "89cee1ce-c386-4349-ace7-c9dd7ddc7032"
      },
      "source": [
        "from google.colab import drive\n",
        "drive.mount('/content/drive')"
      ],
      "execution_count": null,
      "outputs": [
        {
          "output_type": "stream",
          "text": [
            "Mounted at /content/drive\n"
          ],
          "name": "stdout"
        }
      ]
    },
    {
      "cell_type": "code",
      "metadata": {
        "id": "e0Xjgai1Bjg1"
      },
      "source": [
        ""
      ],
      "execution_count": null,
      "outputs": []
    },
    {
      "cell_type": "code",
      "metadata": {
        "colab": {
          "base_uri": "https://localhost:8080/"
        },
        "id": "-x8AB1ebQ2u0",
        "outputId": "47e63382-333a-4028-efe4-25265df399cc"
      },
      "source": [
        "!ls -l '/content/drive/My Drive/Colab Notebooks/datasets/0408_data.zip'"
      ],
      "execution_count": null,
      "outputs": [
        {
          "output_type": "stream",
          "text": [
            "-rw------- 1 root root 19653256 Apr  9 05:05 '/content/drive/My Drive/Colab Notebooks/datasets/0408_data.zip'\n"
          ],
          "name": "stdout"
        }
      ]
    },
    {
      "cell_type": "code",
      "metadata": {
        "id": "H7cq4JuPQ2u1"
      },
      "source": [
        "!unzip /content/drive/My\\ Drive/Colab\\ Notebooks/datasets/0408_data.zip"
      ],
      "execution_count": null,
      "outputs": []
    },
    {
      "cell_type": "code",
      "metadata": {
        "id": "M8rQeg1pQ2u1"
      },
      "source": [
        "train_dir = '0408_data/data/train'\n",
        "test_dir = '0408_data/data/test'"
      ],
      "execution_count": null,
      "outputs": []
    },
    {
      "cell_type": "code",
      "metadata": {
        "id": "QMf2V7KxC-yG",
        "colab": {
          "base_uri": "https://localhost:8080/"
        },
        "outputId": "9161ee76-271f-4268-ec0e-d8d41a9a1f40"
      },
      "source": [
        "from keras.preprocessing.image import ImageDataGenerator\n",
        "train_datagen = ImageDataGenerator(rescale = 1./255)\n",
        "test_datagen = ImageDataGenerator(rescale = 1./255)\n",
        "\n",
        "\n",
        "train_generator = train_datagen.flow_from_directory(train_dir,target_size = (640, 640),\n",
        "                                                    batch_size = 40,class_mode = 'binary')\n",
        "\n",
        "test_generator = test_datagen.flow_from_directory(test_dir,target_size = (640, 640),\n",
        "                                                    batch_size = 40,class_mode = 'binary')"
      ],
      "execution_count": null,
      "outputs": [
        {
          "output_type": "stream",
          "text": [
            "Found 163 images belonging to 2 classes.\n",
            "Found 40 images belonging to 2 classes.\n"
          ],
          "name": "stdout"
        }
      ]
    },
    {
      "cell_type": "code",
      "metadata": {
        "id": "pGiWQuDYC-yJ",
        "colab": {
          "base_uri": "https://localhost:8080/"
        },
        "outputId": "7b1ec5fd-a7b7-402a-a0ac-ddb5ff4babb0"
      },
      "source": [
        "from keras.applications import VGG16\n",
        "\n",
        "conv_base = VGG16(weights = 'imagenet', include_top = False, input_shape = (640, 640, 3))\n",
        "\n",
        "set_trainable = False\n",
        "\n",
        "for layer in conv_base.layers:\n",
        "  if layer.name == 'block5_conv1':       \n",
        "    set_trainable = True\n",
        "\n",
        "  if set_trainable:\n",
        "    layer.trainable = True\n",
        "  else:\n",
        "    layer.trainable = False\n",
        "\n",
        "conv_base.summary()"
      ],
      "execution_count": null,
      "outputs": [
        {
          "output_type": "stream",
          "text": [
            "Downloading data from https://storage.googleapis.com/tensorflow/keras-applications/vgg16/vgg16_weights_tf_dim_ordering_tf_kernels_notop.h5\n",
            "58892288/58889256 [==============================] - 1s 0us/step\n",
            "Model: \"vgg16\"\n",
            "_________________________________________________________________\n",
            "Layer (type)                 Output Shape              Param #   \n",
            "=================================================================\n",
            "input_1 (InputLayer)         [(None, 640, 640, 3)]     0         \n",
            "_________________________________________________________________\n",
            "block1_conv1 (Conv2D)        (None, 640, 640, 64)      1792      \n",
            "_________________________________________________________________\n",
            "block1_conv2 (Conv2D)        (None, 640, 640, 64)      36928     \n",
            "_________________________________________________________________\n",
            "block1_pool (MaxPooling2D)   (None, 320, 320, 64)      0         \n",
            "_________________________________________________________________\n",
            "block2_conv1 (Conv2D)        (None, 320, 320, 128)     73856     \n",
            "_________________________________________________________________\n",
            "block2_conv2 (Conv2D)        (None, 320, 320, 128)     147584    \n",
            "_________________________________________________________________\n",
            "block2_pool (MaxPooling2D)   (None, 160, 160, 128)     0         \n",
            "_________________________________________________________________\n",
            "block3_conv1 (Conv2D)        (None, 160, 160, 256)     295168    \n",
            "_________________________________________________________________\n",
            "block3_conv2 (Conv2D)        (None, 160, 160, 256)     590080    \n",
            "_________________________________________________________________\n",
            "block3_conv3 (Conv2D)        (None, 160, 160, 256)     590080    \n",
            "_________________________________________________________________\n",
            "block3_pool (MaxPooling2D)   (None, 80, 80, 256)       0         \n",
            "_________________________________________________________________\n",
            "block4_conv1 (Conv2D)        (None, 80, 80, 512)       1180160   \n",
            "_________________________________________________________________\n",
            "block4_conv2 (Conv2D)        (None, 80, 80, 512)       2359808   \n",
            "_________________________________________________________________\n",
            "block4_conv3 (Conv2D)        (None, 80, 80, 512)       2359808   \n",
            "_________________________________________________________________\n",
            "block4_pool (MaxPooling2D)   (None, 40, 40, 512)       0         \n",
            "_________________________________________________________________\n",
            "block5_conv1 (Conv2D)        (None, 40, 40, 512)       2359808   \n",
            "_________________________________________________________________\n",
            "block5_conv2 (Conv2D)        (None, 40, 40, 512)       2359808   \n",
            "_________________________________________________________________\n",
            "block5_conv3 (Conv2D)        (None, 40, 40, 512)       2359808   \n",
            "_________________________________________________________________\n",
            "block5_pool (MaxPooling2D)   (None, 20, 20, 512)       0         \n",
            "=================================================================\n",
            "Total params: 14,714,688\n",
            "Trainable params: 7,079,424\n",
            "Non-trainable params: 7,635,264\n",
            "_________________________________________________________________\n"
          ],
          "name": "stdout"
        }
      ]
    },
    {
      "cell_type": "code",
      "metadata": {
        "id": "2oqfI02KC-yJ",
        "colab": {
          "base_uri": "https://localhost:8080/"
        },
        "outputId": "d7262381-0aaf-4d8e-fca6-305dab77ad33"
      },
      "source": [
        "from keras import models, layers, optimizers\n",
        "\n",
        "model = models.Sequential()\n",
        "model.add(conv_base)\n",
        "\n",
        "model.add(layers.Flatten())\n",
        "model.add(layers.Dense(256, activation = 'relu'))\n",
        "model.add(layers.Dropout(0.5))\n",
        "model.add(layers.Dense(1, activation = 'sigmoid'))   \n",
        "\n",
        "model.summary()\n",
        "\n",
        "\n",
        "model.compile(loss = 'binary_crossentropy', \n",
        "              optimizer = optimizers.Adam(lr = 0.000005),\n",
        "              metrics = ['accuracy'])"
      ],
      "execution_count": null,
      "outputs": [
        {
          "output_type": "stream",
          "text": [
            "Model: \"sequential\"\n",
            "_________________________________________________________________\n",
            "Layer (type)                 Output Shape              Param #   \n",
            "=================================================================\n",
            "vgg16 (Functional)           (None, 20, 20, 512)       14714688  \n",
            "_________________________________________________________________\n",
            "flatten (Flatten)            (None, 204800)            0         \n",
            "_________________________________________________________________\n",
            "dense (Dense)                (None, 256)               52429056  \n",
            "_________________________________________________________________\n",
            "dropout (Dropout)            (None, 256)               0         \n",
            "_________________________________________________________________\n",
            "dense_1 (Dense)              (None, 1)                 257       \n",
            "=================================================================\n",
            "Total params: 67,144,001\n",
            "Trainable params: 59,508,737\n",
            "Non-trainable params: 7,635,264\n",
            "_________________________________________________________________\n"
          ],
          "name": "stdout"
        }
      ]
    },
    {
      "cell_type": "code",
      "metadata": {
        "colab": {
          "base_uri": "https://localhost:8080/"
        },
        "id": "gSd-Cx9DC-yK",
        "outputId": "69cf0a1f-6a7a-4359-88e0-048a3cbe62ef"
      },
      "source": [
        "%%time\n",
        "\n",
        "Hist = model.fit(train_generator, steps_per_epoch = 4, epochs = 10, validation_data = test_generator)"
      ],
      "execution_count": null,
      "outputs": [
        {
          "output_type": "stream",
          "text": [
            "Epoch 1/10\n",
            "4/4 [==============================] - 63s 3s/step - loss: 0.8730 - accuracy: 0.4550 - val_loss: 0.6988 - val_accuracy: 0.5000\n",
            "Epoch 2/10\n",
            "4/4 [==============================] - 14s 4s/step - loss: 0.5915 - accuracy: 0.6860 - val_loss: 0.5817 - val_accuracy: 0.6500\n",
            "Epoch 3/10\n",
            "4/4 [==============================] - 10s 3s/step - loss: 0.4308 - accuracy: 0.8233 - val_loss: 0.5323 - val_accuracy: 0.7000\n",
            "Epoch 4/10\n",
            "4/4 [==============================] - 8s 3s/step - loss: 0.3505 - accuracy: 0.9488 - val_loss: 0.4482 - val_accuracy: 0.8250\n",
            "Epoch 5/10\n",
            "4/4 [==============================] - 9s 2s/step - loss: 0.2525 - accuracy: 0.8919 - val_loss: 0.4463 - val_accuracy: 0.7500\n",
            "Epoch 6/10\n",
            "4/4 [==============================] - 8s 3s/step - loss: 0.2963 - accuracy: 0.8593 - val_loss: 0.3650 - val_accuracy: 0.9250\n",
            "Epoch 7/10\n",
            "4/4 [==============================] - 8s 2s/step - loss: 0.1380 - accuracy: 0.9886 - val_loss: 0.4272 - val_accuracy: 0.7250\n",
            "Epoch 8/10\n",
            "4/4 [==============================] - 8s 2s/step - loss: 0.1451 - accuracy: 0.9592 - val_loss: 0.4000 - val_accuracy: 0.7750\n",
            "Epoch 9/10\n",
            "4/4 [==============================] - 8s 3s/step - loss: 0.0896 - accuracy: 0.9830 - val_loss: 0.3058 - val_accuracy: 0.9000\n",
            "Epoch 10/10\n",
            "4/4 [==============================] - 8s 2s/step - loss: 0.1108 - accuracy: 0.9777 - val_loss: 0.2852 - val_accuracy: 0.9250\n",
            "CPU times: user 59.5 s, sys: 19.9 s, total: 1min 19s\n",
            "Wall time: 2min 24s\n"
          ],
          "name": "stdout"
        }
      ]
    },
    {
      "cell_type": "code",
      "metadata": {
        "id": "-jmRlLoFC-yL",
        "colab": {
          "base_uri": "https://localhost:8080/"
        },
        "outputId": "22ecc27b-2571-478c-dbdb-6dda0b499140"
      },
      "source": [
        "loss, accuracy = model.evaluate(test_generator)\n",
        "loss, accuracy"
      ],
      "execution_count": null,
      "outputs": [
        {
          "output_type": "stream",
          "text": [
            "1/1 [==============================] - 2s 2s/step - loss: 0.2852 - accuracy: 0.9250\n"
          ],
          "name": "stdout"
        },
        {
          "output_type": "execute_result",
          "data": {
            "text/plain": [
              "(0.2852323055267334, 0.925000011920929)"
            ]
          },
          "metadata": {
            "tags": []
          },
          "execution_count": 10
        }
      ]
    },
    {
      "cell_type": "code",
      "metadata": {
        "id": "KJM1ucreC-yM",
        "colab": {
          "base_uri": "https://localhost:8080/",
          "height": 791
        },
        "outputId": "e8627bae-a459-48a5-e3f9-156f1a4c9022"
      },
      "source": [
        "import matplotlib.pyplot as plt\n",
        "\n",
        "epochs = range(1, len(Hist.history['loss']) + 1)\n",
        "\n",
        "plt.figure(figsize = (9, 6))\n",
        "plt.plot(epochs, Hist.history['loss'])\n",
        "plt.plot(epochs, Hist.history['val_loss'])\n",
        "\n",
        "plt.title('Training & Validation Loss')\n",
        "plt.xlabel('Epochs')\n",
        "plt.ylabel('Loss')\n",
        "plt.legend(['Training Loss', 'Validation Loss'])\n",
        "plt.grid()\n",
        "plt.show()\n",
        "\n",
        "plt.figure(figsize = (9, 6))\n",
        "plt.plot(epochs, Hist.history['accuracy'])\n",
        "plt.plot(epochs, Hist.history['val_accuracy'])\n",
        "\n",
        "plt.title('Training & Validation accuracy')\n",
        "plt.xlabel('Epochs')\n",
        "plt.ylabel('accuracy')\n",
        "plt.legend(['Training accuracy', 'Validation accuracy'])\n",
        "plt.grid()\n",
        "plt.show()"
      ],
      "execution_count": null,
      "outputs": [
        {
          "output_type": "display_data",
          "data": {
            "image/png": "[encoded data removed]",
            "text/plain": [
              "<Figure size 648x432 with 1 Axes>"
            ]
          },
          "metadata": {
            "tags": [],
            "needs_background": "light"
          }
        },
        {
          "output_type": "display_data",
          "data": {
            "image/png": "[encoded data removed]",
            "text/plain": [
              "<Figure size 648x432 with 1 Axes>"
            ]
          },
          "metadata": {
            "tags": [],
            "needs_background": "light"
          }
        }
      ]
    },
    {
      "cell_type": "code",
      "metadata": {
        "id": "w7cTI2D5tih2"
      },
      "source": [
        "from sklearn.metrics import confusion_matrix\n",
        "import numpy as np\n",
        "\n",
        "test_step = test_generator.samples // test_generator.batch_size\n",
        "\n",
        "predictions = model.predict_generator(test_generator)\n",
        "predicted_class = np.argmax(predictions, axis=1)\n",
        "\n",
        "# true_class = test_generator.classes\n",
        "# class_labels = list(test_generator.class_indices.keys())\n",
        "\n",
        "# conf = confusion_matrix(true_class, predicted_class)\n",
        "\n",
        "# print(conf)\n",
        "\n",
        "print(len(predicted_class))\n",
        "print(predicted_class)\n",
        "print(predictions[:5])"
      ],
      "execution_count": null,
      "outputs": []
    },
    {
      "cell_type": "code",
      "metadata": {
        "id": "83nrw-1EC8Ma",
        "colab": {
          "base_uri": "https://localhost:8080/"
        },
        "outputId": "9a6d9a0e-7230-4b45-e321-dc85992a7622"
      },
      "source": [
        "from sklearn.metrics import accuracy_score, confusion_matrix\n",
        "\n",
        "for t in test_generator:\n",
        "  # (images, labels)\n",
        "  # ((20,640,640,3) / 20)\n",
        "  pred = [round(p[0]) for p in model.predict(t[0])]\n",
        "  print(accuracy_score(t[1],pred))\n",
        "  print(confusion_matrix(t[1], pred))\n",
        "  break"
      ],
      "execution_count": null,
      "outputs": [
        {
          "output_type": "stream",
          "text": [
            "0.925\n",
            "[[19  1]\n",
            " [ 2 18]]\n"
          ],
          "name": "stdout"
        }
      ]
    },
    {
      "cell_type": "code",
      "metadata": {
        "id": "X7oTCKOETDlj",
        "colab": {
          "base_uri": "https://localhost:8080/"
        },
        "outputId": "8045ada5-7f04-4438-d325-f9d328a8e98b"
      },
      "source": [
        "import pathlib\n",
        "from glob import glob\n",
        "\n",
        "data_root = pathlib.Path(glob('/content/0408_data/data/*/')[1])\n",
        "print(data_root)\n",
        "# label = ['0','1']"
      ],
      "execution_count": null,
      "outputs": [
        {
          "output_type": "stream",
          "text": [
            "/content/0408_data/data/test\n"
          ],
          "name": "stdout"
        }
      ]
    },
    {
      "cell_type": "code",
      "metadata": {
        "id": "3oAyE3xSTDlk",
        "colab": {
          "base_uri": "https://localhost:8080/"
        },
        "outputId": "c2cd95a0-c642-4922-fede-3dfb36847dd6"
      },
      "source": [
        "!ls /content/0408_data/data"
      ],
      "execution_count": null,
      "outputs": [
        {
          "output_type": "stream",
          "text": [
            "test  train\n"
          ],
          "name": "stdout"
        }
      ]
    },
    {
      "cell_type": "code",
      "metadata": {
        "id": "0VGqFK0DV1fl",
        "colab": {
          "base_uri": "https://localhost:8080/"
        },
        "outputId": "1274f9f7-5c13-41ec-d428-1697589d72b9"
      },
      "source": [
        "import random\n",
        "\n",
        "all_image_paths = list(data_root.glob('*/*'))\n",
        "all_image_paths = [str(path) for path in all_image_paths]\n",
        "\n",
        "image_count = len(all_image_paths)\n",
        "print('image_count:', image_count)"
      ],
      "execution_count": null,
      "outputs": [
        {
          "output_type": "stream",
          "text": [
            "image_count: 40\n"
          ],
          "name": "stdout"
        }
      ]
    },
    {
      "cell_type": "code",
      "metadata": {
        "id": "OQ-komn-S-d0"
      },
      "source": [
        "import PIL.Image as Image\n",
        "import matplotlib.pyplot as plt\n",
        "import random\n",
        "import numpy as np\n",
        "import cv2\n",
        "\n",
        "all_image_paths = list(data_root.glob('*/*'))\n",
        "all_image_paths = [str(path) for path in all_image_paths]\n",
        "print(all_image_paths)\n",
        "print(all_image_paths[0].split('/')[-2])\n",
        "random.shuffle(all_image_paths)\n",
        "\n",
        "image_count = len(all_image_paths)\n",
        "print('image_count:', image_count)\n",
        "\n",
        "def softmax(x):\n",
        "  m = np.max(x)\n",
        "  sm = np.exp(x-m)/np.sum(np.exp(x-m))\n",
        "  return sm\n",
        "\n",
        "plt.figure(figsize=(12,12))\n",
        "for n in range(12):\n",
        "  image_path = random.choice(all_image_paths)\n",
        "  plt.subplot(4,3, n+1)\n",
        "  plt.imshow(plt.imread(image_path))\n",
        "  \n",
        "  img = cv2.imread(image_path)\n",
        "  #img= cv2.resize(img, dsize=(640,640))\n",
        "  img = img/255.0\n",
        "  img = np.expand_dims(img, axis=0)\n",
        "\n",
        "  logits = model.predict(img)[0]\n",
        "  prediction = softmax(logits)\n",
        "  #print(prediction)\n",
        "  a = prediction.tolist()\n",
        "  a = sorted(a, reverse=True)\n",
        "  # top = prediction.argsort()[::-1]\n",
        "  # labels = [label[index] for index in top]\n",
        "  # idx = int(image_path.split('/')[-2])\n",
        "  plt.title(a)\n",
        "  plt.axis('off')\n",
        "plt.show()"
      ],
      "execution_count": null,
      "outputs": []
    },
    {
      "cell_type": "code",
      "metadata": {
        "id": "62JiH69AtUti"
      },
      "source": [
        "import cv2\n",
        "plt.figure(figsize=(32,32))\n",
        "def softmax(x):\n",
        "  m = np.max(x)\n",
        "  sm = np.exp(x-m)/ np.sum(np.exp(x-m))\n",
        "  return sm\n",
        "# predictions = model.predict_generator(test_generator)\n",
        "for n in range(6):\n",
        "  image_path = random.choice(all_image_paths)  # al_image_paths = test data 40개\n",
        "\n",
        "  plt.subplot(6,2, n*2+1)\n",
        "  plt.imshow(plt.imread(image_path))\n",
        "  idx = int(image_path.split('/')[-2])\n",
        "\n",
        "\n",
        "  plt.subplot(6,2,n*2+2)\n",
        "  img = cv2.imread(image_path)\n",
        "  img = cv2.resize(img, dsize=(640,640))\n",
        "  img = img/255.0\n",
        "  img = np.expand_dims(img, axis=0)\n",
        "\n",
        "  logits = model.predict(img)[0]\n",
        "  # prediction = softmax(logits)\n",
        "\n",
        "  # top = prediction.argsort()[::-1]\n",
        "  # labels = [label[index] for index in top]\n",
        "\n",
        "  # plt.barh(range(2), prediction[top][::-1]*100)\n",
        "  # plt.yticks(range(2), labels[::-1])\n",
        "  plt.title(str(idx), ':::', logits)\n",
        "  plt.axis('off')"
      ],
      "execution_count": null,
      "outputs": []
    },
    {
      "cell_type": "code",
      "metadata": {
        "id": "1qOR8yP-l9dx"
      },
      "source": [
        "import cv2\n",
        "\n",
        "plt.figure(figsize=((16, 25)))\n",
        "\n",
        "def softmax(x):\n",
        "    m = np.max(x)\n",
        "    sm = np.exp(x - m)/np.sum(np.exp(x - m))\n",
        "    return sm\n",
        "\n",
        "for n in range(15):\n",
        "    #랜덤 이미지 경로 추출\n",
        "    image_path = random.choice(all_image_paths)\n",
        "\n",
        "    #이미지 크기 변경 및 정규화\n",
        "    img = cv2.imread(image_path)\n",
        "    # img = cv2.resize(img, dsize=(224, 224))\n",
        "    img = img / 255.0  # 3차원 행렬(224, 224, 3)\n",
        "    img = np.expand_dims(img, axis=0)  # 4차원 (1, 224, 224, 3)\n",
        "\n",
        "    # 이미지 분류\n",
        "    logits = model.predict(img)[0]\n",
        "    # prediction = softmax(logits)\n",
        "    # arr = prediction.astype(np.int)\n",
        "    # arr = prediction[0]\n",
        "\n",
        "    #이미지 출력\n",
        "    plt.subplot(5,3, n+1)\n",
        "    plt.imshow(plt.imread(image_path))\n",
        "    idx = image_path.split('/')[-2]\n",
        "    plt.title('label: ' + str(idx))\n",
        "    plt.xlabel(str(logits))\n",
        "    #plt.xlabel(confusion_matrix(img, model.predict))\n",
        "    # plt.xlabel(arr)\n",
        "\n"
      ],
      "execution_count": null,
      "outputs": []
    },
    {
      "cell_type": "code",
      "metadata": {
        "id": "ByOHBhaPE9Bb"
      },
      "source": [
        ""
      ],
      "execution_count": null,
      "outputs": []
    }
  ]
}