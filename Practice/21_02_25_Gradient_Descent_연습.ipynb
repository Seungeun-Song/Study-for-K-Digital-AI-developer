{
  "nbformat": 4,
  "nbformat_minor": 0,
  "metadata": {
    "colab": {
      "name": "Gradient_Descent.ipynb",
      "provenance": [],
      "collapsed_sections": []
    },
    "kernelspec": {
      "name": "python3",
      "display_name": "Python 3"
    }
  },
  "cells": [
    {
      "cell_type": "code",
      "metadata": {
        "id": "eb4v9fqcG1H2"
      },
      "source": [
        "import numpy as np"
      ],
      "execution_count": null,
      "outputs": []
    },
    {
      "cell_type": "code",
      "metadata": {
        "id": "N2ZxDGiFGjJo"
      },
      "source": [
        "def Machine(x, w, b):\r\n",
        "  y_hat = (w * x) + b\r\n",
        "  return y_hat"
      ],
      "execution_count": null,
      "outputs": []
    },
    {
      "cell_type": "code",
      "metadata": {
        "id": "gp4MYvvUG50c"
      },
      "source": [
        "# 잘 돌아가는지 보기 위한\r\n",
        "x =np.array([1,3,5,7,9])\r\n",
        "# 파라메터를 초기화 시키는 것 w,b\r\n",
        "w = 2\r\n",
        "b = 1"
      ],
      "execution_count": null,
      "outputs": []
    },
    {
      "cell_type": "code",
      "metadata": {
        "colab": {
          "base_uri": "https://localhost:8080/"
        },
        "id": "CGuUcl7mG-oU",
        "outputId": "06778a2a-2775-4cfd-c7ca-2ec9694a864e"
      },
      "source": [
        "Machine(x,w,b)"
      ],
      "execution_count": null,
      "outputs": [
        {
          "output_type": "execute_result",
          "data": {
            "text/plain": [
              "array([ 3,  7, 11, 15, 19])"
            ]
          },
          "metadata": {
            "tags": []
          },
          "execution_count": 6
        }
      ]
    },
    {
      "cell_type": "code",
      "metadata": {
        "id": "f1w0PrPhHFKk"
      },
      "source": [
        "# w,b의 (편)미분값 계산 r.dw, r.db(참조, MSE)\r\n",
        "def Gradient(x, y, w, b):\r\n",
        "  y_hat = Machine(x,w,b)\r\n",
        "  # w를 기준으로 편미분/ w에 대한 일차항\r\n",
        "  dw = np.mean((y-y_hat) *(-2*x))\r\n",
        "  db = np.mean((y-y_hat)*(-2))\r\n",
        "\r\n",
        "  return dw, db"
      ],
      "execution_count": null,
      "outputs": []
    },
    {
      "cell_type": "code",
      "metadata": {
        "id": "DLqIPaIBHcd9"
      },
      "source": [
        "y = np.array([2,4,6,8,10])\r\n",
        "dw, db=Gradient(x,y,w,b)"
      ],
      "execution_count": null,
      "outputs": []
    },
    {
      "cell_type": "code",
      "metadata": {
        "colab": {
          "base_uri": "https://localhost:8080/"
        },
        "id": "sUgzv3FzH2QE",
        "outputId": "cc873bb6-5892-43b4-8278-5576fe86603e"
      },
      "source": [
        "# w - 66 = -64 값이 너무 커지는 느낌. 평균을 냈음에도 이동거리가 너무 멀어.\r\n",
        "print('dw is', dw)\r\n",
        "print('db is', db)"
      ],
      "execution_count": null,
      "outputs": [
        {
          "output_type": "stream",
          "text": [
            "dw is 66.0\n",
            "db is 10.0\n"
          ],
          "name": "stdout"
        }
      ]
    },
    {
      "cell_type": "code",
      "metadata": {
        "id": "uhEx5SvnH-ss"
      },
      "source": [
        "# learning = parameter update = Gradient Descent\r\n",
        "# step(0에서 1사이의 비율로)으로 이동거리 축소\r\n",
        "def Learning(x,y,w,b,step):\r\n",
        "  dw, db = Gradient(x,y,w,b)\r\n",
        "\r\n",
        "  uw = w - step *dw\r\n",
        "  ub = b - step *db\r\n",
        "\r\n",
        "  return uw, ub"
      ],
      "execution_count": null,
      "outputs": []
    },
    {
      "cell_type": "code",
      "metadata": {
        "id": "DHMs3eChIaos"
      },
      "source": [
        "step = 0.05\r\n",
        "uw, ub = Learning(x,y,w,b,step)"
      ],
      "execution_count": null,
      "outputs": []
    },
    {
      "cell_type": "code",
      "metadata": {
        "colab": {
          "base_uri": "https://localhost:8080/"
        },
        "id": "zA8r70HDInzU",
        "outputId": "f01d2fa7-37ac-4e20-cbbf-96a419ead329"
      },
      "source": [
        "# -64가 -1.3으로 update\r\n",
        "\r\n",
        "print('Updated_w is', '%.3f'%uw)\r\n",
        "print('Updated_b is','%.3f'%ub)"
      ],
      "execution_count": null,
      "outputs": [
        {
          "output_type": "stream",
          "text": [
            "Updated_w is -1.300\n",
            "Updated_b is 0.500\n"
          ],
          "name": "stdout"
        }
      ]
    },
    {
      "cell_type": "code",
      "metadata": {
        "id": "cn6koOEAIyU0"
      },
      "source": [
        "import pandas as pd\r\n",
        "import matplotlib.pyplot as plt"
      ],
      "execution_count": null,
      "outputs": []
    },
    {
      "cell_type": "code",
      "metadata": {
        "colab": {
          "base_uri": "https://localhost:8080/"
        },
        "id": "21FfnOQLJI_d",
        "outputId": "2795b36b-97ed-42dd-8f7f-ffa3d4c01d23"
      },
      "source": [
        "!ls -l"
      ],
      "execution_count": null,
      "outputs": [
        {
          "output_type": "stream",
          "text": [
            "total 132\n",
            "drwxr-xr-x 1 root root   4096 Feb 24 17:49 sample_data\n",
            "-rw-r--r-- 1 root root 128698 Feb 25 07:32 testData.csv\n"
          ],
          "name": "stdout"
        }
      ]
    },
    {
      "cell_type": "code",
      "metadata": {
        "id": "ncfWM6kcJQrz"
      },
      "source": [
        "DATA = pd.read_csv('testData.csv')"
      ],
      "execution_count": null,
      "outputs": []
    },
    {
      "cell_type": "code",
      "metadata": {
        "colab": {
          "base_uri": "https://localhost:8080/"
        },
        "id": "Hi96tciwJKc8",
        "outputId": "e9c5a494-3745-41fd-b7a3-6f5696fe14a3"
      },
      "source": [
        "# input은 x, output은 y\r\n",
        "DATA.info()"
      ],
      "execution_count": null,
      "outputs": [
        {
          "output_type": "stream",
          "text": [
            "<class 'pandas.core.frame.DataFrame'>\n",
            "RangeIndex: 5000 entries, 0 to 4999\n",
            "Data columns (total 2 columns):\n",
            " #   Column   Non-Null Count  Dtype  \n",
            "---  ------   --------------  -----  \n",
            " 0   inputs   5000 non-null   float64\n",
            " 1   outputs  5000 non-null   float64\n",
            "dtypes: float64(2)\n",
            "memory usage: 78.2 KB\n"
          ],
          "name": "stdout"
        }
      ]
    },
    {
      "cell_type": "code",
      "metadata": {
        "colab": {
          "base_uri": "https://localhost:8080/",
          "height": 199
        },
        "id": "DOuZUbWeJMSc",
        "outputId": "d8599831-a6e0-4a42-c9d0-914bda3c4739"
      },
      "source": [
        "DATA.head()"
      ],
      "execution_count": null,
      "outputs": [
        {
          "output_type": "execute_result",
          "data": {
            "text/html": [
              "<div>\n",
              "<style scoped>\n",
              "    .dataframe tbody tr th:only-of-type {\n",
              "        vertical-align: middle;\n",
              "    }\n",
              "\n",
              "    .dataframe tbody tr th {\n",
              "        vertical-align: top;\n",
              "    }\n",
              "\n",
              "    .dataframe thead th {\n",
              "        text-align: right;\n",
              "    }\n",
              "</style>\n",
              "<table border=\"1\" class=\"dataframe\">\n",
              "  <thead>\n",
              "    <tr style=\"text-align: right;\">\n",
              "      <th></th>\n",
              "      <th>inputs</th>\n",
              "      <th>outputs</th>\n",
              "    </tr>\n",
              "  </thead>\n",
              "  <tbody>\n",
              "    <tr>\n",
              "      <th>0</th>\n",
              "      <td>0.2362</td>\n",
              "      <td>0.162367</td>\n",
              "    </tr>\n",
              "    <tr>\n",
              "      <th>1</th>\n",
              "      <td>0.9415</td>\n",
              "      <td>0.479356</td>\n",
              "    </tr>\n",
              "    <tr>\n",
              "      <th>2</th>\n",
              "      <td>0.3495</td>\n",
              "      <td>0.095733</td>\n",
              "    </tr>\n",
              "    <tr>\n",
              "      <th>3</th>\n",
              "      <td>0.3200</td>\n",
              "      <td>-0.111783</td>\n",
              "    </tr>\n",
              "    <tr>\n",
              "      <th>4</th>\n",
              "      <td>0.8335</td>\n",
              "      <td>0.386012</td>\n",
              "    </tr>\n",
              "  </tbody>\n",
              "</table>\n",
              "</div>"
            ],
            "text/plain": [
              "   inputs   outputs\n",
              "0  0.2362  0.162367\n",
              "1  0.9415  0.479356\n",
              "2  0.3495  0.095733\n",
              "3  0.3200 -0.111783\n",
              "4  0.8335  0.386012"
            ]
          },
          "metadata": {
            "tags": []
          },
          "execution_count": 27
        }
      ]
    },
    {
      "cell_type": "code",
      "metadata": {
        "colab": {
          "base_uri": "https://localhost:8080/",
          "height": 265
        },
        "id": "wK6HDJryJWfu",
        "outputId": "98bd2d43-c490-409b-fc1b-7107e02b4b03"
      },
      "source": [
        "plt.scatter(DATA.inputs, DATA.outputs, s = 0.5)\r\n",
        "plt.show()"
      ],
      "execution_count": null,
      "outputs": [
        {
          "output_type": "display_data",
          "data": {
            "image/png": "[encoded data removed]",
            "text/plain": [
              "<Figure size 432x288 with 1 Axes>"
            ]
          },
          "metadata": {
            "tags": [],
            "needs_background": "light"
          }
        }
      ]
    },
    {
      "cell_type": "code",
      "metadata": {
        "id": "H8HzHxgtJceF"
      },
      "source": [
        "# 다시 초기화\r\n",
        "w = 2\r\n",
        "b = 3\r\n",
        "# 학습률을 얼마로 정할지도 중요. 알 수 있는 방법은 해보는 것. 0.05(5%), 0.4(40%), 0.01 등.. 여러번 실행\r\n",
        "# 그냥 알 수는 없다. 학습자가 지정해서 해봐야 하는 것 = hyper parameter tuning\r\n",
        "step = 0.05"
      ],
      "execution_count": null,
      "outputs": []
    },
    {
      "cell_type": "code",
      "metadata": {
        "id": "aB5ZjbHTJj7s"
      },
      "source": [
        "# gredient를 1500번 학습, 1500번 w,b가 update\r\n",
        "for i in range(0, 1500):\r\n",
        "  uw, ub = Learning(DATA.inputs, DATA.outputs, w, b, step)\r\n",
        "  w = uw\r\n",
        "  b = ub"
      ],
      "execution_count": null,
      "outputs": []
    },
    {
      "cell_type": "code",
      "metadata": {
        "colab": {
          "base_uri": "https://localhost:8080/"
        },
        "id": "vSIZILpIJtlU",
        "outputId": "3f72c155-7c8e-46f4-e2d4-f67961866c49"
      },
      "source": [
        "print('Learned_w is ', '%.3f'%w)\r\n",
        "print('Learned_b is', '%.3f' %b)"
      ],
      "execution_count": null,
      "outputs": [
        {
          "output_type": "stream",
          "text": [
            "Learned_w is  0.505\n",
            "Learned_b is -0.170\n"
          ],
          "name": "stdout"
        }
      ]
    },
    {
      "cell_type": "code",
      "metadata": {
        "colab": {
          "base_uri": "https://localhost:8080/",
          "height": 265
        },
        "id": "Pt7PvaOUJ2iL",
        "outputId": "1740526a-b620-4754-cda9-26e710f49405"
      },
      "source": [
        "# -r은 감마(학습률). 경사하강식에 있는\r\n",
        "# 만약에 b의 최소값에 도달했다면 기울기는 0, 즉 db=0, b=b가 바뀌지 않으면 더이상 학습이 되지 않고.\r\n",
        "# 그러나 b만 찾는 게 아니라 w도 찾기 때문에 두개의 최적화를 찾는\r\n",
        "X = np.linspace(0,1,100)\r\n",
        "Y = (w * X) + b\r\n",
        "\r\n",
        "plt.scatter(DATA.inputs, DATA.outputs, s=0.3)\r\n",
        "plt.plot(X, Y, '-r', linewidth = 1.5) # '-r'은 레드\r\n",
        "plt.show()"
      ],
      "execution_count": null,
      "outputs": [
        {
          "output_type": "display_data",
          "data": {
            "image/png": "[encoded data removed]",
            "text/plain": [
              "<Figure size 432x288 with 1 Axes>"
            ]
          },
          "metadata": {
            "tags": [],
            "needs_background": "light"
          }
        }
      ]
    },
    {
      "cell_type": "code",
      "metadata": {
        "id": "lEWaQMCQJ8vj"
      },
      "source": [
        "def Gradient(x,y,w,b):\r\n",
        "  y_hat = Machine(x,w,b)\r\n",
        "\r\n",
        "  dw = np.mean((y-y_hat)*(-2*x))\r\n",
        "  db = np.mean((y-y_hat)*(-2))\r\n",
        "  Loss = np.mean((y-y_hat)**2)\r\n",
        "\r\n",
        "  return dw, db, Loss"
      ],
      "execution_count": null,
      "outputs": []
    },
    {
      "cell_type": "code",
      "metadata": {
        "id": "az02RPrLKH5N"
      },
      "source": [
        "# x축 = 학습횟수  y축=MSN\r\n",
        "def Learning(x,y,w,b):\r\n",
        " dw, db, Loss = Gradient(x,y,w,b)\r\n",
        "\r\n",
        " uw = w-step*dw\r\n",
        " ub=b-step*db\r\n",
        "\r\n",
        " Loss = Loss\r\n",
        "\r\n",
        " return uw, ub, Loss"
      ],
      "execution_count": null,
      "outputs": []
    },
    {
      "cell_type": "code",
      "metadata": {
        "id": "guc1RHmSOvvT"
      },
      "source": [
        "w = 2\r\n",
        "b = 3\r\n",
        "step = 0.001\r\n",
        "Error = []"
      ],
      "execution_count": null,
      "outputs": []
    },
    {
      "cell_type": "code",
      "metadata": {
        "id": "xq_eSLO8SxMl"
      },
      "source": [
        "for i in range(0, 1500):\r\n",
        "  uw, ub, Loss = Learning(DATA.inputs, DATA.outputs, w, b, step)\r\n",
        "\r\n",
        "  w = uw\r\n",
        "  b = ub\r\n",
        "  # 1500번 학습하면서 생기는 error를 append(더하는 것)\r\n",
        "  Error.append(Loss)"
      ],
      "execution_count": null,
      "outputs": []
    },
    {
      "cell_type": "code",
      "metadata": {
        "id": "TWmrvjn0yDwU"
      },
      "source": [
        "Error[0:10]"
      ],
      "execution_count": null,
      "outputs": []
    },
    {
      "cell_type": "code",
      "metadata": {
        "id": "Wqct0T67z5xC"
      },
      "source": [
        "plt.plot(Error)\r\n",
        "plt.show()"
      ],
      "execution_count": null,
      "outputs": []
    },
    {
      "cell_type": "code",
      "metadata": {
        "id": "gK5G0yiNyDmi"
      },
      "source": [
        "# 뒤로갈수록 오차의 변화가 없어보이니까(오차가 줄어들지 않는 것처럼 보이는) 오차에 대한 1차 그래프"
      ],
      "execution_count": null,
      "outputs": []
    },
    {
      "cell_type": "code",
      "metadata": {
        "id": "w9Uhf2yvyDjj"
      },
      "source": [
        "# 50번까지만 그림을 그려보기(범위의 크기(y값)만 다르고 계속 오차는 떨어져)\r\n",
        "plt.plot(Error[0:50])\r\n",
        "plt.show()"
      ],
      "execution_count": null,
      "outputs": []
    },
    {
      "cell_type": "code",
      "metadata": {
        "id": "6n-PLDMWyUZt"
      },
      "source": [
        "# 안 줄어드는 것처럼 보이는 뒤쪽 (1450:1500)번까지 그림을 그려보기(범위의 크기(y값)만 다르고 계속 오차는 떨어져)\r\n",
        "plt.plot(Error[1450:1500], '.')\r\n",
        "plt.show()"
      ],
      "execution_count": null,
      "outputs": []
    }
  ]
}