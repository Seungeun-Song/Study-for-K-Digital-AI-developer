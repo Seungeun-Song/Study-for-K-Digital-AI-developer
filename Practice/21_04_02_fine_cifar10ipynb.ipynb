{
  "nbformat": 4,
  "nbformat_minor": 0,
  "metadata": {
    "colab": {
      "name": "Untitled0.ipynb",
      "provenance": [],
      "collapsed_sections": []
    },
    "kernelspec": {
      "name": "python3",
      "display_name": "Python 3"
    },
    "language_info": {
      "name": "python"
    }
  },
  "cells": [
    {
      "cell_type": "code",
      "metadata": {
        "id": "y-txY3RA1Jt0"
      },
      "source": [
        ""
      ],
      "execution_count": null,
      "outputs": []
    },
    {
      "cell_type": "code",
      "metadata": {
        "id": "1etUpmWoh3xe",
        "colab": {
          "base_uri": "https://localhost:8080/"
        },
        "outputId": "9c09002a-a4cf-4a33-fa63-f5239b246424"
      },
      "source": [
        "from keras.datasets import cifar10\n",
        "(X_train, y_train), (X_test, y_test) = cifar10.load_data()"
      ],
      "execution_count": 1,
      "outputs": [
        {
          "output_type": "stream",
          "text": [
            "Downloading data from https://www.cs.toronto.edu/~kriz/cifar-10-python.tar.gz\n",
            "170500096/170498071 [==============================] - 11s 0us/step\n"
          ],
          "name": "stdout"
        }
      ]
    },
    {
      "cell_type": "code",
      "metadata": {
        "id": "-mwxvdcNku38",
        "colab": {
          "base_uri": "https://localhost:8080/"
        },
        "outputId": "292ee9ce-d26e-4a34-88ae-9e4d899e50dc"
      },
      "source": [
        "from keras.utils import to_categorical\n",
        "\n",
        "y_train = to_categorical(y_train)\n",
        "y_test = to_categorical(y_test)\n",
        "print(y_train.shape,  y_test.shape)"
      ],
      "execution_count": 2,
      "outputs": [
        {
          "output_type": "stream",
          "text": [
            "(50000, 10) (10000, 10)\n"
          ],
          "name": "stdout"
        }
      ]
    },
    {
      "cell_type": "code",
      "metadata": {
        "id": "uF7cSyVFh5_9",
        "colab": {
          "base_uri": "https://localhost:8080/"
        },
        "outputId": "9f8d8369-8bbd-423f-ef8a-58ad832f3224"
      },
      "source": [
        "from sklearn.model_selection import train_test_split\n",
        "\n",
        "X_train, X_valid, y_train, y_valid = train_test_split(X_train, y_train, test_size=0.3, random_state=2045)\n",
        "\n",
        "print(X_train.shape, y_train.shape, '/', X_valid.shape, y_valid.shape, '/', X_test.shape, y_test.shape)"
      ],
      "execution_count": 3,
      "outputs": [
        {
          "output_type": "stream",
          "text": [
            "(35000, 32, 32, 3) (35000, 10) / (15000, 32, 32, 3) (15000, 10) / (10000, 32, 32, 3) (10000, 10)\n"
          ],
          "name": "stdout"
        }
      ]
    },
    {
      "cell_type": "code",
      "metadata": {
        "id": "Vau1rY5DLt_3",
        "colab": {
          "base_uri": "https://localhost:8080/"
        },
        "outputId": "5ceb2340-c5b1-4208-e8ad-efc9a30241fd"
      },
      "source": [
        "from keras.applications import VGG16\n",
        "\n",
        "conv_base = VGG16(weights='imagenet', include_top = False, input_shape=(32,32, 3))   ######### input_shape #########\n",
        "conv_base.summary()"
      ],
      "execution_count": 4,
      "outputs": [
        {
          "output_type": "stream",
          "text": [
            "Downloading data from https://storage.googleapis.com/tensorflow/keras-applications/vgg16/vgg16_weights_tf_dim_ordering_tf_kernels_notop.h5\n",
            "58892288/58889256 [==============================] - 1s 0us/step\n",
            "Model: \"vgg16\"\n",
            "_________________________________________________________________\n",
            "Layer (type)                 Output Shape              Param #   \n",
            "=================================================================\n",
            "input_1 (InputLayer)         [(None, 32, 32, 3)]       0         \n",
            "_________________________________________________________________\n",
            "block1_conv1 (Conv2D)        (None, 32, 32, 64)        1792      \n",
            "_________________________________________________________________\n",
            "block1_conv2 (Conv2D)        (None, 32, 32, 64)        36928     \n",
            "_________________________________________________________________\n",
            "block1_pool (MaxPooling2D)   (None, 16, 16, 64)        0         \n",
            "_________________________________________________________________\n",
            "block2_conv1 (Conv2D)        (None, 16, 16, 128)       73856     \n",
            "_________________________________________________________________\n",
            "block2_conv2 (Conv2D)        (None, 16, 16, 128)       147584    \n",
            "_________________________________________________________________\n",
            "block2_pool (MaxPooling2D)   (None, 8, 8, 128)         0         \n",
            "_________________________________________________________________\n",
            "block3_conv1 (Conv2D)        (None, 8, 8, 256)         295168    \n",
            "_________________________________________________________________\n",
            "block3_conv2 (Conv2D)        (None, 8, 8, 256)         590080    \n",
            "_________________________________________________________________\n",
            "block3_conv3 (Conv2D)        (None, 8, 8, 256)         590080    \n",
            "_________________________________________________________________\n",
            "block3_pool (MaxPooling2D)   (None, 4, 4, 256)         0         \n",
            "_________________________________________________________________\n",
            "block4_conv1 (Conv2D)        (None, 4, 4, 512)         1180160   \n",
            "_________________________________________________________________\n",
            "block4_conv2 (Conv2D)        (None, 4, 4, 512)         2359808   \n",
            "_________________________________________________________________\n",
            "block4_conv3 (Conv2D)        (None, 4, 4, 512)         2359808   \n",
            "_________________________________________________________________\n",
            "block4_pool (MaxPooling2D)   (None, 2, 2, 512)         0         \n",
            "_________________________________________________________________\n",
            "block5_conv1 (Conv2D)        (None, 2, 2, 512)         2359808   \n",
            "_________________________________________________________________\n",
            "block5_conv2 (Conv2D)        (None, 2, 2, 512)         2359808   \n",
            "_________________________________________________________________\n",
            "block5_conv3 (Conv2D)        (None, 2, 2, 512)         2359808   \n",
            "_________________________________________________________________\n",
            "block5_pool (MaxPooling2D)   (None, 1, 1, 512)         0         \n",
            "=================================================================\n",
            "Total params: 14,714,688\n",
            "Trainable params: 14,714,688\n",
            "Non-trainable params: 0\n",
            "_________________________________________________________________\n"
          ],
          "name": "stdout"
        }
      ]
    },
    {
      "cell_type": "code",
      "metadata": {
        "id": "BA1VVLoW1LR2"
      },
      "source": [
        "X_train = X_train.astype(float)/255\n",
        "X_valid = X_valid.astype(float)/255\n",
        "X_test = X_test.astype(float)/255"
      ],
      "execution_count": 5,
      "outputs": []
    },
    {
      "cell_type": "code",
      "metadata": {
        "id": "DQhtKfnE2CjR"
      },
      "source": [
        "import numpy as np\n",
        "features = np.zeros(shape = (35000, 1,1,512))\n",
        "labels = np.zeros(shape = (35000, 10))\n",
        "\n",
        "features_batch = conv_base.predict(X_train)\n",
        "\n",
        "features_batch = features\n"
      ],
      "execution_count": null,
      "outputs": []
    },
    {
      "cell_type": "code",
      "metadata": {
        "colab": {
          "base_uri": "https://localhost:8080/"
        },
        "id": "AU5RYdED5ClV",
        "outputId": "69027b86-1acb-49ef-b16b-ccd6e08a5803"
      },
      "source": [
        "features_batch.shape"
      ],
      "execution_count": 8,
      "outputs": [
        {
          "output_type": "execute_result",
          "data": {
            "text/plain": [
              "(35000, 1, 1, 512)"
            ]
          },
          "metadata": {
            "tags": []
          },
          "execution_count": 8
        }
      ]
    },
    {
      "cell_type": "code",
      "metadata": {
        "id": "ZvLxRfgb2utQ"
      },
      "source": [
        "labels = y_train\n",
        "lables[:1]"
      ],
      "execution_count": null,
      "outputs": []
    },
    {
      "cell_type": "code",
      "metadata": {
        "id": "6G3SsyJp2nvm"
      },
      "source": [
        "def extract_features(x, y, sample_count):\n",
        "  features = np.zeros(shape =(sample_count, 1, 1, 512))\n",
        "  labels = np.zeros(shape =(sample_count, 10))\n",
        "\n",
        "  features_batch = conv_base.predict(x)\n",
        "  features_batch = features\n",
        "  labels = y\n",
        "  return features, labels"
      ],
      "execution_count": 9,
      "outputs": []
    },
    {
      "cell_type": "code",
      "metadata": {
        "colab": {
          "base_uri": "https://localhost:8080/"
        },
        "id": "RwjKG1UF5sVw",
        "outputId": "54f4bfc6-b9b1-4b6a-d287-2118bb238971"
      },
      "source": [
        "X_train, y_train = extract_features(X_train, y_train, 35000)\n",
        "X_valid, y_valid = extract_features(X_valid, y_valid, 15000)\n",
        "X_test, y_test = extract_features(X_test, y_test, 10000)\n",
        "\n",
        "print(X_train.shape, y_train.shape)\n",
        "print(X_valid.shape, y_valid.shape)\n",
        "print(X_test.shape, y_test.shape)"
      ],
      "execution_count": 10,
      "outputs": [
        {
          "output_type": "stream",
          "text": [
            "(35000, 1, 1, 512) (35000, 10)\n",
            "(15000, 1, 1, 512) (15000, 10)\n",
            "(10000, 1, 1, 512) (10000, 10)\n"
          ],
          "name": "stdout"
        }
      ]
    },
    {
      "cell_type": "code",
      "metadata": {
        "colab": {
          "base_uri": "https://localhost:8080/"
        },
        "id": "fpVAM7Ht5un1",
        "outputId": "e92fc411-a088-46b3-b625-59cf297b3ea5"
      },
      "source": [
        "X_train = np.reshape(X_train, (35000, 1*1*512))       ########## 데이터 크기 바꿔주기\n",
        "X_valid = np.reshape(X_valid, (15000, 1*1*512))\n",
        "X_test = np.reshape(X_test, (10000, 1*1*512))\n",
        "\n",
        "X_train.shape, X_valid.shape, X_test.shape"
      ],
      "execution_count": 11,
      "outputs": [
        {
          "output_type": "execute_result",
          "data": {
            "text/plain": [
              "((35000, 512), (15000, 512), (10000, 512))"
            ]
          },
          "metadata": {
            "tags": []
          },
          "execution_count": 11
        }
      ]
    },
    {
      "cell_type": "code",
      "metadata": {
        "colab": {
          "base_uri": "https://localhost:8080/"
        },
        "id": "Taa819q18zdI",
        "outputId": "84a708a2-8892-4aab-e047-edc83c8b28d0"
      },
      "source": [
        "from keras import models, layers\n",
        "\n",
        "model = models.Sequential()\n",
        "model.add(layers.Dense(256, activation ='relu', input_dim=(1*1*512)))  ######### input_dim #################\n",
        "model.add(layers.Dropout(0.5))\n",
        "model.add(layers.Dense(10, activation='softmax')) ######### sigmoid or softmax ############\n",
        "\n",
        "model.summary()\n",
        "\n",
        "model.compile(loss='categorical_crossentropy', optimizer='adam', metrics=['accuracy'])  ############# binary or categorical ########"
      ],
      "execution_count": 14,
      "outputs": [
        {
          "output_type": "stream",
          "text": [
            "Model: \"sequential_1\"\n",
            "_________________________________________________________________\n",
            "Layer (type)                 Output Shape              Param #   \n",
            "=================================================================\n",
            "dense_2 (Dense)              (None, 256)               131328    \n",
            "_________________________________________________________________\n",
            "dropout_1 (Dropout)          (None, 256)               0         \n",
            "_________________________________________________________________\n",
            "dense_3 (Dense)              (None, 10)                2570      \n",
            "=================================================================\n",
            "Total params: 133,898\n",
            "Trainable params: 133,898\n",
            "Non-trainable params: 0\n",
            "_________________________________________________________________\n"
          ],
          "name": "stdout"
        }
      ]
    },
    {
      "cell_type": "code",
      "metadata": {
        "colab": {
          "base_uri": "https://localhost:8080/"
        },
        "id": "CMhGocaL81AF",
        "outputId": "3f2ab5d6-32af-4e95-bdc2-baa757efaed8"
      },
      "source": [
        "%%time\n",
        "Hist = model.fit(X_train, y_train, epochs=100, batch_size=20, validation_data=(X_valid, y_valid))"
      ],
      "execution_count": null,
      "outputs": [
        {
          "output_type": "stream",
          "text": [
            "Epoch 1/100\n",
            "1750/1750 [==============================] - 6s 3ms/step - loss: 2.3027 - accuracy: 0.0957 - val_loss: 2.3029 - val_accuracy: 0.0989\n",
            "Epoch 2/100\n",
            "1750/1750 [==============================] - 5s 3ms/step - loss: 2.3027 - accuracy: 0.1015 - val_loss: 2.3027 - val_accuracy: 0.0976\n",
            "Epoch 3/100\n",
            "1750/1750 [==============================] - 5s 3ms/step - loss: 2.3028 - accuracy: 0.1011 - val_loss: 2.3029 - val_accuracy: 0.0979\n",
            "Epoch 4/100\n",
            "1750/1750 [==============================] - 5s 3ms/step - loss: 2.3028 - accuracy: 0.0988 - val_loss: 2.3030 - val_accuracy: 0.0985\n",
            "Epoch 5/100\n",
            "1750/1750 [==============================] - 5s 3ms/step - loss: 2.3027 - accuracy: 0.1032 - val_loss: 2.3026 - val_accuracy: 0.0976\n",
            "Epoch 6/100\n",
            "1750/1750 [==============================] - 5s 3ms/step - loss: 2.3027 - accuracy: 0.0968 - val_loss: 2.3029 - val_accuracy: 0.0987\n",
            "Epoch 7/100\n",
            "1750/1750 [==============================] - 5s 3ms/step - loss: 2.3027 - accuracy: 0.0999 - val_loss: 2.3028 - val_accuracy: 0.0987\n",
            "Epoch 8/100\n",
            "1750/1750 [==============================] - 5s 3ms/step - loss: 2.3027 - accuracy: 0.0998 - val_loss: 2.3029 - val_accuracy: 0.0976\n",
            "Epoch 9/100\n",
            "1750/1750 [==============================] - 5s 3ms/step - loss: 2.3028 - accuracy: 0.0967 - val_loss: 2.3029 - val_accuracy: 0.0989\n",
            "Epoch 10/100\n",
            "1750/1750 [==============================] - 5s 3ms/step - loss: 2.3028 - accuracy: 0.1025 - val_loss: 2.3030 - val_accuracy: 0.0976\n",
            "Epoch 11/100\n",
            "1750/1750 [==============================] - 5s 3ms/step - loss: 2.3025 - accuracy: 0.1019 - val_loss: 2.3028 - val_accuracy: 0.0985\n",
            "Epoch 12/100\n",
            "1750/1750 [==============================] - 5s 3ms/step - loss: 2.3028 - accuracy: 0.0999 - val_loss: 2.3028 - val_accuracy: 0.0976\n",
            "Epoch 13/100\n",
            "1750/1750 [==============================] - 5s 3ms/step - loss: 2.3027 - accuracy: 0.0989 - val_loss: 2.3029 - val_accuracy: 0.0989\n",
            "Epoch 14/100\n",
            "1750/1750 [==============================] - 6s 3ms/step - loss: 2.3028 - accuracy: 0.1007 - val_loss: 2.3029 - val_accuracy: 0.0976\n",
            "Epoch 15/100\n",
            "1750/1750 [==============================] - 5s 3ms/step - loss: 2.3028 - accuracy: 0.0975 - val_loss: 2.3031 - val_accuracy: 0.0985\n",
            "Epoch 16/100\n",
            "1750/1750 [==============================] - 5s 3ms/step - loss: 2.3027 - accuracy: 0.1025 - val_loss: 2.3028 - val_accuracy: 0.0976\n",
            "Epoch 17/100\n",
            "1750/1750 [==============================] - 5s 3ms/step - loss: 2.3027 - accuracy: 0.1022 - val_loss: 2.3029 - val_accuracy: 0.0987\n"
          ],
          "name": "stdout"
        }
      ]
    },
    {
      "cell_type": "code",
      "metadata": {
        "id": "DaEqZ8yW82jg"
      },
      "source": [
        ""
      ],
      "execution_count": null,
      "outputs": []
    }
  ]
}