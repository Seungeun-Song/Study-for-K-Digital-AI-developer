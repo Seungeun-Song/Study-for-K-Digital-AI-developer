{
  "nbformat": 4,
  "nbformat_minor": 0,
  "metadata": {
    "colab": {
      "name": "21_03_06_Error_complate.ipynb",
      "provenance": []
    },
    "kernelspec": {
      "name": "python3",
      "display_name": "Python 3"
    }
  },
  "cells": [
    {
      "cell_type": "code",
      "metadata": {
        "id": "V4bPDE9He6nW"
      },
      "source": [
        "import pandas as pd\r\n",
        "import matplotlib.pyplot as plt\r\n",
        "import seaborn as sns\r\n",
        "import graphviz\r\n",
        "\r\n",
        "from sklearn.preprocessing import StandardScaler\r\n",
        "from sklearn.model_selection import train_test_split\r\n",
        "from sklearn.linear_model import LogisticRegression\r\n",
        "from sklearn.metrics import confusion_matrix, accuracy_score, f1_score, classification_report\r\n",
        "from sklearn.tree import DecisionTreeClassifier, export_graphviz\r\n",
        "from sklearn.ensemble import RandomForestClassifier\r\n",
        "from sklearn.model_selection import GridSearchCV, KFold\r\n",
        "from datetime import datetime"
      ],
      "execution_count": 1,
      "outputs": []
    },
    {
      "cell_type": "code",
      "metadata": {
        "colab": {
          "base_uri": "https://localhost:8080/"
        },
        "id": "AB0Qq9g0e73p",
        "outputId": "962d78ab-6f7d-477d-d10a-9c16df30c78a"
      },
      "source": [
        "DF = pd.read_csv('https://raw.githubusercontent.com/rusita-ai/pyData/master/product.csv')\r\n",
        "DF.info()"
      ],
      "execution_count": 2,
      "outputs": [
        {
          "output_type": "stream",
          "text": [
            "<class 'pandas.core.frame.DataFrame'>\n",
            "RangeIndex: 15009 entries, 0 to 15008\n",
            "Data columns (total 12 columns):\n",
            " #   Column         Non-Null Count  Dtype  \n",
            "---  ------         --------------  -----  \n",
            " 0   Date           15009 non-null  object \n",
            " 1   meanPriceEach  15009 non-null  float64\n",
            " 2   totalOrder     15009 non-null  float64\n",
            " 3   orderType_1    15009 non-null  float64\n",
            " 4   orderType_2    15009 non-null  float64\n",
            " 5   orderType_3    15009 non-null  float64\n",
            " 6   totalBundle    15009 non-null  float64\n",
            " 7   bundleType_1   15009 non-null  float64\n",
            " 8   bundleType_2   15009 non-null  float64\n",
            " 9   customerType   15009 non-null  object \n",
            " 10  FY             15009 non-null  int64  \n",
            " 11  Country        15009 non-null  int64  \n",
            "dtypes: float64(8), int64(2), object(2)\n",
            "memory usage: 1.4+ MB\n"
          ],
          "name": "stdout"
        }
      ]
    },
    {
      "cell_type": "code",
      "metadata": {
        "id": "CUGq3GqGe-TB"
      },
      "source": [
        "def randomForest(model_id, X, y, n_est = 100, mf = 'auto', md = None, ts = 0.3, rs = 2045, visualFeature = False):\r\n",
        "  # split\r\n",
        "  X_train, X_test, y_train, y_test = train_test_split(X, y, test_size = ts, random_state = rs)\r\n",
        "\r\n",
        "  # model\r\n",
        "  Model_rf = RandomForestClassifier(n_estimators = n_est, max_features = mf, max_depth = md, random_state = rs)\r\n",
        "  Model_rf.fit(X_train, y_train)\r\n",
        "\r\n",
        "  # predict\r\n",
        "  y_hat = Model_rf.predict(X_test)\r\n",
        "\r\n",
        "  if visualFeature:\r\n",
        "    plt.figure(figsize = (9, 6))\r\n",
        "    sns.barplot(Model_rf.feature_importances_, X.columns)\r\n",
        "    plt.title('Feature Importance')\r\n",
        "    plt.show()\r\n",
        "\r\n",
        "  score_ac = accuracy_score(y_test, y_hat)\r\n",
        "  score_f1 = f1_score(y_test, y_hat, average = None)\r\n",
        "\r\n",
        "  return { 'model_id' : model_id, 'n_estimators' : n_est, 'max_features' : mf, 'max_depth' : md, 'accuracy_score' : score_ac, 'f1_score' : score_f1 }"
      ],
      "execution_count": 3,
      "outputs": []
    },
    {
      "cell_type": "code",
      "metadata": {
        "id": "2qolrqsYfBin"
      },
      "source": [
        "X = DF[['meanPriceEach','totalOrder','orderType_1','orderType_2','orderType_3','totalBundle','bundleType_1','bundleType_2','FY','Country']]\r\n",
        "y = DF['customerType']"
      ],
      "execution_count": 4,
      "outputs": []
    },
    {
      "cell_type": "code",
      "metadata": {
        "id": "qerUmk1ifDhH"
      },
      "source": [
        "DF_res = pd.DataFrame(data=None, columns=['model_id', 'n_estimators', 'max_features', 'max_depth', 'accuracy_score', 'f1_score'])"
      ],
      "execution_count": 5,
      "outputs": []
    },
    {
      "cell_type": "code",
      "metadata": {
        "id": "0Gq2kgplfF7v"
      },
      "source": [
        "index = 1"
      ],
      "execution_count": 6,
      "outputs": []
    },
    {
      "cell_type": "code",
      "metadata": {
        "colab": {
          "base_uri": "https://localhost:8080/"
        },
        "id": "XSd0gdAyfIAf",
        "outputId": "61ea077a-1cac-4ee2-e86f-05c214602569"
      },
      "source": [
        "for n in [50, 100, 150, 200, 250]:\r\n",
        "  model_name = 'RF-' + str(index)\r\n",
        "  index += 1\r\n",
        "  res = randomForest(model_name, X, y, n_est=n)\r\n",
        "  print(res)\r\n",
        "  DF_res = DF_res.append(res, ignore_index=True)"
      ],
      "execution_count": 7,
      "outputs": [
        {
          "output_type": "stream",
          "text": [
            "{'model_id': 'RF-1', 'n_estimators': 50, 'max_features': 'auto', 'max_depth': None, 'accuracy_score': 0.9940039973351099, 'f1_score': array([0.99395838, 0.99404893])}\n",
            "{'model_id': 'RF-2', 'n_estimators': 100, 'max_features': 'auto', 'max_depth': None, 'accuracy_score': 0.9942260715078837, 'f1_score': array([0.99418084, 0.9942706 ])}\n",
            "{'model_id': 'RF-3', 'n_estimators': 150, 'max_features': 'auto', 'max_depth': None, 'accuracy_score': 0.9937819231623363, 'f1_score': array([0.99373321, 0.99382988])}\n",
            "{'model_id': 'RF-4', 'n_estimators': 200, 'max_features': 'auto', 'max_depth': None, 'accuracy_score': 0.9940039973351099, 'f1_score': array([0.99395838, 0.99404893])}\n",
            "{'model_id': 'RF-5', 'n_estimators': 250, 'max_features': 'auto', 'max_depth': None, 'accuracy_score': 0.9935598489895625, 'f1_score': array([0.99351085, 0.99360811])}\n"
          ],
          "name": "stdout"
        }
      ]
    },
    {
      "cell_type": "code",
      "metadata": {
        "colab": {
          "base_uri": "https://localhost:8080/",
          "height": 196
        },
        "id": "RWa5w_hvfJhW",
        "outputId": "3c988b83-c1ed-4674-8331-80a8d75477d3"
      },
      "source": [
        "DF_res"
      ],
      "execution_count": 8,
      "outputs": [
        {
          "output_type": "execute_result",
          "data": {
            "text/html": [
              "<div>\n",
              "<style scoped>\n",
              "    .dataframe tbody tr th:only-of-type {\n",
              "        vertical-align: middle;\n",
              "    }\n",
              "\n",
              "    .dataframe tbody tr th {\n",
              "        vertical-align: top;\n",
              "    }\n",
              "\n",
              "    .dataframe thead th {\n",
              "        text-align: right;\n",
              "    }\n",
              "</style>\n",
              "<table border=\"1\" class=\"dataframe\">\n",
              "  <thead>\n",
              "    <tr style=\"text-align: right;\">\n",
              "      <th></th>\n",
              "      <th>model_id</th>\n",
              "      <th>n_estimators</th>\n",
              "      <th>max_features</th>\n",
              "      <th>max_depth</th>\n",
              "      <th>accuracy_score</th>\n",
              "      <th>f1_score</th>\n",
              "    </tr>\n",
              "  </thead>\n",
              "  <tbody>\n",
              "    <tr>\n",
              "      <th>0</th>\n",
              "      <td>RF-1</td>\n",
              "      <td>50</td>\n",
              "      <td>auto</td>\n",
              "      <td>None</td>\n",
              "      <td>0.994004</td>\n",
              "      <td>[0.993958379950772, 0.9940489310116817]</td>\n",
              "    </tr>\n",
              "    <tr>\n",
              "      <th>1</th>\n",
              "      <td>RF-2</td>\n",
              "      <td>100</td>\n",
              "      <td>auto</td>\n",
              "      <td>None</td>\n",
              "      <td>0.994226</td>\n",
              "      <td>[0.9941808415398388, 0.9942706037902159]</td>\n",
              "    </tr>\n",
              "    <tr>\n",
              "      <th>2</th>\n",
              "      <td>RF-3</td>\n",
              "      <td>150</td>\n",
              "      <td>auto</td>\n",
              "      <td>None</td>\n",
              "      <td>0.993782</td>\n",
              "      <td>[0.9937332139659802, 0.993829881004848]</td>\n",
              "    </tr>\n",
              "    <tr>\n",
              "      <th>3</th>\n",
              "      <td>RF-4</td>\n",
              "      <td>200</td>\n",
              "      <td>auto</td>\n",
              "      <td>None</td>\n",
              "      <td>0.994004</td>\n",
              "      <td>[0.993958379950772, 0.9940489310116817]</td>\n",
              "    </tr>\n",
              "    <tr>\n",
              "      <th>4</th>\n",
              "      <td>RF-5</td>\n",
              "      <td>250</td>\n",
              "      <td>auto</td>\n",
              "      <td>None</td>\n",
              "      <td>0.993560</td>\n",
              "      <td>[0.993510852539718, 0.9936081110866211]</td>\n",
              "    </tr>\n",
              "  </tbody>\n",
              "</table>\n",
              "</div>"
            ],
            "text/plain": [
              "  model_id  ...                                  f1_score\n",
              "0     RF-1  ...   [0.993958379950772, 0.9940489310116817]\n",
              "1     RF-2  ...  [0.9941808415398388, 0.9942706037902159]\n",
              "2     RF-3  ...   [0.9937332139659802, 0.993829881004848]\n",
              "3     RF-4  ...   [0.993958379950772, 0.9940489310116817]\n",
              "4     RF-5  ...   [0.993510852539718, 0.9936081110866211]\n",
              "\n",
              "[5 rows x 6 columns]"
            ]
          },
          "metadata": {
            "tags": []
          },
          "execution_count": 8
        }
      ]
    },
    {
      "cell_type": "code",
      "metadata": {
        "id": "RwqaZ3F7fOye"
      },
      "source": [
        ""
      ],
      "execution_count": null,
      "outputs": []
    }
  ]
}