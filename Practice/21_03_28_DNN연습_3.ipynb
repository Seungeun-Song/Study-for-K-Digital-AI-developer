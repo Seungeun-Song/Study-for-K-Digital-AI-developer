{
  "nbformat": 4,
  "nbformat_minor": 0,
  "metadata": {
    "colab": {
      "name": "Untitled0.ipynb",
      "provenance": []
    },
    "kernelspec": {
      "name": "python3",
      "display_name": "Python 3"
    },
    "language_info": {
      "name": "python"
    },
    "accelerator": "GPU"
  },
  "cells": [
    {
      "cell_type": "code",
      "metadata": {
        "colab": {
          "base_uri": "https://localhost:8080/",
          "height": 35
        },
        "id": "bzoiS49Oxcyc",
        "outputId": "ffed1f83-7139-48af-872d-91ae70ba6657"
      },
      "source": [
        "import tensorflow as tf\n",
        "\n",
        "tf.__version__"
      ],
      "execution_count": 1,
      "outputs": [
        {
          "output_type": "execute_result",
          "data": {
            "application/vnd.google.colaboratory.intrinsic+json": {
              "type": "string"
            },
            "text/plain": [
              "'2.4.1'"
            ]
          },
          "metadata": {
            "tags": []
          },
          "execution_count": 1
        }
      ]
    },
    {
      "cell_type": "code",
      "metadata": {
        "colab": {
          "base_uri": "https://localhost:8080/",
          "height": 35
        },
        "id": "s7fqQUWQxiey",
        "outputId": "11744bfe-26bb-4e69-f7b5-cde6483ebf6a"
      },
      "source": [
        "tf.test.gpu_device_name()"
      ],
      "execution_count": 2,
      "outputs": [
        {
          "output_type": "execute_result",
          "data": {
            "application/vnd.google.colaboratory.intrinsic+json": {
              "type": "string"
            },
            "text/plain": [
              "'/device:GPU:0'"
            ]
          },
          "metadata": {
            "tags": []
          },
          "execution_count": 2
        }
      ]
    },
    {
      "cell_type": "code",
      "metadata": {
        "colab": {
          "base_uri": "https://localhost:8080/"
        },
        "id": "58ocoJvWxnpy",
        "outputId": "35aa145e-9ab3-4c58-ab4b-adf2321d3355"
      },
      "source": [
        "from keras.datasets import mnist\n",
        "\n",
        "(X_train, y_train), (X_test, y_test ) = mnist.load_data()"
      ],
      "execution_count": 3,
      "outputs": [
        {
          "output_type": "stream",
          "text": [
            "Downloading data from https://storage.googleapis.com/tensorflow/tf-keras-datasets/mnist.npz\n",
            "11493376/11490434 [==============================] - 0s 0us/step\n"
          ],
          "name": "stdout"
        }
      ]
    },
    {
      "cell_type": "code",
      "metadata": {
        "colab": {
          "base_uri": "https://localhost:8080/"
        },
        "id": "ouomH47pxwHX",
        "outputId": "36ab20a3-994a-4a38-e655-dd1515cb8fa9"
      },
      "source": [
        "print(X_train.shape, y_train.shape, X_test.shape, y_test.shape)"
      ],
      "execution_count": 4,
      "outputs": [
        {
          "output_type": "stream",
          "text": [
            "(60000, 28, 28) (60000,) (10000, 28, 28) (10000,)\n"
          ],
          "name": "stdout"
        }
      ]
    },
    {
      "cell_type": "code",
      "metadata": {
        "colab": {
          "base_uri": "https://localhost:8080/",
          "height": 265
        },
        "id": "YUHgGFmyx2k-",
        "outputId": "ce4e9bfb-8062-497f-ca1d-84deea8f235c"
      },
      "source": [
        "import matplotlib.pyplot as plt\n",
        "digit = X_train[10]\n",
        "plt.imshow(digit, cmap='gray')\n",
        "plt.show()"
      ],
      "execution_count": 5,
      "outputs": [
        {
          "output_type": "display_data",
          "data": {
            "image/png": "[encoded data removed]",
            "text/plain": [
              "<Figure size 432x288 with 1 Axes>"
            ]
          },
          "metadata": {
            "tags": [],
            "needs_background": "light"
          }
        }
      ]
    },
    {
      "cell_type": "code",
      "metadata": {
        "colab": {
          "base_uri": "https://localhost:8080/"
        },
        "id": "csh0yk05x_Ar",
        "outputId": "6602be90-4f64-47e4-9f6c-084893c39936"
      },
      "source": [
        "import numpy as np\n",
        "np.set_printoptions(linewidth=150)\n",
        "print(X_train[10])"
      ],
      "execution_count": 6,
      "outputs": [
        {
          "output_type": "stream",
          "text": [
            "[[  0   0   0   0   0   0   0   0   0   0   0   0   0   0   0   0   0   0   0   0   0   0   0   0   0   0   0   0]\n",
            " [  0   0   0   0   0   0   0   0   0   0   0   0   0   0   0   0   0   0   0   0   0   0   0   0   0   0   0   0]\n",
            " [  0   0   0   0   0   0   0   0   0   0   0   0   0   0   0   0   0   0   0   0   0   0   0   0   0   0   0   0]\n",
            " [  0   0   0   0   0   0   0   0   0   0   0   0   0   0   0   0   0   0   0   0   0   0   0   0   0   0   0   0]\n",
            " [  0   0   0   0   0   0   0   0   0   0   0  42 118 219 166 118 118   6   0   0   0   0   0   0   0   0   0   0]\n",
            " [  0   0   0   0   0   0   0   0   0   0 103 242 254 254 254 254 254  66   0   0   0   0   0   0   0   0   0   0]\n",
            " [  0   0   0   0   0   0   0   0   0   0  18 232 254 254 254 254 254 238  70   0   0   0   0   0   0   0   0   0]\n",
            " [  0   0   0   0   0   0   0   0   0   0   0 104 244 254 224 254 254 254 141   0   0   0   0   0   0   0   0   0]\n",
            " [  0   0   0   0   0   0   0   0   0   0   0   0 207 254 210 254 254 254  34   0   0   0   0   0   0   0   0   0]\n",
            " [  0   0   0   0   0   0   0   0   0   0   0   0  84 206 254 254 254 254  41   0   0   0   0   0   0   0   0   0]\n",
            " [  0   0   0   0   0   0   0   0   0   0   0   0   0  24 209 254 254 254 171   0   0   0   0   0   0   0   0   0]\n",
            " [  0   0   0   0   0   0   0   0   0   0   0   0  91 137 253 254 254 254 112   0   0   0   0   0   0   0   0   0]\n",
            " [  0   0   0   0   0   0   0   0   0   0  40 214 250 254 254 254 254 254  34   0   0   0   0   0   0   0   0   0]\n",
            " [  0   0   0   0   0   0   0   0   0   0  81 247 254 254 254 254 254 254 146   0   0   0   0   0   0   0   0   0]\n",
            " [  0   0   0   0   0   0   0   0   0   0   0 110 246 254 254 254 254 254 171   0   0   0   0   0   0   0   0   0]\n",
            " [  0   0   0   0   0   0   0   0   0   0   0   0  73  89  89  93 240 254 171   0   0   0   0   0   0   0   0   0]\n",
            " [  0   0   0   0   0   0   0   0   0   0   0   0   0   0   0   1 128 254 219  31   0   0   0   0   0   0   0   0]\n",
            " [  0   0   0   0   0   0   0   0   0   0   0   0   0   0   0   7 254 254 214  28   0   0   0   0   0   0   0   0]\n",
            " [  0   0   0   0   0   0   0   0   0   0   0   0   0   0   0 138 254 254 116   0   0   0   0   0   0   0   0   0]\n",
            " [  0   0   0   0   0   0  19 177  90   0   0   0   0   0  25 240 254 254  34   0   0   0   0   0   0   0   0   0]\n",
            " [  0   0   0   0   0   0 164 254 215  63  36   0  51  89 206 254 254 139   8   0   0   0   0   0   0   0   0   0]\n",
            " [  0   0   0   0   0   0  57 197 254 254 222 180 241 254 254 253 213  11   0   0   0   0   0   0   0   0   0   0]\n",
            " [  0   0   0   0   0   0   0 140 105 254 254 254 254 254 254 236   0   0   0   0   0   0   0   0   0   0   0   0]\n",
            " [  0   0   0   0   0   0   0   0   7 117 117 165 254 254 239  50   0   0   0   0   0   0   0   0   0   0   0   0]\n",
            " [  0   0   0   0   0   0   0   0   0   0   0   0   0   0   0   0   0   0   0   0   0   0   0   0   0   0   0   0]\n",
            " [  0   0   0   0   0   0   0   0   0   0   0   0   0   0   0   0   0   0   0   0   0   0   0   0   0   0   0   0]\n",
            " [  0   0   0   0   0   0   0   0   0   0   0   0   0   0   0   0   0   0   0   0   0   0   0   0   0   0   0   0]\n",
            " [  0   0   0   0   0   0   0   0   0   0   0   0   0   0   0   0   0   0   0   0   0   0   0   0   0   0   0   0]]\n"
          ],
          "name": "stdout"
        }
      ]
    },
    {
      "cell_type": "code",
      "metadata": {
        "colab": {
          "base_uri": "https://localhost:8080/"
        },
        "id": "yGRP5dHCyFkd",
        "outputId": "2d942410-49a6-4e54-a2d2-6295a2e71b45"
      },
      "source": [
        "X_train = X_train.reshape((60000, 28*28))\n",
        "X_test = X_test.reshape((10000, 28*28))\n",
        "\n",
        "X_train.shape, X_test.shape"
      ],
      "execution_count": 7,
      "outputs": [
        {
          "output_type": "execute_result",
          "data": {
            "text/plain": [
              "((60000, 784), (10000, 784))"
            ]
          },
          "metadata": {
            "tags": []
          },
          "execution_count": 7
        }
      ]
    },
    {
      "cell_type": "code",
      "metadata": {
        "id": "8hLvrryOyXB-"
      },
      "source": [
        "X_train = X_train.astype(float)/255\n",
        "X_test = X_test.astype(float)/255\n",
        "print(X_train[4])"
      ],
      "execution_count": null,
      "outputs": []
    },
    {
      "cell_type": "code",
      "metadata": {
        "colab": {
          "base_uri": "https://localhost:8080/"
        },
        "id": "sB1efivDzo1F",
        "outputId": "f3a4076f-13ee-41cc-e8f5-d44766c630ea"
      },
      "source": [
        "print(X_train[10])"
      ],
      "execution_count": 10,
      "outputs": [
        {
          "output_type": "stream",
          "text": [
            "[0.         0.         0.         0.         0.         0.         0.         0.         0.         0.         0.         0.         0.\n",
            " 0.         0.         0.         0.         0.         0.         0.         0.         0.         0.         0.         0.         0.\n",
            " 0.         0.         0.         0.         0.         0.         0.         0.         0.         0.         0.         0.         0.\n",
            " 0.         0.         0.         0.         0.         0.         0.         0.         0.         0.         0.         0.         0.\n",
            " 0.         0.         0.         0.         0.         0.         0.         0.         0.         0.         0.         0.         0.\n",
            " 0.         0.         0.         0.         0.         0.         0.         0.         0.         0.         0.         0.         0.\n",
            " 0.         0.         0.         0.         0.         0.         0.         0.         0.         0.         0.         0.         0.\n",
            " 0.         0.         0.         0.         0.         0.         0.         0.         0.         0.         0.         0.         0.\n",
            " 0.         0.         0.         0.         0.         0.         0.         0.         0.         0.         0.         0.         0.\n",
            " 0.         0.         0.         0.         0.         0.         0.16470588 0.4627451  0.85882353 0.65098039 0.4627451  0.4627451  0.02352941\n",
            " 0.         0.         0.         0.         0.         0.         0.         0.         0.         0.         0.         0.         0.\n",
            " 0.         0.         0.         0.         0.         0.         0.         0.40392157 0.94901961 0.99607843 0.99607843 0.99607843 0.99607843\n",
            " 0.99607843 0.25882353 0.         0.         0.         0.         0.         0.         0.         0.         0.         0.         0.\n",
            " 0.         0.         0.         0.         0.         0.         0.         0.         0.         0.07058824 0.90980392 0.99607843 0.99607843\n",
            " 0.99607843 0.99607843 0.99607843 0.93333333 0.2745098  0.         0.         0.         0.         0.         0.         0.         0.\n",
            " 0.         0.         0.         0.         0.         0.         0.         0.         0.         0.         0.         0.         0.40784314\n",
            " 0.95686275 0.99607843 0.87843137 0.99607843 0.99607843 0.99607843 0.55294118 0.         0.         0.         0.         0.         0.\n",
            " 0.         0.         0.         0.         0.         0.         0.         0.         0.         0.         0.         0.         0.\n",
            " 0.         0.         0.81176471 0.99607843 0.82352941 0.99607843 0.99607843 0.99607843 0.13333333 0.         0.         0.         0.\n",
            " 0.         0.         0.         0.         0.         0.         0.         0.         0.         0.         0.         0.         0.\n",
            " 0.         0.         0.         0.         0.32941176 0.80784314 0.99607843 0.99607843 0.99607843 0.99607843 0.16078431 0.         0.\n",
            " 0.         0.         0.         0.         0.         0.         0.         0.         0.         0.         0.         0.         0.\n",
            " 0.         0.         0.         0.         0.         0.         0.         0.09411765 0.81960784 0.99607843 0.99607843 0.99607843 0.67058824\n",
            " 0.         0.         0.         0.         0.         0.         0.         0.         0.         0.         0.         0.         0.\n",
            " 0.         0.         0.         0.         0.         0.         0.         0.         0.35686275 0.5372549  0.99215686 0.99607843 0.99607843\n",
            " 0.99607843 0.43921569 0.         0.         0.         0.         0.         0.         0.         0.         0.         0.         0.\n",
            " 0.         0.         0.         0.         0.         0.         0.         0.         0.15686275 0.83921569 0.98039216 0.99607843 0.99607843\n",
            " 0.99607843 0.99607843 0.99607843 0.13333333 0.         0.         0.         0.         0.         0.         0.         0.         0.\n",
            " 0.         0.         0.         0.         0.         0.         0.         0.         0.         0.         0.31764706 0.96862745 0.99607843\n",
            " 0.99607843 0.99607843 0.99607843 0.99607843 0.99607843 0.57254902 0.         0.         0.         0.         0.         0.         0.\n",
            " 0.         0.         0.         0.         0.         0.         0.         0.         0.         0.         0.         0.         0.\n",
            " 0.43137255 0.96470588 0.99607843 0.99607843 0.99607843 0.99607843 0.99607843 0.67058824 0.         0.         0.         0.         0.\n",
            " 0.         0.         0.         0.         0.         0.         0.         0.         0.         0.         0.         0.         0.\n",
            " 0.         0.         0.         0.28627451 0.34901961 0.34901961 0.36470588 0.94117647 0.99607843 0.67058824 0.         0.         0.\n",
            " 0.         0.         0.         0.         0.         0.         0.         0.         0.         0.         0.         0.         0.\n",
            " 0.         0.         0.         0.         0.         0.         0.         0.         0.00392157 0.50196078 0.99607843 0.85882353 0.12156863\n",
            " 0.         0.         0.         0.         0.         0.         0.         0.         0.         0.         0.         0.         0.\n",
            " 0.         0.         0.         0.         0.         0.         0.         0.         0.         0.         0.02745098 0.99607843 0.99607843\n",
            " 0.83921569 0.10980392 0.         0.         0.         0.         0.         0.         0.         0.         0.         0.         0.\n",
            " 0.         0.         0.         0.         0.         0.         0.         0.         0.         0.         0.         0.         0.54117647\n",
            " 0.99607843 0.99607843 0.45490196 0.         0.         0.         0.         0.         0.         0.         0.         0.         0.\n",
            " 0.         0.         0.         0.         0.         0.0745098  0.69411765 0.35294118 0.         0.         0.         0.         0.\n",
            " 0.09803922 0.94117647 0.99607843 0.99607843 0.13333333 0.         0.         0.         0.         0.         0.         0.         0.\n",
            " 0.         0.         0.         0.         0.         0.         0.         0.64313725 0.99607843 0.84313725 0.24705882 0.14117647 0.\n",
            " 0.2        0.34901961 0.80784314 0.99607843 0.99607843 0.54509804 0.03137255 0.         0.         0.         0.         0.         0.\n",
            " 0.         0.         0.         0.         0.         0.         0.         0.         0.         0.22352941 0.77254902 0.99607843 0.99607843\n",
            " 0.87058824 0.70588235 0.94509804 0.99607843 0.99607843 0.99215686 0.83529412 0.04313725 0.         0.         0.         0.         0.\n",
            " 0.         0.         0.         0.         0.         0.         0.         0.         0.         0.         0.         0.         0.54901961\n",
            " 0.41176471 0.99607843 0.99607843 0.99607843 0.99607843 0.99607843 0.99607843 0.9254902  0.         0.         0.         0.         0.\n",
            " 0.         0.         0.         0.         0.         0.         0.         0.         0.         0.         0.         0.         0.\n",
            " 0.         0.         0.02745098 0.45882353 0.45882353 0.64705882 0.99607843 0.99607843 0.9372549  0.19607843 0.         0.         0.\n",
            " 0.         0.         0.         0.         0.         0.         0.         0.         0.         0.         0.         0.         0.\n",
            " 0.         0.         0.         0.         0.         0.         0.         0.         0.         0.         0.         0.         0.\n",
            " 0.         0.         0.         0.         0.         0.         0.         0.         0.         0.         0.         0.         0.\n",
            " 0.         0.         0.         0.         0.         0.         0.         0.         0.         0.         0.         0.         0.\n",
            " 0.         0.         0.         0.         0.         0.         0.         0.         0.         0.         0.         0.         0.\n",
            " 0.         0.         0.         0.         0.         0.         0.         0.         0.         0.         0.         0.         0.\n",
            " 0.         0.         0.         0.         0.         0.         0.         0.         0.         0.         0.         0.         0.\n",
            " 0.         0.         0.         0.         0.         0.         0.         0.         0.         0.         0.         0.         0.\n",
            " 0.         0.         0.         0.         0.         0.         0.         0.         0.         0.         0.         0.         0.\n",
            " 0.         0.         0.         0.        ]\n"
          ],
          "name": "stdout"
        }
      ]
    },
    {
      "cell_type": "code",
      "metadata": {
        "colab": {
          "base_uri": "https://localhost:8080/"
        },
        "id": "fIJi2n1KyRO0",
        "outputId": "050a856f-2ca9-4ed0-9a1e-1026768f4db0"
      },
      "source": [
        "from keras.utils import to_categorical\n",
        "\n",
        "y_train = to_categorical(y_train)\n",
        "y_test = to_categorical(y_test)\n",
        "print(y_train[10])"
      ],
      "execution_count": 11,
      "outputs": [
        {
          "output_type": "stream",
          "text": [
            "[0. 0. 0. 1. 0. 0. 0. 0. 0. 0.]\n"
          ],
          "name": "stdout"
        }
      ]
    },
    {
      "cell_type": "code",
      "metadata": {
        "id": "xX4sGHSX1E-L"
      },
      "source": [
        "from sklearn.model_selection import train_test_split\n",
        "\n",
        "X_train, X_valid, y_train, y_valid = train_test_split(X_train, y_train, test_size=0.2, random_state=2045)"
      ],
      "execution_count": 13,
      "outputs": []
    },
    {
      "cell_type": "code",
      "metadata": {
        "colab": {
          "base_uri": "https://localhost:8080/"
        },
        "id": "lh7p0uEeyTp1",
        "outputId": "1f2acee5-eedf-4480-ab16-c5b3dd03dffc"
      },
      "source": [
        "from keras import models, layers\n",
        "\n",
        "model = models.Sequential()\n",
        "model.add(layers.Dense(790, activation='relu', input_shape=(28*28,)))\n",
        "model.add(layers.Dense(256, activation='relu'))\n",
        "model.add(layers.Dense(10, activation='softmax'))\n",
        "\n",
        "model.summary()"
      ],
      "execution_count": 12,
      "outputs": [
        {
          "output_type": "stream",
          "text": [
            "Model: \"sequential\"\n",
            "_________________________________________________________________\n",
            "Layer (type)                 Output Shape              Param #   \n",
            "=================================================================\n",
            "dense (Dense)                (None, 790)               620150    \n",
            "_________________________________________________________________\n",
            "dense_1 (Dense)              (None, 256)               202496    \n",
            "_________________________________________________________________\n",
            "dense_2 (Dense)              (None, 10)                2570      \n",
            "=================================================================\n",
            "Total params: 825,216\n",
            "Trainable params: 825,216\n",
            "Non-trainable params: 0\n",
            "_________________________________________________________________\n"
          ],
          "name": "stdout"
        }
      ]
    },
    {
      "cell_type": "code",
      "metadata": {
        "colab": {
          "base_uri": "https://localhost:8080/"
        },
        "id": "22rB2gir0uxZ",
        "outputId": "fcfbc320-d2db-4018-a999-44bd3704c432"
      },
      "source": [
        "model.compile(loss='categorical_crossentropy', optimizer='Adam', metrics=['accuracy'])\n",
        "Hist = model.fit(X_train, y_train, epochs=100, batch_size=500, validation_data=(X_valid, y_valid))"
      ],
      "execution_count": 14,
      "outputs": [
        {
          "output_type": "stream",
          "text": [
            "Epoch 1/100\n",
            "96/96 [==============================] - 4s 9ms/step - loss: 0.6681 - accuracy: 0.8127 - val_loss: 0.1802 - val_accuracy: 0.9490\n",
            "Epoch 2/100\n",
            "96/96 [==============================] - 0s 5ms/step - loss: 0.1396 - accuracy: 0.9596 - val_loss: 0.1250 - val_accuracy: 0.9628\n",
            "Epoch 3/100\n",
            "96/96 [==============================] - 0s 5ms/step - loss: 0.0790 - accuracy: 0.9767 - val_loss: 0.1031 - val_accuracy: 0.9711\n",
            "Epoch 4/100\n",
            "96/96 [==============================] - 0s 5ms/step - loss: 0.0561 - accuracy: 0.9841 - val_loss: 0.0897 - val_accuracy: 0.9729\n",
            "Epoch 5/100\n",
            "96/96 [==============================] - 0s 4ms/step - loss: 0.0386 - accuracy: 0.9890 - val_loss: 0.0920 - val_accuracy: 0.9734\n",
            "Epoch 6/100\n",
            "96/96 [==============================] - 0s 4ms/step - loss: 0.0274 - accuracy: 0.9927 - val_loss: 0.0976 - val_accuracy: 0.9724\n",
            "Epoch 7/100\n",
            "96/96 [==============================] - 0s 4ms/step - loss: 0.0192 - accuracy: 0.9947 - val_loss: 0.0774 - val_accuracy: 0.9773\n",
            "Epoch 8/100\n",
            "96/96 [==============================] - 0s 4ms/step - loss: 0.0124 - accuracy: 0.9971 - val_loss: 0.0794 - val_accuracy: 0.9782\n",
            "Epoch 9/100\n",
            "96/96 [==============================] - 0s 4ms/step - loss: 0.0075 - accuracy: 0.9986 - val_loss: 0.0840 - val_accuracy: 0.9784\n",
            "Epoch 10/100\n",
            "96/96 [==============================] - 0s 4ms/step - loss: 0.0060 - accuracy: 0.9989 - val_loss: 0.0849 - val_accuracy: 0.9778\n",
            "Epoch 11/100\n",
            "96/96 [==============================] - 0s 4ms/step - loss: 0.0036 - accuracy: 0.9995 - val_loss: 0.0817 - val_accuracy: 0.9788\n",
            "Epoch 12/100\n",
            "96/96 [==============================] - 0s 4ms/step - loss: 0.0026 - accuracy: 0.9997 - val_loss: 0.0833 - val_accuracy: 0.9800\n",
            "Epoch 13/100\n",
            "96/96 [==============================] - 0s 4ms/step - loss: 0.0013 - accuracy: 1.0000 - val_loss: 0.0851 - val_accuracy: 0.9806\n",
            "Epoch 14/100\n",
            "96/96 [==============================] - 0s 4ms/step - loss: 0.0010 - accuracy: 1.0000 - val_loss: 0.0850 - val_accuracy: 0.9802\n",
            "Epoch 15/100\n",
            "96/96 [==============================] - 0s 4ms/step - loss: 6.9844e-04 - accuracy: 1.0000 - val_loss: 0.0864 - val_accuracy: 0.9808\n",
            "Epoch 16/100\n",
            "96/96 [==============================] - 0s 4ms/step - loss: 5.7867e-04 - accuracy: 1.0000 - val_loss: 0.0876 - val_accuracy: 0.9808\n",
            "Epoch 17/100\n",
            "96/96 [==============================] - 0s 5ms/step - loss: 5.0006e-04 - accuracy: 1.0000 - val_loss: 0.0888 - val_accuracy: 0.9812\n",
            "Epoch 18/100\n",
            "96/96 [==============================] - 0s 4ms/step - loss: 4.0350e-04 - accuracy: 1.0000 - val_loss: 0.0894 - val_accuracy: 0.9807\n",
            "Epoch 19/100\n",
            "96/96 [==============================] - 0s 4ms/step - loss: 3.6150e-04 - accuracy: 1.0000 - val_loss: 0.0905 - val_accuracy: 0.9809\n",
            "Epoch 20/100\n",
            "96/96 [==============================] - 0s 4ms/step - loss: 3.1368e-04 - accuracy: 1.0000 - val_loss: 0.0919 - val_accuracy: 0.9808\n",
            "Epoch 21/100\n",
            "96/96 [==============================] - 0s 4ms/step - loss: 2.8570e-04 - accuracy: 1.0000 - val_loss: 0.0925 - val_accuracy: 0.9808\n",
            "Epoch 22/100\n",
            "96/96 [==============================] - 0s 4ms/step - loss: 2.5249e-04 - accuracy: 1.0000 - val_loss: 0.0935 - val_accuracy: 0.9808\n",
            "Epoch 23/100\n",
            "96/96 [==============================] - 0s 4ms/step - loss: 2.2889e-04 - accuracy: 1.0000 - val_loss: 0.0943 - val_accuracy: 0.9809\n",
            "Epoch 24/100\n",
            "96/96 [==============================] - 0s 4ms/step - loss: 2.0704e-04 - accuracy: 1.0000 - val_loss: 0.0950 - val_accuracy: 0.9810\n",
            "Epoch 25/100\n",
            "96/96 [==============================] - 0s 4ms/step - loss: 1.8241e-04 - accuracy: 1.0000 - val_loss: 0.0965 - val_accuracy: 0.9809\n",
            "Epoch 26/100\n",
            "96/96 [==============================] - 0s 4ms/step - loss: 1.6559e-04 - accuracy: 1.0000 - val_loss: 0.0966 - val_accuracy: 0.9805\n",
            "Epoch 27/100\n",
            "96/96 [==============================] - 0s 5ms/step - loss: 1.5315e-04 - accuracy: 1.0000 - val_loss: 0.0977 - val_accuracy: 0.9809\n",
            "Epoch 28/100\n",
            "96/96 [==============================] - 0s 4ms/step - loss: 1.4184e-04 - accuracy: 1.0000 - val_loss: 0.0983 - val_accuracy: 0.9812\n",
            "Epoch 29/100\n",
            "96/96 [==============================] - 0s 5ms/step - loss: 1.3277e-04 - accuracy: 1.0000 - val_loss: 0.0988 - val_accuracy: 0.9808\n",
            "Epoch 30/100\n",
            "96/96 [==============================] - 0s 4ms/step - loss: 1.1732e-04 - accuracy: 1.0000 - val_loss: 0.1000 - val_accuracy: 0.9806\n",
            "Epoch 31/100\n",
            "96/96 [==============================] - 0s 4ms/step - loss: 1.0749e-04 - accuracy: 1.0000 - val_loss: 0.1005 - val_accuracy: 0.9808\n",
            "Epoch 32/100\n",
            "96/96 [==============================] - 0s 4ms/step - loss: 9.6293e-05 - accuracy: 1.0000 - val_loss: 0.1013 - val_accuracy: 0.9805\n",
            "Epoch 33/100\n",
            "96/96 [==============================] - 0s 4ms/step - loss: 8.6578e-05 - accuracy: 1.0000 - val_loss: 0.1018 - val_accuracy: 0.9805\n",
            "Epoch 34/100\n",
            "96/96 [==============================] - 0s 4ms/step - loss: 8.2112e-05 - accuracy: 1.0000 - val_loss: 0.1032 - val_accuracy: 0.9807\n",
            "Epoch 35/100\n",
            "96/96 [==============================] - 0s 4ms/step - loss: 8.0902e-05 - accuracy: 1.0000 - val_loss: 0.1035 - val_accuracy: 0.9807\n",
            "Epoch 36/100\n",
            "96/96 [==============================] - 0s 5ms/step - loss: 7.0749e-05 - accuracy: 1.0000 - val_loss: 0.1040 - val_accuracy: 0.9808\n",
            "Epoch 37/100\n",
            "96/96 [==============================] - 0s 4ms/step - loss: 6.4223e-05 - accuracy: 1.0000 - val_loss: 0.1051 - val_accuracy: 0.9803\n",
            "Epoch 38/100\n",
            "96/96 [==============================] - 0s 4ms/step - loss: 6.1094e-05 - accuracy: 1.0000 - val_loss: 0.1055 - val_accuracy: 0.9804\n",
            "Epoch 39/100\n",
            "96/96 [==============================] - 0s 5ms/step - loss: 5.5829e-05 - accuracy: 1.0000 - val_loss: 0.1062 - val_accuracy: 0.9805\n",
            "Epoch 40/100\n",
            "96/96 [==============================] - 0s 4ms/step - loss: 5.1512e-05 - accuracy: 1.0000 - val_loss: 0.1071 - val_accuracy: 0.9805\n",
            "Epoch 41/100\n",
            "96/96 [==============================] - 0s 5ms/step - loss: 4.9291e-05 - accuracy: 1.0000 - val_loss: 0.1074 - val_accuracy: 0.9805\n",
            "Epoch 42/100\n",
            "96/96 [==============================] - 0s 4ms/step - loss: 4.4828e-05 - accuracy: 1.0000 - val_loss: 0.1081 - val_accuracy: 0.9808\n",
            "Epoch 43/100\n",
            "96/96 [==============================] - 0s 5ms/step - loss: 4.0974e-05 - accuracy: 1.0000 - val_loss: 0.1087 - val_accuracy: 0.9806\n",
            "Epoch 44/100\n",
            "96/96 [==============================] - 0s 4ms/step - loss: 3.8903e-05 - accuracy: 1.0000 - val_loss: 0.1095 - val_accuracy: 0.9803\n",
            "Epoch 45/100\n",
            "96/96 [==============================] - 0s 4ms/step - loss: 3.6281e-05 - accuracy: 1.0000 - val_loss: 0.1096 - val_accuracy: 0.9807\n",
            "Epoch 46/100\n",
            "96/96 [==============================] - 0s 4ms/step - loss: 3.3583e-05 - accuracy: 1.0000 - val_loss: 0.1105 - val_accuracy: 0.9807\n",
            "Epoch 47/100\n",
            "96/96 [==============================] - 0s 4ms/step - loss: 3.1426e-05 - accuracy: 1.0000 - val_loss: 0.1111 - val_accuracy: 0.9807\n",
            "Epoch 48/100\n",
            "96/96 [==============================] - 0s 4ms/step - loss: 2.8991e-05 - accuracy: 1.0000 - val_loss: 0.1116 - val_accuracy: 0.9802\n",
            "Epoch 49/100\n",
            "96/96 [==============================] - 0s 4ms/step - loss: 2.7189e-05 - accuracy: 1.0000 - val_loss: 0.1125 - val_accuracy: 0.9804\n",
            "Epoch 50/100\n",
            "96/96 [==============================] - 0s 4ms/step - loss: 2.5192e-05 - accuracy: 1.0000 - val_loss: 0.1128 - val_accuracy: 0.9808\n",
            "Epoch 51/100\n",
            "96/96 [==============================] - 0s 4ms/step - loss: 2.4644e-05 - accuracy: 1.0000 - val_loss: 0.1134 - val_accuracy: 0.9808\n",
            "Epoch 52/100\n",
            "96/96 [==============================] - 0s 4ms/step - loss: 2.3777e-05 - accuracy: 1.0000 - val_loss: 0.1143 - val_accuracy: 0.9805\n",
            "Epoch 53/100\n",
            "96/96 [==============================] - 0s 4ms/step - loss: 2.1194e-05 - accuracy: 1.0000 - val_loss: 0.1154 - val_accuracy: 0.9804\n",
            "Epoch 54/100\n",
            "96/96 [==============================] - 0s 4ms/step - loss: 1.9613e-05 - accuracy: 1.0000 - val_loss: 0.1156 - val_accuracy: 0.9805\n",
            "Epoch 55/100\n",
            "96/96 [==============================] - 0s 4ms/step - loss: 1.7848e-05 - accuracy: 1.0000 - val_loss: 0.1156 - val_accuracy: 0.9808\n",
            "Epoch 56/100\n",
            "96/96 [==============================] - 0s 5ms/step - loss: 1.6669e-05 - accuracy: 1.0000 - val_loss: 0.1167 - val_accuracy: 0.9808\n",
            "Epoch 57/100\n",
            "96/96 [==============================] - 0s 5ms/step - loss: 1.5516e-05 - accuracy: 1.0000 - val_loss: 0.1176 - val_accuracy: 0.9805\n",
            "Epoch 58/100\n",
            "96/96 [==============================] - 0s 5ms/step - loss: 1.4618e-05 - accuracy: 1.0000 - val_loss: 0.1175 - val_accuracy: 0.9804\n",
            "Epoch 59/100\n",
            "96/96 [==============================] - 0s 4ms/step - loss: 1.3883e-05 - accuracy: 1.0000 - val_loss: 0.1182 - val_accuracy: 0.9807\n",
            "Epoch 60/100\n",
            "96/96 [==============================] - 0s 5ms/step - loss: 1.3190e-05 - accuracy: 1.0000 - val_loss: 0.1191 - val_accuracy: 0.9806\n",
            "Epoch 61/100\n",
            "96/96 [==============================] - 0s 4ms/step - loss: 1.2152e-05 - accuracy: 1.0000 - val_loss: 0.1192 - val_accuracy: 0.9803\n",
            "Epoch 62/100\n",
            "96/96 [==============================] - 0s 4ms/step - loss: 1.1236e-05 - accuracy: 1.0000 - val_loss: 0.1203 - val_accuracy: 0.9807\n",
            "Epoch 63/100\n",
            "96/96 [==============================] - 0s 5ms/step - loss: 1.1081e-05 - accuracy: 1.0000 - val_loss: 0.1209 - val_accuracy: 0.9805\n",
            "Epoch 64/100\n",
            "96/96 [==============================] - 0s 5ms/step - loss: 1.0274e-05 - accuracy: 1.0000 - val_loss: 0.1217 - val_accuracy: 0.9807\n",
            "Epoch 65/100\n",
            "96/96 [==============================] - 0s 5ms/step - loss: 9.6681e-06 - accuracy: 1.0000 - val_loss: 0.1218 - val_accuracy: 0.9803\n",
            "Epoch 66/100\n",
            "96/96 [==============================] - 0s 5ms/step - loss: 8.7715e-06 - accuracy: 1.0000 - val_loss: 0.1224 - val_accuracy: 0.9808\n",
            "Epoch 67/100\n",
            "96/96 [==============================] - 0s 4ms/step - loss: 8.3064e-06 - accuracy: 1.0000 - val_loss: 0.1230 - val_accuracy: 0.9810\n",
            "Epoch 68/100\n",
            "96/96 [==============================] - 0s 4ms/step - loss: 7.9734e-06 - accuracy: 1.0000 - val_loss: 0.1234 - val_accuracy: 0.9806\n",
            "Epoch 69/100\n",
            "96/96 [==============================] - 0s 5ms/step - loss: 7.4150e-06 - accuracy: 1.0000 - val_loss: 0.1245 - val_accuracy: 0.9808\n",
            "Epoch 70/100\n",
            "96/96 [==============================] - 0s 4ms/step - loss: 7.0385e-06 - accuracy: 1.0000 - val_loss: 0.1248 - val_accuracy: 0.9806\n",
            "Epoch 71/100\n",
            "96/96 [==============================] - 0s 5ms/step - loss: 6.8807e-06 - accuracy: 1.0000 - val_loss: 0.1254 - val_accuracy: 0.9806\n",
            "Epoch 72/100\n",
            "96/96 [==============================] - 0s 5ms/step - loss: 6.2591e-06 - accuracy: 1.0000 - val_loss: 0.1260 - val_accuracy: 0.9803\n",
            "Epoch 73/100\n",
            "96/96 [==============================] - 0s 4ms/step - loss: 5.8645e-06 - accuracy: 1.0000 - val_loss: 0.1265 - val_accuracy: 0.9805\n",
            "Epoch 74/100\n",
            "96/96 [==============================] - 0s 4ms/step - loss: 5.5577e-06 - accuracy: 1.0000 - val_loss: 0.1272 - val_accuracy: 0.9808\n",
            "Epoch 75/100\n",
            "96/96 [==============================] - 0s 5ms/step - loss: 5.2884e-06 - accuracy: 1.0000 - val_loss: 0.1279 - val_accuracy: 0.9804\n",
            "Epoch 76/100\n",
            "96/96 [==============================] - 0s 4ms/step - loss: 4.8162e-06 - accuracy: 1.0000 - val_loss: 0.1283 - val_accuracy: 0.9804\n",
            "Epoch 77/100\n",
            "96/96 [==============================] - 0s 4ms/step - loss: 4.6570e-06 - accuracy: 1.0000 - val_loss: 0.1281 - val_accuracy: 0.9807\n",
            "Epoch 78/100\n",
            "96/96 [==============================] - 0s 5ms/step - loss: 4.2995e-06 - accuracy: 1.0000 - val_loss: 0.1295 - val_accuracy: 0.9807\n",
            "Epoch 79/100\n",
            "96/96 [==============================] - 0s 5ms/step - loss: 3.9618e-06 - accuracy: 1.0000 - val_loss: 0.1298 - val_accuracy: 0.9804\n",
            "Epoch 80/100\n",
            "96/96 [==============================] - 0s 5ms/step - loss: 3.8535e-06 - accuracy: 1.0000 - val_loss: 0.1304 - val_accuracy: 0.9806\n",
            "Epoch 81/100\n",
            "96/96 [==============================] - 0s 4ms/step - loss: 3.6359e-06 - accuracy: 1.0000 - val_loss: 0.1308 - val_accuracy: 0.9806\n",
            "Epoch 82/100\n",
            "96/96 [==============================] - 0s 5ms/step - loss: 3.4030e-06 - accuracy: 1.0000 - val_loss: 0.1320 - val_accuracy: 0.9805\n",
            "Epoch 83/100\n",
            "96/96 [==============================] - 0s 4ms/step - loss: 3.1188e-06 - accuracy: 1.0000 - val_loss: 0.1318 - val_accuracy: 0.9806\n",
            "Epoch 84/100\n",
            "96/96 [==============================] - 0s 5ms/step - loss: 3.0080e-06 - accuracy: 1.0000 - val_loss: 0.1324 - val_accuracy: 0.9808\n",
            "Epoch 85/100\n",
            "96/96 [==============================] - 0s 4ms/step - loss: 2.8235e-06 - accuracy: 1.0000 - val_loss: 0.1330 - val_accuracy: 0.9804\n",
            "Epoch 86/100\n",
            "96/96 [==============================] - 0s 5ms/step - loss: 2.6795e-06 - accuracy: 1.0000 - val_loss: 0.1342 - val_accuracy: 0.9808\n",
            "Epoch 87/100\n",
            "96/96 [==============================] - 0s 4ms/step - loss: 2.5918e-06 - accuracy: 1.0000 - val_loss: 0.1339 - val_accuracy: 0.9807\n",
            "Epoch 88/100\n",
            "96/96 [==============================] - 0s 5ms/step - loss: 2.4373e-06 - accuracy: 1.0000 - val_loss: 0.1346 - val_accuracy: 0.9808\n",
            "Epoch 89/100\n",
            "96/96 [==============================] - 0s 5ms/step - loss: 2.2406e-06 - accuracy: 1.0000 - val_loss: 0.1350 - val_accuracy: 0.9807\n",
            "Epoch 90/100\n",
            "96/96 [==============================] - 0s 5ms/step - loss: 2.0634e-06 - accuracy: 1.0000 - val_loss: 0.1358 - val_accuracy: 0.9804\n",
            "Epoch 91/100\n",
            "96/96 [==============================] - 0s 5ms/step - loss: 2.0397e-06 - accuracy: 1.0000 - val_loss: 0.1364 - val_accuracy: 0.9805\n",
            "Epoch 92/100\n",
            "96/96 [==============================] - 0s 5ms/step - loss: 1.8923e-06 - accuracy: 1.0000 - val_loss: 0.1365 - val_accuracy: 0.9808\n",
            "Epoch 93/100\n",
            "96/96 [==============================] - 0s 5ms/step - loss: 1.7856e-06 - accuracy: 1.0000 - val_loss: 0.1375 - val_accuracy: 0.9810\n",
            "Epoch 94/100\n",
            "96/96 [==============================] - 0s 5ms/step - loss: 1.6883e-06 - accuracy: 1.0000 - val_loss: 0.1378 - val_accuracy: 0.9808\n",
            "Epoch 95/100\n",
            "96/96 [==============================] - 0s 5ms/step - loss: 1.6124e-06 - accuracy: 1.0000 - val_loss: 0.1384 - val_accuracy: 0.9808\n",
            "Epoch 96/100\n",
            "96/96 [==============================] - 0s 5ms/step - loss: 1.5402e-06 - accuracy: 1.0000 - val_loss: 0.1393 - val_accuracy: 0.9806\n",
            "Epoch 97/100\n",
            "96/96 [==============================] - 0s 5ms/step - loss: 1.4619e-06 - accuracy: 1.0000 - val_loss: 0.1393 - val_accuracy: 0.9807\n",
            "Epoch 98/100\n",
            "96/96 [==============================] - 0s 5ms/step - loss: 1.3246e-06 - accuracy: 1.0000 - val_loss: 0.1401 - val_accuracy: 0.9806\n",
            "Epoch 99/100\n",
            "96/96 [==============================] - 0s 5ms/step - loss: 1.3038e-06 - accuracy: 1.0000 - val_loss: 0.1404 - val_accuracy: 0.9808\n",
            "Epoch 100/100\n",
            "96/96 [==============================] - 0s 4ms/step - loss: 1.2432e-06 - accuracy: 1.0000 - val_loss: 0.1410 - val_accuracy: 0.9809\n"
          ],
          "name": "stdout"
        }
      ]
    },
    {
      "cell_type": "code",
      "metadata": {
        "colab": {
          "base_uri": "https://localhost:8080/",
          "height": 513
        },
        "id": "RNduebKj1Th2",
        "outputId": "eb1abca3-679e-4b6a-cbd8-6ca2b8b82c7d"
      },
      "source": [
        "import matplotlib.pyplot as plt\n",
        "\n",
        "epochs = range(1, len(Hist.history['loss'])+1)\n",
        "\n",
        "plt.plot(epochs, Hist.history['loss'])\n",
        "plt.plot(epochs, Hist.history['val_loss'])\n",
        "plt.legend(['loss','val_loss'])\n",
        "plt.show()\n",
        "\n",
        "plt.plot(epochs, Hist.history['accuracy'])\n",
        "plt.plot(epochs, Hist.history['val_accuracy'])\n",
        "plt.legend(['accuracy','val_accuracy'])\n",
        "plt.show()"
      ],
      "execution_count": 17,
      "outputs": [
        {
          "output_type": "display_data",
          "data": {
            "image/png": "[encoded data removed]",
            "text/plain": [
              "<Figure size 432x288 with 1 Axes>"
            ]
          },
          "metadata": {
            "tags": [],
            "needs_background": "light"
          }
        },
        {
          "output_type": "display_data",
          "data": {
            "image/png": "[encoded data removed]",
            "text/plain": [
              "<Figure size 432x288 with 1 Axes>"
            ]
          },
          "metadata": {
            "tags": [],
            "needs_background": "light"
          }
        }
      ]
    },
    {
      "cell_type": "code",
      "metadata": {
        "colab": {
          "base_uri": "https://localhost:8080/"
        },
        "id": "kgG5e-ib1vDx",
        "outputId": "2946f49f-c038-4913-a5e9-cd87484f5445"
      },
      "source": [
        "loss, accuracy = model.evaluate(X_test, y_test)\n",
        "loss, accuracy"
      ],
      "execution_count": 18,
      "outputs": [
        {
          "output_type": "stream",
          "text": [
            "313/313 [==============================] - 1s 2ms/step - loss: 0.1056 - accuracy: 0.9828\n"
          ],
          "name": "stdout"
        },
        {
          "output_type": "execute_result",
          "data": {
            "text/plain": [
              "(0.10556831955909729, 0.9828000068664551)"
            ]
          },
          "metadata": {
            "tags": []
          },
          "execution_count": 18
        }
      ]
    },
    {
      "cell_type": "code",
      "metadata": {
        "colab": {
          "base_uri": "https://localhost:8080/"
        },
        "id": "_gz0wzo31_em",
        "outputId": "347d4cb9-65db-4773-e80c-881e6b2b5857"
      },
      "source": [
        "np.set_printoptions(suppress=True, precision=9)\n",
        "\n",
        "print(model.predict(X_test[:1,:]))"
      ],
      "execution_count": 20,
      "outputs": [
        {
          "output_type": "stream",
          "text": [
            "[[0. 0. 0. 0. 0. 0. 0. 1. 0. 0.]]\n"
          ],
          "name": "stdout"
        }
      ]
    },
    {
      "cell_type": "code",
      "metadata": {
        "colab": {
          "base_uri": "https://localhost:8080/"
        },
        "id": "46olc9Z02QV8",
        "outputId": "aa6a1cef-dec3-4554-99ff-d7a14c5d1901"
      },
      "source": [
        "print(model.predict_classes(X_test[:1,:]))"
      ],
      "execution_count": 21,
      "outputs": [
        {
          "output_type": "stream",
          "text": [
            "[7]\n"
          ],
          "name": "stdout"
        },
        {
          "output_type": "stream",
          "text": [
            "/usr/local/lib/python3.7/dist-packages/tensorflow/python/keras/engine/sequential.py:450: UserWarning: `model.predict_classes()` is deprecated and will be removed after 2021-01-01. Please use instead:* `np.argmax(model.predict(x), axis=-1)`,   if your model does multi-class classification   (e.g. if it uses a `softmax` last-layer activation).* `(model.predict(x) > 0.5).astype(\"int32\")`,   if your model does binary classification   (e.g. if it uses a `sigmoid` last-layer activation).\n",
            "  warnings.warn('`model.predict_classes()` is deprecated and '\n"
          ],
          "name": "stderr"
        }
      ]
    },
    {
      "cell_type": "code",
      "metadata": {
        "id": "2UOKBha62Wzt"
      },
      "source": [
        ""
      ],
      "execution_count": null,
      "outputs": []
    }
  ]
}