{
 "cells": [
  {
   "cell_type": "code",
   "execution_count": 11,
   "metadata": {},
   "outputs": [
    {
     "name": "stdout",
     "output_type": "stream",
     "text": [
      "1 번째 학생 성적 총합 : 354  평균 :  88.5\n",
      "\n",
      "2 번째 학생 성적 총합 : 275  평균 :  68.75\n",
      "\n",
      "3 번째 학생 성적 총합 : 328  평균 :  82.0\n",
      "\n",
      "전체 학생의 성적 총합 : 957 학생 평균 :  79.75\n"
     ]
    }
   ],
   "source": [
    "score=[[88,76,92,98],[65,70,58,82],[82,80,78,88]]\n",
    "\n",
    "\n",
    "totalsum = 0\n",
    "totalsub = 0\n",
    "y = 1\n",
    "for i in score:\n",
    "    x = 0\n",
    "    sum = 0\n",
    "    for x in i:\n",
    "        sum += x\n",
    "    print(y, \"번째 학생 성적 총합 :\", sum, ' 평균 : ', sum/len(i))\n",
    "    y += 1\n",
    "    totalsum += sum\n",
    "    totalsub += len(i)\n",
    "    print()\n",
    "\n",
    "print('전체 학생의 성적 총합 :', totalsum, '학생 평균 : ', totalsum/totalsub)\n"
   ]
  },
  {
   "cell_type": "code",
   "execution_count": 12,
   "metadata": {},
   "outputs": [
    {
     "name": "stdout",
     "output_type": "stream",
     "text": [
      "[2, 4, 6, 8, 10, 12, 14, 16, 18, 20]\n"
     ]
    }
   ],
   "source": [
    "num = [n*2 for n in range(1,11)]\n",
    "print(num)"
   ]
  },
  {
   "cell_type": "code",
   "execution_count": 14,
   "metadata": {},
   "outputs": [
    {
     "name": "stdout",
     "output_type": "stream",
     "text": [
      "[2, 4, 6, 8, 10, 12, 14, 16, 18, 20]\n"
     ]
    }
   ],
   "source": [
    "num = [n*2 for n in range(1,11)]\n",
    "print(num)"
   ]
  },
  {
   "cell_type": "code",
   "execution_count": 15,
   "metadata": {},
   "outputs": [
    {
     "name": "stdout",
     "output_type": "stream",
     "text": [
      "2\n",
      "4\n",
      "6\n",
      "8\n",
      "10\n",
      "12\n",
      "14\n",
      "16\n",
      "18\n",
      "20\n"
     ]
    }
   ],
   "source": [
    "num = [ n*2 for n in range(1,11)]\n",
    "\n",
    "for i in num:\n",
    "    print(i)"
   ]
  },
  {
   "cell_type": "code",
   "execution_count": 18,
   "metadata": {},
   "outputs": [
    {
     "name": "stdout",
     "output_type": "stream",
     "text": [
      "[1, 2, 3, 4, 5]\n",
      "\n",
      "[1, 2, 100, 3, 4, 5]\n"
     ]
    }
   ],
   "source": [
    "nums= [1,2,3,4]\n",
    "nums.append(5)\n",
    "print(nums)\n",
    "print()\n",
    "nums.insert(2,100)\n",
    "print(nums)"
   ]
  },
  {
   "cell_type": "code",
   "execution_count": 19,
   "metadata": {},
   "outputs": [
    {
     "ename": "TypeError",
     "evalue": "insert expected 2 arguments, got 1",
     "output_type": "error",
     "traceback": [
      "\u001b[1;31m---------------------------------------------------------------------------\u001b[0m",
      "\u001b[1;31mTypeError\u001b[0m                                 Traceback (most recent call last)",
      "\u001b[1;32m<ipython-input-19-b7cedf31c22c>\u001b[0m in \u001b[0;36m<module>\u001b[1;34m\u001b[0m\n\u001b[1;32m----> 1\u001b[1;33m \u001b[0mnums\u001b[0m\u001b[1;33m.\u001b[0m\u001b[0minsert\u001b[0m\u001b[1;33m(\u001b[0m\u001b[1;36m2\u001b[0m\u001b[1;33m)\u001b[0m\u001b[1;33m\u001b[0m\u001b[1;33m\u001b[0m\u001b[0m\n\u001b[0m",
      "\u001b[1;31mTypeError\u001b[0m: insert expected 2 arguments, got 1"
     ]
    }
   ],
   "source": [
    "nums.insert(2)"
   ]
  },
  {
   "cell_type": "code",
   "execution_count": 21,
   "metadata": {},
   "outputs": [
    {
     "name": "stdout",
     "output_type": "stream",
     "text": [
      "[1, 2, 10, 100, 1000, 3, 4]\n",
      "\n",
      "[1, 2, [10, 100, 1000], 4]\n"
     ]
    }
   ],
   "source": [
    "nums=[1,2,3,4]\n",
    "nums[2:2] = [10,100,1000]\n",
    "print(nums)\n",
    "print()\n",
    "nums = [1,2,3,4]\n",
    "nums[2]=[10,100,1000]\n",
    "print(nums)"
   ]
  },
  {
   "cell_type": "code",
   "execution_count": 23,
   "metadata": {},
   "outputs": [
    {
     "name": "stdout",
     "output_type": "stream",
     "text": [
      "[1, 2, 10, 11]\n"
     ]
    }
   ],
   "source": [
    "list1 =[1,2]\n",
    "list2 = [10,11]\n",
    "list1.extend(list2)\n",
    "print(list1)"
   ]
  },
  {
   "cell_type": "code",
   "execution_count": 24,
   "metadata": {},
   "outputs": [
    {
     "name": "stdout",
     "output_type": "stream",
     "text": [
      "[1, 2, 10, 11]\n"
     ]
    }
   ],
   "source": [
    "list1 = [1,2]\n",
    "list2 = (10,11)\n",
    "list1.extend(list2)\n",
    "print(list1)"
   ]
  },
  {
   "cell_type": "code",
   "execution_count": 25,
   "metadata": {},
   "outputs": [
    {
     "ename": "AttributeError",
     "evalue": "'tuple' object has no attribute 'extend'",
     "output_type": "error",
     "traceback": [
      "\u001b[1;31m---------------------------------------------------------------------------\u001b[0m",
      "\u001b[1;31mAttributeError\u001b[0m                            Traceback (most recent call last)",
      "\u001b[1;32m<ipython-input-25-44a5e06f5707>\u001b[0m in \u001b[0;36m<module>\u001b[1;34m\u001b[0m\n\u001b[0;32m      1\u001b[0m \u001b[0mlist1\u001b[0m\u001b[1;33m=\u001b[0m\u001b[1;33m(\u001b[0m\u001b[1;36m1\u001b[0m\u001b[1;33m,\u001b[0m\u001b[1;36m2\u001b[0m\u001b[1;33m)\u001b[0m\u001b[1;33m\u001b[0m\u001b[1;33m\u001b[0m\u001b[0m\n\u001b[0;32m      2\u001b[0m \u001b[0mlist2\u001b[0m\u001b[1;33m=\u001b[0m\u001b[1;33m[\u001b[0m\u001b[1;36m10\u001b[0m\u001b[1;33m,\u001b[0m\u001b[1;36m11\u001b[0m\u001b[1;33m]\u001b[0m\u001b[1;33m\u001b[0m\u001b[1;33m\u001b[0m\u001b[0m\n\u001b[1;32m----> 3\u001b[1;33m \u001b[0mlist1\u001b[0m\u001b[1;33m.\u001b[0m\u001b[0mextend\u001b[0m\u001b[1;33m(\u001b[0m\u001b[0mlist2\u001b[0m\u001b[1;33m)\u001b[0m\u001b[1;33m\u001b[0m\u001b[1;33m\u001b[0m\u001b[0m\n\u001b[0m\u001b[0;32m      4\u001b[0m \u001b[0mprint\u001b[0m\u001b[1;33m(\u001b[0m\u001b[0mlist1\u001b[0m\u001b[1;33m)\u001b[0m\u001b[1;33m\u001b[0m\u001b[1;33m\u001b[0m\u001b[0m\n",
      "\u001b[1;31mAttributeError\u001b[0m: 'tuple' object has no attribute 'extend'"
     ]
    }
   ],
   "source": [
    "list1=(1,2)\n",
    "list2=[10,11]\n",
    "list1.extend(list2)\n",
    "print(list1)"
   ]
  },
  {
   "cell_type": "code",
   "execution_count": 45,
   "metadata": {},
   "outputs": [
    {
     "name": "stdout",
     "output_type": "stream",
     "text": [
      "[88, 95, 70, 100, 99, 80, 78]\n"
     ]
    },
    {
     "ename": "ValueError",
     "evalue": "list.remove(x): x not in list",
     "output_type": "error",
     "traceback": [
      "\u001b[1;31m---------------------------------------------------------------------------\u001b[0m",
      "\u001b[1;31mValueError\u001b[0m                                Traceback (most recent call last)",
      "\u001b[1;32m<ipython-input-45-eb99cc16e880>\u001b[0m in \u001b[0;36m<module>\u001b[1;34m\u001b[0m\n\u001b[0;32m      2\u001b[0m \u001b[0mscore\u001b[0m\u001b[1;33m.\u001b[0m\u001b[0mremove\u001b[0m\u001b[1;33m(\u001b[0m\u001b[1;36m50\u001b[0m\u001b[1;33m)\u001b[0m\u001b[1;33m\u001b[0m\u001b[1;33m\u001b[0m\u001b[0m\n\u001b[0;32m      3\u001b[0m \u001b[0mprint\u001b[0m\u001b[1;33m(\u001b[0m\u001b[0mscore\u001b[0m\u001b[1;33m)\u001b[0m\u001b[1;33m\u001b[0m\u001b[1;33m\u001b[0m\u001b[0m\n\u001b[1;32m----> 4\u001b[1;33m \u001b[0mscore\u001b[0m\u001b[1;33m.\u001b[0m\u001b[0mremove\u001b[0m\u001b[1;33m(\u001b[0m\u001b[1;36m1\u001b[0m\u001b[1;33m)\u001b[0m\u001b[1;33m\u001b[0m\u001b[1;33m\u001b[0m\u001b[0m\n\u001b[0m\u001b[0;32m      5\u001b[0m \u001b[0mprint\u001b[0m\u001b[1;33m(\u001b[0m\u001b[0mscore\u001b[0m\u001b[1;33m)\u001b[0m\u001b[1;33m\u001b[0m\u001b[1;33m\u001b[0m\u001b[0m\n",
      "\u001b[1;31mValueError\u001b[0m: list.remove(x): x not in list"
     ]
    }
   ],
   "source": [
    "score = [88,95,70,100,99,80,78,50]\n",
    "score.remove(50)\n",
    "print(score)\n",
    "score.remove(1)\n",
    "print(score)"
   ]
  },
  {
   "cell_type": "code",
   "execution_count": 32,
   "metadata": {},
   "outputs": [
    {
     "name": "stdout",
     "output_type": "stream",
     "text": [
      "[88, 95, 70, 100, 99, 80]\n"
     ]
    }
   ],
   "source": [
    "del (score[6])\n",
    "print(score)"
   ]
  },
  {
   "cell_type": "code",
   "execution_count": 33,
   "metadata": {},
   "outputs": [
    {
     "name": "stdout",
     "output_type": "stream",
     "text": [
      "[88, 95]\n"
     ]
    }
   ],
   "source": [
    "score[2:6]=[]\n",
    "print(score)"
   ]
  },
  {
   "cell_type": "code",
   "execution_count": 34,
   "metadata": {},
   "outputs": [
    {
     "ename": "SyntaxError",
     "evalue": "cannot delete function call (<ipython-input-34-8f816d3208d9>, line 1)",
     "output_type": "error",
     "traceback": [
      "\u001b[1;36m  File \u001b[1;32m\"<ipython-input-34-8f816d3208d9>\"\u001b[1;36m, line \u001b[1;32m1\u001b[0m\n\u001b[1;33m    del (score(95))\u001b[0m\n\u001b[1;37m        ^\u001b[0m\n\u001b[1;31mSyntaxError\u001b[0m\u001b[1;31m:\u001b[0m cannot delete function call\n"
     ]
    }
   ],
   "source": [
    "del (score(95))"
   ]
  },
  {
   "cell_type": "code",
   "execution_count": 42,
   "metadata": {},
   "outputs": [
    {
     "ename": "SyntaxError",
     "evalue": "invalid syntax (<ipython-input-42-9551bede5a1f>, line 1)",
     "output_type": "error",
     "traceback": [
      "\u001b[1;36m  File \u001b[1;32m\"<ipython-input-42-9551bede5a1f>\"\u001b[1;36m, line \u001b[1;32m1\u001b[0m\n\u001b[1;33m    help(.del)\u001b[0m\n\u001b[1;37m         ^\u001b[0m\n\u001b[1;31mSyntaxError\u001b[0m\u001b[1;31m:\u001b[0m invalid syntax\n"
     ]
    }
   ],
   "source": [
    "help(del)"
   ]
  },
  {
   "cell_type": "code",
   "execution_count": 47,
   "metadata": {},
   "outputs": [
    {
     "name": "stdout",
     "output_type": "stream",
     "text": [
      "70\n",
      "[88, 95, 100, 99]\n",
      "99\n",
      "[88, 95, 100]\n",
      "95\n",
      "[88, 100]\n"
     ]
    }
   ],
   "source": [
    "score = [88,95,70,100,99]\n",
    "print(score.pop(2))\n",
    "print(score)\n",
    "print(score.pop())\n",
    "print(score)\n",
    "print(score.pop(1))\n",
    "print(score)"
   ]
  },
  {
   "cell_type": "code",
   "execution_count": 51,
   "metadata": {},
   "outputs": [
    {
     "name": "stdout",
     "output_type": "stream",
     "text": [
      "만점 받은 학생은 4 번입니다\n"
     ]
    }
   ],
   "source": [
    "score=[88,95,70,100,99,80,78,50]\n",
    "perfect = score.index(100)\n",
    "print('만점 받은 학생은',str(perfect+1),'번입니다')"
   ]
  },
  {
   "cell_type": "code",
   "execution_count": 52,
   "metadata": {},
   "outputs": [
    {
     "name": "stdout",
     "output_type": "stream",
     "text": [
      "만점자 수는 1명입니다\n"
     ]
    }
   ],
   "source": [
    "pernum = score.count(100)\n",
    "print('만점자 수는',str(pernum)+'명입니다')"
   ]
  },
  {
   "cell_type": "code",
   "execution_count": 53,
   "metadata": {},
   "outputs": [
    {
     "name": "stdout",
     "output_type": "stream",
     "text": [
      "학생 수는 8명입니다\n",
      "최고 점수는 100점 입니다\n",
      "최저 점수는 50점 입니다\n"
     ]
    }
   ],
   "source": [
    "print('학생 수는 %d명입니다'%len(score))\n",
    "print('최고 점수는 %d점 입니다'%max(score))\n",
    "print('최저 점수는 %d점 입니다'%min(score))"
   ]
  },
  {
   "cell_type": "code",
   "execution_count": 72,
   "metadata": {},
   "outputs": [
    {
     "name": "stdout",
     "output_type": "stream",
     "text": [
      "결제하겠습니까?당근\n",
      "구입해주셔서 감사합니다\n"
     ]
    }
   ],
   "source": [
    "ans = input('결제하겠습니까?')\n",
    "if ans in ['yes','y','ok','예','네','당근']:\n",
    "    print('구입해주셔서 감사합니다')\n",
    "else:\n",
    "    print('안녕히 가세요')"
   ]
  },
  {
   "cell_type": "code",
   "execution_count": 76,
   "metadata": {},
   "outputs": [
    {
     "name": "stdout",
     "output_type": "stream",
     "text": [
      "결제하겠습니까?no\n"
     ]
    }
   ],
   "source": [
    "ans = input('결제하겠습니까?')\n",
    "if ans == 'y' or ans == 'yes' or ans == 'ok' or ans =='예' or ans =='당근':\n",
    "    print('구입해주셔서 감사합니다')"
   ]
  },
  {
   "cell_type": "code",
   "execution_count": 78,
   "metadata": {},
   "outputs": [
    {
     "name": "stdout",
     "output_type": "stream",
     "text": [
      "[70, 88, 95, 99, 100]\n"
     ]
    }
   ],
   "source": [
    "score = [88,95,70,100,99]\n",
    "score.sort()\n",
    "print(score)"
   ]
  },
  {
   "cell_type": "code",
   "execution_count": 79,
   "metadata": {},
   "outputs": [
    {
     "name": "stdout",
     "output_type": "stream",
     "text": [
      "[100, 99, 95, 88, 70]\n"
     ]
    }
   ],
   "source": [
    "score.reverse()\n",
    "print(score)"
   ]
  },
  {
   "cell_type": "code",
   "execution_count": 80,
   "metadata": {},
   "outputs": [
    {
     "name": "stdout",
     "output_type": "stream",
     "text": [
      "None\n"
     ]
    }
   ],
   "source": [
    "print(score.sort())"
   ]
  },
  {
   "cell_type": "code",
   "execution_count": 85,
   "metadata": {},
   "outputs": [
    {
     "name": "stdout",
     "output_type": "stream",
     "text": [
      "[88, 95, 70, 100, 99]\n",
      "[70, 88, 95, 99, 100]\n"
     ]
    }
   ],
   "source": [
    "score = [88,95,70,100,99]\n",
    "score2 = sorted(score)\n",
    "print(score)\n",
    "print(score2)"
   ]
  },
  {
   "cell_type": "code",
   "execution_count": 86,
   "metadata": {},
   "outputs": [
    {
     "name": "stdout",
     "output_type": "stream",
     "text": [
      "['CHINA', 'Korea', 'america', 'japan']\n"
     ]
    }
   ],
   "source": [
    "country =[\"Korea\",\"japan\",\"CHINA\",\"america\"]\n",
    "country.sort()\n",
    "print(country)"
   ]
  },
  {
   "cell_type": "code",
   "execution_count": 87,
   "metadata": {},
   "outputs": [
    {
     "name": "stdout",
     "output_type": "stream",
     "text": [
      "['america', 'CHINA', 'japan', 'Korea']\n"
     ]
    }
   ],
   "source": [
    "country.sort(key=str.lower)\n",
    "print(country)"
   ]
  },
  {
   "cell_type": "code",
   "execution_count": 89,
   "metadata": {},
   "outputs": [
    {
     "name": "stdout",
     "output_type": "stream",
     "text": [
      "['america', 'CHINA', 'japan', 'Korea']\n"
     ]
    }
   ],
   "source": [
    "country.sort(key=str.upper)\n",
    "print(country)"
   ]
  },
  {
   "cell_type": "code",
   "execution_count": 90,
   "metadata": {},
   "outputs": [
    {
     "name": "stdout",
     "output_type": "stream",
     "text": [
      "총점 : 452\n",
      "평균 : 90.4\n"
     ]
    }
   ],
   "source": [
    "score = (88,95,70,100,99)\n",
    "sum =0\n",
    "for s in score:\n",
    "    sum += s\n",
    "print('총점 :',sum)\n",
    "print('평균 :', sum/len(score))"
   ]
  },
  {
   "cell_type": "code",
   "execution_count": 91,
   "metadata": {},
   "outputs": [
    {
     "name": "stdout",
     "output_type": "stream",
     "text": [
      "(2,)\n",
      "2\n"
     ]
    }
   ],
   "source": [
    "tu = 2,\n",
    "value = 2\n",
    "print(tu)\n",
    "print(value)"
   ]
  },
  {
   "cell_type": "code",
   "execution_count": 92,
   "metadata": {},
   "outputs": [
    {
     "name": "stdout",
     "output_type": "stream",
     "text": [
      "(1, 2, 3, 4, 5)\n"
     ]
    }
   ],
   "source": [
    "tu = 1,2,3,4,5\n",
    "print(tu)"
   ]
  },
  {
   "cell_type": "code",
   "execution_count": 93,
   "metadata": {},
   "outputs": [
    {
     "name": "stdout",
     "output_type": "stream",
     "text": [
      "[1, 2, 3, 4, 5]\n"
     ]
    }
   ],
   "source": [
    "tu = list(tu)\n",
    "print(tu)"
   ]
  },
  {
   "cell_type": "code",
   "execution_count": 94,
   "metadata": {},
   "outputs": [
    {
     "name": "stdout",
     "output_type": "stream",
     "text": [
      "(1, 2, 3, 4, 5)\n"
     ]
    }
   ],
   "source": [
    "tu = tuple(tu)\n",
    "print(tu)"
   ]
  },
  {
   "cell_type": "code",
   "execution_count": 95,
   "metadata": {},
   "outputs": [
    {
     "name": "stdout",
     "output_type": "stream",
     "text": [
      "4\n"
     ]
    }
   ],
   "source": [
    "print(tu[3])"
   ]
  },
  {
   "cell_type": "code",
   "execution_count": 96,
   "metadata": {},
   "outputs": [
    {
     "name": "stdout",
     "output_type": "stream",
     "text": [
      "(2, 3)\n"
     ]
    }
   ],
   "source": [
    "print(tu[1:3])"
   ]
  },
  {
   "cell_type": "code",
   "execution_count": 97,
   "metadata": {},
   "outputs": [
    {
     "name": "stdout",
     "output_type": "stream",
     "text": [
      "(1, 2, 3, 4, 5, 6, 7)\n"
     ]
    }
   ],
   "source": [
    "print(tu+(6,7))"
   ]
  },
  {
   "cell_type": "code",
   "execution_count": 98,
   "metadata": {},
   "outputs": [
    {
     "name": "stdout",
     "output_type": "stream",
     "text": [
      "(1, 2, 3, 4, 5, 1, 2, 3, 4, 5)\n"
     ]
    }
   ],
   "source": [
    "print(tu*2)"
   ]
  },
  {
   "cell_type": "code",
   "execution_count": 99,
   "metadata": {},
   "outputs": [
    {
     "ename": "TypeError",
     "evalue": "'tuple' object does not support item assignment",
     "output_type": "error",
     "traceback": [
      "\u001b[1;31m---------------------------------------------------------------------------\u001b[0m",
      "\u001b[1;31mTypeError\u001b[0m                                 Traceback (most recent call last)",
      "\u001b[1;32m<ipython-input-99-07ec96e33a82>\u001b[0m in \u001b[0;36m<module>\u001b[1;34m\u001b[0m\n\u001b[1;32m----> 1\u001b[1;33m \u001b[0mtu\u001b[0m\u001b[1;33m[\u001b[0m\u001b[1;36m1\u001b[0m\u001b[1;33m]\u001b[0m \u001b[1;33m=\u001b[0m \u001b[1;36m100\u001b[0m\u001b[1;33m\u001b[0m\u001b[1;33m\u001b[0m\u001b[0m\n\u001b[0m\u001b[0;32m      2\u001b[0m \u001b[0mprint\u001b[0m\u001b[1;33m(\u001b[0m\u001b[0mtu\u001b[0m\u001b[1;33m)\u001b[0m\u001b[1;33m\u001b[0m\u001b[1;33m\u001b[0m\u001b[0m\n",
      "\u001b[1;31mTypeError\u001b[0m: 'tuple' object does not support item assignment"
     ]
    }
   ],
   "source": [
    "tu[1] = 100\n",
    "print(tu)"
   ]
  },
  {
   "cell_type": "code",
   "execution_count": 100,
   "metadata": {},
   "outputs": [
    {
     "ename": "TypeError",
     "evalue": "'tuple' object doesn't support item deletion",
     "output_type": "error",
     "traceback": [
      "\u001b[1;31m---------------------------------------------------------------------------\u001b[0m",
      "\u001b[1;31mTypeError\u001b[0m                                 Traceback (most recent call last)",
      "\u001b[1;32m<ipython-input-100-433e51ddb56d>\u001b[0m in \u001b[0;36m<module>\u001b[1;34m\u001b[0m\n\u001b[1;32m----> 1\u001b[1;33m \u001b[1;32mdel\u001b[0m \u001b[0mtu\u001b[0m\u001b[1;33m[\u001b[0m\u001b[1;36m1\u001b[0m\u001b[1;33m]\u001b[0m\u001b[1;33m\u001b[0m\u001b[1;33m\u001b[0m\u001b[0m\n\u001b[0m",
      "\u001b[1;31mTypeError\u001b[0m: 'tuple' object doesn't support item deletion"
     ]
    }
   ],
   "source": [
    "del tu[1]"
   ]
  },
  {
   "cell_type": "code",
   "execution_count": 101,
   "metadata": {},
   "outputs": [
    {
     "data": {
      "text/plain": [
       "(88, 98, 70, 100, 99)"
      ]
     },
     "execution_count": 101,
     "metadata": {},
     "output_type": "execute_result"
    }
   ],
   "source": [
    "score = [88, 98, 70, 100, 99]\n",
    "tuple(score)"
   ]
  },
  {
   "cell_type": "code",
   "execution_count": 102,
   "metadata": {},
   "outputs": [
    {
     "ename": "AttributeError",
     "evalue": "'tuple' object has no attribute 'extend'",
     "output_type": "error",
     "traceback": [
      "\u001b[1;31m---------------------------------------------------------------------------\u001b[0m",
      "\u001b[1;31mAttributeError\u001b[0m                            Traceback (most recent call last)",
      "\u001b[1;32m<ipython-input-102-e810d1140c6c>\u001b[0m in \u001b[0;36m<module>\u001b[1;34m\u001b[0m\n\u001b[1;32m----> 1\u001b[1;33m \u001b[0mtu\u001b[0m\u001b[1;33m.\u001b[0m\u001b[0mextend\u001b[0m\u001b[1;33m(\u001b[0m\u001b[1;36m1\u001b[0m\u001b[1;33m,\u001b[0m\u001b[1;36m2\u001b[0m\u001b[1;33m)\u001b[0m\u001b[1;33m\u001b[0m\u001b[1;33m\u001b[0m\u001b[0m\n\u001b[0m\u001b[0;32m      2\u001b[0m \u001b[0mprint\u001b[0m\u001b[1;33m(\u001b[0m\u001b[0mtu\u001b[0m\u001b[1;33m)\u001b[0m\u001b[1;33m\u001b[0m\u001b[1;33m\u001b[0m\u001b[0m\n",
      "\u001b[1;31mAttributeError\u001b[0m: 'tuple' object has no attribute 'extend'"
     ]
    }
   ],
   "source": [
    "tu.extend(1,2)\n",
    "print(tu)"
   ]
  },
  {
   "cell_type": "code",
   "execution_count": 103,
   "metadata": {},
   "outputs": [
    {
     "name": "stdout",
     "output_type": "stream",
     "text": [
      "이순신\n",
      "김유신\n",
      "강감찬\n"
     ]
    }
   ],
   "source": [
    "tu = \"이순신\", \"김유신\", \"강감찬\"\n",
    "lee, kim, kang = tu\n",
    "print(lee)\n",
    "print(kim)\n",
    "print(kang)"
   ]
  },
  {
   "cell_type": "code",
   "execution_count": 105,
   "metadata": {},
   "outputs": [
    {
     "name": "stdout",
     "output_type": "stream",
     "text": [
      "('이순신', '김유신', '강감찬')\n"
     ]
    }
   ],
   "source": [
    "print(tu)"
   ]
  },
  {
   "cell_type": "code",
   "execution_count": 106,
   "metadata": {},
   "outputs": [
    {
     "name": "stdout",
     "output_type": "stream",
     "text": [
      "12 34\n",
      "34 12\n"
     ]
    }
   ],
   "source": [
    "a, b = 12, 34\n",
    "print(a,b)\n",
    "a,b = b, a\n",
    "print(a,b)"
   ]
  },
  {
   "cell_type": "code",
   "execution_count": 108,
   "metadata": {},
   "outputs": [
    {
     "name": "stdout",
     "output_type": "stream",
     "text": [
      "(19, 55)\n",
      "(19, 55)\n",
      "지금은 19시 55분입니다\n"
     ]
    }
   ],
   "source": [
    "import time\n",
    "\n",
    "def gettime():\n",
    "    now = time.localtime()\n",
    "    return now.tm_hour, now.tm_min\n",
    "\n",
    "result = gettime()\n",
    "print(gettime())\n",
    "print(result)\n",
    "print('지금은 %d시 %d분입니다'%(result[0],result[1]))"
   ]
  },
  {
   "cell_type": "code",
   "execution_count": 110,
   "metadata": {},
   "outputs": [
    {
     "name": "stdout",
     "output_type": "stream",
     "text": [
      "time.struct_time(tm_year=2021, tm_mon=1, tm_mday=31, tm_hour=19, tm_min=55, tm_sec=25, tm_wday=6, tm_yday=31, tm_isdst=0)\n"
     ]
    }
   ],
   "source": [
    "print(time.localtime())"
   ]
  },
  {
   "cell_type": "code",
   "execution_count": 111,
   "metadata": {},
   "outputs": [
    {
     "name": "stdout",
     "output_type": "stream",
     "text": [
      "몫 2\n",
      "나머지 1\n"
     ]
    }
   ],
   "source": [
    "d, m = divmod(7,3)\n",
    "print('몫',d)\n",
    "print('나머지',m)"
   ]
  },
  {
   "cell_type": "code",
   "execution_count": 112,
   "metadata": {},
   "outputs": [
    {
     "name": "stdout",
     "output_type": "stream",
     "text": [
      "[88, 0, 70, 100, 99]\n"
     ]
    }
   ],
   "source": [
    "score = [88,95,70,100,99]\n",
    "score[1]=0\n",
    "print(score)"
   ]
  },
  {
   "cell_type": "code",
   "execution_count": 113,
   "metadata": {},
   "outputs": [
    {
     "name": "stdout",
     "output_type": "stream",
     "text": [
      "[2, 4, 6, 8, 10, 12, 14, 16, 18, 20, 22, 24, 26, 28, 30, 32, 34, 36, 38, 40, 42, 44, 46, 48, 50, 52, 54, 56, 58, 60, 62, 64, 66, 68, 70, 72, 74, 76, 78, 80, 82, 84, 86, 88, 90, 92, 94, 96, 98, 100]\n"
     ]
    }
   ],
   "source": [
    "num = [i for i in range(2,101,2)]\n",
    "print(num)"
   ]
  },
  {
   "cell_type": "code",
   "execution_count": 114,
   "metadata": {},
   "outputs": [
    {
     "name": "stdout",
     "output_type": "stream",
     "text": [
      "[2, 4, 6, 8, 10, 12, 14, 16, 18, 20, 22, 24, 26, 28, 30, 32, 34, 36, 38, 40, 42, 44, 46, 48, 50, 52, 54, 56, 58, 60, 62, 64, 66, 68, 70, 72, 74, 76, 78, 80, 82, 84, 86, 88, 90, 92, 94, 96, 98, 100]\n"
     ]
    }
   ],
   "source": [
    "num = [i for i in range(1,101) if i %2 ==0]\n",
    "print(num)"
   ]
  },
  {
   "cell_type": "code",
   "execution_count": 118,
   "metadata": {},
   "outputs": [
    {
     "name": "stdout",
     "output_type": "stream",
     "text": [
      "[2, 4, 6, 8, 10, 12, 14, 16, 18, 20, 22, 24, 26, 28, 30, 32, 34, 36, 38, 40, 42, 44, 46, 48, 50, 52, 54, 56, 58, 60, 62, 64, 66, 68, 70, 72, 74, 76, 78, 80, 82, 84, 86, 88, 90, 92, 94, 96, 98, 100]\n"
     ]
    }
   ],
   "source": [
    "num = [i*2 for i in range(1,51)]\n",
    "print(num)"
   ]
  },
  {
   "cell_type": "code",
   "execution_count": 120,
   "metadata": {},
   "outputs": [
    {
     "name": "stdout",
     "output_type": "stream",
     "text": [
      "9\n",
      "36\n",
      "81\n"
     ]
    }
   ],
   "source": [
    "for n in range(1,10):\n",
    "    if n%3 ==0:\n",
    "        print(n*n)"
   ]
  },
  {
   "cell_type": "code",
   "execution_count": 121,
   "metadata": {
    "scrolled": true
   },
   "outputs": [
    {
     "name": "stdout",
     "output_type": "stream",
     "text": [
      "[9, 36, 81]\n"
     ]
    }
   ],
   "source": [
    "num = [n*n for n in range(1,10) if n %3 ==0]\n",
    "print(num)"
   ]
  },
  {
   "cell_type": "code",
   "execution_count": 126,
   "metadata": {},
   "outputs": [
    {
     "name": "stdout",
     "output_type": "stream",
     "text": [
      "[9, 36, 81]\n",
      "9,36,81,"
     ]
    }
   ],
   "source": [
    "nums = []\n",
    "for n in range(1,10):\n",
    "    if n % 3 == 0:\n",
    "        nums.append(n*n)\n",
    "print(nums)\n",
    "        \n",
    "for i in nums:\n",
    "    print(i, end=',')"
   ]
  },
  {
   "cell_type": "code",
   "execution_count": 128,
   "metadata": {},
   "outputs": [
    {
     "name": "stdout",
     "output_type": "stream",
     "text": [
      "1번 학생의 성적을 입력하세요 :100\n",
      "2번 학생의 성적을 입력하세요 :99\n",
      "3번 학생의 성적을 입력하세요 :88\n",
      "4번 학생의 성적을 입력하세요 :77\n",
      "5번 학생의 성적을 입력하세요 :66\n",
      "[66, 77, 88, 99, 100]\n"
     ]
    }
   ],
   "source": [
    "li = []\n",
    "for i in range(1,6):\n",
    "    score = int(input(str(i)+'번 학생의 성적을 입력하세요 :'))\n",
    "    li.append(score)\n",
    "li.sort()\n",
    "print(li)"
   ]
  },
  {
   "cell_type": "code",
   "execution_count": 130,
   "metadata": {},
   "outputs": [
    {
     "name": "stdout",
     "output_type": "stream",
     "text": [
      "1번 학생의 성적을 입력하세요 :99\n",
      "2번 학생의 성적을 입력하세요 :88\n",
      "3번 학생의 성적을 입력하세요 :7\n",
      "4번 학생의 성적을 입력하세요 :66\n",
      "5번 학생의 성적을 입력하세요 :55\n",
      "[99, 88, 7, 66, 55]\n"
     ]
    }
   ],
   "source": [
    "li = []\n",
    "for i in range(1,6):\n",
    "    score = int(input(str(i)+'번 학생의 성적을 입력하세요 :'))\n",
    "    li.append(score)\n",
    "print(li)"
   ]
  },
  {
   "cell_type": "code",
   "execution_count": 54,
   "metadata": {},
   "outputs": [],
   "source": [
    "f = open(\"Rimbaud.txt\",'wt')\n",
    "f.write(\"\"\"감각\n",
    "여름 푸른 저녁이면 들길을 가리라\\n밀잎에 찔리고, 잔풀을 밟으며\\n하여 몽상가의 발밑으로 그 신선함 느끼리\n",
    "바람은 저절로 내 맨머리를 씻겨주겠지\\n말도 않고, 생각도 않으리\n",
    "그러나 한없는 사람은 내 넋 속에 피어 오르리니,\\n나는 가리라,멀리,저 멀리, 보헤미안처럼\n",
    "계집애 데려가듯 행복하게, 자연 속으로\"\"\")\n",
    "f.close()"
   ]
  },
  {
   "cell_type": "code",
   "execution_count": 55,
   "metadata": {},
   "outputs": [
    {
     "name": "stdout",
     "output_type": "stream",
     "text": [
      "감각\n",
      "여름 푸른 저녁이면 들길을 가리라\n",
      "밀잎에 찔리고, 잔풀을 밟으며\n",
      "하여 몽상가의 발밑으로 그 신선함 느끼리\n",
      "바람은 저절로 내 맨머리를 씻겨주겠지\n",
      "말도 않고, 생각도 않으리\n",
      "그러나 한없는 사람은 내 넋 속에 피어 오르리니,\n",
      "나는 가리라,멀리,저 멀리, 보헤미안처럼\n",
      "계집애 데려가듯 행복하게, 자연 속으로\n"
     ]
    }
   ],
   "source": [
    "try:\n",
    "    f = open('Rimbaud.txt','rt')\n",
    "    text = f.read()\n",
    "    print(text)\n",
    "except:\n",
    "    print('파일이 없습니다')\n",
    "finally:\n",
    "    f.close()"
   ]
  },
  {
   "cell_type": "code",
   "execution_count": 67,
   "metadata": {},
   "outputs": [
    {
     "name": "stdout",
     "output_type": "stream",
     "text": [
      "감각\n",
      "\n",
      "여름 푸른 저녁이면 들길을 가리라\n",
      "\n",
      "밀잎에 찔리고, 잔풀을 밟으며\n",
      "\n",
      "하여 몽상가의 발밑으로 그 신선함 느끼리\n",
      "\n",
      "바람은 저절로 내 맨머리를 씻겨주겠지\n",
      "\n",
      "말도 않고, 생각도 않으리\n",
      "\n",
      "그러나 한없는 사람은 내 넋 속에 피어 오르리니,\n",
      "\n",
      "나는 가리라,멀리,저 멀리, 보헤미안처럼\n",
      "\n",
      "계집애 데려가듯 행복하게, 자연 속으로\n"
     ]
    }
   ],
   "source": [
    "f = open('Rimbaud.txt','rt')\n",
    "f1 = open('Rimbaud2.txt','wt')\n",
    "row = f.readlines()\n",
    "\n",
    "for r in row:\n",
    "    if not row:\n",
    "        break\n",
    "    else:\n",
    "        print(r)\n",
    "        f1.write(r)\n",
    "f.close()\n",
    "        "
   ]
  },
  {
   "cell_type": "code",
   "execution_count": 68,
   "metadata": {},
   "outputs": [
    {
     "name": "stdout",
     "output_type": "stream",
     "text": [
      "감각\n",
      "\n",
      "여름 푸른 저녁이면 들길을 가리라\n",
      "\n",
      "밀잎에 찔리고, 잔풀을 밟으며\n",
      "\n",
      "하여 몽상가의 발밑으로 그 신선함 느끼리\n",
      "\n",
      "바람은 저절로 내 맨머리를 씻겨주겠지\n",
      "\n",
      "말도 않고, 생각도 않으리\n",
      "\n",
      "그러나 한없는 사람은 내 넋 속에 피어 오르리니,\n",
      "\n",
      "나는 가리라,멀리,저 멀리, 보헤미안처럼\n",
      "\n",
      "계집애 데려가듯 행복하게, 자연 속으로\n"
     ]
    }
   ],
   "source": [
    "f = open('Rimbaud2.txt','rt')\n",
    "for line in f:\n",
    "    print(line)\n",
    "f.close()"
   ]
  },
  {
   "cell_type": "code",
   "execution_count": 84,
   "metadata": {},
   "outputs": [
    {
     "name": "stdout",
     "output_type": "stream",
     "text": [
      "<_io.TextIOWrapper name='Rimbaud2.txt' mode='wt' encoding='cp949'>\n"
     ]
    }
   ],
   "source": [
    "f3 = f1\n",
    "print(f3)"
   ]
  },
  {
   "cell_type": "code",
   "execution_count": null,
   "metadata": {},
   "outputs": [],
   "source": []
  }
 ],
 "metadata": {
  "kernelspec": {
   "display_name": "Python 3",
   "language": "python",
   "name": "python3"
  },
  "language_info": {
   "codemirror_mode": {
    "name": "ipython",
    "version": 3
   },
   "file_extension": ".py",
   "mimetype": "text/x-python",
   "name": "python",
   "nbconvert_exporter": "python",
   "pygments_lexer": "ipython3",
   "version": "3.8.5"
  }
 },
 "nbformat": 4,
 "nbformat_minor": 4
}
