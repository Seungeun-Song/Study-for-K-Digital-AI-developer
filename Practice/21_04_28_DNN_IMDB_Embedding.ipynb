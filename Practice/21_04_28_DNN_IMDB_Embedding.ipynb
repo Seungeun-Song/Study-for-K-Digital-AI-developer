{
  "nbformat": 4,
  "nbformat_minor": 0,
  "metadata": {
    "colab": {
      "name": "Untitled0.ipynb",
      "provenance": []
    },
    "kernelspec": {
      "display_name": "Python 3",
      "name": "python3"
    },
    "language_info": {
      "name": "python"
    }
  },
  "cells": [
    {
      "cell_type": "code",
      "metadata": {
        "colab": {
          "base_uri": "https://localhost:8080/"
        },
        "id": "1_uOsCx9FSbL",
        "outputId": "627c1ad5-8c1a-4ed1-e82c-e58096073a96"
      },
      "source": [
        "from keras.datasets import imdb\n",
        "(X_train, y_train), (X_test, y_test) = imdb.load_data(num_words=10000)"
      ],
      "execution_count": 6,
      "outputs": [
        {
          "output_type": "stream",
          "text": [
            "<string>:6: VisibleDeprecationWarning: Creating an ndarray from ragged nested sequences (which is a list-or-tuple of lists-or-tuples-or ndarrays with different lengths or shapes) is deprecated. If you meant to do this, you must specify 'dtype=object' when creating the ndarray\n",
            "/usr/local/lib/python3.7/dist-packages/tensorflow/python/keras/datasets/imdb.py:159: VisibleDeprecationWarning: Creating an ndarray from ragged nested sequences (which is a list-or-tuple of lists-or-tuples-or ndarrays with different lengths or shapes) is deprecated. If you meant to do this, you must specify 'dtype=object' when creating the ndarray\n",
            "  x_train, y_train = np.array(xs[:idx]), np.array(labels[:idx])\n",
            "/usr/local/lib/python3.7/dist-packages/tensorflow/python/keras/datasets/imdb.py:160: VisibleDeprecationWarning: Creating an ndarray from ragged nested sequences (which is a list-or-tuple of lists-or-tuples-or ndarrays with different lengths or shapes) is deprecated. If you meant to do this, you must specify 'dtype=object' when creating the ndarray\n",
            "  x_test, y_test = np.array(xs[idx:]), np.array(labels[idx:])\n"
          ],
          "name": "stderr"
        }
      ]
    },
    {
      "cell_type": "code",
      "metadata": {
        "colab": {
          "base_uri": "https://localhost:8080/"
        },
        "id": "ewGpI5UmEW2r",
        "outputId": "05b70e72-189b-46a3-bf57-4630a3836bb7"
      },
      "source": [
        "X_train.shape, y_train.shape, X_test.shape, y_test.shape"
      ],
      "execution_count": 7,
      "outputs": [
        {
          "output_type": "execute_result",
          "data": {
            "text/plain": [
              "((25000,), (25000,), (25000,), (25000,))"
            ]
          },
          "metadata": {
            "tags": []
          },
          "execution_count": 7
        }
      ]
    },
    {
      "cell_type": "code",
      "metadata": {
        "colab": {
          "base_uri": "https://localhost:8080/",
          "height": 424
        },
        "id": "CNkL1lgn51mz",
        "outputId": "d7b2e49f-f795-4cd2-de89-d07eefdbe64f"
      },
      "source": [
        "import matplotlib.pyplot as plt\n",
        "\n",
        "print('리뷰 최대 길이 :', max(len(L) for L in X_train))\n",
        "print('리뷰 평균 길이 :', sum(map(len, X_train))/len(X_train))\n",
        "\n",
        "plt.figure(figsize=(9,6))\n",
        "plt.hist([len(L) for L in X_train], bins=50)\n",
        "plt.xlabel('Length of X_train')\n",
        "plt.ylabel('Number of X_train')\n",
        "plt.show()"
      ],
      "execution_count": 3,
      "outputs": [
        {
          "output_type": "stream",
          "text": [
            "리뷰 최대 길이 : 2494\n",
            "리뷰 평균 길이 : 238.71364\n"
          ],
          "name": "stdout"
        },
        {
          "output_type": "display_data",
          "data": {
            "image/png": "[encoded data removed]",
            "text/plain": [
              "<Figure size 648x432 with 1 Axes>"
            ]
          },
          "metadata": {
            "tags": [],
            "needs_background": "light"
          }
        }
      ]
    },
    {
      "cell_type": "code",
      "metadata": {
        "colab": {
          "base_uri": "https://localhost:8080/"
        },
        "id": "_I6segGG6uKl",
        "outputId": "4137e533-0511-400b-e35b-9f9f4f411490"
      },
      "source": [
        "import numpy as np\n",
        "\n",
        "unique_elements, counts_elements = np.unique(y_train, return_counts=True)\n",
        "\n",
        "print('Label 빈도수:')\n",
        "print(np.asarray((unique_elements, counts_elements)))"
      ],
      "execution_count": 4,
      "outputs": [
        {
          "output_type": "stream",
          "text": [
            "Label 빈도수:\n",
            "[[    0     1]\n",
            " [12500 12500]]\n"
          ],
          "name": "stdout"
        }
      ]
    },
    {
      "cell_type": "code",
      "metadata": {
        "colab": {
          "base_uri": "https://localhost:8080/"
        },
        "id": "6suPjMQv7oEM",
        "outputId": "c3969d31-52f2-47dc-9136-1095ff4fe0ec"
      },
      "source": [
        "from keras.preprocessing import sequence\n",
        "\n",
        "X_train = sequence.pad_sequences(X_train, maxlen=10000 )\n",
        "X_test = sequence.pad_sequences(X_test, maxlen=10000)\n",
        "\n",
        "X_train.shape, X_test.shape"
      ],
      "execution_count": 8,
      "outputs": [
        {
          "output_type": "execute_result",
          "data": {
            "text/plain": [
              "((25000, 10000), (25000, 10000))"
            ]
          },
          "metadata": {
            "tags": []
          },
          "execution_count": 8
        }
      ]
    },
    {
      "cell_type": "code",
      "metadata": {
        "colab": {
          "base_uri": "https://localhost:8080/"
        },
        "id": "IYJx4NwJEUM-",
        "outputId": "4834cf56-8155-486a-f568-4cea4bca77a9"
      },
      "source": [
        "print(X_train[0][:21])\n",
        "print(X_train[0][9979:])\n",
        "print(X_test[0][:21])\n",
        "print(X_test[0][9979:])"
      ],
      "execution_count": 9,
      "outputs": [
        {
          "output_type": "stream",
          "text": [
            "[0 0 0 0 0 0 0 0 0 0 0 0 0 0 0 0 0 0 0 0 0]\n",
            "[ 226   65   16   38 1334   88   12   16  283    5   16 4472  113  103\n",
            "   32   15   16 5345   19  178   32]\n",
            "[0 0 0 0 0 0 0 0 0 0 0 0 0 0 0 0 0 0 0 0 0]\n",
            "[  14  286  170    8  157   46    5   27  239   16  179    2   38   32\n",
            "   25 7944  451  202   14    6  717]\n"
          ],
          "name": "stdout"
        }
      ]
    },
    {
      "cell_type": "code",
      "metadata": {
        "colab": {
          "base_uri": "https://localhost:8080/"
        },
        "id": "_Dpmt2a2EveU",
        "outputId": "35d1e1b9-3668-490a-900a-e8d94c833b32"
      },
      "source": [
        "y_train = np.asarray(y_train).astype(float)\n",
        "y_test = np.asarray(y_test).astype(float)\n",
        "\n",
        "print(y_train[0])\n",
        "print(y_train[:21])\n",
        "print(y_test[:21])"
      ],
      "execution_count": 11,
      "outputs": [
        {
          "output_type": "stream",
          "text": [
            "1.0\n",
            "[1. 0. 0. 1. 0. 0. 1. 0. 1. 0. 1. 0. 0. 0. 0. 0. 1. 1. 0. 1. 0.]\n",
            "[0. 1. 1. 0. 1. 1. 1. 0. 0. 1. 1. 0. 0. 0. 1. 0. 1. 0. 0. 0. 1.]\n"
          ],
          "name": "stdout"
        }
      ]
    },
    {
      "cell_type": "code",
      "metadata": {
        "colab": {
          "base_uri": "https://localhost:8080/"
        },
        "id": "GgdLUuIgFF2M",
        "outputId": "0b780d5d-4b40-464f-c026-8b4030f72ae0"
      },
      "source": [
        "from keras import models\n",
        "from keras import layers\n",
        "\n",
        "imdb = models.Sequential()\n",
        "imdb.add(layers.Embedding(10000, 32, input_length=10000))\n",
        "\n",
        "imdb.add(layers.Flatten())\n",
        "imdb.add(layers.Dense(16))\n",
        "imdb.add(layers.Dropout(0.5))\n",
        "imdb.add(layers.Dense(1,activation='sigmoid'))\n",
        "\n",
        "imdb.summary()"
      ],
      "execution_count": 13,
      "outputs": [
        {
          "output_type": "stream",
          "text": [
            "Model: \"sequential_1\"\n",
            "_________________________________________________________________\n",
            "Layer (type)                 Output Shape              Param #   \n",
            "=================================================================\n",
            "embedding_1 (Embedding)      (None, 10000, 32)         320000    \n",
            "_________________________________________________________________\n",
            "flatten_1 (Flatten)          (None, 320000)            0         \n",
            "_________________________________________________________________\n",
            "dense_1 (Dense)              (None, 16)                5120016   \n",
            "_________________________________________________________________\n",
            "dropout (Dropout)            (None, 16)                0         \n",
            "_________________________________________________________________\n",
            "dense_2 (Dense)              (None, 1)                 17        \n",
            "=================================================================\n",
            "Total params: 5,440,033\n",
            "Trainable params: 5,440,033\n",
            "Non-trainable params: 0\n",
            "_________________________________________________________________\n"
          ],
          "name": "stdout"
        }
      ]
    },
    {
      "cell_type": "code",
      "metadata": {
        "id": "ck-QBJZtGzFs"
      },
      "source": [
        "imdb.compile(loss='binary_crossentropy', optimizer='adam', metrics=['accuracy'])"
      ],
      "execution_count": 14,
      "outputs": []
    },
    {
      "cell_type": "code",
      "metadata": {
        "colab": {
          "base_uri": "https://localhost:8080/"
        },
        "id": "O17Hx90PHnK0",
        "outputId": "ad08b824-edb0-4c44-c230-0882781993dc"
      },
      "source": [
        "%%time\n",
        "\n",
        "Hist = imdb.fit(X_train, y_train, epochs=50, batch_size=50, validation_data=(X_test, y_test))"
      ],
      "execution_count": 15,
      "outputs": [
        {
          "output_type": "stream",
          "text": [
            "Epoch 1/50\n",
            "500/500 [==============================] - 92s 182ms/step - loss: 1.1579 - accuracy: 0.6419 - val_loss: 0.2970 - val_accuracy: 0.8752\n",
            "Epoch 2/50\n",
            "500/500 [==============================] - 91s 182ms/step - loss: 0.1966 - accuracy: 0.9338 - val_loss: 0.2898 - val_accuracy: 0.8811\n",
            "Epoch 3/50\n",
            "500/500 [==============================] - 91s 182ms/step - loss: 0.0834 - accuracy: 0.9799 - val_loss: 0.3274 - val_accuracy: 0.8807\n",
            "Epoch 4/50\n",
            "500/500 [==============================] - 92s 183ms/step - loss: 0.0272 - accuracy: 0.9973 - val_loss: 0.3829 - val_accuracy: 0.8787\n",
            "Epoch 5/50\n",
            "500/500 [==============================] - 91s 183ms/step - loss: 0.0104 - accuracy: 0.9996 - val_loss: 0.4305 - val_accuracy: 0.8797\n",
            "Epoch 6/50\n",
            "500/500 [==============================] - 91s 183ms/step - loss: 0.0052 - accuracy: 0.9999 - val_loss: 0.4786 - val_accuracy: 0.8776\n",
            "Epoch 7/50\n",
            "500/500 [==============================] - 91s 182ms/step - loss: 0.0028 - accuracy: 1.0000 - val_loss: 0.5171 - val_accuracy: 0.8800\n",
            "Epoch 8/50\n",
            "500/500 [==============================] - 91s 181ms/step - loss: 0.0019 - accuracy: 1.0000 - val_loss: 0.5551 - val_accuracy: 0.8787\n",
            "Epoch 9/50\n",
            "500/500 [==============================] - 91s 183ms/step - loss: 0.0013 - accuracy: 1.0000 - val_loss: 0.5972 - val_accuracy: 0.8779\n",
            "Epoch 10/50\n",
            "500/500 [==============================] - 91s 183ms/step - loss: 9.0550e-04 - accuracy: 1.0000 - val_loss: 0.6301 - val_accuracy: 0.8782\n",
            "Epoch 11/50\n",
            "500/500 [==============================] - 91s 182ms/step - loss: 7.4682e-04 - accuracy: 1.0000 - val_loss: 0.6665 - val_accuracy: 0.8780\n",
            "Epoch 12/50\n",
            "500/500 [==============================] - 91s 182ms/step - loss: 5.0817e-04 - accuracy: 1.0000 - val_loss: 0.6946 - val_accuracy: 0.8788\n",
            "Epoch 13/50\n",
            "500/500 [==============================] - 91s 183ms/step - loss: 3.9798e-04 - accuracy: 1.0000 - val_loss: 0.7395 - val_accuracy: 0.8780\n",
            "Epoch 14/50\n",
            "500/500 [==============================] - 91s 182ms/step - loss: 3.6145e-04 - accuracy: 1.0000 - val_loss: 0.7771 - val_accuracy: 0.8785\n",
            "Epoch 15/50\n",
            "500/500 [==============================] - 91s 183ms/step - loss: 2.1831e-04 - accuracy: 1.0000 - val_loss: 0.8142 - val_accuracy: 0.8788\n",
            "Epoch 16/50\n",
            "500/500 [==============================] - 91s 182ms/step - loss: 0.0093 - accuracy: 0.9974 - val_loss: 1.0636 - val_accuracy: 0.8645\n",
            "Epoch 17/50\n",
            "500/500 [==============================] - 91s 183ms/step - loss: 0.0064 - accuracy: 0.9979 - val_loss: 1.0471 - val_accuracy: 0.8665\n",
            "Epoch 18/50\n",
            "500/500 [==============================] - 91s 182ms/step - loss: 0.0016 - accuracy: 0.9997 - val_loss: 1.0542 - val_accuracy: 0.8680\n",
            "Epoch 19/50\n",
            "500/500 [==============================] - 91s 183ms/step - loss: 4.2756e-04 - accuracy: 1.0000 - val_loss: 1.0638 - val_accuracy: 0.8684\n",
            "Epoch 20/50\n",
            "500/500 [==============================] - 91s 182ms/step - loss: 1.7876e-04 - accuracy: 1.0000 - val_loss: 1.0746 - val_accuracy: 0.8685\n",
            "Epoch 21/50\n",
            "500/500 [==============================] - 91s 183ms/step - loss: 2.1374e-04 - accuracy: 1.0000 - val_loss: 1.0888 - val_accuracy: 0.8685\n",
            "Epoch 22/50\n",
            "500/500 [==============================] - 91s 182ms/step - loss: 2.4687e-04 - accuracy: 0.9999 - val_loss: 1.1063 - val_accuracy: 0.8687\n",
            "Epoch 23/50\n",
            "500/500 [==============================] - 91s 182ms/step - loss: 1.5714e-04 - accuracy: 1.0000 - val_loss: 1.1254 - val_accuracy: 0.8686\n",
            "Epoch 24/50\n",
            "500/500 [==============================] - 92s 183ms/step - loss: 0.0066 - accuracy: 0.9986 - val_loss: 1.3049 - val_accuracy: 0.8637\n",
            "Epoch 25/50\n",
            "500/500 [==============================] - 91s 182ms/step - loss: 0.0054 - accuracy: 0.9980 - val_loss: 1.3182 - val_accuracy: 0.8638\n",
            "Epoch 26/50\n",
            "500/500 [==============================] - 92s 184ms/step - loss: 6.2608e-04 - accuracy: 0.9999 - val_loss: 1.3711 - val_accuracy: 0.8594\n",
            "Epoch 27/50\n",
            "500/500 [==============================] - 91s 183ms/step - loss: 7.1233e-04 - accuracy: 0.9998 - val_loss: 1.3198 - val_accuracy: 0.8653\n",
            "Epoch 28/50\n",
            "500/500 [==============================] - 91s 183ms/step - loss: 6.1329e-04 - accuracy: 0.9998 - val_loss: 1.3479 - val_accuracy: 0.8645\n",
            "Epoch 29/50\n",
            "500/500 [==============================] - 91s 183ms/step - loss: 1.0527e-04 - accuracy: 1.0000 - val_loss: 1.3379 - val_accuracy: 0.8658\n",
            "Epoch 30/50\n",
            "500/500 [==============================] - 92s 183ms/step - loss: 1.3549e-04 - accuracy: 1.0000 - val_loss: 1.3469 - val_accuracy: 0.8665\n",
            "Epoch 31/50\n",
            "500/500 [==============================] - 91s 182ms/step - loss: 1.6839e-04 - accuracy: 1.0000 - val_loss: 1.3639 - val_accuracy: 0.8667\n",
            "Epoch 32/50\n",
            "500/500 [==============================] - 91s 182ms/step - loss: 1.0340e-04 - accuracy: 0.9999 - val_loss: 1.3803 - val_accuracy: 0.8664\n",
            "Epoch 33/50\n",
            "500/500 [==============================] - 91s 183ms/step - loss: 2.7185e-04 - accuracy: 1.0000 - val_loss: 1.4293 - val_accuracy: 0.8652\n",
            "Epoch 34/50\n",
            "500/500 [==============================] - 91s 183ms/step - loss: 1.8507e-04 - accuracy: 1.0000 - val_loss: 1.4594 - val_accuracy: 0.8658\n",
            "Epoch 35/50\n",
            "500/500 [==============================] - 92s 184ms/step - loss: 6.3136e-05 - accuracy: 1.0000 - val_loss: 1.4702 - val_accuracy: 0.8665\n",
            "Epoch 36/50\n",
            "500/500 [==============================] - 92s 183ms/step - loss: 0.0224 - accuracy: 0.9979 - val_loss: 1.8107 - val_accuracy: 0.8614\n",
            "Epoch 37/50\n",
            "500/500 [==============================] - 92s 183ms/step - loss: 0.0051 - accuracy: 0.9986 - val_loss: 1.6780 - val_accuracy: 0.8647\n",
            "Epoch 38/50\n",
            "500/500 [==============================] - 92s 184ms/step - loss: 7.4986e-04 - accuracy: 0.9997 - val_loss: 1.7021 - val_accuracy: 0.8655\n",
            "Epoch 39/50\n",
            "500/500 [==============================] - 92s 183ms/step - loss: 2.8482e-04 - accuracy: 0.9999 - val_loss: 1.6746 - val_accuracy: 0.8646\n",
            "Epoch 40/50\n",
            "500/500 [==============================] - 92s 183ms/step - loss: 1.9388e-04 - accuracy: 0.9999 - val_loss: 1.6885 - val_accuracy: 0.8637\n",
            "Epoch 41/50\n",
            "500/500 [==============================] - 92s 184ms/step - loss: 5.5244e-04 - accuracy: 0.9998 - val_loss: 1.7235 - val_accuracy: 0.8630\n",
            "Epoch 42/50\n",
            "500/500 [==============================] - 91s 183ms/step - loss: 1.7623e-04 - accuracy: 1.0000 - val_loss: 1.6940 - val_accuracy: 0.8648\n",
            "Epoch 43/50\n",
            "500/500 [==============================] - 91s 182ms/step - loss: 1.1899e-04 - accuracy: 1.0000 - val_loss: 1.7690 - val_accuracy: 0.8615\n",
            "Epoch 44/50\n",
            "500/500 [==============================] - 92s 183ms/step - loss: 4.6784e-04 - accuracy: 0.9998 - val_loss: 1.7247 - val_accuracy: 0.8646\n",
            "Epoch 45/50\n",
            "500/500 [==============================] - 91s 181ms/step - loss: 3.6369e-05 - accuracy: 1.0000 - val_loss: 1.7338 - val_accuracy: 0.8649\n",
            "Epoch 46/50\n",
            "500/500 [==============================] - 91s 182ms/step - loss: 6.7714e-05 - accuracy: 1.0000 - val_loss: 1.7397 - val_accuracy: 0.8651\n",
            "Epoch 47/50\n",
            "500/500 [==============================] - 91s 182ms/step - loss: 1.0040e-04 - accuracy: 1.0000 - val_loss: 1.7481 - val_accuracy: 0.8638\n",
            "Epoch 48/50\n",
            "500/500 [==============================] - 91s 183ms/step - loss: 0.0014 - accuracy: 0.9998 - val_loss: 2.0835 - val_accuracy: 0.8561\n",
            "Epoch 49/50\n",
            "500/500 [==============================] - 91s 182ms/step - loss: 0.0241 - accuracy: 0.9955 - val_loss: 1.9063 - val_accuracy: 0.8633\n",
            "Epoch 50/50\n",
            "500/500 [==============================] - 91s 182ms/step - loss: 7.5194e-04 - accuracy: 0.9997 - val_loss: 1.8931 - val_accuracy: 0.8628\n",
            "CPU times: user 2h 14min 24s, sys: 4min 10s, total: 2h 18min 34s\n",
            "Wall time: 1h 16min 4s\n"
          ],
          "name": "stdout"
        }
      ]
    },
    {
      "cell_type": "code",
      "metadata": {
        "colab": {
          "base_uri": "https://localhost:8080/",
          "height": 791
        },
        "id": "jFrsh5yhHurs",
        "outputId": "4e53792d-425a-41d4-ceac-50b46624a39d"
      },
      "source": [
        "import matplotlib.pyplot as plt\n",
        "\n",
        "\n",
        "plt.figure(figsize = (9, 6))\n",
        "plt.plot( Hist.history['loss'])\n",
        "plt.plot( Hist.history['val_loss'])\n",
        "plt.title('Training & Validation Loss')\n",
        "plt.xlabel('Epochs')\n",
        "plt.ylabel('Loss')\n",
        "plt.legend(['Training Loss', 'Validation Loss'])\n",
        "plt.grid()\n",
        "plt.show()\n",
        "\n",
        "plt.figure(figsize = (9, 6))\n",
        "plt.plot( Hist.history['accuracy'])\n",
        "plt.plot(Hist.history['val_accuracy'])\n",
        "plt.title('Training & Validation accuracy')\n",
        "plt.xlabel('Epochs')\n",
        "plt.ylabel('accuracy')\n",
        "plt.legend(['Training accuracy', 'Validation accuracy'])\n",
        "plt.grid()\n",
        "plt.show()"
      ],
      "execution_count": 17,
      "outputs": [
        {
          "output_type": "display_data",
          "data": {
            "image/png": "[encoded data removed]",
            "text/plain": [
              "<Figure size 648x432 with 1 Axes>"
            ]
          },
          "metadata": {
            "tags": [],
            "needs_background": "light"
          }
        },
        {
          "output_type": "display_data",
          "data": {
            "image/png": "[encoded data removed]",
            "text/plain": [
              "<Figure size 648x432 with 1 Axes>"
            ]
          },
          "metadata": {
            "tags": [],
            "needs_background": "light"
          }
        }
      ]
    },
    {
      "cell_type": "code",
      "metadata": {
        "colab": {
          "base_uri": "https://localhost:8080/"
        },
        "id": "pYmI_EVxJSar",
        "outputId": "1c6b20b7-cd70-4d9f-b0e2-6d66eb1c8dff"
      },
      "source": [
        "loss, accuracy = imdb.evaluate(X_test, y_test)\n",
        "print('Loss = {:.5f}'.format(loss))\n",
        "print('Accuracy = {:.5f}'.format(accuracy))"
      ],
      "execution_count": 18,
      "outputs": [
        {
          "output_type": "stream",
          "text": [
            "782/782 [==============================] - 19s 25ms/step - loss: 1.8931 - accuracy: 0.8628\n",
            "Loss = 1.89310\n",
            "Accuracy = 0.86284\n"
          ],
          "name": "stdout"
        }
      ]
    }
  ]
}