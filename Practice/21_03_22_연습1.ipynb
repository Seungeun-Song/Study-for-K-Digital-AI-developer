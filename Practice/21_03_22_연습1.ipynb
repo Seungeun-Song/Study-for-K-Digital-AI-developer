{
  "nbformat": 4,
  "nbformat_minor": 0,
  "metadata": {
    "colab": {
      "name": "Untitled0.ipynb",
      "provenance": []
    },
    "kernelspec": {
      "name": "python3",
      "display_name": "Python 3"
    },
    "language_info": {
      "name": "python"
    },
    "accelerator": "GPU"
  },
  "cells": [
    {
      "cell_type": "code",
      "metadata": {
        "colab": {
          "base_uri": "https://localhost:8080/"
        },
        "id": "Wji5aPrDJh--",
        "outputId": "1acd069f-96cd-4926-b6f4-7e0632700a8f"
      },
      "source": [
        "from keras.datasets import mnist\n",
        "\n",
        "(X_train, y_train), (X_test, y_test) = mnist.load_data()"
      ],
      "execution_count": 1,
      "outputs": [
        {
          "output_type": "stream",
          "text": [
            "Downloading data from https://storage.googleapis.com/tensorflow/tf-keras-datasets/mnist.npz\n",
            "11493376/11490434 [==============================] - 0s 0us/step\n"
          ],
          "name": "stdout"
        }
      ]
    },
    {
      "cell_type": "code",
      "metadata": {
        "colab": {
          "base_uri": "https://localhost:8080/"
        },
        "id": "xH-tKIkUJyHQ",
        "outputId": "a9706ac7-d96b-4c01-cdf8-7062319a49f0"
      },
      "source": [
        "print(X_train.shape, y_train.shape)\n",
        "print(X_test.shape, y_test.shape)"
      ],
      "execution_count": 2,
      "outputs": [
        {
          "output_type": "stream",
          "text": [
            "(60000, 28, 28) (60000,)\n",
            "(10000, 28, 28) (10000,)\n"
          ],
          "name": "stdout"
        }
      ]
    },
    {
      "cell_type": "code",
      "metadata": {
        "colab": {
          "base_uri": "https://localhost:8080/"
        },
        "id": "BkCLTBYyJtpT",
        "outputId": "f8d12d0a-be52-4dee-8a7c-914cedf97ff4"
      },
      "source": [
        "X_train = X_train.reshape((60000, 28*28))\n",
        "X_test = X_test.reshape((10000, 28*28))\n",
        "\n",
        "X_train.shape, X_test.shape"
      ],
      "execution_count": 4,
      "outputs": [
        {
          "output_type": "execute_result",
          "data": {
            "text/plain": [
              "((60000, 784), (10000, 784))"
            ]
          },
          "metadata": {
            "tags": []
          },
          "execution_count": 4
        }
      ]
    },
    {
      "cell_type": "code",
      "metadata": {
        "colab": {
          "base_uri": "https://localhost:8080/"
        },
        "id": "oybmhfQdKzgQ",
        "outputId": "d6bcd1dc-fd90-4fcc-d9eb-77114d268d88"
      },
      "source": [
        "X_train = X_train.astype(float)/255\n",
        "X_test = X_test.astype(float)/255\n",
        "\n",
        "print(X_train[4])"
      ],
      "execution_count": null,
      "outputs": [
        {
          "output_type": "stream",
          "text": [
            "[0.         0.         0.         0.         0.         0.\n",
            " 0.         0.         0.         0.         0.         0.\n",
            " 0.         0.         0.         0.         0.         0.\n",
            " 0.         0.         0.         0.         0.         0.\n",
            " 0.         0.         0.         0.         0.         0.\n",
            " 0.         0.         0.         0.         0.         0.\n",
            " 0.         0.         0.         0.         0.         0.\n",
            " 0.         0.         0.         0.         0.         0.\n",
            " 0.         0.         0.         0.         0.         0.\n",
            " 0.         0.         0.         0.         0.         0.\n",
            " 0.         0.         0.         0.         0.         0.\n",
            " 0.         0.         0.         0.         0.         0.\n",
            " 0.         0.         0.         0.         0.         0.\n",
            " 0.         0.         0.         0.         0.         0.\n",
            " 0.         0.         0.         0.         0.         0.\n",
            " 0.         0.         0.         0.         0.         0.\n",
            " 0.         0.         0.         0.         0.         0.\n",
            " 0.         0.         0.         0.         0.         0.\n",
            " 0.         0.         0.         0.         0.         0.\n",
            " 0.         0.         0.         0.         0.         0.\n",
            " 0.         0.         0.         0.         0.         0.\n",
            " 0.         0.         0.         0.         0.         0.\n",
            " 0.         0.         0.         0.         0.         0.\n",
            " 0.         0.         0.         0.         0.         0.\n",
            " 0.         0.         0.         0.         0.         0.\n",
            " 0.         0.         0.         0.         0.         0.\n",
            " 0.         0.         0.         0.         0.         0.\n",
            " 0.         0.         0.         0.         0.         0.\n",
            " 0.         0.         0.         0.         0.         0.\n",
            " 0.         0.         0.         0.         0.         0.\n",
            " 0.         0.         0.         0.         0.         0.\n",
            " 0.         0.         0.         0.         0.         0.\n",
            " 0.         0.         0.         0.         0.         0.\n",
            " 0.         0.         0.         0.         0.         0.\n",
            " 0.         0.         0.         0.         0.21568627 0.58039216\n",
            " 0.82352941 0.99215686 0.99215686 0.44313725 0.34117647 0.58039216\n",
            " 0.21568627 0.         0.         0.         0.         0.\n",
            " 0.         0.         0.         0.         0.         0.\n",
            " 0.         0.         0.         0.         0.         0.\n",
            " 0.         0.34117647 0.90980392 0.98823529 0.99215686 0.74117647\n",
            " 0.82352941 0.98823529 0.98823529 0.99215686 0.65882353 0.\n",
            " 0.         0.         0.         0.         0.         0.\n",
            " 0.         0.         0.         0.         0.         0.\n",
            " 0.         0.         0.         0.01568627 0.22352941 0.94901961\n",
            " 0.98823529 0.74509804 0.25490196 0.01960784 0.04705882 0.71372549\n",
            " 0.98823529 0.99215686 0.45490196 0.         0.         0.\n",
            " 0.         0.         0.         0.         0.         0.\n",
            " 0.         0.         0.         0.         0.         0.\n",
            " 0.         0.37647059 0.98823529 0.98823529 0.71764706 0.05490196\n",
            " 0.         0.         0.36078431 0.98823529 0.98823529 0.88235294\n",
            " 0.08235294 0.         0.         0.         0.         0.\n",
            " 0.         0.         0.         0.         0.         0.\n",
            " 0.         0.         0.         0.         0.51764706 0.99215686\n",
            " 0.98823529 0.57254902 0.05490196 0.         0.         0.\n",
            " 0.84313725 0.98823529 0.98823529 0.30980392 0.         0.\n",
            " 0.         0.         0.         0.         0.         0.\n",
            " 0.         0.         0.         0.         0.         0.\n",
            " 0.         0.49411765 0.99215686 0.96862745 0.69019608 0.03529412\n",
            " 0.         0.         0.03137255 0.30588235 0.96078431 0.99215686\n",
            " 0.50588235 0.         0.         0.         0.         0.\n",
            " 0.         0.         0.         0.         0.         0.\n",
            " 0.         0.         0.         0.         0.0627451  0.90980392\n",
            " 0.98823529 0.69019608 0.         0.         0.         0.14117647\n",
            " 0.78823529 0.98823529 0.98823529 0.6627451  0.04313725 0.\n",
            " 0.         0.         0.         0.         0.         0.\n",
            " 0.         0.         0.         0.         0.         0.\n",
            " 0.         0.         0.08627451 0.98823529 0.98823529 0.11764706\n",
            " 0.08627451 0.46666667 0.77254902 0.94509804 0.99215686 0.98823529\n",
            " 0.98431373 0.30196078 0.         0.         0.         0.\n",
            " 0.         0.         0.         0.         0.         0.\n",
            " 0.         0.         0.         0.         0.         0.\n",
            " 0.0627451  0.90588235 0.98823529 0.99215686 0.98823529 0.98823529\n",
            " 0.98823529 0.88627451 0.89019608 0.98823529 0.90588235 0.\n",
            " 0.         0.         0.         0.         0.         0.\n",
            " 0.         0.         0.         0.         0.         0.\n",
            " 0.         0.         0.         0.         0.         0.21568627\n",
            " 0.92156863 0.99215686 0.85098039 0.54117647 0.16470588 0.09411765\n",
            " 0.75294118 0.98823529 0.56078431 0.         0.         0.\n",
            " 0.         0.         0.         0.         0.         0.\n",
            " 0.         0.         0.         0.         0.         0.\n",
            " 0.         0.         0.         0.         0.         0.\n",
            " 0.         0.         0.         0.24313725 1.         0.99215686\n",
            " 0.42745098 0.         0.         0.         0.         0.\n",
            " 0.         0.         0.         0.         0.         0.\n",
            " 0.         0.         0.         0.         0.         0.\n",
            " 0.         0.         0.         0.         0.         0.\n",
            " 0.         0.27843137 0.99215686 0.98823529 0.08235294 0.\n",
            " 0.         0.         0.         0.         0.         0.\n",
            " 0.         0.         0.         0.         0.         0.\n",
            " 0.         0.         0.         0.         0.         0.\n",
            " 0.         0.         0.         0.         0.         0.\n",
            " 0.99215686 0.98823529 0.08235294 0.         0.         0.\n",
            " 0.         0.         0.         0.         0.         0.\n",
            " 0.         0.         0.         0.         0.         0.\n",
            " 0.         0.         0.         0.         0.         0.\n",
            " 0.         0.         0.         0.27843137 0.99215686 0.98823529\n",
            " 0.08235294 0.         0.         0.         0.         0.\n",
            " 0.         0.         0.         0.         0.         0.\n",
            " 0.         0.         0.         0.         0.         0.\n",
            " 0.         0.         0.         0.         0.         0.\n",
            " 0.         0.41568627 0.99215686 0.98823529 0.08235294 0.\n",
            " 0.         0.         0.         0.         0.         0.\n",
            " 0.         0.         0.         0.         0.         0.\n",
            " 0.         0.         0.         0.         0.         0.\n",
            " 0.         0.         0.         0.         0.         0.17647059\n",
            " 1.         0.99215686 0.08235294 0.         0.         0.\n",
            " 0.         0.         0.         0.         0.         0.\n",
            " 0.         0.         0.         0.         0.         0.\n",
            " 0.         0.         0.         0.         0.         0.\n",
            " 0.         0.         0.         0.         0.85490196 0.98823529\n",
            " 0.21960784 0.         0.         0.         0.         0.\n",
            " 0.         0.         0.         0.         0.         0.\n",
            " 0.         0.         0.         0.         0.         0.\n",
            " 0.         0.         0.         0.         0.         0.\n",
            " 0.         0.         0.37647059 0.98823529 0.74117647 0.16470588\n",
            " 0.         0.         0.         0.         0.         0.\n",
            " 0.         0.         0.         0.         0.         0.\n",
            " 0.         0.         0.         0.         0.         0.\n",
            " 0.         0.         0.         0.         0.         0.\n",
            " 0.05490196 0.72156863 0.98823529 0.66666667 0.04313725 0.\n",
            " 0.         0.         0.         0.         0.         0.\n",
            " 0.         0.         0.         0.         0.         0.\n",
            " 0.         0.         0.         0.         0.         0.\n",
            " 0.         0.         0.         0.         0.         0.05490196\n",
            " 0.57647059 0.98823529 0.16470588 0.         0.         0.\n",
            " 0.         0.         0.         0.         0.         0.\n",
            " 0.         0.         0.         0.         0.         0.\n",
            " 0.         0.         0.         0.         0.         0.\n",
            " 0.         0.         0.         0.         0.         0.\n",
            " 0.         0.         0.         0.         0.         0.\n",
            " 0.         0.         0.         0.        ]\n"
          ],
          "name": "stdout"
        }
      ]
    },
    {
      "cell_type": "code",
      "metadata": {
        "colab": {
          "base_uri": "https://localhost:8080/"
        },
        "id": "d2FfuBwGLCn_",
        "outputId": "41f52275-6794-4a6c-b667-a189e4378ba3"
      },
      "source": [
        "from keras.utils import to_categorical\n",
        "\n",
        "y_train = to_categorical(y_train)\n",
        "y_test = to_categorical(y_test)\n",
        "\n",
        "print(y_train[:5])"
      ],
      "execution_count": 8,
      "outputs": [
        {
          "output_type": "stream",
          "text": [
            "[[0. 0. 0. 0. 0. 1. 0. 0. 0. 0.]\n",
            " [1. 0. 0. 0. 0. 0. 0. 0. 0. 0.]\n",
            " [0. 0. 0. 0. 1. 0. 0. 0. 0. 0.]\n",
            " [0. 1. 0. 0. 0. 0. 0. 0. 0. 0.]\n",
            " [0. 0. 0. 0. 0. 0. 0. 0. 0. 1.]]\n"
          ],
          "name": "stdout"
        }
      ]
    },
    {
      "cell_type": "code",
      "metadata": {
        "id": "Skp_21mAXh-L"
      },
      "source": [
        "from sklearn.model_selection import train_test_split\n",
        "\n",
        "X_train, X_valid, y_train, y_valid = train_test_split(X_train, y_train, test_size=0.3, random_state=2045)"
      ],
      "execution_count": 9,
      "outputs": []
    },
    {
      "cell_type": "markdown",
      "metadata": {
        "id": "NsOUK5vcT0e9"
      },
      "source": [
        "# L2 + Dropout"
      ]
    },
    {
      "cell_type": "code",
      "metadata": {
        "colab": {
          "base_uri": "https://localhost:8080/"
        },
        "id": "mlCT-eFALSBv",
        "outputId": "fe08a1a5-0325-4fdb-b719-b2e29d58c9b3"
      },
      "source": [
        "from keras import models, layers\n",
        "from keras import regularizers\n",
        "\n",
        "L2_dropOut = models.Sequential()\n",
        "L2_dropOut.add(layers.Dense(512, activation='relu', input_shape = (28*28,),\n",
        "                            kernel_regularizer=regularizers.l2(0.00001)))\n",
        "L2_dropOut.add(layers.Dropout(0.4))\n",
        "L2_dropOut.add(layers.Dense(256, activation='relu', \n",
        "                            kernel_regularizer = regularizers.l2(0.00001)))\n",
        "L2_dropOut.add(layers.Dropout(0.4))\n",
        "L2_dropOut.add(layers.Dense(10, activation='softmax'))\n",
        "\n",
        "L2_dropOut.summary()\n",
        "\n",
        "L2_dropOut.compile(loss='categorical_crossentropy', optimizer='adam', metrics=['accuracy'])\n",
        "\n",
        "Hist_L2_dropOut = L2_dropOut.fit(X_train, y_train, epochs=100, batch_size=516, validation_data=(X_valid, y_valid))"
      ],
      "execution_count": 10,
      "outputs": [
        {
          "output_type": "stream",
          "text": [
            "Model: \"sequential\"\n",
            "_________________________________________________________________\n",
            "Layer (type)                 Output Shape              Param #   \n",
            "=================================================================\n",
            "dense (Dense)                (None, 512)               401920    \n",
            "_________________________________________________________________\n",
            "dropout (Dropout)            (None, 512)               0         \n",
            "_________________________________________________________________\n",
            "dense_1 (Dense)              (None, 256)               131328    \n",
            "_________________________________________________________________\n",
            "dropout_1 (Dropout)          (None, 256)               0         \n",
            "_________________________________________________________________\n",
            "dense_2 (Dense)              (None, 10)                2570      \n",
            "=================================================================\n",
            "Total params: 535,818\n",
            "Trainable params: 535,818\n",
            "Non-trainable params: 0\n",
            "_________________________________________________________________\n",
            "Epoch 1/100\n",
            "82/82 [==============================] - 4s 7ms/step - loss: 32.5533 - accuracy: 0.5988 - val_loss: 0.7707 - val_accuracy: 0.9005\n",
            "Epoch 2/100\n",
            "82/82 [==============================] - 0s 5ms/step - loss: 2.2790 - accuracy: 0.8073 - val_loss: 0.4337 - val_accuracy: 0.9177\n",
            "Epoch 3/100\n",
            "82/82 [==============================] - 0s 4ms/step - loss: 1.2790 - accuracy: 0.8362 - val_loss: 0.3454 - val_accuracy: 0.9194\n",
            "Epoch 4/100\n",
            "82/82 [==============================] - 0s 4ms/step - loss: 0.8599 - accuracy: 0.8514 - val_loss: 0.3129 - val_accuracy: 0.9245\n",
            "Epoch 5/100\n",
            "82/82 [==============================] - 0s 4ms/step - loss: 0.6675 - accuracy: 0.8620 - val_loss: 0.3172 - val_accuracy: 0.9238\n",
            "Epoch 6/100\n",
            "82/82 [==============================] - 0s 4ms/step - loss: 0.5274 - accuracy: 0.8753 - val_loss: 0.2936 - val_accuracy: 0.9308\n",
            "Epoch 7/100\n",
            "82/82 [==============================] - 0s 4ms/step - loss: 0.4692 - accuracy: 0.8869 - val_loss: 0.2596 - val_accuracy: 0.9384\n",
            "Epoch 8/100\n",
            "82/82 [==============================] - 0s 4ms/step - loss: 0.4126 - accuracy: 0.8934 - val_loss: 0.2475 - val_accuracy: 0.9421\n",
            "Epoch 9/100\n",
            "82/82 [==============================] - 0s 4ms/step - loss: 0.3557 - accuracy: 0.9111 - val_loss: 0.2316 - val_accuracy: 0.9451\n",
            "Epoch 10/100\n",
            "82/82 [==============================] - 0s 4ms/step - loss: 0.3340 - accuracy: 0.9119 - val_loss: 0.2185 - val_accuracy: 0.9492\n",
            "Epoch 11/100\n",
            "82/82 [==============================] - 0s 4ms/step - loss: 0.3086 - accuracy: 0.9170 - val_loss: 0.2044 - val_accuracy: 0.9545\n",
            "Epoch 12/100\n",
            "82/82 [==============================] - 0s 4ms/step - loss: 0.2897 - accuracy: 0.9250 - val_loss: 0.2053 - val_accuracy: 0.9547\n",
            "Epoch 13/100\n",
            "82/82 [==============================] - 0s 4ms/step - loss: 0.2650 - accuracy: 0.9306 - val_loss: 0.1878 - val_accuracy: 0.9547\n",
            "Epoch 14/100\n",
            "82/82 [==============================] - 0s 4ms/step - loss: 0.2600 - accuracy: 0.9301 - val_loss: 0.1893 - val_accuracy: 0.9578\n",
            "Epoch 15/100\n",
            "82/82 [==============================] - 0s 4ms/step - loss: 0.2336 - accuracy: 0.9361 - val_loss: 0.1761 - val_accuracy: 0.9611\n",
            "Epoch 16/100\n",
            "82/82 [==============================] - 0s 4ms/step - loss: 0.2264 - accuracy: 0.9381 - val_loss: 0.1651 - val_accuracy: 0.9626\n",
            "Epoch 17/100\n",
            "82/82 [==============================] - 0s 4ms/step - loss: 0.2157 - accuracy: 0.9407 - val_loss: 0.1645 - val_accuracy: 0.9620\n",
            "Epoch 18/100\n",
            "82/82 [==============================] - 0s 4ms/step - loss: 0.2152 - accuracy: 0.9419 - val_loss: 0.1624 - val_accuracy: 0.9627\n",
            "Epoch 19/100\n",
            "82/82 [==============================] - 0s 4ms/step - loss: 0.1880 - accuracy: 0.9495 - val_loss: 0.1538 - val_accuracy: 0.9646\n",
            "Epoch 20/100\n",
            "82/82 [==============================] - 0s 4ms/step - loss: 0.1793 - accuracy: 0.9497 - val_loss: 0.1523 - val_accuracy: 0.9659\n",
            "Epoch 21/100\n",
            "82/82 [==============================] - 0s 4ms/step - loss: 0.1711 - accuracy: 0.9515 - val_loss: 0.1497 - val_accuracy: 0.9637\n",
            "Epoch 22/100\n",
            "82/82 [==============================] - 0s 4ms/step - loss: 0.1718 - accuracy: 0.9532 - val_loss: 0.1444 - val_accuracy: 0.9664\n",
            "Epoch 23/100\n",
            "82/82 [==============================] - 0s 4ms/step - loss: 0.1560 - accuracy: 0.9569 - val_loss: 0.1432 - val_accuracy: 0.9666\n",
            "Epoch 24/100\n",
            "82/82 [==============================] - 0s 4ms/step - loss: 0.1589 - accuracy: 0.9564 - val_loss: 0.1400 - val_accuracy: 0.9656\n",
            "Epoch 25/100\n",
            "82/82 [==============================] - 0s 4ms/step - loss: 0.1475 - accuracy: 0.9579 - val_loss: 0.1440 - val_accuracy: 0.9670\n",
            "Epoch 26/100\n",
            "82/82 [==============================] - 0s 4ms/step - loss: 0.1418 - accuracy: 0.9598 - val_loss: 0.1378 - val_accuracy: 0.9666\n",
            "Epoch 27/100\n",
            "82/82 [==============================] - 0s 4ms/step - loss: 0.1417 - accuracy: 0.9599 - val_loss: 0.1409 - val_accuracy: 0.9678\n",
            "Epoch 28/100\n",
            "82/82 [==============================] - 0s 4ms/step - loss: 0.1482 - accuracy: 0.9595 - val_loss: 0.1443 - val_accuracy: 0.9681\n",
            "Epoch 29/100\n",
            "82/82 [==============================] - 0s 4ms/step - loss: 0.1433 - accuracy: 0.9604 - val_loss: 0.1428 - val_accuracy: 0.9678\n",
            "Epoch 30/100\n",
            "82/82 [==============================] - 0s 4ms/step - loss: 0.1256 - accuracy: 0.9659 - val_loss: 0.1357 - val_accuracy: 0.9680\n",
            "Epoch 31/100\n",
            "82/82 [==============================] - 0s 4ms/step - loss: 0.1263 - accuracy: 0.9645 - val_loss: 0.1320 - val_accuracy: 0.9699\n",
            "Epoch 32/100\n",
            "82/82 [==============================] - 0s 4ms/step - loss: 0.1261 - accuracy: 0.9657 - val_loss: 0.1375 - val_accuracy: 0.9691\n",
            "Epoch 33/100\n",
            "82/82 [==============================] - 0s 4ms/step - loss: 0.1249 - accuracy: 0.9659 - val_loss: 0.1295 - val_accuracy: 0.9693\n",
            "Epoch 34/100\n",
            "82/82 [==============================] - 0s 4ms/step - loss: 0.1236 - accuracy: 0.9667 - val_loss: 0.1331 - val_accuracy: 0.9701\n",
            "Epoch 35/100\n",
            "82/82 [==============================] - 0s 4ms/step - loss: 0.1158 - accuracy: 0.9667 - val_loss: 0.1337 - val_accuracy: 0.9695\n",
            "Epoch 36/100\n",
            "82/82 [==============================] - 0s 4ms/step - loss: 0.1228 - accuracy: 0.9656 - val_loss: 0.1362 - val_accuracy: 0.9701\n",
            "Epoch 37/100\n",
            "82/82 [==============================] - 0s 4ms/step - loss: 0.1189 - accuracy: 0.9666 - val_loss: 0.1365 - val_accuracy: 0.9706\n",
            "Epoch 38/100\n",
            "82/82 [==============================] - 0s 4ms/step - loss: 0.1131 - accuracy: 0.9685 - val_loss: 0.1289 - val_accuracy: 0.9701\n",
            "Epoch 39/100\n",
            "82/82 [==============================] - 0s 4ms/step - loss: 0.1060 - accuracy: 0.9697 - val_loss: 0.1282 - val_accuracy: 0.9709\n",
            "Epoch 40/100\n",
            "82/82 [==============================] - 0s 4ms/step - loss: 0.1004 - accuracy: 0.9716 - val_loss: 0.1282 - val_accuracy: 0.9731\n",
            "Epoch 41/100\n",
            "82/82 [==============================] - 0s 4ms/step - loss: 0.0986 - accuracy: 0.9718 - val_loss: 0.1258 - val_accuracy: 0.9709\n",
            "Epoch 42/100\n",
            "82/82 [==============================] - 0s 4ms/step - loss: 0.1112 - accuracy: 0.9703 - val_loss: 0.1308 - val_accuracy: 0.9716\n",
            "Epoch 43/100\n",
            "82/82 [==============================] - 0s 4ms/step - loss: 0.1064 - accuracy: 0.9709 - val_loss: 0.1279 - val_accuracy: 0.9727\n",
            "Epoch 44/100\n",
            "82/82 [==============================] - 0s 4ms/step - loss: 0.1020 - accuracy: 0.9723 - val_loss: 0.1264 - val_accuracy: 0.9728\n",
            "Epoch 45/100\n",
            "82/82 [==============================] - 0s 4ms/step - loss: 0.0978 - accuracy: 0.9734 - val_loss: 0.1282 - val_accuracy: 0.9721\n",
            "Epoch 46/100\n",
            "82/82 [==============================] - 0s 4ms/step - loss: 0.1005 - accuracy: 0.9731 - val_loss: 0.1219 - val_accuracy: 0.9739\n",
            "Epoch 47/100\n",
            "82/82 [==============================] - 0s 4ms/step - loss: 0.1051 - accuracy: 0.9710 - val_loss: 0.1163 - val_accuracy: 0.9751\n",
            "Epoch 48/100\n",
            "82/82 [==============================] - 0s 4ms/step - loss: 0.0987 - accuracy: 0.9733 - val_loss: 0.1218 - val_accuracy: 0.9746\n",
            "Epoch 49/100\n",
            "82/82 [==============================] - 0s 4ms/step - loss: 0.0984 - accuracy: 0.9745 - val_loss: 0.1224 - val_accuracy: 0.9728\n",
            "Epoch 50/100\n",
            "82/82 [==============================] - 0s 4ms/step - loss: 0.0939 - accuracy: 0.9739 - val_loss: 0.1290 - val_accuracy: 0.9732\n",
            "Epoch 51/100\n",
            "82/82 [==============================] - 0s 4ms/step - loss: 0.0950 - accuracy: 0.9757 - val_loss: 0.1253 - val_accuracy: 0.9741\n",
            "Epoch 52/100\n",
            "82/82 [==============================] - 0s 4ms/step - loss: 0.0888 - accuracy: 0.9751 - val_loss: 0.1260 - val_accuracy: 0.9730\n",
            "Epoch 53/100\n",
            "82/82 [==============================] - 0s 5ms/step - loss: 0.0884 - accuracy: 0.9762 - val_loss: 0.1249 - val_accuracy: 0.9739\n",
            "Epoch 54/100\n",
            "82/82 [==============================] - 0s 4ms/step - loss: 0.0928 - accuracy: 0.9734 - val_loss: 0.1211 - val_accuracy: 0.9742\n",
            "Epoch 55/100\n",
            "82/82 [==============================] - 0s 4ms/step - loss: 0.0886 - accuracy: 0.9749 - val_loss: 0.1257 - val_accuracy: 0.9752\n",
            "Epoch 56/100\n",
            "82/82 [==============================] - 0s 4ms/step - loss: 0.0846 - accuracy: 0.9785 - val_loss: 0.1387 - val_accuracy: 0.9721\n",
            "Epoch 57/100\n",
            "82/82 [==============================] - 0s 4ms/step - loss: 0.0902 - accuracy: 0.9750 - val_loss: 0.1282 - val_accuracy: 0.9751\n",
            "Epoch 58/100\n",
            "82/82 [==============================] - 0s 4ms/step - loss: 0.0915 - accuracy: 0.9763 - val_loss: 0.1279 - val_accuracy: 0.9742\n",
            "Epoch 59/100\n",
            "82/82 [==============================] - 0s 4ms/step - loss: 0.0829 - accuracy: 0.9784 - val_loss: 0.1201 - val_accuracy: 0.9755\n",
            "Epoch 60/100\n",
            "82/82 [==============================] - 0s 4ms/step - loss: 0.0897 - accuracy: 0.9766 - val_loss: 0.1182 - val_accuracy: 0.9762\n",
            "Epoch 61/100\n",
            "82/82 [==============================] - 0s 4ms/step - loss: 0.0834 - accuracy: 0.9786 - val_loss: 0.1293 - val_accuracy: 0.9756\n",
            "Epoch 62/100\n",
            "82/82 [==============================] - 0s 4ms/step - loss: 0.0865 - accuracy: 0.9777 - val_loss: 0.1295 - val_accuracy: 0.9746\n",
            "Epoch 63/100\n",
            "82/82 [==============================] - 0s 4ms/step - loss: 0.0827 - accuracy: 0.9787 - val_loss: 0.1251 - val_accuracy: 0.9758\n",
            "Epoch 64/100\n",
            "82/82 [==============================] - 0s 4ms/step - loss: 0.0916 - accuracy: 0.9770 - val_loss: 0.1271 - val_accuracy: 0.9757\n",
            "Epoch 65/100\n",
            "82/82 [==============================] - 0s 4ms/step - loss: 0.0874 - accuracy: 0.9780 - val_loss: 0.1269 - val_accuracy: 0.9764\n",
            "Epoch 66/100\n",
            "82/82 [==============================] - 0s 4ms/step - loss: 0.0887 - accuracy: 0.9773 - val_loss: 0.1279 - val_accuracy: 0.9757\n",
            "Epoch 67/100\n",
            "82/82 [==============================] - 0s 4ms/step - loss: 0.0855 - accuracy: 0.9772 - val_loss: 0.1294 - val_accuracy: 0.9757\n",
            "Epoch 68/100\n",
            "82/82 [==============================] - 0s 4ms/step - loss: 0.0949 - accuracy: 0.9750 - val_loss: 0.1267 - val_accuracy: 0.9763\n",
            "Epoch 69/100\n",
            "82/82 [==============================] - 0s 4ms/step - loss: 0.0831 - accuracy: 0.9785 - val_loss: 0.1254 - val_accuracy: 0.9763\n",
            "Epoch 70/100\n",
            "82/82 [==============================] - 0s 4ms/step - loss: 0.0813 - accuracy: 0.9798 - val_loss: 0.1218 - val_accuracy: 0.9760\n",
            "Epoch 71/100\n",
            "82/82 [==============================] - 0s 4ms/step - loss: 0.0761 - accuracy: 0.9805 - val_loss: 0.1248 - val_accuracy: 0.9760\n",
            "Epoch 72/100\n",
            "82/82 [==============================] - 0s 4ms/step - loss: 0.0791 - accuracy: 0.9797 - val_loss: 0.1197 - val_accuracy: 0.9763\n",
            "Epoch 73/100\n",
            "82/82 [==============================] - 0s 4ms/step - loss: 0.0814 - accuracy: 0.9800 - val_loss: 0.1292 - val_accuracy: 0.9746\n",
            "Epoch 74/100\n",
            "82/82 [==============================] - 0s 4ms/step - loss: 0.0783 - accuracy: 0.9808 - val_loss: 0.1205 - val_accuracy: 0.9757\n",
            "Epoch 75/100\n",
            "82/82 [==============================] - 0s 4ms/step - loss: 0.0891 - accuracy: 0.9780 - val_loss: 0.1239 - val_accuracy: 0.9753\n",
            "Epoch 76/100\n",
            "82/82 [==============================] - 0s 4ms/step - loss: 0.0834 - accuracy: 0.9810 - val_loss: 0.1278 - val_accuracy: 0.9771\n",
            "Epoch 77/100\n",
            "82/82 [==============================] - 0s 4ms/step - loss: 0.0793 - accuracy: 0.9805 - val_loss: 0.1320 - val_accuracy: 0.9766\n",
            "Epoch 78/100\n",
            "82/82 [==============================] - 0s 4ms/step - loss: 0.0697 - accuracy: 0.9830 - val_loss: 0.1240 - val_accuracy: 0.9777\n",
            "Epoch 79/100\n",
            "82/82 [==============================] - 0s 4ms/step - loss: 0.0823 - accuracy: 0.9804 - val_loss: 0.1360 - val_accuracy: 0.9758\n",
            "Epoch 80/100\n",
            "82/82 [==============================] - 0s 4ms/step - loss: 0.0783 - accuracy: 0.9819 - val_loss: 0.1242 - val_accuracy: 0.9772\n",
            "Epoch 81/100\n",
            "82/82 [==============================] - 0s 4ms/step - loss: 0.0789 - accuracy: 0.9815 - val_loss: 0.1358 - val_accuracy: 0.9757\n",
            "Epoch 82/100\n",
            "82/82 [==============================] - 0s 4ms/step - loss: 0.0766 - accuracy: 0.9807 - val_loss: 0.1298 - val_accuracy: 0.9779\n",
            "Epoch 83/100\n",
            "82/82 [==============================] - 0s 4ms/step - loss: 0.0787 - accuracy: 0.9816 - val_loss: 0.1315 - val_accuracy: 0.9782\n",
            "Epoch 84/100\n",
            "82/82 [==============================] - 0s 4ms/step - loss: 0.0912 - accuracy: 0.9791 - val_loss: 0.1345 - val_accuracy: 0.9780\n",
            "Epoch 85/100\n",
            "82/82 [==============================] - 0s 4ms/step - loss: 0.0807 - accuracy: 0.9810 - val_loss: 0.1292 - val_accuracy: 0.9764\n",
            "Epoch 86/100\n",
            "82/82 [==============================] - 0s 4ms/step - loss: 0.0772 - accuracy: 0.9819 - val_loss: 0.1330 - val_accuracy: 0.9757\n",
            "Epoch 87/100\n",
            "82/82 [==============================] - 0s 4ms/step - loss: 0.0728 - accuracy: 0.9818 - val_loss: 0.1261 - val_accuracy: 0.9773\n",
            "Epoch 88/100\n",
            "82/82 [==============================] - 0s 4ms/step - loss: 0.0778 - accuracy: 0.9814 - val_loss: 0.1343 - val_accuracy: 0.9771\n",
            "Epoch 89/100\n",
            "82/82 [==============================] - 0s 4ms/step - loss: 0.0822 - accuracy: 0.9820 - val_loss: 0.1304 - val_accuracy: 0.9764\n",
            "Epoch 90/100\n",
            "82/82 [==============================] - 0s 4ms/step - loss: 0.0796 - accuracy: 0.9827 - val_loss: 0.1405 - val_accuracy: 0.9770\n",
            "Epoch 91/100\n",
            "82/82 [==============================] - 0s 4ms/step - loss: 0.0827 - accuracy: 0.9801 - val_loss: 0.1370 - val_accuracy: 0.9770\n",
            "Epoch 92/100\n",
            "82/82 [==============================] - 0s 4ms/step - loss: 0.0802 - accuracy: 0.9808 - val_loss: 0.1256 - val_accuracy: 0.9767\n",
            "Epoch 93/100\n",
            "82/82 [==============================] - 0s 4ms/step - loss: 0.0801 - accuracy: 0.9814 - val_loss: 0.1412 - val_accuracy: 0.9773\n",
            "Epoch 94/100\n",
            "82/82 [==============================] - 0s 4ms/step - loss: 0.0725 - accuracy: 0.9834 - val_loss: 0.1388 - val_accuracy: 0.9771\n",
            "Epoch 95/100\n",
            "82/82 [==============================] - 0s 4ms/step - loss: 0.0749 - accuracy: 0.9837 - val_loss: 0.1293 - val_accuracy: 0.9789\n",
            "Epoch 96/100\n",
            "82/82 [==============================] - 0s 4ms/step - loss: 0.0718 - accuracy: 0.9831 - val_loss: 0.1310 - val_accuracy: 0.9780\n",
            "Epoch 97/100\n",
            "82/82 [==============================] - 0s 4ms/step - loss: 0.0727 - accuracy: 0.9827 - val_loss: 0.1329 - val_accuracy: 0.9775\n",
            "Epoch 98/100\n",
            "82/82 [==============================] - 0s 4ms/step - loss: 0.0811 - accuracy: 0.9810 - val_loss: 0.1430 - val_accuracy: 0.9762\n",
            "Epoch 99/100\n",
            "82/82 [==============================] - 0s 4ms/step - loss: 0.0694 - accuracy: 0.9846 - val_loss: 0.1412 - val_accuracy: 0.9792\n",
            "Epoch 100/100\n",
            "82/82 [==============================] - 0s 4ms/step - loss: 0.0711 - accuracy: 0.9831 - val_loss: 0.1339 - val_accuracy: 0.9787\n"
          ],
          "name": "stdout"
        }
      ]
    },
    {
      "cell_type": "code",
      "metadata": {
        "colab": {
          "base_uri": "https://localhost:8080/",
          "height": 513
        },
        "id": "vaSyH89RNezL",
        "outputId": "18ee0696-ca07-4a87-9bec-8dcff7c728bf"
      },
      "source": [
        "import matplotlib.pyplot as plt\n",
        "\n",
        "plt.plot(Hist_L2_dropOut.history['loss'])\n",
        "plt.plot(Hist_L2_dropOut.history['val_loss'])\n",
        "plt.legend(['Train loss','Test loss'])\n",
        "plt.grid()\n",
        "plt.show()\n",
        "\n",
        "plt.plot(Hist_L2_dropOut.history['accuracy'])\n",
        "plt.plot(Hist_L2_dropOut.history['val_accuracy'])\n",
        "plt.legend(['Train accuracy','Test accuracy'])\n",
        "plt.grid()\n",
        "plt.show()"
      ],
      "execution_count": 11,
      "outputs": [
        {
          "output_type": "display_data",
          "data": {
            "image/png": "[encoded data removed]",
            "text/plain": [
              "<Figure size 432x288 with 1 Axes>"
            ]
          },
          "metadata": {
            "tags": [],
            "needs_background": "light"
          }
        },
        {
          "output_type": "display_data",
          "data": {
            "image/png": "[encoded data removed]",
            "text/plain": [
              "<Figure size 432x288 with 1 Axes>"
            ]
          },
          "metadata": {
            "tags": [],
            "needs_background": "light"
          }
        }
      ]
    },
    {
      "cell_type": "code",
      "metadata": {
        "colab": {
          "base_uri": "https://localhost:8080/"
        },
        "id": "7PjW_j4SNguM",
        "outputId": "cfea2894-7b60-4e5a-ee6f-16db8eee1418"
      },
      "source": [
        "L2_DR_loss, L2_DR_accuracy = L2_dropOut.evaluate(X_test, y_test)\n",
        "print(L2_DR_loss, L2_DR_accuracy)"
      ],
      "execution_count": 12,
      "outputs": [
        {
          "output_type": "stream",
          "text": [
            "313/313 [==============================] - 1s 2ms/step - loss: 0.1366 - accuracy: 0.9770\n",
            "0.13662119209766388 0.9769999980926514\n"
          ],
          "name": "stdout"
        }
      ]
    },
    {
      "cell_type": "markdown",
      "metadata": {
        "id": "nqByrJNOT5Kh"
      },
      "source": [
        "# L2 + BN"
      ]
    },
    {
      "cell_type": "code",
      "metadata": {
        "id": "FMiY3IMKLwjF"
      },
      "source": [
        "from keras import backend as K\n",
        "\n",
        "K.clear_session()"
      ],
      "execution_count": 13,
      "outputs": []
    },
    {
      "cell_type": "code",
      "metadata": {
        "colab": {
          "base_uri": "https://localhost:8080/"
        },
        "id": "xHRPLh0JNcsf",
        "outputId": "ce9869ce-44a0-48df-de11-e0276fdc6b20"
      },
      "source": [
        "L2_BN = models.Sequential()\n",
        "L2_BN.add(layers.Dense(512, input_shape=(28*28,),\n",
        "                       kernel_regularizer=regularizers.l2(0.00001)))\n",
        "L2_BN.add(layers.BatchNormalization())\n",
        "L2_BN.add(layers.Activation('relu'))\n",
        "L2_BN.add(layers.Dense(256,\n",
        "                       kernel_regularizer=regularizers.l2(0.00001)))\n",
        "L2_BN.add(layers.BatchNormalization())\n",
        "L2_BN.add(layers.Activation('relu'))\n",
        "L2_BN.add(layers.Dense(10, activation='softmax'))\n",
        "\n",
        "L2_BN.summary()\n",
        "\n",
        "L2_BN.compile(loss='categorical_crossentropy', optimizer='adam', metrics=['accuracy'])\n",
        "\n",
        "Hist_L2_BN = L2_BN.fit(X_train, y_train, epochs=100, batch_size=516, validation_data=(X_valid, y_valid))\n"
      ],
      "execution_count": 14,
      "outputs": [
        {
          "output_type": "stream",
          "text": [
            "Model: \"sequential\"\n",
            "_________________________________________________________________\n",
            "Layer (type)                 Output Shape              Param #   \n",
            "=================================================================\n",
            "dense (Dense)                (None, 512)               401920    \n",
            "_________________________________________________________________\n",
            "batch_normalization (BatchNo (None, 512)               2048      \n",
            "_________________________________________________________________\n",
            "activation (Activation)      (None, 512)               0         \n",
            "_________________________________________________________________\n",
            "dense_1 (Dense)              (None, 256)               131328    \n",
            "_________________________________________________________________\n",
            "batch_normalization_1 (Batch (None, 256)               1024      \n",
            "_________________________________________________________________\n",
            "activation_1 (Activation)    (None, 256)               0         \n",
            "_________________________________________________________________\n",
            "dense_2 (Dense)              (None, 10)                2570      \n",
            "=================================================================\n",
            "Total params: 538,890\n",
            "Trainable params: 537,354\n",
            "Non-trainable params: 1,536\n",
            "_________________________________________________________________\n",
            "Epoch 1/100\n",
            "82/82 [==============================] - 1s 7ms/step - loss: 0.5585 - accuracy: 0.8307 - val_loss: 0.1797 - val_accuracy: 0.9492\n",
            "Epoch 2/100\n",
            "82/82 [==============================] - 0s 5ms/step - loss: 0.1111 - accuracy: 0.9730 - val_loss: 0.1703 - val_accuracy: 0.9492\n",
            "Epoch 3/100\n",
            "82/82 [==============================] - 0s 5ms/step - loss: 0.0612 - accuracy: 0.9882 - val_loss: 0.1505 - val_accuracy: 0.9573\n",
            "Epoch 4/100\n",
            "82/82 [==============================] - 0s 5ms/step - loss: 0.0409 - accuracy: 0.9933 - val_loss: 0.1094 - val_accuracy: 0.9691\n",
            "Epoch 5/100\n",
            "82/82 [==============================] - 0s 5ms/step - loss: 0.0278 - accuracy: 0.9969 - val_loss: 0.1002 - val_accuracy: 0.9712\n",
            "Epoch 6/100\n",
            "82/82 [==============================] - 0s 5ms/step - loss: 0.0185 - accuracy: 0.9990 - val_loss: 0.0856 - val_accuracy: 0.9763\n",
            "Epoch 7/100\n",
            "82/82 [==============================] - 0s 5ms/step - loss: 0.0159 - accuracy: 0.9990 - val_loss: 0.0791 - val_accuracy: 0.9794\n",
            "Epoch 8/100\n",
            "82/82 [==============================] - 0s 5ms/step - loss: 0.0129 - accuracy: 0.9996 - val_loss: 0.0798 - val_accuracy: 0.9788\n",
            "Epoch 9/100\n",
            "82/82 [==============================] - 0s 5ms/step - loss: 0.0117 - accuracy: 0.9995 - val_loss: 0.0825 - val_accuracy: 0.9783\n",
            "Epoch 10/100\n",
            "82/82 [==============================] - 0s 5ms/step - loss: 0.0108 - accuracy: 0.9998 - val_loss: 0.0790 - val_accuracy: 0.9791\n",
            "Epoch 11/100\n",
            "82/82 [==============================] - 0s 5ms/step - loss: 0.0095 - accuracy: 1.0000 - val_loss: 0.0781 - val_accuracy: 0.9800\n",
            "Epoch 12/100\n",
            "82/82 [==============================] - 0s 5ms/step - loss: 0.0089 - accuracy: 1.0000 - val_loss: 0.0783 - val_accuracy: 0.9805\n",
            "Epoch 13/100\n",
            "82/82 [==============================] - 0s 5ms/step - loss: 0.0084 - accuracy: 1.0000 - val_loss: 0.0773 - val_accuracy: 0.9807\n",
            "Epoch 14/100\n",
            "82/82 [==============================] - 0s 5ms/step - loss: 0.0081 - accuracy: 1.0000 - val_loss: 0.0781 - val_accuracy: 0.9802\n",
            "Epoch 15/100\n",
            "82/82 [==============================] - 0s 5ms/step - loss: 0.0079 - accuracy: 1.0000 - val_loss: 0.0790 - val_accuracy: 0.9800\n",
            "Epoch 16/100\n",
            "82/82 [==============================] - 0s 5ms/step - loss: 0.0078 - accuracy: 0.9999 - val_loss: 0.0970 - val_accuracy: 0.9761\n",
            "Epoch 17/100\n",
            "82/82 [==============================] - 0s 5ms/step - loss: 0.0307 - accuracy: 0.9924 - val_loss: 0.1765 - val_accuracy: 0.9619\n",
            "Epoch 18/100\n",
            "82/82 [==============================] - 0s 5ms/step - loss: 0.0457 - accuracy: 0.9884 - val_loss: 0.1107 - val_accuracy: 0.9723\n",
            "Epoch 19/100\n",
            "82/82 [==============================] - 0s 5ms/step - loss: 0.0205 - accuracy: 0.9972 - val_loss: 0.0899 - val_accuracy: 0.9777\n",
            "Epoch 20/100\n",
            "82/82 [==============================] - 0s 5ms/step - loss: 0.0136 - accuracy: 0.9991 - val_loss: 0.0774 - val_accuracy: 0.9808\n",
            "Epoch 21/100\n",
            "82/82 [==============================] - 0s 5ms/step - loss: 0.0104 - accuracy: 0.9998 - val_loss: 0.0745 - val_accuracy: 0.9817\n",
            "Epoch 22/100\n",
            "82/82 [==============================] - 0s 5ms/step - loss: 0.0093 - accuracy: 1.0000 - val_loss: 0.0742 - val_accuracy: 0.9821\n",
            "Epoch 23/100\n",
            "82/82 [==============================] - 0s 5ms/step - loss: 0.0089 - accuracy: 1.0000 - val_loss: 0.0745 - val_accuracy: 0.9821\n",
            "Epoch 24/100\n",
            "82/82 [==============================] - 0s 5ms/step - loss: 0.0087 - accuracy: 1.0000 - val_loss: 0.0744 - val_accuracy: 0.9827\n",
            "Epoch 25/100\n",
            "82/82 [==============================] - 0s 5ms/step - loss: 0.0084 - accuracy: 1.0000 - val_loss: 0.0747 - val_accuracy: 0.9823\n",
            "Epoch 26/100\n",
            "82/82 [==============================] - 0s 5ms/step - loss: 0.0082 - accuracy: 1.0000 - val_loss: 0.0750 - val_accuracy: 0.9824\n",
            "Epoch 27/100\n",
            "82/82 [==============================] - 0s 5ms/step - loss: 0.0080 - accuracy: 1.0000 - val_loss: 0.0753 - val_accuracy: 0.9827\n",
            "Epoch 28/100\n",
            "82/82 [==============================] - 0s 5ms/step - loss: 0.0078 - accuracy: 1.0000 - val_loss: 0.0754 - val_accuracy: 0.9827\n",
            "Epoch 29/100\n",
            "82/82 [==============================] - 0s 5ms/step - loss: 0.0076 - accuracy: 1.0000 - val_loss: 0.0754 - val_accuracy: 0.9829\n",
            "Epoch 30/100\n",
            "82/82 [==============================] - 0s 5ms/step - loss: 0.0074 - accuracy: 1.0000 - val_loss: 0.0758 - val_accuracy: 0.9825\n",
            "Epoch 31/100\n",
            "82/82 [==============================] - 0s 5ms/step - loss: 0.0073 - accuracy: 1.0000 - val_loss: 0.0766 - val_accuracy: 0.9826\n",
            "Epoch 32/100\n",
            "82/82 [==============================] - 0s 5ms/step - loss: 0.0070 - accuracy: 1.0000 - val_loss: 0.0762 - val_accuracy: 0.9829\n",
            "Epoch 33/100\n",
            "82/82 [==============================] - 0s 5ms/step - loss: 0.0069 - accuracy: 1.0000 - val_loss: 0.0759 - val_accuracy: 0.9826\n",
            "Epoch 34/100\n",
            "82/82 [==============================] - 0s 5ms/step - loss: 0.0090 - accuracy: 0.9992 - val_loss: 0.1428 - val_accuracy: 0.9665\n",
            "Epoch 35/100\n",
            "82/82 [==============================] - 0s 5ms/step - loss: 0.0394 - accuracy: 0.9891 - val_loss: 0.2520 - val_accuracy: 0.9498\n",
            "Epoch 36/100\n",
            "82/82 [==============================] - 0s 5ms/step - loss: 0.0312 - accuracy: 0.9923 - val_loss: 0.1077 - val_accuracy: 0.9744\n",
            "Epoch 37/100\n",
            "82/82 [==============================] - 0s 5ms/step - loss: 0.0162 - accuracy: 0.9979 - val_loss: 0.0986 - val_accuracy: 0.9768\n",
            "Epoch 38/100\n",
            "82/82 [==============================] - 0s 5ms/step - loss: 0.0125 - accuracy: 0.9992 - val_loss: 0.0826 - val_accuracy: 0.9809\n",
            "Epoch 39/100\n",
            "82/82 [==============================] - 0s 5ms/step - loss: 0.0106 - accuracy: 0.9997 - val_loss: 0.0782 - val_accuracy: 0.9824\n",
            "Epoch 40/100\n",
            "82/82 [==============================] - 0s 5ms/step - loss: 0.0092 - accuracy: 1.0000 - val_loss: 0.0777 - val_accuracy: 0.9826\n",
            "Epoch 41/100\n",
            "82/82 [==============================] - 0s 5ms/step - loss: 0.0088 - accuracy: 1.0000 - val_loss: 0.0776 - val_accuracy: 0.9827\n",
            "Epoch 42/100\n",
            "82/82 [==============================] - 0s 5ms/step - loss: 0.0085 - accuracy: 1.0000 - val_loss: 0.0771 - val_accuracy: 0.9829\n",
            "Epoch 43/100\n",
            "82/82 [==============================] - 0s 5ms/step - loss: 0.0083 - accuracy: 1.0000 - val_loss: 0.0773 - val_accuracy: 0.9832\n",
            "Epoch 44/100\n",
            "82/82 [==============================] - 0s 5ms/step - loss: 0.0081 - accuracy: 1.0000 - val_loss: 0.0775 - val_accuracy: 0.9832\n",
            "Epoch 45/100\n",
            "82/82 [==============================] - 0s 5ms/step - loss: 0.0078 - accuracy: 1.0000 - val_loss: 0.0776 - val_accuracy: 0.9832\n",
            "Epoch 46/100\n",
            "82/82 [==============================] - 0s 5ms/step - loss: 0.0076 - accuracy: 1.0000 - val_loss: 0.0777 - val_accuracy: 0.9828\n",
            "Epoch 47/100\n",
            "82/82 [==============================] - 0s 5ms/step - loss: 0.0074 - accuracy: 1.0000 - val_loss: 0.0776 - val_accuracy: 0.9829\n",
            "Epoch 48/100\n",
            "82/82 [==============================] - 0s 5ms/step - loss: 0.0072 - accuracy: 1.0000 - val_loss: 0.0775 - val_accuracy: 0.9830\n",
            "Epoch 49/100\n",
            "82/82 [==============================] - 0s 5ms/step - loss: 0.0070 - accuracy: 1.0000 - val_loss: 0.0780 - val_accuracy: 0.9832\n",
            "Epoch 50/100\n",
            "82/82 [==============================] - 0s 5ms/step - loss: 0.0068 - accuracy: 1.0000 - val_loss: 0.0777 - val_accuracy: 0.9834\n",
            "Epoch 51/100\n",
            "82/82 [==============================] - 0s 5ms/step - loss: 0.0066 - accuracy: 1.0000 - val_loss: 0.0781 - val_accuracy: 0.9831\n",
            "Epoch 52/100\n",
            "82/82 [==============================] - 0s 5ms/step - loss: 0.0063 - accuracy: 1.0000 - val_loss: 0.0784 - val_accuracy: 0.9831\n",
            "Epoch 53/100\n",
            "82/82 [==============================] - 0s 5ms/step - loss: 0.0061 - accuracy: 1.0000 - val_loss: 0.0783 - val_accuracy: 0.9831\n",
            "Epoch 54/100\n",
            "82/82 [==============================] - 0s 5ms/step - loss: 0.0059 - accuracy: 1.0000 - val_loss: 0.0780 - val_accuracy: 0.9833\n",
            "Epoch 55/100\n",
            "82/82 [==============================] - 0s 5ms/step - loss: 0.0057 - accuracy: 1.0000 - val_loss: 0.0782 - val_accuracy: 0.9834\n",
            "Epoch 56/100\n",
            "82/82 [==============================] - 0s 5ms/step - loss: 0.0055 - accuracy: 1.0000 - val_loss: 0.0780 - val_accuracy: 0.9831\n",
            "Epoch 57/100\n",
            "82/82 [==============================] - 0s 5ms/step - loss: 0.0053 - accuracy: 1.0000 - val_loss: 0.0779 - val_accuracy: 0.9832\n",
            "Epoch 58/100\n",
            "82/82 [==============================] - 0s 5ms/step - loss: 0.0051 - accuracy: 1.0000 - val_loss: 0.0780 - val_accuracy: 0.9829\n",
            "Epoch 59/100\n",
            "82/82 [==============================] - 0s 5ms/step - loss: 0.0050 - accuracy: 1.0000 - val_loss: 0.0785 - val_accuracy: 0.9831\n",
            "Epoch 60/100\n",
            "82/82 [==============================] - 0s 5ms/step - loss: 0.0048 - accuracy: 1.0000 - val_loss: 0.0782 - val_accuracy: 0.9829\n",
            "Epoch 61/100\n",
            "82/82 [==============================] - 0s 5ms/step - loss: 0.0046 - accuracy: 1.0000 - val_loss: 0.0785 - val_accuracy: 0.9829\n",
            "Epoch 62/100\n",
            "82/82 [==============================] - 0s 5ms/step - loss: 0.0044 - accuracy: 1.0000 - val_loss: 0.0783 - val_accuracy: 0.9831\n",
            "Epoch 63/100\n",
            "82/82 [==============================] - 0s 5ms/step - loss: 0.0042 - accuracy: 1.0000 - val_loss: 0.0785 - val_accuracy: 0.9832\n",
            "Epoch 64/100\n",
            "82/82 [==============================] - 0s 5ms/step - loss: 0.0040 - accuracy: 1.0000 - val_loss: 0.0784 - val_accuracy: 0.9829\n",
            "Epoch 65/100\n",
            "82/82 [==============================] - 0s 5ms/step - loss: 0.0038 - accuracy: 1.0000 - val_loss: 0.0789 - val_accuracy: 0.9828\n",
            "Epoch 66/100\n",
            "82/82 [==============================] - 0s 5ms/step - loss: 0.0036 - accuracy: 1.0000 - val_loss: 0.0796 - val_accuracy: 0.9827\n",
            "Epoch 67/100\n",
            "82/82 [==============================] - 0s 5ms/step - loss: 0.0035 - accuracy: 1.0000 - val_loss: 0.0798 - val_accuracy: 0.9826\n",
            "Epoch 68/100\n",
            "82/82 [==============================] - 0s 5ms/step - loss: 0.0033 - accuracy: 1.0000 - val_loss: 0.0803 - val_accuracy: 0.9825\n",
            "Epoch 69/100\n",
            "82/82 [==============================] - 0s 5ms/step - loss: 0.0031 - accuracy: 1.0000 - val_loss: 0.0809 - val_accuracy: 0.9826\n",
            "Epoch 70/100\n",
            "82/82 [==============================] - 0s 5ms/step - loss: 0.0030 - accuracy: 1.0000 - val_loss: 0.0805 - val_accuracy: 0.9827\n",
            "Epoch 71/100\n",
            "82/82 [==============================] - 0s 5ms/step - loss: 0.0028 - accuracy: 1.0000 - val_loss: 0.0808 - val_accuracy: 0.9826\n",
            "Epoch 72/100\n",
            "82/82 [==============================] - 0s 5ms/step - loss: 0.0026 - accuracy: 1.0000 - val_loss: 0.0812 - val_accuracy: 0.9824\n",
            "Epoch 73/100\n",
            "82/82 [==============================] - 0s 5ms/step - loss: 0.0025 - accuracy: 1.0000 - val_loss: 0.0808 - val_accuracy: 0.9827\n",
            "Epoch 74/100\n",
            "82/82 [==============================] - 0s 5ms/step - loss: 0.0023 - accuracy: 1.0000 - val_loss: 0.0816 - val_accuracy: 0.9826\n",
            "Epoch 75/100\n",
            "82/82 [==============================] - 0s 5ms/step - loss: 0.0022 - accuracy: 1.0000 - val_loss: 0.0823 - val_accuracy: 0.9822\n",
            "Epoch 76/100\n",
            "82/82 [==============================] - 0s 5ms/step - loss: 0.0021 - accuracy: 1.0000 - val_loss: 0.0835 - val_accuracy: 0.9820\n",
            "Epoch 77/100\n",
            "82/82 [==============================] - 0s 5ms/step - loss: 0.0717 - accuracy: 0.9825 - val_loss: 0.3309 - val_accuracy: 0.9431\n",
            "Epoch 78/100\n",
            "82/82 [==============================] - 0s 5ms/step - loss: 0.0519 - accuracy: 0.9869 - val_loss: 0.1331 - val_accuracy: 0.9669\n",
            "Epoch 79/100\n",
            "82/82 [==============================] - 0s 5ms/step - loss: 0.0244 - accuracy: 0.9958 - val_loss: 0.0903 - val_accuracy: 0.9769\n",
            "Epoch 80/100\n",
            "82/82 [==============================] - 0s 5ms/step - loss: 0.0141 - accuracy: 0.9990 - val_loss: 0.0773 - val_accuracy: 0.9809\n",
            "Epoch 81/100\n",
            "82/82 [==============================] - 0s 5ms/step - loss: 0.0112 - accuracy: 0.9993 - val_loss: 0.0730 - val_accuracy: 0.9817\n",
            "Epoch 82/100\n",
            "82/82 [==============================] - 0s 5ms/step - loss: 0.0093 - accuracy: 0.9995 - val_loss: 0.0707 - val_accuracy: 0.9832\n",
            "Epoch 83/100\n",
            "82/82 [==============================] - 0s 5ms/step - loss: 0.0077 - accuracy: 0.9999 - val_loss: 0.0705 - val_accuracy: 0.9833\n",
            "Epoch 84/100\n",
            "82/82 [==============================] - 0s 5ms/step - loss: 0.0072 - accuracy: 1.0000 - val_loss: 0.0710 - val_accuracy: 0.9838\n",
            "Epoch 85/100\n",
            "82/82 [==============================] - 0s 5ms/step - loss: 0.0069 - accuracy: 1.0000 - val_loss: 0.0714 - val_accuracy: 0.9840\n",
            "Epoch 86/100\n",
            "82/82 [==============================] - 0s 5ms/step - loss: 0.0066 - accuracy: 1.0000 - val_loss: 0.0723 - val_accuracy: 0.9838\n",
            "Epoch 87/100\n",
            "82/82 [==============================] - 0s 5ms/step - loss: 0.0063 - accuracy: 1.0000 - val_loss: 0.0724 - val_accuracy: 0.9837\n",
            "Epoch 88/100\n",
            "82/82 [==============================] - 0s 5ms/step - loss: 0.0062 - accuracy: 1.0000 - val_loss: 0.0732 - val_accuracy: 0.9836\n",
            "Epoch 89/100\n",
            "82/82 [==============================] - 0s 5ms/step - loss: 0.0059 - accuracy: 1.0000 - val_loss: 0.0737 - val_accuracy: 0.9834\n",
            "Epoch 90/100\n",
            "82/82 [==============================] - 0s 5ms/step - loss: 0.0057 - accuracy: 1.0000 - val_loss: 0.0737 - val_accuracy: 0.9838\n",
            "Epoch 91/100\n",
            "82/82 [==============================] - 0s 5ms/step - loss: 0.0056 - accuracy: 1.0000 - val_loss: 0.0740 - val_accuracy: 0.9837\n",
            "Epoch 92/100\n",
            "82/82 [==============================] - 0s 5ms/step - loss: 0.0054 - accuracy: 1.0000 - val_loss: 0.0743 - val_accuracy: 0.9840\n",
            "Epoch 93/100\n",
            "82/82 [==============================] - 0s 5ms/step - loss: 0.0052 - accuracy: 1.0000 - val_loss: 0.0743 - val_accuracy: 0.9840\n",
            "Epoch 94/100\n",
            "82/82 [==============================] - 0s 5ms/step - loss: 0.0051 - accuracy: 1.0000 - val_loss: 0.0745 - val_accuracy: 0.9841\n",
            "Epoch 95/100\n",
            "82/82 [==============================] - 0s 5ms/step - loss: 0.0049 - accuracy: 1.0000 - val_loss: 0.0756 - val_accuracy: 0.9841\n",
            "Epoch 96/100\n",
            "82/82 [==============================] - 0s 5ms/step - loss: 0.0047 - accuracy: 1.0000 - val_loss: 0.0756 - val_accuracy: 0.9844\n",
            "Epoch 97/100\n",
            "82/82 [==============================] - 0s 5ms/step - loss: 0.0046 - accuracy: 1.0000 - val_loss: 0.0760 - val_accuracy: 0.9841\n",
            "Epoch 98/100\n",
            "82/82 [==============================] - 0s 5ms/step - loss: 0.0045 - accuracy: 1.0000 - val_loss: 0.0764 - val_accuracy: 0.9842\n",
            "Epoch 99/100\n",
            "82/82 [==============================] - 0s 5ms/step - loss: 0.0043 - accuracy: 1.0000 - val_loss: 0.0772 - val_accuracy: 0.9842\n",
            "Epoch 100/100\n",
            "82/82 [==============================] - 0s 5ms/step - loss: 0.0041 - accuracy: 1.0000 - val_loss: 0.0769 - val_accuracy: 0.9839\n"
          ],
          "name": "stdout"
        }
      ]
    },
    {
      "cell_type": "code",
      "metadata": {
        "colab": {
          "base_uri": "https://localhost:8080/",
          "height": 513
        },
        "id": "kAuWjzsJN5gn",
        "outputId": "2cd79b65-bcbf-4bbc-e4eb-ccc7edeb0925"
      },
      "source": [
        "plt.plot(Hist_L2_BN.history['loss'])\n",
        "plt.plot(Hist_L2_BN.history['val_loss'])\n",
        "plt.legend(['Train loss','Test loss'])\n",
        "plt.grid()\n",
        "plt.show()\n",
        "\n",
        "plt.plot(Hist_L2_BN.history['accuracy'])\n",
        "plt.plot(Hist_L2_BN.history['val_accuracy'])\n",
        "plt.legend(['Train accuracy','Test accuracy'])\n",
        "plt.grid()\n",
        "plt.show()"
      ],
      "execution_count": 15,
      "outputs": [
        {
          "output_type": "display_data",
          "data": {
            "image/png": "[encoded data removed]",
            "text/plain": [
              "<Figure size 432x288 with 1 Axes>"
            ]
          },
          "metadata": {
            "tags": [],
            "needs_background": "light"
          }
        },
        {
          "output_type": "display_data",
          "data": {
            "image/png": "[encoded data removed]",
            "text/plain": [
              "<Figure size 432x288 with 1 Axes>"
            ]
          },
          "metadata": {
            "tags": [],
            "needs_background": "light"
          }
        }
      ]
    },
    {
      "cell_type": "code",
      "metadata": {
        "colab": {
          "base_uri": "https://localhost:8080/"
        },
        "id": "Akyd5iJVN-OH",
        "outputId": "2dff382e-6c12-415c-ffb3-251b4a2d9b84"
      },
      "source": [
        "L2_BN_loss, L2_BN_accuracy = L2_BN.evaluate(X_test, y_test)\n",
        "print(L2_BN_loss, L2_BN_accuracy)"
      ],
      "execution_count": 16,
      "outputs": [
        {
          "output_type": "stream",
          "text": [
            "313/313 [==============================] - 1s 2ms/step - loss: 0.0738 - accuracy: 0.9825\n",
            "0.07382486015558243 0.9825000166893005\n"
          ],
          "name": "stdout"
        }
      ]
    },
    {
      "cell_type": "markdown",
      "metadata": {
        "id": "xvhQYvq2T8Q1"
      },
      "source": [
        "# Dropout + BN"
      ]
    },
    {
      "cell_type": "code",
      "metadata": {
        "id": "h2YmCQq0N_0W"
      },
      "source": [
        "from keras import backend as K\n",
        "\n",
        "K.clear_session()"
      ],
      "execution_count": 17,
      "outputs": []
    },
    {
      "cell_type": "code",
      "metadata": {
        "colab": {
          "base_uri": "https://localhost:8080/"
        },
        "id": "VkYcE1GnOA2G",
        "outputId": "c1fcb875-df3e-4889-cf3a-8c25e798452b"
      },
      "source": [
        "DR_BN = models.Sequential()\n",
        "\n",
        "DR_BN.add(layers.Dense(512, input_shape=(28*28,)))\n",
        "DR_BN.add(layers.BatchNormalization())\n",
        "DR_BN.add(layers.Activation('relu'))\n",
        "DR_BN.add(layers.Dropout(0.4))\n",
        "DR_BN.add(layers.Dense(256))\n",
        "DR_BN.add(layers.BatchNormalization())\n",
        "\n",
        "DR_BN.add(layers.Activation('relu'))\n",
        "DR_BN.add(layers.Dropout(0.4))\n",
        "DR_BN.add(layers.Dense(10, activation='softmax'))\n",
        "\n",
        "DR_BN.summary()\n",
        "\n",
        "DR_BN.compile(loss='categorical_crossentropy', optimizer='adam', metrics=['accuracy'])\n",
        "\n",
        "Hist_DR_BN = DR_BN.fit(X_train, y_train, epochs=100, batch_size=516, validation_data=(X_valid, y_valid))\n"
      ],
      "execution_count": 18,
      "outputs": [
        {
          "output_type": "stream",
          "text": [
            "Model: \"sequential\"\n",
            "_________________________________________________________________\n",
            "Layer (type)                 Output Shape              Param #   \n",
            "=================================================================\n",
            "dense (Dense)                (None, 512)               401920    \n",
            "_________________________________________________________________\n",
            "batch_normalization (BatchNo (None, 512)               2048      \n",
            "_________________________________________________________________\n",
            "activation (Activation)      (None, 512)               0         \n",
            "_________________________________________________________________\n",
            "dropout (Dropout)            (None, 512)               0         \n",
            "_________________________________________________________________\n",
            "dense_1 (Dense)              (None, 256)               131328    \n",
            "_________________________________________________________________\n",
            "batch_normalization_1 (Batch (None, 256)               1024      \n",
            "_________________________________________________________________\n",
            "activation_1 (Activation)    (None, 256)               0         \n",
            "_________________________________________________________________\n",
            "dropout_1 (Dropout)          (None, 256)               0         \n",
            "_________________________________________________________________\n",
            "dense_2 (Dense)              (None, 10)                2570      \n",
            "=================================================================\n",
            "Total params: 538,890\n",
            "Trainable params: 537,354\n",
            "Non-trainable params: 1,536\n",
            "_________________________________________________________________\n",
            "Epoch 1/100\n",
            "82/82 [==============================] - 1s 8ms/step - loss: 0.8995 - accuracy: 0.7163 - val_loss: 0.1958 - val_accuracy: 0.9421\n",
            "Epoch 2/100\n",
            "82/82 [==============================] - 0s 5ms/step - loss: 0.2426 - accuracy: 0.9257 - val_loss: 0.1501 - val_accuracy: 0.9551\n",
            "Epoch 3/100\n",
            "82/82 [==============================] - 0s 5ms/step - loss: 0.1794 - accuracy: 0.9462 - val_loss: 0.1325 - val_accuracy: 0.9602\n",
            "Epoch 4/100\n",
            "82/82 [==============================] - 0s 5ms/step - loss: 0.1441 - accuracy: 0.9563 - val_loss: 0.1079 - val_accuracy: 0.9684\n",
            "Epoch 5/100\n",
            "82/82 [==============================] - 0s 5ms/step - loss: 0.1132 - accuracy: 0.9641 - val_loss: 0.1006 - val_accuracy: 0.9692\n",
            "Epoch 6/100\n",
            "82/82 [==============================] - 0s 5ms/step - loss: 0.0980 - accuracy: 0.9684 - val_loss: 0.0900 - val_accuracy: 0.9725\n",
            "Epoch 7/100\n",
            "82/82 [==============================] - 0s 5ms/step - loss: 0.0877 - accuracy: 0.9719 - val_loss: 0.0910 - val_accuracy: 0.9738\n",
            "Epoch 8/100\n",
            "82/82 [==============================] - 0s 5ms/step - loss: 0.0755 - accuracy: 0.9765 - val_loss: 0.0813 - val_accuracy: 0.9763\n",
            "Epoch 9/100\n",
            "82/82 [==============================] - 0s 5ms/step - loss: 0.0685 - accuracy: 0.9778 - val_loss: 0.0850 - val_accuracy: 0.9743\n",
            "Epoch 10/100\n",
            "82/82 [==============================] - 0s 5ms/step - loss: 0.0570 - accuracy: 0.9832 - val_loss: 0.0784 - val_accuracy: 0.9770\n",
            "Epoch 11/100\n",
            "82/82 [==============================] - 0s 5ms/step - loss: 0.0560 - accuracy: 0.9815 - val_loss: 0.0754 - val_accuracy: 0.9785\n",
            "Epoch 12/100\n",
            "82/82 [==============================] - 0s 5ms/step - loss: 0.0547 - accuracy: 0.9826 - val_loss: 0.0748 - val_accuracy: 0.9783\n",
            "Epoch 13/100\n",
            "82/82 [==============================] - 0s 5ms/step - loss: 0.0479 - accuracy: 0.9845 - val_loss: 0.0780 - val_accuracy: 0.9782\n",
            "Epoch 14/100\n",
            "82/82 [==============================] - 0s 5ms/step - loss: 0.0428 - accuracy: 0.9862 - val_loss: 0.0719 - val_accuracy: 0.9792\n",
            "Epoch 15/100\n",
            "82/82 [==============================] - 0s 5ms/step - loss: 0.0418 - accuracy: 0.9860 - val_loss: 0.0757 - val_accuracy: 0.9792\n",
            "Epoch 16/100\n",
            "82/82 [==============================] - 0s 5ms/step - loss: 0.0406 - accuracy: 0.9867 - val_loss: 0.0764 - val_accuracy: 0.9788\n",
            "Epoch 17/100\n",
            "82/82 [==============================] - 0s 5ms/step - loss: 0.0341 - accuracy: 0.9890 - val_loss: 0.0735 - val_accuracy: 0.9794\n",
            "Epoch 18/100\n",
            "82/82 [==============================] - 0s 5ms/step - loss: 0.0356 - accuracy: 0.9879 - val_loss: 0.0764 - val_accuracy: 0.9796\n",
            "Epoch 19/100\n",
            "82/82 [==============================] - 0s 5ms/step - loss: 0.0336 - accuracy: 0.9884 - val_loss: 0.0731 - val_accuracy: 0.9801\n",
            "Epoch 20/100\n",
            "82/82 [==============================] - 0s 5ms/step - loss: 0.0281 - accuracy: 0.9908 - val_loss: 0.0783 - val_accuracy: 0.9791\n",
            "Epoch 21/100\n",
            "82/82 [==============================] - 0s 5ms/step - loss: 0.0287 - accuracy: 0.9906 - val_loss: 0.0752 - val_accuracy: 0.9798\n",
            "Epoch 22/100\n",
            "82/82 [==============================] - 0s 5ms/step - loss: 0.0252 - accuracy: 0.9920 - val_loss: 0.0735 - val_accuracy: 0.9802\n",
            "Epoch 23/100\n",
            "82/82 [==============================] - 0s 5ms/step - loss: 0.0245 - accuracy: 0.9923 - val_loss: 0.0774 - val_accuracy: 0.9793\n",
            "Epoch 24/100\n",
            "82/82 [==============================] - 0s 5ms/step - loss: 0.0240 - accuracy: 0.9924 - val_loss: 0.0734 - val_accuracy: 0.9807\n",
            "Epoch 25/100\n",
            "82/82 [==============================] - 0s 5ms/step - loss: 0.0224 - accuracy: 0.9921 - val_loss: 0.0779 - val_accuracy: 0.9796\n",
            "Epoch 26/100\n",
            "82/82 [==============================] - 0s 5ms/step - loss: 0.0198 - accuracy: 0.9938 - val_loss: 0.0804 - val_accuracy: 0.9797\n",
            "Epoch 27/100\n",
            "82/82 [==============================] - 0s 5ms/step - loss: 0.0214 - accuracy: 0.9930 - val_loss: 0.0807 - val_accuracy: 0.9793\n",
            "Epoch 28/100\n",
            "82/82 [==============================] - 0s 5ms/step - loss: 0.0198 - accuracy: 0.9929 - val_loss: 0.0851 - val_accuracy: 0.9793\n",
            "Epoch 29/100\n",
            "82/82 [==============================] - 0s 5ms/step - loss: 0.0219 - accuracy: 0.9923 - val_loss: 0.0892 - val_accuracy: 0.9776\n",
            "Epoch 30/100\n",
            "82/82 [==============================] - 0s 5ms/step - loss: 0.0191 - accuracy: 0.9940 - val_loss: 0.0772 - val_accuracy: 0.9803\n",
            "Epoch 31/100\n",
            "82/82 [==============================] - 0s 5ms/step - loss: 0.0196 - accuracy: 0.9928 - val_loss: 0.0815 - val_accuracy: 0.9806\n",
            "Epoch 32/100\n",
            "82/82 [==============================] - 0s 5ms/step - loss: 0.0197 - accuracy: 0.9928 - val_loss: 0.0760 - val_accuracy: 0.9808\n",
            "Epoch 33/100\n",
            "82/82 [==============================] - 0s 5ms/step - loss: 0.0187 - accuracy: 0.9932 - val_loss: 0.0810 - val_accuracy: 0.9808\n",
            "Epoch 34/100\n",
            "82/82 [==============================] - 0s 5ms/step - loss: 0.0177 - accuracy: 0.9940 - val_loss: 0.0762 - val_accuracy: 0.9809\n",
            "Epoch 35/100\n",
            "82/82 [==============================] - 0s 5ms/step - loss: 0.0142 - accuracy: 0.9954 - val_loss: 0.0837 - val_accuracy: 0.9806\n",
            "Epoch 36/100\n",
            "82/82 [==============================] - 0s 5ms/step - loss: 0.0148 - accuracy: 0.9950 - val_loss: 0.0797 - val_accuracy: 0.9804\n",
            "Epoch 37/100\n",
            "82/82 [==============================] - 0s 5ms/step - loss: 0.0166 - accuracy: 0.9941 - val_loss: 0.0795 - val_accuracy: 0.9811\n",
            "Epoch 38/100\n",
            "82/82 [==============================] - 0s 5ms/step - loss: 0.0147 - accuracy: 0.9950 - val_loss: 0.0817 - val_accuracy: 0.9808\n",
            "Epoch 39/100\n",
            "82/82 [==============================] - 0s 5ms/step - loss: 0.0135 - accuracy: 0.9952 - val_loss: 0.0760 - val_accuracy: 0.9829\n",
            "Epoch 40/100\n",
            "82/82 [==============================] - 0s 5ms/step - loss: 0.0126 - accuracy: 0.9957 - val_loss: 0.0773 - val_accuracy: 0.9821\n",
            "Epoch 41/100\n",
            "82/82 [==============================] - 0s 5ms/step - loss: 0.0149 - accuracy: 0.9955 - val_loss: 0.0814 - val_accuracy: 0.9805\n",
            "Epoch 42/100\n",
            "82/82 [==============================] - 0s 5ms/step - loss: 0.0156 - accuracy: 0.9944 - val_loss: 0.0834 - val_accuracy: 0.9812\n",
            "Epoch 43/100\n",
            "82/82 [==============================] - 0s 5ms/step - loss: 0.0127 - accuracy: 0.9960 - val_loss: 0.0742 - val_accuracy: 0.9824\n",
            "Epoch 44/100\n",
            "82/82 [==============================] - 0s 5ms/step - loss: 0.0157 - accuracy: 0.9948 - val_loss: 0.0851 - val_accuracy: 0.9816\n",
            "Epoch 45/100\n",
            "82/82 [==============================] - 0s 5ms/step - loss: 0.0147 - accuracy: 0.9950 - val_loss: 0.0799 - val_accuracy: 0.9814\n",
            "Epoch 46/100\n",
            "82/82 [==============================] - 0s 5ms/step - loss: 0.0146 - accuracy: 0.9950 - val_loss: 0.0814 - val_accuracy: 0.9820\n",
            "Epoch 47/100\n",
            "82/82 [==============================] - 0s 5ms/step - loss: 0.0126 - accuracy: 0.9952 - val_loss: 0.0809 - val_accuracy: 0.9827\n",
            "Epoch 48/100\n",
            "82/82 [==============================] - 0s 5ms/step - loss: 0.0133 - accuracy: 0.9952 - val_loss: 0.0785 - val_accuracy: 0.9827\n",
            "Epoch 49/100\n",
            "82/82 [==============================] - 0s 5ms/step - loss: 0.0112 - accuracy: 0.9965 - val_loss: 0.0807 - val_accuracy: 0.9827\n",
            "Epoch 50/100\n",
            "82/82 [==============================] - 0s 5ms/step - loss: 0.0127 - accuracy: 0.9958 - val_loss: 0.0829 - val_accuracy: 0.9816\n",
            "Epoch 51/100\n",
            "82/82 [==============================] - 0s 5ms/step - loss: 0.0123 - accuracy: 0.9958 - val_loss: 0.0821 - val_accuracy: 0.9824\n",
            "Epoch 52/100\n",
            "82/82 [==============================] - 0s 5ms/step - loss: 0.0101 - accuracy: 0.9968 - val_loss: 0.0852 - val_accuracy: 0.9810\n",
            "Epoch 53/100\n",
            "82/82 [==============================] - 0s 5ms/step - loss: 0.0102 - accuracy: 0.9972 - val_loss: 0.0814 - val_accuracy: 0.9819\n",
            "Epoch 54/100\n",
            "82/82 [==============================] - 0s 5ms/step - loss: 0.0102 - accuracy: 0.9963 - val_loss: 0.0819 - val_accuracy: 0.9827\n",
            "Epoch 55/100\n",
            "82/82 [==============================] - 0s 5ms/step - loss: 0.0104 - accuracy: 0.9966 - val_loss: 0.0831 - val_accuracy: 0.9828\n",
            "Epoch 56/100\n",
            "82/82 [==============================] - 0s 5ms/step - loss: 0.0104 - accuracy: 0.9964 - val_loss: 0.0848 - val_accuracy: 0.9819\n",
            "Epoch 57/100\n",
            "82/82 [==============================] - 0s 5ms/step - loss: 0.0107 - accuracy: 0.9963 - val_loss: 0.0839 - val_accuracy: 0.9824\n",
            "Epoch 58/100\n",
            "82/82 [==============================] - 0s 5ms/step - loss: 0.0096 - accuracy: 0.9965 - val_loss: 0.0834 - val_accuracy: 0.9823\n",
            "Epoch 59/100\n",
            "82/82 [==============================] - 0s 5ms/step - loss: 0.0102 - accuracy: 0.9964 - val_loss: 0.0822 - val_accuracy: 0.9829\n",
            "Epoch 60/100\n",
            "82/82 [==============================] - 0s 5ms/step - loss: 0.0100 - accuracy: 0.9967 - val_loss: 0.0828 - val_accuracy: 0.9829\n",
            "Epoch 61/100\n",
            "82/82 [==============================] - 0s 5ms/step - loss: 0.0092 - accuracy: 0.9965 - val_loss: 0.0830 - val_accuracy: 0.9830\n",
            "Epoch 62/100\n",
            "82/82 [==============================] - 0s 5ms/step - loss: 0.0087 - accuracy: 0.9971 - val_loss: 0.0883 - val_accuracy: 0.9812\n",
            "Epoch 63/100\n",
            "82/82 [==============================] - 0s 5ms/step - loss: 0.0110 - accuracy: 0.9962 - val_loss: 0.0834 - val_accuracy: 0.9822\n",
            "Epoch 64/100\n",
            "82/82 [==============================] - 0s 5ms/step - loss: 0.0099 - accuracy: 0.9966 - val_loss: 0.0845 - val_accuracy: 0.9826\n",
            "Epoch 65/100\n",
            "82/82 [==============================] - 0s 5ms/step - loss: 0.0085 - accuracy: 0.9972 - val_loss: 0.0847 - val_accuracy: 0.9817\n",
            "Epoch 66/100\n",
            "82/82 [==============================] - 0s 5ms/step - loss: 0.0101 - accuracy: 0.9969 - val_loss: 0.0864 - val_accuracy: 0.9826\n",
            "Epoch 67/100\n",
            "82/82 [==============================] - 0s 5ms/step - loss: 0.0091 - accuracy: 0.9968 - val_loss: 0.0808 - val_accuracy: 0.9821\n",
            "Epoch 68/100\n",
            "82/82 [==============================] - 0s 5ms/step - loss: 0.0082 - accuracy: 0.9970 - val_loss: 0.0837 - val_accuracy: 0.9821\n",
            "Epoch 69/100\n",
            "82/82 [==============================] - 0s 5ms/step - loss: 0.0094 - accuracy: 0.9970 - val_loss: 0.0859 - val_accuracy: 0.9824\n",
            "Epoch 70/100\n",
            "82/82 [==============================] - 0s 5ms/step - loss: 0.0099 - accuracy: 0.9965 - val_loss: 0.0866 - val_accuracy: 0.9827\n",
            "Epoch 71/100\n",
            "82/82 [==============================] - 0s 5ms/step - loss: 0.0086 - accuracy: 0.9968 - val_loss: 0.0825 - val_accuracy: 0.9828\n",
            "Epoch 72/100\n",
            "82/82 [==============================] - 0s 5ms/step - loss: 0.0082 - accuracy: 0.9973 - val_loss: 0.0830 - val_accuracy: 0.9832\n",
            "Epoch 73/100\n",
            "82/82 [==============================] - 0s 5ms/step - loss: 0.0107 - accuracy: 0.9964 - val_loss: 0.0885 - val_accuracy: 0.9825\n",
            "Epoch 74/100\n",
            "82/82 [==============================] - 0s 5ms/step - loss: 0.0087 - accuracy: 0.9970 - val_loss: 0.0852 - val_accuracy: 0.9829\n",
            "Epoch 75/100\n",
            "82/82 [==============================] - 0s 5ms/step - loss: 0.0082 - accuracy: 0.9971 - val_loss: 0.0891 - val_accuracy: 0.9824\n",
            "Epoch 76/100\n",
            "82/82 [==============================] - 0s 5ms/step - loss: 0.0070 - accuracy: 0.9977 - val_loss: 0.0893 - val_accuracy: 0.9822\n",
            "Epoch 77/100\n",
            "82/82 [==============================] - 0s 5ms/step - loss: 0.0077 - accuracy: 0.9973 - val_loss: 0.0933 - val_accuracy: 0.9820\n",
            "Epoch 78/100\n",
            "82/82 [==============================] - 0s 5ms/step - loss: 0.0094 - accuracy: 0.9970 - val_loss: 0.0894 - val_accuracy: 0.9824\n",
            "Epoch 79/100\n",
            "82/82 [==============================] - 0s 5ms/step - loss: 0.0089 - accuracy: 0.9967 - val_loss: 0.0922 - val_accuracy: 0.9818\n",
            "Epoch 80/100\n",
            "82/82 [==============================] - 0s 5ms/step - loss: 0.0096 - accuracy: 0.9970 - val_loss: 0.0932 - val_accuracy: 0.9828\n",
            "Epoch 81/100\n",
            "82/82 [==============================] - 0s 5ms/step - loss: 0.0071 - accuracy: 0.9974 - val_loss: 0.0918 - val_accuracy: 0.9830\n",
            "Epoch 82/100\n",
            "82/82 [==============================] - 0s 5ms/step - loss: 0.0088 - accuracy: 0.9969 - val_loss: 0.0864 - val_accuracy: 0.9832\n",
            "Epoch 83/100\n",
            "82/82 [==============================] - 0s 5ms/step - loss: 0.0065 - accuracy: 0.9980 - val_loss: 0.0888 - val_accuracy: 0.9828\n",
            "Epoch 84/100\n",
            "82/82 [==============================] - 0s 5ms/step - loss: 0.0079 - accuracy: 0.9970 - val_loss: 0.0894 - val_accuracy: 0.9827\n",
            "Epoch 85/100\n",
            "82/82 [==============================] - 0s 5ms/step - loss: 0.0076 - accuracy: 0.9976 - val_loss: 0.0930 - val_accuracy: 0.9830\n",
            "Epoch 86/100\n",
            "82/82 [==============================] - 0s 5ms/step - loss: 0.0070 - accuracy: 0.9974 - val_loss: 0.0918 - val_accuracy: 0.9827\n",
            "Epoch 87/100\n",
            "82/82 [==============================] - 0s 5ms/step - loss: 0.0097 - accuracy: 0.9970 - val_loss: 0.0921 - val_accuracy: 0.9822\n",
            "Epoch 88/100\n",
            "82/82 [==============================] - 0s 5ms/step - loss: 0.0072 - accuracy: 0.9976 - val_loss: 0.0931 - val_accuracy: 0.9822\n",
            "Epoch 89/100\n",
            "82/82 [==============================] - 0s 5ms/step - loss: 0.0060 - accuracy: 0.9979 - val_loss: 0.0911 - val_accuracy: 0.9838\n",
            "Epoch 90/100\n",
            "82/82 [==============================] - 0s 5ms/step - loss: 0.0088 - accuracy: 0.9971 - val_loss: 0.0920 - val_accuracy: 0.9831\n",
            "Epoch 91/100\n",
            "82/82 [==============================] - 0s 5ms/step - loss: 0.0078 - accuracy: 0.9974 - val_loss: 0.0902 - val_accuracy: 0.9826\n",
            "Epoch 92/100\n",
            "82/82 [==============================] - 0s 5ms/step - loss: 0.0059 - accuracy: 0.9981 - val_loss: 0.0912 - val_accuracy: 0.9826\n",
            "Epoch 93/100\n",
            "82/82 [==============================] - 0s 5ms/step - loss: 0.0071 - accuracy: 0.9978 - val_loss: 0.0932 - val_accuracy: 0.9824\n",
            "Epoch 94/100\n",
            "82/82 [==============================] - 0s 5ms/step - loss: 0.0057 - accuracy: 0.9978 - val_loss: 0.0884 - val_accuracy: 0.9832\n",
            "Epoch 95/100\n",
            "82/82 [==============================] - 0s 5ms/step - loss: 0.0057 - accuracy: 0.9981 - val_loss: 0.0869 - val_accuracy: 0.9841\n",
            "Epoch 96/100\n",
            "82/82 [==============================] - 0s 5ms/step - loss: 0.0079 - accuracy: 0.9975 - val_loss: 0.0920 - val_accuracy: 0.9831\n",
            "Epoch 97/100\n",
            "82/82 [==============================] - 0s 5ms/step - loss: 0.0071 - accuracy: 0.9978 - val_loss: 0.0888 - val_accuracy: 0.9830\n",
            "Epoch 98/100\n",
            "82/82 [==============================] - 0s 5ms/step - loss: 0.0083 - accuracy: 0.9972 - val_loss: 0.0932 - val_accuracy: 0.9829\n",
            "Epoch 99/100\n",
            "82/82 [==============================] - 0s 5ms/step - loss: 0.0064 - accuracy: 0.9979 - val_loss: 0.0965 - val_accuracy: 0.9826\n",
            "Epoch 100/100\n",
            "82/82 [==============================] - 0s 5ms/step - loss: 0.0078 - accuracy: 0.9970 - val_loss: 0.0959 - val_accuracy: 0.9836\n"
          ],
          "name": "stdout"
        }
      ]
    },
    {
      "cell_type": "code",
      "metadata": {
        "colab": {
          "base_uri": "https://localhost:8080/",
          "height": 513
        },
        "id": "QpfbBSYXOFr2",
        "outputId": "4ad3235c-f1b2-4393-8ac0-58b250990e50"
      },
      "source": [
        "plt.plot(Hist_DR_BN.history['loss'])\n",
        "plt.plot(Hist_DR_BN.history['val_loss'])\n",
        "plt.legend(['Train loss','Test loss'])\n",
        "plt.grid()\n",
        "plt.show()\n",
        "\n",
        "plt.plot(Hist_DR_BN.history['accuracy'])\n",
        "plt.plot(Hist_DR_BN.history['val_accuracy'])\n",
        "plt.legend(['Train accuracy','Test accuracy'])\n",
        "plt.grid()\n",
        "plt.show()"
      ],
      "execution_count": 19,
      "outputs": [
        {
          "output_type": "display_data",
          "data": {
            "image/png": "[encoded data removed]",
            "text/plain": [
              "<Figure size 432x288 with 1 Axes>"
            ]
          },
          "metadata": {
            "tags": [],
            "needs_background": "light"
          }
        },
        {
          "output_type": "display_data",
          "data": {
            "image/png": "[encoded data removed]",
            "text/plain": [
              "<Figure size 432x288 with 1 Axes>"
            ]
          },
          "metadata": {
            "tags": [],
            "needs_background": "light"
          }
        }
      ]
    },
    {
      "cell_type": "code",
      "metadata": {
        "colab": {
          "base_uri": "https://localhost:8080/"
        },
        "id": "XEKuBRJJOLIe",
        "outputId": "0387eaa6-e0de-49b9-db6d-6c94ab10cf80"
      },
      "source": [
        "DR_BN_loss, DR_BN_accuracy = DR_BN.evaluate(X_test, y_test)\n",
        "print(DR_BN_loss, DR_BN_accuracy)"
      ],
      "execution_count": 29,
      "outputs": [
        {
          "output_type": "stream",
          "text": [
            "313/313 [==============================] - 1s 2ms/step - loss: 0.0787 - accuracy: 0.9835\n",
            "0.07871673256158829 0.9835000038146973\n"
          ],
          "name": "stdout"
        }
      ]
    },
    {
      "cell_type": "markdown",
      "metadata": {
        "id": "zINSGNnZUB5Y"
      },
      "source": [
        "# L2 + Dropout + BN"
      ]
    },
    {
      "cell_type": "code",
      "metadata": {
        "id": "pw2jUqBqUFUd"
      },
      "source": [
        "from keras import backend as K\n",
        "\n",
        "K.clear_session()"
      ],
      "execution_count": 21,
      "outputs": []
    },
    {
      "cell_type": "code",
      "metadata": {
        "colab": {
          "base_uri": "https://localhost:8080/"
        },
        "id": "9WLjAuNKUMTn",
        "outputId": "673d4a67-4704-4144-c7e7-6ab5cc74ddae"
      },
      "source": [
        "L2_DR_BN = models.Sequential()\n",
        "\n",
        "L2_DR_BN.add(layers.Dense(512, input_shape=(28*28,),\n",
        "                          kernel_regularizer=regularizers.l2(0.00001)))\n",
        "L2_DR_BN.add(layers.BatchNormalization())\n",
        "L2_DR_BN.add(layers.Activation('relu'))\n",
        "L2_DR_BN.add(layers.Dropout(0.4))\n",
        "L2_DR_BN.add(layers.Dense(256,\n",
        "             kernel_regularizer=regularizers.l2(0.00001)))\n",
        "L2_DR_BN.add(layers.BatchNormalization())\n",
        "\n",
        "L2_DR_BN.add(layers.Activation('relu'))\n",
        "L2_DR_BN.add(layers.Dropout(0.4))\n",
        "L2_DR_BN.add(layers.Dense(10, activation='softmax'))\n",
        "\n",
        "L2_DR_BN.summary()\n",
        "\n",
        "L2_DR_BN.compile(loss='categorical_crossentropy', optimizer='adam', metrics=['accuracy'])\n",
        "\n",
        "Hist_L2_DR_BN = L2_DR_BN.fit(X_train, y_train, epochs=100, batch_size=516, validation_data=(X_valid, y_valid))\n"
      ],
      "execution_count": 26,
      "outputs": [
        {
          "output_type": "stream",
          "text": [
            "Model: \"sequential_2\"\n",
            "_________________________________________________________________\n",
            "Layer (type)                 Output Shape              Param #   \n",
            "=================================================================\n",
            "dense_4 (Dense)              (None, 512)               401920    \n",
            "_________________________________________________________________\n",
            "batch_normalization_2 (Batch (None, 512)               2048      \n",
            "_________________________________________________________________\n",
            "activation_2 (Activation)    (None, 512)               0         \n",
            "_________________________________________________________________\n",
            "dropout_2 (Dropout)          (None, 512)               0         \n",
            "_________________________________________________________________\n",
            "dense_5 (Dense)              (None, 256)               131328    \n",
            "_________________________________________________________________\n",
            "batch_normalization_3 (Batch (None, 256)               1024      \n",
            "_________________________________________________________________\n",
            "activation_3 (Activation)    (None, 256)               0         \n",
            "_________________________________________________________________\n",
            "dropout_3 (Dropout)          (None, 256)               0         \n",
            "_________________________________________________________________\n",
            "dense_6 (Dense)              (None, 10)                2570      \n",
            "=================================================================\n",
            "Total params: 538,890\n",
            "Trainable params: 537,354\n",
            "Non-trainable params: 1,536\n",
            "_________________________________________________________________\n",
            "Epoch 1/100\n",
            "82/82 [==============================] - 1s 7ms/step - loss: 0.8738 - accuracy: 0.7274 - val_loss: 0.2022 - val_accuracy: 0.9426\n",
            "Epoch 2/100\n",
            "82/82 [==============================] - 0s 5ms/step - loss: 0.2409 - accuracy: 0.9302 - val_loss: 0.1644 - val_accuracy: 0.9521\n",
            "Epoch 3/100\n",
            "82/82 [==============================] - 0s 5ms/step - loss: 0.1752 - accuracy: 0.9505 - val_loss: 0.1345 - val_accuracy: 0.9615\n",
            "Epoch 4/100\n",
            "82/82 [==============================] - 0s 5ms/step - loss: 0.1448 - accuracy: 0.9594 - val_loss: 0.1141 - val_accuracy: 0.9672\n",
            "Epoch 5/100\n",
            "82/82 [==============================] - 0s 5ms/step - loss: 0.1229 - accuracy: 0.9653 - val_loss: 0.1072 - val_accuracy: 0.9702\n",
            "Epoch 6/100\n",
            "82/82 [==============================] - 0s 5ms/step - loss: 0.1088 - accuracy: 0.9693 - val_loss: 0.1112 - val_accuracy: 0.9688\n",
            "Epoch 7/100\n",
            "82/82 [==============================] - 0s 5ms/step - loss: 0.0956 - accuracy: 0.9741 - val_loss: 0.1038 - val_accuracy: 0.9712\n",
            "Epoch 8/100\n",
            "82/82 [==============================] - 0s 5ms/step - loss: 0.0834 - accuracy: 0.9770 - val_loss: 0.0903 - val_accuracy: 0.9764\n",
            "Epoch 9/100\n",
            "82/82 [==============================] - 0s 5ms/step - loss: 0.0755 - accuracy: 0.9788 - val_loss: 0.0904 - val_accuracy: 0.9760\n",
            "Epoch 10/100\n",
            "82/82 [==============================] - 0s 5ms/step - loss: 0.0716 - accuracy: 0.9807 - val_loss: 0.0835 - val_accuracy: 0.9781\n",
            "Epoch 11/100\n",
            "82/82 [==============================] - 0s 5ms/step - loss: 0.0674 - accuracy: 0.9819 - val_loss: 0.0869 - val_accuracy: 0.9774\n",
            "Epoch 12/100\n",
            "82/82 [==============================] - 0s 5ms/step - loss: 0.0620 - accuracy: 0.9833 - val_loss: 0.0843 - val_accuracy: 0.9780\n",
            "Epoch 13/100\n",
            "82/82 [==============================] - 0s 5ms/step - loss: 0.0598 - accuracy: 0.9831 - val_loss: 0.0913 - val_accuracy: 0.9768\n",
            "Epoch 14/100\n",
            "82/82 [==============================] - 0s 5ms/step - loss: 0.0559 - accuracy: 0.9854 - val_loss: 0.0902 - val_accuracy: 0.9775\n",
            "Epoch 15/100\n",
            "82/82 [==============================] - 0s 5ms/step - loss: 0.0531 - accuracy: 0.9853 - val_loss: 0.0858 - val_accuracy: 0.9792\n",
            "Epoch 16/100\n",
            "82/82 [==============================] - 0s 5ms/step - loss: 0.0500 - accuracy: 0.9866 - val_loss: 0.0815 - val_accuracy: 0.9794\n",
            "Epoch 17/100\n",
            "82/82 [==============================] - 0s 5ms/step - loss: 0.0442 - accuracy: 0.9889 - val_loss: 0.0835 - val_accuracy: 0.9797\n",
            "Epoch 18/100\n",
            "82/82 [==============================] - 0s 5ms/step - loss: 0.0404 - accuracy: 0.9905 - val_loss: 0.0888 - val_accuracy: 0.9798\n",
            "Epoch 19/100\n",
            "82/82 [==============================] - 0s 5ms/step - loss: 0.0440 - accuracy: 0.9888 - val_loss: 0.0823 - val_accuracy: 0.9801\n",
            "Epoch 20/100\n",
            "82/82 [==============================] - 0s 5ms/step - loss: 0.0419 - accuracy: 0.9896 - val_loss: 0.0881 - val_accuracy: 0.9804\n",
            "Epoch 21/100\n",
            "82/82 [==============================] - 0s 5ms/step - loss: 0.0387 - accuracy: 0.9907 - val_loss: 0.0869 - val_accuracy: 0.9805\n",
            "Epoch 22/100\n",
            "82/82 [==============================] - 0s 5ms/step - loss: 0.0390 - accuracy: 0.9903 - val_loss: 0.0870 - val_accuracy: 0.9804\n",
            "Epoch 23/100\n",
            "82/82 [==============================] - 0s 5ms/step - loss: 0.0353 - accuracy: 0.9919 - val_loss: 0.0862 - val_accuracy: 0.9810\n",
            "Epoch 24/100\n",
            "82/82 [==============================] - 0s 5ms/step - loss: 0.0386 - accuracy: 0.9906 - val_loss: 0.0860 - val_accuracy: 0.9810\n",
            "Epoch 25/100\n",
            "82/82 [==============================] - 0s 5ms/step - loss: 0.0367 - accuracy: 0.9917 - val_loss: 0.0861 - val_accuracy: 0.9812\n",
            "Epoch 26/100\n",
            "82/82 [==============================] - 0s 5ms/step - loss: 0.0349 - accuracy: 0.9921 - val_loss: 0.0921 - val_accuracy: 0.9802\n",
            "Epoch 27/100\n",
            "82/82 [==============================] - 0s 5ms/step - loss: 0.0331 - accuracy: 0.9931 - val_loss: 0.0899 - val_accuracy: 0.9802\n",
            "Epoch 28/100\n",
            "82/82 [==============================] - 0s 5ms/step - loss: 0.0316 - accuracy: 0.9937 - val_loss: 0.0861 - val_accuracy: 0.9817\n",
            "Epoch 29/100\n",
            "82/82 [==============================] - 0s 5ms/step - loss: 0.0337 - accuracy: 0.9929 - val_loss: 0.0876 - val_accuracy: 0.9814\n",
            "Epoch 30/100\n",
            "82/82 [==============================] - 0s 5ms/step - loss: 0.0315 - accuracy: 0.9937 - val_loss: 0.0854 - val_accuracy: 0.9811\n",
            "Epoch 31/100\n",
            "82/82 [==============================] - 0s 5ms/step - loss: 0.0327 - accuracy: 0.9923 - val_loss: 0.0862 - val_accuracy: 0.9809\n",
            "Epoch 32/100\n",
            "82/82 [==============================] - 0s 5ms/step - loss: 0.0326 - accuracy: 0.9935 - val_loss: 0.0941 - val_accuracy: 0.9806\n",
            "Epoch 33/100\n",
            "82/82 [==============================] - 0s 5ms/step - loss: 0.0313 - accuracy: 0.9935 - val_loss: 0.0904 - val_accuracy: 0.9814\n",
            "Epoch 34/100\n",
            "82/82 [==============================] - 0s 5ms/step - loss: 0.0321 - accuracy: 0.9929 - val_loss: 0.0996 - val_accuracy: 0.9790\n",
            "Epoch 35/100\n",
            "82/82 [==============================] - 0s 5ms/step - loss: 0.0326 - accuracy: 0.9935 - val_loss: 0.0880 - val_accuracy: 0.9811\n",
            "Epoch 36/100\n",
            "82/82 [==============================] - 0s 5ms/step - loss: 0.0303 - accuracy: 0.9947 - val_loss: 0.0912 - val_accuracy: 0.9811\n",
            "Epoch 37/100\n",
            "82/82 [==============================] - 0s 5ms/step - loss: 0.0323 - accuracy: 0.9936 - val_loss: 0.0898 - val_accuracy: 0.9817\n",
            "Epoch 38/100\n",
            "82/82 [==============================] - 0s 5ms/step - loss: 0.0294 - accuracy: 0.9950 - val_loss: 0.0935 - val_accuracy: 0.9810\n",
            "Epoch 39/100\n",
            "82/82 [==============================] - 0s 5ms/step - loss: 0.0307 - accuracy: 0.9932 - val_loss: 0.0921 - val_accuracy: 0.9813\n",
            "Epoch 40/100\n",
            "82/82 [==============================] - 0s 5ms/step - loss: 0.0312 - accuracy: 0.9940 - val_loss: 0.0913 - val_accuracy: 0.9811\n",
            "Epoch 41/100\n",
            "82/82 [==============================] - 0s 5ms/step - loss: 0.0279 - accuracy: 0.9949 - val_loss: 0.0929 - val_accuracy: 0.9817\n",
            "Epoch 42/100\n",
            "82/82 [==============================] - 0s 5ms/step - loss: 0.0298 - accuracy: 0.9942 - val_loss: 0.0944 - val_accuracy: 0.9815\n",
            "Epoch 43/100\n",
            "82/82 [==============================] - 0s 5ms/step - loss: 0.0289 - accuracy: 0.9948 - val_loss: 0.0910 - val_accuracy: 0.9824\n",
            "Epoch 44/100\n",
            "82/82 [==============================] - 0s 5ms/step - loss: 0.0274 - accuracy: 0.9952 - val_loss: 0.0938 - val_accuracy: 0.9812\n",
            "Epoch 45/100\n",
            "82/82 [==============================] - 0s 5ms/step - loss: 0.0276 - accuracy: 0.9951 - val_loss: 0.0910 - val_accuracy: 0.9822\n",
            "Epoch 46/100\n",
            "82/82 [==============================] - 0s 5ms/step - loss: 0.0280 - accuracy: 0.9947 - val_loss: 0.0995 - val_accuracy: 0.9806\n",
            "Epoch 47/100\n",
            "82/82 [==============================] - 0s 5ms/step - loss: 0.0301 - accuracy: 0.9950 - val_loss: 0.0926 - val_accuracy: 0.9814\n",
            "Epoch 48/100\n",
            "82/82 [==============================] - 0s 5ms/step - loss: 0.0276 - accuracy: 0.9953 - val_loss: 0.0911 - val_accuracy: 0.9827\n",
            "Epoch 49/100\n",
            "82/82 [==============================] - 0s 5ms/step - loss: 0.0273 - accuracy: 0.9958 - val_loss: 0.0953 - val_accuracy: 0.9822\n",
            "Epoch 50/100\n",
            "82/82 [==============================] - 0s 5ms/step - loss: 0.0273 - accuracy: 0.9960 - val_loss: 0.0939 - val_accuracy: 0.9812\n",
            "Epoch 51/100\n",
            "82/82 [==============================] - 0s 5ms/step - loss: 0.0276 - accuracy: 0.9958 - val_loss: 0.0948 - val_accuracy: 0.9816\n",
            "Epoch 52/100\n",
            "82/82 [==============================] - 0s 5ms/step - loss: 0.0265 - accuracy: 0.9955 - val_loss: 0.0984 - val_accuracy: 0.9806\n",
            "Epoch 53/100\n",
            "82/82 [==============================] - 0s 5ms/step - loss: 0.0292 - accuracy: 0.9950 - val_loss: 0.0983 - val_accuracy: 0.9812\n",
            "Epoch 54/100\n",
            "82/82 [==============================] - 0s 5ms/step - loss: 0.0274 - accuracy: 0.9954 - val_loss: 0.0998 - val_accuracy: 0.9812\n",
            "Epoch 55/100\n",
            "82/82 [==============================] - 0s 5ms/step - loss: 0.0268 - accuracy: 0.9957 - val_loss: 0.0968 - val_accuracy: 0.9816\n",
            "Epoch 56/100\n",
            "82/82 [==============================] - 0s 5ms/step - loss: 0.0278 - accuracy: 0.9952 - val_loss: 0.0939 - val_accuracy: 0.9821\n",
            "Epoch 57/100\n",
            "82/82 [==============================] - 0s 5ms/step - loss: 0.0283 - accuracy: 0.9956 - val_loss: 0.0958 - val_accuracy: 0.9822\n",
            "Epoch 58/100\n",
            "82/82 [==============================] - 0s 5ms/step - loss: 0.0279 - accuracy: 0.9952 - val_loss: 0.1029 - val_accuracy: 0.9799\n",
            "Epoch 59/100\n",
            "82/82 [==============================] - 0s 5ms/step - loss: 0.0297 - accuracy: 0.9953 - val_loss: 0.0955 - val_accuracy: 0.9821\n",
            "Epoch 60/100\n",
            "82/82 [==============================] - 0s 5ms/step - loss: 0.0286 - accuracy: 0.9952 - val_loss: 0.0947 - val_accuracy: 0.9825\n",
            "Epoch 61/100\n",
            "82/82 [==============================] - 0s 5ms/step - loss: 0.0275 - accuracy: 0.9959 - val_loss: 0.1028 - val_accuracy: 0.9819\n",
            "Epoch 62/100\n",
            "82/82 [==============================] - 0s 5ms/step - loss: 0.0271 - accuracy: 0.9958 - val_loss: 0.1039 - val_accuracy: 0.9806\n",
            "Epoch 63/100\n",
            "82/82 [==============================] - 0s 5ms/step - loss: 0.0272 - accuracy: 0.9957 - val_loss: 0.1005 - val_accuracy: 0.9813\n",
            "Epoch 64/100\n",
            "82/82 [==============================] - 0s 5ms/step - loss: 0.0267 - accuracy: 0.9958 - val_loss: 0.0939 - val_accuracy: 0.9824\n",
            "Epoch 65/100\n",
            "82/82 [==============================] - 0s 5ms/step - loss: 0.0255 - accuracy: 0.9963 - val_loss: 0.0976 - val_accuracy: 0.9827\n",
            "Epoch 66/100\n",
            "82/82 [==============================] - 0s 5ms/step - loss: 0.0257 - accuracy: 0.9963 - val_loss: 0.1067 - val_accuracy: 0.9817\n",
            "Epoch 67/100\n",
            "82/82 [==============================] - 0s 5ms/step - loss: 0.0278 - accuracy: 0.9956 - val_loss: 0.1045 - val_accuracy: 0.9812\n",
            "Epoch 68/100\n",
            "82/82 [==============================] - 0s 5ms/step - loss: 0.0260 - accuracy: 0.9963 - val_loss: 0.0974 - val_accuracy: 0.9836\n",
            "Epoch 69/100\n",
            "82/82 [==============================] - 0s 5ms/step - loss: 0.0263 - accuracy: 0.9961 - val_loss: 0.0977 - val_accuracy: 0.9828\n",
            "Epoch 70/100\n",
            "82/82 [==============================] - 0s 5ms/step - loss: 0.0239 - accuracy: 0.9970 - val_loss: 0.1001 - val_accuracy: 0.9819\n",
            "Epoch 71/100\n",
            "82/82 [==============================] - 0s 5ms/step - loss: 0.0249 - accuracy: 0.9967 - val_loss: 0.1004 - val_accuracy: 0.9828\n",
            "Epoch 72/100\n",
            "82/82 [==============================] - 0s 5ms/step - loss: 0.0277 - accuracy: 0.9957 - val_loss: 0.0981 - val_accuracy: 0.9827\n",
            "Epoch 73/100\n",
            "82/82 [==============================] - 0s 5ms/step - loss: 0.0275 - accuracy: 0.9963 - val_loss: 0.0998 - val_accuracy: 0.9831\n",
            "Epoch 74/100\n",
            "82/82 [==============================] - 0s 5ms/step - loss: 0.0245 - accuracy: 0.9970 - val_loss: 0.1012 - val_accuracy: 0.9822\n",
            "Epoch 75/100\n",
            "82/82 [==============================] - 0s 5ms/step - loss: 0.0266 - accuracy: 0.9964 - val_loss: 0.0997 - val_accuracy: 0.9817\n",
            "Epoch 76/100\n",
            "82/82 [==============================] - 0s 5ms/step - loss: 0.0270 - accuracy: 0.9960 - val_loss: 0.1070 - val_accuracy: 0.9814\n",
            "Epoch 77/100\n",
            "82/82 [==============================] - 0s 5ms/step - loss: 0.0278 - accuracy: 0.9958 - val_loss: 0.0982 - val_accuracy: 0.9829\n",
            "Epoch 78/100\n",
            "82/82 [==============================] - 0s 5ms/step - loss: 0.0263 - accuracy: 0.9960 - val_loss: 0.0999 - val_accuracy: 0.9828\n",
            "Epoch 79/100\n",
            "82/82 [==============================] - 0s 5ms/step - loss: 0.0284 - accuracy: 0.9956 - val_loss: 0.0981 - val_accuracy: 0.9825\n",
            "Epoch 80/100\n",
            "82/82 [==============================] - 0s 5ms/step - loss: 0.0246 - accuracy: 0.9968 - val_loss: 0.1002 - val_accuracy: 0.9825\n",
            "Epoch 81/100\n",
            "82/82 [==============================] - 0s 5ms/step - loss: 0.0255 - accuracy: 0.9967 - val_loss: 0.0973 - val_accuracy: 0.9835\n",
            "Epoch 82/100\n",
            "82/82 [==============================] - 0s 5ms/step - loss: 0.0256 - accuracy: 0.9965 - val_loss: 0.1041 - val_accuracy: 0.9828\n",
            "Epoch 83/100\n",
            "82/82 [==============================] - 0s 5ms/step - loss: 0.0263 - accuracy: 0.9962 - val_loss: 0.0983 - val_accuracy: 0.9836\n",
            "Epoch 84/100\n",
            "82/82 [==============================] - 0s 5ms/step - loss: 0.0256 - accuracy: 0.9970 - val_loss: 0.1044 - val_accuracy: 0.9819\n",
            "Epoch 85/100\n",
            "82/82 [==============================] - 0s 5ms/step - loss: 0.0255 - accuracy: 0.9966 - val_loss: 0.1036 - val_accuracy: 0.9826\n",
            "Epoch 86/100\n",
            "82/82 [==============================] - 0s 5ms/step - loss: 0.0289 - accuracy: 0.9955 - val_loss: 0.1014 - val_accuracy: 0.9824\n",
            "Epoch 87/100\n",
            "82/82 [==============================] - 0s 5ms/step - loss: 0.0266 - accuracy: 0.9965 - val_loss: 0.1029 - val_accuracy: 0.9832\n",
            "Epoch 88/100\n",
            "82/82 [==============================] - 0s 5ms/step - loss: 0.0283 - accuracy: 0.9961 - val_loss: 0.1011 - val_accuracy: 0.9826\n",
            "Epoch 89/100\n",
            "82/82 [==============================] - 0s 5ms/step - loss: 0.0265 - accuracy: 0.9962 - val_loss: 0.0974 - val_accuracy: 0.9838\n",
            "Epoch 90/100\n",
            "82/82 [==============================] - 0s 5ms/step - loss: 0.0270 - accuracy: 0.9963 - val_loss: 0.1059 - val_accuracy: 0.9822\n",
            "Epoch 91/100\n",
            "82/82 [==============================] - 0s 5ms/step - loss: 0.0273 - accuracy: 0.9963 - val_loss: 0.1014 - val_accuracy: 0.9832\n",
            "Epoch 92/100\n",
            "82/82 [==============================] - 0s 5ms/step - loss: 0.0258 - accuracy: 0.9971 - val_loss: 0.1082 - val_accuracy: 0.9826\n",
            "Epoch 93/100\n",
            "82/82 [==============================] - 0s 5ms/step - loss: 0.0251 - accuracy: 0.9972 - val_loss: 0.1063 - val_accuracy: 0.9824\n",
            "Epoch 94/100\n",
            "82/82 [==============================] - 0s 5ms/step - loss: 0.0251 - accuracy: 0.9970 - val_loss: 0.1019 - val_accuracy: 0.9833\n",
            "Epoch 95/100\n",
            "82/82 [==============================] - 0s 5ms/step - loss: 0.0260 - accuracy: 0.9970 - val_loss: 0.1045 - val_accuracy: 0.9827\n",
            "Epoch 96/100\n",
            "82/82 [==============================] - 0s 5ms/step - loss: 0.0257 - accuracy: 0.9976 - val_loss: 0.1065 - val_accuracy: 0.9815\n",
            "Epoch 97/100\n",
            "82/82 [==============================] - 0s 5ms/step - loss: 0.0262 - accuracy: 0.9967 - val_loss: 0.1024 - val_accuracy: 0.9828\n",
            "Epoch 98/100\n",
            "82/82 [==============================] - 0s 5ms/step - loss: 0.0266 - accuracy: 0.9965 - val_loss: 0.1061 - val_accuracy: 0.9830\n",
            "Epoch 99/100\n",
            "82/82 [==============================] - 0s 5ms/step - loss: 0.0263 - accuracy: 0.9966 - val_loss: 0.1054 - val_accuracy: 0.9829\n",
            "Epoch 100/100\n",
            "82/82 [==============================] - 0s 5ms/step - loss: 0.0260 - accuracy: 0.9971 - val_loss: 0.1011 - val_accuracy: 0.9830\n"
          ],
          "name": "stdout"
        }
      ]
    },
    {
      "cell_type": "code",
      "metadata": {
        "colab": {
          "base_uri": "https://localhost:8080/",
          "height": 513
        },
        "id": "WnWFfCMkjsYM",
        "outputId": "3b592af6-6f13-4291-c03e-839d7e34aab1"
      },
      "source": [
        "plt.plot(Hist_L2_DR_BN.history['loss'])\n",
        "plt.plot(Hist_L2_DR_BN.history['val_loss'])\n",
        "plt.legend(['Train loss','Test loss'])\n",
        "plt.grid()\n",
        "plt.show()\n",
        "\n",
        "plt.plot(Hist_L2_DR_BN.history['accuracy'])\n",
        "plt.plot(Hist_L2_DR_BN.history['val_accuracy'])\n",
        "plt.legend(['Train accuracy','Test accuracy'])\n",
        "plt.grid()\n",
        "plt.show()"
      ],
      "execution_count": 27,
      "outputs": [
        {
          "output_type": "display_data",
          "data": {
            "image/png": "[encoded data removed]",
            "text/plain": [
              "<Figure size 432x288 with 1 Axes>"
            ]
          },
          "metadata": {
            "tags": [],
            "needs_background": "light"
          }
        },
        {
          "output_type": "display_data",
          "data": {
            "image/png": "[encoded data removed]",
            "text/plain": [
              "<Figure size 432x288 with 1 Axes>"
            ]
          },
          "metadata": {
            "tags": [],
            "needs_background": "light"
          }
        }
      ]
    },
    {
      "cell_type": "code",
      "metadata": {
        "colab": {
          "base_uri": "https://localhost:8080/"
        },
        "id": "hbfQLldfj2Jb",
        "outputId": "4ad14f3e-5941-4eb2-aff2-11555d8a9a0b"
      },
      "source": [
        "L2_DR_BN_loss, L2_DR_BN_accuracy = L2_DR_BN.evaluate(X_test, y_test)\n",
        "print(L2_DR_BN_loss, L2_DR_BN_accuracy)"
      ],
      "execution_count": 28,
      "outputs": [
        {
          "output_type": "stream",
          "text": [
            "313/313 [==============================] - 1s 2ms/step - loss: 0.0889 - accuracy: 0.9844\n",
            "0.08885643631219864 0.9843999743461609\n"
          ],
          "name": "stdout"
        }
      ]
    },
    {
      "cell_type": "markdown",
      "metadata": {
        "id": "dSJQCZWjkMPE"
      },
      "source": [
        "# 비교"
      ]
    },
    {
      "cell_type": "code",
      "metadata": {
        "colab": {
          "base_uri": "https://localhost:8080/",
          "height": 168
        },
        "id": "OGOFWkptkLoF",
        "outputId": "aab0aff6-fde8-4232-aca7-209d63d61c16"
      },
      "source": [
        "import pandas as pd\n",
        "\n",
        "result = pd.DataFrame({\n",
        "                          \"Model\" : ['L2 + Dropout', 'L2+BatchNormal','Dropout + BatchNormal','L2+Dropout+BatchNormal'],\n",
        "                          \"Accuracy\" : [L2_DR_accuracy, L2_BN_accuracy, DR_BN_accuracy, L2_DR_BN_accuracy],\n",
        "                          \"Loss\" : [L2_DR_loss, L2_BN_loss, DR_BN_loss, L2_DR_BN_loss]})\n",
        "\n",
        "result.sort_values(by=['Accuracy'], axis=0, ascending=False)"
      ],
      "execution_count": 34,
      "outputs": [
        {
          "output_type": "execute_result",
          "data": {
            "text/html": [
              "<div>\n",
              "<style scoped>\n",
              "    .dataframe tbody tr th:only-of-type {\n",
              "        vertical-align: middle;\n",
              "    }\n",
              "\n",
              "    .dataframe tbody tr th {\n",
              "        vertical-align: top;\n",
              "    }\n",
              "\n",
              "    .dataframe thead th {\n",
              "        text-align: right;\n",
              "    }\n",
              "</style>\n",
              "<table border=\"1\" class=\"dataframe\">\n",
              "  <thead>\n",
              "    <tr style=\"text-align: right;\">\n",
              "      <th></th>\n",
              "      <th>Model</th>\n",
              "      <th>Accuracy</th>\n",
              "      <th>Loss</th>\n",
              "    </tr>\n",
              "  </thead>\n",
              "  <tbody>\n",
              "    <tr>\n",
              "      <th>3</th>\n",
              "      <td>L2+Dropout+BatchNormal</td>\n",
              "      <td>0.9844</td>\n",
              "      <td>0.088856</td>\n",
              "    </tr>\n",
              "    <tr>\n",
              "      <th>2</th>\n",
              "      <td>Dropout + BatchNormal</td>\n",
              "      <td>0.9835</td>\n",
              "      <td>0.078717</td>\n",
              "    </tr>\n",
              "    <tr>\n",
              "      <th>1</th>\n",
              "      <td>L2+BatchNormal</td>\n",
              "      <td>0.9825</td>\n",
              "      <td>0.073825</td>\n",
              "    </tr>\n",
              "    <tr>\n",
              "      <th>0</th>\n",
              "      <td>L2 + Dropout</td>\n",
              "      <td>0.9770</td>\n",
              "      <td>0.136621</td>\n",
              "    </tr>\n",
              "  </tbody>\n",
              "</table>\n",
              "</div>"
            ],
            "text/plain": [
              "                    Model  Accuracy      Loss\n",
              "3  L2+Dropout+BatchNormal    0.9844  0.088856\n",
              "2   Dropout + BatchNormal    0.9835  0.078717\n",
              "1          L2+BatchNormal    0.9825  0.073825\n",
              "0            L2 + Dropout    0.9770  0.136621"
            ]
          },
          "metadata": {
            "tags": []
          },
          "execution_count": 34
        }
      ]
    },
    {
      "cell_type": "code",
      "metadata": {
        "id": "El9YlNf1lRlj"
      },
      "source": [
        ""
      ],
      "execution_count": null,
      "outputs": []
    }
  ]
}