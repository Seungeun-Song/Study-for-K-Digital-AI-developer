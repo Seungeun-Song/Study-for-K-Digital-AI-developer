{
  "nbformat": 4,
  "nbformat_minor": 0,
  "metadata": {
    "colab": {
      "name": "21_03_01_titanic_MV.ipynb",
      "provenance": [],
      "collapsed_sections": []
    },
    "kernelspec": {
      "name": "python3",
      "display_name": "Python 3"
    }
  },
  "cells": [
    {
      "cell_type": "code",
      "metadata": {
        "colab": {
          "base_uri": "https://localhost:8080/",
          "height": 199
        },
        "id": "D7ZNKxdXIC2C",
        "outputId": "8d77f461-7290-46b2-cfba-401e88a2609c"
      },
      "source": [
        "import pandas as pd\r\n",
        "\r\n",
        "titanic = pd.read_csv('https://raw.githubusercontent.com/rusita-ai/pyData/master/titanic.csv')\r\n",
        "titanic.head()"
      ],
      "execution_count": 45,
      "outputs": [
        {
          "output_type": "execute_result",
          "data": {
            "text/html": [
              "<div>\n",
              "<style scoped>\n",
              "    .dataframe tbody tr th:only-of-type {\n",
              "        vertical-align: middle;\n",
              "    }\n",
              "\n",
              "    .dataframe tbody tr th {\n",
              "        vertical-align: top;\n",
              "    }\n",
              "\n",
              "    .dataframe thead th {\n",
              "        text-align: right;\n",
              "    }\n",
              "</style>\n",
              "<table border=\"1\" class=\"dataframe\">\n",
              "  <thead>\n",
              "    <tr style=\"text-align: right;\">\n",
              "      <th></th>\n",
              "      <th>survived</th>\n",
              "      <th>pclass</th>\n",
              "      <th>sex</th>\n",
              "      <th>age</th>\n",
              "      <th>sibsp</th>\n",
              "      <th>parch</th>\n",
              "      <th>fare</th>\n",
              "      <th>embarked</th>\n",
              "      <th>class</th>\n",
              "      <th>who</th>\n",
              "      <th>adult_male</th>\n",
              "      <th>deck</th>\n",
              "      <th>embark_town</th>\n",
              "      <th>alive</th>\n",
              "      <th>alone</th>\n",
              "    </tr>\n",
              "  </thead>\n",
              "  <tbody>\n",
              "    <tr>\n",
              "      <th>0</th>\n",
              "      <td>0</td>\n",
              "      <td>3</td>\n",
              "      <td>male</td>\n",
              "      <td>22.0</td>\n",
              "      <td>1</td>\n",
              "      <td>0</td>\n",
              "      <td>7.2500</td>\n",
              "      <td>S</td>\n",
              "      <td>Third</td>\n",
              "      <td>man</td>\n",
              "      <td>True</td>\n",
              "      <td>NaN</td>\n",
              "      <td>Southampton</td>\n",
              "      <td>no</td>\n",
              "      <td>False</td>\n",
              "    </tr>\n",
              "    <tr>\n",
              "      <th>1</th>\n",
              "      <td>1</td>\n",
              "      <td>1</td>\n",
              "      <td>female</td>\n",
              "      <td>38.0</td>\n",
              "      <td>1</td>\n",
              "      <td>0</td>\n",
              "      <td>71.2833</td>\n",
              "      <td>C</td>\n",
              "      <td>First</td>\n",
              "      <td>woman</td>\n",
              "      <td>False</td>\n",
              "      <td>C</td>\n",
              "      <td>Cherbourg</td>\n",
              "      <td>yes</td>\n",
              "      <td>False</td>\n",
              "    </tr>\n",
              "    <tr>\n",
              "      <th>2</th>\n",
              "      <td>1</td>\n",
              "      <td>3</td>\n",
              "      <td>female</td>\n",
              "      <td>26.0</td>\n",
              "      <td>0</td>\n",
              "      <td>0</td>\n",
              "      <td>7.9250</td>\n",
              "      <td>S</td>\n",
              "      <td>Third</td>\n",
              "      <td>woman</td>\n",
              "      <td>False</td>\n",
              "      <td>NaN</td>\n",
              "      <td>Southampton</td>\n",
              "      <td>yes</td>\n",
              "      <td>True</td>\n",
              "    </tr>\n",
              "    <tr>\n",
              "      <th>3</th>\n",
              "      <td>1</td>\n",
              "      <td>1</td>\n",
              "      <td>female</td>\n",
              "      <td>35.0</td>\n",
              "      <td>1</td>\n",
              "      <td>0</td>\n",
              "      <td>53.1000</td>\n",
              "      <td>S</td>\n",
              "      <td>First</td>\n",
              "      <td>woman</td>\n",
              "      <td>False</td>\n",
              "      <td>C</td>\n",
              "      <td>Southampton</td>\n",
              "      <td>yes</td>\n",
              "      <td>False</td>\n",
              "    </tr>\n",
              "    <tr>\n",
              "      <th>4</th>\n",
              "      <td>0</td>\n",
              "      <td>3</td>\n",
              "      <td>male</td>\n",
              "      <td>35.0</td>\n",
              "      <td>0</td>\n",
              "      <td>0</td>\n",
              "      <td>8.0500</td>\n",
              "      <td>S</td>\n",
              "      <td>Third</td>\n",
              "      <td>man</td>\n",
              "      <td>True</td>\n",
              "      <td>NaN</td>\n",
              "      <td>Southampton</td>\n",
              "      <td>no</td>\n",
              "      <td>True</td>\n",
              "    </tr>\n",
              "  </tbody>\n",
              "</table>\n",
              "</div>"
            ],
            "text/plain": [
              "   survived  pclass     sex   age  ...  deck  embark_town  alive  alone\n",
              "0         0       3    male  22.0  ...   NaN  Southampton     no  False\n",
              "1         1       1  female  38.0  ...     C    Cherbourg    yes  False\n",
              "2         1       3  female  26.0  ...   NaN  Southampton    yes   True\n",
              "3         1       1  female  35.0  ...     C  Southampton    yes  False\n",
              "4         0       3    male  35.0  ...   NaN  Southampton     no   True\n",
              "\n",
              "[5 rows x 15 columns]"
            ]
          },
          "metadata": {
            "tags": []
          },
          "execution_count": 45
        }
      ]
    },
    {
      "cell_type": "code",
      "metadata": {
        "colab": {
          "base_uri": "https://localhost:8080/"
        },
        "id": "7qfzjsObR4Fm",
        "outputId": "ae91f5d9-1133-4fc8-922a-a00a5311890e"
      },
      "source": [
        "titanic.info()"
      ],
      "execution_count": 46,
      "outputs": [
        {
          "output_type": "stream",
          "text": [
            "<class 'pandas.core.frame.DataFrame'>\n",
            "RangeIndex: 891 entries, 0 to 890\n",
            "Data columns (total 15 columns):\n",
            " #   Column       Non-Null Count  Dtype  \n",
            "---  ------       --------------  -----  \n",
            " 0   survived     891 non-null    int64  \n",
            " 1   pclass       891 non-null    int64  \n",
            " 2   sex          891 non-null    object \n",
            " 3   age          714 non-null    float64\n",
            " 4   sibsp        891 non-null    int64  \n",
            " 5   parch        891 non-null    int64  \n",
            " 6   fare         891 non-null    float64\n",
            " 7   embarked     889 non-null    object \n",
            " 8   class        891 non-null    object \n",
            " 9   who          891 non-null    object \n",
            " 10  adult_male   891 non-null    bool   \n",
            " 11  deck         203 non-null    object \n",
            " 12  embark_town  889 non-null    object \n",
            " 13  alive        891 non-null    object \n",
            " 14  alone        891 non-null    bool   \n",
            "dtypes: bool(2), float64(2), int64(4), object(7)\n",
            "memory usage: 92.4+ KB\n"
          ],
          "name": "stdout"
        }
      ]
    },
    {
      "cell_type": "code",
      "metadata": {
        "id": "8SPaYRoeSPhl"
      },
      "source": [
        "titanic = titanic.dropna(subset=['age','fare'], how='any', axis=0)\r\n"
      ],
      "execution_count": 75,
      "outputs": []
    },
    {
      "cell_type": "code",
      "metadata": {
        "colab": {
          "base_uri": "https://localhost:8080/",
          "height": 339
        },
        "id": "HGKGy6JxJVUO",
        "outputId": "0b63775a-d21a-4b2e-fedc-4eec3cf67288"
      },
      "source": [
        "import seaborn as sns\r\n",
        "import matplotlib.pyplot as plt\r\n",
        "\r\n",
        "\r\n",
        "sns.regplot(titanic[['age']], titanic[['fare']], line_kws = {'color':'red'},\r\n",
        "            scatter_kws = {'edgecolor':'white'})\r\n",
        "plt.ylim(0,300)\r\n",
        "plt.show()"
      ],
      "execution_count": 76,
      "outputs": [
        {
          "output_type": "stream",
          "text": [
            "/usr/local/lib/python3.7/dist-packages/seaborn/_decorators.py:43: FutureWarning: Pass the following variables as keyword args: x, y. From version 0.12, the only valid positional argument will be `data`, and passing other arguments without an explicit keyword will result in an error or misinterpretation.\n",
            "  FutureWarning\n"
          ],
          "name": "stderr"
        },
        {
          "output_type": "display_data",
          "data": {
            "image/png": "[encoded data removed]",
            "text/plain": [
              "<Figure size 432x288 with 1 Axes>"
            ]
          },
          "metadata": {
            "tags": [],
            "needs_background": "light"
          }
        }
      ]
    },
    {
      "cell_type": "code",
      "metadata": {
        "colab": {
          "base_uri": "https://localhost:8080/"
        },
        "id": "_qkvB69mRjj3",
        "outputId": "35663add-3016-48a6-8fcf-c76697e44143"
      },
      "source": [
        "import numpy as np\r\n",
        "\r\n",
        "print(np.corrcoef(titanic['age'], titanic['fare']))"
      ],
      "execution_count": 77,
      "outputs": [
        {
          "output_type": "stream",
          "text": [
            "[[1.         0.09606669]\n",
            " [0.09606669 1.        ]]\n"
          ],
          "name": "stdout"
        }
      ]
    },
    {
      "cell_type": "code",
      "metadata": {
        "colab": {
          "base_uri": "https://localhost:8080/",
          "height": 336
        },
        "id": "S9gWwP_QQicn",
        "outputId": "ec273c57-db85-46c0-dd00-aacadd29d1bb"
      },
      "source": [
        "sns.regplot(titanic[['age']], titanic[['fare']], line_kws = {'color':'red'},\r\n",
        "            scatter_kws = {'edgecolor':'white'}, order=9)\r\n",
        "plt.ylim(0,150)\r\n",
        "plt.show()"
      ],
      "execution_count": 78,
      "outputs": [
        {
          "output_type": "stream",
          "text": [
            "/usr/local/lib/python3.7/dist-packages/seaborn/_decorators.py:43: FutureWarning: Pass the following variables as keyword args: x, y. From version 0.12, the only valid positional argument will be `data`, and passing other arguments without an explicit keyword will result in an error or misinterpretation.\n",
            "  FutureWarning\n"
          ],
          "name": "stderr"
        },
        {
          "output_type": "display_data",
          "data": {
            "image/png": "[encoded data removed]",
            "text/plain": [
              "<Figure size 432x288 with 1 Axes>"
            ]
          },
          "metadata": {
            "tags": [],
            "needs_background": "light"
          }
        }
      ]
    },
    {
      "cell_type": "code",
      "metadata": {
        "colab": {
          "base_uri": "https://localhost:8080/"
        },
        "id": "FZhuUEWLJ0c8",
        "outputId": "697da067-073c-44c6-f69c-57cdb168b5d9"
      },
      "source": [
        "class_age = titanic.groupby(['class'])\r\n",
        "\r\n",
        "\r\n",
        "First_class_age = class_age.get_group('First')\r\n",
        "Second_class_age = class_age.get_group('Second')\r\n",
        "Third_class_age = class_age.get_group('Third')\r\n",
        "\r\n",
        "print(First_class_age.head(3))\r\n",
        "print(Second_class_age.head(3))\r\n",
        "print(Third_class_age.head(3))"
      ],
      "execution_count": 79,
      "outputs": [
        {
          "output_type": "stream",
          "text": [
            "   survived  pclass     sex   age  ...  deck  embark_town  alive  alone\n",
            "1         1       1  female  38.0  ...     C    Cherbourg    yes  False\n",
            "3         1       1  female  35.0  ...     C  Southampton    yes  False\n",
            "6         0       1    male  54.0  ...     E  Southampton     no   True\n",
            "\n",
            "[3 rows x 15 columns]\n",
            "    survived  pclass     sex   age  ...  deck  embark_town  alive  alone\n",
            "9          1       2  female  14.0  ...   NaN    Cherbourg    yes  False\n",
            "15         1       2  female  55.0  ...   NaN  Southampton    yes   True\n",
            "20         0       2    male  35.0  ...   NaN  Southampton     no   True\n",
            "\n",
            "[3 rows x 15 columns]\n",
            "   survived  pclass     sex   age  ...  deck  embark_town  alive  alone\n",
            "0         0       3    male  22.0  ...   NaN  Southampton     no  False\n",
            "2         1       3  female  26.0  ...   NaN  Southampton    yes   True\n",
            "4         0       3    male  35.0  ...   NaN  Southampton     no   True\n",
            "\n",
            "[3 rows x 15 columns]\n"
          ],
          "name": "stdout"
        }
      ]
    },
    {
      "cell_type": "code",
      "metadata": {
        "colab": {
          "base_uri": "https://localhost:8080/",
          "height": 199
        },
        "id": "k5s9IjyUO77x",
        "outputId": "9934a90a-2a97-4362-eae0-f614f8c312a4"
      },
      "source": [
        "First_class_age.head()"
      ],
      "execution_count": 80,
      "outputs": [
        {
          "output_type": "execute_result",
          "data": {
            "text/html": [
              "<div>\n",
              "<style scoped>\n",
              "    .dataframe tbody tr th:only-of-type {\n",
              "        vertical-align: middle;\n",
              "    }\n",
              "\n",
              "    .dataframe tbody tr th {\n",
              "        vertical-align: top;\n",
              "    }\n",
              "\n",
              "    .dataframe thead th {\n",
              "        text-align: right;\n",
              "    }\n",
              "</style>\n",
              "<table border=\"1\" class=\"dataframe\">\n",
              "  <thead>\n",
              "    <tr style=\"text-align: right;\">\n",
              "      <th></th>\n",
              "      <th>survived</th>\n",
              "      <th>pclass</th>\n",
              "      <th>sex</th>\n",
              "      <th>age</th>\n",
              "      <th>sibsp</th>\n",
              "      <th>parch</th>\n",
              "      <th>fare</th>\n",
              "      <th>embarked</th>\n",
              "      <th>class</th>\n",
              "      <th>who</th>\n",
              "      <th>adult_male</th>\n",
              "      <th>deck</th>\n",
              "      <th>embark_town</th>\n",
              "      <th>alive</th>\n",
              "      <th>alone</th>\n",
              "    </tr>\n",
              "  </thead>\n",
              "  <tbody>\n",
              "    <tr>\n",
              "      <th>1</th>\n",
              "      <td>1</td>\n",
              "      <td>1</td>\n",
              "      <td>female</td>\n",
              "      <td>38.0</td>\n",
              "      <td>1</td>\n",
              "      <td>0</td>\n",
              "      <td>71.2833</td>\n",
              "      <td>C</td>\n",
              "      <td>First</td>\n",
              "      <td>woman</td>\n",
              "      <td>False</td>\n",
              "      <td>C</td>\n",
              "      <td>Cherbourg</td>\n",
              "      <td>yes</td>\n",
              "      <td>False</td>\n",
              "    </tr>\n",
              "    <tr>\n",
              "      <th>3</th>\n",
              "      <td>1</td>\n",
              "      <td>1</td>\n",
              "      <td>female</td>\n",
              "      <td>35.0</td>\n",
              "      <td>1</td>\n",
              "      <td>0</td>\n",
              "      <td>53.1000</td>\n",
              "      <td>S</td>\n",
              "      <td>First</td>\n",
              "      <td>woman</td>\n",
              "      <td>False</td>\n",
              "      <td>C</td>\n",
              "      <td>Southampton</td>\n",
              "      <td>yes</td>\n",
              "      <td>False</td>\n",
              "    </tr>\n",
              "    <tr>\n",
              "      <th>6</th>\n",
              "      <td>0</td>\n",
              "      <td>1</td>\n",
              "      <td>male</td>\n",
              "      <td>54.0</td>\n",
              "      <td>0</td>\n",
              "      <td>0</td>\n",
              "      <td>51.8625</td>\n",
              "      <td>S</td>\n",
              "      <td>First</td>\n",
              "      <td>man</td>\n",
              "      <td>True</td>\n",
              "      <td>E</td>\n",
              "      <td>Southampton</td>\n",
              "      <td>no</td>\n",
              "      <td>True</td>\n",
              "    </tr>\n",
              "    <tr>\n",
              "      <th>11</th>\n",
              "      <td>1</td>\n",
              "      <td>1</td>\n",
              "      <td>female</td>\n",
              "      <td>58.0</td>\n",
              "      <td>0</td>\n",
              "      <td>0</td>\n",
              "      <td>26.5500</td>\n",
              "      <td>S</td>\n",
              "      <td>First</td>\n",
              "      <td>woman</td>\n",
              "      <td>False</td>\n",
              "      <td>C</td>\n",
              "      <td>Southampton</td>\n",
              "      <td>yes</td>\n",
              "      <td>True</td>\n",
              "    </tr>\n",
              "    <tr>\n",
              "      <th>23</th>\n",
              "      <td>1</td>\n",
              "      <td>1</td>\n",
              "      <td>male</td>\n",
              "      <td>28.0</td>\n",
              "      <td>0</td>\n",
              "      <td>0</td>\n",
              "      <td>35.5000</td>\n",
              "      <td>S</td>\n",
              "      <td>First</td>\n",
              "      <td>man</td>\n",
              "      <td>True</td>\n",
              "      <td>A</td>\n",
              "      <td>Southampton</td>\n",
              "      <td>yes</td>\n",
              "      <td>True</td>\n",
              "    </tr>\n",
              "  </tbody>\n",
              "</table>\n",
              "</div>"
            ],
            "text/plain": [
              "    survived  pclass     sex   age  ...  deck  embark_town  alive  alone\n",
              "1          1       1  female  38.0  ...     C    Cherbourg    yes  False\n",
              "3          1       1  female  35.0  ...     C  Southampton    yes  False\n",
              "6          0       1    male  54.0  ...     E  Southampton     no   True\n",
              "11         1       1  female  58.0  ...     C  Southampton    yes   True\n",
              "23         1       1    male  28.0  ...     A  Southampton    yes   True\n",
              "\n",
              "[5 rows x 15 columns]"
            ]
          },
          "metadata": {
            "tags": []
          },
          "execution_count": 80
        }
      ]
    },
    {
      "cell_type": "code",
      "metadata": {
        "colab": {
          "base_uri": "https://localhost:8080/",
          "height": 279
        },
        "id": "IAciR1WJPqtX",
        "outputId": "742a3103-78db-42a5-9481-4c678360fd67"
      },
      "source": [
        "sns.regplot(x='age', y='fare', data=First_class_age,\r\n",
        "            line_kws={'color':'green'},\r\n",
        "            scatter_kws = {'edgecolor':'white'})\r\n",
        "plt.ylim(0,150)\r\n",
        "plt.show()"
      ],
      "execution_count": 81,
      "outputs": [
        {
          "output_type": "display_data",
          "data": {
            "image/png": "[encoded data removed]",
            "text/plain": [
              "<Figure size 432x288 with 1 Axes>"
            ]
          },
          "metadata": {
            "tags": [],
            "needs_background": "light"
          }
        }
      ]
    },
    {
      "cell_type": "code",
      "metadata": {
        "colab": {
          "base_uri": "https://localhost:8080/"
        },
        "id": "DpAAmAkpS3en",
        "outputId": "986e52e5-3cd4-4ff9-885d-1e0f06b78eae"
      },
      "source": [
        "import numpy as np\r\n",
        "print(np.corrcoef(First_class_age['age'],First_class_age['fare']))"
      ],
      "execution_count": 83,
      "outputs": [
        {
          "output_type": "stream",
          "text": [
            "[[ 1.        -0.2186108]\n",
            " [-0.2186108  1.       ]]\n"
          ],
          "name": "stdout"
        }
      ]
    },
    {
      "cell_type": "code",
      "metadata": {
        "colab": {
          "base_uri": "https://localhost:8080/",
          "height": 503
        },
        "id": "n_oaEFTlRPtu",
        "outputId": "cbae8a1d-3b8a-41c2-b9d8-b9887b7e3d0d"
      },
      "source": [
        "survived_class = titanic.groupby(['class'])\r\n",
        "First_class_survived = survived_class.get_group('First')\r\n",
        "survived_class.head()"
      ],
      "execution_count": 84,
      "outputs": [
        {
          "output_type": "execute_result",
          "data": {
            "text/html": [
              "<div>\n",
              "<style scoped>\n",
              "    .dataframe tbody tr th:only-of-type {\n",
              "        vertical-align: middle;\n",
              "    }\n",
              "\n",
              "    .dataframe tbody tr th {\n",
              "        vertical-align: top;\n",
              "    }\n",
              "\n",
              "    .dataframe thead th {\n",
              "        text-align: right;\n",
              "    }\n",
              "</style>\n",
              "<table border=\"1\" class=\"dataframe\">\n",
              "  <thead>\n",
              "    <tr style=\"text-align: right;\">\n",
              "      <th></th>\n",
              "      <th>survived</th>\n",
              "      <th>pclass</th>\n",
              "      <th>sex</th>\n",
              "      <th>age</th>\n",
              "      <th>sibsp</th>\n",
              "      <th>parch</th>\n",
              "      <th>fare</th>\n",
              "      <th>embarked</th>\n",
              "      <th>class</th>\n",
              "      <th>who</th>\n",
              "      <th>adult_male</th>\n",
              "      <th>deck</th>\n",
              "      <th>embark_town</th>\n",
              "      <th>alive</th>\n",
              "      <th>alone</th>\n",
              "    </tr>\n",
              "  </thead>\n",
              "  <tbody>\n",
              "    <tr>\n",
              "      <th>0</th>\n",
              "      <td>0</td>\n",
              "      <td>3</td>\n",
              "      <td>male</td>\n",
              "      <td>22.0</td>\n",
              "      <td>1</td>\n",
              "      <td>0</td>\n",
              "      <td>7.2500</td>\n",
              "      <td>S</td>\n",
              "      <td>Third</td>\n",
              "      <td>man</td>\n",
              "      <td>True</td>\n",
              "      <td>NaN</td>\n",
              "      <td>Southampton</td>\n",
              "      <td>no</td>\n",
              "      <td>False</td>\n",
              "    </tr>\n",
              "    <tr>\n",
              "      <th>1</th>\n",
              "      <td>1</td>\n",
              "      <td>1</td>\n",
              "      <td>female</td>\n",
              "      <td>38.0</td>\n",
              "      <td>1</td>\n",
              "      <td>0</td>\n",
              "      <td>71.2833</td>\n",
              "      <td>C</td>\n",
              "      <td>First</td>\n",
              "      <td>woman</td>\n",
              "      <td>False</td>\n",
              "      <td>C</td>\n",
              "      <td>Cherbourg</td>\n",
              "      <td>yes</td>\n",
              "      <td>False</td>\n",
              "    </tr>\n",
              "    <tr>\n",
              "      <th>2</th>\n",
              "      <td>1</td>\n",
              "      <td>3</td>\n",
              "      <td>female</td>\n",
              "      <td>26.0</td>\n",
              "      <td>0</td>\n",
              "      <td>0</td>\n",
              "      <td>7.9250</td>\n",
              "      <td>S</td>\n",
              "      <td>Third</td>\n",
              "      <td>woman</td>\n",
              "      <td>False</td>\n",
              "      <td>NaN</td>\n",
              "      <td>Southampton</td>\n",
              "      <td>yes</td>\n",
              "      <td>True</td>\n",
              "    </tr>\n",
              "    <tr>\n",
              "      <th>3</th>\n",
              "      <td>1</td>\n",
              "      <td>1</td>\n",
              "      <td>female</td>\n",
              "      <td>35.0</td>\n",
              "      <td>1</td>\n",
              "      <td>0</td>\n",
              "      <td>53.1000</td>\n",
              "      <td>S</td>\n",
              "      <td>First</td>\n",
              "      <td>woman</td>\n",
              "      <td>False</td>\n",
              "      <td>C</td>\n",
              "      <td>Southampton</td>\n",
              "      <td>yes</td>\n",
              "      <td>False</td>\n",
              "    </tr>\n",
              "    <tr>\n",
              "      <th>4</th>\n",
              "      <td>0</td>\n",
              "      <td>3</td>\n",
              "      <td>male</td>\n",
              "      <td>35.0</td>\n",
              "      <td>0</td>\n",
              "      <td>0</td>\n",
              "      <td>8.0500</td>\n",
              "      <td>S</td>\n",
              "      <td>Third</td>\n",
              "      <td>man</td>\n",
              "      <td>True</td>\n",
              "      <td>NaN</td>\n",
              "      <td>Southampton</td>\n",
              "      <td>no</td>\n",
              "      <td>True</td>\n",
              "    </tr>\n",
              "    <tr>\n",
              "      <th>6</th>\n",
              "      <td>0</td>\n",
              "      <td>1</td>\n",
              "      <td>male</td>\n",
              "      <td>54.0</td>\n",
              "      <td>0</td>\n",
              "      <td>0</td>\n",
              "      <td>51.8625</td>\n",
              "      <td>S</td>\n",
              "      <td>First</td>\n",
              "      <td>man</td>\n",
              "      <td>True</td>\n",
              "      <td>E</td>\n",
              "      <td>Southampton</td>\n",
              "      <td>no</td>\n",
              "      <td>True</td>\n",
              "    </tr>\n",
              "    <tr>\n",
              "      <th>7</th>\n",
              "      <td>0</td>\n",
              "      <td>3</td>\n",
              "      <td>male</td>\n",
              "      <td>2.0</td>\n",
              "      <td>3</td>\n",
              "      <td>1</td>\n",
              "      <td>21.0750</td>\n",
              "      <td>S</td>\n",
              "      <td>Third</td>\n",
              "      <td>child</td>\n",
              "      <td>False</td>\n",
              "      <td>NaN</td>\n",
              "      <td>Southampton</td>\n",
              "      <td>no</td>\n",
              "      <td>False</td>\n",
              "    </tr>\n",
              "    <tr>\n",
              "      <th>8</th>\n",
              "      <td>1</td>\n",
              "      <td>3</td>\n",
              "      <td>female</td>\n",
              "      <td>27.0</td>\n",
              "      <td>0</td>\n",
              "      <td>2</td>\n",
              "      <td>11.1333</td>\n",
              "      <td>S</td>\n",
              "      <td>Third</td>\n",
              "      <td>woman</td>\n",
              "      <td>False</td>\n",
              "      <td>NaN</td>\n",
              "      <td>Southampton</td>\n",
              "      <td>yes</td>\n",
              "      <td>False</td>\n",
              "    </tr>\n",
              "    <tr>\n",
              "      <th>9</th>\n",
              "      <td>1</td>\n",
              "      <td>2</td>\n",
              "      <td>female</td>\n",
              "      <td>14.0</td>\n",
              "      <td>1</td>\n",
              "      <td>0</td>\n",
              "      <td>30.0708</td>\n",
              "      <td>C</td>\n",
              "      <td>Second</td>\n",
              "      <td>child</td>\n",
              "      <td>False</td>\n",
              "      <td>NaN</td>\n",
              "      <td>Cherbourg</td>\n",
              "      <td>yes</td>\n",
              "      <td>False</td>\n",
              "    </tr>\n",
              "    <tr>\n",
              "      <th>11</th>\n",
              "      <td>1</td>\n",
              "      <td>1</td>\n",
              "      <td>female</td>\n",
              "      <td>58.0</td>\n",
              "      <td>0</td>\n",
              "      <td>0</td>\n",
              "      <td>26.5500</td>\n",
              "      <td>S</td>\n",
              "      <td>First</td>\n",
              "      <td>woman</td>\n",
              "      <td>False</td>\n",
              "      <td>C</td>\n",
              "      <td>Southampton</td>\n",
              "      <td>yes</td>\n",
              "      <td>True</td>\n",
              "    </tr>\n",
              "    <tr>\n",
              "      <th>15</th>\n",
              "      <td>1</td>\n",
              "      <td>2</td>\n",
              "      <td>female</td>\n",
              "      <td>55.0</td>\n",
              "      <td>0</td>\n",
              "      <td>0</td>\n",
              "      <td>16.0000</td>\n",
              "      <td>S</td>\n",
              "      <td>Second</td>\n",
              "      <td>woman</td>\n",
              "      <td>False</td>\n",
              "      <td>NaN</td>\n",
              "      <td>Southampton</td>\n",
              "      <td>yes</td>\n",
              "      <td>True</td>\n",
              "    </tr>\n",
              "    <tr>\n",
              "      <th>20</th>\n",
              "      <td>0</td>\n",
              "      <td>2</td>\n",
              "      <td>male</td>\n",
              "      <td>35.0</td>\n",
              "      <td>0</td>\n",
              "      <td>0</td>\n",
              "      <td>26.0000</td>\n",
              "      <td>S</td>\n",
              "      <td>Second</td>\n",
              "      <td>man</td>\n",
              "      <td>True</td>\n",
              "      <td>NaN</td>\n",
              "      <td>Southampton</td>\n",
              "      <td>no</td>\n",
              "      <td>True</td>\n",
              "    </tr>\n",
              "    <tr>\n",
              "      <th>21</th>\n",
              "      <td>1</td>\n",
              "      <td>2</td>\n",
              "      <td>male</td>\n",
              "      <td>34.0</td>\n",
              "      <td>0</td>\n",
              "      <td>0</td>\n",
              "      <td>13.0000</td>\n",
              "      <td>S</td>\n",
              "      <td>Second</td>\n",
              "      <td>man</td>\n",
              "      <td>True</td>\n",
              "      <td>D</td>\n",
              "      <td>Southampton</td>\n",
              "      <td>yes</td>\n",
              "      <td>True</td>\n",
              "    </tr>\n",
              "    <tr>\n",
              "      <th>23</th>\n",
              "      <td>1</td>\n",
              "      <td>1</td>\n",
              "      <td>male</td>\n",
              "      <td>28.0</td>\n",
              "      <td>0</td>\n",
              "      <td>0</td>\n",
              "      <td>35.5000</td>\n",
              "      <td>S</td>\n",
              "      <td>First</td>\n",
              "      <td>man</td>\n",
              "      <td>True</td>\n",
              "      <td>A</td>\n",
              "      <td>Southampton</td>\n",
              "      <td>yes</td>\n",
              "      <td>True</td>\n",
              "    </tr>\n",
              "    <tr>\n",
              "      <th>33</th>\n",
              "      <td>0</td>\n",
              "      <td>2</td>\n",
              "      <td>male</td>\n",
              "      <td>66.0</td>\n",
              "      <td>0</td>\n",
              "      <td>0</td>\n",
              "      <td>10.5000</td>\n",
              "      <td>S</td>\n",
              "      <td>Second</td>\n",
              "      <td>man</td>\n",
              "      <td>True</td>\n",
              "      <td>NaN</td>\n",
              "      <td>Southampton</td>\n",
              "      <td>no</td>\n",
              "      <td>True</td>\n",
              "    </tr>\n",
              "  </tbody>\n",
              "</table>\n",
              "</div>"
            ],
            "text/plain": [
              "    survived  pclass     sex   age  ...  deck  embark_town  alive  alone\n",
              "0          0       3    male  22.0  ...   NaN  Southampton     no  False\n",
              "1          1       1  female  38.0  ...     C    Cherbourg    yes  False\n",
              "2          1       3  female  26.0  ...   NaN  Southampton    yes   True\n",
              "3          1       1  female  35.0  ...     C  Southampton    yes  False\n",
              "4          0       3    male  35.0  ...   NaN  Southampton     no   True\n",
              "6          0       1    male  54.0  ...     E  Southampton     no   True\n",
              "7          0       3    male   2.0  ...   NaN  Southampton     no  False\n",
              "8          1       3  female  27.0  ...   NaN  Southampton    yes  False\n",
              "9          1       2  female  14.0  ...   NaN    Cherbourg    yes  False\n",
              "11         1       1  female  58.0  ...     C  Southampton    yes   True\n",
              "15         1       2  female  55.0  ...   NaN  Southampton    yes   True\n",
              "20         0       2    male  35.0  ...   NaN  Southampton     no   True\n",
              "21         1       2    male  34.0  ...     D  Southampton    yes   True\n",
              "23         1       1    male  28.0  ...     A  Southampton    yes   True\n",
              "33         0       2    male  66.0  ...   NaN  Southampton     no   True\n",
              "\n",
              "[15 rows x 15 columns]"
            ]
          },
          "metadata": {
            "tags": []
          },
          "execution_count": 84
        }
      ]
    },
    {
      "cell_type": "code",
      "metadata": {
        "colab": {
          "base_uri": "https://localhost:8080/",
          "height": 199
        },
        "id": "K8-AjBrFVtBV",
        "outputId": "9277ce1f-fff1-428c-e520-fc7df3664fa5"
      },
      "source": [
        "First_class_survived.head()"
      ],
      "execution_count": 85,
      "outputs": [
        {
          "output_type": "execute_result",
          "data": {
            "text/html": [
              "<div>\n",
              "<style scoped>\n",
              "    .dataframe tbody tr th:only-of-type {\n",
              "        vertical-align: middle;\n",
              "    }\n",
              "\n",
              "    .dataframe tbody tr th {\n",
              "        vertical-align: top;\n",
              "    }\n",
              "\n",
              "    .dataframe thead th {\n",
              "        text-align: right;\n",
              "    }\n",
              "</style>\n",
              "<table border=\"1\" class=\"dataframe\">\n",
              "  <thead>\n",
              "    <tr style=\"text-align: right;\">\n",
              "      <th></th>\n",
              "      <th>survived</th>\n",
              "      <th>pclass</th>\n",
              "      <th>sex</th>\n",
              "      <th>age</th>\n",
              "      <th>sibsp</th>\n",
              "      <th>parch</th>\n",
              "      <th>fare</th>\n",
              "      <th>embarked</th>\n",
              "      <th>class</th>\n",
              "      <th>who</th>\n",
              "      <th>adult_male</th>\n",
              "      <th>deck</th>\n",
              "      <th>embark_town</th>\n",
              "      <th>alive</th>\n",
              "      <th>alone</th>\n",
              "    </tr>\n",
              "  </thead>\n",
              "  <tbody>\n",
              "    <tr>\n",
              "      <th>1</th>\n",
              "      <td>1</td>\n",
              "      <td>1</td>\n",
              "      <td>female</td>\n",
              "      <td>38.0</td>\n",
              "      <td>1</td>\n",
              "      <td>0</td>\n",
              "      <td>71.2833</td>\n",
              "      <td>C</td>\n",
              "      <td>First</td>\n",
              "      <td>woman</td>\n",
              "      <td>False</td>\n",
              "      <td>C</td>\n",
              "      <td>Cherbourg</td>\n",
              "      <td>yes</td>\n",
              "      <td>False</td>\n",
              "    </tr>\n",
              "    <tr>\n",
              "      <th>3</th>\n",
              "      <td>1</td>\n",
              "      <td>1</td>\n",
              "      <td>female</td>\n",
              "      <td>35.0</td>\n",
              "      <td>1</td>\n",
              "      <td>0</td>\n",
              "      <td>53.1000</td>\n",
              "      <td>S</td>\n",
              "      <td>First</td>\n",
              "      <td>woman</td>\n",
              "      <td>False</td>\n",
              "      <td>C</td>\n",
              "      <td>Southampton</td>\n",
              "      <td>yes</td>\n",
              "      <td>False</td>\n",
              "    </tr>\n",
              "    <tr>\n",
              "      <th>6</th>\n",
              "      <td>0</td>\n",
              "      <td>1</td>\n",
              "      <td>male</td>\n",
              "      <td>54.0</td>\n",
              "      <td>0</td>\n",
              "      <td>0</td>\n",
              "      <td>51.8625</td>\n",
              "      <td>S</td>\n",
              "      <td>First</td>\n",
              "      <td>man</td>\n",
              "      <td>True</td>\n",
              "      <td>E</td>\n",
              "      <td>Southampton</td>\n",
              "      <td>no</td>\n",
              "      <td>True</td>\n",
              "    </tr>\n",
              "    <tr>\n",
              "      <th>11</th>\n",
              "      <td>1</td>\n",
              "      <td>1</td>\n",
              "      <td>female</td>\n",
              "      <td>58.0</td>\n",
              "      <td>0</td>\n",
              "      <td>0</td>\n",
              "      <td>26.5500</td>\n",
              "      <td>S</td>\n",
              "      <td>First</td>\n",
              "      <td>woman</td>\n",
              "      <td>False</td>\n",
              "      <td>C</td>\n",
              "      <td>Southampton</td>\n",
              "      <td>yes</td>\n",
              "      <td>True</td>\n",
              "    </tr>\n",
              "    <tr>\n",
              "      <th>23</th>\n",
              "      <td>1</td>\n",
              "      <td>1</td>\n",
              "      <td>male</td>\n",
              "      <td>28.0</td>\n",
              "      <td>0</td>\n",
              "      <td>0</td>\n",
              "      <td>35.5000</td>\n",
              "      <td>S</td>\n",
              "      <td>First</td>\n",
              "      <td>man</td>\n",
              "      <td>True</td>\n",
              "      <td>A</td>\n",
              "      <td>Southampton</td>\n",
              "      <td>yes</td>\n",
              "      <td>True</td>\n",
              "    </tr>\n",
              "  </tbody>\n",
              "</table>\n",
              "</div>"
            ],
            "text/plain": [
              "    survived  pclass     sex   age  ...  deck  embark_town  alive  alone\n",
              "1          1       1  female  38.0  ...     C    Cherbourg    yes  False\n",
              "3          1       1  female  35.0  ...     C  Southampton    yes  False\n",
              "6          0       1    male  54.0  ...     E  Southampton     no   True\n",
              "11         1       1  female  58.0  ...     C  Southampton    yes   True\n",
              "23         1       1    male  28.0  ...     A  Southampton    yes   True\n",
              "\n",
              "[5 rows x 15 columns]"
            ]
          },
          "metadata": {
            "tags": []
          },
          "execution_count": 85
        }
      ]
    },
    {
      "cell_type": "code",
      "metadata": {
        "colab": {
          "base_uri": "https://localhost:8080/"
        },
        "id": "Da5shkJhUJO5",
        "outputId": "e68117bc-a37b-44e0-b161-67748d34424e"
      },
      "source": [
        "print(np.corrcoef(First_class_survived['pclass'], First_class_survived['survived']))"
      ],
      "execution_count": 88,
      "outputs": [
        {
          "output_type": "stream",
          "text": [
            "[[nan nan]\n",
            " [nan  1.]]\n"
          ],
          "name": "stdout"
        },
        {
          "output_type": "stream",
          "text": [
            "/usr/local/lib/python3.7/dist-packages/numpy/lib/function_base.py:2559: RuntimeWarning: invalid value encountered in true_divide\n",
            "  c /= stddev[:, None]\n",
            "/usr/local/lib/python3.7/dist-packages/numpy/lib/function_base.py:2560: RuntimeWarning: invalid value encountered in true_divide\n",
            "  c /= stddev[None, :]\n"
          ],
          "name": "stderr"
        }
      ]
    },
    {
      "cell_type": "code",
      "metadata": {
        "colab": {
          "base_uri": "https://localhost:8080/"
        },
        "id": "dzlkuVCaUapN",
        "outputId": "883233f1-c908-482b-ab66-50e43d64f3c0"
      },
      "source": [
        "First_class_survived.info()"
      ],
      "execution_count": 87,
      "outputs": [
        {
          "output_type": "stream",
          "text": [
            "<class 'pandas.core.frame.DataFrame'>\n",
            "Int64Index: 186 entries, 1 to 889\n",
            "Data columns (total 15 columns):\n",
            " #   Column       Non-Null Count  Dtype  \n",
            "---  ------       --------------  -----  \n",
            " 0   survived     186 non-null    int64  \n",
            " 1   pclass       186 non-null    int64  \n",
            " 2   sex          186 non-null    object \n",
            " 3   age          186 non-null    float64\n",
            " 4   sibsp        186 non-null    int64  \n",
            " 5   parch        186 non-null    int64  \n",
            " 6   fare         186 non-null    float64\n",
            " 7   embarked     184 non-null    object \n",
            " 8   class        186 non-null    object \n",
            " 9   who          186 non-null    object \n",
            " 10  adult_male   186 non-null    bool   \n",
            " 11  deck         159 non-null    object \n",
            " 12  embark_town  184 non-null    object \n",
            " 13  alive        186 non-null    object \n",
            " 14  alone        186 non-null    bool   \n",
            "dtypes: bool(2), float64(2), int64(4), object(7)\n",
            "memory usage: 20.7+ KB\n"
          ],
          "name": "stdout"
        }
      ]
    },
    {
      "cell_type": "code",
      "metadata": {
        "colab": {
          "base_uri": "https://localhost:8080/",
          "height": 260
        },
        "id": "0Dwqa20sWCNs",
        "outputId": "b61975c3-f3b5-4e46-d9ce-bb05f84023ed"
      },
      "source": [
        "a = titanic.groupby(['class','sex'])\r\n",
        "a.mean(['age','fare'])\r\n"
      ],
      "execution_count": 97,
      "outputs": [
        {
          "output_type": "execute_result",
          "data": {
            "text/html": [
              "<div>\n",
              "<style scoped>\n",
              "    .dataframe tbody tr th:only-of-type {\n",
              "        vertical-align: middle;\n",
              "    }\n",
              "\n",
              "    .dataframe tbody tr th {\n",
              "        vertical-align: top;\n",
              "    }\n",
              "\n",
              "    .dataframe thead th {\n",
              "        text-align: right;\n",
              "    }\n",
              "</style>\n",
              "<table border=\"1\" class=\"dataframe\">\n",
              "  <thead>\n",
              "    <tr style=\"text-align: right;\">\n",
              "      <th></th>\n",
              "      <th></th>\n",
              "      <th>survived</th>\n",
              "      <th>pclass</th>\n",
              "      <th>age</th>\n",
              "      <th>sibsp</th>\n",
              "      <th>parch</th>\n",
              "      <th>fare</th>\n",
              "      <th>adult_male</th>\n",
              "      <th>alone</th>\n",
              "    </tr>\n",
              "    <tr>\n",
              "      <th>class</th>\n",
              "      <th>sex</th>\n",
              "      <th></th>\n",
              "      <th></th>\n",
              "      <th></th>\n",
              "      <th></th>\n",
              "      <th></th>\n",
              "      <th></th>\n",
              "      <th></th>\n",
              "      <th></th>\n",
              "    </tr>\n",
              "  </thead>\n",
              "  <tbody>\n",
              "    <tr>\n",
              "      <th rowspan=\"2\" valign=\"top\">First</th>\n",
              "      <th>female</th>\n",
              "      <td>0.964706</td>\n",
              "      <td>1.0</td>\n",
              "      <td>34.611765</td>\n",
              "      <td>0.541176</td>\n",
              "      <td>0.494118</td>\n",
              "      <td>107.946275</td>\n",
              "      <td>0.000000</td>\n",
              "      <td>0.376471</td>\n",
              "    </tr>\n",
              "    <tr>\n",
              "      <th>male</th>\n",
              "      <td>0.396040</td>\n",
              "      <td>1.0</td>\n",
              "      <td>41.281386</td>\n",
              "      <td>0.376238</td>\n",
              "      <td>0.336634</td>\n",
              "      <td>71.142781</td>\n",
              "      <td>0.970297</td>\n",
              "      <td>0.534653</td>\n",
              "    </tr>\n",
              "    <tr>\n",
              "      <th rowspan=\"2\" valign=\"top\">Second</th>\n",
              "      <th>female</th>\n",
              "      <td>0.918919</td>\n",
              "      <td>2.0</td>\n",
              "      <td>28.722973</td>\n",
              "      <td>0.500000</td>\n",
              "      <td>0.621622</td>\n",
              "      <td>21.951070</td>\n",
              "      <td>0.000000</td>\n",
              "      <td>0.405405</td>\n",
              "    </tr>\n",
              "    <tr>\n",
              "      <th>male</th>\n",
              "      <td>0.151515</td>\n",
              "      <td>2.0</td>\n",
              "      <td>30.740707</td>\n",
              "      <td>0.373737</td>\n",
              "      <td>0.242424</td>\n",
              "      <td>21.113131</td>\n",
              "      <td>0.909091</td>\n",
              "      <td>0.636364</td>\n",
              "    </tr>\n",
              "    <tr>\n",
              "      <th rowspan=\"2\" valign=\"top\">Third</th>\n",
              "      <th>female</th>\n",
              "      <td>0.460784</td>\n",
              "      <td>3.0</td>\n",
              "      <td>21.750000</td>\n",
              "      <td>0.823529</td>\n",
              "      <td>0.950980</td>\n",
              "      <td>15.875369</td>\n",
              "      <td>0.000000</td>\n",
              "      <td>0.372549</td>\n",
              "    </tr>\n",
              "    <tr>\n",
              "      <th>male</th>\n",
              "      <td>0.150198</td>\n",
              "      <td>3.0</td>\n",
              "      <td>26.507589</td>\n",
              "      <td>0.490119</td>\n",
              "      <td>0.256917</td>\n",
              "      <td>12.162695</td>\n",
              "      <td>0.889328</td>\n",
              "      <td>0.739130</td>\n",
              "    </tr>\n",
              "  </tbody>\n",
              "</table>\n",
              "</div>"
            ],
            "text/plain": [
              "               survived  pclass        age  ...        fare  adult_male     alone\n",
              "class  sex                                  ...                                  \n",
              "First  female  0.964706     1.0  34.611765  ...  107.946275    0.000000  0.376471\n",
              "       male    0.396040     1.0  41.281386  ...   71.142781    0.970297  0.534653\n",
              "Second female  0.918919     2.0  28.722973  ...   21.951070    0.000000  0.405405\n",
              "       male    0.151515     2.0  30.740707  ...   21.113131    0.909091  0.636364\n",
              "Third  female  0.460784     3.0  21.750000  ...   15.875369    0.000000  0.372549\n",
              "       male    0.150198     3.0  26.507589  ...   12.162695    0.889328  0.739130\n",
              "\n",
              "[6 rows x 8 columns]"
            ]
          },
          "metadata": {
            "tags": []
          },
          "execution_count": 97
        }
      ]
    },
    {
      "cell_type": "code",
      "metadata": {
        "colab": {
          "base_uri": "https://localhost:8080/",
          "height": 139
        },
        "id": "ltayCBrwW75M",
        "outputId": "d1145410-763c-4a76-c1db-ee0ce655a130"
      },
      "source": [
        "b = titanic.groupby(['sex'])\r\n",
        "b.mean()"
      ],
      "execution_count": 98,
      "outputs": [
        {
          "output_type": "execute_result",
          "data": {
            "text/html": [
              "<div>\n",
              "<style scoped>\n",
              "    .dataframe tbody tr th:only-of-type {\n",
              "        vertical-align: middle;\n",
              "    }\n",
              "\n",
              "    .dataframe tbody tr th {\n",
              "        vertical-align: top;\n",
              "    }\n",
              "\n",
              "    .dataframe thead th {\n",
              "        text-align: right;\n",
              "    }\n",
              "</style>\n",
              "<table border=\"1\" class=\"dataframe\">\n",
              "  <thead>\n",
              "    <tr style=\"text-align: right;\">\n",
              "      <th></th>\n",
              "      <th>survived</th>\n",
              "      <th>pclass</th>\n",
              "      <th>age</th>\n",
              "      <th>sibsp</th>\n",
              "      <th>parch</th>\n",
              "      <th>fare</th>\n",
              "      <th>adult_male</th>\n",
              "      <th>alone</th>\n",
              "    </tr>\n",
              "    <tr>\n",
              "      <th>sex</th>\n",
              "      <th></th>\n",
              "      <th></th>\n",
              "      <th></th>\n",
              "      <th></th>\n",
              "      <th></th>\n",
              "      <th></th>\n",
              "      <th></th>\n",
              "      <th></th>\n",
              "    </tr>\n",
              "  </thead>\n",
              "  <tbody>\n",
              "    <tr>\n",
              "      <th>female</th>\n",
              "      <td>0.754789</td>\n",
              "      <td>2.065134</td>\n",
              "      <td>27.915709</td>\n",
              "      <td>0.639847</td>\n",
              "      <td>0.708812</td>\n",
              "      <td>47.582759</td>\n",
              "      <td>0.0000</td>\n",
              "      <td>0.383142</td>\n",
              "    </tr>\n",
              "    <tr>\n",
              "      <th>male</th>\n",
              "      <td>0.205298</td>\n",
              "      <td>2.335541</td>\n",
              "      <td>30.726645</td>\n",
              "      <td>0.439294</td>\n",
              "      <td>0.271523</td>\n",
              "      <td>27.268836</td>\n",
              "      <td>0.9117</td>\n",
              "      <td>0.671082</td>\n",
              "    </tr>\n",
              "  </tbody>\n",
              "</table>\n",
              "</div>"
            ],
            "text/plain": [
              "        survived    pclass        age  ...       fare  adult_male     alone\n",
              "sex                                    ...                                 \n",
              "female  0.754789  2.065134  27.915709  ...  47.582759      0.0000  0.383142\n",
              "male    0.205298  2.335541  30.726645  ...  27.268836      0.9117  0.671082\n",
              "\n",
              "[2 rows x 8 columns]"
            ]
          },
          "metadata": {
            "tags": []
          },
          "execution_count": 98
        }
      ]
    },
    {
      "cell_type": "code",
      "metadata": {
        "colab": {
          "base_uri": "https://localhost:8080/",
          "height": 139
        },
        "id": "lNkvYrFDhKoo",
        "outputId": "b8df24dc-2f52-4137-e690-80fe572de4a6"
      },
      "source": [
        "d = titanic.groupby(['survived'])\r\n",
        "d.mean()"
      ],
      "execution_count": 143,
      "outputs": [
        {
          "output_type": "execute_result",
          "data": {
            "text/html": [
              "<div>\n",
              "<style scoped>\n",
              "    .dataframe tbody tr th:only-of-type {\n",
              "        vertical-align: middle;\n",
              "    }\n",
              "\n",
              "    .dataframe tbody tr th {\n",
              "        vertical-align: top;\n",
              "    }\n",
              "\n",
              "    .dataframe thead th {\n",
              "        text-align: right;\n",
              "    }\n",
              "</style>\n",
              "<table border=\"1\" class=\"dataframe\">\n",
              "  <thead>\n",
              "    <tr style=\"text-align: right;\">\n",
              "      <th></th>\n",
              "      <th>pclass</th>\n",
              "      <th>age</th>\n",
              "      <th>sibsp</th>\n",
              "      <th>parch</th>\n",
              "      <th>fare</th>\n",
              "      <th>adult_male</th>\n",
              "      <th>alone</th>\n",
              "    </tr>\n",
              "    <tr>\n",
              "      <th>survived</th>\n",
              "      <th></th>\n",
              "      <th></th>\n",
              "      <th></th>\n",
              "      <th></th>\n",
              "      <th></th>\n",
              "      <th></th>\n",
              "      <th></th>\n",
              "    </tr>\n",
              "  </thead>\n",
              "  <tbody>\n",
              "    <tr>\n",
              "      <th>0</th>\n",
              "      <td>2.485849</td>\n",
              "      <td>30.626179</td>\n",
              "      <td>0.525943</td>\n",
              "      <td>0.365566</td>\n",
              "      <td>22.965456</td>\n",
              "      <td>0.804245</td>\n",
              "      <td>0.646226</td>\n",
              "    </tr>\n",
              "    <tr>\n",
              "      <th>1</th>\n",
              "      <td>1.872414</td>\n",
              "      <td>28.343690</td>\n",
              "      <td>0.493103</td>\n",
              "      <td>0.527586</td>\n",
              "      <td>51.843205</td>\n",
              "      <td>0.248276</td>\n",
              "      <td>0.448276</td>\n",
              "    </tr>\n",
              "  </tbody>\n",
              "</table>\n",
              "</div>"
            ],
            "text/plain": [
              "            pclass        age     sibsp  ...       fare  adult_male     alone\n",
              "survived                                 ...                                 \n",
              "0         2.485849  30.626179  0.525943  ...  22.965456    0.804245  0.646226\n",
              "1         1.872414  28.343690  0.493103  ...  51.843205    0.248276  0.448276\n",
              "\n",
              "[2 rows x 7 columns]"
            ]
          },
          "metadata": {
            "tags": []
          },
          "execution_count": 143
        }
      ]
    },
    {
      "cell_type": "code",
      "metadata": {
        "colab": {
          "base_uri": "https://localhost:8080/",
          "height": 169
        },
        "id": "iSTwl5VIYTir",
        "outputId": "4768b983-b9c5-4a1b-e500-7a3232d89fd0"
      },
      "source": [
        "c = titanic.groupby(['class'])\r\n",
        "c.mean()"
      ],
      "execution_count": 99,
      "outputs": [
        {
          "output_type": "execute_result",
          "data": {
            "text/html": [
              "<div>\n",
              "<style scoped>\n",
              "    .dataframe tbody tr th:only-of-type {\n",
              "        vertical-align: middle;\n",
              "    }\n",
              "\n",
              "    .dataframe tbody tr th {\n",
              "        vertical-align: top;\n",
              "    }\n",
              "\n",
              "    .dataframe thead th {\n",
              "        text-align: right;\n",
              "    }\n",
              "</style>\n",
              "<table border=\"1\" class=\"dataframe\">\n",
              "  <thead>\n",
              "    <tr style=\"text-align: right;\">\n",
              "      <th></th>\n",
              "      <th>survived</th>\n",
              "      <th>pclass</th>\n",
              "      <th>age</th>\n",
              "      <th>sibsp</th>\n",
              "      <th>parch</th>\n",
              "      <th>fare</th>\n",
              "      <th>adult_male</th>\n",
              "      <th>alone</th>\n",
              "    </tr>\n",
              "    <tr>\n",
              "      <th>class</th>\n",
              "      <th></th>\n",
              "      <th></th>\n",
              "      <th></th>\n",
              "      <th></th>\n",
              "      <th></th>\n",
              "      <th></th>\n",
              "      <th></th>\n",
              "      <th></th>\n",
              "    </tr>\n",
              "  </thead>\n",
              "  <tbody>\n",
              "    <tr>\n",
              "      <th>First</th>\n",
              "      <td>0.655914</td>\n",
              "      <td>1.0</td>\n",
              "      <td>38.233441</td>\n",
              "      <td>0.451613</td>\n",
              "      <td>0.408602</td>\n",
              "      <td>87.961582</td>\n",
              "      <td>0.526882</td>\n",
              "      <td>0.462366</td>\n",
              "    </tr>\n",
              "    <tr>\n",
              "      <th>Second</th>\n",
              "      <td>0.479769</td>\n",
              "      <td>2.0</td>\n",
              "      <td>29.877630</td>\n",
              "      <td>0.427746</td>\n",
              "      <td>0.404624</td>\n",
              "      <td>21.471556</td>\n",
              "      <td>0.520231</td>\n",
              "      <td>0.537572</td>\n",
              "    </tr>\n",
              "    <tr>\n",
              "      <th>Third</th>\n",
              "      <td>0.239437</td>\n",
              "      <td>3.0</td>\n",
              "      <td>25.140620</td>\n",
              "      <td>0.585915</td>\n",
              "      <td>0.456338</td>\n",
              "      <td>13.229435</td>\n",
              "      <td>0.633803</td>\n",
              "      <td>0.633803</td>\n",
              "    </tr>\n",
              "  </tbody>\n",
              "</table>\n",
              "</div>"
            ],
            "text/plain": [
              "        survived  pclass        age  ...       fare  adult_male     alone\n",
              "class                                ...                                 \n",
              "First   0.655914     1.0  38.233441  ...  87.961582    0.526882  0.462366\n",
              "Second  0.479769     2.0  29.877630  ...  21.471556    0.520231  0.537572\n",
              "Third   0.239437     3.0  25.140620  ...  13.229435    0.633803  0.633803\n",
              "\n",
              "[3 rows x 8 columns]"
            ]
          },
          "metadata": {
            "tags": []
          },
          "execution_count": 99
        }
      ]
    },
    {
      "cell_type": "code",
      "metadata": {
        "id": "gXbPfcYxZIaW"
      },
      "source": [
        "titanic_sex = titanic.groupby(['sex'])\r\n",
        "titanic_female = titanic_sex.get_group('female')\r\n",
        "titanic_male = titanic_sex.get_group('male')\r\n"
      ],
      "execution_count": 114,
      "outputs": []
    },
    {
      "cell_type": "code",
      "metadata": {
        "colab": {
          "base_uri": "https://localhost:8080/"
        },
        "id": "2qDJ6zxvZIVS",
        "outputId": "579652f0-ca5d-434f-bdd8-681dcce8ad77"
      },
      "source": [
        "titanic_male.info()"
      ],
      "execution_count": 115,
      "outputs": [
        {
          "output_type": "stream",
          "text": [
            "<class 'pandas.core.frame.DataFrame'>\n",
            "Int64Index: 453 entries, 0 to 890\n",
            "Data columns (total 15 columns):\n",
            " #   Column       Non-Null Count  Dtype  \n",
            "---  ------       --------------  -----  \n",
            " 0   survived     453 non-null    int64  \n",
            " 1   pclass       453 non-null    int64  \n",
            " 2   sex          453 non-null    object \n",
            " 3   age          453 non-null    float64\n",
            " 4   sibsp        453 non-null    int64  \n",
            " 5   parch        453 non-null    int64  \n",
            " 6   fare         453 non-null    float64\n",
            " 7   embarked     453 non-null    object \n",
            " 8   class        453 non-null    object \n",
            " 9   who          453 non-null    object \n",
            " 10  adult_male   453 non-null    bool   \n",
            " 11  deck         94 non-null     object \n",
            " 12  embark_town  453 non-null    object \n",
            " 13  alive        453 non-null    object \n",
            " 14  alone        453 non-null    bool   \n",
            "dtypes: bool(2), float64(2), int64(4), object(7)\n",
            "memory usage: 50.4+ KB\n"
          ],
          "name": "stdout"
        }
      ]
    },
    {
      "cell_type": "code",
      "metadata": {
        "id": "Ls6IlCpzYevT"
      },
      "source": [
        "female = int(len(titanic_female))/int(len(titanic.sex)) * 100"
      ],
      "execution_count": 119,
      "outputs": []
    },
    {
      "cell_type": "code",
      "metadata": {
        "id": "RSM7HXbhawvL"
      },
      "source": [
        "male = int(len(titanic_male))/int(len(titanic.sex)) * 100"
      ],
      "execution_count": 120,
      "outputs": []
    },
    {
      "cell_type": "code",
      "metadata": {
        "colab": {
          "base_uri": "https://localhost:8080/",
          "height": 108
        },
        "id": "FGfnMKghch4o",
        "outputId": "7a7a111f-a10b-4163-d87a-9f0219df5b06"
      },
      "source": [
        "DF1 = pd.DataFrame({'sex_count':[female, male]}, index=['female','male'])\r\n",
        "DF1"
      ],
      "execution_count": 127,
      "outputs": [
        {
          "output_type": "execute_result",
          "data": {
            "text/html": [
              "<div>\n",
              "<style scoped>\n",
              "    .dataframe tbody tr th:only-of-type {\n",
              "        vertical-align: middle;\n",
              "    }\n",
              "\n",
              "    .dataframe tbody tr th {\n",
              "        vertical-align: top;\n",
              "    }\n",
              "\n",
              "    .dataframe thead th {\n",
              "        text-align: right;\n",
              "    }\n",
              "</style>\n",
              "<table border=\"1\" class=\"dataframe\">\n",
              "  <thead>\n",
              "    <tr style=\"text-align: right;\">\n",
              "      <th></th>\n",
              "      <th>sex_count</th>\n",
              "    </tr>\n",
              "  </thead>\n",
              "  <tbody>\n",
              "    <tr>\n",
              "      <th>female</th>\n",
              "      <td>36.554622</td>\n",
              "    </tr>\n",
              "    <tr>\n",
              "      <th>male</th>\n",
              "      <td>63.445378</td>\n",
              "    </tr>\n",
              "  </tbody>\n",
              "</table>\n",
              "</div>"
            ],
            "text/plain": [
              "        sex_count\n",
              "female  36.554622\n",
              "male    63.445378"
            ]
          },
          "metadata": {
            "tags": []
          },
          "execution_count": 127
        }
      ]
    },
    {
      "cell_type": "code",
      "metadata": {
        "colab": {
          "base_uri": "https://localhost:8080/"
        },
        "id": "bqTnRgBveQr6",
        "outputId": "d32cf215-7486-4639-d8a7-28d329886d7f"
      },
      "source": [
        "survived = titanic.groupby(['survived'])\r\n",
        "\r\n",
        "titanic_survived = len(survived.get_group(1)) / len(titanic.index) * 100 \r\n",
        "titanic_no = len(survived.get_group(0)) / len(titanic.index) * 100\r\n",
        "print(titanic_survived, titanic_no)"
      ],
      "execution_count": 146,
      "outputs": [
        {
          "output_type": "stream",
          "text": [
            "40.61624649859944 59.38375350140056\n"
          ],
          "name": "stdout"
        }
      ]
    },
    {
      "cell_type": "code",
      "metadata": {
        "colab": {
          "base_uri": "https://localhost:8080/",
          "height": 108
        },
        "id": "t5YdPt7Tj1Mf",
        "outputId": "7d47a75b-3e0c-4e23-f6d5-9f3b08c9d3f2"
      },
      "source": [
        "DF2 = pd.DataFrame({'survived_count':[titanic_survived, titanic_no]}, index=['survived','not'])\r\n",
        "DF2"
      ],
      "execution_count": 148,
      "outputs": [
        {
          "output_type": "execute_result",
          "data": {
            "text/html": [
              "<div>\n",
              "<style scoped>\n",
              "    .dataframe tbody tr th:only-of-type {\n",
              "        vertical-align: middle;\n",
              "    }\n",
              "\n",
              "    .dataframe tbody tr th {\n",
              "        vertical-align: top;\n",
              "    }\n",
              "\n",
              "    .dataframe thead th {\n",
              "        text-align: right;\n",
              "    }\n",
              "</style>\n",
              "<table border=\"1\" class=\"dataframe\">\n",
              "  <thead>\n",
              "    <tr style=\"text-align: right;\">\n",
              "      <th></th>\n",
              "      <th>survived_count</th>\n",
              "    </tr>\n",
              "  </thead>\n",
              "  <tbody>\n",
              "    <tr>\n",
              "      <th>survived</th>\n",
              "      <td>40.616246</td>\n",
              "    </tr>\n",
              "    <tr>\n",
              "      <th>not</th>\n",
              "      <td>59.383754</td>\n",
              "    </tr>\n",
              "  </tbody>\n",
              "</table>\n",
              "</div>"
            ],
            "text/plain": [
              "          survived_count\n",
              "survived       40.616246\n",
              "not            59.383754"
            ]
          },
          "metadata": {
            "tags": []
          },
          "execution_count": 148
        }
      ]
    },
    {
      "cell_type": "code",
      "metadata": {
        "colab": {
          "base_uri": "https://localhost:8080/",
          "height": 301
        },
        "id": "xNFzyEwncNdS",
        "outputId": "f86bfb43-205a-4989-e719-7463e44eb794"
      },
      "source": [
        "import matplotlib.pyplot as plt\r\n",
        "\r\n",
        "figure, ax = plt.subplots(1, 2, figsize=(10,6))\r\n",
        "\r\n",
        "# explode = (행별 값) 파이 조각 간격조정\r\n",
        "DF1['sex_count'].plot.pie(explode=[0, 0.05],\r\n",
        "                                                ax = ax[0],\r\n",
        "                                                autopct = '%1.1f%%')\r\n",
        "ax[0].set_title('sex_count')\r\n",
        "ax[0].set_ylabel('')\r\n",
        "\r\n",
        "DF2['survived_count'].plot.pie(explode=[0, 0.05],\r\n",
        "                                                ax = ax[1],\r\n",
        "                                                autopct = '%1.1f%%')\r\n",
        "ax[1].set_title('survived_count')\r\n",
        "ax[1].set_ylabel('')\r\n",
        "\r\n",
        "plt.show()"
      ],
      "execution_count": 161,
      "outputs": [
        {
          "output_type": "display_data",
          "data": {
            "image/png": "[encoded data removed]",
            "text/plain": [
              "<Figure size 720x432 with 2 Axes>"
            ]
          },
          "metadata": {
            "tags": []
          }
        }
      ]
    },
    {
      "cell_type": "code",
      "metadata": {
        "colab": {
          "base_uri": "https://localhost:8080/"
        },
        "id": "PvjXvcwVbGKA",
        "outputId": "ddbfc82a-28fc-4776-e55a-da181163937a"
      },
      "source": [
        "_print(sum(titanic_female['fare']))"
      ],
      "execution_count": 117,
      "outputs": [
        {
          "output_type": "stream",
          "text": [
            "12419.100199999992\n"
          ],
          "name": "stdout"
        }
      ]
    },
    {
      "cell_type": "code",
      "metadata": {
        "colab": {
          "base_uri": "https://localhost:8080/"
        },
        "id": "HY3rIyjBb9Dy",
        "outputId": "7df5bd2a-c957-474c-eadc-7a74442c1702"
      },
      "source": [
        "print(sum(titanic_male['fare']))"
      ],
      "execution_count": 118,
      "outputs": [
        {
          "output_type": "stream",
          "text": [
            "12352.782799999995\n"
          ],
          "name": "stdout"
        }
      ]
    },
    {
      "cell_type": "code",
      "metadata": {
        "colab": {
          "base_uri": "https://localhost:8080/"
        },
        "id": "AOWBrVmZcD3D",
        "outputId": "70067c5e-46af-45fa-f39f-cc2a56389554"
      },
      "source": [
        "most_freq = titanic['embark_town'].value_counts(dropna=False)\r\n",
        "most_freq"
      ],
      "execution_count": 169,
      "outputs": [
        {
          "output_type": "execute_result",
          "data": {
            "text/plain": [
              "Southampton    554\n",
              "Cherbourg      130\n",
              "Queenstown      28\n",
              "NaN              2\n",
              "Name: embark_town, dtype: int64"
            ]
          },
          "metadata": {
            "tags": []
          },
          "execution_count": 169
        }
      ]
    },
    {
      "cell_type": "code",
      "metadata": {
        "colab": {
          "base_uri": "https://localhost:8080/",
          "height": 192
        },
        "id": "iAn22eaSmWwU",
        "outputId": "43596499-df6c-4e73-ddbb-2a888b5724c5"
      },
      "source": [
        "most_freq = most_freq.idxmax()\r\n"
      ],
      "execution_count": 174,
      "outputs": [
        {
          "output_type": "error",
          "ename": "AttributeError",
          "evalue": "ignored",
          "traceback": [
            "\u001b[0;31m---------------------------------------------------------------------------\u001b[0m",
            "\u001b[0;31mAttributeError\u001b[0m                            Traceback (most recent call last)",
            "\u001b[0;32m<ipython-input-174-5e2ab7e18996>\u001b[0m in \u001b[0;36m<module>\u001b[0;34m()\u001b[0m\n\u001b[0;32m----> 1\u001b[0;31m \u001b[0mmost_freq\u001b[0m \u001b[0;34m=\u001b[0m \u001b[0mmost_freq\u001b[0m\u001b[0;34m.\u001b[0m\u001b[0midxmax\u001b[0m\u001b[0;34m(\u001b[0m\u001b[0;34m)\u001b[0m\u001b[0;34m\u001b[0m\u001b[0;34m\u001b[0m\u001b[0m\n\u001b[0m\u001b[1;32m      2\u001b[0m \u001b[0mmost_freq\u001b[0m\u001b[0;34m\u001b[0m\u001b[0;34m\u001b[0m\u001b[0m\n",
            "\u001b[0;31mAttributeError\u001b[0m: 'str' object has no attribute 'idxmax'"
          ]
        }
      ]
    },
    {
      "cell_type": "code",
      "metadata": {
        "colab": {
          "base_uri": "https://localhost:8080/",
          "height": 35
        },
        "id": "iytd40lunQIN",
        "outputId": "cb600950-dd82-4fa4-bd07-21e13043a6cc"
      },
      "source": [
        "most_freq"
      ],
      "execution_count": 175,
      "outputs": [
        {
          "output_type": "execute_result",
          "data": {
            "application/vnd.google.colaboratory.intrinsic+json": {
              "type": "string"
            },
            "text/plain": [
              "'Southampton'"
            ]
          },
          "metadata": {
            "tags": []
          },
          "execution_count": 175
        }
      ]
    },
    {
      "cell_type": "code",
      "metadata": {
        "id": "QB8E0aLJmi9k"
      },
      "source": [
        "titanic['embark_town'].fillna(most_freq, inplace=True)\r\n"
      ],
      "execution_count": 176,
      "outputs": []
    },
    {
      "cell_type": "code",
      "metadata": {
        "colab": {
          "base_uri": "https://localhost:8080/"
        },
        "id": "XWyisnjam1n-",
        "outputId": "c0c35172-d053-4761-a627-ef255815f4b1"
      },
      "source": [
        "embark_town = titanic['embark_town'].value_counts(dropna=False)\r\n",
        "embark_town"
      ],
      "execution_count": 177,
      "outputs": [
        {
          "output_type": "execute_result",
          "data": {
            "text/plain": [
              "Southampton    556\n",
              "Cherbourg      130\n",
              "Queenstown      28\n",
              "Name: embark_town, dtype: int64"
            ]
          },
          "metadata": {
            "tags": []
          },
          "execution_count": 177
        }
      ]
    },
    {
      "cell_type": "code",
      "metadata": {
        "colab": {
          "base_uri": "https://localhost:8080/"
        },
        "id": "CO2_g06ao0UT",
        "outputId": "f4105866-2b77-414a-b6ba-bab967b6f51f"
      },
      "source": [
        "grouped = titanic.groupby(['embark_town'])\r\n",
        "for key in ['Southampton','Cherbourg','Queenstown']:\r\n",
        "  length = len(grouped.get_group(key))\r\n",
        "  print(key, length, '\\n')"
      ],
      "execution_count": 188,
      "outputs": [
        {
          "output_type": "stream",
          "text": [
            "Southampton 556 \n",
            "\n",
            "Cherbourg 130 \n",
            "\n",
            "Queenstown 28 \n",
            "\n"
          ],
          "name": "stdout"
        }
      ]
    },
    {
      "cell_type": "code",
      "metadata": {
        "colab": {
          "base_uri": "https://localhost:8080/",
          "height": 139
        },
        "id": "m7KaiABCq8Bl",
        "outputId": "fe702ea7-ba7f-4e32-aaa9-187fb814194c"
      },
      "source": [
        "DF3 = pd.DataFrame({'embark_town':[556, 130, 28]}, index=['Southampton','Cherbourg','Queenstown'])\r\n",
        "DF3"
      ],
      "execution_count": 190,
      "outputs": [
        {
          "output_type": "execute_result",
          "data": {
            "text/html": [
              "<div>\n",
              "<style scoped>\n",
              "    .dataframe tbody tr th:only-of-type {\n",
              "        vertical-align: middle;\n",
              "    }\n",
              "\n",
              "    .dataframe tbody tr th {\n",
              "        vertical-align: top;\n",
              "    }\n",
              "\n",
              "    .dataframe thead th {\n",
              "        text-align: right;\n",
              "    }\n",
              "</style>\n",
              "<table border=\"1\" class=\"dataframe\">\n",
              "  <thead>\n",
              "    <tr style=\"text-align: right;\">\n",
              "      <th></th>\n",
              "      <th>embark_town</th>\n",
              "    </tr>\n",
              "  </thead>\n",
              "  <tbody>\n",
              "    <tr>\n",
              "      <th>Southampton</th>\n",
              "      <td>556</td>\n",
              "    </tr>\n",
              "    <tr>\n",
              "      <th>Cherbourg</th>\n",
              "      <td>130</td>\n",
              "    </tr>\n",
              "    <tr>\n",
              "      <th>Queenstown</th>\n",
              "      <td>28</td>\n",
              "    </tr>\n",
              "  </tbody>\n",
              "</table>\n",
              "</div>"
            ],
            "text/plain": [
              "             embark_town\n",
              "Southampton          556\n",
              "Cherbourg            130\n",
              "Queenstown            28"
            ]
          },
          "metadata": {
            "tags": []
          },
          "execution_count": 190
        }
      ]
    },
    {
      "cell_type": "code",
      "metadata": {
        "colab": {
          "base_uri": "https://localhost:8080/",
          "height": 357
        },
        "id": "ahJU-2Jum6Jj",
        "outputId": "c63c962e-5baf-4331-fd7d-d44141694acc"
      },
      "source": [
        "figure = plt.subplots(figsize=(6,6))\r\n",
        "\r\n",
        "explode_set = [0.05,0.05,0.05]\r\n",
        "DF3['embark_town'].plot.pie(explode=explode_set,\r\n",
        "\r\n",
        "                                                autopct = '%1.1f%%')\r\n",
        "\r\n",
        "plt.show()\r\n"
      ],
      "execution_count": 194,
      "outputs": [
        {
          "output_type": "display_data",
          "data": {
            "image/png": "[encoded data removed]",
            "text/plain": [
              "<Figure size 432x432 with 1 Axes>"
            ]
          },
          "metadata": {
            "tags": []
          }
        }
      ]
    },
    {
      "cell_type": "markdown",
      "metadata": {
        "id": "8_B-iRAPn6Sd"
      },
      "source": [
        "embark_town과 survived 간의 상관계수\r\n"
      ]
    },
    {
      "cell_type": "code",
      "metadata": {
        "colab": {
          "base_uri": "https://localhost:8080/"
        },
        "id": "dXD0JoD4su0a",
        "outputId": "cf18bb9e-bd6d-46f7-f94f-7079ed517982"
      },
      "source": [
        "grouped = titanic.groupby(['embark_town'])\r\n",
        "grouped"
      ],
      "execution_count": 197,
      "outputs": [
        {
          "output_type": "execute_result",
          "data": {
            "text/plain": [
              "<pandas.core.groupby.generic.DataFrameGroupBy object at 0x7f420d618d90>"
            ]
          },
          "metadata": {
            "tags": []
          },
          "execution_count": 197
        }
      ]
    },
    {
      "cell_type": "code",
      "metadata": {
        "colab": {
          "base_uri": "https://localhost:8080/"
        },
        "id": "21ppSGQjtIv5",
        "outputId": "4fef7fed-065d-4315-a6f4-e43a0ef7167f"
      },
      "source": [
        "Southampton = grouped.get_group('Southampton')\r\n",
        "Southampton = len(Southampton)\r\n",
        "Southampton"
      ],
      "execution_count": 206,
      "outputs": [
        {
          "output_type": "execute_result",
          "data": {
            "text/plain": [
              "556"
            ]
          },
          "metadata": {
            "tags": []
          },
          "execution_count": 206
        }
      ]
    },
    {
      "cell_type": "code",
      "metadata": {
        "colab": {
          "base_uri": "https://localhost:8080/"
        },
        "id": "lG08d1J4tdcy",
        "outputId": "d96134b5-054d-4173-e7a1-e56e54f49c1f"
      },
      "source": [
        "Cherbourg = grouped.get_group('Cherbourg')\r\n",
        "Cherbourg = len(Cherbourg)\r\n",
        "Cherbourg"
      ],
      "execution_count": 207,
      "outputs": [
        {
          "output_type": "execute_result",
          "data": {
            "text/plain": [
              "130"
            ]
          },
          "metadata": {
            "tags": []
          },
          "execution_count": 207
        }
      ]
    },
    {
      "cell_type": "code",
      "metadata": {
        "colab": {
          "base_uri": "https://localhost:8080/"
        },
        "id": "8mfVR13-teZZ",
        "outputId": "d288e5a2-e808-4385-eb1f-95a882f7a394"
      },
      "source": [
        "\r\n",
        "Queenstown = grouped.get_group('Queenstown')\r\n",
        "Queenstown = len(Queenstown)\r\n",
        "Queenstown"
      ],
      "execution_count": 208,
      "outputs": [
        {
          "output_type": "execute_result",
          "data": {
            "text/plain": [
              "28"
            ]
          },
          "metadata": {
            "tags": []
          },
          "execution_count": 208
        }
      ]
    },
    {
      "cell_type": "code",
      "metadata": {
        "colab": {
          "base_uri": "https://localhost:8080/",
          "height": 210
        },
        "id": "4KmE0MBbsC42",
        "outputId": "23b9d2d1-ff4d-4d48-923b-fd5ac88af0c3"
      },
      "source": [
        "import numpy as np\r\n",
        "\r\n",
        "print(np.corrcoef(Southampton['embark_town'], Southampton['survived']))"
      ],
      "execution_count": 209,
      "outputs": [
        {
          "output_type": "error",
          "ename": "TypeError",
          "evalue": "ignored",
          "traceback": [
            "\u001b[0;31m---------------------------------------------------------------------------\u001b[0m",
            "\u001b[0;31mTypeError\u001b[0m                                 Traceback (most recent call last)",
            "\u001b[0;32m<ipython-input-209-77ae40589047>\u001b[0m in \u001b[0;36m<module>\u001b[0;34m()\u001b[0m\n\u001b[1;32m      1\u001b[0m \u001b[0;32mimport\u001b[0m \u001b[0mnumpy\u001b[0m \u001b[0;32mas\u001b[0m \u001b[0mnp\u001b[0m\u001b[0;34m\u001b[0m\u001b[0;34m\u001b[0m\u001b[0m\n\u001b[1;32m      2\u001b[0m \u001b[0;34m\u001b[0m\u001b[0m\n\u001b[0;32m----> 3\u001b[0;31m \u001b[0mprint\u001b[0m\u001b[0;34m(\u001b[0m\u001b[0mnp\u001b[0m\u001b[0;34m.\u001b[0m\u001b[0mcorrcoef\u001b[0m\u001b[0;34m(\u001b[0m\u001b[0mSouthampton\u001b[0m\u001b[0;34m[\u001b[0m\u001b[0;34m'embark_town'\u001b[0m\u001b[0;34m]\u001b[0m\u001b[0;34m,\u001b[0m \u001b[0mSouthampton\u001b[0m\u001b[0;34m[\u001b[0m\u001b[0;34m'survived'\u001b[0m\u001b[0;34m]\u001b[0m\u001b[0;34m)\u001b[0m\u001b[0;34m)\u001b[0m\u001b[0;34m\u001b[0m\u001b[0;34m\u001b[0m\u001b[0m\n\u001b[0m",
            "\u001b[0;31mTypeError\u001b[0m: 'int' object is not subscriptable"
          ]
        }
      ]
    },
    {
      "cell_type": "code",
      "metadata": {
        "id": "1X9_Kb0vsc2O"
      },
      "source": [
        ""
      ],
      "execution_count": null,
      "outputs": []
    }
  ]
}