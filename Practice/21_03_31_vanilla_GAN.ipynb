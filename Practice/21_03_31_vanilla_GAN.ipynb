{
  "nbformat": 4,
  "nbformat_minor": 0,
  "metadata": {
    "colab": {
      "name": "Untitled0.ipynb",
      "provenance": []
    },
    "kernelspec": {
      "name": "python3",
      "display_name": "Python 3"
    },
    "language_info": {
      "name": "python"
    },
    "accelerator": "GPU"
  },
  "cells": [
    {
      "cell_type": "code",
      "metadata": {
        "id": "IFCRWaKll1DD"
      },
      "source": [
        "import numpy as np\n",
        "import pandas as pd\n",
        "import matplotlib.pyplot as plt\n",
        "import keras\n",
        "from keras.layers import Dense, Dropout, Input\n",
        "from keras.models import Model,Sequential\n",
        "from keras.layers.advanced_activations import LeakyReLU"
      ],
      "execution_count": 1,
      "outputs": []
    },
    {
      "cell_type": "code",
      "metadata": {
        "colab": {
          "base_uri": "https://localhost:8080/"
        },
        "id": "_bU8s72Sl78i",
        "outputId": "b70cb6c2-7f2b-4457-8cd3-bffc06a2a484"
      },
      "source": [
        "from keras.datasets import mnist\n",
        "\n",
        "(X_train, y_train), (X_test, y_test) = mnist.load_data()\n",
        "\n",
        "# Normalization\n",
        "X_train = X_train.astype(np.float32)/127.5 -1\n",
        "\n",
        "# Reshape\n",
        "X_train = X_train.reshape(60000,784)"
      ],
      "execution_count": 2,
      "outputs": [
        {
          "output_type": "stream",
          "text": [
            "Downloading data from https://storage.googleapis.com/tensorflow/tf-keras-datasets/mnist.npz\n",
            "11493376/11490434 [==============================] - 0s 0us/step\n"
          ],
          "name": "stdout"
        }
      ]
    },
    {
      "cell_type": "code",
      "metadata": {
        "id": "nuwrbgYnmQy1"
      },
      "source": [
        "from keras.optimizers import Adam\n",
        "\n",
        "adam = Adam(lr = 0.0002, beta_1 = 0.5)"
      ],
      "execution_count": 3,
      "outputs": []
    },
    {
      "cell_type": "code",
      "metadata": {
        "colab": {
          "base_uri": "https://localhost:8080/"
        },
        "id": "a-M_yJY-mYZx",
        "outputId": "ced5872b-bf6a-4320-bddf-a1ae68be7e17"
      },
      "source": [
        "noise_dim = 10\n",
        "\n",
        "generator = Sequential(name='generator')\n",
        "generator.add(Dense(256, input_shape=(noise_dim,), activation='relu'))\n",
        "generator.add(Dense(512, activation='relu'))\n",
        "generator.add(Dense(1024, activation='relu'))\n",
        "generator.add(Dense(784, activation='tanh'))\n",
        "\n",
        "generator.summary()"
      ],
      "execution_count": 5,
      "outputs": [
        {
          "output_type": "stream",
          "text": [
            "Model: \"generator\"\n",
            "_________________________________________________________________\n",
            "Layer (type)                 Output Shape              Param #   \n",
            "=================================================================\n",
            "dense (Dense)                (None, 256)               2816      \n",
            "_________________________________________________________________\n",
            "dense_1 (Dense)              (None, 512)               131584    \n",
            "_________________________________________________________________\n",
            "dense_2 (Dense)              (None, 1024)              525312    \n",
            "_________________________________________________________________\n",
            "dense_3 (Dense)              (None, 784)               803600    \n",
            "=================================================================\n",
            "Total params: 1,463,312\n",
            "Trainable params: 1,463,312\n",
            "Non-trainable params: 0\n",
            "_________________________________________________________________\n"
          ],
          "name": "stdout"
        }
      ]
    },
    {
      "cell_type": "code",
      "metadata": {
        "colab": {
          "base_uri": "https://localhost:8080/"
        },
        "id": "sDTWmiKUnPal",
        "outputId": "911c2258-1728-449d-fc6a-06ecdf7aee08"
      },
      "source": [
        "from keras.initializers import RandomNormal\n",
        "\n",
        "discriminator = Sequential(name='discriminator')\n",
        "discriminator.add(Dense(1024, input_shape=(784,), kernel_initializer=RandomNormal(stddev=0.02), activation='relu'))\n",
        "discriminator.add(Dropout(0.5))\n",
        "discriminator.add(Dense(512, activation='relu'))\n",
        "discriminator.add(Dropout(0.5))\n",
        "discriminator.add(Dense(256, activation='relu'))\n",
        "discriminator.add(Dropout(0.5))\n",
        "discriminator.add(Dense(1, activation='sigmoid'))\n",
        "\n",
        "discriminator.summary()"
      ],
      "execution_count": 6,
      "outputs": [
        {
          "output_type": "stream",
          "text": [
            "Model: \"discriminator\"\n",
            "_________________________________________________________________\n",
            "Layer (type)                 Output Shape              Param #   \n",
            "=================================================================\n",
            "dense_4 (Dense)              (None, 1024)              803840    \n",
            "_________________________________________________________________\n",
            "dropout (Dropout)            (None, 1024)              0         \n",
            "_________________________________________________________________\n",
            "dense_5 (Dense)              (None, 512)               524800    \n",
            "_________________________________________________________________\n",
            "dropout_1 (Dropout)          (None, 512)               0         \n",
            "_________________________________________________________________\n",
            "dense_6 (Dense)              (None, 256)               131328    \n",
            "_________________________________________________________________\n",
            "dropout_2 (Dropout)          (None, 256)               0         \n",
            "_________________________________________________________________\n",
            "dense_7 (Dense)              (None, 1)                 257       \n",
            "=================================================================\n",
            "Total params: 1,460,225\n",
            "Trainable params: 1,460,225\n",
            "Non-trainable params: 0\n",
            "_________________________________________________________________\n"
          ],
          "name": "stdout"
        }
      ]
    },
    {
      "cell_type": "code",
      "metadata": {
        "id": "JHdWJAVFoEZ2"
      },
      "source": [
        "discriminator.compile(loss='binary_crossentropy', optimizer=adam)"
      ],
      "execution_count": 7,
      "outputs": []
    },
    {
      "cell_type": "code",
      "metadata": {
        "id": "h81J2xdQoLif"
      },
      "source": [
        "discriminator.trainable = False\n",
        "\n",
        "gan_input = Input(shape =(noise_dim,))\n",
        "x = generator(gan_input)\n",
        "output = discriminator(x)\n",
        "\n",
        "gan = Model(gan_input, output, name='gan')"
      ],
      "execution_count": 8,
      "outputs": []
    },
    {
      "cell_type": "code",
      "metadata": {
        "id": "6adyMkTdolwk"
      },
      "source": [
        ""
      ],
      "execution_count": null,
      "outputs": []
    }
  ]
}