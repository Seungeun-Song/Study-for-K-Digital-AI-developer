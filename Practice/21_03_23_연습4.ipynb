{
  "nbformat": 4,
  "nbformat_minor": 0,
  "metadata": {
    "colab": {
      "name": "CIFAR100_Image_Augmentation",
      "provenance": [],
      "toc_visible": true
    },
    "kernelspec": {
      "name": "python3",
      "display_name": "Python 3"
    },
    "language_info": {
      "name": "python"
    },
    "accelerator": "GPU"
  },
  "cells": [
    {
      "cell_type": "code",
      "metadata": {
        "colab": {
          "base_uri": "https://localhost:8080/"
        },
        "id": "PIqdH720zu-O",
        "outputId": "f2f5a93b-d108-4df2-a2e8-359fc75c5623"
      },
      "source": [
        "from keras.datasets import cifar100\n",
        "\n",
        "(X_train, y_train), (X_test, y_test) = cifar100.load_data(label_mode = 'fine')"
      ],
      "execution_count": 1,
      "outputs": [
        {
          "output_type": "stream",
          "text": [
            "Downloading data from https://www.cs.toronto.edu/~kriz/cifar-100-python.tar.gz\n",
            "169009152/169001437 [==============================] - 11s 0us/step\n"
          ],
          "name": "stdout"
        }
      ]
    },
    {
      "cell_type": "code",
      "metadata": {
        "colab": {
          "base_uri": "https://localhost:8080/"
        },
        "id": "4sexWzxe0TGy",
        "outputId": "cc45f66e-0994-47ed-f05f-041b1c37f70f"
      },
      "source": [
        "print(X_train.shape, y_train.shape) \n",
        "print(X_test.shape, y_test.shape)"
      ],
      "execution_count": 2,
      "outputs": [
        {
          "output_type": "stream",
          "text": [
            "(50000, 32, 32, 3) (50000, 1)\n",
            "(10000, 32, 32, 3) (10000, 1)\n"
          ],
          "name": "stdout"
        }
      ]
    },
    {
      "cell_type": "code",
      "metadata": {
        "colab": {
          "base_uri": "https://localhost:8080/"
        },
        "id": "u5W1qnb6tsyD",
        "outputId": "c6548dca-0c7c-4b65-d9ef-f02faf15a849"
      },
      "source": [
        "X_train[:2]"
      ],
      "execution_count": 6,
      "outputs": [
        {
          "output_type": "execute_result",
          "data": {
            "text/plain": [
              "array([[[[255, 255, 255],\n",
              "         [255, 255, 255],\n",
              "         [255, 255, 255],\n",
              "         ...,\n",
              "         [195, 205, 193],\n",
              "         [212, 224, 204],\n",
              "         [182, 194, 167]],\n",
              "\n",
              "        [[255, 255, 255],\n",
              "         [254, 254, 254],\n",
              "         [254, 254, 254],\n",
              "         ...,\n",
              "         [170, 176, 150],\n",
              "         [161, 168, 130],\n",
              "         [146, 154, 113]],\n",
              "\n",
              "        [[255, 255, 255],\n",
              "         [254, 254, 254],\n",
              "         [255, 255, 255],\n",
              "         ...,\n",
              "         [189, 199, 169],\n",
              "         [166, 178, 130],\n",
              "         [121, 133,  87]],\n",
              "\n",
              "        ...,\n",
              "\n",
              "        [[148, 185,  79],\n",
              "         [142, 182,  57],\n",
              "         [140, 179,  60],\n",
              "         ...,\n",
              "         [ 30,  17,   1],\n",
              "         [ 65,  62,  15],\n",
              "         [ 76,  77,  20]],\n",
              "\n",
              "        [[122, 157,  66],\n",
              "         [120, 155,  58],\n",
              "         [126, 160,  71],\n",
              "         ...,\n",
              "         [ 22,  16,   3],\n",
              "         [ 97, 112,  56],\n",
              "         [141, 161,  87]],\n",
              "\n",
              "        [[ 87, 122,  41],\n",
              "         [ 88, 122,  39],\n",
              "         [101, 134,  56],\n",
              "         ...,\n",
              "         [ 34,  36,  10],\n",
              "         [105, 133,  59],\n",
              "         [138, 173,  79]]],\n",
              "\n",
              "\n",
              "       [[[255, 255, 255],\n",
              "         [253, 253, 253],\n",
              "         [253, 253, 253],\n",
              "         ...,\n",
              "         [253, 253, 253],\n",
              "         [253, 253, 253],\n",
              "         [255, 255, 255]],\n",
              "\n",
              "        [[255, 255, 255],\n",
              "         [255, 255, 255],\n",
              "         [255, 255, 255],\n",
              "         ...,\n",
              "         [255, 255, 255],\n",
              "         [255, 255, 255],\n",
              "         [255, 255, 255]],\n",
              "\n",
              "        [[255, 255, 255],\n",
              "         [255, 255, 255],\n",
              "         [255, 255, 255],\n",
              "         ...,\n",
              "         [255, 255, 255],\n",
              "         [255, 255, 255],\n",
              "         [255, 255, 255]],\n",
              "\n",
              "        ...,\n",
              "\n",
              "        [[255, 255, 255],\n",
              "         [255, 255, 255],\n",
              "         [255, 255, 255],\n",
              "         ...,\n",
              "         [255, 255, 255],\n",
              "         [255, 255, 255],\n",
              "         [255, 255, 255]],\n",
              "\n",
              "        [[255, 255, 255],\n",
              "         [255, 255, 255],\n",
              "         [255, 255, 255],\n",
              "         ...,\n",
              "         [255, 255, 255],\n",
              "         [255, 255, 255],\n",
              "         [255, 255, 255]],\n",
              "\n",
              "        [[255, 255, 255],\n",
              "         [253, 253, 253],\n",
              "         [253, 253, 253],\n",
              "         ...,\n",
              "         [253, 253, 253],\n",
              "         [253, 253, 253],\n",
              "         [255, 255, 255]]]], dtype=uint8)"
            ]
          },
          "metadata": {
            "tags": []
          },
          "execution_count": 6
        }
      ]
    },
    {
      "cell_type": "code",
      "metadata": {
        "id": "mZWz4y6J0vAL"
      },
      "source": [
        "from keras.utils import to_categorical\n",
        "\n",
        "y_train= to_categorical(y_train)\n",
        "y_test = to_categorical(y_test)"
      ],
      "execution_count": 3,
      "outputs": []
    },
    {
      "cell_type": "code",
      "metadata": {
        "colab": {
          "base_uri": "https://localhost:8080/"
        },
        "id": "t_W1vnjZ2taj",
        "outputId": "96be7bad-e330-49a8-f004-806f99d17396"
      },
      "source": [
        "y_train.shape"
      ],
      "execution_count": 4,
      "outputs": [
        {
          "output_type": "execute_result",
          "data": {
            "text/plain": [
              "(50000, 100)"
            ]
          },
          "metadata": {
            "tags": []
          },
          "execution_count": 4
        }
      ]
    },
    {
      "cell_type": "code",
      "metadata": {
        "id": "Hei8jBFx083i"
      },
      "source": [
        "from sklearn.model_selection import train_test_split\n",
        "\n",
        "X_train, X_valid, y_train, y_valid = train_test_split(X_train, y_train, test_size=0.2, random_state=2045)"
      ],
      "execution_count": 10,
      "outputs": []
    },
    {
      "cell_type": "code",
      "metadata": {
        "colab": {
          "base_uri": "https://localhost:8080/"
        },
        "id": "EmBjUYn3Dmzr",
        "outputId": "73029c4a-e69c-4c5e-f5cf-842c9a7523f3"
      },
      "source": [
        "X_train.shape, X_test.shape"
      ],
      "execution_count": 11,
      "outputs": [
        {
          "output_type": "execute_result",
          "data": {
            "text/plain": [
              "((40000, 32, 32, 3), (10000, 32, 32, 3))"
            ]
          },
          "metadata": {
            "tags": []
          },
          "execution_count": 11
        }
      ]
    },
    {
      "cell_type": "code",
      "metadata": {
        "id": "Uxv1C6L81BFS"
      },
      "source": [
        "from keras.preprocessing.image import ImageDataGenerator\n",
        "\n",
        "X_train_datagen = ImageDataGenerator(rescale= 1./255, rotation_range=40, width_shift_range=0.2, height_shift_range=0.2,\n",
        "                                   shear_range=0.2, zoom_range=0.2, horizontal_flip=True, vertical_flip=True, \n",
        "                                   fill_mode='nearest')\n",
        "X_valid_datagen = ImageDataGenerator(rescale= 1./255)\n",
        "\n",
        "train_generator = X_train_datagen.flow(X_train, y_train, batch_size=1000)\n",
        "valid_generator = X_valid_datagen.flow(X_valid, y_valid, batch_size=1000)"
      ],
      "execution_count": 20,
      "outputs": []
    },
    {
      "cell_type": "code",
      "metadata": {
        "colab": {
          "base_uri": "https://localhost:8080/"
        },
        "id": "e9GmOZA38_Fg",
        "outputId": "7cfa7e0d-b9a7-4616-b85b-4f3043280b19"
      },
      "source": [
        "print(type(X_train_datagen))"
      ],
      "execution_count": 13,
      "outputs": [
        {
          "output_type": "stream",
          "text": [
            "<class 'tensorflow.python.keras.preprocessing.image.ImageDataGenerator'>\n"
          ],
          "name": "stdout"
        }
      ]
    },
    {
      "cell_type": "code",
      "metadata": {
        "colab": {
          "base_uri": "https://localhost:8080/"
        },
        "id": "TKU6VteF9cL-",
        "outputId": "d20094b0-5819-4dcf-f83f-2631c29d076e"
      },
      "source": [
        "print(type(y_train))"
      ],
      "execution_count": 16,
      "outputs": [
        {
          "output_type": "stream",
          "text": [
            "<class 'numpy.ndarray'>\n"
          ],
          "name": "stdout"
        }
      ]
    },
    {
      "cell_type": "code",
      "metadata": {
        "colab": {
          "base_uri": "https://localhost:8080/"
        },
        "id": "Mom1VIy72Uh3",
        "outputId": "88192752-caa5-440a-b7dd-fe0d745cd65e"
      },
      "source": [
        "\n",
        "from keras import layers, models\n",
        "\n",
        "model = models.Sequential()\n",
        "model.add(layers.Conv2D(32, (3,3), activation='relu', input_shape=(32, 32, 3)))\n",
        "model.add(layers.MaxPool2D((2,2)))\n",
        "model.add(layers.Conv2D(64, (3,3), activation='relu'))\n",
        "#model.add(layers.MaxPool2D((2,2)))\n",
        "model.add(layers.Conv2D(128, (3,3), activation='relu'))\n",
        "model.add(layers.MaxPool2D((2,2)))\n",
        "model.add(layers.Conv2D(128, (3,3), activation='relu'))\n",
        "\n",
        "model.add(layers.Flatten())\n",
        "model.add(layers.Dense(units=512, activation='relu'))\n",
        "model.add(layers.Dropout(0.5))\n",
        "model.add(layers.Dense(units=100, activation='softmax'))\n",
        "\n",
        "model.summary()\n",
        "\n",
        "model.compile(loss = 'categorical_crossentropy',\n",
        "              optimizer = 'adam',\n",
        "              metrics = ['accuracy'])"
      ],
      "execution_count": 21,
      "outputs": [
        {
          "output_type": "stream",
          "text": [
            "Model: \"sequential_1\"\n",
            "_________________________________________________________________\n",
            "Layer (type)                 Output Shape              Param #   \n",
            "=================================================================\n",
            "conv2d_4 (Conv2D)            (None, 30, 30, 32)        896       \n",
            "_________________________________________________________________\n",
            "max_pooling2d_2 (MaxPooling2 (None, 15, 15, 32)        0         \n",
            "_________________________________________________________________\n",
            "conv2d_5 (Conv2D)            (None, 13, 13, 64)        18496     \n",
            "_________________________________________________________________\n",
            "conv2d_6 (Conv2D)            (None, 11, 11, 128)       73856     \n",
            "_________________________________________________________________\n",
            "max_pooling2d_3 (MaxPooling2 (None, 5, 5, 128)         0         \n",
            "_________________________________________________________________\n",
            "conv2d_7 (Conv2D)            (None, 3, 3, 128)         147584    \n",
            "_________________________________________________________________\n",
            "flatten_1 (Flatten)          (None, 1152)              0         \n",
            "_________________________________________________________________\n",
            "dense_2 (Dense)              (None, 512)               590336    \n",
            "_________________________________________________________________\n",
            "dropout_1 (Dropout)          (None, 512)               0         \n",
            "_________________________________________________________________\n",
            "dense_3 (Dense)              (None, 100)               51300     \n",
            "=================================================================\n",
            "Total params: 882,468\n",
            "Trainable params: 882,468\n",
            "Non-trainable params: 0\n",
            "_________________________________________________________________\n"
          ],
          "name": "stdout"
        }
      ]
    },
    {
      "cell_type": "code",
      "metadata": {
        "colab": {
          "base_uri": "https://localhost:8080/"
        },
        "id": "NBVt7qt4Drt8",
        "outputId": "b607883c-9195-483b-f5e5-60c75fbcac16"
      },
      "source": [
        "print(40000/1000)\n",
        "print(10000/1000)"
      ],
      "execution_count": 30,
      "outputs": [
        {
          "output_type": "stream",
          "text": [
            "40.0\n",
            "10.0\n"
          ],
          "name": "stdout"
        }
      ]
    },
    {
      "cell_type": "code",
      "metadata": {
        "colab": {
          "base_uri": "https://localhost:8080/"
        },
        "id": "d48YUtjd4JKH",
        "outputId": "facacb9b-fc47-4d59-df70-4020dd90cf9c"
      },
      "source": [
        "%%time\n",
        "Hist = model.fit(train_generator, steps_per_epoch=40 ,\n",
        "                       epochs = 50,\n",
        "                       batch_size = 128,\n",
        "                       validation_data=valid_generator, validation_steps=10)"
      ],
      "execution_count": 22,
      "outputs": [
        {
          "output_type": "stream",
          "text": [
            "Epoch 1/50\n",
            "40/40 [==============================] - 18s 438ms/step - loss: 4.5549 - accuracy: 0.0170 - val_loss: 4.3117 - val_accuracy: 0.0326\n",
            "Epoch 2/50\n",
            "40/40 [==============================] - 17s 430ms/step - loss: 4.3254 - accuracy: 0.0383 - val_loss: 4.0882 - val_accuracy: 0.0707\n",
            "Epoch 3/50\n",
            "40/40 [==============================] - 17s 427ms/step - loss: 4.1276 - accuracy: 0.0630 - val_loss: 3.9084 - val_accuracy: 0.0984\n",
            "Epoch 4/50\n",
            "40/40 [==============================] - 17s 430ms/step - loss: 3.9962 - accuracy: 0.0799 - val_loss: 3.8416 - val_accuracy: 0.1091\n",
            "Epoch 5/50\n",
            "40/40 [==============================] - 17s 428ms/step - loss: 3.9075 - accuracy: 0.0919 - val_loss: 3.7582 - val_accuracy: 0.1199\n",
            "Epoch 6/50\n",
            "40/40 [==============================] - 17s 427ms/step - loss: 3.8283 - accuracy: 0.1059 - val_loss: 3.6295 - val_accuracy: 0.1494\n",
            "Epoch 7/50\n",
            "40/40 [==============================] - 17s 430ms/step - loss: 3.7635 - accuracy: 0.1157 - val_loss: 3.5363 - val_accuracy: 0.1603\n",
            "Epoch 8/50\n",
            "40/40 [==============================] - 17s 431ms/step - loss: 3.6981 - accuracy: 0.1257 - val_loss: 3.5289 - val_accuracy: 0.1605\n",
            "Epoch 9/50\n",
            "40/40 [==============================] - 17s 432ms/step - loss: 3.6348 - accuracy: 0.1355 - val_loss: 3.3610 - val_accuracy: 0.1925\n",
            "Epoch 10/50\n",
            "40/40 [==============================] - 17s 428ms/step - loss: 3.5933 - accuracy: 0.1420 - val_loss: 3.3745 - val_accuracy: 0.1870\n",
            "Epoch 11/50\n",
            "40/40 [==============================] - 17s 430ms/step - loss: 3.5329 - accuracy: 0.1520 - val_loss: 3.2901 - val_accuracy: 0.2099\n",
            "Epoch 12/50\n",
            "40/40 [==============================] - 17s 429ms/step - loss: 3.5091 - accuracy: 0.1595 - val_loss: 3.3162 - val_accuracy: 0.1966\n",
            "Epoch 13/50\n",
            "40/40 [==============================] - 17s 429ms/step - loss: 3.4757 - accuracy: 0.1644 - val_loss: 3.3140 - val_accuracy: 0.1944\n",
            "Epoch 14/50\n",
            "40/40 [==============================] - 17s 433ms/step - loss: 3.4372 - accuracy: 0.1741 - val_loss: 3.2498 - val_accuracy: 0.2055\n",
            "Epoch 15/50\n",
            "40/40 [==============================] - 17s 432ms/step - loss: 3.4011 - accuracy: 0.1755 - val_loss: 3.2084 - val_accuracy: 0.2162\n",
            "Epoch 16/50\n",
            "40/40 [==============================] - 17s 431ms/step - loss: 3.3591 - accuracy: 0.1845 - val_loss: 3.2483 - val_accuracy: 0.2109\n",
            "Epoch 17/50\n",
            "40/40 [==============================] - 17s 429ms/step - loss: 3.3614 - accuracy: 0.1831 - val_loss: 3.1142 - val_accuracy: 0.2319\n",
            "Epoch 18/50\n",
            "40/40 [==============================] - 17s 432ms/step - loss: 3.3192 - accuracy: 0.1888 - val_loss: 3.1519 - val_accuracy: 0.2297\n",
            "Epoch 19/50\n",
            "40/40 [==============================] - 17s 431ms/step - loss: 3.3234 - accuracy: 0.1962 - val_loss: 3.0605 - val_accuracy: 0.2473\n",
            "Epoch 20/50\n",
            "40/40 [==============================] - 17s 430ms/step - loss: 3.2660 - accuracy: 0.2024 - val_loss: 3.0336 - val_accuracy: 0.2466\n",
            "Epoch 21/50\n",
            "40/40 [==============================] - 17s 430ms/step - loss: 3.2880 - accuracy: 0.1999 - val_loss: 3.0310 - val_accuracy: 0.2491\n",
            "Epoch 22/50\n",
            "40/40 [==============================] - 17s 429ms/step - loss: 3.2506 - accuracy: 0.2015 - val_loss: 3.0038 - val_accuracy: 0.2564\n",
            "Epoch 23/50\n",
            "40/40 [==============================] - 17s 436ms/step - loss: 3.2347 - accuracy: 0.2065 - val_loss: 2.9565 - val_accuracy: 0.2640\n",
            "Epoch 24/50\n",
            "40/40 [==============================] - 17s 430ms/step - loss: 3.2038 - accuracy: 0.2171 - val_loss: 2.9346 - val_accuracy: 0.2649\n",
            "Epoch 25/50\n",
            "40/40 [==============================] - 17s 429ms/step - loss: 3.2173 - accuracy: 0.2107 - val_loss: 2.9823 - val_accuracy: 0.2607\n",
            "Epoch 26/50\n",
            "40/40 [==============================] - 17s 428ms/step - loss: 3.1819 - accuracy: 0.2202 - val_loss: 2.9190 - val_accuracy: 0.2756\n",
            "Epoch 27/50\n",
            "40/40 [==============================] - 17s 431ms/step - loss: 3.1978 - accuracy: 0.2161 - val_loss: 2.8865 - val_accuracy: 0.2810\n",
            "Epoch 28/50\n",
            "40/40 [==============================] - 17s 433ms/step - loss: 3.1622 - accuracy: 0.2203 - val_loss: 2.9292 - val_accuracy: 0.2723\n",
            "Epoch 29/50\n",
            "40/40 [==============================] - 17s 429ms/step - loss: 3.1598 - accuracy: 0.2215 - val_loss: 2.8944 - val_accuracy: 0.2794\n",
            "Epoch 30/50\n",
            "40/40 [==============================] - 17s 429ms/step - loss: 3.1300 - accuracy: 0.2306 - val_loss: 3.0314 - val_accuracy: 0.2516\n",
            "Epoch 31/50\n",
            "40/40 [==============================] - 17s 427ms/step - loss: 3.1204 - accuracy: 0.2302 - val_loss: 3.0007 - val_accuracy: 0.2606\n",
            "Epoch 32/50\n",
            "40/40 [==============================] - 17s 429ms/step - loss: 3.0916 - accuracy: 0.2384 - val_loss: 2.9025 - val_accuracy: 0.2698\n",
            "Epoch 33/50\n",
            "40/40 [==============================] - 17s 433ms/step - loss: 3.1139 - accuracy: 0.2314 - val_loss: 2.9490 - val_accuracy: 0.2650\n",
            "Epoch 34/50\n",
            "40/40 [==============================] - 17s 429ms/step - loss: 3.0833 - accuracy: 0.2414 - val_loss: 2.7926 - val_accuracy: 0.2995\n",
            "Epoch 35/50\n",
            "40/40 [==============================] - 17s 428ms/step - loss: 3.0799 - accuracy: 0.2378 - val_loss: 2.8831 - val_accuracy: 0.2804\n",
            "Epoch 36/50\n",
            "40/40 [==============================] - 17s 427ms/step - loss: 3.0583 - accuracy: 0.2409 - val_loss: 2.8832 - val_accuracy: 0.2832\n",
            "Epoch 37/50\n",
            "40/40 [==============================] - 17s 431ms/step - loss: 3.0658 - accuracy: 0.2416 - val_loss: 2.9530 - val_accuracy: 0.2664\n",
            "Epoch 38/50\n",
            "40/40 [==============================] - 17s 429ms/step - loss: 3.0648 - accuracy: 0.2410 - val_loss: 2.8389 - val_accuracy: 0.2885\n",
            "Epoch 39/50\n",
            "40/40 [==============================] - 17s 428ms/step - loss: 3.0373 - accuracy: 0.2441 - val_loss: 2.8345 - val_accuracy: 0.2901\n",
            "Epoch 40/50\n",
            "40/40 [==============================] - 17s 427ms/step - loss: 3.0232 - accuracy: 0.2488 - val_loss: 2.7286 - val_accuracy: 0.3119\n",
            "Epoch 41/50\n",
            "40/40 [==============================] - 17s 432ms/step - loss: 3.0154 - accuracy: 0.2496 - val_loss: 2.8142 - val_accuracy: 0.2937\n",
            "Epoch 42/50\n",
            "40/40 [==============================] - 17s 432ms/step - loss: 3.0164 - accuracy: 0.2499 - val_loss: 2.8376 - val_accuracy: 0.2922\n",
            "Epoch 43/50\n",
            "40/40 [==============================] - 17s 431ms/step - loss: 2.9988 - accuracy: 0.2525 - val_loss: 2.7384 - val_accuracy: 0.3136\n",
            "Epoch 44/50\n",
            "40/40 [==============================] - 17s 430ms/step - loss: 2.9956 - accuracy: 0.2542 - val_loss: 2.7410 - val_accuracy: 0.3116\n",
            "Epoch 45/50\n",
            "40/40 [==============================] - 17s 432ms/step - loss: 2.9920 - accuracy: 0.2565 - val_loss: 2.7906 - val_accuracy: 0.2978\n",
            "Epoch 46/50\n",
            "40/40 [==============================] - 17s 428ms/step - loss: 2.9793 - accuracy: 0.2629 - val_loss: 2.7744 - val_accuracy: 0.3065\n",
            "Epoch 47/50\n",
            "40/40 [==============================] - 17s 433ms/step - loss: 2.9840 - accuracy: 0.2563 - val_loss: 2.7613 - val_accuracy: 0.3043\n",
            "Epoch 48/50\n",
            "40/40 [==============================] - 17s 431ms/step - loss: 2.9662 - accuracy: 0.2583 - val_loss: 2.7047 - val_accuracy: 0.3157\n",
            "Epoch 49/50\n",
            "40/40 [==============================] - 17s 429ms/step - loss: 2.9738 - accuracy: 0.2597 - val_loss: 2.8110 - val_accuracy: 0.3015\n",
            "Epoch 50/50\n",
            "40/40 [==============================] - 17s 431ms/step - loss: 2.9564 - accuracy: 0.2648 - val_loss: 2.7571 - val_accuracy: 0.3034\n",
            "CPU times: user 14min 40s, sys: 14.7 s, total: 14min 55s\n",
            "Wall time: 14min 22s\n"
          ],
          "name": "stdout"
        }
      ]
    },
    {
      "cell_type": "code",
      "metadata": {
        "colab": {
          "base_uri": "https://localhost:8080/",
          "height": 513
        },
        "id": "3WGXXeeo3Xsf",
        "outputId": "fe4d89c9-1d70-4e46-c1e6-5774a12377a2"
      },
      "source": [
        "import matplotlib.pyplot as plt\n",
        "\n",
        "epochs = range(1, len(Hist.history['loss'])+1)\n",
        "\n",
        "plt.plot(epochs, Hist.history['loss'])\n",
        "plt.plot(epochs, Hist.history['val_loss'])\n",
        "plt.legend(['Train Loss', 'Test Loss'])\n",
        "plt.grid()\n",
        "plt.show()\n",
        "\n",
        "plt.plot(epochs, Hist.history['accuracy'])\n",
        "plt.plot(epochs, Hist.history['val_accuracy'])\n",
        "plt.legend(['Train accuracy', 'Test accuracy'])\n",
        "plt.grid()\n",
        "plt.show()"
      ],
      "execution_count": 24,
      "outputs": [
        {
          "output_type": "display_data",
          "data": {
            "image/png": "[encoded data removed]",
            "text/plain": [
              "<Figure size 432x288 with 1 Axes>"
            ]
          },
          "metadata": {
            "tags": [],
            "needs_background": "light"
          }
        },
        {
          "output_type": "display_data",
          "data": {
            "image/png": "[encoded data removed]",
            "text/plain": [
              "<Figure size 432x288 with 1 Axes>"
            ]
          },
          "metadata": {
            "tags": [],
            "needs_background": "light"
          }
        }
      ]
    },
    {
      "cell_type": "code",
      "metadata": {
        "colab": {
          "base_uri": "https://localhost:8080/"
        },
        "id": "rx7E3kJ83vBQ",
        "outputId": "d25df328-4065-48c6-f5b1-4e87056387d5"
      },
      "source": [
        "test_datagen = ImageDataGenerator(rescale= 1./255)\n",
        "\n",
        "test_generator = test_datagen.flow(X_test, y_test, batch_size=1000)\n",
        "\n",
        "loss, accuracy = model.evaluate(test_generator, steps=10)\n",
        "loss, accuracy"
      ],
      "execution_count": 28,
      "outputs": [
        {
          "output_type": "stream",
          "text": [
            "10/10 [==============================] - 0s 32ms/step - loss: 2.6458 - accuracy: 0.3429\n"
          ],
          "name": "stdout"
        },
        {
          "output_type": "execute_result",
          "data": {
            "text/plain": [
              "(2.645827293395996, 0.34290000796318054)"
            ]
          },
          "metadata": {
            "tags": []
          },
          "execution_count": 28
        }
      ]
    },
    {
      "cell_type": "markdown",
      "metadata": {
        "id": "fkNhC7otrAHS"
      },
      "source": [
        "# BN - 별 차이는 없음/ 오히려 0.03 떨어짐/ overfitting은 줄어듬"
      ]
    },
    {
      "cell_type": "code",
      "metadata": {
        "colab": {
          "base_uri": "https://localhost:8080/"
        },
        "id": "67Mb9LAsrBHA",
        "outputId": "aebd1e32-42f7-4f6e-971f-c981f09b2f20"
      },
      "source": [
        "\n",
        "from keras import layers, models\n",
        "\n",
        "model = models.Sequential()\n",
        "model.add(layers.Conv2D(32, (3,3), activation='relu', input_shape=(32, 32, 3)))\n",
        "model.add(layers.MaxPool2D((2,2)))\n",
        "model.add(layers.Conv2D(64, (3,3), activation='relu'))\n",
        "model.add(layers.Conv2D(64, (3,3), activation='relu'))\n",
        "model.add(layers.BatchNormalization())\n",
        "\n",
        "model.add(layers.Conv2D(128, (3,3), activation='relu'))\n",
        "model.add(layers.MaxPool2D((2,2)))\n",
        "model.add(layers.Conv2D(128, (3,3), activation='relu'))\n",
        "\n",
        "model.add(layers.Flatten())\n",
        "model.add(layers.Dense(units=512, activation='relu'))\n",
        "model.add(layers.BatchNormalization())\n",
        "model.add(layers.Dropout(0.5))\n",
        "model.add(layers.Dense(units=100, activation='softmax'))\n",
        "\n",
        "model.summary()\n",
        "\n",
        "model.compile(loss = 'categorical_crossentropy',\n",
        "              optimizer = 'adam',\n",
        "              metrics = ['accuracy'])"
      ],
      "execution_count": 30,
      "outputs": [
        {
          "output_type": "stream",
          "text": [
            "Model: \"sequential_4\"\n",
            "_________________________________________________________________\n",
            "Layer (type)                 Output Shape              Param #   \n",
            "=================================================================\n",
            "conv2d_17 (Conv2D)           (None, 30, 30, 32)        896       \n",
            "_________________________________________________________________\n",
            "max_pooling2d_8 (MaxPooling2 (None, 15, 15, 32)        0         \n",
            "_________________________________________________________________\n",
            "conv2d_18 (Conv2D)           (None, 13, 13, 64)        18496     \n",
            "_________________________________________________________________\n",
            "conv2d_19 (Conv2D)           (None, 11, 11, 64)        36928     \n",
            "_________________________________________________________________\n",
            "batch_normalization_6 (Batch (None, 11, 11, 64)        256       \n",
            "_________________________________________________________________\n",
            "conv2d_20 (Conv2D)           (None, 9, 9, 128)         73856     \n",
            "_________________________________________________________________\n",
            "max_pooling2d_9 (MaxPooling2 (None, 4, 4, 128)         0         \n",
            "_________________________________________________________________\n",
            "conv2d_21 (Conv2D)           (None, 2, 2, 128)         147584    \n",
            "_________________________________________________________________\n",
            "flatten_4 (Flatten)          (None, 512)               0         \n",
            "_________________________________________________________________\n",
            "dense_8 (Dense)              (None, 512)               262656    \n",
            "_________________________________________________________________\n",
            "batch_normalization_7 (Batch (None, 512)               2048      \n",
            "_________________________________________________________________\n",
            "dropout_4 (Dropout)          (None, 512)               0         \n",
            "_________________________________________________________________\n",
            "dense_9 (Dense)              (None, 100)               51300     \n",
            "=================================================================\n",
            "Total params: 594,020\n",
            "Trainable params: 592,868\n",
            "Non-trainable params: 1,152\n",
            "_________________________________________________________________\n"
          ],
          "name": "stdout"
        }
      ]
    },
    {
      "cell_type": "code",
      "metadata": {
        "colab": {
          "base_uri": "https://localhost:8080/"
        },
        "id": "KOGY8jQyrBHC",
        "outputId": "eb6865a7-f608-4c67-8de5-4ea3d8ed4c84"
      },
      "source": [
        "%%time\n",
        "Hist_BN = model.fit(train_generator, steps_per_epoch=40 ,\n",
        "                       epochs = 100,\n",
        "                       validation_data=valid_generator, validation_steps=10)"
      ],
      "execution_count": 26,
      "outputs": [
        {
          "output_type": "stream",
          "text": [
            "Epoch 1/50\n",
            "40/40 [==============================] - 18s 437ms/step - loss: 5.1541 - accuracy: 0.0366 - val_loss: 4.7299 - val_accuracy: 0.0121\n",
            "Epoch 2/50\n",
            "40/40 [==============================] - 17s 431ms/step - loss: 4.2614 - accuracy: 0.0793 - val_loss: 5.1156 - val_accuracy: 0.0121\n",
            "Epoch 3/50\n",
            "40/40 [==============================] - 17s 428ms/step - loss: 4.0224 - accuracy: 0.1044 - val_loss: 5.2801 - val_accuracy: 0.0119\n",
            "Epoch 4/50\n",
            "40/40 [==============================] - 17s 424ms/step - loss: 3.8775 - accuracy: 0.1178 - val_loss: 5.7115 - val_accuracy: 0.0147\n",
            "Epoch 5/50\n",
            "40/40 [==============================] - 17s 428ms/step - loss: 3.7155 - accuracy: 0.1409 - val_loss: 6.0159 - val_accuracy: 0.0102\n",
            "Epoch 6/50\n",
            "40/40 [==============================] - 17s 427ms/step - loss: 3.6294 - accuracy: 0.1548 - val_loss: 5.9948 - val_accuracy: 0.0261\n",
            "Epoch 7/50\n",
            "40/40 [==============================] - 17s 429ms/step - loss: 3.5516 - accuracy: 0.1659 - val_loss: 6.0695 - val_accuracy: 0.0327\n",
            "Epoch 8/50\n",
            "40/40 [==============================] - 17s 426ms/step - loss: 3.4542 - accuracy: 0.1833 - val_loss: 5.7010 - val_accuracy: 0.0329\n",
            "Epoch 9/50\n",
            "40/40 [==============================] - 17s 428ms/step - loss: 3.4044 - accuracy: 0.1919 - val_loss: 6.1237 - val_accuracy: 0.0270\n",
            "Epoch 10/50\n",
            "40/40 [==============================] - 17s 426ms/step - loss: 3.3264 - accuracy: 0.2031 - val_loss: 5.5236 - val_accuracy: 0.0443\n",
            "Epoch 11/50\n",
            "40/40 [==============================] - 17s 431ms/step - loss: 3.2831 - accuracy: 0.2084 - val_loss: 5.3992 - val_accuracy: 0.0555\n",
            "Epoch 12/50\n",
            "40/40 [==============================] - 17s 430ms/step - loss: 3.2453 - accuracy: 0.2177 - val_loss: 4.6183 - val_accuracy: 0.0770\n",
            "Epoch 13/50\n",
            "40/40 [==============================] - 17s 432ms/step - loss: 3.2141 - accuracy: 0.2232 - val_loss: 4.2641 - val_accuracy: 0.1048\n",
            "Epoch 14/50\n",
            "40/40 [==============================] - 17s 429ms/step - loss: 3.1667 - accuracy: 0.2303 - val_loss: 3.9910 - val_accuracy: 0.1400\n",
            "Epoch 15/50\n",
            "40/40 [==============================] - 17s 426ms/step - loss: 3.1364 - accuracy: 0.2358 - val_loss: 3.5046 - val_accuracy: 0.1900\n",
            "Epoch 16/50\n",
            "40/40 [==============================] - 17s 430ms/step - loss: 3.0801 - accuracy: 0.2470 - val_loss: 3.0347 - val_accuracy: 0.2513\n",
            "Epoch 17/50\n",
            "40/40 [==============================] - 17s 428ms/step - loss: 3.0465 - accuracy: 0.2482 - val_loss: 3.0577 - val_accuracy: 0.2536\n",
            "Epoch 18/50\n",
            "40/40 [==============================] - 17s 426ms/step - loss: 3.0193 - accuracy: 0.2521 - val_loss: 2.8137 - val_accuracy: 0.2994\n",
            "Epoch 19/50\n",
            "40/40 [==============================] - 17s 428ms/step - loss: 2.9876 - accuracy: 0.2594 - val_loss: 2.7165 - val_accuracy: 0.3152\n",
            "Epoch 20/50\n",
            "40/40 [==============================] - 17s 430ms/step - loss: 2.9632 - accuracy: 0.2670 - val_loss: 2.7184 - val_accuracy: 0.3137\n",
            "Epoch 21/50\n",
            "40/40 [==============================] - 17s 432ms/step - loss: 2.9467 - accuracy: 0.2701 - val_loss: 2.6634 - val_accuracy: 0.3194\n",
            "Epoch 22/50\n",
            "40/40 [==============================] - 17s 428ms/step - loss: 2.9162 - accuracy: 0.2713 - val_loss: 2.8587 - val_accuracy: 0.2930\n",
            "Epoch 23/50\n",
            "40/40 [==============================] - 17s 428ms/step - loss: 2.8862 - accuracy: 0.2756 - val_loss: 2.7446 - val_accuracy: 0.3106\n",
            "Epoch 24/50\n",
            "40/40 [==============================] - 17s 426ms/step - loss: 2.8392 - accuracy: 0.2879 - val_loss: 2.6501 - val_accuracy: 0.3348\n",
            "Epoch 25/50\n",
            "40/40 [==============================] - 17s 428ms/step - loss: 2.8284 - accuracy: 0.2857 - val_loss: 2.6683 - val_accuracy: 0.3289\n",
            "Epoch 26/50\n",
            "40/40 [==============================] - 17s 430ms/step - loss: 2.7897 - accuracy: 0.2974 - val_loss: 2.6714 - val_accuracy: 0.3291\n",
            "Epoch 27/50\n",
            "40/40 [==============================] - 17s 425ms/step - loss: 2.7760 - accuracy: 0.2970 - val_loss: 2.5511 - val_accuracy: 0.3502\n",
            "Epoch 28/50\n",
            "40/40 [==============================] - 17s 426ms/step - loss: 2.7867 - accuracy: 0.2988 - val_loss: 2.4888 - val_accuracy: 0.3665\n",
            "Epoch 29/50\n",
            "40/40 [==============================] - 17s 426ms/step - loss: 2.7335 - accuracy: 0.3052 - val_loss: 2.6689 - val_accuracy: 0.3311\n",
            "Epoch 30/50\n",
            "40/40 [==============================] - 17s 433ms/step - loss: 2.7240 - accuracy: 0.3084 - val_loss: 2.6082 - val_accuracy: 0.3357\n",
            "Epoch 31/50\n",
            "40/40 [==============================] - 17s 429ms/step - loss: 2.6954 - accuracy: 0.3131 - val_loss: 2.9982 - val_accuracy: 0.2826\n",
            "Epoch 32/50\n",
            "40/40 [==============================] - 17s 428ms/step - loss: 2.6931 - accuracy: 0.3129 - val_loss: 2.6386 - val_accuracy: 0.3307\n",
            "Epoch 33/50\n",
            "40/40 [==============================] - 17s 427ms/step - loss: 2.6784 - accuracy: 0.3163 - val_loss: 2.5615 - val_accuracy: 0.3498\n",
            "Epoch 34/50\n",
            "40/40 [==============================] - 17s 428ms/step - loss: 2.6659 - accuracy: 0.3204 - val_loss: 2.5520 - val_accuracy: 0.3489\n",
            "Epoch 35/50\n",
            "40/40 [==============================] - 17s 429ms/step - loss: 2.6408 - accuracy: 0.3257 - val_loss: 2.5290 - val_accuracy: 0.3539\n",
            "Epoch 36/50\n",
            "40/40 [==============================] - 17s 427ms/step - loss: 2.6560 - accuracy: 0.3219 - val_loss: 2.3993 - val_accuracy: 0.3803\n",
            "Epoch 37/50\n",
            "40/40 [==============================] - 17s 428ms/step - loss: 2.6293 - accuracy: 0.3292 - val_loss: 2.5152 - val_accuracy: 0.3634\n",
            "Epoch 38/50\n",
            "40/40 [==============================] - 17s 430ms/step - loss: 2.6006 - accuracy: 0.3358 - val_loss: 2.5108 - val_accuracy: 0.3616\n",
            "Epoch 39/50\n",
            "40/40 [==============================] - 17s 426ms/step - loss: 2.5832 - accuracy: 0.3365 - val_loss: 2.5421 - val_accuracy: 0.3571\n",
            "Epoch 40/50\n",
            "40/40 [==============================] - 17s 428ms/step - loss: 2.5773 - accuracy: 0.3391 - val_loss: 2.7996 - val_accuracy: 0.3124\n",
            "Epoch 41/50\n",
            "40/40 [==============================] - 17s 430ms/step - loss: 2.5759 - accuracy: 0.3405 - val_loss: 2.7118 - val_accuracy: 0.3343\n",
            "Epoch 42/50\n",
            "40/40 [==============================] - 17s 427ms/step - loss: 2.5690 - accuracy: 0.3372 - val_loss: 2.4439 - val_accuracy: 0.3716\n",
            "Epoch 43/50\n",
            "40/40 [==============================] - 17s 428ms/step - loss: 2.5397 - accuracy: 0.3501 - val_loss: 2.4167 - val_accuracy: 0.3785\n",
            "Epoch 44/50\n",
            "40/40 [==============================] - 17s 429ms/step - loss: 2.5488 - accuracy: 0.3445 - val_loss: 2.3371 - val_accuracy: 0.3929\n",
            "Epoch 45/50\n",
            "40/40 [==============================] - 17s 427ms/step - loss: 2.5488 - accuracy: 0.3418 - val_loss: 2.4349 - val_accuracy: 0.3705\n",
            "Epoch 46/50\n",
            "40/40 [==============================] - 17s 428ms/step - loss: 2.5207 - accuracy: 0.3564 - val_loss: 2.4371 - val_accuracy: 0.3808\n",
            "Epoch 47/50\n",
            "40/40 [==============================] - 17s 426ms/step - loss: 2.5066 - accuracy: 0.3487 - val_loss: 2.4831 - val_accuracy: 0.3669\n",
            "Epoch 48/50\n",
            "40/40 [==============================] - 17s 427ms/step - loss: 2.5009 - accuracy: 0.3530 - val_loss: 2.2916 - val_accuracy: 0.4034\n",
            "Epoch 49/50\n",
            "40/40 [==============================] - 17s 431ms/step - loss: 2.4964 - accuracy: 0.3505 - val_loss: 2.4007 - val_accuracy: 0.3884\n",
            "Epoch 50/50\n",
            "40/40 [==============================] - 17s 428ms/step - loss: 2.4903 - accuracy: 0.3544 - val_loss: 2.6264 - val_accuracy: 0.3501\n",
            "CPU times: user 14min 41s, sys: 15.7 s, total: 14min 57s\n",
            "Wall time: 14min 19s\n"
          ],
          "name": "stdout"
        }
      ]
    },
    {
      "cell_type": "code",
      "metadata": {
        "colab": {
          "base_uri": "https://localhost:8080/",
          "height": 513
        },
        "id": "RoArKLI6wpnK",
        "outputId": "f8468b23-731d-4701-f63a-bae4f6371fac"
      },
      "source": [
        "import matplotlib.pyplot as plt\n",
        "\n",
        "epochs = range(1, len(Hist_BN.history['loss'])+1)\n",
        "\n",
        "plt.plot(epochs, Hist_BN.history['loss'])\n",
        "plt.plot(epochs, Hist_BN.history['val_loss'])\n",
        "plt.legend(['Train Loss', 'Test Loss'])\n",
        "plt.grid()\n",
        "plt.show()\n",
        "\n",
        "plt.plot(epochs, Hist_BN.history['accuracy'])\n",
        "plt.plot(epochs, Hist_BN.history['val_accuracy'])\n",
        "plt.legend(['Train accuracy', 'Test accuracy'])\n",
        "plt.grid()\n",
        "plt.show()"
      ],
      "execution_count": 27,
      "outputs": [
        {
          "output_type": "display_data",
          "data": {
            "image/png": "[encoded data removed]",
            "text/plain": [
              "<Figure size 432x288 with 1 Axes>"
            ]
          },
          "metadata": {
            "tags": [],
            "needs_background": "light"
          }
        },
        {
          "output_type": "display_data",
          "data": {
            "image/png": "[encoded data removed]",
            "text/plain": [
              "<Figure size 432x288 with 1 Axes>"
            ]
          },
          "metadata": {
            "tags": [],
            "needs_background": "light"
          }
        }
      ]
    },
    {
      "cell_type": "code",
      "metadata": {
        "colab": {
          "base_uri": "https://localhost:8080/"
        },
        "id": "anijTawPwpng",
        "outputId": "0c5cbdef-9129-4579-afbf-7fe73aa4d082"
      },
      "source": [
        "test_datagen = ImageDataGenerator(rescale= 1./255)\n",
        "\n",
        "test_generator = test_datagen.flow(X_test, y_test, batch_size=1000)\n",
        "\n",
        "loss, accuracy = model.evaluate(test_generator, steps=10)\n",
        "loss, accuracy"
      ],
      "execution_count": null,
      "outputs": [
        {
          "output_type": "stream",
          "text": [
            "10/22 [============>.................] - ETA: 0s - loss: 2.7390 - accuracy: 0.3118WARNING:tensorflow:Your input ran out of data; interrupting training. Make sure that your dataset or generator can generate at least `steps_per_epoch * epochs` batches (in this case, 22 batches). You may need to use the repeat() function when building your dataset.\n",
            "22/22 [==============================] - 1s 26ms/step - loss: 2.7390 - accuracy: 0.3118\n"
          ],
          "name": "stdout"
        },
        {
          "output_type": "execute_result",
          "data": {
            "text/plain": [
              "(2.7389678955078125, 0.3118000030517578)"
            ]
          },
          "metadata": {
            "tags": []
          },
          "execution_count": 36
        }
      ]
    },
    {
      "cell_type": "markdown",
      "metadata": {
        "id": "eNOCqWM59wIt"
      },
      "source": [
        "# layer +/ epoch +50/"
      ]
    },
    {
      "cell_type": "code",
      "metadata": {
        "colab": {
          "base_uri": "https://localhost:8080/"
        },
        "id": "49-Abc_K9QVy",
        "outputId": "7e5ebe37-544f-4630-8028-87a2c8b4680b"
      },
      "source": [
        "model = models.Sequential()\n",
        "model.add(layers.Conv2D(32, (3,3), activation='relu', input_shape=(32, 32, 3)))\n",
        "\n",
        "model.add(layers.Conv2D(64, (3,3), activation='relu'))\n",
        "model.add(layers.Conv2D(64, (3,3), activation='relu'))\n",
        "model.add(layers.BatchNormalization())\n",
        "model.add(layers.Conv2D(128, (3,3), activation='relu'))\n",
        "model.add(layers.MaxPool2D((2,2)))\n",
        "model.add(layers.Conv2D(128, (3,3), activation='relu'))\n",
        "\n",
        "model.add(layers.Conv2D(256, (3,3), activation='relu'))\n",
        "model.add(layers.Conv2D(256, (3,3), activation='relu'))\n",
        "model.add(layers.MaxPool2D((2,2)))\n",
        "model.add(layers.Flatten())\n",
        "model.add(layers.Dense(units=512, activation='relu'))\n",
        "model.add(layers.BatchNormalization())\n",
        "model.add(layers.Dropout(0.5))\n",
        "model.add(layers.Dense(units=100, activation='softmax'))\n",
        "\n",
        "model.summary()\n",
        "\n",
        "model.compile(loss = 'categorical_crossentropy',\n",
        "              optimizer = 'rmsprop',\n",
        "              metrics = ['accuracy'])"
      ],
      "execution_count": 36,
      "outputs": [
        {
          "output_type": "stream",
          "text": [
            "Model: \"sequential_10\"\n",
            "_________________________________________________________________\n",
            "Layer (type)                 Output Shape              Param #   \n",
            "=================================================================\n",
            "conv2d_41 (Conv2D)           (None, 30, 30, 32)        896       \n",
            "_________________________________________________________________\n",
            "conv2d_42 (Conv2D)           (None, 28, 28, 64)        18496     \n",
            "_________________________________________________________________\n",
            "conv2d_43 (Conv2D)           (None, 26, 26, 64)        36928     \n",
            "_________________________________________________________________\n",
            "batch_normalization_12 (Batc (None, 26, 26, 64)        256       \n",
            "_________________________________________________________________\n",
            "conv2d_44 (Conv2D)           (None, 24, 24, 128)       73856     \n",
            "_________________________________________________________________\n",
            "max_pooling2d_16 (MaxPooling (None, 12, 12, 128)       0         \n",
            "_________________________________________________________________\n",
            "conv2d_45 (Conv2D)           (None, 10, 10, 128)       147584    \n",
            "_________________________________________________________________\n",
            "conv2d_46 (Conv2D)           (None, 8, 8, 256)         295168    \n",
            "_________________________________________________________________\n",
            "conv2d_47 (Conv2D)           (None, 6, 6, 256)         590080    \n",
            "_________________________________________________________________\n",
            "max_pooling2d_17 (MaxPooling (None, 3, 3, 256)         0         \n",
            "_________________________________________________________________\n",
            "flatten_7 (Flatten)          (None, 2304)              0         \n",
            "_________________________________________________________________\n",
            "dense_14 (Dense)             (None, 512)               1180160   \n",
            "_________________________________________________________________\n",
            "batch_normalization_13 (Batc (None, 512)               2048      \n",
            "_________________________________________________________________\n",
            "dropout_7 (Dropout)          (None, 512)               0         \n",
            "_________________________________________________________________\n",
            "dense_15 (Dense)             (None, 100)               51300     \n",
            "=================================================================\n",
            "Total params: 2,396,772\n",
            "Trainable params: 2,395,620\n",
            "Non-trainable params: 1,152\n",
            "_________________________________________________________________\n"
          ],
          "name": "stdout"
        }
      ]
    },
    {
      "cell_type": "code",
      "metadata": {
        "colab": {
          "base_uri": "https://localhost:8080/"
        },
        "id": "A_nBJXzo-Et5",
        "outputId": "63276d83-e399-4e98-93a9-9183c6126a09"
      },
      "source": [
        "%%time\n",
        "Hist_other = model.fit(train_generator, steps_per_epoch=40 ,\n",
        "                       epochs = 50,\n",
        "                       validation_data=valid_generator, validation_steps=10)"
      ],
      "execution_count": null,
      "outputs": [
        {
          "output_type": "stream",
          "text": [
            "Epoch 1/50\n",
            "40/40 [==============================] - 21s 457ms/step - loss: 4.8011 - accuracy: 0.0204 - val_loss: 4.4862 - val_accuracy: 0.0190\n",
            "Epoch 2/50\n",
            "40/40 [==============================] - 19s 463ms/step - loss: 4.4138 - accuracy: 0.0386 - val_loss: 4.5505 - val_accuracy: 0.0178\n",
            "Epoch 3/50\n",
            "40/40 [==============================] - 19s 467ms/step - loss: 4.2760 - accuracy: 0.0500 - val_loss: 4.5197 - val_accuracy: 0.0203\n",
            "Epoch 4/50\n",
            "40/40 [==============================] - 19s 462ms/step - loss: 4.1866 - accuracy: 0.0589 - val_loss: 4.5609 - val_accuracy: 0.0364\n",
            "Epoch 5/50\n",
            "40/40 [==============================] - 19s 462ms/step - loss: 4.0990 - accuracy: 0.0698 - val_loss: 4.4871 - val_accuracy: 0.0431\n",
            "Epoch 6/50\n",
            "40/40 [==============================] - 19s 464ms/step - loss: 4.0131 - accuracy: 0.0762 - val_loss: 4.7989 - val_accuracy: 0.0197\n",
            "Epoch 7/50\n",
            "40/40 [==============================] - 19s 464ms/step - loss: 3.9490 - accuracy: 0.0849 - val_loss: 4.8146 - val_accuracy: 0.0233\n",
            "Epoch 8/50\n",
            "40/40 [==============================] - 19s 462ms/step - loss: 3.8981 - accuracy: 0.0941 - val_loss: 4.7438 - val_accuracy: 0.0330\n",
            "Epoch 9/50\n",
            "40/40 [==============================] - 19s 462ms/step - loss: 3.8348 - accuracy: 0.1035 - val_loss: 4.5056 - val_accuracy: 0.0420\n",
            "Epoch 10/50\n",
            "40/40 [==============================] - 19s 464ms/step - loss: 3.7673 - accuracy: 0.1186 - val_loss: 34.5629 - val_accuracy: 0.0116\n",
            "Epoch 11/50\n",
            "40/40 [==============================] - 19s 462ms/step - loss: 3.7340 - accuracy: 0.1209 - val_loss: 4.1126 - val_accuracy: 0.0921\n",
            "Epoch 12/50\n",
            "40/40 [==============================] - 19s 464ms/step - loss: 3.6666 - accuracy: 0.1311 - val_loss: 3.8135 - val_accuracy: 0.1082\n",
            "Epoch 13/50\n",
            "40/40 [==============================] - 19s 462ms/step - loss: 3.6161 - accuracy: 0.1427 - val_loss: 3.7354 - val_accuracy: 0.1291\n",
            "Epoch 14/50\n",
            "40/40 [==============================] - 19s 462ms/step - loss: 3.5847 - accuracy: 0.1483 - val_loss: 4.0581 - val_accuracy: 0.0849\n",
            "Epoch 15/50\n",
            "40/40 [==============================] - 19s 465ms/step - loss: 3.5328 - accuracy: 0.1533 - val_loss: 3.6207 - val_accuracy: 0.1454\n",
            "Epoch 16/50\n",
            "40/40 [==============================] - 19s 461ms/step - loss: 3.4907 - accuracy: 0.1600 - val_loss: 3.5707 - val_accuracy: 0.1538\n",
            "Epoch 17/50\n",
            "40/40 [==============================] - 19s 462ms/step - loss: 3.4448 - accuracy: 0.1691 - val_loss: 3.2896 - val_accuracy: 0.1978\n",
            "Epoch 18/50\n",
            "40/40 [==============================] - 18s 461ms/step - loss: 3.4027 - accuracy: 0.1744 - val_loss: 3.4943 - val_accuracy: 0.1671\n",
            "Epoch 19/50\n",
            "40/40 [==============================] - 19s 464ms/step - loss: 3.3730 - accuracy: 0.1852 - val_loss: 3.2725 - val_accuracy: 0.2054\n",
            "Epoch 20/50\n",
            "40/40 [==============================] - 19s 464ms/step - loss: 3.3232 - accuracy: 0.1941 - val_loss: 4.2669 - val_accuracy: 0.1485\n",
            "Epoch 21/50\n",
            "40/40 [==============================] - 19s 461ms/step - loss: 3.2887 - accuracy: 0.2003 - val_loss: 3.5311 - val_accuracy: 0.1666\n",
            "Epoch 22/50\n",
            "40/40 [==============================] - 18s 460ms/step - loss: 3.2575 - accuracy: 0.2005 - val_loss: 3.6358 - val_accuracy: 0.1658\n",
            "Epoch 23/50\n",
            "40/40 [==============================] - 19s 463ms/step - loss: 3.2072 - accuracy: 0.2113 - val_loss: 3.0405 - val_accuracy: 0.2477\n",
            "Epoch 24/50\n",
            "40/40 [==============================] - 19s 467ms/step - loss: 3.1835 - accuracy: 0.2144 - val_loss: 3.0848 - val_accuracy: 0.2456\n",
            "Epoch 25/50\n",
            "40/40 [==============================] - 18s 460ms/step - loss: 3.1682 - accuracy: 0.2164 - val_loss: 3.2264 - val_accuracy: 0.2069\n",
            "Epoch 26/50\n",
            "40/40 [==============================] - 18s 458ms/step - loss: 3.1172 - accuracy: 0.2296 - val_loss: 3.1085 - val_accuracy: 0.2317\n",
            "Epoch 27/50\n",
            "40/40 [==============================] - 18s 460ms/step - loss: 3.0970 - accuracy: 0.2327 - val_loss: 3.2341 - val_accuracy: 0.2324\n",
            "Epoch 28/50\n",
            "25/40 [=================>............] - ETA: 6s - loss: 3.0749 - accuracy: 0.2356"
          ],
          "name": "stdout"
        }
      ]
    },
    {
      "cell_type": "code",
      "metadata": {
        "id": "uvN4AHF3CH9O"
      },
      "source": [
        ""
      ],
      "execution_count": null,
      "outputs": []
    }
  ]
}