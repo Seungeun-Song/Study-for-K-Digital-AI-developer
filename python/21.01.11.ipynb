{
 "cells": [
  {
   "cell_type": "code",
   "execution_count": 23,
   "metadata": {},
   "outputs": [
    {
     "name": "stdout",
     "output_type": "stream",
     "text": [
      "안,녕,하,세,요,"
     ]
    }
   ],
   "source": [
    "s = \"안녕하세요\"\n",
    "for i in range(len(s)):\n",
    "    print(s[i], end=',')"
   ]
  },
  {
   "cell_type": "code",
   "execution_count": 25,
   "metadata": {},
   "outputs": [
    {
     "name": "stdout",
     "output_type": "stream",
     "text": [
      "안,녕,하,세,요,"
     ]
    }
   ],
   "source": [
    "s = \"안녕하세요\"\n",
    "for i in s :\n",
    "    print(i, end=',')"
   ]
  },
  {
   "cell_type": "markdown",
   "metadata": {},
   "source": []
  },
  {
   "cell_type": "code",
   "execution_count": 2,
   "metadata": {},
   "outputs": [
    {
     "name": "stdout",
     "output_type": "stream",
     "text": [
      "강나루 건너서\n",
      "밀밭 길을\n",
      "\n",
      "구름에 달 가듯이\n",
      "가는 나그네\n",
      "길은 외줄기\n",
      "남도 삼백리\n",
      "\n",
      "술 익는 마을마다\n",
      "타는 저녁놀\n",
      "구름에 달 가듯이\n",
      "가는 나그네\n"
     ]
    }
   ],
   "source": [
    "traveler = \"\"\"강나루 건너서\\n밀밭 길을\\n\\n구름에 달 가듯이\\n가는 나그네\\n길은 외줄기\\n남도 삼백리\\n\\n술 익는 마을마다\\n타는 저녁놀\\n구름에 달 가듯이\\n가는 나그네\"\"\"\n",
    "poet = traveler.splitlines()\n",
    "for line in poet:\n",
    "    print(line)"
   ]
  },
  {
   "cell_type": "code",
   "execution_count": 3,
   "metadata": {},
   "outputs": [
    {
     "data": {
      "text/plain": [
       "['강나루 건너서',\n",
       " '밀밭 길을',\n",
       " '',\n",
       " '구름에 달 가듯이',\n",
       " '가는 나그네',\n",
       " '길은 외줄기',\n",
       " '남도 삼백리',\n",
       " '',\n",
       " '술 익는 마을마다',\n",
       " '타는 저녁놀',\n",
       " '구름에 달 가듯이',\n",
       " '가는 나그네']"
      ]
     },
     "execution_count": 3,
     "metadata": {},
     "output_type": "execute_result"
    }
   ],
   "source": [
    "poet"
   ]
  },
  {
   "cell_type": "code",
   "execution_count": null,
   "metadata": {},
   "outputs": [],
   "source": []
  },
  {
   "cell_type": "code",
   "execution_count": 8,
   "metadata": {},
   "outputs": [
    {
     "name": "stdout",
     "output_type": "stream",
     "text": [
      "궁금하면 500원!\n"
     ]
    }
   ],
   "source": [
    "price = 500\n",
    "print('궁금하면 ' + str(price) + '원!')"
   ]
  },
  {
   "cell_type": "code",
   "execution_count": 9,
   "metadata": {},
   "outputs": [
    {
     "name": "stdout",
     "output_type": "stream",
     "text": [
      "궁금하면 500원~\n"
     ]
    }
   ],
   "source": [
    "price = 500\n",
    "print(\"궁금하면 %d원~\" %price)"
   ]
  },
  {
   "cell_type": "code",
   "execution_count": 12,
   "metadata": {},
   "outputs": [
    {
     "name": "stdout",
     "output_type": "stream",
     "text": [
      "궁금하면 %%원~\n"
     ]
    }
   ],
   "source": [
    "print(\"궁금하면 %%원~\" )"
   ]
  },
  {
   "cell_type": "code",
   "execution_count": 13,
   "metadata": {},
   "outputs": [
    {
     "name": "stdout",
     "output_type": "stream",
     "text": [
      "8월 15일은 광복절이다\n"
     ]
    }
   ],
   "source": [
    "month = 8\n",
    "day = 15\n",
    "anni = \"광복절\"\n",
    "print(\"%d월 %d일은 %s이다\" %(month, day, anni))"
   ]
  },
  {
   "cell_type": "code",
   "execution_count": 16,
   "metadata": {},
   "outputs": [
    {
     "name": "stdout",
     "output_type": "stream",
     "text": [
      "8 월 15 일은  광복절 이다\n"
     ]
    }
   ],
   "source": [
    "print(str(month), \"월\", str(day), \"일은 \", anni, \"이다\")"
   ]
  },
  {
   "cell_type": "code",
   "execution_count": 17,
   "metadata": {},
   "outputs": [
    {
     "name": "stdout",
     "output_type": "stream",
     "text": [
      "8월15일은 광복절이다\n"
     ]
    }
   ],
   "source": [
    "print(str(month)+ \"월\"+ str(day)+ \"일은 \"+ anni+ \"이다\")"
   ]
  },
  {
   "cell_type": "code",
   "execution_count": 27,
   "metadata": {},
   "outputs": [
    {
     "name": "stdout",
     "output_type": "stream",
     "text": [
      "가치는123이다\n",
      "가치는  123이다\n",
      "가치는123  이다\n"
     ]
    }
   ],
   "source": [
    "value = 123\n",
    "print(\"가치는%d이다\" %value)\n",
    "print(\"가치는%5d이다\" %value)\n",
    "print(\"가치는%-5d이다\" %value)"
   ]
  },
  {
   "cell_type": "markdown",
   "metadata": {},
   "source": [
    "# 9. 리스트_튜플\n",
    "## 9-1. 리스트"
   ]
  },
  {
   "cell_type": "code",
   "execution_count": 31,
   "metadata": {},
   "outputs": [
    {
     "name": "stdout",
     "output_type": "stream",
     "text": [
      "[34, 89]\n",
      "[89, 66, 79, 21]\n",
      "81\n",
      "[41, 34, 89, 66, 79, 21, 81]\n"
     ]
    }
   ],
   "source": [
    "score = [88,41,34,89,66,79,21,81]\n",
    "print(score[2:4])\n",
    "print(score[3:-1])\n",
    "print(score[-1])\n",
    "print(score[1:])"
   ]
  },
  {
   "cell_type": "code",
   "execution_count": 46,
   "metadata": {},
   "outputs": [
    {
     "name": "stdout",
     "output_type": "stream",
     "text": [
      "88\n",
      "41\n",
      "34\n",
      "89\n",
      "66\n",
      "79\n",
      "21\n",
      "81\n",
      "총점 : 499\n"
     ]
    }
   ],
   "source": [
    "sum = 0\n",
    "for i in score:\n",
    "    sum+=i\n",
    "    print(i)\n",
    "print(\"총점 :\", sum)"
   ]
  },
  {
   "cell_type": "code",
   "execution_count": 38,
   "metadata": {},
   "outputs": [
    {
     "name": "stdout",
     "output_type": "stream",
     "text": [
      "[2, 3, 4]\n",
      "[0, 1, 2, 3]\n",
      "[6, 7, 8, 9]\n",
      "[1, 3, 5, 7, 9]\n",
      "[]\n",
      "[6, 7, 8]\n",
      "[9, 8, 7, 6, 5, 4, 3, 2, 1, 0]\n"
     ]
    }
   ],
   "source": [
    "nums = [0,1,2,3,4,5,6,7,8,9]\n",
    "print(nums[2:5])\n",
    "print(nums[:4])\n",
    "print(nums[6:])\n",
    "print(nums[1::2])\n",
    "print(nums[-1:-4])\n",
    "print(nums[-4:-1])\n",
    "print(nums[::-1])"
   ]
  },
  {
   "cell_type": "code",
   "execution_count": 47,
   "metadata": {},
   "outputs": [
    {
     "name": "stdout",
     "output_type": "stream",
     "text": [
      "34\n"
     ]
    }
   ],
   "source": [
    "print(score[2])"
   ]
  },
  {
   "cell_type": "code",
   "execution_count": 48,
   "metadata": {},
   "outputs": [
    {
     "data": {
      "text/plain": [
       "34"
      ]
     },
     "execution_count": 48,
     "metadata": {},
     "output_type": "execute_result"
    }
   ],
   "source": [
    "score[2]"
   ]
  },
  {
   "cell_type": "code",
   "execution_count": 49,
   "metadata": {},
   "outputs": [],
   "source": [
    "score[2] = 60"
   ]
  },
  {
   "cell_type": "code",
   "execution_count": 51,
   "metadata": {},
   "outputs": [
    {
     "name": "stdout",
     "output_type": "stream",
     "text": [
      "60\n"
     ]
    }
   ],
   "source": [
    "print(score[2])"
   ]
  },
  {
   "cell_type": "code",
   "execution_count": 52,
   "metadata": {},
   "outputs": [
    {
     "name": "stdout",
     "output_type": "stream",
     "text": [
      "[0, 1, 20, 30, 40, 5, 6, 7, 8, 9]\n"
     ]
    }
   ],
   "source": [
    "nums[2:5] = [20,30,40]\n",
    "print(nums)"
   ]
  },
  {
   "cell_type": "code",
   "execution_count": 53,
   "metadata": {},
   "outputs": [
    {
     "name": "stdout",
     "output_type": "stream",
     "text": [
      "[0, 1, 20, 30, 40, 5, 90, 91, 92, 93, 94, 8, 9]\n"
     ]
    }
   ],
   "source": [
    "nums[6:8] = [90,91,92,93,94]\n",
    "print(nums)"
   ]
  },
  {
   "cell_type": "code",
   "execution_count": 54,
   "metadata": {},
   "outputs": [
    {
     "name": "stdout",
     "output_type": "stream",
     "text": [
      "[0, 1]\n"
     ]
    }
   ],
   "source": [
    "nums[2:] = []\n",
    "print(nums)"
   ]
  },
  {
   "cell_type": "code",
   "execution_count": 55,
   "metadata": {},
   "outputs": [],
   "source": [
    "del nums[1]"
   ]
  },
  {
   "cell_type": "code",
   "execution_count": 56,
   "metadata": {},
   "outputs": [
    {
     "name": "stdout",
     "output_type": "stream",
     "text": [
      "[0]\n"
     ]
    }
   ],
   "source": [
    "print(nums)"
   ]
  },
  {
   "cell_type": "code",
   "execution_count": 57,
   "metadata": {},
   "outputs": [
    {
     "name": "stdout",
     "output_type": "stream",
     "text": [
      "[1, 2, 3, 4, 5, 6, [7, 8]]\n"
     ]
    }
   ],
   "source": [
    "list = [1,2,3,4]\n",
    "list2 = [5,6,[7,8]]\n",
    "listadd = list + list2\n",
    "print(listadd)"
   ]
  },
  {
   "cell_type": "code",
   "execution_count": 59,
   "metadata": {},
   "outputs": [
    {
     "name": "stdout",
     "output_type": "stream",
     "text": [
      "[5, 6, [7, 8], 5, 6, [7, 8]]\n"
     ]
    }
   ],
   "source": [
    "listmulti = list2 *2\n",
    "print(listmulti)"
   ]
  },
  {
   "cell_type": "code",
   "execution_count": 65,
   "metadata": {},
   "outputs": [
    {
     "name": "stdout",
     "output_type": "stream",
     "text": [
      "1 2 3 \n",
      "4 5 \n",
      "6 7 8 9 \n"
     ]
    }
   ],
   "source": [
    "lol = [[1,2,3],[4,5],[6,7,8,9]]\n",
    "for sub in lol :\n",
    "    for item in sub:\n",
    "        print(item, end=' ')\n",
    "    print()"
   ]
  },
  {
   "cell_type": "code",
   "execution_count": 71,
   "metadata": {},
   "outputs": [
    {
     "name": "stdout",
     "output_type": "stream",
     "text": [
      "[2, 4, 6, 8, 10, 12, 14, 16, 18, 20]\n"
     ]
    }
   ],
   "source": [
    "nums = [n*2 for n in range(1,11)]\n",
    "print(nums)"
   ]
  },
  {
   "cell_type": "code",
   "execution_count": 73,
   "metadata": {},
   "outputs": [
    {
     "data": {
      "text/plain": [
       "list"
      ]
     },
     "execution_count": 73,
     "metadata": {},
     "output_type": "execute_result"
    }
   ],
   "source": [
    "type(nums)"
   ]
  },
  {
   "cell_type": "code",
   "execution_count": 83,
   "metadata": {},
   "outputs": [
    {
     "name": "stdout",
     "output_type": "stream",
     "text": [
      "[1, 2, [90, 91, 92], 4]\n"
     ]
    }
   ],
   "source": [
    "nums = [1,2,3,4]\n",
    "nums[2] = [90,91,92]\n",
    "print(nums)"
   ]
  },
  {
   "cell_type": "code",
   "execution_count": 85,
   "metadata": {},
   "outputs": [
    {
     "name": "stdout",
     "output_type": "stream",
     "text": [
      "[1, 2, 0, 0, 0, 3, 4]\n"
     ]
    }
   ],
   "source": [
    "nums = [1,2,3,4]\n",
    "nums[2:2] = [0,0,0]\n",
    "print(nums)"
   ]
  },
  {
   "cell_type": "code",
   "execution_count": 87,
   "metadata": {},
   "outputs": [
    {
     "name": "stdout",
     "output_type": "stream",
     "text": [
      "[1, 2, 0, 4]\n"
     ]
    }
   ],
   "source": [
    "nums = [1,2,3,4]\n",
    "nums[2] = 0\n",
    "print(nums)"
   ]
  },
  {
   "cell_type": "code",
   "execution_count": 88,
   "metadata": {},
   "outputs": [
    {
     "name": "stdout",
     "output_type": "stream",
     "text": [
      "[1, 2, 0, (90, 91, 92)]\n"
     ]
    }
   ],
   "source": [
    "nums[3] =(90,91,92)\n",
    "print(nums)"
   ]
  },
  {
   "cell_type": "code",
   "execution_count": 92,
   "metadata": {},
   "outputs": [
    {
     "name": "stdout",
     "output_type": "stream",
     "text": [
      "[1, 2, [10, 11]]\n"
     ]
    }
   ],
   "source": [
    "list1 = [1,2]\n",
    "list2=[10,11]\n",
    "list1.append(list2)\n",
    "print(list1)"
   ]
  },
  {
   "cell_type": "code",
   "execution_count": 96,
   "metadata": {},
   "outputs": [
    {
     "name": "stdout",
     "output_type": "stream",
     "text": [
      "[1, 2, (10, 11)]\n"
     ]
    }
   ],
   "source": [
    "list1 = [1,2]\n",
    "list2=(10,11)\n",
    "list1.append(list2)\n",
    "print(list1)"
   ]
  },
  {
   "cell_type": "code",
   "execution_count": 97,
   "metadata": {},
   "outputs": [
    {
     "name": "stdout",
     "output_type": "stream",
     "text": [
      "[1, 2, 10, 11]\n"
     ]
    }
   ],
   "source": [
    "list1 = [1,2]\n",
    "list2=[10,11]\n",
    "list1.extend(list2)\n",
    "print(list1)"
   ]
  },
  {
   "cell_type": "code",
   "execution_count": 100,
   "metadata": {},
   "outputs": [
    {
     "name": "stdout",
     "output_type": "stream",
     "text": [
      "[1, 2, 10, 11]\n"
     ]
    }
   ],
   "source": [
    "list1 = [1,2]\n",
    "list2=(10,11)\n",
    "list1.extend(list2)\n",
    "print(list1)"
   ]
  },
  {
   "cell_type": "code",
   "execution_count": 101,
   "metadata": {
    "scrolled": true
   },
   "outputs": [
    {
     "ename": "AttributeError",
     "evalue": "'tuple' object has no attribute 'extend'",
     "output_type": "error",
     "traceback": [
      "\u001b[1;31m---------------------------------------------------------------------------\u001b[0m",
      "\u001b[1;31mAttributeError\u001b[0m                            Traceback (most recent call last)",
      "\u001b[1;32m<ipython-input-101-8db7afc6ddcf>\u001b[0m in \u001b[0;36m<module>\u001b[1;34m\u001b[0m\n\u001b[0;32m      1\u001b[0m \u001b[0mlist1\u001b[0m \u001b[1;33m=\u001b[0m \u001b[1;33m[\u001b[0m\u001b[1;36m1\u001b[0m\u001b[1;33m,\u001b[0m\u001b[1;36m2\u001b[0m\u001b[1;33m]\u001b[0m\u001b[1;33m\u001b[0m\u001b[1;33m\u001b[0m\u001b[0m\n\u001b[0;32m      2\u001b[0m \u001b[0mlist2\u001b[0m\u001b[1;33m=\u001b[0m\u001b[1;33m(\u001b[0m\u001b[1;36m10\u001b[0m\u001b[1;33m,\u001b[0m\u001b[1;36m11\u001b[0m\u001b[1;33m)\u001b[0m\u001b[1;33m\u001b[0m\u001b[1;33m\u001b[0m\u001b[0m\n\u001b[1;32m----> 3\u001b[1;33m \u001b[0mlist2\u001b[0m\u001b[1;33m.\u001b[0m\u001b[0mextend\u001b[0m\u001b[1;33m(\u001b[0m\u001b[0mlist1\u001b[0m\u001b[1;33m)\u001b[0m\u001b[1;33m\u001b[0m\u001b[1;33m\u001b[0m\u001b[0m\n\u001b[0m\u001b[0;32m      4\u001b[0m \u001b[0mprint\u001b[0m\u001b[1;33m(\u001b[0m\u001b[0mlist1\u001b[0m\u001b[1;33m)\u001b[0m\u001b[1;33m\u001b[0m\u001b[1;33m\u001b[0m\u001b[0m\n",
      "\u001b[1;31mAttributeError\u001b[0m: 'tuple' object has no attribute 'extend'"
     ]
    }
   ],
   "source": [
    "list1 = [1,2]\n",
    "list2=(10,11)\n",
    "list2.extend(list1)\n",
    "print(list1)"
   ]
  },
  {
   "cell_type": "code",
   "execution_count": 4,
   "metadata": {},
   "outputs": [
    {
     "name": "stdout",
     "output_type": "stream",
     "text": [
      "학생 수는 8명입니다\n",
      "최고 점수는 100, 최저점수는 50입니다\n"
     ]
    }
   ],
   "source": [
    "score = [88,95,70,100,99,80,78,50]\n",
    "print(\"학생 수는 %d명입니다\" %len(score))\n",
    "print('최고 점수는 %d, 최저점수는 %d입니다' %(max(score), min(score)))"
   ]
  },
  {
   "cell_type": "code",
   "execution_count": 5,
   "metadata": {
    "scrolled": true
   },
   "outputs": [
    {
     "name": "stdout",
     "output_type": "stream",
     "text": [
      "50\n",
      "78\n",
      "95\n",
      "[88, 70, 100, 99, 80]\n"
     ]
    }
   ],
   "source": [
    "print(score.pop())\n",
    "print(score.pop())\n",
    "print(score.pop(1))\n",
    "print(score)"
   ]
  },
  {
   "cell_type": "code",
   "execution_count": 10,
   "metadata": {},
   "outputs": [
    {
     "name": "stdout",
     "output_type": "stream",
     "text": [
      "[70, 80, 88, 99, 100]\n"
     ]
    }
   ],
   "source": [
    "score.sort()\n",
    "print(score)"
   ]
  },
  {
   "cell_type": "code",
   "execution_count": 11,
   "metadata": {},
   "outputs": [
    {
     "name": "stdout",
     "output_type": "stream",
     "text": [
      "[100, 99, 88, 80, 70]\n"
     ]
    }
   ],
   "source": [
    "score.reverse()\n",
    "print(score)"
   ]
  },
  {
   "cell_type": "code",
   "execution_count": 8,
   "metadata": {},
   "outputs": [
    {
     "name": "stdout",
     "output_type": "stream",
     "text": [
      "결제 하시겠습니까? 당근\n",
      "구입해주셔서 감사합니다\n"
     ]
    }
   ],
   "source": [
    "ans = input('결제 하시겠습니까? ')\n",
    "if ans in ['yes','y','ok','예','당근']:\n",
    "    print('구입해주셔서 감사합니다')\n",
    "else:\n",
    "    print('안녕히 가세요')"
   ]
  },
  {
   "cell_type": "code",
   "execution_count": 13,
   "metadata": {},
   "outputs": [
    {
     "name": "stdout",
     "output_type": "stream",
     "text": [
      "[88, 95, 70, 100, 99]\n",
      "[70, 88, 95, 99, 100]\n"
     ]
    }
   ],
   "source": [
    "score = [88,95,70,100,99]\n",
    "score2 = sorted(score)\n",
    "print(score)\n",
    "print(score2)"
   ]
  },
  {
   "cell_type": "markdown",
   "metadata": {},
   "source": [
    "## 9-2. 튜플"
   ]
  },
  {
   "cell_type": "code",
   "execution_count": 16,
   "metadata": {},
   "outputs": [
    {
     "name": "stdout",
     "output_type": "stream",
     "text": [
      "(88, 95, 70, 100, 99)\n"
     ]
    },
    {
     "data": {
      "text/plain": [
       "tuple"
      ]
     },
     "execution_count": 16,
     "metadata": {},
     "output_type": "execute_result"
    }
   ],
   "source": [
    "score = (88,95,70,100,99)\n",
    "print(score)\n",
    "type(score)"
   ]
  },
  {
   "cell_type": "code",
   "execution_count": 17,
   "metadata": {},
   "outputs": [
    {
     "name": "stdout",
     "output_type": "stream",
     "text": [
      "(88, 95, 70, 100, 99)\n"
     ]
    },
    {
     "data": {
      "text/plain": [
       "tuple"
      ]
     },
     "execution_count": 17,
     "metadata": {},
     "output_type": "execute_result"
    }
   ],
   "source": [
    "score = 88,95,70,100,99\n",
    "print(score)\n",
    "type(score)"
   ]
  },
  {
   "cell_type": "code",
   "execution_count": 18,
   "metadata": {},
   "outputs": [],
   "source": [
    "tu = 2,                 # , 가 있으면 튜플이라고 인식"
   ]
  },
  {
   "cell_type": "code",
   "execution_count": 19,
   "metadata": {},
   "outputs": [],
   "source": [
    "value =2                # 하나만 있으면 값으로 출력"
   ]
  },
  {
   "cell_type": "code",
   "execution_count": 20,
   "metadata": {},
   "outputs": [
    {
     "name": "stdout",
     "output_type": "stream",
     "text": [
      "(2,)\n",
      "2\n"
     ]
    }
   ],
   "source": [
    "print(tu)\n",
    "print(value)"
   ]
  },
  {
   "cell_type": "code",
   "execution_count": 25,
   "metadata": {},
   "outputs": [
    {
     "ename": "NameError",
     "evalue": "name 'score' is not defined",
     "output_type": "error",
     "traceback": [
      "\u001b[1;31m---------------------------------------------------------------------------\u001b[0m",
      "\u001b[1;31mNameError\u001b[0m                                 Traceback (most recent call last)",
      "\u001b[1;32m<ipython-input-25-ad12c5961e24>\u001b[0m in \u001b[0;36m<module>\u001b[1;34m\u001b[0m\n\u001b[1;32m----> 1\u001b[1;33m \u001b[0mscore\u001b[0m\u001b[1;33m.\u001b[0m\u001b[0mextend\u001b[0m\u001b[1;33m(\u001b[0m\u001b[1;36m1\u001b[0m\u001b[1;33m,\u001b[0m\u001b[1;36m2\u001b[0m\u001b[1;33m)\u001b[0m           \u001b[1;31m# 튜플은 추가, 변경이 불가능\u001b[0m\u001b[1;33m\u001b[0m\u001b[1;33m\u001b[0m\u001b[0m\n\u001b[0m\u001b[0;32m      2\u001b[0m \u001b[0mprint\u001b[0m\u001b[1;33m(\u001b[0m\u001b[0mscore\u001b[0m\u001b[1;33m)\u001b[0m\u001b[1;33m\u001b[0m\u001b[1;33m\u001b[0m\u001b[0m\n",
      "\u001b[1;31mNameError\u001b[0m: name 'score' is not defined"
     ]
    }
   ],
   "source": [
    "score.extend(1,2)           # 튜플은 추가, 변경이 불가능\n",
    "print(score)"
   ]
  },
  {
   "cell_type": "code",
   "execution_count": 24,
   "metadata": {},
   "outputs": [
    {
     "name": "stdout",
     "output_type": "stream",
     "text": [
      "(88, 95, 70, 100, 99, 1, 2)\n"
     ]
    }
   ],
   "source": [
    "print(score + (1,2))"
   ]
  },
  {
   "cell_type": "markdown",
   "metadata": {},
   "source": []
  },
  {
   "cell_type": "code",
   "execution_count": 25,
   "metadata": {},
   "outputs": [
    {
     "name": "stdout",
     "output_type": "stream",
     "text": [
      "1 2 3\n"
     ]
    }
   ],
   "source": [
    "a =1\n",
    "b = 2\n",
    "c = 3\n",
    "print(a,b,c)"
   ]
  },
  {
   "cell_type": "code",
   "execution_count": 27,
   "metadata": {},
   "outputs": [
    {
     "name": "stdout",
     "output_type": "stream",
     "text": [
      "1 2 3\n"
     ]
    }
   ],
   "source": [
    "a,b,c = 1,2,3\n",
    "print(a,b,c)"
   ]
  },
  {
   "cell_type": "code",
   "execution_count": 32,
   "metadata": {},
   "outputs": [
    {
     "name": "stdout",
     "output_type": "stream",
     "text": [
      "이순신\n",
      "김유신\n",
      "강감찬\n"
     ]
    }
   ],
   "source": [
    "lee, kim, kang = '이순신','김유신','강감찬'\n",
    "print(lee)\n",
    "print(kim)\n",
    "print(kang)"
   ]
  },
  {
   "cell_type": "code",
   "execution_count": 33,
   "metadata": {},
   "outputs": [
    {
     "name": "stdout",
     "output_type": "stream",
     "text": [
      "('이순신', '김유신', '강감찬')\n",
      "이순신\n",
      "김유신\n",
      "강감찬\n"
     ]
    }
   ],
   "source": [
    "tu = '이순신','김유신','강감찬'\n",
    "print(tu)\n",
    "lee, kim, kang = tu\n",
    "print(lee)\n",
    "print(kim)\n",
    "print(kang)"
   ]
  },
  {
   "cell_type": "code",
   "execution_count": 34,
   "metadata": {},
   "outputs": [
    {
     "name": "stdout",
     "output_type": "stream",
     "text": [
      "이순신\n"
     ]
    }
   ],
   "source": [
    "lee = tu[0]\n",
    "print(lee)"
   ]
  },
  {
   "cell_type": "code",
   "execution_count": 35,
   "metadata": {},
   "outputs": [
    {
     "name": "stdout",
     "output_type": "stream",
     "text": [
      "김유신\n"
     ]
    }
   ],
   "source": [
    "kim = tu[1]\n",
    "print(kim)"
   ]
  },
  {
   "cell_type": "code",
   "execution_count": 36,
   "metadata": {},
   "outputs": [
    {
     "name": "stdout",
     "output_type": "stream",
     "text": [
      "강감찬\n"
     ]
    }
   ],
   "source": [
    "kang = tu[2]\n",
    "print(kang)"
   ]
  },
  {
   "cell_type": "code",
   "execution_count": 39,
   "metadata": {},
   "outputs": [
    {
     "name": "stdout",
     "output_type": "stream",
     "text": [
      "지금은 14시 21분입니다\n"
     ]
    }
   ],
   "source": [
    "import time\n",
    "\n",
    "def gettime():\n",
    "    now = time.localtime()\n",
    "    return now.tm_hour, now.tm_min\n",
    "\n",
    "result = gettime()\n",
    "print(\"지금은 %d시 %d분입니다\" %(result[0], result[1]))"
   ]
  },
  {
   "cell_type": "code",
   "execution_count": 40,
   "metadata": {},
   "outputs": [
    {
     "name": "stdout",
     "output_type": "stream",
     "text": [
      "12 34\n",
      "34 12\n"
     ]
    }
   ],
   "source": [
    "a,b = 12, 34\n",
    "print(a,b)\n",
    "a,b = b, a\n",
    "print(a,b)"
   ]
  },
  {
   "cell_type": "code",
   "execution_count": 58,
   "metadata": {},
   "outputs": [
    {
     "data": {
      "text/plain": [
       "(88, 98, 70, 100, 99)"
      ]
     },
     "execution_count": 58,
     "metadata": {},
     "output_type": "execute_result"
    }
   ],
   "source": [
    "score = [88, 98, 70, 100, 99]\n",
    "tuple(score)"
   ]
  },
  {
   "cell_type": "code",
   "execution_count": 59,
   "metadata": {},
   "outputs": [
    {
     "name": "stdout",
     "output_type": "stream",
     "text": [
      "[88, 98, 70, 100, 99]\n"
     ]
    }
   ],
   "source": [
    "score = [88, 98, 70, 100, 99]\n",
    "tuple(score)\n",
    "print(score)"
   ]
  },
  {
   "cell_type": "code",
   "execution_count": 60,
   "metadata": {},
   "outputs": [
    {
     "name": "stdout",
     "output_type": "stream",
     "text": [
      "(88, 98, 70, 100, 99)\n"
     ]
    }
   ],
   "source": [
    "score = [88, 98, 70, 100, 99]\n",
    "tu = tuple(score)\n",
    "print(tu)"
   ]
  },
  {
   "cell_type": "code",
   "execution_count": 48,
   "metadata": {},
   "outputs": [
    {
     "ename": "TypeError",
     "evalue": "'tuple' object does not support item assignment",
     "output_type": "error",
     "traceback": [
      "\u001b[1;31m---------------------------------------------------------------------------\u001b[0m",
      "\u001b[1;31mTypeError\u001b[0m                                 Traceback (most recent call last)",
      "\u001b[1;32m<ipython-input-48-4ab7461743c1>\u001b[0m in \u001b[0;36m<module>\u001b[1;34m\u001b[0m\n\u001b[1;32m----> 1\u001b[1;33m \u001b[0mtu\u001b[0m\u001b[1;33m[\u001b[0m\u001b[1;36m0\u001b[0m\u001b[1;33m]\u001b[0m \u001b[1;33m=\u001b[0m \u001b[1;36m100\u001b[0m\u001b[1;33m\u001b[0m\u001b[1;33m\u001b[0m\u001b[0m\n\u001b[0m",
      "\u001b[1;31mTypeError\u001b[0m: 'tuple' object does not support item assignment"
     ]
    }
   ],
   "source": [
    "tu[0] = 100"
   ]
  },
  {
   "cell_type": "code",
   "execution_count": 50,
   "metadata": {},
   "outputs": [
    {
     "name": "stdout",
     "output_type": "stream",
     "text": [
      "[88, 98, 70, 100, 99]\n"
     ]
    }
   ],
   "source": [
    "li = list(tu)\n",
    "print(li)"
   ]
  },
  {
   "cell_type": "code",
   "execution_count": 52,
   "metadata": {},
   "outputs": [
    {
     "name": "stdout",
     "output_type": "stream",
     "text": [
      "[100, 98, 70, 100, 99]\n"
     ]
    }
   ],
   "source": [
    "li[0] = 100\n",
    "print(li)"
   ]
  },
  {
   "cell_type": "markdown",
   "metadata": {},
   "source": [
    "# 10장.  사전_집합\n",
    "## 10-1. 사전"
   ]
  },
  {
   "cell_type": "code",
   "execution_count": 101,
   "metadata": {},
   "outputs": [
    {
     "name": "stdout",
     "output_type": "stream",
     "text": [
      "{'boy': '소년', 'school': '학교', 'book': '책'}\n"
     ]
    }
   ],
   "source": [
    "dic = {\"boy\":'소년', 'school':'학교', 'book':'책'}\n",
    "print(dic)"
   ]
  },
  {
   "cell_type": "code",
   "execution_count": 63,
   "metadata": {},
   "outputs": [
    {
     "name": "stdout",
     "output_type": "stream",
     "text": [
      "소년,책\n"
     ]
    }
   ],
   "source": [
    "print(dic['boy'], dic['book'], sep=',')"
   ]
  },
  {
   "cell_type": "code",
   "execution_count": 64,
   "metadata": {},
   "outputs": [
    {
     "ename": "KeyError",
     "evalue": "'소년'",
     "output_type": "error",
     "traceback": [
      "\u001b[1;31m---------------------------------------------------------------------------\u001b[0m",
      "\u001b[1;31mKeyError\u001b[0m                                  Traceback (most recent call last)",
      "\u001b[1;32m<ipython-input-64-fafd849e5be3>\u001b[0m in \u001b[0;36m<module>\u001b[1;34m\u001b[0m\n\u001b[1;32m----> 1\u001b[1;33m \u001b[0mprint\u001b[0m\u001b[1;33m(\u001b[0m\u001b[0mdic\u001b[0m\u001b[1;33m[\u001b[0m\u001b[1;34m'소년'\u001b[0m\u001b[1;33m]\u001b[0m\u001b[1;33m)\u001b[0m\u001b[1;33m\u001b[0m\u001b[1;33m\u001b[0m\u001b[0m\n\u001b[0m",
      "\u001b[1;31mKeyError\u001b[0m: '소년'"
     ]
    }
   ],
   "source": [
    "print(dic['소년'])"
   ]
  },
  {
   "cell_type": "code",
   "execution_count": 67,
   "metadata": {},
   "outputs": [
    {
     "name": "stdout",
     "output_type": "stream",
     "text": [
      "소년\n",
      "None\n",
      "사전에 없는 단어입니다\n"
     ]
    }
   ],
   "source": [
    "print(dic.get('boy'))\n",
    "print(dic.get('student'))                                     # 예외처리부분\n",
    "print(dic.get('student', '사전에 없는 단어입니다'))"
   ]
  },
  {
   "cell_type": "code",
   "execution_count": 68,
   "metadata": {},
   "outputs": [
    {
     "name": "stdout",
     "output_type": "stream",
     "text": [
      "책\n"
     ]
    }
   ],
   "source": [
    "print(dic.get('book','사전에서 찾았습니다'))"
   ]
  },
  {
   "cell_type": "code",
   "execution_count": 69,
   "metadata": {},
   "outputs": [
    {
     "name": "stdout",
     "output_type": "stream",
     "text": [
      "사전에 없는 단어입니다\n"
     ]
    }
   ],
   "source": [
    "dic = {\"boy\":'소년', 'school':'학교', 'book':'책'}\n",
    "if 'student' in dic:\n",
    "    print('사전에 있는 단어입니다')\n",
    "else:\n",
    "    print('사전에 없는 단어입니다')"
   ]
  },
  {
   "cell_type": "code",
   "execution_count": 73,
   "metadata": {},
   "outputs": [
    {
     "name": "stdout",
     "output_type": "stream",
     "text": [
      "{'boy': '남자애', 'school': '학교', 'book': '책', 'girl': '소녀'}\n"
     ]
    }
   ],
   "source": [
    "# 값(value) 변경\n",
    "dic['boy'] = '남자애'\n",
    "print(dic)"
   ]
  },
  {
   "cell_type": "code",
   "execution_count": 74,
   "metadata": {},
   "outputs": [
    {
     "name": "stdout",
     "output_type": "stream",
     "text": [
      "{'boy': '남자애', 'school': '학교', 'book': '책', 'girl': '소녀'}\n"
     ]
    }
   ],
   "source": [
    "# dic에 추가\n",
    "dic['girl'] ='소녀'\n",
    "print(dic)"
   ]
  },
  {
   "cell_type": "code",
   "execution_count": 75,
   "metadata": {
    "scrolled": true
   },
   "outputs": [
    {
     "name": "stdout",
     "output_type": "stream",
     "text": [
      "{'boy': '남자애', 'school': '학교', 'girl': '소녀'}\n"
     ]
    }
   ],
   "source": [
    "# dic 요소 삭제\n",
    "del dic['book']\n",
    "print(dic)"
   ]
  },
  {
   "cell_type": "code",
   "execution_count": 76,
   "metadata": {},
   "outputs": [
    {
     "name": "stdout",
     "output_type": "stream",
     "text": [
      "{'boy': '남자애', 'school': '학교', 'girl': '소녀', 1: []}\n"
     ]
    }
   ],
   "source": [
    "# dic 요소 리스트=[공백]으로 삭제 불가\n",
    "dic[1] = []\n",
    "print(dic)"
   ]
  },
  {
   "cell_type": "code",
   "execution_count": 80,
   "metadata": {},
   "outputs": [
    {
     "name": "stdout",
     "output_type": "stream",
     "text": [
      "dict_keys(['boy', 'school', 'girl', 1])\n",
      "dict_values(['남자애', '학교', '소녀', []])\n",
      "dict_items([('boy', '남자애'), ('school', '학교'), ('girl', '소녀'), (1, [])])\n"
     ]
    }
   ],
   "source": [
    "# keys/vlues 메서드\n",
    "print(dic.keys())\n",
    "print(dic.values())\n",
    "print(dic.items())"
   ]
  },
  {
   "cell_type": "code",
   "execution_count": 87,
   "metadata": {},
   "outputs": [],
   "source": [
    "# value로 key값을 가져올 함수나 메서드는 없다. 그런 모든 것을 함수로 직접 만들면 된다!!!!!!\n",
    "\n",
    "def get_key(val):\n",
    "    for key, value in dic.items():\n",
    "        if val == value:\n",
    "            return key\n",
    "    return \"There is no such key\""
   ]
  },
  {
   "cell_type": "code",
   "execution_count": 84,
   "metadata": {},
   "outputs": [
    {
     "data": {
      "text/plain": [
       "'boy'"
      ]
     },
     "execution_count": 84,
     "metadata": {},
     "output_type": "execute_result"
    }
   ],
   "source": [
    "get_key('남자애')"
   ]
  },
  {
   "cell_type": "code",
   "execution_count": 82,
   "metadata": {},
   "outputs": [
    {
     "name": "stdout",
     "output_type": "stream",
     "text": [
      "There is no such key\n"
     ]
    }
   ],
   "source": [
    "print(get_key('소년'))"
   ]
  },
  {
   "cell_type": "code",
   "execution_count": 97,
   "metadata": {},
   "outputs": [
    {
     "name": "stdout",
     "output_type": "stream",
     "text": [
      "dict_keys(['red', 'yellow', 'green'])\n",
      "red\n",
      "yellow\n",
      "green\n"
     ]
    }
   ],
   "source": [
    "diction = {\"red\":'빨강', 'yellow':'노랑', 'green':'그린'}\n",
    "keylist = dic.keys()\n",
    "print(keylist)\n",
    "for key in keylist :\n",
    "    print(key)"
   ]
  },
  {
   "cell_type": "code",
   "execution_count": 95,
   "metadata": {},
   "outputs": [
    {
     "name": "stdout",
     "output_type": "stream",
     "text": [
      "dict_keys(['red', 'yellow', 'green'])\n"
     ]
    }
   ],
   "source": [
    "print(dic.keys())"
   ]
  },
  {
   "cell_type": "code",
   "execution_count": 98,
   "metadata": {},
   "outputs": [
    {
     "name": "stdout",
     "output_type": "stream",
     "text": [
      "dict_values(['빨강', '노랑', '그린'])\n",
      "빨강\n",
      "노랑\n",
      "그린\n"
     ]
    }
   ],
   "source": [
    "vallist = dic.values()\n",
    "print(vallist)\n",
    "for val in vallist:\n",
    "    print(val)"
   ]
  },
  {
   "cell_type": "code",
   "execution_count": 102,
   "metadata": {},
   "outputs": [
    {
     "name": "stdout",
     "output_type": "stream",
     "text": [
      "{'red': '빨강', 'yellow': '노랑', 'green': '그린', 'boy': '소년', 'school': '학교', 'book': '책'}\n"
     ]
    }
   ],
   "source": [
    "# 딕셔너리 병합\n",
    "diction.update(dic)\n",
    "print(diction)"
   ]
  },
  {
   "cell_type": "code",
   "execution_count": 106,
   "metadata": {},
   "outputs": [
    {
     "name": "stdout",
     "output_type": "stream",
     "text": [
      "{'boy': '소년', 'school': '학교', 'book': '3', 'a': 1, 'b': 2}\n"
     ]
    }
   ],
   "source": [
    "# 같은 key가 있다면 오버라이팅\n",
    "dic2 ={'a':1, 'b':2, 'book':'#'}\n",
    "dic.update(dic2)\n",
    "print(dic)"
   ]
  },
  {
   "cell_type": "code",
   "execution_count": 17,
   "metadata": {},
   "outputs": [
    {
     "name": "stdout",
     "output_type": "stream",
     "text": [
      "{'b': 4, 'y': 5, 't': 9, 'h': 9, 'e': 22, 'r': 12, 'i': 10, 'v': 2, 's': 11, 'o': 10, 'f': 2, 'a': 12, 'l': 5, 'n': 13, 'w': 12, 'd': 6, 'p': 2, 'm': 3, 'z': 1, 'c': 3, 'k': 1, 'u': 3, 'q': 1, 'g': 4}\n"
     ]
    }
   ],
   "source": [
    "song = \"\"\"by the rivers of babylon, there we sat down\n",
    "yeah we wept, when we remember zion.\n",
    "when the wicked carried us away in captivity\n",
    "required from us a song\n",
    "now how shall we sing the lord's song in a sstrange land\"\"\"\n",
    "\n",
    "alphabet = dict()\n",
    "for c in song:\n",
    "    if c.isalpha() == False:\n",
    "        continue\n",
    "    c = c.lower()\n",
    "    if c not in alphabet:\n",
    "        alphabet[c] = 1\n",
    "    else :\n",
    "        alphabet[c] += 1\n",
    "        \n",
    "print(alphabet)"
   ]
  },
  {
   "cell_type": "code",
   "execution_count": 22,
   "metadata": {
    "collapsed": true
   },
   "outputs": [
    {
     "name": "stdout",
     "output_type": "stream",
     "text": [
      "a = 12 개\n",
      "b = 4 개\n",
      "c = 3 개\n",
      "d = 6 개\n",
      "e = 22 개\n",
      "f = 2 개\n",
      "g = 4 개\n",
      "h = 9 개\n",
      "i = 10 개\n",
      "k = 1 개\n",
      "l = 5 개\n",
      "m = 3 개\n",
      "n = 13 개\n",
      "o = 10 개\n",
      "p = 2 개\n",
      "q = 1 개\n",
      "r = 12 개\n",
      "s = 11 개\n",
      "t = 9 개\n",
      "u = 3 개\n",
      "v = 2 개\n",
      "w = 12 개\n",
      "y = 5 개\n",
      "z = 1 개\n"
     ]
    }
   ],
   "source": [
    "song = \"\"\"by the rivers of babylon, there we sat down\n",
    "yeah we wept, when we remember zion.\n",
    "when the wicked carried us away in captivity\n",
    "required from us a song\n",
    "now how shall we sing the lord's song in a sstrange land\"\"\"\n",
    "\n",
    "alphabet = dict()\n",
    "for c in song:\n",
    "    if c.isalpha() == False:\n",
    "        continue\n",
    "    c = c.lower()\n",
    "    if c not in alphabet:\n",
    "        alphabet[c] = 1\n",
    "    else :\n",
    "        alphabet[c] += 1\n",
    "        \n",
    "key = list(alphabet.keys())\n",
    "\n",
    "key.sort()\n",
    "for c in key:\n",
    "    num = alphabet[c]\n",
    "    print(c, '=', num, '개')"
   ]
  },
  {
   "cell_type": "code",
   "execution_count": 21,
   "metadata": {
    "collapsed": true
   },
   "outputs": [
    {
     "name": "stdout",
     "output_type": "stream",
     "text": [
      "a = 12 개\n",
      "b = 4 개\n",
      "c = 3 개\n",
      "d = 6 개\n",
      "e = 22 개\n",
      "f = 2 개\n",
      "g = 4 개\n",
      "h = 9 개\n",
      "i = 10 개\n",
      "j = 0 개\n",
      "k = 1 개\n",
      "l = 5 개\n",
      "m = 3 개\n",
      "n = 13 개\n",
      "o = 10 개\n",
      "p = 2 개\n",
      "q = 1 개\n",
      "r = 12 개\n",
      "s = 11 개\n",
      "t = 9 개\n",
      "u = 3 개\n",
      "v = 2 개\n",
      "w = 12 개\n",
      "x = 0 개\n",
      "y = 5 개\n",
      "z = 1 개\n"
     ]
    }
   ],
   "source": [
    "# song에 없는 알파벳까지 세는\n",
    "\n",
    "song = \"\"\"by the rivers of babylon, there we sat down\n",
    "yeah we wept, when we remember zion.\n",
    "when the wicked carried us away in captivity\n",
    "required from us a song\n",
    "now how shall we sing the lord's song in a sstrange land\"\"\"\n",
    "\n",
    "alphabet = dict()\n",
    "for c in song:\n",
    "    if c.isalpha() == False:\n",
    "        continue\n",
    "    c = c.lower()\n",
    "    if c not in alphabet:\n",
    "        alphabet[c] = 1\n",
    "    else :\n",
    "        alphabet[c] += 1\n",
    "        \n",
    "for code in range(ord('a'), ord('z')+1):\n",
    "    c = chr(code)\n",
    "    num = alphabet.get(c,0)\n",
    "    print(c, '=', num, '개')"
   ]
  },
  {
   "cell_type": "markdown",
   "metadata": {},
   "source": [
    "## 10-2. 집합"
   ]
  },
  {
   "cell_type": "code",
   "execution_count": 9,
   "metadata": {},
   "outputs": [
    {
     "name": "stdout",
     "output_type": "stream",
     "text": [
      "{'japan', 'taiwan', 'korea', 'china'}\n"
     ]
    }
   ],
   "source": [
    "asia = {'korea','china','japan','taiwan'}\n",
    "print(asia)"
   ]
  },
  {
   "cell_type": "code",
   "execution_count": 10,
   "metadata": {},
   "outputs": [
    {
     "data": {
      "text/plain": [
       "set"
      ]
     },
     "execution_count": 10,
     "metadata": {},
     "output_type": "execute_result"
    }
   ],
   "source": [
    "type(asia)"
   ]
  },
  {
   "cell_type": "code",
   "execution_count": 12,
   "metadata": {},
   "outputs": [
    {
     "name": "stdout",
     "output_type": "stream",
     "text": [
      "{'h', 'y', 'n', 'a', 'g', 's', 'u'}\n",
      "{56, 34, 12, 78}\n",
      "{'김태륜', '한주완', '신지희'}\n"
     ]
    }
   ],
   "source": [
    "# 빈 집합 만들거나 다른 컬렉션을 집합형으로 변환\n",
    "# 순서와 상관없이 집합을 만드는 (순서가 중요X, 데이터가 있느냐 없느냐가 중요!!)\n",
    "\n",
    "print(set('sanghyung'))\n",
    "print(set([12, 34, 56, 78]))\n",
    "print(set((\"신지희\",\"한주완\",\"김태륜\")))  #괄호 두개 사용"
   ]
  },
  {
   "cell_type": "code",
   "execution_count": 5,
   "metadata": {},
   "outputs": [
    {
     "name": "stdout",
     "output_type": "stream",
     "text": [
      "set()\n"
     ]
    }
   ],
   "source": [
    "# 인수없이 set() 함수 호출 - 공집합 만들기 \n",
    "print(set())"
   ]
  },
  {
   "cell_type": "code",
   "execution_count": 24,
   "metadata": {},
   "outputs": [
    {
     "name": "stdout",
     "output_type": "stream",
     "text": [
      "교집합 {12, 6}\n",
      "합집합 {2, 3, 4, 6, 8, 9, 10, 12, 15}\n",
      "차집합 {8, 2, 10, 4}\n",
      "차집합 {9, 3, 15}\n",
      "배타적 차집합 {2, 3, 4, 8, 9, 10, 15}\n"
     ]
    }
   ],
   "source": [
    "twox = {2, 4, 6,  8, 10, 12}\n",
    "threex = {3, 6, 9, 12, 15}\n",
    "\n",
    "print(\"교집합\", twox&threex)\n",
    "print('합집합', twox | threex)\n",
    "print('차집합', twox - threex)\n",
    "print('차집합', threex-twox)\n",
    "print('배타적 차집합', twox^threex)"
   ]
  },
  {
   "cell_type": "markdown",
   "metadata": {},
   "source": [
    "# 11. 컬렉션 관리 \n",
    "(대용량 데이터를 다룰 때 용이)"
   ]
  },
  {
   "cell_type": "markdown",
   "metadata": {},
   "source": [
    "## 11-1. 컬렉션 관리 함수"
   ]
  },
  {
   "cell_type": "code",
   "execution_count": 26,
   "metadata": {},
   "outputs": [
    {
     "name": "stdout",
     "output_type": "stream",
     "text": [
      "성적 : 88\n",
      "성적 : 95\n",
      "성적 : 70\n",
      "성적 : 100\n",
      "성적 : 99\n"
     ]
    }
   ],
   "source": [
    "score = [88, 95, 70, 100, 99]\n",
    "for i in score:\n",
    "    print(\"성적 :\",i)"
   ]
  },
  {
   "cell_type": "code",
   "execution_count": 31,
   "metadata": {},
   "outputs": [
    {
     "name": "stdout",
     "output_type": "stream",
     "text": [
      "88번 학생의 성적 : 88\n",
      "95번 학생의 성적 : 95\n",
      "70번 학생의 성적 : 70\n",
      "100번 학생의 성적 : 100\n",
      "99번 학생의 성적 : 99\n"
     ]
    }
   ],
   "source": [
    "for no in score:\n",
    "    print(str(no)+ \"번 학생의 성적 :\", no)\n",
    "    no +=1"
   ]
  },
  {
   "cell_type": "code",
   "execution_count": 36,
   "metadata": {},
   "outputs": [
    {
     "name": "stdout",
     "output_type": "stream",
     "text": [
      "True\n",
      "False\n"
     ]
    }
   ],
   "source": [
    "# any / all\n",
    "\n",
    "adult=[True, False, True, False]   #True= 조건에 맞는다는 것, False=조건에 안맞는다는 것\n",
    "print(any(adult))      # 하나만 있어도\n",
    "print(all(adult))       # 전부 다여야"
   ]
  },
  {
   "cell_type": "markdown",
   "metadata": {},
   "source": [
    "## 11-2 람다함수"
   ]
  },
  {
   "cell_type": "code",
   "execution_count": 41,
   "metadata": {},
   "outputs": [
    {
     "name": "stdout",
     "output_type": "stream",
     "text": [
      "[45, 89, 72, 53, 94]\n",
      "22.5,44.5,36.0,26.5,47.0,\n",
      "[45, 89, 72, 53, 94]\n"
     ]
    }
   ],
   "source": [
    "# map 함수\n",
    "\n",
    "def half(s):\n",
    "    return s/ 2\n",
    "score = [45, 89, 72, 53, 94]\n",
    "print(score)\n",
    "for s in map(half, score):\n",
    "    print(s, end=',')\n",
    "    \n",
    "  # 원본 데이터를 건들지 않고 새로운 리스트 생성"
   ]
  },
  {
   "cell_type": "code",
   "execution_count": 44,
   "metadata": {},
   "outputs": [
    {
     "name": "stdout",
     "output_type": "stream",
     "text": [
      "[45, 89, 72, 53, 94]\n",
      "22.5,44.5,36.0,26.5,47.0,"
     ]
    }
   ],
   "source": [
    "score = [45, 89, 72, 53, 94]\n",
    "print(score)\n",
    "for s in map(lambda x : x/2, score):\n",
    "    print(s, end=',')"
   ]
  },
  {
   "cell_type": "code",
   "execution_count": 42,
   "metadata": {},
   "outputs": [
    {
     "name": "stdout",
     "output_type": "stream",
     "text": [
      "47,92,72,53,99,"
     ]
    }
   ],
   "source": [
    "def total(s,b):\n",
    "    return s + b\n",
    "\n",
    "score = [45,89,72,53,94]\n",
    "bonus = [2,3,0,0,5]\n",
    "for s in map(total, score, bonus):\n",
    "    print(s, end=',')"
   ]
  },
  {
   "cell_type": "code",
   "execution_count": 49,
   "metadata": {},
   "outputs": [
    {
     "name": "stdout",
     "output_type": "stream",
     "text": [
      "a=3, b=3\n",
      "a=5, b=3\n"
     ]
    }
   ],
   "source": [
    "# 리스트의 사본\n",
    "\n",
    "a = 3\n",
    "b =a\n",
    "print(\"a=%d, b=%d\" %(a,b))\n",
    "\n",
    "a=5\n",
    "print(\"a=%d, b=%d\" %(a,b))"
   ]
  },
  {
   "cell_type": "code",
   "execution_count": 46,
   "metadata": {},
   "outputs": [
    {
     "name": "stdout",
     "output_type": "stream",
     "text": [
      "[1, 2, 3]\n",
      "[1, 2, 3]\n",
      "[1, 100, 3]\n",
      "[1, 100, 3]\n"
     ]
    }
   ],
   "source": [
    "list1 = [1,2,3]\n",
    "list2 = list1\n",
    "print(list1)\n",
    "print(list2)\n",
    "\n",
    "list2[1] = 100\n",
    "print(list1)\n",
    "print(list2)"
   ]
  },
  {
   "cell_type": "code",
   "execution_count": 47,
   "metadata": {},
   "outputs": [
    {
     "name": "stdout",
     "output_type": "stream",
     "text": [
      "[1, 2, 3]\n",
      "[1, 100, 3]\n"
     ]
    }
   ],
   "source": [
    "list1 = [1,2,3]\n",
    "list2 = list1.copy()\n",
    "\n",
    "list2[1] =100\n",
    "print(list1)\n",
    "print(list2)"
   ]
  },
  {
   "cell_type": "code",
   "execution_count": 50,
   "metadata": {},
   "outputs": [
    {
     "name": "stdout",
     "output_type": "stream",
     "text": [
      "['a', 'b']\n",
      "[['a', 'b'], 1, 2]\n",
      "[['a', 'b'], 1, 2]\n"
     ]
    }
   ],
   "source": [
    "list0=['a','b']\n",
    "list1=[list0,1,2]\n",
    "list2 = list1.copy()\n",
    "print(list0)\n",
    "print(list1)\n",
    "print(list2)"
   ]
  },
  {
   "cell_type": "code",
   "execution_count": 52,
   "metadata": {},
   "outputs": [
    {
     "name": "stdout",
     "output_type": "stream",
     "text": [
      "[['a', 'c'], 1, 2]\n",
      "[['a', 'c'], 1, 2]\n",
      "['a', 'c']\n"
     ]
    }
   ],
   "source": [
    "list2[0][1]='c'\n",
    "print(list1)\n",
    "print(list2)\n",
    "print(list0)"
   ]
  },
  {
   "cell_type": "code",
   "execution_count": 53,
   "metadata": {},
   "outputs": [
    {
     "name": "stdout",
     "output_type": "stream",
     "text": [
      "[['a', 'c'], 1, 2]\n",
      "[['a', 'c'], 1, 100]\n"
     ]
    }
   ],
   "source": [
    "list2[2] = 100\n",
    "print(list1)\n",
    "print(list2)"
   ]
  },
  {
   "cell_type": "code",
   "execution_count": 56,
   "metadata": {},
   "outputs": [
    {
     "name": "stdout",
     "output_type": "stream",
     "text": [
      "['a', 'b']\n",
      "[['a', 'b'], 1, 2]\n",
      "[['a', 777], 1, 2]\n"
     ]
    }
   ],
   "source": [
    "import copy\n",
    "\n",
    "list0=['a','b']\n",
    "list1=[list0,1,2]\n",
    "list2 = copy.deepcopy(list1)\n",
    "\n",
    "list2[0][1]= 777\n",
    "print(list0)\n",
    "print(list1)\n",
    "print(list2)"
   ]
  },
  {
   "cell_type": "code",
   "execution_count": 58,
   "metadata": {},
   "outputs": [
    {
     "name": "stdout",
     "output_type": "stream",
     "text": [
      "a= 1 b= 1 : True\n",
      "a= 1 b= 2 : False\n"
     ]
    }
   ],
   "source": [
    "a=1\n",
    "b=a\n",
    "print('a=',a,'b=',b,':', a is b)\n",
    "b=2\n",
    "print('a=',a,'b=',b, ':', a is b)"
   ]
  }
 ],
 "metadata": {
  "kernelspec": {
   "display_name": "Python 3",
   "language": "python",
   "name": "python3"
  },
  "language_info": {
   "codemirror_mode": {
    "name": "ipython",
    "version": 3
   },
   "file_extension": ".py",
   "mimetype": "text/x-python",
   "name": "python",
   "nbconvert_exporter": "python",
   "pygments_lexer": "ipython3",
   "version": "3.8.5"
  }
 },
 "nbformat": 4,
 "nbformat_minor": 4
}
