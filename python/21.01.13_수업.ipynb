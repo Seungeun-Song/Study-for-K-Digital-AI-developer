{
 "cells": [
  {
   "cell_type": "markdown",
   "metadata": {},
   "source": [
    "## 14-2. 파일 관리"
   ]
  },
  {
   "cell_type": "markdown",
   "metadata": {},
   "source": [
    "### 파일 관리 함수"
   ]
  },
  {
   "cell_type": "code",
   "execution_count": null,
   "metadata": {},
   "outputs": [],
   "source": [
    "### copy라는 함수를 만들어보자\n",
    "\n",
    "def mycopy(file1, file2):\n",
    "    -파일(live.txt)을 연다(read용)\n",
    "    -파일(live2.txt)을 연다(write용)\n",
    "    -live.txt를 읽어오기(메모리)\n",
    "    -새파일(live2.txt)을 준비하기(메모리)\n",
    "    -한 단어씩 read -> write 반복.\n",
    "    -조건을 써서 EOF(보이지는 않지만) 나올 때까지 반복 진행.\n",
    "    -파일닫기(live.txt, live2.txt) f.close() "
   ]
  },
  {
   "cell_type": "code",
   "execution_count": null,
   "metadata": {},
   "outputs": [],
   "source": [
    "## move라는 함수를 만들어보자\n",
    "\n",
    "def mymove():\n",
    "    -live.txt을 연다\n",
    "    -똑같은 파일로 복사한다\n",
    "    -원하는 위치에 새로 생성한다\n",
    "    -기존 위치에 있던 파일은 삭제한다"
   ]
  },
  {
   "cell_type": "code",
   "execution_count": 12,
   "metadata": {},
   "outputs": [
    {
     "data": {
      "text/plain": [
       "'live2.txt'"
      ]
     },
     "execution_count": 12,
     "metadata": {},
     "output_type": "execute_result"
    }
   ],
   "source": [
    "import shutil\n",
    "\n",
    "shutil.copy(\"live.txt\",\"live2.txt\")"
   ]
  },
  {
   "cell_type": "code",
   "execution_count": 15,
   "metadata": {
    "scrolled": true
   },
   "outputs": [
    {
     "name": "stdout",
     "output_type": "stream",
     "text": [
      ".bash_history\n",
      ".conda\n",
      ".condarc\n",
      ".gitconfig\n",
      ".ipynb_checkpoints\n",
      ".ipython\n",
      ".jupyter\n",
      ".python_history\n",
      ".vscode\n",
      "21.01.06(함수).ipynb\n",
      "3D Objects\n",
      "AppData\n",
      "Application Data\n",
      "basic\n",
      "branch\n",
      "campus\n",
      "Contacts\n",
      "Cookies\n",
      "debug.log\n",
      "Desktop\n",
      "Documents\n",
      "Downloads\n",
      "Favorites\n",
      "feedback\n",
      "Intel\n",
      "IntelGraphicsProfiles\n",
      "Links\n",
      "Local Settings\n",
      "MicrosoftEdgeBackups\n",
      "Music\n",
      "My Documents\n",
      "NetHood\n",
      "NTUSER.DAT\n",
      "ntuser.dat.LOG1\n",
      "ntuser.dat.LOG2\n",
      "NTUSER.DAT{53b39e88-18c4-11ea-a811-000d3aa4692b}.TM.blf\n",
      "NTUSER.DAT{53b39e88-18c4-11ea-a811-000d3aa4692b}.TMContainer00000000000000000001.regtrans-ms\n",
      "NTUSER.DAT{53b39e88-18c4-11ea-a811-000d3aa4692b}.TMContainer00000000000000000002.regtrans-ms\n",
      "ntuser.ini\n",
      "OneDrive\n",
      "Pictures\n",
      "practice(21.01.04).ipynb\n",
      "practice(21.01.05).ipynb\n",
      "PrintHood\n",
      "Recent\n",
      "Saved Games\n",
      "Searches\n",
      "SendTo\n",
      "Templates\n",
      "test.ipynb\n",
      "TIL\n",
      "Untitled1.ipynb\n",
      "Videos\n",
      "wordchain\n",
      "송승은\n",
      "시작 메뉴\n"
     ]
    }
   ],
   "source": [
    "import os\n",
    "\n",
    "files = os.listdir(\"c:\\\\Users\\\\Hyuna\")\n",
    "for f in files:\n",
    "    print(f)"
   ]
  },
  {
   "cell_type": "code",
   "execution_count": 16,
   "metadata": {},
   "outputs": [
    {
     "name": "stdout",
     "output_type": "stream",
     "text": [
      "['.bash_history', '.conda', '.condarc', '.gitconfig', '.ipynb_checkpoints', '.ipython', '.jupyter', '.python_history', '.vscode', '21.01.06(함수).ipynb', '3D Objects', 'AppData', 'Application Data', 'basic', 'branch', 'campus', 'Contacts', 'Cookies', 'debug.log', 'Desktop', 'Documents', 'Downloads', 'Favorites', 'feedback', 'Intel', 'IntelGraphicsProfiles', 'Links', 'Local Settings', 'MicrosoftEdgeBackups', 'Music', 'My Documents', 'NetHood', 'NTUSER.DAT', 'ntuser.dat.LOG1', 'ntuser.dat.LOG2', 'NTUSER.DAT{53b39e88-18c4-11ea-a811-000d3aa4692b}.TM.blf', 'NTUSER.DAT{53b39e88-18c4-11ea-a811-000d3aa4692b}.TMContainer00000000000000000001.regtrans-ms', 'NTUSER.DAT{53b39e88-18c4-11ea-a811-000d3aa4692b}.TMContainer00000000000000000002.regtrans-ms', 'ntuser.ini', 'OneDrive', 'Pictures', 'practice(21.01.04).ipynb', 'practice(21.01.05).ipynb', 'PrintHood', 'Recent', 'Saved Games', 'Searches', 'SendTo', 'Templates', 'test.ipynb', 'TIL', 'Untitled1.ipynb', 'Videos', 'wordchain', '송승은', '시작 메뉴']\n"
     ]
    }
   ],
   "source": [
    "print(files)"
   ]
  },
  {
   "cell_type": "code",
   "execution_count": 30,
   "metadata": {
    "scrolled": true
   },
   "outputs": [],
   "source": [
    "# 특정 디렉토리 안의 모든 파일에 대해 정보를 조사하거나 조작할 때.\n",
    "# 디렉토리 안에 또 다른 서브 디렉토리가 있을 때는 재귀 호출을 사용하여 전체 파일 목록을 순회\n",
    "\n",
    "import os\n",
    "\n",
    "def dumpdir(path):\n",
    "    files = os.listdir(path)\n",
    "    for f in files:\n",
    "        fullpath = path + \"\\\\\" + f\n",
    "        if os.path.isdir(fullpath):\n",
    "            print(\"[\"+fullpath+\"]\")\n",
    "            dumpdir(fullpath)\n",
    "        else:\n",
    "            print(\"\\t\"+fullpath)    # \\t = 역슬래시 tab "
   ]
  },
  {
   "cell_type": "code",
   "execution_count": 31,
   "metadata": {},
   "outputs": [
    {
     "name": "stdout",
     "output_type": "stream",
     "text": [
      "\tc:\\Users\\Hyuna\\.bash_history\n",
      "[c:\\Users\\Hyuna\\.conda]\n",
      "[c:\\Users\\Hyuna\\.conda\\pkgs]\n",
      "[c:\\Users\\Hyuna\\.conda\\pkgs\\cache]\n",
      "\tc:\\Users\\Hyuna\\.conda\\pkgs\\cache\\3e39a7aa.json\n",
      "\tc:\\Users\\Hyuna\\.conda\\pkgs\\cache\\3e39a7aa.q\n",
      "\tc:\\Users\\Hyuna\\.conda\\pkgs\\cache\\4ea078d6.json\n",
      "\tc:\\Users\\Hyuna\\.conda\\pkgs\\cache\\4ea078d6.q\n",
      "\tc:\\Users\\Hyuna\\.conda\\pkgs\\cache\\59ba4880.json\n",
      "\tc:\\Users\\Hyuna\\.conda\\pkgs\\cache\\59ba4880.q\n",
      "\tc:\\Users\\Hyuna\\.conda\\pkgs\\cache\\5ca77eed.json\n",
      "\tc:\\Users\\Hyuna\\.conda\\pkgs\\cache\\5ca77eed.q\n",
      "\tc:\\Users\\Hyuna\\.conda\\pkgs\\cache\\920c960f.json\n",
      "\tc:\\Users\\Hyuna\\.conda\\pkgs\\cache\\920c960f.q\n",
      "\tc:\\Users\\Hyuna\\.conda\\pkgs\\cache\\c4a505b4.json\n",
      "\tc:\\Users\\Hyuna\\.conda\\pkgs\\cache\\c4a505b4.q\n",
      "\tc:\\Users\\Hyuna\\.conda\\pkgs\\urls\n",
      "\tc:\\Users\\Hyuna\\.conda\\pkgs\\urls.txt\n",
      "\tc:\\Users\\Hyuna\\.condarc\n",
      "\tc:\\Users\\Hyuna\\.gitconfig\n",
      "[c:\\Users\\Hyuna\\.ipynb_checkpoints]\n",
      "\tc:\\Users\\Hyuna\\.ipynb_checkpoints\\21.01.06(함수)-checkpoint.ipynb\n",
      "\tc:\\Users\\Hyuna\\.ipynb_checkpoints\\21.01.11-checkpoint.ipynb\n",
      "\tc:\\Users\\Hyuna\\.ipynb_checkpoints\\21.01.12_수업-checkpoint.ipynb\n",
      "\tc:\\Users\\Hyuna\\.ipynb_checkpoints\\practice(21.01.04)-checkpoint.ipynb\n",
      "\tc:\\Users\\Hyuna\\.ipynb_checkpoints\\practice(21.01.05)-checkpoint.ipynb\n",
      "\tc:\\Users\\Hyuna\\.ipynb_checkpoints\\test-checkpoint.ipynb\n",
      "\tc:\\Users\\Hyuna\\.ipynb_checkpoints\\Untitled1-checkpoint.ipynb\n",
      "[c:\\Users\\Hyuna\\.ipython]\n",
      "[c:\\Users\\Hyuna\\.ipython\\extensions]\n",
      "[c:\\Users\\Hyuna\\.ipython\\nbextensions]\n",
      "[c:\\Users\\Hyuna\\.ipython\\profile_default]\n",
      "[c:\\Users\\Hyuna\\.ipython\\profile_default\\db]\n",
      "\tc:\\Users\\Hyuna\\.ipython\\profile_default\\history.sqlite\n",
      "\tc:\\Users\\Hyuna\\.ipython\\profile_default\\history.sqlite-journal\n",
      "[c:\\Users\\Hyuna\\.ipython\\profile_default\\log]\n",
      "[c:\\Users\\Hyuna\\.ipython\\profile_default\\pid]\n",
      "[c:\\Users\\Hyuna\\.ipython\\profile_default\\security]\n",
      "[c:\\Users\\Hyuna\\.ipython\\profile_default\\startup]\n",
      "\tc:\\Users\\Hyuna\\.ipython\\profile_default\\startup\\README\n",
      "[c:\\Users\\Hyuna\\.jupyter]\n",
      "\tc:\\Users\\Hyuna\\.jupyter\\migrated\n",
      "\tc:\\Users\\Hyuna\\.python_history\n",
      "[c:\\Users\\Hyuna\\.vscode]\n",
      "\tc:\\Users\\Hyuna\\.vscode\\argv.json\n",
      "[c:\\Users\\Hyuna\\.vscode\\extensions]\n",
      "\tc:\\Users\\Hyuna\\21.01.06(함수).ipynb\n",
      "[c:\\Users\\Hyuna\\3D Objects]\n",
      "\tc:\\Users\\Hyuna\\3D Objects\\desktop.ini\n",
      "[c:\\Users\\Hyuna\\AppData]\n",
      "[c:\\Users\\Hyuna\\AppData\\Local]\n",
      "[c:\\Users\\Hyuna\\AppData\\Local\\Adobe]\n",
      "[c:\\Users\\Hyuna\\AppData\\Local\\Adobe\\Acrobat]\n",
      "[c:\\Users\\Hyuna\\AppData\\Local\\Adobe\\Acrobat\\DC]\n",
      "\tc:\\Users\\Hyuna\\AppData\\Local\\Adobe\\Acrobat\\DC\\AdobeCMapFnt19.lst\n",
      "\tc:\\Users\\Hyuna\\AppData\\Local\\Adobe\\Acrobat\\DC\\AdobeCMapFnt20.lst\n",
      "\tc:\\Users\\Hyuna\\AppData\\Local\\Adobe\\Acrobat\\DC\\AdobeSysFnt19.lst\n",
      "\tc:\\Users\\Hyuna\\AppData\\Local\\Adobe\\Acrobat\\DC\\AdobeSysFnt20.lst\n",
      "[c:\\Users\\Hyuna\\AppData\\Local\\Adobe\\Acrobat\\DC\\Cache]\n",
      "\tc:\\Users\\Hyuna\\AppData\\Local\\Adobe\\Acrobat\\DC\\Cache\\AcroFnt19.lst\n",
      "\tc:\\Users\\Hyuna\\AppData\\Local\\Adobe\\Acrobat\\DC\\Cache\\AcroFnt20.lst\n",
      "\tc:\\Users\\Hyuna\\AppData\\Local\\Adobe\\Acrobat\\DC\\IconCacheRdr81920.dat\n",
      "\tc:\\Users\\Hyuna\\AppData\\Local\\Adobe\\Acrobat\\DC\\SharedDataEvents\n",
      "[c:\\Users\\Hyuna\\AppData\\Local\\Adobe\\Acrobat\\DC\\ToolsSearchCacheRdr]\n",
      "\tc:\\Users\\Hyuna\\AppData\\Local\\Adobe\\Acrobat\\DC\\UserCache.bin\n",
      "[c:\\Users\\Hyuna\\AppData\\Local\\Adobe\\ARM]\n",
      "[c:\\Users\\Hyuna\\AppData\\Local\\Adobe\\ARM\\Reader_19.010.20098]\n",
      "[c:\\Users\\Hyuna\\AppData\\Local\\Adobe\\ARM\\S]\n",
      "[c:\\Users\\Hyuna\\AppData\\Local\\Adobe\\ARM\\{291AA914-A987-4CE9-BD63-AC0A92D435E5}]\n",
      "[c:\\Users\\Hyuna\\AppData\\Local\\Adobe\\Color]\n",
      "\tc:\\Users\\Hyuna\\AppData\\Local\\Adobe\\Color\\ACECache11.lst\n",
      "[c:\\Users\\Hyuna\\AppData\\Local\\Adobe\\Color\\Profiles]\n",
      "\tc:\\Users\\Hyuna\\AppData\\Local\\Adobe\\Color\\Profiles\\wscRGB.icc\n",
      "\tc:\\Users\\Hyuna\\AppData\\Local\\Adobe\\Color\\Profiles\\wsRGB.icc\n",
      "[c:\\Users\\Hyuna\\AppData\\Local\\Application Data]\n"
     ]
    },
    {
     "ename": "PermissionError",
     "evalue": "[WinError 5] 액세스가 거부되었습니다: 'c:\\\\Users\\\\Hyuna\\\\AppData\\\\Local\\\\Application Data'",
     "output_type": "error",
     "traceback": [
      "\u001b[1;31m---------------------------------------------------------------------------\u001b[0m",
      "\u001b[1;31mPermissionError\u001b[0m                           Traceback (most recent call last)",
      "\u001b[1;32m<ipython-input-31-87c8a71a3e35>\u001b[0m in \u001b[0;36m<module>\u001b[1;34m\u001b[0m\n\u001b[1;32m----> 1\u001b[1;33m \u001b[0mdumpdir\u001b[0m\u001b[1;33m(\u001b[0m\u001b[1;34m\"c:\\\\Users\\\\Hyuna\"\u001b[0m\u001b[1;33m)\u001b[0m\u001b[1;33m\u001b[0m\u001b[1;33m\u001b[0m\u001b[0m\n\u001b[0m",
      "\u001b[1;32m<ipython-input-30-50fc3ecfc43c>\u001b[0m in \u001b[0;36mdumpdir\u001b[1;34m(path)\u001b[0m\n\u001b[0;32m     10\u001b[0m         \u001b[1;32mif\u001b[0m \u001b[0mos\u001b[0m\u001b[1;33m.\u001b[0m\u001b[0mpath\u001b[0m\u001b[1;33m.\u001b[0m\u001b[0misdir\u001b[0m\u001b[1;33m(\u001b[0m\u001b[0mfullpath\u001b[0m\u001b[1;33m)\u001b[0m\u001b[1;33m:\u001b[0m\u001b[1;33m\u001b[0m\u001b[1;33m\u001b[0m\u001b[0m\n\u001b[0;32m     11\u001b[0m             \u001b[0mprint\u001b[0m\u001b[1;33m(\u001b[0m\u001b[1;34m\"[\"\u001b[0m\u001b[1;33m+\u001b[0m\u001b[0mfullpath\u001b[0m\u001b[1;33m+\u001b[0m\u001b[1;34m\"]\"\u001b[0m\u001b[1;33m)\u001b[0m\u001b[1;33m\u001b[0m\u001b[1;33m\u001b[0m\u001b[0m\n\u001b[1;32m---> 12\u001b[1;33m             \u001b[0mdumpdir\u001b[0m\u001b[1;33m(\u001b[0m\u001b[0mfullpath\u001b[0m\u001b[1;33m)\u001b[0m\u001b[1;33m\u001b[0m\u001b[1;33m\u001b[0m\u001b[0m\n\u001b[0m\u001b[0;32m     13\u001b[0m         \u001b[1;32melse\u001b[0m\u001b[1;33m:\u001b[0m\u001b[1;33m\u001b[0m\u001b[1;33m\u001b[0m\u001b[0m\n\u001b[0;32m     14\u001b[0m             \u001b[0mprint\u001b[0m\u001b[1;33m(\u001b[0m\u001b[1;34m\"\\t\"\u001b[0m\u001b[1;33m+\u001b[0m\u001b[0mfullpath\u001b[0m\u001b[1;33m)\u001b[0m    \u001b[1;31m# \\t = 역슬래시 tab\u001b[0m\u001b[1;33m\u001b[0m\u001b[1;33m\u001b[0m\u001b[0m\n",
      "\u001b[1;32m<ipython-input-30-50fc3ecfc43c>\u001b[0m in \u001b[0;36mdumpdir\u001b[1;34m(path)\u001b[0m\n\u001b[0;32m     10\u001b[0m         \u001b[1;32mif\u001b[0m \u001b[0mos\u001b[0m\u001b[1;33m.\u001b[0m\u001b[0mpath\u001b[0m\u001b[1;33m.\u001b[0m\u001b[0misdir\u001b[0m\u001b[1;33m(\u001b[0m\u001b[0mfullpath\u001b[0m\u001b[1;33m)\u001b[0m\u001b[1;33m:\u001b[0m\u001b[1;33m\u001b[0m\u001b[1;33m\u001b[0m\u001b[0m\n\u001b[0;32m     11\u001b[0m             \u001b[0mprint\u001b[0m\u001b[1;33m(\u001b[0m\u001b[1;34m\"[\"\u001b[0m\u001b[1;33m+\u001b[0m\u001b[0mfullpath\u001b[0m\u001b[1;33m+\u001b[0m\u001b[1;34m\"]\"\u001b[0m\u001b[1;33m)\u001b[0m\u001b[1;33m\u001b[0m\u001b[1;33m\u001b[0m\u001b[0m\n\u001b[1;32m---> 12\u001b[1;33m             \u001b[0mdumpdir\u001b[0m\u001b[1;33m(\u001b[0m\u001b[0mfullpath\u001b[0m\u001b[1;33m)\u001b[0m\u001b[1;33m\u001b[0m\u001b[1;33m\u001b[0m\u001b[0m\n\u001b[0m\u001b[0;32m     13\u001b[0m         \u001b[1;32melse\u001b[0m\u001b[1;33m:\u001b[0m\u001b[1;33m\u001b[0m\u001b[1;33m\u001b[0m\u001b[0m\n\u001b[0;32m     14\u001b[0m             \u001b[0mprint\u001b[0m\u001b[1;33m(\u001b[0m\u001b[1;34m\"\\t\"\u001b[0m\u001b[1;33m+\u001b[0m\u001b[0mfullpath\u001b[0m\u001b[1;33m)\u001b[0m    \u001b[1;31m# \\t = 역슬래시 tab\u001b[0m\u001b[1;33m\u001b[0m\u001b[1;33m\u001b[0m\u001b[0m\n",
      "\u001b[1;32m<ipython-input-30-50fc3ecfc43c>\u001b[0m in \u001b[0;36mdumpdir\u001b[1;34m(path)\u001b[0m\n\u001b[0;32m     10\u001b[0m         \u001b[1;32mif\u001b[0m \u001b[0mos\u001b[0m\u001b[1;33m.\u001b[0m\u001b[0mpath\u001b[0m\u001b[1;33m.\u001b[0m\u001b[0misdir\u001b[0m\u001b[1;33m(\u001b[0m\u001b[0mfullpath\u001b[0m\u001b[1;33m)\u001b[0m\u001b[1;33m:\u001b[0m\u001b[1;33m\u001b[0m\u001b[1;33m\u001b[0m\u001b[0m\n\u001b[0;32m     11\u001b[0m             \u001b[0mprint\u001b[0m\u001b[1;33m(\u001b[0m\u001b[1;34m\"[\"\u001b[0m\u001b[1;33m+\u001b[0m\u001b[0mfullpath\u001b[0m\u001b[1;33m+\u001b[0m\u001b[1;34m\"]\"\u001b[0m\u001b[1;33m)\u001b[0m\u001b[1;33m\u001b[0m\u001b[1;33m\u001b[0m\u001b[0m\n\u001b[1;32m---> 12\u001b[1;33m             \u001b[0mdumpdir\u001b[0m\u001b[1;33m(\u001b[0m\u001b[0mfullpath\u001b[0m\u001b[1;33m)\u001b[0m\u001b[1;33m\u001b[0m\u001b[1;33m\u001b[0m\u001b[0m\n\u001b[0m\u001b[0;32m     13\u001b[0m         \u001b[1;32melse\u001b[0m\u001b[1;33m:\u001b[0m\u001b[1;33m\u001b[0m\u001b[1;33m\u001b[0m\u001b[0m\n\u001b[0;32m     14\u001b[0m             \u001b[0mprint\u001b[0m\u001b[1;33m(\u001b[0m\u001b[1;34m\"\\t\"\u001b[0m\u001b[1;33m+\u001b[0m\u001b[0mfullpath\u001b[0m\u001b[1;33m)\u001b[0m    \u001b[1;31m# \\t = 역슬래시 tab\u001b[0m\u001b[1;33m\u001b[0m\u001b[1;33m\u001b[0m\u001b[0m\n",
      "\u001b[1;32m<ipython-input-30-50fc3ecfc43c>\u001b[0m in \u001b[0;36mdumpdir\u001b[1;34m(path)\u001b[0m\n\u001b[0;32m      5\u001b[0m \u001b[1;33m\u001b[0m\u001b[0m\n\u001b[0;32m      6\u001b[0m \u001b[1;32mdef\u001b[0m \u001b[0mdumpdir\u001b[0m\u001b[1;33m(\u001b[0m\u001b[0mpath\u001b[0m\u001b[1;33m)\u001b[0m\u001b[1;33m:\u001b[0m\u001b[1;33m\u001b[0m\u001b[1;33m\u001b[0m\u001b[0m\n\u001b[1;32m----> 7\u001b[1;33m     \u001b[0mfiles\u001b[0m \u001b[1;33m=\u001b[0m \u001b[0mos\u001b[0m\u001b[1;33m.\u001b[0m\u001b[0mlistdir\u001b[0m\u001b[1;33m(\u001b[0m\u001b[0mpath\u001b[0m\u001b[1;33m)\u001b[0m\u001b[1;33m\u001b[0m\u001b[1;33m\u001b[0m\u001b[0m\n\u001b[0m\u001b[0;32m      8\u001b[0m     \u001b[1;32mfor\u001b[0m \u001b[0mf\u001b[0m \u001b[1;32min\u001b[0m \u001b[0mfiles\u001b[0m\u001b[1;33m:\u001b[0m\u001b[1;33m\u001b[0m\u001b[1;33m\u001b[0m\u001b[0m\n\u001b[0;32m      9\u001b[0m         \u001b[0mfullpath\u001b[0m \u001b[1;33m=\u001b[0m \u001b[0mpath\u001b[0m \u001b[1;33m+\u001b[0m \u001b[1;34m\"\\\\\"\u001b[0m \u001b[1;33m+\u001b[0m \u001b[0mf\u001b[0m\u001b[1;33m\u001b[0m\u001b[1;33m\u001b[0m\u001b[0m\n",
      "\u001b[1;31mPermissionError\u001b[0m: [WinError 5] 액세스가 거부되었습니다: 'c:\\\\Users\\\\Hyuna\\\\AppData\\\\Local\\\\Application Data'"
     ]
    }
   ],
   "source": [
    "dumpdir(\"c:\\\\Users\\\\Hyuna\")"
   ]
  },
  {
   "cell_type": "markdown",
   "metadata": {},
   "source": [
    "### 파일 관리 유틸리티"
   ]
  },
  {
   "cell_type": "code",
   "execution_count": 29,
   "metadata": {},
   "outputs": [
    {
     "name": "stdout",
     "output_type": "stream",
     "text": [
      "멜로디데이-All About.mp3\n",
      "싸이-강남스타일.mp3\n",
      "다비치-안녕이라고 말하지마.mp3\n"
     ]
    }
   ],
   "source": [
    "# 파일명 일괄 수정\n",
    "\n",
    "import os\n",
    "\n",
    "path = \"c:\\\\Users\\\\Hyuna\\\\Test\"    # path = c:\\\\Users\\\\Hyuna\\\\Test\n",
    "files = os.listdir(path)         # 모든 파일 목록 조사한 후 각 파일 순회 -> 재조립\n",
    "for f in files:\n",
    "    if (f.find(\"-\") and f.endswith(\".mp3\")):       # 끝(end)에 확장자 확인하는 함수\n",
    "        name = f[0:-4]                             # [:-4] = -5까지 출력 = .mp3(4자리수)를 제외한다는 뜻\n",
    "        ext = f[-4:]\n",
    "        part = name.split(\"-\")                     # \"-\"를 기준으로 쪼개지는 개수에 따라 part[0], part[1], part[2] ....\n",
    "        newname = part[1].strip() + \"-\" + part[0].strip() + ext      # strip() - 공백제거\n",
    "        print(newname)\n",
    "        os.rename(path + \"\\\\\" + f, path + \"\\\\\" + newname)      # rename(a,b) = a를 b로 변경\n"
   ]
  },
  {
   "cell_type": "markdown",
   "metadata": {},
   "source": [
    "## 14-3. 데이터베이스(DB)"
   ]
  },
  {
   "cell_type": "markdown",
   "metadata": {},
   "source": [
    "파이썬을 통해 DB에 접근 - 조회(검색),삽입, 수정(업뎃)"
   ]
  },
  {
   "cell_type": "code",
   "execution_count": null,
   "metadata": {},
   "outputs": [],
   "source": [
    "1. install(=pip) sqlite3      - 관련 DB 패키지 설치\n",
    "2. import sqlite3            - DB 패키지를 부르기\n",
    "3. connect()                  - 파일을 여는 형식,처럼 데이터베이스에 연결    ex, 도로연결 to DB\n",
    "4. cursor(=객체)를 만들기     - ex, 도로 안에 버스전용차선\n",
    "5. execute()                  - 함수를 사용해서 명령어를 실행시키기\n",
    "6. close()                    - 데이터베이스는 두번 close. connet&cursor"
   ]
  },
  {
   "cell_type": "code",
   "execution_count": 11,
   "metadata": {},
   "outputs": [],
   "source": [
    "# INSERT 사용\n",
    "\n",
    "import sqlite3\n",
    "\n",
    "con = sqlite3.connect('addr.db')        #  addr.db 라는 이름(=호스트명 orIP, port, 사용자ID, 사용자PW,)으로 DB를 열기',db'라고 적어주기\n",
    "cursor = con.cursor()\n",
    "\n",
    "cursor.execute('DROP TABLE IF EXISTS tblAddr')                            # drop table 테이블 자체를 지우는 delete는 테이블은 놔두고 데이터만 지우는// tblAddr이라는 테이블이 있다면 지워라\n",
    "                                                                         # CREATE TABLE 명령어로 tblAddr 테이블 생성\n",
    "cursor.execute(\"\"\"CREATE TABLE tblAddr\n",
    "  (name CHAR(16) PRIMARY KEY, phone CHAR(16), addr TEXT)\"\"\")\n",
    "\n",
    "cursor.execute(\"INSERT INTO tblAddr VALUES ('김상형','123-4567','오산')\")      # 한 사람의 주소 정보를 저장하기 위해 세 개 필드(이름, 전화번호, 주소)를 만들기. 이름을 기본 키(PRIMARY KEY)로\n",
    "cursor.execute(\"INSERT INTO tblAddr VALUES ('한경은','555-1004','수원')\")      # CHAR = character\n",
    "cursor.execute(\"INSERT INTO tblAddr VALUES ('한주완','444-1092','대전')\")\n",
    "\n",
    "con.commit()\n",
    "\n",
    "cursor.close()\n",
    "con.close()"
   ]
  },
  {
   "cell_type": "code",
   "execution_count": 5,
   "metadata": {},
   "outputs": [
    {
     "name": "stdout",
     "output_type": "stream",
     "text": [
      "이름 : 김상형, 전화 : 123-4567, 주소 : 오산\n",
      "이름 : 한경은, 전화 : 555-1004, 주소 : 수원\n",
      "이름 : 한주완, 전화 : 444-1092, 주소 : 대전\n"
     ]
    }
   ],
   "source": [
    "# fetchall을 사용하여 조회\n",
    "import sqlite3\n",
    "\n",
    "con = sqlite3.connect('addr.db')\n",
    "cursor = con.cursor()\n",
    "\n",
    "cursor.execute(\"SELECT * FROM tblAddr\")     # select = 명령어 던지면 데이터가 나옴 - 데이터가 나오면 미리 열어둔 cursor라는 곳에서 받아\n",
    "table = cursor.fetchall()                   #  * = all (조건에 맞는 모든 것)     # cursor에 있는 걸 꺼내서 table에 넣어둔 것    # fetchall <-> fetchone() 하나만\n",
    "for record in table:                        \n",
    "    print(\"이름 : %s, 전화 : %s, 주소 : %s\" % record)\n",
    "    \n",
    "cursor.close()\n",
    "con.close()"
   ]
  },
  {
   "cell_type": "code",
   "execution_count": 10,
   "metadata": {},
   "outputs": [
    {
     "name": "stdout",
     "output_type": "stream",
     "text": [
      "이름 : 김상형, 전화 : 123-4567, 주소 : 오산\n",
      "이름 : 한경은, 전화 : 555-1004, 주소 : 수원\n",
      "이름 : 한주완, 전화 : 444-1092, 주소 : 대전\n"
     ]
    }
   ],
   "source": [
    "# fetchone을 사용할 때\n",
    "\n",
    "import sqlite3\n",
    "\n",
    "con = sqlite3.connect('addr.db')\n",
    "cursor = con.cursor()\n",
    "\n",
    "cursor.execute(\"SELECT * FROM tblAddr\")\n",
    "while True:\n",
    "    record = cursor.fetchone()\n",
    "    if record == None:\n",
    "        break\n",
    "    print(\"이름 : %s, 전화 : %s, 주소 : %s\" % record)\n",
    "        \n",
    "cursor.close()\n",
    "con.close()"
   ]
  },
  {
   "cell_type": "code",
   "execution_count": 15,
   "metadata": {},
   "outputs": [
    {
     "name": "stdout",
     "output_type": "stream",
     "text": [
      "이름 : 한주완, 전화 : 444-1092, 주소 : 대전\n",
      "이름 : 한경은, 전화 : 555-1004, 주소 : 수원\n",
      "이름 : 김상형, 전화 : 123-4567, 주소 : 오산\n"
     ]
    }
   ],
   "source": [
    "# ORDER BY addr\n",
    "\n",
    "import sqlite3\n",
    "\n",
    "con = sqlite3.connect('addr.db')\n",
    "cursor = con.cursor()\n",
    "\n",
    "cursor.execute(\"SELECT * FROM tblAddr ORDER BY addr\")\n",
    "table = cursor.fetchall()\n",
    "for record in table:\n",
    "    print(\"이름 : %s, 전화 : %s, 주소 : %s\" % record)\n",
    "    \n",
    "cursor.close()\n",
    "con.close()"
   ]
  },
  {
   "cell_type": "code",
   "execution_count": 13,
   "metadata": {},
   "outputs": [
    {
     "name": "stdout",
     "output_type": "stream",
     "text": [
      "김상형은 오산에 살고 있습니다\n"
     ]
    }
   ],
   "source": [
    "# SELECT addr FROM ~\n",
    "\n",
    "import sqlite3\n",
    "\n",
    "con = sqlite3.connect('addr.db')\n",
    "cursor = con.cursor()\n",
    "\n",
    "cursor.execute(\"SELECT addr FROM tblAddr WHERE name = '김상형'\")\n",
    "record = cursor.fetchone()\n",
    "print(\"김상형은 %s에 살고 있습니다\" % record)\n",
    "               \n",
    "cursor.close()\n",
    "con.close()"
   ]
  },
  {
   "cell_type": "code",
   "execution_count": 2,
   "metadata": {},
   "outputs": [],
   "source": [
    "# update 명령 (수정하는 명령) - insert는 안되면 에러나는데 update는 덮어쓰게 됨!! 조심!! 조심!!!\n",
    "\n",
    "import sqlite3\n",
    "\n",
    "con = sqlite3.connect('addr.db')\n",
    "cursor = con.cursor()\n",
    "\n",
    "cursor.execute(\"UPDATE tblAddr SET addr = '제주도' WHERE name ='김상형'\")  # update + ~ + set  where 조건문\n",
    "con.commit()\n",
    "\n",
    "cursor.close()\n",
    "con.close()\n"
   ]
  },
  {
   "cell_type": "code",
   "execution_count": 6,
   "metadata": {},
   "outputs": [
    {
     "name": "stdout",
     "output_type": "stream",
     "text": [
      "이름 : 김상형, 전화 : 123-4567, 주소 : 제주도\n",
      "이름 : 한경은, 전화 : 555-1004, 주소 : 수원\n",
      "이름 : 한주완, 전화 : 444-1092, 주소 : 대전\n"
     ]
    }
   ],
   "source": [
    "import sqlite3\n",
    "\n",
    "con = sqlite3.connect('addr.db')\n",
    "cursor = con.cursor()\n",
    "\n",
    "cursor.execute(\"SELECT * FROM tblAddr\")     \n",
    "table = cursor.fetchall()                   \n",
    "for record in table:                        \n",
    "    print(\"이름 : %s, 전화 : %s, 주소 : %s\" % record)\n",
    "    \n",
    "cursor.close()\n",
    "con.close()"
   ]
  },
  {
   "cell_type": "code",
   "execution_count": 9,
   "metadata": {},
   "outputs": [],
   "source": [
    "# delete 명령어 - 레코드 삭제 / where조건문 꼭 써줘야!!!!\n",
    "\n",
    "import sqlite3\n",
    "\n",
    "con = sqlite3.connect('addr.db')\n",
    "cursor = con.cursor()\n",
    "\n",
    "cursor.execute(\"DELETE FROM tblAddr WHERE name = '김상형'\")   # where 조건문이 없으면 테이블에 있는 데이터 모두 삭제!!\n",
    "con.commit()\n",
    "\n",
    "cursor.close()\n",
    "con.close()"
   ]
  },
  {
   "cell_type": "code",
   "execution_count": 10,
   "metadata": {},
   "outputs": [
    {
     "name": "stdout",
     "output_type": "stream",
     "text": [
      "이름 : 한경은, 전화 : 555-1004, 주소 : 수원\n",
      "이름 : 한주완, 전화 : 444-1092, 주소 : 대전\n"
     ]
    }
   ],
   "source": [
    "import sqlite3\n",
    "\n",
    "con = sqlite3.connect('addr.db')\n",
    "cursor = con.cursor()\n",
    "\n",
    "cursor.execute(\"SELECT * FROM tblAddr\")     \n",
    "table = cursor.fetchall()                   \n",
    "for record in table:                        \n",
    "    print(\"이름 : %s, 전화 : %s, 주소 : %s\" % record)\n",
    "    \n",
    "cursor.close()\n",
    "con.close()"
   ]
  },
  {
   "cell_type": "markdown",
   "metadata": {},
   "source": [
    "# 15장. 클래스"
   ]
  },
  {
   "cell_type": "markdown",
   "metadata": {},
   "source": [
    "## 15-1. 클래스"
   ]
  },
  {
   "cell_type": "markdown",
   "metadata": {},
   "source": [
    "### 클래스\n",
    "    객체지향 - 관련된 속성과 동작을 하나의 범주로 묶어 실세계의 사물을 흉내냄    \n",
    "\n",
    "    #특징 - 캡슐화, 추상화, 상속, 다양성\n",
    "\n",
    "    object = 탬플릿\n",
    "\n",
    "##### 모델링\n",
    "    사물 분석하여 필요한 속성과 동작추출\n",
    " \n",
    "##### 캡슐화\n",
    "    모델링 "
   ]
  },
  {
   "cell_type": "code",
   "execution_count": null,
   "metadata": {},
   "outputs": [],
   "source": [
    "class 정의 - 속성, 동작\n",
    "함수 정의 - 행위"
   ]
  },
  {
   "cell_type": "code",
   "execution_count": null,
   "metadata": {},
   "outputs": [],
   "source": [
    "class 자동차(공통의 속성(변수로 표현), 동작(함수로 표현)을 포함 = 캡슐화 되었다는 뜻, 추상화시킨 것, 상속(부모에게서 물려받은 것을 자식이 추가할 수 있다는),)\n",
    "객체(object) - 자동차(suv)\n",
    "객체(object) - 자동차(승용차)\n",
    "객체(object) - 자동차(버스, 라디오 False) # 같은 자동차이지만 버스는 라디오를 X"
   ]
  },
  {
   "cell_type": "code",
   "execution_count": 12,
   "metadata": {},
   "outputs": [
    {
     "name": "stdout",
     "output_type": "stream",
     "text": [
      "잔액은 9000원입니다.\n"
     ]
    }
   ],
   "source": [
    "balance = 8000\n",
    "\n",
    "def deposit(money):                            # 계산행위\n",
    "    global balance                            # 전역변수로 만드는\n",
    "    balance += money\n",
    "\n",
    "def inquire():                                 # 출력행위\n",
    "    print(\"잔액은 %d원입니다.\" % balance)\n",
    "\n",
    "deposit(1000)      # 예금 = 추가\n",
    "inquire()"
   ]
  },
  {
   "cell_type": "code",
   "execution_count": 13,
   "metadata": {},
   "outputs": [
    {
     "name": "stdout",
     "output_type": "stream",
     "text": [
      "잔액은 9000원입니다.\n",
      "잔액은 1200000원입니다.\n"
     ]
    }
   ],
   "source": [
    "class Account:\n",
    "    def __init__(self, balance):                # init = 초기화시키는 것.\n",
    "        self.balance = balance\n",
    "    def deposit(self, money):                   # def = 메서드. sinhan.deposit() 으로 사용\n",
    "        self.balance += money\n",
    "    def inquire(self):\n",
    "        print(\"잔액은 %d원입니다.\" % self.balance)\n",
    "\n",
    "sinhan = Account(8000)\n",
    "sinhan.deposit(1000)\n",
    "sinhan.inquire()\n",
    "\n",
    "nonghyup = Account(1200000)\n",
    "nonghyup.inquire()\n"
   ]
  },
  {
   "cell_type": "markdown",
   "metadata": {},
   "source": [
    "### 상속"
   ]
  },
  {
   "cell_type": "code",
   "execution_count": 24,
   "metadata": {},
   "outputs": [],
   "source": [
    "# class를 이렇게 만들겠다는 템플릿을 만드는 행위\n",
    "\n",
    "class Human:\n",
    "    def __init__(self, age, name):               # init(self: 자기자신이 들어간다는 뜻. 디폴트!!) - 객체를 __init__의 첫번째 인수 self(kim)로 전달.\n",
    "        self.age = age\n",
    "        self.name = name\n",
    "    def intro(self):\n",
    "        print(str(self.age) + \"살 \" + self.name + \"입니다.\")"
   ]
  },
  {
   "cell_type": "code",
   "execution_count": 21,
   "metadata": {},
   "outputs": [
    {
     "name": "stdout",
     "output_type": "stream",
     "text": [
      "29살 김상형입니다.\n"
     ]
    }
   ],
   "source": [
    "# class\n",
    "\n",
    "kim = Human(29, \"김상형\")\n",
    "kim.intro()"
   ]
  },
  {
   "cell_type": "markdown",
   "metadata": {},
   "source": [
    "### 상속"
   ]
  },
  {
   "cell_type": "code",
   "execution_count": null,
   "metadata": {},
   "outputs": [],
   "source": [
    "class Human:\n",
    "    def __init__(self, age, name):            \n",
    "        self.age = age\n",
    "        self.name = name\n",
    "    def intro(self):\n",
    "        print(str(self.age) + \"살 \" + self.name + \"입니다.\")"
   ]
  },
  {
   "cell_type": "markdown",
   "metadata": {},
   "source": [
    "l\n",
    "V\n",
    "상속"
   ]
  },
  {
   "cell_type": "code",
   "execution_count": 29,
   "metadata": {},
   "outputs": [],
   "source": [
    "class Student(Human):\n",
    "    def __init__(self, age, name, stunum):\n",
    "        super().__init__(age, name)                 # 부모함수의 나이와 이름은 그대로 쓸거다(부모꺼의 init) /   super() = 상속받은 거다.\n",
    "        self.stunum = stunum\n",
    "        \n",
    "    def intro(self):\n",
    "        super().intro()                          # 부모꺼의 intro\n",
    "        print(\"학번 : \" + str(self.stunum))\n",
    "        \n",
    "    def study(self):\n",
    "        print(\"하늘 천 따 지 검을 현 누룰 황\")"
   ]
  },
  {
   "cell_type": "markdown",
   "metadata": {},
   "source": [
    "super() 메서드 - 부모의 생성자를 호출"
   ]
  },
  {
   "cell_type": "code",
   "execution_count": 27,
   "metadata": {},
   "outputs": [
    {
     "name": "stdout",
     "output_type": "stream",
     "text": [
      "29살 김상형입니다.\n"
     ]
    }
   ],
   "source": [
    "kim = Human(29, \"김상형\")\n",
    "kim.intro()"
   ]
  },
  {
   "cell_type": "code",
   "execution_count": 30,
   "metadata": {},
   "outputs": [
    {
     "name": "stdout",
     "output_type": "stream",
     "text": [
      "34살 이승우입니다.\n",
      "학번 : 930011\n",
      "하늘 천 따 지 검을 현 누룰 황\n"
     ]
    }
   ],
   "source": [
    "lee = Student(34, \"이승우\", 930011)\n",
    "lee.intro()\n",
    "lee.study()"
   ]
  },
  {
   "cell_type": "code",
   "execution_count": 31,
   "metadata": {},
   "outputs": [
    {
     "ename": "TypeError",
     "evalue": "__init__() missing 1 required positional argument: 'stunum'",
     "output_type": "error",
     "traceback": [
      "\u001b[1;31m---------------------------------------------------------------------------\u001b[0m",
      "\u001b[1;31mTypeError\u001b[0m                                 Traceback (most recent call last)",
      "\u001b[1;32m<ipython-input-31-83e3f40e4ffc>\u001b[0m in \u001b[0;36m<module>\u001b[1;34m\u001b[0m\n\u001b[1;32m----> 1\u001b[1;33m \u001b[0mkang\u001b[0m \u001b[1;33m=\u001b[0m \u001b[0mStudent\u001b[0m\u001b[1;33m(\u001b[0m\u001b[1;36m34\u001b[0m\u001b[1;33m,\u001b[0m \u001b[1;34m\"홍길동\"\u001b[0m\u001b[1;33m)\u001b[0m\u001b[1;33m\u001b[0m\u001b[1;33m\u001b[0m\u001b[0m\n\u001b[0m",
      "\u001b[1;31mTypeError\u001b[0m: __init__() missing 1 required positional argument: 'stunum'"
     ]
    }
   ],
   "source": [
    "kang = Student(34, \"홍길동\")   #  인자 stunum이 빠졌다는 에러"
   ]
  },
  {
   "cell_type": "markdown",
   "metadata": {},
   "source": [
    "### 액세서 - 파이썬 클래스의 멤버는 모두 공개되어 누구나 외부에서 액세스 가능"
   ]
  },
  {
   "cell_type": "code",
   "execution_count": null,
   "metadata": {},
   "outputs": [],
   "source": [
    "게터(getter) 메서드\n",
    "-멤버 값 대신 읽음\n",
    "세터(setter) 메서드\n",
    "-멤버 값 변경"
   ]
  },
  {
   "cell_type": "code",
   "execution_count": 39,
   "metadata": {},
   "outputs": [],
   "source": [
    "class Date:\n",
    "    def __init__(self, month):\n",
    "        self.month = month           # if 에 해당하지 않으면 무시\n",
    "    def getmonth(self):\n",
    "        return self.month\n",
    "    def setmonth(self, month):\n",
    "        if 1 <= month <= 12:\n",
    "            self.month = month"
   ]
  },
  {
   "cell_type": "code",
   "execution_count": 35,
   "metadata": {},
   "outputs": [],
   "source": [
    "today = Date(8)"
   ]
  },
  {
   "cell_type": "code",
   "execution_count": 40,
   "metadata": {},
   "outputs": [
    {
     "ename": "AttributeError",
     "evalue": "'Date' object has no attribute 'setmonth'",
     "output_type": "error",
     "traceback": [
      "\u001b[1;31m---------------------------------------------------------------------------\u001b[0m",
      "\u001b[1;31mAttributeError\u001b[0m                            Traceback (most recent call last)",
      "\u001b[1;32m<ipython-input-40-2cd0faab0764>\u001b[0m in \u001b[0;36m<module>\u001b[1;34m\u001b[0m\n\u001b[1;32m----> 1\u001b[1;33m \u001b[0mtoday\u001b[0m\u001b[1;33m.\u001b[0m\u001b[0msetmonth\u001b[0m\u001b[1;33m(\u001b[0m\u001b[1;36m15\u001b[0m\u001b[1;33m)\u001b[0m\u001b[1;33m\u001b[0m\u001b[1;33m\u001b[0m\u001b[0m\n\u001b[0m",
      "\u001b[1;31mAttributeError\u001b[0m: 'Date' object has no attribute 'setmonth'"
     ]
    }
   ],
   "source": [
    "today.setmonth(15)"
   ]
  },
  {
   "cell_type": "code",
   "execution_count": 37,
   "metadata": {},
   "outputs": [
    {
     "name": "stdout",
     "output_type": "stream",
     "text": [
      "8\n"
     ]
    }
   ],
   "source": [
    "print(today.getmonth())"
   ]
  },
  {
   "cell_type": "code",
   "execution_count": 42,
   "metadata": {},
   "outputs": [
    {
     "name": "stdout",
     "output_type": "stream",
     "text": [
      "8\n"
     ]
    }
   ],
   "source": [
    "class Date:\n",
    "    def __init__(self, month):\n",
    "        self.inner_month = month\n",
    "    def getmonth(self):\n",
    "        return self.inner_month\n",
    "    def setmonth(self, month):\n",
    "        if 1<= month <= 12:\n",
    "            self.inner_month = month\n",
    "    month = property(getmonth, setmonth)\n",
    "\n",
    "today = Date(8)\n",
    "today.month = 15\n",
    "print(today.month)\n"
   ]
  },
  {
   "cell_type": "code",
   "execution_count": 41,
   "metadata": {},
   "outputs": [
    {
     "name": "stdout",
     "output_type": "stream",
     "text": [
      "8\n"
     ]
    }
   ],
   "source": [
    "class Date:\n",
    "    def __init__(self, month):\n",
    "        self.inner_month = month\n",
    "    @property\n",
    "    def month(self):\n",
    "        return self.inner_month\n",
    "    @month.setter\n",
    "    def month(self, month):\n",
    "        if 1 <= month <= 12:\n",
    "            self.inner_month = month\n",
    "\n",
    "today = Date(8)\n",
    "today.month = 15\n",
    "print(today.month)\n"
   ]
  },
  {
   "cell_type": "markdown",
   "metadata": {},
   "source": [
    "## 15-2. 여러가지 메서드"
   ]
  },
  {
   "cell_type": "markdown",
   "metadata": {},
   "source": [
    "### 클래스 메서드(@classmethod) - 클래스 전체가 공유"
   ]
  },
  {
   "cell_type": "code",
   "execution_count": 43,
   "metadata": {},
   "outputs": [
    {
     "name": "stdout",
     "output_type": "stream",
     "text": [
      "2\n"
     ]
    }
   ],
   "source": [
    "class Car:\n",
    "    count = 0\n",
    "    def __init__(self, name):\n",
    "        self.name = name\n",
    "        Car.count += 1\n",
    "    @classmethod             # 키워드.  '.'으로 사용하겠다는  / # 전역변수, 지역변수\n",
    "    def outcount(cls):\n",
    "        print(cls.count)\n",
    "\n",
    "pride = Car(\"프라이드\")\n",
    "korando = Car(\"코란도\")\n",
    "Car.outcount()\n",
    "\n",
    "# 프라이드라는 객체를 만들면서 +1개, 코란도 객체를 만들면서 +1개 더 추가. 따라서 2개."
   ]
  },
  {
   "cell_type": "markdown",
   "metadata": {},
   "source": [
    "###  정적 메서드(@staticmethod)  - 특정 객체에 소속되거나 클래스 관련 동작 하지 않음"
   ]
  },
  {
   "cell_type": "code",
   "execution_count": 44,
   "metadata": {},
   "outputs": [],
   "source": [
    "class Car:\n",
    "    @staticmethod\n",
    "    def hello():\n",
    "        print(\"오늘도 안전 운행 합시다.\")\n",
    "    count = 0\n",
    "    def __init__(self, name):\n",
    "        self.name = name\n",
    "        Car.count += 1\n",
    "    @classmethod\n",
    "    def outcount(cls):\n",
    "        print(cls.count)"
   ]
  },
  {
   "cell_type": "code",
   "execution_count": 45,
   "metadata": {},
   "outputs": [
    {
     "name": "stdout",
     "output_type": "stream",
     "text": [
      "오늘도 안전 운행 합시다.\n"
     ]
    }
   ],
   "source": [
    "Car.hello()"
   ]
  },
  {
   "cell_type": "markdown",
   "metadata": {},
   "source": [
    "### 연산자 메서드 - 연산자 사용하여 객체끼리 연산. 연산자 오버로딩"
   ]
  },
  {
   "cell_type": "code",
   "execution_count": 46,
   "metadata": {},
   "outputs": [
    {
     "name": "stdout",
     "output_type": "stream",
     "text": [
      "True\n",
      "False\n"
     ]
    }
   ],
   "source": [
    "class Human:\n",
    "    def __init__(self, age, name):\n",
    "        self.age = age\n",
    "        self.name = name\n",
    "    def __eq__(self, other):      # eq = equal = '=='\n",
    "        return self.age == other.age and self.name == other.name\n",
    "\n",
    "kim = Human(29, \"김상형\")\n",
    "sang = Human(29, \"김상형\")\n",
    "moon = Human(44, \"문종민\")\n",
    "print(kim == sang)\n",
    "print(kim == moon)\n"
   ]
  },
  {
   "cell_type": "markdown",
   "metadata": {},
   "source": [
    "### 특수 메서드"
   ]
  },
  {
   "cell_type": "code",
   "execution_count": 47,
   "metadata": {},
   "outputs": [
    {
     "name": "stdout",
     "output_type": "stream",
     "text": [
      "이름 김상형, 나이 29\n"
     ]
    }
   ],
   "source": [
    "# str 메서드 :\n",
    "\n",
    "class Human:\n",
    "    def __init__(self, age, name):\n",
    "        self.age = age\n",
    "        self.name = name\n",
    "    def __str__(self):\n",
    "        return \"이름 %s, 나이 %d\" % (self.name, self.age)\n",
    "\n",
    "kim = Human(29, \"김상형\")\n",
    "print(kim)\n"
   ]
  },
  {
   "cell_type": "code",
   "execution_count": 48,
   "metadata": {},
   "outputs": [
    {
     "name": "stdout",
     "output_type": "stream",
     "text": [
      "29\n"
     ]
    }
   ],
   "source": [
    "class Human:\n",
    "    def __init__(self,age,name):\n",
    "        self.age = age\n",
    "        self.name = name\n",
    "    def __len__(self):\n",
    "        return self.age\n",
    "    \n",
    "kim = Human(29, \"김상형\")\n",
    "print(len(kim))"
   ]
  },
  {
   "cell_type": "markdown",
   "metadata": {},
   "source": [
    "## 15-3. 유틸리티 클래스"
   ]
  },
  {
   "cell_type": "markdown",
   "metadata": {},
   "source": [
    "### Decimal - 정수 혹은 문자열 실수로 초기화/ 오차없이 정확하게 10진 실수를 표현"
   ]
  },
  {
   "cell_type": "code",
   "execution_count": 50,
   "metadata": {},
   "outputs": [
    {
     "name": "stdout",
     "output_type": "stream",
     "text": [
      "9.99999999999998\n"
     ]
    }
   ],
   "source": [
    "f = 0.1\n",
    "sum = 0\n",
    "for i in range(100):\n",
    "    sum += f\n",
    "print(sum)\n",
    "\n",
    "# 당연히 10이 되어야 하는데 실제 연산 결과는 상식과 다르게 나타난다. 2진 실수로 십진 실수인 0.1을 정확하게 표현할 수 없기 때문"
   ]
  },
  {
   "cell_type": "code",
   "execution_count": 51,
   "metadata": {},
   "outputs": [
    {
     "name": "stdout",
     "output_type": "stream",
     "text": [
      "10.0\n"
     ]
    }
   ],
   "source": [
    "from decimal import Decimal\n",
    "\n",
    "f = Decimal('0.1')\n",
    "sum = 0\n",
    "for i in range(100):\n",
    "    sum += f\n",
    "print(sum)"
   ]
  },
  {
   "cell_type": "code",
   "execution_count": 52,
   "metadata": {},
   "outputs": [
    {
     "name": "stdout",
     "output_type": "stream",
     "text": [
      "1.23456790E+18\n",
      "1234567900987654321\n"
     ]
    }
   ],
   "source": [
    "# context 객체\n",
    "\n",
    "from decimal import *\n",
    "\n",
    "a = Decimal('1111111111')\n",
    "b = Decimal('1111111111')\n",
    "\n",
    "setcontext(BasicContext)\n",
    "c = a * b\n",
    "print(c)\n",
    "\n",
    "setcontext(DefaultContext)\n",
    "c = a * b\n",
    "print(c)\n"
   ]
  },
  {
   "cell_type": "markdown",
   "metadata": {},
   "source": [
    "### Fraction - 유리수 표현(분모와 분자를 따로 전달하여 분수 형태 숫자 표현)"
   ]
  },
  {
   "cell_type": "code",
   "execution_count": 53,
   "metadata": {},
   "outputs": [
    {
     "name": "stdout",
     "output_type": "stream",
     "text": [
      "1/3\n",
      "4/7\n"
     ]
    }
   ],
   "source": [
    "from fractions import *\n",
    "\n",
    "a = Fraction(1,3)\n",
    "print(a)\n",
    "b = Fraction(8, 14)\n",
    "print(b)\n"
   ]
  },
  {
   "cell_type": "code",
   "execution_count": 55,
   "metadata": {},
   "outputs": [
    {
     "name": "stdout",
     "output_type": "stream",
     "text": [
      "19/15\n",
      "1.3666666666666667\n"
     ]
    }
   ],
   "source": [
    "from fractions import *\n",
    "\n",
    "a = Fraction(2, 3)\n",
    "b = Fraction(3, 5)\n",
    "c = a + b\n",
    "print(c)\n",
    "\n",
    "d = c + 0.1       # 유리수 -> 실수형으로 변경!!\n",
    "print(d)\n"
   ]
  },
  {
   "cell_type": "markdown",
   "metadata": {},
   "source": [
    "### array(배열) 모듈 - 동일 타입 집합인 배열을 지원, 대량 자료를 메모리 낭비 없이 저장 및 고속 액세스 가능"
   ]
  },
  {
   "cell_type": "code",
   "execution_count": 57,
   "metadata": {},
   "outputs": [
    {
     "name": "stdout",
     "output_type": "stream",
     "text": [
      "33,44,67,89,56,\n",
      "ar[1] =  67\n",
      "array('i', [89, 56])\n"
     ]
    }
   ],
   "source": [
    "import array\n",
    "\n",
    "ar = array.array('i', [33, 44, 67, 89, 56])\n",
    "for a in ar:\n",
    "    print(a, end = ',')\n",
    "ar.append(100)                  # 추가\n",
    "del ar[0]                       \t# 삭제\n",
    "print(\"\\nar[1] = \", ar[1])      \t\t# 첨자 참조\n",
    "print(ar[2:4])                  \t# 슬라이스\n",
    "\n",
    "# numpy.array 랑 같음 (numpy는 외장함수, array는 내장함수)"
   ]
  }
 ],
 "metadata": {
  "kernelspec": {
   "display_name": "Python 3",
   "language": "python",
   "name": "python3"
  },
  "language_info": {
   "codemirror_mode": {
    "name": "ipython",
    "version": 3
   },
   "file_extension": ".py",
   "mimetype": "text/x-python",
   "name": "python",
   "nbconvert_exporter": "python",
   "pygments_lexer": "ipython3",
   "version": "3.8.5"
  }
 },
 "nbformat": 4,
 "nbformat_minor": 4
}
