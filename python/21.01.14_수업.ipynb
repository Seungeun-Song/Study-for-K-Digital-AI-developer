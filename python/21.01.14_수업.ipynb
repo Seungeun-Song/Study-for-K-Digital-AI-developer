{
 "cells": [
  {
   "cell_type": "markdown",
   "metadata": {},
   "source": [
    "# 클래스 복습"
   ]
  },
  {
   "cell_type": "markdown",
   "metadata": {},
   "source": [
    "class 사람\n",
    "    머리 하나 =\n",
    "    눈 두개 =\n",
    "    이름 =\n",
    "    인종 =\n",
    "    \n",
    "    def 걸어간다:\n",
    "        \n",
    "    def 뛰어간다:"
   ]
  },
  {
   "cell_type": "markdown",
   "metadata": {},
   "source": [
    "class 대학\n",
    "    경영학과 =\n",
    "    체육과 =\n",
    "    행정부서 =\n",
    "\n",
    "    def 입학생을 받는다:\n",
    "        \n",
    "    def 등록금을 책정한다:"
   ]
  },
  {
   "cell_type": "markdown",
   "metadata": {},
   "source": [
    "class 은행업무        #신한은행\n",
    "    계좌번호 =\n",
    "    이름 =\n",
    "    \n",
    "    def 조회:\n",
    "        \n",
    "    def 송금:\n",
    "        \n",
    "    def 출금:"
   ]
  },
  {
   "cell_type": "markdown",
   "metadata": {},
   "source": [
    "class 보험업무             #신한보험\n",
    "    보험명:\n",
    "    이름:\n",
    "        \n",
    "    def 보험가입:\n",
    "        "
   ]
  },
  {
   "cell_type": "code",
   "execution_count": 1,
   "metadata": {},
   "outputs": [],
   "source": [
    "# 클래스 생성     # Account라는 class로 템플릿을 만드는 것\n",
    "\n",
    "class Account:                                         # 변수 = balance, money/ 함수 = deposit\n",
    "    def __init__(self, balance):                       # __init__ : 객체의 초기값을 뭐로 할 것인가? = 여기서는 (balance!!)\n",
    "        self.balance = balance\n",
    "    def deposit(self,money):\n",
    "        self.balance += money\n",
    "    def inquire(self):\n",
    "        print(\"잔액은 %d원입니다\" %self.balance)"
   ]
  },
  {
   "cell_type": "code",
   "execution_count": 2,
   "metadata": {},
   "outputs": [
    {
     "name": "stdout",
     "output_type": "stream",
     "text": [
      "잔액은 9000원입니다\n"
     ]
    }
   ],
   "source": [
    "# Account class를 사용한 sinhan 객체 생성\n",
    "\n",
    "sinhan = Account(8000)                    \n",
    "sinhan.deposit(1000)                      \n",
    "sinhan.inquire()"
   ]
  },
  {
   "cell_type": "code",
   "execution_count": 13,
   "metadata": {},
   "outputs": [
    {
     "name": "stdout",
     "output_type": "stream",
     "text": [
      "잔액은 1200000원입니다\n"
     ]
    }
   ],
   "source": [
    "nonghyup = Account(1200000)               # 1(200000)초기값인자를 넣어 농협이라는 객체를 만듦\n",
    "nonghyup.inquire()"
   ]
  },
  {
   "cell_type": "code",
   "execution_count": 14,
   "metadata": {
    "scrolled": true
   },
   "outputs": [
    {
     "name": "stdout",
     "output_type": "stream",
     "text": [
      "1200000\n"
     ]
    }
   ],
   "source": [
    "print(nonghyup.balance)         # . tab에 있는 것들 전부 사용 가능함!!  함수가 아닌, 멤버도, 즉 변수도 사용가능!!"
   ]
  },
  {
   "cell_type": "code",
   "execution_count": 7,
   "metadata": {},
   "outputs": [
    {
     "name": "stdout",
     "output_type": "stream",
     "text": [
      "잔액은 1600000원입니다\n"
     ]
    }
   ],
   "source": [
    "nonghyup.deposit(200000)\n",
    "nonghyup.inquire()"
   ]
  },
  {
   "cell_type": "code",
   "execution_count": 8,
   "metadata": {},
   "outputs": [],
   "source": [
    "nonghyup.balance = 0"
   ]
  },
  {
   "cell_type": "code",
   "execution_count": 9,
   "metadata": {},
   "outputs": [
    {
     "name": "stdout",
     "output_type": "stream",
     "text": [
      "잔액은 0원입니다\n"
     ]
    }
   ],
   "source": [
    "nonghyup.inquire()"
   ]
  },
  {
   "cell_type": "code",
   "execution_count": null,
   "metadata": {},
   "outputs": [],
   "source": [
    "__init__ 생성자 만들때\n",
    "\n",
    "객체가 생성될 때 컴퓨터가 임의로(객체1)= FFinitAA\n",
    "다른 객체를 만들면 임의의(객체2)= BBinitSS\n",
    "\n",
    "\n",
    "ex, 홍길동 => 길동이라는 이름의 성을 다 찾겠다 한다면\n",
    "    _길동   # 언더바(_)의 역할"
   ]
  },
  {
   "cell_type": "code",
   "execution_count": 17,
   "metadata": {},
   "outputs": [],
   "source": [
    "class Human:\n",
    "    def __init__(self,age,name):\n",
    "        self.age = age\n",
    "        self.name = name\n",
    "    def intro(self):\n",
    "        print(str(self.age)+\"살 \"+self.name+\"입니다\")"
   ]
  },
  {
   "cell_type": "code",
   "execution_count": 20,
   "metadata": {},
   "outputs": [
    {
     "name": "stdout",
     "output_type": "stream",
     "text": [
      "29살 김상형입니다\n"
     ]
    }
   ],
   "source": [
    "kim = Human(29, \"김상형\")        # kim이라는 객체 생성, 초기값으로 29, 김상형을 class에 입력\n",
    "kim.intro()"
   ]
  },
  {
   "cell_type": "code",
   "execution_count": 19,
   "metadata": {},
   "outputs": [
    {
     "name": "stdout",
     "output_type": "stream",
     "text": [
      "45살 이승우입니다\n"
     ]
    }
   ],
   "source": [
    "lee = Human(45, \"이승우\")\n",
    "lee.intro()"
   ]
  },
  {
   "cell_type": "code",
   "execution_count": 21,
   "metadata": {
    "scrolled": true
   },
   "outputs": [
    {
     "ename": "TypeError",
     "evalue": "__init__() missing 1 required positional argument: 'name'",
     "output_type": "error",
     "traceback": [
      "\u001b[1;31m---------------------------------------------------------------------------\u001b[0m",
      "\u001b[1;31mTypeError\u001b[0m                                 Traceback (most recent call last)",
      "\u001b[1;32m<ipython-input-21-195ce4cf1108>\u001b[0m in \u001b[0;36m<module>\u001b[1;34m\u001b[0m\n\u001b[1;32m----> 1\u001b[1;33m \u001b[0mhong\u001b[0m \u001b[1;33m=\u001b[0m \u001b[0mHuman\u001b[0m\u001b[1;33m(\u001b[0m\u001b[1;34m\"홍길동\"\u001b[0m\u001b[1;33m)\u001b[0m  \u001b[1;31m# Human 클래스에서 생성한 초기값 인자가 하나 빠짐\u001b[0m\u001b[1;33m\u001b[0m\u001b[1;33m\u001b[0m\u001b[0m\n\u001b[0m",
      "\u001b[1;31mTypeError\u001b[0m: __init__() missing 1 required positional argument: 'name'"
     ]
    }
   ],
   "source": [
    "hong = Human(\"홍길동\")  # Human 클래스에서 생성한 초기값 인자가 하나 빠짐"
   ]
  },
  {
   "cell_type": "code",
   "execution_count": 24,
   "metadata": {},
   "outputs": [],
   "source": [
    "hong = Human(\"나이\",\"홍길동\")"
   ]
  },
  {
   "cell_type": "code",
   "execution_count": 25,
   "metadata": {},
   "outputs": [
    {
     "name": "stdout",
     "output_type": "stream",
     "text": [
      "나이살 홍길동입니다\n"
     ]
    }
   ],
   "source": [
    "hong.intro()               # 나이살???????  타입에 따라 들어가는 게 X      #나중에 이걸 방지하는 옵션을 추가해야.. "
   ]
  },
  {
   "cell_type": "code",
   "execution_count": 22,
   "metadata": {},
   "outputs": [],
   "source": [
    "lee.name = \"홍길동\""
   ]
  },
  {
   "cell_type": "code",
   "execution_count": 23,
   "metadata": {},
   "outputs": [
    {
     "name": "stdout",
     "output_type": "stream",
     "text": [
      "45살 홍길동입니다\n"
     ]
    }
   ],
   "source": [
    "lee.intro()"
   ]
  },
  {
   "cell_type": "code",
   "execution_count": 26,
   "metadata": {},
   "outputs": [],
   "source": [
    "class Student(Human):     # 부모 클래스에서 받아와서 그대로 쓰는 것, 추가하는 것, 변경하는 것.   가능!!\n",
    "    def __init__(self, age, name, stunum):\n",
    "        super().__init__(age,name)    # 부모에게서 받은 것으로 초기화하겠다.\n",
    "        self.stunum = stunum          # 학번은 내가 추가하겠다\n",
    "        \n",
    "    def intro(self):   # intro에서 (self)= 추가하겠다.\n",
    "        super().intro()           # 완전 다른 게 아니라, 부모의 것(몇살 누구입니다)도 받아오고 \n",
    "        print(\"학번 : \"+ str(self.stunum))    #  이것도 추가한다.  재정의(override)\n",
    "        \n",
    "    def study(self):\n",
    "        print(\"하늘 천 따 지 검을 현 누를 황\")"
   ]
  },
  {
   "cell_type": "code",
   "execution_count": 27,
   "metadata": {},
   "outputs": [
    {
     "name": "stdout",
     "output_type": "stream",
     "text": [
      "29살 김상형입니다\n"
     ]
    }
   ],
   "source": [
    "kim = Human(29,\"김상형\")                # Human class\n",
    "kim.intro()"
   ]
  },
  {
   "cell_type": "code",
   "execution_count": 35,
   "metadata": {},
   "outputs": [
    {
     "name": "stdout",
     "output_type": "stream",
     "text": [
      "29살 김상형입니다\n",
      "학번 : 930011\n"
     ]
    }
   ],
   "source": [
    "kim = Student(29, \"김상형\", 930011)      # Student class\n",
    "kim.intro()                              # 부모의 intro + 추가한 intro = 2 줄 출력"
   ]
  },
  {
   "cell_type": "code",
   "execution_count": 33,
   "metadata": {},
   "outputs": [
    {
     "name": "stdout",
     "output_type": "stream",
     "text": [
      "하늘 천 따 지 검을 현 누를 황\n"
     ]
    }
   ],
   "source": [
    "kim.study()"
   ]
  },
  {
   "cell_type": "markdown",
   "metadata": {},
   "source": [
    "### 액세서(접근) - 게터(Getter)메서드-대신 읽어주는, 세터(Setter)메서드-변경해주는\n",
    "\n",
    "멤버를 외부에서 매음대로 조작하게 내버려두는 것보다는 일정한 규칙을 마련하고 안전하게 액세스하도록"
   ]
  },
  {
   "cell_type": "code",
   "execution_count": 36,
   "metadata": {},
   "outputs": [],
   "source": [
    "kim.age = 46"
   ]
  },
  {
   "cell_type": "code",
   "execution_count": 37,
   "metadata": {},
   "outputs": [],
   "source": [
    "kim.name = \"정우성\""
   ]
  },
  {
   "cell_type": "code",
   "execution_count": 38,
   "metadata": {},
   "outputs": [
    {
     "name": "stdout",
     "output_type": "stream",
     "text": [
      "46살 정우성입니다\n",
      "학번 : 930011\n"
     ]
    }
   ],
   "source": [
    "kim.intro()"
   ]
  },
  {
   "cell_type": "code",
   "execution_count": 43,
   "metadata": {},
   "outputs": [],
   "source": [
    "class Date:\n",
    "    def __init__(self, month):\n",
    "        self.month = month\n",
    "    def getmonth(self):\n",
    "        return self.month\n",
    "    def setmonth(self, month):\n",
    "        if 1<= month <=12:\n",
    "            self.month = month"
   ]
  },
  {
   "cell_type": "code",
   "execution_count": 68,
   "metadata": {},
   "outputs": [],
   "source": [
    "today1 = Date(8)"
   ]
  },
  {
   "cell_type": "code",
   "execution_count": 69,
   "metadata": {},
   "outputs": [
    {
     "name": "stdout",
     "output_type": "stream",
     "text": [
      "8\n"
     ]
    }
   ],
   "source": [
    "print(today1.getmonth())"
   ]
  },
  {
   "cell_type": "code",
   "execution_count": 70,
   "metadata": {},
   "outputs": [],
   "source": [
    "today1.setmonth(15)"
   ]
  },
  {
   "cell_type": "code",
   "execution_count": 71,
   "metadata": {},
   "outputs": [
    {
     "name": "stdout",
     "output_type": "stream",
     "text": [
      "8\n"
     ]
    }
   ],
   "source": [
    "print(today1.getmonth())"
   ]
  },
  {
   "cell_type": "code",
   "execution_count": 72,
   "metadata": {},
   "outputs": [
    {
     "data": {
      "text/plain": [
       "15"
      ]
     },
     "execution_count": 72,
     "metadata": {},
     "output_type": "execute_result"
    }
   ],
   "source": [
    "# setter, getter 메서드 외에도 month 멤버를 사용하여 값을 변경할 수 있네?????? ㅜㅜㅜ\n",
    "today1.month =15\n",
    "today1.getmonth()"
   ]
  },
  {
   "cell_type": "code",
   "execution_count": 5,
   "metadata": {},
   "outputs": [],
   "source": [
    "class Date2:\n",
    "    def __init__(self, month):\n",
    "        self.inner_month = month\n",
    "    def getmonth(self):\n",
    "        return self.inner_month\n",
    "    def setmonth(self, month):\n",
    "        if 1<= month <=12:\n",
    "            self.inner_month = month \n",
    "    month = property(getmonth,setmonth)                     #property는 데커레이터로써 장식하는 것. 정의하기. month는 getmonth,setmonth만 사용해라"
   ]
  },
  {
   "cell_type": "code",
   "execution_count": 73,
   "metadata": {},
   "outputs": [],
   "source": [
    "today2 = Date2(8)"
   ]
  },
  {
   "cell_type": "code",
   "execution_count": 74,
   "metadata": {},
   "outputs": [
    {
     "name": "stdout",
     "output_type": "stream",
     "text": [
      "8\n"
     ]
    }
   ],
   "source": [
    "print(today2.getmonth())"
   ]
  },
  {
   "cell_type": "code",
   "execution_count": 81,
   "metadata": {},
   "outputs": [],
   "source": [
    "today2.month = 11                   # setter의 조건에 충족하니까 변경값 출력해줌"
   ]
  },
  {
   "cell_type": "code",
   "execution_count": 76,
   "metadata": {},
   "outputs": [
    {
     "name": "stdout",
     "output_type": "stream",
     "text": [
      "11\n"
     ]
    }
   ],
   "source": [
    "print(today2.getmonth())            "
   ]
  },
  {
   "cell_type": "code",
   "execution_count": 77,
   "metadata": {},
   "outputs": [],
   "source": [
    "today2.setmonth = 15                # 대입이 안됨!!!"
   ]
  },
  {
   "cell_type": "code",
   "execution_count": 78,
   "metadata": {},
   "outputs": [
    {
     "name": "stdout",
     "output_type": "stream",
     "text": [
      "11\n"
     ]
    }
   ],
   "source": [
    "print(today2.getmonth())"
   ]
  },
  {
   "cell_type": "code",
   "execution_count": 79,
   "metadata": {},
   "outputs": [],
   "source": [
    "today1.month = 15"
   ]
  },
  {
   "cell_type": "code",
   "execution_count": 80,
   "metadata": {},
   "outputs": [
    {
     "name": "stdout",
     "output_type": "stream",
     "text": [
      "15\n"
     ]
    }
   ],
   "source": [
    "print(today1.getmonth())"
   ]
  },
  {
   "cell_type": "code",
   "execution_count": 9,
   "metadata": {},
   "outputs": [],
   "source": [
    "# property = '@' 사용\n",
    "\n",
    "class Date3:\n",
    "    def __init__(self, month):\n",
    "        self.inner_month = month\n",
    "    @property\n",
    "    def month(self):\n",
    "        return self.inner_month\n",
    "    @month.setter\n",
    "    def month(self, month):\n",
    "        if 1<= month <=12:\n",
    "            self.inner_month = month "
   ]
  },
  {
   "cell_type": "code",
   "execution_count": 10,
   "metadata": {},
   "outputs": [],
   "source": [
    "today3 = Date3(8)"
   ]
  },
  {
   "cell_type": "code",
   "execution_count": null,
   "metadata": {},
   "outputs": [],
   "source": [
    "print(today3.month)"
   ]
  },
  {
   "cell_type": "code",
   "execution_count": 12,
   "metadata": {},
   "outputs": [],
   "source": [
    "today3.month  = 15"
   ]
  },
  {
   "cell_type": "code",
   "execution_count": 20,
   "metadata": {},
   "outputs": [
    {
     "name": "stdout",
     "output_type": "stream",
     "text": [
      "5\n"
     ]
    }
   ],
   "source": [
    "print(today3.month)   # 조건에 부합하지 않아서 대입 불가!"
   ]
  },
  {
   "cell_type": "code",
   "execution_count": 14,
   "metadata": {},
   "outputs": [],
   "source": [
    "today3.month = 11"
   ]
  },
  {
   "cell_type": "code",
   "execution_count": 15,
   "metadata": {},
   "outputs": [
    {
     "name": "stdout",
     "output_type": "stream",
     "text": [
      "11\n"
     ]
    }
   ],
   "source": [
    "print(today3.month)"
   ]
  },
  {
   "cell_type": "code",
   "execution_count": 18,
   "metadata": {},
   "outputs": [],
   "source": [
    "today3.inner_month = 5"
   ]
  },
  {
   "cell_type": "code",
   "execution_count": 19,
   "metadata": {},
   "outputs": [
    {
     "name": "stdout",
     "output_type": "stream",
     "text": [
      "5\n"
     ]
    }
   ],
   "source": [
    "print(today3.month)"
   ]
  },
  {
   "cell_type": "code",
   "execution_count": 22,
   "metadata": {},
   "outputs": [],
   "source": [
    "class Date4:\n",
    "    def __init__(self, month):\n",
    "        self.__month = month\n",
    "    def getmonth(self):\n",
    "        return self.__month\n",
    "    def setmonth(self, month):\n",
    "        if 1<= month <=12:\n",
    "            self.__month = month \n",
    "    month = property(getmonth,setmonth)"
   ]
  },
  {
   "cell_type": "code",
   "execution_count": 35,
   "metadata": {},
   "outputs": [],
   "source": [
    "today4 = Date4(8)"
   ]
  },
  {
   "cell_type": "code",
   "execution_count": 36,
   "metadata": {},
   "outputs": [
    {
     "name": "stdout",
     "output_type": "stream",
     "text": [
      "8\n"
     ]
    }
   ],
   "source": [
    "print(today4.getmonth())"
   ]
  },
  {
   "cell_type": "code",
   "execution_count": 37,
   "metadata": {},
   "outputs": [],
   "source": [
    "today4.__month = 15"
   ]
  },
  {
   "cell_type": "code",
   "execution_count": 38,
   "metadata": {},
   "outputs": [
    {
     "name": "stdout",
     "output_type": "stream",
     "text": [
      "8\n"
     ]
    }
   ],
   "source": [
    "print(today4.getmonth())"
   ]
  },
  {
   "cell_type": "code",
   "execution_count": 39,
   "metadata": {},
   "outputs": [],
   "source": [
    "today4.__month = 11                  # 조합에 부함해도 setmonth가 아니면 변경불가"
   ]
  },
  {
   "cell_type": "code",
   "execution_count": 40,
   "metadata": {},
   "outputs": [
    {
     "name": "stdout",
     "output_type": "stream",
     "text": [
      "8\n"
     ]
    }
   ],
   "source": [
    "print(today4.getmonth())"
   ]
  },
  {
   "cell_type": "code",
   "execution_count": 41,
   "metadata": {},
   "outputs": [],
   "source": [
    "today4.month = 1                    # setmonth 안했는데도?????"
   ]
  },
  {
   "cell_type": "code",
   "execution_count": 42,
   "metadata": {},
   "outputs": [
    {
     "name": "stdout",
     "output_type": "stream",
     "text": [
      "1\n"
     ]
    }
   ],
   "source": [
    "print(today4.getmonth())"
   ]
  },
  {
   "cell_type": "markdown",
   "metadata": {},
   "source": [
    "## 15-2. 클래스 메서드 -특정 객체에 대한 작업을 처리하는 것X, 클래스 전체가 공유"
   ]
  },
  {
   "cell_type": "markdown",
   "metadata": {},
   "source": [
    "클래스 메서드는 전역변수라고 생각하면 쉬을 듯"
   ]
  },
  {
   "cell_type": "code",
   "execution_count": 1,
   "metadata": {},
   "outputs": [],
   "source": [
    "class Car:\n",
    "    count = 0 \n",
    "    def __init__(self,name):\n",
    "        self.name = name\n",
    "        Car.count += 1\n",
    "    @classmethod                    # class메서드는 outcount \n",
    "    def outcount(cls):\n",
    "        print(cls.count)"
   ]
  },
  {
   "cell_type": "code",
   "execution_count": 2,
   "metadata": {},
   "outputs": [
    {
     "name": "stdout",
     "output_type": "stream",
     "text": [
      "2\n"
     ]
    }
   ],
   "source": [
    "pride = Car(\"프라이드\")\n",
    "korando = Car(\"코란도\")\n",
    "Car.outcount()"
   ]
  },
  {
   "cell_type": "code",
   "execution_count": 4,
   "metadata": {},
   "outputs": [
    {
     "name": "stdout",
     "output_type": "stream",
     "text": [
      "2\n"
     ]
    }
   ],
   "source": [
    "pride.outcount()         # 특정 객체에 대한 작업X"
   ]
  },
  {
   "cell_type": "code",
   "execution_count": 5,
   "metadata": {},
   "outputs": [],
   "source": [
    "sorento = Car(\"쏘렌토\")"
   ]
  },
  {
   "cell_type": "code",
   "execution_count": 6,
   "metadata": {},
   "outputs": [
    {
     "name": "stdout",
     "output_type": "stream",
     "text": [
      "3\n"
     ]
    }
   ],
   "source": [
    "sorento.outcount()"
   ]
  },
  {
   "cell_type": "code",
   "execution_count": 8,
   "metadata": {},
   "outputs": [
    {
     "name": "stdout",
     "output_type": "stream",
     "text": [
      "3\n"
     ]
    }
   ],
   "source": [
    "Car.outcount()           # 다른 객체.outcount()해도 값은 나오겠지만, 클래스.outcount()로 작성하는 것을 원칙적으로 본다"
   ]
  },
  {
   "cell_type": "code",
   "execution_count": 10,
   "metadata": {},
   "outputs": [],
   "source": [
    "class Car2:\n",
    "    count = 0 \n",
    "    def __init__(self,name):\n",
    "        self.name = name\n",
    "        Car.count += 1\n",
    "    #@classmethod                    # class메서드는 outcount \n",
    "    def outcount(cls):\n",
    "        print(cls.count)"
   ]
  },
  {
   "cell_type": "code",
   "execution_count": 11,
   "metadata": {},
   "outputs": [
    {
     "ename": "TypeError",
     "evalue": "outcount() missing 1 required positional argument: 'cls'",
     "output_type": "error",
     "traceback": [
      "\u001b[1;31m---------------------------------------------------------------------------\u001b[0m",
      "\u001b[1;31mTypeError\u001b[0m                                 Traceback (most recent call last)",
      "\u001b[1;32m<ipython-input-11-e1d374de9908>\u001b[0m in \u001b[0;36m<module>\u001b[1;34m\u001b[0m\n\u001b[0;32m      1\u001b[0m \u001b[0mpride\u001b[0m \u001b[1;33m=\u001b[0m \u001b[0mCar2\u001b[0m\u001b[1;33m(\u001b[0m\u001b[1;34m\"프라이드\"\u001b[0m\u001b[1;33m)\u001b[0m\u001b[1;33m\u001b[0m\u001b[1;33m\u001b[0m\u001b[0m\n\u001b[0;32m      2\u001b[0m \u001b[0mkorando\u001b[0m \u001b[1;33m=\u001b[0m \u001b[0mCar2\u001b[0m\u001b[1;33m(\u001b[0m\u001b[1;34m\"코란도\"\u001b[0m\u001b[1;33m)\u001b[0m\u001b[1;33m\u001b[0m\u001b[1;33m\u001b[0m\u001b[0m\n\u001b[1;32m----> 3\u001b[1;33m \u001b[0mCar2\u001b[0m\u001b[1;33m.\u001b[0m\u001b[0moutcount\u001b[0m\u001b[1;33m(\u001b[0m\u001b[1;33m)\u001b[0m\u001b[1;33m\u001b[0m\u001b[1;33m\u001b[0m\u001b[0m\n\u001b[0m",
      "\u001b[1;31mTypeError\u001b[0m: outcount() missing 1 required positional argument: 'cls'"
     ]
    }
   ],
   "source": [
    "pride = Car2(\"프라이드\")\n",
    "korando = Car2(\"코란도\")\n",
    "Car2.outcount()"
   ]
  },
  {
   "cell_type": "markdown",
   "metadata": {},
   "source": [
    "### 정적 메서드 - 특정 객체에 소속X, 클래스와 관련된 동작X\n",
    "지역메서드로 이해하기도 하지만 클래스나 객체와 직접적인 연관이 없다. 단순히 클래스에 소속되어 있을 뿐"
   ]
  },
  {
   "cell_type": "code",
   "execution_count": 12,
   "metadata": {},
   "outputs": [],
   "source": [
    "class Car:\n",
    "    @staticmethod\n",
    "    def hello():\n",
    "        print(\"오늘도 안전 운행 합시다\")\n",
    "    count = 0\n",
    "    def __init__(self,name):\n",
    "        self.name = name\n",
    "        Car.count += 1\n",
    "    @classmethod\n",
    "    def outcount(cls):\n",
    "        print(cls.count)"
   ]
  },
  {
   "cell_type": "code",
   "execution_count": 13,
   "metadata": {},
   "outputs": [
    {
     "name": "stdout",
     "output_type": "stream",
     "text": [
      "오늘도 안전 운행 합시다\n"
     ]
    }
   ],
   "source": [
    "Car.hello()"
   ]
  },
  {
   "cell_type": "markdown",
   "metadata": {},
   "source": [
    "### 연산자 메서드 - 대소문자 비교, 생년월일에 따라 다르게 반응하게"
   ]
  },
  {
   "cell_type": "code",
   "execution_count": 20,
   "metadata": {},
   "outputs": [],
   "source": [
    "class Human:\n",
    "    def __init__(self, age, name):\n",
    "        self.age = age\n",
    "        self.name = name\n",
    "    def __eq__(self,other):\n",
    "        return self.age == other.age and self.name == other.name          # 오버로딩"
   ]
  },
  {
   "cell_type": "code",
   "execution_count": 21,
   "metadata": {},
   "outputs": [
    {
     "name": "stdout",
     "output_type": "stream",
     "text": [
      "True\n",
      "False\n"
     ]
    }
   ],
   "source": [
    "kim = Human(29,\"김상형\")\n",
    "sang = Human(29, \"김상형\")\n",
    "moon = Human(44, \"문종민\")\n",
    "print(kim == sang)\n",
    "print(kim == moon)"
   ]
  },
  {
   "cell_type": "code",
   "execution_count": 26,
   "metadata": {},
   "outputs": [],
   "source": [
    "kang = Human(29, \"정우성\")"
   ]
  },
  {
   "cell_type": "code",
   "execution_count": 27,
   "metadata": {},
   "outputs": [
    {
     "name": "stdout",
     "output_type": "stream",
     "text": [
      "False\n"
     ]
    }
   ],
   "source": [
    "print(kang == kim)"
   ]
  },
  {
   "cell_type": "code",
   "execution_count": 28,
   "metadata": {},
   "outputs": [],
   "source": [
    "class Human:\n",
    "    def __init__(self, age, name):\n",
    "        self.age = age\n",
    "        self.name = name\n",
    "    #def __eq__(self,other):\n",
    "     #   return self.age == other.age and self.name == other.name "
   ]
  },
  {
   "cell_type": "code",
   "execution_count": 33,
   "metadata": {},
   "outputs": [
    {
     "name": "stdout",
     "output_type": "stream",
     "text": [
      "False\n",
      "False\n"
     ]
    }
   ],
   "source": [
    "kim = Human(29,\"김상형\")\n",
    "sang = Human(29, \"김상형\")\n",
    "moon = Human(44, \"문종민\")\n",
    "print(kim == sang)                  # equal 메서드를 사용하지 않으면 false. 내용은 같은데 왜?? = 저장되는 메모리의 주소는 달라서. 그리고 두개 이상 인자끼리 무엇과 무엇을 비교해야하는 지 모르니까\n",
    "print(kim == moon)                   # A = B  a라는 변수에 b를 대입하면 b는 a의 주소를 같이 쓰게 되는."
   ]
  },
  {
   "cell_type": "markdown",
   "metadata": {},
   "source": [
    "### 특수 메서드 : 특정한 구문에 객체 사용될 경우 미리 약속된 작업 수행"
   ]
  },
  {
   "cell_type": "code",
   "execution_count": 34,
   "metadata": {},
   "outputs": [],
   "source": [
    "# str(객체) 형식으로 객체를 문자열화한다.\n",
    "class Human:\n",
    "    def __init__(self,age,name):\n",
    "        self.age = age\n",
    "        self.name = name\n",
    "    def __str__(self):\n",
    "        return \"이름 %s, 나이 %d\" %(self.name, self.age)"
   ]
  },
  {
   "cell_type": "code",
   "execution_count": 35,
   "metadata": {},
   "outputs": [
    {
     "name": "stdout",
     "output_type": "stream",
     "text": [
      "이름 김상형, 나이 29\n"
     ]
    }
   ],
   "source": [
    "kim = Human(29, \"김상형\")\n",
    "print(kim)"
   ]
  },
  {
   "cell_type": "code",
   "execution_count": 36,
   "metadata": {},
   "outputs": [],
   "source": [
    "class Human:\n",
    "    def __init__(self,age,name):\n",
    "        self.age = age\n",
    "        self.name = name"
   ]
  },
  {
   "cell_type": "code",
   "execution_count": 38,
   "metadata": {},
   "outputs": [
    {
     "name": "stdout",
     "output_type": "stream",
     "text": [
      "<__main__.Human object at 0x000001CD268D6310>\n"
     ]
    }
   ],
   "source": [
    "kim = Human(29, \"김상형\")              # __str__ 함수가 없으면 객체의 소속과 번지가 출력된다\n",
    "print(kim)"
   ]
  },
  {
   "cell_type": "code",
   "execution_count": 39,
   "metadata": {},
   "outputs": [],
   "source": [
    "class Human:\n",
    "    def __init__(self,age,name):\n",
    "        self.age = age\n",
    "        self.name = name   \n",
    "    def __len__(self):\n",
    "        return len(self.name)      "
   ]
  },
  {
   "cell_type": "code",
   "execution_count": 41,
   "metadata": {},
   "outputs": [
    {
     "name": "stdout",
     "output_type": "stream",
     "text": [
      "<__main__.Human object at 0x000001CD268D6D00>\n",
      "3\n"
     ]
    }
   ],
   "source": [
    "kim = Human(29, \"김상형\")\n",
    "print(kim)\n",
    "print(len(kim))"
   ]
  },
  {
   "cell_type": "code",
   "execution_count": 42,
   "metadata": {},
   "outputs": [],
   "source": [
    "class Human:\n",
    "    def __init__(self,age,name):\n",
    "        self.age = age\n",
    "        self.name = name "
   ]
  },
  {
   "cell_type": "code",
   "execution_count": 43,
   "metadata": {},
   "outputs": [
    {
     "ename": "TypeError",
     "evalue": "object of type 'Human' has no len()",
     "output_type": "error",
     "traceback": [
      "\u001b[1;31m---------------------------------------------------------------------------\u001b[0m",
      "\u001b[1;31mTypeError\u001b[0m                                 Traceback (most recent call last)",
      "\u001b[1;32m<ipython-input-43-2f0a34587aa2>\u001b[0m in \u001b[0;36m<module>\u001b[1;34m\u001b[0m\n\u001b[0;32m      1\u001b[0m \u001b[0mkim\u001b[0m \u001b[1;33m=\u001b[0m \u001b[0mHuman\u001b[0m\u001b[1;33m(\u001b[0m\u001b[1;36m29\u001b[0m\u001b[1;33m,\u001b[0m \u001b[1;34m\"김상형\"\u001b[0m\u001b[1;33m)\u001b[0m\u001b[1;33m\u001b[0m\u001b[1;33m\u001b[0m\u001b[0m\n\u001b[1;32m----> 2\u001b[1;33m \u001b[0mprint\u001b[0m\u001b[1;33m(\u001b[0m\u001b[0mlen\u001b[0m\u001b[1;33m(\u001b[0m\u001b[0mkim\u001b[0m\u001b[1;33m)\u001b[0m\u001b[1;33m)\u001b[0m\u001b[1;33m\u001b[0m\u001b[1;33m\u001b[0m\u001b[0m\n\u001b[0m",
      "\u001b[1;31mTypeError\u001b[0m: object of type 'Human' has no len()"
     ]
    }
   ],
   "source": [
    "kim = Human(29, \"김상형\")   \n",
    "print(len(kim))                     # Human class에 len에 대한 함수가 없다."
   ]
  },
  {
   "cell_type": "markdown",
   "metadata": {},
   "source": [
    "---\n",
    "---\n",
    "---"
   ]
  },
  {
   "cell_type": "markdown",
   "metadata": {},
   "source": [
    "# 16장. 모듈과 패키지"
   ]
  },
  {
   "cell_type": "code",
   "execution_count": null,
   "metadata": {},
   "outputs": [],
   "source": [
    "모듈 - 파이썬 코드를 저장하는 기본 단위   ex) 'text.py' 를 모듈이라고 한다."
   ]
  },
  {
   "cell_type": "markdown",
   "metadata": {},
   "source": [
    "#- util.py를 쥬피터 노트북 경로에 저장\n",
    "\n",
    "INCH = 2.54\n",
    "\n",
    "def calcsum(n):\n",
    "    sum = 0\n",
    "    for num in range(n+1):\n",
    "        sum += num\n",
    "    return sum"
   ]
  },
  {
   "cell_type": "code",
   "execution_count": 50,
   "metadata": {},
   "outputs": [],
   "source": [
    "# 저장한 util.py 모듈을 불러오기 = import !!!! 사용\n",
    "import util     "
   ]
  },
  {
   "cell_type": "code",
   "execution_count": 47,
   "metadata": {},
   "outputs": [
    {
     "name": "stdout",
     "output_type": "stream",
     "text": [
      "1inch = 2.54\n"
     ]
    }
   ],
   "source": [
    "print(\"1inch =\",util.INCH)"
   ]
  },
  {
   "cell_type": "code",
   "execution_count": 48,
   "metadata": {},
   "outputs": [
    {
     "name": "stdout",
     "output_type": "stream",
     "text": [
      "~10 = 55\n"
     ]
    }
   ],
   "source": [
    "print(\"~10 =\", util.calcsum(10))"
   ]
  },
  {
   "cell_type": "markdown",
   "metadata": {},
   "source": [
    "### 테스트 코드"
   ]
  },
  {
   "cell_type": "markdown",
   "metadata": {},
   "source": [
    "#- util.py 생성\n",
    "\n",
    "INCH = 2.54\n",
    "\n",
    "def calcsum(n):\n",
    "    sum = 0\n",
    "    for num in range(n + 1):\n",
    "        sum += num\n",
    "    return sum\n",
    "\n",
    "if __name__ == \"__main__\":                  # 모듈이 많을 때, main 함수부터 쓴다는 걸 보여주기 위한 예문\n",
    "    print(\"인치 =\", INCH)\n",
    "    print(\"합계 =\", calcsum(10))\n"
   ]
  },
  {
   "cell_type": "code",
   "execution_count": null,
   "metadata": {},
   "outputs": [],
   "source": [
    "import util2"
   ]
  },
  {
   "cell_type": "code",
   "execution_count": 54,
   "metadata": {},
   "outputs": [
    {
     "name": "stdout",
     "output_type": "stream",
     "text": [
      "1inch = 2.54\n"
     ]
    }
   ],
   "source": [
    "print(\"1inch =\",util.INCH)"
   ]
  },
  {
   "cell_type": "code",
   "execution_count": 55,
   "metadata": {},
   "outputs": [
    {
     "name": "stdout",
     "output_type": "stream",
     "text": [
      "~10 = 55\n"
     ]
    }
   ],
   "source": [
    "print(\"~10 =\", util.calcsum(10))"
   ]
  },
  {
   "cell_type": "markdown",
   "metadata": {},
   "source": [
    "### 모듈 경로"
   ]
  },
  {
   "cell_type": "markdown",
   "metadata": {},
   "source": [
    "모듈은 임포트하는 파일과 같은 디렉토리에 있어야 한다."
   ]
  },
  {
   "cell_type": "code",
   "execution_count": 56,
   "metadata": {},
   "outputs": [],
   "source": [
    "import sys"
   ]
  },
  {
   "cell_type": "code",
   "execution_count": 57,
   "metadata": {},
   "outputs": [
    {
     "data": {
      "text/plain": [
       "['C:\\\\Users\\\\Hyuna\\\\송승은\\\\python',\n",
       " 'C:\\\\ProgramData\\\\Anaconda3\\\\python38.zip',\n",
       " 'C:\\\\ProgramData\\\\Anaconda3\\\\DLLs',\n",
       " 'C:\\\\ProgramData\\\\Anaconda3\\\\lib',\n",
       " 'C:\\\\ProgramData\\\\Anaconda3',\n",
       " '',\n",
       " 'C:\\\\ProgramData\\\\Anaconda3\\\\lib\\\\site-packages',\n",
       " 'C:\\\\ProgramData\\\\Anaconda3\\\\lib\\\\site-packages\\\\win32',\n",
       " 'C:\\\\ProgramData\\\\Anaconda3\\\\lib\\\\site-packages\\\\win32\\\\lib',\n",
       " 'C:\\\\ProgramData\\\\Anaconda3\\\\lib\\\\site-packages\\\\Pythonwin',\n",
       " 'C:\\\\ProgramData\\\\Anaconda3\\\\lib\\\\site-packages\\\\IPython\\\\extensions',\n",
       " 'C:\\\\Users\\\\Hyuna\\\\.ipython']"
      ]
     },
     "execution_count": 57,
     "metadata": {},
     "output_type": "execute_result"
    }
   ],
   "source": [
    "sys.path"
   ]
  },
  {
   "cell_type": "markdown",
   "metadata": {},
   "source": [
    "## 16-2. 패키지\n",
    "모듈을 담는 디렉토리. 계층 구성하면 모듈을 기능 등에 따라 분류 가능"
   ]
  },
  {
   "cell_type": "markdown",
   "metadata": {},
   "source": [
    "## 16-3. 서드 파티 모듈"
   ]
  },
  {
   "cell_type": "markdown",
   "metadata": {},
   "source": [
    "pip(Python Package Index) + install + 패키지 이름"
   ]
  },
  {
   "cell_type": "code",
   "execution_count": 64,
   "metadata": {},
   "outputs": [
    {
     "data": {
      "text/plain": [
       "0"
      ]
     },
     "execution_count": 64,
     "metadata": {},
     "output_type": "execute_result"
    }
   ],
   "source": [
    "# 그래픽 응용 프로그램을 생성하고 메인 윈도우를 띄운다\n",
    "\n",
    "import wx\n",
    "\n",
    "app = wx.App()\n",
    "frame = wx.Frame(None, 0, \"파이썬 만세\")\n",
    "\n",
    "frame.Show(True)\n",
    "app.MainLoop()"
   ]
  },
  {
   "cell_type": "code",
   "execution_count": 68,
   "metadata": {
    "scrolled": true
   },
   "outputs": [
    {
     "name": "stdout",
     "output_type": "stream",
     "text": [
      "서울 : 맑음(-11 ~ -2)\n",
      "인천 : 맑음(-9 ~ -2)\n",
      "수원 : 맑음(-11 ~ -1)\n",
      "파주 : 맑음(-15 ~ -3)\n",
      "이천 : 맑음(-12 ~ -2)\n",
      "평택 : 맑음(-10 ~ -1)\n",
      "춘천 : 맑음(-15 ~ -2)\n",
      "원주 : 맑음(-12 ~ -2)\n",
      "강릉 : 맑음(-7 ~ 1)\n",
      "대전 : 구름많음(-9 ~ 0)\n",
      "세종 : 구름많음(-10 ~ -1)\n",
      "홍성 : 구름많음(-10 ~ 0)\n",
      "청주 : 맑음(-9 ~ -1)\n",
      "충주 : 맑음(-12 ~ -2)\n",
      "영동 : 맑음(-10 ~ 0)\n",
      "광주 : 흐리고 눈(-5 ~ 1)\n",
      "목포 : 흐리고 눈(-3 ~ 2)\n",
      "여수 : 흐리고 눈(-4 ~ 2)\n",
      "순천 : 흐리고 눈(-5 ~ 2)\n",
      "광양 : 흐리고 눈(-4 ~ 2)\n",
      "나주 : 흐리고 눈(-5 ~ 2)\n",
      "전주 : 흐림(-6 ~ 0)\n",
      "군산 : 흐림(-7 ~ 1)\n",
      "정읍 : 흐림(-7 ~ 0)\n",
      "남원 : 흐림(-7 ~ 0)\n",
      "고창 : 흐림(-6 ~ 0)\n",
      "무주 : 흐림(-10 ~ -1)\n",
      "부산 : 구름많음(-5 ~ 3)\n",
      "울산 : 구름많음(-6 ~ 2)\n",
      "창원 : 구름많음(-6 ~ 2)\n",
      "진주 : 구름많음(-6 ~ 3)\n",
      "거창 : 구름많음(-9 ~ 1)\n",
      "통영 : 구름많음(-4 ~ 4)\n",
      "대구 : 맑음(-7 ~ 1)\n",
      "안동 : 맑음(-11 ~ -1)\n",
      "포항 : 맑음(-7 ~ 2)\n",
      "경주 : 맑음(-8 ~ 1)\n",
      "울진 : 맑음(-8 ~ 2)\n",
      "울릉도 : 맑음(-3 ~ 0)\n",
      "제주 : 흐리고 눈(1 ~ 4)\n",
      "서귀포 : 흐리고 눈(1 ~ 6)\n"
     ]
    }
   ],
   "source": [
    "from urllib import request\n",
    "import bs4\n",
    "\n",
    "target = request.urlopen(\"http://www.kma.go.kr/weather/forecast/mid-term-rss3.jsp?stnId=108\")\n",
    "soup = bs4.BeautifulSoup(target, \"html.parser\")\n",
    "\n",
    "for city in soup.select(\"location\"):\n",
    "    name = city.select_one(\"city\").string\n",
    "    wf = city.select_one(\"wf\").string\n",
    "    tmn = city.select_one(\"tmn\").string\n",
    "    tmx = city.select_one(\"tmx\").string\n",
    "    print(\"%s : %s(%s ~ %s)\" % (name, wf, tmn, tmx))\n"
   ]
  },
  {
   "cell_type": "markdown",
   "metadata": {},
   "source": [
    "# 17장. 고급문법 : 객체지향 -> 컴퓨터 지향"
   ]
  },
  {
   "cell_type": "markdown",
   "metadata": {},
   "source": [
    "## 17-1. 반복자"
   ]
  },
  {
   "cell_type": "code",
   "execution_count": null,
   "metadata": {},
   "outputs": [],
   "source": [
    "# 반복자로 요소를 순서대로 읽을 수 있는 것\n",
    "for 반복문\n",
    "    -컨테이너 순회\n",
    "        - __iter__메서드 호출하여 반복자 구하고,\n",
    "        - __next__메서드 호출하여 컨테이너 요소 읽으며 이동"
   ]
  },
  {
   "cell_type": "code",
   "execution_count": 70,
   "metadata": {},
   "outputs": [
    {
     "name": "stdout",
     "output_type": "stream",
     "text": [
      "11\n",
      "22\n",
      "33\n"
     ]
    }
   ],
   "source": [
    "for n in [11, 22,33]:\n",
    "    print(n)"
   ]
  },
  {
   "cell_type": "code",
   "execution_count": 69,
   "metadata": {},
   "outputs": [
    {
     "name": "stdout",
     "output_type": "stream",
     "text": [
      "11\n",
      "22\n",
      "33\n"
     ]
    }
   ],
   "source": [
    "nums = [11, 22, 33]\n",
    "it = iter(nums)\n",
    "while True:\n",
    "    try:\n",
    "        num = next(it)\n",
    "    except StopIteration:\n",
    "        break\n",
    "    print(num)"
   ]
  },
  {
   "cell_type": "code",
   "execution_count": 72,
   "metadata": {},
   "outputs": [
    {
     "name": "stdout",
     "output_type": "stream",
     "text": [
      "입춘,우수,경칩,춘분,청명,곡우,입하,소만,망종,하지,소서,대서,"
     ]
    }
   ],
   "source": [
    "class Seq:\n",
    "    def __init__(self, data):\n",
    "        self.data = data\n",
    "        self.index = -2\n",
    "    def __iter__(self):\n",
    "        return self\n",
    "    def __next__(self):\n",
    "        self.index += 2\n",
    "        if self.index >= len(self.data):\n",
    "            raise StopIteration\n",
    "        return self.data[self.index:self.index + 2]\n",
    "\n",
    "solarterm = Seq(\"입춘우수경칩춘분청명곡우입하소만망종하지소서대서\")\n",
    "for k in solarterm:\n",
    "    print(k, end=',')"
   ]
  },
  {
   "cell_type": "markdown",
   "metadata": {},
   "source": [
    "### 제너레이터 - 매번 반복자 관련 메서드 작성의 수고를 줄이는"
   ]
  },
  {
   "cell_type": "code",
   "execution_count": 73,
   "metadata": {},
   "outputs": [
    {
     "name": "stdout",
     "output_type": "stream",
     "text": [
      "입춘,우수,경칩,춘분,청명,곡우,입하,소만,망종,하지,소서,대서,"
     ]
    }
   ],
   "source": [
    "# yield 명령 = 값 반환, return문과 유사하되 변수의 마지막 값과 상태 저장\n",
    "\n",
    "def seqgen(data):\n",
    "    for index in range(0, len(data), 2):\n",
    "        yield data[index:index+2]\n",
    "\n",
    "solarterm = Seq(\"입춘우수경칩춘분청명곡우입하소만망종하지소서대서\")\n",
    "for k in solarterm:\n",
    "    print(k, end=',')"
   ]
  },
  {
   "cell_type": "code",
   "execution_count": 78,
   "metadata": {},
   "outputs": [
    {
     "name": "stdout",
     "output_type": "stream",
     "text": [
      "입춘,우수,경칩,춘분,청명,곡우,입하,소만,망종,하지,소서,대서,"
     ]
    }
   ],
   "source": [
    "# lambda 함수\n",
    "\n",
    "data =\"입춘우수경칩춘분청명곡우입하소만망종하지소서대서\"\n",
    "for k in (data[index:index+2] for index in range(0,len(data),2)):\n",
    "    print(k, end=',')"
   ]
  },
  {
   "cell_type": "markdown",
   "metadata": {},
   "source": [
    "### 데코레이터"
   ]
  },
  {
   "cell_type": "markdown",
   "metadata": {},
   "source": [
    "일급시민(변수, 함수) = 권한이 다 같다는 것."
   ]
  },
  {
   "cell_type": "code",
   "execution_count": 100,
   "metadata": {
    "scrolled": true
   },
   "outputs": [
    {
     "name": "stdout",
     "output_type": "stream",
     "text": [
      "3\n"
     ]
    }
   ],
   "source": [
    "# 함수나 변수나 권한이 같다\n",
    "\n",
    "def add(a,b):   # add = 함수,  두 정수를 더한 결과를 리턴하는\n",
    "    print(a+b)\n",
    "\n",
    "plus = add      # 함수를 plus라는 변수에 대입 가능.  add를 호출하나 plus를 호출하나 실행 결과는 같다\n",
    "plus(1, 2)"
   ]
  },
  {
   "cell_type": "code",
   "execution_count": 101,
   "metadata": {
    "scrolled": true
   },
   "outputs": [
    {
     "data": {
      "text/plain": [
       "1980626648368"
      ]
     },
     "execution_count": 101,
     "metadata": {},
     "output_type": "execute_result"
    }
   ],
   "source": [
    "id(add)"
   ]
  },
  {
   "cell_type": "code",
   "execution_count": 102,
   "metadata": {
    "scrolled": true
   },
   "outputs": [
    {
     "data": {
      "text/plain": [
       "1980626648368"
      ]
     },
     "execution_count": 102,
     "metadata": {},
     "output_type": "execute_result"
    }
   ],
   "source": [
    "id(plus)"
   ]
  },
  {
   "cell_type": "code",
   "execution_count": 113,
   "metadata": {},
   "outputs": [
    {
     "name": "stdout",
     "output_type": "stream",
     "text": [
      "2\n"
     ]
    }
   ],
   "source": [
    "def add(a,b):\n",
    "    print(a*b)\n",
    "    \n",
    "plus(1,2)              # plus의 주소가 위에 add 함수(a+b)에 적용되어 있기 때문에 값이 곱하기랑 상관없이 3으로 나옴"
   ]
  },
  {
   "cell_type": "code",
   "execution_count": 108,
   "metadata": {},
   "outputs": [
    {
     "data": {
      "text/plain": [
       "1980672265808"
      ]
     },
     "execution_count": 108,
     "metadata": {},
     "output_type": "execute_result"
    }
   ],
   "source": [
    "id(add)"
   ]
  },
  {
   "cell_type": "code",
   "execution_count": 109,
   "metadata": {},
   "outputs": [
    {
     "data": {
      "text/plain": [
       "1980626648368"
      ]
     },
     "execution_count": 109,
     "metadata": {},
     "output_type": "execute_result"
    }
   ],
   "source": [
    "id(plus)"
   ]
  },
  {
   "cell_type": "code",
   "execution_count": 111,
   "metadata": {
    "scrolled": true
   },
   "outputs": [
    {
     "name": "stdout",
     "output_type": "stream",
     "text": [
      "2\n"
     ]
    }
   ],
   "source": [
    "def add(a,b):\n",
    "    print(a*b)\n",
    "\n",
    "plus = add \n",
    "plus(1,2)"
   ]
  },
  {
   "cell_type": "code",
   "execution_count": 81,
   "metadata": {},
   "outputs": [
    {
     "name": "stdout",
     "output_type": "stream",
     "text": [
      "3\n",
      "12\n"
     ]
    }
   ],
   "source": [
    "def calc(op,a,b):\n",
    "    op(a,b)\n",
    "    \n",
    "def add(a,b):\n",
    "    print(a+b)\n",
    "    \n",
    "def multi(a,b):\n",
    "    print(a*b)\n",
    "    \n",
    "calc(add,1,2)\n",
    "calc(multi,3,4)"
   ]
  },
  {
   "cell_type": "markdown",
   "metadata": {},
   "source": [
    "### 지역함수 : 다른 함수 안에서 도움주는 함수"
   ]
  },
  {
   "cell_type": "code",
   "execution_count": 82,
   "metadata": {},
   "outputs": [
    {
     "name": "stdout",
     "output_type": "stream",
     "text": [
      "~ 10 = 55\n"
     ]
    }
   ],
   "source": [
    "def calcsum(n):\n",
    "    def add(a,b):  # 지역함수\n",
    "        return a+b\n",
    "\n",
    "    sum = 0\n",
    "    for i in range(n+1):\n",
    "        sum = add(sum,i)\n",
    "    return sum\n",
    "\n",
    "print(\"~ 10 =\", calcsum(10))"
   ]
  },
  {
   "cell_type": "code",
   "execution_count": 114,
   "metadata": {},
   "outputs": [],
   "source": [
    "def makeHello(message):\n",
    "    def hello(name):\n",
    "        print(message+\",\"+name)\n",
    "    return hello\n",
    "\n",
    "enghello = makeHello(\"Good Morning\")\n",
    "hanhello = makeHello(\"안녕하세요\")"
   ]
  },
  {
   "cell_type": "code",
   "execution_count": 115,
   "metadata": {},
   "outputs": [
    {
     "name": "stdout",
     "output_type": "stream",
     "text": [
      "Good Morning,Mr Kim\n",
      "안녕하세요,홍길동\n"
     ]
    }
   ],
   "source": [
    "enghello(\"Mr Kim\")\n",
    "hanhello(\"홍길동\")"
   ]
  }
 ],
 "metadata": {
  "kernelspec": {
   "display_name": "Python 3",
   "language": "python",
   "name": "python3"
  },
  "language_info": {
   "codemirror_mode": {
    "name": "ipython",
    "version": 3
   },
   "file_extension": ".py",
   "mimetype": "text/x-python",
   "name": "python",
   "nbconvert_exporter": "python",
   "pygments_lexer": "ipython3",
   "version": "3.8.5"
  }
 },
 "nbformat": 4,
 "nbformat_minor": 4
}
