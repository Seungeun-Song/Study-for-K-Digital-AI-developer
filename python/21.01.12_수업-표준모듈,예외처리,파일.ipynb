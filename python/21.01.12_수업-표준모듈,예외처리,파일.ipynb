{
 "cells": [
  {
   "cell_type": "markdown",
   "metadata": {},
   "source": [
    "# 12장 표준모듈 _수학, 시간, 난수, sys모듈"
   ]
  },
  {
   "cell_type": "markdown",
   "metadata": {},
   "source": [
    "모듈 -  파이썬 코드를 작성해 놓은 스크립트 파일.\n",
    "\n",
    "       이 안에 함수, 변수, 클래스 등이 정의되어 있다.\n",
    "\n",
    "       모든 것을 다 만들어 쓸 수는 없고 그럴 필요도 없다"
   ]
  },
  {
   "cell_type": "markdown",
   "metadata": {},
   "source": [
    "## 12-1. 수학"
   ]
  },
  {
   "cell_type": "code",
   "execution_count": 1,
   "metadata": {},
   "outputs": [
    {
     "ename": "NameError",
     "evalue": "name 'sqrt' is not defined",
     "output_type": "error",
     "traceback": [
      "\u001b[1;31m---------------------------------------------------------------------------\u001b[0m",
      "\u001b[1;31mNameError\u001b[0m                                 Traceback (most recent call last)",
      "\u001b[1;32m<ipython-input-1-fc87e550f4ba>\u001b[0m in \u001b[0;36m<module>\u001b[1;34m\u001b[0m\n\u001b[1;32m----> 1\u001b[1;33m \u001b[0mprint\u001b[0m\u001b[1;33m(\u001b[0m\u001b[0msqrt\u001b[0m\u001b[1;33m(\u001b[0m\u001b[1;36m2\u001b[0m\u001b[1;33m)\u001b[0m\u001b[1;33m)\u001b[0m\u001b[1;33m\u001b[0m\u001b[1;33m\u001b[0m\u001b[0m\n\u001b[0m",
      "\u001b[1;31mNameError\u001b[0m: name 'sqrt' is not defined"
     ]
    }
   ],
   "source": [
    "print(sqrt(2))   # 제곱근"
   ]
  },
  {
   "cell_type": "code",
   "execution_count": 9,
   "metadata": {},
   "outputs": [
    {
     "name": "stdout",
     "output_type": "stream",
     "text": [
      "1.4142135623730951\n"
     ]
    }
   ],
   "source": [
    "# import     math라는 모듈을 실행.\n",
    "\n",
    "import math\n",
    "print(math.sqrt(2))"
   ]
  },
  {
   "cell_type": "code",
   "execution_count": 3,
   "metadata": {},
   "outputs": [
    {
     "name": "stdout",
     "output_type": "stream",
     "text": [
      "0.9092974268256817\n"
     ]
    }
   ],
   "source": [
    "import math\n",
    "print(math.sin(2))"
   ]
  },
  {
   "cell_type": "code",
   "execution_count": 4,
   "metadata": {},
   "outputs": [
    {
     "name": "stdout",
     "output_type": "stream",
     "text": [
      "-0.4161468365471424\n"
     ]
    }
   ],
   "source": [
    "import math\n",
    "print(math.cos(2))"
   ]
  },
  {
   "cell_type": "code",
   "execution_count": 5,
   "metadata": {},
   "outputs": [
    {
     "name": "stdout",
     "output_type": "stream",
     "text": [
      "0.6931471805599453\n"
     ]
    }
   ],
   "source": [
    "import math\n",
    "print(math.log(2))"
   ]
  },
  {
   "cell_type": "code",
   "execution_count": 10,
   "metadata": {},
   "outputs": [
    {
     "name": "stdout",
     "output_type": "stream",
     "text": [
      "1.4142135623730951\n"
     ]
    }
   ],
   "source": [
    "# from ~ import ~\n",
    "\n",
    "from math import sqrt\n",
    "print(sqrt(2))"
   ]
  },
  {
   "cell_type": "code",
   "execution_count": 13,
   "metadata": {},
   "outputs": [
    {
     "name": "stdout",
     "output_type": "stream",
     "text": [
      "1.4142135623730951\n"
     ]
    }
   ],
   "source": [
    "# import ~ as\n",
    "\n",
    "import math as m\n",
    "print(m.sqrt(2))"
   ]
  },
  {
   "cell_type": "code",
   "execution_count": 12,
   "metadata": {},
   "outputs": [
    {
     "name": "stdout",
     "output_type": "stream",
     "text": [
      "1.4142135623730951\n"
     ]
    }
   ],
   "source": [
    "# from ~ import ~ as\n",
    "\n",
    "from math import sqrt as sq\n",
    "print(sq(2))"
   ]
  },
  {
   "cell_type": "code",
   "execution_count": 14,
   "metadata": {},
   "outputs": [],
   "source": [
    "#  m. + tab  => math 안에 있는 함수를 찾을 수 있어"
   ]
  },
  {
   "cell_type": "code",
   "execution_count": 15,
   "metadata": {
    "scrolled": true
   },
   "outputs": [
    {
     "data": {
      "text/plain": [
       "['__doc__',\n",
       " '__loader__',\n",
       " '__name__',\n",
       " '__package__',\n",
       " '__spec__',\n",
       " 'acos',\n",
       " 'acosh',\n",
       " 'asin',\n",
       " 'asinh',\n",
       " 'atan',\n",
       " 'atan2',\n",
       " 'atanh',\n",
       " 'ceil',\n",
       " 'comb',\n",
       " 'copysign',\n",
       " 'cos',\n",
       " 'cosh',\n",
       " 'degrees',\n",
       " 'dist',\n",
       " 'e',\n",
       " 'erf',\n",
       " 'erfc',\n",
       " 'exp',\n",
       " 'expm1',\n",
       " 'fabs',\n",
       " 'factorial',\n",
       " 'floor',\n",
       " 'fmod',\n",
       " 'frexp',\n",
       " 'fsum',\n",
       " 'gamma',\n",
       " 'gcd',\n",
       " 'hypot',\n",
       " 'inf',\n",
       " 'isclose',\n",
       " 'isfinite',\n",
       " 'isinf',\n",
       " 'isnan',\n",
       " 'isqrt',\n",
       " 'ldexp',\n",
       " 'lgamma',\n",
       " 'log',\n",
       " 'log10',\n",
       " 'log1p',\n",
       " 'log2',\n",
       " 'modf',\n",
       " 'nan',\n",
       " 'perm',\n",
       " 'pi',\n",
       " 'pow',\n",
       " 'prod',\n",
       " 'radians',\n",
       " 'remainder',\n",
       " 'sin',\n",
       " 'sinh',\n",
       " 'sqrt',\n",
       " 'tan',\n",
       " 'tanh',\n",
       " 'tau',\n",
       " 'trunc']"
      ]
     },
     "execution_count": 15,
     "metadata": {},
     "output_type": "execute_result"
    }
   ],
   "source": [
    "dir(math)  # math 내장 함수"
   ]
  },
  {
   "cell_type": "code",
   "execution_count": 21,
   "metadata": {},
   "outputs": [
    {
     "ename": "Terminator",
     "evalue": "",
     "output_type": "error",
     "traceback": [
      "\u001b[1;31m---------------------------------------------------------------------------\u001b[0m",
      "\u001b[1;31mTerminator\u001b[0m                                Traceback (most recent call last)",
      "\u001b[1;32m<ipython-input-21-195a5bf60e54>\u001b[0m in \u001b[0;36m<module>\u001b[1;34m\u001b[0m\n\u001b[0;32m      8\u001b[0m \u001b[0mt\u001b[0m\u001b[1;33m.\u001b[0m\u001b[0mpendown\u001b[0m\u001b[1;33m(\u001b[0m\u001b[1;33m)\u001b[0m\u001b[1;33m\u001b[0m\u001b[1;33m\u001b[0m\u001b[0m\n\u001b[0;32m      9\u001b[0m \u001b[1;32mfor\u001b[0m \u001b[0mx\u001b[0m \u001b[1;32min\u001b[0m \u001b[0mrange\u001b[0m\u001b[1;33m(\u001b[0m\u001b[1;33m-\u001b[0m\u001b[1;36m720\u001b[0m\u001b[1;33m,\u001b[0m \u001b[1;36m720\u001b[0m\u001b[1;33m)\u001b[0m \u001b[1;33m:\u001b[0m\u001b[1;33m\u001b[0m\u001b[1;33m\u001b[0m\u001b[0m\n\u001b[1;32m---> 10\u001b[1;33m     \u001b[0mt\u001b[0m\u001b[1;33m.\u001b[0m\u001b[0mgoto\u001b[0m\u001b[1;33m(\u001b[0m\u001b[0mx\u001b[0m\u001b[1;33m,\u001b[0m \u001b[0mmath\u001b[0m\u001b[1;33m.\u001b[0m\u001b[0msin\u001b[0m\u001b[1;33m(\u001b[0m\u001b[0mmath\u001b[0m\u001b[1;33m.\u001b[0m\u001b[0mradians\u001b[0m\u001b[1;33m(\u001b[0m\u001b[0mx\u001b[0m\u001b[1;33m)\u001b[0m\u001b[1;33m)\u001b[0m \u001b[1;33m*\u001b[0m \u001b[1;36m100\u001b[0m\u001b[1;33m)\u001b[0m\u001b[1;33m\u001b[0m\u001b[1;33m\u001b[0m\u001b[0m\n\u001b[0m\u001b[0;32m     11\u001b[0m \u001b[0mt\u001b[0m\u001b[1;33m.\u001b[0m\u001b[0mdone\u001b[0m\u001b[1;33m(\u001b[0m\u001b[1;33m)\u001b[0m\u001b[1;33m\u001b[0m\u001b[1;33m\u001b[0m\u001b[0m\n",
      "\u001b[1;32mC:\\ProgramData\\Anaconda3\\lib\\turtle.py\u001b[0m in \u001b[0;36mgoto\u001b[1;34m(x, y)\u001b[0m\n",
      "\u001b[1;31mTerminator\u001b[0m: "
     ]
    }
   ],
   "source": [
    "# 터틀 그래픽을 사용하여 -720 ~ 720도까지 각도를 바꿔가면 사인곡선 그리기\n",
    "\n",
    "import math\n",
    "import turtle as t\n",
    "\n",
    "t.penup()\n",
    "t.goto(-720,0)\n",
    "t.pendown()\n",
    "for x in range(-720, 720) :\n",
    "    t.goto(x, math.sin(math.radians(x)) * 100)\n",
    "t.done()"
   ]
  },
  {
   "cell_type": "code",
   "execution_count": 23,
   "metadata": {},
   "outputs": [
    {
     "name": "stdout",
     "output_type": "stream",
     "text": [
      "61.666666666666664\n",
      "53.14586994727592\n",
      "65.0\n",
      "60\n",
      "70\n"
     ]
    }
   ],
   "source": [
    "# 성적 데이터에 대한 통계 값\n",
    "\n",
    "import statistics\n",
    "\n",
    "score = [30, 40, 60, 70, 80, 90]\n",
    "print(statistics.mean(score))\n",
    "print(statistics.harmonic_mean(score))\n",
    "print(statistics.median(score))\n",
    "print(statistics.median_low(score))\n",
    "print(statistics.median_high(score))"
   ]
  },
  {
   "cell_type": "markdown",
   "metadata": {},
   "source": [
    "## 12-2. 시간\n",
    "time 모듈은 날짜와 시간 관련 기능을 제공.\n",
    "\n",
    "대표적인 함수는 현재 시간을 조사하는 time이다."
   ]
  },
  {
   "cell_type": "markdown",
   "metadata": {},
   "source": [
    "### 시간 조사"
   ]
  },
  {
   "cell_type": "code",
   "execution_count": 41,
   "metadata": {},
   "outputs": [
    {
     "name": "stdout",
     "output_type": "stream",
     "text": [
      "1610417060.5502872\n"
     ]
    }
   ],
   "source": [
    "import time\n",
    "print(time.time()) \n",
    "# 1970년부터 2018년까지의 현재시간이 16억 초가 지났다는 뜻."
   ]
  },
  {
   "cell_type": "code",
   "execution_count": 30,
   "metadata": {},
   "outputs": [
    {
     "name": "stdout",
     "output_type": "stream",
     "text": [
      "Tue Jan 12 10:35:40 2021\n"
     ]
    }
   ],
   "source": [
    "# 보기 쉽게 C타임으로 \n",
    "\n",
    "import time\n",
    "\n",
    "t = time.time()\n",
    "print(time.ctime(t))"
   ]
  },
  {
   "cell_type": "code",
   "execution_count": 31,
   "metadata": {},
   "outputs": [
    {
     "name": "stdout",
     "output_type": "stream",
     "text": [
      "Tue Jan 12 10:38:05 2021\n"
     ]
    }
   ],
   "source": [
    "print(time.ctime())    # 빈 공백은 디폴트라는 뜻. (t)를 넣는, 함수를 만들어서더 사용가능."
   ]
  },
  {
   "cell_type": "code",
   "execution_count": 47,
   "metadata": {},
   "outputs": [
    {
     "name": "stdout",
     "output_type": "stream",
     "text": [
      "time.struct_time(tm_year=2021, tm_mon=1, tm_mday=12, tm_hour=11, tm_min=11, tm_sec=28, tm_wday=1, tm_yday=12, tm_isdst=0)\n"
     ]
    }
   ],
   "source": [
    "# 지역시간에 맞춰서\n",
    "\n",
    "print(time.localtime())\n",
    "\n",
    "#struct = 구조체  (ex, 이름, 주소, 핸드폰번호 등을 구조로 만드는)\n",
    "# 에폭 시간을 인수로 주면 시간 요소를 멤버로 가지는 struct_time형의 객체를 리턴"
   ]
  },
  {
   "cell_type": "code",
   "execution_count": 38,
   "metadata": {},
   "outputs": [
    {
     "name": "stdout",
     "output_type": "stream",
     "text": [
      "2021년 1월 12일\n",
      "10:44:11\n"
     ]
    }
   ],
   "source": [
    "now = time.localtime()\n",
    "print(\"%d년 %d월 %d일\" % (now.tm_year, now.tm_mon, now.tm_mday))\n",
    "print(\"%d:%d:%d\" %(now.tm_hour, now.tm_min, now.tm_sec))"
   ]
  },
  {
   "cell_type": "code",
   "execution_count": 39,
   "metadata": {},
   "outputs": [
    {
     "name": "stdout",
     "output_type": "stream",
     "text": [
      "2021년 1월 12일\n",
      "10:48:56\n"
     ]
    }
   ],
   "source": [
    "# localtime 모듈 대신 datetime 모듈의 now 함수(또는 today함수)를 사용해도 현재 지역시간 구할 수 있다\n",
    "\n",
    "import datetime\n",
    "\n",
    "now = datetime.datetime.now()\n",
    "print(\"%d년 %d월 %d일\" % (now.year, now.month, now.day))\n",
    "print(\"%d:%d:%d\" %(now.hour, now.minute, now.second))"
   ]
  },
  {
   "cell_type": "code",
   "execution_count": 40,
   "metadata": {},
   "outputs": [
    {
     "name": "stdout",
     "output_type": "stream",
     "text": [
      "2021년 1월 12일\n",
      "10:49:29\n"
     ]
    }
   ],
   "source": [
    "from datetime import datetime\n",
    "\n",
    "now = datetime.now()\n",
    "print(\"%d년 %d월 %d일\" % (now.year, now.month, now.day))\n",
    "print(\"%d:%d:%d\" %(now.hour, now.minute, now.second))"
   ]
  },
  {
   "cell_type": "markdown",
   "metadata": {},
   "source": [
    "### 실행 시간 측정"
   ]
  },
  {
   "cell_type": "code",
   "execution_count": 46,
   "metadata": {},
   "outputs": [
    {
     "name": "stdout",
     "output_type": "stream",
     "text": [
      "0,1,2,3,4,5,6,7,8,9,10,11,12,13,14,15,16,17,18,19,20,21,22,23,24,25,26,27,28,29,30,31,32,33,34,35,36,37,38,39,40,41,42,43,44,45,46,47,48,49,50,51,52,53,54,55,56,57,58,59,60,61,62,63,64,65,66,67,68,69,70,71,72,73,74,75,76,77,78,79,80,81,82,83,84,85,86,87,88,89,90,91,92,93,94,95,96,97,98,99,100,101,102,103,104,105,106,107,108,109,110,111,112,113,114,115,116,117,118,119,120,121,122,123,124,125,126,127,128,129,130,131,132,133,134,135,136,137,138,139,140,141,142,143,144,145,146,147,148,149,150,151,152,153,154,155,156,157,158,159,160,161,162,163,164,165,166,167,168,169,170,171,172,173,174,175,176,177,178,179,180,181,182,183,184,185,186,187,188,189,190,191,192,193,194,195,196,197,198,199,200,201,202,203,204,205,206,207,208,209,210,211,212,213,214,215,216,217,218,219,220,221,222,223,224,225,226,227,228,229,230,231,232,233,234,235,236,237,238,239,240,241,242,243,244,245,246,247,248,249,250,251,252,253,254,255,256,257,258,259,260,261,262,263,264,265,266,267,268,269,270,271,272,273,274,275,276,277,278,279,280,281,282,283,284,285,286,287,288,289,290,291,292,293,294,295,296,297,298,299,300,301,302,303,304,305,306,307,308,309,310,311,312,313,314,315,316,317,318,319,320,321,322,323,324,325,326,327,328,329,330,331,332,333,334,335,336,337,338,339,340,341,342,343,344,345,346,347,348,349,350,351,352,353,354,355,356,357,358,359,360,361,362,363,364,365,366,367,368,369,370,371,372,373,374,375,376,377,378,379,380,381,382,383,384,385,386,387,388,389,390,391,392,393,394,395,396,397,398,399,400,401,402,403,404,405,406,407,408,409,410,411,412,413,414,415,416,417,418,419,420,421,422,423,424,425,426,427,428,429,430,431,432,433,434,435,436,437,438,439,440,441,442,443,444,445,446,447,448,449,450,451,452,453,454,455,456,457,458,459,460,461,462,463,464,465,466,467,468,469,470,471,472,473,474,475,476,477,478,479,480,481,482,483,484,485,486,487,488,489,490,491,492,493,494,495,496,497,498,499,500,501,502,503,504,505,506,507,508,509,510,511,512,513,514,515,516,517,518,519,520,521,522,523,524,525,526,527,528,529,530,531,532,533,534,535,536,537,538,539,540,541,542,543,544,545,546,547,548,549,550,551,552,553,554,555,556,557,558,559,560,561,562,563,564,565,566,567,568,569,570,571,572,573,574,575,576,577,578,579,580,581,582,583,584,585,586,587,588,589,590,591,592,593,594,595,596,597,598,599,600,601,602,603,604,605,606,607,608,609,610,611,612,613,614,615,616,617,618,619,620,621,622,623,624,625,626,627,628,629,630,631,632,633,634,635,636,637,638,639,640,641,642,643,644,645,646,647,648,649,650,651,652,653,654,655,656,657,658,659,660,661,662,663,664,665,666,667,668,669,670,671,672,673,674,675,676,677,678,679,680,681,682,683,684,685,686,687,688,689,690,691,692,693,694,695,696,697,698,699,700,701,702,703,704,705,706,707,708,709,710,711,712,713,714,715,716,717,718,719,720,721,722,723,724,725,726,727,728,729,730,731,732,733,734,735,736,737,738,739,740,741,742,743,744,745,746,747,748,749,750,751,752,753,754,755,756,757,758,759,760,761,762,763,764,765,766,767,768,769,770,771,772,773,774,775,776,777,778,779,780,781,782,783,784,785,786,787,788,789,790,791,792,793,794,795,796,797,798,799,800,801,802,803,804,805,806,807,808,809,810,811,812,813,814,815,816,817,818,819,820,821,822,823,824,825,826,827,828,829,830,831,832,833,834,835,836,837,838,839,840,841,842,843,844,845,846,847,848,849,850,851,852,853,854,855,856,857,858,859,860,861,862,863,864,865,866,867,868,869,870,871,872,873,874,875,876,877,878,879,880,881,882,883,884,885,886,887,888,889,890,891,892,893,894,895,896,897,898,899,900,901,902,903,904,905,906,907,908,909,910,911,912,913,914,915,916,917,918,919,920,921,922,923,924,925,926,927,928,929,930,931,932,933,934,935,936,937,938,939,940,941,942,943,944,945,946,947,948,949,950,951,952,953,954,955,956,957,958,959,960,961,962,963,964,965,966,967,968,969,970,971,972,973,974,975,976,977,978,979,980,981,982,983,984,985,986,987,988,989,990,991,992,993,994,995,996,997,998,999,0.06067466735839844\n"
     ]
    }
   ],
   "source": [
    "import time\n",
    "\n",
    "start = time.time()\n",
    "for a in range(1000):\n",
    "    #print(a)\n",
    "    #pass\n",
    "    print(a, end=',')\n",
    "end = time.time()\n",
    "print(end - start)"
   ]
  },
  {
   "cell_type": "code",
   "execution_count": 48,
   "metadata": {},
   "outputs": [
    {
     "name": "stdout",
     "output_type": "stream",
     "text": [
      "안녕하세요\n",
      "밤에 성시경이 두 명 있으면 뭘까요?\n",
      "야간투시경입니다\n"
     ]
    }
   ],
   "source": [
    "# sleep 함수는 cpu를 지정한 시간만큼 잠재워 시간을 끈다\n",
    "\n",
    "import time\n",
    "\n",
    "print('안녕하세요')\n",
    "time.sleep(2)\n",
    "print('밤에 성시경이 두 명 있으면 뭘까요?')\n",
    "time.sleep(5)\n",
    "print('야간투시경입니다')"
   ]
  },
  {
   "cell_type": "code",
   "execution_count": 52,
   "metadata": {
    "scrolled": true
   },
   "outputs": [
    {
     "name": "stdout",
     "output_type": "stream",
     "text": [
      "2 단\n",
      "2 * 1 = 2\n",
      "2 * 2 = 4\n",
      "2 * 3 = 6\n",
      "2 * 4 = 8\n",
      "2 * 5 = 10\n",
      "2 * 6 = 12\n",
      "2 * 7 = 14\n",
      "2 * 8 = 16\n",
      "2 * 9 = 18\n",
      "\n",
      "3 단\n",
      "3 * 1 = 3\n",
      "3 * 2 = 6\n",
      "3 * 3 = 9\n",
      "3 * 4 = 12\n",
      "3 * 5 = 15\n",
      "3 * 6 = 18\n",
      "3 * 7 = 21\n",
      "3 * 8 = 24\n",
      "3 * 9 = 27\n",
      "\n",
      "4 단\n",
      "4 * 1 = 4\n",
      "4 * 2 = 8\n",
      "4 * 3 = 12\n",
      "4 * 4 = 16\n",
      "4 * 5 = 20\n",
      "4 * 6 = 24\n",
      "4 * 7 = 28\n",
      "4 * 8 = 32\n",
      "4 * 9 = 36\n",
      "\n",
      "5 단\n",
      "5 * 1 = 5\n",
      "5 * 2 = 10\n",
      "5 * 3 = 15\n",
      "5 * 4 = 20\n",
      "5 * 5 = 25\n"
     ]
    },
    {
     "ename": "KeyboardInterrupt",
     "evalue": "",
     "output_type": "error",
     "traceback": [
      "\u001b[1;31m---------------------------------------------------------------------------\u001b[0m",
      "\u001b[1;31mKeyboardInterrupt\u001b[0m                         Traceback (most recent call last)",
      "\u001b[1;32m<ipython-input-52-d50334e60eb2>\u001b[0m in \u001b[0;36m<module>\u001b[1;34m\u001b[0m\n\u001b[0;32m      6\u001b[0m     \u001b[1;32mfor\u001b[0m \u001b[0mhang\u001b[0m \u001b[1;32min\u001b[0m \u001b[0mrange\u001b[0m\u001b[1;33m(\u001b[0m\u001b[1;36m1\u001b[0m\u001b[1;33m,\u001b[0m\u001b[1;36m10\u001b[0m\u001b[1;33m)\u001b[0m\u001b[1;33m:\u001b[0m\u001b[1;33m\u001b[0m\u001b[1;33m\u001b[0m\u001b[0m\n\u001b[0;32m      7\u001b[0m         \u001b[0mprint\u001b[0m\u001b[1;33m(\u001b[0m\u001b[0mdan\u001b[0m\u001b[1;33m,\u001b[0m \u001b[1;34m'*'\u001b[0m\u001b[1;33m,\u001b[0m \u001b[0mhang\u001b[0m\u001b[1;33m,\u001b[0m \u001b[1;34m'='\u001b[0m\u001b[1;33m,\u001b[0m \u001b[0mdan\u001b[0m\u001b[1;33m*\u001b[0m\u001b[0mhang\u001b[0m\u001b[1;33m)\u001b[0m\u001b[1;33m\u001b[0m\u001b[1;33m\u001b[0m\u001b[0m\n\u001b[1;32m----> 8\u001b[1;33m         \u001b[0mtime\u001b[0m\u001b[1;33m.\u001b[0m\u001b[0msleep\u001b[0m\u001b[1;33m(\u001b[0m\u001b[1;36m0.5\u001b[0m\u001b[1;33m)\u001b[0m\u001b[1;33m\u001b[0m\u001b[1;33m\u001b[0m\u001b[0m\n\u001b[0m\u001b[0;32m      9\u001b[0m     \u001b[0mprint\u001b[0m\u001b[1;33m(\u001b[0m\u001b[1;33m)\u001b[0m\u001b[1;33m\u001b[0m\u001b[1;33m\u001b[0m\u001b[0m\n\u001b[0;32m     10\u001b[0m     \u001b[0mtime\u001b[0m\u001b[1;33m.\u001b[0m\u001b[0msleep\u001b[0m\u001b[1;33m(\u001b[0m\u001b[1;36m1\u001b[0m\u001b[1;33m)\u001b[0m\u001b[1;33m\u001b[0m\u001b[1;33m\u001b[0m\u001b[0m\n",
      "\u001b[1;31mKeyboardInterrupt\u001b[0m: "
     ]
    }
   ],
   "source": [
    "import time\n",
    "\n",
    "for dan in range(2,10):\n",
    "    print(dan, '단')\n",
    "    time.sleep(0.5)\n",
    "    for hang in range(1,10):\n",
    "        print(dan, '*', hang, '=', dan*hang)\n",
    "        time.sleep(0.5)\n",
    "    print()\n",
    "    time.sleep(1)\n",
    "        "
   ]
  },
  {
   "cell_type": "code",
   "execution_count": 54,
   "metadata": {},
   "outputs": [
    {
     "name": "stdout",
     "output_type": "stream",
     "text": [
      "                                  2021\n",
      "\n",
      "      January                   February                   March\n",
      "Mo Tu We Th Fr Sa Su      Mo Tu We Th Fr Sa Su      Mo Tu We Th Fr Sa Su\n",
      "             1  2  3       1  2  3  4  5  6  7       1  2  3  4  5  6  7\n",
      " 4  5  6  7  8  9 10       8  9 10 11 12 13 14       8  9 10 11 12 13 14\n",
      "11 12 13 14 15 16 17      15 16 17 18 19 20 21      15 16 17 18 19 20 21\n",
      "18 19 20 21 22 23 24      22 23 24 25 26 27 28      22 23 24 25 26 27 28\n",
      "25 26 27 28 29 30 31                                29 30 31\n",
      "\n",
      "       April                      May                       June\n",
      "Mo Tu We Th Fr Sa Su      Mo Tu We Th Fr Sa Su      Mo Tu We Th Fr Sa Su\n",
      "          1  2  3  4                      1  2          1  2  3  4  5  6\n",
      " 5  6  7  8  9 10 11       3  4  5  6  7  8  9       7  8  9 10 11 12 13\n",
      "12 13 14 15 16 17 18      10 11 12 13 14 15 16      14 15 16 17 18 19 20\n",
      "19 20 21 22 23 24 25      17 18 19 20 21 22 23      21 22 23 24 25 26 27\n",
      "26 27 28 29 30            24 25 26 27 28 29 30      28 29 30\n",
      "                          31\n",
      "\n",
      "        July                     August                  September\n",
      "Mo Tu We Th Fr Sa Su      Mo Tu We Th Fr Sa Su      Mo Tu We Th Fr Sa Su\n",
      "          1  2  3  4                         1             1  2  3  4  5\n",
      " 5  6  7  8  9 10 11       2  3  4  5  6  7  8       6  7  8  9 10 11 12\n",
      "12 13 14 15 16 17 18       9 10 11 12 13 14 15      13 14 15 16 17 18 19\n",
      "19 20 21 22 23 24 25      16 17 18 19 20 21 22      20 21 22 23 24 25 26\n",
      "26 27 28 29 30 31         23 24 25 26 27 28 29      27 28 29 30\n",
      "                          30 31\n",
      "\n",
      "      October                   November                  December\n",
      "Mo Tu We Th Fr Sa Su      Mo Tu We Th Fr Sa Su      Mo Tu We Th Fr Sa Su\n",
      "             1  2  3       1  2  3  4  5  6  7             1  2  3  4  5\n",
      " 4  5  6  7  8  9 10       8  9 10 11 12 13 14       6  7  8  9 10 11 12\n",
      "11 12 13 14 15 16 17      15 16 17 18 19 20 21      13 14 15 16 17 18 19\n",
      "18 19 20 21 22 23 24      22 23 24 25 26 27 28      20 21 22 23 24 25 26\n",
      "25 26 27 28 29 30 31      29 30                     27 28 29 30 31\n",
      "\n"
     ]
    },
    {
     "ename": "AttributeError",
     "evalue": "module 'calendar' has no attribute 'themonth'",
     "output_type": "error",
     "traceback": [
      "\u001b[1;31m---------------------------------------------------------------------------\u001b[0m",
      "\u001b[1;31mAttributeError\u001b[0m                            Traceback (most recent call last)",
      "\u001b[1;32m<ipython-input-54-a16f779e945a>\u001b[0m in \u001b[0;36m<module>\u001b[1;34m\u001b[0m\n\u001b[0;32m      2\u001b[0m \u001b[1;33m\u001b[0m\u001b[0m\n\u001b[0;32m      3\u001b[0m \u001b[0mprint\u001b[0m\u001b[1;33m(\u001b[0m\u001b[0mcalendar\u001b[0m\u001b[1;33m.\u001b[0m\u001b[0mcalendar\u001b[0m\u001b[1;33m(\u001b[0m\u001b[1;36m2021\u001b[0m\u001b[1;33m)\u001b[0m\u001b[1;33m)\u001b[0m\u001b[1;33m\u001b[0m\u001b[1;33m\u001b[0m\u001b[0m\n\u001b[1;32m----> 4\u001b[1;33m \u001b[0mprint\u001b[0m\u001b[1;33m(\u001b[0m\u001b[0mcalendar\u001b[0m\u001b[1;33m.\u001b[0m\u001b[0mthemonth\u001b[0m\u001b[1;33m(\u001b[0m\u001b[1;36m2021.1\u001b[0m\u001b[1;33m)\u001b[0m\u001b[1;33m)\u001b[0m\u001b[1;33m\u001b[0m\u001b[1;33m\u001b[0m\u001b[0m\n\u001b[0m",
      "\u001b[1;31mAttributeError\u001b[0m: module 'calendar' has no attribute 'themonth'"
     ]
    }
   ],
   "source": [
    "import calendar\n",
    "\n",
    "print(calendar.calendar(2021))"
   ]
  },
  {
   "cell_type": "code",
   "execution_count": 56,
   "metadata": {},
   "outputs": [
    {
     "name": "stdout",
     "output_type": "stream",
     "text": [
      "    January 2021\n",
      "Mo Tu We Th Fr Sa Su\n",
      "             1  2  3\n",
      " 4  5  6  7  8  9 10\n",
      "11 12 13 14 15 16 17\n",
      "18 19 20 21 22 23 24\n",
      "25 26 27 28 29 30 31\n",
      "\n"
     ]
    }
   ],
   "source": [
    "print(calendar.month(2021,1))"
   ]
  },
  {
   "cell_type": "code",
   "execution_count": 57,
   "metadata": {},
   "outputs": [
    {
     "name": "stdout",
     "output_type": "stream",
     "text": [
      "                                  2021\n",
      "\n",
      "      January                   February                   March\n",
      "Mo Tu We Th Fr Sa Su      Mo Tu We Th Fr Sa Su      Mo Tu We Th Fr Sa Su\n",
      "             1  2  3       1  2  3  4  5  6  7       1  2  3  4  5  6  7\n",
      " 4  5  6  7  8  9 10       8  9 10 11 12 13 14       8  9 10 11 12 13 14\n",
      "11 12 13 14 15 16 17      15 16 17 18 19 20 21      15 16 17 18 19 20 21\n",
      "18 19 20 21 22 23 24      22 23 24 25 26 27 28      22 23 24 25 26 27 28\n",
      "25 26 27 28 29 30 31                                29 30 31\n",
      "\n",
      "       April                      May                       June\n",
      "Mo Tu We Th Fr Sa Su      Mo Tu We Th Fr Sa Su      Mo Tu We Th Fr Sa Su\n",
      "          1  2  3  4                      1  2          1  2  3  4  5  6\n",
      " 5  6  7  8  9 10 11       3  4  5  6  7  8  9       7  8  9 10 11 12 13\n",
      "12 13 14 15 16 17 18      10 11 12 13 14 15 16      14 15 16 17 18 19 20\n",
      "19 20 21 22 23 24 25      17 18 19 20 21 22 23      21 22 23 24 25 26 27\n",
      "26 27 28 29 30            24 25 26 27 28 29 30      28 29 30\n",
      "                          31\n",
      "\n",
      "        July                     August                  September\n",
      "Mo Tu We Th Fr Sa Su      Mo Tu We Th Fr Sa Su      Mo Tu We Th Fr Sa Su\n",
      "          1  2  3  4                         1             1  2  3  4  5\n",
      " 5  6  7  8  9 10 11       2  3  4  5  6  7  8       6  7  8  9 10 11 12\n",
      "12 13 14 15 16 17 18       9 10 11 12 13 14 15      13 14 15 16 17 18 19\n",
      "19 20 21 22 23 24 25      16 17 18 19 20 21 22      20 21 22 23 24 25 26\n",
      "26 27 28 29 30 31         23 24 25 26 27 28 29      27 28 29 30\n",
      "                          30 31\n",
      "\n",
      "      October                   November                  December\n",
      "Mo Tu We Th Fr Sa Su      Mo Tu We Th Fr Sa Su      Mo Tu We Th Fr Sa Su\n",
      "             1  2  3       1  2  3  4  5  6  7             1  2  3  4  5\n",
      " 4  5  6  7  8  9 10       8  9 10 11 12 13 14       6  7  8  9 10 11 12\n",
      "11 12 13 14 15 16 17      15 16 17 18 19 20 21      13 14 15 16 17 18 19\n",
      "18 19 20 21 22 23 24      22 23 24 25 26 27 28      20 21 22 23 24 25 26\n",
      "25 26 27 28 29 30 31      29 30                     27 28 29 30 31\n"
     ]
    }
   ],
   "source": [
    "calendar.prcal(2021)"
   ]
  },
  {
   "cell_type": "code",
   "execution_count": 59,
   "metadata": {},
   "outputs": [
    {
     "name": "stdout",
     "output_type": "stream",
     "text": [
      "    January 2021\n",
      "Mo Tu We Th Fr Sa Su\n",
      "             1  2  3\n",
      " 4  5  6  7  8  9 10\n",
      "11 12 13 14 15 16 17\n",
      "18 19 20 21 22 23 24\n",
      "25 26 27 28 29 30 31\n"
     ]
    }
   ],
   "source": [
    "calendar.prmonth(2021,1)"
   ]
  },
  {
   "cell_type": "code",
   "execution_count": 7,
   "metadata": {},
   "outputs": [
    {
     "name": "stdout",
     "output_type": "stream",
     "text": [
      "6\n",
      "광복절은 일요일이다\n"
     ]
    }
   ],
   "source": [
    "# weekday 함수는 특정 날짜가 무슨 요일인지 조사.\n",
    "\n",
    "import calendar\n",
    "\n",
    "yoil = ['월','화','수','목','금','토','일']\n",
    "day = calendar.weekday(2021,8,15)\n",
    "print(day)\n",
    "print('광복절은', yoil[day]+\"요일이다\")"
   ]
  },
  {
   "cell_type": "code",
   "execution_count": 9,
   "metadata": {},
   "outputs": [
    {
     "name": "stdout",
     "output_type": "stream",
     "text": [
      "목\n",
      "금\n",
      "일\n"
     ]
    }
   ],
   "source": [
    "def weekdays(year, month, day):\n",
    "    yoil  = ['월','화','수','목','금','토','일']\n",
    "    day = calendar.weekday(year, month, day)\n",
    "    return yoil[day]\n",
    "\n",
    "\n",
    "print(weekdays(2021,1,21))\n",
    "print(weekdays(2021,2,12))\n",
    "print(weekdays(2021,3,14))"
   ]
  },
  {
   "cell_type": "markdown",
   "metadata": {},
   "source": [
    "## 12-3. 난수\n",
    "어떤 수가 나올 지 예측할 수 없는 무작위 동작 구현"
   ]
  },
  {
   "cell_type": "markdown",
   "metadata": {},
   "source": [
    "### random"
   ]
  },
  {
   "cell_type": "code",
   "execution_count": 67,
   "metadata": {},
   "outputs": [
    {
     "name": "stdout",
     "output_type": "stream",
     "text": [
      "0.5331568123417615\n",
      "0.48362730871435555\n",
      "0.16026340447720666\n",
      "0.8242828727793962\n",
      "0.7832131728456673\n"
     ]
    }
   ],
   "source": [
    "import random\n",
    "\n",
    "for i in range(5):\n",
    "    print(random.random())"
   ]
  },
  {
   "cell_type": "code",
   "execution_count": 68,
   "metadata": {},
   "outputs": [
    {
     "name": "stdout",
     "output_type": "stream",
     "text": [
      "0.1165161196959893\n",
      "0.519685118514921\n",
      "0.3348677922856982\n",
      "0.3881956172314861\n",
      "0.7125018055977723\n"
     ]
    }
   ],
   "source": [
    "from random import random\n",
    "\n",
    "for i in range(5):\n",
    "    print(random())"
   ]
  },
  {
   "cell_type": "code",
   "execution_count": 12,
   "metadata": {},
   "outputs": [
    {
     "name": "stdout",
     "output_type": "stream",
     "text": [
      "9\n",
      "1\n",
      "3\n",
      "1\n",
      "9\n"
     ]
    }
   ],
   "source": [
    "# randint(begin, end)\n",
    "\n",
    "import random\n",
    "\n",
    "for i in range(5):\n",
    "    print(random.randint(1,10))"
   ]
  },
  {
   "cell_type": "code",
   "execution_count": 13,
   "metadata": {},
   "outputs": [
    {
     "name": "stdout",
     "output_type": "stream",
     "text": [
      "18.64432854628938\n",
      "52.18372190391352\n",
      "71.69058903091205\n",
      "2.434805939082345\n",
      "70.54934301511572\n"
     ]
    }
   ],
   "source": [
    "# uniform - 실수 난수 생성\n",
    "import random\n",
    "\n",
    "for i in range(5):\n",
    "    print(random.uniform(1,100))"
   ]
  },
  {
   "cell_type": "code",
   "execution_count": 16,
   "metadata": {},
   "outputs": [
    {
     "name": "stdout",
     "output_type": "stream",
     "text": [
      "탕수육\n"
     ]
    }
   ],
   "source": [
    "# choice - 리스트에서 임의의 요소 하나를 골라 리턴한다\n",
    "import random\n",
    "\n",
    "food = ['짜장면','짬뽕','탕수육','군만두']\n",
    "print(random.choice(food))\n",
    "\n",
    "# choice 함수는 다음과 같이 구현되어 있다.\n",
    "# i = random.randrange(len(food))\n",
    "# return food[i]\n",
    "# 리스트의 개수 범위 안에서 첨자를 난수로 고르고 해당 첨자의 요소를 읽는 것이다."
   ]
  },
  {
   "cell_type": "code",
   "execution_count": 18,
   "metadata": {},
   "outputs": [
    {
     "name": "stdout",
     "output_type": "stream",
     "text": [
      "['짜장면', '짬뽕', '탕수육', '군만두']\n",
      "['군만두', '짜장면', '짬뽕', '탕수육']\n"
     ]
    }
   ],
   "source": [
    "# shuffle\n",
    "import random\n",
    "\n",
    "food = ['짜장면','짬뽕','탕수육','군만두']\n",
    "print(food)\n",
    "random.shuffle(food)\n",
    "print(food)"
   ]
  },
  {
   "cell_type": "code",
   "execution_count": 19,
   "metadata": {},
   "outputs": [
    {
     "name": "stdout",
     "output_type": "stream",
     "text": [
      "['짜장면', '짬뽕', '탕수육', '군만두']\n",
      "None\n"
     ]
    }
   ],
   "source": [
    "# shuffle\n",
    "import random\n",
    "\n",
    "food = ['짜장면','짬뽕','탕수육','군만두']\n",
    "print(food)\n",
    "print(random.shuffle(food))"
   ]
  },
  {
   "cell_type": "code",
   "execution_count": 21,
   "metadata": {},
   "outputs": [
    {
     "name": "stdout",
     "output_type": "stream",
     "text": [
      "['군만두', '짜장면']\n"
     ]
    }
   ],
   "source": [
    "# sample- 중복X\n",
    "import random\n",
    "\n",
    "food = ['짜장면','짬뽕','탕수육','군만두']\n",
    "print(random.sample(food,2))"
   ]
  },
  {
   "cell_type": "code",
   "execution_count": 23,
   "metadata": {},
   "outputs": [
    {
     "name": "stdout",
     "output_type": "stream",
     "text": [
      "[3, 16, 20, 28, 30, 34]\n"
     ]
    }
   ],
   "source": [
    "import random      # ex) 로또 번호\n",
    "\n",
    "nums = random.sample(range(1,46),6)\n",
    "nums.sort()\n",
    "print(nums)"
   ]
  },
  {
   "cell_type": "code",
   "execution_count": 28,
   "metadata": {},
   "outputs": [
    {
     "name": "stdout",
     "output_type": "stream",
     "text": [
      "32\n",
      "7\n",
      "38\n",
      "9\n",
      "22\n",
      "34\n"
     ]
    }
   ],
   "source": [
    "# randint 사용해서 중복 가능한 로또 번호\n",
    "\n",
    "for i in range(1,7):\n",
    "    print(random.randint(1,46))"
   ]
  },
  {
   "cell_type": "markdown",
   "metadata": {},
   "source": [
    "### 산수 문제 내기"
   ]
  },
  {
   "cell_type": "code",
   "execution_count": 66,
   "metadata": {},
   "outputs": [
    {
     "name": "stdout",
     "output_type": "stream",
     "text": [
      "5 + 5 = ?\n",
      "두 숫자의 합을 구하시오10\n",
      "정답입니다\n",
      "문제풀이를 끝내고 싶으면 0을, 계속하고 싶으면 1을 누르시오 : 1\n",
      "3 + 9 = ?\n",
      "두 숫자의 합을 구하시오12\n",
      "정답입니다\n",
      "문제풀이를 끝내고 싶으면 0을, 계속하고 싶으면 1을 누르시오 : 1\n",
      "8 + 6 = ?\n",
      "두 숫자의 합을 구하시오14\n",
      "정답입니다\n",
      "문제풀이를 끝내고 싶으면 0을, 계속하고 싶으면 1을 누르시오 : 0\n",
      "정답입니다. 3 회 맞췄습니다\n"
     ]
    }
   ],
   "source": [
    "# 문제 : 난수로 1~9 사이의 숫자를 골라 두 숫자의 합을 구하라는 질문을 출력하고 답을 입력받는다.\n",
    "# 게속 반복/ 정답을 몇 번 맞췄는지? 개수 출력/ 끝내고 싶으면 0을 누르시오,라는 표시\n",
    "# 생각할 것 -계속 반복 (while True: -> 초기값, 증가, 탈출 방법) /\n",
    "\n",
    "##### 코드 작성부터 하지 말고!!!  알고리즘부터 먼저 짜보는 습관!!!!\n",
    "\n",
    "import random\n",
    "\n",
    "counts = 0\n",
    "while True:\n",
    "    a= random.randint(1,9)\n",
    "    b= random.randint(1,9)\n",
    "    print('%d + %d = ?' %(a,b))\n",
    "    \n",
    "    c = int(input(\"두 숫자의 합을 구하시오\"))\n",
    "\n",
    "    if c == a + b:\n",
    "        counts +=1\n",
    "        print('정답입니다')\n",
    "    else:\n",
    "        print('틀렸습니다')\n",
    "    d =int(input('문제풀이를 끝내고 싶으면 0을, 계속하고 싶으면 1을 누르시오 : '))\n",
    "    \n",
    "    if d == 0:\n",
    "        print('정답입니다. %d 회 맞췄습니다' % counts, end='\\n')\n",
    "        break\n",
    "    else :\n",
    "        continue"
   ]
  },
  {
   "cell_type": "code",
   "execution_count": null,
   "metadata": {},
   "outputs": [],
   "source": []
  },
  {
   "cell_type": "code",
   "execution_count": 58,
   "metadata": {},
   "outputs": [
    {
     "name": "stdout",
     "output_type": "stream",
     "text": [
      "+, *, -를 입력하시오+\n"
     ]
    },
    {
     "ename": "NameError",
     "evalue": "name 'acb' is not defined",
     "output_type": "error",
     "traceback": [
      "\u001b[1;31m---------------------------------------------------------------------------\u001b[0m",
      "\u001b[1;31mNameError\u001b[0m                                 Traceback (most recent call last)",
      "\u001b[1;32m<ipython-input-58-a4a4eb0e44f2>\u001b[0m in \u001b[0;36m<module>\u001b[1;34m\u001b[0m\n\u001b[0;32m      2\u001b[0m \u001b[0mb\u001b[0m\u001b[1;33m=\u001b[0m \u001b[0mrandom\u001b[0m\u001b[1;33m.\u001b[0m\u001b[0mrandint\u001b[0m\u001b[1;33m(\u001b[0m\u001b[1;36m1\u001b[0m\u001b[1;33m,\u001b[0m\u001b[1;36m9\u001b[0m\u001b[1;33m)\u001b[0m\u001b[1;33m\u001b[0m\u001b[1;33m\u001b[0m\u001b[0m\n\u001b[0;32m      3\u001b[0m \u001b[0mc\u001b[0m\u001b[1;33m=\u001b[0m\u001b[0minput\u001b[0m\u001b[1;33m(\u001b[0m\u001b[1;34m\"+, *, -를 입력하시오\"\u001b[0m\u001b[1;33m)\u001b[0m\u001b[1;33m\u001b[0m\u001b[1;33m\u001b[0m\u001b[0m\n\u001b[1;32m----> 4\u001b[1;33m \u001b[0md\u001b[0m\u001b[1;33m=\u001b[0m\u001b[0macb\u001b[0m\u001b[1;33m\u001b[0m\u001b[1;33m\u001b[0m\u001b[0m\n\u001b[0m\u001b[0;32m      5\u001b[0m \u001b[0mprint\u001b[0m\u001b[1;33m(\u001b[0m\u001b[1;34m\"%d %s %d = \"\u001b[0m \u001b[1;33m%\u001b[0m\u001b[1;33m(\u001b[0m\u001b[0ma\u001b[0m\u001b[1;33m,\u001b[0m\u001b[0mb\u001b[0m\u001b[1;33m,\u001b[0m\u001b[0mc\u001b[0m\u001b[1;33m)\u001b[0m\u001b[1;33m)\u001b[0m\u001b[1;33m\u001b[0m\u001b[1;33m\u001b[0m\u001b[0m\n",
      "\u001b[1;31mNameError\u001b[0m: name 'acb' is not defined"
     ]
    }
   ],
   "source": [
    "# +, *, - 연산기호를 입력받아 연산 실행한 결과를 출력\n",
    "\n",
    "a= random.randint(1,9)\n",
    "b= random.randint(1,9)\n",
    "c=input(\"+, *, -를 입력하시오\")\n",
    "d=acb\n",
    "print(\"%d %s %d = \" %(a,b,c))"
   ]
  },
  {
   "cell_type": "code",
   "execution_count": null,
   "metadata": {},
   "outputs": [],
   "source": [
    "import random\n",
    "\n",
    "while True:\n",
    "    a =random.randint(10,99)\n",
    "    b = random.randint(10,99)"
   ]
  },
  {
   "cell_type": "code",
   "execution_count": null,
   "metadata": {},
   "outputs": [],
   "source": []
  },
  {
   "cell_type": "code",
   "execution_count": null,
   "metadata": {},
   "outputs": [],
   "source": [
    "## +, *, - 연산기호를 랜덤함수로 출력 입력받아 연산 실행한 결과를 출력\n",
    "\n",
    "import random\n",
    "\n",
    "correct = 0\n",
    "while True:\n",
    "    a = random.randint(10, 99)\n",
    "    b = random.randint(10, 99)\n",
    "    op = random.randint(1, 3)\n",
    "\n",
    "    if op == 1:\n",
    "        ans = a + b\n",
    "        mark = \"+\"\n",
    "    elif op == 2:\n",
    "        if (a < b):\n",
    "            a, b = b, a\n",
    "        ans = a - b\n",
    "        mark = \"-\"\n",
    "    else:\n",
    "        ans = a * b\n",
    "        mark = \"*\"\n",
    "\n",
    "    question = \"%d %s %d = ?(끝낼 때는 0) \" % (a, mark, b)\n",
    "    c = int(input(question))\n",
    "\n",
    "    if c == 0:\n",
    "        break\n",
    "    elif c == ans:\n",
    "        print(\"정답입니다.\")\n",
    "        correct = correct + 1\n",
    "    else:\n",
    "        print(\"틀렸습니다.\")\n",
    "\n",
    "print(\"%d 개 맞췄습니다.\" % correct)\n"
   ]
  },
  {
   "cell_type": "code",
   "execution_count": 76,
   "metadata": {},
   "outputs": [
    {
     "name": "stdout",
     "output_type": "stream",
     "text": [
      "숫자를 입력하세요(끝낼 때 0) : 55\n",
      "입력한 숫자보다 더 작습니다\n",
      "숫자를 입력하세요(끝낼 때 0) : 33\n",
      "입력한 숫자보다 더 큽니다\n",
      "숫자를 입력하세요(끝낼 때 0) : 44\n",
      "입력한 숫자보다 더 작습니다\n",
      "숫자를 입력하세요(끝낼 때 0) : 38\n",
      "입력한 숫자보다 더 큽니다\n",
      "숫자를 입력하세요(끝낼 때 0) : 40\n",
      "입력한 숫자보다 더 큽니다\n",
      "숫자를 입력하세요(끝낼 때 0) : 43\n",
      "입력한 숫자보다 더 작습니다\n",
      "숫자를 입력하세요(끝낼 때 0) : 42\n",
      "정답입니다. 7번 만에 맞췄습니다.\n"
     ]
    }
   ],
   "source": [
    "# 숫자 만들기 게임.  \n",
    "# 컴퓨터가 생성한 1~100 사이의 난수를 사용자가 찍어서 맞추는 놀이\n",
    "\n",
    "import random\n",
    "    \n",
    "a = random.randint(1,100)\n",
    "count = 0\n",
    "while True:\n",
    "    nums = int(input(\"숫자를 입력하세요(끝낼 때 0) : \"))\n",
    "    count += 1   #break 때문에 어디에 넣느냐에 따라 세는 횟수의 차이!!!!\n",
    "    if nums == 0 :\n",
    "        break\n",
    "    if nums == a :\n",
    "        print('정답입니다. %d번 만에 맞췄습니다.' %count)\n",
    "        break\n",
    "    elif nums > a :\n",
    "        print('입력한 숫자보다 더 작습니다')\n",
    "    else :\n",
    "        print('입력한 숫자보다 더 큽니다')\n"
   ]
  },
  {
   "cell_type": "markdown",
   "metadata": {},
   "source": [
    "## 12-4. sys 모듈"
   ]
  },
  {
   "cell_type": "code",
   "execution_count": null,
   "metadata": {},
   "outputs": [],
   "source": []
  },
  {
   "cell_type": "code",
   "execution_count": 77,
   "metadata": {},
   "outputs": [
    {
     "name": "stdout",
     "output_type": "stream",
     "text": [
      "버전 : 3.8.5 (default, Sep  3 2020, 21:29:08) [MSC v.1916 64 bit (AMD64)]\n",
      "플랫폼 : win32\n"
     ]
    }
   ],
   "source": [
    "import sys\n",
    "\n",
    "print(\"버전 :\", sys.version)\n",
    "print(\"플랫폼 :\", sys.platform)\n",
    "if (sys.platform == \"wind32\"):\n",
    "    print(sys.getwindowsversion())"
   ]
  },
  {
   "cell_type": "code",
   "execution_count": 81,
   "metadata": {},
   "outputs": [
    {
     "name": "stdout",
     "output_type": "stream",
     "text": [
      "바이트 순서 : little\n",
      "모듈 경로 : ['C:\\\\Users\\\\Hyuna\\\\송승은\\\\python', 'C:\\\\ProgramData\\\\Anaconda3\\\\python38.zip', 'C:\\\\ProgramData\\\\Anaconda3\\\\DLLs', 'C:\\\\ProgramData\\\\Anaconda3\\\\lib', 'C:\\\\ProgramData\\\\Anaconda3', '', 'C:\\\\ProgramData\\\\Anaconda3\\\\lib\\\\site-packages', 'C:\\\\ProgramData\\\\Anaconda3\\\\lib\\\\site-packages\\\\win32', 'C:\\\\ProgramData\\\\Anaconda3\\\\lib\\\\site-packages\\\\win32\\\\lib', 'C:\\\\ProgramData\\\\Anaconda3\\\\lib\\\\site-packages\\\\Pythonwin', 'C:\\\\ProgramData\\\\Anaconda3\\\\lib\\\\site-packages\\\\IPython\\\\extensions', 'C:\\\\Users\\\\Hyuna\\\\.ipython']\n"
     ]
    },
    {
     "ename": "SystemExit",
     "evalue": "0",
     "output_type": "error",
     "traceback": [
      "An exception has occurred, use %tb to see the full traceback.\n",
      "\u001b[1;31mSystemExit\u001b[0m\u001b[1;31m:\u001b[0m 0\n"
     ]
    }
   ],
   "source": [
    "print(\"바이트 순서 :\", sys.byteorder)\n",
    "print(\"모듈 경로 :\", sys.path)\n",
    "sys.exit(0)            # 시스템 종료 = 인수로 종료 코드를 지정. 0이면 정상 종료이고 그 외의 값이면 에러에 의한 종료이다"
   ]
  },
  {
   "cell_type": "markdown",
   "metadata": {},
   "source": [
    "### 명령행 인수"
   ]
  },
  {
   "cell_type": "code",
   "execution_count": 82,
   "metadata": {},
   "outputs": [
    {
     "name": "stdout",
     "output_type": "stream",
     "text": [
      "지정된 파일을 찾을 수 없습니다.\n"
     ]
    }
   ],
   "source": [
    "copy a.txt b.txt"
   ]
  },
  {
   "cell_type": "markdown",
   "metadata": {},
   "source": [
    "### 경과일 계산"
   ]
  },
  {
   "cell_type": "code",
   "execution_count": null,
   "metadata": {},
   "outputs": [],
   "source": [
    "# 특정 날짜로부터 오늘까지 며칠이 경과되었는지 계산하여 출력\n",
    "\n",
    "import time\n"
   ]
  },
  {
   "cell_type": "code",
   "execution_count": null,
   "metadata": {},
   "outputs": [],
   "source": []
  },
  {
   "cell_type": "code",
   "execution_count": null,
   "metadata": {},
   "outputs": [],
   "source": []
  },
  {
   "cell_type": "code",
   "execution_count": null,
   "metadata": {},
   "outputs": [],
   "source": []
  },
  {
   "cell_type": "code",
   "execution_count": null,
   "metadata": {},
   "outputs": [],
   "source": []
  },
  {
   "cell_type": "code",
   "execution_count": null,
   "metadata": {},
   "outputs": [],
   "source": []
  },
  {
   "cell_type": "markdown",
   "metadata": {},
   "source": [
    "## 13-1. 예외처리(예외 처리, 자원 정리)"
   ]
  },
  {
   "cell_type": "code",
   "execution_count": 85,
   "metadata": {},
   "outputs": [
    {
     "ename": "ValueError",
     "evalue": "invalid literal for int() with base 10: '89점'",
     "output_type": "error",
     "traceback": [
      "\u001b[1;31m---------------------------------------------------------------------------\u001b[0m",
      "\u001b[1;31mValueError\u001b[0m                                Traceback (most recent call last)",
      "\u001b[1;32m<ipython-input-85-289e65678c52>\u001b[0m in \u001b[0;36m<module>\u001b[1;34m\u001b[0m\n\u001b[0;32m      2\u001b[0m \u001b[1;33m\u001b[0m\u001b[0m\n\u001b[0;32m      3\u001b[0m \u001b[0mstr\u001b[0m \u001b[1;33m=\u001b[0m \u001b[1;34m\"89점\"\u001b[0m\u001b[1;33m\u001b[0m\u001b[1;33m\u001b[0m\u001b[0m\n\u001b[1;32m----> 4\u001b[1;33m \u001b[0mscore\u001b[0m \u001b[1;33m=\u001b[0m \u001b[0mint\u001b[0m\u001b[1;33m(\u001b[0m\u001b[0mstr\u001b[0m\u001b[1;33m)\u001b[0m\u001b[1;33m\u001b[0m\u001b[1;33m\u001b[0m\u001b[0m\n\u001b[0m\u001b[0;32m      5\u001b[0m \u001b[0mprint\u001b[0m\u001b[1;33m(\u001b[0m\u001b[0mscore\u001b[0m\u001b[1;33m)\u001b[0m\u001b[1;33m\u001b[0m\u001b[1;33m\u001b[0m\u001b[0m\n\u001b[0;32m      6\u001b[0m \u001b[0mprint\u001b[0m\u001b[1;33m(\u001b[0m\u001b[1;34m\"작업완료\"\u001b[0m\u001b[1;33m)\u001b[0m   \u001b[1;31m# \"점\"이라는 str이 포함되서 int가 될 수 없다. 예러코드 = ValueError\u001b[0m\u001b[1;33m\u001b[0m\u001b[1;33m\u001b[0m\u001b[0m\n",
      "\u001b[1;31mValueError\u001b[0m: invalid literal for int() with base 10: '89점'"
     ]
    }
   ],
   "source": [
    "# 프로그램 코드는 이상이 없으나 실행 중에 불가피하게 \n",
    "\n",
    "str = \"89점\"\n",
    "score = int(str)\n",
    "print(score)\n",
    "print(\"작업완료\")   # \"점\"이라는 str이 포함되서 int가 될 수 없다. 예러코드 = ValueError"
   ]
  },
  {
   "cell_type": "code",
   "execution_count": null,
   "metadata": {},
   "outputs": [],
   "source": [
    "# try, except\n",
    "try:\n",
    "    실행할 명령\n",
    "except 예외 as 변수 :\n",
    "    오류 처리문\n",
    "else:\n",
    "    예외가 발생하지 않을 예외 처리"
   ]
  },
  {
   "cell_type": "code",
   "execution_count": 86,
   "metadata": {},
   "outputs": [
    {
     "name": "stdout",
     "output_type": "stream",
     "text": [
      "예외가 발생했습니다\n",
      "작업완료\n"
     ]
    }
   ],
   "source": [
    "str = \"89점\"                      # 핸드폰번호 작성할 때 010을 작성하지 않거나 02를 작성했을 때 메시지 표현하는 방법\n",
    "try:\n",
    "    score = int(str)\n",
    "    print(score)\n",
    "except:\n",
    "    print(\"예외가 발생했습니다\")\n",
    "print(\"작업완료\")"
   ]
  },
  {
   "cell_type": "code",
   "execution_count": 87,
   "metadata": {},
   "outputs": [
    {
     "name": "stdout",
     "output_type": "stream",
     "text": [
      "점수를 입력하세요 :s\n",
      "점수 형식이 잘못되었습나다.\n",
      "점수를 입력하세요 :100\n",
      "입력한 점수 : 100\n",
      "작업 완료\n"
     ]
    }
   ],
   "source": [
    "while True:\n",
    "    str = input(\"점수를 입력하세요 :\")\n",
    "    try:\n",
    "        score = int(str)\n",
    "        print(\"입력한 점수 :\", score)\n",
    "        break\n",
    "    except:\n",
    "        print(\"점수 형식이 잘못되었습나다.\")\n",
    "print(\"작업 완료\")"
   ]
  },
  {
   "cell_type": "code",
   "execution_count": 88,
   "metadata": {},
   "outputs": [
    {
     "name": "stdout",
     "output_type": "stream",
     "text": [
      "89\n",
      "첨자 범위를 벗어났습니다\n",
      "작업완료\n"
     ]
    }
   ],
   "source": [
    "str = \"89\"\n",
    "try:\n",
    "    score = int(str)\n",
    "    print(score)\n",
    "    a = str[5]\n",
    "except ValueError:\n",
    "    print('점수의 형식이 잘못되었습니다')\n",
    "except IndexError:\n",
    "    print(\"첨자 범위를 벗어났습니다\")\n",
    "print(\"작업완료\")"
   ]
  },
  {
   "cell_type": "code",
   "execution_count": null,
   "metadata": {},
   "outputs": [],
   "source": [
    "# 두 개 이상 괄호로 묶어 표현\n",
    "except (ValueError, IndexError):\n",
    "    print(\"점수의 형식이나 첨자가 잘못되었습니다\")"
   ]
  },
  {
   "cell_type": "code",
   "execution_count": 89,
   "metadata": {},
   "outputs": [
    {
     "name": "stdout",
     "output_type": "stream",
     "text": [
      "89\n",
      "string index out of range\n",
      "작업완료\n"
     ]
    }
   ],
   "source": [
    "# 시스템 내의 메시지를 출력\n",
    "\n",
    "str = \"89\"\n",
    "try:\n",
    "    score = int(str)\n",
    "    print(score)\n",
    "    a = str[5]\n",
    "except ValueError as e:\n",
    "    print(e)\n",
    "except IndexError as e:\n",
    "    print(e)\n",
    "print(\"작업완료\")"
   ]
  },
  {
   "cell_type": "code",
   "execution_count": 90,
   "metadata": {},
   "outputs": [
    {
     "name": "stdout",
     "output_type": "stream",
     "text": [
      "~10 = 55\n",
      "입력값이 잘못되었습니다\n"
     ]
    }
   ],
   "source": [
    "# raise = 고의적으로 예외 발생시킴\n",
    "# 함수가 예외를 던지고 호출원에서 예외를 처리하고 있어 에러 메시지가 출력된다\n",
    "def calcsum(n):\n",
    "    if (n < 0) :\n",
    "        raise ValueError\n",
    "    sum = 0\n",
    "    for i in range(n+1):\n",
    "        sum = sum + i\n",
    "    return sum\n",
    "\n",
    "try:\n",
    "    print(\"~10 =\", calcsum(10))\n",
    "    print(\"~-5 =\", calcsum(-5))\n",
    "except ValueError:\n",
    "    print(\"입력값이 잘못되었습니다\")"
   ]
  },
  {
   "cell_type": "code",
   "execution_count": null,
   "metadata": {},
   "outputs": [],
   "source": []
  },
  {
   "cell_type": "code",
   "execution_count": 95,
   "metadata": {},
   "outputs": [
    {
     "name": "stdout",
     "output_type": "stream",
     "text": [
      "찾는 단어가 없습니다\n",
      "None\n"
     ]
    }
   ],
   "source": [
    "dic = { 'boy':'소년','school':'학교','book':'책'}\n",
    "try:\n",
    "    print(dic['girl'])\n",
    "except:\n",
    "    print(\"찾는 단어가 없습니다\")\n",
    "    \n",
    "han = dic.get('girl')\n",
    "print(han)"
   ]
  },
  {
   "cell_type": "code",
   "execution_count": 96,
   "metadata": {},
   "outputs": [
    {
     "name": "stdout",
     "output_type": "stream",
     "text": [
      "찾는 단어가 없습니다\n",
      "찾는 단어가 없습니다\n"
     ]
    }
   ],
   "source": [
    "dic = { 'boy':'소년','school':'학교','book':'책'}\n",
    "try:\n",
    "    print(dic['girl'])\n",
    "except:\n",
    "    print(\"찾는 단어가 없습니다\")\n",
    "    \n",
    "han = dic.get('girl')\n",
    "if (han == None):\n",
    "    print(\"찾는 단어가 없습니다\")\n",
    "else:\n",
    "    print(han)"
   ]
  },
  {
   "cell_type": "markdown",
   "metadata": {},
   "source": [
    "### 자원정리"
   ]
  },
  {
   "cell_type": "code",
   "execution_count": 93,
   "metadata": {},
   "outputs": [
    {
     "name": "stdout",
     "output_type": "stream",
     "text": [
      "네트워크 접속\n",
      "접속 해제\n"
     ]
    },
    {
     "ename": "ZeroDivisionError",
     "evalue": "division by zero",
     "output_type": "error",
     "traceback": [
      "\u001b[1;31m---------------------------------------------------------------------------\u001b[0m",
      "\u001b[1;31mZeroDivisionError\u001b[0m                         Traceback (most recent call last)",
      "\u001b[1;32m<ipython-input-93-bebd9bbec019>\u001b[0m in \u001b[0;36m<module>\u001b[1;34m\u001b[0m\n\u001b[0;32m      2\u001b[0m \u001b[1;32mtry\u001b[0m\u001b[1;33m:\u001b[0m\u001b[1;33m\u001b[0m\u001b[1;33m\u001b[0m\u001b[0m\n\u001b[0;32m      3\u001b[0m     \u001b[0mprint\u001b[0m\u001b[1;33m(\u001b[0m\u001b[1;34m\"네트워크 접속\"\u001b[0m\u001b[1;33m)\u001b[0m\u001b[1;33m\u001b[0m\u001b[1;33m\u001b[0m\u001b[0m\n\u001b[1;32m----> 4\u001b[1;33m     \u001b[0ma\u001b[0m \u001b[1;33m=\u001b[0m \u001b[1;36m2\u001b[0m \u001b[1;33m/\u001b[0m \u001b[1;36m0\u001b[0m\u001b[1;33m\u001b[0m\u001b[1;33m\u001b[0m\u001b[0m\n\u001b[0m\u001b[0;32m      5\u001b[0m     \u001b[0mprint\u001b[0m\u001b[1;33m(\u001b[0m\u001b[1;34m\"네트워크 통신 수행\"\u001b[0m\u001b[1;33m)\u001b[0m\u001b[1;33m\u001b[0m\u001b[1;33m\u001b[0m\u001b[0m\n\u001b[0;32m      6\u001b[0m \u001b[1;32mfinally\u001b[0m\u001b[1;33m:\u001b[0m\u001b[1;33m\u001b[0m\u001b[1;33m\u001b[0m\u001b[0m\n",
      "\u001b[1;31mZeroDivisionError\u001b[0m: division by zero"
     ]
    }
   ],
   "source": [
    "# finally - 예와 발생 여부와 무관하게 반드시 실행해야 할 명령 지정\n",
    "try:\n",
    "    print(\"네트워크 접속\")\n",
    "    a = 2 / 0\n",
    "    print(\"네트워크 통신 수행\")\n",
    "finally:\n",
    "    print(\"접속 해제\")\n",
    "print(\"작업 완료\")"
   ]
  },
  {
   "cell_type": "markdown",
   "metadata": {},
   "source": [
    "이 구문은 \n",
    "try:\n",
    "except:\n",
    "finally:\n",
    "\n",
    "\n",
    "1.파일처리할 때 사용-파일을 열고 수정하는 경우가 있어. open/close 이러다 수정한 내용이 날아가는 경우 생겨\n",
    "(파일이 열리면 메모리에 올라가게 되고, 그럼 휘발성 성격을 가지고 있으니까)\n",
    "\n",
    "2.네트워크할 때 - 파일이 왔다갔다하는 도중 네트워크가 끊겼을 때. 받는 쪽에서는 open하고 기다리고 있으니까(해킹 가능). close()를 fianlly로 작성\n",
    "\n",
    "3. DB - 데이터 베이스에 접속할 때도 왔다갔다하니까. 계좌이체할 때 보낸 사람은 '-'가 됐는데 통신이 끊겨서 받는 사람에게 '+'가 안되면????\n",
    "\n"
   ]
  },
  {
   "cell_type": "code",
   "execution_count": 99,
   "metadata": {},
   "outputs": [
    {
     "ename": "AssertionError",
     "evalue": "점수는 100이하여야 합니다",
     "output_type": "error",
     "traceback": [
      "\u001b[1;31m---------------------------------------------------------------------------\u001b[0m",
      "\u001b[1;31mAssertionError\u001b[0m                            Traceback (most recent call last)",
      "\u001b[1;32m<ipython-input-99-f0f5931da3d7>\u001b[0m in \u001b[0;36m<module>\u001b[1;34m\u001b[0m\n\u001b[0;32m      1\u001b[0m \u001b[1;31m# assert 문장 = 프로그램의 현재 상태가 맞는지 바로바로 확인\u001b[0m\u001b[1;33m\u001b[0m\u001b[1;33m\u001b[0m\u001b[1;33m\u001b[0m\u001b[0m\n\u001b[0;32m      2\u001b[0m \u001b[0mscore\u001b[0m \u001b[1;33m=\u001b[0m \u001b[1;36m128\u001b[0m\u001b[1;33m\u001b[0m\u001b[1;33m\u001b[0m\u001b[0m\n\u001b[1;32m----> 3\u001b[1;33m \u001b[1;32massert\u001b[0m \u001b[0mscore\u001b[0m \u001b[1;33m<=\u001b[0m \u001b[1;36m100\u001b[0m\u001b[1;33m,\u001b[0m \u001b[1;34m\"점수는 100이하여야 합니다\"\u001b[0m\u001b[1;33m\u001b[0m\u001b[1;33m\u001b[0m\u001b[0m\n\u001b[0m\u001b[0;32m      4\u001b[0m \u001b[0mprint\u001b[0m\u001b[1;33m(\u001b[0m\u001b[0mscore\u001b[0m\u001b[1;33m)\u001b[0m\u001b[1;33m\u001b[0m\u001b[1;33m\u001b[0m\u001b[0m\n",
      "\u001b[1;31mAssertionError\u001b[0m: 점수는 100이하여야 합니다"
     ]
    }
   ],
   "source": [
    "# assert 문장 = 프로그램의 현재 상태가 맞는지 바로바로 확인\n",
    "score = 128\n",
    "assert score <= 100, \"점수는 100이하여야 합니다\"\n",
    "print(score)"
   ]
  },
  {
   "cell_type": "markdown",
   "metadata": {},
   "source": [
    "# 14. 파일_ 파일 입출력, 파일 관리, 데이터베이스"
   ]
  },
  {
   "cell_type": "markdown",
   "metadata": {},
   "source": [
    "## 14-1. 파일 입출력"
   ]
  },
  {
   "cell_type": "markdown",
   "metadata": {},
   "source": [
    "### open 함수"
   ]
  },
  {
   "cell_type": "code",
   "execution_count": 104,
   "metadata": {},
   "outputs": [],
   "source": [
    "# wirte\n",
    "\n",
    "f = open(\"live.txt\",\"wt\")\n",
    "f.write(\"\"\"삶이 그대를 속일지라도\n",
    "슬퍼하거나 노하지 말라!\n",
    "우울한 날들을 견디면\n",
    "믿으라, 기쁨의 날이 오리니\"\"\")\n",
    "f.close()\n",
    "\n",
    "# 탐색기로 확인.(쥬피터 노트북 저장경로에서)"
   ]
  },
  {
   "cell_type": "code",
   "execution_count": 105,
   "metadata": {},
   "outputs": [
    {
     "data": {
      "text/plain": [
       "_io.TextIOWrapper"
      ]
     },
     "execution_count": 105,
     "metadata": {},
     "output_type": "execute_result"
    }
   ],
   "source": [
    "type(f)"
   ]
  },
  {
   "cell_type": "code",
   "execution_count": 106,
   "metadata": {},
   "outputs": [
    {
     "name": "stdout",
     "output_type": "stream",
     "text": [
      "<_io.TextIOWrapper name='live.txt' mode='wt' encoding='cp949'>\n"
     ]
    }
   ],
   "source": [
    "print(f)"
   ]
  },
  {
   "cell_type": "code",
   "execution_count": 107,
   "metadata": {},
   "outputs": [
    {
     "name": "stdout",
     "output_type": "stream",
     "text": [
      "삶이 그대를 속일지라도\n",
      "슬퍼하거나 노하지 말라!\n",
      "우울한 날들을 견디면\n",
      "믿으라, 기쁨의 날이 오리니\n"
     ]
    }
   ],
   "source": [
    "# read 함수 - 적절한 함수 골라 파일 데이터 읽기\n",
    "try:\n",
    "    f= open(\"live.txt\",\"rt\")\n",
    "    text = f.read()\n",
    "    print(text)\n",
    "except FileNotFoundError:\n",
    "    print(\"파일이 없습니다\")\n",
    "finally:\n",
    "    f.close()"
   ]
  },
  {
   "cell_type": "code",
   "execution_count": 108,
   "metadata": {},
   "outputs": [
    {
     "name": "stdout",
     "output_type": "stream",
     "text": [
      "파일이 없습니다\n"
     ]
    }
   ],
   "source": [
    "try:\n",
    "    f= open(\"lie.txt\",\"rt\")\n",
    "    text = f.read()\n",
    "    print(text)\n",
    "except FileNotFoundError:\n",
    "    print(\"파일이 없습니다\")\n",
    "finally:\n",
    "    f.close()"
   ]
  },
  {
   "cell_type": "code",
   "execution_count": 109,
   "metadata": {},
   "outputs": [
    {
     "data": {
      "text/plain": [
       "str"
      ]
     },
     "execution_count": 109,
     "metadata": {},
     "output_type": "execute_result"
    }
   ],
   "source": [
    "type(text)"
   ]
  },
  {
   "cell_type": "code",
   "execution_count": 110,
   "metadata": {},
   "outputs": [
    {
     "name": "stdout",
     "output_type": "stream",
     "text": [
      "파일이 없습니다\n"
     ]
    }
   ],
   "source": [
    "try:\n",
    "    f= open(\"lie.txt\",\"rt\")\n",
    "    #text = f.read()\n",
    "    print(text)\n",
    "except FileNotFoundError:\n",
    "    print(\"파일이 없습니다\")\n",
    "finally:\n",
    "    f.close()"
   ]
  },
  {
   "cell_type": "code",
   "execution_count": 111,
   "metadata": {},
   "outputs": [
    {
     "name": "stdout",
     "output_type": "stream",
     "text": [
      "삶이 그대를 속일지라도\n",
      "슬퍼하거나 노하지 말라!\n",
      "우울한 날들을 견디면\n",
      "믿으라, 기쁨의 날이 오리니"
     ]
    }
   ],
   "source": [
    "f = open(\"live.txt\",\"rt\")\n",
    "while True:\n",
    "    text = f.read(10)\n",
    "    if len(text) == 0 : break\n",
    "    print(text, end='')\n",
    "f.close()"
   ]
  },
  {
   "cell_type": "code",
   "execution_count": 113,
   "metadata": {},
   "outputs": [],
   "source": [
    "del str"
   ]
  },
  {
   "cell_type": "code",
   "execution_count": 116,
   "metadata": {},
   "outputs": [
    {
     "name": "stdout",
     "output_type": "stream",
     "text": [
      "1 : 삶이 그대를 속일지라도\n",
      "2 : 슬퍼하거나 노하지 말라!\n",
      "3 : 우울한 날들을 견디면\n",
      "4 : 믿으라, 기쁨의 날이 오리니\n"
     ]
    }
   ],
   "source": [
    "# readline = 한줄씩\n",
    "\n",
    "f =open(\"live.txt\",\"rt\")\n",
    "text =\"\"\n",
    "line = 1\n",
    "while True:\n",
    "    row = f.readline()\n",
    "    if not row : break\n",
    "    text += str(line) + \" : \" + row\n",
    "    line += 1\n",
    "f.close()\n",
    "print(text)"
   ]
  },
  {
   "cell_type": "code",
   "execution_count": 117,
   "metadata": {},
   "outputs": [
    {
     "name": "stdout",
     "output_type": "stream",
     "text": [
      "삶이 그대를 속일지라도\n",
      "슬퍼하거나 노하지 말라!\n",
      "우울한 날들을 견디면\n",
      "믿으라, 기쁨의 날이 오리니"
     ]
    }
   ],
   "source": [
    "# readlines = 여러줄\n",
    "f = open(\"live.txt\",\"rt\")\n",
    "rows = f.readlines()\n",
    "for row in rows:\n",
    "    print(row, end ='')\n",
    "f.close()"
   ]
  },
  {
   "cell_type": "code",
   "execution_count": 118,
   "metadata": {},
   "outputs": [
    {
     "name": "stdout",
     "output_type": "stream",
     "text": [
      "삶이 그대를 속일지라도\n",
      "\n"
     ]
    }
   ],
   "source": [
    "print(rows[0])"
   ]
  },
  {
   "cell_type": "code",
   "execution_count": 119,
   "metadata": {},
   "outputs": [
    {
     "name": "stdout",
     "output_type": "stream",
     "text": [
      "으\n"
     ]
    }
   ],
   "source": [
    "print(row[1])"
   ]
  },
  {
   "cell_type": "code",
   "execution_count": 120,
   "metadata": {},
   "outputs": [
    {
     "name": "stdout",
     "output_type": "stream",
     "text": [
      "슬퍼하거나 노하지 말라!\n",
      "\n"
     ]
    }
   ],
   "source": [
    "print(rows[1])"
   ]
  },
  {
   "cell_type": "code",
   "execution_count": 122,
   "metadata": {},
   "outputs": [
    {
     "name": "stdout",
     "output_type": "stream",
     "text": [
      "삶이 그대를 속일지라도\n",
      "슬퍼하거나 노하지 말라!\n",
      "우울한 날들을 견디면\n",
      "믿으라, 기쁨의 날이 오리니"
     ]
    }
   ],
   "source": [
    "# readfile\n",
    "f = open(\"live.txt\",\"rt\")\n",
    "for line in f:\n",
    "    print(line, end='')\n",
    "f.close()"
   ]
  },
  {
   "cell_type": "markdown",
   "metadata": {},
   "source": [
    "### seek 함수 (위치, 기준)"
   ]
  },
  {
   "cell_type": "code",
   "execution_count": 123,
   "metadata": {},
   "outputs": [
    {
     "name": "stdout",
     "output_type": "stream",
     "text": [
      "속일지라도\n",
      "슬퍼하거나 노하지 말라!\n",
      "우울한 날들을 견디면\n",
      "믿으라, 기쁨의 날이 오리니\n"
     ]
    }
   ],
   "source": [
    "f = open(\"live.txt\",\"rt\")\n",
    "f.seek(12,0)\n",
    "text = f.read()\n",
    "f.close()\n",
    "print(text)"
   ]
  },
  {
   "cell_type": "code",
   "execution_count": 129,
   "metadata": {},
   "outputs": [],
   "source": [
    "# append (기존 내용 그대로 유지하고 뒤에 덧붙임)\n",
    "f = open(\"live.txt\",\"at\")\n",
    "f.write(\"\\n\\n푸쉬킨 형님의 말씀이었습니다\")\n",
    "f.close()"
   ]
  },
  {
   "cell_type": "code",
   "execution_count": 130,
   "metadata": {},
   "outputs": [
    {
     "name": "stdout",
     "output_type": "stream",
     "text": [
      "삶이 그대를 속일지라도\n",
      "슬퍼하거나 노하지 말라!\n",
      "우울한 날들을 견디면\n",
      "믿으라, 기쁨의 날이 오리니\n",
      "\n",
      "\n",
      "푸쉬킨 형님의 말씀이었습니다"
     ]
    }
   ],
   "source": [
    "f = open(\"live.txt\",\"rt\")\n",
    "for line in f:\n",
    "    print(line, end='')\n",
    "f.close()"
   ]
  },
  {
   "cell_type": "code",
   "execution_count": 132,
   "metadata": {},
   "outputs": [
    {
     "name": "stdout",
     "output_type": "stream",
     "text": [
      "삶이 그대를 속일지라도\n",
      "슬퍼하거나 노하지 말라!\n",
      "우울한 날들을 견디면\n",
      "믿으라, 기쁨의 날이 오리니\n",
      "\n",
      "\n",
      "푸쉬킨 형님의 말씀이었습니다\n"
     ]
    }
   ],
   "source": [
    "# withas 파일 - close가 with 함수에 포함되어 있다\n",
    "with open(\"live.txt\",\"rt\") as f:\n",
    "    text = f.read()\n",
    "print(text)"
   ]
  },
  {
   "cell_type": "markdown",
   "metadata": {},
   "source": [
    "## 14-2. 파일 관리"
   ]
  },
  {
   "cell_type": "code",
   "execution_count": 133,
   "metadata": {},
   "outputs": [
    {
     "data": {
      "text/plain": [
       "'live2.txt'"
      ]
     },
     "execution_count": 133,
     "metadata": {},
     "output_type": "execute_result"
    }
   ],
   "source": [
    "import shutil\n",
    "\n",
    "shutil.copy(\"live.txt\",\"live2.txt\")"
   ]
  },
  {
   "cell_type": "code",
   "execution_count": null,
   "metadata": {},
   "outputs": [],
   "source": []
  },
  {
   "cell_type": "code",
   "execution_count": null,
   "metadata": {},
   "outputs": [],
   "source": []
  },
  {
   "cell_type": "code",
   "execution_count": null,
   "metadata": {},
   "outputs": [],
   "source": []
  }
 ],
 "metadata": {
  "kernelspec": {
   "display_name": "Python 3",
   "language": "python",
   "name": "python3"
  },
  "language_info": {
   "codemirror_mode": {
    "name": "ipython",
    "version": 3
   },
   "file_extension": ".py",
   "mimetype": "text/x-python",
   "name": "python",
   "nbconvert_exporter": "python",
   "pygments_lexer": "ipython3",
   "version": "3.8.5"
  }
 },
 "nbformat": 4,
 "nbformat_minor": 4
}
