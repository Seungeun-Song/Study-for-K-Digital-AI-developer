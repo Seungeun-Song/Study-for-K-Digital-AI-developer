{
 "cells": [
  {
   "cell_type": "markdown",
   "metadata": {},
   "source": [
    "# 17-2. 데코레이터"
   ]
  },
  {
   "cell_type": "code",
   "execution_count": 6,
   "metadata": {},
   "outputs": [],
   "source": [
    "# 지역함수\n",
    "\n",
    "def makeHello(message):\n",
    "    def hello(name):                             # hello는 지역함수\n",
    "        print(message+\",\"+name)\n",
    "    return hello                                # (hello = 함수명). 따라서 함수를 리턴"
   ]
  },
  {
   "cell_type": "code",
   "execution_count": 7,
   "metadata": {},
   "outputs": [],
   "source": [
    "enghello = makeHello(\"Good Morning\")           # enghello = hello 함수"
   ]
  },
  {
   "cell_type": "code",
   "execution_count": 8,
   "metadata": {},
   "outputs": [],
   "source": [
    "hanhello = makeHello(\"안녕하세요\")"
   ]
  },
  {
   "cell_type": "code",
   "execution_count": 9,
   "metadata": {},
   "outputs": [
    {
     "name": "stdout",
     "output_type": "stream",
     "text": [
      "Good Morning,Mr Kim\n"
     ]
    }
   ],
   "source": [
    "enghello(\"Mr Kim\")"
   ]
  },
  {
   "cell_type": "code",
   "execution_count": 11,
   "metadata": {},
   "outputs": [
    {
     "name": "stdout",
     "output_type": "stream",
     "text": [
      "안녕하세요,홍길동님\n"
     ]
    }
   ],
   "source": [
    "hanhello(\"홍길동님\")"
   ]
  },
  {
   "cell_type": "code",
   "execution_count": 12,
   "metadata": {},
   "outputs": [
    {
     "data": {
      "text/plain": [
       "function"
      ]
     },
     "execution_count": 12,
     "metadata": {},
     "output_type": "execute_result"
    }
   ],
   "source": [
    "type(enghello)"
   ]
  },
  {
   "cell_type": "code",
   "execution_count": null,
   "metadata": {},
   "outputs": [],
   "source": []
  },
  {
   "cell_type": "markdown",
   "metadata": {},
   "source": [
    "### 함수 데코레이터 - 함수에 원하는 코드 추가하는 기법"
   ]
  },
  {
   "cell_type": "code",
   "execution_count": 13,
   "metadata": {},
   "outputs": [
    {
     "name": "stdout",
     "output_type": "stream",
     "text": [
      "--------------------\n",
      "결과를 출력합니다\n",
      "--------------------\n"
     ]
    }
   ],
   "source": [
    "# 함수 래핑(wrapping) - 원하는 코드 추가 및 원래 함수 대리호출하여 기능확장\n",
    "\n",
    "def inner():\n",
    "    print(\"결과를 출력합니다\")\n",
    "    \n",
    "def outer(func):\n",
    "    print(\"-\"*20)\n",
    "    func()                    # outer 인자로 들어온 걸 함수로 한다는 뜻. \n",
    "    print(\"-\"*20)\n",
    "    \n",
    "outer(inner)                  # outer 인자로 inner 함수가 들어가. func() = inner()"
   ]
  },
  {
   "cell_type": "code",
   "execution_count": 14,
   "metadata": {},
   "outputs": [],
   "source": [
    "def hello():\n",
    "    print(\"안녕하세요\")"
   ]
  },
  {
   "cell_type": "code",
   "execution_count": 15,
   "metadata": {},
   "outputs": [
    {
     "name": "stdout",
     "output_type": "stream",
     "text": [
      "--------------------\n",
      "안녕하세요\n",
      "--------------------\n"
     ]
    }
   ],
   "source": [
    "outer(hello)"
   ]
  },
  {
   "cell_type": "code",
   "execution_count": 17,
   "metadata": {},
   "outputs": [
    {
     "name": "stdout",
     "output_type": "stream",
     "text": [
      "--------------------\n",
      "결과를 출력합니다\n",
      "--------------------\n"
     ]
    }
   ],
   "source": [
    "def inner():\n",
    "    print(\"결과를 출력합니다\")\n",
    "    \n",
    "    \n",
    "def outer(func):\n",
    "    def wrapper():\n",
    "        print(\"-\"*20)\n",
    "        func()         \n",
    "        print(\"-\"*20)\n",
    "    return wrapper\n",
    "\n",
    "inner = outer(inner)      #outer 함수에서 innner함수를 사용한 걸 inner라는 이름의 변수에 넣는다\n",
    "inner()"
   ]
  },
  {
   "cell_type": "code",
   "execution_count": 18,
   "metadata": {},
   "outputs": [
    {
     "name": "stdout",
     "output_type": "stream",
     "text": [
      "--------------------\n",
      "결과를 출력합니다\n",
      "--------------------\n"
     ]
    }
   ],
   "source": [
    "def outer(func):\n",
    "    def wrapper():\n",
    "        print(\"-\"*20)\n",
    "        func()         \n",
    "        print(\"-\"*20)\n",
    "    return wrapper\n",
    "\n",
    "@outer                                # inner = outer(inner)\n",
    "def inner():\n",
    "    print(\"결과를 출력합니다\")\n",
    "    \n",
    "inner()"
   ]
  },
  {
   "cell_type": "code",
   "execution_count": 19,
   "metadata": {},
   "outputs": [
    {
     "name": "stdout",
     "output_type": "stream",
     "text": [
      "--------------------\n",
      "안녕하세요\n",
      "--------------------\n"
     ]
    }
   ],
   "source": [
    "@outer\n",
    "def inner2():\n",
    "    print(\"안녕하세요\")\n",
    "    \n",
    "inner2()"
   ]
  },
  {
   "cell_type": "code",
   "execution_count": 25,
   "metadata": {},
   "outputs": [],
   "source": [
    "# 데코레이터 실용\n",
    "\n",
    "def para(func):\n",
    "    def wrapper():\n",
    "        return \"<p>\" + str(func()) + \"</p>\"          #  나이가 int로 들어갈 수도 있으니까. 에러방지로 str()\n",
    "    return wrapper\n",
    "\n",
    "@para                       # outname을 para의 인자로 \n",
    "def outname():\n",
    "    return \"김상형\"\n",
    "\n",
    "@para\n",
    "def outage():\n",
    "    return \"29\""
   ]
  },
  {
   "cell_type": "markdown",
   "metadata": {},
   "source": [
    "@para\n",
    "def outname():\n",
    "    return \"김상형\"\n",
    "_____________________________________\n",
    "def para(outname(\"김상형\"))\n",
    "    def wrapper():\n",
    "        retrun \"<p>\" + str(outname(\"김상형)) + \"</p>\"\n",
    "    return wrapper"
   ]
  },
  {
   "cell_type": "code",
   "execution_count": 21,
   "metadata": {},
   "outputs": [
    {
     "name": "stdout",
     "output_type": "stream",
     "text": [
      "<p>김상형</p>\n"
     ]
    }
   ],
   "source": [
    "print(outname())"
   ]
  },
  {
   "cell_type": "code",
   "execution_count": 22,
   "metadata": {},
   "outputs": [
    {
     "name": "stdout",
     "output_type": "stream",
     "text": [
      "<p>29</p>\n"
     ]
    }
   ],
   "source": [
    "print(outage())"
   ]
  },
  {
   "cell_type": "code",
   "execution_count": 24,
   "metadata": {},
   "outputs": [
    {
     "name": "stdout",
     "output_type": "stream",
     "text": [
      "<div><p>김상형</p></div>\n",
      "<p><div>29</div></p>\n"
     ]
    }
   ],
   "source": [
    "def div(func):\n",
    "    def wrapper():\n",
    "        return \"<div>\" + str(func()) + \"</div>\"\n",
    "    return wrapper\n",
    "        \n",
    "def para(func):\n",
    "    def wrapper():        \n",
    "        return \"<p>\" + str(func()) + \"</p>\" \n",
    "    return wrapper\n",
    "\n",
    "@div                       # div안에 para를 인자로. para안에 outname을 인자로\n",
    "@para\n",
    "def outname():\n",
    "    return \"김상형\"\n",
    "\n",
    "@para\n",
    "@div\n",
    "def outage():\n",
    "    return \"29\"\n",
    "\n",
    "print(outname())\n",
    "print(outage())"
   ]
  },
  {
   "cell_type": "code",
   "execution_count": 28,
   "metadata": {},
   "outputs": [
    {
     "ename": "TypeError",
     "evalue": "wrapper() takes 0 positional arguments but 1 was given",
     "output_type": "error",
     "traceback": [
      "\u001b[1;31m---------------------------------------------------------------------------\u001b[0m",
      "\u001b[1;31mTypeError\u001b[0m                                 Traceback (most recent call last)",
      "\u001b[1;32m<ipython-input-28-24cc8626266b>\u001b[0m in \u001b[0;36m<module>\u001b[1;34m\u001b[0m\n\u001b[0;32m     13\u001b[0m     \u001b[1;32mreturn\u001b[0m \u001b[1;34m\"나이 :\"\u001b[0m \u001b[1;33m+\u001b[0m\u001b[0mstr\u001b[0m\u001b[1;33m(\u001b[0m\u001b[0mage\u001b[0m\u001b[1;33m)\u001b[0m\u001b[1;33m\u001b[0m\u001b[1;33m\u001b[0m\u001b[0m\n\u001b[0;32m     14\u001b[0m \u001b[1;33m\u001b[0m\u001b[0m\n\u001b[1;32m---> 15\u001b[1;33m \u001b[0mprint\u001b[0m\u001b[1;33m(\u001b[0m\u001b[0moutname\u001b[0m\u001b[1;33m(\u001b[0m\u001b[1;34m\"김상형\"\u001b[0m\u001b[1;33m)\u001b[0m\u001b[1;33m)\u001b[0m\u001b[1;33m\u001b[0m\u001b[1;33m\u001b[0m\u001b[0m\n\u001b[0m\u001b[0;32m     16\u001b[0m \u001b[0mprint\u001b[0m\u001b[1;33m(\u001b[0m\u001b[0moutage\u001b[0m\u001b[1;33m(\u001b[0m\u001b[1;36m29\u001b[0m\u001b[1;33m)\u001b[0m\u001b[1;33m)\u001b[0m\u001b[1;33m\u001b[0m\u001b[1;33m\u001b[0m\u001b[0m\n",
      "\u001b[1;31mTypeError\u001b[0m: wrapper() takes 0 positional arguments but 1 was given"
     ]
    }
   ],
   "source": [
    "# 래핑되는 함수가 인수를 가질 때\n",
    "def para(func):\n",
    "    def wrapper():                                # wrapper로 리턴되었을 때 여기서 outname의 인자로 들어온(name)을 인식을 못했어.\n",
    "        return \"<p>\" + str(func()) + \"</p>\"          \n",
    "    return wrapper\n",
    "\n",
    "@para                      \n",
    "def outname(name):\n",
    "    return \"이름 :\" +name + \"님\"\n",
    "\n",
    "@para\n",
    "def outage(age):\n",
    "    return \"나이 :\" +str(age)\n",
    "\n",
    "print(outname(\"김상형\"))\n",
    "print(outage(29))"
   ]
  },
  {
   "cell_type": "code",
   "execution_count": 31,
   "metadata": {},
   "outputs": [
    {
     "name": "stdout",
     "output_type": "stream",
     "text": [
      "<p>이름 :김상형님</p>\n",
      "<p>나이 :29</p>\n"
     ]
    }
   ],
   "source": [
    "def para(func):\n",
    "    def wrapper(*args, **kwargs):\n",
    "        return \"<p>\" + str(func(*args, **kwargs)) +\"</p>\"\n",
    "    return wrapper\n",
    "\n",
    "@para\n",
    "def outname(name):\n",
    "    return \"이름 :\" + name + \"님\"\n",
    "\n",
    "@para\n",
    "def outage(age):\n",
    "    return \"나이 :\" +str(age)\n",
    "\n",
    "print(outname(\"김상형\"))\n",
    "print(outage(29))"
   ]
  },
  {
   "cell_type": "code",
   "execution_count": 32,
   "metadata": {},
   "outputs": [
    {
     "name": "stdout",
     "output_type": "stream",
     "text": [
      "wrapper\n"
     ]
    }
   ],
   "source": [
    "print(outname.__name__)    # outname의 __name__(자기이름찍어달라는) = 왜 wrapper일까??  wrapper을 통해서 들어갔기 때문"
   ]
  },
  {
   "cell_type": "code",
   "execution_count": 33,
   "metadata": {},
   "outputs": [
    {
     "name": "stdout",
     "output_type": "stream",
     "text": [
      "<p>이름 :김상형님</p>\n",
      "<p>나이 :29</p>\n"
     ]
    }
   ],
   "source": [
    "# outname으로 뭔가를 만들어야 할 때 (wrapper로 출력되는 에러를 없애는 방법)\n",
    "\n",
    "from functools import wraps\n",
    "\n",
    "def para(func):\n",
    "    @wraps(func)   # func을 인자로 가지는  wraps 함수를 데코레이트한다.\n",
    "    def wrapper(*args, **kwargs):\n",
    "        return \"<p>\" + str(func(*args, **kwargs)) +\"</p>\"\n",
    "    return wrapper\n",
    "\n",
    "@para\n",
    "def outname(name):\n",
    "    return \"이름 :\" + name + \"님\"\n",
    "\n",
    "@para\n",
    "def outage(age):\n",
    "    return \"나이 :\" +str(age)\n",
    "\n",
    "print(outname(\"김상형\"))\n",
    "print(outage(29))"
   ]
  },
  {
   "cell_type": "code",
   "execution_count": 34,
   "metadata": {},
   "outputs": [
    {
     "name": "stdout",
     "output_type": "stream",
     "text": [
      "outname\n"
     ]
    }
   ],
   "source": [
    "print(outname.__name__) "
   ]
  },
  {
   "cell_type": "markdown",
   "metadata": {},
   "source": [
    "### 클래스 데코레이터 - ex) _ _ _call_ _ _ : 자동 호출 특수 메서드"
   ]
  },
  {
   "cell_type": "code",
   "execution_count": 36,
   "metadata": {},
   "outputs": [
    {
     "name": "stdout",
     "output_type": "stream",
     "text": [
      "-----------------------------\n",
      "결과를 출력합니다\n",
      "-----------------------------\n"
     ]
    }
   ],
   "source": [
    "class Outer:\n",
    "    def __init__(self,func):\n",
    "        self.func = func\n",
    "        \n",
    "    def __call__(self):\n",
    "        print(\"-\"*29)\n",
    "        self.func()\n",
    "        print(\"-\"*29)\n",
    "        \n",
    "def inner():\n",
    "    print(\"결과를 출력합니다\")\n",
    "    \n",
    "inner = Outer(inner)\n",
    "inner()"
   ]
  },
  {
   "cell_type": "code",
   "execution_count": 37,
   "metadata": {
    "scrolled": true
   },
   "outputs": [
    {
     "name": "stdout",
     "output_type": "stream",
     "text": [
      "-----------------------------\n",
      "결과를 출력합니다\n",
      "-----------------------------\n"
     ]
    }
   ],
   "source": [
    "class Outer:\n",
    "    def __init__(self,func):\n",
    "        self.func = func\n",
    "        \n",
    "    def __call__(self):\n",
    "        print(\"-\"*29)\n",
    "        self.func()\n",
    "        print(\"-\"*29)\n",
    "@Outer        \n",
    "def inner():\n",
    "    print(\"결과를 출력합니다\")\n",
    "\n",
    "inner()"
   ]
  },
  {
   "cell_type": "markdown",
   "metadata": {},
   "source": [
    "## 17-3. 동적 코드 실행"
   ]
  },
  {
   "cell_type": "markdown",
   "metadata": {},
   "source": [
    "### eval(uation) \n",
    "문자혈 형태로 된 파이썬 표현식 평가하여 결과 반환, 실시간으로 코드 만들어 실행가능\n",
    "\n",
    "#### 오류가능(내가 의도했던 것과 다른 형태로 나올 수 있음/ 보완 field에서도 비권장)"
   ]
  },
  {
   "cell_type": "code",
   "execution_count": 39,
   "metadata": {},
   "outputs": [
    {
     "name": "stdout",
     "output_type": "stream",
     "text": [
      "14\n",
      "5\n",
      "seoul,osan,suwon,"
     ]
    }
   ],
   "source": [
    "result = eval(\"2 + 3 * 4\" )      # str인데 eval이 판단해서 int로 인식하여 값으로 출력\n",
    "print(result)\n",
    "\n",
    "a = 2\n",
    "print(eval(\"a + 3\"))\n",
    "\n",
    "city = eval(\"['seoul', 'osan', 'suwon']\")\n",
    "for c in city:\n",
    "    print(c, end=\",\")"
   ]
  },
  {
   "cell_type": "code",
   "execution_count": 40,
   "metadata": {},
   "outputs": [
    {
     "data": {
      "text/plain": [
       "int"
      ]
     },
     "execution_count": 40,
     "metadata": {},
     "output_type": "execute_result"
    }
   ],
   "source": [
    "type(result)"
   ]
  },
  {
   "cell_type": "code",
   "execution_count": 42,
   "metadata": {},
   "outputs": [
    {
     "name": "stdout",
     "output_type": "stream",
     "text": [
      "수식을 입력하세요(끝낼 때 0) : 521+52\n",
      "573\n",
      "수식을 입력하세요(끝낼 때 0) : \n",
      "수식이 잘못되었습니다.\n",
      "수식을 입력하세요(끝낼 때 0) : 0.456**65210/95410//412.0%156\n",
      "0.0\n",
      "수식을 입력하세요(끝낼 때 0) : 0\n"
     ]
    }
   ],
   "source": [
    "import math\n",
    "\n",
    "while True:\n",
    "    try:\n",
    "        expr = input(\"수식을 입력하세요(끝낼 때 0) : \")\n",
    "        if expr == '0':\n",
    "            break\n",
    "        print(eval(expr))\n",
    "    except:\n",
    "        print(\"수식이 잘못되었습니다.\")\n"
   ]
  },
  {
   "cell_type": "markdown",
   "metadata": {},
   "source": [
    "### repr \n",
    "객체로부터 문자열 표현식을 생성/ 해석기를 위한 표현식이라는 점에서 str함수와 차이/"
   ]
  },
  {
   "cell_type": "code",
   "execution_count": 45,
   "metadata": {},
   "outputs": [
    {
     "name": "stdout",
     "output_type": "stream",
     "text": [
      "1234, 3.14, ['seoul', 'osan', 'suwon'], korea\n"
     ]
    }
   ],
   "source": [
    "# str\n",
    "\n",
    "print(str(1234), end = ', ')\n",
    "print(str(3.14), end = ', ')\n",
    "print(str(['seoul', 'osan', 'suwon']), end = ', ')\n",
    "print(str('korea'))"
   ]
  },
  {
   "cell_type": "code",
   "execution_count": 46,
   "metadata": {},
   "outputs": [
    {
     "name": "stdout",
     "output_type": "stream",
     "text": [
      "1234, 3.14, ['seoul', 'osan', 'suwon'], 'korea'\n"
     ]
    }
   ],
   "source": [
    "# repr\n",
    "\n",
    "print(repr(1234), end = ', ')\n",
    "print(repr(3.14), end = ', ')\n",
    "print(repr(['seoul', 'osan', 'suwon']), end = ', ')\n",
    "print(repr('korea'))"
   ]
  },
  {
   "cell_type": "code",
   "execution_count": 47,
   "metadata": {},
   "outputs": [
    {
     "data": {
      "text/plain": [
       "'korea'"
      ]
     },
     "execution_count": 47,
     "metadata": {},
     "output_type": "execute_result"
    }
   ],
   "source": [
    "str('korea')"
   ]
  },
  {
   "cell_type": "code",
   "execution_count": 6,
   "metadata": {},
   "outputs": [],
   "source": [
    "b = str('korea')"
   ]
  },
  {
   "cell_type": "code",
   "execution_count": 7,
   "metadata": {
    "scrolled": true
   },
   "outputs": [
    {
     "ename": "NameError",
     "evalue": "name 'korea' is not defined",
     "output_type": "error",
     "traceback": [
      "\u001b[1;31m---------------------------------------------------------------------------\u001b[0m",
      "\u001b[1;31mNameError\u001b[0m                                 Traceback (most recent call last)",
      "\u001b[1;32m<ipython-input-7-c4b192bdc604>\u001b[0m in \u001b[0;36m<module>\u001b[1;34m\u001b[0m\n\u001b[1;32m----> 1\u001b[1;33m \u001b[0meval\u001b[0m\u001b[1;33m(\u001b[0m\u001b[0mb\u001b[0m\u001b[1;33m)\u001b[0m\u001b[1;33m\u001b[0m\u001b[1;33m\u001b[0m\u001b[0m\n\u001b[0m",
      "\u001b[1;32m<string>\u001b[0m in \u001b[0;36m<module>\u001b[1;34m\u001b[0m\n",
      "\u001b[1;31mNameError\u001b[0m: name 'korea' is not defined"
     ]
    }
   ],
   "source": [
    "eval(b)"
   ]
  },
  {
   "cell_type": "code",
   "execution_count": 8,
   "metadata": {},
   "outputs": [
    {
     "name": "stdout",
     "output_type": "stream",
     "text": [
      "korea\n"
     ]
    }
   ],
   "source": [
    "print(b)"
   ]
  },
  {
   "cell_type": "code",
   "execution_count": 12,
   "metadata": {},
   "outputs": [
    {
     "ename": "NameError",
     "evalue": "name 'korea' is not defined",
     "output_type": "error",
     "traceback": [
      "\u001b[1;31m---------------------------------------------------------------------------\u001b[0m",
      "\u001b[1;31mNameError\u001b[0m                                 Traceback (most recent call last)",
      "\u001b[1;32m<ipython-input-12-00887228eae4>\u001b[0m in \u001b[0;36m<module>\u001b[1;34m\u001b[0m\n\u001b[1;32m----> 1\u001b[1;33m \u001b[0mrepr\u001b[0m\u001b[1;33m(\u001b[0m\u001b[0mkorea\u001b[0m\u001b[1;33m)\u001b[0m\u001b[1;33m\u001b[0m\u001b[1;33m\u001b[0m\u001b[0m\n\u001b[0m",
      "\u001b[1;31mNameError\u001b[0m: name 'korea' is not defined"
     ]
    }
   ],
   "source": [
    "repr(korea)"
   ]
  },
  {
   "cell_type": "code",
   "execution_count": 5,
   "metadata": {},
   "outputs": [
    {
     "data": {
      "text/plain": [
       "\"'korea'\""
      ]
     },
     "execution_count": 5,
     "metadata": {},
     "output_type": "execute_result"
    }
   ],
   "source": [
    "repr('korea')"
   ]
  },
  {
   "cell_type": "code",
   "execution_count": 10,
   "metadata": {},
   "outputs": [
    {
     "data": {
      "text/plain": [
       "'korea'"
      ]
     },
     "execution_count": 10,
     "metadata": {},
     "output_type": "execute_result"
    }
   ],
   "source": [
    "a = repr('korea')\n",
    "eval(a)"
   ]
  },
  {
   "cell_type": "code",
   "execution_count": 11,
   "metadata": {},
   "outputs": [
    {
     "name": "stdout",
     "output_type": "stream",
     "text": [
      "'korea'\n"
     ]
    }
   ],
   "source": [
    "print(a)"
   ]
  },
  {
   "cell_type": "code",
   "execution_count": 14,
   "metadata": {},
   "outputs": [
    {
     "name": "stdout",
     "output_type": "stream",
     "text": [
      "1234\n",
      "1234\n"
     ]
    }
   ],
   "source": [
    "intexp = repr(1234)\n",
    "print(intexp)\n",
    "intvalue = eval(intexp)\n",
    "print(intvalue)"
   ]
  },
  {
   "cell_type": "code",
   "execution_count": 13,
   "metadata": {},
   "outputs": [
    {
     "name": "stdout",
     "output_type": "stream",
     "text": [
      "'korea'\n",
      "korea\n"
     ]
    }
   ],
   "source": [
    "strexp =repr('korea')\n",
    "print(strexp)\n",
    "strvalue = eval(strexp)\n",
    "print(strvalue)"
   ]
  },
  {
   "cell_type": "code",
   "execution_count": 15,
   "metadata": {},
   "outputs": [],
   "source": [
    "# 클래스에서 사용\n",
    "\n",
    "class Human:\n",
    "    def __init__(self, age, name):\n",
    "        self.age = age\n",
    "        self.name = name\n",
    "    def __str__(self):\n",
    "        return \"이름 %s, 나이 %d\" %(self.name, self.age)\n",
    "    def __repr__(self):\n",
    "        return \"Human(\" + str(self.age) + \",'\"+self.name + \"')\""
   ]
  },
  {
   "cell_type": "code",
   "execution_count": 16,
   "metadata": {},
   "outputs": [
    {
     "name": "stdout",
     "output_type": "stream",
     "text": [
      "이름 홍길동, 나이 29\n"
     ]
    }
   ],
   "source": [
    "kim = Human(29, \"홍길동\")\n",
    "print(kim)"
   ]
  },
  {
   "cell_type": "code",
   "execution_count": 17,
   "metadata": {},
   "outputs": [
    {
     "name": "stdout",
     "output_type": "stream",
     "text": [
      "Human(29,'홍길동')\n"
     ]
    }
   ],
   "source": [
    "kimexp =repr(kim)\n",
    "print(kimexp)"
   ]
  },
  {
   "cell_type": "code",
   "execution_count": 18,
   "metadata": {},
   "outputs": [
    {
     "name": "stdout",
     "output_type": "stream",
     "text": [
      "이름 홍길동, 나이 29\n"
     ]
    }
   ],
   "source": [
    "kimcopy = eval(kimexp)\n",
    "print(kimcopy)"
   ]
  },
  {
   "cell_type": "markdown",
   "metadata": {},
   "source": [
    "### exec(ute-실행하다) : 파이썬 코드를 직접 실행하는 함수\n",
    "eval은 표현식만 평가할 뿐 코드를 직접 실행하는 것은 아니다\n",
    "\n",
    "출력함수 print와는 다르다. 코드를 직접 실행하는 exec"
   ]
  },
  {
   "cell_type": "code",
   "execution_count": 20,
   "metadata": {},
   "outputs": [
    {
     "name": "stdout",
     "output_type": "stream",
     "text": [
      "3\n",
      "0,1,2,3,4,"
     ]
    }
   ],
   "source": [
    "exec(\"value = 3\")\n",
    "print(value)\n",
    "exec(\"for i in range(5): print(i, end=',')\")"
   ]
  },
  {
   "cell_type": "code",
   "execution_count": 21,
   "metadata": {},
   "outputs": [
    {
     "name": "stdout",
     "output_type": "stream",
     "text": [
      "0,\n",
      "1,\n",
      "2,\n",
      "3,\n",
      "4,\n"
     ]
    }
   ],
   "source": [
    "for i in range(5):\n",
    "    print(i, end=',')\n",
    "    print()"
   ]
  },
  {
   "cell_type": "code",
   "execution_count": 22,
   "metadata": {},
   "outputs": [
    {
     "ename": "SyntaxError",
     "evalue": "invalid syntax (<string>, line 1)",
     "output_type": "error",
     "traceback": [
      "Traceback \u001b[1;36m(most recent call last)\u001b[0m:\n",
      "  File \u001b[0;32m\"C:\\ProgramData\\Anaconda3\\lib\\site-packages\\IPython\\core\\interactiveshell.py\"\u001b[0m, line \u001b[0;32m3418\u001b[0m, in \u001b[0;35mrun_code\u001b[0m\n    exec(code_obj, self.user_global_ns, self.user_ns)\n",
      "\u001b[1;36m  File \u001b[1;32m\"<ipython-input-22-558a81f2306e>\"\u001b[1;36m, line \u001b[1;32m1\u001b[1;36m, in \u001b[1;35m<module>\u001b[1;36m\u001b[0m\n\u001b[1;33m    exec(\"for i in range(5): print(i, end=',')    print()\")\u001b[0m\n",
      "\u001b[1;36m  File \u001b[1;32m\"<string>\"\u001b[1;36m, line \u001b[1;32m1\u001b[0m\n\u001b[1;33m    for i in range(5): print(i, end=',')    print()\u001b[0m\n\u001b[1;37m                                            ^\u001b[0m\n\u001b[1;31mSyntaxError\u001b[0m\u001b[1;31m:\u001b[0m invalid syntax\n"
     ]
    }
   ],
   "source": [
    "exec(\"for i in range(5): print(i, end=',')    print()\")"
   ]
  },
  {
   "cell_type": "code",
   "execution_count": 24,
   "metadata": {},
   "outputs": [
    {
     "name": "stdout",
     "output_type": "stream",
     "text": [
      "0, 1, 2, 3, 4, \n",
      "0, 1, 2, 3, 4, \n",
      "0, 1, 2, 3, 4, \n",
      "0, 1, 2, 3, 4, \n",
      "0, 1, 2, 3, 4, \n",
      "0, 1, 2, 3, 4, \n",
      "0, 1, 2, 3, 4, \n",
      "0, 1, 2, 3, 4, \n",
      "0, 1, 2, 3, 4, \n",
      "0, 1, 2, 3, 4, \n"
     ]
    }
   ],
   "source": [
    "for n in range(10):\n",
    "    exec(\"\"\"\n",
    "for i in range(5):\n",
    "    print(i, end = ', ')\n",
    "print()\n",
    "    \"\"\")"
   ]
  },
  {
   "cell_type": "code",
   "execution_count": 26,
   "metadata": {},
   "outputs": [
    {
     "name": "stdout",
     "output_type": "stream",
     "text": [
      "0,1,2,3,4,\n",
      "0,1,2,3,4,\n",
      "0,1,2,3,4,\n",
      "0,1,2,3,4,\n",
      "0,1,2,3,4,\n",
      "0,1,2,3,4,\n",
      "0,1,2,3,4,\n",
      "0,1,2,3,4,\n",
      "0,1,2,3,4,\n",
      "0,1,2,3,4,\n"
     ]
    }
   ],
   "source": [
    "# compile(source, filename, mode)\n",
    "\n",
    "code = compile(\"\"\"\n",
    "for i in range(5):\n",
    "    print(i, end=',')\n",
    "print()\n",
    "    \"\"\", '<string>','exec')\n",
    "\n",
    "for n in range(10):\n",
    "    exec(code)"
   ]
  },
  {
   "cell_type": "markdown",
   "metadata": {},
   "source": [
    "#  18장. 그래픽"
   ]
  },
  {
   "cell_type": "markdown",
   "metadata": {},
   "source": [
    "## 18-1. TKinter"
   ]
  },
  {
   "cell_type": "code",
   "execution_count": 28,
   "metadata": {},
   "outputs": [],
   "source": [
    "# 윈도우 생성\n",
    "\n",
    "from tkinter import *\n",
    "main = Tk()\n",
    "\n",
    "main.mainloop()"
   ]
  },
  {
   "cell_type": "code",
   "execution_count": 41,
   "metadata": {},
   "outputs": [],
   "source": [
    "# 위젯 배치\n",
    "\n",
    "from tkinter import *\n",
    "main = Tk()                            # 윈도우 창을 생성하라는 \n",
    "main.title(\"Tk Test\")\n",
    "main.geometry(\"300x200\")\n",
    "#main.resizable(False,False)            # 윈도우창 조절X, 고정값\n",
    "\n",
    "lbl = Label(main, text=\"Label\", font=\"Arial 20\")\n",
    "lbl.pack()\n",
    "apple = Button(main, text=\"Apple\", foreground=\"Red\")\n",
    "apple.pack()\n",
    "orange = Button(main, text=\"Orange\", foreground=\"Green\")\n",
    "orange.pack()\n",
    "\n",
    "main.mainloop()                        # 무언가를 하기 전까지는 무한루프 반복하며 이벤트가 발생하는지 체크"
   ]
  },
  {
   "cell_type": "code",
   "execution_count": 42,
   "metadata": {},
   "outputs": [],
   "source": [
    "# 이벤트 처리\n",
    "\n",
    "from tkinter import *\n",
    "main = Tk()\n",
    "main.title(\"Tk Test\")\n",
    "main.geometry(\"300x200\")\n",
    "\n",
    "lbl = Label(main, text=\"Label\", font=\"Arial 20\")\n",
    "lbl.pack()\n",
    "\n",
    "def appleclick():\n",
    "    lbl[\"text\"] = \"Apple\"\n",
    "apple = Button(main, text=\"Apple\", foreground=\"Red\", command=appleclick)\n",
    "apple.pack()\n",
    "\n",
    "def orangeclick():\n",
    "    lbl[\"text\"] = \"Orange\"\n",
    "orange = Button(main, text=\"Orange\", foreground=\"Green\", command=orangeclick)\n",
    "orange.pack()\n",
    "\n",
    "main.mainloop()"
   ]
  },
  {
   "cell_type": "code",
   "execution_count": 47,
   "metadata": {},
   "outputs": [],
   "source": [
    "# 메세지 박스\n",
    "\n",
    "from tkinter import *\n",
    "import tkinter.messagebox\n",
    "\n",
    "main = Tk()\n",
    "#main.geometry(\"300x200\")\n",
    "\n",
    "def btnclick():\n",
    "    if tkinter.messagebox.askyesno(\"질문\", \"당신은 미성년자입니까?\"):\n",
    "        tkinter.messagebox.showwarning(\"경고\", \"애들은 가라\")\n",
    "    else:\n",
    "        tkinter.messagebox.showinfo(\"환영\", \"어서오세요. 고객님\")\n",
    "btn = Button(main, text=\"입장\", foreground=\"Blue\", command = btnclick)\n",
    "btn.pack()\n",
    "\n",
    "main.mainloop()"
   ]
  },
  {
   "cell_type": "code",
   "execution_count": 48,
   "metadata": {},
   "outputs": [],
   "source": [
    "# 대화상자\n",
    "\n",
    "from tkinter import *\n",
    "import tkinter.messagebox\n",
    "import tkinter.simpledialog\n",
    "\n",
    "main = Tk()\n",
    "#main.geometry(\"300x200\")\n",
    "\n",
    "def btnclick():\n",
    "    name = tkinter.simpledialog.askstring(\"질문\", \"이름을 입력하시오\")\n",
    "    age = tkinter.simpledialog.askinteger(\"질문\", \"나이를 입력하시오\")\n",
    "    if name and age:\n",
    "        tkinter.messagebox.showwarning(\"환영\", str(age) + \"세 \" + name + \"님 반갑습니다.\")\n",
    "\n",
    "btn = Button(main, text=\"클릭\", foreground=\"Blue\", command = btnclick)\n",
    "btn.pack()\n",
    "\n",
    "main.mainloop()"
   ]
  },
  {
   "cell_type": "code",
   "execution_count": 49,
   "metadata": {},
   "outputs": [],
   "source": [
    "# 메뉴\n",
    "\n",
    "from tkinter import *\n",
    "import tkinter.messagebox\n",
    "\n",
    "main = Tk()\n",
    "main.title(\"Tk Test\")\n",
    "main.geometry(\"300x200\")\n",
    "\n",
    "menubar = Menu(main)\n",
    "main.config(menu = menubar)\n",
    "\n",
    "popup = Menu(menubar)\n",
    "menubar.add_cascade(label = \"파일\", menu = popup)\n",
    "\n",
    "def about():\n",
    "    tkinter.messagebox.showinfo(\"소개\", \"메뉴 사용 예제입니다.\")\n",
    "\n",
    "popup.add_command(label = \"소개\", command = about)\n",
    "popup.add_command(label = \"종료\", command = quit)\n",
    "\n",
    "main.mainloop()"
   ]
  },
  {
   "cell_type": "code",
   "execution_count": 2,
   "metadata": {},
   "outputs": [],
   "source": [
    "# 그래픽 출력\n",
    "\n",
    "from tkinter import *\n",
    "main = Tk()\n",
    "c = Canvas(main, width=400, height=200)          # 대문자 적혀있는 것 = class\n",
    "c.pack()\n",
    "\n",
    "c.create_line(10, 10, 100, 100)\n",
    "c.create_line(10, 100, 100, 10, fill=\"blue\", width = 5)\n",
    "c.create_rectangle(110, 10, 200, 100, outline=\"red\", width=5)\n",
    "c.create_oval(210, 10, 300, 100, width=3, fill=\"yellow\")\n",
    "\n",
    "main.mainloop()"
   ]
  },
  {
   "cell_type": "code",
   "execution_count": 17,
   "metadata": {},
   "outputs": [
    {
     "ename": "TclError",
     "evalue": "couldn't recognize data in image file \"child.gif\"",
     "output_type": "error",
     "traceback": [
      "\u001b[1;31m---------------------------------------------------------------------------\u001b[0m",
      "\u001b[1;31mTclError\u001b[0m                                  Traceback (most recent call last)",
      "\u001b[1;32m<ipython-input-17-b89b0b189340>\u001b[0m in \u001b[0;36m<module>\u001b[1;34m\u001b[0m\n\u001b[0;32m      6\u001b[0m \u001b[0mc\u001b[0m\u001b[1;33m.\u001b[0m\u001b[0mpack\u001b[0m\u001b[1;33m(\u001b[0m\u001b[1;33m)\u001b[0m\u001b[1;33m\u001b[0m\u001b[1;33m\u001b[0m\u001b[0m\n\u001b[0;32m      7\u001b[0m \u001b[1;33m\u001b[0m\u001b[0m\n\u001b[1;32m----> 8\u001b[1;33m \u001b[0mimg\u001b[0m \u001b[1;33m=\u001b[0m \u001b[0mPhotoImage\u001b[0m\u001b[1;33m(\u001b[0m\u001b[0mfile\u001b[0m \u001b[1;33m=\u001b[0m \u001b[1;34m\"child.gif\"\u001b[0m\u001b[1;33m)\u001b[0m\u001b[1;33m\u001b[0m\u001b[1;33m\u001b[0m\u001b[0m\n\u001b[0m\u001b[0;32m      9\u001b[0m \u001b[0mc\u001b[0m\u001b[1;33m.\u001b[0m\u001b[0mcreate_image\u001b[0m\u001b[1;33m(\u001b[0m\u001b[1;36m10\u001b[0m\u001b[1;33m,\u001b[0m \u001b[1;36m10\u001b[0m\u001b[1;33m,\u001b[0m \u001b[0mimage\u001b[0m \u001b[1;33m=\u001b[0m \u001b[0mimg\u001b[0m\u001b[1;33m,\u001b[0m \u001b[0manchor\u001b[0m \u001b[1;33m=\u001b[0m \u001b[0mNW\u001b[0m\u001b[1;33m)\u001b[0m\u001b[1;33m\u001b[0m\u001b[1;33m\u001b[0m\u001b[0m\n\u001b[0;32m     10\u001b[0m \u001b[1;33m\u001b[0m\u001b[0m\n",
      "\u001b[1;32mC:\\ProgramData\\Anaconda3\\lib\\tkinter\\__init__.py\u001b[0m in \u001b[0;36m__init__\u001b[1;34m(self, name, cnf, master, **kw)\u001b[0m\n\u001b[0;32m   4059\u001b[0m         \u001b[0mValid\u001b[0m \u001b[0mresource\u001b[0m \u001b[0mnames\u001b[0m\u001b[1;33m:\u001b[0m \u001b[0mdata\u001b[0m\u001b[1;33m,\u001b[0m \u001b[0mformat\u001b[0m\u001b[1;33m,\u001b[0m \u001b[0mfile\u001b[0m\u001b[1;33m,\u001b[0m \u001b[0mgamma\u001b[0m\u001b[1;33m,\u001b[0m \u001b[0mheight\u001b[0m\u001b[1;33m,\u001b[0m \u001b[0mpalette\u001b[0m\u001b[1;33m,\u001b[0m\u001b[1;33m\u001b[0m\u001b[1;33m\u001b[0m\u001b[0m\n\u001b[0;32m   4060\u001b[0m         width.\"\"\"\n\u001b[1;32m-> 4061\u001b[1;33m         \u001b[0mImage\u001b[0m\u001b[1;33m.\u001b[0m\u001b[0m__init__\u001b[0m\u001b[1;33m(\u001b[0m\u001b[0mself\u001b[0m\u001b[1;33m,\u001b[0m \u001b[1;34m'photo'\u001b[0m\u001b[1;33m,\u001b[0m \u001b[0mname\u001b[0m\u001b[1;33m,\u001b[0m \u001b[0mcnf\u001b[0m\u001b[1;33m,\u001b[0m \u001b[0mmaster\u001b[0m\u001b[1;33m,\u001b[0m \u001b[1;33m**\u001b[0m\u001b[0mkw\u001b[0m\u001b[1;33m)\u001b[0m\u001b[1;33m\u001b[0m\u001b[1;33m\u001b[0m\u001b[0m\n\u001b[0m\u001b[0;32m   4062\u001b[0m \u001b[1;33m\u001b[0m\u001b[0m\n\u001b[0;32m   4063\u001b[0m     \u001b[1;32mdef\u001b[0m \u001b[0mblank\u001b[0m\u001b[1;33m(\u001b[0m\u001b[0mself\u001b[0m\u001b[1;33m)\u001b[0m\u001b[1;33m:\u001b[0m\u001b[1;33m\u001b[0m\u001b[1;33m\u001b[0m\u001b[0m\n",
      "\u001b[1;32mC:\\ProgramData\\Anaconda3\\lib\\tkinter\\__init__.py\u001b[0m in \u001b[0;36m__init__\u001b[1;34m(self, imgtype, name, cnf, master, **kw)\u001b[0m\n\u001b[0;32m   4004\u001b[0m                 \u001b[0mv\u001b[0m \u001b[1;33m=\u001b[0m \u001b[0mself\u001b[0m\u001b[1;33m.\u001b[0m\u001b[0m_register\u001b[0m\u001b[1;33m(\u001b[0m\u001b[0mv\u001b[0m\u001b[1;33m)\u001b[0m\u001b[1;33m\u001b[0m\u001b[1;33m\u001b[0m\u001b[0m\n\u001b[0;32m   4005\u001b[0m             \u001b[0moptions\u001b[0m \u001b[1;33m=\u001b[0m \u001b[0moptions\u001b[0m \u001b[1;33m+\u001b[0m \u001b[1;33m(\u001b[0m\u001b[1;34m'-'\u001b[0m\u001b[1;33m+\u001b[0m\u001b[0mk\u001b[0m\u001b[1;33m,\u001b[0m \u001b[0mv\u001b[0m\u001b[1;33m)\u001b[0m\u001b[1;33m\u001b[0m\u001b[1;33m\u001b[0m\u001b[0m\n\u001b[1;32m-> 4006\u001b[1;33m         \u001b[0mself\u001b[0m\u001b[1;33m.\u001b[0m\u001b[0mtk\u001b[0m\u001b[1;33m.\u001b[0m\u001b[0mcall\u001b[0m\u001b[1;33m(\u001b[0m\u001b[1;33m(\u001b[0m\u001b[1;34m'image'\u001b[0m\u001b[1;33m,\u001b[0m \u001b[1;34m'create'\u001b[0m\u001b[1;33m,\u001b[0m \u001b[0mimgtype\u001b[0m\u001b[1;33m,\u001b[0m \u001b[0mname\u001b[0m\u001b[1;33m,\u001b[0m\u001b[1;33m)\u001b[0m \u001b[1;33m+\u001b[0m \u001b[0moptions\u001b[0m\u001b[1;33m)\u001b[0m\u001b[1;33m\u001b[0m\u001b[1;33m\u001b[0m\u001b[0m\n\u001b[0m\u001b[0;32m   4007\u001b[0m         \u001b[0mself\u001b[0m\u001b[1;33m.\u001b[0m\u001b[0mname\u001b[0m \u001b[1;33m=\u001b[0m \u001b[0mname\u001b[0m\u001b[1;33m\u001b[0m\u001b[1;33m\u001b[0m\u001b[0m\n\u001b[0;32m   4008\u001b[0m \u001b[1;33m\u001b[0m\u001b[0m\n",
      "\u001b[1;31mTclError\u001b[0m: couldn't recognize data in image file \"child.gif\""
     ]
    }
   ],
   "source": [
    "# 이미지 출력\n",
    "\n",
    "from tkinter import *\n",
    "main = Tk()\n",
    "c = Canvas(main, width = 500, height = 400)\n",
    "c.pack()\n",
    "\n",
    "img = PhotoImage(file = \"child.gif\")\n",
    "c.create_image(10, 10, image = img, anchor = NW)\n",
    "\n",
    "main.mainloop()"
   ]
  },
  {
   "cell_type": "code",
   "execution_count": 7,
   "metadata": {},
   "outputs": [
    {
     "name": "stdout",
     "output_type": "stream",
     "text": [
      "['C:\\\\Users\\\\Hyuna\\\\송승은\\\\python', 'C:\\\\ProgramData\\\\Anaconda3\\\\python38.zip', 'C:\\\\ProgramData\\\\Anaconda3\\\\DLLs', 'C:\\\\ProgramData\\\\Anaconda3\\\\lib', 'C:\\\\ProgramData\\\\Anaconda3', '', 'C:\\\\ProgramData\\\\Anaconda3\\\\lib\\\\site-packages', 'C:\\\\ProgramData\\\\Anaconda3\\\\lib\\\\site-packages\\\\win32', 'C:\\\\ProgramData\\\\Anaconda3\\\\lib\\\\site-packages\\\\win32\\\\lib', 'C:\\\\ProgramData\\\\Anaconda3\\\\lib\\\\site-packages\\\\Pythonwin', 'C:\\\\ProgramData\\\\Anaconda3\\\\lib\\\\site-packages\\\\IPython\\\\extensions', 'C:\\\\Users\\\\Hyuna\\\\.ipython']\n"
     ]
    }
   ],
   "source": [
    "print(sys.path)"
   ]
  },
  {
   "cell_type": "markdown",
   "metadata": {},
   "source": [
    "## 18-2. 터틀 그래픽"
   ]
  },
  {
   "cell_type": "code",
   "execution_count": 1,
   "metadata": {},
   "outputs": [],
   "source": [
    "\n",
    "import turtle as t\n",
    "t.shape(\"turtle\")\n",
    "\n",
    "t.forward(100)\n",
    "t.right(90)\n",
    "t.forward(100)\n",
    "t.done()\n"
   ]
  },
  {
   "cell_type": "code",
   "execution_count": 3,
   "metadata": {},
   "outputs": [],
   "source": [
    "# 너무 빠르면 sleep 메서드 사용 \n",
    "\n",
    "import turtle as t\n",
    "import time\n",
    "\n",
    "t.shape(\"turtle\")\n",
    "\n",
    "t.forward(100)\n",
    "time.sleep(2)\n",
    "t.right(90)\n",
    "time.sleep(2)\n",
    "t.forward(100)\n",
    "t.done()"
   ]
  },
  {
   "cell_type": "code",
   "execution_count": null,
   "metadata": {},
   "outputs": [],
   "source": [
    "# 트라이앵글 \n",
    "\n",
    "import turtle as t\n",
    "t.shape(\"turtle\")\n",
    "\n",
    "t.right(60)\n",
    "t.forward(100)\n",
    "t.right(120)\n",
    "t.forward(100)\n",
    "t.right(120)\n",
    "t.forward(100)\n",
    "t.done()\n"
   ]
  },
  {
   "cell_type": "code",
   "execution_count": 5,
   "metadata": {},
   "outputs": [],
   "source": [
    "# 트라이앵글  - sleep 메서드\n",
    "\n",
    "import turtle as t\n",
    "t.shape(\"turtle\")\n",
    "\n",
    "t.right(60)\n",
    "t.forward(100)\n",
    "time.sleep(2)\n",
    "t.right(120)\n",
    "t.forward(100)\n",
    "t.right(120)\n",
    "time.sleep(2)\n",
    "t.forward(100)\n",
    "t.done()\n"
   ]
  },
  {
   "cell_type": "code",
   "execution_count": 1,
   "metadata": {},
   "outputs": [],
   "source": [
    "# speed up/ down\n",
    "\n",
    "import turtle as t\n",
    "t.shape(\"turtle\")\n",
    "\n",
    "t.speed(1)\n",
    "t.forward(100)\n",
    "t.up()\n",
    "t.forward(100)\n",
    "t.down()\n",
    "t.forward(100)\n",
    "t.done()"
   ]
  },
  {
   "cell_type": "code",
   "execution_count": 3,
   "metadata": {},
   "outputs": [],
   "source": [
    "import turtle as t\n",
    "t.shape(\"turtle\")\n",
    "\n",
    "t.speed(5)\n",
    "t.forward(100)\n",
    "t.up()\n",
    "t.forward(100)\n",
    "t.down()\n",
    "t.forward(100)\n",
    "t.done()"
   ]
  },
  {
   "cell_type": "code",
   "execution_count": 5,
   "metadata": {},
   "outputs": [],
   "source": [
    "# 터틀이 원을 그리고 색을 채우는 것\n",
    "\n",
    "import turtle as t\n",
    "t.shape(\"turtle\")\n",
    "\n",
    "t.pensize(3)\n",
    "t.color(\"blue\")\n",
    "t.bgcolor(\"green\")\n",
    "t.fillcolor(\"yellow\")\n",
    "t.begin_fill()\n",
    "t.circle(100)\n",
    "t.end_fill()\n",
    "t.done()\n"
   ]
  },
  {
   "cell_type": "code",
   "execution_count": 7,
   "metadata": {},
   "outputs": [],
   "source": [
    "# 별표 그리기\n",
    "\n",
    "import turtle as t\n",
    "t.shape(\"turtle\")\n",
    "\n",
    "for a in range(5):\n",
    "    t.forward(150)\n",
    "    t.right(144)\n",
    "t.done()\n"
   ]
  },
  {
   "cell_type": "code",
   "execution_count": 9,
   "metadata": {},
   "outputs": [
    {
     "ename": "KeyboardInterrupt",
     "evalue": "",
     "output_type": "error",
     "traceback": [
      "\u001b[1;31m---------------------------------------------------------------------------\u001b[0m",
      "\u001b[1;31mKeyboardInterrupt\u001b[0m                         Traceback (most recent call last)",
      "\u001b[1;32m<ipython-input-9-3711fc795c15>\u001b[0m in \u001b[0;36m<module>\u001b[1;34m\u001b[0m\n\u001b[0;32m     30\u001b[0m \u001b[0mt\u001b[0m\u001b[1;33m.\u001b[0m\u001b[0monscreenclick\u001b[0m\u001b[1;33m(\u001b[0m\u001b[0mmove\u001b[0m\u001b[1;33m)\u001b[0m\u001b[1;33m\u001b[0m\u001b[1;33m\u001b[0m\u001b[0m\n\u001b[0;32m     31\u001b[0m \u001b[0mt\u001b[0m\u001b[1;33m.\u001b[0m\u001b[0mlisten\u001b[0m\u001b[1;33m(\u001b[0m\u001b[1;33m)\u001b[0m\u001b[1;33m\u001b[0m\u001b[1;33m\u001b[0m\u001b[0m\n\u001b[1;32m---> 32\u001b[1;33m \u001b[0mt\u001b[0m\u001b[1;33m.\u001b[0m\u001b[0mdone\u001b[0m\u001b[1;33m(\u001b[0m\u001b[1;33m)\u001b[0m\u001b[1;33m\u001b[0m\u001b[1;33m\u001b[0m\u001b[0m\n\u001b[0m",
      "\u001b[1;32mC:\\ProgramData\\Anaconda3\\lib\\turtle.py\u001b[0m in \u001b[0;36mmainloop\u001b[1;34m()\u001b[0m\n",
      "\u001b[1;32mC:\\ProgramData\\Anaconda3\\lib\\turtle.py\u001b[0m in \u001b[0;36mmainloop\u001b[1;34m(self)\u001b[0m\n\u001b[0;32m    811\u001b[0m \u001b[1;33m\u001b[0m\u001b[0m\n\u001b[0;32m    812\u001b[0m         \"\"\"\n\u001b[1;32m--> 813\u001b[1;33m         \u001b[0mTK\u001b[0m\u001b[1;33m.\u001b[0m\u001b[0mmainloop\u001b[0m\u001b[1;33m(\u001b[0m\u001b[1;33m)\u001b[0m\u001b[1;33m\u001b[0m\u001b[1;33m\u001b[0m\u001b[0m\n\u001b[0m\u001b[0;32m    814\u001b[0m \u001b[1;33m\u001b[0m\u001b[0m\n\u001b[0;32m    815\u001b[0m     \u001b[1;32mdef\u001b[0m \u001b[0mtextinput\u001b[0m\u001b[1;33m(\u001b[0m\u001b[0mself\u001b[0m\u001b[1;33m,\u001b[0m \u001b[0mtitle\u001b[0m\u001b[1;33m,\u001b[0m \u001b[0mprompt\u001b[0m\u001b[1;33m)\u001b[0m\u001b[1;33m:\u001b[0m\u001b[1;33m\u001b[0m\u001b[1;33m\u001b[0m\u001b[0m\n",
      "\u001b[1;32mC:\\ProgramData\\Anaconda3\\lib\\tkinter\\__init__.py\u001b[0m in \u001b[0;36mmainloop\u001b[1;34m(n)\u001b[0m\n\u001b[0;32m    591\u001b[0m \u001b[1;32mdef\u001b[0m \u001b[0mmainloop\u001b[0m\u001b[1;33m(\u001b[0m\u001b[0mn\u001b[0m\u001b[1;33m=\u001b[0m\u001b[1;36m0\u001b[0m\u001b[1;33m)\u001b[0m\u001b[1;33m:\u001b[0m\u001b[1;33m\u001b[0m\u001b[1;33m\u001b[0m\u001b[0m\n\u001b[0;32m    592\u001b[0m     \u001b[1;34m\"\"\"Run the main loop of Tcl.\"\"\"\u001b[0m\u001b[1;33m\u001b[0m\u001b[1;33m\u001b[0m\u001b[0m\n\u001b[1;32m--> 593\u001b[1;33m     \u001b[0m_default_root\u001b[0m\u001b[1;33m.\u001b[0m\u001b[0mtk\u001b[0m\u001b[1;33m.\u001b[0m\u001b[0mmainloop\u001b[0m\u001b[1;33m(\u001b[0m\u001b[0mn\u001b[0m\u001b[1;33m)\u001b[0m\u001b[1;33m\u001b[0m\u001b[1;33m\u001b[0m\u001b[0m\n\u001b[0m\u001b[0;32m    594\u001b[0m \u001b[1;33m\u001b[0m\u001b[0m\n\u001b[0;32m    595\u001b[0m \u001b[1;33m\u001b[0m\u001b[0m\n",
      "\u001b[1;31mKeyboardInterrupt\u001b[0m: "
     ]
    }
   ],
   "source": [
    "# 방향키로 그림그리기\n",
    "\n",
    "import turtle as t\n",
    "\n",
    "def draw(head,dist):\n",
    "    t.setheading(head)\n",
    "    t.forward(dist)\n",
    "\n",
    "def toleft():\n",
    "    draw(180, 15)\n",
    "\n",
    "def toright():\n",
    "    draw(0, 15)\n",
    "\n",
    "def toup():\n",
    "    draw(90, 15)\n",
    "\n",
    "def todown():\n",
    "    draw(270, 15)\n",
    "\n",
    "def move(x,y):\n",
    "    t.up()\n",
    "    t.setpos(x,y)\n",
    "    t.down()\n",
    "        \n",
    "t.shape(\"turtle\")\n",
    "t.speed(0)\n",
    "t.onkeypress(toleft, \"Left\")\n",
    "t.onkeypress(toright, \"Right\")\n",
    "t.onkeypress(toup, \"Up\")\n",
    "t.onkeypress(todown, \"Down\")\n",
    "t.onscreenclick(move)\n",
    "t.listen()\n",
    "t.done()"
   ]
  },
  {
   "cell_type": "code",
   "execution_count": 12,
   "metadata": {},
   "outputs": [],
   "source": [
    "# 마우스를 클릭해서 좌표에 선긋기\n",
    "\n",
    "import turtle as t\n",
    "\n",
    "def draw(x, y):\n",
    "    t.setpos(x, y)\n",
    "\n",
    "def move(x, y):\n",
    "    t.up()\n",
    "    t.setpos(x, y)\n",
    "    t.down()\n",
    "\n",
    "\n",
    "t.shape(\"turtle\")\n",
    "t.speed(0)\n",
    "t.pensize(3)\n",
    "t.onscreenclick(draw)\n",
    "t.onscreenclick(move, 3)\n",
    "t.onkeypress(lambda :t.color(\"red\"), \"r\")\n",
    "t.onkeypress(lambda :t.color(\"green\"), \"g\")\n",
    "t.onkeypress(lambda :t.color(\"blue\"), \"b\")\n",
    "t.onkeypress(lambda :t.color(\"black\"), \"k\")\n",
    "t.onkeypress(lambda :t.pensize(1), \"1\")\n",
    "t.onkeypress(lambda :t.pensize(3), \"3\")\n",
    "t.onkeypress(lambda :t.pensize(5), \"5\")\n",
    "t.listen()\n",
    "t.done()"
   ]
  },
  {
   "cell_type": "code",
   "execution_count": 16,
   "metadata": {},
   "outputs": [],
   "source": [
    "# 마우스로 다양한 색깔로 그리기\n",
    "\n",
    "import turtle as t\n",
    "\n",
    "def draw(head,dist):\n",
    "    t.setheading(head)\n",
    "    t.forward(dist)\n",
    "\n",
    "def toleft():\n",
    "    draw(180, 15)\n",
    "\n",
    "def toright():\n",
    "    draw(0, 15)\n",
    "\n",
    "def toup():\n",
    "    draw(90, 15)\n",
    "\n",
    "def todown():\n",
    "    draw(270, 15)\n",
    "\n",
    "def move(x,y):\n",
    "    t.up()\n",
    "    t.setpos(x,y)\n",
    "    t.down()\n",
    "        \n",
    "t.shape(\"turtle\")\n",
    "t.speed(0)\n",
    "t.onkeypress(toleft, \"Left\")\n",
    "t.onkeypress(toright, \"Right\")\n",
    "t.onkeypress(toup, \"Up\")\n",
    "t.onkeypress(todown, \"Down\")\n",
    "t.onscreenclick(move)\n",
    "t.onkeypress(lambda :t.color(\"red\"), \"r\")\n",
    "t.onkeypress(lambda :t.color(\"green\"), \"g\")\n",
    "t.onkeypress(lambda :t.color(\"blue\"), \"b\")\n",
    "t.onkeypress(lambda :t.color(\"black\"), \"k\")\n",
    "t.onkeypress(lambda :t.pensize(1), \"1\")\n",
    "t.onkeypress(lambda :t.pensize(3), \"3\")\n",
    "t.onkeypress(lambda :t.pensize(5), \"5\")\n",
    "t.listen()\n",
    "t.done()"
   ]
  },
  {
   "cell_type": "markdown",
   "metadata": {},
   "source": [
    "# 19장. wxPython\n",
    "## 19-1 윈도우\n"
   ]
  },
  {
   "cell_type": "code",
   "execution_count": 21,
   "metadata": {},
   "outputs": [],
   "source": [
    "# 정상적으로 설치되면 에러표시 X\n",
    "import wx"
   ]
  },
  {
   "cell_type": "code",
   "execution_count": 22,
   "metadata": {},
   "outputs": [
    {
     "data": {
      "text/plain": [
       "0"
      ]
     },
     "execution_count": 22,
     "metadata": {},
     "output_type": "execute_result"
    }
   ],
   "source": [
    "import wx\n",
    "\n",
    "app = wx.App()\n",
    "frame = wx.Frame(None)\n",
    "\n",
    "frame.Show(True)\n",
    "app.MainLoop()"
   ]
  },
  {
   "cell_type": "code",
   "execution_count": null,
   "metadata": {},
   "outputs": [],
   "source": [
    "# 클래스로 만든 것\n",
    "\n",
    "import wx\n",
    "\n",
    "class MyApp(wx.App):\n",
    "    def OnInit(self):\n",
    "        frame = wx.Frame(None)\n",
    "        frame.Show(True)\n",
    "        return True\n",
    "\n",
    "app = MyApp()\n",
    "app.MainLoop()"
   ]
  },
  {
   "cell_type": "code",
   "execution_count": 1,
   "metadata": {},
   "outputs": [
    {
     "data": {
      "text/plain": [
       "0"
      ]
     },
     "execution_count": 1,
     "metadata": {},
     "output_type": "execute_result"
    }
   ],
   "source": [
    "import wx\n",
    "\n",
    "app = wx.App()\n",
    "frame = wx.Frame(None)\n",
    "\n",
    "size = wx.Size(600, 400)\n",
    "frame.SetSize(size)\n",
    "pos = wx.Point(100, 100)\n",
    "frame.SetPosition(pos)\n",
    "color = wx.Colour(0, 0, 255, 0)\n",
    "frame.SetBackgroundColour(color)\n",
    "frame.SetTitle(\"파이썬으로 만든 윈도우\")\n",
    "frame.SetWindowStyle(wx.DEFAULT_FRAME_STYLE & ~wx.RESIZE_BORDER)\n",
    "\n",
    "frame.Show(True)\n",
    "app.MainLoop()\n"
   ]
  },
  {
   "cell_type": "code",
   "execution_count": 5,
   "metadata": {},
   "outputs": [
    {
     "data": {
      "text/plain": [
       "0"
      ]
     },
     "execution_count": 5,
     "metadata": {},
     "output_type": "execute_result"
    }
   ],
   "source": [
    "# =============== KeyEvent  ===============\n",
    "import wx\n",
    "\n",
    "app = wx.App()\n",
    "frame = wx.Frame(None)\n",
    "\n",
    "def OnLeftDown(event):\n",
    "    # x, y = event.GetPosition()\n",
    "    message = \"(%d, %d) 를 클릭했습니다.\" % (event.x, event.y)\n",
    "    wx.MessageBox(message, \"알림\", wx.OK)\n",
    "frame.Bind(wx.EVT_LEFT_DOWN, OnLeftDown)\n",
    "\n",
    "def OnKeyDown(event):\n",
    "    message = \"%d 키를 눌렀습니다.\" % event.KeyCode\n",
    "    wx.MessageBox(message, \"알림\", wx.OK)\n",
    "frame.Bind(wx.EVT_KEY_DOWN, OnKeyDown)\n",
    "\n",
    "frame.Show(True)\n",
    "app.MainLoop()"
   ]
  },
  {
   "cell_type": "markdown",
   "metadata": {},
   "source": [
    "## 19-2 위젯"
   ]
  },
  {
   "cell_type": "code",
   "execution_count": 6,
   "metadata": {},
   "outputs": [
    {
     "data": {
      "text/plain": [
       "0"
      ]
     },
     "execution_count": 6,
     "metadata": {},
     "output_type": "execute_result"
    }
   ],
   "source": [
    "# =============== Button  ===============\n",
    "import wx\n",
    "\n",
    "app = wx.App()\n",
    "frame = wx.Frame(None, title = \"wxPython\")\n",
    "\n",
    "btn = wx.Button(frame, label=\"Click\")\n",
    "def OnClick(event):\n",
    "    wx.MessageBox(\"버튼을 클릭하였습니다.\", \"알림\", wx.OK)\n",
    "btn.Bind(wx.EVT_BUTTON, OnClick)\n",
    "\n",
    "frame.Show(True)\n",
    "app.MainLoop()"
   ]
  },
  {
   "cell_type": "code",
   "execution_count": 7,
   "metadata": {},
   "outputs": [
    {
     "data": {
      "text/plain": [
       "0"
      ]
     },
     "execution_count": 7,
     "metadata": {},
     "output_type": "execute_result"
    }
   ],
   "source": [
    "# =============== ButtonStatic  ===============\n",
    "import wx\n",
    "\n",
    "app = wx.App()\n",
    "frame = wx.Frame(None, title = \"wxPython\")\n",
    "\n",
    "btn = wx.Button(frame, label=\"Click\")\n",
    "def OnClick(event):\n",
    "    wx.MessageBox(\"버튼을 클릭하였습니다.\", \"알림\", wx.OK)\n",
    "btn.Bind(wx.EVT_BUTTON, OnClick)\n",
    "lbl = wx.StaticText(frame, label=\"Text\")\n",
    "\n",
    "btn.SetPosition(wx.Point(150, 100))        # 버튼의 위치\n",
    "lbl.SetPosition(wx.Point(180, 60))          # 라벨의 위치\n",
    "\n",
    "frame.Show(True)\n",
    "app.MainLoop()"
   ]
  },
  {
   "cell_type": "code",
   "execution_count": 9,
   "metadata": {},
   "outputs": [
    {
     "data": {
      "text/plain": [
       "0"
      ]
     },
     "execution_count": 9,
     "metadata": {},
     "output_type": "execute_result"
    }
   ],
   "source": [
    "# =============== BoxSizer  ===============\n",
    "import wx\n",
    "\n",
    "app = wx.App()\n",
    "frame = wx.Frame(None, title = \"wxPython\")\n",
    "\n",
    "btn1 = wx.Button(frame, label=\"Button1\")\n",
    "btn2 = wx.Button(frame, label=\"Button2\")\n",
    "btn3 = wx.Button(frame, label=\"Button3\")\n",
    "\n",
    "#box = wx.BoxSizer(wx.VERTICAL)   # 수직\n",
    "box = wx.BoxSizer(wx.HORIZONTAL)\n",
    "frame.SetSizer(box)\n",
    "box.Add(btn1)\n",
    "box.Add(btn2)\n",
    "box.Add(btn3)\n",
    "\n",
    "frame.Show(True)\n",
    "app.MainLoop()"
   ]
  },
  {
   "cell_type": "code",
   "execution_count": 11,
   "metadata": {},
   "outputs": [
    {
     "ename": "wxAssertionError",
     "evalue": "C++ assertion \"\"m_loader\"\" failed at ..\\..\\src\\common\\translation.cpp(1570) in wxTranslations::LoadCatalog(): loader can't be NULL",
     "output_type": "error",
     "traceback": [
      "\u001b[1;31m---------------------------------------------------------------------------\u001b[0m",
      "\u001b[1;31mwxAssertionError\u001b[0m                          Traceback (most recent call last)",
      "\u001b[1;32mC:\\ProgramData\\Anaconda3\\lib\\site-packages\\wx\\core.py\u001b[0m in \u001b[0;36mOnPreInit\u001b[1;34m(self)\u001b[0m\n\u001b[0;32m   2215\u001b[0m         \"\"\"\n\u001b[0;32m   2216\u001b[0m         \u001b[0mwx\u001b[0m\u001b[1;33m.\u001b[0m\u001b[0mStockGDI\u001b[0m\u001b[1;33m.\u001b[0m\u001b[0m_initStockObjects\u001b[0m\u001b[1;33m(\u001b[0m\u001b[1;33m)\u001b[0m\u001b[1;33m\u001b[0m\u001b[1;33m\u001b[0m\u001b[0m\n\u001b[1;32m-> 2217\u001b[1;33m         \u001b[0mself\u001b[0m\u001b[1;33m.\u001b[0m\u001b[0mInitLocale\u001b[0m\u001b[1;33m(\u001b[0m\u001b[1;33m)\u001b[0m\u001b[1;33m\u001b[0m\u001b[1;33m\u001b[0m\u001b[0m\n\u001b[0m\u001b[0;32m   2218\u001b[0m \u001b[1;33m\u001b[0m\u001b[0m\n\u001b[0;32m   2219\u001b[0m     \u001b[1;32mdef\u001b[0m \u001b[0m__del__\u001b[0m\u001b[1;33m(\u001b[0m\u001b[0mself\u001b[0m\u001b[1;33m)\u001b[0m\u001b[1;33m:\u001b[0m\u001b[1;33m\u001b[0m\u001b[1;33m\u001b[0m\u001b[0m\n",
      "\u001b[1;32mC:\\ProgramData\\Anaconda3\\lib\\site-packages\\wx\\core.py\u001b[0m in \u001b[0;36mInitLocale\u001b[1;34m(self)\u001b[0m\n\u001b[0;32m   2281\u001b[0m             \u001b[1;32mtry\u001b[0m\u001b[1;33m:\u001b[0m\u001b[1;33m\u001b[0m\u001b[1;33m\u001b[0m\u001b[0m\n\u001b[0;32m   2282\u001b[0m                 \u001b[0mlang\u001b[0m\u001b[1;33m,\u001b[0m \u001b[0menc\u001b[0m \u001b[1;33m=\u001b[0m \u001b[0mlocale\u001b[0m\u001b[1;33m.\u001b[0m\u001b[0mgetdefaultlocale\u001b[0m\u001b[1;33m(\u001b[0m\u001b[1;33m)\u001b[0m\u001b[1;33m\u001b[0m\u001b[1;33m\u001b[0m\u001b[0m\n\u001b[1;32m-> 2283\u001b[1;33m                 \u001b[0mself\u001b[0m\u001b[1;33m.\u001b[0m\u001b[0m_initial_locale\u001b[0m \u001b[1;33m=\u001b[0m \u001b[0mwx\u001b[0m\u001b[1;33m.\u001b[0m\u001b[0mLocale\u001b[0m\u001b[1;33m(\u001b[0m\u001b[0mlang\u001b[0m\u001b[1;33m,\u001b[0m \u001b[0mlang\u001b[0m\u001b[1;33m[\u001b[0m\u001b[1;33m:\u001b[0m\u001b[1;36m2\u001b[0m\u001b[1;33m]\u001b[0m\u001b[1;33m,\u001b[0m \u001b[0mlang\u001b[0m\u001b[1;33m)\u001b[0m\u001b[1;33m\u001b[0m\u001b[1;33m\u001b[0m\u001b[0m\n\u001b[0m\u001b[0;32m   2284\u001b[0m                 \u001b[0mlocale\u001b[0m\u001b[1;33m.\u001b[0m\u001b[0msetlocale\u001b[0m\u001b[1;33m(\u001b[0m\u001b[0mlocale\u001b[0m\u001b[1;33m.\u001b[0m\u001b[0mLC_ALL\u001b[0m\u001b[1;33m,\u001b[0m \u001b[0mlang\u001b[0m\u001b[1;33m)\u001b[0m\u001b[1;33m\u001b[0m\u001b[1;33m\u001b[0m\u001b[0m\n\u001b[0;32m   2285\u001b[0m             \u001b[1;32mexcept\u001b[0m \u001b[1;33m(\u001b[0m\u001b[0mValueError\u001b[0m\u001b[1;33m,\u001b[0m \u001b[0mlocale\u001b[0m\u001b[1;33m.\u001b[0m\u001b[0mError\u001b[0m\u001b[1;33m)\u001b[0m \u001b[1;32mas\u001b[0m \u001b[0mex\u001b[0m\u001b[1;33m:\u001b[0m\u001b[1;33m\u001b[0m\u001b[1;33m\u001b[0m\u001b[0m\n",
      "\u001b[1;31mwxAssertionError\u001b[0m: C++ assertion \"\"m_loader\"\" failed at ..\\..\\src\\common\\translation.cpp(1570) in wxTranslations::LoadCatalog(): loader can't be NULL"
     ]
    },
    {
     "data": {
      "text/plain": [
       "0"
      ]
     },
     "execution_count": 11,
     "metadata": {},
     "output_type": "execute_result"
    }
   ],
   "source": [
    "# =============== BoxSizer2  ===============\n",
    "import wx\n",
    "\n",
    "app = wx.App()\n",
    "frame = wx.Frame(None, title = \"wxPython\")\n",
    "\n",
    "btn1 = wx.Button(frame, label=\"Button1\")\n",
    "btn2 = wx.Button(frame, label=\"Button2\")\n",
    "btn3 = wx.Button(frame, label=\"Button3\")\n",
    "\n",
    "box = wx.BoxSizer(wx.VERTICAL)\n",
    "frame.SetSizer(box)\n",
    "box.Add(btn1, proportion = 0)\n",
    "box.Add(btn2, proportion = 1)\n",
    "box.Add(btn3, proportion = 2)\n",
    "\n",
    "frame.Show(True)\n",
    "app.MainLoop()"
   ]
  },
  {
   "cell_type": "code",
   "execution_count": 12,
   "metadata": {},
   "outputs": [
    {
     "ename": "wxAssertionError",
     "evalue": "C++ assertion \"\"m_loader\"\" failed at ..\\..\\src\\common\\translation.cpp(1570) in wxTranslations::LoadCatalog(): loader can't be NULL",
     "output_type": "error",
     "traceback": [
      "\u001b[1;31m---------------------------------------------------------------------------\u001b[0m",
      "\u001b[1;31mwxAssertionError\u001b[0m                          Traceback (most recent call last)",
      "\u001b[1;32mC:\\ProgramData\\Anaconda3\\lib\\site-packages\\wx\\core.py\u001b[0m in \u001b[0;36mOnPreInit\u001b[1;34m(self)\u001b[0m\n\u001b[0;32m   2215\u001b[0m         \"\"\"\n\u001b[0;32m   2216\u001b[0m         \u001b[0mwx\u001b[0m\u001b[1;33m.\u001b[0m\u001b[0mStockGDI\u001b[0m\u001b[1;33m.\u001b[0m\u001b[0m_initStockObjects\u001b[0m\u001b[1;33m(\u001b[0m\u001b[1;33m)\u001b[0m\u001b[1;33m\u001b[0m\u001b[1;33m\u001b[0m\u001b[0m\n\u001b[1;32m-> 2217\u001b[1;33m         \u001b[0mself\u001b[0m\u001b[1;33m.\u001b[0m\u001b[0mInitLocale\u001b[0m\u001b[1;33m(\u001b[0m\u001b[1;33m)\u001b[0m\u001b[1;33m\u001b[0m\u001b[1;33m\u001b[0m\u001b[0m\n\u001b[0m\u001b[0;32m   2218\u001b[0m \u001b[1;33m\u001b[0m\u001b[0m\n\u001b[0;32m   2219\u001b[0m     \u001b[1;32mdef\u001b[0m \u001b[0m__del__\u001b[0m\u001b[1;33m(\u001b[0m\u001b[0mself\u001b[0m\u001b[1;33m)\u001b[0m\u001b[1;33m:\u001b[0m\u001b[1;33m\u001b[0m\u001b[1;33m\u001b[0m\u001b[0m\n",
      "\u001b[1;32mC:\\ProgramData\\Anaconda3\\lib\\site-packages\\wx\\core.py\u001b[0m in \u001b[0;36mInitLocale\u001b[1;34m(self)\u001b[0m\n\u001b[0;32m   2281\u001b[0m             \u001b[1;32mtry\u001b[0m\u001b[1;33m:\u001b[0m\u001b[1;33m\u001b[0m\u001b[1;33m\u001b[0m\u001b[0m\n\u001b[0;32m   2282\u001b[0m                 \u001b[0mlang\u001b[0m\u001b[1;33m,\u001b[0m \u001b[0menc\u001b[0m \u001b[1;33m=\u001b[0m \u001b[0mlocale\u001b[0m\u001b[1;33m.\u001b[0m\u001b[0mgetdefaultlocale\u001b[0m\u001b[1;33m(\u001b[0m\u001b[1;33m)\u001b[0m\u001b[1;33m\u001b[0m\u001b[1;33m\u001b[0m\u001b[0m\n\u001b[1;32m-> 2283\u001b[1;33m                 \u001b[0mself\u001b[0m\u001b[1;33m.\u001b[0m\u001b[0m_initial_locale\u001b[0m \u001b[1;33m=\u001b[0m \u001b[0mwx\u001b[0m\u001b[1;33m.\u001b[0m\u001b[0mLocale\u001b[0m\u001b[1;33m(\u001b[0m\u001b[0mlang\u001b[0m\u001b[1;33m,\u001b[0m \u001b[0mlang\u001b[0m\u001b[1;33m[\u001b[0m\u001b[1;33m:\u001b[0m\u001b[1;36m2\u001b[0m\u001b[1;33m]\u001b[0m\u001b[1;33m,\u001b[0m \u001b[0mlang\u001b[0m\u001b[1;33m)\u001b[0m\u001b[1;33m\u001b[0m\u001b[1;33m\u001b[0m\u001b[0m\n\u001b[0m\u001b[0;32m   2284\u001b[0m                 \u001b[0mlocale\u001b[0m\u001b[1;33m.\u001b[0m\u001b[0msetlocale\u001b[0m\u001b[1;33m(\u001b[0m\u001b[0mlocale\u001b[0m\u001b[1;33m.\u001b[0m\u001b[0mLC_ALL\u001b[0m\u001b[1;33m,\u001b[0m \u001b[0mlang\u001b[0m\u001b[1;33m)\u001b[0m\u001b[1;33m\u001b[0m\u001b[1;33m\u001b[0m\u001b[0m\n\u001b[0;32m   2285\u001b[0m             \u001b[1;32mexcept\u001b[0m \u001b[1;33m(\u001b[0m\u001b[0mValueError\u001b[0m\u001b[1;33m,\u001b[0m \u001b[0mlocale\u001b[0m\u001b[1;33m.\u001b[0m\u001b[0mError\u001b[0m\u001b[1;33m)\u001b[0m \u001b[1;32mas\u001b[0m \u001b[0mex\u001b[0m\u001b[1;33m:\u001b[0m\u001b[1;33m\u001b[0m\u001b[1;33m\u001b[0m\u001b[0m\n",
      "\u001b[1;31mwxAssertionError\u001b[0m: C++ assertion \"\"m_loader\"\" failed at ..\\..\\src\\common\\translation.cpp(1570) in wxTranslations::LoadCatalog(): loader can't be NULL"
     ]
    },
    {
     "data": {
      "text/plain": [
       "0"
      ]
     },
     "execution_count": 12,
     "metadata": {},
     "output_type": "execute_result"
    }
   ],
   "source": [
    "# =============== BoxSizer3  ===============\n",
    "import wx\n",
    "\n",
    "app = wx.App()\n",
    "frame = wx.Frame(None, title = \"wxPython\")\n",
    "\n",
    "btn1 = wx.Button(frame, label=\"Button1\")\n",
    "btn2 = wx.Button(frame, label=\"Button2\")\n",
    "btn3 = wx.Button(frame, label=\"Button3\")\n",
    "\n",
    "box = wx.BoxSizer(wx.VERTICAL)\n",
    "frame.SetSizer(box)\n",
    "box.Add(btn1, border = 10)\n",
    "box.Add(btn2, border = 10, flag = wx.ALL)\n",
    "box.Add(btn3, border = 10)\n",
    "\n",
    "frame.Show(True)\n",
    "app.MainLoop()"
   ]
  },
  {
   "cell_type": "code",
   "execution_count": null,
   "metadata": {},
   "outputs": [],
   "source": [
    "\n",
    "# =============== BoxSizer4  ===============\n",
    "import wx\n",
    "\n",
    "app = wx.App()\n",
    "frame = wx.Frame(None, title = \"wxPython\")\n",
    "\n",
    "btn1 = wx.Button(frame, label=\"Button1\")\n",
    "btn2 = wx.Button(frame, label=\"Button2\")\n",
    "btn3 = wx.Button(frame, label=\"Button3\")\n",
    "\n",
    "box = wx.BoxSizer(wx.VERTICAL)\n",
    "frame.SetSizer(box)\n",
    "box.Add(btn1)\n",
    "box.Add(btn2, flag = wx.ALIGN_CENTER)\n",
    "box.Add(btn3, flag = wx.ALIGN_BOTTOM)\n",
    "\n",
    "frame.Show(True)\n",
    "app.MainLoop()\n"
   ]
  },
  {
   "cell_type": "code",
   "execution_count": null,
   "metadata": {},
   "outputs": [
    {
     "ename": "wxAssertionError",
     "evalue": "C++ assertion \"\"m_loader\"\" failed at ..\\..\\src\\common\\translation.cpp(1570) in wxTranslations::LoadCatalog(): loader can't be NULL",
     "output_type": "error",
     "traceback": [
      "\u001b[1;31m---------------------------------------------------------------------------\u001b[0m",
      "\u001b[1;31mwxAssertionError\u001b[0m                          Traceback (most recent call last)",
      "\u001b[1;32mC:\\ProgramData\\Anaconda3\\lib\\site-packages\\wx\\core.py\u001b[0m in \u001b[0;36mOnPreInit\u001b[1;34m(self)\u001b[0m\n\u001b[0;32m   2215\u001b[0m         \"\"\"\n\u001b[0;32m   2216\u001b[0m         \u001b[0mwx\u001b[0m\u001b[1;33m.\u001b[0m\u001b[0mStockGDI\u001b[0m\u001b[1;33m.\u001b[0m\u001b[0m_initStockObjects\u001b[0m\u001b[1;33m(\u001b[0m\u001b[1;33m)\u001b[0m\u001b[1;33m\u001b[0m\u001b[1;33m\u001b[0m\u001b[0m\n\u001b[1;32m-> 2217\u001b[1;33m         \u001b[0mself\u001b[0m\u001b[1;33m.\u001b[0m\u001b[0mInitLocale\u001b[0m\u001b[1;33m(\u001b[0m\u001b[1;33m)\u001b[0m\u001b[1;33m\u001b[0m\u001b[1;33m\u001b[0m\u001b[0m\n\u001b[0m\u001b[0;32m   2218\u001b[0m \u001b[1;33m\u001b[0m\u001b[0m\n\u001b[0;32m   2219\u001b[0m     \u001b[1;32mdef\u001b[0m \u001b[0m__del__\u001b[0m\u001b[1;33m(\u001b[0m\u001b[0mself\u001b[0m\u001b[1;33m)\u001b[0m\u001b[1;33m:\u001b[0m\u001b[1;33m\u001b[0m\u001b[1;33m\u001b[0m\u001b[0m\n",
      "\u001b[1;32mC:\\ProgramData\\Anaconda3\\lib\\site-packages\\wx\\core.py\u001b[0m in \u001b[0;36mInitLocale\u001b[1;34m(self)\u001b[0m\n\u001b[0;32m   2281\u001b[0m             \u001b[1;32mtry\u001b[0m\u001b[1;33m:\u001b[0m\u001b[1;33m\u001b[0m\u001b[1;33m\u001b[0m\u001b[0m\n\u001b[0;32m   2282\u001b[0m                 \u001b[0mlang\u001b[0m\u001b[1;33m,\u001b[0m \u001b[0menc\u001b[0m \u001b[1;33m=\u001b[0m \u001b[0mlocale\u001b[0m\u001b[1;33m.\u001b[0m\u001b[0mgetdefaultlocale\u001b[0m\u001b[1;33m(\u001b[0m\u001b[1;33m)\u001b[0m\u001b[1;33m\u001b[0m\u001b[1;33m\u001b[0m\u001b[0m\n\u001b[1;32m-> 2283\u001b[1;33m                 \u001b[0mself\u001b[0m\u001b[1;33m.\u001b[0m\u001b[0m_initial_locale\u001b[0m \u001b[1;33m=\u001b[0m \u001b[0mwx\u001b[0m\u001b[1;33m.\u001b[0m\u001b[0mLocale\u001b[0m\u001b[1;33m(\u001b[0m\u001b[0mlang\u001b[0m\u001b[1;33m,\u001b[0m \u001b[0mlang\u001b[0m\u001b[1;33m[\u001b[0m\u001b[1;33m:\u001b[0m\u001b[1;36m2\u001b[0m\u001b[1;33m]\u001b[0m\u001b[1;33m,\u001b[0m \u001b[0mlang\u001b[0m\u001b[1;33m)\u001b[0m\u001b[1;33m\u001b[0m\u001b[1;33m\u001b[0m\u001b[0m\n\u001b[0m\u001b[0;32m   2284\u001b[0m                 \u001b[0mlocale\u001b[0m\u001b[1;33m.\u001b[0m\u001b[0msetlocale\u001b[0m\u001b[1;33m(\u001b[0m\u001b[0mlocale\u001b[0m\u001b[1;33m.\u001b[0m\u001b[0mLC_ALL\u001b[0m\u001b[1;33m,\u001b[0m \u001b[0mlang\u001b[0m\u001b[1;33m)\u001b[0m\u001b[1;33m\u001b[0m\u001b[1;33m\u001b[0m\u001b[0m\n\u001b[0;32m   2285\u001b[0m             \u001b[1;32mexcept\u001b[0m \u001b[1;33m(\u001b[0m\u001b[0mValueError\u001b[0m\u001b[1;33m,\u001b[0m \u001b[0mlocale\u001b[0m\u001b[1;33m.\u001b[0m\u001b[0mError\u001b[0m\u001b[1;33m)\u001b[0m \u001b[1;32mas\u001b[0m \u001b[0mex\u001b[0m\u001b[1;33m:\u001b[0m\u001b[1;33m\u001b[0m\u001b[1;33m\u001b[0m\u001b[0m\n",
      "\u001b[1;31mwxAssertionError\u001b[0m: C++ assertion \"\"m_loader\"\" failed at ..\\..\\src\\common\\translation.cpp(1570) in wxTranslations::LoadCatalog(): loader can't be NULL"
     ]
    }
   ],
   "source": [
    "# =============== StaticBoxSizer  ===============\n",
    "import wx\n",
    "\n",
    "app = wx.App()\n",
    "frame = wx.Frame(None, title = \"wxPython\")\n",
    "\n",
    "radio1 = wx.RadioButton(frame, label=\"저그\", style = wx.RB_GROUP)\n",
    "radio2 = wx.RadioButton(frame, label=\"프로토스\")\n",
    "radio3 = wx.RadioButton(frame, label=\"테란\")\n",
    "\n",
    "box = wx.StaticBoxSizer(wx.HORIZONTAL, frame, \"종족\")\n",
    "frame.SetSizer(box)\n",
    "box.Add(radio1)\n",
    "box.Add(radio2)\n",
    "box.Add(radio3)\n",
    "\n",
    "frame.Show(True)\n",
    "app.MainLoop()\n"
   ]
  },
  {
   "cell_type": "code",
   "execution_count": null,
   "metadata": {},
   "outputs": [],
   "source": [
    "# =============== GridSizer  ===============\n",
    "import wx\n",
    "\n",
    "app = wx.App()\n",
    "frame = wx.Frame(None, title = \"wxPython\")\n",
    "\n",
    "btn1 = wx.Button(frame, label=\"Button1\")\n",
    "btn2 = wx.Button(frame, label=\"Button2\")\n",
    "btn3 = wx.Button(frame, label=\"Button3\")\n",
    "btn4 = wx.Button(frame, label=\"Button4\")\n",
    "btn5 = wx.Button(frame, label=\"Button5\")\n",
    "btn6 = wx.Button(frame, label=\"Button6\")\n",
    "\n",
    "grid = wx.GridSizer(2, 3, 15, 15)\n",
    "frame.SetSizer(grid)\n",
    "grid.Add(btn1, 0, wx.EXPAND)\n",
    "grid.Add(btn2, 0, wx.EXPAND)\n",
    "grid.Add(btn3, 0, wx.EXPAND)\n",
    "grid.Add(btn4, 0, wx.EXPAND)\n",
    "grid.Add(btn5, 0, wx.EXPAND)\n",
    "grid.Add(btn6, 0, wx.EXPAND)\n",
    "\n",
    "frame.Show(True)\n",
    "app.MainLoop()"
   ]
  },
  {
   "cell_type": "code",
   "execution_count": null,
   "metadata": {},
   "outputs": [],
   "source": [
    "# =============== FlexGridSizer  ===============\n",
    "import wx\n",
    "\n",
    "app = wx.App()\n",
    "frame = wx.Frame(None, title = \"wxPython\")\n",
    "\n",
    "btn1 = wx.Button(frame, label=\"Button1\")\n",
    "btn2 = wx.Button(frame, label=\"Button2\")\n",
    "btn3 = wx.Button(frame, label=\"Button3\")\n",
    "btn4 = wx.Button(frame, label=\"Button4\")\n",
    "btn5 = wx.Button(frame, label=\"Button5\")\n",
    "btn6 = wx.Button(frame, label=\"Button6\")\n",
    "\n",
    "grid = wx.FlexGridSizer(2, 3, 15, 15)\n",
    "frame.SetSizer(grid)\n",
    "grid.Add(btn1, 0, wx.EXPAND)\n",
    "grid.Add(btn2, 0, wx.EXPAND)\n",
    "grid.Add(btn3, 0, wx.EXPAND)\n",
    "grid.Add(btn4, 0, wx.EXPAND)\n",
    "grid.Add(btn5, 0, wx.EXPAND)\n",
    "grid.Add(btn6, 0, wx.EXPAND)\n",
    "\n",
    "grid.AddGrowableCol(2)\n",
    "grid.AddGrowableRow(1)\n",
    "\n",
    "frame.Show(True)\n",
    "app.MainLoop()"
   ]
  },
  {
   "cell_type": "code",
   "execution_count": null,
   "metadata": {},
   "outputs": [],
   "source": [
    "# =============== Panel  ===============\n",
    "import wx\n",
    "\n",
    "app = wx.App()\n",
    "frame = wx.Frame(None, title = \"wxPython\")\n",
    "\n",
    "panelhorz = wx.Panel(frame)\n",
    "btn1 = wx.Button(panelhorz, label=\"Button1\")\n",
    "btn2 = wx.Button(panelhorz, label=\"Button2\")\n",
    "btn3 = wx.Button(panelhorz, label=\"Button3\")\n",
    "sizerhorz = wx.BoxSizer(wx.HORIZONTAL)\n",
    "sizerhorz.Add(btn1)\n",
    "sizerhorz.Add(btn2)\n",
    "sizerhorz.Add(btn3)\n",
    "panelhorz.SetSizer(sizerhorz)\n",
    "\n",
    "panelvert = wx.Panel(frame)\n",
    "static1 = wx.StaticText(panelvert, label=\"StaticText1\")\n",
    "static2 = wx.StaticText(panelvert, label=\"StaticText2\")\n",
    "static3 = wx.StaticText(panelvert, label=\"StaticText3\")\n",
    "sizervert = wx.BoxSizer(wx.VERTICAL)\n",
    "sizervert.Add(static1)\n",
    "sizervert.Add(static2)\n",
    "sizervert.Add(static3)\n",
    "panelvert.SetSizer(sizervert)\n",
    "\n",
    "box = wx.BoxSizer(wx.VERTICAL)\n",
    "frame.SetSizer(box)\n",
    "box.Add(panelhorz, border = 10, flag = wx.DOWN)\n",
    "box.Add(panelvert, border = 10, flag = wx.UP)\n",
    "\n",
    "frame.Show(True)\n",
    "app.MainLoop()"
   ]
  },
  {
   "cell_type": "code",
   "execution_count": null,
   "metadata": {},
   "outputs": [],
   "source": [
    "# =============== Panel2  ===============\n",
    "import wx\n",
    "\n",
    "app = wx.App()\n",
    "frame = wx.Frame(None, title = \"wxPython\")\n",
    "\n",
    "static = wx.StaticText(frame, label=\"Fruit\")\n",
    "\n",
    "panelhorz = wx.Panel(frame)\n",
    "btnApple = wx.Button(panelhorz, label=\"Apple\")\n",
    "def onApple(event):\n",
    "    static.SetLabelText(\"Apple\")\n",
    "btnApple.Bind(wx.EVT_BUTTON, onApple)\n",
    "btnOrange = wx.Button(panelhorz, label=\"Orange\")\n",
    "def onOrange(event):\n",
    "    static.SetLabelText(\"Orange\")\n",
    "btnOrange.Bind(wx.EVT_BUTTON, onOrange)\n",
    "sizerhorz = wx.BoxSizer(wx.HORIZONTAL)\n",
    "sizerhorz.Add(btnApple)\n",
    "sizerhorz.Add(btnOrange)\n",
    "panelhorz.SetSizer(sizerhorz)\n",
    "\n",
    "box = wx.BoxSizer(wx.VERTICAL)\n",
    "frame.SetSizer(box)\n",
    "box.Add(static, border = 20, flag = wx.ALL | wx.ALIGN_CENTER_HORIZONTAL)\n",
    "box.Add(panelhorz, flag = wx.ALIGN_CENTER_HORIZONTAL)\n",
    "\n",
    "frame.Show(True)\n",
    "app.MainLoop()"
   ]
  },
  {
   "cell_type": "code",
   "execution_count": 1,
   "metadata": {},
   "outputs": [
    {
     "data": {
      "text/plain": [
       "0"
      ]
     },
     "execution_count": 1,
     "metadata": {},
     "output_type": "execute_result"
    }
   ],
   "source": [
    "# =============== Text  ===============\n",
    "import wx\n",
    "\n",
    "app = wx.App()\n",
    "frame = wx.Frame(None, title = \"wxPython\")\n",
    "\n",
    "text = wx.TextCtrl(frame)\n",
    "btn = wx.Button(frame, label=\"Click\")\n",
    "def onClick(event):\n",
    "    str = text.GetValue()\n",
    "    wx.MessageBox(str, \"입력내용\", wx.OK)\n",
    "    \n",
    "def onExit(event):\n",
    "    frame.Close()\n",
    "frame.Bind(wx.EVT_MENU, onExit, exit)\n",
    "\n",
    "btn.Bind(wx.EVT_BUTTON, onClick)\n",
    "\n",
    "box = wx.BoxSizer(wx.VERTICAL)\n",
    "frame.SetSizer(box)\n",
    "box.Add(text)\n",
    "box.Add(btn)\n",
    "\n",
    "frame.Show(True)\n",
    "app.MainLoop()"
   ]
  },
  {
   "cell_type": "code",
   "execution_count": null,
   "metadata": {},
   "outputs": [],
   "source": [
    "# =============== EvtText  ===============\n",
    "import wx\n",
    "\n",
    "app = wx.App()\n",
    "frame = wx.Frame(None, title = \"wxPython\")\n",
    "\n",
    "text = wx.TextCtrl(frame)\n",
    "def onTextChange(event):\n",
    "    str = text.GetValue()\n",
    "    frame.SetTitle(str)\n",
    "    \n",
    "def onExit(event):\n",
    "    frame.Close()\n",
    "frame.Bind(wx.EVT_MENU, onExit, exit)\n",
    "\n",
    "text.Bind(wx.EVT_TEXT, onTextChange)\n",
    "\n",
    "frame.Show(True)\n",
    "app.MainLoop()"
   ]
  },
  {
   "cell_type": "code",
   "execution_count": 4,
   "metadata": {},
   "outputs": [
    {
     "data": {
      "text/plain": [
       "0"
      ]
     },
     "execution_count": 4,
     "metadata": {},
     "output_type": "execute_result"
    }
   ],
   "source": [
    "# =============== CheckBox  ===============\n",
    "import wx\n",
    "\n",
    "app = wx.App()\n",
    "frame = wx.Frame(None, title = \"wxPython\")\n",
    "\n",
    "chkvisible = wx.CheckBox(frame, label = \"보임\")\n",
    "chkvisible.SetValue(wx.CHK_CHECKED)\n",
    "def onvisible(event):\n",
    "    if chkvisible.GetValue() == wx.CHK_CHECKED:\n",
    "        btn.Show(True)\n",
    "    else:\n",
    "        btn.Show(False)\n",
    "chkvisible.Bind(wx.EVT_CHECKBOX, onvisible)\n",
    "\n",
    "chkenable = wx.CheckBox(frame, label = \"사용가능\")\n",
    "chkenable .SetValue(wx.CHK_CHECKED)\n",
    "def onenable(event):\n",
    "    if chkenable.GetValue() == wx.CHK_CHECKED:\n",
    "        btn.Enable(True)\n",
    "    else:\n",
    "        btn.Enable(False)\n",
    "chkenable.Bind(wx.EVT_CHECKBOX, onenable)\n",
    "\n",
    "btn = wx.Button(frame, label=\"Click\")\n",
    "def onClick(event):\n",
    "    wx.MessageBox(\"클릭했습니다.\", \"알림\", wx.OK)\n",
    "btn.Bind(wx.EVT_BUTTON, onClick)\n",
    "\n",
    "def onExit(event):\n",
    "    frame.Close()\n",
    "frame.Bind(wx.EVT_MENU, onExit, exit)\n",
    "\n",
    "box = wx.BoxSizer(wx.VERTICAL)\n",
    "frame.SetSizer(box)\n",
    "box.Add(chkvisible)\n",
    "box.Add(chkenable)\n",
    "box.Add(btn)\n",
    "\n",
    "frame.Show(True)\n",
    "app.MainLoop()"
   ]
  },
  {
   "cell_type": "code",
   "execution_count": null,
   "metadata": {},
   "outputs": [],
   "source": [
    "# =============== RadioButton  ===============\n",
    "import wx\n",
    "\n",
    "app = wx.App()\n",
    "frame = wx.Frame(None, title = \"wxPython\")\n",
    "\n",
    "red = wx.RadioButton(frame, label = \"빨강\", style = wx.RB_GROUP)\n",
    "def onred(event):\n",
    "    frame.SetBackgroundColour(wx.Colour(255, 0, 0, 0))\n",
    "    frame.Refresh()\n",
    "red.Bind(wx.EVT_RADIOBUTTON, onred)\n",
    "\n",
    "green = wx.RadioButton(frame, label = \"초록\",)\n",
    "def ongreen(event):\n",
    "    frame.SetBackgroundColour(wx.Colour(0, 255, 0, 0))\n",
    "    frame.Refresh()\n",
    "green.Bind(wx.EVT_RADIOBUTTON, ongreen)\n",
    "\n",
    "blue = wx.RadioButton(frame, label = \"파랑\",)\n",
    "def onblue(event):\n",
    "    frame.SetBackgroundColour(wx.Colour(0, 0, 255, 0))\n",
    "    frame.Refresh()\n",
    "blue.Bind(wx.EVT_RADIOBUTTON, onblue)\n",
    "\n",
    "yellow = wx.RadioButton(frame, label = \"노랑\",)\n",
    "def onyellow(event):\n",
    "    frame.SetBackgroundColour(wx.Colour(255, 255, 0, 0))\n",
    "    frame.Refresh()\n",
    "yellow.Bind(wx.EVT_RADIOBUTTON, onyellow)\n",
    "yellow.SetValue(True)\n",
    "\n",
    "def onExit(event):\n",
    "    frame.Close()\n",
    "frame.Bind(wx.EVT_MENU, onExit, exit)\n",
    "\n",
    "box = wx.StaticBoxSizer(wx.VERTICAL, frame, \"배경색\")\n",
    "frame.SetSizer(box)\n",
    "box.Add(red)\n",
    "box.Add(green)\n",
    "box.Add(blue)\n",
    "box.Add(yellow)\n",
    "\n",
    "frame.SetBackgroundColour(wx.Colour(255, 255, 0, 0))\n",
    "frame.Show(True)\n",
    "app.MainLoop()\n"
   ]
  },
  {
   "cell_type": "code",
   "execution_count": null,
   "metadata": {},
   "outputs": [],
   "source": [
    "# =============== ListBox  ===============\n",
    "import wx\n",
    "\n",
    "app = wx.App()\n",
    "frame = wx.Frame(None, title = \"wxPython\")\n",
    "\n",
    "panel = wx.Panel(frame)\n",
    "colorname = [\"빨강\", \"초록\", \"파랑\", \"노랑\", \"하양\", \"검정\"]\n",
    "colorvalue = [wx.Colour(255, 0, 0, 0), wx.Colour(0, 255, 0, 0), wx.Colour(0, 0, 255, 0),\n",
    "              wx.Colour(255, 255, 0, 0), wx.Colour(255, 255, 255, 0), wx.Colour(0, 0, 0, 0)]\n",
    "\n",
    "colorlist = wx.ListBox(panel, choices = colorname)\n",
    "colorlist.SetSize(wx.Size(100, 150))\n",
    "colorlist.SetPosition(wx.Point(100, 20))\n",
    "def onitemchange(event):\n",
    "    name = colorlist.GetSelection()\n",
    "    color = colorvalue[name]\n",
    "    frame.SetBackgroundColour(color)\n",
    "    frame.Refresh()\n",
    "\n",
    "def onExit(event):\n",
    "    frame.Close()\n",
    "frame.Bind(wx.EVT_MENU, onExit, exit)\n",
    "\n",
    "colorlist.Bind(wx.EVT_LISTBOX, onitemchange)\n",
    "\n",
    "frame.Show(True)\n",
    "app.MainLoop()"
   ]
  },
  {
   "cell_type": "code",
   "execution_count": 2,
   "metadata": {},
   "outputs": [
    {
     "ename": "PyNoAppError",
     "evalue": "The wx.App object must be created first!",
     "output_type": "error",
     "traceback": [
      "\u001b[1;31m---------------------------------------------------------------------------\u001b[0m",
      "\u001b[1;31mPyNoAppError\u001b[0m                              Traceback (most recent call last)",
      "\u001b[1;32m<ipython-input-2-a623c5947f25>\u001b[0m in \u001b[0;36m<module>\u001b[1;34m\u001b[0m\n\u001b[0;32m      5\u001b[0m \u001b[0mframe\u001b[0m \u001b[1;33m=\u001b[0m \u001b[0mwx\u001b[0m\u001b[1;33m.\u001b[0m\u001b[0mFrame\u001b[0m\u001b[1;33m(\u001b[0m\u001b[1;32mNone\u001b[0m\u001b[1;33m,\u001b[0m \u001b[0mtitle\u001b[0m \u001b[1;33m=\u001b[0m \u001b[1;34m\"wxPython\"\u001b[0m\u001b[1;33m)\u001b[0m\u001b[1;33m\u001b[0m\u001b[1;33m\u001b[0m\u001b[0m\n\u001b[0;32m      6\u001b[0m \u001b[1;33m\u001b[0m\u001b[0m\n\u001b[1;32m----> 7\u001b[1;33m \u001b[0mdesc\u001b[0m \u001b[1;33m=\u001b[0m \u001b[0mwx\u001b[0m\u001b[1;33m.\u001b[0m\u001b[0mStaticText\u001b[0m\u001b[1;33m(\u001b[0m\u001b[0mframe\u001b[0m\u001b[1;33m,\u001b[0m \u001b[0mlabel\u001b[0m \u001b[1;33m=\u001b[0m \u001b[1;34m\"먹고 싶은 과자를 고르시오.\"\u001b[0m\u001b[1;33m)\u001b[0m\u001b[1;33m\u001b[0m\u001b[1;33m\u001b[0m\u001b[0m\n\u001b[0m\u001b[0;32m      8\u001b[0m \u001b[0msnack\u001b[0m \u001b[1;33m=\u001b[0m \u001b[1;33m[\u001b[0m\u001b[1;34m\"오징어 땅콩\"\u001b[0m\u001b[1;33m,\u001b[0m \u001b[1;34m\"꼬깔콘\"\u001b[0m\u001b[1;33m,\u001b[0m \u001b[1;34m\"맛동산\"\u001b[0m\u001b[1;33m,\u001b[0m \u001b[1;34m\"초코파이\"\u001b[0m\u001b[1;33m]\u001b[0m\u001b[1;33m\u001b[0m\u001b[1;33m\u001b[0m\u001b[0m\n\u001b[0;32m      9\u001b[0m \u001b[0mcombo\u001b[0m \u001b[1;33m=\u001b[0m \u001b[0mwx\u001b[0m\u001b[1;33m.\u001b[0m\u001b[0mComboBox\u001b[0m\u001b[1;33m(\u001b[0m\u001b[0mframe\u001b[0m\u001b[1;33m,\u001b[0m \u001b[0mchoices\u001b[0m \u001b[1;33m=\u001b[0m \u001b[0msnack\u001b[0m\u001b[1;33m)\u001b[0m\u001b[1;33m\u001b[0m\u001b[1;33m\u001b[0m\u001b[0m\n",
      "\u001b[1;31mPyNoAppError\u001b[0m: The wx.App object must be created first!"
     ]
    }
   ],
   "source": [
    "# =============== ComboBox  ===============\n",
    "import wx\n",
    "\n",
    "app = wx.App()\n",
    "frame = wx.Frame(None, title = \"wxPython\")\n",
    "\n",
    "desc = wx.StaticText(frame, label = \"먹고 싶은 과자를 고르시오.\")\n",
    "snack = [\"오징어 땅콩\", \"꼬깔콘\", \"맛동산\", \"초코파이\"]\n",
    "combo = wx.ComboBox(frame, choices = snack)\n",
    "result = wx.StaticText(frame, label = \"\")\n",
    "\n",
    "def onitemchange(event):\n",
    "    idx = combo.GetCurrentSelection()\n",
    "    result.SetLabelText(snack[idx] + \" 맛있게 드세요.\")\n",
    "combo.Bind(wx.EVT_COMBOBOX, onitemchange)\n",
    "def oniteminput(event):\n",
    "    result.SetLabelText(combo.GetValue() + \" 맛있게 드세요.\")\n",
    "combo.Bind(wx.EVT_TEXT_ENTER, oniteminput)\n",
    "\n",
    "def onExit(event):\n",
    "    frame.Close()\n",
    "frame.Bind(wx.EVT_MENU, onExit, exit)\n",
    "\n",
    "\n",
    "box = wx.BoxSizer(wx.VERTICAL)\n",
    "frame.SetSizer(box)\n",
    "box.Add(desc)\n",
    "box.Add(combo)\n",
    "box.Add(result)\n",
    "\n",
    "frame.Show(True)\n",
    "app.MainLoop()"
   ]
  },
  {
   "cell_type": "code",
   "execution_count": 1,
   "metadata": {},
   "outputs": [
    {
     "data": {
      "text/plain": [
       "0"
      ]
     },
     "execution_count": 1,
     "metadata": {},
     "output_type": "execute_result"
    }
   ],
   "source": [
    "# =============== MenuBar  ===============\n",
    "import wx\n",
    "\n",
    "app = wx.App()\n",
    "frame = wx.Frame(None, title = \"wxPython\")\n",
    "\n",
    "menubar = wx.MenuBar()\n",
    "file = wx.Menu()\n",
    "menubar.Append(file, \"파일\")\n",
    "about = wx.MenuItem(id = wx.ID_ANY, text=\"소개\")\n",
    "file.Append(about)\n",
    "file.AppendSeparator()\n",
    "exit = wx.MenuItem(id = wx.ID_ANY, text=\"종료\")\n",
    "file.Append(exit)\n",
    "frame.SetMenuBar(menubar)\n",
    "\n",
    "def onAbout(event):\n",
    "    wx.MessageBox(\"메뉴를 사용하는 프로그램입니다.\", \"알림\", wx.OK)\n",
    "frame.Bind(wx.EVT_MENU, onAbout, about)\n",
    "\n",
    "def onExit(event):\n",
    "    frame.Close()\n",
    "frame.Bind(wx.EVT_MENU, onExit, exit)\n",
    "\n",
    "frame.Show(True)\n",
    "app.MainLoop()\n"
   ]
  },
  {
   "cell_type": "code",
   "execution_count": null,
   "metadata": {},
   "outputs": [],
   "source": [
    "# =============== PaintDC  ===============\n",
    "import wx\n",
    "\n",
    "app = wx.App()\n",
    "frame = wx.Frame(None, title = \"wxPython\")\n",
    "\n",
    "def OnPaint(event):\n",
    "    dc = wx.PaintDC(frame)\n",
    "    dc.DrawLine(10, 10, 110, 110)\n",
    "    dc.SetPen(wx.Pen(wx.Colour(255,0,0,0), 6))\n",
    "    dc.SetBrush(wx.Brush(wx.Colour(255,255,0,0)))\n",
    "    dc.DrawCircle(150,60,50)\n",
    "    dc.SetPen(wx.Pen(wx.Colour(0,0,255,0), 3))\n",
    "    dc.SetBrush(wx.Brush(wx.Colour(0,255,0,0)))\n",
    "    dc.DrawRectangle(210, 10, 100, 100)\n",
    "frame.Bind(wx.EVT_PAINT, OnPaint)\n",
    "\n",
    "frame.Show(True)\n",
    "app.MainLoop()"
   ]
  },
  {
   "cell_type": "code",
   "execution_count": null,
   "metadata": {},
   "outputs": [],
   "source": [
    "# =============== gameloop  ===============\n",
    "import pygame\n",
    "import random\n",
    "\n",
    "pygame.init()\n",
    "surface = pygame.display.set_mode((300, 200))\n",
    "clock = pygame.time.Clock()\n",
    "color = pygame.color.Color(128, 128, 128)\n",
    "running = True\n",
    "count = 0\n",
    "\n",
    "while running:\n",
    "    for event in pygame.event.get():\n",
    "        if event.type == pygame.MOUSEBUTTONDOWN:\n",
    "            color.r = random.randint(0, 255)\n",
    "            color.g = random.randint(0, 255)\n",
    "            color.b = random.randint(0, 255)\n",
    "        elif event.type == pygame.QUIT:\n",
    "            running = False\n",
    "\n",
    "    surface.fill(color)\n",
    "    pygame.display.flip()\n",
    "    count += 1\n",
    "    pygame.display.set_caption(str(count))\n",
    "    clock.tick(30)\n",
    "pygame.quit()"
   ]
  },
  {
   "cell_type": "code",
   "execution_count": null,
   "metadata": {},
   "outputs": [],
   "source": [
    "# =============== gameloop2  ===============\n",
    "import pygame\n",
    "\n",
    "pygame.init()\n",
    "surface = pygame.display.set_mode((300, 200))\n",
    "clock = pygame.time.Clock()\n",
    "running = True\n",
    "\n",
    "while running:\n",
    "    for event in pygame.event.get():\n",
    "        if event.type == pygame.QUIT:\n",
    "            running = False\n",
    "\n",
    "    surface.fill(0xffffff)\n",
    "    pygame.display.flip()\n",
    "    clock.tick(30)\n",
    "pygame.quit()"
   ]
  },
  {
   "cell_type": "code",
   "execution_count": null,
   "metadata": {},
   "outputs": [],
   "source": [
    "# =============== gamedraw  ===============\n",
    "import pygame\n",
    "\n",
    "pygame.init()\n",
    "surface = pygame.display.set_mode((400, 200))\n",
    "clock = pygame.time.Clock()\n",
    "running = True\n",
    "\n",
    "while running:\n",
    "    for event in pygame.event.get():\n",
    "        if event.type == pygame.QUIT:\n",
    "            running = False\n",
    "\n",
    "    surface.fill(0xffffff)\n",
    "    pygame.draw.line(surface, 0xff0000, (10, 10), (110,110), 3)\n",
    "    pygame.draw.circle(surface,0x0000ff, (150, 60), 50, 3)\n",
    "    pygame.draw.rect(surface, 0x000000, [(210, 10), (100, 100)], 3)\n",
    "    pygame.display.flip()\n",
    "    clock.tick(30)\n",
    "pygame.quit()"
   ]
  },
  {
   "cell_type": "code",
   "execution_count": null,
   "metadata": {},
   "outputs": [],
   "source": [
    "# =============== gameimage  ===============\n",
    "import pygame\n",
    "\n",
    "pygame.init()\n",
    "surface = pygame.display.set_mode((600, 400))\n",
    "clock = pygame.time.Clock()\n",
    "running = True\n",
    "\n",
    "img = pygame.image.load(\"flower.jpg\")\n",
    "rect = img.get_rect()\n",
    "rect.y = 20\n",
    "\n",
    "while running:\n",
    "    for event in pygame.event.get():\n",
    "        if event.type == pygame.QUIT:\n",
    "            running = False\n",
    "\n",
    "    surface.fill(0xffffff)\n",
    "    surface.blit(img, rect)\n",
    "    rect.x += 1\n",
    "    pygame.display.flip()\n",
    "    clock.tick(30)\n",
    "pygame.quit()"
   ]
  },
  {
   "cell_type": "code",
   "execution_count": null,
   "metadata": {},
   "outputs": [],
   "source": [
    "# =============== gamesound  ===============\n",
    "import pygame\n",
    "\n",
    "pygame.init()\n",
    "surface = pygame.display.set_mode((400, 300))\n",
    "clock = pygame.time.Clock()\n",
    "running = True\n",
    "\n",
    "gun = pygame.mixer.Sound(\"GUN_SHOT.WAV\")\n",
    "blast = pygame.mixer.Sound(\"BLAST.WAV\")\n",
    "arial = pygame.font.SysFont(\"Arial\", 30)\n",
    "usage = arial.render(\"Press A or B key\", True, (0, 0, 255))\n",
    "\n",
    "while running:\n",
    "    for event in pygame.event.get():\n",
    "        if event.type == pygame.QUIT:\n",
    "            running = False\n",
    "        elif event.type == pygame.KEYDOWN:\n",
    "            if event.key == pygame.K_a:\n",
    "                gun.play()\n",
    "            elif event.key == pygame.K_b:\n",
    "                blast.play()\n",
    "\n",
    "    surface.fill(0xffffff)\n",
    "    surface.blit(usage, (100, 100))\n",
    "    pygame.display.flip()\n",
    "    clock.tick(30)\n",
    "pygame.quit()"
   ]
  },
  {
   "cell_type": "code",
   "execution_count": null,
   "metadata": {},
   "outputs": [],
   "source": []
  },
  {
   "cell_type": "code",
   "execution_count": null,
   "metadata": {},
   "outputs": [],
   "source": []
  },
  {
   "cell_type": "code",
   "execution_count": null,
   "metadata": {},
   "outputs": [],
   "source": []
  },
  {
   "cell_type": "code",
   "execution_count": null,
   "metadata": {},
   "outputs": [],
   "source": []
  },
  {
   "cell_type": "code",
   "execution_count": null,
   "metadata": {},
   "outputs": [],
   "source": []
  },
  {
   "cell_type": "code",
   "execution_count": null,
   "metadata": {},
   "outputs": [],
   "source": []
  },
  {
   "cell_type": "code",
   "execution_count": null,
   "metadata": {},
   "outputs": [],
   "source": []
  },
  {
   "cell_type": "code",
   "execution_count": null,
   "metadata": {},
   "outputs": [],
   "source": []
  },
  {
   "cell_type": "code",
   "execution_count": null,
   "metadata": {},
   "outputs": [],
   "source": []
  },
  {
   "cell_type": "code",
   "execution_count": null,
   "metadata": {},
   "outputs": [],
   "source": []
  },
  {
   "cell_type": "code",
   "execution_count": null,
   "metadata": {},
   "outputs": [],
   "source": []
  },
  {
   "cell_type": "code",
   "execution_count": null,
   "metadata": {},
   "outputs": [],
   "source": []
  },
  {
   "cell_type": "code",
   "execution_count": null,
   "metadata": {},
   "outputs": [],
   "source": []
  },
  {
   "cell_type": "code",
   "execution_count": null,
   "metadata": {},
   "outputs": [],
   "source": []
  },
  {
   "cell_type": "code",
   "execution_count": null,
   "metadata": {},
   "outputs": [],
   "source": []
  },
  {
   "cell_type": "code",
   "execution_count": null,
   "metadata": {},
   "outputs": [],
   "source": []
  },
  {
   "cell_type": "code",
   "execution_count": null,
   "metadata": {},
   "outputs": [],
   "source": []
  },
  {
   "cell_type": "code",
   "execution_count": null,
   "metadata": {},
   "outputs": [],
   "source": []
  },
  {
   "cell_type": "code",
   "execution_count": null,
   "metadata": {},
   "outputs": [],
   "source": []
  },
  {
   "cell_type": "code",
   "execution_count": null,
   "metadata": {},
   "outputs": [],
   "source": []
  },
  {
   "cell_type": "code",
   "execution_count": null,
   "metadata": {},
   "outputs": [],
   "source": []
  },
  {
   "cell_type": "code",
   "execution_count": null,
   "metadata": {},
   "outputs": [],
   "source": []
  },
  {
   "cell_type": "code",
   "execution_count": null,
   "metadata": {},
   "outputs": [],
   "source": []
  },
  {
   "cell_type": "code",
   "execution_count": null,
   "metadata": {},
   "outputs": [],
   "source": []
  },
  {
   "cell_type": "code",
   "execution_count": null,
   "metadata": {},
   "outputs": [],
   "source": []
  }
 ],
 "metadata": {
  "kernelspec": {
   "display_name": "Python 3",
   "language": "python",
   "name": "python3"
  },
  "language_info": {
   "codemirror_mode": {
    "name": "ipython",
    "version": 3
   },
   "file_extension": ".py",
   "mimetype": "text/x-python",
   "name": "python",
   "nbconvert_exporter": "python",
   "pygments_lexer": "ipython3",
   "version": "3.8.5"
  }
 },
 "nbformat": 4,
 "nbformat_minor": 4
}
